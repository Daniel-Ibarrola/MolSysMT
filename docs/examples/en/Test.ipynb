{
 "cells": [
  {
   "cell_type": "code",
   "execution_count": 1,
   "metadata": {},
   "outputs": [],
   "source": [
    "%load_ext autoreload\n",
    "%autoreload 2"
   ]
  },
  {
   "cell_type": "code",
   "execution_count": 2,
   "metadata": {},
   "outputs": [
    {
     "name": "stderr",
     "output_type": "stream",
     "text": [
      "/home/diego/Myopt/miniconda3/envs/UIBCDF_lab_dev/lib/python3.7/site-packages/yank/experiment.py:1170: YAMLLoadWarning: calling yaml.load() without Loader=... is deprecated, as the default Loader is unsafe. Please read https://msg.pyyaml.org/load for full details.\n",
      "  \"\"\")\n"
     ]
    },
    {
     "data": {
      "application/vnd.jupyter.widget-view+json": {
       "model_id": "1bec11df51334520af06462fc6b1e695",
       "version_major": 2,
       "version_minor": 0
      },
      "text/plain": [
       "_ColormakerRegistry()"
      ]
     },
     "metadata": {},
     "output_type": "display_data"
    }
   ],
   "source": [
    "import molmodmt as m3t"
   ]
  },
  {
   "cell_type": "code",
   "execution_count": null,
   "metadata": {},
   "outputs": [],
   "source": [
    "#molmod_test = m3t.load('1brs.pdb', to_form='mdtraj.Trajectory')"
   ]
  },
  {
   "cell_type": "code",
   "execution_count": null,
   "metadata": {},
   "outputs": [],
   "source": [
    "#m3t.convert('mmtf:1tcd', '1tcd.mmtf')"
   ]
  },
  {
   "cell_type": "code",
   "execution_count": null,
   "metadata": {},
   "outputs": [],
   "source": [
    "aa = m3t.convert('1tcd.pdb', 'mdtraj.Trajectory')"
   ]
  },
  {
   "cell_type": "code",
   "execution_count": null,
   "metadata": {},
   "outputs": [],
   "source": [
    "bb = m3t.convert(aa, 'molmodmt.MolMod')"
   ]
  },
  {
   "cell_type": "code",
   "execution_count": null,
   "metadata": {},
   "outputs": [],
   "source": [
    "molmod_test = m3t.load('1tcd.mmtf')"
   ]
  },
  {
   "cell_type": "code",
   "execution_count": null,
   "metadata": {},
   "outputs": [],
   "source": [
    "m3t.info(molmod_test)"
   ]
  },
  {
   "cell_type": "code",
   "execution_count": 5,
   "metadata": {},
   "outputs": [],
   "source": [
    "from molmodmt.native import DataFrame"
   ]
  },
  {
   "cell_type": "code",
   "execution_count": 6,
   "metadata": {},
   "outputs": [],
   "source": [
    "aa = DataFrame()"
   ]
  },
  {
   "cell_type": "code",
   "execution_count": 7,
   "metadata": {},
   "outputs": [
    {
     "data": {
      "text/html": [
       "<div>\n",
       "<style scoped>\n",
       "    .dataframe tbody tr th:only-of-type {\n",
       "        vertical-align: middle;\n",
       "    }\n",
       "\n",
       "    .dataframe tbody tr th {\n",
       "        vertical-align: top;\n",
       "    }\n",
       "\n",
       "    .dataframe thead th {\n",
       "        text-align: right;\n",
       "    }\n",
       "</style>\n",
       "<table border=\"1\" class=\"dataframe\">\n",
       "  <thead>\n",
       "    <tr style=\"text-align: right;\">\n",
       "      <th></th>\n",
       "      <th>atom.index</th>\n",
       "      <th>atom.name</th>\n",
       "      <th>atom.id</th>\n",
       "      <th>atom.type</th>\n",
       "      <th>atom.element</th>\n",
       "      <th>group.index</th>\n",
       "      <th>group.name</th>\n",
       "      <th>group.id</th>\n",
       "      <th>group.type</th>\n",
       "      <th>component.index</th>\n",
       "      <th>...</th>\n",
       "      <th>molecule.id</th>\n",
       "      <th>molecule.type</th>\n",
       "      <th>entity.index</th>\n",
       "      <th>entity.name</th>\n",
       "      <th>entity.id</th>\n",
       "      <th>entity.type</th>\n",
       "      <th>bioassembly.index</th>\n",
       "      <th>bioassembly.name</th>\n",
       "      <th>bioassembly.id</th>\n",
       "      <th>bioassembly.type</th>\n",
       "    </tr>\n",
       "  </thead>\n",
       "  <tbody>\n",
       "  </tbody>\n",
       "</table>\n",
       "<p>0 rows × 29 columns</p>\n",
       "</div>"
      ],
      "text/plain": [
       "Empty DataFrame\n",
       "Columns: [atom.index, atom.name, atom.id, atom.type, atom.element, group.index, group.name, group.id, group.type, component.index, component.name, component.id, component.type, chain.index, chain.name, chain.id, chain.type, molecule.index, molecule.name, molecule.id, molecule.type, entity.index, entity.name, entity.id, entity.type, bioassembly.index, bioassembly.name, bioassembly.id, bioassembly.type]\n",
       "Index: []\n",
       "\n",
       "[0 rows x 29 columns]"
      ]
     },
     "execution_count": 7,
     "metadata": {},
     "output_type": "execute_result"
    }
   ],
   "source": [
    "aa"
   ]
  },
  {
   "cell_type": "code",
   "execution_count": 9,
   "metadata": {},
   "outputs": [
    {
     "name": "stdout",
     "output_type": "stream",
     "text": [
      "Index(['atom.index', 'atom.name', 'atom.id', 'atom.type', 'atom.element',\n",
      "       'group.index', 'group.name', 'group.id', 'group.type',\n",
      "       'component.index', 'component.name', 'component.id', 'component.type',\n",
      "       'chain.index', 'chain.name', 'chain.id', 'chain.type', 'molecule.index',\n",
      "       'molecule.name', 'molecule.id', 'molecule.type', 'entity.index',\n",
      "       'entity.name', 'entity.id', 'entity.type', 'bioassembly.index',\n",
      "       'bioassembly.name', 'bioassembly.id', 'bioassembly.type'],\n",
      "      dtype='object')\n"
     ]
    }
   ],
   "source": [
    "print(aa.columns)"
   ]
  },
  {
   "cell_type": "code",
   "execution_count": null,
   "metadata": {},
   "outputs": [],
   "source": []
  }
 ],
 "metadata": {
  "kernelspec": {
   "display_name": "Python 3",
   "language": "python",
   "name": "python3"
  },
  "language_info": {
   "codemirror_mode": {
    "name": "ipython",
    "version": 3
   },
   "file_extension": ".py",
   "mimetype": "text/x-python",
   "name": "python",
   "nbconvert_exporter": "python",
   "pygments_lexer": "ipython3",
   "version": "3.7.4"
  }
 },
 "nbformat": 4,
 "nbformat_minor": 4
}
