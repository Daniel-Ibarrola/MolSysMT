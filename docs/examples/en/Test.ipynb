{
 "cells": [
  {
   "cell_type": "code",
   "execution_count": 1,
   "metadata": {},
   "outputs": [],
   "source": [
    "%load_ext autoreload\n",
    "%autoreload 2"
   ]
  },
  {
   "cell_type": "code",
   "execution_count": 2,
   "metadata": {},
   "outputs": [
    {
     "name": "stderr",
     "output_type": "stream",
     "text": [
      "/home/diego/Myopt/miniconda3/envs/UIBCDF_lab_dev/lib/python3.7/site-packages/yank/experiment.py:1170: YAMLLoadWarning: calling yaml.load() without Loader=... is deprecated, as the default Loader is unsafe. Please read https://msg.pyyaml.org/load for full details.\n",
      "  \"\"\")\n"
     ]
    },
    {
     "data": {
      "application/vnd.jupyter.widget-view+json": {
       "model_id": "a74e671f96fa4498971c03d5edad7b46",
       "version_major": 2,
       "version_minor": 0
      },
      "text/plain": [
       "_ColormakerRegistry()"
      ]
     },
     "metadata": {},
     "output_type": "display_data"
    }
   ],
   "source": [
    "import molmodmt as m3t"
   ]
  },
  {
   "cell_type": "code",
   "execution_count": null,
   "metadata": {},
   "outputs": [],
   "source": [
    "from molmodmt.native.io.composition.mmtf_Decoder import import_mmtf_Decoder"
   ]
  },
  {
   "cell_type": "code",
   "execution_count": 3,
   "metadata": {},
   "outputs": [],
   "source": [
    "m3t.convert('pdb:1tcd', to_form='1tcd.pdb')"
   ]
  },
  {
   "cell_type": "code",
   "execution_count": 5,
   "metadata": {},
   "outputs": [],
   "source": [
    "aa = m3t.convert('mmtf:1tcd', to_form='mmtf.MMTFDecoder')"
   ]
  },
  {
   "cell_type": "code",
   "execution_count": 6,
   "metadata": {},
   "outputs": [
    {
     "data": {
      "text/plain": [
       "[{'groupName': 'ASN',\n",
       "  'atomNameList': ['N', 'CA', 'C', 'O', 'CB', 'CG', 'OD1', 'ND2'],\n",
       "  'elementList': ['N', 'C', 'C', 'O', 'C', 'C', 'O', 'N'],\n",
       "  'bondOrderList': [1, 1, 2, 1, 1, 2, 1],\n",
       "  'bondAtomList': [1, 0, 2, 1, 3, 2, 4, 1, 5, 4, 6, 5, 7, 5],\n",
       "  'formalChargeList': [0, 0, 0, 0, 0, 0, 0, 0],\n",
       "  'singleLetterCode': 'N',\n",
       "  'chemCompType': 'L-PEPTIDE LINKING'},\n",
       " {'groupName': 'VAL',\n",
       "  'atomNameList': ['N', 'CA', 'C', 'O', 'CB', 'CG1', 'CG2'],\n",
       "  'elementList': ['N', 'C', 'C', 'O', 'C', 'C', 'C'],\n",
       "  'bondOrderList': [1, 1, 2, 1, 1, 1],\n",
       "  'bondAtomList': [1, 0, 2, 1, 3, 2, 4, 1, 5, 4, 6, 4],\n",
       "  'formalChargeList': [0, 0, 0, 0, 0, 0, 0],\n",
       "  'singleLetterCode': 'V',\n",
       "  'chemCompType': 'L-PEPTIDE LINKING'},\n",
       " {'groupName': 'LYS',\n",
       "  'atomNameList': ['N', 'CA', 'C', 'O', 'CB', 'CG', 'CD', 'CE', 'NZ'],\n",
       "  'elementList': ['N', 'C', 'C', 'O', 'C', 'C', 'C', 'C', 'N'],\n",
       "  'bondOrderList': [1, 1, 2, 1, 1, 1, 1, 1],\n",
       "  'bondAtomList': [1, 0, 2, 1, 3, 2, 4, 1, 5, 4, 6, 5, 7, 6, 8, 7],\n",
       "  'formalChargeList': [0, 0, 0, 0, 0, 0, 0, 0, 1],\n",
       "  'singleLetterCode': 'K',\n",
       "  'chemCompType': 'L-PEPTIDE LINKING'},\n",
       " {'groupName': 'CYS',\n",
       "  'atomNameList': ['N', 'CA', 'C', 'O', 'CB', 'SG'],\n",
       "  'elementList': ['N', 'C', 'C', 'O', 'C', 'S'],\n",
       "  'bondOrderList': [1, 1, 2, 1, 1],\n",
       "  'bondAtomList': [1, 0, 2, 1, 3, 2, 4, 1, 5, 4],\n",
       "  'formalChargeList': [0, 0, 0, 0, 0, 0],\n",
       "  'singleLetterCode': 'C',\n",
       "  'chemCompType': 'L-PEPTIDE LINKING'},\n",
       " {'groupName': 'HOH',\n",
       "  'atomNameList': ['O'],\n",
       "  'elementList': ['O'],\n",
       "  'bondOrderList': [],\n",
       "  'bondAtomList': [],\n",
       "  'formalChargeList': [0],\n",
       "  'singleLetterCode': '?',\n",
       "  'chemCompType': 'NON-POLYMER'},\n",
       " {'groupName': 'LEU',\n",
       "  'atomNameList': ['N', 'CA', 'C', 'O', 'CB', 'CG', 'CD1', 'CD2'],\n",
       "  'elementList': ['N', 'C', 'C', 'O', 'C', 'C', 'C', 'C'],\n",
       "  'bondOrderList': [1, 1, 2, 1, 1, 1, 1],\n",
       "  'bondAtomList': [1, 0, 2, 1, 3, 2, 4, 1, 5, 4, 6, 5, 7, 5],\n",
       "  'formalChargeList': [0, 0, 0, 0, 0, 0, 0, 0],\n",
       "  'singleLetterCode': 'L',\n",
       "  'chemCompType': 'L-PEPTIDE LINKING'},\n",
       " {'groupName': 'MET',\n",
       "  'atomNameList': ['N', 'CA', 'C', 'O', 'CB', 'CG', 'SD', 'CE'],\n",
       "  'elementList': ['N', 'C', 'C', 'O', 'C', 'C', 'S', 'C'],\n",
       "  'bondOrderList': [1, 1, 2, 1, 1, 1, 1],\n",
       "  'bondAtomList': [1, 0, 2, 1, 3, 2, 4, 1, 5, 4, 6, 5, 7, 6],\n",
       "  'formalChargeList': [0, 0, 0, 0, 0, 0, 0, 0],\n",
       "  'singleLetterCode': 'M',\n",
       "  'chemCompType': 'L-PEPTIDE LINKING'},\n",
       " {'groupName': 'PRO',\n",
       "  'atomNameList': ['N', 'CA', 'C', 'O', 'CB', 'CG', 'CD'],\n",
       "  'elementList': ['N', 'C', 'C', 'O', 'C', 'C', 'C'],\n",
       "  'bondOrderList': [1, 1, 2, 1, 1, 1, 1],\n",
       "  'bondAtomList': [1, 0, 2, 1, 3, 2, 4, 1, 5, 4, 6, 0, 6, 5],\n",
       "  'formalChargeList': [0, 0, 0, 0, 0, 0, 0],\n",
       "  'singleLetterCode': 'P',\n",
       "  'chemCompType': 'L-PEPTIDE LINKING'},\n",
       " {'groupName': 'HIS',\n",
       "  'atomNameList': ['N',\n",
       "   'CA',\n",
       "   'C',\n",
       "   'O',\n",
       "   'CB',\n",
       "   'CG',\n",
       "   'ND1',\n",
       "   'CD2',\n",
       "   'CE1',\n",
       "   'NE2'],\n",
       "  'elementList': ['N', 'C', 'C', 'O', 'C', 'C', 'N', 'C', 'C', 'N'],\n",
       "  'bondOrderList': [1, 1, 2, 1, 1, 1, 2, 2, 1, 1],\n",
       "  'bondAtomList': [1, 0, 2, 1, 3, 2, 4, 1, 5, 4, 6, 5, 7, 5, 8, 6, 9, 7, 9, 8],\n",
       "  'formalChargeList': [0, 0, 0, 0, 0, 0, 1, 0, 0, 0],\n",
       "  'singleLetterCode': 'H',\n",
       "  'chemCompType': 'L-PEPTIDE LINKING'},\n",
       " {'groupName': 'ARG',\n",
       "  'atomNameList': ['N',\n",
       "   'CA',\n",
       "   'C',\n",
       "   'O',\n",
       "   'CB',\n",
       "   'CG',\n",
       "   'CD',\n",
       "   'NE',\n",
       "   'CZ',\n",
       "   'NH1',\n",
       "   'NH2'],\n",
       "  'elementList': ['N', 'C', 'C', 'O', 'C', 'C', 'C', 'N', 'C', 'N', 'N'],\n",
       "  'bondOrderList': [1, 1, 2, 1, 1, 1, 1, 1, 1, 2],\n",
       "  'bondAtomList': [1,\n",
       "   0,\n",
       "   2,\n",
       "   1,\n",
       "   3,\n",
       "   2,\n",
       "   4,\n",
       "   1,\n",
       "   5,\n",
       "   4,\n",
       "   6,\n",
       "   5,\n",
       "   7,\n",
       "   6,\n",
       "   8,\n",
       "   7,\n",
       "   9,\n",
       "   8,\n",
       "   10,\n",
       "   8],\n",
       "  'formalChargeList': [0, 0, 0, 0, 0, 0, 0, 0, 0, 0, 1],\n",
       "  'singleLetterCode': 'R',\n",
       "  'chemCompType': 'L-PEPTIDE LINKING'},\n",
       " {'groupName': 'GLY',\n",
       "  'atomNameList': ['N', 'CA', 'C', 'O'],\n",
       "  'elementList': ['N', 'C', 'C', 'O'],\n",
       "  'bondOrderList': [1, 1, 2],\n",
       "  'bondAtomList': [1, 0, 2, 1, 3, 2],\n",
       "  'formalChargeList': [0, 0, 0, 0],\n",
       "  'singleLetterCode': 'G',\n",
       "  'chemCompType': 'PEPTIDE LINKING'},\n",
       " {'groupName': 'GLU',\n",
       "  'atomNameList': ['N', 'CA', 'C', 'O', 'CB', 'CG', 'CD', 'OE1', 'OE2'],\n",
       "  'elementList': ['N', 'C', 'C', 'O', 'C', 'C', 'C', 'O', 'O'],\n",
       "  'bondOrderList': [1, 1, 2, 1, 1, 1, 2, 1],\n",
       "  'bondAtomList': [1, 0, 2, 1, 3, 2, 4, 1, 5, 4, 6, 5, 7, 6, 8, 6],\n",
       "  'formalChargeList': [0, 0, 0, 0, 0, 0, 0, 0, 0],\n",
       "  'singleLetterCode': 'E',\n",
       "  'chemCompType': 'L-PEPTIDE LINKING'},\n",
       " {'groupName': 'LYS',\n",
       "  'atomNameList': ['N', 'CA', 'C', 'O', 'CB', 'CG', 'CD', 'CE', 'NZ', 'OXT'],\n",
       "  'elementList': ['N', 'C', 'C', 'O', 'C', 'C', 'C', 'C', 'N', 'O'],\n",
       "  'bondOrderList': [1, 1, 2, 1, 1, 1, 1, 1, 1],\n",
       "  'bondAtomList': [1, 0, 2, 1, 3, 2, 4, 1, 5, 4, 6, 5, 7, 6, 8, 7, 9, 2],\n",
       "  'formalChargeList': [0, 0, 0, 0, 0, 0, 0, 0, 1, 0],\n",
       "  'singleLetterCode': 'K',\n",
       "  'chemCompType': 'L-PEPTIDE LINKING'},\n",
       " {'groupName': 'ASP',\n",
       "  'atomNameList': ['N', 'CA', 'C', 'O', 'CB', 'CG', 'OD1', 'OD2'],\n",
       "  'elementList': ['N', 'C', 'C', 'O', 'C', 'C', 'O', 'O'],\n",
       "  'bondOrderList': [1, 1, 2, 1, 1, 2, 1],\n",
       "  'bondAtomList': [1, 0, 2, 1, 3, 2, 4, 1, 5, 4, 6, 5, 7, 5],\n",
       "  'formalChargeList': [0, 0, 0, 0, 0, 0, 0, 0],\n",
       "  'singleLetterCode': 'D',\n",
       "  'chemCompType': 'L-PEPTIDE LINKING'},\n",
       " {'groupName': 'TRP',\n",
       "  'atomNameList': ['N',\n",
       "   'CA',\n",
       "   'C',\n",
       "   'O',\n",
       "   'CB',\n",
       "   'CG',\n",
       "   'CD1',\n",
       "   'CD2',\n",
       "   'NE1',\n",
       "   'CE2',\n",
       "   'CE3',\n",
       "   'CZ2',\n",
       "   'CZ3',\n",
       "   'CH2'],\n",
       "  'elementList': ['N',\n",
       "   'C',\n",
       "   'C',\n",
       "   'O',\n",
       "   'C',\n",
       "   'C',\n",
       "   'C',\n",
       "   'C',\n",
       "   'N',\n",
       "   'C',\n",
       "   'C',\n",
       "   'C',\n",
       "   'C',\n",
       "   'C'],\n",
       "  'bondOrderList': [1, 1, 2, 1, 1, 2, 1, 1, 2, 1, 1, 1, 2, 2, 1],\n",
       "  'bondAtomList': [1,\n",
       "   0,\n",
       "   2,\n",
       "   1,\n",
       "   3,\n",
       "   2,\n",
       "   4,\n",
       "   1,\n",
       "   5,\n",
       "   4,\n",
       "   6,\n",
       "   5,\n",
       "   7,\n",
       "   5,\n",
       "   8,\n",
       "   6,\n",
       "   9,\n",
       "   7,\n",
       "   9,\n",
       "   8,\n",
       "   10,\n",
       "   7,\n",
       "   11,\n",
       "   9,\n",
       "   12,\n",
       "   10,\n",
       "   13,\n",
       "   11,\n",
       "   13,\n",
       "   12],\n",
       "  'formalChargeList': [0, 0, 0, 0, 0, 0, 0, 0, 0, 0, 0, 0, 0, 0],\n",
       "  'singleLetterCode': 'W',\n",
       "  'chemCompType': 'L-PEPTIDE LINKING'},\n",
       " {'groupName': 'TYR',\n",
       "  'atomNameList': ['N',\n",
       "   'CA',\n",
       "   'C',\n",
       "   'O',\n",
       "   'CB',\n",
       "   'CG',\n",
       "   'CD1',\n",
       "   'CD2',\n",
       "   'CE1',\n",
       "   'CE2',\n",
       "   'CZ',\n",
       "   'OH'],\n",
       "  'elementList': ['N', 'C', 'C', 'O', 'C', 'C', 'C', 'C', 'C', 'C', 'C', 'O'],\n",
       "  'bondOrderList': [1, 1, 2, 1, 1, 2, 1, 1, 2, 2, 1, 1],\n",
       "  'bondAtomList': [1,\n",
       "   0,\n",
       "   2,\n",
       "   1,\n",
       "   3,\n",
       "   2,\n",
       "   4,\n",
       "   1,\n",
       "   5,\n",
       "   4,\n",
       "   6,\n",
       "   5,\n",
       "   7,\n",
       "   5,\n",
       "   8,\n",
       "   6,\n",
       "   9,\n",
       "   7,\n",
       "   10,\n",
       "   8,\n",
       "   10,\n",
       "   9,\n",
       "   11,\n",
       "   10],\n",
       "  'formalChargeList': [0, 0, 0, 0, 0, 0, 0, 0, 0, 0, 0, 0],\n",
       "  'singleLetterCode': 'Y',\n",
       "  'chemCompType': 'L-PEPTIDE LINKING'},\n",
       " {'groupName': 'PHE',\n",
       "  'atomNameList': ['N',\n",
       "   'CA',\n",
       "   'C',\n",
       "   'O',\n",
       "   'CB',\n",
       "   'CG',\n",
       "   'CD1',\n",
       "   'CD2',\n",
       "   'CE1',\n",
       "   'CE2',\n",
       "   'CZ'],\n",
       "  'elementList': ['N', 'C', 'C', 'O', 'C', 'C', 'C', 'C', 'C', 'C', 'C'],\n",
       "  'bondOrderList': [1, 1, 2, 1, 1, 2, 1, 1, 2, 2, 1],\n",
       "  'bondAtomList': [1,\n",
       "   0,\n",
       "   2,\n",
       "   1,\n",
       "   3,\n",
       "   2,\n",
       "   4,\n",
       "   1,\n",
       "   5,\n",
       "   4,\n",
       "   6,\n",
       "   5,\n",
       "   7,\n",
       "   5,\n",
       "   8,\n",
       "   6,\n",
       "   9,\n",
       "   7,\n",
       "   10,\n",
       "   8,\n",
       "   10,\n",
       "   9],\n",
       "  'formalChargeList': [0, 0, 0, 0, 0, 0, 0, 0, 0, 0, 0],\n",
       "  'singleLetterCode': 'F',\n",
       "  'chemCompType': 'L-PEPTIDE LINKING'},\n",
       " {'groupName': 'THR',\n",
       "  'atomNameList': ['N', 'CA', 'C', 'O', 'CB', 'OG1', 'CG2'],\n",
       "  'elementList': ['N', 'C', 'C', 'O', 'C', 'O', 'C'],\n",
       "  'bondOrderList': [1, 1, 2, 1, 1, 1],\n",
       "  'bondAtomList': [1, 0, 2, 1, 3, 2, 4, 1, 5, 4, 6, 4],\n",
       "  'formalChargeList': [0, 0, 0, 0, 0, 0, 0],\n",
       "  'singleLetterCode': 'T',\n",
       "  'chemCompType': 'L-PEPTIDE LINKING'},\n",
       " {'groupName': 'SER',\n",
       "  'atomNameList': ['N', 'CA', 'C', 'O', 'CB', 'OG'],\n",
       "  'elementList': ['N', 'C', 'C', 'O', 'C', 'O'],\n",
       "  'bondOrderList': [1, 1, 2, 1, 1],\n",
       "  'bondAtomList': [1, 0, 2, 1, 3, 2, 4, 1, 5, 4],\n",
       "  'formalChargeList': [0, 0, 0, 0, 0, 0],\n",
       "  'singleLetterCode': 'S',\n",
       "  'chemCompType': 'L-PEPTIDE LINKING'},\n",
       " {'groupName': 'GLN',\n",
       "  'atomNameList': ['N', 'CA', 'C', 'O', 'CB', 'CG', 'CD', 'OE1', 'NE2'],\n",
       "  'elementList': ['N', 'C', 'C', 'O', 'C', 'C', 'C', 'O', 'N'],\n",
       "  'bondOrderList': [1, 1, 2, 1, 1, 1, 2, 1],\n",
       "  'bondAtomList': [1, 0, 2, 1, 3, 2, 4, 1, 5, 4, 6, 5, 7, 6, 8, 6],\n",
       "  'formalChargeList': [0, 0, 0, 0, 0, 0, 0, 0, 0],\n",
       "  'singleLetterCode': 'Q',\n",
       "  'chemCompType': 'L-PEPTIDE LINKING'},\n",
       " {'groupName': 'ALA',\n",
       "  'atomNameList': ['N', 'CA', 'C', 'O', 'CB'],\n",
       "  'elementList': ['N', 'C', 'C', 'O', 'C'],\n",
       "  'bondOrderList': [1, 1, 2, 1],\n",
       "  'bondAtomList': [1, 0, 2, 1, 3, 2, 4, 1],\n",
       "  'formalChargeList': [0, 0, 0, 0, 0],\n",
       "  'singleLetterCode': 'A',\n",
       "  'chemCompType': 'L-PEPTIDE LINKING'},\n",
       " {'groupName': 'ILE',\n",
       "  'atomNameList': ['N', 'CA', 'C', 'O', 'CB', 'CG1', 'CG2', 'CD1'],\n",
       "  'elementList': ['N', 'C', 'C', 'O', 'C', 'C', 'C', 'C'],\n",
       "  'bondOrderList': [1, 1, 2, 1, 1, 1, 1],\n",
       "  'bondAtomList': [1, 0, 2, 1, 3, 2, 4, 1, 5, 4, 6, 4, 7, 5],\n",
       "  'formalChargeList': [0, 0, 0, 0, 0, 0, 0, 0],\n",
       "  'singleLetterCode': 'I',\n",
       "  'chemCompType': 'L-PEPTIDE LINKING'}]"
      ]
     },
     "execution_count": 6,
     "metadata": {},
     "output_type": "execute_result"
    }
   ],
   "source": []
  },
  {
   "cell_type": "code",
   "execution_count": null,
   "metadata": {},
   "outputs": [],
   "source": [
    "#molecular_model_mmtf = m3t.convert('mmtf:1tcd', to_form='mmtf.MMTFDecoder')"
   ]
  },
  {
   "cell_type": "code",
   "execution_count": null,
   "metadata": {},
   "outputs": [],
   "source": [
    "mmtf = m3t.convert('mmtf:1hv4', to_form='mmtf.MMTFDecoder')"
   ]
  },
  {
   "cell_type": "code",
   "execution_count": null,
   "metadata": {},
   "outputs": [],
   "source": [
    "mmtf.entity_list"
   ]
  },
  {
   "cell_type": "code",
   "execution_count": null,
   "metadata": {},
   "outputs": [],
   "source": [
    "mmtf.group_type_list"
   ]
  },
  {
   "cell_type": "code",
   "execution_count": null,
   "metadata": {},
   "outputs": [],
   "source": [
    "mmtf.group_list"
   ]
  },
  {
   "cell_type": "code",
   "execution_count": null,
   "metadata": {},
   "outputs": [],
   "source": [
    "mmtf.atom_id_list"
   ]
  },
  {
   "cell_type": "code",
   "execution_count": null,
   "metadata": {},
   "outputs": [],
   "source": [
    "len(mmtf.bond_order_list)"
   ]
  },
  {
   "cell_type": "code",
   "execution_count": null,
   "metadata": {},
   "outputs": [],
   "source": [
    "mmtf.num_bonds"
   ]
  },
  {
   "cell_type": "code",
   "execution_count": null,
   "metadata": {},
   "outputs": [],
   "source": [
    "len(mmtf.bond_atom_list)"
   ]
  },
  {
   "cell_type": "code",
   "execution_count": null,
   "metadata": {},
   "outputs": [],
   "source": [
    "1 in mmtf.bond_atom_list"
   ]
  },
  {
   "cell_type": "code",
   "execution_count": null,
   "metadata": {},
   "outputs": [],
   "source": [
    "len(mmtf.atom_id_list)"
   ]
  },
  {
   "cell_type": "code",
   "execution_count": null,
   "metadata": {},
   "outputs": [],
   "source": [
    "aa = ()"
   ]
  },
  {
   "cell_type": "code",
   "execution_count": null,
   "metadata": {},
   "outputs": [],
   "source": [
    "mmtf.group_id_list"
   ]
  },
  {
   "cell_type": "code",
   "execution_count": null,
   "metadata": {},
   "outputs": [],
   "source": [
    "model = import_mmtf_Decoder(mmtf)"
   ]
  },
  {
   "cell_type": "code",
   "execution_count": null,
   "metadata": {},
   "outputs": [],
   "source": []
  },
  {
   "cell_type": "code",
   "execution_count": null,
   "metadata": {},
   "outputs": [],
   "source": [
    "model.n_groups"
   ]
  },
  {
   "cell_type": "code",
   "execution_count": null,
   "metadata": {},
   "outputs": [],
   "source": [
    "model.atom[0].index"
   ]
  },
  {
   "cell_type": "code",
   "execution_count": null,
   "metadata": {},
   "outputs": [],
   "source": [
    "molecular_model_mdtraj = m3t.convert('pdb:1tcd', to_form='mdtraj.Trajectory')"
   ]
  },
  {
   "cell_type": "code",
   "execution_count": null,
   "metadata": {},
   "outputs": [],
   "source": [
    "m3t.info(molecular_model_mdtraj)"
   ]
  },
  {
   "cell_type": "code",
   "execution_count": null,
   "metadata": {},
   "outputs": [],
   "source": [
    "m3t.get(molecular_model_mmtf, n_residues=True)"
   ]
  },
  {
   "cell_type": "code",
   "execution_count": null,
   "metadata": {},
   "outputs": [],
   "source": [
    "np.count(aa.occupancy_list<1.0)"
   ]
  },
  {
   "cell_type": "code",
   "execution_count": null,
   "metadata": {},
   "outputs": [],
   "source": [
    "aa.num_models"
   ]
  },
  {
   "cell_type": "code",
   "execution_count": null,
   "metadata": {},
   "outputs": [],
   "source": [
    "len(aa.bio_assembly)"
   ]
  },
  {
   "cell_type": "code",
   "execution_count": null,
   "metadata": {},
   "outputs": [],
   "source": [
    "mmtf.write_mmtf('nada.mmtf',aa)"
   ]
  },
  {
   "cell_type": "code",
   "execution_count": null,
   "metadata": {},
   "outputs": [],
   "source": [
    "mmtf.write_mmtf()"
   ]
  },
  {
   "cell_type": "code",
   "execution_count": null,
   "metadata": {},
   "outputs": [],
   "source": [
    "bio_assembly = aa.bio_assembly[0]"
   ]
  },
  {
   "cell_type": "code",
   "execution_count": null,
   "metadata": {},
   "outputs": [],
   "source": [
    "len(bio_assembly['transformList'])"
   ]
  },
  {
   "cell_type": "code",
   "execution_count": null,
   "metadata": {},
   "outputs": [],
   "source": [
    "bio_assembly['transformList'][0][]"
   ]
  },
  {
   "cell_type": "code",
   "execution_count": null,
   "metadata": {},
   "outputs": [],
   "source": [
    "import molmodmt as m3t"
   ]
  },
  {
   "cell_type": "code",
   "execution_count": null,
   "metadata": {},
   "outputs": [],
   "source": [
    "m3t.get('pdb:1sux', n_atoms=True)"
   ]
  },
  {
   "cell_type": "code",
   "execution_count": null,
   "metadata": {},
   "outputs": [],
   "source": [
    "m3t.convert('pdb:1sux', '1sux.pdb')"
   ]
  },
  {
   "cell_type": "code",
   "execution_count": null,
   "metadata": {},
   "outputs": [],
   "source": [
    "aa=PDBTrajectoryFile('1sux.pdb')"
   ]
  },
  {
   "cell_type": "code",
   "execution_count": null,
   "metadata": {},
   "outputs": [],
   "source": [
    "aa.topology.n_atoms"
   ]
  },
  {
   "cell_type": "code",
   "execution_count": null,
   "metadata": {},
   "outputs": [],
   "source": [
    "mm=m3t.load('pdb:1sux')"
   ]
  },
  {
   "cell_type": "code",
   "execution_count": null,
   "metadata": {},
   "outputs": [],
   "source": [
    "aa = [0,1,2]\n",
    "bb = [10,11,12]\n",
    "cc = [20,21,22]"
   ]
  },
  {
   "cell_type": "code",
   "execution_count": null,
   "metadata": {},
   "outputs": [],
   "source": [
    "for a, b, c in zip(aa,bb,cc):\n",
    "    print(a,b,c)"
   ]
  },
  {
   "cell_type": "code",
   "execution_count": null,
   "metadata": {},
   "outputs": [],
   "source": []
  }
 ],
 "metadata": {
  "kernelspec": {
   "display_name": "Python 3",
   "language": "python",
   "name": "python3"
  },
  "language_info": {
   "codemirror_mode": {
    "name": "ipython",
    "version": 3
   },
   "file_extension": ".py",
   "mimetype": "text/x-python",
   "name": "python",
   "nbconvert_exporter": "python",
   "pygments_lexer": "ipython3",
   "version": "3.7.4"
  }
 },
 "nbformat": 4,
 "nbformat_minor": 4
}
