{
 "cells": [
  {
   "cell_type": "code",
   "execution_count": 1,
   "metadata": {},
   "outputs": [],
   "source": [
    "%load_ext autoreload\n",
    "%autoreload 2"
   ]
  },
  {
   "cell_type": "code",
   "execution_count": 2,
   "metadata": {},
   "outputs": [
    {
     "name": "stderr",
     "output_type": "stream",
     "text": [
      "/home/diego/Myopt/miniconda3/envs/UIBCDF_lab_dev/lib/python3.7/site-packages/yank/experiment.py:1170: YAMLLoadWarning: calling yaml.load() without Loader=... is deprecated, as the default Loader is unsafe. Please read https://msg.pyyaml.org/load for full details.\n",
      "  \"\"\")\n"
     ]
    },
    {
     "data": {
      "application/vnd.jupyter.widget-view+json": {
       "model_id": "30a7fb903baa4b45998b1dc5e95cf47e",
       "version_major": 2,
       "version_minor": 0
      },
      "text/plain": [
       "_ColormakerRegistry()"
      ]
     },
     "metadata": {},
     "output_type": "display_data"
    }
   ],
   "source": [
    "import molmodmt as m3t"
   ]
  },
  {
   "cell_type": "code",
   "execution_count": 3,
   "metadata": {},
   "outputs": [],
   "source": [
    "#molmod_test = m3t.load('1brs.pdb', to_form='mdtraj.Trajectory')"
   ]
  },
  {
   "cell_type": "code",
   "execution_count": 4,
   "metadata": {},
   "outputs": [],
   "source": [
    "#m3t.convert('mmtf:1tcd', '1tcd.mmtf')"
   ]
  },
  {
   "cell_type": "code",
   "execution_count": 5,
   "metadata": {},
   "outputs": [],
   "source": [
    "molmod_test = m3t.load('1tcd.mmtf')"
   ]
  },
  {
   "cell_type": "code",
   "execution_count": 6,
   "metadata": {},
   "outputs": [
    {
     "data": {
      "text/plain": [
       "0"
      ]
     },
     "execution_count": 6,
     "metadata": {},
     "output_type": "execute_result"
    }
   ],
   "source": [
    "m3t.get(molmod_test, n_small_molecules=True)"
   ]
  },
  {
   "cell_type": "code",
   "execution_count": null,
   "metadata": {},
   "outputs": [],
   "source": [
    "m3t.info(molmod_test)"
   ]
  },
  {
   "cell_type": "code",
   "execution_count": null,
   "metadata": {},
   "outputs": [],
   "source": [
    "molmod_test.composition._dataframe.query('atom_element == [\"N\",\"O\"]')"
   ]
  },
  {
   "cell_type": "code",
   "execution_count": 79,
   "metadata": {},
   "outputs": [],
   "source": [
    "lista = [0,1,2]"
   ]
  },
  {
   "cell_type": "code",
   "execution_count": 95,
   "metadata": {},
   "outputs": [
    {
     "data": {
      "text/html": [
       "<div>\n",
       "<style scoped>\n",
       "    .dataframe tbody tr th:only-of-type {\n",
       "        vertical-align: middle;\n",
       "    }\n",
       "\n",
       "    .dataframe tbody tr th {\n",
       "        vertical-align: top;\n",
       "    }\n",
       "\n",
       "    .dataframe thead th {\n",
       "        text-align: right;\n",
       "    }\n",
       "</style>\n",
       "<table border=\"1\" class=\"dataframe\">\n",
       "  <thead>\n",
       "    <tr style=\"text-align: right;\">\n",
       "      <th></th>\n",
       "      <th>atom_index</th>\n",
       "      <th>atom_name</th>\n",
       "      <th>atom_id</th>\n",
       "      <th>atom_type</th>\n",
       "      <th>atom_element</th>\n",
       "      <th>group_index</th>\n",
       "      <th>group_name</th>\n",
       "      <th>group_id</th>\n",
       "      <th>group_type</th>\n",
       "      <th>component_index</th>\n",
       "      <th>...</th>\n",
       "      <th>molecule_id</th>\n",
       "      <th>molecule_type</th>\n",
       "      <th>entity_index</th>\n",
       "      <th>entity_name</th>\n",
       "      <th>entity_id</th>\n",
       "      <th>entity_type</th>\n",
       "      <th>bioassembly_index</th>\n",
       "      <th>bioassembly_name</th>\n",
       "      <th>bioassembly_id</th>\n",
       "      <th>bioassembly_type</th>\n",
       "    </tr>\n",
       "  </thead>\n",
       "  <tbody>\n",
       "    <tr>\n",
       "      <th>0</th>\n",
       "      <td>0</td>\n",
       "      <td>N</td>\n",
       "      <td>1</td>\n",
       "      <td>N</td>\n",
       "      <td>N</td>\n",
       "      <td>0</td>\n",
       "      <td>LYS</td>\n",
       "      <td>4</td>\n",
       "      <td>aminoacid</td>\n",
       "      <td>0</td>\n",
       "      <td>...</td>\n",
       "      <td>None</td>\n",
       "      <td>protein</td>\n",
       "      <td>0</td>\n",
       "      <td>TRIOSEPHOSPHATE ISOMERASE</td>\n",
       "      <td>None</td>\n",
       "      <td>protein</td>\n",
       "      <td>0</td>\n",
       "      <td>1</td>\n",
       "      <td>None</td>\n",
       "      <td>None</td>\n",
       "    </tr>\n",
       "    <tr>\n",
       "      <th>1</th>\n",
       "      <td>1</td>\n",
       "      <td>CA</td>\n",
       "      <td>2</td>\n",
       "      <td>CA</td>\n",
       "      <td>C</td>\n",
       "      <td>0</td>\n",
       "      <td>LYS</td>\n",
       "      <td>4</td>\n",
       "      <td>aminoacid</td>\n",
       "      <td>0</td>\n",
       "      <td>...</td>\n",
       "      <td>None</td>\n",
       "      <td>protein</td>\n",
       "      <td>0</td>\n",
       "      <td>TRIOSEPHOSPHATE ISOMERASE</td>\n",
       "      <td>None</td>\n",
       "      <td>protein</td>\n",
       "      <td>0</td>\n",
       "      <td>1</td>\n",
       "      <td>None</td>\n",
       "      <td>None</td>\n",
       "    </tr>\n",
       "    <tr>\n",
       "      <th>2</th>\n",
       "      <td>2</td>\n",
       "      <td>C</td>\n",
       "      <td>3</td>\n",
       "      <td>C</td>\n",
       "      <td>C</td>\n",
       "      <td>0</td>\n",
       "      <td>LYS</td>\n",
       "      <td>4</td>\n",
       "      <td>aminoacid</td>\n",
       "      <td>0</td>\n",
       "      <td>...</td>\n",
       "      <td>None</td>\n",
       "      <td>protein</td>\n",
       "      <td>0</td>\n",
       "      <td>TRIOSEPHOSPHATE ISOMERASE</td>\n",
       "      <td>None</td>\n",
       "      <td>protein</td>\n",
       "      <td>0</td>\n",
       "      <td>1</td>\n",
       "      <td>None</td>\n",
       "      <td>None</td>\n",
       "    </tr>\n",
       "  </tbody>\n",
       "</table>\n",
       "<p>3 rows × 29 columns</p>\n",
       "</div>"
      ],
      "text/plain": [
       "   atom_index atom_name  atom_id atom_type atom_element  group_index  \\\n",
       "0           0         N        1         N            N            0   \n",
       "1           1        CA        2        CA            C            0   \n",
       "2           2         C        3         C            C            0   \n",
       "\n",
       "  group_name  group_id group_type  component_index  ... molecule_id  \\\n",
       "0        LYS         4  aminoacid                0  ...        None   \n",
       "1        LYS         4  aminoacid                0  ...        None   \n",
       "2        LYS         4  aminoacid                0  ...        None   \n",
       "\n",
       "  molecule_type entity_index                entity_name entity_id entity_type  \\\n",
       "0       protein            0  TRIOSEPHOSPHATE ISOMERASE      None     protein   \n",
       "1       protein            0  TRIOSEPHOSPHATE ISOMERASE      None     protein   \n",
       "2       protein            0  TRIOSEPHOSPHATE ISOMERASE      None     protein   \n",
       "\n",
       "  bioassembly_index  bioassembly_name bioassembly_id bioassembly_type  \n",
       "0                 0                 1           None             None  \n",
       "1                 0                 1           None             None  \n",
       "2                 0                 1           None             None  \n",
       "\n",
       "[3 rows x 29 columns]"
      ]
     },
     "execution_count": 95,
     "metadata": {},
     "output_type": "execute_result"
    }
   ],
   "source": [
    "molmod_test.composition._dataframe.query('atom_index == @lista')"
   ]
  },
  {
   "cell_type": "code",
   "execution_count": 99,
   "metadata": {},
   "outputs": [
    {
     "data": {
      "text/plain": [
       "array([0, 1, 2])"
      ]
     },
     "execution_count": 99,
     "metadata": {},
     "output_type": "execute_result"
    }
   ],
   "source": [
    "m3t.select(molmod_test, 'atom.index == @lista')"
   ]
  },
  {
   "cell_type": "code",
   "execution_count": null,
   "metadata": {},
   "outputs": [],
   "source": []
  },
  {
   "cell_type": "code",
   "execution_count": 8,
   "metadata": {},
   "outputs": [],
   "source": [
    "lista='patata'"
   ]
  },
  {
   "cell_type": "code",
   "execution_count": null,
   "metadata": {},
   "outputs": [],
   "source": [
    "from inspect import currentframe\n",
    "currentframe(1).f_globals[variable]"
   ]
  },
  {
   "cell_type": "code",
   "execution_count": null,
   "metadata": {},
   "outputs": [],
   "source": []
  },
  {
   "cell_type": "code",
   "execution_count": 58,
   "metadata": {},
   "outputs": [],
   "source": [
    "def get_var():\n",
    "    import inspect\n",
    "    print(inspect.stack()[2])\n",
    "    #print(globals().keys())\n",
    "    return inspect.stack()[2]\n",
    "\n",
    "#def get_get_var(name):\n",
    "#print(inspect.stack()[2][0].f_globals[name])\n",
    "#    get_var(name)"
   ]
  },
  {
   "cell_type": "code",
   "execution_count": 51,
   "metadata": {},
   "outputs": [
    {
     "name": "stdout",
     "output_type": "stream",
     "text": [
      "[0, 1, 2]\n",
      "FrameInfo(frame=<frame at 0x7f93ad4a5870, file '<ipython-input-51-a712cc47466d>', line 1, code <module>>, filename='<ipython-input-51-a712cc47466d>', lineno=1, function='<module>', code_context=[\"get_get_var('lista')\\n\"], index=0)\n"
     ]
    }
   ],
   "source": [
    "get_get_var('lista')"
   ]
  },
  {
   "cell_type": "code",
   "execution_count": 61,
   "metadata": {},
   "outputs": [
    {
     "name": "stdout",
     "output_type": "stream",
     "text": [
      "FrameInfo(frame=<frame at 0x55c4eb1ccbb0, file '/home/diego/Myopt/miniconda3/envs/UIBCDF_lab_dev/lib/python3.7/site-packages/IPython/core/interactiveshell.py', line 3326, code run_code>, filename='/home/diego/Myopt/miniconda3/envs/UIBCDF_lab_dev/lib/python3.7/site-packages/IPython/core/interactiveshell.py', lineno=3326, function='run_code', code_context=['                    exec(code_obj, self.user_global_ns, self.user_ns)\\n'], index=0)\n"
     ]
    }
   ],
   "source": [
    "aa = get_var()"
   ]
  },
  {
   "cell_type": "code",
   "execution_count": 71,
   "metadata": {},
   "outputs": [
    {
     "data": {
      "text/plain": [
       "'run_code'"
      ]
     },
     "execution_count": 71,
     "metadata": {},
     "output_type": "execute_result"
    }
   ],
   "source": [
    "aa.function"
   ]
  },
  {
   "cell_type": "code",
   "execution_count": null,
   "metadata": {},
   "outputs": [],
   "source": []
  }
 ],
 "metadata": {
  "kernelspec": {
   "display_name": "Python 3",
   "language": "python",
   "name": "python3"
  },
  "language_info": {
   "codemirror_mode": {
    "name": "ipython",
    "version": 3
   },
   "file_extension": ".py",
   "mimetype": "text/x-python",
   "name": "python",
   "nbconvert_exporter": "python",
   "pygments_lexer": "ipython3",
   "version": "3.7.4"
  }
 },
 "nbformat": 4,
 "nbformat_minor": 4
}
