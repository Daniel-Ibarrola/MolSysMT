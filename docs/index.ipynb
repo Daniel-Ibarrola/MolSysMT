{
 "cells": [
  {
   "cell_type": "markdown",
   "id": "7157b65b-a16f-498e-afa8-30e30cf25c70",
   "metadata": {},
   "source": [
    "# MolSysMT\n",
    "\n",
    "```{image} https://zenodo.org/badge/137937243.svg\n",
    ":target: https://zenodo.org/badge/latestdoi/137937243\n",
    "```\n",
    "\n",
    "```{image} https://anaconda.org/uibcdf/molsysmt/badges/license.svg\n",
    ":target: https://github.com/uibcdf/MolSysMT/blob/master/License\n",
    "```\n",
    "\n",
    "MolSysMT makes the work with molecular models and simulations easy.\n",
    "\n",
    "## Install it\n",
    "\n",
    "```bash\n",
    "conda install -c uibcdf molsysmt\n",
    "```"
   ]
  },
  {
   "cell_type": "markdown",
   "id": "e8223bd1-f36f-4f8f-bca1-73a5ec53832d",
   "metadata": {},
   "source": [
    "## Use it"
   ]
  },
  {
   "cell_type": "code",
   "execution_count": 1,
   "id": "1eb78d05-51ee-4522-b153-8d61363b3436",
   "metadata": {},
   "outputs": [
    {
     "data": {
      "application/vnd.jupyter.widget-view+json": {
       "model_id": "c49da920db974ff88b13388b6b782bd6",
       "version_major": 2,
       "version_minor": 0
      },
      "text/plain": []
     },
     "metadata": {},
     "output_type": "display_data"
    },
    {
     "data": {
      "text/html": [
       "<style type=\"text/css\">\n",
       "</style>\n",
       "<table id=\"T_d9ee5\">\n",
       "  <thead>\n",
       "    <tr>\n",
       "      <th id=\"T_d9ee5_level0_col0\" class=\"col_heading level0 col0\" >index</th>\n",
       "      <th id=\"T_d9ee5_level0_col1\" class=\"col_heading level0 col1\" >name</th>\n",
       "      <th id=\"T_d9ee5_level0_col2\" class=\"col_heading level0 col2\" >type</th>\n",
       "      <th id=\"T_d9ee5_level0_col3\" class=\"col_heading level0 col3\" >n atoms</th>\n",
       "      <th id=\"T_d9ee5_level0_col4\" class=\"col_heading level0 col4\" >n groups</th>\n",
       "      <th id=\"T_d9ee5_level0_col5\" class=\"col_heading level0 col5\" >n components</th>\n",
       "      <th id=\"T_d9ee5_level0_col6\" class=\"col_heading level0 col6\" >chain index</th>\n",
       "      <th id=\"T_d9ee5_level0_col7\" class=\"col_heading level0 col7\" >entity index</th>\n",
       "      <th id=\"T_d9ee5_level0_col8\" class=\"col_heading level0 col8\" >entity name</th>\n",
       "    </tr>\n",
       "  </thead>\n",
       "  <tbody>\n",
       "    <tr>\n",
       "      <td id=\"T_d9ee5_row0_col0\" class=\"data row0 col0\" >0</td>\n",
       "      <td id=\"T_d9ee5_row0_col1\" class=\"data row0 col1\" >Barnase</td>\n",
       "      <td id=\"T_d9ee5_row0_col2\" class=\"data row0 col2\" >protein</td>\n",
       "      <td id=\"T_d9ee5_row0_col3\" class=\"data row0 col3\" >864</td>\n",
       "      <td id=\"T_d9ee5_row0_col4\" class=\"data row0 col4\" >108</td>\n",
       "      <td id=\"T_d9ee5_row0_col5\" class=\"data row0 col5\" >1</td>\n",
       "      <td id=\"T_d9ee5_row0_col6\" class=\"data row0 col6\" >0</td>\n",
       "      <td id=\"T_d9ee5_row0_col7\" class=\"data row0 col7\" >0</td>\n",
       "      <td id=\"T_d9ee5_row0_col8\" class=\"data row0 col8\" >Barnase</td>\n",
       "    </tr>\n",
       "    <tr>\n",
       "      <td id=\"T_d9ee5_row1_col0\" class=\"data row1 col0\" >1</td>\n",
       "      <td id=\"T_d9ee5_row1_col1\" class=\"data row1 col1\" >Barnase</td>\n",
       "      <td id=\"T_d9ee5_row1_col2\" class=\"data row1 col2\" >protein</td>\n",
       "      <td id=\"T_d9ee5_row1_col3\" class=\"data row1 col3\" >878</td>\n",
       "      <td id=\"T_d9ee5_row1_col4\" class=\"data row1 col4\" >110</td>\n",
       "      <td id=\"T_d9ee5_row1_col5\" class=\"data row1 col5\" >1</td>\n",
       "      <td id=\"T_d9ee5_row1_col6\" class=\"data row1 col6\" >1</td>\n",
       "      <td id=\"T_d9ee5_row1_col7\" class=\"data row1 col7\" >0</td>\n",
       "      <td id=\"T_d9ee5_row1_col8\" class=\"data row1 col8\" >Barnase</td>\n",
       "    </tr>\n",
       "    <tr>\n",
       "      <td id=\"T_d9ee5_row2_col0\" class=\"data row2 col0\" >2</td>\n",
       "      <td id=\"T_d9ee5_row2_col1\" class=\"data row2 col1\" >Barnase</td>\n",
       "      <td id=\"T_d9ee5_row2_col2\" class=\"data row2 col2\" >protein</td>\n",
       "      <td id=\"T_d9ee5_row2_col3\" class=\"data row2 col3\" >839</td>\n",
       "      <td id=\"T_d9ee5_row2_col4\" class=\"data row2 col4\" >108</td>\n",
       "      <td id=\"T_d9ee5_row2_col5\" class=\"data row2 col5\" >1</td>\n",
       "      <td id=\"T_d9ee5_row2_col6\" class=\"data row2 col6\" >2</td>\n",
       "      <td id=\"T_d9ee5_row2_col7\" class=\"data row2 col7\" >0</td>\n",
       "      <td id=\"T_d9ee5_row2_col8\" class=\"data row2 col8\" >Barnase</td>\n",
       "    </tr>\n",
       "    <tr>\n",
       "      <td id=\"T_d9ee5_row3_col0\" class=\"data row3 col0\" >3</td>\n",
       "      <td id=\"T_d9ee5_row3_col1\" class=\"data row3 col1\" >Barstar</td>\n",
       "      <td id=\"T_d9ee5_row3_col2\" class=\"data row3 col2\" >protein</td>\n",
       "      <td id=\"T_d9ee5_row3_col3\" class=\"data row3 col3\" >695</td>\n",
       "      <td id=\"T_d9ee5_row3_col4\" class=\"data row3 col4\" >87</td>\n",
       "      <td id=\"T_d9ee5_row3_col5\" class=\"data row3 col5\" >2</td>\n",
       "      <td id=\"T_d9ee5_row3_col6\" class=\"data row3 col6\" >3</td>\n",
       "      <td id=\"T_d9ee5_row3_col7\" class=\"data row3 col7\" >1</td>\n",
       "      <td id=\"T_d9ee5_row3_col8\" class=\"data row3 col8\" >Barstar</td>\n",
       "    </tr>\n",
       "    <tr>\n",
       "      <td id=\"T_d9ee5_row4_col0\" class=\"data row4 col0\" >4</td>\n",
       "      <td id=\"T_d9ee5_row4_col1\" class=\"data row4 col1\" >Barstar</td>\n",
       "      <td id=\"T_d9ee5_row4_col2\" class=\"data row4 col2\" >protein</td>\n",
       "      <td id=\"T_d9ee5_row4_col3\" class=\"data row4 col3\" >665</td>\n",
       "      <td id=\"T_d9ee5_row4_col4\" class=\"data row4 col4\" >86</td>\n",
       "      <td id=\"T_d9ee5_row4_col5\" class=\"data row4 col5\" >2</td>\n",
       "      <td id=\"T_d9ee5_row4_col6\" class=\"data row4 col6\" >4</td>\n",
       "      <td id=\"T_d9ee5_row4_col7\" class=\"data row4 col7\" >1</td>\n",
       "      <td id=\"T_d9ee5_row4_col8\" class=\"data row4 col8\" >Barstar</td>\n",
       "    </tr>\n",
       "    <tr>\n",
       "      <td id=\"T_d9ee5_row5_col0\" class=\"data row5 col0\" >5</td>\n",
       "      <td id=\"T_d9ee5_row5_col1\" class=\"data row5 col1\" >Barstar</td>\n",
       "      <td id=\"T_d9ee5_row5_col2\" class=\"data row5 col2\" >protein</td>\n",
       "      <td id=\"T_d9ee5_row5_col3\" class=\"data row5 col3\" >699</td>\n",
       "      <td id=\"T_d9ee5_row5_col4\" class=\"data row5 col4\" >89</td>\n",
       "      <td id=\"T_d9ee5_row5_col5\" class=\"data row5 col5\" >1</td>\n",
       "      <td id=\"T_d9ee5_row5_col6\" class=\"data row5 col6\" >5</td>\n",
       "      <td id=\"T_d9ee5_row5_col7\" class=\"data row5 col7\" >1</td>\n",
       "      <td id=\"T_d9ee5_row5_col8\" class=\"data row5 col8\" >Barstar</td>\n",
       "    </tr>\n",
       "  </tbody>\n",
       "</table>\n"
      ],
      "text/plain": [
       "<pandas.io.formats.style.Styler at 0x7f35a3c555e0>"
      ]
     },
     "execution_count": 1,
     "metadata": {},
     "output_type": "execute_result"
    }
   ],
   "source": [
    "import molsysmt as msm\n",
    "\n",
    "molsys = msm.convert('1BRS', selection='molecule_type==\"protein\"')\n",
    "\n",
    "msm.info(molsys, element='molecule')"
   ]
  },
  {
   "cell_type": "code",
   "execution_count": 2,
   "id": "0ad5a29f-7576-4abb-b3f9-8c179b9dc944",
   "metadata": {},
   "outputs": [],
   "source": [
    "view = msm.view(molsys)"
   ]
  },
  {
   "cell_type": "code",
   "execution_count": null,
   "id": "7c47562c-800a-4e03-898c-72cb4b35498c",
   "metadata": {},
   "outputs": [],
   "source": [
    "import nglview"
   ]
  },
  {
   "cell_type": "code",
   "execution_count": 10,
   "id": "0f3583a5-bece-4aba-b479-998f21e12661",
   "metadata": {},
   "outputs": [],
   "source": [
    "nglview.write_html('temp.html', view)"
   ]
  },
  {
   "cell_type": "code",
   "execution_count": 4,
   "id": "f71bf8d2-4460-4ed2-a721-4dc0c6adf320",
   "metadata": {},
   "outputs": [],
   "source": [
    "from IPython.display import IFrame"
   ]
  },
  {
   "cell_type": "code",
   "execution_count": 9,
   "id": "4941ae6b-6e85-4b49-9efd-5f8d5150d3cd",
   "metadata": {},
   "outputs": [
    {
     "data": {
      "text/html": [
       "\n",
       "        <iframe\n",
       "            width=\"700\"\n",
       "            height=\"700\"\n",
       "            src=\"temp.html\"\n",
       "            frameborder=\"0\"\n",
       "            allowfullscreen\n",
       "            \n",
       "        ></iframe>\n",
       "        "
      ],
      "text/plain": [
       "<IPython.lib.display.IFrame at 0x7f35a222d220>"
      ]
     },
     "execution_count": 9,
     "metadata": {},
     "output_type": "execute_result"
    }
   ],
   "source": [
    "IFrame(src=\"temp.html\", width=700, height=700)"
   ]
  },
  {
   "cell_type": "markdown",
   "id": "7b9e7ad8-ebdb-48e2-8a96-54a2d0c40788",
   "metadata": {},
   "source": [
    "```{eval-rst}\n",
    ".. toctree::\n",
    "   :name: about\n",
    "   :caption: About\n",
    "   :maxdepth: 2\n",
    "   :hidden:\n",
    "\n",
    "   contents/about/what.md\n",
    "   contents/about/installation.md\n",
    "   contents/about/showcase/index.md\n",
    "   contents/about/citation.md\n",
    "\n",
    ".. toctree::\n",
    "   :name: user_guide\n",
    "   :caption: User Guide\n",
    "   :maxdepth: 2\n",
    "   :hidden:\n",
    "\n",
    "   contents/user/intro/index.md\n",
    "   contents/user/tools/index.md\n",
    "   contents/user/native_forms/index.md\n",
    "\n",
    ".. toctree::\n",
    "   :name: developer_guide\n",
    "   :caption: Developer Guide\n",
    "   :maxdepth: 2\n",
    "   :hidden:\n",
    "\n",
    "   contents/developer/intro/index.md\n",
    "   contents/developer/new_form.ipynb\n",
    "   contents/developer/documentation/index.md\n",
    "\n",
    ".. toctree::\n",
    "   :name: api_doc\n",
    "   :caption: API Documentation\n",
    "   :maxdepth: 1\n",
    "   :hidden:\n",
    "\n",
    "   api_tools.md\n",
    "   api_forms.md\n",
    "   api_thirds.md\n",
    "```\n"
   ]
  },
  {
   "cell_type": "code",
   "execution_count": null,
   "id": "77ec850a-6283-4143-83fd-59ca2c985161",
   "metadata": {},
   "outputs": [],
   "source": []
  }
 ],
 "metadata": {
  "kernelspec": {
   "display_name": "Python 3 (ipykernel)",
   "language": "python",
   "name": "python3"
  },
  "language_info": {
   "codemirror_mode": {
    "name": "ipython",
    "version": 3
   },
   "file_extension": ".py",
   "mimetype": "text/x-python",
   "name": "python",
   "nbconvert_exporter": "python",
   "pygments_lexer": "ipython3",
   "version": "3.9.13"
  }
 },
 "nbformat": 4,
 "nbformat_minor": 5
}
