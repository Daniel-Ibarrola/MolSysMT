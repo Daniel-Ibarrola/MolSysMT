{
 "cells": [
  {
   "cell_type": "code",
   "execution_count": 1,
   "metadata": {},
   "outputs": [],
   "source": [
    "%load_ext autoreload\n",
    "%autoreload 2"
   ]
  },
  {
   "cell_type": "code",
   "execution_count": 3,
   "metadata": {},
   "outputs": [],
   "source": [
    "import molsysmt as msm"
   ]
  },
  {
   "cell_type": "markdown",
   "metadata": {},
   "source": [
    "# Removing atoms and frames from a molecular system"
   ]
  },
  {
   "cell_type": "markdown",
   "metadata": {},
   "source": [
    "## Removing frames"
   ]
  },
  {
   "cell_type": "code",
   "execution_count": 4,
   "metadata": {},
   "outputs": [],
   "source": [
    "molecular_system = msm.convert(msm.test_systems.files['trp-cage.pdb'])"
   ]
  },
  {
   "cell_type": "code",
   "execution_count": 5,
   "metadata": {},
   "outputs": [
    {
     "data": {
      "text/html": [
       "<style  type=\"text/css\" >\n",
       "</style><table id=\"T_e0b35cca_9fdb_11ea_9d59_138aa0afeda7\" ><thead>    <tr>        <th class=\"col_heading level0 col0\" >form</th>        <th class=\"col_heading level0 col1\" >n atoms</th>        <th class=\"col_heading level0 col2\" >n groups</th>        <th class=\"col_heading level0 col3\" >n components</th>        <th class=\"col_heading level0 col4\" >n chains</th>        <th class=\"col_heading level0 col5\" >n molecules</th>        <th class=\"col_heading level0 col6\" >n entities</th>        <th class=\"col_heading level0 col7\" >n frames</th>    </tr></thead><tbody>\n",
       "                <tr>\n",
       "                                <td id=\"T_e0b35cca_9fdb_11ea_9d59_138aa0afeda7row0_col0\" class=\"data row0 col0\" >molsysmt.MolSys</td>\n",
       "                        <td id=\"T_e0b35cca_9fdb_11ea_9d59_138aa0afeda7row0_col1\" class=\"data row0 col1\" >304</td>\n",
       "                        <td id=\"T_e0b35cca_9fdb_11ea_9d59_138aa0afeda7row0_col2\" class=\"data row0 col2\" >20</td>\n",
       "                        <td id=\"T_e0b35cca_9fdb_11ea_9d59_138aa0afeda7row0_col3\" class=\"data row0 col3\" >1</td>\n",
       "                        <td id=\"T_e0b35cca_9fdb_11ea_9d59_138aa0afeda7row0_col4\" class=\"data row0 col4\" >1</td>\n",
       "                        <td id=\"T_e0b35cca_9fdb_11ea_9d59_138aa0afeda7row0_col5\" class=\"data row0 col5\" >1</td>\n",
       "                        <td id=\"T_e0b35cca_9fdb_11ea_9d59_138aa0afeda7row0_col6\" class=\"data row0 col6\" >1</td>\n",
       "                        <td id=\"T_e0b35cca_9fdb_11ea_9d59_138aa0afeda7row0_col7\" class=\"data row0 col7\" >38</td>\n",
       "            </tr>\n",
       "    </tbody></table>"
      ],
      "text/plain": [
       "<pandas.io.formats.style.Styler at 0x7f16120e2b50>"
      ]
     },
     "execution_count": 5,
     "metadata": {},
     "output_type": "execute_result"
    }
   ],
   "source": [
    "msm.info(molecular_system)"
   ]
  },
  {
   "cell_type": "code",
   "execution_count": 6,
   "metadata": {},
   "outputs": [],
   "source": [
    "molecular_system_trimmed = msm.remove(molecular_system, frame_indices=range(1,38))"
   ]
  },
  {
   "cell_type": "code",
   "execution_count": 7,
   "metadata": {},
   "outputs": [
    {
     "data": {
      "text/html": [
       "<style  type=\"text/css\" >\n",
       "</style><table id=\"T_e438da28_9fdb_11ea_9d59_138aa0afeda7\" ><thead>    <tr>        <th class=\"col_heading level0 col0\" >form</th>        <th class=\"col_heading level0 col1\" >n atoms</th>        <th class=\"col_heading level0 col2\" >n groups</th>        <th class=\"col_heading level0 col3\" >n components</th>        <th class=\"col_heading level0 col4\" >n chains</th>        <th class=\"col_heading level0 col5\" >n molecules</th>        <th class=\"col_heading level0 col6\" >n entities</th>        <th class=\"col_heading level0 col7\" >n frames</th>    </tr></thead><tbody>\n",
       "                <tr>\n",
       "                                <td id=\"T_e438da28_9fdb_11ea_9d59_138aa0afeda7row0_col0\" class=\"data row0 col0\" >molsysmt.MolSys</td>\n",
       "                        <td id=\"T_e438da28_9fdb_11ea_9d59_138aa0afeda7row0_col1\" class=\"data row0 col1\" >304</td>\n",
       "                        <td id=\"T_e438da28_9fdb_11ea_9d59_138aa0afeda7row0_col2\" class=\"data row0 col2\" >20</td>\n",
       "                        <td id=\"T_e438da28_9fdb_11ea_9d59_138aa0afeda7row0_col3\" class=\"data row0 col3\" >1</td>\n",
       "                        <td id=\"T_e438da28_9fdb_11ea_9d59_138aa0afeda7row0_col4\" class=\"data row0 col4\" >1</td>\n",
       "                        <td id=\"T_e438da28_9fdb_11ea_9d59_138aa0afeda7row0_col5\" class=\"data row0 col5\" >1</td>\n",
       "                        <td id=\"T_e438da28_9fdb_11ea_9d59_138aa0afeda7row0_col6\" class=\"data row0 col6\" >1</td>\n",
       "                        <td id=\"T_e438da28_9fdb_11ea_9d59_138aa0afeda7row0_col7\" class=\"data row0 col7\" >1</td>\n",
       "            </tr>\n",
       "    </tbody></table>"
      ],
      "text/plain": [
       "<pandas.io.formats.style.Styler at 0x7f1611469610>"
      ]
     },
     "execution_count": 7,
     "metadata": {},
     "output_type": "execute_result"
    }
   ],
   "source": [
    "msm.info(molecular_system_trimmed)"
   ]
  },
  {
   "cell_type": "markdown",
   "metadata": {},
   "source": [
    "## Removing atoms"
   ]
  },
  {
   "cell_type": "code",
   "execution_count": 8,
   "metadata": {},
   "outputs": [],
   "source": [
    "molecular_system = msm.convert(msm.test_systems.files['1tcd.pdb'])"
   ]
  },
  {
   "cell_type": "code",
   "execution_count": 9,
   "metadata": {},
   "outputs": [
    {
     "data": {
      "text/html": [
       "<style  type=\"text/css\" >\n",
       "</style><table id=\"T_e85d2348_9fdb_11ea_9d59_138aa0afeda7\" ><thead>    <tr>        <th class=\"col_heading level0 col0\" >form</th>        <th class=\"col_heading level0 col1\" >n atoms</th>        <th class=\"col_heading level0 col2\" >n groups</th>        <th class=\"col_heading level0 col3\" >n components</th>        <th class=\"col_heading level0 col4\" >n chains</th>        <th class=\"col_heading level0 col5\" >n molecules</th>        <th class=\"col_heading level0 col6\" >n entities</th>        <th class=\"col_heading level0 col7\" >n frames</th>    </tr></thead><tbody>\n",
       "                <tr>\n",
       "                                <td id=\"T_e85d2348_9fdb_11ea_9d59_138aa0afeda7row0_col0\" class=\"data row0 col0\" >molsysmt.MolSys</td>\n",
       "                        <td id=\"T_e85d2348_9fdb_11ea_9d59_138aa0afeda7row0_col1\" class=\"data row0 col1\" >3983</td>\n",
       "                        <td id=\"T_e85d2348_9fdb_11ea_9d59_138aa0afeda7row0_col2\" class=\"data row0 col2\" >662</td>\n",
       "                        <td id=\"T_e85d2348_9fdb_11ea_9d59_138aa0afeda7row0_col3\" class=\"data row0 col3\" >167</td>\n",
       "                        <td id=\"T_e85d2348_9fdb_11ea_9d59_138aa0afeda7row0_col4\" class=\"data row0 col4\" >4</td>\n",
       "                        <td id=\"T_e85d2348_9fdb_11ea_9d59_138aa0afeda7row0_col5\" class=\"data row0 col5\" >1</td>\n",
       "                        <td id=\"T_e85d2348_9fdb_11ea_9d59_138aa0afeda7row0_col6\" class=\"data row0 col6\" >1</td>\n",
       "                        <td id=\"T_e85d2348_9fdb_11ea_9d59_138aa0afeda7row0_col7\" class=\"data row0 col7\" >1</td>\n",
       "            </tr>\n",
       "    </tbody></table>"
      ],
      "text/plain": [
       "<pandas.io.formats.style.Styler at 0x7f1610e1fed0>"
      ]
     },
     "execution_count": 9,
     "metadata": {},
     "output_type": "execute_result"
    }
   ],
   "source": [
    "msm.info(molecular_system)"
   ]
  },
  {
   "cell_type": "code",
   "execution_count": 10,
   "metadata": {},
   "outputs": [],
   "source": [
    "molecular_system_trimmed = msm.remove(molecular_system, selection='chain.index==[1,2,3]')"
   ]
  },
  {
   "cell_type": "code",
   "execution_count": 11,
   "metadata": {},
   "outputs": [
    {
     "data": {
      "text/html": [
       "<style  type=\"text/css\" >\n",
       "</style><table id=\"T_f09e24a8_9fdb_11ea_9d59_138aa0afeda7\" ><thead>    <tr>        <th class=\"col_heading level0 col0\" >form</th>        <th class=\"col_heading level0 col1\" >n atoms</th>        <th class=\"col_heading level0 col2\" >n groups</th>        <th class=\"col_heading level0 col3\" >n components</th>        <th class=\"col_heading level0 col4\" >n chains</th>        <th class=\"col_heading level0 col5\" >n molecules</th>        <th class=\"col_heading level0 col6\" >n entities</th>        <th class=\"col_heading level0 col7\" >n frames</th>    </tr></thead><tbody>\n",
       "                <tr>\n",
       "                                <td id=\"T_f09e24a8_9fdb_11ea_9d59_138aa0afeda7row0_col0\" class=\"data row0 col0\" >molsysmt.MolSys</td>\n",
       "                        <td id=\"T_f09e24a8_9fdb_11ea_9d59_138aa0afeda7row0_col1\" class=\"data row0 col1\" >3818</td>\n",
       "                        <td id=\"T_f09e24a8_9fdb_11ea_9d59_138aa0afeda7row0_col2\" class=\"data row0 col2\" >497</td>\n",
       "                        <td id=\"T_f09e24a8_9fdb_11ea_9d59_138aa0afeda7row0_col3\" class=\"data row0 col3\" >2</td>\n",
       "                        <td id=\"T_f09e24a8_9fdb_11ea_9d59_138aa0afeda7row0_col4\" class=\"data row0 col4\" >2</td>\n",
       "                        <td id=\"T_f09e24a8_9fdb_11ea_9d59_138aa0afeda7row0_col5\" class=\"data row0 col5\" >1</td>\n",
       "                        <td id=\"T_f09e24a8_9fdb_11ea_9d59_138aa0afeda7row0_col6\" class=\"data row0 col6\" >1</td>\n",
       "                        <td id=\"T_f09e24a8_9fdb_11ea_9d59_138aa0afeda7row0_col7\" class=\"data row0 col7\" >1</td>\n",
       "            </tr>\n",
       "    </tbody></table>"
      ],
      "text/plain": [
       "<pandas.io.formats.style.Styler at 0x7f16120e2990>"
      ]
     },
     "execution_count": 11,
     "metadata": {},
     "output_type": "execute_result"
    }
   ],
   "source": [
    "msm.info(molecular_system_trimmed)"
   ]
  },
  {
   "cell_type": "markdown",
   "metadata": {},
   "source": [
    "## Removing hydrogen atoms"
   ]
  },
  {
   "cell_type": "code",
   "execution_count": 18,
   "metadata": {},
   "outputs": [],
   "source": [
    "pdbfile = msm.test_systems.files['trp-cage.pdb']\n",
    "molecular_system = msm.convert(pdbfile, frame_indices=0)"
   ]
  },
  {
   "cell_type": "code",
   "execution_count": 20,
   "metadata": {},
   "outputs": [
    {
     "name": "stdout",
     "output_type": "stream",
     "text": [
      "150 number of hydrogens in the system\n"
     ]
    }
   ],
   "source": [
    "n_Hs = msm.get(molecular_system, selection='atom.type==\"H\"', n_atoms=True)\n",
    "print('{} number of hydrogens in the system'.format(n_Hs))"
   ]
  },
  {
   "cell_type": "code",
   "execution_count": 21,
   "metadata": {},
   "outputs": [],
   "source": [
    "molecular_system = msm.remove_hydrogens(molecular_system)"
   ]
  },
  {
   "cell_type": "code",
   "execution_count": 22,
   "metadata": {},
   "outputs": [
    {
     "name": "stdout",
     "output_type": "stream",
     "text": [
      "0 number of hydrogens in the system\n"
     ]
    }
   ],
   "source": [
    "n_Hs = msm.get(molecular_system, selection='atom.type==\"H\"', n_atoms=True)\n",
    "print('{} number of hydrogens in the system'.format(n_Hs))"
   ]
  },
  {
   "cell_type": "markdown",
   "metadata": {},
   "source": [
    "## Removing the solvent"
   ]
  },
  {
   "cell_type": "code",
   "execution_count": 23,
   "metadata": {},
   "outputs": [],
   "source": [
    "pdbfile = msm.test_systems.files['trp-cage_solvated.pdb']\n",
    "molecular_system = msm.convert(pdbfile, frame_indices=0)"
   ]
  },
  {
   "cell_type": "code",
   "execution_count": 24,
   "metadata": {},
   "outputs": [
    {
     "data": {
      "text/html": [
       "<style  type=\"text/css\" >\n",
       "</style><table id=\"T_bfde1aec_9fe7_11ea_9d59_138aa0afeda7\" ><thead>    <tr>        <th class=\"col_heading level0 col0\" >form</th>        <th class=\"col_heading level0 col1\" >n atoms</th>        <th class=\"col_heading level0 col2\" >n groups</th>        <th class=\"col_heading level0 col3\" >n components</th>        <th class=\"col_heading level0 col4\" >n chains</th>        <th class=\"col_heading level0 col5\" >n molecules</th>        <th class=\"col_heading level0 col6\" >n entities</th>        <th class=\"col_heading level0 col7\" >n frames</th>    </tr></thead><tbody>\n",
       "                <tr>\n",
       "                                <td id=\"T_bfde1aec_9fe7_11ea_9d59_138aa0afeda7row0_col0\" class=\"data row0 col0\" >molsysmt.MolSys</td>\n",
       "                        <td id=\"T_bfde1aec_9fe7_11ea_9d59_138aa0afeda7row0_col1\" class=\"data row0 col1\" >10544</td>\n",
       "                        <td id=\"T_bfde1aec_9fe7_11ea_9d59_138aa0afeda7row0_col2\" class=\"data row0 col2\" >3434</td>\n",
       "                        <td id=\"T_bfde1aec_9fe7_11ea_9d59_138aa0afeda7row0_col3\" class=\"data row0 col3\" >3415</td>\n",
       "                        <td id=\"T_bfde1aec_9fe7_11ea_9d59_138aa0afeda7row0_col4\" class=\"data row0 col4\" >1</td>\n",
       "                        <td id=\"T_bfde1aec_9fe7_11ea_9d59_138aa0afeda7row0_col5\" class=\"data row0 col5\" >1</td>\n",
       "                        <td id=\"T_bfde1aec_9fe7_11ea_9d59_138aa0afeda7row0_col6\" class=\"data row0 col6\" >1</td>\n",
       "                        <td id=\"T_bfde1aec_9fe7_11ea_9d59_138aa0afeda7row0_col7\" class=\"data row0 col7\" >1</td>\n",
       "            </tr>\n",
       "    </tbody></table>"
      ],
      "text/plain": [
       "<pandas.io.formats.style.Styler at 0x7f1611bc5350>"
      ]
     },
     "execution_count": 24,
     "metadata": {},
     "output_type": "execute_result"
    }
   ],
   "source": [
    "msm.info(molecular_system)"
   ]
  },
  {
   "cell_type": "code",
   "execution_count": 26,
   "metadata": {},
   "outputs": [],
   "source": [
    "molecular_system = msm.remove_solvent(molecular_system)"
   ]
  },
  {
   "cell_type": "code",
   "execution_count": 28,
   "metadata": {},
   "outputs": [
    {
     "data": {
      "text/html": [
       "<style  type=\"text/css\" >\n",
       "</style><table id=\"T_6280bcf2_a04a_11ea_9d59_138aa0afeda7\" ><thead>    <tr>        <th class=\"col_heading level0 col0\" >form</th>        <th class=\"col_heading level0 col1\" >n atoms</th>        <th class=\"col_heading level0 col2\" >n groups</th>        <th class=\"col_heading level0 col3\" >n components</th>        <th class=\"col_heading level0 col4\" >n chains</th>        <th class=\"col_heading level0 col5\" >n molecules</th>        <th class=\"col_heading level0 col6\" >n entities</th>        <th class=\"col_heading level0 col7\" >n frames</th>    </tr></thead><tbody>\n",
       "                <tr>\n",
       "                                <td id=\"T_6280bcf2_a04a_11ea_9d59_138aa0afeda7row0_col0\" class=\"data row0 col0\" >molsysmt.MolSys</td>\n",
       "                        <td id=\"T_6280bcf2_a04a_11ea_9d59_138aa0afeda7row0_col1\" class=\"data row0 col1\" >304</td>\n",
       "                        <td id=\"T_6280bcf2_a04a_11ea_9d59_138aa0afeda7row0_col2\" class=\"data row0 col2\" >20</td>\n",
       "                        <td id=\"T_6280bcf2_a04a_11ea_9d59_138aa0afeda7row0_col3\" class=\"data row0 col3\" >1</td>\n",
       "                        <td id=\"T_6280bcf2_a04a_11ea_9d59_138aa0afeda7row0_col4\" class=\"data row0 col4\" >1</td>\n",
       "                        <td id=\"T_6280bcf2_a04a_11ea_9d59_138aa0afeda7row0_col5\" class=\"data row0 col5\" >1</td>\n",
       "                        <td id=\"T_6280bcf2_a04a_11ea_9d59_138aa0afeda7row0_col6\" class=\"data row0 col6\" >1</td>\n",
       "                        <td id=\"T_6280bcf2_a04a_11ea_9d59_138aa0afeda7row0_col7\" class=\"data row0 col7\" >1</td>\n",
       "            </tr>\n",
       "    </tbody></table>"
      ],
      "text/plain": [
       "<pandas.io.formats.style.Styler at 0x7f16120e2450>"
      ]
     },
     "execution_count": 28,
     "metadata": {},
     "output_type": "execute_result"
    }
   ],
   "source": [
    "msm.info(molecular_system)"
   ]
  }
 ],
 "metadata": {
  "kernelspec": {
   "display_name": "Python 3",
   "language": "python",
   "name": "python3"
  },
  "language_info": {
   "codemirror_mode": {
    "name": "ipython",
    "version": 3
   },
   "file_extension": ".py",
   "mimetype": "text/x-python",
   "name": "python",
   "nbconvert_exporter": "python",
   "pygments_lexer": "ipython3",
   "version": "3.7.7"
  }
 },
 "nbformat": 4,
 "nbformat_minor": 4
}
