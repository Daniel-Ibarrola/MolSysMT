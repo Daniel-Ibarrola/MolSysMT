{
 "cells": [
  {
   "cell_type": "code",
   "execution_count": 1,
   "metadata": {},
   "outputs": [],
   "source": [
    "%load_ext autoreload\n",
    "%autoreload 2"
   ]
  },
  {
   "cell_type": "code",
   "execution_count": 2,
   "metadata": {},
   "outputs": [
    {
     "data": {
      "application/vnd.jupyter.widget-view+json": {
       "model_id": "7e7af24eb9b745d59aa07266c3830dbf",
       "version_major": 2,
       "version_minor": 0
      },
      "text/plain": []
     },
     "metadata": {},
     "output_type": "display_data"
    }
   ],
   "source": [
    "import molsysmt as msm"
   ]
  },
  {
   "cell_type": "markdown",
   "metadata": {},
   "source": [
    "# Covalent chains and blocks\n",
    "\n",
    "##  How to get covalent chains\n",
    "Lets load first of all a molecular system to work with in this section:"
   ]
  },
  {
   "cell_type": "code",
   "execution_count": 3,
   "metadata": {},
   "outputs": [],
   "source": [
    "molecular_system = msm.demo_systems.files['1tcd.mmtf']\n",
    "molecular_system = msm.convert(molecular_system)"
   ]
  },
  {
   "cell_type": "code",
   "execution_count": 4,
   "metadata": {},
   "outputs": [
    {
     "data": {
      "text/html": [
       "<style  type=\"text/css\" >\n",
       "</style><table id=\"T_e41f4ace_ebe7_11ea_bb90_e4b318d1f092\" ><thead>    <tr>        <th class=\"col_heading level0 col0\" >form</th>        <th class=\"col_heading level0 col1\" >n_atoms</th>        <th class=\"col_heading level0 col2\" >n_groups</th>        <th class=\"col_heading level0 col3\" >n_components</th>        <th class=\"col_heading level0 col4\" >n_chains</th>        <th class=\"col_heading level0 col5\" >n_molecules</th>        <th class=\"col_heading level0 col6\" >n_entities</th>        <th class=\"col_heading level0 col7\" >n_waters</th>        <th class=\"col_heading level0 col8\" >n_proteins</th>        <th class=\"col_heading level0 col9\" >n_frames</th>    </tr></thead><tbody>\n",
       "                <tr>\n",
       "                                <td id=\"T_e41f4ace_ebe7_11ea_bb90_e4b318d1f092row0_col0\" class=\"data row0 col0\" >molsysmt.MolSys</td>\n",
       "                        <td id=\"T_e41f4ace_ebe7_11ea_bb90_e4b318d1f092row0_col1\" class=\"data row0 col1\" >3983</td>\n",
       "                        <td id=\"T_e41f4ace_ebe7_11ea_bb90_e4b318d1f092row0_col2\" class=\"data row0 col2\" >662</td>\n",
       "                        <td id=\"T_e41f4ace_ebe7_11ea_bb90_e4b318d1f092row0_col3\" class=\"data row0 col3\" >167</td>\n",
       "                        <td id=\"T_e41f4ace_ebe7_11ea_bb90_e4b318d1f092row0_col4\" class=\"data row0 col4\" >4</td>\n",
       "                        <td id=\"T_e41f4ace_ebe7_11ea_bb90_e4b318d1f092row0_col5\" class=\"data row0 col5\" >166</td>\n",
       "                        <td id=\"T_e41f4ace_ebe7_11ea_bb90_e4b318d1f092row0_col6\" class=\"data row0 col6\" >2</td>\n",
       "                        <td id=\"T_e41f4ace_ebe7_11ea_bb90_e4b318d1f092row0_col7\" class=\"data row0 col7\" >165</td>\n",
       "                        <td id=\"T_e41f4ace_ebe7_11ea_bb90_e4b318d1f092row0_col8\" class=\"data row0 col8\" >1</td>\n",
       "                        <td id=\"T_e41f4ace_ebe7_11ea_bb90_e4b318d1f092row0_col9\" class=\"data row0 col9\" >1</td>\n",
       "            </tr>\n",
       "    </tbody></table>"
      ],
      "text/plain": [
       "<pandas.io.formats.style.Styler at 0x7f82f01c28d0>"
      ]
     },
     "execution_count": 4,
     "metadata": {},
     "output_type": "execute_result"
    }
   ],
   "source": [
    "msm.info(molecular_system)"
   ]
  },
  {
   "cell_type": "markdown",
   "metadata": {},
   "source": [
    "MolSysMT includes a method to get all covalent chains found in the molecular system given by a sequence of atom names. To illustrate how the method `molsysmt.covalent_chains` works lets extract all segments of atoms C, N, CA an C covalently bound in this order (C-N-CA-C):"
   ]
  },
  {
   "cell_type": "code",
   "execution_count": 5,
   "metadata": {},
   "outputs": [],
   "source": [
    "covalent_chains =msm.covalent_chains(molecular_system, chain=[\"C\", \"N\", \"CA\", \"C\"],\n",
    "                                     selection=\"component_index==0\")"
   ]
  },
  {
   "cell_type": "code",
   "execution_count": 6,
   "metadata": {},
   "outputs": [
    {
     "data": {
      "text/plain": [
       "(247, 4)"
      ]
     },
     "execution_count": 6,
     "metadata": {},
     "output_type": "execute_result"
    }
   ],
   "source": [
    "covalent_chains.shape"
   ]
  },
  {
   "cell_type": "markdown",
   "metadata": {},
   "source": [
    "The output is a numpy array 2-ranked where the dimension of the first axe or rank is the number of chains found in the system, and the second rank has dimension 4 (since it chain was chosen to have 4 atoms):"
   ]
  },
  {
   "cell_type": "code",
   "execution_count": 7,
   "metadata": {},
   "outputs": [
    {
     "data": {
      "text/plain": [
       "array([[   2,    9,   10,   11],\n",
       "       [  11,   16,   17,   18],\n",
       "       [  18,   25,   26,   27],\n",
       "       ...,\n",
       "       [1877, 1884, 1885, 1886],\n",
       "       [1886, 1889, 1890, 1891],\n",
       "       [1891, 1896, 1897, 1898]])"
      ]
     },
     "execution_count": 7,
     "metadata": {},
     "output_type": "execute_result"
    }
   ],
   "source": [
    "covalent_chains"
   ]
  },
  {
   "cell_type": "markdown",
   "metadata": {},
   "source": [
    "Lets check that the name of the atoms in any of the obtained chains is correct:"
   ]
  },
  {
   "cell_type": "code",
   "execution_count": 8,
   "metadata": {},
   "outputs": [
    {
     "data": {
      "text/plain": [
       "array(['C', 'N', 'CA', 'C'], dtype=object)"
      ]
     },
     "execution_count": 8,
     "metadata": {},
     "output_type": "execute_result"
    }
   ],
   "source": [
    "msm.get(molecular_system, selection=covalent_chains[0], name=True)"
   ]
  },
  {
   "cell_type": "markdown",
   "metadata": {},
   "source": [
    "The atom name specified at each place does not need to be unique, we can introduce variants at any position defining the covalent chain. Lets see for instance how to get all 4 atoms covalent chains where the first three atoms are C-N-CA, in this order, and the fourth atom can either be C or CB:"
   ]
  },
  {
   "cell_type": "code",
   "execution_count": 9,
   "metadata": {},
   "outputs": [],
   "source": [
    "covalent_chains =msm.covalent_chains(molecular_system, chain=[\"C\", \"N\", \"CA\", [\"C\", \"CB\"]],\n",
    "                                                              selection=\"component_index==0\")"
   ]
  },
  {
   "cell_type": "markdown",
   "metadata": {},
   "source": [
    "The covalent chains defining the $\\phi$, $\\psi$, $\\omega$ and , $\\xi_1$ dihedral angles are obtained as follows:"
   ]
  },
  {
   "cell_type": "code",
   "execution_count": 10,
   "metadata": {},
   "outputs": [],
   "source": [
    "# Covalent chains defining all phi dihedral angles in the molecular system\n",
    "phi_chains = msm.covalent_chains(molecular_system, chain=[\"C\", \"N\", \"CA\", \"C\"])"
   ]
  },
  {
   "cell_type": "code",
   "execution_count": 11,
   "metadata": {},
   "outputs": [],
   "source": [
    "# Covalent chains defining all psi dihedral angles in the molecular system\n",
    "psi_chains = msm.covalent_chains(molecular_system, chain=[\"N\", \"CA\", \"C\", \"N\"])"
   ]
  },
  {
   "cell_type": "code",
   "execution_count": 12,
   "metadata": {},
   "outputs": [],
   "source": [
    "# Covalent chains defining all omega dihedral angles in the molecular system\n",
    "omega_chains = msm.covalent_chains(molecular_system, chain=[[\"CA\", \"CH3\"], \"C\", \"N\", [\"CA\", \"CH3\"]])"
   ]
  },
  {
   "cell_type": "code",
   "execution_count": 13,
   "metadata": {},
   "outputs": [],
   "source": [
    "# Covalent chains defining all chi1 dihedral angles in the molecular system\n",
    "chi1_chains = msm.covalent_chains(molecular_system, chain=[\"N\", \"CA\", \"CB\", \"CG\"])"
   ]
  },
  {
   "cell_type": "markdown",
   "metadata": {},
   "source": [
    "## How to get the atoms quartets defining the dihedral angles\n",
    "\n",
    "MolSysMT includes a method to obtain the sets of atoms quartets defining all dihedral angles present in the system given their names. There is no need then to remember the atom names defining the angle $\\phi$, $\\psi$, $\\omega$, or any of the $\\chi$ angles. Lets see how this method works over one of the demo molecular systems:"
   ]
  },
  {
   "cell_type": "code",
   "execution_count": 14,
   "metadata": {},
   "outputs": [],
   "source": [
    "molecular_system = msm.demo_systems.files['1tcd.mmtf']\n",
    "molecular_system = msm.convert(molecular_system)"
   ]
  },
  {
   "cell_type": "markdown",
   "metadata": {},
   "source": [
    "The quartets defining the angles $\\phi$, $\\psi$ or $\\omega$ over the whole system can be obtained as follows:"
   ]
  },
  {
   "cell_type": "code",
   "execution_count": 15,
   "metadata": {},
   "outputs": [],
   "source": [
    "phi_chains = msm.covalent_dihedral_quartets(molecular_system, dihedral_angle='phi')"
   ]
  },
  {
   "cell_type": "code",
   "execution_count": 16,
   "metadata": {},
   "outputs": [
    {
     "name": "stdout",
     "output_type": "stream",
     "text": [
      "[[   2    9   10   11]\n",
      " [  11   16   17   18]\n",
      " [  18   25   26   27]\n",
      " ...\n",
      " [3789 3796 3797 3798]\n",
      " [3798 3801 3802 3803]\n",
      " [3803 3808 3809 3810]]\n"
     ]
    }
   ],
   "source": [
    "print(phi_chains)"
   ]
  },
  {
   "cell_type": "markdown",
   "metadata": {},
   "source": [
    "The search of these quartets can be limited to a specific selection. Lets see how to get the quartes of the $\\psi$ angles in residues 10 to 15:"
   ]
  },
  {
   "cell_type": "code",
   "execution_count": 17,
   "metadata": {},
   "outputs": [],
   "source": [
    "psi_chains = msm.covalent_dihedral_quartets(molecular_system, dihedral_angle='psi',\n",
    "                                            selection='10<=group_index<=15')"
   ]
  },
  {
   "cell_type": "code",
   "execution_count": 18,
   "metadata": {},
   "outputs": [
    {
     "name": "stdout",
     "output_type": "stream",
     "text": [
      "[[ 77  78  79  86]\n",
      " [ 86  87  88  92]\n",
      " [ 92  93  94 100]\n",
      " [100 101 102 104]\n",
      " [104 105 106 110]]\n"
     ]
    }
   ],
   "source": [
    "print(psi_chains)"
   ]
  },
  {
   "cell_type": "markdown",
   "metadata": {},
   "source": [
    "Atoms chains defining $\\chi$ angles can be also extracted. Lets get, for instance, all $\\chi_{5}$ in the system:"
   ]
  },
  {
   "cell_type": "code",
   "execution_count": 19,
   "metadata": {},
   "outputs": [],
   "source": [
    "chi5_chains = msm.covalent_dihedral_quartets(molecular_system, dihedral_angle='chi5')"
   ]
  },
  {
   "cell_type": "code",
   "execution_count": 27,
   "metadata": {},
   "outputs": [
    {
     "data": {
      "text/plain": [
       "(52, 4)"
      ]
     },
     "execution_count": 27,
     "metadata": {},
     "output_type": "execute_result"
    }
   ],
   "source": [
    "np.vstack([chi5_chains, chi5_chains]).shape"
   ]
  },
  {
   "cell_type": "markdown",
   "metadata": {},
   "source": [
    "There's a high number of ARG residues in our system. ARG is the only amino-acide with a $\\chi_{5}$ dihedral angle."
   ]
  },
  {
   "cell_type": "code",
   "execution_count": 20,
   "metadata": {},
   "outputs": [
    {
     "name": "stdout",
     "output_type": "stream",
     "text": [
      "26\n"
     ]
    }
   ],
   "source": [
    "print(chi5_chains.shape[0])"
   ]
  },
  {
   "cell_type": "code",
   "execution_count": 21,
   "metadata": {},
   "outputs": [
    {
     "name": "stdout",
     "output_type": "stream",
     "text": [
      "26\n"
     ]
    }
   ],
   "source": [
    "n_args = msm.get(molecular_system, target='group', selection='group_name==\"ARG\"', n_groups=True)\n",
    "print(n_args)"
   ]
  },
  {
   "cell_type": "markdown",
   "metadata": {},
   "source": [
    "If all dihedral angles needs to be considered, the value 'all' for the input argument `dihedral_angle` returns all atoms quartets for any $\\phi$, $\\psi$, $\\omega$, $\\chi_{1}$, $\\chi_{2}$, $\\chi_{3}$, $\\chi_{4}$ and $\\chi_{5}$ angle:"
   ]
  },
  {
   "cell_type": "code",
   "execution_count": 33,
   "metadata": {},
   "outputs": [],
   "source": [
    "all_angles_chains = msm.covalent_dihedral_quartets(molecular_system, dihedral_angle='all')"
   ]
  },
  {
   "cell_type": "code",
   "execution_count": 34,
   "metadata": {},
   "outputs": [
    {
     "name": "stdout",
     "output_type": "stream",
     "text": [
      "(2480, 4)\n"
     ]
    }
   ],
   "source": [
    "print(all_angles_chains.shape)"
   ]
  },
  {
   "cell_type": "markdown",
   "metadata": {},
   "source": [
    "In the following tables a summary of the dihedral angle definitions are included in this document for future reference. The corresponding string taken by the input argument `dihedral_angle` is written down between parentesis next to each greek letter naming the angle: "
   ]
  },
  {
   "cell_type": "markdown",
   "metadata": {},
   "source": [
    "#### $\\phi$ (`phi`)\n",
    "\n",
    "| Residue | Atoms | Zero value | Range (degrees)|\n",
    "| :---: | :---: | :---: | :---: |\n",
    "| all but PRO | C-N-CA-C | C cis to C | [-180, 180) |\n",
    "| PRO | C-N-CA-C | C cis to C | ~-90 |\n",
    "\n",
    "#### $\\psi$ (`psi`)\n",
    "\n",
    "| Residue | Atoms | Zero value | Range (degrees)|\n",
    "| :---: | :---: | :---: | :---: |\n",
    "| all | N-CA-C-N | N cis to N | [-180, 180) |\n",
    "\n",
    "#### $\\omega$ (`omega`)\n",
    "\n",
    "| Residue | Atoms | Zero value | Range (degrees)|\n",
    "| :---: | :---: | :---: | :---: |\n",
    "| all | CA-C-N-CA | CA cis to CA | ~180 |\n",
    "| all | CH3-C-N-CA | CA cis to CA | ~180 |\n",
    "| all | CA-C-N-CH3 | CA cis to CA | ~180 |\n",
    "\n",
    "#### $\\chi_{1}$ (`chi1`)\n",
    "\n",
    "| Residue | Atoms | Zero value | Range (degrees)|\n",
    "| :---: | :---: | :---: | :---: |\n",
    "| ARG | N-CA-CB-CG | CG cis to N | [-180, 180) |\n",
    "| ASN | N-CA-CB-CG | CG cis to N | [-180, 180) |\n",
    "| ASP | N-CA-CB-CG | CG cis to N | [-180, 180) |\n",
    "| CYS | N-CA-CB-SG | SG cis to N | [-180, 180) |\n",
    "| GLN | N-CA-CB-CG | CG cis to N | [-180, 180) |\n",
    "| GLU | N-CA-CB-CG | CG cis to N | [-180, 180) |\n",
    "| HIS | N-CA-CB-CG | CG cis to N | [-180, 180) |\n",
    "| ILE | N-CA-CB-CG1 | CG1 cis to N | [-180°, 180) |\n",
    "| LEU | N-CA-CB-CG | CG cis to N | [-180, 180) |\n",
    "| LYS | N-CA-CB-CG | CG cis to N | [-180, 180) |\n",
    "| MET | N-CA-CB-CG | CG cis to N | [-180, 180) |\n",
    "| PHE | N-CA-CB-CG | CG cis to N | [-180, 180) |\n",
    "| PRO | N-CA-CB-CG | CG cis to N | CA-CB is part of ring |\n",
    "| SER | N-CA-CB-OG | OG cis to N | [-180, 180) |\n",
    "| THR | N-CA-CB-OG1 | OG1 cis to N | [-180, 180) |\n",
    "| TRP | N-CA-CB-CG | CG cis to N | [-180, 180) |\n",
    "| TYR | N-CA-CB-CG | CG cis to N | [-180, 180) |\n",
    "| VAL | N-CA-CB-CG1 | CG1 cis to N | [-180, 180) |\n",
    "\n",
    "\n",
    "### $\\chi_{2}$ (`chi2`)\n",
    "\n",
    "| Residue | Atoms | Zero value | Range (degrees)|\n",
    "| :---: | :---: | :---: | :---: |\n",
    "| ARG | CA-CB-CG-CD  | CD cis to CA     | [-180, 180) |\n",
    "| ASN | CA-CB-CG-OD1 | OD1 cis to CA    | [-180, 180) |\n",
    "| ASP | CA-CB-CG-OD  | OD1 cis to CA    | [-180, 180) |\n",
    "| GLN | CA-CB-CG-CD  | CD cis to CA     | [-180, 180) |\n",
    "| GLU | CA-CB-CG-CD  | CD cis to CA     | [-180, 180) |\n",
    "| HIS | CA-CB-CG-ND1 | ND1 cis to CA    | [-180, 180) |\n",
    "| ILE | CA-CB-CG1-CD | CD cis to CA     | [-180, 180) |\n",
    "| LEU | CA-CB-CG-CD1 | CD1 cis to CA    | [-180, 180) |\n",
    "| LYS | CA-CB-CG-CD  | CD cis to CA     | [-180, 180) |\n",
    "| MET | CA-CB-CG-SD  | SD cis to CA     | [-180, 180) |\n",
    "| PHE | CA-CB-CG-CD  | CD1 cis to CA    | [-180, 180) |\n",
    "| PRO | CA-CB-CG-CD  | CD cis to CA     | CB-CG is part of ring |\n",
    "| TRP | CA-CB-CG-CD1 | CD1 cis to CA    | [-180, 180) |\n",
    "| TYR | CA-CB-CG-CD1 | CD1 cis to CA    | [-180, 180) |\n",
    "\n",
    "#### $\\chi_{3}$ (`chi3`)\n",
    "\n",
    "| Residue | Atoms | Zero value | Range (degrees)|\n",
    "| :---: | :---: | :---: | :---: |\n",
    "| ARG | CB-CG-CD-NE  | NE cis to CB     | [-180, 180) |\n",
    "| GLN | CB-CG-CD-OE1 | OE1 cis to CB    | [-180, 180) |\n",
    "| GLU | CB-CG-CD-OE1 | OE1 cis to CB    | [-180, 180) |\n",
    "| LYS | CB-CG-CD-CE  | CE cis to CB     | [-180, 180) |\n",
    "| MET | CB-CG-SD-CE  | CE cis to CB     | [-180, 180) |\n",
    "\n",
    "#### $\\chi_{4}$ (`chi4`)\n",
    "\n",
    "| Residue | Atoms | Zero value | Range (degrees)|\n",
    "| :---: | :---: | :---: | :---: |\n",
    "| ARG | CG-CD-NE-CZ | CZ cis to CG      | [-180, 180) |\n",
    "| LYS | CG-CD-CE-NZ | NZ cis to CG      | [-180, 180) |\n",
    "\n",
    "#### $\\chi_{5}$ (`chi5`)\n",
    "\n",
    "| Residue | Atoms | Zero value | Range (degrees)|\n",
    "| :---: | :---: | :---: | :---: |\n",
    "| ARG | CD-NE-CZ-NH1 | NH1 cis to CD    | [-180, 180) |"
   ]
  },
  {
   "cell_type": "markdown",
   "metadata": {},
   "source": [
    "Every dihedral angle is defined in a peptide by three vectors delimited by four consecutive covalently bonded atoms. The vector in the middle defines the orthogonal plane where rotations are defined by the projection of vectors first and third, this way two blocks of atoms change its relative positions: all atoms covalently bonded before and after the second vector in the polymer. Or explained in other words, removing the second vector two sets of covalently bonded atoms are defined. Each of these two atoms sets move in unison when the dihedral angle changes. MolSysMT includes the input argument `with_blocks` for the method `molsysmt.covalent_dihedral_quartets` to return these atoms sets together with the quartets. Lets see how it works with an example:"
   ]
  },
  {
   "cell_type": "code",
   "execution_count": 35,
   "metadata": {},
   "outputs": [],
   "source": [
    "psi_chains, psi_blocks = msm.covalent_dihedral_quartets(molecular_system, dihedral_angle='psi',\n",
    "                                                        with_blocks=True,\n",
    "                                                        selection='group_index==[20,21]')"
   ]
  },
  {
   "cell_type": "markdown",
   "metadata": {},
   "source": [
    "As result, a single quartet is returned with two atoms sets:"
   ]
  },
  {
   "cell_type": "code",
   "execution_count": 36,
   "metadata": {},
   "outputs": [
    {
     "data": {
      "text/plain": [
       "array([148, 149, 150, 155])"
      ]
     },
     "execution_count": 36,
     "metadata": {},
     "output_type": "execute_result"
    }
   ],
   "source": [
    "psi_chains[0]"
   ]
  },
  {
   "cell_type": "markdown",
   "metadata": {},
   "source": [
    "The first block is then the set of atoms:"
   ]
  },
  {
   "cell_type": "code",
   "execution_count": 37,
   "metadata": {},
   "outputs": [
    {
     "name": "stdout",
     "output_type": "stream",
     "text": [
      "{0, 1, 2, 3, 4, 5, 6, 7, 8, 9, 10, 11, 12, 13, 14, 15, 16, 17, 18, 19, 20, 21, 22, 23, 24, 25, 26, 27, 28, 29, 30, 31, 32, 33, 34, 35, 36, 37, 38, 39, 40, 41, 42, 43, 44, 45, 46, 47, 48, 49, 50, 51, 52, 53, 54, 55, 56, 57, 58, 59, 60, 61, 62, 63, 64, 65, 66, 67, 68, 69, 70, 71, 72, 73, 74, 75, 76, 77, 78, 79, 80, 81, 82, 83, 84, 85, 86, 87, 88, 89, 90, 91, 92, 93, 94, 95, 96, 97, 98, 99, 100, 101, 102, 103, 104, 105, 106, 107, 108, 109, 110, 111, 112, 113, 114, 115, 116, 117, 118, 119, 120, 121, 122, 123, 124, 125, 126, 127, 128, 129, 130, 131, 132, 133, 134, 135, 136, 137, 138, 139, 140, 141, 142, 143, 144, 145, 146, 147, 148, 149, 152, 153, 154}\n"
     ]
    }
   ],
   "source": [
    "print(psi_blocks[0][0])"
   ]
  },
  {
   "cell_type": "markdown",
   "metadata": {},
   "source": [
    "And lets see how many atoms make the second block up:"
   ]
  },
  {
   "cell_type": "code",
   "execution_count": 38,
   "metadata": {},
   "outputs": [
    {
     "name": "stdout",
     "output_type": "stream",
     "text": [
      "1753\n"
     ]
    }
   ],
   "source": [
    "print(len(psi_blocks[0][1]))"
   ]
  },
  {
   "cell_type": "markdown",
   "metadata": {},
   "source": [
    "##  How to get covalent blocks\n",
    "\n",
    "In addition to getting the covalent chains, MolSysMT provides with a third method, `molsysmt.covalent_blocks`, to obtain the sets of atoms covalently bonded. In order to illustrate the results given by this method, lets load first of all a molecular system to work with it:"
   ]
  },
  {
   "cell_type": "code",
   "execution_count": 39,
   "metadata": {},
   "outputs": [],
   "source": [
    "molecular_system = msm.demo_systems.metenkephalin()"
   ]
  },
  {
   "cell_type": "markdown",
   "metadata": {},
   "source": [
    "With the molecular system as the only input argument, the output corresponds to the list of sets of atoms covalently bonded."
   ]
  },
  {
   "cell_type": "code",
   "execution_count": 40,
   "metadata": {},
   "outputs": [],
   "source": [
    "blocks = msm.covalent_blocks(molecular_system)"
   ]
  },
  {
   "cell_type": "code",
   "execution_count": 41,
   "metadata": {},
   "outputs": [
    {
     "name": "stdout",
     "output_type": "stream",
     "text": [
      "[{0, 1, 2, 3, 4, 5, 6, 7, 8, 9, 10, 11, 12, 13, 14, 15, 16, 17, 18, 19, 20, 21, 22, 23, 24, 25, 26, 27, 28, 29, 30, 31, 32, 33, 34, 35, 36, 37, 38, 39, 40, 41, 42, 43, 44, 45, 46, 47, 48, 49, 50, 51, 52, 53, 54, 55, 56, 57, 58, 59, 60, 61, 62, 63, 64, 65, 66, 67, 68, 69, 70, 71}]\n"
     ]
    }
   ],
   "source": [
    "print(blocks)"
   ]
  },
  {
   "cell_type": "markdown",
   "metadata": {},
   "source": [
    "This way the method does not offer new information. The result is nothing but the definition of the components in the system. However, using the input argument `remove_bonds` the method turns into a more interesting tool. Lets remove a couple of bonds to see the effect:"
   ]
  },
  {
   "cell_type": "code",
   "execution_count": 42,
   "metadata": {},
   "outputs": [
    {
     "data": {
      "text/plain": [
       "array([[19, 21],\n",
       "       [26, 28],\n",
       "       [33, 35],\n",
       "       [53, 55]])"
      ]
     },
     "execution_count": 42,
     "metadata": {},
     "output_type": "execute_result"
    }
   ],
   "source": [
    "msm.get(molecular_system, target='atom', selection='atom_name==[\"C\", \"N\"]', inner_bonded_atoms=True)"
   ]
  },
  {
   "cell_type": "code",
   "execution_count": 43,
   "metadata": {},
   "outputs": [],
   "source": [
    "blocks = msm.covalent_blocks(molecular_system, remove_bonds=[[19,21],[33,35]])"
   ]
  },
  {
   "cell_type": "code",
   "execution_count": 44,
   "metadata": {},
   "outputs": [
    {
     "name": "stdout",
     "output_type": "stream",
     "text": [
      "[{0, 1, 2, 3, 4, 5, 6, 7, 8, 9, 10, 11, 12, 13, 14, 15, 16, 17, 18, 19, 20}, {32, 33, 34, 21, 22, 23, 24, 25, 26, 27, 28, 29, 30, 31}, {35, 36, 37, 38, 39, 40, 41, 42, 43, 44, 45, 46, 47, 48, 49, 50, 51, 52, 53, 54, 55, 56, 57, 58, 59, 60, 61, 62, 63, 64, 65, 66, 67, 68, 69, 70, 71}]\n"
     ]
    }
   ],
   "source": [
    "print(blocks)"
   ]
  },
  {
   "cell_type": "markdown",
   "metadata": {},
   "source": [
    "The output can also be return as a numpy array:"
   ]
  },
  {
   "cell_type": "code",
   "execution_count": 45,
   "metadata": {},
   "outputs": [],
   "source": [
    "blocks = msm.covalent_blocks(molecular_system, remove_bonds=[[19,21],[33,35]], output_form='array')"
   ]
  },
  {
   "cell_type": "markdown",
   "metadata": {},
   "source": [
    "In this case an array is returned with the index of the block each atom belongs to (0-based):"
   ]
  },
  {
   "cell_type": "code",
   "execution_count": 46,
   "metadata": {},
   "outputs": [
    {
     "name": "stdout",
     "output_type": "stream",
     "text": [
      "[0 0 0 ... 2 2 2]\n"
     ]
    }
   ],
   "source": [
    "print(blocks)"
   ]
  }
 ],
 "metadata": {
  "kernelspec": {
   "display_name": "Python 3",
   "language": "python",
   "name": "python3"
  },
  "language_info": {
   "codemirror_mode": {
    "name": "ipython",
    "version": 3
   },
   "file_extension": ".py",
   "mimetype": "text/x-python",
   "name": "python",
   "nbconvert_exporter": "python",
   "pygments_lexer": "ipython3",
   "version": "3.7.8"
  }
 },
 "nbformat": 4,
 "nbformat_minor": 4
}
