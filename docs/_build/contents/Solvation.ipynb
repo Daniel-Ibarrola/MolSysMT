{
 "cells": [
  {
   "cell_type": "code",
   "execution_count": 1,
   "metadata": {
    "execution": {
     "iopub.execute_input": "2020-12-10T23:04:32.489926Z",
     "iopub.status.busy": "2020-12-10T23:04:32.488781Z",
     "iopub.status.idle": "2020-12-10T23:04:32.502206Z",
     "shell.execute_reply": "2020-12-10T23:04:32.503020Z"
    }
   },
   "outputs": [],
   "source": [
    "%load_ext autoreload\n",
    "%autoreload 2"
   ]
  },
  {
   "cell_type": "code",
   "execution_count": 2,
   "metadata": {
    "execution": {
     "iopub.execute_input": "2020-12-10T23:04:32.508343Z",
     "iopub.status.busy": "2020-12-10T23:04:32.507402Z",
     "iopub.status.idle": "2020-12-10T23:04:33.776532Z",
     "shell.execute_reply": "2020-12-10T23:04:33.777411Z"
    }
   },
   "outputs": [
    {
     "data": {
      "application/vnd.jupyter.widget-view+json": {
       "model_id": "15a9123bdeb24d6385640484e6a191b0",
       "version_major": 2,
       "version_minor": 0
      },
      "text/plain": []
     },
     "metadata": {},
     "output_type": "display_data"
    }
   ],
   "source": [
    "import molsysmt as msm\n",
    "from simtk import unit"
   ]
  },
  {
   "cell_type": "markdown",
   "metadata": {},
   "source": [
    "# Adding solvent"
   ]
  },
  {
   "cell_type": "code",
   "execution_count": 3,
   "metadata": {
    "execution": {
     "iopub.execute_input": "2020-12-10T23:04:33.783190Z",
     "iopub.status.busy": "2020-12-10T23:04:33.782016Z",
     "iopub.status.idle": "2020-12-10T23:04:33.802995Z",
     "shell.execute_reply": "2020-12-10T23:04:33.801582Z"
    }
   },
   "outputs": [],
   "source": [
    "pdbfile = msm.demo_systems.files['metenkephalin.pdb']"
   ]
  },
  {
   "cell_type": "code",
   "execution_count": 4,
   "metadata": {
    "execution": {
     "iopub.execute_input": "2020-12-10T23:04:33.809051Z",
     "iopub.status.busy": "2020-12-10T23:04:33.807979Z",
     "iopub.status.idle": "2020-12-10T23:04:33.869199Z",
     "shell.execute_reply": "2020-12-10T23:04:33.868071Z"
    }
   },
   "outputs": [],
   "source": [
    "molecular_system = msm.convert(pdbfile)"
   ]
  },
  {
   "cell_type": "code",
   "execution_count": 5,
   "metadata": {
    "execution": {
     "iopub.execute_input": "2020-12-10T23:04:33.874152Z",
     "iopub.status.busy": "2020-12-10T23:04:33.873094Z",
     "iopub.status.idle": "2020-12-10T23:04:34.161821Z",
     "shell.execute_reply": "2020-12-10T23:04:34.162720Z"
    }
   },
   "outputs": [
    {
     "data": {
      "text/html": [
       "<style  type=\"text/css\" >\n",
       "</style><table id=\"T_116eede2_3b3c_11eb_a008_1c1b0d075c26\" ><thead>    <tr>        <th class=\"col_heading level0 col0\" >form</th>        <th class=\"col_heading level0 col1\" >n_atoms</th>        <th class=\"col_heading level0 col2\" >n_groups</th>        <th class=\"col_heading level0 col3\" >n_components</th>        <th class=\"col_heading level0 col4\" >n_chains</th>        <th class=\"col_heading level0 col5\" >n_molecules</th>        <th class=\"col_heading level0 col6\" >n_entities</th>        <th class=\"col_heading level0 col7\" >n_peptides</th>        <th class=\"col_heading level0 col8\" >n_frames</th>    </tr></thead><tbody>\n",
       "                <tr>\n",
       "                                <td id=\"T_116eede2_3b3c_11eb_a008_1c1b0d075c26row0_col0\" class=\"data row0 col0\" >molsysmt.MolSys</td>\n",
       "                        <td id=\"T_116eede2_3b3c_11eb_a008_1c1b0d075c26row0_col1\" class=\"data row0 col1\" >72</td>\n",
       "                        <td id=\"T_116eede2_3b3c_11eb_a008_1c1b0d075c26row0_col2\" class=\"data row0 col2\" >5</td>\n",
       "                        <td id=\"T_116eede2_3b3c_11eb_a008_1c1b0d075c26row0_col3\" class=\"data row0 col3\" >1</td>\n",
       "                        <td id=\"T_116eede2_3b3c_11eb_a008_1c1b0d075c26row0_col4\" class=\"data row0 col4\" >1</td>\n",
       "                        <td id=\"T_116eede2_3b3c_11eb_a008_1c1b0d075c26row0_col5\" class=\"data row0 col5\" >1</td>\n",
       "                        <td id=\"T_116eede2_3b3c_11eb_a008_1c1b0d075c26row0_col6\" class=\"data row0 col6\" >1</td>\n",
       "                        <td id=\"T_116eede2_3b3c_11eb_a008_1c1b0d075c26row0_col7\" class=\"data row0 col7\" >1</td>\n",
       "                        <td id=\"T_116eede2_3b3c_11eb_a008_1c1b0d075c26row0_col8\" class=\"data row0 col8\" >1</td>\n",
       "            </tr>\n",
       "    </tbody></table>"
      ],
      "text/plain": [
       "<pandas.io.formats.style.Styler at 0x7f474c81d6d0>"
      ]
     },
     "execution_count": 1,
     "metadata": {},
     "output_type": "execute_result"
    }
   ],
   "source": [
    "msm.info(molecular_system)"
   ]
  },
  {
   "cell_type": "code",
   "execution_count": 6,
   "metadata": {
    "execution": {
     "iopub.execute_input": "2020-12-10T23:04:34.168885Z",
     "iopub.status.busy": "2020-12-10T23:04:34.167828Z",
     "iopub.status.idle": "2020-12-10T23:04:34.193682Z",
     "shell.execute_reply": "2020-12-10T23:04:34.192953Z"
    }
   },
   "outputs": [
    {
     "name": "stdout",
     "output_type": "stream",
     "text": [
      "The molecular system has 0 waters and 0 ions.\n"
     ]
    }
   ],
   "source": [
    "n_waters, n_ions = msm.get(molecular_system, target='system',\n",
    "                           n_waters=True, n_ions=True)\n",
    "print('The molecular system has {} waters and {} ions.'.format(n_waters, n_ions))"
   ]
  },
  {
   "cell_type": "code",
   "execution_count": 7,
   "metadata": {
    "execution": {
     "iopub.execute_input": "2020-12-10T23:04:34.197794Z",
     "iopub.status.busy": "2020-12-10T23:04:34.196967Z",
     "iopub.status.idle": "2020-12-10T23:04:34.231302Z",
     "shell.execute_reply": "2020-12-10T23:04:34.230431Z"
    }
   },
   "outputs": [],
   "source": [
    "molecular_system = msm.remove_hydrogens(molecular_system)"
   ]
  },
  {
   "cell_type": "code",
   "execution_count": 8,
   "metadata": {
    "execution": {
     "iopub.execute_input": "2020-12-10T23:04:34.235976Z",
     "iopub.status.busy": "2020-12-10T23:04:34.234979Z",
     "iopub.status.idle": "2020-12-10T23:04:35.288094Z",
     "shell.execute_reply": "2020-12-10T23:04:35.287163Z"
    }
   },
   "outputs": [],
   "source": [
    "molecular_system_solvated = msm.solvate(molecular_system, box_geometry='cubic',\n",
    "                                        clearance=14.0*unit.angstroms, water='TIP3P',\n",
    "                                        verbose=False)"
   ]
  },
  {
   "cell_type": "code",
   "execution_count": 9,
   "metadata": {
    "execution": {
     "iopub.execute_input": "2020-12-10T23:04:35.293300Z",
     "iopub.status.busy": "2020-12-10T23:04:35.292243Z",
     "iopub.status.idle": "2020-12-10T23:04:35.327090Z",
     "shell.execute_reply": "2020-12-10T23:04:35.328068Z"
    }
   },
   "outputs": [
    {
     "data": {
      "text/html": [
       "<style  type=\"text/css\" >\n",
       "</style><table id=\"T_1221e352_3b3c_11eb_a008_1c1b0d075c26\" ><thead>    <tr>        <th class=\"col_heading level0 col0\" >form</th>        <th class=\"col_heading level0 col1\" >n_atoms</th>        <th class=\"col_heading level0 col2\" >n_groups</th>        <th class=\"col_heading level0 col3\" >n_components</th>        <th class=\"col_heading level0 col4\" >n_chains</th>        <th class=\"col_heading level0 col5\" >n_molecules</th>        <th class=\"col_heading level0 col6\" >n_entities</th>        <th class=\"col_heading level0 col7\" >n_waters</th>        <th class=\"col_heading level0 col8\" >n_peptides</th>        <th class=\"col_heading level0 col9\" >n_frames</th>    </tr></thead><tbody>\n",
       "                <tr>\n",
       "                                <td id=\"T_1221e352_3b3c_11eb_a008_1c1b0d075c26row0_col0\" class=\"data row0 col0\" >molsysmt.MolSys</td>\n",
       "                        <td id=\"T_1221e352_3b3c_11eb_a008_1c1b0d075c26row0_col1\" class=\"data row0 col1\" >11646</td>\n",
       "                        <td id=\"T_1221e352_3b3c_11eb_a008_1c1b0d075c26row0_col2\" class=\"data row0 col2\" >3862</td>\n",
       "                        <td id=\"T_1221e352_3b3c_11eb_a008_1c1b0d075c26row0_col3\" class=\"data row0 col3\" >3858</td>\n",
       "                        <td id=\"T_1221e352_3b3c_11eb_a008_1c1b0d075c26row0_col4\" class=\"data row0 col4\" >1</td>\n",
       "                        <td id=\"T_1221e352_3b3c_11eb_a008_1c1b0d075c26row0_col5\" class=\"data row0 col5\" >3858</td>\n",
       "                        <td id=\"T_1221e352_3b3c_11eb_a008_1c1b0d075c26row0_col6\" class=\"data row0 col6\" >2</td>\n",
       "                        <td id=\"T_1221e352_3b3c_11eb_a008_1c1b0d075c26row0_col7\" class=\"data row0 col7\" >3857</td>\n",
       "                        <td id=\"T_1221e352_3b3c_11eb_a008_1c1b0d075c26row0_col8\" class=\"data row0 col8\" >1</td>\n",
       "                        <td id=\"T_1221e352_3b3c_11eb_a008_1c1b0d075c26row0_col9\" class=\"data row0 col9\" >1</td>\n",
       "            </tr>\n",
       "    </tbody></table>"
      ],
      "text/plain": [
       "<pandas.io.formats.style.Styler at 0x7f474c2ea350>"
      ]
     },
     "execution_count": 1,
     "metadata": {},
     "output_type": "execute_result"
    }
   ],
   "source": [
    "msm.info(molecular_system_solvated)"
   ]
  },
  {
   "cell_type": "code",
   "execution_count": 10,
   "metadata": {
    "execution": {
     "iopub.execute_input": "2020-12-10T23:04:35.333683Z",
     "iopub.status.busy": "2020-12-10T23:04:35.332696Z",
     "iopub.status.idle": "2020-12-10T23:04:35.353405Z",
     "shell.execute_reply": "2020-12-10T23:04:35.354496Z"
    }
   },
   "outputs": [
    {
     "name": "stdout",
     "output_type": "stream",
     "text": [
      "The molecular system has 3857 waters and 0 ions.\n"
     ]
    }
   ],
   "source": [
    "n_waters, n_ions = msm.get(molecular_system_solvated, target='system',\n",
    "                           n_waters=True, n_ions=True)\n",
    "print('The molecular system has {} waters and {} ions.'.format(n_waters, n_ions))"
   ]
  },
  {
   "cell_type": "markdown",
   "metadata": {},
   "source": [
    "With Openmm:"
   ]
  },
  {
   "cell_type": "code",
   "execution_count": 11,
   "metadata": {
    "execution": {
     "iopub.execute_input": "2020-12-10T23:04:35.359297Z",
     "iopub.status.busy": "2020-12-10T23:04:35.358225Z",
     "iopub.status.idle": "2020-12-10T23:04:35.401708Z",
     "shell.execute_reply": "2020-12-10T23:04:35.400743Z"
    }
   },
   "outputs": [],
   "source": [
    "molecular_system = msm.convert(pdbfile)"
   ]
  },
  {
   "cell_type": "code",
   "execution_count": 12,
   "metadata": {
    "execution": {
     "iopub.execute_input": "2020-12-10T23:04:35.406474Z",
     "iopub.status.busy": "2020-12-10T23:04:35.405394Z",
     "iopub.status.idle": "2020-12-10T23:04:35.429228Z",
     "shell.execute_reply": "2020-12-10T23:04:35.428151Z"
    }
   },
   "outputs": [
    {
     "data": {
      "text/plain": [
       "33"
      ]
     },
     "execution_count": 1,
     "metadata": {},
     "output_type": "execute_result"
    }
   ],
   "source": [
    "msm.get(molecular_system, selection='atom_type==\"H\"', n_atoms=True)"
   ]
  },
  {
   "cell_type": "code",
   "execution_count": 13,
   "metadata": {
    "execution": {
     "iopub.execute_input": "2020-12-10T23:04:35.433730Z",
     "iopub.status.busy": "2020-12-10T23:04:35.432663Z",
     "iopub.status.idle": "2020-12-10T23:04:35.449965Z",
     "shell.execute_reply": "2020-12-10T23:04:35.450523Z"
    }
   },
   "outputs": [],
   "source": [
    "#molecular_system_solvated = msm.solvate(molecular_system, box_geometry='cubic',\n",
    "#                                        clearance=14.0*unit.angstroms, water='TIP3P',\n",
    "#                                        engine='OpenMM', verbose=False)"
   ]
  },
  {
   "cell_type": "markdown",
   "metadata": {},
   "source": [
    "## Octahedral"
   ]
  },
  {
   "cell_type": "code",
   "execution_count": 14,
   "metadata": {
    "execution": {
     "iopub.execute_input": "2020-12-10T23:04:35.454878Z",
     "iopub.status.busy": "2020-12-10T23:04:35.454003Z",
     "iopub.status.idle": "2020-12-10T23:04:35.471573Z",
     "shell.execute_reply": "2020-12-10T23:04:35.472271Z"
    }
   },
   "outputs": [],
   "source": [
    "pdbfile = msm.demo_systems.files['1tcd.pdb']"
   ]
  },
  {
   "cell_type": "code",
   "execution_count": 15,
   "metadata": {
    "execution": {
     "iopub.execute_input": "2020-12-10T23:04:35.476537Z",
     "iopub.status.busy": "2020-12-10T23:04:35.475554Z",
     "iopub.status.idle": "2020-12-10T23:04:35.865892Z",
     "shell.execute_reply": "2020-12-10T23:04:35.864892Z"
    }
   },
   "outputs": [],
   "source": [
    "molecular_system = msm.convert(pdbfile)"
   ]
  },
  {
   "cell_type": "code",
   "execution_count": 16,
   "metadata": {
    "execution": {
     "iopub.execute_input": "2020-12-10T23:04:35.871088Z",
     "iopub.status.busy": "2020-12-10T23:04:35.869974Z",
     "iopub.status.idle": "2020-12-10T23:04:35.900497Z",
     "shell.execute_reply": "2020-12-10T23:04:35.901559Z"
    }
   },
   "outputs": [
    {
     "data": {
      "text/html": [
       "<style  type=\"text/css\" >\n",
       "</style><table id=\"T_127959e8_3b3c_11eb_a008_1c1b0d075c26\" ><thead>    <tr>        <th class=\"col_heading level0 col0\" >form</th>        <th class=\"col_heading level0 col1\" >n_atoms</th>        <th class=\"col_heading level0 col2\" >n_groups</th>        <th class=\"col_heading level0 col3\" >n_components</th>        <th class=\"col_heading level0 col4\" >n_chains</th>        <th class=\"col_heading level0 col5\" >n_molecules</th>        <th class=\"col_heading level0 col6\" >n_entities</th>        <th class=\"col_heading level0 col7\" >n_waters</th>        <th class=\"col_heading level0 col8\" >n_proteins</th>        <th class=\"col_heading level0 col9\" >n_frames</th>    </tr></thead><tbody>\n",
       "                <tr>\n",
       "                                <td id=\"T_127959e8_3b3c_11eb_a008_1c1b0d075c26row0_col0\" class=\"data row0 col0\" >molsysmt.MolSys</td>\n",
       "                        <td id=\"T_127959e8_3b3c_11eb_a008_1c1b0d075c26row0_col1\" class=\"data row0 col1\" >3983</td>\n",
       "                        <td id=\"T_127959e8_3b3c_11eb_a008_1c1b0d075c26row0_col2\" class=\"data row0 col2\" >662</td>\n",
       "                        <td id=\"T_127959e8_3b3c_11eb_a008_1c1b0d075c26row0_col3\" class=\"data row0 col3\" >167</td>\n",
       "                        <td id=\"T_127959e8_3b3c_11eb_a008_1c1b0d075c26row0_col4\" class=\"data row0 col4\" >4</td>\n",
       "                        <td id=\"T_127959e8_3b3c_11eb_a008_1c1b0d075c26row0_col5\" class=\"data row0 col5\" >167</td>\n",
       "                        <td id=\"T_127959e8_3b3c_11eb_a008_1c1b0d075c26row0_col6\" class=\"data row0 col6\" >3</td>\n",
       "                        <td id=\"T_127959e8_3b3c_11eb_a008_1c1b0d075c26row0_col7\" class=\"data row0 col7\" >165</td>\n",
       "                        <td id=\"T_127959e8_3b3c_11eb_a008_1c1b0d075c26row0_col8\" class=\"data row0 col8\" >2</td>\n",
       "                        <td id=\"T_127959e8_3b3c_11eb_a008_1c1b0d075c26row0_col9\" class=\"data row0 col9\" >1</td>\n",
       "            </tr>\n",
       "    </tbody></table>"
      ],
      "text/plain": [
       "<pandas.io.formats.style.Styler at 0x7f474a306350>"
      ]
     },
     "execution_count": 1,
     "metadata": {},
     "output_type": "execute_result"
    }
   ],
   "source": [
    "msm.info(molecular_system)"
   ]
  },
  {
   "cell_type": "code",
   "execution_count": 17,
   "metadata": {
    "execution": {
     "iopub.execute_input": "2020-12-10T23:04:35.906470Z",
     "iopub.status.busy": "2020-12-10T23:04:35.905383Z",
     "iopub.status.idle": "2020-12-10T23:04:35.925870Z",
     "shell.execute_reply": "2020-12-10T23:04:35.924784Z"
    }
   },
   "outputs": [
    {
     "name": "stdout",
     "output_type": "stream",
     "text": [
      "The molecular system has 165 waters and 0 ions.\n"
     ]
    }
   ],
   "source": [
    "n_waters, n_ions = msm.get(molecular_system, target='system',\n",
    "                           n_waters=True, n_ions=True)\n",
    "print('The molecular system has {} waters and {} ions.'.format(n_waters, n_ions))"
   ]
  },
  {
   "cell_type": "code",
   "execution_count": 18,
   "metadata": {
    "execution": {
     "iopub.execute_input": "2020-12-10T23:04:35.931602Z",
     "iopub.status.busy": "2020-12-10T23:04:35.929380Z",
     "iopub.status.idle": "2020-12-10T23:04:35.953637Z",
     "shell.execute_reply": "2020-12-10T23:04:35.952541Z"
    }
   },
   "outputs": [
    {
     "name": "stdout",
     "output_type": "stream",
     "text": [
      "0\n"
     ]
    }
   ],
   "source": [
    "n_Hs = msm.get(molecular_system, selection='atom_type==\"H\"', n_atoms=True)\n",
    "print(n_Hs)"
   ]
  },
  {
   "cell_type": "code",
   "execution_count": 19,
   "metadata": {
    "execution": {
     "iopub.execute_input": "2020-12-10T23:04:35.957975Z",
     "iopub.status.busy": "2020-12-10T23:04:35.956917Z",
     "iopub.status.idle": "2020-12-10T23:04:35.975750Z",
     "shell.execute_reply": "2020-12-10T23:04:35.976603Z"
    }
   },
   "outputs": [],
   "source": [
    "#molecular_system_solvated = msm.solvate(molecular_system, box_geometry='cubic',\n",
    "#                                        clearance=14.0*unit.angstroms, water='TIP3P',\n",
    "#                                        verbose=False)"
   ]
  },
  {
   "cell_type": "code",
   "execution_count": 20,
   "metadata": {
    "execution": {
     "iopub.execute_input": "2020-12-10T23:04:35.981039Z",
     "iopub.status.busy": "2020-12-10T23:04:35.980063Z",
     "iopub.status.idle": "2020-12-10T23:04:36.012832Z",
     "shell.execute_reply": "2020-12-10T23:04:36.011735Z"
    }
   },
   "outputs": [
    {
     "data": {
      "text/html": [
       "<style  type=\"text/css\" >\n",
       "</style><table id=\"T_128a6206_3b3c_11eb_a008_1c1b0d075c26\" ><thead>    <tr>        <th class=\"col_heading level0 col0\" >form</th>        <th class=\"col_heading level0 col1\" >n_atoms</th>        <th class=\"col_heading level0 col2\" >n_groups</th>        <th class=\"col_heading level0 col3\" >n_components</th>        <th class=\"col_heading level0 col4\" >n_chains</th>        <th class=\"col_heading level0 col5\" >n_molecules</th>        <th class=\"col_heading level0 col6\" >n_entities</th>        <th class=\"col_heading level0 col7\" >n_waters</th>        <th class=\"col_heading level0 col8\" >n_peptides</th>        <th class=\"col_heading level0 col9\" >n_frames</th>    </tr></thead><tbody>\n",
       "                <tr>\n",
       "                                <td id=\"T_128a6206_3b3c_11eb_a008_1c1b0d075c26row0_col0\" class=\"data row0 col0\" >molsysmt.MolSys</td>\n",
       "                        <td id=\"T_128a6206_3b3c_11eb_a008_1c1b0d075c26row0_col1\" class=\"data row0 col1\" >11646</td>\n",
       "                        <td id=\"T_128a6206_3b3c_11eb_a008_1c1b0d075c26row0_col2\" class=\"data row0 col2\" >3862</td>\n",
       "                        <td id=\"T_128a6206_3b3c_11eb_a008_1c1b0d075c26row0_col3\" class=\"data row0 col3\" >3858</td>\n",
       "                        <td id=\"T_128a6206_3b3c_11eb_a008_1c1b0d075c26row0_col4\" class=\"data row0 col4\" >1</td>\n",
       "                        <td id=\"T_128a6206_3b3c_11eb_a008_1c1b0d075c26row0_col5\" class=\"data row0 col5\" >3858</td>\n",
       "                        <td id=\"T_128a6206_3b3c_11eb_a008_1c1b0d075c26row0_col6\" class=\"data row0 col6\" >2</td>\n",
       "                        <td id=\"T_128a6206_3b3c_11eb_a008_1c1b0d075c26row0_col7\" class=\"data row0 col7\" >3857</td>\n",
       "                        <td id=\"T_128a6206_3b3c_11eb_a008_1c1b0d075c26row0_col8\" class=\"data row0 col8\" >1</td>\n",
       "                        <td id=\"T_128a6206_3b3c_11eb_a008_1c1b0d075c26row0_col9\" class=\"data row0 col9\" >1</td>\n",
       "            </tr>\n",
       "    </tbody></table>"
      ],
      "text/plain": [
       "<pandas.io.formats.style.Styler at 0x7f474b4e3b90>"
      ]
     },
     "execution_count": 1,
     "metadata": {},
     "output_type": "execute_result"
    }
   ],
   "source": [
    "msm.info(molecular_system_solvated)"
   ]
  }
 ],
 "metadata": {
  "kernelspec": {
   "display_name": "Python 3",
   "language": "python",
   "name": "python3"
  },
  "language_info": {
   "codemirror_mode": {
    "name": "ipython",
    "version": 3
   },
   "file_extension": ".py",
   "mimetype": "text/x-python",
   "name": "python",
   "nbconvert_exporter": "python",
   "pygments_lexer": "ipython3",
   "version": "3.7.7"
  },
  "widgets": {
   "application/vnd.jupyter.widget-state+json": {
    "state": {
     "15a9123bdeb24d6385640484e6a191b0": {
      "model_module": "nglview-js-widgets",
      "model_module_version": "2.7.7",
      "model_name": "ColormakerRegistryModel",
      "state": {
       "_dom_classes": [],
       "_model_module": "nglview-js-widgets",
       "_model_module_version": "2.7.7",
       "_model_name": "ColormakerRegistryModel",
       "_msg_ar": [],
       "_msg_q": [],
       "_ready": false,
       "_view_count": null,
       "_view_module": "nglview-js-widgets",
       "_view_module_version": "2.7.7",
       "_view_name": "ColormakerRegistryView",
       "layout": "IPY_MODEL_f30435fc3ef44529b15a9759c400ad4c"
      }
     },
     "f30435fc3ef44529b15a9759c400ad4c": {
      "model_module": "@jupyter-widgets/base",
      "model_module_version": "1.2.0",
      "model_name": "LayoutModel",
      "state": {
       "_model_module": "@jupyter-widgets/base",
       "_model_module_version": "1.2.0",
       "_model_name": "LayoutModel",
       "_view_count": null,
       "_view_module": "@jupyter-widgets/base",
       "_view_module_version": "1.2.0",
       "_view_name": "LayoutView",
       "align_content": null,
       "align_items": null,
       "align_self": null,
       "border": null,
       "bottom": null,
       "display": null,
       "flex": null,
       "flex_flow": null,
       "grid_area": null,
       "grid_auto_columns": null,
       "grid_auto_flow": null,
       "grid_auto_rows": null,
       "grid_column": null,
       "grid_gap": null,
       "grid_row": null,
       "grid_template_areas": null,
       "grid_template_columns": null,
       "grid_template_rows": null,
       "height": null,
       "justify_content": null,
       "justify_items": null,
       "left": null,
       "margin": null,
       "max_height": null,
       "max_width": null,
       "min_height": null,
       "min_width": null,
       "object_fit": null,
       "object_position": null,
       "order": null,
       "overflow": null,
       "overflow_x": null,
       "overflow_y": null,
       "padding": null,
       "right": null,
       "top": null,
       "visibility": null,
       "width": null
      }
     }
    },
    "version_major": 2,
    "version_minor": 0
   }
  }
 },
 "nbformat": 4,
 "nbformat_minor": 4
}
