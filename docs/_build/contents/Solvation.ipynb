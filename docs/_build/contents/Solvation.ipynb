{
 "cells": [
  {
   "cell_type": "code",
   "execution_count": 1,
   "metadata": {},
   "outputs": [],
   "source": [
    "%load_ext autoreload\n",
    "%autoreload 2"
   ]
  },
  {
   "cell_type": "code",
   "execution_count": 2,
   "metadata": {},
   "outputs": [
    {
     "data": {
      "application/vnd.jupyter.widget-view+json": {
       "model_id": "56746263e8684155a0b3c723a96802bc",
       "version_major": 2,
       "version_minor": 0
      },
      "text/plain": []
     },
     "metadata": {},
     "output_type": "display_data"
    }
   ],
   "source": [
    "import molsysmt as msm\n",
    "from simtk import unit"
   ]
  },
  {
   "cell_type": "markdown",
   "metadata": {},
   "source": [
    "# Adding solvent"
   ]
  },
  {
   "cell_type": "code",
   "execution_count": 3,
   "metadata": {},
   "outputs": [],
   "source": [
    "pdbfile = msm.demo_systems.files['metenkephalin.pdb']"
   ]
  },
  {
   "cell_type": "code",
   "execution_count": 4,
   "metadata": {},
   "outputs": [],
   "source": [
    "molecular_system = msm.convert(pdbfile)"
   ]
  },
  {
   "cell_type": "code",
   "execution_count": 5,
   "metadata": {},
   "outputs": [
    {
     "data": {
      "text/html": [
       "<style  type=\"text/css\" >\n",
       "</style><table id=\"T_c3df8e32_c88c_11ea_b9cc_9521342412cf\" ><thead>    <tr>        <th class=\"col_heading level0 col0\" >form</th>        <th class=\"col_heading level0 col1\" >n_atoms</th>        <th class=\"col_heading level0 col2\" >n_groups</th>        <th class=\"col_heading level0 col3\" >n_components</th>        <th class=\"col_heading level0 col4\" >n_chains</th>        <th class=\"col_heading level0 col5\" >n_molecules</th>        <th class=\"col_heading level0 col6\" >n_entities</th>        <th class=\"col_heading level0 col7\" >n_peptides</th>        <th class=\"col_heading level0 col8\" >n_frames</th>    </tr></thead><tbody>\n",
       "                <tr>\n",
       "                                <td id=\"T_c3df8e32_c88c_11ea_b9cc_9521342412cfrow0_col0\" class=\"data row0 col0\" >molsysmt.MolSys</td>\n",
       "                        <td id=\"T_c3df8e32_c88c_11ea_b9cc_9521342412cfrow0_col1\" class=\"data row0 col1\" >72</td>\n",
       "                        <td id=\"T_c3df8e32_c88c_11ea_b9cc_9521342412cfrow0_col2\" class=\"data row0 col2\" >5</td>\n",
       "                        <td id=\"T_c3df8e32_c88c_11ea_b9cc_9521342412cfrow0_col3\" class=\"data row0 col3\" >1</td>\n",
       "                        <td id=\"T_c3df8e32_c88c_11ea_b9cc_9521342412cfrow0_col4\" class=\"data row0 col4\" >1</td>\n",
       "                        <td id=\"T_c3df8e32_c88c_11ea_b9cc_9521342412cfrow0_col5\" class=\"data row0 col5\" >1</td>\n",
       "                        <td id=\"T_c3df8e32_c88c_11ea_b9cc_9521342412cfrow0_col6\" class=\"data row0 col6\" >1</td>\n",
       "                        <td id=\"T_c3df8e32_c88c_11ea_b9cc_9521342412cfrow0_col7\" class=\"data row0 col7\" >1</td>\n",
       "                        <td id=\"T_c3df8e32_c88c_11ea_b9cc_9521342412cfrow0_col8\" class=\"data row0 col8\" >1</td>\n",
       "            </tr>\n",
       "    </tbody></table>"
      ],
      "text/plain": [
       "<pandas.io.formats.style.Styler at 0x7f867047af10>"
      ]
     },
     "execution_count": 5,
     "metadata": {},
     "output_type": "execute_result"
    }
   ],
   "source": [
    "msm.info(molecular_system)"
   ]
  },
  {
   "cell_type": "code",
   "execution_count": 6,
   "metadata": {},
   "outputs": [
    {
     "name": "stdout",
     "output_type": "stream",
     "text": [
      "The molecular system has 0 waters and 0 ions.\n"
     ]
    }
   ],
   "source": [
    "n_waters, n_ions = msm.get(molecular_system, target='system',\n",
    "                           n_waters=True, n_ions=True)\n",
    "print('The molecular system has {} waters and {} ions.'.format(n_waters, n_ions))"
   ]
  },
  {
   "cell_type": "code",
   "execution_count": 7,
   "metadata": {},
   "outputs": [],
   "source": [
    "molecular_system = msm.remove_hydrogens(molecular_system)"
   ]
  },
  {
   "cell_type": "code",
   "execution_count": 8,
   "metadata": {},
   "outputs": [],
   "source": [
    "molecular_system_solvated = msm.solvate(molecular_system, box_geometry='cubic',\n",
    "                                        clearance=14.0*unit.angstroms, water='TIP3P',\n",
    "                                        verbose=False)"
   ]
  },
  {
   "cell_type": "code",
   "execution_count": 9,
   "metadata": {},
   "outputs": [
    {
     "data": {
      "text/html": [
       "<style  type=\"text/css\" >\n",
       "</style><table id=\"T_cdbf7b6a_c88c_11ea_b9cc_9521342412cf\" ><thead>    <tr>        <th class=\"col_heading level0 col0\" >form</th>        <th class=\"col_heading level0 col1\" >n_atoms</th>        <th class=\"col_heading level0 col2\" >n_groups</th>        <th class=\"col_heading level0 col3\" >n_components</th>        <th class=\"col_heading level0 col4\" >n_chains</th>        <th class=\"col_heading level0 col5\" >n_molecules</th>        <th class=\"col_heading level0 col6\" >n_entities</th>        <th class=\"col_heading level0 col7\" >n_waters</th>        <th class=\"col_heading level0 col8\" >n_peptides</th>        <th class=\"col_heading level0 col9\" >n_frames</th>    </tr></thead><tbody>\n",
       "                <tr>\n",
       "                                <td id=\"T_cdbf7b6a_c88c_11ea_b9cc_9521342412cfrow0_col0\" class=\"data row0 col0\" >molsysmt.MolSys</td>\n",
       "                        <td id=\"T_cdbf7b6a_c88c_11ea_b9cc_9521342412cfrow0_col1\" class=\"data row0 col1\" >11646</td>\n",
       "                        <td id=\"T_cdbf7b6a_c88c_11ea_b9cc_9521342412cfrow0_col2\" class=\"data row0 col2\" >3862</td>\n",
       "                        <td id=\"T_cdbf7b6a_c88c_11ea_b9cc_9521342412cfrow0_col3\" class=\"data row0 col3\" >3858</td>\n",
       "                        <td id=\"T_cdbf7b6a_c88c_11ea_b9cc_9521342412cfrow0_col4\" class=\"data row0 col4\" >1</td>\n",
       "                        <td id=\"T_cdbf7b6a_c88c_11ea_b9cc_9521342412cfrow0_col5\" class=\"data row0 col5\" >3858</td>\n",
       "                        <td id=\"T_cdbf7b6a_c88c_11ea_b9cc_9521342412cfrow0_col6\" class=\"data row0 col6\" >2</td>\n",
       "                        <td id=\"T_cdbf7b6a_c88c_11ea_b9cc_9521342412cfrow0_col7\" class=\"data row0 col7\" >3857</td>\n",
       "                        <td id=\"T_cdbf7b6a_c88c_11ea_b9cc_9521342412cfrow0_col8\" class=\"data row0 col8\" >1</td>\n",
       "                        <td id=\"T_cdbf7b6a_c88c_11ea_b9cc_9521342412cfrow0_col9\" class=\"data row0 col9\" >1</td>\n",
       "            </tr>\n",
       "    </tbody></table>"
      ],
      "text/plain": [
       "<pandas.io.formats.style.Styler at 0x7f8659386290>"
      ]
     },
     "execution_count": 9,
     "metadata": {},
     "output_type": "execute_result"
    }
   ],
   "source": [
    "msm.info(molecular_system_solvated)"
   ]
  },
  {
   "cell_type": "code",
   "execution_count": 10,
   "metadata": {},
   "outputs": [
    {
     "name": "stdout",
     "output_type": "stream",
     "text": [
      "The molecular system has 3857 waters and 0 ions.\n"
     ]
    }
   ],
   "source": [
    "n_waters, n_ions = msm.get(molecular_system_solvated, target='system',\n",
    "                           n_waters=True, n_ions=True)\n",
    "print('The molecular system has {} waters and {} ions.'.format(n_waters, n_ions))"
   ]
  },
  {
   "cell_type": "markdown",
   "metadata": {},
   "source": [
    "With Openmm:"
   ]
  },
  {
   "cell_type": "code",
   "execution_count": 11,
   "metadata": {},
   "outputs": [],
   "source": [
    "molecular_system = msm.convert(pdbfile)"
   ]
  },
  {
   "cell_type": "code",
   "execution_count": 12,
   "metadata": {},
   "outputs": [
    {
     "data": {
      "text/plain": [
       "33"
      ]
     },
     "execution_count": 12,
     "metadata": {},
     "output_type": "execute_result"
    }
   ],
   "source": [
    "msm.get(molecular_system, selection='atom_type==\"H\"', n_atoms=True)"
   ]
  },
  {
   "cell_type": "code",
   "execution_count": 13,
   "metadata": {},
   "outputs": [],
   "source": [
    "#molecular_system_solvated = msm.solvate(molecular_system, box_geometry='cubic',\n",
    "#                                        clearance=14.0*unit.angstroms, water='TIP3P',\n",
    "#                                        engine='OpenMM', verbose=False)"
   ]
  },
  {
   "cell_type": "markdown",
   "metadata": {},
   "source": [
    "## Octahedral"
   ]
  },
  {
   "cell_type": "code",
   "execution_count": 14,
   "metadata": {},
   "outputs": [],
   "source": [
    "pdbfile = msm.demo_systems.files['1tcd.pdb']"
   ]
  },
  {
   "cell_type": "code",
   "execution_count": 15,
   "metadata": {},
   "outputs": [],
   "source": [
    "molecular_system = msm.convert(pdbfile)"
   ]
  },
  {
   "cell_type": "code",
   "execution_count": 16,
   "metadata": {},
   "outputs": [
    {
     "data": {
      "text/html": [
       "<style  type=\"text/css\" >\n",
       "</style><table id=\"T_ce8f5916_c88c_11ea_b9cc_9521342412cf\" ><thead>    <tr>        <th class=\"col_heading level0 col0\" >form</th>        <th class=\"col_heading level0 col1\" >n_atoms</th>        <th class=\"col_heading level0 col2\" >n_groups</th>        <th class=\"col_heading level0 col3\" >n_components</th>        <th class=\"col_heading level0 col4\" >n_chains</th>        <th class=\"col_heading level0 col5\" >n_molecules</th>        <th class=\"col_heading level0 col6\" >n_entities</th>        <th class=\"col_heading level0 col7\" >n_waters</th>        <th class=\"col_heading level0 col8\" >n_proteins</th>        <th class=\"col_heading level0 col9\" >n_frames</th>    </tr></thead><tbody>\n",
       "                <tr>\n",
       "                                <td id=\"T_ce8f5916_c88c_11ea_b9cc_9521342412cfrow0_col0\" class=\"data row0 col0\" >molsysmt.MolSys</td>\n",
       "                        <td id=\"T_ce8f5916_c88c_11ea_b9cc_9521342412cfrow0_col1\" class=\"data row0 col1\" >3983</td>\n",
       "                        <td id=\"T_ce8f5916_c88c_11ea_b9cc_9521342412cfrow0_col2\" class=\"data row0 col2\" >662</td>\n",
       "                        <td id=\"T_ce8f5916_c88c_11ea_b9cc_9521342412cfrow0_col3\" class=\"data row0 col3\" >167</td>\n",
       "                        <td id=\"T_ce8f5916_c88c_11ea_b9cc_9521342412cfrow0_col4\" class=\"data row0 col4\" >4</td>\n",
       "                        <td id=\"T_ce8f5916_c88c_11ea_b9cc_9521342412cfrow0_col5\" class=\"data row0 col5\" >167</td>\n",
       "                        <td id=\"T_ce8f5916_c88c_11ea_b9cc_9521342412cfrow0_col6\" class=\"data row0 col6\" >3</td>\n",
       "                        <td id=\"T_ce8f5916_c88c_11ea_b9cc_9521342412cfrow0_col7\" class=\"data row0 col7\" >165</td>\n",
       "                        <td id=\"T_ce8f5916_c88c_11ea_b9cc_9521342412cfrow0_col8\" class=\"data row0 col8\" >2</td>\n",
       "                        <td id=\"T_ce8f5916_c88c_11ea_b9cc_9521342412cfrow0_col9\" class=\"data row0 col9\" >1</td>\n",
       "            </tr>\n",
       "    </tbody></table>"
      ],
      "text/plain": [
       "<pandas.io.formats.style.Styler at 0x7f86573b1d90>"
      ]
     },
     "execution_count": 16,
     "metadata": {},
     "output_type": "execute_result"
    }
   ],
   "source": [
    "msm.info(molecular_system)"
   ]
  },
  {
   "cell_type": "code",
   "execution_count": 17,
   "metadata": {},
   "outputs": [
    {
     "name": "stdout",
     "output_type": "stream",
     "text": [
      "The molecular system has 165 waters and 0 ions.\n"
     ]
    }
   ],
   "source": [
    "n_waters, n_ions = msm.get(molecular_system, target='system',\n",
    "                           n_waters=True, n_ions=True)\n",
    "print('The molecular system has {} waters and {} ions.'.format(n_waters, n_ions))"
   ]
  },
  {
   "cell_type": "code",
   "execution_count": 18,
   "metadata": {},
   "outputs": [
    {
     "name": "stdout",
     "output_type": "stream",
     "text": [
      "0\n"
     ]
    }
   ],
   "source": [
    "n_Hs = msm.get(molecular_system, selection='atom_type==\"H\"', n_atoms=True)\n",
    "print(n_Hs)"
   ]
  },
  {
   "cell_type": "code",
   "execution_count": 19,
   "metadata": {},
   "outputs": [],
   "source": [
    "#molecular_system_solvated = msm.solvate(molecular_system, box_geometry='cubic',\n",
    "#                                        clearance=14.0*unit.angstroms, water='TIP3P',\n",
    "#                                        verbose=False)"
   ]
  },
  {
   "cell_type": "code",
   "execution_count": 20,
   "metadata": {},
   "outputs": [
    {
     "data": {
      "text/html": [
       "<style  type=\"text/css\" >\n",
       "</style><table id=\"T_cea2800e_c88c_11ea_b9cc_9521342412cf\" ><thead>    <tr>        <th class=\"col_heading level0 col0\" >form</th>        <th class=\"col_heading level0 col1\" >n_atoms</th>        <th class=\"col_heading level0 col2\" >n_groups</th>        <th class=\"col_heading level0 col3\" >n_components</th>        <th class=\"col_heading level0 col4\" >n_chains</th>        <th class=\"col_heading level0 col5\" >n_molecules</th>        <th class=\"col_heading level0 col6\" >n_entities</th>        <th class=\"col_heading level0 col7\" >n_waters</th>        <th class=\"col_heading level0 col8\" >n_peptides</th>        <th class=\"col_heading level0 col9\" >n_frames</th>    </tr></thead><tbody>\n",
       "                <tr>\n",
       "                                <td id=\"T_cea2800e_c88c_11ea_b9cc_9521342412cfrow0_col0\" class=\"data row0 col0\" >molsysmt.MolSys</td>\n",
       "                        <td id=\"T_cea2800e_c88c_11ea_b9cc_9521342412cfrow0_col1\" class=\"data row0 col1\" >11646</td>\n",
       "                        <td id=\"T_cea2800e_c88c_11ea_b9cc_9521342412cfrow0_col2\" class=\"data row0 col2\" >3862</td>\n",
       "                        <td id=\"T_cea2800e_c88c_11ea_b9cc_9521342412cfrow0_col3\" class=\"data row0 col3\" >3858</td>\n",
       "                        <td id=\"T_cea2800e_c88c_11ea_b9cc_9521342412cfrow0_col4\" class=\"data row0 col4\" >1</td>\n",
       "                        <td id=\"T_cea2800e_c88c_11ea_b9cc_9521342412cfrow0_col5\" class=\"data row0 col5\" >3858</td>\n",
       "                        <td id=\"T_cea2800e_c88c_11ea_b9cc_9521342412cfrow0_col6\" class=\"data row0 col6\" >2</td>\n",
       "                        <td id=\"T_cea2800e_c88c_11ea_b9cc_9521342412cfrow0_col7\" class=\"data row0 col7\" >3857</td>\n",
       "                        <td id=\"T_cea2800e_c88c_11ea_b9cc_9521342412cfrow0_col8\" class=\"data row0 col8\" >1</td>\n",
       "                        <td id=\"T_cea2800e_c88c_11ea_b9cc_9521342412cfrow0_col9\" class=\"data row0 col9\" >1</td>\n",
       "            </tr>\n",
       "    </tbody></table>"
      ],
      "text/plain": [
       "<pandas.io.formats.style.Styler at 0x7f8658131410>"
      ]
     },
     "execution_count": 20,
     "metadata": {},
     "output_type": "execute_result"
    }
   ],
   "source": [
    "msm.info(molecular_system_solvated)"
   ]
  }
 ],
 "metadata": {
  "kernelspec": {
   "display_name": "Python 3",
   "language": "python",
   "name": "python3"
  },
  "language_info": {
   "codemirror_mode": {
    "name": "ipython",
    "version": 3
   },
   "file_extension": ".py",
   "mimetype": "text/x-python",
   "name": "python",
   "nbconvert_exporter": "python",
   "pygments_lexer": "ipython3",
   "version": "3.7.7"
  },
  "widgets": {
   "application/vnd.jupyter.widget-state+json": {
    "state": {
     "15585c3464d8414c9ee12819d793d066": {
      "model_module": "@jupyter-widgets/base",
      "model_module_version": "1.2.0",
      "model_name": "LayoutModel",
      "state": {
       "_model_module": "@jupyter-widgets/base",
       "_model_module_version": "1.2.0",
       "_model_name": "LayoutModel",
       "_view_count": null,
       "_view_module": "@jupyter-widgets/base",
       "_view_module_version": "1.2.0",
       "_view_name": "LayoutView",
       "align_content": null,
       "align_items": null,
       "align_self": null,
       "border": null,
       "bottom": null,
       "display": null,
       "flex": null,
       "flex_flow": null,
       "grid_area": null,
       "grid_auto_columns": null,
       "grid_auto_flow": null,
       "grid_auto_rows": null,
       "grid_column": null,
       "grid_gap": null,
       "grid_row": null,
       "grid_template_areas": null,
       "grid_template_columns": null,
       "grid_template_rows": null,
       "height": null,
       "justify_content": null,
       "justify_items": null,
       "left": null,
       "margin": null,
       "max_height": null,
       "max_width": null,
       "min_height": null,
       "min_width": null,
       "object_fit": null,
       "object_position": null,
       "order": null,
       "overflow": null,
       "overflow_x": null,
       "overflow_y": null,
       "padding": null,
       "right": null,
       "top": null,
       "visibility": null,
       "width": null
      }
     },
     "56746263e8684155a0b3c723a96802bc": {
      "model_module": "nglview-js-widgets",
      "model_module_version": "2.7.7",
      "model_name": "ColormakerRegistryModel",
      "state": {
       "_dom_classes": [],
       "_model_module": "nglview-js-widgets",
       "_model_module_version": "2.7.7",
       "_model_name": "ColormakerRegistryModel",
       "_msg_ar": [],
       "_msg_q": [],
       "_ready": false,
       "_view_count": null,
       "_view_module": "nglview-js-widgets",
       "_view_module_version": "2.7.7",
       "_view_name": "ColormakerRegistryView",
       "layout": "IPY_MODEL_15585c3464d8414c9ee12819d793d066"
      }
     }
    },
    "version_major": 2,
    "version_minor": 0
   }
  }
 },
 "nbformat": 4,
 "nbformat_minor": 4
}
