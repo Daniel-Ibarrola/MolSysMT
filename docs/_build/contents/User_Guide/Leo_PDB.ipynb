{
 "cells": [
  {
   "cell_type": "code",
   "execution_count": 1,
   "metadata": {},
   "outputs": [],
   "source": [
    "%load_ext autoreload\n",
    "%autoreload 2"
   ]
  },
  {
   "cell_type": "code",
   "execution_count": 2,
   "metadata": {},
   "outputs": [
    {
     "name": "stderr",
     "output_type": "stream",
     "text": [
      "/home/diego/Myusr/opt/miniconda3/envs/UIBCDF_lab_dev/lib/python3.7/site-packages/yank-0.24.2-py3.7-linux-x86_64.egg/yank/experiment.py:1170: YAMLLoadWarning: calling yaml.load() without Loader=... is deprecated, as the default Loader is unsafe. Please read https://msg.pyyaml.org/load for full details.\n",
      "  \"\"\")\n"
     ]
    },
    {
     "data": {
      "application/vnd.jupyter.widget-view+json": {
       "model_id": "a0aa91c8657e46a3a9901a9523ffb429",
       "version_major": 2,
       "version_minor": 0
      },
      "text/plain": [
       "_ColormakerRegistry()"
      ]
     },
     "metadata": {},
     "output_type": "display_data"
    }
   ],
   "source": [
    "import molsysmt as msm"
   ]
  },
  {
   "cell_type": "code",
   "execution_count": 4,
   "metadata": {},
   "outputs": [],
   "source": [
    "molecular_system = msm.convert('HIF1_HS_Mod.pdb', to_form='molsysmt.MolSys')"
   ]
  },
  {
   "cell_type": "code",
   "execution_count": 5,
   "metadata": {},
   "outputs": [
    {
     "data": {
      "text/plain": [
       "Quantity(value=array([[[-17.6887,   4.142 , -12.586 ],\n",
       "        [-17.6604,   4.2416, -12.4761],\n",
       "        [-17.5221,   4.3049, -12.4863],\n",
       "        ...,\n",
       "        [-17.2462,  11.946 , -12.6068],\n",
       "        [-17.3425,  11.9295, -12.4071],\n",
       "        [-17.329 ,  11.583 , -12.7191]]]), unit=nanometer)"
      ]
     },
     "execution_count": 5,
     "metadata": {},
     "output_type": "execute_result"
    }
   ],
   "source": [
    "molecular_system.trajectory.coordinates"
   ]
  },
  {
   "cell_type": "code",
   "execution_count": 6,
   "metadata": {},
   "outputs": [
    {
     "data": {
      "text/plain": [
       "Quantity(value=array([[[0.        , 0.15099358, 0.25344045, ..., 7.81656286,\n",
       "         7.79724412, 7.45087785],\n",
       "        [0.15099358, 0.        , 0.15243956, ..., 7.71663291,\n",
       "         7.69477926, 7.35289255],\n",
       "        [0.25344045, 0.15243956, 0.        , ..., 7.64702885,\n",
       "         7.62712619, 7.28438213],\n",
       "        ...,\n",
       "        [7.81656286, 7.71663291, 7.64702885, ..., 0.        ,\n",
       "         0.22231966, 0.3888909 ],\n",
       "        [7.79724412, 7.69477926, 7.62712619, ..., 0.22231966,\n",
       "         0.        , 0.46646382],\n",
       "        [7.45087785, 7.35289255, 7.28438213, ..., 0.3888909 ,\n",
       "         0.46646382, 0.        ]]]), unit=nanometer)"
      ]
     },
     "execution_count": 6,
     "metadata": {},
     "output_type": "execute_result"
    }
   ],
   "source": [
    "msm.distance(molecular_system)"
   ]
  },
  {
   "cell_type": "code",
   "execution_count": 7,
   "metadata": {},
   "outputs": [],
   "source": [
    "list_groups_chain_0 = msm.get(molecular_system, target='group', selection=\"chain.index==0\", atom_index=True)\n",
    "list_groups_chain_1 = msm.get(molecular_system, target='group', selection=\"chain.index==1\", atom_index=True)"
   ]
  },
  {
   "cell_type": "code",
   "execution_count": null,
   "metadata": {},
   "outputs": [],
   "source": [
    "list_groups_chain_0"
   ]
  },
  {
   "cell_type": "code",
   "execution_count": null,
   "metadata": {},
   "outputs": [],
   "source": [
    "msm.distance(molecular_system)"
   ]
  }
 ],
 "metadata": {
  "kernelspec": {
   "display_name": "Python 3",
   "language": "python",
   "name": "python3"
  },
  "language_info": {
   "codemirror_mode": {
    "name": "ipython",
    "version": 3
   },
   "file_extension": ".py",
   "mimetype": "text/x-python",
   "name": "python",
   "nbconvert_exporter": "python",
   "pygments_lexer": "ipython3",
   "version": "3.7.7"
  }
 },
 "nbformat": 4,
 "nbformat_minor": 4
}
