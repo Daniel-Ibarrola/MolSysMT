{
 "cells": [
  {
   "cell_type": "code",
   "execution_count": 1,
   "metadata": {},
   "outputs": [],
   "source": [
    "%load_ext autoreload\n",
    "%autoreload 2"
   ]
  },
  {
   "cell_type": "code",
   "execution_count": 2,
   "metadata": {},
   "outputs": [
    {
     "data": {
      "application/vnd.jupyter.widget-view+json": {
       "model_id": "d1226477ae61430588e71c84698c55fe",
       "version_major": 2,
       "version_minor": 0
      },
      "text/plain": [
       "_ColormakerRegistry()"
      ]
     },
     "metadata": {},
     "output_type": "display_data"
    }
   ],
   "source": [
    "import molsysmt as msm"
   ]
  },
  {
   "cell_type": "markdown",
   "metadata": {},
   "source": [
    "# How to convert a form into other form\n",
    "\n",
    "The meaning of molecular system 'form', in the context of MolSysMT, has been described previously in the section XXX. There is in MolSysMT a method to convert a form into other form: `molsysmt.convert()`. This method is the keystone of this library, the hinge all other methods and tools in MolSysMT rotates on. And in addition, the joining piece connecting the pipes of your work-flow when using different python libraries.\n",
    "\n",
    "The method `molsysmt.convert()` requires at least two input arguments: the original pre-existing item in whatever form accepted by MolSysMT (see XXX), and the name of the output form: "
   ]
  },
  {
   "cell_type": "code",
   "execution_count": 3,
   "metadata": {},
   "outputs": [],
   "source": [
    "molecular_system = msm.convert('mmtf:1tcd', 'molsysmt.MolSys')"
   ]
  },
  {
   "cell_type": "markdown",
   "metadata": {},
   "source": [
    "The id code `1tcd` from the MMTF Protein Data Bank is converted into a native `molsysmt.MolSys` python object. At this point, you probably think that this operation can also be done with the method `molsysmt.load()`. And you are right. Actually, `molsysmt.load()` is nothing but an alias of `molsysmt.convert()`. Although redundant, a loading method was included in MolSysMT just for the sake of intuitive usability. But it could be removed from the library since `molsysmt.convert()` has the same functionality.\n",
    "\n",
    "The following cells illustrate some conversions you can do with `molsysmt.convert()`:"
   ]
  },
  {
   "cell_type": "code",
   "execution_count": 4,
   "metadata": {},
   "outputs": [],
   "source": [
    "msm.convert('pdb:1sux', '1sux.pdb') # fetching a pdb file to save it locally"
   ]
  },
  {
   "cell_type": "code",
   "execution_count": 5,
   "metadata": {},
   "outputs": [],
   "source": [
    "msm.convert('mmtf:1sux', '1sux.mmtf') # fetching an mmtf to save it locally"
   ]
  },
  {
   "cell_type": "code",
   "execution_count": 6,
   "metadata": {},
   "outputs": [],
   "source": [
    "molecular_system = msm.convert('1tcd.pdb', 'mdtraj.Trajectory') # loading a pdb file as an mdtraj.Trajectory object"
   ]
  },
  {
   "cell_type": "code",
   "execution_count": 7,
   "metadata": {},
   "outputs": [],
   "source": [
    "seq_aa3 = msm.convert(molecular_system, 'aminoacids3:seq') # converting the system to an aminoacids sequence"
   ]
  },
  {
   "cell_type": "code",
   "execution_count": 8,
   "metadata": {},
   "outputs": [
    {
     "name": "stdout",
     "output_type": "stream",
     "text": [
      "aminoacids3:LysProGlnProIleAlaAlaAlaAsnTrpLysCysAsnGlySerGluSerLeuLeuValProLeuIleGluThrLeuAsnAlaAlaThrPheAspHisAspValGlnCysValValAlaProThrPheLeuHisIleProMetThrLysAlaArgLeuThrAsnProLysPheGlnIleAlaAlaGlnAsnAlaIleThrArgSerGlyAlaPheThrGlyGluValSerLeuGlnIleLeuLysAspTyrGlyIleSerTrpValValLeuGlyHisSerGluArgArgLeuTyrTyrGlyGluThrAsnGluIleValAlaGluLysValAlaGlnAlaCysAlaAlaGlyPheHisValIleValCysValGlyGluThrAsnGluGluArgGluAlaGlyArgThrAlaAlaValValLeuThrGlnLeuAlaAlaValAlaGlnLysLeuSerLysGluAlaTrpSerArgValValIleAlaTyrGluProValTrpAlaIleGlyThrGlyLysValAlaThrProGlnGlnAlaGlnGluValHisGluLeuLeuArgArgTrpValArgSerLysLeuGlyThrAspIleAlaAlaGlnLeuArgIleLeuTyrGlyGlySerValThrAlaLysAsnAlaArgThrLeuTyrGlnMetArgAspIleAsnGlyPheLeuValGlyGlyAlaSerLeuLysProGluPheValGluIleIleGluAlaThrLysSerLysProGlnProIleAlaAlaAlaAsnTrpLysCysAsnGlySerGluSerLeuLeuValProLeuIleGluThrLeuAsnAlaAlaThrPheAspHisAspValGlnCysValValAlaProThrPheLeuHisIleProMetThrLysAlaArgLeuThrAsnProLysPheGlnIleAlaAlaGlnAsnAlaIleThrArgSerGlyAlaPheThrGlyGluValSerLeuGlnIleLeuLysAspTyrGlyIleSerTrpValValLeuGlyHisSerGluArgArgLeuTyrTyrGlyGluThrAsnGluIleValAlaGluLysValAlaGlnAlaCysAlaAlaGlyPheHisValIleValCysValGlyGluThrAsnGluGluArgGluAlaGlyArgThrAlaAlaValValLeuThrGlnLeuAlaAlaValAlaGlnLysLeuSerLysGluAlaTrpSerArgValValIleAlaTyrGluProValTrpAlaIleGlyThrGlyLysValAlaThrProGlnGlnAlaGlnGluValHisGluLeuLeuArgArgTrpValArgSerLysLeuGlyThrAspIleAlaAlaGlnLeuArgIleLeuTyrGlyGlySerValThrAlaLysAsnAlaArgThrLeuTyrGlnMetArgAspIleAsnGlyPheLeuValGlyGlyAlaSerLeuLysProGluPheValGluIleIleGluAlaThrLysHohHohHohHohHohHohHohHohHohHohHohHohHohHohHohHohHohHohHohHohHohHohHohHohHohHohHohHohHohHohHohHohHohHohHohHohHohHohHohHohHohHohHohHohHohHohHohHohHohHohHohHohHohHohHohHohHohHohHohHohHohHohHohHohHohHohHohHohHohHohHohHohHohHohHohHohHohHohHohHohHohHohHohHohHohHohHohHohHohHohHohHohHohHohHohHohHohHohHohHohHohHohHohHohHohHohHohHohHohHohHohHohHohHohHohHohHohHohHohHohHohHohHohHohHohHohHohHohHohHohHohHohHohHohHohHohHohHohHohHohHohHohHohHohHohHohHohHohHohHohHohHohHohHohHohHohHohHohHohHohHohHohHohHohHoh\n"
     ]
    }
   ],
   "source": [
    "print(seq_aa3)"
   ]
  },
  {
   "cell_type": "code",
   "execution_count": 9,
   "metadata": {},
   "outputs": [],
   "source": [
    "seq_aa1 = msm.convert(seq_aa3, 'aminoacids1:seq') # converting a sequence into other sequence form"
   ]
  },
  {
   "cell_type": "code",
   "execution_count": 10,
   "metadata": {},
   "outputs": [
    {
     "name": "stdout",
     "output_type": "stream",
     "text": [
      "aminoacids1:KPQPIAAANWKCNGSESLLVPLIETLNAATFDHDVQCVVAPTFLHIPMTKARLTNPKFQIAAQNAITRSGAFTGEVSLQILKDYGISWVVLGHSERRLYYGETNEIVAEKVAQACAAGFHVIVCVGETNEEREAGRTAAVVLTQLAAVAQKLSKEAWSRVVIAYEPVWAIGTGKVATPQQAQEVHELLRRWVRSKLGTDIAAQLRILYGGSVTAKNARTLYQMRDINGFLVGGASLKPEFVEIIEATKSKPQPIAAANWKCNGSESLLVPLIETLNAATFDHDVQCVVAPTFLHIPMTKARLTNPKFQIAAQNAITRSGAFTGEVSLQILKDYGISWVVLGHSERRLYYGETNEIVAEKVAQACAAGFHVIVCVGETNEEREAGRTAAVVLTQLAAVAQKLSKEAWSRVVIAYEPVWAIGTGKVATPQQAQEVHELLRRWVRSKLGTDIAAQLRILYGGSVTAKNARTLYQMRDINGFLVGGASLKPEFVEIIEATKXXXXXXXXXXXXXXXXXXXXXXXXXXXXXXXXXXXXXXXXXXXXXXXXXXXXXXXXXXXXXXXXXXXXXXXXXXXXXXXXXXXXXXXXXXXXXXXXXXXXXXXXXXXXXXXXXXXXXXXXXXXXXXXXXXXXXXXXXXXXXXXXXXXXXXXXXXXXXXXXXXXXX\n"
     ]
    }
   ],
   "source": [
    "print(seq_aa1)"
   ]
  },
  {
   "cell_type": "markdown",
   "metadata": {},
   "source": [
    "## How to convert just a selection"
   ]
  },
  {
   "cell_type": "markdown",
   "metadata": {},
   "source": [
    "The conversion can be done over the entiry system or over a part of it. The input argument `selection` works with most of the MolSysMT methods, with `molsysmt.convert()` also. To know more about how to perform selections there is a section on this documentation entitled \"XXX\". By now, lets see some simple selections to see how it operates: "
   ]
  },
  {
   "cell_type": "code",
   "execution_count": 14,
   "metadata": {},
   "outputs": [],
   "source": [
    "whole_molecular_system = msm.convert('1tcd.mmtf', to_form='molsysmt.DataFrame')"
   ]
  },
  {
   "cell_type": "code",
   "execution_count": 16,
   "metadata": {},
   "outputs": [
    {
     "data": {
      "text/html": [
       "<style  type=\"text/css\" >\n",
       "</style><table id=\"T_03c77fac_9744_11ea_ad51_ab35cc475485\" ><thead>    <tr>        <th class=\"col_heading level0 col0\" >form</th>        <th class=\"col_heading level0 col1\" >n atoms</th>        <th class=\"col_heading level0 col2\" >n groups</th>        <th class=\"col_heading level0 col3\" >n components</th>        <th class=\"col_heading level0 col4\" >n chains</th>        <th class=\"col_heading level0 col5\" >n molecules</th>        <th class=\"col_heading level0 col6\" >n entities</th>        <th class=\"col_heading level0 col7\" >n waters</th>        <th class=\"col_heading level0 col8\" >n proteins</th>        <th class=\"col_heading level0 col9\" >n frames</th>    </tr></thead><tbody>\n",
       "                <tr>\n",
       "                                <td id=\"T_03c77fac_9744_11ea_ad51_ab35cc475485row0_col0\" class=\"data row0 col0\" >molsysmt.DataFrame</td>\n",
       "                        <td id=\"T_03c77fac_9744_11ea_ad51_ab35cc475485row0_col1\" class=\"data row0 col1\" >3983</td>\n",
       "                        <td id=\"T_03c77fac_9744_11ea_ad51_ab35cc475485row0_col2\" class=\"data row0 col2\" >662</td>\n",
       "                        <td id=\"T_03c77fac_9744_11ea_ad51_ab35cc475485row0_col3\" class=\"data row0 col3\" >167</td>\n",
       "                        <td id=\"T_03c77fac_9744_11ea_ad51_ab35cc475485row0_col4\" class=\"data row0 col4\" >4</td>\n",
       "                        <td id=\"T_03c77fac_9744_11ea_ad51_ab35cc475485row0_col5\" class=\"data row0 col5\" >166</td>\n",
       "                        <td id=\"T_03c77fac_9744_11ea_ad51_ab35cc475485row0_col6\" class=\"data row0 col6\" >2</td>\n",
       "                        <td id=\"T_03c77fac_9744_11ea_ad51_ab35cc475485row0_col7\" class=\"data row0 col7\" >165</td>\n",
       "                        <td id=\"T_03c77fac_9744_11ea_ad51_ab35cc475485row0_col8\" class=\"data row0 col8\" >1</td>\n",
       "                        <td id=\"T_03c77fac_9744_11ea_ad51_ab35cc475485row0_col9\" class=\"data row0 col9\" >0</td>\n",
       "            </tr>\n",
       "    </tbody></table>"
      ],
      "text/plain": [
       "<pandas.io.formats.style.Styler at 0x7f486c059e50>"
      ]
     },
     "execution_count": 16,
     "metadata": {},
     "output_type": "execute_result"
    }
   ],
   "source": [
    "msm.info(whole_molecular_system)"
   ]
  },
  {
   "cell_type": "code",
   "execution_count": 17,
   "metadata": {},
   "outputs": [],
   "source": [
    "molecular_system = msm.convert('1tcd.mmtf', to_form='molsysmt.DataFrame', selection='molecule.type==\"protein\"')"
   ]
  },
  {
   "cell_type": "code",
   "execution_count": 18,
   "metadata": {},
   "outputs": [
    {
     "data": {
      "text/html": [
       "<style  type=\"text/css\" >\n",
       "</style><table id=\"T_088dd4b4_9744_11ea_ad51_ab35cc475485\" ><thead>    <tr>        <th class=\"col_heading level0 col0\" >form</th>        <th class=\"col_heading level0 col1\" >n atoms</th>        <th class=\"col_heading level0 col2\" >n groups</th>        <th class=\"col_heading level0 col3\" >n components</th>        <th class=\"col_heading level0 col4\" >n chains</th>        <th class=\"col_heading level0 col5\" >n molecules</th>        <th class=\"col_heading level0 col6\" >n entities</th>        <th class=\"col_heading level0 col7\" >n proteins</th>        <th class=\"col_heading level0 col8\" >n frames</th>    </tr></thead><tbody>\n",
       "                <tr>\n",
       "                                <td id=\"T_088dd4b4_9744_11ea_ad51_ab35cc475485row0_col0\" class=\"data row0 col0\" >molsysmt.DataFrame</td>\n",
       "                        <td id=\"T_088dd4b4_9744_11ea_ad51_ab35cc475485row0_col1\" class=\"data row0 col1\" >3818</td>\n",
       "                        <td id=\"T_088dd4b4_9744_11ea_ad51_ab35cc475485row0_col2\" class=\"data row0 col2\" >497</td>\n",
       "                        <td id=\"T_088dd4b4_9744_11ea_ad51_ab35cc475485row0_col3\" class=\"data row0 col3\" >2</td>\n",
       "                        <td id=\"T_088dd4b4_9744_11ea_ad51_ab35cc475485row0_col4\" class=\"data row0 col4\" >2</td>\n",
       "                        <td id=\"T_088dd4b4_9744_11ea_ad51_ab35cc475485row0_col5\" class=\"data row0 col5\" >1</td>\n",
       "                        <td id=\"T_088dd4b4_9744_11ea_ad51_ab35cc475485row0_col6\" class=\"data row0 col6\" >1</td>\n",
       "                        <td id=\"T_088dd4b4_9744_11ea_ad51_ab35cc475485row0_col7\" class=\"data row0 col7\" >1</td>\n",
       "                        <td id=\"T_088dd4b4_9744_11ea_ad51_ab35cc475485row0_col8\" class=\"data row0 col8\" >0</td>\n",
       "            </tr>\n",
       "    </tbody></table>"
      ],
      "text/plain": [
       "<pandas.io.formats.style.Styler at 0x7f4867a360d0>"
      ]
     },
     "execution_count": 18,
     "metadata": {},
     "output_type": "execute_result"
    }
   ],
   "source": [
    "msm.info(molecular_system)"
   ]
  },
  {
   "cell_type": "markdown",
   "metadata": {},
   "source": [
    "## How to combine multiple forms into one"
   ]
  },
  {
   "cell_type": "markdown",
   "metadata": {},
   "source": [
    "Sometimes the molecular system comes from the combination of more than a form. For example, we can have two files with topology and coordinates to be converted into an only molecular form:"
   ]
  },
  {
   "cell_type": "code",
   "execution_count": 19,
   "metadata": {},
   "outputs": [],
   "source": [
    "molecular_system = msm.convert(['pentalanine.prmtop','pentalanine.inpcrd'], to_form='molsysmt.MolSys')"
   ]
  },
  {
   "cell_type": "code",
   "execution_count": 20,
   "metadata": {},
   "outputs": [
    {
     "data": {
      "text/html": [
       "<style  type=\"text/css\" >\n",
       "</style><table id=\"T_158af9c6_9744_11ea_ad51_ab35cc475485\" ><thead>    <tr>        <th class=\"col_heading level0 col0\" >form</th>        <th class=\"col_heading level0 col1\" >n atoms</th>        <th class=\"col_heading level0 col2\" >n groups</th>        <th class=\"col_heading level0 col3\" >n components</th>        <th class=\"col_heading level0 col4\" >n chains</th>        <th class=\"col_heading level0 col5\" >n molecules</th>        <th class=\"col_heading level0 col6\" >n entities</th>        <th class=\"col_heading level0 col7\" >n frames</th>    </tr></thead><tbody>\n",
       "                <tr>\n",
       "                                <td id=\"T_158af9c6_9744_11ea_ad51_ab35cc475485row0_col0\" class=\"data row0 col0\" >molsysmt.MolSys</td>\n",
       "                        <td id=\"T_158af9c6_9744_11ea_ad51_ab35cc475485row0_col1\" class=\"data row0 col1\" >5207</td>\n",
       "                        <td id=\"T_158af9c6_9744_11ea_ad51_ab35cc475485row0_col2\" class=\"data row0 col2\" >1722</td>\n",
       "                        <td id=\"T_158af9c6_9744_11ea_ad51_ab35cc475485row0_col3\" class=\"data row0 col3\" >1716</td>\n",
       "                        <td id=\"T_158af9c6_9744_11ea_ad51_ab35cc475485row0_col4\" class=\"data row0 col4\" >1</td>\n",
       "                        <td id=\"T_158af9c6_9744_11ea_ad51_ab35cc475485row0_col5\" class=\"data row0 col5\" >1</td>\n",
       "                        <td id=\"T_158af9c6_9744_11ea_ad51_ab35cc475485row0_col6\" class=\"data row0 col6\" >1</td>\n",
       "                        <td id=\"T_158af9c6_9744_11ea_ad51_ab35cc475485row0_col7\" class=\"data row0 col7\" >1</td>\n",
       "            </tr>\n",
       "    </tbody></table>"
      ],
      "text/plain": [
       "<pandas.io.formats.style.Styler at 0x7f486e6363d0>"
      ]
     },
     "execution_count": 20,
     "metadata": {},
     "output_type": "execute_result"
    }
   ],
   "source": [
    "msm.info(molecular_system)"
   ]
  },
  {
   "cell_type": "markdown",
   "metadata": {},
   "source": [
    "## How to convert a form into multiple ones at once"
   ]
  },
  {
   "cell_type": "markdown",
   "metadata": {},
   "source": [
    "In the previous section the way to convert multiple forms into one was illustrated. Lets see now how to produce more than an output form in just a single line:"
   ]
  },
  {
   "cell_type": "code",
   "execution_count": 21,
   "metadata": {},
   "outputs": [],
   "source": [
    "dataframe, trajectory = msm.convert('pentalanine.h5', to_form=['molsysmt.DataFrame','molsysmt.Trajectory'])"
   ]
  },
  {
   "cell_type": "code",
   "execution_count": 22,
   "metadata": {},
   "outputs": [
    {
     "data": {
      "text/html": [
       "<style  type=\"text/css\" >\n",
       "</style><table id=\"T_22036c56_9744_11ea_ad51_ab35cc475485\" ><thead>    <tr>        <th class=\"col_heading level0 col0\" >form</th>        <th class=\"col_heading level0 col1\" >n atoms</th>        <th class=\"col_heading level0 col2\" >n groups</th>        <th class=\"col_heading level0 col3\" >n components</th>        <th class=\"col_heading level0 col4\" >n chains</th>        <th class=\"col_heading level0 col5\" >n molecules</th>        <th class=\"col_heading level0 col6\" >n entities</th>        <th class=\"col_heading level0 col7\" >n frames</th>    </tr></thead><tbody>\n",
       "                <tr>\n",
       "                                <td id=\"T_22036c56_9744_11ea_ad51_ab35cc475485row0_col0\" class=\"data row0 col0\" >molsysmt.DataFrame</td>\n",
       "                        <td id=\"T_22036c56_9744_11ea_ad51_ab35cc475485row0_col1\" class=\"data row0 col1\" >62</td>\n",
       "                        <td id=\"T_22036c56_9744_11ea_ad51_ab35cc475485row0_col2\" class=\"data row0 col2\" >7</td>\n",
       "                        <td id=\"T_22036c56_9744_11ea_ad51_ab35cc475485row0_col3\" class=\"data row0 col3\" >1</td>\n",
       "                        <td id=\"T_22036c56_9744_11ea_ad51_ab35cc475485row0_col4\" class=\"data row0 col4\" >1</td>\n",
       "                        <td id=\"T_22036c56_9744_11ea_ad51_ab35cc475485row0_col5\" class=\"data row0 col5\" >1</td>\n",
       "                        <td id=\"T_22036c56_9744_11ea_ad51_ab35cc475485row0_col6\" class=\"data row0 col6\" >1</td>\n",
       "                        <td id=\"T_22036c56_9744_11ea_ad51_ab35cc475485row0_col7\" class=\"data row0 col7\" >0</td>\n",
       "            </tr>\n",
       "    </tbody></table>"
      ],
      "text/plain": [
       "<pandas.io.formats.style.Styler at 0x7f48664c8850>"
      ]
     },
     "execution_count": 22,
     "metadata": {},
     "output_type": "execute_result"
    }
   ],
   "source": [
    "msm.info(dataframe)"
   ]
  },
  {
   "cell_type": "code",
   "execution_count": 23,
   "metadata": {},
   "outputs": [
    {
     "data": {
      "text/html": [
       "<style  type=\"text/css\" >\n",
       "</style><table id=\"T_27f6a6f0_9744_11ea_ad51_ab35cc475485\" ><thead>    <tr>        <th class=\"col_heading level0 col0\" >form</th>        <th class=\"col_heading level0 col1\" >n atoms</th>        <th class=\"col_heading level0 col2\" >n groups</th>        <th class=\"col_heading level0 col3\" >n components</th>        <th class=\"col_heading level0 col4\" >n chains</th>        <th class=\"col_heading level0 col5\" >n molecules</th>        <th class=\"col_heading level0 col6\" >n entities</th>        <th class=\"col_heading level0 col7\" >n waters</th>        <th class=\"col_heading level0 col8\" >n ions</th>        <th class=\"col_heading level0 col9\" >n cosolutes</th>        <th class=\"col_heading level0 col10\" >n small molecules</th>        <th class=\"col_heading level0 col11\" >n peptides</th>        <th class=\"col_heading level0 col12\" >n proteins</th>        <th class=\"col_heading level0 col13\" >n dnas</th>        <th class=\"col_heading level0 col14\" >n rnas</th>        <th class=\"col_heading level0 col15\" >n frames</th>    </tr></thead><tbody>\n",
       "                <tr>\n",
       "                                <td id=\"T_27f6a6f0_9744_11ea_ad51_ab35cc475485row0_col0\" class=\"data row0 col0\" >molsysmt.Trajectory</td>\n",
       "                        <td id=\"T_27f6a6f0_9744_11ea_ad51_ab35cc475485row0_col1\" class=\"data row0 col1\" >62</td>\n",
       "                        <td id=\"T_27f6a6f0_9744_11ea_ad51_ab35cc475485row0_col2\" class=\"data row0 col2\" >None</td>\n",
       "                        <td id=\"T_27f6a6f0_9744_11ea_ad51_ab35cc475485row0_col3\" class=\"data row0 col3\" >None</td>\n",
       "                        <td id=\"T_27f6a6f0_9744_11ea_ad51_ab35cc475485row0_col4\" class=\"data row0 col4\" >None</td>\n",
       "                        <td id=\"T_27f6a6f0_9744_11ea_ad51_ab35cc475485row0_col5\" class=\"data row0 col5\" >None</td>\n",
       "                        <td id=\"T_27f6a6f0_9744_11ea_ad51_ab35cc475485row0_col6\" class=\"data row0 col6\" >None</td>\n",
       "                        <td id=\"T_27f6a6f0_9744_11ea_ad51_ab35cc475485row0_col7\" class=\"data row0 col7\" >None</td>\n",
       "                        <td id=\"T_27f6a6f0_9744_11ea_ad51_ab35cc475485row0_col8\" class=\"data row0 col8\" >None</td>\n",
       "                        <td id=\"T_27f6a6f0_9744_11ea_ad51_ab35cc475485row0_col9\" class=\"data row0 col9\" >None</td>\n",
       "                        <td id=\"T_27f6a6f0_9744_11ea_ad51_ab35cc475485row0_col10\" class=\"data row0 col10\" >None</td>\n",
       "                        <td id=\"T_27f6a6f0_9744_11ea_ad51_ab35cc475485row0_col11\" class=\"data row0 col11\" >None</td>\n",
       "                        <td id=\"T_27f6a6f0_9744_11ea_ad51_ab35cc475485row0_col12\" class=\"data row0 col12\" >None</td>\n",
       "                        <td id=\"T_27f6a6f0_9744_11ea_ad51_ab35cc475485row0_col13\" class=\"data row0 col13\" >None</td>\n",
       "                        <td id=\"T_27f6a6f0_9744_11ea_ad51_ab35cc475485row0_col14\" class=\"data row0 col14\" >None</td>\n",
       "                        <td id=\"T_27f6a6f0_9744_11ea_ad51_ab35cc475485row0_col15\" class=\"data row0 col15\" >5000</td>\n",
       "            </tr>\n",
       "    </tbody></table>"
      ],
      "text/plain": [
       "<pandas.io.formats.style.Styler at 0x7f48664eee50>"
      ]
     },
     "execution_count": 23,
     "metadata": {},
     "output_type": "execute_result"
    }
   ],
   "source": [
    "msm.info(trajectory)"
   ]
  },
  {
   "cell_type": "markdown",
   "metadata": {},
   "source": [
    "Lets now combine both forms into one to see their were properly converted:"
   ]
  },
  {
   "cell_type": "code",
   "execution_count": 24,
   "metadata": {},
   "outputs": [
    {
     "name": "stdout",
     "output_type": "stream",
     "text": [
      "REMARK   1 CREATED WITH OPENMM 7.4.1 BY MOLSYSMT, 2020-05-16\n",
      "HETATM    1  H1  ACE A   1       7.249   2.812  -0.651  1.00  0.00           H  \n",
      "HETATM    2  CH3 ACE A   1       8.184   3.354  -0.797  1.00  0.00           C  \n",
      "HETATM    3  H2  ACE A   1       8.246   3.843  -1.769  1.00  0.00           H  \n",
      "HETATM    4  H3  ACE A   1       8.879   2.516  -0.838  1.00  0.00           H  \n",
      "HETATM    5  C   ACE A   1       8.514   4.229   0.378  1.00  0.00           C  \n",
      "HETATM    6  O   ACE A   1       9.025   3.617   1.320  1.00  0.00           O  \n",
      "ATOM      7  N   ALA A   2       8.131   5.505   0.206  1.00  0.00           N  \n",
      "ATOM      8  H   ALA A   2       7.661   5.747  -0.654  1.00  0.00           H  \n",
      "ATOM      9  CA  ALA A   2       8.375   6.544   1.175  1.00  0.00           C  \n",
      "ATOM     10  HA  ALA A   2       8.686   6.060   2.100  1.00  0.00           H  \n",
      "ATOM     11  CB  ALA A   2       9.619   7.378   0.809  1.00  0.00           C  \n",
      "ATOM     12  HB1 ALA A   2       9.428   7.802  -0.177  1.00  0.00           H  \n",
      "ATOM     13  HB2 ALA A   2       9.801   8.233   1.461  1.00  0.00           H  \n",
      "ATOM     14  HB3 ALA A   2      10.485   6.719   0.764  1.00  0.00           H  \n",
      "ATOM     15  C   ALA A   2       7.175   7.353   1.440  1.00  0.00           C  \n",
      "ATOM     16  O   ALA A   2       6.119   7.117   0.826  1.00  0.00           O  \n",
      "ATOM     17  N   ALA A   3       7.135   8.129   2.492  1.00  0.00           N  \n",
      "ATOM     18  H   ALA A   3       8.027   8.283   2.941  1.00  0.00           H  \n",
      "ATOM     19  CA  ALA A   3       5.868   8.719   3.089  1.00  0.00           C  \n",
      "ATOM     20  HA  ALA A   3       5.013   8.046   3.150  1.00  0.00           H  \n",
      "ATOM     21  CB  ALA A   3       6.162   9.148   4.561  1.00  0.00           C  \n",
      "ATOM     22  HB1 ALA A   3       6.896   9.952   4.495  1.00  0.00           H  \n",
      "ATOM     23  HB2 ALA A   3       5.266   9.541   5.040  1.00  0.00           H  \n",
      "ATOM     24  HB3 ALA A   3       6.518   8.267   5.095  1.00  0.00           H  \n",
      "ATOM     25  C   ALA A   3       5.317   9.947   2.233  1.00  0.00           C  \n",
      "ATOM     26  O   ALA A   3       4.318   9.800   1.564  1.00  0.00           O  \n",
      "ATOM     27  N   ALA A   4       6.187  10.941   2.082  1.00  0.00           N  \n",
      "ATOM     28  H   ALA A   4       7.049  10.754   2.574  1.00  0.00           H  \n",
      "ATOM     29  CA  ALA A   4       6.055  12.242   1.499  1.00  0.00           C  \n",
      "ATOM     30  HA  ALA A   4       5.106  12.365   0.978  1.00  0.00           H  \n",
      "ATOM     31  CB  ALA A   4       6.022  13.257   2.645  1.00  0.00           C  \n",
      "ATOM     32  HB1 ALA A   4       6.918  13.169   3.259  1.00  0.00           H  \n",
      "ATOM     33  HB2 ALA A   4       5.848  14.259   2.252  1.00  0.00           H  \n",
      "ATOM     34  HB3 ALA A   4       5.089  13.129   3.194  1.00  0.00           H  \n",
      "ATOM     35  C   ALA A   4       7.161  12.473   0.426  1.00  0.00           C  \n",
      "ATOM     36  O   ALA A   4       8.281  12.043   0.603  1.00  0.00           O  \n",
      "ATOM     37  N   ALA A   5       6.858  13.029  -0.769  1.00  0.00           N  \n",
      "ATOM     38  H   ALA A   5       5.889  13.209  -0.988  1.00  0.00           H  \n",
      "ATOM     39  CA  ALA A   5       7.845  13.174  -1.773  1.00  0.00           C  \n",
      "ATOM     40  HA  ALA A   5       8.308  12.190  -1.705  1.00  0.00           H  \n",
      "ATOM     41  CB  ALA A   5       7.181  13.435  -3.147  1.00  0.00           C  \n",
      "ATOM     42  HB1 ALA A   5       6.635  14.377  -3.192  1.00  0.00           H  \n",
      "ATOM     43  HB2 ALA A   5       7.828  13.567  -4.014  1.00  0.00           H  \n",
      "ATOM     44  HB3 ALA A   5       6.390  12.728  -3.397  1.00  0.00           H  \n",
      "ATOM     45  C   ALA A   5       8.913  14.302  -1.448  1.00  0.00           C  \n",
      "ATOM     46  O   ALA A   5       8.480  15.471  -1.274  1.00  0.00           O  \n",
      "ATOM     47  N   ALA A   6      10.234  13.998  -1.471  1.00  0.00           N  \n",
      "ATOM     48  H   ALA A   6      10.384  13.037  -1.741  1.00  0.00           H  \n",
      "ATOM     49  CA  ALA A   6      11.193  15.097  -1.604  1.00  0.00           C  \n",
      "ATOM     50  HA  ALA A   6      10.872  15.927  -0.974  1.00  0.00           H  \n",
      "ATOM     51  CB  ALA A   6      12.492  14.621  -0.922  1.00  0.00           C  \n",
      "ATOM     52  HB1 ALA A   6      12.945  13.842  -1.534  1.00  0.00           H  \n",
      "ATOM     53  HB2 ALA A   6      13.199  15.425  -0.716  1.00  0.00           H  \n",
      "ATOM     54  HB3 ALA A   6      12.244  14.328   0.098  1.00  0.00           H  \n",
      "ATOM     55  C   ALA A   6      11.414  15.585  -3.064  1.00  0.00           C  \n",
      "ATOM     56  O   ALA A   6      12.325  15.162  -3.686  1.00  0.00           O  \n",
      "HETATM   57  N   NME A   7      10.479  16.532  -3.533  1.00  0.00           N  \n",
      "HETATM   58  H   NME A   7       9.780  16.751  -2.838  1.00  0.00           H  \n",
      "HETATM   59  C   NME A   7      10.463  17.018  -4.961  1.00  0.00           C  \n",
      "HETATM   60  H1  NME A   7      11.460  16.914  -5.389  1.00  0.00           H  \n",
      "HETATM   61  H2  NME A   7       9.799  16.360  -5.521  1.00  0.00           H  \n",
      "HETATM   62  H3  NME A   7      10.024  18.011  -5.061  1.00  0.00           H  \n",
      "TER      63      NME A   7\n",
      "CONECT    1    2\n",
      "CONECT    2    1    3    4    5\n",
      "CONECT    3    2\n",
      "CONECT    4    2\n",
      "CONECT    5    2    6    7\n",
      "CONECT    6    5\n",
      "CONECT    7    5\n",
      "CONECT   55   57\n",
      "CONECT   57   55   58   59\n",
      "CONECT   58   57\n",
      "CONECT   59   57   60   61   62\n",
      "CONECT   60   59\n",
      "CONECT   61   59\n",
      "CONECT   62   59\n",
      "END\n",
      "\n"
     ]
    }
   ],
   "source": [
    "pdb_string = msm.convert([dataframe,trajectory], to_form='.pdb', frame_indices=0)\n",
    "print(pdb_string)"
   ]
  },
  {
   "cell_type": "markdown",
   "metadata": {},
   "source": [
    "## Some examples with files"
   ]
  },
  {
   "cell_type": "code",
   "execution_count": 25,
   "metadata": {},
   "outputs": [],
   "source": [
    "PDB_file = '1brs.pdb'\n",
    "system_pdbfixer = msm.convert(PDB_file, to_form='pdbfixer.PDBFixer')\n",
    "system_parmed = msm.convert(PDB_file, to_form='parmed.Structure')"
   ]
  },
  {
   "cell_type": "code",
   "execution_count": 26,
   "metadata": {},
   "outputs": [],
   "source": [
    "MOL2_file = 'caffeine.mol2'\n",
    "system_openmm = msm.convert(MOL2_file, to_form='openmm.Modeller')\n",
    "system_mdtraj = msm.convert(MOL2_file, to_form='mdtraj.Trajectory')"
   ]
  },
  {
   "cell_type": "code",
   "execution_count": 27,
   "metadata": {},
   "outputs": [],
   "source": [
    "MMTF_file = '1tcd.mmtf'\n",
    "system_aminoacids1_seq = msm.convert(MMTF_file, to_form='aminoacids1:seq')\n",
    "system_molsys = msm.convert(MMTF_file)"
   ]
  },
  {
   "cell_type": "code",
   "execution_count": 28,
   "metadata": {},
   "outputs": [
    {
     "name": "stdout",
     "output_type": "stream",
     "text": [
      "Form of object system_pdbfixer:  pdbfixer.PDBFixer\n",
      "Form of object system_parmed:  parmed.Structure\n",
      "Form of object system_openmm:  openmm.Modeller\n",
      "Form of object system_mdtraj:  mdtraj.Trajectory\n",
      "Form of object system_aminoacids1_seq:  aminoacids1:seq\n",
      "Form of object system_molsys:  molsysmt.MolSys\n"
     ]
    }
   ],
   "source": [
    "print('Form of object system_pdbfixer: ', msm.get(system_pdbfixer, target='system', form=True))\n",
    "print('Form of object system_parmed: ', msm.get(system_parmed, target='system', form=True))\n",
    "print('Form of object system_openmm: ', msm.get(system_openmm, target='system', form=True))\n",
    "print('Form of object system_mdtraj: ', msm.get(system_mdtraj, target='system', form=True))\n",
    "print('Form of object system_aminoacids1_seq: ', msm.get(system_aminoacids1_seq, target='system', form=True))\n",
    "print('Form of object system_molsys: ', msm.get(system_molsys, target='system', form=True))"
   ]
  },
  {
   "cell_type": "markdown",
   "metadata": {},
   "source": [
    "A single file can be converted into more than a form in just a line:"
   ]
  },
  {
   "cell_type": "code",
   "execution_count": 30,
   "metadata": {},
   "outputs": [],
   "source": [
    "dataframe, trajectory = msm.convert('pentalanine.h5', to_form=['molsysmt.DataFrame','molsysmt.Trajectory'])"
   ]
  },
  {
   "cell_type": "markdown",
   "metadata": {},
   "source": [
    "When the output file path is only a dot followed by the file extension, the output is a string insted of a written file. Lets see how this works when two forms are combinend into a pdb string:"
   ]
  },
  {
   "cell_type": "code",
   "execution_count": 31,
   "metadata": {},
   "outputs": [
    {
     "name": "stdout",
     "output_type": "stream",
     "text": [
      "REMARK   1 CREATED WITH OPENMM 7.4.1 BY MOLSYSMT, 2020-05-16\n",
      "HETATM    1  H1  ACE A   1       7.249   2.812  -0.651  1.00  0.00           H  \n",
      "HETATM    2  CH3 ACE A   1       8.184   3.354  -0.797  1.00  0.00           C  \n",
      "HETATM    3  H2  ACE A   1       8.246   3.843  -1.769  1.00  0.00           H  \n",
      "HETATM    4  H3  ACE A   1       8.879   2.516  -0.838  1.00  0.00           H  \n",
      "HETATM    5  C   ACE A   1       8.514   4.229   0.378  1.00  0.00           C  \n",
      "HETATM    6  O   ACE A   1       9.025   3.617   1.320  1.00  0.00           O  \n",
      "ATOM      7  N   ALA A   2       8.131   5.505   0.206  1.00  0.00           N  \n",
      "ATOM      8  H   ALA A   2       7.661   5.747  -0.654  1.00  0.00           H  \n",
      "ATOM      9  CA  ALA A   2       8.375   6.544   1.175  1.00  0.00           C  \n",
      "ATOM     10  HA  ALA A   2       8.686   6.060   2.100  1.00  0.00           H  \n",
      "ATOM     11  CB  ALA A   2       9.619   7.378   0.809  1.00  0.00           C  \n",
      "ATOM     12  HB1 ALA A   2       9.428   7.802  -0.177  1.00  0.00           H  \n",
      "ATOM     13  HB2 ALA A   2       9.801   8.233   1.461  1.00  0.00           H  \n",
      "ATOM     14  HB3 ALA A   2      10.485   6.719   0.764  1.00  0.00           H  \n",
      "ATOM     15  C   ALA A   2       7.175   7.353   1.440  1.00  0.00           C  \n",
      "ATOM     16  O   ALA A   2       6.119   7.117   0.826  1.00  0.00           O  \n",
      "ATOM     17  N   ALA A   3       7.135   8.129   2.492  1.00  0.00           N  \n",
      "ATOM     18  H   ALA A   3       8.027   8.283   2.941  1.00  0.00           H  \n",
      "ATOM     19  CA  ALA A   3       5.868   8.719   3.089  1.00  0.00           C  \n",
      "ATOM     20  HA  ALA A   3       5.013   8.046   3.150  1.00  0.00           H  \n",
      "ATOM     21  CB  ALA A   3       6.162   9.148   4.561  1.00  0.00           C  \n",
      "ATOM     22  HB1 ALA A   3       6.896   9.952   4.495  1.00  0.00           H  \n",
      "ATOM     23  HB2 ALA A   3       5.266   9.541   5.040  1.00  0.00           H  \n",
      "ATOM     24  HB3 ALA A   3       6.518   8.267   5.095  1.00  0.00           H  \n",
      "ATOM     25  C   ALA A   3       5.317   9.947   2.233  1.00  0.00           C  \n",
      "ATOM     26  O   ALA A   3       4.318   9.800   1.564  1.00  0.00           O  \n",
      "ATOM     27  N   ALA A   4       6.187  10.941   2.082  1.00  0.00           N  \n",
      "ATOM     28  H   ALA A   4       7.049  10.754   2.574  1.00  0.00           H  \n",
      "ATOM     29  CA  ALA A   4       6.055  12.242   1.499  1.00  0.00           C  \n",
      "ATOM     30  HA  ALA A   4       5.106  12.365   0.978  1.00  0.00           H  \n",
      "ATOM     31  CB  ALA A   4       6.022  13.257   2.645  1.00  0.00           C  \n",
      "ATOM     32  HB1 ALA A   4       6.918  13.169   3.259  1.00  0.00           H  \n",
      "ATOM     33  HB2 ALA A   4       5.848  14.259   2.252  1.00  0.00           H  \n",
      "ATOM     34  HB3 ALA A   4       5.089  13.129   3.194  1.00  0.00           H  \n",
      "ATOM     35  C   ALA A   4       7.161  12.473   0.426  1.00  0.00           C  \n",
      "ATOM     36  O   ALA A   4       8.281  12.043   0.603  1.00  0.00           O  \n",
      "ATOM     37  N   ALA A   5       6.858  13.029  -0.769  1.00  0.00           N  \n",
      "ATOM     38  H   ALA A   5       5.889  13.209  -0.988  1.00  0.00           H  \n",
      "ATOM     39  CA  ALA A   5       7.845  13.174  -1.773  1.00  0.00           C  \n",
      "ATOM     40  HA  ALA A   5       8.308  12.190  -1.705  1.00  0.00           H  \n",
      "ATOM     41  CB  ALA A   5       7.181  13.435  -3.147  1.00  0.00           C  \n",
      "ATOM     42  HB1 ALA A   5       6.635  14.377  -3.192  1.00  0.00           H  \n",
      "ATOM     43  HB2 ALA A   5       7.828  13.567  -4.014  1.00  0.00           H  \n",
      "ATOM     44  HB3 ALA A   5       6.390  12.728  -3.397  1.00  0.00           H  \n",
      "ATOM     45  C   ALA A   5       8.913  14.302  -1.448  1.00  0.00           C  \n",
      "ATOM     46  O   ALA A   5       8.480  15.471  -1.274  1.00  0.00           O  \n",
      "ATOM     47  N   ALA A   6      10.234  13.998  -1.471  1.00  0.00           N  \n",
      "ATOM     48  H   ALA A   6      10.384  13.037  -1.741  1.00  0.00           H  \n",
      "ATOM     49  CA  ALA A   6      11.193  15.097  -1.604  1.00  0.00           C  \n",
      "ATOM     50  HA  ALA A   6      10.872  15.927  -0.974  1.00  0.00           H  \n",
      "ATOM     51  CB  ALA A   6      12.492  14.621  -0.922  1.00  0.00           C  \n",
      "ATOM     52  HB1 ALA A   6      12.945  13.842  -1.534  1.00  0.00           H  \n",
      "ATOM     53  HB2 ALA A   6      13.199  15.425  -0.716  1.00  0.00           H  \n",
      "ATOM     54  HB3 ALA A   6      12.244  14.328   0.098  1.00  0.00           H  \n",
      "ATOM     55  C   ALA A   6      11.414  15.585  -3.064  1.00  0.00           C  \n",
      "ATOM     56  O   ALA A   6      12.325  15.162  -3.686  1.00  0.00           O  \n",
      "HETATM   57  N   NME A   7      10.479  16.532  -3.533  1.00  0.00           N  \n",
      "HETATM   58  H   NME A   7       9.780  16.751  -2.838  1.00  0.00           H  \n",
      "HETATM   59  C   NME A   7      10.463  17.018  -4.961  1.00  0.00           C  \n",
      "HETATM   60  H1  NME A   7      11.460  16.914  -5.389  1.00  0.00           H  \n",
      "HETATM   61  H2  NME A   7       9.799  16.360  -5.521  1.00  0.00           H  \n",
      "HETATM   62  H3  NME A   7      10.024  18.011  -5.061  1.00  0.00           H  \n",
      "TER      63      NME A   7\n",
      "CONECT    1    2\n",
      "CONECT    2    1    3    4    5\n",
      "CONECT    3    2\n",
      "CONECT    4    2\n",
      "CONECT    5    2    6    7\n",
      "CONECT    6    5\n",
      "CONECT    7    5\n",
      "CONECT   55   57\n",
      "CONECT   57   55   58   59\n",
      "CONECT   58   57\n",
      "CONECT   59   57   60   61   62\n",
      "CONECT   60   59\n",
      "CONECT   61   59\n",
      "CONECT   62   59\n",
      "END\n",
      "\n"
     ]
    }
   ],
   "source": [
    "pdb_string = msm.convert([dataframe,trajectory], to_form='.pdb', frame_indices=0)\n",
    "print(pdb_string)"
   ]
  },
  {
   "cell_type": "markdown",
   "metadata": {},
   "source": [
    "## Some examples with IDs"
   ]
  },
  {
   "cell_type": "code",
   "execution_count": 32,
   "metadata": {},
   "outputs": [],
   "source": [
    "molecular_system = msm.convert('pdb:1SUX', to_form='mdtraj.Trajectory')"
   ]
  },
  {
   "cell_type": "code",
   "execution_count": null,
   "metadata": {},
   "outputs": [],
   "source": []
  }
 ],
 "metadata": {
  "kernelspec": {
   "display_name": "Python 3",
   "language": "python",
   "name": "python3"
  },
  "language_info": {
   "codemirror_mode": {
    "name": "ipython",
    "version": 3
   },
   "file_extension": ".py",
   "mimetype": "text/x-python",
   "name": "python",
   "nbconvert_exporter": "python",
   "pygments_lexer": "ipython3",
   "version": "3.7.7"
  }
 },
 "nbformat": 4,
 "nbformat_minor": 4
}
