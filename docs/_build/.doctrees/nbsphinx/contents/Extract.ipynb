{
 "cells": [
  {
   "cell_type": "markdown",
   "metadata": {},
   "source": [
    "# Extracting a molecular subsystem"
   ]
  },
  {
   "cell_type": "markdown",
   "metadata": {},
   "source": [
    "## How to extract a molecular subsystem"
   ]
  },
  {
   "cell_type": "code",
   "execution_count": 1,
   "metadata": {
    "execution": {
     "iopub.execute_input": "2020-12-08T23:04:23.189447Z",
     "iopub.status.busy": "2020-12-08T23:04:23.188731Z",
     "iopub.status.idle": "2020-12-08T23:04:24.411706Z",
     "shell.execute_reply": "2020-12-08T23:04:24.410487Z"
    }
   },
   "outputs": [
    {
     "data": {
      "application/vnd.jupyter.widget-view+json": {
       "model_id": "a1b8fbdffe7a4cfdae60dad40df9f025",
       "version_major": 2,
       "version_minor": 0
      },
      "text/plain": []
     },
     "metadata": {},
     "output_type": "display_data"
    }
   ],
   "source": [
    "import molsysmt as msm"
   ]
  },
  {
   "cell_type": "code",
   "execution_count": 2,
   "metadata": {
    "execution": {
     "iopub.execute_input": "2020-12-08T23:04:24.423931Z",
     "iopub.status.busy": "2020-12-08T23:04:24.422861Z",
     "iopub.status.idle": "2020-12-08T23:04:24.426529Z",
     "shell.execute_reply": "2020-12-08T23:04:24.427621Z"
    }
   },
   "outputs": [
    {
     "data": {
      "text/plain": [
       "{'pentalanine.h5': '/home/diego/Projects/MolSysMT/molsysmt/demo_systems/pentalanine.h5',\n",
       " 'pentalanine.inpcrd': '/home/diego/Projects/MolSysMT/molsysmt/demo_systems/pentalanine.inpcrd',\n",
       " 'pentalanine.prmtop': '/home/diego/Projects/MolSysMT/molsysmt/demo_systems/pentalanine.prmtop',\n",
       " 'metenkephalin.pdb': '/home/diego/Projects/MolSysMT/molsysmt/demo_systems/metenkephalin.pdb',\n",
       " 'trp-cage.pdb': '/home/diego/Projects/MolSysMT/molsysmt/demo_systems/trp-cage.pdb',\n",
       " 'trp-cage_solvated.pdb': '/home/diego/Projects/MolSysMT/molsysmt/demo_systems/trp-cage_solvated.pdb',\n",
       " '1brs.pdb': '/home/diego/Projects/MolSysMT/molsysmt/demo_systems/1brs.pdb',\n",
       " '1brs.mmtf': '/home/diego/Projects/MolSysMT/molsysmt/demo_systems/1brs.mmtf',\n",
       " '1sux.pdb': '/home/diego/Projects/MolSysMT/molsysmt/demo_systems/1sux.pdb',\n",
       " '1sux.mmtf': '/home/diego/Projects/MolSysMT/molsysmt/demo_systems/1sux.mmtf',\n",
       " '1tcd.pdb': '/home/diego/Projects/MolSysMT/molsysmt/demo_systems/1tcd.pdb',\n",
       " '1tcd.mmtf': '/home/diego/Projects/MolSysMT/molsysmt/demo_systems/1tcd.mmtf',\n",
       " 'caffeine.mol2': '/home/diego/Projects/MolSysMT/molsysmt/demo_systems/caffeine.mol2',\n",
       " 'HIF1_HS_Mod.pdb': '/home/diego/Projects/MolSysMT/molsysmt/demo_systems/HIF1_HS_Mod.pdb'}"
      ]
     },
     "execution_count": 1,
     "metadata": {},
     "output_type": "execute_result"
    }
   ],
   "source": [
    "msm.demo_systems.files"
   ]
  },
  {
   "cell_type": "code",
   "execution_count": null,
   "metadata": {},
   "outputs": [],
   "source": []
  }
 ],
 "metadata": {
  "kernelspec": {
   "display_name": "Python 3",
   "language": "python",
   "name": "python3"
  },
  "language_info": {
   "codemirror_mode": {
    "name": "ipython",
    "version": 3
   },
   "file_extension": ".py",
   "mimetype": "text/x-python",
   "name": "python",
   "nbconvert_exporter": "python",
   "pygments_lexer": "ipython3",
   "version": "3.7.7"
  },
  "widgets": {
   "application/vnd.jupyter.widget-state+json": {
    "state": {
     "24216c6ce39542f8b1b838e96edf691e": {
      "model_module": "@jupyter-widgets/base",
      "model_module_version": "1.2.0",
      "model_name": "LayoutModel",
      "state": {
       "_model_module": "@jupyter-widgets/base",
       "_model_module_version": "1.2.0",
       "_model_name": "LayoutModel",
       "_view_count": null,
       "_view_module": "@jupyter-widgets/base",
       "_view_module_version": "1.2.0",
       "_view_name": "LayoutView",
       "align_content": null,
       "align_items": null,
       "align_self": null,
       "border": null,
       "bottom": null,
       "display": null,
       "flex": null,
       "flex_flow": null,
       "grid_area": null,
       "grid_auto_columns": null,
       "grid_auto_flow": null,
       "grid_auto_rows": null,
       "grid_column": null,
       "grid_gap": null,
       "grid_row": null,
       "grid_template_areas": null,
       "grid_template_columns": null,
       "grid_template_rows": null,
       "height": null,
       "justify_content": null,
       "justify_items": null,
       "left": null,
       "margin": null,
       "max_height": null,
       "max_width": null,
       "min_height": null,
       "min_width": null,
       "object_fit": null,
       "object_position": null,
       "order": null,
       "overflow": null,
       "overflow_x": null,
       "overflow_y": null,
       "padding": null,
       "right": null,
       "top": null,
       "visibility": null,
       "width": null
      }
     },
     "a1b8fbdffe7a4cfdae60dad40df9f025": {
      "model_module": "nglview-js-widgets",
      "model_module_version": "2.7.7",
      "model_name": "ColormakerRegistryModel",
      "state": {
       "_dom_classes": [],
       "_model_module": "nglview-js-widgets",
       "_model_module_version": "2.7.7",
       "_model_name": "ColormakerRegistryModel",
       "_msg_ar": [],
       "_msg_q": [],
       "_ready": false,
       "_view_count": null,
       "_view_module": "nglview-js-widgets",
       "_view_module_version": "2.7.7",
       "_view_name": "ColormakerRegistryView",
       "layout": "IPY_MODEL_24216c6ce39542f8b1b838e96edf691e"
      }
     }
    },
    "version_major": 2,
    "version_minor": 0
   }
  }
 },
 "nbformat": 4,
 "nbformat_minor": 4
}
