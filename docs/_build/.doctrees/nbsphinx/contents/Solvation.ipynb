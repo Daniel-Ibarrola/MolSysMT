{
 "cells": [
  {
   "cell_type": "code",
   "execution_count": 1,
   "metadata": {
    "execution": {
     "iopub.execute_input": "2020-12-08T23:04:38.258250Z",
     "iopub.status.busy": "2020-12-08T23:04:38.257532Z",
     "iopub.status.idle": "2020-12-08T23:04:38.270197Z",
     "shell.execute_reply": "2020-12-08T23:04:38.269492Z"
    }
   },
   "outputs": [],
   "source": [
    "%load_ext autoreload\n",
    "%autoreload 2"
   ]
  },
  {
   "cell_type": "code",
   "execution_count": 2,
   "metadata": {
    "execution": {
     "iopub.execute_input": "2020-12-08T23:04:38.274756Z",
     "iopub.status.busy": "2020-12-08T23:04:38.273828Z",
     "iopub.status.idle": "2020-12-08T23:04:39.506743Z",
     "shell.execute_reply": "2020-12-08T23:04:39.507629Z"
    }
   },
   "outputs": [
    {
     "data": {
      "application/vnd.jupyter.widget-view+json": {
       "model_id": "f829c7dbb028434080677e3f7799af61",
       "version_major": 2,
       "version_minor": 0
      },
      "text/plain": []
     },
     "metadata": {},
     "output_type": "display_data"
    }
   ],
   "source": [
    "import molsysmt as msm\n",
    "from simtk import unit"
   ]
  },
  {
   "cell_type": "markdown",
   "metadata": {},
   "source": [
    "# Adding solvent"
   ]
  },
  {
   "cell_type": "code",
   "execution_count": 3,
   "metadata": {
    "execution": {
     "iopub.execute_input": "2020-12-08T23:04:39.513420Z",
     "iopub.status.busy": "2020-12-08T23:04:39.512332Z",
     "iopub.status.idle": "2020-12-08T23:04:39.530086Z",
     "shell.execute_reply": "2020-12-08T23:04:39.531038Z"
    }
   },
   "outputs": [],
   "source": [
    "pdbfile = msm.demo_systems.files['metenkephalin.pdb']"
   ]
  },
  {
   "cell_type": "code",
   "execution_count": 4,
   "metadata": {
    "execution": {
     "iopub.execute_input": "2020-12-08T23:04:39.536542Z",
     "iopub.status.busy": "2020-12-08T23:04:39.535432Z",
     "iopub.status.idle": "2020-12-08T23:04:39.597561Z",
     "shell.execute_reply": "2020-12-08T23:04:39.596608Z"
    }
   },
   "outputs": [],
   "source": [
    "molecular_system = msm.convert(pdbfile)"
   ]
  },
  {
   "cell_type": "code",
   "execution_count": 5,
   "metadata": {
    "execution": {
     "iopub.execute_input": "2020-12-08T23:04:39.602590Z",
     "iopub.status.busy": "2020-12-08T23:04:39.601457Z",
     "iopub.status.idle": "2020-12-08T23:04:39.901250Z",
     "shell.execute_reply": "2020-12-08T23:04:39.900308Z"
    }
   },
   "outputs": [
    {
     "data": {
      "text/html": [
       "<style  type=\"text/css\" >\n",
       "</style><table id=\"T_c00722fa_39a9_11eb_b394_1c1b0d075c26\" ><thead>    <tr>        <th class=\"col_heading level0 col0\" >form</th>        <th class=\"col_heading level0 col1\" >n_atoms</th>        <th class=\"col_heading level0 col2\" >n_groups</th>        <th class=\"col_heading level0 col3\" >n_components</th>        <th class=\"col_heading level0 col4\" >n_chains</th>        <th class=\"col_heading level0 col5\" >n_molecules</th>        <th class=\"col_heading level0 col6\" >n_entities</th>        <th class=\"col_heading level0 col7\" >n_peptides</th>        <th class=\"col_heading level0 col8\" >n_frames</th>    </tr></thead><tbody>\n",
       "                <tr>\n",
       "                                <td id=\"T_c00722fa_39a9_11eb_b394_1c1b0d075c26row0_col0\" class=\"data row0 col0\" >molsysmt.MolSys</td>\n",
       "                        <td id=\"T_c00722fa_39a9_11eb_b394_1c1b0d075c26row0_col1\" class=\"data row0 col1\" >72</td>\n",
       "                        <td id=\"T_c00722fa_39a9_11eb_b394_1c1b0d075c26row0_col2\" class=\"data row0 col2\" >5</td>\n",
       "                        <td id=\"T_c00722fa_39a9_11eb_b394_1c1b0d075c26row0_col3\" class=\"data row0 col3\" >1</td>\n",
       "                        <td id=\"T_c00722fa_39a9_11eb_b394_1c1b0d075c26row0_col4\" class=\"data row0 col4\" >1</td>\n",
       "                        <td id=\"T_c00722fa_39a9_11eb_b394_1c1b0d075c26row0_col5\" class=\"data row0 col5\" >1</td>\n",
       "                        <td id=\"T_c00722fa_39a9_11eb_b394_1c1b0d075c26row0_col6\" class=\"data row0 col6\" >1</td>\n",
       "                        <td id=\"T_c00722fa_39a9_11eb_b394_1c1b0d075c26row0_col7\" class=\"data row0 col7\" >1</td>\n",
       "                        <td id=\"T_c00722fa_39a9_11eb_b394_1c1b0d075c26row0_col8\" class=\"data row0 col8\" >1</td>\n",
       "            </tr>\n",
       "    </tbody></table>"
      ],
      "text/plain": [
       "<pandas.io.formats.style.Styler at 0x7f6ca1600350>"
      ]
     },
     "execution_count": 1,
     "metadata": {},
     "output_type": "execute_result"
    }
   ],
   "source": [
    "msm.info(molecular_system)"
   ]
  },
  {
   "cell_type": "code",
   "execution_count": 6,
   "metadata": {
    "execution": {
     "iopub.execute_input": "2020-12-08T23:04:39.906929Z",
     "iopub.status.busy": "2020-12-08T23:04:39.906006Z",
     "iopub.status.idle": "2020-12-08T23:04:39.930273Z",
     "shell.execute_reply": "2020-12-08T23:04:39.931009Z"
    }
   },
   "outputs": [
    {
     "name": "stdout",
     "output_type": "stream",
     "text": [
      "The molecular system has 0 waters and 0 ions.\n"
     ]
    }
   ],
   "source": [
    "n_waters, n_ions = msm.get(molecular_system, target='system',\n",
    "                           n_waters=True, n_ions=True)\n",
    "print('The molecular system has {} waters and {} ions.'.format(n_waters, n_ions))"
   ]
  },
  {
   "cell_type": "code",
   "execution_count": 7,
   "metadata": {
    "execution": {
     "iopub.execute_input": "2020-12-08T23:04:39.935220Z",
     "iopub.status.busy": "2020-12-08T23:04:39.934324Z",
     "iopub.status.idle": "2020-12-08T23:04:39.968998Z",
     "shell.execute_reply": "2020-12-08T23:04:39.968089Z"
    }
   },
   "outputs": [],
   "source": [
    "molecular_system = msm.remove_hydrogens(molecular_system)"
   ]
  },
  {
   "cell_type": "code",
   "execution_count": 8,
   "metadata": {
    "execution": {
     "iopub.execute_input": "2020-12-08T23:04:39.973661Z",
     "iopub.status.busy": "2020-12-08T23:04:39.972670Z",
     "iopub.status.idle": "2020-12-08T23:04:41.034324Z",
     "shell.execute_reply": "2020-12-08T23:04:41.035282Z"
    }
   },
   "outputs": [],
   "source": [
    "molecular_system_solvated = msm.solvate(molecular_system, box_geometry='cubic',\n",
    "                                        clearance=14.0*unit.angstroms, water='TIP3P',\n",
    "                                        verbose=False)"
   ]
  },
  {
   "cell_type": "code",
   "execution_count": 9,
   "metadata": {
    "execution": {
     "iopub.execute_input": "2020-12-08T23:04:41.040357Z",
     "iopub.status.busy": "2020-12-08T23:04:41.039435Z",
     "iopub.status.idle": "2020-12-08T23:04:41.076137Z",
     "shell.execute_reply": "2020-12-08T23:04:41.077266Z"
    }
   },
   "outputs": [
    {
     "data": {
      "text/html": [
       "<style  type=\"text/css\" >\n",
       "</style><table id=\"T_c0bb834e_39a9_11eb_b394_1c1b0d075c26\" ><thead>    <tr>        <th class=\"col_heading level0 col0\" >form</th>        <th class=\"col_heading level0 col1\" >n_atoms</th>        <th class=\"col_heading level0 col2\" >n_groups</th>        <th class=\"col_heading level0 col3\" >n_components</th>        <th class=\"col_heading level0 col4\" >n_chains</th>        <th class=\"col_heading level0 col5\" >n_molecules</th>        <th class=\"col_heading level0 col6\" >n_entities</th>        <th class=\"col_heading level0 col7\" >n_waters</th>        <th class=\"col_heading level0 col8\" >n_peptides</th>        <th class=\"col_heading level0 col9\" >n_frames</th>    </tr></thead><tbody>\n",
       "                <tr>\n",
       "                                <td id=\"T_c0bb834e_39a9_11eb_b394_1c1b0d075c26row0_col0\" class=\"data row0 col0\" >molsysmt.MolSys</td>\n",
       "                        <td id=\"T_c0bb834e_39a9_11eb_b394_1c1b0d075c26row0_col1\" class=\"data row0 col1\" >11646</td>\n",
       "                        <td id=\"T_c0bb834e_39a9_11eb_b394_1c1b0d075c26row0_col2\" class=\"data row0 col2\" >3862</td>\n",
       "                        <td id=\"T_c0bb834e_39a9_11eb_b394_1c1b0d075c26row0_col3\" class=\"data row0 col3\" >3858</td>\n",
       "                        <td id=\"T_c0bb834e_39a9_11eb_b394_1c1b0d075c26row0_col4\" class=\"data row0 col4\" >1</td>\n",
       "                        <td id=\"T_c0bb834e_39a9_11eb_b394_1c1b0d075c26row0_col5\" class=\"data row0 col5\" >3858</td>\n",
       "                        <td id=\"T_c0bb834e_39a9_11eb_b394_1c1b0d075c26row0_col6\" class=\"data row0 col6\" >2</td>\n",
       "                        <td id=\"T_c0bb834e_39a9_11eb_b394_1c1b0d075c26row0_col7\" class=\"data row0 col7\" >3857</td>\n",
       "                        <td id=\"T_c0bb834e_39a9_11eb_b394_1c1b0d075c26row0_col8\" class=\"data row0 col8\" >1</td>\n",
       "                        <td id=\"T_c0bb834e_39a9_11eb_b394_1c1b0d075c26row0_col9\" class=\"data row0 col9\" >1</td>\n",
       "            </tr>\n",
       "    </tbody></table>"
      ],
      "text/plain": [
       "<pandas.io.formats.style.Styler at 0x7f6ca0163b90>"
      ]
     },
     "execution_count": 1,
     "metadata": {},
     "output_type": "execute_result"
    }
   ],
   "source": [
    "msm.info(molecular_system_solvated)"
   ]
  },
  {
   "cell_type": "code",
   "execution_count": 10,
   "metadata": {
    "execution": {
     "iopub.execute_input": "2020-12-08T23:04:41.082471Z",
     "iopub.status.busy": "2020-12-08T23:04:41.081377Z",
     "iopub.status.idle": "2020-12-08T23:04:41.102577Z",
     "shell.execute_reply": "2020-12-08T23:04:41.103274Z"
    }
   },
   "outputs": [
    {
     "name": "stdout",
     "output_type": "stream",
     "text": [
      "The molecular system has 3857 waters and 0 ions.\n"
     ]
    }
   ],
   "source": [
    "n_waters, n_ions = msm.get(molecular_system_solvated, target='system',\n",
    "                           n_waters=True, n_ions=True)\n",
    "print('The molecular system has {} waters and {} ions.'.format(n_waters, n_ions))"
   ]
  },
  {
   "cell_type": "markdown",
   "metadata": {},
   "source": [
    "With Openmm:"
   ]
  },
  {
   "cell_type": "code",
   "execution_count": 11,
   "metadata": {
    "execution": {
     "iopub.execute_input": "2020-12-08T23:04:41.107573Z",
     "iopub.status.busy": "2020-12-08T23:04:41.106692Z",
     "iopub.status.idle": "2020-12-08T23:04:41.150937Z",
     "shell.execute_reply": "2020-12-08T23:04:41.151741Z"
    }
   },
   "outputs": [],
   "source": [
    "molecular_system = msm.convert(pdbfile)"
   ]
  },
  {
   "cell_type": "code",
   "execution_count": 12,
   "metadata": {
    "execution": {
     "iopub.execute_input": "2020-12-08T23:04:41.156351Z",
     "iopub.status.busy": "2020-12-08T23:04:41.155366Z",
     "iopub.status.idle": "2020-12-08T23:04:41.176929Z",
     "shell.execute_reply": "2020-12-08T23:04:41.177834Z"
    }
   },
   "outputs": [
    {
     "data": {
      "text/plain": [
       "33"
      ]
     },
     "execution_count": 1,
     "metadata": {},
     "output_type": "execute_result"
    }
   ],
   "source": [
    "msm.get(molecular_system, selection='atom_type==\"H\"', n_atoms=True)"
   ]
  },
  {
   "cell_type": "code",
   "execution_count": 13,
   "metadata": {
    "execution": {
     "iopub.execute_input": "2020-12-08T23:04:41.182497Z",
     "iopub.status.busy": "2020-12-08T23:04:41.181384Z",
     "iopub.status.idle": "2020-12-08T23:04:41.201219Z",
     "shell.execute_reply": "2020-12-08T23:04:41.202085Z"
    }
   },
   "outputs": [],
   "source": [
    "#molecular_system_solvated = msm.solvate(molecular_system, box_geometry='cubic',\n",
    "#                                        clearance=14.0*unit.angstroms, water='TIP3P',\n",
    "#                                        engine='OpenMM', verbose=False)"
   ]
  },
  {
   "cell_type": "markdown",
   "metadata": {},
   "source": [
    "## Octahedral"
   ]
  },
  {
   "cell_type": "code",
   "execution_count": 14,
   "metadata": {
    "execution": {
     "iopub.execute_input": "2020-12-08T23:04:41.206785Z",
     "iopub.status.busy": "2020-12-08T23:04:41.205767Z",
     "iopub.status.idle": "2020-12-08T23:04:41.225280Z",
     "shell.execute_reply": "2020-12-08T23:04:41.224268Z"
    }
   },
   "outputs": [],
   "source": [
    "pdbfile = msm.demo_systems.files['1tcd.pdb']"
   ]
  },
  {
   "cell_type": "code",
   "execution_count": 15,
   "metadata": {
    "execution": {
     "iopub.execute_input": "2020-12-08T23:04:41.230230Z",
     "iopub.status.busy": "2020-12-08T23:04:41.229103Z",
     "iopub.status.idle": "2020-12-08T23:04:41.641935Z",
     "shell.execute_reply": "2020-12-08T23:04:41.640878Z"
    }
   },
   "outputs": [],
   "source": [
    "molecular_system = msm.convert(pdbfile)"
   ]
  },
  {
   "cell_type": "code",
   "execution_count": 16,
   "metadata": {
    "execution": {
     "iopub.execute_input": "2020-12-08T23:04:41.647364Z",
     "iopub.status.busy": "2020-12-08T23:04:41.646238Z",
     "iopub.status.idle": "2020-12-08T23:04:41.678259Z",
     "shell.execute_reply": "2020-12-08T23:04:41.677320Z"
    }
   },
   "outputs": [
    {
     "data": {
      "text/html": [
       "<style  type=\"text/css\" >\n",
       "</style><table id=\"T_c11751c4_39a9_11eb_b394_1c1b0d075c26\" ><thead>    <tr>        <th class=\"col_heading level0 col0\" >form</th>        <th class=\"col_heading level0 col1\" >n_atoms</th>        <th class=\"col_heading level0 col2\" >n_groups</th>        <th class=\"col_heading level0 col3\" >n_components</th>        <th class=\"col_heading level0 col4\" >n_chains</th>        <th class=\"col_heading level0 col5\" >n_molecules</th>        <th class=\"col_heading level0 col6\" >n_entities</th>        <th class=\"col_heading level0 col7\" >n_waters</th>        <th class=\"col_heading level0 col8\" >n_proteins</th>        <th class=\"col_heading level0 col9\" >n_frames</th>    </tr></thead><tbody>\n",
       "                <tr>\n",
       "                                <td id=\"T_c11751c4_39a9_11eb_b394_1c1b0d075c26row0_col0\" class=\"data row0 col0\" >molsysmt.MolSys</td>\n",
       "                        <td id=\"T_c11751c4_39a9_11eb_b394_1c1b0d075c26row0_col1\" class=\"data row0 col1\" >3983</td>\n",
       "                        <td id=\"T_c11751c4_39a9_11eb_b394_1c1b0d075c26row0_col2\" class=\"data row0 col2\" >662</td>\n",
       "                        <td id=\"T_c11751c4_39a9_11eb_b394_1c1b0d075c26row0_col3\" class=\"data row0 col3\" >167</td>\n",
       "                        <td id=\"T_c11751c4_39a9_11eb_b394_1c1b0d075c26row0_col4\" class=\"data row0 col4\" >4</td>\n",
       "                        <td id=\"T_c11751c4_39a9_11eb_b394_1c1b0d075c26row0_col5\" class=\"data row0 col5\" >167</td>\n",
       "                        <td id=\"T_c11751c4_39a9_11eb_b394_1c1b0d075c26row0_col6\" class=\"data row0 col6\" >3</td>\n",
       "                        <td id=\"T_c11751c4_39a9_11eb_b394_1c1b0d075c26row0_col7\" class=\"data row0 col7\" >165</td>\n",
       "                        <td id=\"T_c11751c4_39a9_11eb_b394_1c1b0d075c26row0_col8\" class=\"data row0 col8\" >2</td>\n",
       "                        <td id=\"T_c11751c4_39a9_11eb_b394_1c1b0d075c26row0_col9\" class=\"data row0 col9\" >1</td>\n",
       "            </tr>\n",
       "    </tbody></table>"
      ],
      "text/plain": [
       "<pandas.io.formats.style.Styler at 0x7f6c9f7fb0d0>"
      ]
     },
     "execution_count": 1,
     "metadata": {},
     "output_type": "execute_result"
    }
   ],
   "source": [
    "msm.info(molecular_system)"
   ]
  },
  {
   "cell_type": "code",
   "execution_count": 17,
   "metadata": {
    "execution": {
     "iopub.execute_input": "2020-12-08T23:04:41.683349Z",
     "iopub.status.busy": "2020-12-08T23:04:41.682174Z",
     "iopub.status.idle": "2020-12-08T23:04:41.702519Z",
     "shell.execute_reply": "2020-12-08T23:04:41.703438Z"
    }
   },
   "outputs": [
    {
     "name": "stdout",
     "output_type": "stream",
     "text": [
      "The molecular system has 165 waters and 0 ions.\n"
     ]
    }
   ],
   "source": [
    "n_waters, n_ions = msm.get(molecular_system, target='system',\n",
    "                           n_waters=True, n_ions=True)\n",
    "print('The molecular system has {} waters and {} ions.'.format(n_waters, n_ions))"
   ]
  },
  {
   "cell_type": "code",
   "execution_count": 18,
   "metadata": {
    "execution": {
     "iopub.execute_input": "2020-12-08T23:04:41.708021Z",
     "iopub.status.busy": "2020-12-08T23:04:41.706971Z",
     "iopub.status.idle": "2020-12-08T23:04:41.730069Z",
     "shell.execute_reply": "2020-12-08T23:04:41.730959Z"
    }
   },
   "outputs": [
    {
     "name": "stdout",
     "output_type": "stream",
     "text": [
      "0\n"
     ]
    }
   ],
   "source": [
    "n_Hs = msm.get(molecular_system, selection='atom_type==\"H\"', n_atoms=True)\n",
    "print(n_Hs)"
   ]
  },
  {
   "cell_type": "code",
   "execution_count": 19,
   "metadata": {
    "execution": {
     "iopub.execute_input": "2020-12-08T23:04:41.735316Z",
     "iopub.status.busy": "2020-12-08T23:04:41.734235Z",
     "iopub.status.idle": "2020-12-08T23:04:41.754963Z",
     "shell.execute_reply": "2020-12-08T23:04:41.754003Z"
    }
   },
   "outputs": [],
   "source": [
    "#molecular_system_solvated = msm.solvate(molecular_system, box_geometry='cubic',\n",
    "#                                        clearance=14.0*unit.angstroms, water='TIP3P',\n",
    "#                                        verbose=False)"
   ]
  },
  {
   "cell_type": "code",
   "execution_count": 20,
   "metadata": {
    "execution": {
     "iopub.execute_input": "2020-12-08T23:04:41.763306Z",
     "iopub.status.busy": "2020-12-08T23:04:41.762231Z",
     "iopub.status.idle": "2020-12-08T23:04:41.791849Z",
     "shell.execute_reply": "2020-12-08T23:04:41.792908Z"
    }
   },
   "outputs": [
    {
     "data": {
      "text/html": [
       "<style  type=\"text/css\" >\n",
       "</style><table id=\"T_c128ce2c_39a9_11eb_b394_1c1b0d075c26\" ><thead>    <tr>        <th class=\"col_heading level0 col0\" >form</th>        <th class=\"col_heading level0 col1\" >n_atoms</th>        <th class=\"col_heading level0 col2\" >n_groups</th>        <th class=\"col_heading level0 col3\" >n_components</th>        <th class=\"col_heading level0 col4\" >n_chains</th>        <th class=\"col_heading level0 col5\" >n_molecules</th>        <th class=\"col_heading level0 col6\" >n_entities</th>        <th class=\"col_heading level0 col7\" >n_waters</th>        <th class=\"col_heading level0 col8\" >n_peptides</th>        <th class=\"col_heading level0 col9\" >n_frames</th>    </tr></thead><tbody>\n",
       "                <tr>\n",
       "                                <td id=\"T_c128ce2c_39a9_11eb_b394_1c1b0d075c26row0_col0\" class=\"data row0 col0\" >molsysmt.MolSys</td>\n",
       "                        <td id=\"T_c128ce2c_39a9_11eb_b394_1c1b0d075c26row0_col1\" class=\"data row0 col1\" >11646</td>\n",
       "                        <td id=\"T_c128ce2c_39a9_11eb_b394_1c1b0d075c26row0_col2\" class=\"data row0 col2\" >3862</td>\n",
       "                        <td id=\"T_c128ce2c_39a9_11eb_b394_1c1b0d075c26row0_col3\" class=\"data row0 col3\" >3858</td>\n",
       "                        <td id=\"T_c128ce2c_39a9_11eb_b394_1c1b0d075c26row0_col4\" class=\"data row0 col4\" >1</td>\n",
       "                        <td id=\"T_c128ce2c_39a9_11eb_b394_1c1b0d075c26row0_col5\" class=\"data row0 col5\" >3858</td>\n",
       "                        <td id=\"T_c128ce2c_39a9_11eb_b394_1c1b0d075c26row0_col6\" class=\"data row0 col6\" >2</td>\n",
       "                        <td id=\"T_c128ce2c_39a9_11eb_b394_1c1b0d075c26row0_col7\" class=\"data row0 col7\" >3857</td>\n",
       "                        <td id=\"T_c128ce2c_39a9_11eb_b394_1c1b0d075c26row0_col8\" class=\"data row0 col8\" >1</td>\n",
       "                        <td id=\"T_c128ce2c_39a9_11eb_b394_1c1b0d075c26row0_col9\" class=\"data row0 col9\" >1</td>\n",
       "            </tr>\n",
       "    </tbody></table>"
      ],
      "text/plain": [
       "<pandas.io.formats.style.Styler at 0x7f6c9ffb2f50>"
      ]
     },
     "execution_count": 1,
     "metadata": {},
     "output_type": "execute_result"
    }
   ],
   "source": [
    "msm.info(molecular_system_solvated)"
   ]
  }
 ],
 "metadata": {
  "kernelspec": {
   "display_name": "Python 3",
   "language": "python",
   "name": "python3"
  },
  "language_info": {
   "codemirror_mode": {
    "name": "ipython",
    "version": 3
   },
   "file_extension": ".py",
   "mimetype": "text/x-python",
   "name": "python",
   "nbconvert_exporter": "python",
   "pygments_lexer": "ipython3",
   "version": "3.7.7"
  },
  "widgets": {
   "application/vnd.jupyter.widget-state+json": {
    "state": {
     "f52c46bc9a4841018bb8d685368c020c": {
      "model_module": "@jupyter-widgets/base",
      "model_module_version": "1.2.0",
      "model_name": "LayoutModel",
      "state": {
       "_model_module": "@jupyter-widgets/base",
       "_model_module_version": "1.2.0",
       "_model_name": "LayoutModel",
       "_view_count": null,
       "_view_module": "@jupyter-widgets/base",
       "_view_module_version": "1.2.0",
       "_view_name": "LayoutView",
       "align_content": null,
       "align_items": null,
       "align_self": null,
       "border": null,
       "bottom": null,
       "display": null,
       "flex": null,
       "flex_flow": null,
       "grid_area": null,
       "grid_auto_columns": null,
       "grid_auto_flow": null,
       "grid_auto_rows": null,
       "grid_column": null,
       "grid_gap": null,
       "grid_row": null,
       "grid_template_areas": null,
       "grid_template_columns": null,
       "grid_template_rows": null,
       "height": null,
       "justify_content": null,
       "justify_items": null,
       "left": null,
       "margin": null,
       "max_height": null,
       "max_width": null,
       "min_height": null,
       "min_width": null,
       "object_fit": null,
       "object_position": null,
       "order": null,
       "overflow": null,
       "overflow_x": null,
       "overflow_y": null,
       "padding": null,
       "right": null,
       "top": null,
       "visibility": null,
       "width": null
      }
     },
     "f829c7dbb028434080677e3f7799af61": {
      "model_module": "nglview-js-widgets",
      "model_module_version": "2.7.7",
      "model_name": "ColormakerRegistryModel",
      "state": {
       "_dom_classes": [],
       "_model_module": "nglview-js-widgets",
       "_model_module_version": "2.7.7",
       "_model_name": "ColormakerRegistryModel",
       "_msg_ar": [],
       "_msg_q": [],
       "_ready": false,
       "_view_count": null,
       "_view_module": "nglview-js-widgets",
       "_view_module_version": "2.7.7",
       "_view_name": "ColormakerRegistryView",
       "layout": "IPY_MODEL_f52c46bc9a4841018bb8d685368c020c"
      }
     }
    },
    "version_major": 2,
    "version_minor": 0
   }
  }
 },
 "nbformat": 4,
 "nbformat_minor": 4
}
