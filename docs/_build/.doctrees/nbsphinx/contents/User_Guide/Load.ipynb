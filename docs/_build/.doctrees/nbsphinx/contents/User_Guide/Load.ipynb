{
 "cells": [
  {
   "cell_type": "code",
   "execution_count": 1,
   "metadata": {},
   "outputs": [],
   "source": [
    "%load_ext autoreload\n",
    "%autoreload 2"
   ]
  },
  {
   "cell_type": "code",
   "execution_count": 3,
   "metadata": {},
   "outputs": [],
   "source": [
    "import molsysmt as msm"
   ]
  },
  {
   "cell_type": "markdown",
   "metadata": {},
   "source": [
    "# How to load a molecular system\n",
    "\n",
    "Probably the first operation to begin to work with the model of a molecular system is loading it. There is a method to do that with MolSysMT no matter the original form or the desired output form: `molsysmt.load()`. Lets see some simple examples."
   ]
  },
  {
   "cell_type": "markdown",
   "metadata": {},
   "source": [
    "## From a file\n",
    "\n",
    "MolSysMT is able to load several file formats, see the section ['Molecular systems forms'](./Forms.ipynb#Files).\n",
    "The following cells show some examples with three files (you can find here) loaded as different forms:"
   ]
  },
  {
   "cell_type": "code",
   "execution_count": 4,
   "metadata": {},
   "outputs": [],
   "source": [
    "PDB_file = '1brs.pdb'\n",
    "system_pdbfixer = msm.load(PDB_file, to_form='pdbfixer.PDBFixer')\n",
    "system_parmed = msm.load(PDB_file, to_form='parmed.Structure')"
   ]
  },
  {
   "cell_type": "code",
   "execution_count": 5,
   "metadata": {},
   "outputs": [],
   "source": [
    "MOL2_file = 'caffeine.mol2'\n",
    "system_openmm = msm.load(MOL2_file, to_form='openmm.Modeller')\n",
    "system_mdtraj = msm.load(MOL2_file, to_form='mdtraj.Trajectory')"
   ]
  },
  {
   "cell_type": "code",
   "execution_count": 6,
   "metadata": {},
   "outputs": [],
   "source": [
    "MMTF_file = '1tcd.mmtf'\n",
    "system_aminoacids1_seq = msm.load(MMTF_file, to_form='aminoacids1:seq')\n",
    "system_molsys = msm.load(MMTF_file)"
   ]
  },
  {
   "cell_type": "markdown",
   "metadata": {},
   "source": [
    "The form of these last objects can be checked with the method `molsysmt.get()`. Although there is a documentation section to explain the use `molsysmt.get()` to obtain attributes and observables of the molecular system and its elements, knowing how to get the form name of a system is enough at this point:"
   ]
  },
  {
   "cell_type": "code",
   "execution_count": 7,
   "metadata": {},
   "outputs": [
    {
     "data": {
      "text/plain": [
       "'pdbfixer.PDBFixer'"
      ]
     },
     "execution_count": 7,
     "metadata": {},
     "output_type": "execute_result"
    }
   ],
   "source": [
    "msm.get(system_pdbfixer, target='system', form=True)"
   ]
  },
  {
   "cell_type": "markdown",
   "metadata": {},
   "source": [
    "This way we can easily verify the files were loaded with the form required:"
   ]
  },
  {
   "cell_type": "code",
   "execution_count": 8,
   "metadata": {},
   "outputs": [
    {
     "name": "stdout",
     "output_type": "stream",
     "text": [
      "Form of object system_pdbfixer:  pdbfixer.PDBFixer\n",
      "Form of object system_parmed:  parmed.Structure\n",
      "Form of object system_openmm:  openmm.Modeller\n",
      "Form of object system_mdtraj:  mdtraj.Trajectory\n",
      "Form of object system_aminoacids1_seq:  aminoacids1:seq\n",
      "Form of object system_molsys:  molsysmt.MolSys\n"
     ]
    }
   ],
   "source": [
    "print('Form of object system_pdbfixer: ', msm.get(system_pdbfixer, target='system', form=True))\n",
    "print('Form of object system_parmed: ', msm.get(system_parmed, target='system', form=True))\n",
    "print('Form of object system_openmm: ', msm.get(system_openmm, target='system', form=True))\n",
    "print('Form of object system_mdtraj: ', msm.get(system_mdtraj, target='system', form=True))\n",
    "print('Form of object system_aminoacids1_seq: ', msm.get(system_aminoacids1_seq, target='system', form=True))\n",
    "print('Form of object system_molsys: ', msm.get(system_molsys, target='system', form=True))"
   ]
  },
  {
   "cell_type": "markdown",
   "metadata": {},
   "source": [
    "## From internet databases"
   ]
  },
  {
   "cell_type": "markdown",
   "metadata": {},
   "source": [
    "There is a special family of molecular system forms in MolSysMT: the id codes. Referring to certain systems by means of their PDB, UniProt or ChEMBL id code allows all of us working with shared purged and validated information. Thereby almost every python library or computational tool includes a way to fetch a system straight from the web server with few effort for the user. MolSysMT also does it. You probably don’t remember how to fetch a system from a server to be included in your work flow with parmed, pdbfixer, mdtraj, pytraj or mdanalysis native object -just to mention some-. MolSysMT assists you with a common method with a unique syntaxis for all these different molecular system forms or python objects.\n",
    "\n",
    "As you can see in section XXX, the way to tell MolSysMT that a string is an id code is adding a suffix with the name of the id nature follwed by \":\" and the code. For instance, the 'pdb:1SUX' string is recognized by MolSysMT as a molecular model encoded by its PDB ID:"
   ]
  },
  {
   "cell_type": "code",
   "execution_count": 9,
   "metadata": {},
   "outputs": [
    {
     "data": {
      "text/plain": [
       "'pdb:id'"
      ]
     },
     "execution_count": 9,
     "metadata": {},
     "output_type": "execute_result"
    }
   ],
   "source": [
    "msm.get('pdb:1SUX', target='system', form=True)"
   ]
  },
  {
   "cell_type": "markdown",
   "metadata": {},
   "source": [
    "Let see now how this PDB id can be used as the input item of `molsysmt.load()`:"
   ]
  },
  {
   "cell_type": "code",
   "execution_count": 10,
   "metadata": {},
   "outputs": [],
   "source": [
    "system_mdtraj = msm.load('pdb:1SUX', to_form='mdtraj.Trajectory')"
   ]
  },
  {
   "cell_type": "markdown",
   "metadata": {},
   "source": [
    "The set of id codes MolSysMT can work with can be found in the XXX."
   ]
  },
  {
   "cell_type": "markdown",
   "metadata": {},
   "source": [
    "Finally, the method `molsysmt.load()` works with some input arguments such as `selection` or `indices`. Nothing was said about them in this section, you will find some examples on the use of these arguments in the section about the method `molsysmt.convert()`."
   ]
  },
  {
   "cell_type": "markdown",
   "metadata": {},
   "source": [
    "<div class=\"alert alert-block alert-info\">\n",
    "<b>Note:</b> As you will see in the following section (How to), the method `molsysmt.load` is equivalent to `molsysmt.convert`. The only reason to include `molsysmt.load` in MolSysMT is that 'loading' an initial object is more intuitive for many users than 'converting' a form.\n",
    "</div>"
   ]
  }
 ],
 "metadata": {
  "kernelspec": {
   "display_name": "Python 3",
   "language": "python",
   "name": "python3"
  },
  "language_info": {
   "codemirror_mode": {
    "name": "ipython",
    "version": 3
   },
   "file_extension": ".py",
   "mimetype": "text/x-python",
   "name": "python",
   "nbconvert_exporter": "python",
   "pygments_lexer": "ipython3",
   "version": "3.7.7"
  }
 },
 "nbformat": 4,
 "nbformat_minor": 4
}
