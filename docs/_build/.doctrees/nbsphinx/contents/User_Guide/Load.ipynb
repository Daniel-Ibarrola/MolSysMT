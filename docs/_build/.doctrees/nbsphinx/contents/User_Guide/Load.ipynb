{
 "cells": [
  {
   "cell_type": "code",
   "execution_count": 1,
   "metadata": {},
   "outputs": [],
   "source": [
    "%load_ext autoreload\n",
    "%autoreload 2"
   ]
  },
  {
   "cell_type": "code",
   "execution_count": 3,
   "metadata": {},
   "outputs": [],
   "source": [
    "import molsysmt as msm"
   ]
  },
  {
   "cell_type": "markdown",
   "metadata": {},
   "source": [
    "# How to load a molecular system\n",
    "\n",
    "Probably the first operation to begin to work with the model of a molecular system is loading it. There is a method to do that with MolSysMT no matter the original form or the desired output form: `molsysmt.load()`. Lets see some simple examples."
   ]
  },
  {
   "cell_type": "markdown",
   "metadata": {},
   "source": [
    "## From a file\n",
    "\n",
    "MolSysMT is able to load several file formats, see the section ['Molecular systems forms'](./Forms.ipynb#Files). Here you can find some examples:"
   ]
  },
  {
   "cell_type": "code",
   "execution_count": 4,
   "metadata": {},
   "outputs": [],
   "source": [
    "PDB_file = '1brs.pdb'\n",
    "\n",
    "system_pdbfixer = msm.load(PDB_file, to_form='pdbfixer.PDBFixer')\n",
    "system_parmed = msm.load(PDB_file, to_form='parmed.Structure')"
   ]
  },
  {
   "cell_type": "code",
   "execution_count": 5,
   "metadata": {},
   "outputs": [],
   "source": [
    "MOL2_file = 'caffeine.mol2'\n",
    "system_openmm = msm.load(MOL2_file, to_form='openmm.Modeller')\n",
    "system_mdtraj = msm.load(MOL2_file, to_form='mdtraj.Trajectory')"
   ]
  },
  {
   "cell_type": "code",
   "execution_count": 6,
   "metadata": {},
   "outputs": [
    {
     "ename": "ImportError",
     "evalue": "cannot import name 'to_aminoacids1_seq' from 'molsysmt.forms.classes.api_molsysmt_Composition' (/home/diego/Proyectos/MolSysMT/molsysmt/forms/classes/api_molsysmt_Composition.py)",
     "output_type": "error",
     "traceback": [
      "\u001b[0;31m---------------------------------------------------------------------------\u001b[0m",
      "\u001b[0;31mImportError\u001b[0m                               Traceback (most recent call last)",
      "\u001b[0;32m<ipython-input-6-a42bf44229cf>\u001b[0m in \u001b[0;36m<module>\u001b[0;34m\u001b[0m\n\u001b[1;32m      1\u001b[0m \u001b[0mMMTF_file\u001b[0m \u001b[0;34m=\u001b[0m \u001b[0;34m'1tcd.mmtf'\u001b[0m\u001b[0;34m\u001b[0m\u001b[0;34m\u001b[0m\u001b[0m\n\u001b[0;32m----> 2\u001b[0;31m \u001b[0msystem_aminoacids1_seq\u001b[0m \u001b[0;34m=\u001b[0m \u001b[0mmsm\u001b[0m\u001b[0;34m.\u001b[0m\u001b[0mload\u001b[0m\u001b[0;34m(\u001b[0m\u001b[0mMMTF_file\u001b[0m\u001b[0;34m,\u001b[0m \u001b[0mto_form\u001b[0m\u001b[0;34m=\u001b[0m\u001b[0;34m'aminoacids1:seq'\u001b[0m\u001b[0;34m)\u001b[0m\u001b[0;34m\u001b[0m\u001b[0;34m\u001b[0m\u001b[0m\n\u001b[0m\u001b[1;32m      3\u001b[0m \u001b[0msystem_mdtraj\u001b[0m   \u001b[0;34m=\u001b[0m \u001b[0mmsm\u001b[0m\u001b[0;34m.\u001b[0m\u001b[0mload\u001b[0m\u001b[0;34m(\u001b[0m\u001b[0mMMTF_file\u001b[0m\u001b[0;34m)\u001b[0m\u001b[0;34m\u001b[0m\u001b[0;34m\u001b[0m\u001b[0m\n",
      "\u001b[0;32m~/Proyectos/MolSysMT/molsysmt/multitool.py\u001b[0m in \u001b[0;36mload\u001b[0;34m(item, selection, frame_indices, to_form, syntaxis, **kwargs)\u001b[0m\n\u001b[1;32m    804\u001b[0m     \"\"\"\n\u001b[1;32m    805\u001b[0m \u001b[0;34m\u001b[0m\u001b[0m\n\u001b[0;32m--> 806\u001b[0;31m     \u001b[0;32mreturn\u001b[0m \u001b[0mconvert\u001b[0m\u001b[0;34m(\u001b[0m\u001b[0mitem\u001b[0m\u001b[0;34m,\u001b[0m \u001b[0mselection\u001b[0m\u001b[0;34m=\u001b[0m\u001b[0mselection\u001b[0m\u001b[0;34m,\u001b[0m \u001b[0mframe_indices\u001b[0m\u001b[0;34m=\u001b[0m\u001b[0mframe_indices\u001b[0m\u001b[0;34m,\u001b[0m \u001b[0mto_form\u001b[0m\u001b[0;34m=\u001b[0m\u001b[0mto_form\u001b[0m\u001b[0;34m,\u001b[0m \u001b[0msyntaxis\u001b[0m\u001b[0;34m=\u001b[0m\u001b[0msyntaxis\u001b[0m\u001b[0;34m,\u001b[0m \u001b[0;34m**\u001b[0m\u001b[0mkwargs\u001b[0m\u001b[0;34m)\u001b[0m\u001b[0;34m\u001b[0m\u001b[0;34m\u001b[0m\u001b[0m\n\u001b[0m\u001b[1;32m    807\u001b[0m \u001b[0;34m\u001b[0m\u001b[0m\n\u001b[1;32m    808\u001b[0m \u001b[0;34m\u001b[0m\u001b[0m\n",
      "\u001b[0;32m~/Proyectos/MolSysMT/molsysmt/multitool.py\u001b[0m in \u001b[0;36mconvert\u001b[0;34m(item, to_form, selection, frame_indices, syntaxis, **kwargs)\u001b[0m\n\u001b[1;32m    876\u001b[0m         \u001b[0;32mif\u001b[0m \u001b[0mform_out\u001b[0m \u001b[0;34m!=\u001b[0m \u001b[0mform_in\u001b[0m\u001b[0;34m:\u001b[0m\u001b[0;34m\u001b[0m\u001b[0;34m\u001b[0m\u001b[0m\n\u001b[1;32m    877\u001b[0m             return _dict_converter[form_in][form_out](item, atom_indices=atom_indices,\n\u001b[0;32m--> 878\u001b[0;31m                                                       frame_indices=frame_indices, **kwargs)\n\u001b[0m\u001b[1;32m    879\u001b[0m         \u001b[0;32melse\u001b[0m\u001b[0;34m:\u001b[0m\u001b[0;34m\u001b[0m\u001b[0;34m\u001b[0m\u001b[0m\n\u001b[1;32m    880\u001b[0m             \u001b[0;32mreturn\u001b[0m \u001b[0mextract\u001b[0m\u001b[0;34m(\u001b[0m\u001b[0mitem\u001b[0m\u001b[0;34m,\u001b[0m \u001b[0mselection\u001b[0m\u001b[0;34m=\u001b[0m\u001b[0matom_indices\u001b[0m\u001b[0;34m,\u001b[0m \u001b[0mframe_indices\u001b[0m\u001b[0;34m=\u001b[0m\u001b[0mframe_indices\u001b[0m\u001b[0;34m)\u001b[0m\u001b[0;34m\u001b[0m\u001b[0;34m\u001b[0m\u001b[0m\n",
      "\u001b[0;32m~/Proyectos/MolSysMT/molsysmt/forms/files/api_mmtf.py\u001b[0m in \u001b[0;36mto_aminoacids1_seq\u001b[0;34m(item, atom_indices, frame_indices)\u001b[0m\n\u001b[1;32m     51\u001b[0m \u001b[0;32mdef\u001b[0m \u001b[0mto_aminoacids1_seq\u001b[0m\u001b[0;34m(\u001b[0m\u001b[0mitem\u001b[0m\u001b[0;34m,\u001b[0m \u001b[0matom_indices\u001b[0m\u001b[0;34m=\u001b[0m\u001b[0;34m'all'\u001b[0m\u001b[0;34m,\u001b[0m \u001b[0mframe_indices\u001b[0m\u001b[0;34m=\u001b[0m\u001b[0;34m'all'\u001b[0m\u001b[0;34m)\u001b[0m\u001b[0;34m:\u001b[0m\u001b[0;34m\u001b[0m\u001b[0;34m\u001b[0m\u001b[0m\n\u001b[1;32m     52\u001b[0m \u001b[0;34m\u001b[0m\u001b[0m\n\u001b[0;32m---> 53\u001b[0;31m     \u001b[0;32mfrom\u001b[0m \u001b[0mmolsysmt\u001b[0m\u001b[0;34m.\u001b[0m\u001b[0mforms\u001b[0m\u001b[0;34m.\u001b[0m\u001b[0mclasses\u001b[0m\u001b[0;34m.\u001b[0m\u001b[0mapi_molsysmt_Composition\u001b[0m \u001b[0;32mimport\u001b[0m \u001b[0mto_aminoacids1_seq\u001b[0m \u001b[0;32mas\u001b[0m \u001b[0mmolsysmt_Composition_to_aminoacids1_seq\u001b[0m\u001b[0;34m\u001b[0m\u001b[0;34m\u001b[0m\u001b[0m\n\u001b[0m\u001b[1;32m     54\u001b[0m     \u001b[0mtmp_item\u001b[0m \u001b[0;34m=\u001b[0m \u001b[0mto_molsysmt_Composition\u001b[0m\u001b[0;34m(\u001b[0m\u001b[0mitem\u001b[0m\u001b[0;34m,\u001b[0m \u001b[0matom_indices\u001b[0m\u001b[0;34m=\u001b[0m\u001b[0matom_indices\u001b[0m\u001b[0;34m)\u001b[0m\u001b[0;34m\u001b[0m\u001b[0;34m\u001b[0m\u001b[0m\n\u001b[1;32m     55\u001b[0m     \u001b[0mtmp_item\u001b[0m \u001b[0;34m=\u001b[0m \u001b[0mmolsysmt_Composition_to_aminoacids1_seq\u001b[0m\u001b[0;34m(\u001b[0m\u001b[0mtmp_item\u001b[0m\u001b[0;34m)\u001b[0m\u001b[0;34m\u001b[0m\u001b[0;34m\u001b[0m\u001b[0m\n",
      "\u001b[0;31mImportError\u001b[0m: cannot import name 'to_aminoacids1_seq' from 'molsysmt.forms.classes.api_molsysmt_Composition' (/home/diego/Proyectos/MolSysMT/molsysmt/forms/classes/api_molsysmt_Composition.py)"
     ]
    }
   ],
   "source": [
    "MMTF_file = '1tcd.mmtf'\n",
    "system_aminoacids1_seq = msm.load(MMTF_file, to_form='aminoacids1:seq')\n",
    "system_mdtraj   = msm.load(MMTF_file)"
   ]
  },
  {
   "cell_type": "code",
   "execution_count": null,
   "metadata": {},
   "outputs": [],
   "source": []
  },
  {
   "cell_type": "markdown",
   "metadata": {},
   "source": [
    "<div class=\"alert alert-block alert-info\">\n",
    "<b>Note:</b> As you will see in Basic Manipuations, the method `molsysmt.load` is equivalent to `molsysmt.convert`. The only reason to include `molsysmt.load` in MolSysMT is that 'loading' an initial object is more intuitive for many users than 'converting' a form.\n",
    "</div>"
   ]
  },
  {
   "cell_type": "markdown",
   "metadata": {},
   "source": [
    "## Fetching molecular models from web databases"
   ]
  },
  {
   "cell_type": "markdown",
   "metadata": {},
   "source": [
    "### From the Protein Data Bank\n",
    "\n",
    "The way to tell MolSysMT that a string is a PDB ID code is adding 'pdb:' at the begining of the string as suffix. For instance, the 'pdb:1SUX' item is recognized as a molecular model encoded by its PDB ID, or using the MolSysMT's jargon: as a molecular model in its 'pdb:id' form."
   ]
  },
  {
   "cell_type": "code",
   "execution_count": null,
   "metadata": {},
   "outputs": [],
   "source": [
    "m3t.get_form('pdb:1SUX')"
   ]
  },
  {
   "cell_type": "markdown",
   "metadata": {},
   "source": [
    "Let see how this PDB ID can be used as input as the input item of `molsysmt.load()`"
   ]
  },
  {
   "cell_type": "code",
   "execution_count": null,
   "metadata": {},
   "outputs": [],
   "source": [
    "molecular_model = m3t.load('pdb:1SUX')"
   ]
  },
  {
   "cell_type": "code",
   "execution_count": null,
   "metadata": {},
   "outputs": [],
   "source": []
  },
  {
   "cell_type": "markdown",
   "metadata": {},
   "source": [
    "In its most simple way of calling `molsysmt.load()`, the output is a molecular model in the native form of MolSysMT."
   ]
  },
  {
   "cell_type": "code",
   "execution_count": null,
   "metadata": {},
   "outputs": [],
   "source": []
  },
  {
   "cell_type": "code",
   "execution_count": null,
   "metadata": {},
   "outputs": [],
   "source": []
  },
  {
   "cell_type": "markdown",
   "metadata": {},
   "source": [
    "You probably don’t remember how to fetch a pdb from the protein data bank to be loaded in your script as a parmed, pdbfixer, mdtraj, nglview, pytraj, mdanalysis, or mmtf native object -just to mention some-. One of the MolSysMT main features is the ability"
   ]
  },
  {
   "cell_type": "code",
   "execution_count": null,
   "metadata": {},
   "outputs": [],
   "source": [
    "molecular_model = m3t.load('pdb:1SUX', to_form='mmtf.MMTFDecoder')"
   ]
  },
  {
   "cell_type": "code",
   "execution_count": null,
   "metadata": {},
   "outputs": [],
   "source": [
    "m3t.get_form(molecular_model)"
   ]
  },
  {
   "cell_type": "code",
   "execution_count": null,
   "metadata": {},
   "outputs": [],
   "source": [
    "from mmtf import fetch"
   ]
  },
  {
   "cell_type": "code",
   "execution_count": null,
   "metadata": {},
   "outputs": [],
   "source": [
    "aa = fetch('1sux')"
   ]
  },
  {
   "cell_type": "code",
   "execution_count": null,
   "metadata": {},
   "outputs": [],
   "source": [
    "import mmtf"
   ]
  },
  {
   "cell_type": "code",
   "execution_count": null,
   "metadata": {},
   "outputs": [],
   "source": [
    "help(mmtf.write_mmtf)"
   ]
  },
  {
   "cell_type": "code",
   "execution_count": null,
   "metadata": {},
   "outputs": [],
   "source": [
    "mmtf.write_mmtf('prueba.mmtf',aa)"
   ]
  },
  {
   "cell_type": "code",
   "execution_count": null,
   "metadata": {},
   "outputs": [],
   "source": [
    "mmtf.api.write_mmtf('nada.mmtf',aa,'all')"
   ]
  },
  {
   "cell_type": "markdown",
   "metadata": {},
   "source": [
    "## From MMTF file"
   ]
  },
  {
   "cell_type": "code",
   "execution_count": 8,
   "metadata": {},
   "outputs": [],
   "source": [
    "molecular_model = msm.load('1tcd.mmtf', to_form='molsysmt.DataFrame')"
   ]
  },
  {
   "cell_type": "code",
   "execution_count": 9,
   "metadata": {},
   "outputs": [
    {
     "data": {
      "text/html": [
       "<div>\n",
       "<style scoped>\n",
       "    .dataframe tbody tr th:only-of-type {\n",
       "        vertical-align: middle;\n",
       "    }\n",
       "\n",
       "    .dataframe tbody tr th {\n",
       "        vertical-align: top;\n",
       "    }\n",
       "\n",
       "    .dataframe thead th {\n",
       "        text-align: right;\n",
       "    }\n",
       "</style>\n",
       "<table border=\"1\" class=\"dataframe\">\n",
       "  <thead>\n",
       "    <tr style=\"text-align: right;\">\n",
       "      <th></th>\n",
       "      <th>atom.index</th>\n",
       "      <th>atom.name</th>\n",
       "      <th>atom.id</th>\n",
       "      <th>atom.type</th>\n",
       "      <th>atom.bonded_atom_indices</th>\n",
       "      <th>group.index</th>\n",
       "      <th>group.name</th>\n",
       "      <th>group.id</th>\n",
       "      <th>group.type</th>\n",
       "      <th>component.index</th>\n",
       "      <th>...</th>\n",
       "      <th>molecule.id</th>\n",
       "      <th>molecule.type</th>\n",
       "      <th>entity.index</th>\n",
       "      <th>entity.name</th>\n",
       "      <th>entity.id</th>\n",
       "      <th>entity.type</th>\n",
       "      <th>bioassembly.index</th>\n",
       "      <th>bioassembly.name</th>\n",
       "      <th>bioassembly.id</th>\n",
       "      <th>bioassembly.type</th>\n",
       "    </tr>\n",
       "  </thead>\n",
       "  <tbody>\n",
       "    <tr>\n",
       "      <th>0</th>\n",
       "      <td>0</td>\n",
       "      <td>N</td>\n",
       "      <td>1</td>\n",
       "      <td>N</td>\n",
       "      <td>[1]</td>\n",
       "      <td>0</td>\n",
       "      <td>LYS</td>\n",
       "      <td>4</td>\n",
       "      <td>aminoacid</td>\n",
       "      <td>0</td>\n",
       "      <td>...</td>\n",
       "      <td>NaN</td>\n",
       "      <td>protein</td>\n",
       "      <td>0</td>\n",
       "      <td>TRIOSEPHOSPHATE ISOMERASE</td>\n",
       "      <td>NaN</td>\n",
       "      <td>protein</td>\n",
       "      <td>0</td>\n",
       "      <td>1</td>\n",
       "      <td>NaN</td>\n",
       "      <td>NaN</td>\n",
       "    </tr>\n",
       "    <tr>\n",
       "      <th>1</th>\n",
       "      <td>1</td>\n",
       "      <td>CA</td>\n",
       "      <td>2</td>\n",
       "      <td>C</td>\n",
       "      <td>[0, 2, 4]</td>\n",
       "      <td>0</td>\n",
       "      <td>LYS</td>\n",
       "      <td>4</td>\n",
       "      <td>aminoacid</td>\n",
       "      <td>0</td>\n",
       "      <td>...</td>\n",
       "      <td>NaN</td>\n",
       "      <td>protein</td>\n",
       "      <td>0</td>\n",
       "      <td>TRIOSEPHOSPHATE ISOMERASE</td>\n",
       "      <td>NaN</td>\n",
       "      <td>protein</td>\n",
       "      <td>0</td>\n",
       "      <td>1</td>\n",
       "      <td>NaN</td>\n",
       "      <td>NaN</td>\n",
       "    </tr>\n",
       "    <tr>\n",
       "      <th>2</th>\n",
       "      <td>2</td>\n",
       "      <td>C</td>\n",
       "      <td>3</td>\n",
       "      <td>C</td>\n",
       "      <td>[1, 3, 9]</td>\n",
       "      <td>0</td>\n",
       "      <td>LYS</td>\n",
       "      <td>4</td>\n",
       "      <td>aminoacid</td>\n",
       "      <td>0</td>\n",
       "      <td>...</td>\n",
       "      <td>NaN</td>\n",
       "      <td>protein</td>\n",
       "      <td>0</td>\n",
       "      <td>TRIOSEPHOSPHATE ISOMERASE</td>\n",
       "      <td>NaN</td>\n",
       "      <td>protein</td>\n",
       "      <td>0</td>\n",
       "      <td>1</td>\n",
       "      <td>NaN</td>\n",
       "      <td>NaN</td>\n",
       "    </tr>\n",
       "    <tr>\n",
       "      <th>3</th>\n",
       "      <td>3</td>\n",
       "      <td>O</td>\n",
       "      <td>4</td>\n",
       "      <td>O</td>\n",
       "      <td>[2]</td>\n",
       "      <td>0</td>\n",
       "      <td>LYS</td>\n",
       "      <td>4</td>\n",
       "      <td>aminoacid</td>\n",
       "      <td>0</td>\n",
       "      <td>...</td>\n",
       "      <td>NaN</td>\n",
       "      <td>protein</td>\n",
       "      <td>0</td>\n",
       "      <td>TRIOSEPHOSPHATE ISOMERASE</td>\n",
       "      <td>NaN</td>\n",
       "      <td>protein</td>\n",
       "      <td>0</td>\n",
       "      <td>1</td>\n",
       "      <td>NaN</td>\n",
       "      <td>NaN</td>\n",
       "    </tr>\n",
       "    <tr>\n",
       "      <th>4</th>\n",
       "      <td>4</td>\n",
       "      <td>CB</td>\n",
       "      <td>5</td>\n",
       "      <td>C</td>\n",
       "      <td>[1, 5]</td>\n",
       "      <td>0</td>\n",
       "      <td>LYS</td>\n",
       "      <td>4</td>\n",
       "      <td>aminoacid</td>\n",
       "      <td>0</td>\n",
       "      <td>...</td>\n",
       "      <td>NaN</td>\n",
       "      <td>protein</td>\n",
       "      <td>0</td>\n",
       "      <td>TRIOSEPHOSPHATE ISOMERASE</td>\n",
       "      <td>NaN</td>\n",
       "      <td>protein</td>\n",
       "      <td>0</td>\n",
       "      <td>1</td>\n",
       "      <td>NaN</td>\n",
       "      <td>NaN</td>\n",
       "    </tr>\n",
       "    <tr>\n",
       "      <th>...</th>\n",
       "      <td>...</td>\n",
       "      <td>...</td>\n",
       "      <td>...</td>\n",
       "      <td>...</td>\n",
       "      <td>...</td>\n",
       "      <td>...</td>\n",
       "      <td>...</td>\n",
       "      <td>...</td>\n",
       "      <td>...</td>\n",
       "      <td>...</td>\n",
       "      <td>...</td>\n",
       "      <td>...</td>\n",
       "      <td>...</td>\n",
       "      <td>...</td>\n",
       "      <td>...</td>\n",
       "      <td>...</td>\n",
       "      <td>...</td>\n",
       "      <td>...</td>\n",
       "      <td>...</td>\n",
       "      <td>...</td>\n",
       "      <td>...</td>\n",
       "    </tr>\n",
       "    <tr>\n",
       "      <th>3978</th>\n",
       "      <td>3978</td>\n",
       "      <td>O</td>\n",
       "      <td>3979</td>\n",
       "      <td>O</td>\n",
       "      <td>[]</td>\n",
       "      <td>657</td>\n",
       "      <td>HOH</td>\n",
       "      <td>339</td>\n",
       "      <td>water</td>\n",
       "      <td>162</td>\n",
       "      <td>...</td>\n",
       "      <td>NaN</td>\n",
       "      <td>water</td>\n",
       "      <td>1</td>\n",
       "      <td>water</td>\n",
       "      <td>NaN</td>\n",
       "      <td>water</td>\n",
       "      <td>0</td>\n",
       "      <td>1</td>\n",
       "      <td>NaN</td>\n",
       "      <td>NaN</td>\n",
       "    </tr>\n",
       "    <tr>\n",
       "      <th>3979</th>\n",
       "      <td>3979</td>\n",
       "      <td>O</td>\n",
       "      <td>3980</td>\n",
       "      <td>O</td>\n",
       "      <td>[]</td>\n",
       "      <td>658</td>\n",
       "      <td>HOH</td>\n",
       "      <td>340</td>\n",
       "      <td>water</td>\n",
       "      <td>163</td>\n",
       "      <td>...</td>\n",
       "      <td>NaN</td>\n",
       "      <td>water</td>\n",
       "      <td>1</td>\n",
       "      <td>water</td>\n",
       "      <td>NaN</td>\n",
       "      <td>water</td>\n",
       "      <td>0</td>\n",
       "      <td>1</td>\n",
       "      <td>NaN</td>\n",
       "      <td>NaN</td>\n",
       "    </tr>\n",
       "    <tr>\n",
       "      <th>3980</th>\n",
       "      <td>3980</td>\n",
       "      <td>O</td>\n",
       "      <td>3981</td>\n",
       "      <td>O</td>\n",
       "      <td>[]</td>\n",
       "      <td>659</td>\n",
       "      <td>HOH</td>\n",
       "      <td>341</td>\n",
       "      <td>water</td>\n",
       "      <td>164</td>\n",
       "      <td>...</td>\n",
       "      <td>NaN</td>\n",
       "      <td>water</td>\n",
       "      <td>1</td>\n",
       "      <td>water</td>\n",
       "      <td>NaN</td>\n",
       "      <td>water</td>\n",
       "      <td>0</td>\n",
       "      <td>1</td>\n",
       "      <td>NaN</td>\n",
       "      <td>NaN</td>\n",
       "    </tr>\n",
       "    <tr>\n",
       "      <th>3981</th>\n",
       "      <td>3981</td>\n",
       "      <td>O</td>\n",
       "      <td>3982</td>\n",
       "      <td>O</td>\n",
       "      <td>[]</td>\n",
       "      <td>660</td>\n",
       "      <td>HOH</td>\n",
       "      <td>342</td>\n",
       "      <td>water</td>\n",
       "      <td>165</td>\n",
       "      <td>...</td>\n",
       "      <td>NaN</td>\n",
       "      <td>water</td>\n",
       "      <td>1</td>\n",
       "      <td>water</td>\n",
       "      <td>NaN</td>\n",
       "      <td>water</td>\n",
       "      <td>0</td>\n",
       "      <td>1</td>\n",
       "      <td>NaN</td>\n",
       "      <td>NaN</td>\n",
       "    </tr>\n",
       "    <tr>\n",
       "      <th>3982</th>\n",
       "      <td>3982</td>\n",
       "      <td>O</td>\n",
       "      <td>3983</td>\n",
       "      <td>O</td>\n",
       "      <td>[]</td>\n",
       "      <td>661</td>\n",
       "      <td>HOH</td>\n",
       "      <td>343</td>\n",
       "      <td>water</td>\n",
       "      <td>166</td>\n",
       "      <td>...</td>\n",
       "      <td>NaN</td>\n",
       "      <td>water</td>\n",
       "      <td>1</td>\n",
       "      <td>water</td>\n",
       "      <td>NaN</td>\n",
       "      <td>water</td>\n",
       "      <td>0</td>\n",
       "      <td>1</td>\n",
       "      <td>NaN</td>\n",
       "      <td>NaN</td>\n",
       "    </tr>\n",
       "  </tbody>\n",
       "</table>\n",
       "<p>3983 rows × 29 columns</p>\n",
       "</div>"
      ],
      "text/plain": [
       "      atom.index atom.name  atom.id atom.type atom.bonded_atom_indices  \\\n",
       "0              0         N        1         N                      [1]   \n",
       "1              1        CA        2         C                [0, 2, 4]   \n",
       "2              2         C        3         C                [1, 3, 9]   \n",
       "3              3         O        4         O                      [2]   \n",
       "4              4        CB        5         C                   [1, 5]   \n",
       "...          ...       ...      ...       ...                      ...   \n",
       "3978        3978         O     3979         O                       []   \n",
       "3979        3979         O     3980         O                       []   \n",
       "3980        3980         O     3981         O                       []   \n",
       "3981        3981         O     3982         O                       []   \n",
       "3982        3982         O     3983         O                       []   \n",
       "\n",
       "      group.index group.name  group.id group.type  component.index  ...  \\\n",
       "0               0        LYS         4  aminoacid                0  ...   \n",
       "1               0        LYS         4  aminoacid                0  ...   \n",
       "2               0        LYS         4  aminoacid                0  ...   \n",
       "3               0        LYS         4  aminoacid                0  ...   \n",
       "4               0        LYS         4  aminoacid                0  ...   \n",
       "...           ...        ...       ...        ...              ...  ...   \n",
       "3978          657        HOH       339      water              162  ...   \n",
       "3979          658        HOH       340      water              163  ...   \n",
       "3980          659        HOH       341      water              164  ...   \n",
       "3981          660        HOH       342      water              165  ...   \n",
       "3982          661        HOH       343      water              166  ...   \n",
       "\n",
       "     molecule.id molecule.type entity.index                entity.name  \\\n",
       "0            NaN       protein            0  TRIOSEPHOSPHATE ISOMERASE   \n",
       "1            NaN       protein            0  TRIOSEPHOSPHATE ISOMERASE   \n",
       "2            NaN       protein            0  TRIOSEPHOSPHATE ISOMERASE   \n",
       "3            NaN       protein            0  TRIOSEPHOSPHATE ISOMERASE   \n",
       "4            NaN       protein            0  TRIOSEPHOSPHATE ISOMERASE   \n",
       "...          ...           ...          ...                        ...   \n",
       "3978         NaN         water            1                      water   \n",
       "3979         NaN         water            1                      water   \n",
       "3980         NaN         water            1                      water   \n",
       "3981         NaN         water            1                      water   \n",
       "3982         NaN         water            1                      water   \n",
       "\n",
       "     entity.id entity.type bioassembly.index  bioassembly.name bioassembly.id  \\\n",
       "0          NaN     protein                 0                 1            NaN   \n",
       "1          NaN     protein                 0                 1            NaN   \n",
       "2          NaN     protein                 0                 1            NaN   \n",
       "3          NaN     protein                 0                 1            NaN   \n",
       "4          NaN     protein                 0                 1            NaN   \n",
       "...        ...         ...               ...               ...            ...   \n",
       "3978       NaN       water                 0                 1            NaN   \n",
       "3979       NaN       water                 0                 1            NaN   \n",
       "3980       NaN       water                 0                 1            NaN   \n",
       "3981       NaN       water                 0                 1            NaN   \n",
       "3982       NaN       water                 0                 1            NaN   \n",
       "\n",
       "     bioassembly.type  \n",
       "0                 NaN  \n",
       "1                 NaN  \n",
       "2                 NaN  \n",
       "3                 NaN  \n",
       "4                 NaN  \n",
       "...               ...  \n",
       "3978              NaN  \n",
       "3979              NaN  \n",
       "3980              NaN  \n",
       "3981              NaN  \n",
       "3982              NaN  \n",
       "\n",
       "[3983 rows x 29 columns]"
      ]
     },
     "execution_count": 9,
     "metadata": {},
     "output_type": "execute_result"
    }
   ],
   "source": [
    "molecular_model"
   ]
  },
  {
   "cell_type": "code",
   "execution_count": 10,
   "metadata": {},
   "outputs": [
    {
     "ename": "NotImplementedError",
     "evalue": "",
     "output_type": "error",
     "traceback": [
      "\u001b[0;31m---------------------------------------------------------------------------\u001b[0m",
      "\u001b[0;31mNotImplementedError\u001b[0m                       Traceback (most recent call last)",
      "\u001b[0;32m<ipython-input-10-a7ae1b71fc29>\u001b[0m in \u001b[0;36m<module>\u001b[0;34m\u001b[0m\n\u001b[0;32m----> 1\u001b[0;31m \u001b[0mmsm\u001b[0m\u001b[0;34m.\u001b[0m\u001b[0mget\u001b[0m\u001b[0;34m(\u001b[0m\u001b[0mmolecular_model\u001b[0m\u001b[0;34m,\u001b[0m\u001b[0mgroup_name\u001b[0m\u001b[0;34m=\u001b[0m\u001b[0;32mTrue\u001b[0m\u001b[0;34m)\u001b[0m\u001b[0;34m\u001b[0m\u001b[0;34m\u001b[0m\u001b[0m\n\u001b[0m",
      "\u001b[0;32m~/Proyectos/MolSysMT/molsysmt/multitool.py\u001b[0m in \u001b[0;36mget\u001b[0;34m(item, target, indices, selection, frame_indices, syntaxis, **kwargs)\u001b[0m\n\u001b[1;32m    647\u001b[0m     \u001b[0mresults\u001b[0m \u001b[0;34m=\u001b[0m \u001b[0;34m[\u001b[0m\u001b[0;34m]\u001b[0m\u001b[0;34m\u001b[0m\u001b[0;34m\u001b[0m\u001b[0m\n\u001b[1;32m    648\u001b[0m     \u001b[0;32mfor\u001b[0m \u001b[0mattribute\u001b[0m \u001b[0;32min\u001b[0m \u001b[0mattributes\u001b[0m\u001b[0;34m:\u001b[0m\u001b[0;34m\u001b[0m\u001b[0;34m\u001b[0m\u001b[0m\n\u001b[0;32m--> 649\u001b[0;31m         \u001b[0mresult\u001b[0m \u001b[0;34m=\u001b[0m \u001b[0m_dict_get\u001b[0m\u001b[0;34m[\u001b[0m\u001b[0mform_in\u001b[0m\u001b[0;34m]\u001b[0m\u001b[0;34m[\u001b[0m\u001b[0mtarget\u001b[0m\u001b[0;34m]\u001b[0m\u001b[0;34m[\u001b[0m\u001b[0mattribute\u001b[0m\u001b[0;34m]\u001b[0m\u001b[0;34m(\u001b[0m\u001b[0mitem\u001b[0m\u001b[0;34m,\u001b[0m \u001b[0mindices\u001b[0m\u001b[0;34m=\u001b[0m\u001b[0mindices\u001b[0m\u001b[0;34m,\u001b[0m \u001b[0mframe_indices\u001b[0m\u001b[0;34m=\u001b[0m\u001b[0mframe_indices\u001b[0m\u001b[0;34m)\u001b[0m\u001b[0;34m\u001b[0m\u001b[0;34m\u001b[0m\u001b[0m\n\u001b[0m\u001b[1;32m    650\u001b[0m         \u001b[0mresults\u001b[0m\u001b[0;34m.\u001b[0m\u001b[0mappend\u001b[0m\u001b[0;34m(\u001b[0m\u001b[0mresult\u001b[0m\u001b[0;34m)\u001b[0m\u001b[0;34m\u001b[0m\u001b[0;34m\u001b[0m\u001b[0m\n\u001b[1;32m    651\u001b[0m \u001b[0;34m\u001b[0m\u001b[0m\n",
      "\u001b[0;32m~/Proyectos/MolSysMT/molsysmt/forms/classes/get_fields.py\u001b[0m in \u001b[0;36m_raise_not_implemented_error\u001b[0;34m(item, indices, frame_indices)\u001b[0m\n\u001b[1;32m      2\u001b[0m \u001b[0;34m\u001b[0m\u001b[0m\n\u001b[1;32m      3\u001b[0m \u001b[0;32mdef\u001b[0m \u001b[0m_raise_not_implemented_error\u001b[0m\u001b[0;34m(\u001b[0m\u001b[0mitem\u001b[0m\u001b[0;34m,\u001b[0m \u001b[0mindices\u001b[0m\u001b[0;34m=\u001b[0m\u001b[0;32mNone\u001b[0m\u001b[0;34m,\u001b[0m \u001b[0mframe_indices\u001b[0m\u001b[0;34m=\u001b[0m\u001b[0;32mNone\u001b[0m\u001b[0;34m)\u001b[0m\u001b[0;34m:\u001b[0m\u001b[0;34m\u001b[0m\u001b[0;34m\u001b[0m\u001b[0m\n\u001b[0;32m----> 4\u001b[0;31m     \u001b[0;32mraise\u001b[0m \u001b[0mNotImplementedError\u001b[0m\u001b[0;34m\u001b[0m\u001b[0;34m\u001b[0m\u001b[0m\n\u001b[0m\u001b[1;32m      5\u001b[0m \u001b[0;34m\u001b[0m\u001b[0m\n\u001b[1;32m      6\u001b[0m _common_fields = {\n",
      "\u001b[0;31mNotImplementedError\u001b[0m: "
     ]
    }
   ],
   "source": [
    "msm.get(molecular_model,group_name=True)"
   ]
  },
  {
   "cell_type": "code",
   "execution_count": null,
   "metadata": {},
   "outputs": [],
   "source": []
  }
 ],
 "metadata": {
  "kernelspec": {
   "display_name": "Python 3",
   "language": "python",
   "name": "python3"
  },
  "language_info": {
   "codemirror_mode": {
    "name": "ipython",
    "version": 3
   },
   "file_extension": ".py",
   "mimetype": "text/x-python",
   "name": "python",
   "nbconvert_exporter": "python",
   "pygments_lexer": "ipython3",
   "version": "3.7.7"
  }
 },
 "nbformat": 4,
 "nbformat_minor": 4
}
