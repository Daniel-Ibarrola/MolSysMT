{
 "cells": [
  {
   "cell_type": "code",
   "execution_count": 1,
   "metadata": {
    "execution": {
     "iopub.execute_input": "2021-05-05T01:23:14.845310Z",
     "iopub.status.busy": "2021-05-05T01:23:14.844420Z",
     "iopub.status.idle": "2021-05-05T01:23:14.856263Z",
     "shell.execute_reply": "2021-05-05T01:23:14.855520Z"
    }
   },
   "outputs": [],
   "source": [
    "%load_ext autoreload\n",
    "%autoreload 2"
   ]
  },
  {
   "cell_type": "code",
   "execution_count": 2,
   "metadata": {
    "execution": {
     "iopub.execute_input": "2021-05-05T01:23:14.862117Z",
     "iopub.status.busy": "2021-05-05T01:23:14.860901Z",
     "iopub.status.idle": "2021-05-05T01:23:15.004812Z",
     "shell.execute_reply": "2021-05-05T01:23:15.004185Z"
    }
   },
   "outputs": [],
   "source": [
    "import numpy as np\n",
    "np.warnings.filterwarnings('ignore', category=np.VisibleDeprecationWarning) # Debugging: 'ignore' -> 'error'"
   ]
  },
  {
   "cell_type": "markdown",
   "metadata": {},
   "source": [
    "# Hydrogen bonds"
   ]
  },
  {
   "cell_type": "code",
   "execution_count": 3,
   "metadata": {
    "execution": {
     "iopub.execute_input": "2021-05-05T01:23:15.008973Z",
     "iopub.status.busy": "2021-05-05T01:23:15.008266Z",
     "iopub.status.idle": "2021-05-05T01:23:16.255966Z",
     "shell.execute_reply": "2021-05-05T01:23:16.256968Z"
    }
   },
   "outputs": [
    {
     "data": {
      "application/vnd.jupyter.widget-view+json": {
       "model_id": "be3df35069d74ff09a2c922dd55c74c7",
       "version_major": 2,
       "version_minor": 0
      },
      "text/plain": []
     },
     "metadata": {},
     "output_type": "display_data"
    }
   ],
   "source": [
    "import molsysmt as msm"
   ]
  },
  {
   "cell_type": "code",
   "execution_count": 4,
   "metadata": {
    "execution": {
     "iopub.execute_input": "2021-05-05T01:23:16.262987Z",
     "iopub.status.busy": "2021-05-05T01:23:16.261762Z",
     "iopub.status.idle": "2021-05-05T01:23:16.496623Z",
     "shell.execute_reply": "2021-05-05T01:23:16.495565Z"
    }
   },
   "outputs": [],
   "source": [
    "molecular_system = msm.demo_systems.files['pentalanine.h5']\n",
    "molecular_system = msm.convert(molecular_system, to_form='molsysmt.MolSys')"
   ]
  },
  {
   "cell_type": "code",
   "execution_count": 5,
   "metadata": {
    "execution": {
     "iopub.execute_input": "2021-05-05T01:23:16.501876Z",
     "iopub.status.busy": "2021-05-05T01:23:16.500756Z",
     "iopub.status.idle": "2021-05-05T01:23:16.738762Z",
     "shell.execute_reply": "2021-05-05T01:23:16.739698Z"
    }
   },
   "outputs": [
    {
     "data": {
      "text/html": [
       "<style  type=\"text/css\" >\n",
       "</style><table id=\"T_bac80_\" ><thead>    <tr>        <th class=\"col_heading level0 col0\" >form</th>        <th class=\"col_heading level0 col1\" >n_atoms</th>        <th class=\"col_heading level0 col2\" >n_groups</th>        <th class=\"col_heading level0 col3\" >n_components</th>        <th class=\"col_heading level0 col4\" >n_chains</th>        <th class=\"col_heading level0 col5\" >n_molecules</th>        <th class=\"col_heading level0 col6\" >n_entities</th>        <th class=\"col_heading level0 col7\" >n_peptides</th>        <th class=\"col_heading level0 col8\" >n_frames</th>    </tr></thead><tbody>\n",
       "                <tr>\n",
       "                                <td id=\"T_bac80_row0_col0\" class=\"data row0 col0\" >molsysmt.MolSys</td>\n",
       "                        <td id=\"T_bac80_row0_col1\" class=\"data row0 col1\" >62</td>\n",
       "                        <td id=\"T_bac80_row0_col2\" class=\"data row0 col2\" >7</td>\n",
       "                        <td id=\"T_bac80_row0_col3\" class=\"data row0 col3\" >1</td>\n",
       "                        <td id=\"T_bac80_row0_col4\" class=\"data row0 col4\" >1</td>\n",
       "                        <td id=\"T_bac80_row0_col5\" class=\"data row0 col5\" >1</td>\n",
       "                        <td id=\"T_bac80_row0_col6\" class=\"data row0 col6\" >1</td>\n",
       "                        <td id=\"T_bac80_row0_col7\" class=\"data row0 col7\" >1</td>\n",
       "                        <td id=\"T_bac80_row0_col8\" class=\"data row0 col8\" >5000</td>\n",
       "            </tr>\n",
       "    </tbody></table>"
      ],
      "text/plain": [
       "<pandas.io.formats.style.Styler at 0x7f82cf9a27d0>"
      ]
     },
     "execution_count": 1,
     "metadata": {},
     "output_type": "execute_result"
    }
   ],
   "source": [
    "msm.info(molecular_system)"
   ]
  },
  {
   "cell_type": "markdown",
   "metadata": {},
   "source": [
    "## Acceptor atoms"
   ]
  },
  {
   "cell_type": "code",
   "execution_count": 6,
   "metadata": {
    "execution": {
     "iopub.execute_input": "2021-05-05T01:23:16.744904Z",
     "iopub.status.busy": "2021-05-05T01:23:16.743709Z",
     "iopub.status.idle": "2021-05-05T01:23:16.766141Z",
     "shell.execute_reply": "2021-05-05T01:23:16.767076Z"
    }
   },
   "outputs": [
    {
     "data": {
      "text/plain": [
       "[\"atom_type=='O'\", \"atom_type=='N'\", \"atom_type=='S'\"]"
      ]
     },
     "execution_count": 1,
     "metadata": {},
     "output_type": "execute_result"
    }
   ],
   "source": [
    "msm.hbonds.acceptor_inclusion_rules"
   ]
  },
  {
   "cell_type": "code",
   "execution_count": 7,
   "metadata": {
    "execution": {
     "iopub.execute_input": "2021-05-05T01:23:16.772283Z",
     "iopub.status.busy": "2021-05-05T01:23:16.771168Z",
     "iopub.status.idle": "2021-05-05T01:23:16.792409Z",
     "shell.execute_reply": "2021-05-05T01:23:16.791731Z"
    }
   },
   "outputs": [
    {
     "data": {
      "text/plain": [
       "[\"atom_name=='NE2' and group_name=='GLN'\",\n",
       " \"(atom_name=='NE2' and group_name=='HIS') bonded to (atom_type=='H')\",\n",
       " \"(atom_name=='ND1' and group_name=='HIS') bonded to (atom_type=='H')\"]"
      ]
     },
     "execution_count": 1,
     "metadata": {},
     "output_type": "execute_result"
    }
   ],
   "source": [
    "msm.hbonds.acceptor_exclusion_rules"
   ]
  },
  {
   "cell_type": "code",
   "execution_count": 8,
   "metadata": {
    "execution": {
     "iopub.execute_input": "2021-05-05T01:23:16.797326Z",
     "iopub.status.busy": "2021-05-05T01:23:16.796332Z",
     "iopub.status.idle": "2021-05-05T01:23:16.846577Z",
     "shell.execute_reply": "2021-05-05T01:23:16.845501Z"
    }
   },
   "outputs": [],
   "source": [
    "acceptors=msm.hbonds.get_acceptor_atoms(molecular_system)"
   ]
  },
  {
   "cell_type": "code",
   "execution_count": 9,
   "metadata": {
    "execution": {
     "iopub.execute_input": "2021-05-05T01:23:16.851756Z",
     "iopub.status.busy": "2021-05-05T01:23:16.850652Z",
     "iopub.status.idle": "2021-05-05T01:23:16.871331Z",
     "shell.execute_reply": "2021-05-05T01:23:16.872249Z"
    }
   },
   "outputs": [
    {
     "data": {
      "text/plain": [
       "array([ 5,  6, 15, ..., 46, 55, 56])"
      ]
     },
     "execution_count": 1,
     "metadata": {},
     "output_type": "execute_result"
    }
   ],
   "source": [
    "acceptors"
   ]
  },
  {
   "cell_type": "code",
   "execution_count": 10,
   "metadata": {
    "execution": {
     "iopub.execute_input": "2021-05-05T01:23:16.877179Z",
     "iopub.status.busy": "2021-05-05T01:23:16.876054Z",
     "iopub.status.idle": "2021-05-05T01:23:17.093619Z",
     "shell.execute_reply": "2021-05-05T01:23:17.094619Z"
    }
   },
   "outputs": [
    {
     "data": {
      "text/html": [
       "<style  type=\"text/css\" >\n",
       "</style><table id=\"T_1fe27_\" ><thead>    <tr>        <th class=\"col_heading level0 col0\" >index</th>        <th class=\"col_heading level0 col1\" >id</th>        <th class=\"col_heading level0 col2\" >name</th>        <th class=\"col_heading level0 col3\" >type</th>        <th class=\"col_heading level0 col4\" >group index</th>        <th class=\"col_heading level0 col5\" >group id</th>        <th class=\"col_heading level0 col6\" >group name</th>        <th class=\"col_heading level0 col7\" >group type</th>        <th class=\"col_heading level0 col8\" >component index</th>        <th class=\"col_heading level0 col9\" >chain index</th>        <th class=\"col_heading level0 col10\" >molecule index</th>        <th class=\"col_heading level0 col11\" >molecule type</th>        <th class=\"col_heading level0 col12\" >entity index</th>        <th class=\"col_heading level0 col13\" >entity name</th>    </tr></thead><tbody>\n",
       "                <tr>\n",
       "                                <td id=\"T_1fe27_row0_col0\" class=\"data row0 col0\" >5</td>\n",
       "                        <td id=\"T_1fe27_row0_col1\" class=\"data row0 col1\" >None</td>\n",
       "                        <td id=\"T_1fe27_row0_col2\" class=\"data row0 col2\" >O</td>\n",
       "                        <td id=\"T_1fe27_row0_col3\" class=\"data row0 col3\" >O</td>\n",
       "                        <td id=\"T_1fe27_row0_col4\" class=\"data row0 col4\" >0</td>\n",
       "                        <td id=\"T_1fe27_row0_col5\" class=\"data row0 col5\" >1</td>\n",
       "                        <td id=\"T_1fe27_row0_col6\" class=\"data row0 col6\" >ACE</td>\n",
       "                        <td id=\"T_1fe27_row0_col7\" class=\"data row0 col7\" >aminoacid</td>\n",
       "                        <td id=\"T_1fe27_row0_col8\" class=\"data row0 col8\" >0</td>\n",
       "                        <td id=\"T_1fe27_row0_col9\" class=\"data row0 col9\" >0</td>\n",
       "                        <td id=\"T_1fe27_row0_col10\" class=\"data row0 col10\" >0</td>\n",
       "                        <td id=\"T_1fe27_row0_col11\" class=\"data row0 col11\" >peptide</td>\n",
       "                        <td id=\"T_1fe27_row0_col12\" class=\"data row0 col12\" >0</td>\n",
       "                        <td id=\"T_1fe27_row0_col13\" class=\"data row0 col13\" >Peptide_0</td>\n",
       "            </tr>\n",
       "            <tr>\n",
       "                                <td id=\"T_1fe27_row1_col0\" class=\"data row1 col0\" >6</td>\n",
       "                        <td id=\"T_1fe27_row1_col1\" class=\"data row1 col1\" >None</td>\n",
       "                        <td id=\"T_1fe27_row1_col2\" class=\"data row1 col2\" >N</td>\n",
       "                        <td id=\"T_1fe27_row1_col3\" class=\"data row1 col3\" >N</td>\n",
       "                        <td id=\"T_1fe27_row1_col4\" class=\"data row1 col4\" >1</td>\n",
       "                        <td id=\"T_1fe27_row1_col5\" class=\"data row1 col5\" >2</td>\n",
       "                        <td id=\"T_1fe27_row1_col6\" class=\"data row1 col6\" >ALA</td>\n",
       "                        <td id=\"T_1fe27_row1_col7\" class=\"data row1 col7\" >aminoacid</td>\n",
       "                        <td id=\"T_1fe27_row1_col8\" class=\"data row1 col8\" >0</td>\n",
       "                        <td id=\"T_1fe27_row1_col9\" class=\"data row1 col9\" >0</td>\n",
       "                        <td id=\"T_1fe27_row1_col10\" class=\"data row1 col10\" >0</td>\n",
       "                        <td id=\"T_1fe27_row1_col11\" class=\"data row1 col11\" >peptide</td>\n",
       "                        <td id=\"T_1fe27_row1_col12\" class=\"data row1 col12\" >0</td>\n",
       "                        <td id=\"T_1fe27_row1_col13\" class=\"data row1 col13\" >Peptide_0</td>\n",
       "            </tr>\n",
       "            <tr>\n",
       "                                <td id=\"T_1fe27_row2_col0\" class=\"data row2 col0\" >15</td>\n",
       "                        <td id=\"T_1fe27_row2_col1\" class=\"data row2 col1\" >None</td>\n",
       "                        <td id=\"T_1fe27_row2_col2\" class=\"data row2 col2\" >O</td>\n",
       "                        <td id=\"T_1fe27_row2_col3\" class=\"data row2 col3\" >O</td>\n",
       "                        <td id=\"T_1fe27_row2_col4\" class=\"data row2 col4\" >1</td>\n",
       "                        <td id=\"T_1fe27_row2_col5\" class=\"data row2 col5\" >2</td>\n",
       "                        <td id=\"T_1fe27_row2_col6\" class=\"data row2 col6\" >ALA</td>\n",
       "                        <td id=\"T_1fe27_row2_col7\" class=\"data row2 col7\" >aminoacid</td>\n",
       "                        <td id=\"T_1fe27_row2_col8\" class=\"data row2 col8\" >0</td>\n",
       "                        <td id=\"T_1fe27_row2_col9\" class=\"data row2 col9\" >0</td>\n",
       "                        <td id=\"T_1fe27_row2_col10\" class=\"data row2 col10\" >0</td>\n",
       "                        <td id=\"T_1fe27_row2_col11\" class=\"data row2 col11\" >peptide</td>\n",
       "                        <td id=\"T_1fe27_row2_col12\" class=\"data row2 col12\" >0</td>\n",
       "                        <td id=\"T_1fe27_row2_col13\" class=\"data row2 col13\" >Peptide_0</td>\n",
       "            </tr>\n",
       "            <tr>\n",
       "                                <td id=\"T_1fe27_row3_col0\" class=\"data row3 col0\" >16</td>\n",
       "                        <td id=\"T_1fe27_row3_col1\" class=\"data row3 col1\" >None</td>\n",
       "                        <td id=\"T_1fe27_row3_col2\" class=\"data row3 col2\" >N</td>\n",
       "                        <td id=\"T_1fe27_row3_col3\" class=\"data row3 col3\" >N</td>\n",
       "                        <td id=\"T_1fe27_row3_col4\" class=\"data row3 col4\" >2</td>\n",
       "                        <td id=\"T_1fe27_row3_col5\" class=\"data row3 col5\" >3</td>\n",
       "                        <td id=\"T_1fe27_row3_col6\" class=\"data row3 col6\" >ALA</td>\n",
       "                        <td id=\"T_1fe27_row3_col7\" class=\"data row3 col7\" >aminoacid</td>\n",
       "                        <td id=\"T_1fe27_row3_col8\" class=\"data row3 col8\" >0</td>\n",
       "                        <td id=\"T_1fe27_row3_col9\" class=\"data row3 col9\" >0</td>\n",
       "                        <td id=\"T_1fe27_row3_col10\" class=\"data row3 col10\" >0</td>\n",
       "                        <td id=\"T_1fe27_row3_col11\" class=\"data row3 col11\" >peptide</td>\n",
       "                        <td id=\"T_1fe27_row3_col12\" class=\"data row3 col12\" >0</td>\n",
       "                        <td id=\"T_1fe27_row3_col13\" class=\"data row3 col13\" >Peptide_0</td>\n",
       "            </tr>\n",
       "            <tr>\n",
       "                                <td id=\"T_1fe27_row4_col0\" class=\"data row4 col0\" >25</td>\n",
       "                        <td id=\"T_1fe27_row4_col1\" class=\"data row4 col1\" >None</td>\n",
       "                        <td id=\"T_1fe27_row4_col2\" class=\"data row4 col2\" >O</td>\n",
       "                        <td id=\"T_1fe27_row4_col3\" class=\"data row4 col3\" >O</td>\n",
       "                        <td id=\"T_1fe27_row4_col4\" class=\"data row4 col4\" >2</td>\n",
       "                        <td id=\"T_1fe27_row4_col5\" class=\"data row4 col5\" >3</td>\n",
       "                        <td id=\"T_1fe27_row4_col6\" class=\"data row4 col6\" >ALA</td>\n",
       "                        <td id=\"T_1fe27_row4_col7\" class=\"data row4 col7\" >aminoacid</td>\n",
       "                        <td id=\"T_1fe27_row4_col8\" class=\"data row4 col8\" >0</td>\n",
       "                        <td id=\"T_1fe27_row4_col9\" class=\"data row4 col9\" >0</td>\n",
       "                        <td id=\"T_1fe27_row4_col10\" class=\"data row4 col10\" >0</td>\n",
       "                        <td id=\"T_1fe27_row4_col11\" class=\"data row4 col11\" >peptide</td>\n",
       "                        <td id=\"T_1fe27_row4_col12\" class=\"data row4 col12\" >0</td>\n",
       "                        <td id=\"T_1fe27_row4_col13\" class=\"data row4 col13\" >Peptide_0</td>\n",
       "            </tr>\n",
       "            <tr>\n",
       "                                <td id=\"T_1fe27_row5_col0\" class=\"data row5 col0\" >26</td>\n",
       "                        <td id=\"T_1fe27_row5_col1\" class=\"data row5 col1\" >None</td>\n",
       "                        <td id=\"T_1fe27_row5_col2\" class=\"data row5 col2\" >N</td>\n",
       "                        <td id=\"T_1fe27_row5_col3\" class=\"data row5 col3\" >N</td>\n",
       "                        <td id=\"T_1fe27_row5_col4\" class=\"data row5 col4\" >3</td>\n",
       "                        <td id=\"T_1fe27_row5_col5\" class=\"data row5 col5\" >4</td>\n",
       "                        <td id=\"T_1fe27_row5_col6\" class=\"data row5 col6\" >ALA</td>\n",
       "                        <td id=\"T_1fe27_row5_col7\" class=\"data row5 col7\" >aminoacid</td>\n",
       "                        <td id=\"T_1fe27_row5_col8\" class=\"data row5 col8\" >0</td>\n",
       "                        <td id=\"T_1fe27_row5_col9\" class=\"data row5 col9\" >0</td>\n",
       "                        <td id=\"T_1fe27_row5_col10\" class=\"data row5 col10\" >0</td>\n",
       "                        <td id=\"T_1fe27_row5_col11\" class=\"data row5 col11\" >peptide</td>\n",
       "                        <td id=\"T_1fe27_row5_col12\" class=\"data row5 col12\" >0</td>\n",
       "                        <td id=\"T_1fe27_row5_col13\" class=\"data row5 col13\" >Peptide_0</td>\n",
       "            </tr>\n",
       "            <tr>\n",
       "                                <td id=\"T_1fe27_row6_col0\" class=\"data row6 col0\" >35</td>\n",
       "                        <td id=\"T_1fe27_row6_col1\" class=\"data row6 col1\" >None</td>\n",
       "                        <td id=\"T_1fe27_row6_col2\" class=\"data row6 col2\" >O</td>\n",
       "                        <td id=\"T_1fe27_row6_col3\" class=\"data row6 col3\" >O</td>\n",
       "                        <td id=\"T_1fe27_row6_col4\" class=\"data row6 col4\" >3</td>\n",
       "                        <td id=\"T_1fe27_row6_col5\" class=\"data row6 col5\" >4</td>\n",
       "                        <td id=\"T_1fe27_row6_col6\" class=\"data row6 col6\" >ALA</td>\n",
       "                        <td id=\"T_1fe27_row6_col7\" class=\"data row6 col7\" >aminoacid</td>\n",
       "                        <td id=\"T_1fe27_row6_col8\" class=\"data row6 col8\" >0</td>\n",
       "                        <td id=\"T_1fe27_row6_col9\" class=\"data row6 col9\" >0</td>\n",
       "                        <td id=\"T_1fe27_row6_col10\" class=\"data row6 col10\" >0</td>\n",
       "                        <td id=\"T_1fe27_row6_col11\" class=\"data row6 col11\" >peptide</td>\n",
       "                        <td id=\"T_1fe27_row6_col12\" class=\"data row6 col12\" >0</td>\n",
       "                        <td id=\"T_1fe27_row6_col13\" class=\"data row6 col13\" >Peptide_0</td>\n",
       "            </tr>\n",
       "            <tr>\n",
       "                                <td id=\"T_1fe27_row7_col0\" class=\"data row7 col0\" >36</td>\n",
       "                        <td id=\"T_1fe27_row7_col1\" class=\"data row7 col1\" >None</td>\n",
       "                        <td id=\"T_1fe27_row7_col2\" class=\"data row7 col2\" >N</td>\n",
       "                        <td id=\"T_1fe27_row7_col3\" class=\"data row7 col3\" >N</td>\n",
       "                        <td id=\"T_1fe27_row7_col4\" class=\"data row7 col4\" >4</td>\n",
       "                        <td id=\"T_1fe27_row7_col5\" class=\"data row7 col5\" >5</td>\n",
       "                        <td id=\"T_1fe27_row7_col6\" class=\"data row7 col6\" >ALA</td>\n",
       "                        <td id=\"T_1fe27_row7_col7\" class=\"data row7 col7\" >aminoacid</td>\n",
       "                        <td id=\"T_1fe27_row7_col8\" class=\"data row7 col8\" >0</td>\n",
       "                        <td id=\"T_1fe27_row7_col9\" class=\"data row7 col9\" >0</td>\n",
       "                        <td id=\"T_1fe27_row7_col10\" class=\"data row7 col10\" >0</td>\n",
       "                        <td id=\"T_1fe27_row7_col11\" class=\"data row7 col11\" >peptide</td>\n",
       "                        <td id=\"T_1fe27_row7_col12\" class=\"data row7 col12\" >0</td>\n",
       "                        <td id=\"T_1fe27_row7_col13\" class=\"data row7 col13\" >Peptide_0</td>\n",
       "            </tr>\n",
       "            <tr>\n",
       "                                <td id=\"T_1fe27_row8_col0\" class=\"data row8 col0\" >45</td>\n",
       "                        <td id=\"T_1fe27_row8_col1\" class=\"data row8 col1\" >None</td>\n",
       "                        <td id=\"T_1fe27_row8_col2\" class=\"data row8 col2\" >O</td>\n",
       "                        <td id=\"T_1fe27_row8_col3\" class=\"data row8 col3\" >O</td>\n",
       "                        <td id=\"T_1fe27_row8_col4\" class=\"data row8 col4\" >4</td>\n",
       "                        <td id=\"T_1fe27_row8_col5\" class=\"data row8 col5\" >5</td>\n",
       "                        <td id=\"T_1fe27_row8_col6\" class=\"data row8 col6\" >ALA</td>\n",
       "                        <td id=\"T_1fe27_row8_col7\" class=\"data row8 col7\" >aminoacid</td>\n",
       "                        <td id=\"T_1fe27_row8_col8\" class=\"data row8 col8\" >0</td>\n",
       "                        <td id=\"T_1fe27_row8_col9\" class=\"data row8 col9\" >0</td>\n",
       "                        <td id=\"T_1fe27_row8_col10\" class=\"data row8 col10\" >0</td>\n",
       "                        <td id=\"T_1fe27_row8_col11\" class=\"data row8 col11\" >peptide</td>\n",
       "                        <td id=\"T_1fe27_row8_col12\" class=\"data row8 col12\" >0</td>\n",
       "                        <td id=\"T_1fe27_row8_col13\" class=\"data row8 col13\" >Peptide_0</td>\n",
       "            </tr>\n",
       "            <tr>\n",
       "                                <td id=\"T_1fe27_row9_col0\" class=\"data row9 col0\" >46</td>\n",
       "                        <td id=\"T_1fe27_row9_col1\" class=\"data row9 col1\" >None</td>\n",
       "                        <td id=\"T_1fe27_row9_col2\" class=\"data row9 col2\" >N</td>\n",
       "                        <td id=\"T_1fe27_row9_col3\" class=\"data row9 col3\" >N</td>\n",
       "                        <td id=\"T_1fe27_row9_col4\" class=\"data row9 col4\" >5</td>\n",
       "                        <td id=\"T_1fe27_row9_col5\" class=\"data row9 col5\" >6</td>\n",
       "                        <td id=\"T_1fe27_row9_col6\" class=\"data row9 col6\" >ALA</td>\n",
       "                        <td id=\"T_1fe27_row9_col7\" class=\"data row9 col7\" >aminoacid</td>\n",
       "                        <td id=\"T_1fe27_row9_col8\" class=\"data row9 col8\" >0</td>\n",
       "                        <td id=\"T_1fe27_row9_col9\" class=\"data row9 col9\" >0</td>\n",
       "                        <td id=\"T_1fe27_row9_col10\" class=\"data row9 col10\" >0</td>\n",
       "                        <td id=\"T_1fe27_row9_col11\" class=\"data row9 col11\" >peptide</td>\n",
       "                        <td id=\"T_1fe27_row9_col12\" class=\"data row9 col12\" >0</td>\n",
       "                        <td id=\"T_1fe27_row9_col13\" class=\"data row9 col13\" >Peptide_0</td>\n",
       "            </tr>\n",
       "            <tr>\n",
       "                                <td id=\"T_1fe27_row10_col0\" class=\"data row10 col0\" >55</td>\n",
       "                        <td id=\"T_1fe27_row10_col1\" class=\"data row10 col1\" >None</td>\n",
       "                        <td id=\"T_1fe27_row10_col2\" class=\"data row10 col2\" >O</td>\n",
       "                        <td id=\"T_1fe27_row10_col3\" class=\"data row10 col3\" >O</td>\n",
       "                        <td id=\"T_1fe27_row10_col4\" class=\"data row10 col4\" >5</td>\n",
       "                        <td id=\"T_1fe27_row10_col5\" class=\"data row10 col5\" >6</td>\n",
       "                        <td id=\"T_1fe27_row10_col6\" class=\"data row10 col6\" >ALA</td>\n",
       "                        <td id=\"T_1fe27_row10_col7\" class=\"data row10 col7\" >aminoacid</td>\n",
       "                        <td id=\"T_1fe27_row10_col8\" class=\"data row10 col8\" >0</td>\n",
       "                        <td id=\"T_1fe27_row10_col9\" class=\"data row10 col9\" >0</td>\n",
       "                        <td id=\"T_1fe27_row10_col10\" class=\"data row10 col10\" >0</td>\n",
       "                        <td id=\"T_1fe27_row10_col11\" class=\"data row10 col11\" >peptide</td>\n",
       "                        <td id=\"T_1fe27_row10_col12\" class=\"data row10 col12\" >0</td>\n",
       "                        <td id=\"T_1fe27_row10_col13\" class=\"data row10 col13\" >Peptide_0</td>\n",
       "            </tr>\n",
       "            <tr>\n",
       "                                <td id=\"T_1fe27_row11_col0\" class=\"data row11 col0\" >56</td>\n",
       "                        <td id=\"T_1fe27_row11_col1\" class=\"data row11 col1\" >None</td>\n",
       "                        <td id=\"T_1fe27_row11_col2\" class=\"data row11 col2\" >N</td>\n",
       "                        <td id=\"T_1fe27_row11_col3\" class=\"data row11 col3\" >N</td>\n",
       "                        <td id=\"T_1fe27_row11_col4\" class=\"data row11 col4\" >6</td>\n",
       "                        <td id=\"T_1fe27_row11_col5\" class=\"data row11 col5\" >7</td>\n",
       "                        <td id=\"T_1fe27_row11_col6\" class=\"data row11 col6\" >NME</td>\n",
       "                        <td id=\"T_1fe27_row11_col7\" class=\"data row11 col7\" >aminoacid</td>\n",
       "                        <td id=\"T_1fe27_row11_col8\" class=\"data row11 col8\" >0</td>\n",
       "                        <td id=\"T_1fe27_row11_col9\" class=\"data row11 col9\" >0</td>\n",
       "                        <td id=\"T_1fe27_row11_col10\" class=\"data row11 col10\" >0</td>\n",
       "                        <td id=\"T_1fe27_row11_col11\" class=\"data row11 col11\" >peptide</td>\n",
       "                        <td id=\"T_1fe27_row11_col12\" class=\"data row11 col12\" >0</td>\n",
       "                        <td id=\"T_1fe27_row11_col13\" class=\"data row11 col13\" >Peptide_0</td>\n",
       "            </tr>\n",
       "    </tbody></table>"
      ],
      "text/plain": [
       "<pandas.io.formats.style.Styler at 0x7f82befa6290>"
      ]
     },
     "execution_count": 1,
     "metadata": {},
     "output_type": "execute_result"
    }
   ],
   "source": [
    "msm.info(molecular_system, target='atom', selection='@acceptors')"
   ]
  },
  {
   "cell_type": "code",
   "execution_count": 11,
   "metadata": {
    "execution": {
     "iopub.execute_input": "2021-05-05T01:23:17.100311Z",
     "iopub.status.busy": "2021-05-05T01:23:17.099202Z",
     "iopub.status.idle": "2021-05-05T01:23:17.150740Z",
     "shell.execute_reply": "2021-05-05T01:23:17.149804Z"
    }
   },
   "outputs": [],
   "source": [
    "acceptors=msm.hbonds.get_acceptor_atoms(molecular_system, inclusion_rules=[\"atom_name=='CB'\"],\n",
    "                                        exclusion_rules=[\"atom_type=='N' and group_name=='ALA'\"])"
   ]
  },
  {
   "cell_type": "code",
   "execution_count": 12,
   "metadata": {
    "execution": {
     "iopub.execute_input": "2021-05-05T01:23:17.155754Z",
     "iopub.status.busy": "2021-05-05T01:23:17.154662Z",
     "iopub.status.idle": "2021-05-05T01:23:17.199671Z",
     "shell.execute_reply": "2021-05-05T01:23:17.200425Z"
    }
   },
   "outputs": [
    {
     "data": {
      "text/html": [
       "<style  type=\"text/css\" >\n",
       "</style><table id=\"T_6a713_\" ><thead>    <tr>        <th class=\"col_heading level0 col0\" >index</th>        <th class=\"col_heading level0 col1\" >id</th>        <th class=\"col_heading level0 col2\" >name</th>        <th class=\"col_heading level0 col3\" >type</th>        <th class=\"col_heading level0 col4\" >group index</th>        <th class=\"col_heading level0 col5\" >group id</th>        <th class=\"col_heading level0 col6\" >group name</th>        <th class=\"col_heading level0 col7\" >group type</th>        <th class=\"col_heading level0 col8\" >component index</th>        <th class=\"col_heading level0 col9\" >chain index</th>        <th class=\"col_heading level0 col10\" >molecule index</th>        <th class=\"col_heading level0 col11\" >molecule type</th>        <th class=\"col_heading level0 col12\" >entity index</th>        <th class=\"col_heading level0 col13\" >entity name</th>    </tr></thead><tbody>\n",
       "                <tr>\n",
       "                                <td id=\"T_6a713_row0_col0\" class=\"data row0 col0\" >5</td>\n",
       "                        <td id=\"T_6a713_row0_col1\" class=\"data row0 col1\" >None</td>\n",
       "                        <td id=\"T_6a713_row0_col2\" class=\"data row0 col2\" >O</td>\n",
       "                        <td id=\"T_6a713_row0_col3\" class=\"data row0 col3\" >O</td>\n",
       "                        <td id=\"T_6a713_row0_col4\" class=\"data row0 col4\" >0</td>\n",
       "                        <td id=\"T_6a713_row0_col5\" class=\"data row0 col5\" >1</td>\n",
       "                        <td id=\"T_6a713_row0_col6\" class=\"data row0 col6\" >ACE</td>\n",
       "                        <td id=\"T_6a713_row0_col7\" class=\"data row0 col7\" >aminoacid</td>\n",
       "                        <td id=\"T_6a713_row0_col8\" class=\"data row0 col8\" >0</td>\n",
       "                        <td id=\"T_6a713_row0_col9\" class=\"data row0 col9\" >0</td>\n",
       "                        <td id=\"T_6a713_row0_col10\" class=\"data row0 col10\" >0</td>\n",
       "                        <td id=\"T_6a713_row0_col11\" class=\"data row0 col11\" >peptide</td>\n",
       "                        <td id=\"T_6a713_row0_col12\" class=\"data row0 col12\" >0</td>\n",
       "                        <td id=\"T_6a713_row0_col13\" class=\"data row0 col13\" >Peptide_0</td>\n",
       "            </tr>\n",
       "            <tr>\n",
       "                                <td id=\"T_6a713_row1_col0\" class=\"data row1 col0\" >10</td>\n",
       "                        <td id=\"T_6a713_row1_col1\" class=\"data row1 col1\" >None</td>\n",
       "                        <td id=\"T_6a713_row1_col2\" class=\"data row1 col2\" >CB</td>\n",
       "                        <td id=\"T_6a713_row1_col3\" class=\"data row1 col3\" >C</td>\n",
       "                        <td id=\"T_6a713_row1_col4\" class=\"data row1 col4\" >1</td>\n",
       "                        <td id=\"T_6a713_row1_col5\" class=\"data row1 col5\" >2</td>\n",
       "                        <td id=\"T_6a713_row1_col6\" class=\"data row1 col6\" >ALA</td>\n",
       "                        <td id=\"T_6a713_row1_col7\" class=\"data row1 col7\" >aminoacid</td>\n",
       "                        <td id=\"T_6a713_row1_col8\" class=\"data row1 col8\" >0</td>\n",
       "                        <td id=\"T_6a713_row1_col9\" class=\"data row1 col9\" >0</td>\n",
       "                        <td id=\"T_6a713_row1_col10\" class=\"data row1 col10\" >0</td>\n",
       "                        <td id=\"T_6a713_row1_col11\" class=\"data row1 col11\" >peptide</td>\n",
       "                        <td id=\"T_6a713_row1_col12\" class=\"data row1 col12\" >0</td>\n",
       "                        <td id=\"T_6a713_row1_col13\" class=\"data row1 col13\" >Peptide_0</td>\n",
       "            </tr>\n",
       "            <tr>\n",
       "                                <td id=\"T_6a713_row2_col0\" class=\"data row2 col0\" >15</td>\n",
       "                        <td id=\"T_6a713_row2_col1\" class=\"data row2 col1\" >None</td>\n",
       "                        <td id=\"T_6a713_row2_col2\" class=\"data row2 col2\" >O</td>\n",
       "                        <td id=\"T_6a713_row2_col3\" class=\"data row2 col3\" >O</td>\n",
       "                        <td id=\"T_6a713_row2_col4\" class=\"data row2 col4\" >1</td>\n",
       "                        <td id=\"T_6a713_row2_col5\" class=\"data row2 col5\" >2</td>\n",
       "                        <td id=\"T_6a713_row2_col6\" class=\"data row2 col6\" >ALA</td>\n",
       "                        <td id=\"T_6a713_row2_col7\" class=\"data row2 col7\" >aminoacid</td>\n",
       "                        <td id=\"T_6a713_row2_col8\" class=\"data row2 col8\" >0</td>\n",
       "                        <td id=\"T_6a713_row2_col9\" class=\"data row2 col9\" >0</td>\n",
       "                        <td id=\"T_6a713_row2_col10\" class=\"data row2 col10\" >0</td>\n",
       "                        <td id=\"T_6a713_row2_col11\" class=\"data row2 col11\" >peptide</td>\n",
       "                        <td id=\"T_6a713_row2_col12\" class=\"data row2 col12\" >0</td>\n",
       "                        <td id=\"T_6a713_row2_col13\" class=\"data row2 col13\" >Peptide_0</td>\n",
       "            </tr>\n",
       "            <tr>\n",
       "                                <td id=\"T_6a713_row3_col0\" class=\"data row3 col0\" >20</td>\n",
       "                        <td id=\"T_6a713_row3_col1\" class=\"data row3 col1\" >None</td>\n",
       "                        <td id=\"T_6a713_row3_col2\" class=\"data row3 col2\" >CB</td>\n",
       "                        <td id=\"T_6a713_row3_col3\" class=\"data row3 col3\" >C</td>\n",
       "                        <td id=\"T_6a713_row3_col4\" class=\"data row3 col4\" >2</td>\n",
       "                        <td id=\"T_6a713_row3_col5\" class=\"data row3 col5\" >3</td>\n",
       "                        <td id=\"T_6a713_row3_col6\" class=\"data row3 col6\" >ALA</td>\n",
       "                        <td id=\"T_6a713_row3_col7\" class=\"data row3 col7\" >aminoacid</td>\n",
       "                        <td id=\"T_6a713_row3_col8\" class=\"data row3 col8\" >0</td>\n",
       "                        <td id=\"T_6a713_row3_col9\" class=\"data row3 col9\" >0</td>\n",
       "                        <td id=\"T_6a713_row3_col10\" class=\"data row3 col10\" >0</td>\n",
       "                        <td id=\"T_6a713_row3_col11\" class=\"data row3 col11\" >peptide</td>\n",
       "                        <td id=\"T_6a713_row3_col12\" class=\"data row3 col12\" >0</td>\n",
       "                        <td id=\"T_6a713_row3_col13\" class=\"data row3 col13\" >Peptide_0</td>\n",
       "            </tr>\n",
       "            <tr>\n",
       "                                <td id=\"T_6a713_row4_col0\" class=\"data row4 col0\" >25</td>\n",
       "                        <td id=\"T_6a713_row4_col1\" class=\"data row4 col1\" >None</td>\n",
       "                        <td id=\"T_6a713_row4_col2\" class=\"data row4 col2\" >O</td>\n",
       "                        <td id=\"T_6a713_row4_col3\" class=\"data row4 col3\" >O</td>\n",
       "                        <td id=\"T_6a713_row4_col4\" class=\"data row4 col4\" >2</td>\n",
       "                        <td id=\"T_6a713_row4_col5\" class=\"data row4 col5\" >3</td>\n",
       "                        <td id=\"T_6a713_row4_col6\" class=\"data row4 col6\" >ALA</td>\n",
       "                        <td id=\"T_6a713_row4_col7\" class=\"data row4 col7\" >aminoacid</td>\n",
       "                        <td id=\"T_6a713_row4_col8\" class=\"data row4 col8\" >0</td>\n",
       "                        <td id=\"T_6a713_row4_col9\" class=\"data row4 col9\" >0</td>\n",
       "                        <td id=\"T_6a713_row4_col10\" class=\"data row4 col10\" >0</td>\n",
       "                        <td id=\"T_6a713_row4_col11\" class=\"data row4 col11\" >peptide</td>\n",
       "                        <td id=\"T_6a713_row4_col12\" class=\"data row4 col12\" >0</td>\n",
       "                        <td id=\"T_6a713_row4_col13\" class=\"data row4 col13\" >Peptide_0</td>\n",
       "            </tr>\n",
       "            <tr>\n",
       "                                <td id=\"T_6a713_row5_col0\" class=\"data row5 col0\" >30</td>\n",
       "                        <td id=\"T_6a713_row5_col1\" class=\"data row5 col1\" >None</td>\n",
       "                        <td id=\"T_6a713_row5_col2\" class=\"data row5 col2\" >CB</td>\n",
       "                        <td id=\"T_6a713_row5_col3\" class=\"data row5 col3\" >C</td>\n",
       "                        <td id=\"T_6a713_row5_col4\" class=\"data row5 col4\" >3</td>\n",
       "                        <td id=\"T_6a713_row5_col5\" class=\"data row5 col5\" >4</td>\n",
       "                        <td id=\"T_6a713_row5_col6\" class=\"data row5 col6\" >ALA</td>\n",
       "                        <td id=\"T_6a713_row5_col7\" class=\"data row5 col7\" >aminoacid</td>\n",
       "                        <td id=\"T_6a713_row5_col8\" class=\"data row5 col8\" >0</td>\n",
       "                        <td id=\"T_6a713_row5_col9\" class=\"data row5 col9\" >0</td>\n",
       "                        <td id=\"T_6a713_row5_col10\" class=\"data row5 col10\" >0</td>\n",
       "                        <td id=\"T_6a713_row5_col11\" class=\"data row5 col11\" >peptide</td>\n",
       "                        <td id=\"T_6a713_row5_col12\" class=\"data row5 col12\" >0</td>\n",
       "                        <td id=\"T_6a713_row5_col13\" class=\"data row5 col13\" >Peptide_0</td>\n",
       "            </tr>\n",
       "            <tr>\n",
       "                                <td id=\"T_6a713_row6_col0\" class=\"data row6 col0\" >35</td>\n",
       "                        <td id=\"T_6a713_row6_col1\" class=\"data row6 col1\" >None</td>\n",
       "                        <td id=\"T_6a713_row6_col2\" class=\"data row6 col2\" >O</td>\n",
       "                        <td id=\"T_6a713_row6_col3\" class=\"data row6 col3\" >O</td>\n",
       "                        <td id=\"T_6a713_row6_col4\" class=\"data row6 col4\" >3</td>\n",
       "                        <td id=\"T_6a713_row6_col5\" class=\"data row6 col5\" >4</td>\n",
       "                        <td id=\"T_6a713_row6_col6\" class=\"data row6 col6\" >ALA</td>\n",
       "                        <td id=\"T_6a713_row6_col7\" class=\"data row6 col7\" >aminoacid</td>\n",
       "                        <td id=\"T_6a713_row6_col8\" class=\"data row6 col8\" >0</td>\n",
       "                        <td id=\"T_6a713_row6_col9\" class=\"data row6 col9\" >0</td>\n",
       "                        <td id=\"T_6a713_row6_col10\" class=\"data row6 col10\" >0</td>\n",
       "                        <td id=\"T_6a713_row6_col11\" class=\"data row6 col11\" >peptide</td>\n",
       "                        <td id=\"T_6a713_row6_col12\" class=\"data row6 col12\" >0</td>\n",
       "                        <td id=\"T_6a713_row6_col13\" class=\"data row6 col13\" >Peptide_0</td>\n",
       "            </tr>\n",
       "            <tr>\n",
       "                                <td id=\"T_6a713_row7_col0\" class=\"data row7 col0\" >40</td>\n",
       "                        <td id=\"T_6a713_row7_col1\" class=\"data row7 col1\" >None</td>\n",
       "                        <td id=\"T_6a713_row7_col2\" class=\"data row7 col2\" >CB</td>\n",
       "                        <td id=\"T_6a713_row7_col3\" class=\"data row7 col3\" >C</td>\n",
       "                        <td id=\"T_6a713_row7_col4\" class=\"data row7 col4\" >4</td>\n",
       "                        <td id=\"T_6a713_row7_col5\" class=\"data row7 col5\" >5</td>\n",
       "                        <td id=\"T_6a713_row7_col6\" class=\"data row7 col6\" >ALA</td>\n",
       "                        <td id=\"T_6a713_row7_col7\" class=\"data row7 col7\" >aminoacid</td>\n",
       "                        <td id=\"T_6a713_row7_col8\" class=\"data row7 col8\" >0</td>\n",
       "                        <td id=\"T_6a713_row7_col9\" class=\"data row7 col9\" >0</td>\n",
       "                        <td id=\"T_6a713_row7_col10\" class=\"data row7 col10\" >0</td>\n",
       "                        <td id=\"T_6a713_row7_col11\" class=\"data row7 col11\" >peptide</td>\n",
       "                        <td id=\"T_6a713_row7_col12\" class=\"data row7 col12\" >0</td>\n",
       "                        <td id=\"T_6a713_row7_col13\" class=\"data row7 col13\" >Peptide_0</td>\n",
       "            </tr>\n",
       "            <tr>\n",
       "                                <td id=\"T_6a713_row8_col0\" class=\"data row8 col0\" >45</td>\n",
       "                        <td id=\"T_6a713_row8_col1\" class=\"data row8 col1\" >None</td>\n",
       "                        <td id=\"T_6a713_row8_col2\" class=\"data row8 col2\" >O</td>\n",
       "                        <td id=\"T_6a713_row8_col3\" class=\"data row8 col3\" >O</td>\n",
       "                        <td id=\"T_6a713_row8_col4\" class=\"data row8 col4\" >4</td>\n",
       "                        <td id=\"T_6a713_row8_col5\" class=\"data row8 col5\" >5</td>\n",
       "                        <td id=\"T_6a713_row8_col6\" class=\"data row8 col6\" >ALA</td>\n",
       "                        <td id=\"T_6a713_row8_col7\" class=\"data row8 col7\" >aminoacid</td>\n",
       "                        <td id=\"T_6a713_row8_col8\" class=\"data row8 col8\" >0</td>\n",
       "                        <td id=\"T_6a713_row8_col9\" class=\"data row8 col9\" >0</td>\n",
       "                        <td id=\"T_6a713_row8_col10\" class=\"data row8 col10\" >0</td>\n",
       "                        <td id=\"T_6a713_row8_col11\" class=\"data row8 col11\" >peptide</td>\n",
       "                        <td id=\"T_6a713_row8_col12\" class=\"data row8 col12\" >0</td>\n",
       "                        <td id=\"T_6a713_row8_col13\" class=\"data row8 col13\" >Peptide_0</td>\n",
       "            </tr>\n",
       "            <tr>\n",
       "                                <td id=\"T_6a713_row9_col0\" class=\"data row9 col0\" >50</td>\n",
       "                        <td id=\"T_6a713_row9_col1\" class=\"data row9 col1\" >None</td>\n",
       "                        <td id=\"T_6a713_row9_col2\" class=\"data row9 col2\" >CB</td>\n",
       "                        <td id=\"T_6a713_row9_col3\" class=\"data row9 col3\" >C</td>\n",
       "                        <td id=\"T_6a713_row9_col4\" class=\"data row9 col4\" >5</td>\n",
       "                        <td id=\"T_6a713_row9_col5\" class=\"data row9 col5\" >6</td>\n",
       "                        <td id=\"T_6a713_row9_col6\" class=\"data row9 col6\" >ALA</td>\n",
       "                        <td id=\"T_6a713_row9_col7\" class=\"data row9 col7\" >aminoacid</td>\n",
       "                        <td id=\"T_6a713_row9_col8\" class=\"data row9 col8\" >0</td>\n",
       "                        <td id=\"T_6a713_row9_col9\" class=\"data row9 col9\" >0</td>\n",
       "                        <td id=\"T_6a713_row9_col10\" class=\"data row9 col10\" >0</td>\n",
       "                        <td id=\"T_6a713_row9_col11\" class=\"data row9 col11\" >peptide</td>\n",
       "                        <td id=\"T_6a713_row9_col12\" class=\"data row9 col12\" >0</td>\n",
       "                        <td id=\"T_6a713_row9_col13\" class=\"data row9 col13\" >Peptide_0</td>\n",
       "            </tr>\n",
       "            <tr>\n",
       "                                <td id=\"T_6a713_row10_col0\" class=\"data row10 col0\" >55</td>\n",
       "                        <td id=\"T_6a713_row10_col1\" class=\"data row10 col1\" >None</td>\n",
       "                        <td id=\"T_6a713_row10_col2\" class=\"data row10 col2\" >O</td>\n",
       "                        <td id=\"T_6a713_row10_col3\" class=\"data row10 col3\" >O</td>\n",
       "                        <td id=\"T_6a713_row10_col4\" class=\"data row10 col4\" >5</td>\n",
       "                        <td id=\"T_6a713_row10_col5\" class=\"data row10 col5\" >6</td>\n",
       "                        <td id=\"T_6a713_row10_col6\" class=\"data row10 col6\" >ALA</td>\n",
       "                        <td id=\"T_6a713_row10_col7\" class=\"data row10 col7\" >aminoacid</td>\n",
       "                        <td id=\"T_6a713_row10_col8\" class=\"data row10 col8\" >0</td>\n",
       "                        <td id=\"T_6a713_row10_col9\" class=\"data row10 col9\" >0</td>\n",
       "                        <td id=\"T_6a713_row10_col10\" class=\"data row10 col10\" >0</td>\n",
       "                        <td id=\"T_6a713_row10_col11\" class=\"data row10 col11\" >peptide</td>\n",
       "                        <td id=\"T_6a713_row10_col12\" class=\"data row10 col12\" >0</td>\n",
       "                        <td id=\"T_6a713_row10_col13\" class=\"data row10 col13\" >Peptide_0</td>\n",
       "            </tr>\n",
       "            <tr>\n",
       "                                <td id=\"T_6a713_row11_col0\" class=\"data row11 col0\" >56</td>\n",
       "                        <td id=\"T_6a713_row11_col1\" class=\"data row11 col1\" >None</td>\n",
       "                        <td id=\"T_6a713_row11_col2\" class=\"data row11 col2\" >N</td>\n",
       "                        <td id=\"T_6a713_row11_col3\" class=\"data row11 col3\" >N</td>\n",
       "                        <td id=\"T_6a713_row11_col4\" class=\"data row11 col4\" >6</td>\n",
       "                        <td id=\"T_6a713_row11_col5\" class=\"data row11 col5\" >7</td>\n",
       "                        <td id=\"T_6a713_row11_col6\" class=\"data row11 col6\" >NME</td>\n",
       "                        <td id=\"T_6a713_row11_col7\" class=\"data row11 col7\" >aminoacid</td>\n",
       "                        <td id=\"T_6a713_row11_col8\" class=\"data row11 col8\" >0</td>\n",
       "                        <td id=\"T_6a713_row11_col9\" class=\"data row11 col9\" >0</td>\n",
       "                        <td id=\"T_6a713_row11_col10\" class=\"data row11 col10\" >0</td>\n",
       "                        <td id=\"T_6a713_row11_col11\" class=\"data row11 col11\" >peptide</td>\n",
       "                        <td id=\"T_6a713_row11_col12\" class=\"data row11 col12\" >0</td>\n",
       "                        <td id=\"T_6a713_row11_col13\" class=\"data row11 col13\" >Peptide_0</td>\n",
       "            </tr>\n",
       "    </tbody></table>"
      ],
      "text/plain": [
       "<pandas.io.formats.style.Styler at 0x7f824f40ef10>"
      ]
     },
     "execution_count": 1,
     "metadata": {},
     "output_type": "execute_result"
    }
   ],
   "source": [
    "msm.info(molecular_system, target='atom', selection='@acceptors')"
   ]
  },
  {
   "cell_type": "code",
   "execution_count": 13,
   "metadata": {
    "execution": {
     "iopub.execute_input": "2021-05-05T01:23:17.205611Z",
     "iopub.status.busy": "2021-05-05T01:23:17.204723Z",
     "iopub.status.idle": "2021-05-05T01:23:17.229976Z",
     "shell.execute_reply": "2021-05-05T01:23:17.229176Z"
    }
   },
   "outputs": [
    {
     "data": {
      "text/plain": [
       "array([1, 6, 8, ..., 50, 56, 58], dtype=object)"
      ]
     },
     "execution_count": 1,
     "metadata": {},
     "output_type": "execute_result"
    }
   ],
   "source": [
    "msm.select(molecular_system, selection=\"all bonded to atom_type=='H'\")"
   ]
  },
  {
   "cell_type": "code",
   "execution_count": 14,
   "metadata": {
    "execution": {
     "iopub.execute_input": "2021-05-05T01:23:17.235120Z",
     "iopub.status.busy": "2021-05-05T01:23:17.234269Z",
     "iopub.status.idle": "2021-05-05T01:23:17.259443Z",
     "shell.execute_reply": "2021-05-05T01:23:17.260263Z"
    }
   },
   "outputs": [],
   "source": [
    "acceptors=msm.hbonds.get_acceptor_atoms(molecular_system,\n",
    "                                        default_inclusion_rules=False, default_exclusion_rules=False,\n",
    "                                        inclusion_rules=[\"atom_type=='C'\"],\n",
    "                                        exclusion_rules=[\"all bonded to atom_type=='H'\"])"
   ]
  },
  {
   "cell_type": "code",
   "execution_count": 15,
   "metadata": {
    "execution": {
     "iopub.execute_input": "2021-05-05T01:23:17.265481Z",
     "iopub.status.busy": "2021-05-05T01:23:17.264348Z",
     "iopub.status.idle": "2021-05-05T01:23:17.305654Z",
     "shell.execute_reply": "2021-05-05T01:23:17.306575Z"
    }
   },
   "outputs": [
    {
     "data": {
      "text/html": [
       "<style  type=\"text/css\" >\n",
       "</style><table id=\"T_c492e_\" ><thead>    <tr>        <th class=\"col_heading level0 col0\" >index</th>        <th class=\"col_heading level0 col1\" >id</th>        <th class=\"col_heading level0 col2\" >name</th>        <th class=\"col_heading level0 col3\" >type</th>        <th class=\"col_heading level0 col4\" >group index</th>        <th class=\"col_heading level0 col5\" >group id</th>        <th class=\"col_heading level0 col6\" >group name</th>        <th class=\"col_heading level0 col7\" >group type</th>        <th class=\"col_heading level0 col8\" >component index</th>        <th class=\"col_heading level0 col9\" >chain index</th>        <th class=\"col_heading level0 col10\" >molecule index</th>        <th class=\"col_heading level0 col11\" >molecule type</th>        <th class=\"col_heading level0 col12\" >entity index</th>        <th class=\"col_heading level0 col13\" >entity name</th>    </tr></thead><tbody>\n",
       "                <tr>\n",
       "                                <td id=\"T_c492e_row0_col0\" class=\"data row0 col0\" >4</td>\n",
       "                        <td id=\"T_c492e_row0_col1\" class=\"data row0 col1\" >None</td>\n",
       "                        <td id=\"T_c492e_row0_col2\" class=\"data row0 col2\" >C</td>\n",
       "                        <td id=\"T_c492e_row0_col3\" class=\"data row0 col3\" >C</td>\n",
       "                        <td id=\"T_c492e_row0_col4\" class=\"data row0 col4\" >0</td>\n",
       "                        <td id=\"T_c492e_row0_col5\" class=\"data row0 col5\" >1</td>\n",
       "                        <td id=\"T_c492e_row0_col6\" class=\"data row0 col6\" >ACE</td>\n",
       "                        <td id=\"T_c492e_row0_col7\" class=\"data row0 col7\" >aminoacid</td>\n",
       "                        <td id=\"T_c492e_row0_col8\" class=\"data row0 col8\" >0</td>\n",
       "                        <td id=\"T_c492e_row0_col9\" class=\"data row0 col9\" >0</td>\n",
       "                        <td id=\"T_c492e_row0_col10\" class=\"data row0 col10\" >0</td>\n",
       "                        <td id=\"T_c492e_row0_col11\" class=\"data row0 col11\" >peptide</td>\n",
       "                        <td id=\"T_c492e_row0_col12\" class=\"data row0 col12\" >0</td>\n",
       "                        <td id=\"T_c492e_row0_col13\" class=\"data row0 col13\" >Peptide_0</td>\n",
       "            </tr>\n",
       "            <tr>\n",
       "                                <td id=\"T_c492e_row1_col0\" class=\"data row1 col0\" >14</td>\n",
       "                        <td id=\"T_c492e_row1_col1\" class=\"data row1 col1\" >None</td>\n",
       "                        <td id=\"T_c492e_row1_col2\" class=\"data row1 col2\" >C</td>\n",
       "                        <td id=\"T_c492e_row1_col3\" class=\"data row1 col3\" >C</td>\n",
       "                        <td id=\"T_c492e_row1_col4\" class=\"data row1 col4\" >1</td>\n",
       "                        <td id=\"T_c492e_row1_col5\" class=\"data row1 col5\" >2</td>\n",
       "                        <td id=\"T_c492e_row1_col6\" class=\"data row1 col6\" >ALA</td>\n",
       "                        <td id=\"T_c492e_row1_col7\" class=\"data row1 col7\" >aminoacid</td>\n",
       "                        <td id=\"T_c492e_row1_col8\" class=\"data row1 col8\" >0</td>\n",
       "                        <td id=\"T_c492e_row1_col9\" class=\"data row1 col9\" >0</td>\n",
       "                        <td id=\"T_c492e_row1_col10\" class=\"data row1 col10\" >0</td>\n",
       "                        <td id=\"T_c492e_row1_col11\" class=\"data row1 col11\" >peptide</td>\n",
       "                        <td id=\"T_c492e_row1_col12\" class=\"data row1 col12\" >0</td>\n",
       "                        <td id=\"T_c492e_row1_col13\" class=\"data row1 col13\" >Peptide_0</td>\n",
       "            </tr>\n",
       "            <tr>\n",
       "                                <td id=\"T_c492e_row2_col0\" class=\"data row2 col0\" >24</td>\n",
       "                        <td id=\"T_c492e_row2_col1\" class=\"data row2 col1\" >None</td>\n",
       "                        <td id=\"T_c492e_row2_col2\" class=\"data row2 col2\" >C</td>\n",
       "                        <td id=\"T_c492e_row2_col3\" class=\"data row2 col3\" >C</td>\n",
       "                        <td id=\"T_c492e_row2_col4\" class=\"data row2 col4\" >2</td>\n",
       "                        <td id=\"T_c492e_row2_col5\" class=\"data row2 col5\" >3</td>\n",
       "                        <td id=\"T_c492e_row2_col6\" class=\"data row2 col6\" >ALA</td>\n",
       "                        <td id=\"T_c492e_row2_col7\" class=\"data row2 col7\" >aminoacid</td>\n",
       "                        <td id=\"T_c492e_row2_col8\" class=\"data row2 col8\" >0</td>\n",
       "                        <td id=\"T_c492e_row2_col9\" class=\"data row2 col9\" >0</td>\n",
       "                        <td id=\"T_c492e_row2_col10\" class=\"data row2 col10\" >0</td>\n",
       "                        <td id=\"T_c492e_row2_col11\" class=\"data row2 col11\" >peptide</td>\n",
       "                        <td id=\"T_c492e_row2_col12\" class=\"data row2 col12\" >0</td>\n",
       "                        <td id=\"T_c492e_row2_col13\" class=\"data row2 col13\" >Peptide_0</td>\n",
       "            </tr>\n",
       "            <tr>\n",
       "                                <td id=\"T_c492e_row3_col0\" class=\"data row3 col0\" >34</td>\n",
       "                        <td id=\"T_c492e_row3_col1\" class=\"data row3 col1\" >None</td>\n",
       "                        <td id=\"T_c492e_row3_col2\" class=\"data row3 col2\" >C</td>\n",
       "                        <td id=\"T_c492e_row3_col3\" class=\"data row3 col3\" >C</td>\n",
       "                        <td id=\"T_c492e_row3_col4\" class=\"data row3 col4\" >3</td>\n",
       "                        <td id=\"T_c492e_row3_col5\" class=\"data row3 col5\" >4</td>\n",
       "                        <td id=\"T_c492e_row3_col6\" class=\"data row3 col6\" >ALA</td>\n",
       "                        <td id=\"T_c492e_row3_col7\" class=\"data row3 col7\" >aminoacid</td>\n",
       "                        <td id=\"T_c492e_row3_col8\" class=\"data row3 col8\" >0</td>\n",
       "                        <td id=\"T_c492e_row3_col9\" class=\"data row3 col9\" >0</td>\n",
       "                        <td id=\"T_c492e_row3_col10\" class=\"data row3 col10\" >0</td>\n",
       "                        <td id=\"T_c492e_row3_col11\" class=\"data row3 col11\" >peptide</td>\n",
       "                        <td id=\"T_c492e_row3_col12\" class=\"data row3 col12\" >0</td>\n",
       "                        <td id=\"T_c492e_row3_col13\" class=\"data row3 col13\" >Peptide_0</td>\n",
       "            </tr>\n",
       "            <tr>\n",
       "                                <td id=\"T_c492e_row4_col0\" class=\"data row4 col0\" >44</td>\n",
       "                        <td id=\"T_c492e_row4_col1\" class=\"data row4 col1\" >None</td>\n",
       "                        <td id=\"T_c492e_row4_col2\" class=\"data row4 col2\" >C</td>\n",
       "                        <td id=\"T_c492e_row4_col3\" class=\"data row4 col3\" >C</td>\n",
       "                        <td id=\"T_c492e_row4_col4\" class=\"data row4 col4\" >4</td>\n",
       "                        <td id=\"T_c492e_row4_col5\" class=\"data row4 col5\" >5</td>\n",
       "                        <td id=\"T_c492e_row4_col6\" class=\"data row4 col6\" >ALA</td>\n",
       "                        <td id=\"T_c492e_row4_col7\" class=\"data row4 col7\" >aminoacid</td>\n",
       "                        <td id=\"T_c492e_row4_col8\" class=\"data row4 col8\" >0</td>\n",
       "                        <td id=\"T_c492e_row4_col9\" class=\"data row4 col9\" >0</td>\n",
       "                        <td id=\"T_c492e_row4_col10\" class=\"data row4 col10\" >0</td>\n",
       "                        <td id=\"T_c492e_row4_col11\" class=\"data row4 col11\" >peptide</td>\n",
       "                        <td id=\"T_c492e_row4_col12\" class=\"data row4 col12\" >0</td>\n",
       "                        <td id=\"T_c492e_row4_col13\" class=\"data row4 col13\" >Peptide_0</td>\n",
       "            </tr>\n",
       "            <tr>\n",
       "                                <td id=\"T_c492e_row5_col0\" class=\"data row5 col0\" >54</td>\n",
       "                        <td id=\"T_c492e_row5_col1\" class=\"data row5 col1\" >None</td>\n",
       "                        <td id=\"T_c492e_row5_col2\" class=\"data row5 col2\" >C</td>\n",
       "                        <td id=\"T_c492e_row5_col3\" class=\"data row5 col3\" >C</td>\n",
       "                        <td id=\"T_c492e_row5_col4\" class=\"data row5 col4\" >5</td>\n",
       "                        <td id=\"T_c492e_row5_col5\" class=\"data row5 col5\" >6</td>\n",
       "                        <td id=\"T_c492e_row5_col6\" class=\"data row5 col6\" >ALA</td>\n",
       "                        <td id=\"T_c492e_row5_col7\" class=\"data row5 col7\" >aminoacid</td>\n",
       "                        <td id=\"T_c492e_row5_col8\" class=\"data row5 col8\" >0</td>\n",
       "                        <td id=\"T_c492e_row5_col9\" class=\"data row5 col9\" >0</td>\n",
       "                        <td id=\"T_c492e_row5_col10\" class=\"data row5 col10\" >0</td>\n",
       "                        <td id=\"T_c492e_row5_col11\" class=\"data row5 col11\" >peptide</td>\n",
       "                        <td id=\"T_c492e_row5_col12\" class=\"data row5 col12\" >0</td>\n",
       "                        <td id=\"T_c492e_row5_col13\" class=\"data row5 col13\" >Peptide_0</td>\n",
       "            </tr>\n",
       "    </tbody></table>"
      ],
      "text/plain": [
       "<pandas.io.formats.style.Styler at 0x7f824f1da450>"
      ]
     },
     "execution_count": 1,
     "metadata": {},
     "output_type": "execute_result"
    }
   ],
   "source": [
    "msm.info(molecular_system, target='atom', selection='@acceptors')"
   ]
  },
  {
   "cell_type": "markdown",
   "metadata": {},
   "source": [
    "## Donor atoms"
   ]
  },
  {
   "cell_type": "code",
   "execution_count": 16,
   "metadata": {
    "execution": {
     "iopub.execute_input": "2021-05-05T01:23:17.311720Z",
     "iopub.status.busy": "2021-05-05T01:23:17.310529Z",
     "iopub.status.idle": "2021-05-05T01:23:17.334246Z",
     "shell.execute_reply": "2021-05-05T01:23:17.333337Z"
    }
   },
   "outputs": [
    {
     "data": {
      "text/plain": [
       "[\"(atom_type=='O') bonded to (atom_type=='H')\",\n",
       " \"(atom_type=='N') bonded to (atom_type=='H')\"]"
      ]
     },
     "execution_count": 1,
     "metadata": {},
     "output_type": "execute_result"
    }
   ],
   "source": [
    "msm.hbonds.donor_inclusion_rules"
   ]
  },
  {
   "cell_type": "code",
   "execution_count": 17,
   "metadata": {
    "execution": {
     "iopub.execute_input": "2021-05-05T01:23:17.340303Z",
     "iopub.status.busy": "2021-05-05T01:23:17.339214Z",
     "iopub.status.idle": "2021-05-05T01:23:17.363175Z",
     "shell.execute_reply": "2021-05-05T01:23:17.364082Z"
    }
   },
   "outputs": [
    {
     "data": {
      "text/plain": [
       "[\"(atom_name=='NE2') not bonded to (atom_type=='H')\",\n",
       " \"(atom_name=='ND1') not bonded to (atom_type=='H')\"]"
      ]
     },
     "execution_count": 1,
     "metadata": {},
     "output_type": "execute_result"
    }
   ],
   "source": [
    "msm.hbonds.donor_exclusion_rules"
   ]
  },
  {
   "cell_type": "code",
   "execution_count": 18,
   "metadata": {
    "execution": {
     "iopub.execute_input": "2021-05-05T01:23:17.369106Z",
     "iopub.status.busy": "2021-05-05T01:23:17.367997Z",
     "iopub.status.idle": "2021-05-05T01:23:17.430798Z",
     "shell.execute_reply": "2021-05-05T01:23:17.431729Z"
    }
   },
   "outputs": [],
   "source": [
    "donors = msm.hbonds.get_donor_atoms(molecular_system)"
   ]
  },
  {
   "cell_type": "code",
   "execution_count": 19,
   "metadata": {
    "execution": {
     "iopub.execute_input": "2021-05-05T01:23:17.437106Z",
     "iopub.status.busy": "2021-05-05T01:23:17.435973Z",
     "iopub.status.idle": "2021-05-05T01:23:17.460357Z",
     "shell.execute_reply": "2021-05-05T01:23:17.461405Z"
    }
   },
   "outputs": [
    {
     "data": {
      "text/plain": [
       "array([[ 6,  7],\n",
       "       [16, 17],\n",
       "       [26, 27],\n",
       "       [36, 37],\n",
       "       [46, 47],\n",
       "       [56, 57]])"
      ]
     },
     "execution_count": 1,
     "metadata": {},
     "output_type": "execute_result"
    }
   ],
   "source": [
    "donors"
   ]
  },
  {
   "cell_type": "code",
   "execution_count": 20,
   "metadata": {
    "execution": {
     "iopub.execute_input": "2021-05-05T01:23:17.466888Z",
     "iopub.status.busy": "2021-05-05T01:23:17.465792Z",
     "iopub.status.idle": "2021-05-05T01:23:17.524296Z",
     "shell.execute_reply": "2021-05-05T01:23:17.525266Z"
    }
   },
   "outputs": [
    {
     "data": {
      "text/html": [
       "<style  type=\"text/css\" >\n",
       "</style><table id=\"T_69f23_\" ><thead>    <tr>        <th class=\"col_heading level0 col0\" >index</th>        <th class=\"col_heading level0 col1\" >id</th>        <th class=\"col_heading level0 col2\" >name</th>        <th class=\"col_heading level0 col3\" >type</th>        <th class=\"col_heading level0 col4\" >group index</th>        <th class=\"col_heading level0 col5\" >group id</th>        <th class=\"col_heading level0 col6\" >group name</th>        <th class=\"col_heading level0 col7\" >group type</th>        <th class=\"col_heading level0 col8\" >component index</th>        <th class=\"col_heading level0 col9\" >chain index</th>        <th class=\"col_heading level0 col10\" >molecule index</th>        <th class=\"col_heading level0 col11\" >molecule type</th>        <th class=\"col_heading level0 col12\" >entity index</th>        <th class=\"col_heading level0 col13\" >entity name</th>    </tr></thead><tbody>\n",
       "                <tr>\n",
       "                                <td id=\"T_69f23_row0_col0\" class=\"data row0 col0\" >6</td>\n",
       "                        <td id=\"T_69f23_row0_col1\" class=\"data row0 col1\" >None</td>\n",
       "                        <td id=\"T_69f23_row0_col2\" class=\"data row0 col2\" >N</td>\n",
       "                        <td id=\"T_69f23_row0_col3\" class=\"data row0 col3\" >N</td>\n",
       "                        <td id=\"T_69f23_row0_col4\" class=\"data row0 col4\" >1</td>\n",
       "                        <td id=\"T_69f23_row0_col5\" class=\"data row0 col5\" >2</td>\n",
       "                        <td id=\"T_69f23_row0_col6\" class=\"data row0 col6\" >ALA</td>\n",
       "                        <td id=\"T_69f23_row0_col7\" class=\"data row0 col7\" >aminoacid</td>\n",
       "                        <td id=\"T_69f23_row0_col8\" class=\"data row0 col8\" >0</td>\n",
       "                        <td id=\"T_69f23_row0_col9\" class=\"data row0 col9\" >0</td>\n",
       "                        <td id=\"T_69f23_row0_col10\" class=\"data row0 col10\" >0</td>\n",
       "                        <td id=\"T_69f23_row0_col11\" class=\"data row0 col11\" >peptide</td>\n",
       "                        <td id=\"T_69f23_row0_col12\" class=\"data row0 col12\" >0</td>\n",
       "                        <td id=\"T_69f23_row0_col13\" class=\"data row0 col13\" >Peptide_0</td>\n",
       "            </tr>\n",
       "            <tr>\n",
       "                                <td id=\"T_69f23_row1_col0\" class=\"data row1 col0\" >7</td>\n",
       "                        <td id=\"T_69f23_row1_col1\" class=\"data row1 col1\" >None</td>\n",
       "                        <td id=\"T_69f23_row1_col2\" class=\"data row1 col2\" >H</td>\n",
       "                        <td id=\"T_69f23_row1_col3\" class=\"data row1 col3\" >H</td>\n",
       "                        <td id=\"T_69f23_row1_col4\" class=\"data row1 col4\" >1</td>\n",
       "                        <td id=\"T_69f23_row1_col5\" class=\"data row1 col5\" >2</td>\n",
       "                        <td id=\"T_69f23_row1_col6\" class=\"data row1 col6\" >ALA</td>\n",
       "                        <td id=\"T_69f23_row1_col7\" class=\"data row1 col7\" >aminoacid</td>\n",
       "                        <td id=\"T_69f23_row1_col8\" class=\"data row1 col8\" >0</td>\n",
       "                        <td id=\"T_69f23_row1_col9\" class=\"data row1 col9\" >0</td>\n",
       "                        <td id=\"T_69f23_row1_col10\" class=\"data row1 col10\" >0</td>\n",
       "                        <td id=\"T_69f23_row1_col11\" class=\"data row1 col11\" >peptide</td>\n",
       "                        <td id=\"T_69f23_row1_col12\" class=\"data row1 col12\" >0</td>\n",
       "                        <td id=\"T_69f23_row1_col13\" class=\"data row1 col13\" >Peptide_0</td>\n",
       "            </tr>\n",
       "    </tbody></table>"
      ],
      "text/plain": [
       "<pandas.io.formats.style.Styler at 0x7f82befa6510>"
      ]
     },
     "execution_count": 1,
     "metadata": {},
     "output_type": "execute_result"
    }
   ],
   "source": [
    "msm.info(molecular_system, target='atom', selection='@donors[0]')"
   ]
  },
  {
   "cell_type": "code",
   "execution_count": 21,
   "metadata": {
    "execution": {
     "iopub.execute_input": "2021-05-05T01:23:17.532480Z",
     "iopub.status.busy": "2021-05-05T01:23:17.530314Z",
     "iopub.status.idle": "2021-05-05T01:23:17.552784Z",
     "shell.execute_reply": "2021-05-05T01:23:17.553761Z"
    }
   },
   "outputs": [],
   "source": [
    "donors_heavy_atom=donors[:,0]"
   ]
  },
  {
   "cell_type": "code",
   "execution_count": 22,
   "metadata": {
    "execution": {
     "iopub.execute_input": "2021-05-05T01:23:17.558932Z",
     "iopub.status.busy": "2021-05-05T01:23:17.557828Z",
     "iopub.status.idle": "2021-05-05T01:23:17.601303Z",
     "shell.execute_reply": "2021-05-05T01:23:17.602217Z"
    }
   },
   "outputs": [
    {
     "data": {
      "text/html": [
       "<style  type=\"text/css\" >\n",
       "</style><table id=\"T_aff52_\" ><thead>    <tr>        <th class=\"col_heading level0 col0\" >index</th>        <th class=\"col_heading level0 col1\" >id</th>        <th class=\"col_heading level0 col2\" >name</th>        <th class=\"col_heading level0 col3\" >type</th>        <th class=\"col_heading level0 col4\" >group index</th>        <th class=\"col_heading level0 col5\" >group id</th>        <th class=\"col_heading level0 col6\" >group name</th>        <th class=\"col_heading level0 col7\" >group type</th>        <th class=\"col_heading level0 col8\" >component index</th>        <th class=\"col_heading level0 col9\" >chain index</th>        <th class=\"col_heading level0 col10\" >molecule index</th>        <th class=\"col_heading level0 col11\" >molecule type</th>        <th class=\"col_heading level0 col12\" >entity index</th>        <th class=\"col_heading level0 col13\" >entity name</th>    </tr></thead><tbody>\n",
       "                <tr>\n",
       "                                <td id=\"T_aff52_row0_col0\" class=\"data row0 col0\" >6</td>\n",
       "                        <td id=\"T_aff52_row0_col1\" class=\"data row0 col1\" >None</td>\n",
       "                        <td id=\"T_aff52_row0_col2\" class=\"data row0 col2\" >N</td>\n",
       "                        <td id=\"T_aff52_row0_col3\" class=\"data row0 col3\" >N</td>\n",
       "                        <td id=\"T_aff52_row0_col4\" class=\"data row0 col4\" >1</td>\n",
       "                        <td id=\"T_aff52_row0_col5\" class=\"data row0 col5\" >2</td>\n",
       "                        <td id=\"T_aff52_row0_col6\" class=\"data row0 col6\" >ALA</td>\n",
       "                        <td id=\"T_aff52_row0_col7\" class=\"data row0 col7\" >aminoacid</td>\n",
       "                        <td id=\"T_aff52_row0_col8\" class=\"data row0 col8\" >0</td>\n",
       "                        <td id=\"T_aff52_row0_col9\" class=\"data row0 col9\" >0</td>\n",
       "                        <td id=\"T_aff52_row0_col10\" class=\"data row0 col10\" >0</td>\n",
       "                        <td id=\"T_aff52_row0_col11\" class=\"data row0 col11\" >peptide</td>\n",
       "                        <td id=\"T_aff52_row0_col12\" class=\"data row0 col12\" >0</td>\n",
       "                        <td id=\"T_aff52_row0_col13\" class=\"data row0 col13\" >Peptide_0</td>\n",
       "            </tr>\n",
       "            <tr>\n",
       "                                <td id=\"T_aff52_row1_col0\" class=\"data row1 col0\" >16</td>\n",
       "                        <td id=\"T_aff52_row1_col1\" class=\"data row1 col1\" >None</td>\n",
       "                        <td id=\"T_aff52_row1_col2\" class=\"data row1 col2\" >N</td>\n",
       "                        <td id=\"T_aff52_row1_col3\" class=\"data row1 col3\" >N</td>\n",
       "                        <td id=\"T_aff52_row1_col4\" class=\"data row1 col4\" >2</td>\n",
       "                        <td id=\"T_aff52_row1_col5\" class=\"data row1 col5\" >3</td>\n",
       "                        <td id=\"T_aff52_row1_col6\" class=\"data row1 col6\" >ALA</td>\n",
       "                        <td id=\"T_aff52_row1_col7\" class=\"data row1 col7\" >aminoacid</td>\n",
       "                        <td id=\"T_aff52_row1_col8\" class=\"data row1 col8\" >0</td>\n",
       "                        <td id=\"T_aff52_row1_col9\" class=\"data row1 col9\" >0</td>\n",
       "                        <td id=\"T_aff52_row1_col10\" class=\"data row1 col10\" >0</td>\n",
       "                        <td id=\"T_aff52_row1_col11\" class=\"data row1 col11\" >peptide</td>\n",
       "                        <td id=\"T_aff52_row1_col12\" class=\"data row1 col12\" >0</td>\n",
       "                        <td id=\"T_aff52_row1_col13\" class=\"data row1 col13\" >Peptide_0</td>\n",
       "            </tr>\n",
       "            <tr>\n",
       "                                <td id=\"T_aff52_row2_col0\" class=\"data row2 col0\" >26</td>\n",
       "                        <td id=\"T_aff52_row2_col1\" class=\"data row2 col1\" >None</td>\n",
       "                        <td id=\"T_aff52_row2_col2\" class=\"data row2 col2\" >N</td>\n",
       "                        <td id=\"T_aff52_row2_col3\" class=\"data row2 col3\" >N</td>\n",
       "                        <td id=\"T_aff52_row2_col4\" class=\"data row2 col4\" >3</td>\n",
       "                        <td id=\"T_aff52_row2_col5\" class=\"data row2 col5\" >4</td>\n",
       "                        <td id=\"T_aff52_row2_col6\" class=\"data row2 col6\" >ALA</td>\n",
       "                        <td id=\"T_aff52_row2_col7\" class=\"data row2 col7\" >aminoacid</td>\n",
       "                        <td id=\"T_aff52_row2_col8\" class=\"data row2 col8\" >0</td>\n",
       "                        <td id=\"T_aff52_row2_col9\" class=\"data row2 col9\" >0</td>\n",
       "                        <td id=\"T_aff52_row2_col10\" class=\"data row2 col10\" >0</td>\n",
       "                        <td id=\"T_aff52_row2_col11\" class=\"data row2 col11\" >peptide</td>\n",
       "                        <td id=\"T_aff52_row2_col12\" class=\"data row2 col12\" >0</td>\n",
       "                        <td id=\"T_aff52_row2_col13\" class=\"data row2 col13\" >Peptide_0</td>\n",
       "            </tr>\n",
       "            <tr>\n",
       "                                <td id=\"T_aff52_row3_col0\" class=\"data row3 col0\" >36</td>\n",
       "                        <td id=\"T_aff52_row3_col1\" class=\"data row3 col1\" >None</td>\n",
       "                        <td id=\"T_aff52_row3_col2\" class=\"data row3 col2\" >N</td>\n",
       "                        <td id=\"T_aff52_row3_col3\" class=\"data row3 col3\" >N</td>\n",
       "                        <td id=\"T_aff52_row3_col4\" class=\"data row3 col4\" >4</td>\n",
       "                        <td id=\"T_aff52_row3_col5\" class=\"data row3 col5\" >5</td>\n",
       "                        <td id=\"T_aff52_row3_col6\" class=\"data row3 col6\" >ALA</td>\n",
       "                        <td id=\"T_aff52_row3_col7\" class=\"data row3 col7\" >aminoacid</td>\n",
       "                        <td id=\"T_aff52_row3_col8\" class=\"data row3 col8\" >0</td>\n",
       "                        <td id=\"T_aff52_row3_col9\" class=\"data row3 col9\" >0</td>\n",
       "                        <td id=\"T_aff52_row3_col10\" class=\"data row3 col10\" >0</td>\n",
       "                        <td id=\"T_aff52_row3_col11\" class=\"data row3 col11\" >peptide</td>\n",
       "                        <td id=\"T_aff52_row3_col12\" class=\"data row3 col12\" >0</td>\n",
       "                        <td id=\"T_aff52_row3_col13\" class=\"data row3 col13\" >Peptide_0</td>\n",
       "            </tr>\n",
       "            <tr>\n",
       "                                <td id=\"T_aff52_row4_col0\" class=\"data row4 col0\" >46</td>\n",
       "                        <td id=\"T_aff52_row4_col1\" class=\"data row4 col1\" >None</td>\n",
       "                        <td id=\"T_aff52_row4_col2\" class=\"data row4 col2\" >N</td>\n",
       "                        <td id=\"T_aff52_row4_col3\" class=\"data row4 col3\" >N</td>\n",
       "                        <td id=\"T_aff52_row4_col4\" class=\"data row4 col4\" >5</td>\n",
       "                        <td id=\"T_aff52_row4_col5\" class=\"data row4 col5\" >6</td>\n",
       "                        <td id=\"T_aff52_row4_col6\" class=\"data row4 col6\" >ALA</td>\n",
       "                        <td id=\"T_aff52_row4_col7\" class=\"data row4 col7\" >aminoacid</td>\n",
       "                        <td id=\"T_aff52_row4_col8\" class=\"data row4 col8\" >0</td>\n",
       "                        <td id=\"T_aff52_row4_col9\" class=\"data row4 col9\" >0</td>\n",
       "                        <td id=\"T_aff52_row4_col10\" class=\"data row4 col10\" >0</td>\n",
       "                        <td id=\"T_aff52_row4_col11\" class=\"data row4 col11\" >peptide</td>\n",
       "                        <td id=\"T_aff52_row4_col12\" class=\"data row4 col12\" >0</td>\n",
       "                        <td id=\"T_aff52_row4_col13\" class=\"data row4 col13\" >Peptide_0</td>\n",
       "            </tr>\n",
       "            <tr>\n",
       "                                <td id=\"T_aff52_row5_col0\" class=\"data row5 col0\" >56</td>\n",
       "                        <td id=\"T_aff52_row5_col1\" class=\"data row5 col1\" >None</td>\n",
       "                        <td id=\"T_aff52_row5_col2\" class=\"data row5 col2\" >N</td>\n",
       "                        <td id=\"T_aff52_row5_col3\" class=\"data row5 col3\" >N</td>\n",
       "                        <td id=\"T_aff52_row5_col4\" class=\"data row5 col4\" >6</td>\n",
       "                        <td id=\"T_aff52_row5_col5\" class=\"data row5 col5\" >7</td>\n",
       "                        <td id=\"T_aff52_row5_col6\" class=\"data row5 col6\" >NME</td>\n",
       "                        <td id=\"T_aff52_row5_col7\" class=\"data row5 col7\" >aminoacid</td>\n",
       "                        <td id=\"T_aff52_row5_col8\" class=\"data row5 col8\" >0</td>\n",
       "                        <td id=\"T_aff52_row5_col9\" class=\"data row5 col9\" >0</td>\n",
       "                        <td id=\"T_aff52_row5_col10\" class=\"data row5 col10\" >0</td>\n",
       "                        <td id=\"T_aff52_row5_col11\" class=\"data row5 col11\" >peptide</td>\n",
       "                        <td id=\"T_aff52_row5_col12\" class=\"data row5 col12\" >0</td>\n",
       "                        <td id=\"T_aff52_row5_col13\" class=\"data row5 col13\" >Peptide_0</td>\n",
       "            </tr>\n",
       "    </tbody></table>"
      ],
      "text/plain": [
       "<pandas.io.formats.style.Styler at 0x7f824f1d0190>"
      ]
     },
     "execution_count": 1,
     "metadata": {},
     "output_type": "execute_result"
    }
   ],
   "source": [
    "msm.info(molecular_system, target='atom', selection='@donors_heavy_atom')"
   ]
  },
  {
   "cell_type": "markdown",
   "metadata": {},
   "source": [
    "# Buch"
   ]
  },
  {
   "cell_type": "code",
   "execution_count": 23,
   "metadata": {
    "execution": {
     "iopub.execute_input": "2021-05-05T01:23:17.607382Z",
     "iopub.status.busy": "2021-05-05T01:23:17.606308Z",
     "iopub.status.idle": "2021-05-05T01:23:19.063969Z",
     "shell.execute_reply": "2021-05-05T01:23:19.064972Z"
    }
   },
   "outputs": [],
   "source": [
    "hbonds = msm.hbonds.buch(molecular_system)"
   ]
  },
  {
   "cell_type": "code",
   "execution_count": 24,
   "metadata": {
    "execution": {
     "iopub.execute_input": "2021-05-05T01:23:19.070966Z",
     "iopub.status.busy": "2021-05-05T01:23:19.069874Z",
     "iopub.status.idle": "2021-05-05T01:23:19.090799Z",
     "shell.execute_reply": "2021-05-05T01:23:19.089902Z"
    }
   },
   "outputs": [
    {
     "data": {
      "text/plain": [
       "7"
      ]
     },
     "execution_count": 1,
     "metadata": {},
     "output_type": "execute_result"
    }
   ],
   "source": [
    "len(hbonds)"
   ]
  },
  {
   "cell_type": "code",
   "execution_count": 25,
   "metadata": {
    "execution": {
     "iopub.execute_input": "2021-05-05T01:23:19.096036Z",
     "iopub.status.busy": "2021-05-05T01:23:19.094546Z",
     "iopub.status.idle": "2021-05-05T01:23:19.115563Z",
     "shell.execute_reply": "2021-05-05T01:23:19.114559Z"
    }
   },
   "outputs": [
    {
     "data": {
      "text/plain": [
       "dict_keys([(6, 7, 6), (16, 17, 6), (6, 7, 5), (16, 17, 15), (16, 17, 45), (16, 17, 35), (16, 17, 55)])"
      ]
     },
     "execution_count": 1,
     "metadata": {},
     "output_type": "execute_result"
    }
   ],
   "source": [
    "hbonds.keys()"
   ]
  },
  {
   "cell_type": "code",
   "execution_count": null,
   "metadata": {},
   "outputs": [],
   "source": []
  }
 ],
 "metadata": {
  "kernelspec": {
   "display_name": "Python 3",
   "language": "python",
   "name": "python3"
  },
  "language_info": {
   "codemirror_mode": {
    "name": "ipython",
    "version": 3
   },
   "file_extension": ".py",
   "mimetype": "text/x-python",
   "name": "python",
   "nbconvert_exporter": "python",
   "pygments_lexer": "ipython3",
   "version": "3.7.10"
  },
  "widgets": {
   "application/vnd.jupyter.widget-state+json": {
    "state": {
     "07ce810fcdc749d4b425db7be26637ad": {
      "model_module": "@jupyter-widgets/base",
      "model_module_version": "1.2.0",
      "model_name": "LayoutModel",
      "state": {
       "_model_module": "@jupyter-widgets/base",
       "_model_module_version": "1.2.0",
       "_model_name": "LayoutModel",
       "_view_count": null,
       "_view_module": "@jupyter-widgets/base",
       "_view_module_version": "1.2.0",
       "_view_name": "LayoutView",
       "align_content": null,
       "align_items": null,
       "align_self": null,
       "border": null,
       "bottom": null,
       "display": null,
       "flex": null,
       "flex_flow": null,
       "grid_area": null,
       "grid_auto_columns": null,
       "grid_auto_flow": null,
       "grid_auto_rows": null,
       "grid_column": null,
       "grid_gap": null,
       "grid_row": null,
       "grid_template_areas": null,
       "grid_template_columns": null,
       "grid_template_rows": null,
       "height": null,
       "justify_content": null,
       "justify_items": null,
       "left": null,
       "margin": null,
       "max_height": null,
       "max_width": null,
       "min_height": null,
       "min_width": null,
       "object_fit": null,
       "object_position": null,
       "order": null,
       "overflow": null,
       "overflow_x": null,
       "overflow_y": null,
       "padding": null,
       "right": null,
       "top": null,
       "visibility": null,
       "width": null
      }
     },
     "be3df35069d74ff09a2c922dd55c74c7": {
      "model_module": "nglview-js-widgets",
      "model_module_version": "3.0.1",
      "model_name": "ColormakerRegistryModel",
      "state": {
       "_dom_classes": [],
       "_model_module": "nglview-js-widgets",
       "_model_module_version": "3.0.1",
       "_model_name": "ColormakerRegistryModel",
       "_msg_ar": [],
       "_msg_q": [],
       "_ready": false,
       "_view_count": null,
       "_view_module": "nglview-js-widgets",
       "_view_module_version": "3.0.1",
       "_view_name": "ColormakerRegistryView",
       "layout": "IPY_MODEL_07ce810fcdc749d4b425db7be26637ad"
      }
     }
    },
    "version_major": 2,
    "version_minor": 0
   }
  }
 },
 "nbformat": 4,
 "nbformat_minor": 4
}
