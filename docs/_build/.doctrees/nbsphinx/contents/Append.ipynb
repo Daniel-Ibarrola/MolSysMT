{
 "cells": [
  {
   "cell_type": "code",
   "execution_count": 1,
   "metadata": {},
   "outputs": [],
   "source": [
    "%load_ext autoreload\n",
    "%autoreload 2"
   ]
  },
  {
   "cell_type": "code",
   "execution_count": 2,
   "metadata": {},
   "outputs": [
    {
     "data": {
      "application/vnd.jupyter.widget-view+json": {
       "model_id": "943561b16f774e7ca4f4bcb5fa88d53a",
       "version_major": 2,
       "version_minor": 0
      },
      "text/plain": []
     },
     "metadata": {},
     "output_type": "display_data"
    }
   ],
   "source": [
    "import molsysmt as msm\n",
    "import simtk.unit as unit"
   ]
  },
  {
   "cell_type": "markdown",
   "metadata": {},
   "source": [
    "# Append to a molecular systems"
   ]
  },
  {
   "cell_type": "markdown",
   "metadata": {},
   "source": [
    "The coordinates of atoms from molecular systems are appended to a given system."
   ]
  },
  {
   "cell_type": "code",
   "execution_count": 3,
   "metadata": {},
   "outputs": [],
   "source": [
    "molecular_system_1 = msm.build_peptide('aminoacids3:AceAlaNme')"
   ]
  },
  {
   "cell_type": "code",
   "execution_count": 4,
   "metadata": {},
   "outputs": [],
   "source": [
    "molecular_system_1 = msm.build_peptide('aminoacids3:AceAlaNme')\n",
    "molecular_system_2 = msm.copy(molecular_system_1)\n",
    "molecular_system_3 = msm.copy(molecular_system_1)\n",
    "molecular_system_4 = msm.copy(molecular_system_1)\n",
    "\n",
    "msm.translate(molecular_system_2, translation=[0.1, 0.1, 0.1]*unit.nanometers)\n",
    "msm.translate(molecular_system_3, translation=[0.2, 0.2, 0.2]*unit.nanometers)\n",
    "msm.translate(molecular_system_4, translation=[0.3, 0.3, 0.3]*unit.nanometers)"
   ]
  },
  {
   "cell_type": "code",
   "execution_count": 5,
   "metadata": {},
   "outputs": [
    {
     "data": {
      "text/html": [
       "<style  type=\"text/css\" >\n",
       "</style><table id=\"T_d07169c6_39a8_11eb_9e46_1c1b0d075c26\" ><thead>    <tr>        <th class=\"col_heading level0 col0\" >form</th>        <th class=\"col_heading level0 col1\" >n_atoms</th>        <th class=\"col_heading level0 col2\" >n_groups</th>        <th class=\"col_heading level0 col3\" >n_components</th>        <th class=\"col_heading level0 col4\" >n_chains</th>        <th class=\"col_heading level0 col5\" >n_molecules</th>        <th class=\"col_heading level0 col6\" >n_entities</th>        <th class=\"col_heading level0 col7\" >n_peptides</th>        <th class=\"col_heading level0 col8\" >n_frames</th>    </tr></thead><tbody>\n",
       "                <tr>\n",
       "                                <td id=\"T_d07169c6_39a8_11eb_9e46_1c1b0d075c26row0_col0\" class=\"data row0 col0\" >molsysmt.MolSys</td>\n",
       "                        <td id=\"T_d07169c6_39a8_11eb_9e46_1c1b0d075c26row0_col1\" class=\"data row0 col1\" >22</td>\n",
       "                        <td id=\"T_d07169c6_39a8_11eb_9e46_1c1b0d075c26row0_col2\" class=\"data row0 col2\" >3</td>\n",
       "                        <td id=\"T_d07169c6_39a8_11eb_9e46_1c1b0d075c26row0_col3\" class=\"data row0 col3\" >1</td>\n",
       "                        <td id=\"T_d07169c6_39a8_11eb_9e46_1c1b0d075c26row0_col4\" class=\"data row0 col4\" >1</td>\n",
       "                        <td id=\"T_d07169c6_39a8_11eb_9e46_1c1b0d075c26row0_col5\" class=\"data row0 col5\" >1</td>\n",
       "                        <td id=\"T_d07169c6_39a8_11eb_9e46_1c1b0d075c26row0_col6\" class=\"data row0 col6\" >1</td>\n",
       "                        <td id=\"T_d07169c6_39a8_11eb_9e46_1c1b0d075c26row0_col7\" class=\"data row0 col7\" >1</td>\n",
       "                        <td id=\"T_d07169c6_39a8_11eb_9e46_1c1b0d075c26row0_col8\" class=\"data row0 col8\" >1</td>\n",
       "            </tr>\n",
       "    </tbody></table>"
      ],
      "text/plain": [
       "<pandas.io.formats.style.Styler at 0x7fe4b14794d0>"
      ]
     },
     "execution_count": 5,
     "metadata": {},
     "output_type": "execute_result"
    }
   ],
   "source": [
    "msm.info(molecular_system_1)"
   ]
  },
  {
   "cell_type": "code",
   "execution_count": 8,
   "metadata": {},
   "outputs": [],
   "source": [
    "msm.append(molecular_system_1, [molecular_system_2, molecular_system_3, molecular_system_4])"
   ]
  },
  {
   "cell_type": "code",
   "execution_count": 9,
   "metadata": {},
   "outputs": [
    {
     "data": {
      "text/html": [
       "<style  type=\"text/css\" >\n",
       "</style><table id=\"T_2f52dfa6_39a9_11eb_9e46_1c1b0d075c26\" ><thead>    <tr>        <th class=\"col_heading level0 col0\" >form</th>        <th class=\"col_heading level0 col1\" >n_atoms</th>        <th class=\"col_heading level0 col2\" >n_groups</th>        <th class=\"col_heading level0 col3\" >n_components</th>        <th class=\"col_heading level0 col4\" >n_chains</th>        <th class=\"col_heading level0 col5\" >n_molecules</th>        <th class=\"col_heading level0 col6\" >n_entities</th>        <th class=\"col_heading level0 col7\" >n_peptides</th>        <th class=\"col_heading level0 col8\" >n_frames</th>    </tr></thead><tbody>\n",
       "                <tr>\n",
       "                                <td id=\"T_2f52dfa6_39a9_11eb_9e46_1c1b0d075c26row0_col0\" class=\"data row0 col0\" >molsysmt.MolSys</td>\n",
       "                        <td id=\"T_2f52dfa6_39a9_11eb_9e46_1c1b0d075c26row0_col1\" class=\"data row0 col1\" >22</td>\n",
       "                        <td id=\"T_2f52dfa6_39a9_11eb_9e46_1c1b0d075c26row0_col2\" class=\"data row0 col2\" >3</td>\n",
       "                        <td id=\"T_2f52dfa6_39a9_11eb_9e46_1c1b0d075c26row0_col3\" class=\"data row0 col3\" >1</td>\n",
       "                        <td id=\"T_2f52dfa6_39a9_11eb_9e46_1c1b0d075c26row0_col4\" class=\"data row0 col4\" >1</td>\n",
       "                        <td id=\"T_2f52dfa6_39a9_11eb_9e46_1c1b0d075c26row0_col5\" class=\"data row0 col5\" >1</td>\n",
       "                        <td id=\"T_2f52dfa6_39a9_11eb_9e46_1c1b0d075c26row0_col6\" class=\"data row0 col6\" >1</td>\n",
       "                        <td id=\"T_2f52dfa6_39a9_11eb_9e46_1c1b0d075c26row0_col7\" class=\"data row0 col7\" >1</td>\n",
       "                        <td id=\"T_2f52dfa6_39a9_11eb_9e46_1c1b0d075c26row0_col8\" class=\"data row0 col8\" >4</td>\n",
       "            </tr>\n",
       "    </tbody></table>"
      ],
      "text/plain": [
       "<pandas.io.formats.style.Styler at 0x7fe4b073fd50>"
      ]
     },
     "execution_count": 9,
     "metadata": {},
     "output_type": "execute_result"
    }
   ],
   "source": [
    "msm.info(molecular_system_1)"
   ]
  },
  {
   "cell_type": "code",
   "execution_count": 10,
   "metadata": {},
   "outputs": [
    {
     "data": {
      "application/vnd.jupyter.widget-view+json": {
       "model_id": "69bd975605044494a62a276640db07aa",
       "version_major": 2,
       "version_minor": 0
      },
      "text/plain": [
       "NGLWidget(max_frame=3)"
      ]
     },
     "metadata": {},
     "output_type": "display_data"
    }
   ],
   "source": [
    "msm.view(molecular_system_1)"
   ]
  }
 ],
 "metadata": {
  "kernelspec": {
   "display_name": "Python 3",
   "language": "python",
   "name": "python3"
  },
  "language_info": {
   "codemirror_mode": {
    "name": "ipython",
    "version": 3
   },
   "file_extension": ".py",
   "mimetype": "text/x-python",
   "name": "python",
   "nbconvert_exporter": "python",
   "pygments_lexer": "ipython3",
   "version": "3.7.7"
  }
 },
 "nbformat": 4,
 "nbformat_minor": 4
}
