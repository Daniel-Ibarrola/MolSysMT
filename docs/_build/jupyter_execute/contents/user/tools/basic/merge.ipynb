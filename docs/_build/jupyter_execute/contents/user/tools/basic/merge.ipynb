{
 "cells": [
  {
   "cell_type": "code",
   "execution_count": 1,
   "metadata": {},
   "outputs": [],
   "source": [
    "%load_ext autoreload\n",
    "%autoreload 2"
   ]
  },
  {
   "cell_type": "code",
   "execution_count": 2,
   "metadata": {},
   "outputs": [
    {
     "data": {
      "application/vnd.jupyter.widget-view+json": {
       "model_id": "76390035f66d4477824c629624f1e59b",
       "version_major": 2,
       "version_minor": 0
      },
      "text/plain": []
     },
     "metadata": {},
     "output_type": "display_data"
    }
   ],
   "source": [
    "import molsysmt as msm"
   ]
  },
  {
   "cell_type": "markdown",
   "metadata": {},
   "source": [
    "# Merge"
   ]
  },
  {
   "cell_type": "markdown",
   "metadata": {},
   "source": [
    "## Merging molecular systems"
   ]
  },
  {
   "cell_type": "markdown",
   "metadata": {},
   "source": [
    "A list of molecular systems are merged in to a new molecular system:"
   ]
  },
  {
   "cell_type": "code",
   "execution_count": 3,
   "metadata": {},
   "outputs": [],
   "source": [
    "molsys_A = msm.build.build_peptide('AceProNme')\n",
    "molsys_B = msm.build.build_peptide('AceValNme')\n",
    "molsys_C = msm.build.build_peptide('AceLysNme')"
   ]
  },
  {
   "cell_type": "code",
   "execution_count": 4,
   "metadata": {},
   "outputs": [],
   "source": [
    "molsys_B = msm.structure.translate(molsys_B, translation='[-1.0, 0.0, 0.0] nanometers')\n",
    "molsys_C = msm.structure.translate(molsys_C, translation='[1.0, 0.0, 0.0] nanometers')"
   ]
  },
  {
   "cell_type": "code",
   "execution_count": 5,
   "metadata": {},
   "outputs": [],
   "source": [
    "molsys_D = msm.merge([molsys_A, molsys_B, molsys_C])"
   ]
  },
  {
   "cell_type": "code",
   "execution_count": 6,
   "metadata": {},
   "outputs": [
    {
     "data": {
      "text/html": [
       "<style type=\"text/css\">\n",
       "</style>\n",
       "<table id=\"T_6139d_\">\n",
       "  <thead>\n",
       "    <tr>\n",
       "      <th class=\"col_heading level0 col0\" >form</th>\n",
       "      <th class=\"col_heading level0 col1\" >n_atoms</th>\n",
       "      <th class=\"col_heading level0 col2\" >n_groups</th>\n",
       "      <th class=\"col_heading level0 col3\" >n_components</th>\n",
       "      <th class=\"col_heading level0 col4\" >n_chains</th>\n",
       "      <th class=\"col_heading level0 col5\" >n_molecules</th>\n",
       "      <th class=\"col_heading level0 col6\" >n_entities</th>\n",
       "      <th class=\"col_heading level0 col7\" >n_peptides</th>\n",
       "      <th class=\"col_heading level0 col8\" >n_structures</th>\n",
       "    </tr>\n",
       "  </thead>\n",
       "  <tbody>\n",
       "    <tr>\n",
       "      <td id=\"T_6139d_row0_col0\" class=\"data row0 col0\" >molsysmt.MolSys</td>\n",
       "      <td id=\"T_6139d_row0_col1\" class=\"data row0 col1\" >88</td>\n",
       "      <td id=\"T_6139d_row0_col2\" class=\"data row0 col2\" >9</td>\n",
       "      <td id=\"T_6139d_row0_col3\" class=\"data row0 col3\" >3</td>\n",
       "      <td id=\"T_6139d_row0_col4\" class=\"data row0 col4\" >3</td>\n",
       "      <td id=\"T_6139d_row0_col5\" class=\"data row0 col5\" >3</td>\n",
       "      <td id=\"T_6139d_row0_col6\" class=\"data row0 col6\" >3</td>\n",
       "      <td id=\"T_6139d_row0_col7\" class=\"data row0 col7\" >3</td>\n",
       "      <td id=\"T_6139d_row0_col8\" class=\"data row0 col8\" >1</td>\n",
       "    </tr>\n",
       "  </tbody>\n",
       "</table>\n"
      ],
      "text/plain": [
       "<pandas.io.formats.style.Styler at 0x7f2369497610>"
      ]
     },
     "execution_count": 6,
     "metadata": {},
     "output_type": "execute_result"
    }
   ],
   "source": [
    "msm.info(molsys_D)"
   ]
  },
  {
   "cell_type": "code",
   "execution_count": 7,
   "metadata": {},
   "outputs": [
    {
     "data": {
      "application/vnd.jupyter.widget-view+json": {
       "model_id": "43f2b796195e424ebad5064a9b871c29",
       "version_major": 2,
       "version_minor": 0
      },
      "text/plain": [
       "NGLWidget()"
      ]
     },
     "metadata": {},
     "output_type": "display_data"
    }
   ],
   "source": [
    "msm.view(molsys_D, standardize=True)"
   ]
  },
  {
   "cell_type": "markdown",
   "metadata": {},
   "source": [
    "**Implementar o Checar**: Que pasa si quiero por ejemplo hacer merge de varios sistemas moleculares descritos por varios items? Por ejemplo:\n",
    "\n",
    "msm.merge([[a.prmtop, a.inpcrd], [b.prmtop, b.inpcrd], [c.prmtop, c.inpcrd]])\n",
    "\n",
    "o \n",
    "\n",
    "msm.merge([[a.msm.topology, a.msm.trajectory], [b.msm.topology, b.msm.trajectory], [c.msm.topology, c.msm.trajectory]])"
   ]
  },
  {
   "cell_type": "code",
   "execution_count": null,
   "metadata": {},
   "outputs": [],
   "source": []
  },
  {
   "cell_type": "code",
   "execution_count": null,
   "metadata": {},
   "outputs": [],
   "source": []
  }
 ],
 "metadata": {
  "kernelspec": {
   "display_name": "Python 3 (ipykernel)",
   "language": "python",
   "name": "python3"
  },
  "language_info": {
   "codemirror_mode": {
    "name": "ipython",
    "version": 3
   },
   "file_extension": ".py",
   "mimetype": "text/x-python",
   "name": "python",
   "nbconvert_exporter": "python",
   "pygments_lexer": "ipython3",
   "version": "3.7.12"
  },
  "widgets": {
   "application/vnd.jupyter.widget-state+json": {
    "state": {
     "10ccc9aca03d47dea127a515f9e56abe": {
      "model_module": "@jupyter-widgets/controls",
      "model_module_version": "1.5.0",
      "model_name": "LinkModel",
      "state": {
       "_model_module": "@jupyter-widgets/controls",
       "_model_module_version": "1.5.0",
       "_model_name": "LinkModel",
       "_view_count": null,
       "_view_module": "@jupyter-widgets/controls",
       "_view_module_version": "1.5.0",
       "_view_name": null,
       "source": [
        "IPY_MODEL_a07ebb309e394d2b9a13c547fac2ed2a",
        "value"
       ],
       "target": [
        "IPY_MODEL_43f2b796195e424ebad5064a9b871c29",
        "frame"
       ]
      }
     },
     "1162146d202541b1a5767ff302151707": {
      "model_module": "@jupyter-widgets/controls",
      "model_module_version": "1.5.0",
      "model_name": "ButtonModel",
      "state": {
       "_dom_classes": [],
       "_model_module": "@jupyter-widgets/controls",
       "_model_module_version": "1.5.0",
       "_model_name": "ButtonModel",
       "_view_count": null,
       "_view_module": "@jupyter-widgets/controls",
       "_view_module_version": "1.5.0",
       "_view_name": "ButtonView",
       "button_style": "",
       "description": "",
       "disabled": false,
       "icon": "compress",
       "layout": "IPY_MODEL_a7f96d01952c4b9e9ba82149f4134396",
       "style": "IPY_MODEL_b3a39f15c6ba424bb88831887a613436",
       "tooltip": ""
      }
     },
     "1467a0095a7549f98d3bc630838ac0a7": {
      "model_module": "@jupyter-widgets/base",
      "model_module_version": "1.2.0",
      "model_name": "LayoutModel",
      "state": {
       "_model_module": "@jupyter-widgets/base",
       "_model_module_version": "1.2.0",
       "_model_name": "LayoutModel",
       "_view_count": null,
       "_view_module": "@jupyter-widgets/base",
       "_view_module_version": "1.2.0",
       "_view_name": "LayoutView",
       "align_content": null,
       "align_items": null,
       "align_self": null,
       "border": null,
       "bottom": null,
       "display": null,
       "flex": null,
       "flex_flow": null,
       "grid_area": null,
       "grid_auto_columns": null,
       "grid_auto_flow": null,
       "grid_auto_rows": null,
       "grid_column": null,
       "grid_gap": null,
       "grid_row": null,
       "grid_template_areas": null,
       "grid_template_columns": null,
       "grid_template_rows": null,
       "height": null,
       "justify_content": null,
       "justify_items": null,
       "left": null,
       "margin": null,
       "max_height": null,
       "max_width": null,
       "min_height": null,
       "min_width": null,
       "object_fit": null,
       "object_position": null,
       "order": null,
       "overflow": null,
       "overflow_x": null,
       "overflow_y": null,
       "padding": null,
       "right": null,
       "top": null,
       "visibility": null,
       "width": null
      }
     },
     "1698a165115c4c7fa94e0ee1c8001fa4": {
      "model_module": "@jupyter-widgets/controls",
      "model_module_version": "1.5.0",
      "model_name": "SliderStyleModel",
      "state": {
       "_model_module": "@jupyter-widgets/controls",
       "_model_module_version": "1.5.0",
       "_model_name": "SliderStyleModel",
       "_view_count": null,
       "_view_module": "@jupyter-widgets/base",
       "_view_module_version": "1.2.0",
       "_view_name": "StyleView",
       "description_width": "",
       "handle_color": null
      }
     },
     "263240c15949407bbbe208fd436e7f7a": {
      "model_module": "@jupyter-widgets/controls",
      "model_module_version": "1.5.0",
      "model_name": "IntSliderModel",
      "state": {
       "_dom_classes": [],
       "_model_module": "@jupyter-widgets/controls",
       "_model_module_version": "1.5.0",
       "_model_name": "IntSliderModel",
       "_view_count": null,
       "_view_module": "@jupyter-widgets/controls",
       "_view_module_version": "1.5.0",
       "_view_name": "IntSliderView",
       "continuous_update": true,
       "description": "",
       "description_tooltip": null,
       "disabled": false,
       "layout": "IPY_MODEL_429e5b4c06fe4573bfd35879f34b1555",
       "max": 0,
       "min": 0,
       "orientation": "horizontal",
       "readout": true,
       "readout_format": "d",
       "step": 1,
       "style": "IPY_MODEL_1698a165115c4c7fa94e0ee1c8001fa4",
       "value": 0
      }
     },
     "429e5b4c06fe4573bfd35879f34b1555": {
      "model_module": "@jupyter-widgets/base",
      "model_module_version": "1.2.0",
      "model_name": "LayoutModel",
      "state": {
       "_model_module": "@jupyter-widgets/base",
       "_model_module_version": "1.2.0",
       "_model_name": "LayoutModel",
       "_view_count": null,
       "_view_module": "@jupyter-widgets/base",
       "_view_module_version": "1.2.0",
       "_view_name": "LayoutView",
       "align_content": null,
       "align_items": null,
       "align_self": null,
       "border": null,
       "bottom": null,
       "display": null,
       "flex": null,
       "flex_flow": null,
       "grid_area": null,
       "grid_auto_columns": null,
       "grid_auto_flow": null,
       "grid_auto_rows": null,
       "grid_column": null,
       "grid_gap": null,
       "grid_row": null,
       "grid_template_areas": null,
       "grid_template_columns": null,
       "grid_template_rows": null,
       "height": null,
       "justify_content": null,
       "justify_items": null,
       "left": null,
       "margin": null,
       "max_height": null,
       "max_width": null,
       "min_height": null,
       "min_width": null,
       "object_fit": null,
       "object_position": null,
       "order": null,
       "overflow": null,
       "overflow_x": null,
       "overflow_y": null,
       "padding": null,
       "right": null,
       "top": null,
       "visibility": null,
       "width": null
      }
     },
     "43f2b796195e424ebad5064a9b871c29": {
      "model_module": "nglview-js-widgets",
      "model_module_version": "3.0.1",
      "model_name": "NGLModel",
      "state": {
       "_camera_orientation": [],
       "_camera_str": "orthographic",
       "_dom_classes": [],
       "_gui_theme": null,
       "_ibtn_fullscreen": "IPY_MODEL_1162146d202541b1a5767ff302151707",
       "_igui": null,
       "_iplayer": "IPY_MODEL_ef67570debc64b8397ddae73143b079c",
       "_model_module": "nglview-js-widgets",
       "_model_module_version": "3.0.1",
       "_model_name": "NGLModel",
       "_ngl_color_dict": {},
       "_ngl_coordinate_resource": {},
       "_ngl_full_stage_parameters": {},
       "_ngl_msg_archive": [
        {
         "args": [
          {
           "binary": false,
           "data": "REMARK   1 CREATED WITH OPENMM 7.7 BY MOLSYSMT 0.6.0b1+0.g24f9361e.dirty, 2022-06-19\nHETATM    1  H1  ACE 1   1       2.000   1.000  -0.000  1.00  0.00           H  \nHETATM    2  CH3 ACE 1   1       2.000   2.090   0.000  1.00  0.00           C  \nHETATM    3  H2  ACE 1   1       1.486   2.454   0.890  1.00  0.00           H  \nHETATM    4  H3  ACE 1   1       1.486   2.454  -0.890  1.00  0.00           H  \nHETATM    5  C   ACE 1   1       3.427   2.641  -0.000  1.00  0.00           C  \nHETATM    6  O   ACE 1   1       4.391   1.877  -0.000  1.00  0.00           O  \nATOM      7  N   PRO 1   2       3.555   3.970  -0.000  1.00  0.00           N  \nATOM      8  CD  PRO 1   2       2.397   4.855  -0.000  1.00  0.00           C  \nATOM      9  HD2 PRO 1   2       2.009   4.946   1.014  1.00  0.00           H  \nATOM     10  HD3 PRO 1   2       1.624   4.443  -0.649  1.00  0.00           H  \nATOM     11  CG  PRO 1   2       2.953   6.147  -0.522  1.00  0.00           C  \nATOM     12  HG2 PRO 1   2       2.493   6.975   0.016  1.00  0.00           H  \nATOM     13  HG3 PRO 1   2       2.739   6.242  -1.586  1.00  0.00           H  \nATOM     14  CB  PRO 1   2       4.442   6.089  -0.276  1.00  0.00           C  \nATOM     15  HB2 PRO 1   2       4.688   6.710   0.586  1.00  0.00           H  \nATOM     16  HB3 PRO 1   2       4.966   6.463  -1.155  1.00  0.00           H  \nATOM     17  CA  PRO 1   2       4.855   4.615  -0.000  1.00  0.00           C  \nATOM     18  HA  PRO 1   2       5.432   4.348  -0.886  1.00  0.00           H  \nATOM     19  C   PRO 1   2       5.646   4.251   1.248  1.00  0.00           C  \nATOM     20  O   PRO 1   2       5.191   3.451   2.064  1.00  0.00           O  \nHETATM   21  N   NME 1   3       6.834   4.841   1.396  1.00  0.00           N  \nHETATM   22  H   NME 1   3       7.165   5.491   0.698  1.00  0.00           H  \nHETATM   23  C   NME 1   3       7.683   4.578   2.541  1.00  0.00           C  \nHETATM   24  H1  NME 1   3       7.192   3.861   3.200  1.00  0.00           H  \nHETATM   25  H2  NME 1   3       8.634   4.168   2.203  1.00  0.00           H  \nHETATM   26  H3  NME 1   3       7.860   5.507   3.084  1.00  0.00           H  \nTER      27      NME 1   3\nHETATM   28  H1  ACE 1   1      -8.000   1.000  -0.000  1.00  0.00           H  \nHETATM   29  CH3 ACE 1   1      -8.000   2.090   0.000  1.00  0.00           C  \nHETATM   30  H2  ACE 1   1      -8.514   2.454   0.890  1.00  0.00           H  \nHETATM   31  H3  ACE 1   1      -8.514   2.454  -0.890  1.00  0.00           H  \nHETATM   32  C   ACE 1   1      -6.573   2.641  -0.000  1.00  0.00           C  \nHETATM   33  O   ACE 1   1      -5.609   1.877  -0.000  1.00  0.00           O  \nATOM     34  N   VAL 1   2      -6.445   3.970  -0.000  1.00  0.00           N  \nATOM     35  H   VAL 1   2      -7.267   4.556  -0.000  1.00  0.00           H  \nATOM     36  CA  VAL 1   2      -5.147   4.614  -0.000  1.00  0.00           C  \nATOM     37  HA  VAL 1   2      -4.592   4.316   0.890  1.00  0.00           H  \nATOM     38  CB  VAL 1   2      -4.339   4.221  -1.232  1.00  0.00           C  \nATOM     39  HB  VAL 1   2      -4.191   3.141  -1.241  1.00  0.00           H  \nATOM     40  CG1 VAL 1   2      -5.092   4.642  -2.490  1.00  0.00           C  \nATOM     41 HG11 VAL 1   2      -5.239   5.722  -2.481  1.00  0.00           H  \nATOM     42 HG12 VAL 1   2      -4.515   4.361  -3.371  1.00  0.00           H  \nATOM     43 HG13 VAL 1   2      -6.061   4.144  -2.517  1.00  0.00           H  \nATOM     44  CG2 VAL 1   2      -2.983   4.918  -1.195  1.00  0.00           C  \nATOM     45 HG21 VAL 1   2      -2.444   4.618  -0.296  1.00  0.00           H  \nATOM     46 HG22 VAL 1   2      -2.405   4.637  -2.075  1.00  0.00           H  \nATOM     47 HG23 VAL 1   2      -3.129   5.998  -1.186  1.00  0.00           H  \nATOM     48  C   VAL 1   2      -5.287   6.129   0.000  1.00  0.00           C  \nATOM     49  O   VAL 1   2      -6.399   6.653   0.000  1.00  0.00           O  \nHETATM   50  N   NME 1   3      -4.154   6.835   0.000  1.00  0.00           N  \nHETATM   51  H   NME 1   3      -3.263   6.359  -0.000  1.00  0.00           H  \nHETATM   52  C   NME 1   3      -4.154   8.284   0.000  1.00  0.00           C  \nHETATM   53  H1  NME 1   3      -5.181   8.648   0.000  1.00  0.00           H  \nHETATM   54  H2  NME 1   3      -3.640   8.648   0.890  1.00  0.00           H  \nHETATM   55  H3  NME 1   3      -3.640   8.648  -0.890  1.00  0.00           H  \nTER      56      NME 1   3\nHETATM   57  H1  ACE 1   1      12.000   1.000  -0.000  1.00  0.00           H  \nHETATM   58  CH3 ACE 1   1      12.000   2.090   0.000  1.00  0.00           C  \nHETATM   59  H2  ACE 1   1      11.486   2.454   0.890  1.00  0.00           H  \nHETATM   60  H3  ACE 1   1      11.486   2.454  -0.890  1.00  0.00           H  \nHETATM   61  C   ACE 1   1      13.427   2.641  -0.000  1.00  0.00           C  \nHETATM   62  O   ACE 1   1      14.391   1.877  -0.000  1.00  0.00           O  \nATOM     63  N   LYS 1   2      13.555   3.970  -0.000  1.00  0.00           N  \nATOM     64  H   LYS 1   2      12.733   4.556  -0.000  1.00  0.00           H  \nATOM     65  CA  LYS 1   2      14.853   4.614  -0.000  1.00  0.00           C  \nATOM     66  HA  LYS 1   2      15.408   4.316   0.890  1.00  0.00           H  \nATOM     67  CB  LYS 1   2      15.661   4.221  -1.232  1.00  0.00           C  \nATOM     68  HB2 LYS 1   2      15.809   3.141  -1.241  1.00  0.00           H  \nATOM     69  HB3 LYS 1   2      15.123   4.521  -2.131  1.00  0.00           H  \nATOM     70  CG  LYS 1   2      17.017   4.918  -1.195  1.00  0.00           C  \nATOM     71  HG2 LYS 1   2      16.871   5.998  -1.186  1.00  0.00           H  \nATOM     72  HG3 LYS 1   2      17.556   4.618  -0.296  1.00  0.00           H  \nATOM     73  CD  LYS 1   2      17.825   4.525  -2.427  1.00  0.00           C  \nATOM     74  HD2 LYS 1   2      17.972   3.445  -2.436  1.00  0.00           H  \nATOM     75  HD3 LYS 1   2      17.287   4.826  -3.326  1.00  0.00           H  \nATOM     76  CE  LYS 1   2      19.181   5.222  -2.389  1.00  0.00           C  \nATOM     77  HE2 LYS 1   2      19.034   6.302  -2.380  1.00  0.00           H  \nATOM     78  HE3 LYS 1   2      19.720   4.922  -1.491  1.00  0.00           H  \nATOM     79  NZ  LYS 1   2      19.960   4.843  -3.577  1.00  0.00           N  \nATOM     80  HZ1 LYS 1   2      19.461   5.122  -4.410  1.00  0.00           H  \nATOM     81  HZ2 LYS 1   2      20.858   5.305  -3.552  1.00  0.00           H  \nATOM     82  HZ3 LYS 1   2      20.096   3.843  -3.585  1.00  0.00           H  \nATOM     83  C   LYS 1   2      14.713   6.129   0.000  1.00  0.00           C  \nATOM     84  O   LYS 1   2      13.601   6.653   0.000  1.00  0.00           O  \nHETATM   85  N   NME 1   3      15.846   6.835   0.000  1.00  0.00           N  \nHETATM   86  H   NME 1   3      16.737   6.359  -0.000  1.00  0.00           H  \nHETATM   87  C   NME 1   3      15.846   8.284   0.000  1.00  0.00           C  \nHETATM   88  H1  NME 1   3      14.819   8.648   0.000  1.00  0.00           H  \nHETATM   89  H2  NME 1   3      16.360   8.648   0.890  1.00  0.00           H  \nHETATM   90  H3  NME 1   3      16.360   8.648  -0.890  1.00  0.00           H  \nTER      91      NME 1   3\nCONECT    1    2\nCONECT    2    3    4    1    5\nCONECT    3    2\nCONECT    4    2\nCONECT    5    6    7    2\nCONECT    6    5\nCONECT    7    5\nCONECT   19   21\nCONECT   21   22   19   23\nCONECT   22   21\nCONECT   23   24   25   26   21\nCONECT   24   23\nCONECT   25   23\nCONECT   26   23\nCONECT   28   29\nCONECT   29   30   31   28   32\nCONECT   30   29\nCONECT   31   29\nCONECT   32   33   34   29\nCONECT   33   32\nCONECT   34   32\nCONECT   48   50\nCONECT   50   51   48   52\nCONECT   51   50\nCONECT   52   53   54   55   50\nCONECT   53   52\nCONECT   54   52\nCONECT   55   52\nCONECT   57   58\nCONECT   58   59   60   57   61\nCONECT   59   58\nCONECT   60   58\nCONECT   61   62   63   58\nCONECT   62   61\nCONECT   63   61\nCONECT   83   85\nCONECT   85   86   83   87\nCONECT   86   85\nCONECT   87   88   89   90   85\nCONECT   88   87\nCONECT   89   87\nCONECT   90   87\nEND\n",
           "type": "blob"
          }
         ],
         "kwargs": {
          "defaultRepresentation": true,
          "ext": "pdb",
          "name": "nglview.adaptor.MolSysMTTrajectory"
         },
         "methodName": "loadFile",
         "reconstruc_color_scheme": false,
         "target": "Stage",
         "type": "call_method"
        },
        {
         "args": [],
         "component_index": 0,
         "kwargs": {},
         "methodName": "removeAllRepresentations",
         "reconstruc_color_scheme": false,
         "target": "compList",
         "type": "call_method"
        },
        {
         "args": [
          "cartoon"
         ],
         "component_index": 0,
         "kwargs": {
          "sele": "@"
         },
         "methodName": "addRepresentation",
         "reconstruc_color_scheme": false,
         "target": "compList",
         "type": "call_method"
        },
        {
         "args": [
          "cartoon"
         ],
         "component_index": 0,
         "kwargs": {
          "sele": "@"
         },
         "methodName": "addRepresentation",
         "reconstruc_color_scheme": false,
         "target": "compList",
         "type": "call_method"
        },
        {
         "args": [
          "licorice"
         ],
         "component_index": 0,
         "kwargs": {
          "radius": 0.4,
          "sele": "@"
         },
         "methodName": "addRepresentation",
         "reconstruc_color_scheme": false,
         "target": "compList",
         "type": "call_method"
        },
        {
         "args": [
          "licorice"
         ],
         "component_index": 0,
         "kwargs": {
          "radius": 0.4,
          "sele": "@0,1,2,3,4,5,6,7,8,9,10,11,12,13,14,15,16,17,18,19,20,21,22,23,24,25,26,27,28,29,30,31,32,33,34,35,36,37,38,39,40,41,42,43,44,45,46,47,48,49,50,51,52,53,54,55,56,57,58,59,60,61,62,63,64,65,66,67,68,69,70,71,72,73,74,75,76,77,78,79,80,81,82,83,84,85,86,87"
         },
         "methodName": "addRepresentation",
         "reconstruc_color_scheme": false,
         "target": "compList",
         "type": "call_method"
        },
        {
         "args": [
          "ball+stick"
         ],
         "component_index": 0,
         "kwargs": {
          "sele": "@"
         },
         "methodName": "addRepresentation",
         "reconstruc_color_scheme": false,
         "target": "compList",
         "type": "call_method"
        },
        {
         "args": [
          "licorice"
         ],
         "component_index": 0,
         "kwargs": {
          "sele": "@"
         },
         "methodName": "addRepresentation",
         "reconstruc_color_scheme": false,
         "target": "compList",
         "type": "call_method"
        }
       ],
       "_ngl_original_stage_parameters": {},
       "_ngl_repr_dict": {},
       "_ngl_serialize": false,
       "_ngl_version": "",
       "_ngl_view_id": [],
       "_player_dict": {},
       "_scene_position": {},
       "_scene_rotation": {},
       "_synced_model_ids": [],
       "_synced_repr_model_ids": [],
       "_view_count": null,
       "_view_height": "",
       "_view_module": "nglview-js-widgets",
       "_view_module_version": "3.0.1",
       "_view_name": "NGLView",
       "_view_width": "",
       "background": "white",
       "frame": 0,
       "gui_style": null,
       "layout": "IPY_MODEL_b144e6c085184970af9eddb5b37262f1",
       "max_frame": 0,
       "n_components": 0,
       "picked": {}
      }
     },
     "61cfd974720044aaacde3e02210a48ad": {
      "model_module": "@jupyter-widgets/controls",
      "model_module_version": "1.5.0",
      "model_name": "LinkModel",
      "state": {
       "_model_module": "@jupyter-widgets/controls",
       "_model_module_version": "1.5.0",
       "_model_name": "LinkModel",
       "_view_count": null,
       "_view_module": "@jupyter-widgets/controls",
       "_view_module_version": "1.5.0",
       "_view_name": null,
       "source": [
        "IPY_MODEL_263240c15949407bbbe208fd436e7f7a",
        "max"
       ],
       "target": [
        "IPY_MODEL_43f2b796195e424ebad5064a9b871c29",
        "max_frame"
       ]
      }
     },
     "6c6d2f4d389e4f6b8cf5496b10c29ad9": {
      "model_module": "@jupyter-widgets/controls",
      "model_module_version": "1.5.0",
      "model_name": "LinkModel",
      "state": {
       "_model_module": "@jupyter-widgets/controls",
       "_model_module_version": "1.5.0",
       "_model_name": "LinkModel",
       "_view_count": null,
       "_view_module": "@jupyter-widgets/controls",
       "_view_module_version": "1.5.0",
       "_view_name": null,
       "source": [
        "IPY_MODEL_a07ebb309e394d2b9a13c547fac2ed2a",
        "max"
       ],
       "target": [
        "IPY_MODEL_43f2b796195e424ebad5064a9b871c29",
        "max_frame"
       ]
      }
     },
     "76390035f66d4477824c629624f1e59b": {
      "model_module": "nglview-js-widgets",
      "model_module_version": "3.0.1",
      "model_name": "ColormakerRegistryModel",
      "state": {
       "_dom_classes": [],
       "_model_module": "nglview-js-widgets",
       "_model_module_version": "3.0.1",
       "_model_name": "ColormakerRegistryModel",
       "_msg_ar": [],
       "_msg_q": [],
       "_ready": false,
       "_view_count": null,
       "_view_module": "nglview-js-widgets",
       "_view_module_version": "3.0.1",
       "_view_name": "ColormakerRegistryView",
       "layout": "IPY_MODEL_fb6e8f2985964745a2d5fe9dcd1d5510"
      }
     },
     "a07ebb309e394d2b9a13c547fac2ed2a": {
      "model_module": "@jupyter-widgets/controls",
      "model_module_version": "1.5.0",
      "model_name": "PlayModel",
      "state": {
       "_dom_classes": [],
       "_model_module": "@jupyter-widgets/controls",
       "_model_module_version": "1.5.0",
       "_model_name": "PlayModel",
       "_playing": false,
       "_repeat": false,
       "_view_count": null,
       "_view_module": "@jupyter-widgets/controls",
       "_view_module_version": "1.5.0",
       "_view_name": "PlayView",
       "description": "",
       "description_tooltip": null,
       "disabled": false,
       "interval": 100,
       "layout": "IPY_MODEL_b6dded817185499b825fbb649874e3af",
       "max": 0,
       "min": 0,
       "show_repeat": true,
       "step": 1,
       "style": "IPY_MODEL_d9075e378ecd4edca721b0a640200896",
       "value": 0
      }
     },
     "a7f96d01952c4b9e9ba82149f4134396": {
      "model_module": "@jupyter-widgets/base",
      "model_module_version": "1.2.0",
      "model_name": "LayoutModel",
      "state": {
       "_model_module": "@jupyter-widgets/base",
       "_model_module_version": "1.2.0",
       "_model_name": "LayoutModel",
       "_view_count": null,
       "_view_module": "@jupyter-widgets/base",
       "_view_module_version": "1.2.0",
       "_view_name": "LayoutView",
       "align_content": null,
       "align_items": null,
       "align_self": null,
       "border": null,
       "bottom": null,
       "display": null,
       "flex": null,
       "flex_flow": null,
       "grid_area": null,
       "grid_auto_columns": null,
       "grid_auto_flow": null,
       "grid_auto_rows": null,
       "grid_column": null,
       "grid_gap": null,
       "grid_row": null,
       "grid_template_areas": null,
       "grid_template_columns": null,
       "grid_template_rows": null,
       "height": null,
       "justify_content": null,
       "justify_items": null,
       "left": null,
       "margin": null,
       "max_height": null,
       "max_width": null,
       "min_height": null,
       "min_width": null,
       "object_fit": null,
       "object_position": null,
       "order": null,
       "overflow": null,
       "overflow_x": null,
       "overflow_y": null,
       "padding": null,
       "right": null,
       "top": null,
       "visibility": null,
       "width": "34px"
      }
     },
     "b144e6c085184970af9eddb5b37262f1": {
      "model_module": "@jupyter-widgets/base",
      "model_module_version": "1.2.0",
      "model_name": "LayoutModel",
      "state": {
       "_model_module": "@jupyter-widgets/base",
       "_model_module_version": "1.2.0",
       "_model_name": "LayoutModel",
       "_view_count": null,
       "_view_module": "@jupyter-widgets/base",
       "_view_module_version": "1.2.0",
       "_view_name": "LayoutView",
       "align_content": null,
       "align_items": null,
       "align_self": null,
       "border": null,
       "bottom": null,
       "display": null,
       "flex": null,
       "flex_flow": null,
       "grid_area": null,
       "grid_auto_columns": null,
       "grid_auto_flow": null,
       "grid_auto_rows": null,
       "grid_column": null,
       "grid_gap": null,
       "grid_row": null,
       "grid_template_areas": null,
       "grid_template_columns": null,
       "grid_template_rows": null,
       "height": null,
       "justify_content": null,
       "justify_items": null,
       "left": null,
       "margin": null,
       "max_height": null,
       "max_width": null,
       "min_height": null,
       "min_width": null,
       "object_fit": null,
       "object_position": null,
       "order": null,
       "overflow": null,
       "overflow_x": null,
       "overflow_y": null,
       "padding": null,
       "right": null,
       "top": null,
       "visibility": null,
       "width": null
      }
     },
     "b3a39f15c6ba424bb88831887a613436": {
      "model_module": "@jupyter-widgets/controls",
      "model_module_version": "1.5.0",
      "model_name": "ButtonStyleModel",
      "state": {
       "_model_module": "@jupyter-widgets/controls",
       "_model_module_version": "1.5.0",
       "_model_name": "ButtonStyleModel",
       "_view_count": null,
       "_view_module": "@jupyter-widgets/base",
       "_view_module_version": "1.2.0",
       "_view_name": "StyleView",
       "button_color": null,
       "font_weight": ""
      }
     },
     "b6dded817185499b825fbb649874e3af": {
      "model_module": "@jupyter-widgets/base",
      "model_module_version": "1.2.0",
      "model_name": "LayoutModel",
      "state": {
       "_model_module": "@jupyter-widgets/base",
       "_model_module_version": "1.2.0",
       "_model_name": "LayoutModel",
       "_view_count": null,
       "_view_module": "@jupyter-widgets/base",
       "_view_module_version": "1.2.0",
       "_view_name": "LayoutView",
       "align_content": null,
       "align_items": null,
       "align_self": null,
       "border": null,
       "bottom": null,
       "display": null,
       "flex": null,
       "flex_flow": null,
       "grid_area": null,
       "grid_auto_columns": null,
       "grid_auto_flow": null,
       "grid_auto_rows": null,
       "grid_column": null,
       "grid_gap": null,
       "grid_row": null,
       "grid_template_areas": null,
       "grid_template_columns": null,
       "grid_template_rows": null,
       "height": null,
       "justify_content": null,
       "justify_items": null,
       "left": null,
       "margin": null,
       "max_height": null,
       "max_width": null,
       "min_height": null,
       "min_width": null,
       "object_fit": null,
       "object_position": null,
       "order": null,
       "overflow": null,
       "overflow_x": null,
       "overflow_y": null,
       "padding": null,
       "right": null,
       "top": null,
       "visibility": null,
       "width": null
      }
     },
     "be2bbfc0cc2e48869566278bdb44446f": {
      "model_module": "@jupyter-widgets/controls",
      "model_module_version": "1.5.0",
      "model_name": "LinkModel",
      "state": {
       "_model_module": "@jupyter-widgets/controls",
       "_model_module_version": "1.5.0",
       "_model_name": "LinkModel",
       "_view_count": null,
       "_view_module": "@jupyter-widgets/controls",
       "_view_module_version": "1.5.0",
       "_view_name": null,
       "source": [
        "IPY_MODEL_a07ebb309e394d2b9a13c547fac2ed2a",
        "value"
       ],
       "target": [
        "IPY_MODEL_263240c15949407bbbe208fd436e7f7a",
        "value"
       ]
      }
     },
     "c2146d153cf24f0ba25873c76ab8bc13": {
      "buffers": [
       {
        "data": "",
        "encoding": "base64",
        "path": [
         "value"
        ]
       }
      ],
      "model_module": "@jupyter-widgets/controls",
      "model_module_version": "1.5.0",
      "model_name": "ImageModel",
      "state": {
       "_dom_classes": [],
       "_model_module": "@jupyter-widgets/controls",
       "_model_module_version": "1.5.0",
       "_model_name": "ImageModel",
       "_view_count": null,
       "_view_module": "@jupyter-widgets/controls",
       "_view_module_version": "1.5.0",
       "_view_name": "ImageView",
       "format": "png",
       "height": "",
       "layout": "IPY_MODEL_1467a0095a7549f98d3bc630838ac0a7",
       "width": "900.0"
      }
     },
     "cee629c96b7943f8804b0d129d3710d6": {
      "model_module": "@jupyter-widgets/base",
      "model_module_version": "1.2.0",
      "model_name": "LayoutModel",
      "state": {
       "_model_module": "@jupyter-widgets/base",
       "_model_module_version": "1.2.0",
       "_model_name": "LayoutModel",
       "_view_count": null,
       "_view_module": "@jupyter-widgets/base",
       "_view_module_version": "1.2.0",
       "_view_name": "LayoutView",
       "align_content": null,
       "align_items": null,
       "align_self": null,
       "border": null,
       "bottom": null,
       "display": null,
       "flex": null,
       "flex_flow": null,
       "grid_area": null,
       "grid_auto_columns": null,
       "grid_auto_flow": null,
       "grid_auto_rows": null,
       "grid_column": null,
       "grid_gap": null,
       "grid_row": null,
       "grid_template_areas": null,
       "grid_template_columns": null,
       "grid_template_rows": null,
       "height": null,
       "justify_content": null,
       "justify_items": null,
       "left": null,
       "margin": null,
       "max_height": null,
       "max_width": null,
       "min_height": null,
       "min_width": null,
       "object_fit": null,
       "object_position": null,
       "order": null,
       "overflow": null,
       "overflow_x": null,
       "overflow_y": null,
       "padding": null,
       "right": null,
       "top": null,
       "visibility": null,
       "width": null
      }
     },
     "d9075e378ecd4edca721b0a640200896": {
      "model_module": "@jupyter-widgets/controls",
      "model_module_version": "1.5.0",
      "model_name": "DescriptionStyleModel",
      "state": {
       "_model_module": "@jupyter-widgets/controls",
       "_model_module_version": "1.5.0",
       "_model_name": "DescriptionStyleModel",
       "_view_count": null,
       "_view_module": "@jupyter-widgets/base",
       "_view_module_version": "1.2.0",
       "_view_name": "StyleView",
       "description_width": ""
      }
     },
     "ef67570debc64b8397ddae73143b079c": {
      "model_module": "@jupyter-widgets/controls",
      "model_module_version": "1.5.0",
      "model_name": "HBoxModel",
      "state": {
       "_dom_classes": [],
       "_model_module": "@jupyter-widgets/controls",
       "_model_module_version": "1.5.0",
       "_model_name": "HBoxModel",
       "_view_count": null,
       "_view_module": "@jupyter-widgets/controls",
       "_view_module_version": "1.5.0",
       "_view_name": "HBoxView",
       "box_style": "",
       "children": [
        "IPY_MODEL_a07ebb309e394d2b9a13c547fac2ed2a",
        "IPY_MODEL_263240c15949407bbbe208fd436e7f7a"
       ],
       "layout": "IPY_MODEL_cee629c96b7943f8804b0d129d3710d6"
      }
     },
     "fb6e8f2985964745a2d5fe9dcd1d5510": {
      "model_module": "@jupyter-widgets/base",
      "model_module_version": "1.2.0",
      "model_name": "LayoutModel",
      "state": {
       "_model_module": "@jupyter-widgets/base",
       "_model_module_version": "1.2.0",
       "_model_name": "LayoutModel",
       "_view_count": null,
       "_view_module": "@jupyter-widgets/base",
       "_view_module_version": "1.2.0",
       "_view_name": "LayoutView",
       "align_content": null,
       "align_items": null,
       "align_self": null,
       "border": null,
       "bottom": null,
       "display": null,
       "flex": null,
       "flex_flow": null,
       "grid_area": null,
       "grid_auto_columns": null,
       "grid_auto_flow": null,
       "grid_auto_rows": null,
       "grid_column": null,
       "grid_gap": null,
       "grid_row": null,
       "grid_template_areas": null,
       "grid_template_columns": null,
       "grid_template_rows": null,
       "height": null,
       "justify_content": null,
       "justify_items": null,
       "left": null,
       "margin": null,
       "max_height": null,
       "max_width": null,
       "min_height": null,
       "min_width": null,
       "object_fit": null,
       "object_position": null,
       "order": null,
       "overflow": null,
       "overflow_x": null,
       "overflow_y": null,
       "padding": null,
       "right": null,
       "top": null,
       "visibility": null,
       "width": null
      }
     }
    },
    "version_major": 2,
    "version_minor": 0
   }
  }
 },
 "nbformat": 4,
 "nbformat_minor": 4
}