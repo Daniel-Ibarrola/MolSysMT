{
 "cells": [
  {
   "cell_type": "code",
   "execution_count": 1,
   "metadata": {},
   "outputs": [],
   "source": [
    "%load_ext autoreload\n",
    "%autoreload 2"
   ]
  },
  {
   "cell_type": "markdown",
   "metadata": {},
   "source": [
    "# Extract"
   ]
  },
  {
   "cell_type": "markdown",
   "metadata": {},
   "source": [
    "## How to extract a molecular subsystem"
   ]
  },
  {
   "cell_type": "code",
   "execution_count": 2,
   "metadata": {},
   "outputs": [
    {
     "data": {
      "application/vnd.jupyter.widget-view+json": {
       "model_id": "f69be5bc829f4b6b84ad4cb13cdf34d3",
       "version_major": 2,
       "version_minor": 0
      },
      "text/plain": []
     },
     "metadata": {},
     "output_type": "display_data"
    }
   ],
   "source": [
    "import molsysmt as msm"
   ]
  },
  {
   "cell_type": "code",
   "execution_count": 3,
   "metadata": {},
   "outputs": [],
   "source": [
    "molecular_system = msm.convert(msm.demo['T4 lysozyme L99A']['181l.msmpk'])"
   ]
  },
  {
   "cell_type": "code",
   "execution_count": 4,
   "metadata": {},
   "outputs": [
    {
     "data": {
      "text/html": [
       "<style type=\"text/css\">\n",
       "</style>\n",
       "<table id=\"T_18e14_\">\n",
       "  <thead>\n",
       "    <tr>\n",
       "      <th class=\"col_heading level0 col0\" >index</th>\n",
       "      <th class=\"col_heading level0 col1\" >name</th>\n",
       "      <th class=\"col_heading level0 col2\" >type</th>\n",
       "      <th class=\"col_heading level0 col3\" >n atoms</th>\n",
       "      <th class=\"col_heading level0 col4\" >n groups</th>\n",
       "      <th class=\"col_heading level0 col5\" >n components</th>\n",
       "      <th class=\"col_heading level0 col6\" >n chains</th>\n",
       "      <th class=\"col_heading level0 col7\" >n molecules</th>\n",
       "    </tr>\n",
       "  </thead>\n",
       "  <tbody>\n",
       "    <tr>\n",
       "      <td id=\"T_18e14_row0_col0\" class=\"data row0 col0\" >0</td>\n",
       "      <td id=\"T_18e14_row0_col1\" class=\"data row0 col1\" >T4 lysozyme</td>\n",
       "      <td id=\"T_18e14_row0_col2\" class=\"data row0 col2\" >protein</td>\n",
       "      <td id=\"T_18e14_row0_col3\" class=\"data row0 col3\" >1289</td>\n",
       "      <td id=\"T_18e14_row0_col4\" class=\"data row0 col4\" >162</td>\n",
       "      <td id=\"T_18e14_row0_col5\" class=\"data row0 col5\" >1</td>\n",
       "      <td id=\"T_18e14_row0_col6\" class=\"data row0 col6\" >1</td>\n",
       "      <td id=\"T_18e14_row0_col7\" class=\"data row0 col7\" >1</td>\n",
       "    </tr>\n",
       "    <tr>\n",
       "      <td id=\"T_18e14_row1_col0\" class=\"data row1 col0\" >1</td>\n",
       "      <td id=\"T_18e14_row1_col1\" class=\"data row1 col1\" >CHLORIDE ION</td>\n",
       "      <td id=\"T_18e14_row1_col2\" class=\"data row1 col2\" >ion</td>\n",
       "      <td id=\"T_18e14_row1_col3\" class=\"data row1 col3\" >2</td>\n",
       "      <td id=\"T_18e14_row1_col4\" class=\"data row1 col4\" >2</td>\n",
       "      <td id=\"T_18e14_row1_col5\" class=\"data row1 col5\" >2</td>\n",
       "      <td id=\"T_18e14_row1_col6\" class=\"data row1 col6\" >2</td>\n",
       "      <td id=\"T_18e14_row1_col7\" class=\"data row1 col7\" >2</td>\n",
       "    </tr>\n",
       "    <tr>\n",
       "      <td id=\"T_18e14_row2_col0\" class=\"data row2 col0\" >2</td>\n",
       "      <td id=\"T_18e14_row2_col1\" class=\"data row2 col1\" >2-HYDROXYETHYL DISULFIDE</td>\n",
       "      <td id=\"T_18e14_row2_col2\" class=\"data row2 col2\" >small molecule</td>\n",
       "      <td id=\"T_18e14_row2_col3\" class=\"data row2 col3\" >8</td>\n",
       "      <td id=\"T_18e14_row2_col4\" class=\"data row2 col4\" >1</td>\n",
       "      <td id=\"T_18e14_row2_col5\" class=\"data row2 col5\" >1</td>\n",
       "      <td id=\"T_18e14_row2_col6\" class=\"data row2 col6\" >1</td>\n",
       "      <td id=\"T_18e14_row2_col7\" class=\"data row2 col7\" >1</td>\n",
       "    </tr>\n",
       "    <tr>\n",
       "      <td id=\"T_18e14_row3_col0\" class=\"data row3 col0\" >3</td>\n",
       "      <td id=\"T_18e14_row3_col1\" class=\"data row3 col1\" >BENZENE</td>\n",
       "      <td id=\"T_18e14_row3_col2\" class=\"data row3 col2\" >small molecule</td>\n",
       "      <td id=\"T_18e14_row3_col3\" class=\"data row3 col3\" >6</td>\n",
       "      <td id=\"T_18e14_row3_col4\" class=\"data row3 col4\" >1</td>\n",
       "      <td id=\"T_18e14_row3_col5\" class=\"data row3 col5\" >1</td>\n",
       "      <td id=\"T_18e14_row3_col6\" class=\"data row3 col6\" >1</td>\n",
       "      <td id=\"T_18e14_row3_col7\" class=\"data row3 col7\" >1</td>\n",
       "    </tr>\n",
       "    <tr>\n",
       "      <td id=\"T_18e14_row4_col0\" class=\"data row4 col0\" >4</td>\n",
       "      <td id=\"T_18e14_row4_col1\" class=\"data row4 col1\" >water</td>\n",
       "      <td id=\"T_18e14_row4_col2\" class=\"data row4 col2\" >water</td>\n",
       "      <td id=\"T_18e14_row4_col3\" class=\"data row4 col3\" >136</td>\n",
       "      <td id=\"T_18e14_row4_col4\" class=\"data row4 col4\" >136</td>\n",
       "      <td id=\"T_18e14_row4_col5\" class=\"data row4 col5\" >136</td>\n",
       "      <td id=\"T_18e14_row4_col6\" class=\"data row4 col6\" >1</td>\n",
       "      <td id=\"T_18e14_row4_col7\" class=\"data row4 col7\" >136</td>\n",
       "    </tr>\n",
       "  </tbody>\n",
       "</table>\n"
      ],
      "text/plain": [
       "<pandas.io.formats.style.Styler at 0x7f9ac6f795d0>"
      ]
     },
     "execution_count": 4,
     "metadata": {},
     "output_type": "execute_result"
    }
   ],
   "source": [
    "msm.info(molecular_system, element='entity')"
   ]
  },
  {
   "cell_type": "code",
   "execution_count": 5,
   "metadata": {},
   "outputs": [],
   "source": [
    "water = msm.extract(molecular_system, selection='molecule_type==\"water\"')"
   ]
  },
  {
   "cell_type": "code",
   "execution_count": 6,
   "metadata": {},
   "outputs": [
    {
     "data": {
      "text/html": [
       "<style type=\"text/css\">\n",
       "</style>\n",
       "<table id=\"T_e4fb9_\">\n",
       "  <thead>\n",
       "    <tr>\n",
       "      <th class=\"col_heading level0 col0\" >form</th>\n",
       "      <th class=\"col_heading level0 col1\" >n_atoms</th>\n",
       "      <th class=\"col_heading level0 col2\" >n_groups</th>\n",
       "      <th class=\"col_heading level0 col3\" >n_components</th>\n",
       "      <th class=\"col_heading level0 col4\" >n_chains</th>\n",
       "      <th class=\"col_heading level0 col5\" >n_molecules</th>\n",
       "      <th class=\"col_heading level0 col6\" >n_entities</th>\n",
       "      <th class=\"col_heading level0 col7\" >n_waters</th>\n",
       "      <th class=\"col_heading level0 col8\" >n_structures</th>\n",
       "    </tr>\n",
       "  </thead>\n",
       "  <tbody>\n",
       "    <tr>\n",
       "      <td id=\"T_e4fb9_row0_col0\" class=\"data row0 col0\" >molsysmt.MolSys</td>\n",
       "      <td id=\"T_e4fb9_row0_col1\" class=\"data row0 col1\" >136</td>\n",
       "      <td id=\"T_e4fb9_row0_col2\" class=\"data row0 col2\" >136</td>\n",
       "      <td id=\"T_e4fb9_row0_col3\" class=\"data row0 col3\" >0</td>\n",
       "      <td id=\"T_e4fb9_row0_col4\" class=\"data row0 col4\" >1</td>\n",
       "      <td id=\"T_e4fb9_row0_col5\" class=\"data row0 col5\" >136</td>\n",
       "      <td id=\"T_e4fb9_row0_col6\" class=\"data row0 col6\" >1</td>\n",
       "      <td id=\"T_e4fb9_row0_col7\" class=\"data row0 col7\" >136</td>\n",
       "      <td id=\"T_e4fb9_row0_col8\" class=\"data row0 col8\" >1</td>\n",
       "    </tr>\n",
       "  </tbody>\n",
       "</table>\n"
      ],
      "text/plain": [
       "<pandas.io.formats.style.Styler at 0x7f9b1c3de850>"
      ]
     },
     "execution_count": 6,
     "metadata": {},
     "output_type": "execute_result"
    }
   ],
   "source": [
    "msm.info(water)"
   ]
  },
  {
   "cell_type": "code",
   "execution_count": 7,
   "metadata": {},
   "outputs": [],
   "source": [
    "molsys = msm.extract(molecular_system, selection='molecule_type==[\"water\", \"protein\"]')"
   ]
  },
  {
   "cell_type": "code",
   "execution_count": 8,
   "metadata": {},
   "outputs": [
    {
     "data": {
      "text/html": [
       "<style type=\"text/css\">\n",
       "</style>\n",
       "<table id=\"T_2ee5b_\">\n",
       "  <thead>\n",
       "    <tr>\n",
       "      <th class=\"col_heading level0 col0\" >form</th>\n",
       "      <th class=\"col_heading level0 col1\" >n_atoms</th>\n",
       "      <th class=\"col_heading level0 col2\" >n_groups</th>\n",
       "      <th class=\"col_heading level0 col3\" >n_components</th>\n",
       "      <th class=\"col_heading level0 col4\" >n_chains</th>\n",
       "      <th class=\"col_heading level0 col5\" >n_molecules</th>\n",
       "      <th class=\"col_heading level0 col6\" >n_entities</th>\n",
       "      <th class=\"col_heading level0 col7\" >n_waters</th>\n",
       "      <th class=\"col_heading level0 col8\" >n_proteins</th>\n",
       "      <th class=\"col_heading level0 col9\" >n_structures</th>\n",
       "    </tr>\n",
       "  </thead>\n",
       "  <tbody>\n",
       "    <tr>\n",
       "      <td id=\"T_2ee5b_row0_col0\" class=\"data row0 col0\" >molsysmt.MolSys</td>\n",
       "      <td id=\"T_2ee5b_row0_col1\" class=\"data row0 col1\" >1425</td>\n",
       "      <td id=\"T_2ee5b_row0_col2\" class=\"data row0 col2\" >298</td>\n",
       "      <td id=\"T_2ee5b_row0_col3\" class=\"data row0 col3\" >137</td>\n",
       "      <td id=\"T_2ee5b_row0_col4\" class=\"data row0 col4\" >2</td>\n",
       "      <td id=\"T_2ee5b_row0_col5\" class=\"data row0 col5\" >137</td>\n",
       "      <td id=\"T_2ee5b_row0_col6\" class=\"data row0 col6\" >2</td>\n",
       "      <td id=\"T_2ee5b_row0_col7\" class=\"data row0 col7\" >136</td>\n",
       "      <td id=\"T_2ee5b_row0_col8\" class=\"data row0 col8\" >1</td>\n",
       "      <td id=\"T_2ee5b_row0_col9\" class=\"data row0 col9\" >1</td>\n",
       "    </tr>\n",
       "  </tbody>\n",
       "</table>\n"
      ],
      "text/plain": [
       "<pandas.io.formats.style.Styler at 0x7f9ac594be50>"
      ]
     },
     "execution_count": 8,
     "metadata": {},
     "output_type": "execute_result"
    }
   ],
   "source": [
    "msm.info(molsys)"
   ]
  },
  {
   "cell_type": "markdown",
   "metadata": {},
   "source": [
    "- Include here the extraction of files. File to files and file to other forms."
   ]
  },
  {
   "cell_type": "code",
   "execution_count": null,
   "metadata": {},
   "outputs": [],
   "source": []
  }
 ],
 "metadata": {
  "kernelspec": {
   "display_name": "Python 3 (ipykernel)",
   "language": "python",
   "name": "python3"
  },
  "language_info": {
   "codemirror_mode": {
    "name": "ipython",
    "version": 3
   },
   "file_extension": ".py",
   "mimetype": "text/x-python",
   "name": "python",
   "nbconvert_exporter": "python",
   "pygments_lexer": "ipython3",
   "version": "3.7.12"
  },
  "widgets": {
   "application/vnd.jupyter.widget-state+json": {
    "state": {
     "a85d5e4a053f4a158c9f4e85f490f38d": {
      "model_module": "@jupyter-widgets/base",
      "model_module_version": "1.2.0",
      "model_name": "LayoutModel",
      "state": {
       "_model_module": "@jupyter-widgets/base",
       "_model_module_version": "1.2.0",
       "_model_name": "LayoutModel",
       "_view_count": null,
       "_view_module": "@jupyter-widgets/base",
       "_view_module_version": "1.2.0",
       "_view_name": "LayoutView",
       "align_content": null,
       "align_items": null,
       "align_self": null,
       "border": null,
       "bottom": null,
       "display": null,
       "flex": null,
       "flex_flow": null,
       "grid_area": null,
       "grid_auto_columns": null,
       "grid_auto_flow": null,
       "grid_auto_rows": null,
       "grid_column": null,
       "grid_gap": null,
       "grid_row": null,
       "grid_template_areas": null,
       "grid_template_columns": null,
       "grid_template_rows": null,
       "height": null,
       "justify_content": null,
       "justify_items": null,
       "left": null,
       "margin": null,
       "max_height": null,
       "max_width": null,
       "min_height": null,
       "min_width": null,
       "object_fit": null,
       "object_position": null,
       "order": null,
       "overflow": null,
       "overflow_x": null,
       "overflow_y": null,
       "padding": null,
       "right": null,
       "top": null,
       "visibility": null,
       "width": null
      }
     },
     "f69be5bc829f4b6b84ad4cb13cdf34d3": {
      "model_module": "nglview-js-widgets",
      "model_module_version": "3.0.1",
      "model_name": "ColormakerRegistryModel",
      "state": {
       "_dom_classes": [],
       "_model_module": "nglview-js-widgets",
       "_model_module_version": "3.0.1",
       "_model_name": "ColormakerRegistryModel",
       "_msg_ar": [],
       "_msg_q": [],
       "_ready": false,
       "_view_count": null,
       "_view_module": "nglview-js-widgets",
       "_view_module_version": "3.0.1",
       "_view_name": "ColormakerRegistryView",
       "layout": "IPY_MODEL_a85d5e4a053f4a158c9f4e85f490f38d"
      }
     }
    },
    "version_major": 2,
    "version_minor": 0
   }
  }
 },
 "nbformat": 4,
 "nbformat_minor": 4
}