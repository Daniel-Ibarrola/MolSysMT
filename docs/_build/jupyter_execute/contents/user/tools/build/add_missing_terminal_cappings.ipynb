{
 "cells": [
  {
   "cell_type": "code",
   "execution_count": 1,
   "metadata": {},
   "outputs": [],
   "source": [
    "%load_ext autoreload\n",
    "%autoreload 2"
   ]
  },
  {
   "cell_type": "code",
   "execution_count": 2,
   "metadata": {},
   "outputs": [
    {
     "data": {
      "application/vnd.jupyter.widget-view+json": {
       "model_id": "a6d0d30967c9497d99c6e820cdd8932b",
       "version_major": 2,
       "version_minor": 0
      },
      "text/plain": []
     },
     "metadata": {},
     "output_type": "display_data"
    }
   ],
   "source": [
    "import molsysmt as msm"
   ]
  },
  {
   "cell_type": "markdown",
   "metadata": {},
   "source": [
    "# Add missing terminal cappings"
   ]
  },
  {
   "cell_type": "code",
   "execution_count": 3,
   "metadata": {},
   "outputs": [],
   "source": [
    "molecular_system = msm.build.build_peptide('AlaValPro', to_form='molsysmt.MolSys')"
   ]
  },
  {
   "cell_type": "code",
   "execution_count": 4,
   "metadata": {},
   "outputs": [
    {
     "data": {
      "text/html": [
       "<style type=\"text/css\">\n",
       "</style>\n",
       "<table id=\"T_b4947_\">\n",
       "  <thead>\n",
       "    <tr>\n",
       "      <th class=\"col_heading level0 col0\" >index</th>\n",
       "      <th class=\"col_heading level0 col1\" >id</th>\n",
       "      <th class=\"col_heading level0 col2\" >name</th>\n",
       "      <th class=\"col_heading level0 col3\" >type</th>\n",
       "      <th class=\"col_heading level0 col4\" >n atoms</th>\n",
       "      <th class=\"col_heading level0 col5\" >component index</th>\n",
       "      <th class=\"col_heading level0 col6\" >chain index</th>\n",
       "      <th class=\"col_heading level0 col7\" >molecule index</th>\n",
       "      <th class=\"col_heading level0 col8\" >molecule type</th>\n",
       "      <th class=\"col_heading level0 col9\" >entity index</th>\n",
       "      <th class=\"col_heading level0 col10\" >entity name</th>\n",
       "    </tr>\n",
       "  </thead>\n",
       "  <tbody>\n",
       "    <tr>\n",
       "      <td id=\"T_b4947_row0_col0\" class=\"data row0 col0\" >0</td>\n",
       "      <td id=\"T_b4947_row0_col1\" class=\"data row0 col1\" >1</td>\n",
       "      <td id=\"T_b4947_row0_col2\" class=\"data row0 col2\" >ALA</td>\n",
       "      <td id=\"T_b4947_row0_col3\" class=\"data row0 col3\" >aminoacid</td>\n",
       "      <td id=\"T_b4947_row0_col4\" class=\"data row0 col4\" >10</td>\n",
       "      <td id=\"T_b4947_row0_col5\" class=\"data row0 col5\" >0</td>\n",
       "      <td id=\"T_b4947_row0_col6\" class=\"data row0 col6\" >0</td>\n",
       "      <td id=\"T_b4947_row0_col7\" class=\"data row0 col7\" >0</td>\n",
       "      <td id=\"T_b4947_row0_col8\" class=\"data row0 col8\" >peptide</td>\n",
       "      <td id=\"T_b4947_row0_col9\" class=\"data row0 col9\" >0</td>\n",
       "      <td id=\"T_b4947_row0_col10\" class=\"data row0 col10\" >Peptide_0</td>\n",
       "    </tr>\n",
       "    <tr>\n",
       "      <td id=\"T_b4947_row1_col0\" class=\"data row1 col0\" >1</td>\n",
       "      <td id=\"T_b4947_row1_col1\" class=\"data row1 col1\" >2</td>\n",
       "      <td id=\"T_b4947_row1_col2\" class=\"data row1 col2\" >VAL</td>\n",
       "      <td id=\"T_b4947_row1_col3\" class=\"data row1 col3\" >aminoacid</td>\n",
       "      <td id=\"T_b4947_row1_col4\" class=\"data row1 col4\" >16</td>\n",
       "      <td id=\"T_b4947_row1_col5\" class=\"data row1 col5\" >0</td>\n",
       "      <td id=\"T_b4947_row1_col6\" class=\"data row1 col6\" >0</td>\n",
       "      <td id=\"T_b4947_row1_col7\" class=\"data row1 col7\" >0</td>\n",
       "      <td id=\"T_b4947_row1_col8\" class=\"data row1 col8\" >peptide</td>\n",
       "      <td id=\"T_b4947_row1_col9\" class=\"data row1 col9\" >0</td>\n",
       "      <td id=\"T_b4947_row1_col10\" class=\"data row1 col10\" >Peptide_0</td>\n",
       "    </tr>\n",
       "    <tr>\n",
       "      <td id=\"T_b4947_row2_col0\" class=\"data row2 col0\" >2</td>\n",
       "      <td id=\"T_b4947_row2_col1\" class=\"data row2 col1\" >3</td>\n",
       "      <td id=\"T_b4947_row2_col2\" class=\"data row2 col2\" >PRO</td>\n",
       "      <td id=\"T_b4947_row2_col3\" class=\"data row2 col3\" >aminoacid</td>\n",
       "      <td id=\"T_b4947_row2_col4\" class=\"data row2 col4\" >14</td>\n",
       "      <td id=\"T_b4947_row2_col5\" class=\"data row2 col5\" >0</td>\n",
       "      <td id=\"T_b4947_row2_col6\" class=\"data row2 col6\" >0</td>\n",
       "      <td id=\"T_b4947_row2_col7\" class=\"data row2 col7\" >0</td>\n",
       "      <td id=\"T_b4947_row2_col8\" class=\"data row2 col8\" >peptide</td>\n",
       "      <td id=\"T_b4947_row2_col9\" class=\"data row2 col9\" >0</td>\n",
       "      <td id=\"T_b4947_row2_col10\" class=\"data row2 col10\" >Peptide_0</td>\n",
       "    </tr>\n",
       "  </tbody>\n",
       "</table>\n"
      ],
      "text/plain": [
       "<pandas.io.formats.style.Styler at 0x7f6336f2ccd0>"
      ]
     },
     "execution_count": 4,
     "metadata": {},
     "output_type": "execute_result"
    }
   ],
   "source": [
    "msm.info(molecular_system, element='group')"
   ]
  },
  {
   "cell_type": "code",
   "execution_count": 5,
   "metadata": {},
   "outputs": [
    {
     "data": {
      "text/plain": [
       "array(['ALA', 'VAL', 'PRO'], dtype=object)"
      ]
     },
     "execution_count": 5,
     "metadata": {},
     "output_type": "execute_result"
    }
   ],
   "source": [
    "msm.get(molecular_system, element='group', name=True)"
   ]
  },
  {
   "cell_type": "code",
   "execution_count": 6,
   "metadata": {},
   "outputs": [
    {
     "name": "stderr",
     "output_type": "stream",
     "text": [
      "Warning: importing 'simtk.openmm' is deprecated.  Import 'openmm' instead.\n"
     ]
    }
   ],
   "source": [
    "molecular_system_uncapped = msm.build.add_missing_terminal_cappings(molecular_system, N_terminal=None, C_terminal=None)"
   ]
  },
  {
   "cell_type": "code",
   "execution_count": 7,
   "metadata": {},
   "outputs": [
    {
     "data": {
      "text/html": [
       "<style type=\"text/css\">\n",
       "</style>\n",
       "<table id=\"T_44767_\">\n",
       "  <thead>\n",
       "    <tr>\n",
       "      <th class=\"col_heading level0 col0\" >index</th>\n",
       "      <th class=\"col_heading level0 col1\" >id</th>\n",
       "      <th class=\"col_heading level0 col2\" >name</th>\n",
       "      <th class=\"col_heading level0 col3\" >type</th>\n",
       "      <th class=\"col_heading level0 col4\" >n atoms</th>\n",
       "      <th class=\"col_heading level0 col5\" >component index</th>\n",
       "      <th class=\"col_heading level0 col6\" >chain index</th>\n",
       "      <th class=\"col_heading level0 col7\" >molecule index</th>\n",
       "      <th class=\"col_heading level0 col8\" >molecule type</th>\n",
       "      <th class=\"col_heading level0 col9\" >entity index</th>\n",
       "      <th class=\"col_heading level0 col10\" >entity name</th>\n",
       "    </tr>\n",
       "  </thead>\n",
       "  <tbody>\n",
       "    <tr>\n",
       "      <td id=\"T_44767_row0_col0\" class=\"data row0 col0\" >0</td>\n",
       "      <td id=\"T_44767_row0_col1\" class=\"data row0 col1\" >1</td>\n",
       "      <td id=\"T_44767_row0_col2\" class=\"data row0 col2\" >ALA</td>\n",
       "      <td id=\"T_44767_row0_col3\" class=\"data row0 col3\" >aminoacid</td>\n",
       "      <td id=\"T_44767_row0_col4\" class=\"data row0 col4\" >12</td>\n",
       "      <td id=\"T_44767_row0_col5\" class=\"data row0 col5\" >0</td>\n",
       "      <td id=\"T_44767_row0_col6\" class=\"data row0 col6\" >0</td>\n",
       "      <td id=\"T_44767_row0_col7\" class=\"data row0 col7\" >0</td>\n",
       "      <td id=\"T_44767_row0_col8\" class=\"data row0 col8\" >peptide</td>\n",
       "      <td id=\"T_44767_row0_col9\" class=\"data row0 col9\" >0</td>\n",
       "      <td id=\"T_44767_row0_col10\" class=\"data row0 col10\" >Peptide_0</td>\n",
       "    </tr>\n",
       "    <tr>\n",
       "      <td id=\"T_44767_row1_col0\" class=\"data row1 col0\" >1</td>\n",
       "      <td id=\"T_44767_row1_col1\" class=\"data row1 col1\" >2</td>\n",
       "      <td id=\"T_44767_row1_col2\" class=\"data row1 col2\" >VAL</td>\n",
       "      <td id=\"T_44767_row1_col3\" class=\"data row1 col3\" >aminoacid</td>\n",
       "      <td id=\"T_44767_row1_col4\" class=\"data row1 col4\" >16</td>\n",
       "      <td id=\"T_44767_row1_col5\" class=\"data row1 col5\" >0</td>\n",
       "      <td id=\"T_44767_row1_col6\" class=\"data row1 col6\" >0</td>\n",
       "      <td id=\"T_44767_row1_col7\" class=\"data row1 col7\" >0</td>\n",
       "      <td id=\"T_44767_row1_col8\" class=\"data row1 col8\" >peptide</td>\n",
       "      <td id=\"T_44767_row1_col9\" class=\"data row1 col9\" >0</td>\n",
       "      <td id=\"T_44767_row1_col10\" class=\"data row1 col10\" >Peptide_0</td>\n",
       "    </tr>\n",
       "    <tr>\n",
       "      <td id=\"T_44767_row2_col0\" class=\"data row2 col0\" >2</td>\n",
       "      <td id=\"T_44767_row2_col1\" class=\"data row2 col1\" >3</td>\n",
       "      <td id=\"T_44767_row2_col2\" class=\"data row2 col2\" >PRO</td>\n",
       "      <td id=\"T_44767_row2_col3\" class=\"data row2 col3\" >aminoacid</td>\n",
       "      <td id=\"T_44767_row2_col4\" class=\"data row2 col4\" >15</td>\n",
       "      <td id=\"T_44767_row2_col5\" class=\"data row2 col5\" >0</td>\n",
       "      <td id=\"T_44767_row2_col6\" class=\"data row2 col6\" >0</td>\n",
       "      <td id=\"T_44767_row2_col7\" class=\"data row2 col7\" >0</td>\n",
       "      <td id=\"T_44767_row2_col8\" class=\"data row2 col8\" >peptide</td>\n",
       "      <td id=\"T_44767_row2_col9\" class=\"data row2 col9\" >0</td>\n",
       "      <td id=\"T_44767_row2_col10\" class=\"data row2 col10\" >Peptide_0</td>\n",
       "    </tr>\n",
       "  </tbody>\n",
       "</table>\n"
      ],
      "text/plain": [
       "<pandas.io.formats.style.Styler at 0x7f6334ae7cd0>"
      ]
     },
     "execution_count": 7,
     "metadata": {},
     "output_type": "execute_result"
    }
   ],
   "source": [
    "msm.info(molecular_system_uncapped, element='group')"
   ]
  },
  {
   "cell_type": "code",
   "execution_count": 8,
   "metadata": {},
   "outputs": [
    {
     "ename": "NotImplementedMethodError",
     "evalue": "The \"to_openmm_System\" method has not been implemented yet in the way you are using it. Check  for more information. If you still want to suggest its implementation, open a new issue in https://github.com/uibcdf/MolSysMT/issues",
     "output_type": "error",
     "traceback": [
      "\u001b[0;31m---------------------------------------------------------------------------\u001b[0m",
      "\u001b[0;31mNotImplementedMethodError\u001b[0m                 Traceback (most recent call last)",
      "\u001b[0;32m/tmp/ipykernel_12432/368352259.py\u001b[0m in \u001b[0;36m<module>\u001b[0;34m\u001b[0m\n\u001b[0;32m----> 1\u001b[0;31m \u001b[0mmsm\u001b[0m\u001b[0;34m.\u001b[0m\u001b[0mphyschem\u001b[0m\u001b[0;34m.\u001b[0m\u001b[0mcharge\u001b[0m\u001b[0;34m(\u001b[0m\u001b[0;34m[\u001b[0m\u001b[0mmolecular_system_uncapped\u001b[0m\u001b[0;34m,\u001b[0m \u001b[0;34m{\u001b[0m\u001b[0;34m'forcefield'\u001b[0m\u001b[0;34m:\u001b[0m\u001b[0;34m'AMBER14'\u001b[0m\u001b[0;34m}\u001b[0m\u001b[0;34m]\u001b[0m\u001b[0;34m,\u001b[0m \u001b[0melement\u001b[0m\u001b[0;34m=\u001b[0m\u001b[0;34m'group'\u001b[0m\u001b[0;34m)\u001b[0m\u001b[0;34m\u001b[0m\u001b[0;34m\u001b[0m\u001b[0m\n\u001b[0m",
      "\u001b[0;32m~/projects-uibcdf/MolSysMT/molsysmt/physchem/charge.py\u001b[0m in \u001b[0;36mcharge\u001b[0;34m(molecular_system, element, selection, definition, engine, syntaxis, check)\u001b[0m\n\u001b[1;32m     62\u001b[0m             \u001b[0;32mfrom\u001b[0m \u001b[0mopenmm\u001b[0m \u001b[0;32mimport\u001b[0m \u001b[0mNonbondedForce\u001b[0m\u001b[0;34m\u001b[0m\u001b[0;34m\u001b[0m\u001b[0m\n\u001b[1;32m     63\u001b[0m \u001b[0;34m\u001b[0m\u001b[0m\n\u001b[0;32m---> 64\u001b[0;31m             \u001b[0mopenmm_system\u001b[0m \u001b[0;34m=\u001b[0m \u001b[0mconvert\u001b[0m\u001b[0;34m(\u001b[0m\u001b[0mmolecular_system\u001b[0m\u001b[0;34m,\u001b[0m \u001b[0mto_form\u001b[0m\u001b[0;34m=\u001b[0m\u001b[0;34m'openmm.System'\u001b[0m\u001b[0;34m)\u001b[0m\u001b[0;34m\u001b[0m\u001b[0;34m\u001b[0m\u001b[0m\n\u001b[0m\u001b[1;32m     65\u001b[0m \u001b[0;34m\u001b[0m\u001b[0m\n\u001b[1;32m     66\u001b[0m             \u001b[0moutput\u001b[0m \u001b[0;34m=\u001b[0m \u001b[0;34m[\u001b[0m\u001b[0;34m]\u001b[0m\u001b[0;34m\u001b[0m\u001b[0;34m\u001b[0m\u001b[0m\n",
      "\u001b[0;32m~/projects-uibcdf/MolSysMT/molsysmt/basic/convert.py\u001b[0m in \u001b[0;36mconvert\u001b[0;34m(molecular_system, to_form, selection, structure_indices, syntaxis, check, **kwargs)\u001b[0m\n\u001b[1;32m    120\u001b[0m                 \u001b[0;32mif\u001b[0m \u001b[0mto_form\u001b[0m \u001b[0;32min\u001b[0m \u001b[0mdict_convert\u001b[0m\u001b[0;34m[\u001b[0m\u001b[0mfrom_form\u001b[0m\u001b[0;34m]\u001b[0m\u001b[0;34m:\u001b[0m\u001b[0;34m\u001b[0m\u001b[0;34m\u001b[0m\u001b[0m\n\u001b[1;32m    121\u001b[0m                     tmp_item = dict_convert[from_form][to_form](item, molecular_system=molecular_system, atom_indices=atom_indices,\n\u001b[0;32m--> 122\u001b[0;31m                                                                 structure_indices=structure_indices, **conversion_arguments, **kwargs)\n\u001b[0m\u001b[1;32m    123\u001b[0m         \u001b[0;32mif\u001b[0m \u001b[0mtmp_item\u001b[0m \u001b[0;32mis\u001b[0m \u001b[0;32mnot\u001b[0m \u001b[0;32mNone\u001b[0m\u001b[0;34m:\u001b[0m\u001b[0;34m\u001b[0m\u001b[0;34m\u001b[0m\u001b[0m\n\u001b[1;32m    124\u001b[0m             \u001b[0;32mbreak\u001b[0m\u001b[0;34m\u001b[0m\u001b[0;34m\u001b[0m\u001b[0m\n",
      "\u001b[0;32m~/projects-uibcdf/MolSysMT/molsysmt/api_forms/api_molsysmt_MolSys.py\u001b[0m in \u001b[0;36mto_openmm_System\u001b[0;34m(item, molecular_system, atom_indices, structure_indices)\u001b[0m\n\u001b[1;32m    175\u001b[0m     \u001b[0;32mfrom\u001b[0m \u001b[0mmolsysmt\u001b[0m\u001b[0;34m.\u001b[0m\u001b[0mitem\u001b[0m\u001b[0;34m.\u001b[0m\u001b[0mmolsysmt_MolSys\u001b[0m \u001b[0;32mimport\u001b[0m \u001b[0mto_openmm_System\u001b[0m \u001b[0;32mas\u001b[0m \u001b[0mmolsysmt_MolSys_to_openmm_System\u001b[0m\u001b[0;34m\u001b[0m\u001b[0;34m\u001b[0m\u001b[0m\n\u001b[1;32m    176\u001b[0m \u001b[0;34m\u001b[0m\u001b[0m\n\u001b[0;32m--> 177\u001b[0;31m     \u001b[0mtmp_item\u001b[0m \u001b[0;34m=\u001b[0m \u001b[0mmolsysmt_MolSys_to_openmm_System\u001b[0m\u001b[0;34m(\u001b[0m\u001b[0mitem\u001b[0m\u001b[0;34m,\u001b[0m \u001b[0matom_indices\u001b[0m\u001b[0;34m=\u001b[0m\u001b[0matom_indices\u001b[0m\u001b[0;34m,\u001b[0m \u001b[0mstructure_indices\u001b[0m\u001b[0;34m=\u001b[0m\u001b[0mstructure_indices\u001b[0m\u001b[0;34m,\u001b[0m \u001b[0mcheck\u001b[0m\u001b[0;34m=\u001b[0m\u001b[0;32mFalse\u001b[0m\u001b[0;34m)\u001b[0m\u001b[0;34m\u001b[0m\u001b[0;34m\u001b[0m\u001b[0m\n\u001b[0m\u001b[1;32m    178\u001b[0m \u001b[0;34m\u001b[0m\u001b[0m\n\u001b[1;32m    179\u001b[0m     \u001b[0;32mreturn\u001b[0m \u001b[0mtmp_item\u001b[0m\u001b[0;34m\u001b[0m\u001b[0;34m\u001b[0m\u001b[0m\n",
      "\u001b[0;32m~/projects-uibcdf/MolSysMT/molsysmt/item/molsysmt_MolSys/to_openmm_System.py\u001b[0m in \u001b[0;36mto_openmm_System\u001b[0;34m(item, atom_indices, structure_indices, check)\u001b[0m\n\u001b[1;32m     14\u001b[0m \u001b[0;34m\u001b[0m\u001b[0m\n\u001b[1;32m     15\u001b[0m     \u001b[0mtmp_item\u001b[0m \u001b[0;34m=\u001b[0m \u001b[0mto_openmm_Topology\u001b[0m\u001b[0;34m(\u001b[0m\u001b[0mitem\u001b[0m\u001b[0;34m,\u001b[0m \u001b[0matom_indices\u001b[0m\u001b[0;34m=\u001b[0m\u001b[0matom_indices\u001b[0m\u001b[0;34m,\u001b[0m \u001b[0mstructure_indices\u001b[0m\u001b[0;34m=\u001b[0m\u001b[0mstructure_indices\u001b[0m\u001b[0;34m,\u001b[0m \u001b[0mcheck\u001b[0m\u001b[0;34m=\u001b[0m\u001b[0;32mFalse\u001b[0m\u001b[0;34m)\u001b[0m\u001b[0;34m\u001b[0m\u001b[0;34m\u001b[0m\u001b[0m\n\u001b[0;32m---> 16\u001b[0;31m     \u001b[0mtmp_item\u001b[0m \u001b[0;34m=\u001b[0m \u001b[0mopenmm_Topology_to_openmm_System\u001b[0m\u001b[0;34m(\u001b[0m\u001b[0mtmp_item\u001b[0m\u001b[0;34m,\u001b[0m \u001b[0mcheck\u001b[0m\u001b[0;34m=\u001b[0m\u001b[0;32mFalse\u001b[0m\u001b[0;34m)\u001b[0m\u001b[0;34m\u001b[0m\u001b[0;34m\u001b[0m\u001b[0m\n\u001b[0m\u001b[1;32m     17\u001b[0m \u001b[0;34m\u001b[0m\u001b[0m\n\u001b[1;32m     18\u001b[0m     \u001b[0;32mreturn\u001b[0m \u001b[0mtmp_item\u001b[0m\u001b[0;34m\u001b[0m\u001b[0;34m\u001b[0m\u001b[0m\n",
      "\u001b[0;32m~/projects-uibcdf/MolSysMT/molsysmt/item/openmm_Topology/to_openmm_System.py\u001b[0m in \u001b[0;36mto_openmm_System\u001b[0;34m(item, atom_indices, forcefield, water_model, implicit_solvent, non_bonded_method, switch_distance, check)\u001b[0m\n\u001b[1;32m     25\u001b[0m     \u001b[0;31m#return tmp_item\u001b[0m\u001b[0;34m\u001b[0m\u001b[0;34m\u001b[0m\u001b[0;34m\u001b[0m\u001b[0m\n\u001b[1;32m     26\u001b[0m \u001b[0;34m\u001b[0m\u001b[0m\n\u001b[0;32m---> 27\u001b[0;31m     \u001b[0;32mraise\u001b[0m \u001b[0mNotImplementedMethodError\u001b[0m\u001b[0;34m\u001b[0m\u001b[0;34m\u001b[0m\u001b[0m\n\u001b[0m\u001b[1;32m     28\u001b[0m     \u001b[0;32mpass\u001b[0m\u001b[0;34m\u001b[0m\u001b[0;34m\u001b[0m\u001b[0m\n",
      "\u001b[0;31mNotImplementedMethodError\u001b[0m: The \"to_openmm_System\" method has not been implemented yet in the way you are using it. Check  for more information. If you still want to suggest its implementation, open a new issue in https://github.com/uibcdf/MolSysMT/issues"
     ]
    }
   ],
   "source": [
    "msm.physchem.charge([molecular_system_uncapped, {'forcefield':'AMBER14'}], element='group')"
   ]
  },
  {
   "cell_type": "code",
   "execution_count": 9,
   "metadata": {},
   "outputs": [],
   "source": [
    "molecular_system_capped = msm.build.add_missing_terminal_cappings(molecular_system, N_terminal='ACE', C_terminal='NME')"
   ]
  },
  {
   "cell_type": "code",
   "execution_count": 10,
   "metadata": {},
   "outputs": [
    {
     "data": {
      "text/html": [
       "<style type=\"text/css\">\n",
       "</style>\n",
       "<table id=\"T_1936d_\">\n",
       "  <thead>\n",
       "    <tr>\n",
       "      <th class=\"col_heading level0 col0\" >index</th>\n",
       "      <th class=\"col_heading level0 col1\" >id</th>\n",
       "      <th class=\"col_heading level0 col2\" >name</th>\n",
       "      <th class=\"col_heading level0 col3\" >type</th>\n",
       "      <th class=\"col_heading level0 col4\" >n atoms</th>\n",
       "      <th class=\"col_heading level0 col5\" >component index</th>\n",
       "      <th class=\"col_heading level0 col6\" >chain index</th>\n",
       "      <th class=\"col_heading level0 col7\" >molecule index</th>\n",
       "      <th class=\"col_heading level0 col8\" >molecule type</th>\n",
       "      <th class=\"col_heading level0 col9\" >entity index</th>\n",
       "      <th class=\"col_heading level0 col10\" >entity name</th>\n",
       "    </tr>\n",
       "  </thead>\n",
       "  <tbody>\n",
       "    <tr>\n",
       "      <td id=\"T_1936d_row0_col0\" class=\"data row0 col0\" >0</td>\n",
       "      <td id=\"T_1936d_row0_col1\" class=\"data row0 col1\" >0</td>\n",
       "      <td id=\"T_1936d_row0_col2\" class=\"data row0 col2\" >ACE</td>\n",
       "      <td id=\"T_1936d_row0_col3\" class=\"data row0 col3\" >terminal capping</td>\n",
       "      <td id=\"T_1936d_row0_col4\" class=\"data row0 col4\" >6</td>\n",
       "      <td id=\"T_1936d_row0_col5\" class=\"data row0 col5\" >0</td>\n",
       "      <td id=\"T_1936d_row0_col6\" class=\"data row0 col6\" >0</td>\n",
       "      <td id=\"T_1936d_row0_col7\" class=\"data row0 col7\" >0</td>\n",
       "      <td id=\"T_1936d_row0_col8\" class=\"data row0 col8\" >peptide</td>\n",
       "      <td id=\"T_1936d_row0_col9\" class=\"data row0 col9\" >0</td>\n",
       "      <td id=\"T_1936d_row0_col10\" class=\"data row0 col10\" >Peptide_0</td>\n",
       "    </tr>\n",
       "    <tr>\n",
       "      <td id=\"T_1936d_row1_col0\" class=\"data row1 col0\" >1</td>\n",
       "      <td id=\"T_1936d_row1_col1\" class=\"data row1 col1\" >1</td>\n",
       "      <td id=\"T_1936d_row1_col2\" class=\"data row1 col2\" >ALA</td>\n",
       "      <td id=\"T_1936d_row1_col3\" class=\"data row1 col3\" >aminoacid</td>\n",
       "      <td id=\"T_1936d_row1_col4\" class=\"data row1 col4\" >10</td>\n",
       "      <td id=\"T_1936d_row1_col5\" class=\"data row1 col5\" >0</td>\n",
       "      <td id=\"T_1936d_row1_col6\" class=\"data row1 col6\" >0</td>\n",
       "      <td id=\"T_1936d_row1_col7\" class=\"data row1 col7\" >0</td>\n",
       "      <td id=\"T_1936d_row1_col8\" class=\"data row1 col8\" >peptide</td>\n",
       "      <td id=\"T_1936d_row1_col9\" class=\"data row1 col9\" >0</td>\n",
       "      <td id=\"T_1936d_row1_col10\" class=\"data row1 col10\" >Peptide_0</td>\n",
       "    </tr>\n",
       "    <tr>\n",
       "      <td id=\"T_1936d_row2_col0\" class=\"data row2 col0\" >2</td>\n",
       "      <td id=\"T_1936d_row2_col1\" class=\"data row2 col1\" >2</td>\n",
       "      <td id=\"T_1936d_row2_col2\" class=\"data row2 col2\" >VAL</td>\n",
       "      <td id=\"T_1936d_row2_col3\" class=\"data row2 col3\" >aminoacid</td>\n",
       "      <td id=\"T_1936d_row2_col4\" class=\"data row2 col4\" >16</td>\n",
       "      <td id=\"T_1936d_row2_col5\" class=\"data row2 col5\" >0</td>\n",
       "      <td id=\"T_1936d_row2_col6\" class=\"data row2 col6\" >0</td>\n",
       "      <td id=\"T_1936d_row2_col7\" class=\"data row2 col7\" >0</td>\n",
       "      <td id=\"T_1936d_row2_col8\" class=\"data row2 col8\" >peptide</td>\n",
       "      <td id=\"T_1936d_row2_col9\" class=\"data row2 col9\" >0</td>\n",
       "      <td id=\"T_1936d_row2_col10\" class=\"data row2 col10\" >Peptide_0</td>\n",
       "    </tr>\n",
       "    <tr>\n",
       "      <td id=\"T_1936d_row3_col0\" class=\"data row3 col0\" >3</td>\n",
       "      <td id=\"T_1936d_row3_col1\" class=\"data row3 col1\" >3</td>\n",
       "      <td id=\"T_1936d_row3_col2\" class=\"data row3 col2\" >PRO</td>\n",
       "      <td id=\"T_1936d_row3_col3\" class=\"data row3 col3\" >aminoacid</td>\n",
       "      <td id=\"T_1936d_row3_col4\" class=\"data row3 col4\" >14</td>\n",
       "      <td id=\"T_1936d_row3_col5\" class=\"data row3 col5\" >0</td>\n",
       "      <td id=\"T_1936d_row3_col6\" class=\"data row3 col6\" >0</td>\n",
       "      <td id=\"T_1936d_row3_col7\" class=\"data row3 col7\" >0</td>\n",
       "      <td id=\"T_1936d_row3_col8\" class=\"data row3 col8\" >peptide</td>\n",
       "      <td id=\"T_1936d_row3_col9\" class=\"data row3 col9\" >0</td>\n",
       "      <td id=\"T_1936d_row3_col10\" class=\"data row3 col10\" >Peptide_0</td>\n",
       "    </tr>\n",
       "    <tr>\n",
       "      <td id=\"T_1936d_row4_col0\" class=\"data row4 col0\" >4</td>\n",
       "      <td id=\"T_1936d_row4_col1\" class=\"data row4 col1\" >4</td>\n",
       "      <td id=\"T_1936d_row4_col2\" class=\"data row4 col2\" >NME</td>\n",
       "      <td id=\"T_1936d_row4_col3\" class=\"data row4 col3\" >terminal capping</td>\n",
       "      <td id=\"T_1936d_row4_col4\" class=\"data row4 col4\" >6</td>\n",
       "      <td id=\"T_1936d_row4_col5\" class=\"data row4 col5\" >0</td>\n",
       "      <td id=\"T_1936d_row4_col6\" class=\"data row4 col6\" >0</td>\n",
       "      <td id=\"T_1936d_row4_col7\" class=\"data row4 col7\" >0</td>\n",
       "      <td id=\"T_1936d_row4_col8\" class=\"data row4 col8\" >peptide</td>\n",
       "      <td id=\"T_1936d_row4_col9\" class=\"data row4 col9\" >0</td>\n",
       "      <td id=\"T_1936d_row4_col10\" class=\"data row4 col10\" >Peptide_0</td>\n",
       "    </tr>\n",
       "  </tbody>\n",
       "</table>\n"
      ],
      "text/plain": [
       "<pandas.io.formats.style.Styler at 0x7fb0986e9550>"
      ]
     },
     "execution_count": 10,
     "metadata": {},
     "output_type": "execute_result"
    }
   ],
   "source": [
    "msm.info(molecular_system_capped, element='group')"
   ]
  },
  {
   "cell_type": "code",
   "execution_count": 11,
   "metadata": {},
   "outputs": [
    {
     "ename": "NotImplementedMethodError",
     "evalue": "The \"to_openmm_System\" method has not been implemented yet in the way you are using it. Check  for more information. If you still want to suggest its implementation, open a new issue in https://github.com/uibcdf/MolSysMT/issues",
     "output_type": "error",
     "traceback": [
      "\u001b[0;31m---------------------------------------------------------------------------\u001b[0m",
      "\u001b[0;31mNotImplementedMethodError\u001b[0m                 Traceback (most recent call last)",
      "\u001b[0;32m/tmp/ipykernel_1513918/2361405296.py\u001b[0m in \u001b[0;36m<module>\u001b[0;34m\u001b[0m\n\u001b[0;32m----> 1\u001b[0;31m \u001b[0mmsm\u001b[0m\u001b[0;34m.\u001b[0m\u001b[0mphyschem\u001b[0m\u001b[0;34m.\u001b[0m\u001b[0mcharge\u001b[0m\u001b[0;34m(\u001b[0m\u001b[0;34m[\u001b[0m\u001b[0mmolecular_system_capped\u001b[0m\u001b[0;34m,\u001b[0m \u001b[0;34m{\u001b[0m\u001b[0;34m'forcefield'\u001b[0m\u001b[0;34m:\u001b[0m\u001b[0;34m'AMBER14'\u001b[0m\u001b[0;34m}\u001b[0m\u001b[0;34m]\u001b[0m\u001b[0;34m,\u001b[0m \u001b[0melement\u001b[0m\u001b[0;34m=\u001b[0m\u001b[0;34m'group'\u001b[0m\u001b[0;34m)\u001b[0m\u001b[0;34m\u001b[0m\u001b[0;34m\u001b[0m\u001b[0m\n\u001b[0m",
      "\u001b[0;32m~/projects/MolSysMT/molsysmt/physchem/charge.py\u001b[0m in \u001b[0;36mcharge\u001b[0;34m(molecular_system, element, selection, definition, engine, syntaxis, check)\u001b[0m\n\u001b[1;32m     62\u001b[0m             \u001b[0;32mfrom\u001b[0m \u001b[0mopenmm\u001b[0m \u001b[0;32mimport\u001b[0m \u001b[0mNonbondedForce\u001b[0m\u001b[0;34m\u001b[0m\u001b[0;34m\u001b[0m\u001b[0m\n\u001b[1;32m     63\u001b[0m \u001b[0;34m\u001b[0m\u001b[0m\n\u001b[0;32m---> 64\u001b[0;31m             \u001b[0mopenmm_system\u001b[0m \u001b[0;34m=\u001b[0m \u001b[0mconvert\u001b[0m\u001b[0;34m(\u001b[0m\u001b[0mmolecular_system\u001b[0m\u001b[0;34m,\u001b[0m \u001b[0mto_form\u001b[0m\u001b[0;34m=\u001b[0m\u001b[0;34m'openmm.System'\u001b[0m\u001b[0;34m)\u001b[0m\u001b[0;34m\u001b[0m\u001b[0;34m\u001b[0m\u001b[0m\n\u001b[0m\u001b[1;32m     65\u001b[0m \u001b[0;34m\u001b[0m\u001b[0m\n\u001b[1;32m     66\u001b[0m             \u001b[0moutput\u001b[0m \u001b[0;34m=\u001b[0m \u001b[0;34m[\u001b[0m\u001b[0;34m]\u001b[0m\u001b[0;34m\u001b[0m\u001b[0;34m\u001b[0m\u001b[0m\n",
      "\u001b[0;32m~/projects/MolSysMT/molsysmt/basic/convert.py\u001b[0m in \u001b[0;36mconvert\u001b[0;34m(molecular_system, to_form, selection, structure_indices, syntaxis, check, **kwargs)\u001b[0m\n\u001b[1;32m    120\u001b[0m                 \u001b[0;32mif\u001b[0m \u001b[0mto_form\u001b[0m \u001b[0;32min\u001b[0m \u001b[0mdict_convert\u001b[0m\u001b[0;34m[\u001b[0m\u001b[0mfrom_form\u001b[0m\u001b[0;34m]\u001b[0m\u001b[0;34m:\u001b[0m\u001b[0;34m\u001b[0m\u001b[0;34m\u001b[0m\u001b[0m\n\u001b[1;32m    121\u001b[0m                     tmp_item = dict_convert[from_form][to_form](item, molecular_system=molecular_system, atom_indices=atom_indices,\n\u001b[0;32m--> 122\u001b[0;31m                                                                 structure_indices=structure_indices, **conversion_arguments, **kwargs)\n\u001b[0m\u001b[1;32m    123\u001b[0m         \u001b[0;32mif\u001b[0m \u001b[0mtmp_item\u001b[0m \u001b[0;32mis\u001b[0m \u001b[0;32mnot\u001b[0m \u001b[0;32mNone\u001b[0m\u001b[0;34m:\u001b[0m\u001b[0;34m\u001b[0m\u001b[0;34m\u001b[0m\u001b[0m\n\u001b[1;32m    124\u001b[0m             \u001b[0;32mbreak\u001b[0m\u001b[0;34m\u001b[0m\u001b[0;34m\u001b[0m\u001b[0m\n",
      "\u001b[0;32m~/projects/MolSysMT/molsysmt/api_forms/api_molsysmt_MolSys.py\u001b[0m in \u001b[0;36mto_openmm_System\u001b[0;34m(item, molecular_system, atom_indices, structure_indices)\u001b[0m\n\u001b[1;32m    175\u001b[0m     \u001b[0;32mfrom\u001b[0m \u001b[0mmolsysmt\u001b[0m\u001b[0;34m.\u001b[0m\u001b[0mitem\u001b[0m\u001b[0;34m.\u001b[0m\u001b[0mmolsysmt_MolSys\u001b[0m \u001b[0;32mimport\u001b[0m \u001b[0mto_openmm_System\u001b[0m \u001b[0;32mas\u001b[0m \u001b[0mmolsysmt_MolSys_to_openmm_System\u001b[0m\u001b[0;34m\u001b[0m\u001b[0;34m\u001b[0m\u001b[0m\n\u001b[1;32m    176\u001b[0m \u001b[0;34m\u001b[0m\u001b[0m\n\u001b[0;32m--> 177\u001b[0;31m     \u001b[0mtmp_item\u001b[0m \u001b[0;34m=\u001b[0m \u001b[0mmolsysmt_MolSys_to_openmm_System\u001b[0m\u001b[0;34m(\u001b[0m\u001b[0mitem\u001b[0m\u001b[0;34m,\u001b[0m \u001b[0matom_indices\u001b[0m\u001b[0;34m=\u001b[0m\u001b[0matom_indices\u001b[0m\u001b[0;34m,\u001b[0m \u001b[0mstructure_indices\u001b[0m\u001b[0;34m=\u001b[0m\u001b[0mstructure_indices\u001b[0m\u001b[0;34m,\u001b[0m \u001b[0mcheck\u001b[0m\u001b[0;34m=\u001b[0m\u001b[0;32mFalse\u001b[0m\u001b[0;34m)\u001b[0m\u001b[0;34m\u001b[0m\u001b[0;34m\u001b[0m\u001b[0m\n\u001b[0m\u001b[1;32m    178\u001b[0m \u001b[0;34m\u001b[0m\u001b[0m\n\u001b[1;32m    179\u001b[0m     \u001b[0;32mreturn\u001b[0m \u001b[0mtmp_item\u001b[0m\u001b[0;34m\u001b[0m\u001b[0;34m\u001b[0m\u001b[0m\n",
      "\u001b[0;32m~/projects/MolSysMT/molsysmt/item/molsysmt_MolSys/to_openmm_System.py\u001b[0m in \u001b[0;36mto_openmm_System\u001b[0;34m(item, atom_indices, structure_indices, check)\u001b[0m\n\u001b[1;32m     14\u001b[0m \u001b[0;34m\u001b[0m\u001b[0m\n\u001b[1;32m     15\u001b[0m     \u001b[0mtmp_item\u001b[0m \u001b[0;34m=\u001b[0m \u001b[0mto_openmm_Topology\u001b[0m\u001b[0;34m(\u001b[0m\u001b[0mitem\u001b[0m\u001b[0;34m,\u001b[0m \u001b[0matom_indices\u001b[0m\u001b[0;34m=\u001b[0m\u001b[0matom_indices\u001b[0m\u001b[0;34m,\u001b[0m \u001b[0mstructure_indices\u001b[0m\u001b[0;34m=\u001b[0m\u001b[0mstructure_indices\u001b[0m\u001b[0;34m,\u001b[0m \u001b[0mcheck\u001b[0m\u001b[0;34m=\u001b[0m\u001b[0;32mFalse\u001b[0m\u001b[0;34m)\u001b[0m\u001b[0;34m\u001b[0m\u001b[0;34m\u001b[0m\u001b[0m\n\u001b[0;32m---> 16\u001b[0;31m     \u001b[0mtmp_item\u001b[0m \u001b[0;34m=\u001b[0m \u001b[0mopenmm_Topology_to_openmm_System\u001b[0m\u001b[0;34m(\u001b[0m\u001b[0mtmp_item\u001b[0m\u001b[0;34m,\u001b[0m \u001b[0mcheck\u001b[0m\u001b[0;34m=\u001b[0m\u001b[0;32mFalse\u001b[0m\u001b[0;34m)\u001b[0m\u001b[0;34m\u001b[0m\u001b[0;34m\u001b[0m\u001b[0m\n\u001b[0m\u001b[1;32m     17\u001b[0m \u001b[0;34m\u001b[0m\u001b[0m\n\u001b[1;32m     18\u001b[0m     \u001b[0;32mreturn\u001b[0m \u001b[0mtmp_item\u001b[0m\u001b[0;34m\u001b[0m\u001b[0;34m\u001b[0m\u001b[0m\n",
      "\u001b[0;32m~/projects/MolSysMT/molsysmt/item/openmm_Topology/to_openmm_System.py\u001b[0m in \u001b[0;36mto_openmm_System\u001b[0;34m(item, atom_indices, forcefield, parameters, check)\u001b[0m\n\u001b[1;32m     24\u001b[0m     \u001b[0;31m#return tmp_item\u001b[0m\u001b[0;34m\u001b[0m\u001b[0;34m\u001b[0m\u001b[0;34m\u001b[0m\u001b[0m\n\u001b[1;32m     25\u001b[0m \u001b[0;34m\u001b[0m\u001b[0m\n\u001b[0;32m---> 26\u001b[0;31m     \u001b[0;32mraise\u001b[0m \u001b[0mNotImplementedMethodError\u001b[0m\u001b[0;34m\u001b[0m\u001b[0;34m\u001b[0m\u001b[0m\n\u001b[0m\u001b[1;32m     27\u001b[0m     \u001b[0;32mpass\u001b[0m\u001b[0;34m\u001b[0m\u001b[0;34m\u001b[0m\u001b[0m\n",
      "\u001b[0;31mNotImplementedMethodError\u001b[0m: The \"to_openmm_System\" method has not been implemented yet in the way you are using it. Check  for more information. If you still want to suggest its implementation, open a new issue in https://github.com/uibcdf/MolSysMT/issues"
     ]
    }
   ],
   "source": [
    "msm.physchem.charge([molecular_system_capped, {'forcefield':'AMBER14'}], element='group')"
   ]
  },
  {
   "cell_type": "code",
   "execution_count": null,
   "metadata": {},
   "outputs": [],
   "source": []
  }
 ],
 "metadata": {
  "kernelspec": {
   "display_name": "Python 3 (ipykernel)",
   "language": "python",
   "name": "python3"
  },
  "language_info": {
   "codemirror_mode": {
    "name": "ipython",
    "version": 3
   },
   "file_extension": ".py",
   "mimetype": "text/x-python",
   "name": "python",
   "nbconvert_exporter": "python",
   "pygments_lexer": "ipython3",
   "version": "3.7.12"
  }
 },
 "nbformat": 4,
 "nbformat_minor": 4
}