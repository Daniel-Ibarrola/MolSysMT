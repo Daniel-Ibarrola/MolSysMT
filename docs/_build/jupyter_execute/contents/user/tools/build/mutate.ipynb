{
 "cells": [
  {
   "cell_type": "code",
   "execution_count": 1,
   "id": "3a670d73-befa-434d-bf72-b71a6b7f1e1e",
   "metadata": {},
   "outputs": [],
   "source": [
    "%load_ext autoreload\n",
    "%autoreload 2"
   ]
  },
  {
   "cell_type": "code",
   "execution_count": 2,
   "id": "56b1dd6d-6f0d-4ed8-aa6e-c83c706a712b",
   "metadata": {},
   "outputs": [
    {
     "data": {
      "application/vnd.jupyter.widget-view+json": {
       "model_id": "6a13058fc5a947059e198bdb426766ee",
       "version_major": 2,
       "version_minor": 0
      },
      "text/plain": []
     },
     "metadata": {},
     "output_type": "display_data"
    }
   ],
   "source": [
    "import molsysmt as msm"
   ]
  },
  {
   "cell_type": "markdown",
   "id": "f281984a-077c-4412-8abe-1477a8f39816",
   "metadata": {},
   "source": [
    "# Mutate"
   ]
  },
  {
   "cell_type": "code",
   "execution_count": 3,
   "id": "f6a148d6-189f-49bd-8bfd-02099816010f",
   "metadata": {},
   "outputs": [],
   "source": [
    "molecular_system = msm.convert(msm.demo['Met-enkephalin']['vacuum.msmpk'], to_form='molsysmt.MolSys')"
   ]
  },
  {
   "cell_type": "code",
   "execution_count": 4,
   "id": "5d3f8462-fd1c-40ef-adfd-d9a2fb8e688b",
   "metadata": {},
   "outputs": [
    {
     "data": {
      "text/plain": [
       "'TyrGlyGlyPheMet'"
      ]
     },
     "execution_count": 4,
     "metadata": {},
     "output_type": "execute_result"
    }
   ],
   "source": [
    "msm.convert(molecular_system, to_form='string:aminoacids3')"
   ]
  },
  {
   "cell_type": "code",
   "execution_count": 5,
   "id": "28910ada-4efc-4a6c-9a72-e6c4b4237bf6",
   "metadata": {},
   "outputs": [],
   "source": [
    "molecular_system = msm.build.mutate(molecular_system, residue_indices=[1,2],\n",
    "                                    to_residue_names=['ALA', 'VAL'])"
   ]
  },
  {
   "cell_type": "code",
   "execution_count": 6,
   "id": "e3b73b6a-9b3b-470a-8062-cf826d0fdd23",
   "metadata": {},
   "outputs": [
    {
     "data": {
      "text/plain": [
       "'TyrAlaValPheMet'"
      ]
     },
     "execution_count": 6,
     "metadata": {},
     "output_type": "execute_result"
    }
   ],
   "source": [
    "msm.convert(molecular_system, to_form='string:aminoacids3')"
   ]
  },
  {
   "cell_type": "code",
   "execution_count": null,
   "id": "9f209b28-4c4b-460f-8420-6072a4d196e8",
   "metadata": {},
   "outputs": [],
   "source": []
  }
 ],
 "metadata": {
  "kernelspec": {
   "display_name": "Python 3 (ipykernel)",
   "language": "python",
   "name": "python3"
  },
  "language_info": {
   "codemirror_mode": {
    "name": "ipython",
    "version": 3
   },
   "file_extension": ".py",
   "mimetype": "text/x-python",
   "name": "python",
   "nbconvert_exporter": "python",
   "pygments_lexer": "ipython3",
   "version": "3.7.12"
  },
  "widgets": {
   "application/vnd.jupyter.widget-state+json": {
    "state": {
     "5974b4cba06d43e992b61b6496ee4317": {
      "model_module": "@jupyter-widgets/base",
      "model_module_version": "1.2.0",
      "model_name": "LayoutModel",
      "state": {
       "_model_module": "@jupyter-widgets/base",
       "_model_module_version": "1.2.0",
       "_model_name": "LayoutModel",
       "_view_count": null,
       "_view_module": "@jupyter-widgets/base",
       "_view_module_version": "1.2.0",
       "_view_name": "LayoutView",
       "align_content": null,
       "align_items": null,
       "align_self": null,
       "border": null,
       "bottom": null,
       "display": null,
       "flex": null,
       "flex_flow": null,
       "grid_area": null,
       "grid_auto_columns": null,
       "grid_auto_flow": null,
       "grid_auto_rows": null,
       "grid_column": null,
       "grid_gap": null,
       "grid_row": null,
       "grid_template_areas": null,
       "grid_template_columns": null,
       "grid_template_rows": null,
       "height": null,
       "justify_content": null,
       "justify_items": null,
       "left": null,
       "margin": null,
       "max_height": null,
       "max_width": null,
       "min_height": null,
       "min_width": null,
       "object_fit": null,
       "object_position": null,
       "order": null,
       "overflow": null,
       "overflow_x": null,
       "overflow_y": null,
       "padding": null,
       "right": null,
       "top": null,
       "visibility": null,
       "width": null
      }
     },
     "6a13058fc5a947059e198bdb426766ee": {
      "model_module": "nglview-js-widgets",
      "model_module_version": "3.0.1",
      "model_name": "ColormakerRegistryModel",
      "state": {
       "_dom_classes": [],
       "_model_module": "nglview-js-widgets",
       "_model_module_version": "3.0.1",
       "_model_name": "ColormakerRegistryModel",
       "_msg_ar": [],
       "_msg_q": [],
       "_ready": false,
       "_view_count": null,
       "_view_module": "nglview-js-widgets",
       "_view_module_version": "3.0.1",
       "_view_name": "ColormakerRegistryView",
       "layout": "IPY_MODEL_5974b4cba06d43e992b61b6496ee4317"
      }
     }
    },
    "version_major": 2,
    "version_minor": 0
   }
  }
 },
 "nbformat": 4,
 "nbformat_minor": 5
}