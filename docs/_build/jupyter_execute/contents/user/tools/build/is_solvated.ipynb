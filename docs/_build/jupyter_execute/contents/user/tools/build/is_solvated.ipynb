{
 "cells": [
  {
   "cell_type": "code",
   "execution_count": 1,
   "id": "62a9159a-8347-4dff-b4e2-8e7dccf16322",
   "metadata": {},
   "outputs": [],
   "source": [
    "%load_ext autoreload\n",
    "%autoreload 2"
   ]
  },
  {
   "cell_type": "code",
   "execution_count": 2,
   "id": "5d5a6cea-c1ce-4e37-8290-88e4eb449542",
   "metadata": {},
   "outputs": [
    {
     "data": {
      "application/vnd.jupyter.widget-view+json": {
       "model_id": "ec0ecbce072447c1aab32aa769a881c1",
       "version_major": 2,
       "version_minor": 0
      },
      "text/plain": []
     },
     "metadata": {},
     "output_type": "display_data"
    }
   ],
   "source": [
    "import molsysmt as msm"
   ]
  },
  {
   "cell_type": "markdown",
   "id": "386916cd-3ab0-4cd5-b72f-784fb291d9b7",
   "metadata": {},
   "source": [
    "# Is solvated"
   ]
  },
  {
   "cell_type": "code",
   "execution_count": 3,
   "id": "9dd4b587-d504-4ddb-bdc1-6f158fd4343d",
   "metadata": {},
   "outputs": [],
   "source": [
    "molsys = msm.convert(msm.demo['Met-enkephalin']['vacuum.msmpk'], to_form='molsysmt.MolSys')"
   ]
  },
  {
   "cell_type": "code",
   "execution_count": 4,
   "id": "d36dcf1e-4391-4ff3-bd78-11fbbf5a72f2",
   "metadata": {},
   "outputs": [
    {
     "ename": "AttributeError",
     "evalue": "module 'molsysmt.build' has no attribute 'add_terminal_cappings'",
     "output_type": "error",
     "traceback": [
      "\u001b[0;31m---------------------------------------------------------------------------\u001b[0m",
      "\u001b[0;31mAttributeError\u001b[0m                            Traceback (most recent call last)",
      "\u001b[0;32m/tmp/ipykernel_11817/588179869.py\u001b[0m in \u001b[0;36m<module>\u001b[0;34m\u001b[0m\n\u001b[0;32m----> 1\u001b[0;31m \u001b[0mmolsys\u001b[0m \u001b[0;34m=\u001b[0m \u001b[0mmsm\u001b[0m\u001b[0;34m.\u001b[0m\u001b[0mbuild\u001b[0m\u001b[0;34m.\u001b[0m\u001b[0madd_terminal_cappings\u001b[0m\u001b[0;34m(\u001b[0m\u001b[0mmolsys\u001b[0m\u001b[0;34m)\u001b[0m\u001b[0;34m\u001b[0m\u001b[0;34m\u001b[0m\u001b[0m\n\u001b[0m",
      "\u001b[0;31mAttributeError\u001b[0m: module 'molsysmt.build' has no attribute 'add_terminal_cappings'"
     ]
    }
   ],
   "source": [
    "molsys = msm.build.add_terminal_cappings(molsys)"
   ]
  },
  {
   "cell_type": "code",
   "execution_count": null,
   "id": "e092ac8f-3824-47e5-b61c-e3fd9a746667",
   "metadata": {},
   "outputs": [],
   "source": [
    "molsys = msm.build.add_hydrogens(molsys)"
   ]
  },
  {
   "cell_type": "code",
   "execution_count": null,
   "id": "0a9716f0-49c9-439a-a9ff-09a7abdd158e",
   "metadata": {},
   "outputs": [],
   "source": [
    "msm.build.is_solvated(molsys)"
   ]
  },
  {
   "cell_type": "code",
   "execution_count": null,
   "id": "408b416d-38c9-43e7-a6de-60c3ce97b983",
   "metadata": {},
   "outputs": [],
   "source": [
    "molsys = msm.build.solvate([molsys, {'forcefield':'AMBER14', 'water_model':'TIP3P'}],\n",
    "                            box_geometry='cubic', clearance='14.0 angstroms',\n",
    "                            to_form='molsysmt.MolSys', engine=\"OpenMM\", verbose=False)"
   ]
  },
  {
   "cell_type": "code",
   "execution_count": null,
   "id": "44f7d05d-2ec0-4f63-bf5b-5272bd3a1dd6",
   "metadata": {},
   "outputs": [],
   "source": [
    "msm.build.is_solvated(molsys)"
   ]
  },
  {
   "cell_type": "code",
   "execution_count": null,
   "id": "3fc4b87e-69e4-44d8-8ff7-6a6d3bb65cad",
   "metadata": {},
   "outputs": [],
   "source": []
  },
  {
   "cell_type": "code",
   "execution_count": null,
   "id": "b0abf26d-a3ae-4353-ba0e-595696a4c02f",
   "metadata": {},
   "outputs": [],
   "source": []
  }
 ],
 "metadata": {
  "kernelspec": {
   "display_name": "Python 3 (ipykernel)",
   "language": "python",
   "name": "python3"
  },
  "language_info": {
   "codemirror_mode": {
    "name": "ipython",
    "version": 3
   },
   "file_extension": ".py",
   "mimetype": "text/x-python",
   "name": "python",
   "nbconvert_exporter": "python",
   "pygments_lexer": "ipython3",
   "version": "3.7.12"
  }
 },
 "nbformat": 4,
 "nbformat_minor": 5
}