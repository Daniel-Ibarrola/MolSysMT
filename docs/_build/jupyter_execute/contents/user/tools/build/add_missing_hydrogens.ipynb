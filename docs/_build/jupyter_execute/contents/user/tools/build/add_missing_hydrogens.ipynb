{
 "cells": [
  {
   "cell_type": "code",
   "execution_count": 1,
   "id": "1d4d64d7-d46a-421b-96a5-62da89b6365a",
   "metadata": {},
   "outputs": [],
   "source": [
    "%load_ext autoreload\n",
    "%autoreload 2"
   ]
  },
  {
   "cell_type": "code",
   "execution_count": 2,
   "id": "d769e0ee-2ccc-4c17-bfa0-9bbc96a248a4",
   "metadata": {},
   "outputs": [
    {
     "data": {
      "application/vnd.jupyter.widget-view+json": {
       "model_id": "826e79899a194089abbdb090ad6af962",
       "version_major": 2,
       "version_minor": 0
      },
      "text/plain": []
     },
     "metadata": {},
     "output_type": "display_data"
    }
   ],
   "source": [
    "import molsysmt as msm"
   ]
  },
  {
   "cell_type": "markdown",
   "id": "033f9485-5d88-4058-bf9d-50fbc98ef609",
   "metadata": {},
   "source": [
    "# Add missing hydrogens"
   ]
  },
  {
   "cell_type": "code",
   "execution_count": 3,
   "id": "b1e1c738-9fe3-4721-aaad-aafa0c95c5b8",
   "metadata": {},
   "outputs": [
    {
     "name": "stderr",
     "output_type": "stream",
     "text": [
      "/home/diego/projects-uibcdf/MolSysMT/molsysmt/item/mmtf_MMTFDecoder/to_molsysmt_Topology.py:34: UserWarning: The structure in the PDB has biological assemblies. There are geometrical transformations proposed in the structure. See the following issue in the source code repository: https://github.com/uibcdf/MolSysMT/issues/33\n",
      "  warnings.warn(warning_message)\n"
     ]
    }
   ],
   "source": [
    "molecular_system = msm.demo['TcTIM']['1tcd.mmtf']\n",
    "molecular_system = msm.convert(molecular_system, to_form='molsysmt.MolSys')"
   ]
  },
  {
   "cell_type": "code",
   "execution_count": 4,
   "id": "98758094-ec9f-47b9-94b2-e05c1739d4ae",
   "metadata": {},
   "outputs": [
    {
     "data": {
      "text/plain": [
       "False"
      ]
     },
     "execution_count": 4,
     "metadata": {},
     "output_type": "execute_result"
    }
   ],
   "source": [
    "msm.contains(molecular_system, hydrogens=True)"
   ]
  },
  {
   "cell_type": "code",
   "execution_count": 5,
   "id": "a926b595-214a-40c8-911e-98d108ec4090",
   "metadata": {},
   "outputs": [
    {
     "name": "stdout",
     "output_type": "stream",
     "text": [
      "0 hydrogens in the system\n"
     ]
    }
   ],
   "source": [
    "n_Hs = msm.get(molecular_system, element='atom', selection='atom_type==\"H\"', n_atoms=True)\n",
    "print('{} hydrogens in the system'.format(n_Hs))"
   ]
  },
  {
   "cell_type": "code",
   "execution_count": 6,
   "id": "9d3a9b38-8ebf-4738-a9a3-9586cd4c9d4d",
   "metadata": {},
   "outputs": [],
   "source": [
    "molecular_system = msm.build.add_missing_hydrogens(molecular_system, pH=7.4, engine='OpenMM')"
   ]
  },
  {
   "cell_type": "code",
   "execution_count": 7,
   "id": "dae0d0fc-5085-4c73-a8d4-bc97b4bcf87a",
   "metadata": {},
   "outputs": [
    {
     "data": {
      "text/plain": [
       "True"
      ]
     },
     "execution_count": 7,
     "metadata": {},
     "output_type": "execute_result"
    }
   ],
   "source": [
    "msm.contains(molecular_system, hydrogens=True)"
   ]
  },
  {
   "cell_type": "code",
   "execution_count": 8,
   "id": "a780573d-c394-4ff5-99b4-49db5fd6decb",
   "metadata": {},
   "outputs": [
    {
     "name": "stdout",
     "output_type": "stream",
     "text": [
      "4219 hydrogens in the system\n"
     ]
    }
   ],
   "source": [
    "n_Hs = msm.get(molecular_system, element='atom', selection='atom_type==\"H\"', n_atoms=True)\n",
    "print('{} hydrogens in the system'.format(n_Hs))"
   ]
  },
  {
   "cell_type": "code",
   "execution_count": null,
   "id": "7dfe4026-c15a-478c-a369-428b62cdd91f",
   "metadata": {},
   "outputs": [],
   "source": []
  }
 ],
 "metadata": {
  "kernelspec": {
   "display_name": "Python 3 (ipykernel)",
   "language": "python",
   "name": "python3"
  },
  "language_info": {
   "codemirror_mode": {
    "name": "ipython",
    "version": 3
   },
   "file_extension": ".py",
   "mimetype": "text/x-python",
   "name": "python",
   "nbconvert_exporter": "python",
   "pygments_lexer": "ipython3",
   "version": "3.7.12"
  },
  "widgets": {
   "application/vnd.jupyter.widget-state+json": {
    "state": {
     "826e79899a194089abbdb090ad6af962": {
      "model_module": "nglview-js-widgets",
      "model_module_version": "3.0.1",
      "model_name": "ColormakerRegistryModel",
      "state": {
       "_dom_classes": [],
       "_model_module": "nglview-js-widgets",
       "_model_module_version": "3.0.1",
       "_model_name": "ColormakerRegistryModel",
       "_msg_ar": [],
       "_msg_q": [],
       "_ready": false,
       "_view_count": null,
       "_view_module": "nglview-js-widgets",
       "_view_module_version": "3.0.1",
       "_view_name": "ColormakerRegistryView",
       "layout": "IPY_MODEL_e940c6a7bbda4b11959ce6b466ff55de"
      }
     },
     "e940c6a7bbda4b11959ce6b466ff55de": {
      "model_module": "@jupyter-widgets/base",
      "model_module_version": "1.2.0",
      "model_name": "LayoutModel",
      "state": {
       "_model_module": "@jupyter-widgets/base",
       "_model_module_version": "1.2.0",
       "_model_name": "LayoutModel",
       "_view_count": null,
       "_view_module": "@jupyter-widgets/base",
       "_view_module_version": "1.2.0",
       "_view_name": "LayoutView",
       "align_content": null,
       "align_items": null,
       "align_self": null,
       "border": null,
       "bottom": null,
       "display": null,
       "flex": null,
       "flex_flow": null,
       "grid_area": null,
       "grid_auto_columns": null,
       "grid_auto_flow": null,
       "grid_auto_rows": null,
       "grid_column": null,
       "grid_gap": null,
       "grid_row": null,
       "grid_template_areas": null,
       "grid_template_columns": null,
       "grid_template_rows": null,
       "height": null,
       "justify_content": null,
       "justify_items": null,
       "left": null,
       "margin": null,
       "max_height": null,
       "max_width": null,
       "min_height": null,
       "min_width": null,
       "object_fit": null,
       "object_position": null,
       "order": null,
       "overflow": null,
       "overflow_x": null,
       "overflow_y": null,
       "padding": null,
       "right": null,
       "top": null,
       "visibility": null,
       "width": null
      }
     }
    },
    "version_major": 2,
    "version_minor": 0
   }
  }
 },
 "nbformat": 4,
 "nbformat_minor": 5
}