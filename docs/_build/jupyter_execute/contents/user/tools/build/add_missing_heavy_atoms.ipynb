{
 "cells": [
  {
   "cell_type": "code",
   "execution_count": 1,
   "id": "1c11382e-f67d-466e-aee6-5725b4200a69",
   "metadata": {},
   "outputs": [],
   "source": [
    "%load_ext autoreload\n",
    "%autoreload 2"
   ]
  },
  {
   "cell_type": "code",
   "execution_count": 2,
   "id": "3775837e-62a7-4079-9661-372cc4563718",
   "metadata": {},
   "outputs": [
    {
     "data": {
      "application/vnd.jupyter.widget-view+json": {
       "model_id": "05811b94ece844d3a220cab9bddc9c29",
       "version_major": 2,
       "version_minor": 0
      },
      "text/plain": []
     },
     "metadata": {},
     "output_type": "display_data"
    }
   ],
   "source": [
    "import molsysmt as msm"
   ]
  },
  {
   "cell_type": "markdown",
   "id": "2f6cd114-c906-428f-b51f-3f7ff6267132",
   "metadata": {},
   "source": [
    "# Add missing heavy atoms"
   ]
  },
  {
   "cell_type": "code",
   "execution_count": 3,
   "id": "36127e9e-6811-4c65-bf88-b51c121b5265",
   "metadata": {},
   "outputs": [
    {
     "name": "stderr",
     "output_type": "stream",
     "text": [
      "/home/diego/projects-uibcdf/MolSysMT/molsysmt/item/mmtf_MMTFDecoder/to_molsysmt_Topology.py:34: UserWarning: The structure in the PDB has biological assemblies. There are geometrical transformations proposed in the structure. See the following issue in the source code repository: https://github.com/uibcdf/MolSysMT/issues/33\n",
      "  warnings.warn(warning_message)\n",
      "/home/diego/projects-uibcdf/MolSysMT/molsysmt/item/mmtf_MMTFDecoder/to_molsysmt_Topology.py:48: UserWarning: The bioassembly has a different number of chains than the total amount of chains\n",
      "  warnings.warn(warning_message)\n"
     ]
    }
   ],
   "source": [
    "molecular_system = msm.convert('pdb_id:1brs', to_form='molsysmt.MolSys')"
   ]
  },
  {
   "cell_type": "code",
   "execution_count": 4,
   "id": "29098771-2eec-4c05-9889-f929b7179958",
   "metadata": {},
   "outputs": [
    {
     "name": "stderr",
     "output_type": "stream",
     "text": [
      "/home/diego/MyMachine/locals/miniconda/envs/MolSysMT/lib/python3.7/site-packages/openmm/app/internal/pdbstructure.py:538: UserWarning: WARNING: duplicate atom (ATOM   2692  CB  SER D  14      32.757  22.571   1.533  1.00  0.00           C  , ATOM   2690  CB  SER D  14      32.742  22.579   1.536  1.00  0.00           C  )\n",
      "  warnings.warn(\"WARNING: duplicate atom (%s, %s)\" % (atom, old_atom._pdb_string(old_atom.serial_number, atom.alternate_location_indicator)))\n",
      "/home/diego/MyMachine/locals/miniconda/envs/MolSysMT/lib/python3.7/site-packages/openmm/app/internal/pdbstructure.py:538: UserWarning: WARNING: duplicate atom (ATOM   2693  OG  SER D  14      33.396  21.920   2.619  1.00  0.00           O  , ATOM   2691  OG  SER D  14      31.412  22.410   1.076  1.00  0.00           O  )\n",
      "  warnings.warn(\"WARNING: duplicate atom (%s, %s)\" % (atom, old_atom._pdb_string(old_atom.serial_number, atom.alternate_location_indicator)))\n"
     ]
    }
   ],
   "source": [
    "missing = msm.build.get_missing_heavy_atoms(molecular_system)"
   ]
  },
  {
   "cell_type": "code",
   "execution_count": 5,
   "id": "4aa95e7a-668e-41c5-8ccd-a7bd20334c1c",
   "metadata": {},
   "outputs": [
    {
     "data": {
      "text/plain": [
       "{234: ['CG', 'CD', 'CE', 'NZ'],\n",
       " 237: ['CG', 'OD1', 'OD2'],\n",
       " 244: ['CD', 'OE1', 'OE2'],\n",
       " 246: ['CG', 'CD', 'OE1', 'NE2'],\n",
       " 254: ['CD', 'CE', 'NZ'],\n",
       " 260: ['CG1', 'CG2'],\n",
       " 264: ['CG', 'CD', 'CE', 'NZ'],\n",
       " 282: ['OG'],\n",
       " 325: ['O'],\n",
       " 383: ['OE1', 'NE2'],\n",
       " 385: ['NZ'],\n",
       " 386: ['CG', 'CD', 'OE1', 'NE2'],\n",
       " 422: ['NE', 'CZ', 'NH1', 'NH2'],\n",
       " 429: ['CG', 'CD', 'OE1', 'NE2'],\n",
       " 465: ['NE', 'CZ', 'NH1', 'NH2'],\n",
       " 469: ['CG', 'CD', 'OE1', 'NE2'],\n",
       " 471: ['CG', 'CD', 'CE', 'NZ'],\n",
       " 472: ['CG', 'CD', 'OE1', 'NE2'],\n",
       " 473: ['CG', 'CD1', 'CD2'],\n",
       " 520: ['CD', 'CE', 'NZ'],\n",
       " 526: ['CG', 'CD', 'OE1', 'OE2'],\n",
       " 544: ['CG', 'CD', 'OE1', 'OE2'],\n",
       " 562: ['CG', 'CD', 'OE1', 'OE2'],\n",
       " 563: ['CG', 'OD1', 'ND2'],\n",
       " 587: ['O']}"
      ]
     },
     "execution_count": 5,
     "metadata": {},
     "output_type": "execute_result"
    }
   ],
   "source": [
    "missing"
   ]
  },
  {
   "cell_type": "code",
   "execution_count": 6,
   "id": "f19d2f71-88bc-4f50-93cd-1d9ba5acdb39",
   "metadata": {},
   "outputs": [
    {
     "name": "stderr",
     "output_type": "stream",
     "text": [
      "Warning: importing 'simtk.openmm' is deprecated.  Import 'openmm' instead.\n"
     ]
    }
   ],
   "source": [
    "molecular_system = msm.build.add_missing_heavy_atoms(molecular_system)"
   ]
  },
  {
   "cell_type": "code",
   "execution_count": 7,
   "id": "ef7541b8-ac18-46d3-b6c1-3bd8dc6bf930",
   "metadata": {},
   "outputs": [],
   "source": [
    "missing = msm.build.get_missing_heavy_atoms(molecular_system)"
   ]
  },
  {
   "cell_type": "code",
   "execution_count": 8,
   "id": "50ce93dd-09d5-475f-8615-b90985c3dbc8",
   "metadata": {},
   "outputs": [
    {
     "data": {
      "text/plain": [
       "{}"
      ]
     },
     "execution_count": 8,
     "metadata": {},
     "output_type": "execute_result"
    }
   ],
   "source": [
    "missing"
   ]
  },
  {
   "cell_type": "code",
   "execution_count": 9,
   "id": "337648ca-a28c-4191-aac8-6215a25be5b2",
   "metadata": {},
   "outputs": [],
   "source": [
    "aa = msm.convert(molecular_system, to_form='pdbfixer.PDBFixer')"
   ]
  },
  {
   "cell_type": "code",
   "execution_count": 10,
   "id": "ad6463cb-7898-4058-89b4-7c0067a03ea3",
   "metadata": {},
   "outputs": [],
   "source": [
    "aa.findMissingResidues()\n",
    "aa.findMissingAtoms()"
   ]
  },
  {
   "cell_type": "code",
   "execution_count": 11,
   "id": "034c384f-e530-4307-adce-0de21d13f6ba",
   "metadata": {},
   "outputs": [
    {
     "data": {
      "text/plain": [
       "{<Residue 412 (SER) of chain 3>: ['OXT']}"
      ]
     },
     "execution_count": 11,
     "metadata": {},
     "output_type": "execute_result"
    }
   ],
   "source": [
    "aa.missingTerminals"
   ]
  },
  {
   "cell_type": "code",
   "execution_count": 12,
   "id": "5ab69d67-d482-41ac-aa31-659f5ffcc950",
   "metadata": {},
   "outputs": [],
   "source": [
    "molecular_system = msm.convert('pdb_id:1brs', to_form='molsysmt.MolSys')\n",
    "molecular_system = msm.build.add_missing_heavy_atoms(molecular_system, selection='chain_index==3')\n",
    "missing = msm.build.get_missing_heavy_atoms(molecular_system)"
   ]
  },
  {
   "cell_type": "code",
   "execution_count": 13,
   "id": "92e7201e-a100-4d1a-8364-aafc8c591336",
   "metadata": {},
   "outputs": [
    {
     "data": {
      "text/plain": [
       "{234: ['CG', 'CD', 'CE', 'NZ'],\n",
       " 237: ['CG', 'OD1', 'OD2'],\n",
       " 244: ['CD', 'OE1', 'OE2'],\n",
       " 246: ['CG', 'CD', 'OE1', 'NE2'],\n",
       " 254: ['CD', 'CE', 'NZ'],\n",
       " 260: ['CG1', 'CG2'],\n",
       " 264: ['CG', 'CD', 'CE', 'NZ'],\n",
       " 282: ['OG'],\n",
       " 325: ['O'],\n",
       " 422: ['NE', 'CZ', 'NH1', 'NH2'],\n",
       " 429: ['CG', 'CD', 'OE1', 'NE2'],\n",
       " 465: ['NE', 'CZ', 'NH1', 'NH2'],\n",
       " 469: ['CG', 'CD', 'OE1', 'NE2'],\n",
       " 471: ['CG', 'CD', 'CE', 'NZ'],\n",
       " 472: ['CG', 'CD', 'OE1', 'NE2'],\n",
       " 473: ['CG', 'CD1', 'CD2'],\n",
       " 520: ['CD', 'CE', 'NZ'],\n",
       " 526: ['CG', 'CD', 'OE1', 'OE2'],\n",
       " 544: ['CG', 'CD', 'OE1', 'OE2'],\n",
       " 562: ['CG', 'CD', 'OE1', 'OE2'],\n",
       " 563: ['CG', 'OD1', 'ND2'],\n",
       " 587: ['O']}"
      ]
     },
     "execution_count": 13,
     "metadata": {},
     "output_type": "execute_result"
    }
   ],
   "source": [
    "missing"
   ]
  },
  {
   "cell_type": "code",
   "execution_count": null,
   "id": "9a49eadc-7a27-4b0d-9a88-e94b19f8f9ce",
   "metadata": {},
   "outputs": [],
   "source": []
  }
 ],
 "metadata": {
  "kernelspec": {
   "display_name": "Python 3 (ipykernel)",
   "language": "python",
   "name": "python3"
  },
  "language_info": {
   "codemirror_mode": {
    "name": "ipython",
    "version": 3
   },
   "file_extension": ".py",
   "mimetype": "text/x-python",
   "name": "python",
   "nbconvert_exporter": "python",
   "pygments_lexer": "ipython3",
   "version": "3.7.12"
  },
  "widgets": {
   "application/vnd.jupyter.widget-state+json": {
    "state": {
     "05811b94ece844d3a220cab9bddc9c29": {
      "model_module": "nglview-js-widgets",
      "model_module_version": "3.0.1",
      "model_name": "ColormakerRegistryModel",
      "state": {
       "_dom_classes": [],
       "_model_module": "nglview-js-widgets",
       "_model_module_version": "3.0.1",
       "_model_name": "ColormakerRegistryModel",
       "_msg_ar": [],
       "_msg_q": [],
       "_ready": false,
       "_view_count": null,
       "_view_module": "nglview-js-widgets",
       "_view_module_version": "3.0.1",
       "_view_name": "ColormakerRegistryView",
       "layout": "IPY_MODEL_51daca969a5d4699bfd60719be83ef4a"
      }
     },
     "51daca969a5d4699bfd60719be83ef4a": {
      "model_module": "@jupyter-widgets/base",
      "model_module_version": "1.2.0",
      "model_name": "LayoutModel",
      "state": {
       "_model_module": "@jupyter-widgets/base",
       "_model_module_version": "1.2.0",
       "_model_name": "LayoutModel",
       "_view_count": null,
       "_view_module": "@jupyter-widgets/base",
       "_view_module_version": "1.2.0",
       "_view_name": "LayoutView",
       "align_content": null,
       "align_items": null,
       "align_self": null,
       "border": null,
       "bottom": null,
       "display": null,
       "flex": null,
       "flex_flow": null,
       "grid_area": null,
       "grid_auto_columns": null,
       "grid_auto_flow": null,
       "grid_auto_rows": null,
       "grid_column": null,
       "grid_gap": null,
       "grid_row": null,
       "grid_template_areas": null,
       "grid_template_columns": null,
       "grid_template_rows": null,
       "height": null,
       "justify_content": null,
       "justify_items": null,
       "left": null,
       "margin": null,
       "max_height": null,
       "max_width": null,
       "min_height": null,
       "min_width": null,
       "object_fit": null,
       "object_position": null,
       "order": null,
       "overflow": null,
       "overflow_x": null,
       "overflow_y": null,
       "padding": null,
       "right": null,
       "top": null,
       "visibility": null,
       "width": null
      }
     }
    },
    "version_major": 2,
    "version_minor": 0
   }
  }
 },
 "nbformat": 4,
 "nbformat_minor": 5
}