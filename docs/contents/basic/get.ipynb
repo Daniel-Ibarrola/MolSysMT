{
 "cells": [
  {
   "cell_type": "code",
   "execution_count": 1,
   "metadata": {},
   "outputs": [],
   "source": [
    "%load_ext autoreload\n",
    "%autoreload 2"
   ]
  },
  {
   "cell_type": "code",
   "execution_count": 2,
   "metadata": {},
   "outputs": [
    {
     "name": "stderr",
     "output_type": "stream",
     "text": [
      "Warning: importing 'simtk.openmm' is deprecated.  Import 'openmm' instead.\n"
     ]
    },
    {
     "data": {
      "application/vnd.jupyter.widget-view+json": {
       "model_id": "7ff4e91efefb4e4491960b17e07a56ff",
       "version_major": 2,
       "version_minor": 0
      },
      "text/plain": []
     },
     "metadata": {},
     "output_type": "display_data"
    }
   ],
   "source": [
    "import molsysmt as msm"
   ]
  },
  {
   "cell_type": "markdown",
   "metadata": {},
   "source": [
    "# Get\n",
    "\n",
    "Any attribute of the elements composing a molecular system such as name, index, id or type, as well as some simple observables, can be obtained by means of the method `molsysmt.get()`. Lets load a molecular system to play a bit with it:"
   ]
  },
  {
   "cell_type": "code",
   "execution_count": 4,
   "metadata": {},
   "outputs": [],
   "source": [
    "file_path = msm.demo.files['1tcd.mmtf']"
   ]
  },
  {
   "cell_type": "code",
   "execution_count": 5,
   "metadata": {},
   "outputs": [
    {
     "name": "stderr",
     "output_type": "stream",
     "text": [
      "/home/diego/Projects/molsysmt/molsysmt/native/io/topology/classes/mmtf_MMTFDecoder.py:43: UserWarning: The structure in the PDB has biological assemblies. There are geometrical transformations proposed in the structure. See the following issue in the source code repository: https://github.com/uibcdf/MolSysMT/issues/33\n",
      "  warnings.warn(warning_message)\n"
     ]
    }
   ],
   "source": [
    "molecular_system = msm.convert(file_path, to_form='molsysmt.MolSys')"
   ]
  },
  {
   "cell_type": "code",
   "execution_count": 6,
   "metadata": {},
   "outputs": [
    {
     "data": {
      "text/html": [
       "<style type=\"text/css\">\n",
       "</style>\n",
       "<table id=\"T_003c9_\">\n",
       "  <thead>\n",
       "    <tr>\n",
       "      <th class=\"col_heading level0 col0\" >form</th>\n",
       "      <th class=\"col_heading level0 col1\" >n_atoms</th>\n",
       "      <th class=\"col_heading level0 col2\" >n_groups</th>\n",
       "      <th class=\"col_heading level0 col3\" >n_components</th>\n",
       "      <th class=\"col_heading level0 col4\" >n_chains</th>\n",
       "      <th class=\"col_heading level0 col5\" >n_molecules</th>\n",
       "      <th class=\"col_heading level0 col6\" >n_entities</th>\n",
       "      <th class=\"col_heading level0 col7\" >n_waters</th>\n",
       "      <th class=\"col_heading level0 col8\" >n_proteins</th>\n",
       "      <th class=\"col_heading level0 col9\" >n_frames</th>\n",
       "    </tr>\n",
       "  </thead>\n",
       "  <tbody>\n",
       "    <tr>\n",
       "      <td id=\"T_003c9_row0_col0\" class=\"data row0 col0\" >molsysmt.MolSys</td>\n",
       "      <td id=\"T_003c9_row0_col1\" class=\"data row0 col1\" >3983</td>\n",
       "      <td id=\"T_003c9_row0_col2\" class=\"data row0 col2\" >662</td>\n",
       "      <td id=\"T_003c9_row0_col3\" class=\"data row0 col3\" >167</td>\n",
       "      <td id=\"T_003c9_row0_col4\" class=\"data row0 col4\" >4</td>\n",
       "      <td id=\"T_003c9_row0_col5\" class=\"data row0 col5\" >166</td>\n",
       "      <td id=\"T_003c9_row0_col6\" class=\"data row0 col6\" >2</td>\n",
       "      <td id=\"T_003c9_row0_col7\" class=\"data row0 col7\" >165</td>\n",
       "      <td id=\"T_003c9_row0_col8\" class=\"data row0 col8\" >1</td>\n",
       "      <td id=\"T_003c9_row0_col9\" class=\"data row0 col9\" >1</td>\n",
       "    </tr>\n",
       "  </tbody>\n",
       "</table>\n"
      ],
      "text/plain": [
       "<pandas.io.formats.style.Styler at 0x7fb051edde90>"
      ]
     },
     "execution_count": 6,
     "metadata": {},
     "output_type": "execute_result"
    }
   ],
   "source": [
    "msm.info(molecular_system)"
   ]
  },
  {
   "cell_type": "markdown",
   "metadata": {},
   "source": [
    "As first example lets obtain the names of the atoms with indices 32, 33 and 34 (0-based). The method `molsysmt.get()` has an input argument named `target` to choose the nature of the elements over which the inquery works: 'atom', 'group', 'component', 'chain', 'molecule', 'entity' or 'system'. By default `target` is 'atom'. Now lets pay attention to the input argument `indices`. `indices` allows us to specify a set of targetted elements by their indices, again, over which the inquery works. This way: "
   ]
  },
  {
   "cell_type": "code",
   "execution_count": 7,
   "metadata": {},
   "outputs": [
    {
     "name": "stdout",
     "output_type": "stream",
     "text": [
      "Atom names: ['N' 'CA' 'C']\n"
     ]
    }
   ],
   "source": [
    "# name of atoms with index 32, 33 or 34\n",
    "names = msm.get(molecular_system, indices=[32,33,34], name=True)\n",
    "print('Atom names:',names)"
   ]
  },
  {
   "cell_type": "code",
   "execution_count": 8,
   "metadata": {},
   "outputs": [
    {
     "data": {
      "text/plain": [
       "array(['N', 'CA', 'C'], dtype=object)"
      ]
     },
     "execution_count": 8,
     "metadata": {},
     "output_type": "execute_result"
    }
   ],
   "source": [
    "names"
   ]
  },
  {
   "cell_type": "markdown",
   "metadata": {},
   "source": [
    "The number of attributes we want to know from these atoms is no limited to one. We can ask `molsysmt.get()` to extract as many attributes as you desire:"
   ]
  },
  {
   "cell_type": "code",
   "execution_count": null,
   "metadata": {},
   "outputs": [],
   "source": [
    "# name, group index and group name of atoms with index 32, 33 or 34\n",
    "names, group_indices, group_names = msm.get(molecular_system, target='atom', indices=[32,33,34],\n",
    "                                            name=True, group_index=True, group_name=True)\n",
    "print('Atom names:', names)\n",
    "print('Group indices:', group_indices)\n",
    "print('Group names:', group_names)"
   ]
  },
  {
   "cell_type": "code",
   "execution_count": null,
   "metadata": {},
   "outputs": [],
   "source": [
    "# number of groups in atoms with index 32, 33 or 34\n",
    "n_groups = msm.get(molecular_system, target='atom', indices=[32,33,34], n_groups=True)\n",
    "print('Number of groups:', n_groups)"
   ]
  },
  {
   "cell_type": "code",
   "execution_count": null,
   "metadata": {},
   "outputs": [],
   "source": [
    "# name, atom indices and atom names of groups with index 10, 11 or 12\n",
    "names, atom_indices, atom_names = msm.get(molecular_system, target='group', indices=[10,11,12],\n",
    "                                            name=True, atom_index=True, atom_name=True)\n",
    "print('Group names:', names)\n",
    "print('Atom indices:', atom_indices)\n",
    "print('Atom names:', atom_names)"
   ]
  },
  {
   "cell_type": "code",
   "execution_count": null,
   "metadata": {},
   "outputs": [],
   "source": [
    "# number of atoms in groups with index 10, 11 or 12\n",
    "n_atoms = msm.get(molecular_system, target='group', indices=[10,11,12], n_atoms=True)\n",
    "print('Number of atoms:', n_atoms)"
   ]
  },
  {
   "cell_type": "code",
   "execution_count": null,
   "metadata": {},
   "outputs": [],
   "source": [
    "# index and component index of groups with index 550, 551 or 552\n",
    "indices, component_indices = msm.get(molecular_system, target='group', indices=[550, 551, 552],\n",
    "                                    index=True, component_index=True)\n",
    "print('Indices:', indices)\n",
    "print('Component indices:', component_indices)"
   ]
  },
  {
   "cell_type": "code",
   "execution_count": null,
   "metadata": {},
   "outputs": [],
   "source": [
    "# number of components in groups with index 550, 551, 552\n",
    "n_components = msm.get(molecular_system, target='group', indices=[550, 551, 552], n_components=True)\n",
    "print('Number of components:', n_components)"
   ]
  },
  {
   "cell_type": "code",
   "execution_count": null,
   "metadata": {},
   "outputs": [],
   "source": [
    "# index and group index of components with index 55, 56 or 57\n",
    "indices, component_indices = msm.get(molecular_system, target='component', indices=[55, 56, 57],\n",
    "                                    index=True, group_index=True)\n",
    "print('Indices:', indices)\n",
    "print('Component indices:', component_indices)"
   ]
  },
  {
   "cell_type": "code",
   "execution_count": null,
   "metadata": {},
   "outputs": [],
   "source": [
    "# number of groups in components with index 55, 56 or 57\n",
    "n_groups = msm.get(molecular_system, target='component', indices=[55, 56, 57], n_groups=True)\n",
    "print('Number of groups:', n_groups)"
   ]
  },
  {
   "cell_type": "markdown",
   "metadata": {},
   "source": [
    "Notice that if no indices list is provided, the method applies over all elements of the targeted entity. See for example:"
   ]
  },
  {
   "cell_type": "code",
   "execution_count": null,
   "metadata": {},
   "outputs": [],
   "source": [
    "# number of atoms in the molecular system\n",
    "n_atoms = msm.get(molecular_system, target='atom', n_atoms=True)\n",
    "print(n_atoms)"
   ]
  },
  {
   "cell_type": "code",
   "execution_count": null,
   "metadata": {},
   "outputs": [],
   "source": [
    "# number of chains in the molecular system\n",
    "n_chains = msm.get(molecular_system, target='atom', n_chains=True)\n",
    "print(n_chains)"
   ]
  },
  {
   "cell_type": "markdown",
   "metadata": {},
   "source": [
    "The method `msm.get()` can also take the input argument `selection`. The use of `selection` is explained in secction XXX. Lets see how `msm.get()` works with `selection` with a simple example:"
   ]
  },
  {
   "cell_type": "code",
   "execution_count": null,
   "metadata": {},
   "outputs": [],
   "source": [
    "# Indices of atoms in group with index 20 (with molsysmt.select()!!!)\n",
    "msm.select(molecular_system, target='atom', selection='group_index==20')"
   ]
  },
  {
   "cell_type": "code",
   "execution_count": null,
   "metadata": {},
   "outputs": [],
   "source": [
    "# Names and indices of atoms in group with index 20 (with molsysmt.get()!!!)\n",
    "msm.get(molecular_system, target='atom', selection='group_index==20', name=True, index=True)"
   ]
  },
  {
   "cell_type": "code",
   "execution_count": null,
   "metadata": {},
   "outputs": [],
   "source": [
    "# number of atoms in molecules of type protein\n",
    "msm.get(molecular_system, target='atom', selection='molecule_type==\"protein\"', n_atoms=True)"
   ]
  },
  {
   "cell_type": "code",
   "execution_count": null,
   "metadata": {},
   "outputs": [],
   "source": [
    "# number of molecules of type water\n",
    "msm.get(molecular_system, target='atom', selection='molecule_type==\"water\"', n_molecules=True)"
   ]
  },
  {
   "cell_type": "markdown",
   "metadata": {},
   "source": [
    "## Table with attributes you can get\n",
    "\n",
    "The following table shows the list of attribute arguments you can use in `molsysmt.get()`, togethere with their meaning and the list of elements each of them can be used with."
   ]
  },
  {
   "cell_type": "markdown",
   "metadata": {},
   "source": [
    "| Property | Meaning | Element the property applies |\n",
    "|:--------|:-------------|:-------------|\n",
    "| 'index' | **index or indices** of the list of targeted elements defined by `indices` or `selection`| 'atom', 'group', 'component', 'chain', 'molecule', 'entity'|\n",
    "| 'id' | **id or ids** of the list of targeted elements defined by `indices` or `selection`| 'atom', 'group', 'component', 'chain', 'molecule', 'entity'|\n",
    "| 'name' | **name or names** of the list of targeted elements defined by `indices` or `selection`| 'atom', 'group', 'component', 'chain', 'molecule', 'entity'|\n",
    "| 'type' | **type or types** of the list of targeted elements defined by `indices` or `selection`| 'atom', 'group', 'component', 'chain', 'molecule', 'entity'|\n",
    "| 'atom_index' | **atom index or indices** of the list of targeted elements defined by `indices` or `selection`| 'atom', 'group', 'component', 'chain', 'molecule', 'entity', 'bond'|\n",
    "| 'atom_id' | **atom id or ids** of the list of targeted elements defined by `indices` or `selection`| 'atom', 'group', 'component', 'chain', 'molecule', 'entity'|\n",
    "| 'atom_name' |  **atom name or names** of the list of targeted elements defined by `indices` or `selection`| 'atom', 'group', 'component', 'chain', 'molecule', 'entity'|\n",
    "| 'atom_type' |  **atom type or types** of the list of targeted elements defined by `indices` or `selection`| 'atom', 'group', 'component', 'chain', 'molecule', 'entity'|\n",
    "| 'group_index' | **group index or indices** of the list of targeted elements defined by `indices` or `selection`| 'atom', 'group', 'component', 'chain', 'molecule', 'entity'|\n",
    "| 'group_id' | **group id or ids** of the list of targeted elements defined by `indices` or `selection`| 'atom', 'group', 'component', 'chain', 'molecule', 'entity'|\n",
    "| 'group_name' | **group name or names** of the list of targeted elements defined by `indices` or `selection`| 'atom', 'group', 'component', 'chain', 'molecule', 'entity'|\n",
    "| 'group_type' | **group type or types** of the list of targeted elements defined by `indices` or `selection`| 'atom', 'group', 'component', 'chain', 'molecule', 'entity'|\n",
    "| 'component_index' | **component index or indices** of the list of targeted elements defined by `indices` or `selection`| 'atom', 'group', 'component', 'chain', 'molecule', 'entity'|\n",
    "| 'component_id' | **component id or ids** of the list of targeted elements defined by `indices` or `selection`| 'atom', 'group', 'component', 'chain', 'molecule', 'entity'|\n",
    "| 'component_name' | **component name or names** of the list of targeted elements defined by `indices` or `selection`| 'atom', 'group', 'component', 'chain', 'molecule', 'entity'|\n",
    "| 'component_type' | **component type or types** of the list of targeted elements defined by `indices` or `selection`| 'atom', 'group', 'component', 'chain', 'molecule', 'entity'|\n",
    "| 'molecule_index' | **molecule index or indices** of the list of targeted elements defined by `indices` or `selection`| 'atom', 'group', 'component', 'chain', 'molecule', 'entity'|\n",
    "| 'molecule_id' | **molecule id or ids** of the list of targeted elements defined by `indices` or `selection`| 'atom', 'group', 'component', 'chain', 'molecule', 'entity'|\n",
    "| 'molecule_name' | **molecule name or names** of the list of targeted elements defined by `indices` or `selection`| 'atom', 'group', 'component', 'chain', 'molecule', 'entity'|\n",
    "| 'molecule_type' | **molecule type or types** of the list of targeted elements defined by `indices` or `selection`| 'atom', 'group', 'component', 'chain', 'molecule', 'entity'|\n",
    "| 'chain_index' | **chain index or indices** of the list of targeted elements defined by `indices` or `selection`| 'atom', 'group', 'component', 'chain', 'molecule', 'entity'|\n",
    "| 'chain_id' | **chain id or ids** of the list of targeted elements defined by `indices` or `selection`| 'atom', 'group', 'component', 'chain', 'molecule', 'entity'|\n",
    "| 'chain_name' | **chain name or names** of the list of targeted elements defined by `indices` or `selection`| 'atom', 'group', 'component', 'chain', 'molecule', 'entity'|\n",
    "| 'chain_type' | **chain type or types** of the list of targeted elements defined by `indices` or `selection`| 'atom', 'group', 'component', 'chain', 'molecule', 'entity'|\n",
    "| 'entity_index' | **entity index or indices** of the list of targeted elements defined by `indices` or `selection`| 'atom', 'group', 'component', 'chain', 'molecule', 'entity'|\n",
    "| 'entity_id' | **entity id or ids** of the list of targeted elements defined by `indices` or `selection`| 'atom', 'group', 'component', 'chain', 'molecule', 'entity'|\n",
    "| 'entity_name' | **entity name or names** of the list of targeted elements defined by `indices` or `selection`| 'atom', 'group', 'component', 'chain', 'molecule', 'entity'|\n",
    "| 'entity_type' | **entity type or types** of the list of targeted elements defined by `indices` or `selection`| 'atom', 'group', 'component', 'chain', 'molecule', 'entity'|\n",
    "| 'bonded_atoms' | **indices of bonded atoms** to the atoms defined by `indices` or `selection`| 'atom'|\n",
    "| 'bond_index' | **indices of bonds** in the list of targeted elements defined by `indices` or `selection`| 'atom', 'bond'|\n",
    "| 'bond_order' | **order of bonds** in the list of targeted elements defined by `indices` or `selection`| 'bond'|\n",
    "| 'bond_type' | **indices of bonds** in the list of targeted elements defined by `indices` or `selection`| 'bond'|\n",
    "| 'inner_bonded_atoms' | **indices of inner bonded atoms** in the list of targeted elements defined by `indices` or `selection`| 'atom'|\n",
    "| 'inner_bond_index' | **indices of inner bonds** in the list of targeted elements defined by `indices` or `selection`| 'atom'|\n",
    "| 'n_atoms' | **number of atoms** in the set of targeted elements defined by `indices` or `selection`| 'atom', 'group', 'component', 'chain', 'molecule', 'entity', 'system'|\n",
    "| 'n_groups' | **number of groups** in the set of targeted elements defined by `indices` or `selection`| 'atom', 'group', 'component', 'chain', 'molecule', 'entity', 'system'|\n",
    "| 'n_components' | **number of components** in the set of targeted elements defined by `indices` or `selection`| 'atom', 'group', 'component', 'chain', 'molecule', 'entity', 'system'|\n",
    "| 'n_molecules' | **number of molecules** in the set of targeted elements defined by `indices` or `selection`| 'atom', 'group', 'component', 'chain', 'molecule', 'entity', 'system'|\n",
    "| 'n_chains' | **number of chains** in the set of targeted elements defined by `indices` or `selection`| 'atom', 'group', 'component', 'chain', 'molecule', 'entity', 'system'|\n",
    "| 'n_entities' | **number of entities** in the set of targeted elements defined by `indices` or `selection`| 'atom', 'group', 'component', 'chain', 'molecule', 'entity', 'system'|\n",
    "| 'n_bonds' | **number of bonds** present in the set of elements defined by `indices` or `selection`| 'atom', 'group', 'component', 'chain', 'molecule', 'entity', 'system', 'bond'|\n",
    "| 'n_inner_bonds' | **number of inner bonds** present in the set of elements defined by `indices` or `selection`| 'atom' |\n",
    "| 'n_aminoacids' | **number of groups aminoacid type** in the system | 'system'|\n",
    "| 'n_nucleotides' | **number of groups nucleotide type** in the system | 'system'|\n",
    "| 'n_ions' | **number of molecules ion type** in the system | 'system'|\n",
    "| 'n_waters' | **number of molecules water type** in the system | 'system'|\n",
    "| 'n_cosolutes' | **number of molecules cosolute type** in the system | 'system'|\n",
    "| 'n_small_molecules' | **number of molecules small molecule type** in the system | 'system'|\n",
    "| 'n_peptides' | **number of molecules peptide type** in the system | 'system'|\n",
    "| 'n_proteins' | **number of molecules protein type** in the system | 'system'|\n",
    "| 'n_adns' | **number of molecules adn type** in the system | 'system'|\n",
    "| 'n_arns' | **number of molecules arn type** in the system | 'system'|\n",
    "| 'step' | **steps or model indices** array the trajectory| 'system'|\n",
    "| 'time' | **times** array in the trajectory| 'system'|\n",
    "| 'box' | **box vectors** defining the periodic box of the system -if any-| 'system'|\n",
    "| 'box_shape' | **box shape** of the periodic box of the system -if any-| 'system'|\n",
    "| 'box_lengths' | **edge lengths** of the periodic box of the system -if any-| 'system'|\n",
    "| 'box_angles' | **vertices angles** of the periodic box of the system -if any-| 'system'|\n",
    "| 'box_volume' | **volume** of the periodic box of the system -if any-| 'system'|\n",
    "| 'coordinates' | **coordinates of atoms** present in the set of elements defined by `indices` or `selection`| 'atom', 'system'|\n",
    "| 'frame' | **step, time, coordinates and box** in the trajectory, in this order| 'atom', 'system'|\n",
    "| 'n_frames' | **number of frames** stored in the trajectory| 'atom', 'system'|"
   ]
  },
  {
   "cell_type": "markdown",
   "metadata": {},
   "source": [
    "Not every attribute or observable works over every molecular system form. For instance, you have to consider that forms corresponding to python objects with only topological information, such as `molsysmt.Composition` or `mdtraj.Topology`, do not contain coordinates, box, time or n_frames."
   ]
  },
  {
   "cell_type": "markdown",
   "metadata": {},
   "source": [
    "## Some other examples involving atoms, groups, components, chains, molecules or entities\n",
    "\n",
    "Here you can find some additional examples where `msm.get()` works over atoms, groups, components, chains, molecules or entities:"
   ]
  },
  {
   "cell_type": "code",
   "execution_count": null,
   "metadata": {},
   "outputs": [],
   "source": [
    "# Name of atoms with index 0, 1 or 2\n",
    "msm.get(molecular_system, target='atom', indices=[0,1,2], name=True)"
   ]
  },
  {
   "cell_type": "code",
   "execution_count": null,
   "metadata": {},
   "outputs": [],
   "source": [
    "# Name of atoms with index 0, 1 or 2\n",
    "msm.get(molecular_system, target='atom', selection='atom_index in [0,1,2]', name=True)"
   ]
  },
  {
   "cell_type": "code",
   "execution_count": null,
   "metadata": {},
   "outputs": [],
   "source": [
    "# Group id of atoms with index 0, 1 or 2\n",
    "msm.get(molecular_system, target='atom', selection='atom_index in [0,1,2]', group_id=True)"
   ]
  },
  {
   "cell_type": "code",
   "execution_count": null,
   "metadata": {},
   "outputs": [],
   "source": [
    "# Number of groups in atoms with index 0, 1 or 2\n",
    "msm.get(molecular_system, target='atom', selection='atom_index in [0,1,2]', n_groups=True)"
   ]
  },
  {
   "cell_type": "code",
   "execution_count": null,
   "metadata": {},
   "outputs": [],
   "source": [
    "# Id of groups with index 0, 1 or 2\n",
    "msm.get(molecular_system, target='group', indices=[0,1,2], id=True)"
   ]
  },
  {
   "cell_type": "code",
   "execution_count": null,
   "metadata": {},
   "outputs": [],
   "source": [
    "# Id of groups with index 0, 1 or 2\n",
    "msm.get(molecular_system, target='group', selection='group_index in [0,1,2]', id=True)"
   ]
  },
  {
   "cell_type": "code",
   "execution_count": null,
   "metadata": {},
   "outputs": [],
   "source": [
    "# Index of atoms in groups with index 0 or 1\n",
    "msm.get(molecular_system, target='group', indices=[0,1], atom_index=True)"
   ]
  },
  {
   "cell_type": "code",
   "execution_count": null,
   "metadata": {},
   "outputs": [],
   "source": [
    "# Index of groups in atoms with index 0 to 15\n",
    "msm.get(molecular_system, target='atom', indices=range(16), group_index=True)"
   ]
  },
  {
   "cell_type": "code",
   "execution_count": null,
   "metadata": {},
   "outputs": [],
   "source": [
    "# Number of groups in atoms with index 0 to 15\n",
    "msm.get(molecular_system, target='atom', indices=range(16), n_groups=True)"
   ]
  },
  {
   "cell_type": "code",
   "execution_count": null,
   "metadata": {},
   "outputs": [],
   "source": [
    "# Index of groups in molecule with index 0\n",
    "msm.get(molecular_system, target='molecule', indices=[0,1], group_index=True)"
   ]
  },
  {
   "cell_type": "code",
   "execution_count": null,
   "metadata": {},
   "outputs": [],
   "source": [
    "# Names of groups in molecule of index 0\n",
    "msm.get(molecular_system, target='molecule', indices=[0,1], group_name=True)"
   ]
  },
  {
   "cell_type": "code",
   "execution_count": null,
   "metadata": {},
   "outputs": [],
   "source": [
    "# Number of molecules of type protein\n",
    "msm.get(molecular_system, target='molecule', selection='molecule_type==\"protein\"', n_molecules=True)"
   ]
  },
  {
   "cell_type": "code",
   "execution_count": null,
   "metadata": {},
   "outputs": [],
   "source": [
    "# Number of groups in molecules of type protein\n",
    "msm.get(molecular_system, target='molecule', selection='molecule_type==\"protein\"', n_groups=True)"
   ]
  },
  {
   "cell_type": "code",
   "execution_count": null,
   "metadata": {},
   "outputs": [],
   "source": [
    "# Number of groups in molecules of type water\n",
    "msm.get(molecular_system, target='group', selection='molecule_type==\"water\"', n_groups=True)"
   ]
  },
  {
   "cell_type": "code",
   "execution_count": null,
   "metadata": {},
   "outputs": [],
   "source": [
    "# Name of entity with index 0\n",
    "msm.get(molecular_system, target='entity', indices=0, name=True)"
   ]
  },
  {
   "cell_type": "code",
   "execution_count": null,
   "metadata": {},
   "outputs": [],
   "source": [
    "# Type of entity with index 1\n",
    "msm.get(molecular_system, target='entity', indices=1, type=True)"
   ]
  },
  {
   "cell_type": "code",
   "execution_count": null,
   "metadata": {},
   "outputs": [],
   "source": [
    "# Number of molecules in entity with index 1\n",
    "msm.get(molecular_system, target='entity', indices=1, n_molecules=True)"
   ]
  },
  {
   "cell_type": "code",
   "execution_count": null,
   "metadata": {},
   "outputs": [],
   "source": [
    "# Index of molecules in entity with index 1\n",
    "msm.get(molecular_system, target='entity', indices=1, molecule_index=True)"
   ]
  },
  {
   "cell_type": "code",
   "execution_count": null,
   "metadata": {},
   "outputs": [],
   "source": [
    "# Molecule type of groups with index 10, 11 or 12\n",
    "msm.get(molecular_system, target='group', indices=[10,11,12], molecule_type=True)"
   ]
  },
  {
   "cell_type": "code",
   "execution_count": null,
   "metadata": {},
   "outputs": [],
   "source": [
    "# Molecule type of molecules with index 1 to 9\n",
    "msm.get(molecular_system, target='molecule', indices=range(1,10), molecule_type=True)"
   ]
  },
  {
   "cell_type": "code",
   "execution_count": null,
   "metadata": {},
   "outputs": [],
   "source": [
    "# Number of groups of type aminoacid\n",
    "msm.get(molecular_system, target='group', selection='group_type==\"aminoacid\"', n_groups=True)"
   ]
  },
  {
   "cell_type": "code",
   "execution_count": null,
   "metadata": {},
   "outputs": [],
   "source": [
    "# Number of groups of a set of components\n",
    "msm.get(molecular_system, target='component', indices=[0,1], n_groups=True)"
   ]
  },
  {
   "cell_type": "code",
   "execution_count": null,
   "metadata": {},
   "outputs": [],
   "source": [
    "# Total number of groups of a set of comopnents\n",
    "msm.get(molecular_system, target='atom', selection='component_index==[0,1]', n_groups=True)"
   ]
  },
  {
   "cell_type": "markdown",
   "metadata": {},
   "source": [
    "## Some other examples involving systems\n",
    "\n",
    "The element system has some specific observables accounting for the amount of type of elements such as the number of aminoacid groups, ion molecules or protein molecules:"
   ]
  },
  {
   "cell_type": "code",
   "execution_count": null,
   "metadata": {},
   "outputs": [],
   "source": [
    "# Number of aminoacid groups in the system\n",
    "msm.get(molecular_system, target='system', n_aminoacids=True)"
   ]
  },
  {
   "cell_type": "code",
   "execution_count": null,
   "metadata": {},
   "outputs": [],
   "source": [
    "# Number of aminoacid groups in the system\n",
    "msm.get(molecular_system, target='system', n_waters=True)"
   ]
  },
  {
   "cell_type": "code",
   "execution_count": null,
   "metadata": {},
   "outputs": [],
   "source": [
    "# Number of ion molecules in the system\n",
    "msm.get(molecular_system, target='system', n_ions=True)"
   ]
  },
  {
   "cell_type": "code",
   "execution_count": null,
   "metadata": {},
   "outputs": [],
   "source": [
    "# Number of protein molecules in the system\n",
    "msm.get(molecular_system, target='system', n_proteins=True)"
   ]
  },
  {
   "cell_type": "code",
   "execution_count": null,
   "metadata": {},
   "outputs": [],
   "source": [
    "# Number of rna molecules in the system\n",
    "msm.get(molecular_system, target='system', n_rnas=True)"
   ]
  },
  {
   "cell_type": "code",
   "execution_count": null,
   "metadata": {},
   "outputs": [],
   "source": [
    "# Number of atoms in the system\n",
    "msm.get(molecular_system, target='system', n_atoms=True)"
   ]
  },
  {
   "cell_type": "code",
   "execution_count": null,
   "metadata": {},
   "outputs": [],
   "source": [
    "# Number of entities in the system\n",
    "msm.get(molecular_system, target='system', n_entities=True)"
   ]
  },
  {
   "cell_type": "markdown",
   "metadata": {},
   "source": [
    "## Some other examples involving bonds"
   ]
  },
  {
   "cell_type": "code",
   "execution_count": null,
   "metadata": {},
   "outputs": [],
   "source": [
    "msm.get(molecular_system, target='atom', indices=[0,1,2,3,4,5], bonded_atoms=True)"
   ]
  },
  {
   "cell_type": "code",
   "execution_count": null,
   "metadata": {},
   "outputs": [],
   "source": [
    "msm.get(molecular_system, target='atom', indices=[0,1,2,3,4,5], bond_index=True)"
   ]
  },
  {
   "cell_type": "code",
   "execution_count": null,
   "metadata": {},
   "outputs": [],
   "source": [
    "msm.get(molecular_system, target='atom', indices=[0,1,2,3,4,5], n_bonds=True)"
   ]
  },
  {
   "cell_type": "code",
   "execution_count": null,
   "metadata": {},
   "outputs": [],
   "source": [
    "msm.get(molecular_system, target='atom', indices=[0,1,2,3,4,5], inner_bonded_atoms=True)"
   ]
  },
  {
   "cell_type": "code",
   "execution_count": null,
   "metadata": {},
   "outputs": [],
   "source": [
    "msm.get(molecular_system, target='atom', indices=[0,1,2,3,4,5], inner_bond_index=True)"
   ]
  },
  {
   "cell_type": "code",
   "execution_count": null,
   "metadata": {},
   "outputs": [],
   "source": [
    "msm.get(molecular_system, target='atom', indices=[0,1,2,3,4,5], n_inner_bonds=True)"
   ]
  },
  {
   "cell_type": "code",
   "execution_count": null,
   "metadata": {},
   "outputs": [],
   "source": [
    "msm.get(molecular_system, target='bond', selection='group_index==3', index=True)"
   ]
  },
  {
   "cell_type": "code",
   "execution_count": null,
   "metadata": {},
   "outputs": [],
   "source": [
    "msm.get(molecular_system, target='bond', indices=[0,1,2,3,4], atom_index=True)"
   ]
  },
  {
   "cell_type": "code",
   "execution_count": null,
   "metadata": {},
   "outputs": [],
   "source": [
    "msm.get(molecular_system, target='bond', selection='group_index==3', atom_index=True)"
   ]
  },
  {
   "cell_type": "code",
   "execution_count": null,
   "metadata": {},
   "outputs": [],
   "source": [
    "msm.get(molecular_system, target='bond', indices=[0,1,2,3], order=True)"
   ]
  },
  {
   "cell_type": "code",
   "execution_count": null,
   "metadata": {},
   "outputs": [],
   "source": [
    "msm.get(molecular_system, target='bond', selection='group_index==3', n_bonds=True)"
   ]
  },
  {
   "cell_type": "code",
   "execution_count": null,
   "metadata": {},
   "outputs": [],
   "source": [
    "msm.get(molecular_system, target='system', n_bonds=True)"
   ]
  },
  {
   "cell_type": "markdown",
   "metadata": {},
   "source": [
    "## Getting trajectory times, coordinates and pbc box attributes"
   ]
  },
  {
   "cell_type": "code",
   "execution_count": null,
   "metadata": {},
   "outputs": [],
   "source": [
    "msm.get(molecular_system, target='system', n_frames=True)"
   ]
  },
  {
   "cell_type": "code",
   "execution_count": null,
   "metadata": {},
   "outputs": [],
   "source": [
    "msm.get(molecular_system, target='atom', indices=100, frame_indices=0, coordinates=True)"
   ]
  },
  {
   "cell_type": "code",
   "execution_count": null,
   "metadata": {},
   "outputs": [],
   "source": [
    "msm.get(molecular_system, target='system', coordinates=True)"
   ]
  },
  {
   "cell_type": "code",
   "execution_count": null,
   "metadata": {},
   "outputs": [],
   "source": [
    "msm.get(molecular_system, target='system', time=True)"
   ]
  },
  {
   "cell_type": "code",
   "execution_count": null,
   "metadata": {},
   "outputs": [],
   "source": [
    "msm.get(molecular_system, target='system', frame_indices=0, box=True)"
   ]
  },
  {
   "cell_type": "code",
   "execution_count": null,
   "metadata": {},
   "outputs": [],
   "source": [
    "box_lengths, box_angles = msm.get(molecular_system, target='system', frame_indices=0,\n",
    "                                  box_lengths=True, box_angles=True)"
   ]
  },
  {
   "cell_type": "code",
   "execution_count": null,
   "metadata": {},
   "outputs": [],
   "source": [
    "box_lengths"
   ]
  },
  {
   "cell_type": "code",
   "execution_count": null,
   "metadata": {},
   "outputs": [],
   "source": [
    "box_angles"
   ]
  },
  {
   "cell_type": "code",
   "execution_count": null,
   "metadata": {},
   "outputs": [],
   "source": []
  }
 ],
 "metadata": {
  "kernelspec": {
   "display_name": "Python 3 (ipykernel)",
   "language": "python",
   "name": "python3"
  },
  "language_info": {
   "codemirror_mode": {
    "name": "ipython",
    "version": 3
   },
   "file_extension": ".py",
   "mimetype": "text/x-python",
   "name": "python",
   "nbconvert_exporter": "python",
   "pygments_lexer": "ipython3",
   "version": "3.7.10"
  }
 },
 "nbformat": 4,
 "nbformat_minor": 4
}
