{
 "cells": [
  {
   "cell_type": "code",
   "execution_count": 1,
   "id": "a518dd5a-046f-48ea-a1e4-894f38c17ca5",
   "metadata": {},
   "outputs": [],
   "source": [
    "%load_ext autoreload\n",
    "%autoreload 2"
   ]
  },
  {
   "cell_type": "code",
   "execution_count": 2,
   "id": "6c2aefa9-fa58-4ab0-9aac-bd1dce22b58f",
   "metadata": {},
   "outputs": [
    {
     "name": "stderr",
     "output_type": "stream",
     "text": [
      "Warning: importing 'simtk.openmm' is deprecated.  Import 'openmm' instead.\n"
     ]
    },
    {
     "data": {
      "application/vnd.jupyter.widget-view+json": {
       "model_id": "c8538687ccef43f7bcc4819313d0a527",
       "version_major": 2,
       "version_minor": 0
      },
      "text/plain": []
     },
     "metadata": {},
     "output_type": "display_data"
    }
   ],
   "source": [
    "import molsysmt as msm"
   ]
  },
  {
   "cell_type": "markdown",
   "id": "f5d55d2e-7cbd-4680-9fc5-c71bfb10e5a9",
   "metadata": {},
   "source": [
    "# Compare"
   ]
  },
  {
   "cell_type": "code",
   "execution_count": 3,
   "id": "a01219b3-46fc-49e9-bf87-9748220176ab",
   "metadata": {},
   "outputs": [],
   "source": [
    "molsys_A = msm.convert('pdbid:2LAO', to_form='pdbfixer.PDBFixer')"
   ]
  },
  {
   "cell_type": "code",
   "execution_count": 4,
   "id": "1c565ead-5826-4b0c-82fc-f0d33490fa04",
   "metadata": {},
   "outputs": [],
   "source": [
    "molsys_B = msm.convert(molsys_A, to_form='molsysmt.MolSys')"
   ]
  },
  {
   "cell_type": "code",
   "execution_count": 5,
   "id": "f5bca6f9-b26b-4a17-8fa2-c503bbe36e89",
   "metadata": {},
   "outputs": [
    {
     "data": {
      "text/plain": [
       "True"
      ]
     },
     "execution_count": 5,
     "metadata": {},
     "output_type": "execute_result"
    }
   ],
   "source": [
    "msm.compare(molsys_A, molsys_B, comparison='all', rule='A_eq_B')"
   ]
  },
  {
   "cell_type": "code",
   "execution_count": 6,
   "id": "4f4d3c54-df8f-4d0a-a7f5-e660e5d7c648",
   "metadata": {},
   "outputs": [],
   "source": [
    "molsys_C = msm.extract(molsys_B, selection='molecule_type==\"protein\"')"
   ]
  },
  {
   "cell_type": "code",
   "execution_count": 7,
   "id": "a5b057cf-9bc7-4ac3-8e4f-fdef4ac6ab6a",
   "metadata": {},
   "outputs": [
    {
     "data": {
      "text/plain": [
       "False"
      ]
     },
     "execution_count": 7,
     "metadata": {},
     "output_type": "execute_result"
    }
   ],
   "source": [
    "msm.compare(molsys_C, molsys_B, comparison='all', rule='A_eq_B')"
   ]
  },
  {
   "cell_type": "code",
   "execution_count": 8,
   "id": "4a48d678-ab15-4c87-98c6-9e4aa03c5040",
   "metadata": {},
   "outputs": [
    {
     "data": {
      "text/plain": [
       "(False,\n",
       " {'n_atoms': False,\n",
       "  'n_groups': False,\n",
       "  'n_molecules': False,\n",
       "  'n_chains': False,\n",
       "  'n_entities': False,\n",
       "  'atom_names': False,\n",
       "  'atom_types': False,\n",
       "  'atom_ids': False,\n",
       "  'group_names': False,\n",
       "  'group_types': False,\n",
       "  'group_ids': False,\n",
       "  'molecule_names': False,\n",
       "  'molecule_types': False,\n",
       "  'molecule_ids': False,\n",
       "  'chain_names': False,\n",
       "  'chain_types': False,\n",
       "  'chain_ids': False,\n",
       "  'entity_names': False,\n",
       "  'entity_types': False,\n",
       "  'entity_ids': False,\n",
       "  'coordinates': False})"
      ]
     },
     "execution_count": 8,
     "metadata": {},
     "output_type": "execute_result"
    }
   ],
   "source": [
    "msm.compare(molsys_C, molsys_B, comparison='all', rule='A_eq_B', report =True)"
   ]
  },
  {
   "cell_type": "code",
   "execution_count": null,
   "id": "dec7fc54-dcf0-4a47-95b5-205fe83ad084",
   "metadata": {},
   "outputs": [],
   "source": []
  }
 ],
 "metadata": {
  "kernelspec": {
   "display_name": "Python 3 (ipykernel)",
   "language": "python",
   "name": "python3"
  },
  "language_info": {
   "codemirror_mode": {
    "name": "ipython",
    "version": 3
   },
   "file_extension": ".py",
   "mimetype": "text/x-python",
   "name": "python",
   "nbconvert_exporter": "python",
   "pygments_lexer": "ipython3",
   "version": "3.7.10"
  }
 },
 "nbformat": 4,
 "nbformat_minor": 5
}
