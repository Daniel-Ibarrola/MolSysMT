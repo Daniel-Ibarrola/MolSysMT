{
 "cells": [
  {
   "cell_type": "markdown",
   "id": "095d0ac2-57d4-4581-ad7a-d1c3c3da7891",
   "metadata": {},
   "source": [
    "# Where"
   ]
  },
  {
   "cell_type": "code",
   "execution_count": null,
   "id": "83ecdd1d-aa92-443d-9fa7-dfe3adac50c2",
   "metadata": {},
   "outputs": [],
   "source": []
  }
 ],
 "metadata": {
  "kernelspec": {
   "display_name": "Python 3 (ipykernel)",
   "language": "python",
   "name": "python3"
  },
  "language_info": {
   "codemirror_mode": {
    "name": "ipython",
    "version": 3
   },
   "file_extension": ".py",
   "mimetype": "text/x-python",
   "name": "python",
   "nbconvert_exporter": "python",
   "pygments_lexer": "ipython3",
   "version": "3.7.12"
  }
 },
 "nbformat": 4,
 "nbformat_minor": 5
}
