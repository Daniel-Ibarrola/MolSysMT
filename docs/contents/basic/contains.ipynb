{
 "cells": [
  {
   "cell_type": "markdown",
   "id": "5146fd03-ff69-465c-8385-9314ad9315c6",
   "metadata": {},
   "source": [
    "# Contains"
   ]
  },
  {
   "cell_type": "code",
   "execution_count": null,
   "id": "56c551db-85c3-4532-b941-8a3eb7e7413f",
   "metadata": {},
   "outputs": [],
   "source": []
  }
 ],
 "metadata": {
  "kernelspec": {
   "display_name": "Python 3",
   "language": "python",
   "name": "python3"
  },
  "language_info": {
   "codemirror_mode": {
    "name": "ipython",
    "version": 3
   },
   "file_extension": ".py",
   "mimetype": "text/x-python",
   "name": "python",
   "nbconvert_exporter": "python",
   "pygments_lexer": "ipython3",
   "version": "3.7.10"
  }
 },
 "nbformat": 4,
 "nbformat_minor": 5
}
