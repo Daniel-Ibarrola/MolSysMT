{
 "cells": [
  {
   "cell_type": "code",
   "execution_count": 1,
   "id": "56c551db-85c3-4532-b941-8a3eb7e7413f",
   "metadata": {},
   "outputs": [],
   "source": [
    "%load_ext autoreload\n",
    "%autoreload 2"
   ]
  },
  {
   "cell_type": "code",
   "execution_count": 2,
   "id": "0f0ba0ab-b67e-45c9-86d4-a1d1f5eba3f9",
   "metadata": {},
   "outputs": [
    {
     "name": "stderr",
     "output_type": "stream",
     "text": [
      "Warning: importing 'simtk.openmm' is deprecated.  Import 'openmm' instead.\n"
     ]
    },
    {
     "data": {
      "application/vnd.jupyter.widget-view+json": {
       "model_id": "ef59081e6c204eebb016653ee0b46c56",
       "version_major": 2,
       "version_minor": 0
      },
      "text/plain": []
     },
     "metadata": {},
     "output_type": "display_data"
    }
   ],
   "source": [
    "import molsysmt as msm"
   ]
  },
  {
   "cell_type": "markdown",
   "id": "5146fd03-ff69-465c-8385-9314ad9315c6",
   "metadata": {},
   "source": [
    "# Contains"
   ]
  },
  {
   "cell_type": "code",
   "execution_count": null,
   "id": "2309a1c3-7fe5-4e59-83c0-0fbd8a32c0aa",
   "metadata": {},
   "outputs": [],
   "source": [
    "molsys = msm.convert('pdbid:181L', to_form='molsysmt.MolSys')"
   ]
  },
  {
   "cell_type": "code",
   "execution_count": null,
   "id": "7443e65e-89d5-44fe-be63-98c03aaea066",
   "metadata": {},
   "outputs": [],
   "source": [
    "msm.info(molsys)"
   ]
  },
  {
   "cell_type": "code",
   "execution_count": null,
   "id": "a3b47f5c-15d6-4c26-ab44-49e4afb3c49a",
   "metadata": {},
   "outputs": [],
   "source": [
    "msm.contains(molsys, waters=True)"
   ]
  },
  {
   "cell_type": "code",
   "execution_count": null,
   "id": "e81c397a-61da-49ed-94b7-242f2d4ed4ba",
   "metadata": {},
   "outputs": [],
   "source": [
    "msm.contains(molsys, ions=True, small_molecules=True, proteins=True)"
   ]
  },
  {
   "cell_type": "code",
   "execution_count": null,
   "id": "cb005d83-561e-4e09-990b-02cd31812ceb",
   "metadata": {},
   "outputs": [],
   "source": [
    "msm.contains(molsys, proteins=True, lipids=True)"
   ]
  },
  {
   "cell_type": "code",
   "execution_count": null,
   "id": "07ea4a5d-616f-4d4f-a8a4-36950bc0d280",
   "metadata": {},
   "outputs": [],
   "source": [
    "msm.contains(molsys, lipids=False)"
   ]
  },
  {
   "cell_type": "code",
   "execution_count": null,
   "id": "cff5be21-08f0-4349-ba27-81230a62d9ab",
   "metadata": {},
   "outputs": [],
   "source": [
    "msm.contains(molsys, proteins=True, lipids=False)"
   ]
  },
  {
   "cell_type": "code",
   "execution_count": null,
   "id": "1d80ca10-cde5-4440-aad0-b306152291b3",
   "metadata": {},
   "outputs": [],
   "source": [
    "msm.contains(molsys, waters=100, ions=2)"
   ]
  },
  {
   "cell_type": "code",
   "execution_count": null,
   "id": "6ac59d10-06dd-4992-b0f4-50e020143738",
   "metadata": {},
   "outputs": [],
   "source": [
    "msm.contains(molsys, small_molecules=3, ions=2)"
   ]
  }
 ],
 "metadata": {
  "kernelspec": {
   "display_name": "Python 3 (ipykernel)",
   "language": "python",
   "name": "python3"
  },
  "language_info": {
   "codemirror_mode": {
    "name": "ipython",
    "version": 3
   },
   "file_extension": ".py",
   "mimetype": "text/x-python",
   "name": "python",
   "nbconvert_exporter": "python",
   "pygments_lexer": "ipython3",
   "version": "3.7.10"
  }
 },
 "nbformat": 4,
 "nbformat_minor": 5
}
