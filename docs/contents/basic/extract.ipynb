{
 "cells": [
  {
   "cell_type": "code",
   "execution_count": 1,
   "metadata": {},
   "outputs": [],
   "source": [
    "%load_ext autoreload\n",
    "%autoreload 2"
   ]
  },
  {
   "cell_type": "markdown",
   "metadata": {},
   "source": [
    "# Extracting a molecular subsystem"
   ]
  },
  {
   "cell_type": "markdown",
   "metadata": {},
   "source": [
    "## How to extract a molecular subsystem"
   ]
  },
  {
   "cell_type": "code",
   "execution_count": 2,
   "metadata": {},
   "outputs": [
    {
     "name": "stderr",
     "output_type": "stream",
     "text": [
      "Warning: importing 'simtk.openmm' is deprecated.  Import 'openmm' instead.\n"
     ]
    },
    {
     "data": {
      "application/vnd.jupyter.widget-view+json": {
       "model_id": "3074b1124209436284445f00a8263115",
       "version_major": 2,
       "version_minor": 0
      },
      "text/plain": []
     },
     "metadata": {},
     "output_type": "display_data"
    }
   ],
   "source": [
    "import molsysmt as msm"
   ]
  },
  {
   "cell_type": "code",
   "execution_count": 3,
   "metadata": {},
   "outputs": [],
   "source": [
    "molecular_system = msm.demo.files['1sux.mmtf']"
   ]
  },
  {
   "cell_type": "code",
   "execution_count": 4,
   "metadata": {},
   "outputs": [
    {
     "name": "stderr",
     "output_type": "stream",
     "text": [
      "/home/diego/Projects/molsysmt/molsysmt/native/io/topology/classes/mmtf_MMTFDecoder.py:43: UserWarning: The structure in the PDB has biological assemblies. There are geometrical transformations proposed in the structure. See the following issue in the source code repository: https://github.com/uibcdf/MolSysMT/issues/33\n",
      "  warnings.warn(warning_message)\n"
     ]
    }
   ],
   "source": [
    "molecular_system = msm.convert(msm.demo.files['1sux.mmtf'])"
   ]
  },
  {
   "cell_type": "code",
   "execution_count": 5,
   "metadata": {},
   "outputs": [
    {
     "data": {
      "text/html": [
       "<style type=\"text/css\">\n",
       "</style>\n",
       "<table id=\"T_6d255_\">\n",
       "  <thead>\n",
       "    <tr>\n",
       "      <th class=\"col_heading level0 col0\" >index</th>\n",
       "      <th class=\"col_heading level0 col1\" >name</th>\n",
       "      <th class=\"col_heading level0 col2\" >type</th>\n",
       "      <th class=\"col_heading level0 col3\" >n atoms</th>\n",
       "      <th class=\"col_heading level0 col4\" >n groups</th>\n",
       "      <th class=\"col_heading level0 col5\" >n components</th>\n",
       "      <th class=\"col_heading level0 col6\" >n chains</th>\n",
       "      <th class=\"col_heading level0 col7\" >n molecules</th>\n",
       "    </tr>\n",
       "  </thead>\n",
       "  <tbody>\n",
       "    <tr>\n",
       "      <td id=\"T_6d255_row0_col0\" class=\"data row0 col0\" >0</td>\n",
       "      <td id=\"T_6d255_row0_col1\" class=\"data row0 col1\" >Triosephosphate isomerase, glycosomal</td>\n",
       "      <td id=\"T_6d255_row0_col2\" class=\"data row0 col2\" >protein</td>\n",
       "      <td id=\"T_6d255_row0_col3\" class=\"data row0 col3\" >3831</td>\n",
       "      <td id=\"T_6d255_row0_col4\" class=\"data row0 col4\" >500</td>\n",
       "      <td id=\"T_6d255_row0_col5\" class=\"data row0 col5\" >2</td>\n",
       "      <td id=\"T_6d255_row0_col6\" class=\"data row0 col6\" >2</td>\n",
       "      <td id=\"T_6d255_row0_col7\" class=\"data row0 col7\" >1</td>\n",
       "    </tr>\n",
       "    <tr>\n",
       "      <td id=\"T_6d255_row1_col0\" class=\"data row1 col0\" >1</td>\n",
       "      <td id=\"T_6d255_row1_col1\" class=\"data row1 col1\" >SULFATE ION</td>\n",
       "      <td id=\"T_6d255_row1_col2\" class=\"data row1 col2\" >cosolute</td>\n",
       "      <td id=\"T_6d255_row1_col3\" class=\"data row1 col3\" >35</td>\n",
       "      <td id=\"T_6d255_row1_col4\" class=\"data row1 col4\" >7</td>\n",
       "      <td id=\"T_6d255_row1_col5\" class=\"data row1 col5\" >7</td>\n",
       "      <td id=\"T_6d255_row1_col6\" class=\"data row1 col6\" >7</td>\n",
       "      <td id=\"T_6d255_row1_col7\" class=\"data row1 col7\" >7</td>\n",
       "    </tr>\n",
       "    <tr>\n",
       "      <td id=\"T_6d255_row2_col0\" class=\"data row2 col0\" >2</td>\n",
       "      <td id=\"T_6d255_row2_col1\" class=\"data row2 col1\" >3-(2-BENZOTHIAZOLYLTHIO)-1-PROPANESULFONIC ACID</td>\n",
       "      <td id=\"T_6d255_row2_col2\" class=\"data row2 col2\" >small molecule</td>\n",
       "      <td id=\"T_6d255_row2_col3\" class=\"data row2 col3\" >17</td>\n",
       "      <td id=\"T_6d255_row2_col4\" class=\"data row2 col4\" >1</td>\n",
       "      <td id=\"T_6d255_row2_col5\" class=\"data row2 col5\" >1</td>\n",
       "      <td id=\"T_6d255_row2_col6\" class=\"data row2 col6\" >1</td>\n",
       "      <td id=\"T_6d255_row2_col7\" class=\"data row2 col7\" >1</td>\n",
       "    </tr>\n",
       "    <tr>\n",
       "      <td id=\"T_6d255_row3_col0\" class=\"data row3 col0\" >3</td>\n",
       "      <td id=\"T_6d255_row3_col1\" class=\"data row3 col1\" >water</td>\n",
       "      <td id=\"T_6d255_row3_col2\" class=\"data row3 col2\" >water</td>\n",
       "      <td id=\"T_6d255_row3_col3\" class=\"data row3 col3\" >374</td>\n",
       "      <td id=\"T_6d255_row3_col4\" class=\"data row3 col4\" >374</td>\n",
       "      <td id=\"T_6d255_row3_col5\" class=\"data row3 col5\" >374</td>\n",
       "      <td id=\"T_6d255_row3_col6\" class=\"data row3 col6\" >2</td>\n",
       "      <td id=\"T_6d255_row3_col7\" class=\"data row3 col7\" >374</td>\n",
       "    </tr>\n",
       "  </tbody>\n",
       "</table>\n"
      ],
      "text/plain": [
       "<pandas.io.formats.style.Styler at 0x7f7f54224350>"
      ]
     },
     "execution_count": 5,
     "metadata": {},
     "output_type": "execute_result"
    }
   ],
   "source": [
    "msm.info(molecular_system, target='entity')"
   ]
  },
  {
   "cell_type": "code",
   "execution_count": 6,
   "metadata": {},
   "outputs": [
    {
     "data": {
      "text/plain": [
       "array([3883, 3884, 3885, ..., 4254, 4255, 4256])"
      ]
     },
     "execution_count": 6,
     "metadata": {},
     "output_type": "execute_result"
    }
   ],
   "source": [
    "msm.select(molecular_system, selection='molecule_type==\"water\"')"
   ]
  },
  {
   "cell_type": "code",
   "execution_count": 7,
   "metadata": {},
   "outputs": [],
   "source": [
    "small_molecule = msm.extract(molecular_system, selection='molecule_type==\"water\"')"
   ]
  },
  {
   "cell_type": "code",
   "execution_count": 8,
   "metadata": {},
   "outputs": [
    {
     "data": {
      "text/html": [
       "<style type=\"text/css\">\n",
       "</style>\n",
       "<table id=\"T_3f0c7_\">\n",
       "  <thead>\n",
       "    <tr>\n",
       "      <th class=\"col_heading level0 col0\" >form</th>\n",
       "      <th class=\"col_heading level0 col1\" >n_atoms</th>\n",
       "      <th class=\"col_heading level0 col2\" >n_groups</th>\n",
       "      <th class=\"col_heading level0 col3\" >n_components</th>\n",
       "      <th class=\"col_heading level0 col4\" >n_chains</th>\n",
       "      <th class=\"col_heading level0 col5\" >n_molecules</th>\n",
       "      <th class=\"col_heading level0 col6\" >n_entities</th>\n",
       "      <th class=\"col_heading level0 col7\" >n_waters</th>\n",
       "      <th class=\"col_heading level0 col8\" >n_frames</th>\n",
       "    </tr>\n",
       "  </thead>\n",
       "  <tbody>\n",
       "    <tr>\n",
       "      <td id=\"T_3f0c7_row0_col0\" class=\"data row0 col0\" >molsysmt.MolSys</td>\n",
       "      <td id=\"T_3f0c7_row0_col1\" class=\"data row0 col1\" >374</td>\n",
       "      <td id=\"T_3f0c7_row0_col2\" class=\"data row0 col2\" >374</td>\n",
       "      <td id=\"T_3f0c7_row0_col3\" class=\"data row0 col3\" >0</td>\n",
       "      <td id=\"T_3f0c7_row0_col4\" class=\"data row0 col4\" >2</td>\n",
       "      <td id=\"T_3f0c7_row0_col5\" class=\"data row0 col5\" >374</td>\n",
       "      <td id=\"T_3f0c7_row0_col6\" class=\"data row0 col6\" >1</td>\n",
       "      <td id=\"T_3f0c7_row0_col7\" class=\"data row0 col7\" >374</td>\n",
       "      <td id=\"T_3f0c7_row0_col8\" class=\"data row0 col8\" >1</td>\n",
       "    </tr>\n",
       "  </tbody>\n",
       "</table>\n"
      ],
      "text/plain": [
       "<pandas.io.formats.style.Styler at 0x7f7edc7b2190>"
      ]
     },
     "execution_count": 8,
     "metadata": {},
     "output_type": "execute_result"
    }
   ],
   "source": [
    "msm.info(small_molecule)"
   ]
  },
  {
   "cell_type": "markdown",
   "metadata": {},
   "source": [
    "- Include here the extraction of files. File to files and file to other forms."
   ]
  },
  {
   "cell_type": "code",
   "execution_count": null,
   "metadata": {},
   "outputs": [],
   "source": []
  }
 ],
 "metadata": {
  "kernelspec": {
   "display_name": "Python 3 (ipykernel)",
   "language": "python",
   "name": "python3"
  },
  "language_info": {
   "codemirror_mode": {
    "name": "ipython",
    "version": 3
   },
   "file_extension": ".py",
   "mimetype": "text/x-python",
   "name": "python",
   "nbconvert_exporter": "python",
   "pygments_lexer": "ipython3",
   "version": "3.7.10"
  }
 },
 "nbformat": 4,
 "nbformat_minor": 4
}
