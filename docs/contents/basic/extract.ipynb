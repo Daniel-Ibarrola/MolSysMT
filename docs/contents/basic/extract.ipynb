{
 "cells": [
  {
   "cell_type": "code",
   "execution_count": 1,
   "metadata": {},
   "outputs": [],
   "source": [
    "%load_ext autoreload\n",
    "%autoreload 2"
   ]
  },
  {
   "cell_type": "markdown",
   "metadata": {},
   "source": [
    "# Extracting a molecular subsystem"
   ]
  },
  {
   "cell_type": "markdown",
   "metadata": {},
   "source": [
    "## How to extract a molecular subsystem"
   ]
  },
  {
   "cell_type": "code",
   "execution_count": 2,
   "metadata": {},
   "outputs": [
    {
     "name": "stderr",
     "output_type": "stream",
     "text": [
      "Warning: importing 'simtk.openmm' is deprecated.  Import 'openmm' instead.\n"
     ]
    },
    {
     "data": {
      "application/vnd.jupyter.widget-view+json": {
       "model_id": "db4a497daaa648e4813cd63276350662",
       "version_major": 2,
       "version_minor": 0
      },
      "text/plain": []
     },
     "metadata": {},
     "output_type": "display_data"
    }
   ],
   "source": [
    "import molsysmt as msm"
   ]
  },
  {
   "cell_type": "code",
   "execution_count": 3,
   "metadata": {},
   "outputs": [],
   "source": [
    "molecular_system = msm.convert(msm.demo.TcTIM['1tcd.msmpk'])"
   ]
  },
  {
   "cell_type": "code",
   "execution_count": 4,
   "metadata": {},
   "outputs": [
    {
     "data": {
      "text/html": [
       "<style type=\"text/css\">\n",
       "</style>\n",
       "<table id=\"T_bcce8_\">\n",
       "  <thead>\n",
       "    <tr>\n",
       "      <th class=\"col_heading level0 col0\" >index</th>\n",
       "      <th class=\"col_heading level0 col1\" >name</th>\n",
       "      <th class=\"col_heading level0 col2\" >type</th>\n",
       "      <th class=\"col_heading level0 col3\" >n atoms</th>\n",
       "      <th class=\"col_heading level0 col4\" >n groups</th>\n",
       "      <th class=\"col_heading level0 col5\" >n components</th>\n",
       "      <th class=\"col_heading level0 col6\" >n chains</th>\n",
       "      <th class=\"col_heading level0 col7\" >n molecules</th>\n",
       "    </tr>\n",
       "  </thead>\n",
       "  <tbody>\n",
       "    <tr>\n",
       "      <td id=\"T_bcce8_row0_col0\" class=\"data row0 col0\" >0</td>\n",
       "      <td id=\"T_bcce8_row0_col1\" class=\"data row0 col1\" >TRIOSEPHOSPHATE ISOMERASE</td>\n",
       "      <td id=\"T_bcce8_row0_col2\" class=\"data row0 col2\" >protein</td>\n",
       "      <td id=\"T_bcce8_row0_col3\" class=\"data row0 col3\" >3818</td>\n",
       "      <td id=\"T_bcce8_row0_col4\" class=\"data row0 col4\" >497</td>\n",
       "      <td id=\"T_bcce8_row0_col5\" class=\"data row0 col5\" >2</td>\n",
       "      <td id=\"T_bcce8_row0_col6\" class=\"data row0 col6\" >2</td>\n",
       "      <td id=\"T_bcce8_row0_col7\" class=\"data row0 col7\" >1</td>\n",
       "    </tr>\n",
       "    <tr>\n",
       "      <td id=\"T_bcce8_row1_col0\" class=\"data row1 col0\" >1</td>\n",
       "      <td id=\"T_bcce8_row1_col1\" class=\"data row1 col1\" >water</td>\n",
       "      <td id=\"T_bcce8_row1_col2\" class=\"data row1 col2\" >water</td>\n",
       "      <td id=\"T_bcce8_row1_col3\" class=\"data row1 col3\" >165</td>\n",
       "      <td id=\"T_bcce8_row1_col4\" class=\"data row1 col4\" >165</td>\n",
       "      <td id=\"T_bcce8_row1_col5\" class=\"data row1 col5\" >165</td>\n",
       "      <td id=\"T_bcce8_row1_col6\" class=\"data row1 col6\" >2</td>\n",
       "      <td id=\"T_bcce8_row1_col7\" class=\"data row1 col7\" >165</td>\n",
       "    </tr>\n",
       "  </tbody>\n",
       "</table>\n"
      ],
      "text/plain": [
       "<pandas.io.formats.style.Styler at 0x7f9c03d20f10>"
      ]
     },
     "execution_count": 4,
     "metadata": {},
     "output_type": "execute_result"
    }
   ],
   "source": [
    "msm.info(molecular_system, target='entity')"
   ]
  },
  {
   "cell_type": "code",
   "execution_count": 5,
   "metadata": {},
   "outputs": [
    {
     "data": {
      "text/plain": [
       "array([3818, 3819, 3820, ..., 3980, 3981, 3982])"
      ]
     },
     "execution_count": 5,
     "metadata": {},
     "output_type": "execute_result"
    }
   ],
   "source": [
    "msm.select(molecular_system, selection='molecule_type==\"water\"')"
   ]
  },
  {
   "cell_type": "code",
   "execution_count": 6,
   "metadata": {},
   "outputs": [],
   "source": [
    "water = msm.extract(molecular_system, selection='molecule_type==\"water\"')"
   ]
  },
  {
   "cell_type": "code",
   "execution_count": 7,
   "metadata": {},
   "outputs": [
    {
     "data": {
      "text/html": [
       "<style type=\"text/css\">\n",
       "</style>\n",
       "<table id=\"T_37f52_\">\n",
       "  <thead>\n",
       "    <tr>\n",
       "      <th class=\"col_heading level0 col0\" >form</th>\n",
       "      <th class=\"col_heading level0 col1\" >n_atoms</th>\n",
       "      <th class=\"col_heading level0 col2\" >n_groups</th>\n",
       "      <th class=\"col_heading level0 col3\" >n_components</th>\n",
       "      <th class=\"col_heading level0 col4\" >n_chains</th>\n",
       "      <th class=\"col_heading level0 col5\" >n_molecules</th>\n",
       "      <th class=\"col_heading level0 col6\" >n_entities</th>\n",
       "      <th class=\"col_heading level0 col7\" >n_waters</th>\n",
       "      <th class=\"col_heading level0 col8\" >n_frames</th>\n",
       "    </tr>\n",
       "  </thead>\n",
       "  <tbody>\n",
       "    <tr>\n",
       "      <td id=\"T_37f52_row0_col0\" class=\"data row0 col0\" >molsysmt.MolSys</td>\n",
       "      <td id=\"T_37f52_row0_col1\" class=\"data row0 col1\" >165</td>\n",
       "      <td id=\"T_37f52_row0_col2\" class=\"data row0 col2\" >165</td>\n",
       "      <td id=\"T_37f52_row0_col3\" class=\"data row0 col3\" >0</td>\n",
       "      <td id=\"T_37f52_row0_col4\" class=\"data row0 col4\" >2</td>\n",
       "      <td id=\"T_37f52_row0_col5\" class=\"data row0 col5\" >165</td>\n",
       "      <td id=\"T_37f52_row0_col6\" class=\"data row0 col6\" >1</td>\n",
       "      <td id=\"T_37f52_row0_col7\" class=\"data row0 col7\" >165</td>\n",
       "      <td id=\"T_37f52_row0_col8\" class=\"data row0 col8\" >1</td>\n",
       "    </tr>\n",
       "  </tbody>\n",
       "</table>\n"
      ],
      "text/plain": [
       "<pandas.io.formats.style.Styler at 0x7f9ba7f4c8d0>"
      ]
     },
     "execution_count": 7,
     "metadata": {},
     "output_type": "execute_result"
    }
   ],
   "source": [
    "msm.info(water)"
   ]
  },
  {
   "cell_type": "markdown",
   "metadata": {},
   "source": [
    "- Include here the extraction of files. File to files and file to other forms."
   ]
  },
  {
   "cell_type": "code",
   "execution_count": null,
   "metadata": {},
   "outputs": [],
   "source": []
  }
 ],
 "metadata": {
  "kernelspec": {
   "display_name": "Python 3 (ipykernel)",
   "language": "python",
   "name": "python3"
  },
  "language_info": {
   "codemirror_mode": {
    "name": "ipython",
    "version": 3
   },
   "file_extension": ".py",
   "mimetype": "text/x-python",
   "name": "python",
   "nbconvert_exporter": "python",
   "pygments_lexer": "ipython3",
   "version": "3.7.10"
  }
 },
 "nbformat": 4,
 "nbformat_minor": 4
}
