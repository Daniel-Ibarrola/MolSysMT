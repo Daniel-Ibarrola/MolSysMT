{
 "cells": [
  {
   "cell_type": "code",
   "execution_count": 1,
   "metadata": {},
   "outputs": [],
   "source": [
    "%load_ext autoreload\n",
    "%autoreload 2"
   ]
  },
  {
   "cell_type": "code",
   "execution_count": 2,
   "metadata": {},
   "outputs": [
    {
     "data": {
      "application/vnd.jupyter.widget-view+json": {
       "model_id": "61e5c0bc0d4242059d03a4494ee9f02f",
       "version_major": 2,
       "version_minor": 0
      },
      "text/plain": []
     },
     "metadata": {},
     "output_type": "display_data"
    }
   ],
   "source": [
    "import molsysmt as msm"
   ]
  },
  {
   "cell_type": "markdown",
   "metadata": {},
   "source": [
    "# How to convert a form into other form\n",
    "\n",
    "The meaning of molecular system 'form', in the context of MolSysMT, has been described previously in the section XXX. There is in MolSysMT a method to convert a form into other form: `molsysmt.convert()`. This method is the keystone of this library, the hinge all other methods and tools in MolSysMT rotates on. And in addition, the joining piece connecting the pipes of your work-flow when using different python libraries.\n",
    "\n",
    "The method `molsysmt.convert()` requires at least two input arguments: the original pre-existing item in whatever form accepted by MolSysMT (see XXX), and the name of the output form: "
   ]
  },
  {
   "cell_type": "code",
   "execution_count": 4,
   "metadata": {},
   "outputs": [],
   "source": [
    "molecular_system = msm.convert('1TCD', 'molsysmt.MolSys')"
   ]
  },
  {
   "cell_type": "code",
   "execution_count": 5,
   "metadata": {},
   "outputs": [
    {
     "data": {
      "text/html": [
       "<div>\n",
       "<style scoped>\n",
       "    .dataframe tbody tr th:only-of-type {\n",
       "        vertical-align: middle;\n",
       "    }\n",
       "\n",
       "    .dataframe tbody tr th {\n",
       "        vertical-align: top;\n",
       "    }\n",
       "\n",
       "    .dataframe thead th {\n",
       "        text-align: right;\n",
       "    }\n",
       "</style>\n",
       "<table border=\"1\" class=\"dataframe\">\n",
       "  <thead>\n",
       "    <tr style=\"text-align: right;\">\n",
       "      <th></th>\n",
       "      <th>atom_index</th>\n",
       "      <th>atom_name</th>\n",
       "      <th>atom_id</th>\n",
       "      <th>atom_type</th>\n",
       "      <th>group_index</th>\n",
       "      <th>group_name</th>\n",
       "      <th>group_id</th>\n",
       "      <th>group_type</th>\n",
       "      <th>component_index</th>\n",
       "      <th>component_name</th>\n",
       "      <th>...</th>\n",
       "      <th>chain_id</th>\n",
       "      <th>chain_type</th>\n",
       "      <th>molecule_index</th>\n",
       "      <th>molecule_name</th>\n",
       "      <th>molecule_id</th>\n",
       "      <th>molecule_type</th>\n",
       "      <th>entity_index</th>\n",
       "      <th>entity_name</th>\n",
       "      <th>entity_id</th>\n",
       "      <th>entity_type</th>\n",
       "    </tr>\n",
       "  </thead>\n",
       "  <tbody>\n",
       "    <tr>\n",
       "      <th>0</th>\n",
       "      <td>0</td>\n",
       "      <td>N</td>\n",
       "      <td>1</td>\n",
       "      <td>N</td>\n",
       "      <td>0</td>\n",
       "      <td>LYS</td>\n",
       "      <td>4</td>\n",
       "      <td>aminoacid</td>\n",
       "      <td>0</td>\n",
       "      <td>None</td>\n",
       "      <td>...</td>\n",
       "      <td>A</td>\n",
       "      <td>NaN</td>\n",
       "      <td>0</td>\n",
       "      <td>TRIOSEPHOSPHATE ISOMERASE</td>\n",
       "      <td>0</td>\n",
       "      <td>protein</td>\n",
       "      <td>0</td>\n",
       "      <td>TRIOSEPHOSPHATE ISOMERASE</td>\n",
       "      <td>0</td>\n",
       "      <td>protein</td>\n",
       "    </tr>\n",
       "    <tr>\n",
       "      <th>1</th>\n",
       "      <td>1</td>\n",
       "      <td>CA</td>\n",
       "      <td>2</td>\n",
       "      <td>C</td>\n",
       "      <td>0</td>\n",
       "      <td>LYS</td>\n",
       "      <td>4</td>\n",
       "      <td>aminoacid</td>\n",
       "      <td>0</td>\n",
       "      <td>None</td>\n",
       "      <td>...</td>\n",
       "      <td>A</td>\n",
       "      <td>NaN</td>\n",
       "      <td>0</td>\n",
       "      <td>TRIOSEPHOSPHATE ISOMERASE</td>\n",
       "      <td>0</td>\n",
       "      <td>protein</td>\n",
       "      <td>0</td>\n",
       "      <td>TRIOSEPHOSPHATE ISOMERASE</td>\n",
       "      <td>0</td>\n",
       "      <td>protein</td>\n",
       "    </tr>\n",
       "    <tr>\n",
       "      <th>2</th>\n",
       "      <td>2</td>\n",
       "      <td>C</td>\n",
       "      <td>3</td>\n",
       "      <td>C</td>\n",
       "      <td>0</td>\n",
       "      <td>LYS</td>\n",
       "      <td>4</td>\n",
       "      <td>aminoacid</td>\n",
       "      <td>0</td>\n",
       "      <td>None</td>\n",
       "      <td>...</td>\n",
       "      <td>A</td>\n",
       "      <td>NaN</td>\n",
       "      <td>0</td>\n",
       "      <td>TRIOSEPHOSPHATE ISOMERASE</td>\n",
       "      <td>0</td>\n",
       "      <td>protein</td>\n",
       "      <td>0</td>\n",
       "      <td>TRIOSEPHOSPHATE ISOMERASE</td>\n",
       "      <td>0</td>\n",
       "      <td>protein</td>\n",
       "    </tr>\n",
       "    <tr>\n",
       "      <th>3</th>\n",
       "      <td>3</td>\n",
       "      <td>O</td>\n",
       "      <td>4</td>\n",
       "      <td>O</td>\n",
       "      <td>0</td>\n",
       "      <td>LYS</td>\n",
       "      <td>4</td>\n",
       "      <td>aminoacid</td>\n",
       "      <td>0</td>\n",
       "      <td>None</td>\n",
       "      <td>...</td>\n",
       "      <td>A</td>\n",
       "      <td>NaN</td>\n",
       "      <td>0</td>\n",
       "      <td>TRIOSEPHOSPHATE ISOMERASE</td>\n",
       "      <td>0</td>\n",
       "      <td>protein</td>\n",
       "      <td>0</td>\n",
       "      <td>TRIOSEPHOSPHATE ISOMERASE</td>\n",
       "      <td>0</td>\n",
       "      <td>protein</td>\n",
       "    </tr>\n",
       "    <tr>\n",
       "      <th>4</th>\n",
       "      <td>4</td>\n",
       "      <td>CB</td>\n",
       "      <td>5</td>\n",
       "      <td>C</td>\n",
       "      <td>0</td>\n",
       "      <td>LYS</td>\n",
       "      <td>4</td>\n",
       "      <td>aminoacid</td>\n",
       "      <td>0</td>\n",
       "      <td>None</td>\n",
       "      <td>...</td>\n",
       "      <td>A</td>\n",
       "      <td>NaN</td>\n",
       "      <td>0</td>\n",
       "      <td>TRIOSEPHOSPHATE ISOMERASE</td>\n",
       "      <td>0</td>\n",
       "      <td>protein</td>\n",
       "      <td>0</td>\n",
       "      <td>TRIOSEPHOSPHATE ISOMERASE</td>\n",
       "      <td>0</td>\n",
       "      <td>protein</td>\n",
       "    </tr>\n",
       "    <tr>\n",
       "      <th>...</th>\n",
       "      <td>...</td>\n",
       "      <td>...</td>\n",
       "      <td>...</td>\n",
       "      <td>...</td>\n",
       "      <td>...</td>\n",
       "      <td>...</td>\n",
       "      <td>...</td>\n",
       "      <td>...</td>\n",
       "      <td>...</td>\n",
       "      <td>...</td>\n",
       "      <td>...</td>\n",
       "      <td>...</td>\n",
       "      <td>...</td>\n",
       "      <td>...</td>\n",
       "      <td>...</td>\n",
       "      <td>...</td>\n",
       "      <td>...</td>\n",
       "      <td>...</td>\n",
       "      <td>...</td>\n",
       "      <td>...</td>\n",
       "      <td>...</td>\n",
       "    </tr>\n",
       "    <tr>\n",
       "      <th>3978</th>\n",
       "      <td>3978</td>\n",
       "      <td>O</td>\n",
       "      <td>3979</td>\n",
       "      <td>O</td>\n",
       "      <td>657</td>\n",
       "      <td>HOH</td>\n",
       "      <td>339</td>\n",
       "      <td>water</td>\n",
       "      <td>162</td>\n",
       "      <td>None</td>\n",
       "      <td>...</td>\n",
       "      <td>D</td>\n",
       "      <td>NaN</td>\n",
       "      <td>161</td>\n",
       "      <td>water</td>\n",
       "      <td>161</td>\n",
       "      <td>water</td>\n",
       "      <td>1</td>\n",
       "      <td>water</td>\n",
       "      <td>1</td>\n",
       "      <td>water</td>\n",
       "    </tr>\n",
       "    <tr>\n",
       "      <th>3979</th>\n",
       "      <td>3979</td>\n",
       "      <td>O</td>\n",
       "      <td>3980</td>\n",
       "      <td>O</td>\n",
       "      <td>658</td>\n",
       "      <td>HOH</td>\n",
       "      <td>340</td>\n",
       "      <td>water</td>\n",
       "      <td>163</td>\n",
       "      <td>None</td>\n",
       "      <td>...</td>\n",
       "      <td>D</td>\n",
       "      <td>NaN</td>\n",
       "      <td>162</td>\n",
       "      <td>water</td>\n",
       "      <td>162</td>\n",
       "      <td>water</td>\n",
       "      <td>1</td>\n",
       "      <td>water</td>\n",
       "      <td>1</td>\n",
       "      <td>water</td>\n",
       "    </tr>\n",
       "    <tr>\n",
       "      <th>3980</th>\n",
       "      <td>3980</td>\n",
       "      <td>O</td>\n",
       "      <td>3981</td>\n",
       "      <td>O</td>\n",
       "      <td>659</td>\n",
       "      <td>HOH</td>\n",
       "      <td>341</td>\n",
       "      <td>water</td>\n",
       "      <td>164</td>\n",
       "      <td>None</td>\n",
       "      <td>...</td>\n",
       "      <td>D</td>\n",
       "      <td>NaN</td>\n",
       "      <td>163</td>\n",
       "      <td>water</td>\n",
       "      <td>163</td>\n",
       "      <td>water</td>\n",
       "      <td>1</td>\n",
       "      <td>water</td>\n",
       "      <td>1</td>\n",
       "      <td>water</td>\n",
       "    </tr>\n",
       "    <tr>\n",
       "      <th>3981</th>\n",
       "      <td>3981</td>\n",
       "      <td>O</td>\n",
       "      <td>3982</td>\n",
       "      <td>O</td>\n",
       "      <td>660</td>\n",
       "      <td>HOH</td>\n",
       "      <td>342</td>\n",
       "      <td>water</td>\n",
       "      <td>165</td>\n",
       "      <td>None</td>\n",
       "      <td>...</td>\n",
       "      <td>D</td>\n",
       "      <td>NaN</td>\n",
       "      <td>164</td>\n",
       "      <td>water</td>\n",
       "      <td>164</td>\n",
       "      <td>water</td>\n",
       "      <td>1</td>\n",
       "      <td>water</td>\n",
       "      <td>1</td>\n",
       "      <td>water</td>\n",
       "    </tr>\n",
       "    <tr>\n",
       "      <th>3982</th>\n",
       "      <td>3982</td>\n",
       "      <td>O</td>\n",
       "      <td>3983</td>\n",
       "      <td>O</td>\n",
       "      <td>661</td>\n",
       "      <td>HOH</td>\n",
       "      <td>343</td>\n",
       "      <td>water</td>\n",
       "      <td>166</td>\n",
       "      <td>None</td>\n",
       "      <td>...</td>\n",
       "      <td>D</td>\n",
       "      <td>NaN</td>\n",
       "      <td>165</td>\n",
       "      <td>water</td>\n",
       "      <td>165</td>\n",
       "      <td>water</td>\n",
       "      <td>1</td>\n",
       "      <td>water</td>\n",
       "      <td>1</td>\n",
       "      <td>water</td>\n",
       "    </tr>\n",
       "  </tbody>\n",
       "</table>\n",
       "<p>3983 rows × 24 columns</p>\n",
       "</div>"
      ],
      "text/plain": [
       "      atom_index atom_name  atom_id atom_type  group_index group_name  \\\n",
       "0              0         N        1         N            0        LYS   \n",
       "1              1        CA        2         C            0        LYS   \n",
       "2              2         C        3         C            0        LYS   \n",
       "3              3         O        4         O            0        LYS   \n",
       "4              4        CB        5         C            0        LYS   \n",
       "...          ...       ...      ...       ...          ...        ...   \n",
       "3978        3978         O     3979         O          657        HOH   \n",
       "3979        3979         O     3980         O          658        HOH   \n",
       "3980        3980         O     3981         O          659        HOH   \n",
       "3981        3981         O     3982         O          660        HOH   \n",
       "3982        3982         O     3983         O          661        HOH   \n",
       "\n",
       "      group_id group_type  component_index component_name  ... chain_id  \\\n",
       "0            4  aminoacid                0           None  ...        A   \n",
       "1            4  aminoacid                0           None  ...        A   \n",
       "2            4  aminoacid                0           None  ...        A   \n",
       "3            4  aminoacid                0           None  ...        A   \n",
       "4            4  aminoacid                0           None  ...        A   \n",
       "...        ...        ...              ...            ...  ...      ...   \n",
       "3978       339      water              162           None  ...        D   \n",
       "3979       340      water              163           None  ...        D   \n",
       "3980       341      water              164           None  ...        D   \n",
       "3981       342      water              165           None  ...        D   \n",
       "3982       343      water              166           None  ...        D   \n",
       "\n",
       "     chain_type  molecule_index              molecule_name molecule_id  \\\n",
       "0           NaN               0  TRIOSEPHOSPHATE ISOMERASE           0   \n",
       "1           NaN               0  TRIOSEPHOSPHATE ISOMERASE           0   \n",
       "2           NaN               0  TRIOSEPHOSPHATE ISOMERASE           0   \n",
       "3           NaN               0  TRIOSEPHOSPHATE ISOMERASE           0   \n",
       "4           NaN               0  TRIOSEPHOSPHATE ISOMERASE           0   \n",
       "...         ...             ...                        ...         ...   \n",
       "3978        NaN             161                      water         161   \n",
       "3979        NaN             162                      water         162   \n",
       "3980        NaN             163                      water         163   \n",
       "3981        NaN             164                      water         164   \n",
       "3982        NaN             165                      water         165   \n",
       "\n",
       "     molecule_type  entity_index                entity_name entity_id  \\\n",
       "0          protein             0  TRIOSEPHOSPHATE ISOMERASE         0   \n",
       "1          protein             0  TRIOSEPHOSPHATE ISOMERASE         0   \n",
       "2          protein             0  TRIOSEPHOSPHATE ISOMERASE         0   \n",
       "3          protein             0  TRIOSEPHOSPHATE ISOMERASE         0   \n",
       "4          protein             0  TRIOSEPHOSPHATE ISOMERASE         0   \n",
       "...            ...           ...                        ...       ...   \n",
       "3978         water             1                      water         1   \n",
       "3979         water             1                      water         1   \n",
       "3980         water             1                      water         1   \n",
       "3981         water             1                      water         1   \n",
       "3982         water             1                      water         1   \n",
       "\n",
       "     entity_type  \n",
       "0        protein  \n",
       "1        protein  \n",
       "2        protein  \n",
       "3        protein  \n",
       "4        protein  \n",
       "...          ...  \n",
       "3978       water  \n",
       "3979       water  \n",
       "3980       water  \n",
       "3981       water  \n",
       "3982       water  \n",
       "\n",
       "[3983 rows x 24 columns]"
      ]
     },
     "execution_count": 5,
     "metadata": {},
     "output_type": "execute_result"
    }
   ],
   "source": [
    "molecular_system.topology.atoms_dataframe"
   ]
  },
  {
   "cell_type": "markdown",
   "metadata": {},
   "source": [
    "The id code `1TCD` from the Protein Data Bank is converted into a native `molsysmt.MolSys` python object. At this point, you probably think that this operation can also be done with the method `molsysmt.load()`. And you are right. Actually, `molsysmt.load()` is nothing but an alias of `molsysmt.convert()`. Although redundant, a loading method was included in MolSysMT just for the sake of intuitive usability. But it could be removed from the library since `molsysmt.convert()` has the same functionality.\n",
    "\n",
    "The following cells illustrate some conversions you can do with `molsysmt.convert()`:"
   ]
  },
  {
   "cell_type": "code",
   "execution_count": null,
   "metadata": {},
   "outputs": [],
   "source": [
    "msm.get_form('1sux.pdb')"
   ]
  },
  {
   "cell_type": "code",
   "execution_count": null,
   "metadata": {},
   "outputs": [],
   "source": [
    "msm.convert('1SUX', '1sux.pdb') # fetching a pdb file to save it locally"
   ]
  },
  {
   "cell_type": "code",
   "execution_count": null,
   "metadata": {},
   "outputs": [],
   "source": [
    "msm.convert('1SUZ', '1sux.mmtf') # fetching an mmtf to save it locally"
   ]
  },
  {
   "cell_type": "code",
   "execution_count": null,
   "metadata": {},
   "outputs": [],
   "source": [
    "pdb_file = msm.demo_systems.files['1tcd.pdb']\n",
    "molecular_system = msm.convert(pdb_file, 'mdtraj.Trajectory') # loading a pdb file as an mdtraj.Trajectory object"
   ]
  },
  {
   "cell_type": "code",
   "execution_count": null,
   "metadata": {},
   "outputs": [],
   "source": [
    "seq_aa1 = msm.convert(molecular_system, 'string:aminoacids1') # converting an mdtraj.Trajectory into a sequence form"
   ]
  },
  {
   "cell_type": "markdown",
   "metadata": {},
   "source": [
    "## How to convert just a selection"
   ]
  },
  {
   "cell_type": "markdown",
   "metadata": {},
   "source": [
    "The conversion can be done over the entiry system or over a part of it. The input argument `selection` works with most of the MolSysMT methods, with `molsysmt.convert()` also. To know more about how to perform selections there is a section on this documentation entitled \"XXX\". By now, lets see some simple selections to see how it operates: "
   ]
  },
  {
   "cell_type": "code",
   "execution_count": null,
   "metadata": {},
   "outputs": [],
   "source": [
    "pdb_file = msm.demo_systems.files['1tcd.pdb']\n",
    "whole_molecular_system = msm.convert(pdb_file, to_form='openmm.Topology')"
   ]
  },
  {
   "cell_type": "code",
   "execution_count": null,
   "metadata": {},
   "outputs": [],
   "source": [
    "msm.info(whole_molecular_system)"
   ]
  },
  {
   "cell_type": "code",
   "execution_count": null,
   "metadata": {},
   "outputs": [],
   "source": [
    "aa = msm.convert(pdb_file, to_form='string:pdb')"
   ]
  },
  {
   "cell_type": "code",
   "execution_count": null,
   "metadata": {},
   "outputs": [],
   "source": [
    "msm.get_form(aa)"
   ]
  },
  {
   "cell_type": "code",
   "execution_count": null,
   "metadata": {},
   "outputs": [],
   "source": [
    "molecular_system = msm.convert(pdb_file, to_form='openmm.Topology',\n",
    "                               selection='molecule_type==\"protein\"')"
   ]
  },
  {
   "cell_type": "code",
   "execution_count": null,
   "metadata": {},
   "outputs": [],
   "source": [
    "msm.info(molecular_system)"
   ]
  },
  {
   "cell_type": "markdown",
   "metadata": {},
   "source": [
    "## How to combine multiple forms into one"
   ]
  },
  {
   "cell_type": "markdown",
   "metadata": {},
   "source": [
    "Sometimes the molecular system comes from the combination of more than a form. For example, we can have two files with topology and coordinates to be converted into an only molecular form:"
   ]
  },
  {
   "cell_type": "code",
   "execution_count": null,
   "metadata": {},
   "outputs": [],
   "source": [
    "prmtop_file = msm.demo_systems.files['pentalanine.prmtop']\n",
    "inpcrd_file = msm.demo_systems.files['pentalanine.inpcrd']\n",
    "molecular_system = msm.convert([prmtop_file, inpcrd_file], to_form='molsysmt.MolSys')"
   ]
  },
  {
   "cell_type": "code",
   "execution_count": null,
   "metadata": {},
   "outputs": [],
   "source": [
    "msm.info(molecular_system)"
   ]
  },
  {
   "cell_type": "markdown",
   "metadata": {},
   "source": [
    "## How to convert a form into multiple ones at once"
   ]
  },
  {
   "cell_type": "markdown",
   "metadata": {},
   "source": [
    "In the previous section the way to convert multiple forms into one was illustrated. Lets see now how to produce more than an output form in just a single line:"
   ]
  },
  {
   "cell_type": "code",
   "execution_count": null,
   "metadata": {},
   "outputs": [],
   "source": [
    "h5_file = msm.demo_systems.files['pentalanine.h5']\n",
    "topology, trajectory = msm.convert(h5_file, to_form=['molsysmt.Topology','molsysmt.Trajectory'])"
   ]
  },
  {
   "cell_type": "code",
   "execution_count": null,
   "metadata": {},
   "outputs": [],
   "source": [
    "msm.info(topology)"
   ]
  },
  {
   "cell_type": "code",
   "execution_count": null,
   "metadata": {},
   "outputs": [],
   "source": [
    "msm.info(trajectory)"
   ]
  },
  {
   "cell_type": "code",
   "execution_count": null,
   "metadata": {},
   "outputs": [],
   "source": [
    "msm.info([topology, trajectory])"
   ]
  },
  {
   "cell_type": "markdown",
   "metadata": {},
   "source": [
    "Lets now combine both forms into one to see their were properly converted:"
   ]
  },
  {
   "cell_type": "code",
   "execution_count": null,
   "metadata": {},
   "outputs": [],
   "source": [
    "pdb_string = msm.convert([topology, trajectory], to_form='string:pdb', frame_indices=0)\n",
    "print(pdb_string)"
   ]
  },
  {
   "cell_type": "markdown",
   "metadata": {},
   "source": [
    "## Some examples with files"
   ]
  },
  {
   "cell_type": "code",
   "execution_count": null,
   "metadata": {},
   "outputs": [],
   "source": [
    "PDB_file = msm.demo_systems.files['1tcd.pdb']\n",
    "system_pdbfixer = msm.convert(PDB_file, to_form='pdbfixer.PDBFixer')\n",
    "system_parmed = msm.convert(PDB_file, to_form='parmed.Structure')"
   ]
  },
  {
   "cell_type": "code",
   "execution_count": null,
   "metadata": {},
   "outputs": [],
   "source": [
    "MOL2_file = msm.demo_systems.files['caffeine.mol2']\n",
    "system_openmm = msm.convert(MOL2_file, to_form='openmm.Modeller')\n",
    "system_mdtraj = msm.convert(MOL2_file, to_form='mdtraj.Trajectory')"
   ]
  },
  {
   "cell_type": "code",
   "execution_count": null,
   "metadata": {},
   "outputs": [],
   "source": [
    "MMTF_file = msm.demo_systems.files['1tcd.mmtf']\n",
    "system_aminoacids1_seq = msm.convert(MMTF_file, to_form='string:aminoacids1')\n",
    "system_molsys = msm.convert(MMTF_file)"
   ]
  },
  {
   "cell_type": "code",
   "execution_count": null,
   "metadata": {},
   "outputs": [],
   "source": [
    "print('Form of object system_pdbfixer: ', msm.get_form(system_pdbfixer))\n",
    "print('Form of object system_parmed: ', msm.get_form(system_parmed))\n",
    "print('Form of object system_openmm: ', msm.get_form(system_openmm))\n",
    "print('Form of object system_mdtraj: ', msm.get_form(system_mdtraj))\n",
    "print('Form of object system_aminoacids1_seq: ', msm.get_form(system_aminoacids1_seq))\n",
    "print('Form of object system_molsys: ', msm.get_form(system_molsys))"
   ]
  },
  {
   "cell_type": "markdown",
   "metadata": {},
   "source": [
    "A single file can be converted into more than a form in just a line:"
   ]
  },
  {
   "cell_type": "code",
   "execution_count": null,
   "metadata": {},
   "outputs": [],
   "source": [
    "h5_file = msm.demo_systems.files['pentalanine.h5']\n",
    "topology, trajectory = msm.convert(h5_file, to_form=['molsysmt.Topology','molsysmt.Trajectory'])"
   ]
  },
  {
   "cell_type": "markdown",
   "metadata": {},
   "source": [
    "When the output file path is only a dot followed by the file extension, the output is a string insted of a written file. Lets see how this works when two forms are combinend into a pdb string:"
   ]
  },
  {
   "cell_type": "code",
   "execution_count": null,
   "metadata": {},
   "outputs": [],
   "source": [
    "pdb_string = msm.convert([topology,trajectory], to_form='string:pdb', frame_indices=0)"
   ]
  },
  {
   "cell_type": "code",
   "execution_count": null,
   "metadata": {},
   "outputs": [],
   "source": [
    "msm.get_form(pdb_string)"
   ]
  },
  {
   "cell_type": "markdown",
   "metadata": {},
   "source": [
    "## Some examples with IDs"
   ]
  },
  {
   "cell_type": "code",
   "execution_count": null,
   "metadata": {},
   "outputs": [],
   "source": [
    "molecular_system = msm.convert('1SUX', to_form='mdtraj.Trajectory')"
   ]
  },
  {
   "cell_type": "markdown",
   "metadata": {},
   "source": [
    "## Conversions implemented in MolSysMT"
   ]
  },
  {
   "cell_type": "code",
   "execution_count": null,
   "metadata": {},
   "outputs": [],
   "source": [
    "msm.help.convert(from_form='mdtraj.Trajectory', to_form_type='string')"
   ]
  },
  {
   "cell_type": "code",
   "execution_count": null,
   "metadata": {},
   "outputs": [],
   "source": [
    "msm.help.convert(from_form='mdtraj.Trajectory', to_form_type='file', as_rows='to')"
   ]
  },
  {
   "cell_type": "code",
   "execution_count": null,
   "metadata": {},
   "outputs": [],
   "source": [
    "from_list=['pytraj.Trajectory','mdanalysis.Universe']\n",
    "to_list=['mdtraj.Trajectory', 'openmm.Topology']\n",
    "msm.help.convert(from_form=from_list, to_form=to_list)"
   ]
  },
  {
   "cell_type": "code",
   "execution_count": null,
   "metadata": {},
   "outputs": [],
   "source": []
  },
  {
   "cell_type": "code",
   "execution_count": 10,
   "metadata": {},
   "outputs": [
    {
     "data": {
      "text/plain": [
       "False"
      ]
     },
     "execution_count": 10,
     "metadata": {},
     "output_type": "execute_result"
    }
   ],
   "source": [
    "not True"
   ]
  },
  {
   "cell_type": "code",
   "execution_count": null,
   "metadata": {},
   "outputs": [],
   "source": []
  }
 ],
 "metadata": {
  "kernelspec": {
   "display_name": "Python 3",
   "language": "python",
   "name": "python3"
  },
  "language_info": {
   "codemirror_mode": {
    "name": "ipython",
    "version": 3
   },
   "file_extension": ".py",
   "mimetype": "text/x-python",
   "name": "python",
   "nbconvert_exporter": "python",
   "pygments_lexer": "ipython3",
   "version": "3.7.10"
  }
 },
 "nbformat": 4,
 "nbformat_minor": 4
}
