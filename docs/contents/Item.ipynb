{
 "cells": [
  {
   "cell_type": "code",
   "execution_count": null,
   "metadata": {},
   "outputs": [],
   "source": [
    "%load_ext autoreload\n",
    "%autoreload 2"
   ]
  },
  {
   "cell_type": "markdown",
   "metadata": {},
   "source": [
    "# Items and Molecular Systems"
   ]
  },
  {
   "cell_type": "code",
   "execution_count": 3,
   "metadata": {},
   "outputs": [],
   "source": [
    "from molsysmt.tools.items import is_a_single_molecular_system, where_topology_in_molecular_system,\\\n",
    "                where_trajectory_in_molecular_system, where_coordinates_in_molecular_system,\\\n",
    "                where_box_in_molecular_system"
   ]
  },
  {
   "cell_type": "markdown",
   "metadata": {},
   "source": [
    "- Puede haber items con topology, coordinates or trajectory o box.\n",
    "Un sistema molecular puede venir descrito por un item o varios items. Por ejemplo un sistema con topología, coordinates y box por separado. O un sistema con un solo item. O una topología con trajectoria."
   ]
  },
  {
   "cell_type": "markdown",
   "metadata": {},
   "source": [
    "## Casos que quiero resolver"
   ]
  },
  {
   "cell_type": "markdown",
   "metadata": {},
   "source": [
    "### 1 sistema molecular\n",
    "\n",
    "- El sistema molecular tiene únicamente una topología\n",
    "- El sistema molecular tiene únicamente una secuencia de frames o coordenadas\n",
    "- En el caso de un item, está claro.\n",
    "- Box tomo la que viene con las coordenadas o la última en la lista.\n",
    "- Sólo si topologies <=2 and coordinates <=2.\n",
    "- Podríamos tener más de 2 items si por ejemplo un tercero tiene sólo box.\n",
    "\n",
    "    - 0 topologías, 0 coordenadas -> -\n",
    "    - 0 topologías, 1 coordenadas -> Si\n",
    "    - 0 topologías, 2 coordenadas -> No.\n",
    "    \n",
    "    - 1 topologías, 0 coordenadas -> Si\n",
    "    - 1 topologías, 1 coordenadas -> Si\n",
    "    - 1 topologías, 2 coordenadas -> Si la top va con coords, si. Si no, no.\n",
    "\n",
    "    - 2 topologías, 0 coordenadas -> No\n",
    "    - 2 topologías, 1 coordenadas -> Si las coords van con top, si. Si no, no.\n",
    "    - 2 topologías, 2 coordenadas -> No\n",
    "\n",
    "- si hay un item con box sin coordinates ni topology, esa box se pilla."
   ]
  },
  {
   "cell_type": "markdown",
   "metadata": {},
   "source": [
    "Multiple molecular systems in a single list only possible si todas las topologías llevan sus coordenadas. La box debe ser la misma o será cogida la última."
   ]
  },
  {
   "cell_type": "markdown",
   "metadata": {},
   "source": [
    "### More than a molecular system\n",
    "\n",
    "- Lista de items no definido como single molecular system.\n",
    "- Lista de listas, donde cada sublista es un molecular system.\n",
    "- Llista de items con alguna lista dentro, si es que un molecular system está definido por más de un item."
   ]
  },
  {
   "cell_type": "markdown",
   "metadata": {},
   "source": [
    "Ahora he sacado el has_topology o has_coordinates en msm.tools.items"
   ]
  },
  {
   "cell_type": "markdown",
   "metadata": {},
   "source": [
    "Hay un método para completar? O para añadir información a un item de otro item... por ejemplo, un molsysmt.Topology sin bonds y un openmm.Topology igual con bonds... pasar los bonds al otro. O por ejemplo, una trayectoria sin box y le meto box. No.... esto tendría que poder hacerse con 'set'"
   ]
  },
  {
   "cell_type": "code",
   "execution_count": null,
   "metadata": {},
   "outputs": [],
   "source": []
  }
 ],
 "metadata": {
  "kernelspec": {
   "display_name": "Python 3",
   "language": "python",
   "name": "python3"
  },
  "language_info": {
   "codemirror_mode": {
    "name": "ipython",
    "version": 3
   },
   "file_extension": ".py",
   "mimetype": "text/x-python",
   "name": "python",
   "nbconvert_exporter": "python",
   "pygments_lexer": "ipython3",
   "version": "3.7.9"
  }
 },
 "nbformat": 4,
 "nbformat_minor": 4
}
