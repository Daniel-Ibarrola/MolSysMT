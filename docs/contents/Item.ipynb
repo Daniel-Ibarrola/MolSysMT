{
 "cells": [
  {
   "cell_type": "code",
   "execution_count": 1,
   "metadata": {},
   "outputs": [],
   "source": [
    "%load_ext autoreload\n",
    "%autoreload 2"
   ]
  },
  {
   "cell_type": "markdown",
   "metadata": {},
   "source": [
    "# Items and Molecular Systems"
   ]
  },
  {
   "cell_type": "code",
   "execution_count": 8,
   "metadata": {},
   "outputs": [],
   "source": [
    "from molsysmt.tools import molecular_systems as tools_molecular_systems\n",
    "from molsysmt.tools import items as tools_items"
   ]
  },
  {
   "cell_type": "code",
   "execution_count": 6,
   "metadata": {},
   "outputs": [
    {
     "name": "stdout",
     "output_type": "stream",
     "text": [
      "Help on module molsysmt.tools.molecular_systems in molsysmt.tools:\n",
      "\n",
      "NAME\n",
      "    molsysmt.tools.molecular_systems\n",
      "\n",
      "FUNCTIONS\n",
      "    is_a_single_molecular_system(items)\n",
      "    \n",
      "    where_any_in_molecular_system(items)\n",
      "    \n",
      "    where_box_in_molecular_system(items)\n",
      "    \n",
      "    where_coordinates_in_molecular_system(items)\n",
      "    \n",
      "    where_topology_in_molecular_system(items)\n",
      "    \n",
      "    where_trajectory_in_molecular_system(items)\n",
      "\n",
      "FILE\n",
      "    /home/diego/Proyectos/MolSysMT/molsysmt/tools/molecular_systems.py\n",
      "\n",
      "\n"
     ]
    }
   ],
   "source": [
    "help(tools_molecular_systems)"
   ]
  },
  {
   "cell_type": "code",
   "execution_count": 9,
   "metadata": {},
   "outputs": [
    {
     "name": "stdout",
     "output_type": "stream",
     "text": [
      "Help on module molsysmt.tools.items in molsysmt.tools:\n",
      "\n",
      "NAME\n",
      "    molsysmt.tools.items\n",
      "\n",
      "FUNCTIONS\n",
      "    compatibles_for_a_molecular_system(items)\n",
      "    \n",
      "    has_box(items)\n",
      "    \n",
      "    has_coordinates(items)\n",
      "    \n",
      "    has_topology(items)\n",
      "    \n",
      "    has_trajectory(items)\n",
      "\n",
      "FILE\n",
      "    /home/diego/Proyectos/MolSysMT/molsysmt/tools/items.py\n",
      "\n",
      "\n"
     ]
    }
   ],
   "source": [
    "help(tools_items)"
   ]
  },
  {
   "cell_type": "code",
   "execution_count": 10,
   "metadata": {},
   "outputs": [
    {
     "ename": "KeyError",
     "evalue": "'has_topology'",
     "output_type": "error",
     "traceback": [
      "\u001b[0;31m---------------------------------------------------------------------------\u001b[0m",
      "\u001b[0;31mKeyError\u001b[0m                                  Traceback (most recent call last)",
      "\u001b[0;32m<ipython-input-10-f43fb040db59>\u001b[0m in \u001b[0;36m<module>\u001b[0;34m\u001b[0m\n\u001b[0;32m----> 1\u001b[0;31m \u001b[0mtools_items\u001b[0m\u001b[0;34m.\u001b[0m\u001b[0mhas_topology\u001b[0m\u001b[0;34m(\u001b[0m\u001b[0;34m'mmtf:1tcd'\u001b[0m\u001b[0;34m)\u001b[0m\u001b[0;34m\u001b[0m\u001b[0;34m\u001b[0m\u001b[0m\n\u001b[0m",
      "\u001b[0;32m~/Proyectos/MolSysMT/molsysmt/tools/items.py\u001b[0m in \u001b[0;36mhas_topology\u001b[0;34m(items)\u001b[0m\n\u001b[1;32m     55\u001b[0m     \u001b[0;32melse\u001b[0m\u001b[0;34m:\u001b[0m\u001b[0;34m\u001b[0m\u001b[0;34m\u001b[0m\u001b[0m\n\u001b[1;32m     56\u001b[0m         \u001b[0mform_in\u001b[0m \u001b[0;34m=\u001b[0m \u001b[0mget_form\u001b[0m\u001b[0;34m(\u001b[0m\u001b[0mitems\u001b[0m\u001b[0;34m)\u001b[0m\u001b[0;34m\u001b[0m\u001b[0;34m\u001b[0m\u001b[0m\n\u001b[0;32m---> 57\u001b[0;31m         \u001b[0moutput\u001b[0m \u001b[0;34m=\u001b[0m \u001b[0mdict_get\u001b[0m\u001b[0;34m[\u001b[0m\u001b[0mform_in\u001b[0m\u001b[0;34m]\u001b[0m\u001b[0;34m[\u001b[0m\u001b[0;34m\"system\"\u001b[0m\u001b[0;34m]\u001b[0m\u001b[0;34m[\u001b[0m\u001b[0;34m\"has_topology\"\u001b[0m\u001b[0;34m]\u001b[0m\u001b[0;34m(\u001b[0m\u001b[0mitem\u001b[0m\u001b[0;34m)\u001b[0m\u001b[0;34m\u001b[0m\u001b[0;34m\u001b[0m\u001b[0m\n\u001b[0m\u001b[1;32m     58\u001b[0m \u001b[0;34m\u001b[0m\u001b[0m\n\u001b[1;32m     59\u001b[0m     \u001b[0;32mreturn\u001b[0m \u001b[0moutput\u001b[0m\u001b[0;34m\u001b[0m\u001b[0;34m\u001b[0m\u001b[0m\n",
      "\u001b[0;31mKeyError\u001b[0m: 'has_topology'"
     ]
    }
   ],
   "source": [
    "tools_items.has_topology('mmtf:1tcd')"
   ]
  },
  {
   "cell_type": "markdown",
   "metadata": {},
   "source": [
    "- Puede haber items con topology, coordinates or trajectory o box.\n",
    "Un sistema molecular puede venir descrito por un item o varios items. Por ejemplo un sistema con topología, coordinates y box por separado. O un sistema con un solo item. O una topología con trajectoria."
   ]
  },
  {
   "cell_type": "markdown",
   "metadata": {},
   "source": [
    "## Casos que quiero resolver"
   ]
  },
  {
   "cell_type": "markdown",
   "metadata": {},
   "source": [
    "### 1 sistema molecular\n",
    "\n",
    "- El sistema molecular tiene únicamente una topología\n",
    "- El sistema molecular tiene únicamente una secuencia de frames o coordenadas\n",
    "- En el caso de un item, está claro.\n",
    "- Box tomo la que viene con las coordenadas o la última en la lista.\n",
    "- Sólo si topologies <=2 and coordinates <=2.\n",
    "- Podríamos tener más de 2 items si por ejemplo un tercero tiene sólo box.\n",
    "\n",
    "    - 0 topologías, 0 coordenadas -> -\n",
    "    - 0 topologías, 1 coordenadas -> Si\n",
    "    - 0 topologías, 2 coordenadas -> No.\n",
    "    \n",
    "    - 1 topologías, 0 coordenadas -> Si\n",
    "    - 1 topologías, 1 coordenadas -> Si\n",
    "    - 1 topologías, 2 coordenadas -> Si la top va con coords, si. Si no, no.\n",
    "\n",
    "    - 2 topologías, 0 coordenadas -> No\n",
    "    - 2 topologías, 1 coordenadas -> Si las coords van con top, si. Si no, no.\n",
    "    - 2 topologías, 2 coordenadas -> No\n",
    "\n",
    "- si hay un item con box sin coordinates ni topology, esa box se pilla."
   ]
  },
  {
   "cell_type": "markdown",
   "metadata": {},
   "source": [
    "Multiple molecular systems in a single list only possible si todas las topologías llevan sus coordenadas. La box debe ser la misma o será cogida la última."
   ]
  },
  {
   "cell_type": "markdown",
   "metadata": {},
   "source": [
    "### More than a molecular system\n",
    "\n",
    "- Lista de items no definido como single molecular system.\n",
    "- Lista de listas, donde cada sublista es un molecular system.\n",
    "- Llista de items con alguna lista dentro, si es que un molecular system está definido por más de un item."
   ]
  },
  {
   "cell_type": "markdown",
   "metadata": {},
   "source": [
    "Ahora he sacado el has_topology o has_coordinates en msm.tools.items"
   ]
  },
  {
   "cell_type": "markdown",
   "metadata": {},
   "source": [
    "Hay un método para completar? O para añadir información a un item de otro item... por ejemplo, un molsysmt.Topology sin bonds y un openmm.Topology igual con bonds... pasar los bonds al otro. O por ejemplo, una trayectoria sin box y le meto box. No.... esto tendría que poder hacerse con 'set'"
   ]
  },
  {
   "cell_type": "code",
   "execution_count": null,
   "metadata": {},
   "outputs": [],
   "source": []
  }
 ],
 "metadata": {
  "kernelspec": {
   "display_name": "Python 3",
   "language": "python",
   "name": "python3"
  },
  "language_info": {
   "codemirror_mode": {
    "name": "ipython",
    "version": 3
   },
   "file_extension": ".py",
   "mimetype": "text/x-python",
   "name": "python",
   "nbconvert_exporter": "python",
   "pygments_lexer": "ipython3",
   "version": "3.7.9"
  }
 },
 "nbformat": 4,
 "nbformat_minor": 4
}
