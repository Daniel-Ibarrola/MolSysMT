{
 "cells": [
  {
   "cell_type": "code",
   "execution_count": 1,
   "metadata": {},
   "outputs": [],
   "source": [
    "%load_ext autoreload\n",
    "%autoreload 2"
   ]
  },
  {
   "cell_type": "code",
   "execution_count": 2,
   "metadata": {},
   "outputs": [
    {
     "data": {
      "application/vnd.jupyter.widget-view+json": {
       "model_id": "683311441e3b45b1bfa2910445d203ac",
       "version_major": 2,
       "version_minor": 0
      },
      "text/plain": []
     },
     "metadata": {},
     "output_type": "display_data"
    }
   ],
   "source": [
    "import molsysmt as msm"
   ]
  },
  {
   "cell_type": "markdown",
   "metadata": {},
   "source": [
    "# Molecular systems forms"
   ]
  },
  {
   "cell_type": "markdown",
   "metadata": {},
   "source": [
    "Molecular systems can take different forms. The same system can be encoded for instance as a pdb file, as a python object of mdtraj.Trajectory class, as a UniProt id code or as an aminoacid sequence. Not all forms have the same level of detail, probably some forms have more information, some other less information, but all are forms of the same molecular system. MolSysMT takes the concept 'form' as a central concept at the center of the multitool. Sometimes we have the system in form A, an mmtf file for example, and to be able to make a specific analysis with a given tool form A needs to be converted to form B -an mdtraj.Topology-, and then we probably need a third library to modify the system but this time the system must be encoded in form C -a parmed.Structure-. And so on. Usually, you can find the way to convert these forms in the documentation of those libraries as well as the way those analysis are invoked. To avoid the time of connecting those pieces, MolSysMT provides with a framework where different tools, nativo and coming from other libraries, can be easily plugged to build up the structure of pipes configuring the workflow you need.\n",
    "\n",
    "At this moment these are the forms MolSysMT can handle.\n",
    "\n",
    "## Files\n",
    "\n",
    "The updated list of forms type file can be printed out with the method `MolSysMT.info_forms()`."
   ]
  },
  {
   "cell_type": "code",
   "execution_count": 3,
   "metadata": {},
   "outputs": [
    {
     "data": {
      "text/html": [
       "<style  type=\"text/css\" >\n",
       "    #T_0840d_ th {\n",
       "          text-align: left;\n",
       "    }#T_0840d_row0_col0,#T_0840d_row0_col1,#T_0840d_row0_col2,#T_0840d_row1_col0,#T_0840d_row1_col1,#T_0840d_row1_col2,#T_0840d_row2_col0,#T_0840d_row2_col1,#T_0840d_row2_col2,#T_0840d_row3_col0,#T_0840d_row3_col1,#T_0840d_row3_col2,#T_0840d_row4_col0,#T_0840d_row4_col1,#T_0840d_row4_col2,#T_0840d_row5_col0,#T_0840d_row5_col1,#T_0840d_row5_col2,#T_0840d_row6_col0,#T_0840d_row6_col1,#T_0840d_row6_col2,#T_0840d_row7_col0,#T_0840d_row7_col1,#T_0840d_row7_col2,#T_0840d_row8_col0,#T_0840d_row8_col1,#T_0840d_row8_col2,#T_0840d_row9_col0,#T_0840d_row9_col1,#T_0840d_row9_col2,#T_0840d_row10_col0,#T_0840d_row10_col1,#T_0840d_row10_col2,#T_0840d_row11_col0,#T_0840d_row11_col1,#T_0840d_row11_col2,#T_0840d_row12_col0,#T_0840d_row12_col1,#T_0840d_row12_col2,#T_0840d_row13_col0,#T_0840d_row13_col1,#T_0840d_row13_col2,#T_0840d_row14_col0,#T_0840d_row14_col1,#T_0840d_row14_col2,#T_0840d_row15_col0,#T_0840d_row15_col1,#T_0840d_row15_col2,#T_0840d_row16_col0,#T_0840d_row16_col1,#T_0840d_row16_col2{\n",
       "            text-align:  left;\n",
       "            colheader_justify:  left;\n",
       "        }</style><table id=\"T_0840d_\" ><thead>    <tr>        <th class=\"col_heading level0 col0\" >Form</th>        <th class=\"col_heading level0 col1\" >Type</th>        <th class=\"col_heading level0 col2\" >Info</th>    </tr></thead><tbody>\n",
       "                <tr>\n",
       "                                <td id=\"T_0840d_row0_col0\" class=\"data row0 col0\" >crd</td>\n",
       "                        <td id=\"T_0840d_row0_col1\" class=\"data row0 col1\" >file</td>\n",
       "                        <td id=\"T_0840d_row0_col2\" class=\"data row0 col2\" ><a target=\"_blank\" href=\"https://www.charmmtutorial.org/index.php/CHARMM:The_Basics#CHARMM_data_structures\">CHARMM card (CRD) file format with coordinates.</a></td>\n",
       "            </tr>\n",
       "            <tr>\n",
       "                                <td id=\"T_0840d_row1_col0\" class=\"data row1 col0\" >dcd</td>\n",
       "                        <td id=\"T_0840d_row1_col1\" class=\"data row1 col1\" >file</td>\n",
       "                        <td id=\"T_0840d_row1_col2\" class=\"data row1 col2\" ><a target=\"_blank\" href=\"\"></a></td>\n",
       "            </tr>\n",
       "            <tr>\n",
       "                                <td id=\"T_0840d_row2_col0\" class=\"data row2 col0\" >fasta</td>\n",
       "                        <td id=\"T_0840d_row2_col1\" class=\"data row2 col1\" >file</td>\n",
       "                        <td id=\"T_0840d_row2_col2\" class=\"data row2 col2\" ><a target=\"_blank\" href=\"\"></a></td>\n",
       "            </tr>\n",
       "            <tr>\n",
       "                                <td id=\"T_0840d_row3_col0\" class=\"data row3 col0\" >gro</td>\n",
       "                        <td id=\"T_0840d_row3_col1\" class=\"data row3 col1\" >file</td>\n",
       "                        <td id=\"T_0840d_row3_col2\" class=\"data row3 col2\" ><a target=\"_blank\" href=\"http://manual.gromacs.org/documentation/2018/user-guide/file-formats.html#gro\">Gromacs gro file format</a></td>\n",
       "            </tr>\n",
       "            <tr>\n",
       "                                <td id=\"T_0840d_row4_col0\" class=\"data row4 col0\" >h5</td>\n",
       "                        <td id=\"T_0840d_row4_col1\" class=\"data row4 col1\" >file</td>\n",
       "                        <td id=\"T_0840d_row4_col2\" class=\"data row4 col2\" ><a target=\"_blank\" href=\"\"></a></td>\n",
       "            </tr>\n",
       "            <tr>\n",
       "                                <td id=\"T_0840d_row5_col0\" class=\"data row5 col0\" >inpcrd</td>\n",
       "                        <td id=\"T_0840d_row5_col1\" class=\"data row5 col1\" >file</td>\n",
       "                        <td id=\"T_0840d_row5_col2\" class=\"data row5 col2\" ><a target=\"_blank\" href=\"https://ambermd.org/FileFormats.php#trajectory\">AMBER ASCII restart/inpcrd file format</a></td>\n",
       "            </tr>\n",
       "            <tr>\n",
       "                                <td id=\"T_0840d_row6_col0\" class=\"data row6 col0\" >mdcrd</td>\n",
       "                        <td id=\"T_0840d_row6_col1\" class=\"data row6 col1\" >file</td>\n",
       "                        <td id=\"T_0840d_row6_col2\" class=\"data row6 col2\" ><a target=\"_blank\" href=\"https://ambermd.org/FileFormats.php#trajectory\">AMBER mdcrd file format</a></td>\n",
       "            </tr>\n",
       "            <tr>\n",
       "                                <td id=\"T_0840d_row7_col0\" class=\"data row7 col0\" >mmtf</td>\n",
       "                        <td id=\"T_0840d_row7_col1\" class=\"data row7 col1\" >file</td>\n",
       "                        <td id=\"T_0840d_row7_col2\" class=\"data row7 col2\" ><a target=\"_blank\" href=\"\"></a></td>\n",
       "            </tr>\n",
       "            <tr>\n",
       "                                <td id=\"T_0840d_row8_col0\" class=\"data row8 col0\" >mol2</td>\n",
       "                        <td id=\"T_0840d_row8_col1\" class=\"data row8 col1\" >file</td>\n",
       "                        <td id=\"T_0840d_row8_col2\" class=\"data row8 col2\" ><a target=\"_blank\" href=\"\"></a></td>\n",
       "            </tr>\n",
       "            <tr>\n",
       "                                <td id=\"T_0840d_row9_col0\" class=\"data row9 col0\" >pdb</td>\n",
       "                        <td id=\"T_0840d_row9_col1\" class=\"data row9 col1\" >file</td>\n",
       "                        <td id=\"T_0840d_row9_col2\" class=\"data row9 col2\" ><a target=\"_blank\" href=\"https://www.rcsb.org/pdb/static.do?p=file_formats/pdb/index.html\">Protein Data Bank file format</a></td>\n",
       "            </tr>\n",
       "            <tr>\n",
       "                                <td id=\"T_0840d_row10_col0\" class=\"data row10 col0\" >pir</td>\n",
       "                        <td id=\"T_0840d_row10_col1\" class=\"data row10 col1\" >file</td>\n",
       "                        <td id=\"T_0840d_row10_col2\" class=\"data row10 col2\" ><a target=\"_blank\" href=\"\"></a></td>\n",
       "            </tr>\n",
       "            <tr>\n",
       "                                <td id=\"T_0840d_row11_col0\" class=\"data row11 col0\" >prmtop</td>\n",
       "                        <td id=\"T_0840d_row11_col1\" class=\"data row11 col1\" >file</td>\n",
       "                        <td id=\"T_0840d_row11_col2\" class=\"data row11 col2\" ><a target=\"_blank\" href=\"https://ambermd.org/FileFormats.php#topology\">AMBER  parameter/topology file format</a></td>\n",
       "            </tr>\n",
       "            <tr>\n",
       "                                <td id=\"T_0840d_row12_col0\" class=\"data row12 col0\" >smi</td>\n",
       "                        <td id=\"T_0840d_row12_col1\" class=\"data row12 col1\" >file</td>\n",
       "                        <td id=\"T_0840d_row12_col2\" class=\"data row12 col2\" ><a target=\"_blank\" href=\"\"></a></td>\n",
       "            </tr>\n",
       "            <tr>\n",
       "                                <td id=\"T_0840d_row13_col0\" class=\"data row13 col0\" >top</td>\n",
       "                        <td id=\"T_0840d_row13_col1\" class=\"data row13 col1\" >file</td>\n",
       "                        <td id=\"T_0840d_row13_col2\" class=\"data row13 col2\" ><a target=\"_blank\" href=\"\"></a></td>\n",
       "            </tr>\n",
       "            <tr>\n",
       "                                <td id=\"T_0840d_row14_col0\" class=\"data row14 col0\" >xtc</td>\n",
       "                        <td id=\"T_0840d_row14_col1\" class=\"data row14 col1\" >file</td>\n",
       "                        <td id=\"T_0840d_row14_col2\" class=\"data row14 col2\" ><a target=\"_blank\" href=\"\"></a></td>\n",
       "            </tr>\n",
       "            <tr>\n",
       "                                <td id=\"T_0840d_row15_col0\" class=\"data row15 col0\" >xyz</td>\n",
       "                        <td id=\"T_0840d_row15_col1\" class=\"data row15 col1\" >file</td>\n",
       "                        <td id=\"T_0840d_row15_col2\" class=\"data row15 col2\" ><a target=\"_blank\" href=\"['https://en.wikipedia.org/wiki/XYZ_file_format', 'https://open-babel.readthedocs.io/en/latest/FileFormats/XYZ_cartesian_coordinates_format.html']\">XYZ file format</a></td>\n",
       "            </tr>\n",
       "            <tr>\n",
       "                                <td id=\"T_0840d_row16_col0\" class=\"data row16 col0\" >xyznpy</td>\n",
       "                        <td id=\"T_0840d_row16_col1\" class=\"data row16 col1\" >file</td>\n",
       "                        <td id=\"T_0840d_row16_col2\" class=\"data row16 col2\" ><a target=\"_blank\" href=\"\">XYZ file format like saved with Numpy</a></td>\n",
       "            </tr>\n",
       "    </tbody></table>"
      ],
      "text/plain": [
       "<pandas.io.formats.style.Styler at 0x7f069282ffd0>"
      ]
     },
     "execution_count": 3,
     "metadata": {},
     "output_type": "execute_result"
    }
   ],
   "source": [
    "msm.info_forms(form_type='file')"
   ]
  },
  {
   "cell_type": "markdown",
   "metadata": {},
   "source": [
    "## Classes\n",
    "\n",
    "MolSysMT works with python classes coming from many other libraries such as MDTraj, PyTraj, MDAnalysis, OpenMM, ParmEd among others; as well as some native classes."
   ]
  },
  {
   "cell_type": "code",
   "execution_count": 4,
   "metadata": {},
   "outputs": [
    {
     "data": {
      "text/html": [
       "<style  type=\"text/css\" >\n",
       "    #T_ae3f7_ th {\n",
       "          text-align: left;\n",
       "    }#T_ae3f7_row0_col0,#T_ae3f7_row0_col1,#T_ae3f7_row0_col2,#T_ae3f7_row1_col0,#T_ae3f7_row1_col1,#T_ae3f7_row1_col2,#T_ae3f7_row2_col0,#T_ae3f7_row2_col1,#T_ae3f7_row2_col2,#T_ae3f7_row3_col0,#T_ae3f7_row3_col1,#T_ae3f7_row3_col2,#T_ae3f7_row4_col0,#T_ae3f7_row4_col1,#T_ae3f7_row4_col2,#T_ae3f7_row5_col0,#T_ae3f7_row5_col1,#T_ae3f7_row5_col2,#T_ae3f7_row6_col0,#T_ae3f7_row6_col1,#T_ae3f7_row6_col2,#T_ae3f7_row7_col0,#T_ae3f7_row7_col1,#T_ae3f7_row7_col2,#T_ae3f7_row8_col0,#T_ae3f7_row8_col1,#T_ae3f7_row8_col2,#T_ae3f7_row9_col0,#T_ae3f7_row9_col1,#T_ae3f7_row9_col2,#T_ae3f7_row10_col0,#T_ae3f7_row10_col1,#T_ae3f7_row10_col2,#T_ae3f7_row11_col0,#T_ae3f7_row11_col1,#T_ae3f7_row11_col2,#T_ae3f7_row12_col0,#T_ae3f7_row12_col1,#T_ae3f7_row12_col2,#T_ae3f7_row13_col0,#T_ae3f7_row13_col1,#T_ae3f7_row13_col2,#T_ae3f7_row14_col0,#T_ae3f7_row14_col1,#T_ae3f7_row14_col2,#T_ae3f7_row15_col0,#T_ae3f7_row15_col1,#T_ae3f7_row15_col2,#T_ae3f7_row16_col0,#T_ae3f7_row16_col1,#T_ae3f7_row16_col2,#T_ae3f7_row17_col0,#T_ae3f7_row17_col1,#T_ae3f7_row17_col2,#T_ae3f7_row18_col0,#T_ae3f7_row18_col1,#T_ae3f7_row18_col2,#T_ae3f7_row19_col0,#T_ae3f7_row19_col1,#T_ae3f7_row19_col2,#T_ae3f7_row20_col0,#T_ae3f7_row20_col1,#T_ae3f7_row20_col2,#T_ae3f7_row21_col0,#T_ae3f7_row21_col1,#T_ae3f7_row21_col2,#T_ae3f7_row22_col0,#T_ae3f7_row22_col1,#T_ae3f7_row22_col2,#T_ae3f7_row23_col0,#T_ae3f7_row23_col1,#T_ae3f7_row23_col2,#T_ae3f7_row24_col0,#T_ae3f7_row24_col1,#T_ae3f7_row24_col2,#T_ae3f7_row25_col0,#T_ae3f7_row25_col1,#T_ae3f7_row25_col2,#T_ae3f7_row26_col0,#T_ae3f7_row26_col1,#T_ae3f7_row26_col2,#T_ae3f7_row27_col0,#T_ae3f7_row27_col1,#T_ae3f7_row27_col2,#T_ae3f7_row28_col0,#T_ae3f7_row28_col1,#T_ae3f7_row28_col2,#T_ae3f7_row29_col0,#T_ae3f7_row29_col1,#T_ae3f7_row29_col2,#T_ae3f7_row30_col0,#T_ae3f7_row30_col1,#T_ae3f7_row30_col2,#T_ae3f7_row31_col0,#T_ae3f7_row31_col1,#T_ae3f7_row31_col2,#T_ae3f7_row32_col0,#T_ae3f7_row32_col1,#T_ae3f7_row32_col2,#T_ae3f7_row33_col0,#T_ae3f7_row33_col1,#T_ae3f7_row33_col2,#T_ae3f7_row34_col0,#T_ae3f7_row34_col1,#T_ae3f7_row34_col2,#T_ae3f7_row35_col0,#T_ae3f7_row35_col1,#T_ae3f7_row35_col2,#T_ae3f7_row36_col0,#T_ae3f7_row36_col1,#T_ae3f7_row36_col2{\n",
       "            text-align:  left;\n",
       "            colheader_justify:  left;\n",
       "        }</style><table id=\"T_ae3f7_\" ><thead>    <tr>        <th class=\"col_heading level0 col0\" >Form</th>        <th class=\"col_heading level0 col1\" >Type</th>        <th class=\"col_heading level0 col2\" >Info</th>    </tr></thead><tbody>\n",
       "                <tr>\n",
       "                                <td id=\"T_ae3f7_row0_col0\" class=\"data row0 col0\" >XYZ</td>\n",
       "                        <td id=\"T_ae3f7_row0_col1\" class=\"data row0 col1\" >class</td>\n",
       "                        <td id=\"T_ae3f7_row0_col2\" class=\"data row0 col2\" ><a target=\"_blank\" href=\"\"></a></td>\n",
       "            </tr>\n",
       "            <tr>\n",
       "                                <td id=\"T_ae3f7_row1_col0\" class=\"data row1 col0\" >biopython.Seq</td>\n",
       "                        <td id=\"T_ae3f7_row1_col1\" class=\"data row1 col1\" >class</td>\n",
       "                        <td id=\"T_ae3f7_row1_col2\" class=\"data row1 col2\" ><a target=\"_blank\" href=\"\"></a></td>\n",
       "            </tr>\n",
       "            <tr>\n",
       "                                <td id=\"T_ae3f7_row2_col0\" class=\"data row2 col0\" >biopython.SeqRecord</td>\n",
       "                        <td id=\"T_ae3f7_row2_col1\" class=\"data row2 col1\" >class</td>\n",
       "                        <td id=\"T_ae3f7_row2_col2\" class=\"data row2 col2\" ><a target=\"_blank\" href=\"\"></a></td>\n",
       "            </tr>\n",
       "            <tr>\n",
       "                                <td id=\"T_ae3f7_row3_col0\" class=\"data row3 col0\" >mdanalysis.Topology</td>\n",
       "                        <td id=\"T_ae3f7_row3_col1\" class=\"data row3 col1\" >class</td>\n",
       "                        <td id=\"T_ae3f7_row3_col2\" class=\"data row3 col2\" ><a target=\"_blank\" href=\"\"></a></td>\n",
       "            </tr>\n",
       "            <tr>\n",
       "                                <td id=\"T_ae3f7_row4_col0\" class=\"data row4 col0\" >mdanalysis.Universe</td>\n",
       "                        <td id=\"T_ae3f7_row4_col1\" class=\"data row4 col1\" >class</td>\n",
       "                        <td id=\"T_ae3f7_row4_col2\" class=\"data row4 col2\" ><a target=\"_blank\" href=\"\"></a></td>\n",
       "            </tr>\n",
       "            <tr>\n",
       "                                <td id=\"T_ae3f7_row5_col0\" class=\"data row5 col0\" >mdanalysis.coordinates.CRDReader</td>\n",
       "                        <td id=\"T_ae3f7_row5_col1\" class=\"data row5 col1\" >class</td>\n",
       "                        <td id=\"T_ae3f7_row5_col2\" class=\"data row5 col2\" ><a target=\"_blank\" href=\"\"></a></td>\n",
       "            </tr>\n",
       "            <tr>\n",
       "                                <td id=\"T_ae3f7_row6_col0\" class=\"data row6 col0\" >mdanalysis.topology.CRDParser</td>\n",
       "                        <td id=\"T_ae3f7_row6_col1\" class=\"data row6 col1\" >class</td>\n",
       "                        <td id=\"T_ae3f7_row6_col2\" class=\"data row6 col2\" ><a target=\"_blank\" href=\"\"></a></td>\n",
       "            </tr>\n",
       "            <tr>\n",
       "                                <td id=\"T_ae3f7_row7_col0\" class=\"data row7 col0\" >mdanalysis.topology.PDBParser</td>\n",
       "                        <td id=\"T_ae3f7_row7_col1\" class=\"data row7 col1\" >class</td>\n",
       "                        <td id=\"T_ae3f7_row7_col2\" class=\"data row7 col2\" ><a target=\"_blank\" href=\"\"></a></td>\n",
       "            </tr>\n",
       "            <tr>\n",
       "                                <td id=\"T_ae3f7_row8_col0\" class=\"data row8 col0\" >mdtraj.AmberRestartFile</td>\n",
       "                        <td id=\"T_ae3f7_row8_col1\" class=\"data row8 col1\" >class</td>\n",
       "                        <td id=\"T_ae3f7_row8_col2\" class=\"data row8 col2\" ><a target=\"_blank\" href=\"\"></a></td>\n",
       "            </tr>\n",
       "            <tr>\n",
       "                                <td id=\"T_ae3f7_row9_col0\" class=\"data row9 col0\" >mdtraj.GroTrajectoryFile</td>\n",
       "                        <td id=\"T_ae3f7_row9_col1\" class=\"data row9 col1\" >class</td>\n",
       "                        <td id=\"T_ae3f7_row9_col2\" class=\"data row9 col2\" ><a target=\"_blank\" href=\"\"></a></td>\n",
       "            </tr>\n",
       "            <tr>\n",
       "                                <td id=\"T_ae3f7_row10_col0\" class=\"data row10 col0\" >mdtraj.HDF5TrajectoryFile</td>\n",
       "                        <td id=\"T_ae3f7_row10_col1\" class=\"data row10 col1\" >class</td>\n",
       "                        <td id=\"T_ae3f7_row10_col2\" class=\"data row10 col2\" ><a target=\"_blank\" href=\"\"></a></td>\n",
       "            </tr>\n",
       "            <tr>\n",
       "                                <td id=\"T_ae3f7_row11_col0\" class=\"data row11 col0\" >mdtraj.PDBTrajectoryFile</td>\n",
       "                        <td id=\"T_ae3f7_row11_col1\" class=\"data row11 col1\" >class</td>\n",
       "                        <td id=\"T_ae3f7_row11_col2\" class=\"data row11 col2\" ><a target=\"_blank\" href=\"\"></a></td>\n",
       "            </tr>\n",
       "            <tr>\n",
       "                                <td id=\"T_ae3f7_row12_col0\" class=\"data row12 col0\" >mdtraj.Topology</td>\n",
       "                        <td id=\"T_ae3f7_row12_col1\" class=\"data row12 col1\" >class</td>\n",
       "                        <td id=\"T_ae3f7_row12_col2\" class=\"data row12 col2\" ><a target=\"_blank\" href=\"\"></a></td>\n",
       "            </tr>\n",
       "            <tr>\n",
       "                                <td id=\"T_ae3f7_row13_col0\" class=\"data row13 col0\" >mdtraj.Trajectory</td>\n",
       "                        <td id=\"T_ae3f7_row13_col1\" class=\"data row13 col1\" >class</td>\n",
       "                        <td id=\"T_ae3f7_row13_col2\" class=\"data row13 col2\" ><a target=\"_blank\" href=\"\"></a></td>\n",
       "            </tr>\n",
       "            <tr>\n",
       "                                <td id=\"T_ae3f7_row14_col0\" class=\"data row14 col0\" >mdtraj.XTCTrajectoryFile</td>\n",
       "                        <td id=\"T_ae3f7_row14_col1\" class=\"data row14 col1\" >class</td>\n",
       "                        <td id=\"T_ae3f7_row14_col2\" class=\"data row14 col2\" ><a target=\"_blank\" href=\"\"></a></td>\n",
       "            </tr>\n",
       "            <tr>\n",
       "                                <td id=\"T_ae3f7_row15_col0\" class=\"data row15 col0\" >mmtf.MMTFDecoder</td>\n",
       "                        <td id=\"T_ae3f7_row15_col1\" class=\"data row15 col1\" >class</td>\n",
       "                        <td id=\"T_ae3f7_row15_col2\" class=\"data row15 col2\" ><a target=\"_blank\" href=\"\"></a></td>\n",
       "            </tr>\n",
       "            <tr>\n",
       "                                <td id=\"T_ae3f7_row16_col0\" class=\"data row16 col0\" >molsysmt.MolSys</td>\n",
       "                        <td id=\"T_ae3f7_row16_col1\" class=\"data row16 col1\" >class</td>\n",
       "                        <td id=\"T_ae3f7_row16_col2\" class=\"data row16 col2\" ><a target=\"_blank\" href=\"\"></a></td>\n",
       "            </tr>\n",
       "            <tr>\n",
       "                                <td id=\"T_ae3f7_row17_col0\" class=\"data row17 col0\" >molsysmt.Topology</td>\n",
       "                        <td id=\"T_ae3f7_row17_col1\" class=\"data row17 col1\" >class</td>\n",
       "                        <td id=\"T_ae3f7_row17_col2\" class=\"data row17 col2\" ><a target=\"_blank\" href=\"\"></a></td>\n",
       "            </tr>\n",
       "            <tr>\n",
       "                                <td id=\"T_ae3f7_row18_col0\" class=\"data row18 col0\" >molsysmt.Trajectory</td>\n",
       "                        <td id=\"T_ae3f7_row18_col1\" class=\"data row18 col1\" >class</td>\n",
       "                        <td id=\"T_ae3f7_row18_col2\" class=\"data row18 col2\" ><a target=\"_blank\" href=\"\"></a></td>\n",
       "            </tr>\n",
       "            <tr>\n",
       "                                <td id=\"T_ae3f7_row19_col0\" class=\"data row19 col0\" >molsysmt.TrajectoryFile</td>\n",
       "                        <td id=\"T_ae3f7_row19_col1\" class=\"data row19 col1\" >class</td>\n",
       "                        <td id=\"T_ae3f7_row19_col2\" class=\"data row19 col2\" ><a target=\"_blank\" href=\"\"></a></td>\n",
       "            </tr>\n",
       "            <tr>\n",
       "                                <td id=\"T_ae3f7_row20_col0\" class=\"data row20 col0\" >networkx.Graph</td>\n",
       "                        <td id=\"T_ae3f7_row20_col1\" class=\"data row20 col1\" >class</td>\n",
       "                        <td id=\"T_ae3f7_row20_col2\" class=\"data row20 col2\" ><a target=\"_blank\" href=\"\"></a></td>\n",
       "            </tr>\n",
       "            <tr>\n",
       "                                <td id=\"T_ae3f7_row21_col0\" class=\"data row21 col0\" >openexplorer.Explorer</td>\n",
       "                        <td id=\"T_ae3f7_row21_col1\" class=\"data row21 col1\" >class</td>\n",
       "                        <td id=\"T_ae3f7_row21_col2\" class=\"data row21 col2\" ><a target=\"_blank\" href=\"\"></a></td>\n",
       "            </tr>\n",
       "            <tr>\n",
       "                                <td id=\"T_ae3f7_row22_col0\" class=\"data row22 col0\" >openexplorer.OpenExplorerReporter</td>\n",
       "                        <td id=\"T_ae3f7_row22_col1\" class=\"data row22 col1\" >class</td>\n",
       "                        <td id=\"T_ae3f7_row22_col2\" class=\"data row22 col2\" ><a target=\"_blank\" href=\"\"></a></td>\n",
       "            </tr>\n",
       "            <tr>\n",
       "                                <td id=\"T_ae3f7_row23_col0\" class=\"data row23 col0\" >openmm.AmberInpcrdFile</td>\n",
       "                        <td id=\"T_ae3f7_row23_col1\" class=\"data row23 col1\" >class</td>\n",
       "                        <td id=\"T_ae3f7_row23_col2\" class=\"data row23 col2\" ><a target=\"_blank\" href=\"\"></a></td>\n",
       "            </tr>\n",
       "            <tr>\n",
       "                                <td id=\"T_ae3f7_row24_col0\" class=\"data row24 col0\" >openmm.AmberPrmtopFile</td>\n",
       "                        <td id=\"T_ae3f7_row24_col1\" class=\"data row24 col1\" >class</td>\n",
       "                        <td id=\"T_ae3f7_row24_col2\" class=\"data row24 col2\" ><a target=\"_blank\" href=\"\"></a></td>\n",
       "            </tr>\n",
       "            <tr>\n",
       "                                <td id=\"T_ae3f7_row25_col0\" class=\"data row25 col0\" >openmm.Context</td>\n",
       "                        <td id=\"T_ae3f7_row25_col1\" class=\"data row25 col1\" >class</td>\n",
       "                        <td id=\"T_ae3f7_row25_col2\" class=\"data row25 col2\" ><a target=\"_blank\" href=\"\"></a></td>\n",
       "            </tr>\n",
       "            <tr>\n",
       "                                <td id=\"T_ae3f7_row26_col0\" class=\"data row26 col0\" >openmm.GromacsGroFile</td>\n",
       "                        <td id=\"T_ae3f7_row26_col1\" class=\"data row26 col1\" >class</td>\n",
       "                        <td id=\"T_ae3f7_row26_col2\" class=\"data row26 col2\" ><a target=\"_blank\" href=\"\"></a></td>\n",
       "            </tr>\n",
       "            <tr>\n",
       "                                <td id=\"T_ae3f7_row27_col0\" class=\"data row27 col0\" >openmm.Modeller</td>\n",
       "                        <td id=\"T_ae3f7_row27_col1\" class=\"data row27 col1\" >class</td>\n",
       "                        <td id=\"T_ae3f7_row27_col2\" class=\"data row27 col2\" ><a target=\"_blank\" href=\"\"></a></td>\n",
       "            </tr>\n",
       "            <tr>\n",
       "                                <td id=\"T_ae3f7_row28_col0\" class=\"data row28 col0\" >openmm.PDBFile</td>\n",
       "                        <td id=\"T_ae3f7_row28_col1\" class=\"data row28 col1\" >class</td>\n",
       "                        <td id=\"T_ae3f7_row28_col2\" class=\"data row28 col2\" ><a target=\"_blank\" href=\"\"></a></td>\n",
       "            </tr>\n",
       "            <tr>\n",
       "                                <td id=\"T_ae3f7_row29_col0\" class=\"data row29 col0\" >openmm.Simulation</td>\n",
       "                        <td id=\"T_ae3f7_row29_col1\" class=\"data row29 col1\" >class</td>\n",
       "                        <td id=\"T_ae3f7_row29_col2\" class=\"data row29 col2\" ><a target=\"_blank\" href=\"\"></a></td>\n",
       "            </tr>\n",
       "            <tr>\n",
       "                                <td id=\"T_ae3f7_row30_col0\" class=\"data row30 col0\" >openmm.System</td>\n",
       "                        <td id=\"T_ae3f7_row30_col1\" class=\"data row30 col1\" >class</td>\n",
       "                        <td id=\"T_ae3f7_row30_col2\" class=\"data row30 col2\" ><a target=\"_blank\" href=\"\"></a></td>\n",
       "            </tr>\n",
       "            <tr>\n",
       "                                <td id=\"T_ae3f7_row31_col0\" class=\"data row31 col0\" >openmm.Topology</td>\n",
       "                        <td id=\"T_ae3f7_row31_col1\" class=\"data row31 col1\" >class</td>\n",
       "                        <td id=\"T_ae3f7_row31_col2\" class=\"data row31 col2\" ><a target=\"_blank\" href=\"\"></a></td>\n",
       "            </tr>\n",
       "            <tr>\n",
       "                                <td id=\"T_ae3f7_row32_col0\" class=\"data row32 col0\" >parmed.GromacsTopologyFile</td>\n",
       "                        <td id=\"T_ae3f7_row32_col1\" class=\"data row32 col1\" >class</td>\n",
       "                        <td id=\"T_ae3f7_row32_col2\" class=\"data row32 col2\" ><a target=\"_blank\" href=\"\"></a></td>\n",
       "            </tr>\n",
       "            <tr>\n",
       "                                <td id=\"T_ae3f7_row33_col0\" class=\"data row33 col0\" >parmed.Structure</td>\n",
       "                        <td id=\"T_ae3f7_row33_col1\" class=\"data row33 col1\" >class</td>\n",
       "                        <td id=\"T_ae3f7_row33_col2\" class=\"data row33 col2\" ><a target=\"_blank\" href=\"\"></a></td>\n",
       "            </tr>\n",
       "            <tr>\n",
       "                                <td id=\"T_ae3f7_row34_col0\" class=\"data row34 col0\" >pdbfixer.PDBFixer</td>\n",
       "                        <td id=\"T_ae3f7_row34_col1\" class=\"data row34 col1\" >class</td>\n",
       "                        <td id=\"T_ae3f7_row34_col2\" class=\"data row34 col2\" ><a target=\"_blank\" href=\"\"></a></td>\n",
       "            </tr>\n",
       "            <tr>\n",
       "                                <td id=\"T_ae3f7_row35_col0\" class=\"data row35 col0\" >pytraj.Topology</td>\n",
       "                        <td id=\"T_ae3f7_row35_col1\" class=\"data row35 col1\" >class</td>\n",
       "                        <td id=\"T_ae3f7_row35_col2\" class=\"data row35 col2\" ><a target=\"_blank\" href=\"\"></a></td>\n",
       "            </tr>\n",
       "            <tr>\n",
       "                                <td id=\"T_ae3f7_row36_col0\" class=\"data row36 col0\" >pytraj.Trajectory</td>\n",
       "                        <td id=\"T_ae3f7_row36_col1\" class=\"data row36 col1\" >class</td>\n",
       "                        <td id=\"T_ae3f7_row36_col2\" class=\"data row36 col2\" ><a target=\"_blank\" href=\"\"></a></td>\n",
       "            </tr>\n",
       "    </tbody></table>"
      ],
      "text/plain": [
       "<pandas.io.formats.style.Styler at 0x7f0691a6c6d0>"
      ]
     },
     "execution_count": 4,
     "metadata": {},
     "output_type": "execute_result"
    }
   ],
   "source": [
    "msm.info_forms(form_type='class')"
   ]
  },
  {
   "cell_type": "markdown",
   "metadata": {},
   "source": [
    "## Ids\n",
    "\n",
    "There are several databases or encoding systems where molecular systems take the form of a string of characters. This is the case of the Protein Data Bank, the ChEMBL database or the UniProt codes. The following table summarizes the list of Ids recognized by MolSysMT."
   ]
  },
  {
   "cell_type": "code",
   "execution_count": 5,
   "metadata": {},
   "outputs": [
    {
     "data": {
      "text/html": [
       "<style  type=\"text/css\" >\n",
       "    #T_792b0_ th {\n",
       "          text-align: left;\n",
       "    }#T_792b0_row0_col0,#T_792b0_row0_col1,#T_792b0_row0_col2,#T_792b0_row1_col0,#T_792b0_row1_col1,#T_792b0_row1_col2,#T_792b0_row2_col0,#T_792b0_row2_col1,#T_792b0_row2_col2,#T_792b0_row3_col0,#T_792b0_row3_col1,#T_792b0_row3_col2{\n",
       "            text-align:  left;\n",
       "            colheader_justify:  left;\n",
       "        }</style><table id=\"T_792b0_\" ><thead>    <tr>        <th class=\"col_heading level0 col0\" >Form</th>        <th class=\"col_heading level0 col1\" >Type</th>        <th class=\"col_heading level0 col2\" >Info</th>    </tr></thead><tbody>\n",
       "                <tr>\n",
       "                                <td id=\"T_792b0_row0_col0\" class=\"data row0 col0\" >ChEMBL:id</td>\n",
       "                        <td id=\"T_792b0_row0_col1\" class=\"data row0 col1\" >id</td>\n",
       "                        <td id=\"T_792b0_row0_col2\" class=\"data row0 col2\" ><a target=\"_blank\" href=\"\"></a></td>\n",
       "            </tr>\n",
       "            <tr>\n",
       "                                <td id=\"T_792b0_row1_col0\" class=\"data row1 col0\" >UniProt:id</td>\n",
       "                        <td id=\"T_792b0_row1_col1\" class=\"data row1 col1\" >id</td>\n",
       "                        <td id=\"T_792b0_row1_col2\" class=\"data row1 col2\" ><a target=\"_blank\" href=\"\"></a></td>\n",
       "            </tr>\n",
       "            <tr>\n",
       "                                <td id=\"T_792b0_row2_col0\" class=\"data row2 col0\" >mmtf:id</td>\n",
       "                        <td id=\"T_792b0_row2_col1\" class=\"data row2 col1\" >id</td>\n",
       "                        <td id=\"T_792b0_row2_col2\" class=\"data row2 col2\" ><a target=\"_blank\" href=\"\"></a></td>\n",
       "            </tr>\n",
       "            <tr>\n",
       "                                <td id=\"T_792b0_row3_col0\" class=\"data row3 col0\" >pdb:id</td>\n",
       "                        <td id=\"T_792b0_row3_col1\" class=\"data row3 col1\" >id</td>\n",
       "                        <td id=\"T_792b0_row3_col2\" class=\"data row3 col2\" ><a target=\"_blank\" href=\"\"></a></td>\n",
       "            </tr>\n",
       "    </tbody></table>"
      ],
      "text/plain": [
       "<pandas.io.formats.style.Styler at 0x7f0691a81190>"
      ]
     },
     "execution_count": 5,
     "metadata": {},
     "output_type": "execute_result"
    }
   ],
   "source": [
    "msm.info_forms(form_type='id')"
   ]
  },
  {
   "cell_type": "markdown",
   "metadata": {},
   "source": [
    "Notice that form names here ends with ':id'. This suffix is used to distinguish them from other form types. 'pdb' is a form name corresponding to a file and 'pdb:id' is the id form."
   ]
  },
  {
   "cell_type": "markdown",
   "metadata": {},
   "source": [
    "## Sequences\n",
    "\n",
    "Molecular systems can be determined by a sequence of elements. For instance, a peptide as Metenkephaline can be defined by means of its aminoacids sequence. These are the forms of type sequence MolSysMT can handle:"
   ]
  },
  {
   "cell_type": "code",
   "execution_count": 6,
   "metadata": {},
   "outputs": [
    {
     "data": {
      "text/html": [
       "<style  type=\"text/css\" >\n",
       "    #T_e81c7_ th {\n",
       "          text-align: left;\n",
       "    }#T_e81c7_row0_col0,#T_e81c7_row0_col1,#T_e81c7_row0_col2,#T_e81c7_row1_col0,#T_e81c7_row1_col1,#T_e81c7_row1_col2,#T_e81c7_row2_col0,#T_e81c7_row2_col1,#T_e81c7_row2_col2,#T_e81c7_row3_col0,#T_e81c7_row3_col1,#T_e81c7_row3_col2{\n",
       "            text-align:  left;\n",
       "            colheader_justify:  left;\n",
       "        }</style><table id=\"T_e81c7_\" ><thead>    <tr>        <th class=\"col_heading level0 col0\" >Form</th>        <th class=\"col_heading level0 col1\" >Type</th>        <th class=\"col_heading level0 col2\" >Info</th>    </tr></thead><tbody>\n",
       "                <tr>\n",
       "                                <td id=\"T_e81c7_row0_col0\" class=\"data row0 col0\" >aminoacids1:seq</td>\n",
       "                        <td id=\"T_e81c7_row0_col1\" class=\"data row0 col1\" >seq</td>\n",
       "                        <td id=\"T_e81c7_row0_col2\" class=\"data row0 col2\" ><a target=\"_blank\" href=\"\"></a></td>\n",
       "            </tr>\n",
       "            <tr>\n",
       "                                <td id=\"T_e81c7_row1_col0\" class=\"data row1 col0\" >aminoacids3:seq</td>\n",
       "                        <td id=\"T_e81c7_row1_col1\" class=\"data row1 col1\" >seq</td>\n",
       "                        <td id=\"T_e81c7_row1_col2\" class=\"data row1 col2\" ><a target=\"_blank\" href=\"\"></a></td>\n",
       "            </tr>\n",
       "            <tr>\n",
       "                                <td id=\"T_e81c7_row2_col0\" class=\"data row2 col0\" >secondary_structure_abc:seq</td>\n",
       "                        <td id=\"T_e81c7_row2_col1\" class=\"data row2 col1\" >seq</td>\n",
       "                        <td id=\"T_e81c7_row2_col2\" class=\"data row2 col2\" ><a target=\"_blank\" href=\"\"></a></td>\n",
       "            </tr>\n",
       "            <tr>\n",
       "                                <td id=\"T_e81c7_row3_col0\" class=\"data row3 col0\" >secondary_structure_dssp:seq</td>\n",
       "                        <td id=\"T_e81c7_row3_col1\" class=\"data row3 col1\" >seq</td>\n",
       "                        <td id=\"T_e81c7_row3_col2\" class=\"data row3 col2\" ><a target=\"_blank\" href=\"\"></a></td>\n",
       "            </tr>\n",
       "    </tbody></table>"
      ],
      "text/plain": [
       "<pandas.io.formats.style.Styler at 0x7f0691a7f5d0>"
      ]
     },
     "execution_count": 6,
     "metadata": {},
     "output_type": "execute_result"
    }
   ],
   "source": [
    "msm.info_forms(form_type='seq')"
   ]
  },
  {
   "cell_type": "markdown",
   "metadata": {},
   "source": [
    "## Viewers\n",
    "\n",
    "The last molecular systems form we usually need its the graphical representation: the viewer. MolSysMT works with viewers as if they were a different form type. These are the viewers MolSysMT can work with:"
   ]
  },
  {
   "cell_type": "code",
   "execution_count": 7,
   "metadata": {},
   "outputs": [
    {
     "data": {
      "text/html": [
       "<style  type=\"text/css\" >\n",
       "    #T_af974_ th {\n",
       "          text-align: left;\n",
       "    }#T_af974_row0_col0,#T_af974_row0_col1,#T_af974_row0_col2{\n",
       "            text-align:  left;\n",
       "            colheader_justify:  left;\n",
       "        }</style><table id=\"T_af974_\" ><thead>    <tr>        <th class=\"col_heading level0 col0\" >Form</th>        <th class=\"col_heading level0 col1\" >Type</th>        <th class=\"col_heading level0 col2\" >Info</th>    </tr></thead><tbody>\n",
       "                <tr>\n",
       "                                <td id=\"T_af974_row0_col0\" class=\"data row0 col0\" >nglview.NGLWidget</td>\n",
       "                        <td id=\"T_af974_row0_col1\" class=\"data row0 col1\" >viewer</td>\n",
       "                        <td id=\"T_af974_row0_col2\" class=\"data row0 col2\" ><a target=\"_blank\" href=\"http://nglviewer.org/nglview/latest/_modules/nglview/widget.html\">NGLView visualization native object</a></td>\n",
       "            </tr>\n",
       "    </tbody></table>"
      ],
      "text/plain": [
       "<pandas.io.formats.style.Styler at 0x7f0691a6ce90>"
      ]
     },
     "execution_count": 7,
     "metadata": {},
     "output_type": "execute_result"
    }
   ],
   "source": [
    "msm.info_forms(form_type='viewer')"
   ]
  },
  {
   "cell_type": "code",
   "execution_count": null,
   "metadata": {},
   "outputs": [],
   "source": []
  }
 ],
 "metadata": {
  "kernelspec": {
   "display_name": "Python 3",
   "language": "python",
   "name": "python3"
  },
  "language_info": {
   "codemirror_mode": {
    "name": "ipython",
    "version": 3
   },
   "file_extension": ".py",
   "mimetype": "text/x-python",
   "name": "python",
   "nbconvert_exporter": "python",
   "pygments_lexer": "ipython3",
   "version": "3.7.9"
  }
 },
 "nbformat": 4,
 "nbformat_minor": 4
}
