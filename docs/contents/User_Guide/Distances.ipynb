{
 "cells": [
  {
   "cell_type": "code",
   "execution_count": 1,
   "metadata": {},
   "outputs": [],
   "source": [
    "%load_ext autoreload\n",
    "%autoreload 2"
   ]
  },
  {
   "cell_type": "code",
   "execution_count": 94,
   "metadata": {},
   "outputs": [],
   "source": [
    "import molsysmt as msm\n",
    "import numpy as np\n",
    "from simtk import unit\n",
    "import matplotlib.pyplot as plt"
   ]
  },
  {
   "cell_type": "markdown",
   "metadata": {},
   "source": [
    "# Getting distances, neighbor lists and contact maps.\n",
    "\n",
    "MolSysMT includes a very versatile method to calculate distances between points in space, atoms and/or groups of atoms. As many other methods of this multitool, the method `molsysmt.distance()` has an input argument to choose the engine in charge of getting the result. For instance, `molsysmt.distance()` currently offers two engines `MolSysMT` and `MDTraj`. At this moment only `MolSysMT` will be reported in this guide.\n",
    "\n",
    "The different options of the method `molsysmt.distance()` will be shown, little by little, along with the following examples."
   ]
  },
  {
   "cell_type": "markdown",
   "metadata": {},
   "source": [
    "## The XYZ molecular system form\n",
    "\n",
    "The first case, and the most simple one, is getting distances from a points distribution in space. MolSysMT accepts a molecular system form where only spatial coordinates are described, with out topological information: the `XYZ` form."
   ]
  },
  {
   "cell_type": "code",
   "execution_count": 3,
   "metadata": {},
   "outputs": [],
   "source": [
    "molecular_system = np.zeros([6,3], dtype='float64') * unit.nanometers"
   ]
  },
  {
   "cell_type": "code",
   "execution_count": 4,
   "metadata": {},
   "outputs": [
    {
     "data": {
      "text/plain": [
       "'XYZ'"
      ]
     },
     "execution_count": 4,
     "metadata": {},
     "output_type": "execute_result"
    }
   ],
   "source": [
    "msm.get(molecular_system, target='system', form=True)"
   ]
  },
  {
   "cell_type": "markdown",
   "metadata": {},
   "source": [
    "The `XYZ` form accepts numpy arrays with length units of the shape $[n\\_frames, n\\_atoms, 3]$ or $[n\\_atoms, 3]$. In case of having an array of rank 2, MolSysMT always understands $n\\_frames=1$ and the first rank as the number of atoms:"
   ]
  },
  {
   "cell_type": "code",
   "execution_count": 5,
   "metadata": {},
   "outputs": [
    {
     "data": {
      "text/plain": [
       "[1, 6]"
      ]
     },
     "execution_count": 5,
     "metadata": {},
     "output_type": "execute_result"
    }
   ],
   "source": [
    "msm.get(molecular_system, n_frames=True, n_atoms=True)"
   ]
  },
  {
   "cell_type": "markdown",
   "metadata": {},
   "source": [
    "Lets create a couple of `XYZ` molecular systems with more than a frame. These two systems will help us illustrate the firts distance calculations:"
   ]
  },
  {
   "cell_type": "code",
   "execution_count": 6,
   "metadata": {},
   "outputs": [],
   "source": [
    "# Molecular system A with three atoms and three frames.\n",
    "\n",
    "molecular_system_A = np.zeros([3,3,3], dtype='float64') * unit.nanometers\n",
    "\n",
    "## First atom\n",
    "molecular_system_A[0,0,:] = [0, 2, -1] * unit.nanometers\n",
    "molecular_system_A[1,0,:] = [1, 2, -1] * unit.nanometers\n",
    "molecular_system_A[2,0,:] = [0, 2, -1] * unit.nanometers\n",
    "\n",
    "## Second atom\n",
    "molecular_system_A[0,1,:] = [-1, 1, 1] * unit.nanometers\n",
    "molecular_system_A[1,1,:] = [-1, 0, 1] * unit.nanometers\n",
    "molecular_system_A[2,1,:] = [0, 0, 1] * unit.nanometers\n",
    "\n",
    "## Third atom\n",
    "molecular_system_A[0,2,:] = [-2, 0, 1] * unit.nanometers\n",
    "molecular_system_A[1,2,:] = [-2, 0, 0] * unit.nanometers\n",
    "molecular_system_A[2,2,:] = [-1, 1, 0] * unit.nanometers\n",
    "\n",
    "\n",
    "\n",
    "# Molecular system B with two atoms and three frames.\n",
    "\n",
    "molecular_system_B = np.zeros([3,2,3], dtype='float64') * unit.nanometers\n",
    "\n",
    "## First atom of B\n",
    "molecular_system_B[0,0,:] = [4, -2, 0] * unit.nanometers\n",
    "molecular_system_B[1,0,:] = [5, -2, -1] * unit.nanometers\n",
    "molecular_system_B[2,0,:] = [5, -2, 0] * unit.nanometers\n",
    "\n",
    "## Second atom of B\n",
    "molecular_system_B[0,1,:] = [3, 0, -1] * unit.nanometers\n",
    "molecular_system_B[1,1,:] = [3, 1, 0] * unit.nanometers\n",
    "molecular_system_B[2,1,:] = [4, 1, 1] * unit.nanometers"
   ]
  },
  {
   "cell_type": "markdown",
   "metadata": {},
   "source": [
    "## Distance between atoms in space\n",
    "\n",
    "### Distance between atoms of a system\n",
    "\n",
    "The first case shows how to get the distance between all points of a system at every frame"
   ]
  },
  {
   "cell_type": "code",
   "execution_count": 7,
   "metadata": {},
   "outputs": [],
   "source": [
    "distances = msm.distance(molecular_system_A)"
   ]
  },
  {
   "cell_type": "markdown",
   "metadata": {},
   "source": [
    "The result is an array of rank 3. Where the first axe or rank corresponds to the number of frames and the other two, the second and third axe, accounts for the point or atom indices:"
   ]
  },
  {
   "cell_type": "code",
   "execution_count": 8,
   "metadata": {},
   "outputs": [
    {
     "data": {
      "text/plain": [
       "(3, 3, 3)"
      ]
     },
     "execution_count": 8,
     "metadata": {},
     "output_type": "execute_result"
    }
   ],
   "source": [
    "distances.shape"
   ]
  },
  {
   "cell_type": "markdown",
   "metadata": {},
   "source": [
    "This way every distance between atoms at each frame is stored. Lets print out the distance between the 0-th and the 2-th atom at frame 1-th:"
   ]
  },
  {
   "cell_type": "code",
   "execution_count": 9,
   "metadata": {},
   "outputs": [
    {
     "name": "stdout",
     "output_type": "stream",
     "text": [
      "Distance at frame 1-th between atoms 0-th and 2-th: 3.7416573867739413 nm\n"
     ]
    }
   ],
   "source": [
    "print('Distance at frame 1-th between atoms 0-th and 2-th: {}'.format(distances[1,0,2]))"
   ]
  },
  {
   "cell_type": "markdown",
   "metadata": {},
   "source": [
    "If only the distance between atoms 0-th and 2-th at every frame is required, there is no need to compute $n\\_atoms x n\\_atoms$ distances. The input arguments `selection_1` and `selection_2` help us to define the range of elements of the output distance matrix:"
   ]
  },
  {
   "cell_type": "code",
   "execution_count": 10,
   "metadata": {},
   "outputs": [],
   "source": [
    "distances = msm.distance(molecular_system_A, selection_1=0, selection_2=2)"
   ]
  },
  {
   "cell_type": "markdown",
   "metadata": {},
   "source": [
    "This time the output is an array of rank 3 with shape $[3,1,1]$. The distance for just a pair of atoms was computed for three frames:"
   ]
  },
  {
   "cell_type": "code",
   "execution_count": 11,
   "metadata": {},
   "outputs": [
    {
     "data": {
      "text/plain": [
       "(3, 1, 1)"
      ]
     },
     "execution_count": 11,
     "metadata": {},
     "output_type": "execute_result"
    }
   ],
   "source": [
    "distances.shape"
   ]
  },
  {
   "cell_type": "code",
   "execution_count": 12,
   "metadata": {},
   "outputs": [
    {
     "name": "stdout",
     "output_type": "stream",
     "text": [
      "Distance at frame 0-th between atoms 0-th and 2-th: 3.4641016151377544 nm\n",
      "Distance at frame 1-th between atoms 0-th and 2-th: 3.7416573867739413 nm\n",
      "Distance at frame 2-th between atoms 0-th and 2-th: 1.7320508075688772 nm\n"
     ]
    }
   ],
   "source": [
    "for ii in range(3):\n",
    "    print('Distance at frame {}-th between atoms 0-th and 2-th: {}'.format(ii,distances[ii,0,0]))"
   ]
  },
  {
   "cell_type": "markdown",
   "metadata": {},
   "source": [
    "Lets try now to get the distance between the atom 1-th and the atoms 0-th and 2-th at every frame:"
   ]
  },
  {
   "cell_type": "code",
   "execution_count": 13,
   "metadata": {},
   "outputs": [],
   "source": [
    "distances = msm.distance(molecular_system_A, selection_1=1, selection_2=[0,2])"
   ]
  },
  {
   "cell_type": "markdown",
   "metadata": {},
   "source": [
    "As you will guess, the output matrix is an array of rank three this time with shape $[3,1,2]$:"
   ]
  },
  {
   "cell_type": "code",
   "execution_count": 14,
   "metadata": {},
   "outputs": [
    {
     "data": {
      "text/plain": [
       "(3, 1, 2)"
      ]
     },
     "execution_count": 14,
     "metadata": {},
     "output_type": "execute_result"
    }
   ],
   "source": [
    "distances.shape"
   ]
  },
  {
   "cell_type": "markdown",
   "metadata": {},
   "source": [
    "If we want now to print out the distance between atoms 1-th and 2-th for frame 0-th:"
   ]
  },
  {
   "cell_type": "code",
   "execution_count": 15,
   "metadata": {},
   "outputs": [
    {
     "name": "stdout",
     "output_type": "stream",
     "text": [
      "Distance at frame 0-th between atoms 1-th and 2-th: 1.4142135623730951 nm\n"
     ]
    }
   ],
   "source": [
    "print('Distance at frame 0-th between atoms 1-th and 2-th: {}'.format(distances[0,0,1]))"
   ]
  },
  {
   "cell_type": "markdown",
   "metadata": {},
   "source": [
    "The position of each atom in lists `selection_1` and `selection_2` is used to locate the corresponding distance in the output array. If instead, you want to use the original atom indices to locate a distance, the input argument `output_form='dict'` can help:"
   ]
  },
  {
   "cell_type": "code",
   "execution_count": 16,
   "metadata": {},
   "outputs": [],
   "source": [
    "distances = msm.distance(molecular_system_A, selection_1=1, selection_2=[0,2], output_form='dict')"
   ]
  },
  {
   "cell_type": "markdown",
   "metadata": {},
   "source": [
    "This way the output is no longer a numpy array of rank 3, the output object is now a dictionary of dictionaries of dictionaries. Where the set keys of the first dictionary corresponds to the atom indices of `selection_1`:"
   ]
  },
  {
   "cell_type": "code",
   "execution_count": 17,
   "metadata": {},
   "outputs": [
    {
     "data": {
      "text/plain": [
       "dict_keys([1])"
      ]
     },
     "execution_count": 17,
     "metadata": {},
     "output_type": "execute_result"
    }
   ],
   "source": [
    "distances.keys()"
   ]
  },
  {
   "cell_type": "markdown",
   "metadata": {},
   "source": [
    "The second nested dictionary has the atom indices of `selection_2` as keys:"
   ]
  },
  {
   "cell_type": "code",
   "execution_count": 18,
   "metadata": {},
   "outputs": [
    {
     "data": {
      "text/plain": [
       "dict_keys([0, 2])"
      ]
     },
     "execution_count": 18,
     "metadata": {},
     "output_type": "execute_result"
    }
   ],
   "source": [
    "distances[1].keys()"
   ]
  },
  {
   "cell_type": "markdown",
   "metadata": {},
   "source": [
    "And the third and last nested dictionary is defined with the frame indices as keys:"
   ]
  },
  {
   "cell_type": "code",
   "execution_count": 19,
   "metadata": {},
   "outputs": [
    {
     "data": {
      "text/plain": [
       "dict_keys([0, 1, 2])"
      ]
     },
     "execution_count": 19,
     "metadata": {},
     "output_type": "execute_result"
    }
   ],
   "source": [
    "distances[1][2].keys()"
   ]
  },
  {
   "cell_type": "markdown",
   "metadata": {},
   "source": [
    "Thus, the distance now between atoms 0-th and 2-th in frame 1-th is:"
   ]
  },
  {
   "cell_type": "code",
   "execution_count": 20,
   "metadata": {},
   "outputs": [
    {
     "name": "stdout",
     "output_type": "stream",
     "text": [
      "Distance at frame 0-th between atoms 1-th and 2-th: 1.4142135623730951 nm\n"
     ]
    }
   ],
   "source": [
    "print('Distance at frame 0-th between atoms 1-th and 2-th: {}'.format(distances[1][2][0]))"
   ]
  },
  {
   "cell_type": "markdown",
   "metadata": {},
   "source": [
    "Just like `selection_1` and `selection_2` can limit the range of atom indices of the calculation, `frame_indices_1` can be used to define the list of frames where the method applies:"
   ]
  },
  {
   "cell_type": "code",
   "execution_count": 21,
   "metadata": {},
   "outputs": [],
   "source": [
    "distances = msm.distance(molecular_system_A, selection_1=1, selection_2=[0,2], frame_indices_1=[1,2])"
   ]
  },
  {
   "cell_type": "code",
   "execution_count": 22,
   "metadata": {},
   "outputs": [
    {
     "name": "stdout",
     "output_type": "stream",
     "text": [
      "Distance at frame 2-th between atoms 1-th and 2-th: 1.7320508075688772 nm\n"
     ]
    }
   ],
   "source": [
    "print('Distance at frame 2-th between atoms 1-th and 2-th: {}'.format(distances[1,0,1]))"
   ]
  },
  {
   "cell_type": "markdown",
   "metadata": {},
   "source": [
    "You can check again that with `output_form='dict'` the original indics for atoms and frames work to locate a distance:"
   ]
  },
  {
   "cell_type": "code",
   "execution_count": 23,
   "metadata": {},
   "outputs": [],
   "source": [
    "distances = msm.distance(molecular_system_A, selection_1=1, selection_2=[0,2], frame_indices_1=[1,2], output_form='dict')"
   ]
  },
  {
   "cell_type": "code",
   "execution_count": 24,
   "metadata": {},
   "outputs": [
    {
     "name": "stdout",
     "output_type": "stream",
     "text": [
      "Distance at frame 2-th between atoms 1-th and 2-th: 1.7320508075688772 nm\n"
     ]
    }
   ],
   "source": [
    "print('Distance at frame 2-th between atoms 1-th and 2-th: {}'.format(distances[1][2][2]))"
   ]
  },
  {
   "cell_type": "markdown",
   "metadata": {},
   "source": [
    "### Distance between atoms of two systems\n",
    "\n",
    "The second case shows how to get the distance between atoms of two systems at every frame"
   ]
  },
  {
   "cell_type": "code",
   "execution_count": 25,
   "metadata": {},
   "outputs": [],
   "source": [
    "distances = msm.distance(item_1=molecular_system_A, item_2=molecular_system_B)"
   ]
  },
  {
   "cell_type": "markdown",
   "metadata": {},
   "source": [
    "As it was shown previously, the result is an array of rank 3. Again, where the first axe or rank corresponds to the number of frames and the other two, the second and third axe, accounts for the atom indices -this time in each system-:"
   ]
  },
  {
   "cell_type": "code",
   "execution_count": 26,
   "metadata": {},
   "outputs": [
    {
     "data": {
      "text/plain": [
       "(3, 3, 2)"
      ]
     },
     "execution_count": 26,
     "metadata": {},
     "output_type": "execute_result"
    }
   ],
   "source": [
    "distances.shape"
   ]
  },
  {
   "cell_type": "markdown",
   "metadata": {},
   "source": [
    "Lets print out the distance between atom 1-th of `molecular_system_A` and atom 0-th of `molecular_system_B` at every frame:"
   ]
  },
  {
   "cell_type": "code",
   "execution_count": 27,
   "metadata": {},
   "outputs": [
    {
     "name": "stdout",
     "output_type": "stream",
     "text": [
      "Distance at frame 0-th between atom 1-th of A and atom 0-th of B: 5.916079783099616 nm\n",
      "Distance at frame 1-th between atom 1-th of A and atom 0-th of B: 6.6332495807108 nm\n",
      "Distance at frame 2-th between atom 1-th of A and atom 0-th of B: 5.477225575051661 nm\n"
     ]
    }
   ],
   "source": [
    "for ii in range(3):\n",
    "    print('Distance at frame {}-th between atom 1-th of A and atom 0-th of B: {}'.format(ii,distances[ii,1,0]))"
   ]
  },
  {
   "cell_type": "markdown",
   "metadata": {},
   "source": [
    "Now that `item_1` and `item_2` contain different systems, `selection_1` and `selection_2` do not work over the same system as in previous subsection, but over each molecular system (`selection_1` over `item_1` and `selection_2` over `item_2`). Lets get the distance only between atom 1-th of `molecular_system_A` and atom 0-th of `molecular_system_B` for every frame:"
   ]
  },
  {
   "cell_type": "code",
   "execution_count": 28,
   "metadata": {},
   "outputs": [],
   "source": [
    "distances = msm.distance(item_1=molecular_system_A, selection_1=1, item_2=molecular_system_B, selection_2=0)"
   ]
  },
  {
   "cell_type": "code",
   "execution_count": 29,
   "metadata": {},
   "outputs": [
    {
     "data": {
      "text/plain": [
       "(3, 1, 1)"
      ]
     },
     "execution_count": 29,
     "metadata": {},
     "output_type": "execute_result"
    }
   ],
   "source": [
    "distances.shape"
   ]
  },
  {
   "cell_type": "code",
   "execution_count": 30,
   "metadata": {},
   "outputs": [
    {
     "name": "stdout",
     "output_type": "stream",
     "text": [
      "Distance at frame 0-th between atom 1-th of A and atom 0-th of B: 5.916079783099616 nm\n",
      "Distance at frame 1-th between atom 1-th of A and atom 0-th of B: 6.6332495807108 nm\n",
      "Distance at frame 2-th between atom 1-th of A and atom 0-th of B: 5.477225575051661 nm\n"
     ]
    }
   ],
   "source": [
    "for ii in range(3):\n",
    "    print('Distance at frame {}-th between atom 1-th of A and atom 0-th of B: {}'.format(ii,distances[ii,0,0]))"
   ]
  },
  {
   "cell_type": "markdown",
   "metadata": {},
   "source": [
    "Again, the input argument `output_form='dict'` lets us play with the original indices in the output object. As it was described in the previous subsection, this dictionary of dictionaries of dictionaries has three keys: the first one corresponds to the atom indices of `item_1`, the second one corresponds to the atom indices of `item_2` and the third one to the frame indices. This way the distance now between atom 1-th of `molecular_system_A` and atom 0-th of `molecular_system_B` at frame 1-th:"
   ]
  },
  {
   "cell_type": "code",
   "execution_count": 31,
   "metadata": {},
   "outputs": [],
   "source": [
    "distances = msm.distance(item_1=molecular_system_A, selection_1=1, frame_indices_1=1,\n",
    "                         item_2=molecular_system_B, selection_2=0, output_form='dict')"
   ]
  },
  {
   "cell_type": "code",
   "execution_count": 32,
   "metadata": {},
   "outputs": [
    {
     "name": "stdout",
     "output_type": "stream",
     "text": [
      "Distance at frame 1-th between atom 1-th of A and atom 0-th of B: 6.6332495807108 nm\n"
     ]
    }
   ],
   "source": [
    "print('Distance at frame 1-th between atom 1-th of A and atom 0-th of B: {}'.format(distances[1][0][1]))"
   ]
  },
  {
   "cell_type": "markdown",
   "metadata": {},
   "source": [
    "Notice that `frame_indices_1` was used to define the frame indices where the distance is computed. If only `frame_indices_1` is used, the same list of indices is used sequentially for both systems `item_1` and `item_2`:"
   ]
  },
  {
   "cell_type": "code",
   "execution_count": 33,
   "metadata": {},
   "outputs": [],
   "source": [
    "distances_1 = msm.distance(item_1=molecular_system_A, selection_1=[1,2], frame_indices_1=[0,2],\n",
    "                           item_2=molecular_system_B, selection_2=[0,1])"
   ]
  },
  {
   "cell_type": "code",
   "execution_count": 34,
   "metadata": {},
   "outputs": [],
   "source": [
    "distances_2 = msm.distance(item_1=molecular_system_A, selection_1=[1,2], frame_indices_1=[0,2],\n",
    "                           item_2=molecular_system_B, selection_2=[0,1], frame_indices_2=[0,2])"
   ]
  },
  {
   "cell_type": "code",
   "execution_count": 35,
   "metadata": {},
   "outputs": [
    {
     "data": {
      "text/plain": [
       "array([[[ True,  True],\n",
       "        [ True,  True]],\n",
       "\n",
       "       [[ True,  True],\n",
       "        [ True,  True]]])"
      ]
     },
     "execution_count": 35,
     "metadata": {},
     "output_type": "execute_result"
    }
   ],
   "source": [
    "distances_1 == distances_2"
   ]
  },
  {
   "cell_type": "code",
   "execution_count": 36,
   "metadata": {},
   "outputs": [
    {
     "name": "stdout",
     "output_type": "stream",
     "text": [
      "Distance at frame 2-th between atom 2-th of A and atom 1-th of B: 5.0990195135927845 nm\n"
     ]
    }
   ],
   "source": [
    "print('Distance at frame 2-th between atom 2-th of A and atom 1-th of B: {}'.format(distances_1[1,1,1]))"
   ]
  },
  {
   "cell_type": "markdown",
   "metadata": {},
   "source": [
    "### Distances between atoms positions in different frames"
   ]
  },
  {
   "cell_type": "markdown",
   "metadata": {},
   "source": [
    "At the end of last subsection we saw how, in addition to the input arguments `selection_1` and `selection_2`, the input arguments `frame_indices_1` and `frame_indices_2` alter the way distances are computed. Lets use the four arguments in the next example to revisit their function:"
   ]
  },
  {
   "cell_type": "code",
   "execution_count": 37,
   "metadata": {},
   "outputs": [],
   "source": [
    "distances = msm.distance(item_1=molecular_system_A, selection_1=[1,2], frame_indices_1=[0,1],\n",
    "                         item_2=molecular_system_B, selection_2=1, frame_indices_2=[1,2])"
   ]
  },
  {
   "cell_type": "markdown",
   "metadata": {},
   "source": [
    "The distance between atoms 1-th and 2-th of `molecular_system_A` and atom 1-th of `molecular_system_B` are computed. But, these distances are not between spatial positions in the same frame index. When two frame indices lists are provided by means of `frame_indices_1` and `frame_indices_2`, pairs of frames are taken sequentially. In this case positions of `item_1` at frame 0-th are confronted againts positions of `item_2` at frame 1-th, and the results are stored in the first frame of the distances output. Then, according to the last cell frame indices, positions of `item_1` at frame 1-th are confronted againts positions of `item_2` at frame 2-th. Thus, lets print out for example the distance between the position of atom 2-th of `item_1` in frame 1-th and the position of atom 1-th of `item_2` in frame 2-th:"
   ]
  },
  {
   "cell_type": "code",
   "execution_count": 38,
   "metadata": {},
   "outputs": [
    {
     "name": "stdout",
     "output_type": "stream",
     "text": [
      "The distance between atom 2-th of A at frame 1-th and atom 1-th of B at frame 2-th is: 6.164414002968976 nm\n"
     ]
    }
   ],
   "source": [
    "print('The distance between atom 2-th of A at frame 1-th and atom 1-th of B at frame 2-th is: {}'.format(distances[1,1,0]))"
   ]
  },
  {
   "cell_type": "markdown",
   "metadata": {},
   "source": [
    "In this case, when the output object is a dictionary of dictionaries of dictionaries, the last nested keys correspond to the frame indices in `frame_indices_1`. Lets compute de same distances as before printing out the same specific distance:"
   ]
  },
  {
   "cell_type": "code",
   "execution_count": 39,
   "metadata": {},
   "outputs": [],
   "source": [
    "distances = msm.distance(item_1=molecular_system_A, selection_1=[1,2], frame_indices_1=[0,1],\n",
    "                         item_2=molecular_system_B, selection_2=1, frame_indices_2=[1,2], output_form='dict')"
   ]
  },
  {
   "cell_type": "code",
   "execution_count": 40,
   "metadata": {},
   "outputs": [
    {
     "name": "stdout",
     "output_type": "stream",
     "text": [
      "The distance between atom 2-th of A at frame 1-th and atom 1-th of B at frame 2-th is: 6.164414002968976 nm\n"
     ]
    }
   ],
   "source": [
    "print('The distance between atom 2-th of A at frame 1-th and atom 1-th of B at frame 2-th is: {}'.format(distances[2][1][1]))"
   ]
  },
  {
   "cell_type": "markdown",
   "metadata": {},
   "source": [
    "The possibility to calculate distances between crossing frame indices opens the door to get displacement lengths as it is shown in next subsection."
   ]
  },
  {
   "cell_type": "markdown",
   "metadata": {},
   "source": [
    "### Displacement distances of atoms"
   ]
  },
  {
   "cell_type": "markdown",
   "metadata": {},
   "source": [
    "When both input arguments `frame_indices_1` and `frame_indices_2` are used over a unique set of atoms of the same molecular system, the distances computed acquired a simple physical meaning: displacements. Lets see the following case:"
   ]
  },
  {
   "cell_type": "code",
   "execution_count": 41,
   "metadata": {},
   "outputs": [],
   "source": [
    "distances = msm.distance(item_1=molecular_system_A, selection_1=1, frame_indices_1=[0,1], frame_indices_2=[1,2])"
   ]
  },
  {
   "cell_type": "markdown",
   "metadata": {},
   "source": [
    "The shape of the output object is:"
   ]
  },
  {
   "cell_type": "code",
   "execution_count": 42,
   "metadata": {},
   "outputs": [
    {
     "data": {
      "text/plain": [
       "(2, 1, 1)"
      ]
     },
     "execution_count": 42,
     "metadata": {},
     "output_type": "execute_result"
    }
   ],
   "source": [
    "distances.shape"
   ]
  },
  {
   "cell_type": "markdown",
   "metadata": {},
   "source": [
    "The length of the distance walked by atom 1-th of `molecular_system_A` between frames 0-th and 1-th is:"
   ]
  },
  {
   "cell_type": "code",
   "execution_count": 43,
   "metadata": {},
   "outputs": [
    {
     "name": "stdout",
     "output_type": "stream",
     "text": [
      "The displacement length of atom 1-th between frames 0-th and 1th is: 1.0 nm\n"
     ]
    }
   ],
   "source": [
    "print('The displacement length of atom 1-th between frames 0-th and 1th is: {}'.format(distances[0,0,0]))"
   ]
  },
  {
   "cell_type": "markdown",
   "metadata": {},
   "source": [
    "While the displacement length of the same atom between the next two consecutive frames is:"
   ]
  },
  {
   "cell_type": "code",
   "execution_count": 44,
   "metadata": {},
   "outputs": [
    {
     "name": "stdout",
     "output_type": "stream",
     "text": [
      "The displacement length of atom 1-th between frames 1-th and 2-th is: 1.0 nm\n"
     ]
    }
   ],
   "source": [
    "print('The displacement length of atom 1-th between frames 1-th and 2-th is: {}'.format(distances[1,0,0]))"
   ]
  },
  {
   "cell_type": "markdown",
   "metadata": {},
   "source": [
    "If we want to get the length distance an atom moves between a fixed frame, 0-th for instance, and the rest of frames we can invoke the command `molsysmt.distance()` this way:"
   ]
  },
  {
   "cell_type": "code",
   "execution_count": 45,
   "metadata": {},
   "outputs": [],
   "source": [
    "distances = msm.distance(item_1=molecular_system_A, selection_1=1, frame_indices_1=[0,1,2], frame_indices_2=[0,0,0],\n",
    "                         output_form='dict')"
   ]
  },
  {
   "cell_type": "markdown",
   "metadata": {},
   "source": [
    "The displacement length of atom 1-th between its position at frame 0-th and all other frames is:"
   ]
  },
  {
   "cell_type": "code",
   "execution_count": 46,
   "metadata": {},
   "outputs": [
    {
     "name": "stdout",
     "output_type": "stream",
     "text": [
      "The displacement length of atom 1-th between frames 0-th and 0-th is: 0.0 nm\n",
      "The displacement length of atom 1-th between frames 0-th and 1-th is: 1.0 nm\n",
      "The displacement length of atom 1-th between frames 0-th and 2-th is: 1.4142135623730951 nm\n"
     ]
    }
   ],
   "source": [
    "for ii in range(3):\n",
    "    print('The displacement length of atom 1-th between frames 0-th and {}-th is: {}'.format(ii, distances[1][1][ii]))"
   ]
  },
  {
   "cell_type": "markdown",
   "metadata": {},
   "source": [
    "### Distance between atoms pairs\n",
    "\n",
    "When the method `molsysmt.distance()` is invoked to calculate the distances between a set of $N$ atoms of `item_1` and a set of $M$ atoms of `item_2`, the result is an object, a numpy array or a dictionary, with $N x M$ distances per frame. Sometimes all these different distances are not needed, but only those between specific atom pairs. These atom pairs can be given by the elements in `selection_1` and `selection_2` coupled sequantially one to one. This option is activated when the input argument `pairs=True`:"
   ]
  },
  {
   "cell_type": "code",
   "execution_count": 47,
   "metadata": {},
   "outputs": [],
   "source": [
    "distances = msm.distance(item_1=molecular_system_A, selection_1=[0,0,1], selection_2=[1,2,2],\n",
    "                         frame_indices_1=[1,2], pairs=True)"
   ]
  },
  {
   "cell_type": "markdown",
   "metadata": {},
   "source": [
    "When `pairs=True` the shape of the output numpy array is $[n\\_frames, N]$, where $N$ is the number of pairs: [0,1], [0,2] and [1,2], in this case.  "
   ]
  },
  {
   "cell_type": "code",
   "execution_count": 48,
   "metadata": {},
   "outputs": [
    {
     "data": {
      "text/plain": [
       "(2, 3)"
      ]
     },
     "execution_count": 48,
     "metadata": {},
     "output_type": "execute_result"
    }
   ],
   "source": [
    "distances.shape"
   ]
  },
  {
   "cell_type": "markdown",
   "metadata": {},
   "source": [
    "Lets print out the distance between atoms 0-th and 2-th in frame 1-th:"
   ]
  },
  {
   "cell_type": "code",
   "execution_count": 49,
   "metadata": {},
   "outputs": [
    {
     "name": "stdout",
     "output_type": "stream",
     "text": [
      "The distance between the pair of atoms 0-th and 2-th in frame 1-th: 3.7416573867739413 nm\n"
     ]
    }
   ],
   "source": [
    "print('The distance between the pair of atoms 0-th and 2-th in frame 1-th: {}'.format(distances[0,1]))"
   ]
  },
  {
   "cell_type": "markdown",
   "metadata": {},
   "source": [
    "The dictionary output form also works for atom pairs in the same way as with `pairs=False`:"
   ]
  },
  {
   "cell_type": "code",
   "execution_count": 50,
   "metadata": {},
   "outputs": [],
   "source": [
    "distances = msm.distance(item_1=molecular_system_A, selection_1=[0,0,1], selection_2=[1,2,2],\n",
    "                         frame_indices_1=[1,2], pairs=True, output_form='dict')"
   ]
  },
  {
   "cell_type": "code",
   "execution_count": 51,
   "metadata": {},
   "outputs": [
    {
     "name": "stdout",
     "output_type": "stream",
     "text": [
      "The distance between the pair of atoms 0-th and 2-th in frame 1-th: 3.7416573867739413 nm\n"
     ]
    }
   ],
   "source": [
    "print('The distance between the pair of atoms 0-th and 2-th in frame 1-th: {}'.format(distances[0][2][1]))"
   ]
  },
  {
   "cell_type": "markdown",
   "metadata": {},
   "source": [
    "### Minimum and Maximum distance\n",
    "\n",
    "Sometimes the minimum and maximum distance between two sets of atoms needs to be obtained. Although this step could be done with the method `molsysmt.distance()` and  a little coding, MolSysMT includes two methods to make it even easier: `molsysmt.minimum_distance()` and `molsysmt.maximum_distance()`. Lets see in the following cells how they work.\n",
    "\n",
    "As first example, lets get the minimum distance between both molecular systems A and B:"
   ]
  },
  {
   "cell_type": "code",
   "execution_count": 52,
   "metadata": {},
   "outputs": [],
   "source": [
    "min_pairs, min_distances = msm.minimum_distance(item_1=molecular_system_A, item_2=molecular_system_B)"
   ]
  },
  {
   "cell_type": "markdown",
   "metadata": {},
   "source": [
    "The result is offered as two numpy arrays: the list of atoms pairs minimizing the distance for each frame, and the corresponding value of the minimum distance (for each frame also)."
   ]
  },
  {
   "cell_type": "code",
   "execution_count": 53,
   "metadata": {},
   "outputs": [
    {
     "data": {
      "text/plain": [
       "(3, 2)"
      ]
     },
     "execution_count": 53,
     "metadata": {},
     "output_type": "execute_result"
    }
   ],
   "source": [
    "min_pairs.shape"
   ]
  },
  {
   "cell_type": "code",
   "execution_count": 54,
   "metadata": {},
   "outputs": [
    {
     "data": {
      "text/plain": [
       "array([[0, 1],\n",
       "       [0, 1],\n",
       "       [1, 1]])"
      ]
     },
     "execution_count": 54,
     "metadata": {},
     "output_type": "execute_result"
    }
   ],
   "source": [
    "min_pairs"
   ]
  },
  {
   "cell_type": "code",
   "execution_count": 55,
   "metadata": {},
   "outputs": [
    {
     "data": {
      "text/plain": [
       "(3,)"
      ]
     },
     "execution_count": 55,
     "metadata": {},
     "output_type": "execute_result"
    }
   ],
   "source": [
    "min_distances.shape"
   ]
  },
  {
   "cell_type": "code",
   "execution_count": 56,
   "metadata": {},
   "outputs": [
    {
     "data": {
      "text/plain": [
       "Quantity(value=array([3.60555128, 2.44948974, 4.12310563]), unit=nanometer)"
      ]
     },
     "execution_count": 56,
     "metadata": {},
     "output_type": "execute_result"
    }
   ],
   "source": [
    "min_distances"
   ]
  },
  {
   "cell_type": "code",
   "execution_count": 57,
   "metadata": {},
   "outputs": [
    {
     "name": "stdout",
     "output_type": "stream",
     "text": [
      "The minimum distance in frame 2-th is given by atom 1-th of A and atom 1-th of B: 4.123105625617661 nm\n"
     ]
    }
   ],
   "source": [
    "print('The minimum distance in frame 2-th is given by atom {}-th of A and atom {}-th of B: {}'.format(min_pairs[2,0], min_pairs[2,1], min_distances[2]))"
   ]
  },
  {
   "cell_type": "markdown",
   "metadata": {},
   "source": [
    "All input arguments described in previous subsections can also be used with `molsysmt.minimum_distance()` and `molsysmt.maximum_distance()`. Lets see an example:"
   ]
  },
  {
   "cell_type": "code",
   "execution_count": 58,
   "metadata": {},
   "outputs": [],
   "source": [
    "min_pairs, min_distances = msm.minimum_distance(item_1=molecular_system_A, selection_1=[0,1,2], selection_2=[0,1,2],\n",
    "                                               frame_indices_1=[0,1], frame_indices_2=[1,2], pairs=True)"
   ]
  },
  {
   "cell_type": "markdown",
   "metadata": {},
   "source": [
    "Remember that with `pairs=True`, the output does not longer refer atoms indices but pairs indices. That is the reason why the shape of min_pairs is now:"
   ]
  },
  {
   "cell_type": "code",
   "execution_count": 59,
   "metadata": {},
   "outputs": [
    {
     "data": {
      "text/plain": [
       "(2,)"
      ]
     },
     "execution_count": 59,
     "metadata": {},
     "output_type": "execute_result"
    }
   ],
   "source": [
    "min_pairs.shape"
   ]
  },
  {
   "cell_type": "markdown",
   "metadata": {},
   "source": [
    "While,"
   ]
  },
  {
   "cell_type": "code",
   "execution_count": 60,
   "metadata": {},
   "outputs": [
    {
     "data": {
      "text/plain": [
       "(2,)"
      ]
     },
     "execution_count": 60,
     "metadata": {},
     "output_type": "execute_result"
    }
   ],
   "source": [
    "min_distances.shape"
   ]
  },
  {
   "cell_type": "markdown",
   "metadata": {},
   "source": [
    "Which means that the minimum displacement between consecutive frames was observed for:"
   ]
  },
  {
   "cell_type": "code",
   "execution_count": 61,
   "metadata": {},
   "outputs": [
    {
     "name": "stdout",
     "output_type": "stream",
     "text": [
      "Atom 0-th had the minimum displacement of A between frames 0-th and 1-th: 1.0 nm\n",
      "Atom 0-th had the minimum displacement of A between frames 1-th and 2-th: 1.0 nm\n"
     ]
    }
   ],
   "source": [
    "for ii in range(2):\n",
    "    print('Atom {}-th had the minimum displacement of A between frames {}-th and {}-th: {}'.format(min_pairs[ii], ii, ii+1, min_distances[ii]))"
   ]
  },
  {
   "cell_type": "markdown",
   "metadata": {},
   "source": [
    "There are situations in which we have a list of atoms of a set A and the minimum distance with a second set of atoms B needs to be known for every single atom of A. In this case the first set has to be considered not as entity (as set) in view of getting a single minimum distance. Lets illustrate this with an example:"
   ]
  },
  {
   "cell_type": "code",
   "execution_count": 62,
   "metadata": {},
   "outputs": [],
   "source": [
    "min_pairs, min_distances = msm.minimum_distance(item_1=molecular_system_A, selection_1=[1,2], frame_indices_1=[0,1,2],\n",
    "                                                item_2=molecular_system_B, selection_2=[0,1],\n",
    "                                                as_entity_1=False, as_entity_2=True)"
   ]
  },
  {
   "cell_type": "markdown",
   "metadata": {},
   "source": [
    "The output corresponds to the minimum distance of atom 1-th of A to any atom of B and the minimum distance of atom 2-th of A to any atom of B, at every frame:"
   ]
  },
  {
   "cell_type": "code",
   "execution_count": 63,
   "metadata": {},
   "outputs": [
    {
     "data": {
      "text/plain": [
       "(3, 2)"
      ]
     },
     "execution_count": 63,
     "metadata": {},
     "output_type": "execute_result"
    }
   ],
   "source": [
    "min_pairs.shape"
   ]
  },
  {
   "cell_type": "code",
   "execution_count": 64,
   "metadata": {},
   "outputs": [
    {
     "data": {
      "text/plain": [
       "(3, 2)"
      ]
     },
     "execution_count": 64,
     "metadata": {},
     "output_type": "execute_result"
    }
   ],
   "source": [
    "min_distances.shape"
   ]
  },
  {
   "cell_type": "code",
   "execution_count": 65,
   "metadata": {},
   "outputs": [
    {
     "name": "stdout",
     "output_type": "stream",
     "text": [
      "Atom 1-th of A has the minimum distance to B with its atom 1-th in frame 1-th: 4.242640687119285 nm\n"
     ]
    }
   ],
   "source": [
    "selection_2=[0,1]\n",
    "print('Atom 1-th of A has the minimum distance to B with its atom {}-th in frame 1-th: {}'.format(selection_2[min_pairs[1,0]], min_distances[1,0]))"
   ]
  },
  {
   "cell_type": "code",
   "execution_count": 66,
   "metadata": {},
   "outputs": [
    {
     "name": "stdout",
     "output_type": "stream",
     "text": [
      "The 1-th is the closest atom of B to atom 1-th of A at frame 0-th with 4.58257569495584 nm\n",
      "The 1-th is the closest atom of B to atom 1-th of A at frame 1-th with 4.242640687119285 nm\n",
      "The 1-th is the closest atom of B to atom 1-th of A at frame 2-th with 4.123105625617661 nm\n"
     ]
    }
   ],
   "source": [
    "for ii in range(3):\n",
    "    print('The {}-th is the closest atom of B to atom 1-th of A at frame {}-th with {}'.format(selection_2[min_pairs[ii,0]],ii, min_distances[ii,0]))"
   ]
  },
  {
   "cell_type": "markdown",
   "metadata": {},
   "source": [
    "## Distance between atom groups in space\n",
    "\n",
    "Imagine the distance between geometric centers of atoms groups needs to be obtained. There is no reason why MolSysMT should have new functions to do that. Every method introduced in the previous section, about getting distances between atoms, has the possibility to do it over groups of atoms.\n",
    "\n",
    "### Distance between atom groups of a system\n",
    "\n",
    "Lets load a new molecular system to illustrate how `molsysmt.distance()` can get distances between atom groups:"
   ]
  },
  {
   "cell_type": "code",
   "execution_count": 67,
   "metadata": {},
   "outputs": [],
   "source": [
    "molecular_system = msm.convert('mmtf:1TCD', 'molsysmt.MolSys')"
   ]
  },
  {
   "cell_type": "code",
   "execution_count": 68,
   "metadata": {},
   "outputs": [
    {
     "data": {
      "text/html": [
       "<style  type=\"text/css\" >\n",
       "</style><table id=\"T_a538d04e_959f_11ea_8b2d_770f905d099e\" ><thead>    <tr>        <th class=\"col_heading level0 col0\" >form</th>        <th class=\"col_heading level0 col1\" >n atoms</th>        <th class=\"col_heading level0 col2\" >n groups</th>        <th class=\"col_heading level0 col3\" >n components</th>        <th class=\"col_heading level0 col4\" >n chains</th>        <th class=\"col_heading level0 col5\" >n molecules</th>        <th class=\"col_heading level0 col6\" >n entities</th>        <th class=\"col_heading level0 col7\" >n waters</th>        <th class=\"col_heading level0 col8\" >n proteins</th>        <th class=\"col_heading level0 col9\" >n frames</th>    </tr></thead><tbody>\n",
       "                <tr>\n",
       "                                <td id=\"T_a538d04e_959f_11ea_8b2d_770f905d099erow0_col0\" class=\"data row0 col0\" >molsysmt.MolSys</td>\n",
       "                        <td id=\"T_a538d04e_959f_11ea_8b2d_770f905d099erow0_col1\" class=\"data row0 col1\" >3983</td>\n",
       "                        <td id=\"T_a538d04e_959f_11ea_8b2d_770f905d099erow0_col2\" class=\"data row0 col2\" >662</td>\n",
       "                        <td id=\"T_a538d04e_959f_11ea_8b2d_770f905d099erow0_col3\" class=\"data row0 col3\" >167</td>\n",
       "                        <td id=\"T_a538d04e_959f_11ea_8b2d_770f905d099erow0_col4\" class=\"data row0 col4\" >4</td>\n",
       "                        <td id=\"T_a538d04e_959f_11ea_8b2d_770f905d099erow0_col5\" class=\"data row0 col5\" >166</td>\n",
       "                        <td id=\"T_a538d04e_959f_11ea_8b2d_770f905d099erow0_col6\" class=\"data row0 col6\" >2</td>\n",
       "                        <td id=\"T_a538d04e_959f_11ea_8b2d_770f905d099erow0_col7\" class=\"data row0 col7\" >165</td>\n",
       "                        <td id=\"T_a538d04e_959f_11ea_8b2d_770f905d099erow0_col8\" class=\"data row0 col8\" >1</td>\n",
       "                        <td id=\"T_a538d04e_959f_11ea_8b2d_770f905d099erow0_col9\" class=\"data row0 col9\" >1</td>\n",
       "            </tr>\n",
       "    </tbody></table>"
      ],
      "text/plain": [
       "<pandas.io.formats.style.Styler at 0x7f85338f85d0>"
      ]
     },
     "execution_count": 68,
     "metadata": {},
     "output_type": "execute_result"
    }
   ],
   "source": [
    "msm.info(molecular_system)"
   ]
  },
  {
   "cell_type": "markdown",
   "metadata": {},
   "source": [
    "Lets revisit how to get the distances between two atoms selections to start with, then the effect of input arguments `group_behavior_1` and `group_behavior_2` will be shown:"
   ]
  },
  {
   "cell_type": "code",
   "execution_count": 69,
   "metadata": {},
   "outputs": [],
   "source": [
    "distances = msm.distance(molecular_system, selection_1=\"group.index==0\", selection_2=\"group.index==1\")"
   ]
  },
  {
   "cell_type": "markdown",
   "metadata": {},
   "source": [
    "This molecular system has onle a single frame, so the shape of the output array is $[1, n\\_atoms\\_1, n\\_atoms\\_2]$ where $n\\_atoms\\_1$ and $n\\_atoms\\_2$ is the number of atoms in `selection_1` and `selection_2`, respectively:"
   ]
  },
  {
   "cell_type": "code",
   "execution_count": 70,
   "metadata": {},
   "outputs": [
    {
     "name": "stdout",
     "output_type": "stream",
     "text": [
      "9 7\n"
     ]
    }
   ],
   "source": [
    "n_atoms_1 = msm.get(molecular_system, selection=\"group.index==0\", n_atoms=True)\n",
    "n_atoms_2 = msm.get(molecular_system, selection=\"group.index==1\", n_atoms=True)\n",
    "print(n_atoms_1, n_atoms_2)"
   ]
  },
  {
   "cell_type": "code",
   "execution_count": 71,
   "metadata": {},
   "outputs": [
    {
     "data": {
      "text/plain": [
       "(1, 9, 7)"
      ]
     },
     "execution_count": 71,
     "metadata": {},
     "output_type": "execute_result"
    }
   ],
   "source": [
    "distances.shape"
   ]
  },
  {
   "cell_type": "markdown",
   "metadata": {},
   "source": [
    "Now, lets use `group_behavior_1=\"geometric_center\"` to obtain the distance between the geometric center of the set of atoms in `selection_1` to every atom in `selection_2`."
   ]
  },
  {
   "cell_type": "code",
   "execution_count": 72,
   "metadata": {},
   "outputs": [],
   "source": [
    "distances = msm.distance(molecular_system, selection_1=\"group.index==0\", selection_2=\"group.index==1\",\n",
    "                         group_behavior_1=\"geometric_center\")"
   ]
  },
  {
   "cell_type": "code",
   "execution_count": 73,
   "metadata": {},
   "outputs": [
    {
     "data": {
      "text/plain": [
       "(1, 1, 7)"
      ]
     },
     "execution_count": 73,
     "metadata": {},
     "output_type": "execute_result"
    }
   ],
   "source": [
    "distances.shape"
   ]
  },
  {
   "cell_type": "markdown",
   "metadata": {},
   "source": [
    "And with `group_behavior_2=\"geometric_center\"` the distance between both geometric centers can be obtain:"
   ]
  },
  {
   "cell_type": "code",
   "execution_count": 74,
   "metadata": {},
   "outputs": [],
   "source": [
    "distances = msm.distance(molecular_system, selection_1=\"group.index==0\", selection_2=\"group.index==1\",\n",
    "                         group_behavior_1=\"geometric_center\", group_behavior_2=\"geometric_center\")"
   ]
  },
  {
   "cell_type": "code",
   "execution_count": 75,
   "metadata": {},
   "outputs": [
    {
     "data": {
      "text/plain": [
       "(1, 1, 1)"
      ]
     },
     "execution_count": 75,
     "metadata": {},
     "output_type": "execute_result"
    }
   ],
   "source": [
    "distances.shape"
   ]
  },
  {
   "cell_type": "markdown",
   "metadata": {},
   "source": [
    "The input arguments `group_behavior_1` and `group_behavior_2` allow us to work with a unique position of a group of atoms, either the geometric center or the center of mass. But what happens then if we have several groups of atoms? The arguments `selection_1` and `selection_2` do work with just a list of atom indices or a selection sentence. Thats why we have to use two new input arguments: `groups_of_atoms_1` and `groups_of_atoms_2`. Lets define a couple of list of lists of atom indices to illustrate their use."
   ]
  },
  {
   "cell_type": "code",
   "execution_count": 76,
   "metadata": {},
   "outputs": [],
   "source": [
    "list_groups_1 = msm.get(molecular_system, target=\"group\", selection=\"group.index in [0,1,2,3]\", atom_index=True)\n",
    "list_groups_2 = msm.get(molecular_system, target=\"group\", selection=\"group.index in [4,5,6,7,8]\", atom_index=True)"
   ]
  },
  {
   "cell_type": "code",
   "execution_count": 77,
   "metadata": {},
   "outputs": [
    {
     "name": "stdout",
     "output_type": "stream",
     "text": [
      "[array([0, 1, 2, 3, 4, 5, 6, 7, 8]) array([ 9, 10, 11, 12, 13, 14, 15])\n",
      " array([16, 17, 18, 19, 20, 21, 22, 23, 24])\n",
      " array([25, 26, 27, 28, 29, 30, 31])]\n"
     ]
    }
   ],
   "source": [
    "print(list_groups_1)"
   ]
  },
  {
   "cell_type": "markdown",
   "metadata": {},
   "source": [
    "First, lets compute the distance between every single atom in `selection_1` to the geometric center of the atoms groups defined in `list_groups_2`:"
   ]
  },
  {
   "cell_type": "code",
   "execution_count": 78,
   "metadata": {},
   "outputs": [],
   "source": [
    "distances = msm.distance(molecular_system, selection_1=\"group.index==0\", groups_of_atoms_2=list_groups_2,\n",
    "                        group_behavior_2=\"geometric_center\")"
   ]
  },
  {
   "cell_type": "code",
   "execution_count": 79,
   "metadata": {},
   "outputs": [
    {
     "data": {
      "text/plain": [
       "(1, 9, 5)"
      ]
     },
     "execution_count": 79,
     "metadata": {},
     "output_type": "execute_result"
    }
   ],
   "source": [
    "distances.shape"
   ]
  },
  {
   "cell_type": "markdown",
   "metadata": {},
   "source": [
    "Now, the distance between the geometric center of the set of atoms in `selection_1` and every geometric center of the atoms groups given by `list_groups_2`:"
   ]
  },
  {
   "cell_type": "code",
   "execution_count": 80,
   "metadata": {},
   "outputs": [],
   "source": [
    "distances = msm.distance(molecular_system, selection_1=\"group.index==0\", groups_of_atoms_2=list_groups_2,\n",
    "                        group_behavior_1=\"geometric_center\", group_behavior_2=\"geometric_center\")"
   ]
  },
  {
   "cell_type": "code",
   "execution_count": 81,
   "metadata": {},
   "outputs": [
    {
     "data": {
      "text/plain": [
       "(1, 1, 5)"
      ]
     },
     "execution_count": 81,
     "metadata": {},
     "output_type": "execute_result"
    }
   ],
   "source": [
    "distances.shape"
   ]
  },
  {
   "cell_type": "markdown",
   "metadata": {},
   "source": [
    "And finnally, the distance between every geometric center of the atoms groups in `list_groups_1` to every geometric center of the atoms groups defined in `list_groups_2`:"
   ]
  },
  {
   "cell_type": "code",
   "execution_count": 82,
   "metadata": {},
   "outputs": [],
   "source": [
    "distances = msm.distance(molecular_system, groups_of_atoms_1=list_groups_1, groups_of_atoms_2=list_groups_2,\n",
    "                        group_behavior_1=\"geometric_center\", group_behavior_2=\"geometric_center\")"
   ]
  },
  {
   "cell_type": "code",
   "execution_count": 83,
   "metadata": {},
   "outputs": [
    {
     "data": {
      "text/plain": [
       "(1, 4, 5)"
      ]
     },
     "execution_count": 83,
     "metadata": {},
     "output_type": "execute_result"
    }
   ],
   "source": [
    "distances.shape"
   ]
  },
  {
   "cell_type": "markdown",
   "metadata": {},
   "source": [
    "Just like with atoms, if only a list of atoms groups is used, the distance between its centers is obtained:"
   ]
  },
  {
   "cell_type": "code",
   "execution_count": 84,
   "metadata": {},
   "outputs": [],
   "source": [
    "distances = msm.distance(molecular_system, groups_of_atoms_1=list_groups_1, group_behavior_1=\"geometric_center\")"
   ]
  },
  {
   "cell_type": "code",
   "execution_count": 85,
   "metadata": {},
   "outputs": [
    {
     "data": {
      "text/plain": [
       "(1, 4, 4)"
      ]
     },
     "execution_count": 85,
     "metadata": {},
     "output_type": "execute_result"
    }
   ],
   "source": [
    "distances.shape"
   ]
  },
  {
   "cell_type": "markdown",
   "metadata": {},
   "source": [
    "Finnally, lets proof that the distance between groups can be computed all along a trajectory as well as only at specific frames. Lets load the whole trajectory 'pentalanine.h5':"
   ]
  },
  {
   "cell_type": "code",
   "execution_count": 109,
   "metadata": {},
   "outputs": [],
   "source": [
    "molecular_system = msm.convert('pentalanine.h5', to_form='molsysmt.MolSys')"
   ]
  },
  {
   "cell_type": "code",
   "execution_count": 110,
   "metadata": {},
   "outputs": [
    {
     "data": {
      "text/html": [
       "<style  type=\"text/css\" >\n",
       "</style><table id=\"T_85b4786a_95a2_11ea_8b2d_770f905d099e\" ><thead>    <tr>        <th class=\"col_heading level0 col0\" >form</th>        <th class=\"col_heading level0 col1\" >n atoms</th>        <th class=\"col_heading level0 col2\" >n groups</th>        <th class=\"col_heading level0 col3\" >n components</th>        <th class=\"col_heading level0 col4\" >n chains</th>        <th class=\"col_heading level0 col5\" >n molecules</th>        <th class=\"col_heading level0 col6\" >n entities</th>        <th class=\"col_heading level0 col7\" >n frames</th>    </tr></thead><tbody>\n",
       "                <tr>\n",
       "                                <td id=\"T_85b4786a_95a2_11ea_8b2d_770f905d099erow0_col0\" class=\"data row0 col0\" >molsysmt.MolSys</td>\n",
       "                        <td id=\"T_85b4786a_95a2_11ea_8b2d_770f905d099erow0_col1\" class=\"data row0 col1\" >62</td>\n",
       "                        <td id=\"T_85b4786a_95a2_11ea_8b2d_770f905d099erow0_col2\" class=\"data row0 col2\" >7</td>\n",
       "                        <td id=\"T_85b4786a_95a2_11ea_8b2d_770f905d099erow0_col3\" class=\"data row0 col3\" >1</td>\n",
       "                        <td id=\"T_85b4786a_95a2_11ea_8b2d_770f905d099erow0_col4\" class=\"data row0 col4\" >1</td>\n",
       "                        <td id=\"T_85b4786a_95a2_11ea_8b2d_770f905d099erow0_col5\" class=\"data row0 col5\" >1</td>\n",
       "                        <td id=\"T_85b4786a_95a2_11ea_8b2d_770f905d099erow0_col6\" class=\"data row0 col6\" >1</td>\n",
       "                        <td id=\"T_85b4786a_95a2_11ea_8b2d_770f905d099erow0_col7\" class=\"data row0 col7\" >5000</td>\n",
       "            </tr>\n",
       "    </tbody></table>"
      ],
      "text/plain": [
       "<pandas.io.formats.style.Styler at 0x7f85157bf3d0>"
      ]
     },
     "execution_count": 110,
     "metadata": {},
     "output_type": "execute_result"
    }
   ],
   "source": [
    "msm.info(molecular_system)"
   ]
  },
  {
   "cell_type": "code",
   "execution_count": 111,
   "metadata": {},
   "outputs": [
    {
     "data": {
      "text/html": [
       "<style  type=\"text/css\" >\n",
       "</style><table id=\"T_8614faa0_95a2_11ea_8b2d_770f905d099e\" ><thead>    <tr>        <th class=\"col_heading level0 col0\" >index</th>        <th class=\"col_heading level0 col1\" >id</th>        <th class=\"col_heading level0 col2\" >name</th>        <th class=\"col_heading level0 col3\" >type</th>        <th class=\"col_heading level0 col4\" >n atoms</th>        <th class=\"col_heading level0 col5\" >component index</th>        <th class=\"col_heading level0 col6\" >chain index</th>        <th class=\"col_heading level0 col7\" >molecule index</th>        <th class=\"col_heading level0 col8\" >molecule type</th>        <th class=\"col_heading level0 col9\" >entity index</th>        <th class=\"col_heading level0 col10\" >entity name</th>    </tr></thead><tbody>\n",
       "                <tr>\n",
       "                                <td id=\"T_8614faa0_95a2_11ea_8b2d_770f905d099erow0_col0\" class=\"data row0 col0\" >0</td>\n",
       "                        <td id=\"T_8614faa0_95a2_11ea_8b2d_770f905d099erow0_col1\" class=\"data row0 col1\" >1</td>\n",
       "                        <td id=\"T_8614faa0_95a2_11ea_8b2d_770f905d099erow0_col2\" class=\"data row0 col2\" >ACE</td>\n",
       "                        <td id=\"T_8614faa0_95a2_11ea_8b2d_770f905d099erow0_col3\" class=\"data row0 col3\" >aminoacid</td>\n",
       "                        <td id=\"T_8614faa0_95a2_11ea_8b2d_770f905d099erow0_col4\" class=\"data row0 col4\" >6</td>\n",
       "                        <td id=\"T_8614faa0_95a2_11ea_8b2d_770f905d099erow0_col5\" class=\"data row0 col5\" >0</td>\n",
       "                        <td id=\"T_8614faa0_95a2_11ea_8b2d_770f905d099erow0_col6\" class=\"data row0 col6\" >0</td>\n",
       "                        <td id=\"T_8614faa0_95a2_11ea_8b2d_770f905d099erow0_col7\" class=\"data row0 col7\" >0</td>\n",
       "                        <td id=\"T_8614faa0_95a2_11ea_8b2d_770f905d099erow0_col8\" class=\"data row0 col8\" >None</td>\n",
       "                        <td id=\"T_8614faa0_95a2_11ea_8b2d_770f905d099erow0_col9\" class=\"data row0 col9\" >0</td>\n",
       "                        <td id=\"T_8614faa0_95a2_11ea_8b2d_770f905d099erow0_col10\" class=\"data row0 col10\" >None</td>\n",
       "            </tr>\n",
       "            <tr>\n",
       "                                <td id=\"T_8614faa0_95a2_11ea_8b2d_770f905d099erow1_col0\" class=\"data row1 col0\" >1</td>\n",
       "                        <td id=\"T_8614faa0_95a2_11ea_8b2d_770f905d099erow1_col1\" class=\"data row1 col1\" >2</td>\n",
       "                        <td id=\"T_8614faa0_95a2_11ea_8b2d_770f905d099erow1_col2\" class=\"data row1 col2\" >ALA</td>\n",
       "                        <td id=\"T_8614faa0_95a2_11ea_8b2d_770f905d099erow1_col3\" class=\"data row1 col3\" >aminoacid</td>\n",
       "                        <td id=\"T_8614faa0_95a2_11ea_8b2d_770f905d099erow1_col4\" class=\"data row1 col4\" >10</td>\n",
       "                        <td id=\"T_8614faa0_95a2_11ea_8b2d_770f905d099erow1_col5\" class=\"data row1 col5\" >0</td>\n",
       "                        <td id=\"T_8614faa0_95a2_11ea_8b2d_770f905d099erow1_col6\" class=\"data row1 col6\" >0</td>\n",
       "                        <td id=\"T_8614faa0_95a2_11ea_8b2d_770f905d099erow1_col7\" class=\"data row1 col7\" >0</td>\n",
       "                        <td id=\"T_8614faa0_95a2_11ea_8b2d_770f905d099erow1_col8\" class=\"data row1 col8\" >None</td>\n",
       "                        <td id=\"T_8614faa0_95a2_11ea_8b2d_770f905d099erow1_col9\" class=\"data row1 col9\" >0</td>\n",
       "                        <td id=\"T_8614faa0_95a2_11ea_8b2d_770f905d099erow1_col10\" class=\"data row1 col10\" >None</td>\n",
       "            </tr>\n",
       "            <tr>\n",
       "                                <td id=\"T_8614faa0_95a2_11ea_8b2d_770f905d099erow2_col0\" class=\"data row2 col0\" >2</td>\n",
       "                        <td id=\"T_8614faa0_95a2_11ea_8b2d_770f905d099erow2_col1\" class=\"data row2 col1\" >3</td>\n",
       "                        <td id=\"T_8614faa0_95a2_11ea_8b2d_770f905d099erow2_col2\" class=\"data row2 col2\" >ALA</td>\n",
       "                        <td id=\"T_8614faa0_95a2_11ea_8b2d_770f905d099erow2_col3\" class=\"data row2 col3\" >aminoacid</td>\n",
       "                        <td id=\"T_8614faa0_95a2_11ea_8b2d_770f905d099erow2_col4\" class=\"data row2 col4\" >10</td>\n",
       "                        <td id=\"T_8614faa0_95a2_11ea_8b2d_770f905d099erow2_col5\" class=\"data row2 col5\" >0</td>\n",
       "                        <td id=\"T_8614faa0_95a2_11ea_8b2d_770f905d099erow2_col6\" class=\"data row2 col6\" >0</td>\n",
       "                        <td id=\"T_8614faa0_95a2_11ea_8b2d_770f905d099erow2_col7\" class=\"data row2 col7\" >0</td>\n",
       "                        <td id=\"T_8614faa0_95a2_11ea_8b2d_770f905d099erow2_col8\" class=\"data row2 col8\" >None</td>\n",
       "                        <td id=\"T_8614faa0_95a2_11ea_8b2d_770f905d099erow2_col9\" class=\"data row2 col9\" >0</td>\n",
       "                        <td id=\"T_8614faa0_95a2_11ea_8b2d_770f905d099erow2_col10\" class=\"data row2 col10\" >None</td>\n",
       "            </tr>\n",
       "            <tr>\n",
       "                                <td id=\"T_8614faa0_95a2_11ea_8b2d_770f905d099erow3_col0\" class=\"data row3 col0\" >3</td>\n",
       "                        <td id=\"T_8614faa0_95a2_11ea_8b2d_770f905d099erow3_col1\" class=\"data row3 col1\" >4</td>\n",
       "                        <td id=\"T_8614faa0_95a2_11ea_8b2d_770f905d099erow3_col2\" class=\"data row3 col2\" >ALA</td>\n",
       "                        <td id=\"T_8614faa0_95a2_11ea_8b2d_770f905d099erow3_col3\" class=\"data row3 col3\" >aminoacid</td>\n",
       "                        <td id=\"T_8614faa0_95a2_11ea_8b2d_770f905d099erow3_col4\" class=\"data row3 col4\" >10</td>\n",
       "                        <td id=\"T_8614faa0_95a2_11ea_8b2d_770f905d099erow3_col5\" class=\"data row3 col5\" >0</td>\n",
       "                        <td id=\"T_8614faa0_95a2_11ea_8b2d_770f905d099erow3_col6\" class=\"data row3 col6\" >0</td>\n",
       "                        <td id=\"T_8614faa0_95a2_11ea_8b2d_770f905d099erow3_col7\" class=\"data row3 col7\" >0</td>\n",
       "                        <td id=\"T_8614faa0_95a2_11ea_8b2d_770f905d099erow3_col8\" class=\"data row3 col8\" >None</td>\n",
       "                        <td id=\"T_8614faa0_95a2_11ea_8b2d_770f905d099erow3_col9\" class=\"data row3 col9\" >0</td>\n",
       "                        <td id=\"T_8614faa0_95a2_11ea_8b2d_770f905d099erow3_col10\" class=\"data row3 col10\" >None</td>\n",
       "            </tr>\n",
       "            <tr>\n",
       "                                <td id=\"T_8614faa0_95a2_11ea_8b2d_770f905d099erow4_col0\" class=\"data row4 col0\" >4</td>\n",
       "                        <td id=\"T_8614faa0_95a2_11ea_8b2d_770f905d099erow4_col1\" class=\"data row4 col1\" >5</td>\n",
       "                        <td id=\"T_8614faa0_95a2_11ea_8b2d_770f905d099erow4_col2\" class=\"data row4 col2\" >ALA</td>\n",
       "                        <td id=\"T_8614faa0_95a2_11ea_8b2d_770f905d099erow4_col3\" class=\"data row4 col3\" >aminoacid</td>\n",
       "                        <td id=\"T_8614faa0_95a2_11ea_8b2d_770f905d099erow4_col4\" class=\"data row4 col4\" >10</td>\n",
       "                        <td id=\"T_8614faa0_95a2_11ea_8b2d_770f905d099erow4_col5\" class=\"data row4 col5\" >0</td>\n",
       "                        <td id=\"T_8614faa0_95a2_11ea_8b2d_770f905d099erow4_col6\" class=\"data row4 col6\" >0</td>\n",
       "                        <td id=\"T_8614faa0_95a2_11ea_8b2d_770f905d099erow4_col7\" class=\"data row4 col7\" >0</td>\n",
       "                        <td id=\"T_8614faa0_95a2_11ea_8b2d_770f905d099erow4_col8\" class=\"data row4 col8\" >None</td>\n",
       "                        <td id=\"T_8614faa0_95a2_11ea_8b2d_770f905d099erow4_col9\" class=\"data row4 col9\" >0</td>\n",
       "                        <td id=\"T_8614faa0_95a2_11ea_8b2d_770f905d099erow4_col10\" class=\"data row4 col10\" >None</td>\n",
       "            </tr>\n",
       "            <tr>\n",
       "                                <td id=\"T_8614faa0_95a2_11ea_8b2d_770f905d099erow5_col0\" class=\"data row5 col0\" >5</td>\n",
       "                        <td id=\"T_8614faa0_95a2_11ea_8b2d_770f905d099erow5_col1\" class=\"data row5 col1\" >6</td>\n",
       "                        <td id=\"T_8614faa0_95a2_11ea_8b2d_770f905d099erow5_col2\" class=\"data row5 col2\" >ALA</td>\n",
       "                        <td id=\"T_8614faa0_95a2_11ea_8b2d_770f905d099erow5_col3\" class=\"data row5 col3\" >aminoacid</td>\n",
       "                        <td id=\"T_8614faa0_95a2_11ea_8b2d_770f905d099erow5_col4\" class=\"data row5 col4\" >10</td>\n",
       "                        <td id=\"T_8614faa0_95a2_11ea_8b2d_770f905d099erow5_col5\" class=\"data row5 col5\" >0</td>\n",
       "                        <td id=\"T_8614faa0_95a2_11ea_8b2d_770f905d099erow5_col6\" class=\"data row5 col6\" >0</td>\n",
       "                        <td id=\"T_8614faa0_95a2_11ea_8b2d_770f905d099erow5_col7\" class=\"data row5 col7\" >0</td>\n",
       "                        <td id=\"T_8614faa0_95a2_11ea_8b2d_770f905d099erow5_col8\" class=\"data row5 col8\" >None</td>\n",
       "                        <td id=\"T_8614faa0_95a2_11ea_8b2d_770f905d099erow5_col9\" class=\"data row5 col9\" >0</td>\n",
       "                        <td id=\"T_8614faa0_95a2_11ea_8b2d_770f905d099erow5_col10\" class=\"data row5 col10\" >None</td>\n",
       "            </tr>\n",
       "            <tr>\n",
       "                                <td id=\"T_8614faa0_95a2_11ea_8b2d_770f905d099erow6_col0\" class=\"data row6 col0\" >6</td>\n",
       "                        <td id=\"T_8614faa0_95a2_11ea_8b2d_770f905d099erow6_col1\" class=\"data row6 col1\" >7</td>\n",
       "                        <td id=\"T_8614faa0_95a2_11ea_8b2d_770f905d099erow6_col2\" class=\"data row6 col2\" >NME</td>\n",
       "                        <td id=\"T_8614faa0_95a2_11ea_8b2d_770f905d099erow6_col3\" class=\"data row6 col3\" >aminoacid</td>\n",
       "                        <td id=\"T_8614faa0_95a2_11ea_8b2d_770f905d099erow6_col4\" class=\"data row6 col4\" >6</td>\n",
       "                        <td id=\"T_8614faa0_95a2_11ea_8b2d_770f905d099erow6_col5\" class=\"data row6 col5\" >0</td>\n",
       "                        <td id=\"T_8614faa0_95a2_11ea_8b2d_770f905d099erow6_col6\" class=\"data row6 col6\" >0</td>\n",
       "                        <td id=\"T_8614faa0_95a2_11ea_8b2d_770f905d099erow6_col7\" class=\"data row6 col7\" >0</td>\n",
       "                        <td id=\"T_8614faa0_95a2_11ea_8b2d_770f905d099erow6_col8\" class=\"data row6 col8\" >None</td>\n",
       "                        <td id=\"T_8614faa0_95a2_11ea_8b2d_770f905d099erow6_col9\" class=\"data row6 col9\" >0</td>\n",
       "                        <td id=\"T_8614faa0_95a2_11ea_8b2d_770f905d099erow6_col10\" class=\"data row6 col10\" >None</td>\n",
       "            </tr>\n",
       "    </tbody></table>"
      ],
      "text/plain": [
       "<pandas.io.formats.style.Styler at 0x7f85156d4c10>"
      ]
     },
     "execution_count": 111,
     "metadata": {},
     "output_type": "execute_result"
    }
   ],
   "source": [
    "msm.info(molecular_system, target='group')"
   ]
  },
  {
   "cell_type": "markdown",
   "metadata": {},
   "source": [
    "Lets represent the distance between the geometric center of the terminal groups vs. the simulation time:"
   ]
  },
  {
   "cell_type": "code",
   "execution_count": 112,
   "metadata": {},
   "outputs": [],
   "source": [
    "distances = msm.distance(item_1=molecular_system, selection_1=\"group.index==0\", group_behavior_1=\"geometric_center\",\n",
    "                         selection_2=\"group.index==6\", group_behavior_2=\"geometric_center\")"
   ]
  },
  {
   "cell_type": "code",
   "execution_count": 113,
   "metadata": {},
   "outputs": [],
   "source": [
    "times = msm.get(molecular_system, target=\"system\", time=True)"
   ]
  },
  {
   "cell_type": "code",
   "execution_count": 114,
   "metadata": {},
   "outputs": [
    {
     "data": {
      "image/png": "[encoded data removed]",
      "text/plain": [
       "<Figure size 432x288 with 1 Axes>"
      ]
     },
     "metadata": {
      "needs_background": "light"
     },
     "output_type": "display_data"
    }
   ],
   "source": [
    "plt.plot(times.in_units_of(unit.nanoseconds), distances[:,0,0])\n",
    "plt.show()"
   ]
  },
  {
   "cell_type": "markdown",
   "metadata": {},
   "source": [
    "Or lets just get the distance between the geometric centers of all residues at the 3000-th frame:"
   ]
  },
  {
   "cell_type": "code",
   "execution_count": 115,
   "metadata": {},
   "outputs": [],
   "source": [
    "list_groups_1 = msm.get(molecular_system, target=\"group\", selection=\"all\", atom_index=True)\n",
    "distances = msm.distance(item_1=molecular_system, groups_of_atoms_1=list_groups_1, group_behavior_1=\"geometric_center\",\n",
    "                         frame_indices_1=3000)"
   ]
  },
  {
   "cell_type": "code",
   "execution_count": 116,
   "metadata": {},
   "outputs": [
    {
     "data": {
      "text/plain": [
       "(1, 7, 7)"
      ]
     },
     "execution_count": 116,
     "metadata": {},
     "output_type": "execute_result"
    }
   ],
   "source": [
    "distances.shape"
   ]
  },
  {
   "cell_type": "code",
   "execution_count": 117,
   "metadata": {},
   "outputs": [
    {
     "name": "stdout",
     "output_type": "stream",
     "text": [
      "The distance between geometric_center of group 2-th and group 4-th at frame 3000-th is: 0.6818505282832528 nm\n"
     ]
    }
   ],
   "source": [
    "print(\"The distance between geometric_center of group 2-th and group 4-th at frame 3000-th is: {}\".format(distances[0,2,4]))"
   ]
  },
  {
   "cell_type": "markdown",
   "metadata": {},
   "source": [
    "### Distance between atom groups of two systems\n",
    "\n",
    "The method `molsysmt.distance()` can work with two different systems as it was shown in the section about getting distances from atoms. The same option works for atom groups. Lets just see this with a case:"
   ]
  },
  {
   "cell_type": "code",
   "execution_count": 99,
   "metadata": {},
   "outputs": [],
   "source": [
    "molecular_system = msm.convert('mmtf:1TCD', 'molsysmt.MolSys')"
   ]
  },
  {
   "cell_type": "code",
   "execution_count": 100,
   "metadata": {},
   "outputs": [],
   "source": [
    "molecular_system_A = msm.extract(molecular_system, selection=\"chain.index==0 and molecule.type=='protein'\")\n",
    "molecular_system_B = msm.extract(molecular_system, selection=\"chain.index==1 and molecule.type=='protein'\")"
   ]
  },
  {
   "cell_type": "code",
   "execution_count": 101,
   "metadata": {},
   "outputs": [
    {
     "data": {
      "text/html": [
       "<style  type=\"text/css\" >\n",
       "</style><table id=\"T_39580a86_95a2_11ea_8b2d_770f905d099e\" ><thead>    <tr>        <th class=\"col_heading level0 col0\" >form</th>        <th class=\"col_heading level0 col1\" >n atoms</th>        <th class=\"col_heading level0 col2\" >n groups</th>        <th class=\"col_heading level0 col3\" >n components</th>        <th class=\"col_heading level0 col4\" >n chains</th>        <th class=\"col_heading level0 col5\" >n molecules</th>        <th class=\"col_heading level0 col6\" >n entities</th>        <th class=\"col_heading level0 col7\" >n proteins</th>        <th class=\"col_heading level0 col8\" >n frames</th>    </tr></thead><tbody>\n",
       "                <tr>\n",
       "                                <td id=\"T_39580a86_95a2_11ea_8b2d_770f905d099erow0_col0\" class=\"data row0 col0\" >molsysmt.MolSys</td>\n",
       "                        <td id=\"T_39580a86_95a2_11ea_8b2d_770f905d099erow0_col1\" class=\"data row0 col1\" >1906</td>\n",
       "                        <td id=\"T_39580a86_95a2_11ea_8b2d_770f905d099erow0_col2\" class=\"data row0 col2\" >248</td>\n",
       "                        <td id=\"T_39580a86_95a2_11ea_8b2d_770f905d099erow0_col3\" class=\"data row0 col3\" >1</td>\n",
       "                        <td id=\"T_39580a86_95a2_11ea_8b2d_770f905d099erow0_col4\" class=\"data row0 col4\" >1</td>\n",
       "                        <td id=\"T_39580a86_95a2_11ea_8b2d_770f905d099erow0_col5\" class=\"data row0 col5\" >1</td>\n",
       "                        <td id=\"T_39580a86_95a2_11ea_8b2d_770f905d099erow0_col6\" class=\"data row0 col6\" >1</td>\n",
       "                        <td id=\"T_39580a86_95a2_11ea_8b2d_770f905d099erow0_col7\" class=\"data row0 col7\" >1</td>\n",
       "                        <td id=\"T_39580a86_95a2_11ea_8b2d_770f905d099erow0_col8\" class=\"data row0 col8\" >1</td>\n",
       "            </tr>\n",
       "    </tbody></table>"
      ],
      "text/plain": [
       "<pandas.io.formats.style.Styler at 0x7f8514bb1790>"
      ]
     },
     "execution_count": 101,
     "metadata": {},
     "output_type": "execute_result"
    }
   ],
   "source": [
    "msm.info(molecular_system_A)"
   ]
  },
  {
   "cell_type": "code",
   "execution_count": 102,
   "metadata": {},
   "outputs": [
    {
     "data": {
      "text/html": [
       "<style  type=\"text/css\" >\n",
       "</style><table id=\"T_3b7093b0_95a2_11ea_8b2d_770f905d099e\" ><thead>    <tr>        <th class=\"col_heading level0 col0\" >form</th>        <th class=\"col_heading level0 col1\" >n atoms</th>        <th class=\"col_heading level0 col2\" >n groups</th>        <th class=\"col_heading level0 col3\" >n components</th>        <th class=\"col_heading level0 col4\" >n chains</th>        <th class=\"col_heading level0 col5\" >n molecules</th>        <th class=\"col_heading level0 col6\" >n entities</th>        <th class=\"col_heading level0 col7\" >n proteins</th>        <th class=\"col_heading level0 col8\" >n frames</th>    </tr></thead><tbody>\n",
       "                <tr>\n",
       "                                <td id=\"T_3b7093b0_95a2_11ea_8b2d_770f905d099erow0_col0\" class=\"data row0 col0\" >molsysmt.MolSys</td>\n",
       "                        <td id=\"T_3b7093b0_95a2_11ea_8b2d_770f905d099erow0_col1\" class=\"data row0 col1\" >1912</td>\n",
       "                        <td id=\"T_3b7093b0_95a2_11ea_8b2d_770f905d099erow0_col2\" class=\"data row0 col2\" >249</td>\n",
       "                        <td id=\"T_3b7093b0_95a2_11ea_8b2d_770f905d099erow0_col3\" class=\"data row0 col3\" >1</td>\n",
       "                        <td id=\"T_3b7093b0_95a2_11ea_8b2d_770f905d099erow0_col4\" class=\"data row0 col4\" >1</td>\n",
       "                        <td id=\"T_3b7093b0_95a2_11ea_8b2d_770f905d099erow0_col5\" class=\"data row0 col5\" >1</td>\n",
       "                        <td id=\"T_3b7093b0_95a2_11ea_8b2d_770f905d099erow0_col6\" class=\"data row0 col6\" >1</td>\n",
       "                        <td id=\"T_3b7093b0_95a2_11ea_8b2d_770f905d099erow0_col7\" class=\"data row0 col7\" >1</td>\n",
       "                        <td id=\"T_3b7093b0_95a2_11ea_8b2d_770f905d099erow0_col8\" class=\"data row0 col8\" >1</td>\n",
       "            </tr>\n",
       "    </tbody></table>"
      ],
      "text/plain": [
       "<pandas.io.formats.style.Styler at 0x7f8514bb1f50>"
      ]
     },
     "execution_count": 102,
     "metadata": {},
     "output_type": "execute_result"
    }
   ],
   "source": [
    "msm.info(molecular_system_B)"
   ]
  },
  {
   "cell_type": "markdown",
   "metadata": {},
   "source": [
    "Distance between groups belonging to different groups can be computed. All input arguments introduced to work with atoms remain valid in this context:"
   ]
  },
  {
   "cell_type": "code",
   "execution_count": 103,
   "metadata": {},
   "outputs": [],
   "source": [
    "list_groups_A = msm.get(molecular_system_A, target=\"group\", selection=\"group.index in [0,1,2,3]\", atom_index=True)\n",
    "list_groups_B = msm.get(molecular_system_B, target=\"group\", selection=\"group.index in [10,11,12,13]\", atom_index=True)"
   ]
  },
  {
   "cell_type": "code",
   "execution_count": 104,
   "metadata": {},
   "outputs": [],
   "source": [
    "distances = msm.distance(item_1=molecular_system_A, groups_of_atoms_1=list_groups_A, group_behavior_1=\"geometric_center\",\n",
    "                         item_2=molecular_system_B, groups_of_atoms_2=list_groups_B, group_behavior_2=\"geometric_center\")"
   ]
  },
  {
   "cell_type": "code",
   "execution_count": 105,
   "metadata": {},
   "outputs": [
    {
     "data": {
      "text/plain": [
       "(1, 4, 4)"
      ]
     },
     "execution_count": 105,
     "metadata": {},
     "output_type": "execute_result"
    }
   ],
   "source": [
    "distances.shape"
   ]
  },
  {
   "cell_type": "code",
   "execution_count": 106,
   "metadata": {},
   "outputs": [
    {
     "name": "stdout",
     "output_type": "stream",
     "text": [
      "The distance between geometric_center of group 0-th of A and group 10-th of B is: 4.5790732402700085 nm\n"
     ]
    }
   ],
   "source": [
    "print(\"The distance between geometric_center of group 0-th of A and group 10-th of B is: {}\".format(distances[0,0,0]))"
   ]
  },
  {
   "cell_type": "markdown",
   "metadata": {},
   "source": [
    "### Distances between atom groups positions in different frames"
   ]
  },
  {
   "cell_type": "markdown",
   "metadata": {},
   "source": [
    "The method `molsysmt.distance()` works with atom groups just like with only atoms. There are two input arguments to select the coordinates of a set of atoms at two different frames:"
   ]
  },
  {
   "cell_type": "code",
   "execution_count": 118,
   "metadata": {},
   "outputs": [],
   "source": [
    "molecular_system = msm.convert('pentalanine.h5', to_form='molsysmt.MolSys')"
   ]
  },
  {
   "cell_type": "code",
   "execution_count": 119,
   "metadata": {},
   "outputs": [
    {
     "data": {
      "text/html": [
       "<style  type=\"text/css\" >\n",
       "</style><table id=\"T_4c64f61a_95a3_11ea_8b2d_770f905d099e\" ><thead>    <tr>        <th class=\"col_heading level0 col0\" >form</th>        <th class=\"col_heading level0 col1\" >n atoms</th>        <th class=\"col_heading level0 col2\" >n groups</th>        <th class=\"col_heading level0 col3\" >n components</th>        <th class=\"col_heading level0 col4\" >n chains</th>        <th class=\"col_heading level0 col5\" >n molecules</th>        <th class=\"col_heading level0 col6\" >n entities</th>        <th class=\"col_heading level0 col7\" >n frames</th>    </tr></thead><tbody>\n",
       "                <tr>\n",
       "                                <td id=\"T_4c64f61a_95a3_11ea_8b2d_770f905d099erow0_col0\" class=\"data row0 col0\" >molsysmt.MolSys</td>\n",
       "                        <td id=\"T_4c64f61a_95a3_11ea_8b2d_770f905d099erow0_col1\" class=\"data row0 col1\" >62</td>\n",
       "                        <td id=\"T_4c64f61a_95a3_11ea_8b2d_770f905d099erow0_col2\" class=\"data row0 col2\" >7</td>\n",
       "                        <td id=\"T_4c64f61a_95a3_11ea_8b2d_770f905d099erow0_col3\" class=\"data row0 col3\" >1</td>\n",
       "                        <td id=\"T_4c64f61a_95a3_11ea_8b2d_770f905d099erow0_col4\" class=\"data row0 col4\" >1</td>\n",
       "                        <td id=\"T_4c64f61a_95a3_11ea_8b2d_770f905d099erow0_col5\" class=\"data row0 col5\" >1</td>\n",
       "                        <td id=\"T_4c64f61a_95a3_11ea_8b2d_770f905d099erow0_col6\" class=\"data row0 col6\" >1</td>\n",
       "                        <td id=\"T_4c64f61a_95a3_11ea_8b2d_770f905d099erow0_col7\" class=\"data row0 col7\" >5000</td>\n",
       "            </tr>\n",
       "    </tbody></table>"
      ],
      "text/plain": [
       "<pandas.io.formats.style.Styler at 0x7f85156ed110>"
      ]
     },
     "execution_count": 119,
     "metadata": {},
     "output_type": "execute_result"
    }
   ],
   "source": [
    "msm.info(molecular_system)"
   ]
  },
  {
   "cell_type": "markdown",
   "metadata": {},
   "source": [
    "Let see how `frame_indices_1` and `frame_indices_2` works in this context:"
   ]
  },
  {
   "cell_type": "code",
   "execution_count": 120,
   "metadata": {},
   "outputs": [],
   "source": [
    "distances = msm.distance(item_1=molecular_system,\n",
    "                         selection_1=\"group.index==0\", group_behavior_1=\"geometric_center\", frame_indices_1=100,\n",
    "                         selection_2=\"group.index==6\", group_behavior_2=\"geometric_center\", frame_indices_2=200)"
   ]
  },
  {
   "cell_type": "code",
   "execution_count": 122,
   "metadata": {},
   "outputs": [
    {
     "data": {
      "text/plain": [
       "(1, 1, 1)"
      ]
     },
     "execution_count": 122,
     "metadata": {},
     "output_type": "execute_result"
    }
   ],
   "source": [
    "distances.shape"
   ]
  },
  {
   "cell_type": "markdown",
   "metadata": {},
   "source": [
    "The physical meaning of this former example is clear but not really useful, unless `selection_1` is the same as `selection_2` as we can see in the following section."
   ]
  },
  {
   "cell_type": "markdown",
   "metadata": {},
   "source": [
    "### Displacement distances of atom groups"
   ]
  },
  {
   "cell_type": "markdown",
   "metadata": {},
   "source": [
    "The possibility to get the distance between the coordinates of an object at two different frames makes the obtention of atom groups displacements straightforward. Lets plot the distance walked by the 0-th group of the former pentalanine peptide between consecutive frames of the trajectory store in `pentalanine.h5`:"
   ]
  },
  {
   "cell_type": "code",
   "execution_count": 123,
   "metadata": {},
   "outputs": [],
   "source": [
    "molecular_system = msm.convert('pentalanine.h5', to_form='molsysmt.MolSys')"
   ]
  },
  {
   "cell_type": "code",
   "execution_count": 125,
   "metadata": {},
   "outputs": [],
   "source": [
    "n_frames = msm.get(molecular_system, n_frames=True)"
   ]
  },
  {
   "cell_type": "code",
   "execution_count": 127,
   "metadata": {},
   "outputs": [],
   "source": [
    "all_frame_indices = np.arange(n_frames)"
   ]
  },
  {
   "cell_type": "code",
   "execution_count": 128,
   "metadata": {},
   "outputs": [],
   "source": [
    "displacements = msm.distance(item_1=molecular_system, selection_1=\"group.index==0\", group_behavior_1=\"geometric_center\",\n",
    "                             frame_indices_1=all_frame_indices[:-1], frame_indices_2=all_frame_indices[1:])"
   ]
  },
  {
   "cell_type": "code",
   "execution_count": 130,
   "metadata": {},
   "outputs": [],
   "source": [
    "time = msm.get(molecular_system, target='system', frame_indices=all_frame_indices[:-1], time=True)"
   ]
  },
  {
   "cell_type": "code",
   "execution_count": 132,
   "metadata": {},
   "outputs": [
    {
     "data": {
      "text/plain": [
       "[<matplotlib.lines.Line2D at 0x7f85156d0610>]"
      ]
     },
     "execution_count": 132,
     "metadata": {},
     "output_type": "execute_result"
    },
    {
     "data": {
      "image/png": "[encoded data removed]",
      "text/plain": [
       "<Figure size 432x288 with 1 Axes>"
      ]
     },
     "metadata": {
      "needs_background": "light"
     },
     "output_type": "display_data"
    }
   ],
   "source": [
    "plt.plot(time.in_units_of(unit.nanoseconds), displacements[:,0,0])\n",
    "plt.show()"
   ]
  },
  {
   "cell_type": "markdown",
   "metadata": {},
   "source": [
    "Or we can, for instance, get the distance of the center of mass of the whole molecule from the initial configuration to every time step along the trajectory:"
   ]
  },
  {
   "cell_type": "code",
   "execution_count": 138,
   "metadata": {},
   "outputs": [],
   "source": [
    "displacements = msm.distance(item_1=molecular_system, selection_1=\"all\",\n",
    "                             frame_indices_1=np.zeros(n_frames), frame_indices_2=all_frame_indices)"
   ]
  },
  {
   "cell_type": "code",
   "execution_count": 139,
   "metadata": {},
   "outputs": [],
   "source": [
    "time = msm.get(molecular_system, target='system', time=True)"
   ]
  },
  {
   "cell_type": "code",
   "execution_count": 140,
   "metadata": {},
   "outputs": [
    {
     "data": {
      "image/png": "[encoded data removed]",
      "text/plain": [
       "<Figure size 432x288 with 1 Axes>"
      ]
     },
     "metadata": {
      "needs_background": "light"
     },
     "output_type": "display_data"
    }
   ],
   "source": [
    "plt.plot(time.in_units_of(unit.nanoseconds), displacements[:,0,0])\n",
    "plt.show()"
   ]
  },
  {
   "cell_type": "markdown",
   "metadata": {},
   "source": [
    "### Distance between atom groups pairs"
   ]
  },
  {
   "cell_type": "markdown",
   "metadata": {},
   "source": [
    "Lets see the following example where all distances betweeen the geometric center of the residues of pentalanine is computed along a short trajectory:"
   ]
  },
  {
   "cell_type": "code",
   "execution_count": 141,
   "metadata": {},
   "outputs": [],
   "source": [
    "molecular_system = msm.convert('pentalanine.h5', to_form='molsysmt.MolSys')"
   ]
  },
  {
   "cell_type": "code",
   "execution_count": 142,
   "metadata": {},
   "outputs": [],
   "source": [
    "list_atom_groups = msm.get(molecular_system, target='group', selection='all', atom_index=True)"
   ]
  },
  {
   "cell_type": "code",
   "execution_count": 143,
   "metadata": {},
   "outputs": [
    {
     "data": {
      "text/plain": [
       "array([array([0, 1, 2, 3, 4, 5]),\n",
       "       array([ 6,  7,  8,  9, 10, 11, 12, 13, 14, 15]),\n",
       "       array([16, 17, 18, 19, 20, 21, 22, 23, 24, 25]),\n",
       "       array([26, 27, 28, 29, 30, 31, 32, 33, 34, 35]),\n",
       "       array([36, 37, 38, 39, 40, 41, 42, 43, 44, 45]),\n",
       "       array([46, 47, 48, 49, 50, 51, 52, 53, 54, 55]),\n",
       "       array([56, 57, 58, 59, 60, 61])], dtype=object)"
      ]
     },
     "execution_count": 143,
     "metadata": {},
     "output_type": "execute_result"
    }
   ],
   "source": [
    "list_atom_groups"
   ]
  },
  {
   "cell_type": "code",
   "execution_count": 144,
   "metadata": {},
   "outputs": [],
   "source": [
    "distances = msm.distance(molecular_system, groups_of_atoms_1=list_atom_groups, group_behavior_1='geometric_center')"
   ]
  },
  {
   "cell_type": "code",
   "execution_count": 145,
   "metadata": {},
   "outputs": [
    {
     "data": {
      "text/plain": [
       "(5000, 7, 7)"
      ]
     },
     "execution_count": 145,
     "metadata": {},
     "output_type": "execute_result"
    }
   ],
   "source": [
    "distances.shape"
   ]
  },
  {
   "cell_type": "markdown",
   "metadata": {},
   "source": [
    "The method worked needlessly computing the distances between different groups twice, as well as getting the distance between a geometric center to the its self for every residue. This can be avoided thanks to the input argument `pairs=True`. Using `pairs=True`, as it can be seen in the corresponding section about distances of atoms pairs, the distances between atom groups pairs made by consecutive elements of two zipped lists are obtained. Lets see this with a pratical case:"
   ]
  },
  {
   "cell_type": "code",
   "execution_count": 155,
   "metadata": {},
   "outputs": [
    {
     "name": "stdout",
     "output_type": "stream",
     "text": [
      "0.vs.1\n",
      "0.vs.2\n",
      "0.vs.3\n",
      "0.vs.4\n",
      "0.vs.5\n",
      "0.vs.6\n",
      "1.vs.2\n",
      "1.vs.3\n",
      "1.vs.4\n",
      "1.vs.5\n",
      "1.vs.6\n",
      "2.vs.3\n",
      "2.vs.4\n",
      "2.vs.5\n",
      "2.vs.6\n",
      "3.vs.4\n",
      "3.vs.5\n",
      "3.vs.6\n",
      "4.vs.5\n",
      "4.vs.6\n",
      "5.vs.6\n"
     ]
    }
   ],
   "source": [
    "from itertools import combinations \n",
    "\n",
    "list_atom_groups_1=[]\n",
    "list_atom_groups_2=[]\n",
    "aux_list_1=[]\n",
    "aux_list_2=[]\n",
    "\n",
    "for ii,jj in combinations(range(7), 2):\n",
    "    print('{}.vs.{}'.format(ii,jj))\n",
    "    aux_list_1.append(ii)\n",
    "    aux_list_2.append(jj)\n",
    "    list_atom_groups_1.append(list_atom_groups[ii])\n",
    "    list_atom_groups_2.append(list_atom_groups[jj])"
   ]
  },
  {
   "cell_type": "code",
   "execution_count": 157,
   "metadata": {},
   "outputs": [],
   "source": [
    "distances = msm.distance(molecular_system, groups_of_atoms_1=list_atom_groups_1, group_behavior_1='geometric_center',\n",
    "                        groups_of_atoms_2=list_atom_groups_2, group_behavior_2='geometric_center', pairs=True)"
   ]
  },
  {
   "cell_type": "code",
   "execution_count": 158,
   "metadata": {},
   "outputs": [
    {
     "data": {
      "text/plain": [
       "(5000, 21)"
      ]
     },
     "execution_count": 158,
     "metadata": {},
     "output_type": "execute_result"
    }
   ],
   "source": [
    "distances.shape"
   ]
  },
  {
   "cell_type": "markdown",
   "metadata": {},
   "source": [
    "Lets plot the distance of a given pair, 12-th p.e., defined by the groups:"
   ]
  },
  {
   "cell_type": "code",
   "execution_count": 161,
   "metadata": {},
   "outputs": [
    {
     "name": "stdout",
     "output_type": "stream",
     "text": [
      "The 12-th pair is made by groups 2-th and 4-th, and its distance along the trajectory is:\n"
     ]
    }
   ],
   "source": [
    "print('The 12-th pair is made by groups {}-th and {}-th, and its distance along the trajectory is:'.format(aux_list_1[12], aux_list_2[12]))"
   ]
  },
  {
   "cell_type": "code",
   "execution_count": 165,
   "metadata": {},
   "outputs": [
    {
     "data": {
      "image/png": "[encoded data removed]",
      "text/plain": [
       "<Figure size 432x288 with 1 Axes>"
      ]
     },
     "metadata": {
      "needs_background": "light"
     },
     "output_type": "display_data"
    }
   ],
   "source": [
    "time = msm.get(molecular_system, target='system', time=True)\n",
    "plt.plot(time.in_units_of(unit.nanoseconds), distances[:,12])\n",
    "plt.show()"
   ]
  },
  {
   "cell_type": "markdown",
   "metadata": {},
   "source": [
    "### Minimum and Maximum distance of atom groups"
   ]
  },
  {
   "cell_type": "markdown",
   "metadata": {},
   "source": [
    "Sometimes the pair of atom groups with the shortest distance between their geometric centers, or centers of mass, needs to be determined. Lets work to illustrate this case with a dimeric protein complex:"
   ]
  },
  {
   "cell_type": "code",
   "execution_count": 169,
   "metadata": {},
   "outputs": [],
   "source": [
    "molecular_system = msm.convert('mmtf:1TCD', 'molsysmt.MolSys')"
   ]
  },
  {
   "cell_type": "code",
   "execution_count": 171,
   "metadata": {},
   "outputs": [
    {
     "data": {
      "text/html": [
       "<style  type=\"text/css\" >\n",
       "</style><table id=\"T_ab43c19a_95b0_11ea_8b2d_770f905d099e\" ><thead>    <tr>        <th class=\"col_heading level0 col0\" >index</th>        <th class=\"col_heading level0 col1\" >n atoms</th>        <th class=\"col_heading level0 col2\" >n groups</th>        <th class=\"col_heading level0 col3\" >chain index</th>        <th class=\"col_heading level0 col4\" >molecule index</th>        <th class=\"col_heading level0 col5\" >molecule type</th>        <th class=\"col_heading level0 col6\" >entity index</th>        <th class=\"col_heading level0 col7\" >entity name</th>    </tr></thead><tbody>\n",
       "                <tr>\n",
       "                                <td id=\"T_ab43c19a_95b0_11ea_8b2d_770f905d099erow0_col0\" class=\"data row0 col0\" >0</td>\n",
       "                        <td id=\"T_ab43c19a_95b0_11ea_8b2d_770f905d099erow0_col1\" class=\"data row0 col1\" >1906</td>\n",
       "                        <td id=\"T_ab43c19a_95b0_11ea_8b2d_770f905d099erow0_col2\" class=\"data row0 col2\" >248</td>\n",
       "                        <td id=\"T_ab43c19a_95b0_11ea_8b2d_770f905d099erow0_col3\" class=\"data row0 col3\" >0</td>\n",
       "                        <td id=\"T_ab43c19a_95b0_11ea_8b2d_770f905d099erow0_col4\" class=\"data row0 col4\" >0</td>\n",
       "                        <td id=\"T_ab43c19a_95b0_11ea_8b2d_770f905d099erow0_col5\" class=\"data row0 col5\" >protein</td>\n",
       "                        <td id=\"T_ab43c19a_95b0_11ea_8b2d_770f905d099erow0_col6\" class=\"data row0 col6\" >0</td>\n",
       "                        <td id=\"T_ab43c19a_95b0_11ea_8b2d_770f905d099erow0_col7\" class=\"data row0 col7\" >TRIOSEPHOSPHATE ISOMERASE</td>\n",
       "            </tr>\n",
       "            <tr>\n",
       "                                <td id=\"T_ab43c19a_95b0_11ea_8b2d_770f905d099erow1_col0\" class=\"data row1 col0\" >1</td>\n",
       "                        <td id=\"T_ab43c19a_95b0_11ea_8b2d_770f905d099erow1_col1\" class=\"data row1 col1\" >1912</td>\n",
       "                        <td id=\"T_ab43c19a_95b0_11ea_8b2d_770f905d099erow1_col2\" class=\"data row1 col2\" >249</td>\n",
       "                        <td id=\"T_ab43c19a_95b0_11ea_8b2d_770f905d099erow1_col3\" class=\"data row1 col3\" >1</td>\n",
       "                        <td id=\"T_ab43c19a_95b0_11ea_8b2d_770f905d099erow1_col4\" class=\"data row1 col4\" >0</td>\n",
       "                        <td id=\"T_ab43c19a_95b0_11ea_8b2d_770f905d099erow1_col5\" class=\"data row1 col5\" >protein</td>\n",
       "                        <td id=\"T_ab43c19a_95b0_11ea_8b2d_770f905d099erow1_col6\" class=\"data row1 col6\" >0</td>\n",
       "                        <td id=\"T_ab43c19a_95b0_11ea_8b2d_770f905d099erow1_col7\" class=\"data row1 col7\" >TRIOSEPHOSPHATE ISOMERASE</td>\n",
       "            </tr>\n",
       "    </tbody></table>"
      ],
      "text/plain": [
       "<pandas.io.formats.style.Styler at 0x7f850eea9a50>"
      ]
     },
     "execution_count": 171,
     "metadata": {},
     "output_type": "execute_result"
    }
   ],
   "source": [
    "msm.info(molecular_system, target='component', selection='molecule.type==\"protein\"')"
   ]
  },
  {
   "cell_type": "markdown",
   "metadata": {},
   "source": [
    "Lets find out the closest pairs of distance from different components:"
   ]
  },
  {
   "cell_type": "code",
   "execution_count": 172,
   "metadata": {},
   "outputs": [],
   "source": [
    "atoms_groups_component_0 = msm.get(molecular_system, target='group', selection='component.index==0', atom_index=True)\n",
    "atoms_groups_component_1 = msm.get(molecular_system, target='group', selection='component.index==1', atom_index=True)"
   ]
  },
  {
   "cell_type": "code",
   "execution_count": 173,
   "metadata": {},
   "outputs": [],
   "source": [
    "min_pairs, min_distances = msm.minimum_distance(molecular_system,\n",
    "                                                groups_of_atoms_1=atoms_groups_component_0, group_behavior_1='geometric_center',\n",
    "                                                groups_of_atoms_2=atoms_groups_component_1, group_behavior_2='geometric_center')"
   ]
  },
  {
   "cell_type": "markdown",
   "metadata": {},
   "source": [
    "There is a single frame in our molecular system, thats why the shape of the numpy array with the pair of groups is the following:"
   ]
  },
  {
   "cell_type": "code",
   "execution_count": 175,
   "metadata": {},
   "outputs": [
    {
     "data": {
      "text/plain": [
       "(1, 2)"
      ]
     },
     "execution_count": 175,
     "metadata": {},
     "output_type": "execute_result"
    }
   ],
   "source": [
    "min_pairs.shape"
   ]
  },
  {
   "cell_type": "markdown",
   "metadata": {},
   "source": [
    "Where the indices found in min_pairs correspond to the n-th and m-th atoms group of the first list and the second list respectively:"
   ]
  },
  {
   "cell_type": "code",
   "execution_count": 176,
   "metadata": {},
   "outputs": [
    {
     "data": {
      "text/plain": [
       "array([69, 12])"
      ]
     },
     "execution_count": 176,
     "metadata": {},
     "output_type": "execute_result"
    }
   ],
   "source": [
    "min_pairs[0]"
   ]
  },
  {
   "cell_type": "code",
   "execution_count": 178,
   "metadata": {},
   "outputs": [],
   "source": [
    "group_index_in_component_0 = msm.get(molecular_system, target='group', selection='component.index==0', index=True)[69]\n",
    "group_index_in_component_1 = msm.get(molecular_system, target='group', selection='component.index==1', index=True)[12]"
   ]
  },
  {
   "cell_type": "code",
   "execution_count": 179,
   "metadata": {},
   "outputs": [
    {
     "data": {
      "text/html": [
       "<style  type=\"text/css\" >\n",
       "</style><table id=\"T_6b047208_95b2_11ea_8b2d_770f905d099e\" ><thead>    <tr>        <th class=\"col_heading level0 col0\" >index</th>        <th class=\"col_heading level0 col1\" >id</th>        <th class=\"col_heading level0 col2\" >name</th>        <th class=\"col_heading level0 col3\" >type</th>        <th class=\"col_heading level0 col4\" >n atoms</th>        <th class=\"col_heading level0 col5\" >component index</th>        <th class=\"col_heading level0 col6\" >chain index</th>        <th class=\"col_heading level0 col7\" >molecule index</th>        <th class=\"col_heading level0 col8\" >molecule type</th>        <th class=\"col_heading level0 col9\" >entity index</th>        <th class=\"col_heading level0 col10\" >entity name</th>    </tr></thead><tbody>\n",
       "                <tr>\n",
       "                                <td id=\"T_6b047208_95b2_11ea_8b2d_770f905d099erow0_col0\" class=\"data row0 col0\" >69</td>\n",
       "                        <td id=\"T_6b047208_95b2_11ea_8b2d_770f905d099erow0_col1\" class=\"data row0 col1\" >73</td>\n",
       "                        <td id=\"T_6b047208_95b2_11ea_8b2d_770f905d099erow0_col2\" class=\"data row0 col2\" >GLY</td>\n",
       "                        <td id=\"T_6b047208_95b2_11ea_8b2d_770f905d099erow0_col3\" class=\"data row0 col3\" >aminoacid</td>\n",
       "                        <td id=\"T_6b047208_95b2_11ea_8b2d_770f905d099erow0_col4\" class=\"data row0 col4\" >4</td>\n",
       "                        <td id=\"T_6b047208_95b2_11ea_8b2d_770f905d099erow0_col5\" class=\"data row0 col5\" >0</td>\n",
       "                        <td id=\"T_6b047208_95b2_11ea_8b2d_770f905d099erow0_col6\" class=\"data row0 col6\" >0</td>\n",
       "                        <td id=\"T_6b047208_95b2_11ea_8b2d_770f905d099erow0_col7\" class=\"data row0 col7\" >0</td>\n",
       "                        <td id=\"T_6b047208_95b2_11ea_8b2d_770f905d099erow0_col8\" class=\"data row0 col8\" >protein</td>\n",
       "                        <td id=\"T_6b047208_95b2_11ea_8b2d_770f905d099erow0_col9\" class=\"data row0 col9\" >0</td>\n",
       "                        <td id=\"T_6b047208_95b2_11ea_8b2d_770f905d099erow0_col10\" class=\"data row0 col10\" >TRIOSEPHOSPHATE ISOMERASE</td>\n",
       "            </tr>\n",
       "            <tr>\n",
       "                                <td id=\"T_6b047208_95b2_11ea_8b2d_770f905d099erow1_col0\" class=\"data row1 col0\" >260</td>\n",
       "                        <td id=\"T_6b047208_95b2_11ea_8b2d_770f905d099erow1_col1\" class=\"data row1 col1\" >15</td>\n",
       "                        <td id=\"T_6b047208_95b2_11ea_8b2d_770f905d099erow1_col2\" class=\"data row1 col2\" >CYS</td>\n",
       "                        <td id=\"T_6b047208_95b2_11ea_8b2d_770f905d099erow1_col3\" class=\"data row1 col3\" >aminoacid</td>\n",
       "                        <td id=\"T_6b047208_95b2_11ea_8b2d_770f905d099erow1_col4\" class=\"data row1 col4\" >6</td>\n",
       "                        <td id=\"T_6b047208_95b2_11ea_8b2d_770f905d099erow1_col5\" class=\"data row1 col5\" >1</td>\n",
       "                        <td id=\"T_6b047208_95b2_11ea_8b2d_770f905d099erow1_col6\" class=\"data row1 col6\" >1</td>\n",
       "                        <td id=\"T_6b047208_95b2_11ea_8b2d_770f905d099erow1_col7\" class=\"data row1 col7\" >0</td>\n",
       "                        <td id=\"T_6b047208_95b2_11ea_8b2d_770f905d099erow1_col8\" class=\"data row1 col8\" >protein</td>\n",
       "                        <td id=\"T_6b047208_95b2_11ea_8b2d_770f905d099erow1_col9\" class=\"data row1 col9\" >0</td>\n",
       "                        <td id=\"T_6b047208_95b2_11ea_8b2d_770f905d099erow1_col10\" class=\"data row1 col10\" >TRIOSEPHOSPHATE ISOMERASE</td>\n",
       "            </tr>\n",
       "    </tbody></table>"
      ],
      "text/plain": [
       "<pandas.io.formats.style.Styler at 0x7f850d7a6e50>"
      ]
     },
     "execution_count": 179,
     "metadata": {},
     "output_type": "execute_result"
    }
   ],
   "source": [
    "msm.info(molecular_system, target='group', indices=[group_index_in_component_0, group_index_in_component_1])"
   ]
  },
  {
   "cell_type": "markdown",
   "metadata": {},
   "source": [
    "And the corresponding minimum distance between both residues from the two components is:"
   ]
  },
  {
   "cell_type": "code",
   "execution_count": 181,
   "metadata": {},
   "outputs": [
    {
     "data": {
      "text/plain": [
       "Quantity(value=0.38221311908773786, unit=nanometer)"
      ]
     },
     "execution_count": 181,
     "metadata": {},
     "output_type": "execute_result"
    }
   ],
   "source": [
    "min_distances[0]"
   ]
  },
  {
   "cell_type": "markdown",
   "metadata": {},
   "source": [
    "On the other hand, if the maximum distance needs to be obtained, the method to be used is `molsysmt.maximum_distance()`. Lets show how this method works with a short trajectory of the pentalanine peptide."
   ]
  },
  {
   "cell_type": "code",
   "execution_count": 182,
   "metadata": {},
   "outputs": [],
   "source": [
    "molecular_system = msm.convert('pentalanine.h5', to_form='molsysmt.MolSys')"
   ]
  },
  {
   "cell_type": "code",
   "execution_count": 183,
   "metadata": {},
   "outputs": [
    {
     "data": {
      "text/html": [
       "<style  type=\"text/css\" >\n",
       "</style><table id=\"T_2b4b7c14_95b3_11ea_8b2d_770f905d099e\" ><thead>    <tr>        <th class=\"col_heading level0 col0\" >form</th>        <th class=\"col_heading level0 col1\" >n atoms</th>        <th class=\"col_heading level0 col2\" >n groups</th>        <th class=\"col_heading level0 col3\" >n components</th>        <th class=\"col_heading level0 col4\" >n chains</th>        <th class=\"col_heading level0 col5\" >n molecules</th>        <th class=\"col_heading level0 col6\" >n entities</th>        <th class=\"col_heading level0 col7\" >n frames</th>    </tr></thead><tbody>\n",
       "                <tr>\n",
       "                                <td id=\"T_2b4b7c14_95b3_11ea_8b2d_770f905d099erow0_col0\" class=\"data row0 col0\" >molsysmt.MolSys</td>\n",
       "                        <td id=\"T_2b4b7c14_95b3_11ea_8b2d_770f905d099erow0_col1\" class=\"data row0 col1\" >62</td>\n",
       "                        <td id=\"T_2b4b7c14_95b3_11ea_8b2d_770f905d099erow0_col2\" class=\"data row0 col2\" >7</td>\n",
       "                        <td id=\"T_2b4b7c14_95b3_11ea_8b2d_770f905d099erow0_col3\" class=\"data row0 col3\" >1</td>\n",
       "                        <td id=\"T_2b4b7c14_95b3_11ea_8b2d_770f905d099erow0_col4\" class=\"data row0 col4\" >1</td>\n",
       "                        <td id=\"T_2b4b7c14_95b3_11ea_8b2d_770f905d099erow0_col5\" class=\"data row0 col5\" >1</td>\n",
       "                        <td id=\"T_2b4b7c14_95b3_11ea_8b2d_770f905d099erow0_col6\" class=\"data row0 col6\" >1</td>\n",
       "                        <td id=\"T_2b4b7c14_95b3_11ea_8b2d_770f905d099erow0_col7\" class=\"data row0 col7\" >5000</td>\n",
       "            </tr>\n",
       "    </tbody></table>"
      ],
      "text/plain": [
       "<pandas.io.formats.style.Styler at 0x7f850c04acd0>"
      ]
     },
     "execution_count": 183,
     "metadata": {},
     "output_type": "execute_result"
    }
   ],
   "source": [
    "msm.info(molecular_system)"
   ]
  },
  {
   "cell_type": "markdown",
   "metadata": {},
   "source": [
    "The trajectory has 5000 frames. Lets see, for each frame, whats the pair of residues with the longest distance between their geometric centers:"
   ]
  },
  {
   "cell_type": "code",
   "execution_count": 184,
   "metadata": {},
   "outputs": [],
   "source": [
    "list_atom_groups = msm.get(molecular_system, target='group', selection='all', atom_index=True)\n",
    "max_pairs, max_distances = msm.maximum_distance(molecular_system, groups_of_atoms_1=list_atom_groups,\n",
    "                                                group_behavior_1='geometric_center')"
   ]
  },
  {
   "cell_type": "markdown",
   "metadata": {},
   "source": [
    "This time we have 5000 pairs of group, one for each frame; and 5000 maximum distances:"
   ]
  },
  {
   "cell_type": "code",
   "execution_count": 190,
   "metadata": {},
   "outputs": [
    {
     "data": {
      "text/plain": [
       "(5000, 2)"
      ]
     },
     "execution_count": 190,
     "metadata": {},
     "output_type": "execute_result"
    }
   ],
   "source": [
    "max_pairs.shape"
   ]
  },
  {
   "cell_type": "code",
   "execution_count": 191,
   "metadata": {},
   "outputs": [
    {
     "data": {
      "text/plain": [
       "array([[0, 6],\n",
       "       [0, 6],\n",
       "       [0, 6],\n",
       "       ...,\n",
       "       [0, 6],\n",
       "       [2, 6],\n",
       "       [2, 6]])"
      ]
     },
     "execution_count": 191,
     "metadata": {},
     "output_type": "execute_result"
    }
   ],
   "source": [
    "max_pairs"
   ]
  },
  {
   "cell_type": "code",
   "execution_count": 192,
   "metadata": {},
   "outputs": [
    {
     "data": {
      "text/plain": [
       "Quantity(value=array([1.42980221, 1.50600047, 1.6863101 , ..., 1.83006115, 1.24581543,\n",
       "       1.39260625]), unit=nanometer)"
      ]
     },
     "execution_count": 192,
     "metadata": {},
     "output_type": "execute_result"
    }
   ],
   "source": [
    "max_distances"
   ]
  },
  {
   "cell_type": "markdown",
   "metadata": {},
   "source": [
    "To give a last example on this methods, lets wonder: what is the residue of the peptide with the largest displacement between each frame and the next one? (at each frame, of course)"
   ]
  },
  {
   "cell_type": "code",
   "execution_count": 199,
   "metadata": {},
   "outputs": [],
   "source": [
    "list_atom_groups = msm.get(molecular_system, target='group', selection='all', atom_index=True)\n",
    "frames=np.arange(msm.get(molecular_system, n_frames=True))\n",
    "max_group, max_distances = msm.maximum_distance(molecular_system,\n",
    "                                                groups_of_atoms_1=list_atom_groups, group_behavior_1='geometric_center',\n",
    "                                                groups_of_atoms_2=list_atom_groups, group_behavior_2='geometric_center',\n",
    "                                                frame_indices_1=frames[:-1], frame_indices_2=frames[1:],\n",
    "                                                pairs=True)"
   ]
  },
  {
   "cell_type": "markdown",
   "metadata": {},
   "source": [
    "Since we are using the option `pairs=True`, the output this time corresponds to the index of the pair made by the elements in both `groups_of_atoms_1` and `groups_of_atoms_2` with the maximum distance, or displacement in this case, for each i-th frame with the consecutive (i+1)-th frame:"
   ]
  },
  {
   "cell_type": "code",
   "execution_count": 200,
   "metadata": {},
   "outputs": [
    {
     "data": {
      "text/plain": [
       "(4999,)"
      ]
     },
     "execution_count": 200,
     "metadata": {},
     "output_type": "execute_result"
    }
   ],
   "source": [
    "max_group.shape"
   ]
  },
  {
   "cell_type": "code",
   "execution_count": 201,
   "metadata": {},
   "outputs": [
    {
     "data": {
      "text/plain": [
       "array([2, 0, 6, ..., 6, 6, 6])"
      ]
     },
     "execution_count": 201,
     "metadata": {},
     "output_type": "execute_result"
    }
   ],
   "source": [
    "max_group"
   ]
  },
  {
   "cell_type": "markdown",
   "metadata": {},
   "source": [
    "And the value of this maximum displacements are:"
   ]
  },
  {
   "cell_type": "code",
   "execution_count": 205,
   "metadata": {},
   "outputs": [
    {
     "data": {
      "text/plain": [
       "Quantity(value=array([0.72087604, 1.2344545 , 0.83900167, ..., 1.31317032, 0.88887944,\n",
       "       1.26066073]), unit=nanometer)"
      ]
     },
     "execution_count": 205,
     "metadata": {},
     "output_type": "execute_result"
    }
   ],
   "source": [
    "max_distances"
   ]
  },
  {
   "cell_type": "markdown",
   "metadata": {},
   "source": [
    "This way:"
   ]
  },
  {
   "cell_type": "code",
   "execution_count": 209,
   "metadata": {},
   "outputs": [
    {
     "name": "stdout",
     "output_type": "stream",
     "text": [
      "The 3-th is the group with the maximum displacement between frames 200-th and 201-th: 0.6367210108091421 nm\n"
     ]
    }
   ],
   "source": [
    "print('The {}-th is the group with the maximum displacement between frames 200-th and 201-th: {}'.format(max_group[200], max_distances[200]))"
   ]
  },
  {
   "cell_type": "markdown",
   "metadata": {},
   "source": [
    "## Neighbor lists\n",
    "\n",
    "### Neighbor atoms lists\n",
    "\n",
    "Los atomos vecinos pueden serlo de otros átomos, de una coordenada espacial,  o de por ejemplo un centro de uno o varios grupos de átomos.\n",
    "\n",
    "### Neighbor atom groups lists"
   ]
  },
  {
   "cell_type": "markdown",
   "metadata": {},
   "source": [
    "## Contact maps\n",
    "\n",
    "### Contact maps from atoms\n",
    "\n",
    "### Contact maps from atom groups"
   ]
  },
  {
   "cell_type": "code",
   "execution_count": null,
   "metadata": {},
   "outputs": [],
   "source": []
  }
 ],
 "metadata": {
  "kernelspec": {
   "display_name": "Python 3",
   "language": "python",
   "name": "python3"
  },
  "language_info": {
   "codemirror_mode": {
    "name": "ipython",
    "version": 3
   },
   "file_extension": ".py",
   "mimetype": "text/x-python",
   "name": "python",
   "nbconvert_exporter": "python",
   "pygments_lexer": "ipython3",
   "version": "3.7.7"
  }
 },
 "nbformat": 4,
 "nbformat_minor": 4
}
