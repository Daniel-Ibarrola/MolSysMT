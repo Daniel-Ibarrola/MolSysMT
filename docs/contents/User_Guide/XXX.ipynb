{
 "cells": [
  {
   "cell_type": "code",
   "execution_count": 1,
   "metadata": {},
   "outputs": [],
   "source": [
    "%load_ext autoreload\n",
    "%autoreload 2"
   ]
  },
  {
   "cell_type": "code",
   "execution_count": 2,
   "metadata": {},
   "outputs": [
    {
     "data": {
      "application/vnd.jupyter.widget-view+json": {
       "model_id": "00a66c2a7dd54ff49186c7d9638b5ebe",
       "version_major": 2,
       "version_minor": 0
      },
      "text/plain": [
       "_ColormakerRegistry()"
      ]
     },
     "metadata": {},
     "output_type": "display_data"
    }
   ],
   "source": [
    "import molsysmt as msm"
   ]
  },
  {
   "cell_type": "code",
   "execution_count": 23,
   "metadata": {},
   "outputs": [],
   "source": [
    "from matplotlib import pyplot as plt"
   ]
  },
  {
   "cell_type": "code",
   "execution_count": null,
   "metadata": {},
   "outputs": [],
   "source": [
    "#molecular_system_a = msm.convert('mmtf:2GDL', 'molsysmt.MolSys')\n",
    "#molecular_system_b = msm.convert('pdb:2GDL', 'molsysmt.MolSys')\n",
    "#mmtf = msm.convert('pdb:2GDL', 'mmtf.MMTFDecoder')"
   ]
  },
  {
   "cell_type": "code",
   "execution_count": null,
   "metadata": {},
   "outputs": [],
   "source": [
    "#molecular_system = msm.convert('peptide.prmtop', to_form='molsysmt.Topology')"
   ]
  },
  {
   "cell_type": "code",
   "execution_count": null,
   "metadata": {},
   "outputs": [],
   "source": [
    "#molecular_system = msm.convert('peptide.crd', to_form='molsysmt.Trajectory')"
   ]
  },
  {
   "cell_type": "code",
   "execution_count": null,
   "metadata": {},
   "outputs": [],
   "source": [
    "#molecular_system = msm.convert(['peptide.prmtop','peptide.crd'], to_form='molsysmt.MolSys')"
   ]
  },
  {
   "cell_type": "code",
   "execution_count": 11,
   "metadata": {},
   "outputs": [],
   "source": [
    "molecular_system = msm.convert('pentalanine.h5', to_form='molsysmt.MolSys')"
   ]
  },
  {
   "cell_type": "code",
   "execution_count": 14,
   "metadata": {},
   "outputs": [
    {
     "data": {
      "text/html": [
       "<style  type=\"text/css\" >\n",
       "</style><table id=\"T_6aa87950_9290_11ea_8c64_49c13a8d2522\" ><thead>    <tr>        <th class=\"col_heading level0 col0\" >form</th>        <th class=\"col_heading level0 col1\" >n atoms</th>        <th class=\"col_heading level0 col2\" >n groups</th>        <th class=\"col_heading level0 col3\" >n components</th>        <th class=\"col_heading level0 col4\" >n chains</th>        <th class=\"col_heading level0 col5\" >n molecules</th>        <th class=\"col_heading level0 col6\" >n entities</th>        <th class=\"col_heading level0 col7\" >n frames</th>    </tr></thead><tbody>\n",
       "                <tr>\n",
       "                                <td id=\"T_6aa87950_9290_11ea_8c64_49c13a8d2522row0_col0\" class=\"data row0 col0\" >molsysmt.MolSys</td>\n",
       "                        <td id=\"T_6aa87950_9290_11ea_8c64_49c13a8d2522row0_col1\" class=\"data row0 col1\" >62</td>\n",
       "                        <td id=\"T_6aa87950_9290_11ea_8c64_49c13a8d2522row0_col2\" class=\"data row0 col2\" >7</td>\n",
       "                        <td id=\"T_6aa87950_9290_11ea_8c64_49c13a8d2522row0_col3\" class=\"data row0 col3\" >1</td>\n",
       "                        <td id=\"T_6aa87950_9290_11ea_8c64_49c13a8d2522row0_col4\" class=\"data row0 col4\" >1</td>\n",
       "                        <td id=\"T_6aa87950_9290_11ea_8c64_49c13a8d2522row0_col5\" class=\"data row0 col5\" >1</td>\n",
       "                        <td id=\"T_6aa87950_9290_11ea_8c64_49c13a8d2522row0_col6\" class=\"data row0 col6\" >1</td>\n",
       "                        <td id=\"T_6aa87950_9290_11ea_8c64_49c13a8d2522row0_col7\" class=\"data row0 col7\" >500</td>\n",
       "            </tr>\n",
       "    </tbody></table>"
      ],
      "text/plain": [
       "<pandas.io.formats.style.Styler at 0x7f0e53e34f90>"
      ]
     },
     "execution_count": 14,
     "metadata": {},
     "output_type": "execute_result"
    }
   ],
   "source": [
    "msm.info(molecular_system)"
   ]
  },
  {
   "cell_type": "code",
   "execution_count": 17,
   "metadata": {},
   "outputs": [
    {
     "data": {
      "text/html": [
       "<style  type=\"text/css\" >\n",
       "</style><table id=\"T_93b7e5c4_9290_11ea_8c64_49c13a8d2522\" ><thead>    <tr>        <th class=\"col_heading level0 col0\" >index</th>        <th class=\"col_heading level0 col1\" >id</th>        <th class=\"col_heading level0 col2\" >name</th>        <th class=\"col_heading level0 col3\" >type</th>        <th class=\"col_heading level0 col4\" >n atoms</th>        <th class=\"col_heading level0 col5\" >component index</th>        <th class=\"col_heading level0 col6\" >chain index</th>        <th class=\"col_heading level0 col7\" >molecule index</th>        <th class=\"col_heading level0 col8\" >molecule type</th>        <th class=\"col_heading level0 col9\" >entity index</th>        <th class=\"col_heading level0 col10\" >entity name</th>    </tr></thead><tbody>\n",
       "                <tr>\n",
       "                                <td id=\"T_93b7e5c4_9290_11ea_8c64_49c13a8d2522row0_col0\" class=\"data row0 col0\" >0</td>\n",
       "                        <td id=\"T_93b7e5c4_9290_11ea_8c64_49c13a8d2522row0_col1\" class=\"data row0 col1\" >1</td>\n",
       "                        <td id=\"T_93b7e5c4_9290_11ea_8c64_49c13a8d2522row0_col2\" class=\"data row0 col2\" >ACE</td>\n",
       "                        <td id=\"T_93b7e5c4_9290_11ea_8c64_49c13a8d2522row0_col3\" class=\"data row0 col3\" >aminoacid</td>\n",
       "                        <td id=\"T_93b7e5c4_9290_11ea_8c64_49c13a8d2522row0_col4\" class=\"data row0 col4\" >6</td>\n",
       "                        <td id=\"T_93b7e5c4_9290_11ea_8c64_49c13a8d2522row0_col5\" class=\"data row0 col5\" >0</td>\n",
       "                        <td id=\"T_93b7e5c4_9290_11ea_8c64_49c13a8d2522row0_col6\" class=\"data row0 col6\" >0</td>\n",
       "                        <td id=\"T_93b7e5c4_9290_11ea_8c64_49c13a8d2522row0_col7\" class=\"data row0 col7\" >0</td>\n",
       "                        <td id=\"T_93b7e5c4_9290_11ea_8c64_49c13a8d2522row0_col8\" class=\"data row0 col8\" >None</td>\n",
       "                        <td id=\"T_93b7e5c4_9290_11ea_8c64_49c13a8d2522row0_col9\" class=\"data row0 col9\" >0</td>\n",
       "                        <td id=\"T_93b7e5c4_9290_11ea_8c64_49c13a8d2522row0_col10\" class=\"data row0 col10\" >None</td>\n",
       "            </tr>\n",
       "            <tr>\n",
       "                                <td id=\"T_93b7e5c4_9290_11ea_8c64_49c13a8d2522row1_col0\" class=\"data row1 col0\" >1</td>\n",
       "                        <td id=\"T_93b7e5c4_9290_11ea_8c64_49c13a8d2522row1_col1\" class=\"data row1 col1\" >2</td>\n",
       "                        <td id=\"T_93b7e5c4_9290_11ea_8c64_49c13a8d2522row1_col2\" class=\"data row1 col2\" >ALA</td>\n",
       "                        <td id=\"T_93b7e5c4_9290_11ea_8c64_49c13a8d2522row1_col3\" class=\"data row1 col3\" >aminoacid</td>\n",
       "                        <td id=\"T_93b7e5c4_9290_11ea_8c64_49c13a8d2522row1_col4\" class=\"data row1 col4\" >10</td>\n",
       "                        <td id=\"T_93b7e5c4_9290_11ea_8c64_49c13a8d2522row1_col5\" class=\"data row1 col5\" >0</td>\n",
       "                        <td id=\"T_93b7e5c4_9290_11ea_8c64_49c13a8d2522row1_col6\" class=\"data row1 col6\" >0</td>\n",
       "                        <td id=\"T_93b7e5c4_9290_11ea_8c64_49c13a8d2522row1_col7\" class=\"data row1 col7\" >0</td>\n",
       "                        <td id=\"T_93b7e5c4_9290_11ea_8c64_49c13a8d2522row1_col8\" class=\"data row1 col8\" >None</td>\n",
       "                        <td id=\"T_93b7e5c4_9290_11ea_8c64_49c13a8d2522row1_col9\" class=\"data row1 col9\" >0</td>\n",
       "                        <td id=\"T_93b7e5c4_9290_11ea_8c64_49c13a8d2522row1_col10\" class=\"data row1 col10\" >None</td>\n",
       "            </tr>\n",
       "            <tr>\n",
       "                                <td id=\"T_93b7e5c4_9290_11ea_8c64_49c13a8d2522row2_col0\" class=\"data row2 col0\" >2</td>\n",
       "                        <td id=\"T_93b7e5c4_9290_11ea_8c64_49c13a8d2522row2_col1\" class=\"data row2 col1\" >3</td>\n",
       "                        <td id=\"T_93b7e5c4_9290_11ea_8c64_49c13a8d2522row2_col2\" class=\"data row2 col2\" >ALA</td>\n",
       "                        <td id=\"T_93b7e5c4_9290_11ea_8c64_49c13a8d2522row2_col3\" class=\"data row2 col3\" >aminoacid</td>\n",
       "                        <td id=\"T_93b7e5c4_9290_11ea_8c64_49c13a8d2522row2_col4\" class=\"data row2 col4\" >10</td>\n",
       "                        <td id=\"T_93b7e5c4_9290_11ea_8c64_49c13a8d2522row2_col5\" class=\"data row2 col5\" >0</td>\n",
       "                        <td id=\"T_93b7e5c4_9290_11ea_8c64_49c13a8d2522row2_col6\" class=\"data row2 col6\" >0</td>\n",
       "                        <td id=\"T_93b7e5c4_9290_11ea_8c64_49c13a8d2522row2_col7\" class=\"data row2 col7\" >0</td>\n",
       "                        <td id=\"T_93b7e5c4_9290_11ea_8c64_49c13a8d2522row2_col8\" class=\"data row2 col8\" >None</td>\n",
       "                        <td id=\"T_93b7e5c4_9290_11ea_8c64_49c13a8d2522row2_col9\" class=\"data row2 col9\" >0</td>\n",
       "                        <td id=\"T_93b7e5c4_9290_11ea_8c64_49c13a8d2522row2_col10\" class=\"data row2 col10\" >None</td>\n",
       "            </tr>\n",
       "            <tr>\n",
       "                                <td id=\"T_93b7e5c4_9290_11ea_8c64_49c13a8d2522row3_col0\" class=\"data row3 col0\" >3</td>\n",
       "                        <td id=\"T_93b7e5c4_9290_11ea_8c64_49c13a8d2522row3_col1\" class=\"data row3 col1\" >4</td>\n",
       "                        <td id=\"T_93b7e5c4_9290_11ea_8c64_49c13a8d2522row3_col2\" class=\"data row3 col2\" >ALA</td>\n",
       "                        <td id=\"T_93b7e5c4_9290_11ea_8c64_49c13a8d2522row3_col3\" class=\"data row3 col3\" >aminoacid</td>\n",
       "                        <td id=\"T_93b7e5c4_9290_11ea_8c64_49c13a8d2522row3_col4\" class=\"data row3 col4\" >10</td>\n",
       "                        <td id=\"T_93b7e5c4_9290_11ea_8c64_49c13a8d2522row3_col5\" class=\"data row3 col5\" >0</td>\n",
       "                        <td id=\"T_93b7e5c4_9290_11ea_8c64_49c13a8d2522row3_col6\" class=\"data row3 col6\" >0</td>\n",
       "                        <td id=\"T_93b7e5c4_9290_11ea_8c64_49c13a8d2522row3_col7\" class=\"data row3 col7\" >0</td>\n",
       "                        <td id=\"T_93b7e5c4_9290_11ea_8c64_49c13a8d2522row3_col8\" class=\"data row3 col8\" >None</td>\n",
       "                        <td id=\"T_93b7e5c4_9290_11ea_8c64_49c13a8d2522row3_col9\" class=\"data row3 col9\" >0</td>\n",
       "                        <td id=\"T_93b7e5c4_9290_11ea_8c64_49c13a8d2522row3_col10\" class=\"data row3 col10\" >None</td>\n",
       "            </tr>\n",
       "            <tr>\n",
       "                                <td id=\"T_93b7e5c4_9290_11ea_8c64_49c13a8d2522row4_col0\" class=\"data row4 col0\" >4</td>\n",
       "                        <td id=\"T_93b7e5c4_9290_11ea_8c64_49c13a8d2522row4_col1\" class=\"data row4 col1\" >5</td>\n",
       "                        <td id=\"T_93b7e5c4_9290_11ea_8c64_49c13a8d2522row4_col2\" class=\"data row4 col2\" >ALA</td>\n",
       "                        <td id=\"T_93b7e5c4_9290_11ea_8c64_49c13a8d2522row4_col3\" class=\"data row4 col3\" >aminoacid</td>\n",
       "                        <td id=\"T_93b7e5c4_9290_11ea_8c64_49c13a8d2522row4_col4\" class=\"data row4 col4\" >10</td>\n",
       "                        <td id=\"T_93b7e5c4_9290_11ea_8c64_49c13a8d2522row4_col5\" class=\"data row4 col5\" >0</td>\n",
       "                        <td id=\"T_93b7e5c4_9290_11ea_8c64_49c13a8d2522row4_col6\" class=\"data row4 col6\" >0</td>\n",
       "                        <td id=\"T_93b7e5c4_9290_11ea_8c64_49c13a8d2522row4_col7\" class=\"data row4 col7\" >0</td>\n",
       "                        <td id=\"T_93b7e5c4_9290_11ea_8c64_49c13a8d2522row4_col8\" class=\"data row4 col8\" >None</td>\n",
       "                        <td id=\"T_93b7e5c4_9290_11ea_8c64_49c13a8d2522row4_col9\" class=\"data row4 col9\" >0</td>\n",
       "                        <td id=\"T_93b7e5c4_9290_11ea_8c64_49c13a8d2522row4_col10\" class=\"data row4 col10\" >None</td>\n",
       "            </tr>\n",
       "            <tr>\n",
       "                                <td id=\"T_93b7e5c4_9290_11ea_8c64_49c13a8d2522row5_col0\" class=\"data row5 col0\" >5</td>\n",
       "                        <td id=\"T_93b7e5c4_9290_11ea_8c64_49c13a8d2522row5_col1\" class=\"data row5 col1\" >6</td>\n",
       "                        <td id=\"T_93b7e5c4_9290_11ea_8c64_49c13a8d2522row5_col2\" class=\"data row5 col2\" >ALA</td>\n",
       "                        <td id=\"T_93b7e5c4_9290_11ea_8c64_49c13a8d2522row5_col3\" class=\"data row5 col3\" >aminoacid</td>\n",
       "                        <td id=\"T_93b7e5c4_9290_11ea_8c64_49c13a8d2522row5_col4\" class=\"data row5 col4\" >10</td>\n",
       "                        <td id=\"T_93b7e5c4_9290_11ea_8c64_49c13a8d2522row5_col5\" class=\"data row5 col5\" >0</td>\n",
       "                        <td id=\"T_93b7e5c4_9290_11ea_8c64_49c13a8d2522row5_col6\" class=\"data row5 col6\" >0</td>\n",
       "                        <td id=\"T_93b7e5c4_9290_11ea_8c64_49c13a8d2522row5_col7\" class=\"data row5 col7\" >0</td>\n",
       "                        <td id=\"T_93b7e5c4_9290_11ea_8c64_49c13a8d2522row5_col8\" class=\"data row5 col8\" >None</td>\n",
       "                        <td id=\"T_93b7e5c4_9290_11ea_8c64_49c13a8d2522row5_col9\" class=\"data row5 col9\" >0</td>\n",
       "                        <td id=\"T_93b7e5c4_9290_11ea_8c64_49c13a8d2522row5_col10\" class=\"data row5 col10\" >None</td>\n",
       "            </tr>\n",
       "            <tr>\n",
       "                                <td id=\"T_93b7e5c4_9290_11ea_8c64_49c13a8d2522row6_col0\" class=\"data row6 col0\" >6</td>\n",
       "                        <td id=\"T_93b7e5c4_9290_11ea_8c64_49c13a8d2522row6_col1\" class=\"data row6 col1\" >7</td>\n",
       "                        <td id=\"T_93b7e5c4_9290_11ea_8c64_49c13a8d2522row6_col2\" class=\"data row6 col2\" >NME</td>\n",
       "                        <td id=\"T_93b7e5c4_9290_11ea_8c64_49c13a8d2522row6_col3\" class=\"data row6 col3\" >aminoacid</td>\n",
       "                        <td id=\"T_93b7e5c4_9290_11ea_8c64_49c13a8d2522row6_col4\" class=\"data row6 col4\" >6</td>\n",
       "                        <td id=\"T_93b7e5c4_9290_11ea_8c64_49c13a8d2522row6_col5\" class=\"data row6 col5\" >0</td>\n",
       "                        <td id=\"T_93b7e5c4_9290_11ea_8c64_49c13a8d2522row6_col6\" class=\"data row6 col6\" >0</td>\n",
       "                        <td id=\"T_93b7e5c4_9290_11ea_8c64_49c13a8d2522row6_col7\" class=\"data row6 col7\" >0</td>\n",
       "                        <td id=\"T_93b7e5c4_9290_11ea_8c64_49c13a8d2522row6_col8\" class=\"data row6 col8\" >None</td>\n",
       "                        <td id=\"T_93b7e5c4_9290_11ea_8c64_49c13a8d2522row6_col9\" class=\"data row6 col9\" >0</td>\n",
       "                        <td id=\"T_93b7e5c4_9290_11ea_8c64_49c13a8d2522row6_col10\" class=\"data row6 col10\" >None</td>\n",
       "            </tr>\n",
       "    </tbody></table>"
      ],
      "text/plain": [
       "<pandas.io.formats.style.Styler at 0x7f0e53e4aa10>"
      ]
     },
     "execution_count": 17,
     "metadata": {},
     "output_type": "execute_result"
    }
   ],
   "source": [
    "msm.info(molecular_system, target='group')"
   ]
  },
  {
   "cell_type": "code",
   "execution_count": 19,
   "metadata": {},
   "outputs": [],
   "source": [
    "distances = msm.distance(item_1=molecular_system, selection_1=\"group.index==0\", group_behavior_1=\"geometric_center\",\n",
    "                         selection_2=\"group.index==6\", group_behavior_2=\"geometric_center\")"
   ]
  },
  {
   "cell_type": "code",
   "execution_count": 21,
   "metadata": {},
   "outputs": [
    {
     "data": {
      "text/plain": [
       "(500, 1, 1)"
      ]
     },
     "execution_count": 21,
     "metadata": {},
     "output_type": "execute_result"
    }
   ],
   "source": [
    "distances.shape"
   ]
  },
  {
   "cell_type": "code",
   "execution_count": 24,
   "metadata": {},
   "outputs": [
    {
     "data": {
      "text/plain": [
       "[<matplotlib.lines.Line2D at 0x7f0e5401a790>]"
      ]
     },
     "execution_count": 24,
     "metadata": {},
     "output_type": "execute_result"
    },
    {
     "data": {
      "image/png": "[encoded data removed]",
      "text/plain": [
       "<Figure size 432x288 with 1 Axes>"
      ]
     },
     "metadata": {
      "needs_background": "light"
     },
     "output_type": "display_data"
    }
   ],
   "source": [
    "plt.plot(distances[:,0,0])"
   ]
  },
  {
   "cell_type": "code",
   "execution_count": null,
   "metadata": {},
   "outputs": [],
   "source": []
  }
 ],
 "metadata": {
  "kernelspec": {
   "display_name": "Python 3",
   "language": "python",
   "name": "python3"
  },
  "language_info": {
   "codemirror_mode": {
    "name": "ipython",
    "version": 3
   },
   "file_extension": ".py",
   "mimetype": "text/x-python",
   "name": "python",
   "nbconvert_exporter": "python",
   "pygments_lexer": "ipython3",
   "version": "3.7.7"
  }
 },
 "nbformat": 4,
 "nbformat_minor": 4
}
