{
 "cells": [
  {
   "cell_type": "code",
   "execution_count": 1,
   "metadata": {},
   "outputs": [],
   "source": [
    "%load_ext autoreload\n",
    "%autoreload 2"
   ]
  },
  {
   "cell_type": "code",
   "execution_count": 2,
   "metadata": {},
   "outputs": [
    {
     "name": "stderr",
     "output_type": "stream",
     "text": [
      "/home/diego/Myusr/opt/miniconda3/envs/UIBCDF_lab_dev/lib/python3.7/site-packages/yank-0.24.2-py3.7-linux-x86_64.egg/yank/experiment.py:1170: YAMLLoadWarning: calling yaml.load() without Loader=... is deprecated, as the default Loader is unsafe. Please read https://msg.pyyaml.org/load for full details.\n",
      "  \"\"\")\n"
     ]
    },
    {
     "data": {
      "application/vnd.jupyter.widget-view+json": {
       "model_id": "78b5914424954c5da5529e28a7aa43e4",
       "version_major": 2,
       "version_minor": 0
      },
      "text/plain": [
       "_ColormakerRegistry()"
      ]
     },
     "metadata": {},
     "output_type": "display_data"
    }
   ],
   "source": [
    "import molsysmt as msm"
   ]
  },
  {
   "cell_type": "code",
   "execution_count": 3,
   "metadata": {},
   "outputs": [],
   "source": [
    "#molecular_system_a = msm.convert('mmtf:2GDL', 'molsysmt.MolSys')\n",
    "#molecular_system_b = msm.convert('pdb:2GDL', 'molsysmt.MolSys')\n",
    "#mmtf = msm.convert('pdb:2GDL', 'mmtf.MMTFDecoder')"
   ]
  },
  {
   "cell_type": "code",
   "execution_count": 4,
   "metadata": {},
   "outputs": [],
   "source": [
    "molecular_system = msm.convert('peptide.crd', to_form='openmm.AmberInpcrdFile')"
   ]
  },
  {
   "cell_type": "code",
   "execution_count": 6,
   "metadata": {},
   "outputs": [
    {
     "data": {
      "text/plain": [
       "Quantity(value=[Vec3(x=2.000001, y=1.0, z=-1.3e-06), Vec3(x=2.000001, y=2.09, z=1e-07), Vec3(x=1.486264, y=2.453849, z=0.889824), Vec3(x=1.486259, y=2.453852, z=-0.88982), Vec3(x=3.42742, y=2.640795, z=-3e-06), Vec3(x=4.39058, y=1.877406, z=-6.6e-06), Vec3(x=3.5553754, y=3.9696488, z=-3.1e-06), Vec3(x=2.73312, y=4.5561601, z=-1.3e-06), Vec3(x=4.8532621, y=4.6139253, z=-4.3e-06), Vec3(x=5.407596, y=4.3155388, z=0.8898152), Vec3(x=5.6613044, y=4.2208425, z=-1.232148), Vec3(x=5.1232615, y=4.521363, z=-2.1312016), Vec3(x=6.630484, y=4.7189354, z=-1.2057907), Vec3(x=5.8085401, y=3.1408724, z=-1.241385), Vec3(x=4.7126759, y=6.1294185, z=1.4e-06), Vec3(x=3.6006445, y=6.6527027, z=6.2e-06), Vec3(x=5.8460533, y=6.8348833, z=2.5e-06), Vec3(x=6.7370014, y=6.359162, z=-4e-07), Vec3(x=5.8460551, y=8.2838837, z=6.2e-06), Vec3(x=4.8185761, y=8.6477349, z=1.04e-05), Vec3(x=6.3597984, y=8.6477313, z=0.8898283), Vec3(x=6.35979, y=8.6477354, z=-0.8898187)], unit=angstrom)"
      ]
     },
     "execution_count": 6,
     "metadata": {},
     "output_type": "execute_result"
    }
   ],
   "source": [
    "molecular_system.getPositions()"
   ]
  },
  {
   "cell_type": "code",
   "execution_count": null,
   "metadata": {},
   "outputs": [],
   "source": [
    "msm.get(molecular_system, target=\"system\", n_atoms=True, n_frames=True)"
   ]
  },
  {
   "cell_type": "code",
   "execution_count": null,
   "metadata": {},
   "outputs": [],
   "source": [
    "#msm.info(molecular_system, target='atom')"
   ]
  },
  {
   "cell_type": "code",
   "execution_count": null,
   "metadata": {},
   "outputs": [],
   "source": [
    "import mdtraj"
   ]
  },
  {
   "cell_type": "code",
   "execution_count": null,
   "metadata": {},
   "outputs": [],
   "source": [
    "aa=mdtraj.formats.MDCRDTrajectoryFile('peptide.crd',n_atoms=22)"
   ]
  },
  {
   "cell_type": "code",
   "execution_count": null,
   "metadata": {},
   "outputs": [],
   "source": [
    "aa.read()"
   ]
  },
  {
   "cell_type": "code",
   "execution_count": null,
   "metadata": {},
   "outputs": [],
   "source": [
    "aa=mdtraj.formats.AmberRestartFile('peptide.crd')"
   ]
  },
  {
   "cell_type": "code",
   "execution_count": null,
   "metadata": {},
   "outputs": [],
   "source": [
    "aa=mdtraj.formats.amberrst.AmberRestartFile('peptide.crd')"
   ]
  },
  {
   "cell_type": "code",
   "execution_count": null,
   "metadata": {},
   "outputs": [],
   "source": [
    "bb=aa.read()"
   ]
  },
  {
   "cell_type": "code",
   "execution_count": null,
   "metadata": {},
   "outputs": [],
   "source": [
    "bb[0].shape"
   ]
  },
  {
   "cell_type": "code",
   "execution_count": null,
   "metadata": {},
   "outputs": [],
   "source": [
    "aa.read()"
   ]
  },
  {
   "cell_type": "code",
   "execution_count": null,
   "metadata": {},
   "outputs": [],
   "source": []
  }
 ],
 "metadata": {
  "kernelspec": {
   "display_name": "Python 3",
   "language": "python",
   "name": "python3"
  },
  "language_info": {
   "codemirror_mode": {
    "name": "ipython",
    "version": 3
   },
   "file_extension": ".py",
   "mimetype": "text/x-python",
   "name": "python",
   "nbconvert_exporter": "python",
   "pygments_lexer": "ipython3",
   "version": "3.7.7"
  }
 },
 "nbformat": 4,
 "nbformat_minor": 4
}
