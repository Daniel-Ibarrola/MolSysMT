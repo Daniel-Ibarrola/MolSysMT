{
 "cells": [
  {
   "cell_type": "code",
   "execution_count": 1,
   "metadata": {},
   "outputs": [],
   "source": [
    "%load_ext autoreload\n",
    "%autoreload 2"
   ]
  },
  {
   "cell_type": "code",
   "execution_count": 2,
   "metadata": {},
   "outputs": [
    {
     "data": {
      "application/vnd.jupyter.widget-view+json": {
       "model_id": "0eeea9e26eb947479921e5206c02c3ac",
       "version_major": 2,
       "version_minor": 0
      },
      "text/plain": [
       "_ColormakerRegistry()"
      ]
     },
     "metadata": {},
     "output_type": "display_data"
    }
   ],
   "source": [
    "import molsysmt as msm\n",
    "from matplotlib import pyplot as plt\n",
    "import simtk.unit as unit\n",
    "import seaborn as sns"
   ]
  },
  {
   "cell_type": "code",
   "execution_count": null,
   "metadata": {},
   "outputs": [],
   "source": [
    "#molecular_system_a = msm.convert('mmtf:2GDL', 'molsysmt.MolSys')\n",
    "#molecular_system_b = msm.convert('pdb:2GDL', 'molsysmt.MolSys')\n",
    "#mmtf = msm.convert('pdb:2GDL', 'mmtf.MMTFDecoder')"
   ]
  },
  {
   "cell_type": "code",
   "execution_count": null,
   "metadata": {},
   "outputs": [],
   "source": [
    "#molecular_system = msm.convert('peptide.prmtop', to_form='molsysmt.Topology')"
   ]
  },
  {
   "cell_type": "code",
   "execution_count": null,
   "metadata": {},
   "outputs": [],
   "source": [
    "#molecular_system = msm.convert('peptide.crd', to_form='molsysmt.Trajectory')"
   ]
  },
  {
   "cell_type": "code",
   "execution_count": null,
   "metadata": {},
   "outputs": [],
   "source": [
    "#molecular_system = msm.convert(['peptide.prmtop','peptide.crd'], to_form='molsysmt.MolSys')"
   ]
  },
  {
   "cell_type": "code",
   "execution_count": 3,
   "metadata": {},
   "outputs": [],
   "source": [
    "molecular_system, traj = msm.convert('pentalanine.h5', to_form=['molsysmt.DataFrame','molsysmt.Trajectory'])"
   ]
  },
  {
   "cell_type": "code",
   "execution_count": 4,
   "metadata": {},
   "outputs": [],
   "source": [
    "aa = msm.convert([molecular_system,traj], to_form='.pdb', frame_indices=0)"
   ]
  },
  {
   "cell_type": "code",
   "execution_count": 7,
   "metadata": {},
   "outputs": [
    {
     "ename": "KeyError",
     "evalue": "'pdb'",
     "output_type": "error",
     "traceback": [
      "\u001b[0;31m---------------------------------------------------------------------------\u001b[0m",
      "\u001b[0;31mKeyError\u001b[0m                                  Traceback (most recent call last)",
      "\u001b[0;32m<ipython-input-7-59fc463ee676>\u001b[0m in \u001b[0;36m<module>\u001b[0;34m\u001b[0m\n\u001b[0;32m----> 1\u001b[0;31m \u001b[0maa\u001b[0m \u001b[0;34m=\u001b[0m \u001b[0mmsm\u001b[0m\u001b[0;34m.\u001b[0m\u001b[0mconvert\u001b[0m\u001b[0;34m(\u001b[0m\u001b[0;34m'pentalanine.h5'\u001b[0m\u001b[0;34m,\u001b[0m \u001b[0mto_form\u001b[0m\u001b[0;34m=\u001b[0m\u001b[0;34m'.pdb'\u001b[0m\u001b[0;34m,\u001b[0m \u001b[0mframe_indices\u001b[0m\u001b[0;34m=\u001b[0m\u001b[0;36m0\u001b[0m\u001b[0;34m)\u001b[0m\u001b[0;34m\u001b[0m\u001b[0;34m\u001b[0m\u001b[0m\n\u001b[0m",
      "\u001b[0;32m~/Proyectos/MolSysMT/molsysmt/multitool.py\u001b[0m in \u001b[0;36mconvert\u001b[0;34m(item, to_form, selection, frame_indices, syntaxis, **kwargs)\u001b[0m\n\u001b[1;32m    983\u001b[0m \u001b[0;34m\u001b[0m\u001b[0m\n\u001b[1;32m    984\u001b[0m             \u001b[0;32mif\u001b[0m \u001b[0mout_file\u001b[0m \u001b[0;32mis\u001b[0m \u001b[0;32mnot\u001b[0m \u001b[0;32mNone\u001b[0m\u001b[0;34m:\u001b[0m\u001b[0;34m\u001b[0m\u001b[0;34m\u001b[0m\u001b[0m\n\u001b[0;32m--> 985\u001b[0;31m                 tmp_item = _dict_converter[form_in][form_out](item, output_filepath=out_file,\n\u001b[0m\u001b[1;32m    986\u001b[0m                                                           \u001b[0matom_indices\u001b[0m\u001b[0;34m=\u001b[0m\u001b[0matom_indices\u001b[0m\u001b[0;34m,\u001b[0m \u001b[0mframe_indices\u001b[0m\u001b[0;34m=\u001b[0m\u001b[0mframe_indices\u001b[0m\u001b[0;34m,\u001b[0m\u001b[0;34m\u001b[0m\u001b[0;34m\u001b[0m\u001b[0m\n\u001b[1;32m    987\u001b[0m                                                           **kwargs)\n",
      "\u001b[0;31mKeyError\u001b[0m: 'pdb'"
     ]
    }
   ],
   "source": [
    "aa = msm.convert('pentalanine.h5', to_form='.pdb', frame_indices=0)"
   ]
  },
  {
   "cell_type": "code",
   "execution_count": 6,
   "metadata": {},
   "outputs": [
    {
     "name": "stdout",
     "output_type": "stream",
     "text": [
      "REMARK   1 CREATED WITH OPENMM 7.4.1 BY MOLSYSMT, 2020-05-12\n",
      "HETATM    1  H1  ACE A   1       7.249   2.812  -0.651  1.00  0.00           H  \n",
      "HETATM    2  CH3 ACE A   1       8.184   3.354  -0.797  1.00  0.00           C  \n",
      "HETATM    3  H2  ACE A   1       8.246   3.843  -1.769  1.00  0.00           H  \n",
      "HETATM    4  H3  ACE A   1       8.879   2.516  -0.838  1.00  0.00           H  \n",
      "HETATM    5  C   ACE A   1       8.514   4.229   0.378  1.00  0.00           C  \n",
      "HETATM    6  O   ACE A   1       9.025   3.617   1.320  1.00  0.00           O  \n",
      "ATOM      7  N   ALA A   2       8.131   5.505   0.206  1.00  0.00           N  \n",
      "ATOM      8  H   ALA A   2       7.661   5.747  -0.654  1.00  0.00           H  \n",
      "ATOM      9  CA  ALA A   2       8.375   6.544   1.175  1.00  0.00           C  \n",
      "ATOM     10  HA  ALA A   2       8.686   6.060   2.100  1.00  0.00           H  \n",
      "ATOM     11  CB  ALA A   2       9.619   7.378   0.809  1.00  0.00           C  \n",
      "ATOM     12  HB1 ALA A   2       9.428   7.802  -0.177  1.00  0.00           H  \n",
      "ATOM     13  HB2 ALA A   2       9.801   8.233   1.461  1.00  0.00           H  \n",
      "ATOM     14  HB3 ALA A   2      10.485   6.719   0.764  1.00  0.00           H  \n",
      "ATOM     15  C   ALA A   2       7.175   7.353   1.440  1.00  0.00           C  \n",
      "ATOM     16  O   ALA A   2       6.119   7.117   0.826  1.00  0.00           O  \n",
      "ATOM     17  N   ALA A   3       7.135   8.129   2.492  1.00  0.00           N  \n",
      "ATOM     18  H   ALA A   3       8.027   8.283   2.941  1.00  0.00           H  \n",
      "ATOM     19  CA  ALA A   3       5.868   8.719   3.089  1.00  0.00           C  \n",
      "ATOM     20  HA  ALA A   3       5.013   8.046   3.150  1.00  0.00           H  \n",
      "ATOM     21  CB  ALA A   3       6.162   9.148   4.561  1.00  0.00           C  \n",
      "ATOM     22  HB1 ALA A   3       6.896   9.952   4.495  1.00  0.00           H  \n",
      "ATOM     23  HB2 ALA A   3       5.266   9.541   5.040  1.00  0.00           H  \n",
      "ATOM     24  HB3 ALA A   3       6.518   8.267   5.095  1.00  0.00           H  \n",
      "ATOM     25  C   ALA A   3       5.317   9.947   2.233  1.00  0.00           C  \n",
      "ATOM     26  O   ALA A   3       4.318   9.800   1.564  1.00  0.00           O  \n",
      "ATOM     27  N   ALA A   4       6.187  10.941   2.082  1.00  0.00           N  \n",
      "ATOM     28  H   ALA A   4       7.049  10.754   2.574  1.00  0.00           H  \n",
      "ATOM     29  CA  ALA A   4       6.055  12.242   1.499  1.00  0.00           C  \n",
      "ATOM     30  HA  ALA A   4       5.106  12.365   0.978  1.00  0.00           H  \n",
      "ATOM     31  CB  ALA A   4       6.022  13.257   2.645  1.00  0.00           C  \n",
      "ATOM     32  HB1 ALA A   4       6.918  13.169   3.259  1.00  0.00           H  \n",
      "ATOM     33  HB2 ALA A   4       5.848  14.259   2.252  1.00  0.00           H  \n",
      "ATOM     34  HB3 ALA A   4       5.089  13.129   3.194  1.00  0.00           H  \n",
      "ATOM     35  C   ALA A   4       7.161  12.473   0.426  1.00  0.00           C  \n",
      "ATOM     36  O   ALA A   4       8.281  12.043   0.603  1.00  0.00           O  \n",
      "ATOM     37  N   ALA A   5       6.858  13.029  -0.769  1.00  0.00           N  \n",
      "ATOM     38  H   ALA A   5       5.889  13.209  -0.988  1.00  0.00           H  \n",
      "ATOM     39  CA  ALA A   5       7.845  13.174  -1.773  1.00  0.00           C  \n",
      "ATOM     40  HA  ALA A   5       8.308  12.190  -1.705  1.00  0.00           H  \n",
      "ATOM     41  CB  ALA A   5       7.181  13.435  -3.147  1.00  0.00           C  \n",
      "ATOM     42  HB1 ALA A   5       6.635  14.377  -3.192  1.00  0.00           H  \n",
      "ATOM     43  HB2 ALA A   5       7.828  13.567  -4.014  1.00  0.00           H  \n",
      "ATOM     44  HB3 ALA A   5       6.390  12.728  -3.397  1.00  0.00           H  \n",
      "ATOM     45  C   ALA A   5       8.913  14.302  -1.448  1.00  0.00           C  \n",
      "ATOM     46  O   ALA A   5       8.480  15.471  -1.274  1.00  0.00           O  \n",
      "ATOM     47  N   ALA A   6      10.234  13.998  -1.471  1.00  0.00           N  \n",
      "ATOM     48  H   ALA A   6      10.384  13.037  -1.741  1.00  0.00           H  \n",
      "ATOM     49  CA  ALA A   6      11.193  15.097  -1.604  1.00  0.00           C  \n",
      "ATOM     50  HA  ALA A   6      10.872  15.927  -0.974  1.00  0.00           H  \n",
      "ATOM     51  CB  ALA A   6      12.492  14.621  -0.922  1.00  0.00           C  \n",
      "ATOM     52  HB1 ALA A   6      12.945  13.842  -1.534  1.00  0.00           H  \n",
      "ATOM     53  HB2 ALA A   6      13.199  15.425  -0.716  1.00  0.00           H  \n",
      "ATOM     54  HB3 ALA A   6      12.244  14.328   0.098  1.00  0.00           H  \n",
      "ATOM     55  C   ALA A   6      11.414  15.585  -3.064  1.00  0.00           C  \n",
      "ATOM     56  O   ALA A   6      12.325  15.162  -3.686  1.00  0.00           O  \n",
      "HETATM   57  N   NME A   7      10.479  16.532  -3.533  1.00  0.00           N  \n",
      "HETATM   58  H   NME A   7       9.780  16.751  -2.838  1.00  0.00           H  \n",
      "HETATM   59  C   NME A   7      10.463  17.018  -4.961  1.00  0.00           C  \n",
      "HETATM   60  H1  NME A   7      11.460  16.914  -5.389  1.00  0.00           H  \n",
      "HETATM   61  H2  NME A   7       9.799  16.360  -5.521  1.00  0.00           H  \n",
      "HETATM   62  H3  NME A   7      10.024  18.011  -5.061  1.00  0.00           H  \n",
      "TER      63      NME A   7\n",
      "CONECT    1    2\n",
      "CONECT    2    1    3    4    5\n",
      "CONECT    3    2\n",
      "CONECT    4    2\n",
      "CONECT    5    2    6    7\n",
      "CONECT    6    5\n",
      "CONECT    7    5\n",
      "CONECT   55   57\n",
      "CONECT   57   55   58   59\n",
      "CONECT   58   57\n",
      "CONECT   59   57   60   61   62\n",
      "CONECT   60   59\n",
      "CONECT   61   59\n",
      "CONECT   62   59\n",
      "END\n",
      "\n"
     ]
    }
   ],
   "source": [
    "print(aa)"
   ]
  },
  {
   "cell_type": "code",
   "execution_count": null,
   "metadata": {},
   "outputs": [],
   "source": []
  }
 ],
 "metadata": {
  "kernelspec": {
   "display_name": "Python 3",
   "language": "python",
   "name": "python3"
  },
  "language_info": {
   "codemirror_mode": {
    "name": "ipython",
    "version": 3
   },
   "file_extension": ".py",
   "mimetype": "text/x-python",
   "name": "python",
   "nbconvert_exporter": "python",
   "pygments_lexer": "ipython3",
   "version": "3.7.7"
  }
 },
 "nbformat": 4,
 "nbformat_minor": 4
}
