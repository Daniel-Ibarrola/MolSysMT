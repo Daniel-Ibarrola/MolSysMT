{
 "cells": [
  {
   "cell_type": "code",
   "execution_count": 1,
   "metadata": {},
   "outputs": [],
   "source": [
    "%load_ext autoreload\n",
    "%autoreload 2"
   ]
  },
  {
   "cell_type": "code",
   "execution_count": 2,
   "metadata": {},
   "outputs": [
    {
     "data": {
      "application/vnd.jupyter.widget-view+json": {
       "model_id": "29ce83066ce842f0b2f640ef8404c504",
       "version_major": 2,
       "version_minor": 0
      },
      "text/plain": [
       "_ColormakerRegistry()"
      ]
     },
     "metadata": {},
     "output_type": "display_data"
    }
   ],
   "source": [
    "import molsysmt as msm"
   ]
  },
  {
   "cell_type": "markdown",
   "metadata": {},
   "source": [
    "## Building alanine dipeptide in implicit solvent"
   ]
  },
  {
   "cell_type": "code",
   "execution_count": 3,
   "metadata": {},
   "outputs": [
    {
     "name": "stdout",
     "output_type": "stream",
     "text": [
      "Working directory: /tmp/tmpqd1518k3\n",
      "-I: Adding /home/diego/Myusr/opt/miniconda3/envs/UIBCDF_lab_dev/dat/leap/prep to search path.\n",
      "-I: Adding /home/diego/Myusr/opt/miniconda3/envs/UIBCDF_lab_dev/dat/leap/lib to search path.\n",
      "-I: Adding /home/diego/Myusr/opt/miniconda3/envs/UIBCDF_lab_dev/dat/leap/parm to search path.\n",
      "-I: Adding /home/diego/Myusr/opt/miniconda3/envs/UIBCDF_lab_dev/dat/leap/cmd to search path.\n",
      "-f: Source leap.in.\n",
      "\n",
      "Welcome to LEaP!\n",
      "(no leaprc in search path)\n",
      "Sourcing: ./leap.in\n",
      "----- Source: /home/diego/Myusr/opt/miniconda3/envs/UIBCDF_lab_dev/dat/leap/cmd/oldff/leaprc.ff96\n",
      "----- Source of /home/diego/Myusr/opt/miniconda3/envs/UIBCDF_lab_dev/dat/leap/cmd/oldff/leaprc.ff96 done\n",
      "Log file: ./leap.log\n",
      "Loading parameters: /home/diego/Myusr/opt/miniconda3/envs/UIBCDF_lab_dev/dat/leap/parm/parm96.dat\n",
      "Reading title:\n",
      "PARM96 for DNA, RNA and proteins with TIP3P Water. USE SCEE=1.2 in energy progs\n",
      "Loading library: /home/diego/Myusr/opt/miniconda3/envs/UIBCDF_lab_dev/dat/leap/lib/all_nucleic94.lib\n",
      "Loading library: /home/diego/Myusr/opt/miniconda3/envs/UIBCDF_lab_dev/dat/leap/lib/all_amino94.lib\n",
      "Loading library: /home/diego/Myusr/opt/miniconda3/envs/UIBCDF_lab_dev/dat/leap/lib/all_aminoct94.lib\n",
      "Loading library: /home/diego/Myusr/opt/miniconda3/envs/UIBCDF_lab_dev/dat/leap/lib/all_aminont94.lib\n",
      "Loading library: /home/diego/Myusr/opt/miniconda3/envs/UIBCDF_lab_dev/dat/leap/lib/ions94.lib\n",
      "Loading library: /home/diego/Myusr/opt/miniconda3/envs/UIBCDF_lab_dev/dat/leap/lib/solvents.lib\n",
      "Checking 'peptide'....\n",
      "Checking parameters for unit 'peptide'.\n",
      "Checking for bond parameters.\n",
      "Checking for angle parameters.\n",
      "Unit is OK.\n",
      "Total unperturbed charge:   0.000000\n",
      "Total perturbed charge:     0.000000\n",
      "Using H(N)-modified Bondi radii\n",
      "Checking Unit.\n",
      "Building topology.\n",
      "Building atom parameters.\n",
      "Building bond parameters.\n",
      "Building angle parameters.\n",
      "Building proper torsion parameters.\n",
      "Building improper torsion parameters.\n",
      " total 4 improper torsions applied\n",
      "Building H-Bond parameters.\n",
      "Incorporating Non-Bonded adjustments.\n",
      "Not Marking per-residue atom chain types.\n",
      "Marking per-residue atom chain types.\n",
      "  (Residues lacking connect0/connect1 - \n",
      "   these don't have chain types marked:\n",
      "\n",
      "\tres\ttotal affected\n",
      "\n",
      "\tACE\t1\n",
      "\tNME\t1\n",
      "  )\n",
      " (no restraints)\n",
      "\tQuit\n",
      "\n",
      "Exiting LEaP: Errors = 0; Warnings = 0; Notes = 0.\n",
      "\n"
     ]
    },
    {
     "data": {
      "text/plain": [
       "[None, None]"
      ]
     },
     "execution_count": 3,
     "metadata": {},
     "output_type": "execute_result"
    }
   ],
   "source": [
    "msm.build_peptide('aminoacids3:AceAlaNme', forcefield='AMBER96',\n",
    "                  implicit_solvent='GBSA OBC', to_form=['dipeptide.prmtop',\n",
    "                                                        'dipeptide.inpcrd'])"
   ]
  },
  {
   "cell_type": "markdown",
   "metadata": {},
   "source": [
    "## Building alanine dipeptide in explicit solvent"
   ]
  },
  {
   "cell_type": "code",
   "execution_count": 4,
   "metadata": {},
   "outputs": [
    {
     "name": "stdout",
     "output_type": "stream",
     "text": [
      "Working directory: /tmp/tmpa7i8go37\n",
      "-I: Adding /home/diego/Myusr/opt/miniconda3/envs/UIBCDF_lab_dev/dat/leap/prep to search path.\n",
      "-I: Adding /home/diego/Myusr/opt/miniconda3/envs/UIBCDF_lab_dev/dat/leap/lib to search path.\n",
      "-I: Adding /home/diego/Myusr/opt/miniconda3/envs/UIBCDF_lab_dev/dat/leap/parm to search path.\n",
      "-I: Adding /home/diego/Myusr/opt/miniconda3/envs/UIBCDF_lab_dev/dat/leap/cmd to search path.\n",
      "-f: Source leap.in.\n",
      "\n",
      "Welcome to LEaP!\n",
      "(no leaprc in search path)\n",
      "Sourcing: ./leap.in\n",
      "----- Source: /home/diego/Myusr/opt/miniconda3/envs/UIBCDF_lab_dev/dat/leap/cmd/oldff/leaprc.ff96\n",
      "----- Source of /home/diego/Myusr/opt/miniconda3/envs/UIBCDF_lab_dev/dat/leap/cmd/oldff/leaprc.ff96 done\n",
      "Log file: ./leap.log\n",
      "Loading parameters: /home/diego/Myusr/opt/miniconda3/envs/UIBCDF_lab_dev/dat/leap/parm/parm96.dat\n",
      "Reading title:\n",
      "PARM96 for DNA, RNA and proteins with TIP3P Water. USE SCEE=1.2 in energy progs\n",
      "Loading library: /home/diego/Myusr/opt/miniconda3/envs/UIBCDF_lab_dev/dat/leap/lib/all_nucleic94.lib\n",
      "Loading library: /home/diego/Myusr/opt/miniconda3/envs/UIBCDF_lab_dev/dat/leap/lib/all_amino94.lib\n",
      "Loading library: /home/diego/Myusr/opt/miniconda3/envs/UIBCDF_lab_dev/dat/leap/lib/all_aminoct94.lib\n",
      "Loading library: /home/diego/Myusr/opt/miniconda3/envs/UIBCDF_lab_dev/dat/leap/lib/all_aminont94.lib\n",
      "Loading library: /home/diego/Myusr/opt/miniconda3/envs/UIBCDF_lab_dev/dat/leap/lib/ions94.lib\n",
      "Loading library: /home/diego/Myusr/opt/miniconda3/envs/UIBCDF_lab_dev/dat/leap/lib/solvents.lib\n",
      "Checking 'peptide'....\n",
      "Checking parameters for unit 'peptide'.\n",
      "Checking for bond parameters.\n",
      "Checking for angle parameters.\n",
      "Unit is OK.\n",
      "Total unperturbed charge:   0.000000\n",
      "Total perturbed charge:     0.000000\n",
      "Scaling up box by a factor of 1.223419 to meet diagonal cut criterion\n",
      "  Solute vdw bounding box:              7.063 11.676 5.818\n",
      "  Total bounding box for atom centers:  36.144 36.144 36.144\n",
      "      (box expansion for 'iso' is  36.8%)\n",
      "  Solvent unit box:                     18.774 18.774 18.774\n",
      "  Volume: 25623.505 A^3 (oct)\n",
      "  Total mass 12629.264 amu,  Density 0.818 g/cc\n",
      "  Added 693 residues.\n",
      "Checking Unit.\n",
      "Building topology.\n",
      "Building atom parameters.\n",
      "Building bond parameters.\n",
      "Building angle parameters.\n",
      "Building proper torsion parameters.\n",
      "Building improper torsion parameters.\n",
      " total 4 improper torsions applied\n",
      "Building H-Bond parameters.\n",
      "Incorporating Non-Bonded adjustments.\n",
      "Not Marking per-residue atom chain types.\n",
      "Marking per-residue atom chain types.\n",
      "  (Residues lacking connect0/connect1 - \n",
      "   these don't have chain types marked:\n",
      "\n",
      "\tres\ttotal affected\n",
      "\n",
      "\tACE\t1\n",
      "\tNME\t1\n",
      "\tWAT\t693\n",
      "  )\n",
      " (no restraints)\n",
      "\tQuit\n",
      "\n",
      "Exiting LEaP: Errors = 0; Warnings = 0; Notes = 0.\n",
      "\n"
     ]
    },
    {
     "data": {
      "text/plain": [
       "[None, None]"
      ]
     },
     "execution_count": 4,
     "metadata": {},
     "output_type": "execute_result"
    }
   ],
   "source": [
    "msm.build_peptide('aminoacids3:AceAlaNme', forcefield='AMBER96',\n",
    "                  water_model='TIP3P', box_geometry='truncated_octahedral',\n",
    "                  to_form=['dipeptide.prmtop', 'dipeptide.inpcrd'])"
   ]
  },
  {
   "cell_type": "code",
   "execution_count": null,
   "metadata": {},
   "outputs": [],
   "source": []
  }
 ],
 "metadata": {
  "kernelspec": {
   "display_name": "Python 3",
   "language": "python",
   "name": "python3"
  },
  "language_info": {
   "codemirror_mode": {
    "name": "ipython",
    "version": 3
   },
   "file_extension": ".py",
   "mimetype": "text/x-python",
   "name": "python",
   "nbconvert_exporter": "python",
   "pygments_lexer": "ipython3",
   "version": "3.7.7"
  }
 },
 "nbformat": 4,
 "nbformat_minor": 4
}
