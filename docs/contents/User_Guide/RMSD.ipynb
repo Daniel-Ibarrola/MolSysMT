{
 "cells": [
  {
   "cell_type": "code",
   "execution_count": 1,
   "metadata": {},
   "outputs": [],
   "source": [
    "%load_ext autoreload\n",
    "%autoreload 2"
   ]
  },
  {
   "cell_type": "code",
   "execution_count": 2,
   "metadata": {},
   "outputs": [
    {
     "data": {
      "application/vnd.jupyter.widget-view+json": {
       "model_id": "a1fba4c0f8bb4888b5889b6d95cb3a41",
       "version_major": 2,
       "version_minor": 0
      },
      "text/plain": [
       "_ColormakerRegistry()"
      ]
     },
     "metadata": {},
     "output_type": "display_data"
    }
   ],
   "source": [
    "import molsysmt as msm\n",
    "import numpy as np\n",
    "from simtk import unit\n",
    "import matplotlib.pyplot as plt"
   ]
  },
  {
   "cell_type": "markdown",
   "metadata": {},
   "source": [
    "# RMSD, Least RMSD and Least RMSD fit"
   ]
  },
  {
   "cell_type": "code",
   "execution_count": 3,
   "metadata": {},
   "outputs": [],
   "source": [
    "molecular_system = msm.convert('pentalanine.h5')"
   ]
  },
  {
   "cell_type": "code",
   "execution_count": 4,
   "metadata": {},
   "outputs": [
    {
     "data": {
      "text/html": [
       "<style  type=\"text/css\" >\n",
       "</style><table id=\"T_9e3ea25a_9a5e_11ea_98e8_7f62ec9ca7d2\" ><thead>    <tr>        <th class=\"col_heading level0 col0\" >form</th>        <th class=\"col_heading level0 col1\" >n atoms</th>        <th class=\"col_heading level0 col2\" >n groups</th>        <th class=\"col_heading level0 col3\" >n components</th>        <th class=\"col_heading level0 col4\" >n chains</th>        <th class=\"col_heading level0 col5\" >n molecules</th>        <th class=\"col_heading level0 col6\" >n entities</th>        <th class=\"col_heading level0 col7\" >n frames</th>    </tr></thead><tbody>\n",
       "                <tr>\n",
       "                                <td id=\"T_9e3ea25a_9a5e_11ea_98e8_7f62ec9ca7d2row0_col0\" class=\"data row0 col0\" >molsysmt.MolSys</td>\n",
       "                        <td id=\"T_9e3ea25a_9a5e_11ea_98e8_7f62ec9ca7d2row0_col1\" class=\"data row0 col1\" >62</td>\n",
       "                        <td id=\"T_9e3ea25a_9a5e_11ea_98e8_7f62ec9ca7d2row0_col2\" class=\"data row0 col2\" >7</td>\n",
       "                        <td id=\"T_9e3ea25a_9a5e_11ea_98e8_7f62ec9ca7d2row0_col3\" class=\"data row0 col3\" >1</td>\n",
       "                        <td id=\"T_9e3ea25a_9a5e_11ea_98e8_7f62ec9ca7d2row0_col4\" class=\"data row0 col4\" >1</td>\n",
       "                        <td id=\"T_9e3ea25a_9a5e_11ea_98e8_7f62ec9ca7d2row0_col5\" class=\"data row0 col5\" >1</td>\n",
       "                        <td id=\"T_9e3ea25a_9a5e_11ea_98e8_7f62ec9ca7d2row0_col6\" class=\"data row0 col6\" >1</td>\n",
       "                        <td id=\"T_9e3ea25a_9a5e_11ea_98e8_7f62ec9ca7d2row0_col7\" class=\"data row0 col7\" >5000</td>\n",
       "            </tr>\n",
       "    </tbody></table>"
      ],
      "text/plain": [
       "<pandas.io.formats.style.Styler at 0x7f33b7d3e310>"
      ]
     },
     "execution_count": 4,
     "metadata": {},
     "output_type": "execute_result"
    }
   ],
   "source": [
    "msm.info(molecular_system)"
   ]
  },
  {
   "cell_type": "code",
   "execution_count": 5,
   "metadata": {},
   "outputs": [],
   "source": [
    "time = msm.get(molecular_system, target='system', time=True)"
   ]
  },
  {
   "cell_type": "markdown",
   "metadata": {},
   "source": [
    "## RMSD\n",
    "\n",
    "The root mean squared deviation of a set of atom coordinates $\\vec{R}:(\\vec{r_{1}}, \\vec{r_{2}}, ..., \\vec{r_{n}})$, with respect to a reference set of atom coordinates $\\vec{R'}:(\\vec{r'_{1}}, \\vec{r'_{2}}, ..., \\vec{r'_{n}})$, is defined as:\n",
    "\n",
    "\\begin{equation}\n",
    "\\text{RMSD} (\\vec{R'},\\vec{R}) = \\sqrt{ \\frac{1}{n} \\sum_{i=1}^{n} \\Vert \\vec{r'_{i}} - \\vec{r_{i}} \\Vert ^{2}}\n",
    "\\end{equation}\n",
    "\n",
    "\\begin{equation}\n",
    "\\text{RMSD} (\\vec{R'},\\vec{R}) = \n",
    "\\sqrt{ \\frac{1}{n} \\sum_{i=1}^{n} [(x'-x)^2 + (z'-z)^2 + (z'-z)^2]}\n",
    "\\end{equation}\n",
    "\n",
    "These two sets of atom coordinates, with the same number of atoms, could belong to structures of two different molecular systems or could also be structures of the same system. Let see the case where the RMSD is calculated only with the backbone atoms of the structure of our molecular system at frame 100-th taking the frame 0-th as reference:"
   ]
  },
  {
   "cell_type": "code",
   "execution_count": 6,
   "metadata": {},
   "outputs": [],
   "source": [
    "rmsd = msm.rmsd(molecular_system, selection='backbone', frame_indices=100, reference_frame_index=0)"
   ]
  },
  {
   "cell_type": "markdown",
   "metadata": {},
   "source": [
    "There object returned is a numpy array with a single RMSD value:"
   ]
  },
  {
   "cell_type": "code",
   "execution_count": 7,
   "metadata": {},
   "outputs": [
    {
     "name": "stdout",
     "output_type": "stream",
     "text": [
      "[0.73817043] nm\n"
     ]
    }
   ],
   "source": [
    "print(rmsd)"
   ]
  },
  {
   "cell_type": "markdown",
   "metadata": {},
   "source": [
    "Lets get now the RMSD of every single frame in the trajectory with the same structure as reference, the one found in frame 0-th:"
   ]
  },
  {
   "cell_type": "code",
   "execution_count": 8,
   "metadata": {},
   "outputs": [],
   "source": [
    "rmsd = msm.rmsd(molecular_system, selection='backbone', frame_indices='all', reference_frame_index=0)"
   ]
  },
  {
   "cell_type": "code",
   "execution_count": 9,
   "metadata": {},
   "outputs": [
    {
     "data": {
      "image/png": "[encoded data removed]",
      "text/plain": [
       "<Figure size 432x288 with 1 Axes>"
      ]
     },
     "metadata": {
      "needs_background": "light"
     },
     "output_type": "display_data"
    }
   ],
   "source": [
    "plt.plot(time, rmsd, label='RMSD')\n",
    "plt.xlabel('time [{}]'.format(time.unit))\n",
    "plt.ylabel('RMSD [{}]'.format(rmsd.unit))\n",
    "plt.title('RMSD with backbone atoms with respect frame 0-th')\n",
    "plt.legend()\n",
    "plt.show()"
   ]
  },
  {
   "cell_type": "markdown",
   "metadata": {},
   "source": [
    "In case of having two different molecular systems, `molsysmt.rmsd()` accepts all necessary input arguments to specify the set of atom coordinates to obtain the rmsd, for a single frame or a set of them: `item`, `selection` and `frame_indices` for the subject molecular system; and `reference_item`, `reference_selection`, and `reference_frame_index` for the reference molecular system."
   ]
  },
  {
   "cell_type": "markdown",
   "metadata": {},
   "source": [
    "Lets, for instance, create two different molecular systems (same topology in this case) to illustrate how these input arguments work:"
   ]
  },
  {
   "cell_type": "code",
   "execution_count": 23,
   "metadata": {},
   "outputs": [],
   "source": [
    "molecular_system_1 = msm.extract(molecular_system, frame_indices=range(0,100))\n",
    "molecular_system_2 = msm.extract(molecular_system, frame_indices=range(200,300))"
   ]
  },
  {
   "cell_type": "code",
   "execution_count": 25,
   "metadata": {},
   "outputs": [],
   "source": [
    "rmsd = msm.rmsd(molecular_system_1, selection='backbone', frame_indices=80, \n",
    "                reference_item=molecular_system_2, reference_selection='backbone', reference_frame_index=20)"
   ]
  },
  {
   "cell_type": "markdown",
   "metadata": {},
   "source": [
    "And we got the rmsd between to structures coming from two different frames from two molecular systems:"
   ]
  },
  {
   "cell_type": "code",
   "execution_count": 28,
   "metadata": {},
   "outputs": [
    {
     "name": "stdout",
     "output_type": "stream",
     "text": [
      "[0.94597531] nm\n"
     ]
    }
   ],
   "source": [
    "print(rmsd)"
   ]
  },
  {
   "cell_type": "markdown",
   "metadata": {},
   "source": [
    "## Least RMSD"
   ]
  },
  {
   "cell_type": "code",
   "execution_count": 31,
   "metadata": {},
   "outputs": [],
   "source": [
    "lrmsd = msm.least_rmsd(molecular_system, selection='backbone', frame_indices='all', reference_frame_index=0)\n",
    "rmsd = msm.rmsd(molecular_system, selection='backbone', frame_indices='all', reference_frame_index=0)"
   ]
  },
  {
   "cell_type": "code",
   "execution_count": 32,
   "metadata": {},
   "outputs": [
    {
     "data": {
      "image/png": "[encoded data removed]",
      "text/plain": [
       "<Figure size 432x288 with 1 Axes>"
      ]
     },
     "metadata": {
      "needs_background": "light"
     },
     "output_type": "display_data"
    }
   ],
   "source": [
    "plt.plot(time, rmsd, color='lightblue')\n",
    "plt.plot(time, lrmsd)\n",
    "plt.show()"
   ]
  },
  {
   "cell_type": "markdown",
   "metadata": {},
   "source": [
    "## Least RMSD fit\n",
    "\n",
    "\n",
    "[Coutsias, Evangelos A., Chaok Seok, and Ken A. Dill. \"Using quaternions to calculate RMSD.\" Journal of computational chemistry 25, no. 15 (2004): 1849-1857.](https://doi.org/10.1002/jcc.20110)\n"
   ]
  },
  {
   "cell_type": "code",
   "execution_count": null,
   "metadata": {},
   "outputs": [],
   "source": [
    "fitted_molecular_system = msm.least_rmsd_fit(molecular_system, selection='backbone', frame_indices='all',\n",
    "                                             reference_frame_index=0, to_form='molsysmt.MolSys')"
   ]
  },
  {
   "cell_type": "code",
   "execution_count": null,
   "metadata": {},
   "outputs": [],
   "source": [
    "msm.info(fitted_molecular_system)"
   ]
  },
  {
   "cell_type": "code",
   "execution_count": null,
   "metadata": {},
   "outputs": [],
   "source": [
    "fitted_rmsd = msm.rmsd(fitted_molecular_system, selection='backbone', frame_indices='all', reference_frame_index=0)"
   ]
  },
  {
   "cell_type": "code",
   "execution_count": null,
   "metadata": {},
   "outputs": [],
   "source": [
    "plt.plot(time, rmsd, color='lightblue')\n",
    "plt.plot(time, lrmsd, color='blue')\n",
    "plt.plot(time, fitted_rmsd, color='red')\n",
    "plt.show()"
   ]
  },
  {
   "cell_type": "code",
   "execution_count": null,
   "metadata": {},
   "outputs": [],
   "source": []
  }
 ],
 "metadata": {
  "kernelspec": {
   "display_name": "Python 3",
   "language": "python",
   "name": "python3"
  },
  "language_info": {
   "codemirror_mode": {
    "name": "ipython",
    "version": 3
   },
   "file_extension": ".py",
   "mimetype": "text/x-python",
   "name": "python",
   "nbconvert_exporter": "python",
   "pygments_lexer": "ipython3",
   "version": "3.7.7"
  }
 },
 "nbformat": 4,
 "nbformat_minor": 4
}
