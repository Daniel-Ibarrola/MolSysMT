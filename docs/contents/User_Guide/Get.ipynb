{
 "cells": [
  {
   "cell_type": "code",
   "execution_count": 1,
   "metadata": {},
   "outputs": [],
   "source": [
    "%load_ext autoreload\n",
    "%autoreload 2"
   ]
  },
  {
   "cell_type": "code",
   "execution_count": 3,
   "metadata": {},
   "outputs": [],
   "source": [
    "import molsysmt as msm"
   ]
  },
  {
   "cell_type": "markdown",
   "metadata": {},
   "source": [
    "# How to get attributes from a molecular system\n",
    "\n",
    "Any attribute of the elements composing a molecular system such as name, index, id or type, as well as some simple observables, can be obtained by means of the method `molsysmt.get()`. Lets load a molecular system to play a bit with it:"
   ]
  },
  {
   "cell_type": "code",
   "execution_count": 13,
   "metadata": {},
   "outputs": [],
   "source": [
    "molecular_system = msm.load('1tcd.mmtf', to_form='molsysmt.MolSys')"
   ]
  },
  {
   "cell_type": "markdown",
   "metadata": {},
   "source": [
    "As first example lets obtain the names of the atoms with indices 32, 33 and 34 (0-based). The method `molsysmt.get()` has an input argument named `target` to choose the nature of the elements over which the inquery works: 'atom', 'group', 'component', 'chain', 'molecule', 'entity' or 'system'. By default `target` is 'atom'. Now lets pay attention to the input argument `indices`. `indices` allows us to specify a set of targetted elements by their indices, again, over which the inquery works. This way: "
   ]
  },
  {
   "cell_type": "code",
   "execution_count": 16,
   "metadata": {},
   "outputs": [
    {
     "name": "stdout",
     "output_type": "stream",
     "text": [
      "Atom names: ['N' 'CA' 'C']\n"
     ]
    }
   ],
   "source": [
    "names = msm.get(molecular_system, indices=[32,33,34], name=True)\n",
    "print('Atom names:',names)"
   ]
  },
  {
   "cell_type": "markdown",
   "metadata": {},
   "source": [
    "The number of attributes we want to know from these atoms is no limited to one. We can ask `molsysmt.get()` to extract as many attributes as you desire:"
   ]
  },
  {
   "cell_type": "code",
   "execution_count": 17,
   "metadata": {},
   "outputs": [
    {
     "name": "stdout",
     "output_type": "stream",
     "text": [
      "Atom names: ['N' 'CA' 'C']\n",
      "Group indices: [4 4 4]\n",
      "Group names: ['ILE' 'ILE' 'ILE']\n"
     ]
    }
   ],
   "source": [
    "names, group_indices, group_names = msm.get(molecular_system, target='atom', indices=[32,33,34],\n",
    "                                            name=True, group_index=True, group_name=True)\n",
    "print('Atom names:', names)\n",
    "print('Group indices:', group_indices)\n",
    "print('Group names:', group_names)"
   ]
  },
  {
   "cell_type": "markdown",
   "metadata": {},
   "source": [
    "Notice that if no indices list is provided, the method applies over all elements of the targeted entity. See for example:"
   ]
  },
  {
   "cell_type": "code",
   "execution_count": 8,
   "metadata": {},
   "outputs": [
    {
     "name": "stdout",
     "output_type": "stream",
     "text": [
      "3983\n"
     ]
    }
   ],
   "source": [
    "n_atoms = msm.get(molecular_system, target='atom', n_atoms=True)\n",
    "print(n_atoms)"
   ]
  },
  {
   "cell_type": "code",
   "execution_count": 18,
   "metadata": {},
   "outputs": [
    {
     "ename": "ImportError",
     "evalue": "cannot import name 'get_n_chains_from_atom' from 'molsysmt.forms.classes.api_molsysmt_Composition' (/home/diego/Proyectos/MolSysMT/molsysmt/forms/classes/api_molsysmt_Composition.py)",
     "output_type": "error",
     "traceback": [
      "\u001b[0;31m---------------------------------------------------------------------------\u001b[0m",
      "\u001b[0;31mImportError\u001b[0m                               Traceback (most recent call last)",
      "\u001b[0;32m<ipython-input-18-2b14d98cf36d>\u001b[0m in \u001b[0;36m<module>\u001b[0;34m\u001b[0m\n\u001b[0;32m----> 1\u001b[0;31m \u001b[0mn_atoms\u001b[0m \u001b[0;34m=\u001b[0m \u001b[0mmsm\u001b[0m\u001b[0;34m.\u001b[0m\u001b[0mget\u001b[0m\u001b[0;34m(\u001b[0m\u001b[0mmolecular_system\u001b[0m\u001b[0;34m,\u001b[0m \u001b[0mtarget\u001b[0m\u001b[0;34m=\u001b[0m\u001b[0;34m'atom'\u001b[0m\u001b[0;34m,\u001b[0m \u001b[0mn_chains\u001b[0m\u001b[0;34m=\u001b[0m\u001b[0;32mTrue\u001b[0m\u001b[0;34m)\u001b[0m\u001b[0;34m\u001b[0m\u001b[0;34m\u001b[0m\u001b[0m\n\u001b[0m\u001b[1;32m      2\u001b[0m \u001b[0mprint\u001b[0m\u001b[0;34m(\u001b[0m\u001b[0mn_atoms\u001b[0m\u001b[0;34m)\u001b[0m\u001b[0;34m\u001b[0m\u001b[0;34m\u001b[0m\u001b[0m\n",
      "\u001b[0;32m~/Proyectos/MolSysMT/molsysmt/multitool.py\u001b[0m in \u001b[0;36mget\u001b[0;34m(item, target, indices, selection, frame_indices, syntaxis, **kwargs)\u001b[0m\n\u001b[1;32m    679\u001b[0m     \u001b[0mresults\u001b[0m \u001b[0;34m=\u001b[0m \u001b[0;34m[\u001b[0m\u001b[0;34m]\u001b[0m\u001b[0;34m\u001b[0m\u001b[0;34m\u001b[0m\u001b[0m\n\u001b[1;32m    680\u001b[0m     \u001b[0;32mfor\u001b[0m \u001b[0mattribute\u001b[0m \u001b[0;32min\u001b[0m \u001b[0mattributes\u001b[0m\u001b[0;34m:\u001b[0m\u001b[0;34m\u001b[0m\u001b[0;34m\u001b[0m\u001b[0m\n\u001b[0;32m--> 681\u001b[0;31m         \u001b[0mresult\u001b[0m \u001b[0;34m=\u001b[0m \u001b[0m_dict_get\u001b[0m\u001b[0;34m[\u001b[0m\u001b[0mform_in\u001b[0m\u001b[0;34m]\u001b[0m\u001b[0;34m[\u001b[0m\u001b[0mtarget\u001b[0m\u001b[0;34m]\u001b[0m\u001b[0;34m[\u001b[0m\u001b[0mattribute\u001b[0m\u001b[0;34m]\u001b[0m\u001b[0;34m(\u001b[0m\u001b[0mitem\u001b[0m\u001b[0;34m,\u001b[0m \u001b[0mindices\u001b[0m\u001b[0;34m=\u001b[0m\u001b[0mindices\u001b[0m\u001b[0;34m,\u001b[0m \u001b[0mframe_indices\u001b[0m\u001b[0;34m=\u001b[0m\u001b[0mframe_indices\u001b[0m\u001b[0;34m)\u001b[0m\u001b[0;34m\u001b[0m\u001b[0;34m\u001b[0m\u001b[0m\n\u001b[0m\u001b[1;32m    682\u001b[0m         \u001b[0mresults\u001b[0m\u001b[0;34m.\u001b[0m\u001b[0mappend\u001b[0m\u001b[0;34m(\u001b[0m\u001b[0mresult\u001b[0m\u001b[0;34m)\u001b[0m\u001b[0;34m\u001b[0m\u001b[0;34m\u001b[0m\u001b[0m\n\u001b[1;32m    683\u001b[0m \u001b[0;34m\u001b[0m\u001b[0m\n",
      "\u001b[0;32m~/Proyectos/MolSysMT/molsysmt/forms/classes/api_molsysmt_MolSys.py\u001b[0m in \u001b[0;36mget_n_chains_from_atom\u001b[0;34m(item, indices, frame_indices)\u001b[0m\n\u001b[1;32m    263\u001b[0m \u001b[0;32mdef\u001b[0m \u001b[0mget_n_chains_from_atom\u001b[0m \u001b[0;34m(\u001b[0m\u001b[0mitem\u001b[0m\u001b[0;34m,\u001b[0m \u001b[0mindices\u001b[0m\u001b[0;34m=\u001b[0m\u001b[0;34m'all'\u001b[0m\u001b[0;34m,\u001b[0m \u001b[0mframe_indices\u001b[0m\u001b[0;34m=\u001b[0m\u001b[0;34m'all'\u001b[0m\u001b[0;34m)\u001b[0m\u001b[0;34m:\u001b[0m\u001b[0;34m\u001b[0m\u001b[0;34m\u001b[0m\u001b[0m\n\u001b[1;32m    264\u001b[0m \u001b[0;34m\u001b[0m\u001b[0m\n\u001b[0;32m--> 265\u001b[0;31m     \u001b[0;32mfrom\u001b[0m \u001b[0;34m.\u001b[0m\u001b[0mapi_molsysmt_Composition\u001b[0m \u001b[0;32mimport\u001b[0m \u001b[0mget_n_chains_from_atom\u001b[0m \u001b[0;32mas\u001b[0m \u001b[0m_get\u001b[0m\u001b[0;34m\u001b[0m\u001b[0;34m\u001b[0m\u001b[0m\n\u001b[0m\u001b[1;32m    266\u001b[0m     \u001b[0;32mreturn\u001b[0m \u001b[0m_get\u001b[0m\u001b[0;34m(\u001b[0m\u001b[0mitem\u001b[0m\u001b[0;34m.\u001b[0m\u001b[0mcomposition\u001b[0m\u001b[0;34m,\u001b[0m \u001b[0mindices\u001b[0m\u001b[0;34m=\u001b[0m\u001b[0mindices\u001b[0m\u001b[0;34m,\u001b[0m \u001b[0mframe_indices\u001b[0m\u001b[0;34m=\u001b[0m\u001b[0mframe_indices\u001b[0m\u001b[0;34m)\u001b[0m\u001b[0;34m\u001b[0m\u001b[0;34m\u001b[0m\u001b[0m\n\u001b[1;32m    267\u001b[0m \u001b[0;34m\u001b[0m\u001b[0m\n",
      "\u001b[0;31mImportError\u001b[0m: cannot import name 'get_n_chains_from_atom' from 'molsysmt.forms.classes.api_molsysmt_Composition' (/home/diego/Proyectos/MolSysMT/molsysmt/forms/classes/api_molsysmt_Composition.py)"
     ]
    }
   ],
   "source": [
    "n_atoms = msm.get(molecular_system, target='atom', n_chains=True)\n",
    "print(n_atoms)"
   ]
  },
  {
   "cell_type": "markdown",
   "metadata": {},
   "source": [
    "At last, `msm.get()` can also take the input argument `selection`. The use of `selection`, and the set of different syntaxis you can use in MolSysMT, is explained in secction XXX. See for example:"
   ]
  },
  {
   "cell_type": "code",
   "execution_count": 9,
   "metadata": {},
   "outputs": [
    {
     "data": {
      "text/plain": [
       "array([148, 149, 150, 151, 152, 153, 154])"
      ]
     },
     "execution_count": 9,
     "metadata": {},
     "output_type": "execute_result"
    }
   ],
   "source": [
    "msm.select(molecular_system, target='atom', selection='group.index==20')"
   ]
  },
  {
   "cell_type": "code",
   "execution_count": 10,
   "metadata": {},
   "outputs": [
    {
     "data": {
      "text/plain": [
       "[array(['N', 'CA', 'C', 'O', 'CB', 'CG', 'CD'], dtype=object),\n",
       " array([148, 149, 150, 151, 152, 153, 154])]"
      ]
     },
     "execution_count": 10,
     "metadata": {},
     "output_type": "execute_result"
    }
   ],
   "source": [
    "msm.get(molecular_system, target='atom', selection='group.index==20', name=True, index=True)"
   ]
  },
  {
   "cell_type": "code",
   "execution_count": 11,
   "metadata": {},
   "outputs": [
    {
     "data": {
      "text/plain": [
       "3818"
      ]
     },
     "execution_count": 11,
     "metadata": {},
     "output_type": "execute_result"
    }
   ],
   "source": [
    "msm.get(molecular_system, target='atom', selection='molecule.type==\"protein\"', n_atoms=True)"
   ]
  },
  {
   "cell_type": "markdown",
   "metadata": {},
   "source": [
    "## Atoms, groups, components, chains, molecules or entities attributes\n",
    "\n",
    "The method `molsysmt.get()` has an input argument to choose the nature of the entities "
   ]
  },
  {
   "cell_type": "code",
   "execution_count": 12,
   "metadata": {},
   "outputs": [
    {
     "data": {
      "text/plain": [
       "array(['N', 'CA', 'C'], dtype=object)"
      ]
     },
     "execution_count": 12,
     "metadata": {},
     "output_type": "execute_result"
    }
   ],
   "source": [
    "msm.get(molecular_system, target='atom', indices=[0,1,2], name=True)"
   ]
  },
  {
   "cell_type": "code",
   "execution_count": null,
   "metadata": {},
   "outputs": [],
   "source": [
    "msm.get(molecular_system, target='atom', selection='atom.index in [0,1,2]', name=True)"
   ]
  },
  {
   "cell_type": "code",
   "execution_count": null,
   "metadata": {},
   "outputs": [],
   "source": [
    "msm.get(molecular_system, target='group', indices=[0,1,2], id=True)"
   ]
  },
  {
   "cell_type": "code",
   "execution_count": null,
   "metadata": {},
   "outputs": [],
   "source": [
    "msm.get(molecular_system, target='group', selection='group.index in [0,1,2]', id=True)"
   ]
  },
  {
   "cell_type": "markdown",
   "metadata": {},
   "source": [
    "Observa que cuando pedimos atributos de un elemento menor en jerarguía que el targeteado:"
   ]
  },
  {
   "cell_type": "code",
   "execution_count": null,
   "metadata": {},
   "outputs": [],
   "source": [
    "msm.get(molecular_system, target='group', indices=[0,1], atom_index=True)"
   ]
  },
  {
   "cell_type": "code",
   "execution_count": null,
   "metadata": {},
   "outputs": [],
   "source": [
    "msm.get(molecular_system, target='molecule', indices=0, group_index=True)"
   ]
  },
  {
   "cell_type": "code",
   "execution_count": null,
   "metadata": {},
   "outputs": [],
   "source": [
    "Y lo que sucede cuando se pide un atributo de un elemento jerarquicamente superior"
   ]
  },
  {
   "cell_type": "code",
   "execution_count": null,
   "metadata": {},
   "outputs": [],
   "source": [
    "msm.get(molecular_system, target='group', indices=10, molecule_type=True)"
   ]
  },
  {
   "cell_type": "code",
   "execution_count": null,
   "metadata": {},
   "outputs": [],
   "source": [
    "msm.get(molecular_system, target='molecule', indices=range(1,10), molecule_type=True)"
   ]
  },
  {
   "cell_type": "code",
   "execution_count": null,
   "metadata": {},
   "outputs": [],
   "source": [
    "msm.get(molecular_system, target='group', selection='group.type==\"aminoacid\"', n_groups=True)"
   ]
  },
  {
   "cell_type": "markdown",
   "metadata": {},
   "source": [
    "| Property | Meaning | Element the property applies |\n",
    "|:--------|:-------------|:-------------|\n",
    "| 'index' | **index or indices** of the list of targeted elements defined by `indices` or `selection`| 'atom', 'group', 'component', 'chain', 'molecule', 'entity'|\n",
    "| 'id' | **id or ids** of the list of targeted elements defined by `indices` or `selection`| 'atom', 'group', 'component', 'chain', 'molecule', 'entity'|\n",
    "| 'name' | **name or names** of the list of targeted elements defined by `indices` or `selection`| 'atom', 'group', 'component', 'chain', 'molecule', 'entity'|\n",
    "| 'type' | **type or types** of the list of targeted elements defined by `indices` or `selection`| 'atom', 'group', 'component', 'chain', 'molecule', 'entity'|\n",
    "| 'atom_index' | **atom index or indices** of the list of targeted elements defined by `indices` or `selection`| 'atom', 'group', 'component', 'chain', 'molecule', 'entity'|\n",
    "| 'atom_id' | **atom id or ids** of the list of targeted elements defined by `indices` or `selection`| 'atom', 'group', 'component', 'chain', 'molecule', 'entity'|\n",
    "| 'atom_name' |  **atom name or names** of the list of targeted elements defined by `indices` or `selection`| 'atom', 'group', 'component', 'chain', 'molecule', 'entity'|\n",
    "| 'atom_type' |  **atom type or types** of the list of targeted elements defined by `indices` or `selection`| 'atom', 'group', 'component', 'chain', 'molecule', 'entity'|\n",
    "| 'group_index' | **group index or indices** of the list of targeted elements defined by `indices` or `selection`| 'atom', 'group', 'component', 'chain', 'molecule', 'entity'|\n",
    "| 'group_id' | **group id or ids** of the list of targeted elements defined by `indices` or `selection`| 'atom', 'group', 'component', 'chain', 'molecule', 'entity'|\n",
    "| 'group_name' | **group name or names** of the list of targeted elements defined by `indices` or `selection`| 'atom', 'group', 'component', 'chain', 'molecule', 'entity'|\n",
    "| 'group_type' | **group type or types** of the list of targeted elements defined by `indices` or `selection`| 'atom', 'group', 'component', 'chain', 'molecule', 'entity'|\n",
    "| 'component_index' | **component index or indices** of the list of targeted elements defined by `indices` or `selection`| 'atom', 'group', 'component', 'chain', 'molecule', 'entity'|\n",
    "| 'component_id' | **component id or ids** of the list of targeted elements defined by `indices` or `selection`| 'atom', 'group', 'component', 'chain', 'molecule', 'entity'|\n",
    "| 'component_name' | **component name or names** of the list of targeted elements defined by `indices` or `selection`| 'atom', 'group', 'component', 'chain', 'molecule', 'entity'|\n",
    "| 'component_type' | **component type or types** of the list of targeted elements defined by `indices` or `selection`| 'atom', 'group', 'component', 'chain', 'molecule', 'entity'|\n",
    "| 'molecule_index' | **molecule index or indices** of the list of targeted elements defined by `indices` or `selection`| 'atom', 'group', 'component', 'chain', 'molecule', 'entity'|\n",
    "| 'molecule_id' | **molecule id or ids** of the list of targeted elements defined by `indices` or `selection`| 'atom', 'group', 'component', 'chain', 'molecule', 'entity'|\n",
    "| 'molecule_name' | **molecule name or names** of the list of targeted elements defined by `indices` or `selection`| 'atom', 'group', 'component', 'chain', 'molecule', 'entity'|\n",
    "| 'molecule_type' | **molecule type or types** of the list of targeted elements defined by `indices` or `selection`| 'atom', 'group', 'component', 'chain', 'molecule', 'entity'|\n",
    "| 'chain_index' | **chain index or indices** of the list of targeted elements defined by `indices` or `selection`| 'atom', 'group', 'component', 'chain', 'molecule', 'entity'|\n",
    "| 'chain_id' | **chain id or ids** of the list of targeted elements defined by `indices` or `selection`| 'atom', 'group', 'component', 'chain', 'molecule', 'entity'|\n",
    "| 'chain_name' | **chain name or names** of the list of targeted elements defined by `indices` or `selection`| 'atom', 'group', 'component', 'chain', 'molecule', 'entity'|\n",
    "| 'chain_type' | **chain type or types** of the list of targeted elements defined by `indices` or `selection`| 'atom', 'group', 'component', 'chain', 'molecule', 'entity'|\n",
    "| 'entity_index' | **entity index or indices** of the list of targeted elements defined by `indices` or `selection`| 'atom', 'group', 'component', 'chain', 'molecule', 'entity'|\n",
    "| 'entity_id' | **entity id or ids** of the list of targeted elements defined by `indices` or `selection`| 'atom', 'group', 'component', 'chain', 'molecule', 'entity'|\n",
    "| 'entity_name' | **entity name or names** of the list of targeted elements defined by `indices` or `selection`| 'atom', 'group', 'component', 'chain', 'molecule', 'entity'|\n",
    "| 'entity_type' | **entity type or types** of the list of targeted elements defined by `indices` or `selection`| 'atom', 'group', 'component', 'chain', 'molecule', 'entity'|\n",
    "| 'bonded_atoms' | **bonded atoms** to the list of atoms defined by `indices` or `selection`| 'atom', 'system'|\n",
    "| 'n_atoms' | **number of atoms** in the set of targeted elements defined by `indices` or `selection`| 'atom', 'group', 'component', 'chain', 'molecule', 'entity', 'system'|\n",
    "| 'n_groups' | **number of groups** in the set of targeted elements defined by `indices` or `selection`| 'atom', 'group', 'component', 'chain', 'molecule', 'entity', 'system'|\n",
    "| 'n_components' | **number of components** in the set of targeted elements defined by `indices` or `selection`| 'atom', 'group', 'component', 'chain', 'molecule', 'entity', 'system'|\n",
    "| 'n_molecules' | **number of molecules** in the set of targeted elements defined by `indices` or `selection`| 'atom', 'group', 'component', 'chain', 'molecule', 'entity', 'system'|\n",
    "| 'n_chains' | **number of chains** in the set of targeted elements defined by `indices` or `selection`| 'atom', 'group', 'component', 'chain', 'molecule', 'entity', 'system'|\n",
    "| 'n_entities' | **number of entities** in the set of targeted elements defined by `indices` or `selection`| 'atom', 'group', 'component', 'chain', 'molecule', 'entity', 'system'|\n",
    "| 'n_bonds' | **number of bonds** present in the set of elements defined by `indices` or `selection`| 'atom', 'group', 'component', 'chain', 'molecule', 'entity', 'system'|\n",
    "| 'n_aminoacids' | **number of groups aminoacid type** in the system | 'system'|\n",
    "| 'n_nucleotides' | **number of groups nucleotide type** in the system | 'system'|\n",
    "| 'n_ions' | **number of molecules ion type** in the system | 'system'|\n",
    "| 'n_waters' | **number of molecules water type** in the system | 'system'|\n",
    "| 'n_cosolutes' | **number of molecules cosolute type** in the system | 'system'|\n",
    "| 'n_small_molecules' | **number of molecules small molecule type** in the system | 'system'|\n",
    "| 'n_peptides' | **number of molecules peptide type** in the system | 'system'|\n",
    "| 'n_proteins' | **number of molecules protein type** in the system | 'system'|\n",
    "| 'n_adns' | **number of molecules adn type** in the system | 'system'|\n",
    "| 'n_arns' | **number of molecules arn type** in the system | 'system'|\n",
    "| 'mass' | **mass** of every targeted element defined by `indices` or `selection`| 'atom', 'group', 'component', 'chain', 'molecule', 'entity', 'system'|\n",
    "| 'charge' | **formal charge** of every targeted element defined by `indices` or `selection`| 'atom', 'group', 'component', 'chain', 'molecule', 'entity', 'system'|\n",
    "| 'coordinates' | **coordinates of atoms** present in the set of elements defined by `indices` or `selection`| 'atom', 'group', 'component', 'chain', 'molecule', 'entity', 'system'|\n",
    "| 'box' | **box vectors** defining the periodic box of the system -if any-| 'system'|\n",
    "| 'box_shape' | **box shape** of the periodic box of the system -if any-| 'system'|\n",
    "| 'box_lengths' | **edge lengths** of the periodic box of the system -if any-| 'system'|\n",
    "| 'box_angles' | **vertices angles** of the periodic box of the system -if any-| 'system'|\n",
    "| 'time' | **times** stored in the trajectory| 'system'|\n",
    "| 'n_frames' | **number of frames** stored in the trajectory| 'system'|\n",
    "| 'form' | **form** of the molecular system| 'system'|"
   ]
  },
  {
   "cell_type": "markdown",
   "metadata": {},
   "source": [
    "### Target: System"
   ]
  },
  {
   "cell_type": "markdown",
   "metadata": {},
   "source": [
    "## From MolSysMT.DataFrame"
   ]
  },
  {
   "cell_type": "code",
   "execution_count": null,
   "metadata": {},
   "outputs": [],
   "source": [
    "molecular_system = m3t.load('1tcd.mmtf', to_form='MolSysMT.DataFrame')"
   ]
  },
  {
   "cell_type": "code",
   "execution_count": null,
   "metadata": {},
   "outputs": [],
   "source": [
    "m3t.get(, target='atom', indices=[21,35,46], group_index=True)"
   ]
  },
  {
   "cell_type": "markdown",
   "metadata": {},
   "source": [
    "## From MolSysMT.MolSys"
   ]
  },
  {
   "cell_type": "code",
   "execution_count": null,
   "metadata": {},
   "outputs": [],
   "source": [
    "m3t.get(molecular_model, target='atom', indices=[21,35,46], group_index=True)"
   ]
  },
  {
   "cell_type": "code",
   "execution_count": null,
   "metadata": {},
   "outputs": [],
   "source": [
    "m3t.get(molecular_model, target='atom', indices=[0,1,2,3,4], name=True)"
   ]
  },
  {
   "cell_type": "code",
   "execution_count": null,
   "metadata": {},
   "outputs": [],
   "source": [
    "m3t.get(molecular_model, target='atom', selection='group.index==20', name=True)"
   ]
  },
  {
   "cell_type": "code",
   "execution_count": null,
   "metadata": {},
   "outputs": [],
   "source": [
    "m3t.get(molecular_model, target='atom', n_waters=True)"
   ]
  },
  {
   "cell_type": "code",
   "execution_count": null,
   "metadata": {},
   "outputs": [],
   "source": [
    "m3t.get(molecular_model, target='atom', n_ions=True)"
   ]
  },
  {
   "cell_type": "code",
   "execution_count": null,
   "metadata": {},
   "outputs": [],
   "source": []
  }
 ],
 "metadata": {
  "kernelspec": {
   "display_name": "Python 3",
   "language": "python",
   "name": "python3"
  },
  "language_info": {
   "codemirror_mode": {
    "name": "ipython",
    "version": 3
   },
   "file_extension": ".py",
   "mimetype": "text/x-python",
   "name": "python",
   "nbconvert_exporter": "python",
   "pygments_lexer": "ipython3",
   "version": "3.7.7"
  }
 },
 "nbformat": 4,
 "nbformat_minor": 4
}
