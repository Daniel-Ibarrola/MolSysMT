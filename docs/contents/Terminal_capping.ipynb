{
 "cells": [
  {
   "cell_type": "code",
   "execution_count": 1,
   "metadata": {},
   "outputs": [],
   "source": [
    "%load_ext autoreload\n",
    "%autoreload 2"
   ]
  },
  {
   "cell_type": "code",
   "execution_count": 2,
   "metadata": {},
   "outputs": [
    {
     "data": {
      "application/vnd.jupyter.widget-view+json": {
       "model_id": "7d7229627c99480eb95c43766600c6dc",
       "version_major": 2,
       "version_minor": 0
      },
      "text/plain": []
     },
     "metadata": {},
     "output_type": "display_data"
    }
   ],
   "source": [
    "import molsysmt as msm"
   ]
  },
  {
   "cell_type": "markdown",
   "metadata": {},
   "source": [
    "# Terminal capping"
   ]
  },
  {
   "cell_type": "code",
   "execution_count": 3,
   "metadata": {},
   "outputs": [],
   "source": [
    "molecular_system = msm.build_peptide('aminoacids3:AlaValPro', forcefield='AMBER14',\n",
    "                                     implicit_solvent='OBC1', to_form='molsysmt.MolSys',\n",
    "                                     verbose=False)"
   ]
  },
  {
   "cell_type": "code",
   "execution_count": 4,
   "metadata": {},
   "outputs": [
    {
     "data": {
      "text/html": [
       "<style  type=\"text/css\" >\n",
       "</style><table id=\"T_77b6f_\" ><thead>    <tr>        <th class=\"col_heading level0 col0\" >index</th>        <th class=\"col_heading level0 col1\" >id</th>        <th class=\"col_heading level0 col2\" >name</th>        <th class=\"col_heading level0 col3\" >type</th>        <th class=\"col_heading level0 col4\" >n atoms</th>        <th class=\"col_heading level0 col5\" >component index</th>        <th class=\"col_heading level0 col6\" >chain index</th>        <th class=\"col_heading level0 col7\" >molecule index</th>        <th class=\"col_heading level0 col8\" >molecule type</th>        <th class=\"col_heading level0 col9\" >entity index</th>        <th class=\"col_heading level0 col10\" >entity name</th>    </tr></thead><tbody>\n",
       "                <tr>\n",
       "                                <td id=\"T_77b6f_row0_col0\" class=\"data row0 col0\" >0</td>\n",
       "                        <td id=\"T_77b6f_row0_col1\" class=\"data row0 col1\" >1</td>\n",
       "                        <td id=\"T_77b6f_row0_col2\" class=\"data row0 col2\" >ALA</td>\n",
       "                        <td id=\"T_77b6f_row0_col3\" class=\"data row0 col3\" >aminoacid</td>\n",
       "                        <td id=\"T_77b6f_row0_col4\" class=\"data row0 col4\" >10</td>\n",
       "                        <td id=\"T_77b6f_row0_col5\" class=\"data row0 col5\" >0</td>\n",
       "                        <td id=\"T_77b6f_row0_col6\" class=\"data row0 col6\" >0</td>\n",
       "                        <td id=\"T_77b6f_row0_col7\" class=\"data row0 col7\" >0</td>\n",
       "                        <td id=\"T_77b6f_row0_col8\" class=\"data row0 col8\" >peptide</td>\n",
       "                        <td id=\"T_77b6f_row0_col9\" class=\"data row0 col9\" >0</td>\n",
       "                        <td id=\"T_77b6f_row0_col10\" class=\"data row0 col10\" >Peptide_0</td>\n",
       "            </tr>\n",
       "            <tr>\n",
       "                                <td id=\"T_77b6f_row1_col0\" class=\"data row1 col0\" >1</td>\n",
       "                        <td id=\"T_77b6f_row1_col1\" class=\"data row1 col1\" >2</td>\n",
       "                        <td id=\"T_77b6f_row1_col2\" class=\"data row1 col2\" >VAL</td>\n",
       "                        <td id=\"T_77b6f_row1_col3\" class=\"data row1 col3\" >aminoacid</td>\n",
       "                        <td id=\"T_77b6f_row1_col4\" class=\"data row1 col4\" >16</td>\n",
       "                        <td id=\"T_77b6f_row1_col5\" class=\"data row1 col5\" >0</td>\n",
       "                        <td id=\"T_77b6f_row1_col6\" class=\"data row1 col6\" >0</td>\n",
       "                        <td id=\"T_77b6f_row1_col7\" class=\"data row1 col7\" >0</td>\n",
       "                        <td id=\"T_77b6f_row1_col8\" class=\"data row1 col8\" >peptide</td>\n",
       "                        <td id=\"T_77b6f_row1_col9\" class=\"data row1 col9\" >0</td>\n",
       "                        <td id=\"T_77b6f_row1_col10\" class=\"data row1 col10\" >Peptide_0</td>\n",
       "            </tr>\n",
       "            <tr>\n",
       "                                <td id=\"T_77b6f_row2_col0\" class=\"data row2 col0\" >2</td>\n",
       "                        <td id=\"T_77b6f_row2_col1\" class=\"data row2 col1\" >3</td>\n",
       "                        <td id=\"T_77b6f_row2_col2\" class=\"data row2 col2\" >PRO</td>\n",
       "                        <td id=\"T_77b6f_row2_col3\" class=\"data row2 col3\" >aminoacid</td>\n",
       "                        <td id=\"T_77b6f_row2_col4\" class=\"data row2 col4\" >14</td>\n",
       "                        <td id=\"T_77b6f_row2_col5\" class=\"data row2 col5\" >0</td>\n",
       "                        <td id=\"T_77b6f_row2_col6\" class=\"data row2 col6\" >0</td>\n",
       "                        <td id=\"T_77b6f_row2_col7\" class=\"data row2 col7\" >0</td>\n",
       "                        <td id=\"T_77b6f_row2_col8\" class=\"data row2 col8\" >peptide</td>\n",
       "                        <td id=\"T_77b6f_row2_col9\" class=\"data row2 col9\" >0</td>\n",
       "                        <td id=\"T_77b6f_row2_col10\" class=\"data row2 col10\" >Peptide_0</td>\n",
       "            </tr>\n",
       "    </tbody></table>"
      ],
      "text/plain": [
       "<pandas.io.formats.style.Styler at 0x7f6f076fc350>"
      ]
     },
     "execution_count": 4,
     "metadata": {},
     "output_type": "execute_result"
    }
   ],
   "source": [
    "msm.info(molecular_system, target='group')"
   ]
  },
  {
   "cell_type": "code",
   "execution_count": 5,
   "metadata": {},
   "outputs": [],
   "source": [
    "molecular_system_uncapped = msm.add_terminal_capping(molecular_system, N_terminal=None,\n",
    "                                                     C_terminal=None)"
   ]
  },
  {
   "cell_type": "code",
   "execution_count": 6,
   "metadata": {},
   "outputs": [
    {
     "data": {
      "text/html": [
       "<style  type=\"text/css\" >\n",
       "</style><table id=\"T_ebad7_\" ><thead>    <tr>        <th class=\"col_heading level0 col0\" >index</th>        <th class=\"col_heading level0 col1\" >id</th>        <th class=\"col_heading level0 col2\" >name</th>        <th class=\"col_heading level0 col3\" >type</th>        <th class=\"col_heading level0 col4\" >n atoms</th>        <th class=\"col_heading level0 col5\" >component index</th>        <th class=\"col_heading level0 col6\" >chain index</th>        <th class=\"col_heading level0 col7\" >molecule index</th>        <th class=\"col_heading level0 col8\" >molecule type</th>        <th class=\"col_heading level0 col9\" >entity index</th>        <th class=\"col_heading level0 col10\" >entity name</th>    </tr></thead><tbody>\n",
       "                <tr>\n",
       "                                <td id=\"T_ebad7_row0_col0\" class=\"data row0 col0\" >0</td>\n",
       "                        <td id=\"T_ebad7_row0_col1\" class=\"data row0 col1\" >1</td>\n",
       "                        <td id=\"T_ebad7_row0_col2\" class=\"data row0 col2\" >ALA</td>\n",
       "                        <td id=\"T_ebad7_row0_col3\" class=\"data row0 col3\" >aminoacid</td>\n",
       "                        <td id=\"T_ebad7_row0_col4\" class=\"data row0 col4\" >12</td>\n",
       "                        <td id=\"T_ebad7_row0_col5\" class=\"data row0 col5\" >0</td>\n",
       "                        <td id=\"T_ebad7_row0_col6\" class=\"data row0 col6\" >0</td>\n",
       "                        <td id=\"T_ebad7_row0_col7\" class=\"data row0 col7\" >0</td>\n",
       "                        <td id=\"T_ebad7_row0_col8\" class=\"data row0 col8\" >peptide</td>\n",
       "                        <td id=\"T_ebad7_row0_col9\" class=\"data row0 col9\" >0</td>\n",
       "                        <td id=\"T_ebad7_row0_col10\" class=\"data row0 col10\" >Peptide_0</td>\n",
       "            </tr>\n",
       "            <tr>\n",
       "                                <td id=\"T_ebad7_row1_col0\" class=\"data row1 col0\" >1</td>\n",
       "                        <td id=\"T_ebad7_row1_col1\" class=\"data row1 col1\" >2</td>\n",
       "                        <td id=\"T_ebad7_row1_col2\" class=\"data row1 col2\" >VAL</td>\n",
       "                        <td id=\"T_ebad7_row1_col3\" class=\"data row1 col3\" >aminoacid</td>\n",
       "                        <td id=\"T_ebad7_row1_col4\" class=\"data row1 col4\" >16</td>\n",
       "                        <td id=\"T_ebad7_row1_col5\" class=\"data row1 col5\" >0</td>\n",
       "                        <td id=\"T_ebad7_row1_col6\" class=\"data row1 col6\" >0</td>\n",
       "                        <td id=\"T_ebad7_row1_col7\" class=\"data row1 col7\" >0</td>\n",
       "                        <td id=\"T_ebad7_row1_col8\" class=\"data row1 col8\" >peptide</td>\n",
       "                        <td id=\"T_ebad7_row1_col9\" class=\"data row1 col9\" >0</td>\n",
       "                        <td id=\"T_ebad7_row1_col10\" class=\"data row1 col10\" >Peptide_0</td>\n",
       "            </tr>\n",
       "            <tr>\n",
       "                                <td id=\"T_ebad7_row2_col0\" class=\"data row2 col0\" >2</td>\n",
       "                        <td id=\"T_ebad7_row2_col1\" class=\"data row2 col1\" >3</td>\n",
       "                        <td id=\"T_ebad7_row2_col2\" class=\"data row2 col2\" >PRO</td>\n",
       "                        <td id=\"T_ebad7_row2_col3\" class=\"data row2 col3\" >aminoacid</td>\n",
       "                        <td id=\"T_ebad7_row2_col4\" class=\"data row2 col4\" >15</td>\n",
       "                        <td id=\"T_ebad7_row2_col5\" class=\"data row2 col5\" >0</td>\n",
       "                        <td id=\"T_ebad7_row2_col6\" class=\"data row2 col6\" >0</td>\n",
       "                        <td id=\"T_ebad7_row2_col7\" class=\"data row2 col7\" >0</td>\n",
       "                        <td id=\"T_ebad7_row2_col8\" class=\"data row2 col8\" >peptide</td>\n",
       "                        <td id=\"T_ebad7_row2_col9\" class=\"data row2 col9\" >0</td>\n",
       "                        <td id=\"T_ebad7_row2_col10\" class=\"data row2 col10\" >Peptide_0</td>\n",
       "            </tr>\n",
       "    </tbody></table>"
      ],
      "text/plain": [
       "<pandas.io.formats.style.Styler at 0x7f6f2b5d5890>"
      ]
     },
     "execution_count": 6,
     "metadata": {},
     "output_type": "execute_result"
    }
   ],
   "source": [
    "msm.info(molecular_system_uncapped, target='group')"
   ]
  },
  {
   "cell_type": "code",
   "execution_count": 7,
   "metadata": {},
   "outputs": [
    {
     "ename": "AttributeError",
     "evalue": "module 'molsysmt' has no attribute 'physchem'",
     "output_type": "error",
     "traceback": [
      "\u001b[0;31m---------------------------------------------------------------------------\u001b[0m",
      "\u001b[0;31mAttributeError\u001b[0m                            Traceback (most recent call last)",
      "\u001b[0;32m<ipython-input-7-4b1a22c3a380>\u001b[0m in \u001b[0;36m<module>\u001b[0;34m\u001b[0m\n\u001b[0;32m----> 1\u001b[0;31m \u001b[0mmsm\u001b[0m\u001b[0;34m.\u001b[0m\u001b[0mphyschem\u001b[0m\u001b[0;34m.\u001b[0m\u001b[0mget_charge\u001b[0m\u001b[0;34m(\u001b[0m\u001b[0mmolecular_system_uncapped\u001b[0m\u001b[0;34m,\u001b[0m \u001b[0mtarget\u001b[0m\u001b[0;34m=\u001b[0m\u001b[0;34m'group'\u001b[0m\u001b[0;34m)\u001b[0m \u001b[0;31m# this needs to be fixed\u001b[0m\u001b[0;34m\u001b[0m\u001b[0;34m\u001b[0m\u001b[0m\n\u001b[0m",
      "\u001b[0;31mAttributeError\u001b[0m: module 'molsysmt' has no attribute 'physchem'"
     ]
    }
   ],
   "source": [
    "msm.physchem.get_charge(molecular_system_uncapped, target='group') # this needs to be fixed"
   ]
  },
  {
   "cell_type": "code",
   "execution_count": null,
   "metadata": {},
   "outputs": [],
   "source": [
    "molecular_system_capped = msm.add_terminal_capping(molecular_system, N_terminal='ACE',\n",
    "                                                   C_terminal='NME')"
   ]
  },
  {
   "cell_type": "code",
   "execution_count": null,
   "metadata": {},
   "outputs": [],
   "source": [
    "msm.info(molecular_system_capped, target='group')"
   ]
  },
  {
   "cell_type": "code",
   "execution_count": null,
   "metadata": {},
   "outputs": [],
   "source": [
    "msm.physchem.get_charge(molecular_system_capped, target='group') # this needs to be fixed"
   ]
  },
  {
   "cell_type": "code",
   "execution_count": null,
   "metadata": {},
   "outputs": [],
   "source": []
  }
 ],
 "metadata": {
  "kernelspec": {
   "display_name": "Python 3",
   "language": "python",
   "name": "python3"
  },
  "language_info": {
   "codemirror_mode": {
    "name": "ipython",
    "version": 3
   },
   "file_extension": ".py",
   "mimetype": "text/x-python",
   "name": "python",
   "nbconvert_exporter": "python",
   "pygments_lexer": "ipython3",
   "version": "3.7.9"
  }
 },
 "nbformat": 4,
 "nbformat_minor": 4
}
