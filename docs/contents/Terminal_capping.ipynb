{
 "cells": [
  {
   "cell_type": "code",
   "execution_count": 1,
   "metadata": {},
   "outputs": [],
   "source": [
    "%load_ext autoreload\n",
    "%autoreload 2"
   ]
  },
  {
   "cell_type": "code",
   "execution_count": 2,
   "metadata": {},
   "outputs": [
    {
     "data": {
      "application/vnd.jupyter.widget-view+json": {
       "model_id": "3480bb1950f2413c959738ba80a0b318",
       "version_major": 2,
       "version_minor": 0
      },
      "text/plain": []
     },
     "metadata": {},
     "output_type": "display_data"
    }
   ],
   "source": [
    "import molsysmt as msm"
   ]
  },
  {
   "cell_type": "markdown",
   "metadata": {},
   "source": [
    "# Terminal capping"
   ]
  },
  {
   "cell_type": "code",
   "execution_count": 3,
   "metadata": {},
   "outputs": [],
   "source": [
    "molecular_system = msm.build_peptide('aminoacids3:AlaAlaAla', forcefield='AMBER14',\n",
    "                                     implicit_solvent='GBSA OBC', to_form='molsysmt.MolSys',\n",
    "                                     verbose=False)"
   ]
  },
  {
   "cell_type": "code",
   "execution_count": 4,
   "metadata": {},
   "outputs": [
    {
     "data": {
      "text/html": [
       "<style  type=\"text/css\" >\n",
       "</style><table id=\"T_25c3bd5a_c72d_11ea_a6a5_3f405b3a487c\" ><thead>    <tr>        <th class=\"col_heading level0 col0\" >index</th>        <th class=\"col_heading level0 col1\" >id</th>        <th class=\"col_heading level0 col2\" >name</th>        <th class=\"col_heading level0 col3\" >type</th>        <th class=\"col_heading level0 col4\" >n atoms</th>        <th class=\"col_heading level0 col5\" >component index</th>        <th class=\"col_heading level0 col6\" >chain index</th>        <th class=\"col_heading level0 col7\" >molecule index</th>        <th class=\"col_heading level0 col8\" >molecule type</th>        <th class=\"col_heading level0 col9\" >entity index</th>        <th class=\"col_heading level0 col10\" >entity name</th>    </tr></thead><tbody>\n",
       "                <tr>\n",
       "                                <td id=\"T_25c3bd5a_c72d_11ea_a6a5_3f405b3a487crow0_col0\" class=\"data row0 col0\" >0</td>\n",
       "                        <td id=\"T_25c3bd5a_c72d_11ea_a6a5_3f405b3a487crow0_col1\" class=\"data row0 col1\" >1</td>\n",
       "                        <td id=\"T_25c3bd5a_c72d_11ea_a6a5_3f405b3a487crow0_col2\" class=\"data row0 col2\" >ALA</td>\n",
       "                        <td id=\"T_25c3bd5a_c72d_11ea_a6a5_3f405b3a487crow0_col3\" class=\"data row0 col3\" >aminoacid</td>\n",
       "                        <td id=\"T_25c3bd5a_c72d_11ea_a6a5_3f405b3a487crow0_col4\" class=\"data row0 col4\" >[10]</td>\n",
       "                        <td id=\"T_25c3bd5a_c72d_11ea_a6a5_3f405b3a487crow0_col5\" class=\"data row0 col5\" >0</td>\n",
       "                        <td id=\"T_25c3bd5a_c72d_11ea_a6a5_3f405b3a487crow0_col6\" class=\"data row0 col6\" >0</td>\n",
       "                        <td id=\"T_25c3bd5a_c72d_11ea_a6a5_3f405b3a487crow0_col7\" class=\"data row0 col7\" >0</td>\n",
       "                        <td id=\"T_25c3bd5a_c72d_11ea_a6a5_3f405b3a487crow0_col8\" class=\"data row0 col8\" >peptide</td>\n",
       "                        <td id=\"T_25c3bd5a_c72d_11ea_a6a5_3f405b3a487crow0_col9\" class=\"data row0 col9\" >0</td>\n",
       "                        <td id=\"T_25c3bd5a_c72d_11ea_a6a5_3f405b3a487crow0_col10\" class=\"data row0 col10\" >Peptide0</td>\n",
       "            </tr>\n",
       "            <tr>\n",
       "                                <td id=\"T_25c3bd5a_c72d_11ea_a6a5_3f405b3a487crow1_col0\" class=\"data row1 col0\" >1</td>\n",
       "                        <td id=\"T_25c3bd5a_c72d_11ea_a6a5_3f405b3a487crow1_col1\" class=\"data row1 col1\" >2</td>\n",
       "                        <td id=\"T_25c3bd5a_c72d_11ea_a6a5_3f405b3a487crow1_col2\" class=\"data row1 col2\" >ALA</td>\n",
       "                        <td id=\"T_25c3bd5a_c72d_11ea_a6a5_3f405b3a487crow1_col3\" class=\"data row1 col3\" >aminoacid</td>\n",
       "                        <td id=\"T_25c3bd5a_c72d_11ea_a6a5_3f405b3a487crow1_col4\" class=\"data row1 col4\" >[10]</td>\n",
       "                        <td id=\"T_25c3bd5a_c72d_11ea_a6a5_3f405b3a487crow1_col5\" class=\"data row1 col5\" >0</td>\n",
       "                        <td id=\"T_25c3bd5a_c72d_11ea_a6a5_3f405b3a487crow1_col6\" class=\"data row1 col6\" >0</td>\n",
       "                        <td id=\"T_25c3bd5a_c72d_11ea_a6a5_3f405b3a487crow1_col7\" class=\"data row1 col7\" >0</td>\n",
       "                        <td id=\"T_25c3bd5a_c72d_11ea_a6a5_3f405b3a487crow1_col8\" class=\"data row1 col8\" >peptide</td>\n",
       "                        <td id=\"T_25c3bd5a_c72d_11ea_a6a5_3f405b3a487crow1_col9\" class=\"data row1 col9\" >0</td>\n",
       "                        <td id=\"T_25c3bd5a_c72d_11ea_a6a5_3f405b3a487crow1_col10\" class=\"data row1 col10\" >Peptide0</td>\n",
       "            </tr>\n",
       "            <tr>\n",
       "                                <td id=\"T_25c3bd5a_c72d_11ea_a6a5_3f405b3a487crow2_col0\" class=\"data row2 col0\" >2</td>\n",
       "                        <td id=\"T_25c3bd5a_c72d_11ea_a6a5_3f405b3a487crow2_col1\" class=\"data row2 col1\" >3</td>\n",
       "                        <td id=\"T_25c3bd5a_c72d_11ea_a6a5_3f405b3a487crow2_col2\" class=\"data row2 col2\" >ALA</td>\n",
       "                        <td id=\"T_25c3bd5a_c72d_11ea_a6a5_3f405b3a487crow2_col3\" class=\"data row2 col3\" >aminoacid</td>\n",
       "                        <td id=\"T_25c3bd5a_c72d_11ea_a6a5_3f405b3a487crow2_col4\" class=\"data row2 col4\" >[10]</td>\n",
       "                        <td id=\"T_25c3bd5a_c72d_11ea_a6a5_3f405b3a487crow2_col5\" class=\"data row2 col5\" >0</td>\n",
       "                        <td id=\"T_25c3bd5a_c72d_11ea_a6a5_3f405b3a487crow2_col6\" class=\"data row2 col6\" >0</td>\n",
       "                        <td id=\"T_25c3bd5a_c72d_11ea_a6a5_3f405b3a487crow2_col7\" class=\"data row2 col7\" >0</td>\n",
       "                        <td id=\"T_25c3bd5a_c72d_11ea_a6a5_3f405b3a487crow2_col8\" class=\"data row2 col8\" >peptide</td>\n",
       "                        <td id=\"T_25c3bd5a_c72d_11ea_a6a5_3f405b3a487crow2_col9\" class=\"data row2 col9\" >0</td>\n",
       "                        <td id=\"T_25c3bd5a_c72d_11ea_a6a5_3f405b3a487crow2_col10\" class=\"data row2 col10\" >Peptide0</td>\n",
       "            </tr>\n",
       "    </tbody></table>"
      ],
      "text/plain": [
       "<pandas.io.formats.style.Styler at 0x7fd23d4f2990>"
      ]
     },
     "execution_count": 4,
     "metadata": {},
     "output_type": "execute_result"
    }
   ],
   "source": [
    "msm.info(molecular_system, target='group')"
   ]
  },
  {
   "cell_type": "code",
   "execution_count": 5,
   "metadata": {},
   "outputs": [
    {
     "ename": "ImportError",
     "evalue": "cannot import name 'get_frame_from_atom' from 'molsysmt.forms.classes.api_pdbfixer_PDBFixer' (/home/diego/Proyectos/MolSysMT/molsysmt/forms/classes/api_pdbfixer_PDBFixer.py)",
     "output_type": "error",
     "traceback": [
      "\u001b[0;31m---------------------------------------------------------------------------\u001b[0m",
      "\u001b[0;31mImportError\u001b[0m                               Traceback (most recent call last)",
      "\u001b[0;32m<ipython-input-5-6f6f4dde140a>\u001b[0m in \u001b[0;36m<module>\u001b[0;34m\u001b[0m\n\u001b[0;32m----> 1\u001b[0;31m \u001b[0mmolecular_system\u001b[0m \u001b[0;34m=\u001b[0m \u001b[0mmsm\u001b[0m\u001b[0;34m.\u001b[0m\u001b[0madd_terminal_capping\u001b[0m\u001b[0;34m(\u001b[0m\u001b[0mmolecular_system\u001b[0m\u001b[0;34m,\u001b[0m \u001b[0mN_terminal\u001b[0m\u001b[0;34m=\u001b[0m\u001b[0;34m'ACE'\u001b[0m\u001b[0;34m,\u001b[0m \u001b[0mC_terminal\u001b[0m\u001b[0;34m=\u001b[0m\u001b[0;34m'NME'\u001b[0m\u001b[0;34m)\u001b[0m\u001b[0;34m\u001b[0m\u001b[0;34m\u001b[0m\u001b[0m\n\u001b[0m",
      "\u001b[0;32m~/Proyectos/MolSysMT/molsysmt/terminals_capping.py\u001b[0m in \u001b[0;36madd_terminal_capping\u001b[0;34m(item, N_terminal, C_terminal, selection, syntaxis, engine)\u001b[0m\n\u001b[1;32m     42\u001b[0m         \u001b[0mtmp_item\u001b[0m\u001b[0;34m.\u001b[0m\u001b[0maddMissingAtoms\u001b[0m\u001b[0;34m(\u001b[0m\u001b[0;34m)\u001b[0m\u001b[0;34m\u001b[0m\u001b[0;34m\u001b[0m\u001b[0m\n\u001b[1;32m     43\u001b[0m \u001b[0;34m\u001b[0m\u001b[0m\n\u001b[0;32m---> 44\u001b[0;31m         \u001b[0mtmp_item\u001b[0m \u001b[0;34m=\u001b[0m \u001b[0mconvert\u001b[0m\u001b[0;34m(\u001b[0m\u001b[0mtmp_item\u001b[0m\u001b[0;34m,\u001b[0m \u001b[0mto_form\u001b[0m\u001b[0;34m=\u001b[0m\u001b[0mform_in\u001b[0m\u001b[0;34m)\u001b[0m\u001b[0;34m\u001b[0m\u001b[0;34m\u001b[0m\u001b[0m\n\u001b[0m\u001b[1;32m     45\u001b[0m \u001b[0;34m\u001b[0m\u001b[0m\n\u001b[1;32m     46\u001b[0m     \u001b[0;32melse\u001b[0m\u001b[0;34m:\u001b[0m\u001b[0;34m\u001b[0m\u001b[0;34m\u001b[0m\u001b[0m\n",
      "\u001b[0;32m~/Proyectos/MolSysMT/molsysmt/multitool.py\u001b[0m in \u001b[0;36mconvert\u001b[0;34m(item, to_form, selection, frame_indices, syntaxis, **kwargs)\u001b[0m\n\u001b[1;32m   1178\u001b[0m                 \u001b[0;32mif\u001b[0m \u001b[0mform_in\u001b[0m\u001b[0;34m!=\u001b[0m\u001b[0mform_out\u001b[0m\u001b[0;34m:\u001b[0m\u001b[0;34m\u001b[0m\u001b[0;34m\u001b[0m\u001b[0m\n\u001b[1;32m   1179\u001b[0m                     tmp_item = _dict_converter[form_in][form_out](item, atom_indices=atom_indices,\n\u001b[0;32m-> 1180\u001b[0;31m                                                                   frame_indices=frame_indices, **kwargs)\n\u001b[0m\u001b[1;32m   1181\u001b[0m                 \u001b[0;32melif\u001b[0m \u001b[0msame_system\u001b[0m\u001b[0;34m:\u001b[0m\u001b[0;34m\u001b[0m\u001b[0;34m\u001b[0m\u001b[0m\n\u001b[1;32m   1182\u001b[0m                     \u001b[0mtmp_item\u001b[0m \u001b[0;34m=\u001b[0m \u001b[0mcopy\u001b[0m\u001b[0;34m(\u001b[0m\u001b[0mitem\u001b[0m\u001b[0;34m)\u001b[0m\u001b[0;34m\u001b[0m\u001b[0;34m\u001b[0m\u001b[0m\n",
      "\u001b[0;32m~/Proyectos/MolSysMT/molsysmt/forms/classes/api_pdbfixer_PDBFixer.py\u001b[0m in \u001b[0;36mto_molsysmt_MolSys\u001b[0;34m(item, trajectory_item, atom_indices, frame_indices)\u001b[0m\n\u001b[1;32m     84\u001b[0m     tmp_item = pdbfixer_PDBFixer_to_molsysmt_MolSys(item, trajectory_item=trajectory_item,\n\u001b[1;32m     85\u001b[0m                                                     \u001b[0matom_indices\u001b[0m\u001b[0;34m=\u001b[0m\u001b[0matom_indices\u001b[0m\u001b[0;34m,\u001b[0m\u001b[0;34m\u001b[0m\u001b[0;34m\u001b[0m\u001b[0m\n\u001b[0;32m---> 86\u001b[0;31m                                                     frame_indices=frame_indices)\n\u001b[0m\u001b[1;32m     87\u001b[0m     \u001b[0;32mreturn\u001b[0m \u001b[0mtmp_item\u001b[0m\u001b[0;34m\u001b[0m\u001b[0;34m\u001b[0m\u001b[0m\n\u001b[1;32m     88\u001b[0m \u001b[0;34m\u001b[0m\u001b[0m\n",
      "\u001b[0;32m~/Proyectos/MolSysMT/molsysmt/native/io/molsys/classes/pdbfixer_PDBFixer.py\u001b[0m in \u001b[0;36mfrom_pdbfixer_PDBFixer\u001b[0;34m(item, trajectory_item, atom_indices, frame_indices)\u001b[0m\n\u001b[1;32m      7\u001b[0m     \u001b[0mtmp_item\u001b[0m \u001b[0;34m=\u001b[0m \u001b[0mMolSys\u001b[0m\u001b[0;34m(\u001b[0m\u001b[0;34m)\u001b[0m\u001b[0;34m\u001b[0m\u001b[0;34m\u001b[0m\u001b[0m\n\u001b[1;32m      8\u001b[0m     \u001b[0mtmp_item\u001b[0m\u001b[0;34m.\u001b[0m\u001b[0mtopology\u001b[0m \u001b[0;34m=\u001b[0m \u001b[0mpdbfixer_PDBFixer_to_molsysmt_Topology\u001b[0m\u001b[0;34m(\u001b[0m\u001b[0mitem\u001b[0m\u001b[0;34m,\u001b[0m \u001b[0matom_indices\u001b[0m\u001b[0;34m=\u001b[0m\u001b[0matom_indices\u001b[0m\u001b[0;34m,\u001b[0m \u001b[0mframe_indices\u001b[0m\u001b[0;34m=\u001b[0m\u001b[0mframe_indices\u001b[0m\u001b[0;34m)\u001b[0m\u001b[0;34m\u001b[0m\u001b[0;34m\u001b[0m\u001b[0m\n\u001b[0;32m----> 9\u001b[0;31m     \u001b[0mtmp_item\u001b[0m\u001b[0;34m.\u001b[0m\u001b[0mtrajectory\u001b[0m \u001b[0;34m=\u001b[0m \u001b[0mpdbfixer_PDBFixer_to_molsysmt_Trajectory\u001b[0m\u001b[0;34m(\u001b[0m\u001b[0mitem\u001b[0m\u001b[0;34m,\u001b[0m \u001b[0matom_indices\u001b[0m\u001b[0;34m=\u001b[0m\u001b[0matom_indices\u001b[0m\u001b[0;34m,\u001b[0m \u001b[0mframe_indices\u001b[0m\u001b[0;34m=\u001b[0m\u001b[0mframe_indices\u001b[0m\u001b[0;34m)\u001b[0m\u001b[0;34m\u001b[0m\u001b[0;34m\u001b[0m\u001b[0m\n\u001b[0m\u001b[1;32m     10\u001b[0m \u001b[0;34m\u001b[0m\u001b[0m\n\u001b[1;32m     11\u001b[0m     \u001b[0;32mreturn\u001b[0m \u001b[0mtmp_item\u001b[0m\u001b[0;34m\u001b[0m\u001b[0;34m\u001b[0m\u001b[0m\n",
      "\u001b[0;32m~/Proyectos/MolSysMT/molsysmt/native/io/trajectory/classes/pdbfixer_PDBFixer.py\u001b[0m in \u001b[0;36mfrom_pdbfixer_PDBFixer\u001b[0;34m(item, trajectory_item, atom_indices, frame_indices)\u001b[0m\n\u001b[1;32m      3\u001b[0m \u001b[0;34m\u001b[0m\u001b[0m\n\u001b[1;32m      4\u001b[0m     \u001b[0;32mfrom\u001b[0m \u001b[0mmolsysmt\u001b[0m\u001b[0;34m.\u001b[0m\u001b[0mnative\u001b[0m\u001b[0;34m.\u001b[0m\u001b[0mtrajectory\u001b[0m \u001b[0;32mimport\u001b[0m \u001b[0mTrajectory\u001b[0m\u001b[0;34m\u001b[0m\u001b[0;34m\u001b[0m\u001b[0m\n\u001b[0;32m----> 5\u001b[0;31m     \u001b[0;32mfrom\u001b[0m \u001b[0mmolsysmt\u001b[0m\u001b[0;34m.\u001b[0m\u001b[0mforms\u001b[0m\u001b[0;34m.\u001b[0m\u001b[0mclasses\u001b[0m\u001b[0;34m.\u001b[0m\u001b[0mapi_pdbfixer_PDBFixer\u001b[0m \u001b[0;32mimport\u001b[0m \u001b[0mget_frame_from_atom\u001b[0m\u001b[0;34m\u001b[0m\u001b[0;34m\u001b[0m\u001b[0m\n\u001b[0m\u001b[1;32m      6\u001b[0m     \u001b[0mtmp_item\u001b[0m \u001b[0;34m=\u001b[0m \u001b[0mTrajectory\u001b[0m\u001b[0;34m(\u001b[0m\u001b[0;34m)\u001b[0m\u001b[0;34m\u001b[0m\u001b[0;34m\u001b[0m\u001b[0m\n\u001b[1;32m      7\u001b[0m     \u001b[0m_\u001b[0m\u001b[0;34m,\u001b[0m \u001b[0m_\u001b[0m\u001b[0;34m,\u001b[0m \u001b[0mcoordinates\u001b[0m\u001b[0;34m,\u001b[0m \u001b[0mbox\u001b[0m \u001b[0;34m=\u001b[0m \u001b[0mget_frame_from_atom\u001b[0m\u001b[0;34m(\u001b[0m\u001b[0mitem\u001b[0m\u001b[0;34m,\u001b[0m \u001b[0mindices\u001b[0m\u001b[0;34m=\u001b[0m\u001b[0matom_indices\u001b[0m\u001b[0;34m,\u001b[0m \u001b[0mframe_indices\u001b[0m\u001b[0;34m=\u001b[0m\u001b[0mframe_indices\u001b[0m\u001b[0;34m)\u001b[0m\u001b[0;34m\u001b[0m\u001b[0;34m\u001b[0m\u001b[0m\n",
      "\u001b[0;31mImportError\u001b[0m: cannot import name 'get_frame_from_atom' from 'molsysmt.forms.classes.api_pdbfixer_PDBFixer' (/home/diego/Proyectos/MolSysMT/molsysmt/forms/classes/api_pdbfixer_PDBFixer.py)"
     ]
    }
   ],
   "source": [
    "molecular_system = msm.add_terminal_capping(molecular_system, N_terminal='ACE', C_terminal='NME')"
   ]
  },
  {
   "cell_type": "code",
   "execution_count": 6,
   "metadata": {},
   "outputs": [],
   "source": [
    "aa = msm.convert(msm.demo_systems.files['1tcd.pdb'], to_form='pdbfixer.PDBFixer')"
   ]
  },
  {
   "cell_type": "code",
   "execution_count": null,
   "metadata": {},
   "outputs": [],
   "source": [
    "import numpy as np"
   ]
  },
  {
   "cell_type": "code",
   "execution_count": null,
   "metadata": {},
   "outputs": [],
   "source": [
    "aa.positions.unit"
   ]
  },
  {
   "cell_type": "code",
   "execution_count": null,
   "metadata": {},
   "outputs": [],
   "source": [
    "unit"
   ]
  }
 ],
 "metadata": {
  "kernelspec": {
   "display_name": "Python 3",
   "language": "python",
   "name": "python3"
  },
  "language_info": {
   "codemirror_mode": {
    "name": "ipython",
    "version": 3
   },
   "file_extension": ".py",
   "mimetype": "text/x-python",
   "name": "python",
   "nbconvert_exporter": "python",
   "pygments_lexer": "ipython3",
   "version": "3.7.7"
  }
 },
 "nbformat": 4,
 "nbformat_minor": 4
}
