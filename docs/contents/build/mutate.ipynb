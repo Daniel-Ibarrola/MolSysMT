{
 "cells": [
  {
   "cell_type": "code",
   "execution_count": 1,
   "id": "3a670d73-befa-434d-bf72-b71a6b7f1e1e",
   "metadata": {},
   "outputs": [],
   "source": [
    "%load_ext autoreload\n",
    "%autoreload 2"
   ]
  },
  {
   "cell_type": "code",
   "execution_count": 2,
   "id": "56b1dd6d-6f0d-4ed8-aa6e-c83c706a712b",
   "metadata": {},
   "outputs": [
    {
     "name": "stderr",
     "output_type": "stream",
     "text": [
      "Warning: importing 'simtk.openmm' is deprecated.  Import 'openmm' instead.\n"
     ]
    },
    {
     "data": {
      "application/vnd.jupyter.widget-view+json": {
       "model_id": "ced4238ea2a248b995408362e434e81c",
       "version_major": 2,
       "version_minor": 0
      },
      "text/plain": []
     },
     "metadata": {},
     "output_type": "display_data"
    }
   ],
   "source": [
    "import molsysmt as msm"
   ]
  },
  {
   "cell_type": "markdown",
   "id": "f281984a-077c-4412-8abe-1477a8f39816",
   "metadata": {},
   "source": [
    "# Mutate"
   ]
  },
  {
   "cell_type": "code",
   "execution_count": 3,
   "id": "f6a148d6-189f-49bd-8bfd-02099816010f",
   "metadata": {},
   "outputs": [],
   "source": [
    "molecular_system = msm.demo.classes.metenkephalin(to_form='molsysmt.MolSys')"
   ]
  },
  {
   "cell_type": "code",
   "execution_count": 4,
   "id": "5d3f8462-fd1c-40ef-adfd-d9a2fb8e688b",
   "metadata": {},
   "outputs": [
    {
     "data": {
      "text/plain": [
       "'TyrGlyGlyPheMet'"
      ]
     },
     "execution_count": 4,
     "metadata": {},
     "output_type": "execute_result"
    }
   ],
   "source": [
    "msm.convert(molecular_system, to_form='string:aminoacids3')"
   ]
  },
  {
   "cell_type": "code",
   "execution_count": 12,
   "id": "28910ada-4efc-4a6c-9a72-e6c4b4237bf6",
   "metadata": {},
   "outputs": [],
   "source": [
    "molecular_system = msm.build.mutate(molecular_system, residue_indices=[1,2],\n",
    "                                    to_residue_names=['ALA', 'VAL'])"
   ]
  },
  {
   "cell_type": "code",
   "execution_count": 13,
   "id": "e3b73b6a-9b3b-470a-8062-cf826d0fdd23",
   "metadata": {},
   "outputs": [
    {
     "data": {
      "text/plain": [
       "'TyrAlaValPheMet'"
      ]
     },
     "execution_count": 13,
     "metadata": {},
     "output_type": "execute_result"
    }
   ],
   "source": [
    "msm.convert(molecular_system, to_form='string:aminoacids3')"
   ]
  }
 ],
 "metadata": {
  "kernelspec": {
   "display_name": "Python 3 (ipykernel)",
   "language": "python",
   "name": "python3"
  },
  "language_info": {
   "codemirror_mode": {
    "name": "ipython",
    "version": 3
   },
   "file_extension": ".py",
   "mimetype": "text/x-python",
   "name": "python",
   "nbconvert_exporter": "python",
   "pygments_lexer": "ipython3",
   "version": "3.7.10"
  }
 },
 "nbformat": 4,
 "nbformat_minor": 5
}
