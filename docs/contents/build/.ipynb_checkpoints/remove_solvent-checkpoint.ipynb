{
 "cells": [
  {
   "cell_type": "markdown",
   "id": "0b5e9b08-cb7f-4abd-ac73-39c88fa54b7b",
   "metadata": {},
   "source": [
    "# Remove solvent"
   ]
  },
  {
   "cell_type": "code",
   "execution_count": null,
   "id": "3a431415-e5f8-4cf3-8bf3-038d23edb9eb",
   "metadata": {},
   "outputs": [],
   "source": []
  }
 ],
 "metadata": {
  "kernelspec": {
   "display_name": "Python 3 (ipykernel)",
   "language": "python",
   "name": "python3"
  },
  "language_info": {
   "codemirror_mode": {
    "name": "ipython",
    "version": 3
   },
   "file_extension": ".py",
   "mimetype": "text/x-python",
   "name": "python",
   "nbconvert_exporter": "python",
   "pygments_lexer": "ipython3",
   "version": "3.7.10"
  }
 },
 "nbformat": 4,
 "nbformat_minor": 5
}
