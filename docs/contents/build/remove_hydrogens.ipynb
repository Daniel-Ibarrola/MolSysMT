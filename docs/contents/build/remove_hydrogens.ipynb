{
 "cells": [
  {
   "cell_type": "markdown",
   "id": "3f3fcb83-e0fb-4030-9f88-417c9504b335",
   "metadata": {},
   "source": [
    "# Remove hydrogens"
   ]
  },
  {
   "cell_type": "code",
   "execution_count": null,
   "id": "73b2e016-bae3-4c73-822a-39a651c77ec7",
   "metadata": {},
   "outputs": [],
   "source": []
  }
 ],
 "metadata": {
  "kernelspec": {
   "display_name": "Python 3 (ipykernel)",
   "language": "python",
   "name": "python3"
  },
  "language_info": {
   "codemirror_mode": {
    "name": "ipython",
    "version": 3
   },
   "file_extension": ".py",
   "mimetype": "text/x-python",
   "name": "python",
   "nbconvert_exporter": "python",
   "pygments_lexer": "ipython3",
   "version": "3.7.10"
  }
 },
 "nbformat": 4,
 "nbformat_minor": 5
}
