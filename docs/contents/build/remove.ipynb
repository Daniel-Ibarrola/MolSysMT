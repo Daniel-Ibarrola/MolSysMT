{
 "cells": [
  {
   "cell_type": "code",
   "execution_count": 1,
   "metadata": {},
   "outputs": [],
   "source": [
    "%load_ext autoreload\n",
    "%autoreload 2"
   ]
  },
  {
   "cell_type": "code",
   "execution_count": 2,
   "metadata": {},
   "outputs": [
    {
     "name": "stderr",
     "output_type": "stream",
     "text": [
      "Warning: importing 'simtk.openmm' is deprecated.  Import 'openmm' instead.\n"
     ]
    },
    {
     "data": {
      "application/vnd.jupyter.widget-view+json": {
       "model_id": "932d238168414dfa869967339cffa222",
       "version_major": 2,
       "version_minor": 0
      },
      "text/plain": []
     },
     "metadata": {},
     "output_type": "display_data"
    }
   ],
   "source": [
    "import molsysmt as msm"
   ]
  },
  {
   "cell_type": "markdown",
   "metadata": {},
   "source": [
    "# Removing atoms and frames from a molecular system"
   ]
  },
  {
   "cell_type": "markdown",
   "metadata": {},
   "source": [
    "## Removing frames"
   ]
  },
  {
   "cell_type": "code",
   "execution_count": 3,
   "metadata": {},
   "outputs": [],
   "source": [
    "pdbfile = msm.demo['Trp-Cage']['1l2y.pdb']\n",
    "molecular_system = msm.convert(pdbfile, to_form='molsysmt.Trajectory')"
   ]
  },
  {
   "cell_type": "code",
   "execution_count": 4,
   "metadata": {},
   "outputs": [
    {
     "data": {
      "text/html": [
       "<style type=\"text/css\">\n",
       "</style>\n",
       "<table id=\"T_bc9de_\">\n",
       "  <thead>\n",
       "    <tr>\n",
       "      <th class=\"col_heading level0 col0\" >form</th>\n",
       "      <th class=\"col_heading level0 col1\" >n_atoms</th>\n",
       "      <th class=\"col_heading level0 col2\" >n_groups</th>\n",
       "      <th class=\"col_heading level0 col3\" >n_components</th>\n",
       "      <th class=\"col_heading level0 col4\" >n_chains</th>\n",
       "      <th class=\"col_heading level0 col5\" >n_molecules</th>\n",
       "      <th class=\"col_heading level0 col6\" >n_entities</th>\n",
       "      <th class=\"col_heading level0 col7\" >n_frames</th>\n",
       "    </tr>\n",
       "  </thead>\n",
       "  <tbody>\n",
       "    <tr>\n",
       "      <td id=\"T_bc9de_row0_col0\" class=\"data row0 col0\" >molsysmt.Trajectory</td>\n",
       "      <td id=\"T_bc9de_row0_col1\" class=\"data row0 col1\" >304</td>\n",
       "      <td id=\"T_bc9de_row0_col2\" class=\"data row0 col2\" >None</td>\n",
       "      <td id=\"T_bc9de_row0_col3\" class=\"data row0 col3\" >None</td>\n",
       "      <td id=\"T_bc9de_row0_col4\" class=\"data row0 col4\" >None</td>\n",
       "      <td id=\"T_bc9de_row0_col5\" class=\"data row0 col5\" >None</td>\n",
       "      <td id=\"T_bc9de_row0_col6\" class=\"data row0 col6\" >None</td>\n",
       "      <td id=\"T_bc9de_row0_col7\" class=\"data row0 col7\" >38</td>\n",
       "    </tr>\n",
       "  </tbody>\n",
       "</table>\n"
      ],
      "text/plain": [
       "<pandas.io.formats.style.Styler at 0x7fe66d5de750>"
      ]
     },
     "execution_count": 4,
     "metadata": {},
     "output_type": "execute_result"
    }
   ],
   "source": [
    "msm.info(molecular_system)"
   ]
  },
  {
   "cell_type": "code",
   "execution_count": 5,
   "metadata": {},
   "outputs": [],
   "source": [
    "molecular_system_trimmed = msm.remove(molecular_system, frame_indices=range(1,38))"
   ]
  },
  {
   "cell_type": "code",
   "execution_count": 6,
   "metadata": {},
   "outputs": [
    {
     "data": {
      "text/html": [
       "<style type=\"text/css\">\n",
       "</style>\n",
       "<table id=\"T_98da8_\">\n",
       "  <thead>\n",
       "    <tr>\n",
       "      <th class=\"col_heading level0 col0\" >form</th>\n",
       "      <th class=\"col_heading level0 col1\" >n_atoms</th>\n",
       "      <th class=\"col_heading level0 col2\" >n_groups</th>\n",
       "      <th class=\"col_heading level0 col3\" >n_components</th>\n",
       "      <th class=\"col_heading level0 col4\" >n_chains</th>\n",
       "      <th class=\"col_heading level0 col5\" >n_molecules</th>\n",
       "      <th class=\"col_heading level0 col6\" >n_entities</th>\n",
       "      <th class=\"col_heading level0 col7\" >n_frames</th>\n",
       "    </tr>\n",
       "  </thead>\n",
       "  <tbody>\n",
       "    <tr>\n",
       "      <td id=\"T_98da8_row0_col0\" class=\"data row0 col0\" >molsysmt.Trajectory</td>\n",
       "      <td id=\"T_98da8_row0_col1\" class=\"data row0 col1\" >304</td>\n",
       "      <td id=\"T_98da8_row0_col2\" class=\"data row0 col2\" >None</td>\n",
       "      <td id=\"T_98da8_row0_col3\" class=\"data row0 col3\" >None</td>\n",
       "      <td id=\"T_98da8_row0_col4\" class=\"data row0 col4\" >None</td>\n",
       "      <td id=\"T_98da8_row0_col5\" class=\"data row0 col5\" >None</td>\n",
       "      <td id=\"T_98da8_row0_col6\" class=\"data row0 col6\" >None</td>\n",
       "      <td id=\"T_98da8_row0_col7\" class=\"data row0 col7\" >1</td>\n",
       "    </tr>\n",
       "  </tbody>\n",
       "</table>\n"
      ],
      "text/plain": [
       "<pandas.io.formats.style.Styler at 0x7fe64a17b810>"
      ]
     },
     "execution_count": 6,
     "metadata": {},
     "output_type": "execute_result"
    }
   ],
   "source": [
    "msm.info(molecular_system_trimmed)"
   ]
  },
  {
   "cell_type": "markdown",
   "metadata": {},
   "source": [
    "## Removing atoms"
   ]
  },
  {
   "cell_type": "code",
   "execution_count": 7,
   "metadata": {},
   "outputs": [],
   "source": [
    "pdbfile = msm.demo['TcTIM']['1tcd.pdb']\n",
    "molecular_system = msm.convert(pdbfile)"
   ]
  },
  {
   "cell_type": "code",
   "execution_count": 8,
   "metadata": {},
   "outputs": [
    {
     "data": {
      "text/html": [
       "<style type=\"text/css\">\n",
       "</style>\n",
       "<table id=\"T_67fc2_\">\n",
       "  <thead>\n",
       "    <tr>\n",
       "      <th class=\"col_heading level0 col0\" >form</th>\n",
       "      <th class=\"col_heading level0 col1\" >n_atoms</th>\n",
       "      <th class=\"col_heading level0 col2\" >n_groups</th>\n",
       "      <th class=\"col_heading level0 col3\" >n_components</th>\n",
       "      <th class=\"col_heading level0 col4\" >n_chains</th>\n",
       "      <th class=\"col_heading level0 col5\" >n_molecules</th>\n",
       "      <th class=\"col_heading level0 col6\" >n_entities</th>\n",
       "      <th class=\"col_heading level0 col7\" >n_waters</th>\n",
       "      <th class=\"col_heading level0 col8\" >n_proteins</th>\n",
       "      <th class=\"col_heading level0 col9\" >n_frames</th>\n",
       "    </tr>\n",
       "  </thead>\n",
       "  <tbody>\n",
       "    <tr>\n",
       "      <td id=\"T_67fc2_row0_col0\" class=\"data row0 col0\" >molsysmt.MolSys</td>\n",
       "      <td id=\"T_67fc2_row0_col1\" class=\"data row0 col1\" >3983</td>\n",
       "      <td id=\"T_67fc2_row0_col2\" class=\"data row0 col2\" >662</td>\n",
       "      <td id=\"T_67fc2_row0_col3\" class=\"data row0 col3\" >167</td>\n",
       "      <td id=\"T_67fc2_row0_col4\" class=\"data row0 col4\" >4</td>\n",
       "      <td id=\"T_67fc2_row0_col5\" class=\"data row0 col5\" >167</td>\n",
       "      <td id=\"T_67fc2_row0_col6\" class=\"data row0 col6\" >3</td>\n",
       "      <td id=\"T_67fc2_row0_col7\" class=\"data row0 col7\" >165</td>\n",
       "      <td id=\"T_67fc2_row0_col8\" class=\"data row0 col8\" >2</td>\n",
       "      <td id=\"T_67fc2_row0_col9\" class=\"data row0 col9\" >1</td>\n",
       "    </tr>\n",
       "  </tbody>\n",
       "</table>\n"
      ],
      "text/plain": [
       "<pandas.io.formats.style.Styler at 0x7fe648a12c90>"
      ]
     },
     "execution_count": 8,
     "metadata": {},
     "output_type": "execute_result"
    }
   ],
   "source": [
    "msm.info(molecular_system)"
   ]
  },
  {
   "cell_type": "code",
   "execution_count": 9,
   "metadata": {},
   "outputs": [],
   "source": [
    "molecular_system_trimmed = msm.remove(molecular_system, selection='chain_index==[1,2,3]')"
   ]
  },
  {
   "cell_type": "code",
   "execution_count": 10,
   "metadata": {},
   "outputs": [
    {
     "data": {
      "text/html": [
       "<style type=\"text/css\">\n",
       "</style>\n",
       "<table id=\"T_f063c_\">\n",
       "  <thead>\n",
       "    <tr>\n",
       "      <th class=\"col_heading level0 col0\" >form</th>\n",
       "      <th class=\"col_heading level0 col1\" >n_atoms</th>\n",
       "      <th class=\"col_heading level0 col2\" >n_groups</th>\n",
       "      <th class=\"col_heading level0 col3\" >n_components</th>\n",
       "      <th class=\"col_heading level0 col4\" >n_chains</th>\n",
       "      <th class=\"col_heading level0 col5\" >n_molecules</th>\n",
       "      <th class=\"col_heading level0 col6\" >n_entities</th>\n",
       "      <th class=\"col_heading level0 col7\" >n_proteins</th>\n",
       "      <th class=\"col_heading level0 col8\" >n_frames</th>\n",
       "    </tr>\n",
       "  </thead>\n",
       "  <tbody>\n",
       "    <tr>\n",
       "      <td id=\"T_f063c_row0_col0\" class=\"data row0 col0\" >molsysmt.MolSys</td>\n",
       "      <td id=\"T_f063c_row0_col1\" class=\"data row0 col1\" >1906</td>\n",
       "      <td id=\"T_f063c_row0_col2\" class=\"data row0 col2\" >248</td>\n",
       "      <td id=\"T_f063c_row0_col3\" class=\"data row0 col3\" >1</td>\n",
       "      <td id=\"T_f063c_row0_col4\" class=\"data row0 col4\" >1</td>\n",
       "      <td id=\"T_f063c_row0_col5\" class=\"data row0 col5\" >1</td>\n",
       "      <td id=\"T_f063c_row0_col6\" class=\"data row0 col6\" >1</td>\n",
       "      <td id=\"T_f063c_row0_col7\" class=\"data row0 col7\" >1</td>\n",
       "      <td id=\"T_f063c_row0_col8\" class=\"data row0 col8\" >1</td>\n",
       "    </tr>\n",
       "  </tbody>\n",
       "</table>\n"
      ],
      "text/plain": [
       "<pandas.io.formats.style.Styler at 0x7fe66d5de0d0>"
      ]
     },
     "execution_count": 10,
     "metadata": {},
     "output_type": "execute_result"
    }
   ],
   "source": [
    "msm.info(molecular_system_trimmed)"
   ]
  },
  {
   "cell_type": "markdown",
   "metadata": {},
   "source": [
    "## Removing hydrogen atoms"
   ]
  },
  {
   "cell_type": "code",
   "execution_count": 11,
   "metadata": {},
   "outputs": [
    {
     "name": "stderr",
     "output_type": "stream",
     "text": [
      "/home/diego/Myopt/miniconda3/envs/MolSysMT/lib/python3.7/site-packages/mdtraj/formats/pdb/pdbfile.py:198: UserWarning: Unlikely unit cell vectors detected in PDB file likely resulting from a dummy CRYST1 record. Discarding unit cell vectors.\n",
      "  'cell vectors.', category=UserWarning)\n"
     ]
    }
   ],
   "source": [
    "pdbfile = msm.demo['Trp-Cage']['1l2y.pdb']\n",
    "molecular_system = msm.convert(pdbfile, frame_indices=0)"
   ]
  },
  {
   "cell_type": "code",
   "execution_count": 12,
   "metadata": {},
   "outputs": [
    {
     "name": "stdout",
     "output_type": "stream",
     "text": [
      "150 hydrogen atoms in the system\n"
     ]
    }
   ],
   "source": [
    "n_Hs = msm.get(molecular_system, selection='atom_type==\"H\"', n_atoms=True)\n",
    "print('{} hydrogen atoms in the system'.format(n_Hs))"
   ]
  },
  {
   "cell_type": "code",
   "execution_count": 13,
   "metadata": {},
   "outputs": [],
   "source": [
    "molecular_system = msm.build.remove_hydrogens(molecular_system)"
   ]
  },
  {
   "cell_type": "code",
   "execution_count": 14,
   "metadata": {},
   "outputs": [
    {
     "name": "stdout",
     "output_type": "stream",
     "text": [
      "0 hydrogen atoms in the system\n"
     ]
    }
   ],
   "source": [
    "n_Hs = msm.get(molecular_system, selection='atom_type==\"H\"', n_atoms=True)\n",
    "print('{} hydrogen atoms in the system'.format(n_Hs))"
   ]
  },
  {
   "cell_type": "markdown",
   "metadata": {},
   "source": [
    "## Removing the solvent"
   ]
  },
  {
   "cell_type": "code",
   "execution_count": 16,
   "metadata": {},
   "outputs": [],
   "source": [
    "molecular_system = msm.demo['chicken villin HP35']['solvated.msmpk']\n",
    "molecular_system = msm.convert(molecular_system)"
   ]
  },
  {
   "cell_type": "code",
   "execution_count": 17,
   "metadata": {},
   "outputs": [
    {
     "data": {
      "text/html": [
       "<style type=\"text/css\">\n",
       "</style>\n",
       "<table id=\"T_3ac66_\">\n",
       "  <thead>\n",
       "    <tr>\n",
       "      <th class=\"col_heading level0 col0\" >form</th>\n",
       "      <th class=\"col_heading level0 col1\" >n_atoms</th>\n",
       "      <th class=\"col_heading level0 col2\" >n_groups</th>\n",
       "      <th class=\"col_heading level0 col3\" >n_components</th>\n",
       "      <th class=\"col_heading level0 col4\" >n_chains</th>\n",
       "      <th class=\"col_heading level0 col5\" >n_molecules</th>\n",
       "      <th class=\"col_heading level0 col6\" >n_entities</th>\n",
       "      <th class=\"col_heading level0 col7\" >n_waters</th>\n",
       "      <th class=\"col_heading level0 col8\" >n_ions</th>\n",
       "      <th class=\"col_heading level0 col9\" >n_peptides</th>\n",
       "      <th class=\"col_heading level0 col10\" >n_frames</th>\n",
       "    </tr>\n",
       "  </thead>\n",
       "  <tbody>\n",
       "    <tr>\n",
       "      <td id=\"T_3ac66_row0_col0\" class=\"data row0 col0\" >molsysmt.MolSys</td>\n",
       "      <td id=\"T_3ac66_row0_col1\" class=\"data row0 col1\" >5104</td>\n",
       "      <td id=\"T_3ac66_row0_col2\" class=\"data row0 col2\" >1539</td>\n",
       "      <td id=\"T_3ac66_row0_col3\" class=\"data row0 col3\" >1502</td>\n",
       "      <td id=\"T_3ac66_row0_col4\" class=\"data row0 col4\" >3</td>\n",
       "      <td id=\"T_3ac66_row0_col5\" class=\"data row0 col5\" >1502</td>\n",
       "      <td id=\"T_3ac66_row0_col6\" class=\"data row0 col6\" >3</td>\n",
       "      <td id=\"T_3ac66_row0_col7\" class=\"data row0 col7\" >1499</td>\n",
       "      <td id=\"T_3ac66_row0_col8\" class=\"data row0 col8\" >2</td>\n",
       "      <td id=\"T_3ac66_row0_col9\" class=\"data row0 col9\" >1</td>\n",
       "      <td id=\"T_3ac66_row0_col10\" class=\"data row0 col10\" >1</td>\n",
       "    </tr>\n",
       "  </tbody>\n",
       "</table>\n"
      ],
      "text/plain": [
       "<pandas.io.formats.style.Styler at 0x7fe649b0ac90>"
      ]
     },
     "execution_count": 17,
     "metadata": {},
     "output_type": "execute_result"
    }
   ],
   "source": [
    "msm.info(molecular_system)"
   ]
  },
  {
   "cell_type": "code",
   "execution_count": 18,
   "metadata": {},
   "outputs": [],
   "source": [
    "molecular_system = msm.build.remove_solvent(molecular_system)"
   ]
  },
  {
   "cell_type": "code",
   "execution_count": 19,
   "metadata": {},
   "outputs": [
    {
     "data": {
      "text/html": [
       "<style type=\"text/css\">\n",
       "</style>\n",
       "<table id=\"T_ce766_\">\n",
       "  <thead>\n",
       "    <tr>\n",
       "      <th class=\"col_heading level0 col0\" >form</th>\n",
       "      <th class=\"col_heading level0 col1\" >n_atoms</th>\n",
       "      <th class=\"col_heading level0 col2\" >n_groups</th>\n",
       "      <th class=\"col_heading level0 col3\" >n_components</th>\n",
       "      <th class=\"col_heading level0 col4\" >n_chains</th>\n",
       "      <th class=\"col_heading level0 col5\" >n_molecules</th>\n",
       "      <th class=\"col_heading level0 col6\" >n_entities</th>\n",
       "      <th class=\"col_heading level0 col7\" >n_peptides</th>\n",
       "      <th class=\"col_heading level0 col8\" >n_frames</th>\n",
       "    </tr>\n",
       "  </thead>\n",
       "  <tbody>\n",
       "    <tr>\n",
       "      <td id=\"T_ce766_row0_col0\" class=\"data row0 col0\" >molsysmt.MolSys</td>\n",
       "      <td id=\"T_ce766_row0_col1\" class=\"data row0 col1\" >605</td>\n",
       "      <td id=\"T_ce766_row0_col2\" class=\"data row0 col2\" >38</td>\n",
       "      <td id=\"T_ce766_row0_col3\" class=\"data row0 col3\" >1</td>\n",
       "      <td id=\"T_ce766_row0_col4\" class=\"data row0 col4\" >1</td>\n",
       "      <td id=\"T_ce766_row0_col5\" class=\"data row0 col5\" >1</td>\n",
       "      <td id=\"T_ce766_row0_col6\" class=\"data row0 col6\" >1</td>\n",
       "      <td id=\"T_ce766_row0_col7\" class=\"data row0 col7\" >1</td>\n",
       "      <td id=\"T_ce766_row0_col8\" class=\"data row0 col8\" >1</td>\n",
       "    </tr>\n",
       "  </tbody>\n",
       "</table>\n"
      ],
      "text/plain": [
       "<pandas.io.formats.style.Styler at 0x7fe64aec2190>"
      ]
     },
     "execution_count": 19,
     "metadata": {},
     "output_type": "execute_result"
    }
   ],
   "source": [
    "msm.info(molecular_system)"
   ]
  },
  {
   "cell_type": "code",
   "execution_count": null,
   "metadata": {},
   "outputs": [],
   "source": []
  }
 ],
 "metadata": {
  "kernelspec": {
   "display_name": "Python 3 (ipykernel)",
   "language": "python",
   "name": "python3"
  },
  "language_info": {
   "codemirror_mode": {
    "name": "ipython",
    "version": 3
   },
   "file_extension": ".py",
   "mimetype": "text/x-python",
   "name": "python",
   "nbconvert_exporter": "python",
   "pygments_lexer": "ipython3",
   "version": "3.7.10"
  }
 },
 "nbformat": 4,
 "nbformat_minor": 4
}
