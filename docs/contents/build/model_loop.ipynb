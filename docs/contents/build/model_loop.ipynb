{
 "cells": [
  {
   "cell_type": "code",
   "execution_count": 1,
   "id": "7a5b75a7-b6af-4554-a840-1da5bf1b6806",
   "metadata": {},
   "outputs": [],
   "source": [
    "%load_ext autoreload\n",
    "%autoreload 2"
   ]
  },
  {
   "cell_type": "code",
   "execution_count": 2,
   "id": "eef33f08-2391-455d-bcfc-34f6c07a64f2",
   "metadata": {},
   "outputs": [
    {
     "name": "stderr",
     "output_type": "stream",
     "text": [
      "Warning: importing 'simtk.openmm' is deprecated.  Import 'openmm' instead.\n"
     ]
    },
    {
     "data": {
      "application/vnd.jupyter.widget-view+json": {
       "model_id": "6b2376a8b4794f8388ad39699643c465",
       "version_major": 2,
       "version_minor": 0
      },
      "text/plain": []
     },
     "metadata": {},
     "output_type": "display_data"
    }
   ],
   "source": [
    "import molsysmt as msm"
   ]
  },
  {
   "cell_type": "markdown",
   "id": "60f72ddf-e62a-457d-a73e-facbbda155bb",
   "metadata": {},
   "source": [
    "# Model loop"
   ]
  },
  {
   "cell_type": "code",
   "execution_count": 3,
   "id": "b60b5ffc-64f8-4d27-a3fc-ce6bc9a7a5ab",
   "metadata": {},
   "outputs": [
    {
     "name": "stderr",
     "output_type": "stream",
     "text": [
      "/home/diego/projects/molsysmt/molsysmt/native/io/topology/classes/mmtf_MMTFDecoder.py:43: UserWarning: The structure in the PDB has biological assemblies. There are geometrical transformations proposed in the structure. See the following issue in the source code repository: https://github.com/uibcdf/MolSysMT/issues/33\n",
      "  warnings.warn(warning_message)\n"
     ]
    }
   ],
   "source": [
    "molecular_system = msm.convert('pdbid:1az5', to_form='molsysmt.MolSys')"
   ]
  },
  {
   "cell_type": "code",
   "execution_count": 4,
   "id": "461aa089-d5e9-40ee-bb6c-54bb5ae44f9c",
   "metadata": {},
   "outputs": [],
   "source": [
    "molecular_system = msm.build.remove_solvent(molecular_system)"
   ]
  },
  {
   "cell_type": "code",
   "execution_count": 5,
   "id": "66b5cb90-970c-496c-9222-cbe8bf90b7f2",
   "metadata": {},
   "outputs": [
    {
     "data": {
      "text/html": [
       "<style type=\"text/css\">\n",
       "</style>\n",
       "<table id=\"T_4e5ea_\">\n",
       "  <thead>\n",
       "    <tr>\n",
       "      <th class=\"col_heading level0 col0\" >form</th>\n",
       "      <th class=\"col_heading level0 col1\" >n_atoms</th>\n",
       "      <th class=\"col_heading level0 col2\" >n_groups</th>\n",
       "      <th class=\"col_heading level0 col3\" >n_components</th>\n",
       "      <th class=\"col_heading level0 col4\" >n_chains</th>\n",
       "      <th class=\"col_heading level0 col5\" >n_molecules</th>\n",
       "      <th class=\"col_heading level0 col6\" >n_entities</th>\n",
       "      <th class=\"col_heading level0 col7\" >n_proteins</th>\n",
       "      <th class=\"col_heading level0 col8\" >n_frames</th>\n",
       "    </tr>\n",
       "  </thead>\n",
       "  <tbody>\n",
       "    <tr>\n",
       "      <td id=\"T_4e5ea_row0_col0\" class=\"data row0 col0\" >molsysmt.MolSys</td>\n",
       "      <td id=\"T_4e5ea_row0_col1\" class=\"data row0 col1\" >883</td>\n",
       "      <td id=\"T_4e5ea_row0_col2\" class=\"data row0 col2\" >95</td>\n",
       "      <td id=\"T_4e5ea_row0_col3\" class=\"data row0 col3\" >4</td>\n",
       "      <td id=\"T_4e5ea_row0_col4\" class=\"data row0 col4\" >1</td>\n",
       "      <td id=\"T_4e5ea_row0_col5\" class=\"data row0 col5\" >1</td>\n",
       "      <td id=\"T_4e5ea_row0_col6\" class=\"data row0 col6\" >1</td>\n",
       "      <td id=\"T_4e5ea_row0_col7\" class=\"data row0 col7\" >1</td>\n",
       "      <td id=\"T_4e5ea_row0_col8\" class=\"data row0 col8\" >1</td>\n",
       "    </tr>\n",
       "  </tbody>\n",
       "</table>\n"
      ],
      "text/plain": [
       "<pandas.io.formats.style.Styler at 0x7ff43c09e110>"
      ]
     },
     "execution_count": 5,
     "metadata": {},
     "output_type": "execute_result"
    }
   ],
   "source": [
    "msm.info(molecular_system)"
   ]
  },
  {
   "cell_type": "code",
   "execution_count": 6,
   "id": "d3d2cf73-bbd9-4765-b182-969d7260ede1",
   "metadata": {},
   "outputs": [
    {
     "data": {
      "application/vnd.jupyter.widget-view+json": {
       "model_id": "a2751bc7e2ce4caaacd168a84adc30b6",
       "version_major": 2,
       "version_minor": 0
      },
      "text/plain": [
       "NGLWidget()"
      ]
     },
     "metadata": {},
     "output_type": "display_data"
    }
   ],
   "source": [
    "msm.view(molecular_system)"
   ]
  },
  {
   "cell_type": "code",
   "execution_count": 7,
   "id": "9a1d9f61-b36b-4472-8117-f2a37e7caf07",
   "metadata": {},
   "outputs": [
    {
     "data": {
      "text/plain": [
       "'PQFHLWKRPVVTAHIEGQPVEVLLDTGADDSIVTGIELGPHYTPKIVGFINTKEYKNVEVEVLGKRIKGTIMTGDTPINIFGRNLLTALGMSLNF'"
      ]
     },
     "execution_count": 7,
     "metadata": {},
     "output_type": "execute_result"
    }
   ],
   "source": [
    "msm.convert(molecular_system, to_form='string:aminoacids1')"
   ]
  },
  {
   "cell_type": "code",
   "execution_count": 8,
   "id": "9184459a-3f19-4719-8eff-673699e00e99",
   "metadata": {},
   "outputs": [],
   "source": [
    "target='PQFHLWKRPVVTAHIEGQPVEVLLDTGADDSIVTGIELGPHYTPKIVGGIGGFINTKEYKNVEVEVLGKRIKGTIMTGDTPINIFGRNLLTALGMSLNF'"
   ]
  },
  {
   "cell_type": "code",
   "execution_count": 9,
   "id": "98015abe-35b9-45ec-9e3a-7426f145bcfd",
   "metadata": {},
   "outputs": [
    {
     "ename": "ModellerError",
     "evalue": "check_lice_E> Invalid license key: XXXX\nGo to https://salilab.org/modeller/ to get a license key,\nand then set the 'license' variable to it in the file\n/home/diego/MyMachine/locals/miniconda/envs/MolSysMT/lib/modeller-9.20/modlib/modeller/config.py\n",
     "output_type": "error",
     "traceback": [
      "\u001b[0;31m---------------------------------------------------------------------------\u001b[0m",
      "\u001b[0;31mModellerError\u001b[0m                             Traceback (most recent call last)",
      "\u001b[0;32m/tmp/ipykernel_107530/1640536393.py\u001b[0m in \u001b[0;36m<module>\u001b[0;34m\u001b[0m\n\u001b[0;32m----> 1\u001b[0;31m \u001b[0mmsm\u001b[0m\u001b[0;34m.\u001b[0m\u001b[0mbuild\u001b[0m\u001b[0;34m.\u001b[0m\u001b[0mmodel_loop\u001b[0m\u001b[0;34m(\u001b[0m\u001b[0mmolecular_system\u001b[0m\u001b[0;34m,\u001b[0m \u001b[0mtarget_sequence\u001b[0m\u001b[0;34m=\u001b[0m\u001b[0mtarget\u001b[0m\u001b[0;34m)\u001b[0m\u001b[0;34m\u001b[0m\u001b[0;34m\u001b[0m\u001b[0m\n\u001b[0m",
      "\u001b[0;32m~/projects/molsysmt/molsysmt/build/model_loop.py\u001b[0m in \u001b[0;36mmodel_loop\u001b[0;34m(item, target_sequence, finesse, engine, verbose)\u001b[0m\n\u001b[1;32m      9\u001b[0m         \u001b[0;32mfrom\u001b[0m \u001b[0mos\u001b[0m \u001b[0;32mimport\u001b[0m \u001b[0mlistdir\u001b[0m\u001b[0;34m\u001b[0m\u001b[0;34m\u001b[0m\u001b[0m\n\u001b[1;32m     10\u001b[0m         \u001b[0;32mfrom\u001b[0m \u001b[0mglob\u001b[0m \u001b[0;32mimport\u001b[0m \u001b[0mglob\u001b[0m\u001b[0;34m\u001b[0m\u001b[0;34m\u001b[0m\u001b[0m\n\u001b[0;32m---> 11\u001b[0;31m         \u001b[0;32mimport\u001b[0m \u001b[0mmodeller\u001b[0m \u001b[0;32mas\u001b[0m \u001b[0mmodeller\u001b[0m\u001b[0;34m\u001b[0m\u001b[0;34m\u001b[0m\u001b[0m\n\u001b[0m\u001b[1;32m     12\u001b[0m         \u001b[0;32mimport\u001b[0m \u001b[0mmodeller\u001b[0m\u001b[0;34m.\u001b[0m\u001b[0mautomodel\u001b[0m \u001b[0;32mas\u001b[0m \u001b[0mautomodel\u001b[0m\u001b[0;34m\u001b[0m\u001b[0;34m\u001b[0m\u001b[0m\n\u001b[1;32m     13\u001b[0m         \u001b[0;32mfrom\u001b[0m \u001b[0mmolsysmt\u001b[0m\u001b[0;34m.\u001b[0m\u001b[0mbasic\u001b[0m \u001b[0;32mimport\u001b[0m \u001b[0mget_form\u001b[0m\u001b[0;34m,\u001b[0m \u001b[0mget\u001b[0m\u001b[0;34m,\u001b[0m \u001b[0mset\u001b[0m\u001b[0;34m\u001b[0m\u001b[0;34m\u001b[0m\u001b[0m\n",
      "\u001b[0;32m~/MyMachine/locals/miniconda/envs/MolSysMT/lib/python3.7/site-packages/modeller/__init__.py\u001b[0m in \u001b[0;36m<module>\u001b[0;34m\u001b[0m\n\u001b[1;32m     97\u001b[0m     \u001b[0m_modeller\u001b[0m\u001b[0;34m.\u001b[0m\u001b[0mmod_install_dir_set\u001b[0m\u001b[0;34m(\u001b[0m\u001b[0mconfig\u001b[0m\u001b[0;34m.\u001b[0m\u001b[0minstall_dir\u001b[0m\u001b[0;34m)\u001b[0m\u001b[0;34m\u001b[0m\u001b[0;34m\u001b[0m\u001b[0m\n\u001b[1;32m     98\u001b[0m \u001b[0;34m\u001b[0m\u001b[0m\n\u001b[0;32m---> 99\u001b[0;31m \u001b[0m_modeller\u001b[0m\u001b[0;34m.\u001b[0m\u001b[0mmod_start\u001b[0m\u001b[0;34m(\u001b[0m\u001b[0;34m)\u001b[0m\u001b[0;34m\u001b[0m\u001b[0;34m\u001b[0m\u001b[0m\n\u001b[0m\u001b[1;32m    100\u001b[0m \u001b[0m__version__\u001b[0m \u001b[0;34m=\u001b[0m \u001b[0m_modeller\u001b[0m\u001b[0;34m.\u001b[0m\u001b[0mmod_short_version_get\u001b[0m\u001b[0;34m(\u001b[0m\u001b[0;34m)\u001b[0m\u001b[0;34m\u001b[0m\u001b[0;34m\u001b[0m\u001b[0m\n\u001b[1;32m    101\u001b[0m \u001b[0;34m\u001b[0m\u001b[0m\n",
      "\u001b[0;31mModellerError\u001b[0m: check_lice_E> Invalid license key: XXXX\nGo to https://salilab.org/modeller/ to get a license key,\nand then set the 'license' variable to it in the file\n/home/diego/MyMachine/locals/miniconda/envs/MolSysMT/lib/modeller-9.20/modlib/modeller/config.py\n"
     ]
    }
   ],
   "source": [
    "msm.build.model_loop(molecular_system, target_sequence=target)"
   ]
  },
  {
   "cell_type": "code",
   "execution_count": null,
   "id": "040ea925-deb4-412c-8629-ccf866656dfd",
   "metadata": {},
   "outputs": [],
   "source": [
    "msm.topology.get_sequence_alignment(molecular_system, reference_molecular_system=target, prettyprint=True)"
   ]
  },
  {
   "cell_type": "code",
   "execution_count": null,
   "id": "94f862fd-c0be-46c6-b40d-e1ec8d4e281e",
   "metadata": {},
   "outputs": [],
   "source": []
  }
 ],
 "metadata": {
  "kernelspec": {
   "display_name": "Python 3 (ipykernel)",
   "language": "python",
   "name": "python3"
  },
  "language_info": {
   "codemirror_mode": {
    "name": "ipython",
    "version": 3
   },
   "file_extension": ".py",
   "mimetype": "text/x-python",
   "name": "python",
   "nbconvert_exporter": "python",
   "pygments_lexer": "ipython3",
   "version": "3.7.10"
  }
 },
 "nbformat": 4,
 "nbformat_minor": 5
}
