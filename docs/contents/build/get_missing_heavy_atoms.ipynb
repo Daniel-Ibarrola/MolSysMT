{
 "cells": [
  {
   "cell_type": "code",
   "execution_count": 1,
   "id": "1c11382e-f67d-466e-aee6-5725b4200a69",
   "metadata": {},
   "outputs": [],
   "source": [
    "%load_ext autoreload\n",
    "%autoreload 2"
   ]
  },
  {
   "cell_type": "code",
   "execution_count": 2,
   "id": "3775837e-62a7-4079-9661-372cc4563718",
   "metadata": {},
   "outputs": [
    {
     "name": "stderr",
     "output_type": "stream",
     "text": [
      "Warning: importing 'simtk.openmm' is deprecated.  Import 'openmm' instead.\n"
     ]
    },
    {
     "data": {
      "application/vnd.jupyter.widget-view+json": {
       "model_id": "076c47bf540e48b9926894558561c6e1",
       "version_major": 2,
       "version_minor": 0
      },
      "text/plain": []
     },
     "metadata": {},
     "output_type": "display_data"
    }
   ],
   "source": [
    "import molsysmt as msm"
   ]
  },
  {
   "cell_type": "markdown",
   "id": "2f6cd114-c906-428f-b51f-3f7ff6267132",
   "metadata": {},
   "source": [
    "# Get missing heavy atoms"
   ]
  },
  {
   "cell_type": "code",
   "execution_count": 3,
   "id": "36127e9e-6811-4c65-bf88-b51c121b5265",
   "metadata": {},
   "outputs": [
    {
     "name": "stdout",
     "output_type": "stream",
     "text": [
      "The bioassembly has a different number of chains than the total amount of chains\n"
     ]
    },
    {
     "name": "stderr",
     "output_type": "stream",
     "text": [
      "/home/diego/projects/molsysmt/molsysmt/native/io/topology/classes/mmtf_MMTFDecoder.py:27: UserWarning: The structure in the PDB has biological assemblies. There are geometrical transformations proposed in the structure. See the following issue in the source code repository: https://github.com/uibcdf/MolSysMT/issues/33\n",
      "  warnings.warn(warning_message)\n",
      "/home/diego/projects/molsysmt/molsysmt/native/io/topology/classes/mmtf_MMTFDecoder.py:42: UserWarning: The bioassembly has a different number of chains than the total amount of chains\n",
      "  warnings.warn(warning_message)\n"
     ]
    }
   ],
   "source": [
    "molecular_system = msm.convert('pdbid:1brs', to_form='molsysmt.MolSys')"
   ]
  },
  {
   "cell_type": "code",
   "execution_count": 5,
   "id": "541d27db-2f44-4694-bb8e-a3434e236f3e",
   "metadata": {},
   "outputs": [],
   "source": [
    "aa = msm.convert(molecular_system, to_form='pdbfixer.PDBFixer')"
   ]
  },
  {
   "cell_type": "code",
   "execution_count": 8,
   "id": "8d5cd7e6-c5da-4358-9387-1d1377c44953",
   "metadata": {},
   "outputs": [],
   "source": [
    "aa.findMissingResidues()"
   ]
  },
  {
   "cell_type": "code",
   "execution_count": 9,
   "id": "3d820bf8-17ff-496e-b28f-e754d1d7932c",
   "metadata": {},
   "outputs": [],
   "source": [
    "aa.findMissingAtoms()"
   ]
  },
  {
   "cell_type": "code",
   "execution_count": 13,
   "id": "6f86ec37-6b0d-4f7e-ac29-4090e99cd04b",
   "metadata": {},
   "outputs": [],
   "source": [
    "aa.findNonstandardResidues()"
   ]
  },
  {
   "cell_type": "code",
   "execution_count": 14,
   "id": "e25d7aa3-cee0-4896-bdc2-3301623dc485",
   "metadata": {},
   "outputs": [
    {
     "data": {
      "text/plain": [
       "[]"
      ]
     },
     "execution_count": 14,
     "metadata": {},
     "output_type": "execute_result"
    }
   ],
   "source": [
    "aa.nonstandardResidues"
   ]
  },
  {
   "cell_type": "code",
   "execution_count": 15,
   "id": "61af2172-9b1e-431a-9e6d-ebe9f2b11312",
   "metadata": {},
   "outputs": [
    {
     "data": {
      "text/plain": [
       "{<Residue 234 (LYS) of chain 2>: [<Atom 3 (CG) of chain 0 residue 0 (LYS)>,\n",
       "  <Atom 4 (CD) of chain 0 residue 0 (LYS)>,\n",
       "  <Atom 5 (CE) of chain 0 residue 0 (LYS)>,\n",
       "  <Atom 6 (NZ) of chain 0 residue 0 (LYS)>],\n",
       " <Residue 237 (ASP) of chain 2>: [<Atom 3 (CG) of chain 0 residue 0 (ASP)>,\n",
       "  <Atom 4 (OD1) of chain 0 residue 0 (ASP)>,\n",
       "  <Atom 5 (OD2) of chain 0 residue 0 (ASP)>],\n",
       " <Residue 244 (GLU) of chain 2>: [<Atom 4 (CD) of chain 0 residue 0 (GLU)>,\n",
       "  <Atom 5 (OE1) of chain 0 residue 0 (GLU)>,\n",
       "  <Atom 6 (OE2) of chain 0 residue 0 (GLU)>],\n",
       " <Residue 246 (GLN) of chain 2>: [<Atom 3 (CG) of chain 0 residue 0 (GLN)>,\n",
       "  <Atom 4 (CD) of chain 0 residue 0 (GLN)>,\n",
       "  <Atom 5 (OE1) of chain 0 residue 0 (GLN)>,\n",
       "  <Atom 6 (NE2) of chain 0 residue 0 (GLN)>],\n",
       " <Residue 254 (LYS) of chain 2>: [<Atom 4 (CD) of chain 0 residue 0 (LYS)>,\n",
       "  <Atom 5 (CE) of chain 0 residue 0 (LYS)>,\n",
       "  <Atom 6 (NZ) of chain 0 residue 0 (LYS)>],\n",
       " <Residue 260 (VAL) of chain 2>: [<Atom 3 (CG1) of chain 0 residue 0 (VAL)>,\n",
       "  <Atom 4 (CG2) of chain 0 residue 0 (VAL)>],\n",
       " <Residue 264 (LYS) of chain 2>: [<Atom 3 (CG) of chain 0 residue 0 (LYS)>,\n",
       "  <Atom 4 (CD) of chain 0 residue 0 (LYS)>,\n",
       "  <Atom 5 (CE) of chain 0 residue 0 (LYS)>,\n",
       "  <Atom 6 (NZ) of chain 0 residue 0 (LYS)>],\n",
       " <Residue 282 (SER) of chain 2>: [<Atom 3 (OG) of chain 0 residue 0 (SER)>],\n",
       " <Residue 325 (ARG) of chain 2>: [<Atom 10 (O) of chain 0 residue 0 (ARG)>],\n",
       " <Residue 383 (GLN) of chain 3>: [<Atom 5 (OE1) of chain 0 residue 0 (GLN)>,\n",
       "  <Atom 6 (NE2) of chain 0 residue 0 (GLN)>],\n",
       " <Residue 385 (LYS) of chain 3>: [<Atom 6 (NZ) of chain 0 residue 0 (LYS)>],\n",
       " <Residue 386 (GLN) of chain 3>: [<Atom 3 (CG) of chain 0 residue 0 (GLN)>,\n",
       "  <Atom 4 (CD) of chain 0 residue 0 (GLN)>,\n",
       "  <Atom 5 (OE1) of chain 0 residue 0 (GLN)>,\n",
       "  <Atom 6 (NE2) of chain 0 residue 0 (GLN)>],\n",
       " <Residue 422 (ARG) of chain 4>: [<Atom 5 (NE) of chain 0 residue 0 (ARG)>,\n",
       "  <Atom 6 (CZ) of chain 0 residue 0 (ARG)>,\n",
       "  <Atom 7 (NH1) of chain 0 residue 0 (ARG)>,\n",
       "  <Atom 8 (NH2) of chain 0 residue 0 (ARG)>],\n",
       " <Residue 429 (GLN) of chain 4>: [<Atom 3 (CG) of chain 0 residue 0 (GLN)>,\n",
       "  <Atom 4 (CD) of chain 0 residue 0 (GLN)>,\n",
       "  <Atom 5 (OE1) of chain 0 residue 0 (GLN)>,\n",
       "  <Atom 6 (NE2) of chain 0 residue 0 (GLN)>],\n",
       " <Residue 465 (ARG) of chain 4>: [<Atom 5 (NE) of chain 0 residue 0 (ARG)>,\n",
       "  <Atom 6 (CZ) of chain 0 residue 0 (ARG)>,\n",
       "  <Atom 7 (NH1) of chain 0 residue 0 (ARG)>,\n",
       "  <Atom 8 (NH2) of chain 0 residue 0 (ARG)>],\n",
       " <Residue 469 (GLN) of chain 4>: [<Atom 3 (CG) of chain 0 residue 0 (GLN)>,\n",
       "  <Atom 4 (CD) of chain 0 residue 0 (GLN)>,\n",
       "  <Atom 5 (OE1) of chain 0 residue 0 (GLN)>,\n",
       "  <Atom 6 (NE2) of chain 0 residue 0 (GLN)>],\n",
       " <Residue 471 (LYS) of chain 4>: [<Atom 3 (CG) of chain 0 residue 0 (LYS)>,\n",
       "  <Atom 4 (CD) of chain 0 residue 0 (LYS)>,\n",
       "  <Atom 5 (CE) of chain 0 residue 0 (LYS)>,\n",
       "  <Atom 6 (NZ) of chain 0 residue 0 (LYS)>],\n",
       " <Residue 472 (GLN) of chain 4>: [<Atom 3 (CG) of chain 0 residue 0 (GLN)>,\n",
       "  <Atom 4 (CD) of chain 0 residue 0 (GLN)>,\n",
       "  <Atom 5 (OE1) of chain 0 residue 0 (GLN)>,\n",
       "  <Atom 6 (NE2) of chain 0 residue 0 (GLN)>],\n",
       " <Residue 473 (LEU) of chain 4>: [<Atom 3 (CG) of chain 0 residue 0 (LEU)>,\n",
       "  <Atom 4 (CD1) of chain 0 residue 0 (LEU)>,\n",
       "  <Atom 5 (CD2) of chain 0 residue 0 (LEU)>],\n",
       " <Residue 520 (LYS) of chain 5>: [<Atom 4 (CD) of chain 0 residue 0 (LYS)>,\n",
       "  <Atom 5 (CE) of chain 0 residue 0 (LYS)>,\n",
       "  <Atom 6 (NZ) of chain 0 residue 0 (LYS)>],\n",
       " <Residue 526 (GLU) of chain 5>: [<Atom 3 (CG) of chain 0 residue 0 (GLU)>,\n",
       "  <Atom 4 (CD) of chain 0 residue 0 (GLU)>,\n",
       "  <Atom 5 (OE1) of chain 0 residue 0 (GLU)>,\n",
       "  <Atom 6 (OE2) of chain 0 residue 0 (GLU)>],\n",
       " <Residue 544 (GLU) of chain 5>: [<Atom 3 (CG) of chain 0 residue 0 (GLU)>,\n",
       "  <Atom 4 (CD) of chain 0 residue 0 (GLU)>,\n",
       "  <Atom 5 (OE1) of chain 0 residue 0 (GLU)>,\n",
       "  <Atom 6 (OE2) of chain 0 residue 0 (GLU)>],\n",
       " <Residue 562 (GLU) of chain 5>: [<Atom 3 (CG) of chain 0 residue 0 (GLU)>,\n",
       "  <Atom 4 (CD) of chain 0 residue 0 (GLU)>,\n",
       "  <Atom 5 (OE1) of chain 0 residue 0 (GLU)>,\n",
       "  <Atom 6 (OE2) of chain 0 residue 0 (GLU)>],\n",
       " <Residue 563 (ASN) of chain 5>: [<Atom 3 (CG) of chain 0 residue 0 (ASN)>,\n",
       "  <Atom 4 (OD1) of chain 0 residue 0 (ASN)>,\n",
       "  <Atom 5 (ND2) of chain 0 residue 0 (ASN)>],\n",
       " <Residue 587 (SER) of chain 5>: [<Atom 5 (O) of chain 0 residue 0 (SER)>]}"
      ]
     },
     "execution_count": 15,
     "metadata": {},
     "output_type": "execute_result"
    }
   ],
   "source": [
    "aa.missingAtoms"
   ]
  },
  {
   "cell_type": "code",
   "execution_count": 4,
   "id": "4aa95e7a-668e-41c5-8ccd-a7bd20334c1c",
   "metadata": {},
   "outputs": [
    {
     "name": "stderr",
     "output_type": "stream",
     "text": [
      "/home/diego/MyMachine/locals/miniconda/envs/MolSysMT/lib/python3.7/site-packages/openmm/app/internal/pdbstructure.py:537: UserWarning: WARNING: duplicate atom (ATOM   2692  CB  SER D  14      32.757  22.571   1.533  1.00  0.00           C  , ATOM   2690  CB  SER D  14      32.742  22.579   1.536  1.00  0.00           C  )\n",
      "  warnings.warn(\"WARNING: duplicate atom (%s, %s)\" % (atom, old_atom._pdb_string(old_atom.serial_number, atom.alternate_location_indicator)))\n",
      "/home/diego/MyMachine/locals/miniconda/envs/MolSysMT/lib/python3.7/site-packages/openmm/app/internal/pdbstructure.py:537: UserWarning: WARNING: duplicate atom (ATOM   2693  OG  SER D  14      33.396  21.920   2.619  1.00  0.00           O  , ATOM   2691  OG  SER D  14      31.412  22.410   1.076  1.00  0.00           O  )\n",
      "  warnings.warn(\"WARNING: duplicate atom (%s, %s)\" % (atom, old_atom._pdb_string(old_atom.serial_number, atom.alternate_location_indicator)))\n"
     ]
    },
    {
     "ename": "AttributeError",
     "evalue": "'PDBFixer' object has no attribute 'missingResidues'",
     "output_type": "error",
     "traceback": [
      "\u001b[0;31m---------------------------------------------------------------------------\u001b[0m",
      "\u001b[0;31mAttributeError\u001b[0m                            Traceback (most recent call last)",
      "\u001b[0;32m/tmp/ipykernel_33233/772931239.py\u001b[0m in \u001b[0;36m<module>\u001b[0;34m\u001b[0m\n\u001b[0;32m----> 1\u001b[0;31m \u001b[0mmsm\u001b[0m\u001b[0;34m.\u001b[0m\u001b[0mbuild\u001b[0m\u001b[0;34m.\u001b[0m\u001b[0mget_missing_heavy_atoms\u001b[0m\u001b[0;34m(\u001b[0m\u001b[0mmolecular_system\u001b[0m\u001b[0;34m)\u001b[0m\u001b[0;34m\u001b[0m\u001b[0;34m\u001b[0m\u001b[0m\n\u001b[0m",
      "\u001b[0;32m~/projects/molsysmt/molsysmt/build/get_missing_heavy_atoms.py\u001b[0m in \u001b[0;36mget_missing_heavy_atoms\u001b[0;34m(molecular_system, selection, engine, syntaxis)\u001b[0m\n\u001b[1;32m     15\u001b[0m                            syntaxis=syntaxis)\n\u001b[1;32m     16\u001b[0m \u001b[0;34m\u001b[0m\u001b[0m\n\u001b[0;32m---> 17\u001b[0;31m         \u001b[0mtmp_item\u001b[0m\u001b[0;34m.\u001b[0m\u001b[0mfindMissingAtoms\u001b[0m\u001b[0;34m(\u001b[0m\u001b[0;34m)\u001b[0m\u001b[0;34m\u001b[0m\u001b[0;34m\u001b[0m\u001b[0m\n\u001b[0m\u001b[1;32m     18\u001b[0m         \u001b[0moutput\u001b[0m \u001b[0;34m=\u001b[0m \u001b[0mtmp_item\u001b[0m\u001b[0;34m.\u001b[0m\u001b[0mmissingAtoms\u001b[0m\u001b[0;34m\u001b[0m\u001b[0;34m\u001b[0m\u001b[0m\n\u001b[1;32m     19\u001b[0m \u001b[0;34m\u001b[0m\u001b[0m\n",
      "\u001b[0;32m~/MyMachine/locals/miniconda/envs/MolSysMT/lib/python3.7/site-packages/pdbfixer/pdbfixer.py\u001b[0m in \u001b[0;36mfindMissingAtoms\u001b[0;34m(self)\u001b[0m\n\u001b[1;32m    849\u001b[0m                     \u001b[0matomNames\u001b[0m \u001b[0;34m=\u001b[0m \u001b[0mset\u001b[0m\u001b[0;34m(\u001b[0m\u001b[0matom\u001b[0m\u001b[0;34m.\u001b[0m\u001b[0mname\u001b[0m \u001b[0;32mfor\u001b[0m \u001b[0matom\u001b[0m \u001b[0;32min\u001b[0m \u001b[0mresidue\u001b[0m\u001b[0;34m.\u001b[0m\u001b[0matoms\u001b[0m\u001b[0;34m(\u001b[0m\u001b[0;34m)\u001b[0m\u001b[0;34m)\u001b[0m\u001b[0;34m\u001b[0m\u001b[0;34m\u001b[0m\u001b[0m\n\u001b[1;32m    850\u001b[0m                     \u001b[0mtemplateAtoms\u001b[0m \u001b[0;34m=\u001b[0m \u001b[0mlist\u001b[0m\u001b[0;34m(\u001b[0m\u001b[0mtemplate\u001b[0m\u001b[0;34m.\u001b[0m\u001b[0mtopology\u001b[0m\u001b[0;34m.\u001b[0m\u001b[0matoms\u001b[0m\u001b[0;34m(\u001b[0m\u001b[0;34m)\u001b[0m\u001b[0;34m)\u001b[0m\u001b[0;34m\u001b[0m\u001b[0;34m\u001b[0m\u001b[0m\n\u001b[0;32m--> 851\u001b[0;31m                     \u001b[0;32mif\u001b[0m \u001b[0mresidue\u001b[0m \u001b[0;34m==\u001b[0m \u001b[0mchainResidues\u001b[0m\u001b[0;34m[\u001b[0m\u001b[0;36m0\u001b[0m\u001b[0;34m]\u001b[0m \u001b[0;32mand\u001b[0m \u001b[0;34m(\u001b[0m\u001b[0mchain\u001b[0m\u001b[0;34m.\u001b[0m\u001b[0mindex\u001b[0m\u001b[0;34m,\u001b[0m \u001b[0;36m0\u001b[0m\u001b[0;34m)\u001b[0m \u001b[0;32mnot\u001b[0m \u001b[0;32min\u001b[0m \u001b[0mself\u001b[0m\u001b[0;34m.\u001b[0m\u001b[0mmissingResidues\u001b[0m\u001b[0;34m:\u001b[0m\u001b[0;34m\u001b[0m\u001b[0;34m\u001b[0m\u001b[0m\n\u001b[0m\u001b[1;32m    852\u001b[0m                         \u001b[0mtemplateAtoms\u001b[0m \u001b[0;34m=\u001b[0m \u001b[0;34m[\u001b[0m\u001b[0matom\u001b[0m \u001b[0;32mfor\u001b[0m \u001b[0matom\u001b[0m \u001b[0;32min\u001b[0m \u001b[0mtemplateAtoms\u001b[0m \u001b[0;32mif\u001b[0m \u001b[0matom\u001b[0m\u001b[0;34m.\u001b[0m\u001b[0mname\u001b[0m \u001b[0;32mnot\u001b[0m \u001b[0;32min\u001b[0m \u001b[0;34m(\u001b[0m\u001b[0;34m'P'\u001b[0m\u001b[0;34m,\u001b[0m \u001b[0;34m'OP1'\u001b[0m\u001b[0;34m,\u001b[0m \u001b[0;34m'OP2'\u001b[0m\u001b[0;34m)\u001b[0m\u001b[0;34m]\u001b[0m\u001b[0;34m\u001b[0m\u001b[0;34m\u001b[0m\u001b[0m\n\u001b[1;32m    853\u001b[0m \u001b[0;34m\u001b[0m\u001b[0m\n",
      "\u001b[0;31mAttributeError\u001b[0m: 'PDBFixer' object has no attribute 'missingResidues'"
     ]
    }
   ],
   "source": [
    "msm.build.get_missing_heavy_atoms(molecular_system)"
   ]
  },
  {
   "cell_type": "code",
   "execution_count": null,
   "id": "926ad30b-abc8-4573-9578-7ce668e17a60",
   "metadata": {},
   "outputs": [],
   "source": []
  }
 ],
 "metadata": {
  "kernelspec": {
   "display_name": "Python 3 (ipykernel)",
   "language": "python",
   "name": "python3"
  },
  "language_info": {
   "codemirror_mode": {
    "name": "ipython",
    "version": 3
   },
   "file_extension": ".py",
   "mimetype": "text/x-python",
   "name": "python",
   "nbconvert_exporter": "python",
   "pygments_lexer": "ipython3",
   "version": "3.7.10"
  }
 },
 "nbformat": 4,
 "nbformat_minor": 5
}
