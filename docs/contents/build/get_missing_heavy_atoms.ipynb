{
 "cells": [
  {
   "cell_type": "code",
   "execution_count": 1,
   "id": "1c11382e-f67d-466e-aee6-5725b4200a69",
   "metadata": {},
   "outputs": [],
   "source": [
    "%load_ext autoreload\n",
    "%autoreload 2"
   ]
  },
  {
   "cell_type": "code",
   "execution_count": 2,
   "id": "3775837e-62a7-4079-9661-372cc4563718",
   "metadata": {},
   "outputs": [
    {
     "name": "stderr",
     "output_type": "stream",
     "text": [
      "Warning: importing 'simtk.openmm' is deprecated.  Import 'openmm' instead.\n"
     ]
    },
    {
     "data": {
      "application/vnd.jupyter.widget-view+json": {
       "model_id": "0ba3ef9b58024e6b8419e08d7c9b2e8e",
       "version_major": 2,
       "version_minor": 0
      },
      "text/plain": []
     },
     "metadata": {},
     "output_type": "display_data"
    }
   ],
   "source": [
    "import molsysmt as msm"
   ]
  },
  {
   "cell_type": "markdown",
   "id": "2f6cd114-c906-428f-b51f-3f7ff6267132",
   "metadata": {},
   "source": [
    "# Get missing heavy atoms"
   ]
  },
  {
   "cell_type": "code",
   "execution_count": 3,
   "id": "36127e9e-6811-4c65-bf88-b51c121b5265",
   "metadata": {},
   "outputs": [
    {
     "name": "stdout",
     "output_type": "stream",
     "text": [
      "The bioassembly has a different number of chains than the total amount of chains\n"
     ]
    },
    {
     "name": "stderr",
     "output_type": "stream",
     "text": [
      "/home/diego/projects/molsysmt/molsysmt/native/io/topology/classes/mmtf_MMTFDecoder.py:27: UserWarning: The structure in the PDB has biological assemblies. There are geometrical transformations proposed in the structure. See the following issue in the source code repository: https://github.com/uibcdf/MolSysMT/issues/33\n",
      "  warnings.warn(warning_message)\n",
      "/home/diego/projects/molsysmt/molsysmt/native/io/topology/classes/mmtf_MMTFDecoder.py:42: UserWarning: The bioassembly has a different number of chains than the total amount of chains\n",
      "  warnings.warn(warning_message)\n"
     ]
    }
   ],
   "source": [
    "molecular_system = msm.convert('pdbid:1brs', to_form='molsysmt.MolSys')"
   ]
  },
  {
   "cell_type": "code",
   "execution_count": 4,
   "id": "29098771-2eec-4c05-9889-f929b7179958",
   "metadata": {},
   "outputs": [
    {
     "name": "stderr",
     "output_type": "stream",
     "text": [
      "/home/diego/Myopt/miniconda3/envs/MolSysMT/lib/python3.7/site-packages/openmm/app/internal/pdbstructure.py:537: UserWarning: WARNING: duplicate atom (ATOM   2692  CB  SER D  14      32.757  22.571   1.533  1.00  0.00           C  , ATOM   2690  CB  SER D  14      32.742  22.579   1.536  1.00  0.00           C  )\n",
      "  warnings.warn(\"WARNING: duplicate atom (%s, %s)\" % (atom, old_atom._pdb_string(old_atom.serial_number, atom.alternate_location_indicator)))\n",
      "/home/diego/Myopt/miniconda3/envs/MolSysMT/lib/python3.7/site-packages/openmm/app/internal/pdbstructure.py:537: UserWarning: WARNING: duplicate atom (ATOM   2693  OG  SER D  14      33.396  21.920   2.619  1.00  0.00           O  , ATOM   2691  OG  SER D  14      31.412  22.410   1.076  1.00  0.00           O  )\n",
      "  warnings.warn(\"WARNING: duplicate atom (%s, %s)\" % (atom, old_atom._pdb_string(old_atom.serial_number, atom.alternate_location_indicator)))\n"
     ]
    }
   ],
   "source": [
    "missing = msm.build.get_missing_heavy_atoms(molecular_system)"
   ]
  },
  {
   "cell_type": "code",
   "execution_count": 5,
   "id": "4aa95e7a-668e-41c5-8ccd-a7bd20334c1c",
   "metadata": {},
   "outputs": [
    {
     "data": {
      "text/plain": [
       "{234: ['CG', 'CD', 'CE', 'NZ'],\n",
       " 237: ['CG', 'OD1', 'OD2'],\n",
       " 244: ['CD', 'OE1', 'OE2'],\n",
       " 246: ['CG', 'CD', 'OE1', 'NE2'],\n",
       " 254: ['CD', 'CE', 'NZ'],\n",
       " 260: ['CG1', 'CG2'],\n",
       " 264: ['CG', 'CD', 'CE', 'NZ'],\n",
       " 282: ['OG'],\n",
       " 325: ['O'],\n",
       " 383: ['OE1', 'NE2'],\n",
       " 385: ['NZ'],\n",
       " 386: ['CG', 'CD', 'OE1', 'NE2'],\n",
       " 422: ['NE', 'CZ', 'NH1', 'NH2'],\n",
       " 429: ['CG', 'CD', 'OE1', 'NE2'],\n",
       " 465: ['NE', 'CZ', 'NH1', 'NH2'],\n",
       " 469: ['CG', 'CD', 'OE1', 'NE2'],\n",
       " 471: ['CG', 'CD', 'CE', 'NZ'],\n",
       " 472: ['CG', 'CD', 'OE1', 'NE2'],\n",
       " 473: ['CG', 'CD1', 'CD2'],\n",
       " 520: ['CD', 'CE', 'NZ'],\n",
       " 526: ['CG', 'CD', 'OE1', 'OE2'],\n",
       " 544: ['CG', 'CD', 'OE1', 'OE2'],\n",
       " 562: ['CG', 'CD', 'OE1', 'OE2'],\n",
       " 563: ['CG', 'OD1', 'ND2'],\n",
       " 587: ['O']}"
      ]
     },
     "execution_count": 5,
     "metadata": {},
     "output_type": "execute_result"
    }
   ],
   "source": [
    "missing"
   ]
  },
  {
   "cell_type": "code",
   "execution_count": 6,
   "id": "1616c55d-f213-40a0-89a1-cacf5c13d439",
   "metadata": {},
   "outputs": [],
   "source": [
    "residues_with_missing_atoms = list(missing.keys())"
   ]
  },
  {
   "cell_type": "code",
   "execution_count": 7,
   "id": "926ad30b-abc8-4573-9578-7ce668e17a60",
   "metadata": {},
   "outputs": [
    {
     "data": {
      "text/html": [
       "<style type=\"text/css\">\n",
       "</style>\n",
       "<table id=\"T_f3db1_\">\n",
       "  <thead>\n",
       "    <tr>\n",
       "      <th class=\"col_heading level0 col0\" >index</th>\n",
       "      <th class=\"col_heading level0 col1\" >id</th>\n",
       "      <th class=\"col_heading level0 col2\" >name</th>\n",
       "      <th class=\"col_heading level0 col3\" >type</th>\n",
       "      <th class=\"col_heading level0 col4\" >n atoms</th>\n",
       "      <th class=\"col_heading level0 col5\" >component index</th>\n",
       "      <th class=\"col_heading level0 col6\" >chain index</th>\n",
       "      <th class=\"col_heading level0 col7\" >molecule index</th>\n",
       "      <th class=\"col_heading level0 col8\" >molecule type</th>\n",
       "      <th class=\"col_heading level0 col9\" >entity index</th>\n",
       "      <th class=\"col_heading level0 col10\" >entity name</th>\n",
       "    </tr>\n",
       "  </thead>\n",
       "  <tbody>\n",
       "    <tr>\n",
       "      <td id=\"T_f3db1_row0_col0\" class=\"data row0 col0\" >383</td>\n",
       "      <td id=\"T_f3db1_row0_col1\" class=\"data row0 col1\" >58</td>\n",
       "      <td id=\"T_f3db1_row0_col2\" class=\"data row0 col2\" >GLN</td>\n",
       "      <td id=\"T_f3db1_row0_col3\" class=\"data row0 col3\" >aminoacid</td>\n",
       "      <td id=\"T_f3db1_row0_col4\" class=\"data row0 col4\" >7</td>\n",
       "      <td id=\"T_f3db1_row0_col5\" class=\"data row0 col5\" >3</td>\n",
       "      <td id=\"T_f3db1_row0_col6\" class=\"data row0 col6\" >3</td>\n",
       "      <td id=\"T_f3db1_row0_col7\" class=\"data row0 col7\" >1</td>\n",
       "      <td id=\"T_f3db1_row0_col8\" class=\"data row0 col8\" >protein</td>\n",
       "      <td id=\"T_f3db1_row0_col9\" class=\"data row0 col9\" >1</td>\n",
       "      <td id=\"T_f3db1_row0_col10\" class=\"data row0 col10\" >BARSTAR</td>\n",
       "    </tr>\n",
       "    <tr>\n",
       "      <td id=\"T_f3db1_row1_col0\" class=\"data row1 col0\" >385</td>\n",
       "      <td id=\"T_f3db1_row1_col1\" class=\"data row1 col1\" >60</td>\n",
       "      <td id=\"T_f3db1_row1_col2\" class=\"data row1 col2\" >LYS</td>\n",
       "      <td id=\"T_f3db1_row1_col3\" class=\"data row1 col3\" >aminoacid</td>\n",
       "      <td id=\"T_f3db1_row1_col4\" class=\"data row1 col4\" >8</td>\n",
       "      <td id=\"T_f3db1_row1_col5\" class=\"data row1 col5\" >3</td>\n",
       "      <td id=\"T_f3db1_row1_col6\" class=\"data row1 col6\" >3</td>\n",
       "      <td id=\"T_f3db1_row1_col7\" class=\"data row1 col7\" >1</td>\n",
       "      <td id=\"T_f3db1_row1_col8\" class=\"data row1 col8\" >protein</td>\n",
       "      <td id=\"T_f3db1_row1_col9\" class=\"data row1 col9\" >1</td>\n",
       "      <td id=\"T_f3db1_row1_col10\" class=\"data row1 col10\" >BARSTAR</td>\n",
       "    </tr>\n",
       "    <tr>\n",
       "      <td id=\"T_f3db1_row2_col0\" class=\"data row2 col0\" >386</td>\n",
       "      <td id=\"T_f3db1_row2_col1\" class=\"data row2 col1\" >61</td>\n",
       "      <td id=\"T_f3db1_row2_col2\" class=\"data row2 col2\" >GLN</td>\n",
       "      <td id=\"T_f3db1_row2_col3\" class=\"data row2 col3\" >aminoacid</td>\n",
       "      <td id=\"T_f3db1_row2_col4\" class=\"data row2 col4\" >5</td>\n",
       "      <td id=\"T_f3db1_row2_col5\" class=\"data row2 col5\" >3</td>\n",
       "      <td id=\"T_f3db1_row2_col6\" class=\"data row2 col6\" >3</td>\n",
       "      <td id=\"T_f3db1_row2_col7\" class=\"data row2 col7\" >1</td>\n",
       "      <td id=\"T_f3db1_row2_col8\" class=\"data row2 col8\" >protein</td>\n",
       "      <td id=\"T_f3db1_row2_col9\" class=\"data row2 col9\" >1</td>\n",
       "      <td id=\"T_f3db1_row2_col10\" class=\"data row2 col10\" >BARSTAR</td>\n",
       "    </tr>\n",
       "  </tbody>\n",
       "</table>\n"
      ],
      "text/plain": [
       "<pandas.io.formats.style.Styler at 0x7f9d4871ee50>"
      ]
     },
     "execution_count": 7,
     "metadata": {},
     "output_type": "execute_result"
    }
   ],
   "source": [
    "msm.info(molecular_system, target='group', indices=[383, 385, 386])"
   ]
  },
  {
   "cell_type": "code",
   "execution_count": 8,
   "id": "ef7541b8-ac18-46d3-b6c1-3bd8dc6bf930",
   "metadata": {},
   "outputs": [
    {
     "name": "stderr",
     "output_type": "stream",
     "text": [
      "/home/diego/Myopt/miniconda3/envs/MolSysMT/lib/python3.7/site-packages/openmm/app/internal/pdbstructure.py:537: UserWarning: WARNING: duplicate atom (ATOM    108  CB  SER D  14      32.757  22.571   1.533  1.00  0.00           C  , ATOM    106  CB  SER D  14      32.742  22.579   1.536  1.00  0.00           C  )\n",
      "  warnings.warn(\"WARNING: duplicate atom (%s, %s)\" % (atom, old_atom._pdb_string(old_atom.serial_number, atom.alternate_location_indicator)))\n",
      "/home/diego/Myopt/miniconda3/envs/MolSysMT/lib/python3.7/site-packages/openmm/app/internal/pdbstructure.py:537: UserWarning: WARNING: duplicate atom (ATOM    109  OG  SER D  14      33.396  21.920   2.619  1.00  0.00           O  , ATOM    107  OG  SER D  14      31.412  22.410   1.076  1.00  0.00           O  )\n",
      "  warnings.warn(\"WARNING: duplicate atom (%s, %s)\" % (atom, old_atom._pdb_string(old_atom.serial_number, atom.alternate_location_indicator)))\n"
     ]
    }
   ],
   "source": [
    "missing = msm.build.get_missing_heavy_atoms(molecular_system, selection='component_index==[3]')"
   ]
  },
  {
   "cell_type": "code",
   "execution_count": 9,
   "id": "50ce93dd-09d5-475f-8615-b90985c3dbc8",
   "metadata": {},
   "outputs": [
    {
     "data": {
      "text/plain": [
       "{383: ['OE1', 'NE2'], 385: ['NZ'], 386: ['CG', 'CD', 'OE1', 'NE2']}"
      ]
     },
     "execution_count": 9,
     "metadata": {},
     "output_type": "execute_result"
    }
   ],
   "source": [
    "missing"
   ]
  },
  {
   "cell_type": "code",
   "execution_count": null,
   "id": "26ad189a-fca2-4ed4-bb2a-1f4a9f0d36af",
   "metadata": {},
   "outputs": [],
   "source": []
  }
 ],
 "metadata": {
  "kernelspec": {
   "display_name": "Python 3 (ipykernel)",
   "language": "python",
   "name": "python3"
  },
  "language_info": {
   "codemirror_mode": {
    "name": "ipython",
    "version": 3
   },
   "file_extension": ".py",
   "mimetype": "text/x-python",
   "name": "python",
   "nbconvert_exporter": "python",
   "pygments_lexer": "ipython3",
   "version": "3.7.10"
  }
 },
 "nbformat": 4,
 "nbformat_minor": 5
}
