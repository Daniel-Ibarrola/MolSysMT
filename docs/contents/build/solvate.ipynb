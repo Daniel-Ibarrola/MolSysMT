{
 "cells": [
  {
   "cell_type": "code",
   "execution_count": 1,
   "metadata": {},
   "outputs": [],
   "source": [
    "%load_ext autoreload\n",
    "%autoreload 2"
   ]
  },
  {
   "cell_type": "code",
   "execution_count": 2,
   "metadata": {},
   "outputs": [
    {
     "name": "stderr",
     "output_type": "stream",
     "text": [
      "Warning: importing 'simtk.openmm' is deprecated.  Import 'openmm' instead.\n"
     ]
    },
    {
     "data": {
      "application/vnd.jupyter.widget-view+json": {
       "model_id": "0f6309b378f94d79a3ad59a0335ac3b7",
       "version_major": 2,
       "version_minor": 0
      },
      "text/plain": []
     },
     "metadata": {},
     "output_type": "display_data"
    }
   ],
   "source": [
    "import molsysmt as msm"
   ]
  },
  {
   "cell_type": "markdown",
   "metadata": {},
   "source": [
    "# Adding solvent"
   ]
  },
  {
   "cell_type": "code",
   "execution_count": 5,
   "metadata": {},
   "outputs": [],
   "source": [
    "molecular_system = msm.convert('pdbid:1vii', to_form='molsysmt.MolSys')\n",
    "molecular_system = msm.build.remove_hydrogens(molecular_system)\n",
    "molecular_system = msm.build.add_terminal_cappings(molecular_system, N_terminal='ACE', C_terminal='NME')\n",
    "molecular_system = msm.build.add_hydrogens(molecular_system, pH=7.4)"
   ]
  },
  {
   "cell_type": "code",
   "execution_count": 6,
   "metadata": {},
   "outputs": [
    {
     "data": {
      "text/html": [
       "<style type=\"text/css\">\n",
       "</style>\n",
       "<table id=\"T_78f82_\">\n",
       "  <thead>\n",
       "    <tr>\n",
       "      <th class=\"col_heading level0 col0\" >form</th>\n",
       "      <th class=\"col_heading level0 col1\" >n_atoms</th>\n",
       "      <th class=\"col_heading level0 col2\" >n_groups</th>\n",
       "      <th class=\"col_heading level0 col3\" >n_components</th>\n",
       "      <th class=\"col_heading level0 col4\" >n_chains</th>\n",
       "      <th class=\"col_heading level0 col5\" >n_molecules</th>\n",
       "      <th class=\"col_heading level0 col6\" >n_entities</th>\n",
       "      <th class=\"col_heading level0 col7\" >n_proteins</th>\n",
       "      <th class=\"col_heading level0 col8\" >n_frames</th>\n",
       "    </tr>\n",
       "  </thead>\n",
       "  <tbody>\n",
       "    <tr>\n",
       "      <td id=\"T_78f82_row0_col0\" class=\"data row0 col0\" >molsysmt.MolSys</td>\n",
       "      <td id=\"T_78f82_row0_col1\" class=\"data row0 col1\" >596</td>\n",
       "      <td id=\"T_78f82_row0_col2\" class=\"data row0 col2\" >36</td>\n",
       "      <td id=\"T_78f82_row0_col3\" class=\"data row0 col3\" >3</td>\n",
       "      <td id=\"T_78f82_row0_col4\" class=\"data row0 col4\" >1</td>\n",
       "      <td id=\"T_78f82_row0_col5\" class=\"data row0 col5\" >1</td>\n",
       "      <td id=\"T_78f82_row0_col6\" class=\"data row0 col6\" >1</td>\n",
       "      <td id=\"T_78f82_row0_col7\" class=\"data row0 col7\" >1</td>\n",
       "      <td id=\"T_78f82_row0_col8\" class=\"data row0 col8\" >1</td>\n",
       "    </tr>\n",
       "  </tbody>\n",
       "</table>\n"
      ],
      "text/plain": [
       "<pandas.io.formats.style.Styler at 0x7f0fc2e58950>"
      ]
     },
     "execution_count": 6,
     "metadata": {},
     "output_type": "execute_result"
    }
   ],
   "source": [
    "msm.info(molsys)"
   ]
  },
  {
   "cell_type": "code",
   "execution_count": 8,
   "metadata": {},
   "outputs": [
    {
     "data": {
      "text/html": [
       "2.0 elementary_charge"
      ],
      "text/latex": [
       "$2.0\\ \\mathrm{elementary\\_charge}$"
      ],
      "text/plain": [
       "2.0 <Unit('elementary_charge')>"
      ]
     },
     "execution_count": 8,
     "metadata": {},
     "output_type": "execute_result"
    }
   ],
   "source": [
    "msm.physchem.charge([molecular_system, {'forcefield':'AMBER14'}], target='system')"
   ]
  },
  {
   "cell_type": "code",
   "execution_count": 10,
   "metadata": {},
   "outputs": [
    {
     "data": {
      "text/plain": [
       "False"
      ]
     },
     "execution_count": 10,
     "metadata": {},
     "output_type": "execute_result"
    }
   ],
   "source": [
    "msm.build.is_solvated(molecular_system)"
   ]
  },
  {
   "cell_type": "code",
   "execution_count": 13,
   "metadata": {},
   "outputs": [],
   "source": [
    "molecular_system_cub = msm.build.solvate([molecular_system, {'forcefield':'AMBER14', 'water_model':'TIP3P'}],\n",
    "                                         box_geometry='cubic', clearance='14.0 angstroms',\n",
    "                                         to_form='molsysmt.MolSys', engine=\"OpenMM\", verbose=False)"
   ]
  },
  {
   "cell_type": "code",
   "execution_count": 14,
   "metadata": {},
   "outputs": [
    {
     "data": {
      "text/plain": [
       "True"
      ]
     },
     "execution_count": 14,
     "metadata": {},
     "output_type": "execute_result"
    }
   ],
   "source": [
    "msm.build.is_solvated(molecular_system_cub)"
   ]
  },
  {
   "cell_type": "code",
   "execution_count": 15,
   "metadata": {},
   "outputs": [
    {
     "data": {
      "text/html": [
       "<style type=\"text/css\">\n",
       "</style>\n",
       "<table id=\"T_cc307_\">\n",
       "  <thead>\n",
       "    <tr>\n",
       "      <th class=\"col_heading level0 col0\" >form</th>\n",
       "      <th class=\"col_heading level0 col1\" >n_atoms</th>\n",
       "      <th class=\"col_heading level0 col2\" >n_groups</th>\n",
       "      <th class=\"col_heading level0 col3\" >n_components</th>\n",
       "      <th class=\"col_heading level0 col4\" >n_chains</th>\n",
       "      <th class=\"col_heading level0 col5\" >n_molecules</th>\n",
       "      <th class=\"col_heading level0 col6\" >n_entities</th>\n",
       "      <th class=\"col_heading level0 col7\" >n_waters</th>\n",
       "      <th class=\"col_heading level0 col8\" >n_ions</th>\n",
       "      <th class=\"col_heading level0 col9\" >n_peptides</th>\n",
       "      <th class=\"col_heading level0 col10\" >n_frames</th>\n",
       "    </tr>\n",
       "  </thead>\n",
       "  <tbody>\n",
       "    <tr>\n",
       "      <td id=\"T_cc307_row0_col0\" class=\"data row0 col0\" >molsysmt.MolSys</td>\n",
       "      <td id=\"T_cc307_row0_col1\" class=\"data row0 col1\" >16621</td>\n",
       "      <td id=\"T_cc307_row0_col2\" class=\"data row0 col2\" >5378</td>\n",
       "      <td id=\"T_cc307_row0_col3\" class=\"data row0 col3\" >5341</td>\n",
       "      <td id=\"T_cc307_row0_col4\" class=\"data row0 col4\" >3</td>\n",
       "      <td id=\"T_cc307_row0_col5\" class=\"data row0 col5\" >5341</td>\n",
       "      <td id=\"T_cc307_row0_col6\" class=\"data row0 col6\" >3</td>\n",
       "      <td id=\"T_cc307_row0_col7\" class=\"data row0 col7\" >5338</td>\n",
       "      <td id=\"T_cc307_row0_col8\" class=\"data row0 col8\" >2</td>\n",
       "      <td id=\"T_cc307_row0_col9\" class=\"data row0 col9\" >1</td>\n",
       "      <td id=\"T_cc307_row0_col10\" class=\"data row0 col10\" >1</td>\n",
       "    </tr>\n",
       "  </tbody>\n",
       "</table>\n"
      ],
      "text/plain": [
       "<pandas.io.formats.style.Styler at 0x7f0fa965af10>"
      ]
     },
     "execution_count": 15,
     "metadata": {},
     "output_type": "execute_result"
    }
   ],
   "source": [
    "msm.info(molecular_system_cub)"
   ]
  },
  {
   "cell_type": "code",
   "execution_count": 16,
   "metadata": {},
   "outputs": [
    {
     "data": {
      "text/html": [
       "<style type=\"text/css\">\n",
       "</style>\n",
       "<table id=\"T_c02c8_\">\n",
       "  <thead>\n",
       "    <tr>\n",
       "      <th class=\"col_heading level0 col0\" >index</th>\n",
       "      <th class=\"col_heading level0 col1\" >name</th>\n",
       "      <th class=\"col_heading level0 col2\" >type</th>\n",
       "      <th class=\"col_heading level0 col3\" >n atoms</th>\n",
       "      <th class=\"col_heading level0 col4\" >n groups</th>\n",
       "      <th class=\"col_heading level0 col5\" >n components</th>\n",
       "      <th class=\"col_heading level0 col6\" >n chains</th>\n",
       "      <th class=\"col_heading level0 col7\" >n molecules</th>\n",
       "    </tr>\n",
       "  </thead>\n",
       "  <tbody>\n",
       "    <tr>\n",
       "      <td id=\"T_c02c8_row0_col0\" class=\"data row0 col0\" >0</td>\n",
       "      <td id=\"T_c02c8_row0_col1\" class=\"data row0 col1\" >Peptide_0</td>\n",
       "      <td id=\"T_c02c8_row0_col2\" class=\"data row0 col2\" >peptide</td>\n",
       "      <td id=\"T_c02c8_row0_col3\" class=\"data row0 col3\" >605</td>\n",
       "      <td id=\"T_c02c8_row0_col4\" class=\"data row0 col4\" >38</td>\n",
       "      <td id=\"T_c02c8_row0_col5\" class=\"data row0 col5\" >1</td>\n",
       "      <td id=\"T_c02c8_row0_col6\" class=\"data row0 col6\" >1</td>\n",
       "      <td id=\"T_c02c8_row0_col7\" class=\"data row0 col7\" >1</td>\n",
       "    </tr>\n",
       "    <tr>\n",
       "      <td id=\"T_c02c8_row1_col0\" class=\"data row1 col0\" >1</td>\n",
       "      <td id=\"T_c02c8_row1_col1\" class=\"data row1 col1\" >water</td>\n",
       "      <td id=\"T_c02c8_row1_col2\" class=\"data row1 col2\" >water</td>\n",
       "      <td id=\"T_c02c8_row1_col3\" class=\"data row1 col3\" >16014</td>\n",
       "      <td id=\"T_c02c8_row1_col4\" class=\"data row1 col4\" >5338</td>\n",
       "      <td id=\"T_c02c8_row1_col5\" class=\"data row1 col5\" >5338</td>\n",
       "      <td id=\"T_c02c8_row1_col6\" class=\"data row1 col6\" >1</td>\n",
       "      <td id=\"T_c02c8_row1_col7\" class=\"data row1 col7\" >5338</td>\n",
       "    </tr>\n",
       "    <tr>\n",
       "      <td id=\"T_c02c8_row2_col0\" class=\"data row2 col0\" >2</td>\n",
       "      <td id=\"T_c02c8_row2_col1\" class=\"data row2 col1\" >CL</td>\n",
       "      <td id=\"T_c02c8_row2_col2\" class=\"data row2 col2\" >ion</td>\n",
       "      <td id=\"T_c02c8_row2_col3\" class=\"data row2 col3\" >2</td>\n",
       "      <td id=\"T_c02c8_row2_col4\" class=\"data row2 col4\" >2</td>\n",
       "      <td id=\"T_c02c8_row2_col5\" class=\"data row2 col5\" >2</td>\n",
       "      <td id=\"T_c02c8_row2_col6\" class=\"data row2 col6\" >1</td>\n",
       "      <td id=\"T_c02c8_row2_col7\" class=\"data row2 col7\" >2</td>\n",
       "    </tr>\n",
       "  </tbody>\n",
       "</table>\n"
      ],
      "text/plain": [
       "<pandas.io.formats.style.Styler at 0x7f0fa94c8110>"
      ]
     },
     "execution_count": 16,
     "metadata": {},
     "output_type": "execute_result"
    }
   ],
   "source": [
    "msm.info(molecular_system_cub, target='entity')"
   ]
  },
  {
   "cell_type": "code",
   "execution_count": 17,
   "metadata": {},
   "outputs": [
    {
     "data": {
      "text/html": [
       "0.0 elementary_charge"
      ],
      "text/latex": [
       "$0.0\\ \\mathrm{elementary\\_charge}$"
      ],
      "text/plain": [
       "0.0 <Unit('elementary_charge')>"
      ]
     },
     "execution_count": 17,
     "metadata": {},
     "output_type": "execute_result"
    }
   ],
   "source": [
    "msm.physchem.charge([molecular_system_cub, {'forcefield':'AMBER14', 'water_model':'TIP3P'}], target='system')"
   ]
  },
  {
   "cell_type": "code",
   "execution_count": 18,
   "metadata": {},
   "outputs": [],
   "source": [
    "box, box_angles, box_shape = msm.get(molecular_system_cub, target='system', box=True, box_angles=True,\n",
    "                                     box_shape=True)"
   ]
  },
  {
   "cell_type": "code",
   "execution_count": 19,
   "metadata": {},
   "outputs": [
    {
     "data": {
      "text/html": [
       "<table><tbody><tr><th>Magnitude</th><td style='text-align:left;'><pre>[[[5.5860150337219245 0.0 0.0]<br>  [0.0 5.5860150337219245 0.0]<br>  [0.0 0.0 5.5860150337219245]]]</pre></td></tr><tr><th>Units</th><td style='text-align:left;'>nanometer</td></tr></tbody></table>"
      ],
      "text/latex": [
       "$arr[,0,:,:] = \\begin{pmatrix}5.5860150337219245 & 0.0 & 0.0\\\\ \n",
       "0.0 & 5.5860150337219245 & 0.0\\\\ \n",
       "0.0 & 0.0 & 5.5860150337219245\\end{pmatrix}\\ \\mathrm{nanometer}$"
      ],
      "text/plain": [
       "array([[[5.58601503, 0.        , 0.        ],\n",
       "        [0.        , 5.58601503, 0.        ],\n",
       "        [0.        , 0.        , 5.58601503]]]) <Unit('nanometer')>"
      ]
     },
     "execution_count": 19,
     "metadata": {},
     "output_type": "execute_result"
    }
   ],
   "source": [
    "box"
   ]
  },
  {
   "cell_type": "code",
   "execution_count": 20,
   "metadata": {},
   "outputs": [
    {
     "data": {
      "text/html": [
       "<table><tbody><tr><th>Magnitude</th><td style='text-align:left;'><pre>[[90.000001 90.000001 90.000001]]</pre></td></tr><tr><th>Units</th><td style='text-align:left;'>degree</td></tr></tbody></table>"
      ],
      "text/latex": [
       "$\\begin{pmatrix}90.000001 & 90.000001 & 90.000001\\end{pmatrix}\\ \\mathrm{degree}$"
      ],
      "text/plain": [
       "array([[90.000001, 90.000001, 90.000001]]) <Unit('degree')>"
      ]
     },
     "execution_count": 20,
     "metadata": {},
     "output_type": "execute_result"
    }
   ],
   "source": [
    "box_angles"
   ]
  },
  {
   "cell_type": "code",
   "execution_count": 21,
   "metadata": {},
   "outputs": [
    {
     "data": {
      "text/plain": [
       "'cubic'"
      ]
     },
     "execution_count": 21,
     "metadata": {},
     "output_type": "execute_result"
    }
   ],
   "source": [
    "box_shape"
   ]
  },
  {
   "cell_type": "code",
   "execution_count": 23,
   "metadata": {},
   "outputs": [],
   "source": [
    "molecular_system_cub = msm.pbc.wrap_to_pbc(molecular_system_cub, center_of_selection='molecule_type==\"peptide\"')"
   ]
  },
  {
   "cell_type": "code",
   "execution_count": 25,
   "metadata": {},
   "outputs": [
    {
     "data": {
      "application/vnd.jupyter.widget-view+json": {
       "model_id": "e120ef28531f4ab5833ab81f8e8ceff8",
       "version_major": 2,
       "version_minor": 0
      },
      "text/plain": [
       "NGLWidget()"
      ]
     },
     "metadata": {},
     "output_type": "display_data"
    }
   ],
   "source": [
    "msm.view(molecular_system_cub, standardize=True, water_as_surface=True)"
   ]
  },
  {
   "cell_type": "markdown",
   "metadata": {},
   "source": [
    "## Adding ions "
   ]
  },
  {
   "cell_type": "markdown",
   "metadata": {},
   "source": [
    "## PBC box geometry\n",
    "\n",
    "All periodic boxes used in molecular dynamics simulations (cubic, triclinic,  hexagonal, dodecahedral or octahedral) are equivalent equivalent. All of them can be transformed into a triclinic box with the proper angles and edge lengths. See: Bekker, H. “Unification of Box Shapes in Molecular Simulations.” Journal of Computational Chemistry 18, no. 15 (1997): 1930–42. https://doi.org/10.1002/(sici)1096-987x(19971130)18:15<1930::aid-jcc8>3.0.co;2-p."
   ]
  },
  {
   "cell_type": "code",
   "execution_count": 26,
   "metadata": {},
   "outputs": [],
   "source": [
    "molecular_system_oct = msm.build.solvate(molecular_system, box_geometry='truncated octahedral',\n",
    "                         clearance='14.0 angstroms', engine='PDBFixer')"
   ]
  },
  {
   "cell_type": "code",
   "execution_count": 27,
   "metadata": {},
   "outputs": [
    {
     "data": {
      "text/html": [
       "<style type=\"text/css\">\n",
       "</style>\n",
       "<table id=\"T_d13e8_\">\n",
       "  <thead>\n",
       "    <tr>\n",
       "      <th class=\"col_heading level0 col0\" >form</th>\n",
       "      <th class=\"col_heading level0 col1\" >n_atoms</th>\n",
       "      <th class=\"col_heading level0 col2\" >n_groups</th>\n",
       "      <th class=\"col_heading level0 col3\" >n_components</th>\n",
       "      <th class=\"col_heading level0 col4\" >n_chains</th>\n",
       "      <th class=\"col_heading level0 col5\" >n_molecules</th>\n",
       "      <th class=\"col_heading level0 col6\" >n_entities</th>\n",
       "      <th class=\"col_heading level0 col7\" >n_waters</th>\n",
       "      <th class=\"col_heading level0 col8\" >n_ions</th>\n",
       "      <th class=\"col_heading level0 col9\" >n_peptides</th>\n",
       "      <th class=\"col_heading level0 col10\" >n_frames</th>\n",
       "    </tr>\n",
       "  </thead>\n",
       "  <tbody>\n",
       "    <tr>\n",
       "      <td id=\"T_d13e8_row0_col0\" class=\"data row0 col0\" >molsysmt.MolSys</td>\n",
       "      <td id=\"T_d13e8_row0_col1\" class=\"data row0 col1\" >5677</td>\n",
       "      <td id=\"T_d13e8_row0_col2\" class=\"data row0 col2\" >1730</td>\n",
       "      <td id=\"T_d13e8_row0_col3\" class=\"data row0 col3\" >1693</td>\n",
       "      <td id=\"T_d13e8_row0_col4\" class=\"data row0 col4\" >3</td>\n",
       "      <td id=\"T_d13e8_row0_col5\" class=\"data row0 col5\" >1693</td>\n",
       "      <td id=\"T_d13e8_row0_col6\" class=\"data row0 col6\" >3</td>\n",
       "      <td id=\"T_d13e8_row0_col7\" class=\"data row0 col7\" >1690</td>\n",
       "      <td id=\"T_d13e8_row0_col8\" class=\"data row0 col8\" >2</td>\n",
       "      <td id=\"T_d13e8_row0_col9\" class=\"data row0 col9\" >1</td>\n",
       "      <td id=\"T_d13e8_row0_col10\" class=\"data row0 col10\" >1</td>\n",
       "    </tr>\n",
       "  </tbody>\n",
       "</table>\n"
      ],
      "text/plain": [
       "<pandas.io.formats.style.Styler at 0x7f0fc2d5a610>"
      ]
     },
     "execution_count": 27,
     "metadata": {},
     "output_type": "execute_result"
    }
   ],
   "source": [
    "msm.info(molecular_system_oct)"
   ]
  },
  {
   "cell_type": "code",
   "execution_count": 28,
   "metadata": {},
   "outputs": [],
   "source": [
    "molecular_system_oct = msm.pbc.wrap_to_pbc(molecular_system_oct, center_of_selection='molecule_type==\"peptide\"')"
   ]
  },
  {
   "cell_type": "code",
   "execution_count": 29,
   "metadata": {},
   "outputs": [
    {
     "data": {
      "application/vnd.jupyter.widget-view+json": {
       "model_id": "015794c8dd28436ebc5be838205f434b",
       "version_major": 2,
       "version_minor": 0
      },
      "text/plain": [
       "NGLWidget()"
      ]
     },
     "metadata": {},
     "output_type": "display_data"
    }
   ],
   "source": [
    "msm.view(molecular_system_oct, standardize=True, water_as_surface=True)"
   ]
  },
  {
   "cell_type": "markdown",
   "metadata": {},
   "source": [
    "In a triclinic box it is not sure that all elements in the unit cell can be considered first neighbors. Some pairs of atoms minimize their distance when one of them are located in a neighbor unit cell. But ¿Which one? Finding the periodic image that minimizes the distance is not in general as straight forward as it is if the box is cubic. This problem is known as \"the minimum image convention\". Actually, the distance between any two atoms in a periodic box is not computed removing the PBC, or centering a unit cell in any of those atoms. It is solved finding the minimum image convention. Then, let's see what happens when we take only the image of every atom with minimal distance to the center of the protein:"
   ]
  },
  {
   "cell_type": "code",
   "execution_count": 30,
   "metadata": {},
   "outputs": [],
   "source": [
    "molecular_system_oct = msm.pbc.wrap_to_mic(molecular_system_oct, center_of_selection='molecule_type==\"peptide\"')"
   ]
  },
  {
   "cell_type": "code",
   "execution_count": 31,
   "metadata": {},
   "outputs": [
    {
     "data": {
      "application/vnd.jupyter.widget-view+json": {
       "model_id": "f5e4c48f4c504784b7c6301ae7b1fb36",
       "version_major": 2,
       "version_minor": 0
      },
      "text/plain": [
       "NGLWidget()"
      ]
     },
     "metadata": {},
     "output_type": "display_data"
    }
   ],
   "source": [
    "msm.view(molecular_system_oct, standardize=True, water_as_surface=True)"
   ]
  },
  {
   "cell_type": "markdown",
   "metadata": {},
   "source": [
    "The equivalent geometry is now recovered. It is then \"a proof\" of the equivalency between the triclinic box and the truncated octahedral box."
   ]
  },
  {
   "cell_type": "markdown",
   "metadata": {},
   "source": [
    "But why do we need a non cubic periodic box? In general a case, we want to be sure that a molecule is \"solvated\". What does this mean? It means that our molecule is surrounded by a thick enough layer of water molecules. ¿This can be accomplished by a cubic periodic box? Yes of course. But it can also be achieved with other geometries making use of a lower number of water molecules. Which means that running a molecular simulation with these other geometries will be computationally cheaper than with a periodic cube:"
   ]
  },
  {
   "cell_type": "code",
   "execution_count": 32,
   "metadata": {},
   "outputs": [],
   "source": [
    "molecular_system_cub = msm.build.solvate(molecular_system, box_geometry='cubic', clearance='14.0 angstroms',\n",
    "                                         engine='PDBFixer')\n",
    "molecular_system_oct = msm.build.solvate(molecular_system, box_geometry='truncated octahedral',  clearance='14.0 angstroms',\n",
    "                                         engine='PDBFixer')\n",
    "molecular_system_dod = msm.build.solvate(molecular_system, box_geometry='rhombic dodecahedral', clearance='14.0 angstroms',\n",
    "                                         engine='PDBFixer')"
   ]
  },
  {
   "cell_type": "code",
   "execution_count": 50,
   "metadata": {},
   "outputs": [],
   "source": [
    "n_waters_cub = msm.get(molecular_system_cub, target='system', n_waters=True)\n",
    "n_waters_oct = msm.get(molecular_system_oct, target='system', n_waters=True)\n",
    "n_waters_dod = msm.get(molecular_system_dod, target='system', n_waters=True)\n",
    "\n",
    "n_waters_oct_to_cub = round(100.0* n_waters_oct/n_waters_cub, 2)\n",
    "n_waters_dod_to_cub = round(100.0* n_waters_dod/n_waters_cub, 2)"
   ]
  },
  {
   "cell_type": "code",
   "execution_count": 51,
   "metadata": {},
   "outputs": [
    {
     "name": "stdout",
     "output_type": "stream",
     "text": [
      "Cubic box: 2040 water (100.0% -cubic reference-)\n",
      "Truncated octahedral box: 1690 water (82.84% -cubic reference-)\n",
      "Rhombic dodecahedron box: 1433 water (70.25% -cubic reference-)\n"
     ]
    }
   ],
   "source": [
    "print('Cubic box: {} water (100.0% -cubic reference-)'.format(n_waters_cub))\n",
    "print('Truncated octahedral box: {} water ({}% -cubic reference-)'.format(n_waters_oct, n_waters_oct_to_cub))\n",
    "print('Rhombic dodecahedron box: {} water ({}% -cubic reference-)'.format(n_waters_dod, n_waters_dod_to_cub))"
   ]
  },
  {
   "cell_type": "code",
   "execution_count": 55,
   "metadata": {},
   "outputs": [],
   "source": [
    "volume_cub = msm.get(molecular_system_cub, target='system', box_volume=True)\n",
    "volume_oct = msm.get(molecular_system_oct, target='system', box_volume=True)\n",
    "volume_dod = msm.get(molecular_system_dod, target='system', box_volume=True)\n",
    "\n",
    "volume_oct_to_cub = round(100.0* volume_oct[0]/volume_cub[0], 2).magnitude\n",
    "volume_dod_to_cub = round(100.0* volume_dod[0]/volume_cub[0], 2).magnitude"
   ]
  },
  {
   "cell_type": "code",
   "execution_count": 56,
   "metadata": {},
   "outputs": [
    {
     "name": "stdout",
     "output_type": "stream",
     "text": [
      "Cubic box: 73.34958685600007 nanometer ** 3 volue (100% -cubic reference-)\n",
      "Truncated octahedral box: 56.46453828834598 nanometer ** 3 volume (76.98% -cubic reference-)\n",
      "Rhombic dodecahedron box: 51.8659902631093 nanometer ** 3 volume (70.71% -cubic reference-)\n"
     ]
    }
   ],
   "source": [
    "print('Cubic box: {} volue (100% -cubic reference-)'.format(volume_cub[0]))\n",
    "print('Truncated octahedral box: {} volume ({}% -cubic reference-)'.format(volume_oct[0], volume_oct_to_cub))\n",
    "print('Rhombic dodecahedron box: {} volume ({}% -cubic reference-)'.format(volume_dod[0], volume_dod_to_cub))"
   ]
  },
  {
   "cell_type": "markdown",
   "metadata": {},
   "source": [
    "## Solvation engines"
   ]
  },
  {
   "cell_type": "code",
   "execution_count": 58,
   "metadata": {},
   "outputs": [],
   "source": [
    "molecular_system_oct_leap = msm.build.solvate([msm.build.remove_hydrogens(molecular_system),\n",
    "                              {'forcefield':'AMBER14', 'water_model':'TIP3P'}],\n",
    "                              box_geometry='truncated octahedral',\n",
    "                              clearance='14.0 angstroms',\n",
    "                              to_form='molsysmt.MolSys', engine='LEaP', verbose=False)"
   ]
  },
  {
   "cell_type": "code",
   "execution_count": 59,
   "metadata": {},
   "outputs": [
    {
     "data": {
      "text/html": [
       "<style type=\"text/css\">\n",
       "</style>\n",
       "<table id=\"T_ad39f_\">\n",
       "  <thead>\n",
       "    <tr>\n",
       "      <th class=\"col_heading level0 col0\" >form</th>\n",
       "      <th class=\"col_heading level0 col1\" >n_atoms</th>\n",
       "      <th class=\"col_heading level0 col2\" >n_groups</th>\n",
       "      <th class=\"col_heading level0 col3\" >n_components</th>\n",
       "      <th class=\"col_heading level0 col4\" >n_chains</th>\n",
       "      <th class=\"col_heading level0 col5\" >n_molecules</th>\n",
       "      <th class=\"col_heading level0 col6\" >n_entities</th>\n",
       "      <th class=\"col_heading level0 col7\" >n_waters</th>\n",
       "      <th class=\"col_heading level0 col8\" >n_ions</th>\n",
       "      <th class=\"col_heading level0 col9\" >n_peptides</th>\n",
       "      <th class=\"col_heading level0 col10\" >n_frames</th>\n",
       "    </tr>\n",
       "  </thead>\n",
       "  <tbody>\n",
       "    <tr>\n",
       "      <td id=\"T_ad39f_row0_col0\" class=\"data row0 col0\" >molsysmt.MolSys</td>\n",
       "      <td id=\"T_ad39f_row0_col1\" class=\"data row0 col1\" >15973</td>\n",
       "      <td id=\"T_ad39f_row0_col2\" class=\"data row0 col2\" >5162</td>\n",
       "      <td id=\"T_ad39f_row0_col3\" class=\"data row0 col3\" >5125</td>\n",
       "      <td id=\"T_ad39f_row0_col4\" class=\"data row0 col4\" >1</td>\n",
       "      <td id=\"T_ad39f_row0_col5\" class=\"data row0 col5\" >5125</td>\n",
       "      <td id=\"T_ad39f_row0_col6\" class=\"data row0 col6\" >3</td>\n",
       "      <td id=\"T_ad39f_row0_col7\" class=\"data row0 col7\" >5122</td>\n",
       "      <td id=\"T_ad39f_row0_col8\" class=\"data row0 col8\" >2</td>\n",
       "      <td id=\"T_ad39f_row0_col9\" class=\"data row0 col9\" >1</td>\n",
       "      <td id=\"T_ad39f_row0_col10\" class=\"data row0 col10\" >1</td>\n",
       "    </tr>\n",
       "  </tbody>\n",
       "</table>\n"
      ],
      "text/plain": [
       "<pandas.io.formats.style.Styler at 0x7f0fa03e5e90>"
      ]
     },
     "execution_count": 59,
     "metadata": {},
     "output_type": "execute_result"
    }
   ],
   "source": [
    "msm.info(molecular_system_oct_leap)"
   ]
  },
  {
   "cell_type": "code",
   "execution_count": 60,
   "metadata": {},
   "outputs": [],
   "source": [
    "molecular_system_oct_leap = msm.pbc.wrap_to_mic(molecular_system_oct_leap, center_of_selection='molecule_type==\"peptide\"')"
   ]
  },
  {
   "cell_type": "code",
   "execution_count": 61,
   "metadata": {},
   "outputs": [
    {
     "data": {
      "application/vnd.jupyter.widget-view+json": {
       "model_id": "ceffce56b92e47e08ce163aeaa0e6674",
       "version_major": 2,
       "version_minor": 0
      },
      "text/plain": [
       "NGLWidget()"
      ]
     },
     "metadata": {},
     "output_type": "display_data"
    }
   ],
   "source": [
    "msm.view(molecular_system_oct_leap, standardize=True, water_as_surface=True)"
   ]
  },
  {
   "cell_type": "code",
   "execution_count": null,
   "metadata": {},
   "outputs": [],
   "source": []
  }
 ],
 "metadata": {
  "kernelspec": {
   "display_name": "Python 3 (ipykernel)",
   "language": "python",
   "name": "python3"
  },
  "language_info": {
   "codemirror_mode": {
    "name": "ipython",
    "version": 3
   },
   "file_extension": ".py",
   "mimetype": "text/x-python",
   "name": "python",
   "nbconvert_exporter": "python",
   "pygments_lexer": "ipython3",
   "version": "3.7.10"
  }
 },
 "nbformat": 4,
 "nbformat_minor": 4
}
