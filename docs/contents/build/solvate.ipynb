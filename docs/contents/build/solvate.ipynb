{
 "cells": [
  {
   "cell_type": "code",
   "execution_count": 1,
   "metadata": {},
   "outputs": [],
   "source": [
    "%load_ext autoreload\n",
    "%autoreload 2"
   ]
  },
  {
   "cell_type": "code",
   "execution_count": 2,
   "metadata": {},
   "outputs": [
    {
     "name": "stderr",
     "output_type": "stream",
     "text": [
      "Warning: importing 'simtk.openmm' is deprecated.  Import 'openmm' instead.\n"
     ]
    },
    {
     "data": {
      "application/vnd.jupyter.widget-view+json": {
       "model_id": "245e10a3fb1c454d85587d320713e249",
       "version_major": 2,
       "version_minor": 0
      },
      "text/plain": []
     },
     "metadata": {},
     "output_type": "display_data"
    }
   ],
   "source": [
    "import molsysmt as msm"
   ]
  },
  {
   "cell_type": "markdown",
   "metadata": {},
   "source": [
    "# Adding solvent"
   ]
  },
  {
   "cell_type": "code",
   "execution_count": 3,
   "metadata": {},
   "outputs": [
    {
     "name": "stderr",
     "output_type": "stream",
     "text": [
      "/home/diego/projects/molsysmt/molsysmt/native/io/topology/classes/mmtf_MMTFDecoder.py:43: UserWarning: The structure in the PDB has biological assemblies. There are geometrical transformations proposed in the structure. See the following issue in the source code repository: https://github.com/uibcdf/MolSysMT/issues/33\n",
      "  warnings.warn(warning_message)\n"
     ]
    }
   ],
   "source": [
    "molsys = msm.convert('pdbid:181L', to_form='molsysmt.MolSys')\n",
    "molsys = msm.extract(molsys, selection='molecule_type==\"protein\"')\n",
    "molsys = msm.build.add_terminal_capping(molsys, N_terminal='ACE', C_terminal='NME')\n",
    "molsys = msm.build.add_hydrogens(molsys)"
   ]
  },
  {
   "cell_type": "code",
   "execution_count": 4,
   "metadata": {},
   "outputs": [
    {
     "data": {
      "text/html": [
       "<style type=\"text/css\">\n",
       "</style>\n",
       "<table id=\"T_844aa_\">\n",
       "  <thead>\n",
       "    <tr>\n",
       "      <th class=\"col_heading level0 col0\" >form</th>\n",
       "      <th class=\"col_heading level0 col1\" >n_atoms</th>\n",
       "      <th class=\"col_heading level0 col2\" >n_groups</th>\n",
       "      <th class=\"col_heading level0 col3\" >n_components</th>\n",
       "      <th class=\"col_heading level0 col4\" >n_chains</th>\n",
       "      <th class=\"col_heading level0 col5\" >n_molecules</th>\n",
       "      <th class=\"col_heading level0 col6\" >n_entities</th>\n",
       "      <th class=\"col_heading level0 col7\" >n_proteins</th>\n",
       "      <th class=\"col_heading level0 col8\" >n_frames</th>\n",
       "    </tr>\n",
       "  </thead>\n",
       "  <tbody>\n",
       "    <tr>\n",
       "      <td id=\"T_844aa_row0_col0\" class=\"data row0 col0\" >molsysmt.MolSys</td>\n",
       "      <td id=\"T_844aa_row0_col1\" class=\"data row0 col1\" >2612</td>\n",
       "      <td id=\"T_844aa_row0_col2\" class=\"data row0 col2\" >164</td>\n",
       "      <td id=\"T_844aa_row0_col3\" class=\"data row0 col3\" >1</td>\n",
       "      <td id=\"T_844aa_row0_col4\" class=\"data row0 col4\" >1</td>\n",
       "      <td id=\"T_844aa_row0_col5\" class=\"data row0 col5\" >1</td>\n",
       "      <td id=\"T_844aa_row0_col6\" class=\"data row0 col6\" >1</td>\n",
       "      <td id=\"T_844aa_row0_col7\" class=\"data row0 col7\" >1</td>\n",
       "      <td id=\"T_844aa_row0_col8\" class=\"data row0 col8\" >1</td>\n",
       "    </tr>\n",
       "  </tbody>\n",
       "</table>\n"
      ],
      "text/plain": [
       "<pandas.io.formats.style.Styler at 0x7f1736847310>"
      ]
     },
     "execution_count": 4,
     "metadata": {},
     "output_type": "execute_result"
    }
   ],
   "source": [
    "msm.info(molsys)"
   ]
  },
  {
   "cell_type": "code",
   "execution_count": 5,
   "metadata": {},
   "outputs": [
    {
     "data": {
      "text/html": [
       "8.0 elementary_charge"
      ],
      "text/latex": [
       "$8.0\\ \\mathrm{elementary\\_charge}$"
      ],
      "text/plain": [
       "8.0 <Unit('elementary_charge')>"
      ]
     },
     "execution_count": 5,
     "metadata": {},
     "output_type": "execute_result"
    }
   ],
   "source": [
    "msm.physchem.charge([molsys, {'forcefield':'AMBER14'}], target='system')"
   ]
  },
  {
   "cell_type": "code",
   "execution_count": 6,
   "metadata": {},
   "outputs": [
    {
     "data": {
      "text/plain": [
       "False"
      ]
     },
     "execution_count": 6,
     "metadata": {},
     "output_type": "execute_result"
    }
   ],
   "source": [
    "msm.build.is_solvated(molsys)"
   ]
  },
  {
   "cell_type": "code",
   "execution_count": 7,
   "metadata": {},
   "outputs": [],
   "source": [
    "molsys_cub = msm.build.solvate([molsys, {'forcefield':'AMBER14', 'water_model':'TIP3P'}],\n",
    "                          box_geometry='cubic', clearance='14.0 angstroms',\n",
    "                          to_form='molsysmt.MolSys', engine=\"OpenMM\", verbose=False)"
   ]
  },
  {
   "cell_type": "code",
   "execution_count": 8,
   "metadata": {},
   "outputs": [
    {
     "data": {
      "text/plain": [
       "True"
      ]
     },
     "execution_count": 8,
     "metadata": {},
     "output_type": "execute_result"
    }
   ],
   "source": [
    "msm.build.is_solvated(molsys_cub)"
   ]
  },
  {
   "cell_type": "code",
   "execution_count": 9,
   "metadata": {},
   "outputs": [
    {
     "data": {
      "text/html": [
       "<style type=\"text/css\">\n",
       "</style>\n",
       "<table id=\"T_020d9_\">\n",
       "  <thead>\n",
       "    <tr>\n",
       "      <th class=\"col_heading level0 col0\" >form</th>\n",
       "      <th class=\"col_heading level0 col1\" >n_atoms</th>\n",
       "      <th class=\"col_heading level0 col2\" >n_groups</th>\n",
       "      <th class=\"col_heading level0 col3\" >n_components</th>\n",
       "      <th class=\"col_heading level0 col4\" >n_chains</th>\n",
       "      <th class=\"col_heading level0 col5\" >n_molecules</th>\n",
       "      <th class=\"col_heading level0 col6\" >n_entities</th>\n",
       "      <th class=\"col_heading level0 col7\" >n_waters</th>\n",
       "      <th class=\"col_heading level0 col8\" >n_ions</th>\n",
       "      <th class=\"col_heading level0 col9\" >n_proteins</th>\n",
       "      <th class=\"col_heading level0 col10\" >n_frames</th>\n",
       "    </tr>\n",
       "  </thead>\n",
       "  <tbody>\n",
       "    <tr>\n",
       "      <td id=\"T_020d9_row0_col0\" class=\"data row0 col0\" >molsysmt.MolSys</td>\n",
       "      <td id=\"T_020d9_row0_col1\" class=\"data row0 col1\" >45490</td>\n",
       "      <td id=\"T_020d9_row0_col2\" class=\"data row0 col2\" >14462</td>\n",
       "      <td id=\"T_020d9_row0_col3\" class=\"data row0 col3\" >14299</td>\n",
       "      <td id=\"T_020d9_row0_col4\" class=\"data row0 col4\" >3</td>\n",
       "      <td id=\"T_020d9_row0_col5\" class=\"data row0 col5\" >14299</td>\n",
       "      <td id=\"T_020d9_row0_col6\" class=\"data row0 col6\" >3</td>\n",
       "      <td id=\"T_020d9_row0_col7\" class=\"data row0 col7\" >14290</td>\n",
       "      <td id=\"T_020d9_row0_col8\" class=\"data row0 col8\" >8</td>\n",
       "      <td id=\"T_020d9_row0_col9\" class=\"data row0 col9\" >1</td>\n",
       "      <td id=\"T_020d9_row0_col10\" class=\"data row0 col10\" >1</td>\n",
       "    </tr>\n",
       "  </tbody>\n",
       "</table>\n"
      ],
      "text/plain": [
       "<pandas.io.formats.style.Styler at 0x7f1725bd3510>"
      ]
     },
     "execution_count": 9,
     "metadata": {},
     "output_type": "execute_result"
    }
   ],
   "source": [
    "msm.info(molsys_cub)"
   ]
  },
  {
   "cell_type": "code",
   "execution_count": 10,
   "metadata": {},
   "outputs": [
    {
     "data": {
      "text/html": [
       "<style type=\"text/css\">\n",
       "</style>\n",
       "<table id=\"T_efc31_\">\n",
       "  <thead>\n",
       "    <tr>\n",
       "      <th class=\"col_heading level0 col0\" >index</th>\n",
       "      <th class=\"col_heading level0 col1\" >name</th>\n",
       "      <th class=\"col_heading level0 col2\" >type</th>\n",
       "      <th class=\"col_heading level0 col3\" >n atoms</th>\n",
       "      <th class=\"col_heading level0 col4\" >n groups</th>\n",
       "      <th class=\"col_heading level0 col5\" >n components</th>\n",
       "      <th class=\"col_heading level0 col6\" >n chains</th>\n",
       "      <th class=\"col_heading level0 col7\" >n molecules</th>\n",
       "    </tr>\n",
       "  </thead>\n",
       "  <tbody>\n",
       "    <tr>\n",
       "      <td id=\"T_efc31_row0_col0\" class=\"data row0 col0\" >0</td>\n",
       "      <td id=\"T_efc31_row0_col1\" class=\"data row0 col1\" >Protein_0</td>\n",
       "      <td id=\"T_efc31_row0_col2\" class=\"data row0 col2\" >protein</td>\n",
       "      <td id=\"T_efc31_row0_col3\" class=\"data row0 col3\" >2612</td>\n",
       "      <td id=\"T_efc31_row0_col4\" class=\"data row0 col4\" >164</td>\n",
       "      <td id=\"T_efc31_row0_col5\" class=\"data row0 col5\" >1</td>\n",
       "      <td id=\"T_efc31_row0_col6\" class=\"data row0 col6\" >1</td>\n",
       "      <td id=\"T_efc31_row0_col7\" class=\"data row0 col7\" >1</td>\n",
       "    </tr>\n",
       "    <tr>\n",
       "      <td id=\"T_efc31_row1_col0\" class=\"data row1 col0\" >1</td>\n",
       "      <td id=\"T_efc31_row1_col1\" class=\"data row1 col1\" >water</td>\n",
       "      <td id=\"T_efc31_row1_col2\" class=\"data row1 col2\" >water</td>\n",
       "      <td id=\"T_efc31_row1_col3\" class=\"data row1 col3\" >42870</td>\n",
       "      <td id=\"T_efc31_row1_col4\" class=\"data row1 col4\" >14290</td>\n",
       "      <td id=\"T_efc31_row1_col5\" class=\"data row1 col5\" >14290</td>\n",
       "      <td id=\"T_efc31_row1_col6\" class=\"data row1 col6\" >1</td>\n",
       "      <td id=\"T_efc31_row1_col7\" class=\"data row1 col7\" >14290</td>\n",
       "    </tr>\n",
       "    <tr>\n",
       "      <td id=\"T_efc31_row2_col0\" class=\"data row2 col0\" >2</td>\n",
       "      <td id=\"T_efc31_row2_col1\" class=\"data row2 col1\" >CL</td>\n",
       "      <td id=\"T_efc31_row2_col2\" class=\"data row2 col2\" >ion</td>\n",
       "      <td id=\"T_efc31_row2_col3\" class=\"data row2 col3\" >8</td>\n",
       "      <td id=\"T_efc31_row2_col4\" class=\"data row2 col4\" >8</td>\n",
       "      <td id=\"T_efc31_row2_col5\" class=\"data row2 col5\" >8</td>\n",
       "      <td id=\"T_efc31_row2_col6\" class=\"data row2 col6\" >1</td>\n",
       "      <td id=\"T_efc31_row2_col7\" class=\"data row2 col7\" >8</td>\n",
       "    </tr>\n",
       "  </tbody>\n",
       "</table>\n"
      ],
      "text/plain": [
       "<pandas.io.formats.style.Styler at 0x7f1725932350>"
      ]
     },
     "execution_count": 10,
     "metadata": {},
     "output_type": "execute_result"
    }
   ],
   "source": [
    "msm.info(molsys_cub, target='entity')"
   ]
  },
  {
   "cell_type": "code",
   "execution_count": 11,
   "metadata": {},
   "outputs": [
    {
     "data": {
      "text/html": [
       "-0.0 elementary_charge"
      ],
      "text/latex": [
       "$-0.0\\ \\mathrm{elementary\\_charge}$"
      ],
      "text/plain": [
       "-0.0 <Unit('elementary_charge')>"
      ]
     },
     "execution_count": 11,
     "metadata": {},
     "output_type": "execute_result"
    }
   ],
   "source": [
    "msm.physchem.charge([molsys_cub, {'forcefield':'AMBER14', 'water_model':'TIP3P'}], target='system')"
   ]
  },
  {
   "cell_type": "code",
   "execution_count": 12,
   "metadata": {},
   "outputs": [],
   "source": [
    "box, box_angles, box_shape = msm.get(molsys_cub, target='system', box=True, box_angles=True,\n",
    "                                     box_shape=True)"
   ]
  },
  {
   "cell_type": "code",
   "execution_count": 13,
   "metadata": {},
   "outputs": [
    {
     "data": {
      "text/html": [
       "<table><tbody><tr><th>Magnitude</th><td style='text-align:left;'><pre>[[[7.798015761375428 0.0 0.0]<br>  [0.0 7.798015761375428 0.0]<br>  [0.0 0.0 7.798015761375428]]]</pre></td></tr><tr><th>Units</th><td style='text-align:left;'>nanometer</td></tr></tbody></table>"
      ],
      "text/latex": [
       "$arr[,0,:,:] = \\begin{pmatrix}7.798015761375428 & 0.0 & 0.0\\\\ \n",
       "0.0 & 7.798015761375428 & 0.0\\\\ \n",
       "0.0 & 0.0 & 7.798015761375428\\end{pmatrix}\\ \\mathrm{nanometer}$"
      ],
      "text/plain": [
       "array([[[7.79801576, 0.        , 0.        ],\n",
       "        [0.        , 7.79801576, 0.        ],\n",
       "        [0.        , 0.        , 7.79801576]]]) <Unit('nanometer')>"
      ]
     },
     "execution_count": 13,
     "metadata": {},
     "output_type": "execute_result"
    }
   ],
   "source": [
    "box"
   ]
  },
  {
   "cell_type": "code",
   "execution_count": 14,
   "metadata": {},
   "outputs": [
    {
     "data": {
      "text/html": [
       "<table><tbody><tr><th>Magnitude</th><td style='text-align:left;'><pre>[[90.000001 90.000001 90.000001]]</pre></td></tr><tr><th>Units</th><td style='text-align:left;'>degree</td></tr></tbody></table>"
      ],
      "text/latex": [
       "$\\begin{pmatrix}90.000001 & 90.000001 & 90.000001\\end{pmatrix}\\ \\mathrm{degree}$"
      ],
      "text/plain": [
       "array([[90.000001, 90.000001, 90.000001]]) <Unit('degree')>"
      ]
     },
     "execution_count": 14,
     "metadata": {},
     "output_type": "execute_result"
    }
   ],
   "source": [
    "box_angles"
   ]
  },
  {
   "cell_type": "code",
   "execution_count": 15,
   "metadata": {},
   "outputs": [
    {
     "data": {
      "text/plain": [
       "'cubic'"
      ]
     },
     "execution_count": 15,
     "metadata": {},
     "output_type": "execute_result"
    }
   ],
   "source": [
    "box_shape"
   ]
  },
  {
   "cell_type": "code",
   "execution_count": 16,
   "metadata": {},
   "outputs": [],
   "source": [
    "molsys_cub = msm.pbc.wrap_to_pbc(molsys_cub, center_of_selection='molecule_type==\"protein\"')"
   ]
  },
  {
   "cell_type": "code",
   "execution_count": 17,
   "metadata": {},
   "outputs": [
    {
     "data": {
      "application/vnd.jupyter.widget-view+json": {
       "model_id": "8c86cce6628845818bee3e80914a79f5",
       "version_major": 2,
       "version_minor": 0
      },
      "text/plain": [
       "NGLWidget()"
      ]
     },
     "metadata": {},
     "output_type": "display_data"
    }
   ],
   "source": [
    "msm.view(molsys_cub, standardize=True, water_as_surface=True)"
   ]
  },
  {
   "cell_type": "markdown",
   "metadata": {},
   "source": [
    "## Adding ions "
   ]
  },
  {
   "cell_type": "markdown",
   "metadata": {},
   "source": [
    "## PBC box geometry\n",
    "\n",
    "All periodic boxes used in molecular dynamics simulations (cubic, triclinic,  hexagonal, dodecahedral or octahedral) are equivalent equivalent. All of them can be transformed into a triclinic box with the proper angles and edge lengths. See: Bekker, H. “Unification of Box Shapes in Molecular Simulations.” Journal of Computational Chemistry 18, no. 15 (1997): 1930–42. https://doi.org/10.1002/(sici)1096-987x(19971130)18:15<1930::aid-jcc8>3.0.co;2-p."
   ]
  },
  {
   "cell_type": "code",
   "execution_count": 18,
   "metadata": {},
   "outputs": [],
   "source": [
    "molsys_oct = msm.build.solvate(molsys, box_geometry='truncated octahedral',\n",
    "                         clearance='14.0 angstroms', engine='PDBFixer')"
   ]
  },
  {
   "cell_type": "code",
   "execution_count": 19,
   "metadata": {},
   "outputs": [
    {
     "data": {
      "text/html": [
       "<style type=\"text/css\">\n",
       "</style>\n",
       "<table id=\"T_3df08_\">\n",
       "  <thead>\n",
       "    <tr>\n",
       "      <th class=\"col_heading level0 col0\" >form</th>\n",
       "      <th class=\"col_heading level0 col1\" >n_atoms</th>\n",
       "      <th class=\"col_heading level0 col2\" >n_groups</th>\n",
       "      <th class=\"col_heading level0 col3\" >n_components</th>\n",
       "      <th class=\"col_heading level0 col4\" >n_chains</th>\n",
       "      <th class=\"col_heading level0 col5\" >n_molecules</th>\n",
       "      <th class=\"col_heading level0 col6\" >n_entities</th>\n",
       "      <th class=\"col_heading level0 col7\" >n_waters</th>\n",
       "      <th class=\"col_heading level0 col8\" >n_ions</th>\n",
       "      <th class=\"col_heading level0 col9\" >n_proteins</th>\n",
       "      <th class=\"col_heading level0 col10\" >n_frames</th>\n",
       "    </tr>\n",
       "  </thead>\n",
       "  <tbody>\n",
       "    <tr>\n",
       "      <td id=\"T_3df08_row0_col0\" class=\"data row0 col0\" >molsysmt.MolSys</td>\n",
       "      <td id=\"T_3df08_row0_col1\" class=\"data row0 col1\" >19630</td>\n",
       "      <td id=\"T_3df08_row0_col2\" class=\"data row0 col2\" >5842</td>\n",
       "      <td id=\"T_3df08_row0_col3\" class=\"data row0 col3\" >5679</td>\n",
       "      <td id=\"T_3df08_row0_col4\" class=\"data row0 col4\" >3</td>\n",
       "      <td id=\"T_3df08_row0_col5\" class=\"data row0 col5\" >5679</td>\n",
       "      <td id=\"T_3df08_row0_col6\" class=\"data row0 col6\" >3</td>\n",
       "      <td id=\"T_3df08_row0_col7\" class=\"data row0 col7\" >5670</td>\n",
       "      <td id=\"T_3df08_row0_col8\" class=\"data row0 col8\" >8</td>\n",
       "      <td id=\"T_3df08_row0_col9\" class=\"data row0 col9\" >1</td>\n",
       "      <td id=\"T_3df08_row0_col10\" class=\"data row0 col10\" >1</td>\n",
       "    </tr>\n",
       "  </tbody>\n",
       "</table>\n"
      ],
      "text/plain": [
       "<pandas.io.formats.style.Styler at 0x7f1725740f90>"
      ]
     },
     "execution_count": 19,
     "metadata": {},
     "output_type": "execute_result"
    }
   ],
   "source": [
    "msm.info(molsys_oct)"
   ]
  },
  {
   "cell_type": "code",
   "execution_count": 20,
   "metadata": {},
   "outputs": [],
   "source": [
    "molsys_oct = msm.pbc.wrap_to_pbc(molsys_oct, center_of_selection='molecule_type==\"protein\"')"
   ]
  },
  {
   "cell_type": "code",
   "execution_count": 21,
   "metadata": {},
   "outputs": [
    {
     "data": {
      "application/vnd.jupyter.widget-view+json": {
       "model_id": "7b5e7308336f48628980e076d3d57792",
       "version_major": 2,
       "version_minor": 0
      },
      "text/plain": [
       "NGLWidget()"
      ]
     },
     "metadata": {},
     "output_type": "display_data"
    }
   ],
   "source": [
    "msm.view(molsys_oct, standardize=True, water_as_surface=True)"
   ]
  },
  {
   "cell_type": "markdown",
   "metadata": {},
   "source": [
    "In a triclinic box it is not sure that all elements in the unit cell can be considered first neighbors. Some pairs of atoms minimize their distance when one of them are located in a neighbor unit cell. But ¿Which one? Finding the periodic image that minimizes the distance is not in general as straight forward as it is if the box is cubic. This problem is known as \"the minimum image convention\". Actually, the distance between any two atoms in a periodic box is not computed removing the PBC, or centering a unit cell in any of those atoms. It is solved finding the minimum image convention. Then, let's see what happens when we take only the image of every atom with minimal distance to the center of the protein:"
   ]
  },
  {
   "cell_type": "code",
   "execution_count": 22,
   "metadata": {},
   "outputs": [],
   "source": [
    "molsys_oct = msm.pbc.wrap_to_mic(molsys_oct, center_of_selection='molecule_type==\"protein\"')"
   ]
  },
  {
   "cell_type": "code",
   "execution_count": 23,
   "metadata": {},
   "outputs": [
    {
     "data": {
      "application/vnd.jupyter.widget-view+json": {
       "model_id": "96d62152accb4eaa8b2e8ba9cebbfc89",
       "version_major": 2,
       "version_minor": 0
      },
      "text/plain": [
       "NGLWidget()"
      ]
     },
     "metadata": {},
     "output_type": "display_data"
    }
   ],
   "source": [
    "msm.view(molsys_oct, standardize=True, water_as_surface=True)"
   ]
  },
  {
   "cell_type": "markdown",
   "metadata": {},
   "source": [
    "The equivalent geometry is now recovered. It is then \"a proof\" of the equivalency between the triclinic box and the truncated octahedral box."
   ]
  },
  {
   "cell_type": "markdown",
   "metadata": {},
   "source": [
    "But why do we need a non cubic periodic box? In general a case, we want to be sure that a molecule is \"solvated\". What does this mean? It means that our molecule is surrounded by a thick enough layer of water molecules. ¿This can be accomplished by a cubic periodic box? Yes of course. But it can also be achieved with other geometries making use of a lower number of water molecules. Which means that running a molecular simulation with these other geometries will be computationally cheaper than with a periodic cube:"
   ]
  },
  {
   "cell_type": "code",
   "execution_count": 24,
   "metadata": {},
   "outputs": [],
   "source": [
    "molsys_cub = msm.build.solvate(molsys, box_geometry='cubic', clearance='14.0 angstroms', engine='PDBFixer')\n",
    "molsys_oct = msm.build.solvate(molsys, box_geometry='truncated octahedral',  clearance='14.0 angstroms', engine='PDBFixer')\n",
    "molsys_dod = msm.build.solvate(molsys, box_geometry='rhombic dodecahedral', clearance='14.0 angstroms', engine='PDBFixer')"
   ]
  },
  {
   "cell_type": "code",
   "execution_count": 25,
   "metadata": {},
   "outputs": [],
   "source": [
    "n_waters_cub = msm.get(molsys_cub, target='system', n_waters=True)\n",
    "n_waters_oct = msm.get(molsys_oct, target='system', n_waters=True)\n",
    "n_waters_dod = msm.get(molsys_dod, target='system', n_waters=True)"
   ]
  },
  {
   "cell_type": "code",
   "execution_count": 26,
   "metadata": {},
   "outputs": [
    {
     "name": "stdout",
     "output_type": "stream",
     "text": [
      "Cubic box: 7264 water (100.0% -cubic reference-)\n",
      "Truncated octahedral box: 5670 water (78.05616740088105% -cubic reference-)\n",
      "Rhombic dodecahedron box: 5015 water (69.03909691629956% -cubic reference-)\n"
     ]
    }
   ],
   "source": [
    "print('Cubic box: {} water ({}% -cubic reference-)'.format(n_waters_cub, 100.0* n_waters_cub/n_waters_cub))\n",
    "print('Truncated octahedral box: {} water ({}% -cubic reference-)'.format(n_waters_oct, 100.0* n_waters_oct/n_waters_cub))\n",
    "print('Rhombic dodecahedron box: {} water ({}% -cubic reference-)'.format(n_waters_dod, 100.0* n_waters_dod/n_waters_cub))"
   ]
  },
  {
   "cell_type": "code",
   "execution_count": 27,
   "metadata": {},
   "outputs": [],
   "source": [
    "volume_cub = msm.get(molsys_cub, target='system', box_volume=True)\n",
    "volume_oct = msm.get(molsys_oct, target='system', box_volume=True)\n",
    "volume_dod = msm.get(molsys_dod, target='system', box_volume=True)"
   ]
  },
  {
   "cell_type": "code",
   "execution_count": 29,
   "metadata": {},
   "outputs": [
    {
     "name": "stdout",
     "output_type": "stream",
     "text": [
      "Cubic box: 261.898316792 nanometer ** 3 volue (100.0 dimensionless% -cubic reference-)\n",
      "Truncated octahedral box: 201.6094182668948 nanometer ** 3 volume (76.98003589195011 dimensionless% -cubic reference-)\n",
      "Rhombic dodecahedron box: 185.19007578496584 nanometer ** 3 volume (70.71067811865476 dimensionless% -cubic reference-)\n"
     ]
    }
   ],
   "source": [
    "print('Cubic box: {} volue ({}% -cubic reference-)'.format(volume_cub[0], 100.0* volume_cub[0]/volume_cub[0]))\n",
    "print('Truncated octahedral box: {} volume ({}% -cubic reference-)'.format(volume_oct[0], 100.0* volume_oct[0]/volume_cub[0]))\n",
    "print('Rhombic dodecahedron box: {} volume ({}% -cubic reference-)'.format(volume_dod[0], 100.0* volume_dod[0]/volume_cub[0]))"
   ]
  },
  {
   "cell_type": "markdown",
   "metadata": {},
   "source": [
    "## Solvation engines"
   ]
  },
  {
   "cell_type": "code",
   "execution_count": null,
   "metadata": {},
   "outputs": [],
   "source": [
    "molsys_oct_leap = msm.build.solvate([msm.build.remove_hydrogens(molsys),\n",
    "                              {'forcefield':'AMBER14', 'water_model':'TIP3P'}],\n",
    "                              box_geometry='truncated_octahedral',\n",
    "                              clearance='14.0 angstroms',\n",
    "                              to_form='molsysmt.MolSys', engine='LEaP', verbose=False)"
   ]
  },
  {
   "cell_type": "code",
   "execution_count": null,
   "metadata": {},
   "outputs": [],
   "source": [
    "msm.info(molsys_oct_leap)"
   ]
  },
  {
   "cell_type": "code",
   "execution_count": null,
   "metadata": {},
   "outputs": [],
   "source": [
    "molsys_oct_leap = msm.pbc.wrap_to_mic(molsys_oct_leap, center_of_selection='molecule_type==\"protein\"')"
   ]
  },
  {
   "cell_type": "code",
   "execution_count": null,
   "metadata": {},
   "outputs": [],
   "source": [
    "msm.view(molsys_oct_leap, standardize=True, water_as_surface=True)"
   ]
  },
  {
   "cell_type": "code",
   "execution_count": null,
   "metadata": {},
   "outputs": [],
   "source": []
  }
 ],
 "metadata": {
  "kernelspec": {
   "display_name": "Python 3 (ipykernel)",
   "language": "python",
   "name": "python3"
  },
  "language_info": {
   "codemirror_mode": {
    "name": "ipython",
    "version": 3
   },
   "file_extension": ".py",
   "mimetype": "text/x-python",
   "name": "python",
   "nbconvert_exporter": "python",
   "pygments_lexer": "ipython3",
   "version": "3.7.10"
  }
 },
 "nbformat": 4,
 "nbformat_minor": 4
}
