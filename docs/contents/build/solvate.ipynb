{
 "cells": [
  {
   "cell_type": "markdown",
   "id": "240b7194-5021-41a1-bbb7-c12145365cc4",
   "metadata": {},
   "source": [
    "# Solvate"
   ]
  },
  {
   "cell_type": "code",
   "execution_count": null,
   "id": "9271e210-e85f-4f08-8b20-b23154a84fc5",
   "metadata": {},
   "outputs": [],
   "source": []
  }
 ],
 "metadata": {
  "kernelspec": {
   "display_name": "Python 3 (ipykernel)",
   "language": "python",
   "name": "python3"
  },
  "language_info": {
   "codemirror_mode": {
    "name": "ipython",
    "version": 3
   },
   "file_extension": ".py",
   "mimetype": "text/x-python",
   "name": "python",
   "nbconvert_exporter": "python",
   "pygments_lexer": "ipython3",
   "version": "3.7.10"
  }
 },
 "nbformat": 4,
 "nbformat_minor": 5
}
