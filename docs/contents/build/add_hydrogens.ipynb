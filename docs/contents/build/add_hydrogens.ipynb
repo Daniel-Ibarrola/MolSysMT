{
 "cells": [
  {
   "cell_type": "code",
   "execution_count": 1,
   "id": "1d4d64d7-d46a-421b-96a5-62da89b6365a",
   "metadata": {},
   "outputs": [],
   "source": [
    "%load_ext autoreload\n",
    "%autoreload 2"
   ]
  },
  {
   "cell_type": "code",
   "execution_count": 2,
   "id": "d769e0ee-2ccc-4c17-bfa0-9bbc96a248a4",
   "metadata": {},
   "outputs": [
    {
     "name": "stderr",
     "output_type": "stream",
     "text": [
      "Warning: importing 'simtk.openmm' is deprecated.  Import 'openmm' instead.\n"
     ]
    },
    {
     "data": {
      "application/vnd.jupyter.widget-view+json": {
       "model_id": "395aac422e774630bae285d7e7572a1d",
       "version_major": 2,
       "version_minor": 0
      },
      "text/plain": []
     },
     "metadata": {},
     "output_type": "display_data"
    }
   ],
   "source": [
    "import molsysmt as msm"
   ]
  },
  {
   "cell_type": "markdown",
   "id": "033f9485-5d88-4058-bf9d-50fbc98ef609",
   "metadata": {},
   "source": [
    "# Add hydrogens"
   ]
  },
  {
   "cell_type": "code",
   "execution_count": 3,
   "id": "b1e1c738-9fe3-4721-aaad-aafa0c95c5b8",
   "metadata": {},
   "outputs": [
    {
     "name": "stderr",
     "output_type": "stream",
     "text": [
      "/home/diego/projects/molsysmt/molsysmt/native/io/topology/classes/mmtf_MMTFDecoder.py:43: UserWarning: The structure in the PDB has biological assemblies. There are geometrical transformations proposed in the structure. See the following issue in the source code repository: https://github.com/uibcdf/MolSysMT/issues/33\n",
      "  warnings.warn(warning_message)\n"
     ]
    }
   ],
   "source": [
    "molecular_system = msm.demo.files['1tcd.mmtf']\n",
    "molecular_system = msm.convert(molecular_system, to_form='molsysmt.MolSys')"
   ]
  },
  {
   "cell_type": "code",
   "execution_count": 4,
   "id": "98758094-ec9f-47b9-94b2-e05c1739d4ae",
   "metadata": {},
   "outputs": [
    {
     "data": {
      "text/plain": [
       "False"
      ]
     },
     "execution_count": 4,
     "metadata": {},
     "output_type": "execute_result"
    }
   ],
   "source": [
    "msm.build.has_hydrogens(molecular_system)"
   ]
  },
  {
   "cell_type": "code",
   "execution_count": null,
   "id": "a926b595-214a-40c8-911e-98d108ec4090",
   "metadata": {},
   "outputs": [],
   "source": [
    "n_Hs = msm.get(molecular_system, target='atom', selection='atom_type==\"H\"', n_atoms=True)\n",
    "print('{} hydrogens in the system'.format(n_Hs))"
   ]
  },
  {
   "cell_type": "code",
   "execution_count": 5,
   "id": "9d3a9b38-8ebf-4738-a9a3-9586cd4c9d4d",
   "metadata": {},
   "outputs": [],
   "source": [
    "molecular_system = msm.build.add_hydrogens(molecular_system, pH=7.4, engine='OpenMM')"
   ]
  },
  {
   "cell_type": "code",
   "execution_count": 6,
   "id": "dae0d0fc-5085-4c73-a8d4-bc97b4bcf87a",
   "metadata": {},
   "outputs": [
    {
     "data": {
      "text/plain": [
       "True"
      ]
     },
     "execution_count": 6,
     "metadata": {},
     "output_type": "execute_result"
    }
   ],
   "source": [
    "msm.build.has_hydrogens(molecular_system)"
   ]
  },
  {
   "cell_type": "code",
   "execution_count": 8,
   "id": "a780573d-c394-4ff5-99b4-49db5fd6decb",
   "metadata": {},
   "outputs": [
    {
     "name": "stdout",
     "output_type": "stream",
     "text": [
      "4219 hydrogens in the system\n"
     ]
    }
   ],
   "source": [
    "n_Hs = msm.get(molecular_system, target='atom', selection='atom_type==\"H\"', n_atoms=True)\n",
    "print('{} hydrogens in the system'.format(n_Hs))"
   ]
  },
  {
   "cell_type": "code",
   "execution_count": null,
   "id": "7dfe4026-c15a-478c-a369-428b62cdd91f",
   "metadata": {},
   "outputs": [],
   "source": []
  }
 ],
 "metadata": {
  "kernelspec": {
   "display_name": "Python 3 (ipykernel)",
   "language": "python",
   "name": "python3"
  },
  "language_info": {
   "codemirror_mode": {
    "name": "ipython",
    "version": 3
   },
   "file_extension": ".py",
   "mimetype": "text/x-python",
   "name": "python",
   "nbconvert_exporter": "python",
   "pygments_lexer": "ipython3",
   "version": "3.7.10"
  }
 },
 "nbformat": 4,
 "nbformat_minor": 5
}
