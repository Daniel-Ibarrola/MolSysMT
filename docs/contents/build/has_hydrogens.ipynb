{
 "cells": [
  {
   "cell_type": "code",
   "execution_count": 1,
   "id": "42761d88-ad20-4e98-991f-b15a5709918b",
   "metadata": {},
   "outputs": [],
   "source": [
    "%load_ext autoreload\n",
    "%autoreload 2"
   ]
  },
  {
   "cell_type": "code",
   "execution_count": 2,
   "id": "34e571d6-0e5a-4ba2-a398-67c03c16df11",
   "metadata": {},
   "outputs": [
    {
     "name": "stderr",
     "output_type": "stream",
     "text": [
      "Warning: importing 'simtk.openmm' is deprecated.  Import 'openmm' instead.\n"
     ]
    },
    {
     "data": {
      "application/vnd.jupyter.widget-view+json": {
       "model_id": "d1a94e0ace904fc4ac7c488ba5e6edfd",
       "version_major": 2,
       "version_minor": 0
      },
      "text/plain": []
     },
     "metadata": {},
     "output_type": "display_data"
    }
   ],
   "source": [
    "import molsysmt as msm"
   ]
  },
  {
   "cell_type": "markdown",
   "id": "3484fa66-6036-482a-a702-756297c276a7",
   "metadata": {},
   "source": [
    "# Has hydrogens"
   ]
  },
  {
   "cell_type": "code",
   "execution_count": 4,
   "id": "0683474b-5378-4c16-8d3e-8dc82e526e24",
   "metadata": {},
   "outputs": [
    {
     "name": "stderr",
     "output_type": "stream",
     "text": [
      "/home/diego/projects/molsysmt/molsysmt/native/io/topology/mmtf_MMTFDecoder.py:27: UserWarning: The structure in the PDB has biological assemblies. There are geometrical transformations proposed in the structure. See the following issue in the source code repository: https://github.com/uibcdf/MolSysMT/issues/33\n",
      "  warnings.warn(warning_message)\n"
     ]
    }
   ],
   "source": [
    "molecular_system = msm.demo['TcTIM']['1tcd.mmtf']\n",
    "molecular_system = msm.convert(molecular_system, to_form='molsysmt.MolSys')"
   ]
  },
  {
   "cell_type": "code",
   "execution_count": 5,
   "id": "6617e08c-99d6-41fb-bd6e-90bac25ecf8c",
   "metadata": {},
   "outputs": [
    {
     "data": {
      "text/plain": [
       "False"
      ]
     },
     "execution_count": 5,
     "metadata": {},
     "output_type": "execute_result"
    }
   ],
   "source": [
    "msm.build.has_hydrogens(molecular_system)"
   ]
  },
  {
   "cell_type": "code",
   "execution_count": 6,
   "id": "f808deed-e951-4633-89f8-af7fbb0aa225",
   "metadata": {},
   "outputs": [
    {
     "data": {
      "text/plain": [
       "0"
      ]
     },
     "execution_count": 6,
     "metadata": {},
     "output_type": "execute_result"
    }
   ],
   "source": [
    "msm.get(molecular_system, target='atom', selection='atom_type==\"H\"', n_atoms=True)"
   ]
  },
  {
   "cell_type": "code",
   "execution_count": 7,
   "id": "aa70455a-f5c3-4fc9-84b5-4f50f74131e3",
   "metadata": {},
   "outputs": [],
   "source": [
    "molecular_system = msm.build.add_hydrogens(molecular_system)"
   ]
  },
  {
   "cell_type": "code",
   "execution_count": 8,
   "id": "72034fb1-650a-442d-95f6-2d2a0fe5104e",
   "metadata": {},
   "outputs": [
    {
     "data": {
      "text/plain": [
       "True"
      ]
     },
     "execution_count": 8,
     "metadata": {},
     "output_type": "execute_result"
    }
   ],
   "source": [
    "msm.build.has_hydrogens(molecular_system)"
   ]
  },
  {
   "cell_type": "code",
   "execution_count": 9,
   "id": "10c70674-e2b2-453d-b7c9-e723191f3b3b",
   "metadata": {},
   "outputs": [
    {
     "data": {
      "text/plain": [
       "4219"
      ]
     },
     "execution_count": 9,
     "metadata": {},
     "output_type": "execute_result"
    }
   ],
   "source": [
    "msm.get(molecular_system, target='atom', selection='atom_type==\"H\"', n_atoms=True)"
   ]
  },
  {
   "cell_type": "code",
   "execution_count": null,
   "id": "f5146a3b-b851-4d8c-b6c0-71d6d2593a7f",
   "metadata": {},
   "outputs": [],
   "source": []
  }
 ],
 "metadata": {
  "kernelspec": {
   "display_name": "Python 3 (ipykernel)",
   "language": "python",
   "name": "python3"
  },
  "language_info": {
   "codemirror_mode": {
    "name": "ipython",
    "version": 3
   },
   "file_extension": ".py",
   "mimetype": "text/x-python",
   "name": "python",
   "nbconvert_exporter": "python",
   "pygments_lexer": "ipython3",
   "version": "3.7.10"
  }
 },
 "nbformat": 4,
 "nbformat_minor": 5
}
