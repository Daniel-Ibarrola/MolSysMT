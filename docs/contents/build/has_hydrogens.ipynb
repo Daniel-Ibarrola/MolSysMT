{
 "cells": [
  {
   "cell_type": "markdown",
   "id": "3484fa66-6036-482a-a702-756297c276a7",
   "metadata": {},
   "source": [
    "# Has hydrogens"
   ]
  },
  {
   "cell_type": "code",
   "execution_count": null,
   "id": "0683474b-5378-4c16-8d3e-8dc82e526e24",
   "metadata": {},
   "outputs": [],
   "source": []
  }
 ],
 "metadata": {
  "kernelspec": {
   "display_name": "Python 3 (ipykernel)",
   "language": "python",
   "name": "python3"
  },
  "language_info": {
   "codemirror_mode": {
    "name": "ipython",
    "version": 3
   },
   "file_extension": ".py",
   "mimetype": "text/x-python",
   "name": "python",
   "nbconvert_exporter": "python",
   "pygments_lexer": "ipython3",
   "version": "3.7.10"
  }
 },
 "nbformat": 4,
 "nbformat_minor": 5
}
