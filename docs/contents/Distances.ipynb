{
 "cells": [
  {
   "cell_type": "code",
   "execution_count": 1,
   "metadata": {},
   "outputs": [],
   "source": [
    "%load_ext autoreload\n",
    "%autoreload 2"
   ]
  },
  {
   "cell_type": "code",
   "execution_count": 2,
   "metadata": {},
   "outputs": [
    {
     "data": {
      "application/vnd.jupyter.widget-view+json": {
       "model_id": "8f4059cef13a48b08c5fd4616e6b1f7a",
       "version_major": 2,
       "version_minor": 0
      },
      "text/plain": [
       "_ColormakerRegistry()"
      ]
     },
     "metadata": {},
     "output_type": "display_data"
    }
   ],
   "source": [
    "import molsysmt as msm\n",
    "import numpy as np\n",
    "from simtk import unit\n",
    "import matplotlib.pyplot as plt"
   ]
  },
  {
   "cell_type": "markdown",
   "metadata": {},
   "source": [
    "# Getting distances, neighbor lists and contact maps.\n",
    "\n",
    "MolSysMT includes a very versatile method to calculate distances between points in space, atoms and/or groups of atoms. As many other methods of this multitool, the method `molsysmt.distance()` has an input argument to choose the engine in charge of getting the result. For instance, `molsysmt.distance()` currently offers two engines `MolSysMT` and `MDTraj`. At this moment only `MolSysMT` will be reported in this guide.\n",
    "\n",
    "The different options of the method `molsysmt.distance()` will be shown, little by little, along with the following examples."
   ]
  },
  {
   "cell_type": "markdown",
   "metadata": {},
   "source": [
    "## The XYZ molecular system form\n",
    "\n",
    "The first case, and the most simple one, is getting distances from a points distribution in space. MolSysMT accepts a molecular system form where only spatial coordinates are described, with out topological information: the `XYZ` form."
   ]
  },
  {
   "cell_type": "code",
   "execution_count": 3,
   "metadata": {},
   "outputs": [],
   "source": [
    "molecular_system = np.zeros([6,3], dtype='float64') * unit.nanometers"
   ]
  },
  {
   "cell_type": "code",
   "execution_count": 4,
   "metadata": {},
   "outputs": [
    {
     "data": {
      "text/plain": [
       "'XYZ'"
      ]
     },
     "execution_count": 4,
     "metadata": {},
     "output_type": "execute_result"
    }
   ],
   "source": [
    "msm.get(molecular_system, target='system', form=True)"
   ]
  },
  {
   "cell_type": "markdown",
   "metadata": {},
   "source": [
    "The `XYZ` form accepts numpy arrays with length units of the shape $[n\\_frames, n\\_atoms, 3]$ or $[n\\_atoms, 3]$. In case of having an array of rank 2, MolSysMT always understands $n\\_frames=1$ and the first rank as the number of atoms:"
   ]
  },
  {
   "cell_type": "code",
   "execution_count": 5,
   "metadata": {},
   "outputs": [
    {
     "data": {
      "text/plain": [
       "[1, 6]"
      ]
     },
     "execution_count": 5,
     "metadata": {},
     "output_type": "execute_result"
    }
   ],
   "source": [
    "msm.get(molecular_system, n_frames=True, n_atoms=True)"
   ]
  },
  {
   "cell_type": "markdown",
   "metadata": {},
   "source": [
    "Lets create a couple of `XYZ` molecular systems with more than a frame. These two systems will help us illustrate the firts distance calculations:"
   ]
  },
  {
   "cell_type": "code",
   "execution_count": 6,
   "metadata": {},
   "outputs": [],
   "source": [
    "# Molecular system A with three atoms and three frames.\n",
    "\n",
    "molecular_system_A = np.zeros([3,3,3], dtype='float64') * unit.nanometers\n",
    "\n",
    "## First atom\n",
    "molecular_system_A[0,0,:] = [0, 2, -1] * unit.nanometers\n",
    "molecular_system_A[1,0,:] = [1, 2, -1] * unit.nanometers\n",
    "molecular_system_A[2,0,:] = [0, 2, -1] * unit.nanometers\n",
    "\n",
    "## Second atom\n",
    "molecular_system_A[0,1,:] = [-1, 1, 1] * unit.nanometers\n",
    "molecular_system_A[1,1,:] = [-1, 0, 1] * unit.nanometers\n",
    "molecular_system_A[2,1,:] = [0, 0, 1] * unit.nanometers\n",
    "\n",
    "## Third atom\n",
    "molecular_system_A[0,2,:] = [-2, 0, 1] * unit.nanometers\n",
    "molecular_system_A[1,2,:] = [-2, 0, 0] * unit.nanometers\n",
    "molecular_system_A[2,2,:] = [-1, 1, 0] * unit.nanometers\n",
    "\n",
    "\n",
    "\n",
    "# Molecular system B with two atoms and three frames.\n",
    "\n",
    "molecular_system_B = np.zeros([3,2,3], dtype='float64') * unit.nanometers\n",
    "\n",
    "## First atom of B\n",
    "molecular_system_B[0,0,:] = [4, -2, 0] * unit.nanometers\n",
    "molecular_system_B[1,0,:] = [5, -2, -1] * unit.nanometers\n",
    "molecular_system_B[2,0,:] = [5, -2, 0] * unit.nanometers\n",
    "\n",
    "## Second atom of B\n",
    "molecular_system_B[0,1,:] = [3, 0, -1] * unit.nanometers\n",
    "molecular_system_B[1,1,:] = [3, 1, 0] * unit.nanometers\n",
    "molecular_system_B[2,1,:] = [4, 1, 1] * unit.nanometers"
   ]
  },
  {
   "cell_type": "markdown",
   "metadata": {},
   "source": [
    "## Distance between atoms in space\n",
    "\n",
    "### Distance between atoms of a system\n",
    "\n",
    "The first case shows how to get the distance between all points of a system at every frame"
   ]
  },
  {
   "cell_type": "code",
   "execution_count": 7,
   "metadata": {},
   "outputs": [],
   "source": [
    "distances = msm.distance(molecular_system_A)"
   ]
  },
  {
   "cell_type": "markdown",
   "metadata": {},
   "source": [
    "The result is an array of rank 3. Where the first axe or rank corresponds to the number of frames and the other two, the second and third axe, accounts for the point or atom indices:"
   ]
  },
  {
   "cell_type": "code",
   "execution_count": 8,
   "metadata": {},
   "outputs": [
    {
     "data": {
      "text/plain": [
       "(3, 3, 3)"
      ]
     },
     "execution_count": 8,
     "metadata": {},
     "output_type": "execute_result"
    }
   ],
   "source": [
    "distances.shape"
   ]
  },
  {
   "cell_type": "markdown",
   "metadata": {},
   "source": [
    "This way every distance between atoms at each frame is stored. Lets print out the distance between the 0-th and the 2-th atom at frame 1-th:"
   ]
  },
  {
   "cell_type": "code",
   "execution_count": 9,
   "metadata": {},
   "outputs": [
    {
     "name": "stdout",
     "output_type": "stream",
     "text": [
      "Distance at frame 1-th between atoms 0-th and 2-th: 3.7416573867739413 nm\n"
     ]
    }
   ],
   "source": [
    "print('Distance at frame 1-th between atoms 0-th and 2-th: {}'.format(distances[1,0,2]))"
   ]
  },
  {
   "cell_type": "markdown",
   "metadata": {},
   "source": [
    "If only the distance between atoms 0-th and 2-th at every frame is required, there is no need to compute $n\\_atoms x n\\_atoms$ distances. The input arguments `selection_1` and `selection_2` help us to define the range of elements of the output distance matrix:"
   ]
  },
  {
   "cell_type": "code",
   "execution_count": 10,
   "metadata": {},
   "outputs": [],
   "source": [
    "distances = msm.distance(molecular_system_A, selection_1=0, selection_2=2)"
   ]
  },
  {
   "cell_type": "markdown",
   "metadata": {},
   "source": [
    "This time the output is an array of rank 3 with shape $[3,1,1]$. The distance for just a pair of atoms was computed for three frames:"
   ]
  },
  {
   "cell_type": "code",
   "execution_count": 11,
   "metadata": {},
   "outputs": [
    {
     "data": {
      "text/plain": [
       "(3, 1, 1)"
      ]
     },
     "execution_count": 11,
     "metadata": {},
     "output_type": "execute_result"
    }
   ],
   "source": [
    "distances.shape"
   ]
  },
  {
   "cell_type": "code",
   "execution_count": 12,
   "metadata": {},
   "outputs": [
    {
     "name": "stdout",
     "output_type": "stream",
     "text": [
      "Distance at frame 0-th between atoms 0-th and 2-th: 3.4641016151377544 nm\n",
      "Distance at frame 1-th between atoms 0-th and 2-th: 3.7416573867739413 nm\n",
      "Distance at frame 2-th between atoms 0-th and 2-th: 1.7320508075688772 nm\n"
     ]
    }
   ],
   "source": [
    "for ii in range(3):\n",
    "    print('Distance at frame {}-th between atoms 0-th and 2-th: {}'.format(ii,distances[ii,0,0]))"
   ]
  },
  {
   "cell_type": "markdown",
   "metadata": {},
   "source": [
    "Lets try now to get the distance between the atom 1-th and the atoms 0-th and 2-th at every frame:"
   ]
  },
  {
   "cell_type": "code",
   "execution_count": 13,
   "metadata": {},
   "outputs": [],
   "source": [
    "distances = msm.distance(molecular_system_A, selection_1=1, selection_2=[0,2])"
   ]
  },
  {
   "cell_type": "markdown",
   "metadata": {},
   "source": [
    "As you will guess, the output matrix is an array of rank three this time with shape $[3,1,2]$:"
   ]
  },
  {
   "cell_type": "code",
   "execution_count": 14,
   "metadata": {},
   "outputs": [
    {
     "data": {
      "text/plain": [
       "(3, 1, 2)"
      ]
     },
     "execution_count": 14,
     "metadata": {},
     "output_type": "execute_result"
    }
   ],
   "source": [
    "distances.shape"
   ]
  },
  {
   "cell_type": "markdown",
   "metadata": {},
   "source": [
    "If we want now to print out the distance between atoms 1-th and 2-th for frame 0-th:"
   ]
  },
  {
   "cell_type": "code",
   "execution_count": 15,
   "metadata": {},
   "outputs": [
    {
     "name": "stdout",
     "output_type": "stream",
     "text": [
      "Distance at frame 0-th between atoms 1-th and 2-th: 1.4142135623730951 nm\n"
     ]
    }
   ],
   "source": [
    "print('Distance at frame 0-th between atoms 1-th and 2-th: {}'.format(distances[0,0,1]))"
   ]
  },
  {
   "cell_type": "markdown",
   "metadata": {},
   "source": [
    "The position of each atom in lists `selection_1` and `selection_2` is used to locate the corresponding distance in the output array. If instead, you want to use the original atom indices to locate a distance, the input argument `output_form='dict'` can help:"
   ]
  },
  {
   "cell_type": "code",
   "execution_count": 16,
   "metadata": {},
   "outputs": [],
   "source": [
    "distances = msm.distance(molecular_system_A, selection_1=1, selection_2=[0,2], output_form='dict')"
   ]
  },
  {
   "cell_type": "markdown",
   "metadata": {},
   "source": [
    "This way the output is no longer a numpy array of rank 3, the output object is now a dictionary of dictionaries of dictionaries. Where the set keys of the first dictionary corresponds to the atom indices of `selection_1`:"
   ]
  },
  {
   "cell_type": "code",
   "execution_count": 17,
   "metadata": {},
   "outputs": [
    {
     "data": {
      "text/plain": [
       "dict_keys([1])"
      ]
     },
     "execution_count": 17,
     "metadata": {},
     "output_type": "execute_result"
    }
   ],
   "source": [
    "distances.keys()"
   ]
  },
  {
   "cell_type": "markdown",
   "metadata": {},
   "source": [
    "The second nested dictionary has the atom indices of `selection_2` as keys:"
   ]
  },
  {
   "cell_type": "code",
   "execution_count": 18,
   "metadata": {},
   "outputs": [
    {
     "data": {
      "text/plain": [
       "dict_keys([0, 2])"
      ]
     },
     "execution_count": 18,
     "metadata": {},
     "output_type": "execute_result"
    }
   ],
   "source": [
    "distances[1].keys()"
   ]
  },
  {
   "cell_type": "markdown",
   "metadata": {},
   "source": [
    "And the third and last nested dictionary is defined with the frame indices as keys:"
   ]
  },
  {
   "cell_type": "code",
   "execution_count": 19,
   "metadata": {},
   "outputs": [
    {
     "data": {
      "text/plain": [
       "dict_keys([0, 1, 2])"
      ]
     },
     "execution_count": 19,
     "metadata": {},
     "output_type": "execute_result"
    }
   ],
   "source": [
    "distances[1][2].keys()"
   ]
  },
  {
   "cell_type": "markdown",
   "metadata": {},
   "source": [
    "Thus, the distance now between atoms 0-th and 2-th in frame 1-th is:"
   ]
  },
  {
   "cell_type": "code",
   "execution_count": 20,
   "metadata": {},
   "outputs": [
    {
     "name": "stdout",
     "output_type": "stream",
     "text": [
      "Distance at frame 0-th between atoms 1-th and 2-th: 1.4142135623730951 nm\n"
     ]
    }
   ],
   "source": [
    "print('Distance at frame 0-th between atoms 1-th and 2-th: {}'.format(distances[1][2][0]))"
   ]
  },
  {
   "cell_type": "markdown",
   "metadata": {},
   "source": [
    "Just like `selection_1` and `selection_2` can limit the range of atom indices of the calculation, `frame_indices_1` can be used to define the list of frames where the method applies:"
   ]
  },
  {
   "cell_type": "code",
   "execution_count": 21,
   "metadata": {},
   "outputs": [],
   "source": [
    "distances = msm.distance(molecular_system_A, selection_1=1, selection_2=[0,2], frame_indices_1=[1,2])"
   ]
  },
  {
   "cell_type": "code",
   "execution_count": 22,
   "metadata": {},
   "outputs": [
    {
     "name": "stdout",
     "output_type": "stream",
     "text": [
      "Distance at frame 2-th between atoms 1-th and 2-th: 1.7320508075688772 nm\n"
     ]
    }
   ],
   "source": [
    "print('Distance at frame 2-th between atoms 1-th and 2-th: {}'.format(distances[1,0,1]))"
   ]
  },
  {
   "cell_type": "markdown",
   "metadata": {},
   "source": [
    "You can check again that with `output_form='dict'` the original indics for atoms and frames work to locate a distance:"
   ]
  },
  {
   "cell_type": "code",
   "execution_count": 23,
   "metadata": {},
   "outputs": [],
   "source": [
    "distances = msm.distance(molecular_system_A, selection_1=1, selection_2=[0,2], frame_indices_1=[1,2], output_form='dict')"
   ]
  },
  {
   "cell_type": "code",
   "execution_count": 24,
   "metadata": {},
   "outputs": [
    {
     "name": "stdout",
     "output_type": "stream",
     "text": [
      "Distance at frame 2-th between atoms 1-th and 2-th: 1.7320508075688772 nm\n"
     ]
    }
   ],
   "source": [
    "print('Distance at frame 2-th between atoms 1-th and 2-th: {}'.format(distances[1][2][2]))"
   ]
  },
  {
   "cell_type": "markdown",
   "metadata": {},
   "source": [
    "### Distance between atoms of two systems\n",
    "\n",
    "The second case shows how to get the distance between atoms of two systems at every frame"
   ]
  },
  {
   "cell_type": "code",
   "execution_count": 25,
   "metadata": {},
   "outputs": [],
   "source": [
    "distances = msm.distance(item_1=molecular_system_A, item_2=molecular_system_B)"
   ]
  },
  {
   "cell_type": "markdown",
   "metadata": {},
   "source": [
    "As it was shown previously, the result is an array of rank 3. Again, where the first axe or rank corresponds to the number of frames and the other two, the second and third axe, accounts for the atom indices -this time in each system-:"
   ]
  },
  {
   "cell_type": "code",
   "execution_count": 26,
   "metadata": {},
   "outputs": [
    {
     "data": {
      "text/plain": [
       "(3, 3, 2)"
      ]
     },
     "execution_count": 26,
     "metadata": {},
     "output_type": "execute_result"
    }
   ],
   "source": [
    "distances.shape"
   ]
  },
  {
   "cell_type": "markdown",
   "metadata": {},
   "source": [
    "Lets print out the distance between atom 1-th of `molecular_system_A` and atom 0-th of `molecular_system_B` at every frame:"
   ]
  },
  {
   "cell_type": "code",
   "execution_count": 27,
   "metadata": {},
   "outputs": [
    {
     "name": "stdout",
     "output_type": "stream",
     "text": [
      "Distance at frame 0-th between atom 1-th of A and atom 0-th of B: 5.916079783099616 nm\n",
      "Distance at frame 1-th between atom 1-th of A and atom 0-th of B: 6.6332495807108 nm\n",
      "Distance at frame 2-th between atom 1-th of A and atom 0-th of B: 5.477225575051661 nm\n"
     ]
    }
   ],
   "source": [
    "for ii in range(3):\n",
    "    print('Distance at frame {}-th between atom 1-th of A and atom 0-th of B: {}'.format(ii,distances[ii,1,0]))"
   ]
  },
  {
   "cell_type": "markdown",
   "metadata": {},
   "source": [
    "Now that `item_1` and `item_2` contain different systems, `selection_1` and `selection_2` do not work over the same system as in previous subsection, but over each molecular system (`selection_1` over `item_1` and `selection_2` over `item_2`). Lets get the distance only between atom 1-th of `molecular_system_A` and atom 0-th of `molecular_system_B` for every frame:"
   ]
  },
  {
   "cell_type": "code",
   "execution_count": 28,
   "metadata": {},
   "outputs": [],
   "source": [
    "distances = msm.distance(item_1=molecular_system_A, selection_1=1, item_2=molecular_system_B, selection_2=0)"
   ]
  },
  {
   "cell_type": "code",
   "execution_count": 29,
   "metadata": {},
   "outputs": [
    {
     "data": {
      "text/plain": [
       "(3, 1, 1)"
      ]
     },
     "execution_count": 29,
     "metadata": {},
     "output_type": "execute_result"
    }
   ],
   "source": [
    "distances.shape"
   ]
  },
  {
   "cell_type": "code",
   "execution_count": 30,
   "metadata": {},
   "outputs": [
    {
     "name": "stdout",
     "output_type": "stream",
     "text": [
      "Distance at frame 0-th between atom 1-th of A and atom 0-th of B: 5.916079783099616 nm\n",
      "Distance at frame 1-th between atom 1-th of A and atom 0-th of B: 6.6332495807108 nm\n",
      "Distance at frame 2-th between atom 1-th of A and atom 0-th of B: 5.477225575051661 nm\n"
     ]
    }
   ],
   "source": [
    "for ii in range(3):\n",
    "    print('Distance at frame {}-th between atom 1-th of A and atom 0-th of B: {}'.format(ii,distances[ii,0,0]))"
   ]
  },
  {
   "cell_type": "markdown",
   "metadata": {},
   "source": [
    "Again, the input argument `output_form='dict'` lets us play with the original indices in the output object. As it was described in the previous subsection, this dictionary of dictionaries of dictionaries has three keys: the first one corresponds to the atom indices of `item_1`, the second one corresponds to the atom indices of `item_2` and the third one to the frame indices. This way the distance now between atom 1-th of `molecular_system_A` and atom 0-th of `molecular_system_B` at frame 1-th:"
   ]
  },
  {
   "cell_type": "code",
   "execution_count": 31,
   "metadata": {},
   "outputs": [],
   "source": [
    "distances = msm.distance(item_1=molecular_system_A, selection_1=1, frame_indices_1=1,\n",
    "                         item_2=molecular_system_B, selection_2=0, output_form='dict')"
   ]
  },
  {
   "cell_type": "code",
   "execution_count": 32,
   "metadata": {},
   "outputs": [
    {
     "name": "stdout",
     "output_type": "stream",
     "text": [
      "Distance at frame 1-th between atom 1-th of A and atom 0-th of B: 6.6332495807108 nm\n"
     ]
    }
   ],
   "source": [
    "print('Distance at frame 1-th between atom 1-th of A and atom 0-th of B: {}'.format(distances[1][0][1]))"
   ]
  },
  {
   "cell_type": "markdown",
   "metadata": {},
   "source": [
    "Notice that `frame_indices_1` was used to define the frame indices where the distance is computed. If only `frame_indices_1` is used, the same list of indices is used sequentially for both systems `item_1` and `item_2`:"
   ]
  },
  {
   "cell_type": "code",
   "execution_count": 33,
   "metadata": {},
   "outputs": [],
   "source": [
    "distances_1 = msm.distance(item_1=molecular_system_A, selection_1=[1,2], frame_indices_1=[0,2],\n",
    "                           item_2=molecular_system_B, selection_2=[0,1])"
   ]
  },
  {
   "cell_type": "code",
   "execution_count": 34,
   "metadata": {},
   "outputs": [],
   "source": [
    "distances_2 = msm.distance(item_1=molecular_system_A, selection_1=[1,2], frame_indices_1=[0,2],\n",
    "                           item_2=molecular_system_B, selection_2=[0,1], frame_indices_2=[0,2])"
   ]
  },
  {
   "cell_type": "code",
   "execution_count": 35,
   "metadata": {},
   "outputs": [
    {
     "data": {
      "text/plain": [
       "array([[[ True,  True],\n",
       "        [ True,  True]],\n",
       "\n",
       "       [[ True,  True],\n",
       "        [ True,  True]]])"
      ]
     },
     "execution_count": 35,
     "metadata": {},
     "output_type": "execute_result"
    }
   ],
   "source": [
    "distances_1 == distances_2"
   ]
  },
  {
   "cell_type": "code",
   "execution_count": 36,
   "metadata": {},
   "outputs": [
    {
     "name": "stdout",
     "output_type": "stream",
     "text": [
      "Distance at frame 2-th between atom 2-th of A and atom 1-th of B: 5.0990195135927845 nm\n"
     ]
    }
   ],
   "source": [
    "print('Distance at frame 2-th between atom 2-th of A and atom 1-th of B: {}'.format(distances_1[1,1,1]))"
   ]
  },
  {
   "cell_type": "markdown",
   "metadata": {},
   "source": [
    "### Distances between atoms positions in different frames"
   ]
  },
  {
   "cell_type": "markdown",
   "metadata": {},
   "source": [
    "At the end of last subsection we saw how, in addition to the input arguments `selection_1` and `selection_2`, the input arguments `frame_indices_1` and `frame_indices_2` alter the way distances are computed. Lets use the four arguments in the next example to revisit their function:"
   ]
  },
  {
   "cell_type": "code",
   "execution_count": 37,
   "metadata": {},
   "outputs": [],
   "source": [
    "distances = msm.distance(item_1=molecular_system_A, selection_1=[1,2], frame_indices_1=[0,1],\n",
    "                         item_2=molecular_system_B, selection_2=1, frame_indices_2=[1,2])"
   ]
  },
  {
   "cell_type": "markdown",
   "metadata": {},
   "source": [
    "The distance between atoms 1-th and 2-th of `molecular_system_A` and atom 1-th of `molecular_system_B` are computed. But, these distances are not between spatial positions in the same frame index. When two frame indices lists are provided by means of `frame_indices_1` and `frame_indices_2`, pairs of frames are taken sequentially. In this case positions of `item_1` at frame 0-th are confronted againts positions of `item_2` at frame 1-th, and the results are stored in the first frame of the distances output. Then, according to the last cell frame indices, positions of `item_1` at frame 1-th are confronted againts positions of `item_2` at frame 2-th. Thus, lets print out for example the distance between the position of atom 2-th of `item_1` in frame 1-th and the position of atom 1-th of `item_2` in frame 2-th:"
   ]
  },
  {
   "cell_type": "code",
   "execution_count": 38,
   "metadata": {},
   "outputs": [
    {
     "name": "stdout",
     "output_type": "stream",
     "text": [
      "The distance between atom 2-th of A at frame 1-th and atom 1-th of B at frame 2-th is: 6.164414002968976 nm\n"
     ]
    }
   ],
   "source": [
    "print('The distance between atom 2-th of A at frame 1-th and atom 1-th of B at frame 2-th is: {}'.format(distances[1,1,0]))"
   ]
  },
  {
   "cell_type": "markdown",
   "metadata": {},
   "source": [
    "In this case, when the output object is a dictionary of dictionaries of dictionaries, the last nested keys correspond to the frame indices in `frame_indices_1`. Lets compute de same distances as before printing out the same specific distance:"
   ]
  },
  {
   "cell_type": "code",
   "execution_count": 39,
   "metadata": {},
   "outputs": [],
   "source": [
    "distances = msm.distance(item_1=molecular_system_A, selection_1=[1,2], frame_indices_1=[0,1],\n",
    "                         item_2=molecular_system_B, selection_2=1, frame_indices_2=[1,2], output_form='dict')"
   ]
  },
  {
   "cell_type": "code",
   "execution_count": 40,
   "metadata": {},
   "outputs": [
    {
     "name": "stdout",
     "output_type": "stream",
     "text": [
      "The distance between atom 2-th of A at frame 1-th and atom 1-th of B at frame 2-th is: 6.164414002968976 nm\n"
     ]
    }
   ],
   "source": [
    "print('The distance between atom 2-th of A at frame 1-th and atom 1-th of B at frame 2-th is: {}'.format(distances[2][1][1]))"
   ]
  },
  {
   "cell_type": "markdown",
   "metadata": {},
   "source": [
    "The possibility to calculate distances between crossing frame indices opens the door to get displacement lengths as it is shown in next subsection."
   ]
  },
  {
   "cell_type": "markdown",
   "metadata": {},
   "source": [
    "### Displacement distances of atoms"
   ]
  },
  {
   "cell_type": "markdown",
   "metadata": {},
   "source": [
    "When both input arguments `frame_indices_1` and `frame_indices_2` are used over a unique set of atoms of the same molecular system, the distances computed acquired a simple physical meaning: displacements. Lets see the following case:"
   ]
  },
  {
   "cell_type": "code",
   "execution_count": 41,
   "metadata": {},
   "outputs": [],
   "source": [
    "distances = msm.distance(item_1=molecular_system_A, selection_1=1, frame_indices_1=[0,1], frame_indices_2=[1,2])"
   ]
  },
  {
   "cell_type": "markdown",
   "metadata": {},
   "source": [
    "The shape of the output object is:"
   ]
  },
  {
   "cell_type": "code",
   "execution_count": 42,
   "metadata": {},
   "outputs": [
    {
     "data": {
      "text/plain": [
       "(2, 1, 1)"
      ]
     },
     "execution_count": 42,
     "metadata": {},
     "output_type": "execute_result"
    }
   ],
   "source": [
    "distances.shape"
   ]
  },
  {
   "cell_type": "markdown",
   "metadata": {},
   "source": [
    "The length of the distance walked by atom 1-th of `molecular_system_A` between frames 0-th and 1-th is:"
   ]
  },
  {
   "cell_type": "code",
   "execution_count": 43,
   "metadata": {},
   "outputs": [
    {
     "name": "stdout",
     "output_type": "stream",
     "text": [
      "The displacement length of atom 1-th between frames 0-th and 1th is: 1.0 nm\n"
     ]
    }
   ],
   "source": [
    "print('The displacement length of atom 1-th between frames 0-th and 1th is: {}'.format(distances[0,0,0]))"
   ]
  },
  {
   "cell_type": "markdown",
   "metadata": {},
   "source": [
    "While the displacement length of the same atom between the next two consecutive frames is:"
   ]
  },
  {
   "cell_type": "code",
   "execution_count": 44,
   "metadata": {},
   "outputs": [
    {
     "name": "stdout",
     "output_type": "stream",
     "text": [
      "The displacement length of atom 1-th between frames 1-th and 2-th is: 1.0 nm\n"
     ]
    }
   ],
   "source": [
    "print('The displacement length of atom 1-th between frames 1-th and 2-th is: {}'.format(distances[1,0,0]))"
   ]
  },
  {
   "cell_type": "markdown",
   "metadata": {},
   "source": [
    "If we want to get the length distance an atom moves between a fixed frame, 0-th for instance, and the rest of frames we can invoke the command `molsysmt.distance()` this way:"
   ]
  },
  {
   "cell_type": "code",
   "execution_count": 45,
   "metadata": {},
   "outputs": [],
   "source": [
    "distances = msm.distance(item_1=molecular_system_A, selection_1=1, frame_indices_1=[0,1,2], frame_indices_2=[0,0,0],\n",
    "                         output_form='dict')"
   ]
  },
  {
   "cell_type": "markdown",
   "metadata": {},
   "source": [
    "The displacement length of atom 1-th between its position at frame 0-th and all other frames is:"
   ]
  },
  {
   "cell_type": "code",
   "execution_count": 46,
   "metadata": {},
   "outputs": [
    {
     "name": "stdout",
     "output_type": "stream",
     "text": [
      "The displacement length of atom 1-th between frames 0-th and 0-th is: 0.0 nm\n",
      "The displacement length of atom 1-th between frames 0-th and 1-th is: 1.0 nm\n",
      "The displacement length of atom 1-th between frames 0-th and 2-th is: 1.4142135623730951 nm\n"
     ]
    }
   ],
   "source": [
    "for ii in range(3):\n",
    "    print('The displacement length of atom 1-th between frames 0-th and {}-th is: {}'.format(ii, distances[1][1][ii]))"
   ]
  },
  {
   "cell_type": "markdown",
   "metadata": {},
   "source": [
    "### Distance between atoms pairs\n",
    "\n",
    "When the method `molsysmt.distance()` is invoked to calculate the distances between a set of $N$ atoms of `item_1` and a set of $M$ atoms of `item_2`, the result is an object, a numpy array or a dictionary, with $N x M$ distances per frame. Sometimes all these different distances are not needed, but only those between specific atom pairs. These atom pairs can be given by the elements in `selection_1` and `selection_2` coupled sequantially one to one. This option is activated when the input argument `pairs=True`:"
   ]
  },
  {
   "cell_type": "code",
   "execution_count": 47,
   "metadata": {},
   "outputs": [],
   "source": [
    "distances = msm.distance(item_1=molecular_system_A, selection_1=[0,0,1], selection_2=[1,2,2],\n",
    "                         frame_indices_1=[1,2], pairs=True)"
   ]
  },
  {
   "cell_type": "markdown",
   "metadata": {},
   "source": [
    "When `pairs=True` the shape of the output numpy array is $[n\\_frames, N]$, where $N$ is the number of pairs: [0,1], [0,2] and [1,2], in this case.  "
   ]
  },
  {
   "cell_type": "code",
   "execution_count": 48,
   "metadata": {},
   "outputs": [
    {
     "data": {
      "text/plain": [
       "(2, 3)"
      ]
     },
     "execution_count": 48,
     "metadata": {},
     "output_type": "execute_result"
    }
   ],
   "source": [
    "distances.shape"
   ]
  },
  {
   "cell_type": "markdown",
   "metadata": {},
   "source": [
    "Lets print out the distance between atoms 0-th and 2-th in frame 1-th:"
   ]
  },
  {
   "cell_type": "code",
   "execution_count": 49,
   "metadata": {},
   "outputs": [
    {
     "name": "stdout",
     "output_type": "stream",
     "text": [
      "The distance between the pair of atoms 0-th and 2-th in frame 1-th: 3.7416573867739413 nm\n"
     ]
    }
   ],
   "source": [
    "print('The distance between the pair of atoms 0-th and 2-th in frame 1-th: {}'.format(distances[0,1]))"
   ]
  },
  {
   "cell_type": "markdown",
   "metadata": {},
   "source": [
    "The dictionary output form also works for atom pairs in the same way as with `pairs=False`:"
   ]
  },
  {
   "cell_type": "code",
   "execution_count": 50,
   "metadata": {},
   "outputs": [],
   "source": [
    "distances = msm.distance(item_1=molecular_system_A, selection_1=[0,0,1], selection_2=[1,2,2],\n",
    "                         frame_indices_1=[1,2], pairs=True, output_form='dict')"
   ]
  },
  {
   "cell_type": "code",
   "execution_count": 51,
   "metadata": {},
   "outputs": [
    {
     "name": "stdout",
     "output_type": "stream",
     "text": [
      "The distance between the pair of atoms 0-th and 2-th in frame 1-th: 3.7416573867739413 nm\n"
     ]
    }
   ],
   "source": [
    "print('The distance between the pair of atoms 0-th and 2-th in frame 1-th: {}'.format(distances[0][2][1]))"
   ]
  },
  {
   "cell_type": "markdown",
   "metadata": {},
   "source": [
    "### Minimum and Maximum distance\n",
    "\n",
    "Sometimes the minimum and maximum distance between two sets of atoms needs to be obtained. Although this step could be done with the method `molsysmt.distance()` and  a little coding, MolSysMT includes two methods to make it even easier: `molsysmt.minimum_distance()` and `molsysmt.maximum_distance()`. Lets see in the following cells how they work.\n",
    "\n",
    "As first example, lets get the minimum distance between both molecular systems A and B:"
   ]
  },
  {
   "cell_type": "code",
   "execution_count": 52,
   "metadata": {},
   "outputs": [],
   "source": [
    "min_pairs, min_distances = msm.minimum_distance(item_1=molecular_system_A, item_2=molecular_system_B)"
   ]
  },
  {
   "cell_type": "markdown",
   "metadata": {},
   "source": [
    "The result is offered as two numpy arrays: the list of atoms pairs minimizing the distance for each frame, and the corresponding value of the minimum distance (for each frame also)."
   ]
  },
  {
   "cell_type": "code",
   "execution_count": 53,
   "metadata": {},
   "outputs": [
    {
     "data": {
      "text/plain": [
       "(3, 2)"
      ]
     },
     "execution_count": 53,
     "metadata": {},
     "output_type": "execute_result"
    }
   ],
   "source": [
    "min_pairs.shape"
   ]
  },
  {
   "cell_type": "code",
   "execution_count": 54,
   "metadata": {},
   "outputs": [
    {
     "data": {
      "text/plain": [
       "array([[0, 1],\n",
       "       [0, 1],\n",
       "       [1, 1]])"
      ]
     },
     "execution_count": 54,
     "metadata": {},
     "output_type": "execute_result"
    }
   ],
   "source": [
    "min_pairs"
   ]
  },
  {
   "cell_type": "code",
   "execution_count": 55,
   "metadata": {},
   "outputs": [
    {
     "data": {
      "text/plain": [
       "(3,)"
      ]
     },
     "execution_count": 55,
     "metadata": {},
     "output_type": "execute_result"
    }
   ],
   "source": [
    "min_distances.shape"
   ]
  },
  {
   "cell_type": "code",
   "execution_count": 56,
   "metadata": {},
   "outputs": [
    {
     "data": {
      "text/plain": [
       "Quantity(value=array([3.60555128, 2.44948974, 4.12310563]), unit=nanometer)"
      ]
     },
     "execution_count": 56,
     "metadata": {},
     "output_type": "execute_result"
    }
   ],
   "source": [
    "min_distances"
   ]
  },
  {
   "cell_type": "code",
   "execution_count": 57,
   "metadata": {},
   "outputs": [
    {
     "name": "stdout",
     "output_type": "stream",
     "text": [
      "The minimum distance in frame 2-th is given by atom 1-th of A and atom 1-th of B: 4.123105625617661 nm\n"
     ]
    }
   ],
   "source": [
    "print('The minimum distance in frame 2-th is given by atom {}-th of A and atom {}-th of B: {}'.format(min_pairs[2,0], min_pairs[2,1], min_distances[2]))"
   ]
  },
  {
   "cell_type": "markdown",
   "metadata": {},
   "source": [
    "All input arguments described in previous subsections can also be used with `molsysmt.minimum_distance()` and `molsysmt.maximum_distance()`. Lets see an example:"
   ]
  },
  {
   "cell_type": "code",
   "execution_count": 58,
   "metadata": {},
   "outputs": [],
   "source": [
    "min_pairs, min_distances = msm.minimum_distance(item_1=molecular_system_A, selection_1=[0,1,2], selection_2=[0,1,2],\n",
    "                                               frame_indices_1=[0,1], frame_indices_2=[1,2], pairs=True)"
   ]
  },
  {
   "cell_type": "markdown",
   "metadata": {},
   "source": [
    "Remember that with `pairs=True`, the output does not longer refer atoms indices but pairs indices. That is the reason why the shape of min_pairs is now:"
   ]
  },
  {
   "cell_type": "code",
   "execution_count": 59,
   "metadata": {},
   "outputs": [
    {
     "data": {
      "text/plain": [
       "(2,)"
      ]
     },
     "execution_count": 59,
     "metadata": {},
     "output_type": "execute_result"
    }
   ],
   "source": [
    "min_pairs.shape"
   ]
  },
  {
   "cell_type": "markdown",
   "metadata": {},
   "source": [
    "While,"
   ]
  },
  {
   "cell_type": "code",
   "execution_count": 60,
   "metadata": {},
   "outputs": [
    {
     "data": {
      "text/plain": [
       "(2,)"
      ]
     },
     "execution_count": 60,
     "metadata": {},
     "output_type": "execute_result"
    }
   ],
   "source": [
    "min_distances.shape"
   ]
  },
  {
   "cell_type": "markdown",
   "metadata": {},
   "source": [
    "Which means that the minimum displacement between consecutive frames was observed for:"
   ]
  },
  {
   "cell_type": "code",
   "execution_count": 61,
   "metadata": {},
   "outputs": [
    {
     "name": "stdout",
     "output_type": "stream",
     "text": [
      "Atom 0-th had the minimum displacement of A between frames 0-th and 1-th: 1.0 nm\n",
      "Atom 0-th had the minimum displacement of A between frames 1-th and 2-th: 1.0 nm\n"
     ]
    }
   ],
   "source": [
    "for ii in range(2):\n",
    "    print('Atom {}-th had the minimum displacement of A between frames {}-th and {}-th: {}'.format(min_pairs[ii], ii, ii+1, min_distances[ii]))"
   ]
  },
  {
   "cell_type": "markdown",
   "metadata": {},
   "source": [
    "There are situations in which we have a list of atoms of a set A and the minimum distance with a second set of atoms B needs to be known for every single atom of A. In this case the first set has to be considered not as entity (as set) in view of getting a single minimum distance. Lets illustrate this with an example:"
   ]
  },
  {
   "cell_type": "code",
   "execution_count": 62,
   "metadata": {},
   "outputs": [],
   "source": [
    "min_pairs, min_distances = msm.minimum_distance(item_1=molecular_system_A, selection_1=[1,2], frame_indices_1=[0,1,2],\n",
    "                                                item_2=molecular_system_B, selection_2=[0,1],\n",
    "                                                as_entity_1=False, as_entity_2=True)"
   ]
  },
  {
   "cell_type": "markdown",
   "metadata": {},
   "source": [
    "The output corresponds to the minimum distance of atom 1-th of A to any atom of B and the minimum distance of atom 2-th of A to any atom of B, at every frame:"
   ]
  },
  {
   "cell_type": "code",
   "execution_count": 63,
   "metadata": {},
   "outputs": [
    {
     "data": {
      "text/plain": [
       "(3, 2)"
      ]
     },
     "execution_count": 63,
     "metadata": {},
     "output_type": "execute_result"
    }
   ],
   "source": [
    "min_pairs.shape"
   ]
  },
  {
   "cell_type": "code",
   "execution_count": 64,
   "metadata": {},
   "outputs": [
    {
     "data": {
      "text/plain": [
       "(3, 2)"
      ]
     },
     "execution_count": 64,
     "metadata": {},
     "output_type": "execute_result"
    }
   ],
   "source": [
    "min_distances.shape"
   ]
  },
  {
   "cell_type": "code",
   "execution_count": 65,
   "metadata": {},
   "outputs": [
    {
     "name": "stdout",
     "output_type": "stream",
     "text": [
      "Atom 1-th of A has the minimum distance to B with its atom 1-th in frame 1-th: 4.242640687119285 nm\n"
     ]
    }
   ],
   "source": [
    "selection_2=[0,1]\n",
    "print('Atom 1-th of A has the minimum distance to B with its atom {}-th in frame 1-th: {}'.format(selection_2[min_pairs[1,0]], min_distances[1,0]))"
   ]
  },
  {
   "cell_type": "code",
   "execution_count": 66,
   "metadata": {},
   "outputs": [
    {
     "name": "stdout",
     "output_type": "stream",
     "text": [
      "The 1-th is the closest atom of B to atom 1-th of A at frame 0-th with 4.58257569495584 nm\n",
      "The 1-th is the closest atom of B to atom 1-th of A at frame 1-th with 4.242640687119285 nm\n",
      "The 1-th is the closest atom of B to atom 1-th of A at frame 2-th with 4.123105625617661 nm\n"
     ]
    }
   ],
   "source": [
    "for ii in range(3):\n",
    "    print('The {}-th is the closest atom of B to atom 1-th of A at frame {}-th with {}'.format(selection_2[min_pairs[ii,0]],ii, min_distances[ii,0]))"
   ]
  },
  {
   "cell_type": "markdown",
   "metadata": {},
   "source": [
    "## Distance between atom groups in space\n",
    "\n",
    "Imagine the distance between geometric centers of atoms groups needs to be obtained. There is no reason why MolSysMT should have new functions to do that. Every method introduced in the previous section, about getting distances between atoms, has the possibility to do it over groups of atoms.\n",
    "\n",
    "### Distance between atom groups of a system\n",
    "\n",
    "Lets load a new molecular system to illustrate how `molsysmt.distance()` can get distances between atom groups:"
   ]
  },
  {
   "cell_type": "code",
   "execution_count": 67,
   "metadata": {},
   "outputs": [],
   "source": [
    "molecular_system = msm.convert('mmtf:1TCD', 'molsysmt.MolSys')"
   ]
  },
  {
   "cell_type": "code",
   "execution_count": 68,
   "metadata": {},
   "outputs": [
    {
     "data": {
      "text/html": [
       "<style  type=\"text/css\" >\n",
       "</style><table id=\"T_6a747204_b5db_11ea_a141_67b0066834f6\" ><thead>    <tr>        <th class=\"col_heading level0 col0\" >form</th>        <th class=\"col_heading level0 col1\" >n_atoms</th>        <th class=\"col_heading level0 col2\" >n_groups</th>        <th class=\"col_heading level0 col3\" >n_components</th>        <th class=\"col_heading level0 col4\" >n_chains</th>        <th class=\"col_heading level0 col5\" >n_molecules</th>        <th class=\"col_heading level0 col6\" >n_entities</th>        <th class=\"col_heading level0 col7\" >n_waters</th>        <th class=\"col_heading level0 col8\" >n_proteins</th>        <th class=\"col_heading level0 col9\" >n_frames</th>    </tr></thead><tbody>\n",
       "                <tr>\n",
       "                                <td id=\"T_6a747204_b5db_11ea_a141_67b0066834f6row0_col0\" class=\"data row0 col0\" >molsysmt.MolSys</td>\n",
       "                        <td id=\"T_6a747204_b5db_11ea_a141_67b0066834f6row0_col1\" class=\"data row0 col1\" >3983</td>\n",
       "                        <td id=\"T_6a747204_b5db_11ea_a141_67b0066834f6row0_col2\" class=\"data row0 col2\" >662</td>\n",
       "                        <td id=\"T_6a747204_b5db_11ea_a141_67b0066834f6row0_col3\" class=\"data row0 col3\" >167</td>\n",
       "                        <td id=\"T_6a747204_b5db_11ea_a141_67b0066834f6row0_col4\" class=\"data row0 col4\" >4</td>\n",
       "                        <td id=\"T_6a747204_b5db_11ea_a141_67b0066834f6row0_col5\" class=\"data row0 col5\" >166</td>\n",
       "                        <td id=\"T_6a747204_b5db_11ea_a141_67b0066834f6row0_col6\" class=\"data row0 col6\" >2</td>\n",
       "                        <td id=\"T_6a747204_b5db_11ea_a141_67b0066834f6row0_col7\" class=\"data row0 col7\" >165</td>\n",
       "                        <td id=\"T_6a747204_b5db_11ea_a141_67b0066834f6row0_col8\" class=\"data row0 col8\" >1</td>\n",
       "                        <td id=\"T_6a747204_b5db_11ea_a141_67b0066834f6row0_col9\" class=\"data row0 col9\" >1</td>\n",
       "            </tr>\n",
       "    </tbody></table>"
      ],
      "text/plain": [
       "<pandas.io.formats.style.Styler at 0x7f78ef902bd0>"
      ]
     },
     "execution_count": 68,
     "metadata": {},
     "output_type": "execute_result"
    }
   ],
   "source": [
    "msm.info(molecular_system)"
   ]
  },
  {
   "cell_type": "markdown",
   "metadata": {},
   "source": [
    "Lets revisit how to get the distances between two atoms selections to start with, then the effect of input arguments `group_behavior_1` and `group_behavior_2` will be shown:"
   ]
  },
  {
   "cell_type": "code",
   "execution_count": 69,
   "metadata": {},
   "outputs": [],
   "source": [
    "distances = msm.distance(molecular_system, selection_1=\"group_index==0\",\n",
    "                         selection_2=\"group_index==1\")"
   ]
  },
  {
   "cell_type": "markdown",
   "metadata": {},
   "source": [
    "This molecular system has onle a single frame, so the shape of the output array is $[1, n\\_atoms\\_1, n\\_atoms\\_2]$ where $n\\_atoms\\_1$ and $n\\_atoms\\_2$ is the number of atoms in `selection_1` and `selection_2`, respectively:"
   ]
  },
  {
   "cell_type": "code",
   "execution_count": 70,
   "metadata": {},
   "outputs": [
    {
     "name": "stdout",
     "output_type": "stream",
     "text": [
      "9 7\n"
     ]
    }
   ],
   "source": [
    "n_atoms_1 = msm.get(molecular_system, selection=\"group_index==0\", n_atoms=True)\n",
    "n_atoms_2 = msm.get(molecular_system, selection=\"group_index==1\", n_atoms=True)\n",
    "print(n_atoms_1, n_atoms_2)"
   ]
  },
  {
   "cell_type": "code",
   "execution_count": 71,
   "metadata": {},
   "outputs": [
    {
     "data": {
      "text/plain": [
       "(1, 9, 7)"
      ]
     },
     "execution_count": 71,
     "metadata": {},
     "output_type": "execute_result"
    }
   ],
   "source": [
    "distances.shape"
   ]
  },
  {
   "cell_type": "markdown",
   "metadata": {},
   "source": [
    "Now, lets use `group_behavior_1=\"geometric_center\"` to obtain the distance between the geometric center of the set of atoms in `selection_1` to every atom in `selection_2`."
   ]
  },
  {
   "cell_type": "code",
   "execution_count": 72,
   "metadata": {},
   "outputs": [],
   "source": [
    "distances = msm.distance(molecular_system, selection_1=\"group_index==0\",\n",
    "                         group_behavior_1=\"geometric_center\",                         \n",
    "                         selection_2=\"group_index==1\")"
   ]
  },
  {
   "cell_type": "code",
   "execution_count": 73,
   "metadata": {},
   "outputs": [
    {
     "data": {
      "text/plain": [
       "(1, 1, 7)"
      ]
     },
     "execution_count": 73,
     "metadata": {},
     "output_type": "execute_result"
    }
   ],
   "source": [
    "distances.shape"
   ]
  },
  {
   "cell_type": "markdown",
   "metadata": {},
   "source": [
    "And with `group_behavior_2=\"geometric_center\"` the distance between both geometric centers can be obtain:"
   ]
  },
  {
   "cell_type": "code",
   "execution_count": 74,
   "metadata": {},
   "outputs": [],
   "source": [
    "distances = msm.distance(molecular_system, selection_1=\"group_index==0\",\n",
    "                         group_behavior_1=\"geometric_center\",\n",
    "                         selection_2=\"group_index==1\",\n",
    "                         group_behavior_2=\"geometric_center\")"
   ]
  },
  {
   "cell_type": "code",
   "execution_count": 75,
   "metadata": {},
   "outputs": [
    {
     "data": {
      "text/plain": [
       "(1, 1, 1)"
      ]
     },
     "execution_count": 75,
     "metadata": {},
     "output_type": "execute_result"
    }
   ],
   "source": [
    "distances.shape"
   ]
  },
  {
   "cell_type": "markdown",
   "metadata": {},
   "source": [
    "The input arguments `group_behavior_1` and `group_behavior_2` allow us to work with a unique position of a group of atoms, either the geometric center or the center of mass. But what happens then if we have several groups of atoms? The arguments `selection_1` and `selection_2` do work with just a list of atom indices or a selection sentence. Thats why we have to use two new input arguments: `groups_of_atoms_1` and `groups_of_atoms_2`. Lets define a couple of list of lists of atom indices to illustrate their use."
   ]
  },
  {
   "cell_type": "code",
   "execution_count": 76,
   "metadata": {},
   "outputs": [],
   "source": [
    "list_groups_1 = msm.get(molecular_system, target=\"group\",\n",
    "                        selection=\"group_index in [0,1,2,3]\", atom_index=True)\n",
    "list_groups_2 = msm.get(molecular_system, target=\"group\",\n",
    "                        selection=\"group_index in [4,5,6,7,8]\", atom_index=True)"
   ]
  },
  {
   "cell_type": "code",
   "execution_count": 77,
   "metadata": {},
   "outputs": [
    {
     "name": "stdout",
     "output_type": "stream",
     "text": [
      "[array([0, 1, 2, 3, 4, 5, 6, 7, 8]) array([ 9, 10, 11, 12, 13, 14, 15])\n",
      " array([16, 17, 18, 19, 20, 21, 22, 23, 24])\n",
      " array([25, 26, 27, 28, 29, 30, 31])]\n"
     ]
    }
   ],
   "source": [
    "print(list_groups_1)"
   ]
  },
  {
   "cell_type": "markdown",
   "metadata": {},
   "source": [
    "First, lets compute the distance between every single atom in `selection_1` to the geometric center of the atoms groups defined in `list_groups_2`:"
   ]
  },
  {
   "cell_type": "code",
   "execution_count": 78,
   "metadata": {},
   "outputs": [],
   "source": [
    "distances = msm.distance(molecular_system, selection_1=\"group_index==0\",\n",
    "                         groups_of_atoms_2=list_groups_2, group_behavior_2=\"geometric_center\")"
   ]
  },
  {
   "cell_type": "code",
   "execution_count": 79,
   "metadata": {},
   "outputs": [
    {
     "data": {
      "text/plain": [
       "(1, 9, 5)"
      ]
     },
     "execution_count": 79,
     "metadata": {},
     "output_type": "execute_result"
    }
   ],
   "source": [
    "distances.shape"
   ]
  },
  {
   "cell_type": "markdown",
   "metadata": {},
   "source": [
    "Now, the distance between the geometric center of the set of atoms in `selection_1` and every geometric center of the atoms groups given by `list_groups_2`:"
   ]
  },
  {
   "cell_type": "code",
   "execution_count": 80,
   "metadata": {},
   "outputs": [],
   "source": [
    "distances = msm.distance(molecular_system, selection_1=\"group_index==0\",\n",
    "                         groups_of_atoms_2=list_groups_2, group_behavior_1=\"geometric_center\",\n",
    "                         group_behavior_2=\"geometric_center\")"
   ]
  },
  {
   "cell_type": "code",
   "execution_count": 81,
   "metadata": {},
   "outputs": [
    {
     "data": {
      "text/plain": [
       "(1, 1, 5)"
      ]
     },
     "execution_count": 81,
     "metadata": {},
     "output_type": "execute_result"
    }
   ],
   "source": [
    "distances.shape"
   ]
  },
  {
   "cell_type": "markdown",
   "metadata": {},
   "source": [
    "And finnally, the distance between every geometric center of the atoms groups in `list_groups_1` to every geometric center of the atoms groups defined in `list_groups_2`:"
   ]
  },
  {
   "cell_type": "code",
   "execution_count": 82,
   "metadata": {},
   "outputs": [],
   "source": [
    "distances = msm.distance(molecular_system, groups_of_atoms_1=list_groups_1,\n",
    "                         groups_of_atoms_2=list_groups_2, group_behavior_1=\"geometric_center\",\n",
    "                         group_behavior_2=\"geometric_center\")"
   ]
  },
  {
   "cell_type": "code",
   "execution_count": 83,
   "metadata": {},
   "outputs": [
    {
     "data": {
      "text/plain": [
       "(1, 4, 5)"
      ]
     },
     "execution_count": 83,
     "metadata": {},
     "output_type": "execute_result"
    }
   ],
   "source": [
    "distances.shape"
   ]
  },
  {
   "cell_type": "markdown",
   "metadata": {},
   "source": [
    "Just like with atoms, if only a list of atoms groups is used, the distance between its centers is obtained:"
   ]
  },
  {
   "cell_type": "code",
   "execution_count": 84,
   "metadata": {},
   "outputs": [],
   "source": [
    "distances = msm.distance(molecular_system, groups_of_atoms_1=list_groups_1,\n",
    "                         group_behavior_1=\"geometric_center\")"
   ]
  },
  {
   "cell_type": "code",
   "execution_count": 85,
   "metadata": {},
   "outputs": [
    {
     "data": {
      "text/plain": [
       "(1, 4, 4)"
      ]
     },
     "execution_count": 85,
     "metadata": {},
     "output_type": "execute_result"
    }
   ],
   "source": [
    "distances.shape"
   ]
  },
  {
   "cell_type": "markdown",
   "metadata": {},
   "source": [
    "Finnally, lets proof that the distance between groups can be computed all along a trajectory as well as only at specific frames. Lets load the whole trajectory 'pentalanine.h5':"
   ]
  },
  {
   "cell_type": "code",
   "execution_count": 86,
   "metadata": {},
   "outputs": [],
   "source": [
    "molecular_system = msm.test_systems.files['pentalanine.h5']\n",
    "molecular_system = msm.convert(molecular_system, to_form='molsysmt.MolSys')"
   ]
  },
  {
   "cell_type": "code",
   "execution_count": 87,
   "metadata": {},
   "outputs": [
    {
     "data": {
      "text/html": [
       "<style  type=\"text/css\" >\n",
       "</style><table id=\"T_6b2d37bc_b5db_11ea_a141_67b0066834f6\" ><thead>    <tr>        <th class=\"col_heading level0 col0\" >form</th>        <th class=\"col_heading level0 col1\" >n_atoms</th>        <th class=\"col_heading level0 col2\" >n_groups</th>        <th class=\"col_heading level0 col3\" >n_components</th>        <th class=\"col_heading level0 col4\" >n_chains</th>        <th class=\"col_heading level0 col5\" >n_molecules</th>        <th class=\"col_heading level0 col6\" >n_entities</th>        <th class=\"col_heading level0 col7\" >n_peptides</th>        <th class=\"col_heading level0 col8\" >n_frames</th>    </tr></thead><tbody>\n",
       "                <tr>\n",
       "                                <td id=\"T_6b2d37bc_b5db_11ea_a141_67b0066834f6row0_col0\" class=\"data row0 col0\" >molsysmt.MolSys</td>\n",
       "                        <td id=\"T_6b2d37bc_b5db_11ea_a141_67b0066834f6row0_col1\" class=\"data row0 col1\" >62</td>\n",
       "                        <td id=\"T_6b2d37bc_b5db_11ea_a141_67b0066834f6row0_col2\" class=\"data row0 col2\" >7</td>\n",
       "                        <td id=\"T_6b2d37bc_b5db_11ea_a141_67b0066834f6row0_col3\" class=\"data row0 col3\" >62</td>\n",
       "                        <td id=\"T_6b2d37bc_b5db_11ea_a141_67b0066834f6row0_col4\" class=\"data row0 col4\" >1</td>\n",
       "                        <td id=\"T_6b2d37bc_b5db_11ea_a141_67b0066834f6row0_col5\" class=\"data row0 col5\" >62</td>\n",
       "                        <td id=\"T_6b2d37bc_b5db_11ea_a141_67b0066834f6row0_col6\" class=\"data row0 col6\" >62</td>\n",
       "                        <td id=\"T_6b2d37bc_b5db_11ea_a141_67b0066834f6row0_col7\" class=\"data row0 col7\" >62</td>\n",
       "                        <td id=\"T_6b2d37bc_b5db_11ea_a141_67b0066834f6row0_col8\" class=\"data row0 col8\" >5000</td>\n",
       "            </tr>\n",
       "    </tbody></table>"
      ],
      "text/plain": [
       "<pandas.io.formats.style.Styler at 0x7f78ee51b9d0>"
      ]
     },
     "execution_count": 87,
     "metadata": {},
     "output_type": "execute_result"
    }
   ],
   "source": [
    "msm.info(molecular_system)"
   ]
  },
  {
   "cell_type": "code",
   "execution_count": 88,
   "metadata": {},
   "outputs": [
    {
     "data": {
      "text/html": [
       "<style  type=\"text/css\" >\n",
       "</style><table id=\"T_6b35576c_b5db_11ea_a141_67b0066834f6\" ><thead>    <tr>        <th class=\"col_heading level0 col0\" >index</th>        <th class=\"col_heading level0 col1\" >id</th>        <th class=\"col_heading level0 col2\" >name</th>        <th class=\"col_heading level0 col3\" >type</th>        <th class=\"col_heading level0 col4\" >n atoms</th>        <th class=\"col_heading level0 col5\" >component index</th>        <th class=\"col_heading level0 col6\" >chain index</th>        <th class=\"col_heading level0 col7\" >molecule index</th>        <th class=\"col_heading level0 col8\" >molecule type</th>        <th class=\"col_heading level0 col9\" >entity index</th>        <th class=\"col_heading level0 col10\" >entity name</th>    </tr></thead><tbody>\n",
       "                <tr>\n",
       "                                <td id=\"T_6b35576c_b5db_11ea_a141_67b0066834f6row0_col0\" class=\"data row0 col0\" >0</td>\n",
       "                        <td id=\"T_6b35576c_b5db_11ea_a141_67b0066834f6row0_col1\" class=\"data row0 col1\" >1</td>\n",
       "                        <td id=\"T_6b35576c_b5db_11ea_a141_67b0066834f6row0_col2\" class=\"data row0 col2\" >ACE</td>\n",
       "                        <td id=\"T_6b35576c_b5db_11ea_a141_67b0066834f6row0_col3\" class=\"data row0 col3\" >aminoacid</td>\n",
       "                        <td id=\"T_6b35576c_b5db_11ea_a141_67b0066834f6row0_col4\" class=\"data row0 col4\" >[6]</td>\n",
       "                        <td id=\"T_6b35576c_b5db_11ea_a141_67b0066834f6row0_col5\" class=\"data row0 col5\" >0</td>\n",
       "                        <td id=\"T_6b35576c_b5db_11ea_a141_67b0066834f6row0_col6\" class=\"data row0 col6\" >0</td>\n",
       "                        <td id=\"T_6b35576c_b5db_11ea_a141_67b0066834f6row0_col7\" class=\"data row0 col7\" >0</td>\n",
       "                        <td id=\"T_6b35576c_b5db_11ea_a141_67b0066834f6row0_col8\" class=\"data row0 col8\" >peptide</td>\n",
       "                        <td id=\"T_6b35576c_b5db_11ea_a141_67b0066834f6row0_col9\" class=\"data row0 col9\" >0</td>\n",
       "                        <td id=\"T_6b35576c_b5db_11ea_a141_67b0066834f6row0_col10\" class=\"data row0 col10\" >Peptide0</td>\n",
       "            </tr>\n",
       "            <tr>\n",
       "                                <td id=\"T_6b35576c_b5db_11ea_a141_67b0066834f6row1_col0\" class=\"data row1 col0\" >1</td>\n",
       "                        <td id=\"T_6b35576c_b5db_11ea_a141_67b0066834f6row1_col1\" class=\"data row1 col1\" >2</td>\n",
       "                        <td id=\"T_6b35576c_b5db_11ea_a141_67b0066834f6row1_col2\" class=\"data row1 col2\" >ALA</td>\n",
       "                        <td id=\"T_6b35576c_b5db_11ea_a141_67b0066834f6row1_col3\" class=\"data row1 col3\" >aminoacid</td>\n",
       "                        <td id=\"T_6b35576c_b5db_11ea_a141_67b0066834f6row1_col4\" class=\"data row1 col4\" >[10]</td>\n",
       "                        <td id=\"T_6b35576c_b5db_11ea_a141_67b0066834f6row1_col5\" class=\"data row1 col5\" >6</td>\n",
       "                        <td id=\"T_6b35576c_b5db_11ea_a141_67b0066834f6row1_col6\" class=\"data row1 col6\" >0</td>\n",
       "                        <td id=\"T_6b35576c_b5db_11ea_a141_67b0066834f6row1_col7\" class=\"data row1 col7\" >6</td>\n",
       "                        <td id=\"T_6b35576c_b5db_11ea_a141_67b0066834f6row1_col8\" class=\"data row1 col8\" >peptide</td>\n",
       "                        <td id=\"T_6b35576c_b5db_11ea_a141_67b0066834f6row1_col9\" class=\"data row1 col9\" >6</td>\n",
       "                        <td id=\"T_6b35576c_b5db_11ea_a141_67b0066834f6row1_col10\" class=\"data row1 col10\" >Peptide6</td>\n",
       "            </tr>\n",
       "            <tr>\n",
       "                                <td id=\"T_6b35576c_b5db_11ea_a141_67b0066834f6row2_col0\" class=\"data row2 col0\" >2</td>\n",
       "                        <td id=\"T_6b35576c_b5db_11ea_a141_67b0066834f6row2_col1\" class=\"data row2 col1\" >3</td>\n",
       "                        <td id=\"T_6b35576c_b5db_11ea_a141_67b0066834f6row2_col2\" class=\"data row2 col2\" >ALA</td>\n",
       "                        <td id=\"T_6b35576c_b5db_11ea_a141_67b0066834f6row2_col3\" class=\"data row2 col3\" >aminoacid</td>\n",
       "                        <td id=\"T_6b35576c_b5db_11ea_a141_67b0066834f6row2_col4\" class=\"data row2 col4\" >[10]</td>\n",
       "                        <td id=\"T_6b35576c_b5db_11ea_a141_67b0066834f6row2_col5\" class=\"data row2 col5\" >16</td>\n",
       "                        <td id=\"T_6b35576c_b5db_11ea_a141_67b0066834f6row2_col6\" class=\"data row2 col6\" >0</td>\n",
       "                        <td id=\"T_6b35576c_b5db_11ea_a141_67b0066834f6row2_col7\" class=\"data row2 col7\" >16</td>\n",
       "                        <td id=\"T_6b35576c_b5db_11ea_a141_67b0066834f6row2_col8\" class=\"data row2 col8\" >peptide</td>\n",
       "                        <td id=\"T_6b35576c_b5db_11ea_a141_67b0066834f6row2_col9\" class=\"data row2 col9\" >16</td>\n",
       "                        <td id=\"T_6b35576c_b5db_11ea_a141_67b0066834f6row2_col10\" class=\"data row2 col10\" >Peptide16</td>\n",
       "            </tr>\n",
       "            <tr>\n",
       "                                <td id=\"T_6b35576c_b5db_11ea_a141_67b0066834f6row3_col0\" class=\"data row3 col0\" >3</td>\n",
       "                        <td id=\"T_6b35576c_b5db_11ea_a141_67b0066834f6row3_col1\" class=\"data row3 col1\" >4</td>\n",
       "                        <td id=\"T_6b35576c_b5db_11ea_a141_67b0066834f6row3_col2\" class=\"data row3 col2\" >ALA</td>\n",
       "                        <td id=\"T_6b35576c_b5db_11ea_a141_67b0066834f6row3_col3\" class=\"data row3 col3\" >aminoacid</td>\n",
       "                        <td id=\"T_6b35576c_b5db_11ea_a141_67b0066834f6row3_col4\" class=\"data row3 col4\" >[10]</td>\n",
       "                        <td id=\"T_6b35576c_b5db_11ea_a141_67b0066834f6row3_col5\" class=\"data row3 col5\" >26</td>\n",
       "                        <td id=\"T_6b35576c_b5db_11ea_a141_67b0066834f6row3_col6\" class=\"data row3 col6\" >0</td>\n",
       "                        <td id=\"T_6b35576c_b5db_11ea_a141_67b0066834f6row3_col7\" class=\"data row3 col7\" >26</td>\n",
       "                        <td id=\"T_6b35576c_b5db_11ea_a141_67b0066834f6row3_col8\" class=\"data row3 col8\" >peptide</td>\n",
       "                        <td id=\"T_6b35576c_b5db_11ea_a141_67b0066834f6row3_col9\" class=\"data row3 col9\" >26</td>\n",
       "                        <td id=\"T_6b35576c_b5db_11ea_a141_67b0066834f6row3_col10\" class=\"data row3 col10\" >Peptide26</td>\n",
       "            </tr>\n",
       "            <tr>\n",
       "                                <td id=\"T_6b35576c_b5db_11ea_a141_67b0066834f6row4_col0\" class=\"data row4 col0\" >4</td>\n",
       "                        <td id=\"T_6b35576c_b5db_11ea_a141_67b0066834f6row4_col1\" class=\"data row4 col1\" >5</td>\n",
       "                        <td id=\"T_6b35576c_b5db_11ea_a141_67b0066834f6row4_col2\" class=\"data row4 col2\" >ALA</td>\n",
       "                        <td id=\"T_6b35576c_b5db_11ea_a141_67b0066834f6row4_col3\" class=\"data row4 col3\" >aminoacid</td>\n",
       "                        <td id=\"T_6b35576c_b5db_11ea_a141_67b0066834f6row4_col4\" class=\"data row4 col4\" >[10]</td>\n",
       "                        <td id=\"T_6b35576c_b5db_11ea_a141_67b0066834f6row4_col5\" class=\"data row4 col5\" >36</td>\n",
       "                        <td id=\"T_6b35576c_b5db_11ea_a141_67b0066834f6row4_col6\" class=\"data row4 col6\" >0</td>\n",
       "                        <td id=\"T_6b35576c_b5db_11ea_a141_67b0066834f6row4_col7\" class=\"data row4 col7\" >36</td>\n",
       "                        <td id=\"T_6b35576c_b5db_11ea_a141_67b0066834f6row4_col8\" class=\"data row4 col8\" >peptide</td>\n",
       "                        <td id=\"T_6b35576c_b5db_11ea_a141_67b0066834f6row4_col9\" class=\"data row4 col9\" >36</td>\n",
       "                        <td id=\"T_6b35576c_b5db_11ea_a141_67b0066834f6row4_col10\" class=\"data row4 col10\" >Peptide36</td>\n",
       "            </tr>\n",
       "            <tr>\n",
       "                                <td id=\"T_6b35576c_b5db_11ea_a141_67b0066834f6row5_col0\" class=\"data row5 col0\" >5</td>\n",
       "                        <td id=\"T_6b35576c_b5db_11ea_a141_67b0066834f6row5_col1\" class=\"data row5 col1\" >6</td>\n",
       "                        <td id=\"T_6b35576c_b5db_11ea_a141_67b0066834f6row5_col2\" class=\"data row5 col2\" >ALA</td>\n",
       "                        <td id=\"T_6b35576c_b5db_11ea_a141_67b0066834f6row5_col3\" class=\"data row5 col3\" >aminoacid</td>\n",
       "                        <td id=\"T_6b35576c_b5db_11ea_a141_67b0066834f6row5_col4\" class=\"data row5 col4\" >[10]</td>\n",
       "                        <td id=\"T_6b35576c_b5db_11ea_a141_67b0066834f6row5_col5\" class=\"data row5 col5\" >46</td>\n",
       "                        <td id=\"T_6b35576c_b5db_11ea_a141_67b0066834f6row5_col6\" class=\"data row5 col6\" >0</td>\n",
       "                        <td id=\"T_6b35576c_b5db_11ea_a141_67b0066834f6row5_col7\" class=\"data row5 col7\" >46</td>\n",
       "                        <td id=\"T_6b35576c_b5db_11ea_a141_67b0066834f6row5_col8\" class=\"data row5 col8\" >peptide</td>\n",
       "                        <td id=\"T_6b35576c_b5db_11ea_a141_67b0066834f6row5_col9\" class=\"data row5 col9\" >46</td>\n",
       "                        <td id=\"T_6b35576c_b5db_11ea_a141_67b0066834f6row5_col10\" class=\"data row5 col10\" >Peptide46</td>\n",
       "            </tr>\n",
       "            <tr>\n",
       "                                <td id=\"T_6b35576c_b5db_11ea_a141_67b0066834f6row6_col0\" class=\"data row6 col0\" >6</td>\n",
       "                        <td id=\"T_6b35576c_b5db_11ea_a141_67b0066834f6row6_col1\" class=\"data row6 col1\" >7</td>\n",
       "                        <td id=\"T_6b35576c_b5db_11ea_a141_67b0066834f6row6_col2\" class=\"data row6 col2\" >NME</td>\n",
       "                        <td id=\"T_6b35576c_b5db_11ea_a141_67b0066834f6row6_col3\" class=\"data row6 col3\" >aminoacid</td>\n",
       "                        <td id=\"T_6b35576c_b5db_11ea_a141_67b0066834f6row6_col4\" class=\"data row6 col4\" >[6]</td>\n",
       "                        <td id=\"T_6b35576c_b5db_11ea_a141_67b0066834f6row6_col5\" class=\"data row6 col5\" >56</td>\n",
       "                        <td id=\"T_6b35576c_b5db_11ea_a141_67b0066834f6row6_col6\" class=\"data row6 col6\" >0</td>\n",
       "                        <td id=\"T_6b35576c_b5db_11ea_a141_67b0066834f6row6_col7\" class=\"data row6 col7\" >56</td>\n",
       "                        <td id=\"T_6b35576c_b5db_11ea_a141_67b0066834f6row6_col8\" class=\"data row6 col8\" >peptide</td>\n",
       "                        <td id=\"T_6b35576c_b5db_11ea_a141_67b0066834f6row6_col9\" class=\"data row6 col9\" >56</td>\n",
       "                        <td id=\"T_6b35576c_b5db_11ea_a141_67b0066834f6row6_col10\" class=\"data row6 col10\" >Peptide56</td>\n",
       "            </tr>\n",
       "    </tbody></table>"
      ],
      "text/plain": [
       "<pandas.io.formats.style.Styler at 0x7f78ee4ae7d0>"
      ]
     },
     "execution_count": 88,
     "metadata": {},
     "output_type": "execute_result"
    }
   ],
   "source": [
    "msm.info(molecular_system, target='group')"
   ]
  },
  {
   "cell_type": "markdown",
   "metadata": {},
   "source": [
    "Lets represent the distance between the geometric center of the terminal groups vs. the simulation time:"
   ]
  },
  {
   "cell_type": "code",
   "execution_count": 89,
   "metadata": {},
   "outputs": [],
   "source": [
    "distances = msm.distance(item_1=molecular_system, selection_1=\"group_index==0\",\n",
    "                         group_behavior_1=\"geometric_center\", selection_2=\"group_index==6\",\n",
    "                         group_behavior_2=\"geometric_center\")"
   ]
  },
  {
   "cell_type": "code",
   "execution_count": 90,
   "metadata": {},
   "outputs": [],
   "source": [
    "times = msm.get(molecular_system, target=\"system\", time=True)"
   ]
  },
  {
   "cell_type": "code",
   "execution_count": 91,
   "metadata": {},
   "outputs": [
    {
     "data": {
      "image/png": "[encoded data removed]",
      "text/plain": [
       "<Figure size 432x288 with 1 Axes>"
      ]
     },
     "metadata": {
      "needs_background": "light"
     },
     "output_type": "display_data"
    }
   ],
   "source": [
    "plt.plot(times.in_units_of(unit.nanoseconds), distances[:,0,0])\n",
    "plt.show()"
   ]
  },
  {
   "cell_type": "markdown",
   "metadata": {},
   "source": [
    "Or lets just get the distance between the geometric centers of all residues at the 3000-th frame:"
   ]
  },
  {
   "cell_type": "code",
   "execution_count": 92,
   "metadata": {},
   "outputs": [],
   "source": [
    "list_groups_1 = msm.get(molecular_system, target=\"group\", selection=\"all\", atom_index=True)\n",
    "distances = msm.distance(item_1=molecular_system, groups_of_atoms_1=list_groups_1,\n",
    "                         group_behavior_1=\"geometric_center\",\n",
    "                         frame_indices_1=3000)"
   ]
  },
  {
   "cell_type": "code",
   "execution_count": 93,
   "metadata": {},
   "outputs": [
    {
     "data": {
      "text/plain": [
       "(1, 7, 7)"
      ]
     },
     "execution_count": 93,
     "metadata": {},
     "output_type": "execute_result"
    }
   ],
   "source": [
    "distances.shape"
   ]
  },
  {
   "cell_type": "code",
   "execution_count": 94,
   "metadata": {},
   "outputs": [
    {
     "name": "stdout",
     "output_type": "stream",
     "text": [
      "The distance between geometric_center of group 2-th and group 4-th at frame 3000-th is: 0.6818505282832528 nm\n"
     ]
    }
   ],
   "source": [
    "print(\"The distance between geometric_center of group 2-th and group 4-th at frame 3000-th is: {}\".format(distances[0,2,4]))"
   ]
  },
  {
   "cell_type": "markdown",
   "metadata": {},
   "source": [
    "### Distance between atom groups of two systems\n",
    "\n",
    "The method `molsysmt.distance()` can work with two different systems as it was shown in the section about getting distances from atoms. The same option works for atom groups. Lets just see this with a case:"
   ]
  },
  {
   "cell_type": "code",
   "execution_count": 95,
   "metadata": {},
   "outputs": [],
   "source": [
    "molecular_system = msm.convert('mmtf:1TCD', 'molsysmt.MolSys')"
   ]
  },
  {
   "cell_type": "code",
   "execution_count": 96,
   "metadata": {},
   "outputs": [],
   "source": [
    "molecular_system_A = msm.extract(molecular_system,\n",
    "                                 selection=\"chain_index==0 and molecule_type=='protein'\")\n",
    "molecular_system_B = msm.extract(molecular_system,\n",
    "                                 selection=\"chain_index==1 and molecule_type=='protein'\")"
   ]
  },
  {
   "cell_type": "code",
   "execution_count": 97,
   "metadata": {},
   "outputs": [
    {
     "data": {
      "text/html": [
       "<style  type=\"text/css\" >\n",
       "</style><table id=\"T_6d177fe2_b5db_11ea_a141_67b0066834f6\" ><thead>    <tr>        <th class=\"col_heading level0 col0\" >form</th>        <th class=\"col_heading level0 col1\" >n_atoms</th>        <th class=\"col_heading level0 col2\" >n_groups</th>        <th class=\"col_heading level0 col3\" >n_components</th>        <th class=\"col_heading level0 col4\" >n_chains</th>        <th class=\"col_heading level0 col5\" >n_molecules</th>        <th class=\"col_heading level0 col6\" >n_entities</th>        <th class=\"col_heading level0 col7\" >n_proteins</th>        <th class=\"col_heading level0 col8\" >n_frames</th>    </tr></thead><tbody>\n",
       "                <tr>\n",
       "                                <td id=\"T_6d177fe2_b5db_11ea_a141_67b0066834f6row0_col0\" class=\"data row0 col0\" >molsysmt.MolSys</td>\n",
       "                        <td id=\"T_6d177fe2_b5db_11ea_a141_67b0066834f6row0_col1\" class=\"data row0 col1\" >1906</td>\n",
       "                        <td id=\"T_6d177fe2_b5db_11ea_a141_67b0066834f6row0_col2\" class=\"data row0 col2\" >248</td>\n",
       "                        <td id=\"T_6d177fe2_b5db_11ea_a141_67b0066834f6row0_col3\" class=\"data row0 col3\" >1</td>\n",
       "                        <td id=\"T_6d177fe2_b5db_11ea_a141_67b0066834f6row0_col4\" class=\"data row0 col4\" >1</td>\n",
       "                        <td id=\"T_6d177fe2_b5db_11ea_a141_67b0066834f6row0_col5\" class=\"data row0 col5\" >1</td>\n",
       "                        <td id=\"T_6d177fe2_b5db_11ea_a141_67b0066834f6row0_col6\" class=\"data row0 col6\" >1</td>\n",
       "                        <td id=\"T_6d177fe2_b5db_11ea_a141_67b0066834f6row0_col7\" class=\"data row0 col7\" >1</td>\n",
       "                        <td id=\"T_6d177fe2_b5db_11ea_a141_67b0066834f6row0_col8\" class=\"data row0 col8\" >1</td>\n",
       "            </tr>\n",
       "    </tbody></table>"
      ],
      "text/plain": [
       "<pandas.io.formats.style.Styler at 0x7f78ee4a9710>"
      ]
     },
     "execution_count": 97,
     "metadata": {},
     "output_type": "execute_result"
    }
   ],
   "source": [
    "msm.info(molecular_system_A)"
   ]
  },
  {
   "cell_type": "code",
   "execution_count": 98,
   "metadata": {},
   "outputs": [
    {
     "data": {
      "text/html": [
       "<style  type=\"text/css\" >\n",
       "</style><table id=\"T_6d1fbc8e_b5db_11ea_a141_67b0066834f6\" ><thead>    <tr>        <th class=\"col_heading level0 col0\" >form</th>        <th class=\"col_heading level0 col1\" >n_atoms</th>        <th class=\"col_heading level0 col2\" >n_groups</th>        <th class=\"col_heading level0 col3\" >n_components</th>        <th class=\"col_heading level0 col4\" >n_chains</th>        <th class=\"col_heading level0 col5\" >n_molecules</th>        <th class=\"col_heading level0 col6\" >n_entities</th>        <th class=\"col_heading level0 col7\" >n_proteins</th>        <th class=\"col_heading level0 col8\" >n_frames</th>    </tr></thead><tbody>\n",
       "                <tr>\n",
       "                                <td id=\"T_6d1fbc8e_b5db_11ea_a141_67b0066834f6row0_col0\" class=\"data row0 col0\" >molsysmt.MolSys</td>\n",
       "                        <td id=\"T_6d1fbc8e_b5db_11ea_a141_67b0066834f6row0_col1\" class=\"data row0 col1\" >1912</td>\n",
       "                        <td id=\"T_6d1fbc8e_b5db_11ea_a141_67b0066834f6row0_col2\" class=\"data row0 col2\" >249</td>\n",
       "                        <td id=\"T_6d1fbc8e_b5db_11ea_a141_67b0066834f6row0_col3\" class=\"data row0 col3\" >1</td>\n",
       "                        <td id=\"T_6d1fbc8e_b5db_11ea_a141_67b0066834f6row0_col4\" class=\"data row0 col4\" >1</td>\n",
       "                        <td id=\"T_6d1fbc8e_b5db_11ea_a141_67b0066834f6row0_col5\" class=\"data row0 col5\" >1</td>\n",
       "                        <td id=\"T_6d1fbc8e_b5db_11ea_a141_67b0066834f6row0_col6\" class=\"data row0 col6\" >1</td>\n",
       "                        <td id=\"T_6d1fbc8e_b5db_11ea_a141_67b0066834f6row0_col7\" class=\"data row0 col7\" >1</td>\n",
       "                        <td id=\"T_6d1fbc8e_b5db_11ea_a141_67b0066834f6row0_col8\" class=\"data row0 col8\" >1</td>\n",
       "            </tr>\n",
       "    </tbody></table>"
      ],
      "text/plain": [
       "<pandas.io.formats.style.Styler at 0x7f78ee4a7290>"
      ]
     },
     "execution_count": 98,
     "metadata": {},
     "output_type": "execute_result"
    }
   ],
   "source": [
    "msm.info(molecular_system_B)"
   ]
  },
  {
   "cell_type": "markdown",
   "metadata": {},
   "source": [
    "Distance between groups belonging to different groups can be computed. All input arguments introduced to work with atoms remain valid in this context:"
   ]
  },
  {
   "cell_type": "code",
   "execution_count": 99,
   "metadata": {},
   "outputs": [],
   "source": [
    "list_groups_A = msm.get(molecular_system_A, target=\"group\",\n",
    "                        selection=\"group_index in [0,1,2,3]\", atom_index=True)\n",
    "list_groups_B = msm.get(molecular_system_B, target=\"group\",\n",
    "                        selection=\"group_index in [10,11,12,13]\", atom_index=True)"
   ]
  },
  {
   "cell_type": "code",
   "execution_count": 100,
   "metadata": {},
   "outputs": [],
   "source": [
    "distances = msm.distance(item_1=molecular_system_A, groups_of_atoms_1=list_groups_A,\n",
    "                         group_behavior_1=\"geometric_center\",\n",
    "                         item_2=molecular_system_B, groups_of_atoms_2=list_groups_B,\n",
    "                         group_behavior_2=\"geometric_center\")"
   ]
  },
  {
   "cell_type": "code",
   "execution_count": 101,
   "metadata": {},
   "outputs": [
    {
     "data": {
      "text/plain": [
       "(1, 4, 4)"
      ]
     },
     "execution_count": 101,
     "metadata": {},
     "output_type": "execute_result"
    }
   ],
   "source": [
    "distances.shape"
   ]
  },
  {
   "cell_type": "code",
   "execution_count": 102,
   "metadata": {},
   "outputs": [
    {
     "name": "stdout",
     "output_type": "stream",
     "text": [
      "The distance between geometric_center of group 0-th of A and group 10-th of B is: 4.5790732402700085 nm\n"
     ]
    }
   ],
   "source": [
    "print(\"The distance between geometric_center of group 0-th of A and group 10-th of B is: {}\".format(distances[0,0,0]))"
   ]
  },
  {
   "cell_type": "markdown",
   "metadata": {},
   "source": [
    "### Distances between atom groups positions in different frames"
   ]
  },
  {
   "cell_type": "markdown",
   "metadata": {},
   "source": [
    "The method `molsysmt.distance()` works with atom groups just like with only atoms. There are two input arguments to select the coordinates of a set of atoms at two different frames:"
   ]
  },
  {
   "cell_type": "code",
   "execution_count": 103,
   "metadata": {},
   "outputs": [],
   "source": [
    "molecular_system = msm.test_systems.files['pentalanine.h5']\n",
    "molecular_system = msm.convert(molecular_system, to_form='molsysmt.MolSys')"
   ]
  },
  {
   "cell_type": "code",
   "execution_count": 104,
   "metadata": {},
   "outputs": [
    {
     "data": {
      "text/html": [
       "<style  type=\"text/css\" >\n",
       "</style><table id=\"T_6d778392_b5db_11ea_a141_67b0066834f6\" ><thead>    <tr>        <th class=\"col_heading level0 col0\" >form</th>        <th class=\"col_heading level0 col1\" >n_atoms</th>        <th class=\"col_heading level0 col2\" >n_groups</th>        <th class=\"col_heading level0 col3\" >n_components</th>        <th class=\"col_heading level0 col4\" >n_chains</th>        <th class=\"col_heading level0 col5\" >n_molecules</th>        <th class=\"col_heading level0 col6\" >n_entities</th>        <th class=\"col_heading level0 col7\" >n_peptides</th>        <th class=\"col_heading level0 col8\" >n_frames</th>    </tr></thead><tbody>\n",
       "                <tr>\n",
       "                                <td id=\"T_6d778392_b5db_11ea_a141_67b0066834f6row0_col0\" class=\"data row0 col0\" >molsysmt.MolSys</td>\n",
       "                        <td id=\"T_6d778392_b5db_11ea_a141_67b0066834f6row0_col1\" class=\"data row0 col1\" >62</td>\n",
       "                        <td id=\"T_6d778392_b5db_11ea_a141_67b0066834f6row0_col2\" class=\"data row0 col2\" >7</td>\n",
       "                        <td id=\"T_6d778392_b5db_11ea_a141_67b0066834f6row0_col3\" class=\"data row0 col3\" >62</td>\n",
       "                        <td id=\"T_6d778392_b5db_11ea_a141_67b0066834f6row0_col4\" class=\"data row0 col4\" >1</td>\n",
       "                        <td id=\"T_6d778392_b5db_11ea_a141_67b0066834f6row0_col5\" class=\"data row0 col5\" >62</td>\n",
       "                        <td id=\"T_6d778392_b5db_11ea_a141_67b0066834f6row0_col6\" class=\"data row0 col6\" >62</td>\n",
       "                        <td id=\"T_6d778392_b5db_11ea_a141_67b0066834f6row0_col7\" class=\"data row0 col7\" >62</td>\n",
       "                        <td id=\"T_6d778392_b5db_11ea_a141_67b0066834f6row0_col8\" class=\"data row0 col8\" >5000</td>\n",
       "            </tr>\n",
       "    </tbody></table>"
      ],
      "text/plain": [
       "<pandas.io.formats.style.Styler at 0x7f78ee4a9650>"
      ]
     },
     "execution_count": 104,
     "metadata": {},
     "output_type": "execute_result"
    }
   ],
   "source": [
    "msm.info(molecular_system)"
   ]
  },
  {
   "cell_type": "markdown",
   "metadata": {},
   "source": [
    "Let see how `frame_indices_1` and `frame_indices_2` works in this context:"
   ]
  },
  {
   "cell_type": "code",
   "execution_count": 105,
   "metadata": {},
   "outputs": [],
   "source": [
    "distances = msm.distance(item_1=molecular_system,\n",
    "                         selection_1=\"group_index==0\", group_behavior_1=\"geometric_center\",\n",
    "                         frame_indices_1=100,\n",
    "                         selection_2=\"group_index==6\", group_behavior_2=\"geometric_center\",\n",
    "                         frame_indices_2=200)"
   ]
  },
  {
   "cell_type": "code",
   "execution_count": 106,
   "metadata": {},
   "outputs": [
    {
     "data": {
      "text/plain": [
       "(1, 1, 1)"
      ]
     },
     "execution_count": 106,
     "metadata": {},
     "output_type": "execute_result"
    }
   ],
   "source": [
    "distances.shape"
   ]
  },
  {
   "cell_type": "markdown",
   "metadata": {},
   "source": [
    "The physical meaning of this former example is clear but not really useful, unless `selection_1` is the same as `selection_2` as we can see in the following section."
   ]
  },
  {
   "cell_type": "markdown",
   "metadata": {},
   "source": [
    "### Displacement distances of atom groups"
   ]
  },
  {
   "cell_type": "markdown",
   "metadata": {},
   "source": [
    "The possibility to get the distance between the coordinates of an object at two different frames makes the obtention of atom groups displacements straightforward. Lets plot the distance walked by the 0-th group of the former pentalanine peptide between consecutive frames of the trajectory store in `pentalanine.h5`:"
   ]
  },
  {
   "cell_type": "code",
   "execution_count": 107,
   "metadata": {},
   "outputs": [],
   "source": [
    "molecular_system = msm.test_systems.files['pentalanine.h5']\n",
    "molecular_system = msm.convert(molecular_system, to_form='molsysmt.MolSys')"
   ]
  },
  {
   "cell_type": "code",
   "execution_count": 108,
   "metadata": {},
   "outputs": [],
   "source": [
    "n_frames = msm.get(molecular_system, n_frames=True)"
   ]
  },
  {
   "cell_type": "code",
   "execution_count": 109,
   "metadata": {},
   "outputs": [],
   "source": [
    "all_frame_indices = np.arange(n_frames)"
   ]
  },
  {
   "cell_type": "code",
   "execution_count": 110,
   "metadata": {},
   "outputs": [],
   "source": [
    "displacements = msm.distance(item_1=molecular_system, selection_1=\"group_index==0\",\n",
    "                             group_behavior_1=\"geometric_center\",\n",
    "                             frame_indices_1=all_frame_indices[:-1],\n",
    "                             frame_indices_2=all_frame_indices[1:])"
   ]
  },
  {
   "cell_type": "code",
   "execution_count": 111,
   "metadata": {},
   "outputs": [],
   "source": [
    "time = msm.get(molecular_system, target='system', frame_indices=all_frame_indices[:-1], time=True)"
   ]
  },
  {
   "cell_type": "code",
   "execution_count": 112,
   "metadata": {},
   "outputs": [
    {
     "data": {
      "image/png": "[encoded data removed]",
      "text/plain": [
       "<Figure size 432x288 with 1 Axes>"
      ]
     },
     "metadata": {
      "needs_background": "light"
     },
     "output_type": "display_data"
    }
   ],
   "source": [
    "plt.plot(time.in_units_of(unit.nanoseconds), displacements[:,0,0])\n",
    "plt.show()"
   ]
  },
  {
   "cell_type": "markdown",
   "metadata": {},
   "source": [
    "Or we can, for instance, get the distance of the center of mass of the whole molecule from the initial configuration to every time step along the trajectory:"
   ]
  },
  {
   "cell_type": "code",
   "execution_count": 113,
   "metadata": {},
   "outputs": [],
   "source": [
    "displacements = msm.distance(item_1=molecular_system, selection_1=\"all\",\n",
    "                             frame_indices_1=np.zeros(n_frames), frame_indices_2=all_frame_indices)"
   ]
  },
  {
   "cell_type": "code",
   "execution_count": 114,
   "metadata": {},
   "outputs": [],
   "source": [
    "time = msm.get(molecular_system, target='system', time=True)"
   ]
  },
  {
   "cell_type": "code",
   "execution_count": 115,
   "metadata": {},
   "outputs": [
    {
     "data": {
      "image/png": "[encoded data removed]",
      "text/plain": [
       "<Figure size 432x288 with 1 Axes>"
      ]
     },
     "metadata": {
      "needs_background": "light"
     },
     "output_type": "display_data"
    }
   ],
   "source": [
    "plt.plot(time.in_units_of(unit.nanoseconds), displacements[:,0,0])\n",
    "plt.show()"
   ]
  },
  {
   "cell_type": "markdown",
   "metadata": {},
   "source": [
    "### Distance between atom groups pairs"
   ]
  },
  {
   "cell_type": "markdown",
   "metadata": {},
   "source": [
    "Lets see the following example where all distances betweeen the geometric center of the residues of pentalanine is computed along a short trajectory:"
   ]
  },
  {
   "cell_type": "code",
   "execution_count": 116,
   "metadata": {},
   "outputs": [],
   "source": [
    "molecular_system = msm.test_systems.files['pentalanine.h5']\n",
    "molecular_system = msm.convert(molecular_system, to_form='molsysmt.MolSys')"
   ]
  },
  {
   "cell_type": "code",
   "execution_count": 117,
   "metadata": {},
   "outputs": [],
   "source": [
    "list_atom_groups = msm.get(molecular_system, target='group', selection='all', atom_index=True)"
   ]
  },
  {
   "cell_type": "code",
   "execution_count": 118,
   "metadata": {},
   "outputs": [
    {
     "data": {
      "text/plain": [
       "array([array([0, 1, 2, 3, 4, 5]),\n",
       "       array([ 6,  7,  8,  9, 10, 11, 12, 13, 14, 15]),\n",
       "       array([16, 17, 18, 19, 20, 21, 22, 23, 24, 25]),\n",
       "       array([26, 27, 28, 29, 30, 31, 32, 33, 34, 35]),\n",
       "       array([36, 37, 38, 39, 40, 41, 42, 43, 44, 45]),\n",
       "       array([46, 47, 48, 49, 50, 51, 52, 53, 54, 55]),\n",
       "       array([56, 57, 58, 59, 60, 61])], dtype=object)"
      ]
     },
     "execution_count": 118,
     "metadata": {},
     "output_type": "execute_result"
    }
   ],
   "source": [
    "list_atom_groups"
   ]
  },
  {
   "cell_type": "code",
   "execution_count": 119,
   "metadata": {},
   "outputs": [],
   "source": [
    "distances = msm.distance(molecular_system, groups_of_atoms_1=list_atom_groups,\n",
    "                         group_behavior_1='geometric_center')"
   ]
  },
  {
   "cell_type": "code",
   "execution_count": 120,
   "metadata": {},
   "outputs": [
    {
     "data": {
      "text/plain": [
       "(5000, 7, 7)"
      ]
     },
     "execution_count": 120,
     "metadata": {},
     "output_type": "execute_result"
    }
   ],
   "source": [
    "distances.shape"
   ]
  },
  {
   "cell_type": "markdown",
   "metadata": {},
   "source": [
    "The method worked needlessly computing the distances between different groups twice, as well as getting the distance between a geometric center to the its self for every residue. This can be avoided thanks to the input argument `pairs=True`. Using `pairs=True`, as it can be seen in the corresponding section about distances of atoms pairs, the distances between atom groups pairs made by consecutive elements of two zipped lists are obtained. Lets see this with a pratical case:"
   ]
  },
  {
   "cell_type": "code",
   "execution_count": 121,
   "metadata": {},
   "outputs": [
    {
     "name": "stdout",
     "output_type": "stream",
     "text": [
      "0.vs.1\n",
      "0.vs.2\n",
      "0.vs.3\n",
      "0.vs.4\n",
      "0.vs.5\n",
      "0.vs.6\n",
      "1.vs.2\n",
      "1.vs.3\n",
      "1.vs.4\n",
      "1.vs.5\n",
      "1.vs.6\n",
      "2.vs.3\n",
      "2.vs.4\n",
      "2.vs.5\n",
      "2.vs.6\n",
      "3.vs.4\n",
      "3.vs.5\n",
      "3.vs.6\n",
      "4.vs.5\n",
      "4.vs.6\n",
      "5.vs.6\n"
     ]
    }
   ],
   "source": [
    "from itertools import combinations \n",
    "\n",
    "list_atom_groups_1=[]\n",
    "list_atom_groups_2=[]\n",
    "aux_list_1=[]\n",
    "aux_list_2=[]\n",
    "\n",
    "for ii,jj in combinations(range(7), 2):\n",
    "    print('{}.vs.{}'.format(ii,jj))\n",
    "    aux_list_1.append(ii)\n",
    "    aux_list_2.append(jj)\n",
    "    list_atom_groups_1.append(list_atom_groups[ii])\n",
    "    list_atom_groups_2.append(list_atom_groups[jj])"
   ]
  },
  {
   "cell_type": "code",
   "execution_count": 122,
   "metadata": {},
   "outputs": [],
   "source": [
    "distances = msm.distance(molecular_system, groups_of_atoms_1=list_atom_groups_1,\n",
    "                         group_behavior_1='geometric_center', groups_of_atoms_2=list_atom_groups_2,\n",
    "                         group_behavior_2='geometric_center', pairs=True)"
   ]
  },
  {
   "cell_type": "code",
   "execution_count": 123,
   "metadata": {},
   "outputs": [
    {
     "data": {
      "text/plain": [
       "(5000, 21)"
      ]
     },
     "execution_count": 123,
     "metadata": {},
     "output_type": "execute_result"
    }
   ],
   "source": [
    "distances.shape"
   ]
  },
  {
   "cell_type": "markdown",
   "metadata": {},
   "source": [
    "Lets plot the distance of a given pair, 12-th p.e., defined by the groups:"
   ]
  },
  {
   "cell_type": "code",
   "execution_count": 124,
   "metadata": {},
   "outputs": [
    {
     "name": "stdout",
     "output_type": "stream",
     "text": [
      "The 12-th pair is made by groups 2-th and 4-th, and its distance along the trajectory is:\n"
     ]
    }
   ],
   "source": [
    "print('The 12-th pair is made by groups {}-th and {}-th, and its distance along the trajectory is:'.format(aux_list_1[12], aux_list_2[12]))"
   ]
  },
  {
   "cell_type": "code",
   "execution_count": 125,
   "metadata": {},
   "outputs": [
    {
     "data": {
      "image/png": "[encoded data removed]",
      "text/plain": [
       "<Figure size 432x288 with 1 Axes>"
      ]
     },
     "metadata": {
      "needs_background": "light"
     },
     "output_type": "display_data"
    }
   ],
   "source": [
    "time = msm.get(molecular_system, target='system', time=True)\n",
    "plt.plot(time.in_units_of(unit.nanoseconds), distances[:,12])\n",
    "plt.show()"
   ]
  },
  {
   "cell_type": "markdown",
   "metadata": {},
   "source": [
    "### Minimum and Maximum distance of atom groups"
   ]
  },
  {
   "cell_type": "markdown",
   "metadata": {},
   "source": [
    "Sometimes the pair of atom groups with the shortest distance between their geometric centers, or centers of mass, needs to be determined. Lets work to illustrate this case with a dimeric protein complex:"
   ]
  },
  {
   "cell_type": "code",
   "execution_count": 126,
   "metadata": {},
   "outputs": [],
   "source": [
    "molecular_system = msm.convert('mmtf:1TCD', 'molsysmt.MolSys')"
   ]
  },
  {
   "cell_type": "code",
   "execution_count": 127,
   "metadata": {},
   "outputs": [
    {
     "data": {
      "text/html": [
       "<style  type=\"text/css\" >\n",
       "</style><table id=\"T_6f6d53a2_b5db_11ea_a141_67b0066834f6\" ><thead>    <tr>        <th class=\"col_heading level0 col0\" >index</th>        <th class=\"col_heading level0 col1\" >n atoms</th>        <th class=\"col_heading level0 col2\" >n groups</th>        <th class=\"col_heading level0 col3\" >chain index</th>        <th class=\"col_heading level0 col4\" >molecule index</th>        <th class=\"col_heading level0 col5\" >molecule type</th>        <th class=\"col_heading level0 col6\" >entity index</th>        <th class=\"col_heading level0 col7\" >entity name</th>    </tr></thead><tbody>\n",
       "                <tr>\n",
       "                                <td id=\"T_6f6d53a2_b5db_11ea_a141_67b0066834f6row0_col0\" class=\"data row0 col0\" >0</td>\n",
       "                        <td id=\"T_6f6d53a2_b5db_11ea_a141_67b0066834f6row0_col1\" class=\"data row0 col1\" >[1906]</td>\n",
       "                        <td id=\"T_6f6d53a2_b5db_11ea_a141_67b0066834f6row0_col2\" class=\"data row0 col2\" >[248]</td>\n",
       "                        <td id=\"T_6f6d53a2_b5db_11ea_a141_67b0066834f6row0_col3\" class=\"data row0 col3\" >0</td>\n",
       "                        <td id=\"T_6f6d53a2_b5db_11ea_a141_67b0066834f6row0_col4\" class=\"data row0 col4\" >0</td>\n",
       "                        <td id=\"T_6f6d53a2_b5db_11ea_a141_67b0066834f6row0_col5\" class=\"data row0 col5\" >protein</td>\n",
       "                        <td id=\"T_6f6d53a2_b5db_11ea_a141_67b0066834f6row0_col6\" class=\"data row0 col6\" >0</td>\n",
       "                        <td id=\"T_6f6d53a2_b5db_11ea_a141_67b0066834f6row0_col7\" class=\"data row0 col7\" >TRIOSEPHOSPHATE ISOMERASE</td>\n",
       "            </tr>\n",
       "            <tr>\n",
       "                                <td id=\"T_6f6d53a2_b5db_11ea_a141_67b0066834f6row1_col0\" class=\"data row1 col0\" >1</td>\n",
       "                        <td id=\"T_6f6d53a2_b5db_11ea_a141_67b0066834f6row1_col1\" class=\"data row1 col1\" >[1912]</td>\n",
       "                        <td id=\"T_6f6d53a2_b5db_11ea_a141_67b0066834f6row1_col2\" class=\"data row1 col2\" >[249]</td>\n",
       "                        <td id=\"T_6f6d53a2_b5db_11ea_a141_67b0066834f6row1_col3\" class=\"data row1 col3\" >1</td>\n",
       "                        <td id=\"T_6f6d53a2_b5db_11ea_a141_67b0066834f6row1_col4\" class=\"data row1 col4\" >0</td>\n",
       "                        <td id=\"T_6f6d53a2_b5db_11ea_a141_67b0066834f6row1_col5\" class=\"data row1 col5\" >protein</td>\n",
       "                        <td id=\"T_6f6d53a2_b5db_11ea_a141_67b0066834f6row1_col6\" class=\"data row1 col6\" >0</td>\n",
       "                        <td id=\"T_6f6d53a2_b5db_11ea_a141_67b0066834f6row1_col7\" class=\"data row1 col7\" >TRIOSEPHOSPHATE ISOMERASE</td>\n",
       "            </tr>\n",
       "    </tbody></table>"
      ],
      "text/plain": [
       "<pandas.io.formats.style.Styler at 0x7f78ed560a10>"
      ]
     },
     "execution_count": 127,
     "metadata": {},
     "output_type": "execute_result"
    }
   ],
   "source": [
    "msm.info(molecular_system, target='component', selection='molecule_type==\"protein\"')"
   ]
  },
  {
   "cell_type": "markdown",
   "metadata": {},
   "source": [
    "Lets find out the closest pairs of distance from different components:"
   ]
  },
  {
   "cell_type": "code",
   "execution_count": 128,
   "metadata": {},
   "outputs": [],
   "source": [
    "atoms_groups_component_0 = msm.get(molecular_system, target='group',\n",
    "                                   selection='component_index==0', atom_index=True)\n",
    "atoms_groups_component_1 = msm.get(molecular_system, target='group',\n",
    "                                   selection='component_index==1', atom_index=True)"
   ]
  },
  {
   "cell_type": "code",
   "execution_count": 129,
   "metadata": {},
   "outputs": [],
   "source": [
    "min_pairs, min_distances = msm.minimum_distance(molecular_system,\n",
    "                                                groups_of_atoms_1=atoms_groups_component_0,\n",
    "                                                group_behavior_1='geometric_center',\n",
    "                                                groups_of_atoms_2=atoms_groups_component_1,\n",
    "                                                group_behavior_2='geometric_center')"
   ]
  },
  {
   "cell_type": "markdown",
   "metadata": {},
   "source": [
    "There is a single frame in our molecular system, thats why the shape of the numpy array with the pair of groups is the following:"
   ]
  },
  {
   "cell_type": "code",
   "execution_count": 130,
   "metadata": {},
   "outputs": [
    {
     "data": {
      "text/plain": [
       "(1, 2)"
      ]
     },
     "execution_count": 130,
     "metadata": {},
     "output_type": "execute_result"
    }
   ],
   "source": [
    "min_pairs.shape"
   ]
  },
  {
   "cell_type": "markdown",
   "metadata": {},
   "source": [
    "Where the indices found in min_pairs correspond to the n-th and m-th atoms group of the first list and the second list respectively:"
   ]
  },
  {
   "cell_type": "code",
   "execution_count": 131,
   "metadata": {},
   "outputs": [
    {
     "data": {
      "text/plain": [
       "array([69, 12])"
      ]
     },
     "execution_count": 131,
     "metadata": {},
     "output_type": "execute_result"
    }
   ],
   "source": [
    "min_pairs[0]"
   ]
  },
  {
   "cell_type": "code",
   "execution_count": 132,
   "metadata": {},
   "outputs": [],
   "source": [
    "group_index_in_component_0 = msm.get(molecular_system, target='group',\n",
    "                                     selection='component_index==0', index=True)[69]\n",
    "group_index_in_component_1 = msm.get(molecular_system, target='group',\n",
    "                                     selection='component_index==1', index=True)[12]"
   ]
  },
  {
   "cell_type": "code",
   "execution_count": 133,
   "metadata": {},
   "outputs": [
    {
     "data": {
      "text/html": [
       "<style  type=\"text/css\" >\n",
       "</style><table id=\"T_6fc55f02_b5db_11ea_a141_67b0066834f6\" ><thead>    <tr>        <th class=\"col_heading level0 col0\" >index</th>        <th class=\"col_heading level0 col1\" >id</th>        <th class=\"col_heading level0 col2\" >name</th>        <th class=\"col_heading level0 col3\" >type</th>        <th class=\"col_heading level0 col4\" >n atoms</th>        <th class=\"col_heading level0 col5\" >component index</th>        <th class=\"col_heading level0 col6\" >chain index</th>        <th class=\"col_heading level0 col7\" >molecule index</th>        <th class=\"col_heading level0 col8\" >molecule type</th>        <th class=\"col_heading level0 col9\" >entity index</th>        <th class=\"col_heading level0 col10\" >entity name</th>    </tr></thead><tbody>\n",
       "                <tr>\n",
       "                                <td id=\"T_6fc55f02_b5db_11ea_a141_67b0066834f6row0_col0\" class=\"data row0 col0\" >69</td>\n",
       "                        <td id=\"T_6fc55f02_b5db_11ea_a141_67b0066834f6row0_col1\" class=\"data row0 col1\" >73</td>\n",
       "                        <td id=\"T_6fc55f02_b5db_11ea_a141_67b0066834f6row0_col2\" class=\"data row0 col2\" >GLY</td>\n",
       "                        <td id=\"T_6fc55f02_b5db_11ea_a141_67b0066834f6row0_col3\" class=\"data row0 col3\" >aminoacid</td>\n",
       "                        <td id=\"T_6fc55f02_b5db_11ea_a141_67b0066834f6row0_col4\" class=\"data row0 col4\" >[4]</td>\n",
       "                        <td id=\"T_6fc55f02_b5db_11ea_a141_67b0066834f6row0_col5\" class=\"data row0 col5\" >0</td>\n",
       "                        <td id=\"T_6fc55f02_b5db_11ea_a141_67b0066834f6row0_col6\" class=\"data row0 col6\" >0</td>\n",
       "                        <td id=\"T_6fc55f02_b5db_11ea_a141_67b0066834f6row0_col7\" class=\"data row0 col7\" >0</td>\n",
       "                        <td id=\"T_6fc55f02_b5db_11ea_a141_67b0066834f6row0_col8\" class=\"data row0 col8\" >protein</td>\n",
       "                        <td id=\"T_6fc55f02_b5db_11ea_a141_67b0066834f6row0_col9\" class=\"data row0 col9\" >0</td>\n",
       "                        <td id=\"T_6fc55f02_b5db_11ea_a141_67b0066834f6row0_col10\" class=\"data row0 col10\" >TRIOSEPHOSPHATE ISOMERASE</td>\n",
       "            </tr>\n",
       "            <tr>\n",
       "                                <td id=\"T_6fc55f02_b5db_11ea_a141_67b0066834f6row1_col0\" class=\"data row1 col0\" >260</td>\n",
       "                        <td id=\"T_6fc55f02_b5db_11ea_a141_67b0066834f6row1_col1\" class=\"data row1 col1\" >15</td>\n",
       "                        <td id=\"T_6fc55f02_b5db_11ea_a141_67b0066834f6row1_col2\" class=\"data row1 col2\" >CYS</td>\n",
       "                        <td id=\"T_6fc55f02_b5db_11ea_a141_67b0066834f6row1_col3\" class=\"data row1 col3\" >aminoacid</td>\n",
       "                        <td id=\"T_6fc55f02_b5db_11ea_a141_67b0066834f6row1_col4\" class=\"data row1 col4\" >[6]</td>\n",
       "                        <td id=\"T_6fc55f02_b5db_11ea_a141_67b0066834f6row1_col5\" class=\"data row1 col5\" >1</td>\n",
       "                        <td id=\"T_6fc55f02_b5db_11ea_a141_67b0066834f6row1_col6\" class=\"data row1 col6\" >1</td>\n",
       "                        <td id=\"T_6fc55f02_b5db_11ea_a141_67b0066834f6row1_col7\" class=\"data row1 col7\" >0</td>\n",
       "                        <td id=\"T_6fc55f02_b5db_11ea_a141_67b0066834f6row1_col8\" class=\"data row1 col8\" >protein</td>\n",
       "                        <td id=\"T_6fc55f02_b5db_11ea_a141_67b0066834f6row1_col9\" class=\"data row1 col9\" >0</td>\n",
       "                        <td id=\"T_6fc55f02_b5db_11ea_a141_67b0066834f6row1_col10\" class=\"data row1 col10\" >TRIOSEPHOSPHATE ISOMERASE</td>\n",
       "            </tr>\n",
       "    </tbody></table>"
      ],
      "text/plain": [
       "<pandas.io.formats.style.Styler at 0x7f78ee3d36d0>"
      ]
     },
     "execution_count": 133,
     "metadata": {},
     "output_type": "execute_result"
    }
   ],
   "source": [
    "msm.info(molecular_system, target='group', indices=[group_index_in_component_0,\n",
    "                                                    group_index_in_component_1])"
   ]
  },
  {
   "cell_type": "markdown",
   "metadata": {},
   "source": [
    "And the corresponding minimum distance between both residues from the two components is:"
   ]
  },
  {
   "cell_type": "code",
   "execution_count": 134,
   "metadata": {},
   "outputs": [
    {
     "data": {
      "text/plain": [
       "Quantity(value=0.38221311908773786, unit=nanometer)"
      ]
     },
     "execution_count": 134,
     "metadata": {},
     "output_type": "execute_result"
    }
   ],
   "source": [
    "min_distances[0]"
   ]
  },
  {
   "cell_type": "markdown",
   "metadata": {},
   "source": [
    "On the other hand, if the maximum distance needs to be obtained, the method to be used is `molsysmt.maximum_distance()`. Lets show how this method works with a short trajectory of the pentalanine peptide."
   ]
  },
  {
   "cell_type": "code",
   "execution_count": 135,
   "metadata": {},
   "outputs": [],
   "source": [
    "molecular_system = msm.test_systems.files['pentalanine.h5']\n",
    "molecular_system = msm.convert(molecular_system, to_form='molsysmt.MolSys')"
   ]
  },
  {
   "cell_type": "code",
   "execution_count": 136,
   "metadata": {},
   "outputs": [
    {
     "data": {
      "text/html": [
       "<style  type=\"text/css\" >\n",
       "</style><table id=\"T_70110b6e_b5db_11ea_a141_67b0066834f6\" ><thead>    <tr>        <th class=\"col_heading level0 col0\" >form</th>        <th class=\"col_heading level0 col1\" >n_atoms</th>        <th class=\"col_heading level0 col2\" >n_groups</th>        <th class=\"col_heading level0 col3\" >n_components</th>        <th class=\"col_heading level0 col4\" >n_chains</th>        <th class=\"col_heading level0 col5\" >n_molecules</th>        <th class=\"col_heading level0 col6\" >n_entities</th>        <th class=\"col_heading level0 col7\" >n_peptides</th>        <th class=\"col_heading level0 col8\" >n_frames</th>    </tr></thead><tbody>\n",
       "                <tr>\n",
       "                                <td id=\"T_70110b6e_b5db_11ea_a141_67b0066834f6row0_col0\" class=\"data row0 col0\" >molsysmt.MolSys</td>\n",
       "                        <td id=\"T_70110b6e_b5db_11ea_a141_67b0066834f6row0_col1\" class=\"data row0 col1\" >62</td>\n",
       "                        <td id=\"T_70110b6e_b5db_11ea_a141_67b0066834f6row0_col2\" class=\"data row0 col2\" >7</td>\n",
       "                        <td id=\"T_70110b6e_b5db_11ea_a141_67b0066834f6row0_col3\" class=\"data row0 col3\" >62</td>\n",
       "                        <td id=\"T_70110b6e_b5db_11ea_a141_67b0066834f6row0_col4\" class=\"data row0 col4\" >1</td>\n",
       "                        <td id=\"T_70110b6e_b5db_11ea_a141_67b0066834f6row0_col5\" class=\"data row0 col5\" >62</td>\n",
       "                        <td id=\"T_70110b6e_b5db_11ea_a141_67b0066834f6row0_col6\" class=\"data row0 col6\" >62</td>\n",
       "                        <td id=\"T_70110b6e_b5db_11ea_a141_67b0066834f6row0_col7\" class=\"data row0 col7\" >62</td>\n",
       "                        <td id=\"T_70110b6e_b5db_11ea_a141_67b0066834f6row0_col8\" class=\"data row0 col8\" >5000</td>\n",
       "            </tr>\n",
       "    </tbody></table>"
      ],
      "text/plain": [
       "<pandas.io.formats.style.Styler at 0x7f78ee44f510>"
      ]
     },
     "execution_count": 136,
     "metadata": {},
     "output_type": "execute_result"
    }
   ],
   "source": [
    "msm.info(molecular_system)"
   ]
  },
  {
   "cell_type": "markdown",
   "metadata": {},
   "source": [
    "The trajectory has 5000 frames. Lets see, for each frame, whats the pair of residues with the longest distance between their geometric centers:"
   ]
  },
  {
   "cell_type": "code",
   "execution_count": 137,
   "metadata": {},
   "outputs": [],
   "source": [
    "list_atom_groups = msm.get(molecular_system, target='group', selection='all', atom_index=True)\n",
    "max_pairs, max_distances = msm.maximum_distance(molecular_system, groups_of_atoms_1=list_atom_groups,\n",
    "                                                group_behavior_1='geometric_center')"
   ]
  },
  {
   "cell_type": "markdown",
   "metadata": {},
   "source": [
    "This time we have 5000 pairs of group, one for each frame; and 5000 maximum distances:"
   ]
  },
  {
   "cell_type": "code",
   "execution_count": 138,
   "metadata": {},
   "outputs": [
    {
     "data": {
      "text/plain": [
       "(5000, 2)"
      ]
     },
     "execution_count": 138,
     "metadata": {},
     "output_type": "execute_result"
    }
   ],
   "source": [
    "max_pairs.shape"
   ]
  },
  {
   "cell_type": "code",
   "execution_count": 139,
   "metadata": {},
   "outputs": [
    {
     "data": {
      "text/plain": [
       "array([[0, 6],\n",
       "       [0, 6],\n",
       "       [0, 6],\n",
       "       ...,\n",
       "       [0, 6],\n",
       "       [2, 6],\n",
       "       [2, 6]])"
      ]
     },
     "execution_count": 139,
     "metadata": {},
     "output_type": "execute_result"
    }
   ],
   "source": [
    "max_pairs"
   ]
  },
  {
   "cell_type": "code",
   "execution_count": 140,
   "metadata": {},
   "outputs": [
    {
     "data": {
      "text/plain": [
       "Quantity(value=array([1.42980221, 1.50600047, 1.6863101 , ..., 1.83006115, 1.24581543,\n",
       "       1.39260625]), unit=nanometer)"
      ]
     },
     "execution_count": 140,
     "metadata": {},
     "output_type": "execute_result"
    }
   ],
   "source": [
    "max_distances"
   ]
  },
  {
   "cell_type": "markdown",
   "metadata": {},
   "source": [
    "To give a last example on this methods, lets wonder: what is the residue of the peptide with the largest displacement between each frame and the next one? (at each frame, of course)"
   ]
  },
  {
   "cell_type": "code",
   "execution_count": 141,
   "metadata": {},
   "outputs": [],
   "source": [
    "list_atom_groups = msm.get(molecular_system, target='group', selection='all', atom_index=True)\n",
    "frames=np.arange(msm.get(molecular_system, n_frames=True))\n",
    "max_group, max_distances = msm.maximum_distance(molecular_system,\n",
    "                                                groups_of_atoms_1=list_atom_groups,\n",
    "                                                group_behavior_1='geometric_center',\n",
    "                                                groups_of_atoms_2=list_atom_groups,\n",
    "                                                group_behavior_2='geometric_center',\n",
    "                                                frame_indices_1=frames[:-1],\n",
    "                                                frame_indices_2=frames[1:],\n",
    "                                                pairs=True)"
   ]
  },
  {
   "cell_type": "markdown",
   "metadata": {},
   "source": [
    "Since we are using the option `pairs=True`, the output this time corresponds to the index of the pair made by the elements in both `groups_of_atoms_1` and `groups_of_atoms_2` with the maximum distance, or displacement in this case, for each i-th frame with the consecutive (i+1)-th frame:"
   ]
  },
  {
   "cell_type": "code",
   "execution_count": 142,
   "metadata": {},
   "outputs": [
    {
     "data": {
      "text/plain": [
       "(4999,)"
      ]
     },
     "execution_count": 142,
     "metadata": {},
     "output_type": "execute_result"
    }
   ],
   "source": [
    "max_group.shape"
   ]
  },
  {
   "cell_type": "code",
   "execution_count": 143,
   "metadata": {},
   "outputs": [
    {
     "data": {
      "text/plain": [
       "array([2, 0, 6, ..., 6, 6, 6])"
      ]
     },
     "execution_count": 143,
     "metadata": {},
     "output_type": "execute_result"
    }
   ],
   "source": [
    "max_group"
   ]
  },
  {
   "cell_type": "markdown",
   "metadata": {},
   "source": [
    "And the value of this maximum displacements are:"
   ]
  },
  {
   "cell_type": "code",
   "execution_count": 144,
   "metadata": {},
   "outputs": [
    {
     "data": {
      "text/plain": [
       "Quantity(value=array([0.72087604, 1.2344545 , 0.83900167, ..., 1.31317032, 0.88887944,\n",
       "       1.26066073]), unit=nanometer)"
      ]
     },
     "execution_count": 144,
     "metadata": {},
     "output_type": "execute_result"
    }
   ],
   "source": [
    "max_distances"
   ]
  },
  {
   "cell_type": "markdown",
   "metadata": {},
   "source": [
    "This way:"
   ]
  },
  {
   "cell_type": "code",
   "execution_count": 145,
   "metadata": {},
   "outputs": [
    {
     "name": "stdout",
     "output_type": "stream",
     "text": [
      "The 3-th is the group with the maximum displacement between frames 200-th and 201-th: 0.6367210108091421 nm\n"
     ]
    }
   ],
   "source": [
    "print('The {}-th is the group with the maximum displacement between frames 200-th and 201-th: {}'.format(max_group[200], max_distances[200]))"
   ]
  },
  {
   "cell_type": "markdown",
   "metadata": {},
   "source": [
    "## Neighbor lists\n",
    "\n",
    "With the method `molsysmt.distance()` many questions about a molecular system can be answered. Two of the most common distance related questions are: what are the closest n atoms to a given one? or what are the atoms closest than a given distance threshold? MolSysMT includes a method to provide with this distances processing: `molsysmt.neighbors_lists()`. \n",
    "\n",
    "### First closest neighbor atoms or groups\n",
    "\n",
    "There are two ways to compute distance neighbors. The closest n atoms to a given one can be obtained with the option `num_neighbors` or `threshold`. Lets show with a simple example how this first option works:"
   ]
  },
  {
   "cell_type": "code",
   "execution_count": 146,
   "metadata": {},
   "outputs": [],
   "source": [
    "molecular_system = msm.test_systems.files['pentalanine.h5']\n",
    "molecular_system = msm.convert(molecular_system, to_form='molsysmt.MolSys')"
   ]
  },
  {
   "cell_type": "code",
   "execution_count": 147,
   "metadata": {},
   "outputs": [
    {
     "data": {
      "text/html": [
       "<style  type=\"text/css\" >\n",
       "</style><table id=\"T_709aeafa_b5db_11ea_a141_67b0066834f6\" ><thead>    <tr>        <th class=\"col_heading level0 col0\" >form</th>        <th class=\"col_heading level0 col1\" >n_atoms</th>        <th class=\"col_heading level0 col2\" >n_groups</th>        <th class=\"col_heading level0 col3\" >n_components</th>        <th class=\"col_heading level0 col4\" >n_chains</th>        <th class=\"col_heading level0 col5\" >n_molecules</th>        <th class=\"col_heading level0 col6\" >n_entities</th>        <th class=\"col_heading level0 col7\" >n_peptides</th>        <th class=\"col_heading level0 col8\" >n_frames</th>    </tr></thead><tbody>\n",
       "                <tr>\n",
       "                                <td id=\"T_709aeafa_b5db_11ea_a141_67b0066834f6row0_col0\" class=\"data row0 col0\" >molsysmt.MolSys</td>\n",
       "                        <td id=\"T_709aeafa_b5db_11ea_a141_67b0066834f6row0_col1\" class=\"data row0 col1\" >62</td>\n",
       "                        <td id=\"T_709aeafa_b5db_11ea_a141_67b0066834f6row0_col2\" class=\"data row0 col2\" >7</td>\n",
       "                        <td id=\"T_709aeafa_b5db_11ea_a141_67b0066834f6row0_col3\" class=\"data row0 col3\" >62</td>\n",
       "                        <td id=\"T_709aeafa_b5db_11ea_a141_67b0066834f6row0_col4\" class=\"data row0 col4\" >1</td>\n",
       "                        <td id=\"T_709aeafa_b5db_11ea_a141_67b0066834f6row0_col5\" class=\"data row0 col5\" >62</td>\n",
       "                        <td id=\"T_709aeafa_b5db_11ea_a141_67b0066834f6row0_col6\" class=\"data row0 col6\" >62</td>\n",
       "                        <td id=\"T_709aeafa_b5db_11ea_a141_67b0066834f6row0_col7\" class=\"data row0 col7\" >62</td>\n",
       "                        <td id=\"T_709aeafa_b5db_11ea_a141_67b0066834f6row0_col8\" class=\"data row0 col8\" >5000</td>\n",
       "            </tr>\n",
       "    </tbody></table>"
      ],
      "text/plain": [
       "<pandas.io.formats.style.Styler at 0x7f78ee0e2690>"
      ]
     },
     "execution_count": 147,
     "metadata": {},
     "output_type": "execute_result"
    }
   ],
   "source": [
    "msm.info(molecular_system)"
   ]
  },
  {
   "cell_type": "markdown",
   "metadata": {},
   "source": [
    "We can compute the closest 3 CA atoms to each CA atom of the molecular system:"
   ]
  },
  {
   "cell_type": "code",
   "execution_count": 148,
   "metadata": {},
   "outputs": [],
   "source": [
    "CA_atoms_list = msm.select(molecular_system, selection='atom_name==\"CA\"')"
   ]
  },
  {
   "cell_type": "code",
   "execution_count": 149,
   "metadata": {},
   "outputs": [],
   "source": [
    "neighbors, distances = msm.neighbors_lists(molecular_system, selection_1=CA_atoms_list,\n",
    "                                           num_neighbors=3)"
   ]
  },
  {
   "cell_type": "markdown",
   "metadata": {},
   "source": [
    "Two objects are returned. A numpy array with the list of 3 neighbor atom indices per atom in `selection_1`, per frame:"
   ]
  },
  {
   "cell_type": "code",
   "execution_count": 150,
   "metadata": {},
   "outputs": [
    {
     "data": {
      "text/plain": [
       "(5000, 5, 3)"
      ]
     },
     "execution_count": 150,
     "metadata": {},
     "output_type": "execute_result"
    }
   ],
   "source": [
    "neighbors.shape"
   ]
  },
  {
   "cell_type": "markdown",
   "metadata": {},
   "source": [
    "And the corresponding distances:"
   ]
  },
  {
   "cell_type": "code",
   "execution_count": 151,
   "metadata": {},
   "outputs": [
    {
     "data": {
      "text/plain": [
       "(5000, 5, 3)"
      ]
     },
     "execution_count": 151,
     "metadata": {},
     "output_type": "execute_result"
    }
   ],
   "source": [
    "distances.shape"
   ]
  },
  {
   "cell_type": "markdown",
   "metadata": {},
   "source": [
    "This way, the closest 3 atoms of the first CA atom at frame 2000-th are:"
   ]
  },
  {
   "cell_type": "code",
   "execution_count": 152,
   "metadata": {},
   "outputs": [
    {
     "name": "stdout",
     "output_type": "stream",
     "text": [
      "3 first neighbor CAs of atom 8-th at frame 0-th\n",
      "------------------------------------------\n",
      "1° neighbor is atom 18-th with distance: 0.3874317590975941 nm\n",
      "2° neighbor is atom 28-th with distance: 0.5346208297333755 nm\n",
      "3° neighbor is atom 48-th with distance: 0.5453396095979958 nm\n"
     ]
    }
   ],
   "source": [
    "print(\"3 first neighbor CAs of atom {}-th at frame 0-th\".format(CA_atoms_list[0]))\n",
    "print(\"------------------------------------------\")\n",
    "\n",
    "for ii in range(3):\n",
    "    print(\"{}° neighbor is atom {}-th with distance: {}\".format(ii+1, CA_atoms_list[neighbors[2000,0,ii]], distances[2000,0,ii]))"
   ]
  },
  {
   "cell_type": "markdown",
   "metadata": {},
   "source": [
    "Lets see now the 4 closest atoms, any kind, to each CA atom of the molecular system:"
   ]
  },
  {
   "cell_type": "code",
   "execution_count": 153,
   "metadata": {},
   "outputs": [],
   "source": [
    "neighbors, distances = msm.neighbors_lists(molecular_system, selection_1=CA_atoms_list,\n",
    "                                           selection_2='all',\n",
    "                                           num_neighbors=4)"
   ]
  },
  {
   "cell_type": "code",
   "execution_count": 154,
   "metadata": {},
   "outputs": [
    {
     "name": "stdout",
     "output_type": "stream",
     "text": [
      "4 first neighbors of atom 8-th at frame 2000-th\n",
      "------------------------------------------\n",
      "1° neighbor is atom 8-th with distance: 0.0 nm\n",
      "2° neighbor is atom 9-th with distance: 0.10900002347459704 nm\n",
      "3° neighbor is atom 6-th with distance: 0.14533472683839888 nm\n",
      "4° neighbor is atom 10-th with distance: 0.1532800898161647 nm\n"
     ]
    }
   ],
   "source": [
    "print(\"4 first neighbors of atom {}-th at frame 2000-th\".format(CA_atoms_list[0]))\n",
    "print(\"------------------------------------------\")\n",
    "\n",
    "for ii in range(4):\n",
    "    print(\"{}° neighbor is atom {}-th with distance: {}\".format(ii+1, neighbors[2000,0,ii], distances[2000,0,ii]))"
   ]
  },
  {
   "cell_type": "markdown",
   "metadata": {},
   "source": [
    "Notice that, in this case, `msm.neighbors_list` is built to assume that is working with two different set of atoms since `selection_1`$\\neq$`selection_2`. Thats the reason why this time the first neighbor atom is the atom itself."
   ]
  },
  {
   "cell_type": "markdown",
   "metadata": {},
   "source": [
    "The method `msm.neighbors_list()` was built on top of `msm.distance()`, thus the input arguments are almost the same. If you already had a look to the section about atoms distance, you will be probably wonder if `msm.neighbors_list` can also work with atoms groups. Lets illustrate this case with the following cells:"
   ]
  },
  {
   "cell_type": "code",
   "execution_count": 155,
   "metadata": {},
   "outputs": [],
   "source": [
    "molecular_system = msm.convert('mmtf:1TCD', 'molsysmt.MolSys')"
   ]
  },
  {
   "cell_type": "code",
   "execution_count": 156,
   "metadata": {},
   "outputs": [],
   "source": [
    "atoms_in_residues_chain_0 = msm.get(molecular_system, target='group',\n",
    "                                    selection=\"molecule_type=='protein' and chain_index==0\",\n",
    "                                    atom_index=True)\n",
    "atoms_in_residues_chain_1 = msm.get(molecular_system, target='group',\n",
    "                                    selection=\"molecule_type=='protein' and chain_index==1\",\n",
    "                                    atom_index=True)"
   ]
  },
  {
   "cell_type": "code",
   "execution_count": 157,
   "metadata": {},
   "outputs": [
    {
     "name": "stdout",
     "output_type": "stream",
     "text": [
      "Number of residues in chain 0: 248\n",
      "Number of residues in chain 1: 249\n"
     ]
    }
   ],
   "source": [
    "print('Number of residues in chain 0:', len(atoms_in_residues_chain_0))\n",
    "print('Number of residues in chain 1:', len(atoms_in_residues_chain_1))"
   ]
  },
  {
   "cell_type": "code",
   "execution_count": 158,
   "metadata": {},
   "outputs": [],
   "source": [
    "neighbors, distances = msm.neighbors_lists(molecular_system,\n",
    "                                           groups_of_atoms_1=atoms_in_residues_chain_0,\n",
    "                                           group_behavior_1= 'geometric_center',\n",
    "                                           num_neighbors=8)"
   ]
  },
  {
   "cell_type": "code",
   "execution_count": 159,
   "metadata": {},
   "outputs": [
    {
     "name": "stdout",
     "output_type": "stream",
     "text": [
      "(1, 248, 8)\n"
     ]
    }
   ],
   "source": [
    "print(neighbors.shape)"
   ]
  },
  {
   "cell_type": "code",
   "execution_count": 160,
   "metadata": {},
   "outputs": [
    {
     "name": "stdout",
     "output_type": "stream",
     "text": [
      "8 first group neighbors of the geometric center of residue 0-th\n",
      "------------------------------------------\n",
      "1° neighbor is group 1-th with distance: 0.4370347284513119 nm\n",
      "2° neighbor is group 226-th with distance: 0.5876214911977264 nm\n",
      "3° neighbor is group 220-th with distance: 0.7005928267026147 nm\n",
      "4° neighbor is group 3-th with distance: 0.7546595763407252 nm\n",
      "5° neighbor is group 224-th with distance: 0.7788646403094585 nm\n",
      "6° neighbor is group 225-th with distance: 0.7971327058289358 nm\n",
      "7° neighbor is group 223-th with distance: 0.8302823100919265 nm\n",
      "8° neighbor is group 2-th with distance: 0.8680783396121026 nm\n"
     ]
    }
   ],
   "source": [
    "print(\"8 first group neighbors of the geometric center of residue 0-th\")\n",
    "print(\"------------------------------------------\")\n",
    "\n",
    "for ii in range(8):\n",
    "    print(\"{}° neighbor is group {}-th with distance: {}\".format(ii+1, neighbors[0,0,ii], distances[0,0,ii]))"
   ]
  },
  {
   "cell_type": "markdown",
   "metadata": {},
   "source": [
    "The list groups neighbors can be computed also from two molecular systems or two list of groups:"
   ]
  },
  {
   "cell_type": "code",
   "execution_count": 161,
   "metadata": {},
   "outputs": [],
   "source": [
    "neighbors, distances = msm.neighbors_lists(molecular_system,\n",
    "                                           groups_of_atoms_1=atoms_in_residues_chain_0,\n",
    "                                           group_behavior_1= 'geometric_center',\n",
    "                                           groups_of_atoms_2=atoms_in_residues_chain_1,\n",
    "                                           group_behavior_2= 'geometric_center',\n",
    "                                           num_neighbors=8)"
   ]
  },
  {
   "cell_type": "code",
   "execution_count": 162,
   "metadata": {},
   "outputs": [
    {
     "name": "stdout",
     "output_type": "stream",
     "text": [
      "8 first group neighbors from chain 1 of the geometric center of residue 0-th from chain 0\n",
      "------------------------------------------\n",
      "1° neighbor is group 73-th with distance: 2.773304114113712 nm\n",
      "2° neighbor is group 71-th with distance: 3.0040410444903585 nm\n",
      "3° neighbor is group 74-th with distance: 3.049597390003938 nm\n",
      "4° neighbor is group 70-th with distance: 3.201184539105876 nm\n",
      "5° neighbor is group 72-th with distance: 3.253631073569913 nm\n",
      "6° neighbor is group 75-th with distance: 3.3579026367512856 nm\n",
      "7° neighbor is group 44-th with distance: 3.481955675588245 nm\n",
      "8° neighbor is group 69-th with distance: 3.565210348182857 nm\n"
     ]
    }
   ],
   "source": [
    "print(\"8 first group neighbors from chain 1 of the geometric center of residue 0-th from chain 0\")\n",
    "print(\"------------------------------------------\")\n",
    "\n",
    "for ii in range(8):\n",
    "    print(\"{}° neighbor is group {}-th with distance: {}\".format(ii+1, neighbors[0,0,ii], distances[0,0,ii]))"
   ]
  },
  {
   "cell_type": "markdown",
   "metadata": {},
   "source": [
    "The method `molsysmt.neighbors_lists()` can also mix atoms and atoms groups. Lets, as last example, get the closest geometric centers of residues to a specific atom:"
   ]
  },
  {
   "cell_type": "code",
   "execution_count": 163,
   "metadata": {},
   "outputs": [],
   "source": [
    "neighbors, distances = msm.neighbors_lists(molecular_system, selection_1=100,\n",
    "                                           groups_of_atoms_2=atoms_in_residues_chain_1,\n",
    "                                           group_behavior_2= 'geometric_center',\n",
    "                                           num_neighbors=4)"
   ]
  },
  {
   "cell_type": "code",
   "execution_count": 164,
   "metadata": {},
   "outputs": [
    {
     "name": "stdout",
     "output_type": "stream",
     "text": [
      "4 closest geometric centers of residues of chain 1 from atom 100-th\n",
      "-------------------------------------------------------------------\n",
      "1° closest neighbor is group 80-th with distance: 0.6048272865558402 nm\n",
      "2° closest neighbor is group 69-th with distance: 0.7263555641389107 nm\n",
      "3° closest neighbor is group 70-th with distance: 0.7811893184433591 nm\n",
      "4° closest neighbor is group 77-th with distance: 0.8498448121405588 nm\n"
     ]
    }
   ],
   "source": [
    "print(\"4 closest geometric centers of residues of chain 1 from atom 100-th\")\n",
    "print(\"-------------------------------------------------------------------\")\n",
    "\n",
    "for ii in range(4):\n",
    "    print(\"{}° closest neighbor is group {}-th with distance: {}\".format(ii+1, neighbors[0,0,ii], distances[0,0,ii]))"
   ]
  },
  {
   "cell_type": "markdown",
   "metadata": {},
   "source": [
    "### Closest neighbor atoms or groups below a distance threshold\n",
    "\n",
    "In addition to the input argument `num_neighbors`, `molsysmt.neighbors_lists()` includes the option of getting those neighbors with a distance below a given threshols: `threshold`. Lets get for the following molecular system the list of CA atoms closest than 8 $\\unicode{xC5}$:"
   ]
  },
  {
   "cell_type": "code",
   "execution_count": 165,
   "metadata": {},
   "outputs": [],
   "source": [
    "molecular_system = msm.convert('mmtf:1TCD', 'molsysmt.MolSys')"
   ]
  },
  {
   "cell_type": "code",
   "execution_count": 166,
   "metadata": {},
   "outputs": [],
   "source": [
    "CA_atoms = msm.select(molecular_system, selection='atom_name==\"CA\"')"
   ]
  },
  {
   "cell_type": "code",
   "execution_count": 167,
   "metadata": {},
   "outputs": [],
   "source": [
    "neighbors, distances = msm.neighbors_lists(molecular_system, selection_1=CA_atoms, threshold=8*unit.angstroms)"
   ]
  },
  {
   "cell_type": "markdown",
   "metadata": {},
   "source": [
    "In this example, each CA atom has a different number of neighbors. This time the output is not a tensor ranked 3, but a matrix where the elements are not numbers but list of neighbors:"
   ]
  },
  {
   "cell_type": "code",
   "execution_count": 168,
   "metadata": {},
   "outputs": [
    {
     "name": "stdout",
     "output_type": "stream",
     "text": [
      "(1, 497)\n"
     ]
    }
   ],
   "source": [
    "print(neighbors.shape)"
   ]
  },
  {
   "cell_type": "code",
   "execution_count": 169,
   "metadata": {},
   "outputs": [
    {
     "name": "stdout",
     "output_type": "stream",
     "text": [
      "(1, 497)\n"
     ]
    }
   ],
   "source": [
    "print(distances.shape)"
   ]
  },
  {
   "cell_type": "markdown",
   "metadata": {},
   "source": [
    "The molecular system had 1 single frame and 497 CA atoms, lets see now the number of CA neighbors of the first 10 CA atoms in our list:"
   ]
  },
  {
   "cell_type": "code",
   "execution_count": 170,
   "metadata": {},
   "outputs": [
    {
     "name": "stdout",
     "output_type": "stream",
     "text": [
      "The 1° CA has 7 CA neighbors.\n",
      "The 2° CA has 8 CA neighbors.\n",
      "The 3° CA has 9 CA neighbors.\n",
      "The 4° CA has 12 CA neighbors.\n",
      "The 5° CA has 13 CA neighbors.\n",
      "The 6° CA has 15 CA neighbors.\n",
      "The 7° CA has 12 CA neighbors.\n",
      "The 8° CA has 12 CA neighbors.\n",
      "The 9° CA has 14 CA neighbors.\n",
      "The 10° CA has 14 CA neighbors.\n"
     ]
    }
   ],
   "source": [
    "for ii in range(10):\n",
    "    print(\"The {}° CA has {} CA neighbors.\".format(ii+1,len(neighbors[0,ii])))"
   ]
  },
  {
   "cell_type": "markdown",
   "metadata": {},
   "source": [
    "Lets print out the neighbors of the 20-th CA in the list:"
   ]
  },
  {
   "cell_type": "code",
   "execution_count": 171,
   "metadata": {},
   "outputs": [
    {
     "name": "stdout",
     "output_type": "stream",
     "text": [
      "The 21-th CA is 0.3807746183768036 nm away from the 20-th CA\n",
      "The 19-th CA is 0.388276267623969 nm away from the 20-th CA\n",
      "The 23-th CA is 0.5117970007727675 nm away from the 20-th CA\n",
      "The 22-th CA is 0.5541036906572636 nm away from the 20-th CA\n",
      "The 18-th CA is 0.5639790953572659 nm away from the 20-th CA\n",
      "The 24-th CA is 0.6343354475354508 nm away from the 20-th CA\n",
      "The 17-th CA is 0.6452477431188739 nm away from the 20-th CA\n",
      "The 16-th CA is 0.7399875134081655 nm away from the 20-th CA\n"
     ]
    }
   ],
   "source": [
    "for ii,dd in zip(neighbors[0,20], distances[0,20]):\n",
    "    print(\"The {}-th CA is {} away from the 20-th CA\".format(ii,dd))"
   ]
  },
  {
   "cell_type": "markdown",
   "metadata": {},
   "source": [
    "As well as for the input argument `num_neighbors` -previous subsection-, the neighbors closest than a given threshold can also be computed between atoms groups or atoms and atoms groups. Lets show a example where the neighbors of the residues of chain 0 in our molecular system are defined as those residues of chain 1 closest the 1.2 nm:"
   ]
  },
  {
   "cell_type": "code",
   "execution_count": 172,
   "metadata": {},
   "outputs": [],
   "source": [
    "atoms_in_residues_chain_0 = msm.get(molecular_system, target='group',\n",
    "                                    selection=\"molecule_type=='protein' and chain_index==0\",\n",
    "                                    atom_index=True)\n",
    "atoms_in_residues_chain_1 = msm.get(molecular_system, target='group',\n",
    "                                    selection=\"molecule_type=='protein' and chain_index==1\",\n",
    "                                    atom_index=True)"
   ]
  },
  {
   "cell_type": "code",
   "execution_count": 173,
   "metadata": {},
   "outputs": [],
   "source": [
    "neighbors, distances = msm.neighbors_lists(molecular_system,\n",
    "                                           groups_of_atoms_1= atoms_in_residues_chain_0, group_behavior_1='geometric_center',\n",
    "                                           groups_of_atoms_2= atoms_in_residues_chain_1, group_behavior_2='geometric_center',\n",
    "                                           threshold=1.2*unit.nanometers)"
   ]
  },
  {
   "cell_type": "markdown",
   "metadata": {},
   "source": [
    "Lets print out the number of contacts in chain 1 per residue of chain 0, if any:"
   ]
  },
  {
   "cell_type": "code",
   "execution_count": 174,
   "metadata": {},
   "outputs": [
    {
     "name": "stdout",
     "output_type": "stream",
     "text": [
      "The 7-th residue of chain 0 has 1 residue contacts in chain 1\n",
      "The 8-th residue of chain 0 has 6 residue contacts in chain 1\n",
      "The 9-th residue of chain 0 has 5 residue contacts in chain 1\n",
      "The 10-th residue of chain 0 has 10 residue contacts in chain 1\n",
      "The 11-th residue of chain 0 has 18 residue contacts in chain 1\n",
      "The 12-th residue of chain 0 has 14 residue contacts in chain 1\n",
      "The 13-th residue of chain 0 has 11 residue contacts in chain 1\n",
      "The 14-th residue of chain 0 has 9 residue contacts in chain 1\n",
      "The 15-th residue of chain 0 has 9 residue contacts in chain 1\n",
      "The 16-th residue of chain 0 has 3 residue contacts in chain 1\n",
      "The 17-th residue of chain 0 has 2 residue contacts in chain 1\n",
      "The 18-th residue of chain 0 has 3 residue contacts in chain 1\n",
      "The 39-th residue of chain 0 has 2 residue contacts in chain 1\n",
      "The 40-th residue of chain 0 has 7 residue contacts in chain 1\n",
      "The 41-th residue of chain 0 has 17 residue contacts in chain 1\n",
      "The 42-th residue of chain 0 has 18 residue contacts in chain 1\n",
      "The 43-th residue of chain 0 has 26 residue contacts in chain 1\n",
      "The 44-th residue of chain 0 has 11 residue contacts in chain 1\n",
      "The 45-th residue of chain 0 has 9 residue contacts in chain 1\n",
      "The 46-th residue of chain 0 has 11 residue contacts in chain 1\n",
      "The 47-th residue of chain 0 has 6 residue contacts in chain 1\n",
      "The 48-th residue of chain 0 has 2 residue contacts in chain 1\n",
      "The 49-th residue of chain 0 has 1 residue contacts in chain 1\n",
      "The 50-th residue of chain 0 has 1 residue contacts in chain 1\n",
      "The 59-th residue of chain 0 has 1 residue contacts in chain 1\n",
      "The 60-th residue of chain 0 has 3 residue contacts in chain 1\n",
      "The 61-th residue of chain 0 has 4 residue contacts in chain 1\n",
      "The 62-th residue of chain 0 has 8 residue contacts in chain 1\n",
      "The 63-th residue of chain 0 has 7 residue contacts in chain 1\n",
      "The 64-th residue of chain 0 has 6 residue contacts in chain 1\n",
      "The 65-th residue of chain 0 has 7 residue contacts in chain 1\n",
      "The 66-th residue of chain 0 has 1 residue contacts in chain 1\n",
      "The 67-th residue of chain 0 has 2 residue contacts in chain 1\n",
      "The 68-th residue of chain 0 has 6 residue contacts in chain 1\n",
      "The 69-th residue of chain 0 has 14 residue contacts in chain 1\n",
      "The 70-th residue of chain 0 has 16 residue contacts in chain 1\n",
      "The 71-th residue of chain 0 has 13 residue contacts in chain 1\n",
      "The 72-th residue of chain 0 has 32 residue contacts in chain 1\n",
      "The 73-th residue of chain 0 has 32 residue contacts in chain 1\n",
      "The 74-th residue of chain 0 has 21 residue contacts in chain 1\n",
      "The 75-th residue of chain 0 has 15 residue contacts in chain 1\n",
      "The 76-th residue of chain 0 has 9 residue contacts in chain 1\n",
      "The 77-th residue of chain 0 has 3 residue contacts in chain 1\n",
      "The 78-th residue of chain 0 has 5 residue contacts in chain 1\n",
      "The 79-th residue of chain 0 has 14 residue contacts in chain 1\n",
      "The 80-th residue of chain 0 has 7 residue contacts in chain 1\n",
      "The 81-th residue of chain 0 has 2 residue contacts in chain 1\n",
      "The 82-th residue of chain 0 has 9 residue contacts in chain 1\n",
      "The 83-th residue of chain 0 has 11 residue contacts in chain 1\n",
      "The 84-th residue of chain 0 has 2 residue contacts in chain 1\n",
      "The 85-th residue of chain 0 has 1 residue contacts in chain 1\n",
      "The 88-th residue of chain 0 has 2 residue contacts in chain 1\n",
      "The 89-th residue of chain 0 has 2 residue contacts in chain 1\n",
      "The 90-th residue of chain 0 has 2 residue contacts in chain 1\n",
      "The 91-th residue of chain 0 has 2 residue contacts in chain 1\n",
      "The 92-th residue of chain 0 has 6 residue contacts in chain 1\n",
      "The 93-th residue of chain 0 has 4 residue contacts in chain 1\n",
      "The 94-th residue of chain 0 has 7 residue contacts in chain 1\n",
      "The 95-th residue of chain 0 has 7 residue contacts in chain 1\n",
      "The 96-th residue of chain 0 has 1 residue contacts in chain 1\n",
      "The 97-th residue of chain 0 has 3 residue contacts in chain 1\n",
      "The 98-th residue of chain 0 has 10 residue contacts in chain 1\n",
      "The 99-th residue of chain 0 has 14 residue contacts in chain 1\n",
      "The 100-th residue of chain 0 has 4 residue contacts in chain 1\n",
      "The 101-th residue of chain 0 has 5 residue contacts in chain 1\n",
      "The 105-th residue of chain 0 has 2 residue contacts in chain 1\n",
      "The 123-th residue of chain 0 has 1 residue contacts in chain 1\n",
      "The 164-th residue of chain 0 has 1 residue contacts in chain 1\n",
      "The 166-th residue of chain 0 has 1 residue contacts in chain 1\n",
      "The 169-th residue of chain 0 has 4 residue contacts in chain 1\n",
      "The 170-th residue of chain 0 has 3 residue contacts in chain 1\n",
      "The 171-th residue of chain 0 has 1 residue contacts in chain 1\n",
      "The 229-th residue of chain 0 has 1 residue contacts in chain 1\n",
      "The 231-th residue of chain 0 has 3 residue contacts in chain 1\n",
      "The 232-th residue of chain 0 has 2 residue contacts in chain 1\n",
      "The 235-th residue of chain 0 has 1 residue contacts in chain 1\n"
     ]
    }
   ],
   "source": [
    "for ii in range(len(atoms_in_residues_chain_0)):\n",
    "    n_contacts = len(neighbors[0,ii])\n",
    "    if n_contacts >0:\n",
    "        print('The {}-th residue of chain 0 has {} residue contacts in chain 1'.format(ii,n_contacts))"
   ]
  },
  {
   "cell_type": "markdown",
   "metadata": {},
   "source": [
    "This information is usually represented as a contact map. If this is what you are looking for, you will probably find the next section more appropriate to your needs."
   ]
  },
  {
   "cell_type": "markdown",
   "metadata": {},
   "source": [
    "## Contact maps\n",
    "\n",
    "A contact map is a logic matrix where the element (i-th,j-th) is True if the distance between i-th and j-th is lower, or equal, than a certain threshold. The contact map is a common tool, simple but effective, used to represent structural motifs from the protein-protein interaface of the protein folding, for example. MolSysMT includes a method, based on `molsysmt.distance()`, to obtain contact maps: `molsysmt.contact_map()`. As such, `molsysmt.contact_map` inherits many input arguments from `molsysmt.distance()`. Lets see a couple of examples in this section.\n",
    "\n",
    "Lets get the contact map obtained with the threshold 1.2 nm and the CA atoms from the dimer found in the system with pdb id 1TCD:"
   ]
  },
  {
   "cell_type": "code",
   "execution_count": 175,
   "metadata": {},
   "outputs": [],
   "source": [
    "molecular_system = msm.convert('mmtf:1TCD', 'molsysmt.MolSys')"
   ]
  },
  {
   "cell_type": "code",
   "execution_count": 176,
   "metadata": {},
   "outputs": [],
   "source": [
    "CA_atoms = msm.select(molecular_system, selection='atom_name==\"CA\"')"
   ]
  },
  {
   "cell_type": "code",
   "execution_count": 177,
   "metadata": {},
   "outputs": [],
   "source": [
    "contact_map = msm.contact_map(molecular_system, selection_1=CA_atoms, threshold=1.2*unit.nanometers)"
   ]
  },
  {
   "cell_type": "code",
   "execution_count": 178,
   "metadata": {},
   "outputs": [
    {
     "data": {
      "text/plain": [
       "array([[[ True,  True,  True, ..., False, False, False],\n",
       "        [ True,  True,  True, ..., False, False, False],\n",
       "        [ True,  True,  True, ..., False, False, False],\n",
       "        ...,\n",
       "        [False, False, False, ...,  True,  True,  True],\n",
       "        [False, False, False, ...,  True,  True,  True],\n",
       "        [False, False, False, ...,  True,  True,  True]]])"
      ]
     },
     "execution_count": 178,
     "metadata": {},
     "output_type": "execute_result"
    }
   ],
   "source": [
    "contact_map"
   ]
  },
  {
   "cell_type": "markdown",
   "metadata": {},
   "source": [
    "Our molecular system has a single frame. That's why the shape of the output is the following:"
   ]
  },
  {
   "cell_type": "code",
   "execution_count": 179,
   "metadata": {},
   "outputs": [
    {
     "data": {
      "text/plain": [
       "(1, 497, 497)"
      ]
     },
     "execution_count": 179,
     "metadata": {},
     "output_type": "execute_result"
    }
   ],
   "source": [
    "contact_map.shape"
   ]
  },
  {
   "cell_type": "markdown",
   "metadata": {},
   "source": [
    "Where 497 is the total number of CA atoms in our system:"
   ]
  },
  {
   "cell_type": "code",
   "execution_count": 180,
   "metadata": {},
   "outputs": [
    {
     "name": "stdout",
     "output_type": "stream",
     "text": [
      "497\n"
     ]
    }
   ],
   "source": [
    "print(msm.get(molecular_system, selection=\"atom_name=='CA'\", n_atoms=True))"
   ]
  },
  {
   "cell_type": "markdown",
   "metadata": {},
   "source": [
    "Usually the contact map is represented as a plot. The structural motifs can be then easily identify:"
   ]
  },
  {
   "cell_type": "code",
   "execution_count": 181,
   "metadata": {},
   "outputs": [
    {
     "data": {
      "image/png": "[encoded data removed]",
      "text/plain": [
       "<Figure size 432x288 with 1 Axes>"
      ]
     },
     "metadata": {
      "needs_background": "light"
     },
     "output_type": "display_data"
    }
   ],
   "source": [
    "plt.imshow(contact_map[0], cmap='Greys', origin='lower')\n",
    "plt.show()"
   ]
  },
  {
   "cell_type": "markdown",
   "metadata": {},
   "source": [
    "The contact map can also be computed among elements from different sets. Lets get the contact map with the same threshold but this time between the CA atoms from both chains:"
   ]
  },
  {
   "cell_type": "code",
   "execution_count": 182,
   "metadata": {},
   "outputs": [],
   "source": [
    "CA_atoms_chain_0 = msm.get(molecular_system, selection=\"atom_name=='CA' and chain_index==0\", atom_index=True)\n",
    "CA_atoms_chain_1 = msm.get(molecular_system, selection=\"atom_name=='CA' and chain_index==1\", atom_index=True)"
   ]
  },
  {
   "cell_type": "code",
   "execution_count": 183,
   "metadata": {},
   "outputs": [],
   "source": [
    "contact_map = msm.contact_map(molecular_system, selection_1=CA_atoms_chain_0, selection_2=CA_atoms_chain_1,\n",
    "                              threshold=1.2*unit.nanometers)"
   ]
  },
  {
   "cell_type": "code",
   "execution_count": 184,
   "metadata": {},
   "outputs": [
    {
     "data": {
      "image/png": "[encoded data removed]",
      "text/plain": [
       "<Figure size 432x288 with 1 Axes>"
      ]
     },
     "metadata": {
      "needs_background": "light"
     },
     "output_type": "display_data"
    }
   ],
   "source": [
    "plt.imshow(contact_map[0], cmap='Greys', origin='lower')\n",
    "plt.show()"
   ]
  },
  {
   "cell_type": "markdown",
   "metadata": {},
   "source": [
    "The molecular system is homodimeric, thereby the interface is symmetric as it can see in this last plot."
   ]
  },
  {
   "cell_type": "markdown",
   "metadata": {},
   "source": [
    "Finnally, `molsysmt.contact_map()` can also work with atoms groups. Instead of getting the contact map between CA atoms, lets do it now with the geometric centers of the residues:"
   ]
  },
  {
   "cell_type": "code",
   "execution_count": 185,
   "metadata": {},
   "outputs": [],
   "source": [
    "atoms_in_residues_chain_0 = msm.get(molecular_system, target='group',\n",
    "                                    selection=\"molecule_type=='protein' and chain_index==0\", atom_index=True)\n",
    "atoms_in_residues_chain_1 = msm.get(molecular_system, target='group',\n",
    "                                    selection=\"molecule_type=='protein' and chain_index==1\", atom_index=True)"
   ]
  },
  {
   "cell_type": "code",
   "execution_count": 186,
   "metadata": {},
   "outputs": [],
   "source": [
    "contact_map = msm.contact_map(molecular_system,\n",
    "                              groups_of_atoms_1=atoms_in_residues_chain_0, group_behavior_1='geometric_center',\n",
    "                              groups_of_atoms_2=atoms_in_residues_chain_1, group_behavior_2='geometric_center',\n",
    "                              threshold=1.2*unit.nanometers)"
   ]
  },
  {
   "cell_type": "code",
   "execution_count": 187,
   "metadata": {},
   "outputs": [
    {
     "data": {
      "image/png": "[encoded data removed]",
      "text/plain": [
       "<Figure size 432x288 with 1 Axes>"
      ]
     },
     "metadata": {
      "needs_background": "light"
     },
     "output_type": "display_data"
    }
   ],
   "source": [
    "plt.imshow(contact_map[0], cmap='Greys', origin='lower')\n",
    "plt.show()"
   ]
  }
 ],
 "metadata": {
  "kernelspec": {
   "display_name": "Python 3",
   "language": "python",
   "name": "python3"
  },
  "language_info": {
   "codemirror_mode": {
    "name": "ipython",
    "version": 3
   },
   "file_extension": ".py",
   "mimetype": "text/x-python",
   "name": "python",
   "nbconvert_exporter": "python",
   "pygments_lexer": "ipython3",
   "version": "3.7.7"
  }
 },
 "nbformat": 4,
 "nbformat_minor": 4
}
