{
 "cells": [
  {
   "cell_type": "code",
   "execution_count": 1,
   "metadata": {},
   "outputs": [],
   "source": [
    "%load_ext autoreload\n",
    "%autoreload 2"
   ]
  },
  {
   "cell_type": "code",
   "execution_count": 2,
   "metadata": {},
   "outputs": [
    {
     "data": {
      "application/vnd.jupyter.widget-view+json": {
       "model_id": "2debb0444be64ed793a181db45942a64",
       "version_major": 2,
       "version_minor": 0
      },
      "text/plain": []
     },
     "metadata": {},
     "output_type": "display_data"
    }
   ],
   "source": [
    "import molsysmt as msm\n",
    "from molsysmt import puw\n",
    "import numpy as np\n",
    "import matplotlib.pyplot as plt"
   ]
  },
  {
   "cell_type": "markdown",
   "metadata": {},
   "source": [
    "# Getting distances, neighbor lists and contact maps.\n",
    "\n",
    "MolSysMT includes a very versatile method to calculate distances between points in space, atoms and/or groups of atoms. As many other methods of this multitool, the method `molsysmt.distance()` has an input argument to choose the engine in charge of getting the result. For instance, `molsysmt.distance()` currently offers two engines `MolSysMT` and `MDTraj`. At this moment only `MolSysMT` will be reported in this guide.\n",
    "\n",
    "The different options of the method `molsysmt.distance()` will be shown, little by little, along with the following examples."
   ]
  },
  {
   "cell_type": "markdown",
   "metadata": {},
   "source": [
    "## The XYZ molecular system form\n",
    "\n",
    "The first case, and the most simple one, is getting distances from a points distribution in space. MolSysMT accepts a molecular system form where only spatial coordinates are described, with out topological information: the `XYZ` form."
   ]
  },
  {
   "cell_type": "code",
   "execution_count": 3,
   "metadata": {},
   "outputs": [],
   "source": [
    "molecular_system = np.zeros([6,3], dtype='float64') * puw.unit('nm')"
   ]
  },
  {
   "cell_type": "code",
   "execution_count": 4,
   "metadata": {},
   "outputs": [
    {
     "data": {
      "text/plain": [
       "'XYZ'"
      ]
     },
     "execution_count": 4,
     "metadata": {},
     "output_type": "execute_result"
    }
   ],
   "source": [
    "msm.get_form(molecular_system)"
   ]
  },
  {
   "cell_type": "markdown",
   "metadata": {},
   "source": [
    "The `XYZ` form accepts numpy arrays with length units of the shape $[n\\_frames, n\\_atoms, 3]$ or $[n\\_atoms, 3]$. In case of having an array of rank 2, MolSysMT always understands $n\\_frames=1$ and the first rank as the number of atoms:"
   ]
  },
  {
   "cell_type": "code",
   "execution_count": 5,
   "metadata": {},
   "outputs": [
    {
     "data": {
      "text/plain": [
       "[1, 6]"
      ]
     },
     "execution_count": 5,
     "metadata": {},
     "output_type": "execute_result"
    }
   ],
   "source": [
    "msm.get(molecular_system, n_frames=True, n_atoms=True)"
   ]
  },
  {
   "cell_type": "markdown",
   "metadata": {},
   "source": [
    "Lets create a couple of `XYZ` molecular systems with more than a frame. These two systems will help us illustrate the firts distance calculations:"
   ]
  },
  {
   "cell_type": "code",
   "execution_count": 6,
   "metadata": {},
   "outputs": [],
   "source": [
    "# Molecular system A with three atoms and three frames.\n",
    "\n",
    "molecular_system_A = np.zeros([3,3,3], dtype='float64') * puw.unit('nm')\n",
    "\n",
    "## First atom\n",
    "molecular_system_A[0,0,:] = [0, 2, -1] * puw.unit('nm')\n",
    "molecular_system_A[1,0,:] = [1, 2, -1] * puw.unit('nm')\n",
    "molecular_system_A[2,0,:] = [0, 2, -1] * puw.unit('nm')\n",
    "\n",
    "## Second atom\n",
    "molecular_system_A[0,1,:] = [-1, 1, 1] * puw.unit('nm')\n",
    "molecular_system_A[1,1,:] = [-1, 0, 1] * puw.unit('nm')\n",
    "molecular_system_A[2,1,:] = [0, 0, 1] * puw.unit('nm')\n",
    "\n",
    "## Third atom\n",
    "molecular_system_A[0,2,:] = [-2, 0, 1] * puw.unit('nm')\n",
    "molecular_system_A[1,2,:] = [-2, 0, 0] * puw.unit('nm')\n",
    "molecular_system_A[2,2,:] = [-1, 1, 0] * puw.unit('nm')\n",
    "\n",
    "\n",
    "\n",
    "# Molecular system B with two atoms and three frames.\n",
    "\n",
    "molecular_system_B = np.zeros([3,2,3], dtype='float64') * puw.unit('nm')\n",
    "\n",
    "## First atom of B\n",
    "molecular_system_B[0,0,:] = [4, -2, 0] * puw.unit('nm')\n",
    "molecular_system_B[1,0,:] = [5, -2, -1] * puw.unit('nm')\n",
    "molecular_system_B[2,0,:] = [5, -2, 0] * puw.unit('nm')\n",
    "\n",
    "## Second atom of B\n",
    "molecular_system_B[0,1,:] = [3, 0, -1] * puw.unit('nm')\n",
    "molecular_system_B[1,1,:] = [3, 1, 0] * puw.unit('nm')\n",
    "molecular_system_B[2,1,:] = [4, 1, 1] * puw.unit('nm')"
   ]
  },
  {
   "cell_type": "markdown",
   "metadata": {},
   "source": [
    "## Distance between atoms in space\n",
    "\n",
    "### Distance between atoms of a system\n",
    "\n",
    "The first case shows how to get the distance between all points of a system at every frame"
   ]
  },
  {
   "cell_type": "code",
   "execution_count": 7,
   "metadata": {},
   "outputs": [],
   "source": [
    "distances = msm.distance(molecular_system_A)"
   ]
  },
  {
   "cell_type": "markdown",
   "metadata": {},
   "source": [
    "The result is an array of rank 3. Where the first axe or rank corresponds to the number of frames and the other two, the second and third axe, accounts for the point or atom indices:"
   ]
  },
  {
   "cell_type": "code",
   "execution_count": 8,
   "metadata": {},
   "outputs": [
    {
     "data": {
      "text/plain": [
       "(3, 3, 3)"
      ]
     },
     "execution_count": 8,
     "metadata": {},
     "output_type": "execute_result"
    }
   ],
   "source": [
    "distances.shape"
   ]
  },
  {
   "cell_type": "markdown",
   "metadata": {},
   "source": [
    "This way every distance between atoms at each frame is stored. Lets print out the distance between the 0-th and the 2-th atom at frame 1-th:"
   ]
  },
  {
   "cell_type": "code",
   "execution_count": 9,
   "metadata": {},
   "outputs": [
    {
     "name": "stdout",
     "output_type": "stream",
     "text": [
      "Distance at frame 1-th between atoms 0-th and 2-th: 3.7416573867739413 nanometer\n"
     ]
    }
   ],
   "source": [
    "print('Distance at frame 1-th between atoms 0-th and 2-th: {}'.format(distances[1,0,2]))"
   ]
  },
  {
   "cell_type": "markdown",
   "metadata": {},
   "source": [
    "If only the distance between atoms 0-th and 2-th at every frame is required, there is no need to compute $n\\_atoms x n\\_atoms$ distances. The input arguments `selection_1` and `selection_2` help us to define the range of elements of the output distance matrix:"
   ]
  },
  {
   "cell_type": "code",
   "execution_count": 10,
   "metadata": {},
   "outputs": [],
   "source": [
    "distances = msm.distance(molecular_system_A, selection_1=0, selection_2=2)"
   ]
  },
  {
   "cell_type": "markdown",
   "metadata": {},
   "source": [
    "This time the output is an array of rank 3 with shape $[3,1,1]$. The distance for just a pair of atoms was computed for three frames:"
   ]
  },
  {
   "cell_type": "code",
   "execution_count": 11,
   "metadata": {},
   "outputs": [
    {
     "data": {
      "text/plain": [
       "(3, 1, 1)"
      ]
     },
     "execution_count": 11,
     "metadata": {},
     "output_type": "execute_result"
    }
   ],
   "source": [
    "distances.shape"
   ]
  },
  {
   "cell_type": "code",
   "execution_count": 12,
   "metadata": {},
   "outputs": [
    {
     "name": "stdout",
     "output_type": "stream",
     "text": [
      "Distance at frame 0-th between atoms 0-th and 2-th: 3.4641016151377544 nanometer\n",
      "Distance at frame 1-th between atoms 0-th and 2-th: 3.7416573867739413 nanometer\n",
      "Distance at frame 2-th between atoms 0-th and 2-th: 1.7320508075688772 nanometer\n"
     ]
    }
   ],
   "source": [
    "for ii in range(3):\n",
    "    print('Distance at frame {}-th between atoms 0-th and 2-th: {}'.format(ii,distances[ii,0,0]))"
   ]
  },
  {
   "cell_type": "markdown",
   "metadata": {},
   "source": [
    "Lets try now to get the distance between the atom 1-th and the atoms 0-th and 2-th at every frame:"
   ]
  },
  {
   "cell_type": "code",
   "execution_count": 13,
   "metadata": {},
   "outputs": [],
   "source": [
    "distances = msm.distance(molecular_system_A, selection_1=1, selection_2=[0,2])"
   ]
  },
  {
   "cell_type": "markdown",
   "metadata": {},
   "source": [
    "As you will guess, the output matrix is an array of rank three this time with shape $[3,1,2]$:"
   ]
  },
  {
   "cell_type": "code",
   "execution_count": 14,
   "metadata": {},
   "outputs": [
    {
     "data": {
      "text/plain": [
       "(3, 1, 2)"
      ]
     },
     "execution_count": 14,
     "metadata": {},
     "output_type": "execute_result"
    }
   ],
   "source": [
    "distances.shape"
   ]
  },
  {
   "cell_type": "markdown",
   "metadata": {},
   "source": [
    "If we want now to print out the distance between atoms 1-th and 2-th for frame 0-th:"
   ]
  },
  {
   "cell_type": "code",
   "execution_count": 15,
   "metadata": {},
   "outputs": [
    {
     "name": "stdout",
     "output_type": "stream",
     "text": [
      "Distance at frame 0-th between atoms 1-th and 2-th: 1.4142135623730951 nanometer\n"
     ]
    }
   ],
   "source": [
    "print('Distance at frame 0-th between atoms 1-th and 2-th: {}'.format(distances[0,0,1]))"
   ]
  },
  {
   "cell_type": "markdown",
   "metadata": {},
   "source": [
    "The position of each atom in lists `selection_1` and `selection_2` is used to locate the corresponding distance in the output array. If instead, you want to use the original atom indices to locate a distance, the input argument `output_form='dict'` can help:"
   ]
  },
  {
   "cell_type": "code",
   "execution_count": 16,
   "metadata": {},
   "outputs": [],
   "source": [
    "distances = msm.distance(molecular_system_A, selection_1=1, selection_2=[0,2], output_form='dict')"
   ]
  },
  {
   "cell_type": "markdown",
   "metadata": {},
   "source": [
    "This way the output is no longer a numpy array of rank 3, the output object is now a dictionary of dictionaries of dictionaries. Where the set keys of the first dictionary corresponds to the atom indices of `selection_1`:"
   ]
  },
  {
   "cell_type": "code",
   "execution_count": 17,
   "metadata": {},
   "outputs": [
    {
     "data": {
      "text/plain": [
       "dict_keys([1])"
      ]
     },
     "execution_count": 17,
     "metadata": {},
     "output_type": "execute_result"
    }
   ],
   "source": [
    "distances.keys()"
   ]
  },
  {
   "cell_type": "markdown",
   "metadata": {},
   "source": [
    "The second nested dictionary has the atom indices of `selection_2` as keys:"
   ]
  },
  {
   "cell_type": "code",
   "execution_count": 18,
   "metadata": {},
   "outputs": [
    {
     "data": {
      "text/plain": [
       "dict_keys([0, 2])"
      ]
     },
     "execution_count": 18,
     "metadata": {},
     "output_type": "execute_result"
    }
   ],
   "source": [
    "distances[1].keys()"
   ]
  },
  {
   "cell_type": "markdown",
   "metadata": {},
   "source": [
    "And the third and last nested dictionary is defined with the frame indices as keys:"
   ]
  },
  {
   "cell_type": "code",
   "execution_count": 19,
   "metadata": {},
   "outputs": [
    {
     "data": {
      "text/plain": [
       "dict_keys(['a', 'l'])"
      ]
     },
     "execution_count": 19,
     "metadata": {},
     "output_type": "execute_result"
    }
   ],
   "source": [
    "distances[1][2].keys()"
   ]
  },
  {
   "cell_type": "markdown",
   "metadata": {},
   "source": [
    "Thus, the distance now between atoms 0-th and 2-th in frame 1-th is:"
   ]
  },
  {
   "cell_type": "code",
   "execution_count": 20,
   "metadata": {},
   "outputs": [
    {
     "ename": "KeyError",
     "evalue": "0",
     "output_type": "error",
     "traceback": [
      "\u001b[0;31m---------------------------------------------------------------------------\u001b[0m",
      "\u001b[0;31mKeyError\u001b[0m                                  Traceback (most recent call last)",
      "\u001b[0;32m<ipython-input-20-406d369bc2fc>\u001b[0m in \u001b[0;36m<module>\u001b[0;34m\u001b[0m\n\u001b[0;32m----> 1\u001b[0;31m \u001b[0mprint\u001b[0m\u001b[0;34m(\u001b[0m\u001b[0;34m'Distance at frame 0-th between atoms 1-th and 2-th: {}'\u001b[0m\u001b[0;34m.\u001b[0m\u001b[0mformat\u001b[0m\u001b[0;34m(\u001b[0m\u001b[0mdistances\u001b[0m\u001b[0;34m[\u001b[0m\u001b[0;36m1\u001b[0m\u001b[0;34m]\u001b[0m\u001b[0;34m[\u001b[0m\u001b[0;36m2\u001b[0m\u001b[0;34m]\u001b[0m\u001b[0;34m[\u001b[0m\u001b[0;36m0\u001b[0m\u001b[0;34m]\u001b[0m\u001b[0;34m)\u001b[0m\u001b[0;34m)\u001b[0m\u001b[0;34m\u001b[0m\u001b[0;34m\u001b[0m\u001b[0m\n\u001b[0m",
      "\u001b[0;31mKeyError\u001b[0m: 0"
     ]
    }
   ],
   "source": [
    "print('Distance at frame 0-th between atoms 1-th and 2-th: {}'.format(distances[1][2][0]))"
   ]
  },
  {
   "cell_type": "markdown",
   "metadata": {},
   "source": [
    "Just like `selection_1` and `selection_2` can limit the range of atom indices of the calculation, `frame_indices_1` can be used to define the list of frames where the method applies:"
   ]
  },
  {
   "cell_type": "code",
   "execution_count": 21,
   "metadata": {},
   "outputs": [],
   "source": [
    "distances = msm.distance(molecular_system_A, selection_1=1, selection_2=[0,2], frame_indices_1=[1,2])"
   ]
  },
  {
   "cell_type": "code",
   "execution_count": 22,
   "metadata": {},
   "outputs": [
    {
     "name": "stdout",
     "output_type": "stream",
     "text": [
      "Distance at frame 2-th between atoms 1-th and 2-th: 1.7320508075688772 nanometer\n"
     ]
    }
   ],
   "source": [
    "print('Distance at frame 2-th between atoms 1-th and 2-th: {}'.format(distances[1,0,1]))"
   ]
  },
  {
   "cell_type": "markdown",
   "metadata": {},
   "source": [
    "You can check again that with `output_form='dict'` the original indics for atoms and frames work to locate a distance:"
   ]
  },
  {
   "cell_type": "code",
   "execution_count": 23,
   "metadata": {},
   "outputs": [],
   "source": [
    "distances = msm.distance(molecular_system_A, selection_1=1, selection_2=[0,2], frame_indices_1=[1,2], output_form='dict')"
   ]
  },
  {
   "cell_type": "code",
   "execution_count": 24,
   "metadata": {},
   "outputs": [
    {
     "name": "stdout",
     "output_type": "stream",
     "text": [
      "Distance at frame 2-th between atoms 1-th and 2-th: 1.7320508075688772 nanometer\n"
     ]
    }
   ],
   "source": [
    "print('Distance at frame 2-th between atoms 1-th and 2-th: {}'.format(distances[1][2][2]))"
   ]
  },
  {
   "cell_type": "markdown",
   "metadata": {},
   "source": [
    "### Distance between atoms of two systems\n",
    "\n",
    "The second case shows how to get the distance between atoms of two systems at every frame"
   ]
  },
  {
   "cell_type": "code",
   "execution_count": 25,
   "metadata": {},
   "outputs": [],
   "source": [
    "distances = msm.distance(molecular_system_1=molecular_system_A, molecular_system_2=molecular_system_B)"
   ]
  },
  {
   "cell_type": "markdown",
   "metadata": {},
   "source": [
    "As it was shown previously, the result is an array of rank 3. Again, where the first axe or rank corresponds to the number of frames and the other two, the second and third axe, accounts for the atom indices -this time in each system-:"
   ]
  },
  {
   "cell_type": "code",
   "execution_count": 26,
   "metadata": {},
   "outputs": [
    {
     "data": {
      "text/plain": [
       "(3, 3, 2)"
      ]
     },
     "execution_count": 26,
     "metadata": {},
     "output_type": "execute_result"
    }
   ],
   "source": [
    "distances.shape"
   ]
  },
  {
   "cell_type": "markdown",
   "metadata": {},
   "source": [
    "Lets print out the distance between atom 1-th of `molecular_system_A` and atom 0-th of `molecular_system_B` at every frame:"
   ]
  },
  {
   "cell_type": "code",
   "execution_count": 27,
   "metadata": {},
   "outputs": [
    {
     "name": "stdout",
     "output_type": "stream",
     "text": [
      "Distance at frame 0-th between atom 1-th of A and atom 0-th of B: 5.916079783099616 nanometer\n",
      "Distance at frame 1-th between atom 1-th of A and atom 0-th of B: 6.6332495807108 nanometer\n",
      "Distance at frame 2-th between atom 1-th of A and atom 0-th of B: 5.477225575051661 nanometer\n"
     ]
    }
   ],
   "source": [
    "for ii in range(3):\n",
    "    print('Distance at frame {}-th between atom 1-th of A and atom 0-th of B: {}'.format(ii,distances[ii,1,0]))"
   ]
  },
  {
   "cell_type": "markdown",
   "metadata": {},
   "source": [
    "Now that `item_1` and `item_2` contain different systems, `selection_1` and `selection_2` do not work over the same system as in previous subsection, but over each molecular system (`selection_1` over `item_1` and `selection_2` over `item_2`). Lets get the distance only between atom 1-th of `molecular_system_A` and atom 0-th of `molecular_system_B` for every frame:"
   ]
  },
  {
   "cell_type": "code",
   "execution_count": 29,
   "metadata": {},
   "outputs": [],
   "source": [
    "distances = msm.distance(molecular_system_1=molecular_system_A, selection_1=1,\n",
    "                         molecular_system_2=molecular_system_B, selection_2=0)"
   ]
  },
  {
   "cell_type": "code",
   "execution_count": 30,
   "metadata": {},
   "outputs": [
    {
     "data": {
      "text/plain": [
       "(3, 1, 1)"
      ]
     },
     "execution_count": 30,
     "metadata": {},
     "output_type": "execute_result"
    }
   ],
   "source": [
    "distances.shape"
   ]
  },
  {
   "cell_type": "code",
   "execution_count": 31,
   "metadata": {},
   "outputs": [
    {
     "name": "stdout",
     "output_type": "stream",
     "text": [
      "Distance at frame 0-th between atom 1-th of A and atom 0-th of B: 5.916079783099616 nanometer\n",
      "Distance at frame 1-th between atom 1-th of A and atom 0-th of B: 6.6332495807108 nanometer\n",
      "Distance at frame 2-th between atom 1-th of A and atom 0-th of B: 5.477225575051661 nanometer\n"
     ]
    }
   ],
   "source": [
    "for ii in range(3):\n",
    "    print('Distance at frame {}-th between atom 1-th of A and atom 0-th of B: {}'.format(ii,distances[ii,0,0]))"
   ]
  },
  {
   "cell_type": "markdown",
   "metadata": {},
   "source": [
    "Again, the input argument `output_form='dict'` lets us play with the original indices in the output object. As it was described in the previous subsection, this dictionary of dictionaries of dictionaries has three keys: the first one corresponds to the atom indices of `item_1`, the second one corresponds to the atom indices of `item_2` and the third one to the frame indices. This way the distance now between atom 1-th of `molecular_system_A` and atom 0-th of `molecular_system_B` at frame 1-th:"
   ]
  },
  {
   "cell_type": "code",
   "execution_count": 33,
   "metadata": {},
   "outputs": [],
   "source": [
    "distances = msm.distance(molecular_system_1=molecular_system_A, selection_1=1, frame_indices_1=1,\n",
    "                         molecular_system_2=molecular_system_B, selection_2=0, output_form='dict')"
   ]
  },
  {
   "cell_type": "code",
   "execution_count": 34,
   "metadata": {},
   "outputs": [
    {
     "name": "stdout",
     "output_type": "stream",
     "text": [
      "Distance at frame 1-th between atom 1-th of A and atom 0-th of B: 6.6332495807108 nanometer\n"
     ]
    }
   ],
   "source": [
    "print('Distance at frame 1-th between atom 1-th of A and atom 0-th of B: {}'.format(distances[1][0][1]))"
   ]
  },
  {
   "cell_type": "markdown",
   "metadata": {},
   "source": [
    "Notice that `frame_indices_1` was used to define the frame indices where the distance is computed. If only `frame_indices_1` is used, the same list of indices is used sequentially for both systems `item_1` and `item_2`:"
   ]
  },
  {
   "cell_type": "code",
   "execution_count": 36,
   "metadata": {},
   "outputs": [],
   "source": [
    "distances_1 = msm.distance(molecular_system_1=molecular_system_A, selection_1=[1,2], frame_indices_1=[0,2],\n",
    "                           molecular_system_2=molecular_system_B, selection_2=[0,1])"
   ]
  },
  {
   "cell_type": "code",
   "execution_count": 37,
   "metadata": {},
   "outputs": [],
   "source": [
    "distances_2 = msm.distance(molecular_system_1=molecular_system_A, selection_1=[1,2], frame_indices_1=[0,2],\n",
    "                           molecular_system_2=molecular_system_B, selection_2=[0,1], frame_indices_2=[0,2])"
   ]
  },
  {
   "cell_type": "code",
   "execution_count": 38,
   "metadata": {},
   "outputs": [
    {
     "data": {
      "text/plain": [
       "array([[[ True,  True],\n",
       "        [ True,  True]],\n",
       "\n",
       "       [[ True,  True],\n",
       "        [ True,  True]]])"
      ]
     },
     "execution_count": 38,
     "metadata": {},
     "output_type": "execute_result"
    }
   ],
   "source": [
    "distances_1 == distances_2"
   ]
  },
  {
   "cell_type": "code",
   "execution_count": 39,
   "metadata": {},
   "outputs": [
    {
     "name": "stdout",
     "output_type": "stream",
     "text": [
      "Distance at frame 2-th between atom 2-th of A and atom 1-th of B: 5.0990195135927845 nanometer\n"
     ]
    }
   ],
   "source": [
    "print('Distance at frame 2-th between atom 2-th of A and atom 1-th of B: {}'.format(distances_1[1,1,1]))"
   ]
  },
  {
   "cell_type": "markdown",
   "metadata": {},
   "source": [
    "### Distances between atoms positions in different frames"
   ]
  },
  {
   "cell_type": "markdown",
   "metadata": {},
   "source": [
    "At the end of last subsection we saw how, in addition to the input arguments `selection_1` and `selection_2`, the input arguments `frame_indices_1` and `frame_indices_2` alter the way distances are computed. Lets use the four arguments in the next example to revisit their function:"
   ]
  },
  {
   "cell_type": "code",
   "execution_count": 40,
   "metadata": {},
   "outputs": [],
   "source": [
    "distances = msm.distance(molecular_system_1=molecular_system_A, selection_1=[1,2], frame_indices_1=[0,1],\n",
    "                         molecular_system_2=molecular_system_B, selection_2=1, frame_indices_2=[1,2])"
   ]
  },
  {
   "cell_type": "markdown",
   "metadata": {},
   "source": [
    "The distance between atoms 1-th and 2-th of `molecular_system_A` and atom 1-th of `molecular_system_B` are computed. But, these distances are not between spatial positions in the same frame index. When two frame indices lists are provided by means of `frame_indices_1` and `frame_indices_2`, pairs of frames are taken sequentially. In this case positions of `item_1` at frame 0-th are confronted againts positions of `item_2` at frame 1-th, and the results are stored in the first frame of the distances output. Then, according to the last cell frame indices, positions of `item_1` at frame 1-th are confronted againts positions of `item_2` at frame 2-th. Thus, lets print out for example the distance between the position of atom 2-th of `item_1` in frame 1-th and the position of atom 1-th of `item_2` in frame 2-th:"
   ]
  },
  {
   "cell_type": "code",
   "execution_count": 41,
   "metadata": {},
   "outputs": [
    {
     "name": "stdout",
     "output_type": "stream",
     "text": [
      "The distance between atom 2-th of A at frame 1-th and atom 1-th of B at frame 2-th is: 6.164414002968976 nanometer\n"
     ]
    }
   ],
   "source": [
    "print('The distance between atom 2-th of A at frame 1-th and atom 1-th of B at frame 2-th is: {}'.format(distances[1,1,0]))"
   ]
  },
  {
   "cell_type": "markdown",
   "metadata": {},
   "source": [
    "In this case, when the output object is a dictionary of dictionaries of dictionaries, the last nested keys correspond to the frame indices in `frame_indices_1`. Lets compute de same distances as before printing out the same specific distance:"
   ]
  },
  {
   "cell_type": "code",
   "execution_count": 42,
   "metadata": {},
   "outputs": [],
   "source": [
    "distances = msm.distance(molecular_system_1=molecular_system_A, selection_1=[1,2], frame_indices_1=[0,1],\n",
    "                         molecular_system_2=molecular_system_B, selection_2=1, frame_indices_2=[1,2], output_form='dict')"
   ]
  },
  {
   "cell_type": "code",
   "execution_count": 43,
   "metadata": {},
   "outputs": [
    {
     "name": "stdout",
     "output_type": "stream",
     "text": [
      "The distance between atom 2-th of A at frame 1-th and atom 1-th of B at frame 2-th is: 6.164414002968976 nanometer\n"
     ]
    }
   ],
   "source": [
    "print('The distance between atom 2-th of A at frame 1-th and atom 1-th of B at frame 2-th is: {}'.format(distances[2][1][1]))"
   ]
  },
  {
   "cell_type": "markdown",
   "metadata": {},
   "source": [
    "The possibility to calculate distances between crossing frame indices opens the door to get displacement lengths as it is shown in next subsection."
   ]
  },
  {
   "cell_type": "markdown",
   "metadata": {},
   "source": [
    "### Displacement distances of atoms"
   ]
  },
  {
   "cell_type": "markdown",
   "metadata": {},
   "source": [
    "When both input arguments `frame_indices_1` and `frame_indices_2` are used over a unique set of atoms of the same molecular system, the distances computed acquired a simple physical meaning: displacements. Lets see the following case:"
   ]
  },
  {
   "cell_type": "code",
   "execution_count": 44,
   "metadata": {},
   "outputs": [],
   "source": [
    "distances = msm.distance(molecular_system_A, selection_1=1, frame_indices_1=[0,1], frame_indices_2=[1,2])"
   ]
  },
  {
   "cell_type": "markdown",
   "metadata": {},
   "source": [
    "The shape of the output object is:"
   ]
  },
  {
   "cell_type": "code",
   "execution_count": 45,
   "metadata": {},
   "outputs": [
    {
     "data": {
      "text/plain": [
       "(2, 1, 1)"
      ]
     },
     "execution_count": 45,
     "metadata": {},
     "output_type": "execute_result"
    }
   ],
   "source": [
    "distances.shape"
   ]
  },
  {
   "cell_type": "markdown",
   "metadata": {},
   "source": [
    "The length of the distance walked by atom 1-th of `molecular_system_A` between frames 0-th and 1-th is:"
   ]
  },
  {
   "cell_type": "code",
   "execution_count": 46,
   "metadata": {},
   "outputs": [
    {
     "name": "stdout",
     "output_type": "stream",
     "text": [
      "The displacement length of atom 1-th between frames 0-th and 1th is: 1.0 nanometer\n"
     ]
    }
   ],
   "source": [
    "print('The displacement length of atom 1-th between frames 0-th and 1th is: {}'.format(distances[0,0,0]))"
   ]
  },
  {
   "cell_type": "markdown",
   "metadata": {},
   "source": [
    "While the displacement length of the same atom between the next two consecutive frames is:"
   ]
  },
  {
   "cell_type": "code",
   "execution_count": 47,
   "metadata": {},
   "outputs": [
    {
     "name": "stdout",
     "output_type": "stream",
     "text": [
      "The displacement length of atom 1-th between frames 1-th and 2-th is: 1.0 nanometer\n"
     ]
    }
   ],
   "source": [
    "print('The displacement length of atom 1-th between frames 1-th and 2-th is: {}'.format(distances[1,0,0]))"
   ]
  },
  {
   "cell_type": "markdown",
   "metadata": {},
   "source": [
    "If we want to get the length distance an atom moves between a fixed frame, 0-th for instance, and the rest of frames we can invoke the command `molsysmt.distance()` this way:"
   ]
  },
  {
   "cell_type": "code",
   "execution_count": 48,
   "metadata": {},
   "outputs": [],
   "source": [
    "distances = msm.distance(molecular_system_A, selection_1=1, frame_indices_1=[0,1,2], frame_indices_2=[0,0,0],\n",
    "                         output_form='dict')"
   ]
  },
  {
   "cell_type": "markdown",
   "metadata": {},
   "source": [
    "The displacement length of atom 1-th between its position at frame 0-th and all other frames is:"
   ]
  },
  {
   "cell_type": "code",
   "execution_count": 49,
   "metadata": {},
   "outputs": [
    {
     "name": "stdout",
     "output_type": "stream",
     "text": [
      "The displacement length of atom 1-th between frames 0-th and 0-th is: 0.0 nanometer\n",
      "The displacement length of atom 1-th between frames 0-th and 1-th is: 1.0 nanometer\n",
      "The displacement length of atom 1-th between frames 0-th and 2-th is: 1.4142135623730951 nanometer\n"
     ]
    }
   ],
   "source": [
    "for ii in range(3):\n",
    "    print('The displacement length of atom 1-th between frames 0-th and {}-th is: {}'.format(ii, distances[1][1][ii]))"
   ]
  },
  {
   "cell_type": "markdown",
   "metadata": {},
   "source": [
    "### Distance between atoms pairs\n",
    "\n",
    "When the method `molsysmt.distance()` is invoked to calculate the distances between a set of $N$ atoms of `item_1` and a set of $M$ atoms of `item_2`, the result is an object, a numpy array or a dictionary, with $N x M$ distances per frame. Sometimes all these different distances are not needed, but only those between specific atom pairs. These atom pairs can be given by the elements in `selection_1` and `selection_2` coupled sequantially one to one. This option is activated when the input argument `pairs=True`:"
   ]
  },
  {
   "cell_type": "code",
   "execution_count": 50,
   "metadata": {},
   "outputs": [],
   "source": [
    "distances = msm.distance(molecular_system_A, selection_1=[0,0,1], selection_2=[1,2,2],\n",
    "                         frame_indices_1=[1,2], pairs=True)"
   ]
  },
  {
   "cell_type": "markdown",
   "metadata": {},
   "source": [
    "When `pairs=True` the shape of the output numpy array is $[n\\_frames, N]$, where $N$ is the number of pairs: [0,1], [0,2] and [1,2], in this case.  "
   ]
  },
  {
   "cell_type": "code",
   "execution_count": 51,
   "metadata": {},
   "outputs": [
    {
     "data": {
      "text/plain": [
       "(2, 3)"
      ]
     },
     "execution_count": 51,
     "metadata": {},
     "output_type": "execute_result"
    }
   ],
   "source": [
    "distances.shape"
   ]
  },
  {
   "cell_type": "markdown",
   "metadata": {},
   "source": [
    "Lets print out the distance between atoms 0-th and 2-th in frame 1-th:"
   ]
  },
  {
   "cell_type": "code",
   "execution_count": 52,
   "metadata": {},
   "outputs": [
    {
     "name": "stdout",
     "output_type": "stream",
     "text": [
      "The distance between the pair of atoms 0-th and 2-th in frame 1-th: 3.7416573867739413 nanometer\n"
     ]
    }
   ],
   "source": [
    "print('The distance between the pair of atoms 0-th and 2-th in frame 1-th: {}'.format(distances[0,1]))"
   ]
  },
  {
   "cell_type": "markdown",
   "metadata": {},
   "source": [
    "The dictionary output form also works for atom pairs in the same way as with `pairs=False`:"
   ]
  },
  {
   "cell_type": "code",
   "execution_count": 53,
   "metadata": {},
   "outputs": [],
   "source": [
    "distances = msm.distance(molecular_system_A, selection_1=[0,0,1], selection_2=[1,2,2],\n",
    "                         frame_indices_1=[1,2], pairs=True, output_form='dict')"
   ]
  },
  {
   "cell_type": "code",
   "execution_count": 54,
   "metadata": {},
   "outputs": [
    {
     "name": "stdout",
     "output_type": "stream",
     "text": [
      "The distance between the pair of atoms 0-th and 2-th in frame 1-th: 3.7416573867739413 nanometer\n"
     ]
    }
   ],
   "source": [
    "print('The distance between the pair of atoms 0-th and 2-th in frame 1-th: {}'.format(distances[0][2][1]))"
   ]
  },
  {
   "cell_type": "markdown",
   "metadata": {},
   "source": [
    "### Minimum and Maximum distance\n",
    "\n",
    "Sometimes the minimum and maximum distance between two sets of atoms needs to be obtained. Although this step could be done with the method `molsysmt.distance()` and  a little coding, MolSysMT includes two methods to make it even easier: `molsysmt.minimum_distance()` and `molsysmt.maximum_distance()`. Lets see in the following cells how they work.\n",
    "\n",
    "As first example, lets get the minimum distance between both molecular systems A and B:"
   ]
  },
  {
   "cell_type": "code",
   "execution_count": 55,
   "metadata": {},
   "outputs": [],
   "source": [
    "min_pairs, min_distances = msm.minimum_distance(molecular_system_1=molecular_system_A,\n",
    "                                                molecular_system_2=molecular_system_B)"
   ]
  },
  {
   "cell_type": "markdown",
   "metadata": {},
   "source": [
    "The result is offered as two numpy arrays: the list of atoms pairs minimizing the distance for each frame, and the corresponding value of the minimum distance (for each frame also)."
   ]
  },
  {
   "cell_type": "code",
   "execution_count": 56,
   "metadata": {},
   "outputs": [
    {
     "data": {
      "text/plain": [
       "(3, 2)"
      ]
     },
     "execution_count": 56,
     "metadata": {},
     "output_type": "execute_result"
    }
   ],
   "source": [
    "min_pairs.shape"
   ]
  },
  {
   "cell_type": "code",
   "execution_count": 57,
   "metadata": {},
   "outputs": [
    {
     "data": {
      "text/plain": [
       "array([[0, 1],\n",
       "       [0, 1],\n",
       "       [1, 1]])"
      ]
     },
     "execution_count": 57,
     "metadata": {},
     "output_type": "execute_result"
    }
   ],
   "source": [
    "min_pairs"
   ]
  },
  {
   "cell_type": "code",
   "execution_count": 58,
   "metadata": {},
   "outputs": [
    {
     "data": {
      "text/plain": [
       "(3,)"
      ]
     },
     "execution_count": 58,
     "metadata": {},
     "output_type": "execute_result"
    }
   ],
   "source": [
    "min_distances.shape"
   ]
  },
  {
   "cell_type": "code",
   "execution_count": 59,
   "metadata": {},
   "outputs": [
    {
     "data": {
      "text/html": [
       "<table><tbody><tr><th>Magnitude</th><td style='text-align:left;'><pre>[3.605551275463989 2.449489742783178 4.123105625617661]</pre></td></tr><tr><th>Units</th><td style='text-align:left;'>nanometer</td></tr></tbody></table>"
      ],
      "text/latex": [
       "$\\begin{pmatrix}3.605551275463989 & 2.449489742783178 & 4.123105625617661\\end{pmatrix}\\ \\mathrm{nanometer}$"
      ],
      "text/plain": [
       "array([3.60555128, 2.44948974, 4.12310563]) <Unit('nanometer')>"
      ]
     },
     "execution_count": 59,
     "metadata": {},
     "output_type": "execute_result"
    }
   ],
   "source": [
    "min_distances"
   ]
  },
  {
   "cell_type": "code",
   "execution_count": 60,
   "metadata": {},
   "outputs": [
    {
     "name": "stdout",
     "output_type": "stream",
     "text": [
      "The minimum distance in frame 2-th is given by atom 1-th of A and atom 1-th of B: 4.123105625617661 nanometer\n"
     ]
    }
   ],
   "source": [
    "print('The minimum distance in frame 2-th is given by atom {}-th of A and atom {}-th of B: {}'.format(min_pairs[2,0], min_pairs[2,1], min_distances[2]))"
   ]
  },
  {
   "cell_type": "markdown",
   "metadata": {},
   "source": [
    "All input arguments described in previous subsections can also be used with `molsysmt.minimum_distance()` and `molsysmt.maximum_distance()`. Lets see an example:"
   ]
  },
  {
   "cell_type": "code",
   "execution_count": 61,
   "metadata": {},
   "outputs": [],
   "source": [
    "min_pairs, min_distances = msm.minimum_distance(molecular_system_A, selection_1=[0,1,2], selection_2=[0,1,2],\n",
    "                                               frame_indices_1=[0,1], frame_indices_2=[1,2], pairs=True)"
   ]
  },
  {
   "cell_type": "markdown",
   "metadata": {},
   "source": [
    "Remember that with `pairs=True`, the output does not longer refer atoms indices but pairs indices. That is the reason why the shape of min_pairs is now:"
   ]
  },
  {
   "cell_type": "code",
   "execution_count": 62,
   "metadata": {},
   "outputs": [
    {
     "data": {
      "text/plain": [
       "(2,)"
      ]
     },
     "execution_count": 62,
     "metadata": {},
     "output_type": "execute_result"
    }
   ],
   "source": [
    "min_pairs.shape"
   ]
  },
  {
   "cell_type": "markdown",
   "metadata": {},
   "source": [
    "While,"
   ]
  },
  {
   "cell_type": "code",
   "execution_count": 63,
   "metadata": {},
   "outputs": [
    {
     "data": {
      "text/plain": [
       "(2,)"
      ]
     },
     "execution_count": 63,
     "metadata": {},
     "output_type": "execute_result"
    }
   ],
   "source": [
    "min_distances.shape"
   ]
  },
  {
   "cell_type": "markdown",
   "metadata": {},
   "source": [
    "Which means that the minimum displacement between consecutive frames was observed for:"
   ]
  },
  {
   "cell_type": "code",
   "execution_count": 64,
   "metadata": {},
   "outputs": [
    {
     "name": "stdout",
     "output_type": "stream",
     "text": [
      "Atom 0-th had the minimum displacement of A between frames 0-th and 1-th: 1.0 nanometer\n",
      "Atom 0-th had the minimum displacement of A between frames 1-th and 2-th: 1.0 nanometer\n"
     ]
    }
   ],
   "source": [
    "for ii in range(2):\n",
    "    print('Atom {}-th had the minimum displacement of A between frames {}-th and {}-th: {}'.format(min_pairs[ii], ii, ii+1, min_distances[ii]))"
   ]
  },
  {
   "cell_type": "markdown",
   "metadata": {},
   "source": [
    "There are situations in which we have a list of atoms of a set A and the minimum distance with a second set of atoms B needs to be known for every single atom of A. In this case the first set has to be considered not as entity (as set) in view of getting a single minimum distance. Lets illustrate this with an example:"
   ]
  },
  {
   "cell_type": "code",
   "execution_count": 65,
   "metadata": {},
   "outputs": [],
   "source": [
    "min_pairs, min_distances = msm.minimum_distance(molecular_system_1=molecular_system_A, selection_1=[1,2], frame_indices_1=[0,1,2],\n",
    "                                                molecular_system_2=molecular_system_B, selection_2=[0,1],\n",
    "                                                as_entity_1=False, as_entity_2=True)"
   ]
  },
  {
   "cell_type": "markdown",
   "metadata": {},
   "source": [
    "The output corresponds to the minimum distance of atom 1-th of A to any atom of B and the minimum distance of atom 2-th of A to any atom of B, at every frame:"
   ]
  },
  {
   "cell_type": "code",
   "execution_count": 66,
   "metadata": {},
   "outputs": [
    {
     "data": {
      "text/plain": [
       "(3, 2)"
      ]
     },
     "execution_count": 66,
     "metadata": {},
     "output_type": "execute_result"
    }
   ],
   "source": [
    "min_pairs.shape"
   ]
  },
  {
   "cell_type": "code",
   "execution_count": 67,
   "metadata": {},
   "outputs": [
    {
     "data": {
      "text/plain": [
       "(3, 2)"
      ]
     },
     "execution_count": 67,
     "metadata": {},
     "output_type": "execute_result"
    }
   ],
   "source": [
    "min_distances.shape"
   ]
  },
  {
   "cell_type": "code",
   "execution_count": 68,
   "metadata": {},
   "outputs": [
    {
     "name": "stdout",
     "output_type": "stream",
     "text": [
      "Atom 1-th of A has the minimum distance to B with its atom 1-th in frame 1-th: 4.242640687119285 nanometer\n"
     ]
    }
   ],
   "source": [
    "selection_2=[0,1]\n",
    "print('Atom 1-th of A has the minimum distance to B with its atom {}-th in frame 1-th: {}'.format(selection_2[min_pairs[1,0]], min_distances[1,0]))"
   ]
  },
  {
   "cell_type": "code",
   "execution_count": 69,
   "metadata": {},
   "outputs": [
    {
     "name": "stdout",
     "output_type": "stream",
     "text": [
      "The 1-th is the closest atom of B to atom 1-th of A at frame 0-th with 4.58257569495584 nanometer\n",
      "The 1-th is the closest atom of B to atom 1-th of A at frame 1-th with 4.242640687119285 nanometer\n",
      "The 1-th is the closest atom of B to atom 1-th of A at frame 2-th with 4.123105625617661 nanometer\n"
     ]
    }
   ],
   "source": [
    "for ii in range(3):\n",
    "    print('The {}-th is the closest atom of B to atom 1-th of A at frame {}-th with {}'.format(selection_2[min_pairs[ii,0]],ii, min_distances[ii,0]))"
   ]
  },
  {
   "cell_type": "markdown",
   "metadata": {},
   "source": [
    "## Distance between atom groups in space\n",
    "\n",
    "Imagine the distance between geometric centers of atoms groups needs to be obtained. There is no reason why MolSysMT should have new functions to do that. Every method introduced in the previous section, about getting distances between atoms, has the possibility to do it over groups of atoms.\n",
    "\n",
    "### Distance between atom groups of a system\n",
    "\n",
    "Lets load a new molecular system to illustrate how `molsysmt.distance()` can get distances between atom groups:"
   ]
  },
  {
   "cell_type": "code",
   "execution_count": 70,
   "metadata": {},
   "outputs": [],
   "source": [
    "molecular_system = msm.convert('mmtf:1TCD', 'molsysmt.MolSys')"
   ]
  },
  {
   "cell_type": "code",
   "execution_count": 71,
   "metadata": {},
   "outputs": [
    {
     "data": {
      "text/html": [
       "<style  type=\"text/css\" >\n",
       "</style><table id=\"T_9dafd_\" ><thead>    <tr>        <th class=\"col_heading level0 col0\" >form</th>        <th class=\"col_heading level0 col1\" >n_atoms</th>        <th class=\"col_heading level0 col2\" >n_groups</th>        <th class=\"col_heading level0 col3\" >n_components</th>        <th class=\"col_heading level0 col4\" >n_chains</th>        <th class=\"col_heading level0 col5\" >n_molecules</th>        <th class=\"col_heading level0 col6\" >n_entities</th>        <th class=\"col_heading level0 col7\" >n_waters</th>        <th class=\"col_heading level0 col8\" >n_proteins</th>        <th class=\"col_heading level0 col9\" >n_frames</th>    </tr></thead><tbody>\n",
       "                <tr>\n",
       "                                <td id=\"T_9dafd_row0_col0\" class=\"data row0 col0\" >molsysmt.MolSys</td>\n",
       "                        <td id=\"T_9dafd_row0_col1\" class=\"data row0 col1\" >3983</td>\n",
       "                        <td id=\"T_9dafd_row0_col2\" class=\"data row0 col2\" >662</td>\n",
       "                        <td id=\"T_9dafd_row0_col3\" class=\"data row0 col3\" >167</td>\n",
       "                        <td id=\"T_9dafd_row0_col4\" class=\"data row0 col4\" >4</td>\n",
       "                        <td id=\"T_9dafd_row0_col5\" class=\"data row0 col5\" >166</td>\n",
       "                        <td id=\"T_9dafd_row0_col6\" class=\"data row0 col6\" >2</td>\n",
       "                        <td id=\"T_9dafd_row0_col7\" class=\"data row0 col7\" >165</td>\n",
       "                        <td id=\"T_9dafd_row0_col8\" class=\"data row0 col8\" >1</td>\n",
       "                        <td id=\"T_9dafd_row0_col9\" class=\"data row0 col9\" >1</td>\n",
       "            </tr>\n",
       "    </tbody></table>"
      ],
      "text/plain": [
       "<pandas.io.formats.style.Styler at 0x7f8100ec2f50>"
      ]
     },
     "execution_count": 71,
     "metadata": {},
     "output_type": "execute_result"
    }
   ],
   "source": [
    "msm.info(molecular_system)"
   ]
  },
  {
   "cell_type": "markdown",
   "metadata": {},
   "source": [
    "Lets revisit how to get the distances between two atoms selections to start with, then the effect of input arguments `group_behavior_1` and `group_behavior_2` will be shown:"
   ]
  },
  {
   "cell_type": "code",
   "execution_count": 72,
   "metadata": {},
   "outputs": [
    {
     "ename": "TypeError",
     "evalue": "__init__() takes 1 positional argument but 2 were given",
     "output_type": "error",
     "traceback": [
      "\u001b[0;31m---------------------------------------------------------------------------\u001b[0m",
      "\u001b[0;31mTypeError\u001b[0m                                 Traceback (most recent call last)",
      "\u001b[0;32m<ipython-input-72-d409f6d906e5>\u001b[0m in \u001b[0;36m<module>\u001b[0;34m\u001b[0m\n\u001b[0;32m----> 1\u001b[0;31m \u001b[0mdistances\u001b[0m \u001b[0;34m=\u001b[0m \u001b[0mmsm\u001b[0m\u001b[0;34m.\u001b[0m\u001b[0mdistance\u001b[0m\u001b[0;34m(\u001b[0m\u001b[0mmolecular_system\u001b[0m\u001b[0;34m,\u001b[0m \u001b[0mselection_1\u001b[0m\u001b[0;34m=\u001b[0m\u001b[0;34m\"group_index==0\"\u001b[0m\u001b[0;34m,\u001b[0m \u001b[0mselection_2\u001b[0m\u001b[0;34m=\u001b[0m\u001b[0;34m\"group_index==1\"\u001b[0m\u001b[0;34m)\u001b[0m\u001b[0;34m\u001b[0m\u001b[0;34m\u001b[0m\u001b[0m\n\u001b[0m",
      "\u001b[0;32m~/Proyectos/MolSysMT/molsysmt/distances.py\u001b[0m in \u001b[0;36mdistance\u001b[0;34m(molecular_system_1, selection_1, groups_of_atoms_1, group_behavior_1, frame_indices_1, molecular_system_2, selection_2, groups_of_atoms_2, group_behavior_2, frame_indices_2, pairs, crossed_frames, pbc, parallel, output_form, engine, syntaxis)\u001b[0m\n\u001b[1;32m    151\u001b[0m \u001b[0;34m\u001b[0m\u001b[0m\n\u001b[1;32m    152\u001b[0m         \u001b[0;32mif\u001b[0m \u001b[0;34m(\u001b[0m\u001b[0mnframes_1\u001b[0m\u001b[0;34m!=\u001b[0m\u001b[0mlen\u001b[0m\u001b[0;34m(\u001b[0m\u001b[0mframe_indices_1\u001b[0m\u001b[0;34m)\u001b[0m\u001b[0;34m)\u001b[0m\u001b[0;34m:\u001b[0m\u001b[0;34m\u001b[0m\u001b[0;34m\u001b[0m\u001b[0m\n\u001b[0;32m--> 153\u001b[0;31m             \u001b[0;32mraise\u001b[0m \u001b[0mNotImplementedError\u001b[0m\u001b[0;34m(\u001b[0m\u001b[0;34m\"Coordinates extraction from molecular_system_1 not implemented for frame_indices_1\"\u001b[0m\u001b[0;34m)\u001b[0m\u001b[0;34m\u001b[0m\u001b[0;34m\u001b[0m\u001b[0m\n\u001b[0m\u001b[1;32m    154\u001b[0m         \u001b[0;32mif\u001b[0m \u001b[0;34m(\u001b[0m\u001b[0mnframes_2\u001b[0m\u001b[0;34m!=\u001b[0m\u001b[0mlen\u001b[0m\u001b[0;34m(\u001b[0m\u001b[0mframe_indices_2\u001b[0m\u001b[0;34m)\u001b[0m\u001b[0;34m)\u001b[0m\u001b[0;34m:\u001b[0m\u001b[0;34m\u001b[0m\u001b[0;34m\u001b[0m\u001b[0m\n\u001b[1;32m    155\u001b[0m             \u001b[0;32mraise\u001b[0m \u001b[0mNotImplementedError\u001b[0m\u001b[0;34m(\u001b[0m\u001b[0;34m\"Coordinates extraction from molecular_system_2 not implemented for frame_indices_2\"\u001b[0m\u001b[0;34m)\u001b[0m\u001b[0;34m\u001b[0m\u001b[0;34m\u001b[0m\u001b[0m\n",
      "\u001b[0;31mTypeError\u001b[0m: __init__() takes 1 positional argument but 2 were given"
     ]
    }
   ],
   "source": [
    "distances = msm.distance(molecular_system, selection_1=\"group_index==0\", selection_2=\"group_index==1\")"
   ]
  },
  {
   "cell_type": "markdown",
   "metadata": {},
   "source": [
    "This molecular system has onle a single frame, so the shape of the output array is $[1, n\\_atoms\\_1, n\\_atoms\\_2]$ where $n\\_atoms\\_1$ and $n\\_atoms\\_2$ is the number of atoms in `selection_1` and `selection_2`, respectively:"
   ]
  },
  {
   "cell_type": "code",
   "execution_count": null,
   "metadata": {},
   "outputs": [],
   "source": [
    "n_atoms_1 = msm.get(molecular_system, selection=\"group_index==0\", n_atoms=True)\n",
    "n_atoms_2 = msm.get(molecular_system, selection=\"group_index==1\", n_atoms=True)\n",
    "print(n_atoms_1, n_atoms_2)"
   ]
  },
  {
   "cell_type": "code",
   "execution_count": null,
   "metadata": {},
   "outputs": [],
   "source": [
    "distances.shape"
   ]
  },
  {
   "cell_type": "markdown",
   "metadata": {},
   "source": [
    "Now, lets use `group_behavior_1=\"geometric_center\"` to obtain the distance between the geometric center of the set of atoms in `selection_1` to every atom in `selection_2`."
   ]
  },
  {
   "cell_type": "code",
   "execution_count": null,
   "metadata": {},
   "outputs": [],
   "source": [
    "distances = msm.distance(molecular_system, selection_1=\"group_index==0\",\n",
    "                         group_behavior_1=\"geometric_center\",                         \n",
    "                         selection_2=\"group_index==1\")"
   ]
  },
  {
   "cell_type": "code",
   "execution_count": null,
   "metadata": {},
   "outputs": [],
   "source": [
    "distances.shape"
   ]
  },
  {
   "cell_type": "markdown",
   "metadata": {},
   "source": [
    "And with `group_behavior_2=\"geometric_center\"` the distance between both geometric centers can be obtain:"
   ]
  },
  {
   "cell_type": "code",
   "execution_count": null,
   "metadata": {},
   "outputs": [],
   "source": [
    "distances = msm.distance(molecular_system, selection_1=\"group_index==0\",\n",
    "                         group_behavior_1=\"geometric_center\",\n",
    "                         selection_2=\"group_index==1\",\n",
    "                         group_behavior_2=\"geometric_center\")"
   ]
  },
  {
   "cell_type": "code",
   "execution_count": null,
   "metadata": {},
   "outputs": [],
   "source": [
    "distances.shape"
   ]
  },
  {
   "cell_type": "markdown",
   "metadata": {},
   "source": [
    "The input arguments `group_behavior_1` and `group_behavior_2` allow us to work with a unique position of a group of atoms, either the geometric center or the center of mass. But what happens then if we have several groups of atoms? The arguments `selection_1` and `selection_2` do work with just a list of atom indices or a selection sentence. Thats why we have to use two new input arguments: `groups_of_atoms_1` and `groups_of_atoms_2`. Lets define a couple of list of lists of atom indices to illustrate their use."
   ]
  },
  {
   "cell_type": "code",
   "execution_count": null,
   "metadata": {},
   "outputs": [],
   "source": [
    "list_groups_1 = msm.get(molecular_system, target=\"group\",\n",
    "                        selection=\"group_index in [0,1,2,3]\", atom_index=True)\n",
    "list_groups_2 = msm.get(molecular_system, target=\"group\",\n",
    "                        selection=\"group_index in [4,5,6,7,8]\", atom_index=True)"
   ]
  },
  {
   "cell_type": "code",
   "execution_count": null,
   "metadata": {},
   "outputs": [],
   "source": [
    "print(list_groups_1)"
   ]
  },
  {
   "cell_type": "markdown",
   "metadata": {},
   "source": [
    "First, lets compute the distance between every single atom in `selection_1` to the geometric center of the atoms groups defined in `list_groups_2`:"
   ]
  },
  {
   "cell_type": "code",
   "execution_count": null,
   "metadata": {},
   "outputs": [],
   "source": [
    "distances = msm.distance(molecular_system, selection_1=\"group_index==0\",\n",
    "                         groups_of_atoms_2=list_groups_2, group_behavior_2=\"geometric_center\")"
   ]
  },
  {
   "cell_type": "code",
   "execution_count": null,
   "metadata": {},
   "outputs": [],
   "source": [
    "distances.shape"
   ]
  },
  {
   "cell_type": "markdown",
   "metadata": {},
   "source": [
    "Now, the distance between the geometric center of the set of atoms in `selection_1` and every geometric center of the atoms groups given by `list_groups_2`:"
   ]
  },
  {
   "cell_type": "code",
   "execution_count": null,
   "metadata": {},
   "outputs": [],
   "source": [
    "distances = msm.distance(molecular_system, selection_1=\"group_index==0\",\n",
    "                         groups_of_atoms_2=list_groups_2, group_behavior_1=\"geometric_center\",\n",
    "                         group_behavior_2=\"geometric_center\")"
   ]
  },
  {
   "cell_type": "code",
   "execution_count": null,
   "metadata": {},
   "outputs": [],
   "source": [
    "distances.shape"
   ]
  },
  {
   "cell_type": "markdown",
   "metadata": {},
   "source": [
    "And finnally, the distance between every geometric center of the atoms groups in `list_groups_1` to every geometric center of the atoms groups defined in `list_groups_2`:"
   ]
  },
  {
   "cell_type": "code",
   "execution_count": null,
   "metadata": {},
   "outputs": [],
   "source": [
    "distances = msm.distance(molecular_system, groups_of_atoms_1=list_groups_1,\n",
    "                         groups_of_atoms_2=list_groups_2, group_behavior_1=\"geometric_center\",\n",
    "                         group_behavior_2=\"geometric_center\")"
   ]
  },
  {
   "cell_type": "code",
   "execution_count": null,
   "metadata": {},
   "outputs": [],
   "source": [
    "distances.shape"
   ]
  },
  {
   "cell_type": "markdown",
   "metadata": {},
   "source": [
    "Just like with atoms, if only a list of atoms groups is used, the distance between its centers is obtained:"
   ]
  },
  {
   "cell_type": "code",
   "execution_count": null,
   "metadata": {},
   "outputs": [],
   "source": [
    "distances = msm.distance(molecular_system, groups_of_atoms_1=list_groups_1,\n",
    "                         group_behavior_1=\"geometric_center\")"
   ]
  },
  {
   "cell_type": "code",
   "execution_count": null,
   "metadata": {},
   "outputs": [],
   "source": [
    "distances.shape"
   ]
  },
  {
   "cell_type": "markdown",
   "metadata": {},
   "source": [
    "Finnally, lets proof that the distance between groups can be computed all along a trajectory as well as only at specific frames. Lets load the whole trajectory 'pentalanine.h5':"
   ]
  },
  {
   "cell_type": "code",
   "execution_count": null,
   "metadata": {},
   "outputs": [],
   "source": [
    "molecular_system = msm.demo_systems.files['pentalanine.h5']\n",
    "molecular_system = msm.convert(molecular_system, to_form='molsysmt.MolSys')"
   ]
  },
  {
   "cell_type": "code",
   "execution_count": null,
   "metadata": {},
   "outputs": [],
   "source": [
    "msm.info(molecular_system)"
   ]
  },
  {
   "cell_type": "code",
   "execution_count": null,
   "metadata": {},
   "outputs": [],
   "source": [
    "msm.info(molecular_system, target='group')"
   ]
  },
  {
   "cell_type": "markdown",
   "metadata": {},
   "source": [
    "Lets represent the distance between the geometric center of the terminal groups vs. the simulation time:"
   ]
  },
  {
   "cell_type": "code",
   "execution_count": null,
   "metadata": {},
   "outputs": [],
   "source": [
    "distances = msm.distance(item_1=molecular_system, selection_1=\"group_index==0\",\n",
    "                         group_behavior_1=\"geometric_center\", selection_2=\"group_index==6\",\n",
    "                         group_behavior_2=\"geometric_center\")"
   ]
  },
  {
   "cell_type": "code",
   "execution_count": null,
   "metadata": {},
   "outputs": [],
   "source": [
    "times = msm.get(molecular_system, target=\"system\", time=True)"
   ]
  },
  {
   "cell_type": "code",
   "execution_count": null,
   "metadata": {},
   "outputs": [],
   "source": [
    "plt.plot(times.in_units_of(unit.nanoseconds), distances[:,0,0])\n",
    "plt.show()"
   ]
  },
  {
   "cell_type": "markdown",
   "metadata": {},
   "source": [
    "Or lets just get the distance between the geometric centers of all residues at the 3000-th frame:"
   ]
  },
  {
   "cell_type": "code",
   "execution_count": null,
   "metadata": {},
   "outputs": [],
   "source": [
    "list_groups_1 = msm.get(molecular_system, target=\"group\", selection=\"all\", atom_index=True)\n",
    "distances = msm.distance(item_1=molecular_system, groups_of_atoms_1=list_groups_1,\n",
    "                         group_behavior_1=\"geometric_center\",\n",
    "                         frame_indices_1=3000)"
   ]
  },
  {
   "cell_type": "code",
   "execution_count": null,
   "metadata": {},
   "outputs": [],
   "source": [
    "distances.shape"
   ]
  },
  {
   "cell_type": "code",
   "execution_count": null,
   "metadata": {},
   "outputs": [],
   "source": [
    "print(\"The distance between geometric_center of group 2-th and group 4-th at frame 3000-th is: {}\".format(distances[0,2,4]))"
   ]
  },
  {
   "cell_type": "markdown",
   "metadata": {},
   "source": [
    "### Distance between atom groups of two systems\n",
    "\n",
    "The method `molsysmt.distance()` can work with two different systems as it was shown in the section about getting distances from atoms. The same option works for atom groups. Lets just see this with a case:"
   ]
  },
  {
   "cell_type": "code",
   "execution_count": null,
   "metadata": {},
   "outputs": [],
   "source": [
    "molecular_system = msm.convert('mmtf:1TCD', 'molsysmt.MolSys')"
   ]
  },
  {
   "cell_type": "code",
   "execution_count": null,
   "metadata": {},
   "outputs": [],
   "source": [
    "molecular_system_A = msm.extract(molecular_system,\n",
    "                                 selection=\"chain_index==0 and molecule_type=='protein'\")\n",
    "molecular_system_B = msm.extract(molecular_system,\n",
    "                                 selection=\"chain_index==1 and molecule_type=='protein'\")"
   ]
  },
  {
   "cell_type": "code",
   "execution_count": null,
   "metadata": {},
   "outputs": [],
   "source": [
    "msm.info(molecular_system_A)"
   ]
  },
  {
   "cell_type": "code",
   "execution_count": null,
   "metadata": {},
   "outputs": [],
   "source": [
    "msm.info(molecular_system_B)"
   ]
  },
  {
   "cell_type": "markdown",
   "metadata": {},
   "source": [
    "Distance between groups belonging to different groups can be computed. All input arguments introduced to work with atoms remain valid in this context:"
   ]
  },
  {
   "cell_type": "code",
   "execution_count": null,
   "metadata": {},
   "outputs": [],
   "source": [
    "list_groups_A = msm.get(molecular_system_A, target=\"group\",\n",
    "                        selection=\"group_index in [0,1,2,3]\", atom_index=True)\n",
    "list_groups_B = msm.get(molecular_system_B, target=\"group\",\n",
    "                        selection=\"group_index in [10,11,12,13]\", atom_index=True)"
   ]
  },
  {
   "cell_type": "code",
   "execution_count": null,
   "metadata": {},
   "outputs": [],
   "source": [
    "distances = msm.distance(item_1=molecular_system_A, groups_of_atoms_1=list_groups_A,\n",
    "                         group_behavior_1=\"geometric_center\",\n",
    "                         item_2=molecular_system_B, groups_of_atoms_2=list_groups_B,\n",
    "                         group_behavior_2=\"geometric_center\")"
   ]
  },
  {
   "cell_type": "code",
   "execution_count": null,
   "metadata": {},
   "outputs": [],
   "source": [
    "distances.shape"
   ]
  },
  {
   "cell_type": "code",
   "execution_count": null,
   "metadata": {},
   "outputs": [],
   "source": [
    "print(\"The distance between geometric_center of group 0-th of A and group 10-th of B is: {}\".format(distances[0,0,0]))"
   ]
  },
  {
   "cell_type": "markdown",
   "metadata": {},
   "source": [
    "### Distances between atom groups positions in different frames"
   ]
  },
  {
   "cell_type": "markdown",
   "metadata": {},
   "source": [
    "The method `molsysmt.distance()` works with atom groups just like with only atoms. There are two input arguments to select the coordinates of a set of atoms at two different frames:"
   ]
  },
  {
   "cell_type": "code",
   "execution_count": null,
   "metadata": {},
   "outputs": [],
   "source": [
    "molecular_system = msm.demo_systems.files['pentalanine.h5']\n",
    "molecular_system = msm.convert(molecular_system, to_form='molsysmt.MolSys')"
   ]
  },
  {
   "cell_type": "code",
   "execution_count": null,
   "metadata": {},
   "outputs": [],
   "source": [
    "msm.info(molecular_system)"
   ]
  },
  {
   "cell_type": "markdown",
   "metadata": {},
   "source": [
    "Let see how `frame_indices_1` and `frame_indices_2` works in this context:"
   ]
  },
  {
   "cell_type": "code",
   "execution_count": null,
   "metadata": {},
   "outputs": [],
   "source": [
    "distances = msm.distance(item_1=molecular_system,\n",
    "                         selection_1=\"group_index==0\", group_behavior_1=\"geometric_center\",\n",
    "                         frame_indices_1=100,\n",
    "                         selection_2=\"group_index==6\", group_behavior_2=\"geometric_center\",\n",
    "                         frame_indices_2=200)"
   ]
  },
  {
   "cell_type": "code",
   "execution_count": null,
   "metadata": {},
   "outputs": [],
   "source": [
    "distances.shape"
   ]
  },
  {
   "cell_type": "markdown",
   "metadata": {},
   "source": [
    "The physical meaning of this former example is clear but not really useful, unless `selection_1` is the same as `selection_2` as we can see in the following section."
   ]
  },
  {
   "cell_type": "markdown",
   "metadata": {},
   "source": [
    "### Displacement distances of atom groups"
   ]
  },
  {
   "cell_type": "markdown",
   "metadata": {},
   "source": [
    "The possibility to get the distance between the coordinates of an object at two different frames makes the obtention of atom groups displacements straightforward. Lets plot the distance walked by the 0-th group of the former pentalanine peptide between consecutive frames of the trajectory store in `pentalanine.h5`:"
   ]
  },
  {
   "cell_type": "code",
   "execution_count": null,
   "metadata": {},
   "outputs": [],
   "source": [
    "molecular_system = msm.demo_systems.files['pentalanine.h5']\n",
    "molecular_system = msm.convert(molecular_system, to_form='molsysmt.MolSys')"
   ]
  },
  {
   "cell_type": "code",
   "execution_count": null,
   "metadata": {},
   "outputs": [],
   "source": [
    "n_frames = msm.get(molecular_system, n_frames=True)"
   ]
  },
  {
   "cell_type": "code",
   "execution_count": null,
   "metadata": {},
   "outputs": [],
   "source": [
    "all_frame_indices = np.arange(n_frames)"
   ]
  },
  {
   "cell_type": "code",
   "execution_count": null,
   "metadata": {},
   "outputs": [],
   "source": [
    "displacements = msm.distance(item_1=molecular_system, selection_1=\"group_index==0\",\n",
    "                             group_behavior_1=\"geometric_center\",\n",
    "                             frame_indices_1=all_frame_indices[:-1],\n",
    "                             frame_indices_2=all_frame_indices[1:])"
   ]
  },
  {
   "cell_type": "code",
   "execution_count": null,
   "metadata": {},
   "outputs": [],
   "source": [
    "time = msm.get(molecular_system, target='system', frame_indices=all_frame_indices[:-1], time=True)"
   ]
  },
  {
   "cell_type": "code",
   "execution_count": null,
   "metadata": {},
   "outputs": [],
   "source": [
    "plt.plot(time.in_units_of(unit.nanoseconds), displacements[:,0,0])\n",
    "plt.show()"
   ]
  },
  {
   "cell_type": "markdown",
   "metadata": {},
   "source": [
    "Or we can, for instance, get the distance of the center of mass of the whole molecule from the initial configuration to every time step along the trajectory:"
   ]
  },
  {
   "cell_type": "code",
   "execution_count": null,
   "metadata": {},
   "outputs": [],
   "source": [
    "displacements = msm.distance(item_1=molecular_system, selection_1=\"all\",\n",
    "                             frame_indices_1=np.zeros(n_frames), frame_indices_2=all_frame_indices)"
   ]
  },
  {
   "cell_type": "code",
   "execution_count": null,
   "metadata": {},
   "outputs": [],
   "source": [
    "time = msm.get(molecular_system, target='system', time=True)"
   ]
  },
  {
   "cell_type": "code",
   "execution_count": null,
   "metadata": {},
   "outputs": [],
   "source": [
    "plt.plot(time.in_units_of(unit.nanoseconds), displacements[:,0,0])\n",
    "plt.show()"
   ]
  },
  {
   "cell_type": "markdown",
   "metadata": {},
   "source": [
    "### Distance between atom groups pairs"
   ]
  },
  {
   "cell_type": "markdown",
   "metadata": {},
   "source": [
    "Lets see the following example where all distances betweeen the geometric center of the residues of pentalanine is computed along a short trajectory:"
   ]
  },
  {
   "cell_type": "code",
   "execution_count": null,
   "metadata": {},
   "outputs": [],
   "source": [
    "molecular_system = msm.demo_systems.files['pentalanine.h5']\n",
    "molecular_system = msm.convert(molecular_system, to_form='molsysmt.MolSys')"
   ]
  },
  {
   "cell_type": "code",
   "execution_count": null,
   "metadata": {},
   "outputs": [],
   "source": [
    "list_atom_groups = msm.get(molecular_system, target='group', selection='all', atom_index=True)"
   ]
  },
  {
   "cell_type": "code",
   "execution_count": null,
   "metadata": {},
   "outputs": [],
   "source": [
    "list_atom_groups"
   ]
  },
  {
   "cell_type": "code",
   "execution_count": null,
   "metadata": {},
   "outputs": [],
   "source": [
    "distances = msm.distance(molecular_system, groups_of_atoms_1=list_atom_groups,\n",
    "                         group_behavior_1='geometric_center')"
   ]
  },
  {
   "cell_type": "code",
   "execution_count": null,
   "metadata": {},
   "outputs": [],
   "source": [
    "distances.shape"
   ]
  },
  {
   "cell_type": "markdown",
   "metadata": {},
   "source": [
    "The method worked needlessly computing the distances between different groups twice, as well as getting the distance between a geometric center to the its self for every residue. This can be avoided thanks to the input argument `pairs=True`. Using `pairs=True`, as it can be seen in the corresponding section about distances of atoms pairs, the distances between atom groups pairs made by consecutive elements of two zipped lists are obtained. Lets see this with a pratical case:"
   ]
  },
  {
   "cell_type": "code",
   "execution_count": null,
   "metadata": {},
   "outputs": [],
   "source": [
    "from itertools import combinations \n",
    "\n",
    "list_atom_groups_1=[]\n",
    "list_atom_groups_2=[]\n",
    "aux_list_1=[]\n",
    "aux_list_2=[]\n",
    "\n",
    "for ii,jj in combinations(range(7), 2):\n",
    "    print('{}.vs.{}'.format(ii,jj))\n",
    "    aux_list_1.append(ii)\n",
    "    aux_list_2.append(jj)\n",
    "    list_atom_groups_1.append(list_atom_groups[ii])\n",
    "    list_atom_groups_2.append(list_atom_groups[jj])"
   ]
  },
  {
   "cell_type": "code",
   "execution_count": null,
   "metadata": {},
   "outputs": [],
   "source": [
    "distances = msm.distance(molecular_system, groups_of_atoms_1=list_atom_groups_1,\n",
    "                         group_behavior_1='geometric_center', groups_of_atoms_2=list_atom_groups_2,\n",
    "                         group_behavior_2='geometric_center', pairs=True)"
   ]
  },
  {
   "cell_type": "code",
   "execution_count": null,
   "metadata": {},
   "outputs": [],
   "source": [
    "distances.shape"
   ]
  },
  {
   "cell_type": "markdown",
   "metadata": {},
   "source": [
    "Lets plot the distance of a given pair, 12-th p.e., defined by the groups:"
   ]
  },
  {
   "cell_type": "code",
   "execution_count": null,
   "metadata": {},
   "outputs": [],
   "source": [
    "print('The 12-th pair is made by groups {}-th and {}-th, and its distance along the trajectory is:'.format(aux_list_1[12], aux_list_2[12]))"
   ]
  },
  {
   "cell_type": "code",
   "execution_count": null,
   "metadata": {},
   "outputs": [],
   "source": [
    "time = msm.get(molecular_system, target='system', time=True)\n",
    "plt.plot(time.in_units_of(unit.nanoseconds), distances[:,12])\n",
    "plt.show()"
   ]
  },
  {
   "cell_type": "markdown",
   "metadata": {},
   "source": [
    "### Minimum and Maximum distance of atom groups"
   ]
  },
  {
   "cell_type": "markdown",
   "metadata": {},
   "source": [
    "Sometimes the pair of atom groups with the shortest distance between their geometric centers, or centers of mass, needs to be determined. Lets work to illustrate this case with a dimeric protein complex:"
   ]
  },
  {
   "cell_type": "code",
   "execution_count": null,
   "metadata": {},
   "outputs": [],
   "source": [
    "molecular_system = msm.convert('mmtf:1TCD', 'molsysmt.MolSys')"
   ]
  },
  {
   "cell_type": "code",
   "execution_count": null,
   "metadata": {},
   "outputs": [],
   "source": [
    "msm.info(molecular_system, target='component', selection='molecule_type==\"protein\"')"
   ]
  },
  {
   "cell_type": "markdown",
   "metadata": {},
   "source": [
    "Lets find out the closest pairs of distance from different components:"
   ]
  },
  {
   "cell_type": "code",
   "execution_count": null,
   "metadata": {},
   "outputs": [],
   "source": [
    "atoms_groups_component_0 = msm.get(molecular_system, target='group',\n",
    "                                   selection='component_index==0', atom_index=True)\n",
    "atoms_groups_component_1 = msm.get(molecular_system, target='group',\n",
    "                                   selection='component_index==1', atom_index=True)"
   ]
  },
  {
   "cell_type": "code",
   "execution_count": null,
   "metadata": {},
   "outputs": [],
   "source": [
    "min_pairs, min_distances = msm.minimum_distance(molecular_system,\n",
    "                                                groups_of_atoms_1=atoms_groups_component_0,\n",
    "                                                group_behavior_1='geometric_center',\n",
    "                                                groups_of_atoms_2=atoms_groups_component_1,\n",
    "                                                group_behavior_2='geometric_center')"
   ]
  },
  {
   "cell_type": "markdown",
   "metadata": {},
   "source": [
    "There is a single frame in our molecular system, thats why the shape of the numpy array with the pair of groups is the following:"
   ]
  },
  {
   "cell_type": "code",
   "execution_count": null,
   "metadata": {},
   "outputs": [],
   "source": [
    "min_pairs.shape"
   ]
  },
  {
   "cell_type": "markdown",
   "metadata": {},
   "source": [
    "Where the indices found in min_pairs correspond to the n-th and m-th atoms group of the first list and the second list respectively:"
   ]
  },
  {
   "cell_type": "code",
   "execution_count": null,
   "metadata": {},
   "outputs": [],
   "source": [
    "min_pairs[0]"
   ]
  },
  {
   "cell_type": "code",
   "execution_count": null,
   "metadata": {},
   "outputs": [],
   "source": [
    "group_index_in_component_0 = msm.get(molecular_system, target='group',\n",
    "                                     selection='component_index==0', index=True)[69]\n",
    "group_index_in_component_1 = msm.get(molecular_system, target='group',\n",
    "                                     selection='component_index==1', index=True)[12]"
   ]
  },
  {
   "cell_type": "code",
   "execution_count": null,
   "metadata": {},
   "outputs": [],
   "source": [
    "msm.info(molecular_system, target='group', indices=[group_index_in_component_0,\n",
    "                                                    group_index_in_component_1])"
   ]
  },
  {
   "cell_type": "markdown",
   "metadata": {},
   "source": [
    "And the corresponding minimum distance between both residues from the two components is:"
   ]
  },
  {
   "cell_type": "code",
   "execution_count": null,
   "metadata": {},
   "outputs": [],
   "source": [
    "min_distances[0]"
   ]
  },
  {
   "cell_type": "markdown",
   "metadata": {},
   "source": [
    "On the other hand, if the maximum distance needs to be obtained, the method to be used is `molsysmt.maximum_distance()`. Lets show how this method works with a short trajectory of the pentalanine peptide."
   ]
  },
  {
   "cell_type": "code",
   "execution_count": null,
   "metadata": {},
   "outputs": [],
   "source": [
    "molecular_system = msm.demo_systems.files['pentalanine.h5']\n",
    "molecular_system = msm.convert(molecular_system, to_form='molsysmt.MolSys')"
   ]
  },
  {
   "cell_type": "code",
   "execution_count": null,
   "metadata": {},
   "outputs": [],
   "source": [
    "msm.info(molecular_system)"
   ]
  },
  {
   "cell_type": "markdown",
   "metadata": {},
   "source": [
    "The trajectory has 5000 frames. Lets see, for each frame, whats the pair of residues with the longest distance between their geometric centers:"
   ]
  },
  {
   "cell_type": "code",
   "execution_count": null,
   "metadata": {},
   "outputs": [],
   "source": [
    "list_atom_groups = msm.get(molecular_system, target='group', selection='all', atom_index=True)\n",
    "max_pairs, max_distances = msm.maximum_distance(molecular_system, groups_of_atoms_1=list_atom_groups,\n",
    "                                                group_behavior_1='geometric_center')"
   ]
  },
  {
   "cell_type": "markdown",
   "metadata": {},
   "source": [
    "This time we have 5000 pairs of group, one for each frame; and 5000 maximum distances:"
   ]
  },
  {
   "cell_type": "code",
   "execution_count": null,
   "metadata": {},
   "outputs": [],
   "source": [
    "max_pairs.shape"
   ]
  },
  {
   "cell_type": "code",
   "execution_count": null,
   "metadata": {},
   "outputs": [],
   "source": [
    "max_pairs"
   ]
  },
  {
   "cell_type": "code",
   "execution_count": null,
   "metadata": {},
   "outputs": [],
   "source": [
    "max_distances"
   ]
  },
  {
   "cell_type": "markdown",
   "metadata": {},
   "source": [
    "To give a last example on this methods, lets wonder: what is the residue of the peptide with the largest displacement between each frame and the next one? (at each frame, of course)"
   ]
  },
  {
   "cell_type": "code",
   "execution_count": null,
   "metadata": {},
   "outputs": [],
   "source": [
    "list_atom_groups = msm.get(molecular_system, target='group', selection='all', atom_index=True)\n",
    "frames=np.arange(msm.get(molecular_system, n_frames=True))\n",
    "max_group, max_distances = msm.maximum_distance(molecular_system,\n",
    "                                                groups_of_atoms_1=list_atom_groups,\n",
    "                                                group_behavior_1='geometric_center',\n",
    "                                                groups_of_atoms_2=list_atom_groups,\n",
    "                                                group_behavior_2='geometric_center',\n",
    "                                                frame_indices_1=frames[:-1],\n",
    "                                                frame_indices_2=frames[1:],\n",
    "                                                pairs=True)"
   ]
  },
  {
   "cell_type": "markdown",
   "metadata": {},
   "source": [
    "Since we are using the option `pairs=True`, the output this time corresponds to the index of the pair made by the elements in both `groups_of_atoms_1` and `groups_of_atoms_2` with the maximum distance, or displacement in this case, for each i-th frame with the consecutive (i+1)-th frame:"
   ]
  },
  {
   "cell_type": "code",
   "execution_count": null,
   "metadata": {},
   "outputs": [],
   "source": [
    "max_group.shape"
   ]
  },
  {
   "cell_type": "code",
   "execution_count": null,
   "metadata": {},
   "outputs": [],
   "source": [
    "max_group"
   ]
  },
  {
   "cell_type": "markdown",
   "metadata": {},
   "source": [
    "And the value of this maximum displacements are:"
   ]
  },
  {
   "cell_type": "code",
   "execution_count": null,
   "metadata": {},
   "outputs": [],
   "source": [
    "max_distances"
   ]
  },
  {
   "cell_type": "markdown",
   "metadata": {},
   "source": [
    "This way:"
   ]
  },
  {
   "cell_type": "code",
   "execution_count": null,
   "metadata": {},
   "outputs": [],
   "source": [
    "print('The {}-th is the group with the maximum displacement between frames 200-th and 201-th: {}'.format(max_group[200], max_distances[200]))"
   ]
  },
  {
   "cell_type": "markdown",
   "metadata": {},
   "source": [
    "## Neighbor lists\n",
    "\n",
    "With the method `molsysmt.distance()` many questions about a molecular system can be answered. Two of the most common distance related questions are: what are the closest n atoms to a given one? or what are the atoms closest than a given distance threshold? MolSysMT includes a method to provide with this distances processing: `molsysmt.neighbors_lists()`. \n",
    "\n",
    "### First closest neighbor atoms or groups\n",
    "\n",
    "There are two ways to compute distance neighbors. The closest n atoms to a given one can be obtained with the option `num_neighbors` or `threshold`. Lets show with a simple example how this first option works:"
   ]
  },
  {
   "cell_type": "code",
   "execution_count": null,
   "metadata": {},
   "outputs": [],
   "source": [
    "molecular_system = msm.demo_systems.files['pentalanine.h5']\n",
    "molecular_system = msm.convert(molecular_system, to_form='molsysmt.MolSys')"
   ]
  },
  {
   "cell_type": "code",
   "execution_count": null,
   "metadata": {},
   "outputs": [],
   "source": [
    "msm.info(molecular_system)"
   ]
  },
  {
   "cell_type": "markdown",
   "metadata": {},
   "source": [
    "We can compute the closest 3 CA atoms to each CA atom of the molecular system:"
   ]
  },
  {
   "cell_type": "code",
   "execution_count": null,
   "metadata": {},
   "outputs": [],
   "source": [
    "CA_atoms_list = msm.select(molecular_system, selection='atom_name==\"CA\"')"
   ]
  },
  {
   "cell_type": "code",
   "execution_count": null,
   "metadata": {},
   "outputs": [],
   "source": [
    "neighbors, distances = msm.neighbors_lists(molecular_system, selection_1=CA_atoms_list,\n",
    "                                           num_neighbors=3)"
   ]
  },
  {
   "cell_type": "markdown",
   "metadata": {},
   "source": [
    "Two objects are returned. A numpy array with the list of 3 neighbor atom indices per atom in `selection_1`, per frame:"
   ]
  },
  {
   "cell_type": "code",
   "execution_count": null,
   "metadata": {},
   "outputs": [],
   "source": [
    "neighbors.shape"
   ]
  },
  {
   "cell_type": "markdown",
   "metadata": {},
   "source": [
    "And the corresponding distances:"
   ]
  },
  {
   "cell_type": "code",
   "execution_count": null,
   "metadata": {},
   "outputs": [],
   "source": [
    "distances.shape"
   ]
  },
  {
   "cell_type": "markdown",
   "metadata": {},
   "source": [
    "This way, the closest 3 atoms of the first CA atom at frame 2000-th are:"
   ]
  },
  {
   "cell_type": "code",
   "execution_count": null,
   "metadata": {},
   "outputs": [],
   "source": [
    "print(\"3 first neighbor CAs of atom {}-th at frame 0-th\".format(CA_atoms_list[0]))\n",
    "print(\"------------------------------------------\")\n",
    "\n",
    "for ii in range(3):\n",
    "    print(\"{}° neighbor is atom {}-th with distance: {}\".format(ii+1, CA_atoms_list[neighbors[2000,0,ii]], distances[2000,0,ii]))"
   ]
  },
  {
   "cell_type": "markdown",
   "metadata": {},
   "source": [
    "Lets see now the 4 closest atoms, any kind, to each CA atom of the molecular system:"
   ]
  },
  {
   "cell_type": "code",
   "execution_count": null,
   "metadata": {},
   "outputs": [],
   "source": [
    "neighbors, distances = msm.neighbors_lists(molecular_system, selection_1=CA_atoms_list,\n",
    "                                           selection_2='all',\n",
    "                                           num_neighbors=4)"
   ]
  },
  {
   "cell_type": "code",
   "execution_count": null,
   "metadata": {},
   "outputs": [],
   "source": [
    "print(\"4 first neighbors of atom {}-th at frame 2000-th\".format(CA_atoms_list[0]))\n",
    "print(\"------------------------------------------\")\n",
    "\n",
    "for ii in range(4):\n",
    "    print(\"{}° neighbor is atom {}-th with distance: {}\".format(ii+1, neighbors[2000,0,ii], distances[2000,0,ii]))"
   ]
  },
  {
   "cell_type": "markdown",
   "metadata": {},
   "source": [
    "Notice that, in this case, `msm.neighbors_list` is built to assume that is working with two different set of atoms since `selection_1`$\\neq$`selection_2`. Thats the reason why this time the first neighbor atom is the atom itself."
   ]
  },
  {
   "cell_type": "markdown",
   "metadata": {},
   "source": [
    "The method `msm.neighbors_list()` was built on top of `msm.distance()`, thus the input arguments are almost the same. If you already had a look to the section about atoms distance, you will be probably wonder if `msm.neighbors_list` can also work with atoms groups. Lets illustrate this case with the following cells:"
   ]
  },
  {
   "cell_type": "code",
   "execution_count": null,
   "metadata": {},
   "outputs": [],
   "source": [
    "molecular_system = msm.convert('mmtf:1TCD', 'molsysmt.MolSys')"
   ]
  },
  {
   "cell_type": "code",
   "execution_count": null,
   "metadata": {},
   "outputs": [],
   "source": [
    "atoms_in_residues_chain_0 = msm.get(molecular_system, target='group',\n",
    "                                    selection=\"molecule_type=='protein' and chain_index==0\",\n",
    "                                    atom_index=True)\n",
    "atoms_in_residues_chain_1 = msm.get(molecular_system, target='group',\n",
    "                                    selection=\"molecule_type=='protein' and chain_index==1\",\n",
    "                                    atom_index=True)"
   ]
  },
  {
   "cell_type": "code",
   "execution_count": null,
   "metadata": {},
   "outputs": [],
   "source": [
    "print('Number of residues in chain 0:', len(atoms_in_residues_chain_0))\n",
    "print('Number of residues in chain 1:', len(atoms_in_residues_chain_1))"
   ]
  },
  {
   "cell_type": "code",
   "execution_count": null,
   "metadata": {},
   "outputs": [],
   "source": [
    "neighbors, distances = msm.neighbors_lists(molecular_system,\n",
    "                                           groups_of_atoms_1=atoms_in_residues_chain_0,\n",
    "                                           group_behavior_1= 'geometric_center',\n",
    "                                           num_neighbors=8)"
   ]
  },
  {
   "cell_type": "code",
   "execution_count": null,
   "metadata": {},
   "outputs": [],
   "source": [
    "print(neighbors.shape)"
   ]
  },
  {
   "cell_type": "code",
   "execution_count": null,
   "metadata": {},
   "outputs": [],
   "source": [
    "print(\"8 first group neighbors of the geometric center of residue 0-th\")\n",
    "print(\"------------------------------------------\")\n",
    "\n",
    "for ii in range(8):\n",
    "    print(\"{}° neighbor is group {}-th with distance: {}\".format(ii+1, neighbors[0,0,ii], distances[0,0,ii]))"
   ]
  },
  {
   "cell_type": "markdown",
   "metadata": {},
   "source": [
    "The list groups neighbors can be computed also from two molecular systems or two list of groups:"
   ]
  },
  {
   "cell_type": "code",
   "execution_count": null,
   "metadata": {},
   "outputs": [],
   "source": [
    "neighbors, distances = msm.neighbors_lists(molecular_system,\n",
    "                                           groups_of_atoms_1=atoms_in_residues_chain_0,\n",
    "                                           group_behavior_1= 'geometric_center',\n",
    "                                           groups_of_atoms_2=atoms_in_residues_chain_1,\n",
    "                                           group_behavior_2= 'geometric_center',\n",
    "                                           num_neighbors=8)"
   ]
  },
  {
   "cell_type": "code",
   "execution_count": null,
   "metadata": {},
   "outputs": [],
   "source": [
    "print(\"8 first group neighbors from chain 1 of the geometric center of residue 0-th from chain 0\")\n",
    "print(\"------------------------------------------\")\n",
    "\n",
    "for ii in range(8):\n",
    "    print(\"{}° neighbor is group {}-th with distance: {}\".format(ii+1, neighbors[0,0,ii], distances[0,0,ii]))"
   ]
  },
  {
   "cell_type": "markdown",
   "metadata": {},
   "source": [
    "The method `molsysmt.neighbors_lists()` can also mix atoms and atoms groups. Lets, as last example, get the closest geometric centers of residues to a specific atom:"
   ]
  },
  {
   "cell_type": "code",
   "execution_count": null,
   "metadata": {},
   "outputs": [],
   "source": [
    "neighbors, distances = msm.neighbors_lists(molecular_system, selection_1=100,\n",
    "                                           groups_of_atoms_2=atoms_in_residues_chain_1,\n",
    "                                           group_behavior_2= 'geometric_center',\n",
    "                                           num_neighbors=4)"
   ]
  },
  {
   "cell_type": "code",
   "execution_count": null,
   "metadata": {},
   "outputs": [],
   "source": [
    "print(\"4 closest geometric centers of residues of chain 1 from atom 100-th\")\n",
    "print(\"-------------------------------------------------------------------\")\n",
    "\n",
    "for ii in range(4):\n",
    "    print(\"{}° closest neighbor is group {}-th with distance: {}\".format(ii+1, neighbors[0,0,ii], distances[0,0,ii]))"
   ]
  },
  {
   "cell_type": "markdown",
   "metadata": {},
   "source": [
    "### Closest neighbor atoms or groups below a distance threshold\n",
    "\n",
    "In addition to the input argument `num_neighbors`, `molsysmt.neighbors_lists()` includes the option of getting those neighbors with a distance below a given threshols: `threshold`. Lets get for the following molecular system the list of CA atoms closest than 8 $\\unicode{xC5}$:"
   ]
  },
  {
   "cell_type": "code",
   "execution_count": null,
   "metadata": {},
   "outputs": [],
   "source": [
    "molecular_system = msm.convert('mmtf:1TCD', 'molsysmt.MolSys')"
   ]
  },
  {
   "cell_type": "code",
   "execution_count": null,
   "metadata": {},
   "outputs": [],
   "source": [
    "CA_atoms = msm.select(molecular_system, selection='atom_name==\"CA\"')"
   ]
  },
  {
   "cell_type": "code",
   "execution_count": null,
   "metadata": {},
   "outputs": [],
   "source": [
    "neighbors, distances = msm.neighbors_lists(molecular_system, selection_1=CA_atoms, threshold=8*unit.angstroms)"
   ]
  },
  {
   "cell_type": "markdown",
   "metadata": {},
   "source": [
    "In this example, each CA atom has a different number of neighbors. This time the output is not a tensor ranked 3, but a matrix where the elements are not numbers but list of neighbors:"
   ]
  },
  {
   "cell_type": "code",
   "execution_count": null,
   "metadata": {},
   "outputs": [],
   "source": [
    "print(neighbors.shape)"
   ]
  },
  {
   "cell_type": "code",
   "execution_count": null,
   "metadata": {},
   "outputs": [],
   "source": [
    "print(distances.shape)"
   ]
  },
  {
   "cell_type": "markdown",
   "metadata": {},
   "source": [
    "The molecular system had 1 single frame and 497 CA atoms, lets see now the number of CA neighbors of the first 10 CA atoms in our list:"
   ]
  },
  {
   "cell_type": "code",
   "execution_count": null,
   "metadata": {},
   "outputs": [],
   "source": [
    "for ii in range(10):\n",
    "    print(\"The {}° CA has {} CA neighbors.\".format(ii+1,len(neighbors[0,ii])))"
   ]
  },
  {
   "cell_type": "markdown",
   "metadata": {},
   "source": [
    "Lets print out the neighbors of the 20-th CA in the list:"
   ]
  },
  {
   "cell_type": "code",
   "execution_count": null,
   "metadata": {},
   "outputs": [],
   "source": [
    "for ii,dd in zip(neighbors[0,20], distances[0,20]):\n",
    "    print(\"The {}-th CA is {} away from the 20-th CA\".format(ii,dd))"
   ]
  },
  {
   "cell_type": "markdown",
   "metadata": {},
   "source": [
    "As well as for the input argument `num_neighbors` -previous subsection-, the neighbors closest than a given threshold can also be computed between atoms groups or atoms and atoms groups. Lets show a example where the neighbors of the residues of chain 0 in our molecular system are defined as those residues of chain 1 closest the 1.2 nm:"
   ]
  },
  {
   "cell_type": "code",
   "execution_count": null,
   "metadata": {},
   "outputs": [],
   "source": [
    "atoms_in_residues_chain_0 = msm.get(molecular_system, target='group',\n",
    "                                    selection=\"molecule_type=='protein' and chain_index==0\",\n",
    "                                    atom_index=True)\n",
    "atoms_in_residues_chain_1 = msm.get(molecular_system, target='group',\n",
    "                                    selection=\"molecule_type=='protein' and chain_index==1\",\n",
    "                                    atom_index=True)"
   ]
  },
  {
   "cell_type": "code",
   "execution_count": null,
   "metadata": {},
   "outputs": [],
   "source": [
    "neighbors, distances = msm.neighbors_lists(molecular_system,\n",
    "                                           groups_of_atoms_1= atoms_in_residues_chain_0, group_behavior_1='geometric_center',\n",
    "                                           groups_of_atoms_2= atoms_in_residues_chain_1, group_behavior_2='geometric_center',\n",
    "                                           threshold=1.2*unit.nanometers)"
   ]
  },
  {
   "cell_type": "markdown",
   "metadata": {},
   "source": [
    "Lets print out the number of contacts in chain 1 per residue of chain 0, if any:"
   ]
  },
  {
   "cell_type": "code",
   "execution_count": null,
   "metadata": {},
   "outputs": [],
   "source": [
    "for ii in range(len(atoms_in_residues_chain_0)):\n",
    "    n_contacts = len(neighbors[0,ii])\n",
    "    if n_contacts >0:\n",
    "        print('The {}-th residue of chain 0 has {} residue contacts in chain 1'.format(ii,n_contacts))"
   ]
  },
  {
   "cell_type": "markdown",
   "metadata": {},
   "source": [
    "This information is usually represented as a contact map. If this is what you are looking for, you will probably find the next section more appropriate to your needs."
   ]
  },
  {
   "cell_type": "markdown",
   "metadata": {},
   "source": [
    "## Contact maps\n",
    "\n",
    "A contact map is a logic matrix where the element (i-th,j-th) is True if the distance between i-th and j-th is lower, or equal, than a certain threshold. The contact map is a common tool, simple but effective, used to represent structural motifs from the protein-protein interaface of the protein folding, for example. MolSysMT includes a method, based on `molsysmt.distance()`, to obtain contact maps: `molsysmt.contact_map()`. As such, `molsysmt.contact_map` inherits many input arguments from `molsysmt.distance()`. Lets see a couple of examples in this section.\n",
    "\n",
    "Lets get the contact map obtained with the threshold 1.2 nm and the CA atoms from the dimer found in the system with pdb id 1TCD:"
   ]
  },
  {
   "cell_type": "code",
   "execution_count": null,
   "metadata": {},
   "outputs": [],
   "source": [
    "molecular_system = msm.convert('mmtf:1TCD', 'molsysmt.MolSys')"
   ]
  },
  {
   "cell_type": "code",
   "execution_count": null,
   "metadata": {},
   "outputs": [],
   "source": [
    "CA_atoms = msm.select(molecular_system, selection='atom_name==\"CA\"')"
   ]
  },
  {
   "cell_type": "code",
   "execution_count": null,
   "metadata": {},
   "outputs": [],
   "source": [
    "contact_map = msm.contact_map(molecular_system, selection_1=CA_atoms, threshold=1.2*unit.nanometers)"
   ]
  },
  {
   "cell_type": "code",
   "execution_count": null,
   "metadata": {},
   "outputs": [],
   "source": [
    "contact_map"
   ]
  },
  {
   "cell_type": "markdown",
   "metadata": {},
   "source": [
    "Our molecular system has a single frame. That's why the shape of the output is the following:"
   ]
  },
  {
   "cell_type": "code",
   "execution_count": null,
   "metadata": {},
   "outputs": [],
   "source": [
    "contact_map.shape"
   ]
  },
  {
   "cell_type": "markdown",
   "metadata": {},
   "source": [
    "Where 497 is the total number of CA atoms in our system:"
   ]
  },
  {
   "cell_type": "code",
   "execution_count": null,
   "metadata": {},
   "outputs": [],
   "source": [
    "print(msm.get(molecular_system, selection=\"atom_name=='CA'\", n_atoms=True))"
   ]
  },
  {
   "cell_type": "markdown",
   "metadata": {},
   "source": [
    "Usually the contact map is represented as a plot. The structural motifs can be then easily identify:"
   ]
  },
  {
   "cell_type": "code",
   "execution_count": null,
   "metadata": {},
   "outputs": [],
   "source": [
    "plt.imshow(contact_map[0], cmap='Greys', origin='lower')\n",
    "plt.show()"
   ]
  },
  {
   "cell_type": "markdown",
   "metadata": {},
   "source": [
    "The contact map can also be computed among elements from different sets. Lets get the contact map with the same threshold but this time between the CA atoms from both chains:"
   ]
  },
  {
   "cell_type": "code",
   "execution_count": null,
   "metadata": {},
   "outputs": [],
   "source": [
    "CA_atoms_chain_0 = msm.get(molecular_system, selection=\"atom_name=='CA' and chain_index==0\", atom_index=True)\n",
    "CA_atoms_chain_1 = msm.get(molecular_system, selection=\"atom_name=='CA' and chain_index==1\", atom_index=True)"
   ]
  },
  {
   "cell_type": "code",
   "execution_count": null,
   "metadata": {},
   "outputs": [],
   "source": [
    "contact_map = msm.contact_map(molecular_system, selection_1=CA_atoms_chain_0, selection_2=CA_atoms_chain_1,\n",
    "                              threshold=1.2*unit.nanometers)"
   ]
  },
  {
   "cell_type": "code",
   "execution_count": null,
   "metadata": {},
   "outputs": [],
   "source": [
    "plt.imshow(contact_map[0], cmap='Greys', origin='lower')\n",
    "plt.show()"
   ]
  },
  {
   "cell_type": "markdown",
   "metadata": {},
   "source": [
    "The molecular system is homodimeric, thereby the interface is symmetric as it can see in this last plot."
   ]
  },
  {
   "cell_type": "markdown",
   "metadata": {},
   "source": [
    "Finnally, `molsysmt.contact_map()` can also work with atoms groups. Instead of getting the contact map between CA atoms, lets do it now with the geometric centers of the residues:"
   ]
  },
  {
   "cell_type": "code",
   "execution_count": null,
   "metadata": {},
   "outputs": [],
   "source": [
    "atoms_in_residues_chain_0 = msm.get(molecular_system, target='group',\n",
    "                                    selection=\"molecule_type=='protein' and chain_index==0\", atom_index=True)\n",
    "atoms_in_residues_chain_1 = msm.get(molecular_system, target='group',\n",
    "                                    selection=\"molecule_type=='protein' and chain_index==1\", atom_index=True)"
   ]
  },
  {
   "cell_type": "code",
   "execution_count": null,
   "metadata": {},
   "outputs": [],
   "source": [
    "contact_map = msm.contact_map(molecular_system,\n",
    "                              groups_of_atoms_1=atoms_in_residues_chain_0, group_behavior_1='geometric_center',\n",
    "                              groups_of_atoms_2=atoms_in_residues_chain_1, group_behavior_2='geometric_center',\n",
    "                              threshold=1.2*unit.nanometers)"
   ]
  },
  {
   "cell_type": "code",
   "execution_count": null,
   "metadata": {},
   "outputs": [],
   "source": [
    "plt.imshow(contact_map[0], cmap='Greys', origin='lower')\n",
    "plt.show()"
   ]
  }
 ],
 "metadata": {
  "kernelspec": {
   "display_name": "Python 3",
   "language": "python",
   "name": "python3"
  },
  "language_info": {
   "codemirror_mode": {
    "name": "ipython",
    "version": 3
   },
   "file_extension": ".py",
   "mimetype": "text/x-python",
   "name": "python",
   "nbconvert_exporter": "python",
   "pygments_lexer": "ipython3",
   "version": "3.7.9"
  }
 },
 "nbformat": 4,
 "nbformat_minor": 4
}
