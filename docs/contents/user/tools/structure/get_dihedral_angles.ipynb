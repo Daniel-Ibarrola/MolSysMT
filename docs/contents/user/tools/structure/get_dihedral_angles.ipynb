{
 "cells": [
  {
   "cell_type": "code",
   "execution_count": 1,
   "metadata": {},
   "outputs": [],
   "source": [
    "%load_ext autoreload\n",
    "%autoreload 2"
   ]
  },
  {
   "cell_type": "code",
   "execution_count": 2,
   "metadata": {},
   "outputs": [
    {
     "data": {
      "application/vnd.jupyter.widget-view+json": {
       "model_id": "f6ee64b6c48a43298f1ad61c2ea83a37",
       "version_major": 2,
       "version_minor": 0
      },
      "text/plain": []
     },
     "metadata": {},
     "output_type": "display_data"
    }
   ],
   "source": [
    "import molsysmt as msm"
   ]
  },
  {
   "cell_type": "markdown",
   "metadata": {},
   "source": [
    "# Get dihedral angles"
   ]
  },
  {
   "cell_type": "markdown",
   "metadata": {},
   "source": [
    "## How to get any dihedral angle"
   ]
  },
  {
   "cell_type": "markdown",
   "metadata": {},
   "source": [
    "Lets load a molecular systems to illustrate how MolSysMT works with the dihedral angles:"
   ]
  },
  {
   "cell_type": "code",
   "execution_count": 3,
   "metadata": {},
   "outputs": [],
   "source": [
    "molecular_system = msm.convert(msm.demo['Met-enkephalin']['vacuum.msmpk'], to_form='molsysmt.MolSys')"
   ]
  },
  {
   "cell_type": "code",
   "execution_count": 4,
   "metadata": {},
   "outputs": [
    {
     "data": {
      "text/html": [
       "<style type=\"text/css\">\n",
       "</style>\n",
       "<table id=\"T_05463\">\n",
       "  <thead>\n",
       "    <tr>\n",
       "      <th id=\"T_05463_level0_col0\" class=\"col_heading level0 col0\" >form</th>\n",
       "      <th id=\"T_05463_level0_col1\" class=\"col_heading level0 col1\" >n_atoms</th>\n",
       "      <th id=\"T_05463_level0_col2\" class=\"col_heading level0 col2\" >n_groups</th>\n",
       "      <th id=\"T_05463_level0_col3\" class=\"col_heading level0 col3\" >n_components</th>\n",
       "      <th id=\"T_05463_level0_col4\" class=\"col_heading level0 col4\" >n_chains</th>\n",
       "      <th id=\"T_05463_level0_col5\" class=\"col_heading level0 col5\" >n_molecules</th>\n",
       "      <th id=\"T_05463_level0_col6\" class=\"col_heading level0 col6\" >n_entities</th>\n",
       "      <th id=\"T_05463_level0_col7\" class=\"col_heading level0 col7\" >n_peptides</th>\n",
       "      <th id=\"T_05463_level0_col8\" class=\"col_heading level0 col8\" >n_structures</th>\n",
       "    </tr>\n",
       "  </thead>\n",
       "  <tbody>\n",
       "    <tr>\n",
       "      <td id=\"T_05463_row0_col0\" class=\"data row0 col0\" >molsysmt.MolSys</td>\n",
       "      <td id=\"T_05463_row0_col1\" class=\"data row0 col1\" >72</td>\n",
       "      <td id=\"T_05463_row0_col2\" class=\"data row0 col2\" >5</td>\n",
       "      <td id=\"T_05463_row0_col3\" class=\"data row0 col3\" >1</td>\n",
       "      <td id=\"T_05463_row0_col4\" class=\"data row0 col4\" >1</td>\n",
       "      <td id=\"T_05463_row0_col5\" class=\"data row0 col5\" >1</td>\n",
       "      <td id=\"T_05463_row0_col6\" class=\"data row0 col6\" >1</td>\n",
       "      <td id=\"T_05463_row0_col7\" class=\"data row0 col7\" >1</td>\n",
       "      <td id=\"T_05463_row0_col8\" class=\"data row0 col8\" >1</td>\n",
       "    </tr>\n",
       "  </tbody>\n",
       "</table>\n"
      ],
      "text/plain": [
       "<pandas.io.formats.style.Styler at 0x7f71d79fc820>"
      ]
     },
     "execution_count": 4,
     "metadata": {},
     "output_type": "execute_result"
    }
   ],
   "source": [
    "msm.info(molecular_system)"
   ]
  },
  {
   "cell_type": "code",
   "execution_count": 5,
   "metadata": {},
   "outputs": [
    {
     "data": {
      "application/vnd.jupyter.widget-view+json": {
       "model_id": "a622e12d8cb6482fbd30767e0b5b5964",
       "version_major": 2,
       "version_minor": 0
      },
      "text/plain": [
       "NGLWidget()"
      ]
     },
     "metadata": {},
     "output_type": "display_data"
    }
   ],
   "source": [
    "view = msm.view(molecular_system)\n",
    "view.clear()\n",
    "view.add_ball_and_stick('all')\n",
    "view"
   ]
  },
  {
   "cell_type": "markdown",
   "metadata": {},
   "source": [
    "A dihedral angles is defined by three vectors $\\vec{O_1E_1}$, $\\vec{O_2E_2}$ y $\\vec{O_3E_3}$, where $O_i$ and $E_i$ are the origin and end points of vector $i$. In molecular physics, a dihedral angle is a degree of freedom defined by three consecutive covalent bonds $\\vec{O_1O_2}$, $\\vec{O_2O_3}$, $\\vec{O_3E_3}$ where in this context $O_1$, $O_2$, $O_3$ and $E_3$ are the position of the atoms defining the covalent chain. Thus, before showing how the dihedral angles are computed with `molsysmt.dihedral_angles`, lets have a look to the section 'How to get the covalent chains' where the methods `molsysmt.covalent_chains` and `molsysmt.covalent_dihedral_quartets` are introduced.\n",
    "\n",
    "Lets first get all 4 atoms sequences in our molecular system covalently bound with the following names and order: C-N-CA-CB."
   ]
  },
  {
   "cell_type": "code",
   "execution_count": 6,
   "metadata": {},
   "outputs": [],
   "source": [
    "covalent_chains = msm.topology.get_covalent_chains(molecular_system, chain=['atom_name==\"C\"', 'atom_name==\"N\"',\n",
    "                                                               'atom_name==\"CA\"', 'atom_name==\"C\"'])"
   ]
  },
  {
   "cell_type": "code",
   "execution_count": 7,
   "metadata": {},
   "outputs": [
    {
     "data": {
      "text/plain": [
       "array([[19, 21, 23, 26],\n",
       "       [26, 28, 30, 33],\n",
       "       [33, 35, 37, 53],\n",
       "       [53, 55, 57, 70]])"
      ]
     },
     "execution_count": 7,
     "metadata": {},
     "output_type": "execute_result"
    }
   ],
   "source": [
    "covalent_chains"
   ]
  },
  {
   "cell_type": "markdown",
   "metadata": {},
   "source": [
    "Lets have a look to the third C-N-CA-C atoms chain found in our molecular system: "
   ]
  },
  {
   "cell_type": "code",
   "execution_count": 8,
   "metadata": {},
   "outputs": [
    {
     "data": {
      "application/vnd.jupyter.widget-view+json": {
       "model_id": "83280b3b8fba463ab9d56c2766559f9c",
       "version_major": 2,
       "version_minor": 0
      },
      "text/plain": [
       "NGLWidget()"
      ]
     },
     "metadata": {},
     "output_type": "display_data"
    }
   ],
   "source": [
    "view = msm.view(molecular_system, viewer='NGLView')\n",
    "view.clear()\n",
    "selection_quartet = msm.select(molecular_system, selection=covalent_chains[2], to_syntax='NGLView')\n",
    "view.add_ball_and_stick('all', color='white')\n",
    "view.add_ball_and_stick(selection_quartet, color='orange')\n",
    "view"
   ]
  },
  {
   "cell_type": "markdown",
   "metadata": {},
   "source": [
    "The dihedral angle defined by the three consecutive vectors made by these atoms can be calculated as: "
   ]
  },
  {
   "cell_type": "code",
   "execution_count": 9,
   "metadata": {},
   "outputs": [],
   "source": [
    "dihedral_angles = msm.structure.get_dihedral_angles(molecular_system, quartets=covalent_chains[2])"
   ]
  },
  {
   "cell_type": "code",
   "execution_count": 10,
   "metadata": {},
   "outputs": [
    {
     "data": {
      "text/html": [
       "<table><tbody><tr><th>Magnitude</th><td style='text-align:left;'><pre>[[-179.99976414511787]]</pre></td></tr><tr><th>Units</th><td style='text-align:left;'>degree</td></tr></tbody></table>"
      ],
      "text/latex": [
       "$\\begin{pmatrix}-179.99976414511787\\end{pmatrix}\\ \\mathrm{degree}$"
      ],
      "text/plain": [
       "array([[-179.99976415]]) <Unit('degree')>"
      ]
     },
     "execution_count": 10,
     "metadata": {},
     "output_type": "execute_result"
    }
   ],
   "source": [
    "dihedral_angles"
   ]
  },
  {
   "cell_type": "markdown",
   "metadata": {},
   "source": [
    "The method `molsysmt.covalent_chains` needs as input argument the atom names defining the dihedral angle, but you probably don't remember how $\\phi$ or $\\psi$ are defined. To keep it simple, MolSysMT includes a specific method named `molsysmt.covalent_dihedral_quartets` that accepts dihedral angles names as input argument:"
   ]
  },
  {
   "cell_type": "code",
   "execution_count": 11,
   "metadata": {},
   "outputs": [],
   "source": [
    "covalent_chains = msm.topology.get_covalent_dihedral_quartets(molecular_system, dihedral_angle='phi')"
   ]
  },
  {
   "cell_type": "code",
   "execution_count": 12,
   "metadata": {},
   "outputs": [
    {
     "data": {
      "text/plain": [
       "array([[19, 21, 23, 26],\n",
       "       [26, 28, 30, 33],\n",
       "       [33, 35, 37, 53],\n",
       "       [53, 55, 57, 70]])"
      ]
     },
     "execution_count": 12,
     "metadata": {},
     "output_type": "execute_result"
    }
   ],
   "source": [
    "covalent_chains"
   ]
  },
  {
   "cell_type": "markdown",
   "metadata": {},
   "source": [
    "The input argument 'quartets' accepts a list of atoms quartets to compute the corresponding dihedral angles:"
   ]
  },
  {
   "cell_type": "code",
   "execution_count": 13,
   "metadata": {},
   "outputs": [],
   "source": [
    "dihedral_angles = msm.structure.get_dihedral_angles(molecular_system,\n",
    "                                          quartets=covalent_chains)"
   ]
  },
  {
   "cell_type": "code",
   "execution_count": 14,
   "metadata": {},
   "outputs": [
    {
     "data": {
      "text/html": [
       "<table><tbody><tr><th>Magnitude</th><td style='text-align:left;'><pre>[[-179.9997655021573 -179.99976354909245 -179.99976414511787<br>  -179.99976564990357]]</pre></td></tr><tr><th>Units</th><td style='text-align:left;'>degree</td></tr></tbody></table>"
      ],
      "text/latex": [
       "$\\begin{pmatrix}-179.9997655021573 & -179.99976354909245 & -179.99976414511787 & -179.99976564990357\\end{pmatrix}\\ \\mathrm{degree}$"
      ],
      "text/plain": [
       "array([[-179.9997655 , -179.99976355, -179.99976415, -179.99976565]]) <Unit('degree')>"
      ]
     },
     "execution_count": 14,
     "metadata": {},
     "output_type": "execute_result"
    }
   ],
   "source": [
    "dihedral_angles"
   ]
  },
  {
   "cell_type": "markdown",
   "metadata": {},
   "source": [
    "The output object is a numpy array with shape: (n_frames, n_angles). As it can be checked in XXX, angles in MolSysMT are expressed in degrees."
   ]
  },
  {
   "cell_type": "code",
   "execution_count": 15,
   "metadata": {},
   "outputs": [
    {
     "data": {
      "text/plain": [
       "(1, 4)"
      ]
     },
     "execution_count": 15,
     "metadata": {},
     "output_type": "execute_result"
    }
   ],
   "source": [
    "dihedral_angles.shape"
   ]
  },
  {
   "cell_type": "markdown",
   "metadata": {},
   "source": [
    "Lets add another molecular system to see the result when multiple frames are present:"
   ]
  },
  {
   "cell_type": "code",
   "execution_count": 16,
   "metadata": {},
   "outputs": [
    {
     "data": {
      "text/html": [
       "<style type=\"text/css\">\n",
       "</style>\n",
       "<table id=\"T_0f8fd\">\n",
       "  <thead>\n",
       "    <tr>\n",
       "      <th id=\"T_0f8fd_level0_col0\" class=\"col_heading level0 col0\" >form</th>\n",
       "      <th id=\"T_0f8fd_level0_col1\" class=\"col_heading level0 col1\" >n_atoms</th>\n",
       "      <th id=\"T_0f8fd_level0_col2\" class=\"col_heading level0 col2\" >n_groups</th>\n",
       "      <th id=\"T_0f8fd_level0_col3\" class=\"col_heading level0 col3\" >n_components</th>\n",
       "      <th id=\"T_0f8fd_level0_col4\" class=\"col_heading level0 col4\" >n_chains</th>\n",
       "      <th id=\"T_0f8fd_level0_col5\" class=\"col_heading level0 col5\" >n_molecules</th>\n",
       "      <th id=\"T_0f8fd_level0_col6\" class=\"col_heading level0 col6\" >n_entities</th>\n",
       "      <th id=\"T_0f8fd_level0_col7\" class=\"col_heading level0 col7\" >n_peptides</th>\n",
       "      <th id=\"T_0f8fd_level0_col8\" class=\"col_heading level0 col8\" >n_structures</th>\n",
       "    </tr>\n",
       "  </thead>\n",
       "  <tbody>\n",
       "    <tr>\n",
       "      <td id=\"T_0f8fd_row0_col0\" class=\"data row0 col0\" >molsysmt.MolSys</td>\n",
       "      <td id=\"T_0f8fd_row0_col1\" class=\"data row0 col1\" >62</td>\n",
       "      <td id=\"T_0f8fd_row0_col2\" class=\"data row0 col2\" >7</td>\n",
       "      <td id=\"T_0f8fd_row0_col3\" class=\"data row0 col3\" >1</td>\n",
       "      <td id=\"T_0f8fd_row0_col4\" class=\"data row0 col4\" >1</td>\n",
       "      <td id=\"T_0f8fd_row0_col5\" class=\"data row0 col5\" >1</td>\n",
       "      <td id=\"T_0f8fd_row0_col6\" class=\"data row0 col6\" >1</td>\n",
       "      <td id=\"T_0f8fd_row0_col7\" class=\"data row0 col7\" >1</td>\n",
       "      <td id=\"T_0f8fd_row0_col8\" class=\"data row0 col8\" >5000</td>\n",
       "    </tr>\n",
       "  </tbody>\n",
       "</table>\n"
      ],
      "text/plain": [
       "<pandas.io.formats.style.Styler at 0x7f71d26716d0>"
      ]
     },
     "execution_count": 16,
     "metadata": {},
     "output_type": "execute_result"
    }
   ],
   "source": [
    "traj_file = msm.demo['pentalanine']['traj.h5']\n",
    "molecular_system = msm.convert(traj_file, to_form='molsysmt.MolSys')\n",
    "msm.info(molecular_system)"
   ]
  },
  {
   "cell_type": "code",
   "execution_count": 17,
   "metadata": {},
   "outputs": [],
   "source": [
    "covalent_chains = msm.topology.get_covalent_dihedral_quartets(molecular_system, dihedral_angle=\"phi-psi\",\n",
    "                                                 selection='group_index==[3,4]')"
   ]
  },
  {
   "cell_type": "code",
   "execution_count": 18,
   "metadata": {},
   "outputs": [
    {
     "data": {
      "text/plain": [
       "(2, 4)"
      ]
     },
     "execution_count": 18,
     "metadata": {},
     "output_type": "execute_result"
    }
   ],
   "source": [
    "covalent_chains.shape"
   ]
  },
  {
   "cell_type": "code",
   "execution_count": 19,
   "metadata": {},
   "outputs": [],
   "source": [
    "dihedral_angles = msm.structure.get_dihedral_angles(molecular_system, quartets=covalent_chains)"
   ]
  },
  {
   "cell_type": "code",
   "execution_count": 20,
   "metadata": {},
   "outputs": [
    {
     "data": {
      "text/plain": [
       "(5000, 2)"
      ]
     },
     "execution_count": 20,
     "metadata": {},
     "output_type": "execute_result"
    }
   ],
   "source": [
    "dihedral_angles.shape"
   ]
  },
  {
   "cell_type": "markdown",
   "metadata": {},
   "source": [
    "We can also compute the dihedral angles for a specific set of frames:"
   ]
  },
  {
   "cell_type": "code",
   "execution_count": 22,
   "metadata": {},
   "outputs": [],
   "source": [
    "dihedral_angles = msm.structure.get_dihedral_angles(molecular_system, quartets=covalent_chains,\n",
    "                                          structure_indices=range(1000))"
   ]
  },
  {
   "cell_type": "code",
   "execution_count": 23,
   "metadata": {},
   "outputs": [
    {
     "data": {
      "text/plain": [
       "(1000, 2)"
      ]
     },
     "execution_count": 23,
     "metadata": {},
     "output_type": "execute_result"
    }
   ],
   "source": [
    "dihedral_angles.shape"
   ]
  },
  {
   "cell_type": "markdown",
   "metadata": {},
   "source": [
    "Having the atoms quartets is very convenient if the method is going to be repeated multiple times. If, however, the method is going to be applied just once, the name of the dihedral angles can be introduced as the value of the input argument `dihedral_angle`:"
   ]
  },
  {
   "cell_type": "code",
   "execution_count": 24,
   "metadata": {},
   "outputs": [],
   "source": [
    "phi_angles = msm.structure.get_dihedral_angles(molecular_system, dihedral_angle='phi')"
   ]
  },
  {
   "cell_type": "code",
   "execution_count": 25,
   "metadata": {},
   "outputs": [
    {
     "data": {
      "text/plain": [
       "(5000, 5)"
      ]
     },
     "execution_count": 25,
     "metadata": {},
     "output_type": "execute_result"
    }
   ],
   "source": [
    "phi_angles.shape"
   ]
  },
  {
   "cell_type": "markdown",
   "metadata": {},
   "source": [
    "As well as the method `molsysmt.covalent_dihedral_quartets`, `molsysmt.get_dihedral_angles` accepts the value 'all' in its input argument `dihedral_angle`:"
   ]
  },
  {
   "cell_type": "code",
   "execution_count": 26,
   "metadata": {},
   "outputs": [],
   "source": [
    "all_angles = msm.structure.get_dihedral_angles(molecular_system, dihedral_angle='all',\n",
    "                                    selection='group_index==[1,2,3]')"
   ]
  },
  {
   "cell_type": "code",
   "execution_count": 27,
   "metadata": {},
   "outputs": [
    {
     "data": {
      "text/plain": [
       "(5000, 6)"
      ]
     },
     "execution_count": 27,
     "metadata": {},
     "output_type": "execute_result"
    }
   ],
   "source": [
    "all_angles.shape"
   ]
  },
  {
   "cell_type": "code",
   "execution_count": null,
   "metadata": {},
   "outputs": [],
   "source": []
  }
 ],
 "metadata": {
  "kernelspec": {
   "display_name": "Python 3 (ipykernel)",
   "language": "python",
   "name": "python3"
  },
  "language_info": {
   "codemirror_mode": {
    "name": "ipython",
    "version": 3
   },
   "file_extension": ".py",
   "mimetype": "text/x-python",
   "name": "python",
   "nbconvert_exporter": "python",
   "pygments_lexer": "ipython3",
   "version": "3.9.13"
  }
 },
 "nbformat": 4,
 "nbformat_minor": 4
}
