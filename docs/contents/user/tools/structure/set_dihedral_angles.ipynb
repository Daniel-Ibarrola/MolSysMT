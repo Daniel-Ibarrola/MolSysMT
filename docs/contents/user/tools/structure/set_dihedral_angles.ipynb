{
 "cells": [
  {
   "cell_type": "code",
   "execution_count": 1,
   "metadata": {},
   "outputs": [],
   "source": [
    "%load_ext autoreload\n",
    "%autoreload 2"
   ]
  },
  {
   "cell_type": "code",
   "execution_count": 2,
   "metadata": {},
   "outputs": [
    {
     "data": {
      "application/vnd.jupyter.widget-view+json": {
       "model_id": "81415cda972847e0b5615159bb4f1a55",
       "version_major": 2,
       "version_minor": 0
      },
      "text/plain": []
     },
     "metadata": {},
     "output_type": "display_data"
    }
   ],
   "source": [
    "import molsysmt as msm"
   ]
  },
  {
   "cell_type": "markdown",
   "metadata": {},
   "source": [
    "## Set dihedral angles\n",
    "\n",
    "The geometry of a peptide or protein can be changed setting new values to a given dihedral angle (or a set of them). Lets see in the following lines how this can be done with the help of the method `molsysmt.set_dihedral_angles`. First of all a demo molecular system is loaded to play with it:"
   ]
  },
  {
   "cell_type": "code",
   "execution_count": 3,
   "metadata": {},
   "outputs": [],
   "source": [
    "molecular_system = msm.demo['Met-enkephalin']['vacuum.msmpk']\n",
    "molecular_system = msm.convert(molecular_system)"
   ]
  },
  {
   "cell_type": "code",
   "execution_count": 4,
   "metadata": {},
   "outputs": [
    {
     "data": {
      "text/html": [
       "<style type=\"text/css\">\n",
       "</style>\n",
       "<table id=\"T_a727b\">\n",
       "  <thead>\n",
       "    <tr>\n",
       "      <th id=\"T_a727b_level0_col0\" class=\"col_heading level0 col0\" >form</th>\n",
       "      <th id=\"T_a727b_level0_col1\" class=\"col_heading level0 col1\" >n_atoms</th>\n",
       "      <th id=\"T_a727b_level0_col2\" class=\"col_heading level0 col2\" >n_groups</th>\n",
       "      <th id=\"T_a727b_level0_col3\" class=\"col_heading level0 col3\" >n_components</th>\n",
       "      <th id=\"T_a727b_level0_col4\" class=\"col_heading level0 col4\" >n_chains</th>\n",
       "      <th id=\"T_a727b_level0_col5\" class=\"col_heading level0 col5\" >n_molecules</th>\n",
       "      <th id=\"T_a727b_level0_col6\" class=\"col_heading level0 col6\" >n_entities</th>\n",
       "      <th id=\"T_a727b_level0_col7\" class=\"col_heading level0 col7\" >n_peptides</th>\n",
       "      <th id=\"T_a727b_level0_col8\" class=\"col_heading level0 col8\" >n_structures</th>\n",
       "    </tr>\n",
       "  </thead>\n",
       "  <tbody>\n",
       "    <tr>\n",
       "      <td id=\"T_a727b_row0_col0\" class=\"data row0 col0\" >molsysmt.MolSys</td>\n",
       "      <td id=\"T_a727b_row0_col1\" class=\"data row0 col1\" >72</td>\n",
       "      <td id=\"T_a727b_row0_col2\" class=\"data row0 col2\" >5</td>\n",
       "      <td id=\"T_a727b_row0_col3\" class=\"data row0 col3\" >1</td>\n",
       "      <td id=\"T_a727b_row0_col4\" class=\"data row0 col4\" >1</td>\n",
       "      <td id=\"T_a727b_row0_col5\" class=\"data row0 col5\" >1</td>\n",
       "      <td id=\"T_a727b_row0_col6\" class=\"data row0 col6\" >1</td>\n",
       "      <td id=\"T_a727b_row0_col7\" class=\"data row0 col7\" >1</td>\n",
       "      <td id=\"T_a727b_row0_col8\" class=\"data row0 col8\" >1</td>\n",
       "    </tr>\n",
       "  </tbody>\n",
       "</table>\n"
      ],
      "text/plain": [
       "<pandas.io.formats.style.Styler at 0x7fe6a4bdbac0>"
      ]
     },
     "execution_count": 4,
     "metadata": {},
     "output_type": "execute_result"
    }
   ],
   "source": [
    "msm.info(molecular_system)"
   ]
  },
  {
   "cell_type": "markdown",
   "metadata": {},
   "source": [
    "Lets get, before changing its value, the second $\\phi$ angle in the current conformation of the system:"
   ]
  },
  {
   "cell_type": "code",
   "execution_count": 5,
   "metadata": {},
   "outputs": [],
   "source": [
    "phi_chains = msm.topology.get_covalent_dihedral_quartets(molecular_system, dihedral_angle='phi')"
   ]
  },
  {
   "cell_type": "code",
   "execution_count": 6,
   "metadata": {},
   "outputs": [
    {
     "data": {
      "text/html": [
       "<table><tbody><tr><th>Magnitude</th><td style='text-align:left;'><pre>[[-179.99976414511787]]</pre></td></tr><tr><th>Units</th><td style='text-align:left;'>degree</td></tr></tbody></table>"
      ],
      "text/latex": [
       "$\\begin{pmatrix}-179.99976414511787\\end{pmatrix}\\ \\mathrm{degree}$"
      ],
      "text/plain": [
       "array([[-179.99976415]]) <Unit('degree')>"
      ]
     },
     "execution_count": 6,
     "metadata": {},
     "output_type": "execute_result"
    }
   ],
   "source": [
    "msm.structure.get_dihedral_angles(molecular_system, quartets=phi_chains[2])"
   ]
  },
  {
   "cell_type": "code",
   "execution_count": 7,
   "metadata": {},
   "outputs": [
    {
     "data": {
      "application/vnd.jupyter.widget-view+json": {
       "model_id": "fd13b14df6ef464a99fecac7ede638a3",
       "version_major": 2,
       "version_minor": 0
      },
      "text/plain": [
       "NGLWidget()"
      ]
     },
     "metadata": {},
     "output_type": "display_data"
    }
   ],
   "source": [
    "view = msm.view(molecular_system, viewer='NGLView')\n",
    "view.clear()\n",
    "selection_quartet = msm.select(molecular_system, selection=phi_chains[2], to_syntax='NGLView')\n",
    "view.add_ball_and_stick('all', color='white')\n",
    "view.add_ball_and_stick(selection_quartet, color='orange')\n",
    "view"
   ]
  },
  {
   "cell_type": "markdown",
   "metadata": {},
   "source": [
    "Now we can rotate this angle in order to have the desired value:"
   ]
  },
  {
   "cell_type": "code",
   "execution_count": 8,
   "metadata": {},
   "outputs": [],
   "source": [
    "molecular_system = msm.structure.set_dihedral_angles(molecular_system, quartets=phi_chains[2],\n",
    "                                                     angles='0.0 degrees', pbc=False)"
   ]
  },
  {
   "cell_type": "code",
   "execution_count": 9,
   "metadata": {},
   "outputs": [
    {
     "data": {
      "text/html": [
       "<table><tbody><tr><th>Magnitude</th><td style='text-align:left;'><pre>[[-1.4787792923203154e-06]]</pre></td></tr><tr><th>Units</th><td style='text-align:left;'>degree</td></tr></tbody></table>"
      ],
      "text/latex": [
       "$\\begin{pmatrix}-1.4787792923203154\\times 10^{-6}\\end{pmatrix}\\ \\mathrm{degree}$"
      ],
      "text/plain": [
       "array([[-1.47877929e-06]]) <Unit('degree')>"
      ]
     },
     "execution_count": 9,
     "metadata": {},
     "output_type": "execute_result"
    }
   ],
   "source": [
    "msm.structure.get_dihedral_angles(molecular_system, quartets=phi_chains[2])"
   ]
  },
  {
   "cell_type": "code",
   "execution_count": 10,
   "metadata": {},
   "outputs": [
    {
     "data": {
      "application/vnd.jupyter.widget-view+json": {
       "model_id": "00349c8128e14143b43099c8db2accc8",
       "version_major": 2,
       "version_minor": 0
      },
      "text/plain": [
       "NGLWidget()"
      ]
     },
     "metadata": {},
     "output_type": "display_data"
    }
   ],
   "source": [
    "view = msm.view(molecular_system, viewer='NGLView')\n",
    "view.clear()\n",
    "selection_quartet = msm.select(molecular_system, selection=phi_chains[2], to_syntax='NGLView')\n",
    "view.add_ball_and_stick('all', color='white')\n",
    "view.add_ball_and_stick(selection_quartet, color='orange')\n",
    "view"
   ]
  },
  {
   "cell_type": "code",
   "execution_count": null,
   "metadata": {},
   "outputs": [],
   "source": [
    "view.render_image()"
   ]
  },
  {
   "cell_type": "code",
   "execution_count": null,
   "metadata": {},
   "outputs": [],
   "source": [
    "view._display_image()"
   ]
  },
  {
   "cell_type": "code",
   "execution_count": null,
   "metadata": {},
   "outputs": [],
   "source": []
  }
 ],
 "metadata": {
  "kernelspec": {
   "display_name": "Python 3 (ipykernel)",
   "language": "python",
   "name": "python3"
  },
  "language_info": {
   "codemirror_mode": {
    "name": "ipython",
    "version": 3
   },
   "file_extension": ".py",
   "mimetype": "text/x-python",
   "name": "python",
   "nbconvert_exporter": "python",
   "pygments_lexer": "ipython3",
   "version": "3.9.13"
  }
 },
 "nbformat": 4,
 "nbformat_minor": 4
}
