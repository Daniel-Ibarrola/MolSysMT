{
 "cells": [
  {
   "cell_type": "code",
   "execution_count": 1,
   "metadata": {},
   "outputs": [],
   "source": [
    "%load_ext autoreload\n",
    "%autoreload 2"
   ]
  },
  {
   "cell_type": "code",
   "execution_count": 2,
   "metadata": {},
   "outputs": [],
   "source": [
    "import numpy as np\n",
    "np.warnings.filterwarnings('ignore')"
   ]
  },
  {
   "cell_type": "code",
   "execution_count": 3,
   "metadata": {},
   "outputs": [
    {
     "data": {
      "application/vnd.jupyter.widget-view+json": {
       "model_id": "e119440152484466af8c8fec761d0fe2",
       "version_major": 2,
       "version_minor": 0
      },
      "text/plain": []
     },
     "metadata": {},
     "output_type": "display_data"
    }
   ],
   "source": [
    "import molsysmt as msm\n",
    "from molsysmt import puw\n",
    "import numpy as np\n",
    "import matplotlib.pyplot as plt"
   ]
  },
  {
   "cell_type": "markdown",
   "metadata": {},
   "source": [
    "# Get neighbors\n",
    "\n",
    "With the method `molsysmt.distance()` many questions about a molecular system can be answered. Two of the most common distance related questions are: what are the closest n atoms to a given one? or what are the atoms closest than a given distance threshold? MolSysMT includes a method to provide with this distances processing: `molsysmt.neighbors()`. \n",
    "\n",
    "### First closest neighbor atoms or groups\n",
    "\n",
    "There are two ways to compute distance neighbors. The closest n atoms to a given one can be obtained with the option `num_neighbors` or `threshold`. Lets show with a simple example how this first option works:"
   ]
  },
  {
   "cell_type": "code",
   "execution_count": 4,
   "metadata": {},
   "outputs": [],
   "source": [
    "molecular_system = msm.demo['pentalanine']['traj.h5']\n",
    "molecular_system = msm.convert(molecular_system, to_form='molsysmt.MolSys')"
   ]
  },
  {
   "cell_type": "code",
   "execution_count": 5,
   "metadata": {},
   "outputs": [
    {
     "data": {
      "text/html": [
       "<style type=\"text/css\">\n",
       "</style>\n",
       "<table id=\"T_ae51f_\">\n",
       "  <thead>\n",
       "    <tr>\n",
       "      <th class=\"col_heading level0 col0\" >form</th>\n",
       "      <th class=\"col_heading level0 col1\" >n_atoms</th>\n",
       "      <th class=\"col_heading level0 col2\" >n_groups</th>\n",
       "      <th class=\"col_heading level0 col3\" >n_components</th>\n",
       "      <th class=\"col_heading level0 col4\" >n_chains</th>\n",
       "      <th class=\"col_heading level0 col5\" >n_molecules</th>\n",
       "      <th class=\"col_heading level0 col6\" >n_entities</th>\n",
       "      <th class=\"col_heading level0 col7\" >n_peptides</th>\n",
       "      <th class=\"col_heading level0 col8\" >n_structures</th>\n",
       "    </tr>\n",
       "  </thead>\n",
       "  <tbody>\n",
       "    <tr>\n",
       "      <td id=\"T_ae51f_row0_col0\" class=\"data row0 col0\" >molsysmt.MolSys</td>\n",
       "      <td id=\"T_ae51f_row0_col1\" class=\"data row0 col1\" >62</td>\n",
       "      <td id=\"T_ae51f_row0_col2\" class=\"data row0 col2\" >7</td>\n",
       "      <td id=\"T_ae51f_row0_col3\" class=\"data row0 col3\" >1</td>\n",
       "      <td id=\"T_ae51f_row0_col4\" class=\"data row0 col4\" >1</td>\n",
       "      <td id=\"T_ae51f_row0_col5\" class=\"data row0 col5\" >1</td>\n",
       "      <td id=\"T_ae51f_row0_col6\" class=\"data row0 col6\" >1</td>\n",
       "      <td id=\"T_ae51f_row0_col7\" class=\"data row0 col7\" >1</td>\n",
       "      <td id=\"T_ae51f_row0_col8\" class=\"data row0 col8\" >5000</td>\n",
       "    </tr>\n",
       "  </tbody>\n",
       "</table>\n"
      ],
      "text/plain": [
       "<pandas.io.formats.style.Styler at 0x7fb84d4b0dd0>"
      ]
     },
     "execution_count": 5,
     "metadata": {},
     "output_type": "execute_result"
    }
   ],
   "source": [
    "msm.info(molecular_system)"
   ]
  },
  {
   "cell_type": "markdown",
   "metadata": {},
   "source": [
    "We can compute the closest 3 CA atoms to each CA atom of the molecular system:"
   ]
  },
  {
   "cell_type": "code",
   "execution_count": 6,
   "metadata": {},
   "outputs": [],
   "source": [
    "CA_atoms_list = msm.select(molecular_system, selection='atom_name==\"CA\"')"
   ]
  },
  {
   "cell_type": "code",
   "execution_count": 7,
   "metadata": {},
   "outputs": [],
   "source": [
    "neighbors, distances = msm.structure.get_neighbors(molecular_system, selection=CA_atoms_list, num_neighbors=3)"
   ]
  },
  {
   "cell_type": "markdown",
   "metadata": {},
   "source": [
    "Two objects are returned. A numpy array with the list of 3 neighbor atom indices per atom in `selection_1`, per frame:"
   ]
  },
  {
   "cell_type": "code",
   "execution_count": 8,
   "metadata": {},
   "outputs": [
    {
     "data": {
      "text/plain": [
       "(5000, 5, 3)"
      ]
     },
     "execution_count": 8,
     "metadata": {},
     "output_type": "execute_result"
    }
   ],
   "source": [
    "neighbors.shape"
   ]
  },
  {
   "cell_type": "markdown",
   "metadata": {},
   "source": [
    "And the corresponding distances:"
   ]
  },
  {
   "cell_type": "code",
   "execution_count": null,
   "metadata": {},
   "outputs": [],
   "source": [
    "distances.shape"
   ]
  },
  {
   "cell_type": "markdown",
   "metadata": {},
   "source": [
    "This way, the closest 3 atoms of the first CA atom at frame 2000-th are:"
   ]
  },
  {
   "cell_type": "code",
   "execution_count": null,
   "metadata": {},
   "outputs": [],
   "source": [
    "print(\"3 first neighbor CAs of atom {}-th at frame 0-th\".format(CA_atoms_list[0]))\n",
    "print(\"------------------------------------------\")\n",
    "\n",
    "for ii in range(3):\n",
    "    print(\"{}° neighbor is atom {}-th with distance: {}\".format(ii+1, CA_atoms_list[neighbors[2000,0,ii]], distances[2000,0,ii]))"
   ]
  },
  {
   "cell_type": "markdown",
   "metadata": {},
   "source": [
    "Lets see now the 4 closest atoms, any kind, to each CA atom of the molecular system:"
   ]
  },
  {
   "cell_type": "code",
   "execution_count": null,
   "metadata": {},
   "outputs": [],
   "source": [
    "neighbors, distances = msm.structure.get_neighbors(molecular_system, selection=CA_atoms_list, selection_2='all', num_neighbors=4)"
   ]
  },
  {
   "cell_type": "code",
   "execution_count": null,
   "metadata": {},
   "outputs": [],
   "source": [
    "print(\"4 first neighbors of atom {}-th at frame 2000-th\".format(CA_atoms_list[0]))\n",
    "print(\"------------------------------------------\")\n",
    "\n",
    "for ii in range(4):\n",
    "    print(\"{}° neighbor is atom {}-th with distance: {}\".format(ii+1, neighbors[2000,0,ii], distances[2000,0,ii]))"
   ]
  },
  {
   "cell_type": "markdown",
   "metadata": {},
   "source": [
    "Notice that, in this case, `msm.neighbors_list` is built to assume that is working with two different set of atoms since `selection`$\\neq$`selection_2`. Thats the reason why this time the first neighbor atom is the atom itself."
   ]
  },
  {
   "cell_type": "markdown",
   "metadata": {},
   "source": [
    "The method `msm.neighbors_list()` was built on top of `msm.distance()`, thus the input arguments are almost the same. If you already had a look to the section about atoms distance, you will be probably wonder if `msm.neighbors_list` can also work with atoms groups. Lets illustrate this case with the following cells:"
   ]
  },
  {
   "cell_type": "code",
   "execution_count": null,
   "metadata": {},
   "outputs": [],
   "source": [
    "molecular_system = msm.convert('1TCD', 'molsysmt.MolSys')"
   ]
  },
  {
   "cell_type": "code",
   "execution_count": null,
   "metadata": {},
   "outputs": [],
   "source": [
    "atoms_in_residues_chain_0 = msm.get(molecular_system, target='group',\n",
    "                                    selection=\"molecule_type=='protein' and chain_index==0\",\n",
    "                                    atom_index=True)\n",
    "atoms_in_residues_chain_1 = msm.get(molecular_system, target='group',\n",
    "                                    selection=\"molecule_type=='protein' and chain_index==1\",\n",
    "                                    atom_index=True)"
   ]
  },
  {
   "cell_type": "code",
   "execution_count": null,
   "metadata": {},
   "outputs": [],
   "source": [
    "print('Number of residues in chain 0:', len(atoms_in_residues_chain_0))\n",
    "print('Number of residues in chain 1:', len(atoms_in_residues_chain_1))"
   ]
  },
  {
   "cell_type": "code",
   "execution_count": null,
   "metadata": {},
   "outputs": [],
   "source": [
    "neighbors, distances = msm.structure.get_neighbors(molecular_system, groups_of_atoms=atoms_in_residues_chain_0,\n",
    "                                     group_behavior= 'geometric_center', num_neighbors=8)"
   ]
  },
  {
   "cell_type": "code",
   "execution_count": null,
   "metadata": {},
   "outputs": [],
   "source": [
    "print(neighbors.shape)"
   ]
  },
  {
   "cell_type": "code",
   "execution_count": null,
   "metadata": {},
   "outputs": [],
   "source": [
    "print(\"8 first group neighbors of the geometric center of residue 0-th\")\n",
    "print(\"------------------------------------------\")\n",
    "\n",
    "for ii in range(8):\n",
    "    print(\"{}° neighbor is group {}-th with distance: {}\".format(ii+1, neighbors[0,0,ii], distances[0,0,ii]))"
   ]
  },
  {
   "cell_type": "markdown",
   "metadata": {},
   "source": [
    "The list groups neighbors can be computed also from two molecular systems or two list of groups:"
   ]
  },
  {
   "cell_type": "code",
   "execution_count": null,
   "metadata": {},
   "outputs": [],
   "source": [
    "neighbors, distances = msm.structure.get_neighbors(molecular_system,\n",
    "                                     groups_of_atoms=atoms_in_residues_chain_0,\n",
    "                                     group_behavior= 'geometric_center',\n",
    "                                     groups_of_atoms_2=atoms_in_residues_chain_1,\n",
    "                                     group_behavior_2= 'geometric_center',\n",
    "                                     num_neighbors=8)"
   ]
  },
  {
   "cell_type": "code",
   "execution_count": null,
   "metadata": {},
   "outputs": [],
   "source": [
    "print(\"8 first group neighbors from chain 1 of the geometric center of residue 0-th from chain 0\")\n",
    "print(\"------------------------------------------\")\n",
    "\n",
    "for ii in range(8):\n",
    "    print(\"{}° neighbor is group {}-th with distance: {}\".format(ii+1, neighbors[0,0,ii], distances[0,0,ii]))"
   ]
  },
  {
   "cell_type": "markdown",
   "metadata": {},
   "source": [
    "The method `molsysmt.neighbors_lists()` can also mix atoms and atoms groups. Lets, as last example, get the closest geometric centers of residues to a specific atom:"
   ]
  },
  {
   "cell_type": "code",
   "execution_count": null,
   "metadata": {},
   "outputs": [],
   "source": [
    "neighbors, distances = msm.structure.get_neighbors(molecular_system, selection=100,\n",
    "                                     groups_of_atoms_2=atoms_in_residues_chain_1,\n",
    "                                     group_behavior_2= 'geometric_center',\n",
    "                                     num_neighbors=4)"
   ]
  },
  {
   "cell_type": "code",
   "execution_count": null,
   "metadata": {},
   "outputs": [],
   "source": [
    "print(\"4 closest geometric centers of residues of chain 1 from atom 100-th\")\n",
    "print(\"-------------------------------------------------------------------\")\n",
    "\n",
    "for ii in range(4):\n",
    "    print(\"{}° closest neighbor is group {}-th with distance: {}\".format(ii+1, neighbors[0,0,ii], distances[0,0,ii]))"
   ]
  },
  {
   "cell_type": "markdown",
   "metadata": {},
   "source": [
    "### Closest neighbor atoms or groups below a distance threshold\n",
    "\n",
    "In addition to the input argument `num_neighbors`, `molsysmt.neighbors()` includes the option of getting those neighbors with a distance below a given threshols: `threshold`. Lets get for the following molecular system the list of CA atoms closest than 8 $\\unicode{xC5}$:"
   ]
  },
  {
   "cell_type": "code",
   "execution_count": null,
   "metadata": {},
   "outputs": [],
   "source": [
    "molecular_system = msm.convert('1TCD', 'molsysmt.MolSys')"
   ]
  },
  {
   "cell_type": "code",
   "execution_count": null,
   "metadata": {},
   "outputs": [],
   "source": [
    "CA_atoms = msm.select(molecular_system, selection='atom_name==\"CA\"')"
   ]
  },
  {
   "cell_type": "code",
   "execution_count": null,
   "metadata": {},
   "outputs": [],
   "source": [
    "neighbors, distances = msm.structure.get_neighbors(molecular_system, selection=CA_atoms, threshold='8 angstroms')"
   ]
  },
  {
   "cell_type": "markdown",
   "metadata": {},
   "source": [
    "In this example, each CA atom has a different number of neighbors. This time the output is not a tensor ranked 3, but a matrix where the elements are not numbers but list of neighbors:"
   ]
  },
  {
   "cell_type": "code",
   "execution_count": null,
   "metadata": {},
   "outputs": [],
   "source": [
    "print(neighbors.shape)"
   ]
  },
  {
   "cell_type": "code",
   "execution_count": null,
   "metadata": {},
   "outputs": [],
   "source": [
    "print(distances.shape)"
   ]
  },
  {
   "cell_type": "markdown",
   "metadata": {},
   "source": [
    "The molecular system had 1 single frame and 497 CA atoms, lets see now the number of CA neighbors of the first 10 CA atoms in our list:"
   ]
  },
  {
   "cell_type": "code",
   "execution_count": null,
   "metadata": {},
   "outputs": [],
   "source": [
    "for ii in range(10):\n",
    "    print(\"The {}° CA has {} CA neighbors.\".format(ii+1,len(neighbors[0,ii])))"
   ]
  },
  {
   "cell_type": "markdown",
   "metadata": {},
   "source": [
    "Lets print out the neighbors of the 20-th CA in the list:"
   ]
  },
  {
   "cell_type": "code",
   "execution_count": null,
   "metadata": {},
   "outputs": [],
   "source": [
    "for ii,dd in zip(neighbors[0,20], distances[0,20]):\n",
    "    print(\"The {}-th CA is {} away from the 20-th CA\".format(ii,dd))"
   ]
  },
  {
   "cell_type": "markdown",
   "metadata": {},
   "source": [
    "As well as for the input argument `num_neighbors` -previous subsection-, the neighbors closest than a given threshold can also be computed between atoms groups or atoms and atoms groups. Lets show a example where the neighbors of the residues of chain 0 in our molecular system are defined as those residues of chain 1 closest the 1.2 nm:"
   ]
  },
  {
   "cell_type": "code",
   "execution_count": null,
   "metadata": {},
   "outputs": [],
   "source": [
    "atoms_in_residues_chain_0 = msm.get(molecular_system, target='group',\n",
    "                                    selection=\"molecule_type=='protein' and chain_index==0\",\n",
    "                                    atom_index=True)\n",
    "atoms_in_residues_chain_1 = msm.get(molecular_system, target='group',\n",
    "                                    selection=\"molecule_type=='protein' and chain_index==1\",\n",
    "                                    atom_index=True)"
   ]
  },
  {
   "cell_type": "code",
   "execution_count": null,
   "metadata": {},
   "outputs": [],
   "source": [
    "neighbors, distances = msm.structure.get_neighbors(molecular_system,\n",
    "                                     groups_of_atoms= atoms_in_residues_chain_0,\n",
    "                                     group_behavior='geometric_center',\n",
    "                                     groups_of_atoms_2= atoms_in_residues_chain_1,\n",
    "                                     group_behavior_2='geometric_center',\n",
    "                                     threshold=1.2*puw.unit('nanometers'))"
   ]
  },
  {
   "cell_type": "markdown",
   "metadata": {},
   "source": [
    "Lets print out the number of contacts in chain 1 per residue of chain 0, if any:"
   ]
  },
  {
   "cell_type": "code",
   "execution_count": null,
   "metadata": {},
   "outputs": [],
   "source": [
    "for ii in range(len(atoms_in_residues_chain_0)):\n",
    "    n_contacts = len(neighbors[0,ii])\n",
    "    if n_contacts >0:\n",
    "        print('The {}-th residue of chain 0 has {} residue contacts in chain 1'.format(ii,n_contacts))"
   ]
  },
  {
   "cell_type": "markdown",
   "metadata": {},
   "source": [
    "This information is usually represented as a contact map. If this is what you are looking for, you will probably find the next section more appropriate to your needs."
   ]
  }
 ],
 "metadata": {
  "kernelspec": {
   "display_name": "Python 3 (ipykernel)",
   "language": "python",
   "name": "python3"
  },
  "language_info": {
   "codemirror_mode": {
    "name": "ipython",
    "version": 3
   },
   "file_extension": ".py",
   "mimetype": "text/x-python",
   "name": "python",
   "nbconvert_exporter": "python",
   "pygments_lexer": "ipython3",
   "version": "3.7.12"
  }
 },
 "nbformat": 4,
 "nbformat_minor": 4
}
