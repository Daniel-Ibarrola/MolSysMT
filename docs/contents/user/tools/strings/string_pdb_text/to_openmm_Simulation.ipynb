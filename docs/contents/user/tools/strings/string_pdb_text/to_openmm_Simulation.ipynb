{
 "cells": [
  {
   "cell_type": "markdown",
   "id": "4c193e17-112f-4859-bf95-f45256ee02d7",
   "metadata": {},
   "source": [
    "# To openmm.Simulation"
   ]
  },
  {
   "cell_type": "code",
   "execution_count": 2,
   "id": "c45f3a38-4f82-490d-8c78-9fd207739961",
   "metadata": {},
   "outputs": [
    {
     "data": {
      "application/vnd.jupyter.widget-view+json": {
       "model_id": "bde9fcc63bfe4f449ce8ebab44a4802d",
       "version_major": 2,
       "version_minor": 0
      },
      "text/plain": []
     },
     "metadata": {},
     "output_type": "display_data"
    }
   ],
   "source": [
    "from molsysmt.tools import string_pdb_text"
   ]
  },
  {
   "cell_type": "code",
   "execution_count": 3,
   "id": "d2f4717a-2926-43c4-8095-4bd090c679d0",
   "metadata": {},
   "outputs": [],
   "source": [
    "#string_pdb_text.to_openmm_Simulation()"
   ]
  },
  {
   "cell_type": "code",
   "execution_count": null,
   "id": "d8fbd096-faa3-469d-a528-cc97d8f6963b",
   "metadata": {},
   "outputs": [],
   "source": []
  }
 ],
 "metadata": {
  "kernelspec": {
   "display_name": "Python 3 (ipykernel)",
   "language": "python",
   "name": "python3"
  },
  "language_info": {
   "codemirror_mode": {
    "name": "ipython",
    "version": 3
   },
   "file_extension": ".py",
   "mimetype": "text/x-python",
   "name": "python",
   "nbconvert_exporter": "python",
   "pygments_lexer": "ipython3",
   "version": "3.7.12"
  }
 },
 "nbformat": 4,
 "nbformat_minor": 5
}
