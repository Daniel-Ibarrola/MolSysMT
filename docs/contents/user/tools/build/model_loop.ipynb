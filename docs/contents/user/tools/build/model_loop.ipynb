{
 "cells": [
  {
   "cell_type": "code",
   "execution_count": 1,
   "id": "7a5b75a7-b6af-4554-a840-1da5bf1b6806",
   "metadata": {},
   "outputs": [],
   "source": [
    "%load_ext autoreload\n",
    "%autoreload 2"
   ]
  },
  {
   "cell_type": "code",
   "execution_count": 2,
   "id": "eef33f08-2391-455d-bcfc-34f6c07a64f2",
   "metadata": {},
   "outputs": [
    {
     "data": {
      "application/vnd.jupyter.widget-view+json": {
       "model_id": "55b3d03abc7d4e04a081b5f2efe0fb8c",
       "version_major": 2,
       "version_minor": 0
      },
      "text/plain": []
     },
     "metadata": {},
     "output_type": "display_data"
    }
   ],
   "source": [
    "import molsysmt as msm"
   ]
  },
  {
   "cell_type": "markdown",
   "id": "60f72ddf-e62a-457d-a73e-facbbda155bb",
   "metadata": {},
   "source": [
    "# Model loop"
   ]
  },
  {
   "cell_type": "code",
   "execution_count": 3,
   "id": "b60b5ffc-64f8-4d27-a3fc-ce6bc9a7a5ab",
   "metadata": {},
   "outputs": [
    {
     "name": "stdout",
     "output_type": "stream",
     "text": [
      "The structure in the PDB has biological assemblies. There are geometrical transformations proposed in the structure. See the following issue in the source code repository: https://github.com/uibcdf/MolSysMT/issues/33\n"
     ]
    },
    {
     "name": "stderr",
     "output_type": "stream",
     "text": [
      "/home/diego/projects@dprada/MolSysMT/molsysmt/item/mmtf_MMTFDecoder/to_molsysmt_Topology.py:31: UserWarning: The structure in the PDB has biological assemblies. There are geometrical transformations proposed in the structure. See the following issue in the source code repository: https://github.com/uibcdf/MolSysMT/issues/33\n",
      "  warnings.warn(warning_message)\n",
      "/home/diego/projects@dprada/MolSysMT/molsysmt/item/mmtf_MMTFDecoder/to_molsysmt_Topology.py:41: UserWarning: The structure in the PDB has biological assemblies. There are geometrical transformations proposed in the structure. See the following issue in the source code repository: https://github.com/uibcdf/MolSysMT/issues/33\n",
      "  warnings.warn(warning_message)\n"
     ]
    }
   ],
   "source": [
    "molecular_system = msm.convert('pdb_id:1az5', to_form='molsysmt.MolSys')"
   ]
  },
  {
   "cell_type": "code",
   "execution_count": 4,
   "id": "461aa089-d5e9-40ee-bb6c-54bb5ae44f9c",
   "metadata": {},
   "outputs": [],
   "source": [
    "molecular_system = msm.basic.remove(molecular_system, selection=\"group_type==['water', 'ion', 'cosolute']\")"
   ]
  },
  {
   "cell_type": "code",
   "execution_count": 5,
   "id": "66b5cb90-970c-496c-9222-cbe8bf90b7f2",
   "metadata": {},
   "outputs": [
    {
     "data": {
      "text/html": [
       "<style type=\"text/css\">\n",
       "</style>\n",
       "<table id=\"T_842cd\">\n",
       "  <thead>\n",
       "    <tr>\n",
       "      <th id=\"T_842cd_level0_col0\" class=\"col_heading level0 col0\" >form</th>\n",
       "      <th id=\"T_842cd_level0_col1\" class=\"col_heading level0 col1\" >n_atoms</th>\n",
       "      <th id=\"T_842cd_level0_col2\" class=\"col_heading level0 col2\" >n_groups</th>\n",
       "      <th id=\"T_842cd_level0_col3\" class=\"col_heading level0 col3\" >n_components</th>\n",
       "      <th id=\"T_842cd_level0_col4\" class=\"col_heading level0 col4\" >n_chains</th>\n",
       "      <th id=\"T_842cd_level0_col5\" class=\"col_heading level0 col5\" >n_molecules</th>\n",
       "      <th id=\"T_842cd_level0_col6\" class=\"col_heading level0 col6\" >n_entities</th>\n",
       "      <th id=\"T_842cd_level0_col7\" class=\"col_heading level0 col7\" >n_proteins</th>\n",
       "      <th id=\"T_842cd_level0_col8\" class=\"col_heading level0 col8\" >n_structures</th>\n",
       "    </tr>\n",
       "  </thead>\n",
       "  <tbody>\n",
       "    <tr>\n",
       "      <td id=\"T_842cd_row0_col0\" class=\"data row0 col0\" >molsysmt.MolSys</td>\n",
       "      <td id=\"T_842cd_row0_col1\" class=\"data row0 col1\" >883</td>\n",
       "      <td id=\"T_842cd_row0_col2\" class=\"data row0 col2\" >95</td>\n",
       "      <td id=\"T_842cd_row0_col3\" class=\"data row0 col3\" >4</td>\n",
       "      <td id=\"T_842cd_row0_col4\" class=\"data row0 col4\" >1</td>\n",
       "      <td id=\"T_842cd_row0_col5\" class=\"data row0 col5\" >1</td>\n",
       "      <td id=\"T_842cd_row0_col6\" class=\"data row0 col6\" >1</td>\n",
       "      <td id=\"T_842cd_row0_col7\" class=\"data row0 col7\" >1</td>\n",
       "      <td id=\"T_842cd_row0_col8\" class=\"data row0 col8\" >1</td>\n",
       "    </tr>\n",
       "  </tbody>\n",
       "</table>\n"
      ],
      "text/plain": [
       "<pandas.io.formats.style.Styler at 0x7f066d0c98b0>"
      ]
     },
     "execution_count": 5,
     "metadata": {},
     "output_type": "execute_result"
    }
   ],
   "source": [
    "msm.info(molecular_system)"
   ]
  },
  {
   "cell_type": "code",
   "execution_count": 6,
   "id": "d3d2cf73-bbd9-4765-b182-969d7260ede1",
   "metadata": {},
   "outputs": [
    {
     "data": {
      "application/vnd.jupyter.widget-view+json": {
       "model_id": "7e28bb4db6404d87910d5dacf4379751",
       "version_major": 2,
       "version_minor": 0
      },
      "text/plain": [
       "NGLWidget()"
      ]
     },
     "metadata": {},
     "output_type": "display_data"
    }
   ],
   "source": [
    "msm.view(molecular_system)"
   ]
  },
  {
   "cell_type": "code",
   "execution_count": 7,
   "id": "9a1d9f61-b36b-4472-8117-f2a37e7caf07",
   "metadata": {},
   "outputs": [
    {
     "data": {
      "text/plain": [
       "'PQFHLWKRPVVTAHIEGQPVEVLLDTGADDSIVTGIELGPHYTPKIVGFINTKEYKNVEVEVLGKRIKGTIMTGDTPINIFGRNLLTALGMSLNF'"
      ]
     },
     "execution_count": 7,
     "metadata": {},
     "output_type": "execute_result"
    }
   ],
   "source": [
    "msm.convert(molecular_system, to_form='string:aminoacids1')"
   ]
  },
  {
   "cell_type": "code",
   "execution_count": 8,
   "id": "9184459a-3f19-4719-8eff-673699e00e99",
   "metadata": {},
   "outputs": [],
   "source": [
    "target='PQFHLWKRPVVTAHIEGQPVEVLLDTGADDSIVTGIELGPHYTPKIVGGIGGFINTKEYKNVEVEVLGKRIKGTIMTGDTPINIFGRNLLTALGMSLNF'"
   ]
  },
  {
   "cell_type": "code",
   "execution_count": 9,
   "id": "98015abe-35b9-45ec-9e3a-7426f145bcfd",
   "metadata": {},
   "outputs": [],
   "source": [
    "msm.build.model_loop(molecular_system, target_sequence=target)"
   ]
  },
  {
   "cell_type": "code",
   "execution_count": 10,
   "id": "040ea925-deb4-412c-8629-ccf866656dfd",
   "metadata": {},
   "outputs": [
    {
     "name": "stdout",
     "output_type": "stream",
     "text": [
      "PQFHLWKRPVVTAHIEGQPVEVLLDTGADDSIVTGIELGPHYTPKIV----GFINTKEYKNVEVEVLGKRIKGTIMTGDTPINIFGRNLLTALGMSLNF\n",
      "\n",
      "PQFHLWKRPVVTAHIEGQPVEVLLDTGADDSIVTGIELGPHYTPKIV\u001b[1;34;48mG\u001b[m\u001b[1;34;48mG\u001b[m\u001b[1;34;48mI\u001b[m\u001b[1;34;48mG\u001b[mGFINTKEYKNVEVEVLGKRIKGTIMTGDTPINIFGRNLLTALGMSLNF\n"
     ]
    }
   ],
   "source": [
    "msm.topology.get_sequence_alignment(molecular_system, reference_molecular_system=target, prettyprint=True)"
   ]
  },
  {
   "cell_type": "code",
   "execution_count": null,
   "id": "94f862fd-c0be-46c6-b40d-e1ec8d4e281e",
   "metadata": {},
   "outputs": [],
   "source": []
  }
 ],
 "metadata": {
  "kernelspec": {
   "display_name": "Python 3 (ipykernel)",
   "language": "python",
   "name": "python3"
  },
  "language_info": {
   "codemirror_mode": {
    "name": "ipython",
    "version": 3
   },
   "file_extension": ".py",
   "mimetype": "text/x-python",
   "name": "python",
   "nbconvert_exporter": "python",
   "pygments_lexer": "ipython3",
   "version": "3.9.13"
  }
 },
 "nbformat": 4,
 "nbformat_minor": 5
}
