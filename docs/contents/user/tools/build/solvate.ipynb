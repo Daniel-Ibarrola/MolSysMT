{
 "cells": [
  {
   "cell_type": "code",
   "execution_count": 1,
   "metadata": {},
   "outputs": [],
   "source": [
    "%load_ext autoreload\n",
    "%autoreload 2"
   ]
  },
  {
   "cell_type": "code",
   "execution_count": 2,
   "metadata": {},
   "outputs": [
    {
     "data": {
      "application/vnd.jupyter.widget-view+json": {
       "model_id": "e20fac31d3e643c8a4a996f55689e60c",
       "version_major": 2,
       "version_minor": 0
      },
      "text/plain": []
     },
     "metadata": {},
     "output_type": "display_data"
    }
   ],
   "source": [
    "import molsysmt as msm"
   ]
  },
  {
   "cell_type": "markdown",
   "metadata": {},
   "source": [
    "# Solvate"
   ]
  },
  {
   "cell_type": "code",
   "execution_count": 3,
   "metadata": {},
   "outputs": [
    {
     "name": "stderr",
     "output_type": "stream",
     "text": [
      "/home/diego/projects@dprada/MolSysMT/molsysmt/item/mmtf_MMTFDecoder/to_molsysmt_Topology.py:31: UserWarning: The structure in the PDB has biological assemblies. There are geometrical transformations proposed in the structure. See the following issue in the source code repository: https://github.com/uibcdf/MolSysMT/issues/33\n",
      "  warnings.warn(warning_message)\n",
      "Warning: importing 'simtk.openmm' is deprecated.  Import 'openmm' instead.\n"
     ]
    }
   ],
   "source": [
    "molecular_system = msm.convert('pdb_id:1vii', to_form='molsysmt.MolSys')\n",
    "molecular_system = msm.basic.remove(molecular_system, selection='atom_type==\"H\"')\n",
    "molecular_system = msm.build.add_missing_terminal_cappings(molecular_system, N_terminal='ACE',\n",
    "                                                           C_terminal='NME')\n",
    "molecular_system = msm.build.add_missing_hydrogens(molecular_system, pH=7.4)"
   ]
  },
  {
   "cell_type": "code",
   "execution_count": 4,
   "metadata": {},
   "outputs": [
    {
     "data": {
      "text/html": [
       "<style type=\"text/css\">\n",
       "</style>\n",
       "<table id=\"T_15da5\">\n",
       "  <thead>\n",
       "    <tr>\n",
       "      <th id=\"T_15da5_level0_col0\" class=\"col_heading level0 col0\" >form</th>\n",
       "      <th id=\"T_15da5_level0_col1\" class=\"col_heading level0 col1\" >n_atoms</th>\n",
       "      <th id=\"T_15da5_level0_col2\" class=\"col_heading level0 col2\" >n_groups</th>\n",
       "      <th id=\"T_15da5_level0_col3\" class=\"col_heading level0 col3\" >n_components</th>\n",
       "      <th id=\"T_15da5_level0_col4\" class=\"col_heading level0 col4\" >n_chains</th>\n",
       "      <th id=\"T_15da5_level0_col5\" class=\"col_heading level0 col5\" >n_molecules</th>\n",
       "      <th id=\"T_15da5_level0_col6\" class=\"col_heading level0 col6\" >n_entities</th>\n",
       "      <th id=\"T_15da5_level0_col7\" class=\"col_heading level0 col7\" >n_peptides</th>\n",
       "      <th id=\"T_15da5_level0_col8\" class=\"col_heading level0 col8\" >n_structures</th>\n",
       "    </tr>\n",
       "  </thead>\n",
       "  <tbody>\n",
       "    <tr>\n",
       "      <td id=\"T_15da5_row0_col0\" class=\"data row0 col0\" >molsysmt.MolSys</td>\n",
       "      <td id=\"T_15da5_row0_col1\" class=\"data row0 col1\" >605</td>\n",
       "      <td id=\"T_15da5_row0_col2\" class=\"data row0 col2\" >38</td>\n",
       "      <td id=\"T_15da5_row0_col3\" class=\"data row0 col3\" >1</td>\n",
       "      <td id=\"T_15da5_row0_col4\" class=\"data row0 col4\" >1</td>\n",
       "      <td id=\"T_15da5_row0_col5\" class=\"data row0 col5\" >1</td>\n",
       "      <td id=\"T_15da5_row0_col6\" class=\"data row0 col6\" >1</td>\n",
       "      <td id=\"T_15da5_row0_col7\" class=\"data row0 col7\" >1</td>\n",
       "      <td id=\"T_15da5_row0_col8\" class=\"data row0 col8\" >1</td>\n",
       "    </tr>\n",
       "  </tbody>\n",
       "</table>\n"
      ],
      "text/plain": [
       "<pandas.io.formats.style.Styler at 0x7f0aa87a4a30>"
      ]
     },
     "execution_count": 4,
     "metadata": {},
     "output_type": "execute_result"
    }
   ],
   "source": [
    "msm.info(molecular_system)"
   ]
  },
  {
   "cell_type": "code",
   "execution_count": 5,
   "metadata": {},
   "outputs": [],
   "source": [
    "#msm.physchem.charge([molecular_system, {'forcefield':'AMBER14'}], target='system')"
   ]
  },
  {
   "cell_type": "code",
   "execution_count": 6,
   "metadata": {},
   "outputs": [
    {
     "data": {
      "text/plain": [
       "False"
      ]
     },
     "execution_count": 6,
     "metadata": {},
     "output_type": "execute_result"
    }
   ],
   "source": [
    "msm.build.is_solvated(molecular_system)"
   ]
  },
  {
   "cell_type": "code",
   "execution_count": 7,
   "metadata": {},
   "outputs": [],
   "source": [
    "molecular_system_cub = msm.build.solvate([molecular_system, {'forcefield':'AMBER14', 'water_model':'TIP3P'}],\n",
    "                                         box_shape='cubic', clearance='14.0 angstroms',\n",
    "                                         to_form='molsysmt.MolSys', engine=\"OpenMM\", verbose=False)"
   ]
  },
  {
   "cell_type": "code",
   "execution_count": 8,
   "metadata": {},
   "outputs": [
    {
     "data": {
      "text/plain": [
       "True"
      ]
     },
     "execution_count": 8,
     "metadata": {},
     "output_type": "execute_result"
    }
   ],
   "source": [
    "msm.build.is_solvated(molecular_system_cub)"
   ]
  },
  {
   "cell_type": "code",
   "execution_count": 9,
   "metadata": {},
   "outputs": [
    {
     "data": {
      "text/html": [
       "<style type=\"text/css\">\n",
       "</style>\n",
       "<table id=\"T_586c2\">\n",
       "  <thead>\n",
       "    <tr>\n",
       "      <th id=\"T_586c2_level0_col0\" class=\"col_heading level0 col0\" >form</th>\n",
       "      <th id=\"T_586c2_level0_col1\" class=\"col_heading level0 col1\" >n_atoms</th>\n",
       "      <th id=\"T_586c2_level0_col2\" class=\"col_heading level0 col2\" >n_groups</th>\n",
       "      <th id=\"T_586c2_level0_col3\" class=\"col_heading level0 col3\" >n_components</th>\n",
       "      <th id=\"T_586c2_level0_col4\" class=\"col_heading level0 col4\" >n_chains</th>\n",
       "      <th id=\"T_586c2_level0_col5\" class=\"col_heading level0 col5\" >n_molecules</th>\n",
       "      <th id=\"T_586c2_level0_col6\" class=\"col_heading level0 col6\" >n_entities</th>\n",
       "      <th id=\"T_586c2_level0_col7\" class=\"col_heading level0 col7\" >n_waters</th>\n",
       "      <th id=\"T_586c2_level0_col8\" class=\"col_heading level0 col8\" >n_ions</th>\n",
       "      <th id=\"T_586c2_level0_col9\" class=\"col_heading level0 col9\" >n_peptides</th>\n",
       "      <th id=\"T_586c2_level0_col10\" class=\"col_heading level0 col10\" >n_structures</th>\n",
       "    </tr>\n",
       "  </thead>\n",
       "  <tbody>\n",
       "    <tr>\n",
       "      <td id=\"T_586c2_row0_col0\" class=\"data row0 col0\" >molsysmt.MolSys</td>\n",
       "      <td id=\"T_586c2_row0_col1\" class=\"data row0 col1\" >16579</td>\n",
       "      <td id=\"T_586c2_row0_col2\" class=\"data row0 col2\" >5364</td>\n",
       "      <td id=\"T_586c2_row0_col3\" class=\"data row0 col3\" >5327</td>\n",
       "      <td id=\"T_586c2_row0_col4\" class=\"data row0 col4\" >3</td>\n",
       "      <td id=\"T_586c2_row0_col5\" class=\"data row0 col5\" >5327</td>\n",
       "      <td id=\"T_586c2_row0_col6\" class=\"data row0 col6\" >3</td>\n",
       "      <td id=\"T_586c2_row0_col7\" class=\"data row0 col7\" >5324</td>\n",
       "      <td id=\"T_586c2_row0_col8\" class=\"data row0 col8\" >2</td>\n",
       "      <td id=\"T_586c2_row0_col9\" class=\"data row0 col9\" >1</td>\n",
       "      <td id=\"T_586c2_row0_col10\" class=\"data row0 col10\" >1</td>\n",
       "    </tr>\n",
       "  </tbody>\n",
       "</table>\n"
      ],
      "text/plain": [
       "<pandas.io.formats.style.Styler at 0x7f0a3059e370>"
      ]
     },
     "execution_count": 9,
     "metadata": {},
     "output_type": "execute_result"
    }
   ],
   "source": [
    "msm.info(molecular_system_cub)"
   ]
  },
  {
   "cell_type": "code",
   "execution_count": 10,
   "metadata": {},
   "outputs": [
    {
     "data": {
      "text/html": [
       "<style type=\"text/css\">\n",
       "</style>\n",
       "<table id=\"T_86686\">\n",
       "  <thead>\n",
       "    <tr>\n",
       "      <th id=\"T_86686_level0_col0\" class=\"col_heading level0 col0\" >index</th>\n",
       "      <th id=\"T_86686_level0_col1\" class=\"col_heading level0 col1\" >name</th>\n",
       "      <th id=\"T_86686_level0_col2\" class=\"col_heading level0 col2\" >type</th>\n",
       "      <th id=\"T_86686_level0_col3\" class=\"col_heading level0 col3\" >n atoms</th>\n",
       "      <th id=\"T_86686_level0_col4\" class=\"col_heading level0 col4\" >n groups</th>\n",
       "      <th id=\"T_86686_level0_col5\" class=\"col_heading level0 col5\" >n components</th>\n",
       "      <th id=\"T_86686_level0_col6\" class=\"col_heading level0 col6\" >n chains</th>\n",
       "      <th id=\"T_86686_level0_col7\" class=\"col_heading level0 col7\" >n molecules</th>\n",
       "    </tr>\n",
       "  </thead>\n",
       "  <tbody>\n",
       "    <tr>\n",
       "      <td id=\"T_86686_row0_col0\" class=\"data row0 col0\" >0</td>\n",
       "      <td id=\"T_86686_row0_col1\" class=\"data row0 col1\" >Peptide_0</td>\n",
       "      <td id=\"T_86686_row0_col2\" class=\"data row0 col2\" >peptide</td>\n",
       "      <td id=\"T_86686_row0_col3\" class=\"data row0 col3\" >605</td>\n",
       "      <td id=\"T_86686_row0_col4\" class=\"data row0 col4\" >38</td>\n",
       "      <td id=\"T_86686_row0_col5\" class=\"data row0 col5\" >1</td>\n",
       "      <td id=\"T_86686_row0_col6\" class=\"data row0 col6\" >1</td>\n",
       "      <td id=\"T_86686_row0_col7\" class=\"data row0 col7\" >1</td>\n",
       "    </tr>\n",
       "    <tr>\n",
       "      <td id=\"T_86686_row1_col0\" class=\"data row1 col0\" >1</td>\n",
       "      <td id=\"T_86686_row1_col1\" class=\"data row1 col1\" >water</td>\n",
       "      <td id=\"T_86686_row1_col2\" class=\"data row1 col2\" >water</td>\n",
       "      <td id=\"T_86686_row1_col3\" class=\"data row1 col3\" >15972</td>\n",
       "      <td id=\"T_86686_row1_col4\" class=\"data row1 col4\" >5324</td>\n",
       "      <td id=\"T_86686_row1_col5\" class=\"data row1 col5\" >5324</td>\n",
       "      <td id=\"T_86686_row1_col6\" class=\"data row1 col6\" >1</td>\n",
       "      <td id=\"T_86686_row1_col7\" class=\"data row1 col7\" >5324</td>\n",
       "    </tr>\n",
       "    <tr>\n",
       "      <td id=\"T_86686_row2_col0\" class=\"data row2 col0\" >2</td>\n",
       "      <td id=\"T_86686_row2_col1\" class=\"data row2 col1\" >CL</td>\n",
       "      <td id=\"T_86686_row2_col2\" class=\"data row2 col2\" >ion</td>\n",
       "      <td id=\"T_86686_row2_col3\" class=\"data row2 col3\" >2</td>\n",
       "      <td id=\"T_86686_row2_col4\" class=\"data row2 col4\" >2</td>\n",
       "      <td id=\"T_86686_row2_col5\" class=\"data row2 col5\" >2</td>\n",
       "      <td id=\"T_86686_row2_col6\" class=\"data row2 col6\" >1</td>\n",
       "      <td id=\"T_86686_row2_col7\" class=\"data row2 col7\" >2</td>\n",
       "    </tr>\n",
       "  </tbody>\n",
       "</table>\n"
      ],
      "text/plain": [
       "<pandas.io.formats.style.Styler at 0x7f0a30594a00>"
      ]
     },
     "execution_count": 10,
     "metadata": {},
     "output_type": "execute_result"
    }
   ],
   "source": [
    "msm.info(molecular_system_cub, element='entity')"
   ]
  },
  {
   "cell_type": "code",
   "execution_count": 11,
   "metadata": {},
   "outputs": [],
   "source": [
    "#msm.physchem.charge([molecular_system_cub, {'forcefield':'AMBER14', 'water_model':'TIP3P'}], element='system')"
   ]
  },
  {
   "cell_type": "code",
   "execution_count": 12,
   "metadata": {},
   "outputs": [],
   "source": [
    "box, box_angles, box_shape = msm.get(molecular_system_cub, element='system', box=True, box_angles=True,\n",
    "                                     box_shape=True)"
   ]
  },
  {
   "cell_type": "code",
   "execution_count": 13,
   "metadata": {},
   "outputs": [
    {
     "data": {
      "text/html": [
       "<table><tbody><tr><th>Magnitude</th><td style='text-align:left;'><pre>[[[5.585761594772339 0.0 0.0]<br>  [0.0 5.585761594772339 0.0]<br>  [0.0 0.0 5.585761594772339]]]</pre></td></tr><tr><th>Units</th><td style='text-align:left;'>nanometer</td></tr></tbody></table>"
      ],
      "text/latex": [
       "$arr[,0,:,:] = \\begin{pmatrix}5.585761594772339 & 0.0 & 0.0\\\\ \n",
       "0.0 & 5.585761594772339 & 0.0\\\\ \n",
       "0.0 & 0.0 & 5.585761594772339\\end{pmatrix}\\ \\mathrm{nanometer}$"
      ],
      "text/plain": [
       "array([[[5.58576159, 0.        , 0.        ],\n",
       "        [0.        , 5.58576159, 0.        ],\n",
       "        [0.        , 0.        , 5.58576159]]]) <Unit('nanometer')>"
      ]
     },
     "execution_count": 13,
     "metadata": {},
     "output_type": "execute_result"
    }
   ],
   "source": [
    "box"
   ]
  },
  {
   "cell_type": "code",
   "execution_count": 14,
   "metadata": {},
   "outputs": [
    {
     "data": {
      "text/html": [
       "<table><tbody><tr><th>Magnitude</th><td style='text-align:left;'><pre>[[90.000001 90.000001 90.000001]]</pre></td></tr><tr><th>Units</th><td style='text-align:left;'>degree</td></tr></tbody></table>"
      ],
      "text/latex": [
       "$\\begin{pmatrix}90.000001 & 90.000001 & 90.000001\\end{pmatrix}\\ \\mathrm{degree}$"
      ],
      "text/plain": [
       "array([[90.000001, 90.000001, 90.000001]]) <Unit('degree')>"
      ]
     },
     "execution_count": 14,
     "metadata": {},
     "output_type": "execute_result"
    }
   ],
   "source": [
    "box_angles"
   ]
  },
  {
   "cell_type": "code",
   "execution_count": 15,
   "metadata": {},
   "outputs": [
    {
     "data": {
      "text/plain": [
       "'cubic'"
      ]
     },
     "execution_count": 15,
     "metadata": {},
     "output_type": "execute_result"
    }
   ],
   "source": [
    "box_shape"
   ]
  },
  {
   "cell_type": "code",
   "execution_count": 16,
   "metadata": {},
   "outputs": [],
   "source": [
    "molecular_system_cub = msm.pbc.wrap_to_pbc(molecular_system_cub, center_of_selection='molecule_type==\"peptide\"')"
   ]
  },
  {
   "cell_type": "code",
   "execution_count": 17,
   "metadata": {},
   "outputs": [],
   "source": [
    "# msm.view(molecular_system_cub, standardize=True, water_as_surface=True)"
   ]
  },
  {
   "cell_type": "markdown",
   "metadata": {},
   "source": [
    "## Adding ions "
   ]
  },
  {
   "cell_type": "markdown",
   "metadata": {},
   "source": [
    "## PBC box geometry\n",
    "\n",
    "All periodic boxes used in molecular dynamics simulations (cubic, triclinic,  hexagonal, dodecahedral or octahedral) are equivalent equivalent. All of them can be transformed into a triclinic box with the proper angles and edge lengths. See: Bekker, H. “Unification of Box Shapes in Molecular Simulations.” Journal of Computational Chemistry 18, no. 15 (1997): 1930–42. https://doi.org/10.1002/(sici)1096-987x(19971130)18:15<1930::aid-jcc8>3.0.co;2-p."
   ]
  },
  {
   "cell_type": "code",
   "execution_count": 18,
   "metadata": {},
   "outputs": [],
   "source": [
    "molecular_system_oct = msm.build.solvate(molecular_system, box_shape='truncated octahedral',\n",
    "                         clearance='14.0 angstroms', engine='PDBFixer')"
   ]
  },
  {
   "cell_type": "code",
   "execution_count": 19,
   "metadata": {},
   "outputs": [
    {
     "data": {
      "text/html": [
       "<style type=\"text/css\">\n",
       "</style>\n",
       "<table id=\"T_44447\">\n",
       "  <thead>\n",
       "    <tr>\n",
       "      <th id=\"T_44447_level0_col0\" class=\"col_heading level0 col0\" >form</th>\n",
       "      <th id=\"T_44447_level0_col1\" class=\"col_heading level0 col1\" >n_atoms</th>\n",
       "      <th id=\"T_44447_level0_col2\" class=\"col_heading level0 col2\" >n_groups</th>\n",
       "      <th id=\"T_44447_level0_col3\" class=\"col_heading level0 col3\" >n_components</th>\n",
       "      <th id=\"T_44447_level0_col4\" class=\"col_heading level0 col4\" >n_chains</th>\n",
       "      <th id=\"T_44447_level0_col5\" class=\"col_heading level0 col5\" >n_molecules</th>\n",
       "      <th id=\"T_44447_level0_col6\" class=\"col_heading level0 col6\" >n_entities</th>\n",
       "      <th id=\"T_44447_level0_col7\" class=\"col_heading level0 col7\" >n_waters</th>\n",
       "      <th id=\"T_44447_level0_col8\" class=\"col_heading level0 col8\" >n_ions</th>\n",
       "      <th id=\"T_44447_level0_col9\" class=\"col_heading level0 col9\" >n_peptides</th>\n",
       "      <th id=\"T_44447_level0_col10\" class=\"col_heading level0 col10\" >n_structures</th>\n",
       "    </tr>\n",
       "  </thead>\n",
       "  <tbody>\n",
       "    <tr>\n",
       "      <td id=\"T_44447_row0_col0\" class=\"data row0 col0\" >molsysmt.MolSys</td>\n",
       "      <td id=\"T_44447_row0_col1\" class=\"data row0 col1\" >5677</td>\n",
       "      <td id=\"T_44447_row0_col2\" class=\"data row0 col2\" >1730</td>\n",
       "      <td id=\"T_44447_row0_col3\" class=\"data row0 col3\" >1693</td>\n",
       "      <td id=\"T_44447_row0_col4\" class=\"data row0 col4\" >3</td>\n",
       "      <td id=\"T_44447_row0_col5\" class=\"data row0 col5\" >1693</td>\n",
       "      <td id=\"T_44447_row0_col6\" class=\"data row0 col6\" >3</td>\n",
       "      <td id=\"T_44447_row0_col7\" class=\"data row0 col7\" >1690</td>\n",
       "      <td id=\"T_44447_row0_col8\" class=\"data row0 col8\" >2</td>\n",
       "      <td id=\"T_44447_row0_col9\" class=\"data row0 col9\" >1</td>\n",
       "      <td id=\"T_44447_row0_col10\" class=\"data row0 col10\" >1</td>\n",
       "    </tr>\n",
       "  </tbody>\n",
       "</table>\n"
      ],
      "text/plain": [
       "<pandas.io.formats.style.Styler at 0x7f0a315d1850>"
      ]
     },
     "execution_count": 19,
     "metadata": {},
     "output_type": "execute_result"
    }
   ],
   "source": [
    "msm.info(molecular_system_oct)"
   ]
  },
  {
   "cell_type": "code",
   "execution_count": 20,
   "metadata": {},
   "outputs": [],
   "source": [
    "molecular_system_oct = msm.pbc.wrap_to_pbc(molecular_system_oct, center_of_selection='molecule_type==\"peptide\"')"
   ]
  },
  {
   "cell_type": "code",
   "execution_count": 21,
   "metadata": {},
   "outputs": [],
   "source": [
    "#msm.view(molecular_system_oct, standardize=True, water_as_surface=True)"
   ]
  },
  {
   "cell_type": "markdown",
   "metadata": {},
   "source": [
    "In a triclinic box it is not sure that all elements in the unit cell can be considered first neighbors. Some pairs of atoms minimize their distance when one of them are located in a neighbor unit cell. But ¿Which one? Finding the periodic image that minimizes the distance is not in general as straight forward as it is if the box is cubic. This problem is known as \"the minimum image convention\". Actually, the distance between any two atoms in a periodic box is not computed removing the PBC, or centering a unit cell in any of those atoms. It is solved finding the minimum image convention. Then, let's see what happens when we take only the image of every atom with minimal distance to the center of the protein:"
   ]
  },
  {
   "cell_type": "code",
   "execution_count": 22,
   "metadata": {},
   "outputs": [],
   "source": [
    "molecular_system_oct = msm.pbc.wrap_to_mic(molecular_system_oct, center_of_selection='molecule_type==\"peptide\"')"
   ]
  },
  {
   "cell_type": "code",
   "execution_count": 23,
   "metadata": {},
   "outputs": [],
   "source": [
    "#msm.view(molecular_system_oct, standardize=True, water_as_surface=True)"
   ]
  },
  {
   "cell_type": "markdown",
   "metadata": {},
   "source": [
    "The equivalent geometry is now recovered. It is then \"a proof\" of the equivalency between the triclinic box and the truncated octahedral box."
   ]
  },
  {
   "cell_type": "markdown",
   "metadata": {},
   "source": [
    "But why do we need a non cubic periodic box? In general a case, we want to be sure that a molecule is \"solvated\". What does this mean? It means that our molecule is surrounded by a thick enough layer of water molecules. ¿This can be accomplished by a cubic periodic box? Yes of course. But it can also be achieved with other geometries making use of a lower number of water molecules. Which means that running a molecular simulation with these other geometries will be computationally cheaper than with a periodic cube:"
   ]
  },
  {
   "cell_type": "code",
   "execution_count": 24,
   "metadata": {},
   "outputs": [],
   "source": [
    "molecular_system_cub = msm.build.solvate(molecular_system, box_shape='cubic', clearance='14.0 angstroms',\n",
    "                                         engine='PDBFixer')\n",
    "molecular_system_oct = msm.build.solvate(molecular_system, box_shape='truncated octahedral',  clearance='14.0 angstroms',\n",
    "                                         engine='PDBFixer')\n",
    "molecular_system_dod = msm.build.solvate(molecular_system, box_shape='rhombic dodecahedral', clearance='14.0 angstroms',\n",
    "                                         engine='PDBFixer')"
   ]
  },
  {
   "cell_type": "code",
   "execution_count": 25,
   "metadata": {},
   "outputs": [],
   "source": [
    "n_waters_cub = msm.get(molecular_system_cub, element='system', n_waters=True)\n",
    "n_waters_oct = msm.get(molecular_system_oct, element='system', n_waters=True)\n",
    "n_waters_dod = msm.get(molecular_system_dod, element='system', n_waters=True)\n",
    "\n",
    "n_waters_oct_to_cub = round(100.0* n_waters_oct/n_waters_cub, 2)\n",
    "n_waters_dod_to_cub = round(100.0* n_waters_dod/n_waters_cub, 2)"
   ]
  },
  {
   "cell_type": "code",
   "execution_count": 26,
   "metadata": {},
   "outputs": [
    {
     "name": "stdout",
     "output_type": "stream",
     "text": [
      "Cubic box: 2033 water (100.0% -cubic reference-)\n",
      "Truncated octahedral box: 1690 water (83.13% -cubic reference-)\n",
      "Rhombic dodecahedron box: 1429 water (70.29% -cubic reference-)\n"
     ]
    }
   ],
   "source": [
    "print('Cubic box: {} water (100.0% -cubic reference-)'.format(n_waters_cub))\n",
    "print('Truncated octahedral box: {} water ({}% -cubic reference-)'.format(n_waters_oct, n_waters_oct_to_cub))\n",
    "print('Rhombic dodecahedron box: {} water ({}% -cubic reference-)'.format(n_waters_dod, n_waters_dod_to_cub))"
   ]
  },
  {
   "cell_type": "code",
   "execution_count": 27,
   "metadata": {},
   "outputs": [],
   "source": [
    "volume_cub = msm.get(molecular_system_cub, element='system', box_volume=True)\n",
    "volume_oct = msm.get(molecular_system_oct, element='system', box_volume=True)\n",
    "volume_dod = msm.get(molecular_system_dod, element='system', box_volume=True)\n",
    "\n",
    "volume_oct_to_cub = round(100.0* volume_oct[0]/volume_cub[0], 2).magnitude\n",
    "volume_dod_to_cub = round(100.0* volume_dod[0]/volume_cub[0], 2).magnitude"
   ]
  },
  {
   "cell_type": "code",
   "execution_count": 28,
   "metadata": {},
   "outputs": [
    {
     "name": "stdout",
     "output_type": "stream",
     "text": [
      "Cubic box: 73.33907380071203 nanometer ** 3 volue (100% -cubic reference-)\n",
      "Truncated octahedral box: 56.4564453346119 nanometer ** 3 volume (76.98% -cubic reference-)\n",
      "Rhombic dodecahedron box: 51.858556410424136 nanometer ** 3 volume (70.71% -cubic reference-)\n"
     ]
    }
   ],
   "source": [
    "print('Cubic box: {} volue (100% -cubic reference-)'.format(volume_cub[0]))\n",
    "print('Truncated octahedral box: {} volume ({}% -cubic reference-)'.format(volume_oct[0], volume_oct_to_cub))\n",
    "print('Rhombic dodecahedron box: {} volume ({}% -cubic reference-)'.format(volume_dod[0], volume_dod_to_cub))"
   ]
  },
  {
   "cell_type": "markdown",
   "metadata": {},
   "source": [
    "## Solvation engines"
   ]
  },
  {
   "cell_type": "code",
   "execution_count": 29,
   "metadata": {},
   "outputs": [
    {
     "data": {
      "text/plain": [
       "True"
      ]
     },
     "execution_count": 29,
     "metadata": {},
     "output_type": "execute_result"
    }
   ],
   "source": [
    "msm.contains(molecular_system, hydrogens=True)"
   ]
  },
  {
   "cell_type": "code",
   "execution_count": 30,
   "metadata": {},
   "outputs": [
    {
     "ename": "CalledProcessError",
     "evalue": "Command '['tleap', '-f', 'leap.in']' returned non-zero exit status 31.",
     "output_type": "error",
     "traceback": [
      "\u001b[0;31m---------------------------------------------------------------------------\u001b[0m",
      "\u001b[0;31mCalledProcessError\u001b[0m                        Traceback (most recent call last)",
      "Input \u001b[0;32mIn [30]\u001b[0m, in \u001b[0;36m<cell line: 1>\u001b[0;34m()\u001b[0m\n\u001b[0;32m----> 1\u001b[0m molecular_system_oct_leap \u001b[38;5;241m=\u001b[39m \u001b[43mmsm\u001b[49m\u001b[38;5;241;43m.\u001b[39;49m\u001b[43mbuild\u001b[49m\u001b[38;5;241;43m.\u001b[39;49m\u001b[43msolvate\u001b[49m\u001b[43m(\u001b[49m\u001b[43m[\u001b[49m\u001b[43mmsm\u001b[49m\u001b[38;5;241;43m.\u001b[39;49m\u001b[43mremove\u001b[49m\u001b[43m(\u001b[49m\u001b[43mmolecular_system\u001b[49m\u001b[43m,\u001b[49m\u001b[43m \u001b[49m\u001b[43mselection\u001b[49m\u001b[38;5;241;43m=\u001b[39;49m\u001b[38;5;124;43m'\u001b[39;49m\u001b[38;5;124;43matom_type==\u001b[39;49m\u001b[38;5;124;43m\"\u001b[39;49m\u001b[38;5;124;43mH\u001b[39;49m\u001b[38;5;124;43m\"\u001b[39;49m\u001b[38;5;124;43m'\u001b[39;49m\u001b[43m)\u001b[49m\u001b[43m,\u001b[49m\n\u001b[1;32m      2\u001b[0m \u001b[43m                              \u001b[49m\u001b[43m{\u001b[49m\u001b[38;5;124;43m'\u001b[39;49m\u001b[38;5;124;43mforcefield\u001b[39;49m\u001b[38;5;124;43m'\u001b[39;49m\u001b[43m:\u001b[49m\u001b[38;5;124;43m'\u001b[39;49m\u001b[38;5;124;43mAMBER14\u001b[39;49m\u001b[38;5;124;43m'\u001b[39;49m\u001b[43m,\u001b[49m\u001b[43m \u001b[49m\u001b[38;5;124;43m'\u001b[39;49m\u001b[38;5;124;43mwater_model\u001b[39;49m\u001b[38;5;124;43m'\u001b[39;49m\u001b[43m:\u001b[49m\u001b[38;5;124;43m'\u001b[39;49m\u001b[38;5;124;43mTIP3P\u001b[39;49m\u001b[38;5;124;43m'\u001b[39;49m\u001b[43m}\u001b[49m\u001b[43m]\u001b[49m\u001b[43m,\u001b[49m\n\u001b[1;32m      3\u001b[0m \u001b[43m                              \u001b[49m\u001b[43mbox_shape\u001b[49m\u001b[38;5;241;43m=\u001b[39;49m\u001b[38;5;124;43m'\u001b[39;49m\u001b[38;5;124;43mtruncated octahedral\u001b[39;49m\u001b[38;5;124;43m'\u001b[39;49m\u001b[43m,\u001b[49m\n\u001b[1;32m      4\u001b[0m \u001b[43m                              \u001b[49m\u001b[43mclearance\u001b[49m\u001b[38;5;241;43m=\u001b[39;49m\u001b[38;5;124;43m'\u001b[39;49m\u001b[38;5;124;43m14.0 angstroms\u001b[39;49m\u001b[38;5;124;43m'\u001b[39;49m\u001b[43m,\u001b[49m\n\u001b[1;32m      5\u001b[0m \u001b[43m                              \u001b[49m\u001b[43mto_form\u001b[49m\u001b[38;5;241;43m=\u001b[39;49m\u001b[38;5;124;43m'\u001b[39;49m\u001b[38;5;124;43mmolsysmt.MolSys\u001b[39;49m\u001b[38;5;124;43m'\u001b[39;49m\u001b[43m,\u001b[49m\u001b[43m \u001b[49m\u001b[43mengine\u001b[49m\u001b[38;5;241;43m=\u001b[39;49m\u001b[38;5;124;43m'\u001b[39;49m\u001b[38;5;124;43mLEaP\u001b[39;49m\u001b[38;5;124;43m'\u001b[39;49m\u001b[43m,\u001b[49m\u001b[43m \u001b[49m\u001b[43mverbose\u001b[49m\u001b[38;5;241;43m=\u001b[39;49m\u001b[38;5;28;43;01mFalse\u001b[39;49;00m\u001b[43m)\u001b[49m\n",
      "File \u001b[0;32m~/projects@dprada/MolSysMT/molsysmt/_private/digestion/digest.py:119\u001b[0m, in \u001b[0;36mdigest.<locals>.digestor.<locals>.wrapper\u001b[0;34m(*args, **kwargs)\u001b[0m\n\u001b[1;32m    117\u001b[0m     \u001b[38;5;28;01mreturn\u001b[39;00m auxiliary_output\n\u001b[1;32m    118\u001b[0m \u001b[38;5;28;01melse\u001b[39;00m:\n\u001b[0;32m--> 119\u001b[0m     \u001b[38;5;28;01mreturn\u001b[39;00m \u001b[43mfunc\u001b[49m\u001b[43m(\u001b[49m\u001b[38;5;241;43m*\u001b[39;49m\u001b[38;5;241;43m*\u001b[39;49m\u001b[43mfinal_args\u001b[49m\u001b[43m)\u001b[49m\n",
      "File \u001b[0;32m~/projects@dprada/MolSysMT/molsysmt/build/solvate.py:203\u001b[0m, in \u001b[0;36msolvate\u001b[0;34m(molecular_system, box_shape, clearance, anion, n_anions, cation, n_cations, ionic_strength, engine, to_form, verbose)\u001b[0m\n\u001b[1;32m    200\u001b[0m     tleap\u001b[38;5;241m.\u001b[39madd_ions(\u001b[38;5;124m'\u001b[39m\u001b[38;5;124mMolecularSystem\u001b[39m\u001b[38;5;124m'\u001b[39m, cation, num_ions\u001b[38;5;241m=\u001b[39mn_cations, replace_solvent\u001b[38;5;241m=\u001b[39m\u001b[38;5;28;01mTrue\u001b[39;00m)\n\u001b[1;32m    202\u001b[0m tleap\u001b[38;5;241m.\u001b[39msave_unit(\u001b[38;5;124m'\u001b[39m\u001b[38;5;124mMolecularSystem\u001b[39m\u001b[38;5;124m'\u001b[39m, tmp_prmtop)\n\u001b[0;32m--> 203\u001b[0m errors\u001b[38;5;241m=\u001b[39m\u001b[43mtleap\u001b[49m\u001b[38;5;241;43m.\u001b[39;49m\u001b[43mrun\u001b[49m\u001b[43m(\u001b[49m\u001b[43mworking_directory\u001b[49m\u001b[38;5;241;43m=\u001b[39;49m\u001b[43mworking_directory\u001b[49m\u001b[43m,\u001b[49m\u001b[43m \u001b[49m\u001b[43mverbose\u001b[49m\u001b[38;5;241;43m=\u001b[39;49m\u001b[38;5;28;43;01mFalse\u001b[39;49;00m\u001b[43m)\u001b[49m\n\u001b[1;32m    205\u001b[0m \u001b[38;5;28;01mdel\u001b[39;00m(tleap)\n\u001b[1;32m    207\u001b[0m \u001b[38;5;28;01mif\u001b[39;00m logfile:\n",
      "File \u001b[0;32m~/projects@dprada/MolSysMT/molsysmt/thirds/tleap/tleap.py:371\u001b[0m, in \u001b[0;36mTLeap.run\u001b[0;34m(self, working_directory, verbose)\u001b[0m\n\u001b[1;32m    369\u001b[0m \u001b[38;5;66;03m# Save script and run tleap\u001b[39;00m\n\u001b[1;32m    370\u001b[0m \u001b[38;5;28mself\u001b[39m\u001b[38;5;241m.\u001b[39mexport_script(\u001b[38;5;124m'\u001b[39m\u001b[38;5;124mleap.in\u001b[39m\u001b[38;5;124m'\u001b[39m)\n\u001b[0;32m--> 371\u001b[0m leap_output \u001b[38;5;241m=\u001b[39m \u001b[43msubprocess\u001b[49m\u001b[38;5;241;43m.\u001b[39;49m\u001b[43mcheck_output\u001b[49m\u001b[43m(\u001b[49m\u001b[43m[\u001b[49m\u001b[38;5;124;43m'\u001b[39;49m\u001b[38;5;124;43mtleap\u001b[39;49m\u001b[38;5;124;43m'\u001b[39;49m\u001b[43m,\u001b[49m\u001b[43m \u001b[49m\u001b[38;5;124;43m'\u001b[39;49m\u001b[38;5;124;43m-f\u001b[39;49m\u001b[38;5;124;43m'\u001b[39;49m\u001b[43m,\u001b[49m\u001b[43m \u001b[49m\u001b[38;5;124;43m'\u001b[39;49m\u001b[38;5;124;43mleap.in\u001b[39;49m\u001b[38;5;124;43m'\u001b[39;49m\u001b[43m]\u001b[49m\u001b[43m)\u001b[49m\u001b[38;5;241m.\u001b[39mdecode()\n\u001b[1;32m    373\u001b[0m \u001b[38;5;28;01mif\u001b[39;00m verbose:\n\u001b[1;32m    374\u001b[0m     \u001b[38;5;28mprint\u001b[39m(leap_output)\n",
      "File \u001b[0;32m~/MyMachine/locals/miniconda3/envs/MolSysMT@dprada_3.9/lib/python3.9/subprocess.py:424\u001b[0m, in \u001b[0;36mcheck_output\u001b[0;34m(timeout, *popenargs, **kwargs)\u001b[0m\n\u001b[1;32m    421\u001b[0m         empty \u001b[38;5;241m=\u001b[39m \u001b[38;5;124mb\u001b[39m\u001b[38;5;124m'\u001b[39m\u001b[38;5;124m'\u001b[39m\n\u001b[1;32m    422\u001b[0m     kwargs[\u001b[38;5;124m'\u001b[39m\u001b[38;5;124minput\u001b[39m\u001b[38;5;124m'\u001b[39m] \u001b[38;5;241m=\u001b[39m empty\n\u001b[0;32m--> 424\u001b[0m \u001b[38;5;28;01mreturn\u001b[39;00m \u001b[43mrun\u001b[49m\u001b[43m(\u001b[49m\u001b[38;5;241;43m*\u001b[39;49m\u001b[43mpopenargs\u001b[49m\u001b[43m,\u001b[49m\u001b[43m \u001b[49m\u001b[43mstdout\u001b[49m\u001b[38;5;241;43m=\u001b[39;49m\u001b[43mPIPE\u001b[49m\u001b[43m,\u001b[49m\u001b[43m \u001b[49m\u001b[43mtimeout\u001b[49m\u001b[38;5;241;43m=\u001b[39;49m\u001b[43mtimeout\u001b[49m\u001b[43m,\u001b[49m\u001b[43m \u001b[49m\u001b[43mcheck\u001b[49m\u001b[38;5;241;43m=\u001b[39;49m\u001b[38;5;28;43;01mTrue\u001b[39;49;00m\u001b[43m,\u001b[49m\n\u001b[1;32m    425\u001b[0m \u001b[43m           \u001b[49m\u001b[38;5;241;43m*\u001b[39;49m\u001b[38;5;241;43m*\u001b[39;49m\u001b[43mkwargs\u001b[49m\u001b[43m)\u001b[49m\u001b[38;5;241m.\u001b[39mstdout\n",
      "File \u001b[0;32m~/MyMachine/locals/miniconda3/envs/MolSysMT@dprada_3.9/lib/python3.9/subprocess.py:528\u001b[0m, in \u001b[0;36mrun\u001b[0;34m(input, capture_output, timeout, check, *popenargs, **kwargs)\u001b[0m\n\u001b[1;32m    526\u001b[0m     retcode \u001b[38;5;241m=\u001b[39m process\u001b[38;5;241m.\u001b[39mpoll()\n\u001b[1;32m    527\u001b[0m     \u001b[38;5;28;01mif\u001b[39;00m check \u001b[38;5;129;01mand\u001b[39;00m retcode:\n\u001b[0;32m--> 528\u001b[0m         \u001b[38;5;28;01mraise\u001b[39;00m CalledProcessError(retcode, process\u001b[38;5;241m.\u001b[39margs,\n\u001b[1;32m    529\u001b[0m                                  output\u001b[38;5;241m=\u001b[39mstdout, stderr\u001b[38;5;241m=\u001b[39mstderr)\n\u001b[1;32m    530\u001b[0m \u001b[38;5;28;01mreturn\u001b[39;00m CompletedProcess(process\u001b[38;5;241m.\u001b[39margs, retcode, stdout, stderr)\n",
      "\u001b[0;31mCalledProcessError\u001b[0m: Command '['tleap', '-f', 'leap.in']' returned non-zero exit status 31."
     ]
    }
   ],
   "source": [
    "#molecular_system_oct_leap = msm.build.solvate([msm.remove(molecular_system, selection='atom_type==\"H\"'),\n",
    "#                              {'forcefield':'AMBER14', 'water_model':'TIP3P'}],\n",
    "#                              box_shape='truncated octahedral',\n",
    "#                              clearance='14.0 angstroms',\n",
    "#                              to_form='molsysmt.MolSys', engine='LEaP', verbose=False)"
   ]
  },
  {
   "cell_type": "code",
   "execution_count": null,
   "metadata": {},
   "outputs": [],
   "source": [
    "#msm.info(molecular_system_oct_leap)"
   ]
  },
  {
   "cell_type": "code",
   "execution_count": null,
   "metadata": {},
   "outputs": [],
   "source": [
    "#molecular_system_oct_leap = msm.pbc.wrap_to_mic(molecular_system_oct_leap, center_of_selection='molecule_type==\"peptide\"')"
   ]
  },
  {
   "cell_type": "code",
   "execution_count": null,
   "metadata": {},
   "outputs": [],
   "source": [
    "#msm.view(molecular_system_oct_leap, standardize=True, water_as_surface=True)"
   ]
  },
  {
   "cell_type": "code",
   "execution_count": null,
   "metadata": {},
   "outputs": [],
   "source": []
  }
 ],
 "metadata": {
  "kernelspec": {
   "display_name": "Python 3 (ipykernel)",
   "language": "python",
   "name": "python3"
  },
  "language_info": {
   "codemirror_mode": {
    "name": "ipython",
    "version": 3
   },
   "file_extension": ".py",
   "mimetype": "text/x-python",
   "name": "python",
   "nbconvert_exporter": "python",
   "pygments_lexer": "ipython3",
   "version": "3.9.13"
  }
 },
 "nbformat": 4,
 "nbformat_minor": 4
}
