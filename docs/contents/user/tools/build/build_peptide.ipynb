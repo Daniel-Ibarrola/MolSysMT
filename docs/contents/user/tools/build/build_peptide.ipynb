{
 "cells": [
  {
   "cell_type": "code",
   "execution_count": 1,
   "metadata": {},
   "outputs": [],
   "source": [
    "%load_ext autoreload\n",
    "%autoreload 2"
   ]
  },
  {
   "cell_type": "code",
   "execution_count": 2,
   "metadata": {},
   "outputs": [
    {
     "data": {
      "application/vnd.jupyter.widget-view+json": {
       "model_id": "49475662b0f9407a8ea8a8f22ff52735",
       "version_major": 2,
       "version_minor": 0
      },
      "text/plain": []
     },
     "metadata": {},
     "output_type": "display_data"
    }
   ],
   "source": [
    "import molsysmt as msm"
   ]
  },
  {
   "cell_type": "markdown",
   "metadata": {},
   "source": [
    "# Build peptide"
   ]
  },
  {
   "cell_type": "code",
   "execution_count": 3,
   "metadata": {},
   "outputs": [],
   "source": [
    "molecular_system = msm.build.build_peptide(['AceAlaNme', {'forcefield':'AMBER14',\n",
    "                                                          'implicit_solvent':'OBC1'}],\n",
    "                                           to_form='molsysmt.MolSys')"
   ]
  },
  {
   "cell_type": "code",
   "execution_count": 4,
   "metadata": {},
   "outputs": [
    {
     "data": {
      "text/html": [
       "<style type=\"text/css\">\n",
       "</style>\n",
       "<table id=\"T_7e1b5\">\n",
       "  <thead>\n",
       "    <tr>\n",
       "      <th id=\"T_7e1b5_level0_col0\" class=\"col_heading level0 col0\" >form</th>\n",
       "      <th id=\"T_7e1b5_level0_col1\" class=\"col_heading level0 col1\" >n_atoms</th>\n",
       "      <th id=\"T_7e1b5_level0_col2\" class=\"col_heading level0 col2\" >n_groups</th>\n",
       "      <th id=\"T_7e1b5_level0_col3\" class=\"col_heading level0 col3\" >n_components</th>\n",
       "      <th id=\"T_7e1b5_level0_col4\" class=\"col_heading level0 col4\" >n_chains</th>\n",
       "      <th id=\"T_7e1b5_level0_col5\" class=\"col_heading level0 col5\" >n_molecules</th>\n",
       "      <th id=\"T_7e1b5_level0_col6\" class=\"col_heading level0 col6\" >n_entities</th>\n",
       "      <th id=\"T_7e1b5_level0_col7\" class=\"col_heading level0 col7\" >n_peptides</th>\n",
       "      <th id=\"T_7e1b5_level0_col8\" class=\"col_heading level0 col8\" >n_structures</th>\n",
       "    </tr>\n",
       "  </thead>\n",
       "  <tbody>\n",
       "    <tr>\n",
       "      <td id=\"T_7e1b5_row0_col0\" class=\"data row0 col0\" >molsysmt.MolSys</td>\n",
       "      <td id=\"T_7e1b5_row0_col1\" class=\"data row0 col1\" >22</td>\n",
       "      <td id=\"T_7e1b5_row0_col2\" class=\"data row0 col2\" >3</td>\n",
       "      <td id=\"T_7e1b5_row0_col3\" class=\"data row0 col3\" >1</td>\n",
       "      <td id=\"T_7e1b5_row0_col4\" class=\"data row0 col4\" >1</td>\n",
       "      <td id=\"T_7e1b5_row0_col5\" class=\"data row0 col5\" >1</td>\n",
       "      <td id=\"T_7e1b5_row0_col6\" class=\"data row0 col6\" >1</td>\n",
       "      <td id=\"T_7e1b5_row0_col7\" class=\"data row0 col7\" >1</td>\n",
       "      <td id=\"T_7e1b5_row0_col8\" class=\"data row0 col8\" >1</td>\n",
       "    </tr>\n",
       "  </tbody>\n",
       "</table>\n"
      ],
      "text/plain": [
       "<pandas.io.formats.style.Styler at 0x7f1617b30e20>"
      ]
     },
     "execution_count": 4,
     "metadata": {},
     "output_type": "execute_result"
    }
   ],
   "source": [
    "msm.info(molecular_system)"
   ]
  },
  {
   "cell_type": "markdown",
   "metadata": {},
   "source": [
    "Also solvated"
   ]
  },
  {
   "cell_type": "code",
   "execution_count": 7,
   "metadata": {},
   "outputs": [
    {
     "data": {
      "text/plain": [
       "['/tmp/tmp1esimf1o/tmpvd3gwx9l.prmtop', '/tmp/tmp1esimf1o/tmpvd3gwx9l.inpcrd']"
      ]
     },
     "execution_count": 7,
     "metadata": {},
     "output_type": "execute_result"
    }
   ],
   "source": [
    "msm.build.build_peptide(['AceAlaNme', {'forcefield':'AMBER14','water_model':'TIP3P'}],\n",
    "                  to_form=['dialanine_amber14_tip3p.prmtop','dialanine_amber14_tip3p.inpcrd'])"
   ]
  },
  {
   "cell_type": "markdown",
   "metadata": {},
   "source": [
    "Metenkephalin in implicit solvent saved as a pdb file."
   ]
  },
  {
   "cell_type": "code",
   "execution_count": 8,
   "metadata": {},
   "outputs": [
    {
     "data": {
      "text/plain": [
       "'metenkephalin.pdb'"
      ]
     },
     "execution_count": 8,
     "metadata": {},
     "output_type": "execute_result"
    }
   ],
   "source": [
    "msm.build.build_peptide(['TyrGlyGlyPheMet', {'forcefield':'AMBER14', 'implicit_solvent':'OBC1'}],\n",
    "                  to_form='metenkephalin.pdb')"
   ]
  },
  {
   "cell_type": "markdown",
   "metadata": {},
   "source": [
    "A cationic peptide solvated"
   ]
  },
  {
   "cell_type": "code",
   "execution_count": 10,
   "metadata": {},
   "outputs": [],
   "source": [
    "molsys = 'GRKFRRKFKK' # Cationic peptide\n",
    "molsys = msm.build.build_peptide([molsys, {'forcefield':'AMBER14'}], to_form='molsysmt.MolSys')\n",
    "molsys = msm.build.add_missing_terminal_cappings(molsys, N_terminal='ACE', C_terminal='NME')\n",
    "molsys = msm.build.solvate(molsys, box_shape='truncated octahedral',\n",
    "                     clearance='14.0 angstroms', engine='PDBFixer')"
   ]
  },
  {
   "cell_type": "code",
   "execution_count": null,
   "metadata": {},
   "outputs": [],
   "source": [
    "msm.view(molsys, standardize=True, water_as_surface=True)"
   ]
  },
  {
   "cell_type": "code",
   "execution_count": null,
   "metadata": {},
   "outputs": [],
   "source": []
  }
 ],
 "metadata": {
  "kernelspec": {
   "display_name": "Python 3 (ipykernel)",
   "language": "python",
   "name": "python3"
  },
  "language_info": {
   "codemirror_mode": {
    "name": "ipython",
    "version": 3
   },
   "file_extension": ".py",
   "mimetype": "text/x-python",
   "name": "python",
   "nbconvert_exporter": "python",
   "pygments_lexer": "ipython3",
   "version": "3.9.13"
  }
 },
 "nbformat": 4,
 "nbformat_minor": 4
}
