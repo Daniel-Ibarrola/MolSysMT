{
 "cells": [
  {
   "cell_type": "code",
   "execution_count": 1,
   "metadata": {},
   "outputs": [],
   "source": [
    "%load_ext autoreload\n",
    "%autoreload 2"
   ]
  },
  {
   "cell_type": "code",
   "execution_count": 2,
   "metadata": {},
   "outputs": [
    {
     "data": {
      "application/vnd.jupyter.widget-view+json": {
       "model_id": "0256c21e67734634b8f0814fb0b563b2",
       "version_major": 2,
       "version_minor": 0
      },
      "text/plain": []
     },
     "metadata": {},
     "output_type": "display_data"
    }
   ],
   "source": [
    "import molsysmt as msm"
   ]
  },
  {
   "cell_type": "markdown",
   "metadata": {},
   "source": [
    "# Add missing terminal cappings"
   ]
  },
  {
   "cell_type": "code",
   "execution_count": 3,
   "metadata": {},
   "outputs": [],
   "source": [
    "molecular_system = msm.build.build_peptide('AlaValPro', to_form='molsysmt.MolSys')"
   ]
  },
  {
   "cell_type": "code",
   "execution_count": 4,
   "metadata": {},
   "outputs": [
    {
     "data": {
      "text/html": [
       "<style type=\"text/css\">\n",
       "</style>\n",
       "<table id=\"T_0387c\">\n",
       "  <thead>\n",
       "    <tr>\n",
       "      <th id=\"T_0387c_level0_col0\" class=\"col_heading level0 col0\" >index</th>\n",
       "      <th id=\"T_0387c_level0_col1\" class=\"col_heading level0 col1\" >id</th>\n",
       "      <th id=\"T_0387c_level0_col2\" class=\"col_heading level0 col2\" >name</th>\n",
       "      <th id=\"T_0387c_level0_col3\" class=\"col_heading level0 col3\" >type</th>\n",
       "      <th id=\"T_0387c_level0_col4\" class=\"col_heading level0 col4\" >n atoms</th>\n",
       "      <th id=\"T_0387c_level0_col5\" class=\"col_heading level0 col5\" >component index</th>\n",
       "      <th id=\"T_0387c_level0_col6\" class=\"col_heading level0 col6\" >chain index</th>\n",
       "      <th id=\"T_0387c_level0_col7\" class=\"col_heading level0 col7\" >molecule index</th>\n",
       "      <th id=\"T_0387c_level0_col8\" class=\"col_heading level0 col8\" >molecule type</th>\n",
       "      <th id=\"T_0387c_level0_col9\" class=\"col_heading level0 col9\" >entity index</th>\n",
       "      <th id=\"T_0387c_level0_col10\" class=\"col_heading level0 col10\" >entity name</th>\n",
       "    </tr>\n",
       "  </thead>\n",
       "  <tbody>\n",
       "    <tr>\n",
       "      <td id=\"T_0387c_row0_col0\" class=\"data row0 col0\" >0</td>\n",
       "      <td id=\"T_0387c_row0_col1\" class=\"data row0 col1\" >1</td>\n",
       "      <td id=\"T_0387c_row0_col2\" class=\"data row0 col2\" >ALA</td>\n",
       "      <td id=\"T_0387c_row0_col3\" class=\"data row0 col3\" >aminoacid</td>\n",
       "      <td id=\"T_0387c_row0_col4\" class=\"data row0 col4\" >10</td>\n",
       "      <td id=\"T_0387c_row0_col5\" class=\"data row0 col5\" >0</td>\n",
       "      <td id=\"T_0387c_row0_col6\" class=\"data row0 col6\" >0</td>\n",
       "      <td id=\"T_0387c_row0_col7\" class=\"data row0 col7\" >0</td>\n",
       "      <td id=\"T_0387c_row0_col8\" class=\"data row0 col8\" >peptide</td>\n",
       "      <td id=\"T_0387c_row0_col9\" class=\"data row0 col9\" >0</td>\n",
       "      <td id=\"T_0387c_row0_col10\" class=\"data row0 col10\" >Peptide_0</td>\n",
       "    </tr>\n",
       "    <tr>\n",
       "      <td id=\"T_0387c_row1_col0\" class=\"data row1 col0\" >1</td>\n",
       "      <td id=\"T_0387c_row1_col1\" class=\"data row1 col1\" >2</td>\n",
       "      <td id=\"T_0387c_row1_col2\" class=\"data row1 col2\" >VAL</td>\n",
       "      <td id=\"T_0387c_row1_col3\" class=\"data row1 col3\" >aminoacid</td>\n",
       "      <td id=\"T_0387c_row1_col4\" class=\"data row1 col4\" >16</td>\n",
       "      <td id=\"T_0387c_row1_col5\" class=\"data row1 col5\" >0</td>\n",
       "      <td id=\"T_0387c_row1_col6\" class=\"data row1 col6\" >0</td>\n",
       "      <td id=\"T_0387c_row1_col7\" class=\"data row1 col7\" >0</td>\n",
       "      <td id=\"T_0387c_row1_col8\" class=\"data row1 col8\" >peptide</td>\n",
       "      <td id=\"T_0387c_row1_col9\" class=\"data row1 col9\" >0</td>\n",
       "      <td id=\"T_0387c_row1_col10\" class=\"data row1 col10\" >Peptide_0</td>\n",
       "    </tr>\n",
       "    <tr>\n",
       "      <td id=\"T_0387c_row2_col0\" class=\"data row2 col0\" >2</td>\n",
       "      <td id=\"T_0387c_row2_col1\" class=\"data row2 col1\" >3</td>\n",
       "      <td id=\"T_0387c_row2_col2\" class=\"data row2 col2\" >PRO</td>\n",
       "      <td id=\"T_0387c_row2_col3\" class=\"data row2 col3\" >aminoacid</td>\n",
       "      <td id=\"T_0387c_row2_col4\" class=\"data row2 col4\" >14</td>\n",
       "      <td id=\"T_0387c_row2_col5\" class=\"data row2 col5\" >0</td>\n",
       "      <td id=\"T_0387c_row2_col6\" class=\"data row2 col6\" >0</td>\n",
       "      <td id=\"T_0387c_row2_col7\" class=\"data row2 col7\" >0</td>\n",
       "      <td id=\"T_0387c_row2_col8\" class=\"data row2 col8\" >peptide</td>\n",
       "      <td id=\"T_0387c_row2_col9\" class=\"data row2 col9\" >0</td>\n",
       "      <td id=\"T_0387c_row2_col10\" class=\"data row2 col10\" >Peptide_0</td>\n",
       "    </tr>\n",
       "  </tbody>\n",
       "</table>\n"
      ],
      "text/plain": [
       "<pandas.io.formats.style.Styler at 0x7f2422d55ee0>"
      ]
     },
     "execution_count": 4,
     "metadata": {},
     "output_type": "execute_result"
    }
   ],
   "source": [
    "msm.info(molecular_system, element='group')"
   ]
  },
  {
   "cell_type": "code",
   "execution_count": 5,
   "metadata": {},
   "outputs": [
    {
     "data": {
      "text/plain": [
       "array(['ALA', 'VAL', 'PRO'], dtype=object)"
      ]
     },
     "execution_count": 5,
     "metadata": {},
     "output_type": "execute_result"
    }
   ],
   "source": [
    "msm.get(molecular_system, element='group', name=True)"
   ]
  },
  {
   "cell_type": "code",
   "execution_count": 6,
   "metadata": {},
   "outputs": [
    {
     "name": "stderr",
     "output_type": "stream",
     "text": [
      "Warning: importing 'simtk.openmm' is deprecated.  Import 'openmm' instead.\n"
     ]
    }
   ],
   "source": [
    "molecular_system_uncapped = msm.build.add_missing_terminal_cappings(molecular_system, N_terminal=None, C_terminal=None)"
   ]
  },
  {
   "cell_type": "code",
   "execution_count": 7,
   "metadata": {},
   "outputs": [
    {
     "data": {
      "text/html": [
       "<style type=\"text/css\">\n",
       "</style>\n",
       "<table id=\"T_85c99\">\n",
       "  <thead>\n",
       "    <tr>\n",
       "      <th id=\"T_85c99_level0_col0\" class=\"col_heading level0 col0\" >index</th>\n",
       "      <th id=\"T_85c99_level0_col1\" class=\"col_heading level0 col1\" >id</th>\n",
       "      <th id=\"T_85c99_level0_col2\" class=\"col_heading level0 col2\" >name</th>\n",
       "      <th id=\"T_85c99_level0_col3\" class=\"col_heading level0 col3\" >type</th>\n",
       "      <th id=\"T_85c99_level0_col4\" class=\"col_heading level0 col4\" >n atoms</th>\n",
       "      <th id=\"T_85c99_level0_col5\" class=\"col_heading level0 col5\" >component index</th>\n",
       "      <th id=\"T_85c99_level0_col6\" class=\"col_heading level0 col6\" >chain index</th>\n",
       "      <th id=\"T_85c99_level0_col7\" class=\"col_heading level0 col7\" >molecule index</th>\n",
       "      <th id=\"T_85c99_level0_col8\" class=\"col_heading level0 col8\" >molecule type</th>\n",
       "      <th id=\"T_85c99_level0_col9\" class=\"col_heading level0 col9\" >entity index</th>\n",
       "      <th id=\"T_85c99_level0_col10\" class=\"col_heading level0 col10\" >entity name</th>\n",
       "    </tr>\n",
       "  </thead>\n",
       "  <tbody>\n",
       "    <tr>\n",
       "      <td id=\"T_85c99_row0_col0\" class=\"data row0 col0\" >0</td>\n",
       "      <td id=\"T_85c99_row0_col1\" class=\"data row0 col1\" >1</td>\n",
       "      <td id=\"T_85c99_row0_col2\" class=\"data row0 col2\" >ALA</td>\n",
       "      <td id=\"T_85c99_row0_col3\" class=\"data row0 col3\" >aminoacid</td>\n",
       "      <td id=\"T_85c99_row0_col4\" class=\"data row0 col4\" >12</td>\n",
       "      <td id=\"T_85c99_row0_col5\" class=\"data row0 col5\" >0</td>\n",
       "      <td id=\"T_85c99_row0_col6\" class=\"data row0 col6\" >0</td>\n",
       "      <td id=\"T_85c99_row0_col7\" class=\"data row0 col7\" >0</td>\n",
       "      <td id=\"T_85c99_row0_col8\" class=\"data row0 col8\" >peptide</td>\n",
       "      <td id=\"T_85c99_row0_col9\" class=\"data row0 col9\" >0</td>\n",
       "      <td id=\"T_85c99_row0_col10\" class=\"data row0 col10\" >Peptide_0</td>\n",
       "    </tr>\n",
       "    <tr>\n",
       "      <td id=\"T_85c99_row1_col0\" class=\"data row1 col0\" >1</td>\n",
       "      <td id=\"T_85c99_row1_col1\" class=\"data row1 col1\" >2</td>\n",
       "      <td id=\"T_85c99_row1_col2\" class=\"data row1 col2\" >VAL</td>\n",
       "      <td id=\"T_85c99_row1_col3\" class=\"data row1 col3\" >aminoacid</td>\n",
       "      <td id=\"T_85c99_row1_col4\" class=\"data row1 col4\" >16</td>\n",
       "      <td id=\"T_85c99_row1_col5\" class=\"data row1 col5\" >0</td>\n",
       "      <td id=\"T_85c99_row1_col6\" class=\"data row1 col6\" >0</td>\n",
       "      <td id=\"T_85c99_row1_col7\" class=\"data row1 col7\" >0</td>\n",
       "      <td id=\"T_85c99_row1_col8\" class=\"data row1 col8\" >peptide</td>\n",
       "      <td id=\"T_85c99_row1_col9\" class=\"data row1 col9\" >0</td>\n",
       "      <td id=\"T_85c99_row1_col10\" class=\"data row1 col10\" >Peptide_0</td>\n",
       "    </tr>\n",
       "    <tr>\n",
       "      <td id=\"T_85c99_row2_col0\" class=\"data row2 col0\" >2</td>\n",
       "      <td id=\"T_85c99_row2_col1\" class=\"data row2 col1\" >3</td>\n",
       "      <td id=\"T_85c99_row2_col2\" class=\"data row2 col2\" >PRO</td>\n",
       "      <td id=\"T_85c99_row2_col3\" class=\"data row2 col3\" >aminoacid</td>\n",
       "      <td id=\"T_85c99_row2_col4\" class=\"data row2 col4\" >15</td>\n",
       "      <td id=\"T_85c99_row2_col5\" class=\"data row2 col5\" >0</td>\n",
       "      <td id=\"T_85c99_row2_col6\" class=\"data row2 col6\" >0</td>\n",
       "      <td id=\"T_85c99_row2_col7\" class=\"data row2 col7\" >0</td>\n",
       "      <td id=\"T_85c99_row2_col8\" class=\"data row2 col8\" >peptide</td>\n",
       "      <td id=\"T_85c99_row2_col9\" class=\"data row2 col9\" >0</td>\n",
       "      <td id=\"T_85c99_row2_col10\" class=\"data row2 col10\" >Peptide_0</td>\n",
       "    </tr>\n",
       "  </tbody>\n",
       "</table>\n"
      ],
      "text/plain": [
       "<pandas.io.formats.style.Styler at 0x7f242158fe50>"
      ]
     },
     "execution_count": 7,
     "metadata": {},
     "output_type": "execute_result"
    }
   ],
   "source": [
    "msm.info(molecular_system_uncapped, element='group')"
   ]
  },
  {
   "cell_type": "code",
   "execution_count": 8,
   "metadata": {},
   "outputs": [
    {
     "ename": "ArgumentError",
     "evalue": "Error in molsysmt.item.openmm_Topology.to_openmm_System.to_openmm_System due to the forcefield argument with value None.Check  for more information. If you still need help, open a new issue in https://github.com/uibcdf/MolSysMT/issues.",
     "output_type": "error",
     "traceback": [
      "\u001b[0;31m---------------------------------------------------------------------------\u001b[0m",
      "\u001b[0;31mArgumentError\u001b[0m                             Traceback (most recent call last)",
      "Input \u001b[0;32mIn [8]\u001b[0m, in \u001b[0;36m<cell line: 1>\u001b[0;34m()\u001b[0m\n\u001b[0;32m----> 1\u001b[0m \u001b[43mmsm\u001b[49m\u001b[38;5;241;43m.\u001b[39;49m\u001b[43mphyschem\u001b[49m\u001b[38;5;241;43m.\u001b[39;49m\u001b[43mcharge\u001b[49m\u001b[43m(\u001b[49m\u001b[43m[\u001b[49m\u001b[43mmolecular_system_uncapped\u001b[49m\u001b[43m,\u001b[49m\u001b[43m \u001b[49m\u001b[43m{\u001b[49m\u001b[38;5;124;43m'\u001b[39;49m\u001b[38;5;124;43mforcefield\u001b[39;49m\u001b[38;5;124;43m'\u001b[39;49m\u001b[43m:\u001b[49m\u001b[38;5;124;43m'\u001b[39;49m\u001b[38;5;124;43mAMBER14\u001b[39;49m\u001b[38;5;124;43m'\u001b[39;49m\u001b[43m}\u001b[49m\u001b[43m]\u001b[49m\u001b[43m,\u001b[49m\u001b[43m \u001b[49m\u001b[43melement\u001b[49m\u001b[38;5;241;43m=\u001b[39;49m\u001b[38;5;124;43m'\u001b[39;49m\u001b[38;5;124;43mgroup\u001b[39;49m\u001b[38;5;124;43m'\u001b[39;49m\u001b[43m)\u001b[49m\n",
      "File \u001b[0;32m~/projects@dprada/MolSysMT/molsysmt/_private/digestion/digest.py:119\u001b[0m, in \u001b[0;36mdigest.<locals>.digestor.<locals>.wrapper\u001b[0;34m(*args, **kwargs)\u001b[0m\n\u001b[1;32m    117\u001b[0m     \u001b[38;5;28;01mreturn\u001b[39;00m auxiliary_output\n\u001b[1;32m    118\u001b[0m \u001b[38;5;28;01melse\u001b[39;00m:\n\u001b[0;32m--> 119\u001b[0m     \u001b[38;5;28;01mreturn\u001b[39;00m \u001b[43mfunc\u001b[49m\u001b[43m(\u001b[49m\u001b[38;5;241;43m*\u001b[39;49m\u001b[38;5;241;43m*\u001b[39;49m\u001b[43mfinal_args\u001b[49m\u001b[43m)\u001b[49m\n",
      "File \u001b[0;32m~/projects@dprada/MolSysMT/molsysmt/physchem/charge.py:57\u001b[0m, in \u001b[0;36mcharge\u001b[0;34m(molecular_system, element, selection, definition, engine, syntax)\u001b[0m\n\u001b[1;32m     53\u001b[0m \u001b[38;5;28;01mif\u001b[39;00m engine \u001b[38;5;241m==\u001b[39m \u001b[38;5;124m'\u001b[39m\u001b[38;5;124mOpenMM\u001b[39m\u001b[38;5;124m'\u001b[39m:\n\u001b[1;32m     55\u001b[0m     \u001b[38;5;28;01mfrom\u001b[39;00m \u001b[38;5;21;01mopenmm\u001b[39;00m \u001b[38;5;28;01mimport\u001b[39;00m NonbondedForce\n\u001b[0;32m---> 57\u001b[0m     openmm_system \u001b[38;5;241m=\u001b[39m \u001b[43mconvert\u001b[49m\u001b[43m(\u001b[49m\u001b[43mmolecular_system\u001b[49m\u001b[43m,\u001b[49m\u001b[43m \u001b[49m\u001b[43mto_form\u001b[49m\u001b[38;5;241;43m=\u001b[39;49m\u001b[38;5;124;43m'\u001b[39;49m\u001b[38;5;124;43mopenmm.System\u001b[39;49m\u001b[38;5;124;43m'\u001b[39;49m\u001b[43m)\u001b[49m\n\u001b[1;32m     59\u001b[0m     output \u001b[38;5;241m=\u001b[39m []\n\u001b[1;32m     61\u001b[0m     \u001b[38;5;28;01mif\u001b[39;00m element\u001b[38;5;241m==\u001b[39m\u001b[38;5;124m'\u001b[39m\u001b[38;5;124matom\u001b[39m\u001b[38;5;124m'\u001b[39m:\n",
      "File \u001b[0;32m~/projects@dprada/MolSysMT/molsysmt/_private/digestion/digest.py:113\u001b[0m, in \u001b[0;36mdigest.<locals>.digestor.<locals>.wrapper\u001b[0;34m(*args, **kwargs)\u001b[0m\n\u001b[1;32m    110\u001b[0m final_args \u001b[38;5;241m=\u001b[39m digested_args\n\u001b[1;32m    112\u001b[0m \u001b[38;5;28;01mif\u001b[39;00m output:\n\u001b[0;32m--> 113\u001b[0m     auxiliary_output \u001b[38;5;241m=\u001b[39m \u001b[43mfunc\u001b[49m\u001b[43m(\u001b[49m\u001b[38;5;241;43m*\u001b[39;49m\u001b[38;5;241;43m*\u001b[39;49m\u001b[43mfinal_args\u001b[49m\u001b[43m)\u001b[49m\n\u001b[1;32m    114\u001b[0m     \u001b[38;5;28;01mif\u001b[39;00m \u001b[38;5;28misinstance\u001b[39m(auxiliary_output, (\u001b[38;5;28mlist\u001b[39m, \u001b[38;5;28mtuple\u001b[39m)):\n\u001b[1;32m    115\u001b[0m         \u001b[38;5;28;01mif\u001b[39;00m \u001b[38;5;28mlen\u001b[39m(auxiliary_output) \u001b[38;5;241m==\u001b[39m \u001b[38;5;241m1\u001b[39m:\n",
      "File \u001b[0;32m~/projects@dprada/MolSysMT/molsysmt/basic/convert.py:104\u001b[0m, in \u001b[0;36mconvert\u001b[0;34m(molecular_system, to_form, selection, structure_indices, syntax, **kwargs)\u001b[0m\n\u001b[1;32m    102\u001b[0m     \u001b[38;5;28;01mif\u001b[39;00m from_form \u001b[38;5;129;01min\u001b[39;00m dict_convert:\n\u001b[1;32m    103\u001b[0m         \u001b[38;5;28;01mif\u001b[39;00m to_form \u001b[38;5;129;01min\u001b[39;00m dict_convert[from_form]:\n\u001b[0;32m--> 104\u001b[0m             tmp_item \u001b[38;5;241m=\u001b[39m \u001b[43mdict_convert\u001b[49m\u001b[43m[\u001b[49m\u001b[43mfrom_form\u001b[49m\u001b[43m]\u001b[49m\u001b[43m[\u001b[49m\u001b[43mto_form\u001b[49m\u001b[43m]\u001b[49m\u001b[43m(\u001b[49m\u001b[43mitem\u001b[49m\u001b[43m,\u001b[49m\n\u001b[1;32m    105\u001b[0m \u001b[43m                                                        \u001b[49m\u001b[43mmolecular_system\u001b[49m\u001b[38;5;241;43m=\u001b[39;49m\u001b[43mmolecular_system\u001b[49m\u001b[43m,\u001b[49m\n\u001b[1;32m    106\u001b[0m \u001b[43m                                                        \u001b[49m\u001b[43matom_indices\u001b[49m\u001b[38;5;241;43m=\u001b[39;49m\u001b[43matom_indices\u001b[49m\u001b[43m,\u001b[49m\n\u001b[1;32m    107\u001b[0m \u001b[43m                                                        \u001b[49m\u001b[43mstructure_indices\u001b[49m\u001b[38;5;241;43m=\u001b[39;49m\u001b[43mstructure_indices\u001b[49m\u001b[43m,\u001b[49m\n\u001b[1;32m    108\u001b[0m \u001b[43m                                                        \u001b[49m\u001b[38;5;241;43m*\u001b[39;49m\u001b[38;5;241;43m*\u001b[39;49m\u001b[43mconversion_arguments\u001b[49m\u001b[43m,\u001b[49m\u001b[43m \u001b[49m\u001b[38;5;241;43m*\u001b[39;49m\u001b[38;5;241;43m*\u001b[39;49m\u001b[43mkwargs\u001b[49m\u001b[43m)\u001b[49m\n\u001b[1;32m    109\u001b[0m \u001b[38;5;28;01mif\u001b[39;00m tmp_item \u001b[38;5;129;01mis\u001b[39;00m \u001b[38;5;129;01mnot\u001b[39;00m \u001b[38;5;28;01mNone\u001b[39;00m:\n\u001b[1;32m    110\u001b[0m     \u001b[38;5;28;01mbreak\u001b[39;00m\n",
      "File \u001b[0;32m~/projects@dprada/MolSysMT/molsysmt/api_forms/api_molsysmt_MolSys.py:136\u001b[0m, in \u001b[0;36mto_openmm_System\u001b[0;34m(item, molecular_system, atom_indices, structure_indices)\u001b[0m\n\u001b[1;32m    133\u001b[0m \u001b[38;5;28;01mdef\u001b[39;00m \u001b[38;5;21mto_openmm_System\u001b[39m(item, molecular_system, atom_indices\u001b[38;5;241m=\u001b[39m\u001b[38;5;124m'\u001b[39m\u001b[38;5;124mall\u001b[39m\u001b[38;5;124m'\u001b[39m, structure_indices\u001b[38;5;241m=\u001b[39m\u001b[38;5;124m'\u001b[39m\u001b[38;5;124mall\u001b[39m\u001b[38;5;124m'\u001b[39m):\n\u001b[1;32m    134\u001b[0m     \u001b[38;5;28;01mfrom\u001b[39;00m \u001b[38;5;21;01mmolsysmt\u001b[39;00m\u001b[38;5;21;01m.\u001b[39;00m\u001b[38;5;21;01mitem\u001b[39;00m\u001b[38;5;21;01m.\u001b[39;00m\u001b[38;5;21;01mmolsysmt_MolSys\u001b[39;00m \u001b[38;5;28;01mimport\u001b[39;00m to_openmm_System \u001b[38;5;28;01mas\u001b[39;00m molsysmt_MolSys_to_openmm_System\n\u001b[0;32m--> 136\u001b[0m     \u001b[38;5;28;01mreturn\u001b[39;00m \u001b[43mmolsysmt_MolSys_to_openmm_System\u001b[49m\u001b[43m(\u001b[49m\u001b[43mitem\u001b[49m\u001b[43m,\u001b[49m\u001b[43m \u001b[49m\u001b[43matom_indices\u001b[49m\u001b[38;5;241;43m=\u001b[39;49m\u001b[43matom_indices\u001b[49m\u001b[43m,\u001b[49m\u001b[43m \u001b[49m\u001b[43mstructure_indices\u001b[49m\u001b[38;5;241;43m=\u001b[39;49m\u001b[43mstructure_indices\u001b[49m\u001b[43m)\u001b[49m\n",
      "File \u001b[0;32m~/projects@dprada/MolSysMT/molsysmt/_private/digestion/digest.py:119\u001b[0m, in \u001b[0;36mdigest.<locals>.digestor.<locals>.wrapper\u001b[0;34m(*args, **kwargs)\u001b[0m\n\u001b[1;32m    117\u001b[0m     \u001b[38;5;28;01mreturn\u001b[39;00m auxiliary_output\n\u001b[1;32m    118\u001b[0m \u001b[38;5;28;01melse\u001b[39;00m:\n\u001b[0;32m--> 119\u001b[0m     \u001b[38;5;28;01mreturn\u001b[39;00m \u001b[43mfunc\u001b[49m\u001b[43m(\u001b[49m\u001b[38;5;241;43m*\u001b[39;49m\u001b[38;5;241;43m*\u001b[39;49m\u001b[43mfinal_args\u001b[49m\u001b[43m)\u001b[49m\n",
      "File \u001b[0;32m~/projects@dprada/MolSysMT/molsysmt/item/molsysmt_MolSys/to_openmm_System.py:10\u001b[0m, in \u001b[0;36mto_openmm_System\u001b[0;34m(item, atom_indices, structure_indices)\u001b[0m\n\u001b[1;32m      7\u001b[0m \u001b[38;5;28;01mfrom\u001b[39;00m \u001b[38;5;21;01m.\u001b[39;00m\u001b[38;5;21;01m.\u001b[39;00m\u001b[38;5;21;01mopenmm_Topology\u001b[39;00m \u001b[38;5;28;01mimport\u001b[39;00m to_openmm_System \u001b[38;5;28;01mas\u001b[39;00m openmm_Topology_to_openmm_System\n\u001b[1;32m      9\u001b[0m tmp_item \u001b[38;5;241m=\u001b[39m to_openmm_Topology(item, atom_indices\u001b[38;5;241m=\u001b[39matom_indices, structure_indices\u001b[38;5;241m=\u001b[39mstructure_indices)\n\u001b[0;32m---> 10\u001b[0m tmp_item \u001b[38;5;241m=\u001b[39m \u001b[43mopenmm_Topology_to_openmm_System\u001b[49m\u001b[43m(\u001b[49m\u001b[43mtmp_item\u001b[49m\u001b[43m)\u001b[49m\n\u001b[1;32m     12\u001b[0m \u001b[38;5;28;01mreturn\u001b[39;00m tmp_item\n",
      "File \u001b[0;32m~/projects@dprada/MolSysMT/molsysmt/_private/digestion/digest.py:105\u001b[0m, in \u001b[0;36mdigest.<locals>.digestor.<locals>.wrapper\u001b[0;34m(*args, **kwargs)\u001b[0m\n\u001b[1;32m    102\u001b[0m     \u001b[38;5;28;01mpass\u001b[39;00m\n\u001b[1;32m    104\u001b[0m \u001b[38;5;28;01mfor\u001b[39;00m arg_name \u001b[38;5;129;01min\u001b[39;00m all_args:\n\u001b[0;32m--> 105\u001b[0m     \u001b[43mgut\u001b[49m\u001b[43m(\u001b[49m\u001b[43marg_name\u001b[49m\u001b[43m)\u001b[49m\n\u001b[1;32m    107\u001b[0m \u001b[38;5;28;01mfor\u001b[39;00m arg_name \u001b[38;5;129;01min\u001b[39;00m not_digested_args:\n\u001b[1;32m    108\u001b[0m     warnings\u001b[38;5;241m.\u001b[39mwarn(arg_name\u001b[38;5;241m+\u001b[39m\u001b[38;5;124m'\u001b[39m\u001b[38;5;124m from \u001b[39m\u001b[38;5;124m'\u001b[39m\u001b[38;5;241m+\u001b[39mcaller, NotDigestedArgumentWarning, stacklevel\u001b[38;5;241m=\u001b[39m\u001b[38;5;241m2\u001b[39m)\n",
      "File \u001b[0;32m~/projects@dprada/MolSysMT/molsysmt/_private/digestion/digest.py:97\u001b[0m, in \u001b[0;36mdigest.<locals>.digestor.<locals>.wrapper.<locals>.gut\u001b[0;34m(arg_name)\u001b[0m\n\u001b[1;32m     95\u001b[0m         \u001b[38;5;28;01melse\u001b[39;00m:\n\u001b[1;32m     96\u001b[0m             parameters_dict[parameter] \u001b[38;5;241m=\u001b[39m \u001b[38;5;28;01mNone\u001b[39;00m\n\u001b[0;32m---> 97\u001b[0m     digested_args[arg_name] \u001b[38;5;241m=\u001b[39m \u001b[43mdigestion_functions\u001b[49m\u001b[43m[\u001b[49m\u001b[43marg_name\u001b[49m\u001b[43m]\u001b[49m\u001b[43m(\u001b[49m\u001b[43mall_args\u001b[49m\u001b[43m[\u001b[49m\u001b[43marg_name\u001b[49m\u001b[43m]\u001b[49m\u001b[43m,\u001b[49m\n\u001b[1;32m     98\u001b[0m \u001b[43m                                                  \u001b[49m\u001b[43mcaller\u001b[49m\u001b[38;5;241;43m=\u001b[39;49m\u001b[43mcaller\u001b[49m\u001b[43m,\u001b[49m\n\u001b[1;32m     99\u001b[0m \u001b[43m                                                  \u001b[49m\u001b[38;5;241;43m*\u001b[39;49m\u001b[38;5;241;43m*\u001b[39;49m\u001b[43mparameters_dict\u001b[49m\u001b[43m)\u001b[49m\n\u001b[1;32m    100\u001b[0m \u001b[38;5;28;01melse\u001b[39;00m:\n\u001b[1;32m    101\u001b[0m     not_digested_args[arg_name] \u001b[38;5;241m=\u001b[39m all_args[arg_name]\n",
      "File \u001b[0;32m~/projects@dprada/MolSysMT/molsysmt/_private/digestion/argument/forcefield.py:8\u001b[0m, in \u001b[0;36mdigest_forcefield\u001b[0;34m(forcefield, caller)\u001b[0m\n\u001b[1;32m      5\u001b[0m \u001b[38;5;28;01mif\u001b[39;00m \u001b[38;5;28misinstance\u001b[39m(forcefield, \u001b[38;5;28mstr\u001b[39m):\n\u001b[1;32m      6\u001b[0m     \u001b[38;5;28;01mreturn\u001b[39;00m forcefield\n\u001b[0;32m----> 8\u001b[0m \u001b[38;5;28;01mraise\u001b[39;00m ArgumentError(\u001b[38;5;124m'\u001b[39m\u001b[38;5;124mforcefield\u001b[39m\u001b[38;5;124m'\u001b[39m, value\u001b[38;5;241m=\u001b[39mforcefield, caller\u001b[38;5;241m=\u001b[39mcaller, message\u001b[38;5;241m=\u001b[39m\u001b[38;5;28;01mNone\u001b[39;00m)\n",
      "\u001b[0;31mArgumentError\u001b[0m: Error in molsysmt.item.openmm_Topology.to_openmm_System.to_openmm_System due to the forcefield argument with value None.Check  for more information. If you still need help, open a new issue in https://github.com/uibcdf/MolSysMT/issues."
     ]
    }
   ],
   "source": [
    "msm.physchem.charge([molecular_system_uncapped, {'forcefield':'AMBER14'}], element='group')"
   ]
  },
  {
   "cell_type": "code",
   "execution_count": null,
   "metadata": {},
   "outputs": [],
   "source": [
    "molecular_system_capped = msm.build.add_missing_terminal_cappings(molecular_system, N_terminal='ACE', C_terminal='NME')"
   ]
  },
  {
   "cell_type": "code",
   "execution_count": null,
   "metadata": {},
   "outputs": [],
   "source": [
    "msm.info(molecular_system_capped, element='group')"
   ]
  },
  {
   "cell_type": "code",
   "execution_count": null,
   "metadata": {},
   "outputs": [],
   "source": [
    "msm.physchem.charge([molecular_system_capped, {'forcefield':'AMBER14'}], element='group')"
   ]
  },
  {
   "cell_type": "code",
   "execution_count": null,
   "metadata": {},
   "outputs": [],
   "source": []
  }
 ],
 "metadata": {
  "kernelspec": {
   "display_name": "Python 3 (ipykernel)",
   "language": "python",
   "name": "python3"
  },
  "language_info": {
   "codemirror_mode": {
    "name": "ipython",
    "version": 3
   },
   "file_extension": ".py",
   "mimetype": "text/x-python",
   "name": "python",
   "nbconvert_exporter": "python",
   "pygments_lexer": "ipython3",
   "version": "3.9.13"
  }
 },
 "nbformat": 4,
 "nbformat_minor": 4
}
