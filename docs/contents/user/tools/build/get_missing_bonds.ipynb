{
 "cells": [
  {
   "cell_type": "code",
   "execution_count": 1,
   "id": "a7de832f-f41c-4ef7-8fc7-f902ce811e48",
   "metadata": {},
   "outputs": [],
   "source": [
    "%load_ext autoreload\n",
    "%autoreload 2"
   ]
  },
  {
   "cell_type": "code",
   "execution_count": 2,
   "id": "6994fe5b-cabb-4d79-a681-8634f0c86395",
   "metadata": {},
   "outputs": [
    {
     "name": "stderr",
     "output_type": "stream",
     "text": [
      "/home/diego/projects@dprada/MolSysMT/molsysmt/build/get_missing_bonds.py:27: SyntaxWarning: \"is\" with a literal. Did you mean \"==\"?\n",
      "  if structure_indices is 'all':\n"
     ]
    },
    {
     "data": {
      "application/vnd.jupyter.widget-view+json": {
       "model_id": "f4dbfcd71efc4a6eb20ffeb1f3412021",
       "version_major": 2,
       "version_minor": 0
      },
      "text/plain": []
     },
     "metadata": {},
     "output_type": "display_data"
    }
   ],
   "source": [
    "import molsysmt as msm"
   ]
  },
  {
   "cell_type": "code",
   "execution_count": null,
   "id": "1a26a924-bbc4-476c-a66a-972b36021d12",
   "metadata": {},
   "outputs": [],
   "source": [
    "molsys = msm.convert(msm.demo['nglview']['md_1u19.pdb'], to_form='molsysmt.MolSys')"
   ]
  },
  {
   "cell_type": "code",
   "execution_count": null,
   "id": "4d5c0203-48dd-46e1-952e-4d34bab6b2be",
   "metadata": {},
   "outputs": [],
   "source": [
    "msm.convert(molsys, to_form='file:pdb')"
   ]
  },
  {
   "cell_type": "code",
   "execution_count": null,
   "id": "6f331d2e-57ec-47e6-8520-2b63d3d1682a",
   "metadata": {},
   "outputs": [],
   "source": [
    "msm.info(molsys)"
   ]
  },
  {
   "cell_type": "code",
   "execution_count": null,
   "id": "17d6bc9c-f2ae-42c6-bfa6-b89532b69489",
   "metadata": {},
   "outputs": [],
   "source": [
    "neighbors, distances = msm.structure.get_neighbors(molsys, selection=[0,1,2,3,4], selection_2=[5, 6, 7, 8, 9], threshold='2 angstroms')"
   ]
  },
  {
   "cell_type": "code",
   "execution_count": null,
   "id": "88fc27ce-7e4d-48e4-a0a8-b7f7d008260e",
   "metadata": {},
   "outputs": [],
   "source": [
    "neighbors[0][4]"
   ]
  },
  {
   "cell_type": "code",
   "execution_count": null,
   "id": "b87ada3b-b30f-4837-b0cb-5b42ae3dd8be",
   "metadata": {},
   "outputs": [],
   "source": [
    "old_bonds = msm.get(molsys, element='bond', selection='all', atom_index=True, check=False)"
   ]
  },
  {
   "cell_type": "code",
   "execution_count": null,
   "id": "687414b4-1577-426c-a518-72e07f86fb94",
   "metadata": {},
   "outputs": [],
   "source": [
    "msm.get(molsys, element='atom', selection='all', inner_bonded_atoms=True)"
   ]
  },
  {
   "cell_type": "code",
   "execution_count": null,
   "id": "db151141-dc5f-4e8e-a21a-a34edc89c10b",
   "metadata": {},
   "outputs": [],
   "source": [
    "old_bonds[0]"
   ]
  },
  {
   "cell_type": "code",
   "execution_count": null,
   "id": "84be1cc6-b2f8-4e82-8fe5-1760bb130c00",
   "metadata": {},
   "outputs": [],
   "source": [
    "neighbors[0][0]"
   ]
  },
  {
   "cell_type": "code",
   "execution_count": null,
   "id": "5708632d-6c1b-4607-9df8-57559d096bae",
   "metadata": {},
   "outputs": [],
   "source": [
    "for pair in old_bonds:\n",
    "    if pair[1] not in neighbors[0][pair[0]]:\n",
    "        print(pair)"
   ]
  },
  {
   "cell_type": "code",
   "execution_count": null,
   "id": "dfa56978-2b29-4c23-8c56-3f266d9acaf8",
   "metadata": {},
   "outputs": [],
   "source": [
    "msm.structure.get_distances(molsys, selection='atom_index==2936', selection_2='atom_index==1761')"
   ]
  },
  {
   "cell_type": "code",
   "execution_count": null,
   "id": "3a3cd16c-464b-4eaa-a291-a7e18ee29dcf",
   "metadata": {},
   "outputs": [],
   "source": [
    "msm.get(molsys, element='atom', selection='atom_index==2936', bonded_atoms=True)"
   ]
  },
  {
   "cell_type": "code",
   "execution_count": null,
   "id": "5d822dc1-6981-48e6-8487-d72b52c9dd09",
   "metadata": {},
   "outputs": [],
   "source": [
    "old_bonds = msm.get(molsys, element='bond', selection='all', atom_index=True)"
   ]
  },
  {
   "cell_type": "code",
   "execution_count": null,
   "id": "346c6c99-f5d2-49bc-b287-ba1e1ebad2f7",
   "metadata": {},
   "outputs": [],
   "source": [
    "msm.build.get_missing_bonds(molsys)"
   ]
  },
  {
   "cell_type": "code",
   "execution_count": null,
   "id": "94dcce64-5db1-43d4-910c-e6379180c983",
   "metadata": {},
   "outputs": [],
   "source": [
    "import pytraj\n",
    "from io import StringIO\n",
    "\n",
    "\n",
    "string_pdb = msm.convert(msm.demo['nglview']['md_1u19.pdb'], to_form='string:pdb_text')\n",
    "\n",
    "tmp_io = StringIO()\n",
    "tmp_io.write(string_pdb)\n",
    "tmp_io.close()\n"
   ]
  },
  {
   "cell_type": "code",
   "execution_count": null,
   "id": "e68fce98-c226-4d30-877a-4eeecea0b088",
   "metadata": {},
   "outputs": [],
   "source": [
    "tmp_io.filename='aaa.pdb'"
   ]
  },
  {
   "cell_type": "code",
   "execution_count": null,
   "id": "328f752f-84de-4b1c-bd3f-1131a9a8ebcd",
   "metadata": {},
   "outputs": [],
   "source": [
    "pytraj.load_topology(tmp_io)"
   ]
  },
  {
   "cell_type": "code",
   "execution_count": null,
   "id": "1a0b5025-09d8-461e-89c0-6425c48f6482",
   "metadata": {},
   "outputs": [],
   "source": [
    "pytraj.io."
   ]
  },
  {
   "cell_type": "code",
   "execution_count": null,
   "id": "8a7667ba-7be7-43cf-95ed-fcc461dcb74a",
   "metadata": {},
   "outputs": [],
   "source": [
    "aa = [0, 1, 2]"
   ]
  },
  {
   "cell_type": "code",
   "execution_count": null,
   "id": "ffe6bb6b-cda3-420d-b5b4-691c76b33059",
   "metadata": {},
   "outputs": [],
   "source": [
    "aa[1], aa[2] = aa[2], aa[1]"
   ]
  },
  {
   "cell_type": "code",
   "execution_count": null,
   "id": "02003339-d04b-4c66-881c-bb9bbb7030b0",
   "metadata": {},
   "outputs": [],
   "source": [
    "aa"
   ]
  },
  {
   "cell_type": "code",
   "execution_count": null,
   "id": "c91b0e5c-89c0-45c6-87fe-fe76a52a8fa3",
   "metadata": {},
   "outputs": [],
   "source": [
    "aa = [[0,1], [2,3]]"
   ]
  },
  {
   "cell_type": "code",
   "execution_count": null,
   "id": "5d26d267-4116-4a1d-a541-ca06de61307d",
   "metadata": {},
   "outputs": [],
   "source": [
    "[2,3] in aa"
   ]
  },
  {
   "cell_type": "code",
   "execution_count": null,
   "id": "d9df8817-772c-4913-ab1e-80453a09f076",
   "metadata": {},
   "outputs": [],
   "source": [
    "aa = 'file:sadf'"
   ]
  },
  {
   "cell_type": "code",
   "execution_count": null,
   "id": "297760fa-2fa1-4892-917b-3cced7125cae",
   "metadata": {},
   "outputs": [],
   "source": [
    "aa.replace('file:','')"
   ]
  },
  {
   "cell_type": "code",
   "execution_count": null,
   "id": "5b2032f9-5674-4190-9fcd-bf97eaf26ede",
   "metadata": {},
   "outputs": [],
   "source": []
  }
 ],
 "metadata": {
  "kernelspec": {
   "display_name": "Python 3 (ipykernel)",
   "language": "python",
   "name": "python3"
  },
  "language_info": {
   "codemirror_mode": {
    "name": "ipython",
    "version": 3
   },
   "file_extension": ".py",
   "mimetype": "text/x-python",
   "name": "python",
   "nbconvert_exporter": "python",
   "pygments_lexer": "ipython3",
   "version": "3.9.13"
  }
 },
 "nbformat": 4,
 "nbformat_minor": 5
}
