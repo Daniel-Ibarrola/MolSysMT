{
 "cells": [
  {
   "cell_type": "code",
   "execution_count": 1,
   "id": "1c11382e-f67d-466e-aee6-5725b4200a69",
   "metadata": {},
   "outputs": [],
   "source": [
    "%load_ext autoreload\n",
    "%autoreload 2"
   ]
  },
  {
   "cell_type": "code",
   "execution_count": 2,
   "id": "3775837e-62a7-4079-9661-372cc4563718",
   "metadata": {},
   "outputs": [
    {
     "data": {
      "application/vnd.jupyter.widget-view+json": {
       "model_id": "bf7c0caf277e45cdb54628208d245bc7",
       "version_major": 2,
       "version_minor": 0
      },
      "text/plain": []
     },
     "metadata": {},
     "output_type": "display_data"
    }
   ],
   "source": [
    "import molsysmt as msm"
   ]
  },
  {
   "cell_type": "markdown",
   "id": "2f6cd114-c906-428f-b51f-3f7ff6267132",
   "metadata": {},
   "source": [
    "# Get missing heavy atoms"
   ]
  },
  {
   "cell_type": "code",
   "execution_count": 3,
   "id": "36127e9e-6811-4c65-bf88-b51c121b5265",
   "metadata": {},
   "outputs": [
    {
     "name": "stderr",
     "output_type": "stream",
     "text": [
      "/home/diego/projects@dprada/MolSysMT/molsysmt/item/mmtf_MMTFDecoder/to_molsysmt_Topology.py:31: UserWarning: The structure in the PDB has biological assemblies. There are geometrical transformations proposed in the structure. See the following issue in the source code repository: https://github.com/uibcdf/MolSysMT/issues/33\n",
      "  warnings.warn(warning_message)\n",
      "/home/diego/projects@dprada/MolSysMT/molsysmt/item/mmtf_MMTFDecoder/to_molsysmt_Topology.py:45: UserWarning: The bioassembly has a different number of chains than the total amount of chains\n",
      "  warnings.warn(warning_message)\n"
     ]
    }
   ],
   "source": [
    "molecular_system = msm.convert('pdb_id:1brs', to_form='molsysmt.MolSys')"
   ]
  },
  {
   "cell_type": "code",
   "execution_count": 4,
   "id": "29098771-2eec-4c05-9889-f929b7179958",
   "metadata": {},
   "outputs": [
    {
     "name": "stderr",
     "output_type": "stream",
     "text": [
      "/home/diego/MyMachine/locals/miniconda3/envs/MolSysMT@dprada_3.9/lib/python3.9/site-packages/openmm/app/internal/pdbstructure.py:538: UserWarning: WARNING: duplicate atom (ATOM   2692  CB  SER D  14      32.757  22.571   1.533  1.00  0.00           C  , ATOM   2690  CB  SER D  14      32.742  22.579   1.536  1.00  0.00           C  )\n",
      "  warnings.warn(\"WARNING: duplicate atom (%s, %s)\" % (atom, old_atom._pdb_string(old_atom.serial_number, atom.alternate_location_indicator)))\n",
      "/home/diego/MyMachine/locals/miniconda3/envs/MolSysMT@dprada_3.9/lib/python3.9/site-packages/openmm/app/internal/pdbstructure.py:538: UserWarning: WARNING: duplicate atom (ATOM   2693  OG  SER D  14      33.396  21.920   2.619  1.00  0.00           O  , ATOM   2691  OG  SER D  14      31.412  22.410   1.076  1.00  0.00           O  )\n",
      "  warnings.warn(\"WARNING: duplicate atom (%s, %s)\" % (atom, old_atom._pdb_string(old_atom.serial_number, atom.alternate_location_indicator)))\n"
     ]
    }
   ],
   "source": [
    "missing = msm.build.get_missing_heavy_atoms(molecular_system)"
   ]
  },
  {
   "cell_type": "code",
   "execution_count": 5,
   "id": "683925b0-2b02-4c02-9c9c-761f7cb6bbb2",
   "metadata": {},
   "outputs": [
    {
     "data": {
      "text/html": [
       "<style type=\"text/css\">\n",
       "</style>\n",
       "<table id=\"T_d9416\">\n",
       "  <thead>\n",
       "    <tr>\n",
       "      <th id=\"T_d9416_level0_col0\" class=\"col_heading level0 col0\" >form</th>\n",
       "      <th id=\"T_d9416_level0_col1\" class=\"col_heading level0 col1\" >n_atoms</th>\n",
       "      <th id=\"T_d9416_level0_col2\" class=\"col_heading level0 col2\" >n_groups</th>\n",
       "      <th id=\"T_d9416_level0_col3\" class=\"col_heading level0 col3\" >n_components</th>\n",
       "      <th id=\"T_d9416_level0_col4\" class=\"col_heading level0 col4\" >n_chains</th>\n",
       "      <th id=\"T_d9416_level0_col5\" class=\"col_heading level0 col5\" >n_molecules</th>\n",
       "      <th id=\"T_d9416_level0_col6\" class=\"col_heading level0 col6\" >n_entities</th>\n",
       "      <th id=\"T_d9416_level0_col7\" class=\"col_heading level0 col7\" >n_waters</th>\n",
       "      <th id=\"T_d9416_level0_col8\" class=\"col_heading level0 col8\" >n_proteins</th>\n",
       "      <th id=\"T_d9416_level0_col9\" class=\"col_heading level0 col9\" >n_structures</th>\n",
       "    </tr>\n",
       "  </thead>\n",
       "  <tbody>\n",
       "    <tr>\n",
       "      <td id=\"T_d9416_row0_col0\" class=\"data row0 col0\" >molsysmt.MolSys</td>\n",
       "      <td id=\"T_d9416_row0_col1\" class=\"data row0 col1\" >5153</td>\n",
       "      <td id=\"T_d9416_row0_col2\" class=\"data row0 col2\" >1101</td>\n",
       "      <td id=\"T_d9416_row0_col3\" class=\"data row0 col3\" >521</td>\n",
       "      <td id=\"T_d9416_row0_col4\" class=\"data row0 col4\" >12</td>\n",
       "      <td id=\"T_d9416_row0_col5\" class=\"data row0 col5\" >519</td>\n",
       "      <td id=\"T_d9416_row0_col6\" class=\"data row0 col6\" >3</td>\n",
       "      <td id=\"T_d9416_row0_col7\" class=\"data row0 col7\" >513</td>\n",
       "      <td id=\"T_d9416_row0_col8\" class=\"data row0 col8\" >6</td>\n",
       "      <td id=\"T_d9416_row0_col9\" class=\"data row0 col9\" >1</td>\n",
       "    </tr>\n",
       "  </tbody>\n",
       "</table>\n"
      ],
      "text/plain": [
       "<pandas.io.formats.style.Styler at 0x7efe12e03100>"
      ]
     },
     "execution_count": 5,
     "metadata": {},
     "output_type": "execute_result"
    }
   ],
   "source": [
    "msm.info(molecular_system)"
   ]
  },
  {
   "cell_type": "code",
   "execution_count": 6,
   "id": "4aa95e7a-668e-41c5-8ccd-a7bd20334c1c",
   "metadata": {},
   "outputs": [
    {
     "data": {
      "text/plain": [
       "{234: ['CG', 'CD', 'CE', 'NZ'],\n",
       " 237: ['CG', 'OD1', 'OD2'],\n",
       " 244: ['CD', 'OE1', 'OE2'],\n",
       " 246: ['CG', 'CD', 'OE1', 'NE2'],\n",
       " 254: ['CD', 'CE', 'NZ'],\n",
       " 260: ['CG1', 'CG2'],\n",
       " 264: ['CG', 'CD', 'CE', 'NZ'],\n",
       " 282: ['OG'],\n",
       " 325: ['O'],\n",
       " 383: ['OE1', 'NE2'],\n",
       " 385: ['NZ'],\n",
       " 386: ['CG', 'CD', 'OE1', 'NE2'],\n",
       " 422: ['NE', 'CZ', 'NH1', 'NH2'],\n",
       " 429: ['CG', 'CD', 'OE1', 'NE2'],\n",
       " 465: ['NE', 'CZ', 'NH1', 'NH2'],\n",
       " 469: ['CG', 'CD', 'OE1', 'NE2'],\n",
       " 471: ['CG', 'CD', 'CE', 'NZ'],\n",
       " 472: ['CG', 'CD', 'OE1', 'NE2'],\n",
       " 473: ['CG', 'CD1', 'CD2'],\n",
       " 520: ['CD', 'CE', 'NZ'],\n",
       " 526: ['CG', 'CD', 'OE1', 'OE2'],\n",
       " 544: ['CG', 'CD', 'OE1', 'OE2'],\n",
       " 562: ['CG', 'CD', 'OE1', 'OE2'],\n",
       " 563: ['CG', 'OD1', 'ND2'],\n",
       " 587: ['O']}"
      ]
     },
     "execution_count": 6,
     "metadata": {},
     "output_type": "execute_result"
    }
   ],
   "source": [
    "missing"
   ]
  },
  {
   "cell_type": "code",
   "execution_count": 7,
   "id": "1616c55d-f213-40a0-89a1-cacf5c13d439",
   "metadata": {},
   "outputs": [],
   "source": [
    "residues_with_missing_atoms = list(missing.keys())"
   ]
  },
  {
   "cell_type": "code",
   "execution_count": 9,
   "id": "926ad30b-abc8-4573-9578-7ce668e17a60",
   "metadata": {},
   "outputs": [
    {
     "data": {
      "text/html": [
       "<style type=\"text/css\">\n",
       "</style>\n",
       "<table id=\"T_ae7d9\">\n",
       "  <thead>\n",
       "    <tr>\n",
       "      <th id=\"T_ae7d9_level0_col0\" class=\"col_heading level0 col0\" >index</th>\n",
       "      <th id=\"T_ae7d9_level0_col1\" class=\"col_heading level0 col1\" >id</th>\n",
       "      <th id=\"T_ae7d9_level0_col2\" class=\"col_heading level0 col2\" >name</th>\n",
       "      <th id=\"T_ae7d9_level0_col3\" class=\"col_heading level0 col3\" >type</th>\n",
       "      <th id=\"T_ae7d9_level0_col4\" class=\"col_heading level0 col4\" >n atoms</th>\n",
       "      <th id=\"T_ae7d9_level0_col5\" class=\"col_heading level0 col5\" >component index</th>\n",
       "      <th id=\"T_ae7d9_level0_col6\" class=\"col_heading level0 col6\" >chain index</th>\n",
       "      <th id=\"T_ae7d9_level0_col7\" class=\"col_heading level0 col7\" >molecule index</th>\n",
       "      <th id=\"T_ae7d9_level0_col8\" class=\"col_heading level0 col8\" >molecule type</th>\n",
       "      <th id=\"T_ae7d9_level0_col9\" class=\"col_heading level0 col9\" >entity index</th>\n",
       "      <th id=\"T_ae7d9_level0_col10\" class=\"col_heading level0 col10\" >entity name</th>\n",
       "    </tr>\n",
       "  </thead>\n",
       "  <tbody>\n",
       "    <tr>\n",
       "      <td id=\"T_ae7d9_row0_col0\" class=\"data row0 col0\" >383</td>\n",
       "      <td id=\"T_ae7d9_row0_col1\" class=\"data row0 col1\" >58</td>\n",
       "      <td id=\"T_ae7d9_row0_col2\" class=\"data row0 col2\" >GLN</td>\n",
       "      <td id=\"T_ae7d9_row0_col3\" class=\"data row0 col3\" >aminoacid</td>\n",
       "      <td id=\"T_ae7d9_row0_col4\" class=\"data row0 col4\" >7</td>\n",
       "      <td id=\"T_ae7d9_row0_col5\" class=\"data row0 col5\" >3</td>\n",
       "      <td id=\"T_ae7d9_row0_col6\" class=\"data row0 col6\" >3</td>\n",
       "      <td id=\"T_ae7d9_row0_col7\" class=\"data row0 col7\" >3</td>\n",
       "      <td id=\"T_ae7d9_row0_col8\" class=\"data row0 col8\" >protein</td>\n",
       "      <td id=\"T_ae7d9_row0_col9\" class=\"data row0 col9\" >1</td>\n",
       "      <td id=\"T_ae7d9_row0_col10\" class=\"data row0 col10\" >Barstar</td>\n",
       "    </tr>\n",
       "    <tr>\n",
       "      <td id=\"T_ae7d9_row1_col0\" class=\"data row1 col0\" >385</td>\n",
       "      <td id=\"T_ae7d9_row1_col1\" class=\"data row1 col1\" >60</td>\n",
       "      <td id=\"T_ae7d9_row1_col2\" class=\"data row1 col2\" >LYS</td>\n",
       "      <td id=\"T_ae7d9_row1_col3\" class=\"data row1 col3\" >aminoacid</td>\n",
       "      <td id=\"T_ae7d9_row1_col4\" class=\"data row1 col4\" >8</td>\n",
       "      <td id=\"T_ae7d9_row1_col5\" class=\"data row1 col5\" >3</td>\n",
       "      <td id=\"T_ae7d9_row1_col6\" class=\"data row1 col6\" >3</td>\n",
       "      <td id=\"T_ae7d9_row1_col7\" class=\"data row1 col7\" >3</td>\n",
       "      <td id=\"T_ae7d9_row1_col8\" class=\"data row1 col8\" >protein</td>\n",
       "      <td id=\"T_ae7d9_row1_col9\" class=\"data row1 col9\" >1</td>\n",
       "      <td id=\"T_ae7d9_row1_col10\" class=\"data row1 col10\" >Barstar</td>\n",
       "    </tr>\n",
       "    <tr>\n",
       "      <td id=\"T_ae7d9_row2_col0\" class=\"data row2 col0\" >386</td>\n",
       "      <td id=\"T_ae7d9_row2_col1\" class=\"data row2 col1\" >61</td>\n",
       "      <td id=\"T_ae7d9_row2_col2\" class=\"data row2 col2\" >GLN</td>\n",
       "      <td id=\"T_ae7d9_row2_col3\" class=\"data row2 col3\" >aminoacid</td>\n",
       "      <td id=\"T_ae7d9_row2_col4\" class=\"data row2 col4\" >5</td>\n",
       "      <td id=\"T_ae7d9_row2_col5\" class=\"data row2 col5\" >3</td>\n",
       "      <td id=\"T_ae7d9_row2_col6\" class=\"data row2 col6\" >3</td>\n",
       "      <td id=\"T_ae7d9_row2_col7\" class=\"data row2 col7\" >3</td>\n",
       "      <td id=\"T_ae7d9_row2_col8\" class=\"data row2 col8\" >protein</td>\n",
       "      <td id=\"T_ae7d9_row2_col9\" class=\"data row2 col9\" >1</td>\n",
       "      <td id=\"T_ae7d9_row2_col10\" class=\"data row2 col10\" >Barstar</td>\n",
       "    </tr>\n",
       "  </tbody>\n",
       "</table>\n"
      ],
      "text/plain": [
       "<pandas.io.formats.style.Styler at 0x7efe11296c70>"
      ]
     },
     "execution_count": 9,
     "metadata": {},
     "output_type": "execute_result"
    }
   ],
   "source": [
    "msm.info(molecular_system, element='group', indices=[383, 385, 386])"
   ]
  },
  {
   "cell_type": "code",
   "execution_count": 10,
   "id": "ef7541b8-ac18-46d3-b6c1-3bd8dc6bf930",
   "metadata": {},
   "outputs": [
    {
     "ename": "ValueError",
     "evalue": "The number of positions must match the number of atoms",
     "output_type": "error",
     "traceback": [
      "\u001b[0;31m---------------------------------------------------------------------------\u001b[0m",
      "\u001b[0;31mValueError\u001b[0m                                Traceback (most recent call last)",
      "Input \u001b[0;32mIn [10]\u001b[0m, in \u001b[0;36m<cell line: 1>\u001b[0;34m()\u001b[0m\n\u001b[0;32m----> 1\u001b[0m missing \u001b[38;5;241m=\u001b[39m \u001b[43mmsm\u001b[49m\u001b[38;5;241;43m.\u001b[39;49m\u001b[43mbuild\u001b[49m\u001b[38;5;241;43m.\u001b[39;49m\u001b[43mget_missing_heavy_atoms\u001b[49m\u001b[43m(\u001b[49m\u001b[43mmolecular_system\u001b[49m\u001b[43m,\u001b[49m\u001b[43m \u001b[49m\u001b[43mselection\u001b[49m\u001b[38;5;241;43m=\u001b[39;49m\u001b[38;5;124;43m'\u001b[39;49m\u001b[38;5;124;43mcomponent_index==[3]\u001b[39;49m\u001b[38;5;124;43m'\u001b[39;49m\u001b[43m)\u001b[49m\n",
      "File \u001b[0;32m~/projects@dprada/MolSysMT/molsysmt/_private/digestion/digest.py:119\u001b[0m, in \u001b[0;36mdigest.<locals>.digestor.<locals>.wrapper\u001b[0;34m(*args, **kwargs)\u001b[0m\n\u001b[1;32m    117\u001b[0m     \u001b[38;5;28;01mreturn\u001b[39;00m auxiliary_output\n\u001b[1;32m    118\u001b[0m \u001b[38;5;28;01melse\u001b[39;00m:\n\u001b[0;32m--> 119\u001b[0m     \u001b[38;5;28;01mreturn\u001b[39;00m \u001b[43mfunc\u001b[49m\u001b[43m(\u001b[49m\u001b[38;5;241;43m*\u001b[39;49m\u001b[38;5;241;43m*\u001b[39;49m\u001b[43mfinal_args\u001b[49m\u001b[43m)\u001b[49m\n",
      "File \u001b[0;32m~/projects@dprada/MolSysMT/molsysmt/build/get_missing_heavy_atoms.py:14\u001b[0m, in \u001b[0;36mget_missing_heavy_atoms\u001b[0;34m(molecular_system, selection, syntax, engine)\u001b[0m\n\u001b[1;32m     10\u001b[0m \u001b[38;5;28;01mfrom\u001b[39;00m \u001b[38;5;21;01mmolsysmt\u001b[39;00m\u001b[38;5;21;01m.\u001b[39;00m\u001b[38;5;21;01mbasic\u001b[39;00m \u001b[38;5;28;01mimport\u001b[39;00m convert, get_form, select\n\u001b[1;32m     12\u001b[0m group_indices_in_selection \u001b[38;5;241m=\u001b[39m select(molecular_system, element\u001b[38;5;241m=\u001b[39m\u001b[38;5;124m'\u001b[39m\u001b[38;5;124mgroup\u001b[39m\u001b[38;5;124m'\u001b[39m, selection\u001b[38;5;241m=\u001b[39mselection)\n\u001b[0;32m---> 14\u001b[0m temp_molecular_system \u001b[38;5;241m=\u001b[39m \u001b[43mconvert\u001b[49m\u001b[43m(\u001b[49m\u001b[43mmolecular_system\u001b[49m\u001b[43m,\u001b[49m\u001b[43m \u001b[49m\u001b[43mto_form\u001b[49m\u001b[38;5;241;43m=\u001b[39;49m\u001b[38;5;124;43m\"\u001b[39;49m\u001b[38;5;124;43mpdbfixer.PDBFixer\u001b[39;49m\u001b[38;5;124;43m\"\u001b[39;49m\u001b[43m,\u001b[49m\u001b[43m \u001b[49m\u001b[43mselection\u001b[49m\u001b[38;5;241;43m=\u001b[39;49m\u001b[43mselection\u001b[49m\u001b[43m,\u001b[49m\n\u001b[1;32m     15\u001b[0m \u001b[43m                                \u001b[49m\u001b[43msyntax\u001b[49m\u001b[38;5;241;43m=\u001b[39;49m\u001b[43msyntax\u001b[49m\u001b[43m)\u001b[49m\n\u001b[1;32m     17\u001b[0m temp_molecular_system\u001b[38;5;241m.\u001b[39mfindMissingResidues()\n\u001b[1;32m     18\u001b[0m temp_molecular_system\u001b[38;5;241m.\u001b[39mfindMissingAtoms()\n",
      "File \u001b[0;32m~/projects@dprada/MolSysMT/molsysmt/_private/digestion/digest.py:113\u001b[0m, in \u001b[0;36mdigest.<locals>.digestor.<locals>.wrapper\u001b[0;34m(*args, **kwargs)\u001b[0m\n\u001b[1;32m    110\u001b[0m final_args \u001b[38;5;241m=\u001b[39m digested_args\n\u001b[1;32m    112\u001b[0m \u001b[38;5;28;01mif\u001b[39;00m output:\n\u001b[0;32m--> 113\u001b[0m     auxiliary_output \u001b[38;5;241m=\u001b[39m \u001b[43mfunc\u001b[49m\u001b[43m(\u001b[49m\u001b[38;5;241;43m*\u001b[39;49m\u001b[38;5;241;43m*\u001b[39;49m\u001b[43mfinal_args\u001b[49m\u001b[43m)\u001b[49m\n\u001b[1;32m    114\u001b[0m     \u001b[38;5;28;01mif\u001b[39;00m \u001b[38;5;28misinstance\u001b[39m(auxiliary_output, (\u001b[38;5;28mlist\u001b[39m, \u001b[38;5;28mtuple\u001b[39m)):\n\u001b[1;32m    115\u001b[0m         \u001b[38;5;28;01mif\u001b[39;00m \u001b[38;5;28mlen\u001b[39m(auxiliary_output) \u001b[38;5;241m==\u001b[39m \u001b[38;5;241m1\u001b[39m:\n",
      "File \u001b[0;32m~/projects@dprada/MolSysMT/molsysmt/basic/convert.py:104\u001b[0m, in \u001b[0;36mconvert\u001b[0;34m(molecular_system, to_form, selection, structure_indices, syntax, **kwargs)\u001b[0m\n\u001b[1;32m    102\u001b[0m     \u001b[38;5;28;01mif\u001b[39;00m from_form \u001b[38;5;129;01min\u001b[39;00m dict_convert:\n\u001b[1;32m    103\u001b[0m         \u001b[38;5;28;01mif\u001b[39;00m to_form \u001b[38;5;129;01min\u001b[39;00m dict_convert[from_form]:\n\u001b[0;32m--> 104\u001b[0m             tmp_item \u001b[38;5;241m=\u001b[39m \u001b[43mdict_convert\u001b[49m\u001b[43m[\u001b[49m\u001b[43mfrom_form\u001b[49m\u001b[43m]\u001b[49m\u001b[43m[\u001b[49m\u001b[43mto_form\u001b[49m\u001b[43m]\u001b[49m\u001b[43m(\u001b[49m\u001b[43mitem\u001b[49m\u001b[43m,\u001b[49m\n\u001b[1;32m    105\u001b[0m \u001b[43m                                                        \u001b[49m\u001b[43mmolecular_system\u001b[49m\u001b[38;5;241;43m=\u001b[39;49m\u001b[43mmolecular_system\u001b[49m\u001b[43m,\u001b[49m\n\u001b[1;32m    106\u001b[0m \u001b[43m                                                        \u001b[49m\u001b[43matom_indices\u001b[49m\u001b[38;5;241;43m=\u001b[39;49m\u001b[43matom_indices\u001b[49m\u001b[43m,\u001b[49m\n\u001b[1;32m    107\u001b[0m \u001b[43m                                                        \u001b[49m\u001b[43mstructure_indices\u001b[49m\u001b[38;5;241;43m=\u001b[39;49m\u001b[43mstructure_indices\u001b[49m\u001b[43m,\u001b[49m\n\u001b[1;32m    108\u001b[0m \u001b[43m                                                        \u001b[49m\u001b[38;5;241;43m*\u001b[39;49m\u001b[38;5;241;43m*\u001b[39;49m\u001b[43mconversion_arguments\u001b[49m\u001b[43m,\u001b[49m\u001b[43m \u001b[49m\u001b[38;5;241;43m*\u001b[39;49m\u001b[38;5;241;43m*\u001b[39;49m\u001b[43mkwargs\u001b[49m\u001b[43m)\u001b[49m\n\u001b[1;32m    109\u001b[0m \u001b[38;5;28;01mif\u001b[39;00m tmp_item \u001b[38;5;129;01mis\u001b[39;00m \u001b[38;5;129;01mnot\u001b[39;00m \u001b[38;5;28;01mNone\u001b[39;00m:\n\u001b[1;32m    110\u001b[0m     \u001b[38;5;28;01mbreak\u001b[39;00m\n",
      "File \u001b[0;32m~/projects@dprada/MolSysMT/molsysmt/api_forms/api_molsysmt_MolSys.py:174\u001b[0m, in \u001b[0;36mto_pdbfixer_PDBFixer\u001b[0;34m(item, molecular_system, atom_indices, structure_indices)\u001b[0m\n\u001b[1;32m    171\u001b[0m \u001b[38;5;28;01mdef\u001b[39;00m \u001b[38;5;21mto_pdbfixer_PDBFixer\u001b[39m(item, molecular_system, atom_indices\u001b[38;5;241m=\u001b[39m\u001b[38;5;124m'\u001b[39m\u001b[38;5;124mall\u001b[39m\u001b[38;5;124m'\u001b[39m, structure_indices\u001b[38;5;241m=\u001b[39m\u001b[38;5;124m'\u001b[39m\u001b[38;5;124mall\u001b[39m\u001b[38;5;124m'\u001b[39m):\n\u001b[1;32m    172\u001b[0m     \u001b[38;5;28;01mfrom\u001b[39;00m \u001b[38;5;21;01mmolsysmt\u001b[39;00m\u001b[38;5;21;01m.\u001b[39;00m\u001b[38;5;21;01mitem\u001b[39;00m\u001b[38;5;21;01m.\u001b[39;00m\u001b[38;5;21;01mmolsysmt_MolSys\u001b[39;00m \u001b[38;5;28;01mimport\u001b[39;00m to_pdbfixer_PDBFixer \u001b[38;5;28;01mas\u001b[39;00m molsysmt_MolSys_to_pdbfixer_PDBFixer\n\u001b[0;32m--> 174\u001b[0m     \u001b[38;5;28;01mreturn\u001b[39;00m \u001b[43mmolsysmt_MolSys_to_pdbfixer_PDBFixer\u001b[49m\u001b[43m(\u001b[49m\u001b[43mitem\u001b[49m\u001b[43m,\u001b[49m\u001b[43m \u001b[49m\u001b[43matom_indices\u001b[49m\u001b[38;5;241;43m=\u001b[39;49m\u001b[43matom_indices\u001b[49m\u001b[43m,\u001b[49m\u001b[43m \u001b[49m\u001b[43mstructure_indices\u001b[49m\u001b[38;5;241;43m=\u001b[39;49m\u001b[43mstructure_indices\u001b[49m\u001b[43m)\u001b[49m\n",
      "File \u001b[0;32m~/projects@dprada/MolSysMT/molsysmt/_private/digestion/digest.py:119\u001b[0m, in \u001b[0;36mdigest.<locals>.digestor.<locals>.wrapper\u001b[0;34m(*args, **kwargs)\u001b[0m\n\u001b[1;32m    117\u001b[0m     \u001b[38;5;28;01mreturn\u001b[39;00m auxiliary_output\n\u001b[1;32m    118\u001b[0m \u001b[38;5;28;01melse\u001b[39;00m:\n\u001b[0;32m--> 119\u001b[0m     \u001b[38;5;28;01mreturn\u001b[39;00m \u001b[43mfunc\u001b[49m\u001b[43m(\u001b[49m\u001b[38;5;241;43m*\u001b[39;49m\u001b[38;5;241;43m*\u001b[39;49m\u001b[43mfinal_args\u001b[49m\u001b[43m)\u001b[49m\n",
      "File \u001b[0;32m~/projects@dprada/MolSysMT/molsysmt/item/molsysmt_MolSys/to_pdbfixer_PDBFixer.py:15\u001b[0m, in \u001b[0;36mto_pdbfixer_PDBFixer\u001b[0;34m(item, atom_indices, structure_indices)\u001b[0m\n\u001b[1;32m     12\u001b[0m \u001b[38;5;28;01mfrom\u001b[39;00m \u001b[38;5;21;01m.\u001b[39;00m \u001b[38;5;28;01mimport\u001b[39;00m to_string_pdb_text\n\u001b[1;32m     13\u001b[0m \u001b[38;5;28;01mfrom\u001b[39;00m \u001b[38;5;21;01mio\u001b[39;00m \u001b[38;5;28;01mimport\u001b[39;00m StringIO\n\u001b[0;32m---> 15\u001b[0m tmp_item \u001b[38;5;241m=\u001b[39m \u001b[43mto_string_pdb_text\u001b[49m\u001b[43m(\u001b[49m\u001b[43mitem\u001b[49m\u001b[43m,\u001b[49m\u001b[43m \u001b[49m\u001b[43matom_indices\u001b[49m\u001b[38;5;241;43m=\u001b[39;49m\u001b[43matom_indices\u001b[49m\u001b[43m,\u001b[49m\u001b[43m \u001b[49m\u001b[43mstructure_indices\u001b[49m\u001b[38;5;241;43m=\u001b[39;49m\u001b[43mstructure_indices\u001b[49m\u001b[43m)\u001b[49m\n\u001b[1;32m     16\u001b[0m tmp_item \u001b[38;5;241m=\u001b[39m StringIO(tmp_item)\n\u001b[1;32m     17\u001b[0m tmp_item \u001b[38;5;241m=\u001b[39m PDBFixer(pdbfile\u001b[38;5;241m=\u001b[39mtmp_item)\n",
      "File \u001b[0;32m~/projects@dprada/MolSysMT/molsysmt/_private/digestion/digest.py:119\u001b[0m, in \u001b[0;36mdigest.<locals>.digestor.<locals>.wrapper\u001b[0;34m(*args, **kwargs)\u001b[0m\n\u001b[1;32m    117\u001b[0m     \u001b[38;5;28;01mreturn\u001b[39;00m auxiliary_output\n\u001b[1;32m    118\u001b[0m \u001b[38;5;28;01melse\u001b[39;00m:\n\u001b[0;32m--> 119\u001b[0m     \u001b[38;5;28;01mreturn\u001b[39;00m \u001b[43mfunc\u001b[49m\u001b[43m(\u001b[49m\u001b[38;5;241;43m*\u001b[39;49m\u001b[38;5;241;43m*\u001b[39;49m\u001b[43mfinal_args\u001b[49m\u001b[43m)\u001b[49m\n",
      "File \u001b[0;32m~/projects@dprada/MolSysMT/molsysmt/item/molsysmt_MolSys/to_string_pdb_text.py:12\u001b[0m, in \u001b[0;36mto_string_pdb_text\u001b[0;34m(item, atom_indices, structure_indices)\u001b[0m\n\u001b[1;32m     10\u001b[0m tmp_item \u001b[38;5;241m=\u001b[39m to_openmm_Topology(item, atom_indices\u001b[38;5;241m=\u001b[39matom_indices, structure_indices\u001b[38;5;241m=\u001b[39mstructure_indices)\n\u001b[1;32m     11\u001b[0m coordinates \u001b[38;5;241m=\u001b[39m get_coordinates_from_atom(item, indices\u001b[38;5;241m=\u001b[39matom_indices, structure_indices\u001b[38;5;241m=\u001b[39mstructure_indices)\n\u001b[0;32m---> 12\u001b[0m tmp_item \u001b[38;5;241m=\u001b[39m \u001b[43mopenmm_Topology_to_string_pdb_text\u001b[49m\u001b[43m(\u001b[49m\u001b[43mtmp_item\u001b[49m\u001b[43m,\u001b[49m\u001b[43m \u001b[49m\u001b[43mcoordinates\u001b[49m\u001b[38;5;241;43m=\u001b[39;49m\u001b[43mcoordinates\u001b[49m\u001b[43m)\u001b[49m\n\u001b[1;32m     14\u001b[0m \u001b[38;5;28;01mreturn\u001b[39;00m tmp_item\n",
      "File \u001b[0;32m~/projects@dprada/MolSysMT/molsysmt/_private/digestion/digest.py:119\u001b[0m, in \u001b[0;36mdigest.<locals>.digestor.<locals>.wrapper\u001b[0;34m(*args, **kwargs)\u001b[0m\n\u001b[1;32m    117\u001b[0m     \u001b[38;5;28;01mreturn\u001b[39;00m auxiliary_output\n\u001b[1;32m    118\u001b[0m \u001b[38;5;28;01melse\u001b[39;00m:\n\u001b[0;32m--> 119\u001b[0m     \u001b[38;5;28;01mreturn\u001b[39;00m \u001b[43mfunc\u001b[49m\u001b[43m(\u001b[49m\u001b[38;5;241;43m*\u001b[39;49m\u001b[38;5;241;43m*\u001b[39;49m\u001b[43mfinal_args\u001b[49m\u001b[43m)\u001b[49m\n",
      "File \u001b[0;32m~/projects@dprada/MolSysMT/molsysmt/item/openmm_Topology/to_string_pdb_text.py:24\u001b[0m, in \u001b[0;36mto_string_pdb_text\u001b[0;34m(item, atom_indices, coordinates, box)\u001b[0m\n\u001b[1;32m     22\u001b[0m tmp_io \u001b[38;5;241m=\u001b[39m StringIO()\n\u001b[1;32m     23\u001b[0m coordinates \u001b[38;5;241m=\u001b[39m puw\u001b[38;5;241m.\u001b[39mconvert(coordinates[\u001b[38;5;241m0\u001b[39m], \u001b[38;5;124m'\u001b[39m\u001b[38;5;124mnm\u001b[39m\u001b[38;5;124m'\u001b[39m, to_form\u001b[38;5;241m=\u001b[39m\u001b[38;5;124m'\u001b[39m\u001b[38;5;124mopenmm.unit\u001b[39m\u001b[38;5;124m'\u001b[39m)\n\u001b[0;32m---> 24\u001b[0m \u001b[43mPDBFile\u001b[49m\u001b[38;5;241;43m.\u001b[39;49m\u001b[43mwriteFile\u001b[49m\u001b[43m(\u001b[49m\u001b[43mitem\u001b[49m\u001b[43m,\u001b[49m\u001b[43m \u001b[49m\u001b[43mcoordinates\u001b[49m\u001b[43m,\u001b[49m\u001b[43m \u001b[49m\u001b[43mtmp_io\u001b[49m\u001b[43m,\u001b[49m\u001b[43m \u001b[49m\u001b[43mkeepIds\u001b[49m\u001b[38;5;241;43m=\u001b[39;49m\u001b[38;5;28;43;01mTrue\u001b[39;49;00m\u001b[43m)\u001b[49m\n\u001b[1;32m     25\u001b[0m filedata \u001b[38;5;241m=\u001b[39m tmp_io\u001b[38;5;241m.\u001b[39mgetvalue()\n\u001b[1;32m     26\u001b[0m openmm_version \u001b[38;5;241m=\u001b[39m Platform\u001b[38;5;241m.\u001b[39mgetOpenMMVersion()\n",
      "File \u001b[0;32m~/MyMachine/locals/miniconda3/envs/MolSysMT@dprada_3.9/lib/python3.9/site-packages/openmm/app/pdbfile.py:291\u001b[0m, in \u001b[0;36mPDBFile.writeFile\u001b[0;34m(topology, positions, file, keepIds, extraParticleIdentifier)\u001b[0m\n\u001b[1;32m    272\u001b[0m \u001b[38;5;124;03m\"\"\"Write a PDB file containing a single model.\u001b[39;00m\n\u001b[1;32m    273\u001b[0m \n\u001b[1;32m    274\u001b[0m \u001b[38;5;124;03mParameters\u001b[39;00m\n\u001b[0;32m   (...)\u001b[0m\n\u001b[1;32m    288\u001b[0m \u001b[38;5;124;03m    String to write in the element column of the ATOM records for atoms whose element is None (extra particles)\u001b[39;00m\n\u001b[1;32m    289\u001b[0m \u001b[38;5;124;03m\"\"\"\u001b[39;00m\n\u001b[1;32m    290\u001b[0m PDBFile\u001b[38;5;241m.\u001b[39mwriteHeader(topology, file)\n\u001b[0;32m--> 291\u001b[0m \u001b[43mPDBFile\u001b[49m\u001b[38;5;241;43m.\u001b[39;49m\u001b[43mwriteModel\u001b[49m\u001b[43m(\u001b[49m\u001b[43mtopology\u001b[49m\u001b[43m,\u001b[49m\u001b[43m \u001b[49m\u001b[43mpositions\u001b[49m\u001b[43m,\u001b[49m\u001b[43m \u001b[49m\u001b[43mfile\u001b[49m\u001b[43m,\u001b[49m\u001b[43m \u001b[49m\u001b[43mkeepIds\u001b[49m\u001b[38;5;241;43m=\u001b[39;49m\u001b[43mkeepIds\u001b[49m\u001b[43m,\u001b[49m\u001b[43m \u001b[49m\u001b[43mextraParticleIdentifier\u001b[49m\u001b[38;5;241;43m=\u001b[39;49m\u001b[43mextraParticleIdentifier\u001b[49m\u001b[43m)\u001b[49m\n\u001b[1;32m    292\u001b[0m PDBFile\u001b[38;5;241m.\u001b[39mwriteFooter(topology, file)\n",
      "File \u001b[0;32m~/MyMachine/locals/miniconda3/envs/MolSysMT@dprada_3.9/lib/python3.9/site-packages/openmm/app/pdbfile.py:339\u001b[0m, in \u001b[0;36mPDBFile.writeModel\u001b[0;34m(topology, positions, file, modelIndex, keepIds, extraParticleIdentifier)\u001b[0m\n\u001b[1;32m    315\u001b[0m \u001b[38;5;124;03m\"\"\"Write out a model to a PDB file.\u001b[39;00m\n\u001b[1;32m    316\u001b[0m \n\u001b[1;32m    317\u001b[0m \u001b[38;5;124;03mParameters\u001b[39;00m\n\u001b[0;32m   (...)\u001b[0m\n\u001b[1;32m    335\u001b[0m \u001b[38;5;124;03m    String to write in the element column of the ATOM records for atoms whose element is None (extra particles)\u001b[39;00m\n\u001b[1;32m    336\u001b[0m \u001b[38;5;124;03m\"\"\"\u001b[39;00m\n\u001b[1;32m    338\u001b[0m \u001b[38;5;28;01mif\u001b[39;00m \u001b[38;5;28mlen\u001b[39m(\u001b[38;5;28mlist\u001b[39m(topology\u001b[38;5;241m.\u001b[39matoms())) \u001b[38;5;241m!=\u001b[39m \u001b[38;5;28mlen\u001b[39m(positions):\n\u001b[0;32m--> 339\u001b[0m     \u001b[38;5;28;01mraise\u001b[39;00m \u001b[38;5;167;01mValueError\u001b[39;00m(\u001b[38;5;124m'\u001b[39m\u001b[38;5;124mThe number of positions must match the number of atoms\u001b[39m\u001b[38;5;124m'\u001b[39m)\n\u001b[1;32m    340\u001b[0m \u001b[38;5;28;01mif\u001b[39;00m is_quantity(positions):\n\u001b[1;32m    341\u001b[0m     positions \u001b[38;5;241m=\u001b[39m positions\u001b[38;5;241m.\u001b[39mvalue_in_unit(angstroms)\n",
      "\u001b[0;31mValueError\u001b[0m: The number of positions must match the number of atoms"
     ]
    }
   ],
   "source": [
    "missing = msm.build.get_missing_heavy_atoms(molecular_system, selection='component_index==[3]')"
   ]
  },
  {
   "cell_type": "code",
   "execution_count": null,
   "id": "50ce93dd-09d5-475f-8615-b90985c3dbc8",
   "metadata": {},
   "outputs": [],
   "source": [
    "missing"
   ]
  },
  {
   "cell_type": "code",
   "execution_count": null,
   "id": "26ad189a-fca2-4ed4-bb2a-1f4a9f0d36af",
   "metadata": {},
   "outputs": [],
   "source": []
  }
 ],
 "metadata": {
  "kernelspec": {
   "display_name": "Python 3 (ipykernel)",
   "language": "python",
   "name": "python3"
  },
  "language_info": {
   "codemirror_mode": {
    "name": "ipython",
    "version": 3
   },
   "file_extension": ".py",
   "mimetype": "text/x-python",
   "name": "python",
   "nbconvert_exporter": "python",
   "pygments_lexer": "ipython3",
   "version": "3.9.13"
  }
 },
 "nbformat": 4,
 "nbformat_minor": 5
}
