{
 "cells": [
  {
   "cell_type": "code",
   "execution_count": 1,
   "id": "c3900f63-5852-49f3-9d82-446c2d219116",
   "metadata": {},
   "outputs": [],
   "source": [
    "%load_ext autoreload\n",
    "%autoreload 2"
   ]
  },
  {
   "cell_type": "code",
   "execution_count": 2,
   "id": "79f69f6c-49c4-43ca-928c-9936de5a1b77",
   "metadata": {},
   "outputs": [
    {
     "data": {
      "application/vnd.jupyter.widget-view+json": {
       "model_id": "0b11acc62818472a80c965b247c6f269",
       "version_major": 2,
       "version_minor": 0
      },
      "text/plain": []
     },
     "metadata": {},
     "output_type": "display_data"
    }
   ],
   "source": [
    "import molsysmt as msm"
   ]
  },
  {
   "cell_type": "markdown",
   "id": "ffc26562-8690-444b-adb1-d27e00d62d57",
   "metadata": {},
   "source": [
    "# Get missing residues"
   ]
  },
  {
   "cell_type": "code",
   "execution_count": 3,
   "id": "ae6fa8a5-da7d-4f2d-8a1f-096f9ca4b322",
   "metadata": {},
   "outputs": [
    {
     "name": "stderr",
     "output_type": "stream",
     "text": [
      "/home/diego/projects@dprada/MolSysMT/molsysmt/item/mmtf_MMTFDecoder/to_molsysmt_Topology.py:31: UserWarning: The structure in the PDB has biological assemblies. There are geometrical transformations proposed in the structure. See the following issue in the source code repository: https://github.com/uibcdf/MolSysMT/issues/33\n",
      "  warnings.warn(warning_message)\n",
      "/home/diego/projects@dprada/MolSysMT/molsysmt/item/mmtf_MMTFDecoder/to_molsysmt_Topology.py:45: UserWarning: The bioassembly has a different number of chains than the total amount of chains\n",
      "  warnings.warn(warning_message)\n"
     ]
    }
   ],
   "source": [
    "molecular_system = msm.convert('pdb_id:1brs', to_form='molsysmt.MolSys')"
   ]
  },
  {
   "cell_type": "code",
   "execution_count": 4,
   "id": "176b09fd-e84f-4f51-9e2b-d50e55d17919",
   "metadata": {},
   "outputs": [
    {
     "name": "stderr",
     "output_type": "stream",
     "text": [
      "/home/diego/MyMachine/locals/miniconda3/envs/MolSysMT@dprada_3.9/lib/python3.9/site-packages/openmm/app/internal/pdbstructure.py:538: UserWarning: WARNING: duplicate atom (ATOM   2692  CB  SER D  14      32.757  22.571   1.533  1.00  0.00           C  , ATOM   2690  CB  SER D  14      32.742  22.579   1.536  1.00  0.00           C  )\n",
      "  warnings.warn(\"WARNING: duplicate atom (%s, %s)\" % (atom, old_atom._pdb_string(old_atom.serial_number, atom.alternate_location_indicator)))\n",
      "/home/diego/MyMachine/locals/miniconda3/envs/MolSysMT@dprada_3.9/lib/python3.9/site-packages/openmm/app/internal/pdbstructure.py:538: UserWarning: WARNING: duplicate atom (ATOM   2693  OG  SER D  14      33.396  21.920   2.619  1.00  0.00           O  , ATOM   2691  OG  SER D  14      31.412  22.410   1.076  1.00  0.00           O  )\n",
      "  warnings.warn(\"WARNING: duplicate atom (%s, %s)\" % (atom, old_atom._pdb_string(old_atom.serial_number, atom.alternate_location_indicator)))\n"
     ]
    }
   ],
   "source": [
    "aa = msm.convert(molecular_system, to_form='pdbfixer.PDBFixer')"
   ]
  },
  {
   "cell_type": "code",
   "execution_count": 5,
   "id": "2104abaa-f49b-43d3-8b82-75036f9f7db6",
   "metadata": {},
   "outputs": [],
   "source": [
    "aa.findMissingResidues()"
   ]
  },
  {
   "cell_type": "code",
   "execution_count": 6,
   "id": "3280b828-7b70-4ffa-a2aa-a0f78079e379",
   "metadata": {},
   "outputs": [
    {
     "data": {
      "text/plain": [
       "{}"
      ]
     },
     "execution_count": 6,
     "metadata": {},
     "output_type": "execute_result"
    }
   ],
   "source": [
    "aa.missingResidues"
   ]
  },
  {
   "cell_type": "code",
   "execution_count": 7,
   "id": "023b6a5b-3ecc-4345-9378-840b187736e8",
   "metadata": {},
   "outputs": [
    {
     "name": "stderr",
     "output_type": "stream",
     "text": [
      "/home/diego/MyMachine/locals/miniconda3/envs/MolSysMT@dprada_3.9/lib/python3.9/site-packages/openmm/app/internal/pdbstructure.py:538: UserWarning: WARNING: duplicate atom (ATOM   2692  CB  SER D  14      32.757  22.571   1.533  1.00  0.00           C  , ATOM   2690  CB  SER D  14      32.742  22.579   1.536  1.00  0.00           C  )\n",
      "  warnings.warn(\"WARNING: duplicate atom (%s, %s)\" % (atom, old_atom._pdb_string(old_atom.serial_number, atom.alternate_location_indicator)))\n",
      "/home/diego/MyMachine/locals/miniconda3/envs/MolSysMT@dprada_3.9/lib/python3.9/site-packages/openmm/app/internal/pdbstructure.py:538: UserWarning: WARNING: duplicate atom (ATOM   2693  OG  SER D  14      33.396  21.920   2.619  1.00  0.00           O  , ATOM   2691  OG  SER D  14      31.412  22.410   1.076  1.00  0.00           O  )\n",
      "  warnings.warn(\"WARNING: duplicate atom (%s, %s)\" % (atom, old_atom._pdb_string(old_atom.serial_number, atom.alternate_location_indicator)))\n"
     ]
    }
   ],
   "source": [
    "missing = msm.build.get_missing_residues(molecular_system)"
   ]
  },
  {
   "cell_type": "code",
   "execution_count": 8,
   "id": "a774b706-5b31-490a-8f83-f25126647a16",
   "metadata": {},
   "outputs": [
    {
     "data": {
      "text/plain": [
       "{}"
      ]
     },
     "execution_count": 8,
     "metadata": {},
     "output_type": "execute_result"
    }
   ],
   "source": [
    "missing"
   ]
  },
  {
   "cell_type": "code",
   "execution_count": null,
   "id": "134eafee-206c-4f63-876a-bcf42e658270",
   "metadata": {},
   "outputs": [],
   "source": []
  }
 ],
 "metadata": {
  "kernelspec": {
   "display_name": "Python 3 (ipykernel)",
   "language": "python",
   "name": "python3"
  },
  "language_info": {
   "codemirror_mode": {
    "name": "ipython",
    "version": 3
   },
   "file_extension": ".py",
   "mimetype": "text/x-python",
   "name": "python",
   "nbconvert_exporter": "python",
   "pygments_lexer": "ipython3",
   "version": "3.9.13"
  }
 },
 "nbformat": 4,
 "nbformat_minor": 5
}
