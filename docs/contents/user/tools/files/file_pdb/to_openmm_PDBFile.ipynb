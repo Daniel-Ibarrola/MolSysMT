{
 "cells": [
  {
   "cell_type": "markdown",
   "id": "e5a90619-fb0c-4f28-a469-f86d179a4ff4",
   "metadata": {},
   "source": [
    "# To openmm.Modeller"
   ]
  },
  {
   "cell_type": "code",
   "execution_count": 1,
   "id": "0568c1fe-c845-470e-b71b-1378c8bb48e7",
   "metadata": {},
   "outputs": [
    {
     "name": "stderr",
     "output_type": "stream",
     "text": [
      "Warning: importing 'simtk.openmm' is deprecated.  Import 'openmm' instead.\n"
     ]
    },
    {
     "data": {
      "application/vnd.jupyter.widget-view+json": {
       "model_id": "917b1285d7a24dfdb58ca6b5b22b05a6",
       "version_major": 2,
       "version_minor": 0
      },
      "text/plain": []
     },
     "metadata": {},
     "output_type": "display_data"
    }
   ],
   "source": [
    "from molsysmt.tools import file_pdb"
   ]
  },
  {
   "cell_type": "code",
   "execution_count": 2,
   "id": "3c5921a2-f022-492f-97d1-cbb453c4ce3e",
   "metadata": {},
   "outputs": [],
   "source": [
    "#file_pdb.to_openmm_PDBFile(item)"
   ]
  },
  {
   "cell_type": "code",
   "execution_count": null,
   "id": "ffd4a6f9-31b8-45f9-bc21-f914113f383f",
   "metadata": {},
   "outputs": [],
   "source": []
  },
  {
   "cell_type": "code",
   "execution_count": null,
   "id": "64124f7a-a976-4633-bee7-2fe9437cb100",
   "metadata": {},
   "outputs": [],
   "source": []
  }
 ],
 "metadata": {
  "kernelspec": {
   "display_name": "Python 3 (ipykernel)",
   "language": "python",
   "name": "python3"
  },
  "language_info": {
   "codemirror_mode": {
    "name": "ipython",
    "version": 3
   },
   "file_extension": ".py",
   "mimetype": "text/x-python",
   "name": "python",
   "nbconvert_exporter": "python",
   "pygments_lexer": "ipython3",
   "version": "3.7.12"
  }
 },
 "nbformat": 4,
 "nbformat_minor": 5
}
