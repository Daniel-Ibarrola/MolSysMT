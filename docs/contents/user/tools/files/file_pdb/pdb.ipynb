{
 "cells": [
  {
   "cell_type": "code",
   "execution_count": 1,
   "id": "c934e864-87bf-4f1c-8758-79c5921e8e03",
   "metadata": {},
   "outputs": [],
   "source": [
    "%load_ext autoreload\n",
    "%autoreload 2"
   ]
  },
  {
   "cell_type": "markdown",
   "id": "6ade3436-7141-4d98-8378-c008e4baebef",
   "metadata": {},
   "source": [
    "# pdb file"
   ]
  },
  {
   "cell_type": "code",
   "execution_count": 2,
   "id": "5dc39f1b-fd18-4e5d-a834-868726c39829",
   "metadata": {},
   "outputs": [
    {
     "name": "stderr",
     "output_type": "stream",
     "text": [
      "Warning: importing 'simtk.openmm' is deprecated.  Import 'openmm' instead.\n"
     ]
    },
    {
     "data": {
      "application/vnd.jupyter.widget-view+json": {
       "model_id": "23dc7776ab0e43599184185434683df2",
       "version_major": 2,
       "version_minor": 0
      },
      "text/plain": []
     },
     "metadata": {},
     "output_type": "display_data"
    }
   ],
   "source": [
    "import molsysmt as msm"
   ]
  },
  {
   "cell_type": "code",
   "execution_count": null,
   "id": "1a88e263-0f71-4ba4-840b-40bfebead074",
   "metadata": {},
   "outputs": [],
   "source": [
    "msm.tools.file.pdb.download('1brs')"
   ]
  },
  {
   "cell_type": "code",
   "execution_count": 4,
   "id": "ec2d49ae-d311-4ec8-a814-ea973393dc86",
   "metadata": {},
   "outputs": [
    {
     "name": "stdout",
     "output_type": "stream",
     "text": [
      "ATOM   2690  CB ASER D  14      32.742  22.579   1.536  0.50 24.66           C  \n",
      "\n",
      "ATOM   2691  CB BSER D  14      32.757  22.571   1.533  0.50 24.67           C  \n",
      "\n",
      "ATOM   2692  OG ASER D  14      31.412  22.410   1.076  0.50 25.94           O  \n",
      "\n",
      "ATOM   2693  OG BSER D  14      33.396  21.920   2.619  0.50 25.96           O  \n",
      "\n"
     ]
    }
   ],
   "source": [
    "msm.tools.file.pdb.has_atoms_with_alternate_locations('1brs.pdb')"
   ]
  },
  {
   "cell_type": "code",
   "execution_count": null,
   "id": "4d7b9774-8da8-4f6d-97ef-b16fe27897eb",
   "metadata": {},
   "outputs": [],
   "source": []
  }
 ],
 "metadata": {
  "kernelspec": {
   "display_name": "Python 3 (ipykernel)",
   "language": "python",
   "name": "python3"
  },
  "language_info": {
   "codemirror_mode": {
    "name": "ipython",
    "version": 3
   },
   "file_extension": ".py",
   "mimetype": "text/x-python",
   "name": "python",
   "nbconvert_exporter": "python",
   "pygments_lexer": "ipython3",
   "version": "3.7.10"
  }
 },
 "nbformat": 4,
 "nbformat_minor": 5
}
