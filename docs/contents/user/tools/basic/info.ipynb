{
 "cells": [
  {
   "cell_type": "code",
   "execution_count": 1,
   "metadata": {},
   "outputs": [],
   "source": [
    "%load_ext autoreload\n",
    "%autoreload 2"
   ]
  },
  {
   "cell_type": "code",
   "execution_count": 2,
   "metadata": {},
   "outputs": [
    {
     "data": {
      "application/vnd.jupyter.widget-view+json": {
       "model_id": "e3960929ce014fc6b1e3ddb8df1996bd",
       "version_major": 2,
       "version_minor": 0
      },
      "text/plain": []
     },
     "metadata": {},
     "output_type": "display_data"
    }
   ],
   "source": [
    "import molsysmt as msm"
   ]
  },
  {
   "cell_type": "markdown",
   "metadata": {},
   "source": [
    "# Info\n",
    "\n",
    "*Printing out summary information of a molecular system*\n",
    "\n"
   ]
  },
  {
   "cell_type": "markdown",
   "metadata": {},
   "source": [
    "There is in MolSysMT a method to print out a brief overview of a molecular system and its elements. The output of this method can be a `pandas.DataFrame` or a `string`. Lets load a molecular system to illustrate with some simple examples how it works:"
   ]
  },
  {
   "cell_type": "code",
   "execution_count": 3,
   "metadata": {},
   "outputs": [
    {
     "name": "stderr",
     "output_type": "stream",
     "text": [
      "/home/diego/projects@dprada/MolSysMT/molsysmt/item/mmtf_MMTFDecoder/to_molsysmt_Topology.py:31: UserWarning: The structure in the PDB has biological assemblies. There are geometrical transformations proposed in the structure. See the following issue in the source code repository: https://github.com/uibcdf/MolSysMT/issues/33\n",
      "  warnings.warn(warning_message)\n"
     ]
    }
   ],
   "source": [
    "molecular_system = msm.convert('pdb_id:1tcd', to_form='molsysmt.MolSys')"
   ]
  },
  {
   "cell_type": "markdown",
   "metadata": {},
   "source": [
    "## As a DataFrame"
   ]
  },
  {
   "cell_type": "markdown",
   "metadata": {},
   "source": [
    "### Summary information on atoms\n",
    "\n",
    "The method `molsysmt.info()` can be applied over any element of the molecular system. Lets see an example where the summary information is shown for a set of atoms when the input argument `output='dataframe'`:"
   ]
  },
  {
   "cell_type": "code",
   "execution_count": 4,
   "metadata": {},
   "outputs": [
    {
     "data": {
      "text/html": [
       "<style type=\"text/css\">\n",
       "</style>\n",
       "<table id=\"T_ace6f\">\n",
       "  <thead>\n",
       "    <tr>\n",
       "      <th id=\"T_ace6f_level0_col0\" class=\"col_heading level0 col0\" >index</th>\n",
       "      <th id=\"T_ace6f_level0_col1\" class=\"col_heading level0 col1\" >id</th>\n",
       "      <th id=\"T_ace6f_level0_col2\" class=\"col_heading level0 col2\" >name</th>\n",
       "      <th id=\"T_ace6f_level0_col3\" class=\"col_heading level0 col3\" >type</th>\n",
       "      <th id=\"T_ace6f_level0_col4\" class=\"col_heading level0 col4\" >group index</th>\n",
       "      <th id=\"T_ace6f_level0_col5\" class=\"col_heading level0 col5\" >group id</th>\n",
       "      <th id=\"T_ace6f_level0_col6\" class=\"col_heading level0 col6\" >group name</th>\n",
       "      <th id=\"T_ace6f_level0_col7\" class=\"col_heading level0 col7\" >group type</th>\n",
       "      <th id=\"T_ace6f_level0_col8\" class=\"col_heading level0 col8\" >component index</th>\n",
       "      <th id=\"T_ace6f_level0_col9\" class=\"col_heading level0 col9\" >chain index</th>\n",
       "      <th id=\"T_ace6f_level0_col10\" class=\"col_heading level0 col10\" >molecule index</th>\n",
       "      <th id=\"T_ace6f_level0_col11\" class=\"col_heading level0 col11\" >molecule type</th>\n",
       "      <th id=\"T_ace6f_level0_col12\" class=\"col_heading level0 col12\" >entity index</th>\n",
       "      <th id=\"T_ace6f_level0_col13\" class=\"col_heading level0 col13\" >entity name</th>\n",
       "    </tr>\n",
       "  </thead>\n",
       "  <tbody>\n",
       "    <tr>\n",
       "      <td id=\"T_ace6f_row0_col0\" class=\"data row0 col0\" >9</td>\n",
       "      <td id=\"T_ace6f_row0_col1\" class=\"data row0 col1\" >10</td>\n",
       "      <td id=\"T_ace6f_row0_col2\" class=\"data row0 col2\" >N</td>\n",
       "      <td id=\"T_ace6f_row0_col3\" class=\"data row0 col3\" >N</td>\n",
       "      <td id=\"T_ace6f_row0_col4\" class=\"data row0 col4\" >1</td>\n",
       "      <td id=\"T_ace6f_row0_col5\" class=\"data row0 col5\" >5</td>\n",
       "      <td id=\"T_ace6f_row0_col6\" class=\"data row0 col6\" >PRO</td>\n",
       "      <td id=\"T_ace6f_row0_col7\" class=\"data row0 col7\" >aminoacid</td>\n",
       "      <td id=\"T_ace6f_row0_col8\" class=\"data row0 col8\" >0</td>\n",
       "      <td id=\"T_ace6f_row0_col9\" class=\"data row0 col9\" >0</td>\n",
       "      <td id=\"T_ace6f_row0_col10\" class=\"data row0 col10\" >0</td>\n",
       "      <td id=\"T_ace6f_row0_col11\" class=\"data row0 col11\" >protein</td>\n",
       "      <td id=\"T_ace6f_row0_col12\" class=\"data row0 col12\" >0</td>\n",
       "      <td id=\"T_ace6f_row0_col13\" class=\"data row0 col13\" >Triosephosphate isomerase</td>\n",
       "    </tr>\n",
       "    <tr>\n",
       "      <td id=\"T_ace6f_row1_col0\" class=\"data row1 col0\" >10</td>\n",
       "      <td id=\"T_ace6f_row1_col1\" class=\"data row1 col1\" >11</td>\n",
       "      <td id=\"T_ace6f_row1_col2\" class=\"data row1 col2\" >CA</td>\n",
       "      <td id=\"T_ace6f_row1_col3\" class=\"data row1 col3\" >C</td>\n",
       "      <td id=\"T_ace6f_row1_col4\" class=\"data row1 col4\" >1</td>\n",
       "      <td id=\"T_ace6f_row1_col5\" class=\"data row1 col5\" >5</td>\n",
       "      <td id=\"T_ace6f_row1_col6\" class=\"data row1 col6\" >PRO</td>\n",
       "      <td id=\"T_ace6f_row1_col7\" class=\"data row1 col7\" >aminoacid</td>\n",
       "      <td id=\"T_ace6f_row1_col8\" class=\"data row1 col8\" >0</td>\n",
       "      <td id=\"T_ace6f_row1_col9\" class=\"data row1 col9\" >0</td>\n",
       "      <td id=\"T_ace6f_row1_col10\" class=\"data row1 col10\" >0</td>\n",
       "      <td id=\"T_ace6f_row1_col11\" class=\"data row1 col11\" >protein</td>\n",
       "      <td id=\"T_ace6f_row1_col12\" class=\"data row1 col12\" >0</td>\n",
       "      <td id=\"T_ace6f_row1_col13\" class=\"data row1 col13\" >Triosephosphate isomerase</td>\n",
       "    </tr>\n",
       "    <tr>\n",
       "      <td id=\"T_ace6f_row2_col0\" class=\"data row2 col0\" >11</td>\n",
       "      <td id=\"T_ace6f_row2_col1\" class=\"data row2 col1\" >12</td>\n",
       "      <td id=\"T_ace6f_row2_col2\" class=\"data row2 col2\" >C</td>\n",
       "      <td id=\"T_ace6f_row2_col3\" class=\"data row2 col3\" >C</td>\n",
       "      <td id=\"T_ace6f_row2_col4\" class=\"data row2 col4\" >1</td>\n",
       "      <td id=\"T_ace6f_row2_col5\" class=\"data row2 col5\" >5</td>\n",
       "      <td id=\"T_ace6f_row2_col6\" class=\"data row2 col6\" >PRO</td>\n",
       "      <td id=\"T_ace6f_row2_col7\" class=\"data row2 col7\" >aminoacid</td>\n",
       "      <td id=\"T_ace6f_row2_col8\" class=\"data row2 col8\" >0</td>\n",
       "      <td id=\"T_ace6f_row2_col9\" class=\"data row2 col9\" >0</td>\n",
       "      <td id=\"T_ace6f_row2_col10\" class=\"data row2 col10\" >0</td>\n",
       "      <td id=\"T_ace6f_row2_col11\" class=\"data row2 col11\" >protein</td>\n",
       "      <td id=\"T_ace6f_row2_col12\" class=\"data row2 col12\" >0</td>\n",
       "      <td id=\"T_ace6f_row2_col13\" class=\"data row2 col13\" >Triosephosphate isomerase</td>\n",
       "    </tr>\n",
       "    <tr>\n",
       "      <td id=\"T_ace6f_row3_col0\" class=\"data row3 col0\" >12</td>\n",
       "      <td id=\"T_ace6f_row3_col1\" class=\"data row3 col1\" >13</td>\n",
       "      <td id=\"T_ace6f_row3_col2\" class=\"data row3 col2\" >O</td>\n",
       "      <td id=\"T_ace6f_row3_col3\" class=\"data row3 col3\" >O</td>\n",
       "      <td id=\"T_ace6f_row3_col4\" class=\"data row3 col4\" >1</td>\n",
       "      <td id=\"T_ace6f_row3_col5\" class=\"data row3 col5\" >5</td>\n",
       "      <td id=\"T_ace6f_row3_col6\" class=\"data row3 col6\" >PRO</td>\n",
       "      <td id=\"T_ace6f_row3_col7\" class=\"data row3 col7\" >aminoacid</td>\n",
       "      <td id=\"T_ace6f_row3_col8\" class=\"data row3 col8\" >0</td>\n",
       "      <td id=\"T_ace6f_row3_col9\" class=\"data row3 col9\" >0</td>\n",
       "      <td id=\"T_ace6f_row3_col10\" class=\"data row3 col10\" >0</td>\n",
       "      <td id=\"T_ace6f_row3_col11\" class=\"data row3 col11\" >protein</td>\n",
       "      <td id=\"T_ace6f_row3_col12\" class=\"data row3 col12\" >0</td>\n",
       "      <td id=\"T_ace6f_row3_col13\" class=\"data row3 col13\" >Triosephosphate isomerase</td>\n",
       "    </tr>\n",
       "  </tbody>\n",
       "</table>\n"
      ],
      "text/plain": [
       "<pandas.io.formats.style.Styler at 0x7f10829f7310>"
      ]
     },
     "execution_count": 4,
     "metadata": {},
     "output_type": "execute_result"
    }
   ],
   "source": [
    "msm.info(molecular_system, element='atom', indices=[9,10,11,12], output='dataframe')"
   ]
  },
  {
   "cell_type": "code",
   "execution_count": 5,
   "metadata": {},
   "outputs": [
    {
     "data": {
      "text/plain": [
       "{'index': {0: 9, 1: 10, 2: 11, 3: 12},\n",
       " 'id': {0: 10, 1: 11, 2: 12, 3: 13},\n",
       " 'name': {0: 'N', 1: 'CA', 2: 'C', 3: 'O'},\n",
       " 'type': {0: 'N', 1: 'C', 2: 'C', 3: 'O'},\n",
       " 'group index': {0: 1, 1: 1, 2: 1, 3: 1},\n",
       " 'group id': {0: 5, 1: 5, 2: 5, 3: 5},\n",
       " 'group name': {0: 'PRO', 1: 'PRO', 2: 'PRO', 3: 'PRO'},\n",
       " 'group type': {0: 'aminoacid',\n",
       "  1: 'aminoacid',\n",
       "  2: 'aminoacid',\n",
       "  3: 'aminoacid'},\n",
       " 'component index': {0: 0, 1: 0, 2: 0, 3: 0},\n",
       " 'chain index': {0: 0, 1: 0, 2: 0, 3: 0},\n",
       " 'molecule index': {0: 0, 1: 0, 2: 0, 3: 0},\n",
       " 'molecule type': {0: 'protein', 1: 'protein', 2: 'protein', 3: 'protein'},\n",
       " 'entity index': {0: 0, 1: 0, 2: 0, 3: 0},\n",
       " 'entity name': {0: 'Triosephosphate isomerase',\n",
       "  1: 'Triosephosphate isomerase',\n",
       "  2: 'Triosephosphate isomerase',\n",
       "  3: 'Triosephosphate isomerase'}}"
      ]
     },
     "execution_count": 5,
     "metadata": {},
     "output_type": "execute_result"
    }
   ],
   "source": [
    "output = msm.info(molecular_system, element='atom', indices=[9,10,11,12], output='dataframe')\n",
    "output.data.to_dict()"
   ]
  },
  {
   "cell_type": "markdown",
   "metadata": {},
   "source": [
    "The method can also take a selection input argument:"
   ]
  },
  {
   "cell_type": "code",
   "execution_count": 6,
   "metadata": {},
   "outputs": [
    {
     "data": {
      "text/html": [
       "<style type=\"text/css\">\n",
       "</style>\n",
       "<table id=\"T_c90ec\">\n",
       "  <thead>\n",
       "    <tr>\n",
       "      <th id=\"T_c90ec_level0_col0\" class=\"col_heading level0 col0\" >index</th>\n",
       "      <th id=\"T_c90ec_level0_col1\" class=\"col_heading level0 col1\" >id</th>\n",
       "      <th id=\"T_c90ec_level0_col2\" class=\"col_heading level0 col2\" >name</th>\n",
       "      <th id=\"T_c90ec_level0_col3\" class=\"col_heading level0 col3\" >type</th>\n",
       "      <th id=\"T_c90ec_level0_col4\" class=\"col_heading level0 col4\" >group index</th>\n",
       "      <th id=\"T_c90ec_level0_col5\" class=\"col_heading level0 col5\" >group id</th>\n",
       "      <th id=\"T_c90ec_level0_col6\" class=\"col_heading level0 col6\" >group name</th>\n",
       "      <th id=\"T_c90ec_level0_col7\" class=\"col_heading level0 col7\" >group type</th>\n",
       "      <th id=\"T_c90ec_level0_col8\" class=\"col_heading level0 col8\" >component index</th>\n",
       "      <th id=\"T_c90ec_level0_col9\" class=\"col_heading level0 col9\" >chain index</th>\n",
       "      <th id=\"T_c90ec_level0_col10\" class=\"col_heading level0 col10\" >molecule index</th>\n",
       "      <th id=\"T_c90ec_level0_col11\" class=\"col_heading level0 col11\" >molecule type</th>\n",
       "      <th id=\"T_c90ec_level0_col12\" class=\"col_heading level0 col12\" >entity index</th>\n",
       "      <th id=\"T_c90ec_level0_col13\" class=\"col_heading level0 col13\" >entity name</th>\n",
       "    </tr>\n",
       "  </thead>\n",
       "  <tbody>\n",
       "    <tr>\n",
       "      <td id=\"T_c90ec_row0_col0\" class=\"data row0 col0\" >45</td>\n",
       "      <td id=\"T_c90ec_row0_col1\" class=\"data row0 col1\" >46</td>\n",
       "      <td id=\"T_c90ec_row0_col2\" class=\"data row0 col2\" >N</td>\n",
       "      <td id=\"T_c90ec_row0_col3\" class=\"data row0 col3\" >N</td>\n",
       "      <td id=\"T_c90ec_row0_col4\" class=\"data row0 col4\" >6</td>\n",
       "      <td id=\"T_c90ec_row0_col5\" class=\"data row0 col5\" >10</td>\n",
       "      <td id=\"T_c90ec_row0_col6\" class=\"data row0 col6\" >ALA</td>\n",
       "      <td id=\"T_c90ec_row0_col7\" class=\"data row0 col7\" >aminoacid</td>\n",
       "      <td id=\"T_c90ec_row0_col8\" class=\"data row0 col8\" >0</td>\n",
       "      <td id=\"T_c90ec_row0_col9\" class=\"data row0 col9\" >0</td>\n",
       "      <td id=\"T_c90ec_row0_col10\" class=\"data row0 col10\" >0</td>\n",
       "      <td id=\"T_c90ec_row0_col11\" class=\"data row0 col11\" >protein</td>\n",
       "      <td id=\"T_c90ec_row0_col12\" class=\"data row0 col12\" >0</td>\n",
       "      <td id=\"T_c90ec_row0_col13\" class=\"data row0 col13\" >Triosephosphate isomerase</td>\n",
       "    </tr>\n",
       "    <tr>\n",
       "      <td id=\"T_c90ec_row1_col0\" class=\"data row1 col0\" >46</td>\n",
       "      <td id=\"T_c90ec_row1_col1\" class=\"data row1 col1\" >47</td>\n",
       "      <td id=\"T_c90ec_row1_col2\" class=\"data row1 col2\" >CA</td>\n",
       "      <td id=\"T_c90ec_row1_col3\" class=\"data row1 col3\" >C</td>\n",
       "      <td id=\"T_c90ec_row1_col4\" class=\"data row1 col4\" >6</td>\n",
       "      <td id=\"T_c90ec_row1_col5\" class=\"data row1 col5\" >10</td>\n",
       "      <td id=\"T_c90ec_row1_col6\" class=\"data row1 col6\" >ALA</td>\n",
       "      <td id=\"T_c90ec_row1_col7\" class=\"data row1 col7\" >aminoacid</td>\n",
       "      <td id=\"T_c90ec_row1_col8\" class=\"data row1 col8\" >0</td>\n",
       "      <td id=\"T_c90ec_row1_col9\" class=\"data row1 col9\" >0</td>\n",
       "      <td id=\"T_c90ec_row1_col10\" class=\"data row1 col10\" >0</td>\n",
       "      <td id=\"T_c90ec_row1_col11\" class=\"data row1 col11\" >protein</td>\n",
       "      <td id=\"T_c90ec_row1_col12\" class=\"data row1 col12\" >0</td>\n",
       "      <td id=\"T_c90ec_row1_col13\" class=\"data row1 col13\" >Triosephosphate isomerase</td>\n",
       "    </tr>\n",
       "    <tr>\n",
       "      <td id=\"T_c90ec_row2_col0\" class=\"data row2 col0\" >47</td>\n",
       "      <td id=\"T_c90ec_row2_col1\" class=\"data row2 col1\" >48</td>\n",
       "      <td id=\"T_c90ec_row2_col2\" class=\"data row2 col2\" >C</td>\n",
       "      <td id=\"T_c90ec_row2_col3\" class=\"data row2 col3\" >C</td>\n",
       "      <td id=\"T_c90ec_row2_col4\" class=\"data row2 col4\" >6</td>\n",
       "      <td id=\"T_c90ec_row2_col5\" class=\"data row2 col5\" >10</td>\n",
       "      <td id=\"T_c90ec_row2_col6\" class=\"data row2 col6\" >ALA</td>\n",
       "      <td id=\"T_c90ec_row2_col7\" class=\"data row2 col7\" >aminoacid</td>\n",
       "      <td id=\"T_c90ec_row2_col8\" class=\"data row2 col8\" >0</td>\n",
       "      <td id=\"T_c90ec_row2_col9\" class=\"data row2 col9\" >0</td>\n",
       "      <td id=\"T_c90ec_row2_col10\" class=\"data row2 col10\" >0</td>\n",
       "      <td id=\"T_c90ec_row2_col11\" class=\"data row2 col11\" >protein</td>\n",
       "      <td id=\"T_c90ec_row2_col12\" class=\"data row2 col12\" >0</td>\n",
       "      <td id=\"T_c90ec_row2_col13\" class=\"data row2 col13\" >Triosephosphate isomerase</td>\n",
       "    </tr>\n",
       "    <tr>\n",
       "      <td id=\"T_c90ec_row3_col0\" class=\"data row3 col0\" >48</td>\n",
       "      <td id=\"T_c90ec_row3_col1\" class=\"data row3 col1\" >49</td>\n",
       "      <td id=\"T_c90ec_row3_col2\" class=\"data row3 col2\" >O</td>\n",
       "      <td id=\"T_c90ec_row3_col3\" class=\"data row3 col3\" >O</td>\n",
       "      <td id=\"T_c90ec_row3_col4\" class=\"data row3 col4\" >6</td>\n",
       "      <td id=\"T_c90ec_row3_col5\" class=\"data row3 col5\" >10</td>\n",
       "      <td id=\"T_c90ec_row3_col6\" class=\"data row3 col6\" >ALA</td>\n",
       "      <td id=\"T_c90ec_row3_col7\" class=\"data row3 col7\" >aminoacid</td>\n",
       "      <td id=\"T_c90ec_row3_col8\" class=\"data row3 col8\" >0</td>\n",
       "      <td id=\"T_c90ec_row3_col9\" class=\"data row3 col9\" >0</td>\n",
       "      <td id=\"T_c90ec_row3_col10\" class=\"data row3 col10\" >0</td>\n",
       "      <td id=\"T_c90ec_row3_col11\" class=\"data row3 col11\" >protein</td>\n",
       "      <td id=\"T_c90ec_row3_col12\" class=\"data row3 col12\" >0</td>\n",
       "      <td id=\"T_c90ec_row3_col13\" class=\"data row3 col13\" >Triosephosphate isomerase</td>\n",
       "    </tr>\n",
       "    <tr>\n",
       "      <td id=\"T_c90ec_row4_col0\" class=\"data row4 col0\" >49</td>\n",
       "      <td id=\"T_c90ec_row4_col1\" class=\"data row4 col1\" >50</td>\n",
       "      <td id=\"T_c90ec_row4_col2\" class=\"data row4 col2\" >CB</td>\n",
       "      <td id=\"T_c90ec_row4_col3\" class=\"data row4 col3\" >C</td>\n",
       "      <td id=\"T_c90ec_row4_col4\" class=\"data row4 col4\" >6</td>\n",
       "      <td id=\"T_c90ec_row4_col5\" class=\"data row4 col5\" >10</td>\n",
       "      <td id=\"T_c90ec_row4_col6\" class=\"data row4 col6\" >ALA</td>\n",
       "      <td id=\"T_c90ec_row4_col7\" class=\"data row4 col7\" >aminoacid</td>\n",
       "      <td id=\"T_c90ec_row4_col8\" class=\"data row4 col8\" >0</td>\n",
       "      <td id=\"T_c90ec_row4_col9\" class=\"data row4 col9\" >0</td>\n",
       "      <td id=\"T_c90ec_row4_col10\" class=\"data row4 col10\" >0</td>\n",
       "      <td id=\"T_c90ec_row4_col11\" class=\"data row4 col11\" >protein</td>\n",
       "      <td id=\"T_c90ec_row4_col12\" class=\"data row4 col12\" >0</td>\n",
       "      <td id=\"T_c90ec_row4_col13\" class=\"data row4 col13\" >Triosephosphate isomerase</td>\n",
       "    </tr>\n",
       "  </tbody>\n",
       "</table>\n"
      ],
      "text/plain": [
       "<pandas.io.formats.style.Styler at 0x7f1084346700>"
      ]
     },
     "execution_count": 6,
     "metadata": {},
     "output_type": "execute_result"
    }
   ],
   "source": [
    "msm.info(molecular_system, element='atom', selection='group_index==6')"
   ]
  },
  {
   "cell_type": "markdown",
   "metadata": {},
   "source": [
    "Notice that the default option for `output` is 'dataframe'."
   ]
  },
  {
   "cell_type": "markdown",
   "metadata": {},
   "source": [
    "### Summary information on groups\n",
    "\n",
    "Lets see an example where the summary information is shown for a set of groups:"
   ]
  },
  {
   "cell_type": "code",
   "execution_count": 7,
   "metadata": {},
   "outputs": [
    {
     "data": {
      "text/html": [
       "<style type=\"text/css\">\n",
       "</style>\n",
       "<table id=\"T_03e25\">\n",
       "  <thead>\n",
       "    <tr>\n",
       "      <th id=\"T_03e25_level0_col0\" class=\"col_heading level0 col0\" >index</th>\n",
       "      <th id=\"T_03e25_level0_col1\" class=\"col_heading level0 col1\" >id</th>\n",
       "      <th id=\"T_03e25_level0_col2\" class=\"col_heading level0 col2\" >name</th>\n",
       "      <th id=\"T_03e25_level0_col3\" class=\"col_heading level0 col3\" >type</th>\n",
       "      <th id=\"T_03e25_level0_col4\" class=\"col_heading level0 col4\" >n atoms</th>\n",
       "      <th id=\"T_03e25_level0_col5\" class=\"col_heading level0 col5\" >component index</th>\n",
       "      <th id=\"T_03e25_level0_col6\" class=\"col_heading level0 col6\" >chain index</th>\n",
       "      <th id=\"T_03e25_level0_col7\" class=\"col_heading level0 col7\" >molecule index</th>\n",
       "      <th id=\"T_03e25_level0_col8\" class=\"col_heading level0 col8\" >molecule type</th>\n",
       "      <th id=\"T_03e25_level0_col9\" class=\"col_heading level0 col9\" >entity index</th>\n",
       "      <th id=\"T_03e25_level0_col10\" class=\"col_heading level0 col10\" >entity name</th>\n",
       "    </tr>\n",
       "  </thead>\n",
       "  <tbody>\n",
       "    <tr>\n",
       "      <td id=\"T_03e25_row0_col0\" class=\"data row0 col0\" >20</td>\n",
       "      <td id=\"T_03e25_row0_col1\" class=\"data row0 col1\" >24</td>\n",
       "      <td id=\"T_03e25_row0_col2\" class=\"data row0 col2\" >PRO</td>\n",
       "      <td id=\"T_03e25_row0_col3\" class=\"data row0 col3\" >aminoacid</td>\n",
       "      <td id=\"T_03e25_row0_col4\" class=\"data row0 col4\" >7</td>\n",
       "      <td id=\"T_03e25_row0_col5\" class=\"data row0 col5\" >0</td>\n",
       "      <td id=\"T_03e25_row0_col6\" class=\"data row0 col6\" >0</td>\n",
       "      <td id=\"T_03e25_row0_col7\" class=\"data row0 col7\" >0</td>\n",
       "      <td id=\"T_03e25_row0_col8\" class=\"data row0 col8\" >protein</td>\n",
       "      <td id=\"T_03e25_row0_col9\" class=\"data row0 col9\" >0</td>\n",
       "      <td id=\"T_03e25_row0_col10\" class=\"data row0 col10\" >Triosephosphate isomerase</td>\n",
       "    </tr>\n",
       "    <tr>\n",
       "      <td id=\"T_03e25_row1_col0\" class=\"data row1 col0\" >21</td>\n",
       "      <td id=\"T_03e25_row1_col1\" class=\"data row1 col1\" >25</td>\n",
       "      <td id=\"T_03e25_row1_col2\" class=\"data row1 col2\" >LEU</td>\n",
       "      <td id=\"T_03e25_row1_col3\" class=\"data row1 col3\" >aminoacid</td>\n",
       "      <td id=\"T_03e25_row1_col4\" class=\"data row1 col4\" >8</td>\n",
       "      <td id=\"T_03e25_row1_col5\" class=\"data row1 col5\" >0</td>\n",
       "      <td id=\"T_03e25_row1_col6\" class=\"data row1 col6\" >0</td>\n",
       "      <td id=\"T_03e25_row1_col7\" class=\"data row1 col7\" >0</td>\n",
       "      <td id=\"T_03e25_row1_col8\" class=\"data row1 col8\" >protein</td>\n",
       "      <td id=\"T_03e25_row1_col9\" class=\"data row1 col9\" >0</td>\n",
       "      <td id=\"T_03e25_row1_col10\" class=\"data row1 col10\" >Triosephosphate isomerase</td>\n",
       "    </tr>\n",
       "    <tr>\n",
       "      <td id=\"T_03e25_row2_col0\" class=\"data row2 col0\" >22</td>\n",
       "      <td id=\"T_03e25_row2_col1\" class=\"data row2 col1\" >26</td>\n",
       "      <td id=\"T_03e25_row2_col2\" class=\"data row2 col2\" >ILE</td>\n",
       "      <td id=\"T_03e25_row2_col3\" class=\"data row2 col3\" >aminoacid</td>\n",
       "      <td id=\"T_03e25_row2_col4\" class=\"data row2 col4\" >8</td>\n",
       "      <td id=\"T_03e25_row2_col5\" class=\"data row2 col5\" >0</td>\n",
       "      <td id=\"T_03e25_row2_col6\" class=\"data row2 col6\" >0</td>\n",
       "      <td id=\"T_03e25_row2_col7\" class=\"data row2 col7\" >0</td>\n",
       "      <td id=\"T_03e25_row2_col8\" class=\"data row2 col8\" >protein</td>\n",
       "      <td id=\"T_03e25_row2_col9\" class=\"data row2 col9\" >0</td>\n",
       "      <td id=\"T_03e25_row2_col10\" class=\"data row2 col10\" >Triosephosphate isomerase</td>\n",
       "    </tr>\n",
       "    <tr>\n",
       "      <td id=\"T_03e25_row3_col0\" class=\"data row3 col0\" >23</td>\n",
       "      <td id=\"T_03e25_row3_col1\" class=\"data row3 col1\" >27</td>\n",
       "      <td id=\"T_03e25_row3_col2\" class=\"data row3 col2\" >GLU</td>\n",
       "      <td id=\"T_03e25_row3_col3\" class=\"data row3 col3\" >aminoacid</td>\n",
       "      <td id=\"T_03e25_row3_col4\" class=\"data row3 col4\" >9</td>\n",
       "      <td id=\"T_03e25_row3_col5\" class=\"data row3 col5\" >0</td>\n",
       "      <td id=\"T_03e25_row3_col6\" class=\"data row3 col6\" >0</td>\n",
       "      <td id=\"T_03e25_row3_col7\" class=\"data row3 col7\" >0</td>\n",
       "      <td id=\"T_03e25_row3_col8\" class=\"data row3 col8\" >protein</td>\n",
       "      <td id=\"T_03e25_row3_col9\" class=\"data row3 col9\" >0</td>\n",
       "      <td id=\"T_03e25_row3_col10\" class=\"data row3 col10\" >Triosephosphate isomerase</td>\n",
       "    </tr>\n",
       "  </tbody>\n",
       "</table>\n"
      ],
      "text/plain": [
       "<pandas.io.formats.style.Styler at 0x7f1081480e50>"
      ]
     },
     "execution_count": 7,
     "metadata": {},
     "output_type": "execute_result"
    }
   ],
   "source": [
    "msm.info(molecular_system, element='group', indices=[20,21,22,23])"
   ]
  },
  {
   "cell_type": "markdown",
   "metadata": {},
   "source": [
    "### Summary information on components\n",
    "\n",
    "Find here now an example on how the method `molsysmt.info()` works over components:"
   ]
  },
  {
   "cell_type": "code",
   "execution_count": 8,
   "metadata": {},
   "outputs": [
    {
     "data": {
      "text/html": [
       "<style type=\"text/css\">\n",
       "</style>\n",
       "<table id=\"T_1e1f1\">\n",
       "  <thead>\n",
       "    <tr>\n",
       "      <th id=\"T_1e1f1_level0_col0\" class=\"col_heading level0 col0\" >index</th>\n",
       "      <th id=\"T_1e1f1_level0_col1\" class=\"col_heading level0 col1\" >n atoms</th>\n",
       "      <th id=\"T_1e1f1_level0_col2\" class=\"col_heading level0 col2\" >n groups</th>\n",
       "      <th id=\"T_1e1f1_level0_col3\" class=\"col_heading level0 col3\" >chain index</th>\n",
       "      <th id=\"T_1e1f1_level0_col4\" class=\"col_heading level0 col4\" >molecule index</th>\n",
       "      <th id=\"T_1e1f1_level0_col5\" class=\"col_heading level0 col5\" >molecule type</th>\n",
       "      <th id=\"T_1e1f1_level0_col6\" class=\"col_heading level0 col6\" >entity index</th>\n",
       "      <th id=\"T_1e1f1_level0_col7\" class=\"col_heading level0 col7\" >entity name</th>\n",
       "    </tr>\n",
       "  </thead>\n",
       "  <tbody>\n",
       "    <tr>\n",
       "      <td id=\"T_1e1f1_row0_col0\" class=\"data row0 col0\" >0</td>\n",
       "      <td id=\"T_1e1f1_row0_col1\" class=\"data row0 col1\" >1906</td>\n",
       "      <td id=\"T_1e1f1_row0_col2\" class=\"data row0 col2\" >248</td>\n",
       "      <td id=\"T_1e1f1_row0_col3\" class=\"data row0 col3\" >0</td>\n",
       "      <td id=\"T_1e1f1_row0_col4\" class=\"data row0 col4\" >0</td>\n",
       "      <td id=\"T_1e1f1_row0_col5\" class=\"data row0 col5\" >protein</td>\n",
       "      <td id=\"T_1e1f1_row0_col6\" class=\"data row0 col6\" >0</td>\n",
       "      <td id=\"T_1e1f1_row0_col7\" class=\"data row0 col7\" >Triosephosphate isomerase</td>\n",
       "    </tr>\n",
       "    <tr>\n",
       "      <td id=\"T_1e1f1_row1_col0\" class=\"data row1 col0\" >1</td>\n",
       "      <td id=\"T_1e1f1_row1_col1\" class=\"data row1 col1\" >1912</td>\n",
       "      <td id=\"T_1e1f1_row1_col2\" class=\"data row1 col2\" >249</td>\n",
       "      <td id=\"T_1e1f1_row1_col3\" class=\"data row1 col3\" >1</td>\n",
       "      <td id=\"T_1e1f1_row1_col4\" class=\"data row1 col4\" >1</td>\n",
       "      <td id=\"T_1e1f1_row1_col5\" class=\"data row1 col5\" >protein</td>\n",
       "      <td id=\"T_1e1f1_row1_col6\" class=\"data row1 col6\" >0</td>\n",
       "      <td id=\"T_1e1f1_row1_col7\" class=\"data row1 col7\" >Triosephosphate isomerase</td>\n",
       "    </tr>\n",
       "  </tbody>\n",
       "</table>\n"
      ],
      "text/plain": [
       "<pandas.io.formats.style.Styler at 0x7f1081570ee0>"
      ]
     },
     "execution_count": 8,
     "metadata": {},
     "output_type": "execute_result"
    }
   ],
   "source": [
    "msm.info(molecular_system, element='component', selection='molecule_type!=\"water\"')"
   ]
  },
  {
   "cell_type": "markdown",
   "metadata": {},
   "source": [
    "### Summary information on chains\n",
    "\n",
    "If the summary information on all chains in the molecular system needs to be printed out:"
   ]
  },
  {
   "cell_type": "code",
   "execution_count": 9,
   "metadata": {},
   "outputs": [
    {
     "data": {
      "text/html": [
       "<style type=\"text/css\">\n",
       "</style>\n",
       "<table id=\"T_7e85b\">\n",
       "  <thead>\n",
       "    <tr>\n",
       "      <th id=\"T_7e85b_level0_col0\" class=\"col_heading level0 col0\" >index</th>\n",
       "      <th id=\"T_7e85b_level0_col1\" class=\"col_heading level0 col1\" >id</th>\n",
       "      <th id=\"T_7e85b_level0_col2\" class=\"col_heading level0 col2\" >name</th>\n",
       "      <th id=\"T_7e85b_level0_col3\" class=\"col_heading level0 col3\" >n atoms</th>\n",
       "      <th id=\"T_7e85b_level0_col4\" class=\"col_heading level0 col4\" >n groups</th>\n",
       "      <th id=\"T_7e85b_level0_col5\" class=\"col_heading level0 col5\" >n components</th>\n",
       "      <th id=\"T_7e85b_level0_col6\" class=\"col_heading level0 col6\" >molecule index</th>\n",
       "      <th id=\"T_7e85b_level0_col7\" class=\"col_heading level0 col7\" >molecule type</th>\n",
       "      <th id=\"T_7e85b_level0_col8\" class=\"col_heading level0 col8\" >entity index</th>\n",
       "      <th id=\"T_7e85b_level0_col9\" class=\"col_heading level0 col9\" >entity name</th>\n",
       "    </tr>\n",
       "  </thead>\n",
       "  <tbody>\n",
       "    <tr>\n",
       "      <td id=\"T_7e85b_row0_col0\" class=\"data row0 col0\" >0</td>\n",
       "      <td id=\"T_7e85b_row0_col1\" class=\"data row0 col1\" >A</td>\n",
       "      <td id=\"T_7e85b_row0_col2\" class=\"data row0 col2\" >A</td>\n",
       "      <td id=\"T_7e85b_row0_col3\" class=\"data row0 col3\" >1906</td>\n",
       "      <td id=\"T_7e85b_row0_col4\" class=\"data row0 col4\" >248</td>\n",
       "      <td id=\"T_7e85b_row0_col5\" class=\"data row0 col5\" >1</td>\n",
       "      <td id=\"T_7e85b_row0_col6\" class=\"data row0 col6\" >0</td>\n",
       "      <td id=\"T_7e85b_row0_col7\" class=\"data row0 col7\" >protein</td>\n",
       "      <td id=\"T_7e85b_row0_col8\" class=\"data row0 col8\" >0</td>\n",
       "      <td id=\"T_7e85b_row0_col9\" class=\"data row0 col9\" >Triosephosphate isomerase</td>\n",
       "    </tr>\n",
       "    <tr>\n",
       "      <td id=\"T_7e85b_row1_col0\" class=\"data row1 col0\" >1</td>\n",
       "      <td id=\"T_7e85b_row1_col1\" class=\"data row1 col1\" >B</td>\n",
       "      <td id=\"T_7e85b_row1_col2\" class=\"data row1 col2\" >B</td>\n",
       "      <td id=\"T_7e85b_row1_col3\" class=\"data row1 col3\" >1912</td>\n",
       "      <td id=\"T_7e85b_row1_col4\" class=\"data row1 col4\" >249</td>\n",
       "      <td id=\"T_7e85b_row1_col5\" class=\"data row1 col5\" >1</td>\n",
       "      <td id=\"T_7e85b_row1_col6\" class=\"data row1 col6\" >1</td>\n",
       "      <td id=\"T_7e85b_row1_col7\" class=\"data row1 col7\" >protein</td>\n",
       "      <td id=\"T_7e85b_row1_col8\" class=\"data row1 col8\" >0</td>\n",
       "      <td id=\"T_7e85b_row1_col9\" class=\"data row1 col9\" >Triosephosphate isomerase</td>\n",
       "    </tr>\n",
       "    <tr>\n",
       "      <td id=\"T_7e85b_row2_col0\" class=\"data row2 col0\" >2</td>\n",
       "      <td id=\"T_7e85b_row2_col1\" class=\"data row2 col1\" >C</td>\n",
       "      <td id=\"T_7e85b_row2_col2\" class=\"data row2 col2\" >A</td>\n",
       "      <td id=\"T_7e85b_row2_col3\" class=\"data row2 col3\" >73</td>\n",
       "      <td id=\"T_7e85b_row2_col4\" class=\"data row2 col4\" >73</td>\n",
       "      <td id=\"T_7e85b_row2_col5\" class=\"data row2 col5\" >73</td>\n",
       "      <td id=\"T_7e85b_row2_col6\" class=\"data row2 col6\" >[ 2  3  4  5  6  7  8  9 10 11 12 13 14 15 16 17 18 19 20 21 22 23 24 25\n",
       " 26 27 28 29 30 31 32 33 34 35 36 37 38 39 40 41 42 43 44 45 46 47 48 49\n",
       " 50 51 52 53 54 55 56 57 58 59 60 61 62 63 64 65 66 67 68 69 70 71 72 73\n",
       " 74]</td>\n",
       "      <td id=\"T_7e85b_row2_col7\" class=\"data row2 col7\" >['water' 'water' 'water' 'water' 'water' 'water' 'water' 'water' 'water'\n",
       " 'water' 'water' 'water' 'water' 'water' 'water' 'water' 'water' 'water'\n",
       " 'water' 'water' 'water' 'water' 'water' 'water' 'water' 'water' 'water'\n",
       " 'water' 'water' 'water' 'water' 'water' 'water' 'water' 'water' 'water'\n",
       " 'water' 'water' 'water' 'water' 'water' 'water' 'water' 'water' 'water'\n",
       " 'water' 'water' 'water' 'water' 'water' 'water' 'water' 'water' 'water'\n",
       " 'water' 'water' 'water' 'water' 'water' 'water' 'water' 'water' 'water'\n",
       " 'water' 'water' 'water' 'water' 'water' 'water' 'water' 'water' 'water'\n",
       " 'water']</td>\n",
       "      <td id=\"T_7e85b_row2_col8\" class=\"data row2 col8\" >1</td>\n",
       "      <td id=\"T_7e85b_row2_col9\" class=\"data row2 col9\" >water</td>\n",
       "    </tr>\n",
       "    <tr>\n",
       "      <td id=\"T_7e85b_row3_col0\" class=\"data row3 col0\" >3</td>\n",
       "      <td id=\"T_7e85b_row3_col1\" class=\"data row3 col1\" >D</td>\n",
       "      <td id=\"T_7e85b_row3_col2\" class=\"data row3 col2\" >B</td>\n",
       "      <td id=\"T_7e85b_row3_col3\" class=\"data row3 col3\" >92</td>\n",
       "      <td id=\"T_7e85b_row3_col4\" class=\"data row3 col4\" >92</td>\n",
       "      <td id=\"T_7e85b_row3_col5\" class=\"data row3 col5\" >92</td>\n",
       "      <td id=\"T_7e85b_row3_col6\" class=\"data row3 col6\" >[ 75  76  77  78  79  80  81  82  83  84  85  86  87  88  89  90  91  92\n",
       "  93  94  95  96  97  98  99 100 101 102 103 104 105 106 107 108 109 110\n",
       " 111 112 113 114 115 116 117 118 119 120 121 122 123 124 125 126 127 128\n",
       " 129 130 131 132 133 134 135 136 137 138 139 140 141 142 143 144 145 146\n",
       " 147 148 149 150 151 152 153 154 155 156 157 158 159 160 161 162 163 164\n",
       " 165 166]</td>\n",
       "      <td id=\"T_7e85b_row3_col7\" class=\"data row3 col7\" >['water' 'water' 'water' 'water' 'water' 'water' 'water' 'water' 'water'\n",
       " 'water' 'water' 'water' 'water' 'water' 'water' 'water' 'water' 'water'\n",
       " 'water' 'water' 'water' 'water' 'water' 'water' 'water' 'water' 'water'\n",
       " 'water' 'water' 'water' 'water' 'water' 'water' 'water' 'water' 'water'\n",
       " 'water' 'water' 'water' 'water' 'water' 'water' 'water' 'water' 'water'\n",
       " 'water' 'water' 'water' 'water' 'water' 'water' 'water' 'water' 'water'\n",
       " 'water' 'water' 'water' 'water' 'water' 'water' 'water' 'water' 'water'\n",
       " 'water' 'water' 'water' 'water' 'water' 'water' 'water' 'water' 'water'\n",
       " 'water' 'water' 'water' 'water' 'water' 'water' 'water' 'water' 'water'\n",
       " 'water' 'water' 'water' 'water' 'water' 'water' 'water' 'water' 'water'\n",
       " 'water' 'water']</td>\n",
       "      <td id=\"T_7e85b_row3_col8\" class=\"data row3 col8\" >1</td>\n",
       "      <td id=\"T_7e85b_row3_col9\" class=\"data row3 col9\" >water</td>\n",
       "    </tr>\n",
       "  </tbody>\n",
       "</table>\n"
      ],
      "text/plain": [
       "<pandas.io.formats.style.Styler at 0x7f1081480a90>"
      ]
     },
     "execution_count": 9,
     "metadata": {},
     "output_type": "execute_result"
    }
   ],
   "source": [
    "msm.info(molecular_system, element='chain')"
   ]
  },
  {
   "cell_type": "markdown",
   "metadata": {},
   "source": [
    "### Summary information on molecules\n",
    "\n",
    "The following is an example on how the method works when the elementted element is 'molecule':"
   ]
  },
  {
   "cell_type": "code",
   "execution_count": 10,
   "metadata": {},
   "outputs": [
    {
     "data": {
      "text/html": [
       "<style type=\"text/css\">\n",
       "</style>\n",
       "<table id=\"T_abf62\">\n",
       "  <thead>\n",
       "    <tr>\n",
       "      <th id=\"T_abf62_level0_col0\" class=\"col_heading level0 col0\" >index</th>\n",
       "      <th id=\"T_abf62_level0_col1\" class=\"col_heading level0 col1\" >name</th>\n",
       "      <th id=\"T_abf62_level0_col2\" class=\"col_heading level0 col2\" >type</th>\n",
       "      <th id=\"T_abf62_level0_col3\" class=\"col_heading level0 col3\" >n atoms</th>\n",
       "      <th id=\"T_abf62_level0_col4\" class=\"col_heading level0 col4\" >n groups</th>\n",
       "      <th id=\"T_abf62_level0_col5\" class=\"col_heading level0 col5\" >n components</th>\n",
       "      <th id=\"T_abf62_level0_col6\" class=\"col_heading level0 col6\" >chain index</th>\n",
       "      <th id=\"T_abf62_level0_col7\" class=\"col_heading level0 col7\" >entity index</th>\n",
       "      <th id=\"T_abf62_level0_col8\" class=\"col_heading level0 col8\" >entity name</th>\n",
       "    </tr>\n",
       "  </thead>\n",
       "  <tbody>\n",
       "    <tr>\n",
       "      <td id=\"T_abf62_row0_col0\" class=\"data row0 col0\" >0</td>\n",
       "      <td id=\"T_abf62_row0_col1\" class=\"data row0 col1\" >Triosephosphate isomerase</td>\n",
       "      <td id=\"T_abf62_row0_col2\" class=\"data row0 col2\" >protein</td>\n",
       "      <td id=\"T_abf62_row0_col3\" class=\"data row0 col3\" >1906</td>\n",
       "      <td id=\"T_abf62_row0_col4\" class=\"data row0 col4\" >248</td>\n",
       "      <td id=\"T_abf62_row0_col5\" class=\"data row0 col5\" >1</td>\n",
       "      <td id=\"T_abf62_row0_col6\" class=\"data row0 col6\" >0</td>\n",
       "      <td id=\"T_abf62_row0_col7\" class=\"data row0 col7\" >0</td>\n",
       "      <td id=\"T_abf62_row0_col8\" class=\"data row0 col8\" >Triosephosphate isomerase</td>\n",
       "    </tr>\n",
       "    <tr>\n",
       "      <td id=\"T_abf62_row1_col0\" class=\"data row1 col0\" >1</td>\n",
       "      <td id=\"T_abf62_row1_col1\" class=\"data row1 col1\" >Triosephosphate isomerase</td>\n",
       "      <td id=\"T_abf62_row1_col2\" class=\"data row1 col2\" >protein</td>\n",
       "      <td id=\"T_abf62_row1_col3\" class=\"data row1 col3\" >1912</td>\n",
       "      <td id=\"T_abf62_row1_col4\" class=\"data row1 col4\" >249</td>\n",
       "      <td id=\"T_abf62_row1_col5\" class=\"data row1 col5\" >1</td>\n",
       "      <td id=\"T_abf62_row1_col6\" class=\"data row1 col6\" >1</td>\n",
       "      <td id=\"T_abf62_row1_col7\" class=\"data row1 col7\" >0</td>\n",
       "      <td id=\"T_abf62_row1_col8\" class=\"data row1 col8\" >Triosephosphate isomerase</td>\n",
       "    </tr>\n",
       "  </tbody>\n",
       "</table>\n"
      ],
      "text/plain": [
       "<pandas.io.formats.style.Styler at 0x7f1081480d30>"
      ]
     },
     "execution_count": 10,
     "metadata": {},
     "output_type": "execute_result"
    }
   ],
   "source": [
    "msm.info(molecular_system, element='molecule', selection='molecule_type!=\"water\"')"
   ]
  },
  {
   "cell_type": "markdown",
   "metadata": {},
   "source": [
    "### Summary information on entities\n",
    "\n",
    "If the elementted element is 'entity' the method prints out the next summary information:"
   ]
  },
  {
   "cell_type": "code",
   "execution_count": 11,
   "metadata": {},
   "outputs": [
    {
     "data": {
      "text/html": [
       "<style type=\"text/css\">\n",
       "</style>\n",
       "<table id=\"T_e3fa4\">\n",
       "  <thead>\n",
       "    <tr>\n",
       "      <th id=\"T_e3fa4_level0_col0\" class=\"col_heading level0 col0\" >index</th>\n",
       "      <th id=\"T_e3fa4_level0_col1\" class=\"col_heading level0 col1\" >name</th>\n",
       "      <th id=\"T_e3fa4_level0_col2\" class=\"col_heading level0 col2\" >type</th>\n",
       "      <th id=\"T_e3fa4_level0_col3\" class=\"col_heading level0 col3\" >n atoms</th>\n",
       "      <th id=\"T_e3fa4_level0_col4\" class=\"col_heading level0 col4\" >n groups</th>\n",
       "      <th id=\"T_e3fa4_level0_col5\" class=\"col_heading level0 col5\" >n components</th>\n",
       "      <th id=\"T_e3fa4_level0_col6\" class=\"col_heading level0 col6\" >n chains</th>\n",
       "      <th id=\"T_e3fa4_level0_col7\" class=\"col_heading level0 col7\" >n molecules</th>\n",
       "    </tr>\n",
       "  </thead>\n",
       "  <tbody>\n",
       "    <tr>\n",
       "      <td id=\"T_e3fa4_row0_col0\" class=\"data row0 col0\" >0</td>\n",
       "      <td id=\"T_e3fa4_row0_col1\" class=\"data row0 col1\" >Triosephosphate isomerase</td>\n",
       "      <td id=\"T_e3fa4_row0_col2\" class=\"data row0 col2\" >protein</td>\n",
       "      <td id=\"T_e3fa4_row0_col3\" class=\"data row0 col3\" >3818</td>\n",
       "      <td id=\"T_e3fa4_row0_col4\" class=\"data row0 col4\" >497</td>\n",
       "      <td id=\"T_e3fa4_row0_col5\" class=\"data row0 col5\" >2</td>\n",
       "      <td id=\"T_e3fa4_row0_col6\" class=\"data row0 col6\" >2</td>\n",
       "      <td id=\"T_e3fa4_row0_col7\" class=\"data row0 col7\" >2</td>\n",
       "    </tr>\n",
       "    <tr>\n",
       "      <td id=\"T_e3fa4_row1_col0\" class=\"data row1 col0\" >1</td>\n",
       "      <td id=\"T_e3fa4_row1_col1\" class=\"data row1 col1\" >water</td>\n",
       "      <td id=\"T_e3fa4_row1_col2\" class=\"data row1 col2\" >water</td>\n",
       "      <td id=\"T_e3fa4_row1_col3\" class=\"data row1 col3\" >165</td>\n",
       "      <td id=\"T_e3fa4_row1_col4\" class=\"data row1 col4\" >165</td>\n",
       "      <td id=\"T_e3fa4_row1_col5\" class=\"data row1 col5\" >165</td>\n",
       "      <td id=\"T_e3fa4_row1_col6\" class=\"data row1 col6\" >2</td>\n",
       "      <td id=\"T_e3fa4_row1_col7\" class=\"data row1 col7\" >165</td>\n",
       "    </tr>\n",
       "  </tbody>\n",
       "</table>\n"
      ],
      "text/plain": [
       "<pandas.io.formats.style.Styler at 0x7f10814979d0>"
      ]
     },
     "execution_count": 11,
     "metadata": {},
     "output_type": "execute_result"
    }
   ],
   "source": [
    "msm.info(molecular_system, element='entity')"
   ]
  },
  {
   "cell_type": "markdown",
   "metadata": {},
   "source": [
    "### Summary information on a molecular system\n",
    "\n",
    "At last, a summary information can be shown on the whole molecular system as follows:"
   ]
  },
  {
   "cell_type": "code",
   "execution_count": 12,
   "metadata": {},
   "outputs": [
    {
     "data": {
      "text/html": [
       "<style type=\"text/css\">\n",
       "</style>\n",
       "<table id=\"T_73a9f\">\n",
       "  <thead>\n",
       "    <tr>\n",
       "      <th id=\"T_73a9f_level0_col0\" class=\"col_heading level0 col0\" >form</th>\n",
       "      <th id=\"T_73a9f_level0_col1\" class=\"col_heading level0 col1\" >n_atoms</th>\n",
       "      <th id=\"T_73a9f_level0_col2\" class=\"col_heading level0 col2\" >n_groups</th>\n",
       "      <th id=\"T_73a9f_level0_col3\" class=\"col_heading level0 col3\" >n_components</th>\n",
       "      <th id=\"T_73a9f_level0_col4\" class=\"col_heading level0 col4\" >n_chains</th>\n",
       "      <th id=\"T_73a9f_level0_col5\" class=\"col_heading level0 col5\" >n_molecules</th>\n",
       "      <th id=\"T_73a9f_level0_col6\" class=\"col_heading level0 col6\" >n_entities</th>\n",
       "      <th id=\"T_73a9f_level0_col7\" class=\"col_heading level0 col7\" >n_waters</th>\n",
       "      <th id=\"T_73a9f_level0_col8\" class=\"col_heading level0 col8\" >n_proteins</th>\n",
       "      <th id=\"T_73a9f_level0_col9\" class=\"col_heading level0 col9\" >n_structures</th>\n",
       "    </tr>\n",
       "  </thead>\n",
       "  <tbody>\n",
       "    <tr>\n",
       "      <td id=\"T_73a9f_row0_col0\" class=\"data row0 col0\" >molsysmt.MolSys</td>\n",
       "      <td id=\"T_73a9f_row0_col1\" class=\"data row0 col1\" >3983</td>\n",
       "      <td id=\"T_73a9f_row0_col2\" class=\"data row0 col2\" >662</td>\n",
       "      <td id=\"T_73a9f_row0_col3\" class=\"data row0 col3\" >167</td>\n",
       "      <td id=\"T_73a9f_row0_col4\" class=\"data row0 col4\" >4</td>\n",
       "      <td id=\"T_73a9f_row0_col5\" class=\"data row0 col5\" >167</td>\n",
       "      <td id=\"T_73a9f_row0_col6\" class=\"data row0 col6\" >2</td>\n",
       "      <td id=\"T_73a9f_row0_col7\" class=\"data row0 col7\" >165</td>\n",
       "      <td id=\"T_73a9f_row0_col8\" class=\"data row0 col8\" >2</td>\n",
       "      <td id=\"T_73a9f_row0_col9\" class=\"data row0 col9\" >1</td>\n",
       "    </tr>\n",
       "  </tbody>\n",
       "</table>\n"
      ],
      "text/plain": [
       "<pandas.io.formats.style.Styler at 0x7f108149ddc0>"
      ]
     },
     "execution_count": 12,
     "metadata": {},
     "output_type": "execute_result"
    }
   ],
   "source": [
    "msm.info(molecular_system)"
   ]
  },
  {
   "cell_type": "code",
   "execution_count": 13,
   "metadata": {},
   "outputs": [],
   "source": [
    "topology, structures = msm.convert(molecular_system, to_form=['molsysmt.Topology','molsysmt.Structures'])"
   ]
  },
  {
   "cell_type": "code",
   "execution_count": 14,
   "metadata": {},
   "outputs": [
    {
     "data": {
      "text/html": [
       "<style type=\"text/css\">\n",
       "</style>\n",
       "<table id=\"T_9fbc1\">\n",
       "  <thead>\n",
       "    <tr>\n",
       "      <th id=\"T_9fbc1_level0_col0\" class=\"col_heading level0 col0\" >form</th>\n",
       "      <th id=\"T_9fbc1_level0_col1\" class=\"col_heading level0 col1\" >n_atoms</th>\n",
       "      <th id=\"T_9fbc1_level0_col2\" class=\"col_heading level0 col2\" >n_groups</th>\n",
       "      <th id=\"T_9fbc1_level0_col3\" class=\"col_heading level0 col3\" >n_components</th>\n",
       "      <th id=\"T_9fbc1_level0_col4\" class=\"col_heading level0 col4\" >n_chains</th>\n",
       "      <th id=\"T_9fbc1_level0_col5\" class=\"col_heading level0 col5\" >n_molecules</th>\n",
       "      <th id=\"T_9fbc1_level0_col6\" class=\"col_heading level0 col6\" >n_entities</th>\n",
       "      <th id=\"T_9fbc1_level0_col7\" class=\"col_heading level0 col7\" >n_waters</th>\n",
       "      <th id=\"T_9fbc1_level0_col8\" class=\"col_heading level0 col8\" >n_proteins</th>\n",
       "      <th id=\"T_9fbc1_level0_col9\" class=\"col_heading level0 col9\" >n_structures</th>\n",
       "    </tr>\n",
       "  </thead>\n",
       "  <tbody>\n",
       "    <tr>\n",
       "      <td id=\"T_9fbc1_row0_col0\" class=\"data row0 col0\" >molsysmt.Topology</td>\n",
       "      <td id=\"T_9fbc1_row0_col1\" class=\"data row0 col1\" >3983</td>\n",
       "      <td id=\"T_9fbc1_row0_col2\" class=\"data row0 col2\" >662</td>\n",
       "      <td id=\"T_9fbc1_row0_col3\" class=\"data row0 col3\" >167</td>\n",
       "      <td id=\"T_9fbc1_row0_col4\" class=\"data row0 col4\" >4</td>\n",
       "      <td id=\"T_9fbc1_row0_col5\" class=\"data row0 col5\" >167</td>\n",
       "      <td id=\"T_9fbc1_row0_col6\" class=\"data row0 col6\" >2</td>\n",
       "      <td id=\"T_9fbc1_row0_col7\" class=\"data row0 col7\" >165</td>\n",
       "      <td id=\"T_9fbc1_row0_col8\" class=\"data row0 col8\" >2</td>\n",
       "      <td id=\"T_9fbc1_row0_col9\" class=\"data row0 col9\" >None</td>\n",
       "    </tr>\n",
       "  </tbody>\n",
       "</table>\n"
      ],
      "text/plain": [
       "<pandas.io.formats.style.Styler at 0x7f108152d430>"
      ]
     },
     "execution_count": 14,
     "metadata": {},
     "output_type": "execute_result"
    }
   ],
   "source": [
    "msm.info(topology)"
   ]
  },
  {
   "cell_type": "code",
   "execution_count": 15,
   "metadata": {},
   "outputs": [
    {
     "data": {
      "text/html": [
       "<style type=\"text/css\">\n",
       "</style>\n",
       "<table id=\"T_1bab5\">\n",
       "  <thead>\n",
       "    <tr>\n",
       "      <th id=\"T_1bab5_level0_col0\" class=\"col_heading level0 col0\" >form</th>\n",
       "      <th id=\"T_1bab5_level0_col1\" class=\"col_heading level0 col1\" >n_atoms</th>\n",
       "      <th id=\"T_1bab5_level0_col2\" class=\"col_heading level0 col2\" >n_groups</th>\n",
       "      <th id=\"T_1bab5_level0_col3\" class=\"col_heading level0 col3\" >n_components</th>\n",
       "      <th id=\"T_1bab5_level0_col4\" class=\"col_heading level0 col4\" >n_chains</th>\n",
       "      <th id=\"T_1bab5_level0_col5\" class=\"col_heading level0 col5\" >n_molecules</th>\n",
       "      <th id=\"T_1bab5_level0_col6\" class=\"col_heading level0 col6\" >n_entities</th>\n",
       "      <th id=\"T_1bab5_level0_col7\" class=\"col_heading level0 col7\" >n_structures</th>\n",
       "    </tr>\n",
       "  </thead>\n",
       "  <tbody>\n",
       "    <tr>\n",
       "      <td id=\"T_1bab5_row0_col0\" class=\"data row0 col0\" >molsysmt.Structures</td>\n",
       "      <td id=\"T_1bab5_row0_col1\" class=\"data row0 col1\" >3983</td>\n",
       "      <td id=\"T_1bab5_row0_col2\" class=\"data row0 col2\" >None</td>\n",
       "      <td id=\"T_1bab5_row0_col3\" class=\"data row0 col3\" >None</td>\n",
       "      <td id=\"T_1bab5_row0_col4\" class=\"data row0 col4\" >None</td>\n",
       "      <td id=\"T_1bab5_row0_col5\" class=\"data row0 col5\" >None</td>\n",
       "      <td id=\"T_1bab5_row0_col6\" class=\"data row0 col6\" >None</td>\n",
       "      <td id=\"T_1bab5_row0_col7\" class=\"data row0 col7\" >1</td>\n",
       "    </tr>\n",
       "  </tbody>\n",
       "</table>\n"
      ],
      "text/plain": [
       "<pandas.io.formats.style.Styler at 0x7f10814d4070>"
      ]
     },
     "execution_count": 15,
     "metadata": {},
     "output_type": "execute_result"
    }
   ],
   "source": [
    "msm.info(structures)"
   ]
  },
  {
   "cell_type": "code",
   "execution_count": 16,
   "metadata": {},
   "outputs": [
    {
     "data": {
      "text/html": [
       "<style type=\"text/css\">\n",
       "</style>\n",
       "<table id=\"T_9e88c\">\n",
       "  <thead>\n",
       "    <tr>\n",
       "      <th id=\"T_9e88c_level0_col0\" class=\"col_heading level0 col0\" >form</th>\n",
       "      <th id=\"T_9e88c_level0_col1\" class=\"col_heading level0 col1\" >n_atoms</th>\n",
       "      <th id=\"T_9e88c_level0_col2\" class=\"col_heading level0 col2\" >n_groups</th>\n",
       "      <th id=\"T_9e88c_level0_col3\" class=\"col_heading level0 col3\" >n_components</th>\n",
       "      <th id=\"T_9e88c_level0_col4\" class=\"col_heading level0 col4\" >n_chains</th>\n",
       "      <th id=\"T_9e88c_level0_col5\" class=\"col_heading level0 col5\" >n_molecules</th>\n",
       "      <th id=\"T_9e88c_level0_col6\" class=\"col_heading level0 col6\" >n_entities</th>\n",
       "      <th id=\"T_9e88c_level0_col7\" class=\"col_heading level0 col7\" >n_waters</th>\n",
       "      <th id=\"T_9e88c_level0_col8\" class=\"col_heading level0 col8\" >n_proteins</th>\n",
       "      <th id=\"T_9e88c_level0_col9\" class=\"col_heading level0 col9\" >n_structures</th>\n",
       "    </tr>\n",
       "  </thead>\n",
       "  <tbody>\n",
       "    <tr>\n",
       "      <td id=\"T_9e88c_row0_col0\" class=\"data row0 col0\" >['molsysmt.Topology', 'molsysmt.Structures']</td>\n",
       "      <td id=\"T_9e88c_row0_col1\" class=\"data row0 col1\" >3983</td>\n",
       "      <td id=\"T_9e88c_row0_col2\" class=\"data row0 col2\" >662</td>\n",
       "      <td id=\"T_9e88c_row0_col3\" class=\"data row0 col3\" >167</td>\n",
       "      <td id=\"T_9e88c_row0_col4\" class=\"data row0 col4\" >4</td>\n",
       "      <td id=\"T_9e88c_row0_col5\" class=\"data row0 col5\" >167</td>\n",
       "      <td id=\"T_9e88c_row0_col6\" class=\"data row0 col6\" >2</td>\n",
       "      <td id=\"T_9e88c_row0_col7\" class=\"data row0 col7\" >165</td>\n",
       "      <td id=\"T_9e88c_row0_col8\" class=\"data row0 col8\" >2</td>\n",
       "      <td id=\"T_9e88c_row0_col9\" class=\"data row0 col9\" >1</td>\n",
       "    </tr>\n",
       "  </tbody>\n",
       "</table>\n"
      ],
      "text/plain": [
       "<pandas.io.formats.style.Styler at 0x7f108143fe20>"
      ]
     },
     "execution_count": 16,
     "metadata": {},
     "output_type": "execute_result"
    }
   ],
   "source": [
    "msm.info([topology, structures])"
   ]
  },
  {
   "cell_type": "markdown",
   "metadata": {},
   "source": [
    "## As a string\n",
    "\n",
    "The method `molsysmt.info()` can also return a string, short or long, with key information to identify the elementted element."
   ]
  },
  {
   "cell_type": "markdown",
   "metadata": {},
   "source": [
    "### Summary information on atoms\n",
    "\n",
    "If we only need to get a short string encoding the main attributes of an atom, the input argument `output` should take the value 'short_string':"
   ]
  },
  {
   "cell_type": "code",
   "execution_count": 17,
   "metadata": {},
   "outputs": [
    {
     "data": {
      "text/plain": [
       "'CA-11@10'"
      ]
     },
     "execution_count": 17,
     "metadata": {},
     "output_type": "execute_result"
    }
   ],
   "source": [
    "msm.info(molecular_system, element='atom', indices=10, output='short_string')"
   ]
  },
  {
   "cell_type": "markdown",
   "metadata": {},
   "source": [
    "The string is nothing but the atom name, the atom id and the atom index with '-' between the name and the id, and '@' between the id and the index. The input argument `indices` accepts also a list of indices:"
   ]
  },
  {
   "cell_type": "code",
   "execution_count": 18,
   "metadata": {},
   "outputs": [
    {
     "data": {
      "text/plain": [
       "['CA-11@10', 'C-12@11', 'O-13@12', 'CB-14@13']"
      ]
     },
     "execution_count": 18,
     "metadata": {},
     "output_type": "execute_result"
    }
   ],
   "source": [
    "msm.info(molecular_system, element='atom', indices=[10,11,12,13], output='short_string')"
   ]
  },
  {
   "cell_type": "markdown",
   "metadata": {},
   "source": [
    "The long version of the string includes the short string of the group, chain and molecule the atom belongs to; with the character '/' in between:"
   ]
  },
  {
   "cell_type": "code",
   "execution_count": 19,
   "metadata": {},
   "outputs": [
    {
     "data": {
      "text/plain": [
       "'CA-11@10/PRO-5@1/A-A@0/Triosephosphate isomerase@0'"
      ]
     },
     "execution_count": 19,
     "metadata": {},
     "output_type": "execute_result"
    }
   ],
   "source": [
    "msm.info(molecular_system, element='atom', indices=10, output='long_string')"
   ]
  },
  {
   "cell_type": "markdown",
   "metadata": {},
   "source": [
    "### Summary information on groups\n",
    "\n",
    "The short string corresponding to a group is composed of its name, id and index. The characters used as separators are the same as with atoms: '-' between name and id, and '@' between id and index."
   ]
  },
  {
   "cell_type": "code",
   "execution_count": 20,
   "metadata": {},
   "outputs": [
    {
     "data": {
      "text/plain": [
       "'LYS-4@0'"
      ]
     },
     "execution_count": 20,
     "metadata": {},
     "output_type": "execute_result"
    }
   ],
   "source": [
    "msm.info(molecular_system, element='group', indices=0, output='short_string')"
   ]
  },
  {
   "cell_type": "markdown",
   "metadata": {},
   "source": [
    "The long version of the string includes the short string for the chain and molecule the group belongs to:"
   ]
  },
  {
   "cell_type": "code",
   "execution_count": 21,
   "metadata": {},
   "outputs": [
    {
     "data": {
      "text/plain": [
       "'PRO-7@3/A-A@0/Triosephosphate isomerase@0'"
      ]
     },
     "execution_count": 21,
     "metadata": {},
     "output_type": "execute_result"
    }
   ],
   "source": [
    "msm.info(molecular_system, element='group', indices=3, output='long_string')"
   ]
  },
  {
   "cell_type": "markdown",
   "metadata": {},
   "source": [
    "### Summary information on components"
   ]
  },
  {
   "cell_type": "markdown",
   "metadata": {},
   "source": [
    "The short string with the summary information of a component is its index only:"
   ]
  },
  {
   "cell_type": "code",
   "execution_count": 22,
   "metadata": {},
   "outputs": [
    {
     "data": {
      "text/plain": [
       "'2'"
      ]
     },
     "execution_count": 22,
     "metadata": {},
     "output_type": "execute_result"
    }
   ],
   "source": [
    "msm.info(molecular_system, element='component', indices=2, output='short_string')"
   ]
  },
  {
   "cell_type": "markdown",
   "metadata": {},
   "source": [
    "The long version of the string includes the chain and molecule the component belongs to with the character '/' as separator."
   ]
  },
  {
   "cell_type": "code",
   "execution_count": 23,
   "metadata": {},
   "outputs": [
    {
     "data": {
      "text/plain": [
       "'2/A-C@2/water@2'"
      ]
     },
     "execution_count": 23,
     "metadata": {},
     "output_type": "execute_result"
    }
   ],
   "source": [
    "msm.info(molecular_system, element='component', indices=2, output='long_string')"
   ]
  },
  {
   "cell_type": "markdown",
   "metadata": {},
   "source": [
    "### Summary information on chains"
   ]
  },
  {
   "cell_type": "markdown",
   "metadata": {},
   "source": [
    "Just like with atoms and groups, the short version of the chain string is made up of the sequence of atributes: name, id and index. The character '-' is in between the chain name and the chain id, and '@' precedes the chain index:"
   ]
  },
  {
   "cell_type": "code",
   "execution_count": 24,
   "metadata": {},
   "outputs": [
    {
     "data": {
      "text/plain": [
       "'A-C@2'"
      ]
     },
     "execution_count": 24,
     "metadata": {},
     "output_type": "execute_result"
    }
   ],
   "source": [
    "msm.info(molecular_system, element='chain', indices=2, output='short_string')"
   ]
  },
  {
   "cell_type": "markdown",
   "metadata": {},
   "source": [
    "The long version of the string in this case is the same as the short one:"
   ]
  },
  {
   "cell_type": "code",
   "execution_count": 25,
   "metadata": {},
   "outputs": [
    {
     "data": {
      "text/plain": [
       "'A-C@2'"
      ]
     },
     "execution_count": 25,
     "metadata": {},
     "output_type": "execute_result"
    }
   ],
   "source": [
    "msm.info(molecular_system, element='chain', indices=2, output='long_string')"
   ]
  },
  {
   "cell_type": "markdown",
   "metadata": {},
   "source": [
    "### Summary information on molecules\n",
    "\n",
    "Molecules have no relevant id attributes, thats why in this case the short string is the molecule name followed by the character '@' and the molecule index:"
   ]
  },
  {
   "cell_type": "code",
   "execution_count": 26,
   "metadata": {},
   "outputs": [
    {
     "data": {
      "text/plain": [
       "'Triosephosphate isomerase@0'"
      ]
     },
     "execution_count": 26,
     "metadata": {},
     "output_type": "execute_result"
    }
   ],
   "source": [
    "msm.info(molecular_system, element='molecule', indices=0, output='short_string')"
   ]
  },
  {
   "cell_type": "markdown",
   "metadata": {},
   "source": [
    "As well as with chains, the short and long strings are equivalent here:"
   ]
  },
  {
   "cell_type": "code",
   "execution_count": 27,
   "metadata": {},
   "outputs": [
    {
     "data": {
      "text/plain": [
       "'Triosephosphate isomerase@0'"
      ]
     },
     "execution_count": 27,
     "metadata": {},
     "output_type": "execute_result"
    }
   ],
   "source": [
    "msm.info(molecular_system, element='molecule', indices=0, output='long_string')"
   ]
  },
  {
   "cell_type": "markdown",
   "metadata": {},
   "source": [
    "### Summary information on entities"
   ]
  },
  {
   "cell_type": "markdown",
   "metadata": {},
   "source": [
    "The significant attributes for entities are only two. In this case the string takes the same coding as before, with the character '@' between the name and the index."
   ]
  },
  {
   "cell_type": "code",
   "execution_count": 28,
   "metadata": {},
   "outputs": [
    {
     "data": {
      "text/plain": [
       "'Triosephosphate isomerase@0'"
      ]
     },
     "execution_count": 28,
     "metadata": {},
     "output_type": "execute_result"
    }
   ],
   "source": [
    "msm.info(molecular_system, element='entity', indices=0, output='short_string')"
   ]
  },
  {
   "cell_type": "markdown",
   "metadata": {},
   "source": [
    "The long string is equal to the short string when the element is an entity:"
   ]
  },
  {
   "cell_type": "code",
   "execution_count": 29,
   "metadata": {},
   "outputs": [
    {
     "data": {
      "text/plain": [
       "'Triosephosphate isomerase@0'"
      ]
     },
     "execution_count": 29,
     "metadata": {},
     "output_type": "execute_result"
    }
   ],
   "source": [
    "msm.info(molecular_system, element='entity', indices=0, output='long_string')"
   ]
  },
  {
   "cell_type": "code",
   "execution_count": null,
   "metadata": {},
   "outputs": [],
   "source": []
  }
 ],
 "metadata": {
  "kernelspec": {
   "display_name": "Python 3 (ipykernel)",
   "language": "python",
   "name": "python3"
  },
  "language_info": {
   "codemirror_mode": {
    "name": "ipython",
    "version": 3
   },
   "file_extension": ".py",
   "mimetype": "text/x-python",
   "name": "python",
   "nbconvert_exporter": "python",
   "pygments_lexer": "ipython3",
   "version": "3.9.13"
  }
 },
 "nbformat": 4,
 "nbformat_minor": 4
}
