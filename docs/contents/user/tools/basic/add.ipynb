{
 "cells": [
  {
   "cell_type": "code",
   "execution_count": null,
   "metadata": {
    "tags": [
     "remove-input"
    ]
   },
   "outputs": [],
   "source": [
    "# This cell is removed with the tag: \"remove-input\"\n",
    "# As such, it will not be shown in documentation\n",
    "\n",
    "import warnings\n",
    "warnings.filterwarnings('ignore')\n",
    "\n",
    "static_dir = '../../../../_static/nglview/user/tools/basic/add/'\n",
    "nglview_htmlfiles = [\n",
    "    static_dir+'add.html',\n",
    "] # in order of apparence"
   ]
  },
  {
   "cell_type": "markdown",
   "metadata": {},
   "source": [
    "(UserGuide_Tools_Basic_Add)=\n",
    "# Add\n",
    "\n",
    "*Adding the elements of a/several molecular system/s to another molecular system.*\n",
    "\n",
    "Elements coming from different molecular systems can be added to a given system with the {func}`molsysmt.basic.add` method.\n",
    "\n",
    "Let's show how this method works with three peptides defined as three diferent molecular systems: proline dipeptide ($A$), valine dipeptide ($B$), and lysine dipeptide ($C$)."
   ]
  },
  {
   "cell_type": "code",
   "execution_count": null,
   "metadata": {},
   "outputs": [],
   "source": [
    "import molsysmt as msm"
   ]
  },
  {
   "cell_type": "code",
   "execution_count": null,
   "metadata": {},
   "outputs": [],
   "source": [
    "molecular_system_A = msm.build.build_peptide('AceProNme')\n",
    "molecular_system_B = msm.build.build_peptide('AceValNme')\n",
    "molecular_system_C = msm.build.build_peptide('AceLysNme')"
   ]
  },
  {
   "cell_type": "markdown",
   "metadata": {},
   "source": [
    "The molecular systems $B$ and $C$ need to be translated to avoid their overlapping once their elements are added to $A$."
   ]
  },
  {
   "cell_type": "code",
   "execution_count": null,
   "metadata": {},
   "outputs": [],
   "source": [
    "molecular_system_B = msm.structure.translate(molecular_system_B, translation='[-1.0, 0.0, 0.0] nanometers')\n",
    "molecular_system_C = msm.structure.translate(molecular_system_C, translation='[1.0, 0.0, 0.0] nanometers')"
   ]
  },
  {
   "cell_type": "markdown",
   "metadata": {},
   "source": [
    "Let's see how $A$ is defined before adding $B$ and $C$:"
   ]
  },
  {
   "cell_type": "code",
   "execution_count": null,
   "metadata": {},
   "outputs": [],
   "source": [
    "msm.info(molecular_system_A)"
   ]
  },
  {
   "cell_type": "markdown",
   "metadata": {
    "tags": []
   },
   "source": [
    "Now it is time to use {func}`molsysmt.basic.add`:"
   ]
  },
  {
   "cell_type": "code",
   "execution_count": null,
   "metadata": {},
   "outputs": [],
   "source": [
    "msm.add(molecular_system_A, [molecular_system_B, molecular_system_C])"
   ]
  },
  {
   "cell_type": "markdown",
   "metadata": {},
   "source": [
    "```{admonition} Tip\n",
    ":class: tip\n",
    "All methods defined in the {ref}`molsysmt.basic <API basic>` module can be invoked also from the main level of the library. As such, {func}`molsysmt.add` is the same method as {func}`molsysmt.basic.add`.\n",
    "```"
   ]
  },
  {
   "cell_type": "markdown",
   "metadata": {},
   "source": [
    "Let's see now the new content of $A$:"
   ]
  },
  {
   "cell_type": "code",
   "execution_count": null,
   "metadata": {},
   "outputs": [],
   "source": [
    "msm.info(molecular_system_A, element='system')"
   ]
  },
  {
   "cell_type": "code",
   "execution_count": null,
   "metadata": {},
   "outputs": [],
   "source": [
    "msm.view(molecular_system_A, standardize=True)"
   ]
  },
  {
   "cell_type": "markdown",
   "metadata": {},
   "source": [
    "```{admonition} See also\n",
    ":class: attention\n",
    "{func}`molsysmt.basic.add`, {func}`molsysmt.build.build_peptide`, {func}`molsysmt.structure.translate`, {func}`molsysmt.basic.info`, {func}`molsysmt.basic.view`\n",
    "```"
   ]
  },
  {
   "cell_type": "code",
   "execution_count": null,
   "metadata": {},
   "outputs": [],
   "source": []
  }
 ],
 "metadata": {
  "kernelspec": {
   "display_name": "Python 3 (ipykernel)",
   "language": "python",
   "name": "python3"
  },
  "language_info": {
   "codemirror_mode": {
    "name": "ipython",
    "version": 3
   },
   "file_extension": ".py",
   "mimetype": "text/x-python",
   "name": "python",
   "nbconvert_exporter": "python",
   "pygments_lexer": "ipython3",
   "version": "3.9.13"
  }
 },
 "nbformat": 4,
 "nbformat_minor": 4
}
