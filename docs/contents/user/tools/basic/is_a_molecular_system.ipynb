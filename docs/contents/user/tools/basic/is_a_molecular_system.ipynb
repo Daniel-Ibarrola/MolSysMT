{
 "cells": [
  {
   "cell_type": "markdown",
   "id": "4728b13f-673a-4839-8231-6bd9ca795cc3",
   "metadata": {},
   "source": [
    "# Is a molecular system"
   ]
  },
  {
   "cell_type": "code",
   "execution_count": 1,
   "id": "5e4f1659-b339-4ee7-962f-10c5f448d490",
   "metadata": {},
   "outputs": [
    {
     "data": {
      "application/vnd.jupyter.widget-view+json": {
       "model_id": "d1987b93ce054f8e9944ded22c821dec",
       "version_major": 2,
       "version_minor": 0
      },
      "text/plain": []
     },
     "metadata": {},
     "output_type": "display_data"
    }
   ],
   "source": [
    "import molsysmt as msm"
   ]
  },
  {
   "cell_type": "code",
   "execution_count": 5,
   "id": "01f8442b-cb25-4c27-ac1a-6da355d81eec",
   "metadata": {},
   "outputs": [],
   "source": [
    "import mdtraj as md"
   ]
  },
  {
   "cell_type": "code",
   "execution_count": 7,
   "id": "bd1d35ed-a85b-41a9-950e-fb883e13909c",
   "metadata": {},
   "outputs": [],
   "source": [
    "molsys = msm.get_form('traj_explicit_solvent.dcd')"
   ]
  },
  {
   "cell_type": "code",
   "execution_count": 8,
   "id": "f7186275-27e0-49d7-b068-cee8b4e588a1",
   "metadata": {},
   "outputs": [
    {
     "ename": "ValueError",
     "evalue": "\"top\" argument is required for load_dcd",
     "output_type": "error",
     "traceback": [
      "\u001b[0;31m---------------------------------------------------------------------------\u001b[0m",
      "\u001b[0;31mValueError\u001b[0m                                Traceback (most recent call last)",
      "Input \u001b[0;32mIn [8]\u001b[0m, in \u001b[0;36m<cell line: 1>\u001b[0;34m()\u001b[0m\n\u001b[0;32m----> 1\u001b[0m traj \u001b[38;5;241m=\u001b[39m \u001b[43mmd\u001b[49m\u001b[38;5;241;43m.\u001b[39;49m\u001b[43mload_dcd\u001b[49m\u001b[43m(\u001b[49m\u001b[43mmolsys\u001b[49m\u001b[43m)\u001b[49m\n",
      "File \u001b[0;32mmdtraj/formats/dcd/dcd.pyx:126\u001b[0m, in \u001b[0;36mmdtraj.formats.dcd.load_dcd\u001b[0;34m()\u001b[0m\n",
      "\u001b[0;31mValueError\u001b[0m: \"top\" argument is required for load_dcd"
     ]
    }
   ],
   "source": [
    "traj = md.load_dcd(molsys)"
   ]
  },
  {
   "cell_type": "code",
   "execution_count": null,
   "id": "40edc8d6-4d4a-4df5-b37f-1be9d908d2ec",
   "metadata": {},
   "outputs": [],
   "source": []
  }
 ],
 "metadata": {
  "kernelspec": {
   "display_name": "Python 3 (ipykernel)",
   "language": "python",
   "name": "python3"
  },
  "language_info": {
   "codemirror_mode": {
    "name": "ipython",
    "version": 3
   },
   "file_extension": ".py",
   "mimetype": "text/x-python",
   "name": "python",
   "nbconvert_exporter": "python",
   "pygments_lexer": "ipython3",
   "version": "3.9.13"
  }
 },
 "nbformat": 4,
 "nbformat_minor": 5
}
