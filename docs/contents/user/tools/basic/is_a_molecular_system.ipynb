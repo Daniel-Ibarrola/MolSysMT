{
 "cells": [
  {
   "cell_type": "markdown",
   "id": "4728b13f-673a-4839-8231-6bd9ca795cc3",
   "metadata": {},
   "source": [
    "# Is a molecular system"
   ]
  },
  {
   "cell_type": "code",
   "execution_count": 1,
   "id": "5e4f1659-b339-4ee7-962f-10c5f448d490",
   "metadata": {},
   "outputs": [
    {
     "data": {
      "application/vnd.jupyter.widget-view+json": {
       "model_id": "e38c422723004d3daea9f059aa09a606",
       "version_major": 2,
       "version_minor": 0
      },
      "text/plain": []
     },
     "metadata": {},
     "output_type": "display_data"
    }
   ],
   "source": [
    "import molsysmt as msm"
   ]
  },
  {
   "cell_type": "code",
   "execution_count": 2,
   "id": "01f8442b-cb25-4c27-ac1a-6da355d81eec",
   "metadata": {},
   "outputs": [],
   "source": [
    "import mdtraj as md"
   ]
  },
  {
   "cell_type": "code",
   "execution_count": 3,
   "id": "594a8fef-a8e5-4753-81ae-6a4d094ebe17",
   "metadata": {},
   "outputs": [],
   "source": [
    "molsys = msm.demo['chicken villin HP35']['traj_explicit_solvent.dcd']"
   ]
  },
  {
   "cell_type": "code",
   "execution_count": 4,
   "id": "bd1d35ed-a85b-41a9-950e-fb883e13909c",
   "metadata": {},
   "outputs": [
    {
     "data": {
      "text/plain": [
       "'file:dcd'"
      ]
     },
     "execution_count": 4,
     "metadata": {},
     "output_type": "execute_result"
    }
   ],
   "source": [
    "msm.get_form(molsys)"
   ]
  },
  {
   "cell_type": "code",
   "execution_count": 6,
   "id": "d8f2decd-f66e-472b-8ef6-c99ca0aad65a",
   "metadata": {},
   "outputs": [
    {
     "data": {
      "text/html": [
       "<style type=\"text/css\">\n",
       "</style>\n",
       "<table id=\"T_6a6ec\">\n",
       "  <thead>\n",
       "    <tr>\n",
       "      <th id=\"T_6a6ec_level0_col0\" class=\"col_heading level0 col0\" >form</th>\n",
       "      <th id=\"T_6a6ec_level0_col1\" class=\"col_heading level0 col1\" >n_atoms</th>\n",
       "      <th id=\"T_6a6ec_level0_col2\" class=\"col_heading level0 col2\" >n_groups</th>\n",
       "      <th id=\"T_6a6ec_level0_col3\" class=\"col_heading level0 col3\" >n_components</th>\n",
       "      <th id=\"T_6a6ec_level0_col4\" class=\"col_heading level0 col4\" >n_chains</th>\n",
       "      <th id=\"T_6a6ec_level0_col5\" class=\"col_heading level0 col5\" >n_molecules</th>\n",
       "      <th id=\"T_6a6ec_level0_col6\" class=\"col_heading level0 col6\" >n_entities</th>\n",
       "      <th id=\"T_6a6ec_level0_col7\" class=\"col_heading level0 col7\" >n_structures</th>\n",
       "    </tr>\n",
       "  </thead>\n",
       "  <tbody>\n",
       "    <tr>\n",
       "      <td id=\"T_6a6ec_row0_col0\" class=\"data row0 col0\" >file:dcd</td>\n",
       "      <td id=\"T_6a6ec_row0_col1\" class=\"data row0 col1\" >5674</td>\n",
       "      <td id=\"T_6a6ec_row0_col2\" class=\"data row0 col2\" >None</td>\n",
       "      <td id=\"T_6a6ec_row0_col3\" class=\"data row0 col3\" >None</td>\n",
       "      <td id=\"T_6a6ec_row0_col4\" class=\"data row0 col4\" >None</td>\n",
       "      <td id=\"T_6a6ec_row0_col5\" class=\"data row0 col5\" >None</td>\n",
       "      <td id=\"T_6a6ec_row0_col6\" class=\"data row0 col6\" >None</td>\n",
       "      <td id=\"T_6a6ec_row0_col7\" class=\"data row0 col7\" >20</td>\n",
       "    </tr>\n",
       "  </tbody>\n",
       "</table>\n"
      ],
      "text/plain": [
       "<pandas.io.formats.style.Styler at 0x7f66380e0070>"
      ]
     },
     "execution_count": 6,
     "metadata": {},
     "output_type": "execute_result"
    }
   ],
   "source": [
    "msm.info(molsys)"
   ]
  },
  {
   "cell_type": "code",
   "execution_count": 7,
   "id": "ea22ba62-2562-4e68-b72d-339470e1b589",
   "metadata": {},
   "outputs": [],
   "source": [
    "coordinates = msm.demo['pentalanine']['pentalanine.inpcrd']"
   ]
  },
  {
   "cell_type": "code",
   "execution_count": 8,
   "id": "d9953efd-5b8b-470a-a013-36ce93d09b90",
   "metadata": {},
   "outputs": [],
   "source": [
    "topology = msm.demo['pentalanine']['pentalanine.prmtop']"
   ]
  },
  {
   "cell_type": "code",
   "execution_count": 9,
   "id": "b104d103-3794-4654-91e3-8990e542bdeb",
   "metadata": {},
   "outputs": [
    {
     "data": {
      "text/plain": [
       "True"
      ]
     },
     "execution_count": 9,
     "metadata": {},
     "output_type": "execute_result"
    }
   ],
   "source": [
    "msm.is_a_molecular_system([topology, coordinates])"
   ]
  },
  {
   "cell_type": "code",
   "execution_count": 11,
   "id": "3578e6ee-e486-4a57-b3f0-49e288e8696c",
   "metadata": {},
   "outputs": [],
   "source": [
    "coordinates = msm.demo['chicken villin HP35']['traj_explicit_solvent.dcd']"
   ]
  },
  {
   "cell_type": "code",
   "execution_count": 12,
   "id": "7d672068-d74d-445c-a976-5c43b590c1ff",
   "metadata": {},
   "outputs": [
    {
     "data": {
      "text/plain": [
       "False"
      ]
     },
     "execution_count": 12,
     "metadata": {},
     "output_type": "execute_result"
    }
   ],
   "source": [
    "msm.is_a_molecular_system([topology, coordinates])"
   ]
  },
  {
   "cell_type": "code",
   "execution_count": null,
   "id": "16d4aeef-46ff-4c91-8a20-5fcd18ed81a0",
   "metadata": {},
   "outputs": [],
   "source": []
  }
 ],
 "metadata": {
  "kernelspec": {
   "display_name": "Python 3 (ipykernel)",
   "language": "python",
   "name": "python3"
  },
  "language_info": {
   "codemirror_mode": {
    "name": "ipython",
    "version": 3
   },
   "file_extension": ".py",
   "mimetype": "text/x-python",
   "name": "python",
   "nbconvert_exporter": "python",
   "pygments_lexer": "ipython3",
   "version": "3.9.13"
  }
 },
 "nbformat": 4,
 "nbformat_minor": 5
}
