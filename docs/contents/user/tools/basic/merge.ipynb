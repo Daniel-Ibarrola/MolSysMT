{
 "cells": [
  {
   "cell_type": "code",
   "execution_count": null,
   "metadata": {
    "tags": [
     "remove-input"
    ]
   },
   "outputs": [],
   "source": [
    "# This cell is removed with the tag: \"remove-input\"\n",
    "# As such, it will not be shown in documentation\n",
    "\n",
    "import warnings\n",
    "warnings.filterwarnings('ignore')\n",
    "\n",
    "nglview_static_dir = '../../../../_static/nglview/user/tools/basic/add/'"
   ]
  },
  {
   "cell_type": "markdown",
   "metadata": {},
   "source": [
    "(UserGuide_Tools_Basic_Merge)=\n",
    "# Merge\n",
    "\n",
    "*Merging the elements of different molecular systems.*\n",
    "\n",
    "Elements coming from different molecular systems can be merged in a new molecular system with the {func}`molsysmt.basic.merge` function.\n",
    "\n",
    "Let's show how this function works with three peptides defined as three diferent molecular systems: proline dipeptide ($A$), valine dipeptide ($B$), and lysine dipeptide ($C$)."
   ]
  },
  {
   "cell_type": "code",
   "execution_count": null,
   "metadata": {},
   "outputs": [],
   "source": [
    "import molsysmt as msm"
   ]
  },
  {
   "cell_type": "code",
   "execution_count": null,
   "metadata": {},
   "outputs": [],
   "source": [
    "molecular_system_A = msm.build.build_peptide('AceProNme')\n",
    "molecular_system_B = msm.build.build_peptide('AceValNme')\n",
    "molecular_system_C = msm.build.build_peptide('AceLysNme')"
   ]
  },
  {
   "cell_type": "markdown",
   "metadata": {},
   "source": [
    "The molecular systems $B$ and $C$ need to be translated to avoid their overlapping once their elements are merged with $A$."
   ]
  },
  {
   "cell_type": "code",
   "execution_count": null,
   "metadata": {},
   "outputs": [],
   "source": [
    "molecular_system_B = msm.structure.translate(molecular_system_B, translation='[-1.0, 0.0, 0.0] nanometers')\n",
    "molecular_system_C = msm.structure.translate(molecular_system_C, translation='[1.0, 0.0, 0.0] nanometers')"
   ]
  },
  {
   "cell_type": "code",
   "execution_count": null,
   "metadata": {},
   "outputs": [],
   "source": [
    "molecular_system_D = msm.merge([molecular_system_A, molecular_system_B, molecular_system_C])"
   ]
  },
  {
   "cell_type": "code",
   "execution_count": null,
   "metadata": {},
   "outputs": [],
   "source": [
    "msm.info(molecular_system_D)"
   ]
  },
  {
   "cell_type": "code",
   "execution_count": null,
   "metadata": {},
   "outputs": [],
   "source": [
    "# This cell is removed with the tag: \"remove-input\"\n",
    "# As such, it will not be shown in documentation\n",
    "\n",
    "nglview_htmlfile = nglview_static_dir+'add.html'"
   ]
  },
  {
   "cell_type": "code",
   "execution_count": null,
   "metadata": {},
   "outputs": [],
   "source": [
    "msm.view(molecular_system_D, standardize=True)"
   ]
  },
  {
   "cell_type": "markdown",
   "metadata": {},
   "source": [
    "```{admonition} See also\n",
    ":class: attention\n",
    "{func}`molsysmt.basic.merge`, {func}`molsysmt.build.build_peptide`, {func}`molsysmt.structure.translate`, {func}`molsysmt.basic.info`, {func}`molsysmt.basic.view`\n",
    "```"
   ]
  },
  {
   "cell_type": "code",
   "execution_count": 4,
   "metadata": {},
   "outputs": [],
   "source": [
    "import pandas as pd"
   ]
  },
  {
   "cell_type": "code",
   "execution_count": 18,
   "metadata": {},
   "outputs": [],
   "source": [
    "test_dict = {\n",
    "    'aaaaaaaaaaaaaaaaaaaa':[0],\n",
    "    'bbbbbbbbbbbbbbbbbbbb':[1],\n",
    "    'cccccccccccccccccccc':[2],\n",
    "    'dddddddddddddddddddd':[3],\n",
    "    'eeeeeeeeeeeeeeeeeeee':[4],\n",
    "    'ffffffffffffffffffff':[5],\n",
    "    'gggggggggggggggggggg':[6]\n",
    "}"
   ]
  },
  {
   "cell_type": "code",
   "execution_count": 19,
   "metadata": {},
   "outputs": [
    {
     "data": {
      "text/html": [
       "<div>\n",
       "<style scoped>\n",
       "    .dataframe tbody tr th:only-of-type {\n",
       "        vertical-align: middle;\n",
       "    }\n",
       "\n",
       "    .dataframe tbody tr th {\n",
       "        vertical-align: top;\n",
       "    }\n",
       "\n",
       "    .dataframe thead th {\n",
       "        text-align: right;\n",
       "    }\n",
       "</style>\n",
       "<table border=\"1\" class=\"dataframe\">\n",
       "  <thead>\n",
       "    <tr style=\"text-align: right;\">\n",
       "      <th></th>\n",
       "      <th>aaaaaaaaaaaaaaaaaaaa</th>\n",
       "      <th>bbbbbbbbbbbbbbbbbbbb</th>\n",
       "      <th>cccccccccccccccccccc</th>\n",
       "      <th>dddddddddddddddddddd</th>\n",
       "      <th>eeeeeeeeeeeeeeeeeeee</th>\n",
       "      <th>ffffffffffffffffffff</th>\n",
       "      <th>gggggggggggggggggggg</th>\n",
       "    </tr>\n",
       "  </thead>\n",
       "  <tbody>\n",
       "    <tr>\n",
       "      <th>0</th>\n",
       "      <td>0</td>\n",
       "      <td>1</td>\n",
       "      <td>2</td>\n",
       "      <td>3</td>\n",
       "      <td>4</td>\n",
       "      <td>5</td>\n",
       "      <td>6</td>\n",
       "    </tr>\n",
       "  </tbody>\n",
       "</table>\n",
       "</div>"
      ],
      "text/plain": [
       "   aaaaaaaaaaaaaaaaaaaa  bbbbbbbbbbbbbbbbbbbb  cccccccccccccccccccc  \\\n",
       "0                     0                     1                     2   \n",
       "\n",
       "   dddddddddddddddddddd  eeeeeeeeeeeeeeeeeeee  ffffffffffffffffffff  \\\n",
       "0                     3                     4                     5   \n",
       "\n",
       "   gggggggggggggggggggg  \n",
       "0                     6  "
      ]
     },
     "execution_count": 19,
     "metadata": {},
     "output_type": "execute_result"
    }
   ],
   "source": [
    "pd.DataFrame(test_dict)"
   ]
  },
  {
   "cell_type": "code",
   "execution_count": null,
   "metadata": {},
   "outputs": [],
   "source": []
  }
 ],
 "metadata": {
  "kernelspec": {
   "display_name": "Python 3 (ipykernel)",
   "language": "python",
   "name": "python3"
  },
  "language_info": {
   "codemirror_mode": {
    "name": "ipython",
    "version": 3
   },
   "file_extension": ".py",
   "mimetype": "text/x-python",
   "name": "python",
   "nbconvert_exporter": "python",
   "pygments_lexer": "ipython3",
   "version": "3.9.13"
  }
 },
 "nbformat": 4,
 "nbformat_minor": 4
}
