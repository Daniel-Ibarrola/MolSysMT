{
 "cells": [
  {
   "cell_type": "code",
   "execution_count": 1,
   "metadata": {},
   "outputs": [],
   "source": [
    "%load_ext autoreload\n",
    "%autoreload 2"
   ]
  },
  {
   "cell_type": "code",
   "execution_count": 2,
   "metadata": {},
   "outputs": [
    {
     "data": {
      "application/vnd.jupyter.widget-view+json": {
       "model_id": "b7bdad36ed544249860b637c04149b64",
       "version_major": 2,
       "version_minor": 0
      },
      "text/plain": []
     },
     "metadata": {},
     "output_type": "display_data"
    }
   ],
   "source": [
    "import molsysmt as msm"
   ]
  },
  {
   "cell_type": "markdown",
   "metadata": {},
   "source": [
    "# Remove"
   ]
  },
  {
   "cell_type": "markdown",
   "metadata": {},
   "source": [
    "## Removing atoms"
   ]
  },
  {
   "cell_type": "code",
   "execution_count": 3,
   "metadata": {},
   "outputs": [
    {
     "name": "stderr",
     "output_type": "stream",
     "text": [
      "/home/diego/projects@dprada/MolSysMT/molsysmt/item/mmtf_MMTFDecoder/to_molsysmt_Topology.py:31: UserWarning: The structure in the PDB has biological assemblies. There are geometrical transformations proposed in the structure. See the following issue in the source code repository: https://github.com/uibcdf/MolSysMT/issues/33\n",
      "  warnings.warn(warning_message)\n"
     ]
    }
   ],
   "source": [
    "molecular_system = msm.convert('pdb_id:1tcd', to_form='molsysmt.MolSys')"
   ]
  },
  {
   "cell_type": "code",
   "execution_count": 4,
   "metadata": {},
   "outputs": [
    {
     "data": {
      "text/html": [
       "<style type=\"text/css\">\n",
       "</style>\n",
       "<table id=\"T_d811b\">\n",
       "  <thead>\n",
       "    <tr>\n",
       "      <th id=\"T_d811b_level0_col0\" class=\"col_heading level0 col0\" >form</th>\n",
       "      <th id=\"T_d811b_level0_col1\" class=\"col_heading level0 col1\" >n_atoms</th>\n",
       "      <th id=\"T_d811b_level0_col2\" class=\"col_heading level0 col2\" >n_groups</th>\n",
       "      <th id=\"T_d811b_level0_col3\" class=\"col_heading level0 col3\" >n_components</th>\n",
       "      <th id=\"T_d811b_level0_col4\" class=\"col_heading level0 col4\" >n_chains</th>\n",
       "      <th id=\"T_d811b_level0_col5\" class=\"col_heading level0 col5\" >n_molecules</th>\n",
       "      <th id=\"T_d811b_level0_col6\" class=\"col_heading level0 col6\" >n_entities</th>\n",
       "      <th id=\"T_d811b_level0_col7\" class=\"col_heading level0 col7\" >n_waters</th>\n",
       "      <th id=\"T_d811b_level0_col8\" class=\"col_heading level0 col8\" >n_proteins</th>\n",
       "      <th id=\"T_d811b_level0_col9\" class=\"col_heading level0 col9\" >n_structures</th>\n",
       "    </tr>\n",
       "  </thead>\n",
       "  <tbody>\n",
       "    <tr>\n",
       "      <td id=\"T_d811b_row0_col0\" class=\"data row0 col0\" >molsysmt.MolSys</td>\n",
       "      <td id=\"T_d811b_row0_col1\" class=\"data row0 col1\" >3983</td>\n",
       "      <td id=\"T_d811b_row0_col2\" class=\"data row0 col2\" >662</td>\n",
       "      <td id=\"T_d811b_row0_col3\" class=\"data row0 col3\" >167</td>\n",
       "      <td id=\"T_d811b_row0_col4\" class=\"data row0 col4\" >4</td>\n",
       "      <td id=\"T_d811b_row0_col5\" class=\"data row0 col5\" >167</td>\n",
       "      <td id=\"T_d811b_row0_col6\" class=\"data row0 col6\" >2</td>\n",
       "      <td id=\"T_d811b_row0_col7\" class=\"data row0 col7\" >165</td>\n",
       "      <td id=\"T_d811b_row0_col8\" class=\"data row0 col8\" >2</td>\n",
       "      <td id=\"T_d811b_row0_col9\" class=\"data row0 col9\" >1</td>\n",
       "    </tr>\n",
       "  </tbody>\n",
       "</table>\n"
      ],
      "text/plain": [
       "<pandas.io.formats.style.Styler at 0x7f30b4b281c0>"
      ]
     },
     "execution_count": 4,
     "metadata": {},
     "output_type": "execute_result"
    }
   ],
   "source": [
    "msm.info(molecular_system)"
   ]
  },
  {
   "cell_type": "code",
   "execution_count": 5,
   "metadata": {},
   "outputs": [],
   "source": [
    "molecular_system_trimmed = msm.remove(molecular_system, selection='chain_index==[1,2,3]')"
   ]
  },
  {
   "cell_type": "code",
   "execution_count": 6,
   "metadata": {},
   "outputs": [
    {
     "data": {
      "text/html": [
       "<style type=\"text/css\">\n",
       "</style>\n",
       "<table id=\"T_e4ad6\">\n",
       "  <thead>\n",
       "    <tr>\n",
       "      <th id=\"T_e4ad6_level0_col0\" class=\"col_heading level0 col0\" >form</th>\n",
       "      <th id=\"T_e4ad6_level0_col1\" class=\"col_heading level0 col1\" >n_atoms</th>\n",
       "      <th id=\"T_e4ad6_level0_col2\" class=\"col_heading level0 col2\" >n_groups</th>\n",
       "      <th id=\"T_e4ad6_level0_col3\" class=\"col_heading level0 col3\" >n_components</th>\n",
       "      <th id=\"T_e4ad6_level0_col4\" class=\"col_heading level0 col4\" >n_chains</th>\n",
       "      <th id=\"T_e4ad6_level0_col5\" class=\"col_heading level0 col5\" >n_molecules</th>\n",
       "      <th id=\"T_e4ad6_level0_col6\" class=\"col_heading level0 col6\" >n_entities</th>\n",
       "      <th id=\"T_e4ad6_level0_col7\" class=\"col_heading level0 col7\" >n_proteins</th>\n",
       "      <th id=\"T_e4ad6_level0_col8\" class=\"col_heading level0 col8\" >n_structures</th>\n",
       "    </tr>\n",
       "  </thead>\n",
       "  <tbody>\n",
       "    <tr>\n",
       "      <td id=\"T_e4ad6_row0_col0\" class=\"data row0 col0\" >molsysmt.MolSys</td>\n",
       "      <td id=\"T_e4ad6_row0_col1\" class=\"data row0 col1\" >1906</td>\n",
       "      <td id=\"T_e4ad6_row0_col2\" class=\"data row0 col2\" >248</td>\n",
       "      <td id=\"T_e4ad6_row0_col3\" class=\"data row0 col3\" >1</td>\n",
       "      <td id=\"T_e4ad6_row0_col4\" class=\"data row0 col4\" >1</td>\n",
       "      <td id=\"T_e4ad6_row0_col5\" class=\"data row0 col5\" >1</td>\n",
       "      <td id=\"T_e4ad6_row0_col6\" class=\"data row0 col6\" >1</td>\n",
       "      <td id=\"T_e4ad6_row0_col7\" class=\"data row0 col7\" >1</td>\n",
       "      <td id=\"T_e4ad6_row0_col8\" class=\"data row0 col8\" >1</td>\n",
       "    </tr>\n",
       "  </tbody>\n",
       "</table>\n"
      ],
      "text/plain": [
       "<pandas.io.formats.style.Styler at 0x7f30b3694190>"
      ]
     },
     "execution_count": 6,
     "metadata": {},
     "output_type": "execute_result"
    }
   ],
   "source": [
    "msm.info(molecular_system_trimmed)"
   ]
  },
  {
   "cell_type": "markdown",
   "metadata": {},
   "source": [
    "## Removing structures"
   ]
  },
  {
   "cell_type": "code",
   "execution_count": 7,
   "metadata": {},
   "outputs": [],
   "source": [
    "pdbfile = msm.demo['Trp-Cage']['1l2y.pdb']\n",
    "molecular_system = msm.convert(pdbfile, to_form='molsysmt.Structures')"
   ]
  },
  {
   "cell_type": "code",
   "execution_count": 8,
   "metadata": {},
   "outputs": [
    {
     "data": {
      "text/html": [
       "<style type=\"text/css\">\n",
       "</style>\n",
       "<table id=\"T_95b82\">\n",
       "  <thead>\n",
       "    <tr>\n",
       "      <th id=\"T_95b82_level0_col0\" class=\"col_heading level0 col0\" >form</th>\n",
       "      <th id=\"T_95b82_level0_col1\" class=\"col_heading level0 col1\" >n_atoms</th>\n",
       "      <th id=\"T_95b82_level0_col2\" class=\"col_heading level0 col2\" >n_groups</th>\n",
       "      <th id=\"T_95b82_level0_col3\" class=\"col_heading level0 col3\" >n_components</th>\n",
       "      <th id=\"T_95b82_level0_col4\" class=\"col_heading level0 col4\" >n_chains</th>\n",
       "      <th id=\"T_95b82_level0_col5\" class=\"col_heading level0 col5\" >n_molecules</th>\n",
       "      <th id=\"T_95b82_level0_col6\" class=\"col_heading level0 col6\" >n_entities</th>\n",
       "      <th id=\"T_95b82_level0_col7\" class=\"col_heading level0 col7\" >n_structures</th>\n",
       "    </tr>\n",
       "  </thead>\n",
       "  <tbody>\n",
       "    <tr>\n",
       "      <td id=\"T_95b82_row0_col0\" class=\"data row0 col0\" >molsysmt.Structures</td>\n",
       "      <td id=\"T_95b82_row0_col1\" class=\"data row0 col1\" >304</td>\n",
       "      <td id=\"T_95b82_row0_col2\" class=\"data row0 col2\" >None</td>\n",
       "      <td id=\"T_95b82_row0_col3\" class=\"data row0 col3\" >None</td>\n",
       "      <td id=\"T_95b82_row0_col4\" class=\"data row0 col4\" >None</td>\n",
       "      <td id=\"T_95b82_row0_col5\" class=\"data row0 col5\" >None</td>\n",
       "      <td id=\"T_95b82_row0_col6\" class=\"data row0 col6\" >None</td>\n",
       "      <td id=\"T_95b82_row0_col7\" class=\"data row0 col7\" >38</td>\n",
       "    </tr>\n",
       "  </tbody>\n",
       "</table>\n"
      ],
      "text/plain": [
       "<pandas.io.formats.style.Styler at 0x7f30b2c83700>"
      ]
     },
     "execution_count": 8,
     "metadata": {},
     "output_type": "execute_result"
    }
   ],
   "source": [
    "msm.info(molecular_system)"
   ]
  },
  {
   "cell_type": "code",
   "execution_count": 9,
   "metadata": {},
   "outputs": [],
   "source": [
    "molecular_system_trimmed = msm.remove(molecular_system, structure_indices=range(1,38))"
   ]
  },
  {
   "cell_type": "code",
   "execution_count": 10,
   "metadata": {},
   "outputs": [
    {
     "data": {
      "text/html": [
       "<style type=\"text/css\">\n",
       "</style>\n",
       "<table id=\"T_ae23c\">\n",
       "  <thead>\n",
       "    <tr>\n",
       "      <th id=\"T_ae23c_level0_col0\" class=\"col_heading level0 col0\" >form</th>\n",
       "      <th id=\"T_ae23c_level0_col1\" class=\"col_heading level0 col1\" >n_atoms</th>\n",
       "      <th id=\"T_ae23c_level0_col2\" class=\"col_heading level0 col2\" >n_groups</th>\n",
       "      <th id=\"T_ae23c_level0_col3\" class=\"col_heading level0 col3\" >n_components</th>\n",
       "      <th id=\"T_ae23c_level0_col4\" class=\"col_heading level0 col4\" >n_chains</th>\n",
       "      <th id=\"T_ae23c_level0_col5\" class=\"col_heading level0 col5\" >n_molecules</th>\n",
       "      <th id=\"T_ae23c_level0_col6\" class=\"col_heading level0 col6\" >n_entities</th>\n",
       "      <th id=\"T_ae23c_level0_col7\" class=\"col_heading level0 col7\" >n_structures</th>\n",
       "    </tr>\n",
       "  </thead>\n",
       "  <tbody>\n",
       "    <tr>\n",
       "      <td id=\"T_ae23c_row0_col0\" class=\"data row0 col0\" >molsysmt.Structures</td>\n",
       "      <td id=\"T_ae23c_row0_col1\" class=\"data row0 col1\" >304</td>\n",
       "      <td id=\"T_ae23c_row0_col2\" class=\"data row0 col2\" >None</td>\n",
       "      <td id=\"T_ae23c_row0_col3\" class=\"data row0 col3\" >None</td>\n",
       "      <td id=\"T_ae23c_row0_col4\" class=\"data row0 col4\" >None</td>\n",
       "      <td id=\"T_ae23c_row0_col5\" class=\"data row0 col5\" >None</td>\n",
       "      <td id=\"T_ae23c_row0_col6\" class=\"data row0 col6\" >None</td>\n",
       "      <td id=\"T_ae23c_row0_col7\" class=\"data row0 col7\" >1</td>\n",
       "    </tr>\n",
       "  </tbody>\n",
       "</table>\n"
      ],
      "text/plain": [
       "<pandas.io.formats.style.Styler at 0x7f30b1ded040>"
      ]
     },
     "execution_count": 10,
     "metadata": {},
     "output_type": "execute_result"
    }
   ],
   "source": [
    "msm.info(molecular_system_trimmed)"
   ]
  },
  {
   "cell_type": "code",
   "execution_count": null,
   "metadata": {},
   "outputs": [],
   "source": []
  }
 ],
 "metadata": {
  "kernelspec": {
   "display_name": "Python 3 (ipykernel)",
   "language": "python",
   "name": "python3"
  },
  "language_info": {
   "codemirror_mode": {
    "name": "ipython",
    "version": 3
   },
   "file_extension": ".py",
   "mimetype": "text/x-python",
   "name": "python",
   "nbconvert_exporter": "python",
   "pygments_lexer": "ipython3",
   "version": "3.9.13"
  }
 },
 "nbformat": 4,
 "nbformat_minor": 4
}
