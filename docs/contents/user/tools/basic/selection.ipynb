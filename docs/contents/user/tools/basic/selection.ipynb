{
 "cells": [
  {
   "cell_type": "code",
   "execution_count": 1,
   "metadata": {},
   "outputs": [],
   "source": [
    "%load_ext autoreload\n",
    "%autoreload 2"
   ]
  },
  {
   "cell_type": "code",
   "execution_count": 2,
   "metadata": {},
   "outputs": [
    {
     "data": {
      "application/vnd.jupyter.widget-view+json": {
       "model_id": "7ae89e7ddbb14777b6d009a4cd045fc7",
       "version_major": 2,
       "version_minor": 0
      },
      "text/plain": []
     },
     "metadata": {},
     "output_type": "display_data"
    }
   ],
   "source": [
    "import molsysmt as msm"
   ]
  },
  {
   "cell_type": "markdown",
   "metadata": {},
   "source": [
    "# Select\n",
    "\n",
    "Elements selections is probably the most frequently task when we work with molecular systems. There are many circumstances under which we need to know list of elements acomplishing a certain condition. We probably need, for instance, to calculate de contact map between CA atoms from two chains, or to remove the solvent atoms or to know how many 'HIS' residues there are in a peptide. All these conditions can be expresed as a sentence that the query over elements needs to match. Each library or MD engine or molecular visualization software have each own syntax to write this sentence. You can see different examples in MDTraj, PyTraj, Amber, Pymol or VMD.\n",
    "\n",
    "## MolSysMT selection syntax\n",
    "\n",
    "MolSysMT has its own selection syntax based on the attributes of the elements as atoms, groups, molecules, etc. Lets load a molecular system to explain the logic behind this syntax:"
   ]
  },
  {
   "cell_type": "code",
   "execution_count": 3,
   "metadata": {},
   "outputs": [
    {
     "name": "stderr",
     "output_type": "stream",
     "text": [
      "/home/diego/projects@dprada/MolSysMT/molsysmt/item/mmtf_MMTFDecoder/to_molsysmt_Topology.py:31: UserWarning: The structure in the PDB has biological assemblies. There are geometrical transformations proposed in the structure. See the following issue in the source code repository: https://github.com/uibcdf/MolSysMT/issues/33\n",
      "  warnings.warn(warning_message)\n"
     ]
    }
   ],
   "source": [
    "molecular_system = msm.convert('pdb_id:1tcd', to_form='molsysmt.MolSys')"
   ]
  },
  {
   "cell_type": "markdown",
   "metadata": {},
   "source": [
    "A molecular system encoded as the native form 'MolSys' has a pandas DataFrame with the atoms breakdown:"
   ]
  },
  {
   "cell_type": "code",
   "execution_count": 4,
   "metadata": {},
   "outputs": [
    {
     "data": {
      "text/html": [
       "<div>\n",
       "<style scoped>\n",
       "    .dataframe tbody tr th:only-of-type {\n",
       "        vertical-align: middle;\n",
       "    }\n",
       "\n",
       "    .dataframe tbody tr th {\n",
       "        vertical-align: top;\n",
       "    }\n",
       "\n",
       "    .dataframe thead th {\n",
       "        text-align: right;\n",
       "    }\n",
       "</style>\n",
       "<table border=\"1\" class=\"dataframe\">\n",
       "  <thead>\n",
       "    <tr style=\"text-align: right;\">\n",
       "      <th></th>\n",
       "      <th>atom_index</th>\n",
       "      <th>atom_name</th>\n",
       "      <th>atom_id</th>\n",
       "      <th>atom_type</th>\n",
       "      <th>group_index</th>\n",
       "      <th>group_name</th>\n",
       "      <th>group_id</th>\n",
       "      <th>group_type</th>\n",
       "      <th>component_index</th>\n",
       "      <th>component_name</th>\n",
       "      <th>...</th>\n",
       "      <th>chain_id</th>\n",
       "      <th>chain_type</th>\n",
       "      <th>molecule_index</th>\n",
       "      <th>molecule_name</th>\n",
       "      <th>molecule_id</th>\n",
       "      <th>molecule_type</th>\n",
       "      <th>entity_index</th>\n",
       "      <th>entity_name</th>\n",
       "      <th>entity_id</th>\n",
       "      <th>entity_type</th>\n",
       "    </tr>\n",
       "  </thead>\n",
       "  <tbody>\n",
       "    <tr>\n",
       "      <th>0</th>\n",
       "      <td>0</td>\n",
       "      <td>N</td>\n",
       "      <td>1</td>\n",
       "      <td>N</td>\n",
       "      <td>0</td>\n",
       "      <td>LYS</td>\n",
       "      <td>4</td>\n",
       "      <td>aminoacid</td>\n",
       "      <td>0</td>\n",
       "      <td>0</td>\n",
       "      <td>...</td>\n",
       "      <td>A</td>\n",
       "      <td>None</td>\n",
       "      <td>0</td>\n",
       "      <td>Triosephosphate isomerase</td>\n",
       "      <td>0</td>\n",
       "      <td>protein</td>\n",
       "      <td>0</td>\n",
       "      <td>Triosephosphate isomerase</td>\n",
       "      <td>0</td>\n",
       "      <td>protein</td>\n",
       "    </tr>\n",
       "    <tr>\n",
       "      <th>1</th>\n",
       "      <td>1</td>\n",
       "      <td>CA</td>\n",
       "      <td>2</td>\n",
       "      <td>C</td>\n",
       "      <td>0</td>\n",
       "      <td>LYS</td>\n",
       "      <td>4</td>\n",
       "      <td>aminoacid</td>\n",
       "      <td>0</td>\n",
       "      <td>0</td>\n",
       "      <td>...</td>\n",
       "      <td>A</td>\n",
       "      <td>None</td>\n",
       "      <td>0</td>\n",
       "      <td>Triosephosphate isomerase</td>\n",
       "      <td>0</td>\n",
       "      <td>protein</td>\n",
       "      <td>0</td>\n",
       "      <td>Triosephosphate isomerase</td>\n",
       "      <td>0</td>\n",
       "      <td>protein</td>\n",
       "    </tr>\n",
       "    <tr>\n",
       "      <th>2</th>\n",
       "      <td>2</td>\n",
       "      <td>C</td>\n",
       "      <td>3</td>\n",
       "      <td>C</td>\n",
       "      <td>0</td>\n",
       "      <td>LYS</td>\n",
       "      <td>4</td>\n",
       "      <td>aminoacid</td>\n",
       "      <td>0</td>\n",
       "      <td>0</td>\n",
       "      <td>...</td>\n",
       "      <td>A</td>\n",
       "      <td>None</td>\n",
       "      <td>0</td>\n",
       "      <td>Triosephosphate isomerase</td>\n",
       "      <td>0</td>\n",
       "      <td>protein</td>\n",
       "      <td>0</td>\n",
       "      <td>Triosephosphate isomerase</td>\n",
       "      <td>0</td>\n",
       "      <td>protein</td>\n",
       "    </tr>\n",
       "    <tr>\n",
       "      <th>3</th>\n",
       "      <td>3</td>\n",
       "      <td>O</td>\n",
       "      <td>4</td>\n",
       "      <td>O</td>\n",
       "      <td>0</td>\n",
       "      <td>LYS</td>\n",
       "      <td>4</td>\n",
       "      <td>aminoacid</td>\n",
       "      <td>0</td>\n",
       "      <td>0</td>\n",
       "      <td>...</td>\n",
       "      <td>A</td>\n",
       "      <td>None</td>\n",
       "      <td>0</td>\n",
       "      <td>Triosephosphate isomerase</td>\n",
       "      <td>0</td>\n",
       "      <td>protein</td>\n",
       "      <td>0</td>\n",
       "      <td>Triosephosphate isomerase</td>\n",
       "      <td>0</td>\n",
       "      <td>protein</td>\n",
       "    </tr>\n",
       "    <tr>\n",
       "      <th>4</th>\n",
       "      <td>4</td>\n",
       "      <td>CB</td>\n",
       "      <td>5</td>\n",
       "      <td>C</td>\n",
       "      <td>0</td>\n",
       "      <td>LYS</td>\n",
       "      <td>4</td>\n",
       "      <td>aminoacid</td>\n",
       "      <td>0</td>\n",
       "      <td>0</td>\n",
       "      <td>...</td>\n",
       "      <td>A</td>\n",
       "      <td>None</td>\n",
       "      <td>0</td>\n",
       "      <td>Triosephosphate isomerase</td>\n",
       "      <td>0</td>\n",
       "      <td>protein</td>\n",
       "      <td>0</td>\n",
       "      <td>Triosephosphate isomerase</td>\n",
       "      <td>0</td>\n",
       "      <td>protein</td>\n",
       "    </tr>\n",
       "    <tr>\n",
       "      <th>...</th>\n",
       "      <td>...</td>\n",
       "      <td>...</td>\n",
       "      <td>...</td>\n",
       "      <td>...</td>\n",
       "      <td>...</td>\n",
       "      <td>...</td>\n",
       "      <td>...</td>\n",
       "      <td>...</td>\n",
       "      <td>...</td>\n",
       "      <td>...</td>\n",
       "      <td>...</td>\n",
       "      <td>...</td>\n",
       "      <td>...</td>\n",
       "      <td>...</td>\n",
       "      <td>...</td>\n",
       "      <td>...</td>\n",
       "      <td>...</td>\n",
       "      <td>...</td>\n",
       "      <td>...</td>\n",
       "      <td>...</td>\n",
       "      <td>...</td>\n",
       "    </tr>\n",
       "    <tr>\n",
       "      <th>3978</th>\n",
       "      <td>3978</td>\n",
       "      <td>O</td>\n",
       "      <td>3979</td>\n",
       "      <td>O</td>\n",
       "      <td>657</td>\n",
       "      <td>HOH</td>\n",
       "      <td>339</td>\n",
       "      <td>water</td>\n",
       "      <td>162</td>\n",
       "      <td>162</td>\n",
       "      <td>...</td>\n",
       "      <td>D</td>\n",
       "      <td>None</td>\n",
       "      <td>162</td>\n",
       "      <td>water</td>\n",
       "      <td>162</td>\n",
       "      <td>water</td>\n",
       "      <td>1</td>\n",
       "      <td>water</td>\n",
       "      <td>1</td>\n",
       "      <td>water</td>\n",
       "    </tr>\n",
       "    <tr>\n",
       "      <th>3979</th>\n",
       "      <td>3979</td>\n",
       "      <td>O</td>\n",
       "      <td>3980</td>\n",
       "      <td>O</td>\n",
       "      <td>658</td>\n",
       "      <td>HOH</td>\n",
       "      <td>340</td>\n",
       "      <td>water</td>\n",
       "      <td>163</td>\n",
       "      <td>163</td>\n",
       "      <td>...</td>\n",
       "      <td>D</td>\n",
       "      <td>None</td>\n",
       "      <td>163</td>\n",
       "      <td>water</td>\n",
       "      <td>163</td>\n",
       "      <td>water</td>\n",
       "      <td>1</td>\n",
       "      <td>water</td>\n",
       "      <td>1</td>\n",
       "      <td>water</td>\n",
       "    </tr>\n",
       "    <tr>\n",
       "      <th>3980</th>\n",
       "      <td>3980</td>\n",
       "      <td>O</td>\n",
       "      <td>3981</td>\n",
       "      <td>O</td>\n",
       "      <td>659</td>\n",
       "      <td>HOH</td>\n",
       "      <td>341</td>\n",
       "      <td>water</td>\n",
       "      <td>164</td>\n",
       "      <td>164</td>\n",
       "      <td>...</td>\n",
       "      <td>D</td>\n",
       "      <td>None</td>\n",
       "      <td>164</td>\n",
       "      <td>water</td>\n",
       "      <td>164</td>\n",
       "      <td>water</td>\n",
       "      <td>1</td>\n",
       "      <td>water</td>\n",
       "      <td>1</td>\n",
       "      <td>water</td>\n",
       "    </tr>\n",
       "    <tr>\n",
       "      <th>3981</th>\n",
       "      <td>3981</td>\n",
       "      <td>O</td>\n",
       "      <td>3982</td>\n",
       "      <td>O</td>\n",
       "      <td>660</td>\n",
       "      <td>HOH</td>\n",
       "      <td>342</td>\n",
       "      <td>water</td>\n",
       "      <td>165</td>\n",
       "      <td>165</td>\n",
       "      <td>...</td>\n",
       "      <td>D</td>\n",
       "      <td>None</td>\n",
       "      <td>165</td>\n",
       "      <td>water</td>\n",
       "      <td>165</td>\n",
       "      <td>water</td>\n",
       "      <td>1</td>\n",
       "      <td>water</td>\n",
       "      <td>1</td>\n",
       "      <td>water</td>\n",
       "    </tr>\n",
       "    <tr>\n",
       "      <th>3982</th>\n",
       "      <td>3982</td>\n",
       "      <td>O</td>\n",
       "      <td>3983</td>\n",
       "      <td>O</td>\n",
       "      <td>661</td>\n",
       "      <td>HOH</td>\n",
       "      <td>343</td>\n",
       "      <td>water</td>\n",
       "      <td>166</td>\n",
       "      <td>166</td>\n",
       "      <td>...</td>\n",
       "      <td>D</td>\n",
       "      <td>None</td>\n",
       "      <td>166</td>\n",
       "      <td>water</td>\n",
       "      <td>166</td>\n",
       "      <td>water</td>\n",
       "      <td>1</td>\n",
       "      <td>water</td>\n",
       "      <td>1</td>\n",
       "      <td>water</td>\n",
       "    </tr>\n",
       "  </tbody>\n",
       "</table>\n",
       "<p>3983 rows × 24 columns</p>\n",
       "</div>"
      ],
      "text/plain": [
       "      atom_index atom_name  atom_id atom_type  group_index group_name  \\\n",
       "0              0         N        1         N            0        LYS   \n",
       "1              1        CA        2         C            0        LYS   \n",
       "2              2         C        3         C            0        LYS   \n",
       "3              3         O        4         O            0        LYS   \n",
       "4              4        CB        5         C            0        LYS   \n",
       "...          ...       ...      ...       ...          ...        ...   \n",
       "3978        3978         O     3979         O          657        HOH   \n",
       "3979        3979         O     3980         O          658        HOH   \n",
       "3980        3980         O     3981         O          659        HOH   \n",
       "3981        3981         O     3982         O          660        HOH   \n",
       "3982        3982         O     3983         O          661        HOH   \n",
       "\n",
       "      group_id group_type  component_index  component_name  ...  chain_id  \\\n",
       "0            4  aminoacid                0               0  ...         A   \n",
       "1            4  aminoacid                0               0  ...         A   \n",
       "2            4  aminoacid                0               0  ...         A   \n",
       "3            4  aminoacid                0               0  ...         A   \n",
       "4            4  aminoacid                0               0  ...         A   \n",
       "...        ...        ...              ...             ...  ...       ...   \n",
       "3978       339      water              162             162  ...         D   \n",
       "3979       340      water              163             163  ...         D   \n",
       "3980       341      water              164             164  ...         D   \n",
       "3981       342      water              165             165  ...         D   \n",
       "3982       343      water              166             166  ...         D   \n",
       "\n",
       "     chain_type  molecule_index              molecule_name molecule_id  \\\n",
       "0          None               0  Triosephosphate isomerase           0   \n",
       "1          None               0  Triosephosphate isomerase           0   \n",
       "2          None               0  Triosephosphate isomerase           0   \n",
       "3          None               0  Triosephosphate isomerase           0   \n",
       "4          None               0  Triosephosphate isomerase           0   \n",
       "...         ...             ...                        ...         ...   \n",
       "3978       None             162                      water         162   \n",
       "3979       None             163                      water         163   \n",
       "3980       None             164                      water         164   \n",
       "3981       None             165                      water         165   \n",
       "3982       None             166                      water         166   \n",
       "\n",
       "     molecule_type  entity_index                entity_name entity_id  \\\n",
       "0          protein             0  Triosephosphate isomerase         0   \n",
       "1          protein             0  Triosephosphate isomerase         0   \n",
       "2          protein             0  Triosephosphate isomerase         0   \n",
       "3          protein             0  Triosephosphate isomerase         0   \n",
       "4          protein             0  Triosephosphate isomerase         0   \n",
       "...            ...           ...                        ...       ...   \n",
       "3978         water             1                      water         1   \n",
       "3979         water             1                      water         1   \n",
       "3980         water             1                      water         1   \n",
       "3981         water             1                      water         1   \n",
       "3982         water             1                      water         1   \n",
       "\n",
       "     entity_type  \n",
       "0        protein  \n",
       "1        protein  \n",
       "2        protein  \n",
       "3        protein  \n",
       "4        protein  \n",
       "...          ...  \n",
       "3978       water  \n",
       "3979       water  \n",
       "3980       water  \n",
       "3981       water  \n",
       "3982       water  \n",
       "\n",
       "[3983 rows x 24 columns]"
      ]
     },
     "execution_count": 4,
     "metadata": {},
     "output_type": "execute_result"
    }
   ],
   "source": [
    "molecular_system.topology.atoms_dataframe"
   ]
  },
  {
   "cell_type": "markdown",
   "metadata": {},
   "source": [
    "As you can see, the column names are the fundamental attributes of the molecular system elements:"
   ]
  },
  {
   "cell_type": "code",
   "execution_count": 5,
   "metadata": {},
   "outputs": [
    {
     "name": "stdout",
     "output_type": "stream",
     "text": [
      "Index(['atom_index', 'atom_name', 'atom_id', 'atom_type', 'group_index',\n",
      "       'group_name', 'group_id', 'group_type', 'component_index',\n",
      "       'component_name', 'component_id', 'component_type', 'chain_index',\n",
      "       'chain_name', 'chain_id', 'chain_type', 'molecule_index',\n",
      "       'molecule_name', 'molecule_id', 'molecule_type', 'entity_index',\n",
      "       'entity_name', 'entity_id', 'entity_type'],\n",
      "      dtype='object')\n"
     ]
    }
   ],
   "source": [
    "print(molecular_system.topology.atoms_dataframe.columns)"
   ]
  },
  {
   "cell_type": "markdown",
   "metadata": {},
   "source": [
    "The syntax proposed by Pandas to perform queries in a pandas.DataFrame is the base of the MolSysMT selection procedure. The boolean syntax of Pandas includes the following words and symbols:\n",
    "\n",
    "<center>\n",
    "\n",
    "| Word | Symbol | Meaning |\n",
    "|---|---|---|\n",
    "| and | & | and |\n",
    "| or | \\| | or |\n",
    "| not | ~ | not |\n",
    "| in | | in |\n",
    "|  | == | equal |\n",
    "|  | != | not equal |\n",
    "|  | < | less than |\n",
    "|  | <= | less or equal than |\n",
    "|  | > | greater than |\n",
    "|  | >= | greater or equal than |\n",
    "\n",
    "</center>\n",
    "\n",
    "As such, the selection sentence can also include the reference to external lists. Lets see some simple examples."
   ]
  },
  {
   "cell_type": "markdown",
   "metadata": {},
   "source": [
    "## element selections with atom indices"
   ]
  },
  {
   "cell_type": "code",
   "execution_count": 6,
   "metadata": {},
   "outputs": [
    {
     "data": {
      "text/plain": [
       "array([0, 1, 2])"
      ]
     },
     "execution_count": 6,
     "metadata": {},
     "output_type": "execute_result"
    }
   ],
   "source": [
    "msm.select(molecular_system, selection=[0,1,2])"
   ]
  },
  {
   "cell_type": "code",
   "execution_count": 7,
   "metadata": {},
   "outputs": [
    {
     "data": {
      "text/plain": [
       "array([0, 1])"
      ]
     },
     "execution_count": 7,
     "metadata": {},
     "output_type": "execute_result"
    }
   ],
   "source": [
    "msm.select(molecular_system, element='group', selection=[0,1,2,3,4,5,6,7,8,9,10,11])"
   ]
  },
  {
   "cell_type": "code",
   "execution_count": 8,
   "metadata": {},
   "outputs": [
    {
     "data": {
      "text/plain": [
       "array([ 84,  94, 104])"
      ]
     },
     "execution_count": 8,
     "metadata": {},
     "output_type": "execute_result"
    }
   ],
   "source": [
    "msm.select(molecular_system, element='molecule', selection=[3900, 3910, 3920])"
   ]
  },
  {
   "cell_type": "markdown",
   "metadata": {},
   "source": [
    "## Simple atoms selection by their attributes or properties\n",
    "The following are some examples where a list of atoms is obtained matching some selection criteria:"
   ]
  },
  {
   "cell_type": "code",
   "execution_count": 9,
   "metadata": {},
   "outputs": [
    {
     "data": {
      "text/plain": [
       "array([   2,   11,   18,   27,   34,   42,   47,   52,   57,   65,   79,\n",
       "         88,   94,  102,  106,  112,  121,  127,  135,  143,  150,  157,\n",
       "        165,  173,  182,  189,  197,  205,  210,  215,  222,  233,  241,\n",
       "        251,  259,  266,  275,  281,  288,  295,  300,  307,  314,  325,\n",
       "        333,  343,  351,  358,  366,  373,  382,  387,  398,  406,  413,\n",
       "        421,  428,  437,  448,  457,  465,  470,  475,  484,  492,  497,\n",
       "        505,  512,  523,  529,  533,  538,  549,  556,  560,  569,  576,\n",
       "        582,  590,  599,  607,  615,  624,  632,  644,  648,  656,  662,\n",
       "        676,  683,  690,  698,  702,  712,  718,  727,  738,  749,  757,\n",
       "        769,  781,  785,  794,  801,  809,  818,  826,  833,  838,  847,\n",
       "        856,  863,  868,  877,  882,  888,  893,  898,  902,  913,  923,\n",
       "        930,  938,  945,  951,  958,  962,  971,  978,  986,  995, 1004,\n",
       "       1015, 1024, 1029, 1033, 1044, 1051, 1056, 1061, 1068, 1075, 1083,\n",
       "       1090, 1099, 1107, 1112, 1117, 1124, 1129, 1138, 1147, 1155, 1161,\n",
       "       1170, 1179, 1184, 1198, 1204, 1215, 1222, 1229, 1237, 1242, 1254,\n",
       "       1263, 1270, 1277, 1291, 1296, 1304, 1308, 1315, 1319, 1328, 1335,\n",
       "       1340, 1347, 1354, 1363, 1372, 1377, 1386, 1395, 1402, 1412, 1421,\n",
       "       1429, 1437, 1448, 1459, 1473, 1480, 1491, 1497, 1506, 1514, 1518,\n",
       "       1525, 1533, 1541, 1546, 1551, 1560, 1568, 1579, 1587, 1595, 1607,\n",
       "       1611, 1615, 1621, 1628, 1635, 1640, 1649, 1657, 1662, 1673, 1680,\n",
       "       1688, 1700, 1709, 1717, 1728, 1736, 1744, 1752, 1756, 1767, 1775,\n",
       "       1782, 1786, 1790, 1795, 1801, 1809, 1818, 1825, 1834, 1845, 1852,\n",
       "       1861, 1869, 1877, 1886, 1891, 1898, 1908, 1914, 1923, 1930, 1939,\n",
       "       1946, 1954, 1959, 1964, 1969, 1977, 1991, 2000, 2006, 2014, 2018,\n",
       "       2024, 2033, 2039, 2047, 2055, 2062, 2069, 2077, 2085, 2094, 2101,\n",
       "       2109, 2117, 2122, 2127, 2134, 2145, 2153, 2163, 2171, 2178, 2187,\n",
       "       2193, 2200, 2207, 2212, 2219, 2226, 2237, 2245, 2255, 2263, 2270,\n",
       "       2278, 2285, 2294, 2299, 2310, 2318, 2325, 2333, 2340, 2349, 2360,\n",
       "       2369, 2377, 2382, 2387, 2396, 2404, 2409, 2417, 2424, 2435, 2441,\n",
       "       2445, 2450, 2461, 2468, 2472, 2481, 2488, 2494, 2502, 2511, 2519,\n",
       "       2527, 2536, 2544, 2556, 2560, 2568, 2574, 2588, 2595, 2602, 2610,\n",
       "       2614, 2624, 2630, 2639, 2650, 2661, 2669, 2681, 2693, 2697, 2706,\n",
       "       2713, 2721, 2730, 2738, 2745, 2750, 2759, 2768, 2775, 2780, 2789,\n",
       "       2794, 2800, 2805, 2810, 2814, 2825, 2835, 2842, 2850, 2857, 2863,\n",
       "       2870, 2874, 2883, 2890, 2898, 2907, 2916, 2927, 2936, 2941, 2945,\n",
       "       2956, 2963, 2968, 2973, 2980, 2987, 2995, 3002, 3011, 3019, 3024,\n",
       "       3029, 3036, 3041, 3050, 3059, 3067, 3073, 3082, 3091, 3096, 3110,\n",
       "       3116, 3127, 3134, 3141, 3149, 3154, 3166, 3175, 3182, 3189, 3203,\n",
       "       3208, 3216, 3220, 3227, 3231, 3240, 3247, 3252, 3259, 3266, 3275,\n",
       "       3284, 3289, 3298, 3307, 3314, 3324, 3333, 3341, 3349, 3360, 3371,\n",
       "       3385, 3392, 3403, 3409, 3418, 3426, 3430, 3437, 3445, 3453, 3458,\n",
       "       3463, 3472, 3480, 3491, 3499, 3507, 3519, 3523, 3527, 3533, 3540,\n",
       "       3547, 3552, 3561, 3569, 3574, 3585, 3592, 3600, 3612, 3621, 3629,\n",
       "       3640, 3648, 3656, 3664, 3668, 3679, 3687, 3694, 3698, 3702, 3707,\n",
       "       3713, 3721, 3730, 3737, 3746, 3757, 3764, 3773, 3781, 3789, 3798,\n",
       "       3803, 3810])"
      ]
     },
     "execution_count": 9,
     "metadata": {},
     "output_type": "execute_result"
    }
   ],
   "source": [
    "# Atoms with name C\n",
    "msm.select(molecular_system, 'atom_name == \"C\"')"
   ]
  },
  {
   "cell_type": "code",
   "execution_count": 10,
   "metadata": {},
   "outputs": [
    {
     "data": {
      "text/plain": [
       "array([   1,    4,   10,   13,   17,   20,   26,   29,   33,   36,   41,\n",
       "         44,   46,   49,   51,   54,   56,   59,   64,   67,   78,   81,\n",
       "         87,   90,   93,   96,  101,  105,  108,  111,  114,  120,  123,\n",
       "        126,  129,  134,  137,  142,  145,  149,  152,  156,  159,  164,\n",
       "        167,  172,  175,  181,  184,  188,  191,  196,  199,  204,  207,\n",
       "        209,  212,  214,  217,  221,  224,  232,  235,  240,  243,  250,\n",
       "        253,  258,  261,  265,  268,  274,  277,  280,  283,  287,  290,\n",
       "        294,  297,  299,  302,  306,  309,  313,  316,  324,  327,  332,\n",
       "        335,  342,  345,  350,  353,  357,  360,  365,  368,  372,  375,\n",
       "        381,  384,  386,  389,  397,  400,  405,  408,  412,  415,  420,\n",
       "        423,  427,  430,  436,  439,  447,  450,  456,  459,  464,  467,\n",
       "        469,  472,  474,  477,  483,  486,  491,  494,  496,  499,  504,\n",
       "        507,  511,  514,  522,  525,  528,  532,  535,  537,  540,  548,\n",
       "        551,  555,  559,  562,  568,  571,  575,  578,  581,  584,  589,\n",
       "        592,  598,  601,  606,  609,  614,  617,  623,  626,  631,  634,\n",
       "        643,  647,  650,  655,  658,  661,  664,  675,  678,  682,  685,\n",
       "        689,  692,  697,  701,  704,  711,  714,  717,  720,  726,  729,\n",
       "        737,  740,  748,  751,  756,  759,  768,  771,  780,  784,  787,\n",
       "        793,  796,  800,  803,  808,  811,  817,  820,  825,  828,  832,\n",
       "        835,  837,  840,  846,  849,  855,  858,  862,  865,  867,  870,\n",
       "        876,  879,  881,  884,  887,  890,  892,  895,  897,  901,  904,\n",
       "        912,  915,  922,  925,  929,  932,  937,  940,  944,  947,  950,\n",
       "        953,  957,  961,  964,  970,  973,  977,  980,  985,  988,  994,\n",
       "        997, 1003, 1006, 1014, 1017, 1023, 1026, 1028, 1032, 1035, 1043,\n",
       "       1046, 1050, 1053, 1055, 1058, 1060, 1063, 1067, 1070, 1074, 1077,\n",
       "       1082, 1085, 1089, 1092, 1098, 1101, 1106, 1109, 1111, 1114, 1116,\n",
       "       1119, 1123, 1126, 1128, 1131, 1137, 1140, 1146, 1149, 1154, 1157,\n",
       "       1160, 1163, 1169, 1172, 1178, 1181, 1183, 1186, 1197, 1200, 1203,\n",
       "       1206, 1214, 1217, 1221, 1224, 1228, 1231, 1236, 1239, 1241, 1244,\n",
       "       1253, 1256, 1262, 1265, 1269, 1272, 1276, 1279, 1290, 1293, 1295,\n",
       "       1298, 1303, 1307, 1310, 1314, 1318, 1321, 1327, 1330, 1334, 1337,\n",
       "       1339, 1342, 1346, 1349, 1353, 1356, 1362, 1365, 1371, 1374, 1376,\n",
       "       1379, 1385, 1388, 1394, 1397, 1401, 1404, 1411, 1414, 1420, 1423,\n",
       "       1428, 1431, 1436, 1439, 1447, 1450, 1458, 1461, 1472, 1475, 1479,\n",
       "       1482, 1490, 1493, 1496, 1499, 1505, 1508, 1513, 1517, 1520, 1524,\n",
       "       1527, 1532, 1535, 1540, 1543, 1545, 1548, 1550, 1553, 1559, 1562,\n",
       "       1567, 1570, 1578, 1581, 1586, 1589, 1594, 1597, 1606, 1610, 1614,\n",
       "       1617, 1620, 1623, 1627, 1630, 1634, 1637, 1639, 1642, 1648, 1651,\n",
       "       1656, 1659, 1661, 1664, 1672, 1675, 1679, 1682, 1687, 1690, 1699,\n",
       "       1702, 1708, 1711, 1716, 1719, 1727, 1730, 1735, 1738, 1743, 1746,\n",
       "       1751, 1755, 1758, 1766, 1769, 1774, 1777, 1781, 1785, 1789, 1792,\n",
       "       1794, 1797, 1800, 1803, 1808, 1811, 1817, 1820, 1824, 1827, 1833,\n",
       "       1836, 1844, 1847, 1851, 1854, 1860, 1863, 1868, 1871, 1876, 1879,\n",
       "       1885, 1888, 1890, 1893, 1897, 1900, 1907, 1910, 1913, 1916, 1922,\n",
       "       1925, 1929, 1932, 1938, 1941, 1945, 1948, 1953, 1956, 1958, 1961,\n",
       "       1963, 1966, 1968, 1971, 1976, 1979, 1990, 1993, 1999, 2002, 2005,\n",
       "       2008, 2013, 2017, 2020, 2023, 2026, 2032, 2035, 2038, 2041, 2046,\n",
       "       2049, 2054, 2057, 2061, 2064, 2068, 2071, 2076, 2079, 2084, 2087,\n",
       "       2093, 2096, 2100, 2103, 2108, 2111, 2116, 2119, 2121, 2124, 2126,\n",
       "       2129, 2133, 2136, 2144, 2147, 2152, 2155, 2162, 2165, 2170, 2173,\n",
       "       2177, 2180, 2186, 2189, 2192, 2195, 2199, 2202, 2206, 2209, 2211,\n",
       "       2214, 2218, 2221, 2225, 2228, 2236, 2239, 2244, 2247, 2254, 2257,\n",
       "       2262, 2265, 2269, 2272, 2277, 2280, 2284, 2287, 2293, 2296, 2298,\n",
       "       2301, 2309, 2312, 2317, 2320, 2324, 2327, 2332, 2335, 2339, 2342,\n",
       "       2348, 2351, 2359, 2362, 2368, 2371, 2376, 2379, 2381, 2384, 2386,\n",
       "       2389, 2395, 2398, 2403, 2406, 2408, 2411, 2416, 2419, 2423, 2426,\n",
       "       2434, 2437, 2440, 2444, 2447, 2449, 2452, 2460, 2463, 2467, 2471,\n",
       "       2474, 2480, 2483, 2487, 2490, 2493, 2496, 2501, 2504, 2510, 2513,\n",
       "       2518, 2521, 2526, 2529, 2535, 2538, 2543, 2546, 2555, 2559, 2562,\n",
       "       2567, 2570, 2573, 2576, 2587, 2590, 2594, 2597, 2601, 2604, 2609,\n",
       "       2613, 2616, 2623, 2626, 2629, 2632, 2638, 2641, 2649, 2652, 2660,\n",
       "       2663, 2668, 2671, 2680, 2683, 2692, 2696, 2699, 2705, 2708, 2712,\n",
       "       2715, 2720, 2723, 2729, 2732, 2737, 2740, 2744, 2747, 2749, 2752,\n",
       "       2758, 2761, 2767, 2770, 2774, 2777, 2779, 2782, 2788, 2791, 2793,\n",
       "       2796, 2799, 2802, 2804, 2807, 2809, 2813, 2816, 2824, 2827, 2834,\n",
       "       2837, 2841, 2844, 2849, 2852, 2856, 2859, 2862, 2865, 2869, 2873,\n",
       "       2876, 2882, 2885, 2889, 2892, 2897, 2900, 2906, 2909, 2915, 2918,\n",
       "       2926, 2929, 2935, 2938, 2940, 2944, 2947, 2955, 2958, 2962, 2965,\n",
       "       2967, 2970, 2972, 2975, 2979, 2982, 2986, 2989, 2994, 2997, 3001,\n",
       "       3004, 3010, 3013, 3018, 3021, 3023, 3026, 3028, 3031, 3035, 3038,\n",
       "       3040, 3043, 3049, 3052, 3058, 3061, 3066, 3069, 3072, 3075, 3081,\n",
       "       3084, 3090, 3093, 3095, 3098, 3109, 3112, 3115, 3118, 3126, 3129,\n",
       "       3133, 3136, 3140, 3143, 3148, 3151, 3153, 3156, 3165, 3168, 3174,\n",
       "       3177, 3181, 3184, 3188, 3191, 3202, 3205, 3207, 3210, 3215, 3219,\n",
       "       3222, 3226, 3230, 3233, 3239, 3242, 3246, 3249, 3251, 3254, 3258,\n",
       "       3261, 3265, 3268, 3274, 3277, 3283, 3286, 3288, 3291, 3297, 3300,\n",
       "       3306, 3309, 3313, 3316, 3323, 3326, 3332, 3335, 3340, 3343, 3348,\n",
       "       3351, 3359, 3362, 3370, 3373, 3384, 3387, 3391, 3394, 3402, 3405,\n",
       "       3408, 3411, 3417, 3420, 3425, 3429, 3432, 3436, 3439, 3444, 3447,\n",
       "       3452, 3455, 3457, 3460, 3462, 3465, 3471, 3474, 3479, 3482, 3490,\n",
       "       3493, 3498, 3501, 3506, 3509, 3518, 3522, 3526, 3529, 3532, 3535,\n",
       "       3539, 3542, 3546, 3549, 3551, 3554, 3560, 3563, 3568, 3571, 3573,\n",
       "       3576, 3584, 3587, 3591, 3594, 3599, 3602, 3611, 3614, 3620, 3623,\n",
       "       3628, 3631, 3639, 3642, 3647, 3650, 3655, 3658, 3663, 3667, 3670,\n",
       "       3678, 3681, 3686, 3689, 3693, 3697, 3701, 3704, 3706, 3709, 3712,\n",
       "       3715, 3720, 3723, 3729, 3732, 3736, 3739, 3745, 3748, 3756, 3759,\n",
       "       3763, 3766, 3772, 3775, 3780, 3783, 3788, 3791, 3797, 3800, 3802,\n",
       "       3805, 3809, 3812])"
      ]
     },
     "execution_count": 10,
     "metadata": {},
     "output_type": "execute_result"
    }
   ],
   "source": [
    "# Atoms with name CA or CB\n",
    "msm.select(molecular_system, 'atom_name in [\"CA\",\"CB\"]')"
   ]
  },
  {
   "cell_type": "code",
   "execution_count": 11,
   "metadata": {},
   "outputs": [
    {
     "data": {
      "text/plain": [
       "array([   0,    1,    2, ..., 3814, 3815, 3816])"
      ]
     },
     "execution_count": 11,
     "metadata": {},
     "output_type": "execute_result"
    }
   ],
   "source": [
    "# Atoms of type C or N\n",
    "msm.select(molecular_system, 'atom_type==[\"C\",\"N\"]')"
   ]
  },
  {
   "cell_type": "code",
   "execution_count": 12,
   "metadata": {},
   "outputs": [
    {
     "data": {
      "text/plain": [
       "array([   0,    1,    2, ..., 3980, 3981, 3982])"
      ]
     },
     "execution_count": 12,
     "metadata": {},
     "output_type": "execute_result"
    }
   ],
   "source": [
    "# Heavy atoms\n",
    "msm.select(molecular_system, 'not atom_type==\"H\"')"
   ]
  },
  {
   "cell_type": "code",
   "execution_count": 13,
   "metadata": {},
   "outputs": [
    {
     "data": {
      "text/plain": [
       "array([   2,    4,    5, ..., 3813, 3814, 3815])"
      ]
     },
     "execution_count": 13,
     "metadata": {},
     "output_type": "execute_result"
    }
   ],
   "source": [
    "# Atoms of type C not named CA\n",
    "msm.select(molecular_system, 'atom_type==\"C\" and not atom_name==\"CA\"')"
   ]
  },
  {
   "cell_type": "code",
   "execution_count": 14,
   "metadata": {},
   "outputs": [
    {
     "data": {
      "text/plain": [
       "array([   0,    3,    5, ..., 3980, 3981, 3982])"
      ]
     },
     "execution_count": 14,
     "metadata": {},
     "output_type": "execute_result"
    }
   ],
   "source": [
    "# Atoms not named CA, CB or C\n",
    "msm.select(molecular_system, 'atom_name!=[\"CA\",\"CB\",\"C\"]')"
   ]
  },
  {
   "cell_type": "code",
   "execution_count": 15,
   "metadata": {},
   "outputs": [
    {
     "data": {
      "text/plain": [
       "array([0, 1, 2, 3, 4, 5, 6, 7, 8])"
      ]
     },
     "execution_count": 15,
     "metadata": {},
     "output_type": "execute_result"
    }
   ],
   "source": [
    "# Atoms with id number lower than 10\n",
    "msm.select(molecular_system, 'atom_id<10')"
   ]
  },
  {
   "cell_type": "code",
   "execution_count": 16,
   "metadata": {},
   "outputs": [
    {
     "data": {
      "text/plain": [
       "array([2, 3, 4, 5, 6, 7, 8])"
      ]
     },
     "execution_count": 16,
     "metadata": {},
     "output_type": "execute_result"
    }
   ],
   "source": [
    "# Atoms with id number lower than 10 and higher or equal than 3\n",
    "msm.select(molecular_system, 'atom_id<10 and atom_id>=3')"
   ]
  },
  {
   "cell_type": "markdown",
   "metadata": {},
   "source": [
    "## Including other elements attributes\n",
    "\n",
    "Atoms can be selected using attributes of other the other elements in the hierarchical organization of the molecular system: 'group', 'component', 'molecule', 'chain', 'entity' or 'bioassembly'. You can find further information of these elements in XXX. These are some examples of selection sentences including other criteria than atoms attributes:"
   ]
  },
  {
   "cell_type": "code",
   "execution_count": 17,
   "metadata": {},
   "outputs": [
    {
     "data": {
      "text/plain": [
       "array([3818, 3819, 3820, 3821, 3822, 3823, 3824, 3825, 3826, 3827, 3828,\n",
       "       3829, 3830, 3831, 3832, 3833, 3834, 3835, 3836, 3837, 3838, 3839,\n",
       "       3840, 3841, 3842, 3843, 3844, 3845, 3846, 3847, 3848, 3849, 3850,\n",
       "       3851, 3852, 3853, 3854, 3855, 3856, 3857, 3858, 3859, 3860, 3861,\n",
       "       3862, 3863, 3864, 3865, 3866, 3867, 3868, 3869, 3870, 3871, 3872,\n",
       "       3873, 3874, 3875, 3876, 3877, 3878, 3879, 3880, 3881, 3882, 3883,\n",
       "       3884, 3885, 3886, 3887, 3888, 3889, 3890, 3891, 3892, 3893, 3894,\n",
       "       3895, 3896, 3897, 3898, 3899, 3900, 3901, 3902, 3903, 3904, 3905,\n",
       "       3906, 3907, 3908, 3909, 3910, 3911, 3912, 3913, 3914, 3915, 3916,\n",
       "       3917, 3918, 3919, 3920, 3921, 3922, 3923, 3924, 3925, 3926, 3927,\n",
       "       3928, 3929, 3930, 3931, 3932, 3933, 3934, 3935, 3936, 3937, 3938,\n",
       "       3939, 3940, 3941, 3942, 3943, 3944, 3945, 3946, 3947, 3948, 3949,\n",
       "       3950, 3951, 3952, 3953, 3954, 3955, 3956, 3957, 3958, 3959, 3960,\n",
       "       3961, 3962, 3963, 3964, 3965, 3966, 3967, 3968, 3969, 3970, 3971,\n",
       "       3972, 3973, 3974, 3975, 3976, 3977, 3978, 3979, 3980, 3981, 3982])"
      ]
     },
     "execution_count": 17,
     "metadata": {},
     "output_type": "execute_result"
    }
   ],
   "source": [
    "# Atoms belonging to molecules of type water.\n",
    "msm.select(molecular_system, 'molecule_type==\"water\"')"
   ]
  },
  {
   "cell_type": "code",
   "execution_count": 18,
   "metadata": {},
   "outputs": [
    {
     "data": {
      "text/plain": [
       "array([25, 26, 27, 28, 29, 30, 31])"
      ]
     },
     "execution_count": 18,
     "metadata": {},
     "output_type": "execute_result"
    }
   ],
   "source": [
    "# Heavy atoms belonging to molecules of type protein.\n",
    "msm.select(molecular_system, 'molecule_type==\"protein\" and atom_type!=\"H\" and group_index==3')"
   ]
  },
  {
   "cell_type": "code",
   "execution_count": 19,
   "metadata": {},
   "outputs": [
    {
     "data": {
      "text/plain": [
       "array([  40,   41,   42,   43,   44,   45,   46,   47,   48,   49,   50,\n",
       "         51,   52,   53,   54,  100,  101,  102,  103,  141,  142,  143,\n",
       "        144,  145,  146,  147,  203,  204,  205,  206,  207,  208,  209,\n",
       "        210,  211,  212,  257,  258,  259,  260,  261,  262,  263,  279,\n",
       "        280,  281,  282,  283,  284,  285,  286,  287,  288,  289,  290,\n",
       "        291,  292,  293,  294,  295,  296,  297,  380,  381,  382,  383,\n",
       "        384,  463,  464,  465,  466,  467,  468,  469,  470,  471,  472,\n",
       "        490,  491,  492,  493,  494,  527,  528,  529,  530,  531,  532,\n",
       "        533,  534,  535,  554,  555,  556,  557,  567,  568,  569,  570,\n",
       "        571,  572,  573,  642,  643,  644,  645,  674,  675,  676,  677,\n",
       "        678,  679,  680,  681,  682,  683,  684,  685,  686,  687,  696,\n",
       "        697,  698,  699,  779,  780,  781,  782,  824,  825,  826,  827,\n",
       "        828,  829,  830,  831,  832,  833,  834,  835,  854,  855,  856,\n",
       "        857,  858,  859,  860,  861,  862,  863,  864,  865,  875,  876,\n",
       "        877,  878,  879,  886,  887,  888,  889,  890,  891,  892,  893,\n",
       "        894,  895,  896,  897,  898,  899,  921,  922,  923,  924,  925,\n",
       "        926,  927,  936,  937,  938,  939,  940,  941,  942,  949,  950,\n",
       "        951,  952,  953,  954,  955,  956,  957,  958,  959, 1022, 1023,\n",
       "       1024, 1025, 1026, 1027, 1028, 1029, 1030, 1049, 1050, 1051, 1052,\n",
       "       1053, 1054, 1055, 1056, 1057, 1058, 1059, 1060, 1061, 1062, 1063,\n",
       "       1064, 1065, 1066, 1067, 1068, 1069, 1070, 1071, 1072, 1105, 1106,\n",
       "       1107, 1108, 1109, 1110, 1111, 1112, 1113, 1114, 1115, 1116, 1117,\n",
       "       1118, 1119, 1120, 1121, 1122, 1123, 1124, 1125, 1126, 1177, 1178,\n",
       "       1179, 1180, 1181, 1213, 1214, 1215, 1216, 1217, 1218, 1219, 1220,\n",
       "       1221, 1222, 1223, 1224, 1225, 1226, 1235, 1236, 1237, 1238, 1239,\n",
       "       1268, 1269, 1270, 1271, 1272, 1273, 1274, 1289, 1290, 1291, 1292,\n",
       "       1293, 1302, 1303, 1304, 1305, 1313, 1314, 1315, 1316, 1326, 1327,\n",
       "       1328, 1329, 1330, 1331, 1332, 1333, 1334, 1335, 1336, 1337, 1370,\n",
       "       1371, 1372, 1373, 1374, 1393, 1394, 1395, 1396, 1397, 1398, 1399,\n",
       "       1471, 1472, 1473, 1474, 1475, 1476, 1477, 1512, 1513, 1514, 1515,\n",
       "       1539, 1540, 1541, 1542, 1543, 1544, 1545, 1546, 1547, 1548, 1605,\n",
       "       1606, 1607, 1608, 1609, 1610, 1611, 1612, 1619, 1620, 1621, 1622,\n",
       "       1623, 1624, 1625, 1633, 1634, 1635, 1636, 1637, 1655, 1656, 1657,\n",
       "       1658, 1659, 1750, 1751, 1752, 1753, 1773, 1774, 1775, 1776, 1777,\n",
       "       1778, 1779, 1780, 1781, 1782, 1783, 1784, 1785, 1786, 1787, 1788,\n",
       "       1789, 1790, 1791, 1792, 1843, 1844, 1845, 1846, 1847, 1848, 1849,\n",
       "       1884, 1885, 1886, 1887, 1888])"
      ]
     },
     "execution_count": 19,
     "metadata": {},
     "output_type": "execute_result"
    }
   ],
   "source": [
    "# Atoms belonging to residues named GLY, ALA or VAL in chain id A.\n",
    "msm.select(molecular_system, 'group_name==[\"GLY\",\"ALA\",\"VAL\"] and chain_id==\"A\"') "
   ]
  },
  {
   "cell_type": "markdown",
   "metadata": {},
   "source": [
    "## Including external variables\n",
    "\n",
    "Pandas query method allows the use of external variables in the logical sentence. To include them, variables names have to be preceded by the character '@'. Lets illustrate its use with some examples:"
   ]
  },
  {
   "cell_type": "code",
   "execution_count": 20,
   "metadata": {},
   "outputs": [
    {
     "data": {
      "text/plain": [
       "array([77, 78, 79, 80, 81, 82, 83, 84, 85, 86, 87, 88, 89, 90, 91, 92, 93,\n",
       "       94, 95, 96, 97, 98, 99])"
      ]
     },
     "execution_count": 20,
     "metadata": {},
     "output_type": "execute_result"
    }
   ],
   "source": [
    "# Atoms in groups with indices 10, 11 or 12.\n",
    "indices=[10,11,12]\n",
    "msm.select(molecular_system, 'group_index==@indices')"
   ]
  },
  {
   "cell_type": "code",
   "execution_count": 21,
   "metadata": {},
   "outputs": [
    {
     "data": {
      "text/plain": [
       "array([10, 11, 12, 16, 17, 18, 19, 25, 26, 27, 28])"
      ]
     },
     "execution_count": 21,
     "metadata": {},
     "output_type": "execute_result"
    }
   ],
   "source": [
    "# Atoms named CA, C, O or N in groups with indices 10 to 29.\n",
    "indices=list(range(10,30))\n",
    "atoms=[\"CA\", \"C\", \"O\", \"N\"]\n",
    "msm.select(molecular_system, 'atom_name==@atoms & atom_index==@indices') "
   ]
  },
  {
   "cell_type": "markdown",
   "metadata": {},
   "source": [
    "## Including mask filters\n",
    "\n",
    "Although including masks is not really necessary, `molsysmt.select()` has an optional input argument to do so:"
   ]
  },
  {
   "cell_type": "code",
   "execution_count": 22,
   "metadata": {},
   "outputs": [
    {
     "data": {
      "text/plain": [
       "array([11, 18, 27])"
      ]
     },
     "execution_count": 22,
     "metadata": {},
     "output_type": "execute_result"
    }
   ],
   "source": [
    "# Atoms named C with atom index in range 10 to 29\n",
    "indices=list(range(10,30))\n",
    "msm.select(molecular_system, 'atom_name==\"C\"', mask=indices)"
   ]
  },
  {
   "cell_type": "markdown",
   "metadata": {},
   "source": [
    "The use of masks can always be avoid using the logical sentence:"
   ]
  },
  {
   "cell_type": "code",
   "execution_count": 23,
   "metadata": {},
   "outputs": [
    {
     "data": {
      "text/plain": [
       "array([11, 18, 27])"
      ]
     },
     "execution_count": 23,
     "metadata": {},
     "output_type": "execute_result"
    }
   ],
   "source": [
    "# Atoms named C with atom index in range 10 to 29\n",
    "indics=list(range(10,30))\n",
    "msm.select(molecular_system, 'atom_name==\"C\" and atom_index in @indics')"
   ]
  },
  {
   "cell_type": "markdown",
   "metadata": {},
   "source": [
    "## Selection of other elements\n",
    "\n",
    "The selection method of MolSysMT can also return other elements indices than atoms. As many methods in this library, `molsysmt.select()` has an input argument named `element` to select the elements nature of the output list of indices. Lets see some examples:"
   ]
  },
  {
   "cell_type": "code",
   "execution_count": 24,
   "metadata": {},
   "outputs": [
    {
     "data": {
      "text/plain": [
       "array([  0, 100, 200])"
      ]
     },
     "execution_count": 24,
     "metadata": {},
     "output_type": "execute_result"
    }
   ],
   "source": [
    "# Groups with indices equal to 0, 100 or 200\n",
    "indices=[0,100,200]\n",
    "msm.select(molecular_system, 'group_index==@indices', element='group')"
   ]
  },
  {
   "cell_type": "code",
   "execution_count": 25,
   "metadata": {},
   "outputs": [
    {
     "data": {
      "text/plain": [
       "array([  5,   6,   7,  27,  28,  39,  50,  60,  61,  64,  70, 107, 111,\n",
       "       113, 115, 116, 133, 137, 138, 145, 146, 148, 155, 162, 168, 175,\n",
       "       180, 200, 201, 213, 216, 233, 245, 254, 255, 256, 276, 277, 288,\n",
       "       299, 309, 310, 313, 319, 356, 360, 362, 364, 365, 382, 386, 387,\n",
       "       394, 395, 397, 404, 411, 417, 424, 429, 449, 450, 462, 465, 482,\n",
       "       494])"
      ]
     },
     "execution_count": 25,
     "metadata": {},
     "output_type": "execute_result"
    }
   ],
   "source": [
    "# Groups with name \"ALA\"\n",
    "msm.select(molecular_system, 'group_name==\"ALA\"', element='group')"
   ]
  },
  {
   "cell_type": "code",
   "execution_count": 26,
   "metadata": {},
   "outputs": [
    {
     "data": {
      "text/plain": [
       "array([4, 5, 9])"
      ]
     },
     "execution_count": 26,
     "metadata": {},
     "output_type": "execute_result"
    }
   ],
   "source": [
    "# Groups of atoms index 34, 44 or 64\n",
    "msm.select(molecular_system, 'atom_index==[34,44,64]', element='group')"
   ]
  },
  {
   "cell_type": "code",
   "execution_count": 27,
   "metadata": {},
   "outputs": [
    {
     "data": {
      "text/plain": [
       "array([  0,   1,   2,   3,   4,   5,   6,   7,   8,   9,  10,  11,  12,\n",
       "        13,  14,  15,  16,  17,  18,  19,  20,  21,  22,  23,  24,  25,\n",
       "        26,  27,  28,  29,  30,  31,  32,  33,  34,  35,  36,  37,  38,\n",
       "        39,  40,  41,  42,  43,  44,  45,  46,  47,  48,  49,  50,  51,\n",
       "        52,  53,  54,  55,  56,  57,  58,  59,  60,  61,  62,  63,  64,\n",
       "        65,  66,  67,  68,  69,  70,  71,  72,  73,  74,  75,  76,  77,\n",
       "        78,  79,  80,  81,  82,  83,  84,  85,  86,  87,  88,  89,  90,\n",
       "        91,  92,  93,  94,  95,  96,  97,  98,  99, 100, 101, 102, 103,\n",
       "       104, 105, 106, 107, 108, 109, 110, 111, 112, 113, 114, 115, 116,\n",
       "       117, 118, 119, 120, 121, 122, 123, 124, 125, 126, 127, 128, 129,\n",
       "       130, 131, 132, 133, 134, 135, 136, 137, 138, 139, 140, 141, 142,\n",
       "       143, 144, 145, 146, 147, 148, 149, 150, 151, 152, 153, 154, 155,\n",
       "       156, 157, 158, 159, 160, 161, 162, 163, 164, 165, 166, 167, 168,\n",
       "       169, 170, 171, 172, 173, 174, 175, 176, 177, 178, 179, 180, 181,\n",
       "       182, 183, 184, 185, 186, 187, 188, 189, 190, 191, 192, 193, 194,\n",
       "       195, 196, 197, 198, 199, 200, 201, 202, 203, 204, 205, 206, 207,\n",
       "       208, 209, 210, 211, 212, 213, 214, 215, 216, 217, 218, 219, 220,\n",
       "       221, 222, 223, 224, 225, 226, 227, 228, 229, 230, 231, 232, 233,\n",
       "       234, 235, 236, 237, 238, 239, 240, 241, 242, 243, 244, 245, 246,\n",
       "       247])"
      ]
     },
     "execution_count": 27,
     "metadata": {},
     "output_type": "execute_result"
    }
   ],
   "source": [
    "# Groups belonging to chain id A or C and molecule of type anything but water\n",
    "msm.select(molecular_system, 'chain_id==[\"A\",\"C\"] and molecule_type!=\"water\"', element='group')"
   ]
  },
  {
   "cell_type": "code",
   "execution_count": 28,
   "metadata": {},
   "outputs": [
    {
     "data": {
      "text/plain": [
       "array([497, 498, 499, 500, 501, 502, 503, 504, 505, 506, 507, 508, 509,\n",
       "       510, 511, 512, 513, 514, 515, 516, 517, 518, 519, 520, 521, 522,\n",
       "       523, 524, 525, 526, 527, 528, 529, 530, 531, 532, 533, 534, 535,\n",
       "       536, 537, 538, 539, 540, 541, 542, 543, 544, 545, 546, 547, 548,\n",
       "       549, 550, 551, 552, 553, 554, 555, 556, 557, 558, 559, 560, 561,\n",
       "       562, 563, 564, 565, 566, 567, 568, 569, 570, 571, 572, 573, 574,\n",
       "       575, 576, 577, 578, 579, 580, 581, 582, 583, 584, 585, 586, 587,\n",
       "       588, 589, 590, 591, 592, 593, 594, 595, 596, 597, 598, 599, 600,\n",
       "       601, 602, 603, 604, 605, 606, 607, 608, 609, 610, 611, 612, 613,\n",
       "       614, 615, 616, 617, 618, 619, 620, 621, 622, 623, 624, 625, 626,\n",
       "       627, 628, 629, 630, 631, 632, 633, 634, 635, 636, 637, 638, 639,\n",
       "       640, 641, 642, 643, 644, 645, 646, 647, 648, 649, 650, 651, 652,\n",
       "       653, 654, 655, 656, 657, 658, 659, 660, 661])"
      ]
     },
     "execution_count": 28,
     "metadata": {},
     "output_type": "execute_result"
    }
   ],
   "source": [
    "# Groups of molecules of type water\n",
    "msm.select(molecular_system, 'molecule_type==\"water\"', element='group')"
   ]
  },
  {
   "cell_type": "code",
   "execution_count": 29,
   "metadata": {},
   "outputs": [
    {
     "data": {
      "text/plain": [
       "array([  2,   3,   4,   5,   6,   7,   8,   9,  10,  11,  12,  13,  14,\n",
       "        15,  16,  17,  18,  19,  20,  21,  22,  23,  24,  25,  26,  27,\n",
       "        28,  29,  30,  31,  32,  33,  34,  35,  36,  37,  38,  39,  40,\n",
       "        41,  42,  43,  44,  45,  46,  47,  48,  49,  50,  51,  52,  53,\n",
       "        54,  55,  56,  57,  58,  59,  60,  61,  62,  63,  64,  65,  66,\n",
       "        67,  68,  69,  70,  71,  72,  73,  74,  75,  76,  77,  78,  79,\n",
       "        80,  81,  82,  83,  84,  85,  86,  87,  88,  89,  90,  91,  92,\n",
       "        93,  94,  95,  96,  97,  98,  99, 100, 101, 102, 103, 104, 105,\n",
       "       106, 107, 108, 109, 110, 111, 112, 113, 114, 115, 116, 117, 118,\n",
       "       119, 120, 121, 122, 123, 124, 125, 126, 127, 128, 129, 130, 131,\n",
       "       132, 133, 134, 135, 136, 137, 138, 139, 140, 141, 142, 143, 144,\n",
       "       145, 146, 147, 148, 149, 150, 151, 152, 153, 154, 155, 156, 157,\n",
       "       158, 159, 160, 161, 162, 163, 164, 165, 166])"
      ]
     },
     "execution_count": 29,
     "metadata": {},
     "output_type": "execute_result"
    }
   ],
   "source": [
    "# Molecules of type water\n",
    "msm.select(molecular_system, 'molecule_type==\"water\"', element='molecule')"
   ]
  },
  {
   "cell_type": "code",
   "execution_count": 30,
   "metadata": {},
   "outputs": [
    {
     "data": {
      "text/plain": [
       "array([2, 3])"
      ]
     },
     "execution_count": 30,
     "metadata": {},
     "output_type": "execute_result"
    }
   ],
   "source": [
    "# Chains with molecules of type water\n",
    "msm.select(molecular_system, 'molecule_type==\"water\"', element='chain')"
   ]
  },
  {
   "cell_type": "code",
   "execution_count": 31,
   "metadata": {},
   "outputs": [
    {
     "data": {
      "text/plain": [
       "array([37, 38, 39, 40])"
      ]
     },
     "execution_count": 31,
     "metadata": {},
     "output_type": "execute_result"
    }
   ],
   "source": [
    "# Bonds in group index 5\n",
    "msm.select(molecular_system, 'group_index==5', element='bond')"
   ]
  },
  {
   "cell_type": "markdown",
   "metadata": {},
   "source": [
    "Finnally, notice that `mask` is always acting over the elemented elements:"
   ]
  },
  {
   "cell_type": "code",
   "execution_count": 32,
   "metadata": {},
   "outputs": [
    {
     "data": {
      "text/plain": [
       "array([0, 1, 2])"
      ]
     },
     "execution_count": 32,
     "metadata": {},
     "output_type": "execute_result"
    }
   ],
   "source": [
    "# Atoms with index from 0 to 4 and from 0 to 2\n",
    "msm.select(molecular_system, 'atom_index in [0,1,2,3,4]', mask=[0,1,2], element='atom')"
   ]
  },
  {
   "cell_type": "code",
   "execution_count": 33,
   "metadata": {},
   "outputs": [
    {
     "data": {
      "text/plain": [
       "array([0, 1, 2])"
      ]
     },
     "execution_count": 33,
     "metadata": {},
     "output_type": "execute_result"
    }
   ],
   "source": [
    "# Groups with index from 0 to 4 and from 0 to 2\n",
    "msm.select(molecular_system, 'group_index in [0,1,2,3,4]', mask=[0,1,2], element='group')"
   ]
  },
  {
   "cell_type": "markdown",
   "metadata": {},
   "source": [
    "## Special selection tools\n",
    "\n",
    "A selection of elements within a certain distance of a set of elements can be obtained using the string `within ... of`:"
   ]
  },
  {
   "cell_type": "code",
   "execution_count": 34,
   "metadata": {},
   "outputs": [
    {
     "data": {
      "text/plain": [
       "array([ 89, 480, 527, 547, 550, 552, 554, 566, 723, 734])"
      ]
     },
     "execution_count": 34,
     "metadata": {},
     "output_type": "execute_result"
    }
   ],
   "source": [
    "msm.select(molecular_system, 'chain_id==\"A\" within 0.3 nm of chain_id==\"B\"')"
   ]
  },
  {
   "cell_type": "code",
   "execution_count": 35,
   "metadata": {},
   "outputs": [
    {
     "data": {
      "text/plain": [
       "array([1521, 1522, 1723, 1724])"
      ]
     },
     "execution_count": 35,
     "metadata": {},
     "output_type": "execute_result"
    }
   ],
   "source": [
    "msm.select(molecular_system, 'chain_id==\"A\" not within 7.8 nanometers of chain_id==\"B\"')"
   ]
  },
  {
   "cell_type": "code",
   "execution_count": 36,
   "metadata": {},
   "outputs": [
    {
     "data": {
      "text/plain": [
       "array([ 89, 480, 527, 547, 550, 552, 554, 566, 723, 734])"
      ]
     },
     "execution_count": 36,
     "metadata": {},
     "output_type": "execute_result"
    }
   ],
   "source": [
    "msm.select(molecular_system, 'chain_id==\"A\" within 0.3 nm without pbc of chain_id==\"B\"')"
   ]
  },
  {
   "cell_type": "code",
   "execution_count": 37,
   "metadata": {},
   "outputs": [
    {
     "data": {
      "text/plain": [
       "array([ 89, 480, 527, 547, 550, 552, 554, 566, 723, 734])"
      ]
     },
     "execution_count": 37,
     "metadata": {},
     "output_type": "execute_result"
    }
   ],
   "source": [
    "msm.select(molecular_system, 'chain_id==\"A\" within 0.3 nm with pbc of chain_id==\"B\"')"
   ]
  },
  {
   "cell_type": "code",
   "execution_count": 38,
   "metadata": {},
   "outputs": [
    {
     "data": {
      "text/plain": [
       "array([ 119,  213,  473,  531,  654,  696,  799, 1049])"
      ]
     },
     "execution_count": 38,
     "metadata": {},
     "output_type": "execute_result"
    }
   ],
   "source": [
    "msm.select(molecular_system, '(atom_name==\"N\" and chain_id==\"A\") within 3 angstroms of (atom_type==\"O\" and molecule_type==\"water\")')"
   ]
  },
  {
   "cell_type": "code",
   "execution_count": 39,
   "metadata": {},
   "outputs": [
    {
     "data": {
      "text/plain": [
       "array([10, 42, 62, 72, 73])"
      ]
     },
     "execution_count": 39,
     "metadata": {},
     "output_type": "execute_result"
    }
   ],
   "source": [
    "msm.select(molecular_system, '(atom_name==\"CA\" and chain_id==\"A\") within 0.5 nm of (atom_name==\"CA\" and chain_id==\"B\")',\n",
    "          element='group')"
   ]
  },
  {
   "cell_type": "markdown",
   "metadata": {},
   "source": [
    "Atoms bonded to specific atoms can also be selected with `bonded to`:"
   ]
  },
  {
   "cell_type": "code",
   "execution_count": 40,
   "metadata": {},
   "outputs": [
    {
     "data": {
      "text/plain": [
       "array([   0,    9,   16,   25,   32,   40,   45,   50,   55,   63,   77,\n",
       "         86,   92,  100,  104,  110,  119,  125,  133,  141,  148,  155,\n",
       "        163,  171,  180,  187,  195,  203,  208,  213,  220,  231,  239,\n",
       "        249,  257,  264,  273,  279,  286,  293,  298,  305,  312,  323,\n",
       "        331,  341,  349,  356,  364,  371,  380,  385,  396,  404,  411,\n",
       "        419,  426,  435,  446,  455,  463,  468,  473,  482,  490,  495,\n",
       "        503,  510,  521,  527,  531,  536,  547,  554,  558,  567,  574,\n",
       "        580,  588,  597,  605,  613,  622,  630,  642,  646,  654,  660,\n",
       "        674,  681,  688,  696,  700,  710,  716,  725,  736,  747,  755,\n",
       "        767,  779,  783,  792,  799,  807,  816,  824,  831,  836,  845,\n",
       "        854,  861,  866,  875,  880,  886,  891,  896,  900,  911,  921,\n",
       "        928,  936,  943,  949,  956,  960,  969,  976,  984,  993, 1002,\n",
       "       1013, 1022, 1027, 1031, 1042, 1049, 1054, 1059, 1066, 1073, 1081,\n",
       "       1088, 1097, 1105, 1110, 1115, 1122, 1127, 1136, 1145, 1153, 1159,\n",
       "       1168, 1177, 1182, 1196, 1202, 1213, 1220, 1227, 1235, 1240, 1252,\n",
       "       1261, 1268, 1275, 1289, 1294, 1302, 1306, 1313, 1317, 1326, 1333,\n",
       "       1338, 1345, 1352, 1361, 1370, 1375, 1384, 1393, 1400, 1410, 1419,\n",
       "       1427, 1435, 1446, 1457, 1471, 1478, 1489, 1495, 1504, 1512, 1516,\n",
       "       1523, 1531, 1539, 1544, 1549, 1558, 1566, 1577, 1585, 1593, 1605,\n",
       "       1609, 1613, 1619, 1626, 1633, 1638, 1647, 1655, 1660, 1671, 1678,\n",
       "       1686, 1698, 1707, 1715, 1726, 1734, 1742, 1750, 1754, 1765, 1773,\n",
       "       1780, 1784, 1788, 1793, 1799, 1807, 1816, 1823, 1832, 1843, 1850,\n",
       "       1859, 1867, 1875, 1884, 1889, 1896, 1906, 1912, 1921, 1928, 1937,\n",
       "       1944, 1952, 1957, 1962, 1967, 1975, 1989, 1998, 2004, 2012, 2016,\n",
       "       2022, 2031, 2037, 2045, 2053, 2060, 2067, 2075, 2083, 2092, 2099,\n",
       "       2107, 2115, 2120, 2125, 2132, 2143, 2151, 2161, 2169, 2176, 2185,\n",
       "       2191, 2198, 2205, 2210, 2217, 2224, 2235, 2243, 2253, 2261, 2268,\n",
       "       2276, 2283, 2292, 2297, 2308, 2316, 2323, 2331, 2338, 2347, 2358,\n",
       "       2367, 2375, 2380, 2385, 2394, 2402, 2407, 2415, 2422, 2433, 2439,\n",
       "       2443, 2448, 2459, 2466, 2470, 2479, 2486, 2492, 2500, 2509, 2517,\n",
       "       2525, 2534, 2542, 2554, 2558, 2566, 2572, 2586, 2593, 2600, 2608,\n",
       "       2612, 2622, 2628, 2637, 2648, 2659, 2667, 2679, 2691, 2695, 2704,\n",
       "       2711, 2719, 2728, 2736, 2743, 2748, 2757, 2766, 2773, 2778, 2787,\n",
       "       2792, 2798, 2803, 2808, 2812, 2823, 2833, 2840, 2848, 2855, 2861,\n",
       "       2868, 2872, 2881, 2888, 2896, 2905, 2914, 2925, 2934, 2939, 2943,\n",
       "       2954, 2961, 2966, 2971, 2978, 2985, 2993, 3000, 3009, 3017, 3022,\n",
       "       3027, 3034, 3039, 3048, 3057, 3065, 3071, 3080, 3089, 3094, 3108,\n",
       "       3114, 3125, 3132, 3139, 3147, 3152, 3164, 3173, 3180, 3187, 3201,\n",
       "       3206, 3214, 3218, 3225, 3229, 3238, 3245, 3250, 3257, 3264, 3273,\n",
       "       3282, 3287, 3296, 3305, 3312, 3322, 3331, 3339, 3347, 3358, 3369,\n",
       "       3383, 3390, 3401, 3407, 3416, 3424, 3428, 3435, 3443, 3451, 3456,\n",
       "       3461, 3470, 3478, 3489, 3497, 3505, 3517, 3521, 3525, 3531, 3538,\n",
       "       3545, 3550, 3559, 3567, 3572, 3583, 3590, 3598, 3610, 3619, 3627,\n",
       "       3638, 3646, 3654, 3662, 3666, 3677, 3685, 3692, 3696, 3700, 3705,\n",
       "       3711, 3719, 3728, 3735, 3744, 3755, 3762, 3771, 3779, 3787, 3796,\n",
       "       3801, 3808])"
      ]
     },
     "execution_count": 40,
     "metadata": {},
     "output_type": "execute_result"
    }
   ],
   "source": [
    "msm.select(molecular_system, 'atom_name==\"N\" bonded to atom_type==\"C\"')"
   ]
  },
  {
   "cell_type": "code",
   "execution_count": 41,
   "metadata": {},
   "outputs": [
    {
     "data": {
      "text/plain": [
       "array([ 363, 1714, 2275, 3626])"
      ]
     },
     "execution_count": 41,
     "metadata": {},
     "output_type": "execute_result"
    }
   ],
   "source": [
    "msm.select(molecular_system, '(all not bonded to atom_type==[\"H\",\"N\",\"C\",\"O\"]) and molecule_type==\"protein\"')"
   ]
  },
  {
   "cell_type": "code",
   "execution_count": 42,
   "metadata": {},
   "outputs": [
    {
     "data": {
      "text/plain": [
       "array([   3,   12,   19,   23,   28,   35,   43,   48,   53,   58,   61,\n",
       "         66,   80,   89,   95,   98,  103,  107,  109,  113,  117,  118,\n",
       "        122,  124,  128,  136,  144,  151,  158,  166,  174,  178,  179,\n",
       "        183,  185,  190,  198,  201,  206,  211,  216,  218,  223,  234,\n",
       "        237,  238,  242,  252,  255,  256,  260,  267,  271,  276,  282,\n",
       "        289,  296,  301,  308,  310,  315,  326,  334,  344,  352,  359,\n",
       "        367,  369,  374,  383,  388,  399,  407,  409,  414,  417,  422,\n",
       "        429,  438,  449,  453,  458,  466,  471,  476,  480,  485,  488,\n",
       "        493,  498,  506,  508,  513,  524,  526,  530,  534,  539,  550,\n",
       "        552,  557,  561,  565,  566,  570,  577,  579,  583,  591,  595,\n",
       "        600,  608,  616,  625,  628,  629,  633,  641,  645,  649,  657,\n",
       "        659,  663,  677,  684,  691,  699,  703,  713,  715,  719,  723,\n",
       "        724,  728,  739,  750,  758,  766,  770,  778,  782,  786,  790,\n",
       "        791,  795,  797,  802,  805,  810,  814,  815,  819,  827,  834,\n",
       "        839,  843,  844,  848,  857,  864,  869,  873,  878,  883,  889,\n",
       "        894,  899,  903,  914,  924,  931,  939,  946,  952,  959,  963,\n",
       "        967,  968,  972,  974,  979,  982,  987,  991,  992,  996, 1000,\n",
       "       1001, 1005, 1016, 1020, 1021, 1025, 1030, 1034, 1045, 1047, 1052,\n",
       "       1057, 1062, 1069, 1076, 1084, 1086, 1091, 1095, 1100, 1108, 1113,\n",
       "       1118, 1125, 1130, 1134, 1139, 1148, 1156, 1158, 1162, 1171, 1175,\n",
       "       1176, 1180, 1185, 1199, 1201, 1205, 1216, 1223, 1230, 1238, 1243,\n",
       "       1251, 1255, 1259, 1260, 1264, 1271, 1278, 1292, 1297, 1305, 1309,\n",
       "       1311, 1316, 1320, 1329, 1336, 1341, 1343, 1348, 1355, 1359, 1364,\n",
       "       1368, 1373, 1378, 1382, 1387, 1391, 1392, 1396, 1403, 1413, 1417,\n",
       "       1418, 1422, 1430, 1438, 1449, 1460, 1474, 1481, 1492, 1494, 1498,\n",
       "       1507, 1515, 1519, 1521, 1526, 1529, 1530, 1534, 1542, 1547, 1552,\n",
       "       1556, 1561, 1569, 1580, 1588, 1596, 1604, 1608, 1612, 1616, 1618,\n",
       "       1622, 1629, 1631, 1636, 1641, 1650, 1653, 1658, 1663, 1674, 1676,\n",
       "       1681, 1689, 1697, 1701, 1705, 1710, 1718, 1729, 1732, 1733, 1737,\n",
       "       1745, 1748, 1753, 1757, 1768, 1776, 1783, 1787, 1791, 1796, 1798,\n",
       "       1802, 1810, 1819, 1826, 1830, 1831, 1835, 1846, 1853, 1857, 1858,\n",
       "       1862, 1870, 1878, 1882, 1883, 1887, 1892, 1894, 1899, 1905])"
      ]
     },
     "execution_count": 42,
     "metadata": {},
     "output_type": "execute_result"
    }
   ],
   "source": [
    "msm.select(molecular_system, '(atom_type==\"O\" and chain_id==\"A\") bonded to (atom_type==\"C\" and chain_id==\"A\")')"
   ]
  },
  {
   "cell_type": "markdown",
   "metadata": {},
   "source": [
    "And both, `within .. of` and `bonded to`, can be mixed in the same selection sentence:"
   ]
  },
  {
   "cell_type": "code",
   "execution_count": 43,
   "metadata": {},
   "outputs": [
    {
     "data": {
      "text/plain": [
       "array([ 119,  213,  473,  531,  654,  696,  799, 1049])"
      ]
     },
     "execution_count": 43,
     "metadata": {},
     "output_type": "execute_result"
    }
   ],
   "source": [
    "msm.select(molecular_system, '((atom_name==\"N\" and chain_id==\"A\") bonded to atom_type==\"C\") within 3 angstroms of (atom_type==\"O\" and molecule_type==\"water\")')"
   ]
  },
  {
   "cell_type": "markdown",
   "metadata": {},
   "source": [
    "## Syntaxis translation\n",
    "\n",
    "MolSysMT is prepared to easily interact with other tools. The main goal of this library is providing with a set of pipes and joins to set up your workflows, keeping simple the integration of other tools. But different tools have different selection syntax. Learning how to use the selection syntax of MDTraj, ParmEd or NGLview is something very useful. Those are tools that we all use frequently in our labs. But it happens that we forget soon the rules of each tool. To keep a unique selection syntax in your projects, MolSysMT includes the input argument `to_syntax` in the method `molsysmt.select()`. Lets illustrate some examples:"
   ]
  },
  {
   "cell_type": "code",
   "execution_count": 44,
   "metadata": {},
   "outputs": [
    {
     "data": {
      "text/plain": [
       "'@25,26,27,28,29,30,31,32,33,34,35,36,37,38,39,40,41,42,43,44'"
      ]
     },
     "execution_count": 44,
     "metadata": {},
     "output_type": "execute_result"
    }
   ],
   "source": [
    "msm.select(molecular_system, selection='group_index==[3,4,5]', to_syntax='NGLView')"
   ]
  },
  {
   "cell_type": "code",
   "execution_count": 45,
   "metadata": {},
   "outputs": [
    {
     "data": {
      "text/plain": [
       "'index 25 26 27 28 29 30 31 32 33 34 35 36 37 38 39 40 41 42 43 44'"
      ]
     },
     "execution_count": 45,
     "metadata": {},
     "output_type": "execute_result"
    }
   ],
   "source": [
    "msm.select(molecular_system, selection='group_index==[3,4,5]', to_syntax='MDTraj')"
   ]
  },
  {
   "cell_type": "markdown",
   "metadata": {},
   "source": [
    "The output string can be obtained, if the selection is done over other elementted elements, as a sequence of groups or chains:"
   ]
  },
  {
   "cell_type": "code",
   "execution_count": 46,
   "metadata": {},
   "outputs": [
    {
     "data": {
      "text/plain": [
       "'7:A 8:A 9:A'"
      ]
     },
     "execution_count": 46,
     "metadata": {},
     "output_type": "execute_result"
    }
   ],
   "source": [
    "msm.select(molecular_system, element='group', selection='group_index==[3,4,5]', to_syntax='NGLView')"
   ]
  },
  {
   "cell_type": "code",
   "execution_count": 47,
   "metadata": {},
   "outputs": [
    {
     "data": {
      "text/plain": [
       "'resid 3 4 5'"
      ]
     },
     "execution_count": 47,
     "metadata": {},
     "output_type": "execute_result"
    }
   ],
   "source": [
    "msm.select(molecular_system, element='group', selection='group_index==[3,4,5]', to_syntax='MDTraj')"
   ]
  },
  {
   "cell_type": "markdown",
   "metadata": {},
   "source": [
    "### Output syntax supported\n",
    "\n",
    "MolSysMT translates selection sentences from its own native syntax to NGLview, MDTraj, Pytraj, ParmEd and AMBER."
   ]
  },
  {
   "cell_type": "markdown",
   "metadata": {},
   "source": [
    "## Using your favourite selection syntax\n",
    "\n",
    "Already implemented: testing and documenting need it."
   ]
  },
  {
   "cell_type": "code",
   "execution_count": null,
   "metadata": {},
   "outputs": [],
   "source": []
  }
 ],
 "metadata": {
  "kernelspec": {
   "display_name": "Python 3 (ipykernel)",
   "language": "python",
   "name": "python3"
  },
  "language_info": {
   "codemirror_mode": {
    "name": "ipython",
    "version": 3
   },
   "file_extension": ".py",
   "mimetype": "text/x-python",
   "name": "python",
   "nbconvert_exporter": "python",
   "pygments_lexer": "ipython3",
   "version": "3.9.13"
  }
 },
 "nbformat": 4,
 "nbformat_minor": 4
}
