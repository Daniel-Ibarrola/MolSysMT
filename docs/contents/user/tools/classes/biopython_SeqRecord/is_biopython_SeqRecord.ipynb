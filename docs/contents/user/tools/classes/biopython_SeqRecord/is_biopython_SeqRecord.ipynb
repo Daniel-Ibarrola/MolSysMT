{
 "cells": [
  {
   "cell_type": "markdown",
   "id": "7bf536f2-c07b-45c9-acaf-8e3608a0e75e",
   "metadata": {},
   "source": [
    "# Is biopython SeqRecord"
   ]
  },
  {
   "cell_type": "code",
   "execution_count": 1,
   "id": "7262b2f1-0ac4-48ee-a875-5df5c1bce0b7",
   "metadata": {},
   "outputs": [
    {
     "name": "stderr",
     "output_type": "stream",
     "text": [
      "Warning: importing 'simtk.openmm' is deprecated.  Import 'openmm' instead.\n"
     ]
    },
    {
     "data": {
      "application/vnd.jupyter.widget-view+json": {
       "model_id": "226de93747fa4859bccd5678b05b50d4",
       "version_major": 2,
       "version_minor": 0
      },
      "text/plain": []
     },
     "metadata": {},
     "output_type": "display_data"
    }
   ],
   "source": [
    "from molsysmt.tools import biopython_SeqRecord"
   ]
  },
  {
   "cell_type": "code",
   "execution_count": 2,
   "id": "1fc98e82-46fe-45fc-9be4-57da36ded5a9",
   "metadata": {},
   "outputs": [],
   "source": [
    "from Bio.SeqRecord import SeqRecord\n",
    "item = SeqRecord('AAA')"
   ]
  },
  {
   "cell_type": "code",
   "execution_count": 3,
   "id": "1c8905e9-0c18-4459-8c96-7cb864e9d98d",
   "metadata": {},
   "outputs": [
    {
     "data": {
      "text/plain": [
       "True"
      ]
     },
     "execution_count": 3,
     "metadata": {},
     "output_type": "execute_result"
    }
   ],
   "source": [
    "biopython_SeqRecord.is_biopython_SeqRecord(item)"
   ]
  },
  {
   "cell_type": "code",
   "execution_count": null,
   "id": "ed3eee9a-ad32-4096-806a-17ca39adff48",
   "metadata": {},
   "outputs": [],
   "source": []
  }
 ],
 "metadata": {
  "kernelspec": {
   "display_name": "Python 3 (ipykernel)",
   "language": "python",
   "name": "python3"
  },
  "language_info": {
   "codemirror_mode": {
    "name": "ipython",
    "version": 3
   },
   "file_extension": ".py",
   "mimetype": "text/x-python",
   "name": "python",
   "nbconvert_exporter": "python",
   "pygments_lexer": "ipython3",
   "version": "3.7.12"
  }
 },
 "nbformat": 4,
 "nbformat_minor": 5
}
