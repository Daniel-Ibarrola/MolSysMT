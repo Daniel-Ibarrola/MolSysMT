{
 "cells": [
  {
   "cell_type": "markdown",
   "id": "08427832-11ab-459e-bd16-e352bb1e7a99",
   "metadata": {},
   "source": [
    "# Is rdkit.Mol"
   ]
  },
  {
   "cell_type": "code",
   "execution_count": 2,
   "id": "d2df8f00-de03-4559-809f-27752aa1b6b4",
   "metadata": {},
   "outputs": [],
   "source": [
    "from molsysmt.tools import rdkit_Mol"
   ]
  },
  {
   "cell_type": "code",
   "execution_count": 3,
   "id": "6f77b18d-1003-4a46-b15f-a9c3a8ea7a18",
   "metadata": {},
   "outputs": [],
   "source": [
    "#rdkit_Mol.is_rdkit_Mol()"
   ]
  },
  {
   "cell_type": "code",
   "execution_count": null,
   "id": "dc33d0ef-9629-4ba8-846f-bfb901c7f56b",
   "metadata": {},
   "outputs": [],
   "source": []
  }
 ],
 "metadata": {
  "kernelspec": {
   "display_name": "Python 3 (ipykernel)",
   "language": "python",
   "name": "python3"
  },
  "language_info": {
   "codemirror_mode": {
    "name": "ipython",
    "version": 3
   },
   "file_extension": ".py",
   "mimetype": "text/x-python",
   "name": "python",
   "nbconvert_exporter": "python",
   "pygments_lexer": "ipython3",
   "version": "3.7.12"
  }
 },
 "nbformat": 4,
 "nbformat_minor": 5
}
