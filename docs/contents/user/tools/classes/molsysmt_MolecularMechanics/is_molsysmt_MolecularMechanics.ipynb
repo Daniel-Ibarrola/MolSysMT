{
 "cells": [
  {
   "cell_type": "markdown",
   "id": "08427832-11ab-459e-bd16-e352bb1e7a99",
   "metadata": {},
   "source": [
    "# Is molsysmt.MolecularMechanics"
   ]
  },
  {
   "cell_type": "code",
   "execution_count": 3,
   "id": "d2df8f00-de03-4559-809f-27752aa1b6b4",
   "metadata": {},
   "outputs": [
    {
     "name": "stderr",
     "output_type": "stream",
     "text": [
      "Warning: importing 'simtk.openmm' is deprecated.  Import 'openmm' instead.\n"
     ]
    },
    {
     "data": {
      "application/vnd.jupyter.widget-view+json": {
       "model_id": "dff11b80cf574f14ae7334e943c20f0e",
       "version_major": 2,
       "version_minor": 0
      },
      "text/plain": []
     },
     "metadata": {},
     "output_type": "display_data"
    }
   ],
   "source": [
    "from molsysmt.tools import molsysmt_MolecularMechanics"
   ]
  },
  {
   "cell_type": "code",
   "execution_count": 4,
   "id": "6f77b18d-1003-4a46-b15f-a9c3a8ea7a18",
   "metadata": {},
   "outputs": [],
   "source": [
    "#molsysmt_MolecularMechanics.is_molsysmt_MolecularMechanics()"
   ]
  },
  {
   "cell_type": "code",
   "execution_count": null,
   "id": "dc33d0ef-9629-4ba8-846f-bfb901c7f56b",
   "metadata": {},
   "outputs": [],
   "source": []
  }
 ],
 "metadata": {
  "kernelspec": {
   "display_name": "Python 3 (ipykernel)",
   "language": "python",
   "name": "python3"
  },
  "language_info": {
   "codemirror_mode": {
    "name": "ipython",
    "version": 3
   },
   "file_extension": ".py",
   "mimetype": "text/x-python",
   "name": "python",
   "nbconvert_exporter": "python",
   "pygments_lexer": "ipython3",
   "version": "3.7.12"
  }
 },
 "nbformat": 4,
 "nbformat_minor": 5
}
