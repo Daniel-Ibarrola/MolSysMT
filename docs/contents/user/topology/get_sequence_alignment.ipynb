{
 "cells": [
  {
   "cell_type": "code",
   "execution_count": 1,
   "id": "00cf9f52-0b7a-4523-8d63-616d6bffa54d",
   "metadata": {},
   "outputs": [],
   "source": [
    "%load_ext autoreload\n",
    "%autoreload 2"
   ]
  },
  {
   "cell_type": "code",
   "execution_count": 2,
   "id": "b8878459-7d35-4fb1-800f-14a77bb79bdc",
   "metadata": {},
   "outputs": [
    {
     "name": "stderr",
     "output_type": "stream",
     "text": [
      "Warning: importing 'simtk.openmm' is deprecated.  Import 'openmm' instead.\n"
     ]
    },
    {
     "data": {
      "application/vnd.jupyter.widget-view+json": {
       "model_id": "504b9141d7cb496bbb3bb9e728c418a3",
       "version_major": 2,
       "version_minor": 0
      },
      "text/plain": []
     },
     "metadata": {},
     "output_type": "display_data"
    }
   ],
   "source": [
    "import molsysmt as msm"
   ]
  },
  {
   "cell_type": "markdown",
   "id": "77f3441d-f808-430d-ab58-2f104bae8975",
   "metadata": {},
   "source": [
    "# Get sequence alignment"
   ]
  },
  {
   "cell_type": "code",
   "execution_count": 3,
   "id": "3ac5b2d3-f038-4351-a450-0ecf70f2d9f4",
   "metadata": {},
   "outputs": [
    {
     "name": "stderr",
     "output_type": "stream",
     "text": [
      "/home/diego/projects/molsysmt/molsysmt/native/io/topology/mmtf_MMTFDecoder.py:27: UserWarning: The structure in the PDB has biological assemblies. There are geometrical transformations proposed in the structure. See the following issue in the source code repository: https://github.com/uibcdf/MolSysMT/issues/33\n",
      "  warnings.warn(warning_message)\n"
     ]
    }
   ],
   "source": [
    "molecular_system_1 = msm.convert('pdb_id:181l', to_form='molsysmt.MolSys')\n",
    "molecular_system_2 = msm.convert('pdb_id:1l17', to_form='molsysmt.MolSys')"
   ]
  },
  {
   "cell_type": "code",
   "execution_count": 4,
   "id": "44b76afa-eff2-4ef3-a273-b28ddbb4c5e1",
   "metadata": {},
   "outputs": [
    {
     "data": {
      "text/plain": [
       "162"
      ]
     },
     "execution_count": 4,
     "metadata": {},
     "output_type": "execute_result"
    }
   ],
   "source": [
    "msm.get(molecular_system_1, selection='molecule_type==\"protein\"', n_groups=True)"
   ]
  },
  {
   "cell_type": "code",
   "execution_count": 5,
   "id": "27f8fda5-dcd8-4251-aa37-8ca7096545a6",
   "metadata": {},
   "outputs": [
    {
     "data": {
      "text/plain": [
       "164"
      ]
     },
     "execution_count": 5,
     "metadata": {},
     "output_type": "execute_result"
    }
   ],
   "source": [
    "msm.get(molecular_system_2, selection='molecule_type==\"protein\"', n_groups=True)"
   ]
  },
  {
   "cell_type": "code",
   "execution_count": 6,
   "id": "51dc47da-d7fe-456f-a2f3-5f32e53695a7",
   "metadata": {},
   "outputs": [],
   "source": [
    "#msm.topology.get_sequence_alignment(molecular_system_1, selection='molecule_type==\"protein\"',\n",
    "#                                    reference_molecular_system=molecular_system_2, reference_selection='molecule_type==\"protein\"',\n",
    "#                                    prettyprint=True)"
   ]
  },
  {
   "cell_type": "code",
   "execution_count": 8,
   "id": "8b7401f7-7418-4e31-b4d5-9a1a63ba5bcb",
   "metadata": {},
   "outputs": [],
   "source": [
    "#seq, seq_ref = msm.topology.get_sequence_alignment(molecular_system_1, selection='molecule_type==\"protein\"',\n",
    "#                                    reference_molecular_system=molecular_system_2, reference_selection='molecule_type==\"protein\"')"
   ]
  },
  {
   "cell_type": "code",
   "execution_count": 9,
   "id": "70813a8b-a581-45c7-8826-3e7788150e46",
   "metadata": {},
   "outputs": [],
   "source": [
    "#seq"
   ]
  },
  {
   "cell_type": "code",
   "execution_count": 10,
   "id": "1d612630-7b7b-4732-8393-2ce88f53dab4",
   "metadata": {},
   "outputs": [],
   "source": [
    "#seq_ref"
   ]
  }
 ],
 "metadata": {
  "kernelspec": {
   "display_name": "Python 3 (ipykernel)",
   "language": "python",
   "name": "python3"
  },
  "language_info": {
   "codemirror_mode": {
    "name": "ipython",
    "version": 3
   },
   "file_extension": ".py",
   "mimetype": "text/x-python",
   "name": "python",
   "nbconvert_exporter": "python",
   "pygments_lexer": "ipython3",
   "version": "3.7.10"
  }
 },
 "nbformat": 4,
 "nbformat_minor": 5
}
