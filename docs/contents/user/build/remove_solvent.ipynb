{
 "cells": [
  {
   "cell_type": "code",
   "execution_count": 2,
   "id": "f31733ba-57ec-4bce-bcaa-54715c5be575",
   "metadata": {},
   "outputs": [],
   "source": [
    "%load_ext autoreload\n",
    "%autoreload 2"
   ]
  },
  {
   "cell_type": "code",
   "execution_count": 3,
   "id": "8ac13ef2-3dc1-4346-95cc-c47d3749c85c",
   "metadata": {},
   "outputs": [
    {
     "name": "stderr",
     "output_type": "stream",
     "text": [
      "Warning: importing 'simtk.openmm' is deprecated.  Import 'openmm' instead.\n"
     ]
    },
    {
     "data": {
      "application/vnd.jupyter.widget-view+json": {
       "model_id": "37df17fec57544e1a69a0af5bb46156a",
       "version_major": 2,
       "version_minor": 0
      },
      "text/plain": []
     },
     "metadata": {},
     "output_type": "display_data"
    }
   ],
   "source": [
    "import molsysmt as msm"
   ]
  },
  {
   "cell_type": "markdown",
   "id": "0b5e9b08-cb7f-4abd-ac73-39c88fa54b7b",
   "metadata": {},
   "source": [
    "# Remove solvent"
   ]
  },
  {
   "cell_type": "code",
   "execution_count": 5,
   "id": "3a431415-e5f8-4cf3-8bf3-038d23edb9eb",
   "metadata": {},
   "outputs": [],
   "source": [
    "molsys = msm.convert(msm.demo['Met-enkephalin']['vacuum.msmpk'], to_form='molsysmt.MolSys')\n",
    "molsys = msm.build.add_terminal_cappings(molsys)\n",
    "molsys = msm.build.add_hydrogens(molsys)\n",
    "molsys = msm.build.solvate([molsys, {'forcefield':'AMBER14', 'water_model':'TIP3P'}],\n",
    "                            box_geometry='cubic', clearance='14.0 angstroms',\n",
    "                            to_form='molsysmt.MolSys', engine=\"OpenMM\", verbose=False)"
   ]
  },
  {
   "cell_type": "code",
   "execution_count": 6,
   "id": "2fa7d297-d66c-4020-8368-c84417abb20c",
   "metadata": {},
   "outputs": [
    {
     "data": {
      "text/plain": [
       "True"
      ]
     },
     "execution_count": 6,
     "metadata": {},
     "output_type": "execute_result"
    }
   ],
   "source": [
    "msm.build.is_solvated(molsys)"
   ]
  },
  {
   "cell_type": "code",
   "execution_count": 7,
   "id": "4c47f48e-77f9-4897-bc57-853057678afa",
   "metadata": {},
   "outputs": [
    {
     "data": {
      "text/html": [
       "<style type=\"text/css\">\n",
       "</style>\n",
       "<table id=\"T_26f2c_\">\n",
       "  <thead>\n",
       "    <tr>\n",
       "      <th class=\"col_heading level0 col0\" >form</th>\n",
       "      <th class=\"col_heading level0 col1\" >n_atoms</th>\n",
       "      <th class=\"col_heading level0 col2\" >n_groups</th>\n",
       "      <th class=\"col_heading level0 col3\" >n_components</th>\n",
       "      <th class=\"col_heading level0 col4\" >n_chains</th>\n",
       "      <th class=\"col_heading level0 col5\" >n_molecules</th>\n",
       "      <th class=\"col_heading level0 col6\" >n_entities</th>\n",
       "      <th class=\"col_heading level0 col7\" >n_waters</th>\n",
       "      <th class=\"col_heading level0 col8\" >n_peptides</th>\n",
       "      <th class=\"col_heading level0 col9\" >n_frames</th>\n",
       "    </tr>\n",
       "  </thead>\n",
       "  <tbody>\n",
       "    <tr>\n",
       "      <td id=\"T_26f2c_row0_col0\" class=\"data row0 col0\" >molsysmt.MolSys</td>\n",
       "      <td id=\"T_26f2c_row0_col1\" class=\"data row0 col1\" >8865</td>\n",
       "      <td id=\"T_26f2c_row0_col2\" class=\"data row0 col2\" >2935</td>\n",
       "      <td id=\"T_26f2c_row0_col3\" class=\"data row0 col3\" >2931</td>\n",
       "      <td id=\"T_26f2c_row0_col4\" class=\"data row0 col4\" >2</td>\n",
       "      <td id=\"T_26f2c_row0_col5\" class=\"data row0 col5\" >2931</td>\n",
       "      <td id=\"T_26f2c_row0_col6\" class=\"data row0 col6\" >2</td>\n",
       "      <td id=\"T_26f2c_row0_col7\" class=\"data row0 col7\" >2930</td>\n",
       "      <td id=\"T_26f2c_row0_col8\" class=\"data row0 col8\" >1</td>\n",
       "      <td id=\"T_26f2c_row0_col9\" class=\"data row0 col9\" >1</td>\n",
       "    </tr>\n",
       "  </tbody>\n",
       "</table>\n"
      ],
      "text/plain": [
       "<pandas.io.formats.style.Styler at 0x7f4058ef75d0>"
      ]
     },
     "execution_count": 7,
     "metadata": {},
     "output_type": "execute_result"
    }
   ],
   "source": [
    "msm.info(molsys)"
   ]
  },
  {
   "cell_type": "code",
   "execution_count": 8,
   "id": "f3813bf8-669d-4e3b-b63e-faf5ba239c5c",
   "metadata": {},
   "outputs": [],
   "source": [
    "molsys = msm.build.remove_solvent(molsys)"
   ]
  },
  {
   "cell_type": "code",
   "execution_count": 9,
   "id": "4052e8d5-89f3-4c50-8376-edef3b569e9f",
   "metadata": {},
   "outputs": [
    {
     "data": {
      "text/plain": [
       "False"
      ]
     },
     "execution_count": 9,
     "metadata": {},
     "output_type": "execute_result"
    }
   ],
   "source": [
    "msm.build.is_solvated(molsys)"
   ]
  },
  {
   "cell_type": "code",
   "execution_count": 10,
   "id": "82df4c64-4cdf-41e8-94f4-11f752faa414",
   "metadata": {},
   "outputs": [
    {
     "data": {
      "text/html": [
       "<style type=\"text/css\">\n",
       "</style>\n",
       "<table id=\"T_c9929_\">\n",
       "  <thead>\n",
       "    <tr>\n",
       "      <th class=\"col_heading level0 col0\" >form</th>\n",
       "      <th class=\"col_heading level0 col1\" >n_atoms</th>\n",
       "      <th class=\"col_heading level0 col2\" >n_groups</th>\n",
       "      <th class=\"col_heading level0 col3\" >n_components</th>\n",
       "      <th class=\"col_heading level0 col4\" >n_chains</th>\n",
       "      <th class=\"col_heading level0 col5\" >n_molecules</th>\n",
       "      <th class=\"col_heading level0 col6\" >n_entities</th>\n",
       "      <th class=\"col_heading level0 col7\" >n_peptides</th>\n",
       "      <th class=\"col_heading level0 col8\" >n_frames</th>\n",
       "    </tr>\n",
       "  </thead>\n",
       "  <tbody>\n",
       "    <tr>\n",
       "      <td id=\"T_c9929_row0_col0\" class=\"data row0 col0\" >molsysmt.MolSys</td>\n",
       "      <td id=\"T_c9929_row0_col1\" class=\"data row0 col1\" >75</td>\n",
       "      <td id=\"T_c9929_row0_col2\" class=\"data row0 col2\" >5</td>\n",
       "      <td id=\"T_c9929_row0_col3\" class=\"data row0 col3\" >1</td>\n",
       "      <td id=\"T_c9929_row0_col4\" class=\"data row0 col4\" >1</td>\n",
       "      <td id=\"T_c9929_row0_col5\" class=\"data row0 col5\" >1</td>\n",
       "      <td id=\"T_c9929_row0_col6\" class=\"data row0 col6\" >1</td>\n",
       "      <td id=\"T_c9929_row0_col7\" class=\"data row0 col7\" >1</td>\n",
       "      <td id=\"T_c9929_row0_col8\" class=\"data row0 col8\" >1</td>\n",
       "    </tr>\n",
       "  </tbody>\n",
       "</table>\n"
      ],
      "text/plain": [
       "<pandas.io.formats.style.Styler at 0x7f4058ef7790>"
      ]
     },
     "execution_count": 10,
     "metadata": {},
     "output_type": "execute_result"
    }
   ],
   "source": [
    "msm.info(molsys)"
   ]
  },
  {
   "cell_type": "code",
   "execution_count": null,
   "id": "2c17ffeb-e4d5-4fdd-bf70-69a4bf09891e",
   "metadata": {},
   "outputs": [],
   "source": []
  }
 ],
 "metadata": {
  "kernelspec": {
   "display_name": "Python 3 (ipykernel)",
   "language": "python",
   "name": "python3"
  },
  "language_info": {
   "codemirror_mode": {
    "name": "ipython",
    "version": 3
   },
   "file_extension": ".py",
   "mimetype": "text/x-python",
   "name": "python",
   "nbconvert_exporter": "python",
   "pygments_lexer": "ipython3",
   "version": "3.7.10"
  }
 },
 "nbformat": 4,
 "nbformat_minor": 5
}
