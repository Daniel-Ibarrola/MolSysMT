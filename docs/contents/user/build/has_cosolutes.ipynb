{
 "cells": [
  {
   "cell_type": "code",
   "execution_count": null,
   "id": "42761d88-ad20-4e98-991f-b15a5709918b",
   "metadata": {},
   "outputs": [],
   "source": [
    "%load_ext autoreload\n",
    "%autoreload 2"
   ]
  },
  {
   "cell_type": "code",
   "execution_count": null,
   "id": "34e571d6-0e5a-4ba2-a398-67c03c16df11",
   "metadata": {},
   "outputs": [],
   "source": [
    "import molsysmt as msm"
   ]
  },
  {
   "cell_type": "markdown",
   "id": "3484fa66-6036-482a-a702-756297c276a7",
   "metadata": {},
   "source": [
    "# Has cosolutes"
   ]
  },
  {
   "cell_type": "code",
   "execution_count": null,
   "id": "0683474b-5378-4c16-8d3e-8dc82e526e24",
   "metadata": {},
   "outputs": [],
   "source": [
    "molecular_system = msm.demo['TcTIM']['1tcd.mmtf']\n",
    "molecular_system = msm.convert(molecular_system, to_form='molsysmt.MolSys')"
   ]
  },
  {
   "cell_type": "code",
   "execution_count": null,
   "id": "6617e08c-99d6-41fb-bd6e-90bac25ecf8c",
   "metadata": {},
   "outputs": [],
   "source": [
    "msm.build.has_cosolutes(molecular_system)"
   ]
  },
  {
   "cell_type": "code",
   "execution_count": null,
   "id": "25027038-e747-472e-ac23-2b35e3255a0e",
   "metadata": {},
   "outputs": [],
   "source": []
  }
 ],
 "metadata": {
  "kernelspec": {
   "display_name": "Python 3 (ipykernel)",
   "language": "python",
   "name": "python3"
  },
  "language_info": {
   "codemirror_mode": {
    "name": "ipython",
    "version": 3
   },
   "file_extension": ".py",
   "mimetype": "text/x-python",
   "name": "python",
   "nbconvert_exporter": "python",
   "pygments_lexer": "ipython3",
   "version": "3.7.12"
  }
 },
 "nbformat": 4,
 "nbformat_minor": 5
}
