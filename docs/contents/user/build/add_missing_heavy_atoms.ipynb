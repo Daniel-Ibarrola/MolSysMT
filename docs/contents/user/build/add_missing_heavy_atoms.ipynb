{
 "cells": [
  {
   "cell_type": "code",
   "execution_count": 1,
   "id": "1c11382e-f67d-466e-aee6-5725b4200a69",
   "metadata": {},
   "outputs": [],
   "source": [
    "%load_ext autoreload\n",
    "%autoreload 2"
   ]
  },
  {
   "cell_type": "code",
   "execution_count": 2,
   "id": "3775837e-62a7-4079-9661-372cc4563718",
   "metadata": {},
   "outputs": [
    {
     "name": "stderr",
     "output_type": "stream",
     "text": [
      "Warning: importing 'simtk.openmm' is deprecated.  Import 'openmm' instead.\n"
     ]
    },
    {
     "data": {
      "application/vnd.jupyter.widget-view+json": {
       "model_id": "1c6a24cd0e8b4191b4358bd9439e2bb2",
       "version_major": 2,
       "version_minor": 0
      },
      "text/plain": []
     },
     "metadata": {},
     "output_type": "display_data"
    }
   ],
   "source": [
    "import molsysmt as msm"
   ]
  },
  {
   "cell_type": "markdown",
   "id": "2f6cd114-c906-428f-b51f-3f7ff6267132",
   "metadata": {},
   "source": [
    "# Add missing heavy atoms"
   ]
  },
  {
   "cell_type": "code",
   "execution_count": 4,
   "id": "36127e9e-6811-4c65-bf88-b51c121b5265",
   "metadata": {},
   "outputs": [
    {
     "name": "stdout",
     "output_type": "stream",
     "text": [
      "The bioassembly has a different number of chains than the total amount of chains\n"
     ]
    },
    {
     "name": "stderr",
     "output_type": "stream",
     "text": [
      "/home/diego/projects/molsysmt/molsysmt/native/io/topology/mmtf_MMTFDecoder.py:27: UserWarning: The structure in the PDB has biological assemblies. There are geometrical transformations proposed in the structure. See the following issue in the source code repository: https://github.com/uibcdf/MolSysMT/issues/33\n",
      "  warnings.warn(warning_message)\n",
      "/home/diego/projects/molsysmt/molsysmt/native/io/topology/mmtf_MMTFDecoder.py:42: UserWarning: The bioassembly has a different number of chains than the total amount of chains\n",
      "  warnings.warn(warning_message)\n"
     ]
    }
   ],
   "source": [
    "molecular_system = msm.convert('pdb_id:1brs', to_form='molsysmt.MolSys')"
   ]
  },
  {
   "cell_type": "code",
   "execution_count": 5,
   "id": "29098771-2eec-4c05-9889-f929b7179958",
   "metadata": {},
   "outputs": [
    {
     "name": "stderr",
     "output_type": "stream",
     "text": [
      "/home/diego/Myopt/miniconda3/envs/MolSysMT/lib/python3.7/site-packages/openmm/app/internal/pdbstructure.py:537: UserWarning: WARNING: duplicate atom (ATOM   2692  CB  SER D  14      32.757  22.571   1.533  1.00  0.00           C  , ATOM   2690  CB  SER D  14      32.742  22.579   1.536  1.00  0.00           C  )\n",
      "  warnings.warn(\"WARNING: duplicate atom (%s, %s)\" % (atom, old_atom._pdb_string(old_atom.serial_number, atom.alternate_location_indicator)))\n",
      "/home/diego/Myopt/miniconda3/envs/MolSysMT/lib/python3.7/site-packages/openmm/app/internal/pdbstructure.py:537: UserWarning: WARNING: duplicate atom (ATOM   2693  OG  SER D  14      33.396  21.920   2.619  1.00  0.00           O  , ATOM   2691  OG  SER D  14      31.412  22.410   1.076  1.00  0.00           O  )\n",
      "  warnings.warn(\"WARNING: duplicate atom (%s, %s)\" % (atom, old_atom._pdb_string(old_atom.serial_number, atom.alternate_location_indicator)))\n"
     ]
    }
   ],
   "source": [
    "missing = msm.build.get_missing_heavy_atoms(molecular_system)"
   ]
  },
  {
   "cell_type": "code",
   "execution_count": 6,
   "id": "4aa95e7a-668e-41c5-8ccd-a7bd20334c1c",
   "metadata": {},
   "outputs": [
    {
     "data": {
      "text/plain": [
       "{234: ['CG', 'CD', 'CE', 'NZ'],\n",
       " 237: ['CG', 'OD1', 'OD2'],\n",
       " 244: ['CD', 'OE1', 'OE2'],\n",
       " 246: ['CG', 'CD', 'OE1', 'NE2'],\n",
       " 254: ['CD', 'CE', 'NZ'],\n",
       " 260: ['CG1', 'CG2'],\n",
       " 264: ['CG', 'CD', 'CE', 'NZ'],\n",
       " 282: ['OG'],\n",
       " 325: ['O'],\n",
       " 383: ['OE1', 'NE2'],\n",
       " 385: ['NZ'],\n",
       " 386: ['CG', 'CD', 'OE1', 'NE2'],\n",
       " 422: ['NE', 'CZ', 'NH1', 'NH2'],\n",
       " 429: ['CG', 'CD', 'OE1', 'NE2'],\n",
       " 465: ['NE', 'CZ', 'NH1', 'NH2'],\n",
       " 469: ['CG', 'CD', 'OE1', 'NE2'],\n",
       " 471: ['CG', 'CD', 'CE', 'NZ'],\n",
       " 472: ['CG', 'CD', 'OE1', 'NE2'],\n",
       " 473: ['CG', 'CD1', 'CD2'],\n",
       " 520: ['CD', 'CE', 'NZ'],\n",
       " 526: ['CG', 'CD', 'OE1', 'OE2'],\n",
       " 544: ['CG', 'CD', 'OE1', 'OE2'],\n",
       " 562: ['CG', 'CD', 'OE1', 'OE2'],\n",
       " 563: ['CG', 'OD1', 'ND2'],\n",
       " 587: ['O']}"
      ]
     },
     "execution_count": 6,
     "metadata": {},
     "output_type": "execute_result"
    }
   ],
   "source": [
    "missing"
   ]
  },
  {
   "cell_type": "code",
   "execution_count": 7,
   "id": "f19d2f71-88bc-4f50-93cd-1d9ba5acdb39",
   "metadata": {},
   "outputs": [],
   "source": [
    "molecular_system = msm.build.add_missing_heavy_atoms(molecular_system)"
   ]
  },
  {
   "cell_type": "code",
   "execution_count": 8,
   "id": "ef7541b8-ac18-46d3-b6c1-3bd8dc6bf930",
   "metadata": {},
   "outputs": [
    {
     "name": "stderr",
     "output_type": "stream",
     "text": [
      "/home/diego/Myopt/miniconda3/envs/MolSysMT/lib/python3.7/site-packages/openmm/app/internal/pdbstructure.py:537: UserWarning: WARNING: duplicate atom (ATOM   2717  CB  SER D  14      32.757  22.571   1.533  1.00  0.00           C  , ATOM   2715  CB  SER D  14      32.742  22.579   1.536  1.00  0.00           C  )\n",
      "  warnings.warn(\"WARNING: duplicate atom (%s, %s)\" % (atom, old_atom._pdb_string(old_atom.serial_number, atom.alternate_location_indicator)))\n",
      "/home/diego/Myopt/miniconda3/envs/MolSysMT/lib/python3.7/site-packages/openmm/app/internal/pdbstructure.py:537: UserWarning: WARNING: duplicate atom (ATOM   2718  OG  SER D  14      33.396  21.920   2.619  1.00  0.00           O  , ATOM   2716  OG  SER D  14      31.412  22.410   1.076  1.00  0.00           O  )\n",
      "  warnings.warn(\"WARNING: duplicate atom (%s, %s)\" % (atom, old_atom._pdb_string(old_atom.serial_number, atom.alternate_location_indicator)))\n"
     ]
    }
   ],
   "source": [
    "missing = msm.build.get_missing_heavy_atoms(molecular_system)"
   ]
  },
  {
   "cell_type": "code",
   "execution_count": 9,
   "id": "50ce93dd-09d5-475f-8615-b90985c3dbc8",
   "metadata": {},
   "outputs": [
    {
     "data": {
      "text/plain": [
       "{}"
      ]
     },
     "execution_count": 9,
     "metadata": {},
     "output_type": "execute_result"
    }
   ],
   "source": [
    "missing"
   ]
  },
  {
   "cell_type": "code",
   "execution_count": 10,
   "id": "337648ca-a28c-4191-aac8-6215a25be5b2",
   "metadata": {},
   "outputs": [],
   "source": [
    "aa = msm.convert(molecular_system, to_form='pdbfixer.PDBFixer')"
   ]
  },
  {
   "cell_type": "code",
   "execution_count": 11,
   "id": "ad6463cb-7898-4058-89b4-7c0067a03ea3",
   "metadata": {},
   "outputs": [],
   "source": [
    "aa.findMissingResidues()\n",
    "aa.findMissingAtoms()"
   ]
  },
  {
   "cell_type": "code",
   "execution_count": 12,
   "id": "034c384f-e530-4307-adce-0de21d13f6ba",
   "metadata": {},
   "outputs": [
    {
     "data": {
      "text/plain": [
       "{<Residue 412 (SER) of chain 3>: ['OXT']}"
      ]
     },
     "execution_count": 12,
     "metadata": {},
     "output_type": "execute_result"
    }
   ],
   "source": [
    "aa.missingTerminals"
   ]
  },
  {
   "cell_type": "code",
   "execution_count": 14,
   "id": "5ab69d67-d482-41ac-aa31-659f5ffcc950",
   "metadata": {},
   "outputs": [
    {
     "name": "stdout",
     "output_type": "stream",
     "text": [
      "The bioassembly has a different number of chains than the total amount of chains\n"
     ]
    },
    {
     "name": "stderr",
     "output_type": "stream",
     "text": [
      "/home/diego/Myopt/miniconda3/envs/MolSysMT/lib/python3.7/site-packages/openmm/app/internal/pdbstructure.py:537: UserWarning: WARNING: duplicate atom (ATOM    108  CB  SER D  14      32.757  22.571   1.533  1.00  0.00           C  , ATOM    106  CB  SER D  14      32.742  22.579   1.536  1.00  0.00           C  )\n",
      "  warnings.warn(\"WARNING: duplicate atom (%s, %s)\" % (atom, old_atom._pdb_string(old_atom.serial_number, atom.alternate_location_indicator)))\n",
      "/home/diego/Myopt/miniconda3/envs/MolSysMT/lib/python3.7/site-packages/openmm/app/internal/pdbstructure.py:537: UserWarning: WARNING: duplicate atom (ATOM    109  OG  SER D  14      33.396  21.920   2.619  1.00  0.00           O  , ATOM    107  OG  SER D  14      31.412  22.410   1.076  1.00  0.00           O  )\n",
      "  warnings.warn(\"WARNING: duplicate atom (%s, %s)\" % (atom, old_atom._pdb_string(old_atom.serial_number, atom.alternate_location_indicator)))\n"
     ]
    }
   ],
   "source": [
    "molecular_system = msm.convert('pdb_id:1brs', to_form='molsysmt.MolSys')\n",
    "molecular_system = msm.build.add_missing_heavy_atoms(molecular_system, selection='chain_index==3')\n",
    "missing = msm.build.get_missing_heavy_atoms(molecular_system)"
   ]
  },
  {
   "cell_type": "code",
   "execution_count": 15,
   "id": "92e7201e-a100-4d1a-8364-aafc8c591336",
   "metadata": {},
   "outputs": [
    {
     "data": {
      "text/plain": [
       "{234: ['CG', 'CD', 'CE', 'NZ'],\n",
       " 237: ['CG', 'OD1', 'OD2'],\n",
       " 244: ['CD', 'OE1', 'OE2'],\n",
       " 246: ['CG', 'CD', 'OE1', 'NE2'],\n",
       " 254: ['CD', 'CE', 'NZ'],\n",
       " 260: ['CG1', 'CG2'],\n",
       " 264: ['CG', 'CD', 'CE', 'NZ'],\n",
       " 282: ['OG'],\n",
       " 325: ['O'],\n",
       " 422: ['NE', 'CZ', 'NH1', 'NH2'],\n",
       " 429: ['CG', 'CD', 'OE1', 'NE2'],\n",
       " 465: ['NE', 'CZ', 'NH1', 'NH2'],\n",
       " 469: ['CG', 'CD', 'OE1', 'NE2'],\n",
       " 471: ['CG', 'CD', 'CE', 'NZ'],\n",
       " 472: ['CG', 'CD', 'OE1', 'NE2'],\n",
       " 473: ['CG', 'CD1', 'CD2'],\n",
       " 520: ['CD', 'CE', 'NZ'],\n",
       " 526: ['CG', 'CD', 'OE1', 'OE2'],\n",
       " 544: ['CG', 'CD', 'OE1', 'OE2'],\n",
       " 562: ['CG', 'CD', 'OE1', 'OE2'],\n",
       " 563: ['CG', 'OD1', 'ND2'],\n",
       " 587: ['O']}"
      ]
     },
     "execution_count": 15,
     "metadata": {},
     "output_type": "execute_result"
    }
   ],
   "source": [
    "missing"
   ]
  },
  {
   "cell_type": "code",
   "execution_count": 16,
   "id": "00f4f8ba-9a9c-4d26-b51b-f8b5f2933635",
   "metadata": {},
   "outputs": [
    {
     "name": "stdout",
     "output_type": "stream",
     "text": [
      "The bioassembly has a different number of chains than the total amount of chains\n"
     ]
    }
   ],
   "source": [
    "molecular_system = msm.convert('pdb_id:1brs', to_form='molsysmt.MolSys')\n",
    "missing_heavy_atoms = msm.build.get_missing_heavy_atoms(molecular_system, selection='chain_index!=3')\n",
    "molecular_system = msm.build.add_missing_heavy_atoms(molecular_system, missing_heavy_atoms=missing_heavy_atoms)\n",
    "missing = msm.build.get_missing_heavy_atoms(molecular_system)"
   ]
  },
  {
   "cell_type": "code",
   "execution_count": 17,
   "id": "47a491e0-996e-4357-8043-f955801dc22e",
   "metadata": {},
   "outputs": [
    {
     "data": {
      "text/plain": [
       "{383: ['OE1', 'NE2'], 385: ['NZ'], 386: ['CG', 'CD', 'OE1', 'NE2']}"
      ]
     },
     "execution_count": 17,
     "metadata": {},
     "output_type": "execute_result"
    }
   ],
   "source": [
    "missing"
   ]
  },
  {
   "cell_type": "code",
   "execution_count": null,
   "id": "9a49eadc-7a27-4b0d-9a88-e94b19f8f9ce",
   "metadata": {},
   "outputs": [],
   "source": []
  }
 ],
 "metadata": {
  "kernelspec": {
   "display_name": "Python 3 (ipykernel)",
   "language": "python",
   "name": "python3"
  },
  "language_info": {
   "codemirror_mode": {
    "name": "ipython",
    "version": 3
   },
   "file_extension": ".py",
   "mimetype": "text/x-python",
   "name": "python",
   "nbconvert_exporter": "python",
   "pygments_lexer": "ipython3",
   "version": "3.7.10"
  }
 },
 "nbformat": 4,
 "nbformat_minor": 5
}
