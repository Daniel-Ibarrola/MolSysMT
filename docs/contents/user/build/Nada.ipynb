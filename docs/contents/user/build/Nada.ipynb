{
 "cells": [
  {
   "cell_type": "code",
   "execution_count": 1,
   "id": "95dfc04a-104f-4f6f-bcf4-b10d11f6adde",
   "metadata": {},
   "outputs": [],
   "source": [
    "%load_ext autoreload\n",
    "%autoreload 2"
   ]
  },
  {
   "cell_type": "code",
   "execution_count": 2,
   "id": "436597d5-05ac-4d71-9a20-c3805dec12f3",
   "metadata": {},
   "outputs": [
    {
     "data": {
      "application/vnd.jupyter.widget-view+json": {
       "model_id": "6eb503cc2ad745bc8575c0bfcfac7275",
       "version_major": 2,
       "version_minor": 0
      },
      "text/plain": []
     },
     "metadata": {},
     "output_type": "display_data"
    }
   ],
   "source": [
    "import molsysmt as msm\n",
    "import numpy as np"
   ]
  },
  {
   "cell_type": "code",
   "execution_count": 26,
   "id": "ac23b092-6d67-42d1-9605-5bef2b02cb7d",
   "metadata": {},
   "outputs": [
    {
     "name": "stderr",
     "output_type": "stream",
     "text": [
      "Warning: importing 'simtk.openmm' is deprecated.  Import 'openmm' instead.\n"
     ]
    },
    {
     "ename": "NotImplementedMethodError",
     "evalue": "The \"to_openmm_System\" method has not been implemented yet in the way you are using it. Check  for more information. If you still want to suggest its implementation, open a new issue in https://github.com/uibcdf/MolSysMT/issues",
     "output_type": "error",
     "traceback": [
      "\u001b[0;31m---------------------------------------------------------------------------\u001b[0m",
      "\u001b[0;31mNotImplementedMethodError\u001b[0m                 Traceback (most recent call last)",
      "\u001b[0;32m/tmp/ipykernel_2037559/2486719579.py\u001b[0m in \u001b[0;36m<module>\u001b[0;34m\u001b[0m\n\u001b[1;32m      6\u001b[0m \u001b[0mn_atoms_after\u001b[0m \u001b[0;34m=\u001b[0m  \u001b[0mmsm\u001b[0m\u001b[0;34m.\u001b[0m\u001b[0mget\u001b[0m\u001b[0;34m(\u001b[0m\u001b[0mmolsys\u001b[0m\u001b[0;34m,\u001b[0m \u001b[0melement\u001b[0m\u001b[0;34m=\u001b[0m\u001b[0;34m'system'\u001b[0m\u001b[0;34m,\u001b[0m \u001b[0mn_atoms\u001b[0m\u001b[0;34m=\u001b[0m\u001b[0;32mTrue\u001b[0m\u001b[0;34m)\u001b[0m\u001b[0;34m\u001b[0m\u001b[0;34m\u001b[0m\u001b[0m\n\u001b[1;32m      7\u001b[0m \u001b[0mgroups_after\u001b[0m \u001b[0;34m=\u001b[0m \u001b[0mmsm\u001b[0m\u001b[0;34m.\u001b[0m\u001b[0mget\u001b[0m\u001b[0;34m(\u001b[0m\u001b[0mmolsys\u001b[0m\u001b[0;34m,\u001b[0m \u001b[0melement\u001b[0m\u001b[0;34m=\u001b[0m\u001b[0;34m'group'\u001b[0m\u001b[0;34m,\u001b[0m \u001b[0mname\u001b[0m\u001b[0;34m=\u001b[0m\u001b[0;32mTrue\u001b[0m\u001b[0;34m)\u001b[0m\u001b[0;34m\u001b[0m\u001b[0;34m\u001b[0m\u001b[0m\n\u001b[0;32m----> 8\u001b[0;31m \u001b[0mcharge_groups\u001b[0m \u001b[0;34m=\u001b[0m \u001b[0mmsm\u001b[0m\u001b[0;34m.\u001b[0m\u001b[0mphyschem\u001b[0m\u001b[0;34m.\u001b[0m\u001b[0mcharge\u001b[0m\u001b[0;34m(\u001b[0m\u001b[0;34m[\u001b[0m\u001b[0mmolsys\u001b[0m\u001b[0;34m,\u001b[0m \u001b[0;34m{\u001b[0m\u001b[0;34m'forcefield'\u001b[0m\u001b[0;34m:\u001b[0m\u001b[0;34m'AMBER14'\u001b[0m\u001b[0;34m}\u001b[0m\u001b[0;34m]\u001b[0m\u001b[0;34m,\u001b[0m \u001b[0melement\u001b[0m\u001b[0;34m=\u001b[0m\u001b[0;34m'group'\u001b[0m\u001b[0;34m)\u001b[0m\u001b[0;34m\u001b[0m\u001b[0;34m\u001b[0m\u001b[0m\n\u001b[0m\u001b[1;32m      9\u001b[0m \u001b[0mcheck_before\u001b[0m \u001b[0;34m=\u001b[0m \u001b[0;34m(\u001b[0m\u001b[0mn_atoms_before\u001b[0m\u001b[0;34m==\u001b[0m\u001b[0;36m40\u001b[0m \u001b[0;32mand\u001b[0m \u001b[0mnp\u001b[0m\u001b[0;34m.\u001b[0m\u001b[0mall\u001b[0m\u001b[0;34m(\u001b[0m\u001b[0mnp\u001b[0m\u001b[0;34m.\u001b[0m\u001b[0marray\u001b[0m\u001b[0;34m(\u001b[0m\u001b[0;34m[\u001b[0m\u001b[0;34m'ALA'\u001b[0m\u001b[0;34m,\u001b[0m \u001b[0;34m'VAL'\u001b[0m\u001b[0;34m,\u001b[0m \u001b[0;34m'PRO'\u001b[0m\u001b[0;34m]\u001b[0m\u001b[0;34m,\u001b[0m \u001b[0mdtype\u001b[0m\u001b[0;34m=\u001b[0m\u001b[0mobject\u001b[0m\u001b[0;34m)\u001b[0m\u001b[0;34m==\u001b[0m\u001b[0mgroups_before\u001b[0m\u001b[0;34m)\u001b[0m\u001b[0;34m)\u001b[0m\u001b[0;34m\u001b[0m\u001b[0;34m\u001b[0m\u001b[0m\n\u001b[1;32m     10\u001b[0m \u001b[0mcheck_after\u001b[0m \u001b[0;34m=\u001b[0m \u001b[0;34m(\u001b[0m\u001b[0mn_atoms_after\u001b[0m\u001b[0;34m==\u001b[0m\u001b[0;36m43\u001b[0m \u001b[0;32mand\u001b[0m \u001b[0mnp\u001b[0m\u001b[0;34m.\u001b[0m\u001b[0mall\u001b[0m\u001b[0;34m(\u001b[0m\u001b[0mnp\u001b[0m\u001b[0;34m.\u001b[0m\u001b[0marray\u001b[0m\u001b[0;34m(\u001b[0m\u001b[0;34m[\u001b[0m\u001b[0;34m'ALA'\u001b[0m\u001b[0;34m,\u001b[0m \u001b[0;34m'VAL'\u001b[0m\u001b[0;34m,\u001b[0m \u001b[0;34m'PRO'\u001b[0m\u001b[0;34m]\u001b[0m\u001b[0;34m,\u001b[0m \u001b[0mdtype\u001b[0m\u001b[0;34m=\u001b[0m\u001b[0mobject\u001b[0m\u001b[0;34m)\u001b[0m\u001b[0;34m==\u001b[0m\u001b[0mgroups_after\u001b[0m\u001b[0;34m)\u001b[0m\u001b[0;34m)\u001b[0m\u001b[0;34m\u001b[0m\u001b[0;34m\u001b[0m\u001b[0m\n",
      "\u001b[0;32m~/projects/MolSysMT/molsysmt/physchem/charge.py\u001b[0m in \u001b[0;36mcharge\u001b[0;34m(molecular_system, element, selection, definition, engine, syntaxis, check)\u001b[0m\n\u001b[1;32m     62\u001b[0m             \u001b[0;32mfrom\u001b[0m \u001b[0mopenmm\u001b[0m \u001b[0;32mimport\u001b[0m \u001b[0mNonbondedForce\u001b[0m\u001b[0;34m\u001b[0m\u001b[0;34m\u001b[0m\u001b[0m\n\u001b[1;32m     63\u001b[0m \u001b[0;34m\u001b[0m\u001b[0m\n\u001b[0;32m---> 64\u001b[0;31m             \u001b[0mopenmm_system\u001b[0m \u001b[0;34m=\u001b[0m \u001b[0mconvert\u001b[0m\u001b[0;34m(\u001b[0m\u001b[0mmolecular_system\u001b[0m\u001b[0;34m,\u001b[0m \u001b[0mto_form\u001b[0m\u001b[0;34m=\u001b[0m\u001b[0;34m'openmm.System'\u001b[0m\u001b[0;34m)\u001b[0m\u001b[0;34m\u001b[0m\u001b[0;34m\u001b[0m\u001b[0m\n\u001b[0m\u001b[1;32m     65\u001b[0m \u001b[0;34m\u001b[0m\u001b[0m\n\u001b[1;32m     66\u001b[0m             \u001b[0moutput\u001b[0m \u001b[0;34m=\u001b[0m \u001b[0;34m[\u001b[0m\u001b[0;34m]\u001b[0m\u001b[0;34m\u001b[0m\u001b[0;34m\u001b[0m\u001b[0m\n",
      "\u001b[0;32m~/projects/MolSysMT/molsysmt/basic/convert.py\u001b[0m in \u001b[0;36mconvert\u001b[0;34m(molecular_system, to_form, selection, structure_indices, syntaxis, check, **kwargs)\u001b[0m\n\u001b[1;32m    120\u001b[0m                 \u001b[0;32mif\u001b[0m \u001b[0mto_form\u001b[0m \u001b[0;32min\u001b[0m \u001b[0mdict_convert\u001b[0m\u001b[0;34m[\u001b[0m\u001b[0mfrom_form\u001b[0m\u001b[0;34m]\u001b[0m\u001b[0;34m:\u001b[0m\u001b[0;34m\u001b[0m\u001b[0;34m\u001b[0m\u001b[0m\n\u001b[1;32m    121\u001b[0m                     tmp_item = dict_convert[from_form][to_form](item, molecular_system=molecular_system, atom_indices=atom_indices,\n\u001b[0;32m--> 122\u001b[0;31m                                                                 structure_indices=structure_indices, **conversion_arguments, **kwargs)\n\u001b[0m\u001b[1;32m    123\u001b[0m         \u001b[0;32mif\u001b[0m \u001b[0mtmp_item\u001b[0m \u001b[0;32mis\u001b[0m \u001b[0;32mnot\u001b[0m \u001b[0;32mNone\u001b[0m\u001b[0;34m:\u001b[0m\u001b[0;34m\u001b[0m\u001b[0;34m\u001b[0m\u001b[0m\n\u001b[1;32m    124\u001b[0m             \u001b[0;32mbreak\u001b[0m\u001b[0;34m\u001b[0m\u001b[0;34m\u001b[0m\u001b[0m\n",
      "\u001b[0;32m~/projects/MolSysMT/molsysmt/api_forms/api_molsysmt_MolSys.py\u001b[0m in \u001b[0;36mto_openmm_System\u001b[0;34m(item, molecular_system, atom_indices, structure_indices)\u001b[0m\n\u001b[1;32m    175\u001b[0m     \u001b[0;32mfrom\u001b[0m \u001b[0mmolsysmt\u001b[0m\u001b[0;34m.\u001b[0m\u001b[0mitem\u001b[0m\u001b[0;34m.\u001b[0m\u001b[0mmolsysmt_MolSys\u001b[0m \u001b[0;32mimport\u001b[0m \u001b[0mto_openmm_System\u001b[0m \u001b[0;32mas\u001b[0m \u001b[0mmolsysmt_MolSys_to_openmm_System\u001b[0m\u001b[0;34m\u001b[0m\u001b[0;34m\u001b[0m\u001b[0m\n\u001b[1;32m    176\u001b[0m \u001b[0;34m\u001b[0m\u001b[0m\n\u001b[0;32m--> 177\u001b[0;31m     \u001b[0mtmp_item\u001b[0m \u001b[0;34m=\u001b[0m \u001b[0mmolsysmt_MolSys_to_openmm_System\u001b[0m\u001b[0;34m(\u001b[0m\u001b[0mitem\u001b[0m\u001b[0;34m,\u001b[0m \u001b[0matom_indices\u001b[0m\u001b[0;34m=\u001b[0m\u001b[0matom_indices\u001b[0m\u001b[0;34m,\u001b[0m \u001b[0mstructure_indices\u001b[0m\u001b[0;34m=\u001b[0m\u001b[0mstructure_indices\u001b[0m\u001b[0;34m,\u001b[0m \u001b[0mcheck\u001b[0m\u001b[0;34m=\u001b[0m\u001b[0;32mFalse\u001b[0m\u001b[0;34m)\u001b[0m\u001b[0;34m\u001b[0m\u001b[0;34m\u001b[0m\u001b[0m\n\u001b[0m\u001b[1;32m    178\u001b[0m \u001b[0;34m\u001b[0m\u001b[0m\n\u001b[1;32m    179\u001b[0m     \u001b[0;32mreturn\u001b[0m \u001b[0mtmp_item\u001b[0m\u001b[0;34m\u001b[0m\u001b[0;34m\u001b[0m\u001b[0m\n",
      "\u001b[0;32m~/projects/MolSysMT/molsysmt/item/molsysmt_MolSys/to_openmm_System.py\u001b[0m in \u001b[0;36mto_openmm_System\u001b[0;34m(item, atom_indices, structure_indices, check)\u001b[0m\n\u001b[1;32m     14\u001b[0m \u001b[0;34m\u001b[0m\u001b[0m\n\u001b[1;32m     15\u001b[0m     \u001b[0mtmp_item\u001b[0m \u001b[0;34m=\u001b[0m \u001b[0mto_openmm_Topology\u001b[0m\u001b[0;34m(\u001b[0m\u001b[0mitem\u001b[0m\u001b[0;34m,\u001b[0m \u001b[0matom_indices\u001b[0m\u001b[0;34m=\u001b[0m\u001b[0matom_indices\u001b[0m\u001b[0;34m,\u001b[0m \u001b[0mstructure_indices\u001b[0m\u001b[0;34m=\u001b[0m\u001b[0mstructure_indices\u001b[0m\u001b[0;34m,\u001b[0m \u001b[0mcheck\u001b[0m\u001b[0;34m=\u001b[0m\u001b[0;32mFalse\u001b[0m\u001b[0;34m)\u001b[0m\u001b[0;34m\u001b[0m\u001b[0;34m\u001b[0m\u001b[0m\n\u001b[0;32m---> 16\u001b[0;31m     \u001b[0mtmp_item\u001b[0m \u001b[0;34m=\u001b[0m \u001b[0mopenmm_Topology_to_openmm_System\u001b[0m\u001b[0;34m(\u001b[0m\u001b[0mtmp_item\u001b[0m\u001b[0;34m,\u001b[0m \u001b[0mcheck\u001b[0m\u001b[0;34m=\u001b[0m\u001b[0;32mFalse\u001b[0m\u001b[0;34m)\u001b[0m\u001b[0;34m\u001b[0m\u001b[0;34m\u001b[0m\u001b[0m\n\u001b[0m\u001b[1;32m     17\u001b[0m \u001b[0;34m\u001b[0m\u001b[0m\n\u001b[1;32m     18\u001b[0m     \u001b[0;32mreturn\u001b[0m \u001b[0mtmp_item\u001b[0m\u001b[0;34m\u001b[0m\u001b[0;34m\u001b[0m\u001b[0m\n",
      "\u001b[0;32m~/projects/MolSysMT/molsysmt/item/openmm_Topology/to_openmm_System.py\u001b[0m in \u001b[0;36mto_openmm_System\u001b[0;34m(item, atom_indices, forcefield, parameters, check)\u001b[0m\n\u001b[1;32m     24\u001b[0m     \u001b[0;31m#return tmp_item\u001b[0m\u001b[0;34m\u001b[0m\u001b[0;34m\u001b[0m\u001b[0;34m\u001b[0m\u001b[0m\n\u001b[1;32m     25\u001b[0m \u001b[0;34m\u001b[0m\u001b[0m\n\u001b[0;32m---> 26\u001b[0;31m     \u001b[0;32mraise\u001b[0m \u001b[0mNotImplementedMethodError\u001b[0m\u001b[0;34m\u001b[0m\u001b[0;34m\u001b[0m\u001b[0m\n\u001b[0m\u001b[1;32m     27\u001b[0m     \u001b[0;32mpass\u001b[0m\u001b[0;34m\u001b[0m\u001b[0;34m\u001b[0m\u001b[0m\n",
      "\u001b[0;31mNotImplementedMethodError\u001b[0m: The \"to_openmm_System\" method has not been implemented yet in the way you are using it. Check  for more information. If you still want to suggest its implementation, open a new issue in https://github.com/uibcdf/MolSysMT/issues"
     ]
    }
   ],
   "source": [
    "seq = 'AlaValPro'\n",
    "molsys = msm.build.build_peptide(seq)\n",
    "n_atoms_before =  msm.get(molsys, element='system', n_atoms=True)\n",
    "groups_before = msm.get(molsys, element='group', name=True)\n",
    "molsys = msm.build.add_missing_terminal_cappings(molsys, N_terminal=None, C_terminal=None)\n",
    "n_atoms_after =  msm.get(molsys, element='system', n_atoms=True)\n",
    "groups_after = msm.get(molsys, element='group', name=True)\n",
    "charge_groups = msm.physchem.charge([molsys, {'forcefield':'AMBER14'}], element='group')\n",
    "check_before = (n_atoms_before==40 and np.all(np.array(['ALA', 'VAL', 'PRO'], dtype=object)==groups_before))\n",
    "check_after = (n_atoms_after==43 and np.all(np.array(['ALA', 'VAL', 'PRO'], dtype=object)==groups_after))\n",
    "check_charges = np.allclose([1.0, 0.0, -1.0], msm.puw.get_value(charge_groups))"
   ]
  },
  {
   "cell_type": "code",
   "execution_count": null,
   "id": "673ba269-34cc-4f36-9908-c7b0b58f14a4",
   "metadata": {},
   "outputs": [],
   "source": []
  }
 ],
 "metadata": {
  "kernelspec": {
   "display_name": "Python 3 (ipykernel)",
   "language": "python",
   "name": "python3"
  },
  "language_info": {
   "codemirror_mode": {
    "name": "ipython",
    "version": 3
   },
   "file_extension": ".py",
   "mimetype": "text/x-python",
   "name": "python",
   "nbconvert_exporter": "python",
   "pygments_lexer": "ipython3",
   "version": "3.7.12"
  }
 },
 "nbformat": 4,
 "nbformat_minor": 5
}
