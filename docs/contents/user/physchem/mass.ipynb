{
 "cells": [
  {
   "cell_type": "code",
   "execution_count": 1,
   "metadata": {},
   "outputs": [],
   "source": [
    "%load_ext autoreload\n",
    "%autoreload 2"
   ]
  },
  {
   "cell_type": "code",
   "execution_count": 2,
   "metadata": {},
   "outputs": [
    {
     "data": {
      "application/vnd.jupyter.widget-view+json": {
       "model_id": "e4e23b6e8a6c432e853439b8a3c6e66a",
       "version_major": 2,
       "version_minor": 0
      },
      "text/plain": []
     },
     "metadata": {},
     "output_type": "display_data"
    }
   ],
   "source": [
    "import molsysmt as msm"
   ]
  },
  {
   "cell_type": "markdown",
   "metadata": {},
   "source": [
    "# Mass"
   ]
  },
  {
   "cell_type": "code",
   "execution_count": 3,
   "metadata": {},
   "outputs": [],
   "source": [
    "file_path = msm.demo_systems.files['1tcd.pdb']\n",
    "molecular_system_A = msm.convert(file_path)\n",
    "molecular_system_A = msm.remove_solvent(molecular_system_A)\n",
    "molecular_system_A = msm.add_missing_hydrogens(molecular_system_A)"
   ]
  },
  {
   "cell_type": "code",
   "execution_count": 4,
   "metadata": {},
   "outputs": [
    {
     "data": {
      "text/html": [
       "<style  type=\"text/css\" >\n",
       "</style><table id=\"T_1ea76_\" ><thead>    <tr>        <th class=\"col_heading level0 col0\" >form</th>        <th class=\"col_heading level0 col1\" >n_atoms</th>        <th class=\"col_heading level0 col2\" >n_groups</th>        <th class=\"col_heading level0 col3\" >n_components</th>        <th class=\"col_heading level0 col4\" >n_chains</th>        <th class=\"col_heading level0 col5\" >n_molecules</th>        <th class=\"col_heading level0 col6\" >n_entities</th>        <th class=\"col_heading level0 col7\" >n_proteins</th>        <th class=\"col_heading level0 col8\" >n_frames</th>    </tr></thead><tbody>\n",
       "                <tr>\n",
       "                                <td id=\"T_1ea76_row0_col0\" class=\"data row0 col0\" >molsysmt.MolSys</td>\n",
       "                        <td id=\"T_1ea76_row0_col1\" class=\"data row0 col1\" >7707</td>\n",
       "                        <td id=\"T_1ea76_row0_col2\" class=\"data row0 col2\" >497</td>\n",
       "                        <td id=\"T_1ea76_row0_col3\" class=\"data row0 col3\" >2</td>\n",
       "                        <td id=\"T_1ea76_row0_col4\" class=\"data row0 col4\" >2</td>\n",
       "                        <td id=\"T_1ea76_row0_col5\" class=\"data row0 col5\" >2</td>\n",
       "                        <td id=\"T_1ea76_row0_col6\" class=\"data row0 col6\" >2</td>\n",
       "                        <td id=\"T_1ea76_row0_col7\" class=\"data row0 col7\" >2</td>\n",
       "                        <td id=\"T_1ea76_row0_col8\" class=\"data row0 col8\" >1</td>\n",
       "            </tr>\n",
       "    </tbody></table>"
      ],
      "text/plain": [
       "<pandas.io.formats.style.Styler at 0x7f3162806710>"
      ]
     },
     "execution_count": 4,
     "metadata": {},
     "output_type": "execute_result"
    }
   ],
   "source": [
    "msm.info(molecular_system_A)"
   ]
  },
  {
   "cell_type": "code",
   "execution_count": 5,
   "metadata": {},
   "outputs": [],
   "source": [
    "molecular_system_B = msm.demo_systems.metenkephalin()\n",
    "molecular_system_B = msm.add_terminal_capping(molecular_system_B)"
   ]
  },
  {
   "cell_type": "code",
   "execution_count": 6,
   "metadata": {},
   "outputs": [],
   "source": [
    "masses = msm.physchem.mass(molecular_system_A, target='atom', selection='group_index == 2')"
   ]
  },
  {
   "cell_type": "code",
   "execution_count": 7,
   "metadata": {},
   "outputs": [
    {
     "data": {
      "text/html": [
       "<table><tbody><tr><th>Magnitude</th><td style='text-align:left;'><pre>[14.007 1.008 12.011 ... 14.007 1.008 1.008]</pre></td></tr><tr><th>Units</th><td style='text-align:left;'>unified_atomic_mass_unit</td></tr></tbody></table>"
      ],
      "text/latex": [
       "$\\begin{pmatrix}14.007 & 1.008 & 12.011 & 1.008 & 12.011 & 15.999 & 12.011 & 1.008 & 1.008 & 12.011 & 1.008 & 1.008 & 12.011 & 15.999 & 14.007 & 1.008 & 1.008\\end{pmatrix}\\ \\mathrm{unified\\_atomic\\_mass\\_unit}$"
      ],
      "text/plain": [
       "array([14.007,  1.008, 12.011, ..., 14.007,  1.008,  1.008]) <Unit('unified_atomic_mass_unit')>"
      ]
     },
     "execution_count": 7,
     "metadata": {},
     "output_type": "execute_result"
    }
   ],
   "source": [
    "masses"
   ]
  },
  {
   "cell_type": "code",
   "execution_count": 8,
   "metadata": {},
   "outputs": [],
   "source": [
    "masses = msm.physchem.mass(molecular_system_A, target='group', selection='group_index == [0,1,2]')"
   ]
  },
  {
   "cell_type": "code",
   "execution_count": 9,
   "metadata": {},
   "outputs": [
    {
     "data": {
      "text/html": [
       "<table><tbody><tr><th>Magnitude</th><td style='text-align:left;'><pre>[131.199 97.11699999999996 128.131]</pre></td></tr><tr><th>Units</th><td style='text-align:left;'>unified_atomic_mass_unit</td></tr></tbody></table>"
      ],
      "text/latex": [
       "$\\begin{pmatrix}131.199 & 97.11699999999996 & 128.131\\end{pmatrix}\\ \\mathrm{unified\\_atomic\\_mass\\_unit}$"
      ],
      "text/plain": [
       "array([131.199,  97.117, 128.131]) <Unit('unified_atomic_mass_unit')>"
      ]
     },
     "execution_count": 9,
     "metadata": {},
     "output_type": "execute_result"
    }
   ],
   "source": [
    "masses"
   ]
  },
  {
   "cell_type": "code",
   "execution_count": 10,
   "metadata": {},
   "outputs": [],
   "source": [
    "masses = msm.physchem.mass(molecular_system_A, target='component', selection='component_index==[0,1]')"
   ]
  },
  {
   "cell_type": "code",
   "execution_count": 11,
   "metadata": {},
   "outputs": [
    {
     "data": {
      "text/html": [
       "<table><tbody><tr><th>Magnitude</th><td style='text-align:left;'><pre>[27043.235999999997 27130.313999999995]</pre></td></tr><tr><th>Units</th><td style='text-align:left;'>unified_atomic_mass_unit</td></tr></tbody></table>"
      ],
      "text/latex": [
       "$\\begin{pmatrix}27043.235999999997 & 27130.313999999995\\end{pmatrix}\\ \\mathrm{unified\\_atomic\\_mass\\_unit}$"
      ],
      "text/plain": [
       "array([27043.236, 27130.314]) <Unit('unified_atomic_mass_unit')>"
      ]
     },
     "execution_count": 11,
     "metadata": {},
     "output_type": "execute_result"
    }
   ],
   "source": [
    "masses"
   ]
  },
  {
   "cell_type": "code",
   "execution_count": 12,
   "metadata": {},
   "outputs": [],
   "source": [
    "mass = msm.physchem.mass(molecular_system_A, target='system')"
   ]
  },
  {
   "cell_type": "code",
   "execution_count": 13,
   "metadata": {},
   "outputs": [
    {
     "data": {
      "text/html": [
       "54173.54999999999 unified_atomic_mass_unit"
      ],
      "text/latex": [
       "$54173.54999999999\\ \\mathrm{unified\\_atomic\\_mass\\_unit}$"
      ],
      "text/plain": [
       "54173.54999999999 <Unit('unified_atomic_mass_unit')>"
      ]
     },
     "execution_count": 13,
     "metadata": {},
     "output_type": "execute_result"
    }
   ],
   "source": [
    "mass"
   ]
  },
  {
   "cell_type": "markdown",
   "metadata": {},
   "source": [
    "Deberíamos hacer otra carpeta que se llame parameters. Con funciones para extraer magnitudes del ff o sistema parametrizado. Por ejemplo la masa pero de los parametros del sistema. Lo mismo la carga."
   ]
  },
  {
   "cell_type": "code",
   "execution_count": null,
   "metadata": {},
   "outputs": [],
   "source": [
    "file_path = msm.demo_systems.files['1tcd.pdb']\n",
    "molecular_system = msm.convert(file_path)\n",
    "msm.info(molecular_system)"
   ]
  },
  {
   "cell_type": "code",
   "execution_count": null,
   "metadata": {},
   "outputs": [],
   "source": [
    "masses = msm.physchem.get_masses(molecular_system, target = 'atom', selection = 'component_index == 0')"
   ]
  }
 ],
 "metadata": {
  "kernelspec": {
   "display_name": "Python 3 (ipykernel)",
   "language": "python",
   "name": "python3"
  },
  "language_info": {
   "codemirror_mode": {
    "name": "ipython",
    "version": 3
   },
   "file_extension": ".py",
   "mimetype": "text/x-python",
   "name": "python",
   "nbconvert_exporter": "python",
   "pygments_lexer": "ipython3",
   "version": "3.7.10"
  }
 },
 "nbformat": 4,
 "nbformat_minor": 4
}
