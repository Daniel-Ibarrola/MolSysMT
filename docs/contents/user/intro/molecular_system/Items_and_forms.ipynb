{
 "cells": [
  {
   "cell_type": "markdown",
   "id": "7b5739d0-7712-4f8b-8e4c-fa0146c6c1a3",
   "metadata": {},
   "source": [
    "# Items and forms"
   ]
  },
  {
   "cell_type": "markdown",
   "id": "cc7da1df-572c-4639-b807-db97abdd9e51",
   "metadata": {},
   "source": [
    "To be written soon."
   ]
  },
  {
   "cell_type": "code",
   "execution_count": null,
   "id": "fc6ca3e4-13d3-4f8c-8bd2-4a74e2b9e36b",
   "metadata": {},
   "outputs": [],
   "source": []
  }
 ],
 "metadata": {
  "kernelspec": {
   "display_name": "Python 3 (ipykernel)",
   "language": "python",
   "name": "python3"
  },
  "language_info": {
   "codemirror_mode": {
    "name": "ipython",
    "version": 3
   },
   "file_extension": ".py",
   "mimetype": "text/x-python",
   "name": "python",
   "nbconvert_exporter": "python",
   "pygments_lexer": "ipython3",
   "version": "3.7.12"
  }
 },
 "nbformat": 4,
 "nbformat_minor": 5
}
