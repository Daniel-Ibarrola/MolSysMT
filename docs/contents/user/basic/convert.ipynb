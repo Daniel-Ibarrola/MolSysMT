{
 "cells": [
  {
   "cell_type": "code",
   "execution_count": 1,
   "metadata": {},
   "outputs": [],
   "source": [
    "%load_ext autoreload\n",
    "%autoreload 2"
   ]
  },
  {
   "cell_type": "code",
   "execution_count": 2,
   "metadata": {},
   "outputs": [
    {
     "data": {
      "application/vnd.jupyter.widget-view+json": {
       "model_id": "abec8d28fce441678d7ece56655dbd0e",
       "version_major": 2,
       "version_minor": 0
      },
      "text/plain": []
     },
     "metadata": {},
     "output_type": "display_data"
    }
   ],
   "source": [
    "import molsysmt as msm"
   ]
  },
  {
   "cell_type": "markdown",
   "metadata": {},
   "source": [
    "# Convert\n",
    "\n",
    "The meaning of molecular system 'form', in the context of MolSysMT, has been described previously in the section XXX. There is in MolSysMT a method to convert a form into other form: `molsysmt.convert()`. This method is the keystone of this library, the hinge all other methods and tools in MolSysMT rotates on. And in addition, the joining piece connecting the pipes of your work-flow when using different python libraries.\n",
    "\n",
    "The method `molsysmt.convert()` requires at least two input arguments: the original pre-existing item in whatever form accepted by MolSysMT (see XXX), and the name of the output form: "
   ]
  },
  {
   "cell_type": "code",
   "execution_count": 3,
   "metadata": {},
   "outputs": [
    {
     "name": "stderr",
     "output_type": "stream",
     "text": [
      "/home/diego/projects/MolSysMT/molsysmt/form/mmtf_MMTFDecoder/to_molsysmt_Topology.py:34: UserWarning: The structure in the PDB has biological assemblies. There are geometrical transformations proposed in the structure. See the following issue in the source code repository: https://github.com/uibcdf/MolSysMT/issues/33\n",
      "  warnings.warn(warning_message)\n"
     ]
    }
   ],
   "source": [
    "molecular_system = msm.convert('pdb_id:1TCD', 'molsysmt.MolSys')"
   ]
  },
  {
   "cell_type": "markdown",
   "metadata": {},
   "source": [
    "The id code `1TCD` from the Protein Data Bank is converted into a native `molsysmt.MolSys` python object. At this point, you probably think that this operation can also be done with the method `molsysmt.load()`. And you are right. Actually, `molsysmt.load()` is nothing but an alias of `molsysmt.convert()`. Although redundant, a loading method was included in MolSysMT just for the sake of intuitive usability. But it could be removed from the library since `molsysmt.convert()` has the same functionality.\n",
    "\n",
    "The following cells illustrate some conversions you can do with `molsysmt.convert()`:"
   ]
  },
  {
   "cell_type": "code",
   "execution_count": 4,
   "metadata": {},
   "outputs": [
    {
     "data": {
      "text/plain": [
       "'1sux.pdb'"
      ]
     },
     "execution_count": 4,
     "metadata": {},
     "output_type": "execute_result"
    }
   ],
   "source": [
    "msm.convert('pdb_id:1SUX', '1sux.pdb') # fetching a pdb file to save it locally"
   ]
  },
  {
   "cell_type": "code",
   "execution_count": 5,
   "metadata": {},
   "outputs": [
    {
     "data": {
      "text/plain": [
       "'1sux.mmtf'"
      ]
     },
     "execution_count": 5,
     "metadata": {},
     "output_type": "execute_result"
    }
   ],
   "source": [
    "msm.convert('pdb_id:1SUX', '1sux.mmtf') # fetching an mmtf to save it locally"
   ]
  },
  {
   "cell_type": "code",
   "execution_count": 6,
   "metadata": {},
   "outputs": [],
   "source": [
    "pdb_file = msm.demo['TcTIM']['1tcd.pdb']\n",
    "molecular_system = msm.convert(pdb_file, 'mdtraj.Trajectory') # loading a pdb file as an mdtraj.Trajectory object"
   ]
  },
  {
   "cell_type": "code",
   "execution_count": 7,
   "metadata": {},
   "outputs": [],
   "source": [
    "seq_aa3 = msm.convert(molecular_system, selection='molecule_type==\"protein\"', to_form='string:aminoacids3') # converting an mdtraj.Trajectory into a sequence form"
   ]
  },
  {
   "cell_type": "code",
   "execution_count": 8,
   "metadata": {},
   "outputs": [
    {
     "data": {
      "text/plain": [
       "'LysProGlnProIleAlaAlaAlaAsnTrpLysCysAsnGlySerGluSerLeuLeuValProLeuIleGluThrLeuAsnAlaAlaThrPheAspHisAspValGlnCysValValAlaProThrPheLeuHisIleProMetThrLysAlaArgLeuThrAsnProLysPheGlnIleAlaAlaGlnAsnAlaIleThrArgSerGlyAlaPheThrGlyGluValSerLeuGlnIleLeuLysAspTyrGlyIleSerTrpValValLeuGlyHisSerGluArgArgLeuTyrTyrGlyGluThrAsnGluIleValAlaGluLysValAlaGlnAlaCysAlaAlaGlyPheHisValIleValCysValGlyGluThrAsnGluGluArgGluAlaGlyArgThrAlaAlaValValLeuThrGlnLeuAlaAlaValAlaGlnLysLeuSerLysGluAlaTrpSerArgValValIleAlaTyrGluProValTrpAlaIleGlyThrGlyLysValAlaThrProGlnGlnAlaGlnGluValHisGluLeuLeuArgArgTrpValArgSerLysLeuGlyThrAspIleAlaAlaGlnLeuArgIleLeuTyrGlyGlySerValThrAlaLysAsnAlaArgThrLeuTyrGlnMetArgAspIleAsnGlyPheLeuValGlyGlyAlaSerLeuLysProGluPheValGluIleIleGluAlaThrLysSerLysProGlnProIleAlaAlaAlaAsnTrpLysCysAsnGlySerGluSerLeuLeuValProLeuIleGluThrLeuAsnAlaAlaThrPheAspHisAspValGlnCysValValAlaProThrPheLeuHisIleProMetThrLysAlaArgLeuThrAsnProLysPheGlnIleAlaAlaGlnAsnAlaIleThrArgSerGlyAlaPheThrGlyGluValSerLeuGlnIleLeuLysAspTyrGlyIleSerTrpValValLeuGlyHisSerGluArgArgLeuTyrTyrGlyGluThrAsnGluIleValAlaGluLysValAlaGlnAlaCysAlaAlaGlyPheHisValIleValCysValGlyGluThrAsnGluGluArgGluAlaGlyArgThrAlaAlaValValLeuThrGlnLeuAlaAlaValAlaGlnLysLeuSerLysGluAlaTrpSerArgValValIleAlaTyrGluProValTrpAlaIleGlyThrGlyLysValAlaThrProGlnGlnAlaGlnGluValHisGluLeuLeuArgArgTrpValArgSerLysLeuGlyThrAspIleAlaAlaGlnLeuArgIleLeuTyrGlyGlySerValThrAlaLysAsnAlaArgThrLeuTyrGlnMetArgAspIleAsnGlyPheLeuValGlyGlyAlaSerLeuLysProGluPheValGluIleIleGluAlaThrLys'"
      ]
     },
     "execution_count": 8,
     "metadata": {},
     "output_type": "execute_result"
    }
   ],
   "source": [
    "seq_aa3"
   ]
  },
  {
   "cell_type": "markdown",
   "metadata": {},
   "source": [
    "## How to convert just a selection"
   ]
  },
  {
   "cell_type": "markdown",
   "metadata": {},
   "source": [
    "The conversion can be done over the entiry system or over a part of it. The input argument `selection` works with most of the MolSysMT methods, with `molsysmt.convert()` also. To know more about how to perform selections there is a section on this documentation entitled \"XXX\". By now, lets see some simple selections to see how it operates: "
   ]
  },
  {
   "cell_type": "code",
   "execution_count": 9,
   "metadata": {},
   "outputs": [],
   "source": [
    "pdb_file = msm.demo['TcTIM']['1tcd.pdb']\n",
    "whole_molecular_system = msm.convert(pdb_file, to_form='openmm.Topology')"
   ]
  },
  {
   "cell_type": "code",
   "execution_count": 10,
   "metadata": {},
   "outputs": [
    {
     "data": {
      "text/html": [
       "<style type=\"text/css\">\n",
       "</style>\n",
       "<table id=\"T_5aaa5_\">\n",
       "  <thead>\n",
       "    <tr>\n",
       "      <th class=\"col_heading level0 col0\" >form</th>\n",
       "      <th class=\"col_heading level0 col1\" >n_atoms</th>\n",
       "      <th class=\"col_heading level0 col2\" >n_groups</th>\n",
       "      <th class=\"col_heading level0 col3\" >n_components</th>\n",
       "      <th class=\"col_heading level0 col4\" >n_chains</th>\n",
       "      <th class=\"col_heading level0 col5\" >n_molecules</th>\n",
       "      <th class=\"col_heading level0 col6\" >n_entities</th>\n",
       "      <th class=\"col_heading level0 col7\" >n_waters</th>\n",
       "      <th class=\"col_heading level0 col8\" >n_proteins</th>\n",
       "      <th class=\"col_heading level0 col9\" >n_structures</th>\n",
       "    </tr>\n",
       "  </thead>\n",
       "  <tbody>\n",
       "    <tr>\n",
       "      <td id=\"T_5aaa5_row0_col0\" class=\"data row0 col0\" >openmm.Topology</td>\n",
       "      <td id=\"T_5aaa5_row0_col1\" class=\"data row0 col1\" >3983</td>\n",
       "      <td id=\"T_5aaa5_row0_col2\" class=\"data row0 col2\" >662</td>\n",
       "      <td id=\"T_5aaa5_row0_col3\" class=\"data row0 col3\" >167</td>\n",
       "      <td id=\"T_5aaa5_row0_col4\" class=\"data row0 col4\" >4</td>\n",
       "      <td id=\"T_5aaa5_row0_col5\" class=\"data row0 col5\" >167</td>\n",
       "      <td id=\"T_5aaa5_row0_col6\" class=\"data row0 col6\" >None</td>\n",
       "      <td id=\"T_5aaa5_row0_col7\" class=\"data row0 col7\" >165</td>\n",
       "      <td id=\"T_5aaa5_row0_col8\" class=\"data row0 col8\" >2</td>\n",
       "      <td id=\"T_5aaa5_row0_col9\" class=\"data row0 col9\" >0</td>\n",
       "    </tr>\n",
       "  </tbody>\n",
       "</table>\n"
      ],
      "text/plain": [
       "<pandas.io.formats.style.Styler at 0x7f38a6aeccd0>"
      ]
     },
     "execution_count": 10,
     "metadata": {},
     "output_type": "execute_result"
    }
   ],
   "source": [
    "msm.info(whole_molecular_system)"
   ]
  },
  {
   "cell_type": "code",
   "execution_count": 11,
   "metadata": {},
   "outputs": [],
   "source": [
    "aa = msm.convert(pdb_file, to_form='string:pdb_text')"
   ]
  },
  {
   "cell_type": "code",
   "execution_count": 12,
   "metadata": {},
   "outputs": [
    {
     "data": {
      "text/plain": [
       "'string:pdb_text'"
      ]
     },
     "execution_count": 12,
     "metadata": {},
     "output_type": "execute_result"
    }
   ],
   "source": [
    "msm.get_form(aa)"
   ]
  },
  {
   "cell_type": "code",
   "execution_count": 13,
   "metadata": {},
   "outputs": [],
   "source": [
    "molecular_system = msm.convert(pdb_file, to_form='openmm.Topology',\n",
    "                               selection='molecule_type==\"protein\"')"
   ]
  },
  {
   "cell_type": "code",
   "execution_count": 14,
   "metadata": {},
   "outputs": [
    {
     "data": {
      "text/html": [
       "<style type=\"text/css\">\n",
       "</style>\n",
       "<table id=\"T_71967_\">\n",
       "  <thead>\n",
       "    <tr>\n",
       "      <th class=\"col_heading level0 col0\" >form</th>\n",
       "      <th class=\"col_heading level0 col1\" >n_atoms</th>\n",
       "      <th class=\"col_heading level0 col2\" >n_groups</th>\n",
       "      <th class=\"col_heading level0 col3\" >n_components</th>\n",
       "      <th class=\"col_heading level0 col4\" >n_chains</th>\n",
       "      <th class=\"col_heading level0 col5\" >n_molecules</th>\n",
       "      <th class=\"col_heading level0 col6\" >n_entities</th>\n",
       "      <th class=\"col_heading level0 col7\" >n_waters</th>\n",
       "      <th class=\"col_heading level0 col8\" >n_proteins</th>\n",
       "      <th class=\"col_heading level0 col9\" >n_structures</th>\n",
       "    </tr>\n",
       "  </thead>\n",
       "  <tbody>\n",
       "    <tr>\n",
       "      <td id=\"T_71967_row0_col0\" class=\"data row0 col0\" >openmm.Topology</td>\n",
       "      <td id=\"T_71967_row0_col1\" class=\"data row0 col1\" >3983</td>\n",
       "      <td id=\"T_71967_row0_col2\" class=\"data row0 col2\" >662</td>\n",
       "      <td id=\"T_71967_row0_col3\" class=\"data row0 col3\" >167</td>\n",
       "      <td id=\"T_71967_row0_col4\" class=\"data row0 col4\" >4</td>\n",
       "      <td id=\"T_71967_row0_col5\" class=\"data row0 col5\" >167</td>\n",
       "      <td id=\"T_71967_row0_col6\" class=\"data row0 col6\" >None</td>\n",
       "      <td id=\"T_71967_row0_col7\" class=\"data row0 col7\" >165</td>\n",
       "      <td id=\"T_71967_row0_col8\" class=\"data row0 col8\" >2</td>\n",
       "      <td id=\"T_71967_row0_col9\" class=\"data row0 col9\" >0</td>\n",
       "    </tr>\n",
       "  </tbody>\n",
       "</table>\n"
      ],
      "text/plain": [
       "<pandas.io.formats.style.Styler at 0x7f393346f290>"
      ]
     },
     "execution_count": 14,
     "metadata": {},
     "output_type": "execute_result"
    }
   ],
   "source": [
    "msm.info(molecular_system)"
   ]
  },
  {
   "cell_type": "markdown",
   "metadata": {},
   "source": [
    "## How to combine multiple forms into one"
   ]
  },
  {
   "cell_type": "markdown",
   "metadata": {},
   "source": [
    "Sometimes the molecular system comes from the combination of more than a form. For example, we can have two files with topology and coordinates to be converted into an only molecular form:"
   ]
  },
  {
   "cell_type": "code",
   "execution_count": 15,
   "metadata": {},
   "outputs": [],
   "source": [
    "prmtop_file = msm.demo['pentalanine']['pentalanine.prmtop']\n",
    "inpcrd_file = msm.demo['pentalanine']['pentalanine.inpcrd']\n",
    "molecular_system = msm.convert([prmtop_file, inpcrd_file], to_form='molsysmt.MolSys')"
   ]
  },
  {
   "cell_type": "code",
   "execution_count": 16,
   "metadata": {},
   "outputs": [
    {
     "data": {
      "text/html": [
       "<style type=\"text/css\">\n",
       "</style>\n",
       "<table id=\"T_63d6f_\">\n",
       "  <thead>\n",
       "    <tr>\n",
       "      <th class=\"col_heading level0 col0\" >form</th>\n",
       "      <th class=\"col_heading level0 col1\" >n_atoms</th>\n",
       "      <th class=\"col_heading level0 col2\" >n_groups</th>\n",
       "      <th class=\"col_heading level0 col3\" >n_components</th>\n",
       "      <th class=\"col_heading level0 col4\" >n_chains</th>\n",
       "      <th class=\"col_heading level0 col5\" >n_molecules</th>\n",
       "      <th class=\"col_heading level0 col6\" >n_entities</th>\n",
       "      <th class=\"col_heading level0 col7\" >n_waters</th>\n",
       "      <th class=\"col_heading level0 col8\" >n_peptides</th>\n",
       "      <th class=\"col_heading level0 col9\" >n_structures</th>\n",
       "    </tr>\n",
       "  </thead>\n",
       "  <tbody>\n",
       "    <tr>\n",
       "      <td id=\"T_63d6f_row0_col0\" class=\"data row0 col0\" >molsysmt.MolSys</td>\n",
       "      <td id=\"T_63d6f_row0_col1\" class=\"data row0 col1\" >5207</td>\n",
       "      <td id=\"T_63d6f_row0_col2\" class=\"data row0 col2\" >1722</td>\n",
       "      <td id=\"T_63d6f_row0_col3\" class=\"data row0 col3\" >1716</td>\n",
       "      <td id=\"T_63d6f_row0_col4\" class=\"data row0 col4\" >1</td>\n",
       "      <td id=\"T_63d6f_row0_col5\" class=\"data row0 col5\" >1716</td>\n",
       "      <td id=\"T_63d6f_row0_col6\" class=\"data row0 col6\" >2</td>\n",
       "      <td id=\"T_63d6f_row0_col7\" class=\"data row0 col7\" >1715</td>\n",
       "      <td id=\"T_63d6f_row0_col8\" class=\"data row0 col8\" >1</td>\n",
       "      <td id=\"T_63d6f_row0_col9\" class=\"data row0 col9\" >1</td>\n",
       "    </tr>\n",
       "  </tbody>\n",
       "</table>\n"
      ],
      "text/plain": [
       "<pandas.io.formats.style.Styler at 0x7f3922d45b50>"
      ]
     },
     "execution_count": 16,
     "metadata": {},
     "output_type": "execute_result"
    }
   ],
   "source": [
    "msm.info(molecular_system)"
   ]
  },
  {
   "cell_type": "markdown",
   "metadata": {},
   "source": [
    "## How to convert a form into multiple ones at once"
   ]
  },
  {
   "cell_type": "markdown",
   "metadata": {},
   "source": [
    "In the previous section the way to convert multiple forms into one was illustrated. Lets see now how to produce more than an output form in just a single line:"
   ]
  },
  {
   "cell_type": "code",
   "execution_count": 17,
   "metadata": {},
   "outputs": [],
   "source": [
    "h5_file = msm.demo['pentalanine']['traj.h5']\n",
    "topology, structures = msm.convert(h5_file, to_form=['molsysmt.Topology','molsysmt.Structures'])"
   ]
  },
  {
   "cell_type": "code",
   "execution_count": 18,
   "metadata": {},
   "outputs": [
    {
     "data": {
      "text/html": [
       "<style type=\"text/css\">\n",
       "</style>\n",
       "<table id=\"T_8de36_\">\n",
       "  <thead>\n",
       "    <tr>\n",
       "      <th class=\"col_heading level0 col0\" >form</th>\n",
       "      <th class=\"col_heading level0 col1\" >n_atoms</th>\n",
       "      <th class=\"col_heading level0 col2\" >n_groups</th>\n",
       "      <th class=\"col_heading level0 col3\" >n_components</th>\n",
       "      <th class=\"col_heading level0 col4\" >n_chains</th>\n",
       "      <th class=\"col_heading level0 col5\" >n_molecules</th>\n",
       "      <th class=\"col_heading level0 col6\" >n_entities</th>\n",
       "      <th class=\"col_heading level0 col7\" >n_peptides</th>\n",
       "      <th class=\"col_heading level0 col8\" >n_structures</th>\n",
       "    </tr>\n",
       "  </thead>\n",
       "  <tbody>\n",
       "    <tr>\n",
       "      <td id=\"T_8de36_row0_col0\" class=\"data row0 col0\" >molsysmt.Topology</td>\n",
       "      <td id=\"T_8de36_row0_col1\" class=\"data row0 col1\" >62</td>\n",
       "      <td id=\"T_8de36_row0_col2\" class=\"data row0 col2\" >7</td>\n",
       "      <td id=\"T_8de36_row0_col3\" class=\"data row0 col3\" >1</td>\n",
       "      <td id=\"T_8de36_row0_col4\" class=\"data row0 col4\" >1</td>\n",
       "      <td id=\"T_8de36_row0_col5\" class=\"data row0 col5\" >1</td>\n",
       "      <td id=\"T_8de36_row0_col6\" class=\"data row0 col6\" >1</td>\n",
       "      <td id=\"T_8de36_row0_col7\" class=\"data row0 col7\" >1</td>\n",
       "      <td id=\"T_8de36_row0_col8\" class=\"data row0 col8\" >None</td>\n",
       "    </tr>\n",
       "  </tbody>\n",
       "</table>\n"
      ],
      "text/plain": [
       "<pandas.io.formats.style.Styler at 0x7f39225e8e50>"
      ]
     },
     "execution_count": 18,
     "metadata": {},
     "output_type": "execute_result"
    }
   ],
   "source": [
    "msm.info(topology)"
   ]
  },
  {
   "cell_type": "code",
   "execution_count": 19,
   "metadata": {},
   "outputs": [
    {
     "data": {
      "text/html": [
       "<style type=\"text/css\">\n",
       "</style>\n",
       "<table id=\"T_818c9_\">\n",
       "  <thead>\n",
       "    <tr>\n",
       "      <th class=\"col_heading level0 col0\" >form</th>\n",
       "      <th class=\"col_heading level0 col1\" >n_atoms</th>\n",
       "      <th class=\"col_heading level0 col2\" >n_groups</th>\n",
       "      <th class=\"col_heading level0 col3\" >n_components</th>\n",
       "      <th class=\"col_heading level0 col4\" >n_chains</th>\n",
       "      <th class=\"col_heading level0 col5\" >n_molecules</th>\n",
       "      <th class=\"col_heading level0 col6\" >n_entities</th>\n",
       "      <th class=\"col_heading level0 col7\" >n_structures</th>\n",
       "    </tr>\n",
       "  </thead>\n",
       "  <tbody>\n",
       "    <tr>\n",
       "      <td id=\"T_818c9_row0_col0\" class=\"data row0 col0\" >molsysmt.Structures</td>\n",
       "      <td id=\"T_818c9_row0_col1\" class=\"data row0 col1\" >62</td>\n",
       "      <td id=\"T_818c9_row0_col2\" class=\"data row0 col2\" >None</td>\n",
       "      <td id=\"T_818c9_row0_col3\" class=\"data row0 col3\" >None</td>\n",
       "      <td id=\"T_818c9_row0_col4\" class=\"data row0 col4\" >None</td>\n",
       "      <td id=\"T_818c9_row0_col5\" class=\"data row0 col5\" >None</td>\n",
       "      <td id=\"T_818c9_row0_col6\" class=\"data row0 col6\" >None</td>\n",
       "      <td id=\"T_818c9_row0_col7\" class=\"data row0 col7\" >5000</td>\n",
       "    </tr>\n",
       "  </tbody>\n",
       "</table>\n"
      ],
      "text/plain": [
       "<pandas.io.formats.style.Styler at 0x7f39225e8090>"
      ]
     },
     "execution_count": 19,
     "metadata": {},
     "output_type": "execute_result"
    }
   ],
   "source": [
    "msm.info(structures)"
   ]
  },
  {
   "cell_type": "code",
   "execution_count": 20,
   "metadata": {},
   "outputs": [
    {
     "data": {
      "text/html": [
       "<style type=\"text/css\">\n",
       "</style>\n",
       "<table id=\"T_9351e_\">\n",
       "  <thead>\n",
       "    <tr>\n",
       "      <th class=\"col_heading level0 col0\" >form</th>\n",
       "      <th class=\"col_heading level0 col1\" >n_atoms</th>\n",
       "      <th class=\"col_heading level0 col2\" >n_groups</th>\n",
       "      <th class=\"col_heading level0 col3\" >n_components</th>\n",
       "      <th class=\"col_heading level0 col4\" >n_chains</th>\n",
       "      <th class=\"col_heading level0 col5\" >n_molecules</th>\n",
       "      <th class=\"col_heading level0 col6\" >n_entities</th>\n",
       "      <th class=\"col_heading level0 col7\" >n_peptides</th>\n",
       "      <th class=\"col_heading level0 col8\" >n_structures</th>\n",
       "    </tr>\n",
       "  </thead>\n",
       "  <tbody>\n",
       "    <tr>\n",
       "      <td id=\"T_9351e_row0_col0\" class=\"data row0 col0\" >['molsysmt.Topology', 'molsysmt.Structures']</td>\n",
       "      <td id=\"T_9351e_row0_col1\" class=\"data row0 col1\" >62</td>\n",
       "      <td id=\"T_9351e_row0_col2\" class=\"data row0 col2\" >7</td>\n",
       "      <td id=\"T_9351e_row0_col3\" class=\"data row0 col3\" >1</td>\n",
       "      <td id=\"T_9351e_row0_col4\" class=\"data row0 col4\" >1</td>\n",
       "      <td id=\"T_9351e_row0_col5\" class=\"data row0 col5\" >1</td>\n",
       "      <td id=\"T_9351e_row0_col6\" class=\"data row0 col6\" >1</td>\n",
       "      <td id=\"T_9351e_row0_col7\" class=\"data row0 col7\" >1</td>\n",
       "      <td id=\"T_9351e_row0_col8\" class=\"data row0 col8\" >5000</td>\n",
       "    </tr>\n",
       "  </tbody>\n",
       "</table>\n"
      ],
      "text/plain": [
       "<pandas.io.formats.style.Styler at 0x7f39225f8a90>"
      ]
     },
     "execution_count": 20,
     "metadata": {},
     "output_type": "execute_result"
    }
   ],
   "source": [
    "msm.info([topology, structures])"
   ]
  },
  {
   "cell_type": "markdown",
   "metadata": {},
   "source": [
    "Lets now combine both forms into one to see their were properly converted:"
   ]
  },
  {
   "cell_type": "code",
   "execution_count": 21,
   "metadata": {},
   "outputs": [
    {
     "name": "stdout",
     "output_type": "stream",
     "text": [
      "REMARK   1 CREATED WITH OPENMM 7.7 BY MOLSYSMT 0+untagged.786.gd5f0f85.dirty, 2022-04-20\n",
      "CRYST1   20.000   20.000   20.000  90.00  90.00  90.00 P 1           1 \n",
      "HETATM    1  H1  ACE 0   1      -0.543  17.716   0.339  1.00  0.00           H  \n",
      "HETATM    2  CH3 ACE 0   1       0.128  18.016  -0.466  1.00  0.00           C  \n",
      "HETATM    3  H2  ACE 0   1       0.702  18.811   0.010  1.00  0.00           H  \n",
      "HETATM    4  H3  ACE 0   1      -0.534  18.283  -1.290  1.00  0.00           H  \n",
      "HETATM    5  C   ACE 0   1       1.095  16.881  -0.794  1.00  0.00           C  \n",
      "HETATM    6  O   ACE 0   1       1.119  16.351  -1.907  1.00  0.00           O  \n",
      "ATOM      7  N   ALA 0   2       2.030  16.563   0.123  1.00  0.00           N  \n",
      "ATOM      8  H   ALA 0   2       1.862  16.985   1.025  1.00  0.00           H  \n",
      "ATOM      9  CA  ALA 0   2       3.294  16.016  -0.068  1.00  0.00           C  \n",
      "ATOM     10  HA  ALA 0   2       3.448  15.867  -1.137  1.00  0.00           H  \n",
      "ATOM     11  CB  ALA 0   2       4.420  16.939   0.426  1.00  0.00           C  \n",
      "ATOM     12  HB1 ALA 0   2       4.130  17.983   0.548  1.00  0.00           H  \n",
      "ATOM     13  HB2 ALA 0   2       4.787  16.677   1.418  1.00  0.00           H  \n",
      "ATOM     14  HB3 ALA 0   2       5.125  16.819  -0.397  1.00  0.00           H  \n",
      "ATOM     15  C   ALA 0   2       3.387  14.616   0.507  1.00  0.00           C  \n",
      "ATOM     16  O   ALA 0   2       2.778  14.379   1.609  1.00  0.00           O  \n",
      "ATOM     17  N   ALA 0   3       4.246  13.737  -0.110  1.00  0.00           N  \n",
      "ATOM     18  H   ALA 0   3       4.473  13.965  -1.067  1.00  0.00           H  \n",
      "ATOM     19  CA  ALA 0   3       4.819  12.530   0.388  1.00  0.00           C  \n",
      "ATOM     20  HA  ALA 0   3       4.984  12.665   1.457  1.00  0.00           H  \n",
      "ATOM     21  CB  ALA 0   3       3.825  11.315   0.288  1.00  0.00           C  \n",
      "ATOM     22  HB1 ALA 0   3       3.003  11.617  -0.361  1.00  0.00           H  \n",
      "ATOM     23  HB2 ALA 0   3       4.317  10.378   0.027  1.00  0.00           H  \n",
      "ATOM     24  HB3 ALA 0   3       3.537  10.999   1.291  1.00  0.00           H  \n",
      "ATOM     25  C   ALA 0   3       6.089  12.014  -0.377  1.00  0.00           C  \n",
      "ATOM     26  O   ALA 0   3       6.092  12.020  -1.582  1.00  0.00           O  \n",
      "ATOM     27  N   ALA 0   4       7.107  11.550   0.415  1.00  0.00           N  \n",
      "ATOM     28  H   ALA 0   4       6.876  11.513   1.398  1.00  0.00           H  \n",
      "ATOM     29  CA  ALA 0   4       8.365  11.004  -0.130  1.00  0.00           C  \n",
      "ATOM     30  HA  ALA 0   4       8.163  10.660  -1.144  1.00  0.00           H  \n",
      "ATOM     31  CB  ALA 0   4       9.433  12.095  -0.080  1.00  0.00           C  \n",
      "ATOM     32  HB1 ALA 0   4       9.168  13.049  -0.537  1.00  0.00           H  \n",
      "ATOM     33  HB2 ALA 0   4       9.729  12.215   0.962  1.00  0.00           H  \n",
      "ATOM     34  HB3 ALA 0   4      10.313  11.799  -0.650  1.00  0.00           H  \n",
      "ATOM     35  C   ALA 0   4       8.818   9.774   0.558  1.00  0.00           C  \n",
      "ATOM     36  O   ALA 0   4       8.981   9.626   1.786  1.00  0.00           O  \n",
      "ATOM     37  N   ALA 0   5       9.185   8.808  -0.291  1.00  0.00           N  \n",
      "ATOM     38  H   ALA 0   5       9.296   8.991  -1.278  1.00  0.00           H  \n",
      "ATOM     39  CA  ALA 0   5       9.868   7.543   0.200  1.00  0.00           C  \n",
      "ATOM     40  HA  ALA 0   5      10.253   7.718   1.204  1.00  0.00           H  \n",
      "ATOM     41  CB  ALA 0   5       8.726   6.463   0.274  1.00  0.00           C  \n",
      "ATOM     42  HB1 ALA 0   5       8.019   6.908   0.973  1.00  0.00           H  \n",
      "ATOM     43  HB2 ALA 0   5       8.192   6.380  -0.673  1.00  0.00           H  \n",
      "ATOM     44  HB3 ALA 0   5       9.216   5.590   0.705  1.00  0.00           H  \n",
      "ATOM     45  C   ALA 0   5      10.900   7.033  -0.794  1.00  0.00           C  \n",
      "ATOM     46  O   ALA 0   5      10.584   6.766  -1.933  1.00  0.00           O  \n",
      "ATOM     47  N   ALA 0   6      12.118   6.804  -0.309  1.00  0.00           N  \n",
      "ATOM     48  H   ALA 0   6      12.260   7.172   0.620  1.00  0.00           H  \n",
      "ATOM     49  CA  ALA 0   6      13.247   6.357  -1.150  1.00  0.00           C  \n",
      "ATOM     50  HA  ALA 0   6      13.000   5.465  -1.727  1.00  0.00           H  \n",
      "ATOM     51  CB  ALA 0   6      13.567   7.445  -2.131  1.00  0.00           C  \n",
      "ATOM     52  HB1 ALA 0   6      12.832   7.534  -2.932  1.00  0.00           H  \n",
      "ATOM     53  HB2 ALA 0   6      13.491   8.394  -1.601  1.00  0.00           H  \n",
      "ATOM     54  HB3 ALA 0   6      14.518   7.285  -2.640  1.00  0.00           H  \n",
      "ATOM     55  C   ALA 0   6      14.507   6.042  -0.296  1.00  0.00           C  \n",
      "ATOM     56  O   ALA 0   6      14.522   6.407   0.855  1.00  0.00           O  \n",
      "HETATM   57  N   NME 0   7      15.520   5.286  -0.870  1.00  0.00           N  \n",
      "HETATM   58  H   NME 0   7      15.492   5.034  -1.848  1.00  0.00           H  \n",
      "HETATM   59  C   NME 0   7      16.685   4.819  -0.080  1.00  0.00           C  \n",
      "HETATM   60  H1  NME 0   7      16.723   3.732  -0.014  1.00  0.00           H  \n",
      "HETATM   61  H2  NME 0   7      17.601   5.184  -0.544  1.00  0.00           H  \n",
      "HETATM   62  H3  NME 0   7      16.676   5.227   0.931  1.00  0.00           H  \n",
      "TER      63      NME 0   7\n",
      "CONECT    1    2\n",
      "CONECT    2    3    4    1    5\n",
      "CONECT    3    2\n",
      "CONECT    4    2\n",
      "CONECT    5    6    7    2\n",
      "CONECT    6    5\n",
      "CONECT    7    5\n",
      "CONECT   55   57\n",
      "CONECT   57   58   55   59\n",
      "CONECT   58   57\n",
      "CONECT   59   60   61   62   57\n",
      "CONECT   60   59\n",
      "CONECT   61   59\n",
      "CONECT   62   59\n",
      "END\n",
      "\n"
     ]
    }
   ],
   "source": [
    "pdb_string = msm.convert([topology, structures], to_form='string:pdb_text', structure_indices=1000)\n",
    "print(pdb_string)"
   ]
  },
  {
   "cell_type": "markdown",
   "metadata": {},
   "source": [
    "## Some examples with files"
   ]
  },
  {
   "cell_type": "code",
   "execution_count": 22,
   "metadata": {},
   "outputs": [
    {
     "name": "stderr",
     "output_type": "stream",
     "text": [
      "Warning: importing 'simtk.openmm' is deprecated.  Import 'openmm' instead.\n"
     ]
    }
   ],
   "source": [
    "PDB_file = msm.demo['TcTIM']['1tcd.pdb']\n",
    "system_pdbfixer = msm.convert(PDB_file, to_form='pdbfixer.PDBFixer')\n",
    "system_parmed = msm.convert(PDB_file, to_form='parmed.Structure')"
   ]
  },
  {
   "cell_type": "code",
   "execution_count": 23,
   "metadata": {},
   "outputs": [],
   "source": [
    "MOL2_file = msm.demo['caffeine']['caffeine.mol2']\n",
    "system_openmm = msm.convert(MOL2_file, to_form='openmm.Modeller')\n",
    "system_mdtraj = msm.convert(MOL2_file, to_form='mdtraj.Trajectory')"
   ]
  },
  {
   "cell_type": "code",
   "execution_count": 24,
   "metadata": {},
   "outputs": [
    {
     "name": "stderr",
     "output_type": "stream",
     "text": [
      "/home/diego/projects/MolSysMT/molsysmt/form/mmtf_MMTFDecoder/to_molsysmt_Topology.py:34: UserWarning: The structure in the PDB has biological assemblies. There are geometrical transformations proposed in the structure. See the following issue in the source code repository: https://github.com/uibcdf/MolSysMT/issues/33\n",
      "  warnings.warn(warning_message)\n"
     ]
    }
   ],
   "source": [
    "MMTF_file = msm.demo['TcTIM']['1tcd.mmtf']\n",
    "system_aminoacids1_seq = msm.convert(MMTF_file, selection='molecule_type==\"protein\"', to_form='string:aminoacids1')\n",
    "system_molsys = msm.convert(MMTF_file, to_form='molsysmt.MolSys')"
   ]
  },
  {
   "cell_type": "code",
   "execution_count": 25,
   "metadata": {},
   "outputs": [
    {
     "name": "stdout",
     "output_type": "stream",
     "text": [
      "Form of object system_pdbfixer:  pdbfixer.PDBFixer\n",
      "Form of object system_parmed:  parmed.Structure\n",
      "Form of object system_openmm:  openmm.Modeller\n",
      "Form of object system_mdtraj:  mdtraj.Trajectory\n",
      "Form of object system_aminoacids1_seq:  string:aminoacids1\n",
      "Form of object system_molsys:  molsysmt.MolSys\n"
     ]
    }
   ],
   "source": [
    "print('Form of object system_pdbfixer: ', msm.get_form(system_pdbfixer))\n",
    "print('Form of object system_parmed: ', msm.get_form(system_parmed))\n",
    "print('Form of object system_openmm: ', msm.get_form(system_openmm))\n",
    "print('Form of object system_mdtraj: ', msm.get_form(system_mdtraj))\n",
    "print('Form of object system_aminoacids1_seq: ', msm.get_form(system_aminoacids1_seq))\n",
    "print('Form of object system_molsys: ', msm.get_form(system_molsys))"
   ]
  },
  {
   "cell_type": "markdown",
   "metadata": {},
   "source": [
    "## Some examples with IDs"
   ]
  },
  {
   "cell_type": "code",
   "execution_count": 26,
   "metadata": {},
   "outputs": [],
   "source": [
    "molecular_system = msm.convert('pdb_id:1TCD', to_form='mdtraj.Trajectory')"
   ]
  },
  {
   "cell_type": "markdown",
   "metadata": {},
   "source": [
    "## Conversions implemented in MolSysMT"
   ]
  },
  {
   "cell_type": "code",
   "execution_count": 27,
   "metadata": {},
   "outputs": [
    {
     "data": {
      "text/html": [
       "<style type=\"text/css\">\n",
       "#T_6cf03_row0_col0, #T_6cf03_row0_col1 {\n",
       "  background-color: #C2CFB2;\n",
       "  text-align: center;\n",
       "}\n",
       "#T_6cf03_row0_col2, #T_6cf03_row0_col3 {\n",
       "  background-color: #E2856E;\n",
       "  text-align: center;\n",
       "}\n",
       "</style>\n",
       "<table id=\"T_6cf03_\">\n",
       "  <thead>\n",
       "    <tr>\n",
       "      <th class=\"blank level0\" >&nbsp;</th>\n",
       "      <th class=\"col_heading level0 col0\" >string:aminoacids1</th>\n",
       "      <th class=\"col_heading level0 col1\" >string:aminoacids3</th>\n",
       "      <th class=\"col_heading level0 col2\" >string:pdb_id</th>\n",
       "      <th class=\"col_heading level0 col3\" >string:pdb_text</th>\n",
       "    </tr>\n",
       "  </thead>\n",
       "  <tbody>\n",
       "    <tr>\n",
       "      <th id=\"T_6cf03_level0_row0\" class=\"row_heading level0 row0\" >mdtraj.Trajectory</th>\n",
       "      <td id=\"T_6cf03_row0_col0\" class=\"data row0 col0\" >True</td>\n",
       "      <td id=\"T_6cf03_row0_col1\" class=\"data row0 col1\" >True</td>\n",
       "      <td id=\"T_6cf03_row0_col2\" class=\"data row0 col2\" >False</td>\n",
       "      <td id=\"T_6cf03_row0_col3\" class=\"data row0 col3\" >False</td>\n",
       "    </tr>\n",
       "  </tbody>\n",
       "</table>\n"
      ],
      "text/plain": [
       "<pandas.io.formats.style.Styler at 0x7f3922ba8e50>"
      ]
     },
     "execution_count": 27,
     "metadata": {},
     "output_type": "execute_result"
    }
   ],
   "source": [
    "msm.help.convert(from_form='mdtraj.Trajectory', to_form_type='string')"
   ]
  },
  {
   "cell_type": "code",
   "execution_count": 28,
   "metadata": {},
   "outputs": [
    {
     "data": {
      "text/html": [
       "<style type=\"text/css\">\n",
       "#T_ebf8a_row0_col0, #T_ebf8a_row1_col0, #T_ebf8a_row2_col0, #T_ebf8a_row3_col0, #T_ebf8a_row5_col0 {\n",
       "  background-color: #E2856E;\n",
       "  text-align: center;\n",
       "}\n",
       "#T_ebf8a_row4_col0 {\n",
       "  background-color: #C2CFB2;\n",
       "  text-align: center;\n",
       "}\n",
       "</style>\n",
       "<table id=\"T_ebf8a_\">\n",
       "  <thead>\n",
       "    <tr>\n",
       "      <th class=\"blank level0\" >&nbsp;</th>\n",
       "      <th class=\"col_heading level0 col0\" >mdtraj.Trajectory</th>\n",
       "    </tr>\n",
       "  </thead>\n",
       "  <tbody>\n",
       "    <tr>\n",
       "      <th id=\"T_ebf8a_level0_row0\" class=\"row_heading level0 row0\" >file:h5</th>\n",
       "      <td id=\"T_ebf8a_row0_col0\" class=\"data row0 col0\" >False</td>\n",
       "    </tr>\n",
       "    <tr>\n",
       "      <th id=\"T_ebf8a_level0_row1\" class=\"row_heading level0 row1\" >file:inpcrd</th>\n",
       "      <td id=\"T_ebf8a_row1_col0\" class=\"data row1 col0\" >False</td>\n",
       "    </tr>\n",
       "    <tr>\n",
       "      <th id=\"T_ebf8a_level0_row2\" class=\"row_heading level0 row2\" >file:mmtf</th>\n",
       "      <td id=\"T_ebf8a_row2_col0\" class=\"data row2 col0\" >False</td>\n",
       "    </tr>\n",
       "    <tr>\n",
       "      <th id=\"T_ebf8a_level0_row3\" class=\"row_heading level0 row3\" >file:mol2</th>\n",
       "      <td id=\"T_ebf8a_row3_col0\" class=\"data row3 col0\" >False</td>\n",
       "    </tr>\n",
       "    <tr>\n",
       "      <th id=\"T_ebf8a_level0_row4\" class=\"row_heading level0 row4\" >file:pdb</th>\n",
       "      <td id=\"T_ebf8a_row4_col0\" class=\"data row4 col0\" >True</td>\n",
       "    </tr>\n",
       "    <tr>\n",
       "      <th id=\"T_ebf8a_level0_row5\" class=\"row_heading level0 row5\" >file:prmtop</th>\n",
       "      <td id=\"T_ebf8a_row5_col0\" class=\"data row5 col0\" >False</td>\n",
       "    </tr>\n",
       "  </tbody>\n",
       "</table>\n"
      ],
      "text/plain": [
       "<pandas.io.formats.style.Styler at 0x7f3908bd76d0>"
      ]
     },
     "execution_count": 28,
     "metadata": {},
     "output_type": "execute_result"
    }
   ],
   "source": [
    "msm.help.convert(from_form='mdtraj.Trajectory', to_form_type='file', as_rows='to')"
   ]
  },
  {
   "cell_type": "code",
   "execution_count": 29,
   "metadata": {},
   "outputs": [
    {
     "data": {
      "text/html": [
       "<style type=\"text/css\">\n",
       "#T_2ae61_row0_col0, #T_2ae61_row1_col0 {\n",
       "  background-color: #C2CFB2;\n",
       "  text-align: center;\n",
       "}\n",
       "#T_2ae61_row0_col1, #T_2ae61_row1_col1 {\n",
       "  background-color: #E2856E;\n",
       "  text-align: center;\n",
       "}\n",
       "</style>\n",
       "<table id=\"T_2ae61_\">\n",
       "  <thead>\n",
       "    <tr>\n",
       "      <th class=\"blank level0\" >&nbsp;</th>\n",
       "      <th class=\"col_heading level0 col0\" >mdtraj.Trajectory</th>\n",
       "      <th class=\"col_heading level0 col1\" >openmm.Topology</th>\n",
       "    </tr>\n",
       "  </thead>\n",
       "  <tbody>\n",
       "    <tr>\n",
       "      <th id=\"T_2ae61_level0_row0\" class=\"row_heading level0 row0\" >pytraj.Trajectory</th>\n",
       "      <td id=\"T_2ae61_row0_col0\" class=\"data row0 col0\" >True</td>\n",
       "      <td id=\"T_2ae61_row0_col1\" class=\"data row0 col1\" >False</td>\n",
       "    </tr>\n",
       "    <tr>\n",
       "      <th id=\"T_2ae61_level0_row1\" class=\"row_heading level0 row1\" >mdanalysis.Universe</th>\n",
       "      <td id=\"T_2ae61_row1_col0\" class=\"data row1 col0\" >True</td>\n",
       "      <td id=\"T_2ae61_row1_col1\" class=\"data row1 col1\" >False</td>\n",
       "    </tr>\n",
       "  </tbody>\n",
       "</table>\n"
      ],
      "text/plain": [
       "<pandas.io.formats.style.Styler at 0x7f3908bf5a50>"
      ]
     },
     "execution_count": 29,
     "metadata": {},
     "output_type": "execute_result"
    }
   ],
   "source": [
    "from_list=['pytraj.Trajectory','mdanalysis.Universe']\n",
    "to_list=['mdtraj.Trajectory', 'openmm.Topology']\n",
    "msm.help.convert(from_form=from_list, to_form=to_list)"
   ]
  },
  {
   "cell_type": "code",
   "execution_count": null,
   "metadata": {},
   "outputs": [],
   "source": []
  }
 ],
 "metadata": {
  "kernelspec": {
   "display_name": "Python 3 (ipykernel)",
   "language": "python",
   "name": "python3"
  },
  "language_info": {
   "codemirror_mode": {
    "name": "ipython",
    "version": 3
   },
   "file_extension": ".py",
   "mimetype": "text/x-python",
   "name": "python",
   "nbconvert_exporter": "python",
   "pygments_lexer": "ipython3",
   "version": "3.7.12"
  }
 },
 "nbformat": 4,
 "nbformat_minor": 4
}
