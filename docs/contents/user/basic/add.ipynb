{
 "cells": [
  {
   "cell_type": "code",
   "execution_count": 1,
   "metadata": {},
   "outputs": [],
   "source": [
    "%load_ext autoreload\n",
    "%autoreload 2"
   ]
  },
  {
   "cell_type": "code",
   "execution_count": 2,
   "metadata": {},
   "outputs": [
    {
     "data": {
      "application/vnd.jupyter.widget-view+json": {
       "model_id": "fe0d853773164489872323d94ee96132",
       "version_major": 2,
       "version_minor": 0
      },
      "text/plain": []
     },
     "metadata": {},
     "output_type": "display_data"
    }
   ],
   "source": [
    "import molsysmt as msm"
   ]
  },
  {
   "cell_type": "markdown",
   "metadata": {},
   "source": [
    "# Add"
   ]
  },
  {
   "cell_type": "markdown",
   "metadata": {},
   "source": [
    "## Adding molecular systems to a given one"
   ]
  },
  {
   "cell_type": "markdown",
   "metadata": {},
   "source": [
    "Atoms or elements coming from different molecular systems can be added to a given system:"
   ]
  },
  {
   "cell_type": "code",
   "execution_count": 3,
   "metadata": {},
   "outputs": [],
   "source": [
    "molsys_A = msm.build.build_peptide(['AceProNme',{'forcefield':'AMBER14', 'implicit_solvent':'OBC1'}])\n",
    "molsys_B = msm.build.build_peptide(['AceValNme',{'forcefield':'AMBER14', 'implicit_solvent':'OBC1'}])\n",
    "molsys_C = msm.build.build_peptide(['AceLysNme',{'forcefield':'AMBER14', 'implicit_solvent':'OBC1'}])"
   ]
  },
  {
   "cell_type": "code",
   "execution_count": 4,
   "metadata": {},
   "outputs": [],
   "source": [
    "molsys_B = msm.structure.translate(molsys_B, translation='[-1.0, 0.0, 0.0] nanometers')\n",
    "molsys_C = msm.structure.translate(molsys_C, translation='[1.0, 0.0, 0.0] nanometers')"
   ]
  },
  {
   "cell_type": "code",
   "execution_count": 5,
   "metadata": {},
   "outputs": [],
   "source": [
    "msm.add(molsys_A, [molsys_B, molsys_C])"
   ]
  },
  {
   "cell_type": "code",
   "execution_count": 6,
   "metadata": {},
   "outputs": [
    {
     "data": {
      "text/html": [
       "<style type=\"text/css\">\n",
       "</style>\n",
       "<table id=\"T_6cdc5_\">\n",
       "  <thead>\n",
       "    <tr>\n",
       "      <th class=\"col_heading level0 col0\" >form</th>\n",
       "      <th class=\"col_heading level0 col1\" >n_atoms</th>\n",
       "      <th class=\"col_heading level0 col2\" >n_groups</th>\n",
       "      <th class=\"col_heading level0 col3\" >n_components</th>\n",
       "      <th class=\"col_heading level0 col4\" >n_chains</th>\n",
       "      <th class=\"col_heading level0 col5\" >n_molecules</th>\n",
       "      <th class=\"col_heading level0 col6\" >n_entities</th>\n",
       "      <th class=\"col_heading level0 col7\" >n_peptides</th>\n",
       "      <th class=\"col_heading level0 col8\" >n_structures</th>\n",
       "    </tr>\n",
       "  </thead>\n",
       "  <tbody>\n",
       "    <tr>\n",
       "      <td id=\"T_6cdc5_row0_col0\" class=\"data row0 col0\" >molsysmt.MolSys</td>\n",
       "      <td id=\"T_6cdc5_row0_col1\" class=\"data row0 col1\" >88</td>\n",
       "      <td id=\"T_6cdc5_row0_col2\" class=\"data row0 col2\" >9</td>\n",
       "      <td id=\"T_6cdc5_row0_col3\" class=\"data row0 col3\" >3</td>\n",
       "      <td id=\"T_6cdc5_row0_col4\" class=\"data row0 col4\" >3</td>\n",
       "      <td id=\"T_6cdc5_row0_col5\" class=\"data row0 col5\" >3</td>\n",
       "      <td id=\"T_6cdc5_row0_col6\" class=\"data row0 col6\" >3</td>\n",
       "      <td id=\"T_6cdc5_row0_col7\" class=\"data row0 col7\" >3</td>\n",
       "      <td id=\"T_6cdc5_row0_col8\" class=\"data row0 col8\" >1</td>\n",
       "    </tr>\n",
       "  </tbody>\n",
       "</table>\n"
      ],
      "text/plain": [
       "<pandas.io.formats.style.Styler at 0x7f7110cc1510>"
      ]
     },
     "execution_count": 6,
     "metadata": {},
     "output_type": "execute_result"
    }
   ],
   "source": [
    "msm.info(molsys_A)"
   ]
  },
  {
   "cell_type": "code",
   "execution_count": 9,
   "metadata": {},
   "outputs": [],
   "source": [
    "view = msm.view(molsys_A)"
   ]
  },
  {
   "cell_type": "code",
   "execution_count": 16,
   "metadata": {},
   "outputs": [
    {
     "ename": "ModuleNotFoundError",
     "evalue": "No module named 'molsysmt.form.openmm_PDBFile'",
     "output_type": "error",
     "traceback": [
      "\u001b[0;31m---------------------------------------------------------------------------\u001b[0m",
      "\u001b[0;31mModuleNotFoundError\u001b[0m                       Traceback (most recent call last)",
      "\u001b[0;32m/tmp/ipykernel_897336/904777228.py\u001b[0m in \u001b[0;36m<module>\u001b[0;34m\u001b[0m\n\u001b[0;32m----> 1\u001b[0;31m \u001b[0mmsm\u001b[0m\u001b[0;34m.\u001b[0m\u001b[0mview\u001b[0m\u001b[0;34m(\u001b[0m\u001b[0mmolsys_A\u001b[0m\u001b[0;34m,\u001b[0m \u001b[0mstandardize\u001b[0m\u001b[0;34m=\u001b[0m\u001b[0;32mTrue\u001b[0m\u001b[0;34m)\u001b[0m\u001b[0;34m\u001b[0m\u001b[0;34m\u001b[0m\u001b[0m\n\u001b[0m",
      "\u001b[0;32m~/projects/MolSysMT/molsysmt/basic/view.py\u001b[0m in \u001b[0;36mview\u001b[0;34m(molecular_system, viewer, selection, structure_indices, concatenate_structures, standardize, water_as_surface, syntaxis)\u001b[0m\n\u001b[1;32m     22\u001b[0m     \u001b[0;32mif\u001b[0m \u001b[0mstandardize\u001b[0m\u001b[0;34m:\u001b[0m\u001b[0;34m\u001b[0m\u001b[0;34m\u001b[0m\u001b[0m\n\u001b[1;32m     23\u001b[0m         \u001b[0;32mif\u001b[0m \u001b[0mviewer\u001b[0m\u001b[0;34m==\u001b[0m\u001b[0;34m'NGLView'\u001b[0m\u001b[0;34m:\u001b[0m\u001b[0;34m\u001b[0m\u001b[0;34m\u001b[0m\u001b[0m\n\u001b[0;32m---> 24\u001b[0;31m             \u001b[0mstandardize_view\u001b[0m\u001b[0;34m(\u001b[0m\u001b[0mtmp_item\u001b[0m\u001b[0;34m)\u001b[0m\u001b[0;34m\u001b[0m\u001b[0;34m\u001b[0m\u001b[0m\n\u001b[0m\u001b[1;32m     25\u001b[0m \u001b[0;34m\u001b[0m\u001b[0m\n\u001b[1;32m     26\u001b[0m     \u001b[0;32mif\u001b[0m \u001b[0mwater_as_surface\u001b[0m\u001b[0;34m:\u001b[0m\u001b[0;34m\u001b[0m\u001b[0;34m\u001b[0m\u001b[0m\n",
      "\u001b[0;32m~/projects/MolSysMT/molsysmt/thirds/nglview/precooked_recipes.py\u001b[0m in \u001b[0;36mstandardize_view\u001b[0;34m(view, atom_indices, structure_indices)\u001b[0m\n\u001b[1;32m     13\u001b[0m         \u001b[0mstring_atom_indices\u001b[0m \u001b[0;34m=\u001b[0m \u001b[0;34m'all'\u001b[0m\u001b[0;34m\u001b[0m\u001b[0;34m\u001b[0m\u001b[0m\n\u001b[1;32m     14\u001b[0m \u001b[0;34m\u001b[0m\u001b[0m\n\u001b[0;32m---> 15\u001b[0;31m     \u001b[0mtmp_topology\u001b[0m \u001b[0;34m=\u001b[0m \u001b[0mconvert\u001b[0m\u001b[0;34m(\u001b[0m\u001b[0mview\u001b[0m\u001b[0;34m,\u001b[0m \u001b[0mto_form\u001b[0m\u001b[0;34m=\u001b[0m\u001b[0;34m'molsysmt.Topology'\u001b[0m\u001b[0;34m)\u001b[0m\u001b[0;34m\u001b[0m\u001b[0;34m\u001b[0m\u001b[0m\n\u001b[0m\u001b[1;32m     16\u001b[0m \u001b[0;34m\u001b[0m\u001b[0m\n\u001b[1;32m     17\u001b[0m     \u001b[0msel_cartoon\u001b[0m \u001b[0;34m=\u001b[0m \u001b[0mselect\u001b[0m\u001b[0;34m(\u001b[0m\u001b[0mtmp_topology\u001b[0m\u001b[0;34m,\u001b[0m \u001b[0mselection\u001b[0m\u001b[0;34m=\u001b[0m\u001b[0;34m'molecule_type in [\"protein\", \"dna\", \"rna\"]'\u001b[0m\u001b[0;34m,\u001b[0m \u001b[0mmask\u001b[0m\u001b[0;34m=\u001b[0m\u001b[0matom_indices\u001b[0m\u001b[0;34m,\u001b[0m \u001b[0mto_syntaxis\u001b[0m\u001b[0;34m=\u001b[0m\u001b[0;34m'NGLview'\u001b[0m\u001b[0;34m)\u001b[0m\u001b[0;34m\u001b[0m\u001b[0;34m\u001b[0m\u001b[0m\n",
      "\u001b[0;32m~/projects/MolSysMT/molsysmt/basic/convert.py\u001b[0m in \u001b[0;36mconvert\u001b[0;34m(molecular_system, to_form, selection, structure_indices, syntaxis, check, **kwargs)\u001b[0m\n\u001b[1;32m    120\u001b[0m                 \u001b[0;32mif\u001b[0m \u001b[0mto_form\u001b[0m \u001b[0;32min\u001b[0m \u001b[0mdict_convert\u001b[0m\u001b[0;34m[\u001b[0m\u001b[0mfrom_form\u001b[0m\u001b[0;34m]\u001b[0m\u001b[0;34m:\u001b[0m\u001b[0;34m\u001b[0m\u001b[0;34m\u001b[0m\u001b[0m\n\u001b[1;32m    121\u001b[0m                     tmp_item = dict_convert[from_form][to_form](item, molecular_system=molecular_system, atom_indices=atom_indices,\n\u001b[0;32m--> 122\u001b[0;31m                                                                 structure_indices=structure_indices, **conversion_arguments, **kwargs)\n\u001b[0m\u001b[1;32m    123\u001b[0m         \u001b[0;32mif\u001b[0m \u001b[0mtmp_item\u001b[0m \u001b[0;32mis\u001b[0m \u001b[0;32mnot\u001b[0m \u001b[0;32mNone\u001b[0m\u001b[0;34m:\u001b[0m\u001b[0;34m\u001b[0m\u001b[0;34m\u001b[0m\u001b[0m\n\u001b[1;32m    124\u001b[0m             \u001b[0;32mbreak\u001b[0m\u001b[0;34m\u001b[0m\u001b[0;34m\u001b[0m\u001b[0m\n",
      "\u001b[0;32m~/projects/MolSysMT/molsysmt/api_forms/api_nglview_NGLWidget.py\u001b[0m in \u001b[0;36mto_molsysmt_Topology\u001b[0;34m(item, molecular_system, atom_indices, structure_indices)\u001b[0m\n\u001b[1;32m     68\u001b[0m     \u001b[0;32mfrom\u001b[0m \u001b[0mmolsysmt\u001b[0m\u001b[0;34m.\u001b[0m\u001b[0mform\u001b[0m\u001b[0;34m.\u001b[0m\u001b[0mnglview_NGLWidget\u001b[0m \u001b[0;32mimport\u001b[0m \u001b[0mto_molsysmt_Topology\u001b[0m \u001b[0;32mas\u001b[0m \u001b[0mnglview_NGLWidget_to_molsysmt_Topology\u001b[0m\u001b[0;34m\u001b[0m\u001b[0;34m\u001b[0m\u001b[0m\n\u001b[1;32m     69\u001b[0m \u001b[0;34m\u001b[0m\u001b[0m\n\u001b[0;32m---> 70\u001b[0;31m     \u001b[0mtmp_item\u001b[0m \u001b[0;34m=\u001b[0m \u001b[0mnglview_NGLWidget_to_molsysmt_Topology\u001b[0m\u001b[0;34m(\u001b[0m\u001b[0mitem\u001b[0m\u001b[0;34m,\u001b[0m \u001b[0matom_indices\u001b[0m\u001b[0;34m=\u001b[0m\u001b[0matom_indices\u001b[0m\u001b[0;34m,\u001b[0m \u001b[0mstructure_indices\u001b[0m\u001b[0;34m=\u001b[0m\u001b[0mstructure_indices\u001b[0m\u001b[0;34m,\u001b[0m \u001b[0mcheck\u001b[0m\u001b[0;34m=\u001b[0m\u001b[0;32mFalse\u001b[0m\u001b[0;34m)\u001b[0m\u001b[0;34m\u001b[0m\u001b[0;34m\u001b[0m\u001b[0m\n\u001b[0m\u001b[1;32m     71\u001b[0m \u001b[0;34m\u001b[0m\u001b[0m\n\u001b[1;32m     72\u001b[0m     \u001b[0;32mreturn\u001b[0m \u001b[0mtmp_item\u001b[0m\u001b[0;34m\u001b[0m\u001b[0;34m\u001b[0m\u001b[0m\n",
      "\u001b[0;32m~/projects/MolSysMT/molsysmt/form/nglview_NGLWidget/to_molsysmt_Topology.py\u001b[0m in \u001b[0;36mto_molsysmt_Topology\u001b[0;34m(item, atom_indices, structure_indices, check)\u001b[0m\n\u001b[1;32m     27\u001b[0m \u001b[0;34m\u001b[0m\u001b[0m\n\u001b[1;32m     28\u001b[0m     \u001b[0mtmp_item\u001b[0m \u001b[0;34m=\u001b[0m \u001b[0mto_string_pdb_text\u001b[0m\u001b[0;34m(\u001b[0m\u001b[0mitem\u001b[0m\u001b[0;34m,\u001b[0m \u001b[0matom_indices\u001b[0m\u001b[0;34m=\u001b[0m\u001b[0matom_indices\u001b[0m\u001b[0;34m,\u001b[0m \u001b[0mstructure_indices\u001b[0m\u001b[0;34m=\u001b[0m\u001b[0mstructure_indices\u001b[0m\u001b[0;34m,\u001b[0m \u001b[0mcheck\u001b[0m\u001b[0;34m=\u001b[0m\u001b[0;32mFalse\u001b[0m\u001b[0;34m)\u001b[0m\u001b[0;34m\u001b[0m\u001b[0;34m\u001b[0m\u001b[0m\n\u001b[0;32m---> 29\u001b[0;31m     \u001b[0mtmp_item\u001b[0m \u001b[0;34m=\u001b[0m \u001b[0mstring_pdb_text_to_molsysmt_Topology\u001b[0m\u001b[0;34m(\u001b[0m\u001b[0mtmp_item\u001b[0m\u001b[0;34m,\u001b[0m \u001b[0mcheck\u001b[0m\u001b[0;34m=\u001b[0m\u001b[0;32mFalse\u001b[0m\u001b[0;34m)\u001b[0m\u001b[0;34m\u001b[0m\u001b[0;34m\u001b[0m\u001b[0m\n\u001b[0m\u001b[1;32m     30\u001b[0m \u001b[0;34m\u001b[0m\u001b[0m\n\u001b[1;32m     31\u001b[0m     \u001b[0;32mreturn\u001b[0m \u001b[0mtmp_item\u001b[0m\u001b[0;34m\u001b[0m\u001b[0;34m\u001b[0m\u001b[0m\n",
      "\u001b[0;32m~/projects/MolSysMT/molsysmt/form/string_pdb_text/to_molsysmt_Topology.py\u001b[0m in \u001b[0;36mto_molsysmt_Topology\u001b[0;34m(item, atom_indices, structure_indices, check)\u001b[0m\n\u001b[1;32m     23\u001b[0m \u001b[0;34m\u001b[0m\u001b[0m\n\u001b[1;32m     24\u001b[0m     \u001b[0;32mfrom\u001b[0m \u001b[0;34m.\u001b[0m \u001b[0;32mimport\u001b[0m \u001b[0mto_openmm_PDBFile\u001b[0m\u001b[0;34m\u001b[0m\u001b[0;34m\u001b[0m\u001b[0m\n\u001b[0;32m---> 25\u001b[0;31m     \u001b[0;32mfrom\u001b[0m \u001b[0;34m.\u001b[0m\u001b[0;34m.\u001b[0m\u001b[0mopenmm_PDBFile\u001b[0m \u001b[0;32mimport\u001b[0m \u001b[0mto_molsysmt_Topology\u001b[0m \u001b[0;32mas\u001b[0m \u001b[0mopenmm_PDBFile_to_molsysmt_Topology\u001b[0m\u001b[0;34m\u001b[0m\u001b[0;34m\u001b[0m\u001b[0m\n\u001b[0m\u001b[1;32m     26\u001b[0m \u001b[0;34m\u001b[0m\u001b[0m\n\u001b[1;32m     27\u001b[0m     \u001b[0mtmp_item\u001b[0m \u001b[0;34m=\u001b[0m \u001b[0mto_openmm_PDBFile\u001b[0m\u001b[0;34m(\u001b[0m\u001b[0mitem\u001b[0m\u001b[0;34m,\u001b[0m \u001b[0mcheck\u001b[0m\u001b[0;34m=\u001b[0m\u001b[0;32mFalse\u001b[0m\u001b[0;34m)\u001b[0m\u001b[0;34m\u001b[0m\u001b[0;34m\u001b[0m\u001b[0m\n",
      "\u001b[0;31mModuleNotFoundError\u001b[0m: No module named 'molsysmt.form.openmm_PDBFile'"
     ]
    }
   ],
   "source": [
    "msm.view(molsys_A, standardize=True)"
   ]
  },
  {
   "cell_type": "markdown",
   "metadata": {},
   "source": [
    "**Implementar o Checar**: Que pasa si quiero por ejemplo hacer merge de varios sistemas moleculares descritos por varios items? Por ejemplo:\n",
    "\n",
    "msm.merge([[a.prmtop, a.inpcrd], [b.prmtop, b.inpcrd], [c.prmtop, c.inpcrd]])\n",
    "\n",
    "o \n",
    "\n",
    "msm.merge([[a.msm.topology, a.msm.trajectory], [b.msm.topology, b.msm.trajectory], [c.msm.topology, c.msm.trajectory]])"
   ]
  },
  {
   "cell_type": "code",
   "execution_count": null,
   "metadata": {},
   "outputs": [],
   "source": []
  }
 ],
 "metadata": {
  "kernelspec": {
   "display_name": "Python 3 (ipykernel)",
   "language": "python",
   "name": "python3"
  },
  "language_info": {
   "codemirror_mode": {
    "name": "ipython",
    "version": 3
   },
   "file_extension": ".py",
   "mimetype": "text/x-python",
   "name": "python",
   "nbconvert_exporter": "python",
   "pygments_lexer": "ipython3",
   "version": "3.7.12"
  }
 },
 "nbformat": 4,
 "nbformat_minor": 4
}
