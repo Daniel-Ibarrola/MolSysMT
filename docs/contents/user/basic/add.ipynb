{
 "cells": [
  {
   "cell_type": "code",
   "execution_count": 1,
   "metadata": {},
   "outputs": [],
   "source": [
    "%load_ext autoreload\n",
    "%autoreload 2"
   ]
  },
  {
   "cell_type": "code",
   "execution_count": 2,
   "metadata": {},
   "outputs": [
    {
     "data": {
      "application/vnd.jupyter.widget-view+json": {
       "model_id": "7215cbfb561b4b62a39b9d98a79f40db",
       "version_major": 2,
       "version_minor": 0
      },
      "text/plain": []
     },
     "metadata": {},
     "output_type": "display_data"
    }
   ],
   "source": [
    "import molsysmt as msm"
   ]
  },
  {
   "cell_type": "markdown",
   "metadata": {},
   "source": [
    "# Add"
   ]
  },
  {
   "cell_type": "markdown",
   "metadata": {},
   "source": [
    "## Adding molecular systems to a given one"
   ]
  },
  {
   "cell_type": "markdown",
   "metadata": {},
   "source": [
    "Atoms or elements coming from different molecular systems can be added to a given system:"
   ]
  },
  {
   "cell_type": "code",
   "execution_count": 3,
   "metadata": {},
   "outputs": [],
   "source": [
    "molsys_A = msm.build.build_peptide(['AceProNme',{'forcefield':'AMBER14', 'implicit_solvent':'OBC1'}])\n",
    "molsys_B = msm.build.build_peptide(['AceValNme',{'forcefield':'AMBER14', 'implicit_solvent':'OBC1'}])\n",
    "molsys_C = msm.build.build_peptide(['AceLysNme',{'forcefield':'AMBER14', 'implicit_solvent':'OBC1'}])"
   ]
  },
  {
   "cell_type": "code",
   "execution_count": 8,
   "metadata": {},
   "outputs": [],
   "source": [
    "molsys_B = msm.structure.translate(molsys_B, translation='[-1.0, 0.0, 0.0] nanometers')\n",
    "molsys_C = msm.structure.translate(molsys_C, translation='[1.0, 0.0, 0.0] nanometers')"
   ]
  },
  {
   "cell_type": "code",
   "execution_count": null,
   "metadata": {},
   "outputs": [],
   "source": [
    "msm.info(molsys_A)"
   ]
  },
  {
   "cell_type": "code",
   "execution_count": 9,
   "metadata": {},
   "outputs": [],
   "source": [
    "msm.add(molsys_A, [molsys_B, molsys_C])"
   ]
  },
  {
   "cell_type": "code",
   "execution_count": 13,
   "metadata": {},
   "outputs": [
    {
     "data": {
      "text/html": [
       "<style type=\"text/css\">\n",
       "</style>\n",
       "<table id=\"T_c471d_\">\n",
       "  <thead>\n",
       "    <tr>\n",
       "      <th class=\"col_heading level0 col0\" >index</th>\n",
       "      <th class=\"col_heading level0 col1\" >name</th>\n",
       "      <th class=\"col_heading level0 col2\" >type</th>\n",
       "      <th class=\"col_heading level0 col3\" >n atoms</th>\n",
       "      <th class=\"col_heading level0 col4\" >n groups</th>\n",
       "      <th class=\"col_heading level0 col5\" >n components</th>\n",
       "      <th class=\"col_heading level0 col6\" >chain index</th>\n",
       "      <th class=\"col_heading level0 col7\" >entity index</th>\n",
       "      <th class=\"col_heading level0 col8\" >entity name</th>\n",
       "    </tr>\n",
       "  </thead>\n",
       "  <tbody>\n",
       "    <tr>\n",
       "      <td id=\"T_c471d_row0_col0\" class=\"data row0 col0\" >0</td>\n",
       "      <td id=\"T_c471d_row0_col1\" class=\"data row0 col1\" >None</td>\n",
       "      <td id=\"T_c471d_row0_col2\" class=\"data row0 col2\" >peptide</td>\n",
       "      <td id=\"T_c471d_row0_col3\" class=\"data row0 col3\" >26</td>\n",
       "      <td id=\"T_c471d_row0_col4\" class=\"data row0 col4\" >3</td>\n",
       "      <td id=\"T_c471d_row0_col5\" class=\"data row0 col5\" >1</td>\n",
       "      <td id=\"T_c471d_row0_col6\" class=\"data row0 col6\" >0</td>\n",
       "      <td id=\"T_c471d_row0_col7\" class=\"data row0 col7\" >0</td>\n",
       "      <td id=\"T_c471d_row0_col8\" class=\"data row0 col8\" >Peptide_0</td>\n",
       "    </tr>\n",
       "    <tr>\n",
       "      <td id=\"T_c471d_row1_col0\" class=\"data row1 col0\" >1</td>\n",
       "      <td id=\"T_c471d_row1_col1\" class=\"data row1 col1\" >None</td>\n",
       "      <td id=\"T_c471d_row1_col2\" class=\"data row1 col2\" >peptide</td>\n",
       "      <td id=\"T_c471d_row1_col3\" class=\"data row1 col3\" >28</td>\n",
       "      <td id=\"T_c471d_row1_col4\" class=\"data row1 col4\" >3</td>\n",
       "      <td id=\"T_c471d_row1_col5\" class=\"data row1 col5\" >1</td>\n",
       "      <td id=\"T_c471d_row1_col6\" class=\"data row1 col6\" >1</td>\n",
       "      <td id=\"T_c471d_row1_col7\" class=\"data row1 col7\" >1</td>\n",
       "      <td id=\"T_c471d_row1_col8\" class=\"data row1 col8\" >Peptide_1</td>\n",
       "    </tr>\n",
       "    <tr>\n",
       "      <td id=\"T_c471d_row2_col0\" class=\"data row2 col0\" >2</td>\n",
       "      <td id=\"T_c471d_row2_col1\" class=\"data row2 col1\" >None</td>\n",
       "      <td id=\"T_c471d_row2_col2\" class=\"data row2 col2\" >peptide</td>\n",
       "      <td id=\"T_c471d_row2_col3\" class=\"data row2 col3\" >34</td>\n",
       "      <td id=\"T_c471d_row2_col4\" class=\"data row2 col4\" >3</td>\n",
       "      <td id=\"T_c471d_row2_col5\" class=\"data row2 col5\" >1</td>\n",
       "      <td id=\"T_c471d_row2_col6\" class=\"data row2 col6\" >2</td>\n",
       "      <td id=\"T_c471d_row2_col7\" class=\"data row2 col7\" >2</td>\n",
       "      <td id=\"T_c471d_row2_col8\" class=\"data row2 col8\" >Peptide_2</td>\n",
       "    </tr>\n",
       "  </tbody>\n",
       "</table>\n"
      ],
      "text/plain": [
       "<pandas.io.formats.style.Styler at 0x7ff3717b6450>"
      ]
     },
     "execution_count": 13,
     "metadata": {},
     "output_type": "execute_result"
    }
   ],
   "source": [
    "msm.info(molsys_A, element='molecule')"
   ]
  },
  {
   "cell_type": "code",
   "execution_count": 11,
   "metadata": {},
   "outputs": [
    {
     "data": {
      "application/vnd.jupyter.widget-view+json": {
       "model_id": "74f113c9b4634b2487ea30f6c6a14e5b",
       "version_major": 2,
       "version_minor": 0
      },
      "text/plain": [
       "NGLWidget()"
      ]
     },
     "metadata": {},
     "output_type": "display_data"
    }
   ],
   "source": [
    "msm.view(molsys_A, standardize=True)"
   ]
  },
  {
   "cell_type": "markdown",
   "metadata": {},
   "source": [
    "**Implementar o Checar**: Que pasa si quiero por ejemplo hacer merge de varios sistemas moleculares descritos por varios items? Por ejemplo:\n",
    "\n",
    "msm.merge([[a.prmtop, a.inpcrd], [b.prmtop, b.inpcrd], [c.prmtop, c.inpcrd]])\n",
    "\n",
    "o \n",
    "\n",
    "msm.merge([[a.msm.topology, a.msm.trajectory], [b.msm.topology, b.msm.trajectory], [c.msm.topology, c.msm.trajectory]])"
   ]
  },
  {
   "cell_type": "code",
   "execution_count": null,
   "metadata": {},
   "outputs": [],
   "source": []
  }
 ],
 "metadata": {
  "kernelspec": {
   "display_name": "Python 3 (ipykernel)",
   "language": "python",
   "name": "python3"
  },
  "language_info": {
   "codemirror_mode": {
    "name": "ipython",
    "version": 3
   },
   "file_extension": ".py",
   "mimetype": "text/x-python",
   "name": "python",
   "nbconvert_exporter": "python",
   "pygments_lexer": "ipython3",
   "version": "3.7.12"
  }
 },
 "nbformat": 4,
 "nbformat_minor": 4
}
