{
 "cells": [
  {
   "cell_type": "code",
   "execution_count": 1,
   "metadata": {},
   "outputs": [],
   "source": [
    "%load_ext autoreload\n",
    "%autoreload 2"
   ]
  },
  {
   "cell_type": "markdown",
   "metadata": {},
   "source": [
    "# Extract"
   ]
  },
  {
   "cell_type": "markdown",
   "metadata": {},
   "source": [
    "## How to extract a molecular subsystem"
   ]
  },
  {
   "cell_type": "code",
   "execution_count": 2,
   "metadata": {},
   "outputs": [
    {
     "data": {
      "application/vnd.jupyter.widget-view+json": {
       "model_id": "27319b73e2514e77af2231ae04844d70",
       "version_major": 2,
       "version_minor": 0
      },
      "text/plain": []
     },
     "metadata": {},
     "output_type": "display_data"
    }
   ],
   "source": [
    "import molsysmt as msm"
   ]
  },
  {
   "cell_type": "code",
   "execution_count": 3,
   "metadata": {},
   "outputs": [],
   "source": [
    "molecular_system = msm.convert(msm.demo['T4 lysozyme L99A']['181l.msmpk'])"
   ]
  },
  {
   "cell_type": "code",
   "execution_count": 4,
   "metadata": {},
   "outputs": [
    {
     "data": {
      "text/html": [
       "<style type=\"text/css\">\n",
       "</style>\n",
       "<table id=\"T_15951_\">\n",
       "  <thead>\n",
       "    <tr>\n",
       "      <th class=\"col_heading level0 col0\" >index</th>\n",
       "      <th class=\"col_heading level0 col1\" >name</th>\n",
       "      <th class=\"col_heading level0 col2\" >type</th>\n",
       "      <th class=\"col_heading level0 col3\" >n atoms</th>\n",
       "      <th class=\"col_heading level0 col4\" >n groups</th>\n",
       "      <th class=\"col_heading level0 col5\" >n components</th>\n",
       "      <th class=\"col_heading level0 col6\" >n chains</th>\n",
       "      <th class=\"col_heading level0 col7\" >n molecules</th>\n",
       "    </tr>\n",
       "  </thead>\n",
       "  <tbody>\n",
       "    <tr>\n",
       "      <td id=\"T_15951_row0_col0\" class=\"data row0 col0\" >0</td>\n",
       "      <td id=\"T_15951_row0_col1\" class=\"data row0 col1\" >T4 lysozyme</td>\n",
       "      <td id=\"T_15951_row0_col2\" class=\"data row0 col2\" >protein</td>\n",
       "      <td id=\"T_15951_row0_col3\" class=\"data row0 col3\" >1289</td>\n",
       "      <td id=\"T_15951_row0_col4\" class=\"data row0 col4\" >162</td>\n",
       "      <td id=\"T_15951_row0_col5\" class=\"data row0 col5\" >1</td>\n",
       "      <td id=\"T_15951_row0_col6\" class=\"data row0 col6\" >1</td>\n",
       "      <td id=\"T_15951_row0_col7\" class=\"data row0 col7\" >1</td>\n",
       "    </tr>\n",
       "    <tr>\n",
       "      <td id=\"T_15951_row1_col0\" class=\"data row1 col0\" >1</td>\n",
       "      <td id=\"T_15951_row1_col1\" class=\"data row1 col1\" >CHLORIDE ION</td>\n",
       "      <td id=\"T_15951_row1_col2\" class=\"data row1 col2\" >ion</td>\n",
       "      <td id=\"T_15951_row1_col3\" class=\"data row1 col3\" >2</td>\n",
       "      <td id=\"T_15951_row1_col4\" class=\"data row1 col4\" >2</td>\n",
       "      <td id=\"T_15951_row1_col5\" class=\"data row1 col5\" >2</td>\n",
       "      <td id=\"T_15951_row1_col6\" class=\"data row1 col6\" >2</td>\n",
       "      <td id=\"T_15951_row1_col7\" class=\"data row1 col7\" >2</td>\n",
       "    </tr>\n",
       "    <tr>\n",
       "      <td id=\"T_15951_row2_col0\" class=\"data row2 col0\" >2</td>\n",
       "      <td id=\"T_15951_row2_col1\" class=\"data row2 col1\" >2-HYDROXYETHYL DISULFIDE</td>\n",
       "      <td id=\"T_15951_row2_col2\" class=\"data row2 col2\" >small molecule</td>\n",
       "      <td id=\"T_15951_row2_col3\" class=\"data row2 col3\" >8</td>\n",
       "      <td id=\"T_15951_row2_col4\" class=\"data row2 col4\" >1</td>\n",
       "      <td id=\"T_15951_row2_col5\" class=\"data row2 col5\" >1</td>\n",
       "      <td id=\"T_15951_row2_col6\" class=\"data row2 col6\" >1</td>\n",
       "      <td id=\"T_15951_row2_col7\" class=\"data row2 col7\" >1</td>\n",
       "    </tr>\n",
       "    <tr>\n",
       "      <td id=\"T_15951_row3_col0\" class=\"data row3 col0\" >3</td>\n",
       "      <td id=\"T_15951_row3_col1\" class=\"data row3 col1\" >BENZENE</td>\n",
       "      <td id=\"T_15951_row3_col2\" class=\"data row3 col2\" >small molecule</td>\n",
       "      <td id=\"T_15951_row3_col3\" class=\"data row3 col3\" >6</td>\n",
       "      <td id=\"T_15951_row3_col4\" class=\"data row3 col4\" >1</td>\n",
       "      <td id=\"T_15951_row3_col5\" class=\"data row3 col5\" >1</td>\n",
       "      <td id=\"T_15951_row3_col6\" class=\"data row3 col6\" >1</td>\n",
       "      <td id=\"T_15951_row3_col7\" class=\"data row3 col7\" >1</td>\n",
       "    </tr>\n",
       "    <tr>\n",
       "      <td id=\"T_15951_row4_col0\" class=\"data row4 col0\" >4</td>\n",
       "      <td id=\"T_15951_row4_col1\" class=\"data row4 col1\" >water</td>\n",
       "      <td id=\"T_15951_row4_col2\" class=\"data row4 col2\" >water</td>\n",
       "      <td id=\"T_15951_row4_col3\" class=\"data row4 col3\" >136</td>\n",
       "      <td id=\"T_15951_row4_col4\" class=\"data row4 col4\" >136</td>\n",
       "      <td id=\"T_15951_row4_col5\" class=\"data row4 col5\" >136</td>\n",
       "      <td id=\"T_15951_row4_col6\" class=\"data row4 col6\" >1</td>\n",
       "      <td id=\"T_15951_row4_col7\" class=\"data row4 col7\" >136</td>\n",
       "    </tr>\n",
       "  </tbody>\n",
       "</table>\n"
      ],
      "text/plain": [
       "<pandas.io.formats.style.Styler at 0x7f3ea4ca8210>"
      ]
     },
     "execution_count": 4,
     "metadata": {},
     "output_type": "execute_result"
    }
   ],
   "source": [
    "msm.info(molecular_system, target='entity')"
   ]
  },
  {
   "cell_type": "code",
   "execution_count": 5,
   "metadata": {},
   "outputs": [
    {
     "data": {
      "text/plain": [
       "array([1305, 1306, 1307, 1308, 1309, 1310, 1311, 1312, 1313, 1314, 1315,\n",
       "       1316, 1317, 1318, 1319, 1320, 1321, 1322, 1323, 1324, 1325, 1326,\n",
       "       1327, 1328, 1329, 1330, 1331, 1332, 1333, 1334, 1335, 1336, 1337,\n",
       "       1338, 1339, 1340, 1341, 1342, 1343, 1344, 1345, 1346, 1347, 1348,\n",
       "       1349, 1350, 1351, 1352, 1353, 1354, 1355, 1356, 1357, 1358, 1359,\n",
       "       1360, 1361, 1362, 1363, 1364, 1365, 1366, 1367, 1368, 1369, 1370,\n",
       "       1371, 1372, 1373, 1374, 1375, 1376, 1377, 1378, 1379, 1380, 1381,\n",
       "       1382, 1383, 1384, 1385, 1386, 1387, 1388, 1389, 1390, 1391, 1392,\n",
       "       1393, 1394, 1395, 1396, 1397, 1398, 1399, 1400, 1401, 1402, 1403,\n",
       "       1404, 1405, 1406, 1407, 1408, 1409, 1410, 1411, 1412, 1413, 1414,\n",
       "       1415, 1416, 1417, 1418, 1419, 1420, 1421, 1422, 1423, 1424, 1425,\n",
       "       1426, 1427, 1428, 1429, 1430, 1431, 1432, 1433, 1434, 1435, 1436,\n",
       "       1437, 1438, 1439, 1440])"
      ]
     },
     "execution_count": 5,
     "metadata": {},
     "output_type": "execute_result"
    }
   ],
   "source": [
    "msm.select(molecular_system, selection='molecule_type==\"water\"')"
   ]
  },
  {
   "cell_type": "code",
   "execution_count": 6,
   "metadata": {},
   "outputs": [],
   "source": [
    "water = msm.extract(molecular_system, selection='molecule_type==\"water\"')"
   ]
  },
  {
   "cell_type": "code",
   "execution_count": 7,
   "metadata": {},
   "outputs": [
    {
     "data": {
      "text/html": [
       "<style type=\"text/css\">\n",
       "</style>\n",
       "<table id=\"T_af516_\">\n",
       "  <thead>\n",
       "    <tr>\n",
       "      <th class=\"col_heading level0 col0\" >form</th>\n",
       "      <th class=\"col_heading level0 col1\" >n_atoms</th>\n",
       "      <th class=\"col_heading level0 col2\" >n_groups</th>\n",
       "      <th class=\"col_heading level0 col3\" >n_components</th>\n",
       "      <th class=\"col_heading level0 col4\" >n_chains</th>\n",
       "      <th class=\"col_heading level0 col5\" >n_molecules</th>\n",
       "      <th class=\"col_heading level0 col6\" >n_entities</th>\n",
       "      <th class=\"col_heading level0 col7\" >n_waters</th>\n",
       "      <th class=\"col_heading level0 col8\" >n_structures</th>\n",
       "    </tr>\n",
       "  </thead>\n",
       "  <tbody>\n",
       "    <tr>\n",
       "      <td id=\"T_af516_row0_col0\" class=\"data row0 col0\" >molsysmt.MolSys</td>\n",
       "      <td id=\"T_af516_row0_col1\" class=\"data row0 col1\" >136</td>\n",
       "      <td id=\"T_af516_row0_col2\" class=\"data row0 col2\" >136</td>\n",
       "      <td id=\"T_af516_row0_col3\" class=\"data row0 col3\" >0</td>\n",
       "      <td id=\"T_af516_row0_col4\" class=\"data row0 col4\" >1</td>\n",
       "      <td id=\"T_af516_row0_col5\" class=\"data row0 col5\" >136</td>\n",
       "      <td id=\"T_af516_row0_col6\" class=\"data row0 col6\" >1</td>\n",
       "      <td id=\"T_af516_row0_col7\" class=\"data row0 col7\" >136</td>\n",
       "      <td id=\"T_af516_row0_col8\" class=\"data row0 col8\" >1</td>\n",
       "    </tr>\n",
       "  </tbody>\n",
       "</table>\n"
      ],
      "text/plain": [
       "<pandas.io.formats.style.Styler at 0x7f3e88f81090>"
      ]
     },
     "execution_count": 7,
     "metadata": {},
     "output_type": "execute_result"
    }
   ],
   "source": [
    "msm.info(water)"
   ]
  },
  {
   "cell_type": "code",
   "execution_count": 8,
   "metadata": {},
   "outputs": [],
   "source": [
    "molsys = msm.extract(molecular_system, selection='molecule_type==[\"water\", \"protein\"]')"
   ]
  },
  {
   "cell_type": "code",
   "execution_count": 9,
   "metadata": {},
   "outputs": [
    {
     "data": {
      "text/html": [
       "<style type=\"text/css\">\n",
       "</style>\n",
       "<table id=\"T_aa6f4_\">\n",
       "  <thead>\n",
       "    <tr>\n",
       "      <th class=\"col_heading level0 col0\" >form</th>\n",
       "      <th class=\"col_heading level0 col1\" >n_atoms</th>\n",
       "      <th class=\"col_heading level0 col2\" >n_groups</th>\n",
       "      <th class=\"col_heading level0 col3\" >n_components</th>\n",
       "      <th class=\"col_heading level0 col4\" >n_chains</th>\n",
       "      <th class=\"col_heading level0 col5\" >n_molecules</th>\n",
       "      <th class=\"col_heading level0 col6\" >n_entities</th>\n",
       "      <th class=\"col_heading level0 col7\" >n_waters</th>\n",
       "      <th class=\"col_heading level0 col8\" >n_proteins</th>\n",
       "      <th class=\"col_heading level0 col9\" >n_structures</th>\n",
       "    </tr>\n",
       "  </thead>\n",
       "  <tbody>\n",
       "    <tr>\n",
       "      <td id=\"T_aa6f4_row0_col0\" class=\"data row0 col0\" >molsysmt.MolSys</td>\n",
       "      <td id=\"T_aa6f4_row0_col1\" class=\"data row0 col1\" >1425</td>\n",
       "      <td id=\"T_aa6f4_row0_col2\" class=\"data row0 col2\" >298</td>\n",
       "      <td id=\"T_aa6f4_row0_col3\" class=\"data row0 col3\" >137</td>\n",
       "      <td id=\"T_aa6f4_row0_col4\" class=\"data row0 col4\" >2</td>\n",
       "      <td id=\"T_aa6f4_row0_col5\" class=\"data row0 col5\" >137</td>\n",
       "      <td id=\"T_aa6f4_row0_col6\" class=\"data row0 col6\" >2</td>\n",
       "      <td id=\"T_aa6f4_row0_col7\" class=\"data row0 col7\" >136</td>\n",
       "      <td id=\"T_aa6f4_row0_col8\" class=\"data row0 col8\" >1</td>\n",
       "      <td id=\"T_aa6f4_row0_col9\" class=\"data row0 col9\" >1</td>\n",
       "    </tr>\n",
       "  </tbody>\n",
       "</table>\n"
      ],
      "text/plain": [
       "<pandas.io.formats.style.Styler at 0x7f3e892dcb10>"
      ]
     },
     "execution_count": 9,
     "metadata": {},
     "output_type": "execute_result"
    }
   ],
   "source": [
    "msm.info(molsys)"
   ]
  },
  {
   "cell_type": "markdown",
   "metadata": {},
   "source": [
    "- Include here the extraction of files. File to files and file to other forms."
   ]
  },
  {
   "cell_type": "code",
   "execution_count": null,
   "metadata": {},
   "outputs": [],
   "source": []
  }
 ],
 "metadata": {
  "kernelspec": {
   "display_name": "Python 3 (ipykernel)",
   "language": "python",
   "name": "python3"
  },
  "language_info": {
   "codemirror_mode": {
    "name": "ipython",
    "version": 3
   },
   "file_extension": ".py",
   "mimetype": "text/x-python",
   "name": "python",
   "nbconvert_exporter": "python",
   "pygments_lexer": "ipython3",
   "version": "3.7.12"
  }
 },
 "nbformat": 4,
 "nbformat_minor": 4
}
