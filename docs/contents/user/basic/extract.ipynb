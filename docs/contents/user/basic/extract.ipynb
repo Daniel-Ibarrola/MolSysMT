{
 "cells": [
  {
   "cell_type": "code",
   "execution_count": 1,
   "metadata": {},
   "outputs": [],
   "source": [
    "%load_ext autoreload\n",
    "%autoreload 2"
   ]
  },
  {
   "cell_type": "markdown",
   "metadata": {},
   "source": [
    "# Extract"
   ]
  },
  {
   "cell_type": "markdown",
   "metadata": {},
   "source": [
    "## How to extract a molecular subsystem"
   ]
  },
  {
   "cell_type": "code",
   "execution_count": 2,
   "metadata": {},
   "outputs": [
    {
     "data": {
      "application/vnd.jupyter.widget-view+json": {
       "model_id": "da370a6c1aea4d2db26c7c4096635a90",
       "version_major": 2,
       "version_minor": 0
      },
      "text/plain": []
     },
     "metadata": {},
     "output_type": "display_data"
    }
   ],
   "source": [
    "import molsysmt as msm"
   ]
  },
  {
   "cell_type": "code",
   "execution_count": 3,
   "metadata": {},
   "outputs": [],
   "source": [
    "molecular_system = msm.convert(msm.demo['T4 lysozyme L99A']['181l.msmpk'])"
   ]
  },
  {
   "cell_type": "code",
   "execution_count": 14,
   "metadata": {},
   "outputs": [
    {
     "data": {
      "text/html": [
       "<style type=\"text/css\">\n",
       "</style>\n",
       "<table id=\"T_ba028_\">\n",
       "  <thead>\n",
       "    <tr>\n",
       "      <th class=\"col_heading level0 col0\" >form</th>\n",
       "      <th class=\"col_heading level0 col1\" >n_atoms</th>\n",
       "      <th class=\"col_heading level0 col2\" >n_groups</th>\n",
       "      <th class=\"col_heading level0 col3\" >n_components</th>\n",
       "      <th class=\"col_heading level0 col4\" >n_chains</th>\n",
       "      <th class=\"col_heading level0 col5\" >n_molecules</th>\n",
       "      <th class=\"col_heading level0 col6\" >n_entities</th>\n",
       "      <th class=\"col_heading level0 col7\" >n_waters</th>\n",
       "      <th class=\"col_heading level0 col8\" >n_ions</th>\n",
       "      <th class=\"col_heading level0 col9\" >n_small_molecules</th>\n",
       "      <th class=\"col_heading level0 col10\" >n_proteins</th>\n",
       "      <th class=\"col_heading level0 col11\" >n_structures</th>\n",
       "    </tr>\n",
       "  </thead>\n",
       "  <tbody>\n",
       "    <tr>\n",
       "      <td id=\"T_ba028_row0_col0\" class=\"data row0 col0\" >molsysmt.MolSys</td>\n",
       "      <td id=\"T_ba028_row0_col1\" class=\"data row0 col1\" >1441</td>\n",
       "      <td id=\"T_ba028_row0_col2\" class=\"data row0 col2\" >302</td>\n",
       "      <td id=\"T_ba028_row0_col3\" class=\"data row0 col3\" >141</td>\n",
       "      <td id=\"T_ba028_row0_col4\" class=\"data row0 col4\" >6</td>\n",
       "      <td id=\"T_ba028_row0_col5\" class=\"data row0 col5\" >141</td>\n",
       "      <td id=\"T_ba028_row0_col6\" class=\"data row0 col6\" >5</td>\n",
       "      <td id=\"T_ba028_row0_col7\" class=\"data row0 col7\" >136</td>\n",
       "      <td id=\"T_ba028_row0_col8\" class=\"data row0 col8\" >2</td>\n",
       "      <td id=\"T_ba028_row0_col9\" class=\"data row0 col9\" >2</td>\n",
       "      <td id=\"T_ba028_row0_col10\" class=\"data row0 col10\" >1</td>\n",
       "      <td id=\"T_ba028_row0_col11\" class=\"data row0 col11\" >1</td>\n",
       "    </tr>\n",
       "  </tbody>\n",
       "</table>\n"
      ],
      "text/plain": [
       "<pandas.io.formats.style.Styler at 0x7f5607a36710>"
      ]
     },
     "execution_count": 14,
     "metadata": {},
     "output_type": "execute_result"
    }
   ],
   "source": [
    "msm.info(molecular_system)"
   ]
  },
  {
   "cell_type": "code",
   "execution_count": 15,
   "metadata": {},
   "outputs": [],
   "source": [
    "water = msm.extract(molecular_system, selection='molecule_type==\"water\"')"
   ]
  },
  {
   "cell_type": "code",
   "execution_count": 16,
   "metadata": {},
   "outputs": [
    {
     "data": {
      "text/html": [
       "<style type=\"text/css\">\n",
       "</style>\n",
       "<table id=\"T_5262f_\">\n",
       "  <thead>\n",
       "    <tr>\n",
       "      <th class=\"col_heading level0 col0\" >form</th>\n",
       "      <th class=\"col_heading level0 col1\" >n_atoms</th>\n",
       "      <th class=\"col_heading level0 col2\" >n_groups</th>\n",
       "      <th class=\"col_heading level0 col3\" >n_components</th>\n",
       "      <th class=\"col_heading level0 col4\" >n_chains</th>\n",
       "      <th class=\"col_heading level0 col5\" >n_molecules</th>\n",
       "      <th class=\"col_heading level0 col6\" >n_entities</th>\n",
       "      <th class=\"col_heading level0 col7\" >n_waters</th>\n",
       "      <th class=\"col_heading level0 col8\" >n_structures</th>\n",
       "    </tr>\n",
       "  </thead>\n",
       "  <tbody>\n",
       "    <tr>\n",
       "      <td id=\"T_5262f_row0_col0\" class=\"data row0 col0\" >molsysmt.MolSys</td>\n",
       "      <td id=\"T_5262f_row0_col1\" class=\"data row0 col1\" >136</td>\n",
       "      <td id=\"T_5262f_row0_col2\" class=\"data row0 col2\" >136</td>\n",
       "      <td id=\"T_5262f_row0_col3\" class=\"data row0 col3\" >0</td>\n",
       "      <td id=\"T_5262f_row0_col4\" class=\"data row0 col4\" >1</td>\n",
       "      <td id=\"T_5262f_row0_col5\" class=\"data row0 col5\" >136</td>\n",
       "      <td id=\"T_5262f_row0_col6\" class=\"data row0 col6\" >1</td>\n",
       "      <td id=\"T_5262f_row0_col7\" class=\"data row0 col7\" >136</td>\n",
       "      <td id=\"T_5262f_row0_col8\" class=\"data row0 col8\" >1</td>\n",
       "    </tr>\n",
       "  </tbody>\n",
       "</table>\n"
      ],
      "text/plain": [
       "<pandas.io.formats.style.Styler at 0x7f560c9562d0>"
      ]
     },
     "execution_count": 16,
     "metadata": {},
     "output_type": "execute_result"
    }
   ],
   "source": [
    "msm.info(water)"
   ]
  },
  {
   "cell_type": "code",
   "execution_count": 17,
   "metadata": {},
   "outputs": [],
   "source": [
    "molsys = msm.extract(molecular_system, selection='molecule_type==[\"water\", \"protein\"]')"
   ]
  },
  {
   "cell_type": "code",
   "execution_count": 18,
   "metadata": {},
   "outputs": [
    {
     "data": {
      "text/html": [
       "<style type=\"text/css\">\n",
       "</style>\n",
       "<table id=\"T_4e4a9_\">\n",
       "  <thead>\n",
       "    <tr>\n",
       "      <th class=\"col_heading level0 col0\" >form</th>\n",
       "      <th class=\"col_heading level0 col1\" >n_atoms</th>\n",
       "      <th class=\"col_heading level0 col2\" >n_groups</th>\n",
       "      <th class=\"col_heading level0 col3\" >n_components</th>\n",
       "      <th class=\"col_heading level0 col4\" >n_chains</th>\n",
       "      <th class=\"col_heading level0 col5\" >n_molecules</th>\n",
       "      <th class=\"col_heading level0 col6\" >n_entities</th>\n",
       "      <th class=\"col_heading level0 col7\" >n_waters</th>\n",
       "      <th class=\"col_heading level0 col8\" >n_proteins</th>\n",
       "      <th class=\"col_heading level0 col9\" >n_structures</th>\n",
       "    </tr>\n",
       "  </thead>\n",
       "  <tbody>\n",
       "    <tr>\n",
       "      <td id=\"T_4e4a9_row0_col0\" class=\"data row0 col0\" >molsysmt.MolSys</td>\n",
       "      <td id=\"T_4e4a9_row0_col1\" class=\"data row0 col1\" >1425</td>\n",
       "      <td id=\"T_4e4a9_row0_col2\" class=\"data row0 col2\" >298</td>\n",
       "      <td id=\"T_4e4a9_row0_col3\" class=\"data row0 col3\" >137</td>\n",
       "      <td id=\"T_4e4a9_row0_col4\" class=\"data row0 col4\" >2</td>\n",
       "      <td id=\"T_4e4a9_row0_col5\" class=\"data row0 col5\" >137</td>\n",
       "      <td id=\"T_4e4a9_row0_col6\" class=\"data row0 col6\" >2</td>\n",
       "      <td id=\"T_4e4a9_row0_col7\" class=\"data row0 col7\" >136</td>\n",
       "      <td id=\"T_4e4a9_row0_col8\" class=\"data row0 col8\" >1</td>\n",
       "      <td id=\"T_4e4a9_row0_col9\" class=\"data row0 col9\" >1</td>\n",
       "    </tr>\n",
       "  </tbody>\n",
       "</table>\n"
      ],
      "text/plain": [
       "<pandas.io.formats.style.Styler at 0x7f5607a52090>"
      ]
     },
     "execution_count": 18,
     "metadata": {},
     "output_type": "execute_result"
    }
   ],
   "source": [
    "msm.info(molsys)"
   ]
  },
  {
   "cell_type": "markdown",
   "metadata": {},
   "source": [
    "- Include here the extraction of files. File to files and file to other forms."
   ]
  },
  {
   "cell_type": "code",
   "execution_count": null,
   "metadata": {},
   "outputs": [],
   "source": []
  }
 ],
 "metadata": {
  "kernelspec": {
   "display_name": "Python 3 (ipykernel)",
   "language": "python",
   "name": "python3"
  },
  "language_info": {
   "codemirror_mode": {
    "name": "ipython",
    "version": 3
   },
   "file_extension": ".py",
   "mimetype": "text/x-python",
   "name": "python",
   "nbconvert_exporter": "python",
   "pygments_lexer": "ipython3",
   "version": "3.7.12"
  }
 },
 "nbformat": 4,
 "nbformat_minor": 4
}
