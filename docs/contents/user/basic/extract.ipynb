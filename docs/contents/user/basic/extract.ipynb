{
 "cells": [
  {
   "cell_type": "code",
   "execution_count": 1,
   "metadata": {},
   "outputs": [],
   "source": [
    "%load_ext autoreload\n",
    "%autoreload 2"
   ]
  },
  {
   "cell_type": "markdown",
   "metadata": {},
   "source": [
    "# Extract"
   ]
  },
  {
   "cell_type": "markdown",
   "metadata": {},
   "source": [
    "## How to extract a molecular subsystem"
   ]
  },
  {
   "cell_type": "code",
   "execution_count": 2,
   "metadata": {},
   "outputs": [
    {
     "data": {
      "application/vnd.jupyter.widget-view+json": {
       "model_id": "f6a2f454c9494775a79ac7a8a4a08d7b",
       "version_major": 2,
       "version_minor": 0
      },
      "text/plain": []
     },
     "metadata": {},
     "output_type": "display_data"
    }
   ],
   "source": [
    "import molsysmt as msm"
   ]
  },
  {
   "cell_type": "code",
   "execution_count": 3,
   "metadata": {},
   "outputs": [],
   "source": [
    "molecular_system = msm.convert(msm.demo['T4 lysozyme L99A']['181l.msmpk'])"
   ]
  },
  {
   "cell_type": "code",
   "execution_count": 5,
   "metadata": {},
   "outputs": [
    {
     "data": {
      "text/html": [
       "<style type=\"text/css\">\n",
       "</style>\n",
       "<table id=\"T_1ec45_\">\n",
       "  <thead>\n",
       "    <tr>\n",
       "      <th class=\"col_heading level0 col0\" >index</th>\n",
       "      <th class=\"col_heading level0 col1\" >name</th>\n",
       "      <th class=\"col_heading level0 col2\" >type</th>\n",
       "      <th class=\"col_heading level0 col3\" >n atoms</th>\n",
       "      <th class=\"col_heading level0 col4\" >n groups</th>\n",
       "      <th class=\"col_heading level0 col5\" >n components</th>\n",
       "      <th class=\"col_heading level0 col6\" >n chains</th>\n",
       "      <th class=\"col_heading level0 col7\" >n molecules</th>\n",
       "    </tr>\n",
       "  </thead>\n",
       "  <tbody>\n",
       "    <tr>\n",
       "      <td id=\"T_1ec45_row0_col0\" class=\"data row0 col0\" >0</td>\n",
       "      <td id=\"T_1ec45_row0_col1\" class=\"data row0 col1\" >T4 lysozyme</td>\n",
       "      <td id=\"T_1ec45_row0_col2\" class=\"data row0 col2\" >protein</td>\n",
       "      <td id=\"T_1ec45_row0_col3\" class=\"data row0 col3\" >1289</td>\n",
       "      <td id=\"T_1ec45_row0_col4\" class=\"data row0 col4\" >162</td>\n",
       "      <td id=\"T_1ec45_row0_col5\" class=\"data row0 col5\" >1</td>\n",
       "      <td id=\"T_1ec45_row0_col6\" class=\"data row0 col6\" >1</td>\n",
       "      <td id=\"T_1ec45_row0_col7\" class=\"data row0 col7\" >1</td>\n",
       "    </tr>\n",
       "    <tr>\n",
       "      <td id=\"T_1ec45_row1_col0\" class=\"data row1 col0\" >1</td>\n",
       "      <td id=\"T_1ec45_row1_col1\" class=\"data row1 col1\" >CHLORIDE ION</td>\n",
       "      <td id=\"T_1ec45_row1_col2\" class=\"data row1 col2\" >ion</td>\n",
       "      <td id=\"T_1ec45_row1_col3\" class=\"data row1 col3\" >2</td>\n",
       "      <td id=\"T_1ec45_row1_col4\" class=\"data row1 col4\" >2</td>\n",
       "      <td id=\"T_1ec45_row1_col5\" class=\"data row1 col5\" >2</td>\n",
       "      <td id=\"T_1ec45_row1_col6\" class=\"data row1 col6\" >2</td>\n",
       "      <td id=\"T_1ec45_row1_col7\" class=\"data row1 col7\" >2</td>\n",
       "    </tr>\n",
       "    <tr>\n",
       "      <td id=\"T_1ec45_row2_col0\" class=\"data row2 col0\" >2</td>\n",
       "      <td id=\"T_1ec45_row2_col1\" class=\"data row2 col1\" >2-HYDROXYETHYL DISULFIDE</td>\n",
       "      <td id=\"T_1ec45_row2_col2\" class=\"data row2 col2\" >small molecule</td>\n",
       "      <td id=\"T_1ec45_row2_col3\" class=\"data row2 col3\" >8</td>\n",
       "      <td id=\"T_1ec45_row2_col4\" class=\"data row2 col4\" >1</td>\n",
       "      <td id=\"T_1ec45_row2_col5\" class=\"data row2 col5\" >1</td>\n",
       "      <td id=\"T_1ec45_row2_col6\" class=\"data row2 col6\" >1</td>\n",
       "      <td id=\"T_1ec45_row2_col7\" class=\"data row2 col7\" >1</td>\n",
       "    </tr>\n",
       "    <tr>\n",
       "      <td id=\"T_1ec45_row3_col0\" class=\"data row3 col0\" >3</td>\n",
       "      <td id=\"T_1ec45_row3_col1\" class=\"data row3 col1\" >BENZENE</td>\n",
       "      <td id=\"T_1ec45_row3_col2\" class=\"data row3 col2\" >small molecule</td>\n",
       "      <td id=\"T_1ec45_row3_col3\" class=\"data row3 col3\" >6</td>\n",
       "      <td id=\"T_1ec45_row3_col4\" class=\"data row3 col4\" >1</td>\n",
       "      <td id=\"T_1ec45_row3_col5\" class=\"data row3 col5\" >1</td>\n",
       "      <td id=\"T_1ec45_row3_col6\" class=\"data row3 col6\" >1</td>\n",
       "      <td id=\"T_1ec45_row3_col7\" class=\"data row3 col7\" >1</td>\n",
       "    </tr>\n",
       "    <tr>\n",
       "      <td id=\"T_1ec45_row4_col0\" class=\"data row4 col0\" >4</td>\n",
       "      <td id=\"T_1ec45_row4_col1\" class=\"data row4 col1\" >water</td>\n",
       "      <td id=\"T_1ec45_row4_col2\" class=\"data row4 col2\" >water</td>\n",
       "      <td id=\"T_1ec45_row4_col3\" class=\"data row4 col3\" >136</td>\n",
       "      <td id=\"T_1ec45_row4_col4\" class=\"data row4 col4\" >136</td>\n",
       "      <td id=\"T_1ec45_row4_col5\" class=\"data row4 col5\" >136</td>\n",
       "      <td id=\"T_1ec45_row4_col6\" class=\"data row4 col6\" >1</td>\n",
       "      <td id=\"T_1ec45_row4_col7\" class=\"data row4 col7\" >136</td>\n",
       "    </tr>\n",
       "  </tbody>\n",
       "</table>\n"
      ],
      "text/plain": [
       "<pandas.io.formats.style.Styler at 0x7f1b23236310>"
      ]
     },
     "execution_count": 5,
     "metadata": {},
     "output_type": "execute_result"
    }
   ],
   "source": [
    "msm.info(molecular_system, element='entity')"
   ]
  },
  {
   "cell_type": "code",
   "execution_count": 6,
   "metadata": {},
   "outputs": [],
   "source": [
    "water = msm.extract(molecular_system, selection='molecule_type==\"water\"')"
   ]
  },
  {
   "cell_type": "code",
   "execution_count": 7,
   "metadata": {},
   "outputs": [
    {
     "data": {
      "text/html": [
       "<style type=\"text/css\">\n",
       "</style>\n",
       "<table id=\"T_0dbdd_\">\n",
       "  <thead>\n",
       "    <tr>\n",
       "      <th class=\"col_heading level0 col0\" >form</th>\n",
       "      <th class=\"col_heading level0 col1\" >n_atoms</th>\n",
       "      <th class=\"col_heading level0 col2\" >n_groups</th>\n",
       "      <th class=\"col_heading level0 col3\" >n_components</th>\n",
       "      <th class=\"col_heading level0 col4\" >n_chains</th>\n",
       "      <th class=\"col_heading level0 col5\" >n_molecules</th>\n",
       "      <th class=\"col_heading level0 col6\" >n_entities</th>\n",
       "      <th class=\"col_heading level0 col7\" >n_waters</th>\n",
       "      <th class=\"col_heading level0 col8\" >n_structures</th>\n",
       "    </tr>\n",
       "  </thead>\n",
       "  <tbody>\n",
       "    <tr>\n",
       "      <td id=\"T_0dbdd_row0_col0\" class=\"data row0 col0\" >molsysmt.MolSys</td>\n",
       "      <td id=\"T_0dbdd_row0_col1\" class=\"data row0 col1\" >136</td>\n",
       "      <td id=\"T_0dbdd_row0_col2\" class=\"data row0 col2\" >136</td>\n",
       "      <td id=\"T_0dbdd_row0_col3\" class=\"data row0 col3\" >0</td>\n",
       "      <td id=\"T_0dbdd_row0_col4\" class=\"data row0 col4\" >1</td>\n",
       "      <td id=\"T_0dbdd_row0_col5\" class=\"data row0 col5\" >136</td>\n",
       "      <td id=\"T_0dbdd_row0_col6\" class=\"data row0 col6\" >1</td>\n",
       "      <td id=\"T_0dbdd_row0_col7\" class=\"data row0 col7\" >136</td>\n",
       "      <td id=\"T_0dbdd_row0_col8\" class=\"data row0 col8\" >1</td>\n",
       "    </tr>\n",
       "  </tbody>\n",
       "</table>\n"
      ],
      "text/plain": [
       "<pandas.io.formats.style.Styler at 0x7f1b232cf890>"
      ]
     },
     "execution_count": 7,
     "metadata": {},
     "output_type": "execute_result"
    }
   ],
   "source": [
    "msm.info(water)"
   ]
  },
  {
   "cell_type": "code",
   "execution_count": null,
   "metadata": {},
   "outputs": [],
   "source": [
    "molsys = msm.extract(molecular_system, selection='molecule_type==[\"water\", \"protein\"]')"
   ]
  },
  {
   "cell_type": "code",
   "execution_count": null,
   "metadata": {},
   "outputs": [],
   "source": [
    "msm.info(molsys)"
   ]
  },
  {
   "cell_type": "markdown",
   "metadata": {},
   "source": [
    "- Include here the extraction of files. File to files and file to other forms."
   ]
  },
  {
   "cell_type": "code",
   "execution_count": null,
   "metadata": {},
   "outputs": [],
   "source": []
  }
 ],
 "metadata": {
  "kernelspec": {
   "display_name": "Python 3 (ipykernel)",
   "language": "python",
   "name": "python3"
  },
  "language_info": {
   "codemirror_mode": {
    "name": "ipython",
    "version": 3
   },
   "file_extension": ".py",
   "mimetype": "text/x-python",
   "name": "python",
   "nbconvert_exporter": "python",
   "pygments_lexer": "ipython3",
   "version": "3.7.12"
  }
 },
 "nbformat": 4,
 "nbformat_minor": 4
}
