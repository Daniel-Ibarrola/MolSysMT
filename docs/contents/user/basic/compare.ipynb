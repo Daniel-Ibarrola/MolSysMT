{
 "cells": [
  {
   "cell_type": "code",
   "execution_count": 1,
   "id": "a518dd5a-046f-48ea-a1e4-894f38c17ca5",
   "metadata": {},
   "outputs": [],
   "source": [
    "%load_ext autoreload\n",
    "%autoreload 2"
   ]
  },
  {
   "cell_type": "code",
   "execution_count": 2,
   "id": "6c2aefa9-fa58-4ab0-9aac-bd1dce22b58f",
   "metadata": {},
   "outputs": [
    {
     "data": {
      "application/vnd.jupyter.widget-view+json": {
       "model_id": "ca4df6c626a94614bca78db6694e0862",
       "version_major": 2,
       "version_minor": 0
      },
      "text/plain": []
     },
     "metadata": {},
     "output_type": "display_data"
    }
   ],
   "source": [
    "import molsysmt as msm"
   ]
  },
  {
   "cell_type": "markdown",
   "id": "f5d55d2e-7cbd-4680-9fc5-c71bfb10e5a9",
   "metadata": {},
   "source": [
    "# Compare"
   ]
  },
  {
   "cell_type": "code",
   "execution_count": 3,
   "id": "49b60f38-a42d-4e2f-8aa8-4d4c614cbcac",
   "metadata": {},
   "outputs": [
    {
     "name": "stderr",
     "output_type": "stream",
     "text": [
      "/home/diego/projects/MolSysMT/molsysmt/form/mmtf_MMTFDecoder/to_molsysmt_Topology.py:45: UserWarning: The structure in the PDB has biological assemblies. There are geometrical transformations proposed in the structure. See the following issue in the source code repository: https://github.com/uibcdf/MolSysMT/issues/33\n",
      "  warnings.warn(warning_message)\n"
     ]
    }
   ],
   "source": [
    "molsys_A = msm.convert('pdb_id:2LAO', to_form='openmm.Modeller')\n",
    "molsys_B = msm.convert(molsys_A, to_form='molsysmt.MolSys')\n",
    "molsys_C = msm.extract(molsys_B, selection='molecule_type==\"protein\"')"
   ]
  },
  {
   "cell_type": "markdown",
   "id": "e1d47912-46ea-44cc-a0e1-7a91bd66342b",
   "metadata": {},
   "source": [
    "## Compare 'all'"
   ]
  },
  {
   "cell_type": "code",
   "execution_count": 6,
   "id": "55300e3a-ca6e-4f85-9193-19e79ca7136a",
   "metadata": {},
   "outputs": [
    {
     "data": {
      "text/plain": [
       "array([array([   0,    1,    2, ..., 1819, 1820, 1821]), array([1822]),\n",
       "       array([1823]), array([1824]), array([1825]), array([1826]),\n",
       "       array([1827]), array([1828]), array([1829]), array([1830]),\n",
       "       array([1831]), array([1832]), array([1833]), array([1834]),\n",
       "       array([1835]), array([1836]), array([1837]), array([1838]),\n",
       "       array([1839]), array([1840]), array([1841]), array([1842]),\n",
       "       array([1843]), array([1844]), array([1845]), array([1846]),\n",
       "       array([1847]), array([1848]), array([1849]), array([1850]),\n",
       "       array([1851]), array([1852]), array([1853]), array([1854]),\n",
       "       array([1855]), array([1856]), array([1857]), array([1858]),\n",
       "       array([1859]), array([1860]), array([1861]), array([1862]),\n",
       "       array([1863]), array([1864]), array([1865]), array([1866]),\n",
       "       array([1867]), array([1868]), array([1869]), array([1870]),\n",
       "       array([1871]), array([1872]), array([1873]), array([1874]),\n",
       "       array([1875]), array([1876]), array([1877]), array([1878]),\n",
       "       array([1879]), array([1880]), array([1881]), array([1882]),\n",
       "       array([1883]), array([1884]), array([1885]), array([1886]),\n",
       "       array([1887]), array([1888]), array([1889]), array([1890]),\n",
       "       array([1891]), array([1892]), array([1893]), array([1894]),\n",
       "       array([1895]), array([1896]), array([1897]), array([1898]),\n",
       "       array([1899]), array([1900]), array([1901]), array([1902]),\n",
       "       array([1903]), array([1904]), array([1905]), array([1906]),\n",
       "       array([1907]), array([1908]), array([1909]), array([1910])],\n",
       "      dtype=object)"
      ]
     },
     "execution_count": 6,
     "metadata": {},
     "output_type": "execute_result"
    }
   ],
   "source": [
    "msm.form.openmm_Modeller.get_atom_index_from_component(molsys_A)"
   ]
  },
  {
   "cell_type": "code",
   "execution_count": 7,
   "id": "1534a077-0135-486f-9077-7256ec62261d",
   "metadata": {},
   "outputs": [
    {
     "data": {
      "text/plain": [
       "array([array([  0,   1,   2,   3,   4,   5,   6,   7,   8,   9,  10,  11,  12,\n",
       "               13,  14,  15,  16,  17,  18,  19,  20,  21,  22,  23,  24,  25,\n",
       "               26,  27,  28,  29,  30,  31,  32,  33,  34,  35,  36,  37,  38,\n",
       "               39,  40,  41,  42,  43,  44,  45,  46,  47,  48,  49,  50,  51,\n",
       "               52,  53,  54,  55,  56,  57,  58,  59,  60,  61,  62,  63,  64,\n",
       "               65,  66,  67,  68,  69,  70,  71,  72,  73,  74,  75,  76,  77,\n",
       "               78,  79,  80,  81,  82,  83,  84,  85,  86,  87,  88,  89,  90,\n",
       "               91,  92,  93,  94,  95,  96,  97,  98,  99, 100, 101, 102, 103,\n",
       "              104, 105, 106, 107, 108, 109, 110, 111, 112, 113, 114, 115, 116,\n",
       "              117, 118, 119, 120, 121, 122, 123, 124, 125, 126, 127, 128, 129,\n",
       "              130, 131, 132, 133, 134, 135, 136, 137, 138, 139, 140, 141, 142,\n",
       "              143, 144, 145, 146, 147, 148, 149, 150, 151, 152, 153, 154, 155,\n",
       "              156, 157, 158, 159, 160, 161, 162, 163, 164, 165, 166, 167, 168,\n",
       "              169, 170, 171, 172, 173, 174, 175, 176, 177, 178, 179, 180, 181,\n",
       "              182, 183, 184, 185, 186, 187, 188, 189, 190, 191, 192, 193, 194,\n",
       "              195, 196, 197, 198, 199, 200, 201, 202, 203, 204, 205, 206, 207,\n",
       "              208, 209, 210, 211, 212, 213, 214, 215, 216, 217, 218, 219, 220,\n",
       "              221, 222, 223, 224, 225, 226, 227, 228, 229, 230, 231, 232, 233,\n",
       "              234, 235, 236, 237])                                            ,\n",
       "       array([238]), array([239]), array([240]), array([241]),\n",
       "       array([242]), array([243]), array([244]), array([245]),\n",
       "       array([246]), array([247]), array([248]), array([249]),\n",
       "       array([250]), array([251]), array([252]), array([253]),\n",
       "       array([254]), array([255]), array([256]), array([257]),\n",
       "       array([258]), array([259]), array([260]), array([261]),\n",
       "       array([262]), array([263]), array([264]), array([265]),\n",
       "       array([266]), array([267]), array([268]), array([269]),\n",
       "       array([270]), array([271]), array([272]), array([273]),\n",
       "       array([274]), array([275]), array([276]), array([277]),\n",
       "       array([278]), array([279]), array([280]), array([281]),\n",
       "       array([282]), array([283]), array([284]), array([285]),\n",
       "       array([286]), array([287]), array([288]), array([289]),\n",
       "       array([290]), array([291]), array([292]), array([293]),\n",
       "       array([294]), array([295]), array([296]), array([297]),\n",
       "       array([298]), array([299]), array([300]), array([301]),\n",
       "       array([302]), array([303]), array([304]), array([305]),\n",
       "       array([306]), array([307]), array([308]), array([309]),\n",
       "       array([310]), array([311]), array([312]), array([313]),\n",
       "       array([314]), array([315]), array([316]), array([317]),\n",
       "       array([318]), array([319]), array([320]), array([321]),\n",
       "       array([322]), array([323]), array([324]), array([325]),\n",
       "       array([326])], dtype=object)"
      ]
     },
     "execution_count": 7,
     "metadata": {},
     "output_type": "execute_result"
    }
   ],
   "source": [
    "msm.form.openmm_Modeller.get_group_index_from_molecule(molsys_A)"
   ]
  },
  {
   "cell_type": "code",
   "execution_count": null,
   "id": "f5bca6f9-b26b-4a17-8fa2-c503bbe36e89",
   "metadata": {},
   "outputs": [],
   "source": [
    "msm.compare(molsys_A, molsys_B, comparison='all', rule='A_eq_B')"
   ]
  },
  {
   "cell_type": "code",
   "execution_count": null,
   "id": "a5b057cf-9bc7-4ac3-8e4f-fdef4ac6ab6a",
   "metadata": {},
   "outputs": [],
   "source": [
    "msm.compare(molsys_C, molsys_B, comparison='all', rule='A_eq_B')"
   ]
  },
  {
   "cell_type": "code",
   "execution_count": null,
   "id": "4a48d678-ab15-4c87-98c6-9e4aa03c5040",
   "metadata": {},
   "outputs": [],
   "source": [
    "msm.compare(molsys_C, molsys_B, comparison='all', rule='A_eq_B', report =True)"
   ]
  },
  {
   "cell_type": "markdown",
   "id": "bd7d1289-864c-467e-b873-76ea7b124299",
   "metadata": {},
   "source": [
    "## Compare 'info'"
   ]
  },
  {
   "cell_type": "code",
   "execution_count": null,
   "id": "edc80e55-47f2-4821-9868-0adcb036afd7",
   "metadata": {},
   "outputs": [],
   "source": [
    "msm.compare(molsys_A, molsys_B, comparison='info', rule='A_eq_B')"
   ]
  },
  {
   "cell_type": "code",
   "execution_count": null,
   "id": "f3c65e6f-ed62-437d-9476-267b01d6b88f",
   "metadata": {},
   "outputs": [],
   "source": [
    "msm.compare(molsys_A, molsys_B, comparison='n_elements', rule='A_eq_B')"
   ]
  },
  {
   "cell_type": "code",
   "execution_count": null,
   "id": "8855bf83-ff19-4761-b998-8d3354a0093f",
   "metadata": {},
   "outputs": [],
   "source": [
    "msm.compare(molsys_A, molsys_B, comparison='n_molecules', rule='A_eq_B')"
   ]
  },
  {
   "cell_type": "code",
   "execution_count": null,
   "id": "53621cf4-620e-410b-8e5d-395aaab116a3",
   "metadata": {},
   "outputs": [],
   "source": [
    "msm.compare(molsys_A, molsys_B, comparison='n_frames', rule='A_eq_B')"
   ]
  },
  {
   "cell_type": "code",
   "execution_count": null,
   "id": "8086a0b2-766c-4485-99bd-44e564573829",
   "metadata": {},
   "outputs": [],
   "source": [
    "msm.compare(molsys_A, molsys_B, comparison='form', rule='A_eq_B')"
   ]
  },
  {
   "cell_type": "code",
   "execution_count": null,
   "id": "0291e66d-f640-491a-998f-3acdf1621e45",
   "metadata": {},
   "outputs": [],
   "source": []
  }
 ],
 "metadata": {
  "kernelspec": {
   "display_name": "Python 3 (ipykernel)",
   "language": "python",
   "name": "python3"
  },
  "language_info": {
   "codemirror_mode": {
    "name": "ipython",
    "version": 3
   },
   "file_extension": ".py",
   "mimetype": "text/x-python",
   "name": "python",
   "nbconvert_exporter": "python",
   "pygments_lexer": "ipython3",
   "version": "3.7.12"
  }
 },
 "nbformat": 4,
 "nbformat_minor": 5
}
