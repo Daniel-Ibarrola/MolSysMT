{
 "cells": [
  {
   "cell_type": "code",
   "execution_count": 1,
   "id": "a518dd5a-046f-48ea-a1e4-894f38c17ca5",
   "metadata": {},
   "outputs": [],
   "source": [
    "%load_ext autoreload\n",
    "%autoreload 2"
   ]
  },
  {
   "cell_type": "code",
   "execution_count": 2,
   "id": "6c2aefa9-fa58-4ab0-9aac-bd1dce22b58f",
   "metadata": {},
   "outputs": [
    {
     "data": {
      "application/vnd.jupyter.widget-view+json": {
       "model_id": "f1f1416b5c4a4e64abe5cd4e23da59ca",
       "version_major": 2,
       "version_minor": 0
      },
      "text/plain": []
     },
     "metadata": {},
     "output_type": "display_data"
    }
   ],
   "source": [
    "import molsysmt as msm"
   ]
  },
  {
   "cell_type": "markdown",
   "id": "f5d55d2e-7cbd-4680-9fc5-c71bfb10e5a9",
   "metadata": {},
   "source": [
    "# Compare"
   ]
  },
  {
   "cell_type": "code",
   "execution_count": 5,
   "id": "14011dab-fcd5-44f9-8b67-ac6c3ffaa9e4",
   "metadata": {},
   "outputs": [
    {
     "name": "stdout",
     "output_type": "stream",
     "text": [
      "[array(['aminoacid', 'aminoacid', 'aminoacid', 'aminoacid', 'aminoacid'],\n",
      "      dtype=object), array(['aminoacid', 'aminoacid', 'aminoacid', 'aminoacid', 'aminoacid',\n",
      "       'aminoacid', 'aminoacid', 'aminoacid'], dtype=object), array(['aminoacid', 'aminoacid', 'aminoacid', 'aminoacid', 'aminoacid',\n",
      "       'aminoacid', 'aminoacid'], dtype=object), array(['aminoacid', 'aminoacid', 'aminoacid', 'aminoacid', 'aminoacid'],\n",
      "      dtype=object), array(['aminoacid', 'aminoacid', 'aminoacid', 'aminoacid', 'aminoacid',\n",
      "       'aminoacid', 'aminoacid'], dtype=object), array(['aminoacid', 'aminoacid', 'aminoacid', 'aminoacid', 'aminoacid',\n",
      "       'aminoacid', 'aminoacid'], dtype=object), array(['aminoacid', 'aminoacid', 'aminoacid', 'aminoacid', 'aminoacid',\n",
      "       'aminoacid', 'aminoacid', 'aminoacid', 'aminoacid', 'aminoacid',\n",
      "       'aminoacid'], dtype=object), array(['aminoacid', 'aminoacid', 'aminoacid', 'aminoacid', 'aminoacid',\n",
      "       'aminoacid', 'aminoacid', 'aminoacid'], dtype=object), array(['aminoacid', 'aminoacid', 'aminoacid', 'aminoacid'], dtype=object), array(['aminoacid', 'aminoacid', 'aminoacid', 'aminoacid', 'aminoacid',\n",
      "       'aminoacid', 'aminoacid'], dtype=object), array(['aminoacid', 'aminoacid', 'aminoacid', 'aminoacid', 'aminoacid',\n",
      "       'aminoacid', 'aminoacid', 'aminoacid'], dtype=object), array(['aminoacid', 'aminoacid', 'aminoacid', 'aminoacid', 'aminoacid',\n",
      "       'aminoacid', 'aminoacid'], dtype=object), array(['aminoacid', 'aminoacid', 'aminoacid', 'aminoacid', 'aminoacid',\n",
      "       'aminoacid', 'aminoacid'], dtype=object), array(['aminoacid', 'aminoacid', 'aminoacid', 'aminoacid', 'aminoacid',\n",
      "       'aminoacid', 'aminoacid', 'aminoacid', 'aminoacid', 'aminoacid',\n",
      "       'aminoacid', 'aminoacid'], dtype=object), array(['aminoacid', 'aminoacid', 'aminoacid', 'aminoacid', 'aminoacid'],\n",
      "      dtype=object), array(['aminoacid', 'aminoacid', 'aminoacid', 'aminoacid', 'aminoacid',\n",
      "       'aminoacid', 'aminoacid'], dtype=object), array(['aminoacid', 'aminoacid', 'aminoacid', 'aminoacid', 'aminoacid',\n",
      "       'aminoacid', 'aminoacid', 'aminoacid', 'aminoacid', 'aminoacid',\n",
      "       'aminoacid'], dtype=object), array(['aminoacid', 'aminoacid', 'aminoacid', 'aminoacid', 'aminoacid',\n",
      "       'aminoacid'], dtype=object), array(['aminoacid', 'aminoacid', 'aminoacid', 'aminoacid', 'aminoacid',\n",
      "       'aminoacid'], dtype=object), array(['aminoacid', 'aminoacid', 'aminoacid', 'aminoacid', 'aminoacid',\n",
      "       'aminoacid', 'aminoacid', 'aminoacid', 'aminoacid'], dtype=object), array(['aminoacid', 'aminoacid', 'aminoacid', 'aminoacid', 'aminoacid',\n",
      "       'aminoacid', 'aminoacid', 'aminoacid'], dtype=object), array(['aminoacid', 'aminoacid', 'aminoacid', 'aminoacid', 'aminoacid'],\n",
      "      dtype=object), array(['aminoacid', 'aminoacid', 'aminoacid', 'aminoacid', 'aminoacid',\n",
      "       'aminoacid', 'aminoacid', 'aminoacid', 'aminoacid'], dtype=object), array(['aminoacid', 'aminoacid', 'aminoacid', 'aminoacid'], dtype=object), array(['aminoacid', 'aminoacid', 'aminoacid', 'aminoacid', 'aminoacid',\n",
      "       'aminoacid', 'aminoacid', 'aminoacid', 'aminoacid'], dtype=object), array(['aminoacid', 'aminoacid', 'aminoacid', 'aminoacid', 'aminoacid',\n",
      "       'aminoacid', 'aminoacid', 'aminoacid', 'aminoacid', 'aminoacid',\n",
      "       'aminoacid'], dtype=object), array(['aminoacid', 'aminoacid', 'aminoacid', 'aminoacid', 'aminoacid',\n",
      "       'aminoacid', 'aminoacid', 'aminoacid'], dtype=object), array(['aminoacid', 'aminoacid', 'aminoacid', 'aminoacid'], dtype=object), array(['aminoacid', 'aminoacid', 'aminoacid', 'aminoacid', 'aminoacid',\n",
      "       'aminoacid', 'aminoacid', 'aminoacid', 'aminoacid', 'aminoacid',\n",
      "       'aminoacid'], dtype=object), array(['aminoacid', 'aminoacid', 'aminoacid', 'aminoacid', 'aminoacid',\n",
      "       'aminoacid', 'aminoacid', 'aminoacid'], dtype=object), array(['aminoacid', 'aminoacid', 'aminoacid', 'aminoacid', 'aminoacid',\n",
      "       'aminoacid', 'aminoacid', 'aminoacid'], dtype=object), array(['aminoacid', 'aminoacid', 'aminoacid', 'aminoacid', 'aminoacid',\n",
      "       'aminoacid', 'aminoacid', 'aminoacid'], dtype=object), array(['aminoacid', 'aminoacid', 'aminoacid', 'aminoacid', 'aminoacid',\n",
      "       'aminoacid', 'aminoacid', 'aminoacid'], dtype=object), array(['aminoacid', 'aminoacid', 'aminoacid', 'aminoacid'], dtype=object), array(['aminoacid', 'aminoacid', 'aminoacid', 'aminoacid', 'aminoacid',\n",
      "       'aminoacid', 'aminoacid', 'aminoacid'], dtype=object), array(['aminoacid', 'aminoacid', 'aminoacid', 'aminoacid', 'aminoacid',\n",
      "       'aminoacid', 'aminoacid', 'aminoacid', 'aminoacid'], dtype=object), array(['aminoacid', 'aminoacid', 'aminoacid', 'aminoacid', 'aminoacid',\n",
      "       'aminoacid', 'aminoacid', 'aminoacid'], dtype=object), array(['aminoacid', 'aminoacid', 'aminoacid', 'aminoacid', 'aminoacid',\n",
      "       'aminoacid'], dtype=object), array(['aminoacid', 'aminoacid', 'aminoacid', 'aminoacid', 'aminoacid',\n",
      "       'aminoacid', 'aminoacid', 'aminoacid', 'aminoacid'], dtype=object), array(['aminoacid', 'aminoacid', 'aminoacid', 'aminoacid', 'aminoacid',\n",
      "       'aminoacid', 'aminoacid', 'aminoacid', 'aminoacid', 'aminoacid',\n",
      "       'aminoacid'], dtype=object), array(['aminoacid', 'aminoacid', 'aminoacid', 'aminoacid', 'aminoacid',\n",
      "       'aminoacid', 'aminoacid', 'aminoacid'], dtype=object), array(['aminoacid', 'aminoacid', 'aminoacid', 'aminoacid', 'aminoacid',\n",
      "       'aminoacid', 'aminoacid', 'aminoacid', 'aminoacid'], dtype=object), array(['aminoacid', 'aminoacid', 'aminoacid', 'aminoacid', 'aminoacid',\n",
      "       'aminoacid', 'aminoacid'], dtype=object), array(['aminoacid', 'aminoacid', 'aminoacid', 'aminoacid', 'aminoacid'],\n",
      "      dtype=object), array(['aminoacid', 'aminoacid', 'aminoacid', 'aminoacid', 'aminoacid',\n",
      "       'aminoacid'], dtype=object), array(['aminoacid', 'aminoacid', 'aminoacid', 'aminoacid', 'aminoacid',\n",
      "       'aminoacid', 'aminoacid'], dtype=object), array(['aminoacid', 'aminoacid', 'aminoacid', 'aminoacid', 'aminoacid',\n",
      "       'aminoacid', 'aminoacid', 'aminoacid', 'aminoacid', 'aminoacid',\n",
      "       'aminoacid', 'aminoacid', 'aminoacid', 'aminoacid'], dtype=object), array(['aminoacid', 'aminoacid', 'aminoacid', 'aminoacid', 'aminoacid',\n",
      "       'aminoacid', 'aminoacid'], dtype=object), array(['aminoacid', 'aminoacid', 'aminoacid', 'aminoacid', 'aminoacid'],\n",
      "      dtype=object), array(['aminoacid', 'aminoacid', 'aminoacid', 'aminoacid', 'aminoacid',\n",
      "       'aminoacid'], dtype=object), array(['aminoacid', 'aminoacid', 'aminoacid', 'aminoacid', 'aminoacid',\n",
      "       'aminoacid', 'aminoacid', 'aminoacid'], dtype=object), array(['aminoacid', 'aminoacid', 'aminoacid', 'aminoacid', 'aminoacid',\n",
      "       'aminoacid', 'aminoacid', 'aminoacid', 'aminoacid', 'aminoacid',\n",
      "       'aminoacid'], dtype=object), array(['aminoacid', 'aminoacid', 'aminoacid', 'aminoacid', 'aminoacid',\n",
      "       'aminoacid', 'aminoacid', 'aminoacid'], dtype=object), array(['aminoacid', 'aminoacid', 'aminoacid', 'aminoacid', 'aminoacid'],\n",
      "      dtype=object), array(['aminoacid', 'aminoacid', 'aminoacid', 'aminoacid', 'aminoacid',\n",
      "       'aminoacid', 'aminoacid', 'aminoacid'], dtype=object), array(['aminoacid', 'aminoacid', 'aminoacid', 'aminoacid', 'aminoacid',\n",
      "       'aminoacid', 'aminoacid', 'aminoacid'], dtype=object), array(['aminoacid', 'aminoacid', 'aminoacid', 'aminoacid', 'aminoacid',\n",
      "       'aminoacid', 'aminoacid'], dtype=object), array(['aminoacid', 'aminoacid', 'aminoacid', 'aminoacid', 'aminoacid',\n",
      "       'aminoacid'], dtype=object), array(['aminoacid', 'aminoacid', 'aminoacid', 'aminoacid', 'aminoacid',\n",
      "       'aminoacid', 'aminoacid', 'aminoacid'], dtype=object), array(['aminoacid', 'aminoacid', 'aminoacid', 'aminoacid', 'aminoacid',\n",
      "       'aminoacid', 'aminoacid', 'aminoacid', 'aminoacid'], dtype=object), array(['aminoacid', 'aminoacid', 'aminoacid', 'aminoacid', 'aminoacid'],\n",
      "      dtype=object), array(['aminoacid', 'aminoacid', 'aminoacid', 'aminoacid', 'aminoacid',\n",
      "       'aminoacid', 'aminoacid', 'aminoacid', 'aminoacid'], dtype=object), array(['aminoacid', 'aminoacid', 'aminoacid', 'aminoacid', 'aminoacid',\n",
      "       'aminoacid', 'aminoacid', 'aminoacid', 'aminoacid'], dtype=object), array(['aminoacid', 'aminoacid', 'aminoacid', 'aminoacid', 'aminoacid',\n",
      "       'aminoacid', 'aminoacid', 'aminoacid'], dtype=object), array(['aminoacid', 'aminoacid', 'aminoacid', 'aminoacid', 'aminoacid',\n",
      "       'aminoacid', 'aminoacid', 'aminoacid'], dtype=object), array(['aminoacid', 'aminoacid', 'aminoacid', 'aminoacid', 'aminoacid'],\n",
      "      dtype=object), array(['aminoacid', 'aminoacid', 'aminoacid', 'aminoacid', 'aminoacid',\n",
      "       'aminoacid', 'aminoacid', 'aminoacid'], dtype=object), array(['aminoacid', 'aminoacid', 'aminoacid', 'aminoacid', 'aminoacid',\n",
      "       'aminoacid', 'aminoacid', 'aminoacid'], dtype=object), array(['aminoacid', 'aminoacid', 'aminoacid', 'aminoacid', 'aminoacid',\n",
      "       'aminoacid'], dtype=object), array(['aminoacid', 'aminoacid', 'aminoacid', 'aminoacid', 'aminoacid',\n",
      "       'aminoacid'], dtype=object), array(['aminoacid', 'aminoacid', 'aminoacid', 'aminoacid', 'aminoacid',\n",
      "       'aminoacid', 'aminoacid', 'aminoacid'], dtype=object), array(['aminoacid', 'aminoacid', 'aminoacid', 'aminoacid', 'aminoacid',\n",
      "       'aminoacid'], dtype=object), array(['aminoacid', 'aminoacid', 'aminoacid', 'aminoacid', 'aminoacid',\n",
      "       'aminoacid', 'aminoacid', 'aminoacid'], dtype=object), array(['aminoacid', 'aminoacid', 'aminoacid', 'aminoacid', 'aminoacid',\n",
      "       'aminoacid', 'aminoacid'], dtype=object), array(['aminoacid', 'aminoacid', 'aminoacid', 'aminoacid', 'aminoacid',\n",
      "       'aminoacid', 'aminoacid', 'aminoacid'], dtype=object), array(['aminoacid', 'aminoacid', 'aminoacid', 'aminoacid', 'aminoacid',\n",
      "       'aminoacid', 'aminoacid', 'aminoacid', 'aminoacid'], dtype=object), array(['aminoacid', 'aminoacid', 'aminoacid', 'aminoacid', 'aminoacid',\n",
      "       'aminoacid', 'aminoacid', 'aminoacid', 'aminoacid', 'aminoacid',\n",
      "       'aminoacid'], dtype=object), array(['aminoacid', 'aminoacid', 'aminoacid', 'aminoacid', 'aminoacid',\n",
      "       'aminoacid', 'aminoacid', 'aminoacid', 'aminoacid'], dtype=object), array(['aminoacid', 'aminoacid', 'aminoacid', 'aminoacid', 'aminoacid',\n",
      "       'aminoacid', 'aminoacid', 'aminoacid', 'aminoacid'], dtype=object), array(['aminoacid', 'aminoacid', 'aminoacid', 'aminoacid', 'aminoacid',\n",
      "       'aminoacid', 'aminoacid', 'aminoacid', 'aminoacid'], dtype=object), array(['aminoacid', 'aminoacid', 'aminoacid', 'aminoacid', 'aminoacid',\n",
      "       'aminoacid', 'aminoacid', 'aminoacid'], dtype=object), array(['aminoacid', 'aminoacid', 'aminoacid', 'aminoacid', 'aminoacid'],\n",
      "      dtype=object), array(['aminoacid', 'aminoacid', 'aminoacid', 'aminoacid', 'aminoacid',\n",
      "       'aminoacid', 'aminoacid', 'aminoacid', 'aminoacid', 'aminoacid',\n",
      "       'aminoacid'], dtype=object), array(['aminoacid', 'aminoacid', 'aminoacid', 'aminoacid', 'aminoacid',\n",
      "       'aminoacid'], dtype=object), array(['aminoacid', 'aminoacid', 'aminoacid', 'aminoacid', 'aminoacid',\n",
      "       'aminoacid', 'aminoacid', 'aminoacid'], dtype=object), array(['aminoacid', 'aminoacid', 'aminoacid', 'aminoacid', 'aminoacid',\n",
      "       'aminoacid', 'aminoacid', 'aminoacid', 'aminoacid'], dtype=object), array(['aminoacid', 'aminoacid', 'aminoacid', 'aminoacid', 'aminoacid',\n",
      "       'aminoacid', 'aminoacid', 'aminoacid'], dtype=object), array(['aminoacid', 'aminoacid', 'aminoacid', 'aminoacid', 'aminoacid',\n",
      "       'aminoacid', 'aminoacid', 'aminoacid', 'aminoacid', 'aminoacid',\n",
      "       'aminoacid', 'aminoacid'], dtype=object), array(['aminoacid', 'aminoacid', 'aminoacid', 'aminoacid', 'aminoacid'],\n",
      "      dtype=object), array(['aminoacid', 'aminoacid', 'aminoacid', 'aminoacid', 'aminoacid'],\n",
      "      dtype=object), array(['aminoacid', 'aminoacid', 'aminoacid', 'aminoacid', 'aminoacid',\n",
      "       'aminoacid', 'aminoacid', 'aminoacid'], dtype=object), array(['aminoacid', 'aminoacid', 'aminoacid', 'aminoacid', 'aminoacid',\n",
      "       'aminoacid'], dtype=object), array(['aminoacid', 'aminoacid', 'aminoacid', 'aminoacid', 'aminoacid',\n",
      "       'aminoacid', 'aminoacid', 'aminoacid', 'aminoacid', 'aminoacid',\n",
      "       'aminoacid'], dtype=object), array(['aminoacid', 'aminoacid', 'aminoacid', 'aminoacid', 'aminoacid',\n",
      "       'aminoacid', 'aminoacid', 'aminoacid'], dtype=object), array(['aminoacid', 'aminoacid', 'aminoacid', 'aminoacid', 'aminoacid',\n",
      "       'aminoacid', 'aminoacid', 'aminoacid'], dtype=object), array(['aminoacid', 'aminoacid', 'aminoacid', 'aminoacid', 'aminoacid'],\n",
      "      dtype=object), array(['aminoacid', 'aminoacid', 'aminoacid', 'aminoacid', 'aminoacid'],\n",
      "      dtype=object), array(['aminoacid', 'aminoacid', 'aminoacid', 'aminoacid', 'aminoacid',\n",
      "       'aminoacid', 'aminoacid', 'aminoacid', 'aminoacid'], dtype=object), array(['aminoacid', 'aminoacid', 'aminoacid', 'aminoacid'], dtype=object), array(['aminoacid', 'aminoacid', 'aminoacid', 'aminoacid', 'aminoacid',\n",
      "       'aminoacid'], dtype=object), array(['aminoacid', 'aminoacid', 'aminoacid', 'aminoacid', 'aminoacid',\n",
      "       'aminoacid', 'aminoacid'], dtype=object), array(['aminoacid', 'aminoacid', 'aminoacid', 'aminoacid', 'aminoacid',\n",
      "       'aminoacid', 'aminoacid', 'aminoacid'], dtype=object), array(['aminoacid', 'aminoacid', 'aminoacid', 'aminoacid', 'aminoacid',\n",
      "       'aminoacid', 'aminoacid', 'aminoacid', 'aminoacid'], dtype=object), array(['aminoacid', 'aminoacid', 'aminoacid', 'aminoacid', 'aminoacid',\n",
      "       'aminoacid', 'aminoacid'], dtype=object), array(['aminoacid', 'aminoacid', 'aminoacid', 'aminoacid', 'aminoacid',\n",
      "       'aminoacid', 'aminoacid'], dtype=object), array(['aminoacid', 'aminoacid', 'aminoacid', 'aminoacid', 'aminoacid',\n",
      "       'aminoacid', 'aminoacid', 'aminoacid'], dtype=object), array(['aminoacid', 'aminoacid', 'aminoacid', 'aminoacid', 'aminoacid',\n",
      "       'aminoacid', 'aminoacid', 'aminoacid', 'aminoacid'], dtype=object), array(['aminoacid', 'aminoacid', 'aminoacid', 'aminoacid', 'aminoacid',\n",
      "       'aminoacid'], dtype=object), array(['aminoacid', 'aminoacid', 'aminoacid', 'aminoacid', 'aminoacid',\n",
      "       'aminoacid', 'aminoacid', 'aminoacid'], dtype=object), array(['aminoacid', 'aminoacid', 'aminoacid', 'aminoacid', 'aminoacid',\n",
      "       'aminoacid', 'aminoacid', 'aminoacid', 'aminoacid'], dtype=object), array(['aminoacid', 'aminoacid', 'aminoacid', 'aminoacid'], dtype=object), array(['aminoacid', 'aminoacid', 'aminoacid', 'aminoacid', 'aminoacid',\n",
      "       'aminoacid', 'aminoacid', 'aminoacid', 'aminoacid'], dtype=object), array(['aminoacid', 'aminoacid', 'aminoacid', 'aminoacid', 'aminoacid',\n",
      "       'aminoacid', 'aminoacid', 'aminoacid', 'aminoacid', 'aminoacid'],\n",
      "      dtype=object), array(['aminoacid', 'aminoacid', 'aminoacid', 'aminoacid', 'aminoacid',\n",
      "       'aminoacid', 'aminoacid'], dtype=object), array(['aminoacid', 'aminoacid', 'aminoacid', 'aminoacid'], dtype=object), array(['aminoacid', 'aminoacid', 'aminoacid', 'aminoacid', 'aminoacid',\n",
      "       'aminoacid', 'aminoacid'], dtype=object), array(['aminoacid', 'aminoacid', 'aminoacid', 'aminoacid', 'aminoacid',\n",
      "       'aminoacid', 'aminoacid', 'aminoacid'], dtype=object), array(['aminoacid', 'aminoacid', 'aminoacid', 'aminoacid', 'aminoacid',\n",
      "       'aminoacid', 'aminoacid', 'aminoacid', 'aminoacid'], dtype=object), array(['aminoacid', 'aminoacid', 'aminoacid', 'aminoacid'], dtype=object), array(['aminoacid', 'aminoacid', 'aminoacid', 'aminoacid', 'aminoacid',\n",
      "       'aminoacid'], dtype=object), array(['aminoacid', 'aminoacid', 'aminoacid', 'aminoacid', 'aminoacid',\n",
      "       'aminoacid', 'aminoacid'], dtype=object), array(['aminoacid', 'aminoacid', 'aminoacid', 'aminoacid', 'aminoacid',\n",
      "       'aminoacid', 'aminoacid', 'aminoacid', 'aminoacid'], dtype=object), array(['aminoacid', 'aminoacid', 'aminoacid', 'aminoacid', 'aminoacid',\n",
      "       'aminoacid', 'aminoacid', 'aminoacid', 'aminoacid'], dtype=object), array(['aminoacid', 'aminoacid', 'aminoacid', 'aminoacid', 'aminoacid'],\n",
      "      dtype=object), array(['aminoacid', 'aminoacid', 'aminoacid', 'aminoacid', 'aminoacid',\n",
      "       'aminoacid', 'aminoacid', 'aminoacid', 'aminoacid', 'aminoacid',\n",
      "       'aminoacid', 'aminoacid'], dtype=object), array(['aminoacid', 'aminoacid', 'aminoacid', 'aminoacid', 'aminoacid'],\n",
      "      dtype=object), array(['aminoacid', 'aminoacid', 'aminoacid', 'aminoacid', 'aminoacid',\n",
      "       'aminoacid', 'aminoacid', 'aminoacid'], dtype=object), array(['aminoacid', 'aminoacid', 'aminoacid', 'aminoacid', 'aminoacid',\n",
      "       'aminoacid', 'aminoacid', 'aminoacid'], dtype=object), array(['aminoacid', 'aminoacid', 'aminoacid', 'aminoacid', 'aminoacid',\n",
      "       'aminoacid', 'aminoacid', 'aminoacid'], dtype=object), array(['aminoacid', 'aminoacid', 'aminoacid', 'aminoacid', 'aminoacid',\n",
      "       'aminoacid', 'aminoacid', 'aminoacid', 'aminoacid', 'aminoacid',\n",
      "       'aminoacid', 'aminoacid', 'aminoacid', 'aminoacid'], dtype=object), array(['aminoacid', 'aminoacid', 'aminoacid', 'aminoacid', 'aminoacid',\n",
      "       'aminoacid', 'aminoacid', 'aminoacid', 'aminoacid', 'aminoacid',\n",
      "       'aminoacid'], dtype=object), array(['aminoacid', 'aminoacid', 'aminoacid', 'aminoacid', 'aminoacid',\n",
      "       'aminoacid', 'aminoacid'], dtype=object), array(['aminoacid', 'aminoacid', 'aminoacid', 'aminoacid', 'aminoacid',\n",
      "       'aminoacid', 'aminoacid', 'aminoacid', 'aminoacid'], dtype=object), array(['aminoacid', 'aminoacid', 'aminoacid', 'aminoacid'], dtype=object), array(['aminoacid', 'aminoacid', 'aminoacid', 'aminoacid', 'aminoacid',\n",
      "       'aminoacid', 'aminoacid'], dtype=object), array(['aminoacid', 'aminoacid', 'aminoacid', 'aminoacid', 'aminoacid',\n",
      "       'aminoacid', 'aminoacid', 'aminoacid'], dtype=object), array(['aminoacid', 'aminoacid', 'aminoacid', 'aminoacid', 'aminoacid',\n",
      "       'aminoacid', 'aminoacid'], dtype=object), array(['aminoacid', 'aminoacid', 'aminoacid', 'aminoacid', 'aminoacid',\n",
      "       'aminoacid', 'aminoacid'], dtype=object), array(['aminoacid', 'aminoacid', 'aminoacid', 'aminoacid', 'aminoacid'],\n",
      "      dtype=object), array(['aminoacid', 'aminoacid', 'aminoacid', 'aminoacid', 'aminoacid',\n",
      "       'aminoacid', 'aminoacid', 'aminoacid', 'aminoacid', 'aminoacid',\n",
      "       'aminoacid', 'aminoacid'], dtype=object), array(['aminoacid', 'aminoacid', 'aminoacid', 'aminoacid', 'aminoacid'],\n",
      "      dtype=object), array(['aminoacid', 'aminoacid', 'aminoacid', 'aminoacid', 'aminoacid',\n",
      "       'aminoacid', 'aminoacid', 'aminoacid'], dtype=object), array(['aminoacid', 'aminoacid', 'aminoacid', 'aminoacid', 'aminoacid',\n",
      "       'aminoacid', 'aminoacid', 'aminoacid', 'aminoacid'], dtype=object), array(['aminoacid', 'aminoacid', 'aminoacid', 'aminoacid', 'aminoacid',\n",
      "       'aminoacid', 'aminoacid', 'aminoacid'], dtype=object), array(['aminoacid', 'aminoacid', 'aminoacid', 'aminoacid', 'aminoacid',\n",
      "       'aminoacid', 'aminoacid', 'aminoacid'], dtype=object), array(['aminoacid', 'aminoacid', 'aminoacid', 'aminoacid', 'aminoacid',\n",
      "       'aminoacid', 'aminoacid', 'aminoacid'], dtype=object), array(['aminoacid', 'aminoacid', 'aminoacid', 'aminoacid', 'aminoacid',\n",
      "       'aminoacid', 'aminoacid', 'aminoacid', 'aminoacid', 'aminoacid',\n",
      "       'aminoacid', 'aminoacid'], dtype=object), array(['aminoacid', 'aminoacid', 'aminoacid', 'aminoacid', 'aminoacid',\n",
      "       'aminoacid'], dtype=object), array(['aminoacid', 'aminoacid', 'aminoacid', 'aminoacid', 'aminoacid',\n",
      "       'aminoacid', 'aminoacid', 'aminoacid'], dtype=object), array(['aminoacid', 'aminoacid', 'aminoacid', 'aminoacid', 'aminoacid',\n",
      "       'aminoacid', 'aminoacid', 'aminoacid'], dtype=object), array(['aminoacid', 'aminoacid', 'aminoacid', 'aminoacid', 'aminoacid',\n",
      "       'aminoacid', 'aminoacid'], dtype=object), array(['aminoacid', 'aminoacid', 'aminoacid', 'aminoacid', 'aminoacid'],\n",
      "      dtype=object), array(['aminoacid', 'aminoacid', 'aminoacid', 'aminoacid'], dtype=object), array(['aminoacid', 'aminoacid', 'aminoacid', 'aminoacid', 'aminoacid',\n",
      "       'aminoacid', 'aminoacid', 'aminoacid', 'aminoacid', 'aminoacid',\n",
      "       'aminoacid'], dtype=object), array(['aminoacid', 'aminoacid', 'aminoacid', 'aminoacid', 'aminoacid',\n",
      "       'aminoacid', 'aminoacid', 'aminoacid'], dtype=object), array(['aminoacid', 'aminoacid', 'aminoacid', 'aminoacid', 'aminoacid',\n",
      "       'aminoacid', 'aminoacid', 'aminoacid'], dtype=object), array(['aminoacid', 'aminoacid', 'aminoacid', 'aminoacid', 'aminoacid'],\n",
      "      dtype=object), array(['aminoacid', 'aminoacid', 'aminoacid', 'aminoacid', 'aminoacid'],\n",
      "      dtype=object), array(['aminoacid', 'aminoacid', 'aminoacid', 'aminoacid', 'aminoacid',\n",
      "       'aminoacid', 'aminoacid', 'aminoacid'], dtype=object), array(['aminoacid', 'aminoacid', 'aminoacid', 'aminoacid', 'aminoacid',\n",
      "       'aminoacid', 'aminoacid', 'aminoacid', 'aminoacid'], dtype=object), array(['aminoacid', 'aminoacid', 'aminoacid', 'aminoacid', 'aminoacid',\n",
      "       'aminoacid', 'aminoacid', 'aminoacid'], dtype=object), array(['aminoacid', 'aminoacid', 'aminoacid', 'aminoacid', 'aminoacid',\n",
      "       'aminoacid', 'aminoacid', 'aminoacid', 'aminoacid'], dtype=object), array(['aminoacid', 'aminoacid', 'aminoacid', 'aminoacid', 'aminoacid',\n",
      "       'aminoacid', 'aminoacid'], dtype=object), array(['aminoacid', 'aminoacid', 'aminoacid', 'aminoacid', 'aminoacid'],\n",
      "      dtype=object), array(['aminoacid', 'aminoacid', 'aminoacid', 'aminoacid', 'aminoacid'],\n",
      "      dtype=object), array(['aminoacid', 'aminoacid', 'aminoacid', 'aminoacid', 'aminoacid',\n",
      "       'aminoacid'], dtype=object), array(['aminoacid', 'aminoacid', 'aminoacid', 'aminoacid', 'aminoacid',\n",
      "       'aminoacid', 'aminoacid', 'aminoacid', 'aminoacid'], dtype=object), array(['aminoacid', 'aminoacid', 'aminoacid', 'aminoacid'], dtype=object), array(['aminoacid', 'aminoacid', 'aminoacid', 'aminoacid', 'aminoacid',\n",
      "       'aminoacid', 'aminoacid', 'aminoacid', 'aminoacid', 'aminoacid',\n",
      "       'aminoacid'], dtype=object), array(['aminoacid', 'aminoacid', 'aminoacid', 'aminoacid', 'aminoacid',\n",
      "       'aminoacid', 'aminoacid', 'aminoacid'], dtype=object), array(['aminoacid', 'aminoacid', 'aminoacid', 'aminoacid', 'aminoacid',\n",
      "       'aminoacid', 'aminoacid', 'aminoacid', 'aminoacid'], dtype=object), array(['aminoacid', 'aminoacid', 'aminoacid', 'aminoacid', 'aminoacid',\n",
      "       'aminoacid', 'aminoacid', 'aminoacid', 'aminoacid'], dtype=object), array(['aminoacid', 'aminoacid', 'aminoacid', 'aminoacid', 'aminoacid',\n",
      "       'aminoacid', 'aminoacid'], dtype=object), array(['aminoacid', 'aminoacid', 'aminoacid', 'aminoacid', 'aminoacid'],\n",
      "      dtype=object), array(['aminoacid', 'aminoacid', 'aminoacid', 'aminoacid'], dtype=object), array(['aminoacid', 'aminoacid', 'aminoacid', 'aminoacid', 'aminoacid',\n",
      "       'aminoacid', 'aminoacid', 'aminoacid', 'aminoacid'], dtype=object), array(['aminoacid', 'aminoacid', 'aminoacid', 'aminoacid', 'aminoacid',\n",
      "       'aminoacid', 'aminoacid', 'aminoacid', 'aminoacid'], dtype=object), array(['aminoacid', 'aminoacid', 'aminoacid', 'aminoacid', 'aminoacid',\n",
      "       'aminoacid', 'aminoacid', 'aminoacid', 'aminoacid', 'aminoacid',\n",
      "       'aminoacid', 'aminoacid'], dtype=object), array(['aminoacid', 'aminoacid', 'aminoacid', 'aminoacid', 'aminoacid'],\n",
      "      dtype=object), array(['aminoacid', 'aminoacid', 'aminoacid', 'aminoacid', 'aminoacid',\n",
      "       'aminoacid', 'aminoacid', 'aminoacid', 'aminoacid', 'aminoacid',\n",
      "       'aminoacid'], dtype=object), array(['aminoacid', 'aminoacid', 'aminoacid', 'aminoacid', 'aminoacid'],\n",
      "      dtype=object), array(['aminoacid', 'aminoacid', 'aminoacid', 'aminoacid'], dtype=object), array(['aminoacid', 'aminoacid', 'aminoacid', 'aminoacid', 'aminoacid',\n",
      "       'aminoacid', 'aminoacid'], dtype=object), array(['aminoacid', 'aminoacid', 'aminoacid', 'aminoacid', 'aminoacid',\n",
      "       'aminoacid'], dtype=object), array(['aminoacid', 'aminoacid', 'aminoacid', 'aminoacid', 'aminoacid',\n",
      "       'aminoacid', 'aminoacid'], dtype=object), array(['aminoacid', 'aminoacid', 'aminoacid', 'aminoacid', 'aminoacid',\n",
      "       'aminoacid', 'aminoacid', 'aminoacid', 'aminoacid'], dtype=object), array(['aminoacid', 'aminoacid', 'aminoacid', 'aminoacid', 'aminoacid',\n",
      "       'aminoacid', 'aminoacid', 'aminoacid'], dtype=object), array(['aminoacid', 'aminoacid', 'aminoacid', 'aminoacid', 'aminoacid',\n",
      "       'aminoacid', 'aminoacid', 'aminoacid', 'aminoacid'], dtype=object), array(['aminoacid', 'aminoacid', 'aminoacid', 'aminoacid', 'aminoacid',\n",
      "       'aminoacid', 'aminoacid', 'aminoacid', 'aminoacid'], dtype=object), array(['aminoacid', 'aminoacid', 'aminoacid', 'aminoacid', 'aminoacid',\n",
      "       'aminoacid', 'aminoacid', 'aminoacid', 'aminoacid', 'aminoacid',\n",
      "       'aminoacid', 'aminoacid'], dtype=object), array(['aminoacid', 'aminoacid', 'aminoacid', 'aminoacid', 'aminoacid',\n",
      "       'aminoacid', 'aminoacid', 'aminoacid', 'aminoacid', 'aminoacid',\n",
      "       'aminoacid'], dtype=object), array(['aminoacid', 'aminoacid', 'aminoacid', 'aminoacid'], dtype=object), array(['aminoacid', 'aminoacid', 'aminoacid', 'aminoacid', 'aminoacid',\n",
      "       'aminoacid', 'aminoacid', 'aminoacid'], dtype=object), array(['aminoacid', 'aminoacid', 'aminoacid', 'aminoacid'], dtype=object), array(['aminoacid', 'aminoacid', 'aminoacid', 'aminoacid', 'aminoacid',\n",
      "       'aminoacid', 'aminoacid'], dtype=object), array(['aminoacid', 'aminoacid', 'aminoacid', 'aminoacid'], dtype=object), array(['aminoacid', 'aminoacid', 'aminoacid', 'aminoacid', 'aminoacid',\n",
      "       'aminoacid', 'aminoacid'], dtype=object), array(['aminoacid', 'aminoacid', 'aminoacid', 'aminoacid'], dtype=object), array(['aminoacid', 'aminoacid', 'aminoacid', 'aminoacid', 'aminoacid',\n",
      "       'aminoacid', 'aminoacid', 'aminoacid'], dtype=object), array(['aminoacid', 'aminoacid', 'aminoacid', 'aminoacid', 'aminoacid',\n",
      "       'aminoacid', 'aminoacid', 'aminoacid', 'aminoacid', 'aminoacid',\n",
      "       'aminoacid'], dtype=object), array(['aminoacid', 'aminoacid', 'aminoacid', 'aminoacid', 'aminoacid',\n",
      "       'aminoacid', 'aminoacid', 'aminoacid', 'aminoacid'], dtype=object), array(['aminoacid', 'aminoacid', 'aminoacid', 'aminoacid', 'aminoacid',\n",
      "       'aminoacid', 'aminoacid', 'aminoacid'], dtype=object), array(['aminoacid', 'aminoacid', 'aminoacid', 'aminoacid', 'aminoacid',\n",
      "       'aminoacid', 'aminoacid', 'aminoacid'], dtype=object), array(['aminoacid', 'aminoacid', 'aminoacid', 'aminoacid', 'aminoacid',\n",
      "       'aminoacid', 'aminoacid'], dtype=object), array(['aminoacid', 'aminoacid', 'aminoacid', 'aminoacid', 'aminoacid',\n",
      "       'aminoacid', 'aminoacid', 'aminoacid', 'aminoacid'], dtype=object), array(['aminoacid', 'aminoacid', 'aminoacid', 'aminoacid', 'aminoacid',\n",
      "       'aminoacid', 'aminoacid', 'aminoacid'], dtype=object), array(['aminoacid', 'aminoacid', 'aminoacid', 'aminoacid', 'aminoacid',\n",
      "       'aminoacid', 'aminoacid', 'aminoacid', 'aminoacid'], dtype=object), array(['aminoacid', 'aminoacid', 'aminoacid', 'aminoacid', 'aminoacid'],\n",
      "      dtype=object), array(['aminoacid', 'aminoacid', 'aminoacid', 'aminoacid', 'aminoacid'],\n",
      "      dtype=object), array(['aminoacid', 'aminoacid', 'aminoacid', 'aminoacid', 'aminoacid',\n",
      "       'aminoacid', 'aminoacid', 'aminoacid', 'aminoacid', 'aminoacid',\n",
      "       'aminoacid'], dtype=object), array(['aminoacid', 'aminoacid', 'aminoacid', 'aminoacid', 'aminoacid',\n",
      "       'aminoacid', 'aminoacid', 'aminoacid'], dtype=object), array(['aminoacid', 'aminoacid', 'aminoacid', 'aminoacid', 'aminoacid',\n",
      "       'aminoacid', 'aminoacid', 'aminoacid', 'aminoacid'], dtype=object), array(['aminoacid', 'aminoacid', 'aminoacid', 'aminoacid', 'aminoacid'],\n",
      "      dtype=object), array(['aminoacid', 'aminoacid', 'aminoacid', 'aminoacid', 'aminoacid',\n",
      "       'aminoacid', 'aminoacid', 'aminoacid'], dtype=object), array(['aminoacid', 'aminoacid', 'aminoacid', 'aminoacid', 'aminoacid',\n",
      "       'aminoacid', 'aminoacid'], dtype=object), array(['aminoacid', 'aminoacid', 'aminoacid', 'aminoacid', 'aminoacid',\n",
      "       'aminoacid', 'aminoacid', 'aminoacid', 'aminoacid'], dtype=object), array(['aminoacid', 'aminoacid', 'aminoacid', 'aminoacid', 'aminoacid',\n",
      "       'aminoacid', 'aminoacid', 'aminoacid'], dtype=object), array(['aminoacid', 'aminoacid', 'aminoacid', 'aminoacid', 'aminoacid',\n",
      "       'aminoacid', 'aminoacid', 'aminoacid', 'aminoacid', 'aminoacid',\n",
      "       'aminoacid'], dtype=object), array(['aminoacid', 'aminoacid', 'aminoacid', 'aminoacid', 'aminoacid',\n",
      "       'aminoacid', 'aminoacid', 'aminoacid', 'aminoacid'], dtype=object), array(['aminoacid', 'aminoacid', 'aminoacid', 'aminoacid', 'aminoacid',\n",
      "       'aminoacid', 'aminoacid', 'aminoacid'], dtype=object), array(['aminoacid', 'aminoacid', 'aminoacid', 'aminoacid'], dtype=object), array(['aminoacid', 'aminoacid', 'aminoacid', 'aminoacid', 'aminoacid',\n",
      "       'aminoacid', 'aminoacid'], dtype=object), array(['aminoacid', 'aminoacid', 'aminoacid', 'aminoacid', 'aminoacid',\n",
      "       'aminoacid', 'aminoacid', 'aminoacid', 'aminoacid', 'aminoacid',\n",
      "       'aminoacid', 'aminoacid'], dtype=object), array(['aminoacid', 'aminoacid', 'aminoacid', 'aminoacid', 'aminoacid',\n",
      "       'aminoacid', 'aminoacid', 'aminoacid'], dtype=object), array(['aminoacid', 'aminoacid', 'aminoacid', 'aminoacid', 'aminoacid'],\n",
      "      dtype=object), array(['aminoacid', 'aminoacid', 'aminoacid', 'aminoacid', 'aminoacid',\n",
      "       'aminoacid', 'aminoacid', 'aminoacid'], dtype=object), array(['aminoacid', 'aminoacid', 'aminoacid', 'aminoacid', 'aminoacid'],\n",
      "      dtype=object), array(['aminoacid', 'aminoacid', 'aminoacid', 'aminoacid', 'aminoacid',\n",
      "       'aminoacid', 'aminoacid', 'aminoacid', 'aminoacid'], dtype=object), array(['aminoacid', 'aminoacid', 'aminoacid', 'aminoacid', 'aminoacid',\n",
      "       'aminoacid', 'aminoacid', 'aminoacid', 'aminoacid'], dtype=object), array(['aminoacid', 'aminoacid', 'aminoacid', 'aminoacid', 'aminoacid',\n",
      "       'aminoacid', 'aminoacid', 'aminoacid', 'aminoacid', 'aminoacid',\n",
      "       'aminoacid', 'aminoacid'], dtype=object), array(['aminoacid', 'aminoacid', 'aminoacid', 'aminoacid', 'aminoacid',\n",
      "       'aminoacid', 'aminoacid', 'aminoacid', 'aminoacid', 'aminoacid',\n",
      "       'aminoacid'], dtype=object), array(['aminoacid', 'aminoacid', 'aminoacid', 'aminoacid', 'aminoacid',\n",
      "       'aminoacid', 'aminoacid', 'aminoacid'], dtype=object), array(['aminoacid', 'aminoacid', 'aminoacid', 'aminoacid', 'aminoacid',\n",
      "       'aminoacid', 'aminoacid', 'aminoacid', 'aminoacid', 'aminoacid',\n",
      "       'aminoacid'], dtype=object), array(['aminoacid', 'aminoacid', 'aminoacid', 'aminoacid', 'aminoacid',\n",
      "       'aminoacid', 'aminoacid', 'aminoacid'], dtype=object), array(['aminoacid', 'aminoacid', 'aminoacid', 'aminoacid', 'aminoacid',\n",
      "       'aminoacid', 'aminoacid'], dtype=object), array(['aminoacid', 'aminoacid', 'aminoacid', 'aminoacid', 'aminoacid',\n",
      "       'aminoacid', 'aminoacid', 'aminoacid', 'aminoacid', 'aminoacid',\n",
      "       'aminoacid', 'aminoacid'], dtype=object), array(['aminoacid', 'aminoacid', 'aminoacid', 'aminoacid'], dtype=object), array(['aminoacid', 'aminoacid', 'aminoacid', 'aminoacid', 'aminoacid',\n",
      "       'aminoacid', 'aminoacid', 'aminoacid', 'aminoacid'], dtype=object)]\n"
     ]
    },
    {
     "ename": "ValueError",
     "evalue": "The truth value of an array with more than one element is ambiguous. Use a.any() or a.all()",
     "output_type": "error",
     "traceback": [
      "\u001b[0;31m---------------------------------------------------------------------------\u001b[0m",
      "\u001b[0;31mValueError\u001b[0m                                Traceback (most recent call last)",
      "\u001b[0;32m/tmp/ipykernel_1018903/1881986518.py\u001b[0m in \u001b[0;36m<module>\u001b[0;34m\u001b[0m\n\u001b[0;32m----> 1\u001b[0;31m \u001b[0mmolsys_A\u001b[0m \u001b[0;34m=\u001b[0m \u001b[0mmsm\u001b[0m\u001b[0;34m.\u001b[0m\u001b[0mconvert\u001b[0m\u001b[0;34m(\u001b[0m\u001b[0;34m'pdb_id:2LAO'\u001b[0m\u001b[0;34m,\u001b[0m \u001b[0mto_form\u001b[0m\u001b[0;34m=\u001b[0m\u001b[0;34m'openmm.Modeller'\u001b[0m\u001b[0;34m)\u001b[0m\u001b[0;34m\u001b[0m\u001b[0;34m\u001b[0m\u001b[0m\n\u001b[0m",
      "\u001b[0;32m~/projects/MolSysMT/molsysmt/basic/convert.py\u001b[0m in \u001b[0;36mconvert\u001b[0;34m(molecular_system, to_form, selection, structure_indices, syntaxis, check, **kwargs)\u001b[0m\n\u001b[1;32m    120\u001b[0m                 \u001b[0;32mif\u001b[0m \u001b[0mto_form\u001b[0m \u001b[0;32min\u001b[0m \u001b[0mdict_convert\u001b[0m\u001b[0;34m[\u001b[0m\u001b[0mfrom_form\u001b[0m\u001b[0;34m]\u001b[0m\u001b[0;34m:\u001b[0m\u001b[0;34m\u001b[0m\u001b[0;34m\u001b[0m\u001b[0m\n\u001b[1;32m    121\u001b[0m                     tmp_item = dict_convert[from_form][to_form](item, molecular_system=molecular_system, atom_indices=atom_indices,\n\u001b[0;32m--> 122\u001b[0;31m                                                                 structure_indices=structure_indices, **conversion_arguments, **kwargs)\n\u001b[0m\u001b[1;32m    123\u001b[0m         \u001b[0;32mif\u001b[0m \u001b[0mtmp_item\u001b[0m \u001b[0;32mis\u001b[0m \u001b[0;32mnot\u001b[0m \u001b[0;32mNone\u001b[0m\u001b[0;34m:\u001b[0m\u001b[0;34m\u001b[0m\u001b[0;34m\u001b[0m\u001b[0m\n\u001b[1;32m    124\u001b[0m             \u001b[0;32mbreak\u001b[0m\u001b[0;34m\u001b[0m\u001b[0;34m\u001b[0m\u001b[0m\n",
      "\u001b[0;32m~/projects/MolSysMT/molsysmt/api_forms/api_string_pdb_id.py\u001b[0m in \u001b[0;36mto_openmm_Modeller\u001b[0;34m(item, molecular_system, atom_indices, structure_indices)\u001b[0m\n\u001b[1;32m    171\u001b[0m     \u001b[0;32mfrom\u001b[0m \u001b[0mmolsysmt\u001b[0m\u001b[0;34m.\u001b[0m\u001b[0mform\u001b[0m\u001b[0;34m.\u001b[0m\u001b[0mstring_pdb_id\u001b[0m \u001b[0;32mimport\u001b[0m \u001b[0mto_openmm_Modeller\u001b[0m \u001b[0;32mas\u001b[0m \u001b[0mstring_pdb_id_to_openmm_Modeller\u001b[0m\u001b[0;34m\u001b[0m\u001b[0;34m\u001b[0m\u001b[0m\n\u001b[1;32m    172\u001b[0m \u001b[0;34m\u001b[0m\u001b[0m\n\u001b[0;32m--> 173\u001b[0;31m     \u001b[0mtmp_item\u001b[0m \u001b[0;34m=\u001b[0m \u001b[0mstring_pdb_id_to_openmm_Modeller\u001b[0m\u001b[0;34m(\u001b[0m\u001b[0mitem\u001b[0m\u001b[0;34m,\u001b[0m \u001b[0matom_indices\u001b[0m\u001b[0;34m=\u001b[0m\u001b[0matom_indices\u001b[0m\u001b[0;34m,\u001b[0m \u001b[0mstructure_indices\u001b[0m\u001b[0;34m=\u001b[0m\u001b[0mstructure_indices\u001b[0m\u001b[0;34m,\u001b[0m \u001b[0mcheck\u001b[0m\u001b[0;34m=\u001b[0m\u001b[0;32mFalse\u001b[0m\u001b[0;34m)\u001b[0m\u001b[0;34m\u001b[0m\u001b[0;34m\u001b[0m\u001b[0m\n\u001b[0m\u001b[1;32m    174\u001b[0m \u001b[0;34m\u001b[0m\u001b[0m\n\u001b[1;32m    175\u001b[0m     \u001b[0;32mreturn\u001b[0m \u001b[0mtmp_item\u001b[0m\u001b[0;34m\u001b[0m\u001b[0;34m\u001b[0m\u001b[0m\n",
      "\u001b[0;32m~/projects/MolSysMT/molsysmt/form/string_pdb_id/to_openmm_Modeller.py\u001b[0m in \u001b[0;36mto_openmm_Modeller\u001b[0;34m(item, atom_indices, structure_indices, check)\u001b[0m\n\u001b[1;32m     25\u001b[0m     \u001b[0;32mfrom\u001b[0m \u001b[0;34m.\u001b[0m\u001b[0;34m.\u001b[0m\u001b[0mmolsysmt_MolSys\u001b[0m \u001b[0;32mimport\u001b[0m \u001b[0mto_openmm_Modeller\u001b[0m \u001b[0;32mas\u001b[0m \u001b[0mmolsysmt_MolSys_to_openmm_Modeller\u001b[0m\u001b[0;34m\u001b[0m\u001b[0;34m\u001b[0m\u001b[0m\n\u001b[1;32m     26\u001b[0m \u001b[0;34m\u001b[0m\u001b[0m\n\u001b[0;32m---> 27\u001b[0;31m     \u001b[0mtmp_item\u001b[0m \u001b[0;34m=\u001b[0m \u001b[0mto_molsysmt_MolSys\u001b[0m\u001b[0;34m(\u001b[0m\u001b[0mitem\u001b[0m\u001b[0;34m,\u001b[0m \u001b[0matom_indices\u001b[0m\u001b[0;34m=\u001b[0m\u001b[0matom_indices\u001b[0m\u001b[0;34m,\u001b[0m \u001b[0mstructure_indices\u001b[0m\u001b[0;34m=\u001b[0m\u001b[0mstructure_indices\u001b[0m\u001b[0;34m,\u001b[0m \u001b[0mcheck\u001b[0m\u001b[0;34m=\u001b[0m\u001b[0;32mFalse\u001b[0m\u001b[0;34m)\u001b[0m\u001b[0;34m\u001b[0m\u001b[0;34m\u001b[0m\u001b[0m\n\u001b[0m\u001b[1;32m     28\u001b[0m     \u001b[0mtmp_item\u001b[0m \u001b[0;34m=\u001b[0m \u001b[0mmolsysmt_MolSys_to_openmm_Modeller\u001b[0m\u001b[0;34m(\u001b[0m\u001b[0mtmp_item\u001b[0m\u001b[0;34m,\u001b[0m \u001b[0mcheck\u001b[0m\u001b[0;34m=\u001b[0m\u001b[0;32mFalse\u001b[0m\u001b[0;34m)\u001b[0m\u001b[0;34m\u001b[0m\u001b[0;34m\u001b[0m\u001b[0m\n\u001b[1;32m     29\u001b[0m \u001b[0;34m\u001b[0m\u001b[0m\n",
      "\u001b[0;32m~/projects/MolSysMT/molsysmt/form/string_pdb_id/to_molsysmt_MolSys.py\u001b[0m in \u001b[0;36mto_molsysmt_MolSys\u001b[0;34m(item, atom_indices, structure_indices, check)\u001b[0m\n\u001b[1;32m     25\u001b[0m     \u001b[0;32mfrom\u001b[0m \u001b[0;34m.\u001b[0m\u001b[0;34m.\u001b[0m\u001b[0mmmtf_MMTFDecoder\u001b[0m \u001b[0;32mimport\u001b[0m \u001b[0mto_molsysmt_MolSys\u001b[0m \u001b[0;32mas\u001b[0m \u001b[0mmmtf_MMTFDecoder_to_molsysmt_MolSys\u001b[0m\u001b[0;34m\u001b[0m\u001b[0;34m\u001b[0m\u001b[0m\n\u001b[1;32m     26\u001b[0m     \u001b[0mtmp_item\u001b[0m \u001b[0;34m=\u001b[0m \u001b[0mto_mmtf_MMTFDecoder\u001b[0m\u001b[0;34m(\u001b[0m\u001b[0mitem\u001b[0m\u001b[0;34m,\u001b[0m \u001b[0mcheck\u001b[0m\u001b[0;34m=\u001b[0m\u001b[0;32mFalse\u001b[0m\u001b[0;34m)\u001b[0m\u001b[0;34m\u001b[0m\u001b[0;34m\u001b[0m\u001b[0m\n\u001b[0;32m---> 27\u001b[0;31m     \u001b[0mtmp_item\u001b[0m \u001b[0;34m=\u001b[0m \u001b[0mmmtf_MMTFDecoder_to_molsysmt_MolSys\u001b[0m\u001b[0;34m(\u001b[0m\u001b[0mtmp_item\u001b[0m\u001b[0;34m,\u001b[0m \u001b[0matom_indices\u001b[0m\u001b[0;34m=\u001b[0m\u001b[0matom_indices\u001b[0m\u001b[0;34m,\u001b[0m \u001b[0mstructure_indices\u001b[0m\u001b[0;34m=\u001b[0m\u001b[0mstructure_indices\u001b[0m\u001b[0;34m,\u001b[0m \u001b[0mcheck\u001b[0m\u001b[0;34m=\u001b[0m\u001b[0;32mFalse\u001b[0m\u001b[0;34m)\u001b[0m\u001b[0;34m\u001b[0m\u001b[0;34m\u001b[0m\u001b[0m\n\u001b[0m\u001b[1;32m     28\u001b[0m \u001b[0;34m\u001b[0m\u001b[0m\n\u001b[1;32m     29\u001b[0m     \u001b[0;32mreturn\u001b[0m \u001b[0mtmp_item\u001b[0m\u001b[0;34m\u001b[0m\u001b[0;34m\u001b[0m\u001b[0m\n",
      "\u001b[0;32m~/projects/MolSysMT/molsysmt/form/mmtf_MMTFDecoder/to_molsysmt_MolSys.py\u001b[0m in \u001b[0;36mto_molsysmt_MolSys\u001b[0;34m(item, atom_indices, structure_indices, check)\u001b[0m\n\u001b[1;32m     25\u001b[0m \u001b[0;34m\u001b[0m\u001b[0m\n\u001b[1;32m     26\u001b[0m     \u001b[0mtmp_item\u001b[0m \u001b[0;34m=\u001b[0m \u001b[0mMolSys\u001b[0m\u001b[0;34m(\u001b[0m\u001b[0;34m)\u001b[0m\u001b[0;34m\u001b[0m\u001b[0;34m\u001b[0m\u001b[0m\n\u001b[0;32m---> 27\u001b[0;31m     \u001b[0mtmp_item\u001b[0m\u001b[0;34m.\u001b[0m\u001b[0mtopology\u001b[0m \u001b[0;34m=\u001b[0m \u001b[0mto_molsysmt_Topology\u001b[0m\u001b[0;34m(\u001b[0m\u001b[0mitem\u001b[0m\u001b[0;34m,\u001b[0m \u001b[0matom_indices\u001b[0m\u001b[0;34m=\u001b[0m\u001b[0matom_indices\u001b[0m\u001b[0;34m,\u001b[0m \u001b[0mstructure_indices\u001b[0m\u001b[0;34m=\u001b[0m\u001b[0mstructure_indices\u001b[0m\u001b[0;34m,\u001b[0m \u001b[0mcheck\u001b[0m\u001b[0;34m=\u001b[0m\u001b[0;32mFalse\u001b[0m\u001b[0;34m)\u001b[0m\u001b[0;34m\u001b[0m\u001b[0;34m\u001b[0m\u001b[0m\n\u001b[0m\u001b[1;32m     28\u001b[0m     \u001b[0mtmp_item\u001b[0m\u001b[0;34m.\u001b[0m\u001b[0mstructures\u001b[0m \u001b[0;34m=\u001b[0m \u001b[0mto_molsysmt_Structures\u001b[0m\u001b[0;34m(\u001b[0m\u001b[0mitem\u001b[0m\u001b[0;34m,\u001b[0m \u001b[0matom_indices\u001b[0m\u001b[0;34m=\u001b[0m\u001b[0matom_indices\u001b[0m\u001b[0;34m,\u001b[0m \u001b[0mstructure_indices\u001b[0m\u001b[0;34m=\u001b[0m\u001b[0mstructure_indices\u001b[0m\u001b[0;34m,\u001b[0m \u001b[0mcheck\u001b[0m\u001b[0;34m=\u001b[0m\u001b[0;32mFalse\u001b[0m\u001b[0;34m)\u001b[0m\u001b[0;34m\u001b[0m\u001b[0;34m\u001b[0m\u001b[0m\n\u001b[1;32m     29\u001b[0m \u001b[0;34m\u001b[0m\u001b[0m\n",
      "\u001b[0;32m~/projects/MolSysMT/molsysmt/form/mmtf_MMTFDecoder/to_molsysmt_Topology.py\u001b[0m in \u001b[0;36mto_molsysmt_Topology\u001b[0;34m(item, atom_indices, structure_indices, bioassembly_index, bioassembly_name, check)\u001b[0m\n\u001b[1;32m    143\u001b[0m     \u001b[0;31m#### components\u001b[0m\u001b[0;34m\u001b[0m\u001b[0;34m\u001b[0m\u001b[0;34m\u001b[0m\u001b[0m\n\u001b[1;32m    144\u001b[0m \u001b[0;34m\u001b[0m\u001b[0m\n\u001b[0;32m--> 145\u001b[0;31m     \u001b[0mtmp_item\u001b[0m\u001b[0;34m.\u001b[0m\u001b[0m_build_components\u001b[0m\u001b[0;34m(\u001b[0m\u001b[0;34m)\u001b[0m\u001b[0;34m\u001b[0m\u001b[0;34m\u001b[0m\u001b[0m\n\u001b[0m\u001b[1;32m    146\u001b[0m     \u001b[0mcomponent_index_array\u001b[0m\u001b[0;34m=\u001b[0m\u001b[0mtmp_item\u001b[0m\u001b[0;34m.\u001b[0m\u001b[0matoms_dataframe\u001b[0m\u001b[0;34m[\u001b[0m\u001b[0;34m'component_index'\u001b[0m\u001b[0;34m]\u001b[0m\u001b[0;34m.\u001b[0m\u001b[0mto_numpy\u001b[0m\u001b[0;34m(\u001b[0m\u001b[0mdtype\u001b[0m\u001b[0;34m=\u001b[0m\u001b[0mint\u001b[0m\u001b[0;34m,\u001b[0m\u001b[0mcopy\u001b[0m\u001b[0;34m=\u001b[0m\u001b[0;32mTrue\u001b[0m\u001b[0;34m)\u001b[0m\u001b[0;34m\u001b[0m\u001b[0;34m\u001b[0m\u001b[0m\n\u001b[1;32m    147\u001b[0m \u001b[0;34m\u001b[0m\u001b[0m\n",
      "\u001b[0;32m~/projects/MolSysMT/molsysmt/native/topology.py\u001b[0m in \u001b[0;36m_build_components\u001b[0;34m(self)\u001b[0m\n\u001b[1;32m    182\u001b[0m                     \u001b[0mgroup_types\u001b[0m\u001b[0;34m.\u001b[0m\u001b[0mappend\u001b[0m\u001b[0;34m(\u001b[0m\u001b[0mgroup_type_from_atom\u001b[0m\u001b[0;34m[\u001b[0m\u001b[0mfirst_occurrence\u001b[0m\u001b[0;34m]\u001b[0m\u001b[0;34m)\u001b[0m\u001b[0;34m\u001b[0m\u001b[0;34m\u001b[0m\u001b[0m\n\u001b[1;32m    183\u001b[0m \u001b[0;34m\u001b[0m\u001b[0m\n\u001b[0;32m--> 184\u001b[0;31m                 \u001b[0mtype_array\u001b[0m\u001b[0;34m[\u001b[0m\u001b[0mmask\u001b[0m\u001b[0;34m]\u001b[0m\u001b[0;34m=\u001b[0m\u001b[0mget_component_type_from_group_types\u001b[0m\u001b[0;34m(\u001b[0m\u001b[0mgroup_types\u001b[0m\u001b[0;34m)\u001b[0m\u001b[0;34m\u001b[0m\u001b[0;34m\u001b[0m\u001b[0m\n\u001b[0m\u001b[1;32m    185\u001b[0m \u001b[0;34m\u001b[0m\u001b[0m\n\u001b[1;32m    186\u001b[0m         \u001b[0mself\u001b[0m\u001b[0;34m.\u001b[0m\u001b[0matoms_dataframe\u001b[0m\u001b[0;34m[\u001b[0m\u001b[0;34m\"component_index\"\u001b[0m\u001b[0;34m]\u001b[0m \u001b[0;34m=\u001b[0m \u001b[0mindex_array\u001b[0m\u001b[0;34m\u001b[0m\u001b[0;34m\u001b[0m\u001b[0m\n",
      "\u001b[0;32m~/projects/MolSysMT/molsysmt/element/component/get_component_type_from_group_types.py\u001b[0m in \u001b[0;36mget_component_type_from_group_types\u001b[0;34m(group_types)\u001b[0m\n\u001b[1;32m      4\u001b[0m     \u001b[0mfirst_type\u001b[0m \u001b[0;34m=\u001b[0m \u001b[0mgroup_types\u001b[0m\u001b[0;34m[\u001b[0m\u001b[0;36m0\u001b[0m\u001b[0;34m]\u001b[0m\u001b[0;34m\u001b[0m\u001b[0;34m\u001b[0m\u001b[0m\n\u001b[1;32m      5\u001b[0m \u001b[0;34m\u001b[0m\u001b[0m\n\u001b[0;32m----> 6\u001b[0;31m     \u001b[0;32mif\u001b[0m \u001b[0mfirst_type\u001b[0m \u001b[0;32min\u001b[0m \u001b[0;34m[\u001b[0m\u001b[0;34m'water'\u001b[0m\u001b[0;34m,\u001b[0m \u001b[0;34m'ion'\u001b[0m\u001b[0;34m,\u001b[0m \u001b[0;34m'cosolute'\u001b[0m\u001b[0;34m,\u001b[0m \u001b[0;34m'small molecule'\u001b[0m\u001b[0;34m,\u001b[0m \u001b[0;34m'lipid'\u001b[0m\u001b[0;34m]\u001b[0m\u001b[0;34m:\u001b[0m\u001b[0;34m\u001b[0m\u001b[0;34m\u001b[0m\u001b[0m\n\u001b[0m\u001b[1;32m      7\u001b[0m         \u001b[0mtmp_type\u001b[0m\u001b[0;34m=\u001b[0m\u001b[0mfirst_type\u001b[0m\u001b[0;34m\u001b[0m\u001b[0;34m\u001b[0m\u001b[0m\n\u001b[1;32m      8\u001b[0m     \u001b[0;32melif\u001b[0m \u001b[0;34m(\u001b[0m\u001b[0mfirst_type\u001b[0m \u001b[0;34m==\u001b[0m \u001b[0;34m'aminoacid'\u001b[0m\u001b[0;34m)\u001b[0m \u001b[0;32mor\u001b[0m \u001b[0;34m(\u001b[0m\u001b[0mfirst_type\u001b[0m \u001b[0;34m==\u001b[0m \u001b[0;34m'terminal_capping'\u001b[0m\u001b[0;34m)\u001b[0m\u001b[0;34m:\u001b[0m\u001b[0;34m\u001b[0m\u001b[0;34m\u001b[0m\u001b[0m\n",
      "\u001b[0;31mValueError\u001b[0m: The truth value of an array with more than one element is ambiguous. Use a.any() or a.all()"
     ]
    }
   ],
   "source": [
    "molsys_A = msm.convert('pdb_id:2LAO', to_form='openmm.Modeller')"
   ]
  },
  {
   "cell_type": "code",
   "execution_count": null,
   "id": "49418550-3f74-4409-9dee-12df783c555b",
   "metadata": {},
   "outputs": [],
   "source": [
    "molsys_B = msm.convert(molsys_A, to_form='molsysmt.MolSys')"
   ]
  },
  {
   "cell_type": "code",
   "execution_count": null,
   "id": "49b60f38-a42d-4e2f-8aa8-4d4c614cbcac",
   "metadata": {},
   "outputs": [],
   "source": [
    "molsys_A = msm.convert('pdb_id:2LAO', to_form='openmm.Modeller')\n",
    "molsys_B = msm.convert(molsys_A, to_form='molsysmt.MolSys')\n",
    "molsys_C = msm.extract(molsys_B, selection='molecule_type==\"protein\"')"
   ]
  },
  {
   "cell_type": "markdown",
   "id": "e1d47912-46ea-44cc-a0e1-7a91bd66342b",
   "metadata": {},
   "source": [
    "## Compare 'all'"
   ]
  },
  {
   "cell_type": "code",
   "execution_count": null,
   "id": "f5bca6f9-b26b-4a17-8fa2-c503bbe36e89",
   "metadata": {},
   "outputs": [],
   "source": [
    "msm.compare(molsys_A, molsys_B, comparison='all', rule='A_eq_B')"
   ]
  },
  {
   "cell_type": "code",
   "execution_count": null,
   "id": "a5b057cf-9bc7-4ac3-8e4f-fdef4ac6ab6a",
   "metadata": {},
   "outputs": [],
   "source": [
    "msm.compare(molsys_C, molsys_B, comparison='all', rule='A_eq_B')"
   ]
  },
  {
   "cell_type": "code",
   "execution_count": null,
   "id": "4a48d678-ab15-4c87-98c6-9e4aa03c5040",
   "metadata": {},
   "outputs": [],
   "source": [
    "msm.compare(molsys_C, molsys_B, comparison='all', rule='A_eq_B', report =True)"
   ]
  },
  {
   "cell_type": "markdown",
   "id": "bd7d1289-864c-467e-b873-76ea7b124299",
   "metadata": {},
   "source": [
    "## Compare 'info'"
   ]
  },
  {
   "cell_type": "code",
   "execution_count": null,
   "id": "edc80e55-47f2-4821-9868-0adcb036afd7",
   "metadata": {},
   "outputs": [],
   "source": [
    "msm.compare(molsys_A, molsys_B, comparison='info', rule='A_eq_B')"
   ]
  },
  {
   "cell_type": "code",
   "execution_count": null,
   "id": "f3c65e6f-ed62-437d-9476-267b01d6b88f",
   "metadata": {},
   "outputs": [],
   "source": [
    "msm.compare(molsys_A, molsys_B, comparison='n_elements', rule='A_eq_B')"
   ]
  },
  {
   "cell_type": "code",
   "execution_count": null,
   "id": "8855bf83-ff19-4761-b998-8d3354a0093f",
   "metadata": {},
   "outputs": [],
   "source": [
    "msm.compare(molsys_A, molsys_B, comparison='n_molecules', rule='A_eq_B')"
   ]
  },
  {
   "cell_type": "code",
   "execution_count": null,
   "id": "53621cf4-620e-410b-8e5d-395aaab116a3",
   "metadata": {},
   "outputs": [],
   "source": [
    "msm.compare(molsys_A, molsys_B, comparison='n_frames', rule='A_eq_B')"
   ]
  },
  {
   "cell_type": "code",
   "execution_count": null,
   "id": "8086a0b2-766c-4485-99bd-44e564573829",
   "metadata": {},
   "outputs": [],
   "source": [
    "msm.compare(molsys_A, molsys_B, comparison='form', rule='A_eq_B')"
   ]
  },
  {
   "cell_type": "code",
   "execution_count": null,
   "id": "0291e66d-f640-491a-998f-3acdf1621e45",
   "metadata": {},
   "outputs": [],
   "source": []
  }
 ],
 "metadata": {
  "kernelspec": {
   "display_name": "Python 3 (ipykernel)",
   "language": "python",
   "name": "python3"
  },
  "language_info": {
   "codemirror_mode": {
    "name": "ipython",
    "version": 3
   },
   "file_extension": ".py",
   "mimetype": "text/x-python",
   "name": "python",
   "nbconvert_exporter": "python",
   "pygments_lexer": "ipython3",
   "version": "3.7.12"
  }
 },
 "nbformat": 4,
 "nbformat_minor": 5
}
