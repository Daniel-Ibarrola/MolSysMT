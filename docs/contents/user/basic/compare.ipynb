{
 "cells": [
  {
   "cell_type": "code",
   "execution_count": 1,
   "id": "a518dd5a-046f-48ea-a1e4-894f38c17ca5",
   "metadata": {},
   "outputs": [],
   "source": [
    "%load_ext autoreload\n",
    "%autoreload 2"
   ]
  },
  {
   "cell_type": "code",
   "execution_count": 2,
   "id": "6c2aefa9-fa58-4ab0-9aac-bd1dce22b58f",
   "metadata": {},
   "outputs": [
    {
     "data": {
      "application/vnd.jupyter.widget-view+json": {
       "model_id": "8035da4927714fa5846d1ca33fd3730e",
       "version_major": 2,
       "version_minor": 0
      },
      "text/plain": []
     },
     "metadata": {},
     "output_type": "display_data"
    }
   ],
   "source": [
    "import molsysmt as msm"
   ]
  },
  {
   "cell_type": "markdown",
   "id": "f5d55d2e-7cbd-4680-9fc5-c71bfb10e5a9",
   "metadata": {},
   "source": [
    "# Compare"
   ]
  },
  {
   "cell_type": "code",
   "execution_count": 3,
   "id": "49b60f38-a42d-4e2f-8aa8-4d4c614cbcac",
   "metadata": {},
   "outputs": [
    {
     "name": "stderr",
     "output_type": "stream",
     "text": [
      "/home/diego/projects/MolSysMT/molsysmt/form/mmtf_MMTFDecoder/to_molsysmt_Topology.py:34: UserWarning: The structure in the PDB has biological assemblies. There are geometrical transformations proposed in the structure. See the following issue in the source code repository: https://github.com/uibcdf/MolSysMT/issues/33\n",
      "  warnings.warn(warning_message)\n"
     ]
    }
   ],
   "source": [
    "molsys_A = msm.convert('pdb_id:2LAO', to_form='openmm.Modeller')\n",
    "molsys_B = msm.convert(molsys_A, to_form='molsysmt.MolSys')\n",
    "molsys_C = msm.extract(molsys_B, selection='molecule_type==\"protein\"')"
   ]
  },
  {
   "cell_type": "markdown",
   "id": "e1d47912-46ea-44cc-a0e1-7a91bd66342b",
   "metadata": {},
   "source": [
    "## Compare 'all'"
   ]
  },
  {
   "cell_type": "code",
   "execution_count": 7,
   "id": "f5bca6f9-b26b-4a17-8fa2-c503bbe36e89",
   "metadata": {},
   "outputs": [
    {
     "ename": "KeyError",
     "evalue": "'bond_order'",
     "output_type": "error",
     "traceback": [
      "\u001b[0;31m---------------------------------------------------------------------------\u001b[0m",
      "\u001b[0;31mKeyError\u001b[0m                                  Traceback (most recent call last)",
      "\u001b[0;32m/tmp/ipykernel_1199503/97696244.py\u001b[0m in \u001b[0;36m<module>\u001b[0;34m\u001b[0m\n\u001b[0;32m----> 1\u001b[0;31m \u001b[0mmsm\u001b[0m\u001b[0;34m.\u001b[0m\u001b[0mcompare\u001b[0m\u001b[0;34m(\u001b[0m\u001b[0mmolsys_A\u001b[0m\u001b[0;34m,\u001b[0m \u001b[0mmolsys_B\u001b[0m\u001b[0;34m,\u001b[0m \u001b[0mcomparison\u001b[0m\u001b[0;34m=\u001b[0m\u001b[0;34m'all'\u001b[0m\u001b[0;34m,\u001b[0m \u001b[0mrule\u001b[0m\u001b[0;34m=\u001b[0m\u001b[0;34m'A_eq_B'\u001b[0m\u001b[0;34m,\u001b[0m \u001b[0mreport\u001b[0m \u001b[0;34m=\u001b[0m\u001b[0;32mTrue\u001b[0m\u001b[0;34m)\u001b[0m\u001b[0;34m\u001b[0m\u001b[0;34m\u001b[0m\u001b[0m\n\u001b[0m",
      "\u001b[0;32m~/projects/MolSysMT/molsysmt/basic/compare/compare.py\u001b[0m in \u001b[0;36mcompare\u001b[0;34m(molecular_system_A, molecular_system_B, selection_A, structure_indices_A, selection_B, structure_indices_B, comparison, rule, syntaxis, report, check)\u001b[0m\n\u001b[1;32m     80\u001b[0m                  \u001b[0mselection_A\u001b[0m\u001b[0;34m=\u001b[0m\u001b[0mselection_A\u001b[0m\u001b[0;34m,\u001b[0m \u001b[0mstructure_indices_A\u001b[0m\u001b[0;34m=\u001b[0m\u001b[0mstructure_indices_A\u001b[0m\u001b[0;34m,\u001b[0m\u001b[0;34m\u001b[0m\u001b[0;34m\u001b[0m\u001b[0m\n\u001b[1;32m     81\u001b[0m                  \u001b[0mselection_B\u001b[0m\u001b[0;34m=\u001b[0m\u001b[0mselection_B\u001b[0m\u001b[0;34m,\u001b[0m \u001b[0mstructure_indices_B\u001b[0m\u001b[0;34m=\u001b[0m\u001b[0mstructure_indices_B\u001b[0m\u001b[0;34m,\u001b[0m\u001b[0;34m\u001b[0m\u001b[0;34m\u001b[0m\u001b[0m\n\u001b[0;32m---> 82\u001b[0;31m                  syntaxis=syntaxis)\n\u001b[0m\u001b[1;32m     83\u001b[0m \u001b[0;34m\u001b[0m\u001b[0m\n\u001b[1;32m     84\u001b[0m     \u001b[0;32melif\u001b[0m \u001b[0mrule\u001b[0m \u001b[0;32min\u001b[0m \u001b[0;34m[\u001b[0m\u001b[0;34m'A_in_B'\u001b[0m\u001b[0;34m,\u001b[0m \u001b[0;34m'B_in_A'\u001b[0m\u001b[0;34m]\u001b[0m\u001b[0;34m:\u001b[0m\u001b[0;34m\u001b[0m\u001b[0;34m\u001b[0m\u001b[0m\n",
      "\u001b[0;32m~/projects/MolSysMT/molsysmt/basic/compare/compare_all.py\u001b[0m in \u001b[0;36mcompare_all_eq\u001b[0;34m(molecular_system_A, molecular_system_B, selection_A, structure_indices_A, selection_B, structure_indices_B, syntaxis)\u001b[0m\n\u001b[1;32m    135\u001b[0m \u001b[0;34m\u001b[0m\u001b[0m\n\u001b[1;32m    136\u001b[0m         bonded_atoms_A, bond_order_A, bond_type_A = get(molecular_system_A, target='bond',\n\u001b[0;32m--> 137\u001b[0;31m                 selection=selection_A, atom_index=True, bond_order=True, bond_type=True)\n\u001b[0m\u001b[1;32m    138\u001b[0m \u001b[0;34m\u001b[0m\u001b[0m\n\u001b[1;32m    139\u001b[0m         bonded_atoms_B, bond_order_B, bond_type_B = get(molecular_system_B, target='bond',\n",
      "\u001b[0;32m~/projects/MolSysMT/molsysmt/basic/get.py\u001b[0m in \u001b[0;36mget\u001b[0;34m(molecular_system, target, indices, selection, structure_indices, syntaxis, check, **kwargs)\u001b[0m\n\u001b[1;32m    127\u001b[0m             \u001b[0mdict_indices\u001b[0m\u001b[0;34m[\u001b[0m\u001b[0;34m'structure_indices'\u001b[0m\u001b[0;34m]\u001b[0m\u001b[0;34m=\u001b[0m\u001b[0mstructure_indices\u001b[0m\u001b[0;34m\u001b[0m\u001b[0;34m\u001b[0m\u001b[0m\n\u001b[1;32m    128\u001b[0m \u001b[0;34m\u001b[0m\u001b[0m\n\u001b[0;32m--> 129\u001b[0;31m         \u001b[0maux_item\u001b[0m\u001b[0;34m,\u001b[0m \u001b[0maux_form\u001b[0m \u001b[0;34m=\u001b[0m \u001b[0mwhere_is_attribute\u001b[0m\u001b[0;34m(\u001b[0m\u001b[0mmolecular_system\u001b[0m\u001b[0;34m,\u001b[0m \u001b[0margument\u001b[0m\u001b[0;34m,\u001b[0m \u001b[0mcheck\u001b[0m\u001b[0;34m=\u001b[0m\u001b[0;32mFalse\u001b[0m\u001b[0;34m)\u001b[0m\u001b[0;34m\u001b[0m\u001b[0;34m\u001b[0m\u001b[0m\n\u001b[0m\u001b[1;32m    130\u001b[0m         \u001b[0;32mif\u001b[0m \u001b[0maux_item\u001b[0m \u001b[0;32mis\u001b[0m \u001b[0;32mNone\u001b[0m\u001b[0;34m:\u001b[0m\u001b[0;34m\u001b[0m\u001b[0;34m\u001b[0m\u001b[0m\n\u001b[1;32m    131\u001b[0m             \u001b[0mresult\u001b[0m \u001b[0;34m=\u001b[0m \u001b[0;32mNone\u001b[0m\u001b[0;34m\u001b[0m\u001b[0;34m\u001b[0m\u001b[0m\n",
      "\u001b[0;32m~/projects/MolSysMT/molsysmt/basic/where_is_attribute.py\u001b[0m in \u001b[0;36mwhere_is_attribute\u001b[0;34m(molecular_system, attribute, check)\u001b[0m\n\u001b[1;32m     32\u001b[0m \u001b[0;34m\u001b[0m\u001b[0m\n\u001b[1;32m     33\u001b[0m     \u001b[0;32mfor\u001b[0m \u001b[0mitem\u001b[0m\u001b[0;34m,\u001b[0m \u001b[0mform_in\u001b[0m \u001b[0;32min\u001b[0m \u001b[0maux_zip\u001b[0m\u001b[0;34m:\u001b[0m\u001b[0;34m\u001b[0m\u001b[0;34m\u001b[0m\u001b[0m\n\u001b[0;32m---> 34\u001b[0;31m         \u001b[0;32mfor\u001b[0m \u001b[0mrequired_attribute\u001b[0m \u001b[0;32min\u001b[0m \u001b[0m_required_attributes\u001b[0m\u001b[0;34m[\u001b[0m\u001b[0mattribute\u001b[0m\u001b[0;34m]\u001b[0m\u001b[0;34m:\u001b[0m\u001b[0;34m\u001b[0m\u001b[0;34m\u001b[0m\u001b[0m\n\u001b[0m\u001b[1;32m     35\u001b[0m             \u001b[0;32mif\u001b[0m \u001b[0mdict_attributes\u001b[0m\u001b[0;34m[\u001b[0m\u001b[0mform_in\u001b[0m\u001b[0;34m]\u001b[0m\u001b[0;34m[\u001b[0m\u001b[0mrequired_attribute\u001b[0m\u001b[0;34m]\u001b[0m\u001b[0;34m:\u001b[0m\u001b[0;34m\u001b[0m\u001b[0;34m\u001b[0m\u001b[0m\n\u001b[1;32m     36\u001b[0m                 \u001b[0moutput_item\u001b[0m \u001b[0;34m=\u001b[0m \u001b[0mitem\u001b[0m\u001b[0;34m\u001b[0m\u001b[0;34m\u001b[0m\u001b[0m\n",
      "\u001b[0;31mKeyError\u001b[0m: 'bond_order'"
     ]
    }
   ],
   "source": [
    "msm.compare(molsys_A, molsys_B, comparison='all', rule='A_eq_B', report =True)"
   ]
  },
  {
   "cell_type": "code",
   "execution_count": null,
   "id": "a5b057cf-9bc7-4ac3-8e4f-fdef4ac6ab6a",
   "metadata": {},
   "outputs": [],
   "source": [
    "msm.compare(molsys_C, molsys_B, comparison='all', rule='A_eq_B')"
   ]
  },
  {
   "cell_type": "code",
   "execution_count": null,
   "id": "4a48d678-ab15-4c87-98c6-9e4aa03c5040",
   "metadata": {},
   "outputs": [],
   "source": [
    "msm.compare(molsys_C, molsys_B, comparison='all', rule='A_eq_B', report =True)"
   ]
  },
  {
   "cell_type": "markdown",
   "id": "bd7d1289-864c-467e-b873-76ea7b124299",
   "metadata": {},
   "source": [
    "## Compare 'info'"
   ]
  },
  {
   "cell_type": "code",
   "execution_count": null,
   "id": "edc80e55-47f2-4821-9868-0adcb036afd7",
   "metadata": {},
   "outputs": [],
   "source": [
    "msm.compare(molsys_A, molsys_B, comparison='info', rule='A_eq_B')"
   ]
  },
  {
   "cell_type": "code",
   "execution_count": null,
   "id": "f3c65e6f-ed62-437d-9476-267b01d6b88f",
   "metadata": {},
   "outputs": [],
   "source": [
    "msm.compare(molsys_A, molsys_B, comparison='n_elements', rule='A_eq_B')"
   ]
  },
  {
   "cell_type": "code",
   "execution_count": null,
   "id": "8855bf83-ff19-4761-b998-8d3354a0093f",
   "metadata": {},
   "outputs": [],
   "source": [
    "msm.compare(molsys_A, molsys_B, comparison='n_molecules', rule='A_eq_B')"
   ]
  },
  {
   "cell_type": "code",
   "execution_count": null,
   "id": "53621cf4-620e-410b-8e5d-395aaab116a3",
   "metadata": {},
   "outputs": [],
   "source": [
    "msm.compare(molsys_A, molsys_B, comparison='n_frames', rule='A_eq_B')"
   ]
  },
  {
   "cell_type": "code",
   "execution_count": null,
   "id": "8086a0b2-766c-4485-99bd-44e564573829",
   "metadata": {},
   "outputs": [],
   "source": [
    "msm.compare(molsys_A, molsys_B, comparison='form', rule='A_eq_B')"
   ]
  },
  {
   "cell_type": "code",
   "execution_count": null,
   "id": "0291e66d-f640-491a-998f-3acdf1621e45",
   "metadata": {},
   "outputs": [],
   "source": []
  }
 ],
 "metadata": {
  "kernelspec": {
   "display_name": "Python 3 (ipykernel)",
   "language": "python",
   "name": "python3"
  },
  "language_info": {
   "codemirror_mode": {
    "name": "ipython",
    "version": 3
   },
   "file_extension": ".py",
   "mimetype": "text/x-python",
   "name": "python",
   "nbconvert_exporter": "python",
   "pygments_lexer": "ipython3",
   "version": "3.7.12"
  }
 },
 "nbformat": 4,
 "nbformat_minor": 5
}
