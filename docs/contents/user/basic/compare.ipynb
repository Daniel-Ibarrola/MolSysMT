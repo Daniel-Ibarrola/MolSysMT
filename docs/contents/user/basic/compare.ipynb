{
 "cells": [
  {
   "cell_type": "code",
   "execution_count": 1,
   "id": "a518dd5a-046f-48ea-a1e4-894f38c17ca5",
   "metadata": {},
   "outputs": [],
   "source": [
    "%load_ext autoreload\n",
    "%autoreload 2"
   ]
  },
  {
   "cell_type": "code",
   "execution_count": 2,
   "id": "6c2aefa9-fa58-4ab0-9aac-bd1dce22b58f",
   "metadata": {},
   "outputs": [
    {
     "data": {
      "application/vnd.jupyter.widget-view+json": {
       "model_id": "0bd6e72800ee41b681578832cfe144f7",
       "version_major": 2,
       "version_minor": 0
      },
      "text/plain": []
     },
     "metadata": {},
     "output_type": "display_data"
    }
   ],
   "source": [
    "import molsysmt as msm"
   ]
  },
  {
   "cell_type": "markdown",
   "id": "f5d55d2e-7cbd-4680-9fc5-c71bfb10e5a9",
   "metadata": {},
   "source": [
    "# Compare"
   ]
  },
  {
   "cell_type": "code",
   "execution_count": 3,
   "id": "49b60f38-a42d-4e2f-8aa8-4d4c614cbcac",
   "metadata": {},
   "outputs": [
    {
     "name": "stderr",
     "output_type": "stream",
     "text": [
      "/home/diego/projects/MolSysMT/molsysmt/item/mmtf_MMTFDecoder/to_molsysmt_Topology.py:34: UserWarning: The structure in the PDB has biological assemblies. There are geometrical transformations proposed in the structure. See the following issue in the source code repository: https://github.com/uibcdf/MolSysMT/issues/33\n",
      "  warnings.warn(warning_message)\n"
     ]
    }
   ],
   "source": [
    "molsys_A = msm.convert('pdb_id:2LAO', to_form='openmm.Modeller')\n",
    "molsys_B = msm.convert(molsys_A, to_form='molsysmt.MolSys')\n",
    "molsys_C = msm.extract(molsys_B, selection='molecule_type==\"protein\"')"
   ]
  },
  {
   "cell_type": "markdown",
   "id": "e1d47912-46ea-44cc-a0e1-7a91bd66342b",
   "metadata": {},
   "source": [
    "## Compare 'all'"
   ]
  },
  {
   "cell_type": "code",
   "execution_count": 4,
   "id": "f5bca6f9-b26b-4a17-8fa2-c503bbe36e89",
   "metadata": {},
   "outputs": [
    {
     "data": {
      "text/plain": [
       "True"
      ]
     },
     "execution_count": 4,
     "metadata": {},
     "output_type": "execute_result"
    }
   ],
   "source": [
    "msm.compare(molsys_A, molsys_B, comparison='all', rule='A_eq_B')"
   ]
  },
  {
   "cell_type": "code",
   "execution_count": 5,
   "id": "a5b057cf-9bc7-4ac3-8e4f-fdef4ac6ab6a",
   "metadata": {},
   "outputs": [
    {
     "data": {
      "text/plain": [
       "False"
      ]
     },
     "execution_count": 5,
     "metadata": {},
     "output_type": "execute_result"
    }
   ],
   "source": [
    "msm.compare(molsys_C, molsys_B, comparison='all', rule='A_eq_B')"
   ]
  },
  {
   "cell_type": "code",
   "execution_count": 6,
   "id": "4a48d678-ab15-4c87-98c6-9e4aa03c5040",
   "metadata": {},
   "outputs": [
    {
     "data": {
      "text/plain": [
       "(False,\n",
       " {'n_atoms': False,\n",
       "  'n_groups': False,\n",
       "  'n_molecules': False,\n",
       "  'n_chains': False,\n",
       "  'n_entities': False,\n",
       "  'atom_names': False,\n",
       "  'atom_types': False,\n",
       "  'atom_ids': False,\n",
       "  'group_names': False,\n",
       "  'group_types': False,\n",
       "  'group_ids': False,\n",
       "  'molecule_names': False,\n",
       "  'molecule_types': False,\n",
       "  'molecule_ids': False,\n",
       "  'chain_names': False,\n",
       "  'chain_types': False,\n",
       "  'chain_ids': False,\n",
       "  'entity_names': False,\n",
       "  'entity_types': False,\n",
       "  'entity_ids': False,\n",
       "  'coordinates': False})"
      ]
     },
     "execution_count": 6,
     "metadata": {},
     "output_type": "execute_result"
    }
   ],
   "source": [
    "msm.compare(molsys_C, molsys_B, comparison='all', rule='A_eq_B', report =True)"
   ]
  },
  {
   "cell_type": "markdown",
   "id": "bd7d1289-864c-467e-b873-76ea7b124299",
   "metadata": {},
   "source": [
    "## Compare 'info'"
   ]
  },
  {
   "cell_type": "code",
   "execution_count": 7,
   "id": "edc80e55-47f2-4821-9868-0adcb036afd7",
   "metadata": {},
   "outputs": [
    {
     "data": {
      "text/plain": [
       "False"
      ]
     },
     "execution_count": 7,
     "metadata": {},
     "output_type": "execute_result"
    }
   ],
   "source": [
    "msm.compare(molsys_A, molsys_B, comparison='info', rule='A_eq_B')"
   ]
  },
  {
   "cell_type": "code",
   "execution_count": 8,
   "id": "f3c65e6f-ed62-437d-9476-267b01d6b88f",
   "metadata": {},
   "outputs": [
    {
     "data": {
      "text/plain": [
       "True"
      ]
     },
     "execution_count": 8,
     "metadata": {},
     "output_type": "execute_result"
    }
   ],
   "source": [
    "msm.compare(molsys_A, molsys_B, comparison='n_elements', rule='A_eq_B')"
   ]
  },
  {
   "cell_type": "code",
   "execution_count": 9,
   "id": "8855bf83-ff19-4761-b998-8d3354a0093f",
   "metadata": {},
   "outputs": [
    {
     "data": {
      "text/plain": [
       "True"
      ]
     },
     "execution_count": 9,
     "metadata": {},
     "output_type": "execute_result"
    }
   ],
   "source": [
    "msm.compare(molsys_A, molsys_B, comparison='n_molecules', rule='A_eq_B')"
   ]
  },
  {
   "cell_type": "code",
   "execution_count": 10,
   "id": "53621cf4-620e-410b-8e5d-395aaab116a3",
   "metadata": {},
   "outputs": [
    {
     "data": {
      "text/plain": [
       "True"
      ]
     },
     "execution_count": 10,
     "metadata": {},
     "output_type": "execute_result"
    }
   ],
   "source": [
    "msm.compare(molsys_A, molsys_B, comparison='n_structures', rule='A_eq_B')"
   ]
  },
  {
   "cell_type": "code",
   "execution_count": 11,
   "id": "8086a0b2-766c-4485-99bd-44e564573829",
   "metadata": {},
   "outputs": [
    {
     "data": {
      "text/plain": [
       "False"
      ]
     },
     "execution_count": 11,
     "metadata": {},
     "output_type": "execute_result"
    }
   ],
   "source": [
    "msm.compare(molsys_A, molsys_B, comparison='form', rule='A_eq_B')"
   ]
  },
  {
   "cell_type": "code",
   "execution_count": null,
   "id": "0291e66d-f640-491a-998f-3acdf1621e45",
   "metadata": {},
   "outputs": [],
   "source": []
  }
 ],
 "metadata": {
  "kernelspec": {
   "display_name": "Python 3 (ipykernel)",
   "language": "python",
   "name": "python3"
  },
  "language_info": {
   "codemirror_mode": {
    "name": "ipython",
    "version": 3
   },
   "file_extension": ".py",
   "mimetype": "text/x-python",
   "name": "python",
   "nbconvert_exporter": "python",
   "pygments_lexer": "ipython3",
   "version": "3.7.12"
  }
 },
 "nbformat": 4,
 "nbformat_minor": 5
}
