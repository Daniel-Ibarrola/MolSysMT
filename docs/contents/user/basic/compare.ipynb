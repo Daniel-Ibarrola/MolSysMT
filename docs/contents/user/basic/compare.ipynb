{
 "cells": [
  {
   "cell_type": "code",
   "execution_count": 1,
   "id": "a518dd5a-046f-48ea-a1e4-894f38c17ca5",
   "metadata": {},
   "outputs": [],
   "source": [
    "%load_ext autoreload\n",
    "%autoreload 2"
   ]
  },
  {
   "cell_type": "code",
   "execution_count": 2,
   "id": "6c2aefa9-fa58-4ab0-9aac-bd1dce22b58f",
   "metadata": {},
   "outputs": [
    {
     "data": {
      "application/vnd.jupyter.widget-view+json": {
       "model_id": "15a4bdf5136e4e64b54f7c0b32d354b6",
       "version_major": 2,
       "version_minor": 0
      },
      "text/plain": []
     },
     "metadata": {},
     "output_type": "display_data"
    }
   ],
   "source": [
    "import molsysmt as msm"
   ]
  },
  {
   "cell_type": "markdown",
   "id": "f5d55d2e-7cbd-4680-9fc5-c71bfb10e5a9",
   "metadata": {},
   "source": [
    "# Compare"
   ]
  },
  {
   "cell_type": "code",
   "execution_count": 3,
   "id": "49b60f38-a42d-4e2f-8aa8-4d4c614cbcac",
   "metadata": {},
   "outputs": [
    {
     "name": "stderr",
     "output_type": "stream",
     "text": [
      "/home/diego/projects/MolSysMT/molsysmt/form/mmtf_MMTFDecoder/to_molsysmt_Topology.py:34: UserWarning: The structure in the PDB has biological assemblies. There are geometrical transformations proposed in the structure. See the following issue in the source code repository: https://github.com/uibcdf/MolSysMT/issues/33\n",
      "  warnings.warn(warning_message)\n"
     ]
    }
   ],
   "source": [
    "molsys_A = msm.convert('pdb_id:2LAO', to_form='openmm.Modeller')\n",
    "molsys_B = msm.convert(molsys_A, to_form='molsysmt.MolSys')\n",
    "molsys_C = msm.extract(molsys_B, selection='molecule_type==\"protein\"')"
   ]
  },
  {
   "cell_type": "markdown",
   "id": "e1d47912-46ea-44cc-a0e1-7a91bd66342b",
   "metadata": {},
   "source": [
    "## Compare 'all'"
   ]
  },
  {
   "cell_type": "code",
   "execution_count": 4,
   "id": "2d1994d0-7599-4b9e-a87f-125788c73585",
   "metadata": {},
   "outputs": [
    {
     "data": {
      "text/plain": [
       "2"
      ]
     },
     "execution_count": 4,
     "metadata": {},
     "output_type": "execute_result"
    }
   ],
   "source": [
    "msm.get(molsys_B, n_entities=True)"
   ]
  },
  {
   "cell_type": "code",
   "execution_count": 5,
   "id": "06ec2791-0d3d-4646-bf2f-aa53ab9df1b0",
   "metadata": {},
   "outputs": [
    {
     "data": {
      "text/html": [
       "<style type=\"text/css\">\n",
       "</style>\n",
       "<table id=\"T_a19ac_\">\n",
       "  <thead>\n",
       "    <tr>\n",
       "      <th class=\"col_heading level0 col0\" >index</th>\n",
       "      <th class=\"col_heading level0 col1\" >name</th>\n",
       "      <th class=\"col_heading level0 col2\" >type</th>\n",
       "      <th class=\"col_heading level0 col3\" >n atoms</th>\n",
       "      <th class=\"col_heading level0 col4\" >n groups</th>\n",
       "      <th class=\"col_heading level0 col5\" >n components</th>\n",
       "      <th class=\"col_heading level0 col6\" >n chains</th>\n",
       "      <th class=\"col_heading level0 col7\" >n molecules</th>\n",
       "    </tr>\n",
       "  </thead>\n",
       "  <tbody>\n",
       "    <tr>\n",
       "      <td id=\"T_a19ac_row0_col0\" class=\"data row0 col0\" >0</td>\n",
       "      <td id=\"T_a19ac_row0_col1\" class=\"data row0 col1\" >Protein_0</td>\n",
       "      <td id=\"T_a19ac_row0_col2\" class=\"data row0 col2\" >protein</td>\n",
       "      <td id=\"T_a19ac_row0_col3\" class=\"data row0 col3\" >1822</td>\n",
       "      <td id=\"T_a19ac_row0_col4\" class=\"data row0 col4\" >238</td>\n",
       "      <td id=\"T_a19ac_row0_col5\" class=\"data row0 col5\" >1</td>\n",
       "      <td id=\"T_a19ac_row0_col6\" class=\"data row0 col6\" >1</td>\n",
       "      <td id=\"T_a19ac_row0_col7\" class=\"data row0 col7\" >1</td>\n",
       "    </tr>\n",
       "    <tr>\n",
       "      <td id=\"T_a19ac_row1_col0\" class=\"data row1 col0\" >1</td>\n",
       "      <td id=\"T_a19ac_row1_col1\" class=\"data row1 col1\" >water</td>\n",
       "      <td id=\"T_a19ac_row1_col2\" class=\"data row1 col2\" >water</td>\n",
       "      <td id=\"T_a19ac_row1_col3\" class=\"data row1 col3\" >89</td>\n",
       "      <td id=\"T_a19ac_row1_col4\" class=\"data row1 col4\" >89</td>\n",
       "      <td id=\"T_a19ac_row1_col5\" class=\"data row1 col5\" >89</td>\n",
       "      <td id=\"T_a19ac_row1_col6\" class=\"data row1 col6\" >1</td>\n",
       "      <td id=\"T_a19ac_row1_col7\" class=\"data row1 col7\" >89</td>\n",
       "    </tr>\n",
       "  </tbody>\n",
       "</table>\n"
      ],
      "text/plain": [
       "<pandas.io.formats.style.Styler at 0x7f16a4e66f90>"
      ]
     },
     "execution_count": 5,
     "metadata": {},
     "output_type": "execute_result"
    }
   ],
   "source": [
    "msm.info(molsys_B, target='entity')"
   ]
  },
  {
   "cell_type": "code",
   "execution_count": 11,
   "id": "ab88154b-956a-41a3-b190-04f92787dadf",
   "metadata": {},
   "outputs": [
    {
     "data": {
      "text/html": [
       "<style type=\"text/css\">\n",
       "</style>\n",
       "<table id=\"T_a53a1_\">\n",
       "  <thead>\n",
       "    <tr>\n",
       "      <th class=\"col_heading level0 col0\" >index</th>\n",
       "      <th class=\"col_heading level0 col1\" >name</th>\n",
       "      <th class=\"col_heading level0 col2\" >type</th>\n",
       "      <th class=\"col_heading level0 col3\" >n atoms</th>\n",
       "      <th class=\"col_heading level0 col4\" >n groups</th>\n",
       "      <th class=\"col_heading level0 col5\" >n components</th>\n",
       "      <th class=\"col_heading level0 col6\" >n chains</th>\n",
       "      <th class=\"col_heading level0 col7\" >n molecules</th>\n",
       "    </tr>\n",
       "  </thead>\n",
       "  <tbody>\n",
       "    <tr>\n",
       "      <td id=\"T_a53a1_row0_col0\" class=\"data row0 col0\" >None</td>\n",
       "      <td id=\"T_a53a1_row0_col1\" class=\"data row0 col1\" >None</td>\n",
       "      <td id=\"T_a53a1_row0_col2\" class=\"data row0 col2\" >None</td>\n",
       "      <td id=\"T_a53a1_row0_col3\" class=\"data row0 col3\" >1822</td>\n",
       "      <td id=\"T_a53a1_row0_col4\" class=\"data row0 col4\" >238</td>\n",
       "      <td id=\"T_a53a1_row0_col5\" class=\"data row0 col5\" >1</td>\n",
       "      <td id=\"T_a53a1_row0_col6\" class=\"data row0 col6\" >0</td>\n",
       "      <td id=\"T_a53a1_row0_col7\" class=\"data row0 col7\" >1</td>\n",
       "    </tr>\n",
       "    <tr>\n",
       "      <td id=\"T_a53a1_row1_col0\" class=\"data row1 col0\" >None</td>\n",
       "      <td id=\"T_a53a1_row1_col1\" class=\"data row1 col1\" >None</td>\n",
       "      <td id=\"T_a53a1_row1_col2\" class=\"data row1 col2\" >None</td>\n",
       "      <td id=\"T_a53a1_row1_col3\" class=\"data row1 col3\" >89</td>\n",
       "      <td id=\"T_a53a1_row1_col4\" class=\"data row1 col4\" >89</td>\n",
       "      <td id=\"T_a53a1_row1_col5\" class=\"data row1 col5\" >89</td>\n",
       "      <td id=\"T_a53a1_row1_col6\" class=\"data row1 col6\" >0</td>\n",
       "      <td id=\"T_a53a1_row1_col7\" class=\"data row1 col7\" >89</td>\n",
       "    </tr>\n",
       "  </tbody>\n",
       "</table>\n"
      ],
      "text/plain": [
       "<pandas.io.formats.style.Styler at 0x7f16a32f3b90>"
      ]
     },
     "execution_count": 11,
     "metadata": {},
     "output_type": "execute_result"
    }
   ],
   "source": [
    "msm.info(molsys_A, target='entity')"
   ]
  },
  {
   "cell_type": "code",
   "execution_count": 12,
   "id": "f5bca6f9-b26b-4a17-8fa2-c503bbe36e89",
   "metadata": {},
   "outputs": [
    {
     "data": {
      "text/plain": [
       "(False,\n",
       " {'n_entities': False,\n",
       "  'entity_names': False,\n",
       "  'entity_types': False,\n",
       "  'entity_ids': False})"
      ]
     },
     "execution_count": 12,
     "metadata": {},
     "output_type": "execute_result"
    }
   ],
   "source": [
    "msm.compare(molsys_A, molsys_B, comparison='all', rule='A_eq_B', report =True)"
   ]
  },
  {
   "cell_type": "code",
   "execution_count": 13,
   "id": "a5b057cf-9bc7-4ac3-8e4f-fdef4ac6ab6a",
   "metadata": {},
   "outputs": [
    {
     "data": {
      "text/plain": [
       "False"
      ]
     },
     "execution_count": 13,
     "metadata": {},
     "output_type": "execute_result"
    }
   ],
   "source": [
    "msm.compare(molsys_C, molsys_B, comparison='all', rule='A_eq_B')"
   ]
  },
  {
   "cell_type": "code",
   "execution_count": 14,
   "id": "4a48d678-ab15-4c87-98c6-9e4aa03c5040",
   "metadata": {},
   "outputs": [
    {
     "data": {
      "text/plain": [
       "(False,\n",
       " {'n_atoms': False,\n",
       "  'n_groups': False,\n",
       "  'n_molecules': False,\n",
       "  'n_chains': False,\n",
       "  'n_entities': False,\n",
       "  'atom_names': False,\n",
       "  'atom_types': False,\n",
       "  'atom_ids': False,\n",
       "  'group_names': False,\n",
       "  'group_types': False,\n",
       "  'group_ids': False,\n",
       "  'molecule_names': False,\n",
       "  'molecule_types': False,\n",
       "  'molecule_ids': False,\n",
       "  'chain_names': False,\n",
       "  'chain_types': False,\n",
       "  'chain_ids': False,\n",
       "  'entity_names': False,\n",
       "  'entity_types': False,\n",
       "  'entity_ids': False,\n",
       "  'coordinates': False})"
      ]
     },
     "execution_count": 14,
     "metadata": {},
     "output_type": "execute_result"
    }
   ],
   "source": [
    "msm.compare(molsys_C, molsys_B, comparison='all', rule='A_eq_B', report =True)"
   ]
  },
  {
   "cell_type": "markdown",
   "id": "bd7d1289-864c-467e-b873-76ea7b124299",
   "metadata": {},
   "source": [
    "## Compare 'info'"
   ]
  },
  {
   "cell_type": "code",
   "execution_count": 16,
   "id": "edc80e55-47f2-4821-9868-0adcb036afd7",
   "metadata": {},
   "outputs": [
    {
     "data": {
      "text/plain": [
       "False"
      ]
     },
     "execution_count": 16,
     "metadata": {},
     "output_type": "execute_result"
    }
   ],
   "source": [
    "msm.compare(molsys_A, molsys_B, comparison='info', rule='A_eq_B')"
   ]
  },
  {
   "cell_type": "code",
   "execution_count": 17,
   "id": "f3c65e6f-ed62-437d-9476-267b01d6b88f",
   "metadata": {},
   "outputs": [
    {
     "data": {
      "text/plain": [
       "False"
      ]
     },
     "execution_count": 17,
     "metadata": {},
     "output_type": "execute_result"
    }
   ],
   "source": [
    "msm.compare(molsys_A, molsys_B, comparison='n_elements', rule='A_eq_B')"
   ]
  },
  {
   "cell_type": "code",
   "execution_count": 18,
   "id": "8855bf83-ff19-4761-b998-8d3354a0093f",
   "metadata": {},
   "outputs": [
    {
     "data": {
      "text/plain": [
       "True"
      ]
     },
     "execution_count": 18,
     "metadata": {},
     "output_type": "execute_result"
    }
   ],
   "source": [
    "msm.compare(molsys_A, molsys_B, comparison='n_molecules', rule='A_eq_B')"
   ]
  },
  {
   "cell_type": "code",
   "execution_count": 20,
   "id": "53621cf4-620e-410b-8e5d-395aaab116a3",
   "metadata": {},
   "outputs": [
    {
     "data": {
      "text/plain": [
       "True"
      ]
     },
     "execution_count": 20,
     "metadata": {},
     "output_type": "execute_result"
    }
   ],
   "source": [
    "msm.compare(molsys_A, molsys_B, comparison='n_structures', rule='A_eq_B')"
   ]
  },
  {
   "cell_type": "code",
   "execution_count": 21,
   "id": "8086a0b2-766c-4485-99bd-44e564573829",
   "metadata": {},
   "outputs": [
    {
     "data": {
      "text/plain": [
       "False"
      ]
     },
     "execution_count": 21,
     "metadata": {},
     "output_type": "execute_result"
    }
   ],
   "source": [
    "msm.compare(molsys_A, molsys_B, comparison='form', rule='A_eq_B')"
   ]
  },
  {
   "cell_type": "code",
   "execution_count": null,
   "id": "0291e66d-f640-491a-998f-3acdf1621e45",
   "metadata": {},
   "outputs": [],
   "source": []
  }
 ],
 "metadata": {
  "kernelspec": {
   "display_name": "Python 3 (ipykernel)",
   "language": "python",
   "name": "python3"
  },
  "language_info": {
   "codemirror_mode": {
    "name": "ipython",
    "version": 3
   },
   "file_extension": ".py",
   "mimetype": "text/x-python",
   "name": "python",
   "nbconvert_exporter": "python",
   "pygments_lexer": "ipython3",
   "version": "3.7.12"
  }
 },
 "nbformat": 4,
 "nbformat_minor": 5
}
