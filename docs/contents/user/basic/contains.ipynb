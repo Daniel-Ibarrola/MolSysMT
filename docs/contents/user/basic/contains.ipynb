{
 "cells": [
  {
   "cell_type": "code",
   "execution_count": 1,
   "id": "56c551db-85c3-4532-b941-8a3eb7e7413f",
   "metadata": {},
   "outputs": [],
   "source": [
    "%load_ext autoreload\n",
    "%autoreload 2"
   ]
  },
  {
   "cell_type": "code",
   "execution_count": 2,
   "id": "0f0ba0ab-b67e-45c9-86d4-a1d1f5eba3f9",
   "metadata": {},
   "outputs": [
    {
     "data": {
      "application/vnd.jupyter.widget-view+json": {
       "model_id": "574cadd7822645949c27a570d988f884",
       "version_major": 2,
       "version_minor": 0
      },
      "text/plain": []
     },
     "metadata": {},
     "output_type": "display_data"
    }
   ],
   "source": [
    "import molsysmt as msm"
   ]
  },
  {
   "cell_type": "markdown",
   "id": "5146fd03-ff69-465c-8385-9314ad9315c6",
   "metadata": {},
   "source": [
    "# Contains"
   ]
  },
  {
   "cell_type": "code",
   "execution_count": 3,
   "id": "2309a1c3-7fe5-4e59-83c0-0fbd8a32c0aa",
   "metadata": {},
   "outputs": [
    {
     "name": "stderr",
     "output_type": "stream",
     "text": [
      "/home/diego/projects/MolSysMT/molsysmt/form/mmtf_MMTFDecoder/to_molsysmt_Topology.py:34: UserWarning: The structure in the PDB has biological assemblies. There are geometrical transformations proposed in the structure. See the following issue in the source code repository: https://github.com/uibcdf/MolSysMT/issues/33\n",
      "  warnings.warn(warning_message)\n"
     ]
    }
   ],
   "source": [
    "molsys = msm.convert('pdb_id:181L', to_form='molsysmt.MolSys')"
   ]
  },
  {
   "cell_type": "code",
   "execution_count": 4,
   "id": "7443e65e-89d5-44fe-be63-98c03aaea066",
   "metadata": {},
   "outputs": [
    {
     "data": {
      "text/html": [
       "<style type=\"text/css\">\n",
       "</style>\n",
       "<table id=\"T_9bf8e_\">\n",
       "  <thead>\n",
       "    <tr>\n",
       "      <th class=\"col_heading level0 col0\" >form</th>\n",
       "      <th class=\"col_heading level0 col1\" >n_atoms</th>\n",
       "      <th class=\"col_heading level0 col2\" >n_groups</th>\n",
       "      <th class=\"col_heading level0 col3\" >n_components</th>\n",
       "      <th class=\"col_heading level0 col4\" >n_chains</th>\n",
       "      <th class=\"col_heading level0 col5\" >n_molecules</th>\n",
       "      <th class=\"col_heading level0 col6\" >n_entities</th>\n",
       "      <th class=\"col_heading level0 col7\" >n_waters</th>\n",
       "      <th class=\"col_heading level0 col8\" >n_ions</th>\n",
       "      <th class=\"col_heading level0 col9\" >n_small_molecules</th>\n",
       "      <th class=\"col_heading level0 col10\" >n_proteins</th>\n",
       "      <th class=\"col_heading level0 col11\" >n_structures</th>\n",
       "    </tr>\n",
       "  </thead>\n",
       "  <tbody>\n",
       "    <tr>\n",
       "      <td id=\"T_9bf8e_row0_col0\" class=\"data row0 col0\" >molsysmt.MolSys</td>\n",
       "      <td id=\"T_9bf8e_row0_col1\" class=\"data row0 col1\" >1441</td>\n",
       "      <td id=\"T_9bf8e_row0_col2\" class=\"data row0 col2\" >302</td>\n",
       "      <td id=\"T_9bf8e_row0_col3\" class=\"data row0 col3\" >141</td>\n",
       "      <td id=\"T_9bf8e_row0_col4\" class=\"data row0 col4\" >6</td>\n",
       "      <td id=\"T_9bf8e_row0_col5\" class=\"data row0 col5\" >141</td>\n",
       "      <td id=\"T_9bf8e_row0_col6\" class=\"data row0 col6\" >5</td>\n",
       "      <td id=\"T_9bf8e_row0_col7\" class=\"data row0 col7\" >136</td>\n",
       "      <td id=\"T_9bf8e_row0_col8\" class=\"data row0 col8\" >2</td>\n",
       "      <td id=\"T_9bf8e_row0_col9\" class=\"data row0 col9\" >2</td>\n",
       "      <td id=\"T_9bf8e_row0_col10\" class=\"data row0 col10\" >1</td>\n",
       "      <td id=\"T_9bf8e_row0_col11\" class=\"data row0 col11\" >1</td>\n",
       "    </tr>\n",
       "  </tbody>\n",
       "</table>\n"
      ],
      "text/plain": [
       "<pandas.io.formats.style.Styler at 0x7f2af51bc150>"
      ]
     },
     "execution_count": 4,
     "metadata": {},
     "output_type": "execute_result"
    }
   ],
   "source": [
    "msm.info(molsys)"
   ]
  },
  {
   "cell_type": "code",
   "execution_count": 5,
   "id": "5665d61b-832d-4213-b705-23e7816a298f",
   "metadata": {},
   "outputs": [
    {
     "data": {
      "text/html": [
       "<style type=\"text/css\">\n",
       "</style>\n",
       "<table id=\"T_2bfe8_\">\n",
       "  <thead>\n",
       "    <tr>\n",
       "      <th class=\"col_heading level0 col0\" >index</th>\n",
       "      <th class=\"col_heading level0 col1\" >name</th>\n",
       "      <th class=\"col_heading level0 col2\" >type</th>\n",
       "      <th class=\"col_heading level0 col3\" >n atoms</th>\n",
       "      <th class=\"col_heading level0 col4\" >n groups</th>\n",
       "      <th class=\"col_heading level0 col5\" >n components</th>\n",
       "      <th class=\"col_heading level0 col6\" >n chains</th>\n",
       "      <th class=\"col_heading level0 col7\" >n molecules</th>\n",
       "    </tr>\n",
       "  </thead>\n",
       "  <tbody>\n",
       "    <tr>\n",
       "      <td id=\"T_2bfe8_row0_col0\" class=\"data row0 col0\" >0</td>\n",
       "      <td id=\"T_2bfe8_row0_col1\" class=\"data row0 col1\" >T4 lysozyme</td>\n",
       "      <td id=\"T_2bfe8_row0_col2\" class=\"data row0 col2\" >protein</td>\n",
       "      <td id=\"T_2bfe8_row0_col3\" class=\"data row0 col3\" >1289</td>\n",
       "      <td id=\"T_2bfe8_row0_col4\" class=\"data row0 col4\" >162</td>\n",
       "      <td id=\"T_2bfe8_row0_col5\" class=\"data row0 col5\" >1</td>\n",
       "      <td id=\"T_2bfe8_row0_col6\" class=\"data row0 col6\" >1</td>\n",
       "      <td id=\"T_2bfe8_row0_col7\" class=\"data row0 col7\" >1</td>\n",
       "    </tr>\n",
       "    <tr>\n",
       "      <td id=\"T_2bfe8_row1_col0\" class=\"data row1 col0\" >1</td>\n",
       "      <td id=\"T_2bfe8_row1_col1\" class=\"data row1 col1\" >CHLORIDE ION</td>\n",
       "      <td id=\"T_2bfe8_row1_col2\" class=\"data row1 col2\" >ion</td>\n",
       "      <td id=\"T_2bfe8_row1_col3\" class=\"data row1 col3\" >2</td>\n",
       "      <td id=\"T_2bfe8_row1_col4\" class=\"data row1 col4\" >2</td>\n",
       "      <td id=\"T_2bfe8_row1_col5\" class=\"data row1 col5\" >2</td>\n",
       "      <td id=\"T_2bfe8_row1_col6\" class=\"data row1 col6\" >2</td>\n",
       "      <td id=\"T_2bfe8_row1_col7\" class=\"data row1 col7\" >2</td>\n",
       "    </tr>\n",
       "    <tr>\n",
       "      <td id=\"T_2bfe8_row2_col0\" class=\"data row2 col0\" >2</td>\n",
       "      <td id=\"T_2bfe8_row2_col1\" class=\"data row2 col1\" >2-HYDROXYETHYL DISULFIDE</td>\n",
       "      <td id=\"T_2bfe8_row2_col2\" class=\"data row2 col2\" >small molecule</td>\n",
       "      <td id=\"T_2bfe8_row2_col3\" class=\"data row2 col3\" >8</td>\n",
       "      <td id=\"T_2bfe8_row2_col4\" class=\"data row2 col4\" >1</td>\n",
       "      <td id=\"T_2bfe8_row2_col5\" class=\"data row2 col5\" >1</td>\n",
       "      <td id=\"T_2bfe8_row2_col6\" class=\"data row2 col6\" >1</td>\n",
       "      <td id=\"T_2bfe8_row2_col7\" class=\"data row2 col7\" >1</td>\n",
       "    </tr>\n",
       "    <tr>\n",
       "      <td id=\"T_2bfe8_row3_col0\" class=\"data row3 col0\" >3</td>\n",
       "      <td id=\"T_2bfe8_row3_col1\" class=\"data row3 col1\" >BENZENE</td>\n",
       "      <td id=\"T_2bfe8_row3_col2\" class=\"data row3 col2\" >small molecule</td>\n",
       "      <td id=\"T_2bfe8_row3_col3\" class=\"data row3 col3\" >6</td>\n",
       "      <td id=\"T_2bfe8_row3_col4\" class=\"data row3 col4\" >1</td>\n",
       "      <td id=\"T_2bfe8_row3_col5\" class=\"data row3 col5\" >1</td>\n",
       "      <td id=\"T_2bfe8_row3_col6\" class=\"data row3 col6\" >1</td>\n",
       "      <td id=\"T_2bfe8_row3_col7\" class=\"data row3 col7\" >1</td>\n",
       "    </tr>\n",
       "    <tr>\n",
       "      <td id=\"T_2bfe8_row4_col0\" class=\"data row4 col0\" >4</td>\n",
       "      <td id=\"T_2bfe8_row4_col1\" class=\"data row4 col1\" >water</td>\n",
       "      <td id=\"T_2bfe8_row4_col2\" class=\"data row4 col2\" >water</td>\n",
       "      <td id=\"T_2bfe8_row4_col3\" class=\"data row4 col3\" >136</td>\n",
       "      <td id=\"T_2bfe8_row4_col4\" class=\"data row4 col4\" >136</td>\n",
       "      <td id=\"T_2bfe8_row4_col5\" class=\"data row4 col5\" >136</td>\n",
       "      <td id=\"T_2bfe8_row4_col6\" class=\"data row4 col6\" >1</td>\n",
       "      <td id=\"T_2bfe8_row4_col7\" class=\"data row4 col7\" >136</td>\n",
       "    </tr>\n",
       "  </tbody>\n",
       "</table>\n"
      ],
      "text/plain": [
       "<pandas.io.formats.style.Styler at 0x7f2baec158d0>"
      ]
     },
     "execution_count": 5,
     "metadata": {},
     "output_type": "execute_result"
    }
   ],
   "source": [
    "msm.info(molsys, target='entity')"
   ]
  },
  {
   "cell_type": "code",
   "execution_count": 6,
   "id": "a3b47f5c-15d6-4c26-ab44-49e4afb3c49a",
   "metadata": {},
   "outputs": [
    {
     "data": {
      "text/plain": [
       "True"
      ]
     },
     "execution_count": 6,
     "metadata": {},
     "output_type": "execute_result"
    }
   ],
   "source": [
    "msm.contains(molsys, waters=True)"
   ]
  },
  {
   "cell_type": "code",
   "execution_count": 7,
   "id": "e81c397a-61da-49ed-94b7-242f2d4ed4ba",
   "metadata": {},
   "outputs": [
    {
     "data": {
      "text/plain": [
       "True"
      ]
     },
     "execution_count": 7,
     "metadata": {},
     "output_type": "execute_result"
    }
   ],
   "source": [
    "msm.contains(molsys, ions=True, small_molecules=True, proteins=True)"
   ]
  },
  {
   "cell_type": "code",
   "execution_count": 8,
   "id": "c090b673-37c3-498e-82a8-c83a03e16243",
   "metadata": {},
   "outputs": [
    {
     "data": {
      "text/plain": [
       "0"
      ]
     },
     "execution_count": 8,
     "metadata": {},
     "output_type": "execute_result"
    }
   ],
   "source": [
    "msm.get(molsys, n_lipids=True)"
   ]
  },
  {
   "cell_type": "code",
   "execution_count": 9,
   "id": "cb005d83-561e-4e09-990b-02cd31812ceb",
   "metadata": {},
   "outputs": [
    {
     "data": {
      "text/plain": [
       "False"
      ]
     },
     "execution_count": 9,
     "metadata": {},
     "output_type": "execute_result"
    }
   ],
   "source": [
    "msm.contains(molsys, proteins=True, lipids=True)"
   ]
  },
  {
   "cell_type": "code",
   "execution_count": 10,
   "id": "07ea4a5d-616f-4d4f-a8a4-36950bc0d280",
   "metadata": {},
   "outputs": [
    {
     "data": {
      "text/plain": [
       "True"
      ]
     },
     "execution_count": 10,
     "metadata": {},
     "output_type": "execute_result"
    }
   ],
   "source": [
    "msm.contains(molsys, lipids=False)"
   ]
  },
  {
   "cell_type": "code",
   "execution_count": 11,
   "id": "cff5be21-08f0-4349-ba27-81230a62d9ab",
   "metadata": {},
   "outputs": [
    {
     "data": {
      "text/plain": [
       "True"
      ]
     },
     "execution_count": 11,
     "metadata": {},
     "output_type": "execute_result"
    }
   ],
   "source": [
    "msm.contains(molsys, proteins=True, lipids=False)"
   ]
  },
  {
   "cell_type": "code",
   "execution_count": 12,
   "id": "1d80ca10-cde5-4440-aad0-b306152291b3",
   "metadata": {},
   "outputs": [
    {
     "data": {
      "text/plain": [
       "True"
      ]
     },
     "execution_count": 12,
     "metadata": {},
     "output_type": "execute_result"
    }
   ],
   "source": [
    "msm.contains(molsys, waters=100, ions=2)"
   ]
  },
  {
   "cell_type": "code",
   "execution_count": 13,
   "id": "6ac59d10-06dd-4992-b0f4-50e020143738",
   "metadata": {},
   "outputs": [
    {
     "data": {
      "text/plain": [
       "False"
      ]
     },
     "execution_count": 13,
     "metadata": {},
     "output_type": "execute_result"
    }
   ],
   "source": [
    "msm.contains(molsys, small_molecules=3, ions=2)"
   ]
  },
  {
   "cell_type": "code",
   "execution_count": null,
   "id": "8ebdf2d1-8988-4dd0-8369-83823197a313",
   "metadata": {},
   "outputs": [],
   "source": []
  }
 ],
 "metadata": {
  "kernelspec": {
   "display_name": "Python 3 (ipykernel)",
   "language": "python",
   "name": "python3"
  },
  "language_info": {
   "codemirror_mode": {
    "name": "ipython",
    "version": 3
   },
   "file_extension": ".py",
   "mimetype": "text/x-python",
   "name": "python",
   "nbconvert_exporter": "python",
   "pygments_lexer": "ipython3",
   "version": "3.7.12"
  }
 },
 "nbformat": 4,
 "nbformat_minor": 5
}
