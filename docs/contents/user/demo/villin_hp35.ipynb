{
 "cells": [
  {
   "cell_type": "code",
   "execution_count": 1,
   "id": "c8db65b4-6a27-4e95-ba08-4e4bba066db5",
   "metadata": {},
   "outputs": [],
   "source": [
    "%load_ext autoreload\n",
    "%autoreload 2"
   ]
  },
  {
   "cell_type": "markdown",
   "id": "4ae9b475-f540-4836-ba1d-26831417222f",
   "metadata": {},
   "source": [
    "# Villin subdomain HP-35"
   ]
  },
  {
   "cell_type": "markdown",
   "id": "9b0f8610-68bd-47eb-a683-8767a6dcbb5e",
   "metadata": {},
   "source": [
    "Chicken villin subdomain headpiece 35 (pdbid:1vii)"
   ]
  },
  {
   "cell_type": "code",
   "execution_count": 2,
   "id": "f397f714-ef5c-429b-83bb-f12ddbb7990f",
   "metadata": {},
   "outputs": [
    {
     "name": "stderr",
     "output_type": "stream",
     "text": [
      "Warning: importing 'simtk.openmm' is deprecated.  Import 'openmm' instead.\n"
     ]
    },
    {
     "data": {
      "application/vnd.jupyter.widget-view+json": {
       "model_id": "3dd67c1b910949debaf7734aa97a02de",
       "version_major": 2,
       "version_minor": 0
      },
      "text/plain": []
     },
     "metadata": {},
     "output_type": "display_data"
    }
   ],
   "source": [
    "import molsysmt as msm"
   ]
  },
  {
   "cell_type": "code",
   "execution_count": 10,
   "id": "1350a989-b9e7-407b-b498-53fa2bd7dcd7",
   "metadata": {},
   "outputs": [
    {
     "data": {
      "text/plain": [
       "dict_keys(['1vii.pdb', '1vii.mmtf', 'vacuum.msmpk', 'solvated.msmpk', 'traj_explicit_solvent.dcd', 'traj_explicit_solvent.h5'])"
      ]
     },
     "execution_count": 10,
     "metadata": {},
     "output_type": "execute_result"
    }
   ],
   "source": [
    "msm.demo.villin_HP35.keys()"
   ]
  },
  {
   "cell_type": "code",
   "execution_count": 4,
   "id": "d5659702-c2e3-41df-95bb-261fc7768f5d",
   "metadata": {},
   "outputs": [],
   "source": [
    "molsys = msm.convert(msm.demo.villin_HP35['solvated.msmpk'], 'molsysmt.MolSys')"
   ]
  },
  {
   "cell_type": "code",
   "execution_count": 6,
   "id": "cdc178d1-666f-4e32-aefe-1d71e983f718",
   "metadata": {},
   "outputs": [
    {
     "data": {
      "text/html": [
       "<style type=\"text/css\">\n",
       "</style>\n",
       "<table id=\"T_9ede8_\">\n",
       "  <thead>\n",
       "    <tr>\n",
       "      <th class=\"col_heading level0 col0\" >form</th>\n",
       "      <th class=\"col_heading level0 col1\" >n_atoms</th>\n",
       "      <th class=\"col_heading level0 col2\" >n_groups</th>\n",
       "      <th class=\"col_heading level0 col3\" >n_components</th>\n",
       "      <th class=\"col_heading level0 col4\" >n_chains</th>\n",
       "      <th class=\"col_heading level0 col5\" >n_molecules</th>\n",
       "      <th class=\"col_heading level0 col6\" >n_entities</th>\n",
       "      <th class=\"col_heading level0 col7\" >n_waters</th>\n",
       "      <th class=\"col_heading level0 col8\" >n_ions</th>\n",
       "      <th class=\"col_heading level0 col9\" >n_peptides</th>\n",
       "      <th class=\"col_heading level0 col10\" >n_frames</th>\n",
       "    </tr>\n",
       "  </thead>\n",
       "  <tbody>\n",
       "    <tr>\n",
       "      <td id=\"T_9ede8_row0_col0\" class=\"data row0 col0\" >molsysmt.MolSys</td>\n",
       "      <td id=\"T_9ede8_row0_col1\" class=\"data row0 col1\" >5104</td>\n",
       "      <td id=\"T_9ede8_row0_col2\" class=\"data row0 col2\" >1539</td>\n",
       "      <td id=\"T_9ede8_row0_col3\" class=\"data row0 col3\" >1502</td>\n",
       "      <td id=\"T_9ede8_row0_col4\" class=\"data row0 col4\" >3</td>\n",
       "      <td id=\"T_9ede8_row0_col5\" class=\"data row0 col5\" >1502</td>\n",
       "      <td id=\"T_9ede8_row0_col6\" class=\"data row0 col6\" >3</td>\n",
       "      <td id=\"T_9ede8_row0_col7\" class=\"data row0 col7\" >1499</td>\n",
       "      <td id=\"T_9ede8_row0_col8\" class=\"data row0 col8\" >2</td>\n",
       "      <td id=\"T_9ede8_row0_col9\" class=\"data row0 col9\" >1</td>\n",
       "      <td id=\"T_9ede8_row0_col10\" class=\"data row0 col10\" >1</td>\n",
       "    </tr>\n",
       "  </tbody>\n",
       "</table>\n"
      ],
      "text/plain": [
       "<pandas.io.formats.style.Styler at 0x7f150bb951d0>"
      ]
     },
     "execution_count": 6,
     "metadata": {},
     "output_type": "execute_result"
    }
   ],
   "source": [
    "msm.info(molsys)"
   ]
  },
  {
   "cell_type": "markdown",
   "id": "58fdc56a-7bed-4f1f-bf16-56fd138eeb4a",
   "metadata": {},
   "source": [
    "## References\n",
    "\n",
    "[Piana, Stefano, Kresten Lindorff-Larsen, and David E. Shaw. “Protein Folding Kinetics and Thermodynamics from Atomistic Simulation.” Proceedings of the National Academy of Sciences 109, no. 44 (2012): 17845–50.](https://doi.org/10.1073/pnas.1201811109)\n",
    "\n",
    "[Freddolino, Peter L., Christopher B. Harrison, Yanxin Liu, and Klaus Schulten. “Challenges in Protein-Folding Simulations.” Nature Physics 6, no. 10 (2010): 751–58.](https://doi.org/10.1038/nphys1713)\n",
    "\n",
    "[Ensign, Daniel L., Peter M. Kasson, and Vijay S. Pande. “Heterogeneity Even at the Speed Limit of Folding: Large-Scale Molecular Dynamics Study of a Fast-Folding Variant of the Villin Headpiece.” Journal of Molecular Biology 374, no. 3 (2007): 806–16.](https://doi.org/10.1016/j.jmb.2007.09.069)\n",
    "    \n",
    "[Mori, Toshifumi, and Shinji Saito. “Molecular Mechanism Behind the Fast Folding/Unfolding Transitions of Villin Headpiece Subdomain: Hierarchy and Heterogeneity.” The Journal of Physical Chemistry B 120, no. 45 (2016): 11683–91.](https://doi.org/10.1021/acs.jpcb.6b08066)\n",
    "\n",
    "[Bunagan, Michelle R., Jianmin Gao, Jeffery W. Kelly, and Feng Gai. “Probing the Folding Transition State Structure of the Villin Headpiece Subdomain via Side Chain and Backbone Mutagenesis.” Journal of the American Chemical Society 131, no. 21 (2009): 7470–76.](https://doi.org/10.1021/ja901860f)\n",
    "\n",
    "[Meng, Wenli, Bing Shan, Yuefeng Tang, and Daniel P. Raleigh. “Native like Structure in the Unfolded State of the Villin Headpiece Helical Subdomain, an Ultrafast Folding Protein.” Protein Science 18, no. 8 (2009): 1692–1701.](https://doi.org/10.1002/pro.152)\n",
    "\n",
    "[Wang, Ercheng, Peng Tao, Jun Wang, and Yi Xiao. “A Novel Folding Pathway of the Villin Headpiece Subdomain HP35.” Physical Chemistry Chemical Physics 21, no. 33 (2019): 18219–26.](https://doi.org/10.1039/c9cp01703h)\n",
    "\n",
    "[Huang, Jing, Sarah Rauscher, Grzegorz Nawrocki, Ting Ran, Michael Feig, Bert L de Groot, Helmut Grubmüller, and Alexander D MacKerell. “CHARMM36m: An Improved Force Field for Folded and Intrinsically Disordered Proteins.” Nature Methods 14, no. 1 (2017): 71–73.](https://doi.org/10.1038/nmeth.4067)\n",
    "\n",
    "[Eastman, Peter, Mark S. Friedrichs, John D. Chodera, Randall J. Radmer, Christopher M. Bruns, Joy P. Ku, Kyle A. Beauchamp, et al. “OpenMM 4: A Reusable, Extensible, Hardware Independent Library for High Performance Molecular Simulation.” Journal of Chemical Theory and Computation 9, no. 1 (2013): 461–69.](https://doi.org/10.1021/ct300857j)\n",
    "\n",
    "[Harvey, M J, G Giupponi, and G De Fabritiis. “ACEMD: Accelerating Biomolecular Dynamics in the Microsecond Time Scale.” Journal of Chemical Theory and Computation 5, no. 6 (2009): 1632–39.](https://doi.org/10.1021/ct9000685)"
   ]
  }
 ],
 "metadata": {
  "kernelspec": {
   "display_name": "Python 3 (ipykernel)",
   "language": "python",
   "name": "python3"
  },
  "language_info": {
   "codemirror_mode": {
    "name": "ipython",
    "version": 3
   },
   "file_extension": ".py",
   "mimetype": "text/x-python",
   "name": "python",
   "nbconvert_exporter": "python",
   "pygments_lexer": "ipython3",
   "version": "3.7.10"
  }
 },
 "nbformat": 4,
 "nbformat_minor": 5
}
