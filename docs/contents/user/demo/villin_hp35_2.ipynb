{
 "cells": [
  {
   "cell_type": "markdown",
   "id": "90bf61a7-a3ea-4023-9a68-32929e802493",
   "metadata": {},
   "source": [
    "# Villin subdomain HP-35"
   ]
  },
  {
   "cell_type": "code",
   "execution_count": 1,
   "id": "0e8e7bd2-cd9d-4d3b-a97a-00a21b74f988",
   "metadata": {},
   "outputs": [
    {
     "name": "stderr",
     "output_type": "stream",
     "text": [
      "Warning: importing 'simtk.openmm' is deprecated.  Import 'openmm' instead.\n"
     ]
    },
    {
     "data": {
      "application/vnd.jupyter.widget-view+json": {
       "model_id": "85dcf8d161d34ce89f125aa6c75f8965",
       "version_major": 2,
       "version_minor": 0
      },
      "text/plain": []
     },
     "metadata": {},
     "output_type": "display_data"
    },
    {
     "data": {
      "text/plain": [
       "'villin_hp35.pdb'"
      ]
     },
     "execution_count": 1,
     "metadata": {},
     "output_type": "execute_result"
    }
   ],
   "source": [
    "import molsysmt as msm\n",
    "molsys = msm.convert('pdbid:1VII')\n",
    "molsys = msm.build.remove_hydrogens(molsys)\n",
    "molsys = msm.build.add_terminal_cappings(molsys, N_terminal='ACE', C_terminal='NME')\n",
    "msm.convert(molsys, to_form='villin_hp35.pdb')"
   ]
  },
  {
   "cell_type": "code",
   "execution_count": 22,
   "id": "f9410bc6-27d6-4156-b28f-556714120745",
   "metadata": {},
   "outputs": [],
   "source": [
    "from openmm.app import PDBFile, Modeller, ForceField, PME, HBonds, Simulation, StateDataReporter, DCDReporter\n",
    "from openmm import unit, Vec3, LangevinIntegrator, Platform\n",
    "import numpy as np\n",
    "from sys import stdout"
   ]
  },
  {
   "cell_type": "code",
   "execution_count": 3,
   "id": "313d463e-6c7e-460b-9bf3-8cc3cd55f46a",
   "metadata": {},
   "outputs": [],
   "source": [
    "pdb = PDBFile('villin_hp35.pdb')"
   ]
  },
  {
   "cell_type": "code",
   "execution_count": 4,
   "id": "acb1a305-5f39-41c8-a4ed-29b6550fd46b",
   "metadata": {},
   "outputs": [],
   "source": [
    "modeller = Modeller(pdb.topology, pdb.positions)"
   ]
  },
  {
   "cell_type": "code",
   "execution_count": 5,
   "id": "0ba61148-dcad-4fda-b57e-61a9ec6f9e7f",
   "metadata": {},
   "outputs": [
    {
     "data": {
      "text/plain": [
       "<Topology; 1 chains, 38 residues, 299 atoms, 305 bonds>"
      ]
     },
     "execution_count": 5,
     "metadata": {},
     "output_type": "execute_result"
    }
   ],
   "source": [
    "modeller.topology"
   ]
  },
  {
   "cell_type": "code",
   "execution_count": 6,
   "id": "76e7cefb-4008-4664-8c7a-3f75e9473508",
   "metadata": {},
   "outputs": [],
   "source": [
    "forcefield = ForceField(\"amber14-all.xml\", \"amber14/tip3p.xml\")"
   ]
  },
  {
   "cell_type": "code",
   "execution_count": 7,
   "id": "26a5b057-7039-438e-a168-1c4f9fc0c266",
   "metadata": {},
   "outputs": [],
   "source": [
    "_ = modeller.addHydrogens(forcefield, pH=7.4)"
   ]
  },
  {
   "cell_type": "code",
   "execution_count": 8,
   "id": "92fdb682-920f-444c-8f84-c094cc50c209",
   "metadata": {},
   "outputs": [
    {
     "data": {
      "text/plain": [
       "<Topology; 1 chains, 38 residues, 605 atoms, 611 bonds>"
      ]
     },
     "execution_count": 8,
     "metadata": {},
     "output_type": "execute_result"
    }
   ],
   "source": [
    "modeller.topology"
   ]
  },
  {
   "cell_type": "code",
   "execution_count": 9,
   "id": "4ee0d346-f899-4a8b-8edd-c5f7b2204f21",
   "metadata": {},
   "outputs": [],
   "source": [
    "clearance = 14.0*unit.angstroms\n",
    "max_size = max(max((pos[i] for pos in modeller.positions))-min((pos[i] for pos in modeller.positions)) for i in range(3))\n",
    "vectors = Vec3(1.0, 0, 0), Vec3(1.0/3.0, 2.0*np.sqrt(2.0)/3.0,0.0), Vec3(-1.0/3.0, np.sqrt(2.0)/3.0, np.sqrt(6.0)/3.0)\n",
    "box_vectors = [(max_size+clearance)*v for v in vectors]\n",
    "\n",
    "modeller.addSolvent(forcefield, model='tip3p', boxVectors = box_vectors, ionicStrength=0.0*unit.molar,\n",
    "                    positiveIon='Na+', negativeIon='Cl-')"
   ]
  },
  {
   "cell_type": "code",
   "execution_count": 10,
   "id": "49c03710-d914-451f-b836-03e87acff88b",
   "metadata": {},
   "outputs": [
    {
     "data": {
      "text/plain": [
       "<Topology; 3 chains, 1824 residues, 5959 atoms, 4179 bonds>"
      ]
     },
     "execution_count": 10,
     "metadata": {},
     "output_type": "execute_result"
    }
   ],
   "source": [
    "modeller.topology"
   ]
  },
  {
   "cell_type": "code",
   "execution_count": 19,
   "id": "f05a9930-966a-4641-a080-ebc3185acff1",
   "metadata": {},
   "outputs": [
    {
     "data": {
      "text/plain": [
       "Quantity(value=(Vec3(x=4.247429394721985, y=0.0, z=0.0), Vec3(x=1.4158097982406617, y=4.004514836825319, z=0.0), Vec3(x=-1.4158097982406617, y=2.0022574184126594, z=3.4680115785224213)), unit=nanometer)"
      ]
     },
     "execution_count": 19,
     "metadata": {},
     "output_type": "execute_result"
    }
   ],
   "source": [
    "modeller.topology.getPeriodicBoxVectors()"
   ]
  },
  {
   "cell_type": "code",
   "execution_count": 11,
   "id": "3907c958-4931-415a-bed0-4853fd472985",
   "metadata": {},
   "outputs": [],
   "source": [
    "system = forcefield.createSystem(modeller.topology, nonbondedMethod=PME, nonbondedCutoff=1.2*unit.nanometer, constraints=HBonds)"
   ]
  },
  {
   "cell_type": "code",
   "execution_count": 12,
   "id": "1e8936e8-8eb0-4902-9dd3-588e3d46aa45",
   "metadata": {},
   "outputs": [],
   "source": [
    "integrator = LangevinIntegrator(300*unit.kelvin, 1.0/unit.picosecond, 2.0*unit.femtoseconds)"
   ]
  },
  {
   "cell_type": "code",
   "execution_count": 13,
   "id": "87a91d12-9141-43c0-973b-1dd2d58e655b",
   "metadata": {},
   "outputs": [],
   "source": [
    "platform = Platform.getPlatformByName('CUDA')"
   ]
  },
  {
   "cell_type": "code",
   "execution_count": 14,
   "id": "94d9335f-a5d2-48b6-a42b-a1b7a87f2e22",
   "metadata": {},
   "outputs": [],
   "source": [
    "simulation = Simulation(modeller.topology, system, integrator, platform)"
   ]
  },
  {
   "cell_type": "code",
   "execution_count": 15,
   "id": "c43c54c2-97bf-41c1-82cd-45f73abfdb98",
   "metadata": {},
   "outputs": [],
   "source": [
    "simulation.context.setPositions(modeller.positions)"
   ]
  },
  {
   "cell_type": "code",
   "execution_count": 16,
   "id": "9e928e9b-625b-4bf9-82b6-2b3ccf606698",
   "metadata": {},
   "outputs": [],
   "source": [
    "simulation.minimizeEnergy()"
   ]
  },
  {
   "cell_type": "code",
   "execution_count": 17,
   "id": "2d3887a8-05c7-41ed-b42f-f097e26f0cfd",
   "metadata": {},
   "outputs": [],
   "source": [
    "simulation.reporters.append(StateDataReporter(stdout, 1000, step=True, potentialEnergy=True, temperature=True))"
   ]
  },
  {
   "cell_type": "code",
   "execution_count": 18,
   "id": "e2082078-7396-4a85-b214-5879d57f0551",
   "metadata": {},
   "outputs": [
    {
     "name": "stdout",
     "output_type": "stream",
     "text": [
      "#\"Step\",\"Potential Energy (kJ/mole)\",\"Temperature (K)\"\n",
      "1000,-80509.98836319539,255.99131514158285\n",
      "2000,-76550.87898819539,291.59431944193705\n",
      "3000,-75694.58211319539,298.8741416370853\n",
      "4000,-75722.64461319539,294.2623969033308\n",
      "5000,-75519.58211319539,302.8573298379399\n",
      "6000,-75070.39461319539,302.4441522882273\n",
      "7000,-75641.73836319539,301.49771771886793\n",
      "8000,-75845.83211319539,296.6954947047418\n",
      "9000,-75806.22273819539,292.82596840661444\n",
      "10000,-75876.59773819539,298.6811694473404\n"
     ]
    }
   ],
   "source": [
    "simulation.step(10000)"
   ]
  },
  {
   "cell_type": "code",
   "execution_count": 20,
   "id": "cda64587-3f4f-4ba8-958e-a098a50e921c",
   "metadata": {},
   "outputs": [],
   "source": [
    "simulation.context.setTime=0.0*unit.picoseconds"
   ]
  },
  {
   "cell_type": "code",
   "execution_count": 23,
   "id": "501a8e67-3a33-4091-ad6f-d88c2abc8049",
   "metadata": {},
   "outputs": [],
   "source": [
    "simulation.reporters=[]\n",
    "simulation.reporters.append(StateDataReporter(stdout, 50000, step=True, potentialEnergy=True, temperature=True))\n",
    "simulation.reporters.append(DCDReporter('traj.dcd', 50000))"
   ]
  },
  {
   "cell_type": "code",
   "execution_count": 24,
   "id": "61999f41-6124-4e31-8c76-8164abcbdb66",
   "metadata": {},
   "outputs": [
    {
     "name": "stdout",
     "output_type": "stream",
     "text": [
      "#\"Step\",\"Potential Energy (kJ/mole)\",\"Temperature (K)\"\n",
      "50000,-75615.92586319539,300.62087745305274\n",
      "100000,-76215.37898819539,300.0731393561469\n",
      "150000,-76222.42586319539,296.7495471204649\n",
      "200000,-76007.73836319539,303.37717046033634\n",
      "250000,-76108.97273819539,297.7135757702844\n",
      "300000,-75673.17586319539,304.73867920233965\n",
      "350000,-75706.53523819539,294.68913204803897\n",
      "400000,-75466.61336319539,294.862173863917\n",
      "450000,-75869.09773819539,299.88229937494737\n",
      "500000,-75661.64461319539,291.57427657142415\n",
      "550000,-75276.89461319539,295.9157228065551\n",
      "600000,-75741.08211319539,297.37899711121554\n",
      "650000,-75703.26961319539,303.38964276696333\n",
      "700000,-75761.70711319539,303.32573927267737\n",
      "750000,-75538.53523819539,301.55669794673935\n",
      "800000,-75882.78523819539,303.52608664924355\n",
      "850000,-75630.92586319539,307.80926807453903\n",
      "900000,-74934.30086319539,301.22307156683655\n",
      "950000,-75899.86336319539,301.81332893154377\n",
      "1000000,-75676.92586319539,302.56028063118106\n"
     ]
    }
   ],
   "source": [
    "simulation.step(1000000)"
   ]
  },
  {
   "cell_type": "code",
   "execution_count": null,
   "id": "fe8ec359-6dbd-4059-b88b-1bfcd5ae26aa",
   "metadata": {},
   "outputs": [],
   "source": [
    "pdb = PDBFile('input_exercise2.pdb')\n",
    "forcefield = ForceField('amber99sb.xml', 'amber99_obc.xml')\n",
    "print \"Building Model..\"\n",
    "modeller = Modeller(pdb.topology, pdb.positions)\n",
    "print('Adding hydrogens...')\n",
    "modeller.addHydrogens(forcefield)\n",
    "print \"Creating System\"\n",
    "system = forcefield.createSystem(modeller.topology, constraints=HBonds)\n",
    "integrator = LangevinIntegrator(300*kelvin, 91/picosecond, 0.002*picoseconds)\n",
    "simulation = Simulation(modeller.topology, system, integrator)\n",
    "print \"Using Platform:\", simulation.context.getPlatform().getName()\n",
    "simulation.context.setPositions(modeller.positions)"
   ]
  }
 ],
 "metadata": {
  "kernelspec": {
   "display_name": "Python 3 (ipykernel)",
   "language": "python",
   "name": "python3"
  },
  "language_info": {
   "codemirror_mode": {
    "name": "ipython",
    "version": 3
   },
   "file_extension": ".py",
   "mimetype": "text/x-python",
   "name": "python",
   "nbconvert_exporter": "python",
   "pygments_lexer": "ipython3",
   "version": "3.7.10"
  }
 },
 "nbformat": 4,
 "nbformat_minor": 5
}
