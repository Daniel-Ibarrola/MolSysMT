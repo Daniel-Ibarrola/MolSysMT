{
 "cells": [
  {
   "cell_type": "code",
   "execution_count": 1,
   "id": "7884fe0a-9320-4a4e-b5b7-d7b14d5f5c22",
   "metadata": {},
   "outputs": [],
   "source": [
    "%load_ext autoreload\n",
    "%autoreload 2"
   ]
  },
  {
   "cell_type": "markdown",
   "id": "d89a220f-10b3-4525-9762-dd5b6a94b3d0",
   "metadata": {},
   "source": [
    "# Barnase-Barstar complex"
   ]
  },
  {
   "cell_type": "code",
   "execution_count": 2,
   "id": "1bb1e5a4-14f2-494c-8b76-31b77bd01bcc",
   "metadata": {},
   "outputs": [
    {
     "name": "stderr",
     "output_type": "stream",
     "text": [
      "Warning: importing 'simtk.openmm' is deprecated.  Import 'openmm' instead.\n"
     ]
    },
    {
     "data": {
      "application/vnd.jupyter.widget-view+json": {
       "model_id": "55a6729a417645328c65167ea6260591",
       "version_major": 2,
       "version_minor": 0
      },
      "text/plain": []
     },
     "metadata": {},
     "output_type": "display_data"
    },
    {
     "name": "stdout",
     "output_type": "stream",
     "text": [
      "no need to add nglview patch\n"
     ]
    }
   ],
   "source": [
    "import molsysmt as msm"
   ]
  },
  {
   "cell_type": "code",
   "execution_count": 3,
   "id": "18dbdc5d-ccdc-48fd-9137-4014e1482f26",
   "metadata": {},
   "outputs": [
    {
     "name": "stdout",
     "output_type": "stream",
     "text": [
      "The bioassembly has a different number of chains than the total amount of chains\n"
     ]
    },
    {
     "name": "stderr",
     "output_type": "stream",
     "text": [
      "/home/diego/projects/MolSysMT/molsysmt/native/io/topology/mmtf_MMTFDecoder.py:27: UserWarning: The structure in the PDB has biological assemblies. There are geometrical transformations proposed in the structure. See the following issue in the source code repository: https://github.com/uibcdf/MolSysMT/issues/33\n",
      "  warnings.warn(warning_message)\n",
      "/home/diego/projects/MolSysMT/molsysmt/native/io/topology/mmtf_MMTFDecoder.py:42: UserWarning: The bioassembly has a different number of chains than the total amount of chains\n",
      "  warnings.warn(warning_message)\n"
     ]
    }
   ],
   "source": [
    "molecular_system_pdb = msm.convert('1brs.pdb', to_form='molsysmt.MolSys')\n",
    "molecular_system_mmtf = msm.convert('1brs.mmtf', to_form='molsysmt.MolSys')"
   ]
  },
  {
   "cell_type": "code",
   "execution_count": 6,
   "id": "eada33c2-75db-4a4c-ac7d-47e2483f1e73",
   "metadata": {},
   "outputs": [
    {
     "data": {
      "text/html": [
       "<style type=\"text/css\">\n",
       "</style>\n",
       "<table id=\"T_d7af1_\">\n",
       "  <thead>\n",
       "    <tr>\n",
       "      <th class=\"col_heading level0 col0\" >form</th>\n",
       "      <th class=\"col_heading level0 col1\" >n_atoms</th>\n",
       "      <th class=\"col_heading level0 col2\" >n_groups</th>\n",
       "      <th class=\"col_heading level0 col3\" >n_components</th>\n",
       "      <th class=\"col_heading level0 col4\" >n_chains</th>\n",
       "      <th class=\"col_heading level0 col5\" >n_molecules</th>\n",
       "      <th class=\"col_heading level0 col6\" >n_entities</th>\n",
       "      <th class=\"col_heading level0 col7\" >n_proteins</th>\n",
       "      <th class=\"col_heading level0 col8\" >n_frames</th>\n",
       "    </tr>\n",
       "  </thead>\n",
       "  <tbody>\n",
       "    <tr>\n",
       "      <td id=\"T_d7af1_row0_col0\" class=\"data row0 col0\" >molsysmt.MolSys</td>\n",
       "      <td id=\"T_d7af1_row0_col1\" class=\"data row0 col1\" >4636</td>\n",
       "      <td id=\"T_d7af1_row0_col2\" class=\"data row0 col2\" >588</td>\n",
       "      <td id=\"T_d7af1_row0_col3\" class=\"data row0 col3\" >6</td>\n",
       "      <td id=\"T_d7af1_row0_col4\" class=\"data row0 col4\" >6</td>\n",
       "      <td id=\"T_d7af1_row0_col5\" class=\"data row0 col5\" >6</td>\n",
       "      <td id=\"T_d7af1_row0_col6\" class=\"data row0 col6\" >6</td>\n",
       "      <td id=\"T_d7af1_row0_col7\" class=\"data row0 col7\" >6</td>\n",
       "      <td id=\"T_d7af1_row0_col8\" class=\"data row0 col8\" >1</td>\n",
       "    </tr>\n",
       "  </tbody>\n",
       "</table>\n"
      ],
      "text/plain": [
       "<pandas.io.formats.style.Styler at 0x7fdcb5b8df90>"
      ]
     },
     "execution_count": 6,
     "metadata": {},
     "output_type": "execute_result"
    }
   ],
   "source": [
    "molecular_system_pdb = msm.build.remove_waters(molecular_system_pdb)\n",
    "msm.info(molecular_system_pdb)"
   ]
  },
  {
   "cell_type": "code",
   "execution_count": 7,
   "id": "f8bc7f14-5df2-4e73-a73d-ecbb6df39b77",
   "metadata": {},
   "outputs": [
    {
     "data": {
      "text/html": [
       "<style type=\"text/css\">\n",
       "</style>\n",
       "<table id=\"T_d7a55_\">\n",
       "  <thead>\n",
       "    <tr>\n",
       "      <th class=\"col_heading level0 col0\" >form</th>\n",
       "      <th class=\"col_heading level0 col1\" >n_atoms</th>\n",
       "      <th class=\"col_heading level0 col2\" >n_groups</th>\n",
       "      <th class=\"col_heading level0 col3\" >n_components</th>\n",
       "      <th class=\"col_heading level0 col4\" >n_chains</th>\n",
       "      <th class=\"col_heading level0 col5\" >n_molecules</th>\n",
       "      <th class=\"col_heading level0 col6\" >n_entities</th>\n",
       "      <th class=\"col_heading level0 col7\" >n_proteins</th>\n",
       "      <th class=\"col_heading level0 col8\" >n_frames</th>\n",
       "    </tr>\n",
       "  </thead>\n",
       "  <tbody>\n",
       "    <tr>\n",
       "      <td id=\"T_d7a55_row0_col0\" class=\"data row0 col0\" >molsysmt.MolSys</td>\n",
       "      <td id=\"T_d7a55_row0_col1\" class=\"data row0 col1\" >4640</td>\n",
       "      <td id=\"T_d7a55_row0_col2\" class=\"data row0 col2\" >588</td>\n",
       "      <td id=\"T_d7a55_row0_col3\" class=\"data row0 col3\" >8</td>\n",
       "      <td id=\"T_d7a55_row0_col4\" class=\"data row0 col4\" >6</td>\n",
       "      <td id=\"T_d7a55_row0_col5\" class=\"data row0 col5\" >2</td>\n",
       "      <td id=\"T_d7a55_row0_col6\" class=\"data row0 col6\" >2</td>\n",
       "      <td id=\"T_d7a55_row0_col7\" class=\"data row0 col7\" >2</td>\n",
       "      <td id=\"T_d7a55_row0_col8\" class=\"data row0 col8\" >1</td>\n",
       "    </tr>\n",
       "  </tbody>\n",
       "</table>\n"
      ],
      "text/plain": [
       "<pandas.io.formats.style.Styler at 0x7fdcb5b4a8d0>"
      ]
     },
     "execution_count": 7,
     "metadata": {},
     "output_type": "execute_result"
    }
   ],
   "source": [
    "molecular_system_mmtf = msm.build.remove_waters(molecular_system_mmtf)\n",
    "msm.info(molecular_system_mmtf)"
   ]
  },
  {
   "cell_type": "code",
   "execution_count": 12,
   "id": "a2409345-b71b-498f-9761-2addde5294af",
   "metadata": {},
   "outputs": [],
   "source": [
    "n_atoms_per_group_pdb = msm.get(molecular_system_pdb, target='group', n_atoms=True)\n",
    "n_atoms_per_group_mmtf = msm.get(molecular_system_mmtf, target='group', n_atoms=True)"
   ]
  },
  {
   "cell_type": "code",
   "execution_count": 26,
   "id": "18c099ca-7bbb-49ee-b9ca-10e47f68d2e3",
   "metadata": {},
   "outputs": [
    {
     "data": {
      "text/plain": [
       "array([339])"
      ]
     },
     "execution_count": 26,
     "metadata": {},
     "output_type": "execute_result"
    }
   ],
   "source": [
    "np.where(np.array(n_atoms_per_group_pdb)!=np.array(n_atoms_per_group_mmtf))[0]"
   ]
  },
  {
   "cell_type": "code",
   "execution_count": 27,
   "id": "cc39a0f7-55ce-41b9-b0a9-f25ba7e2851a",
   "metadata": {},
   "outputs": [
    {
     "data": {
      "text/html": [
       "<style type=\"text/css\">\n",
       "</style>\n",
       "<table id=\"T_f0323_\">\n",
       "  <thead>\n",
       "    <tr>\n",
       "      <th class=\"col_heading level0 col0\" >index</th>\n",
       "      <th class=\"col_heading level0 col1\" >id</th>\n",
       "      <th class=\"col_heading level0 col2\" >name</th>\n",
       "      <th class=\"col_heading level0 col3\" >type</th>\n",
       "      <th class=\"col_heading level0 col4\" >group index</th>\n",
       "      <th class=\"col_heading level0 col5\" >group id</th>\n",
       "      <th class=\"col_heading level0 col6\" >group name</th>\n",
       "      <th class=\"col_heading level0 col7\" >group type</th>\n",
       "      <th class=\"col_heading level0 col8\" >component index</th>\n",
       "      <th class=\"col_heading level0 col9\" >chain index</th>\n",
       "      <th class=\"col_heading level0 col10\" >molecule index</th>\n",
       "      <th class=\"col_heading level0 col11\" >molecule type</th>\n",
       "      <th class=\"col_heading level0 col12\" >entity index</th>\n",
       "      <th class=\"col_heading level0 col13\" >entity name</th>\n",
       "    </tr>\n",
       "  </thead>\n",
       "  <tbody>\n",
       "    <tr>\n",
       "      <td id=\"T_f0323_row0_col0\" class=\"data row0 col0\" >2682</td>\n",
       "      <td id=\"T_f0323_row0_col1\" class=\"data row0 col1\" >2686</td>\n",
       "      <td id=\"T_f0323_row0_col2\" class=\"data row0 col2\" >N</td>\n",
       "      <td id=\"T_f0323_row0_col3\" class=\"data row0 col3\" >N</td>\n",
       "      <td id=\"T_f0323_row0_col4\" class=\"data row0 col4\" >339</td>\n",
       "      <td id=\"T_f0323_row0_col5\" class=\"data row0 col5\" >14</td>\n",
       "      <td id=\"T_f0323_row0_col6\" class=\"data row0 col6\" >SER</td>\n",
       "      <td id=\"T_f0323_row0_col7\" class=\"data row0 col7\" >aminoacid</td>\n",
       "      <td id=\"T_f0323_row0_col8\" class=\"data row0 col8\" >3</td>\n",
       "      <td id=\"T_f0323_row0_col9\" class=\"data row0 col9\" >3</td>\n",
       "      <td id=\"T_f0323_row0_col10\" class=\"data row0 col10\" >3</td>\n",
       "      <td id=\"T_f0323_row0_col11\" class=\"data row0 col11\" >protein</td>\n",
       "      <td id=\"T_f0323_row0_col12\" class=\"data row0 col12\" >3</td>\n",
       "      <td id=\"T_f0323_row0_col13\" class=\"data row0 col13\" >Protein_3</td>\n",
       "    </tr>\n",
       "    <tr>\n",
       "      <td id=\"T_f0323_row1_col0\" class=\"data row1 col0\" >2683</td>\n",
       "      <td id=\"T_f0323_row1_col1\" class=\"data row1 col1\" >2687</td>\n",
       "      <td id=\"T_f0323_row1_col2\" class=\"data row1 col2\" >CA</td>\n",
       "      <td id=\"T_f0323_row1_col3\" class=\"data row1 col3\" >C</td>\n",
       "      <td id=\"T_f0323_row1_col4\" class=\"data row1 col4\" >339</td>\n",
       "      <td id=\"T_f0323_row1_col5\" class=\"data row1 col5\" >14</td>\n",
       "      <td id=\"T_f0323_row1_col6\" class=\"data row1 col6\" >SER</td>\n",
       "      <td id=\"T_f0323_row1_col7\" class=\"data row1 col7\" >aminoacid</td>\n",
       "      <td id=\"T_f0323_row1_col8\" class=\"data row1 col8\" >3</td>\n",
       "      <td id=\"T_f0323_row1_col9\" class=\"data row1 col9\" >3</td>\n",
       "      <td id=\"T_f0323_row1_col10\" class=\"data row1 col10\" >3</td>\n",
       "      <td id=\"T_f0323_row1_col11\" class=\"data row1 col11\" >protein</td>\n",
       "      <td id=\"T_f0323_row1_col12\" class=\"data row1 col12\" >3</td>\n",
       "      <td id=\"T_f0323_row1_col13\" class=\"data row1 col13\" >Protein_3</td>\n",
       "    </tr>\n",
       "    <tr>\n",
       "      <td id=\"T_f0323_row2_col0\" class=\"data row2 col0\" >2684</td>\n",
       "      <td id=\"T_f0323_row2_col1\" class=\"data row2 col1\" >2688</td>\n",
       "      <td id=\"T_f0323_row2_col2\" class=\"data row2 col2\" >C</td>\n",
       "      <td id=\"T_f0323_row2_col3\" class=\"data row2 col3\" >C</td>\n",
       "      <td id=\"T_f0323_row2_col4\" class=\"data row2 col4\" >339</td>\n",
       "      <td id=\"T_f0323_row2_col5\" class=\"data row2 col5\" >14</td>\n",
       "      <td id=\"T_f0323_row2_col6\" class=\"data row2 col6\" >SER</td>\n",
       "      <td id=\"T_f0323_row2_col7\" class=\"data row2 col7\" >aminoacid</td>\n",
       "      <td id=\"T_f0323_row2_col8\" class=\"data row2 col8\" >3</td>\n",
       "      <td id=\"T_f0323_row2_col9\" class=\"data row2 col9\" >3</td>\n",
       "      <td id=\"T_f0323_row2_col10\" class=\"data row2 col10\" >3</td>\n",
       "      <td id=\"T_f0323_row2_col11\" class=\"data row2 col11\" >protein</td>\n",
       "      <td id=\"T_f0323_row2_col12\" class=\"data row2 col12\" >3</td>\n",
       "      <td id=\"T_f0323_row2_col13\" class=\"data row2 col13\" >Protein_3</td>\n",
       "    </tr>\n",
       "    <tr>\n",
       "      <td id=\"T_f0323_row3_col0\" class=\"data row3 col0\" >2685</td>\n",
       "      <td id=\"T_f0323_row3_col1\" class=\"data row3 col1\" >2689</td>\n",
       "      <td id=\"T_f0323_row3_col2\" class=\"data row3 col2\" >O</td>\n",
       "      <td id=\"T_f0323_row3_col3\" class=\"data row3 col3\" >O</td>\n",
       "      <td id=\"T_f0323_row3_col4\" class=\"data row3 col4\" >339</td>\n",
       "      <td id=\"T_f0323_row3_col5\" class=\"data row3 col5\" >14</td>\n",
       "      <td id=\"T_f0323_row3_col6\" class=\"data row3 col6\" >SER</td>\n",
       "      <td id=\"T_f0323_row3_col7\" class=\"data row3 col7\" >aminoacid</td>\n",
       "      <td id=\"T_f0323_row3_col8\" class=\"data row3 col8\" >3</td>\n",
       "      <td id=\"T_f0323_row3_col9\" class=\"data row3 col9\" >3</td>\n",
       "      <td id=\"T_f0323_row3_col10\" class=\"data row3 col10\" >3</td>\n",
       "      <td id=\"T_f0323_row3_col11\" class=\"data row3 col11\" >protein</td>\n",
       "      <td id=\"T_f0323_row3_col12\" class=\"data row3 col12\" >3</td>\n",
       "      <td id=\"T_f0323_row3_col13\" class=\"data row3 col13\" >Protein_3</td>\n",
       "    </tr>\n",
       "  </tbody>\n",
       "</table>\n"
      ],
      "text/plain": [
       "<pandas.io.formats.style.Styler at 0x7fdc471bb610>"
      ]
     },
     "execution_count": 27,
     "metadata": {},
     "output_type": "execute_result"
    }
   ],
   "source": [
    "msm.info(molecular_system_pdb, target='atom', selection='group_index==339')"
   ]
  },
  {
   "cell_type": "code",
   "execution_count": 28,
   "id": "cbbd5448-2269-4318-b737-902db014d730",
   "metadata": {},
   "outputs": [
    {
     "data": {
      "text/html": [
       "<style type=\"text/css\">\n",
       "</style>\n",
       "<table id=\"T_f7018_\">\n",
       "  <thead>\n",
       "    <tr>\n",
       "      <th class=\"col_heading level0 col0\" >index</th>\n",
       "      <th class=\"col_heading level0 col1\" >id</th>\n",
       "      <th class=\"col_heading level0 col2\" >name</th>\n",
       "      <th class=\"col_heading level0 col3\" >type</th>\n",
       "      <th class=\"col_heading level0 col4\" >group index</th>\n",
       "      <th class=\"col_heading level0 col5\" >group id</th>\n",
       "      <th class=\"col_heading level0 col6\" >group name</th>\n",
       "      <th class=\"col_heading level0 col7\" >group type</th>\n",
       "      <th class=\"col_heading level0 col8\" >component index</th>\n",
       "      <th class=\"col_heading level0 col9\" >chain index</th>\n",
       "      <th class=\"col_heading level0 col10\" >molecule index</th>\n",
       "      <th class=\"col_heading level0 col11\" >molecule type</th>\n",
       "      <th class=\"col_heading level0 col12\" >entity index</th>\n",
       "      <th class=\"col_heading level0 col13\" >entity name</th>\n",
       "    </tr>\n",
       "  </thead>\n",
       "  <tbody>\n",
       "    <tr>\n",
       "      <td id=\"T_f7018_row0_col0\" class=\"data row0 col0\" >2682</td>\n",
       "      <td id=\"T_f7018_row0_col1\" class=\"data row0 col1\" >2683</td>\n",
       "      <td id=\"T_f7018_row0_col2\" class=\"data row0 col2\" >N</td>\n",
       "      <td id=\"T_f7018_row0_col3\" class=\"data row0 col3\" >N</td>\n",
       "      <td id=\"T_f7018_row0_col4\" class=\"data row0 col4\" >339</td>\n",
       "      <td id=\"T_f7018_row0_col5\" class=\"data row0 col5\" >14</td>\n",
       "      <td id=\"T_f7018_row0_col6\" class=\"data row0 col6\" >SER</td>\n",
       "      <td id=\"T_f7018_row0_col7\" class=\"data row0 col7\" >aminoacid</td>\n",
       "      <td id=\"T_f7018_row0_col8\" class=\"data row0 col8\" >3</td>\n",
       "      <td id=\"T_f7018_row0_col9\" class=\"data row0 col9\" >3</td>\n",
       "      <td id=\"T_f7018_row0_col10\" class=\"data row0 col10\" >1</td>\n",
       "      <td id=\"T_f7018_row0_col11\" class=\"data row0 col11\" >protein</td>\n",
       "      <td id=\"T_f7018_row0_col12\" class=\"data row0 col12\" >1</td>\n",
       "      <td id=\"T_f7018_row0_col13\" class=\"data row0 col13\" >BARSTAR</td>\n",
       "    </tr>\n",
       "    <tr>\n",
       "      <td id=\"T_f7018_row1_col0\" class=\"data row1 col0\" >2683</td>\n",
       "      <td id=\"T_f7018_row1_col1\" class=\"data row1 col1\" >2684</td>\n",
       "      <td id=\"T_f7018_row1_col2\" class=\"data row1 col2\" >CA</td>\n",
       "      <td id=\"T_f7018_row1_col3\" class=\"data row1 col3\" >C</td>\n",
       "      <td id=\"T_f7018_row1_col4\" class=\"data row1 col4\" >339</td>\n",
       "      <td id=\"T_f7018_row1_col5\" class=\"data row1 col5\" >14</td>\n",
       "      <td id=\"T_f7018_row1_col6\" class=\"data row1 col6\" >SER</td>\n",
       "      <td id=\"T_f7018_row1_col7\" class=\"data row1 col7\" >aminoacid</td>\n",
       "      <td id=\"T_f7018_row1_col8\" class=\"data row1 col8\" >3</td>\n",
       "      <td id=\"T_f7018_row1_col9\" class=\"data row1 col9\" >3</td>\n",
       "      <td id=\"T_f7018_row1_col10\" class=\"data row1 col10\" >1</td>\n",
       "      <td id=\"T_f7018_row1_col11\" class=\"data row1 col11\" >protein</td>\n",
       "      <td id=\"T_f7018_row1_col12\" class=\"data row1 col12\" >1</td>\n",
       "      <td id=\"T_f7018_row1_col13\" class=\"data row1 col13\" >BARSTAR</td>\n",
       "    </tr>\n",
       "    <tr>\n",
       "      <td id=\"T_f7018_row2_col0\" class=\"data row2 col0\" >2684</td>\n",
       "      <td id=\"T_f7018_row2_col1\" class=\"data row2 col1\" >2685</td>\n",
       "      <td id=\"T_f7018_row2_col2\" class=\"data row2 col2\" >C</td>\n",
       "      <td id=\"T_f7018_row2_col3\" class=\"data row2 col3\" >C</td>\n",
       "      <td id=\"T_f7018_row2_col4\" class=\"data row2 col4\" >339</td>\n",
       "      <td id=\"T_f7018_row2_col5\" class=\"data row2 col5\" >14</td>\n",
       "      <td id=\"T_f7018_row2_col6\" class=\"data row2 col6\" >SER</td>\n",
       "      <td id=\"T_f7018_row2_col7\" class=\"data row2 col7\" >aminoacid</td>\n",
       "      <td id=\"T_f7018_row2_col8\" class=\"data row2 col8\" >3</td>\n",
       "      <td id=\"T_f7018_row2_col9\" class=\"data row2 col9\" >3</td>\n",
       "      <td id=\"T_f7018_row2_col10\" class=\"data row2 col10\" >1</td>\n",
       "      <td id=\"T_f7018_row2_col11\" class=\"data row2 col11\" >protein</td>\n",
       "      <td id=\"T_f7018_row2_col12\" class=\"data row2 col12\" >1</td>\n",
       "      <td id=\"T_f7018_row2_col13\" class=\"data row2 col13\" >BARSTAR</td>\n",
       "    </tr>\n",
       "    <tr>\n",
       "      <td id=\"T_f7018_row3_col0\" class=\"data row3 col0\" >2685</td>\n",
       "      <td id=\"T_f7018_row3_col1\" class=\"data row3 col1\" >2686</td>\n",
       "      <td id=\"T_f7018_row3_col2\" class=\"data row3 col2\" >O</td>\n",
       "      <td id=\"T_f7018_row3_col3\" class=\"data row3 col3\" >O</td>\n",
       "      <td id=\"T_f7018_row3_col4\" class=\"data row3 col4\" >339</td>\n",
       "      <td id=\"T_f7018_row3_col5\" class=\"data row3 col5\" >14</td>\n",
       "      <td id=\"T_f7018_row3_col6\" class=\"data row3 col6\" >SER</td>\n",
       "      <td id=\"T_f7018_row3_col7\" class=\"data row3 col7\" >aminoacid</td>\n",
       "      <td id=\"T_f7018_row3_col8\" class=\"data row3 col8\" >3</td>\n",
       "      <td id=\"T_f7018_row3_col9\" class=\"data row3 col9\" >3</td>\n",
       "      <td id=\"T_f7018_row3_col10\" class=\"data row3 col10\" >1</td>\n",
       "      <td id=\"T_f7018_row3_col11\" class=\"data row3 col11\" >protein</td>\n",
       "      <td id=\"T_f7018_row3_col12\" class=\"data row3 col12\" >1</td>\n",
       "      <td id=\"T_f7018_row3_col13\" class=\"data row3 col13\" >BARSTAR</td>\n",
       "    </tr>\n",
       "    <tr>\n",
       "      <td id=\"T_f7018_row4_col0\" class=\"data row4 col0\" >2686</td>\n",
       "      <td id=\"T_f7018_row4_col1\" class=\"data row4 col1\" >2687</td>\n",
       "      <td id=\"T_f7018_row4_col2\" class=\"data row4 col2\" >CB</td>\n",
       "      <td id=\"T_f7018_row4_col3\" class=\"data row4 col3\" >C</td>\n",
       "      <td id=\"T_f7018_row4_col4\" class=\"data row4 col4\" >339</td>\n",
       "      <td id=\"T_f7018_row4_col5\" class=\"data row4 col5\" >14</td>\n",
       "      <td id=\"T_f7018_row4_col6\" class=\"data row4 col6\" >SER</td>\n",
       "      <td id=\"T_f7018_row4_col7\" class=\"data row4 col7\" >aminoacid</td>\n",
       "      <td id=\"T_f7018_row4_col8\" class=\"data row4 col8\" >3</td>\n",
       "      <td id=\"T_f7018_row4_col9\" class=\"data row4 col9\" >3</td>\n",
       "      <td id=\"T_f7018_row4_col10\" class=\"data row4 col10\" >1</td>\n",
       "      <td id=\"T_f7018_row4_col11\" class=\"data row4 col11\" >protein</td>\n",
       "      <td id=\"T_f7018_row4_col12\" class=\"data row4 col12\" >1</td>\n",
       "      <td id=\"T_f7018_row4_col13\" class=\"data row4 col13\" >BARSTAR</td>\n",
       "    </tr>\n",
       "    <tr>\n",
       "      <td id=\"T_f7018_row5_col0\" class=\"data row5 col0\" >2687</td>\n",
       "      <td id=\"T_f7018_row5_col1\" class=\"data row5 col1\" >2689</td>\n",
       "      <td id=\"T_f7018_row5_col2\" class=\"data row5 col2\" >OG</td>\n",
       "      <td id=\"T_f7018_row5_col3\" class=\"data row5 col3\" >O</td>\n",
       "      <td id=\"T_f7018_row5_col4\" class=\"data row5 col4\" >339</td>\n",
       "      <td id=\"T_f7018_row5_col5\" class=\"data row5 col5\" >14</td>\n",
       "      <td id=\"T_f7018_row5_col6\" class=\"data row5 col6\" >SER</td>\n",
       "      <td id=\"T_f7018_row5_col7\" class=\"data row5 col7\" >aminoacid</td>\n",
       "      <td id=\"T_f7018_row5_col8\" class=\"data row5 col8\" >3</td>\n",
       "      <td id=\"T_f7018_row5_col9\" class=\"data row5 col9\" >3</td>\n",
       "      <td id=\"T_f7018_row5_col10\" class=\"data row5 col10\" >1</td>\n",
       "      <td id=\"T_f7018_row5_col11\" class=\"data row5 col11\" >protein</td>\n",
       "      <td id=\"T_f7018_row5_col12\" class=\"data row5 col12\" >1</td>\n",
       "      <td id=\"T_f7018_row5_col13\" class=\"data row5 col13\" >BARSTAR</td>\n",
       "    </tr>\n",
       "    <tr>\n",
       "      <td id=\"T_f7018_row6_col0\" class=\"data row6 col0\" >2688</td>\n",
       "      <td id=\"T_f7018_row6_col1\" class=\"data row6 col1\" >2688</td>\n",
       "      <td id=\"T_f7018_row6_col2\" class=\"data row6 col2\" >CB</td>\n",
       "      <td id=\"T_f7018_row6_col3\" class=\"data row6 col3\" >C</td>\n",
       "      <td id=\"T_f7018_row6_col4\" class=\"data row6 col4\" >339</td>\n",
       "      <td id=\"T_f7018_row6_col5\" class=\"data row6 col5\" >14</td>\n",
       "      <td id=\"T_f7018_row6_col6\" class=\"data row6 col6\" >SER</td>\n",
       "      <td id=\"T_f7018_row6_col7\" class=\"data row6 col7\" >aminoacid</td>\n",
       "      <td id=\"T_f7018_row6_col8\" class=\"data row6 col8\" >3</td>\n",
       "      <td id=\"T_f7018_row6_col9\" class=\"data row6 col9\" >3</td>\n",
       "      <td id=\"T_f7018_row6_col10\" class=\"data row6 col10\" >1</td>\n",
       "      <td id=\"T_f7018_row6_col11\" class=\"data row6 col11\" >protein</td>\n",
       "      <td id=\"T_f7018_row6_col12\" class=\"data row6 col12\" >1</td>\n",
       "      <td id=\"T_f7018_row6_col13\" class=\"data row6 col13\" >BARSTAR</td>\n",
       "    </tr>\n",
       "    <tr>\n",
       "      <td id=\"T_f7018_row7_col0\" class=\"data row7 col0\" >2689</td>\n",
       "      <td id=\"T_f7018_row7_col1\" class=\"data row7 col1\" >2690</td>\n",
       "      <td id=\"T_f7018_row7_col2\" class=\"data row7 col2\" >OG</td>\n",
       "      <td id=\"T_f7018_row7_col3\" class=\"data row7 col3\" >O</td>\n",
       "      <td id=\"T_f7018_row7_col4\" class=\"data row7 col4\" >339</td>\n",
       "      <td id=\"T_f7018_row7_col5\" class=\"data row7 col5\" >14</td>\n",
       "      <td id=\"T_f7018_row7_col6\" class=\"data row7 col6\" >SER</td>\n",
       "      <td id=\"T_f7018_row7_col7\" class=\"data row7 col7\" >aminoacid</td>\n",
       "      <td id=\"T_f7018_row7_col8\" class=\"data row7 col8\" >3</td>\n",
       "      <td id=\"T_f7018_row7_col9\" class=\"data row7 col9\" >3</td>\n",
       "      <td id=\"T_f7018_row7_col10\" class=\"data row7 col10\" >1</td>\n",
       "      <td id=\"T_f7018_row7_col11\" class=\"data row7 col11\" >protein</td>\n",
       "      <td id=\"T_f7018_row7_col12\" class=\"data row7 col12\" >1</td>\n",
       "      <td id=\"T_f7018_row7_col13\" class=\"data row7 col13\" >BARSTAR</td>\n",
       "    </tr>\n",
       "  </tbody>\n",
       "</table>\n"
      ],
      "text/plain": [
       "<pandas.io.formats.style.Styler at 0x7fdca4e66c50>"
      ]
     },
     "execution_count": 28,
     "metadata": {},
     "output_type": "execute_result"
    }
   ],
   "source": [
    "msm.info(molecular_system_mmtf, target='atom', selection='group_index==339')"
   ]
  },
  {
   "cell_type": "code",
   "execution_count": null,
   "id": "968c5aa4-b0b4-49f0-b1f4-69236fefbd99",
   "metadata": {},
   "outputs": [],
   "source": []
  }
 ],
 "metadata": {
  "kernelspec": {
   "display_name": "Python 3 (ipykernel)",
   "language": "python",
   "name": "python3"
  },
  "language_info": {
   "codemirror_mode": {
    "name": "ipython",
    "version": 3
   },
   "file_extension": ".py",
   "mimetype": "text/x-python",
   "name": "python",
   "nbconvert_exporter": "python",
   "pygments_lexer": "ipython3",
   "version": "3.7.12"
  }
 },
 "nbformat": 4,
 "nbformat_minor": 5
}
