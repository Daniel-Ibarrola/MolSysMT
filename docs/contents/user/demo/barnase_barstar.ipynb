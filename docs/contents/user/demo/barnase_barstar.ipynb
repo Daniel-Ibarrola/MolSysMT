{
 "cells": [
  {
   "cell_type": "code",
   "execution_count": 1,
   "id": "7884fe0a-9320-4a4e-b5b7-d7b14d5f5c22",
   "metadata": {},
   "outputs": [],
   "source": [
    "%load_ext autoreload\n",
    "%autoreload 2"
   ]
  },
  {
   "cell_type": "markdown",
   "id": "d89a220f-10b3-4525-9762-dd5b6a94b3d0",
   "metadata": {},
   "source": [
    "# Barnase-Barstar complex"
   ]
  },
  {
   "cell_type": "code",
   "execution_count": 2,
   "id": "1bb1e5a4-14f2-494c-8b76-31b77bd01bcc",
   "metadata": {},
   "outputs": [
    {
     "data": {
      "application/vnd.jupyter.widget-view+json": {
       "model_id": "ea2e8c61f50c4141b445cb553db9f33a",
       "version_major": 2,
       "version_minor": 0
      },
      "text/plain": []
     },
     "metadata": {},
     "output_type": "display_data"
    }
   ],
   "source": [
    "import molsysmt as msm"
   ]
  },
  {
   "cell_type": "code",
   "execution_count": 3,
   "id": "2cb0045a-a659-464b-a05f-f1f9dd9efa1c",
   "metadata": {},
   "outputs": [
    {
     "data": {
      "text/plain": [
       "'string:pdb_id'"
      ]
     },
     "execution_count": 3,
     "metadata": {},
     "output_type": "execute_result"
    }
   ],
   "source": [
    "msm.get_form('1BRS')"
   ]
  },
  {
   "cell_type": "code",
   "execution_count": 4,
   "id": "fb2e2194-2c0e-4790-b223-333e865bd03a",
   "metadata": {},
   "outputs": [
    {
     "name": "stderr",
     "output_type": "stream",
     "text": [
      "/home/diego/projects/MolSysMT/molsysmt/tools/mmtf_MMTFDecoder/to_molsysmt_Topology.py:30: UserWarning: The structure in the PDB has biological assemblies. There are geometrical transformations proposed in the structure. See the following issue in the source code repository: https://github.com/uibcdf/MolSysMT/issues/33\n",
      "  warnings.warn(warning_message)\n",
      "/home/diego/projects/MolSysMT/molsysmt/tools/mmtf_MMTFDecoder/to_molsysmt_Topology.py:44: UserWarning: The bioassembly has a different number of chains than the total amount of chains\n",
      "  warnings.warn(warning_message)\n"
     ]
    }
   ],
   "source": [
    "molsys = msm.convert('1BRS')"
   ]
  },
  {
   "cell_type": "code",
   "execution_count": 10,
   "id": "3ca39f5d-3c34-42dc-84d7-e40ac4384825",
   "metadata": {},
   "outputs": [
    {
     "name": "stdout",
     "output_type": "stream",
     "text": [
      "elements\n"
     ]
    },
    {
     "ename": "AttributeError",
     "evalue": "'MolSys' object has no attribute 'elements_item'",
     "output_type": "error",
     "traceback": [
      "\u001b[0;31m---------------------------------------------------------------------------\u001b[0m",
      "\u001b[0;31mAttributeError\u001b[0m                            Traceback (most recent call last)",
      "\u001b[0;32m/tmp/ipykernel_2266429/2575377094.py\u001b[0m in \u001b[0;36m<module>\u001b[0;34m\u001b[0m\n\u001b[0;32m----> 1\u001b[0;31m \u001b[0mmsm\u001b[0m\u001b[0;34m.\u001b[0m\u001b[0minfo\u001b[0m\u001b[0;34m(\u001b[0m\u001b[0mmolsys\u001b[0m\u001b[0;34m)\u001b[0m\u001b[0;34m\u001b[0m\u001b[0;34m\u001b[0m\u001b[0m\n\u001b[0m",
      "\u001b[0;32m~/projects/MolSysMT/molsysmt/basic/info.py\u001b[0m in \u001b[0;36minfo\u001b[0;34m(molecular_system, target, indices, selection, syntaxis, output)\u001b[0m\n\u001b[1;32m    217\u001b[0m                     \u001b[0mn_atoms\u001b[0m\u001b[0;34m=\u001b[0m\u001b[0;32mTrue\u001b[0m\u001b[0;34m,\u001b[0m \u001b[0mn_groups\u001b[0m\u001b[0;34m=\u001b[0m\u001b[0;32mTrue\u001b[0m\u001b[0;34m,\u001b[0m \u001b[0mn_components\u001b[0m\u001b[0;34m=\u001b[0m\u001b[0;32mTrue\u001b[0m\u001b[0;34m,\u001b[0m \u001b[0mn_chains\u001b[0m\u001b[0;34m=\u001b[0m\u001b[0;32mTrue\u001b[0m\u001b[0;34m,\u001b[0m \u001b[0mn_molecules\u001b[0m\u001b[0;34m=\u001b[0m\u001b[0;32mTrue\u001b[0m\u001b[0;34m,\u001b[0m \u001b[0mn_entities\u001b[0m\u001b[0;34m=\u001b[0m\u001b[0;32mTrue\u001b[0m\u001b[0;34m,\u001b[0m \u001b[0mn_frames\u001b[0m\u001b[0;34m=\u001b[0m\u001b[0;32mTrue\u001b[0m\u001b[0;34m,\u001b[0m\u001b[0;34m\u001b[0m\u001b[0;34m\u001b[0m\u001b[0m\n\u001b[1;32m    218\u001b[0m                     \u001b[0mn_ions\u001b[0m\u001b[0;34m=\u001b[0m\u001b[0;32mTrue\u001b[0m\u001b[0;34m,\u001b[0m \u001b[0mn_waters\u001b[0m\u001b[0;34m=\u001b[0m\u001b[0;32mTrue\u001b[0m\u001b[0;34m,\u001b[0m \u001b[0mn_cosolutes\u001b[0m\u001b[0;34m=\u001b[0m\u001b[0;32mTrue\u001b[0m\u001b[0;34m,\u001b[0m \u001b[0mn_small_molecules\u001b[0m\u001b[0;34m=\u001b[0m\u001b[0;32mTrue\u001b[0m\u001b[0;34m,\u001b[0m \u001b[0mn_peptides\u001b[0m\u001b[0;34m=\u001b[0m\u001b[0;32mTrue\u001b[0m\u001b[0;34m,\u001b[0m \u001b[0mn_proteins\u001b[0m\u001b[0;34m=\u001b[0m\u001b[0;32mTrue\u001b[0m\u001b[0;34m,\u001b[0m\u001b[0;34m\u001b[0m\u001b[0;34m\u001b[0m\u001b[0m\n\u001b[0;32m--> 219\u001b[0;31m                     n_dnas=True, n_rnas=True, n_lipids=True)\n\u001b[0m\u001b[1;32m    220\u001b[0m \u001b[0;34m\u001b[0m\u001b[0m\n\u001b[1;32m    221\u001b[0m             tmp_df = df([{'form':form, 'n_atoms':n_atoms, 'n_groups':n_groups, 'n_components':n_components,\n",
      "\u001b[0;32m~/projects/MolSysMT/molsysmt/basic/get/get.py\u001b[0m in \u001b[0;36mget\u001b[0;34m(molecular_system, target, indices, selection, structure_indices, syntaxis, **kwargs)\u001b[0m\n\u001b[1;32m     82\u001b[0m         \u001b[0;32mfor\u001b[0m \u001b[0mwhere_attribute\u001b[0m \u001b[0;32min\u001b[0m \u001b[0mwhere_argument\u001b[0m\u001b[0;34m[\u001b[0m\u001b[0mattribute\u001b[0m\u001b[0;34m]\u001b[0m\u001b[0;34m:\u001b[0m\u001b[0;34m\u001b[0m\u001b[0;34m\u001b[0m\u001b[0m\n\u001b[1;32m     83\u001b[0m             \u001b[0mprint\u001b[0m\u001b[0;34m(\u001b[0m\u001b[0mwhere_attribute\u001b[0m\u001b[0;34m)\u001b[0m\u001b[0;34m\u001b[0m\u001b[0;34m\u001b[0m\u001b[0m\n\u001b[0;32m---> 84\u001b[0;31m             \u001b[0mitem\u001b[0m \u001b[0;34m=\u001b[0m \u001b[0mgetattr\u001b[0m\u001b[0;34m(\u001b[0m\u001b[0mmolecular_system\u001b[0m\u001b[0;34m,\u001b[0m \u001b[0mwhere_attribute\u001b[0m\u001b[0;34m+\u001b[0m\u001b[0;34m'_item'\u001b[0m\u001b[0;34m)\u001b[0m\u001b[0;34m\u001b[0m\u001b[0;34m\u001b[0m\u001b[0m\n\u001b[0m\u001b[1;32m     85\u001b[0m             \u001b[0mform\u001b[0m \u001b[0;34m=\u001b[0m \u001b[0mgetattr\u001b[0m\u001b[0;34m(\u001b[0m\u001b[0mmolecular_system\u001b[0m\u001b[0;34m,\u001b[0m \u001b[0mwhere_attribute\u001b[0m\u001b[0;34m+\u001b[0m\u001b[0;34m'_form'\u001b[0m\u001b[0;34m)\u001b[0m\u001b[0;34m\u001b[0m\u001b[0;34m\u001b[0m\u001b[0m\n\u001b[1;32m     86\u001b[0m             \u001b[0;32mif\u001b[0m \u001b[0mitem\u001b[0m \u001b[0;32mis\u001b[0m \u001b[0;32mnot\u001b[0m \u001b[0;32mNone\u001b[0m\u001b[0;34m:\u001b[0m\u001b[0;34m\u001b[0m\u001b[0;34m\u001b[0m\u001b[0m\n",
      "\u001b[0;31mAttributeError\u001b[0m: 'MolSys' object has no attribute 'elements_item'"
     ]
    }
   ],
   "source": [
    "msm.info(molsys)"
   ]
  },
  {
   "cell_type": "markdown",
   "id": "6fc9db11-4140-4a6a-934c-08e6b70c044a",
   "metadata": {},
   "source": [
    "```\n",
    "ATOM   2686  N   SER D  14      33.167  24.228  -0.250  1.00 23.52           N  \n",
    "ATOM   2687  CA  SER D  14      33.326  23.955   1.184  1.00 23.81           C  \n",
    "ATOM   2688  C   SER D  14      34.789  24.036   1.584  1.00 22.49           C  \n",
    "ATOM   2689  O   SER D  14      35.138  24.525   2.653  1.00 21.65           O  \n",
    "ATOM   2690  CB ASER D  14      32.742  22.579   1.536  0.50 24.66           C  \n",
    "ATOM   2691  CB BSER D  14      32.757  22.571   1.533  0.50 24.67           C  \n",
    "ATOM   2692  OG ASER D  14      31.412  22.410   1.076  0.50 25.94           O  \n",
    "ATOM   2693  OG BSER D  14      33.396  21.920   2.619  0.50 25.96           O  \n",
    "```"
   ]
  },
  {
   "cell_type": "code",
   "execution_count": null,
   "id": "18dbdc5d-ccdc-48fd-9137-4014e1482f26",
   "metadata": {},
   "outputs": [],
   "source": [
    "molecular_system = msm.convert('1brs.mmtf', to_form='molsysmt.MolSys')"
   ]
  },
  {
   "cell_type": "code",
   "execution_count": null,
   "id": "eada33c2-75db-4a4c-ac7d-47e2483f1e73",
   "metadata": {},
   "outputs": [],
   "source": [
    "msm.info(molecular_system)"
   ]
  },
  {
   "cell_type": "code",
   "execution_count": null,
   "id": "7e2457d9-a4a6-405a-bccc-ffda3fc5e687",
   "metadata": {},
   "outputs": [],
   "source": [
    "molecular_system = msm.build.remove_waters(molecular_system)"
   ]
  },
  {
   "cell_type": "code",
   "execution_count": null,
   "id": "45c22d55-1cd8-479c-9eff-4ae5bb3328e5",
   "metadata": {},
   "outputs": [],
   "source": [
    "msm.info(molecular_system, target='entity')"
   ]
  },
  {
   "cell_type": "code",
   "execution_count": null,
   "id": "43afa8d5-fc95-4206-8842-9f96e89824f8",
   "metadata": {},
   "outputs": [],
   "source": [
    "msm.build.has_hydrogens(molecular_system)"
   ]
  },
  {
   "cell_type": "code",
   "execution_count": null,
   "id": "a673c164-1a44-4c87-8514-046d6ad3ca84",
   "metadata": {},
   "outputs": [],
   "source": [
    "msm.info(molecular_system, target='chain')"
   ]
  },
  {
   "cell_type": "code",
   "execution_count": null,
   "id": "cfb1db11-c2dc-4f5e-9419-772222827773",
   "metadata": {},
   "outputs": [],
   "source": [
    "msm.topology.get_covalent_blocks(molecular_system, selection='chain_index==3')"
   ]
  },
  {
   "cell_type": "code",
   "execution_count": null,
   "id": "14c4c54f-179f-414d-949c-f870016964e9",
   "metadata": {},
   "outputs": [],
   "source": [
    "msm.info(molecular_system, target='atom', selection='atom_index==[3099, 3100]')"
   ]
  },
  {
   "cell_type": "code",
   "execution_count": null,
   "id": "db74b40c-fd88-4bd6-a32d-e6a8393725af",
   "metadata": {},
   "outputs": [],
   "source": [
    "missing_atoms = msm.build.get_missing_heavy_atoms(molsys)"
   ]
  },
  {
   "cell_type": "code",
   "execution_count": null,
   "id": "18ecac9b-a55c-4a65-a272-8da356e5f1b2",
   "metadata": {},
   "outputs": [],
   "source": [
    "missing_atoms"
   ]
  },
  {
   "cell_type": "code",
   "execution_count": null,
   "id": "225c3b9d-7f12-43c8-ad4a-5c2b2af766d3",
   "metadata": {},
   "outputs": [],
   "source": [
    "missing_atoms.keys()"
   ]
  },
  {
   "cell_type": "code",
   "execution_count": null,
   "id": "19c54549-5999-4f7a-a28b-a3796c7a360e",
   "metadata": {},
   "outputs": [],
   "source": [
    "msm.info(molecular_system, target='group', indices=missing_atoms)"
   ]
  },
  {
   "cell_type": "code",
   "execution_count": null,
   "id": "0fb80b1d-0903-4d85-aa39-7f0e833a4460",
   "metadata": {},
   "outputs": [],
   "source": [
    "msm.get(molecular_system, target='component', n_groups=True, chain_name=True)"
   ]
  },
  {
   "cell_type": "code",
   "execution_count": null,
   "id": "df420ee8-386c-406d-a391-2dcc8982f86e",
   "metadata": {},
   "outputs": [],
   "source": [
    "molecular_system = msm.build.add_missing_heavy_atoms(molecular_system)"
   ]
  },
  {
   "cell_type": "code",
   "execution_count": null,
   "id": "21f1d028-b04d-45cf-9cdf-a36e27b4a1a5",
   "metadata": {},
   "outputs": [],
   "source": [
    "msm.get(molecular_system, target='component', n_groups=True, chain_name=True)"
   ]
  },
  {
   "cell_type": "code",
   "execution_count": null,
   "id": "e9d7d8d9-5ca8-4b7f-bcbf-4c9661e2eed6",
   "metadata": {},
   "outputs": [],
   "source": [
    "msm.info(molecular_system, target='component')"
   ]
  },
  {
   "cell_type": "code",
   "execution_count": null,
   "id": "bb47a3fa-9de0-4843-b3c2-63d149329369",
   "metadata": {},
   "outputs": [],
   "source": [
    "msm.info(molecular_system, target='atom', selection='component_index==4')"
   ]
  },
  {
   "cell_type": "code",
   "execution_count": null,
   "id": "b8d7c084-710b-481c-a3ef-a9085c4f53f9",
   "metadata": {},
   "outputs": [],
   "source": [
    "msm.info(molecular_system, target='atom', selection='component_index==5')"
   ]
  },
  {
   "cell_type": "code",
   "execution_count": null,
   "id": "c3bc2560-1b58-4af2-b620-adfbcf66aa68",
   "metadata": {},
   "outputs": [],
   "source": [
    "msm.view(molecular_system)"
   ]
  },
  {
   "cell_type": "code",
   "execution_count": null,
   "id": "227dfc02-e42a-4cfc-bece-f4f8bbc1dab4",
   "metadata": {},
   "outputs": [],
   "source": [
    "molecular_system_A_D = msm.extract(molecular_system, selection='chain_name==[\"A\",\"D\"]')\n",
    "molecular_system_B_E = msm.extract(molecular_system, selection='chain_name==[\"B\",\"E\"]')\n",
    "molecular_system_C_F = msm.extract(molecular_system, selection='chain_name==[\"C\",\"F\"]')"
   ]
  },
  {
   "cell_type": "code",
   "execution_count": null,
   "id": "6be906f1-a311-4a0a-b2a9-35efb556ad06",
   "metadata": {},
   "outputs": [],
   "source": [
    "molecular_system_B_E_over_A_D = msm.structure.align(molecular_system_B_E, reference_molecular_system=molecular_system_A_D)"
   ]
  },
  {
   "cell_type": "code",
   "execution_count": null,
   "id": "b46ee905-3723-4f26-8ef6-cdfeb994f2b5",
   "metadata": {},
   "outputs": [],
   "source": [
    "msm.view([molecular_system_A_D, molecular_system_B_E_over_A_D])"
   ]
  },
  {
   "cell_type": "code",
   "execution_count": null,
   "id": "f77e3a68-ce9e-4ee4-ab52-9953e4a75dc2",
   "metadata": {},
   "outputs": [],
   "source": [
    "aa, bb, cc = msm.topology.get_sequence_identity(molecular_system_C_F, selection='all', reference_molecular_system=molecular_system_A_D,\n",
    "                                  reference_selection='all')"
   ]
  },
  {
   "cell_type": "code",
   "execution_count": null,
   "id": "7d2cb8dc-2a7d-4756-84e2-e8facf263f5c",
   "metadata": {},
   "outputs": [],
   "source": [
    "len(bb)"
   ]
  },
  {
   "cell_type": "code",
   "execution_count": null,
   "id": "43ea6c77-75eb-46ba-a7d3-af5ab9d52e57",
   "metadata": {},
   "outputs": [],
   "source": [
    "len(cc)"
   ]
  },
  {
   "cell_type": "code",
   "execution_count": null,
   "id": "32f41973-d3c0-4daf-889a-5664f773bca8",
   "metadata": {},
   "outputs": [],
   "source": [
    "for res_bb, res_cc in zip(bb,cc):\n",
    "    back_bb = msm.select(molecular_system_C_F, selection='backbone and group_index==@res_bb')\n",
    "    back_cc = msm.select(molecular_system_A_D, selection='backbone and group_index==@res_cc')\n",
    "    if len(back_bb)!=len(back_cc):\n",
    "        print(msm.info(molecular_system_C_F, target='atom', indices=back_bb, output='long_string'))\n",
    "        print(msm.info(molecular_system_A_D, target='atom', indices=back_cc, output='long_string'))"
   ]
  },
  {
   "cell_type": "code",
   "execution_count": null,
   "id": "229410d9-bfe4-4261-b3df-ab0fddedb1ae",
   "metadata": {},
   "outputs": [],
   "source": [
    "molecular_system_C_F_over_A_D = msm.structure.align(molecular_system_C_F, reference_molecular_system=molecular_system_A_D)"
   ]
  },
  {
   "cell_type": "code",
   "execution_count": null,
   "id": "968c5aa4-b0b4-49f0-b1f4-69236fefbd99",
   "metadata": {},
   "outputs": [],
   "source": []
  }
 ],
 "metadata": {
  "kernelspec": {
   "display_name": "Python 3 (ipykernel)",
   "language": "python",
   "name": "python3"
  },
  "language_info": {
   "codemirror_mode": {
    "name": "ipython",
    "version": 3
   },
   "file_extension": ".py",
   "mimetype": "text/x-python",
   "name": "python",
   "nbconvert_exporter": "python",
   "pygments_lexer": "ipython3",
   "version": "3.7.12"
  }
 },
 "nbformat": 4,
 "nbformat_minor": 5
}
