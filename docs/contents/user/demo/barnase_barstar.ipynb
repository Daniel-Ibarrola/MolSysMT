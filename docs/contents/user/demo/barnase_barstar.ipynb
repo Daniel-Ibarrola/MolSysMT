{
 "cells": [
  {
   "cell_type": "code",
   "execution_count": 1,
   "id": "7884fe0a-9320-4a4e-b5b7-d7b14d5f5c22",
   "metadata": {},
   "outputs": [],
   "source": [
    "%load_ext autoreload\n",
    "%autoreload 2"
   ]
  },
  {
   "cell_type": "markdown",
   "id": "d89a220f-10b3-4525-9762-dd5b6a94b3d0",
   "metadata": {},
   "source": [
    "# Barnase-Barstar complex"
   ]
  },
  {
   "cell_type": "code",
   "execution_count": 3,
   "id": "1bb1e5a4-14f2-494c-8b76-31b77bd01bcc",
   "metadata": {},
   "outputs": [
    {
     "ename": "ImportError",
     "evalue": "cannot import name 'name' from 'molsysmt.element.group.aminoacid' (/home/diego/projects/MolSysMT/molsysmt/element/group/aminoacid.py)",
     "output_type": "error",
     "traceback": [
      "\u001b[0;31m---------------------------------------------------------------------------\u001b[0m",
      "\u001b[0;31mImportError\u001b[0m                               Traceback (most recent call last)",
      "\u001b[0;32m/tmp/ipykernel_22420/3616558404.py\u001b[0m in \u001b[0;36m<module>\u001b[0;34m\u001b[0m\n\u001b[0;32m----> 1\u001b[0;31m \u001b[0;32mimport\u001b[0m \u001b[0mmolsysmt\u001b[0m \u001b[0;32mas\u001b[0m \u001b[0mmsm\u001b[0m\u001b[0;34m\u001b[0m\u001b[0;34m\u001b[0m\u001b[0m\n\u001b[0m",
      "\u001b[0;32m~/projects/MolSysMT/molsysmt/__init__.py\u001b[0m in \u001b[0;36m<module>\u001b[0;34m\u001b[0m\n\u001b[1;32m     32\u001b[0m \u001b[0;32mfrom\u001b[0m \u001b[0;34m.\u001b[0m \u001b[0;32mimport\u001b[0m \u001b[0mhbonds\u001b[0m\u001b[0;34m\u001b[0m\u001b[0;34m\u001b[0m\u001b[0m\n\u001b[1;32m     33\u001b[0m \u001b[0;31m#\u001b[0m\u001b[0;34m\u001b[0m\u001b[0;34m\u001b[0m\u001b[0;34m\u001b[0m\u001b[0m\n\u001b[0;32m---> 34\u001b[0;31m \u001b[0;32mfrom\u001b[0m \u001b[0;34m.\u001b[0m \u001b[0;32mimport\u001b[0m \u001b[0melement\u001b[0m\u001b[0;34m\u001b[0m\u001b[0;34m\u001b[0m\u001b[0m\n\u001b[0m\u001b[1;32m     35\u001b[0m \u001b[0;32mfrom\u001b[0m \u001b[0;34m.\u001b[0m \u001b[0;32mimport\u001b[0m \u001b[0mitem\u001b[0m\u001b[0;34m\u001b[0m\u001b[0;34m\u001b[0m\u001b[0m\n\u001b[1;32m     36\u001b[0m \u001b[0;32mfrom\u001b[0m \u001b[0;34m.\u001b[0m\u001b[0mdemo\u001b[0m \u001b[0;32mimport\u001b[0m \u001b[0mdemo\u001b[0m\u001b[0;34m\u001b[0m\u001b[0;34m\u001b[0m\u001b[0m\n",
      "\u001b[0;32m~/projects/MolSysMT/molsysmt/element/__init__.py\u001b[0m in \u001b[0;36m<module>\u001b[0;34m\u001b[0m\n\u001b[1;32m      1\u001b[0m \u001b[0;32mfrom\u001b[0m \u001b[0;34m.\u001b[0m \u001b[0;32mimport\u001b[0m \u001b[0matom\u001b[0m \u001b[0;32mas\u001b[0m \u001b[0matom\u001b[0m\u001b[0;34m\u001b[0m\u001b[0;34m\u001b[0m\u001b[0m\n\u001b[0;32m----> 2\u001b[0;31m \u001b[0;32mfrom\u001b[0m \u001b[0;34m.\u001b[0m \u001b[0;32mimport\u001b[0m \u001b[0mgroup\u001b[0m \u001b[0;32mas\u001b[0m \u001b[0mgroup\u001b[0m\u001b[0;34m\u001b[0m\u001b[0;34m\u001b[0m\u001b[0m\n\u001b[0m\u001b[1;32m      3\u001b[0m \u001b[0;32mfrom\u001b[0m \u001b[0;34m.\u001b[0m \u001b[0;32mimport\u001b[0m \u001b[0mcomponent\u001b[0m \u001b[0;32mas\u001b[0m \u001b[0mcomponent\u001b[0m\u001b[0;34m\u001b[0m\u001b[0;34m\u001b[0m\u001b[0m\n\u001b[1;32m      4\u001b[0m \u001b[0;32mfrom\u001b[0m \u001b[0;34m.\u001b[0m \u001b[0;32mimport\u001b[0m \u001b[0mmolecule\u001b[0m \u001b[0;32mas\u001b[0m \u001b[0mmolecule\u001b[0m\u001b[0;34m\u001b[0m\u001b[0;34m\u001b[0m\u001b[0m\n\u001b[1;32m      5\u001b[0m \u001b[0;32mfrom\u001b[0m \u001b[0;34m.\u001b[0m \u001b[0;32mimport\u001b[0m \u001b[0mchain\u001b[0m \u001b[0;32mas\u001b[0m \u001b[0mchain\u001b[0m\u001b[0;34m\u001b[0m\u001b[0;34m\u001b[0m\u001b[0m\n",
      "\u001b[0;32m~/projects/MolSysMT/molsysmt/element/group/__init__.py\u001b[0m in \u001b[0;36m<module>\u001b[0;34m\u001b[0m\n\u001b[0;32m----> 1\u001b[0;31m \u001b[0;32mfrom\u001b[0m \u001b[0;34m.\u001b[0m\u001b[0mgroup\u001b[0m \u001b[0;32mimport\u001b[0m \u001b[0mname_to_type\u001b[0m\u001b[0;34m,\u001b[0m \u001b[0mgroup_type_from_group\u001b[0m\u001b[0;34m\u001b[0m\u001b[0;34m\u001b[0m\u001b[0m\n\u001b[0m\u001b[1;32m      2\u001b[0m \u001b[0;34m\u001b[0m\u001b[0m\n",
      "\u001b[0;32m~/projects/MolSysMT/molsysmt/element/group/group.py\u001b[0m in \u001b[0;36m<module>\u001b[0;34m\u001b[0m\n\u001b[1;32m      1\u001b[0m \u001b[0;32mfrom\u001b[0m \u001b[0mmolsysmt\u001b[0m\u001b[0;34m.\u001b[0m\u001b[0m_private\u001b[0m\u001b[0;34m.\u001b[0m\u001b[0mexceptions\u001b[0m \u001b[0;32mimport\u001b[0m \u001b[0;34m*\u001b[0m\u001b[0;34m\u001b[0m\u001b[0;34m\u001b[0m\u001b[0m\n\u001b[1;32m      2\u001b[0m \u001b[0;32mimport\u001b[0m \u001b[0mnumpy\u001b[0m \u001b[0;32mas\u001b[0m \u001b[0mnp\u001b[0m\u001b[0;34m\u001b[0m\u001b[0;34m\u001b[0m\u001b[0m\n\u001b[0;32m----> 3\u001b[0;31m \u001b[0;32mfrom\u001b[0m \u001b[0;34m.\u001b[0m\u001b[0maminoacid\u001b[0m \u001b[0;32mimport\u001b[0m \u001b[0mname\u001b[0m \u001b[0;32mas\u001b[0m \u001b[0maminoacid_names\u001b[0m\u001b[0;34m\u001b[0m\u001b[0;34m\u001b[0m\u001b[0m\n\u001b[0m\u001b[1;32m      4\u001b[0m \u001b[0;32mfrom\u001b[0m \u001b[0;34m.\u001b[0m\u001b[0mwater\u001b[0m \u001b[0;32mimport\u001b[0m \u001b[0mname\u001b[0m \u001b[0;32mas\u001b[0m \u001b[0mwater_names\u001b[0m\u001b[0;34m\u001b[0m\u001b[0;34m\u001b[0m\u001b[0m\n\u001b[1;32m      5\u001b[0m \u001b[0;32mfrom\u001b[0m \u001b[0;34m.\u001b[0m\u001b[0mion\u001b[0m \u001b[0;32mimport\u001b[0m \u001b[0mname\u001b[0m \u001b[0;32mas\u001b[0m \u001b[0mion_names\u001b[0m\u001b[0;34m\u001b[0m\u001b[0;34m\u001b[0m\u001b[0m\n",
      "\u001b[0;31mImportError\u001b[0m: cannot import name 'name' from 'molsysmt.element.group.aminoacid' (/home/diego/projects/MolSysMT/molsysmt/element/group/aminoacid.py)"
     ]
    }
   ],
   "source": [
    "import molsysmt as msm"
   ]
  },
  {
   "cell_type": "code",
   "execution_count": null,
   "id": "2cb0045a-a659-464b-a05f-f1f9dd9efa1c",
   "metadata": {},
   "outputs": [],
   "source": [
    "msm.get_form('1BRS')"
   ]
  },
  {
   "cell_type": "code",
   "execution_count": null,
   "id": "fb2e2194-2c0e-4790-b223-333e865bd03a",
   "metadata": {},
   "outputs": [],
   "source": [
    "molsys = msm.convert('1BRS')"
   ]
  },
  {
   "cell_type": "code",
   "execution_count": null,
   "id": "0915c348-1371-480a-bb32-bd3a5e96371b",
   "metadata": {},
   "outputs": [],
   "source": [
    "msm.info(molsys)"
   ]
  },
  {
   "cell_type": "code",
   "execution_count": null,
   "id": "5cc39a53-96f3-4cc7-bd2f-389fb134cd28",
   "metadata": {},
   "outputs": [],
   "source": [
    "molsys = msm.build.remove_waters(molsys)"
   ]
  },
  {
   "cell_type": "code",
   "execution_count": null,
   "id": "3ca39f5d-3c34-42dc-84d7-e40ac4384825",
   "metadata": {},
   "outputs": [],
   "source": [
    "msm.info(molsys, target='molecules')"
   ]
  },
  {
   "cell_type": "code",
   "execution_count": null,
   "id": "43afa8d5-fc95-4206-8842-9f96e89824f8",
   "metadata": {},
   "outputs": [],
   "source": [
    "msm.build.has_hydrogens(molsys)"
   ]
  },
  {
   "cell_type": "code",
   "execution_count": null,
   "id": "a673c164-1a44-4c87-8514-046d6ad3ca84",
   "metadata": {},
   "outputs": [],
   "source": [
    "msm.info(molsys, target='chain')"
   ]
  },
  {
   "cell_type": "code",
   "execution_count": null,
   "id": "db74b40c-fd88-4bd6-a32d-e6a8393725af",
   "metadata": {},
   "outputs": [],
   "source": [
    "missing_atoms = msm.build.get_missing_heavy_atoms(molsys)"
   ]
  },
  {
   "cell_type": "code",
   "execution_count": null,
   "id": "18ecac9b-a55c-4a65-a272-8da356e5f1b2",
   "metadata": {},
   "outputs": [],
   "source": [
    "missing_atoms"
   ]
  },
  {
   "cell_type": "code",
   "execution_count": null,
   "id": "225c3b9d-7f12-43c8-ad4a-5c2b2af766d3",
   "metadata": {},
   "outputs": [],
   "source": [
    "missing_atoms.keys()"
   ]
  },
  {
   "cell_type": "code",
   "execution_count": null,
   "id": "19c54549-5999-4f7a-a28b-a3796c7a360e",
   "metadata": {},
   "outputs": [],
   "source": [
    "msm.info(molsys, target='group', indices=list(missing_atoms.keys()))"
   ]
  },
  {
   "cell_type": "code",
   "execution_count": null,
   "id": "0fb80b1d-0903-4d85-aa39-7f0e833a4460",
   "metadata": {},
   "outputs": [],
   "source": [
    "msm.get(molsys, target='component', n_groups=True, chain_name=True)"
   ]
  },
  {
   "cell_type": "code",
   "execution_count": null,
   "id": "df420ee8-386c-406d-a391-2dcc8982f86e",
   "metadata": {},
   "outputs": [],
   "source": [
    "molsys2 = msm.build.add_missing_heavy_atoms(molsys)"
   ]
  },
  {
   "cell_type": "code",
   "execution_count": null,
   "id": "21f1d028-b04d-45cf-9cdf-a36e27b4a1a5",
   "metadata": {},
   "outputs": [],
   "source": [
    "msm.get(molsys, target='component', n_groups=True, chain_name=True)"
   ]
  },
  {
   "cell_type": "code",
   "execution_count": null,
   "id": "e9d7d8d9-5ca8-4b7f-bcbf-4c9661e2eed6",
   "metadata": {},
   "outputs": [],
   "source": [
    "msm.info(molsys, target='component')"
   ]
  },
  {
   "cell_type": "code",
   "execution_count": null,
   "id": "bb47a3fa-9de0-4843-b3c2-63d149329369",
   "metadata": {},
   "outputs": [],
   "source": [
    "#msm.info(molsys, target='atom', selection='component_index==4')"
   ]
  },
  {
   "cell_type": "code",
   "execution_count": null,
   "id": "b8d7c084-710b-481c-a3ef-a9085c4f53f9",
   "metadata": {},
   "outputs": [],
   "source": [
    "#msm.info(molsys, target='atom', selection='component_index==5')"
   ]
  },
  {
   "cell_type": "code",
   "execution_count": null,
   "id": "c3bc2560-1b58-4af2-b620-adfbcf66aa68",
   "metadata": {},
   "outputs": [],
   "source": [
    "msm.view(molsys)"
   ]
  },
  {
   "cell_type": "code",
   "execution_count": null,
   "id": "227dfc02-e42a-4cfc-bece-f4f8bbc1dab4",
   "metadata": {},
   "outputs": [],
   "source": [
    "molsys_AD = msm.extract(molsys, selection='chain_name==[\"A\",\"D\"]')\n",
    "molsys_BE = msm.extract(molsys, selection='chain_name==[\"B\",\"E\"]')\n",
    "molsys_CF = msm.extract(molsys, selection='chain_name==[\"C\",\"F\"]')"
   ]
  },
  {
   "cell_type": "code",
   "execution_count": null,
   "id": "866f1925-f8ab-44ae-92c5-cefd36964e81",
   "metadata": {},
   "outputs": [],
   "source": [
    "msm.topology.get_sequence_alignment(molsys_BE, selection='all',\n",
    "                                    reference_molecular_system=molsys_AD,\n",
    "                                    reference_selection='all')"
   ]
  },
  {
   "cell_type": "code",
   "execution_count": null,
   "id": "6be906f1-a311-4a0a-b2a9-35efb556ad06",
   "metadata": {},
   "outputs": [],
   "source": [
    "molsys_BE_over_AD = msm.structure.align(molsys_BE, reference_molecular_system=molsys_AD)"
   ]
  },
  {
   "cell_type": "code",
   "execution_count": null,
   "id": "c2e4ddfa-9759-40ac-9ae3-fd24075f2a0d",
   "metadata": {},
   "outputs": [],
   "source": [
    "msm.tools.molecular_system.are_multiple_molecular_systems(molsys_AD)"
   ]
  },
  {
   "cell_type": "code",
   "execution_count": null,
   "id": "b46ee905-3723-4f26-8ef6-cdfeb994f2b5",
   "metadata": {},
   "outputs": [],
   "source": [
    "msm.view([molsys_AD, molsys_BE_over_AD])"
   ]
  },
  {
   "cell_type": "code",
   "execution_count": null,
   "id": "f77e3a68-ce9e-4ee4-ab52-9953e4a75dc2",
   "metadata": {},
   "outputs": [],
   "source": [
    "aa, bb, cc = msm.topology.get_sequence_identity(molecular_system_C_F, selection='all', reference_molecular_system=molecular_system_A_D,\n",
    "                                  reference_selection='all')"
   ]
  },
  {
   "cell_type": "code",
   "execution_count": null,
   "id": "7d2cb8dc-2a7d-4756-84e2-e8facf263f5c",
   "metadata": {},
   "outputs": [],
   "source": [
    "len(bb)"
   ]
  },
  {
   "cell_type": "code",
   "execution_count": null,
   "id": "43ea6c77-75eb-46ba-a7d3-af5ab9d52e57",
   "metadata": {},
   "outputs": [],
   "source": [
    "len(cc)"
   ]
  },
  {
   "cell_type": "code",
   "execution_count": null,
   "id": "32f41973-d3c0-4daf-889a-5664f773bca8",
   "metadata": {},
   "outputs": [],
   "source": [
    "for res_bb, res_cc in zip(bb,cc):\n",
    "    back_bb = msm.select(molecular_system_C_F, selection='backbone and group_index==@res_bb')\n",
    "    back_cc = msm.select(molecular_system_A_D, selection='backbone and group_index==@res_cc')\n",
    "    if len(back_bb)!=len(back_cc):\n",
    "        print(msm.info(molecular_system_C_F, target='atom', indices=back_bb, output='long_string'))\n",
    "        print(msm.info(molecular_system_A_D, target='atom', indices=back_cc, output='long_string'))"
   ]
  },
  {
   "cell_type": "code",
   "execution_count": null,
   "id": "229410d9-bfe4-4261-b3df-ab0fddedb1ae",
   "metadata": {},
   "outputs": [],
   "source": [
    "molecular_system_C_F_over_A_D = msm.structure.align(molecular_system_C_F, reference_molecular_system=molecular_system_A_D)"
   ]
  }
 ],
 "metadata": {
  "kernelspec": {
   "display_name": "Python 3 (ipykernel)",
   "language": "python",
   "name": "python3"
  },
  "language_info": {
   "codemirror_mode": {
    "name": "ipython",
    "version": 3
   },
   "file_extension": ".py",
   "mimetype": "text/x-python",
   "name": "python",
   "nbconvert_exporter": "python",
   "pygments_lexer": "ipython3",
   "version": "3.7.12"
  }
 },
 "nbformat": 4,
 "nbformat_minor": 5
}
