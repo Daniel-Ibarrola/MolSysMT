{
 "cells": [
  {
   "cell_type": "code",
   "execution_count": 1,
   "id": "7884fe0a-9320-4a4e-b5b7-d7b14d5f5c22",
   "metadata": {},
   "outputs": [],
   "source": [
    "%load_ext autoreload\n",
    "%autoreload 2"
   ]
  },
  {
   "cell_type": "markdown",
   "id": "d89a220f-10b3-4525-9762-dd5b6a94b3d0",
   "metadata": {},
   "source": [
    "# Barnase-Barstar complex"
   ]
  },
  {
   "cell_type": "code",
   "execution_count": 2,
   "id": "1bb1e5a4-14f2-494c-8b76-31b77bd01bcc",
   "metadata": {},
   "outputs": [
    {
     "data": {
      "application/vnd.jupyter.widget-view+json": {
       "model_id": "e80e89ad872b47abaa70463138fb123c",
       "version_major": 2,
       "version_minor": 0
      },
      "text/plain": []
     },
     "metadata": {},
     "output_type": "display_data"
    }
   ],
   "source": [
    "import molsysmt as msm"
   ]
  },
  {
   "cell_type": "code",
   "execution_count": 3,
   "id": "2cb0045a-a659-464b-a05f-f1f9dd9efa1c",
   "metadata": {},
   "outputs": [
    {
     "data": {
      "text/plain": [
       "'string:pdb_id'"
      ]
     },
     "execution_count": 3,
     "metadata": {},
     "output_type": "execute_result"
    }
   ],
   "source": [
    "msm.get_form('1BRS')"
   ]
  },
  {
   "cell_type": "code",
   "execution_count": 4,
   "id": "fb2e2194-2c0e-4790-b223-333e865bd03a",
   "metadata": {},
   "outputs": [
    {
     "name": "stderr",
     "output_type": "stream",
     "text": [
      "/home/diego/projects/MolSysMT/molsysmt/tools/mmtf_MMTFDecoder/to_molsysmt_Topology.py:30: UserWarning: The structure in the PDB has biological assemblies. There are geometrical transformations proposed in the structure. See the following issue in the source code repository: https://github.com/uibcdf/MolSysMT/issues/33\n",
      "  warnings.warn(warning_message)\n",
      "/home/diego/projects/MolSysMT/molsysmt/tools/mmtf_MMTFDecoder/to_molsysmt_Topology.py:44: UserWarning: The bioassembly has a different number of chains than the total amount of chains\n",
      "  warnings.warn(warning_message)\n"
     ]
    }
   ],
   "source": [
    "molsys = msm.convert('1BRS')"
   ]
  },
  {
   "cell_type": "code",
   "execution_count": 5,
   "id": "0915c348-1371-480a-bb32-bd3a5e96371b",
   "metadata": {},
   "outputs": [
    {
     "data": {
      "text/html": [
       "<style type=\"text/css\">\n",
       "</style>\n",
       "<table id=\"T_27211_\">\n",
       "  <thead>\n",
       "    <tr>\n",
       "      <th class=\"col_heading level0 col0\" >form</th>\n",
       "      <th class=\"col_heading level0 col1\" >n_atoms</th>\n",
       "      <th class=\"col_heading level0 col2\" >n_groups</th>\n",
       "      <th class=\"col_heading level0 col3\" >n_components</th>\n",
       "      <th class=\"col_heading level0 col4\" >n_chains</th>\n",
       "      <th class=\"col_heading level0 col5\" >n_molecules</th>\n",
       "      <th class=\"col_heading level0 col6\" >n_entities</th>\n",
       "      <th class=\"col_heading level0 col7\" >n_waters</th>\n",
       "      <th class=\"col_heading level0 col8\" >n_proteins</th>\n",
       "      <th class=\"col_heading level0 col9\" >n_structures</th>\n",
       "    </tr>\n",
       "  </thead>\n",
       "  <tbody>\n",
       "    <tr>\n",
       "      <td id=\"T_27211_row0_col0\" class=\"data row0 col0\" >molsysmt.MolSys</td>\n",
       "      <td id=\"T_27211_row0_col1\" class=\"data row0 col1\" >5153</td>\n",
       "      <td id=\"T_27211_row0_col2\" class=\"data row0 col2\" >1101</td>\n",
       "      <td id=\"T_27211_row0_col3\" class=\"data row0 col3\" >521</td>\n",
       "      <td id=\"T_27211_row0_col4\" class=\"data row0 col4\" >12</td>\n",
       "      <td id=\"T_27211_row0_col5\" class=\"data row0 col5\" >519</td>\n",
       "      <td id=\"T_27211_row0_col6\" class=\"data row0 col6\" >3</td>\n",
       "      <td id=\"T_27211_row0_col7\" class=\"data row0 col7\" >513</td>\n",
       "      <td id=\"T_27211_row0_col8\" class=\"data row0 col8\" >6</td>\n",
       "      <td id=\"T_27211_row0_col9\" class=\"data row0 col9\" >1</td>\n",
       "    </tr>\n",
       "  </tbody>\n",
       "</table>\n"
      ],
      "text/plain": [
       "<pandas.io.formats.style.Styler at 0x7f3eb8751e10>"
      ]
     },
     "execution_count": 5,
     "metadata": {},
     "output_type": "execute_result"
    }
   ],
   "source": [
    "msm.info(molsys)"
   ]
  },
  {
   "cell_type": "code",
   "execution_count": 6,
   "id": "5cc39a53-96f3-4cc7-bd2f-389fb134cd28",
   "metadata": {},
   "outputs": [],
   "source": [
    "molsys = msm.build.remove_waters(molsys)"
   ]
  },
  {
   "cell_type": "code",
   "execution_count": 7,
   "id": "3ca39f5d-3c34-42dc-84d7-e40ac4384825",
   "metadata": {},
   "outputs": [
    {
     "data": {
      "text/html": [
       "<style type=\"text/css\">\n",
       "</style>\n",
       "<table id=\"T_de875_\">\n",
       "  <thead>\n",
       "    <tr>\n",
       "      <th class=\"col_heading level0 col0\" >index</th>\n",
       "      <th class=\"col_heading level0 col1\" >name</th>\n",
       "      <th class=\"col_heading level0 col2\" >type</th>\n",
       "      <th class=\"col_heading level0 col3\" >n atoms</th>\n",
       "      <th class=\"col_heading level0 col4\" >n groups</th>\n",
       "      <th class=\"col_heading level0 col5\" >n components</th>\n",
       "      <th class=\"col_heading level0 col6\" >chain index</th>\n",
       "      <th class=\"col_heading level0 col7\" >entity index</th>\n",
       "      <th class=\"col_heading level0 col8\" >entity name</th>\n",
       "    </tr>\n",
       "  </thead>\n",
       "  <tbody>\n",
       "    <tr>\n",
       "      <td id=\"T_de875_row0_col0\" class=\"data row0 col0\" >0</td>\n",
       "      <td id=\"T_de875_row0_col1\" class=\"data row0 col1\" >Barnase</td>\n",
       "      <td id=\"T_de875_row0_col2\" class=\"data row0 col2\" >protein</td>\n",
       "      <td id=\"T_de875_row0_col3\" class=\"data row0 col3\" >864</td>\n",
       "      <td id=\"T_de875_row0_col4\" class=\"data row0 col4\" >108</td>\n",
       "      <td id=\"T_de875_row0_col5\" class=\"data row0 col5\" >1</td>\n",
       "      <td id=\"T_de875_row0_col6\" class=\"data row0 col6\" >0</td>\n",
       "      <td id=\"T_de875_row0_col7\" class=\"data row0 col7\" >0</td>\n",
       "      <td id=\"T_de875_row0_col8\" class=\"data row0 col8\" >Barnase</td>\n",
       "    </tr>\n",
       "    <tr>\n",
       "      <td id=\"T_de875_row1_col0\" class=\"data row1 col0\" >1</td>\n",
       "      <td id=\"T_de875_row1_col1\" class=\"data row1 col1\" >Barnase</td>\n",
       "      <td id=\"T_de875_row1_col2\" class=\"data row1 col2\" >protein</td>\n",
       "      <td id=\"T_de875_row1_col3\" class=\"data row1 col3\" >878</td>\n",
       "      <td id=\"T_de875_row1_col4\" class=\"data row1 col4\" >110</td>\n",
       "      <td id=\"T_de875_row1_col5\" class=\"data row1 col5\" >1</td>\n",
       "      <td id=\"T_de875_row1_col6\" class=\"data row1 col6\" >1</td>\n",
       "      <td id=\"T_de875_row1_col7\" class=\"data row1 col7\" >0</td>\n",
       "      <td id=\"T_de875_row1_col8\" class=\"data row1 col8\" >Barnase</td>\n",
       "    </tr>\n",
       "    <tr>\n",
       "      <td id=\"T_de875_row2_col0\" class=\"data row2 col0\" >2</td>\n",
       "      <td id=\"T_de875_row2_col1\" class=\"data row2 col1\" >Barnase</td>\n",
       "      <td id=\"T_de875_row2_col2\" class=\"data row2 col2\" >protein</td>\n",
       "      <td id=\"T_de875_row2_col3\" class=\"data row2 col3\" >839</td>\n",
       "      <td id=\"T_de875_row2_col4\" class=\"data row2 col4\" >108</td>\n",
       "      <td id=\"T_de875_row2_col5\" class=\"data row2 col5\" >1</td>\n",
       "      <td id=\"T_de875_row2_col6\" class=\"data row2 col6\" >2</td>\n",
       "      <td id=\"T_de875_row2_col7\" class=\"data row2 col7\" >0</td>\n",
       "      <td id=\"T_de875_row2_col8\" class=\"data row2 col8\" >Barnase</td>\n",
       "    </tr>\n",
       "    <tr>\n",
       "      <td id=\"T_de875_row3_col0\" class=\"data row3 col0\" >3</td>\n",
       "      <td id=\"T_de875_row3_col1\" class=\"data row3 col1\" >Barstar</td>\n",
       "      <td id=\"T_de875_row3_col2\" class=\"data row3 col2\" >protein</td>\n",
       "      <td id=\"T_de875_row3_col3\" class=\"data row3 col3\" >695</td>\n",
       "      <td id=\"T_de875_row3_col4\" class=\"data row3 col4\" >87</td>\n",
       "      <td id=\"T_de875_row3_col5\" class=\"data row3 col5\" >2</td>\n",
       "      <td id=\"T_de875_row3_col6\" class=\"data row3 col6\" >3</td>\n",
       "      <td id=\"T_de875_row3_col7\" class=\"data row3 col7\" >1</td>\n",
       "      <td id=\"T_de875_row3_col8\" class=\"data row3 col8\" >Barstar</td>\n",
       "    </tr>\n",
       "    <tr>\n",
       "      <td id=\"T_de875_row4_col0\" class=\"data row4 col0\" >4</td>\n",
       "      <td id=\"T_de875_row4_col1\" class=\"data row4 col1\" >Barstar</td>\n",
       "      <td id=\"T_de875_row4_col2\" class=\"data row4 col2\" >protein</td>\n",
       "      <td id=\"T_de875_row4_col3\" class=\"data row4 col3\" >665</td>\n",
       "      <td id=\"T_de875_row4_col4\" class=\"data row4 col4\" >86</td>\n",
       "      <td id=\"T_de875_row4_col5\" class=\"data row4 col5\" >2</td>\n",
       "      <td id=\"T_de875_row4_col6\" class=\"data row4 col6\" >4</td>\n",
       "      <td id=\"T_de875_row4_col7\" class=\"data row4 col7\" >1</td>\n",
       "      <td id=\"T_de875_row4_col8\" class=\"data row4 col8\" >Barstar</td>\n",
       "    </tr>\n",
       "    <tr>\n",
       "      <td id=\"T_de875_row5_col0\" class=\"data row5 col0\" >5</td>\n",
       "      <td id=\"T_de875_row5_col1\" class=\"data row5 col1\" >Barstar</td>\n",
       "      <td id=\"T_de875_row5_col2\" class=\"data row5 col2\" >protein</td>\n",
       "      <td id=\"T_de875_row5_col3\" class=\"data row5 col3\" >699</td>\n",
       "      <td id=\"T_de875_row5_col4\" class=\"data row5 col4\" >89</td>\n",
       "      <td id=\"T_de875_row5_col5\" class=\"data row5 col5\" >1</td>\n",
       "      <td id=\"T_de875_row5_col6\" class=\"data row5 col6\" >5</td>\n",
       "      <td id=\"T_de875_row5_col7\" class=\"data row5 col7\" >1</td>\n",
       "      <td id=\"T_de875_row5_col8\" class=\"data row5 col8\" >Barstar</td>\n",
       "    </tr>\n",
       "  </tbody>\n",
       "</table>\n"
      ],
      "text/plain": [
       "<pandas.io.formats.style.Styler at 0x7f3eb7164150>"
      ]
     },
     "execution_count": 7,
     "metadata": {},
     "output_type": "execute_result"
    }
   ],
   "source": [
    "msm.info(molsys, target='molecules')"
   ]
  },
  {
   "cell_type": "code",
   "execution_count": 8,
   "id": "43afa8d5-fc95-4206-8842-9f96e89824f8",
   "metadata": {},
   "outputs": [
    {
     "data": {
      "text/plain": [
       "False"
      ]
     },
     "execution_count": 8,
     "metadata": {},
     "output_type": "execute_result"
    }
   ],
   "source": [
    "msm.build.has_hydrogens(molsys)"
   ]
  },
  {
   "cell_type": "code",
   "execution_count": 9,
   "id": "a673c164-1a44-4c87-8514-046d6ad3ca84",
   "metadata": {},
   "outputs": [
    {
     "data": {
      "text/html": [
       "<style type=\"text/css\">\n",
       "</style>\n",
       "<table id=\"T_47959_\">\n",
       "  <thead>\n",
       "    <tr>\n",
       "      <th class=\"col_heading level0 col0\" >index</th>\n",
       "      <th class=\"col_heading level0 col1\" >id</th>\n",
       "      <th class=\"col_heading level0 col2\" >name</th>\n",
       "      <th class=\"col_heading level0 col3\" >n atoms</th>\n",
       "      <th class=\"col_heading level0 col4\" >n groups</th>\n",
       "      <th class=\"col_heading level0 col5\" >n components</th>\n",
       "      <th class=\"col_heading level0 col6\" >molecule index</th>\n",
       "      <th class=\"col_heading level0 col7\" >molecule type</th>\n",
       "      <th class=\"col_heading level0 col8\" >entity index</th>\n",
       "      <th class=\"col_heading level0 col9\" >entity name</th>\n",
       "    </tr>\n",
       "  </thead>\n",
       "  <tbody>\n",
       "    <tr>\n",
       "      <td id=\"T_47959_row0_col0\" class=\"data row0 col0\" >0</td>\n",
       "      <td id=\"T_47959_row0_col1\" class=\"data row0 col1\" >A</td>\n",
       "      <td id=\"T_47959_row0_col2\" class=\"data row0 col2\" >A</td>\n",
       "      <td id=\"T_47959_row0_col3\" class=\"data row0 col3\" >864</td>\n",
       "      <td id=\"T_47959_row0_col4\" class=\"data row0 col4\" >108</td>\n",
       "      <td id=\"T_47959_row0_col5\" class=\"data row0 col5\" >1</td>\n",
       "      <td id=\"T_47959_row0_col6\" class=\"data row0 col6\" >0</td>\n",
       "      <td id=\"T_47959_row0_col7\" class=\"data row0 col7\" >protein</td>\n",
       "      <td id=\"T_47959_row0_col8\" class=\"data row0 col8\" >0</td>\n",
       "      <td id=\"T_47959_row0_col9\" class=\"data row0 col9\" >Barnase</td>\n",
       "    </tr>\n",
       "    <tr>\n",
       "      <td id=\"T_47959_row1_col0\" class=\"data row1 col0\" >1</td>\n",
       "      <td id=\"T_47959_row1_col1\" class=\"data row1 col1\" >B</td>\n",
       "      <td id=\"T_47959_row1_col2\" class=\"data row1 col2\" >B</td>\n",
       "      <td id=\"T_47959_row1_col3\" class=\"data row1 col3\" >878</td>\n",
       "      <td id=\"T_47959_row1_col4\" class=\"data row1 col4\" >110</td>\n",
       "      <td id=\"T_47959_row1_col5\" class=\"data row1 col5\" >1</td>\n",
       "      <td id=\"T_47959_row1_col6\" class=\"data row1 col6\" >1</td>\n",
       "      <td id=\"T_47959_row1_col7\" class=\"data row1 col7\" >protein</td>\n",
       "      <td id=\"T_47959_row1_col8\" class=\"data row1 col8\" >0</td>\n",
       "      <td id=\"T_47959_row1_col9\" class=\"data row1 col9\" >Barnase</td>\n",
       "    </tr>\n",
       "    <tr>\n",
       "      <td id=\"T_47959_row2_col0\" class=\"data row2 col0\" >2</td>\n",
       "      <td id=\"T_47959_row2_col1\" class=\"data row2 col1\" >C</td>\n",
       "      <td id=\"T_47959_row2_col2\" class=\"data row2 col2\" >C</td>\n",
       "      <td id=\"T_47959_row2_col3\" class=\"data row2 col3\" >839</td>\n",
       "      <td id=\"T_47959_row2_col4\" class=\"data row2 col4\" >108</td>\n",
       "      <td id=\"T_47959_row2_col5\" class=\"data row2 col5\" >1</td>\n",
       "      <td id=\"T_47959_row2_col6\" class=\"data row2 col6\" >2</td>\n",
       "      <td id=\"T_47959_row2_col7\" class=\"data row2 col7\" >protein</td>\n",
       "      <td id=\"T_47959_row2_col8\" class=\"data row2 col8\" >0</td>\n",
       "      <td id=\"T_47959_row2_col9\" class=\"data row2 col9\" >Barnase</td>\n",
       "    </tr>\n",
       "    <tr>\n",
       "      <td id=\"T_47959_row3_col0\" class=\"data row3 col0\" >3</td>\n",
       "      <td id=\"T_47959_row3_col1\" class=\"data row3 col1\" >D</td>\n",
       "      <td id=\"T_47959_row3_col2\" class=\"data row3 col2\" >D</td>\n",
       "      <td id=\"T_47959_row3_col3\" class=\"data row3 col3\" >695</td>\n",
       "      <td id=\"T_47959_row3_col4\" class=\"data row3 col4\" >87</td>\n",
       "      <td id=\"T_47959_row3_col5\" class=\"data row3 col5\" >2</td>\n",
       "      <td id=\"T_47959_row3_col6\" class=\"data row3 col6\" >3</td>\n",
       "      <td id=\"T_47959_row3_col7\" class=\"data row3 col7\" >protein</td>\n",
       "      <td id=\"T_47959_row3_col8\" class=\"data row3 col8\" >1</td>\n",
       "      <td id=\"T_47959_row3_col9\" class=\"data row3 col9\" >Barstar</td>\n",
       "    </tr>\n",
       "    <tr>\n",
       "      <td id=\"T_47959_row4_col0\" class=\"data row4 col0\" >4</td>\n",
       "      <td id=\"T_47959_row4_col1\" class=\"data row4 col1\" >E</td>\n",
       "      <td id=\"T_47959_row4_col2\" class=\"data row4 col2\" >E</td>\n",
       "      <td id=\"T_47959_row4_col3\" class=\"data row4 col3\" >665</td>\n",
       "      <td id=\"T_47959_row4_col4\" class=\"data row4 col4\" >86</td>\n",
       "      <td id=\"T_47959_row4_col5\" class=\"data row4 col5\" >2</td>\n",
       "      <td id=\"T_47959_row4_col6\" class=\"data row4 col6\" >4</td>\n",
       "      <td id=\"T_47959_row4_col7\" class=\"data row4 col7\" >protein</td>\n",
       "      <td id=\"T_47959_row4_col8\" class=\"data row4 col8\" >1</td>\n",
       "      <td id=\"T_47959_row4_col9\" class=\"data row4 col9\" >Barstar</td>\n",
       "    </tr>\n",
       "    <tr>\n",
       "      <td id=\"T_47959_row5_col0\" class=\"data row5 col0\" >5</td>\n",
       "      <td id=\"T_47959_row5_col1\" class=\"data row5 col1\" >F</td>\n",
       "      <td id=\"T_47959_row5_col2\" class=\"data row5 col2\" >F</td>\n",
       "      <td id=\"T_47959_row5_col3\" class=\"data row5 col3\" >699</td>\n",
       "      <td id=\"T_47959_row5_col4\" class=\"data row5 col4\" >89</td>\n",
       "      <td id=\"T_47959_row5_col5\" class=\"data row5 col5\" >1</td>\n",
       "      <td id=\"T_47959_row5_col6\" class=\"data row5 col6\" >5</td>\n",
       "      <td id=\"T_47959_row5_col7\" class=\"data row5 col7\" >protein</td>\n",
       "      <td id=\"T_47959_row5_col8\" class=\"data row5 col8\" >1</td>\n",
       "      <td id=\"T_47959_row5_col9\" class=\"data row5 col9\" >Barstar</td>\n",
       "    </tr>\n",
       "  </tbody>\n",
       "</table>\n"
      ],
      "text/plain": [
       "<pandas.io.formats.style.Styler at 0x7f3eb71ffd10>"
      ]
     },
     "execution_count": 9,
     "metadata": {},
     "output_type": "execute_result"
    }
   ],
   "source": [
    "msm.info(molsys, target='chain')"
   ]
  },
  {
   "cell_type": "code",
   "execution_count": 10,
   "id": "2d06ba33-b1d5-440c-bbc1-f302899f4390",
   "metadata": {},
   "outputs": [],
   "source": [
    "box = msm.get(molsys, box=True)"
   ]
  },
  {
   "cell_type": "code",
   "execution_count": 13,
   "id": "f8e9ca9f-17f2-4777-b1b8-51e37a1fa0c7",
   "metadata": {},
   "outputs": [
    {
     "data": {
      "text/plain": [
       "'[[[20.724999999999998 0.0 0.0]  [9.999999999999998e-08 4.3860000999999995 0.0]  [-2.5839137 9.999999999999998e-08 8.0672938]]] nanometer'"
      ]
     },
     "execution_count": 13,
     "metadata": {},
     "output_type": "execute_result"
    }
   ],
   "source": [
    "box.__str__()"
   ]
  },
  {
   "cell_type": "code",
   "execution_count": 12,
   "id": "9f5d42b6-88f7-4604-9777-15600d8388d9",
   "metadata": {},
   "outputs": [
    {
     "ename": "TypeError",
     "evalue": "unsupported operand type(s) for -: 'ParserHelper' and 'ParserHelper'",
     "output_type": "error",
     "traceback": [
      "\u001b[0;31m---------------------------------------------------------------------------\u001b[0m",
      "\u001b[0;31mTypeError\u001b[0m                                 Traceback (most recent call last)",
      "\u001b[0;32m/tmp/ipykernel_3129361/189415180.py\u001b[0m in \u001b[0;36m<module>\u001b[0;34m\u001b[0m\n\u001b[0;32m----> 1\u001b[0;31m \u001b[0mmsm\u001b[0m\u001b[0;34m.\u001b[0m\u001b[0mpuw\u001b[0m\u001b[0;34m.\u001b[0m\u001b[0mconvert\u001b[0m\u001b[0;34m(\u001b[0m\u001b[0mbox\u001b[0m\u001b[0;34m,\u001b[0m \u001b[0mto_form\u001b[0m\u001b[0;34m=\u001b[0m\u001b[0;34m'openmm.unit'\u001b[0m\u001b[0;34m)\u001b[0m\u001b[0;34m\u001b[0m\u001b[0;34m\u001b[0m\u001b[0m\n\u001b[0m",
      "\u001b[0;32m~/Myopt/miniconda3/envs/MolSysMT/lib/python3.7/site-packages/pyunitwizard/main.py\u001b[0m in \u001b[0;36mconvert\u001b[0;34m(quantity_or_unit, to_unit, to_form, parser, to_type)\u001b[0m\n\u001b[1;32m    264\u001b[0m                 \u001b[0moutput\u001b[0m \u001b[0;34m=\u001b[0m \u001b[0mquantity_or_unit\u001b[0m\u001b[0;34m\u001b[0m\u001b[0;34m\u001b[0m\u001b[0m\n\u001b[1;32m    265\u001b[0m             \u001b[0;32melse\u001b[0m\u001b[0;34m:\u001b[0m\u001b[0;34m\u001b[0m\u001b[0;34m\u001b[0m\u001b[0m\n\u001b[0;32m--> 266\u001b[0;31m                 \u001b[0moutput\u001b[0m \u001b[0;34m=\u001b[0m \u001b[0mdict_translate\u001b[0m\u001b[0;34m[\u001b[0m\u001b[0mform_in\u001b[0m\u001b[0;34m]\u001b[0m\u001b[0;34m[\u001b[0m\u001b[0mto_form\u001b[0m\u001b[0;34m]\u001b[0m\u001b[0;34m(\u001b[0m\u001b[0mquantity_or_unit\u001b[0m\u001b[0;34m)\u001b[0m\u001b[0;34m\u001b[0m\u001b[0;34m\u001b[0m\u001b[0m\n\u001b[0m\u001b[1;32m    267\u001b[0m \u001b[0;34m\u001b[0m\u001b[0m\n\u001b[1;32m    268\u001b[0m             \u001b[0;32mif\u001b[0m \u001b[0mto_unit\u001b[0m \u001b[0;32mis\u001b[0m \u001b[0;32mnot\u001b[0m \u001b[0;32mNone\u001b[0m\u001b[0;34m:\u001b[0m\u001b[0;34m\u001b[0m\u001b[0;34m\u001b[0m\u001b[0m\n",
      "\u001b[0;32m~/Myopt/miniconda3/envs/MolSysMT/lib/python3.7/site-packages/pyunitwizard/forms/api_pint.py\u001b[0m in \u001b[0;36mto_openmm_unit\u001b[0;34m(quantity)\u001b[0m\n\u001b[1;32m    103\u001b[0m         \u001b[0;32mraise\u001b[0m \u001b[0mLibraryNotFoundError\u001b[0m\u001b[0;34m(\u001b[0m\u001b[0;34m'openmm'\u001b[0m\u001b[0;34m)\u001b[0m\u001b[0;34m\u001b[0m\u001b[0;34m\u001b[0m\u001b[0m\n\u001b[1;32m    104\u001b[0m \u001b[0;34m\u001b[0m\u001b[0m\n\u001b[0;32m--> 105\u001b[0;31m     \u001b[0mpint_parser\u001b[0m \u001b[0;34m=\u001b[0m \u001b[0mPintParserHelper\u001b[0m\u001b[0;34m.\u001b[0m\u001b[0mfrom_string\u001b[0m\u001b[0;34m(\u001b[0m\u001b[0mquantity\u001b[0m\u001b[0;34m.\u001b[0m\u001b[0m__str__\u001b[0m\u001b[0;34m(\u001b[0m\u001b[0;34m)\u001b[0m\u001b[0;34m)\u001b[0m\u001b[0;34m\u001b[0m\u001b[0;34m\u001b[0m\u001b[0m\n\u001b[0m\u001b[1;32m    106\u001b[0m     \u001b[0mtmp_quantity\u001b[0m \u001b[0;34m=\u001b[0m \u001b[0mpint_parser\u001b[0m\u001b[0;34m.\u001b[0m\u001b[0mscale\u001b[0m\u001b[0;34m\u001b[0m\u001b[0;34m\u001b[0m\u001b[0m\n\u001b[1;32m    107\u001b[0m     \u001b[0;32mfor\u001b[0m \u001b[0munit_name\u001b[0m\u001b[0;34m,\u001b[0m \u001b[0mexponent\u001b[0m \u001b[0;32min\u001b[0m \u001b[0mpint_parser\u001b[0m\u001b[0;34m.\u001b[0m\u001b[0mitems\u001b[0m\u001b[0;34m(\u001b[0m\u001b[0;34m)\u001b[0m\u001b[0;34m:\u001b[0m\u001b[0;34m\u001b[0m\u001b[0;34m\u001b[0m\u001b[0m\n",
      "\u001b[0;32m~/Myopt/miniconda3/envs/MolSysMT/lib/python3.7/site-packages/pint/util.py\u001b[0m in \u001b[0;36mfrom_string\u001b[0;34m(cls, input_string, non_int_type)\u001b[0m\n\u001b[1;32m    622\u001b[0m         \u001b[0mgen\u001b[0m \u001b[0;34m=\u001b[0m \u001b[0mtokenizer\u001b[0m\u001b[0;34m(\u001b[0m\u001b[0minput_string\u001b[0m\u001b[0;34m)\u001b[0m\u001b[0;34m\u001b[0m\u001b[0;34m\u001b[0m\u001b[0m\n\u001b[1;32m    623\u001b[0m         ret = build_eval_tree(gen).evaluate(\n\u001b[0;32m--> 624\u001b[0;31m             \u001b[0mpartial\u001b[0m\u001b[0;34m(\u001b[0m\u001b[0mcls\u001b[0m\u001b[0;34m.\u001b[0m\u001b[0meval_token\u001b[0m\u001b[0;34m,\u001b[0m \u001b[0mnon_int_type\u001b[0m\u001b[0;34m=\u001b[0m\u001b[0mnon_int_type\u001b[0m\u001b[0;34m)\u001b[0m\u001b[0;34m\u001b[0m\u001b[0;34m\u001b[0m\u001b[0m\n\u001b[0m\u001b[1;32m    625\u001b[0m         )\n\u001b[1;32m    626\u001b[0m \u001b[0;34m\u001b[0m\u001b[0m\n",
      "\u001b[0;32m~/Myopt/miniconda3/envs/MolSysMT/lib/python3.7/site-packages/pint/pint_eval.py\u001b[0m in \u001b[0;36mevaluate\u001b[0;34m(self, define_op, bin_op, un_op)\u001b[0m\n\u001b[1;32m    107\u001b[0m                 \u001b[0;32mraise\u001b[0m \u001b[0mDefinitionSyntaxError\u001b[0m\u001b[0;34m(\u001b[0m\u001b[0;34m'missing binary operator \"%s\"'\u001b[0m \u001b[0;34m%\u001b[0m \u001b[0mop_text\u001b[0m\u001b[0;34m)\u001b[0m\u001b[0;34m\u001b[0m\u001b[0;34m\u001b[0m\u001b[0m\n\u001b[1;32m    108\u001b[0m             \u001b[0mleft\u001b[0m \u001b[0;34m=\u001b[0m \u001b[0mself\u001b[0m\u001b[0;34m.\u001b[0m\u001b[0mleft\u001b[0m\u001b[0;34m.\u001b[0m\u001b[0mevaluate\u001b[0m\u001b[0;34m(\u001b[0m\u001b[0mdefine_op\u001b[0m\u001b[0;34m,\u001b[0m \u001b[0mbin_op\u001b[0m\u001b[0;34m,\u001b[0m \u001b[0mun_op\u001b[0m\u001b[0;34m)\u001b[0m\u001b[0;34m\u001b[0m\u001b[0;34m\u001b[0m\u001b[0m\n\u001b[0;32m--> 109\u001b[0;31m             \u001b[0;32mreturn\u001b[0m \u001b[0mbin_op\u001b[0m\u001b[0;34m[\u001b[0m\u001b[0mop_text\u001b[0m\u001b[0;34m]\u001b[0m\u001b[0;34m(\u001b[0m\u001b[0mleft\u001b[0m\u001b[0;34m,\u001b[0m \u001b[0mself\u001b[0m\u001b[0;34m.\u001b[0m\u001b[0mright\u001b[0m\u001b[0;34m.\u001b[0m\u001b[0mevaluate\u001b[0m\u001b[0;34m(\u001b[0m\u001b[0mdefine_op\u001b[0m\u001b[0;34m,\u001b[0m \u001b[0mbin_op\u001b[0m\u001b[0;34m,\u001b[0m \u001b[0mun_op\u001b[0m\u001b[0;34m)\u001b[0m\u001b[0;34m)\u001b[0m\u001b[0;34m\u001b[0m\u001b[0;34m\u001b[0m\u001b[0m\n\u001b[0m\u001b[1;32m    110\u001b[0m         \u001b[0;32melif\u001b[0m \u001b[0mself\u001b[0m\u001b[0;34m.\u001b[0m\u001b[0moperator\u001b[0m\u001b[0;34m:\u001b[0m\u001b[0;34m\u001b[0m\u001b[0;34m\u001b[0m\u001b[0m\n\u001b[1;32m    111\u001b[0m             \u001b[0;31m# unary operator\u001b[0m\u001b[0;34m\u001b[0m\u001b[0;34m\u001b[0m\u001b[0;34m\u001b[0m\u001b[0m\n",
      "\u001b[0;31mTypeError\u001b[0m: unsupported operand type(s) for -: 'ParserHelper' and 'ParserHelper'"
     ]
    }
   ],
   "source": [
    "msm.puw.convert(box, to_form='openmm.unit')"
   ]
  },
  {
   "cell_type": "code",
   "execution_count": null,
   "id": "20ccb373-9171-4f79-9e18-a90e5156decc",
   "metadata": {},
   "outputs": [],
   "source": []
  },
  {
   "cell_type": "code",
   "execution_count": 11,
   "id": "b570a0df-6ff1-4727-b1c7-c5b9f4b0f770",
   "metadata": {},
   "outputs": [
    {
     "name": "stdout",
     "output_type": "stream",
     "text": [
      "[[[20.724999999999998 0.0 0.0]  [9.999999999999998e-08 4.3860000999999995 0.0]  [-2.5839137 9.999999999999998e-08 8.0672938]]] nanometer\n"
     ]
    },
    {
     "ename": "NotImplementedConversionError",
     "evalue": "The conversion from molsysmt.MolSys to string:pdb_text in \"convert\" has not been implemented yet. Check  for more information. Write a new issue in https://github.com/uibcdf/MolSysMT/issues asking for its implementation.",
     "output_type": "error",
     "traceback": [
      "\u001b[0;31m---------------------------------------------------------------------------\u001b[0m",
      "\u001b[0;31mTypeError\u001b[0m                                 Traceback (most recent call last)",
      "\u001b[0;32m~/projects/MolSysMT/molsysmt/basic/convert.py\u001b[0m in \u001b[0;36mconvert\u001b[0;34m(molecular_system, to_form, selection, structure_indices, syntaxis, check, **kwargs)\u001b[0m\n\u001b[1;32m    121\u001b[0m         tmp_item = dict_convert[from_form][to_form](item, molecular_system=molecular_system, atom_indices=atom_indices, structure_indices=structure_indices,\n\u001b[0;32m--> 122\u001b[0;31m                                                        **conversion_arguments, **kwargs)\n\u001b[0m\u001b[1;32m    123\u001b[0m     \u001b[0;32mexcept\u001b[0m\u001b[0;34m:\u001b[0m\u001b[0;34m\u001b[0m\u001b[0;34m\u001b[0m\u001b[0m\n",
      "\u001b[0;32m~/projects/MolSysMT/molsysmt/api_forms/api_molsysmt_MolSys.py\u001b[0m in \u001b[0;36mto_string_pdb_text\u001b[0;34m(item, molecular_system, atom_indices, structure_indices)\u001b[0m\n\u001b[1;32m    198\u001b[0m \u001b[0;34m\u001b[0m\u001b[0m\n\u001b[0;32m--> 199\u001b[0;31m     \u001b[0mtmp_item\u001b[0m \u001b[0;34m=\u001b[0m \u001b[0mmolsysmt_MolSys_to_string_pdb_text\u001b[0m\u001b[0;34m(\u001b[0m\u001b[0mitem\u001b[0m\u001b[0;34m,\u001b[0m \u001b[0matom_indices\u001b[0m\u001b[0;34m=\u001b[0m\u001b[0matom_indices\u001b[0m\u001b[0;34m,\u001b[0m \u001b[0mstructure_indices\u001b[0m\u001b[0;34m=\u001b[0m\u001b[0mstructure_indices\u001b[0m\u001b[0;34m,\u001b[0m \u001b[0mcheck\u001b[0m\u001b[0;34m=\u001b[0m\u001b[0;32mFalse\u001b[0m\u001b[0;34m)\u001b[0m\u001b[0;34m\u001b[0m\u001b[0;34m\u001b[0m\u001b[0m\n\u001b[0m\u001b[1;32m    200\u001b[0m \u001b[0;34m\u001b[0m\u001b[0m\n",
      "\u001b[0;32m~/projects/MolSysMT/molsysmt/tools/molsysmt_MolSys/to_string_pdb_text.py\u001b[0m in \u001b[0;36mto_string_pdb_text\u001b[0;34m(item, atom_indices, structure_indices, check)\u001b[0m\n\u001b[1;32m     28\u001b[0m \u001b[0;34m\u001b[0m\u001b[0m\n\u001b[0;32m---> 29\u001b[0;31m     \u001b[0mtmp_item\u001b[0m \u001b[0;34m=\u001b[0m \u001b[0mmolsysmt_MolSys_to_openmm_Topology\u001b[0m\u001b[0;34m(\u001b[0m\u001b[0mitem\u001b[0m\u001b[0;34m,\u001b[0m \u001b[0matom_indices\u001b[0m\u001b[0;34m=\u001b[0m\u001b[0matom_indices\u001b[0m\u001b[0;34m,\u001b[0m \u001b[0mstructure_indices\u001b[0m\u001b[0;34m=\u001b[0m\u001b[0mstructure_indices\u001b[0m\u001b[0;34m,\u001b[0m \u001b[0mcheck\u001b[0m\u001b[0;34m=\u001b[0m\u001b[0;32mFalse\u001b[0m\u001b[0;34m)\u001b[0m\u001b[0;34m\u001b[0m\u001b[0;34m\u001b[0m\u001b[0m\n\u001b[0m\u001b[1;32m     30\u001b[0m     \u001b[0mcoordinates\u001b[0m \u001b[0;34m=\u001b[0m \u001b[0mget_coordinates_from_atom\u001b[0m\u001b[0;34m(\u001b[0m\u001b[0mitem\u001b[0m\u001b[0;34m,\u001b[0m \u001b[0matom_indices\u001b[0m\u001b[0;34m=\u001b[0m\u001b[0matom_indices\u001b[0m\u001b[0;34m,\u001b[0m \u001b[0mstructure_indices\u001b[0m\u001b[0;34m=\u001b[0m\u001b[0mstructure_indices\u001b[0m\u001b[0;34m,\u001b[0m \u001b[0mcheck\u001b[0m\u001b[0;34m=\u001b[0m\u001b[0;32mFalse\u001b[0m\u001b[0;34m)\u001b[0m\u001b[0;34m\u001b[0m\u001b[0;34m\u001b[0m\u001b[0m\n",
      "\u001b[0;32m~/projects/MolSysMT/molsysmt/tools/molsysmt_MolSys/to_openmm_Topology.py\u001b[0m in \u001b[0;36mto_openmm_Topology\u001b[0;34m(item, atom_indices, structure_indices, check)\u001b[0m\n\u001b[1;32m     31\u001b[0m     \u001b[0mbox\u001b[0m \u001b[0;34m=\u001b[0m \u001b[0mget_box_from_system\u001b[0m\u001b[0;34m(\u001b[0m\u001b[0mitem\u001b[0m\u001b[0;34m,\u001b[0m \u001b[0mstructure_indices\u001b[0m\u001b[0;34m=\u001b[0m\u001b[0mstructure_indices\u001b[0m\u001b[0;34m,\u001b[0m \u001b[0mcheck\u001b[0m\u001b[0;34m=\u001b[0m\u001b[0;32mFalse\u001b[0m\u001b[0;34m)\u001b[0m\u001b[0;34m\u001b[0m\u001b[0;34m\u001b[0m\u001b[0m\n\u001b[0;32m---> 32\u001b[0;31m     \u001b[0mtmp_item\u001b[0m \u001b[0;34m=\u001b[0m \u001b[0mmolsysmt_Topology_to_openmm_Topology\u001b[0m\u001b[0;34m(\u001b[0m\u001b[0mtmp_item\u001b[0m\u001b[0;34m,\u001b[0m \u001b[0mbox\u001b[0m\u001b[0;34m=\u001b[0m\u001b[0mbox\u001b[0m\u001b[0;34m,\u001b[0m \u001b[0matom_indices\u001b[0m\u001b[0;34m=\u001b[0m\u001b[0matom_indices\u001b[0m\u001b[0;34m,\u001b[0m \u001b[0mcheck\u001b[0m\u001b[0;34m=\u001b[0m\u001b[0;32mFalse\u001b[0m\u001b[0;34m)\u001b[0m\u001b[0;34m\u001b[0m\u001b[0;34m\u001b[0m\u001b[0m\n\u001b[0m\u001b[1;32m     33\u001b[0m \u001b[0;34m\u001b[0m\u001b[0m\n",
      "\u001b[0;32m~/projects/MolSysMT/molsysmt/tools/molsysmt_Topology/to_openmm_Topology.py\u001b[0m in \u001b[0;36mto_openmm_Topology\u001b[0;34m(item, box, atom_indices, check)\u001b[0m\n\u001b[1;32m     80\u001b[0m \u001b[0;34m\u001b[0m\u001b[0m\n\u001b[0;32m---> 81\u001b[0;31m         \u001b[0mset_box_to_system\u001b[0m\u001b[0;34m(\u001b[0m\u001b[0mtmp_item\u001b[0m\u001b[0;34m,\u001b[0m \u001b[0mvalue\u001b[0m\u001b[0;34m=\u001b[0m\u001b[0mbox\u001b[0m\u001b[0;34m,\u001b[0m \u001b[0mcheck\u001b[0m\u001b[0;34m=\u001b[0m\u001b[0;32mFalse\u001b[0m\u001b[0;34m)\u001b[0m\u001b[0;34m\u001b[0m\u001b[0;34m\u001b[0m\u001b[0m\n\u001b[0m\u001b[1;32m     82\u001b[0m \u001b[0;34m\u001b[0m\u001b[0m\n",
      "\u001b[0;32m~/projects/MolSysMT/molsysmt/tools/openmm_Topology/set.py\u001b[0m in \u001b[0;36mset_box_to_system\u001b[0;34m(item, structure_indices, value, check)\u001b[0m\n\u001b[1;32m     31\u001b[0m \u001b[0;34m\u001b[0m\u001b[0m\n\u001b[0;32m---> 32\u001b[0;31m     \u001b[0mbox\u001b[0m \u001b[0;34m=\u001b[0m \u001b[0mpuw\u001b[0m\u001b[0;34m.\u001b[0m\u001b[0mconvert\u001b[0m\u001b[0;34m(\u001b[0m\u001b[0mvalue\u001b[0m\u001b[0;34m,\u001b[0m \u001b[0mto_unit\u001b[0m\u001b[0;34m=\u001b[0m\u001b[0;34m'nanometers'\u001b[0m\u001b[0;34m,\u001b[0m \u001b[0mto_form\u001b[0m\u001b[0;34m=\u001b[0m\u001b[0;34m'openmm.unit'\u001b[0m\u001b[0;34m)\u001b[0m\u001b[0;34m\u001b[0m\u001b[0;34m\u001b[0m\u001b[0m\n\u001b[0m\u001b[1;32m     33\u001b[0m \u001b[0;34m\u001b[0m\u001b[0m\n",
      "\u001b[0;32m~/Myopt/miniconda3/envs/MolSysMT/lib/python3.7/site-packages/pyunitwizard/main.py\u001b[0m in \u001b[0;36mconvert\u001b[0;34m(quantity_or_unit, to_unit, to_form, parser, to_type)\u001b[0m\n\u001b[1;32m    265\u001b[0m             \u001b[0;32melse\u001b[0m\u001b[0;34m:\u001b[0m\u001b[0;34m\u001b[0m\u001b[0;34m\u001b[0m\u001b[0m\n\u001b[0;32m--> 266\u001b[0;31m                 \u001b[0moutput\u001b[0m \u001b[0;34m=\u001b[0m \u001b[0mdict_translate\u001b[0m\u001b[0;34m[\u001b[0m\u001b[0mform_in\u001b[0m\u001b[0;34m]\u001b[0m\u001b[0;34m[\u001b[0m\u001b[0mto_form\u001b[0m\u001b[0;34m]\u001b[0m\u001b[0;34m(\u001b[0m\u001b[0mquantity_or_unit\u001b[0m\u001b[0;34m)\u001b[0m\u001b[0;34m\u001b[0m\u001b[0;34m\u001b[0m\u001b[0m\n\u001b[0m\u001b[1;32m    267\u001b[0m \u001b[0;34m\u001b[0m\u001b[0m\n",
      "\u001b[0;32m~/Myopt/miniconda3/envs/MolSysMT/lib/python3.7/site-packages/pyunitwizard/forms/api_pint.py\u001b[0m in \u001b[0;36mto_openmm_unit\u001b[0;34m(quantity)\u001b[0m\n\u001b[1;32m    104\u001b[0m \u001b[0;34m\u001b[0m\u001b[0m\n\u001b[0;32m--> 105\u001b[0;31m     \u001b[0mpint_parser\u001b[0m \u001b[0;34m=\u001b[0m \u001b[0mPintParserHelper\u001b[0m\u001b[0;34m.\u001b[0m\u001b[0mfrom_string\u001b[0m\u001b[0;34m(\u001b[0m\u001b[0mquantity\u001b[0m\u001b[0;34m.\u001b[0m\u001b[0m__str__\u001b[0m\u001b[0;34m(\u001b[0m\u001b[0;34m)\u001b[0m\u001b[0;34m)\u001b[0m\u001b[0;34m\u001b[0m\u001b[0;34m\u001b[0m\u001b[0m\n\u001b[0m\u001b[1;32m    106\u001b[0m     \u001b[0mtmp_quantity\u001b[0m \u001b[0;34m=\u001b[0m \u001b[0mpint_parser\u001b[0m\u001b[0;34m.\u001b[0m\u001b[0mscale\u001b[0m\u001b[0;34m\u001b[0m\u001b[0;34m\u001b[0m\u001b[0m\n",
      "\u001b[0;32m~/Myopt/miniconda3/envs/MolSysMT/lib/python3.7/site-packages/pint/util.py\u001b[0m in \u001b[0;36mfrom_string\u001b[0;34m(cls, input_string, non_int_type)\u001b[0m\n\u001b[1;32m    623\u001b[0m         ret = build_eval_tree(gen).evaluate(\n\u001b[0;32m--> 624\u001b[0;31m             \u001b[0mpartial\u001b[0m\u001b[0;34m(\u001b[0m\u001b[0mcls\u001b[0m\u001b[0;34m.\u001b[0m\u001b[0meval_token\u001b[0m\u001b[0;34m,\u001b[0m \u001b[0mnon_int_type\u001b[0m\u001b[0;34m=\u001b[0m\u001b[0mnon_int_type\u001b[0m\u001b[0;34m)\u001b[0m\u001b[0;34m\u001b[0m\u001b[0;34m\u001b[0m\u001b[0m\n\u001b[0m\u001b[1;32m    625\u001b[0m         )\n",
      "\u001b[0;32m~/Myopt/miniconda3/envs/MolSysMT/lib/python3.7/site-packages/pint/pint_eval.py\u001b[0m in \u001b[0;36mevaluate\u001b[0;34m(self, define_op, bin_op, un_op)\u001b[0m\n\u001b[1;32m    108\u001b[0m             \u001b[0mleft\u001b[0m \u001b[0;34m=\u001b[0m \u001b[0mself\u001b[0m\u001b[0;34m.\u001b[0m\u001b[0mleft\u001b[0m\u001b[0;34m.\u001b[0m\u001b[0mevaluate\u001b[0m\u001b[0;34m(\u001b[0m\u001b[0mdefine_op\u001b[0m\u001b[0;34m,\u001b[0m \u001b[0mbin_op\u001b[0m\u001b[0;34m,\u001b[0m \u001b[0mun_op\u001b[0m\u001b[0;34m)\u001b[0m\u001b[0;34m\u001b[0m\u001b[0;34m\u001b[0m\u001b[0m\n\u001b[0;32m--> 109\u001b[0;31m             \u001b[0;32mreturn\u001b[0m \u001b[0mbin_op\u001b[0m\u001b[0;34m[\u001b[0m\u001b[0mop_text\u001b[0m\u001b[0;34m]\u001b[0m\u001b[0;34m(\u001b[0m\u001b[0mleft\u001b[0m\u001b[0;34m,\u001b[0m \u001b[0mself\u001b[0m\u001b[0;34m.\u001b[0m\u001b[0mright\u001b[0m\u001b[0;34m.\u001b[0m\u001b[0mevaluate\u001b[0m\u001b[0;34m(\u001b[0m\u001b[0mdefine_op\u001b[0m\u001b[0;34m,\u001b[0m \u001b[0mbin_op\u001b[0m\u001b[0;34m,\u001b[0m \u001b[0mun_op\u001b[0m\u001b[0;34m)\u001b[0m\u001b[0;34m)\u001b[0m\u001b[0;34m\u001b[0m\u001b[0;34m\u001b[0m\u001b[0m\n\u001b[0m\u001b[1;32m    110\u001b[0m         \u001b[0;32melif\u001b[0m \u001b[0mself\u001b[0m\u001b[0;34m.\u001b[0m\u001b[0moperator\u001b[0m\u001b[0;34m:\u001b[0m\u001b[0;34m\u001b[0m\u001b[0;34m\u001b[0m\u001b[0m\n",
      "\u001b[0;31mTypeError\u001b[0m: unsupported operand type(s) for -: 'ParserHelper' and 'ParserHelper'",
      "\nDuring handling of the above exception, another exception occurred:\n",
      "\u001b[0;31mNotImplementedConversionError\u001b[0m             Traceback (most recent call last)",
      "\u001b[0;32m/tmp/ipykernel_3129361/1355966954.py\u001b[0m in \u001b[0;36m<module>\u001b[0;34m\u001b[0m\n\u001b[0;32m----> 1\u001b[0;31m \u001b[0mmsm\u001b[0m\u001b[0;34m.\u001b[0m\u001b[0mbasic\u001b[0m\u001b[0;34m.\u001b[0m\u001b[0mconvert\u001b[0m\u001b[0;34m(\u001b[0m\u001b[0mmolsys\u001b[0m\u001b[0;34m,\u001b[0m \u001b[0mto_form\u001b[0m\u001b[0;34m=\u001b[0m\u001b[0;34m'string:pdb_text'\u001b[0m\u001b[0;34m)\u001b[0m\u001b[0;34m\u001b[0m\u001b[0;34m\u001b[0m\u001b[0m\n\u001b[0m",
      "\u001b[0;32m~/projects/MolSysMT/molsysmt/basic/convert.py\u001b[0m in \u001b[0;36mconvert\u001b[0;34m(molecular_system, to_form, selection, structure_indices, syntaxis, check, **kwargs)\u001b[0m\n\u001b[1;32m    122\u001b[0m                                                        **conversion_arguments, **kwargs)\n\u001b[1;32m    123\u001b[0m     \u001b[0;32mexcept\u001b[0m\u001b[0;34m:\u001b[0m\u001b[0;34m\u001b[0m\u001b[0;34m\u001b[0m\u001b[0m\n\u001b[0;32m--> 124\u001b[0;31m         \u001b[0;32mraise\u001b[0m \u001b[0mNotImplementedConversionError\u001b[0m\u001b[0;34m(\u001b[0m\u001b[0mfrom_form\u001b[0m\u001b[0;34m,\u001b[0m \u001b[0mto_form\u001b[0m\u001b[0;34m)\u001b[0m\u001b[0;34m\u001b[0m\u001b[0;34m\u001b[0m\u001b[0m\n\u001b[0m\u001b[1;32m    125\u001b[0m \u001b[0;34m\u001b[0m\u001b[0m\n\u001b[1;32m    126\u001b[0m     \u001b[0mtmp_item\u001b[0m \u001b[0;34m=\u001b[0m \u001b[0mdigest_output\u001b[0m\u001b[0;34m(\u001b[0m\u001b[0mtmp_item\u001b[0m\u001b[0;34m)\u001b[0m\u001b[0;34m\u001b[0m\u001b[0;34m\u001b[0m\u001b[0m\n",
      "\u001b[0;31mNotImplementedConversionError\u001b[0m: The conversion from molsysmt.MolSys to string:pdb_text in \"convert\" has not been implemented yet. Check  for more information. Write a new issue in https://github.com/uibcdf/MolSysMT/issues asking for its implementation."
     ]
    }
   ],
   "source": [
    "msm.basic.convert(molsys, to_form='string:pdb_text')"
   ]
  },
  {
   "cell_type": "code",
   "execution_count": null,
   "id": "db74b40c-fd88-4bd6-a32d-e6a8393725af",
   "metadata": {},
   "outputs": [],
   "source": [
    "missing_atoms = msm.build.get_missing_heavy_atoms(molsys)"
   ]
  },
  {
   "cell_type": "code",
   "execution_count": null,
   "id": "18ecac9b-a55c-4a65-a272-8da356e5f1b2",
   "metadata": {},
   "outputs": [],
   "source": [
    "missing_atoms"
   ]
  },
  {
   "cell_type": "code",
   "execution_count": null,
   "id": "225c3b9d-7f12-43c8-ad4a-5c2b2af766d3",
   "metadata": {},
   "outputs": [],
   "source": [
    "missing_atoms.keys()"
   ]
  },
  {
   "cell_type": "code",
   "execution_count": null,
   "id": "19c54549-5999-4f7a-a28b-a3796c7a360e",
   "metadata": {},
   "outputs": [],
   "source": [
    "msm.info(molecular_system, target='group', indices=missing_atoms)"
   ]
  },
  {
   "cell_type": "code",
   "execution_count": null,
   "id": "0fb80b1d-0903-4d85-aa39-7f0e833a4460",
   "metadata": {},
   "outputs": [],
   "source": [
    "msm.get(molecular_system, target='component', n_groups=True, chain_name=True)"
   ]
  },
  {
   "cell_type": "code",
   "execution_count": null,
   "id": "df420ee8-386c-406d-a391-2dcc8982f86e",
   "metadata": {},
   "outputs": [],
   "source": [
    "molecular_system = msm.build.add_missing_heavy_atoms(molecular_system)"
   ]
  },
  {
   "cell_type": "code",
   "execution_count": null,
   "id": "21f1d028-b04d-45cf-9cdf-a36e27b4a1a5",
   "metadata": {},
   "outputs": [],
   "source": [
    "msm.get(molecular_system, target='component', n_groups=True, chain_name=True)"
   ]
  },
  {
   "cell_type": "code",
   "execution_count": null,
   "id": "e9d7d8d9-5ca8-4b7f-bcbf-4c9661e2eed6",
   "metadata": {},
   "outputs": [],
   "source": [
    "msm.info(molecular_system, target='component')"
   ]
  },
  {
   "cell_type": "code",
   "execution_count": null,
   "id": "bb47a3fa-9de0-4843-b3c2-63d149329369",
   "metadata": {},
   "outputs": [],
   "source": [
    "msm.info(molecular_system, target='atom', selection='component_index==4')"
   ]
  },
  {
   "cell_type": "code",
   "execution_count": null,
   "id": "b8d7c084-710b-481c-a3ef-a9085c4f53f9",
   "metadata": {},
   "outputs": [],
   "source": [
    "msm.info(molecular_system, target='atom', selection='component_index==5')"
   ]
  },
  {
   "cell_type": "code",
   "execution_count": null,
   "id": "c3bc2560-1b58-4af2-b620-adfbcf66aa68",
   "metadata": {},
   "outputs": [],
   "source": [
    "msm.view(molecular_system)"
   ]
  },
  {
   "cell_type": "code",
   "execution_count": null,
   "id": "227dfc02-e42a-4cfc-bece-f4f8bbc1dab4",
   "metadata": {},
   "outputs": [],
   "source": [
    "molecular_system_A_D = msm.extract(molecular_system, selection='chain_name==[\"A\",\"D\"]')\n",
    "molecular_system_B_E = msm.extract(molecular_system, selection='chain_name==[\"B\",\"E\"]')\n",
    "molecular_system_C_F = msm.extract(molecular_system, selection='chain_name==[\"C\",\"F\"]')"
   ]
  },
  {
   "cell_type": "code",
   "execution_count": null,
   "id": "6be906f1-a311-4a0a-b2a9-35efb556ad06",
   "metadata": {},
   "outputs": [],
   "source": [
    "molecular_system_B_E_over_A_D = msm.structure.align(molecular_system_B_E, reference_molecular_system=molecular_system_A_D)"
   ]
  },
  {
   "cell_type": "code",
   "execution_count": null,
   "id": "b46ee905-3723-4f26-8ef6-cdfeb994f2b5",
   "metadata": {},
   "outputs": [],
   "source": [
    "msm.view([molecular_system_A_D, molecular_system_B_E_over_A_D])"
   ]
  },
  {
   "cell_type": "code",
   "execution_count": null,
   "id": "f77e3a68-ce9e-4ee4-ab52-9953e4a75dc2",
   "metadata": {},
   "outputs": [],
   "source": [
    "aa, bb, cc = msm.topology.get_sequence_identity(molecular_system_C_F, selection='all', reference_molecular_system=molecular_system_A_D,\n",
    "                                  reference_selection='all')"
   ]
  },
  {
   "cell_type": "code",
   "execution_count": null,
   "id": "7d2cb8dc-2a7d-4756-84e2-e8facf263f5c",
   "metadata": {},
   "outputs": [],
   "source": [
    "len(bb)"
   ]
  },
  {
   "cell_type": "code",
   "execution_count": null,
   "id": "43ea6c77-75eb-46ba-a7d3-af5ab9d52e57",
   "metadata": {},
   "outputs": [],
   "source": [
    "len(cc)"
   ]
  },
  {
   "cell_type": "code",
   "execution_count": null,
   "id": "32f41973-d3c0-4daf-889a-5664f773bca8",
   "metadata": {},
   "outputs": [],
   "source": [
    "for res_bb, res_cc in zip(bb,cc):\n",
    "    back_bb = msm.select(molecular_system_C_F, selection='backbone and group_index==@res_bb')\n",
    "    back_cc = msm.select(molecular_system_A_D, selection='backbone and group_index==@res_cc')\n",
    "    if len(back_bb)!=len(back_cc):\n",
    "        print(msm.info(molecular_system_C_F, target='atom', indices=back_bb, output='long_string'))\n",
    "        print(msm.info(molecular_system_A_D, target='atom', indices=back_cc, output='long_string'))"
   ]
  },
  {
   "cell_type": "code",
   "execution_count": null,
   "id": "229410d9-bfe4-4261-b3df-ab0fddedb1ae",
   "metadata": {},
   "outputs": [],
   "source": [
    "molecular_system_C_F_over_A_D = msm.structure.align(molecular_system_C_F, reference_molecular_system=molecular_system_A_D)"
   ]
  },
  {
   "cell_type": "code",
   "execution_count": null,
   "id": "968c5aa4-b0b4-49f0-b1f4-69236fefbd99",
   "metadata": {},
   "outputs": [],
   "source": []
  }
 ],
 "metadata": {
  "kernelspec": {
   "display_name": "Python 3 (ipykernel)",
   "language": "python",
   "name": "python3"
  },
  "language_info": {
   "codemirror_mode": {
    "name": "ipython",
    "version": 3
   },
   "file_extension": ".py",
   "mimetype": "text/x-python",
   "name": "python",
   "nbconvert_exporter": "python",
   "pygments_lexer": "ipython3",
   "version": "3.7.12"
  }
 },
 "nbformat": 4,
 "nbformat_minor": 5
}
