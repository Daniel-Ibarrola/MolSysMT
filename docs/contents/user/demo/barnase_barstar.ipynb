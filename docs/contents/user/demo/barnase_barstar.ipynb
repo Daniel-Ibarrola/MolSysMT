{
 "cells": [
  {
   "cell_type": "code",
   "execution_count": 1,
   "id": "7884fe0a-9320-4a4e-b5b7-d7b14d5f5c22",
   "metadata": {},
   "outputs": [],
   "source": [
    "%load_ext autoreload\n",
    "%autoreload 2"
   ]
  },
  {
   "cell_type": "markdown",
   "id": "d89a220f-10b3-4525-9762-dd5b6a94b3d0",
   "metadata": {},
   "source": [
    "# Barnase-Barstar complex"
   ]
  },
  {
   "cell_type": "code",
   "execution_count": 2,
   "id": "1bb1e5a4-14f2-494c-8b76-31b77bd01bcc",
   "metadata": {},
   "outputs": [
    {
     "data": {
      "application/vnd.jupyter.widget-view+json": {
       "model_id": "470d72b481804718949bad6e371cd3be",
       "version_major": 2,
       "version_minor": 0
      },
      "text/plain": []
     },
     "metadata": {},
     "output_type": "display_data"
    }
   ],
   "source": [
    "import molsysmt as msm"
   ]
  },
  {
   "cell_type": "code",
   "execution_count": 3,
   "id": "2cb0045a-a659-464b-a05f-f1f9dd9efa1c",
   "metadata": {},
   "outputs": [
    {
     "data": {
      "text/plain": [
       "'string:pdb_id'"
      ]
     },
     "execution_count": 3,
     "metadata": {},
     "output_type": "execute_result"
    }
   ],
   "source": [
    "msm.get_form('1BRS')"
   ]
  },
  {
   "cell_type": "code",
   "execution_count": 4,
   "id": "fb2e2194-2c0e-4790-b223-333e865bd03a",
   "metadata": {},
   "outputs": [
    {
     "name": "stderr",
     "output_type": "stream",
     "text": [
      "/home/diego/projects/MolSysMT/molsysmt/tools/mmtf_MMTFDecoder/to_molsysmt_Topology.py:30: UserWarning: The structure in the PDB has biological assemblies. There are geometrical transformations proposed in the structure. See the following issue in the source code repository: https://github.com/uibcdf/MolSysMT/issues/33\n",
      "  warnings.warn(warning_message)\n",
      "/home/diego/projects/MolSysMT/molsysmt/tools/mmtf_MMTFDecoder/to_molsysmt_Topology.py:44: UserWarning: The bioassembly has a different number of chains than the total amount of chains\n",
      "  warnings.warn(warning_message)\n"
     ]
    }
   ],
   "source": [
    "molsys = msm.convert('1BRS')"
   ]
  },
  {
   "cell_type": "code",
   "execution_count": 5,
   "id": "0915c348-1371-480a-bb32-bd3a5e96371b",
   "metadata": {},
   "outputs": [
    {
     "data": {
      "text/html": [
       "<style type=\"text/css\">\n",
       "</style>\n",
       "<table id=\"T_3cf5f_\">\n",
       "  <thead>\n",
       "    <tr>\n",
       "      <th class=\"col_heading level0 col0\" >form</th>\n",
       "      <th class=\"col_heading level0 col1\" >n_atoms</th>\n",
       "      <th class=\"col_heading level0 col2\" >n_groups</th>\n",
       "      <th class=\"col_heading level0 col3\" >n_components</th>\n",
       "      <th class=\"col_heading level0 col4\" >n_chains</th>\n",
       "      <th class=\"col_heading level0 col5\" >n_molecules</th>\n",
       "      <th class=\"col_heading level0 col6\" >n_entities</th>\n",
       "      <th class=\"col_heading level0 col7\" >n_waters</th>\n",
       "      <th class=\"col_heading level0 col8\" >n_proteins</th>\n",
       "      <th class=\"col_heading level0 col9\" >n_structures</th>\n",
       "    </tr>\n",
       "  </thead>\n",
       "  <tbody>\n",
       "    <tr>\n",
       "      <td id=\"T_3cf5f_row0_col0\" class=\"data row0 col0\" >molsysmt.MolSys</td>\n",
       "      <td id=\"T_3cf5f_row0_col1\" class=\"data row0 col1\" >5153</td>\n",
       "      <td id=\"T_3cf5f_row0_col2\" class=\"data row0 col2\" >1101</td>\n",
       "      <td id=\"T_3cf5f_row0_col3\" class=\"data row0 col3\" >521</td>\n",
       "      <td id=\"T_3cf5f_row0_col4\" class=\"data row0 col4\" >12</td>\n",
       "      <td id=\"T_3cf5f_row0_col5\" class=\"data row0 col5\" >519</td>\n",
       "      <td id=\"T_3cf5f_row0_col6\" class=\"data row0 col6\" >3</td>\n",
       "      <td id=\"T_3cf5f_row0_col7\" class=\"data row0 col7\" >513</td>\n",
       "      <td id=\"T_3cf5f_row0_col8\" class=\"data row0 col8\" >6</td>\n",
       "      <td id=\"T_3cf5f_row0_col9\" class=\"data row0 col9\" >1</td>\n",
       "    </tr>\n",
       "  </tbody>\n",
       "</table>\n"
      ],
      "text/plain": [
       "<pandas.io.formats.style.Styler at 0x7f68fa7aec50>"
      ]
     },
     "execution_count": 5,
     "metadata": {},
     "output_type": "execute_result"
    }
   ],
   "source": [
    "msm.info(molsys)"
   ]
  },
  {
   "cell_type": "code",
   "execution_count": 6,
   "id": "5cc39a53-96f3-4cc7-bd2f-389fb134cd28",
   "metadata": {},
   "outputs": [],
   "source": [
    "molsys = msm.build.remove_waters(molsys)"
   ]
  },
  {
   "cell_type": "code",
   "execution_count": 7,
   "id": "3ca39f5d-3c34-42dc-84d7-e40ac4384825",
   "metadata": {},
   "outputs": [
    {
     "data": {
      "text/html": [
       "<style type=\"text/css\">\n",
       "</style>\n",
       "<table id=\"T_c72f5_\">\n",
       "  <thead>\n",
       "    <tr>\n",
       "      <th class=\"col_heading level0 col0\" >index</th>\n",
       "      <th class=\"col_heading level0 col1\" >name</th>\n",
       "      <th class=\"col_heading level0 col2\" >type</th>\n",
       "      <th class=\"col_heading level0 col3\" >n atoms</th>\n",
       "      <th class=\"col_heading level0 col4\" >n groups</th>\n",
       "      <th class=\"col_heading level0 col5\" >n components</th>\n",
       "      <th class=\"col_heading level0 col6\" >chain index</th>\n",
       "      <th class=\"col_heading level0 col7\" >entity index</th>\n",
       "      <th class=\"col_heading level0 col8\" >entity name</th>\n",
       "    </tr>\n",
       "  </thead>\n",
       "  <tbody>\n",
       "    <tr>\n",
       "      <td id=\"T_c72f5_row0_col0\" class=\"data row0 col0\" >0</td>\n",
       "      <td id=\"T_c72f5_row0_col1\" class=\"data row0 col1\" >Barnase</td>\n",
       "      <td id=\"T_c72f5_row0_col2\" class=\"data row0 col2\" >protein</td>\n",
       "      <td id=\"T_c72f5_row0_col3\" class=\"data row0 col3\" >864</td>\n",
       "      <td id=\"T_c72f5_row0_col4\" class=\"data row0 col4\" >108</td>\n",
       "      <td id=\"T_c72f5_row0_col5\" class=\"data row0 col5\" >1</td>\n",
       "      <td id=\"T_c72f5_row0_col6\" class=\"data row0 col6\" >0</td>\n",
       "      <td id=\"T_c72f5_row0_col7\" class=\"data row0 col7\" >0</td>\n",
       "      <td id=\"T_c72f5_row0_col8\" class=\"data row0 col8\" >Barnase</td>\n",
       "    </tr>\n",
       "    <tr>\n",
       "      <td id=\"T_c72f5_row1_col0\" class=\"data row1 col0\" >1</td>\n",
       "      <td id=\"T_c72f5_row1_col1\" class=\"data row1 col1\" >Barnase</td>\n",
       "      <td id=\"T_c72f5_row1_col2\" class=\"data row1 col2\" >protein</td>\n",
       "      <td id=\"T_c72f5_row1_col3\" class=\"data row1 col3\" >878</td>\n",
       "      <td id=\"T_c72f5_row1_col4\" class=\"data row1 col4\" >110</td>\n",
       "      <td id=\"T_c72f5_row1_col5\" class=\"data row1 col5\" >1</td>\n",
       "      <td id=\"T_c72f5_row1_col6\" class=\"data row1 col6\" >1</td>\n",
       "      <td id=\"T_c72f5_row1_col7\" class=\"data row1 col7\" >0</td>\n",
       "      <td id=\"T_c72f5_row1_col8\" class=\"data row1 col8\" >Barnase</td>\n",
       "    </tr>\n",
       "    <tr>\n",
       "      <td id=\"T_c72f5_row2_col0\" class=\"data row2 col0\" >2</td>\n",
       "      <td id=\"T_c72f5_row2_col1\" class=\"data row2 col1\" >Barnase</td>\n",
       "      <td id=\"T_c72f5_row2_col2\" class=\"data row2 col2\" >protein</td>\n",
       "      <td id=\"T_c72f5_row2_col3\" class=\"data row2 col3\" >839</td>\n",
       "      <td id=\"T_c72f5_row2_col4\" class=\"data row2 col4\" >108</td>\n",
       "      <td id=\"T_c72f5_row2_col5\" class=\"data row2 col5\" >1</td>\n",
       "      <td id=\"T_c72f5_row2_col6\" class=\"data row2 col6\" >2</td>\n",
       "      <td id=\"T_c72f5_row2_col7\" class=\"data row2 col7\" >0</td>\n",
       "      <td id=\"T_c72f5_row2_col8\" class=\"data row2 col8\" >Barnase</td>\n",
       "    </tr>\n",
       "    <tr>\n",
       "      <td id=\"T_c72f5_row3_col0\" class=\"data row3 col0\" >3</td>\n",
       "      <td id=\"T_c72f5_row3_col1\" class=\"data row3 col1\" >Barstar</td>\n",
       "      <td id=\"T_c72f5_row3_col2\" class=\"data row3 col2\" >protein</td>\n",
       "      <td id=\"T_c72f5_row3_col3\" class=\"data row3 col3\" >695</td>\n",
       "      <td id=\"T_c72f5_row3_col4\" class=\"data row3 col4\" >87</td>\n",
       "      <td id=\"T_c72f5_row3_col5\" class=\"data row3 col5\" >2</td>\n",
       "      <td id=\"T_c72f5_row3_col6\" class=\"data row3 col6\" >3</td>\n",
       "      <td id=\"T_c72f5_row3_col7\" class=\"data row3 col7\" >1</td>\n",
       "      <td id=\"T_c72f5_row3_col8\" class=\"data row3 col8\" >Barstar</td>\n",
       "    </tr>\n",
       "    <tr>\n",
       "      <td id=\"T_c72f5_row4_col0\" class=\"data row4 col0\" >4</td>\n",
       "      <td id=\"T_c72f5_row4_col1\" class=\"data row4 col1\" >Barstar</td>\n",
       "      <td id=\"T_c72f5_row4_col2\" class=\"data row4 col2\" >protein</td>\n",
       "      <td id=\"T_c72f5_row4_col3\" class=\"data row4 col3\" >665</td>\n",
       "      <td id=\"T_c72f5_row4_col4\" class=\"data row4 col4\" >86</td>\n",
       "      <td id=\"T_c72f5_row4_col5\" class=\"data row4 col5\" >2</td>\n",
       "      <td id=\"T_c72f5_row4_col6\" class=\"data row4 col6\" >4</td>\n",
       "      <td id=\"T_c72f5_row4_col7\" class=\"data row4 col7\" >1</td>\n",
       "      <td id=\"T_c72f5_row4_col8\" class=\"data row4 col8\" >Barstar</td>\n",
       "    </tr>\n",
       "    <tr>\n",
       "      <td id=\"T_c72f5_row5_col0\" class=\"data row5 col0\" >5</td>\n",
       "      <td id=\"T_c72f5_row5_col1\" class=\"data row5 col1\" >Barstar</td>\n",
       "      <td id=\"T_c72f5_row5_col2\" class=\"data row5 col2\" >protein</td>\n",
       "      <td id=\"T_c72f5_row5_col3\" class=\"data row5 col3\" >699</td>\n",
       "      <td id=\"T_c72f5_row5_col4\" class=\"data row5 col4\" >89</td>\n",
       "      <td id=\"T_c72f5_row5_col5\" class=\"data row5 col5\" >1</td>\n",
       "      <td id=\"T_c72f5_row5_col6\" class=\"data row5 col6\" >5</td>\n",
       "      <td id=\"T_c72f5_row5_col7\" class=\"data row5 col7\" >1</td>\n",
       "      <td id=\"T_c72f5_row5_col8\" class=\"data row5 col8\" >Barstar</td>\n",
       "    </tr>\n",
       "  </tbody>\n",
       "</table>\n"
      ],
      "text/plain": [
       "<pandas.io.formats.style.Styler at 0x7f68fa7b18d0>"
      ]
     },
     "execution_count": 7,
     "metadata": {},
     "output_type": "execute_result"
    }
   ],
   "source": [
    "msm.info(molsys, target='molecules')"
   ]
  },
  {
   "cell_type": "code",
   "execution_count": 11,
   "id": "43afa8d5-fc95-4206-8842-9f96e89824f8",
   "metadata": {},
   "outputs": [
    {
     "data": {
      "text/plain": [
       "False"
      ]
     },
     "execution_count": 11,
     "metadata": {},
     "output_type": "execute_result"
    }
   ],
   "source": [
    "msm.build.has_hydrogens(molsys)"
   ]
  },
  {
   "cell_type": "code",
   "execution_count": 13,
   "id": "a673c164-1a44-4c87-8514-046d6ad3ca84",
   "metadata": {},
   "outputs": [
    {
     "data": {
      "text/html": [
       "<style type=\"text/css\">\n",
       "</style>\n",
       "<table id=\"T_88467_\">\n",
       "  <thead>\n",
       "    <tr>\n",
       "      <th class=\"col_heading level0 col0\" >index</th>\n",
       "      <th class=\"col_heading level0 col1\" >id</th>\n",
       "      <th class=\"col_heading level0 col2\" >name</th>\n",
       "      <th class=\"col_heading level0 col3\" >n atoms</th>\n",
       "      <th class=\"col_heading level0 col4\" >n groups</th>\n",
       "      <th class=\"col_heading level0 col5\" >n components</th>\n",
       "      <th class=\"col_heading level0 col6\" >molecule index</th>\n",
       "      <th class=\"col_heading level0 col7\" >molecule type</th>\n",
       "      <th class=\"col_heading level0 col8\" >entity index</th>\n",
       "      <th class=\"col_heading level0 col9\" >entity name</th>\n",
       "    </tr>\n",
       "  </thead>\n",
       "  <tbody>\n",
       "    <tr>\n",
       "      <td id=\"T_88467_row0_col0\" class=\"data row0 col0\" >0</td>\n",
       "      <td id=\"T_88467_row0_col1\" class=\"data row0 col1\" >A</td>\n",
       "      <td id=\"T_88467_row0_col2\" class=\"data row0 col2\" >A</td>\n",
       "      <td id=\"T_88467_row0_col3\" class=\"data row0 col3\" >864</td>\n",
       "      <td id=\"T_88467_row0_col4\" class=\"data row0 col4\" >108</td>\n",
       "      <td id=\"T_88467_row0_col5\" class=\"data row0 col5\" >1</td>\n",
       "      <td id=\"T_88467_row0_col6\" class=\"data row0 col6\" >0</td>\n",
       "      <td id=\"T_88467_row0_col7\" class=\"data row0 col7\" >protein</td>\n",
       "      <td id=\"T_88467_row0_col8\" class=\"data row0 col8\" >0</td>\n",
       "      <td id=\"T_88467_row0_col9\" class=\"data row0 col9\" >Barnase</td>\n",
       "    </tr>\n",
       "    <tr>\n",
       "      <td id=\"T_88467_row1_col0\" class=\"data row1 col0\" >1</td>\n",
       "      <td id=\"T_88467_row1_col1\" class=\"data row1 col1\" >B</td>\n",
       "      <td id=\"T_88467_row1_col2\" class=\"data row1 col2\" >B</td>\n",
       "      <td id=\"T_88467_row1_col3\" class=\"data row1 col3\" >878</td>\n",
       "      <td id=\"T_88467_row1_col4\" class=\"data row1 col4\" >110</td>\n",
       "      <td id=\"T_88467_row1_col5\" class=\"data row1 col5\" >1</td>\n",
       "      <td id=\"T_88467_row1_col6\" class=\"data row1 col6\" >1</td>\n",
       "      <td id=\"T_88467_row1_col7\" class=\"data row1 col7\" >protein</td>\n",
       "      <td id=\"T_88467_row1_col8\" class=\"data row1 col8\" >0</td>\n",
       "      <td id=\"T_88467_row1_col9\" class=\"data row1 col9\" >Barnase</td>\n",
       "    </tr>\n",
       "    <tr>\n",
       "      <td id=\"T_88467_row2_col0\" class=\"data row2 col0\" >2</td>\n",
       "      <td id=\"T_88467_row2_col1\" class=\"data row2 col1\" >C</td>\n",
       "      <td id=\"T_88467_row2_col2\" class=\"data row2 col2\" >C</td>\n",
       "      <td id=\"T_88467_row2_col3\" class=\"data row2 col3\" >839</td>\n",
       "      <td id=\"T_88467_row2_col4\" class=\"data row2 col4\" >108</td>\n",
       "      <td id=\"T_88467_row2_col5\" class=\"data row2 col5\" >1</td>\n",
       "      <td id=\"T_88467_row2_col6\" class=\"data row2 col6\" >2</td>\n",
       "      <td id=\"T_88467_row2_col7\" class=\"data row2 col7\" >protein</td>\n",
       "      <td id=\"T_88467_row2_col8\" class=\"data row2 col8\" >0</td>\n",
       "      <td id=\"T_88467_row2_col9\" class=\"data row2 col9\" >Barnase</td>\n",
       "    </tr>\n",
       "    <tr>\n",
       "      <td id=\"T_88467_row3_col0\" class=\"data row3 col0\" >3</td>\n",
       "      <td id=\"T_88467_row3_col1\" class=\"data row3 col1\" >D</td>\n",
       "      <td id=\"T_88467_row3_col2\" class=\"data row3 col2\" >D</td>\n",
       "      <td id=\"T_88467_row3_col3\" class=\"data row3 col3\" >695</td>\n",
       "      <td id=\"T_88467_row3_col4\" class=\"data row3 col4\" >87</td>\n",
       "      <td id=\"T_88467_row3_col5\" class=\"data row3 col5\" >2</td>\n",
       "      <td id=\"T_88467_row3_col6\" class=\"data row3 col6\" >3</td>\n",
       "      <td id=\"T_88467_row3_col7\" class=\"data row3 col7\" >protein</td>\n",
       "      <td id=\"T_88467_row3_col8\" class=\"data row3 col8\" >1</td>\n",
       "      <td id=\"T_88467_row3_col9\" class=\"data row3 col9\" >Barstar</td>\n",
       "    </tr>\n",
       "    <tr>\n",
       "      <td id=\"T_88467_row4_col0\" class=\"data row4 col0\" >4</td>\n",
       "      <td id=\"T_88467_row4_col1\" class=\"data row4 col1\" >E</td>\n",
       "      <td id=\"T_88467_row4_col2\" class=\"data row4 col2\" >E</td>\n",
       "      <td id=\"T_88467_row4_col3\" class=\"data row4 col3\" >665</td>\n",
       "      <td id=\"T_88467_row4_col4\" class=\"data row4 col4\" >86</td>\n",
       "      <td id=\"T_88467_row4_col5\" class=\"data row4 col5\" >2</td>\n",
       "      <td id=\"T_88467_row4_col6\" class=\"data row4 col6\" >4</td>\n",
       "      <td id=\"T_88467_row4_col7\" class=\"data row4 col7\" >protein</td>\n",
       "      <td id=\"T_88467_row4_col8\" class=\"data row4 col8\" >1</td>\n",
       "      <td id=\"T_88467_row4_col9\" class=\"data row4 col9\" >Barstar</td>\n",
       "    </tr>\n",
       "    <tr>\n",
       "      <td id=\"T_88467_row5_col0\" class=\"data row5 col0\" >5</td>\n",
       "      <td id=\"T_88467_row5_col1\" class=\"data row5 col1\" >F</td>\n",
       "      <td id=\"T_88467_row5_col2\" class=\"data row5 col2\" >F</td>\n",
       "      <td id=\"T_88467_row5_col3\" class=\"data row5 col3\" >699</td>\n",
       "      <td id=\"T_88467_row5_col4\" class=\"data row5 col4\" >89</td>\n",
       "      <td id=\"T_88467_row5_col5\" class=\"data row5 col5\" >1</td>\n",
       "      <td id=\"T_88467_row5_col6\" class=\"data row5 col6\" >5</td>\n",
       "      <td id=\"T_88467_row5_col7\" class=\"data row5 col7\" >protein</td>\n",
       "      <td id=\"T_88467_row5_col8\" class=\"data row5 col8\" >1</td>\n",
       "      <td id=\"T_88467_row5_col9\" class=\"data row5 col9\" >Barstar</td>\n",
       "    </tr>\n",
       "  </tbody>\n",
       "</table>\n"
      ],
      "text/plain": [
       "<pandas.io.formats.style.Styler at 0x7f68fa737510>"
      ]
     },
     "execution_count": 13,
     "metadata": {},
     "output_type": "execute_result"
    }
   ],
   "source": [
    "msm.info(molsys, target='chain')"
   ]
  },
  {
   "cell_type": "code",
   "execution_count": 14,
   "id": "db74b40c-fd88-4bd6-a32d-e6a8393725af",
   "metadata": {},
   "outputs": [
    {
     "ename": "WrongToFormError",
     "evalue": "pdbfixer.PDBFixer",
     "output_type": "error",
     "traceback": [
      "\u001b[0;31m---------------------------------------------------------------------------\u001b[0m",
      "\u001b[0;31mKeyError\u001b[0m                                  Traceback (most recent call last)",
      "\u001b[0;32m~/projects/MolSysMT/molsysmt/basic/convert.py\u001b[0m in \u001b[0;36mconvert\u001b[0;34m(molecular_system, to_form, selection, structure_indices, syntaxis, check, **kwargs)\u001b[0m\n\u001b[1;32m     64\u001b[0m         \u001b[0;32mtry\u001b[0m\u001b[0;34m:\u001b[0m\u001b[0;34m\u001b[0m\u001b[0;34m\u001b[0m\u001b[0m\n\u001b[0;32m---> 65\u001b[0;31m             \u001b[0mto_form\u001b[0m \u001b[0;34m=\u001b[0m \u001b[0mdigest_to_form\u001b[0m\u001b[0;34m(\u001b[0m\u001b[0mto_form\u001b[0m\u001b[0;34m)\u001b[0m\u001b[0;34m\u001b[0m\u001b[0;34m\u001b[0m\u001b[0m\n\u001b[0m\u001b[1;32m     66\u001b[0m         \u001b[0;32mexcept\u001b[0m\u001b[0;34m:\u001b[0m\u001b[0;34m\u001b[0m\u001b[0;34m\u001b[0m\u001b[0m\n",
      "\u001b[0;32m~/projects/MolSysMT/molsysmt/_private_tools/form.py\u001b[0m in \u001b[0;36mdigest_to_form\u001b[0;34m(to_form)\u001b[0m\n\u001b[1;32m     21\u001b[0m     \u001b[0;32melse\u001b[0m\u001b[0;34m:\u001b[0m\u001b[0;34m\u001b[0m\u001b[0;34m\u001b[0m\u001b[0m\n\u001b[0;32m---> 22\u001b[0;31m         \u001b[0;32mreturn\u001b[0m \u001b[0mdigest_form\u001b[0m\u001b[0;34m(\u001b[0m\u001b[0mto_form\u001b[0m\u001b[0;34m)\u001b[0m\u001b[0;34m\u001b[0m\u001b[0;34m\u001b[0m\u001b[0m\n\u001b[0m\u001b[1;32m     23\u001b[0m \u001b[0;34m\u001b[0m\u001b[0m\n",
      "\u001b[0;32m~/projects/MolSysMT/molsysmt/_private_tools/form.py\u001b[0m in \u001b[0;36mdigest_form\u001b[0;34m(form)\u001b[0m\n\u001b[1;32m     12\u001b[0m     \u001b[0;32melse\u001b[0m\u001b[0;34m:\u001b[0m\u001b[0;34m\u001b[0m\u001b[0;34m\u001b[0m\u001b[0m\n\u001b[0;32m---> 13\u001b[0;31m         \u001b[0moutput\u001b[0m \u001b[0;34m=\u001b[0m \u001b[0mform_from_lowercase\u001b[0m\u001b[0;34m[\u001b[0m\u001b[0mform\u001b[0m\u001b[0;34m.\u001b[0m\u001b[0mlower\u001b[0m\u001b[0;34m(\u001b[0m\u001b[0;34m)\u001b[0m\u001b[0;34m]\u001b[0m\u001b[0;34m\u001b[0m\u001b[0;34m\u001b[0m\u001b[0m\n\u001b[0m\u001b[1;32m     14\u001b[0m \u001b[0;34m\u001b[0m\u001b[0m\n",
      "\u001b[0;31mKeyError\u001b[0m: 'pdbfixer.pdbfixer'",
      "\nDuring handling of the above exception, another exception occurred:\n",
      "\u001b[0;31mWrongToFormError\u001b[0m                          Traceback (most recent call last)",
      "\u001b[0;32m/tmp/ipykernel_2058067/1628697473.py\u001b[0m in \u001b[0;36m<module>\u001b[0;34m\u001b[0m\n\u001b[0;32m----> 1\u001b[0;31m \u001b[0mmissing_atoms\u001b[0m \u001b[0;34m=\u001b[0m \u001b[0mmsm\u001b[0m\u001b[0;34m.\u001b[0m\u001b[0mbuild\u001b[0m\u001b[0;34m.\u001b[0m\u001b[0mget_missing_heavy_atoms\u001b[0m\u001b[0;34m(\u001b[0m\u001b[0mmolsys\u001b[0m\u001b[0;34m)\u001b[0m\u001b[0;34m\u001b[0m\u001b[0;34m\u001b[0m\u001b[0m\n\u001b[0m",
      "\u001b[0;32m~/projects/MolSysMT/molsysmt/build/get_missing_heavy_atoms.py\u001b[0m in \u001b[0;36mget_missing_heavy_atoms\u001b[0;34m(molecular_system, selection, engine, syntaxis)\u001b[0m\n\u001b[1;32m     19\u001b[0m \u001b[0;34m\u001b[0m\u001b[0m\n\u001b[1;32m     20\u001b[0m         tmp_item = convert(molecular_system, selection=selection, to_form=\"pdbfixer.PDBFixer\",\n\u001b[0;32m---> 21\u001b[0;31m                            syntaxis=syntaxis)\n\u001b[0m\u001b[1;32m     22\u001b[0m \u001b[0;34m\u001b[0m\u001b[0m\n\u001b[1;32m     23\u001b[0m         \u001b[0mtmp_item\u001b[0m\u001b[0;34m.\u001b[0m\u001b[0mfindMissingResidues\u001b[0m\u001b[0;34m(\u001b[0m\u001b[0;34m)\u001b[0m\u001b[0;34m\u001b[0m\u001b[0;34m\u001b[0m\u001b[0m\n",
      "\u001b[0;32m~/projects/MolSysMT/molsysmt/basic/convert.py\u001b[0m in \u001b[0;36mconvert\u001b[0;34m(molecular_system, to_form, selection, structure_indices, syntaxis, check, **kwargs)\u001b[0m\n\u001b[1;32m     65\u001b[0m             \u001b[0mto_form\u001b[0m \u001b[0;34m=\u001b[0m \u001b[0mdigest_to_form\u001b[0m\u001b[0;34m(\u001b[0m\u001b[0mto_form\u001b[0m\u001b[0;34m)\u001b[0m\u001b[0;34m\u001b[0m\u001b[0;34m\u001b[0m\u001b[0m\n\u001b[1;32m     66\u001b[0m         \u001b[0;32mexcept\u001b[0m\u001b[0;34m:\u001b[0m\u001b[0;34m\u001b[0m\u001b[0;34m\u001b[0m\u001b[0m\n\u001b[0;32m---> 67\u001b[0;31m             \u001b[0;32mraise\u001b[0m \u001b[0mWrongToFormError\u001b[0m\u001b[0;34m(\u001b[0m\u001b[0mto_form\u001b[0m\u001b[0;34m)\u001b[0m\u001b[0;34m\u001b[0m\u001b[0;34m\u001b[0m\u001b[0m\n\u001b[0m\u001b[1;32m     68\u001b[0m \u001b[0;34m\u001b[0m\u001b[0m\n\u001b[1;32m     69\u001b[0m         \u001b[0;32mtry\u001b[0m\u001b[0;34m:\u001b[0m\u001b[0;34m\u001b[0m\u001b[0;34m\u001b[0m\u001b[0m\n",
      "\u001b[0;31mWrongToFormError\u001b[0m: pdbfixer.PDBFixer"
     ]
    }
   ],
   "source": [
    "missing_atoms = msm.build.get_missing_heavy_atoms(molsys)"
   ]
  },
  {
   "cell_type": "code",
   "execution_count": null,
   "id": "18ecac9b-a55c-4a65-a272-8da356e5f1b2",
   "metadata": {},
   "outputs": [],
   "source": [
    "missing_atoms"
   ]
  },
  {
   "cell_type": "code",
   "execution_count": null,
   "id": "225c3b9d-7f12-43c8-ad4a-5c2b2af766d3",
   "metadata": {},
   "outputs": [],
   "source": [
    "missing_atoms.keys()"
   ]
  },
  {
   "cell_type": "code",
   "execution_count": null,
   "id": "19c54549-5999-4f7a-a28b-a3796c7a360e",
   "metadata": {},
   "outputs": [],
   "source": [
    "msm.info(molecular_system, target='group', indices=missing_atoms)"
   ]
  },
  {
   "cell_type": "code",
   "execution_count": null,
   "id": "0fb80b1d-0903-4d85-aa39-7f0e833a4460",
   "metadata": {},
   "outputs": [],
   "source": [
    "msm.get(molecular_system, target='component', n_groups=True, chain_name=True)"
   ]
  },
  {
   "cell_type": "code",
   "execution_count": null,
   "id": "df420ee8-386c-406d-a391-2dcc8982f86e",
   "metadata": {},
   "outputs": [],
   "source": [
    "molecular_system = msm.build.add_missing_heavy_atoms(molecular_system)"
   ]
  },
  {
   "cell_type": "code",
   "execution_count": null,
   "id": "21f1d028-b04d-45cf-9cdf-a36e27b4a1a5",
   "metadata": {},
   "outputs": [],
   "source": [
    "msm.get(molecular_system, target='component', n_groups=True, chain_name=True)"
   ]
  },
  {
   "cell_type": "code",
   "execution_count": null,
   "id": "e9d7d8d9-5ca8-4b7f-bcbf-4c9661e2eed6",
   "metadata": {},
   "outputs": [],
   "source": [
    "msm.info(molecular_system, target='component')"
   ]
  },
  {
   "cell_type": "code",
   "execution_count": null,
   "id": "bb47a3fa-9de0-4843-b3c2-63d149329369",
   "metadata": {},
   "outputs": [],
   "source": [
    "msm.info(molecular_system, target='atom', selection='component_index==4')"
   ]
  },
  {
   "cell_type": "code",
   "execution_count": null,
   "id": "b8d7c084-710b-481c-a3ef-a9085c4f53f9",
   "metadata": {},
   "outputs": [],
   "source": [
    "msm.info(molecular_system, target='atom', selection='component_index==5')"
   ]
  },
  {
   "cell_type": "code",
   "execution_count": null,
   "id": "c3bc2560-1b58-4af2-b620-adfbcf66aa68",
   "metadata": {},
   "outputs": [],
   "source": [
    "msm.view(molecular_system)"
   ]
  },
  {
   "cell_type": "code",
   "execution_count": null,
   "id": "227dfc02-e42a-4cfc-bece-f4f8bbc1dab4",
   "metadata": {},
   "outputs": [],
   "source": [
    "molecular_system_A_D = msm.extract(molecular_system, selection='chain_name==[\"A\",\"D\"]')\n",
    "molecular_system_B_E = msm.extract(molecular_system, selection='chain_name==[\"B\",\"E\"]')\n",
    "molecular_system_C_F = msm.extract(molecular_system, selection='chain_name==[\"C\",\"F\"]')"
   ]
  },
  {
   "cell_type": "code",
   "execution_count": null,
   "id": "6be906f1-a311-4a0a-b2a9-35efb556ad06",
   "metadata": {},
   "outputs": [],
   "source": [
    "molecular_system_B_E_over_A_D = msm.structure.align(molecular_system_B_E, reference_molecular_system=molecular_system_A_D)"
   ]
  },
  {
   "cell_type": "code",
   "execution_count": null,
   "id": "b46ee905-3723-4f26-8ef6-cdfeb994f2b5",
   "metadata": {},
   "outputs": [],
   "source": [
    "msm.view([molecular_system_A_D, molecular_system_B_E_over_A_D])"
   ]
  },
  {
   "cell_type": "code",
   "execution_count": null,
   "id": "f77e3a68-ce9e-4ee4-ab52-9953e4a75dc2",
   "metadata": {},
   "outputs": [],
   "source": [
    "aa, bb, cc = msm.topology.get_sequence_identity(molecular_system_C_F, selection='all', reference_molecular_system=molecular_system_A_D,\n",
    "                                  reference_selection='all')"
   ]
  },
  {
   "cell_type": "code",
   "execution_count": null,
   "id": "7d2cb8dc-2a7d-4756-84e2-e8facf263f5c",
   "metadata": {},
   "outputs": [],
   "source": [
    "len(bb)"
   ]
  },
  {
   "cell_type": "code",
   "execution_count": null,
   "id": "43ea6c77-75eb-46ba-a7d3-af5ab9d52e57",
   "metadata": {},
   "outputs": [],
   "source": [
    "len(cc)"
   ]
  },
  {
   "cell_type": "code",
   "execution_count": null,
   "id": "32f41973-d3c0-4daf-889a-5664f773bca8",
   "metadata": {},
   "outputs": [],
   "source": [
    "for res_bb, res_cc in zip(bb,cc):\n",
    "    back_bb = msm.select(molecular_system_C_F, selection='backbone and group_index==@res_bb')\n",
    "    back_cc = msm.select(molecular_system_A_D, selection='backbone and group_index==@res_cc')\n",
    "    if len(back_bb)!=len(back_cc):\n",
    "        print(msm.info(molecular_system_C_F, target='atom', indices=back_bb, output='long_string'))\n",
    "        print(msm.info(molecular_system_A_D, target='atom', indices=back_cc, output='long_string'))"
   ]
  },
  {
   "cell_type": "code",
   "execution_count": null,
   "id": "229410d9-bfe4-4261-b3df-ab0fddedb1ae",
   "metadata": {},
   "outputs": [],
   "source": [
    "molecular_system_C_F_over_A_D = msm.structure.align(molecular_system_C_F, reference_molecular_system=molecular_system_A_D)"
   ]
  },
  {
   "cell_type": "code",
   "execution_count": null,
   "id": "968c5aa4-b0b4-49f0-b1f4-69236fefbd99",
   "metadata": {},
   "outputs": [],
   "source": []
  }
 ],
 "metadata": {
  "kernelspec": {
   "display_name": "Python 3 (ipykernel)",
   "language": "python",
   "name": "python3"
  },
  "language_info": {
   "codemirror_mode": {
    "name": "ipython",
    "version": 3
   },
   "file_extension": ".py",
   "mimetype": "text/x-python",
   "name": "python",
   "nbconvert_exporter": "python",
   "pygments_lexer": "ipython3",
   "version": "3.7.12"
  }
 },
 "nbformat": 4,
 "nbformat_minor": 5
}
