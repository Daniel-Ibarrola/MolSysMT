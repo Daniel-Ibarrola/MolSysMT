{
 "cells": [
  {
   "cell_type": "code",
   "execution_count": 1,
   "id": "7884fe0a-9320-4a4e-b5b7-d7b14d5f5c22",
   "metadata": {},
   "outputs": [],
   "source": [
    "%load_ext autoreload\n",
    "%autoreload 2"
   ]
  },
  {
   "cell_type": "markdown",
   "id": "d89a220f-10b3-4525-9762-dd5b6a94b3d0",
   "metadata": {},
   "source": [
    "# Barnase-Barstar complex"
   ]
  },
  {
   "cell_type": "code",
   "execution_count": 2,
   "id": "1bb1e5a4-14f2-494c-8b76-31b77bd01bcc",
   "metadata": {},
   "outputs": [
    {
     "data": {
      "application/vnd.jupyter.widget-view+json": {
       "model_id": "98c0035db77a4b8392e607104fa74ab1",
       "version_major": 2,
       "version_minor": 0
      },
      "text/plain": []
     },
     "metadata": {},
     "output_type": "display_data"
    }
   ],
   "source": [
    "import molsysmt as msm"
   ]
  },
  {
   "cell_type": "code",
   "execution_count": 3,
   "id": "fb2e2194-2c0e-4790-b223-333e865bd03a",
   "metadata": {},
   "outputs": [
    {
     "name": "stderr",
     "output_type": "stream",
     "text": [
      "/home/diego/projects/MolSysMT/molsysmt/form/mmtf_MMTFDecoder/to_molsysmt_Topology.py:34: UserWarning: The structure in the PDB has biological assemblies. There are geometrical transformations proposed in the structure. See the following issue in the source code repository: https://github.com/uibcdf/MolSysMT/issues/33\n",
      "  warnings.warn(warning_message)\n",
      "/home/diego/projects/MolSysMT/molsysmt/form/mmtf_MMTFDecoder/to_molsysmt_Topology.py:48: UserWarning: The bioassembly has a different number of chains than the total amount of chains\n",
      "  warnings.warn(warning_message)\n"
     ]
    }
   ],
   "source": [
    "molsys = msm.convert('1BRS')"
   ]
  },
  {
   "cell_type": "code",
   "execution_count": 4,
   "id": "0915c348-1371-480a-bb32-bd3a5e96371b",
   "metadata": {},
   "outputs": [
    {
     "data": {
      "text/html": [
       "<style type=\"text/css\">\n",
       "</style>\n",
       "<table id=\"T_0611e_\">\n",
       "  <thead>\n",
       "    <tr>\n",
       "      <th class=\"col_heading level0 col0\" >form</th>\n",
       "      <th class=\"col_heading level0 col1\" >n_atoms</th>\n",
       "      <th class=\"col_heading level0 col2\" >n_groups</th>\n",
       "      <th class=\"col_heading level0 col3\" >n_components</th>\n",
       "      <th class=\"col_heading level0 col4\" >n_chains</th>\n",
       "      <th class=\"col_heading level0 col5\" >n_molecules</th>\n",
       "      <th class=\"col_heading level0 col6\" >n_entities</th>\n",
       "      <th class=\"col_heading level0 col7\" >n_waters</th>\n",
       "      <th class=\"col_heading level0 col8\" >n_proteins</th>\n",
       "      <th class=\"col_heading level0 col9\" >n_structures</th>\n",
       "    </tr>\n",
       "  </thead>\n",
       "  <tbody>\n",
       "    <tr>\n",
       "      <td id=\"T_0611e_row0_col0\" class=\"data row0 col0\" >molsysmt.MolSys</td>\n",
       "      <td id=\"T_0611e_row0_col1\" class=\"data row0 col1\" >5153</td>\n",
       "      <td id=\"T_0611e_row0_col2\" class=\"data row0 col2\" >1101</td>\n",
       "      <td id=\"T_0611e_row0_col3\" class=\"data row0 col3\" >521</td>\n",
       "      <td id=\"T_0611e_row0_col4\" class=\"data row0 col4\" >12</td>\n",
       "      <td id=\"T_0611e_row0_col5\" class=\"data row0 col5\" >519</td>\n",
       "      <td id=\"T_0611e_row0_col6\" class=\"data row0 col6\" >3</td>\n",
       "      <td id=\"T_0611e_row0_col7\" class=\"data row0 col7\" >513</td>\n",
       "      <td id=\"T_0611e_row0_col8\" class=\"data row0 col8\" >6</td>\n",
       "      <td id=\"T_0611e_row0_col9\" class=\"data row0 col9\" >1</td>\n",
       "    </tr>\n",
       "  </tbody>\n",
       "</table>\n"
      ],
      "text/plain": [
       "<pandas.io.formats.style.Styler at 0x7f5b8bfdbc50>"
      ]
     },
     "execution_count": 4,
     "metadata": {},
     "output_type": "execute_result"
    }
   ],
   "source": [
    "msm.info(molsys)"
   ]
  },
  {
   "cell_type": "code",
   "execution_count": 5,
   "id": "5cc39a53-96f3-4cc7-bd2f-389fb134cd28",
   "metadata": {},
   "outputs": [],
   "source": [
    "molsys = msm.build.remove_waters(molsys)"
   ]
  },
  {
   "cell_type": "code",
   "execution_count": 6,
   "id": "3ca39f5d-3c34-42dc-84d7-e40ac4384825",
   "metadata": {},
   "outputs": [
    {
     "data": {
      "text/html": [
       "<style type=\"text/css\">\n",
       "</style>\n",
       "<table id=\"T_14c69_\">\n",
       "  <thead>\n",
       "    <tr>\n",
       "      <th class=\"col_heading level0 col0\" >index</th>\n",
       "      <th class=\"col_heading level0 col1\" >name</th>\n",
       "      <th class=\"col_heading level0 col2\" >type</th>\n",
       "      <th class=\"col_heading level0 col3\" >n atoms</th>\n",
       "      <th class=\"col_heading level0 col4\" >n groups</th>\n",
       "      <th class=\"col_heading level0 col5\" >n components</th>\n",
       "      <th class=\"col_heading level0 col6\" >chain index</th>\n",
       "      <th class=\"col_heading level0 col7\" >entity index</th>\n",
       "      <th class=\"col_heading level0 col8\" >entity name</th>\n",
       "    </tr>\n",
       "  </thead>\n",
       "  <tbody>\n",
       "    <tr>\n",
       "      <td id=\"T_14c69_row0_col0\" class=\"data row0 col0\" >0</td>\n",
       "      <td id=\"T_14c69_row0_col1\" class=\"data row0 col1\" >Barnase</td>\n",
       "      <td id=\"T_14c69_row0_col2\" class=\"data row0 col2\" >protein</td>\n",
       "      <td id=\"T_14c69_row0_col3\" class=\"data row0 col3\" >864</td>\n",
       "      <td id=\"T_14c69_row0_col4\" class=\"data row0 col4\" >108</td>\n",
       "      <td id=\"T_14c69_row0_col5\" class=\"data row0 col5\" >1</td>\n",
       "      <td id=\"T_14c69_row0_col6\" class=\"data row0 col6\" >0</td>\n",
       "      <td id=\"T_14c69_row0_col7\" class=\"data row0 col7\" >0</td>\n",
       "      <td id=\"T_14c69_row0_col8\" class=\"data row0 col8\" >Barnase</td>\n",
       "    </tr>\n",
       "    <tr>\n",
       "      <td id=\"T_14c69_row1_col0\" class=\"data row1 col0\" >1</td>\n",
       "      <td id=\"T_14c69_row1_col1\" class=\"data row1 col1\" >Barnase</td>\n",
       "      <td id=\"T_14c69_row1_col2\" class=\"data row1 col2\" >protein</td>\n",
       "      <td id=\"T_14c69_row1_col3\" class=\"data row1 col3\" >878</td>\n",
       "      <td id=\"T_14c69_row1_col4\" class=\"data row1 col4\" >110</td>\n",
       "      <td id=\"T_14c69_row1_col5\" class=\"data row1 col5\" >1</td>\n",
       "      <td id=\"T_14c69_row1_col6\" class=\"data row1 col6\" >1</td>\n",
       "      <td id=\"T_14c69_row1_col7\" class=\"data row1 col7\" >0</td>\n",
       "      <td id=\"T_14c69_row1_col8\" class=\"data row1 col8\" >Barnase</td>\n",
       "    </tr>\n",
       "    <tr>\n",
       "      <td id=\"T_14c69_row2_col0\" class=\"data row2 col0\" >2</td>\n",
       "      <td id=\"T_14c69_row2_col1\" class=\"data row2 col1\" >Barnase</td>\n",
       "      <td id=\"T_14c69_row2_col2\" class=\"data row2 col2\" >protein</td>\n",
       "      <td id=\"T_14c69_row2_col3\" class=\"data row2 col3\" >839</td>\n",
       "      <td id=\"T_14c69_row2_col4\" class=\"data row2 col4\" >108</td>\n",
       "      <td id=\"T_14c69_row2_col5\" class=\"data row2 col5\" >1</td>\n",
       "      <td id=\"T_14c69_row2_col6\" class=\"data row2 col6\" >2</td>\n",
       "      <td id=\"T_14c69_row2_col7\" class=\"data row2 col7\" >0</td>\n",
       "      <td id=\"T_14c69_row2_col8\" class=\"data row2 col8\" >Barnase</td>\n",
       "    </tr>\n",
       "    <tr>\n",
       "      <td id=\"T_14c69_row3_col0\" class=\"data row3 col0\" >3</td>\n",
       "      <td id=\"T_14c69_row3_col1\" class=\"data row3 col1\" >Barstar</td>\n",
       "      <td id=\"T_14c69_row3_col2\" class=\"data row3 col2\" >protein</td>\n",
       "      <td id=\"T_14c69_row3_col3\" class=\"data row3 col3\" >695</td>\n",
       "      <td id=\"T_14c69_row3_col4\" class=\"data row3 col4\" >87</td>\n",
       "      <td id=\"T_14c69_row3_col5\" class=\"data row3 col5\" >2</td>\n",
       "      <td id=\"T_14c69_row3_col6\" class=\"data row3 col6\" >3</td>\n",
       "      <td id=\"T_14c69_row3_col7\" class=\"data row3 col7\" >1</td>\n",
       "      <td id=\"T_14c69_row3_col8\" class=\"data row3 col8\" >Barstar</td>\n",
       "    </tr>\n",
       "    <tr>\n",
       "      <td id=\"T_14c69_row4_col0\" class=\"data row4 col0\" >4</td>\n",
       "      <td id=\"T_14c69_row4_col1\" class=\"data row4 col1\" >Barstar</td>\n",
       "      <td id=\"T_14c69_row4_col2\" class=\"data row4 col2\" >protein</td>\n",
       "      <td id=\"T_14c69_row4_col3\" class=\"data row4 col3\" >665</td>\n",
       "      <td id=\"T_14c69_row4_col4\" class=\"data row4 col4\" >86</td>\n",
       "      <td id=\"T_14c69_row4_col5\" class=\"data row4 col5\" >2</td>\n",
       "      <td id=\"T_14c69_row4_col6\" class=\"data row4 col6\" >4</td>\n",
       "      <td id=\"T_14c69_row4_col7\" class=\"data row4 col7\" >1</td>\n",
       "      <td id=\"T_14c69_row4_col8\" class=\"data row4 col8\" >Barstar</td>\n",
       "    </tr>\n",
       "    <tr>\n",
       "      <td id=\"T_14c69_row5_col0\" class=\"data row5 col0\" >5</td>\n",
       "      <td id=\"T_14c69_row5_col1\" class=\"data row5 col1\" >Barstar</td>\n",
       "      <td id=\"T_14c69_row5_col2\" class=\"data row5 col2\" >protein</td>\n",
       "      <td id=\"T_14c69_row5_col3\" class=\"data row5 col3\" >699</td>\n",
       "      <td id=\"T_14c69_row5_col4\" class=\"data row5 col4\" >89</td>\n",
       "      <td id=\"T_14c69_row5_col5\" class=\"data row5 col5\" >1</td>\n",
       "      <td id=\"T_14c69_row5_col6\" class=\"data row5 col6\" >5</td>\n",
       "      <td id=\"T_14c69_row5_col7\" class=\"data row5 col7\" >1</td>\n",
       "      <td id=\"T_14c69_row5_col8\" class=\"data row5 col8\" >Barstar</td>\n",
       "    </tr>\n",
       "  </tbody>\n",
       "</table>\n"
      ],
      "text/plain": [
       "<pandas.io.formats.style.Styler at 0x7f5b89942f50>"
      ]
     },
     "execution_count": 6,
     "metadata": {},
     "output_type": "execute_result"
    }
   ],
   "source": [
    "msm.info(molsys, target='molecules')"
   ]
  },
  {
   "cell_type": "code",
   "execution_count": 7,
   "id": "43afa8d5-fc95-4206-8842-9f96e89824f8",
   "metadata": {},
   "outputs": [
    {
     "data": {
      "text/plain": [
       "False"
      ]
     },
     "execution_count": 7,
     "metadata": {},
     "output_type": "execute_result"
    }
   ],
   "source": [
    "msm.build.has_hydrogens(molsys)"
   ]
  },
  {
   "cell_type": "code",
   "execution_count": 8,
   "id": "a673c164-1a44-4c87-8514-046d6ad3ca84",
   "metadata": {},
   "outputs": [
    {
     "data": {
      "text/html": [
       "<style type=\"text/css\">\n",
       "</style>\n",
       "<table id=\"T_131df_\">\n",
       "  <thead>\n",
       "    <tr>\n",
       "      <th class=\"col_heading level0 col0\" >index</th>\n",
       "      <th class=\"col_heading level0 col1\" >id</th>\n",
       "      <th class=\"col_heading level0 col2\" >name</th>\n",
       "      <th class=\"col_heading level0 col3\" >n atoms</th>\n",
       "      <th class=\"col_heading level0 col4\" >n groups</th>\n",
       "      <th class=\"col_heading level0 col5\" >n components</th>\n",
       "      <th class=\"col_heading level0 col6\" >molecule index</th>\n",
       "      <th class=\"col_heading level0 col7\" >molecule type</th>\n",
       "      <th class=\"col_heading level0 col8\" >entity index</th>\n",
       "      <th class=\"col_heading level0 col9\" >entity name</th>\n",
       "    </tr>\n",
       "  </thead>\n",
       "  <tbody>\n",
       "    <tr>\n",
       "      <td id=\"T_131df_row0_col0\" class=\"data row0 col0\" >0</td>\n",
       "      <td id=\"T_131df_row0_col1\" class=\"data row0 col1\" >A</td>\n",
       "      <td id=\"T_131df_row0_col2\" class=\"data row0 col2\" >A</td>\n",
       "      <td id=\"T_131df_row0_col3\" class=\"data row0 col3\" >864</td>\n",
       "      <td id=\"T_131df_row0_col4\" class=\"data row0 col4\" >108</td>\n",
       "      <td id=\"T_131df_row0_col5\" class=\"data row0 col5\" >1</td>\n",
       "      <td id=\"T_131df_row0_col6\" class=\"data row0 col6\" >0</td>\n",
       "      <td id=\"T_131df_row0_col7\" class=\"data row0 col7\" >protein</td>\n",
       "      <td id=\"T_131df_row0_col8\" class=\"data row0 col8\" >0</td>\n",
       "      <td id=\"T_131df_row0_col9\" class=\"data row0 col9\" >Barnase</td>\n",
       "    </tr>\n",
       "    <tr>\n",
       "      <td id=\"T_131df_row1_col0\" class=\"data row1 col0\" >1</td>\n",
       "      <td id=\"T_131df_row1_col1\" class=\"data row1 col1\" >B</td>\n",
       "      <td id=\"T_131df_row1_col2\" class=\"data row1 col2\" >B</td>\n",
       "      <td id=\"T_131df_row1_col3\" class=\"data row1 col3\" >878</td>\n",
       "      <td id=\"T_131df_row1_col4\" class=\"data row1 col4\" >110</td>\n",
       "      <td id=\"T_131df_row1_col5\" class=\"data row1 col5\" >1</td>\n",
       "      <td id=\"T_131df_row1_col6\" class=\"data row1 col6\" >1</td>\n",
       "      <td id=\"T_131df_row1_col7\" class=\"data row1 col7\" >protein</td>\n",
       "      <td id=\"T_131df_row1_col8\" class=\"data row1 col8\" >0</td>\n",
       "      <td id=\"T_131df_row1_col9\" class=\"data row1 col9\" >Barnase</td>\n",
       "    </tr>\n",
       "    <tr>\n",
       "      <td id=\"T_131df_row2_col0\" class=\"data row2 col0\" >2</td>\n",
       "      <td id=\"T_131df_row2_col1\" class=\"data row2 col1\" >C</td>\n",
       "      <td id=\"T_131df_row2_col2\" class=\"data row2 col2\" >C</td>\n",
       "      <td id=\"T_131df_row2_col3\" class=\"data row2 col3\" >839</td>\n",
       "      <td id=\"T_131df_row2_col4\" class=\"data row2 col4\" >108</td>\n",
       "      <td id=\"T_131df_row2_col5\" class=\"data row2 col5\" >1</td>\n",
       "      <td id=\"T_131df_row2_col6\" class=\"data row2 col6\" >2</td>\n",
       "      <td id=\"T_131df_row2_col7\" class=\"data row2 col7\" >protein</td>\n",
       "      <td id=\"T_131df_row2_col8\" class=\"data row2 col8\" >0</td>\n",
       "      <td id=\"T_131df_row2_col9\" class=\"data row2 col9\" >Barnase</td>\n",
       "    </tr>\n",
       "    <tr>\n",
       "      <td id=\"T_131df_row3_col0\" class=\"data row3 col0\" >3</td>\n",
       "      <td id=\"T_131df_row3_col1\" class=\"data row3 col1\" >D</td>\n",
       "      <td id=\"T_131df_row3_col2\" class=\"data row3 col2\" >D</td>\n",
       "      <td id=\"T_131df_row3_col3\" class=\"data row3 col3\" >695</td>\n",
       "      <td id=\"T_131df_row3_col4\" class=\"data row3 col4\" >87</td>\n",
       "      <td id=\"T_131df_row3_col5\" class=\"data row3 col5\" >2</td>\n",
       "      <td id=\"T_131df_row3_col6\" class=\"data row3 col6\" >3</td>\n",
       "      <td id=\"T_131df_row3_col7\" class=\"data row3 col7\" >protein</td>\n",
       "      <td id=\"T_131df_row3_col8\" class=\"data row3 col8\" >1</td>\n",
       "      <td id=\"T_131df_row3_col9\" class=\"data row3 col9\" >Barstar</td>\n",
       "    </tr>\n",
       "    <tr>\n",
       "      <td id=\"T_131df_row4_col0\" class=\"data row4 col0\" >4</td>\n",
       "      <td id=\"T_131df_row4_col1\" class=\"data row4 col1\" >E</td>\n",
       "      <td id=\"T_131df_row4_col2\" class=\"data row4 col2\" >E</td>\n",
       "      <td id=\"T_131df_row4_col3\" class=\"data row4 col3\" >665</td>\n",
       "      <td id=\"T_131df_row4_col4\" class=\"data row4 col4\" >86</td>\n",
       "      <td id=\"T_131df_row4_col5\" class=\"data row4 col5\" >2</td>\n",
       "      <td id=\"T_131df_row4_col6\" class=\"data row4 col6\" >4</td>\n",
       "      <td id=\"T_131df_row4_col7\" class=\"data row4 col7\" >protein</td>\n",
       "      <td id=\"T_131df_row4_col8\" class=\"data row4 col8\" >1</td>\n",
       "      <td id=\"T_131df_row4_col9\" class=\"data row4 col9\" >Barstar</td>\n",
       "    </tr>\n",
       "    <tr>\n",
       "      <td id=\"T_131df_row5_col0\" class=\"data row5 col0\" >5</td>\n",
       "      <td id=\"T_131df_row5_col1\" class=\"data row5 col1\" >F</td>\n",
       "      <td id=\"T_131df_row5_col2\" class=\"data row5 col2\" >F</td>\n",
       "      <td id=\"T_131df_row5_col3\" class=\"data row5 col3\" >699</td>\n",
       "      <td id=\"T_131df_row5_col4\" class=\"data row5 col4\" >89</td>\n",
       "      <td id=\"T_131df_row5_col5\" class=\"data row5 col5\" >1</td>\n",
       "      <td id=\"T_131df_row5_col6\" class=\"data row5 col6\" >5</td>\n",
       "      <td id=\"T_131df_row5_col7\" class=\"data row5 col7\" >protein</td>\n",
       "      <td id=\"T_131df_row5_col8\" class=\"data row5 col8\" >1</td>\n",
       "      <td id=\"T_131df_row5_col9\" class=\"data row5 col9\" >Barstar</td>\n",
       "    </tr>\n",
       "  </tbody>\n",
       "</table>\n"
      ],
      "text/plain": [
       "<pandas.io.formats.style.Styler at 0x7f5b8963dc50>"
      ]
     },
     "execution_count": 8,
     "metadata": {},
     "output_type": "execute_result"
    }
   ],
   "source": [
    "msm.info(molsys, target='chain')"
   ]
  },
  {
   "cell_type": "code",
   "execution_count": 9,
   "id": "db74b40c-fd88-4bd6-a32d-e6a8393725af",
   "metadata": {},
   "outputs": [
    {
     "name": "stderr",
     "output_type": "stream",
     "text": [
      "/home/diego/MyMachine/locals/miniconda/envs/MolSysMT/lib/python3.7/site-packages/openmm/app/internal/pdbstructure.py:538: UserWarning: WARNING: duplicate atom (ATOM   2692  CB  SER D  14      32.757  22.571   1.533  1.00  0.00           C  , ATOM   2690  CB  SER D  14      32.742  22.579   1.536  1.00  0.00           C  )\n",
      "  warnings.warn(\"WARNING: duplicate atom (%s, %s)\" % (atom, old_atom._pdb_string(old_atom.serial_number, atom.alternate_location_indicator)))\n",
      "/home/diego/MyMachine/locals/miniconda/envs/MolSysMT/lib/python3.7/site-packages/openmm/app/internal/pdbstructure.py:538: UserWarning: WARNING: duplicate atom (ATOM   2693  OG  SER D  14      33.396  21.920   2.619  1.00  0.00           O  , ATOM   2691  OG  SER D  14      31.412  22.410   1.076  1.00  0.00           O  )\n",
      "  warnings.warn(\"WARNING: duplicate atom (%s, %s)\" % (atom, old_atom._pdb_string(old_atom.serial_number, atom.alternate_location_indicator)))\n"
     ]
    }
   ],
   "source": [
    "missing_atoms = msm.build.get_missing_heavy_atoms(molsys)"
   ]
  },
  {
   "cell_type": "code",
   "execution_count": 10,
   "id": "18ecac9b-a55c-4a65-a272-8da356e5f1b2",
   "metadata": {},
   "outputs": [
    {
     "data": {
      "text/plain": [
       "{234: ['CG', 'CD', 'CE', 'NZ'],\n",
       " 237: ['CG', 'OD1', 'OD2'],\n",
       " 244: ['CD', 'OE1', 'OE2'],\n",
       " 246: ['CG', 'CD', 'OE1', 'NE2'],\n",
       " 254: ['CD', 'CE', 'NZ'],\n",
       " 260: ['CG1', 'CG2'],\n",
       " 264: ['CG', 'CD', 'CE', 'NZ'],\n",
       " 282: ['OG'],\n",
       " 325: ['O'],\n",
       " 383: ['OE1', 'NE2'],\n",
       " 385: ['NZ'],\n",
       " 386: ['CG', 'CD', 'OE1', 'NE2'],\n",
       " 422: ['NE', 'CZ', 'NH1', 'NH2'],\n",
       " 429: ['CG', 'CD', 'OE1', 'NE2'],\n",
       " 465: ['NE', 'CZ', 'NH1', 'NH2'],\n",
       " 469: ['CG', 'CD', 'OE1', 'NE2'],\n",
       " 471: ['CG', 'CD', 'CE', 'NZ'],\n",
       " 472: ['CG', 'CD', 'OE1', 'NE2'],\n",
       " 473: ['CG', 'CD1', 'CD2'],\n",
       " 520: ['CD', 'CE', 'NZ'],\n",
       " 526: ['CG', 'CD', 'OE1', 'OE2'],\n",
       " 544: ['CG', 'CD', 'OE1', 'OE2'],\n",
       " 562: ['CG', 'CD', 'OE1', 'OE2'],\n",
       " 563: ['CG', 'OD1', 'ND2'],\n",
       " 587: ['O']}"
      ]
     },
     "execution_count": 10,
     "metadata": {},
     "output_type": "execute_result"
    }
   ],
   "source": [
    "missing_atoms"
   ]
  },
  {
   "cell_type": "code",
   "execution_count": 11,
   "id": "225c3b9d-7f12-43c8-ad4a-5c2b2af766d3",
   "metadata": {},
   "outputs": [
    {
     "data": {
      "text/plain": [
       "dict_keys([234, 237, 244, 246, 254, 260, 264, 282, 325, 383, 385, 386, 422, 429, 465, 469, 471, 472, 473, 520, 526, 544, 562, 563, 587])"
      ]
     },
     "execution_count": 11,
     "metadata": {},
     "output_type": "execute_result"
    }
   ],
   "source": [
    "missing_atoms.keys()"
   ]
  },
  {
   "cell_type": "code",
   "execution_count": 12,
   "id": "19c54549-5999-4f7a-a28b-a3796c7a360e",
   "metadata": {},
   "outputs": [
    {
     "data": {
      "text/html": [
       "<style type=\"text/css\">\n",
       "</style>\n",
       "<table id=\"T_5eed2_\">\n",
       "  <thead>\n",
       "    <tr>\n",
       "      <th class=\"col_heading level0 col0\" >index</th>\n",
       "      <th class=\"col_heading level0 col1\" >id</th>\n",
       "      <th class=\"col_heading level0 col2\" >name</th>\n",
       "      <th class=\"col_heading level0 col3\" >type</th>\n",
       "      <th class=\"col_heading level0 col4\" >n atoms</th>\n",
       "      <th class=\"col_heading level0 col5\" >component index</th>\n",
       "      <th class=\"col_heading level0 col6\" >chain index</th>\n",
       "      <th class=\"col_heading level0 col7\" >molecule index</th>\n",
       "      <th class=\"col_heading level0 col8\" >molecule type</th>\n",
       "      <th class=\"col_heading level0 col9\" >entity index</th>\n",
       "      <th class=\"col_heading level0 col10\" >entity name</th>\n",
       "    </tr>\n",
       "  </thead>\n",
       "  <tbody>\n",
       "    <tr>\n",
       "      <td id=\"T_5eed2_row0_col0\" class=\"data row0 col0\" >234</td>\n",
       "      <td id=\"T_5eed2_row0_col1\" class=\"data row0 col1\" >19</td>\n",
       "      <td id=\"T_5eed2_row0_col2\" class=\"data row0 col2\" >LYS</td>\n",
       "      <td id=\"T_5eed2_row0_col3\" class=\"data row0 col3\" >aminoacid</td>\n",
       "      <td id=\"T_5eed2_row0_col4\" class=\"data row0 col4\" >5</td>\n",
       "      <td id=\"T_5eed2_row0_col5\" class=\"data row0 col5\" >2</td>\n",
       "      <td id=\"T_5eed2_row0_col6\" class=\"data row0 col6\" >2</td>\n",
       "      <td id=\"T_5eed2_row0_col7\" class=\"data row0 col7\" >2</td>\n",
       "      <td id=\"T_5eed2_row0_col8\" class=\"data row0 col8\" >protein</td>\n",
       "      <td id=\"T_5eed2_row0_col9\" class=\"data row0 col9\" >0</td>\n",
       "      <td id=\"T_5eed2_row0_col10\" class=\"data row0 col10\" >Barnase</td>\n",
       "    </tr>\n",
       "    <tr>\n",
       "      <td id=\"T_5eed2_row1_col0\" class=\"data row1 col0\" >237</td>\n",
       "      <td id=\"T_5eed2_row1_col1\" class=\"data row1 col1\" >22</td>\n",
       "      <td id=\"T_5eed2_row1_col2\" class=\"data row1 col2\" >ASP</td>\n",
       "      <td id=\"T_5eed2_row1_col3\" class=\"data row1 col3\" >aminoacid</td>\n",
       "      <td id=\"T_5eed2_row1_col4\" class=\"data row1 col4\" >5</td>\n",
       "      <td id=\"T_5eed2_row1_col5\" class=\"data row1 col5\" >2</td>\n",
       "      <td id=\"T_5eed2_row1_col6\" class=\"data row1 col6\" >2</td>\n",
       "      <td id=\"T_5eed2_row1_col7\" class=\"data row1 col7\" >2</td>\n",
       "      <td id=\"T_5eed2_row1_col8\" class=\"data row1 col8\" >protein</td>\n",
       "      <td id=\"T_5eed2_row1_col9\" class=\"data row1 col9\" >0</td>\n",
       "      <td id=\"T_5eed2_row1_col10\" class=\"data row1 col10\" >Barnase</td>\n",
       "    </tr>\n",
       "    <tr>\n",
       "      <td id=\"T_5eed2_row2_col0\" class=\"data row2 col0\" >244</td>\n",
       "      <td id=\"T_5eed2_row2_col1\" class=\"data row2 col1\" >29</td>\n",
       "      <td id=\"T_5eed2_row2_col2\" class=\"data row2 col2\" >GLU</td>\n",
       "      <td id=\"T_5eed2_row2_col3\" class=\"data row2 col3\" >aminoacid</td>\n",
       "      <td id=\"T_5eed2_row2_col4\" class=\"data row2 col4\" >6</td>\n",
       "      <td id=\"T_5eed2_row2_col5\" class=\"data row2 col5\" >2</td>\n",
       "      <td id=\"T_5eed2_row2_col6\" class=\"data row2 col6\" >2</td>\n",
       "      <td id=\"T_5eed2_row2_col7\" class=\"data row2 col7\" >2</td>\n",
       "      <td id=\"T_5eed2_row2_col8\" class=\"data row2 col8\" >protein</td>\n",
       "      <td id=\"T_5eed2_row2_col9\" class=\"data row2 col9\" >0</td>\n",
       "      <td id=\"T_5eed2_row2_col10\" class=\"data row2 col10\" >Barnase</td>\n",
       "    </tr>\n",
       "    <tr>\n",
       "      <td id=\"T_5eed2_row3_col0\" class=\"data row3 col0\" >246</td>\n",
       "      <td id=\"T_5eed2_row3_col1\" class=\"data row3 col1\" >31</td>\n",
       "      <td id=\"T_5eed2_row3_col2\" class=\"data row3 col2\" >GLN</td>\n",
       "      <td id=\"T_5eed2_row3_col3\" class=\"data row3 col3\" >aminoacid</td>\n",
       "      <td id=\"T_5eed2_row3_col4\" class=\"data row3 col4\" >5</td>\n",
       "      <td id=\"T_5eed2_row3_col5\" class=\"data row3 col5\" >2</td>\n",
       "      <td id=\"T_5eed2_row3_col6\" class=\"data row3 col6\" >2</td>\n",
       "      <td id=\"T_5eed2_row3_col7\" class=\"data row3 col7\" >2</td>\n",
       "      <td id=\"T_5eed2_row3_col8\" class=\"data row3 col8\" >protein</td>\n",
       "      <td id=\"T_5eed2_row3_col9\" class=\"data row3 col9\" >0</td>\n",
       "      <td id=\"T_5eed2_row3_col10\" class=\"data row3 col10\" >Barnase</td>\n",
       "    </tr>\n",
       "    <tr>\n",
       "      <td id=\"T_5eed2_row4_col0\" class=\"data row4 col0\" >254</td>\n",
       "      <td id=\"T_5eed2_row4_col1\" class=\"data row4 col1\" >39</td>\n",
       "      <td id=\"T_5eed2_row4_col2\" class=\"data row4 col2\" >LYS</td>\n",
       "      <td id=\"T_5eed2_row4_col3\" class=\"data row4 col3\" >aminoacid</td>\n",
       "      <td id=\"T_5eed2_row4_col4\" class=\"data row4 col4\" >6</td>\n",
       "      <td id=\"T_5eed2_row4_col5\" class=\"data row4 col5\" >2</td>\n",
       "      <td id=\"T_5eed2_row4_col6\" class=\"data row4 col6\" >2</td>\n",
       "      <td id=\"T_5eed2_row4_col7\" class=\"data row4 col7\" >2</td>\n",
       "      <td id=\"T_5eed2_row4_col8\" class=\"data row4 col8\" >protein</td>\n",
       "      <td id=\"T_5eed2_row4_col9\" class=\"data row4 col9\" >0</td>\n",
       "      <td id=\"T_5eed2_row4_col10\" class=\"data row4 col10\" >Barnase</td>\n",
       "    </tr>\n",
       "    <tr>\n",
       "      <td id=\"T_5eed2_row5_col0\" class=\"data row5 col0\" >260</td>\n",
       "      <td id=\"T_5eed2_row5_col1\" class=\"data row5 col1\" >45</td>\n",
       "      <td id=\"T_5eed2_row5_col2\" class=\"data row5 col2\" >VAL</td>\n",
       "      <td id=\"T_5eed2_row5_col3\" class=\"data row5 col3\" >aminoacid</td>\n",
       "      <td id=\"T_5eed2_row5_col4\" class=\"data row5 col4\" >5</td>\n",
       "      <td id=\"T_5eed2_row5_col5\" class=\"data row5 col5\" >2</td>\n",
       "      <td id=\"T_5eed2_row5_col6\" class=\"data row5 col6\" >2</td>\n",
       "      <td id=\"T_5eed2_row5_col7\" class=\"data row5 col7\" >2</td>\n",
       "      <td id=\"T_5eed2_row5_col8\" class=\"data row5 col8\" >protein</td>\n",
       "      <td id=\"T_5eed2_row5_col9\" class=\"data row5 col9\" >0</td>\n",
       "      <td id=\"T_5eed2_row5_col10\" class=\"data row5 col10\" >Barnase</td>\n",
       "    </tr>\n",
       "    <tr>\n",
       "      <td id=\"T_5eed2_row6_col0\" class=\"data row6 col0\" >264</td>\n",
       "      <td id=\"T_5eed2_row6_col1\" class=\"data row6 col1\" >49</td>\n",
       "      <td id=\"T_5eed2_row6_col2\" class=\"data row6 col2\" >LYS</td>\n",
       "      <td id=\"T_5eed2_row6_col3\" class=\"data row6 col3\" >aminoacid</td>\n",
       "      <td id=\"T_5eed2_row6_col4\" class=\"data row6 col4\" >5</td>\n",
       "      <td id=\"T_5eed2_row6_col5\" class=\"data row6 col5\" >2</td>\n",
       "      <td id=\"T_5eed2_row6_col6\" class=\"data row6 col6\" >2</td>\n",
       "      <td id=\"T_5eed2_row6_col7\" class=\"data row6 col7\" >2</td>\n",
       "      <td id=\"T_5eed2_row6_col8\" class=\"data row6 col8\" >protein</td>\n",
       "      <td id=\"T_5eed2_row6_col9\" class=\"data row6 col9\" >0</td>\n",
       "      <td id=\"T_5eed2_row6_col10\" class=\"data row6 col10\" >Barnase</td>\n",
       "    </tr>\n",
       "    <tr>\n",
       "      <td id=\"T_5eed2_row7_col0\" class=\"data row7 col0\" >282</td>\n",
       "      <td id=\"T_5eed2_row7_col1\" class=\"data row7 col1\" >67</td>\n",
       "      <td id=\"T_5eed2_row7_col2\" class=\"data row7 col2\" >SER</td>\n",
       "      <td id=\"T_5eed2_row7_col3\" class=\"data row7 col3\" >aminoacid</td>\n",
       "      <td id=\"T_5eed2_row7_col4\" class=\"data row7 col4\" >5</td>\n",
       "      <td id=\"T_5eed2_row7_col5\" class=\"data row7 col5\" >2</td>\n",
       "      <td id=\"T_5eed2_row7_col6\" class=\"data row7 col6\" >2</td>\n",
       "      <td id=\"T_5eed2_row7_col7\" class=\"data row7 col7\" >2</td>\n",
       "      <td id=\"T_5eed2_row7_col8\" class=\"data row7 col8\" >protein</td>\n",
       "      <td id=\"T_5eed2_row7_col9\" class=\"data row7 col9\" >0</td>\n",
       "      <td id=\"T_5eed2_row7_col10\" class=\"data row7 col10\" >Barnase</td>\n",
       "    </tr>\n",
       "    <tr>\n",
       "      <td id=\"T_5eed2_row8_col0\" class=\"data row8 col0\" >325</td>\n",
       "      <td id=\"T_5eed2_row8_col1\" class=\"data row8 col1\" >110</td>\n",
       "      <td id=\"T_5eed2_row8_col2\" class=\"data row8 col2\" >ARG</td>\n",
       "      <td id=\"T_5eed2_row8_col3\" class=\"data row8 col3\" >aminoacid</td>\n",
       "      <td id=\"T_5eed2_row8_col4\" class=\"data row8 col4\" >11</td>\n",
       "      <td id=\"T_5eed2_row8_col5\" class=\"data row8 col5\" >2</td>\n",
       "      <td id=\"T_5eed2_row8_col6\" class=\"data row8 col6\" >2</td>\n",
       "      <td id=\"T_5eed2_row8_col7\" class=\"data row8 col7\" >2</td>\n",
       "      <td id=\"T_5eed2_row8_col8\" class=\"data row8 col8\" >protein</td>\n",
       "      <td id=\"T_5eed2_row8_col9\" class=\"data row8 col9\" >0</td>\n",
       "      <td id=\"T_5eed2_row8_col10\" class=\"data row8 col10\" >Barnase</td>\n",
       "    </tr>\n",
       "    <tr>\n",
       "      <td id=\"T_5eed2_row9_col0\" class=\"data row9 col0\" >383</td>\n",
       "      <td id=\"T_5eed2_row9_col1\" class=\"data row9 col1\" >58</td>\n",
       "      <td id=\"T_5eed2_row9_col2\" class=\"data row9 col2\" >GLN</td>\n",
       "      <td id=\"T_5eed2_row9_col3\" class=\"data row9 col3\" >aminoacid</td>\n",
       "      <td id=\"T_5eed2_row9_col4\" class=\"data row9 col4\" >7</td>\n",
       "      <td id=\"T_5eed2_row9_col5\" class=\"data row9 col5\" >3</td>\n",
       "      <td id=\"T_5eed2_row9_col6\" class=\"data row9 col6\" >3</td>\n",
       "      <td id=\"T_5eed2_row9_col7\" class=\"data row9 col7\" >3</td>\n",
       "      <td id=\"T_5eed2_row9_col8\" class=\"data row9 col8\" >protein</td>\n",
       "      <td id=\"T_5eed2_row9_col9\" class=\"data row9 col9\" >1</td>\n",
       "      <td id=\"T_5eed2_row9_col10\" class=\"data row9 col10\" >Barstar</td>\n",
       "    </tr>\n",
       "    <tr>\n",
       "      <td id=\"T_5eed2_row10_col0\" class=\"data row10 col0\" >385</td>\n",
       "      <td id=\"T_5eed2_row10_col1\" class=\"data row10 col1\" >60</td>\n",
       "      <td id=\"T_5eed2_row10_col2\" class=\"data row10 col2\" >LYS</td>\n",
       "      <td id=\"T_5eed2_row10_col3\" class=\"data row10 col3\" >aminoacid</td>\n",
       "      <td id=\"T_5eed2_row10_col4\" class=\"data row10 col4\" >8</td>\n",
       "      <td id=\"T_5eed2_row10_col5\" class=\"data row10 col5\" >3</td>\n",
       "      <td id=\"T_5eed2_row10_col6\" class=\"data row10 col6\" >3</td>\n",
       "      <td id=\"T_5eed2_row10_col7\" class=\"data row10 col7\" >3</td>\n",
       "      <td id=\"T_5eed2_row10_col8\" class=\"data row10 col8\" >protein</td>\n",
       "      <td id=\"T_5eed2_row10_col9\" class=\"data row10 col9\" >1</td>\n",
       "      <td id=\"T_5eed2_row10_col10\" class=\"data row10 col10\" >Barstar</td>\n",
       "    </tr>\n",
       "    <tr>\n",
       "      <td id=\"T_5eed2_row11_col0\" class=\"data row11 col0\" >386</td>\n",
       "      <td id=\"T_5eed2_row11_col1\" class=\"data row11 col1\" >61</td>\n",
       "      <td id=\"T_5eed2_row11_col2\" class=\"data row11 col2\" >GLN</td>\n",
       "      <td id=\"T_5eed2_row11_col3\" class=\"data row11 col3\" >aminoacid</td>\n",
       "      <td id=\"T_5eed2_row11_col4\" class=\"data row11 col4\" >5</td>\n",
       "      <td id=\"T_5eed2_row11_col5\" class=\"data row11 col5\" >3</td>\n",
       "      <td id=\"T_5eed2_row11_col6\" class=\"data row11 col6\" >3</td>\n",
       "      <td id=\"T_5eed2_row11_col7\" class=\"data row11 col7\" >3</td>\n",
       "      <td id=\"T_5eed2_row11_col8\" class=\"data row11 col8\" >protein</td>\n",
       "      <td id=\"T_5eed2_row11_col9\" class=\"data row11 col9\" >1</td>\n",
       "      <td id=\"T_5eed2_row11_col10\" class=\"data row11 col10\" >Barstar</td>\n",
       "    </tr>\n",
       "    <tr>\n",
       "      <td id=\"T_5eed2_row12_col0\" class=\"data row12 col0\" >422</td>\n",
       "      <td id=\"T_5eed2_row12_col1\" class=\"data row12 col1\" >11</td>\n",
       "      <td id=\"T_5eed2_row12_col2\" class=\"data row12 col2\" >ARG</td>\n",
       "      <td id=\"T_5eed2_row12_col3\" class=\"data row12 col3\" >aminoacid</td>\n",
       "      <td id=\"T_5eed2_row12_col4\" class=\"data row12 col4\" >7</td>\n",
       "      <td id=\"T_5eed2_row12_col5\" class=\"data row12 col5\" >5</td>\n",
       "      <td id=\"T_5eed2_row12_col6\" class=\"data row12 col6\" >4</td>\n",
       "      <td id=\"T_5eed2_row12_col7\" class=\"data row12 col7\" >4</td>\n",
       "      <td id=\"T_5eed2_row12_col8\" class=\"data row12 col8\" >protein</td>\n",
       "      <td id=\"T_5eed2_row12_col9\" class=\"data row12 col9\" >1</td>\n",
       "      <td id=\"T_5eed2_row12_col10\" class=\"data row12 col10\" >Barstar</td>\n",
       "    </tr>\n",
       "    <tr>\n",
       "      <td id=\"T_5eed2_row13_col0\" class=\"data row13 col0\" >429</td>\n",
       "      <td id=\"T_5eed2_row13_col1\" class=\"data row13 col1\" >18</td>\n",
       "      <td id=\"T_5eed2_row13_col2\" class=\"data row13 col2\" >GLN</td>\n",
       "      <td id=\"T_5eed2_row13_col3\" class=\"data row13 col3\" >aminoacid</td>\n",
       "      <td id=\"T_5eed2_row13_col4\" class=\"data row13 col4\" >5</td>\n",
       "      <td id=\"T_5eed2_row13_col5\" class=\"data row13 col5\" >5</td>\n",
       "      <td id=\"T_5eed2_row13_col6\" class=\"data row13 col6\" >4</td>\n",
       "      <td id=\"T_5eed2_row13_col7\" class=\"data row13 col7\" >4</td>\n",
       "      <td id=\"T_5eed2_row13_col8\" class=\"data row13 col8\" >protein</td>\n",
       "      <td id=\"T_5eed2_row13_col9\" class=\"data row13 col9\" >1</td>\n",
       "      <td id=\"T_5eed2_row13_col10\" class=\"data row13 col10\" >Barstar</td>\n",
       "    </tr>\n",
       "    <tr>\n",
       "      <td id=\"T_5eed2_row14_col0\" class=\"data row14 col0\" >465</td>\n",
       "      <td id=\"T_5eed2_row14_col1\" class=\"data row14 col1\" >54</td>\n",
       "      <td id=\"T_5eed2_row14_col2\" class=\"data row14 col2\" >ARG</td>\n",
       "      <td id=\"T_5eed2_row14_col3\" class=\"data row14 col3\" >aminoacid</td>\n",
       "      <td id=\"T_5eed2_row14_col4\" class=\"data row14 col4\" >7</td>\n",
       "      <td id=\"T_5eed2_row14_col5\" class=\"data row14 col5\" >5</td>\n",
       "      <td id=\"T_5eed2_row14_col6\" class=\"data row14 col6\" >4</td>\n",
       "      <td id=\"T_5eed2_row14_col7\" class=\"data row14 col7\" >4</td>\n",
       "      <td id=\"T_5eed2_row14_col8\" class=\"data row14 col8\" >protein</td>\n",
       "      <td id=\"T_5eed2_row14_col9\" class=\"data row14 col9\" >1</td>\n",
       "      <td id=\"T_5eed2_row14_col10\" class=\"data row14 col10\" >Barstar</td>\n",
       "    </tr>\n",
       "    <tr>\n",
       "      <td id=\"T_5eed2_row15_col0\" class=\"data row15 col0\" >469</td>\n",
       "      <td id=\"T_5eed2_row15_col1\" class=\"data row15 col1\" >58</td>\n",
       "      <td id=\"T_5eed2_row15_col2\" class=\"data row15 col2\" >GLN</td>\n",
       "      <td id=\"T_5eed2_row15_col3\" class=\"data row15 col3\" >aminoacid</td>\n",
       "      <td id=\"T_5eed2_row15_col4\" class=\"data row15 col4\" >5</td>\n",
       "      <td id=\"T_5eed2_row15_col5\" class=\"data row15 col5\" >5</td>\n",
       "      <td id=\"T_5eed2_row15_col6\" class=\"data row15 col6\" >4</td>\n",
       "      <td id=\"T_5eed2_row15_col7\" class=\"data row15 col7\" >4</td>\n",
       "      <td id=\"T_5eed2_row15_col8\" class=\"data row15 col8\" >protein</td>\n",
       "      <td id=\"T_5eed2_row15_col9\" class=\"data row15 col9\" >1</td>\n",
       "      <td id=\"T_5eed2_row15_col10\" class=\"data row15 col10\" >Barstar</td>\n",
       "    </tr>\n",
       "    <tr>\n",
       "      <td id=\"T_5eed2_row16_col0\" class=\"data row16 col0\" >471</td>\n",
       "      <td id=\"T_5eed2_row16_col1\" class=\"data row16 col1\" >60</td>\n",
       "      <td id=\"T_5eed2_row16_col2\" class=\"data row16 col2\" >LYS</td>\n",
       "      <td id=\"T_5eed2_row16_col3\" class=\"data row16 col3\" >aminoacid</td>\n",
       "      <td id=\"T_5eed2_row16_col4\" class=\"data row16 col4\" >5</td>\n",
       "      <td id=\"T_5eed2_row16_col5\" class=\"data row16 col5\" >5</td>\n",
       "      <td id=\"T_5eed2_row16_col6\" class=\"data row16 col6\" >4</td>\n",
       "      <td id=\"T_5eed2_row16_col7\" class=\"data row16 col7\" >4</td>\n",
       "      <td id=\"T_5eed2_row16_col8\" class=\"data row16 col8\" >protein</td>\n",
       "      <td id=\"T_5eed2_row16_col9\" class=\"data row16 col9\" >1</td>\n",
       "      <td id=\"T_5eed2_row16_col10\" class=\"data row16 col10\" >Barstar</td>\n",
       "    </tr>\n",
       "    <tr>\n",
       "      <td id=\"T_5eed2_row17_col0\" class=\"data row17 col0\" >472</td>\n",
       "      <td id=\"T_5eed2_row17_col1\" class=\"data row17 col1\" >61</td>\n",
       "      <td id=\"T_5eed2_row17_col2\" class=\"data row17 col2\" >GLN</td>\n",
       "      <td id=\"T_5eed2_row17_col3\" class=\"data row17 col3\" >aminoacid</td>\n",
       "      <td id=\"T_5eed2_row17_col4\" class=\"data row17 col4\" >5</td>\n",
       "      <td id=\"T_5eed2_row17_col5\" class=\"data row17 col5\" >5</td>\n",
       "      <td id=\"T_5eed2_row17_col6\" class=\"data row17 col6\" >4</td>\n",
       "      <td id=\"T_5eed2_row17_col7\" class=\"data row17 col7\" >4</td>\n",
       "      <td id=\"T_5eed2_row17_col8\" class=\"data row17 col8\" >protein</td>\n",
       "      <td id=\"T_5eed2_row17_col9\" class=\"data row17 col9\" >1</td>\n",
       "      <td id=\"T_5eed2_row17_col10\" class=\"data row17 col10\" >Barstar</td>\n",
       "    </tr>\n",
       "    <tr>\n",
       "      <td id=\"T_5eed2_row18_col0\" class=\"data row18 col0\" >473</td>\n",
       "      <td id=\"T_5eed2_row18_col1\" class=\"data row18 col1\" >62</td>\n",
       "      <td id=\"T_5eed2_row18_col2\" class=\"data row18 col2\" >LEU</td>\n",
       "      <td id=\"T_5eed2_row18_col3\" class=\"data row18 col3\" >aminoacid</td>\n",
       "      <td id=\"T_5eed2_row18_col4\" class=\"data row18 col4\" >5</td>\n",
       "      <td id=\"T_5eed2_row18_col5\" class=\"data row18 col5\" >5</td>\n",
       "      <td id=\"T_5eed2_row18_col6\" class=\"data row18 col6\" >4</td>\n",
       "      <td id=\"T_5eed2_row18_col7\" class=\"data row18 col7\" >4</td>\n",
       "      <td id=\"T_5eed2_row18_col8\" class=\"data row18 col8\" >protein</td>\n",
       "      <td id=\"T_5eed2_row18_col9\" class=\"data row18 col9\" >1</td>\n",
       "      <td id=\"T_5eed2_row18_col10\" class=\"data row18 col10\" >Barstar</td>\n",
       "    </tr>\n",
       "    <tr>\n",
       "      <td id=\"T_5eed2_row19_col0\" class=\"data row19 col0\" >520</td>\n",
       "      <td id=\"T_5eed2_row19_col1\" class=\"data row19 col1\" >22</td>\n",
       "      <td id=\"T_5eed2_row19_col2\" class=\"data row19 col2\" >LYS</td>\n",
       "      <td id=\"T_5eed2_row19_col3\" class=\"data row19 col3\" >aminoacid</td>\n",
       "      <td id=\"T_5eed2_row19_col4\" class=\"data row19 col4\" >6</td>\n",
       "      <td id=\"T_5eed2_row19_col5\" class=\"data row19 col5\" >7</td>\n",
       "      <td id=\"T_5eed2_row19_col6\" class=\"data row19 col6\" >5</td>\n",
       "      <td id=\"T_5eed2_row19_col7\" class=\"data row19 col7\" >5</td>\n",
       "      <td id=\"T_5eed2_row19_col8\" class=\"data row19 col8\" >protein</td>\n",
       "      <td id=\"T_5eed2_row19_col9\" class=\"data row19 col9\" >1</td>\n",
       "      <td id=\"T_5eed2_row19_col10\" class=\"data row19 col10\" >Barstar</td>\n",
       "    </tr>\n",
       "    <tr>\n",
       "      <td id=\"T_5eed2_row20_col0\" class=\"data row20 col0\" >526</td>\n",
       "      <td id=\"T_5eed2_row20_col1\" class=\"data row20 col1\" >28</td>\n",
       "      <td id=\"T_5eed2_row20_col2\" class=\"data row20 col2\" >GLU</td>\n",
       "      <td id=\"T_5eed2_row20_col3\" class=\"data row20 col3\" >aminoacid</td>\n",
       "      <td id=\"T_5eed2_row20_col4\" class=\"data row20 col4\" >5</td>\n",
       "      <td id=\"T_5eed2_row20_col5\" class=\"data row20 col5\" >7</td>\n",
       "      <td id=\"T_5eed2_row20_col6\" class=\"data row20 col6\" >5</td>\n",
       "      <td id=\"T_5eed2_row20_col7\" class=\"data row20 col7\" >5</td>\n",
       "      <td id=\"T_5eed2_row20_col8\" class=\"data row20 col8\" >protein</td>\n",
       "      <td id=\"T_5eed2_row20_col9\" class=\"data row20 col9\" >1</td>\n",
       "      <td id=\"T_5eed2_row20_col10\" class=\"data row20 col10\" >Barstar</td>\n",
       "    </tr>\n",
       "    <tr>\n",
       "      <td id=\"T_5eed2_row21_col0\" class=\"data row21 col0\" >544</td>\n",
       "      <td id=\"T_5eed2_row21_col1\" class=\"data row21 col1\" >46</td>\n",
       "      <td id=\"T_5eed2_row21_col2\" class=\"data row21 col2\" >GLU</td>\n",
       "      <td id=\"T_5eed2_row21_col3\" class=\"data row21 col3\" >aminoacid</td>\n",
       "      <td id=\"T_5eed2_row21_col4\" class=\"data row21 col4\" >5</td>\n",
       "      <td id=\"T_5eed2_row21_col5\" class=\"data row21 col5\" >7</td>\n",
       "      <td id=\"T_5eed2_row21_col6\" class=\"data row21 col6\" >5</td>\n",
       "      <td id=\"T_5eed2_row21_col7\" class=\"data row21 col7\" >5</td>\n",
       "      <td id=\"T_5eed2_row21_col8\" class=\"data row21 col8\" >protein</td>\n",
       "      <td id=\"T_5eed2_row21_col9\" class=\"data row21 col9\" >1</td>\n",
       "      <td id=\"T_5eed2_row21_col10\" class=\"data row21 col10\" >Barstar</td>\n",
       "    </tr>\n",
       "    <tr>\n",
       "      <td id=\"T_5eed2_row22_col0\" class=\"data row22 col0\" >562</td>\n",
       "      <td id=\"T_5eed2_row22_col1\" class=\"data row22 col1\" >64</td>\n",
       "      <td id=\"T_5eed2_row22_col2\" class=\"data row22 col2\" >GLU</td>\n",
       "      <td id=\"T_5eed2_row22_col3\" class=\"data row22 col3\" >aminoacid</td>\n",
       "      <td id=\"T_5eed2_row22_col4\" class=\"data row22 col4\" >5</td>\n",
       "      <td id=\"T_5eed2_row22_col5\" class=\"data row22 col5\" >7</td>\n",
       "      <td id=\"T_5eed2_row22_col6\" class=\"data row22 col6\" >5</td>\n",
       "      <td id=\"T_5eed2_row22_col7\" class=\"data row22 col7\" >5</td>\n",
       "      <td id=\"T_5eed2_row22_col8\" class=\"data row22 col8\" >protein</td>\n",
       "      <td id=\"T_5eed2_row22_col9\" class=\"data row22 col9\" >1</td>\n",
       "      <td id=\"T_5eed2_row22_col10\" class=\"data row22 col10\" >Barstar</td>\n",
       "    </tr>\n",
       "    <tr>\n",
       "      <td id=\"T_5eed2_row23_col0\" class=\"data row23 col0\" >563</td>\n",
       "      <td id=\"T_5eed2_row23_col1\" class=\"data row23 col1\" >65</td>\n",
       "      <td id=\"T_5eed2_row23_col2\" class=\"data row23 col2\" >ASN</td>\n",
       "      <td id=\"T_5eed2_row23_col3\" class=\"data row23 col3\" >aminoacid</td>\n",
       "      <td id=\"T_5eed2_row23_col4\" class=\"data row23 col4\" >5</td>\n",
       "      <td id=\"T_5eed2_row23_col5\" class=\"data row23 col5\" >7</td>\n",
       "      <td id=\"T_5eed2_row23_col6\" class=\"data row23 col6\" >5</td>\n",
       "      <td id=\"T_5eed2_row23_col7\" class=\"data row23 col7\" >5</td>\n",
       "      <td id=\"T_5eed2_row23_col8\" class=\"data row23 col8\" >protein</td>\n",
       "      <td id=\"T_5eed2_row23_col9\" class=\"data row23 col9\" >1</td>\n",
       "      <td id=\"T_5eed2_row23_col10\" class=\"data row23 col10\" >Barstar</td>\n",
       "    </tr>\n",
       "    <tr>\n",
       "      <td id=\"T_5eed2_row24_col0\" class=\"data row24 col0\" >587</td>\n",
       "      <td id=\"T_5eed2_row24_col1\" class=\"data row24 col1\" >89</td>\n",
       "      <td id=\"T_5eed2_row24_col2\" class=\"data row24 col2\" >SER</td>\n",
       "      <td id=\"T_5eed2_row24_col3\" class=\"data row24 col3\" >aminoacid</td>\n",
       "      <td id=\"T_5eed2_row24_col4\" class=\"data row24 col4\" >6</td>\n",
       "      <td id=\"T_5eed2_row24_col5\" class=\"data row24 col5\" >7</td>\n",
       "      <td id=\"T_5eed2_row24_col6\" class=\"data row24 col6\" >5</td>\n",
       "      <td id=\"T_5eed2_row24_col7\" class=\"data row24 col7\" >5</td>\n",
       "      <td id=\"T_5eed2_row24_col8\" class=\"data row24 col8\" >protein</td>\n",
       "      <td id=\"T_5eed2_row24_col9\" class=\"data row24 col9\" >1</td>\n",
       "      <td id=\"T_5eed2_row24_col10\" class=\"data row24 col10\" >Barstar</td>\n",
       "    </tr>\n",
       "  </tbody>\n",
       "</table>\n"
      ],
      "text/plain": [
       "<pandas.io.formats.style.Styler at 0x7f5b8865e150>"
      ]
     },
     "execution_count": 12,
     "metadata": {},
     "output_type": "execute_result"
    }
   ],
   "source": [
    "msm.info(molsys, target='group', indices=list(missing_atoms.keys()))"
   ]
  },
  {
   "cell_type": "code",
   "execution_count": 13,
   "id": "0fb80b1d-0903-4d85-aa39-7f0e833a4460",
   "metadata": {},
   "outputs": [
    {
     "data": {
      "text/plain": [
       "[[108, 110, 108, 63, 24, 62, 24, 89],\n",
       " array(['A', 'B', 'C', 'D', 'D', 'E', 'E', 'F'], dtype=object)]"
      ]
     },
     "execution_count": 13,
     "metadata": {},
     "output_type": "execute_result"
    }
   ],
   "source": [
    "msm.get(molsys, target='component', n_groups=True, chain_name=True)"
   ]
  },
  {
   "cell_type": "code",
   "execution_count": 14,
   "id": "df420ee8-386c-406d-a391-2dcc8982f86e",
   "metadata": {},
   "outputs": [
    {
     "name": "stderr",
     "output_type": "stream",
     "text": [
      "Warning: importing 'simtk.openmm' is deprecated.  Import 'openmm' instead.\n"
     ]
    }
   ],
   "source": [
    "molsys2 = msm.build.add_missing_heavy_atoms(molsys)"
   ]
  },
  {
   "cell_type": "code",
   "execution_count": 15,
   "id": "21f1d028-b04d-45cf-9cdf-a36e27b4a1a5",
   "metadata": {},
   "outputs": [
    {
     "data": {
      "text/plain": [
       "[[108, 110, 108, 63, 24, 62, 24, 89],\n",
       " array(['A', 'B', 'C', 'D', 'D', 'E', 'E', 'F'], dtype=object)]"
      ]
     },
     "execution_count": 15,
     "metadata": {},
     "output_type": "execute_result"
    }
   ],
   "source": [
    "msm.get(molsys, target='component', n_groups=True, chain_name=True)"
   ]
  },
  {
   "cell_type": "code",
   "execution_count": 16,
   "id": "e9d7d8d9-5ca8-4b7f-bcbf-4c9661e2eed6",
   "metadata": {},
   "outputs": [
    {
     "data": {
      "text/html": [
       "<style type=\"text/css\">\n",
       "</style>\n",
       "<table id=\"T_19304_\">\n",
       "  <thead>\n",
       "    <tr>\n",
       "      <th class=\"col_heading level0 col0\" >index</th>\n",
       "      <th class=\"col_heading level0 col1\" >n atoms</th>\n",
       "      <th class=\"col_heading level0 col2\" >n groups</th>\n",
       "      <th class=\"col_heading level0 col3\" >chain index</th>\n",
       "      <th class=\"col_heading level0 col4\" >molecule index</th>\n",
       "      <th class=\"col_heading level0 col5\" >molecule type</th>\n",
       "      <th class=\"col_heading level0 col6\" >entity index</th>\n",
       "      <th class=\"col_heading level0 col7\" >entity name</th>\n",
       "    </tr>\n",
       "  </thead>\n",
       "  <tbody>\n",
       "    <tr>\n",
       "      <td id=\"T_19304_row0_col0\" class=\"data row0 col0\" >0</td>\n",
       "      <td id=\"T_19304_row0_col1\" class=\"data row0 col1\" >864</td>\n",
       "      <td id=\"T_19304_row0_col2\" class=\"data row0 col2\" >108</td>\n",
       "      <td id=\"T_19304_row0_col3\" class=\"data row0 col3\" >0</td>\n",
       "      <td id=\"T_19304_row0_col4\" class=\"data row0 col4\" >0</td>\n",
       "      <td id=\"T_19304_row0_col5\" class=\"data row0 col5\" >protein</td>\n",
       "      <td id=\"T_19304_row0_col6\" class=\"data row0 col6\" >0</td>\n",
       "      <td id=\"T_19304_row0_col7\" class=\"data row0 col7\" >Barnase</td>\n",
       "    </tr>\n",
       "    <tr>\n",
       "      <td id=\"T_19304_row1_col0\" class=\"data row1 col0\" >1</td>\n",
       "      <td id=\"T_19304_row1_col1\" class=\"data row1 col1\" >878</td>\n",
       "      <td id=\"T_19304_row1_col2\" class=\"data row1 col2\" >110</td>\n",
       "      <td id=\"T_19304_row1_col3\" class=\"data row1 col3\" >1</td>\n",
       "      <td id=\"T_19304_row1_col4\" class=\"data row1 col4\" >1</td>\n",
       "      <td id=\"T_19304_row1_col5\" class=\"data row1 col5\" >protein</td>\n",
       "      <td id=\"T_19304_row1_col6\" class=\"data row1 col6\" >0</td>\n",
       "      <td id=\"T_19304_row1_col7\" class=\"data row1 col7\" >Barnase</td>\n",
       "    </tr>\n",
       "    <tr>\n",
       "      <td id=\"T_19304_row2_col0\" class=\"data row2 col0\" >2</td>\n",
       "      <td id=\"T_19304_row2_col1\" class=\"data row2 col1\" >839</td>\n",
       "      <td id=\"T_19304_row2_col2\" class=\"data row2 col2\" >108</td>\n",
       "      <td id=\"T_19304_row2_col3\" class=\"data row2 col3\" >2</td>\n",
       "      <td id=\"T_19304_row2_col4\" class=\"data row2 col4\" >2</td>\n",
       "      <td id=\"T_19304_row2_col5\" class=\"data row2 col5\" >protein</td>\n",
       "      <td id=\"T_19304_row2_col6\" class=\"data row2 col6\" >0</td>\n",
       "      <td id=\"T_19304_row2_col7\" class=\"data row2 col7\" >Barnase</td>\n",
       "    </tr>\n",
       "    <tr>\n",
       "      <td id=\"T_19304_row3_col0\" class=\"data row3 col0\" >3</td>\n",
       "      <td id=\"T_19304_row3_col1\" class=\"data row3 col1\" >519</td>\n",
       "      <td id=\"T_19304_row3_col2\" class=\"data row3 col2\" >63</td>\n",
       "      <td id=\"T_19304_row3_col3\" class=\"data row3 col3\" >3</td>\n",
       "      <td id=\"T_19304_row3_col4\" class=\"data row3 col4\" >3</td>\n",
       "      <td id=\"T_19304_row3_col5\" class=\"data row3 col5\" >protein</td>\n",
       "      <td id=\"T_19304_row3_col6\" class=\"data row3 col6\" >1</td>\n",
       "      <td id=\"T_19304_row3_col7\" class=\"data row3 col7\" >Barstar</td>\n",
       "    </tr>\n",
       "    <tr>\n",
       "      <td id=\"T_19304_row4_col0\" class=\"data row4 col0\" >4</td>\n",
       "      <td id=\"T_19304_row4_col1\" class=\"data row4 col1\" >176</td>\n",
       "      <td id=\"T_19304_row4_col2\" class=\"data row4 col2\" >24</td>\n",
       "      <td id=\"T_19304_row4_col3\" class=\"data row4 col3\" >3</td>\n",
       "      <td id=\"T_19304_row4_col4\" class=\"data row4 col4\" >3</td>\n",
       "      <td id=\"T_19304_row4_col5\" class=\"data row4 col5\" >protein</td>\n",
       "      <td id=\"T_19304_row4_col6\" class=\"data row4 col6\" >1</td>\n",
       "      <td id=\"T_19304_row4_col7\" class=\"data row4 col7\" >Barstar</td>\n",
       "    </tr>\n",
       "    <tr>\n",
       "      <td id=\"T_19304_row5_col0\" class=\"data row5 col0\" >5</td>\n",
       "      <td id=\"T_19304_row5_col1\" class=\"data row5 col1\" >488</td>\n",
       "      <td id=\"T_19304_row5_col2\" class=\"data row5 col2\" >62</td>\n",
       "      <td id=\"T_19304_row5_col3\" class=\"data row5 col3\" >4</td>\n",
       "      <td id=\"T_19304_row5_col4\" class=\"data row5 col4\" >4</td>\n",
       "      <td id=\"T_19304_row5_col5\" class=\"data row5 col5\" >protein</td>\n",
       "      <td id=\"T_19304_row5_col6\" class=\"data row5 col6\" >1</td>\n",
       "      <td id=\"T_19304_row5_col7\" class=\"data row5 col7\" >Barstar</td>\n",
       "    </tr>\n",
       "    <tr>\n",
       "      <td id=\"T_19304_row6_col0\" class=\"data row6 col0\" >6</td>\n",
       "      <td id=\"T_19304_row6_col1\" class=\"data row6 col1\" >177</td>\n",
       "      <td id=\"T_19304_row6_col2\" class=\"data row6 col2\" >24</td>\n",
       "      <td id=\"T_19304_row6_col3\" class=\"data row6 col3\" >4</td>\n",
       "      <td id=\"T_19304_row6_col4\" class=\"data row6 col4\" >4</td>\n",
       "      <td id=\"T_19304_row6_col5\" class=\"data row6 col5\" >protein</td>\n",
       "      <td id=\"T_19304_row6_col6\" class=\"data row6 col6\" >1</td>\n",
       "      <td id=\"T_19304_row6_col7\" class=\"data row6 col7\" >Barstar</td>\n",
       "    </tr>\n",
       "    <tr>\n",
       "      <td id=\"T_19304_row7_col0\" class=\"data row7 col0\" >7</td>\n",
       "      <td id=\"T_19304_row7_col1\" class=\"data row7 col1\" >699</td>\n",
       "      <td id=\"T_19304_row7_col2\" class=\"data row7 col2\" >89</td>\n",
       "      <td id=\"T_19304_row7_col3\" class=\"data row7 col3\" >5</td>\n",
       "      <td id=\"T_19304_row7_col4\" class=\"data row7 col4\" >5</td>\n",
       "      <td id=\"T_19304_row7_col5\" class=\"data row7 col5\" >protein</td>\n",
       "      <td id=\"T_19304_row7_col6\" class=\"data row7 col6\" >1</td>\n",
       "      <td id=\"T_19304_row7_col7\" class=\"data row7 col7\" >Barstar</td>\n",
       "    </tr>\n",
       "  </tbody>\n",
       "</table>\n"
      ],
      "text/plain": [
       "<pandas.io.formats.style.Styler at 0x7f5b890f9890>"
      ]
     },
     "execution_count": 16,
     "metadata": {},
     "output_type": "execute_result"
    }
   ],
   "source": [
    "msm.info(molsys, target='component')"
   ]
  },
  {
   "cell_type": "code",
   "execution_count": 17,
   "id": "bb47a3fa-9de0-4843-b3c2-63d149329369",
   "metadata": {},
   "outputs": [],
   "source": [
    "#msm.info(molsys, target='atom', selection='component_index==4')"
   ]
  },
  {
   "cell_type": "code",
   "execution_count": 18,
   "id": "b8d7c084-710b-481c-a3ef-a9085c4f53f9",
   "metadata": {},
   "outputs": [],
   "source": [
    "#msm.info(molsys, target='atom', selection='component_index==5')"
   ]
  },
  {
   "cell_type": "code",
   "execution_count": 19,
   "id": "c3bc2560-1b58-4af2-b620-adfbcf66aa68",
   "metadata": {},
   "outputs": [
    {
     "data": {
      "application/vnd.jupyter.widget-view+json": {
       "model_id": "cd7a694f55984d8bb694deea0376ad6a",
       "version_major": 2,
       "version_minor": 0
      },
      "text/plain": [
       "NGLWidget()"
      ]
     },
     "metadata": {},
     "output_type": "display_data"
    }
   ],
   "source": [
    "msm.view(molsys)"
   ]
  },
  {
   "cell_type": "code",
   "execution_count": 20,
   "id": "227dfc02-e42a-4cfc-bece-f4f8bbc1dab4",
   "metadata": {},
   "outputs": [],
   "source": [
    "molsys_AD = msm.extract(molsys, selection='chain_name==[\"A\",\"D\"]')\n",
    "molsys_BE = msm.extract(molsys, selection='chain_name==[\"B\",\"E\"]')\n",
    "molsys_CF = msm.extract(molsys, selection='chain_name==[\"C\",\"F\"]')"
   ]
  },
  {
   "cell_type": "code",
   "execution_count": 21,
   "id": "866f1925-f8ab-44ae-92c5-cefd36964e81",
   "metadata": {},
   "outputs": [
    {
     "data": {
      "text/plain": [
       "('AQVINTFDGVADYLQTYHKLPDNYITKSEAQALGWVASKGNLADVAPGKSIGGDIFSNREGKLPGKSGRTWREADINYTSGFRNSDRILYSSDWLIYKTTDHYQTFTKIR-KAVINGEQIRSISDLHQTLKKELALPEYYGENLDALWDALTGWVEYPLVLEWRQFEQSKQLTGAESVLQVFREAKAEGADITIILS',\n",
       " '--VINTFDGVADYLQTYHKLPDNYITKSEAQALGWVASKGNLADVAPGKSIGGDIFSNREGKLPGKSGRTWREADINYTSGFRNSDRILYSSDWLIYKTTDHYQTFTKIRKKAVINGEQIRSISDLHQTLKKELALPEYYGENLDALWDALTGWVEYPLVLEWRQFEQSKQLTGAESVLQVFREAKAEGADITIILS')"
      ]
     },
     "execution_count": 21,
     "metadata": {},
     "output_type": "execute_result"
    }
   ],
   "source": [
    "msm.topology.get_sequence_alignment(molsys_BE, selection='all',\n",
    "                                    reference_molecular_system=molsys_AD,\n",
    "                                    reference_selection='all')"
   ]
  },
  {
   "cell_type": "code",
   "execution_count": 22,
   "id": "6be906f1-a311-4a0a-b2a9-35efb556ad06",
   "metadata": {},
   "outputs": [],
   "source": [
    "molsys_BE_over_AD = msm.structure.align(molsys_BE, reference_molecular_system=molsys_AD)"
   ]
  },
  {
   "cell_type": "code",
   "execution_count": 23,
   "id": "c2e4ddfa-9759-40ac-9ae3-fd24075f2a0d",
   "metadata": {},
   "outputs": [
    {
     "data": {
      "text/plain": [
       "False"
      ]
     },
     "execution_count": 23,
     "metadata": {},
     "output_type": "execute_result"
    }
   ],
   "source": [
    "msm.basic.are_multiple_molecular_systems(molsys_AD)"
   ]
  },
  {
   "cell_type": "code",
   "execution_count": 28,
   "id": "b46ee905-3723-4f26-8ef6-cdfeb994f2b5",
   "metadata": {},
   "outputs": [
    {
     "data": {
      "application/vnd.jupyter.widget-view+json": {
       "model_id": "1dbbccf97f334bb8b5a621432dabfa1d",
       "version_major": 2,
       "version_minor": 0
      },
      "text/plain": [
       "NGLWidget()"
      ]
     },
     "metadata": {},
     "output_type": "display_data"
    }
   ],
   "source": [
    "msm.view([molsys_AD, molsys_BE_over_AD])"
   ]
  },
  {
   "cell_type": "code",
   "execution_count": 29,
   "id": "f77e3a68-ce9e-4ee4-ab52-9953e4a75dc2",
   "metadata": {},
   "outputs": [],
   "source": [
    "aa, bb, cc = msm.topology.get_sequence_identity(molsys_CF, selection='all', reference_molecular_system=molsys_AD,\n",
    "                                  reference_selection='all')"
   ]
  },
  {
   "cell_type": "code",
   "execution_count": 30,
   "id": "7d2cb8dc-2a7d-4756-84e2-e8facf263f5c",
   "metadata": {},
   "outputs": [
    {
     "data": {
      "text/plain": [
       "195"
      ]
     },
     "execution_count": 30,
     "metadata": {},
     "output_type": "execute_result"
    }
   ],
   "source": [
    "len(bb)"
   ]
  },
  {
   "cell_type": "code",
   "execution_count": 31,
   "id": "43ea6c77-75eb-46ba-a7d3-af5ab9d52e57",
   "metadata": {},
   "outputs": [
    {
     "data": {
      "text/plain": [
       "195"
      ]
     },
     "execution_count": 31,
     "metadata": {},
     "output_type": "execute_result"
    }
   ],
   "source": [
    "len(cc)"
   ]
  },
  {
   "cell_type": "code",
   "execution_count": 33,
   "id": "32f41973-d3c0-4daf-889a-5664f773bca8",
   "metadata": {},
   "outputs": [
    {
     "name": "stdout",
     "output_type": "stream",
     "text": [
      "['N-2571@828/ARG-110@107/C-C@0/Barnase@0', 'CA-2572@829/ARG-110@107/C-C@0/Barnase@0', 'C-2573@830/ARG-110@107/C-C@0/Barnase@0']\n",
      "['N-853@852/ARG-110@107/A-A@0/Barnase@0', 'CA-854@853/ARG-110@107/A-A@0/Barnase@0', 'C-855@854/ARG-110@107/A-A@0/Barnase@0', 'O-856@855/ARG-110@107/A-A@0/Barnase@0']\n",
      "['N-4635@1532/SER-89@196/F-F@1/Barstar@1', 'CA-4636@1533/SER-89@196/F-F@1/Barstar@1', 'C-4637@1534/SER-89@196/F-F@1/Barstar@1']\n",
      "['N-3271@1553/SER-89@194/D-D@1/Barstar@1', 'CA-3272@1554/SER-89@194/D-D@1/Barstar@1', 'C-3273@1555/SER-89@194/D-D@1/Barstar@1', 'O-3274@1556/SER-89@194/D-D@1/Barstar@1']\n"
     ]
    }
   ],
   "source": [
    "for res_bb, res_cc in zip(bb,cc):\n",
    "    back_bb = msm.select(molsys_CF, selection='backbone and group_index==@res_bb')\n",
    "    back_cc = msm.select(molsys_AD, selection='backbone and group_index==@res_cc')\n",
    "    if len(back_bb)!=len(back_cc):\n",
    "        print(msm.info(molsys_CF, target='atom', indices=back_bb, output='long_string'))\n",
    "        print(msm.info(molsys_AD, target='atom', indices=back_cc, output='long_string'))\n",
    "        "
   ]
  },
  {
   "cell_type": "code",
   "execution_count": null,
   "id": "b2d8ecc0-0b8c-418a-9378-c088f095a2bd",
   "metadata": {},
   "outputs": [],
   "source": []
  }
 ],
 "metadata": {
  "kernelspec": {
   "display_name": "Python 3 (ipykernel)",
   "language": "python",
   "name": "python3"
  },
  "language_info": {
   "codemirror_mode": {
    "name": "ipython",
    "version": 3
   },
   "file_extension": ".py",
   "mimetype": "text/x-python",
   "name": "python",
   "nbconvert_exporter": "python",
   "pygments_lexer": "ipython3",
   "version": "3.7.12"
  }
 },
 "nbformat": 4,
 "nbformat_minor": 5
}
