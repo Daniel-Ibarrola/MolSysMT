{
 "cells": [
  {
   "cell_type": "code",
   "execution_count": 1,
   "metadata": {},
   "outputs": [],
   "source": [
    "%load_ext autoreload\n",
    "%autoreload 2"
   ]
  },
  {
   "cell_type": "markdown",
   "metadata": {},
   "source": [
    "# Molecular Systems, Items and Forms"
   ]
  },
  {
   "cell_type": "code",
   "execution_count": 17,
   "metadata": {},
   "outputs": [],
   "source": [
    "import molsysmt as msm\n",
    "from molsysmt import puw\n",
    "from molsysmt.tools import molecular_systems as tools_molecular_systems\n",
    "from molsysmt.tools import items as tools_items\n",
    "from molsysmt.molecular_system import MolecularSystem\n",
    "from molsysmt import demo_systems"
   ]
  },
  {
   "cell_type": "code",
   "execution_count": 4,
   "metadata": {},
   "outputs": [
    {
     "name": "stdout",
     "output_type": "stream",
     "text": [
      "Help on module molsysmt.tools.molecular_systems in molsysmt.tools:\n",
      "\n",
      "NAME\n",
      "    molsysmt.tools.molecular_systems\n",
      "\n",
      "FUNCTIONS\n",
      "    is_a_single_molecular_system(items)\n",
      "    \n",
      "    where_bonds_in_molecular_system(items)\n",
      "    \n",
      "    where_box_in_molecular_system(items)\n",
      "    \n",
      "    where_coordinates_in_molecular_system(items)\n",
      "    \n",
      "    where_elements_in_molecular_system(items)\n",
      "    \n",
      "    where_ff_parameters_in_molecular_system(items)\n",
      "    \n",
      "    where_mm_parameters_in_molecular_system(items)\n",
      "    \n",
      "    where_simulation_in_molecular_system(items)\n",
      "    \n",
      "    where_thermo_state_in_molecular_system(items)\n",
      "    \n",
      "    where_velocities_in_molecular_system(items)\n",
      "\n",
      "FILE\n",
      "    /home/diego/Projects/MolSysMT/molsysmt/tools/molecular_systems.py\n",
      "\n",
      "\n"
     ]
    }
   ],
   "source": [
    "help(tools_molecular_systems)"
   ]
  },
  {
   "cell_type": "code",
   "execution_count": 5,
   "metadata": {},
   "outputs": [
    {
     "name": "stdout",
     "output_type": "stream",
     "text": [
      "Help on module molsysmt.tools.items in molsysmt.tools:\n",
      "\n",
      "NAME\n",
      "    molsysmt.tools.items\n",
      "\n",
      "FUNCTIONS\n",
      "    compatibles_for_a_single_molecular_system(items)\n",
      "    \n",
      "    has_box(items)\n",
      "    \n",
      "    has_coordinates(items)\n",
      "    \n",
      "    has_topology(items)\n",
      "    \n",
      "    has_trajectory(items)\n",
      "    \n",
      "    item_is_file(item)\n",
      "    \n",
      "    item_is_id(item)\n",
      "    \n",
      "    item_is_string(item)\n",
      "\n",
      "FILE\n",
      "    /home/diego/Projects/MolSysMT/molsysmt/tools/items.py\n",
      "\n",
      "\n"
     ]
    }
   ],
   "source": [
    "help(tools_items)"
   ]
  },
  {
   "cell_type": "markdown",
   "metadata": {},
   "source": [
    "- Puede haber items con topology, coordinates or trajectory o box.\n",
    "Un sistema molecular puede venir descrito por un item o varios items. Por ejemplo un sistema con topología, coordinates y box por separado. O un sistema con un solo item. O una topología con trajectoria."
   ]
  },
  {
   "cell_type": "markdown",
   "metadata": {},
   "source": [
    "## Tests"
   ]
  },
  {
   "cell_type": "code",
   "execution_count": 6,
   "metadata": {},
   "outputs": [],
   "source": [
    "item = demo_systems.files['1tcd.mmtf']"
   ]
  },
  {
   "cell_type": "code",
   "execution_count": 7,
   "metadata": {},
   "outputs": [
    {
     "data": {
      "text/plain": [
       "'file:mmtf'"
      ]
     },
     "execution_count": 7,
     "metadata": {},
     "output_type": "execute_result"
    }
   ],
   "source": [
    "msm.get_form(item)"
   ]
  },
  {
   "cell_type": "code",
   "execution_count": 8,
   "metadata": {},
   "outputs": [
    {
     "data": {
      "text/plain": [
       "True"
      ]
     },
     "execution_count": 8,
     "metadata": {},
     "output_type": "execute_result"
    }
   ],
   "source": [
    "tools_molecular_systems.is_a_single_molecular_system(item)"
   ]
  },
  {
   "cell_type": "code",
   "execution_count": 9,
   "metadata": {},
   "outputs": [
    {
     "data": {
      "text/plain": [
       "('/home/diego/Projects/MolSysMT/molsysmt/demo_systems/1tcd.mmtf', 'file:mmtf')"
      ]
     },
     "execution_count": 9,
     "metadata": {},
     "output_type": "execute_result"
    }
   ],
   "source": [
    "tools_molecular_systems.where_bonds_in_molecular_system(item)"
   ]
  },
  {
   "cell_type": "code",
   "execution_count": 10,
   "metadata": {},
   "outputs": [],
   "source": [
    "molecular_system = MolecularSystem(item)"
   ]
  },
  {
   "cell_type": "code",
   "execution_count": 11,
   "metadata": {},
   "outputs": [
    {
     "data": {
      "text/plain": [
       "{'elements_item': '/home/diego/Projects/MolSysMT/molsysmt/demo_systems/1tcd.mmtf',\n",
       " 'elements_form': 'file:mmtf',\n",
       " 'bonds_item': '/home/diego/Projects/MolSysMT/molsysmt/demo_systems/1tcd.mmtf',\n",
       " 'bonds_form': 'file:mmtf',\n",
       " 'coordinates_item': '/home/diego/Projects/MolSysMT/molsysmt/demo_systems/1tcd.mmtf',\n",
       " 'coordinates_form': 'file:mmtf',\n",
       " 'velocities_item': None,\n",
       " 'velocities_form': None,\n",
       " 'box_item': '/home/diego/Projects/MolSysMT/molsysmt/demo_systems/1tcd.mmtf',\n",
       " 'box_form': 'file:mmtf',\n",
       " 'ff_parameters_item': None,\n",
       " 'ff_parameters_form': None,\n",
       " 'mm_parameters_item': None,\n",
       " 'mm_parameters_form': None,\n",
       " 'thermo_state_item': None,\n",
       " 'thermo_state_form': None,\n",
       " 'simulation_item': None,\n",
       " 'simulation_form': None}"
      ]
     },
     "execution_count": 11,
     "metadata": {},
     "output_type": "execute_result"
    }
   ],
   "source": [
    "molecular_system.__dict__"
   ]
  },
  {
   "cell_type": "code",
   "execution_count": 12,
   "metadata": {},
   "outputs": [],
   "source": [
    "prmtop_file = demo_systems.files['pentalanine.prmtop']\n",
    "inpcrd_file = demo_systems.files['pentalanine.inpcrd']\n",
    "ms = MolecularSystem([prmtop_file, inpcrd_file])"
   ]
  },
  {
   "cell_type": "code",
   "execution_count": 13,
   "metadata": {},
   "outputs": [
    {
     "data": {
      "text/plain": [
       "<molsysmt.molecular_system.MolecularSystem at 0x7f9cb0155150>"
      ]
     },
     "execution_count": 13,
     "metadata": {},
     "output_type": "execute_result"
    }
   ],
   "source": [
    "ms"
   ]
  },
  {
   "cell_type": "code",
   "execution_count": 14,
   "metadata": {},
   "outputs": [
    {
     "data": {
      "text/plain": [
       "{'elements_item': '/home/diego/Projects/MolSysMT/molsysmt/demo_systems/pentalanine.prmtop',\n",
       " 'elements_form': 'file:prmtop',\n",
       " 'bonds_item': '/home/diego/Projects/MolSysMT/molsysmt/demo_systems/pentalanine.prmtop',\n",
       " 'bonds_form': 'file:prmtop',\n",
       " 'coordinates_item': '/home/diego/Projects/MolSysMT/molsysmt/demo_systems/pentalanine.inpcrd',\n",
       " 'coordinates_form': 'file:inpcrd',\n",
       " 'velocities_item': None,\n",
       " 'velocities_form': None,\n",
       " 'box_item': '/home/diego/Projects/MolSysMT/molsysmt/demo_systems/pentalanine.inpcrd',\n",
       " 'box_form': 'file:inpcrd',\n",
       " 'ff_parameters_item': '/home/diego/Projects/MolSysMT/molsysmt/demo_systems/pentalanine.prmtop',\n",
       " 'ff_parameters_form': 'file:prmtop',\n",
       " 'mm_parameters_item': None,\n",
       " 'mm_parameters_form': None,\n",
       " 'thermo_state_item': None,\n",
       " 'thermo_state_form': None,\n",
       " 'simulation_item': None,\n",
       " 'simulation_form': None}"
      ]
     },
     "execution_count": 14,
     "metadata": {},
     "output_type": "execute_result"
    }
   ],
   "source": [
    "ms.__dict__"
   ]
  },
  {
   "cell_type": "code",
   "execution_count": 15,
   "metadata": {},
   "outputs": [
    {
     "data": {
      "text/plain": [
       "{'elements_item': '/home/diego/Myopt/miniconda3/envs/MolSysMT_dev/lib/python3.7/site-packages/nglview/datafiles/md_1u19.gro',\n",
       " 'elements_form': 'file:gro',\n",
       " 'bonds_item': None,\n",
       " 'bonds_form': None,\n",
       " 'coordinates_item': '/home/diego/Myopt/miniconda3/envs/MolSysMT_dev/lib/python3.7/site-packages/nglview/datafiles/md_1u19.xtc',\n",
       " 'coordinates_form': 'file:xtc',\n",
       " 'velocities_item': None,\n",
       " 'velocities_form': None,\n",
       " 'box_item': '/home/diego/Myopt/miniconda3/envs/MolSysMT_dev/lib/python3.7/site-packages/nglview/datafiles/md_1u19.xtc',\n",
       " 'box_form': 'file:xtc',\n",
       " 'ff_parameters_item': None,\n",
       " 'ff_parameters_form': None,\n",
       " 'mm_parameters_item': None,\n",
       " 'mm_parameters_form': None,\n",
       " 'thermo_state_item': None,\n",
       " 'thermo_state_form': None,\n",
       " 'simulation_item': None,\n",
       " 'simulation_form': None}"
      ]
     },
     "execution_count": 15,
     "metadata": {},
     "output_type": "execute_result"
    }
   ],
   "source": [
    "import nglview as nv\n",
    "ms = MolecularSystem([nv.datafiles.GRO, nv.datafiles.XTC])\n",
    "ms.__dict__"
   ]
  },
  {
   "cell_type": "code",
   "execution_count": 18,
   "metadata": {},
   "outputs": [],
   "source": [
    "molecular_system0 = msm.build_peptide(['AceAlaNME',{'forcefield':'AMBER14', 'implicit_solvent':'OBC1'}])\n",
    "molecular_system1 = msm.copy(molecular_system0)\n",
    "msm.translate(molecular_system1, translation=[0.5, 0.0, 0.0]*puw.unit('nm'))"
   ]
  },
  {
   "cell_type": "code",
   "execution_count": 21,
   "metadata": {},
   "outputs": [
    {
     "data": {
      "text/plain": [
       "True"
      ]
     },
     "execution_count": 21,
     "metadata": {},
     "output_type": "execute_result"
    }
   ],
   "source": [
    "tools_molecular_systems.is_a_single_molecular_system([molecular_system0, molecular_system1])"
   ]
  },
  {
   "cell_type": "markdown",
   "metadata": {},
   "source": [
    "if they are the same molecular system, this has to be written this way to be considered as two molecular systems:"
   ]
  },
  {
   "cell_type": "code",
   "execution_count": 23,
   "metadata": {},
   "outputs": [
    {
     "data": {
      "text/plain": [
       "False"
      ]
     },
     "execution_count": 23,
     "metadata": {},
     "output_type": "execute_result"
    }
   ],
   "source": [
    "tools_molecular_systems.is_a_single_molecular_system([[molecular_system0], [molecular_system1]])"
   ]
  },
  {
   "cell_type": "markdown",
   "metadata": {},
   "source": [
    "## Casos que quiero resolver"
   ]
  },
  {
   "cell_type": "markdown",
   "metadata": {},
   "source": [
    "### 1 sistema molecular\n",
    "\n",
    "- El sistema molecular tiene únicamente una topología\n",
    "- El sistema molecular tiene únicamente una secuencia de frames o coordenadas\n",
    "- En el caso de un item, está claro.\n",
    "- Box tomo la que viene con las coordenadas o la última en la lista.\n",
    "- Sólo si topologies <=2 and coordinates <=2.\n",
    "- Podríamos tener más de 2 items si por ejemplo un tercero tiene sólo box.\n",
    "\n",
    "    - 0 topologías, 0 coordenadas -> -\n",
    "    - 0 topologías, 1 coordenadas -> Si\n",
    "    - 0 topologías, 2 coordenadas -> No.\n",
    "    \n",
    "    - 1 topologías, 0 coordenadas -> Si\n",
    "    - 1 topologías, 1 coordenadas -> Si\n",
    "    - 1 topologías, 2 coordenadas -> Si la top va con coords, si. Si no, no.\n",
    "\n",
    "    - 2 topologías, 0 coordenadas -> No\n",
    "    - 2 topologías, 1 coordenadas -> Si las coords van con top, si. Si no, no.\n",
    "    - 2 topologías, 2 coordenadas -> No\n",
    "\n",
    "- si hay un item con box sin coordinates ni topology, esa box se pilla."
   ]
  },
  {
   "cell_type": "markdown",
   "metadata": {},
   "source": [
    "Multiple molecular systems in a single list only possible si todas las topologías llevan sus coordenadas. La box debe ser la misma o será cogida la última."
   ]
  },
  {
   "cell_type": "markdown",
   "metadata": {},
   "source": [
    "### More than a molecular system\n",
    "\n",
    "- Lista de items no definido como single molecular system.\n",
    "- Lista de listas, donde cada sublista es un molecular system.\n",
    "- Llista de items con alguna lista dentro, si es que un molecular system está definido por más de un item."
   ]
  },
  {
   "cell_type": "markdown",
   "metadata": {},
   "source": [
    "Ahora he sacado el has_topology o has_coordinates en msm.tools.items"
   ]
  },
  {
   "cell_type": "markdown",
   "metadata": {},
   "source": [
    "Hay un método para completar? O para añadir información a un item de otro item... por ejemplo, un molsysmt.Topology sin bonds y un openmm.Topology igual con bonds... pasar los bonds al otro. O por ejemplo, una trayectoria sin box y le meto box. No.... esto tendría que poder hacerse con 'set'"
   ]
  },
  {
   "cell_type": "markdown",
   "metadata": {},
   "source": [
    "## Forms\n",
    "\n",
    "Molecular systems can take different forms. The same system can be encoded for instance as a pdb file, as a python object of mdtraj.Trajectory class, as a UniProt id code or as an aminoacid sequence. Not all forms have the same level of detail, probably some forms have more information, some other less information, but all are forms of the same molecular system. MolSysMT takes the concept 'form' as a central concept at the center of the multitool. Sometimes we have the system in form A, an mmtf file for example, and to be able to make a specific analysis with a given tool form A needs to be converted to form B -an mdtraj.Topology-, and then we probably need a third library to modify the system but this time the system must be encoded in form C -a parmed.Structure-. And so on. Usually, you can find the way to convert these forms in the documentation of those libraries as well as the way those analysis are invoked. To avoid the time of connecting those pieces, MolSysMT provides with a framework where different tools, nativo and coming from other libraries, can be easily plugged to build up the structure of pipes configuring the workflow you need.\n",
    "\n",
    "At this moment these are the forms MolSysMT can handle.\n",
    "\n",
    "## Files\n",
    "\n",
    "The updated list of forms type file can be printed out with the method `MolSysMT.info_forms()`."
   ]
  },
  {
   "cell_type": "code",
   "execution_count": 24,
   "metadata": {},
   "outputs": [
    {
     "data": {
      "text/html": [
       "<style  type=\"text/css\" >\n",
       "    #T_d80c8_ th {\n",
       "          text-align: left;\n",
       "    }#T_d80c8_row0_col0,#T_d80c8_row0_col1,#T_d80c8_row0_col2,#T_d80c8_row1_col0,#T_d80c8_row1_col1,#T_d80c8_row1_col2,#T_d80c8_row2_col0,#T_d80c8_row2_col1,#T_d80c8_row2_col2,#T_d80c8_row3_col0,#T_d80c8_row3_col1,#T_d80c8_row3_col2,#T_d80c8_row4_col0,#T_d80c8_row4_col1,#T_d80c8_row4_col2,#T_d80c8_row5_col0,#T_d80c8_row5_col1,#T_d80c8_row5_col2,#T_d80c8_row6_col0,#T_d80c8_row6_col1,#T_d80c8_row6_col2,#T_d80c8_row7_col0,#T_d80c8_row7_col1,#T_d80c8_row7_col2,#T_d80c8_row8_col0,#T_d80c8_row8_col1,#T_d80c8_row8_col2,#T_d80c8_row9_col0,#T_d80c8_row9_col1,#T_d80c8_row9_col2,#T_d80c8_row10_col0,#T_d80c8_row10_col1,#T_d80c8_row10_col2,#T_d80c8_row11_col0,#T_d80c8_row11_col1,#T_d80c8_row11_col2,#T_d80c8_row12_col0,#T_d80c8_row12_col1,#T_d80c8_row12_col2,#T_d80c8_row13_col0,#T_d80c8_row13_col1,#T_d80c8_row13_col2,#T_d80c8_row14_col0,#T_d80c8_row14_col1,#T_d80c8_row14_col2,#T_d80c8_row15_col0,#T_d80c8_row15_col1,#T_d80c8_row15_col2,#T_d80c8_row16_col0,#T_d80c8_row16_col1,#T_d80c8_row16_col2{\n",
       "            text-align:  left;\n",
       "            colheader_justify:  left;\n",
       "        }</style><table id=\"T_d80c8_\" ><thead>    <tr>        <th class=\"col_heading level0 col0\" >Form</th>        <th class=\"col_heading level0 col1\" >Type</th>        <th class=\"col_heading level0 col2\" >Info</th>    </tr></thead><tbody>\n",
       "                <tr>\n",
       "                                <td id=\"T_d80c8_row0_col0\" class=\"data row0 col0\" >file:crd</td>\n",
       "                        <td id=\"T_d80c8_row0_col1\" class=\"data row0 col1\" >file</td>\n",
       "                        <td id=\"T_d80c8_row0_col2\" class=\"data row0 col2\" ><a target=\"_blank\" href=\"https://www.charmmtutorial.org/index.php/CHARMM:The_Basics#CHARMM_data_structures\">CHARMM card (CRD) file format with coordinates.</a></td>\n",
       "            </tr>\n",
       "            <tr>\n",
       "                                <td id=\"T_d80c8_row1_col0\" class=\"data row1 col0\" >file:dcd</td>\n",
       "                        <td id=\"T_d80c8_row1_col1\" class=\"data row1 col1\" >file</td>\n",
       "                        <td id=\"T_d80c8_row1_col2\" class=\"data row1 col2\" ><a target=\"_blank\" href=\"\"></a></td>\n",
       "            </tr>\n",
       "            <tr>\n",
       "                                <td id=\"T_d80c8_row2_col0\" class=\"data row2 col0\" >file:fasta</td>\n",
       "                        <td id=\"T_d80c8_row2_col1\" class=\"data row2 col1\" >file</td>\n",
       "                        <td id=\"T_d80c8_row2_col2\" class=\"data row2 col2\" ><a target=\"_blank\" href=\"\"></a></td>\n",
       "            </tr>\n",
       "            <tr>\n",
       "                                <td id=\"T_d80c8_row3_col0\" class=\"data row3 col0\" >file:gro</td>\n",
       "                        <td id=\"T_d80c8_row3_col1\" class=\"data row3 col1\" >file</td>\n",
       "                        <td id=\"T_d80c8_row3_col2\" class=\"data row3 col2\" ><a target=\"_blank\" href=\"http://manual.gromacs.org/documentation/2018/user-guide/file-formats.html#gro\">Gromacs gro file format</a></td>\n",
       "            </tr>\n",
       "            <tr>\n",
       "                                <td id=\"T_d80c8_row4_col0\" class=\"data row4 col0\" >file:h5</td>\n",
       "                        <td id=\"T_d80c8_row4_col1\" class=\"data row4 col1\" >file</td>\n",
       "                        <td id=\"T_d80c8_row4_col2\" class=\"data row4 col2\" ><a target=\"_blank\" href=\"\"></a></td>\n",
       "            </tr>\n",
       "            <tr>\n",
       "                                <td id=\"T_d80c8_row5_col0\" class=\"data row5 col0\" >file:inpcrd</td>\n",
       "                        <td id=\"T_d80c8_row5_col1\" class=\"data row5 col1\" >file</td>\n",
       "                        <td id=\"T_d80c8_row5_col2\" class=\"data row5 col2\" ><a target=\"_blank\" href=\"https://ambermd.org/FileFormats.php#trajectory\">AMBER ASCII restart/inpcrd file format</a></td>\n",
       "            </tr>\n",
       "            <tr>\n",
       "                                <td id=\"T_d80c8_row6_col0\" class=\"data row6 col0\" >file:mdcrd</td>\n",
       "                        <td id=\"T_d80c8_row6_col1\" class=\"data row6 col1\" >file</td>\n",
       "                        <td id=\"T_d80c8_row6_col2\" class=\"data row6 col2\" ><a target=\"_blank\" href=\"https://ambermd.org/FileFormats.php#trajectory\">AMBER mdcrd file format</a></td>\n",
       "            </tr>\n",
       "            <tr>\n",
       "                                <td id=\"T_d80c8_row7_col0\" class=\"data row7 col0\" >file:mmtf</td>\n",
       "                        <td id=\"T_d80c8_row7_col1\" class=\"data row7 col1\" >file</td>\n",
       "                        <td id=\"T_d80c8_row7_col2\" class=\"data row7 col2\" ><a target=\"_blank\" href=\"\"></a></td>\n",
       "            </tr>\n",
       "            <tr>\n",
       "                                <td id=\"T_d80c8_row8_col0\" class=\"data row8 col0\" >file:mol2</td>\n",
       "                        <td id=\"T_d80c8_row8_col1\" class=\"data row8 col1\" >file</td>\n",
       "                        <td id=\"T_d80c8_row8_col2\" class=\"data row8 col2\" ><a target=\"_blank\" href=\"\"></a></td>\n",
       "            </tr>\n",
       "            <tr>\n",
       "                                <td id=\"T_d80c8_row9_col0\" class=\"data row9 col0\" >file:pdb</td>\n",
       "                        <td id=\"T_d80c8_row9_col1\" class=\"data row9 col1\" >file</td>\n",
       "                        <td id=\"T_d80c8_row9_col2\" class=\"data row9 col2\" ><a target=\"_blank\" href=\"https://www.rcsb.org/pdb/static.do?p=file_formats/pdb/index.html\">Protein Data Bank file format</a></td>\n",
       "            </tr>\n",
       "            <tr>\n",
       "                                <td id=\"T_d80c8_row10_col0\" class=\"data row10 col0\" >file:pir</td>\n",
       "                        <td id=\"T_d80c8_row10_col1\" class=\"data row10 col1\" >file</td>\n",
       "                        <td id=\"T_d80c8_row10_col2\" class=\"data row10 col2\" ><a target=\"_blank\" href=\"\"></a></td>\n",
       "            </tr>\n",
       "            <tr>\n",
       "                                <td id=\"T_d80c8_row11_col0\" class=\"data row11 col0\" >file:prmtop</td>\n",
       "                        <td id=\"T_d80c8_row11_col1\" class=\"data row11 col1\" >file</td>\n",
       "                        <td id=\"T_d80c8_row11_col2\" class=\"data row11 col2\" ><a target=\"_blank\" href=\"https://ambermd.org/FileFormats.php#topology\">AMBER  parameter/topology file format</a></td>\n",
       "            </tr>\n",
       "            <tr>\n",
       "                                <td id=\"T_d80c8_row12_col0\" class=\"data row12 col0\" >file:smi</td>\n",
       "                        <td id=\"T_d80c8_row12_col1\" class=\"data row12 col1\" >file</td>\n",
       "                        <td id=\"T_d80c8_row12_col2\" class=\"data row12 col2\" ><a target=\"_blank\" href=\"\"></a></td>\n",
       "            </tr>\n",
       "            <tr>\n",
       "                                <td id=\"T_d80c8_row13_col0\" class=\"data row13 col0\" >file:top</td>\n",
       "                        <td id=\"T_d80c8_row13_col1\" class=\"data row13 col1\" >file</td>\n",
       "                        <td id=\"T_d80c8_row13_col2\" class=\"data row13 col2\" ><a target=\"_blank\" href=\"\"></a></td>\n",
       "            </tr>\n",
       "            <tr>\n",
       "                                <td id=\"T_d80c8_row14_col0\" class=\"data row14 col0\" >file:xtc</td>\n",
       "                        <td id=\"T_d80c8_row14_col1\" class=\"data row14 col1\" >file</td>\n",
       "                        <td id=\"T_d80c8_row14_col2\" class=\"data row14 col2\" ><a target=\"_blank\" href=\"\"></a></td>\n",
       "            </tr>\n",
       "            <tr>\n",
       "                                <td id=\"T_d80c8_row15_col0\" class=\"data row15 col0\" >file:xyz</td>\n",
       "                        <td id=\"T_d80c8_row15_col1\" class=\"data row15 col1\" >file</td>\n",
       "                        <td id=\"T_d80c8_row15_col2\" class=\"data row15 col2\" ><a target=\"_blank\" href=\"['https://en.wikipedia.org/wiki/XYZ_file_format', 'https://open-babel.readthedocs.io/en/latest/FileFormats/XYZ_cartesian_coordinates_format.html']\">XYZ file format</a></td>\n",
       "            </tr>\n",
       "            <tr>\n",
       "                                <td id=\"T_d80c8_row16_col0\" class=\"data row16 col0\" >file:xyznpy</td>\n",
       "                        <td id=\"T_d80c8_row16_col1\" class=\"data row16 col1\" >file</td>\n",
       "                        <td id=\"T_d80c8_row16_col2\" class=\"data row16 col2\" ><a target=\"_blank\" href=\"\">XYZ file format like saved with Numpy</a></td>\n",
       "            </tr>\n",
       "    </tbody></table>"
      ],
      "text/plain": [
       "<pandas.io.formats.style.Styler at 0x7f9cb008a0d0>"
      ]
     },
     "execution_count": 24,
     "metadata": {},
     "output_type": "execute_result"
    }
   ],
   "source": [
    "msm.info_forms(form_type='file')"
   ]
  },
  {
   "cell_type": "markdown",
   "metadata": {},
   "source": [
    "## Classes\n",
    "\n",
    "MolSysMT works with python classes coming from many other libraries such as MDTraj, PyTraj, MDAnalysis, OpenMM, ParmEd among others; as well as some native classes."
   ]
  },
  {
   "cell_type": "code",
   "execution_count": 25,
   "metadata": {},
   "outputs": [
    {
     "data": {
      "text/html": [
       "<style  type=\"text/css\" >\n",
       "    #T_60ac9_ th {\n",
       "          text-align: left;\n",
       "    }#T_60ac9_row0_col0,#T_60ac9_row0_col1,#T_60ac9_row0_col2,#T_60ac9_row1_col0,#T_60ac9_row1_col1,#T_60ac9_row1_col2,#T_60ac9_row2_col0,#T_60ac9_row2_col1,#T_60ac9_row2_col2,#T_60ac9_row3_col0,#T_60ac9_row3_col1,#T_60ac9_row3_col2,#T_60ac9_row4_col0,#T_60ac9_row4_col1,#T_60ac9_row4_col2,#T_60ac9_row5_col0,#T_60ac9_row5_col1,#T_60ac9_row5_col2,#T_60ac9_row6_col0,#T_60ac9_row6_col1,#T_60ac9_row6_col2,#T_60ac9_row7_col0,#T_60ac9_row7_col1,#T_60ac9_row7_col2,#T_60ac9_row8_col0,#T_60ac9_row8_col1,#T_60ac9_row8_col2,#T_60ac9_row9_col0,#T_60ac9_row9_col1,#T_60ac9_row9_col2,#T_60ac9_row10_col0,#T_60ac9_row10_col1,#T_60ac9_row10_col2,#T_60ac9_row11_col0,#T_60ac9_row11_col1,#T_60ac9_row11_col2,#T_60ac9_row12_col0,#T_60ac9_row12_col1,#T_60ac9_row12_col2,#T_60ac9_row13_col0,#T_60ac9_row13_col1,#T_60ac9_row13_col2,#T_60ac9_row14_col0,#T_60ac9_row14_col1,#T_60ac9_row14_col2,#T_60ac9_row15_col0,#T_60ac9_row15_col1,#T_60ac9_row15_col2,#T_60ac9_row16_col0,#T_60ac9_row16_col1,#T_60ac9_row16_col2,#T_60ac9_row17_col0,#T_60ac9_row17_col1,#T_60ac9_row17_col2,#T_60ac9_row18_col0,#T_60ac9_row18_col1,#T_60ac9_row18_col2,#T_60ac9_row19_col0,#T_60ac9_row19_col1,#T_60ac9_row19_col2,#T_60ac9_row20_col0,#T_60ac9_row20_col1,#T_60ac9_row20_col2,#T_60ac9_row21_col0,#T_60ac9_row21_col1,#T_60ac9_row21_col2,#T_60ac9_row22_col0,#T_60ac9_row22_col1,#T_60ac9_row22_col2,#T_60ac9_row23_col0,#T_60ac9_row23_col1,#T_60ac9_row23_col2,#T_60ac9_row24_col0,#T_60ac9_row24_col1,#T_60ac9_row24_col2,#T_60ac9_row25_col0,#T_60ac9_row25_col1,#T_60ac9_row25_col2,#T_60ac9_row26_col0,#T_60ac9_row26_col1,#T_60ac9_row26_col2,#T_60ac9_row27_col0,#T_60ac9_row27_col1,#T_60ac9_row27_col2,#T_60ac9_row28_col0,#T_60ac9_row28_col1,#T_60ac9_row28_col2,#T_60ac9_row29_col0,#T_60ac9_row29_col1,#T_60ac9_row29_col2,#T_60ac9_row30_col0,#T_60ac9_row30_col1,#T_60ac9_row30_col2,#T_60ac9_row31_col0,#T_60ac9_row31_col1,#T_60ac9_row31_col2,#T_60ac9_row32_col0,#T_60ac9_row32_col1,#T_60ac9_row32_col2,#T_60ac9_row33_col0,#T_60ac9_row33_col1,#T_60ac9_row33_col2,#T_60ac9_row34_col0,#T_60ac9_row34_col1,#T_60ac9_row34_col2{\n",
       "            text-align:  left;\n",
       "            colheader_justify:  left;\n",
       "        }</style><table id=\"T_60ac9_\" ><thead>    <tr>        <th class=\"col_heading level0 col0\" >Form</th>        <th class=\"col_heading level0 col1\" >Type</th>        <th class=\"col_heading level0 col2\" >Info</th>    </tr></thead><tbody>\n",
       "                <tr>\n",
       "                                <td id=\"T_60ac9_row0_col0\" class=\"data row0 col0\" >MolecularMechanicsDict</td>\n",
       "                        <td id=\"T_60ac9_row0_col1\" class=\"data row0 col1\" >class</td>\n",
       "                        <td id=\"T_60ac9_row0_col2\" class=\"data row0 col2\" ><a target=\"_blank\" href=\"\"></a></td>\n",
       "            </tr>\n",
       "            <tr>\n",
       "                                <td id=\"T_60ac9_row1_col0\" class=\"data row1 col0\" >SimulationDict</td>\n",
       "                        <td id=\"T_60ac9_row1_col1\" class=\"data row1 col1\" >class</td>\n",
       "                        <td id=\"T_60ac9_row1_col2\" class=\"data row1 col2\" ><a target=\"_blank\" href=\"\"></a></td>\n",
       "            </tr>\n",
       "            <tr>\n",
       "                                <td id=\"T_60ac9_row2_col0\" class=\"data row2 col0\" >XYZ</td>\n",
       "                        <td id=\"T_60ac9_row2_col1\" class=\"data row2 col1\" >class</td>\n",
       "                        <td id=\"T_60ac9_row2_col2\" class=\"data row2 col2\" ><a target=\"_blank\" href=\"\"></a></td>\n",
       "            </tr>\n",
       "            <tr>\n",
       "                                <td id=\"T_60ac9_row3_col0\" class=\"data row3 col0\" >mdanalysis.Topology</td>\n",
       "                        <td id=\"T_60ac9_row3_col1\" class=\"data row3 col1\" >class</td>\n",
       "                        <td id=\"T_60ac9_row3_col2\" class=\"data row3 col2\" ><a target=\"_blank\" href=\"\"></a></td>\n",
       "            </tr>\n",
       "            <tr>\n",
       "                                <td id=\"T_60ac9_row4_col0\" class=\"data row4 col0\" >mdanalysis.Universe</td>\n",
       "                        <td id=\"T_60ac9_row4_col1\" class=\"data row4 col1\" >class</td>\n",
       "                        <td id=\"T_60ac9_row4_col2\" class=\"data row4 col2\" ><a target=\"_blank\" href=\"\"></a></td>\n",
       "            </tr>\n",
       "            <tr>\n",
       "                                <td id=\"T_60ac9_row5_col0\" class=\"data row5 col0\" >mdtraj.AmberRestartFile</td>\n",
       "                        <td id=\"T_60ac9_row5_col1\" class=\"data row5 col1\" >class</td>\n",
       "                        <td id=\"T_60ac9_row5_col2\" class=\"data row5 col2\" ><a target=\"_blank\" href=\"\"></a></td>\n",
       "            </tr>\n",
       "            <tr>\n",
       "                                <td id=\"T_60ac9_row6_col0\" class=\"data row6 col0\" >mdtraj.GroTrajectoryFile</td>\n",
       "                        <td id=\"T_60ac9_row6_col1\" class=\"data row6 col1\" >class</td>\n",
       "                        <td id=\"T_60ac9_row6_col2\" class=\"data row6 col2\" ><a target=\"_blank\" href=\"\"></a></td>\n",
       "            </tr>\n",
       "            <tr>\n",
       "                                <td id=\"T_60ac9_row7_col0\" class=\"data row7 col0\" >mdtraj.HDF5TrajectoryFile</td>\n",
       "                        <td id=\"T_60ac9_row7_col1\" class=\"data row7 col1\" >class</td>\n",
       "                        <td id=\"T_60ac9_row7_col2\" class=\"data row7 col2\" ><a target=\"_blank\" href=\"\"></a></td>\n",
       "            </tr>\n",
       "            <tr>\n",
       "                                <td id=\"T_60ac9_row8_col0\" class=\"data row8 col0\" >mdtraj.PDBTrajectoryFile</td>\n",
       "                        <td id=\"T_60ac9_row8_col1\" class=\"data row8 col1\" >class</td>\n",
       "                        <td id=\"T_60ac9_row8_col2\" class=\"data row8 col2\" ><a target=\"_blank\" href=\"\"></a></td>\n",
       "            </tr>\n",
       "            <tr>\n",
       "                                <td id=\"T_60ac9_row9_col0\" class=\"data row9 col0\" >mdtraj.Topology</td>\n",
       "                        <td id=\"T_60ac9_row9_col1\" class=\"data row9 col1\" >class</td>\n",
       "                        <td id=\"T_60ac9_row9_col2\" class=\"data row9 col2\" ><a target=\"_blank\" href=\"\"></a></td>\n",
       "            </tr>\n",
       "            <tr>\n",
       "                                <td id=\"T_60ac9_row10_col0\" class=\"data row10 col0\" >mdtraj.Trajectory</td>\n",
       "                        <td id=\"T_60ac9_row10_col1\" class=\"data row10 col1\" >class</td>\n",
       "                        <td id=\"T_60ac9_row10_col2\" class=\"data row10 col2\" ><a target=\"_blank\" href=\"\"></a></td>\n",
       "            </tr>\n",
       "            <tr>\n",
       "                                <td id=\"T_60ac9_row11_col0\" class=\"data row11 col0\" >mdtraj.XTCTrajectoryFile</td>\n",
       "                        <td id=\"T_60ac9_row11_col1\" class=\"data row11 col1\" >class</td>\n",
       "                        <td id=\"T_60ac9_row11_col2\" class=\"data row11 col2\" ><a target=\"_blank\" href=\"\"></a></td>\n",
       "            </tr>\n",
       "            <tr>\n",
       "                                <td id=\"T_60ac9_row12_col0\" class=\"data row12 col0\" >mmtf.MMTFDecoder</td>\n",
       "                        <td id=\"T_60ac9_row12_col1\" class=\"data row12 col1\" >class</td>\n",
       "                        <td id=\"T_60ac9_row12_col2\" class=\"data row12 col2\" ><a target=\"_blank\" href=\"\"></a></td>\n",
       "            </tr>\n",
       "            <tr>\n",
       "                                <td id=\"T_60ac9_row13_col0\" class=\"data row13 col0\" >molsysmt.MolSys</td>\n",
       "                        <td id=\"T_60ac9_row13_col1\" class=\"data row13 col1\" >class</td>\n",
       "                        <td id=\"T_60ac9_row13_col2\" class=\"data row13 col2\" ><a target=\"_blank\" href=\"\"></a></td>\n",
       "            </tr>\n",
       "            <tr>\n",
       "                                <td id=\"T_60ac9_row14_col0\" class=\"data row14 col0\" >molsysmt.MolecularMechanics</td>\n",
       "                        <td id=\"T_60ac9_row14_col1\" class=\"data row14 col1\" >class</td>\n",
       "                        <td id=\"T_60ac9_row14_col2\" class=\"data row14 col2\" ><a target=\"_blank\" href=\"\"></a></td>\n",
       "            </tr>\n",
       "            <tr>\n",
       "                                <td id=\"T_60ac9_row15_col0\" class=\"data row15 col0\" >molsysmt.Simulation</td>\n",
       "                        <td id=\"T_60ac9_row15_col1\" class=\"data row15 col1\" >class</td>\n",
       "                        <td id=\"T_60ac9_row15_col2\" class=\"data row15 col2\" ><a target=\"_blank\" href=\"\"></a></td>\n",
       "            </tr>\n",
       "            <tr>\n",
       "                                <td id=\"T_60ac9_row16_col0\" class=\"data row16 col0\" >molsysmt.Topology</td>\n",
       "                        <td id=\"T_60ac9_row16_col1\" class=\"data row16 col1\" >class</td>\n",
       "                        <td id=\"T_60ac9_row16_col2\" class=\"data row16 col2\" ><a target=\"_blank\" href=\"\"></a></td>\n",
       "            </tr>\n",
       "            <tr>\n",
       "                                <td id=\"T_60ac9_row17_col0\" class=\"data row17 col0\" >molsysmt.Trajectory</td>\n",
       "                        <td id=\"T_60ac9_row17_col1\" class=\"data row17 col1\" >class</td>\n",
       "                        <td id=\"T_60ac9_row17_col2\" class=\"data row17 col2\" ><a target=\"_blank\" href=\"\"></a></td>\n",
       "            </tr>\n",
       "            <tr>\n",
       "                                <td id=\"T_60ac9_row18_col0\" class=\"data row18 col0\" >molsysmt.TrajectoryFile</td>\n",
       "                        <td id=\"T_60ac9_row18_col1\" class=\"data row18 col1\" >class</td>\n",
       "                        <td id=\"T_60ac9_row18_col2\" class=\"data row18 col2\" ><a target=\"_blank\" href=\"\"></a></td>\n",
       "            </tr>\n",
       "            <tr>\n",
       "                                <td id=\"T_60ac9_row19_col0\" class=\"data row19 col0\" >networkx.Graph</td>\n",
       "                        <td id=\"T_60ac9_row19_col1\" class=\"data row19 col1\" >class</td>\n",
       "                        <td id=\"T_60ac9_row19_col2\" class=\"data row19 col2\" ><a target=\"_blank\" href=\"\"></a></td>\n",
       "            </tr>\n",
       "            <tr>\n",
       "                                <td id=\"T_60ac9_row20_col0\" class=\"data row20 col0\" >openmm.AmberInpcrdFile</td>\n",
       "                        <td id=\"T_60ac9_row20_col1\" class=\"data row20 col1\" >class</td>\n",
       "                        <td id=\"T_60ac9_row20_col2\" class=\"data row20 col2\" ><a target=\"_blank\" href=\"\"></a></td>\n",
       "            </tr>\n",
       "            <tr>\n",
       "                                <td id=\"T_60ac9_row21_col0\" class=\"data row21 col0\" >openmm.AmberPrmtopFile</td>\n",
       "                        <td id=\"T_60ac9_row21_col1\" class=\"data row21 col1\" >class</td>\n",
       "                        <td id=\"T_60ac9_row21_col2\" class=\"data row21 col2\" ><a target=\"_blank\" href=\"\"></a></td>\n",
       "            </tr>\n",
       "            <tr>\n",
       "                                <td id=\"T_60ac9_row22_col0\" class=\"data row22 col0\" >openmm.Context</td>\n",
       "                        <td id=\"T_60ac9_row22_col1\" class=\"data row22 col1\" >class</td>\n",
       "                        <td id=\"T_60ac9_row22_col2\" class=\"data row22 col2\" ><a target=\"_blank\" href=\"\"></a></td>\n",
       "            </tr>\n",
       "            <tr>\n",
       "                                <td id=\"T_60ac9_row23_col0\" class=\"data row23 col0\" >openmm.GromacsGroFile</td>\n",
       "                        <td id=\"T_60ac9_row23_col1\" class=\"data row23 col1\" >class</td>\n",
       "                        <td id=\"T_60ac9_row23_col2\" class=\"data row23 col2\" ><a target=\"_blank\" href=\"\"></a></td>\n",
       "            </tr>\n",
       "            <tr>\n",
       "                                <td id=\"T_60ac9_row24_col0\" class=\"data row24 col0\" >openmm.GromacsTopFile</td>\n",
       "                        <td id=\"T_60ac9_row24_col1\" class=\"data row24 col1\" >class</td>\n",
       "                        <td id=\"T_60ac9_row24_col2\" class=\"data row24 col2\" ><a target=\"_blank\" href=\"\"></a></td>\n",
       "            </tr>\n",
       "            <tr>\n",
       "                                <td id=\"T_60ac9_row25_col0\" class=\"data row25 col0\" >openmm.Modeller</td>\n",
       "                        <td id=\"T_60ac9_row25_col1\" class=\"data row25 col1\" >class</td>\n",
       "                        <td id=\"T_60ac9_row25_col2\" class=\"data row25 col2\" ><a target=\"_blank\" href=\"\"></a></td>\n",
       "            </tr>\n",
       "            <tr>\n",
       "                                <td id=\"T_60ac9_row26_col0\" class=\"data row26 col0\" >openmm.PDBFile</td>\n",
       "                        <td id=\"T_60ac9_row26_col1\" class=\"data row26 col1\" >class</td>\n",
       "                        <td id=\"T_60ac9_row26_col2\" class=\"data row26 col2\" ><a target=\"_blank\" href=\"\"></a></td>\n",
       "            </tr>\n",
       "            <tr>\n",
       "                                <td id=\"T_60ac9_row27_col0\" class=\"data row27 col0\" >openmm.Simulation</td>\n",
       "                        <td id=\"T_60ac9_row27_col1\" class=\"data row27 col1\" >class</td>\n",
       "                        <td id=\"T_60ac9_row27_col2\" class=\"data row27 col2\" ><a target=\"_blank\" href=\"\"></a></td>\n",
       "            </tr>\n",
       "            <tr>\n",
       "                                <td id=\"T_60ac9_row28_col0\" class=\"data row28 col0\" >openmm.System</td>\n",
       "                        <td id=\"T_60ac9_row28_col1\" class=\"data row28 col1\" >class</td>\n",
       "                        <td id=\"T_60ac9_row28_col2\" class=\"data row28 col2\" ><a target=\"_blank\" href=\"\"></a></td>\n",
       "            </tr>\n",
       "            <tr>\n",
       "                                <td id=\"T_60ac9_row29_col0\" class=\"data row29 col0\" >openmm.Topology</td>\n",
       "                        <td id=\"T_60ac9_row29_col1\" class=\"data row29 col1\" >class</td>\n",
       "                        <td id=\"T_60ac9_row29_col2\" class=\"data row29 col2\" ><a target=\"_blank\" href=\"\"></a></td>\n",
       "            </tr>\n",
       "            <tr>\n",
       "                                <td id=\"T_60ac9_row30_col0\" class=\"data row30 col0\" >parmed.GromacsTopologyFile</td>\n",
       "                        <td id=\"T_60ac9_row30_col1\" class=\"data row30 col1\" >class</td>\n",
       "                        <td id=\"T_60ac9_row30_col2\" class=\"data row30 col2\" ><a target=\"_blank\" href=\"\"></a></td>\n",
       "            </tr>\n",
       "            <tr>\n",
       "                                <td id=\"T_60ac9_row31_col0\" class=\"data row31 col0\" >parmed.Structure</td>\n",
       "                        <td id=\"T_60ac9_row31_col1\" class=\"data row31 col1\" >class</td>\n",
       "                        <td id=\"T_60ac9_row31_col2\" class=\"data row31 col2\" ><a target=\"_blank\" href=\"\"></a></td>\n",
       "            </tr>\n",
       "            <tr>\n",
       "                                <td id=\"T_60ac9_row32_col0\" class=\"data row32 col0\" >pdbfixer.PDBFixer</td>\n",
       "                        <td id=\"T_60ac9_row32_col1\" class=\"data row32 col1\" >class</td>\n",
       "                        <td id=\"T_60ac9_row32_col2\" class=\"data row32 col2\" ><a target=\"_blank\" href=\"\"></a></td>\n",
       "            </tr>\n",
       "            <tr>\n",
       "                                <td id=\"T_60ac9_row33_col0\" class=\"data row33 col0\" >pytraj.Topology</td>\n",
       "                        <td id=\"T_60ac9_row33_col1\" class=\"data row33 col1\" >class</td>\n",
       "                        <td id=\"T_60ac9_row33_col2\" class=\"data row33 col2\" ><a target=\"_blank\" href=\"\"></a></td>\n",
       "            </tr>\n",
       "            <tr>\n",
       "                                <td id=\"T_60ac9_row34_col0\" class=\"data row34 col0\" >pytraj.Trajectory</td>\n",
       "                        <td id=\"T_60ac9_row34_col1\" class=\"data row34 col1\" >class</td>\n",
       "                        <td id=\"T_60ac9_row34_col2\" class=\"data row34 col2\" ><a target=\"_blank\" href=\"\"></a></td>\n",
       "            </tr>\n",
       "    </tbody></table>"
      ],
      "text/plain": [
       "<pandas.io.formats.style.Styler at 0x7f9c9f583790>"
      ]
     },
     "execution_count": 25,
     "metadata": {},
     "output_type": "execute_result"
    }
   ],
   "source": [
    "msm.info_forms(form_type='class')"
   ]
  },
  {
   "cell_type": "markdown",
   "metadata": {},
   "source": [
    "## Ids\n",
    "\n",
    "There are several databases or encoding systems where molecular systems take the form of a string of characters. This is the case of the Protein Data Bank, the ChEMBL database or the UniProt codes. The following table summarizes the list of Ids recognized by MolSysMT."
   ]
  },
  {
   "cell_type": "code",
   "execution_count": 26,
   "metadata": {},
   "outputs": [
    {
     "data": {
      "text/html": [
       "<style  type=\"text/css\" >\n",
       "    #T_bbb4f_ th {\n",
       "          text-align: left;\n",
       "    }#T_bbb4f_row0_col0,#T_bbb4f_row0_col1,#T_bbb4f_row0_col2{\n",
       "            text-align:  left;\n",
       "            colheader_justify:  left;\n",
       "        }</style><table id=\"T_bbb4f_\" ><thead>    <tr>        <th class=\"col_heading level0 col0\" >Form</th>        <th class=\"col_heading level0 col1\" >Type</th>        <th class=\"col_heading level0 col2\" >Info</th>    </tr></thead><tbody>\n",
       "                <tr>\n",
       "                                <td id=\"T_bbb4f_row0_col0\" class=\"data row0 col0\" >id:PDB</td>\n",
       "                        <td id=\"T_bbb4f_row0_col1\" class=\"data row0 col1\" >id</td>\n",
       "                        <td id=\"T_bbb4f_row0_col2\" class=\"data row0 col2\" ><a target=\"_blank\" href=\"\"></a></td>\n",
       "            </tr>\n",
       "    </tbody></table>"
      ],
      "text/plain": [
       "<pandas.io.formats.style.Styler at 0x7f9c9f593ad0>"
      ]
     },
     "execution_count": 26,
     "metadata": {},
     "output_type": "execute_result"
    }
   ],
   "source": [
    "msm.info_forms(form_type='id')"
   ]
  },
  {
   "cell_type": "markdown",
   "metadata": {},
   "source": [
    "Notice that form names here ends with ':id'. This suffix is used to distinguish them from other form types. 'pdb' is a form name corresponding to a file and 'pdb:id' is the id form."
   ]
  },
  {
   "cell_type": "markdown",
   "metadata": {},
   "source": [
    "## Sequences\n",
    "\n",
    "Molecular systems can be determined by a sequence of elements. For instance, a peptide as Metenkephaline can be defined by means of its aminoacids sequence. These are the forms of type sequence MolSysMT can handle:"
   ]
  },
  {
   "cell_type": "code",
   "execution_count": 27,
   "metadata": {},
   "outputs": [
    {
     "data": {
      "text/html": [
       "<style  type=\"text/css\" >\n",
       "    #T_9044e_ th {\n",
       "          text-align: left;\n",
       "    }#T_9044e_row0_col0,#T_9044e_row0_col1,#T_9044e_row0_col2,#T_9044e_row1_col0,#T_9044e_row1_col1,#T_9044e_row1_col2,#T_9044e_row2_col0,#T_9044e_row2_col1,#T_9044e_row2_col2{\n",
       "            text-align:  left;\n",
       "            colheader_justify:  left;\n",
       "        }</style><table id=\"T_9044e_\" ><thead>    <tr>        <th class=\"col_heading level0 col0\" >Form</th>        <th class=\"col_heading level0 col1\" >Type</th>        <th class=\"col_heading level0 col2\" >Info</th>    </tr></thead><tbody>\n",
       "                <tr>\n",
       "                                <td id=\"T_9044e_row0_col0\" class=\"data row0 col0\" >string:aminoacids1</td>\n",
       "                        <td id=\"T_9044e_row0_col1\" class=\"data row0 col1\" >string</td>\n",
       "                        <td id=\"T_9044e_row0_col2\" class=\"data row0 col2\" ><a target=\"_blank\" href=\"\"></a></td>\n",
       "            </tr>\n",
       "            <tr>\n",
       "                                <td id=\"T_9044e_row1_col0\" class=\"data row1 col0\" >string:aminoacids3</td>\n",
       "                        <td id=\"T_9044e_row1_col1\" class=\"data row1 col1\" >string</td>\n",
       "                        <td id=\"T_9044e_row1_col2\" class=\"data row1 col2\" ><a target=\"_blank\" href=\"\"></a></td>\n",
       "            </tr>\n",
       "            <tr>\n",
       "                                <td id=\"T_9044e_row2_col0\" class=\"data row2 col0\" >string:pdb</td>\n",
       "                        <td id=\"T_9044e_row2_col1\" class=\"data row2 col1\" >string</td>\n",
       "                        <td id=\"T_9044e_row2_col2\" class=\"data row2 col2\" ><a target=\"_blank\" href=\"https://www.rcsb.org/pdb/static.do?p=file_formats/pdb/index.html\">Protein Data Bank file format</a></td>\n",
       "            </tr>\n",
       "    </tbody></table>"
      ],
      "text/plain": [
       "<pandas.io.formats.style.Styler at 0x7f9c9f57d9d0>"
      ]
     },
     "execution_count": 27,
     "metadata": {},
     "output_type": "execute_result"
    }
   ],
   "source": [
    "msm.info_forms(form_type='string')"
   ]
  },
  {
   "cell_type": "markdown",
   "metadata": {},
   "source": [
    "## Viewers\n",
    "\n",
    "The last molecular systems form we usually need its the graphical representation: the viewer. MolSysMT works with viewers as if they were a different form type. These are the viewers MolSysMT can work with:"
   ]
  },
  {
   "cell_type": "code",
   "execution_count": 28,
   "metadata": {},
   "outputs": [
    {
     "data": {
      "text/html": [
       "<style  type=\"text/css\" >\n",
       "    #T_6fc49_ th {\n",
       "          text-align: left;\n",
       "    }#T_6fc49_row0_col0,#T_6fc49_row0_col1,#T_6fc49_row0_col2{\n",
       "            text-align:  left;\n",
       "            colheader_justify:  left;\n",
       "        }</style><table id=\"T_6fc49_\" ><thead>    <tr>        <th class=\"col_heading level0 col0\" >Form</th>        <th class=\"col_heading level0 col1\" >Type</th>        <th class=\"col_heading level0 col2\" >Info</th>    </tr></thead><tbody>\n",
       "                <tr>\n",
       "                                <td id=\"T_6fc49_row0_col0\" class=\"data row0 col0\" >nglview.NGLWidget</td>\n",
       "                        <td id=\"T_6fc49_row0_col1\" class=\"data row0 col1\" >viewer</td>\n",
       "                        <td id=\"T_6fc49_row0_col2\" class=\"data row0 col2\" ><a target=\"_blank\" href=\"http://nglviewer.org/nglview/latest/_modules/nglview/widget.html\">NGLView visualization native object</a></td>\n",
       "            </tr>\n",
       "    </tbody></table>"
      ],
      "text/plain": [
       "<pandas.io.formats.style.Styler at 0x7f9c9f58b7d0>"
      ]
     },
     "execution_count": 28,
     "metadata": {},
     "output_type": "execute_result"
    }
   ],
   "source": [
    "msm.info_forms(form_type='viewer')"
   ]
  },
  {
   "cell_type": "code",
   "execution_count": null,
   "metadata": {},
   "outputs": [],
   "source": []
  },
  {
   "cell_type": "code",
   "execution_count": null,
   "metadata": {},
   "outputs": [],
   "source": []
  }
 ],
 "metadata": {
  "kernelspec": {
   "display_name": "Python 3",
   "language": "python",
   "name": "python3"
  },
  "language_info": {
   "codemirror_mode": {
    "name": "ipython",
    "version": 3
   },
   "file_extension": ".py",
   "mimetype": "text/x-python",
   "name": "python",
   "nbconvert_exporter": "python",
   "pygments_lexer": "ipython3",
   "version": "3.7.10"
  }
 },
 "nbformat": 4,
 "nbformat_minor": 4
}
