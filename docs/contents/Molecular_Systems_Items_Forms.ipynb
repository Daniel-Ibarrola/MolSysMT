{
 "cells": [
  {
   "cell_type": "code",
   "execution_count": 1,
   "metadata": {},
   "outputs": [],
   "source": [
    "%load_ext autoreload\n",
    "%autoreload 2"
   ]
  },
  {
   "cell_type": "markdown",
   "metadata": {},
   "source": [
    "# Molecular Systems, Items and Forms"
   ]
  },
  {
   "cell_type": "code",
   "execution_count": 2,
   "metadata": {},
   "outputs": [
    {
     "data": {
      "application/vnd.jupyter.widget-view+json": {
       "model_id": "9341bf57b1bd4dc58913c832f1ce4cd7",
       "version_major": 2,
       "version_minor": 0
      },
      "text/plain": []
     },
     "metadata": {},
     "output_type": "display_data"
    }
   ],
   "source": [
    "from molsysmt.tools import molecular_systems as tools_molecular_systems\n",
    "from molsysmt.tools import items as tools_items\n",
    "from molsysmt.molecular_system import MolecularSystem\n",
    "from molsysmt import demo_systems"
   ]
  },
  {
   "cell_type": "code",
   "execution_count": null,
   "metadata": {},
   "outputs": [],
   "source": []
  },
  {
   "cell_type": "code",
   "execution_count": null,
   "metadata": {},
   "outputs": [],
   "source": [
    "help(tools_molecular_systems)"
   ]
  },
  {
   "cell_type": "code",
   "execution_count": null,
   "metadata": {},
   "outputs": [],
   "source": [
    "help(tools_items)"
   ]
  },
  {
   "cell_type": "markdown",
   "metadata": {},
   "source": [
    "- Puede haber items con topology, coordinates or trajectory o box.\n",
    "Un sistema molecular puede venir descrito por un item o varios items. Por ejemplo un sistema con topología, coordinates y box por separado. O un sistema con un solo item. O una topología con trajectoria."
   ]
  },
  {
   "cell_type": "markdown",
   "metadata": {},
   "source": [
    "## Tests"
   ]
  },
  {
   "cell_type": "code",
   "execution_count": 3,
   "metadata": {},
   "outputs": [],
   "source": [
    "item = demo_systems.files['1tcd.mmtf']"
   ]
  },
  {
   "cell_type": "code",
   "execution_count": 4,
   "metadata": {},
   "outputs": [
    {
     "data": {
      "text/plain": [
       "True"
      ]
     },
     "execution_count": 4,
     "metadata": {},
     "output_type": "execute_result"
    }
   ],
   "source": [
    "tools_molecular_systems.is_a_single_molecular_system(item)"
   ]
  },
  {
   "cell_type": "code",
   "execution_count": 5,
   "metadata": {},
   "outputs": [
    {
     "data": {
      "text/plain": [
       "('/home/diego/Proyectos/MolSysMT/molsysmt/demo_systems/1tcd.mmtf', 'mmtf')"
      ]
     },
     "execution_count": 5,
     "metadata": {},
     "output_type": "execute_result"
    }
   ],
   "source": [
    "tools_molecular_systems.where_bonds_in_molecular_system(item)"
   ]
  },
  {
   "cell_type": "code",
   "execution_count": 9,
   "metadata": {},
   "outputs": [],
   "source": [
    "molecular_system = MolecularSystem(item)"
   ]
  },
  {
   "cell_type": "code",
   "execution_count": 10,
   "metadata": {},
   "outputs": [
    {
     "data": {
      "text/plain": [
       "{'topology_item': '/home/diego/Proyectos/MolSysMT/molsysmt/demo_systems/1tcd.mmtf',\n",
       " 'topology_form': 'mmtf',\n",
       " 'bonds_item': '/home/diego/Proyectos/MolSysMT/molsysmt/demo_systems/1tcd.mmtf',\n",
       " 'bonds_form': 'mmtf',\n",
       " 'parameters_item': None,\n",
       " 'parameters_form': None,\n",
       " 'trajectory_item': '/home/diego/Proyectos/MolSysMT/molsysmt/demo_systems/1tcd.mmtf',\n",
       " 'trajectory_form': 'mmtf',\n",
       " 'coordinates_item': '/home/diego/Proyectos/MolSysMT/molsysmt/demo_systems/1tcd.mmtf',\n",
       " 'coordinates_form': 'mmtf',\n",
       " 'box_item': '/home/diego/Proyectos/MolSysMT/molsysmt/demo_systems/1tcd.mmtf',\n",
       " 'box_form': 'mmtf'}"
      ]
     },
     "execution_count": 10,
     "metadata": {},
     "output_type": "execute_result"
    }
   ],
   "source": [
    "molecular_system.__dict__"
   ]
  },
  {
   "cell_type": "code",
   "execution_count": null,
   "metadata": {},
   "outputs": [],
   "source": [
    "prmtop_file = msm.demo_systems.files['pentalanine.prmtop']\n",
    "inpcrd_file = msm.demo_systems.files['pentalanine.inpcrd']\n",
    "ms = msm.molecular_system.MolecularSystem([prmtop_file, inpcrd_file])"
   ]
  },
  {
   "cell_type": "markdown",
   "metadata": {},
   "source": [
    "## Casos que quiero resolver"
   ]
  },
  {
   "cell_type": "markdown",
   "metadata": {},
   "source": [
    "### 1 sistema molecular\n",
    "\n",
    "- El sistema molecular tiene únicamente una topología\n",
    "- El sistema molecular tiene únicamente una secuencia de frames o coordenadas\n",
    "- En el caso de un item, está claro.\n",
    "- Box tomo la que viene con las coordenadas o la última en la lista.\n",
    "- Sólo si topologies <=2 and coordinates <=2.\n",
    "- Podríamos tener más de 2 items si por ejemplo un tercero tiene sólo box.\n",
    "\n",
    "    - 0 topologías, 0 coordenadas -> -\n",
    "    - 0 topologías, 1 coordenadas -> Si\n",
    "    - 0 topologías, 2 coordenadas -> No.\n",
    "    \n",
    "    - 1 topologías, 0 coordenadas -> Si\n",
    "    - 1 topologías, 1 coordenadas -> Si\n",
    "    - 1 topologías, 2 coordenadas -> Si la top va con coords, si. Si no, no.\n",
    "\n",
    "    - 2 topologías, 0 coordenadas -> No\n",
    "    - 2 topologías, 1 coordenadas -> Si las coords van con top, si. Si no, no.\n",
    "    - 2 topologías, 2 coordenadas -> No\n",
    "\n",
    "- si hay un item con box sin coordinates ni topology, esa box se pilla."
   ]
  },
  {
   "cell_type": "markdown",
   "metadata": {},
   "source": [
    "Multiple molecular systems in a single list only possible si todas las topologías llevan sus coordenadas. La box debe ser la misma o será cogida la última."
   ]
  },
  {
   "cell_type": "markdown",
   "metadata": {},
   "source": [
    "### More than a molecular system\n",
    "\n",
    "- Lista de items no definido como single molecular system.\n",
    "- Lista de listas, donde cada sublista es un molecular system.\n",
    "- Llista de items con alguna lista dentro, si es que un molecular system está definido por más de un item."
   ]
  },
  {
   "cell_type": "markdown",
   "metadata": {},
   "source": [
    "Ahora he sacado el has_topology o has_coordinates en msm.tools.items"
   ]
  },
  {
   "cell_type": "markdown",
   "metadata": {},
   "source": [
    "Hay un método para completar? O para añadir información a un item de otro item... por ejemplo, un molsysmt.Topology sin bonds y un openmm.Topology igual con bonds... pasar los bonds al otro. O por ejemplo, una trayectoria sin box y le meto box. No.... esto tendría que poder hacerse con 'set'"
   ]
  },
  {
   "cell_type": "markdown",
   "metadata": {},
   "source": [
    "## Forms\n",
    "\n",
    "Molecular systems can take different forms. The same system can be encoded for instance as a pdb file, as a python object of mdtraj.Trajectory class, as a UniProt id code or as an aminoacid sequence. Not all forms have the same level of detail, probably some forms have more information, some other less information, but all are forms of the same molecular system. MolSysMT takes the concept 'form' as a central concept at the center of the multitool. Sometimes we have the system in form A, an mmtf file for example, and to be able to make a specific analysis with a given tool form A needs to be converted to form B -an mdtraj.Topology-, and then we probably need a third library to modify the system but this time the system must be encoded in form C -a parmed.Structure-. And so on. Usually, you can find the way to convert these forms in the documentation of those libraries as well as the way those analysis are invoked. To avoid the time of connecting those pieces, MolSysMT provides with a framework where different tools, nativo and coming from other libraries, can be easily plugged to build up the structure of pipes configuring the workflow you need.\n",
    "\n",
    "At this moment these are the forms MolSysMT can handle.\n",
    "\n",
    "## Files\n",
    "\n",
    "The updated list of forms type file can be printed out with the method `MolSysMT.info_forms()`."
   ]
  },
  {
   "cell_type": "code",
   "execution_count": null,
   "metadata": {},
   "outputs": [],
   "source": [
    "msm.info_forms(form_type='file')"
   ]
  },
  {
   "cell_type": "markdown",
   "metadata": {},
   "source": [
    "## Classes\n",
    "\n",
    "MolSysMT works with python classes coming from many other libraries such as MDTraj, PyTraj, MDAnalysis, OpenMM, ParmEd among others; as well as some native classes."
   ]
  },
  {
   "cell_type": "code",
   "execution_count": null,
   "metadata": {},
   "outputs": [],
   "source": [
    "msm.info_forms(form_type='class')"
   ]
  },
  {
   "cell_type": "markdown",
   "metadata": {},
   "source": [
    "## Ids\n",
    "\n",
    "There are several databases or encoding systems where molecular systems take the form of a string of characters. This is the case of the Protein Data Bank, the ChEMBL database or the UniProt codes. The following table summarizes the list of Ids recognized by MolSysMT."
   ]
  },
  {
   "cell_type": "code",
   "execution_count": null,
   "metadata": {},
   "outputs": [],
   "source": [
    "msm.info_forms(form_type='id')"
   ]
  },
  {
   "cell_type": "markdown",
   "metadata": {},
   "source": [
    "Notice that form names here ends with ':id'. This suffix is used to distinguish them from other form types. 'pdb' is a form name corresponding to a file and 'pdb:id' is the id form."
   ]
  },
  {
   "cell_type": "markdown",
   "metadata": {},
   "source": [
    "## Sequences\n",
    "\n",
    "Molecular systems can be determined by a sequence of elements. For instance, a peptide as Metenkephaline can be defined by means of its aminoacids sequence. These are the forms of type sequence MolSysMT can handle:"
   ]
  },
  {
   "cell_type": "code",
   "execution_count": null,
   "metadata": {},
   "outputs": [],
   "source": [
    "msm.info_forms(form_type='seq')"
   ]
  },
  {
   "cell_type": "markdown",
   "metadata": {},
   "source": [
    "## Viewers\n",
    "\n",
    "The last molecular systems form we usually need its the graphical representation: the viewer. MolSysMT works with viewers as if they were a different form type. These are the viewers MolSysMT can work with:"
   ]
  },
  {
   "cell_type": "code",
   "execution_count": null,
   "metadata": {},
   "outputs": [],
   "source": [
    "msm.info_forms(form_type='viewer')"
   ]
  }
 ],
 "metadata": {
  "kernelspec": {
   "display_name": "Python 3",
   "language": "python",
   "name": "python3"
  },
  "language_info": {
   "codemirror_mode": {
    "name": "ipython",
    "version": 3
   },
   "file_extension": ".py",
   "mimetype": "text/x-python",
   "name": "python",
   "nbconvert_exporter": "python",
   "pygments_lexer": "ipython3",
   "version": "3.7.9"
  }
 },
 "nbformat": 4,
 "nbformat_minor": 4
}
