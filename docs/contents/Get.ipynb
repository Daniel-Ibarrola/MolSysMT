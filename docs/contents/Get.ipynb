{
 "cells": [
  {
   "cell_type": "code",
   "execution_count": 1,
   "metadata": {},
   "outputs": [],
   "source": [
    "%load_ext autoreload\n",
    "%autoreload 2"
   ]
  },
  {
   "cell_type": "code",
   "execution_count": 2,
   "metadata": {},
   "outputs": [
    {
     "data": {
      "application/vnd.jupyter.widget-view+json": {
       "model_id": "30a494ee5da44f3b891c7c13a29fce0f",
       "version_major": 2,
       "version_minor": 0
      },
      "text/plain": []
     },
     "metadata": {},
     "output_type": "display_data"
    }
   ],
   "source": [
    "import molsysmt as msm"
   ]
  },
  {
   "cell_type": "markdown",
   "metadata": {},
   "source": [
    "# How to get attributes from a molecular system\n",
    "\n",
    "Any attribute of the elements composing a molecular system such as name, index, id or type, as well as some simple observables, can be obtained by means of the method `molsysmt.get()`. Lets load a molecular system to play a bit with it:"
   ]
  },
  {
   "cell_type": "code",
   "execution_count": 3,
   "metadata": {},
   "outputs": [],
   "source": [
    "file_path = msm.demo_systems.files['1tcd.mmtf']"
   ]
  },
  {
   "cell_type": "code",
   "execution_count": 4,
   "metadata": {},
   "outputs": [],
   "source": [
    "molecular_system = msm.convert(file_path, to_form='molsysmt.MolSys')"
   ]
  },
  {
   "cell_type": "code",
   "execution_count": 5,
   "metadata": {},
   "outputs": [
    {
     "data": {
      "text/html": [
       "<style  type=\"text/css\" >\n",
       "</style><table id=\"T_a3c523a4_2f4e_11eb_8ce0_1c1b0d075c26\" ><thead>    <tr>        <th class=\"col_heading level0 col0\" >form</th>        <th class=\"col_heading level0 col1\" >n_atoms</th>        <th class=\"col_heading level0 col2\" >n_groups</th>        <th class=\"col_heading level0 col3\" >n_components</th>        <th class=\"col_heading level0 col4\" >n_chains</th>        <th class=\"col_heading level0 col5\" >n_molecules</th>        <th class=\"col_heading level0 col6\" >n_entities</th>        <th class=\"col_heading level0 col7\" >n_waters</th>        <th class=\"col_heading level0 col8\" >n_proteins</th>        <th class=\"col_heading level0 col9\" >n_frames</th>    </tr></thead><tbody>\n",
       "                <tr>\n",
       "                                <td id=\"T_a3c523a4_2f4e_11eb_8ce0_1c1b0d075c26row0_col0\" class=\"data row0 col0\" >molsysmt.MolSys</td>\n",
       "                        <td id=\"T_a3c523a4_2f4e_11eb_8ce0_1c1b0d075c26row0_col1\" class=\"data row0 col1\" >3983</td>\n",
       "                        <td id=\"T_a3c523a4_2f4e_11eb_8ce0_1c1b0d075c26row0_col2\" class=\"data row0 col2\" >662</td>\n",
       "                        <td id=\"T_a3c523a4_2f4e_11eb_8ce0_1c1b0d075c26row0_col3\" class=\"data row0 col3\" >167</td>\n",
       "                        <td id=\"T_a3c523a4_2f4e_11eb_8ce0_1c1b0d075c26row0_col4\" class=\"data row0 col4\" >4</td>\n",
       "                        <td id=\"T_a3c523a4_2f4e_11eb_8ce0_1c1b0d075c26row0_col5\" class=\"data row0 col5\" >166</td>\n",
       "                        <td id=\"T_a3c523a4_2f4e_11eb_8ce0_1c1b0d075c26row0_col6\" class=\"data row0 col6\" >2</td>\n",
       "                        <td id=\"T_a3c523a4_2f4e_11eb_8ce0_1c1b0d075c26row0_col7\" class=\"data row0 col7\" >165</td>\n",
       "                        <td id=\"T_a3c523a4_2f4e_11eb_8ce0_1c1b0d075c26row0_col8\" class=\"data row0 col8\" >1</td>\n",
       "                        <td id=\"T_a3c523a4_2f4e_11eb_8ce0_1c1b0d075c26row0_col9\" class=\"data row0 col9\" >1</td>\n",
       "            </tr>\n",
       "    </tbody></table>"
      ],
      "text/plain": [
       "<pandas.io.formats.style.Styler at 0x7f34f0597890>"
      ]
     },
     "execution_count": 5,
     "metadata": {},
     "output_type": "execute_result"
    }
   ],
   "source": [
    "msm.info(molecular_system)"
   ]
  },
  {
   "cell_type": "markdown",
   "metadata": {},
   "source": [
    "As first example lets obtain the names of the atoms with indices 32, 33 and 34 (0-based). The method `molsysmt.get()` has an input argument named `target` to choose the nature of the elements over which the inquery works: 'atom', 'group', 'component', 'chain', 'molecule', 'entity' or 'system'. By default `target` is 'atom'. Now lets pay attention to the input argument `indices`. `indices` allows us to specify a set of targetted elements by their indices, again, over which the inquery works. This way: "
   ]
  },
  {
   "cell_type": "code",
   "execution_count": 6,
   "metadata": {},
   "outputs": [
    {
     "name": "stdout",
     "output_type": "stream",
     "text": [
      "Atom names: ['N' 'CA' 'C']\n"
     ]
    }
   ],
   "source": [
    "# name of atoms with index 32, 33 or 34\n",
    "names = msm.get(molecular_system, indices=[32,33,34], name=True)\n",
    "print('Atom names:',names)"
   ]
  },
  {
   "cell_type": "markdown",
   "metadata": {},
   "source": [
    "The number of attributes we want to know from these atoms is no limited to one. We can ask `molsysmt.get()` to extract as many attributes as you desire:"
   ]
  },
  {
   "cell_type": "code",
   "execution_count": 7,
   "metadata": {},
   "outputs": [
    {
     "name": "stdout",
     "output_type": "stream",
     "text": [
      "Atom names: ['N' 'CA' 'C']\n",
      "Group indices: [4 4 4]\n",
      "Group names: ['ILE' 'ILE' 'ILE']\n"
     ]
    }
   ],
   "source": [
    "# name, group index and group name of atoms with index 32, 33 or 34\n",
    "names, group_indices, group_names = msm.get(molecular_system, target='atom', indices=[32,33,34],\n",
    "                                            name=True, group_index=True, group_name=True)\n",
    "print('Atom names:', names)\n",
    "print('Group indices:', group_indices)\n",
    "print('Group names:', group_names)"
   ]
  },
  {
   "cell_type": "code",
   "execution_count": 8,
   "metadata": {},
   "outputs": [
    {
     "name": "stdout",
     "output_type": "stream",
     "text": [
      "Number of groups: 1\n"
     ]
    }
   ],
   "source": [
    "# number of groups in atoms with index 32, 33 or 34\n",
    "n_groups = msm.get(molecular_system, target='atom', indices=[32,33,34], n_groups=True)\n",
    "print('Number of groups:', n_groups)"
   ]
  },
  {
   "cell_type": "code",
   "execution_count": 9,
   "metadata": {},
   "outputs": [
    {
     "name": "stdout",
     "output_type": "stream",
     "text": [
      "Group names: ['LYS' 'CYS' 'ASN']\n",
      "Atom indices: [array([77, 78, 79, 80, 81, 82, 83, 84, 85])\n",
      " array([86, 87, 88, 89, 90, 91]) array([92, 93, 94, 95, 96, 97, 98, 99])]\n",
      "Atom names: [array(['N', 'CA', 'C', 'O', 'CB', 'CG', 'CD', 'CE', 'NZ'], dtype=object)\n",
      " array(['N', 'CA', 'C', 'O', 'CB', 'SG'], dtype=object)\n",
      " array(['N', 'CA', 'C', 'O', 'CB', 'CG', 'OD1', 'ND2'], dtype=object)]\n"
     ]
    }
   ],
   "source": [
    "# name, atom indices and atom names of groups with index 10, 11 or 12\n",
    "names, atom_indices, atom_names = msm.get(molecular_system, target='group', indices=[10,11,12],\n",
    "                                            name=True, atom_index=True, atom_name=True)\n",
    "print('Group names:', names)\n",
    "print('Atom indices:', atom_indices)\n",
    "print('Atom names:', atom_names)"
   ]
  },
  {
   "cell_type": "code",
   "execution_count": 10,
   "metadata": {},
   "outputs": [
    {
     "name": "stdout",
     "output_type": "stream",
     "text": [
      "Number of atoms: [9, 6, 8]\n"
     ]
    }
   ],
   "source": [
    "# number of atoms in groups with index 10, 11 or 12\n",
    "n_atoms = msm.get(molecular_system, target='group', indices=[10,11,12], n_atoms=True)\n",
    "print('Number of atoms:', n_atoms)"
   ]
  },
  {
   "cell_type": "code",
   "execution_count": 11,
   "metadata": {},
   "outputs": [
    {
     "name": "stdout",
     "output_type": "stream",
     "text": [
      "Indices: [550 551 552]\n",
      "Component indices: [55 56 57]\n"
     ]
    }
   ],
   "source": [
    "# index and component index of groups with index 550, 551 or 552\n",
    "indices, component_indices = msm.get(molecular_system, target='group', indices=[550, 551, 552],\n",
    "                                    index=True, component_index=True)\n",
    "print('Indices:', indices)\n",
    "print('Component indices:', component_indices)"
   ]
  },
  {
   "cell_type": "code",
   "execution_count": 12,
   "metadata": {},
   "outputs": [
    {
     "name": "stdout",
     "output_type": "stream",
     "text": [
      "Number of components: 3\n"
     ]
    }
   ],
   "source": [
    "# number of components in groups with index 550, 551, 552\n",
    "n_components = msm.get(molecular_system, target='group', indices=[550, 551, 552], n_components=True)\n",
    "print('Number of components:', n_components)"
   ]
  },
  {
   "cell_type": "code",
   "execution_count": 13,
   "metadata": {},
   "outputs": [
    {
     "name": "stdout",
     "output_type": "stream",
     "text": [
      "Indices: [55 56 57]\n",
      "Component indices: [[550]\n",
      " [551]\n",
      " [552]]\n"
     ]
    }
   ],
   "source": [
    "# index and group index of components with index 55, 56 or 57\n",
    "indices, component_indices = msm.get(molecular_system, target='component', indices=[55, 56, 57],\n",
    "                                    index=True, group_index=True)\n",
    "print('Indices:', indices)\n",
    "print('Component indices:', component_indices)"
   ]
  },
  {
   "cell_type": "code",
   "execution_count": 14,
   "metadata": {},
   "outputs": [
    {
     "name": "stdout",
     "output_type": "stream",
     "text": [
      "Number of groups: [1, 1, 1]\n"
     ]
    }
   ],
   "source": [
    "# number of groups in components with index 55, 56 or 57\n",
    "n_groups = msm.get(molecular_system, target='component', indices=[55, 56, 57], n_groups=True)\n",
    "print('Number of groups:', n_groups)"
   ]
  },
  {
   "cell_type": "markdown",
   "metadata": {},
   "source": [
    "Notice that if no indices list is provided, the method applies over all elements of the targeted entity. See for example:"
   ]
  },
  {
   "cell_type": "code",
   "execution_count": 15,
   "metadata": {},
   "outputs": [
    {
     "name": "stdout",
     "output_type": "stream",
     "text": [
      "3983\n"
     ]
    }
   ],
   "source": [
    "# number of atoms in the molecular system\n",
    "n_atoms = msm.get(molecular_system, target='atom', n_atoms=True)\n",
    "print(n_atoms)"
   ]
  },
  {
   "cell_type": "code",
   "execution_count": 16,
   "metadata": {},
   "outputs": [
    {
     "name": "stdout",
     "output_type": "stream",
     "text": [
      "4\n"
     ]
    }
   ],
   "source": [
    "# number of chains in the molecular system\n",
    "n_chains = msm.get(molecular_system, target='atom', n_chains=True)\n",
    "print(n_chains)"
   ]
  },
  {
   "cell_type": "markdown",
   "metadata": {},
   "source": [
    "The method `msm.get()` can also take the input argument `selection`. The use of `selection` is explained in secction XXX. Lets see how `msm.get()` works with `selection` with a simple example:"
   ]
  },
  {
   "cell_type": "code",
   "execution_count": 17,
   "metadata": {},
   "outputs": [
    {
     "data": {
      "text/plain": [
       "array([148, 149, 150, 151, 152, 153, 154])"
      ]
     },
     "execution_count": 17,
     "metadata": {},
     "output_type": "execute_result"
    }
   ],
   "source": [
    "# Indices of atoms in group with index 20 (with molsysmt.select()!!!)\n",
    "msm.select(molecular_system, target='atom', selection='group_index==20')"
   ]
  },
  {
   "cell_type": "code",
   "execution_count": 18,
   "metadata": {},
   "outputs": [
    {
     "data": {
      "text/plain": [
       "[array(['N', 'CA', 'C', 'O', 'CB', 'CG', 'CD'], dtype=object),\n",
       " array([148, 149, 150, 151, 152, 153, 154])]"
      ]
     },
     "execution_count": 18,
     "metadata": {},
     "output_type": "execute_result"
    }
   ],
   "source": [
    "# Names and indices of atoms in group with index 20 (with molsysmt.get()!!!)\n",
    "msm.get(molecular_system, target='atom', selection='group_index==20', name=True, index=True)"
   ]
  },
  {
   "cell_type": "code",
   "execution_count": 19,
   "metadata": {},
   "outputs": [
    {
     "data": {
      "text/plain": [
       "3818"
      ]
     },
     "execution_count": 19,
     "metadata": {},
     "output_type": "execute_result"
    }
   ],
   "source": [
    "# number of atoms in molecules of type protein\n",
    "msm.get(molecular_system, target='atom', selection='molecule_type==\"protein\"', n_atoms=True)"
   ]
  },
  {
   "cell_type": "code",
   "execution_count": 20,
   "metadata": {},
   "outputs": [
    {
     "data": {
      "text/plain": [
       "165"
      ]
     },
     "execution_count": 20,
     "metadata": {},
     "output_type": "execute_result"
    }
   ],
   "source": [
    "# number of molecules of type water\n",
    "msm.get(molecular_system, target='atom', selection='molecule_type==\"water\"', n_molecules=True)"
   ]
  },
  {
   "cell_type": "markdown",
   "metadata": {},
   "source": [
    "## Table with attributes you can get\n",
    "\n",
    "The following table shows the list of attribute arguments you can use in `molsysmt.get()`, togethere with their meaning and the list of elements each of them can be used with."
   ]
  },
  {
   "cell_type": "markdown",
   "metadata": {},
   "source": [
    "| Property | Meaning | Element the property applies |\n",
    "|:--------|:-------------|:-------------|\n",
    "| 'index' | **index or indices** of the list of targeted elements defined by `indices` or `selection`| 'atom', 'group', 'component', 'chain', 'molecule', 'entity'|\n",
    "| 'id' | **id or ids** of the list of targeted elements defined by `indices` or `selection`| 'atom', 'group', 'component', 'chain', 'molecule', 'entity'|\n",
    "| 'name' | **name or names** of the list of targeted elements defined by `indices` or `selection`| 'atom', 'group', 'component', 'chain', 'molecule', 'entity'|\n",
    "| 'type' | **type or types** of the list of targeted elements defined by `indices` or `selection`| 'atom', 'group', 'component', 'chain', 'molecule', 'entity'|\n",
    "| 'atom_index' | **atom index or indices** of the list of targeted elements defined by `indices` or `selection`| 'atom', 'group', 'component', 'chain', 'molecule', 'entity', 'bond'|\n",
    "| 'atom_id' | **atom id or ids** of the list of targeted elements defined by `indices` or `selection`| 'atom', 'group', 'component', 'chain', 'molecule', 'entity'|\n",
    "| 'atom_name' |  **atom name or names** of the list of targeted elements defined by `indices` or `selection`| 'atom', 'group', 'component', 'chain', 'molecule', 'entity'|\n",
    "| 'atom_type' |  **atom type or types** of the list of targeted elements defined by `indices` or `selection`| 'atom', 'group', 'component', 'chain', 'molecule', 'entity'|\n",
    "| 'group_index' | **group index or indices** of the list of targeted elements defined by `indices` or `selection`| 'atom', 'group', 'component', 'chain', 'molecule', 'entity'|\n",
    "| 'group_id' | **group id or ids** of the list of targeted elements defined by `indices` or `selection`| 'atom', 'group', 'component', 'chain', 'molecule', 'entity'|\n",
    "| 'group_name' | **group name or names** of the list of targeted elements defined by `indices` or `selection`| 'atom', 'group', 'component', 'chain', 'molecule', 'entity'|\n",
    "| 'group_type' | **group type or types** of the list of targeted elements defined by `indices` or `selection`| 'atom', 'group', 'component', 'chain', 'molecule', 'entity'|\n",
    "| 'component_index' | **component index or indices** of the list of targeted elements defined by `indices` or `selection`| 'atom', 'group', 'component', 'chain', 'molecule', 'entity'|\n",
    "| 'component_id' | **component id or ids** of the list of targeted elements defined by `indices` or `selection`| 'atom', 'group', 'component', 'chain', 'molecule', 'entity'|\n",
    "| 'component_name' | **component name or names** of the list of targeted elements defined by `indices` or `selection`| 'atom', 'group', 'component', 'chain', 'molecule', 'entity'|\n",
    "| 'component_type' | **component type or types** of the list of targeted elements defined by `indices` or `selection`| 'atom', 'group', 'component', 'chain', 'molecule', 'entity'|\n",
    "| 'molecule_index' | **molecule index or indices** of the list of targeted elements defined by `indices` or `selection`| 'atom', 'group', 'component', 'chain', 'molecule', 'entity'|\n",
    "| 'molecule_id' | **molecule id or ids** of the list of targeted elements defined by `indices` or `selection`| 'atom', 'group', 'component', 'chain', 'molecule', 'entity'|\n",
    "| 'molecule_name' | **molecule name or names** of the list of targeted elements defined by `indices` or `selection`| 'atom', 'group', 'component', 'chain', 'molecule', 'entity'|\n",
    "| 'molecule_type' | **molecule type or types** of the list of targeted elements defined by `indices` or `selection`| 'atom', 'group', 'component', 'chain', 'molecule', 'entity'|\n",
    "| 'chain_index' | **chain index or indices** of the list of targeted elements defined by `indices` or `selection`| 'atom', 'group', 'component', 'chain', 'molecule', 'entity'|\n",
    "| 'chain_id' | **chain id or ids** of the list of targeted elements defined by `indices` or `selection`| 'atom', 'group', 'component', 'chain', 'molecule', 'entity'|\n",
    "| 'chain_name' | **chain name or names** of the list of targeted elements defined by `indices` or `selection`| 'atom', 'group', 'component', 'chain', 'molecule', 'entity'|\n",
    "| 'chain_type' | **chain type or types** of the list of targeted elements defined by `indices` or `selection`| 'atom', 'group', 'component', 'chain', 'molecule', 'entity'|\n",
    "| 'entity_index' | **entity index or indices** of the list of targeted elements defined by `indices` or `selection`| 'atom', 'group', 'component', 'chain', 'molecule', 'entity'|\n",
    "| 'entity_id' | **entity id or ids** of the list of targeted elements defined by `indices` or `selection`| 'atom', 'group', 'component', 'chain', 'molecule', 'entity'|\n",
    "| 'entity_name' | **entity name or names** of the list of targeted elements defined by `indices` or `selection`| 'atom', 'group', 'component', 'chain', 'molecule', 'entity'|\n",
    "| 'entity_type' | **entity type or types** of the list of targeted elements defined by `indices` or `selection`| 'atom', 'group', 'component', 'chain', 'molecule', 'entity'|\n",
    "| 'bonded_atoms' | **indices of bonded atoms** to the atoms defined by `indices` or `selection`| 'atom'|\n",
    "| 'bond_index' | **indices of bonds** in the list of targeted elements defined by `indices` or `selection`| 'atom', 'bond'|\n",
    "| 'bond_order' | **order of bonds** in the list of targeted elements defined by `indices` or `selection`| 'bond'|\n",
    "| 'bond_type' | **indices of bonds** in the list of targeted elements defined by `indices` or `selection`| 'bond'|\n",
    "| 'inner_bonded_atoms' | **indices of inner bonded atoms** in the list of targeted elements defined by `indices` or `selection`| 'atom'|\n",
    "| 'inner_bond_index' | **indices of inner bonds** in the list of targeted elements defined by `indices` or `selection`| 'atom'|\n",
    "| 'n_atoms' | **number of atoms** in the set of targeted elements defined by `indices` or `selection`| 'atom', 'group', 'component', 'chain', 'molecule', 'entity', 'system'|\n",
    "| 'n_groups' | **number of groups** in the set of targeted elements defined by `indices` or `selection`| 'atom', 'group', 'component', 'chain', 'molecule', 'entity', 'system'|\n",
    "| 'n_components' | **number of components** in the set of targeted elements defined by `indices` or `selection`| 'atom', 'group', 'component', 'chain', 'molecule', 'entity', 'system'|\n",
    "| 'n_molecules' | **number of molecules** in the set of targeted elements defined by `indices` or `selection`| 'atom', 'group', 'component', 'chain', 'molecule', 'entity', 'system'|\n",
    "| 'n_chains' | **number of chains** in the set of targeted elements defined by `indices` or `selection`| 'atom', 'group', 'component', 'chain', 'molecule', 'entity', 'system'|\n",
    "| 'n_entities' | **number of entities** in the set of targeted elements defined by `indices` or `selection`| 'atom', 'group', 'component', 'chain', 'molecule', 'entity', 'system'|\n",
    "| 'n_bonds' | **number of bonds** present in the set of elements defined by `indices` or `selection`| 'atom', 'group', 'component', 'chain', 'molecule', 'entity', 'system', 'bond'|\n",
    "| 'n_inner_bonds' | **number of inner bonds** present in the set of elements defined by `indices` or `selection`| 'atom' |\n",
    "| 'n_aminoacids' | **number of groups aminoacid type** in the system | 'system'|\n",
    "| 'n_nucleotides' | **number of groups nucleotide type** in the system | 'system'|\n",
    "| 'n_ions' | **number of molecules ion type** in the system | 'system'|\n",
    "| 'n_waters' | **number of molecules water type** in the system | 'system'|\n",
    "| 'n_cosolutes' | **number of molecules cosolute type** in the system | 'system'|\n",
    "| 'n_small_molecules' | **number of molecules small molecule type** in the system | 'system'|\n",
    "| 'n_peptides' | **number of molecules peptide type** in the system | 'system'|\n",
    "| 'n_proteins' | **number of molecules protein type** in the system | 'system'|\n",
    "| 'n_adns' | **number of molecules adn type** in the system | 'system'|\n",
    "| 'n_arns' | **number of molecules arn type** in the system | 'system'|\n",
    "| 'step' | **steps or model indices** array the trajectory| 'system'|\n",
    "| 'time' | **times** array in the trajectory| 'system'|\n",
    "| 'box' | **box vectors** defining the periodic box of the system -if any-| 'system'|\n",
    "| 'box_shape' | **box shape** of the periodic box of the system -if any-| 'system'|\n",
    "| 'box_lengths' | **edge lengths** of the periodic box of the system -if any-| 'system'|\n",
    "| 'box_angles' | **vertices angles** of the periodic box of the system -if any-| 'system'|\n",
    "| 'box_volume' | **volume** of the periodic box of the system -if any-| 'system'|\n",
    "| 'coordinates' | **coordinates of atoms** present in the set of elements defined by `indices` or `selection`| 'atom', 'system'|\n",
    "| 'frame' | **step, time, coordinates and box** in the trajectory, in this order| 'atom', 'system'|\n",
    "| 'n_frames' | **number of frames** stored in the trajectory| 'atom', 'system'|\n",
    "| 'form' | **form** of the molecular system| 'atom', 'system'|\n",
    "| 'has_topology' | True if **the molecular system contains topology** | 'system'|\n",
    "| 'has_coordinates' | True if **the molecular system contains coordinates** | 'system'|\n",
    "| 'has_box' | True if **the molecular system contains box** | 'system'|\n",
    "| 'has_bonds' | True if **the molecular system contains bonds** | 'system'|\n",
    "| 'has_parameters' | True if **the molecular system contains parameters** | 'system'|"
   ]
  },
  {
   "cell_type": "markdown",
   "metadata": {},
   "source": [
    "Not every attribute or observable works over every molecular system form. For instance, you have to consider that forms corresponding to python objects with only topological information, such as `molsysmt.Composition` or `mdtraj.Topology`, do not contain coordinates, box, time or n_frames."
   ]
  },
  {
   "cell_type": "markdown",
   "metadata": {},
   "source": [
    "## Some other examples involving atoms, groups, components, chains, molecules or entities\n",
    "\n",
    "Here you can find some additional examples where `msm.get()` works over atoms, groups, components, chains, molecules or entities:"
   ]
  },
  {
   "cell_type": "code",
   "execution_count": 21,
   "metadata": {},
   "outputs": [
    {
     "data": {
      "text/plain": [
       "array(['N', 'CA', 'C'], dtype=object)"
      ]
     },
     "execution_count": 21,
     "metadata": {},
     "output_type": "execute_result"
    }
   ],
   "source": [
    "# Name of atoms with index 0, 1 or 2\n",
    "msm.get(molecular_system, target='atom', indices=[0,1,2], name=True)"
   ]
  },
  {
   "cell_type": "code",
   "execution_count": 22,
   "metadata": {},
   "outputs": [
    {
     "data": {
      "text/plain": [
       "array(['N', 'CA', 'C'], dtype=object)"
      ]
     },
     "execution_count": 22,
     "metadata": {},
     "output_type": "execute_result"
    }
   ],
   "source": [
    "# Name of atoms with index 0, 1 or 2\n",
    "msm.get(molecular_system, target='atom', selection='atom_index in [0,1,2]', name=True)"
   ]
  },
  {
   "cell_type": "code",
   "execution_count": 23,
   "metadata": {},
   "outputs": [
    {
     "data": {
      "text/plain": [
       "array([4, 4, 4])"
      ]
     },
     "execution_count": 23,
     "metadata": {},
     "output_type": "execute_result"
    }
   ],
   "source": [
    "# Group id of atoms with index 0, 1 or 2\n",
    "msm.get(molecular_system, target='atom', selection='atom_index in [0,1,2]', group_id=True)"
   ]
  },
  {
   "cell_type": "code",
   "execution_count": 24,
   "metadata": {},
   "outputs": [
    {
     "data": {
      "text/plain": [
       "1"
      ]
     },
     "execution_count": 24,
     "metadata": {},
     "output_type": "execute_result"
    }
   ],
   "source": [
    "# Number of groups in atoms with index 0, 1 or 2\n",
    "msm.get(molecular_system, target='atom', selection='atom_index in [0,1,2]', n_groups=True)"
   ]
  },
  {
   "cell_type": "code",
   "execution_count": 25,
   "metadata": {},
   "outputs": [
    {
     "data": {
      "text/plain": [
       "array([4, 5, 6])"
      ]
     },
     "execution_count": 25,
     "metadata": {},
     "output_type": "execute_result"
    }
   ],
   "source": [
    "# Id of groups with index 0, 1 or 2\n",
    "msm.get(molecular_system, target='group', indices=[0,1,2], id=True)"
   ]
  },
  {
   "cell_type": "code",
   "execution_count": 26,
   "metadata": {},
   "outputs": [
    {
     "data": {
      "text/plain": [
       "array([4, 5, 6])"
      ]
     },
     "execution_count": 26,
     "metadata": {},
     "output_type": "execute_result"
    }
   ],
   "source": [
    "# Id of groups with index 0, 1 or 2\n",
    "msm.get(molecular_system, target='group', selection='group_index in [0,1,2]', id=True)"
   ]
  },
  {
   "cell_type": "code",
   "execution_count": 27,
   "metadata": {},
   "outputs": [
    {
     "data": {
      "text/plain": [
       "array([array([0, 1, 2, 3, 4, 5, 6, 7, 8]),\n",
       "       array([ 9, 10, 11, 12, 13, 14, 15])], dtype=object)"
      ]
     },
     "execution_count": 27,
     "metadata": {},
     "output_type": "execute_result"
    }
   ],
   "source": [
    "# Index of atoms in groups with index 0 or 1\n",
    "msm.get(molecular_system, target='group', indices=[0,1], atom_index=True)"
   ]
  },
  {
   "cell_type": "code",
   "execution_count": 28,
   "metadata": {},
   "outputs": [
    {
     "data": {
      "text/plain": [
       "array([0, 0, 0, ..., 1, 1, 1])"
      ]
     },
     "execution_count": 28,
     "metadata": {},
     "output_type": "execute_result"
    }
   ],
   "source": [
    "# Index of groups in atoms with index 0 to 15\n",
    "msm.get(molecular_system, target='atom', indices=range(16), group_index=True)"
   ]
  },
  {
   "cell_type": "code",
   "execution_count": 29,
   "metadata": {},
   "outputs": [
    {
     "data": {
      "text/plain": [
       "2"
      ]
     },
     "execution_count": 29,
     "metadata": {},
     "output_type": "execute_result"
    }
   ],
   "source": [
    "# Number of groups in atoms with index 0 to 15\n",
    "msm.get(molecular_system, target='atom', indices=range(16), n_groups=True)"
   ]
  },
  {
   "cell_type": "code",
   "execution_count": 30,
   "metadata": {},
   "outputs": [
    {
     "data": {
      "text/plain": [
       "array([array([  0,   1,   2, ..., 494, 495, 496]), array([497])],\n",
       "      dtype=object)"
      ]
     },
     "execution_count": 30,
     "metadata": {},
     "output_type": "execute_result"
    }
   ],
   "source": [
    "# Index of groups in molecule with index 0\n",
    "msm.get(molecular_system, target='molecule', indices=[0,1], group_index=True)"
   ]
  },
  {
   "cell_type": "code",
   "execution_count": 31,
   "metadata": {},
   "outputs": [
    {
     "data": {
      "text/plain": [
       "array([array(['LYS', 'PRO', 'GLN', ..., 'ALA', 'THR', 'LYS'], dtype=object),\n",
       "       array(['HOH'], dtype=object)], dtype=object)"
      ]
     },
     "execution_count": 31,
     "metadata": {},
     "output_type": "execute_result"
    }
   ],
   "source": [
    "# Names of groups in molecule of index 0\n",
    "msm.get(molecular_system, target='molecule', indices=[0,1], group_name=True)"
   ]
  },
  {
   "cell_type": "code",
   "execution_count": 32,
   "metadata": {},
   "outputs": [
    {
     "data": {
      "text/plain": [
       "1"
      ]
     },
     "execution_count": 32,
     "metadata": {},
     "output_type": "execute_result"
    }
   ],
   "source": [
    "# Number of molecules of type protein\n",
    "msm.get(molecular_system, target='molecule', selection='molecule_type==\"protein\"', n_molecules=True)"
   ]
  },
  {
   "cell_type": "code",
   "execution_count": 33,
   "metadata": {},
   "outputs": [
    {
     "data": {
      "text/plain": [
       "[497]"
      ]
     },
     "execution_count": 33,
     "metadata": {},
     "output_type": "execute_result"
    }
   ],
   "source": [
    "# Number of groups in molecules of type protein\n",
    "msm.get(molecular_system, target='molecule', selection='molecule_type==\"protein\"', n_groups=True)"
   ]
  },
  {
   "cell_type": "code",
   "execution_count": 34,
   "metadata": {},
   "outputs": [
    {
     "data": {
      "text/plain": [
       "165"
      ]
     },
     "execution_count": 34,
     "metadata": {},
     "output_type": "execute_result"
    }
   ],
   "source": [
    "# Number of groups in molecules of type water\n",
    "msm.get(molecular_system, target='group', selection='molecule_type==\"water\"', n_groups=True)"
   ]
  },
  {
   "cell_type": "code",
   "execution_count": 35,
   "metadata": {},
   "outputs": [
    {
     "data": {
      "text/plain": [
       "array(['TRIOSEPHOSPHATE ISOMERASE'], dtype=object)"
      ]
     },
     "execution_count": 35,
     "metadata": {},
     "output_type": "execute_result"
    }
   ],
   "source": [
    "# Name of entity with index 0\n",
    "msm.get(molecular_system, target='entity', indices=0, name=True)"
   ]
  },
  {
   "cell_type": "code",
   "execution_count": 36,
   "metadata": {},
   "outputs": [
    {
     "data": {
      "text/plain": [
       "array(['water'], dtype=object)"
      ]
     },
     "execution_count": 36,
     "metadata": {},
     "output_type": "execute_result"
    }
   ],
   "source": [
    "# Type of entity with index 1\n",
    "msm.get(molecular_system, target='entity', indices=1, type=True)"
   ]
  },
  {
   "cell_type": "code",
   "execution_count": 37,
   "metadata": {},
   "outputs": [
    {
     "data": {
      "text/plain": [
       "[165]"
      ]
     },
     "execution_count": 37,
     "metadata": {},
     "output_type": "execute_result"
    }
   ],
   "source": [
    "# Number of molecules in entity with index 1\n",
    "msm.get(molecular_system, target='entity', indices=1, n_molecules=True)"
   ]
  },
  {
   "cell_type": "code",
   "execution_count": 38,
   "metadata": {},
   "outputs": [
    {
     "data": {
      "text/plain": [
       "array([[  1,   2,   3, ..., 163, 164, 165]])"
      ]
     },
     "execution_count": 38,
     "metadata": {},
     "output_type": "execute_result"
    }
   ],
   "source": [
    "# Index of molecules in entity with index 1\n",
    "msm.get(molecular_system, target='entity', indices=1, molecule_index=True)"
   ]
  },
  {
   "cell_type": "code",
   "execution_count": 39,
   "metadata": {},
   "outputs": [
    {
     "data": {
      "text/plain": [
       "array(['protein', 'protein', 'protein'], dtype=object)"
      ]
     },
     "execution_count": 39,
     "metadata": {},
     "output_type": "execute_result"
    }
   ],
   "source": [
    "# Molecule type of groups with index 10, 11 or 12\n",
    "msm.get(molecular_system, target='group', indices=[10,11,12], molecule_type=True)"
   ]
  },
  {
   "cell_type": "code",
   "execution_count": 40,
   "metadata": {},
   "outputs": [
    {
     "data": {
      "text/plain": [
       "array(['water', 'water', 'water', 'water', 'water', 'water', 'water',\n",
       "       'water', 'water'], dtype=object)"
      ]
     },
     "execution_count": 40,
     "metadata": {},
     "output_type": "execute_result"
    }
   ],
   "source": [
    "# Molecule type of molecules with index 1 to 9\n",
    "msm.get(molecular_system, target='molecule', indices=range(1,10), molecule_type=True)"
   ]
  },
  {
   "cell_type": "code",
   "execution_count": 41,
   "metadata": {},
   "outputs": [
    {
     "data": {
      "text/plain": [
       "497"
      ]
     },
     "execution_count": 41,
     "metadata": {},
     "output_type": "execute_result"
    }
   ],
   "source": [
    "# Number of groups of type aminoacid\n",
    "msm.get(molecular_system, target='group', selection='group_type==\"aminoacid\"', n_groups=True)"
   ]
  },
  {
   "cell_type": "code",
   "execution_count": 42,
   "metadata": {},
   "outputs": [
    {
     "data": {
      "text/plain": [
       "[248, 249]"
      ]
     },
     "execution_count": 42,
     "metadata": {},
     "output_type": "execute_result"
    }
   ],
   "source": [
    "# Number of groups of a set of components\n",
    "msm.get(molecular_system, target='component', indices=[0,1], n_groups=True)"
   ]
  },
  {
   "cell_type": "code",
   "execution_count": 43,
   "metadata": {},
   "outputs": [
    {
     "data": {
      "text/plain": [
       "497"
      ]
     },
     "execution_count": 43,
     "metadata": {},
     "output_type": "execute_result"
    }
   ],
   "source": [
    "# Total number of groups of a set of comopnents\n",
    "msm.get(molecular_system, target='atom', selection='component_index==[0,1]', n_groups=True)"
   ]
  },
  {
   "cell_type": "markdown",
   "metadata": {},
   "source": [
    "## Some other examples involving systems\n",
    "\n",
    "The element system has some specific observables accounting for the amount of type of elements such as the number of aminoacid groups, ion molecules or protein molecules:"
   ]
  },
  {
   "cell_type": "code",
   "execution_count": 44,
   "metadata": {},
   "outputs": [
    {
     "data": {
      "text/plain": [
       "497"
      ]
     },
     "execution_count": 44,
     "metadata": {},
     "output_type": "execute_result"
    }
   ],
   "source": [
    "# Number of aminoacid groups in the system\n",
    "msm.get(molecular_system, target='system', n_aminoacids=True)"
   ]
  },
  {
   "cell_type": "code",
   "execution_count": 45,
   "metadata": {},
   "outputs": [
    {
     "data": {
      "text/plain": [
       "165"
      ]
     },
     "execution_count": 45,
     "metadata": {},
     "output_type": "execute_result"
    }
   ],
   "source": [
    "# Number of aminoacid groups in the system\n",
    "msm.get(molecular_system, target='system', n_waters=True)"
   ]
  },
  {
   "cell_type": "code",
   "execution_count": 46,
   "metadata": {},
   "outputs": [
    {
     "data": {
      "text/plain": [
       "0"
      ]
     },
     "execution_count": 46,
     "metadata": {},
     "output_type": "execute_result"
    }
   ],
   "source": [
    "# Number of ion molecules in the system\n",
    "msm.get(molecular_system, target='system', n_ions=True)"
   ]
  },
  {
   "cell_type": "code",
   "execution_count": 47,
   "metadata": {},
   "outputs": [
    {
     "data": {
      "text/plain": [
       "1"
      ]
     },
     "execution_count": 47,
     "metadata": {},
     "output_type": "execute_result"
    }
   ],
   "source": [
    "# Number of protein molecules in the system\n",
    "msm.get(molecular_system, target='system', n_proteins=True)"
   ]
  },
  {
   "cell_type": "code",
   "execution_count": 48,
   "metadata": {},
   "outputs": [
    {
     "data": {
      "text/plain": [
       "0"
      ]
     },
     "execution_count": 48,
     "metadata": {},
     "output_type": "execute_result"
    }
   ],
   "source": [
    "# Number of rna molecules in the system\n",
    "msm.get(molecular_system, target='system', n_rnas=True)"
   ]
  },
  {
   "cell_type": "code",
   "execution_count": 49,
   "metadata": {},
   "outputs": [
    {
     "data": {
      "text/plain": [
       "3983"
      ]
     },
     "execution_count": 49,
     "metadata": {},
     "output_type": "execute_result"
    }
   ],
   "source": [
    "# Number of atoms in the system\n",
    "msm.get(molecular_system, target='system', n_atoms=True)"
   ]
  },
  {
   "cell_type": "code",
   "execution_count": 50,
   "metadata": {},
   "outputs": [
    {
     "data": {
      "text/plain": [
       "2"
      ]
     },
     "execution_count": 50,
     "metadata": {},
     "output_type": "execute_result"
    }
   ],
   "source": [
    "# Number of entities in the system\n",
    "msm.get(molecular_system, target='system', n_entities=True)"
   ]
  },
  {
   "cell_type": "code",
   "execution_count": 51,
   "metadata": {},
   "outputs": [
    {
     "data": {
      "text/plain": [
       "True"
      ]
     },
     "execution_count": 51,
     "metadata": {},
     "output_type": "execute_result"
    }
   ],
   "source": [
    "# The system contains topology\n",
    "msm.get(molecular_system, target='system', has_topology=True)"
   ]
  },
  {
   "cell_type": "code",
   "execution_count": null,
   "metadata": {},
   "outputs": [],
   "source": [
    "# The system contains coordinates\n",
    "msm.get(molecular_system, target='system', has_coordinates=True)"
   ]
  },
  {
   "cell_type": "code",
   "execution_count": 53,
   "metadata": {},
   "outputs": [
    {
     "data": {
      "text/plain": [
       "False"
      ]
     },
     "execution_count": 53,
     "metadata": {},
     "output_type": "execute_result"
    }
   ],
   "source": [
    "# The system contains parameters\n",
    "msm.get(molecular_system, target='system', has_parameters=True)"
   ]
  },
  {
   "cell_type": "code",
   "execution_count": 54,
   "metadata": {},
   "outputs": [
    {
     "data": {
      "text/plain": [
       "True"
      ]
     },
     "execution_count": 54,
     "metadata": {},
     "output_type": "execute_result"
    }
   ],
   "source": [
    "# The system contains periodic box\n",
    "msm.get(molecular_system, target='system', has_box=True)"
   ]
  },
  {
   "cell_type": "code",
   "execution_count": 55,
   "metadata": {},
   "outputs": [
    {
     "data": {
      "text/plain": [
       "True"
      ]
     },
     "execution_count": 55,
     "metadata": {},
     "output_type": "execute_result"
    }
   ],
   "source": [
    "# The system contains bonds\n",
    "msm.get(molecular_system, target='system', has_bonds=True)"
   ]
  },
  {
   "cell_type": "markdown",
   "metadata": {},
   "source": [
    "## Some other examples involving bonds"
   ]
  },
  {
   "cell_type": "code",
   "execution_count": 57,
   "metadata": {},
   "outputs": [
    {
     "data": {
      "text/plain": [
       "array([array([1]), array([0, 2, 4]), array([1, 3, 9]), array([2]),\n",
       "       array([1, 5]), array([4, 6])], dtype=object)"
      ]
     },
     "execution_count": 57,
     "metadata": {},
     "output_type": "execute_result"
    }
   ],
   "source": [
    "msm.get(molecular_system, target='atom', indices=[0,1,2,3,4,5], bonded_atoms=True)"
   ]
  },
  {
   "cell_type": "code",
   "execution_count": 58,
   "metadata": {},
   "outputs": [
    {
     "data": {
      "text/plain": [
       "array([array([0]), array([0, 1, 3]), array([   1,    2, 3395]),\n",
       "       array([2]), array([3, 4]), array([4, 5])], dtype=object)"
      ]
     },
     "execution_count": 58,
     "metadata": {},
     "output_type": "execute_result"
    }
   ],
   "source": [
    "msm.get(molecular_system, target='atom', indices=[0,1,2,3,4,5], bond_index=True)"
   ]
  },
  {
   "cell_type": "code",
   "execution_count": 59,
   "metadata": {},
   "outputs": [
    {
     "data": {
      "text/plain": [
       "array([1, 3, 3, 1, 2, 2])"
      ]
     },
     "execution_count": 59,
     "metadata": {},
     "output_type": "execute_result"
    }
   ],
   "source": [
    "msm.get(molecular_system, target='atom', indices=[0,1,2,3,4,5], n_bonds=True)"
   ]
  },
  {
   "cell_type": "code",
   "execution_count": 60,
   "metadata": {},
   "outputs": [
    {
     "data": {
      "text/plain": [
       "array([[1, 0],\n",
       "       [2, 1],\n",
       "       [3, 2],\n",
       "       [4, 1],\n",
       "       [5, 4]])"
      ]
     },
     "execution_count": 60,
     "metadata": {},
     "output_type": "execute_result"
    }
   ],
   "source": [
    "msm.get(molecular_system, target='atom', indices=[0,1,2,3,4,5], inner_bonded_atoms=True)"
   ]
  },
  {
   "cell_type": "code",
   "execution_count": 61,
   "metadata": {},
   "outputs": [
    {
     "data": {
      "text/plain": [
       "array([0, 1, 2, 3, 4])"
      ]
     },
     "execution_count": 61,
     "metadata": {},
     "output_type": "execute_result"
    }
   ],
   "source": [
    "msm.get(molecular_system, target='atom', indices=[0,1,2,3,4,5], inner_bond_index=True)"
   ]
  },
  {
   "cell_type": "code",
   "execution_count": 62,
   "metadata": {},
   "outputs": [
    {
     "data": {
      "text/plain": [
       "5"
      ]
     },
     "execution_count": 62,
     "metadata": {},
     "output_type": "execute_result"
    }
   ],
   "source": [
    "msm.get(molecular_system, target='atom', indices=[0,1,2,3,4,5], n_inner_bonds=True)"
   ]
  },
  {
   "cell_type": "code",
   "execution_count": 63,
   "metadata": {},
   "outputs": [
    {
     "data": {
      "text/plain": [
       "array([23, 24, 25, 26, 27, 28, 29])"
      ]
     },
     "execution_count": 63,
     "metadata": {},
     "output_type": "execute_result"
    }
   ],
   "source": [
    "msm.get(molecular_system, target='bond', selection='group_index==3', index=True)"
   ]
  },
  {
   "cell_type": "code",
   "execution_count": 64,
   "metadata": {},
   "outputs": [
    {
     "data": {
      "text/plain": [
       "array([[1, 0],\n",
       "       [2, 1],\n",
       "       [3, 2],\n",
       "       [4, 1],\n",
       "       [5, 4]])"
      ]
     },
     "execution_count": 64,
     "metadata": {},
     "output_type": "execute_result"
    }
   ],
   "source": [
    "msm.get(molecular_system, target='bond', indices=[0,1,2,3,4], atom_index=True)"
   ]
  },
  {
   "cell_type": "code",
   "execution_count": 65,
   "metadata": {},
   "outputs": [
    {
     "data": {
      "text/plain": [
       "array([[26, 25],\n",
       "       [27, 26],\n",
       "       [28, 27],\n",
       "       ...,\n",
       "       [30, 29],\n",
       "       [31, 25],\n",
       "       [31, 30]])"
      ]
     },
     "execution_count": 65,
     "metadata": {},
     "output_type": "execute_result"
    }
   ],
   "source": [
    "msm.get(molecular_system, target='bond', selection='group_index==3', atom_index=True)"
   ]
  },
  {
   "cell_type": "code",
   "execution_count": 66,
   "metadata": {},
   "outputs": [
    {
     "data": {
      "text/plain": [
       "array([1, 1, 2, 1])"
      ]
     },
     "execution_count": 66,
     "metadata": {},
     "output_type": "execute_result"
    }
   ],
   "source": [
    "msm.get(molecular_system, target='bond', indices=[0,1,2,3], order=True)"
   ]
  },
  {
   "cell_type": "code",
   "execution_count": 67,
   "metadata": {},
   "outputs": [
    {
     "data": {
      "text/plain": [
       "7"
      ]
     },
     "execution_count": 67,
     "metadata": {},
     "output_type": "execute_result"
    }
   ],
   "source": [
    "msm.get(molecular_system, target='bond', selection='group_index==3', n_bonds=True)"
   ]
  },
  {
   "cell_type": "code",
   "execution_count": 68,
   "metadata": {},
   "outputs": [
    {
     "data": {
      "text/plain": [
       "3890"
      ]
     },
     "execution_count": 68,
     "metadata": {},
     "output_type": "execute_result"
    }
   ],
   "source": [
    "msm.get(molecular_system, target='system', n_bonds=True)"
   ]
  },
  {
   "cell_type": "markdown",
   "metadata": {},
   "source": [
    "## Getting trajectory times, coordinates and pbc box attributes"
   ]
  },
  {
   "cell_type": "code",
   "execution_count": 69,
   "metadata": {},
   "outputs": [
    {
     "data": {
      "text/plain": [
       "1"
      ]
     },
     "execution_count": 69,
     "metadata": {},
     "output_type": "execute_result"
    }
   ],
   "source": [
    "msm.get(molecular_system, target='system', n_frames=True)"
   ]
  },
  {
   "cell_type": "code",
   "execution_count": 70,
   "metadata": {},
   "outputs": [
    {
     "data": {
      "text/plain": [
       "Quantity(value=array([[[1.8835, 3.8271, 5.0365]]]), unit=nanometer)"
      ]
     },
     "execution_count": 70,
     "metadata": {},
     "output_type": "execute_result"
    }
   ],
   "source": [
    "msm.get(molecular_system, target='atom', indices=100, frame_indices=0, coordinates=True)"
   ]
  },
  {
   "cell_type": "code",
   "execution_count": 71,
   "metadata": {},
   "outputs": [
    {
     "data": {
      "text/plain": [
       "Quantity(value=array([[[1.8467, 2.7638, 8.3661],\n",
       "        [1.8581, 2.8457, 8.2415],\n",
       "        [1.7231, 2.8537, 8.1751],\n",
       "        ...,\n",
       "        [2.685 , 6.2692, 5.3171],\n",
       "        [0.0135, 4.6709, 3.6203],\n",
       "        [0.5324, 6.5124, 5.1425]]]), unit=nanometer)"
      ]
     },
     "execution_count": 71,
     "metadata": {},
     "output_type": "execute_result"
    }
   ],
   "source": [
    "msm.get(molecular_system, target='system', coordinates=True)"
   ]
  },
  {
   "cell_type": "code",
   "execution_count": 72,
   "metadata": {},
   "outputs": [
    {
     "data": {
      "text/plain": [
       "Quantity(value=array([0.]), unit=picosecond)"
      ]
     },
     "execution_count": 72,
     "metadata": {},
     "output_type": "execute_result"
    }
   ],
   "source": [
    "msm.get(molecular_system, target='system', time=True)"
   ]
  },
  {
   "cell_type": "code",
   "execution_count": 73,
   "metadata": {},
   "outputs": [
    {
     "data": {
      "text/plain": [
       "Quantity(value=array([[[4.37099990e+00, 0.00000000e+00, 0.00000000e+00],\n",
       "        [1.00000000e-07, 7.76500020e+00, 0.00000000e+00],\n",
       "        [2.00000000e-07, 2.00000000e-07, 1.49539993e+01]]]), unit=nanometer)"
      ]
     },
     "execution_count": 73,
     "metadata": {},
     "output_type": "execute_result"
    }
   ],
   "source": [
    "msm.get(molecular_system, target='system', frame_indices=0, box=True)"
   ]
  },
  {
   "cell_type": "code",
   "execution_count": 74,
   "metadata": {},
   "outputs": [
    {
     "data": {
      "text/plain": [
       "[Quantity(value=array([[ 4.371   ,  7.765   , 14.953999]]), unit=nanometer),\n",
       " Quantity(value=array([[90., 90., 90.]]), unit=degree)]"
      ]
     },
     "execution_count": 74,
     "metadata": {},
     "output_type": "execute_result"
    }
   ],
   "source": [
    "msm.get(molecular_system, target='system', frame_indices=0, box_lengths=True, box_angles=True)"
   ]
  }
 ],
 "metadata": {
  "kernelspec": {
   "display_name": "Python 3",
   "language": "python",
   "name": "python3"
  },
  "language_info": {
   "codemirror_mode": {
    "name": "ipython",
    "version": 3
   },
   "file_extension": ".py",
   "mimetype": "text/x-python",
   "name": "python",
   "nbconvert_exporter": "python",
   "pygments_lexer": "ipython3",
   "version": "3.7.8"
  }
 },
 "nbformat": 4,
 "nbformat_minor": 4
}
