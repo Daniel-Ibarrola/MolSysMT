{
 "cells": [
  {
   "cell_type": "code",
   "execution_count": 1,
   "metadata": {},
   "outputs": [],
   "source": [
    "%load_ext autoreload\n",
    "%autoreload 2"
   ]
  },
  {
   "cell_type": "code",
   "execution_count": 2,
   "metadata": {},
   "outputs": [
    {
     "data": {
      "application/vnd.jupyter.widget-view+json": {
       "model_id": "856509928fa5401fb9adae1281bf6db4",
       "version_major": 2,
       "version_minor": 0
      },
      "text/plain": []
     },
     "metadata": {},
     "output_type": "display_data"
    }
   ],
   "source": [
    "import molsysmt as msm"
   ]
  },
  {
   "cell_type": "markdown",
   "metadata": {},
   "source": [
    "# Force Fields"
   ]
  },
  {
   "cell_type": "code",
   "execution_count": 8,
   "metadata": {},
   "outputs": [],
   "source": [
    "from molsysmt.utils.forcefields import _forcefields as forcefields\n",
    "from molsysmt.utils.forcefields import _water_models as water_models\n",
    "from molsysmt.utils.forcefields import switcher\n",
    "import pandas as pd"
   ]
  },
  {
   "cell_type": "code",
   "execution_count": 14,
   "metadata": {},
   "outputs": [
    {
     "data": {
      "text/plain": [
       "{'AMBER96': '', 'AMBER99': '', 'AMBER99SB': '', 'AMBER99SBILDN': '', 'AMBER99SBNMR': '', 'AMBER14': '', 'CHARMM36': '', 'GAFF': ''}"
      ]
     },
     "execution_count": 14,
     "metadata": {},
     "output_type": "execute_result"
    }
   ],
   "source": [
    "forcefields"
   ]
  },
  {
   "cell_type": "code",
   "execution_count": 15,
   "metadata": {},
   "outputs": [
    {
     "data": {
      "text/plain": [
       "{'SPC': '', 'SPC/E': '', 'TIP3P': '', 'TIP3P-FB': '', 'TIP3P-PME-B': 'TIP3P from Charmm36', 'TIP3P-PME-F': 'TIP3P from Charmm36', 'TIP4P': '', 'TIP4P-EW': '', 'TIP4P-FB': '', 'TIP4P/2005': '', 'TIP5P': '', 'TIP5P-EW': ''}"
      ]
     },
     "execution_count": 15,
     "metadata": {},
     "output_type": "execute_result"
    }
   ],
   "source": [
    "water_models"
   ]
  },
  {
   "cell_type": "code",
   "execution_count": 16,
   "metadata": {},
   "outputs": [
    {
     "data": {
      "text/plain": [
       "{'AMBER14': {'vacuum': ['amber14-all.xml'], 'SPC/E': ['amber14-all.xml', 'amber14/spce.xml'], 'TIP3P': ['amber14-all.xml', 'amber14/tip3p.xml'], 'TIP3P-FB': ['amber14-all.xml', 'amber14/tip3pfb.xml'], 'TIP4P-EW': ['amber14-all.xml', 'amber14/tip4pew.xml'], 'TIP4P-FB': ['amber14-all.xml', 'amber14/tip4pfb.xml']}}"
      ]
     },
     "execution_count": 16,
     "metadata": {},
     "output_type": "execute_result"
    }
   ],
   "source": [
    "switcher['OpenMM']"
   ]
  },
  {
   "cell_type": "code",
   "execution_count": 18,
   "metadata": {},
   "outputs": [
    {
     "data": {
      "text/plain": [
       "{'AMBER14': {'vacuum': ['leaprc.protein.ff14SB'], 'SPC': ['leaprc.protein.ff14SB', 'leaprc.water.spc'], 'TIP3P': ['leaprc.protein.ff14SB', 'leaprc.water.tip3p']}, 'AMBER99SBILDN': {'vacuum': ['oldff/leaprc.ff99SBildn']}, 'AMBER96': {'vacuum': ['oldff/leaprc.ff96']}, 'GAFF': {'vacuum': ['leaprc.gaff']}}"
      ]
     },
     "execution_count": 18,
     "metadata": {},
     "output_type": "execute_result"
    }
   ],
   "source": [
    "switcher['LEaP']"
   ]
  },
  {
   "cell_type": "markdown",
   "metadata": {},
   "source": [
    "## Info\n",
    "\n",
    "https://github.com/openmm/openmmforcefields     \n",
    "https://ommprotocol.readthedocs.io/en/latest/forcefields.html     \n",
    "https://github.com/openmm/openmm/tree/master/wrappers/python/simtk/openmm/app/data     \n",
    "http://docs.openmm.org/latest/userguide/application.html#force-fields     \n"
   ]
  }
 ],
 "metadata": {
  "kernelspec": {
   "display_name": "Python 3",
   "language": "python",
   "name": "python3"
  },
  "language_info": {
   "codemirror_mode": {
    "name": "ipython",
    "version": 3
   },
   "file_extension": ".py",
   "mimetype": "text/x-python",
   "name": "python",
   "nbconvert_exporter": "python",
   "pygments_lexer": "ipython3",
   "version": "3.7.9"
  }
 },
 "nbformat": 4,
 "nbformat_minor": 4
}
