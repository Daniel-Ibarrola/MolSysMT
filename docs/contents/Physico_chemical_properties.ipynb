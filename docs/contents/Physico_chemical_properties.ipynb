{
 "cells": [
  {
   "cell_type": "code",
   "execution_count": 1,
   "metadata": {},
   "outputs": [],
   "source": [
    "%load_ext autoreload\n",
    "%autoreload 2"
   ]
  },
  {
   "cell_type": "code",
   "execution_count": 2,
   "metadata": {},
   "outputs": [
    {
     "data": {
      "application/vnd.jupyter.widget-view+json": {
       "model_id": "806c81a7f01e495490df1e968cd55ede",
       "version_major": 2,
       "version_minor": 0
      },
      "text/plain": []
     },
     "metadata": {},
     "output_type": "display_data"
    }
   ],
   "source": [
    "import molsysmt as msm"
   ]
  },
  {
   "cell_type": "markdown",
   "metadata": {},
   "source": [
    "# How to get chemical and physical properties "
   ]
  },
  {
   "cell_type": "code",
   "execution_count": 3,
   "metadata": {},
   "outputs": [],
   "source": [
    "file_path = msm.demo_systems.files['1tcd.pdb']"
   ]
  },
  {
   "cell_type": "code",
   "execution_count": 4,
   "metadata": {},
   "outputs": [],
   "source": [
    "molecular_system = msm.convert(file_path)"
   ]
  },
  {
   "cell_type": "code",
   "execution_count": 5,
   "metadata": {},
   "outputs": [
    {
     "name": "stdout",
     "output_type": "stream",
     "text": [
      "0 hydrogens in the system\n"
     ]
    }
   ],
   "source": [
    "n_Hs = msm.get(molecular_system, selection='atom_type==\"H\"', n_atoms=True)\n",
    "print('{} hydrogens in the system'.format(n_Hs))"
   ]
  },
  {
   "cell_type": "code",
   "execution_count": 6,
   "metadata": {},
   "outputs": [],
   "source": [
    "molecular_system = msm.add_missing_hydrogens(molecular_system)"
   ]
  },
  {
   "cell_type": "code",
   "execution_count": 7,
   "metadata": {},
   "outputs": [
    {
     "name": "stdout",
     "output_type": "stream",
     "text": [
      "4219 hydrogens in the system\n"
     ]
    }
   ],
   "source": [
    "n_Hs = msm.get(molecular_system, selection='atom_type==\"H\"', n_atoms=True)\n",
    "print('{} hydrogens in the system'.format(n_Hs))"
   ]
  },
  {
   "cell_type": "code",
   "execution_count": 8,
   "metadata": {},
   "outputs": [
    {
     "data": {
      "text/html": [
       "<style  type=\"text/css\" >\n",
       "</style><table id=\"T_3cfa3_\" ><thead>    <tr>        <th class=\"col_heading level0 col0\" >form</th>        <th class=\"col_heading level0 col1\" >n_atoms</th>        <th class=\"col_heading level0 col2\" >n_groups</th>        <th class=\"col_heading level0 col3\" >n_components</th>        <th class=\"col_heading level0 col4\" >n_chains</th>        <th class=\"col_heading level0 col5\" >n_molecules</th>        <th class=\"col_heading level0 col6\" >n_entities</th>        <th class=\"col_heading level0 col7\" >n_waters</th>        <th class=\"col_heading level0 col8\" >n_proteins</th>        <th class=\"col_heading level0 col9\" >n_frames</th>    </tr></thead><tbody>\n",
       "                <tr>\n",
       "                                <td id=\"T_3cfa3_row0_col0\" class=\"data row0 col0\" >molsysmt.MolSys</td>\n",
       "                        <td id=\"T_3cfa3_row0_col1\" class=\"data row0 col1\" >8202</td>\n",
       "                        <td id=\"T_3cfa3_row0_col2\" class=\"data row0 col2\" >662</td>\n",
       "                        <td id=\"T_3cfa3_row0_col3\" class=\"data row0 col3\" >167</td>\n",
       "                        <td id=\"T_3cfa3_row0_col4\" class=\"data row0 col4\" >4</td>\n",
       "                        <td id=\"T_3cfa3_row0_col5\" class=\"data row0 col5\" >167</td>\n",
       "                        <td id=\"T_3cfa3_row0_col6\" class=\"data row0 col6\" >3</td>\n",
       "                        <td id=\"T_3cfa3_row0_col7\" class=\"data row0 col7\" >165</td>\n",
       "                        <td id=\"T_3cfa3_row0_col8\" class=\"data row0 col8\" >2</td>\n",
       "                        <td id=\"T_3cfa3_row0_col9\" class=\"data row0 col9\" >1</td>\n",
       "            </tr>\n",
       "    </tbody></table>"
      ],
      "text/plain": [
       "<pandas.io.formats.style.Styler at 0x7f3f122bbfd0>"
      ]
     },
     "execution_count": 8,
     "metadata": {},
     "output_type": "execute_result"
    }
   ],
   "source": [
    "msm.info(molecular_system)"
   ]
  },
  {
   "cell_type": "markdown",
   "metadata": {},
   "source": [
    "## Mass"
   ]
  },
  {
   "cell_type": "code",
   "execution_count": 9,
   "metadata": {},
   "outputs": [],
   "source": [
    "masses = msm.physchem.mass(molecular_system, target='atom', selection='molecule_index == 2')"
   ]
  },
  {
   "cell_type": "code",
   "execution_count": 10,
   "metadata": {},
   "outputs": [
    {
     "data": {
      "text/html": [
       "<table><tbody><tr><th>Magnitude</th><td style='text-align:left;'><pre>[15.999 1.008 1.008]</pre></td></tr><tr><th>Units</th><td style='text-align:left;'>unified_atomic_mass_unit</td></tr></tbody></table>"
      ],
      "text/latex": [
       "$\\begin{pmatrix}15.999 & 1.008 & 1.008\\end{pmatrix}\\ \\mathrm{unified\\_atomic\\_mass\\_unit}$"
      ],
      "text/plain": [
       "array([15.999,  1.008,  1.008]) <Unit('unified_atomic_mass_unit')>"
      ]
     },
     "execution_count": 10,
     "metadata": {},
     "output_type": "execute_result"
    }
   ],
   "source": [
    "masses"
   ]
  },
  {
   "cell_type": "code",
   "execution_count": 11,
   "metadata": {},
   "outputs": [],
   "source": [
    "masses = msm.physchem.mass(molecular_system, target='group', selection='group_index == [0,1,2]')"
   ]
  },
  {
   "cell_type": "code",
   "execution_count": 12,
   "metadata": {},
   "outputs": [
    {
     "data": {
      "text/html": [
       "<table><tbody><tr><th>Magnitude</th><td style='text-align:left;'><pre>[131.199 97.11699999999996 128.131]</pre></td></tr><tr><th>Units</th><td style='text-align:left;'>unified_atomic_mass_unit</td></tr></tbody></table>"
      ],
      "text/latex": [
       "$\\begin{pmatrix}131.199 & 97.11699999999996 & 128.131\\end{pmatrix}\\ \\mathrm{unified\\_atomic\\_mass\\_unit}$"
      ],
      "text/plain": [
       "array([131.199,  97.117, 128.131]) <Unit('unified_atomic_mass_unit')>"
      ]
     },
     "execution_count": 12,
     "metadata": {},
     "output_type": "execute_result"
    }
   ],
   "source": [
    "masses"
   ]
  },
  {
   "cell_type": "code",
   "execution_count": 13,
   "metadata": {},
   "outputs": [],
   "source": [
    "masses = msm.physchem.mass(molecular_system, target='component', selection='chain_id==\"A\"')"
   ]
  },
  {
   "cell_type": "code",
   "execution_count": 14,
   "metadata": {},
   "outputs": [
    {
     "data": {
      "text/html": [
       "<table><tbody><tr><th>Magnitude</th><td style='text-align:left;'><pre>[27043.235999999997 18.015 18.015 ... 18.015 18.015 18.015]</pre></td></tr><tr><th>Units</th><td style='text-align:left;'>unified_atomic_mass_unit</td></tr></tbody></table>"
      ],
      "text/latex": [
       "$\\begin{pmatrix}27043.235999999997 & 18.015 & 18.015 & 18.015 & 18.015 & 18.015 & 18.015 & 18.015 & 18.015 & 18.015 & 18.015 & 18.015 & 18.015 & 18.015 & 18.015 & 18.015 & 18.015 & 18.015 & 18.015 & 18.015 & 18.015 & 18.015 & 18.015 & 18.015 & 18.015 & 18.015 & 18.015 & 18.015 & 18.015 & 18.015 & 18.015 & 18.015 & 18.015 & 18.015 & 18.015 & 18.015 & 18.015 & 18.015 & 18.015 & 18.015 & 18.015 & 18.015 & 18.015 & 18.015 & 18.015 & 18.015 & 18.015 & 18.015 & 18.015 & 18.015 & 18.015 & 18.015 & 18.015 & 18.015 & 18.015 & 18.015 & 18.015 & 18.015 & 18.015 & 18.015 & 18.015 & 18.015 & 18.015 & 18.015 & 18.015 & 18.015 & 18.015 & 18.015 & 18.015 & 18.015 & 18.015 & 18.015 & 18.015 & 18.015\\end{pmatrix}\\ \\mathrm{unified\\_atomic\\_mass\\_unit}$"
      ],
      "text/plain": [
       "array([2.7043236e+04, 1.8015000e+01, 1.8015000e+01, ..., 1.8015000e+01,\n",
       "       1.8015000e+01, 1.8015000e+01]) <Unit('unified_atomic_mass_unit')>"
      ]
     },
     "execution_count": 14,
     "metadata": {},
     "output_type": "execute_result"
    }
   ],
   "source": [
    "masses"
   ]
  },
  {
   "cell_type": "code",
   "execution_count": 15,
   "metadata": {},
   "outputs": [],
   "source": [
    "masses = msm.physchem.mass(molecular_system, target='entity', selection='molecule_type==\"water\"')"
   ]
  },
  {
   "cell_type": "code",
   "execution_count": 16,
   "metadata": {},
   "outputs": [
    {
     "data": {
      "text/html": [
       "<table><tbody><tr><th>Magnitude</th><td style='text-align:left;'><pre>[2972.475]</pre></td></tr><tr><th>Units</th><td style='text-align:left;'>unified_atomic_mass_unit</td></tr></tbody></table>"
      ],
      "text/latex": [
       "$\\begin{pmatrix}2972.475\\end{pmatrix}\\ \\mathrm{unified\\_atomic\\_mass\\_unit}$"
      ],
      "text/plain": [
       "array([2972.475]) <Unit('unified_atomic_mass_unit')>"
      ]
     },
     "execution_count": 16,
     "metadata": {},
     "output_type": "execute_result"
    }
   ],
   "source": [
    "masses"
   ]
  },
  {
   "cell_type": "code",
   "execution_count": 17,
   "metadata": {},
   "outputs": [],
   "source": [
    "mass = msm.physchem.mass(molecular_system, target='system')"
   ]
  },
  {
   "cell_type": "code",
   "execution_count": 18,
   "metadata": {},
   "outputs": [
    {
     "data": {
      "text/html": [
       "57146.024999999994 unified_atomic_mass_unit"
      ],
      "text/latex": [
       "$57146.024999999994\\ \\mathrm{unified\\_atomic\\_mass\\_unit}$"
      ],
      "text/plain": [
       "57146.024999999994 <Unit('unified_atomic_mass_unit')>"
      ]
     },
     "execution_count": 18,
     "metadata": {},
     "output_type": "execute_result"
    }
   ],
   "source": [
    "mass"
   ]
  },
  {
   "cell_type": "markdown",
   "metadata": {},
   "source": [
    "Deberíamos hacer otra carpeta que se llame parameters. Con funciones para extraer magnitudes del ff o sistema parametrizado. Por ejemplo la masa pero de los parametros del sistema. Lo mismo la carga."
   ]
  },
  {
   "cell_type": "markdown",
   "metadata": {},
   "source": [
    "## Charge"
   ]
  },
  {
   "cell_type": "code",
   "execution_count": 23,
   "metadata": {},
   "outputs": [],
   "source": [
    "charges = msm.physchem.charge(molecular_system, target='group', type='physical_pH7',\n",
    "                              selection='group_index==[0,1,2,3]')"
   ]
  },
  {
   "cell_type": "code",
   "execution_count": 24,
   "metadata": {},
   "outputs": [
    {
     "data": {
      "text/html": [
       "<table><tbody><tr><th>Magnitude</th><td style='text-align:left;'><pre>[1.0 0.0 0.0 0.0]</pre></td></tr><tr><th>Units</th><td style='text-align:left;'>elementary_charge</td></tr></tbody></table>"
      ],
      "text/latex": [
       "$\\begin{pmatrix}1.0 & 0.0 & 0.0 & 0.0\\end{pmatrix}\\ \\mathrm{elementary\\_charge}$"
      ],
      "text/plain": [
       "array([1., 0., 0., 0.]) <Unit('elementary_charge')>"
      ]
     },
     "execution_count": 24,
     "metadata": {},
     "output_type": "execute_result"
    }
   ],
   "source": [
    "charges"
   ]
  },
  {
   "cell_type": "code",
   "execution_count": 27,
   "metadata": {},
   "outputs": [],
   "source": [
    "charges = msm.physchem.charge(molecular_system, target='component', type='collantes',\n",
    "                              selection='component_index==[0,1]')"
   ]
  },
  {
   "cell_type": "code",
   "execution_count": 28,
   "metadata": {},
   "outputs": [
    {
     "data": {
      "text/html": [
       "<table><tbody><tr><th>Magnitude</th><td style='text-align:left;'><pre>[128.60000000000002 129.16]</pre></td></tr><tr><th>Units</th><td style='text-align:left;'>elementary_charge</td></tr></tbody></table>"
      ],
      "text/latex": [
       "$\\begin{pmatrix}128.60000000000002 & 129.16\\end{pmatrix}\\ \\mathrm{elementary\\_charge}$"
      ],
      "text/plain": [
       "array([128.6 , 129.16]) <Unit('elementary_charge')>"
      ]
     },
     "execution_count": 28,
     "metadata": {},
     "output_type": "execute_result"
    }
   ],
   "source": [
    "charges"
   ]
  },
  {
   "cell_type": "code",
   "execution_count": 31,
   "metadata": {},
   "outputs": [
    {
     "ename": "NotImplementedError",
     "evalue": "",
     "output_type": "error",
     "traceback": [
      "\u001b[0;31m---------------------------------------------------------------------------\u001b[0m",
      "\u001b[0;31mNotImplementedError\u001b[0m                       Traceback (most recent call last)",
      "\u001b[0;32m<ipython-input-31-7aef5480134a>\u001b[0m in \u001b[0;36m<module>\u001b[0;34m\u001b[0m\n\u001b[0;32m----> 1\u001b[0;31m \u001b[0mcharges\u001b[0m \u001b[0;34m=\u001b[0m \u001b[0mmsm\u001b[0m\u001b[0;34m.\u001b[0m\u001b[0mphyschem\u001b[0m\u001b[0;34m.\u001b[0m\u001b[0mcharge\u001b[0m\u001b[0;34m(\u001b[0m\u001b[0mmolecular_system\u001b[0m\u001b[0;34m,\u001b[0m \u001b[0mtarget\u001b[0m\u001b[0;34m=\u001b[0m\u001b[0;34m'system'\u001b[0m\u001b[0;34m,\u001b[0m \u001b[0mforcefield\u001b[0m\u001b[0;34m=\u001b[0m\u001b[0;34m[\u001b[0m\u001b[0;34m'AMBER99SB-ILDN'\u001b[0m\u001b[0;34m,\u001b[0m\u001b[0;34m'TIP3P'\u001b[0m\u001b[0;34m]\u001b[0m\u001b[0;34m)\u001b[0m\u001b[0;34m\u001b[0m\u001b[0;34m\u001b[0m\u001b[0m\n\u001b[0m",
      "\u001b[0;32m~/Proyectos/MolSysMT/molsysmt/physico_chemical_properties/charge.py\u001b[0m in \u001b[0;36mcharge\u001b[0;34m(molecular_system, target, selection, type, forcefield, engine)\u001b[0m\n\u001b[1;32m    107\u001b[0m \u001b[0;34m\u001b[0m\u001b[0m\n\u001b[1;32m    108\u001b[0m     \u001b[0;32melse\u001b[0m\u001b[0;34m:\u001b[0m\u001b[0;34m\u001b[0m\u001b[0;34m\u001b[0m\u001b[0m\n\u001b[0;32m--> 109\u001b[0;31m         \u001b[0;32mraise\u001b[0m \u001b[0mNotImplementedError\u001b[0m\u001b[0;34m\u001b[0m\u001b[0;34m\u001b[0m\u001b[0m\n\u001b[0m\u001b[1;32m    110\u001b[0m \u001b[0;34m\u001b[0m\u001b[0m\n\u001b[1;32m    111\u001b[0m     \u001b[0;32mreturn\u001b[0m \u001b[0moutput\u001b[0m\u001b[0;34m\u001b[0m\u001b[0;34m\u001b[0m\u001b[0m\n",
      "\u001b[0;31mNotImplementedError\u001b[0m: "
     ]
    }
   ],
   "source": [
    "charges = msm.physchem.charge(molecular_system, target='system', forcefield=['AMBER99SB-ILDN','TIP3P'])"
   ]
  },
  {
   "cell_type": "raw",
   "metadata": {},
   "source": [
    "get_mass(item, atom_indices, forcefield=['AMBER99SB-ILDN','TIP3P'])"
   ]
  },
  {
   "cell_type": "code",
   "execution_count": null,
   "metadata": {},
   "outputs": [],
   "source": [
    "get_net_mass(item, atom_indices, forcefield=['AMBER99SB-ILDN','TIP3P'])"
   ]
  }
 ],
 "metadata": {
  "kernelspec": {
   "display_name": "Python 3",
   "language": "python",
   "name": "python3"
  },
  "language_info": {
   "codemirror_mode": {
    "name": "ipython",
    "version": 3
   },
   "file_extension": ".py",
   "mimetype": "text/x-python",
   "name": "python",
   "nbconvert_exporter": "python",
   "pygments_lexer": "ipython3",
   "version": "3.7.9"
  }
 },
 "nbformat": 4,
 "nbformat_minor": 4
}
