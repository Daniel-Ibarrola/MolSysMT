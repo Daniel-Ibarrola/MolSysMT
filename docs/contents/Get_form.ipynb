{
 "cells": [
  {
   "cell_type": "code",
   "execution_count": 1,
   "metadata": {},
   "outputs": [],
   "source": [
    "%load_ext autoreload\n",
    "%autoreload 2"
   ]
  },
  {
   "cell_type": "markdown",
   "metadata": {},
   "source": [
    "# Get form\n",
    "\n",
    "*Getting the form of a molecular system*"
   ]
  },
  {
   "cell_type": "code",
   "execution_count": 2,
   "metadata": {},
   "outputs": [
    {
     "data": {
      "application/vnd.jupyter.widget-view+json": {
       "model_id": "d87249902d0c4c66942dc55820137f81",
       "version_major": 2,
       "version_minor": 0
      },
      "text/plain": []
     },
     "metadata": {},
     "output_type": "display_data"
    }
   ],
   "source": [
    "import molsysmt as msm"
   ]
  },
  {
   "cell_type": "code",
   "execution_count": 3,
   "metadata": {},
   "outputs": [
    {
     "data": {
      "text/plain": [
       "'file:pdb'"
      ]
     },
     "execution_count": 3,
     "metadata": {},
     "output_type": "execute_result"
    }
   ],
   "source": [
    "item = msm.demo_systems.files['1sux.pdb']\n",
    "msm.get_form(item)"
   ]
  },
  {
   "cell_type": "code",
   "execution_count": 4,
   "metadata": {},
   "outputs": [
    {
     "data": {
      "text/plain": [
       "'file:mmtf'"
      ]
     },
     "execution_count": 4,
     "metadata": {},
     "output_type": "execute_result"
    }
   ],
   "source": [
    "item = msm.demo_systems.files['1sux.mmtf']\n",
    "msm.get_form(item)"
   ]
  },
  {
   "cell_type": "code",
   "execution_count": 5,
   "metadata": {},
   "outputs": [
    {
     "data": {
      "text/plain": [
       "['file:pdb', 'file:mmtf']"
      ]
     },
     "execution_count": 5,
     "metadata": {},
     "output_type": "execute_result"
    }
   ],
   "source": [
    "item1 = msm.demo_systems.files['1sux.pdb']\n",
    "item2 = msm.demo_systems.files['1sux.mmtf']\n",
    "msm.get_form([item1, item2])"
   ]
  },
  {
   "cell_type": "code",
   "execution_count": 6,
   "metadata": {},
   "outputs": [
    {
     "data": {
      "text/plain": [
       "'XYZ'"
      ]
     },
     "execution_count": 6,
     "metadata": {},
     "output_type": "execute_result"
    }
   ],
   "source": [
    "import numpy as np\n",
    "\n",
    "item = np.zeros(shape=[10,4,3])*msm.puw.unit('angstroms')\n",
    "msm.get_form(item)"
   ]
  },
  {
   "cell_type": "code",
   "execution_count": 7,
   "metadata": {},
   "outputs": [
    {
     "data": {
      "text/plain": [
       "'XYZ'"
      ]
     },
     "execution_count": 7,
     "metadata": {},
     "output_type": "execute_result"
    }
   ],
   "source": [
    "item = np.zeros(shape=[10,4,3])*msm.puw.unit('nm')\n",
    "msm.get_form(item)"
   ]
  },
  {
   "cell_type": "code",
   "execution_count": 8,
   "metadata": {},
   "outputs": [
    {
     "data": {
      "text/plain": [
       "'string:pdbid'"
      ]
     },
     "execution_count": 8,
     "metadata": {},
     "output_type": "execute_result"
    }
   ],
   "source": [
    "msm.get_form('pdbid:2LAO')"
   ]
  },
  {
   "cell_type": "code",
   "execution_count": 9,
   "metadata": {},
   "outputs": [
    {
     "data": {
      "text/plain": [
       "'string:aminoacids3'"
      ]
     },
     "execution_count": 9,
     "metadata": {},
     "output_type": "execute_result"
    }
   ],
   "source": [
    "msm.get_form('aminoacids3:ACEALAGLYVALNME')"
   ]
  },
  {
   "cell_type": "code",
   "execution_count": 10,
   "metadata": {},
   "outputs": [
    {
     "data": {
      "text/plain": [
       "'string:aminoacids1'"
      ]
     },
     "execution_count": 10,
     "metadata": {},
     "output_type": "execute_result"
    }
   ],
   "source": [
    "msm.get_form('aminoacids1:ALYDERRRT')"
   ]
  },
  {
   "cell_type": "code",
   "execution_count": 11,
   "metadata": {},
   "outputs": [
    {
     "data": {
      "text/plain": [
       "'string:pdbid'"
      ]
     },
     "execution_count": 11,
     "metadata": {},
     "output_type": "execute_result"
    }
   ],
   "source": [
    "msm.get_form('2LAO')"
   ]
  },
  {
   "cell_type": "code",
   "execution_count": 12,
   "metadata": {},
   "outputs": [
    {
     "data": {
      "text/plain": [
       "'string:aminoacids3'"
      ]
     },
     "execution_count": 12,
     "metadata": {},
     "output_type": "execute_result"
    }
   ],
   "source": [
    "msm.get_form('ACEALAGLYVALNME')"
   ]
  },
  {
   "cell_type": "code",
   "execution_count": 13,
   "metadata": {},
   "outputs": [
    {
     "data": {
      "text/plain": [
       "'string:aminoacids1'"
      ]
     },
     "execution_count": 13,
     "metadata": {},
     "output_type": "execute_result"
    }
   ],
   "source": [
    "msm.get_form('ALYDERRRT')"
   ]
  },
  {
   "cell_type": "code",
   "execution_count": 14,
   "metadata": {},
   "outputs": [],
   "source": [
    "pdb_text = ('HETATM 6316  O1  W11 17001      38.769   3.924 124.163  1.00 14.30           O  \\n'\n",
    "            'HETATM 6317  N2  W11 17001      37.611   4.680 124.817  1.00 15.13           N  \\n'\n",
    "            'HETATM 6318  C3  W11 17001      36.987   5.372 123.859  1.00 18.69           C  \\n'\n",
    "            'HETATM 6319  CM3 W11 17001      35.813   6.231 124.262  1.00 18.18           C  \\n'\n",
    "            'HETATM 6320  C4  W11 17001      37.633   5.140 122.595  1.00 17.73           C  \\n'\n",
    "            'HETATM 6321  C5  W11 17001      38.693   4.271 122.799  1.00 13.92           C  \\n'\n",
    "            'HETATM 6322  C1C W11 17001      39.688   3.551 121.957  1.00 21.24           C  \\n'\n",
    "            'HETATM 6323  C2C W11 17001      41.002   3.777 122.678  1.00 17.79           C  \\n'\n",
    "            'HETATM 6324  C3C W11 17001      42.100   2.964 122.043  1.00 17.17           C  \\n'\n",
    "            'HETATM 6325  O1B W11 17001      42.538   2.397 123.216  1.00 16.94           O  \\n'\n",
    "            'HETATM 6326  C1B W11 17001      43.486   1.340 123.228  1.00 17.28           C  \\n'\n",
    "            'HETATM 6327  C2B W11 17001      44.809   1.730 123.547  1.00 19.34           C  \\n'\n",
    "            'HETATM 6328  CM2 W11 17001      45.044   3.154 123.785  1.00 16.45           C  \\n'\n",
    "            'HETATM 6329  C3B W11 17001      45.896   0.892 123.603  1.00 17.86           C  \\n'\n",
    "            'HETATM 6330  C4B W11 17001      45.622  -0.451 123.301  1.00 15.68           C  \\n'\n",
    "            'HETATM 6331  C5B W11 17001      44.343  -0.999 122.974  1.00 16.82           C  \\n'\n",
    "            'HETATM 6332  C6B W11 17001      43.245  -0.090 122.949  1.00 15.14           C  \\n'\n",
    "            'HETATM 6333  CM6 W11 17001      41.866  -0.788 122.689  1.00 12.31           C  \\n'\n",
    "            'HETATM 6334  C2A W11 17001      46.768  -1.283 123.171  1.00 18.12           C  \\n'\n",
    "            'HETATM 6335  N1A W11 17001      48.015  -0.816 123.577  1.00 12.73           N  \\n'\n",
    "            'HETATM 6336  N3A W11 17001      46.708  -2.573 122.545  1.00 15.91           N  \\n'\n",
    "            'HETATM 6337  C3A W11 17001      48.102  -2.899 122.579  1.00 18.54           C  \\n'\n",
    "            'HETATM 6338  CM4 W11 17001      48.764  -4.128 121.923  1.00 15.37           C  \\n'\n",
    "            'HETATM 6339  O1A W11 17001      49.004  -1.972 123.163  1.00 16.19           O  \\n'\n",
    "            'HETATM 6340  F1  W11 17001      47.781  -4.755 121.137  1.00 18.52           F  \\n'\n",
    "            'HETATM 6341  F2  W11 17001      49.194  -4.915 122.927  1.00 17.68           F  \\n'\n",
    "            'HETATM 6342  F3  W11 17001      49.831  -3.808 121.165  1.00 14.24           F  ')"
   ]
  },
  {
   "cell_type": "code",
   "execution_count": 15,
   "metadata": {},
   "outputs": [
    {
     "data": {
      "text/plain": [
       "'string:pdb'"
      ]
     },
     "execution_count": 15,
     "metadata": {},
     "output_type": "execute_result"
    }
   ],
   "source": [
    "msm.get_form('pdb:'+pdb_text)"
   ]
  },
  {
   "cell_type": "code",
   "execution_count": 16,
   "metadata": {},
   "outputs": [
    {
     "data": {
      "text/plain": [
       "'string:pdb'"
      ]
     },
     "execution_count": 16,
     "metadata": {},
     "output_type": "execute_result"
    }
   ],
   "source": [
    "msm.get_form(pdb_text)"
   ]
  },
  {
   "cell_type": "code",
   "execution_count": 21,
   "metadata": {},
   "outputs": [],
   "source": [
    "aa = msm.convert(pdb_text, to_form='mdtraj.Trajectory')"
   ]
  },
  {
   "cell_type": "code",
   "execution_count": 18,
   "metadata": {},
   "outputs": [
    {
     "data": {
      "text/html": [
       "<style type=\"text/css\">\n",
       "</style>\n",
       "<table id=\"T_a22cd_\">\n",
       "  <thead>\n",
       "    <tr>\n",
       "      <th class=\"col_heading level0 col0\" >form</th>\n",
       "      <th class=\"col_heading level0 col1\" >n_atoms</th>\n",
       "      <th class=\"col_heading level0 col2\" >n_groups</th>\n",
       "      <th class=\"col_heading level0 col3\" >n_components</th>\n",
       "      <th class=\"col_heading level0 col4\" >n_chains</th>\n",
       "      <th class=\"col_heading level0 col5\" >n_molecules</th>\n",
       "      <th class=\"col_heading level0 col6\" >n_entities</th>\n",
       "      <th class=\"col_heading level0 col7\" >n_frames</th>\n",
       "    </tr>\n",
       "  </thead>\n",
       "  <tbody>\n",
       "    <tr>\n",
       "      <td id=\"T_a22cd_row0_col0\" class=\"data row0 col0\" >molsysmt.MolSys</td>\n",
       "      <td id=\"T_a22cd_row0_col1\" class=\"data row0 col1\" >27</td>\n",
       "      <td id=\"T_a22cd_row0_col2\" class=\"data row0 col2\" >1</td>\n",
       "      <td id=\"T_a22cd_row0_col3\" class=\"data row0 col3\" >1</td>\n",
       "      <td id=\"T_a22cd_row0_col4\" class=\"data row0 col4\" >1</td>\n",
       "      <td id=\"T_a22cd_row0_col5\" class=\"data row0 col5\" >1</td>\n",
       "      <td id=\"T_a22cd_row0_col6\" class=\"data row0 col6\" >1</td>\n",
       "      <td id=\"T_a22cd_row0_col7\" class=\"data row0 col7\" >1</td>\n",
       "    </tr>\n",
       "  </tbody>\n",
       "</table>\n"
      ],
      "text/plain": [
       "<pandas.io.formats.style.Styler at 0x7fc6f25d82d0>"
      ]
     },
     "execution_count": 18,
     "metadata": {},
     "output_type": "execute_result"
    }
   ],
   "source": [
    "msm.info(aa)"
   ]
  },
  {
   "cell_type": "code",
   "execution_count": 24,
   "metadata": {},
   "outputs": [
    {
     "data": {
      "application/vnd.jupyter.widget-view+json": {
       "model_id": "eccc83070db945b6a518c1a8f94a76fb",
       "version_major": 2,
       "version_minor": 0
      },
      "text/plain": [
       "NGLWidget()"
      ]
     },
     "metadata": {},
     "output_type": "display_data"
    }
   ],
   "source": [
    "msm.view(aa, standardize=False)"
   ]
  },
  {
   "cell_type": "code",
   "execution_count": null,
   "metadata": {},
   "outputs": [],
   "source": []
  }
 ],
 "metadata": {
  "kernelspec": {
   "display_name": "Python 3",
   "language": "python",
   "name": "python3"
  },
  "language_info": {
   "codemirror_mode": {
    "name": "ipython",
    "version": 3
   },
   "file_extension": ".py",
   "mimetype": "text/x-python",
   "name": "python",
   "nbconvert_exporter": "python",
   "pygments_lexer": "ipython3",
   "version": "3.7.10"
  }
 },
 "nbformat": 4,
 "nbformat_minor": 4
}
