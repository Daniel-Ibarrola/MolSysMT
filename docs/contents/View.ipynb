{
 "cells": [
  {
   "cell_type": "code",
   "execution_count": 1,
   "metadata": {},
   "outputs": [],
   "source": [
    "%load_ext autoreload\n",
    "%autoreload 2"
   ]
  },
  {
   "cell_type": "code",
   "execution_count": 2,
   "metadata": {},
   "outputs": [
    {
     "data": {
      "application/vnd.jupyter.widget-view+json": {
       "model_id": "344968b835eb45f080f32a388463f1a9",
       "version_major": 2,
       "version_minor": 0
      },
      "text/plain": []
     },
     "metadata": {},
     "output_type": "display_data"
    }
   ],
   "source": [
    "import molsysmt as msm\n",
    "from nglview.widget import NGLWidget\n",
    "import nglview as nv"
   ]
  },
  {
   "cell_type": "markdown",
   "metadata": {},
   "source": [
    "# Viewing a molecular system"
   ]
  },
  {
   "cell_type": "code",
   "execution_count": 3,
   "metadata": {},
   "outputs": [],
   "source": [
    "t = msm.convert([nv.datafiles.GRO, nv.datafiles.XTC], to_form='molsysmt.MolSys')"
   ]
  },
  {
   "cell_type": "code",
   "execution_count": 4,
   "metadata": {},
   "outputs": [
    {
     "data": {
      "text/html": [
       "<style  type=\"text/css\" >\n",
       "</style><table id=\"T_d2ec9804_c88a_11ea_907a_37b971029985\" ><thead>    <tr>        <th class=\"col_heading level0 col0\" >form</th>        <th class=\"col_heading level0 col1\" >n_atoms</th>        <th class=\"col_heading level0 col2\" >n_groups</th>        <th class=\"col_heading level0 col3\" >n_components</th>        <th class=\"col_heading level0 col4\" >n_chains</th>        <th class=\"col_heading level0 col5\" >n_molecules</th>        <th class=\"col_heading level0 col6\" >n_entities</th>        <th class=\"col_heading level0 col7\" >n_proteins</th>        <th class=\"col_heading level0 col8\" >n_frames</th>    </tr></thead><tbody>\n",
       "                <tr>\n",
       "                                <td id=\"T_d2ec9804_c88a_11ea_907a_37b971029985row0_col0\" class=\"data row0 col0\" >molsysmt.MolSys</td>\n",
       "                        <td id=\"T_d2ec9804_c88a_11ea_907a_37b971029985row0_col1\" class=\"data row0 col1\" >5547</td>\n",
       "                        <td id=\"T_d2ec9804_c88a_11ea_907a_37b971029985row0_col2\" class=\"data row0 col2\" >349</td>\n",
       "                        <td id=\"T_d2ec9804_c88a_11ea_907a_37b971029985row0_col3\" class=\"data row0 col3\" >1</td>\n",
       "                        <td id=\"T_d2ec9804_c88a_11ea_907a_37b971029985row0_col4\" class=\"data row0 col4\" >1</td>\n",
       "                        <td id=\"T_d2ec9804_c88a_11ea_907a_37b971029985row0_col5\" class=\"data row0 col5\" >1</td>\n",
       "                        <td id=\"T_d2ec9804_c88a_11ea_907a_37b971029985row0_col6\" class=\"data row0 col6\" >1</td>\n",
       "                        <td id=\"T_d2ec9804_c88a_11ea_907a_37b971029985row0_col7\" class=\"data row0 col7\" >1</td>\n",
       "                        <td id=\"T_d2ec9804_c88a_11ea_907a_37b971029985row0_col8\" class=\"data row0 col8\" >51</td>\n",
       "            </tr>\n",
       "    </tbody></table>"
      ],
      "text/plain": [
       "<pandas.io.formats.style.Styler at 0x7f41e6b58190>"
      ]
     },
     "execution_count": 4,
     "metadata": {},
     "output_type": "execute_result"
    }
   ],
   "source": [
    "msm.info(t)"
   ]
  },
  {
   "cell_type": "code",
   "execution_count": 5,
   "metadata": {},
   "outputs": [],
   "source": [
    "w=nv.show_molsysmt(t)"
   ]
  },
  {
   "cell_type": "code",
   "execution_count": 6,
   "metadata": {},
   "outputs": [
    {
     "name": "stdout",
     "output_type": "stream",
     "text": [
      "Help on function show_molsysmt in module nglview.show:\n",
      "\n",
      "show_molsysmt(molsys, selection='all', frame_indices='all', **kwargs)\n",
      "    Show NGL widget with molsysmt.MolSys object.\n",
      "    \n",
      "    Visit `MolSysmt documentation webpage <http://www.uibcdf.org/MolSysMT>`_ for further\n",
      "    info.\n",
      "    \n",
      "    Examples\n",
      "    --------\n",
      "    >>> import nglview as nv # doctest: +SKIP\n",
      "    ... import molsysmt as msm\n",
      "    ... t = msm.convert([nv.datafiles.GRO, nv.datafiles.XTC])\n",
      "    ... w = nv.show_molsysmt(t)\n",
      "    ... w\n",
      "\n"
     ]
    }
   ],
   "source": [
    "help(nv.show_molsysmt)"
   ]
  },
  {
   "cell_type": "code",
   "execution_count": 7,
   "metadata": {},
   "outputs": [
    {
     "data": {
      "application/vnd.jupyter.widget-view+json": {
       "model_id": "d90569af002e432690067dd477928ac1",
       "version_major": 2,
       "version_minor": 0
      },
      "text/plain": [
       "NGLWidget(max_frame=50)"
      ]
     },
     "metadata": {},
     "output_type": "display_data"
    }
   ],
   "source": [
    "w"
   ]
  },
  {
   "cell_type": "markdown",
   "metadata": {},
   "source": [
    "---------------"
   ]
  },
  {
   "cell_type": "code",
   "execution_count": 8,
   "metadata": {},
   "outputs": [],
   "source": [
    "t = msm.convert([nv.datafiles.GRO, nv.datafiles.XTC], to_form='molsysmt.MolSys')"
   ]
  },
  {
   "cell_type": "code",
   "execution_count": 9,
   "metadata": {},
   "outputs": [
    {
     "data": {
      "application/vnd.jupyter.widget-view+json": {
       "model_id": "97b4f6dfd9964aaab0d492699ee9d624",
       "version_major": 2,
       "version_minor": 0
      },
      "text/plain": [
       "NGLWidget(max_frame=50)"
      ]
     },
     "metadata": {},
     "output_type": "display_data"
    }
   ],
   "source": [
    "view = msm.view(t)\n",
    "view"
   ]
  },
  {
   "cell_type": "markdown",
   "metadata": {},
   "source": [
    "-------------------"
   ]
  }
 ],
 "metadata": {
  "kernelspec": {
   "display_name": "Python 3",
   "language": "python",
   "name": "python3"
  },
  "language_info": {
   "codemirror_mode": {
    "name": "ipython",
    "version": 3
   },
   "file_extension": ".py",
   "mimetype": "text/x-python",
   "name": "python",
   "nbconvert_exporter": "python",
   "pygments_lexer": "ipython3",
   "version": "3.7.7"
  }
 },
 "nbformat": 4,
 "nbformat_minor": 4
}
