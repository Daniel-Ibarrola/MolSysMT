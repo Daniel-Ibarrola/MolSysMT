{
 "cells": [
  {
   "cell_type": "code",
   "execution_count": 1,
   "metadata": {},
   "outputs": [],
   "source": [
    "%load_ext autoreload\n",
    "%autoreload 2"
   ]
  },
  {
   "cell_type": "code",
   "execution_count": 3,
   "metadata": {},
   "outputs": [],
   "source": [
    "import molsysmt as msm"
   ]
  },
  {
   "cell_type": "markdown",
   "metadata": {},
   "source": [
    "# Removing atoms and frames from a molecular system"
   ]
  },
  {
   "cell_type": "markdown",
   "metadata": {},
   "source": [
    "## Removing frames"
   ]
  },
  {
   "cell_type": "code",
   "execution_count": 4,
   "metadata": {},
   "outputs": [],
   "source": [
    "molecular_system = msm.convert(msm.test_systems.files['trp-cage.pdb'])"
   ]
  },
  {
   "cell_type": "code",
   "execution_count": 5,
   "metadata": {},
   "outputs": [
    {
     "data": {
      "text/html": [
       "<style  type=\"text/css\" >\n",
       "</style><table id=\"T_e0b35cca_9fdb_11ea_9d59_138aa0afeda7\" ><thead>    <tr>        <th class=\"col_heading level0 col0\" >form</th>        <th class=\"col_heading level0 col1\" >n atoms</th>        <th class=\"col_heading level0 col2\" >n groups</th>        <th class=\"col_heading level0 col3\" >n components</th>        <th class=\"col_heading level0 col4\" >n chains</th>        <th class=\"col_heading level0 col5\" >n molecules</th>        <th class=\"col_heading level0 col6\" >n entities</th>        <th class=\"col_heading level0 col7\" >n frames</th>    </tr></thead><tbody>\n",
       "                <tr>\n",
       "                                <td id=\"T_e0b35cca_9fdb_11ea_9d59_138aa0afeda7row0_col0\" class=\"data row0 col0\" >molsysmt.MolSys</td>\n",
       "                        <td id=\"T_e0b35cca_9fdb_11ea_9d59_138aa0afeda7row0_col1\" class=\"data row0 col1\" >304</td>\n",
       "                        <td id=\"T_e0b35cca_9fdb_11ea_9d59_138aa0afeda7row0_col2\" class=\"data row0 col2\" >20</td>\n",
       "                        <td id=\"T_e0b35cca_9fdb_11ea_9d59_138aa0afeda7row0_col3\" class=\"data row0 col3\" >1</td>\n",
       "                        <td id=\"T_e0b35cca_9fdb_11ea_9d59_138aa0afeda7row0_col4\" class=\"data row0 col4\" >1</td>\n",
       "                        <td id=\"T_e0b35cca_9fdb_11ea_9d59_138aa0afeda7row0_col5\" class=\"data row0 col5\" >1</td>\n",
       "                        <td id=\"T_e0b35cca_9fdb_11ea_9d59_138aa0afeda7row0_col6\" class=\"data row0 col6\" >1</td>\n",
       "                        <td id=\"T_e0b35cca_9fdb_11ea_9d59_138aa0afeda7row0_col7\" class=\"data row0 col7\" >38</td>\n",
       "            </tr>\n",
       "    </tbody></table>"
      ],
      "text/plain": [
       "<pandas.io.formats.style.Styler at 0x7f16120e2b50>"
      ]
     },
     "execution_count": 5,
     "metadata": {},
     "output_type": "execute_result"
    }
   ],
   "source": [
    "msm.info(molecular_system)"
   ]
  },
  {
   "cell_type": "code",
   "execution_count": 6,
   "metadata": {},
   "outputs": [],
   "source": [
    "molecular_system_trimmed = msm.remove(molecular_system, frame_indices=range(1,38))"
   ]
  },
  {
   "cell_type": "code",
   "execution_count": 7,
   "metadata": {},
   "outputs": [
    {
     "data": {
      "text/html": [
       "<style  type=\"text/css\" >\n",
       "</style><table id=\"T_e438da28_9fdb_11ea_9d59_138aa0afeda7\" ><thead>    <tr>        <th class=\"col_heading level0 col0\" >form</th>        <th class=\"col_heading level0 col1\" >n atoms</th>        <th class=\"col_heading level0 col2\" >n groups</th>        <th class=\"col_heading level0 col3\" >n components</th>        <th class=\"col_heading level0 col4\" >n chains</th>        <th class=\"col_heading level0 col5\" >n molecules</th>        <th class=\"col_heading level0 col6\" >n entities</th>        <th class=\"col_heading level0 col7\" >n frames</th>    </tr></thead><tbody>\n",
       "                <tr>\n",
       "                                <td id=\"T_e438da28_9fdb_11ea_9d59_138aa0afeda7row0_col0\" class=\"data row0 col0\" >molsysmt.MolSys</td>\n",
       "                        <td id=\"T_e438da28_9fdb_11ea_9d59_138aa0afeda7row0_col1\" class=\"data row0 col1\" >304</td>\n",
       "                        <td id=\"T_e438da28_9fdb_11ea_9d59_138aa0afeda7row0_col2\" class=\"data row0 col2\" >20</td>\n",
       "                        <td id=\"T_e438da28_9fdb_11ea_9d59_138aa0afeda7row0_col3\" class=\"data row0 col3\" >1</td>\n",
       "                        <td id=\"T_e438da28_9fdb_11ea_9d59_138aa0afeda7row0_col4\" class=\"data row0 col4\" >1</td>\n",
       "                        <td id=\"T_e438da28_9fdb_11ea_9d59_138aa0afeda7row0_col5\" class=\"data row0 col5\" >1</td>\n",
       "                        <td id=\"T_e438da28_9fdb_11ea_9d59_138aa0afeda7row0_col6\" class=\"data row0 col6\" >1</td>\n",
       "                        <td id=\"T_e438da28_9fdb_11ea_9d59_138aa0afeda7row0_col7\" class=\"data row0 col7\" >1</td>\n",
       "            </tr>\n",
       "    </tbody></table>"
      ],
      "text/plain": [
       "<pandas.io.formats.style.Styler at 0x7f1611469610>"
      ]
     },
     "execution_count": 7,
     "metadata": {},
     "output_type": "execute_result"
    }
   ],
   "source": [
    "msm.info(molecular_system_trimmed)"
   ]
  },
  {
   "cell_type": "markdown",
   "metadata": {},
   "source": [
    "## Removing atoms"
   ]
  },
  {
   "cell_type": "code",
   "execution_count": 8,
   "metadata": {},
   "outputs": [],
   "source": [
    "molecular_system = msm.convert(msm.test_systems.files['1tcd.pdb'])"
   ]
  },
  {
   "cell_type": "code",
   "execution_count": 9,
   "metadata": {},
   "outputs": [
    {
     "data": {
      "text/html": [
       "<style  type=\"text/css\" >\n",
       "</style><table id=\"T_e85d2348_9fdb_11ea_9d59_138aa0afeda7\" ><thead>    <tr>        <th class=\"col_heading level0 col0\" >form</th>        <th class=\"col_heading level0 col1\" >n atoms</th>        <th class=\"col_heading level0 col2\" >n groups</th>        <th class=\"col_heading level0 col3\" >n components</th>        <th class=\"col_heading level0 col4\" >n chains</th>        <th class=\"col_heading level0 col5\" >n molecules</th>        <th class=\"col_heading level0 col6\" >n entities</th>        <th class=\"col_heading level0 col7\" >n frames</th>    </tr></thead><tbody>\n",
       "                <tr>\n",
       "                                <td id=\"T_e85d2348_9fdb_11ea_9d59_138aa0afeda7row0_col0\" class=\"data row0 col0\" >molsysmt.MolSys</td>\n",
       "                        <td id=\"T_e85d2348_9fdb_11ea_9d59_138aa0afeda7row0_col1\" class=\"data row0 col1\" >3983</td>\n",
       "                        <td id=\"T_e85d2348_9fdb_11ea_9d59_138aa0afeda7row0_col2\" class=\"data row0 col2\" >662</td>\n",
       "                        <td id=\"T_e85d2348_9fdb_11ea_9d59_138aa0afeda7row0_col3\" class=\"data row0 col3\" >167</td>\n",
       "                        <td id=\"T_e85d2348_9fdb_11ea_9d59_138aa0afeda7row0_col4\" class=\"data row0 col4\" >4</td>\n",
       "                        <td id=\"T_e85d2348_9fdb_11ea_9d59_138aa0afeda7row0_col5\" class=\"data row0 col5\" >1</td>\n",
       "                        <td id=\"T_e85d2348_9fdb_11ea_9d59_138aa0afeda7row0_col6\" class=\"data row0 col6\" >1</td>\n",
       "                        <td id=\"T_e85d2348_9fdb_11ea_9d59_138aa0afeda7row0_col7\" class=\"data row0 col7\" >1</td>\n",
       "            </tr>\n",
       "    </tbody></table>"
      ],
      "text/plain": [
       "<pandas.io.formats.style.Styler at 0x7f1610e1fed0>"
      ]
     },
     "execution_count": 9,
     "metadata": {},
     "output_type": "execute_result"
    }
   ],
   "source": [
    "msm.info(molecular_system)"
   ]
  },
  {
   "cell_type": "code",
   "execution_count": 10,
   "metadata": {},
   "outputs": [],
   "source": [
    "molecular_system_trimmed = msm.remove(molecular_system, selection='chain.index==[1,2,3]')"
   ]
  },
  {
   "cell_type": "code",
   "execution_count": 11,
   "metadata": {},
   "outputs": [
    {
     "data": {
      "text/html": [
       "<style  type=\"text/css\" >\n",
       "</style><table id=\"T_f09e24a8_9fdb_11ea_9d59_138aa0afeda7\" ><thead>    <tr>        <th class=\"col_heading level0 col0\" >form</th>        <th class=\"col_heading level0 col1\" >n atoms</th>        <th class=\"col_heading level0 col2\" >n groups</th>        <th class=\"col_heading level0 col3\" >n components</th>        <th class=\"col_heading level0 col4\" >n chains</th>        <th class=\"col_heading level0 col5\" >n molecules</th>        <th class=\"col_heading level0 col6\" >n entities</th>        <th class=\"col_heading level0 col7\" >n frames</th>    </tr></thead><tbody>\n",
       "                <tr>\n",
       "                                <td id=\"T_f09e24a8_9fdb_11ea_9d59_138aa0afeda7row0_col0\" class=\"data row0 col0\" >molsysmt.MolSys</td>\n",
       "                        <td id=\"T_f09e24a8_9fdb_11ea_9d59_138aa0afeda7row0_col1\" class=\"data row0 col1\" >3818</td>\n",
       "                        <td id=\"T_f09e24a8_9fdb_11ea_9d59_138aa0afeda7row0_col2\" class=\"data row0 col2\" >497</td>\n",
       "                        <td id=\"T_f09e24a8_9fdb_11ea_9d59_138aa0afeda7row0_col3\" class=\"data row0 col3\" >2</td>\n",
       "                        <td id=\"T_f09e24a8_9fdb_11ea_9d59_138aa0afeda7row0_col4\" class=\"data row0 col4\" >2</td>\n",
       "                        <td id=\"T_f09e24a8_9fdb_11ea_9d59_138aa0afeda7row0_col5\" class=\"data row0 col5\" >1</td>\n",
       "                        <td id=\"T_f09e24a8_9fdb_11ea_9d59_138aa0afeda7row0_col6\" class=\"data row0 col6\" >1</td>\n",
       "                        <td id=\"T_f09e24a8_9fdb_11ea_9d59_138aa0afeda7row0_col7\" class=\"data row0 col7\" >1</td>\n",
       "            </tr>\n",
       "    </tbody></table>"
      ],
      "text/plain": [
       "<pandas.io.formats.style.Styler at 0x7f16120e2990>"
      ]
     },
     "execution_count": 11,
     "metadata": {},
     "output_type": "execute_result"
    }
   ],
   "source": [
    "msm.info(molecular_system_trimmed)"
   ]
  },
  {
   "cell_type": "markdown",
   "metadata": {},
   "source": [
    "## Removing hydrogen atoms"
   ]
  },
  {
   "cell_type": "code",
   "execution_count": 18,
   "metadata": {},
   "outputs": [],
   "source": [
    "pdbfile = msm.test_systems.files['trp-cage.pdb']\n",
    "molecular_system = msm.convert(pdbfile, frame_indices=0)"
   ]
  },
  {
   "cell_type": "code",
   "execution_count": 20,
   "metadata": {},
   "outputs": [
    {
     "name": "stdout",
     "output_type": "stream",
     "text": [
      "150 number of hydrogens in the system\n"
     ]
    }
   ],
   "source": [
    "n_Hs = msm.get(molecular_system, selection='atom.type==\"H\"', n_atoms=True)\n",
    "print('{} number of hydrogens in the system'.format(n_Hs))"
   ]
  },
  {
   "cell_type": "code",
   "execution_count": 21,
   "metadata": {},
   "outputs": [],
   "source": [
    "molecular_system = msm.remove_hydrogens(molecular_system)"
   ]
  },
  {
   "cell_type": "code",
   "execution_count": 22,
   "metadata": {},
   "outputs": [
    {
     "name": "stdout",
     "output_type": "stream",
     "text": [
      "0 number of hydrogens in the system\n"
     ]
    }
   ],
   "source": [
    "n_Hs = msm.get(molecular_system, selection='atom.type==\"H\"', n_atoms=True)\n",
    "print('{} number of hydrogens in the system'.format(n_Hs))"
   ]
  },
  {
   "cell_type": "markdown",
   "metadata": {},
   "source": [
    "## Removing the solvent"
   ]
  },
  {
   "cell_type": "code",
   "execution_count": 23,
   "metadata": {},
   "outputs": [],
   "source": [
    "pdbfile = msm.test_systems.files['trp-cage_solvated.pdb']\n",
    "molecular_system = msm.convert(pdbfile, frame_indices=0)"
   ]
  },
  {
   "cell_type": "code",
   "execution_count": 24,
   "metadata": {},
   "outputs": [
    {
     "data": {
      "text/html": [
       "<style  type=\"text/css\" >\n",
       "</style><table id=\"T_bfde1aec_9fe7_11ea_9d59_138aa0afeda7\" ><thead>    <tr>        <th class=\"col_heading level0 col0\" >form</th>        <th class=\"col_heading level0 col1\" >n atoms</th>        <th class=\"col_heading level0 col2\" >n groups</th>        <th class=\"col_heading level0 col3\" >n components</th>        <th class=\"col_heading level0 col4\" >n chains</th>        <th class=\"col_heading level0 col5\" >n molecules</th>        <th class=\"col_heading level0 col6\" >n entities</th>        <th class=\"col_heading level0 col7\" >n frames</th>    </tr></thead><tbody>\n",
       "                <tr>\n",
       "                                <td id=\"T_bfde1aec_9fe7_11ea_9d59_138aa0afeda7row0_col0\" class=\"data row0 col0\" >molsysmt.MolSys</td>\n",
       "                        <td id=\"T_bfde1aec_9fe7_11ea_9d59_138aa0afeda7row0_col1\" class=\"data row0 col1\" >10544</td>\n",
       "                        <td id=\"T_bfde1aec_9fe7_11ea_9d59_138aa0afeda7row0_col2\" class=\"data row0 col2\" >3434</td>\n",
       "                        <td id=\"T_bfde1aec_9fe7_11ea_9d59_138aa0afeda7row0_col3\" class=\"data row0 col3\" >3415</td>\n",
       "                        <td id=\"T_bfde1aec_9fe7_11ea_9d59_138aa0afeda7row0_col4\" class=\"data row0 col4\" >1</td>\n",
       "                        <td id=\"T_bfde1aec_9fe7_11ea_9d59_138aa0afeda7row0_col5\" class=\"data row0 col5\" >1</td>\n",
       "                        <td id=\"T_bfde1aec_9fe7_11ea_9d59_138aa0afeda7row0_col6\" class=\"data row0 col6\" >1</td>\n",
       "                        <td id=\"T_bfde1aec_9fe7_11ea_9d59_138aa0afeda7row0_col7\" class=\"data row0 col7\" >1</td>\n",
       "            </tr>\n",
       "    </tbody></table>"
      ],
      "text/plain": [
       "<pandas.io.formats.style.Styler at 0x7f1611bc5350>"
      ]
     },
     "execution_count": 24,
     "metadata": {},
     "output_type": "execute_result"
    }
   ],
   "source": [
    "msm.info(molecular_system)"
   ]
  },
  {
   "cell_type": "code",
   "execution_count": 26,
   "metadata": {},
   "outputs": [],
   "source": [
    "molecular_system = msm.remove_solvent(molecular_system)"
   ]
  },
  {
   "cell_type": "code",
   "execution_count": 27,
   "metadata": {},
   "outputs": [
    {
     "data": {
      "text/html": [
       "<div>\n",
       "<style scoped>\n",
       "    .dataframe tbody tr th:only-of-type {\n",
       "        vertical-align: middle;\n",
       "    }\n",
       "\n",
       "    .dataframe tbody tr th {\n",
       "        vertical-align: top;\n",
       "    }\n",
       "\n",
       "    .dataframe thead th {\n",
       "        text-align: right;\n",
       "    }\n",
       "</style>\n",
       "<table border=\"1\" class=\"dataframe\">\n",
       "  <thead>\n",
       "    <tr style=\"text-align: right;\">\n",
       "      <th></th>\n",
       "      <th>atom.index</th>\n",
       "      <th>atom.name</th>\n",
       "      <th>atom.id</th>\n",
       "      <th>atom.type</th>\n",
       "      <th>atom.formal_charge</th>\n",
       "      <th>atom.bonded_atom_indices</th>\n",
       "      <th>group.index</th>\n",
       "      <th>group.name</th>\n",
       "      <th>group.id</th>\n",
       "      <th>group.type</th>\n",
       "      <th>...</th>\n",
       "      <th>chain.id</th>\n",
       "      <th>chain.type</th>\n",
       "      <th>molecule.index</th>\n",
       "      <th>molecule.name</th>\n",
       "      <th>molecule.id</th>\n",
       "      <th>molecule.type</th>\n",
       "      <th>entity.index</th>\n",
       "      <th>entity.name</th>\n",
       "      <th>entity.id</th>\n",
       "      <th>entity.type</th>\n",
       "    </tr>\n",
       "  </thead>\n",
       "  <tbody>\n",
       "    <tr>\n",
       "      <th>0</th>\n",
       "      <td>0</td>\n",
       "      <td>N</td>\n",
       "      <td>1</td>\n",
       "      <td>N</td>\n",
       "      <td>NaN</td>\n",
       "      <td>[1, 2, 3, 4]</td>\n",
       "      <td>0</td>\n",
       "      <td>ASN</td>\n",
       "      <td>1</td>\n",
       "      <td>aminoacid</td>\n",
       "      <td>...</td>\n",
       "      <td>A</td>\n",
       "      <td>None</td>\n",
       "      <td>0</td>\n",
       "      <td>None</td>\n",
       "      <td>NaN</td>\n",
       "      <td>None</td>\n",
       "      <td>0</td>\n",
       "      <td>None</td>\n",
       "      <td>NaN</td>\n",
       "      <td>None</td>\n",
       "    </tr>\n",
       "    <tr>\n",
       "      <th>1</th>\n",
       "      <td>1</td>\n",
       "      <td>H</td>\n",
       "      <td>2</td>\n",
       "      <td>H</td>\n",
       "      <td>NaN</td>\n",
       "      <td>[0]</td>\n",
       "      <td>0</td>\n",
       "      <td>ASN</td>\n",
       "      <td>1</td>\n",
       "      <td>aminoacid</td>\n",
       "      <td>...</td>\n",
       "      <td>A</td>\n",
       "      <td>None</td>\n",
       "      <td>0</td>\n",
       "      <td>None</td>\n",
       "      <td>NaN</td>\n",
       "      <td>None</td>\n",
       "      <td>0</td>\n",
       "      <td>None</td>\n",
       "      <td>NaN</td>\n",
       "      <td>None</td>\n",
       "    </tr>\n",
       "    <tr>\n",
       "      <th>2</th>\n",
       "      <td>2</td>\n",
       "      <td>H2</td>\n",
       "      <td>3</td>\n",
       "      <td>H</td>\n",
       "      <td>NaN</td>\n",
       "      <td>[0]</td>\n",
       "      <td>0</td>\n",
       "      <td>ASN</td>\n",
       "      <td>1</td>\n",
       "      <td>aminoacid</td>\n",
       "      <td>...</td>\n",
       "      <td>A</td>\n",
       "      <td>None</td>\n",
       "      <td>0</td>\n",
       "      <td>None</td>\n",
       "      <td>NaN</td>\n",
       "      <td>None</td>\n",
       "      <td>0</td>\n",
       "      <td>None</td>\n",
       "      <td>NaN</td>\n",
       "      <td>None</td>\n",
       "    </tr>\n",
       "    <tr>\n",
       "      <th>3</th>\n",
       "      <td>3</td>\n",
       "      <td>H3</td>\n",
       "      <td>4</td>\n",
       "      <td>H</td>\n",
       "      <td>NaN</td>\n",
       "      <td>[0]</td>\n",
       "      <td>0</td>\n",
       "      <td>ASN</td>\n",
       "      <td>1</td>\n",
       "      <td>aminoacid</td>\n",
       "      <td>...</td>\n",
       "      <td>A</td>\n",
       "      <td>None</td>\n",
       "      <td>0</td>\n",
       "      <td>None</td>\n",
       "      <td>NaN</td>\n",
       "      <td>None</td>\n",
       "      <td>0</td>\n",
       "      <td>None</td>\n",
       "      <td>NaN</td>\n",
       "      <td>None</td>\n",
       "    </tr>\n",
       "    <tr>\n",
       "      <th>4</th>\n",
       "      <td>4</td>\n",
       "      <td>CA</td>\n",
       "      <td>5</td>\n",
       "      <td>C</td>\n",
       "      <td>NaN</td>\n",
       "      <td>[0, 5, 6, 14]</td>\n",
       "      <td>0</td>\n",
       "      <td>ASN</td>\n",
       "      <td>1</td>\n",
       "      <td>aminoacid</td>\n",
       "      <td>...</td>\n",
       "      <td>A</td>\n",
       "      <td>None</td>\n",
       "      <td>0</td>\n",
       "      <td>None</td>\n",
       "      <td>NaN</td>\n",
       "      <td>None</td>\n",
       "      <td>0</td>\n",
       "      <td>None</td>\n",
       "      <td>NaN</td>\n",
       "      <td>None</td>\n",
       "    </tr>\n",
       "    <tr>\n",
       "      <th>...</th>\n",
       "      <td>...</td>\n",
       "      <td>...</td>\n",
       "      <td>...</td>\n",
       "      <td>...</td>\n",
       "      <td>...</td>\n",
       "      <td>...</td>\n",
       "      <td>...</td>\n",
       "      <td>...</td>\n",
       "      <td>...</td>\n",
       "      <td>...</td>\n",
       "      <td>...</td>\n",
       "      <td>...</td>\n",
       "      <td>...</td>\n",
       "      <td>...</td>\n",
       "      <td>...</td>\n",
       "      <td>...</td>\n",
       "      <td>...</td>\n",
       "      <td>...</td>\n",
       "      <td>...</td>\n",
       "      <td>...</td>\n",
       "      <td>...</td>\n",
       "    </tr>\n",
       "    <tr>\n",
       "      <th>299</th>\n",
       "      <td>299</td>\n",
       "      <td>OG</td>\n",
       "      <td>300</td>\n",
       "      <td>O</td>\n",
       "      <td>NaN</td>\n",
       "      <td>[296, 300]</td>\n",
       "      <td>19</td>\n",
       "      <td>SER</td>\n",
       "      <td>20</td>\n",
       "      <td>aminoacid</td>\n",
       "      <td>...</td>\n",
       "      <td>A</td>\n",
       "      <td>None</td>\n",
       "      <td>0</td>\n",
       "      <td>None</td>\n",
       "      <td>NaN</td>\n",
       "      <td>None</td>\n",
       "      <td>0</td>\n",
       "      <td>None</td>\n",
       "      <td>NaN</td>\n",
       "      <td>None</td>\n",
       "    </tr>\n",
       "    <tr>\n",
       "      <th>300</th>\n",
       "      <td>300</td>\n",
       "      <td>HG</td>\n",
       "      <td>301</td>\n",
       "      <td>H</td>\n",
       "      <td>NaN</td>\n",
       "      <td>[299]</td>\n",
       "      <td>19</td>\n",
       "      <td>SER</td>\n",
       "      <td>20</td>\n",
       "      <td>aminoacid</td>\n",
       "      <td>...</td>\n",
       "      <td>A</td>\n",
       "      <td>None</td>\n",
       "      <td>0</td>\n",
       "      <td>None</td>\n",
       "      <td>NaN</td>\n",
       "      <td>None</td>\n",
       "      <td>0</td>\n",
       "      <td>None</td>\n",
       "      <td>NaN</td>\n",
       "      <td>None</td>\n",
       "    </tr>\n",
       "    <tr>\n",
       "      <th>301</th>\n",
       "      <td>301</td>\n",
       "      <td>C</td>\n",
       "      <td>302</td>\n",
       "      <td>C</td>\n",
       "      <td>NaN</td>\n",
       "      <td>[294, 302, 303]</td>\n",
       "      <td>19</td>\n",
       "      <td>SER</td>\n",
       "      <td>20</td>\n",
       "      <td>aminoacid</td>\n",
       "      <td>...</td>\n",
       "      <td>A</td>\n",
       "      <td>None</td>\n",
       "      <td>0</td>\n",
       "      <td>None</td>\n",
       "      <td>NaN</td>\n",
       "      <td>None</td>\n",
       "      <td>0</td>\n",
       "      <td>None</td>\n",
       "      <td>NaN</td>\n",
       "      <td>None</td>\n",
       "    </tr>\n",
       "    <tr>\n",
       "      <th>302</th>\n",
       "      <td>302</td>\n",
       "      <td>O</td>\n",
       "      <td>303</td>\n",
       "      <td>O</td>\n",
       "      <td>NaN</td>\n",
       "      <td>[301]</td>\n",
       "      <td>19</td>\n",
       "      <td>SER</td>\n",
       "      <td>20</td>\n",
       "      <td>aminoacid</td>\n",
       "      <td>...</td>\n",
       "      <td>A</td>\n",
       "      <td>None</td>\n",
       "      <td>0</td>\n",
       "      <td>None</td>\n",
       "      <td>NaN</td>\n",
       "      <td>None</td>\n",
       "      <td>0</td>\n",
       "      <td>None</td>\n",
       "      <td>NaN</td>\n",
       "      <td>None</td>\n",
       "    </tr>\n",
       "    <tr>\n",
       "      <th>303</th>\n",
       "      <td>303</td>\n",
       "      <td>OXT</td>\n",
       "      <td>304</td>\n",
       "      <td>O</td>\n",
       "      <td>NaN</td>\n",
       "      <td>[301]</td>\n",
       "      <td>19</td>\n",
       "      <td>SER</td>\n",
       "      <td>20</td>\n",
       "      <td>aminoacid</td>\n",
       "      <td>...</td>\n",
       "      <td>A</td>\n",
       "      <td>None</td>\n",
       "      <td>0</td>\n",
       "      <td>None</td>\n",
       "      <td>NaN</td>\n",
       "      <td>None</td>\n",
       "      <td>0</td>\n",
       "      <td>None</td>\n",
       "      <td>NaN</td>\n",
       "      <td>None</td>\n",
       "    </tr>\n",
       "  </tbody>\n",
       "</table>\n",
       "<p>304 rows × 26 columns</p>\n",
       "</div>"
      ],
      "text/plain": [
       "     atom.index atom.name  atom.id atom.type atom.formal_charge  \\\n",
       "0             0         N        1         N                NaN   \n",
       "1             1         H        2         H                NaN   \n",
       "2             2        H2        3         H                NaN   \n",
       "3             3        H3        4         H                NaN   \n",
       "4             4        CA        5         C                NaN   \n",
       "..          ...       ...      ...       ...                ...   \n",
       "299         299        OG      300         O                NaN   \n",
       "300         300        HG      301         H                NaN   \n",
       "301         301         C      302         C                NaN   \n",
       "302         302         O      303         O                NaN   \n",
       "303         303       OXT      304         O                NaN   \n",
       "\n",
       "    atom.bonded_atom_indices  group.index group.name  group.id group.type  \\\n",
       "0               [1, 2, 3, 4]            0        ASN         1  aminoacid   \n",
       "1                        [0]            0        ASN         1  aminoacid   \n",
       "2                        [0]            0        ASN         1  aminoacid   \n",
       "3                        [0]            0        ASN         1  aminoacid   \n",
       "4              [0, 5, 6, 14]            0        ASN         1  aminoacid   \n",
       "..                       ...          ...        ...       ...        ...   \n",
       "299               [296, 300]           19        SER        20  aminoacid   \n",
       "300                    [299]           19        SER        20  aminoacid   \n",
       "301          [294, 302, 303]           19        SER        20  aminoacid   \n",
       "302                    [301]           19        SER        20  aminoacid   \n",
       "303                    [301]           19        SER        20  aminoacid   \n",
       "\n",
       "     ...  chain.id chain.type molecule.index molecule.name  molecule.id  \\\n",
       "0    ...         A       None              0          None          NaN   \n",
       "1    ...         A       None              0          None          NaN   \n",
       "2    ...         A       None              0          None          NaN   \n",
       "3    ...         A       None              0          None          NaN   \n",
       "4    ...         A       None              0          None          NaN   \n",
       "..   ...       ...        ...            ...           ...          ...   \n",
       "299  ...         A       None              0          None          NaN   \n",
       "300  ...         A       None              0          None          NaN   \n",
       "301  ...         A       None              0          None          NaN   \n",
       "302  ...         A       None              0          None          NaN   \n",
       "303  ...         A       None              0          None          NaN   \n",
       "\n",
       "    molecule.type entity.index entity.name  entity.id entity.type  \n",
       "0            None            0        None        NaN        None  \n",
       "1            None            0        None        NaN        None  \n",
       "2            None            0        None        NaN        None  \n",
       "3            None            0        None        NaN        None  \n",
       "4            None            0        None        NaN        None  \n",
       "..            ...          ...         ...        ...         ...  \n",
       "299          None            0        None        NaN        None  \n",
       "300          None            0        None        NaN        None  \n",
       "301          None            0        None        NaN        None  \n",
       "302          None            0        None        NaN        None  \n",
       "303          None            0        None        NaN        None  \n",
       "\n",
       "[304 rows x 26 columns]"
      ]
     },
     "execution_count": 27,
     "metadata": {},
     "output_type": "execute_result"
    }
   ],
   "source": [
    "molecular_system.topology"
   ]
  },
  {
   "cell_type": "code",
   "execution_count": null,
   "metadata": {},
   "outputs": [],
   "source": []
  }
 ],
 "metadata": {
  "kernelspec": {
   "display_name": "Python 3",
   "language": "python",
   "name": "python3"
  },
  "language_info": {
   "codemirror_mode": {
    "name": "ipython",
    "version": 3
   },
   "file_extension": ".py",
   "mimetype": "text/x-python",
   "name": "python",
   "nbconvert_exporter": "python",
   "pygments_lexer": "ipython3",
   "version": "3.7.7"
  }
 },
 "nbformat": 4,
 "nbformat_minor": 4
}
