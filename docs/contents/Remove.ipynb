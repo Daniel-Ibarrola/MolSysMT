{
 "cells": [
  {
   "cell_type": "code",
   "execution_count": 1,
   "metadata": {},
   "outputs": [],
   "source": [
    "%load_ext autoreload\n",
    "%autoreload 2"
   ]
  },
  {
   "cell_type": "code",
   "execution_count": 2,
   "metadata": {},
   "outputs": [
    {
     "data": {
      "application/vnd.jupyter.widget-view+json": {
       "model_id": "45d32d985dd0438687c95ec39afdda64",
       "version_major": 2,
       "version_minor": 0
      },
      "text/plain": []
     },
     "metadata": {},
     "output_type": "display_data"
    }
   ],
   "source": [
    "import molsysmt as msm"
   ]
  },
  {
   "cell_type": "markdown",
   "metadata": {},
   "source": [
    "# Removing atoms and frames from a molecular system"
   ]
  },
  {
   "cell_type": "markdown",
   "metadata": {},
   "source": [
    "## Removing frames"
   ]
  },
  {
   "cell_type": "code",
   "execution_count": 3,
   "metadata": {},
   "outputs": [],
   "source": [
    "pdbfile = msm.demo_systems.files['trp-cage.pdb']\n",
    "molecular_system = msm.convert(pdbfile)"
   ]
  },
  {
   "cell_type": "code",
   "execution_count": 4,
   "metadata": {},
   "outputs": [
    {
     "data": {
      "text/html": [
       "<style  type=\"text/css\" >\n",
       "</style><table id=\"T_3d15e_\" ><thead>    <tr>        <th class=\"col_heading level0 col0\" >form</th>        <th class=\"col_heading level0 col1\" >n_atoms</th>        <th class=\"col_heading level0 col2\" >n_groups</th>        <th class=\"col_heading level0 col3\" >n_components</th>        <th class=\"col_heading level0 col4\" >n_chains</th>        <th class=\"col_heading level0 col5\" >n_molecules</th>        <th class=\"col_heading level0 col6\" >n_entities</th>        <th class=\"col_heading level0 col7\" >n_peptides</th>        <th class=\"col_heading level0 col8\" >n_frames</th>    </tr></thead><tbody>\n",
       "                <tr>\n",
       "                                <td id=\"T_3d15e_row0_col0\" class=\"data row0 col0\" >molsysmt.MolSys</td>\n",
       "                        <td id=\"T_3d15e_row0_col1\" class=\"data row0 col1\" >304</td>\n",
       "                        <td id=\"T_3d15e_row0_col2\" class=\"data row0 col2\" >20</td>\n",
       "                        <td id=\"T_3d15e_row0_col3\" class=\"data row0 col3\" >1</td>\n",
       "                        <td id=\"T_3d15e_row0_col4\" class=\"data row0 col4\" >1</td>\n",
       "                        <td id=\"T_3d15e_row0_col5\" class=\"data row0 col5\" >1</td>\n",
       "                        <td id=\"T_3d15e_row0_col6\" class=\"data row0 col6\" >1</td>\n",
       "                        <td id=\"T_3d15e_row0_col7\" class=\"data row0 col7\" >1</td>\n",
       "                        <td id=\"T_3d15e_row0_col8\" class=\"data row0 col8\" >38</td>\n",
       "            </tr>\n",
       "    </tbody></table>"
      ],
      "text/plain": [
       "<pandas.io.formats.style.Styler at 0x7f2fcbedd9d0>"
      ]
     },
     "execution_count": 4,
     "metadata": {},
     "output_type": "execute_result"
    }
   ],
   "source": [
    "msm.info(molecular_system)"
   ]
  },
  {
   "cell_type": "code",
   "execution_count": 5,
   "metadata": {},
   "outputs": [],
   "source": [
    "molecular_system_trimmed = msm.remove(molecular_system, frame_indices=range(1,38))"
   ]
  },
  {
   "cell_type": "code",
   "execution_count": 6,
   "metadata": {},
   "outputs": [
    {
     "data": {
      "text/html": [
       "<style  type=\"text/css\" >\n",
       "</style><table id=\"T_db450_\" ><thead>    <tr>        <th class=\"col_heading level0 col0\" >form</th>        <th class=\"col_heading level0 col1\" >n_atoms</th>        <th class=\"col_heading level0 col2\" >n_groups</th>        <th class=\"col_heading level0 col3\" >n_components</th>        <th class=\"col_heading level0 col4\" >n_chains</th>        <th class=\"col_heading level0 col5\" >n_molecules</th>        <th class=\"col_heading level0 col6\" >n_entities</th>        <th class=\"col_heading level0 col7\" >n_peptides</th>        <th class=\"col_heading level0 col8\" >n_frames</th>    </tr></thead><tbody>\n",
       "                <tr>\n",
       "                                <td id=\"T_db450_row0_col0\" class=\"data row0 col0\" >molsysmt.MolSys</td>\n",
       "                        <td id=\"T_db450_row0_col1\" class=\"data row0 col1\" >304</td>\n",
       "                        <td id=\"T_db450_row0_col2\" class=\"data row0 col2\" >20</td>\n",
       "                        <td id=\"T_db450_row0_col3\" class=\"data row0 col3\" >1</td>\n",
       "                        <td id=\"T_db450_row0_col4\" class=\"data row0 col4\" >1</td>\n",
       "                        <td id=\"T_db450_row0_col5\" class=\"data row0 col5\" >1</td>\n",
       "                        <td id=\"T_db450_row0_col6\" class=\"data row0 col6\" >1</td>\n",
       "                        <td id=\"T_db450_row0_col7\" class=\"data row0 col7\" >1</td>\n",
       "                        <td id=\"T_db450_row0_col8\" class=\"data row0 col8\" >1</td>\n",
       "            </tr>\n",
       "    </tbody></table>"
      ],
      "text/plain": [
       "<pandas.io.formats.style.Styler at 0x7f2fc2cea650>"
      ]
     },
     "execution_count": 6,
     "metadata": {},
     "output_type": "execute_result"
    }
   ],
   "source": [
    "msm.info(molecular_system_trimmed)"
   ]
  },
  {
   "cell_type": "markdown",
   "metadata": {},
   "source": [
    "## Removing atoms"
   ]
  },
  {
   "cell_type": "code",
   "execution_count": 7,
   "metadata": {},
   "outputs": [],
   "source": [
    "pdbfile = msm.demo_systems.files['1tcd.pdb']\n",
    "molecular_system = msm.convert(pdbfile)"
   ]
  },
  {
   "cell_type": "code",
   "execution_count": 8,
   "metadata": {},
   "outputs": [
    {
     "data": {
      "text/html": [
       "<style  type=\"text/css\" >\n",
       "</style><table id=\"T_1b9bf_\" ><thead>    <tr>        <th class=\"col_heading level0 col0\" >form</th>        <th class=\"col_heading level0 col1\" >n_atoms</th>        <th class=\"col_heading level0 col2\" >n_groups</th>        <th class=\"col_heading level0 col3\" >n_components</th>        <th class=\"col_heading level0 col4\" >n_chains</th>        <th class=\"col_heading level0 col5\" >n_molecules</th>        <th class=\"col_heading level0 col6\" >n_entities</th>        <th class=\"col_heading level0 col7\" >n_waters</th>        <th class=\"col_heading level0 col8\" >n_proteins</th>        <th class=\"col_heading level0 col9\" >n_frames</th>    </tr></thead><tbody>\n",
       "                <tr>\n",
       "                                <td id=\"T_1b9bf_row0_col0\" class=\"data row0 col0\" >molsysmt.MolSys</td>\n",
       "                        <td id=\"T_1b9bf_row0_col1\" class=\"data row0 col1\" >3983</td>\n",
       "                        <td id=\"T_1b9bf_row0_col2\" class=\"data row0 col2\" >662</td>\n",
       "                        <td id=\"T_1b9bf_row0_col3\" class=\"data row0 col3\" >167</td>\n",
       "                        <td id=\"T_1b9bf_row0_col4\" class=\"data row0 col4\" >4</td>\n",
       "                        <td id=\"T_1b9bf_row0_col5\" class=\"data row0 col5\" >167</td>\n",
       "                        <td id=\"T_1b9bf_row0_col6\" class=\"data row0 col6\" >3</td>\n",
       "                        <td id=\"T_1b9bf_row0_col7\" class=\"data row0 col7\" >165</td>\n",
       "                        <td id=\"T_1b9bf_row0_col8\" class=\"data row0 col8\" >2</td>\n",
       "                        <td id=\"T_1b9bf_row0_col9\" class=\"data row0 col9\" >1</td>\n",
       "            </tr>\n",
       "    </tbody></table>"
      ],
      "text/plain": [
       "<pandas.io.formats.style.Styler at 0x7f2fc23f5950>"
      ]
     },
     "execution_count": 8,
     "metadata": {},
     "output_type": "execute_result"
    }
   ],
   "source": [
    "msm.info(molecular_system)"
   ]
  },
  {
   "cell_type": "code",
   "execution_count": 9,
   "metadata": {},
   "outputs": [],
   "source": [
    "molecular_system_trimmed = msm.remove(molecular_system, selection='chain_index==[1,2,3]')"
   ]
  },
  {
   "cell_type": "code",
   "execution_count": 10,
   "metadata": {},
   "outputs": [
    {
     "data": {
      "text/html": [
       "<style  type=\"text/css\" >\n",
       "</style><table id=\"T_9ebfb_\" ><thead>    <tr>        <th class=\"col_heading level0 col0\" >form</th>        <th class=\"col_heading level0 col1\" >n_atoms</th>        <th class=\"col_heading level0 col2\" >n_groups</th>        <th class=\"col_heading level0 col3\" >n_components</th>        <th class=\"col_heading level0 col4\" >n_chains</th>        <th class=\"col_heading level0 col5\" >n_molecules</th>        <th class=\"col_heading level0 col6\" >n_entities</th>        <th class=\"col_heading level0 col7\" >n_proteins</th>        <th class=\"col_heading level0 col8\" >n_frames</th>    </tr></thead><tbody>\n",
       "                <tr>\n",
       "                                <td id=\"T_9ebfb_row0_col0\" class=\"data row0 col0\" >molsysmt.MolSys</td>\n",
       "                        <td id=\"T_9ebfb_row0_col1\" class=\"data row0 col1\" >1906</td>\n",
       "                        <td id=\"T_9ebfb_row0_col2\" class=\"data row0 col2\" >248</td>\n",
       "                        <td id=\"T_9ebfb_row0_col3\" class=\"data row0 col3\" >1</td>\n",
       "                        <td id=\"T_9ebfb_row0_col4\" class=\"data row0 col4\" >1</td>\n",
       "                        <td id=\"T_9ebfb_row0_col5\" class=\"data row0 col5\" >1</td>\n",
       "                        <td id=\"T_9ebfb_row0_col6\" class=\"data row0 col6\" >1</td>\n",
       "                        <td id=\"T_9ebfb_row0_col7\" class=\"data row0 col7\" >1</td>\n",
       "                        <td id=\"T_9ebfb_row0_col8\" class=\"data row0 col8\" >1</td>\n",
       "            </tr>\n",
       "    </tbody></table>"
      ],
      "text/plain": [
       "<pandas.io.formats.style.Styler at 0x7f2fc374dad0>"
      ]
     },
     "execution_count": 10,
     "metadata": {},
     "output_type": "execute_result"
    }
   ],
   "source": [
    "msm.info(molecular_system_trimmed)"
   ]
  },
  {
   "cell_type": "markdown",
   "metadata": {},
   "source": [
    "## Removing hydrogen atoms"
   ]
  },
  {
   "cell_type": "code",
   "execution_count": 11,
   "metadata": {},
   "outputs": [],
   "source": [
    "pdbfile = msm.demo_systems.files['trp-cage.pdb']\n",
    "molecular_system = msm.convert(pdbfile, frame_indices=0)"
   ]
  },
  {
   "cell_type": "code",
   "execution_count": 12,
   "metadata": {},
   "outputs": [
    {
     "name": "stdout",
     "output_type": "stream",
     "text": [
      "150 hydrogen atoms in the system\n"
     ]
    }
   ],
   "source": [
    "n_Hs = msm.get(molecular_system, selection='atom_type==\"H\"', n_atoms=True)\n",
    "print('{} hydrogen atoms in the system'.format(n_Hs))"
   ]
  },
  {
   "cell_type": "code",
   "execution_count": 13,
   "metadata": {},
   "outputs": [],
   "source": [
    "molecular_system = msm.remove_hydrogens(molecular_system)"
   ]
  },
  {
   "cell_type": "code",
   "execution_count": 14,
   "metadata": {},
   "outputs": [
    {
     "name": "stdout",
     "output_type": "stream",
     "text": [
      "0 hydrogen atoms in the system\n"
     ]
    }
   ],
   "source": [
    "n_Hs = msm.get(molecular_system, selection='atom_type==\"H\"', n_atoms=True)\n",
    "print('{} hydrogen atoms in the system'.format(n_Hs))"
   ]
  },
  {
   "cell_type": "markdown",
   "metadata": {},
   "source": [
    "## Removing the solvent"
   ]
  },
  {
   "cell_type": "code",
   "execution_count": 15,
   "metadata": {},
   "outputs": [],
   "source": [
    "pdbfile = msm.demo_systems.files['trp-cage_solvated.pdb']\n",
    "molecular_system = msm.convert(pdbfile, frame_indices=0)"
   ]
  },
  {
   "cell_type": "code",
   "execution_count": 16,
   "metadata": {},
   "outputs": [
    {
     "data": {
      "text/html": [
       "<style  type=\"text/css\" >\n",
       "</style><table id=\"T_c838b_\" ><thead>    <tr>        <th class=\"col_heading level0 col0\" >form</th>        <th class=\"col_heading level0 col1\" >n_atoms</th>        <th class=\"col_heading level0 col2\" >n_groups</th>        <th class=\"col_heading level0 col3\" >n_components</th>        <th class=\"col_heading level0 col4\" >n_chains</th>        <th class=\"col_heading level0 col5\" >n_molecules</th>        <th class=\"col_heading level0 col6\" >n_entities</th>        <th class=\"col_heading level0 col7\" >n_waters</th>        <th class=\"col_heading level0 col8\" >n_ions</th>        <th class=\"col_heading level0 col9\" >n_peptides</th>        <th class=\"col_heading level0 col10\" >n_frames</th>    </tr></thead><tbody>\n",
       "                <tr>\n",
       "                                <td id=\"T_c838b_row0_col0\" class=\"data row0 col0\" >molsysmt.MolSys</td>\n",
       "                        <td id=\"T_c838b_row0_col1\" class=\"data row0 col1\" >10544</td>\n",
       "                        <td id=\"T_c838b_row0_col2\" class=\"data row0 col2\" >3434</td>\n",
       "                        <td id=\"T_c838b_row0_col3\" class=\"data row0 col3\" >3415</td>\n",
       "                        <td id=\"T_c838b_row0_col4\" class=\"data row0 col4\" >1</td>\n",
       "                        <td id=\"T_c838b_row0_col5\" class=\"data row0 col5\" >3415</td>\n",
       "                        <td id=\"T_c838b_row0_col6\" class=\"data row0 col6\" >3</td>\n",
       "                        <td id=\"T_c838b_row0_col7\" class=\"data row0 col7\" >3413</td>\n",
       "                        <td id=\"T_c838b_row0_col8\" class=\"data row0 col8\" >1</td>\n",
       "                        <td id=\"T_c838b_row0_col9\" class=\"data row0 col9\" >1</td>\n",
       "                        <td id=\"T_c838b_row0_col10\" class=\"data row0 col10\" >1</td>\n",
       "            </tr>\n",
       "    </tbody></table>"
      ],
      "text/plain": [
       "<pandas.io.formats.style.Styler at 0x7f2fe7632310>"
      ]
     },
     "execution_count": 16,
     "metadata": {},
     "output_type": "execute_result"
    }
   ],
   "source": [
    "msm.info(molecular_system)"
   ]
  },
  {
   "cell_type": "code",
   "execution_count": 17,
   "metadata": {},
   "outputs": [],
   "source": [
    "molecular_system = msm.remove_solvent(molecular_system)"
   ]
  },
  {
   "cell_type": "code",
   "execution_count": 18,
   "metadata": {},
   "outputs": [
    {
     "data": {
      "text/html": [
       "<style  type=\"text/css\" >\n",
       "</style><table id=\"T_6ca02_\" ><thead>    <tr>        <th class=\"col_heading level0 col0\" >form</th>        <th class=\"col_heading level0 col1\" >n_atoms</th>        <th class=\"col_heading level0 col2\" >n_groups</th>        <th class=\"col_heading level0 col3\" >n_components</th>        <th class=\"col_heading level0 col4\" >n_chains</th>        <th class=\"col_heading level0 col5\" >n_molecules</th>        <th class=\"col_heading level0 col6\" >n_entities</th>        <th class=\"col_heading level0 col7\" >n_peptides</th>        <th class=\"col_heading level0 col8\" >n_frames</th>    </tr></thead><tbody>\n",
       "                <tr>\n",
       "                                <td id=\"T_6ca02_row0_col0\" class=\"data row0 col0\" >molsysmt.MolSys</td>\n",
       "                        <td id=\"T_6ca02_row0_col1\" class=\"data row0 col1\" >304</td>\n",
       "                        <td id=\"T_6ca02_row0_col2\" class=\"data row0 col2\" >20</td>\n",
       "                        <td id=\"T_6ca02_row0_col3\" class=\"data row0 col3\" >1</td>\n",
       "                        <td id=\"T_6ca02_row0_col4\" class=\"data row0 col4\" >1</td>\n",
       "                        <td id=\"T_6ca02_row0_col5\" class=\"data row0 col5\" >1</td>\n",
       "                        <td id=\"T_6ca02_row0_col6\" class=\"data row0 col6\" >1</td>\n",
       "                        <td id=\"T_6ca02_row0_col7\" class=\"data row0 col7\" >1</td>\n",
       "                        <td id=\"T_6ca02_row0_col8\" class=\"data row0 col8\" >1</td>\n",
       "            </tr>\n",
       "    </tbody></table>"
      ],
      "text/plain": [
       "<pandas.io.formats.style.Styler at 0x7f2fc3812b90>"
      ]
     },
     "execution_count": 18,
     "metadata": {},
     "output_type": "execute_result"
    }
   ],
   "source": [
    "msm.info(molecular_system)"
   ]
  },
  {
   "cell_type": "code",
   "execution_count": null,
   "metadata": {},
   "outputs": [],
   "source": []
  }
 ],
 "metadata": {
  "kernelspec": {
   "display_name": "Python 3",
   "language": "python",
   "name": "python3"
  },
  "language_info": {
   "codemirror_mode": {
    "name": "ipython",
    "version": 3
   },
   "file_extension": ".py",
   "mimetype": "text/x-python",
   "name": "python",
   "nbconvert_exporter": "python",
   "pygments_lexer": "ipython3",
   "version": "3.7.9"
  }
 },
 "nbformat": 4,
 "nbformat_minor": 4
}
