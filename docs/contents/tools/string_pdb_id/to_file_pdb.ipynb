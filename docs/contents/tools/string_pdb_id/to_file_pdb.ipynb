{
 "cells": [
  {
   "cell_type": "markdown",
   "id": "4c193e17-112f-4859-bf95-f45256ee02d7",
   "metadata": {},
   "source": [
    "# To file pdb"
   ]
  },
  {
   "cell_type": "code",
   "execution_count": 1,
   "id": "c45f3a38-4f82-490d-8c78-9fd207739961",
   "metadata": {},
   "outputs": [
    {
     "name": "stderr",
     "output_type": "stream",
     "text": [
      "Warning: importing 'simtk.openmm' is deprecated.  Import 'openmm' instead.\n"
     ]
    },
    {
     "data": {
      "application/vnd.jupyter.widget-view+json": {
       "model_id": "9a8d4392aac94ff3a0031e39b9d2b281",
       "version_major": 2,
       "version_minor": 0
      },
      "text/plain": []
     },
     "metadata": {},
     "output_type": "display_data"
    },
    {
     "name": "stdout",
     "output_type": "stream",
     "text": [
      "no need to add nglview patch\n"
     ]
    }
   ],
   "source": [
    "from molsysmt.tools import string_pdb_id"
   ]
  },
  {
   "cell_type": "code",
   "execution_count": 3,
   "id": "d2f4717a-2926-43c4-8095-4bd090c679d0",
   "metadata": {},
   "outputs": [
    {
     "data": {
      "text/plain": [
       "'test.pdb'"
      ]
     },
     "execution_count": 3,
     "metadata": {},
     "output_type": "execute_result"
    }
   ],
   "source": [
    "string_pdb_id.to_file_pdb('1brs', output_filename='test.pdb')"
   ]
  },
  {
   "cell_type": "code",
   "execution_count": null,
   "id": "784ba64d-6842-488a-9d9d-424e9e39870c",
   "metadata": {},
   "outputs": [],
   "source": [
    "string_pdb_id.to_file_pdb('pdb_id:1brs', output_filename='test.pdb')"
   ]
  },
  {
   "cell_type": "code",
   "execution_count": null,
   "id": "d8fbd096-faa3-469d-a528-cc97d8f6963b",
   "metadata": {},
   "outputs": [],
   "source": []
  }
 ],
 "metadata": {
  "kernelspec": {
   "display_name": "Python 3 (ipykernel)",
   "language": "python",
   "name": "python3"
  },
  "language_info": {
   "codemirror_mode": {
    "name": "ipython",
    "version": 3
   },
   "file_extension": ".py",
   "mimetype": "text/x-python",
   "name": "python",
   "nbconvert_exporter": "python",
   "pygments_lexer": "ipython3",
   "version": "3.7.12"
  }
 },
 "nbformat": 4,
 "nbformat_minor": 5
}
