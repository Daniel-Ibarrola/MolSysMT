{
 "cells": [
  {
   "cell_type": "markdown",
   "id": "42638e4c-2846-432b-8912-ac31bd2725d3",
   "metadata": {},
   "source": [
    "# Is file mdcrd"
   ]
  },
  {
   "cell_type": "code",
   "execution_count": 1,
   "id": "79fe6f1f-98d6-44aa-9b9f-9f18504a4371",
   "metadata": {},
   "outputs": [
    {
     "name": "stderr",
     "output_type": "stream",
     "text": [
      "Warning: importing 'simtk.openmm' is deprecated.  Import 'openmm' instead.\n"
     ]
    },
    {
     "data": {
      "application/vnd.jupyter.widget-view+json": {
       "model_id": "60b66ce32e2a4ed5bc29ca3754c0cba4",
       "version_major": 2,
       "version_minor": 0
      },
      "text/plain": []
     },
     "metadata": {},
     "output_type": "display_data"
    }
   ],
   "source": [
    "from molsysmt.tools import file_mdcrd"
   ]
  },
  {
   "cell_type": "code",
   "execution_count": 2,
   "id": "610939c3-402d-44ad-8788-279cf80e9a56",
   "metadata": {},
   "outputs": [
    {
     "data": {
      "text/plain": [
       "True"
      ]
     },
     "execution_count": 2,
     "metadata": {},
     "output_type": "execute_result"
    }
   ],
   "source": [
    "file_mdcrd.is_file_mdcrd('test.mdcrd')"
   ]
  },
  {
   "cell_type": "code",
   "execution_count": null,
   "id": "f4d39824-7a78-4b53-b070-e3c0b7a15991",
   "metadata": {},
   "outputs": [],
   "source": []
  }
 ],
 "metadata": {
  "kernelspec": {
   "display_name": "Python 3 (ipykernel)",
   "language": "python",
   "name": "python3"
  },
  "language_info": {
   "codemirror_mode": {
    "name": "ipython",
    "version": 3
   },
   "file_extension": ".py",
   "mimetype": "text/x-python",
   "name": "python",
   "nbconvert_exporter": "python",
   "pygments_lexer": "ipython3",
   "version": "3.7.12"
  }
 },
 "nbformat": 4,
 "nbformat_minor": 5
}
