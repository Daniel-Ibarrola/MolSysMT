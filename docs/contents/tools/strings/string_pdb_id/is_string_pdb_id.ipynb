{
 "cells": [
  {
   "cell_type": "markdown",
   "id": "f3360d33-d3b0-4d66-b975-6e9ab15d0b8c",
   "metadata": {},
   "source": [
    "# Is string pdb_id"
   ]
  },
  {
   "cell_type": "code",
   "execution_count": 1,
   "id": "27a389b7-bb64-4547-a1fd-54aa19d126d9",
   "metadata": {},
   "outputs": [
    {
     "name": "stderr",
     "output_type": "stream",
     "text": [
      "Warning: importing 'simtk.openmm' is deprecated.  Import 'openmm' instead.\n"
     ]
    },
    {
     "data": {
      "application/vnd.jupyter.widget-view+json": {
       "model_id": "45974cdb3b734f24900987adf1979488",
       "version_major": 2,
       "version_minor": 0
      },
      "text/plain": []
     },
     "metadata": {},
     "output_type": "display_data"
    }
   ],
   "source": [
    "from molsysmt.tools import string_pdb_id"
   ]
  },
  {
   "cell_type": "code",
   "execution_count": 2,
   "id": "39784598-be42-4ba6-925a-fc744501aa65",
   "metadata": {},
   "outputs": [
    {
     "data": {
      "text/plain": [
       "True"
      ]
     },
     "execution_count": 2,
     "metadata": {},
     "output_type": "execute_result"
    }
   ],
   "source": [
    "string_pdb_id.is_string_pdb_id('1brs')"
   ]
  },
  {
   "cell_type": "code",
   "execution_count": 3,
   "id": "23c0a1c4-69c5-4446-bccd-ec645d362913",
   "metadata": {},
   "outputs": [
    {
     "data": {
      "text/plain": [
       "False"
      ]
     },
     "execution_count": 3,
     "metadata": {},
     "output_type": "execute_result"
    }
   ],
   "source": [
    "string_pdb_id.is_string_pdb_id('xxxx')"
   ]
  },
  {
   "cell_type": "code",
   "execution_count": 4,
   "id": "cde47aa4-dfae-4eb7-ab4a-0c128967996f",
   "metadata": {},
   "outputs": [
    {
     "data": {
      "text/plain": [
       "False"
      ]
     },
     "execution_count": 4,
     "metadata": {},
     "output_type": "execute_result"
    }
   ],
   "source": [
    "string_pdb_id.is_string_pdb_id('potato')"
   ]
  },
  {
   "cell_type": "code",
   "execution_count": null,
   "id": "a95978a2-6a06-4455-a9f1-17f4f16cbbb5",
   "metadata": {},
   "outputs": [],
   "source": []
  }
 ],
 "metadata": {
  "kernelspec": {
   "display_name": "Python 3 (ipykernel)",
   "language": "python",
   "name": "python3"
  },
  "language_info": {
   "codemirror_mode": {
    "name": "ipython",
    "version": 3
   },
   "file_extension": ".py",
   "mimetype": "text/x-python",
   "name": "python",
   "nbconvert_exporter": "python",
   "pygments_lexer": "ipython3",
   "version": "3.7.12"
  }
 },
 "nbformat": 4,
 "nbformat_minor": 5
}
