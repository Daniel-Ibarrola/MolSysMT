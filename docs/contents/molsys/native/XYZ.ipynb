{
 "cells": [
  {
   "cell_type": "code",
   "execution_count": 1,
   "id": "e9d70014-3ddd-4eba-8160-7696863d80c8",
   "metadata": {},
   "outputs": [],
   "source": [
    "%load_ext autoreload\n",
    "%autoreload 2"
   ]
  },
  {
   "cell_type": "code",
   "execution_count": 2,
   "id": "1516c0a1-e107-454c-9c3d-404d6c74f67f",
   "metadata": {},
   "outputs": [
    {
     "name": "stderr",
     "output_type": "stream",
     "text": [
      "Warning: importing 'simtk.openmm' is deprecated.  Import 'openmm' instead.\n"
     ]
    },
    {
     "data": {
      "application/vnd.jupyter.widget-view+json": {
       "model_id": "34bd05026bf34e87a617635adc315a85",
       "version_major": 2,
       "version_minor": 0
      },
      "text/plain": []
     },
     "metadata": {},
     "output_type": "display_data"
    }
   ],
   "source": [
    "import molsysmt as msm\n",
    "from molsysmt import puw\n",
    "import numpy as np"
   ]
  },
  {
   "cell_type": "markdown",
   "id": "88448393-2ccc-4022-ba58-aa3aa8ddbac9",
   "metadata": {},
   "source": [
    "# XYZ"
   ]
  },
  {
   "cell_type": "markdown",
   "id": "1cbd2c35-3be5-453b-b305-69ac8ae55bac",
   "metadata": {},
   "source": [
    "MolSysMT accepts a molecular system form where only spatial coordinates are described, with out topological information: the `XYZ` form."
   ]
  },
  {
   "cell_type": "code",
   "execution_count": 3,
   "id": "41d548cd-c378-4804-b33f-6805be8c4e65",
   "metadata": {},
   "outputs": [],
   "source": [
    "molecular_system = np.zeros([6,3], dtype='float64') * puw.unit('nm')"
   ]
  },
  {
   "cell_type": "code",
   "execution_count": 4,
   "id": "8e443a4a-a348-49f8-beee-58bdf43b368c",
   "metadata": {},
   "outputs": [
    {
     "data": {
      "text/plain": [
       "'XYZ'"
      ]
     },
     "execution_count": 4,
     "metadata": {},
     "output_type": "execute_result"
    }
   ],
   "source": [
    "msm.get_form(molecular_system)"
   ]
  },
  {
   "cell_type": "markdown",
   "id": "03fba8c9-4caf-4abf-aba5-09a7d9bec446",
   "metadata": {},
   "source": [
    "The `XYZ` form accepts numpy arrays with length units of the shape $[n\\_frames, n\\_atoms, 3]$ or $[n\\_atoms, 3]$. In case of having an array of rank 2, MolSysMT always understands $n\\_frames=1$ and the first rank as the number of atoms:"
   ]
  },
  {
   "cell_type": "code",
   "execution_count": 5,
   "id": "89a0ada4-ac8a-43e5-8021-03ed0175edd5",
   "metadata": {},
   "outputs": [
    {
     "data": {
      "text/plain": [
       "[1, 6]"
      ]
     },
     "execution_count": 5,
     "metadata": {},
     "output_type": "execute_result"
    }
   ],
   "source": [
    "msm.get(molecular_system, n_frames=True, n_atoms=True)"
   ]
  },
  {
   "cell_type": "markdown",
   "id": "4839c11a-6db2-48c7-945b-d03091448a2e",
   "metadata": {},
   "source": [
    "Lets create a `XYZ` molecular system with more than a frame. It will help us to illustrate the work with this native form."
   ]
  },
  {
   "cell_type": "code",
   "execution_count": 6,
   "id": "f0970c77-efce-417e-8a5a-ea6e1bb65a41",
   "metadata": {},
   "outputs": [],
   "source": [
    "# Molecular system with three atoms and three frames.\n",
    "\n",
    "molecular_system = np.zeros([3,4,3]) * puw.unit('nm')\n",
    "\n",
    "## First atom\n",
    "molecular_system[0,0,:] = [0, 2, -1] * puw.unit('nm')\n",
    "molecular_system[1,0,:] = [1, 2, -1] * puw.unit('nm')\n",
    "molecular_system[2,0,:] = [0, 2, -1] * puw.unit('nm')\n",
    "\n",
    "## Second atom\n",
    "molecular_system[0,1,:] = [-1, 1, 1] * puw.unit('nm')\n",
    "molecular_system[1,1,:] = [-1, 0, 1] * puw.unit('nm')\n",
    "molecular_system[2,1,:] = [0, 0, 1] * puw.unit('nm')\n",
    "\n",
    "## Third atom\n",
    "molecular_system[0,2,:] = [-2, 0, 1] * puw.unit('nm')\n",
    "molecular_system[1,2,:] = [-2, 0, 0] * puw.unit('nm')\n",
    "molecular_system[2,2,:] = [-1, 1, 0] * puw.unit('nm')\n",
    "\n",
    "## Fourth atom\n",
    "molecular_system[0,3,:] = [-2, -2, -2] * puw.unit('nm')\n",
    "molecular_system[1,3,:] = [0, 0, 0] * puw.unit('nm')\n",
    "molecular_system[2,3,:] = [2, 2, 2] * puw.unit('nm')"
   ]
  },
  {
   "cell_type": "code",
   "execution_count": 7,
   "id": "2012e78c-cf62-4d48-bd97-17aaa50b97f6",
   "metadata": {},
   "outputs": [
    {
     "data": {
      "text/html": [
       "<style type=\"text/css\">\n",
       "</style>\n",
       "<table id=\"T_f2bce_\">\n",
       "  <thead>\n",
       "    <tr>\n",
       "      <th class=\"col_heading level0 col0\" >form</th>\n",
       "      <th class=\"col_heading level0 col1\" >n_atoms</th>\n",
       "      <th class=\"col_heading level0 col2\" >n_groups</th>\n",
       "      <th class=\"col_heading level0 col3\" >n_components</th>\n",
       "      <th class=\"col_heading level0 col4\" >n_chains</th>\n",
       "      <th class=\"col_heading level0 col5\" >n_molecules</th>\n",
       "      <th class=\"col_heading level0 col6\" >n_entities</th>\n",
       "      <th class=\"col_heading level0 col7\" >n_frames</th>\n",
       "    </tr>\n",
       "  </thead>\n",
       "  <tbody>\n",
       "    <tr>\n",
       "      <td id=\"T_f2bce_row0_col0\" class=\"data row0 col0\" >XYZ</td>\n",
       "      <td id=\"T_f2bce_row0_col1\" class=\"data row0 col1\" >4</td>\n",
       "      <td id=\"T_f2bce_row0_col2\" class=\"data row0 col2\" >None</td>\n",
       "      <td id=\"T_f2bce_row0_col3\" class=\"data row0 col3\" >None</td>\n",
       "      <td id=\"T_f2bce_row0_col4\" class=\"data row0 col4\" >None</td>\n",
       "      <td id=\"T_f2bce_row0_col5\" class=\"data row0 col5\" >None</td>\n",
       "      <td id=\"T_f2bce_row0_col6\" class=\"data row0 col6\" >None</td>\n",
       "      <td id=\"T_f2bce_row0_col7\" class=\"data row0 col7\" >3</td>\n",
       "    </tr>\n",
       "  </tbody>\n",
       "</table>\n"
      ],
      "text/plain": [
       "<pandas.io.formats.style.Styler at 0x7fc645c40f10>"
      ]
     },
     "execution_count": 7,
     "metadata": {},
     "output_type": "execute_result"
    }
   ],
   "source": [
    "msm.info(molecular_system)"
   ]
  },
  {
   "cell_type": "markdown",
   "id": "ad179725-3323-4763-bcdf-746830e4838d",
   "metadata": {},
   "source": [
    "There is a native file format to save an XYZ molecular system, the \"file:xyznpy\" form."
   ]
  },
  {
   "cell_type": "code",
   "execution_count": 9,
   "id": "e9b06a61-d77a-46fc-9a31-31c467fa2936",
   "metadata": {},
   "outputs": [
    {
     "data": {
      "text/plain": [
       "'test.xyznpy'"
      ]
     },
     "execution_count": 9,
     "metadata": {},
     "output_type": "execute_result"
    }
   ],
   "source": [
    "msm.convert(molecular_system, to_form='test.xyznpy')"
   ]
  },
  {
   "cell_type": "code",
   "execution_count": 10,
   "id": "2dbb685c-31a6-464f-bc43-331b8f89af58",
   "metadata": {},
   "outputs": [],
   "source": [
    "molecular_system = msm.convert('test.xyznpy', to_form='XYZ')"
   ]
  },
  {
   "cell_type": "code",
   "execution_count": 11,
   "id": "e2b0116e-b67d-4ed0-a06b-74a7c505b118",
   "metadata": {},
   "outputs": [
    {
     "data": {
      "text/html": [
       "<table><tbody><tr><th>Magnitude</th><td style='text-align:left;'><pre>[[[0.0 2.0 -1.0]<br>  [-1.0 1.0 1.0]<br>  [-2.0 0.0 1.0]<br>  [-2.0 -2.0 -2.0]]<br><br> [[1.0 2.0 -1.0]<br>  [-1.0 0.0 1.0]<br>  [-2.0 0.0 0.0]<br>  [0.0 0.0 0.0]]<br><br> [[0.0 2.0 -1.0]<br>  [0.0 0.0 1.0]<br>  [-1.0 1.0 0.0]<br>  [2.0 2.0 2.0]]]</pre></td></tr><tr><th>Units</th><td style='text-align:left;'>nanometer</td></tr></tbody></table>"
      ],
      "text/latex": [
       "$arr[,0,:,:] = \\begin{pmatrix}0.0 & 2.0 & -1.0\\\\ \n",
       "-1.0 & 1.0 & 1.0\\\\ \n",
       "-2.0 & 0.0 & 1.0\\\\ \n",
       "-2.0 & -2.0 & -2.0\\end{pmatrix}\n",
       "arr[,1,:,:] = \\begin{pmatrix}1.0 & 2.0 & -1.0\\\\ \n",
       "-1.0 & 0.0 & 1.0\\\\ \n",
       "-2.0 & 0.0 & 0.0\\\\ \n",
       "0.0 & 0.0 & 0.0\\end{pmatrix}\n",
       "arr[,2,:,:] = \\begin{pmatrix}0.0 & 2.0 & -1.0\\\\ \n",
       "0.0 & 0.0 & 1.0\\\\ \n",
       "-1.0 & 1.0 & 0.0\\\\ \n",
       "2.0 & 2.0 & 2.0\\end{pmatrix}\\ \\mathrm{nanometer}$"
      ],
      "text/plain": [
       "array([[[ 0.,  2., -1.],\n",
       "        [-1.,  1.,  1.],\n",
       "        [-2.,  0.,  1.],\n",
       "        [-2., -2., -2.]],\n",
       "\n",
       "       [[ 1.,  2., -1.],\n",
       "        [-1.,  0.,  1.],\n",
       "        [-2.,  0.,  0.],\n",
       "        [ 0.,  0.,  0.]],\n",
       "\n",
       "       [[ 0.,  2., -1.],\n",
       "        [ 0.,  0.,  1.],\n",
       "        [-1.,  1.,  0.],\n",
       "        [ 2.,  2.,  2.]]]) <Unit('nanometer')>"
      ]
     },
     "execution_count": 11,
     "metadata": {},
     "output_type": "execute_result"
    }
   ],
   "source": [
    "molecular_system"
   ]
  },
  {
   "cell_type": "code",
   "execution_count": null,
   "id": "6abf9407-bcce-4896-b830-70053f17a649",
   "metadata": {},
   "outputs": [],
   "source": []
  }
 ],
 "metadata": {
  "kernelspec": {
   "display_name": "Python 3 (ipykernel)",
   "language": "python",
   "name": "python3"
  },
  "language_info": {
   "codemirror_mode": {
    "name": "ipython",
    "version": 3
   },
   "file_extension": ".py",
   "mimetype": "text/x-python",
   "name": "python",
   "nbconvert_exporter": "python",
   "pygments_lexer": "ipython3",
   "version": "3.7.10"
  }
 },
 "nbformat": 4,
 "nbformat_minor": 5
}
