{
 "cells": [
  {
   "cell_type": "code",
   "execution_count": 1,
   "metadata": {},
   "outputs": [],
   "source": [
    "%load_ext autoreload\n",
    "%autoreload 2"
   ]
  },
  {
   "cell_type": "code",
   "execution_count": 2,
   "metadata": {},
   "outputs": [
    {
     "data": {
      "application/vnd.jupyter.widget-view+json": {
       "model_id": "0365b0dda7214ac5a6b1cdeffcb8cf23",
       "version_major": 2,
       "version_minor": 0
      },
      "text/plain": []
     },
     "metadata": {},
     "output_type": "display_data"
    }
   ],
   "source": [
    "import molsysmt as msm"
   ]
  },
  {
   "cell_type": "markdown",
   "metadata": {},
   "source": [
    "# Molecular Mechanics Parameters"
   ]
  },
  {
   "cell_type": "code",
   "execution_count": 3,
   "metadata": {},
   "outputs": [],
   "source": [
    "item = {'forcefield':'patata'}"
   ]
  },
  {
   "cell_type": "code",
   "execution_count": 4,
   "metadata": {},
   "outputs": [
    {
     "data": {
      "text/plain": [
       "'MolecularMechanicsDict'"
      ]
     },
     "execution_count": 4,
     "metadata": {},
     "output_type": "execute_result"
    }
   ],
   "source": [
    "msm.get_form(item)"
   ]
  },
  {
   "cell_type": "code",
   "execution_count": 5,
   "metadata": {},
   "outputs": [],
   "source": [
    "item = msm.convert(item, to_form='molsysmt.MolecularMechanics')"
   ]
  },
  {
   "cell_type": "code",
   "execution_count": 6,
   "metadata": {},
   "outputs": [
    {
     "data": {
      "text/plain": [
       "'molsysmt.MolecularMechanics'"
      ]
     },
     "execution_count": 6,
     "metadata": {},
     "output_type": "execute_result"
    }
   ],
   "source": [
    "msm.get_form(item)"
   ]
  },
  {
   "cell_type": "code",
   "execution_count": 7,
   "metadata": {},
   "outputs": [
    {
     "data": {
      "text/plain": [
       "{'_molecular_system': None,\n",
       " 'forcefield': 'patata',\n",
       " 'non_bonded_method': 'no_cutoff',\n",
       " 'non_bonded_cutoff': None,\n",
       " 'switch_distance': None,\n",
       " 'use_dispersion_correction': False,\n",
       " 'ewald_error_tolerance': 0.0001,\n",
       " 'hydrogen_mass': None,\n",
       " 'constraints': None,\n",
       " 'flexible_constraints': False,\n",
       " 'constraint_tolerance': 1e-05,\n",
       " 'water_model': None,\n",
       " 'rigid_water': True,\n",
       " 'residue_templates': {},\n",
       " 'ignore_external_bonds': False,\n",
       " 'implicit_solvent': None,\n",
       " 'solute_dielectric': 1.0,\n",
       " 'solvent_dielectric': 78.5,\n",
       " 'implicit_solvent_salt_conc': '0.0 mol/L',\n",
       " 'implicit_solvent_kappa': '0.0 1/nm'}"
      ]
     },
     "execution_count": 7,
     "metadata": {},
     "output_type": "execute_result"
    }
   ],
   "source": [
    "item.__dict__"
   ]
  },
  {
   "cell_type": "code",
   "execution_count": 8,
   "metadata": {},
   "outputs": [],
   "source": [
    "file_path = msm.demo_systems.files['1tcd.pdb']\n",
    "molecular_system_A = msm.convert(file_path)\n",
    "molecular_system_A = msm.remove_solvent(molecular_system_A)\n",
    "molecular_system_A = msm.add_missing_hydrogens(molecular_system_A)"
   ]
  },
  {
   "cell_type": "code",
   "execution_count": 9,
   "metadata": {},
   "outputs": [],
   "source": [
    "from molsysmt.molecular_system import MolecularSystem"
   ]
  },
  {
   "cell_type": "code",
   "execution_count": 10,
   "metadata": {},
   "outputs": [],
   "source": [
    "molecular_system = MolecularSystem(molecular_system_A)"
   ]
  },
  {
   "cell_type": "code",
   "execution_count": 11,
   "metadata": {},
   "outputs": [
    {
     "data": {
      "text/plain": [
       "{'elements_item': <molsysmt.native.molsys.MolSys at 0x7ff74ae787d0>,\n",
       " 'elements_form': 'molsysmt.MolSys',\n",
       " 'bonds_item': <molsysmt.native.molsys.MolSys at 0x7ff74ae787d0>,\n",
       " 'bonds_form': 'molsysmt.MolSys',\n",
       " 'coordinates_item': <molsysmt.native.molsys.MolSys at 0x7ff74ae787d0>,\n",
       " 'coordinates_form': 'molsysmt.MolSys',\n",
       " 'velocities_item': None,\n",
       " 'velocities_form': None,\n",
       " 'box_item': <molsysmt.native.molsys.MolSys at 0x7ff74ae787d0>,\n",
       " 'box_form': 'molsysmt.MolSys',\n",
       " 'ff_parameters_item': None,\n",
       " 'ff_parameters_form': None,\n",
       " 'mm_parameters_item': None,\n",
       " 'mm_parameters_form': None,\n",
       " 'thermo_state_item': None,\n",
       " 'thermo_state_form': None,\n",
       " 'simulation_item': None,\n",
       " 'simulation_form': None}"
      ]
     },
     "execution_count": 11,
     "metadata": {},
     "output_type": "execute_result"
    }
   ],
   "source": [
    "molecular_system.__dict__"
   ]
  },
  {
   "cell_type": "code",
   "execution_count": 12,
   "metadata": {},
   "outputs": [],
   "source": [
    "mm_parameters = {'forcefield':'AMBER04'}"
   ]
  },
  {
   "cell_type": "code",
   "execution_count": 13,
   "metadata": {},
   "outputs": [],
   "source": [
    "aa = ['aa',None]"
   ]
  },
  {
   "cell_type": "code",
   "execution_count": 14,
   "metadata": {},
   "outputs": [],
   "source": [
    "while None in aa: aa.remove(None)"
   ]
  },
  {
   "cell_type": "code",
   "execution_count": 15,
   "metadata": {},
   "outputs": [
    {
     "data": {
      "text/plain": [
       "['aa']"
      ]
     },
     "execution_count": 15,
     "metadata": {},
     "output_type": "execute_result"
    }
   ],
   "source": [
    "aa"
   ]
  },
  {
   "cell_type": "code",
   "execution_count": 16,
   "metadata": {},
   "outputs": [],
   "source": [
    "aa.remove('aa')"
   ]
  },
  {
   "cell_type": "code",
   "execution_count": 17,
   "metadata": {},
   "outputs": [
    {
     "data": {
      "text/plain": [
       "[]"
      ]
     },
     "execution_count": 17,
     "metadata": {},
     "output_type": "execute_result"
    }
   ],
   "source": [
    "aa"
   ]
  },
  {
   "cell_type": "code",
   "execution_count": 18,
   "metadata": {},
   "outputs": [],
   "source": [
    "molecular_system = molecular_system.combine_with_items(None)"
   ]
  },
  {
   "cell_type": "code",
   "execution_count": 19,
   "metadata": {},
   "outputs": [
    {
     "data": {
      "text/plain": [
       "{'elements_item': <molsysmt.native.molsys.MolSys at 0x7ff74ae787d0>,\n",
       " 'elements_form': 'molsysmt.MolSys',\n",
       " 'bonds_item': <molsysmt.native.molsys.MolSys at 0x7ff74ae787d0>,\n",
       " 'bonds_form': 'molsysmt.MolSys',\n",
       " 'coordinates_item': <molsysmt.native.molsys.MolSys at 0x7ff74ae787d0>,\n",
       " 'coordinates_form': 'molsysmt.MolSys',\n",
       " 'velocities_item': None,\n",
       " 'velocities_form': None,\n",
       " 'box_item': <molsysmt.native.molsys.MolSys at 0x7ff74ae787d0>,\n",
       " 'box_form': 'molsysmt.MolSys',\n",
       " 'ff_parameters_item': None,\n",
       " 'ff_parameters_form': None,\n",
       " 'mm_parameters_item': None,\n",
       " 'mm_parameters_form': None,\n",
       " 'thermo_state_item': None,\n",
       " 'thermo_state_form': None,\n",
       " 'simulation_item': None,\n",
       " 'simulation_form': None}"
      ]
     },
     "execution_count": 19,
     "metadata": {},
     "output_type": "execute_result"
    }
   ],
   "source": [
    "molecular_system.__dict__"
   ]
  },
  {
   "cell_type": "code",
   "execution_count": 20,
   "metadata": {},
   "outputs": [
    {
     "data": {
      "text/plain": [
       "<molsysmt.native.molsys.MolSys at 0x7ff74ae787d0>"
      ]
     },
     "execution_count": 20,
     "metadata": {},
     "output_type": "execute_result"
    }
   ],
   "source": [
    "molecular_system_A"
   ]
  },
  {
   "cell_type": "code",
   "execution_count": 21,
   "metadata": {},
   "outputs": [],
   "source": [
    "molecular_system = MolecularSystem([molecular_system_A, mm_parameters])"
   ]
  },
  {
   "cell_type": "code",
   "execution_count": 22,
   "metadata": {},
   "outputs": [],
   "source": [
    "from molsysmt.tools.molecular_systems import is_a_single_molecular_system"
   ]
  },
  {
   "cell_type": "code",
   "execution_count": 23,
   "metadata": {},
   "outputs": [
    {
     "data": {
      "text/plain": [
       "True"
      ]
     },
     "execution_count": 23,
     "metadata": {},
     "output_type": "execute_result"
    }
   ],
   "source": [
    "is_a_single_molecular_system([molecular_system_A, mm_parameters])"
   ]
  },
  {
   "cell_type": "code",
   "execution_count": 25,
   "metadata": {},
   "outputs": [
    {
     "ename": "TypeError",
     "evalue": "to_openmm_System() got an unexpected keyword argument 'forcefield'",
     "output_type": "error",
     "traceback": [
      "\u001b[0;31m---------------------------------------------------------------------------\u001b[0m",
      "\u001b[0;31mTypeError\u001b[0m                                 Traceback (most recent call last)",
      "\u001b[0;32m<ipython-input-25-623b14880b59>\u001b[0m in \u001b[0;36m<module>\u001b[0;34m\u001b[0m\n\u001b[0;32m----> 1\u001b[0;31m \u001b[0mtmp_item\u001b[0m \u001b[0;34m=\u001b[0m \u001b[0mmsm\u001b[0m\u001b[0;34m.\u001b[0m\u001b[0mconvert\u001b[0m\u001b[0;34m(\u001b[0m\u001b[0;34m[\u001b[0m\u001b[0mmolecular_system_A\u001b[0m\u001b[0;34m,\u001b[0m \u001b[0mmm_parameters\u001b[0m\u001b[0;34m]\u001b[0m\u001b[0;34m,\u001b[0m \u001b[0mto_form\u001b[0m\u001b[0;34m=\u001b[0m\u001b[0;34m'openmm.System'\u001b[0m\u001b[0;34m)\u001b[0m\u001b[0;34m\u001b[0m\u001b[0;34m\u001b[0m\u001b[0m\n\u001b[0m",
      "\u001b[0;32m~/Proyectos/MolSysMT/molsysmt/multitool.py\u001b[0m in \u001b[0;36mconvert\u001b[0;34m(molecular_system, to_form, selection, frame_indices, syntaxis, **kwargs)\u001b[0m\n\u001b[1;32m   1195\u001b[0m \u001b[0;34m\u001b[0m\u001b[0m\n\u001b[1;32m   1196\u001b[0m         tmp_item = dict_convert[item_form][to_form](item, molecular_system, atom_indices=atom_indices, frame_indices=frame_indices,\n\u001b[0;32m-> 1197\u001b[0;31m                                                      **conversion_arguments, **kwargs)\n\u001b[0m\u001b[1;32m   1198\u001b[0m     \u001b[0;32melse\u001b[0m\u001b[0;34m:\u001b[0m\u001b[0;34m\u001b[0m\u001b[0;34m\u001b[0m\u001b[0m\n\u001b[1;32m   1199\u001b[0m         \u001b[0;32mif\u001b[0m \u001b[0;34m'output_filename'\u001b[0m \u001b[0;32min\u001b[0m \u001b[0mconversion_arguments\u001b[0m\u001b[0;34m:\u001b[0m\u001b[0;34m\u001b[0m\u001b[0;34m\u001b[0m\u001b[0m\n",
      "\u001b[0;32m~/Proyectos/MolSysMT/molsysmt/forms/classes/api_molsysmt_MolSys.py\u001b[0m in \u001b[0;36mto_openmm_System\u001b[0;34m(item, molecular_system, atom_indices, frame_indices)\u001b[0m\n\u001b[1;32m    111\u001b[0m     \u001b[0;32mfrom\u001b[0m \u001b[0mmolsysmt\u001b[0m\u001b[0;34m.\u001b[0m\u001b[0mnative\u001b[0m\u001b[0;34m.\u001b[0m\u001b[0mio\u001b[0m\u001b[0;34m.\u001b[0m\u001b[0mmolsys\u001b[0m\u001b[0;34m.\u001b[0m\u001b[0mclasses\u001b[0m \u001b[0;32mimport\u001b[0m \u001b[0mto_openmm_System\u001b[0m \u001b[0;32mas\u001b[0m \u001b[0mmolsysmt_MolSys_to_openmm_System\u001b[0m\u001b[0;34m\u001b[0m\u001b[0;34m\u001b[0m\u001b[0m\n\u001b[1;32m    112\u001b[0m \u001b[0;34m\u001b[0m\u001b[0m\n\u001b[0;32m--> 113\u001b[0;31m     \u001b[0mtmp_item\u001b[0m \u001b[0;34m=\u001b[0m \u001b[0mmolsysmt_MolSys_to_openmm_System\u001b[0m\u001b[0;34m(\u001b[0m\u001b[0mitem\u001b[0m\u001b[0;34m,\u001b[0m \u001b[0mmolecular_system\u001b[0m\u001b[0;34m=\u001b[0m\u001b[0mmolecular_system\u001b[0m\u001b[0;34m,\u001b[0m \u001b[0matom_indices\u001b[0m\u001b[0;34m=\u001b[0m\u001b[0matom_indices\u001b[0m\u001b[0;34m,\u001b[0m \u001b[0mframe_indices\u001b[0m\u001b[0;34m=\u001b[0m\u001b[0mframe_indices\u001b[0m\u001b[0;34m)\u001b[0m\u001b[0;34m\u001b[0m\u001b[0;34m\u001b[0m\u001b[0m\n\u001b[0m\u001b[1;32m    114\u001b[0m \u001b[0;34m\u001b[0m\u001b[0m\n\u001b[1;32m    115\u001b[0m     \u001b[0;32mreturn\u001b[0m \u001b[0mtmp_item\u001b[0m\u001b[0;34m\u001b[0m\u001b[0;34m\u001b[0m\u001b[0m\n",
      "\u001b[0;32m~/Proyectos/MolSysMT/molsysmt/native/io/molsys/classes/openmm_System.py\u001b[0m in \u001b[0;36mto_openmm_System\u001b[0;34m(item, molecular_system, atom_indices, frame_indices, forcefield, non_bonded_method, non_bonded_cutoff, constraints, rigid_water, remove_cm_motion, hydrogen_mass, switch_distance, flexible_constraints, **kwargs)\u001b[0m\n\u001b[1;32m     14\u001b[0m         \u001b[0mnon_bonded_cutoff\u001b[0m\u001b[0;34m=\u001b[0m\u001b[0mnon_bonded_cutoff\u001b[0m\u001b[0;34m,\u001b[0m \u001b[0mconstraints\u001b[0m\u001b[0;34m=\u001b[0m\u001b[0mconstraints\u001b[0m\u001b[0;34m,\u001b[0m\u001b[0;34m\u001b[0m\u001b[0;34m\u001b[0m\u001b[0m\n\u001b[1;32m     15\u001b[0m         \u001b[0mrigid_water\u001b[0m\u001b[0;34m=\u001b[0m\u001b[0mrigid_water\u001b[0m\u001b[0;34m,\u001b[0m \u001b[0mremove_cm_motion\u001b[0m\u001b[0;34m=\u001b[0m\u001b[0mremove_cm_motion\u001b[0m\u001b[0;34m,\u001b[0m \u001b[0mhydrogen_mass\u001b[0m\u001b[0;34m=\u001b[0m\u001b[0mhydrogen_mass\u001b[0m\u001b[0;34m,\u001b[0m\u001b[0;34m\u001b[0m\u001b[0;34m\u001b[0m\u001b[0m\n\u001b[0;32m---> 16\u001b[0;31m         switch_distance=switch_distance, flexible_constraints=flexible_constraints, **kwargs)\n\u001b[0m\u001b[1;32m     17\u001b[0m \u001b[0;34m\u001b[0m\u001b[0m\n\u001b[1;32m     18\u001b[0m     \u001b[0;32mreturn\u001b[0m \u001b[0mtmp_item\u001b[0m\u001b[0;34m\u001b[0m\u001b[0;34m\u001b[0m\u001b[0m\n",
      "\u001b[0;31mTypeError\u001b[0m: to_openmm_System() got an unexpected keyword argument 'forcefield'"
     ]
    }
   ],
   "source": [
    "tmp_item = msm.convert([molecular_system_A, mm_parameters], to_form='openmm.System')"
   ]
  },
  {
   "cell_type": "code",
   "execution_count": 24,
   "metadata": {},
   "outputs": [
    {
     "data": {
      "text/plain": [
       "{'elements_item': <molsysmt.native.molsys.MolSys at 0x7ff74ae787d0>,\n",
       " 'elements_form': 'molsysmt.MolSys',\n",
       " 'bonds_item': <molsysmt.native.molsys.MolSys at 0x7ff74ae787d0>,\n",
       " 'bonds_form': 'molsysmt.MolSys',\n",
       " 'coordinates_item': <molsysmt.native.molsys.MolSys at 0x7ff74ae787d0>,\n",
       " 'coordinates_form': 'molsysmt.MolSys',\n",
       " 'velocities_item': None,\n",
       " 'velocities_form': None,\n",
       " 'box_item': <molsysmt.native.molsys.MolSys at 0x7ff74ae787d0>,\n",
       " 'box_form': 'molsysmt.MolSys',\n",
       " 'ff_parameters_item': {'forcefield': 'AMBER04'},\n",
       " 'ff_parameters_form': 'MolecularMechanicsDict',\n",
       " 'mm_parameters_item': {'forcefield': 'AMBER04'},\n",
       " 'mm_parameters_form': 'MolecularMechanicsDict',\n",
       " 'thermo_state_item': None,\n",
       " 'thermo_state_form': None,\n",
       " 'simulation_item': None,\n",
       " 'simulation_form': None}"
      ]
     },
     "execution_count": 24,
     "metadata": {},
     "output_type": "execute_result"
    }
   ],
   "source": [
    "molecular_system.__dict__"
   ]
  },
  {
   "cell_type": "code",
   "execution_count": null,
   "metadata": {},
   "outputs": [],
   "source": []
  },
  {
   "cell_type": "code",
   "execution_count": null,
   "metadata": {},
   "outputs": [],
   "source": []
  }
 ],
 "metadata": {
  "kernelspec": {
   "display_name": "Python 3",
   "language": "python",
   "name": "python3"
  },
  "language_info": {
   "codemirror_mode": {
    "name": "ipython",
    "version": 3
   },
   "file_extension": ".py",
   "mimetype": "text/x-python",
   "name": "python",
   "nbconvert_exporter": "python",
   "pygments_lexer": "ipython3",
   "version": "3.7.9"
  }
 },
 "nbformat": 4,
 "nbformat_minor": 4
}
