{
 "cells": [
  {
   "cell_type": "code",
   "execution_count": 1,
   "metadata": {
    "tags": [
     "remove-input"
    ]
   },
   "outputs": [],
   "source": [
    "# This cell is removed with the tag: \"remove-input\"\n",
    "# As such, it will not be shown in documentation\n",
    "\n",
    "%load_ext autoreload\n",
    "%autoreload 2"
   ]
  },
  {
   "cell_type": "markdown",
   "metadata": {},
   "source": [
    "# Quickstart guide"
   ]
  },
  {
   "cell_type": "markdown",
   "metadata": {},
   "source": [
    "## Ready in two steps\n",
    "\n",
    "Install MolSysMT in your conda env:\n",
    "\n",
    "```bash\n",
    "conda install -c uibcdf molsysmt\n",
    "```"
   ]
  },
  {
   "cell_type": "markdown",
   "metadata": {},
   "source": [
    "Open a Jupyter notebook or an IPython session and import the library:"
   ]
  },
  {
   "cell_type": "code",
   "execution_count": 2,
   "metadata": {},
   "outputs": [
    {
     "data": {
      "application/vnd.jupyter.widget-view+json": {
       "model_id": "4e82ed876dc14be3b5f53b88ab8b631a",
       "version_major": 2,
       "version_minor": 0
      },
      "text/plain": []
     },
     "metadata": {},
     "output_type": "display_data"
    }
   ],
   "source": [
    "import molsysmt as msm"
   ]
  },
  {
   "cell_type": "markdown",
   "metadata": {},
   "source": [
    "## Molecular systems' forms\n",
    "\n",
    "In MolSysMT's language, a same molecular system can have different forms. Not every form has the same attributes, but they are all different representations of the same system. For example, a PDB id is a form of a molecular system containing a list of atom names, atom residues, chains... etc, of a molecular system together with the spatial coordinates of a structure (or many). And the corresponding pdb file, mmtf file, Trajectory object of mdtraj or pytraj, NGLWidget of nglview, or MolSys object of MolSysMT can be other forms of the same molecular system. Let's see this with an example.\n",
    "\n",
    "Let's define a first molecular system as the PDB id '1M2Z'."
   ]
  },
  {
   "cell_type": "code",
   "execution_count": 3,
   "metadata": {},
   "outputs": [],
   "source": [
    "molecular_system = '1M2Z'"
   ]
  },
  {
   "cell_type": "markdown",
   "metadata": {},
   "source": [
    "We can check the form of our molecular system."
   ]
  },
  {
   "cell_type": "code",
   "execution_count": 4,
   "metadata": {},
   "outputs": [
    {
     "name": "stdout",
     "output_type": "stream",
     "text": [
      "The molecular system has the form of a \"string:pdb_id\"\n"
     ]
    }
   ],
   "source": [
    "form = msm.get_form(molecular_system)\n",
    "print(f'The molecular system has the form of a \"{form}\"')"
   ]
  },
  {
   "cell_type": "markdown",
   "metadata": {},
   "source": [
    "And we can also get a description of the molecular system with the help of `molsysmt.info`:"
   ]
  },
  {
   "cell_type": "code",
   "execution_count": 5,
   "metadata": {},
   "outputs": [
    {
     "data": {
      "text/html": [
       "<style type=\"text/css\">\n",
       "</style>\n",
       "<table id=\"T_79a0b\">\n",
       "  <thead>\n",
       "    <tr>\n",
       "      <th id=\"T_79a0b_level0_col0\" class=\"col_heading level0 col0\" >form</th>\n",
       "      <th id=\"T_79a0b_level0_col1\" class=\"col_heading level0 col1\" >n_atoms</th>\n",
       "      <th id=\"T_79a0b_level0_col2\" class=\"col_heading level0 col2\" >n_groups</th>\n",
       "      <th id=\"T_79a0b_level0_col3\" class=\"col_heading level0 col3\" >n_components</th>\n",
       "      <th id=\"T_79a0b_level0_col4\" class=\"col_heading level0 col4\" >n_chains</th>\n",
       "      <th id=\"T_79a0b_level0_col5\" class=\"col_heading level0 col5\" >n_molecules</th>\n",
       "      <th id=\"T_79a0b_level0_col6\" class=\"col_heading level0 col6\" >n_entities</th>\n",
       "      <th id=\"T_79a0b_level0_col7\" class=\"col_heading level0 col7\" >n_waters</th>\n",
       "      <th id=\"T_79a0b_level0_col8\" class=\"col_heading level0 col8\" >n_small_molecules</th>\n",
       "      <th id=\"T_79a0b_level0_col9\" class=\"col_heading level0 col9\" >n_proteins</th>\n",
       "      <th id=\"T_79a0b_level0_col10\" class=\"col_heading level0 col10\" >n_structures</th>\n",
       "    </tr>\n",
       "  </thead>\n",
       "  <tbody>\n",
       "    <tr>\n",
       "      <td id=\"T_79a0b_row0_col0\" class=\"data row0 col0\" >string:pdb_id</td>\n",
       "      <td id=\"T_79a0b_row0_col1\" class=\"data row0 col1\" >4783</td>\n",
       "      <td id=\"T_79a0b_row0_col2\" class=\"data row0 col2\" >760</td>\n",
       "      <td id=\"T_79a0b_row0_col3\" class=\"data row0 col3\" >215</td>\n",
       "      <td id=\"T_79a0b_row0_col4\" class=\"data row0 col4\" >13</td>\n",
       "      <td id=\"T_79a0b_row0_col5\" class=\"data row0 col5\" >214</td>\n",
       "      <td id=\"T_79a0b_row0_col6\" class=\"data row0 col6\" >5</td>\n",
       "      <td id=\"T_79a0b_row0_col7\" class=\"data row0 col7\" >205</td>\n",
       "      <td id=\"T_79a0b_row0_col8\" class=\"data row0 col8\" >5</td>\n",
       "      <td id=\"T_79a0b_row0_col9\" class=\"data row0 col9\" >4</td>\n",
       "      <td id=\"T_79a0b_row0_col10\" class=\"data row0 col10\" >1</td>\n",
       "    </tr>\n",
       "  </tbody>\n",
       "</table>\n"
      ],
      "text/plain": [
       "<pandas.io.formats.style.Styler at 0x7f861d5302e0>"
      ]
     },
     "execution_count": 5,
     "metadata": {},
     "output_type": "execute_result"
    }
   ],
   "source": [
    "msm.info(molecular_system)"
   ]
  },
  {
   "cell_type": "markdown",
   "metadata": {},
   "source": [
    "Let's now convert our molecular system to different forms:"
   ]
  },
  {
   "cell_type": "code",
   "execution_count": 6,
   "metadata": {},
   "outputs": [
    {
     "name": "stdout",
     "output_type": "stream",
     "text": [
      "The molecular system was converted from \"string:pdb_id\" to \"file:mmtf\"\n"
     ]
    }
   ],
   "source": [
    "molecular_system = msm.convert(molecular_system, to_form='1M2Z.mmtf')\n",
    "\n",
    "old_form = form\n",
    "form = msm.get_form(molecular_system)\n",
    "print(f'The molecular system was converted from \"{old_form}\" to \"{form}\"')"
   ]
  },
  {
   "cell_type": "code",
   "execution_count": 7,
   "metadata": {},
   "outputs": [
    {
     "name": "stdout",
     "output_type": "stream",
     "text": [
      "The molecular system was converted from \"file:mmtf\" to \"openmm.Topology\"\n"
     ]
    }
   ],
   "source": [
    "molecular_system = msm.convert(molecular_system, to_form='openmm.Topology')\n",
    "\n",
    "old_form = form\n",
    "form = msm.get_form(molecular_system)\n",
    "print(f'The molecular system was converted from \"{old_form}\" to \"{form}\"')"
   ]
  },
  {
   "cell_type": "code",
   "execution_count": 8,
   "metadata": {},
   "outputs": [
    {
     "name": "stdout",
     "output_type": "stream",
     "text": [
      "The molecular system was converted from \"openmm.Topology\" to \"molsysmt.Topology\"\n"
     ]
    }
   ],
   "source": [
    "molecular_system = msm.convert(molecular_system, to_form='molsysmt.Topology')\n",
    "\n",
    "old_form = form\n",
    "form = msm.get_form(molecular_system)\n",
    "print(f'The molecular system was converted from \"{old_form}\" to \"{form}\"')"
   ]
  },
  {
   "cell_type": "code",
   "execution_count": 9,
   "metadata": {},
   "outputs": [
    {
     "name": "stdout",
     "output_type": "stream",
     "text": [
      "The molecular system was converted from \"molsysmt.Topology\" to \"string:aminoacids1\"\n"
     ]
    }
   ],
   "source": [
    "molecular_system = msm.convert(molecular_system, selection='molecule_index==0', to_form='string:aminoacids1')\n",
    "\n",
    "old_form = form\n",
    "form = msm.get_form(molecular_system)\n",
    "print(f'The molecular system was converted from \"{old_form}\" to \"{form}\"')"
   ]
  },
  {
   "cell_type": "markdown",
   "metadata": {},
   "source": [
    "Finnally, we have a molecular system with the form of a string of 1 letter aminoacids codes:"
   ]
  },
  {
   "cell_type": "code",
   "execution_count": 11,
   "metadata": {},
   "outputs": [
    {
     "name": "stdout",
     "output_type": "stream",
     "text": [
      "ATLPQLTPTLVSLLEVIEPEVLYAGYDSSVPDSTWRIMTTLNMLGGRQVIAAVKWAKAIPGFRNLHLDDQMTLLQYSWMSLMAFALGWRSYRQSSANLLCFAPDLIINEQRMTLPCMYDQCKHMLYVSSELHRLQVSYEEYLCMKTLLLLSSVPKDGLKSQELFDEIRMTYIKELGKAIVKREGNSSQNWQRFYQLTKLLDSMHEVVENLLNYCFQTFLDKTMSIEFPEMLAEIITNQIPKYSNGNIKKLLFHQK\n"
     ]
    }
   ],
   "source": [
    "print(molecular_system)"
   ]
  },
  {
   "cell_type": "markdown",
   "metadata": {},
   "source": [
    "## Elements selection"
   ]
  },
  {
   "cell_type": "code",
   "execution_count": null,
   "metadata": {},
   "outputs": [],
   "source": []
  },
  {
   "cell_type": "markdown",
   "metadata": {},
   "source": [
    "## Loading molecular systems and trajectories\n",
    "\n",
    "Some files with different formats of molecular systems are stored in MolSysMT as example:"
   ]
  },
  {
   "cell_type": "code",
   "execution_count": null,
   "metadata": {},
   "outputs": [],
   "source": [
    "molsysmt.utils.examples.pdb"
   ]
  },
  {
   "cell_type": "code",
   "execution_count": null,
   "metadata": {},
   "outputs": [],
   "source": [
    "molsysmt.utils.examples.mol2"
   ]
  },
  {
   "cell_type": "markdown",
   "metadata": {},
   "source": [
    "Lets work with some of the to show how MolSysMT can load them in several forms:"
   ]
  },
  {
   "cell_type": "code",
   "execution_count": null,
   "metadata": {},
   "outputs": [],
   "source": [
    "PDB_example_file = molsysmt.utils.examples.pdb['1l2y']\n",
    "MOL2_example_file = molsysmt.utils.examples.mol2['caffeine']"
   ]
  },
  {
   "cell_type": "code",
   "execution_count": null,
   "metadata": {},
   "outputs": [],
   "source": [
    "system_pdbfixer = molsysmt.load(PDB_example_file,'pdbfixer')\n",
    "system_parmed   = molsysmt.load(PDB_example_file,'parmed')\n",
    "system_modeller = molsysmt.load(MOL2_example_file,'modeller')\n",
    "system_mdtraj   = molsysmt.load(MOL2_example_file,'mdtraj')"
   ]
  },
  {
   "cell_type": "code",
   "execution_count": null,
   "metadata": {},
   "outputs": [],
   "source": [
    "print(molsysmt.get_form(system_pdbfixer))\n",
    "print(molsysmt.get_form(system_parmed))\n",
    "print(molsysmt.get_form(system_modeller))\n",
    "print(molsysmt.get_form(system_mdtraj))"
   ]
  },
  {
   "cell_type": "markdown",
   "metadata": {},
   "source": [
    "## Converting molecular systems and trajectories\n",
    "\n",
    "Systems can be easily converted to the native object of other libraries as:"
   ]
  },
  {
   "cell_type": "code",
   "execution_count": null,
   "metadata": {},
   "outputs": [],
   "source": [
    "system_modeller = molsysmt.convert(PDB_example_file,form='modeller')"
   ]
  },
  {
   "cell_type": "code",
   "execution_count": null,
   "metadata": {},
   "outputs": [],
   "source": [
    "molsysmt.get_form(system_modeller)"
   ]
  },
  {
   "cell_type": "code",
   "execution_count": null,
   "metadata": {},
   "outputs": [],
   "source": [
    "system_mdtraj = molsysmt.convert(system_modeller,form='mdtraj')"
   ]
  },
  {
   "cell_type": "code",
   "execution_count": null,
   "metadata": {},
   "outputs": [],
   "source": [
    "molsysmt.get_form(system_mdtraj)"
   ]
  },
  {
   "cell_type": "code",
   "execution_count": null,
   "metadata": {},
   "outputs": [],
   "source": [
    "system_parmed = molsysmt.convert(system_mdtraj,form='parmed')"
   ]
  },
  {
   "cell_type": "code",
   "execution_count": null,
   "metadata": {},
   "outputs": [],
   "source": [
    "molsysmt.get_form(system_parmed)"
   ]
  },
  {
   "cell_type": "markdown",
   "metadata": {},
   "source": [
    "## Working with id codes"
   ]
  },
  {
   "cell_type": "code",
   "execution_count": null,
   "metadata": {},
   "outputs": [],
   "source": [
    "system_mdtraj = molsysmt.convert('pdb:1sux','mdtraj')"
   ]
  },
  {
   "cell_type": "markdown",
   "metadata": {},
   "source": [
    "## Working with sequences"
   ]
  },
  {
   "cell_type": "code",
   "execution_count": null,
   "metadata": {},
   "outputs": [],
   "source": [
    "system_aminoacids1 = molsysmt.convert('aminoacids3:TyrGlyGlyPheMet','aminoacids1:seq')"
   ]
  },
  {
   "cell_type": "code",
   "execution_count": null,
   "metadata": {},
   "outputs": [],
   "source": [
    "system_aminoacids3 = molsysmt.convert('aminoacids1:YGGFM','aminoacids3:seq')"
   ]
  },
  {
   "cell_type": "code",
   "execution_count": null,
   "metadata": {},
   "outputs": [],
   "source": [
    "system_biopython = molsysmt.convert('aminoacids1:YGGFM','biopython.SeqRecord')"
   ]
  },
  {
   "cell_type": "markdown",
   "metadata": {},
   "source": [
    "## Writting molecular systems or trajectories as files"
   ]
  },
  {
   "cell_type": "code",
   "execution_count": null,
   "metadata": {},
   "outputs": [],
   "source": [
    "system_parmed   = molsysmt.load(PDB_example_file,'parmed')"
   ]
  },
  {
   "cell_type": "code",
   "execution_count": null,
   "metadata": {},
   "outputs": [],
   "source": [
    "molsysmt.write(system_parmed,'foo.mol2')"
   ]
  },
  {
   "cell_type": "code",
   "execution_count": null,
   "metadata": {},
   "outputs": [],
   "source": [
    "molsysmt.convert('pdb:1sux','1sux.pdb')"
   ]
  },
  {
   "cell_type": "code",
   "execution_count": null,
   "metadata": {},
   "outputs": [],
   "source": [
    "molsysmt.convert('aminoacids1:YGGFM','metenk.fasta')"
   ]
  },
  {
   "cell_type": "code",
   "execution_count": null,
   "metadata": {},
   "outputs": [],
   "source": [
    "from os import remove\n",
    "remove('foo.mol2','1sux.pdb','metenk.fasta')"
   ]
  },
  {
   "cell_type": "markdown",
   "metadata": {},
   "source": [
    "## Atoms selection"
   ]
  },
  {
   "cell_type": "code",
   "execution_count": null,
   "metadata": {},
   "outputs": [],
   "source": [
    "system_mdtraj     = molsysmt.load(PDB_example_file,'mdtraj')\n",
    "system_pdbfixer   = molsysmt.load(PDB_example_file,'pdbfixer')\n",
    "system_mdanalysis = molsysmt.load(PDB_example_file,'mdanalysis')\n",
    "system_parmed     = molsysmt.load(PDB_example_file,'parmed')"
   ]
  },
  {
   "cell_type": "code",
   "execution_count": null,
   "metadata": {},
   "outputs": [],
   "source": [
    "molsysmt.select(system_mdtraj,'name CA and resid 10 to 20')"
   ]
  },
  {
   "cell_type": "code",
   "execution_count": null,
   "metadata": {},
   "outputs": [],
   "source": [
    "molsysmt.select(system_pdbfixer,'name CA and resid 10 to 20')"
   ]
  },
  {
   "cell_type": "code",
   "execution_count": null,
   "metadata": {},
   "outputs": [],
   "source": [
    "molsysmt.select(system_mdanalysis,'name CA and resid 10 to 20')"
   ]
  },
  {
   "cell_type": "code",
   "execution_count": null,
   "metadata": {},
   "outputs": [],
   "source": [
    "molsysmt.select(system_parmed,'name CA and resid 10 to 20')"
   ]
  },
  {
   "cell_type": "code",
   "execution_count": null,
   "metadata": {},
   "outputs": [],
   "source": [
    "molsysmt.select(PDB_example_file,'name CA and resid 10 to 20')"
   ]
  },
  {
   "cell_type": "code",
   "execution_count": null,
   "metadata": {},
   "outputs": [],
   "source": [
    "molsysmt.select(\"pdb:1l2y\",'name CA and resid 10 to 20')"
   ]
  },
  {
   "cell_type": "code",
   "execution_count": null,
   "metadata": {},
   "outputs": [],
   "source": [
    "molsysmt.select(system_mdanalysis,'name CA and (resid 10:20)','mdanalysis')"
   ]
  },
  {
   "cell_type": "code",
   "execution_count": null,
   "metadata": {},
   "outputs": [],
   "source": [
    "molsysmt.select(system_parmed,':10-20@CA','parmed')"
   ]
  },
  {
   "cell_type": "markdown",
   "metadata": {},
   "source": [
    "## Viewing molecular systems and trajectories"
   ]
  },
  {
   "cell_type": "code",
   "execution_count": null,
   "metadata": {},
   "outputs": [],
   "source": [
    "view=molsysmt.view(MOL2_example_file)\n",
    "view"
   ]
  },
  {
   "cell_type": "code",
   "execution_count": null,
   "metadata": {},
   "outputs": [],
   "source": [
    "view.render_image()"
   ]
  },
  {
   "cell_type": "code",
   "execution_count": null,
   "metadata": {},
   "outputs": [],
   "source": [
    "view._display_image()"
   ]
  },
  {
   "cell_type": "code",
   "execution_count": null,
   "metadata": {},
   "outputs": [],
   "source": [
    "view=molsysmt.view('pdb:1l2y')\n",
    "view"
   ]
  },
  {
   "cell_type": "code",
   "execution_count": null,
   "metadata": {},
   "outputs": [],
   "source": [
    "view.render_image()"
   ]
  },
  {
   "cell_type": "code",
   "execution_count": null,
   "metadata": {},
   "outputs": [],
   "source": [
    "view._display_image()"
   ]
  },
  {
   "cell_type": "code",
   "execution_count": null,
   "metadata": {},
   "outputs": [],
   "source": [
    "system_pdbfixer = molsysmt.load(PDB_example_file,'pdbfixer')\n",
    "view=molsysmt.view(system_pdbfixer)\n",
    "view"
   ]
  },
  {
   "cell_type": "code",
   "execution_count": null,
   "metadata": {},
   "outputs": [],
   "source": [
    "view.render_image()"
   ]
  },
  {
   "cell_type": "code",
   "execution_count": null,
   "metadata": {},
   "outputs": [],
   "source": [
    "view._display_image()"
   ]
  },
  {
   "cell_type": "markdown",
   "metadata": {},
   "source": [
    "## Molecular systems as MolSysMT's forms\n",
    "\n",
    "MolSysMT's works with methods as `load` or `convert` over different forms of a  molecular model. This way, the same molecular model can take de form of a pdb file, a parmed structure or a pytraj object. In order to list the different forms MolSysMT currently recognize, check the method `info_forms`:"
   ]
  },
  {
   "cell_type": "code",
   "execution_count": null,
   "metadata": {},
   "outputs": [],
   "source": [
    "molsysmt.info_forms()"
   ]
  },
  {
   "cell_type": "markdown",
   "metadata": {},
   "source": [
    "In addition the list of forms which can be loaded to another given form can be checked with:"
   ]
  },
  {
   "cell_type": "code",
   "execution_count": null,
   "metadata": {},
   "outputs": [],
   "source": [
    "molsysmt.info_load(to_form='pdb')"
   ]
  },
  {
   "cell_type": "markdown",
   "metadata": {},
   "source": [
    "And the other way around, the lisf of forms a given form can be loaded as can also be checked with:"
   ]
  },
  {
   "cell_type": "code",
   "execution_count": null,
   "metadata": {},
   "outputs": [],
   "source": [
    "molsysmt.info_load(from_form='pdbfixer')"
   ]
  },
  {
   "cell_type": "code",
   "execution_count": null,
   "metadata": {
    "tags": [
     "remove-input"
    ]
   },
   "outputs": [],
   "source": [
    "####### REMOVING FILES ############################\n",
    "# This cell is removed with the tag: \"remove-input\"\n",
    "# As such, it will not be shown in documentation\n",
    "\n",
    "import os\n",
    "for filename in ['1M2Z.pdb', '1M2Z.mmtf']:\n",
    "    os.remove(filename)"
   ]
  }
 ],
 "metadata": {
  "kernelspec": {
   "display_name": "Python 3 (ipykernel)",
   "language": "python",
   "name": "python3"
  },
  "language_info": {
   "codemirror_mode": {
    "name": "ipython",
    "version": 3
   },
   "file_extension": ".py",
   "mimetype": "text/x-python",
   "name": "python",
   "nbconvert_exporter": "python",
   "pygments_lexer": "ipython3",
   "version": "3.9.13"
  }
 },
 "nbformat": 4,
 "nbformat_minor": 4
}
