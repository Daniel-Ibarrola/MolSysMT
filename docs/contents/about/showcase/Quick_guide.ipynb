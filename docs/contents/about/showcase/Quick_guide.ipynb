{
 "cells": [
  {
   "cell_type": "code",
   "execution_count": 1,
   "metadata": {
    "tags": [
     "remove-input"
    ]
   },
   "outputs": [],
   "source": [
    "# This cell is removed with the tag: \"remove-input\"\n",
    "# As such, it will not be shown in documentation\n",
    "\n",
    "%load_ext autoreload\n",
    "%autoreload 2"
   ]
  },
  {
   "cell_type": "markdown",
   "metadata": {},
   "source": [
    "# Quickstart guide"
   ]
  },
  {
   "cell_type": "markdown",
   "metadata": {},
   "source": [
    "## Ready in two steps"
   ]
  },
  {
   "cell_type": "markdown",
   "metadata": {},
   "source": [
    "```conda install -c uibcdf molsysmt```"
   ]
  },
  {
   "cell_type": "code",
   "execution_count": 2,
   "metadata": {},
   "outputs": [
    {
     "data": {
      "application/vnd.jupyter.widget-view+json": {
       "model_id": "7047a7624eb6472d8bcf4a3d387dcc03",
       "version_major": 2,
       "version_minor": 0
      },
      "text/plain": []
     },
     "metadata": {},
     "output_type": "display_data"
    }
   ],
   "source": [
    "import molsysmt as msm"
   ]
  },
  {
   "cell_type": "markdown",
   "metadata": {},
   "source": [
    "## Molecular systems' forms"
   ]
  },
  {
   "cell_type": "code",
   "execution_count": 5,
   "metadata": {},
   "outputs": [],
   "source": [
    "molecular_system = '1M2Z'"
   ]
  },
  {
   "cell_type": "code",
   "execution_count": 6,
   "metadata": {},
   "outputs": [
    {
     "name": "stdout",
     "output_type": "stream",
     "text": [
      "The molecular system has the form of a \"string:pdb_id\"\n"
     ]
    }
   ],
   "source": [
    "form = msm.get_form(molecular_system)\n",
    "print(f'The molecular system has the form of a \"{form}\"')"
   ]
  },
  {
   "cell_type": "code",
   "execution_count": 7,
   "metadata": {},
   "outputs": [
    {
     "data": {
      "text/html": [
       "<style type=\"text/css\">\n",
       "</style>\n",
       "<table id=\"T_46de0\">\n",
       "  <thead>\n",
       "    <tr>\n",
       "      <th id=\"T_46de0_level0_col0\" class=\"col_heading level0 col0\" >form</th>\n",
       "      <th id=\"T_46de0_level0_col1\" class=\"col_heading level0 col1\" >n_atoms</th>\n",
       "      <th id=\"T_46de0_level0_col2\" class=\"col_heading level0 col2\" >n_groups</th>\n",
       "      <th id=\"T_46de0_level0_col3\" class=\"col_heading level0 col3\" >n_components</th>\n",
       "      <th id=\"T_46de0_level0_col4\" class=\"col_heading level0 col4\" >n_chains</th>\n",
       "      <th id=\"T_46de0_level0_col5\" class=\"col_heading level0 col5\" >n_molecules</th>\n",
       "      <th id=\"T_46de0_level0_col6\" class=\"col_heading level0 col6\" >n_entities</th>\n",
       "      <th id=\"T_46de0_level0_col7\" class=\"col_heading level0 col7\" >n_waters</th>\n",
       "      <th id=\"T_46de0_level0_col8\" class=\"col_heading level0 col8\" >n_small_molecules</th>\n",
       "      <th id=\"T_46de0_level0_col9\" class=\"col_heading level0 col9\" >n_proteins</th>\n",
       "      <th id=\"T_46de0_level0_col10\" class=\"col_heading level0 col10\" >n_structures</th>\n",
       "    </tr>\n",
       "  </thead>\n",
       "  <tbody>\n",
       "    <tr>\n",
       "      <td id=\"T_46de0_row0_col0\" class=\"data row0 col0\" >string:pdb_id</td>\n",
       "      <td id=\"T_46de0_row0_col1\" class=\"data row0 col1\" >4783</td>\n",
       "      <td id=\"T_46de0_row0_col2\" class=\"data row0 col2\" >760</td>\n",
       "      <td id=\"T_46de0_row0_col3\" class=\"data row0 col3\" >215</td>\n",
       "      <td id=\"T_46de0_row0_col4\" class=\"data row0 col4\" >13</td>\n",
       "      <td id=\"T_46de0_row0_col5\" class=\"data row0 col5\" >214</td>\n",
       "      <td id=\"T_46de0_row0_col6\" class=\"data row0 col6\" >5</td>\n",
       "      <td id=\"T_46de0_row0_col7\" class=\"data row0 col7\" >205</td>\n",
       "      <td id=\"T_46de0_row0_col8\" class=\"data row0 col8\" >5</td>\n",
       "      <td id=\"T_46de0_row0_col9\" class=\"data row0 col9\" >4</td>\n",
       "      <td id=\"T_46de0_row0_col10\" class=\"data row0 col10\" >1</td>\n",
       "    </tr>\n",
       "  </tbody>\n",
       "</table>\n"
      ],
      "text/plain": [
       "<pandas.io.formats.style.Styler at 0x7f599cba3610>"
      ]
     },
     "execution_count": 7,
     "metadata": {},
     "output_type": "execute_result"
    }
   ],
   "source": [
    "msm.info(molecular_system)"
   ]
  },
  {
   "cell_type": "code",
   "execution_count": 8,
   "metadata": {},
   "outputs": [
    {
     "name": "stdout",
     "output_type": "stream",
     "text": [
      "The molecular system was converted from \"string:pdb_id\" to \"file:mmtf\"\n"
     ]
    }
   ],
   "source": [
    "molecular_system = msm.convert(molecular_system, to_form='1M2Z.mmtf')\n",
    "\n",
    "old_form = form\n",
    "form = msm.get_form(molecular_system)\n",
    "print(f'The molecular system was converted from \"{old_form}\" to \"{form}\"')"
   ]
  },
  {
   "cell_type": "code",
   "execution_count": 9,
   "metadata": {},
   "outputs": [
    {
     "name": "stdout",
     "output_type": "stream",
     "text": [
      "The molecular system was converted from \"file:mmtf\" to \"file:pdb\"\n"
     ]
    }
   ],
   "source": [
    "molecular_system = msm.convert(molecular_system, to_form='1M2Z.pdb')\n",
    "\n",
    "old_form = form\n",
    "form = msm.get_form(molecular_system)\n",
    "print(f'The molecular system was converted from \"{old_form}\" to \"{form}\"')"
   ]
  },
  {
   "cell_type": "code",
   "execution_count": 10,
   "metadata": {},
   "outputs": [
    {
     "name": "stdout",
     "output_type": "stream",
     "text": [
      "The molecular system was converted from \"file:pdb\" to \"mdtraj.Trajectory\"\n"
     ]
    }
   ],
   "source": [
    "molecular_system = msm.convert(molecular_system, to_form='mdtraj.Trajectory')\n",
    "\n",
    "old_form = form\n",
    "form = msm.get_form(molecular_system)\n",
    "print(f'The molecular system was converted from \"{old_form}\" to \"{form}\"')"
   ]
  },
  {
   "cell_type": "code",
   "execution_count": 11,
   "metadata": {},
   "outputs": [
    {
     "ename": "NameError",
     "evalue": "name 'digest_output' is not defined",
     "output_type": "error",
     "traceback": [
      "\u001b[0;31m---------------------------------------------------------------------------\u001b[0m",
      "\u001b[0;31mNameError\u001b[0m                                 Traceback (most recent call last)",
      "Input \u001b[0;32mIn [11]\u001b[0m, in \u001b[0;36m<cell line: 1>\u001b[0;34m()\u001b[0m\n\u001b[0;32m----> 1\u001b[0m molecular_system \u001b[38;5;241m=\u001b[39m \u001b[43mmsm\u001b[49m\u001b[38;5;241;43m.\u001b[39;49m\u001b[43mconvert\u001b[49m\u001b[43m(\u001b[49m\u001b[43mmolecular_system\u001b[49m\u001b[43m,\u001b[49m\u001b[43m \u001b[49m\u001b[43mto_form\u001b[49m\u001b[38;5;241;43m=\u001b[39;49m\u001b[38;5;124;43m'\u001b[39;49m\u001b[38;5;124;43mpytraj.Trajectory\u001b[39;49m\u001b[38;5;124;43m'\u001b[39;49m\u001b[43m)\u001b[49m\n\u001b[1;32m      3\u001b[0m old_form \u001b[38;5;241m=\u001b[39m form\n\u001b[1;32m      4\u001b[0m form \u001b[38;5;241m=\u001b[39m msm\u001b[38;5;241m.\u001b[39mget_form(molecular_system)\n",
      "File \u001b[0;32m~/projects@dprada/MolSysMT/molsysmt/_private/digestion/digest.py:113\u001b[0m, in \u001b[0;36mdigest.<locals>.digestor.<locals>.wrapper\u001b[0;34m(*args, **kwargs)\u001b[0m\n\u001b[1;32m    110\u001b[0m final_args \u001b[38;5;241m=\u001b[39m digested_args\n\u001b[1;32m    112\u001b[0m \u001b[38;5;28;01mif\u001b[39;00m output:\n\u001b[0;32m--> 113\u001b[0m     auxiliary_output \u001b[38;5;241m=\u001b[39m \u001b[43mfunc\u001b[49m\u001b[43m(\u001b[49m\u001b[38;5;241;43m*\u001b[39;49m\u001b[38;5;241;43m*\u001b[39;49m\u001b[43mfinal_args\u001b[49m\u001b[43m)\u001b[49m\n\u001b[1;32m    114\u001b[0m     \u001b[38;5;28;01mif\u001b[39;00m \u001b[38;5;28misinstance\u001b[39m(auxiliary_output, (\u001b[38;5;28mlist\u001b[39m, \u001b[38;5;28mtuple\u001b[39m)):\n\u001b[1;32m    115\u001b[0m         \u001b[38;5;28;01mif\u001b[39;00m \u001b[38;5;28mlen\u001b[39m(auxiliary_output) \u001b[38;5;241m==\u001b[39m \u001b[38;5;241m1\u001b[39m:\n",
      "File \u001b[0;32m~/projects@dprada/MolSysMT/molsysmt/basic/convert.py:114\u001b[0m, in \u001b[0;36mconvert\u001b[0;34m(molecular_system, to_form, selection, structure_indices, syntax, **kwargs)\u001b[0m\n\u001b[1;32m    111\u001b[0m \u001b[38;5;28;01mif\u001b[39;00m tmp_item \u001b[38;5;129;01mis\u001b[39;00m \u001b[38;5;28;01mNone\u001b[39;00m:\n\u001b[1;32m    113\u001b[0m     from_form \u001b[38;5;241m=\u001b[39m get_form(molecular_system)\n\u001b[0;32m--> 114\u001b[0m     from_form \u001b[38;5;241m=\u001b[39m \u001b[43mdigest_output\u001b[49m(from_form)\n\u001b[1;32m    115\u001b[0m     \u001b[38;5;28;01mraise\u001b[39;00m NotImplementedConversionError(from_form, to_form)\n\u001b[1;32m    117\u001b[0m \u001b[38;5;28;01mreturn\u001b[39;00m tmp_item\n",
      "\u001b[0;31mNameError\u001b[0m: name 'digest_output' is not defined"
     ]
    }
   ],
   "source": [
    "molecular_system = msm.convert(molecular_system, to_form='pytraj.Trajectory')\n",
    "\n",
    "old_form = form\n",
    "form = msm.get_form(molecular_system)\n",
    "print(f'The molecular system was converted from \"{old_form}\" to \"{form}\"')"
   ]
  },
  {
   "cell_type": "code",
   "execution_count": null,
   "metadata": {},
   "outputs": [],
   "source": [
    "molecular_system = msm.convert(molecular_system, to_form='nglview.NGLWidget')\n",
    "msm.get_form(molecular_system)"
   ]
  },
  {
   "cell_type": "code",
   "execution_count": null,
   "metadata": {},
   "outputs": [],
   "source": [
    "molecular_system = msm.convert(molecular_system, to_form='openmm.Topology')\n",
    "msm.get_form(molecular_system)"
   ]
  },
  {
   "cell_type": "code",
   "execution_count": null,
   "metadata": {},
   "outputs": [],
   "source": [
    "molecular_system = msm.convert(molecular_system, to_form='molsysmt.Topology')\n",
    "msm.get_form(molecular_system)"
   ]
  },
  {
   "cell_type": "code",
   "execution_count": null,
   "metadata": {},
   "outputs": [],
   "source": [
    "molecular_system = msm.convert(molecular_system, to_form='aminoacids3:seq')\n",
    "msm.get_form(molecular_system)"
   ]
  },
  {
   "cell_type": "code",
   "execution_count": null,
   "metadata": {},
   "outputs": [],
   "source": [
    "molecular_system"
   ]
  },
  {
   "cell_type": "markdown",
   "metadata": {},
   "source": [
    "## Elements selection"
   ]
  },
  {
   "cell_type": "code",
   "execution_count": null,
   "metadata": {},
   "outputs": [],
   "source": []
  },
  {
   "cell_type": "markdown",
   "metadata": {},
   "source": [
    "## Loading molecular systems and trajectories\n",
    "\n",
    "Some files with different formats of molecular systems are stored in MolSysMT as example:"
   ]
  },
  {
   "cell_type": "code",
   "execution_count": null,
   "metadata": {},
   "outputs": [],
   "source": [
    "molsysmt.utils.examples.pdb"
   ]
  },
  {
   "cell_type": "code",
   "execution_count": null,
   "metadata": {},
   "outputs": [],
   "source": [
    "molsysmt.utils.examples.mol2"
   ]
  },
  {
   "cell_type": "markdown",
   "metadata": {},
   "source": [
    "Lets work with some of the to show how MolSysMT can load them in several forms:"
   ]
  },
  {
   "cell_type": "code",
   "execution_count": null,
   "metadata": {},
   "outputs": [],
   "source": [
    "PDB_example_file = molsysmt.utils.examples.pdb['1l2y']\n",
    "MOL2_example_file = molsysmt.utils.examples.mol2['caffeine']"
   ]
  },
  {
   "cell_type": "code",
   "execution_count": null,
   "metadata": {},
   "outputs": [],
   "source": [
    "system_pdbfixer = molsysmt.load(PDB_example_file,'pdbfixer')\n",
    "system_parmed   = molsysmt.load(PDB_example_file,'parmed')\n",
    "system_modeller = molsysmt.load(MOL2_example_file,'modeller')\n",
    "system_mdtraj   = molsysmt.load(MOL2_example_file,'mdtraj')"
   ]
  },
  {
   "cell_type": "code",
   "execution_count": null,
   "metadata": {},
   "outputs": [],
   "source": [
    "print(molsysmt.get_form(system_pdbfixer))\n",
    "print(molsysmt.get_form(system_parmed))\n",
    "print(molsysmt.get_form(system_modeller))\n",
    "print(molsysmt.get_form(system_mdtraj))"
   ]
  },
  {
   "cell_type": "markdown",
   "metadata": {},
   "source": [
    "## Converting molecular systems and trajectories\n",
    "\n",
    "Systems can be easily converted to the native object of other libraries as:"
   ]
  },
  {
   "cell_type": "code",
   "execution_count": null,
   "metadata": {},
   "outputs": [],
   "source": [
    "system_modeller = molsysmt.convert(PDB_example_file,form='modeller')"
   ]
  },
  {
   "cell_type": "code",
   "execution_count": null,
   "metadata": {},
   "outputs": [],
   "source": [
    "molsysmt.get_form(system_modeller)"
   ]
  },
  {
   "cell_type": "code",
   "execution_count": null,
   "metadata": {},
   "outputs": [],
   "source": [
    "system_mdtraj = molsysmt.convert(system_modeller,form='mdtraj')"
   ]
  },
  {
   "cell_type": "code",
   "execution_count": null,
   "metadata": {},
   "outputs": [],
   "source": [
    "molsysmt.get_form(system_mdtraj)"
   ]
  },
  {
   "cell_type": "code",
   "execution_count": null,
   "metadata": {},
   "outputs": [],
   "source": [
    "system_parmed = molsysmt.convert(system_mdtraj,form='parmed')"
   ]
  },
  {
   "cell_type": "code",
   "execution_count": null,
   "metadata": {},
   "outputs": [],
   "source": [
    "molsysmt.get_form(system_parmed)"
   ]
  },
  {
   "cell_type": "markdown",
   "metadata": {},
   "source": [
    "## Working with id codes"
   ]
  },
  {
   "cell_type": "code",
   "execution_count": null,
   "metadata": {},
   "outputs": [],
   "source": [
    "system_mdtraj = molsysmt.convert('pdb:1sux','mdtraj')"
   ]
  },
  {
   "cell_type": "markdown",
   "metadata": {},
   "source": [
    "## Working with sequences"
   ]
  },
  {
   "cell_type": "code",
   "execution_count": null,
   "metadata": {},
   "outputs": [],
   "source": [
    "system_aminoacids1 = molsysmt.convert('aminoacids3:TyrGlyGlyPheMet','aminoacids1:seq')"
   ]
  },
  {
   "cell_type": "code",
   "execution_count": null,
   "metadata": {},
   "outputs": [],
   "source": [
    "system_aminoacids3 = molsysmt.convert('aminoacids1:YGGFM','aminoacids3:seq')"
   ]
  },
  {
   "cell_type": "code",
   "execution_count": null,
   "metadata": {},
   "outputs": [],
   "source": [
    "system_biopython = molsysmt.convert('aminoacids1:YGGFM','biopython.SeqRecord')"
   ]
  },
  {
   "cell_type": "markdown",
   "metadata": {},
   "source": [
    "## Writting molecular systems or trajectories as files"
   ]
  },
  {
   "cell_type": "code",
   "execution_count": null,
   "metadata": {},
   "outputs": [],
   "source": [
    "system_parmed   = molsysmt.load(PDB_example_file,'parmed')"
   ]
  },
  {
   "cell_type": "code",
   "execution_count": null,
   "metadata": {},
   "outputs": [],
   "source": [
    "molsysmt.write(system_parmed,'foo.mol2')"
   ]
  },
  {
   "cell_type": "code",
   "execution_count": null,
   "metadata": {},
   "outputs": [],
   "source": [
    "molsysmt.convert('pdb:1sux','1sux.pdb')"
   ]
  },
  {
   "cell_type": "code",
   "execution_count": null,
   "metadata": {},
   "outputs": [],
   "source": [
    "molsysmt.convert('aminoacids1:YGGFM','metenk.fasta')"
   ]
  },
  {
   "cell_type": "code",
   "execution_count": null,
   "metadata": {},
   "outputs": [],
   "source": [
    "from os import remove\n",
    "remove('foo.mol2','1sux.pdb','metenk.fasta')"
   ]
  },
  {
   "cell_type": "markdown",
   "metadata": {},
   "source": [
    "## Atoms selection"
   ]
  },
  {
   "cell_type": "code",
   "execution_count": null,
   "metadata": {},
   "outputs": [],
   "source": [
    "system_mdtraj     = molsysmt.load(PDB_example_file,'mdtraj')\n",
    "system_pdbfixer   = molsysmt.load(PDB_example_file,'pdbfixer')\n",
    "system_mdanalysis = molsysmt.load(PDB_example_file,'mdanalysis')\n",
    "system_parmed     = molsysmt.load(PDB_example_file,'parmed')"
   ]
  },
  {
   "cell_type": "code",
   "execution_count": null,
   "metadata": {},
   "outputs": [],
   "source": [
    "molsysmt.select(system_mdtraj,'name CA and resid 10 to 20')"
   ]
  },
  {
   "cell_type": "code",
   "execution_count": null,
   "metadata": {},
   "outputs": [],
   "source": [
    "molsysmt.select(system_pdbfixer,'name CA and resid 10 to 20')"
   ]
  },
  {
   "cell_type": "code",
   "execution_count": null,
   "metadata": {},
   "outputs": [],
   "source": [
    "molsysmt.select(system_mdanalysis,'name CA and resid 10 to 20')"
   ]
  },
  {
   "cell_type": "code",
   "execution_count": null,
   "metadata": {},
   "outputs": [],
   "source": [
    "molsysmt.select(system_parmed,'name CA and resid 10 to 20')"
   ]
  },
  {
   "cell_type": "code",
   "execution_count": null,
   "metadata": {},
   "outputs": [],
   "source": [
    "molsysmt.select(PDB_example_file,'name CA and resid 10 to 20')"
   ]
  },
  {
   "cell_type": "code",
   "execution_count": null,
   "metadata": {},
   "outputs": [],
   "source": [
    "molsysmt.select(\"pdb:1l2y\",'name CA and resid 10 to 20')"
   ]
  },
  {
   "cell_type": "code",
   "execution_count": null,
   "metadata": {},
   "outputs": [],
   "source": [
    "molsysmt.select(system_mdanalysis,'name CA and (resid 10:20)','mdanalysis')"
   ]
  },
  {
   "cell_type": "code",
   "execution_count": null,
   "metadata": {},
   "outputs": [],
   "source": [
    "molsysmt.select(system_parmed,':10-20@CA','parmed')"
   ]
  },
  {
   "cell_type": "markdown",
   "metadata": {},
   "source": [
    "## Viewing molecular systems and trajectories"
   ]
  },
  {
   "cell_type": "code",
   "execution_count": null,
   "metadata": {},
   "outputs": [],
   "source": [
    "view=molsysmt.view(MOL2_example_file)\n",
    "view"
   ]
  },
  {
   "cell_type": "code",
   "execution_count": null,
   "metadata": {},
   "outputs": [],
   "source": [
    "view.render_image()"
   ]
  },
  {
   "cell_type": "code",
   "execution_count": null,
   "metadata": {},
   "outputs": [],
   "source": [
    "view._display_image()"
   ]
  },
  {
   "cell_type": "code",
   "execution_count": null,
   "metadata": {},
   "outputs": [],
   "source": [
    "view=molsysmt.view('pdb:1l2y')\n",
    "view"
   ]
  },
  {
   "cell_type": "code",
   "execution_count": null,
   "metadata": {},
   "outputs": [],
   "source": [
    "view.render_image()"
   ]
  },
  {
   "cell_type": "code",
   "execution_count": null,
   "metadata": {},
   "outputs": [],
   "source": [
    "view._display_image()"
   ]
  },
  {
   "cell_type": "code",
   "execution_count": null,
   "metadata": {},
   "outputs": [],
   "source": [
    "system_pdbfixer = molsysmt.load(PDB_example_file,'pdbfixer')\n",
    "view=molsysmt.view(system_pdbfixer)\n",
    "view"
   ]
  },
  {
   "cell_type": "code",
   "execution_count": null,
   "metadata": {},
   "outputs": [],
   "source": [
    "view.render_image()"
   ]
  },
  {
   "cell_type": "code",
   "execution_count": null,
   "metadata": {},
   "outputs": [],
   "source": [
    "view._display_image()"
   ]
  },
  {
   "cell_type": "markdown",
   "metadata": {},
   "source": [
    "## Molecular systems as MolSysMT's forms\n",
    "\n",
    "MolSysMT's works with methods as `load` or `convert` over different forms of a  molecular model. This way, the same molecular model can take de form of a pdb file, a parmed structure or a pytraj object. In order to list the different forms MolSysMT currently recognize, check the method `info_forms`:"
   ]
  },
  {
   "cell_type": "code",
   "execution_count": null,
   "metadata": {},
   "outputs": [],
   "source": [
    "molsysmt.info_forms()"
   ]
  },
  {
   "cell_type": "markdown",
   "metadata": {},
   "source": [
    "In addition the list of forms which can be loaded to another given form can be checked with:"
   ]
  },
  {
   "cell_type": "code",
   "execution_count": null,
   "metadata": {},
   "outputs": [],
   "source": [
    "molsysmt.info_load(to_form='pdb')"
   ]
  },
  {
   "cell_type": "markdown",
   "metadata": {},
   "source": [
    "And the other way around, the lisf of forms a given form can be loaded as can also be checked with:"
   ]
  },
  {
   "cell_type": "code",
   "execution_count": null,
   "metadata": {},
   "outputs": [],
   "source": [
    "molsysmt.info_load(from_form='pdbfixer')"
   ]
  },
  {
   "cell_type": "code",
   "execution_count": null,
   "metadata": {
    "tags": [
     "remove-input"
    ]
   },
   "outputs": [],
   "source": [
    "####### REMOVING FILES ############################\n",
    "# This cell is removed with the tag: \"remove-input\"\n",
    "# As such, it will not be shown in documentation\n",
    "\n",
    "import os\n",
    "for filename in ['1M2Z.pdb', '1M2Z.mmtf']:\n",
    "    os.remove(filename)"
   ]
  }
 ],
 "metadata": {
  "kernelspec": {
   "display_name": "Python 3 (ipykernel)",
   "language": "python",
   "name": "python3"
  },
  "language_info": {
   "codemirror_mode": {
    "name": "ipython",
    "version": 3
   },
   "file_extension": ".py",
   "mimetype": "text/x-python",
   "name": "python",
   "nbconvert_exporter": "python",
   "pygments_lexer": "ipython3",
   "version": "3.9.13"
  }
 },
 "nbformat": 4,
 "nbformat_minor": 4
}
