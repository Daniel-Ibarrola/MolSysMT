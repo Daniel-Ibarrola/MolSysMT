{
 "cells": [
  {
   "cell_type": "code",
   "execution_count": 1,
   "metadata": {
    "tags": [
     "remove-input"
    ]
   },
   "outputs": [],
   "source": [
    "# This cell is removed with the tag: \"remove-input\"\n",
    "# As such, it will not be shown in documentation\n",
    "\n",
    "%load_ext autoreload\n",
    "%autoreload 2"
   ]
  },
  {
   "cell_type": "markdown",
   "metadata": {},
   "source": [
    "# Quickstart guide"
   ]
  },
  {
   "cell_type": "markdown",
   "metadata": {},
   "source": [
    "## Ready in two steps\n",
    "\n",
    "Install MolSysMT in your conda env:\n",
    "\n",
    "```bash\n",
    "conda install -c uibcdf molsysmt\n",
    "```"
   ]
  },
  {
   "cell_type": "markdown",
   "metadata": {},
   "source": [
    "and open a Jupyter notebook or an IPython session to import the library:"
   ]
  },
  {
   "cell_type": "code",
   "execution_count": 2,
   "metadata": {},
   "outputs": [
    {
     "data": {
      "application/vnd.jupyter.widget-view+json": {
       "model_id": "d306ff330e65487db947832b8f145037",
       "version_major": 2,
       "version_minor": 0
      },
      "text/plain": []
     },
     "metadata": {},
     "output_type": "display_data"
    }
   ],
   "source": [
    "import molsysmt as msm"
   ]
  },
  {
   "cell_type": "markdown",
   "metadata": {},
   "source": [
    "## Molecular systems' forms\n",
    "\n",
    "In MolSysMT's language, a same molecular system can have different forms. Not every form has the same attributes, but they are all different representations of the same system. For example, a PDB id is a form of a molecular system containing a list of atom names, atom residues, chains... etc, of a molecular system together with the spatial coordinates of a structure (or many). And the corresponding pdb file, mmtf file, Trajectory object of mdtraj or pytraj, NGLWidget of nglview, or MolSys object of MolSysMT can be other forms of the same molecular system. Let's see this with an example.\n",
    "\n",
    "Let's define a first molecular system with a PDB id."
   ]
  },
  {
   "cell_type": "code",
   "execution_count": 3,
   "metadata": {},
   "outputs": [],
   "source": [
    "molecular_system = '181L'"
   ]
  },
  {
   "cell_type": "markdown",
   "metadata": {},
   "source": [
    "We can check the form of our molecular system."
   ]
  },
  {
   "cell_type": "code",
   "execution_count": 4,
   "metadata": {},
   "outputs": [
    {
     "name": "stdout",
     "output_type": "stream",
     "text": [
      "The molecular system has the \"string:pdb_id\" form\n"
     ]
    }
   ],
   "source": [
    "form = msm.get_form(molecular_system)\n",
    "print(f'The molecular system has the \"{form}\" form')"
   ]
  },
  {
   "cell_type": "markdown",
   "metadata": {},
   "source": [
    "And we can also get a description of the molecular system with the help of `molsysmt.info`:"
   ]
  },
  {
   "cell_type": "code",
   "execution_count": 5,
   "metadata": {},
   "outputs": [
    {
     "data": {
      "text/html": [
       "<style type=\"text/css\">\n",
       "</style>\n",
       "<table id=\"T_c2cf1\">\n",
       "  <thead>\n",
       "    <tr>\n",
       "      <th id=\"T_c2cf1_level0_col0\" class=\"col_heading level0 col0\" >form</th>\n",
       "      <th id=\"T_c2cf1_level0_col1\" class=\"col_heading level0 col1\" >n_atoms</th>\n",
       "      <th id=\"T_c2cf1_level0_col2\" class=\"col_heading level0 col2\" >n_groups</th>\n",
       "      <th id=\"T_c2cf1_level0_col3\" class=\"col_heading level0 col3\" >n_components</th>\n",
       "      <th id=\"T_c2cf1_level0_col4\" class=\"col_heading level0 col4\" >n_chains</th>\n",
       "      <th id=\"T_c2cf1_level0_col5\" class=\"col_heading level0 col5\" >n_molecules</th>\n",
       "      <th id=\"T_c2cf1_level0_col6\" class=\"col_heading level0 col6\" >n_entities</th>\n",
       "      <th id=\"T_c2cf1_level0_col7\" class=\"col_heading level0 col7\" >n_waters</th>\n",
       "      <th id=\"T_c2cf1_level0_col8\" class=\"col_heading level0 col8\" >n_ions</th>\n",
       "      <th id=\"T_c2cf1_level0_col9\" class=\"col_heading level0 col9\" >n_small_molecules</th>\n",
       "      <th id=\"T_c2cf1_level0_col10\" class=\"col_heading level0 col10\" >n_proteins</th>\n",
       "      <th id=\"T_c2cf1_level0_col11\" class=\"col_heading level0 col11\" >n_structures</th>\n",
       "    </tr>\n",
       "  </thead>\n",
       "  <tbody>\n",
       "    <tr>\n",
       "      <td id=\"T_c2cf1_row0_col0\" class=\"data row0 col0\" >string:pdb_id</td>\n",
       "      <td id=\"T_c2cf1_row0_col1\" class=\"data row0 col1\" >1441</td>\n",
       "      <td id=\"T_c2cf1_row0_col2\" class=\"data row0 col2\" >302</td>\n",
       "      <td id=\"T_c2cf1_row0_col3\" class=\"data row0 col3\" >141</td>\n",
       "      <td id=\"T_c2cf1_row0_col4\" class=\"data row0 col4\" >6</td>\n",
       "      <td id=\"T_c2cf1_row0_col5\" class=\"data row0 col5\" >141</td>\n",
       "      <td id=\"T_c2cf1_row0_col6\" class=\"data row0 col6\" >5</td>\n",
       "      <td id=\"T_c2cf1_row0_col7\" class=\"data row0 col7\" >136</td>\n",
       "      <td id=\"T_c2cf1_row0_col8\" class=\"data row0 col8\" >2</td>\n",
       "      <td id=\"T_c2cf1_row0_col9\" class=\"data row0 col9\" >2</td>\n",
       "      <td id=\"T_c2cf1_row0_col10\" class=\"data row0 col10\" >1</td>\n",
       "      <td id=\"T_c2cf1_row0_col11\" class=\"data row0 col11\" >1</td>\n",
       "    </tr>\n",
       "  </tbody>\n",
       "</table>\n"
      ],
      "text/plain": [
       "<pandas.io.formats.style.Styler at 0x7fc5f9fe1ee0>"
      ]
     },
     "execution_count": 5,
     "metadata": {},
     "output_type": "execute_result"
    }
   ],
   "source": [
    "msm.info(molecular_system)"
   ]
  },
  {
   "cell_type": "markdown",
   "metadata": {},
   "source": [
    "Let's now convert our molecular system to different forms:"
   ]
  },
  {
   "cell_type": "code",
   "execution_count": 6,
   "metadata": {},
   "outputs": [
    {
     "name": "stdout",
     "output_type": "stream",
     "text": [
      "The molecular system was converted from \"string:pdb_id\" to \"file:mmtf\"\n"
     ]
    }
   ],
   "source": [
    "molecular_system = msm.convert(molecular_system, to_form='181L.mmtf')\n",
    "\n",
    "old_form = form\n",
    "form = msm.get_form(molecular_system)\n",
    "print(f'The molecular system was converted from \"{old_form}\" to \"{form}\"')"
   ]
  },
  {
   "cell_type": "code",
   "execution_count": 7,
   "metadata": {},
   "outputs": [
    {
     "name": "stdout",
     "output_type": "stream",
     "text": [
      "The molecular system was converted from \"file:mmtf\" to \"openmm.Topology\"\n"
     ]
    }
   ],
   "source": [
    "molecular_system = msm.convert(molecular_system, to_form='openmm.Topology')\n",
    "\n",
    "old_form = form\n",
    "form = msm.get_form(molecular_system)\n",
    "print(f'The molecular system was converted from \"{old_form}\" to \"{form}\"')"
   ]
  },
  {
   "cell_type": "code",
   "execution_count": 8,
   "metadata": {},
   "outputs": [
    {
     "name": "stdout",
     "output_type": "stream",
     "text": [
      "The molecular system was converted from \"openmm.Topology\" to \"molsysmt.Topology\"\n"
     ]
    }
   ],
   "source": [
    "molecular_system = msm.convert(molecular_system, to_form='molsysmt.Topology')\n",
    "\n",
    "old_form = form\n",
    "form = msm.get_form(molecular_system)\n",
    "print(f'The molecular system was converted from \"{old_form}\" to \"{form}\"')"
   ]
  },
  {
   "cell_type": "code",
   "execution_count": 9,
   "metadata": {},
   "outputs": [
    {
     "name": "stdout",
     "output_type": "stream",
     "text": [
      "The molecular system was converted from \"molsysmt.Topology\" to \"string:aminoacids1\"\n"
     ]
    }
   ],
   "source": [
    "molecular_system = msm.convert(molecular_system, selection='molecule_index==0', to_form='string:aminoacids1')\n",
    "\n",
    "old_form = form\n",
    "form = msm.get_form(molecular_system)\n",
    "print(f'The molecular system was converted from \"{old_form}\" to \"{form}\"')"
   ]
  },
  {
   "cell_type": "markdown",
   "metadata": {},
   "source": [
    "Finnally, we have a molecular system with the 1-letter-aminoacids code's string form:"
   ]
  },
  {
   "cell_type": "code",
   "execution_count": 10,
   "metadata": {},
   "outputs": [
    {
     "name": "stdout",
     "output_type": "stream",
     "text": [
      "MNIFEMLRIDEGLRLKIYKDTEGYYTIGIGHLLTKSPSLNAAKSELDKAIGRNTNGVITKDEAEKLFNQDVDAAVRGILRNAKLKPVYDSLDAVRRAAAINMVFQMGETGVAGFTNSLRMLQQKRWDEAAVNLAKSRWYNQTPNRAKRVITTFRTGTWDAYK\n"
     ]
    }
   ],
   "source": [
    "print(molecular_system)"
   ]
  },
  {
   "cell_type": "markdown",
   "metadata": {},
   "source": [
    "```{admonition} Note\n",
    ":class: note\n",
    "MolSysMT includes some native forms such as 'molsysmt.MolSys', 'molsysmt.Topology' or 'molsysmt.Structures'.\n",
    "```"
   ]
  },
  {
   "cell_type": "markdown",
   "metadata": {},
   "source": [
    "## Elements selection"
   ]
  },
  {
   "cell_type": "code",
   "execution_count": 11,
   "metadata": {},
   "outputs": [],
   "source": [
    "molecular_system = msm.convert('181L')"
   ]
  },
  {
   "cell_type": "code",
   "execution_count": 12,
   "metadata": {},
   "outputs": [
    {
     "data": {
      "text/html": [
       "<style type=\"text/css\">\n",
       "</style>\n",
       "<table id=\"T_0dc57\">\n",
       "  <thead>\n",
       "    <tr>\n",
       "      <th id=\"T_0dc57_level0_col0\" class=\"col_heading level0 col0\" >index</th>\n",
       "      <th id=\"T_0dc57_level0_col1\" class=\"col_heading level0 col1\" >name</th>\n",
       "      <th id=\"T_0dc57_level0_col2\" class=\"col_heading level0 col2\" >type</th>\n",
       "      <th id=\"T_0dc57_level0_col3\" class=\"col_heading level0 col3\" >n atoms</th>\n",
       "      <th id=\"T_0dc57_level0_col4\" class=\"col_heading level0 col4\" >n groups</th>\n",
       "      <th id=\"T_0dc57_level0_col5\" class=\"col_heading level0 col5\" >n components</th>\n",
       "      <th id=\"T_0dc57_level0_col6\" class=\"col_heading level0 col6\" >n chains</th>\n",
       "      <th id=\"T_0dc57_level0_col7\" class=\"col_heading level0 col7\" >n molecules</th>\n",
       "    </tr>\n",
       "  </thead>\n",
       "  <tbody>\n",
       "    <tr>\n",
       "      <td id=\"T_0dc57_row0_col0\" class=\"data row0 col0\" >0</td>\n",
       "      <td id=\"T_0dc57_row0_col1\" class=\"data row0 col1\" >T4 lysozyme</td>\n",
       "      <td id=\"T_0dc57_row0_col2\" class=\"data row0 col2\" >protein</td>\n",
       "      <td id=\"T_0dc57_row0_col3\" class=\"data row0 col3\" >1289</td>\n",
       "      <td id=\"T_0dc57_row0_col4\" class=\"data row0 col4\" >162</td>\n",
       "      <td id=\"T_0dc57_row0_col5\" class=\"data row0 col5\" >1</td>\n",
       "      <td id=\"T_0dc57_row0_col6\" class=\"data row0 col6\" >1</td>\n",
       "      <td id=\"T_0dc57_row0_col7\" class=\"data row0 col7\" >1</td>\n",
       "    </tr>\n",
       "    <tr>\n",
       "      <td id=\"T_0dc57_row1_col0\" class=\"data row1 col0\" >1</td>\n",
       "      <td id=\"T_0dc57_row1_col1\" class=\"data row1 col1\" >Chloride ion</td>\n",
       "      <td id=\"T_0dc57_row1_col2\" class=\"data row1 col2\" >ion</td>\n",
       "      <td id=\"T_0dc57_row1_col3\" class=\"data row1 col3\" >2</td>\n",
       "      <td id=\"T_0dc57_row1_col4\" class=\"data row1 col4\" >2</td>\n",
       "      <td id=\"T_0dc57_row1_col5\" class=\"data row1 col5\" >2</td>\n",
       "      <td id=\"T_0dc57_row1_col6\" class=\"data row1 col6\" >2</td>\n",
       "      <td id=\"T_0dc57_row1_col7\" class=\"data row1 col7\" >2</td>\n",
       "    </tr>\n",
       "    <tr>\n",
       "      <td id=\"T_0dc57_row2_col0\" class=\"data row2 col0\" >2</td>\n",
       "      <td id=\"T_0dc57_row2_col1\" class=\"data row2 col1\" >2-hydroxyethyl disulfide</td>\n",
       "      <td id=\"T_0dc57_row2_col2\" class=\"data row2 col2\" >small molecule</td>\n",
       "      <td id=\"T_0dc57_row2_col3\" class=\"data row2 col3\" >8</td>\n",
       "      <td id=\"T_0dc57_row2_col4\" class=\"data row2 col4\" >1</td>\n",
       "      <td id=\"T_0dc57_row2_col5\" class=\"data row2 col5\" >1</td>\n",
       "      <td id=\"T_0dc57_row2_col6\" class=\"data row2 col6\" >1</td>\n",
       "      <td id=\"T_0dc57_row2_col7\" class=\"data row2 col7\" >1</td>\n",
       "    </tr>\n",
       "    <tr>\n",
       "      <td id=\"T_0dc57_row3_col0\" class=\"data row3 col0\" >3</td>\n",
       "      <td id=\"T_0dc57_row3_col1\" class=\"data row3 col1\" >Benzene</td>\n",
       "      <td id=\"T_0dc57_row3_col2\" class=\"data row3 col2\" >small molecule</td>\n",
       "      <td id=\"T_0dc57_row3_col3\" class=\"data row3 col3\" >6</td>\n",
       "      <td id=\"T_0dc57_row3_col4\" class=\"data row3 col4\" >1</td>\n",
       "      <td id=\"T_0dc57_row3_col5\" class=\"data row3 col5\" >1</td>\n",
       "      <td id=\"T_0dc57_row3_col6\" class=\"data row3 col6\" >1</td>\n",
       "      <td id=\"T_0dc57_row3_col7\" class=\"data row3 col7\" >1</td>\n",
       "    </tr>\n",
       "    <tr>\n",
       "      <td id=\"T_0dc57_row4_col0\" class=\"data row4 col0\" >4</td>\n",
       "      <td id=\"T_0dc57_row4_col1\" class=\"data row4 col1\" >water</td>\n",
       "      <td id=\"T_0dc57_row4_col2\" class=\"data row4 col2\" >water</td>\n",
       "      <td id=\"T_0dc57_row4_col3\" class=\"data row4 col3\" >136</td>\n",
       "      <td id=\"T_0dc57_row4_col4\" class=\"data row4 col4\" >136</td>\n",
       "      <td id=\"T_0dc57_row4_col5\" class=\"data row4 col5\" >136</td>\n",
       "      <td id=\"T_0dc57_row4_col6\" class=\"data row4 col6\" >1</td>\n",
       "      <td id=\"T_0dc57_row4_col7\" class=\"data row4 col7\" >136</td>\n",
       "    </tr>\n",
       "  </tbody>\n",
       "</table>\n"
      ],
      "text/plain": [
       "<pandas.io.formats.style.Styler at 0x7fc5f0897d30>"
      ]
     },
     "execution_count": 12,
     "metadata": {},
     "output_type": "execute_result"
    }
   ],
   "source": [
    "msm.info(molecular_system, element='entity')"
   ]
  },
  {
   "cell_type": "code",
   "execution_count": 13,
   "metadata": {},
   "outputs": [],
   "source": [
    "ions = msm.select(molecular_system, selection='entity_type==\"ion\"')"
   ]
  },
  {
   "cell_type": "code",
   "execution_count": 14,
   "metadata": {},
   "outputs": [
    {
     "name": "stdout",
     "output_type": "stream",
     "text": [
      "[1289 1290]\n"
     ]
    }
   ],
   "source": [
    "print(ions)"
   ]
  },
  {
   "cell_type": "code",
   "execution_count": 15,
   "metadata": {},
   "outputs": [
    {
     "data": {
      "text/html": [
       "<style type=\"text/css\">\n",
       "</style>\n",
       "<table id=\"T_a861f\">\n",
       "  <thead>\n",
       "    <tr>\n",
       "      <th id=\"T_a861f_level0_col0\" class=\"col_heading level0 col0\" >index</th>\n",
       "      <th id=\"T_a861f_level0_col1\" class=\"col_heading level0 col1\" >id</th>\n",
       "      <th id=\"T_a861f_level0_col2\" class=\"col_heading level0 col2\" >name</th>\n",
       "      <th id=\"T_a861f_level0_col3\" class=\"col_heading level0 col3\" >type</th>\n",
       "      <th id=\"T_a861f_level0_col4\" class=\"col_heading level0 col4\" >group index</th>\n",
       "      <th id=\"T_a861f_level0_col5\" class=\"col_heading level0 col5\" >group id</th>\n",
       "      <th id=\"T_a861f_level0_col6\" class=\"col_heading level0 col6\" >group name</th>\n",
       "      <th id=\"T_a861f_level0_col7\" class=\"col_heading level0 col7\" >group type</th>\n",
       "      <th id=\"T_a861f_level0_col8\" class=\"col_heading level0 col8\" >component index</th>\n",
       "      <th id=\"T_a861f_level0_col9\" class=\"col_heading level0 col9\" >chain index</th>\n",
       "      <th id=\"T_a861f_level0_col10\" class=\"col_heading level0 col10\" >molecule index</th>\n",
       "      <th id=\"T_a861f_level0_col11\" class=\"col_heading level0 col11\" >molecule type</th>\n",
       "      <th id=\"T_a861f_level0_col12\" class=\"col_heading level0 col12\" >entity index</th>\n",
       "      <th id=\"T_a861f_level0_col13\" class=\"col_heading level0 col13\" >entity name</th>\n",
       "    </tr>\n",
       "  </thead>\n",
       "  <tbody>\n",
       "    <tr>\n",
       "      <td id=\"T_a861f_row0_col0\" class=\"data row0 col0\" >1289</td>\n",
       "      <td id=\"T_a861f_row0_col1\" class=\"data row0 col1\" >1290</td>\n",
       "      <td id=\"T_a861f_row0_col2\" class=\"data row0 col2\" >CL</td>\n",
       "      <td id=\"T_a861f_row0_col3\" class=\"data row0 col3\" >Cl</td>\n",
       "      <td id=\"T_a861f_row0_col4\" class=\"data row0 col4\" >162</td>\n",
       "      <td id=\"T_a861f_row0_col5\" class=\"data row0 col5\" >173</td>\n",
       "      <td id=\"T_a861f_row0_col6\" class=\"data row0 col6\" >CL</td>\n",
       "      <td id=\"T_a861f_row0_col7\" class=\"data row0 col7\" >ion</td>\n",
       "      <td id=\"T_a861f_row0_col8\" class=\"data row0 col8\" >1</td>\n",
       "      <td id=\"T_a861f_row0_col9\" class=\"data row0 col9\" >1</td>\n",
       "      <td id=\"T_a861f_row0_col10\" class=\"data row0 col10\" >1</td>\n",
       "      <td id=\"T_a861f_row0_col11\" class=\"data row0 col11\" >ion</td>\n",
       "      <td id=\"T_a861f_row0_col12\" class=\"data row0 col12\" >1</td>\n",
       "      <td id=\"T_a861f_row0_col13\" class=\"data row0 col13\" >Chloride ion</td>\n",
       "    </tr>\n",
       "    <tr>\n",
       "      <td id=\"T_a861f_row1_col0\" class=\"data row1 col0\" >1290</td>\n",
       "      <td id=\"T_a861f_row1_col1\" class=\"data row1 col1\" >1291</td>\n",
       "      <td id=\"T_a861f_row1_col2\" class=\"data row1 col2\" >CL</td>\n",
       "      <td id=\"T_a861f_row1_col3\" class=\"data row1 col3\" >Cl</td>\n",
       "      <td id=\"T_a861f_row1_col4\" class=\"data row1 col4\" >163</td>\n",
       "      <td id=\"T_a861f_row1_col5\" class=\"data row1 col5\" >178</td>\n",
       "      <td id=\"T_a861f_row1_col6\" class=\"data row1 col6\" >CL</td>\n",
       "      <td id=\"T_a861f_row1_col7\" class=\"data row1 col7\" >ion</td>\n",
       "      <td id=\"T_a861f_row1_col8\" class=\"data row1 col8\" >2</td>\n",
       "      <td id=\"T_a861f_row1_col9\" class=\"data row1 col9\" >2</td>\n",
       "      <td id=\"T_a861f_row1_col10\" class=\"data row1 col10\" >2</td>\n",
       "      <td id=\"T_a861f_row1_col11\" class=\"data row1 col11\" >ion</td>\n",
       "      <td id=\"T_a861f_row1_col12\" class=\"data row1 col12\" >1</td>\n",
       "      <td id=\"T_a861f_row1_col13\" class=\"data row1 col13\" >Chloride ion</td>\n",
       "    </tr>\n",
       "  </tbody>\n",
       "</table>\n"
      ],
      "text/plain": [
       "<pandas.io.formats.style.Styler at 0x7fc5f0813880>"
      ]
     },
     "execution_count": 15,
     "metadata": {},
     "output_type": "execute_result"
    }
   ],
   "source": [
    "msm.info(molecular_system, element='atom', selection='@ions')"
   ]
  },
  {
   "cell_type": "code",
   "execution_count": 16,
   "metadata": {},
   "outputs": [],
   "source": [
    "CAs_in_contact = msm.select(molecular_system, selection='atom_name==\"CA\" within 5.0 angstroms of @ions')"
   ]
  },
  {
   "cell_type": "code",
   "execution_count": 17,
   "metadata": {},
   "outputs": [
    {
     "name": "stdout",
     "output_type": "stream",
     "text": [
      "[ 385 1115 1122 1129 1137]\n"
     ]
    }
   ],
   "source": [
    "print(CAs_in_contact)"
   ]
  },
  {
   "cell_type": "code",
   "execution_count": 18,
   "metadata": {},
   "outputs": [],
   "source": [
    "residues_in_contact = msm.get(molecular_system, element='atom', selection=CAs_in_contact, group_index=True)"
   ]
  },
  {
   "cell_type": "code",
   "execution_count": 19,
   "metadata": {},
   "outputs": [
    {
     "name": "stdout",
     "output_type": "stream",
     "text": [
      "[ 48 141 142 143 144]\n"
     ]
    }
   ],
   "source": [
    "print(residues_in_contact)"
   ]
  },
  {
   "cell_type": "code",
   "execution_count": 20,
   "metadata": {},
   "outputs": [],
   "source": [
    "residues_in_contact = msm.select(molecular_system, element='group', selection='atom_name==\"CA\" within 5.0 angstroms of @ions')"
   ]
  },
  {
   "cell_type": "code",
   "execution_count": 21,
   "metadata": {},
   "outputs": [
    {
     "name": "stdout",
     "output_type": "stream",
     "text": [
      "[ 48 141 142 143 144]\n"
     ]
    }
   ],
   "source": [
    "print(residues_in_contact)"
   ]
  },
  {
   "cell_type": "markdown",
   "metadata": {},
   "source": [
    "### You can use your favourite selection syntax"
   ]
  },
  {
   "cell_type": "code",
   "execution_count": 22,
   "metadata": {},
   "outputs": [
    {
     "data": {
      "text/plain": [
       "array([1291, 1293, 1299, 1300, 1301, 1302])"
      ]
     },
     "execution_count": 22,
     "metadata": {},
     "output_type": "execute_result"
    }
   ],
   "source": [
    "msm.select(molecular_system, selection='name =~ \"C[1-4]\"', syntax='MDTraj')"
   ]
  },
  {
   "cell_type": "markdown",
   "metadata": {},
   "source": [
    "### You can convert a selection into your favourite selection syntax"
   ]
  },
  {
   "cell_type": "code",
   "execution_count": 23,
   "metadata": {},
   "outputs": [
    {
     "data": {
      "text/plain": [
       "'173:B 178:C'"
      ]
     },
     "execution_count": 23,
     "metadata": {},
     "output_type": "execute_result"
    }
   ],
   "source": [
    "msm.select(molecular_system, element='group', selection='molecule_type==\"ion\"', to_syntax='NGLView')"
   ]
  },
  {
   "cell_type": "markdown",
   "metadata": {},
   "source": [
    "## Getting attributes from elements"
   ]
  },
  {
   "cell_type": "code",
   "execution_count": 24,
   "metadata": {},
   "outputs": [
    {
     "data": {
      "text/plain": [
       "1441"
      ]
     },
     "execution_count": 24,
     "metadata": {},
     "output_type": "execute_result"
    }
   ],
   "source": [
    "msm.get(molecular_system, n_atoms=True)"
   ]
  },
  {
   "cell_type": "code",
   "execution_count": 25,
   "metadata": {},
   "outputs": [
    {
     "data": {
      "text/plain": [
       "1"
      ]
     },
     "execution_count": 25,
     "metadata": {},
     "output_type": "execute_result"
    }
   ],
   "source": [
    "msm.get(molecular_system, n_structures=True)"
   ]
  },
  {
   "cell_type": "code",
   "execution_count": 26,
   "metadata": {},
   "outputs": [
    {
     "data": {
      "text/html": [
       "<table><tbody><tr><th>Magnitude</th><td style='text-align:left;'><pre>[311.5566139349998]</pre></td></tr><tr><th>Units</th><td style='text-align:left;'>nanometer<sup>3</sup></td></tr></tbody></table>"
      ],
      "text/latex": [
       "$\\begin{pmatrix}311.5566139349998\\end{pmatrix}\\ \\mathrm{nanometer}^{3}$"
      ],
      "text/plain": [
       "array([311.55661393]) <Unit('nanometer ** 3')>"
      ]
     },
     "execution_count": 26,
     "metadata": {},
     "output_type": "execute_result"
    }
   ],
   "source": [
    "msm.get(molecular_system, box_volume=True)"
   ]
  },
  {
   "cell_type": "code",
   "execution_count": 27,
   "metadata": {},
   "outputs": [
    {
     "data": {
      "text/plain": [
       "[array(['C', 'O', 'CB'], dtype=object),\n",
       " array(['ASN', 'ASN', 'ASN'], dtype=object)]"
      ]
     },
     "execution_count": 27,
     "metadata": {},
     "output_type": "execute_result"
    }
   ],
   "source": [
    "msm.get(molecular_system, element='atom', selection=[10, 11, 12], atom_name=True, group_name=True)"
   ]
  },
  {
   "cell_type": "code",
   "execution_count": 28,
   "metadata": {},
   "outputs": [
    {
     "data": {
      "text/plain": [
       "array(['F'], dtype=object)"
      ]
     },
     "execution_count": 28,
     "metadata": {},
     "output_type": "execute_result"
    }
   ],
   "source": [
    "msm.get(molecular_system, element='chain', selection='molecule_type==\"water\"', id=True)"
   ]
  },
  {
   "cell_type": "markdown",
   "metadata": {},
   "source": [
    "## Tools\n",
    "\n",
    "MolSysMT have different categories of tools to work with molecular modules. They can be found in the modules: `molsysmt.basic`, `molsysmt.build`, `molsysmt.topology`, `molsysmt.structure`, `molsysmt.pbc`, ... Let's illustrate with examples how some of these tools work.\n",
    "\n",
    "```{admonition} Did you know...?\n",
    ":class: tip, dropdown\n",
    "*MolSysMT is form agnostic*. All tools work no matter the form of the input molecular system.\n",
    "```"
   ]
  },
  {
   "cell_type": "markdown",
   "metadata": {},
   "source": [
    "### Basic\n",
    "\n",
    "\"Basic\" tools such as `select`, `get`, `convert`, `add`, or `remove`, can be found in the module `molsysmt.basic`. Let's see some examples:"
   ]
  },
  {
   "cell_type": "code",
   "execution_count": 29,
   "metadata": {},
   "outputs": [],
   "source": [
    "molecular_system = msm.basic.convert('181L', to_form='pdbfixer.PDBFixer')"
   ]
  },
  {
   "cell_type": "code",
   "execution_count": 30,
   "metadata": {},
   "outputs": [
    {
     "data": {
      "text/plain": [
       "True"
      ]
     },
     "execution_count": 30,
     "metadata": {},
     "output_type": "execute_result"
    }
   ],
   "source": [
    "msm.basic.contains(molecular_system, waters=True, ions=True, small_molecules=True)"
   ]
  },
  {
   "cell_type": "code",
   "execution_count": 31,
   "metadata": {},
   "outputs": [],
   "source": [
    "molecular_system = msm.basic.remove(molecular_system, selection='molecule_type==[\"water\", \"ion\", \"small molecule\"]')"
   ]
  },
  {
   "cell_type": "code",
   "execution_count": 32,
   "metadata": {},
   "outputs": [
    {
     "data": {
      "text/plain": [
       "[0, 0, 0]"
      ]
     },
     "execution_count": 32,
     "metadata": {},
     "output_type": "execute_result"
    }
   ],
   "source": [
    "msm.basic.get(molecular_system, n_waters=True, n_ions=True, n_small_molecules=True)"
   ]
  },
  {
   "cell_type": "code",
   "execution_count": 33,
   "metadata": {},
   "outputs": [
    {
     "data": {
      "text/plain": [
       "'pdbfixer.PDBFixer'"
      ]
     },
     "execution_count": 33,
     "metadata": {},
     "output_type": "execute_result"
    }
   ],
   "source": [
    "msm.basic.get_form(molecular_system)"
   ]
  },
  {
   "cell_type": "code",
   "execution_count": 34,
   "metadata": {},
   "outputs": [
    {
     "data": {
      "application/vnd.jupyter.widget-view+json": {
       "model_id": "f5112e1d671e4f23b5b028a349c38515",
       "version_major": 2,
       "version_minor": 0
      },
      "text/plain": [
       "NGLWidget()"
      ]
     },
     "metadata": {},
     "output_type": "display_data"
    }
   ],
   "source": [
    "msm.basic.view(molecular_system, viewer='NGLView')"
   ]
  },
  {
   "cell_type": "markdown",
   "metadata": {},
   "source": [
    "### Build\n",
    "\n",
    "\"Build\" tools such as `solvate`, `add_missing_hydrogens`, `build_peptide`, `get_atoms_with_alternate_locations`, or `make_bioassembly`, can be found in the module `molsysmt.build`. Let's see some examples:"
   ]
  },
  {
   "cell_type": "code",
   "execution_count": null,
   "metadata": {},
   "outputs": [],
   "source": [
    "molecular_system = msm.build.build_peptide('AceAlaAlaAlaNme')"
   ]
  },
  {
   "cell_type": "code",
   "execution_count": null,
   "metadata": {},
   "outputs": [],
   "source": [
    "molecular_system = msm.structure.center(molecular_system)"
   ]
  },
  {
   "cell_type": "code",
   "execution_count": null,
   "metadata": {},
   "outputs": [],
   "source": [
    "msm.get(molecular_system, n_aminoacids=True, n_groups=True)"
   ]
  },
  {
   "cell_type": "code",
   "execution_count": null,
   "metadata": {},
   "outputs": [],
   "source": [
    "molecular_system = msm.build.solvate(molecular_system, box_shape='truncated octahedral',\n",
    "                                     clearance='14.0 angstroms')"
   ]
  },
  {
   "cell_type": "code",
   "execution_count": null,
   "metadata": {},
   "outputs": [],
   "source": [
    "msm.build.is_solvated(molecular_system)"
   ]
  },
  {
   "cell_type": "code",
   "execution_count": null,
   "metadata": {},
   "outputs": [],
   "source": [
    "molecular_system = msm.pbc.wrap_to_mic(molecular_system)"
   ]
  },
  {
   "cell_type": "code",
   "execution_count": null,
   "metadata": {},
   "outputs": [],
   "source": [
    "msm.view(molecular_system, standardize=True, water_as_surface=True)"
   ]
  },
  {
   "cell_type": "markdown",
   "metadata": {},
   "source": [
    "### Structure"
   ]
  },
  {
   "cell_type": "code",
   "execution_count": 35,
   "metadata": {},
   "outputs": [],
   "source": [
    "molecular_system = msm.basic.convert('181L', selection='molecule_type==\"protein\"')"
   ]
  },
  {
   "cell_type": "code",
   "execution_count": 36,
   "metadata": {},
   "outputs": [
    {
     "data": {
      "text/html": [
       "<table><tbody><tr><th>Magnitude</th><td style='text-align:left;'><pre>[[[1.5211279959293365]]]</pre></td></tr><tr><th>Units</th><td style='text-align:left;'>nanometer</td></tr></tbody></table>"
      ],
      "text/latex": [
       "$arr[,0,:,:] = \\begin{pmatrix}1.5211279959293365\\end{pmatrix}\\ \\mathrm{nanometer}$"
      ],
      "text/plain": [
       "array([[[1.521128]]]) <Unit('nanometer')>"
      ]
     },
     "execution_count": 36,
     "metadata": {},
     "output_type": "execute_result"
    }
   ],
   "source": [
    "msm.structure.get_distances(molecular_system, selection='atom_index==10', selection_2='atom_index==100')"
   ]
  },
  {
   "cell_type": "code",
   "execution_count": 37,
   "metadata": {},
   "outputs": [
    {
     "data": {
      "text/html": [
       "<style type=\"text/css\">\n",
       "</style>\n",
       "<table id=\"T_8a5e2\">\n",
       "  <thead>\n",
       "    <tr>\n",
       "      <th id=\"T_8a5e2_level0_col0\" class=\"col_heading level0 col0\" >index</th>\n",
       "      <th id=\"T_8a5e2_level0_col1\" class=\"col_heading level0 col1\" >id</th>\n",
       "      <th id=\"T_8a5e2_level0_col2\" class=\"col_heading level0 col2\" >name</th>\n",
       "      <th id=\"T_8a5e2_level0_col3\" class=\"col_heading level0 col3\" >type</th>\n",
       "      <th id=\"T_8a5e2_level0_col4\" class=\"col_heading level0 col4\" >group index</th>\n",
       "      <th id=\"T_8a5e2_level0_col5\" class=\"col_heading level0 col5\" >group id</th>\n",
       "      <th id=\"T_8a5e2_level0_col6\" class=\"col_heading level0 col6\" >group name</th>\n",
       "      <th id=\"T_8a5e2_level0_col7\" class=\"col_heading level0 col7\" >group type</th>\n",
       "      <th id=\"T_8a5e2_level0_col8\" class=\"col_heading level0 col8\" >component index</th>\n",
       "      <th id=\"T_8a5e2_level0_col9\" class=\"col_heading level0 col9\" >chain index</th>\n",
       "      <th id=\"T_8a5e2_level0_col10\" class=\"col_heading level0 col10\" >molecule index</th>\n",
       "      <th id=\"T_8a5e2_level0_col11\" class=\"col_heading level0 col11\" >molecule type</th>\n",
       "      <th id=\"T_8a5e2_level0_col12\" class=\"col_heading level0 col12\" >entity index</th>\n",
       "      <th id=\"T_8a5e2_level0_col13\" class=\"col_heading level0 col13\" >entity name</th>\n",
       "    </tr>\n",
       "  </thead>\n",
       "  <tbody>\n",
       "    <tr>\n",
       "      <td id=\"T_8a5e2_row0_col0\" class=\"data row0 col0\" >24</td>\n",
       "      <td id=\"T_8a5e2_row0_col1\" class=\"data row0 col1\" >25</td>\n",
       "      <td id=\"T_8a5e2_row0_col2\" class=\"data row0 col2\" >N</td>\n",
       "      <td id=\"T_8a5e2_row0_col3\" class=\"data row0 col3\" >N</td>\n",
       "      <td id=\"T_8a5e2_row0_col4\" class=\"data row0 col4\" >3</td>\n",
       "      <td id=\"T_8a5e2_row0_col5\" class=\"data row0 col5\" >4</td>\n",
       "      <td id=\"T_8a5e2_row0_col6\" class=\"data row0 col6\" >PHE</td>\n",
       "      <td id=\"T_8a5e2_row0_col7\" class=\"data row0 col7\" >aminoacid</td>\n",
       "      <td id=\"T_8a5e2_row0_col8\" class=\"data row0 col8\" >0</td>\n",
       "      <td id=\"T_8a5e2_row0_col9\" class=\"data row0 col9\" >0</td>\n",
       "      <td id=\"T_8a5e2_row0_col10\" class=\"data row0 col10\" >0</td>\n",
       "      <td id=\"T_8a5e2_row0_col11\" class=\"data row0 col11\" >protein</td>\n",
       "      <td id=\"T_8a5e2_row0_col12\" class=\"data row0 col12\" >0</td>\n",
       "      <td id=\"T_8a5e2_row0_col13\" class=\"data row0 col13\" >T4 lysozyme</td>\n",
       "    </tr>\n",
       "    <tr>\n",
       "      <td id=\"T_8a5e2_row1_col0\" class=\"data row1 col0\" >25</td>\n",
       "      <td id=\"T_8a5e2_row1_col1\" class=\"data row1 col1\" >26</td>\n",
       "      <td id=\"T_8a5e2_row1_col2\" class=\"data row1 col2\" >CA</td>\n",
       "      <td id=\"T_8a5e2_row1_col3\" class=\"data row1 col3\" >C</td>\n",
       "      <td id=\"T_8a5e2_row1_col4\" class=\"data row1 col4\" >3</td>\n",
       "      <td id=\"T_8a5e2_row1_col5\" class=\"data row1 col5\" >4</td>\n",
       "      <td id=\"T_8a5e2_row1_col6\" class=\"data row1 col6\" >PHE</td>\n",
       "      <td id=\"T_8a5e2_row1_col7\" class=\"data row1 col7\" >aminoacid</td>\n",
       "      <td id=\"T_8a5e2_row1_col8\" class=\"data row1 col8\" >0</td>\n",
       "      <td id=\"T_8a5e2_row1_col9\" class=\"data row1 col9\" >0</td>\n",
       "      <td id=\"T_8a5e2_row1_col10\" class=\"data row1 col10\" >0</td>\n",
       "      <td id=\"T_8a5e2_row1_col11\" class=\"data row1 col11\" >protein</td>\n",
       "      <td id=\"T_8a5e2_row1_col12\" class=\"data row1 col12\" >0</td>\n",
       "      <td id=\"T_8a5e2_row1_col13\" class=\"data row1 col13\" >T4 lysozyme</td>\n",
       "    </tr>\n",
       "    <tr>\n",
       "      <td id=\"T_8a5e2_row2_col0\" class=\"data row2 col0\" >26</td>\n",
       "      <td id=\"T_8a5e2_row2_col1\" class=\"data row2 col1\" >27</td>\n",
       "      <td id=\"T_8a5e2_row2_col2\" class=\"data row2 col2\" >C</td>\n",
       "      <td id=\"T_8a5e2_row2_col3\" class=\"data row2 col3\" >C</td>\n",
       "      <td id=\"T_8a5e2_row2_col4\" class=\"data row2 col4\" >3</td>\n",
       "      <td id=\"T_8a5e2_row2_col5\" class=\"data row2 col5\" >4</td>\n",
       "      <td id=\"T_8a5e2_row2_col6\" class=\"data row2 col6\" >PHE</td>\n",
       "      <td id=\"T_8a5e2_row2_col7\" class=\"data row2 col7\" >aminoacid</td>\n",
       "      <td id=\"T_8a5e2_row2_col8\" class=\"data row2 col8\" >0</td>\n",
       "      <td id=\"T_8a5e2_row2_col9\" class=\"data row2 col9\" >0</td>\n",
       "      <td id=\"T_8a5e2_row2_col10\" class=\"data row2 col10\" >0</td>\n",
       "      <td id=\"T_8a5e2_row2_col11\" class=\"data row2 col11\" >protein</td>\n",
       "      <td id=\"T_8a5e2_row2_col12\" class=\"data row2 col12\" >0</td>\n",
       "      <td id=\"T_8a5e2_row2_col13\" class=\"data row2 col13\" >T4 lysozyme</td>\n",
       "    </tr>\n",
       "    <tr>\n",
       "      <td id=\"T_8a5e2_row3_col0\" class=\"data row3 col0\" >27</td>\n",
       "      <td id=\"T_8a5e2_row3_col1\" class=\"data row3 col1\" >28</td>\n",
       "      <td id=\"T_8a5e2_row3_col2\" class=\"data row3 col2\" >O</td>\n",
       "      <td id=\"T_8a5e2_row3_col3\" class=\"data row3 col3\" >O</td>\n",
       "      <td id=\"T_8a5e2_row3_col4\" class=\"data row3 col4\" >3</td>\n",
       "      <td id=\"T_8a5e2_row3_col5\" class=\"data row3 col5\" >4</td>\n",
       "      <td id=\"T_8a5e2_row3_col6\" class=\"data row3 col6\" >PHE</td>\n",
       "      <td id=\"T_8a5e2_row3_col7\" class=\"data row3 col7\" >aminoacid</td>\n",
       "      <td id=\"T_8a5e2_row3_col8\" class=\"data row3 col8\" >0</td>\n",
       "      <td id=\"T_8a5e2_row3_col9\" class=\"data row3 col9\" >0</td>\n",
       "      <td id=\"T_8a5e2_row3_col10\" class=\"data row3 col10\" >0</td>\n",
       "      <td id=\"T_8a5e2_row3_col11\" class=\"data row3 col11\" >protein</td>\n",
       "      <td id=\"T_8a5e2_row3_col12\" class=\"data row3 col12\" >0</td>\n",
       "      <td id=\"T_8a5e2_row3_col13\" class=\"data row3 col13\" >T4 lysozyme</td>\n",
       "    </tr>\n",
       "    <tr>\n",
       "      <td id=\"T_8a5e2_row4_col0\" class=\"data row4 col0\" >28</td>\n",
       "      <td id=\"T_8a5e2_row4_col1\" class=\"data row4 col1\" >29</td>\n",
       "      <td id=\"T_8a5e2_row4_col2\" class=\"data row4 col2\" >CB</td>\n",
       "      <td id=\"T_8a5e2_row4_col3\" class=\"data row4 col3\" >C</td>\n",
       "      <td id=\"T_8a5e2_row4_col4\" class=\"data row4 col4\" >3</td>\n",
       "      <td id=\"T_8a5e2_row4_col5\" class=\"data row4 col5\" >4</td>\n",
       "      <td id=\"T_8a5e2_row4_col6\" class=\"data row4 col6\" >PHE</td>\n",
       "      <td id=\"T_8a5e2_row4_col7\" class=\"data row4 col7\" >aminoacid</td>\n",
       "      <td id=\"T_8a5e2_row4_col8\" class=\"data row4 col8\" >0</td>\n",
       "      <td id=\"T_8a5e2_row4_col9\" class=\"data row4 col9\" >0</td>\n",
       "      <td id=\"T_8a5e2_row4_col10\" class=\"data row4 col10\" >0</td>\n",
       "      <td id=\"T_8a5e2_row4_col11\" class=\"data row4 col11\" >protein</td>\n",
       "      <td id=\"T_8a5e2_row4_col12\" class=\"data row4 col12\" >0</td>\n",
       "      <td id=\"T_8a5e2_row4_col13\" class=\"data row4 col13\" >T4 lysozyme</td>\n",
       "    </tr>\n",
       "    <tr>\n",
       "      <td id=\"T_8a5e2_row5_col0\" class=\"data row5 col0\" >29</td>\n",
       "      <td id=\"T_8a5e2_row5_col1\" class=\"data row5 col1\" >30</td>\n",
       "      <td id=\"T_8a5e2_row5_col2\" class=\"data row5 col2\" >CG</td>\n",
       "      <td id=\"T_8a5e2_row5_col3\" class=\"data row5 col3\" >C</td>\n",
       "      <td id=\"T_8a5e2_row5_col4\" class=\"data row5 col4\" >3</td>\n",
       "      <td id=\"T_8a5e2_row5_col5\" class=\"data row5 col5\" >4</td>\n",
       "      <td id=\"T_8a5e2_row5_col6\" class=\"data row5 col6\" >PHE</td>\n",
       "      <td id=\"T_8a5e2_row5_col7\" class=\"data row5 col7\" >aminoacid</td>\n",
       "      <td id=\"T_8a5e2_row5_col8\" class=\"data row5 col8\" >0</td>\n",
       "      <td id=\"T_8a5e2_row5_col9\" class=\"data row5 col9\" >0</td>\n",
       "      <td id=\"T_8a5e2_row5_col10\" class=\"data row5 col10\" >0</td>\n",
       "      <td id=\"T_8a5e2_row5_col11\" class=\"data row5 col11\" >protein</td>\n",
       "      <td id=\"T_8a5e2_row5_col12\" class=\"data row5 col12\" >0</td>\n",
       "      <td id=\"T_8a5e2_row5_col13\" class=\"data row5 col13\" >T4 lysozyme</td>\n",
       "    </tr>\n",
       "    <tr>\n",
       "      <td id=\"T_8a5e2_row6_col0\" class=\"data row6 col0\" >30</td>\n",
       "      <td id=\"T_8a5e2_row6_col1\" class=\"data row6 col1\" >31</td>\n",
       "      <td id=\"T_8a5e2_row6_col2\" class=\"data row6 col2\" >CD1</td>\n",
       "      <td id=\"T_8a5e2_row6_col3\" class=\"data row6 col3\" >C</td>\n",
       "      <td id=\"T_8a5e2_row6_col4\" class=\"data row6 col4\" >3</td>\n",
       "      <td id=\"T_8a5e2_row6_col5\" class=\"data row6 col5\" >4</td>\n",
       "      <td id=\"T_8a5e2_row6_col6\" class=\"data row6 col6\" >PHE</td>\n",
       "      <td id=\"T_8a5e2_row6_col7\" class=\"data row6 col7\" >aminoacid</td>\n",
       "      <td id=\"T_8a5e2_row6_col8\" class=\"data row6 col8\" >0</td>\n",
       "      <td id=\"T_8a5e2_row6_col9\" class=\"data row6 col9\" >0</td>\n",
       "      <td id=\"T_8a5e2_row6_col10\" class=\"data row6 col10\" >0</td>\n",
       "      <td id=\"T_8a5e2_row6_col11\" class=\"data row6 col11\" >protein</td>\n",
       "      <td id=\"T_8a5e2_row6_col12\" class=\"data row6 col12\" >0</td>\n",
       "      <td id=\"T_8a5e2_row6_col13\" class=\"data row6 col13\" >T4 lysozyme</td>\n",
       "    </tr>\n",
       "    <tr>\n",
       "      <td id=\"T_8a5e2_row7_col0\" class=\"data row7 col0\" >31</td>\n",
       "      <td id=\"T_8a5e2_row7_col1\" class=\"data row7 col1\" >32</td>\n",
       "      <td id=\"T_8a5e2_row7_col2\" class=\"data row7 col2\" >CD2</td>\n",
       "      <td id=\"T_8a5e2_row7_col3\" class=\"data row7 col3\" >C</td>\n",
       "      <td id=\"T_8a5e2_row7_col4\" class=\"data row7 col4\" >3</td>\n",
       "      <td id=\"T_8a5e2_row7_col5\" class=\"data row7 col5\" >4</td>\n",
       "      <td id=\"T_8a5e2_row7_col6\" class=\"data row7 col6\" >PHE</td>\n",
       "      <td id=\"T_8a5e2_row7_col7\" class=\"data row7 col7\" >aminoacid</td>\n",
       "      <td id=\"T_8a5e2_row7_col8\" class=\"data row7 col8\" >0</td>\n",
       "      <td id=\"T_8a5e2_row7_col9\" class=\"data row7 col9\" >0</td>\n",
       "      <td id=\"T_8a5e2_row7_col10\" class=\"data row7 col10\" >0</td>\n",
       "      <td id=\"T_8a5e2_row7_col11\" class=\"data row7 col11\" >protein</td>\n",
       "      <td id=\"T_8a5e2_row7_col12\" class=\"data row7 col12\" >0</td>\n",
       "      <td id=\"T_8a5e2_row7_col13\" class=\"data row7 col13\" >T4 lysozyme</td>\n",
       "    </tr>\n",
       "    <tr>\n",
       "      <td id=\"T_8a5e2_row8_col0\" class=\"data row8 col0\" >32</td>\n",
       "      <td id=\"T_8a5e2_row8_col1\" class=\"data row8 col1\" >33</td>\n",
       "      <td id=\"T_8a5e2_row8_col2\" class=\"data row8 col2\" >CE1</td>\n",
       "      <td id=\"T_8a5e2_row8_col3\" class=\"data row8 col3\" >C</td>\n",
       "      <td id=\"T_8a5e2_row8_col4\" class=\"data row8 col4\" >3</td>\n",
       "      <td id=\"T_8a5e2_row8_col5\" class=\"data row8 col5\" >4</td>\n",
       "      <td id=\"T_8a5e2_row8_col6\" class=\"data row8 col6\" >PHE</td>\n",
       "      <td id=\"T_8a5e2_row8_col7\" class=\"data row8 col7\" >aminoacid</td>\n",
       "      <td id=\"T_8a5e2_row8_col8\" class=\"data row8 col8\" >0</td>\n",
       "      <td id=\"T_8a5e2_row8_col9\" class=\"data row8 col9\" >0</td>\n",
       "      <td id=\"T_8a5e2_row8_col10\" class=\"data row8 col10\" >0</td>\n",
       "      <td id=\"T_8a5e2_row8_col11\" class=\"data row8 col11\" >protein</td>\n",
       "      <td id=\"T_8a5e2_row8_col12\" class=\"data row8 col12\" >0</td>\n",
       "      <td id=\"T_8a5e2_row8_col13\" class=\"data row8 col13\" >T4 lysozyme</td>\n",
       "    </tr>\n",
       "    <tr>\n",
       "      <td id=\"T_8a5e2_row9_col0\" class=\"data row9 col0\" >33</td>\n",
       "      <td id=\"T_8a5e2_row9_col1\" class=\"data row9 col1\" >34</td>\n",
       "      <td id=\"T_8a5e2_row9_col2\" class=\"data row9 col2\" >CE2</td>\n",
       "      <td id=\"T_8a5e2_row9_col3\" class=\"data row9 col3\" >C</td>\n",
       "      <td id=\"T_8a5e2_row9_col4\" class=\"data row9 col4\" >3</td>\n",
       "      <td id=\"T_8a5e2_row9_col5\" class=\"data row9 col5\" >4</td>\n",
       "      <td id=\"T_8a5e2_row9_col6\" class=\"data row9 col6\" >PHE</td>\n",
       "      <td id=\"T_8a5e2_row9_col7\" class=\"data row9 col7\" >aminoacid</td>\n",
       "      <td id=\"T_8a5e2_row9_col8\" class=\"data row9 col8\" >0</td>\n",
       "      <td id=\"T_8a5e2_row9_col9\" class=\"data row9 col9\" >0</td>\n",
       "      <td id=\"T_8a5e2_row9_col10\" class=\"data row9 col10\" >0</td>\n",
       "      <td id=\"T_8a5e2_row9_col11\" class=\"data row9 col11\" >protein</td>\n",
       "      <td id=\"T_8a5e2_row9_col12\" class=\"data row9 col12\" >0</td>\n",
       "      <td id=\"T_8a5e2_row9_col13\" class=\"data row9 col13\" >T4 lysozyme</td>\n",
       "    </tr>\n",
       "    <tr>\n",
       "      <td id=\"T_8a5e2_row10_col0\" class=\"data row10 col0\" >34</td>\n",
       "      <td id=\"T_8a5e2_row10_col1\" class=\"data row10 col1\" >35</td>\n",
       "      <td id=\"T_8a5e2_row10_col2\" class=\"data row10 col2\" >CZ</td>\n",
       "      <td id=\"T_8a5e2_row10_col3\" class=\"data row10 col3\" >C</td>\n",
       "      <td id=\"T_8a5e2_row10_col4\" class=\"data row10 col4\" >3</td>\n",
       "      <td id=\"T_8a5e2_row10_col5\" class=\"data row10 col5\" >4</td>\n",
       "      <td id=\"T_8a5e2_row10_col6\" class=\"data row10 col6\" >PHE</td>\n",
       "      <td id=\"T_8a5e2_row10_col7\" class=\"data row10 col7\" >aminoacid</td>\n",
       "      <td id=\"T_8a5e2_row10_col8\" class=\"data row10 col8\" >0</td>\n",
       "      <td id=\"T_8a5e2_row10_col9\" class=\"data row10 col9\" >0</td>\n",
       "      <td id=\"T_8a5e2_row10_col10\" class=\"data row10 col10\" >0</td>\n",
       "      <td id=\"T_8a5e2_row10_col11\" class=\"data row10 col11\" >protein</td>\n",
       "      <td id=\"T_8a5e2_row10_col12\" class=\"data row10 col12\" >0</td>\n",
       "      <td id=\"T_8a5e2_row10_col13\" class=\"data row10 col13\" >T4 lysozyme</td>\n",
       "    </tr>\n",
       "    <tr>\n",
       "      <td id=\"T_8a5e2_row11_col0\" class=\"data row11 col0\" >35</td>\n",
       "      <td id=\"T_8a5e2_row11_col1\" class=\"data row11 col1\" >36</td>\n",
       "      <td id=\"T_8a5e2_row11_col2\" class=\"data row11 col2\" >N</td>\n",
       "      <td id=\"T_8a5e2_row11_col3\" class=\"data row11 col3\" >N</td>\n",
       "      <td id=\"T_8a5e2_row11_col4\" class=\"data row11 col4\" >4</td>\n",
       "      <td id=\"T_8a5e2_row11_col5\" class=\"data row11 col5\" >5</td>\n",
       "      <td id=\"T_8a5e2_row11_col6\" class=\"data row11 col6\" >GLU</td>\n",
       "      <td id=\"T_8a5e2_row11_col7\" class=\"data row11 col7\" >aminoacid</td>\n",
       "      <td id=\"T_8a5e2_row11_col8\" class=\"data row11 col8\" >0</td>\n",
       "      <td id=\"T_8a5e2_row11_col9\" class=\"data row11 col9\" >0</td>\n",
       "      <td id=\"T_8a5e2_row11_col10\" class=\"data row11 col10\" >0</td>\n",
       "      <td id=\"T_8a5e2_row11_col11\" class=\"data row11 col11\" >protein</td>\n",
       "      <td id=\"T_8a5e2_row11_col12\" class=\"data row11 col12\" >0</td>\n",
       "      <td id=\"T_8a5e2_row11_col13\" class=\"data row11 col13\" >T4 lysozyme</td>\n",
       "    </tr>\n",
       "    <tr>\n",
       "      <td id=\"T_8a5e2_row12_col0\" class=\"data row12 col0\" >36</td>\n",
       "      <td id=\"T_8a5e2_row12_col1\" class=\"data row12 col1\" >37</td>\n",
       "      <td id=\"T_8a5e2_row12_col2\" class=\"data row12 col2\" >CA</td>\n",
       "      <td id=\"T_8a5e2_row12_col3\" class=\"data row12 col3\" >C</td>\n",
       "      <td id=\"T_8a5e2_row12_col4\" class=\"data row12 col4\" >4</td>\n",
       "      <td id=\"T_8a5e2_row12_col5\" class=\"data row12 col5\" >5</td>\n",
       "      <td id=\"T_8a5e2_row12_col6\" class=\"data row12 col6\" >GLU</td>\n",
       "      <td id=\"T_8a5e2_row12_col7\" class=\"data row12 col7\" >aminoacid</td>\n",
       "      <td id=\"T_8a5e2_row12_col8\" class=\"data row12 col8\" >0</td>\n",
       "      <td id=\"T_8a5e2_row12_col9\" class=\"data row12 col9\" >0</td>\n",
       "      <td id=\"T_8a5e2_row12_col10\" class=\"data row12 col10\" >0</td>\n",
       "      <td id=\"T_8a5e2_row12_col11\" class=\"data row12 col11\" >protein</td>\n",
       "      <td id=\"T_8a5e2_row12_col12\" class=\"data row12 col12\" >0</td>\n",
       "      <td id=\"T_8a5e2_row12_col13\" class=\"data row12 col13\" >T4 lysozyme</td>\n",
       "    </tr>\n",
       "    <tr>\n",
       "      <td id=\"T_8a5e2_row13_col0\" class=\"data row13 col0\" >37</td>\n",
       "      <td id=\"T_8a5e2_row13_col1\" class=\"data row13 col1\" >38</td>\n",
       "      <td id=\"T_8a5e2_row13_col2\" class=\"data row13 col2\" >C</td>\n",
       "      <td id=\"T_8a5e2_row13_col3\" class=\"data row13 col3\" >C</td>\n",
       "      <td id=\"T_8a5e2_row13_col4\" class=\"data row13 col4\" >4</td>\n",
       "      <td id=\"T_8a5e2_row13_col5\" class=\"data row13 col5\" >5</td>\n",
       "      <td id=\"T_8a5e2_row13_col6\" class=\"data row13 col6\" >GLU</td>\n",
       "      <td id=\"T_8a5e2_row13_col7\" class=\"data row13 col7\" >aminoacid</td>\n",
       "      <td id=\"T_8a5e2_row13_col8\" class=\"data row13 col8\" >0</td>\n",
       "      <td id=\"T_8a5e2_row13_col9\" class=\"data row13 col9\" >0</td>\n",
       "      <td id=\"T_8a5e2_row13_col10\" class=\"data row13 col10\" >0</td>\n",
       "      <td id=\"T_8a5e2_row13_col11\" class=\"data row13 col11\" >protein</td>\n",
       "      <td id=\"T_8a5e2_row13_col12\" class=\"data row13 col12\" >0</td>\n",
       "      <td id=\"T_8a5e2_row13_col13\" class=\"data row13 col13\" >T4 lysozyme</td>\n",
       "    </tr>\n",
       "    <tr>\n",
       "      <td id=\"T_8a5e2_row14_col0\" class=\"data row14 col0\" >38</td>\n",
       "      <td id=\"T_8a5e2_row14_col1\" class=\"data row14 col1\" >39</td>\n",
       "      <td id=\"T_8a5e2_row14_col2\" class=\"data row14 col2\" >O</td>\n",
       "      <td id=\"T_8a5e2_row14_col3\" class=\"data row14 col3\" >O</td>\n",
       "      <td id=\"T_8a5e2_row14_col4\" class=\"data row14 col4\" >4</td>\n",
       "      <td id=\"T_8a5e2_row14_col5\" class=\"data row14 col5\" >5</td>\n",
       "      <td id=\"T_8a5e2_row14_col6\" class=\"data row14 col6\" >GLU</td>\n",
       "      <td id=\"T_8a5e2_row14_col7\" class=\"data row14 col7\" >aminoacid</td>\n",
       "      <td id=\"T_8a5e2_row14_col8\" class=\"data row14 col8\" >0</td>\n",
       "      <td id=\"T_8a5e2_row14_col9\" class=\"data row14 col9\" >0</td>\n",
       "      <td id=\"T_8a5e2_row14_col10\" class=\"data row14 col10\" >0</td>\n",
       "      <td id=\"T_8a5e2_row14_col11\" class=\"data row14 col11\" >protein</td>\n",
       "      <td id=\"T_8a5e2_row14_col12\" class=\"data row14 col12\" >0</td>\n",
       "      <td id=\"T_8a5e2_row14_col13\" class=\"data row14 col13\" >T4 lysozyme</td>\n",
       "    </tr>\n",
       "    <tr>\n",
       "      <td id=\"T_8a5e2_row15_col0\" class=\"data row15 col0\" >39</td>\n",
       "      <td id=\"T_8a5e2_row15_col1\" class=\"data row15 col1\" >40</td>\n",
       "      <td id=\"T_8a5e2_row15_col2\" class=\"data row15 col2\" >CB</td>\n",
       "      <td id=\"T_8a5e2_row15_col3\" class=\"data row15 col3\" >C</td>\n",
       "      <td id=\"T_8a5e2_row15_col4\" class=\"data row15 col4\" >4</td>\n",
       "      <td id=\"T_8a5e2_row15_col5\" class=\"data row15 col5\" >5</td>\n",
       "      <td id=\"T_8a5e2_row15_col6\" class=\"data row15 col6\" >GLU</td>\n",
       "      <td id=\"T_8a5e2_row15_col7\" class=\"data row15 col7\" >aminoacid</td>\n",
       "      <td id=\"T_8a5e2_row15_col8\" class=\"data row15 col8\" >0</td>\n",
       "      <td id=\"T_8a5e2_row15_col9\" class=\"data row15 col9\" >0</td>\n",
       "      <td id=\"T_8a5e2_row15_col10\" class=\"data row15 col10\" >0</td>\n",
       "      <td id=\"T_8a5e2_row15_col11\" class=\"data row15 col11\" >protein</td>\n",
       "      <td id=\"T_8a5e2_row15_col12\" class=\"data row15 col12\" >0</td>\n",
       "      <td id=\"T_8a5e2_row15_col13\" class=\"data row15 col13\" >T4 lysozyme</td>\n",
       "    </tr>\n",
       "    <tr>\n",
       "      <td id=\"T_8a5e2_row16_col0\" class=\"data row16 col0\" >40</td>\n",
       "      <td id=\"T_8a5e2_row16_col1\" class=\"data row16 col1\" >41</td>\n",
       "      <td id=\"T_8a5e2_row16_col2\" class=\"data row16 col2\" >CG</td>\n",
       "      <td id=\"T_8a5e2_row16_col3\" class=\"data row16 col3\" >C</td>\n",
       "      <td id=\"T_8a5e2_row16_col4\" class=\"data row16 col4\" >4</td>\n",
       "      <td id=\"T_8a5e2_row16_col5\" class=\"data row16 col5\" >5</td>\n",
       "      <td id=\"T_8a5e2_row16_col6\" class=\"data row16 col6\" >GLU</td>\n",
       "      <td id=\"T_8a5e2_row16_col7\" class=\"data row16 col7\" >aminoacid</td>\n",
       "      <td id=\"T_8a5e2_row16_col8\" class=\"data row16 col8\" >0</td>\n",
       "      <td id=\"T_8a5e2_row16_col9\" class=\"data row16 col9\" >0</td>\n",
       "      <td id=\"T_8a5e2_row16_col10\" class=\"data row16 col10\" >0</td>\n",
       "      <td id=\"T_8a5e2_row16_col11\" class=\"data row16 col11\" >protein</td>\n",
       "      <td id=\"T_8a5e2_row16_col12\" class=\"data row16 col12\" >0</td>\n",
       "      <td id=\"T_8a5e2_row16_col13\" class=\"data row16 col13\" >T4 lysozyme</td>\n",
       "    </tr>\n",
       "    <tr>\n",
       "      <td id=\"T_8a5e2_row17_col0\" class=\"data row17 col0\" >41</td>\n",
       "      <td id=\"T_8a5e2_row17_col1\" class=\"data row17 col1\" >42</td>\n",
       "      <td id=\"T_8a5e2_row17_col2\" class=\"data row17 col2\" >CD</td>\n",
       "      <td id=\"T_8a5e2_row17_col3\" class=\"data row17 col3\" >C</td>\n",
       "      <td id=\"T_8a5e2_row17_col4\" class=\"data row17 col4\" >4</td>\n",
       "      <td id=\"T_8a5e2_row17_col5\" class=\"data row17 col5\" >5</td>\n",
       "      <td id=\"T_8a5e2_row17_col6\" class=\"data row17 col6\" >GLU</td>\n",
       "      <td id=\"T_8a5e2_row17_col7\" class=\"data row17 col7\" >aminoacid</td>\n",
       "      <td id=\"T_8a5e2_row17_col8\" class=\"data row17 col8\" >0</td>\n",
       "      <td id=\"T_8a5e2_row17_col9\" class=\"data row17 col9\" >0</td>\n",
       "      <td id=\"T_8a5e2_row17_col10\" class=\"data row17 col10\" >0</td>\n",
       "      <td id=\"T_8a5e2_row17_col11\" class=\"data row17 col11\" >protein</td>\n",
       "      <td id=\"T_8a5e2_row17_col12\" class=\"data row17 col12\" >0</td>\n",
       "      <td id=\"T_8a5e2_row17_col13\" class=\"data row17 col13\" >T4 lysozyme</td>\n",
       "    </tr>\n",
       "    <tr>\n",
       "      <td id=\"T_8a5e2_row18_col0\" class=\"data row18 col0\" >42</td>\n",
       "      <td id=\"T_8a5e2_row18_col1\" class=\"data row18 col1\" >43</td>\n",
       "      <td id=\"T_8a5e2_row18_col2\" class=\"data row18 col2\" >OE1</td>\n",
       "      <td id=\"T_8a5e2_row18_col3\" class=\"data row18 col3\" >O</td>\n",
       "      <td id=\"T_8a5e2_row18_col4\" class=\"data row18 col4\" >4</td>\n",
       "      <td id=\"T_8a5e2_row18_col5\" class=\"data row18 col5\" >5</td>\n",
       "      <td id=\"T_8a5e2_row18_col6\" class=\"data row18 col6\" >GLU</td>\n",
       "      <td id=\"T_8a5e2_row18_col7\" class=\"data row18 col7\" >aminoacid</td>\n",
       "      <td id=\"T_8a5e2_row18_col8\" class=\"data row18 col8\" >0</td>\n",
       "      <td id=\"T_8a5e2_row18_col9\" class=\"data row18 col9\" >0</td>\n",
       "      <td id=\"T_8a5e2_row18_col10\" class=\"data row18 col10\" >0</td>\n",
       "      <td id=\"T_8a5e2_row18_col11\" class=\"data row18 col11\" >protein</td>\n",
       "      <td id=\"T_8a5e2_row18_col12\" class=\"data row18 col12\" >0</td>\n",
       "      <td id=\"T_8a5e2_row18_col13\" class=\"data row18 col13\" >T4 lysozyme</td>\n",
       "    </tr>\n",
       "    <tr>\n",
       "      <td id=\"T_8a5e2_row19_col0\" class=\"data row19 col0\" >43</td>\n",
       "      <td id=\"T_8a5e2_row19_col1\" class=\"data row19 col1\" >44</td>\n",
       "      <td id=\"T_8a5e2_row19_col2\" class=\"data row19 col2\" >OE2</td>\n",
       "      <td id=\"T_8a5e2_row19_col3\" class=\"data row19 col3\" >O</td>\n",
       "      <td id=\"T_8a5e2_row19_col4\" class=\"data row19 col4\" >4</td>\n",
       "      <td id=\"T_8a5e2_row19_col5\" class=\"data row19 col5\" >5</td>\n",
       "      <td id=\"T_8a5e2_row19_col6\" class=\"data row19 col6\" >GLU</td>\n",
       "      <td id=\"T_8a5e2_row19_col7\" class=\"data row19 col7\" >aminoacid</td>\n",
       "      <td id=\"T_8a5e2_row19_col8\" class=\"data row19 col8\" >0</td>\n",
       "      <td id=\"T_8a5e2_row19_col9\" class=\"data row19 col9\" >0</td>\n",
       "      <td id=\"T_8a5e2_row19_col10\" class=\"data row19 col10\" >0</td>\n",
       "      <td id=\"T_8a5e2_row19_col11\" class=\"data row19 col11\" >protein</td>\n",
       "      <td id=\"T_8a5e2_row19_col12\" class=\"data row19 col12\" >0</td>\n",
       "      <td id=\"T_8a5e2_row19_col13\" class=\"data row19 col13\" >T4 lysozyme</td>\n",
       "    </tr>\n",
       "  </tbody>\n",
       "</table>\n"
      ],
      "text/plain": [
       "<pandas.io.formats.style.Styler at 0x7fc5f07c49d0>"
      ]
     },
     "execution_count": 37,
     "metadata": {},
     "output_type": "execute_result"
    }
   ],
   "source": [
    "msm.info(molecular_system, element='atom', selection='group_index==[3,4]')"
   ]
  },
  {
   "cell_type": "code",
   "execution_count": 38,
   "metadata": {},
   "outputs": [
    {
     "name": "stdout",
     "output_type": "stream",
     "text": [
      "['atom_name==\"N\"', 'atom_name==\"CA\"', 'atom_name==\"C\"', 'atom_name==\"N\"']\n"
     ]
    },
    {
     "data": {
      "text/plain": [
       "array([], dtype=int64)"
      ]
     },
     "execution_count": 38,
     "metadata": {},
     "output_type": "execute_result"
    }
   ],
   "source": [
    "msm.topology.get_dihedral_quartets(molecular_system, dihedral_angle='psi', selection='group_index==[3,4]')"
   ]
  },
  {
   "cell_type": "code",
   "execution_count": 41,
   "metadata": {},
   "outputs": [
    {
     "ename": "IndexError",
     "evalue": "positional indexers are out-of-bounds",
     "output_type": "error",
     "traceback": [
      "\u001b[0;31m---------------------------------------------------------------------------\u001b[0m",
      "\u001b[0;31mIndexError\u001b[0m                                Traceback (most recent call last)",
      "File \u001b[0;32m~/MyMachine/locals/miniconda3/envs/MolSysMT@dprada_3.9/lib/python3.9/site-packages/pandas/core/indexing.py:1482\u001b[0m, in \u001b[0;36m_iLocIndexer._get_list_axis\u001b[0;34m(self, key, axis)\u001b[0m\n\u001b[1;32m   1481\u001b[0m \u001b[38;5;28;01mtry\u001b[39;00m:\n\u001b[0;32m-> 1482\u001b[0m     \u001b[38;5;28;01mreturn\u001b[39;00m \u001b[38;5;28;43mself\u001b[39;49m\u001b[38;5;241;43m.\u001b[39;49m\u001b[43mobj\u001b[49m\u001b[38;5;241;43m.\u001b[39;49m\u001b[43m_take_with_is_copy\u001b[49m\u001b[43m(\u001b[49m\u001b[43mkey\u001b[49m\u001b[43m,\u001b[49m\u001b[43m \u001b[49m\u001b[43maxis\u001b[49m\u001b[38;5;241;43m=\u001b[39;49m\u001b[43maxis\u001b[49m\u001b[43m)\u001b[49m\n\u001b[1;32m   1483\u001b[0m \u001b[38;5;28;01mexcept\u001b[39;00m \u001b[38;5;167;01mIndexError\u001b[39;00m \u001b[38;5;28;01mas\u001b[39;00m err:\n\u001b[1;32m   1484\u001b[0m     \u001b[38;5;66;03m# re-raise with different error message\u001b[39;00m\n",
      "File \u001b[0;32m~/MyMachine/locals/miniconda3/envs/MolSysMT@dprada_3.9/lib/python3.9/site-packages/pandas/core/generic.py:3716\u001b[0m, in \u001b[0;36mNDFrame._take_with_is_copy\u001b[0;34m(self, indices, axis)\u001b[0m\n\u001b[1;32m   3709\u001b[0m \u001b[38;5;124;03m\"\"\"\u001b[39;00m\n\u001b[1;32m   3710\u001b[0m \u001b[38;5;124;03mInternal version of the `take` method that sets the `_is_copy`\u001b[39;00m\n\u001b[1;32m   3711\u001b[0m \u001b[38;5;124;03mattribute to keep track of the parent dataframe (using in indexing\u001b[39;00m\n\u001b[0;32m   (...)\u001b[0m\n\u001b[1;32m   3714\u001b[0m \u001b[38;5;124;03mSee the docstring of `take` for full explanation of the parameters.\u001b[39;00m\n\u001b[1;32m   3715\u001b[0m \u001b[38;5;124;03m\"\"\"\u001b[39;00m\n\u001b[0;32m-> 3716\u001b[0m result \u001b[38;5;241m=\u001b[39m \u001b[38;5;28;43mself\u001b[39;49m\u001b[38;5;241;43m.\u001b[39;49m\u001b[43mtake\u001b[49m\u001b[43m(\u001b[49m\u001b[43mindices\u001b[49m\u001b[38;5;241;43m=\u001b[39;49m\u001b[43mindices\u001b[49m\u001b[43m,\u001b[49m\u001b[43m \u001b[49m\u001b[43maxis\u001b[49m\u001b[38;5;241;43m=\u001b[39;49m\u001b[43maxis\u001b[49m\u001b[43m)\u001b[49m\n\u001b[1;32m   3717\u001b[0m \u001b[38;5;66;03m# Maybe set copy if we didn't actually change the index.\u001b[39;00m\n",
      "File \u001b[0;32m~/MyMachine/locals/miniconda3/envs/MolSysMT@dprada_3.9/lib/python3.9/site-packages/pandas/core/generic.py:3703\u001b[0m, in \u001b[0;36mNDFrame.take\u001b[0;34m(self, indices, axis, is_copy, **kwargs)\u001b[0m\n\u001b[1;32m   3701\u001b[0m \u001b[38;5;28mself\u001b[39m\u001b[38;5;241m.\u001b[39m_consolidate_inplace()\n\u001b[0;32m-> 3703\u001b[0m new_data \u001b[38;5;241m=\u001b[39m \u001b[38;5;28;43mself\u001b[39;49m\u001b[38;5;241;43m.\u001b[39;49m\u001b[43m_mgr\u001b[49m\u001b[38;5;241;43m.\u001b[39;49m\u001b[43mtake\u001b[49m\u001b[43m(\u001b[49m\n\u001b[1;32m   3704\u001b[0m \u001b[43m    \u001b[49m\u001b[43mindices\u001b[49m\u001b[43m,\u001b[49m\u001b[43m \u001b[49m\u001b[43maxis\u001b[49m\u001b[38;5;241;43m=\u001b[39;49m\u001b[38;5;28;43mself\u001b[39;49m\u001b[38;5;241;43m.\u001b[39;49m\u001b[43m_get_block_manager_axis\u001b[49m\u001b[43m(\u001b[49m\u001b[43maxis\u001b[49m\u001b[43m)\u001b[49m\u001b[43m,\u001b[49m\u001b[43m \u001b[49m\u001b[43mverify\u001b[49m\u001b[38;5;241;43m=\u001b[39;49m\u001b[38;5;28;43;01mTrue\u001b[39;49;00m\n\u001b[1;32m   3705\u001b[0m \u001b[43m\u001b[49m\u001b[43m)\u001b[49m\n\u001b[1;32m   3706\u001b[0m \u001b[38;5;28;01mreturn\u001b[39;00m \u001b[38;5;28mself\u001b[39m\u001b[38;5;241m.\u001b[39m_constructor(new_data)\u001b[38;5;241m.\u001b[39m__finalize__(\u001b[38;5;28mself\u001b[39m, method\u001b[38;5;241m=\u001b[39m\u001b[38;5;124m\"\u001b[39m\u001b[38;5;124mtake\u001b[39m\u001b[38;5;124m\"\u001b[39m)\n",
      "File \u001b[0;32m~/MyMachine/locals/miniconda3/envs/MolSysMT@dprada_3.9/lib/python3.9/site-packages/pandas/core/internals/managers.py:897\u001b[0m, in \u001b[0;36mBaseBlockManager.take\u001b[0;34m(self, indexer, axis, verify)\u001b[0m\n\u001b[1;32m    896\u001b[0m n \u001b[38;5;241m=\u001b[39m \u001b[38;5;28mself\u001b[39m\u001b[38;5;241m.\u001b[39mshape[axis]\n\u001b[0;32m--> 897\u001b[0m indexer \u001b[38;5;241m=\u001b[39m \u001b[43mmaybe_convert_indices\u001b[49m\u001b[43m(\u001b[49m\u001b[43mindexer\u001b[49m\u001b[43m,\u001b[49m\u001b[43m \u001b[49m\u001b[43mn\u001b[49m\u001b[43m,\u001b[49m\u001b[43m \u001b[49m\u001b[43mverify\u001b[49m\u001b[38;5;241;43m=\u001b[39;49m\u001b[43mverify\u001b[49m\u001b[43m)\u001b[49m\n\u001b[1;32m    899\u001b[0m new_labels \u001b[38;5;241m=\u001b[39m \u001b[38;5;28mself\u001b[39m\u001b[38;5;241m.\u001b[39maxes[axis]\u001b[38;5;241m.\u001b[39mtake(indexer)\n",
      "File \u001b[0;32m~/MyMachine/locals/miniconda3/envs/MolSysMT@dprada_3.9/lib/python3.9/site-packages/pandas/core/indexers/utils.py:292\u001b[0m, in \u001b[0;36mmaybe_convert_indices\u001b[0;34m(indices, n, verify)\u001b[0m\n\u001b[1;32m    291\u001b[0m     \u001b[38;5;28;01mif\u001b[39;00m mask\u001b[38;5;241m.\u001b[39many():\n\u001b[0;32m--> 292\u001b[0m         \u001b[38;5;28;01mraise\u001b[39;00m \u001b[38;5;167;01mIndexError\u001b[39;00m(\u001b[38;5;124m\"\u001b[39m\u001b[38;5;124mindices are out-of-bounds\u001b[39m\u001b[38;5;124m\"\u001b[39m)\n\u001b[1;32m    293\u001b[0m \u001b[38;5;28;01mreturn\u001b[39;00m indices\n",
      "\u001b[0;31mIndexError\u001b[0m: indices are out-of-bounds",
      "\nThe above exception was the direct cause of the following exception:\n",
      "\u001b[0;31mIndexError\u001b[0m                                Traceback (most recent call last)",
      "Input \u001b[0;32mIn [41]\u001b[0m, in \u001b[0;36m<cell line: 1>\u001b[0;34m()\u001b[0m\n\u001b[0;32m----> 1\u001b[0m \u001b[43mmsm\u001b[49m\u001b[38;5;241;43m.\u001b[39;49m\u001b[43mtopology\u001b[49m\u001b[38;5;241;43m.\u001b[39;49m\u001b[43mget_covalent_chains\u001b[49m\u001b[43m(\u001b[49m\u001b[43mmolecular_system\u001b[49m\u001b[43m,\u001b[49m\u001b[43m \u001b[49m\u001b[43mchain\u001b[49m\u001b[38;5;241;43m=\u001b[39;49m\u001b[43m[\u001b[49m\u001b[38;5;124;43m'\u001b[39;49m\u001b[38;5;124;43matom_name==\u001b[39;49m\u001b[38;5;124;43m\"\u001b[39;49m\u001b[38;5;124;43mN\u001b[39;49m\u001b[38;5;124;43m\"\u001b[39;49m\u001b[38;5;124;43m'\u001b[39;49m\u001b[43m,\u001b[49m\u001b[43m \u001b[49m\u001b[38;5;124;43m'\u001b[39;49m\u001b[38;5;124;43matom_name==\u001b[39;49m\u001b[38;5;124;43m\"\u001b[39;49m\u001b[38;5;124;43mCA\u001b[39;49m\u001b[38;5;124;43m\"\u001b[39;49m\u001b[38;5;124;43m'\u001b[39;49m\u001b[43m,\u001b[49m\u001b[43m \u001b[49m\u001b[38;5;124;43m'\u001b[39;49m\u001b[38;5;124;43matom_name==\u001b[39;49m\u001b[38;5;124;43m\"\u001b[39;49m\u001b[38;5;124;43mC\u001b[39;49m\u001b[38;5;124;43m\"\u001b[39;49m\u001b[38;5;124;43m'\u001b[39;49m\u001b[43m,\u001b[49m\u001b[43m \u001b[49m\u001b[38;5;124;43m'\u001b[39;49m\u001b[38;5;124;43matom_name==\u001b[39;49m\u001b[38;5;124;43m\"\u001b[39;49m\u001b[38;5;124;43mN\u001b[39;49m\u001b[38;5;124;43m\"\u001b[39;49m\u001b[38;5;124;43m'\u001b[39;49m\u001b[43m]\u001b[49m\u001b[43m)\u001b[49m\n",
      "File \u001b[0;32m~/projects@dprada/MolSysMT/molsysmt/_private/digestion/digest.py:119\u001b[0m, in \u001b[0;36mdigest.<locals>.digestor.<locals>.wrapper\u001b[0;34m(*args, **kwargs)\u001b[0m\n\u001b[1;32m    117\u001b[0m     \u001b[38;5;28;01mreturn\u001b[39;00m auxiliary_output\n\u001b[1;32m    118\u001b[0m \u001b[38;5;28;01melse\u001b[39;00m:\n\u001b[0;32m--> 119\u001b[0m     \u001b[38;5;28;01mreturn\u001b[39;00m \u001b[43mfunc\u001b[49m\u001b[43m(\u001b[49m\u001b[38;5;241;43m*\u001b[39;49m\u001b[38;5;241;43m*\u001b[39;49m\u001b[43mfinal_args\u001b[49m\u001b[43m)\u001b[49m\n",
      "File \u001b[0;32m~/projects@dprada/MolSysMT/molsysmt/topology/get_covalent_chains.py:24\u001b[0m, in \u001b[0;36mget_covalent_chains\u001b[0;34m(molecular_system, chain, selection, syntax)\u001b[0m\n\u001b[1;32m     20\u001b[0m     chain_atom_indices\u001b[38;5;241m.\u001b[39mappend(atom_indices)\n\u001b[1;32m     22\u001b[0m atom_indices \u001b[38;5;241m=\u001b[39m np\u001b[38;5;241m.\u001b[39msort(np\u001b[38;5;241m.\u001b[39munique(np\u001b[38;5;241m.\u001b[39mconcatenate(chain_atom_indices)))\n\u001b[0;32m---> 24\u001b[0m graph \u001b[38;5;241m=\u001b[39m \u001b[43mget_bondgraph\u001b[49m\u001b[43m(\u001b[49m\u001b[43mmolecular_system\u001b[49m\u001b[43m,\u001b[49m\u001b[43m \u001b[49m\u001b[43mselection\u001b[49m\u001b[38;5;241;43m=\u001b[39;49m\u001b[43matom_indices\u001b[49m\u001b[43m,\u001b[49m\u001b[43m \u001b[49m\u001b[43mnodes_name\u001b[49m\u001b[38;5;241;43m=\u001b[39;49m\u001b[38;5;124;43m'\u001b[39;49m\u001b[38;5;124;43matom_index\u001b[39;49m\u001b[38;5;124;43m'\u001b[39;49m\u001b[43m)\u001b[49m\n\u001b[1;32m     26\u001b[0m n_slaves \u001b[38;5;241m=\u001b[39m \u001b[38;5;28mlen\u001b[39m(chain_atom_indices)\n\u001b[1;32m     28\u001b[0m output \u001b[38;5;241m=\u001b[39m [[ii] \u001b[38;5;28;01mfor\u001b[39;00m ii \u001b[38;5;129;01min\u001b[39;00m chain_atom_indices[\u001b[38;5;241m0\u001b[39m]]\n",
      "File \u001b[0;32m~/projects@dprada/MolSysMT/molsysmt/_private/digestion/digest.py:119\u001b[0m, in \u001b[0;36mdigest.<locals>.digestor.<locals>.wrapper\u001b[0;34m(*args, **kwargs)\u001b[0m\n\u001b[1;32m    117\u001b[0m     \u001b[38;5;28;01mreturn\u001b[39;00m auxiliary_output\n\u001b[1;32m    118\u001b[0m \u001b[38;5;28;01melse\u001b[39;00m:\n\u001b[0;32m--> 119\u001b[0m     \u001b[38;5;28;01mreturn\u001b[39;00m \u001b[43mfunc\u001b[49m\u001b[43m(\u001b[49m\u001b[38;5;241;43m*\u001b[39;49m\u001b[38;5;241;43m*\u001b[39;49m\u001b[43mfinal_args\u001b[49m\u001b[43m)\u001b[49m\n",
      "File \u001b[0;32m~/projects@dprada/MolSysMT/molsysmt/topology/get_bondgraph.py:25\u001b[0m, in \u001b[0;36mget_bondgraph\u001b[0;34m(molecular_system, nodes_name, selection, syntax, to_form)\u001b[0m\n\u001b[1;32m     21\u001b[0m G \u001b[38;5;241m=\u001b[39m Graph()\n\u001b[1;32m     23\u001b[0m \u001b[38;5;28;01mif\u001b[39;00m nodes_name \u001b[38;5;241m==\u001b[39m \u001b[38;5;124m'\u001b[39m\u001b[38;5;124matom_index\u001b[39m\u001b[38;5;124m'\u001b[39m:\n\u001b[0;32m---> 25\u001b[0m     atom_indices, bonded_atoms \u001b[38;5;241m=\u001b[39m \u001b[43mget\u001b[49m\u001b[43m(\u001b[49m\u001b[43mmolecular_system\u001b[49m\u001b[43m,\u001b[49m\u001b[43m \u001b[49m\u001b[43melement\u001b[49m\u001b[38;5;241;43m=\u001b[39;49m\u001b[38;5;124;43m'\u001b[39;49m\u001b[38;5;124;43matom\u001b[39;49m\u001b[38;5;124;43m'\u001b[39;49m\u001b[43m,\u001b[49m\u001b[43m \u001b[49m\u001b[43mselection\u001b[49m\u001b[38;5;241;43m=\u001b[39;49m\u001b[43mselection\u001b[49m\u001b[43m,\u001b[49m\u001b[43m \u001b[49m\u001b[43msyntax\u001b[49m\u001b[38;5;241;43m=\u001b[39;49m\u001b[43msyntax\u001b[49m\u001b[43m,\u001b[49m\n\u001b[1;32m     26\u001b[0m \u001b[43m                                     \u001b[49m\u001b[43matom_index\u001b[49m\u001b[38;5;241;43m=\u001b[39;49m\u001b[38;5;28;43;01mTrue\u001b[39;49;00m\u001b[43m,\u001b[49m\u001b[43m \u001b[49m\u001b[43minner_bonded_atoms\u001b[49m\u001b[38;5;241;43m=\u001b[39;49m\u001b[38;5;28;43;01mTrue\u001b[39;49;00m\u001b[43m)\u001b[49m\n\u001b[1;32m     28\u001b[0m     G\u001b[38;5;241m.\u001b[39madd_nodes_from(atom_indices)\n\u001b[1;32m     29\u001b[0m     G\u001b[38;5;241m.\u001b[39madd_edges_from(bonded_atoms)\n",
      "File \u001b[0;32m~/projects@dprada/MolSysMT/molsysmt/_private/digestion/digest.py:113\u001b[0m, in \u001b[0;36mdigest.<locals>.digestor.<locals>.wrapper\u001b[0;34m(*args, **kwargs)\u001b[0m\n\u001b[1;32m    110\u001b[0m final_args \u001b[38;5;241m=\u001b[39m digested_args\n\u001b[1;32m    112\u001b[0m \u001b[38;5;28;01mif\u001b[39;00m output:\n\u001b[0;32m--> 113\u001b[0m     auxiliary_output \u001b[38;5;241m=\u001b[39m \u001b[43mfunc\u001b[49m\u001b[43m(\u001b[49m\u001b[38;5;241;43m*\u001b[39;49m\u001b[38;5;241;43m*\u001b[39;49m\u001b[43mfinal_args\u001b[49m\u001b[43m)\u001b[49m\n\u001b[1;32m    114\u001b[0m     \u001b[38;5;28;01mif\u001b[39;00m \u001b[38;5;28misinstance\u001b[39m(auxiliary_output, (\u001b[38;5;28mlist\u001b[39m, \u001b[38;5;28mtuple\u001b[39m)):\n\u001b[1;32m    115\u001b[0m         \u001b[38;5;28;01mif\u001b[39;00m \u001b[38;5;28mlen\u001b[39m(auxiliary_output) \u001b[38;5;241m==\u001b[39m \u001b[38;5;241m1\u001b[39m:\n",
      "File \u001b[0;32m~/projects@dprada/MolSysMT/molsysmt/basic/get.py:98\u001b[0m, in \u001b[0;36mget\u001b[0;34m(molecular_system, element, indices, selection, structure_indices, syntax, **kwargs)\u001b[0m\n\u001b[1;32m     96\u001b[0m         result \u001b[38;5;241m=\u001b[39m \u001b[38;5;28;01mNone\u001b[39;00m\n\u001b[1;32m     97\u001b[0m     \u001b[38;5;28;01melse\u001b[39;00m:\n\u001b[0;32m---> 98\u001b[0m         result \u001b[38;5;241m=\u001b[39m \u001b[43mdict_get\u001b[49m\u001b[43m[\u001b[49m\u001b[43maux_form\u001b[49m\u001b[43m]\u001b[49m\u001b[43m[\u001b[49m\u001b[43melement\u001b[49m\u001b[43m]\u001b[49m\u001b[43m[\u001b[49m\u001b[43margument\u001b[49m\u001b[43m]\u001b[49m\u001b[43m(\u001b[49m\u001b[43maux_item\u001b[49m\u001b[43m,\u001b[49m\u001b[43m \u001b[49m\u001b[38;5;241;43m*\u001b[39;49m\u001b[38;5;241;43m*\u001b[39;49m\u001b[43mdict_indices\u001b[49m\u001b[43m)\u001b[49m\n\u001b[1;32m    100\u001b[0m     attributes\u001b[38;5;241m.\u001b[39mappend(result)\n\u001b[1;32m    102\u001b[0m \u001b[38;5;28;01mreturn\u001b[39;00m attributes\n",
      "File \u001b[0;32m~/projects@dprada/MolSysMT/molsysmt/_private/digestion/digest.py:119\u001b[0m, in \u001b[0;36mdigest.<locals>.digestor.<locals>.wrapper\u001b[0;34m(*args, **kwargs)\u001b[0m\n\u001b[1;32m    117\u001b[0m     \u001b[38;5;28;01mreturn\u001b[39;00m auxiliary_output\n\u001b[1;32m    118\u001b[0m \u001b[38;5;28;01melse\u001b[39;00m:\n\u001b[0;32m--> 119\u001b[0m     \u001b[38;5;28;01mreturn\u001b[39;00m \u001b[43mfunc\u001b[49m\u001b[43m(\u001b[49m\u001b[38;5;241;43m*\u001b[39;49m\u001b[38;5;241;43m*\u001b[39;49m\u001b[43mfinal_args\u001b[49m\u001b[43m)\u001b[49m\n",
      "File \u001b[0;32m~/projects@dprada/MolSysMT/molsysmt/item/molsysmt_MolSys/get.py:216\u001b[0m, in \u001b[0;36mget_inner_bonded_atoms_from_atom\u001b[0;34m(item, indices)\u001b[0m\n\u001b[1;32m    212\u001b[0m \u001b[38;5;129m@digest\u001b[39m(form\u001b[38;5;241m=\u001b[39mform)\n\u001b[1;32m    213\u001b[0m \u001b[38;5;28;01mdef\u001b[39;00m \u001b[38;5;21mget_inner_bonded_atoms_from_atom\u001b[39m (item, indices\u001b[38;5;241m=\u001b[39m\u001b[38;5;124m'\u001b[39m\u001b[38;5;124mall\u001b[39m\u001b[38;5;124m'\u001b[39m):\n\u001b[1;32m    215\u001b[0m     \u001b[38;5;28;01mfrom\u001b[39;00m \u001b[38;5;21;01m.\u001b[39;00m\u001b[38;5;21;01m.\u001b[39;00m\u001b[38;5;21;01mmolsysmt_Topology\u001b[39;00m \u001b[38;5;28;01mimport\u001b[39;00m get_inner_bonded_atoms_from_atom \u001b[38;5;28;01mas\u001b[39;00m aux_get\n\u001b[0;32m--> 216\u001b[0m     \u001b[38;5;28;01mreturn\u001b[39;00m \u001b[43maux_get\u001b[49m\u001b[43m(\u001b[49m\u001b[43mitem\u001b[49m\u001b[38;5;241;43m.\u001b[39;49m\u001b[43mtopology\u001b[49m\u001b[43m,\u001b[49m\u001b[43m \u001b[49m\u001b[43mindices\u001b[49m\u001b[38;5;241;43m=\u001b[39;49m\u001b[43mindices\u001b[49m\u001b[43m)\u001b[49m\n",
      "File \u001b[0;32m~/projects@dprada/MolSysMT/molsysmt/_private/digestion/digest.py:119\u001b[0m, in \u001b[0;36mdigest.<locals>.digestor.<locals>.wrapper\u001b[0;34m(*args, **kwargs)\u001b[0m\n\u001b[1;32m    117\u001b[0m     \u001b[38;5;28;01mreturn\u001b[39;00m auxiliary_output\n\u001b[1;32m    118\u001b[0m \u001b[38;5;28;01melse\u001b[39;00m:\n\u001b[0;32m--> 119\u001b[0m     \u001b[38;5;28;01mreturn\u001b[39;00m \u001b[43mfunc\u001b[49m\u001b[43m(\u001b[49m\u001b[38;5;241;43m*\u001b[39;49m\u001b[38;5;241;43m*\u001b[39;49m\u001b[43mfinal_args\u001b[49m\u001b[43m)\u001b[49m\n",
      "File \u001b[0;32m~/projects@dprada/MolSysMT/molsysmt/item/molsysmt_Topology/get.py:346\u001b[0m, in \u001b[0;36mget_inner_bonded_atoms_from_atom\u001b[0;34m(item, indices)\u001b[0m\n\u001b[1;32m    343\u001b[0m \u001b[38;5;28;01melse\u001b[39;00m:\n\u001b[1;32m    345\u001b[0m     bond_indices \u001b[38;5;241m=\u001b[39m get_inner_bond_index_from_atom (item, indices\u001b[38;5;241m=\u001b[39mindices)\n\u001b[0;32m--> 346\u001b[0m     output \u001b[38;5;241m=\u001b[39m \u001b[43mget_atom_index_from_bond\u001b[49m\u001b[43m(\u001b[49m\u001b[43mitem\u001b[49m\u001b[43m,\u001b[49m\u001b[43m \u001b[49m\u001b[43mindices\u001b[49m\u001b[38;5;241;43m=\u001b[39;49m\u001b[43mbond_indices\u001b[49m\u001b[43m)\u001b[49m\n\u001b[1;32m    347\u001b[0m     \u001b[38;5;28;01mdel\u001b[39;00m(bond_indices)\n\u001b[1;32m    349\u001b[0m \u001b[38;5;28;01mreturn\u001b[39;00m(output)\n",
      "File \u001b[0;32m~/projects@dprada/MolSysMT/molsysmt/_private/digestion/digest.py:119\u001b[0m, in \u001b[0;36mdigest.<locals>.digestor.<locals>.wrapper\u001b[0;34m(*args, **kwargs)\u001b[0m\n\u001b[1;32m    117\u001b[0m     \u001b[38;5;28;01mreturn\u001b[39;00m auxiliary_output\n\u001b[1;32m    118\u001b[0m \u001b[38;5;28;01melse\u001b[39;00m:\n\u001b[0;32m--> 119\u001b[0m     \u001b[38;5;28;01mreturn\u001b[39;00m \u001b[43mfunc\u001b[49m\u001b[43m(\u001b[49m\u001b[38;5;241;43m*\u001b[39;49m\u001b[38;5;241;43m*\u001b[39;49m\u001b[43mfinal_args\u001b[49m\u001b[43m)\u001b[49m\n",
      "File \u001b[0;32m~/projects@dprada/MolSysMT/molsysmt/item/molsysmt_Topology/get.py:2040\u001b[0m, in \u001b[0;36mget_atom_index_from_bond\u001b[0;34m(item, indices)\u001b[0m\n\u001b[1;32m   2038\u001b[0m     tmp_out \u001b[38;5;241m=\u001b[39m item\u001b[38;5;241m.\u001b[39mbonds_dataframe[[\u001b[38;5;124m'\u001b[39m\u001b[38;5;124matom1_index\u001b[39m\u001b[38;5;124m'\u001b[39m,\u001b[38;5;124m'\u001b[39m\u001b[38;5;124matom2_index\u001b[39m\u001b[38;5;124m'\u001b[39m]]\u001b[38;5;241m.\u001b[39mto_numpy(dtype\u001b[38;5;241m=\u001b[39m\u001b[38;5;28mint\u001b[39m, copy\u001b[38;5;241m=\u001b[39m\u001b[38;5;28;01mTrue\u001b[39;00m)\n\u001b[1;32m   2039\u001b[0m \u001b[38;5;28;01melse\u001b[39;00m:\n\u001b[0;32m-> 2040\u001b[0m     tmp_out \u001b[38;5;241m=\u001b[39m \u001b[43mitem\u001b[49m\u001b[38;5;241;43m.\u001b[39;49m\u001b[43mbonds_dataframe\u001b[49m\u001b[38;5;241;43m.\u001b[39;49m\u001b[43miloc\u001b[49m\u001b[43m[\u001b[49m\u001b[43mindices\u001b[49m\u001b[43m]\u001b[49m[[\u001b[38;5;124m'\u001b[39m\u001b[38;5;124matom1_index\u001b[39m\u001b[38;5;124m'\u001b[39m,\u001b[38;5;124m'\u001b[39m\u001b[38;5;124matom2_index\u001b[39m\u001b[38;5;124m'\u001b[39m]]\u001b[38;5;241m.\u001b[39mto_numpy(dtype\u001b[38;5;241m=\u001b[39m\u001b[38;5;28mint\u001b[39m, copy\u001b[38;5;241m=\u001b[39m\u001b[38;5;28;01mTrue\u001b[39;00m)\n\u001b[1;32m   2042\u001b[0m \u001b[38;5;28;01mreturn\u001b[39;00m tmp_out\n",
      "File \u001b[0;32m~/MyMachine/locals/miniconda3/envs/MolSysMT@dprada_3.9/lib/python3.9/site-packages/pandas/core/indexing.py:967\u001b[0m, in \u001b[0;36m_LocationIndexer.__getitem__\u001b[0;34m(self, key)\u001b[0m\n\u001b[1;32m    964\u001b[0m axis \u001b[38;5;241m=\u001b[39m \u001b[38;5;28mself\u001b[39m\u001b[38;5;241m.\u001b[39maxis \u001b[38;5;129;01mor\u001b[39;00m \u001b[38;5;241m0\u001b[39m\n\u001b[1;32m    966\u001b[0m maybe_callable \u001b[38;5;241m=\u001b[39m com\u001b[38;5;241m.\u001b[39mapply_if_callable(key, \u001b[38;5;28mself\u001b[39m\u001b[38;5;241m.\u001b[39mobj)\n\u001b[0;32m--> 967\u001b[0m \u001b[38;5;28;01mreturn\u001b[39;00m \u001b[38;5;28;43mself\u001b[39;49m\u001b[38;5;241;43m.\u001b[39;49m\u001b[43m_getitem_axis\u001b[49m\u001b[43m(\u001b[49m\u001b[43mmaybe_callable\u001b[49m\u001b[43m,\u001b[49m\u001b[43m \u001b[49m\u001b[43maxis\u001b[49m\u001b[38;5;241;43m=\u001b[39;49m\u001b[43maxis\u001b[49m\u001b[43m)\u001b[49m\n",
      "File \u001b[0;32m~/MyMachine/locals/miniconda3/envs/MolSysMT@dprada_3.9/lib/python3.9/site-packages/pandas/core/indexing.py:1511\u001b[0m, in \u001b[0;36m_iLocIndexer._getitem_axis\u001b[0;34m(self, key, axis)\u001b[0m\n\u001b[1;32m   1509\u001b[0m \u001b[38;5;66;03m# a list of integers\u001b[39;00m\n\u001b[1;32m   1510\u001b[0m \u001b[38;5;28;01melif\u001b[39;00m is_list_like_indexer(key):\n\u001b[0;32m-> 1511\u001b[0m     \u001b[38;5;28;01mreturn\u001b[39;00m \u001b[38;5;28;43mself\u001b[39;49m\u001b[38;5;241;43m.\u001b[39;49m\u001b[43m_get_list_axis\u001b[49m\u001b[43m(\u001b[49m\u001b[43mkey\u001b[49m\u001b[43m,\u001b[49m\u001b[43m \u001b[49m\u001b[43maxis\u001b[49m\u001b[38;5;241;43m=\u001b[39;49m\u001b[43maxis\u001b[49m\u001b[43m)\u001b[49m\n\u001b[1;32m   1513\u001b[0m \u001b[38;5;66;03m# a single integer\u001b[39;00m\n\u001b[1;32m   1514\u001b[0m \u001b[38;5;28;01melse\u001b[39;00m:\n\u001b[1;32m   1515\u001b[0m     key \u001b[38;5;241m=\u001b[39m item_from_zerodim(key)\n",
      "File \u001b[0;32m~/MyMachine/locals/miniconda3/envs/MolSysMT@dprada_3.9/lib/python3.9/site-packages/pandas/core/indexing.py:1485\u001b[0m, in \u001b[0;36m_iLocIndexer._get_list_axis\u001b[0;34m(self, key, axis)\u001b[0m\n\u001b[1;32m   1482\u001b[0m     \u001b[38;5;28;01mreturn\u001b[39;00m \u001b[38;5;28mself\u001b[39m\u001b[38;5;241m.\u001b[39mobj\u001b[38;5;241m.\u001b[39m_take_with_is_copy(key, axis\u001b[38;5;241m=\u001b[39maxis)\n\u001b[1;32m   1483\u001b[0m \u001b[38;5;28;01mexcept\u001b[39;00m \u001b[38;5;167;01mIndexError\u001b[39;00m \u001b[38;5;28;01mas\u001b[39;00m err:\n\u001b[1;32m   1484\u001b[0m     \u001b[38;5;66;03m# re-raise with different error message\u001b[39;00m\n\u001b[0;32m-> 1485\u001b[0m     \u001b[38;5;28;01mraise\u001b[39;00m \u001b[38;5;167;01mIndexError\u001b[39;00m(\u001b[38;5;124m\"\u001b[39m\u001b[38;5;124mpositional indexers are out-of-bounds\u001b[39m\u001b[38;5;124m\"\u001b[39m) \u001b[38;5;28;01mfrom\u001b[39;00m \u001b[38;5;21;01merr\u001b[39;00m\n",
      "\u001b[0;31mIndexError\u001b[0m: positional indexers are out-of-bounds"
     ]
    }
   ],
   "source": [
    "msm.topology.get_covalent_chains(molecular_system, chain=['atom_name==\"N\"', 'atom_name==\"CA\"', 'atom_name==\"C\"', 'atom_name==\"N\"'])"
   ]
  },
  {
   "cell_type": "code",
   "execution_count": 39,
   "metadata": {},
   "outputs": [
    {
     "name": "stdout",
     "output_type": "stream",
     "text": [
      "['atom_name==\"N\"', 'atom_name==\"CA\"', 'atom_name==\"C\"', 'atom_name==\"N\"']\n"
     ]
    },
    {
     "ename": "IndexError",
     "evalue": "positional indexers are out-of-bounds",
     "output_type": "error",
     "traceback": [
      "\u001b[0;31m---------------------------------------------------------------------------\u001b[0m",
      "\u001b[0;31mIndexError\u001b[0m                                Traceback (most recent call last)",
      "File \u001b[0;32m~/MyMachine/locals/miniconda3/envs/MolSysMT@dprada_3.9/lib/python3.9/site-packages/pandas/core/indexing.py:1482\u001b[0m, in \u001b[0;36m_iLocIndexer._get_list_axis\u001b[0;34m(self, key, axis)\u001b[0m\n\u001b[1;32m   1481\u001b[0m \u001b[38;5;28;01mtry\u001b[39;00m:\n\u001b[0;32m-> 1482\u001b[0m     \u001b[38;5;28;01mreturn\u001b[39;00m \u001b[38;5;28;43mself\u001b[39;49m\u001b[38;5;241;43m.\u001b[39;49m\u001b[43mobj\u001b[49m\u001b[38;5;241;43m.\u001b[39;49m\u001b[43m_take_with_is_copy\u001b[49m\u001b[43m(\u001b[49m\u001b[43mkey\u001b[49m\u001b[43m,\u001b[49m\u001b[43m \u001b[49m\u001b[43maxis\u001b[49m\u001b[38;5;241;43m=\u001b[39;49m\u001b[43maxis\u001b[49m\u001b[43m)\u001b[49m\n\u001b[1;32m   1483\u001b[0m \u001b[38;5;28;01mexcept\u001b[39;00m \u001b[38;5;167;01mIndexError\u001b[39;00m \u001b[38;5;28;01mas\u001b[39;00m err:\n\u001b[1;32m   1484\u001b[0m     \u001b[38;5;66;03m# re-raise with different error message\u001b[39;00m\n",
      "File \u001b[0;32m~/MyMachine/locals/miniconda3/envs/MolSysMT@dprada_3.9/lib/python3.9/site-packages/pandas/core/generic.py:3716\u001b[0m, in \u001b[0;36mNDFrame._take_with_is_copy\u001b[0;34m(self, indices, axis)\u001b[0m\n\u001b[1;32m   3709\u001b[0m \u001b[38;5;124;03m\"\"\"\u001b[39;00m\n\u001b[1;32m   3710\u001b[0m \u001b[38;5;124;03mInternal version of the `take` method that sets the `_is_copy`\u001b[39;00m\n\u001b[1;32m   3711\u001b[0m \u001b[38;5;124;03mattribute to keep track of the parent dataframe (using in indexing\u001b[39;00m\n\u001b[0;32m   (...)\u001b[0m\n\u001b[1;32m   3714\u001b[0m \u001b[38;5;124;03mSee the docstring of `take` for full explanation of the parameters.\u001b[39;00m\n\u001b[1;32m   3715\u001b[0m \u001b[38;5;124;03m\"\"\"\u001b[39;00m\n\u001b[0;32m-> 3716\u001b[0m result \u001b[38;5;241m=\u001b[39m \u001b[38;5;28;43mself\u001b[39;49m\u001b[38;5;241;43m.\u001b[39;49m\u001b[43mtake\u001b[49m\u001b[43m(\u001b[49m\u001b[43mindices\u001b[49m\u001b[38;5;241;43m=\u001b[39;49m\u001b[43mindices\u001b[49m\u001b[43m,\u001b[49m\u001b[43m \u001b[49m\u001b[43maxis\u001b[49m\u001b[38;5;241;43m=\u001b[39;49m\u001b[43maxis\u001b[49m\u001b[43m)\u001b[49m\n\u001b[1;32m   3717\u001b[0m \u001b[38;5;66;03m# Maybe set copy if we didn't actually change the index.\u001b[39;00m\n",
      "File \u001b[0;32m~/MyMachine/locals/miniconda3/envs/MolSysMT@dprada_3.9/lib/python3.9/site-packages/pandas/core/generic.py:3703\u001b[0m, in \u001b[0;36mNDFrame.take\u001b[0;34m(self, indices, axis, is_copy, **kwargs)\u001b[0m\n\u001b[1;32m   3701\u001b[0m \u001b[38;5;28mself\u001b[39m\u001b[38;5;241m.\u001b[39m_consolidate_inplace()\n\u001b[0;32m-> 3703\u001b[0m new_data \u001b[38;5;241m=\u001b[39m \u001b[38;5;28;43mself\u001b[39;49m\u001b[38;5;241;43m.\u001b[39;49m\u001b[43m_mgr\u001b[49m\u001b[38;5;241;43m.\u001b[39;49m\u001b[43mtake\u001b[49m\u001b[43m(\u001b[49m\n\u001b[1;32m   3704\u001b[0m \u001b[43m    \u001b[49m\u001b[43mindices\u001b[49m\u001b[43m,\u001b[49m\u001b[43m \u001b[49m\u001b[43maxis\u001b[49m\u001b[38;5;241;43m=\u001b[39;49m\u001b[38;5;28;43mself\u001b[39;49m\u001b[38;5;241;43m.\u001b[39;49m\u001b[43m_get_block_manager_axis\u001b[49m\u001b[43m(\u001b[49m\u001b[43maxis\u001b[49m\u001b[43m)\u001b[49m\u001b[43m,\u001b[49m\u001b[43m \u001b[49m\u001b[43mverify\u001b[49m\u001b[38;5;241;43m=\u001b[39;49m\u001b[38;5;28;43;01mTrue\u001b[39;49;00m\n\u001b[1;32m   3705\u001b[0m \u001b[43m\u001b[49m\u001b[43m)\u001b[49m\n\u001b[1;32m   3706\u001b[0m \u001b[38;5;28;01mreturn\u001b[39;00m \u001b[38;5;28mself\u001b[39m\u001b[38;5;241m.\u001b[39m_constructor(new_data)\u001b[38;5;241m.\u001b[39m__finalize__(\u001b[38;5;28mself\u001b[39m, method\u001b[38;5;241m=\u001b[39m\u001b[38;5;124m\"\u001b[39m\u001b[38;5;124mtake\u001b[39m\u001b[38;5;124m\"\u001b[39m)\n",
      "File \u001b[0;32m~/MyMachine/locals/miniconda3/envs/MolSysMT@dprada_3.9/lib/python3.9/site-packages/pandas/core/internals/managers.py:897\u001b[0m, in \u001b[0;36mBaseBlockManager.take\u001b[0;34m(self, indexer, axis, verify)\u001b[0m\n\u001b[1;32m    896\u001b[0m n \u001b[38;5;241m=\u001b[39m \u001b[38;5;28mself\u001b[39m\u001b[38;5;241m.\u001b[39mshape[axis]\n\u001b[0;32m--> 897\u001b[0m indexer \u001b[38;5;241m=\u001b[39m \u001b[43mmaybe_convert_indices\u001b[49m\u001b[43m(\u001b[49m\u001b[43mindexer\u001b[49m\u001b[43m,\u001b[49m\u001b[43m \u001b[49m\u001b[43mn\u001b[49m\u001b[43m,\u001b[49m\u001b[43m \u001b[49m\u001b[43mverify\u001b[49m\u001b[38;5;241;43m=\u001b[39;49m\u001b[43mverify\u001b[49m\u001b[43m)\u001b[49m\n\u001b[1;32m    899\u001b[0m new_labels \u001b[38;5;241m=\u001b[39m \u001b[38;5;28mself\u001b[39m\u001b[38;5;241m.\u001b[39maxes[axis]\u001b[38;5;241m.\u001b[39mtake(indexer)\n",
      "File \u001b[0;32m~/MyMachine/locals/miniconda3/envs/MolSysMT@dprada_3.9/lib/python3.9/site-packages/pandas/core/indexers/utils.py:292\u001b[0m, in \u001b[0;36mmaybe_convert_indices\u001b[0;34m(indices, n, verify)\u001b[0m\n\u001b[1;32m    291\u001b[0m     \u001b[38;5;28;01mif\u001b[39;00m mask\u001b[38;5;241m.\u001b[39many():\n\u001b[0;32m--> 292\u001b[0m         \u001b[38;5;28;01mraise\u001b[39;00m \u001b[38;5;167;01mIndexError\u001b[39;00m(\u001b[38;5;124m\"\u001b[39m\u001b[38;5;124mindices are out-of-bounds\u001b[39m\u001b[38;5;124m\"\u001b[39m)\n\u001b[1;32m    293\u001b[0m \u001b[38;5;28;01mreturn\u001b[39;00m indices\n",
      "\u001b[0;31mIndexError\u001b[0m: indices are out-of-bounds",
      "\nThe above exception was the direct cause of the following exception:\n",
      "\u001b[0;31mIndexError\u001b[0m                                Traceback (most recent call last)",
      "Input \u001b[0;32mIn [39]\u001b[0m, in \u001b[0;36m<cell line: 1>\u001b[0;34m()\u001b[0m\n\u001b[0;32m----> 1\u001b[0m \u001b[43mmsm\u001b[49m\u001b[38;5;241;43m.\u001b[39;49m\u001b[43mtopology\u001b[49m\u001b[38;5;241;43m.\u001b[39;49m\u001b[43mget_dihedral_quartets\u001b[49m\u001b[43m(\u001b[49m\u001b[43mmolecular_system\u001b[49m\u001b[43m,\u001b[49m\u001b[43m \u001b[49m\u001b[43mdihedral_angle\u001b[49m\u001b[38;5;241;43m=\u001b[39;49m\u001b[38;5;124;43m'\u001b[39;49m\u001b[38;5;124;43mpsi\u001b[39;49m\u001b[38;5;124;43m'\u001b[39;49m\u001b[43m)\u001b[49m\n",
      "File \u001b[0;32m~/projects@dprada/MolSysMT/molsysmt/_private/digestion/digest.py:119\u001b[0m, in \u001b[0;36mdigest.<locals>.digestor.<locals>.wrapper\u001b[0;34m(*args, **kwargs)\u001b[0m\n\u001b[1;32m    117\u001b[0m     \u001b[38;5;28;01mreturn\u001b[39;00m auxiliary_output\n\u001b[1;32m    118\u001b[0m \u001b[38;5;28;01melse\u001b[39;00m:\n\u001b[0;32m--> 119\u001b[0m     \u001b[38;5;28;01mreturn\u001b[39;00m \u001b[43mfunc\u001b[49m\u001b[43m(\u001b[49m\u001b[38;5;241;43m*\u001b[39;49m\u001b[38;5;241;43m*\u001b[39;49m\u001b[43mfinal_args\u001b[49m\u001b[43m)\u001b[49m\n",
      "File \u001b[0;32m~/projects@dprada/MolSysMT/molsysmt/topology/get_dihedral_quartets.py:94\u001b[0m, in \u001b[0;36mget_dihedral_quartets\u001b[0;34m(molecular_system, dihedral_angle, with_blocks, selection, syntax)\u001b[0m\n\u001b[1;32m     90\u001b[0m         \u001b[38;5;28;01mraise\u001b[39;00m \u001b[38;5;167;01mValueError\u001b[39;00m\n\u001b[1;32m     92\u001b[0m \u001b[38;5;28mprint\u001b[39m(chain)\n\u001b[0;32m---> 94\u001b[0m quartets \u001b[38;5;241m=\u001b[39m \u001b[43mget_covalent_chains\u001b[49m\u001b[43m(\u001b[49m\u001b[43mmolecular_system\u001b[49m\u001b[43m,\u001b[49m\u001b[43m \u001b[49m\u001b[43mchain\u001b[49m\u001b[38;5;241;43m=\u001b[39;49m\u001b[43mchain\u001b[49m\u001b[43m,\u001b[49m\u001b[43m \u001b[49m\u001b[43mselection\u001b[49m\u001b[38;5;241;43m=\u001b[39;49m\u001b[43mselection\u001b[49m\u001b[43m,\u001b[49m\n\u001b[1;32m     95\u001b[0m \u001b[43m        \u001b[49m\u001b[43msyntax\u001b[49m\u001b[38;5;241;43m=\u001b[39;49m\u001b[43msyntax\u001b[49m\u001b[43m)\u001b[49m\n\u001b[1;32m     97\u001b[0m \u001b[38;5;28;01mif\u001b[39;00m with_blocks:\n\u001b[1;32m    100\u001b[0m     n_quartets \u001b[38;5;241m=\u001b[39m quartets\u001b[38;5;241m.\u001b[39mshape[\u001b[38;5;241m0\u001b[39m]\n",
      "File \u001b[0;32m~/projects@dprada/MolSysMT/molsysmt/_private/digestion/digest.py:119\u001b[0m, in \u001b[0;36mdigest.<locals>.digestor.<locals>.wrapper\u001b[0;34m(*args, **kwargs)\u001b[0m\n\u001b[1;32m    117\u001b[0m     \u001b[38;5;28;01mreturn\u001b[39;00m auxiliary_output\n\u001b[1;32m    118\u001b[0m \u001b[38;5;28;01melse\u001b[39;00m:\n\u001b[0;32m--> 119\u001b[0m     \u001b[38;5;28;01mreturn\u001b[39;00m \u001b[43mfunc\u001b[49m\u001b[43m(\u001b[49m\u001b[38;5;241;43m*\u001b[39;49m\u001b[38;5;241;43m*\u001b[39;49m\u001b[43mfinal_args\u001b[49m\u001b[43m)\u001b[49m\n",
      "File \u001b[0;32m~/projects@dprada/MolSysMT/molsysmt/topology/get_covalent_chains.py:24\u001b[0m, in \u001b[0;36mget_covalent_chains\u001b[0;34m(molecular_system, chain, selection, syntax)\u001b[0m\n\u001b[1;32m     20\u001b[0m     chain_atom_indices\u001b[38;5;241m.\u001b[39mappend(atom_indices)\n\u001b[1;32m     22\u001b[0m atom_indices \u001b[38;5;241m=\u001b[39m np\u001b[38;5;241m.\u001b[39msort(np\u001b[38;5;241m.\u001b[39munique(np\u001b[38;5;241m.\u001b[39mconcatenate(chain_atom_indices)))\n\u001b[0;32m---> 24\u001b[0m graph \u001b[38;5;241m=\u001b[39m \u001b[43mget_bondgraph\u001b[49m\u001b[43m(\u001b[49m\u001b[43mmolecular_system\u001b[49m\u001b[43m,\u001b[49m\u001b[43m \u001b[49m\u001b[43mselection\u001b[49m\u001b[38;5;241;43m=\u001b[39;49m\u001b[43matom_indices\u001b[49m\u001b[43m,\u001b[49m\u001b[43m \u001b[49m\u001b[43mnodes_name\u001b[49m\u001b[38;5;241;43m=\u001b[39;49m\u001b[38;5;124;43m'\u001b[39;49m\u001b[38;5;124;43matom_index\u001b[39;49m\u001b[38;5;124;43m'\u001b[39;49m\u001b[43m)\u001b[49m\n\u001b[1;32m     26\u001b[0m n_slaves \u001b[38;5;241m=\u001b[39m \u001b[38;5;28mlen\u001b[39m(chain_atom_indices)\n\u001b[1;32m     28\u001b[0m output \u001b[38;5;241m=\u001b[39m [[ii] \u001b[38;5;28;01mfor\u001b[39;00m ii \u001b[38;5;129;01min\u001b[39;00m chain_atom_indices[\u001b[38;5;241m0\u001b[39m]]\n",
      "File \u001b[0;32m~/projects@dprada/MolSysMT/molsysmt/_private/digestion/digest.py:119\u001b[0m, in \u001b[0;36mdigest.<locals>.digestor.<locals>.wrapper\u001b[0;34m(*args, **kwargs)\u001b[0m\n\u001b[1;32m    117\u001b[0m     \u001b[38;5;28;01mreturn\u001b[39;00m auxiliary_output\n\u001b[1;32m    118\u001b[0m \u001b[38;5;28;01melse\u001b[39;00m:\n\u001b[0;32m--> 119\u001b[0m     \u001b[38;5;28;01mreturn\u001b[39;00m \u001b[43mfunc\u001b[49m\u001b[43m(\u001b[49m\u001b[38;5;241;43m*\u001b[39;49m\u001b[38;5;241;43m*\u001b[39;49m\u001b[43mfinal_args\u001b[49m\u001b[43m)\u001b[49m\n",
      "File \u001b[0;32m~/projects@dprada/MolSysMT/molsysmt/topology/get_bondgraph.py:25\u001b[0m, in \u001b[0;36mget_bondgraph\u001b[0;34m(molecular_system, nodes_name, selection, syntax, to_form)\u001b[0m\n\u001b[1;32m     21\u001b[0m G \u001b[38;5;241m=\u001b[39m Graph()\n\u001b[1;32m     23\u001b[0m \u001b[38;5;28;01mif\u001b[39;00m nodes_name \u001b[38;5;241m==\u001b[39m \u001b[38;5;124m'\u001b[39m\u001b[38;5;124matom_index\u001b[39m\u001b[38;5;124m'\u001b[39m:\n\u001b[0;32m---> 25\u001b[0m     atom_indices, bonded_atoms \u001b[38;5;241m=\u001b[39m \u001b[43mget\u001b[49m\u001b[43m(\u001b[49m\u001b[43mmolecular_system\u001b[49m\u001b[43m,\u001b[49m\u001b[43m \u001b[49m\u001b[43melement\u001b[49m\u001b[38;5;241;43m=\u001b[39;49m\u001b[38;5;124;43m'\u001b[39;49m\u001b[38;5;124;43matom\u001b[39;49m\u001b[38;5;124;43m'\u001b[39;49m\u001b[43m,\u001b[49m\u001b[43m \u001b[49m\u001b[43mselection\u001b[49m\u001b[38;5;241;43m=\u001b[39;49m\u001b[43mselection\u001b[49m\u001b[43m,\u001b[49m\u001b[43m \u001b[49m\u001b[43msyntax\u001b[49m\u001b[38;5;241;43m=\u001b[39;49m\u001b[43msyntax\u001b[49m\u001b[43m,\u001b[49m\n\u001b[1;32m     26\u001b[0m \u001b[43m                                     \u001b[49m\u001b[43matom_index\u001b[49m\u001b[38;5;241;43m=\u001b[39;49m\u001b[38;5;28;43;01mTrue\u001b[39;49;00m\u001b[43m,\u001b[49m\u001b[43m \u001b[49m\u001b[43minner_bonded_atoms\u001b[49m\u001b[38;5;241;43m=\u001b[39;49m\u001b[38;5;28;43;01mTrue\u001b[39;49;00m\u001b[43m)\u001b[49m\n\u001b[1;32m     28\u001b[0m     G\u001b[38;5;241m.\u001b[39madd_nodes_from(atom_indices)\n\u001b[1;32m     29\u001b[0m     G\u001b[38;5;241m.\u001b[39madd_edges_from(bonded_atoms)\n",
      "File \u001b[0;32m~/projects@dprada/MolSysMT/molsysmt/_private/digestion/digest.py:113\u001b[0m, in \u001b[0;36mdigest.<locals>.digestor.<locals>.wrapper\u001b[0;34m(*args, **kwargs)\u001b[0m\n\u001b[1;32m    110\u001b[0m final_args \u001b[38;5;241m=\u001b[39m digested_args\n\u001b[1;32m    112\u001b[0m \u001b[38;5;28;01mif\u001b[39;00m output:\n\u001b[0;32m--> 113\u001b[0m     auxiliary_output \u001b[38;5;241m=\u001b[39m \u001b[43mfunc\u001b[49m\u001b[43m(\u001b[49m\u001b[38;5;241;43m*\u001b[39;49m\u001b[38;5;241;43m*\u001b[39;49m\u001b[43mfinal_args\u001b[49m\u001b[43m)\u001b[49m\n\u001b[1;32m    114\u001b[0m     \u001b[38;5;28;01mif\u001b[39;00m \u001b[38;5;28misinstance\u001b[39m(auxiliary_output, (\u001b[38;5;28mlist\u001b[39m, \u001b[38;5;28mtuple\u001b[39m)):\n\u001b[1;32m    115\u001b[0m         \u001b[38;5;28;01mif\u001b[39;00m \u001b[38;5;28mlen\u001b[39m(auxiliary_output) \u001b[38;5;241m==\u001b[39m \u001b[38;5;241m1\u001b[39m:\n",
      "File \u001b[0;32m~/projects@dprada/MolSysMT/molsysmt/basic/get.py:98\u001b[0m, in \u001b[0;36mget\u001b[0;34m(molecular_system, element, indices, selection, structure_indices, syntax, **kwargs)\u001b[0m\n\u001b[1;32m     96\u001b[0m         result \u001b[38;5;241m=\u001b[39m \u001b[38;5;28;01mNone\u001b[39;00m\n\u001b[1;32m     97\u001b[0m     \u001b[38;5;28;01melse\u001b[39;00m:\n\u001b[0;32m---> 98\u001b[0m         result \u001b[38;5;241m=\u001b[39m \u001b[43mdict_get\u001b[49m\u001b[43m[\u001b[49m\u001b[43maux_form\u001b[49m\u001b[43m]\u001b[49m\u001b[43m[\u001b[49m\u001b[43melement\u001b[49m\u001b[43m]\u001b[49m\u001b[43m[\u001b[49m\u001b[43margument\u001b[49m\u001b[43m]\u001b[49m\u001b[43m(\u001b[49m\u001b[43maux_item\u001b[49m\u001b[43m,\u001b[49m\u001b[43m \u001b[49m\u001b[38;5;241;43m*\u001b[39;49m\u001b[38;5;241;43m*\u001b[39;49m\u001b[43mdict_indices\u001b[49m\u001b[43m)\u001b[49m\n\u001b[1;32m    100\u001b[0m     attributes\u001b[38;5;241m.\u001b[39mappend(result)\n\u001b[1;32m    102\u001b[0m \u001b[38;5;28;01mreturn\u001b[39;00m attributes\n",
      "File \u001b[0;32m~/projects@dprada/MolSysMT/molsysmt/_private/digestion/digest.py:119\u001b[0m, in \u001b[0;36mdigest.<locals>.digestor.<locals>.wrapper\u001b[0;34m(*args, **kwargs)\u001b[0m\n\u001b[1;32m    117\u001b[0m     \u001b[38;5;28;01mreturn\u001b[39;00m auxiliary_output\n\u001b[1;32m    118\u001b[0m \u001b[38;5;28;01melse\u001b[39;00m:\n\u001b[0;32m--> 119\u001b[0m     \u001b[38;5;28;01mreturn\u001b[39;00m \u001b[43mfunc\u001b[49m\u001b[43m(\u001b[49m\u001b[38;5;241;43m*\u001b[39;49m\u001b[38;5;241;43m*\u001b[39;49m\u001b[43mfinal_args\u001b[49m\u001b[43m)\u001b[49m\n",
      "File \u001b[0;32m~/projects@dprada/MolSysMT/molsysmt/item/molsysmt_MolSys/get.py:216\u001b[0m, in \u001b[0;36mget_inner_bonded_atoms_from_atom\u001b[0;34m(item, indices)\u001b[0m\n\u001b[1;32m    212\u001b[0m \u001b[38;5;129m@digest\u001b[39m(form\u001b[38;5;241m=\u001b[39mform)\n\u001b[1;32m    213\u001b[0m \u001b[38;5;28;01mdef\u001b[39;00m \u001b[38;5;21mget_inner_bonded_atoms_from_atom\u001b[39m (item, indices\u001b[38;5;241m=\u001b[39m\u001b[38;5;124m'\u001b[39m\u001b[38;5;124mall\u001b[39m\u001b[38;5;124m'\u001b[39m):\n\u001b[1;32m    215\u001b[0m     \u001b[38;5;28;01mfrom\u001b[39;00m \u001b[38;5;21;01m.\u001b[39;00m\u001b[38;5;21;01m.\u001b[39;00m\u001b[38;5;21;01mmolsysmt_Topology\u001b[39;00m \u001b[38;5;28;01mimport\u001b[39;00m get_inner_bonded_atoms_from_atom \u001b[38;5;28;01mas\u001b[39;00m aux_get\n\u001b[0;32m--> 216\u001b[0m     \u001b[38;5;28;01mreturn\u001b[39;00m \u001b[43maux_get\u001b[49m\u001b[43m(\u001b[49m\u001b[43mitem\u001b[49m\u001b[38;5;241;43m.\u001b[39;49m\u001b[43mtopology\u001b[49m\u001b[43m,\u001b[49m\u001b[43m \u001b[49m\u001b[43mindices\u001b[49m\u001b[38;5;241;43m=\u001b[39;49m\u001b[43mindices\u001b[49m\u001b[43m)\u001b[49m\n",
      "File \u001b[0;32m~/projects@dprada/MolSysMT/molsysmt/_private/digestion/digest.py:119\u001b[0m, in \u001b[0;36mdigest.<locals>.digestor.<locals>.wrapper\u001b[0;34m(*args, **kwargs)\u001b[0m\n\u001b[1;32m    117\u001b[0m     \u001b[38;5;28;01mreturn\u001b[39;00m auxiliary_output\n\u001b[1;32m    118\u001b[0m \u001b[38;5;28;01melse\u001b[39;00m:\n\u001b[0;32m--> 119\u001b[0m     \u001b[38;5;28;01mreturn\u001b[39;00m \u001b[43mfunc\u001b[49m\u001b[43m(\u001b[49m\u001b[38;5;241;43m*\u001b[39;49m\u001b[38;5;241;43m*\u001b[39;49m\u001b[43mfinal_args\u001b[49m\u001b[43m)\u001b[49m\n",
      "File \u001b[0;32m~/projects@dprada/MolSysMT/molsysmt/item/molsysmt_Topology/get.py:346\u001b[0m, in \u001b[0;36mget_inner_bonded_atoms_from_atom\u001b[0;34m(item, indices)\u001b[0m\n\u001b[1;32m    343\u001b[0m \u001b[38;5;28;01melse\u001b[39;00m:\n\u001b[1;32m    345\u001b[0m     bond_indices \u001b[38;5;241m=\u001b[39m get_inner_bond_index_from_atom (item, indices\u001b[38;5;241m=\u001b[39mindices)\n\u001b[0;32m--> 346\u001b[0m     output \u001b[38;5;241m=\u001b[39m \u001b[43mget_atom_index_from_bond\u001b[49m\u001b[43m(\u001b[49m\u001b[43mitem\u001b[49m\u001b[43m,\u001b[49m\u001b[43m \u001b[49m\u001b[43mindices\u001b[49m\u001b[38;5;241;43m=\u001b[39;49m\u001b[43mbond_indices\u001b[49m\u001b[43m)\u001b[49m\n\u001b[1;32m    347\u001b[0m     \u001b[38;5;28;01mdel\u001b[39;00m(bond_indices)\n\u001b[1;32m    349\u001b[0m \u001b[38;5;28;01mreturn\u001b[39;00m(output)\n",
      "File \u001b[0;32m~/projects@dprada/MolSysMT/molsysmt/_private/digestion/digest.py:119\u001b[0m, in \u001b[0;36mdigest.<locals>.digestor.<locals>.wrapper\u001b[0;34m(*args, **kwargs)\u001b[0m\n\u001b[1;32m    117\u001b[0m     \u001b[38;5;28;01mreturn\u001b[39;00m auxiliary_output\n\u001b[1;32m    118\u001b[0m \u001b[38;5;28;01melse\u001b[39;00m:\n\u001b[0;32m--> 119\u001b[0m     \u001b[38;5;28;01mreturn\u001b[39;00m \u001b[43mfunc\u001b[49m\u001b[43m(\u001b[49m\u001b[38;5;241;43m*\u001b[39;49m\u001b[38;5;241;43m*\u001b[39;49m\u001b[43mfinal_args\u001b[49m\u001b[43m)\u001b[49m\n",
      "File \u001b[0;32m~/projects@dprada/MolSysMT/molsysmt/item/molsysmt_Topology/get.py:2040\u001b[0m, in \u001b[0;36mget_atom_index_from_bond\u001b[0;34m(item, indices)\u001b[0m\n\u001b[1;32m   2038\u001b[0m     tmp_out \u001b[38;5;241m=\u001b[39m item\u001b[38;5;241m.\u001b[39mbonds_dataframe[[\u001b[38;5;124m'\u001b[39m\u001b[38;5;124matom1_index\u001b[39m\u001b[38;5;124m'\u001b[39m,\u001b[38;5;124m'\u001b[39m\u001b[38;5;124matom2_index\u001b[39m\u001b[38;5;124m'\u001b[39m]]\u001b[38;5;241m.\u001b[39mto_numpy(dtype\u001b[38;5;241m=\u001b[39m\u001b[38;5;28mint\u001b[39m, copy\u001b[38;5;241m=\u001b[39m\u001b[38;5;28;01mTrue\u001b[39;00m)\n\u001b[1;32m   2039\u001b[0m \u001b[38;5;28;01melse\u001b[39;00m:\n\u001b[0;32m-> 2040\u001b[0m     tmp_out \u001b[38;5;241m=\u001b[39m \u001b[43mitem\u001b[49m\u001b[38;5;241;43m.\u001b[39;49m\u001b[43mbonds_dataframe\u001b[49m\u001b[38;5;241;43m.\u001b[39;49m\u001b[43miloc\u001b[49m\u001b[43m[\u001b[49m\u001b[43mindices\u001b[49m\u001b[43m]\u001b[49m[[\u001b[38;5;124m'\u001b[39m\u001b[38;5;124matom1_index\u001b[39m\u001b[38;5;124m'\u001b[39m,\u001b[38;5;124m'\u001b[39m\u001b[38;5;124matom2_index\u001b[39m\u001b[38;5;124m'\u001b[39m]]\u001b[38;5;241m.\u001b[39mto_numpy(dtype\u001b[38;5;241m=\u001b[39m\u001b[38;5;28mint\u001b[39m, copy\u001b[38;5;241m=\u001b[39m\u001b[38;5;28;01mTrue\u001b[39;00m)\n\u001b[1;32m   2042\u001b[0m \u001b[38;5;28;01mreturn\u001b[39;00m tmp_out\n",
      "File \u001b[0;32m~/MyMachine/locals/miniconda3/envs/MolSysMT@dprada_3.9/lib/python3.9/site-packages/pandas/core/indexing.py:967\u001b[0m, in \u001b[0;36m_LocationIndexer.__getitem__\u001b[0;34m(self, key)\u001b[0m\n\u001b[1;32m    964\u001b[0m axis \u001b[38;5;241m=\u001b[39m \u001b[38;5;28mself\u001b[39m\u001b[38;5;241m.\u001b[39maxis \u001b[38;5;129;01mor\u001b[39;00m \u001b[38;5;241m0\u001b[39m\n\u001b[1;32m    966\u001b[0m maybe_callable \u001b[38;5;241m=\u001b[39m com\u001b[38;5;241m.\u001b[39mapply_if_callable(key, \u001b[38;5;28mself\u001b[39m\u001b[38;5;241m.\u001b[39mobj)\n\u001b[0;32m--> 967\u001b[0m \u001b[38;5;28;01mreturn\u001b[39;00m \u001b[38;5;28;43mself\u001b[39;49m\u001b[38;5;241;43m.\u001b[39;49m\u001b[43m_getitem_axis\u001b[49m\u001b[43m(\u001b[49m\u001b[43mmaybe_callable\u001b[49m\u001b[43m,\u001b[49m\u001b[43m \u001b[49m\u001b[43maxis\u001b[49m\u001b[38;5;241;43m=\u001b[39;49m\u001b[43maxis\u001b[49m\u001b[43m)\u001b[49m\n",
      "File \u001b[0;32m~/MyMachine/locals/miniconda3/envs/MolSysMT@dprada_3.9/lib/python3.9/site-packages/pandas/core/indexing.py:1511\u001b[0m, in \u001b[0;36m_iLocIndexer._getitem_axis\u001b[0;34m(self, key, axis)\u001b[0m\n\u001b[1;32m   1509\u001b[0m \u001b[38;5;66;03m# a list of integers\u001b[39;00m\n\u001b[1;32m   1510\u001b[0m \u001b[38;5;28;01melif\u001b[39;00m is_list_like_indexer(key):\n\u001b[0;32m-> 1511\u001b[0m     \u001b[38;5;28;01mreturn\u001b[39;00m \u001b[38;5;28;43mself\u001b[39;49m\u001b[38;5;241;43m.\u001b[39;49m\u001b[43m_get_list_axis\u001b[49m\u001b[43m(\u001b[49m\u001b[43mkey\u001b[49m\u001b[43m,\u001b[49m\u001b[43m \u001b[49m\u001b[43maxis\u001b[49m\u001b[38;5;241;43m=\u001b[39;49m\u001b[43maxis\u001b[49m\u001b[43m)\u001b[49m\n\u001b[1;32m   1513\u001b[0m \u001b[38;5;66;03m# a single integer\u001b[39;00m\n\u001b[1;32m   1514\u001b[0m \u001b[38;5;28;01melse\u001b[39;00m:\n\u001b[1;32m   1515\u001b[0m     key \u001b[38;5;241m=\u001b[39m item_from_zerodim(key)\n",
      "File \u001b[0;32m~/MyMachine/locals/miniconda3/envs/MolSysMT@dprada_3.9/lib/python3.9/site-packages/pandas/core/indexing.py:1485\u001b[0m, in \u001b[0;36m_iLocIndexer._get_list_axis\u001b[0;34m(self, key, axis)\u001b[0m\n\u001b[1;32m   1482\u001b[0m     \u001b[38;5;28;01mreturn\u001b[39;00m \u001b[38;5;28mself\u001b[39m\u001b[38;5;241m.\u001b[39mobj\u001b[38;5;241m.\u001b[39m_take_with_is_copy(key, axis\u001b[38;5;241m=\u001b[39maxis)\n\u001b[1;32m   1483\u001b[0m \u001b[38;5;28;01mexcept\u001b[39;00m \u001b[38;5;167;01mIndexError\u001b[39;00m \u001b[38;5;28;01mas\u001b[39;00m err:\n\u001b[1;32m   1484\u001b[0m     \u001b[38;5;66;03m# re-raise with different error message\u001b[39;00m\n\u001b[0;32m-> 1485\u001b[0m     \u001b[38;5;28;01mraise\u001b[39;00m \u001b[38;5;167;01mIndexError\u001b[39;00m(\u001b[38;5;124m\"\u001b[39m\u001b[38;5;124mpositional indexers are out-of-bounds\u001b[39m\u001b[38;5;124m\"\u001b[39m) \u001b[38;5;28;01mfrom\u001b[39;00m \u001b[38;5;21;01merr\u001b[39;00m\n",
      "\u001b[0;31mIndexError\u001b[0m: positional indexers are out-of-bounds"
     ]
    }
   ],
   "source": [
    "msm.topology.get_dihedral_quartets(molecular_system, dihedral_angle='psi')"
   ]
  },
  {
   "cell_type": "code",
   "execution_count": null,
   "metadata": {},
   "outputs": [],
   "source": [
    "msm.structure.get_dihedral_angles(molecular_system, dihedral_angle='psi', selection='group_index==[3,4]')"
   ]
  },
  {
   "cell_type": "code",
   "execution_count": null,
   "metadata": {},
   "outputs": [],
   "source": [
    "msm.structure.get_contacts(molecular_system, selection='atom_name==\"CA\"', threshold='9 angstroms')"
   ]
  },
  {
   "cell_type": "code",
   "execution_count": null,
   "metadata": {
    "tags": [
     "remove-input"
    ]
   },
   "outputs": [],
   "source": [
    "####### REMOVING FILES ############################\n",
    "# This cell is removed with the tag: \"remove-input\"\n",
    "# As such, it will not be shown in documentation\n",
    "\n",
    "import os\n",
    "for filename in ['181L.pdb', '181L.mmtf']:\n",
    "    os.remove(filename)"
   ]
  }
 ],
 "metadata": {
  "kernelspec": {
   "display_name": "Python 3 (ipykernel)",
   "language": "python",
   "name": "python3"
  },
  "language_info": {
   "codemirror_mode": {
    "name": "ipython",
    "version": 3
   },
   "file_extension": ".py",
   "mimetype": "text/x-python",
   "name": "python",
   "nbconvert_exporter": "python",
   "pygments_lexer": "ipython3",
   "version": "3.9.13"
  }
 },
 "nbformat": 4,
 "nbformat_minor": 4
}
