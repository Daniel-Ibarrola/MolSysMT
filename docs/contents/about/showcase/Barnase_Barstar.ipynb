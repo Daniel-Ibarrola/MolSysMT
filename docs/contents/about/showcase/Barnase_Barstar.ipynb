{
 "cells": [
  {
   "cell_type": "code",
   "execution_count": null,
   "id": "0a64f9c5-c973-4b05-b412-baa15298f60e",
   "metadata": {
    "tags": [
     "remove-input"
    ]
   },
   "outputs": [],
   "source": [
    "# This cell is removed with the tag: \"remove-input\"\n",
    "# As such, it will not be shown in documentation\n",
    "\n",
    "import warnings\n",
    "warnings.filterwarnings('ignore')\n",
    "\n",
    "static_dir = '../../../_static/nglview/about/showcase/barnase_barstar/'\n",
    "nglview_htmlfiles = [\n",
    "    static_dir+'1BRS.html',\n",
    "    static_dir+'before_fit.html',\n",
    "    static_dir+'after_fit.html',\n",
    "    static_dir+'barnase_barstar.html',\n",
    "] # in order of apparence"
   ]
  },
  {
   "cell_type": "markdown",
   "id": "38b196fd-7966-4ee9-95ed-907e20a6f1af",
   "metadata": {},
   "source": [
    "# Barnase-Barstar"
   ]
  },
  {
   "cell_type": "code",
   "execution_count": 1,
   "id": "96a0a88e-777b-4134-bb1b-2c96ac62d61b",
   "metadata": {},
   "outputs": [
    {
     "data": {
      "application/vnd.jupyter.widget-view+json": {
       "model_id": "356dd4f75b234900bff12616e9cd1cdd",
       "version_major": 2,
       "version_minor": 0
      },
      "text/plain": []
     },
     "metadata": {},
     "output_type": "display_data"
    }
   ],
   "source": [
    "import molsysmt as msm"
   ]
  },
  {
   "cell_type": "code",
   "execution_count": 2,
   "id": "0beea7d1-6e73-4b82-9e18-b5644df644fb",
   "metadata": {},
   "outputs": [],
   "source": [
    "molsys = msm.convert('1BRS')"
   ]
  },
  {
   "cell_type": "code",
   "execution_count": 3,
   "id": "98166039-5610-4d90-b8cf-5105d9aaac52",
   "metadata": {},
   "outputs": [
    {
     "data": {
      "text/html": [
       "<style type=\"text/css\">\n",
       "</style>\n",
       "<table id=\"T_f094e\">\n",
       "  <thead>\n",
       "    <tr>\n",
       "      <th id=\"T_f094e_level0_col0\" class=\"col_heading level0 col0\" >form</th>\n",
       "      <th id=\"T_f094e_level0_col1\" class=\"col_heading level0 col1\" >n_atoms</th>\n",
       "      <th id=\"T_f094e_level0_col2\" class=\"col_heading level0 col2\" >n_groups</th>\n",
       "      <th id=\"T_f094e_level0_col3\" class=\"col_heading level0 col3\" >n_components</th>\n",
       "      <th id=\"T_f094e_level0_col4\" class=\"col_heading level0 col4\" >n_chains</th>\n",
       "      <th id=\"T_f094e_level0_col5\" class=\"col_heading level0 col5\" >n_molecules</th>\n",
       "      <th id=\"T_f094e_level0_col6\" class=\"col_heading level0 col6\" >n_entities</th>\n",
       "      <th id=\"T_f094e_level0_col7\" class=\"col_heading level0 col7\" >n_waters</th>\n",
       "      <th id=\"T_f094e_level0_col8\" class=\"col_heading level0 col8\" >n_proteins</th>\n",
       "      <th id=\"T_f094e_level0_col9\" class=\"col_heading level0 col9\" >n_structures</th>\n",
       "    </tr>\n",
       "  </thead>\n",
       "  <tbody>\n",
       "    <tr>\n",
       "      <td id=\"T_f094e_row0_col0\" class=\"data row0 col0\" >molsysmt.MolSys</td>\n",
       "      <td id=\"T_f094e_row0_col1\" class=\"data row0 col1\" >5153</td>\n",
       "      <td id=\"T_f094e_row0_col2\" class=\"data row0 col2\" >1101</td>\n",
       "      <td id=\"T_f094e_row0_col3\" class=\"data row0 col3\" >521</td>\n",
       "      <td id=\"T_f094e_row0_col4\" class=\"data row0 col4\" >12</td>\n",
       "      <td id=\"T_f094e_row0_col5\" class=\"data row0 col5\" >519</td>\n",
       "      <td id=\"T_f094e_row0_col6\" class=\"data row0 col6\" >3</td>\n",
       "      <td id=\"T_f094e_row0_col7\" class=\"data row0 col7\" >513</td>\n",
       "      <td id=\"T_f094e_row0_col8\" class=\"data row0 col8\" >6</td>\n",
       "      <td id=\"T_f094e_row0_col9\" class=\"data row0 col9\" >1</td>\n",
       "    </tr>\n",
       "  </tbody>\n",
       "</table>\n"
      ],
      "text/plain": [
       "<pandas.io.formats.style.Styler at 0x7f80e285e310>"
      ]
     },
     "execution_count": 3,
     "metadata": {},
     "output_type": "execute_result"
    }
   ],
   "source": [
    "msm.info(molsys)"
   ]
  },
  {
   "cell_type": "code",
   "execution_count": 4,
   "id": "402451e7-cba7-4bea-b204-936c625d131f",
   "metadata": {},
   "outputs": [],
   "source": [
    "molsys = msm.extract(molsys, selection='molecule_type==\"protein\"')"
   ]
  },
  {
   "cell_type": "code",
   "execution_count": 5,
   "id": "f1cfcf09-bb0c-4b42-89ce-812ba4eb1136",
   "metadata": {},
   "outputs": [
    {
     "data": {
      "text/html": [
       "<style type=\"text/css\">\n",
       "</style>\n",
       "<table id=\"T_316fa\">\n",
       "  <thead>\n",
       "    <tr>\n",
       "      <th id=\"T_316fa_level0_col0\" class=\"col_heading level0 col0\" >form</th>\n",
       "      <th id=\"T_316fa_level0_col1\" class=\"col_heading level0 col1\" >n_atoms</th>\n",
       "      <th id=\"T_316fa_level0_col2\" class=\"col_heading level0 col2\" >n_groups</th>\n",
       "      <th id=\"T_316fa_level0_col3\" class=\"col_heading level0 col3\" >n_components</th>\n",
       "      <th id=\"T_316fa_level0_col4\" class=\"col_heading level0 col4\" >n_chains</th>\n",
       "      <th id=\"T_316fa_level0_col5\" class=\"col_heading level0 col5\" >n_molecules</th>\n",
       "      <th id=\"T_316fa_level0_col6\" class=\"col_heading level0 col6\" >n_entities</th>\n",
       "      <th id=\"T_316fa_level0_col7\" class=\"col_heading level0 col7\" >n_proteins</th>\n",
       "      <th id=\"T_316fa_level0_col8\" class=\"col_heading level0 col8\" >n_structures</th>\n",
       "    </tr>\n",
       "  </thead>\n",
       "  <tbody>\n",
       "    <tr>\n",
       "      <td id=\"T_316fa_row0_col0\" class=\"data row0 col0\" >molsysmt.MolSys</td>\n",
       "      <td id=\"T_316fa_row0_col1\" class=\"data row0 col1\" >4640</td>\n",
       "      <td id=\"T_316fa_row0_col2\" class=\"data row0 col2\" >588</td>\n",
       "      <td id=\"T_316fa_row0_col3\" class=\"data row0 col3\" >8</td>\n",
       "      <td id=\"T_316fa_row0_col4\" class=\"data row0 col4\" >6</td>\n",
       "      <td id=\"T_316fa_row0_col5\" class=\"data row0 col5\" >6</td>\n",
       "      <td id=\"T_316fa_row0_col6\" class=\"data row0 col6\" >2</td>\n",
       "      <td id=\"T_316fa_row0_col7\" class=\"data row0 col7\" >6</td>\n",
       "      <td id=\"T_316fa_row0_col8\" class=\"data row0 col8\" >1</td>\n",
       "    </tr>\n",
       "  </tbody>\n",
       "</table>\n"
      ],
      "text/plain": [
       "<pandas.io.formats.style.Styler at 0x7f80e2876bb0>"
      ]
     },
     "execution_count": 5,
     "metadata": {},
     "output_type": "execute_result"
    }
   ],
   "source": [
    "msm.info(molsys)"
   ]
  },
  {
   "cell_type": "code",
   "execution_count": 6,
   "id": "8adce55f-f5e2-41e2-b09b-717b50db7ad5",
   "metadata": {},
   "outputs": [
    {
     "data": {
      "text/html": [
       "<style type=\"text/css\">\n",
       "</style>\n",
       "<table id=\"T_1d0c9\">\n",
       "  <thead>\n",
       "    <tr>\n",
       "      <th id=\"T_1d0c9_level0_col0\" class=\"col_heading level0 col0\" >index</th>\n",
       "      <th id=\"T_1d0c9_level0_col1\" class=\"col_heading level0 col1\" >name</th>\n",
       "      <th id=\"T_1d0c9_level0_col2\" class=\"col_heading level0 col2\" >type</th>\n",
       "      <th id=\"T_1d0c9_level0_col3\" class=\"col_heading level0 col3\" >n atoms</th>\n",
       "      <th id=\"T_1d0c9_level0_col4\" class=\"col_heading level0 col4\" >n groups</th>\n",
       "      <th id=\"T_1d0c9_level0_col5\" class=\"col_heading level0 col5\" >n components</th>\n",
       "      <th id=\"T_1d0c9_level0_col6\" class=\"col_heading level0 col6\" >chain index</th>\n",
       "      <th id=\"T_1d0c9_level0_col7\" class=\"col_heading level0 col7\" >entity index</th>\n",
       "      <th id=\"T_1d0c9_level0_col8\" class=\"col_heading level0 col8\" >entity name</th>\n",
       "    </tr>\n",
       "  </thead>\n",
       "  <tbody>\n",
       "    <tr>\n",
       "      <td id=\"T_1d0c9_row0_col0\" class=\"data row0 col0\" >0</td>\n",
       "      <td id=\"T_1d0c9_row0_col1\" class=\"data row0 col1\" >Barnase</td>\n",
       "      <td id=\"T_1d0c9_row0_col2\" class=\"data row0 col2\" >protein</td>\n",
       "      <td id=\"T_1d0c9_row0_col3\" class=\"data row0 col3\" >864</td>\n",
       "      <td id=\"T_1d0c9_row0_col4\" class=\"data row0 col4\" >108</td>\n",
       "      <td id=\"T_1d0c9_row0_col5\" class=\"data row0 col5\" >1</td>\n",
       "      <td id=\"T_1d0c9_row0_col6\" class=\"data row0 col6\" >0</td>\n",
       "      <td id=\"T_1d0c9_row0_col7\" class=\"data row0 col7\" >0</td>\n",
       "      <td id=\"T_1d0c9_row0_col8\" class=\"data row0 col8\" >Barnase</td>\n",
       "    </tr>\n",
       "    <tr>\n",
       "      <td id=\"T_1d0c9_row1_col0\" class=\"data row1 col0\" >1</td>\n",
       "      <td id=\"T_1d0c9_row1_col1\" class=\"data row1 col1\" >Barnase</td>\n",
       "      <td id=\"T_1d0c9_row1_col2\" class=\"data row1 col2\" >protein</td>\n",
       "      <td id=\"T_1d0c9_row1_col3\" class=\"data row1 col3\" >878</td>\n",
       "      <td id=\"T_1d0c9_row1_col4\" class=\"data row1 col4\" >110</td>\n",
       "      <td id=\"T_1d0c9_row1_col5\" class=\"data row1 col5\" >1</td>\n",
       "      <td id=\"T_1d0c9_row1_col6\" class=\"data row1 col6\" >1</td>\n",
       "      <td id=\"T_1d0c9_row1_col7\" class=\"data row1 col7\" >0</td>\n",
       "      <td id=\"T_1d0c9_row1_col8\" class=\"data row1 col8\" >Barnase</td>\n",
       "    </tr>\n",
       "    <tr>\n",
       "      <td id=\"T_1d0c9_row2_col0\" class=\"data row2 col0\" >2</td>\n",
       "      <td id=\"T_1d0c9_row2_col1\" class=\"data row2 col1\" >Barnase</td>\n",
       "      <td id=\"T_1d0c9_row2_col2\" class=\"data row2 col2\" >protein</td>\n",
       "      <td id=\"T_1d0c9_row2_col3\" class=\"data row2 col3\" >839</td>\n",
       "      <td id=\"T_1d0c9_row2_col4\" class=\"data row2 col4\" >108</td>\n",
       "      <td id=\"T_1d0c9_row2_col5\" class=\"data row2 col5\" >1</td>\n",
       "      <td id=\"T_1d0c9_row2_col6\" class=\"data row2 col6\" >2</td>\n",
       "      <td id=\"T_1d0c9_row2_col7\" class=\"data row2 col7\" >0</td>\n",
       "      <td id=\"T_1d0c9_row2_col8\" class=\"data row2 col8\" >Barnase</td>\n",
       "    </tr>\n",
       "    <tr>\n",
       "      <td id=\"T_1d0c9_row3_col0\" class=\"data row3 col0\" >3</td>\n",
       "      <td id=\"T_1d0c9_row3_col1\" class=\"data row3 col1\" >Barstar</td>\n",
       "      <td id=\"T_1d0c9_row3_col2\" class=\"data row3 col2\" >protein</td>\n",
       "      <td id=\"T_1d0c9_row3_col3\" class=\"data row3 col3\" >695</td>\n",
       "      <td id=\"T_1d0c9_row3_col4\" class=\"data row3 col4\" >87</td>\n",
       "      <td id=\"T_1d0c9_row3_col5\" class=\"data row3 col5\" >2</td>\n",
       "      <td id=\"T_1d0c9_row3_col6\" class=\"data row3 col6\" >3</td>\n",
       "      <td id=\"T_1d0c9_row3_col7\" class=\"data row3 col7\" >1</td>\n",
       "      <td id=\"T_1d0c9_row3_col8\" class=\"data row3 col8\" >Barstar</td>\n",
       "    </tr>\n",
       "    <tr>\n",
       "      <td id=\"T_1d0c9_row4_col0\" class=\"data row4 col0\" >4</td>\n",
       "      <td id=\"T_1d0c9_row4_col1\" class=\"data row4 col1\" >Barstar</td>\n",
       "      <td id=\"T_1d0c9_row4_col2\" class=\"data row4 col2\" >protein</td>\n",
       "      <td id=\"T_1d0c9_row4_col3\" class=\"data row4 col3\" >665</td>\n",
       "      <td id=\"T_1d0c9_row4_col4\" class=\"data row4 col4\" >86</td>\n",
       "      <td id=\"T_1d0c9_row4_col5\" class=\"data row4 col5\" >2</td>\n",
       "      <td id=\"T_1d0c9_row4_col6\" class=\"data row4 col6\" >4</td>\n",
       "      <td id=\"T_1d0c9_row4_col7\" class=\"data row4 col7\" >1</td>\n",
       "      <td id=\"T_1d0c9_row4_col8\" class=\"data row4 col8\" >Barstar</td>\n",
       "    </tr>\n",
       "    <tr>\n",
       "      <td id=\"T_1d0c9_row5_col0\" class=\"data row5 col0\" >5</td>\n",
       "      <td id=\"T_1d0c9_row5_col1\" class=\"data row5 col1\" >Barstar</td>\n",
       "      <td id=\"T_1d0c9_row5_col2\" class=\"data row5 col2\" >protein</td>\n",
       "      <td id=\"T_1d0c9_row5_col3\" class=\"data row5 col3\" >699</td>\n",
       "      <td id=\"T_1d0c9_row5_col4\" class=\"data row5 col4\" >89</td>\n",
       "      <td id=\"T_1d0c9_row5_col5\" class=\"data row5 col5\" >1</td>\n",
       "      <td id=\"T_1d0c9_row5_col6\" class=\"data row5 col6\" >5</td>\n",
       "      <td id=\"T_1d0c9_row5_col7\" class=\"data row5 col7\" >1</td>\n",
       "      <td id=\"T_1d0c9_row5_col8\" class=\"data row5 col8\" >Barstar</td>\n",
       "    </tr>\n",
       "  </tbody>\n",
       "</table>\n"
      ],
      "text/plain": [
       "<pandas.io.formats.style.Styler at 0x7f813c72c700>"
      ]
     },
     "execution_count": 6,
     "metadata": {},
     "output_type": "execute_result"
    }
   ],
   "source": [
    "msm.info(molsys, element='molecule')"
   ]
  },
  {
   "cell_type": "code",
   "execution_count": 7,
   "id": "c6254a50-15c4-452d-9530-ad0afc819861",
   "metadata": {},
   "outputs": [
    {
     "data": {
      "text/html": [
       "<style type=\"text/css\">\n",
       "</style>\n",
       "<table id=\"T_9ca97\">\n",
       "  <thead>\n",
       "    <tr>\n",
       "      <th id=\"T_9ca97_level0_col0\" class=\"col_heading level0 col0\" >index</th>\n",
       "      <th id=\"T_9ca97_level0_col1\" class=\"col_heading level0 col1\" >id</th>\n",
       "      <th id=\"T_9ca97_level0_col2\" class=\"col_heading level0 col2\" >name</th>\n",
       "      <th id=\"T_9ca97_level0_col3\" class=\"col_heading level0 col3\" >n atoms</th>\n",
       "      <th id=\"T_9ca97_level0_col4\" class=\"col_heading level0 col4\" >n groups</th>\n",
       "      <th id=\"T_9ca97_level0_col5\" class=\"col_heading level0 col5\" >n components</th>\n",
       "      <th id=\"T_9ca97_level0_col6\" class=\"col_heading level0 col6\" >molecule index</th>\n",
       "      <th id=\"T_9ca97_level0_col7\" class=\"col_heading level0 col7\" >molecule type</th>\n",
       "      <th id=\"T_9ca97_level0_col8\" class=\"col_heading level0 col8\" >entity index</th>\n",
       "      <th id=\"T_9ca97_level0_col9\" class=\"col_heading level0 col9\" >entity name</th>\n",
       "    </tr>\n",
       "  </thead>\n",
       "  <tbody>\n",
       "    <tr>\n",
       "      <td id=\"T_9ca97_row0_col0\" class=\"data row0 col0\" >0</td>\n",
       "      <td id=\"T_9ca97_row0_col1\" class=\"data row0 col1\" >A</td>\n",
       "      <td id=\"T_9ca97_row0_col2\" class=\"data row0 col2\" >A</td>\n",
       "      <td id=\"T_9ca97_row0_col3\" class=\"data row0 col3\" >864</td>\n",
       "      <td id=\"T_9ca97_row0_col4\" class=\"data row0 col4\" >108</td>\n",
       "      <td id=\"T_9ca97_row0_col5\" class=\"data row0 col5\" >1</td>\n",
       "      <td id=\"T_9ca97_row0_col6\" class=\"data row0 col6\" >0</td>\n",
       "      <td id=\"T_9ca97_row0_col7\" class=\"data row0 col7\" >protein</td>\n",
       "      <td id=\"T_9ca97_row0_col8\" class=\"data row0 col8\" >0</td>\n",
       "      <td id=\"T_9ca97_row0_col9\" class=\"data row0 col9\" >Barnase</td>\n",
       "    </tr>\n",
       "    <tr>\n",
       "      <td id=\"T_9ca97_row1_col0\" class=\"data row1 col0\" >1</td>\n",
       "      <td id=\"T_9ca97_row1_col1\" class=\"data row1 col1\" >B</td>\n",
       "      <td id=\"T_9ca97_row1_col2\" class=\"data row1 col2\" >B</td>\n",
       "      <td id=\"T_9ca97_row1_col3\" class=\"data row1 col3\" >878</td>\n",
       "      <td id=\"T_9ca97_row1_col4\" class=\"data row1 col4\" >110</td>\n",
       "      <td id=\"T_9ca97_row1_col5\" class=\"data row1 col5\" >1</td>\n",
       "      <td id=\"T_9ca97_row1_col6\" class=\"data row1 col6\" >1</td>\n",
       "      <td id=\"T_9ca97_row1_col7\" class=\"data row1 col7\" >protein</td>\n",
       "      <td id=\"T_9ca97_row1_col8\" class=\"data row1 col8\" >0</td>\n",
       "      <td id=\"T_9ca97_row1_col9\" class=\"data row1 col9\" >Barnase</td>\n",
       "    </tr>\n",
       "    <tr>\n",
       "      <td id=\"T_9ca97_row2_col0\" class=\"data row2 col0\" >2</td>\n",
       "      <td id=\"T_9ca97_row2_col1\" class=\"data row2 col1\" >C</td>\n",
       "      <td id=\"T_9ca97_row2_col2\" class=\"data row2 col2\" >C</td>\n",
       "      <td id=\"T_9ca97_row2_col3\" class=\"data row2 col3\" >839</td>\n",
       "      <td id=\"T_9ca97_row2_col4\" class=\"data row2 col4\" >108</td>\n",
       "      <td id=\"T_9ca97_row2_col5\" class=\"data row2 col5\" >1</td>\n",
       "      <td id=\"T_9ca97_row2_col6\" class=\"data row2 col6\" >2</td>\n",
       "      <td id=\"T_9ca97_row2_col7\" class=\"data row2 col7\" >protein</td>\n",
       "      <td id=\"T_9ca97_row2_col8\" class=\"data row2 col8\" >0</td>\n",
       "      <td id=\"T_9ca97_row2_col9\" class=\"data row2 col9\" >Barnase</td>\n",
       "    </tr>\n",
       "    <tr>\n",
       "      <td id=\"T_9ca97_row3_col0\" class=\"data row3 col0\" >3</td>\n",
       "      <td id=\"T_9ca97_row3_col1\" class=\"data row3 col1\" >D</td>\n",
       "      <td id=\"T_9ca97_row3_col2\" class=\"data row3 col2\" >D</td>\n",
       "      <td id=\"T_9ca97_row3_col3\" class=\"data row3 col3\" >695</td>\n",
       "      <td id=\"T_9ca97_row3_col4\" class=\"data row3 col4\" >87</td>\n",
       "      <td id=\"T_9ca97_row3_col5\" class=\"data row3 col5\" >2</td>\n",
       "      <td id=\"T_9ca97_row3_col6\" class=\"data row3 col6\" >3</td>\n",
       "      <td id=\"T_9ca97_row3_col7\" class=\"data row3 col7\" >protein</td>\n",
       "      <td id=\"T_9ca97_row3_col8\" class=\"data row3 col8\" >1</td>\n",
       "      <td id=\"T_9ca97_row3_col9\" class=\"data row3 col9\" >Barstar</td>\n",
       "    </tr>\n",
       "    <tr>\n",
       "      <td id=\"T_9ca97_row4_col0\" class=\"data row4 col0\" >4</td>\n",
       "      <td id=\"T_9ca97_row4_col1\" class=\"data row4 col1\" >E</td>\n",
       "      <td id=\"T_9ca97_row4_col2\" class=\"data row4 col2\" >E</td>\n",
       "      <td id=\"T_9ca97_row4_col3\" class=\"data row4 col3\" >665</td>\n",
       "      <td id=\"T_9ca97_row4_col4\" class=\"data row4 col4\" >86</td>\n",
       "      <td id=\"T_9ca97_row4_col5\" class=\"data row4 col5\" >2</td>\n",
       "      <td id=\"T_9ca97_row4_col6\" class=\"data row4 col6\" >4</td>\n",
       "      <td id=\"T_9ca97_row4_col7\" class=\"data row4 col7\" >protein</td>\n",
       "      <td id=\"T_9ca97_row4_col8\" class=\"data row4 col8\" >1</td>\n",
       "      <td id=\"T_9ca97_row4_col9\" class=\"data row4 col9\" >Barstar</td>\n",
       "    </tr>\n",
       "    <tr>\n",
       "      <td id=\"T_9ca97_row5_col0\" class=\"data row5 col0\" >5</td>\n",
       "      <td id=\"T_9ca97_row5_col1\" class=\"data row5 col1\" >F</td>\n",
       "      <td id=\"T_9ca97_row5_col2\" class=\"data row5 col2\" >F</td>\n",
       "      <td id=\"T_9ca97_row5_col3\" class=\"data row5 col3\" >699</td>\n",
       "      <td id=\"T_9ca97_row5_col4\" class=\"data row5 col4\" >89</td>\n",
       "      <td id=\"T_9ca97_row5_col5\" class=\"data row5 col5\" >1</td>\n",
       "      <td id=\"T_9ca97_row5_col6\" class=\"data row5 col6\" >5</td>\n",
       "      <td id=\"T_9ca97_row5_col7\" class=\"data row5 col7\" >protein</td>\n",
       "      <td id=\"T_9ca97_row5_col8\" class=\"data row5 col8\" >1</td>\n",
       "      <td id=\"T_9ca97_row5_col9\" class=\"data row5 col9\" >Barstar</td>\n",
       "    </tr>\n",
       "  </tbody>\n",
       "</table>\n"
      ],
      "text/plain": [
       "<pandas.io.formats.style.Styler at 0x7f80e289b4c0>"
      ]
     },
     "execution_count": 7,
     "metadata": {},
     "output_type": "execute_result"
    }
   ],
   "source": [
    "msm.info(molsys, element='chain')"
   ]
  },
  {
   "cell_type": "code",
   "execution_count": 8,
   "id": "d9b5135e-3737-418f-b47c-e83b9d206e05",
   "metadata": {},
   "outputs": [],
   "source": [
    "msm.view(molsys)"
   ]
  },
  {
   "cell_type": "code",
   "execution_count": null,
   "id": "1852dcfb-2793-4e27-99be-db88556e468b",
   "metadata": {},
   "outputs": [],
   "source": []
  },
  {
   "cell_type": "code",
   "execution_count": 12,
   "id": "0fe6ad16-5306-4a00-b813-a93434a2ea45",
   "metadata": {},
   "outputs": [],
   "source": [
    "barnase = msm.extract(molsys, selection=\"chain_name=='B'\")\n",
    "barstar_E = msm.extract(molsys, selection=\"chain_name=='E'\")\n",
    "barstar_F = msm.extract(molsys, selection=\"chain_name=='F'\")"
   ]
  },
  {
   "cell_type": "code",
   "execution_count": 13,
   "id": "22cbcbdb-44b6-4652-b8cf-69861f9a99f0",
   "metadata": {},
   "outputs": [],
   "source": [
    "msm.view([barnase, barstar_E, barstar_F])"
   ]
  },
  {
   "cell_type": "code",
   "execution_count": null,
   "id": "4b3a9ffe-d60b-4c0c-8d7a-08244c3e4ec1",
   "metadata": {},
   "outputs": [],
   "source": []
  },
  {
   "cell_type": "code",
   "execution_count": 16,
   "id": "3f6ff7b5-6743-405f-b38a-df2b26b37220",
   "metadata": {},
   "outputs": [],
   "source": [
    "barstar_F_over_E = msm.structure.align(barstar_F, selection='atom_name==\"CA\"',\n",
    "                                       reference_molecular_system=barstar_E, reference_selection='atom_name==\"CA\"')"
   ]
  },
  {
   "cell_type": "code",
   "execution_count": 17,
   "id": "4ba2065c-7c69-4f7b-9eef-42c43186c091",
   "metadata": {},
   "outputs": [],
   "source": [
    "msm.view([barnase, barstar_E, barstar_F_over_E])"
   ]
  },
  {
   "cell_type": "code",
   "execution_count": null,
   "id": "a926d555-db90-4f67-af7d-ef4897044c8b",
   "metadata": {},
   "outputs": [],
   "source": []
  },
  {
   "cell_type": "code",
   "execution_count": 20,
   "id": "5e215d45-fc61-4e47-964d-39b21725ace2",
   "metadata": {},
   "outputs": [],
   "source": [
    "barnase_barstar = msm.merge([barnase, barstar_F_over_E])"
   ]
  },
  {
   "cell_type": "code",
   "execution_count": 21,
   "id": "fadc4580-9301-4861-b136-ca8eb3a2d13c",
   "metadata": {},
   "outputs": [],
   "source": [
    "msm.view(barnase_barstar)"
   ]
  },
  {
   "cell_type": "code",
   "execution_count": null,
   "id": "32ee60bd-9516-4c5c-8e09-13613768e1cf",
   "metadata": {},
   "outputs": [],
   "source": []
  },
  {
   "cell_type": "code",
   "execution_count": 24,
   "id": "4190dc3a-05f7-4770-b216-6d0289d36c06",
   "metadata": {},
   "outputs": [
    {
     "data": {
      "text/plain": [
       "[]"
      ]
     },
     "execution_count": 24,
     "metadata": {},
     "output_type": "execute_result"
    }
   ],
   "source": [
    "msm.build.get_atoms_with_alternate_locations(barnase_barstar)"
   ]
  },
  {
   "cell_type": "code",
   "execution_count": 25,
   "id": "40e44298-1802-4ae8-8e2e-10ec7f5a749e",
   "metadata": {},
   "outputs": [
    {
     "data": {
      "text/plain": [
       "{131: ['CD', 'CE', 'NZ'],\n",
       " 137: ['CG', 'CD', 'OE1', 'OE2'],\n",
       " 155: ['CG', 'CD', 'OE1', 'OE2'],\n",
       " 173: ['CG', 'CD', 'OE1', 'OE2'],\n",
       " 174: ['CG', 'OD1', 'ND2'],\n",
       " 198: ['O']}"
      ]
     },
     "execution_count": 25,
     "metadata": {},
     "output_type": "execute_result"
    }
   ],
   "source": [
    "msm.build.get_missing_heavy_atoms(barnase_barstar)"
   ]
  },
  {
   "cell_type": "code",
   "execution_count": 26,
   "id": "e1807d5a-2982-46af-ae5e-10ce1191770d",
   "metadata": {},
   "outputs": [
    {
     "data": {
      "text/plain": [
       "{}"
      ]
     },
     "execution_count": 26,
     "metadata": {},
     "output_type": "execute_result"
    }
   ],
   "source": [
    "msm.build.get_missing_residues(barnase_barstar)"
   ]
  },
  {
   "cell_type": "code",
   "execution_count": 27,
   "id": "8077b8ee-fb4f-4e21-b771-3e12b1350f30",
   "metadata": {},
   "outputs": [
    {
     "name": "stderr",
     "output_type": "stream",
     "text": [
      "Warning: importing 'simtk.openmm' is deprecated.  Import 'openmm' instead.\n"
     ]
    }
   ],
   "source": [
    "barnase_barstar = msm.build.add_missing_heavy_atoms(barnase_barstar)"
   ]
  },
  {
   "cell_type": "code",
   "execution_count": 28,
   "id": "69577990-8162-463e-a78e-8d250c3e6578",
   "metadata": {},
   "outputs": [
    {
     "data": {
      "text/plain": [
       "False"
      ]
     },
     "execution_count": 28,
     "metadata": {},
     "output_type": "execute_result"
    }
   ],
   "source": [
    "msm.contains(barnase_barstar, hydrogens=True)"
   ]
  },
  {
   "cell_type": "code",
   "execution_count": 29,
   "id": "29706b5c-0946-4a5e-8307-50386f31ce0d",
   "metadata": {},
   "outputs": [
    {
     "data": {
      "text/plain": [
       "0"
      ]
     },
     "execution_count": 29,
     "metadata": {},
     "output_type": "execute_result"
    }
   ],
   "source": [
    "msm.get(barnase_barstar, element='atom', selection='atom_type==\"H\"', n_atoms=True)"
   ]
  },
  {
   "cell_type": "code",
   "execution_count": 30,
   "id": "cf935ced-e7ef-4d84-b385-01d7f2954652",
   "metadata": {},
   "outputs": [],
   "source": [
    "barnase_barstar = msm.build.add_missing_hydrogens(barnase_barstar, pH=7.4)"
   ]
  },
  {
   "cell_type": "code",
   "execution_count": 31,
   "id": "9bb4f458-5437-4d43-8059-5160a6b1a4ca",
   "metadata": {},
   "outputs": [
    {
     "data": {
      "text/plain": [
       "1563"
      ]
     },
     "execution_count": 31,
     "metadata": {},
     "output_type": "execute_result"
    }
   ],
   "source": [
    "msm.get(barnase_barstar, element='atom', selection='atom_type==\"H\"', n_atoms=True)"
   ]
  },
  {
   "cell_type": "code",
   "execution_count": 32,
   "id": "cff30765-8a8f-458a-96d3-68872cf27e73",
   "metadata": {},
   "outputs": [
    {
     "data": {
      "text/plain": [
       "'barnase_barstar.pdb'"
      ]
     },
     "execution_count": 32,
     "metadata": {},
     "output_type": "execute_result"
    }
   ],
   "source": [
    "msm.convert(barnase_barstar, to_form='barnase_barstar.pdb')"
   ]
  },
  {
   "cell_type": "code",
   "execution_count": 33,
   "id": "b07afd89-5935-4157-8537-e6a8d8b2cdaa",
   "metadata": {
    "tags": [
     "remove-input"
    ]
   },
   "outputs": [],
   "source": [
    "from os import remove\n",
    "remove('barnase_barstar.pdb')"
   ]
  }
 ],
 "metadata": {
  "kernelspec": {
   "display_name": "Python 3 (ipykernel)",
   "language": "python",
   "name": "python3"
  },
  "language_info": {
   "codemirror_mode": {
    "name": "ipython",
    "version": 3
   },
   "file_extension": ".py",
   "mimetype": "text/x-python",
   "name": "python",
   "nbconvert_exporter": "python",
   "pygments_lexer": "ipython3",
   "version": "3.9.13"
  }
 },
 "nbformat": 4,
 "nbformat_minor": 5
}
