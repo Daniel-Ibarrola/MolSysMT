{
 "cells": [
  {
   "cell_type": "markdown",
   "id": "38b196fd-7966-4ee9-95ed-907e20a6f1af",
   "metadata": {},
   "source": [
    "# Barnase-Barstar"
   ]
  },
  {
   "cell_type": "code",
   "execution_count": 1,
   "id": "96a0a88e-777b-4134-bb1b-2c96ac62d61b",
   "metadata": {},
   "outputs": [
    {
     "data": {
      "application/vnd.jupyter.widget-view+json": {
       "model_id": "ac6f4fe8fe254f17861f8b1c8b5808e6",
       "version_major": 2,
       "version_minor": 0
      },
      "text/plain": []
     },
     "metadata": {},
     "output_type": "display_data"
    }
   ],
   "source": [
    "import molsysmt as msm"
   ]
  },
  {
   "cell_type": "code",
   "execution_count": 2,
   "id": "0beea7d1-6e73-4b82-9e18-b5644df644fb",
   "metadata": {},
   "outputs": [],
   "source": [
    "molsys = msm.convert('1BRS')"
   ]
  },
  {
   "cell_type": "code",
   "execution_count": 3,
   "id": "98166039-5610-4d90-b8cf-5105d9aaac52",
   "metadata": {},
   "outputs": [
    {
     "data": {
      "text/html": [
       "<style type=\"text/css\">\n",
       "</style>\n",
       "<table id=\"T_c00ad\">\n",
       "  <thead>\n",
       "    <tr>\n",
       "      <th id=\"T_c00ad_level0_col0\" class=\"col_heading level0 col0\" >form</th>\n",
       "      <th id=\"T_c00ad_level0_col1\" class=\"col_heading level0 col1\" >n_atoms</th>\n",
       "      <th id=\"T_c00ad_level0_col2\" class=\"col_heading level0 col2\" >n_groups</th>\n",
       "      <th id=\"T_c00ad_level0_col3\" class=\"col_heading level0 col3\" >n_components</th>\n",
       "      <th id=\"T_c00ad_level0_col4\" class=\"col_heading level0 col4\" >n_chains</th>\n",
       "      <th id=\"T_c00ad_level0_col5\" class=\"col_heading level0 col5\" >n_molecules</th>\n",
       "      <th id=\"T_c00ad_level0_col6\" class=\"col_heading level0 col6\" >n_entities</th>\n",
       "      <th id=\"T_c00ad_level0_col7\" class=\"col_heading level0 col7\" >n_waters</th>\n",
       "      <th id=\"T_c00ad_level0_col8\" class=\"col_heading level0 col8\" >n_proteins</th>\n",
       "      <th id=\"T_c00ad_level0_col9\" class=\"col_heading level0 col9\" >n_structures</th>\n",
       "    </tr>\n",
       "  </thead>\n",
       "  <tbody>\n",
       "    <tr>\n",
       "      <td id=\"T_c00ad_row0_col0\" class=\"data row0 col0\" >molsysmt.MolSys</td>\n",
       "      <td id=\"T_c00ad_row0_col1\" class=\"data row0 col1\" >5153</td>\n",
       "      <td id=\"T_c00ad_row0_col2\" class=\"data row0 col2\" >1101</td>\n",
       "      <td id=\"T_c00ad_row0_col3\" class=\"data row0 col3\" >521</td>\n",
       "      <td id=\"T_c00ad_row0_col4\" class=\"data row0 col4\" >12</td>\n",
       "      <td id=\"T_c00ad_row0_col5\" class=\"data row0 col5\" >519</td>\n",
       "      <td id=\"T_c00ad_row0_col6\" class=\"data row0 col6\" >3</td>\n",
       "      <td id=\"T_c00ad_row0_col7\" class=\"data row0 col7\" >513</td>\n",
       "      <td id=\"T_c00ad_row0_col8\" class=\"data row0 col8\" >6</td>\n",
       "      <td id=\"T_c00ad_row0_col9\" class=\"data row0 col9\" >1</td>\n",
       "    </tr>\n",
       "  </tbody>\n",
       "</table>\n"
      ],
      "text/plain": [
       "<pandas.io.formats.style.Styler at 0x7fec128b8cd0>"
      ]
     },
     "execution_count": 3,
     "metadata": {},
     "output_type": "execute_result"
    }
   ],
   "source": [
    "msm.info(molsys)"
   ]
  },
  {
   "cell_type": "code",
   "execution_count": 4,
   "id": "402451e7-cba7-4bea-b204-936c625d131f",
   "metadata": {},
   "outputs": [],
   "source": [
    "molsys = msm.extract(molsys, selection='molecule_type==\"protein\"')"
   ]
  },
  {
   "cell_type": "code",
   "execution_count": 5,
   "id": "f1cfcf09-bb0c-4b42-89ce-812ba4eb1136",
   "metadata": {},
   "outputs": [
    {
     "data": {
      "text/html": [
       "<style type=\"text/css\">\n",
       "</style>\n",
       "<table id=\"T_503e6\">\n",
       "  <thead>\n",
       "    <tr>\n",
       "      <th id=\"T_503e6_level0_col0\" class=\"col_heading level0 col0\" >form</th>\n",
       "      <th id=\"T_503e6_level0_col1\" class=\"col_heading level0 col1\" >n_atoms</th>\n",
       "      <th id=\"T_503e6_level0_col2\" class=\"col_heading level0 col2\" >n_groups</th>\n",
       "      <th id=\"T_503e6_level0_col3\" class=\"col_heading level0 col3\" >n_components</th>\n",
       "      <th id=\"T_503e6_level0_col4\" class=\"col_heading level0 col4\" >n_chains</th>\n",
       "      <th id=\"T_503e6_level0_col5\" class=\"col_heading level0 col5\" >n_molecules</th>\n",
       "      <th id=\"T_503e6_level0_col6\" class=\"col_heading level0 col6\" >n_entities</th>\n",
       "      <th id=\"T_503e6_level0_col7\" class=\"col_heading level0 col7\" >n_proteins</th>\n",
       "      <th id=\"T_503e6_level0_col8\" class=\"col_heading level0 col8\" >n_structures</th>\n",
       "    </tr>\n",
       "  </thead>\n",
       "  <tbody>\n",
       "    <tr>\n",
       "      <td id=\"T_503e6_row0_col0\" class=\"data row0 col0\" >molsysmt.MolSys</td>\n",
       "      <td id=\"T_503e6_row0_col1\" class=\"data row0 col1\" >4640</td>\n",
       "      <td id=\"T_503e6_row0_col2\" class=\"data row0 col2\" >588</td>\n",
       "      <td id=\"T_503e6_row0_col3\" class=\"data row0 col3\" >8</td>\n",
       "      <td id=\"T_503e6_row0_col4\" class=\"data row0 col4\" >6</td>\n",
       "      <td id=\"T_503e6_row0_col5\" class=\"data row0 col5\" >6</td>\n",
       "      <td id=\"T_503e6_row0_col6\" class=\"data row0 col6\" >2</td>\n",
       "      <td id=\"T_503e6_row0_col7\" class=\"data row0 col7\" >6</td>\n",
       "      <td id=\"T_503e6_row0_col8\" class=\"data row0 col8\" >1</td>\n",
       "    </tr>\n",
       "  </tbody>\n",
       "</table>\n"
      ],
      "text/plain": [
       "<pandas.io.formats.style.Styler at 0x7fec1a969a60>"
      ]
     },
     "execution_count": 5,
     "metadata": {},
     "output_type": "execute_result"
    }
   ],
   "source": [
    "msm.info(molsys)"
   ]
  },
  {
   "cell_type": "code",
   "execution_count": 6,
   "id": "8adce55f-f5e2-41e2-b09b-717b50db7ad5",
   "metadata": {},
   "outputs": [
    {
     "data": {
      "text/html": [
       "<style type=\"text/css\">\n",
       "</style>\n",
       "<table id=\"T_a1f1d\">\n",
       "  <thead>\n",
       "    <tr>\n",
       "      <th id=\"T_a1f1d_level0_col0\" class=\"col_heading level0 col0\" >index</th>\n",
       "      <th id=\"T_a1f1d_level0_col1\" class=\"col_heading level0 col1\" >name</th>\n",
       "      <th id=\"T_a1f1d_level0_col2\" class=\"col_heading level0 col2\" >type</th>\n",
       "      <th id=\"T_a1f1d_level0_col3\" class=\"col_heading level0 col3\" >n atoms</th>\n",
       "      <th id=\"T_a1f1d_level0_col4\" class=\"col_heading level0 col4\" >n groups</th>\n",
       "      <th id=\"T_a1f1d_level0_col5\" class=\"col_heading level0 col5\" >n components</th>\n",
       "      <th id=\"T_a1f1d_level0_col6\" class=\"col_heading level0 col6\" >chain index</th>\n",
       "      <th id=\"T_a1f1d_level0_col7\" class=\"col_heading level0 col7\" >entity index</th>\n",
       "      <th id=\"T_a1f1d_level0_col8\" class=\"col_heading level0 col8\" >entity name</th>\n",
       "    </tr>\n",
       "  </thead>\n",
       "  <tbody>\n",
       "    <tr>\n",
       "      <td id=\"T_a1f1d_row0_col0\" class=\"data row0 col0\" >0</td>\n",
       "      <td id=\"T_a1f1d_row0_col1\" class=\"data row0 col1\" >Barnase</td>\n",
       "      <td id=\"T_a1f1d_row0_col2\" class=\"data row0 col2\" >protein</td>\n",
       "      <td id=\"T_a1f1d_row0_col3\" class=\"data row0 col3\" >864</td>\n",
       "      <td id=\"T_a1f1d_row0_col4\" class=\"data row0 col4\" >108</td>\n",
       "      <td id=\"T_a1f1d_row0_col5\" class=\"data row0 col5\" >1</td>\n",
       "      <td id=\"T_a1f1d_row0_col6\" class=\"data row0 col6\" >0</td>\n",
       "      <td id=\"T_a1f1d_row0_col7\" class=\"data row0 col7\" >0</td>\n",
       "      <td id=\"T_a1f1d_row0_col8\" class=\"data row0 col8\" >Barnase</td>\n",
       "    </tr>\n",
       "    <tr>\n",
       "      <td id=\"T_a1f1d_row1_col0\" class=\"data row1 col0\" >1</td>\n",
       "      <td id=\"T_a1f1d_row1_col1\" class=\"data row1 col1\" >Barnase</td>\n",
       "      <td id=\"T_a1f1d_row1_col2\" class=\"data row1 col2\" >protein</td>\n",
       "      <td id=\"T_a1f1d_row1_col3\" class=\"data row1 col3\" >878</td>\n",
       "      <td id=\"T_a1f1d_row1_col4\" class=\"data row1 col4\" >110</td>\n",
       "      <td id=\"T_a1f1d_row1_col5\" class=\"data row1 col5\" >1</td>\n",
       "      <td id=\"T_a1f1d_row1_col6\" class=\"data row1 col6\" >1</td>\n",
       "      <td id=\"T_a1f1d_row1_col7\" class=\"data row1 col7\" >0</td>\n",
       "      <td id=\"T_a1f1d_row1_col8\" class=\"data row1 col8\" >Barnase</td>\n",
       "    </tr>\n",
       "    <tr>\n",
       "      <td id=\"T_a1f1d_row2_col0\" class=\"data row2 col0\" >2</td>\n",
       "      <td id=\"T_a1f1d_row2_col1\" class=\"data row2 col1\" >Barnase</td>\n",
       "      <td id=\"T_a1f1d_row2_col2\" class=\"data row2 col2\" >protein</td>\n",
       "      <td id=\"T_a1f1d_row2_col3\" class=\"data row2 col3\" >839</td>\n",
       "      <td id=\"T_a1f1d_row2_col4\" class=\"data row2 col4\" >108</td>\n",
       "      <td id=\"T_a1f1d_row2_col5\" class=\"data row2 col5\" >1</td>\n",
       "      <td id=\"T_a1f1d_row2_col6\" class=\"data row2 col6\" >2</td>\n",
       "      <td id=\"T_a1f1d_row2_col7\" class=\"data row2 col7\" >0</td>\n",
       "      <td id=\"T_a1f1d_row2_col8\" class=\"data row2 col8\" >Barnase</td>\n",
       "    </tr>\n",
       "    <tr>\n",
       "      <td id=\"T_a1f1d_row3_col0\" class=\"data row3 col0\" >3</td>\n",
       "      <td id=\"T_a1f1d_row3_col1\" class=\"data row3 col1\" >Barstar</td>\n",
       "      <td id=\"T_a1f1d_row3_col2\" class=\"data row3 col2\" >protein</td>\n",
       "      <td id=\"T_a1f1d_row3_col3\" class=\"data row3 col3\" >695</td>\n",
       "      <td id=\"T_a1f1d_row3_col4\" class=\"data row3 col4\" >87</td>\n",
       "      <td id=\"T_a1f1d_row3_col5\" class=\"data row3 col5\" >2</td>\n",
       "      <td id=\"T_a1f1d_row3_col6\" class=\"data row3 col6\" >3</td>\n",
       "      <td id=\"T_a1f1d_row3_col7\" class=\"data row3 col7\" >1</td>\n",
       "      <td id=\"T_a1f1d_row3_col8\" class=\"data row3 col8\" >Barstar</td>\n",
       "    </tr>\n",
       "    <tr>\n",
       "      <td id=\"T_a1f1d_row4_col0\" class=\"data row4 col0\" >4</td>\n",
       "      <td id=\"T_a1f1d_row4_col1\" class=\"data row4 col1\" >Barstar</td>\n",
       "      <td id=\"T_a1f1d_row4_col2\" class=\"data row4 col2\" >protein</td>\n",
       "      <td id=\"T_a1f1d_row4_col3\" class=\"data row4 col3\" >665</td>\n",
       "      <td id=\"T_a1f1d_row4_col4\" class=\"data row4 col4\" >86</td>\n",
       "      <td id=\"T_a1f1d_row4_col5\" class=\"data row4 col5\" >2</td>\n",
       "      <td id=\"T_a1f1d_row4_col6\" class=\"data row4 col6\" >4</td>\n",
       "      <td id=\"T_a1f1d_row4_col7\" class=\"data row4 col7\" >1</td>\n",
       "      <td id=\"T_a1f1d_row4_col8\" class=\"data row4 col8\" >Barstar</td>\n",
       "    </tr>\n",
       "    <tr>\n",
       "      <td id=\"T_a1f1d_row5_col0\" class=\"data row5 col0\" >5</td>\n",
       "      <td id=\"T_a1f1d_row5_col1\" class=\"data row5 col1\" >Barstar</td>\n",
       "      <td id=\"T_a1f1d_row5_col2\" class=\"data row5 col2\" >protein</td>\n",
       "      <td id=\"T_a1f1d_row5_col3\" class=\"data row5 col3\" >699</td>\n",
       "      <td id=\"T_a1f1d_row5_col4\" class=\"data row5 col4\" >89</td>\n",
       "      <td id=\"T_a1f1d_row5_col5\" class=\"data row5 col5\" >1</td>\n",
       "      <td id=\"T_a1f1d_row5_col6\" class=\"data row5 col6\" >5</td>\n",
       "      <td id=\"T_a1f1d_row5_col7\" class=\"data row5 col7\" >1</td>\n",
       "      <td id=\"T_a1f1d_row5_col8\" class=\"data row5 col8\" >Barstar</td>\n",
       "    </tr>\n",
       "  </tbody>\n",
       "</table>\n"
      ],
      "text/plain": [
       "<pandas.io.formats.style.Styler at 0x7fec1a934250>"
      ]
     },
     "execution_count": 6,
     "metadata": {},
     "output_type": "execute_result"
    }
   ],
   "source": [
    "msm.info(molsys, element='molecule')"
   ]
  },
  {
   "cell_type": "code",
   "execution_count": 7,
   "id": "c6254a50-15c4-452d-9530-ad0afc819861",
   "metadata": {},
   "outputs": [
    {
     "data": {
      "text/html": [
       "<style type=\"text/css\">\n",
       "</style>\n",
       "<table id=\"T_e43fc\">\n",
       "  <thead>\n",
       "    <tr>\n",
       "      <th id=\"T_e43fc_level0_col0\" class=\"col_heading level0 col0\" >index</th>\n",
       "      <th id=\"T_e43fc_level0_col1\" class=\"col_heading level0 col1\" >id</th>\n",
       "      <th id=\"T_e43fc_level0_col2\" class=\"col_heading level0 col2\" >name</th>\n",
       "      <th id=\"T_e43fc_level0_col3\" class=\"col_heading level0 col3\" >n atoms</th>\n",
       "      <th id=\"T_e43fc_level0_col4\" class=\"col_heading level0 col4\" >n groups</th>\n",
       "      <th id=\"T_e43fc_level0_col5\" class=\"col_heading level0 col5\" >n components</th>\n",
       "      <th id=\"T_e43fc_level0_col6\" class=\"col_heading level0 col6\" >molecule index</th>\n",
       "      <th id=\"T_e43fc_level0_col7\" class=\"col_heading level0 col7\" >molecule type</th>\n",
       "      <th id=\"T_e43fc_level0_col8\" class=\"col_heading level0 col8\" >entity index</th>\n",
       "      <th id=\"T_e43fc_level0_col9\" class=\"col_heading level0 col9\" >entity name</th>\n",
       "    </tr>\n",
       "  </thead>\n",
       "  <tbody>\n",
       "    <tr>\n",
       "      <td id=\"T_e43fc_row0_col0\" class=\"data row0 col0\" >0</td>\n",
       "      <td id=\"T_e43fc_row0_col1\" class=\"data row0 col1\" >A</td>\n",
       "      <td id=\"T_e43fc_row0_col2\" class=\"data row0 col2\" >A</td>\n",
       "      <td id=\"T_e43fc_row0_col3\" class=\"data row0 col3\" >864</td>\n",
       "      <td id=\"T_e43fc_row0_col4\" class=\"data row0 col4\" >108</td>\n",
       "      <td id=\"T_e43fc_row0_col5\" class=\"data row0 col5\" >1</td>\n",
       "      <td id=\"T_e43fc_row0_col6\" class=\"data row0 col6\" >0</td>\n",
       "      <td id=\"T_e43fc_row0_col7\" class=\"data row0 col7\" >protein</td>\n",
       "      <td id=\"T_e43fc_row0_col8\" class=\"data row0 col8\" >0</td>\n",
       "      <td id=\"T_e43fc_row0_col9\" class=\"data row0 col9\" >Barnase</td>\n",
       "    </tr>\n",
       "    <tr>\n",
       "      <td id=\"T_e43fc_row1_col0\" class=\"data row1 col0\" >1</td>\n",
       "      <td id=\"T_e43fc_row1_col1\" class=\"data row1 col1\" >B</td>\n",
       "      <td id=\"T_e43fc_row1_col2\" class=\"data row1 col2\" >B</td>\n",
       "      <td id=\"T_e43fc_row1_col3\" class=\"data row1 col3\" >878</td>\n",
       "      <td id=\"T_e43fc_row1_col4\" class=\"data row1 col4\" >110</td>\n",
       "      <td id=\"T_e43fc_row1_col5\" class=\"data row1 col5\" >1</td>\n",
       "      <td id=\"T_e43fc_row1_col6\" class=\"data row1 col6\" >1</td>\n",
       "      <td id=\"T_e43fc_row1_col7\" class=\"data row1 col7\" >protein</td>\n",
       "      <td id=\"T_e43fc_row1_col8\" class=\"data row1 col8\" >0</td>\n",
       "      <td id=\"T_e43fc_row1_col9\" class=\"data row1 col9\" >Barnase</td>\n",
       "    </tr>\n",
       "    <tr>\n",
       "      <td id=\"T_e43fc_row2_col0\" class=\"data row2 col0\" >2</td>\n",
       "      <td id=\"T_e43fc_row2_col1\" class=\"data row2 col1\" >C</td>\n",
       "      <td id=\"T_e43fc_row2_col2\" class=\"data row2 col2\" >C</td>\n",
       "      <td id=\"T_e43fc_row2_col3\" class=\"data row2 col3\" >839</td>\n",
       "      <td id=\"T_e43fc_row2_col4\" class=\"data row2 col4\" >108</td>\n",
       "      <td id=\"T_e43fc_row2_col5\" class=\"data row2 col5\" >1</td>\n",
       "      <td id=\"T_e43fc_row2_col6\" class=\"data row2 col6\" >2</td>\n",
       "      <td id=\"T_e43fc_row2_col7\" class=\"data row2 col7\" >protein</td>\n",
       "      <td id=\"T_e43fc_row2_col8\" class=\"data row2 col8\" >0</td>\n",
       "      <td id=\"T_e43fc_row2_col9\" class=\"data row2 col9\" >Barnase</td>\n",
       "    </tr>\n",
       "    <tr>\n",
       "      <td id=\"T_e43fc_row3_col0\" class=\"data row3 col0\" >3</td>\n",
       "      <td id=\"T_e43fc_row3_col1\" class=\"data row3 col1\" >D</td>\n",
       "      <td id=\"T_e43fc_row3_col2\" class=\"data row3 col2\" >D</td>\n",
       "      <td id=\"T_e43fc_row3_col3\" class=\"data row3 col3\" >695</td>\n",
       "      <td id=\"T_e43fc_row3_col4\" class=\"data row3 col4\" >87</td>\n",
       "      <td id=\"T_e43fc_row3_col5\" class=\"data row3 col5\" >2</td>\n",
       "      <td id=\"T_e43fc_row3_col6\" class=\"data row3 col6\" >3</td>\n",
       "      <td id=\"T_e43fc_row3_col7\" class=\"data row3 col7\" >protein</td>\n",
       "      <td id=\"T_e43fc_row3_col8\" class=\"data row3 col8\" >1</td>\n",
       "      <td id=\"T_e43fc_row3_col9\" class=\"data row3 col9\" >Barstar</td>\n",
       "    </tr>\n",
       "    <tr>\n",
       "      <td id=\"T_e43fc_row4_col0\" class=\"data row4 col0\" >4</td>\n",
       "      <td id=\"T_e43fc_row4_col1\" class=\"data row4 col1\" >E</td>\n",
       "      <td id=\"T_e43fc_row4_col2\" class=\"data row4 col2\" >E</td>\n",
       "      <td id=\"T_e43fc_row4_col3\" class=\"data row4 col3\" >665</td>\n",
       "      <td id=\"T_e43fc_row4_col4\" class=\"data row4 col4\" >86</td>\n",
       "      <td id=\"T_e43fc_row4_col5\" class=\"data row4 col5\" >2</td>\n",
       "      <td id=\"T_e43fc_row4_col6\" class=\"data row4 col6\" >4</td>\n",
       "      <td id=\"T_e43fc_row4_col7\" class=\"data row4 col7\" >protein</td>\n",
       "      <td id=\"T_e43fc_row4_col8\" class=\"data row4 col8\" >1</td>\n",
       "      <td id=\"T_e43fc_row4_col9\" class=\"data row4 col9\" >Barstar</td>\n",
       "    </tr>\n",
       "    <tr>\n",
       "      <td id=\"T_e43fc_row5_col0\" class=\"data row5 col0\" >5</td>\n",
       "      <td id=\"T_e43fc_row5_col1\" class=\"data row5 col1\" >F</td>\n",
       "      <td id=\"T_e43fc_row5_col2\" class=\"data row5 col2\" >F</td>\n",
       "      <td id=\"T_e43fc_row5_col3\" class=\"data row5 col3\" >699</td>\n",
       "      <td id=\"T_e43fc_row5_col4\" class=\"data row5 col4\" >89</td>\n",
       "      <td id=\"T_e43fc_row5_col5\" class=\"data row5 col5\" >1</td>\n",
       "      <td id=\"T_e43fc_row5_col6\" class=\"data row5 col6\" >5</td>\n",
       "      <td id=\"T_e43fc_row5_col7\" class=\"data row5 col7\" >protein</td>\n",
       "      <td id=\"T_e43fc_row5_col8\" class=\"data row5 col8\" >1</td>\n",
       "      <td id=\"T_e43fc_row5_col9\" class=\"data row5 col9\" >Barstar</td>\n",
       "    </tr>\n",
       "  </tbody>\n",
       "</table>\n"
      ],
      "text/plain": [
       "<pandas.io.formats.style.Styler at 0x7fec113534c0>"
      ]
     },
     "execution_count": 7,
     "metadata": {},
     "output_type": "execute_result"
    }
   ],
   "source": [
    "msm.info(molsys, element='chain')"
   ]
  },
  {
   "cell_type": "code",
   "execution_count": 9,
   "id": "d9b5135e-3737-418f-b47c-e83b9d206e05",
   "metadata": {},
   "outputs": [
    {
     "data": {
      "application/vnd.jupyter.widget-view+json": {
       "model_id": "81b730f8b1bf4f34ba8de30d92ba171d",
       "version_major": 2,
       "version_minor": 0
      },
      "text/plain": [
       "NGLWidget()"
      ]
     },
     "metadata": {},
     "output_type": "display_data"
    }
   ],
   "source": [
    "msm.view(molsys)"
   ]
  },
  {
   "cell_type": "code",
   "execution_count": null,
   "id": "1852dcfb-2793-4e27-99be-db88556e468b",
   "metadata": {},
   "outputs": [],
   "source": []
  },
  {
   "cell_type": "code",
   "execution_count": 12,
   "id": "0fe6ad16-5306-4a00-b813-a93434a2ea45",
   "metadata": {},
   "outputs": [],
   "source": [
    "barnase = msm.extract(molsys, selection=\"chain_name=='B'\")\n",
    "barstar_E = msm.extract(molsys, selection=\"chain_name=='E'\")\n",
    "barstar_F = msm.extract(molsys, selection=\"chain_name=='F'\")"
   ]
  },
  {
   "cell_type": "code",
   "execution_count": null,
   "id": "22cbcbdb-44b6-4652-b8cf-69861f9a99f0",
   "metadata": {},
   "outputs": [],
   "source": [
    "msm.view([barnase, barstar_E, barstar_F])"
   ]
  },
  {
   "cell_type": "code",
   "execution_count": null,
   "id": "3f6ff7b5-6743-405f-b38a-df2b26b37220",
   "metadata": {},
   "outputs": [],
   "source": [
    "barstar_F_over_E = msm.structure.align(barstar_F, selection='atom_name==\"CA\"',\n",
    "                                       reference_molecular_system=barstar_E, reference_selection='atom_name==\"CA\"')"
   ]
  },
  {
   "cell_type": "code",
   "execution_count": null,
   "id": "4ba2065c-7c69-4f7b-9eef-42c43186c091",
   "metadata": {},
   "outputs": [],
   "source": [
    "msm.view([barnase, barstar_E, barstar_F_over_E])"
   ]
  },
  {
   "cell_type": "code",
   "execution_count": null,
   "id": "5e215d45-fc61-4e47-964d-39b21725ace2",
   "metadata": {},
   "outputs": [],
   "source": [
    "barnase_barstar = msm.merge([barnase, barstar_F_over_E])"
   ]
  },
  {
   "cell_type": "code",
   "execution_count": null,
   "id": "fadc4580-9301-4861-b136-ca8eb3a2d13c",
   "metadata": {},
   "outputs": [],
   "source": [
    "msm.view(barnase_barstar)"
   ]
  },
  {
   "cell_type": "code",
   "execution_count": null,
   "id": "40e44298-1802-4ae8-8e2e-10ec7f5a749e",
   "metadata": {},
   "outputs": [],
   "source": [
    "msm.build.get_missing_heavy_atoms(barnase_barstar)"
   ]
  },
  {
   "cell_type": "code",
   "execution_count": null,
   "id": "8077b8ee-fb4f-4e21-b771-3e12b1350f30",
   "metadata": {},
   "outputs": [],
   "source": [
    "barnase_barstar = msm.build.add_missing_heavy_atoms(barnase_barstar)"
   ]
  },
  {
   "cell_type": "code",
   "execution_count": null,
   "id": "69577990-8162-463e-a78e-8d250c3e6578",
   "metadata": {},
   "outputs": [],
   "source": [
    "msm.contains(barnase_barstar, hydrogens=True)"
   ]
  },
  {
   "cell_type": "code",
   "execution_count": null,
   "id": "29706b5c-0946-4a5e-8307-50386f31ce0d",
   "metadata": {},
   "outputs": [],
   "source": [
    "msm.get(barnase_barstar, element='atom', selection='atom_type==\"H\"', n_atoms=True)"
   ]
  },
  {
   "cell_type": "code",
   "execution_count": null,
   "id": "cf935ced-e7ef-4d84-b385-01d7f2954652",
   "metadata": {},
   "outputs": [],
   "source": [
    "barnase_barstar = msm.build.add_missing_hydrogens(barnase_barstar, pH=7.4)"
   ]
  },
  {
   "cell_type": "code",
   "execution_count": null,
   "id": "9bb4f458-5437-4d43-8059-5160a6b1a4ca",
   "metadata": {},
   "outputs": [],
   "source": [
    "msm.get(barnase_barstar, element='atom', selection='atom_type==\"H\"', n_atoms=True)"
   ]
  },
  {
   "cell_type": "code",
   "execution_count": null,
   "id": "cff30765-8a8f-458a-96d3-68872cf27e73",
   "metadata": {},
   "outputs": [],
   "source": [
    "msm.convert(barnase_barstar, to_form='my_barnase_barstar.pdb')"
   ]
  },
  {
   "cell_type": "code",
   "execution_count": null,
   "id": "b07afd89-5935-4157-8537-e6a8d8b2cdaa",
   "metadata": {},
   "outputs": [],
   "source": [
    "from os import remove\n",
    "remove('my_barnase_barstar.pdb')"
   ]
  }
 ],
 "metadata": {
  "kernelspec": {
   "display_name": "Python 3 (ipykernel)",
   "language": "python",
   "name": "python3"
  },
  "language_info": {
   "codemirror_mode": {
    "name": "ipython",
    "version": 3
   },
   "file_extension": ".py",
   "mimetype": "text/x-python",
   "name": "python",
   "nbconvert_exporter": "python",
   "pygments_lexer": "ipython3",
   "version": "3.9.13"
  }
 },
 "nbformat": 4,
 "nbformat_minor": 5
}
