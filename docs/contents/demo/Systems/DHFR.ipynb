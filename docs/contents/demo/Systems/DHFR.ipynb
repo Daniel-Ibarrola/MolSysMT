{
 "cells": [
  {
   "cell_type": "code",
   "execution_count": 1,
   "id": "f32ab984-33a7-4675-84da-129cf125c566",
   "metadata": {},
   "outputs": [],
   "source": [
    "%load_ext autoreload\n",
    "%autoreload 2"
   ]
  },
  {
   "cell_type": "markdown",
   "id": "c2c23653-0e2e-4c08-9dbf-13e86df4339c",
   "metadata": {},
   "source": [
    "# Dihydrofolate reductase"
   ]
  },
  {
   "cell_type": "code",
   "execution_count": 2,
   "id": "b43df456-092e-45ec-8bbe-e6269be2b97c",
   "metadata": {},
   "outputs": [
    {
     "name": "stderr",
     "output_type": "stream",
     "text": [
      "Warning: importing 'simtk.openmm' is deprecated.  Import 'openmm' instead.\n"
     ]
    },
    {
     "data": {
      "application/vnd.jupyter.widget-view+json": {
       "model_id": "7321a33063534ae78e6edae5b8ca7586",
       "version_major": 2,
       "version_minor": 0
      },
      "text/plain": []
     },
     "metadata": {},
     "output_type": "display_data"
    }
   ],
   "source": [
    "import molsysmt as msm"
   ]
  },
  {
   "cell_type": "code",
   "execution_count": 3,
   "id": "508460ea-e6b3-4390-aa8a-8a7756c4c72e",
   "metadata": {},
   "outputs": [
    {
     "name": "stderr",
     "output_type": "stream",
     "text": [
      "/home/diego/projects/molsysmt/molsysmt/native/io/topology/classes/mmtf_MMTFDecoder.py:27: UserWarning: The structure in the PDB has biological assemblies. There are geometrical transformations proposed in the structure. See the following issue in the source code repository: https://github.com/uibcdf/MolSysMT/issues/33\n",
      "  warnings.warn(warning_message)\n"
     ]
    }
   ],
   "source": [
    "molecular_system = msm.convert('pdbid:4m6j', to_form='molsysmt.MolSys')"
   ]
  },
  {
   "cell_type": "code",
   "execution_count": 5,
   "id": "9cc72bb7-fe2e-473e-82be-69a7dd96ac31",
   "metadata": {},
   "outputs": [
    {
     "data": {
      "application/vnd.jupyter.widget-view+json": {
       "model_id": "e87cc93e432c44f0b6853f48f561d889",
       "version_major": 2,
       "version_minor": 0
      },
      "text/plain": [
       "NGLWidget()"
      ]
     },
     "metadata": {},
     "output_type": "display_data"
    }
   ],
   "source": [
    "msm.view(molecular_system)"
   ]
  },
  {
   "cell_type": "markdown",
   "id": "4c5048cb-aef3-4d30-8ba5-af6c50b0e07f",
   "metadata": {},
   "source": [
    "References:\n",
    "\n",
    "[Harvey, M J, G Giupponi, and G De Fabritiis. “ACEMD: Accelerating Biomolecular Dynamics in the Microsecond Time Scale.” Journal of Chemical Theory and Computation 5, no. 6 (2009): 1632–39.](https://doi.org/10.1021/ct9000685)\n",
    "\n",
    "[Eastman, Peter, Jason Swails, John D. Chodera, Robert T. McGibbon, Yutong Zhao, Kyle A. Beauchamp, Lee-Ping Wang, et al. “OpenMM 7: Rapid Development of High Performance Algorithms for Molecular Dynamics.” PLOS Computational Biology 13, no. 7 (2017): e1005659.](https://doi.org/10.1371/journal.pcbi.1005659)\n",
    "    \n",
    "https://www.r-ccs.riken.jp/labs/cbrt/benchmark-2020/#Input_and_control_files_of_the_benchmark\n",
    "\n",
    "https://ambermd.org/gpus16/benchmarks.htm\n",
    "\n",
    "https://ambermd.org/GPUPerformance.php\n",
    "\n"
   ]
  },
  {
   "cell_type": "code",
   "execution_count": null,
   "id": "822bdacd-c143-4a15-be11-f35d911afd48",
   "metadata": {},
   "outputs": [],
   "source": []
  }
 ],
 "metadata": {
  "kernelspec": {
   "display_name": "Python 3 (ipykernel)",
   "language": "python",
   "name": "python3"
  },
  "language_info": {
   "codemirror_mode": {
    "name": "ipython",
    "version": 3
   },
   "file_extension": ".py",
   "mimetype": "text/x-python",
   "name": "python",
   "nbconvert_exporter": "python",
   "pygments_lexer": "ipython3",
   "version": "3.7.10"
  }
 },
 "nbformat": 4,
 "nbformat_minor": 5
}
