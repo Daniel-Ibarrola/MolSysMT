{
 "cells": [
  {
   "cell_type": "code",
   "execution_count": 1,
   "id": "7884fe0a-9320-4a4e-b5b7-d7b14d5f5c22",
   "metadata": {},
   "outputs": [],
   "source": [
    "%load_ext autoreload\n",
    "%autoreload 2"
   ]
  },
  {
   "cell_type": "markdown",
   "id": "d89a220f-10b3-4525-9762-dd5b6a94b3d0",
   "metadata": {},
   "source": [
    "# Barnase-Barstar complex"
   ]
  },
  {
   "cell_type": "code",
   "execution_count": 2,
   "id": "1bb1e5a4-14f2-494c-8b76-31b77bd01bcc",
   "metadata": {},
   "outputs": [
    {
     "name": "stderr",
     "output_type": "stream",
     "text": [
      "Warning: importing 'simtk.openmm' is deprecated.  Import 'openmm' instead.\n"
     ]
    },
    {
     "data": {
      "application/vnd.jupyter.widget-view+json": {
       "model_id": "ec0cfb7120034ef58ce99b20ae3170e1",
       "version_major": 2,
       "version_minor": 0
      },
      "text/plain": []
     },
     "metadata": {},
     "output_type": "display_data"
    }
   ],
   "source": [
    "import molsysmt as msm"
   ]
  },
  {
   "cell_type": "code",
   "execution_count": 3,
   "id": "18dbdc5d-ccdc-48fd-9137-4014e1482f26",
   "metadata": {},
   "outputs": [
    {
     "name": "stdout",
     "output_type": "stream",
     "text": [
      "The bioassembly has a different number of chains than the total amount of chains\n"
     ]
    },
    {
     "name": "stderr",
     "output_type": "stream",
     "text": [
      "/home/diego/projects/molsysmt/molsysmt/native/io/topology/classes/mmtf_MMTFDecoder.py:27: UserWarning: The structure in the PDB has biological assemblies. There are geometrical transformations proposed in the structure. See the following issue in the source code repository: https://github.com/uibcdf/MolSysMT/issues/33\n",
      "  warnings.warn(warning_message)\n",
      "/home/diego/projects/molsysmt/molsysmt/native/io/topology/classes/mmtf_MMTFDecoder.py:42: UserWarning: The bioassembly has a different number of chains than the total amount of chains\n",
      "  warnings.warn(warning_message)\n"
     ]
    }
   ],
   "source": [
    "molecular_system = msm.convert('pdbid:1brs', to_form='molsysmt.MolSys')"
   ]
  },
  {
   "cell_type": "code",
   "execution_count": 4,
   "id": "c3bc2560-1b58-4af2-b620-adfbcf66aa68",
   "metadata": {},
   "outputs": [
    {
     "name": "stderr",
     "output_type": "stream",
     "text": [
      "/home/diego/MyMachine/locals/miniconda/envs/MolSysMT/lib/python3.7/site-packages/openmm/app/internal/pdbstructure.py:537: UserWarning: WARNING: duplicate atom (ATOM   2692  CB  SER D  14      32.757  22.571   1.533  1.00  0.00           C  , ATOM   2690  CB  SER D  14      32.742  22.579   1.536  1.00  0.00           C  )\n",
      "  warnings.warn(\"WARNING: duplicate atom (%s, %s)\" % (atom, old_atom._pdb_string(old_atom.serial_number, atom.alternate_location_indicator)))\n",
      "/home/diego/MyMachine/locals/miniconda/envs/MolSysMT/lib/python3.7/site-packages/openmm/app/internal/pdbstructure.py:537: UserWarning: WARNING: duplicate atom (ATOM   2693  OG  SER D  14      33.396  21.920   2.619  1.00  0.00           O  , ATOM   2691  OG  SER D  14      31.412  22.410   1.076  1.00  0.00           O  )\n",
      "  warnings.warn(\"WARNING: duplicate atom (%s, %s)\" % (atom, old_atom._pdb_string(old_atom.serial_number, atom.alternate_location_indicator)))\n"
     ]
    },
    {
     "data": {
      "application/vnd.jupyter.widget-view+json": {
       "model_id": "2966c695e59647ff993ace4251126380",
       "version_major": 2,
       "version_minor": 0
      },
      "text/plain": [
       "NGLWidget()"
      ]
     },
     "metadata": {},
     "output_type": "display_data"
    }
   ],
   "source": [
    "msm.view(molecular_system)"
   ]
  },
  {
   "cell_type": "code",
   "execution_count": 5,
   "id": "b7b77c78-ddc2-4bad-abab-fa9ad2d2c781",
   "metadata": {},
   "outputs": [],
   "source": [
    "molecular_system = msm.build.remove_hydrogens(molecular_system)\n",
    "molecular_system = msm.build.remove_solvent(molecular_system)"
   ]
  },
  {
   "cell_type": "code",
   "execution_count": 6,
   "id": "0fb80b1d-0903-4d85-aa39-7f0e833a4460",
   "metadata": {},
   "outputs": [
    {
     "data": {
      "text/plain": [
       "[[108, 110, 108, 63, 24, 62, 24, 89],\n",
       " array(['A', 'B', 'C', 'D', 'D', 'E', 'E', 'F'], dtype=object)]"
      ]
     },
     "execution_count": 6,
     "metadata": {},
     "output_type": "execute_result"
    }
   ],
   "source": [
    "msm.get(molecular_system, target='component', n_groups=True, chain_name=True)"
   ]
  },
  {
   "cell_type": "code",
   "execution_count": 7,
   "id": "227dfc02-e42a-4cfc-bece-f4f8bbc1dab4",
   "metadata": {},
   "outputs": [],
   "source": [
    "molecular_system_A_D = msm.extract(molecular_system, selection='chain_name==[\"A\",\"D\"]')\n",
    "molecular_system_B_E = msm.extract(molecular_system, selection='chain_name==[\"B\",\"E\"]')\n",
    "molecular_system_C_F = msm.extract(molecular_system, selection='chain_name==[\"C\",\"F\"]')"
   ]
  },
  {
   "cell_type": "code",
   "execution_count": 8,
   "id": "6be906f1-a311-4a0a-b2a9-35efb556ad06",
   "metadata": {},
   "outputs": [],
   "source": [
    "molecular_system_B_E_over_A_D = msm.structure.align(molecular_system_B_E, reference_molecular_system=molecular_system_A_D)"
   ]
  },
  {
   "cell_type": "code",
   "execution_count": 9,
   "id": "b46ee905-3723-4f26-8ef6-cdfeb994f2b5",
   "metadata": {},
   "outputs": [
    {
     "name": "stderr",
     "output_type": "stream",
     "text": [
      "/home/diego/MyMachine/locals/miniconda/envs/MolSysMT/lib/python3.7/site-packages/openmm/app/internal/pdbstructure.py:537: UserWarning: WARNING: duplicate atom (ATOM    973  CB  SER D  14      32.757  22.571   1.533  1.00  0.00           C  , ATOM    971  CB  SER D  14      32.742  22.579   1.536  1.00  0.00           C  )\n",
      "  warnings.warn(\"WARNING: duplicate atom (%s, %s)\" % (atom, old_atom._pdb_string(old_atom.serial_number, atom.alternate_location_indicator)))\n",
      "/home/diego/MyMachine/locals/miniconda/envs/MolSysMT/lib/python3.7/site-packages/openmm/app/internal/pdbstructure.py:537: UserWarning: WARNING: duplicate atom (ATOM    974  OG  SER D  14      33.396  21.920   2.619  1.00  0.00           O  , ATOM    972  OG  SER D  14      31.412  22.410   1.076  1.00  0.00           O  )\n",
      "  warnings.warn(\"WARNING: duplicate atom (%s, %s)\" % (atom, old_atom._pdb_string(old_atom.serial_number, atom.alternate_location_indicator)))\n"
     ]
    },
    {
     "data": {
      "application/vnd.jupyter.widget-view+json": {
       "model_id": "60f9db0b2efd4450911c0b5d6244ea18",
       "version_major": 2,
       "version_minor": 0
      },
      "text/plain": [
       "NGLWidget()"
      ]
     },
     "metadata": {},
     "output_type": "display_data"
    }
   ],
   "source": [
    "msm.view([molecular_system_A_D, molecular_system_B_E_over_A_D])"
   ]
  },
  {
   "cell_type": "code",
   "execution_count": 12,
   "id": "f77e3a68-ce9e-4ee4-ab52-9953e4a75dc2",
   "metadata": {},
   "outputs": [],
   "source": [
    "aa, bb, cc = msm.topology.get_sequence_identity(molecular_system_C_F, selection='all', reference_molecular_system=molecular_system_A_D,\n",
    "                                  reference_selection='all')"
   ]
  },
  {
   "cell_type": "code",
   "execution_count": 13,
   "id": "7d2cb8dc-2a7d-4756-84e2-e8facf263f5c",
   "metadata": {},
   "outputs": [
    {
     "data": {
      "text/plain": [
       "195"
      ]
     },
     "execution_count": 13,
     "metadata": {},
     "output_type": "execute_result"
    }
   ],
   "source": [
    "len(bb)"
   ]
  },
  {
   "cell_type": "code",
   "execution_count": 14,
   "id": "43ea6c77-75eb-46ba-a7d3-af5ab9d52e57",
   "metadata": {},
   "outputs": [
    {
     "data": {
      "text/plain": [
       "195"
      ]
     },
     "execution_count": 14,
     "metadata": {},
     "output_type": "execute_result"
    }
   ],
   "source": [
    "len(cc)"
   ]
  },
  {
   "cell_type": "code",
   "execution_count": 22,
   "id": "32f41973-d3c0-4daf-889a-5664f773bca8",
   "metadata": {},
   "outputs": [
    {
     "name": "stdout",
     "output_type": "stream",
     "text": [
      "['N-2571@828/ARG-110@107/C-C@0/BARNASE@0', 'CA-2572@829/ARG-110@107/C-C@0/BARNASE@0', 'C-2573@830/ARG-110@107/C-C@0/BARNASE@0']\n",
      "['N-853@852/ARG-110@107/A-A@0/BARNASE@0', 'CA-854@853/ARG-110@107/A-A@0/BARNASE@0', 'C-855@854/ARG-110@107/A-A@0/BARNASE@0', 'O-856@855/ARG-110@107/A-A@0/BARNASE@0']\n",
      "['N-4635@1532/SER-89@196/F-F@1/BARSTAR@1', 'CA-4636@1533/SER-89@196/F-F@1/BARSTAR@1', 'C-4637@1534/SER-89@196/F-F@1/BARSTAR@1']\n",
      "['N-3271@1553/SER-89@194/D-D@1/BARSTAR@1', 'CA-3272@1554/SER-89@194/D-D@1/BARSTAR@1', 'C-3273@1555/SER-89@194/D-D@1/BARSTAR@1', 'O-3274@1556/SER-89@194/D-D@1/BARSTAR@1']\n"
     ]
    }
   ],
   "source": [
    "for res_bb, res_cc in zip(bb,cc):\n",
    "    back_bb = msm.select(molecular_system_C_F, selection='backbone and group_index==@res_bb')\n",
    "    back_cc = msm.select(molecular_system_A_D, selection='backbone and group_index==@res_cc')\n",
    "    if len(back_bb)!=len(back_cc):\n",
    "        print(msm.info(molecular_system_C_F, target='atom', indices=back_bb, output='long_string'))\n",
    "        print(msm.info(molecular_system_A_D, target='atom', indices=back_cc, output='long_string'))"
   ]
  },
  {
   "cell_type": "code",
   "execution_count": 19,
   "id": "229410d9-bfe4-4261-b3df-ab0fddedb1ae",
   "metadata": {},
   "outputs": [
    {
     "ename": "ValueError",
     "evalue": "reference selection and selection needs to have the same number of atoms",
     "output_type": "error",
     "traceback": [
      "\u001b[0;31m---------------------------------------------------------------------------\u001b[0m",
      "\u001b[0;31mValueError\u001b[0m                                Traceback (most recent call last)",
      "\u001b[0;32m/tmp/ipykernel_27753/2652182203.py\u001b[0m in \u001b[0;36m<module>\u001b[0;34m\u001b[0m\n\u001b[0;32m----> 1\u001b[0;31m \u001b[0mmolecular_system_C_F_over_A_D\u001b[0m \u001b[0;34m=\u001b[0m \u001b[0mmsm\u001b[0m\u001b[0;34m.\u001b[0m\u001b[0mstructure\u001b[0m\u001b[0;34m.\u001b[0m\u001b[0malign\u001b[0m\u001b[0;34m(\u001b[0m\u001b[0mmolecular_system_C_F\u001b[0m\u001b[0;34m,\u001b[0m \u001b[0mreference_molecular_system\u001b[0m\u001b[0;34m=\u001b[0m\u001b[0mmolecular_system_A_D\u001b[0m\u001b[0;34m)\u001b[0m\u001b[0;34m\u001b[0m\u001b[0;34m\u001b[0m\u001b[0m\n\u001b[0m",
      "\u001b[0;32m~/projects/molsysmt/molsysmt/structure/align.py\u001b[0m in \u001b[0;36malign\u001b[0;34m(molecular_system, selection, frame_indices, reference_molecular_system, reference_selection, reference_frame_index, syntaxis, parallel, method, engine_sequence_alignment, engine_least_rmsd_fit)\u001b[0m\n\u001b[1;32m     39\u001b[0m                          \u001b[0mreference_molecular_system\u001b[0m\u001b[0;34m=\u001b[0m\u001b[0mreference_molecular_system\u001b[0m\u001b[0;34m,\u001b[0m\u001b[0;34m\u001b[0m\u001b[0;34m\u001b[0m\u001b[0m\n\u001b[1;32m     40\u001b[0m                          \u001b[0mreference_selection\u001b[0m\u001b[0;34m=\u001b[0m\u001b[0mreference_selection_to_be_fitted\u001b[0m\u001b[0;34m,\u001b[0m \u001b[0mreference_frame_index\u001b[0m\u001b[0;34m=\u001b[0m\u001b[0mreference_frame_index\u001b[0m\u001b[0;34m,\u001b[0m\u001b[0;34m\u001b[0m\u001b[0;34m\u001b[0m\u001b[0m\n\u001b[0;32m---> 41\u001b[0;31m                          engine='MolSysMT', parallel=parallel, syntaxis=syntaxis)\n\u001b[0m\u001b[1;32m     42\u001b[0m \u001b[0;34m\u001b[0m\u001b[0m\n\u001b[1;32m     43\u001b[0m     \u001b[0;32melse\u001b[0m\u001b[0;34m:\u001b[0m\u001b[0;34m\u001b[0m\u001b[0;34m\u001b[0m\u001b[0m\n",
      "\u001b[0;32m~/projects/molsysmt/molsysmt/structure/fit.py\u001b[0m in \u001b[0;36mfit\u001b[0;34m(molecular_system, selection, frame_indices, reference_molecular_system, reference_selection, reference_frame_index, to_form, parallel, syntaxis, method, engine)\u001b[0m\n\u001b[1;32m     40\u001b[0m \u001b[0;34m\u001b[0m\u001b[0m\n\u001b[1;32m     41\u001b[0m         \u001b[0;32mif\u001b[0m \u001b[0mreference_coordinates\u001b[0m\u001b[0;34m.\u001b[0m\u001b[0mshape\u001b[0m\u001b[0;34m[\u001b[0m\u001b[0;36m1\u001b[0m\u001b[0;34m]\u001b[0m\u001b[0;34m!=\u001b[0m\u001b[0mn_atom_indices\u001b[0m\u001b[0;34m:\u001b[0m\u001b[0;34m\u001b[0m\u001b[0;34m\u001b[0m\u001b[0m\n\u001b[0;32m---> 42\u001b[0;31m             \u001b[0;32mraise\u001b[0m \u001b[0mValueError\u001b[0m\u001b[0;34m(\u001b[0m\u001b[0;34m\"reference selection and selection needs to have the same number of atoms\"\u001b[0m\u001b[0;34m)\u001b[0m\u001b[0;34m\u001b[0m\u001b[0;34m\u001b[0m\u001b[0m\n\u001b[0m\u001b[1;32m     43\u001b[0m \u001b[0;34m\u001b[0m\u001b[0m\n\u001b[1;32m     44\u001b[0m         librmsd.least_rmsd_fit(coordinates, atom_indices, reference_coordinates, frame_indices,\n",
      "\u001b[0;31mValueError\u001b[0m: reference selection and selection needs to have the same number of atoms"
     ]
    }
   ],
   "source": [
    "molecular_system_C_F_over_A_D = msm.structure.align(molecular_system_C_F, reference_molecular_system=molecular_system_A_D)"
   ]
  },
  {
   "cell_type": "code",
   "execution_count": null,
   "id": "968c5aa4-b0b4-49f0-b1f4-69236fefbd99",
   "metadata": {},
   "outputs": [],
   "source": []
  }
 ],
 "metadata": {
  "kernelspec": {
   "display_name": "Python 3 (ipykernel)",
   "language": "python",
   "name": "python3"
  },
  "language_info": {
   "codemirror_mode": {
    "name": "ipython",
    "version": 3
   },
   "file_extension": ".py",
   "mimetype": "text/x-python",
   "name": "python",
   "nbconvert_exporter": "python",
   "pygments_lexer": "ipython3",
   "version": "3.7.10"
  }
 },
 "nbformat": 4,
 "nbformat_minor": 5
}
