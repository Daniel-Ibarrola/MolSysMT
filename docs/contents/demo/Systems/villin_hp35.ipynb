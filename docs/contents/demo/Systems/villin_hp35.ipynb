{
 "cells": [
  {
   "cell_type": "code",
   "execution_count": 1,
   "id": "c8db65b4-6a27-4e95-ba08-4e4bba066db5",
   "metadata": {},
   "outputs": [],
   "source": [
    "%load_ext autoreload\n",
    "%autoreload 2"
   ]
  },
  {
   "cell_type": "markdown",
   "id": "4ae9b475-f540-4836-ba1d-26831417222f",
   "metadata": {},
   "source": [
    "# Villin subdomain HP-35"
   ]
  },
  {
   "cell_type": "markdown",
   "id": "9b0f8610-68bd-47eb-a683-8767a6dcbb5e",
   "metadata": {},
   "source": [
    "Chicken villin subdomain headpiece 35 (pdbid:1vii)"
   ]
  },
  {
   "cell_type": "code",
   "execution_count": 2,
   "id": "f397f714-ef5c-429b-83bb-f12ddbb7990f",
   "metadata": {},
   "outputs": [
    {
     "name": "stderr",
     "output_type": "stream",
     "text": [
      "Warning: importing 'simtk.openmm' is deprecated.  Import 'openmm' instead.\n"
     ]
    },
    {
     "data": {
      "application/vnd.jupyter.widget-view+json": {
       "model_id": "410be56cb52c4a6984901cff40cf2c40",
       "version_major": 2,
       "version_minor": 0
      },
      "text/plain": []
     },
     "metadata": {},
     "output_type": "display_data"
    }
   ],
   "source": [
    "import molsysmt as msm"
   ]
  },
  {
   "cell_type": "code",
   "execution_count": 3,
   "id": "dbe27cb1-d3d2-40a2-887e-38b27705534a",
   "metadata": {},
   "outputs": [],
   "source": [
    "molecular_system = msm.convert('pdbid:1vii', to_form='molsysmt.MolSys')\n",
    "molecular_system = msm.build.remove_hydrogens(molecular_system)\n",
    "molecular_system = msm.build.add_terminal_cappings(molecular_system, N_terminal='ACE', C_terminal='NME')\n",
    "molecular_system = msm.build.add_hydrogens(molecular_system, pH=7.4)"
   ]
  },
  {
   "cell_type": "code",
   "execution_count": 4,
   "id": "17903766-c9ee-427d-864c-eee1c1841d88",
   "metadata": {},
   "outputs": [
    {
     "data": {
      "text/html": [
       "<style type=\"text/css\">\n",
       "</style>\n",
       "<table id=\"T_e8d58_\">\n",
       "  <thead>\n",
       "    <tr>\n",
       "      <th class=\"col_heading level0 col0\" >form</th>\n",
       "      <th class=\"col_heading level0 col1\" >n_atoms</th>\n",
       "      <th class=\"col_heading level0 col2\" >n_groups</th>\n",
       "      <th class=\"col_heading level0 col3\" >n_components</th>\n",
       "      <th class=\"col_heading level0 col4\" >n_chains</th>\n",
       "      <th class=\"col_heading level0 col5\" >n_molecules</th>\n",
       "      <th class=\"col_heading level0 col6\" >n_entities</th>\n",
       "      <th class=\"col_heading level0 col7\" >n_peptides</th>\n",
       "      <th class=\"col_heading level0 col8\" >n_frames</th>\n",
       "    </tr>\n",
       "  </thead>\n",
       "  <tbody>\n",
       "    <tr>\n",
       "      <td id=\"T_e8d58_row0_col0\" class=\"data row0 col0\" >molsysmt.MolSys</td>\n",
       "      <td id=\"T_e8d58_row0_col1\" class=\"data row0 col1\" >605</td>\n",
       "      <td id=\"T_e8d58_row0_col2\" class=\"data row0 col2\" >38</td>\n",
       "      <td id=\"T_e8d58_row0_col3\" class=\"data row0 col3\" >1</td>\n",
       "      <td id=\"T_e8d58_row0_col4\" class=\"data row0 col4\" >1</td>\n",
       "      <td id=\"T_e8d58_row0_col5\" class=\"data row0 col5\" >1</td>\n",
       "      <td id=\"T_e8d58_row0_col6\" class=\"data row0 col6\" >1</td>\n",
       "      <td id=\"T_e8d58_row0_col7\" class=\"data row0 col7\" >1</td>\n",
       "      <td id=\"T_e8d58_row0_col8\" class=\"data row0 col8\" >1</td>\n",
       "    </tr>\n",
       "  </tbody>\n",
       "</table>\n"
      ],
      "text/plain": [
       "<pandas.io.formats.style.Styler at 0x7f8dd5fae6d0>"
      ]
     },
     "execution_count": 4,
     "metadata": {},
     "output_type": "execute_result"
    }
   ],
   "source": [
    "msm.info(molecular_system)"
   ]
  },
  {
   "cell_type": "code",
   "execution_count": 5,
   "id": "1abaefbc-e01d-4eba-8c65-41dfbc781948",
   "metadata": {},
   "outputs": [
    {
     "data": {
      "application/vnd.jupyter.widget-view+json": {
       "model_id": "1d6599ac9aab4e6f971e32d7ae8d3e92",
       "version_major": 2,
       "version_minor": 0
      },
      "text/plain": [
       "NGLWidget()"
      ]
     },
     "metadata": {},
     "output_type": "display_data"
    }
   ],
   "source": [
    "msm.view(molecular_system, standardize=True)"
   ]
  },
  {
   "cell_type": "code",
   "execution_count": 6,
   "id": "cc335202-3771-4c45-9cd9-c81331e17a96",
   "metadata": {},
   "outputs": [
    {
     "data": {
      "text/plain": [
       "'villin_hp35_vacuum.msmpk'"
      ]
     },
     "execution_count": 6,
     "metadata": {},
     "output_type": "execute_result"
    }
   ],
   "source": [
    "msm.convert(molecular_system, to_form='villin_hp35_vacuum.msmpk')"
   ]
  },
  {
   "cell_type": "code",
   "execution_count": 7,
   "id": "8501bd12-4918-4d1f-ae42-050ff4dd4dcd",
   "metadata": {},
   "outputs": [],
   "source": [
    "molecular_system = msm.build.solvate([molecular_system, {'forcefield':'AMBER14', 'water_model':'TIP3P'}],\n",
    "                          box_geometry='truncated octahedral', clearance='14.0 angstroms',\n",
    "                          to_form='molsysmt.MolSys', engine=\"OpenMM\", verbose=False)"
   ]
  },
  {
   "cell_type": "code",
   "execution_count": 8,
   "id": "98021496-4b64-405c-ba0b-cbcbbe3f131b",
   "metadata": {},
   "outputs": [
    {
     "data": {
      "text/html": [
       "<style type=\"text/css\">\n",
       "</style>\n",
       "<table id=\"T_1aa00_\">\n",
       "  <thead>\n",
       "    <tr>\n",
       "      <th class=\"col_heading level0 col0\" >form</th>\n",
       "      <th class=\"col_heading level0 col1\" >n_atoms</th>\n",
       "      <th class=\"col_heading level0 col2\" >n_groups</th>\n",
       "      <th class=\"col_heading level0 col3\" >n_components</th>\n",
       "      <th class=\"col_heading level0 col4\" >n_chains</th>\n",
       "      <th class=\"col_heading level0 col5\" >n_molecules</th>\n",
       "      <th class=\"col_heading level0 col6\" >n_entities</th>\n",
       "      <th class=\"col_heading level0 col7\" >n_waters</th>\n",
       "      <th class=\"col_heading level0 col8\" >n_ions</th>\n",
       "      <th class=\"col_heading level0 col9\" >n_peptides</th>\n",
       "      <th class=\"col_heading level0 col10\" >n_frames</th>\n",
       "    </tr>\n",
       "  </thead>\n",
       "  <tbody>\n",
       "    <tr>\n",
       "      <td id=\"T_1aa00_row0_col0\" class=\"data row0 col0\" >molsysmt.MolSys</td>\n",
       "      <td id=\"T_1aa00_row0_col1\" class=\"data row0 col1\" >5116</td>\n",
       "      <td id=\"T_1aa00_row0_col2\" class=\"data row0 col2\" >1543</td>\n",
       "      <td id=\"T_1aa00_row0_col3\" class=\"data row0 col3\" >1506</td>\n",
       "      <td id=\"T_1aa00_row0_col4\" class=\"data row0 col4\" >3</td>\n",
       "      <td id=\"T_1aa00_row0_col5\" class=\"data row0 col5\" >1506</td>\n",
       "      <td id=\"T_1aa00_row0_col6\" class=\"data row0 col6\" >3</td>\n",
       "      <td id=\"T_1aa00_row0_col7\" class=\"data row0 col7\" >1503</td>\n",
       "      <td id=\"T_1aa00_row0_col8\" class=\"data row0 col8\" >2</td>\n",
       "      <td id=\"T_1aa00_row0_col9\" class=\"data row0 col9\" >1</td>\n",
       "      <td id=\"T_1aa00_row0_col10\" class=\"data row0 col10\" >1</td>\n",
       "    </tr>\n",
       "  </tbody>\n",
       "</table>\n"
      ],
      "text/plain": [
       "<pandas.io.formats.style.Styler at 0x7f8dbcb51fd0>"
      ]
     },
     "execution_count": 8,
     "metadata": {},
     "output_type": "execute_result"
    }
   ],
   "source": [
    "msm.info(molecular_system)"
   ]
  },
  {
   "cell_type": "code",
   "execution_count": 9,
   "id": "2cfd0bbc-f03d-4bb3-acda-33adb7596962",
   "metadata": {},
   "outputs": [
    {
     "data": {
      "text/plain": [
       "'villin_hp35_solvated.msmpk'"
      ]
     },
     "execution_count": 9,
     "metadata": {},
     "output_type": "execute_result"
    }
   ],
   "source": [
    "msm.convert(molecular_system, to_form='villin_hp35_solvated.msmpk')"
   ]
  },
  {
   "cell_type": "code",
   "execution_count": 21,
   "id": "06b19ab6-2722-478f-af0a-7eec3bb06a4c",
   "metadata": {},
   "outputs": [
    {
     "name": "stdout",
     "output_type": "stream",
     "text": [
      "#\"Step\",\"Potential Energy (kJ/mole)\",\"Temperature (K)\"\n",
      "50000,-62709.05659608188,298.930331423212\n",
      "100000,-62883.25972108188,296.31811782582236\n",
      "150000,-63003.57222108188,308.1702234403577\n",
      "200000,-62976.43159608188,293.8885228940937\n",
      "250000,-63062.74409608188,299.0748258229993\n",
      "300000,-63174.55659608188,297.2483345256471\n",
      "350000,-62728.66597108188,303.86319552401187\n",
      "400000,-62363.32222108188,303.9745092850282\n",
      "450000,-63090.88472108188,295.60701750184325\n",
      "500000,-62835.04097108188,306.01264158375136\n",
      "550000,-63009.29097108188,295.5271110521145\n",
      "600000,-62920.13472108188,299.80539813376305\n",
      "650000,-62764.46284608188,296.37558281773886\n",
      "700000,-62544.85347108188,298.86950362911807\n",
      "750000,-63011.05659608188,292.5764601256301\n",
      "800000,-62565.41597108188,307.78915748341524\n",
      "850000,-62496.27534608188,301.0442065082505\n",
      "900000,-62841.05659608188,302.8333918048054\n",
      "950000,-62970.94722108188,304.27691481181296\n",
      "1000000,-62645.69722108188,304.6894773866675\n"
     ]
    }
   ],
   "source": [
    "import openmm as mm\n",
    "from openmm import app\n",
    "from openmm import unit\n",
    "from sys import stdout\n",
    "from mdtraj.reporters import HDF5Reporter\n",
    "\n",
    "modeller = msm.convert(molecular_system, to_form='openmm.Modeller')\n",
    "forcefield = app.ForceField(\"amber14-all.xml\", \"amber14/tip3p.xml\")\n",
    "system = forcefield.createSystem(topology, nonbondedMethod=app.PME, nonbondedCutoff=1.2*unit.nanometer, constraints=app.HBonds)\n",
    "integrator = mm.LangevinIntegrator(300*unit.kelvin, 1.0/unit.picosecond, 2.0*unit.femtoseconds)\n",
    "platform = mm.Platform.getPlatformByName('CUDA')\n",
    "simulation = app.Simulation(modeller.topology, system, integrator, platform)\n",
    "simulation.context.setPositions(modeller.positions)\n",
    "simulation.minimizeEnergy()\n",
    "simulation.context.setVelocitiesToTemperature(300*unit.kelvin)\n",
    "simulation.reporters.append(app.StateDataReporter(stdout, 50000, step=True, potentialEnergy=True, temperature=True))\n",
    "simulation.reporters.append(app.DCDReporter('villin_hp35_solvated.dcd', 50000, enforcePeriodicBox=True))\n",
    "simulation.reporters.append(HDF5Reporter('villin_hp35_solvated.h5', 50000))\n",
    "simulation.step(1000000)\n",
    "simulation.reporters[2].close()\n",
    "final_positions = simulation.context.getState(getPositions=True).getPositions()\n",
    "app.PDBFile.writeFile(modeller.topology, final_positions, open('villin_hp35_solvated_last.pdb', 'w'))"
   ]
  },
  {
   "cell_type": "markdown",
   "id": "58fdc56a-7bed-4f1f-bf16-56fd138eeb4a",
   "metadata": {},
   "source": [
    "## References\n",
    "\n",
    "[Piana, Stefano, Kresten Lindorff-Larsen, and David E. Shaw. “Protein Folding Kinetics and Thermodynamics from Atomistic Simulation.” Proceedings of the National Academy of Sciences 109, no. 44 (2012): 17845–50.](https://doi.org/10.1073/pnas.1201811109)\n",
    "\n",
    "[Freddolino, Peter L., Christopher B. Harrison, Yanxin Liu, and Klaus Schulten. “Challenges in Protein-Folding Simulations.” Nature Physics 6, no. 10 (2010): 751–58.](https://doi.org/10.1038/nphys1713)\n",
    "\n",
    "[Ensign, Daniel L., Peter M. Kasson, and Vijay S. Pande. “Heterogeneity Even at the Speed Limit of Folding: Large-Scale Molecular Dynamics Study of a Fast-Folding Variant of the Villin Headpiece.” Journal of Molecular Biology 374, no. 3 (2007): 806–16.](https://doi.org/10.1016/j.jmb.2007.09.069)\n",
    "    \n",
    "[Mori, Toshifumi, and Shinji Saito. “Molecular Mechanism Behind the Fast Folding/Unfolding Transitions of Villin Headpiece Subdomain: Hierarchy and Heterogeneity.” The Journal of Physical Chemistry B 120, no. 45 (2016): 11683–91.](https://doi.org/10.1021/acs.jpcb.6b08066)\n",
    "\n",
    "[Bunagan, Michelle R., Jianmin Gao, Jeffery W. Kelly, and Feng Gai. “Probing the Folding Transition State Structure of the Villin Headpiece Subdomain via Side Chain and Backbone Mutagenesis.” Journal of the American Chemical Society 131, no. 21 (2009): 7470–76.](https://doi.org/10.1021/ja901860f)\n",
    "\n",
    "[Meng, Wenli, Bing Shan, Yuefeng Tang, and Daniel P. Raleigh. “Native like Structure in the Unfolded State of the Villin Headpiece Helical Subdomain, an Ultrafast Folding Protein.” Protein Science 18, no. 8 (2009): 1692–1701.](https://doi.org/10.1002/pro.152)\n",
    "\n",
    "[Wang, Ercheng, Peng Tao, Jun Wang, and Yi Xiao. “A Novel Folding Pathway of the Villin Headpiece Subdomain HP35.” Physical Chemistry Chemical Physics 21, no. 33 (2019): 18219–26.](https://doi.org/10.1039/c9cp01703h)\n",
    "\n",
    "[Huang, Jing, Sarah Rauscher, Grzegorz Nawrocki, Ting Ran, Michael Feig, Bert L de Groot, Helmut Grubmüller, and Alexander D MacKerell. “CHARMM36m: An Improved Force Field for Folded and Intrinsically Disordered Proteins.” Nature Methods 14, no. 1 (2017): 71–73.](https://doi.org/10.1038/nmeth.4067)\n",
    "\n",
    "[Eastman, Peter, Mark S. Friedrichs, John D. Chodera, Randall J. Radmer, Christopher M. Bruns, Joy P. Ku, Kyle A. Beauchamp, et al. “OpenMM 4: A Reusable, Extensible, Hardware Independent Library for High Performance Molecular Simulation.” Journal of Chemical Theory and Computation 9, no. 1 (2013): 461–69.](https://doi.org/10.1021/ct300857j)\n",
    "\n",
    "[Harvey, M J, G Giupponi, and G De Fabritiis. “ACEMD: Accelerating Biomolecular Dynamics in the Microsecond Time Scale.” Journal of Chemical Theory and Computation 5, no. 6 (2009): 1632–39.](https://doi.org/10.1021/ct9000685)"
   ]
  }
 ],
 "metadata": {
  "kernelspec": {
   "display_name": "Python 3 (ipykernel)",
   "language": "python",
   "name": "python3"
  },
  "language_info": {
   "codemirror_mode": {
    "name": "ipython",
    "version": 3
   },
   "file_extension": ".py",
   "mimetype": "text/x-python",
   "name": "python",
   "nbconvert_exporter": "python",
   "pygments_lexer": "ipython3",
   "version": "3.7.10"
  }
 },
 "nbformat": 4,
 "nbformat_minor": 5
}
