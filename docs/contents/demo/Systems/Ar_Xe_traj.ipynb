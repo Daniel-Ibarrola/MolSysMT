{
 "cells": [
  {
   "cell_type": "code",
   "execution_count": 1,
   "id": "48004964-f068-4661-bb98-34c4233570c5",
   "metadata": {},
   "outputs": [],
   "source": [
    "%load_ext autoreload\n",
    "%autoreload 2"
   ]
  },
  {
   "cell_type": "markdown",
   "id": "8c3f92e9-a74b-418a-a803-f3f3abb9d308",
   "metadata": {},
   "source": [
    "# Ar and Xe in vacuum"
   ]
  },
  {
   "cell_type": "code",
   "execution_count": 2,
   "id": "e6873b5b-a5dc-44cc-a95a-ebec15a5663b",
   "metadata": {},
   "outputs": [
    {
     "name": "stderr",
     "output_type": "stream",
     "text": [
      "Warning: importing 'simtk.openmm' is deprecated.  Import 'openmm' instead.\n"
     ]
    },
    {
     "data": {
      "application/vnd.jupyter.widget-view+json": {
       "model_id": "5f7c6b54f93b409a9fa64fc8670cddf8",
       "version_major": 2,
       "version_minor": 0
      },
      "text/plain": []
     },
     "metadata": {},
     "output_type": "display_data"
    }
   ],
   "source": [
    "import molsysmt as msm\n",
    "import numpy as np\n",
    "from tqdm import tqdm\n",
    "import openmm as mm\n",
    "import openmm.app as app\n",
    "import openmm.unit as unit"
   ]
  },
  {
   "cell_type": "code",
   "execution_count": 3,
   "id": "e74fba87-dcd5-43db-9fc7-4e05326690f8",
   "metadata": {},
   "outputs": [],
   "source": [
    "# System definition.\n",
    "\n",
    "## First atom: Argon\n",
    "mass_1 = 39.948 * unit.amu\n",
    "sigma_1 = 3.404 * unit.angstroms\n",
    "epsilon_1 = 0.238 * unit.kilocalories_per_mole\n",
    "charge_1 = 0.0 * unit.elementary_charge\n",
    "\n",
    "## Second atomo: Xenon\n",
    "mass_2 = 131.293 * unit.amu\n",
    "sigma_2 = 3.961 * unit.angstroms\n",
    "epsilon_2 = 0.459 * unit.kilocalories_per_mole\n",
    "charge_2 = 0.0 * unit.elementary_charge\n",
    "\n",
    "\n",
    "# System creation.\n",
    "\n",
    "system = mm.System()\n",
    "\n",
    "non_bonded_force = mm.NonbondedForce()\n",
    "\n",
    "reduced_sigma = 0.5*(sigma_1+sigma_2)\n",
    "cutoff_distance = 4.0*reduced_sigma\n",
    "switching_distance = 3.0*reduced_sigma\n",
    "non_bonded_force.setNonbondedMethod(mm.NonbondedForce.CutoffPeriodic)\n",
    "non_bonded_force.setUseSwitchingFunction(True)\n",
    "non_bonded_force.setCutoffDistance(cutoff_distance)\n",
    "non_bonded_force.setSwitchingDistance(switching_distance)\n",
    "\n",
    "# Adding atom 1\n",
    "system.addParticle(mass_1)\n",
    "non_bonded_force.addParticle(charge_1, sigma_1, epsilon_1)\n",
    "\n",
    "# Adding atom 2\n",
    "system.addParticle(mass_2)\n",
    "non_bonded_force.addParticle(charge_2, sigma_2, epsilon_2)\n",
    "\n",
    "# Periodic box\n",
    "\n",
    "system.setDefaultPeriodicBoxVectors([3.0, 0.0, 0.0]*unit.nanometers, [0.0, 3.0, 0.0]*unit.nanometers, [0.0, 0.0, 3.0]*unit.nanometers)\n",
    "\n",
    "_ = system.addForce(non_bonded_force)"
   ]
  },
  {
   "cell_type": "code",
   "execution_count": 4,
   "id": "39623991-9499-4cd5-af00-4858f0562364",
   "metadata": {},
   "outputs": [],
   "source": [
    "# Thermodynamic state and integrator.\n",
    "\n",
    "step_size = 2*unit.femtoseconds\n",
    "temperature = 300*unit.kelvin\n",
    "friction = 1.0/unit.picosecond\n",
    "\n",
    "integrator = mm.LangevinIntegrator(temperature, friction, step_size)"
   ]
  },
  {
   "cell_type": "code",
   "execution_count": 5,
   "id": "d51890a8-f4bc-4ba5-a475-b7112163cd34",
   "metadata": {},
   "outputs": [],
   "source": [
    "# Platform.\n",
    "\n",
    "platform_name = 'CUDA'\n",
    "platform = mm.Platform.getPlatformByName(platform_name)"
   ]
  },
  {
   "cell_type": "code",
   "execution_count": 6,
   "id": "cbbd744b-c4b1-4227-83df-dcbf133c32c8",
   "metadata": {},
   "outputs": [],
   "source": [
    "# Contexto.\n",
    "\n",
    "context = mm.Context(system, integrator, platform)"
   ]
  },
  {
   "cell_type": "code",
   "execution_count": 7,
   "id": "439d559e-2cc0-46c9-a4a5-bd1605e0d047",
   "metadata": {},
   "outputs": [],
   "source": [
    "# Initial conditions.\n",
    "\n",
    "initial_positions  = np.zeros([2, 3], np.float32) * unit.angstroms\n",
    "initial_velocities = np.zeros([2, 3], np.float32) * unit.angstroms/unit.picoseconds\n",
    "\n",
    "initial_positions[1, 0] = 1.0 * unit.nanometers\n",
    "\n",
    "context.setPositions(initial_positions)\n",
    "context.setVelocities(initial_velocities)"
   ]
  },
  {
   "cell_type": "code",
   "execution_count": 8,
   "id": "3611ad71-af9c-4bdc-81ab-d65c1598c815",
   "metadata": {},
   "outputs": [],
   "source": [
    "# Simulation parameters.\n",
    "\n",
    "simulation_time = 20.0*unit.nanosecond\n",
    "saving_time = 1.0*unit.picoseconds\n",
    "\n",
    "n_steps_per_saving_period = int(saving_time/step_size)\n",
    "n_saving_periods = int(simulation_time/saving_time)"
   ]
  },
  {
   "cell_type": "code",
   "execution_count": 9,
   "id": "b4580221-5114-47bc-8112-ad49c30ec7fa",
   "metadata": {},
   "outputs": [],
   "source": [
    "# Numpy arrays as simulation reporters.\n",
    "\n",
    "time = np.zeros([n_saving_periods], np.float32) * unit.picoseconds\n",
    "position = np.zeros([n_saving_periods, 2, 3], np.float32) * unit.nanometers\n",
    "velocity = np.zeros([n_saving_periods, 2, 3], np.float32) * unit.nanometers/unit.picosecond\n",
    "potential_energy   = np.zeros([n_saving_periods], np.float32) * unit.kilocalories_per_mole\n",
    "kinetic_energy     = np.zeros([n_saving_periods], np.float32) * unit.kilocalories_per_mole\n",
    "box = np.zeros([n_saving_periods, 3, 3], np.float32) * unit.nanometers"
   ]
  },
  {
   "cell_type": "code",
   "execution_count": 10,
   "id": "7dfa521b-d420-4562-bd62-51f9001c4f4b",
   "metadata": {},
   "outputs": [],
   "source": [
    "# Saving data for time 0 in reporters\n",
    "\n",
    "state = context.getState(getPositions=True, getVelocities=True, getEnergy=True)\n",
    "time[0] = state.getTime()\n",
    "position[0] = state.getPositions()\n",
    "velocity[0] = state.getVelocities()\n",
    "kinetic_energy[0]=state.getKineticEnergy()\n",
    "potential_energy[0]=state.getPotentialEnergy()\n",
    "box[0] = state.getPeriodicBoxVectors()"
   ]
  },
  {
   "cell_type": "code",
   "execution_count": 11,
   "id": "6f738865-fa2a-48e9-a1ad-0bb91ee2cfd8",
   "metadata": {},
   "outputs": [
    {
     "name": "stderr",
     "output_type": "stream",
     "text": [
      "100%|█████████████████████████████████████████████████████████████████████████████████████████████████████████████████████| 20000/20000 [04:55<00:00, 67.77it/s]\n"
     ]
    }
   ],
   "source": [
    "# Running the simulation\n",
    "\n",
    "for ii in tqdm(range(n_saving_periods)):\n",
    "    context.getIntegrator().step(n_steps_per_saving_period)\n",
    "    state = context.getState(getPositions=True, getVelocities=True, getEnergy=True)\n",
    "    time[ii] = state.getTime()\n",
    "    position[ii] = state.getPositions()\n",
    "    velocity[ii] = state.getVelocities()\n",
    "    kinetic_energy[ii]=state.getKineticEnergy()\n",
    "    potential_energy[ii]=state.getPotentialEnergy()\n",
    "    box[ii] = state.getPeriodicBoxVectors()"
   ]
  },
  {
   "cell_type": "markdown",
   "id": "38badf1e-5d67-4c79-84fa-f68663f6bf8f",
   "metadata": {},
   "source": [
    "## molsysmt.TrajectoryDict class and trjdpk file"
   ]
  },
  {
   "cell_type": "code",
   "execution_count": 12,
   "id": "6c17dc97-fb93-4eb8-9381-74ffd0861661",
   "metadata": {},
   "outputs": [],
   "source": [
    "trajdict={\n",
    "    'time' : time,\n",
    "    'coordinates' : position,\n",
    "    'box' : box\n",
    "          }"
   ]
  },
  {
   "cell_type": "code",
   "execution_count": 13,
   "id": "a9f0bd92-42f7-4bd8-ad1e-cecb751ade29",
   "metadata": {},
   "outputs": [
    {
     "data": {
      "text/plain": [
       "'molsysmt.TrajectoryDict'"
      ]
     },
     "execution_count": 13,
     "metadata": {},
     "output_type": "execute_result"
    }
   ],
   "source": [
    "msm.get_form(trajdict)"
   ]
  },
  {
   "cell_type": "code",
   "execution_count": 14,
   "id": "5f6ae34f-387f-440d-9295-abd5510595ab",
   "metadata": {},
   "outputs": [
    {
     "data": {
      "text/plain": [
       "'Ar_Xe_traj.trjpk'"
      ]
     },
     "execution_count": 14,
     "metadata": {},
     "output_type": "execute_result"
    }
   ],
   "source": [
    "msm.convert(trajdict, to_form='Ar_Xe_pbc_vacuum.trjpk')"
   ]
  },
  {
   "cell_type": "code",
   "execution_count": 15,
   "id": "1e38f0e8-389e-4b13-a527-08ffdf53b77e",
   "metadata": {},
   "outputs": [],
   "source": [
    "trajdict2 = msm.convert('Ar_Xe_pbc_vacuum.trjpk', to_form='molsysmt.TrajectoryDict')"
   ]
  },
  {
   "cell_type": "code",
   "execution_count": 16,
   "id": "7745f588-b95a-45a6-9d44-ec25ffc6ba16",
   "metadata": {},
   "outputs": [
    {
     "data": {
      "text/plain": [
       "{'coordinates': array([[[ 2.30269432e-02, -2.16523647e-01,  2.03206614e-02],\n",
       "         [ 1.03093898e+00,  5.56341708e-02, -4.41431999e-03]],\n",
       " \n",
       "        [[ 1.87892094e-01, -4.66710091e-01,  2.48895824e-01],\n",
       "         [ 1.09362710e+00,  1.06191061e-01,  7.02466443e-02]],\n",
       " \n",
       "        [[ 2.84138054e-01, -4.00966406e-01,  3.16997290e-01],\n",
       "         [ 1.19666910e+00,  1.35289863e-01, -7.95007963e-03]],\n",
       " \n",
       "        ...,\n",
       " \n",
       "        [[-7.06794662e+01, -5.36857643e+01, -1.36262665e+01],\n",
       "         [ 3.24669504e+00,  1.16425133e+01,  1.26712828e+01]],\n",
       " \n",
       "        [[-7.08386917e+01, -5.38223267e+01, -1.35910883e+01],\n",
       "         [ 3.07422066e+00,  1.16331511e+01,  1.25415907e+01]],\n",
       " \n",
       "        [[-7.06279068e+01, -5.40050278e+01, -1.34346027e+01],\n",
       "         [ 2.93348694e+00,  1.15726280e+01,  1.26575241e+01]]],\n",
       "       dtype=float32) <Unit('nanometer')>,\n",
       " 'box': array([[[3., 0., 0.],\n",
       "         [0., 3., 0.],\n",
       "         [0., 0., 3.]],\n",
       " \n",
       "        [[3., 0., 0.],\n",
       "         [0., 3., 0.],\n",
       "         [0., 0., 3.]],\n",
       " \n",
       "        [[3., 0., 0.],\n",
       "         [0., 3., 0.],\n",
       "         [0., 0., 3.]],\n",
       " \n",
       "        ...,\n",
       " \n",
       "        [[3., 0., 0.],\n",
       "         [0., 3., 0.],\n",
       "         [0., 0., 3.]],\n",
       " \n",
       "        [[3., 0., 0.],\n",
       "         [0., 3., 0.],\n",
       "         [0., 0., 3.]],\n",
       " \n",
       "        [[3., 0., 0.],\n",
       "         [0., 3., 0.],\n",
       "         [0., 0., 3.]]], dtype=float32) <Unit('nanometer')>,\n",
       " 'time': array([1.0000e+00, 2.0000e+00, 3.0000e+00, ..., 1.9998e+04, 1.9999e+04,\n",
       "        2.0000e+04], dtype=float32) <Unit('picosecond')>,\n",
       " 'step': None}"
      ]
     },
     "execution_count": 16,
     "metadata": {},
     "output_type": "execute_result"
    }
   ],
   "source": [
    "trajdict2"
   ]
  },
  {
   "cell_type": "code",
   "execution_count": null,
   "id": "f51b3733-8089-4e17-ad61-f3df7c5406f7",
   "metadata": {},
   "outputs": [],
   "source": []
  }
 ],
 "metadata": {
  "kernelspec": {
   "display_name": "Python 3 (ipykernel)",
   "language": "python",
   "name": "python3"
  },
  "language_info": {
   "codemirror_mode": {
    "name": "ipython",
    "version": 3
   },
   "file_extension": ".py",
   "mimetype": "text/x-python",
   "name": "python",
   "nbconvert_exporter": "python",
   "pygments_lexer": "ipython3",
   "version": "3.7.10"
  }
 },
 "nbformat": 4,
 "nbformat_minor": 5
}
