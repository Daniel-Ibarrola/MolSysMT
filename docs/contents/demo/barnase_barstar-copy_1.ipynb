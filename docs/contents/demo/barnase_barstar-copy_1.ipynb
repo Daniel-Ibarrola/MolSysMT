{
 "cells": [
  {
   "cell_type": "code",
   "execution_count": 1,
   "id": "7884fe0a-9320-4a4e-b5b7-d7b14d5f5c22",
   "metadata": {},
   "outputs": [],
   "source": [
    "%load_ext autoreload\n",
    "%autoreload 2"
   ]
  },
  {
   "cell_type": "markdown",
   "id": "d89a220f-10b3-4525-9762-dd5b6a94b3d0",
   "metadata": {},
   "source": [
    "# Barnase-Barstar complex"
   ]
  },
  {
   "cell_type": "code",
   "execution_count": 2,
   "id": "b778b68d-d13e-4679-ba91-f361a8779c53",
   "metadata": {},
   "outputs": [
    {
     "name": "stderr",
     "output_type": "stream",
     "text": [
      "Warning: importing 'simtk.openmm' is deprecated.  Import 'openmm' instead.\n"
     ]
    },
    {
     "data": {
      "application/vnd.jupyter.widget-view+json": {
       "model_id": "1f898427786d45c292f712750916ea8c",
       "version_major": 2,
       "version_minor": 0
      },
      "text/plain": []
     },
     "metadata": {},
     "output_type": "display_data"
    },
    {
     "name": "stdout",
     "output_type": "stream",
     "text": [
      "no need to add nglview patch\n"
     ]
    }
   ],
   "source": [
    "from openmm.app import PDBFile\n",
    "import molsysmt as msm"
   ]
  },
  {
   "cell_type": "code",
   "execution_count": 3,
   "id": "50ceef12-efaf-4bde-a89e-e967da9da6d3",
   "metadata": {},
   "outputs": [],
   "source": [
    "molecular_system=PDBFile('1brs.pdb')"
   ]
  },
  {
   "cell_type": "code",
   "execution_count": null,
   "id": "e7d37da7-1149-4b73-bc25-ac73e0aa1265",
   "metadata": {},
   "outputs": [],
   "source": [
    "msm.info(molecular_system)"
   ]
  },
  {
   "cell_type": "code",
   "execution_count": null,
   "id": "7d60b100-4b6f-4516-9418-774f080e0566",
   "metadata": {},
   "outputs": [],
   "source": [
    "molecular_system = msm.build.remove_waters(molecular_system)"
   ]
  },
  {
   "cell_type": "code",
   "execution_count": null,
   "id": "a653157b-3337-411e-a2ac-70e66926b09a",
   "metadata": {},
   "outputs": [],
   "source": [
    "msm.info(molecular_system, target='entity')"
   ]
  },
  {
   "cell_type": "code",
   "execution_count": null,
   "id": "5ec7e491-a0d8-40e0-b23b-a147b92fcaa4",
   "metadata": {},
   "outputs": [],
   "source": [
    "msm.info(molecular_system, target='chain')"
   ]
  },
  {
   "cell_type": "code",
   "execution_count": null,
   "id": "28141b2b-2808-4d77-9b2a-2afb910041a2",
   "metadata": {},
   "outputs": [],
   "source": [
    "msm.info(molecular_system, target='atom', selection='atom_index==[3099, 3100]')"
   ]
  },
  {
   "cell_type": "code",
   "execution_count": null,
   "id": "fd9365c1-c8ed-4f28-8676-cbcdbf3e1a80",
   "metadata": {},
   "outputs": [],
   "source": [
    "import mdtraj as mdtraj"
   ]
  },
  {
   "cell_type": "code",
   "execution_count": null,
   "id": "fb9176b3-9449-441f-98ee-acb377f415fb",
   "metadata": {},
   "outputs": [],
   "source": [
    "yy = mdtraj.load_"
   ]
  },
  {
   "cell_type": "code",
   "execution_count": null,
   "id": "8c7a492e-a99a-474f-8394-d66a4fcae263",
   "metadata": {},
   "outputs": [],
   "source": [
    "yy.topology.n_atoms"
   ]
  },
  {
   "cell_type": "code",
   "execution_count": null,
   "id": "1bb1e5a4-14f2-494c-8b76-31b77bd01bcc",
   "metadata": {},
   "outputs": [],
   "source": [
    "from pdbfixer import PDBFixer\n",
    "import molsysmt as msm"
   ]
  },
  {
   "cell_type": "code",
   "execution_count": null,
   "id": "fcd4afcb-e533-49c5-8b94-cfd3d3eb3459",
   "metadata": {},
   "outputs": [],
   "source": [
    "pdb = PDBFixer(pdbid='1BRS')"
   ]
  },
  {
   "cell_type": "code",
   "execution_count": null,
   "id": "6ab4b933-e238-4665-acd2-99b0a239bc5a",
   "metadata": {},
   "outputs": [],
   "source": [
    "list_atoms = list(pdb.topology.atoms())"
   ]
  },
  {
   "cell_type": "code",
   "execution_count": null,
   "id": "f5f0b630-3901-4ad5-a2b4-74d5d0bef3c1",
   "metadata": {},
   "outputs": [],
   "source": [
    "list_chains=list(pdb.topology.chains())"
   ]
  },
  {
   "cell_type": "code",
   "execution_count": null,
   "id": "e1f59f00-6956-4015-a223-98380860cf07",
   "metadata": {},
   "outputs": [],
   "source": [
    "len(list(list_chains[3].atoms()))"
   ]
  },
  {
   "cell_type": "code",
   "execution_count": null,
   "id": "0e6f270e-a1e5-4d51-b271-9bd22b52a6f0",
   "metadata": {},
   "outputs": [],
   "source": [
    "list_bonds = list(pdb.topology.bonds())"
   ]
  },
  {
   "cell_type": "code",
   "execution_count": null,
   "id": "4571f2bf-7c10-4912-89e3-8c11fdf97f1a",
   "metadata": {},
   "outputs": [],
   "source": [
    "list_atoms[0:10]"
   ]
  },
  {
   "cell_type": "code",
   "execution_count": null,
   "id": "dfc1b8cd-a051-44b0-b8e4-81c26374523f",
   "metadata": {},
   "outputs": [],
   "source": [
    "list_bonds[0:10]"
   ]
  },
  {
   "cell_type": "code",
   "execution_count": null,
   "id": "ae38a3d2-35a2-47b5-a3e2-26787915a69f",
   "metadata": {},
   "outputs": [],
   "source": [
    "import networkx as nx"
   ]
  },
  {
   "cell_type": "code",
   "execution_count": null,
   "id": "d11c39f6-af79-49b5-b61f-6d532ba04f47",
   "metadata": {},
   "outputs": [],
   "source": [
    "g=nx.Graph()\n",
    "for bond in list_bonds:\n",
    "    ind1 = bond.atom1.index\n",
    "    ind2 = bond.atom2.index\n",
    "    g.add_edge(ind1, ind2)"
   ]
  },
  {
   "cell_type": "code",
   "execution_count": null,
   "id": "e24c7288-4275-46e4-a531-bcc35d465956",
   "metadata": {},
   "outputs": [],
   "source": [
    "g=g.to_undirected()"
   ]
  },
  {
   "cell_type": "code",
   "execution_count": null,
   "id": "db720c4b-1417-4846-a06c-cbdd59a9a54f",
   "metadata": {},
   "outputs": [],
   "source": [
    "bb = list(nx.components.connected_components(g))"
   ]
  },
  {
   "cell_type": "code",
   "execution_count": null,
   "id": "421cd527-b005-4e8f-b881-3c4542b5c715",
   "metadata": {},
   "outputs": [],
   "source": [
    "for ii in bb:\n",
    "    print(len(ii))"
   ]
  },
  {
   "cell_type": "code",
   "execution_count": null,
   "id": "4e551eef-e5c2-4abd-a7a2-04e525597def",
   "metadata": {},
   "outputs": [],
   "source": [
    "msm.info(pdb, target='component')"
   ]
  },
  {
   "cell_type": "code",
   "execution_count": null,
   "id": "e3ea77e1-0981-43a0-8e04-0de5eb1140a2",
   "metadata": {},
   "outputs": [],
   "source": [
    "pdb.findMissingResidues()\n",
    "pdb.findMissingAtoms()\n",
    "pdb.findNonstandardResidues()"
   ]
  },
  {
   "cell_type": "code",
   "execution_count": null,
   "id": "fe7c2018-1f65-464c-b243-6b9c8403da2d",
   "metadata": {},
   "outputs": [],
   "source": [
    "pdb.missingResidues"
   ]
  },
  {
   "cell_type": "code",
   "execution_count": null,
   "id": "1419d5a3-ef0e-4404-950b-782d91d57832",
   "metadata": {},
   "outputs": [],
   "source": [
    "pdb.nonstandardResidues"
   ]
  },
  {
   "cell_type": "code",
   "execution_count": null,
   "id": "c565f630-5531-4317-98b1-55d6c9e36669",
   "metadata": {},
   "outputs": [],
   "source": [
    "pdb.missingResidues\n",
    "pdb.missingResidues = {}"
   ]
  },
  {
   "cell_type": "code",
   "execution_count": null,
   "id": "002fbcb2-bd2c-4939-b237-0fc8145e2a2f",
   "metadata": {},
   "outputs": [],
   "source": [
    "pdb.missingTerminals\n",
    "pdb.missingTerminals = {}"
   ]
  },
  {
   "cell_type": "code",
   "execution_count": null,
   "id": "30cf60a1-95f4-4eda-a589-228cfa1cba37",
   "metadata": {},
   "outputs": [],
   "source": [
    "pdb.missingAtoms"
   ]
  },
  {
   "cell_type": "code",
   "execution_count": null,
   "id": "ded1f79e-276c-4af2-b0fe-384b63e75c3b",
   "metadata": {},
   "outputs": [],
   "source": [
    "msm.info(pdb, target='chain')"
   ]
  },
  {
   "cell_type": "code",
   "execution_count": null,
   "id": "968c5aa4-b0b4-49f0-b1f4-69236fefbd99",
   "metadata": {},
   "outputs": [],
   "source": [
    "pdb.addMissingAtoms()"
   ]
  },
  {
   "cell_type": "code",
   "execution_count": null,
   "id": "71d081ca-2c2a-40a2-8fe9-5ecef1e61f0c",
   "metadata": {},
   "outputs": [],
   "source": [
    "msm.info(pdb, target='chain')"
   ]
  },
  {
   "cell_type": "code",
   "execution_count": null,
   "id": "fc6dd040-0574-4e30-8a73-8055fa428302",
   "metadata": {},
   "outputs": [],
   "source": [
    "pdb.findMissingResidues()\n",
    "pdb.findMissingAtoms()\n",
    "pdb.findNonstandardResidues()"
   ]
  },
  {
   "cell_type": "code",
   "execution_count": null,
   "id": "87c70641-36ac-4d40-a5d2-9f309c742f6d",
   "metadata": {},
   "outputs": [],
   "source": [
    "pdb.missingAtoms"
   ]
  },
  {
   "cell_type": "code",
   "execution_count": null,
   "id": "b23aa98b-0b13-4ecb-b4e2-cd508d6a1ba2",
   "metadata": {},
   "outputs": [],
   "source": [
    "import molsysmt as msm"
   ]
  },
  {
   "cell_type": "code",
   "execution_count": null,
   "id": "ee7fc4e8-7e99-4d34-8616-929fdefff532",
   "metadata": {},
   "outputs": [],
   "source": [
    "msm.info(pdb, target='chain')"
   ]
  },
  {
   "cell_type": "code",
   "execution_count": null,
   "id": "b55ce17f-636d-484f-87da-323ee7efde4c",
   "metadata": {},
   "outputs": [],
   "source": [
    "top = pdb.topology"
   ]
  },
  {
   "cell_type": "code",
   "execution_count": null,
   "id": "5d808bf5-1d73-4512-8f32-f3e01664087b",
   "metadata": {},
   "outputs": [],
   "source": [
    "for bond in top.bonds():\n",
    "    print(bond)"
   ]
  },
  {
   "cell_type": "code",
   "execution_count": null,
   "id": "ed207fc8-bb97-4d3b-abfb-e0540df8747c",
   "metadata": {},
   "outputs": [],
   "source": []
  }
 ],
 "metadata": {
  "kernelspec": {
   "display_name": "Python 3 (ipykernel)",
   "language": "python",
   "name": "python3"
  },
  "language_info": {
   "codemirror_mode": {
    "name": "ipython",
    "version": 3
   },
   "file_extension": ".py",
   "mimetype": "text/x-python",
   "name": "python",
   "nbconvert_exporter": "python",
   "pygments_lexer": "ipython3",
   "version": "3.7.12"
  }
 },
 "nbformat": 4,
 "nbformat_minor": 5
}
