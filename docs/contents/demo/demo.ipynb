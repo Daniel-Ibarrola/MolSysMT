{
 "cells": [
  {
   "cell_type": "code",
   "execution_count": 1,
   "id": "0c975dd1-587a-448e-8137-f98f95c88372",
   "metadata": {},
   "outputs": [],
   "source": [
    "%load_ext autoreload\n",
    "%autoreload 2"
   ]
  },
  {
   "cell_type": "code",
   "execution_count": 2,
   "id": "8585d18c-9a5e-4e03-b95b-ae70e55ba449",
   "metadata": {},
   "outputs": [
    {
     "name": "stderr",
     "output_type": "stream",
     "text": [
      "Warning: importing 'simtk.openmm' is deprecated.  Import 'openmm' instead.\n"
     ]
    },
    {
     "data": {
      "application/vnd.jupyter.widget-view+json": {
       "model_id": "346d82e975a7441da3a4fbb10d2bd359",
       "version_major": 2,
       "version_minor": 0
      },
      "text/plain": []
     },
     "metadata": {},
     "output_type": "display_data"
    }
   ],
   "source": [
    "import molsysmt as msm"
   ]
  },
  {
   "cell_type": "markdown",
   "id": "7540a894-69ee-4129-8d38-77446beb54e5",
   "metadata": {},
   "source": [
    "# Demo"
   ]
  },
  {
   "cell_type": "code",
   "execution_count": 3,
   "id": "977c538f-f0c7-48d4-ae2d-6c49a08efe82",
   "metadata": {},
   "outputs": [],
   "source": [
    "def dir_public(obj):\n",
    "    return [attr for attr in dir(obj) if not attr.startswith('__')]"
   ]
  },
  {
   "cell_type": "code",
   "execution_count": 4,
   "id": "adfd90c7-207a-4950-9df7-19af42c686c9",
   "metadata": {},
   "outputs": [
    {
     "data": {
      "text/plain": [
       "['classes',\n",
       " 'files',\n",
       " 'strings',\n",
       " 't4_lysozyme_l99a',\n",
       " 'two_lj_particles',\n",
       " 'villin_hp35']"
      ]
     },
     "execution_count": 4,
     "metadata": {},
     "output_type": "execute_result"
    }
   ],
   "source": [
    "dir_public(msm.demo)"
   ]
  },
  {
   "cell_type": "markdown",
   "id": "5e99d862-a601-45c9-979a-6b6b64e3f5bd",
   "metadata": {},
   "source": [
    "## Files"
   ]
  },
  {
   "cell_type": "code",
   "execution_count": 5,
   "id": "96068ce5-d098-4f75-8c9f-51c57b579292",
   "metadata": {},
   "outputs": [
    {
     "name": "stdout",
     "output_type": "stream",
     "text": [
      "two_lj_particles_traj.trjpk\n",
      "1vii.pdb\n",
      "1vii.mmtf\n",
      "villin_hp35_vacuum.msmpk\n",
      "villin_hp35_solvated.msmpk\n",
      "villin_hp35_solvated.dcd\n",
      "villin_hp35_solvated.h5\n",
      "villin_hp35_solvated_last.pdb\n",
      "181l.pdb\n",
      "181l.mmtf\n",
      "in_pdbid_181l.msmpk\n",
      "1l17.mmtf\n",
      "nglview_demo_md_1u19.gro\n",
      "nglview_demo_md_1u19.xtc\n"
     ]
    }
   ],
   "source": [
    "for filename in msm.demo.files.keys():\n",
    "    print(filename)"
   ]
  },
  {
   "cell_type": "code",
   "execution_count": 6,
   "id": "d5dc545f-87f9-4228-8f48-7936fa18d062",
   "metadata": {},
   "outputs": [
    {
     "ename": "KeyError",
     "evalue": "'pentalanine.inpcrd'",
     "output_type": "error",
     "traceback": [
      "\u001b[0;31m---------------------------------------------------------------------------\u001b[0m",
      "\u001b[0;31mKeyError\u001b[0m                                  Traceback (most recent call last)",
      "\u001b[0;32m/tmp/ipykernel_3537406/447684345.py\u001b[0m in \u001b[0;36m<module>\u001b[0;34m\u001b[0m\n\u001b[0;32m----> 1\u001b[0;31m \u001b[0mmolsys\u001b[0m \u001b[0;34m=\u001b[0m \u001b[0mmsm\u001b[0m\u001b[0;34m.\u001b[0m\u001b[0mdemo\u001b[0m\u001b[0;34m.\u001b[0m\u001b[0mfiles\u001b[0m\u001b[0;34m[\u001b[0m\u001b[0;34m'pentalanine.inpcrd'\u001b[0m\u001b[0;34m]\u001b[0m\u001b[0;34m\u001b[0m\u001b[0;34m\u001b[0m\u001b[0m\n\u001b[0m",
      "\u001b[0;31mKeyError\u001b[0m: 'pentalanine.inpcrd'"
     ]
    }
   ],
   "source": [
    "molsys = msm.demo.files['pentalanine.inpcrd']"
   ]
  },
  {
   "cell_type": "code",
   "execution_count": null,
   "id": "f6416da2-cb13-4774-a65b-035942286c43",
   "metadata": {},
   "outputs": [],
   "source": [
    "msm.get_form(molsys)"
   ]
  },
  {
   "cell_type": "markdown",
   "id": "305715dd-97cf-45ed-ae93-bb05844848aa",
   "metadata": {},
   "source": [
    "## Strings"
   ]
  },
  {
   "cell_type": "code",
   "execution_count": null,
   "id": "f4a4e789-117c-4cfc-9761-704062dbd256",
   "metadata": {},
   "outputs": [],
   "source": [
    "for attribute in dir_public(msm.demo.strings):\n",
    "    print(attribute)"
   ]
  },
  {
   "cell_type": "code",
   "execution_count": null,
   "id": "d30487f7-1a02-41c2-89bc-107c3495f19a",
   "metadata": {},
   "outputs": [],
   "source": [
    "molsys = msm.demo.strings.aminoacids1_metenkephalin"
   ]
  },
  {
   "cell_type": "code",
   "execution_count": null,
   "id": "eb50edb8-bcdf-4894-a015-cb2353dc408d",
   "metadata": {},
   "outputs": [],
   "source": [
    "msm.get_form(molsys)"
   ]
  },
  {
   "cell_type": "markdown",
   "id": "451739c0-20b5-46f1-a791-20d3a663af2d",
   "metadata": {},
   "source": [
    "## Classes"
   ]
  },
  {
   "cell_type": "code",
   "execution_count": null,
   "id": "ad573b0e-c041-401b-93b6-ec4a7d863700",
   "metadata": {},
   "outputs": [],
   "source": [
    "for method in dir_public(msm.demo.classes):\n",
    "    print(method)"
   ]
  },
  {
   "cell_type": "code",
   "execution_count": null,
   "id": "88d0f508-53d3-4e18-b043-f5c0829e4884",
   "metadata": {},
   "outputs": [],
   "source": [
    "molsys = msm.demo.classes.valine_dipeptide_vacuum(to_form='molsysmt.MolSys')"
   ]
  },
  {
   "cell_type": "code",
   "execution_count": null,
   "id": "efd3c085-e967-4b3e-a990-a053a2d3bbf2",
   "metadata": {},
   "outputs": [],
   "source": [
    "msm.info(molsys)"
   ]
  },
  {
   "cell_type": "code",
   "execution_count": null,
   "id": "ff0d8ef3-2abf-4fac-a0b9-9edcb3c94f96",
   "metadata": {},
   "outputs": [],
   "source": []
  }
 ],
 "metadata": {
  "kernelspec": {
   "display_name": "Python 3 (ipykernel)",
   "language": "python",
   "name": "python3"
  },
  "language_info": {
   "codemirror_mode": {
    "name": "ipython",
    "version": 3
   },
   "file_extension": ".py",
   "mimetype": "text/x-python",
   "name": "python",
   "nbconvert_exporter": "python",
   "pygments_lexer": "ipython3",
   "version": "3.7.10"
  }
 },
 "nbformat": 4,
 "nbformat_minor": 5
}
