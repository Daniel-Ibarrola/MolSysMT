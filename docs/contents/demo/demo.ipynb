{
 "cells": [
  {
   "cell_type": "code",
   "execution_count": 1,
   "id": "0c975dd1-587a-448e-8137-f98f95c88372",
   "metadata": {},
   "outputs": [],
   "source": [
    "%load_ext autoreload\n",
    "%autoreload 2"
   ]
  },
  {
   "cell_type": "code",
   "execution_count": 2,
   "id": "8585d18c-9a5e-4e03-b95b-ae70e55ba449",
   "metadata": {},
   "outputs": [
    {
     "data": {
      "application/vnd.jupyter.widget-view+json": {
       "model_id": "a70e077242604e55b391b8e9db91c46d",
       "version_major": 2,
       "version_minor": 0
      },
      "text/plain": []
     },
     "metadata": {},
     "output_type": "display_data"
    }
   ],
   "source": [
    "import molsysmt as msm"
   ]
  },
  {
   "cell_type": "markdown",
   "id": "7540a894-69ee-4129-8d38-77446beb54e5",
   "metadata": {},
   "source": [
    "# Demo"
   ]
  },
  {
   "cell_type": "code",
   "execution_count": 3,
   "id": "977c538f-f0c7-48d4-ae2d-6c49a08efe82",
   "metadata": {},
   "outputs": [],
   "source": [
    "def dir_public(obj):\n",
    "    return [attr for attr in dir(obj) if not attr.startswith('__')]"
   ]
  },
  {
   "cell_type": "code",
   "execution_count": 4,
   "id": "adfd90c7-207a-4950-9df7-19af42c686c9",
   "metadata": {},
   "outputs": [
    {
     "data": {
      "text/plain": [
       "['classes', 'files', 'strings']"
      ]
     },
     "execution_count": 4,
     "metadata": {},
     "output_type": "execute_result"
    }
   ],
   "source": [
    "dir_public(msm.demo)"
   ]
  },
  {
   "cell_type": "markdown",
   "id": "5e99d862-a601-45c9-979a-6b6b64e3f5bd",
   "metadata": {},
   "source": [
    "## Files"
   ]
  },
  {
   "cell_type": "code",
   "execution_count": 5,
   "id": "96068ce5-d098-4f75-8c9f-51c57b579292",
   "metadata": {},
   "outputs": [
    {
     "name": "stdout",
     "output_type": "stream",
     "text": [
      "pentalanine.h5\n",
      "pentalanine.inpcrd\n",
      "pentalanine.prmtop\n",
      "metenkephalin.pdb\n",
      "trp-cage.pdb\n",
      "trp-cage_solvated.pdb\n",
      "1brs.pdb\n",
      "1brs.mmtf\n",
      "1sux.pdb\n",
      "1sux.mmtf\n",
      "1tcd.pdb\n",
      "1tcd.mmtf\n",
      "caffeine.mol2\n",
      "proline_dipeptide_vacuum.msmpk\n",
      "valine_dipeptide_vacuum.msmpk\n",
      "lysine_dipeptide_vacuum.msmpk\n"
     ]
    }
   ],
   "source": [
    "for filename in msm.demo.files.keys():\n",
    "    print(filename)"
   ]
  },
  {
   "cell_type": "code",
   "execution_count": 6,
   "id": "d5dc545f-87f9-4228-8f48-7936fa18d062",
   "metadata": {},
   "outputs": [],
   "source": [
    "molsys = msm.demo.files['pentalanine.inpcrd']"
   ]
  },
  {
   "cell_type": "code",
   "execution_count": 7,
   "id": "f6416da2-cb13-4774-a65b-035942286c43",
   "metadata": {},
   "outputs": [
    {
     "data": {
      "text/plain": [
       "'file:inpcrd'"
      ]
     },
     "execution_count": 7,
     "metadata": {},
     "output_type": "execute_result"
    }
   ],
   "source": [
    "msm.get_form(molsys)"
   ]
  },
  {
   "cell_type": "markdown",
   "id": "305715dd-97cf-45ed-ae93-bb05844848aa",
   "metadata": {},
   "source": [
    "## Strings"
   ]
  },
  {
   "cell_type": "code",
   "execution_count": 8,
   "id": "f4a4e789-117c-4cfc-9761-704062dbd256",
   "metadata": {},
   "outputs": [
    {
     "name": "stdout",
     "output_type": "stream",
     "text": [
      "aminoacids1_metenkephalin\n",
      "aminoacids3_metenkephalin\n",
      "pdb_benzamidine\n"
     ]
    }
   ],
   "source": [
    "for attribute in dir_public(msm.demo.strings):\n",
    "    print(attribute)"
   ]
  },
  {
   "cell_type": "code",
   "execution_count": 9,
   "id": "d30487f7-1a02-41c2-89bc-107c3495f19a",
   "metadata": {},
   "outputs": [],
   "source": [
    "molsys = msm.demo.strings.aminoacids1_metenkephalin"
   ]
  },
  {
   "cell_type": "code",
   "execution_count": 10,
   "id": "eb50edb8-bcdf-4894-a015-cb2353dc408d",
   "metadata": {},
   "outputs": [
    {
     "data": {
      "text/plain": [
       "'string:aminoacids1'"
      ]
     },
     "execution_count": 10,
     "metadata": {},
     "output_type": "execute_result"
    }
   ],
   "source": [
    "msm.get_form(molsys)"
   ]
  },
  {
   "cell_type": "markdown",
   "id": "451739c0-20b5-46f1-a791-20d3a663af2d",
   "metadata": {},
   "source": [
    "## Classes"
   ]
  },
  {
   "cell_type": "code",
   "execution_count": 11,
   "id": "ad573b0e-c041-401b-93b6-ec4a7d863700",
   "metadata": {},
   "outputs": [
    {
     "name": "stdout",
     "output_type": "stream",
     "text": [
      "lysine_dipeptide_vacuum\n",
      "metenkephalin\n",
      "pentalanine\n",
      "pentalanine_traj\n",
      "proline_dipeptide_vacuum\n",
      "valine_dipeptide_vacuum\n"
     ]
    }
   ],
   "source": [
    "for method in dir_public(msm.demo.classes):\n",
    "    print(method)"
   ]
  },
  {
   "cell_type": "code",
   "execution_count": 12,
   "id": "88d0f508-53d3-4e18-b043-f5c0829e4884",
   "metadata": {},
   "outputs": [],
   "source": [
    "molsys = msm.demo.classes.valine_dipeptide_vacuum(to_form='molsysmt.MolSys')"
   ]
  },
  {
   "cell_type": "code",
   "execution_count": 13,
   "id": "efd3c085-e967-4b3e-a990-a053a2d3bbf2",
   "metadata": {},
   "outputs": [
    {
     "data": {
      "text/html": [
       "<style type=\"text/css\">\n",
       "</style>\n",
       "<table id=\"T_67906_\">\n",
       "  <thead>\n",
       "    <tr>\n",
       "      <th class=\"col_heading level0 col0\" >form</th>\n",
       "      <th class=\"col_heading level0 col1\" >n_atoms</th>\n",
       "      <th class=\"col_heading level0 col2\" >n_groups</th>\n",
       "      <th class=\"col_heading level0 col3\" >n_components</th>\n",
       "      <th class=\"col_heading level0 col4\" >n_chains</th>\n",
       "      <th class=\"col_heading level0 col5\" >n_molecules</th>\n",
       "      <th class=\"col_heading level0 col6\" >n_entities</th>\n",
       "      <th class=\"col_heading level0 col7\" >n_peptides</th>\n",
       "      <th class=\"col_heading level0 col8\" >n_frames</th>\n",
       "    </tr>\n",
       "  </thead>\n",
       "  <tbody>\n",
       "    <tr>\n",
       "      <td id=\"T_67906_row0_col0\" class=\"data row0 col0\" >molsysmt.MolSys</td>\n",
       "      <td id=\"T_67906_row0_col1\" class=\"data row0 col1\" >26</td>\n",
       "      <td id=\"T_67906_row0_col2\" class=\"data row0 col2\" >3</td>\n",
       "      <td id=\"T_67906_row0_col3\" class=\"data row0 col3\" >1</td>\n",
       "      <td id=\"T_67906_row0_col4\" class=\"data row0 col4\" >1</td>\n",
       "      <td id=\"T_67906_row0_col5\" class=\"data row0 col5\" >1</td>\n",
       "      <td id=\"T_67906_row0_col6\" class=\"data row0 col6\" >1</td>\n",
       "      <td id=\"T_67906_row0_col7\" class=\"data row0 col7\" >1</td>\n",
       "      <td id=\"T_67906_row0_col8\" class=\"data row0 col8\" >1</td>\n",
       "    </tr>\n",
       "  </tbody>\n",
       "</table>\n"
      ],
      "text/plain": [
       "<pandas.io.formats.style.Styler at 0x7fe3f05e6950>"
      ]
     },
     "execution_count": 13,
     "metadata": {},
     "output_type": "execute_result"
    }
   ],
   "source": [
    "msm.info(molsys)"
   ]
  },
  {
   "cell_type": "code",
   "execution_count": null,
   "id": "ff0d8ef3-2abf-4fac-a0b9-9edcb3c94f96",
   "metadata": {},
   "outputs": [],
   "source": []
  }
 ],
 "metadata": {
  "kernelspec": {
   "display_name": "Python 3 (ipykernel)",
   "language": "python",
   "name": "python3"
  },
  "language_info": {
   "codemirror_mode": {
    "name": "ipython",
    "version": 3
   },
   "file_extension": ".py",
   "mimetype": "text/x-python",
   "name": "python",
   "nbconvert_exporter": "python",
   "pygments_lexer": "ipython3",
   "version": "3.7.10"
  }
 },
 "nbformat": 4,
 "nbformat_minor": 5
}
