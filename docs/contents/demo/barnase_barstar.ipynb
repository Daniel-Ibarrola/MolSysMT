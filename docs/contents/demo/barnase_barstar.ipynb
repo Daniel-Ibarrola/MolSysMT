{
 "cells": [
  {
   "cell_type": "code",
   "execution_count": 1,
   "id": "7884fe0a-9320-4a4e-b5b7-d7b14d5f5c22",
   "metadata": {},
   "outputs": [],
   "source": [
    "%load_ext autoreload\n",
    "%autoreload 2"
   ]
  },
  {
   "cell_type": "markdown",
   "id": "d89a220f-10b3-4525-9762-dd5b6a94b3d0",
   "metadata": {},
   "source": [
    "# Barnase-Barstar complex"
   ]
  },
  {
   "cell_type": "code",
   "execution_count": 2,
   "id": "1bb1e5a4-14f2-494c-8b76-31b77bd01bcc",
   "metadata": {},
   "outputs": [
    {
     "name": "stderr",
     "output_type": "stream",
     "text": [
      "Warning: importing 'simtk.openmm' is deprecated.  Import 'openmm' instead.\n"
     ]
    },
    {
     "data": {
      "application/vnd.jupyter.widget-view+json": {
       "model_id": "ad64654f27364af6a006e71166cfbed1",
       "version_major": 2,
       "version_minor": 0
      },
      "text/plain": []
     },
     "metadata": {},
     "output_type": "display_data"
    },
    {
     "name": "stdout",
     "output_type": "stream",
     "text": [
      "no need to add nglview patch\n"
     ]
    }
   ],
   "source": [
    "import molsysmt as msm"
   ]
  },
  {
   "cell_type": "code",
   "execution_count": 3,
   "id": "fb2e2194-2c0e-4790-b223-333e865bd03a",
   "metadata": {},
   "outputs": [],
   "source": [
    "#msm.convert('1BRS','1brs.mmtf')"
   ]
  },
  {
   "cell_type": "markdown",
   "id": "6fc9db11-4140-4a6a-934c-08e6b70c044a",
   "metadata": {},
   "source": [
    "```\n",
    "ATOM   2686  N   SER D  14      33.167  24.228  -0.250  1.00 23.52           N  \n",
    "ATOM   2687  CA  SER D  14      33.326  23.955   1.184  1.00 23.81           C  \n",
    "ATOM   2688  C   SER D  14      34.789  24.036   1.584  1.00 22.49           C  \n",
    "ATOM   2689  O   SER D  14      35.138  24.525   2.653  1.00 21.65           O  \n",
    "ATOM   2690  CB ASER D  14      32.742  22.579   1.536  0.50 24.66           C  \n",
    "ATOM   2691  CB BSER D  14      32.757  22.571   1.533  0.50 24.67           C  \n",
    "ATOM   2692  OG ASER D  14      31.412  22.410   1.076  0.50 25.94           O  \n",
    "ATOM   2693  OG BSER D  14      33.396  21.920   2.619  0.50 25.96           O  \n",
    "```"
   ]
  },
  {
   "cell_type": "code",
   "execution_count": 4,
   "id": "18dbdc5d-ccdc-48fd-9137-4014e1482f26",
   "metadata": {},
   "outputs": [
    {
     "name": "stdout",
     "output_type": "stream",
     "text": [
      "The bioassembly has a different number of chains than the total amount of chains\n"
     ]
    },
    {
     "name": "stderr",
     "output_type": "stream",
     "text": [
      "/home/diego/projects/MolSysMT/molsysmt/native/io/topology/mmtf_MMTFDecoder.py:27: UserWarning: The structure in the PDB has biological assemblies. There are geometrical transformations proposed in the structure. See the following issue in the source code repository: https://github.com/uibcdf/MolSysMT/issues/33\n",
      "  warnings.warn(warning_message)\n",
      "/home/diego/projects/MolSysMT/molsysmt/native/io/topology/mmtf_MMTFDecoder.py:42: UserWarning: The bioassembly has a different number of chains than the total amount of chains\n",
      "  warnings.warn(warning_message)\n"
     ]
    }
   ],
   "source": [
    "molecular_system = msm.convert('1brs.mmtf', to_form='molsysmt.MolSys')"
   ]
  },
  {
   "cell_type": "code",
   "execution_count": 5,
   "id": "eada33c2-75db-4a4c-ac7d-47e2483f1e73",
   "metadata": {},
   "outputs": [
    {
     "data": {
      "text/html": [
       "<style type=\"text/css\">\n",
       "</style>\n",
       "<table id=\"T_d9e35_\">\n",
       "  <thead>\n",
       "    <tr>\n",
       "      <th class=\"col_heading level0 col0\" >form</th>\n",
       "      <th class=\"col_heading level0 col1\" >n_atoms</th>\n",
       "      <th class=\"col_heading level0 col2\" >n_groups</th>\n",
       "      <th class=\"col_heading level0 col3\" >n_components</th>\n",
       "      <th class=\"col_heading level0 col4\" >n_chains</th>\n",
       "      <th class=\"col_heading level0 col5\" >n_molecules</th>\n",
       "      <th class=\"col_heading level0 col6\" >n_entities</th>\n",
       "      <th class=\"col_heading level0 col7\" >n_waters</th>\n",
       "      <th class=\"col_heading level0 col8\" >n_proteins</th>\n",
       "      <th class=\"col_heading level0 col9\" >n_frames</th>\n",
       "    </tr>\n",
       "  </thead>\n",
       "  <tbody>\n",
       "    <tr>\n",
       "      <td id=\"T_d9e35_row0_col0\" class=\"data row0 col0\" >molsysmt.MolSys</td>\n",
       "      <td id=\"T_d9e35_row0_col1\" class=\"data row0 col1\" >5153</td>\n",
       "      <td id=\"T_d9e35_row0_col2\" class=\"data row0 col2\" >1101</td>\n",
       "      <td id=\"T_d9e35_row0_col3\" class=\"data row0 col3\" >521</td>\n",
       "      <td id=\"T_d9e35_row0_col4\" class=\"data row0 col4\" >12</td>\n",
       "      <td id=\"T_d9e35_row0_col5\" class=\"data row0 col5\" >515</td>\n",
       "      <td id=\"T_d9e35_row0_col6\" class=\"data row0 col6\" >3</td>\n",
       "      <td id=\"T_d9e35_row0_col7\" class=\"data row0 col7\" >513</td>\n",
       "      <td id=\"T_d9e35_row0_col8\" class=\"data row0 col8\" >2</td>\n",
       "      <td id=\"T_d9e35_row0_col9\" class=\"data row0 col9\" >1</td>\n",
       "    </tr>\n",
       "  </tbody>\n",
       "</table>\n"
      ],
      "text/plain": [
       "<pandas.io.formats.style.Styler at 0x7f5b2e1f7b50>"
      ]
     },
     "execution_count": 5,
     "metadata": {},
     "output_type": "execute_result"
    }
   ],
   "source": [
    "msm.info(molecular_system)"
   ]
  },
  {
   "cell_type": "code",
   "execution_count": 6,
   "id": "7e2457d9-a4a6-405a-bccc-ffda3fc5e687",
   "metadata": {},
   "outputs": [],
   "source": [
    "molecular_system = msm.build.remove_waters(molecular_system)"
   ]
  },
  {
   "cell_type": "code",
   "execution_count": 7,
   "id": "45c22d55-1cd8-479c-9eff-4ae5bb3328e5",
   "metadata": {},
   "outputs": [
    {
     "data": {
      "text/html": [
       "<style type=\"text/css\">\n",
       "</style>\n",
       "<table id=\"T_4a576_\">\n",
       "  <thead>\n",
       "    <tr>\n",
       "      <th class=\"col_heading level0 col0\" >index</th>\n",
       "      <th class=\"col_heading level0 col1\" >name</th>\n",
       "      <th class=\"col_heading level0 col2\" >type</th>\n",
       "      <th class=\"col_heading level0 col3\" >n atoms</th>\n",
       "      <th class=\"col_heading level0 col4\" >n groups</th>\n",
       "      <th class=\"col_heading level0 col5\" >n components</th>\n",
       "      <th class=\"col_heading level0 col6\" >n chains</th>\n",
       "      <th class=\"col_heading level0 col7\" >n molecules</th>\n",
       "    </tr>\n",
       "  </thead>\n",
       "  <tbody>\n",
       "    <tr>\n",
       "      <td id=\"T_4a576_row0_col0\" class=\"data row0 col0\" >0</td>\n",
       "      <td id=\"T_4a576_row0_col1\" class=\"data row0 col1\" >BARNASE</td>\n",
       "      <td id=\"T_4a576_row0_col2\" class=\"data row0 col2\" >protein</td>\n",
       "      <td id=\"T_4a576_row0_col3\" class=\"data row0 col3\" >2581</td>\n",
       "      <td id=\"T_4a576_row0_col4\" class=\"data row0 col4\" >326</td>\n",
       "      <td id=\"T_4a576_row0_col5\" class=\"data row0 col5\" >3</td>\n",
       "      <td id=\"T_4a576_row0_col6\" class=\"data row0 col6\" >3</td>\n",
       "      <td id=\"T_4a576_row0_col7\" class=\"data row0 col7\" >1</td>\n",
       "    </tr>\n",
       "    <tr>\n",
       "      <td id=\"T_4a576_row1_col0\" class=\"data row1 col0\" >1</td>\n",
       "      <td id=\"T_4a576_row1_col1\" class=\"data row1 col1\" >BARSTAR</td>\n",
       "      <td id=\"T_4a576_row1_col2\" class=\"data row1 col2\" >protein</td>\n",
       "      <td id=\"T_4a576_row1_col3\" class=\"data row1 col3\" >2059</td>\n",
       "      <td id=\"T_4a576_row1_col4\" class=\"data row1 col4\" >262</td>\n",
       "      <td id=\"T_4a576_row1_col5\" class=\"data row1 col5\" >5</td>\n",
       "      <td id=\"T_4a576_row1_col6\" class=\"data row1 col6\" >3</td>\n",
       "      <td id=\"T_4a576_row1_col7\" class=\"data row1 col7\" >1</td>\n",
       "    </tr>\n",
       "  </tbody>\n",
       "</table>\n"
      ],
      "text/plain": [
       "<pandas.io.formats.style.Styler at 0x7f5b6e89a290>"
      ]
     },
     "execution_count": 7,
     "metadata": {},
     "output_type": "execute_result"
    }
   ],
   "source": [
    "msm.info(molecular_system, target='entity')"
   ]
  },
  {
   "cell_type": "code",
   "execution_count": 8,
   "id": "43afa8d5-fc95-4206-8842-9f96e89824f8",
   "metadata": {},
   "outputs": [
    {
     "data": {
      "text/plain": [
       "False"
      ]
     },
     "execution_count": 8,
     "metadata": {},
     "output_type": "execute_result"
    }
   ],
   "source": [
    "msm.build.has_hydrogens(molecular_system)"
   ]
  },
  {
   "cell_type": "code",
   "execution_count": 9,
   "id": "a673c164-1a44-4c87-8514-046d6ad3ca84",
   "metadata": {},
   "outputs": [
    {
     "data": {
      "text/html": [
       "<style type=\"text/css\">\n",
       "</style>\n",
       "<table id=\"T_d77de_\">\n",
       "  <thead>\n",
       "    <tr>\n",
       "      <th class=\"col_heading level0 col0\" >index</th>\n",
       "      <th class=\"col_heading level0 col1\" >id</th>\n",
       "      <th class=\"col_heading level0 col2\" >name</th>\n",
       "      <th class=\"col_heading level0 col3\" >n atoms</th>\n",
       "      <th class=\"col_heading level0 col4\" >n groups</th>\n",
       "      <th class=\"col_heading level0 col5\" >n components</th>\n",
       "      <th class=\"col_heading level0 col6\" >molecule index</th>\n",
       "      <th class=\"col_heading level0 col7\" >molecule type</th>\n",
       "      <th class=\"col_heading level0 col8\" >entity index</th>\n",
       "      <th class=\"col_heading level0 col9\" >entity name</th>\n",
       "    </tr>\n",
       "  </thead>\n",
       "  <tbody>\n",
       "    <tr>\n",
       "      <td id=\"T_d77de_row0_col0\" class=\"data row0 col0\" >0</td>\n",
       "      <td id=\"T_d77de_row0_col1\" class=\"data row0 col1\" >A</td>\n",
       "      <td id=\"T_d77de_row0_col2\" class=\"data row0 col2\" >A</td>\n",
       "      <td id=\"T_d77de_row0_col3\" class=\"data row0 col3\" >864</td>\n",
       "      <td id=\"T_d77de_row0_col4\" class=\"data row0 col4\" >108</td>\n",
       "      <td id=\"T_d77de_row0_col5\" class=\"data row0 col5\" >1</td>\n",
       "      <td id=\"T_d77de_row0_col6\" class=\"data row0 col6\" >0</td>\n",
       "      <td id=\"T_d77de_row0_col7\" class=\"data row0 col7\" >protein</td>\n",
       "      <td id=\"T_d77de_row0_col8\" class=\"data row0 col8\" >0</td>\n",
       "      <td id=\"T_d77de_row0_col9\" class=\"data row0 col9\" >BARNASE</td>\n",
       "    </tr>\n",
       "    <tr>\n",
       "      <td id=\"T_d77de_row1_col0\" class=\"data row1 col0\" >1</td>\n",
       "      <td id=\"T_d77de_row1_col1\" class=\"data row1 col1\" >B</td>\n",
       "      <td id=\"T_d77de_row1_col2\" class=\"data row1 col2\" >B</td>\n",
       "      <td id=\"T_d77de_row1_col3\" class=\"data row1 col3\" >878</td>\n",
       "      <td id=\"T_d77de_row1_col4\" class=\"data row1 col4\" >110</td>\n",
       "      <td id=\"T_d77de_row1_col5\" class=\"data row1 col5\" >1</td>\n",
       "      <td id=\"T_d77de_row1_col6\" class=\"data row1 col6\" >0</td>\n",
       "      <td id=\"T_d77de_row1_col7\" class=\"data row1 col7\" >protein</td>\n",
       "      <td id=\"T_d77de_row1_col8\" class=\"data row1 col8\" >0</td>\n",
       "      <td id=\"T_d77de_row1_col9\" class=\"data row1 col9\" >BARNASE</td>\n",
       "    </tr>\n",
       "    <tr>\n",
       "      <td id=\"T_d77de_row2_col0\" class=\"data row2 col0\" >2</td>\n",
       "      <td id=\"T_d77de_row2_col1\" class=\"data row2 col1\" >C</td>\n",
       "      <td id=\"T_d77de_row2_col2\" class=\"data row2 col2\" >C</td>\n",
       "      <td id=\"T_d77de_row2_col3\" class=\"data row2 col3\" >839</td>\n",
       "      <td id=\"T_d77de_row2_col4\" class=\"data row2 col4\" >108</td>\n",
       "      <td id=\"T_d77de_row2_col5\" class=\"data row2 col5\" >1</td>\n",
       "      <td id=\"T_d77de_row2_col6\" class=\"data row2 col6\" >0</td>\n",
       "      <td id=\"T_d77de_row2_col7\" class=\"data row2 col7\" >protein</td>\n",
       "      <td id=\"T_d77de_row2_col8\" class=\"data row2 col8\" >0</td>\n",
       "      <td id=\"T_d77de_row2_col9\" class=\"data row2 col9\" >BARNASE</td>\n",
       "    </tr>\n",
       "    <tr>\n",
       "      <td id=\"T_d77de_row3_col0\" class=\"data row3 col0\" >3</td>\n",
       "      <td id=\"T_d77de_row3_col1\" class=\"data row3 col1\" >D</td>\n",
       "      <td id=\"T_d77de_row3_col2\" class=\"data row3 col2\" >D</td>\n",
       "      <td id=\"T_d77de_row3_col3\" class=\"data row3 col3\" >695</td>\n",
       "      <td id=\"T_d77de_row3_col4\" class=\"data row3 col4\" >87</td>\n",
       "      <td id=\"T_d77de_row3_col5\" class=\"data row3 col5\" >2</td>\n",
       "      <td id=\"T_d77de_row3_col6\" class=\"data row3 col6\" >1</td>\n",
       "      <td id=\"T_d77de_row3_col7\" class=\"data row3 col7\" >protein</td>\n",
       "      <td id=\"T_d77de_row3_col8\" class=\"data row3 col8\" >1</td>\n",
       "      <td id=\"T_d77de_row3_col9\" class=\"data row3 col9\" >BARSTAR</td>\n",
       "    </tr>\n",
       "    <tr>\n",
       "      <td id=\"T_d77de_row4_col0\" class=\"data row4 col0\" >4</td>\n",
       "      <td id=\"T_d77de_row4_col1\" class=\"data row4 col1\" >E</td>\n",
       "      <td id=\"T_d77de_row4_col2\" class=\"data row4 col2\" >E</td>\n",
       "      <td id=\"T_d77de_row4_col3\" class=\"data row4 col3\" >665</td>\n",
       "      <td id=\"T_d77de_row4_col4\" class=\"data row4 col4\" >86</td>\n",
       "      <td id=\"T_d77de_row4_col5\" class=\"data row4 col5\" >2</td>\n",
       "      <td id=\"T_d77de_row4_col6\" class=\"data row4 col6\" >1</td>\n",
       "      <td id=\"T_d77de_row4_col7\" class=\"data row4 col7\" >protein</td>\n",
       "      <td id=\"T_d77de_row4_col8\" class=\"data row4 col8\" >1</td>\n",
       "      <td id=\"T_d77de_row4_col9\" class=\"data row4 col9\" >BARSTAR</td>\n",
       "    </tr>\n",
       "    <tr>\n",
       "      <td id=\"T_d77de_row5_col0\" class=\"data row5 col0\" >5</td>\n",
       "      <td id=\"T_d77de_row5_col1\" class=\"data row5 col1\" >F</td>\n",
       "      <td id=\"T_d77de_row5_col2\" class=\"data row5 col2\" >F</td>\n",
       "      <td id=\"T_d77de_row5_col3\" class=\"data row5 col3\" >699</td>\n",
       "      <td id=\"T_d77de_row5_col4\" class=\"data row5 col4\" >89</td>\n",
       "      <td id=\"T_d77de_row5_col5\" class=\"data row5 col5\" >1</td>\n",
       "      <td id=\"T_d77de_row5_col6\" class=\"data row5 col6\" >1</td>\n",
       "      <td id=\"T_d77de_row5_col7\" class=\"data row5 col7\" >protein</td>\n",
       "      <td id=\"T_d77de_row5_col8\" class=\"data row5 col8\" >1</td>\n",
       "      <td id=\"T_d77de_row5_col9\" class=\"data row5 col9\" >BARSTAR</td>\n",
       "    </tr>\n",
       "  </tbody>\n",
       "</table>\n"
      ],
      "text/plain": [
       "<pandas.io.formats.style.Styler at 0x7f5b6e83fa10>"
      ]
     },
     "execution_count": 9,
     "metadata": {},
     "output_type": "execute_result"
    }
   ],
   "source": [
    "msm.info(molecular_system, target='chain')"
   ]
  },
  {
   "cell_type": "code",
   "execution_count": 10,
   "id": "cfb1db11-c2dc-4f5e-9419-772222827773",
   "metadata": {},
   "outputs": [
    {
     "data": {
      "text/plain": [
       "array([{2581, 2582, 2583, 2584, 2585, 2586, 2587, 2588, 2589, 2590, 2591, 2592, 2593, 2594, 2595, 2596, 2597, 2598, 2599, 2600, 2601, 2602, 2603, 2604, 2605, 2606, 2607, 2608, 2609, 2610, 2611, 2612, 2613, 2614, 2615, 2616, 2617, 2618, 2619, 2620, 2621, 2622, 2623, 2624, 2625, 2626, 2627, 2628, 2629, 2630, 2631, 2632, 2633, 2634, 2635, 2636, 2637, 2638, 2639, 2640, 2641, 2642, 2643, 2644, 2645, 2646, 2647, 2648, 2649, 2650, 2651, 2652, 2653, 2654, 2655, 2656, 2657, 2658, 2659, 2660, 2661, 2662, 2663, 2664, 2665, 2666, 2667, 2668, 2669, 2670, 2671, 2672, 2673, 2674, 2675, 2676, 2677, 2678, 2679, 2680, 2681, 2682, 2683, 2684, 2685, 2686, 2687, 2688, 2689, 2690, 2691, 2692, 2693, 2694, 2695, 2696, 2697, 2698, 2699, 2700, 2701, 2702, 2703, 2704, 2705, 2706, 2707, 2708, 2709, 2710, 2711, 2712, 2713, 2714, 2715, 2716, 2717, 2718, 2719, 2720, 2721, 2722, 2723, 2724, 2725, 2726, 2727, 2728, 2729, 2730, 2731, 2732, 2733, 2734, 2735, 2736, 2737, 2738, 2739, 2740, 2741, 2742, 2743, 2744, 2745, 2746, 2747, 2748, 2749, 2750, 2751, 2752, 2753, 2754, 2755, 2756, 2757, 2758, 2759, 2760, 2761, 2762, 2763, 2764, 2765, 2766, 2767, 2768, 2769, 2770, 2771, 2772, 2773, 2774, 2775, 2776, 2777, 2778, 2779, 2780, 2781, 2782, 2783, 2784, 2785, 2786, 2787, 2788, 2789, 2790, 2791, 2792, 2793, 2794, 2795, 2796, 2797, 2798, 2799, 2800, 2801, 2802, 2803, 2804, 2805, 2806, 2807, 2808, 2809, 2810, 2811, 2812, 2813, 2814, 2815, 2816, 2817, 2818, 2819, 2820, 2821, 2822, 2823, 2824, 2825, 2826, 2827, 2828, 2829, 2830, 2831, 2832, 2833, 2834, 2835, 2836, 2837, 2838, 2839, 2840, 2841, 2842, 2843, 2844, 2845, 2846, 2847, 2848, 2849, 2850, 2851, 2852, 2853, 2854, 2855, 2856, 2857, 2858, 2859, 2860, 2861, 2862, 2863, 2864, 2865, 2866, 2867, 2868, 2869, 2870, 2871, 2872, 2873, 2874, 2875, 2876, 2877, 2878, 2879, 2880, 2881, 2882, 2883, 2884, 2885, 2886, 2887, 2888, 2889, 2890, 2891, 2892, 2893, 2894, 2895, 2896, 2897, 2898, 2899, 2900, 2901, 2902, 2903, 2904, 2905, 2906, 2907, 2908, 2909, 2910, 2911, 2912, 2913, 2914, 2915, 2916, 2917, 2918, 2919, 2920, 2921, 2922, 2923, 2924, 2925, 2926, 2927, 2928, 2929, 2930, 2931, 2932, 2933, 2934, 2935, 2936, 2937, 2938, 2939, 2940, 2941, 2942, 2943, 2944, 2945, 2946, 2947, 2948, 2949, 2950, 2951, 2952, 2953, 2954, 2955, 2956, 2957, 2958, 2959, 2960, 2961, 2962, 2963, 2964, 2965, 2966, 2967, 2968, 2969, 2970, 2971, 2972, 2973, 2974, 2975, 2976, 2977, 2978, 2979, 2980, 2981, 2982, 2983, 2984, 2985, 2986, 2987, 2988, 2989, 2990, 2991, 2992, 2993, 2994, 2995, 2996, 2997, 2998, 2999, 3000, 3001, 3002, 3003, 3004, 3005, 3006, 3007, 3008, 3009, 3010, 3011, 3012, 3013, 3014, 3015, 3016, 3017, 3018, 3019, 3020, 3021, 3022, 3023, 3024, 3025, 3026, 3027, 3028, 3029, 3030, 3031, 3032, 3033, 3034, 3035, 3036, 3037, 3038, 3039, 3040, 3041, 3042, 3043, 3044, 3045, 3046, 3047, 3048, 3049, 3050, 3051, 3052, 3053, 3054, 3055, 3056, 3057, 3058, 3059, 3060, 3061, 3062, 3063, 3064, 3065, 3066, 3067, 3068, 3069, 3070, 3071, 3072, 3073, 3074, 3075, 3076, 3077, 3078, 3079, 3080, 3081, 3082, 3083, 3084, 3085, 3086, 3087, 3088, 3089, 3090, 3091, 3092, 3093, 3094, 3095, 3096, 3097, 3098, 3099},\n",
       "       {3100, 3101, 3102, 3103, 3104, 3105, 3106, 3107, 3108, 3109, 3110, 3111, 3112, 3113, 3114, 3115, 3116, 3117, 3118, 3119, 3120, 3121, 3122, 3123, 3124, 3125, 3126, 3127, 3128, 3129, 3130, 3131, 3132, 3133, 3134, 3135, 3136, 3137, 3138, 3139, 3140, 3141, 3142, 3143, 3144, 3145, 3146, 3147, 3148, 3149, 3150, 3151, 3152, 3153, 3154, 3155, 3156, 3157, 3158, 3159, 3160, 3161, 3162, 3163, 3164, 3165, 3166, 3167, 3168, 3169, 3170, 3171, 3172, 3173, 3174, 3175, 3176, 3177, 3178, 3179, 3180, 3181, 3182, 3183, 3184, 3185, 3186, 3187, 3188, 3189, 3190, 3191, 3192, 3193, 3194, 3195, 3196, 3197, 3198, 3199, 3200, 3201, 3202, 3203, 3204, 3205, 3206, 3207, 3208, 3209, 3210, 3211, 3212, 3213, 3214, 3215, 3216, 3217, 3218, 3219, 3220, 3221, 3222, 3223, 3224, 3225, 3226, 3227, 3228, 3229, 3230, 3231, 3232, 3233, 3234, 3235, 3236, 3237, 3238, 3239, 3240, 3241, 3242, 3243, 3244, 3245, 3246, 3247, 3248, 3249, 3250, 3251, 3252, 3253, 3254, 3255, 3256, 3257, 3258, 3259, 3260, 3261, 3262, 3263, 3264, 3265, 3266, 3267, 3268, 3269, 3270, 3271, 3272, 3273, 3274, 3275}],\n",
       "      dtype=object)"
      ]
     },
     "execution_count": 10,
     "metadata": {},
     "output_type": "execute_result"
    }
   ],
   "source": [
    "msm.topology.get_covalent_blocks(molecular_system, selection='chain_index==3')"
   ]
  },
  {
   "cell_type": "code",
   "execution_count": 12,
   "id": "14c4c54f-179f-414d-949c-f870016964e9",
   "metadata": {},
   "outputs": [
    {
     "data": {
      "text/html": [
       "<style type=\"text/css\">\n",
       "</style>\n",
       "<table id=\"T_98a8a_\">\n",
       "  <thead>\n",
       "    <tr>\n",
       "      <th class=\"col_heading level0 col0\" >index</th>\n",
       "      <th class=\"col_heading level0 col1\" >id</th>\n",
       "      <th class=\"col_heading level0 col2\" >name</th>\n",
       "      <th class=\"col_heading level0 col3\" >type</th>\n",
       "      <th class=\"col_heading level0 col4\" >group index</th>\n",
       "      <th class=\"col_heading level0 col5\" >group id</th>\n",
       "      <th class=\"col_heading level0 col6\" >group name</th>\n",
       "      <th class=\"col_heading level0 col7\" >group type</th>\n",
       "      <th class=\"col_heading level0 col8\" >component index</th>\n",
       "      <th class=\"col_heading level0 col9\" >chain index</th>\n",
       "      <th class=\"col_heading level0 col10\" >molecule index</th>\n",
       "      <th class=\"col_heading level0 col11\" >molecule type</th>\n",
       "      <th class=\"col_heading level0 col12\" >entity index</th>\n",
       "      <th class=\"col_heading level0 col13\" >entity name</th>\n",
       "    </tr>\n",
       "  </thead>\n",
       "  <tbody>\n",
       "    <tr>\n",
       "      <td id=\"T_98a8a_row0_col0\" class=\"data row0 col0\" >3099</td>\n",
       "      <td id=\"T_98a8a_row0_col1\" class=\"data row0 col1\" >3100</td>\n",
       "      <td id=\"T_98a8a_row0_col2\" class=\"data row0 col2\" >CG2</td>\n",
       "      <td id=\"T_98a8a_row0_col3\" class=\"data row0 col3\" >C</td>\n",
       "      <td id=\"T_98a8a_row0_col4\" class=\"data row0 col4\" >388</td>\n",
       "      <td id=\"T_98a8a_row0_col5\" class=\"data row0 col5\" >63</td>\n",
       "      <td id=\"T_98a8a_row0_col6\" class=\"data row0 col6\" >THR</td>\n",
       "      <td id=\"T_98a8a_row0_col7\" class=\"data row0 col7\" >aminoacid</td>\n",
       "      <td id=\"T_98a8a_row0_col8\" class=\"data row0 col8\" >3</td>\n",
       "      <td id=\"T_98a8a_row0_col9\" class=\"data row0 col9\" >3</td>\n",
       "      <td id=\"T_98a8a_row0_col10\" class=\"data row0 col10\" >1</td>\n",
       "      <td id=\"T_98a8a_row0_col11\" class=\"data row0 col11\" >protein</td>\n",
       "      <td id=\"T_98a8a_row0_col12\" class=\"data row0 col12\" >1</td>\n",
       "      <td id=\"T_98a8a_row0_col13\" class=\"data row0 col13\" >BARSTAR</td>\n",
       "    </tr>\n",
       "    <tr>\n",
       "      <td id=\"T_98a8a_row1_col0\" class=\"data row1 col0\" >3100</td>\n",
       "      <td id=\"T_98a8a_row1_col1\" class=\"data row1 col1\" >3101</td>\n",
       "      <td id=\"T_98a8a_row1_col2\" class=\"data row1 col2\" >N</td>\n",
       "      <td id=\"T_98a8a_row1_col3\" class=\"data row1 col3\" >N</td>\n",
       "      <td id=\"T_98a8a_row1_col4\" class=\"data row1 col4\" >389</td>\n",
       "      <td id=\"T_98a8a_row1_col5\" class=\"data row1 col5\" >66</td>\n",
       "      <td id=\"T_98a8a_row1_col6\" class=\"data row1 col6\" >GLY</td>\n",
       "      <td id=\"T_98a8a_row1_col7\" class=\"data row1 col7\" >aminoacid</td>\n",
       "      <td id=\"T_98a8a_row1_col8\" class=\"data row1 col8\" >4</td>\n",
       "      <td id=\"T_98a8a_row1_col9\" class=\"data row1 col9\" >3</td>\n",
       "      <td id=\"T_98a8a_row1_col10\" class=\"data row1 col10\" >1</td>\n",
       "      <td id=\"T_98a8a_row1_col11\" class=\"data row1 col11\" >protein</td>\n",
       "      <td id=\"T_98a8a_row1_col12\" class=\"data row1 col12\" >1</td>\n",
       "      <td id=\"T_98a8a_row1_col13\" class=\"data row1 col13\" >BARSTAR</td>\n",
       "    </tr>\n",
       "  </tbody>\n",
       "</table>\n"
      ],
      "text/plain": [
       "<pandas.io.formats.style.Styler at 0x7f5b6e92d350>"
      ]
     },
     "execution_count": 12,
     "metadata": {},
     "output_type": "execute_result"
    }
   ],
   "source": [
    "msm.info(molecular_system, target='atom', selection='atom_index==[3099, 3100]')"
   ]
  },
  {
   "cell_type": "code",
   "execution_count": null,
   "id": "db74b40c-fd88-4bd6-a32d-e6a8393725af",
   "metadata": {},
   "outputs": [],
   "source": [
    "missing_atoms = msm.build.get_missing_heavy_atoms(molsys)"
   ]
  },
  {
   "cell_type": "code",
   "execution_count": null,
   "id": "18ecac9b-a55c-4a65-a272-8da356e5f1b2",
   "metadata": {},
   "outputs": [],
   "source": [
    "missing_atoms"
   ]
  },
  {
   "cell_type": "code",
   "execution_count": null,
   "id": "225c3b9d-7f12-43c8-ad4a-5c2b2af766d3",
   "metadata": {},
   "outputs": [],
   "source": [
    "missing_atoms.keys()"
   ]
  },
  {
   "cell_type": "code",
   "execution_count": null,
   "id": "19c54549-5999-4f7a-a28b-a3796c7a360e",
   "metadata": {},
   "outputs": [],
   "source": [
    "msm.info(molecular_system, target='group', indices=missing_atoms)"
   ]
  },
  {
   "cell_type": "code",
   "execution_count": null,
   "id": "0fb80b1d-0903-4d85-aa39-7f0e833a4460",
   "metadata": {},
   "outputs": [],
   "source": [
    "msm.get(molecular_system, target='component', n_groups=True, chain_name=True)"
   ]
  },
  {
   "cell_type": "code",
   "execution_count": null,
   "id": "df420ee8-386c-406d-a391-2dcc8982f86e",
   "metadata": {},
   "outputs": [],
   "source": [
    "molecular_system = msm.build.add_missing_heavy_atoms(molecular_system)"
   ]
  },
  {
   "cell_type": "code",
   "execution_count": null,
   "id": "21f1d028-b04d-45cf-9cdf-a36e27b4a1a5",
   "metadata": {},
   "outputs": [],
   "source": [
    "msm.get(molecular_system, target='component', n_groups=True, chain_name=True)"
   ]
  },
  {
   "cell_type": "code",
   "execution_count": null,
   "id": "e9d7d8d9-5ca8-4b7f-bcbf-4c9661e2eed6",
   "metadata": {},
   "outputs": [],
   "source": [
    "msm.info(molecular_system, target='component')"
   ]
  },
  {
   "cell_type": "code",
   "execution_count": null,
   "id": "bb47a3fa-9de0-4843-b3c2-63d149329369",
   "metadata": {},
   "outputs": [],
   "source": [
    "msm.info(molecular_system, target='atom', selection='component_index==4')"
   ]
  },
  {
   "cell_type": "code",
   "execution_count": null,
   "id": "b8d7c084-710b-481c-a3ef-a9085c4f53f9",
   "metadata": {},
   "outputs": [],
   "source": [
    "msm.info(molecular_system, target='atom', selection='component_index==5')"
   ]
  },
  {
   "cell_type": "code",
   "execution_count": null,
   "id": "c3bc2560-1b58-4af2-b620-adfbcf66aa68",
   "metadata": {},
   "outputs": [],
   "source": [
    "msm.view(molecular_system)"
   ]
  },
  {
   "cell_type": "code",
   "execution_count": null,
   "id": "227dfc02-e42a-4cfc-bece-f4f8bbc1dab4",
   "metadata": {},
   "outputs": [],
   "source": [
    "molecular_system_A_D = msm.extract(molecular_system, selection='chain_name==[\"A\",\"D\"]')\n",
    "molecular_system_B_E = msm.extract(molecular_system, selection='chain_name==[\"B\",\"E\"]')\n",
    "molecular_system_C_F = msm.extract(molecular_system, selection='chain_name==[\"C\",\"F\"]')"
   ]
  },
  {
   "cell_type": "code",
   "execution_count": null,
   "id": "6be906f1-a311-4a0a-b2a9-35efb556ad06",
   "metadata": {},
   "outputs": [],
   "source": [
    "molecular_system_B_E_over_A_D = msm.structure.align(molecular_system_B_E, reference_molecular_system=molecular_system_A_D)"
   ]
  },
  {
   "cell_type": "code",
   "execution_count": null,
   "id": "b46ee905-3723-4f26-8ef6-cdfeb994f2b5",
   "metadata": {},
   "outputs": [],
   "source": [
    "msm.view([molecular_system_A_D, molecular_system_B_E_over_A_D])"
   ]
  },
  {
   "cell_type": "code",
   "execution_count": null,
   "id": "f77e3a68-ce9e-4ee4-ab52-9953e4a75dc2",
   "metadata": {},
   "outputs": [],
   "source": [
    "aa, bb, cc = msm.topology.get_sequence_identity(molecular_system_C_F, selection='all', reference_molecular_system=molecular_system_A_D,\n",
    "                                  reference_selection='all')"
   ]
  },
  {
   "cell_type": "code",
   "execution_count": null,
   "id": "7d2cb8dc-2a7d-4756-84e2-e8facf263f5c",
   "metadata": {},
   "outputs": [],
   "source": [
    "len(bb)"
   ]
  },
  {
   "cell_type": "code",
   "execution_count": null,
   "id": "43ea6c77-75eb-46ba-a7d3-af5ab9d52e57",
   "metadata": {},
   "outputs": [],
   "source": [
    "len(cc)"
   ]
  },
  {
   "cell_type": "code",
   "execution_count": null,
   "id": "32f41973-d3c0-4daf-889a-5664f773bca8",
   "metadata": {},
   "outputs": [],
   "source": [
    "for res_bb, res_cc in zip(bb,cc):\n",
    "    back_bb = msm.select(molecular_system_C_F, selection='backbone and group_index==@res_bb')\n",
    "    back_cc = msm.select(molecular_system_A_D, selection='backbone and group_index==@res_cc')\n",
    "    if len(back_bb)!=len(back_cc):\n",
    "        print(msm.info(molecular_system_C_F, target='atom', indices=back_bb, output='long_string'))\n",
    "        print(msm.info(molecular_system_A_D, target='atom', indices=back_cc, output='long_string'))"
   ]
  },
  {
   "cell_type": "code",
   "execution_count": null,
   "id": "229410d9-bfe4-4261-b3df-ab0fddedb1ae",
   "metadata": {},
   "outputs": [],
   "source": [
    "molecular_system_C_F_over_A_D = msm.structure.align(molecular_system_C_F, reference_molecular_system=molecular_system_A_D)"
   ]
  },
  {
   "cell_type": "code",
   "execution_count": null,
   "id": "968c5aa4-b0b4-49f0-b1f4-69236fefbd99",
   "metadata": {},
   "outputs": [],
   "source": []
  }
 ],
 "metadata": {
  "kernelspec": {
   "display_name": "Python 3 (ipykernel)",
   "language": "python",
   "name": "python3"
  },
  "language_info": {
   "codemirror_mode": {
    "name": "ipython",
    "version": 3
   },
   "file_extension": ".py",
   "mimetype": "text/x-python",
   "name": "python",
   "nbconvert_exporter": "python",
   "pygments_lexer": "ipython3",
   "version": "3.7.12"
  }
 },
 "nbformat": 4,
 "nbformat_minor": 5
}
