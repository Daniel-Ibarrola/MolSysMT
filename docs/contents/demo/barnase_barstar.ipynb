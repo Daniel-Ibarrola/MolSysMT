{
 "cells": [
  {
   "cell_type": "code",
   "execution_count": 1,
   "id": "7884fe0a-9320-4a4e-b5b7-d7b14d5f5c22",
   "metadata": {},
   "outputs": [],
   "source": [
    "%load_ext autoreload\n",
    "%autoreload 2"
   ]
  },
  {
   "cell_type": "markdown",
   "id": "d89a220f-10b3-4525-9762-dd5b6a94b3d0",
   "metadata": {},
   "source": [
    "# Barnase-Barstar complex"
   ]
  },
  {
   "cell_type": "code",
   "execution_count": 2,
   "id": "1bb1e5a4-14f2-494c-8b76-31b77bd01bcc",
   "metadata": {},
   "outputs": [
    {
     "name": "stderr",
     "output_type": "stream",
     "text": [
      "Warning: importing 'simtk.openmm' is deprecated.  Import 'openmm' instead.\n"
     ]
    },
    {
     "data": {
      "application/vnd.jupyter.widget-view+json": {
       "model_id": "c1ec43d7c7e84fbb94c180c31649ce2a",
       "version_major": 2,
       "version_minor": 0
      },
      "text/plain": []
     },
     "metadata": {},
     "output_type": "display_data"
    }
   ],
   "source": [
    "import molsysmt as msm"
   ]
  },
  {
   "cell_type": "code",
   "execution_count": 12,
   "id": "18dbdc5d-ccdc-48fd-9137-4014e1482f26",
   "metadata": {},
   "outputs": [],
   "source": [
    "molecular_system = msm.convert('1brs.pdb', to_form='molsysmt.MolSys')"
   ]
  },
  {
   "cell_type": "code",
   "execution_count": 16,
   "id": "2adec172-334f-423e-b2f2-a5f928e3436a",
   "metadata": {},
   "outputs": [
    {
     "data": {
      "text/plain": [
       "5149"
      ]
     },
     "execution_count": 16,
     "metadata": {},
     "output_type": "execute_result"
    }
   ],
   "source": [
    "msm.get(molecular_system, n_atoms=True)"
   ]
  },
  {
   "cell_type": "code",
   "execution_count": null,
   "id": "d8a5d4a8-0199-4b89-9ba8-d28817abcdc3",
   "metadata": {},
   "outputs": [],
   "source": []
  },
  {
   "cell_type": "code",
   "execution_count": 14,
   "id": "4784e426-4cf5-4c7e-864c-adf3b52aee45",
   "metadata": {},
   "outputs": [
    {
     "data": {
      "text/html": [
       "<style type=\"text/css\">\n",
       "</style>\n",
       "<table id=\"T_c8c40_\">\n",
       "  <thead>\n",
       "    <tr>\n",
       "      <th class=\"col_heading level0 col0\" >index</th>\n",
       "      <th class=\"col_heading level0 col1\" >id</th>\n",
       "      <th class=\"col_heading level0 col2\" >name</th>\n",
       "      <th class=\"col_heading level0 col3\" >type</th>\n",
       "      <th class=\"col_heading level0 col4\" >group index</th>\n",
       "      <th class=\"col_heading level0 col5\" >group id</th>\n",
       "      <th class=\"col_heading level0 col6\" >group name</th>\n",
       "      <th class=\"col_heading level0 col7\" >group type</th>\n",
       "      <th class=\"col_heading level0 col8\" >component index</th>\n",
       "      <th class=\"col_heading level0 col9\" >chain index</th>\n",
       "      <th class=\"col_heading level0 col10\" >molecule index</th>\n",
       "      <th class=\"col_heading level0 col11\" >molecule type</th>\n",
       "      <th class=\"col_heading level0 col12\" >entity index</th>\n",
       "      <th class=\"col_heading level0 col13\" >entity name</th>\n",
       "    </tr>\n",
       "  </thead>\n",
       "  <tbody>\n",
       "    <tr>\n",
       "      <td id=\"T_c8c40_row0_col0\" class=\"data row0 col0\" >2690</td>\n",
       "      <td id=\"T_c8c40_row0_col1\" class=\"data row0 col1\" >2698</td>\n",
       "      <td id=\"T_c8c40_row0_col2\" class=\"data row0 col2\" >CB</td>\n",
       "      <td id=\"T_c8c40_row0_col3\" class=\"data row0 col3\" >C</td>\n",
       "      <td id=\"T_c8c40_row0_col4\" class=\"data row0 col4\" >340</td>\n",
       "      <td id=\"T_c8c40_row0_col5\" class=\"data row0 col5\" >15</td>\n",
       "      <td id=\"T_c8c40_row0_col6\" class=\"data row0 col6\" >ASP</td>\n",
       "      <td id=\"T_c8c40_row0_col7\" class=\"data row0 col7\" >aminoacid</td>\n",
       "      <td id=\"T_c8c40_row0_col8\" class=\"data row0 col8\" >3</td>\n",
       "      <td id=\"T_c8c40_row0_col9\" class=\"data row0 col9\" >3</td>\n",
       "      <td id=\"T_c8c40_row0_col10\" class=\"data row0 col10\" >3</td>\n",
       "      <td id=\"T_c8c40_row0_col11\" class=\"data row0 col11\" >protein</td>\n",
       "      <td id=\"T_c8c40_row0_col12\" class=\"data row0 col12\" >3</td>\n",
       "      <td id=\"T_c8c40_row0_col13\" class=\"data row0 col13\" >Protein_3</td>\n",
       "    </tr>\n",
       "  </tbody>\n",
       "</table>\n"
      ],
      "text/plain": [
       "<pandas.io.formats.style.Styler at 0x7fb3d2799c50>"
      ]
     },
     "execution_count": 14,
     "metadata": {},
     "output_type": "execute_result"
    }
   ],
   "source": [
    "msm.info(molecular_system2, target='atom', indices=[2690])"
   ]
  },
  {
   "cell_type": "code",
   "execution_count": 15,
   "id": "b7b77c78-ddc2-4bad-abab-fa9ad2d2c781",
   "metadata": {},
   "outputs": [
    {
     "ename": "NotImplementedError",
     "evalue": "It has not been implemeted yet. Write a new issue in https://github.com/uibcdf/MolSysMT/issues asking for it.",
     "output_type": "error",
     "traceback": [
      "\u001b[0;31m---------------------------------------------------------------------------\u001b[0m",
      "\u001b[0;31mKeyError\u001b[0m                                  Traceback (most recent call last)",
      "\u001b[0;32m~/projects/molsysmt/molsysmt/basic/get_form.py\u001b[0m in \u001b[0;36mget_form\u001b[0;34m(molecular_system)\u001b[0m\n\u001b[1;32m     56\u001b[0m     \u001b[0;32mtry\u001b[0m\u001b[0;34m:\u001b[0m\u001b[0;34m\u001b[0m\u001b[0;34m\u001b[0m\u001b[0m\n\u001b[0;32m---> 57\u001b[0;31m         \u001b[0;32mreturn\u001b[0m \u001b[0mdict_is_form\u001b[0m\u001b[0;34m[\u001b[0m\u001b[0mtype\u001b[0m\u001b[0;34m(\u001b[0m\u001b[0mmolecular_system\u001b[0m\u001b[0;34m)\u001b[0m\u001b[0;34m]\u001b[0m\u001b[0;34m\u001b[0m\u001b[0;34m\u001b[0m\u001b[0m\n\u001b[0m\u001b[1;32m     58\u001b[0m     \u001b[0;32mexcept\u001b[0m\u001b[0;34m:\u001b[0m\u001b[0;34m\u001b[0m\u001b[0;34m\u001b[0m\u001b[0m\n",
      "\u001b[0;31mKeyError\u001b[0m: <class 'molsysmt.native.molecular_system.MolecularSystem'>",
      "\nDuring handling of the above exception, another exception occurred:\n",
      "\u001b[0;31mKeyError\u001b[0m                                  Traceback (most recent call last)",
      "\u001b[0;32m~/projects/molsysmt/molsysmt/basic/get_form.py\u001b[0m in \u001b[0;36mget_form\u001b[0;34m(molecular_system)\u001b[0m\n\u001b[1;32m     59\u001b[0m         \u001b[0;32mtry\u001b[0m\u001b[0;34m:\u001b[0m\u001b[0;34m\u001b[0m\u001b[0;34m\u001b[0m\u001b[0m\n\u001b[0;32m---> 60\u001b[0;31m             \u001b[0;32mreturn\u001b[0m \u001b[0mdict_is_form\u001b[0m\u001b[0;34m[\u001b[0m\u001b[0mmolecular_system\u001b[0m\u001b[0;34m]\u001b[0m\u001b[0;34m\u001b[0m\u001b[0;34m\u001b[0m\u001b[0m\n\u001b[0m\u001b[1;32m     61\u001b[0m         \u001b[0;32mexcept\u001b[0m\u001b[0;34m:\u001b[0m\u001b[0;34m\u001b[0m\u001b[0;34m\u001b[0m\u001b[0m\n",
      "\u001b[0;31mKeyError\u001b[0m: <molsysmt.native.molecular_system.MolecularSystem object at 0x7fb42d1060d0>",
      "\nDuring handling of the above exception, another exception occurred:\n",
      "\u001b[0;31mNotImplementedError\u001b[0m                       Traceback (most recent call last)",
      "\u001b[0;32m/tmp/ipykernel_832942/3837259311.py\u001b[0m in \u001b[0;36m<module>\u001b[0;34m\u001b[0m\n\u001b[0;32m----> 1\u001b[0;31m \u001b[0mmolecular_system\u001b[0m \u001b[0;34m=\u001b[0m \u001b[0mmsm\u001b[0m\u001b[0;34m.\u001b[0m\u001b[0mbuild\u001b[0m\u001b[0;34m.\u001b[0m\u001b[0mremove_hydrogens\u001b[0m\u001b[0;34m(\u001b[0m\u001b[0mmolecular_system\u001b[0m\u001b[0;34m)\u001b[0m\u001b[0;34m\u001b[0m\u001b[0;34m\u001b[0m\u001b[0m\n\u001b[0m\u001b[1;32m      2\u001b[0m \u001b[0mmolecular_system\u001b[0m \u001b[0;34m=\u001b[0m \u001b[0mmsm\u001b[0m\u001b[0;34m.\u001b[0m\u001b[0mbuild\u001b[0m\u001b[0;34m.\u001b[0m\u001b[0mremove_solvent\u001b[0m\u001b[0;34m(\u001b[0m\u001b[0mmolecular_system\u001b[0m\u001b[0;34m)\u001b[0m\u001b[0;34m\u001b[0m\u001b[0;34m\u001b[0m\u001b[0m\n",
      "\u001b[0;32m~/projects/molsysmt/molsysmt/build/remove_hydrogens.py\u001b[0m in \u001b[0;36mremove_hydrogens\u001b[0;34m(molecular_system, selection, include_selection, exclude_selection, syntaxis)\u001b[0m\n\u001b[1;32m     27\u001b[0m         \u001b[0matom_indices_to_be_removed\u001b[0m \u001b[0;34m=\u001b[0m \u001b[0mlist\u001b[0m\u001b[0;34m(\u001b[0m\u001b[0;34m(\u001b[0m\u001b[0mset\u001b[0m\u001b[0;34m(\u001b[0m\u001b[0matom_indices_to_be_removed\u001b[0m\u001b[0;34m)\u001b[0m \u001b[0;34m-\u001b[0m \u001b[0mset\u001b[0m\u001b[0;34m(\u001b[0m\u001b[0matom_indices_excluded\u001b[0m\u001b[0;34m)\u001b[0m\u001b[0;34m)\u001b[0m\u001b[0;34m)\u001b[0m\u001b[0;34m\u001b[0m\u001b[0;34m\u001b[0m\u001b[0m\n\u001b[1;32m     28\u001b[0m \u001b[0;34m\u001b[0m\u001b[0m\n\u001b[0;32m---> 29\u001b[0;31m     \u001b[0;32mreturn\u001b[0m \u001b[0mremove\u001b[0m\u001b[0;34m(\u001b[0m\u001b[0mmolecular_system\u001b[0m\u001b[0;34m,\u001b[0m \u001b[0matom_indices_to_be_removed\u001b[0m\u001b[0;34m)\u001b[0m\u001b[0;34m\u001b[0m\u001b[0;34m\u001b[0m\u001b[0m\n\u001b[0m\u001b[1;32m     30\u001b[0m \u001b[0;34m\u001b[0m\u001b[0m\n",
      "\u001b[0;32m~/projects/molsysmt/molsysmt/basic/remove.py\u001b[0m in \u001b[0;36mremove\u001b[0;34m(molecular_system, selection, frame_indices, to_form, syntaxis)\u001b[0m\n\u001b[1;32m     76\u001b[0m         \u001b[0mframe_indices_to_be_kept\u001b[0m \u001b[0;34m=\u001b[0m \u001b[0mcomplementary_frame_indices\u001b[0m\u001b[0;34m(\u001b[0m\u001b[0mmolecular_system\u001b[0m\u001b[0;34m,\u001b[0m \u001b[0mframe_indices\u001b[0m\u001b[0;34m)\u001b[0m\u001b[0;34m\u001b[0m\u001b[0;34m\u001b[0m\u001b[0m\n\u001b[1;32m     77\u001b[0m \u001b[0;34m\u001b[0m\u001b[0m\n\u001b[0;32m---> 78\u001b[0;31m     \u001b[0mtmp_item\u001b[0m \u001b[0;34m=\u001b[0m \u001b[0mextract\u001b[0m\u001b[0;34m(\u001b[0m\u001b[0mmolecular_system\u001b[0m\u001b[0;34m,\u001b[0m \u001b[0mselection\u001b[0m\u001b[0;34m=\u001b[0m\u001b[0matom_indices_to_be_kept\u001b[0m\u001b[0;34m,\u001b[0m \u001b[0mframe_indices\u001b[0m\u001b[0;34m=\u001b[0m\u001b[0mframe_indices_to_be_kept\u001b[0m\u001b[0;34m,\u001b[0m \u001b[0mto_form\u001b[0m\u001b[0;34m=\u001b[0m\u001b[0mto_form\u001b[0m\u001b[0;34m)\u001b[0m\u001b[0;34m\u001b[0m\u001b[0;34m\u001b[0m\u001b[0m\n\u001b[0m\u001b[1;32m     79\u001b[0m     \u001b[0mtmp_item\u001b[0m \u001b[0;34m=\u001b[0m \u001b[0mdigest_output\u001b[0m\u001b[0;34m(\u001b[0m\u001b[0mtmp_item\u001b[0m\u001b[0;34m)\u001b[0m\u001b[0;34m\u001b[0m\u001b[0;34m\u001b[0m\u001b[0m\n\u001b[1;32m     80\u001b[0m \u001b[0;34m\u001b[0m\u001b[0m\n",
      "\u001b[0;32m~/projects/molsysmt/molsysmt/basic/extract.py\u001b[0m in \u001b[0;36mextract\u001b[0;34m(molecular_system, selection, frame_indices, to_form, syntaxis)\u001b[0m\n\u001b[1;32m     44\u001b[0m     \u001b[0;32mfrom\u001b[0m \u001b[0mmolsysmt\u001b[0m\u001b[0;34m.\u001b[0m\u001b[0mbasic\u001b[0m \u001b[0;32mimport\u001b[0m \u001b[0mconvert\u001b[0m\u001b[0;34m\u001b[0m\u001b[0;34m\u001b[0m\u001b[0m\n\u001b[1;32m     45\u001b[0m \u001b[0;34m\u001b[0m\u001b[0m\n\u001b[0;32m---> 46\u001b[0;31m     \u001b[0;32mreturn\u001b[0m \u001b[0mconvert\u001b[0m\u001b[0;34m(\u001b[0m\u001b[0mmolecular_system\u001b[0m\u001b[0;34m,\u001b[0m \u001b[0mselection\u001b[0m\u001b[0;34m=\u001b[0m\u001b[0mselection\u001b[0m\u001b[0;34m,\u001b[0m \u001b[0mframe_indices\u001b[0m\u001b[0;34m=\u001b[0m\u001b[0mframe_indices\u001b[0m\u001b[0;34m,\u001b[0m \u001b[0mto_form\u001b[0m\u001b[0;34m=\u001b[0m\u001b[0mto_form\u001b[0m\u001b[0;34m,\u001b[0m \u001b[0msyntaxis\u001b[0m\u001b[0;34m=\u001b[0m\u001b[0msyntaxis\u001b[0m\u001b[0;34m)\u001b[0m\u001b[0;34m\u001b[0m\u001b[0;34m\u001b[0m\u001b[0m\n\u001b[0m\u001b[1;32m     47\u001b[0m \u001b[0;34m\u001b[0m\u001b[0m\n",
      "\u001b[0;32m~/projects/molsysmt/molsysmt/basic/convert.py\u001b[0m in \u001b[0;36mconvert\u001b[0;34m(molecular_system, to_form, selection, frame_indices, syntaxis, **kwargs)\u001b[0m\n\u001b[1;32m     57\u001b[0m \u001b[0;34m\u001b[0m\u001b[0m\n\u001b[1;32m     58\u001b[0m     \u001b[0;32mif\u001b[0m \u001b[0mto_form\u001b[0m \u001b[0;32mis\u001b[0m \u001b[0;32mNone\u001b[0m\u001b[0;34m:\u001b[0m\u001b[0;34m\u001b[0m\u001b[0;34m\u001b[0m\u001b[0m\n\u001b[0;32m---> 59\u001b[0;31m         \u001b[0mto_form\u001b[0m \u001b[0;34m=\u001b[0m \u001b[0mget_form\u001b[0m\u001b[0;34m(\u001b[0m\u001b[0mmolecular_system\u001b[0m\u001b[0;34m)\u001b[0m\u001b[0;34m\u001b[0m\u001b[0;34m\u001b[0m\u001b[0m\n\u001b[0m\u001b[1;32m     60\u001b[0m \u001b[0;34m\u001b[0m\u001b[0m\n\u001b[1;32m     61\u001b[0m     \u001b[0mmolecular_system\u001b[0m \u001b[0;34m=\u001b[0m \u001b[0mdigest_molecular_system\u001b[0m\u001b[0;34m(\u001b[0m\u001b[0mmolecular_system\u001b[0m\u001b[0;34m)\u001b[0m\u001b[0;34m\u001b[0m\u001b[0;34m\u001b[0m\u001b[0m\n",
      "\u001b[0;32m~/projects/molsysmt/molsysmt/basic/get_form.py\u001b[0m in \u001b[0;36mget_form\u001b[0;34m(molecular_system)\u001b[0m\n\u001b[1;32m     60\u001b[0m             \u001b[0;32mreturn\u001b[0m \u001b[0mdict_is_form\u001b[0m\u001b[0;34m[\u001b[0m\u001b[0mmolecular_system\u001b[0m\u001b[0;34m]\u001b[0m\u001b[0;34m\u001b[0m\u001b[0;34m\u001b[0m\u001b[0m\n\u001b[1;32m     61\u001b[0m         \u001b[0;32mexcept\u001b[0m\u001b[0;34m:\u001b[0m\u001b[0;34m\u001b[0m\u001b[0;34m\u001b[0m\u001b[0m\n\u001b[0;32m---> 62\u001b[0;31m             \u001b[0;32mraise\u001b[0m \u001b[0mNotImplementedError\u001b[0m\u001b[0;34m(\u001b[0m\u001b[0;34m)\u001b[0m\u001b[0;34m\u001b[0m\u001b[0;34m\u001b[0m\u001b[0m\n\u001b[0m\u001b[1;32m     63\u001b[0m \u001b[0;34m\u001b[0m\u001b[0m\n",
      "\u001b[0;31mNotImplementedError\u001b[0m: It has not been implemeted yet. Write a new issue in https://github.com/uibcdf/MolSysMT/issues asking for it."
     ]
    }
   ],
   "source": [
    "molecular_system = msm.build.remove_hydrogens(molecular_system)\n",
    "molecular_system = msm.build.remove_solvent(molecular_system)"
   ]
  },
  {
   "cell_type": "code",
   "execution_count": null,
   "id": "a673c164-1a44-4c87-8514-046d6ad3ca84",
   "metadata": {},
   "outputs": [],
   "source": [
    "msm.info(molecular_system, target='chain')"
   ]
  },
  {
   "cell_type": "code",
   "execution_count": null,
   "id": "db74b40c-fd88-4bd6-a32d-e6a8393725af",
   "metadata": {},
   "outputs": [],
   "source": [
    "msm.build.get_missing_heavy_atoms(molecular_system)"
   ]
  },
  {
   "cell_type": "code",
   "execution_count": null,
   "id": "0fb80b1d-0903-4d85-aa39-7f0e833a4460",
   "metadata": {},
   "outputs": [],
   "source": [
    "msm.get(molecular_system, target='component', n_groups=True, chain_name=True)"
   ]
  },
  {
   "cell_type": "code",
   "execution_count": null,
   "id": "df420ee8-386c-406d-a391-2dcc8982f86e",
   "metadata": {},
   "outputs": [],
   "source": [
    "molecular_system = msm.build.add_missing_heavy_atoms(molecular_system)"
   ]
  },
  {
   "cell_type": "code",
   "execution_count": null,
   "id": "21f1d028-b04d-45cf-9cdf-a36e27b4a1a5",
   "metadata": {},
   "outputs": [],
   "source": [
    "msm.get(molecular_system, target='component', n_groups=True, chain_name=True)"
   ]
  },
  {
   "cell_type": "code",
   "execution_count": null,
   "id": "e9d7d8d9-5ca8-4b7f-bcbf-4c9661e2eed6",
   "metadata": {},
   "outputs": [],
   "source": [
    "msm.info(molecular_system, target='component')"
   ]
  },
  {
   "cell_type": "code",
   "execution_count": null,
   "id": "bb47a3fa-9de0-4843-b3c2-63d149329369",
   "metadata": {},
   "outputs": [],
   "source": [
    "msm.info(molecular_system, target='atom', selection='component_index==4')"
   ]
  },
  {
   "cell_type": "code",
   "execution_count": null,
   "id": "b8d7c084-710b-481c-a3ef-a9085c4f53f9",
   "metadata": {},
   "outputs": [],
   "source": [
    "msm.info(molecular_system, target='atom', selection='component_index==5')"
   ]
  },
  {
   "cell_type": "code",
   "execution_count": null,
   "id": "c3bc2560-1b58-4af2-b620-adfbcf66aa68",
   "metadata": {},
   "outputs": [],
   "source": [
    "msm.view(molecular_system)"
   ]
  },
  {
   "cell_type": "code",
   "execution_count": null,
   "id": "227dfc02-e42a-4cfc-bece-f4f8bbc1dab4",
   "metadata": {},
   "outputs": [],
   "source": [
    "molecular_system_A_D = msm.extract(molecular_system, selection='chain_name==[\"A\",\"D\"]')\n",
    "molecular_system_B_E = msm.extract(molecular_system, selection='chain_name==[\"B\",\"E\"]')\n",
    "molecular_system_C_F = msm.extract(molecular_system, selection='chain_name==[\"C\",\"F\"]')"
   ]
  },
  {
   "cell_type": "code",
   "execution_count": null,
   "id": "6be906f1-a311-4a0a-b2a9-35efb556ad06",
   "metadata": {},
   "outputs": [],
   "source": [
    "molecular_system_B_E_over_A_D = msm.structure.align(molecular_system_B_E, reference_molecular_system=molecular_system_A_D)"
   ]
  },
  {
   "cell_type": "code",
   "execution_count": null,
   "id": "b46ee905-3723-4f26-8ef6-cdfeb994f2b5",
   "metadata": {},
   "outputs": [],
   "source": [
    "msm.view([molecular_system_A_D, molecular_system_B_E_over_A_D])"
   ]
  },
  {
   "cell_type": "code",
   "execution_count": null,
   "id": "f77e3a68-ce9e-4ee4-ab52-9953e4a75dc2",
   "metadata": {},
   "outputs": [],
   "source": [
    "aa, bb, cc = msm.topology.get_sequence_identity(molecular_system_C_F, selection='all', reference_molecular_system=molecular_system_A_D,\n",
    "                                  reference_selection='all')"
   ]
  },
  {
   "cell_type": "code",
   "execution_count": null,
   "id": "7d2cb8dc-2a7d-4756-84e2-e8facf263f5c",
   "metadata": {},
   "outputs": [],
   "source": [
    "len(bb)"
   ]
  },
  {
   "cell_type": "code",
   "execution_count": null,
   "id": "43ea6c77-75eb-46ba-a7d3-af5ab9d52e57",
   "metadata": {},
   "outputs": [],
   "source": [
    "len(cc)"
   ]
  },
  {
   "cell_type": "code",
   "execution_count": null,
   "id": "32f41973-d3c0-4daf-889a-5664f773bca8",
   "metadata": {},
   "outputs": [],
   "source": [
    "for res_bb, res_cc in zip(bb,cc):\n",
    "    back_bb = msm.select(molecular_system_C_F, selection='backbone and group_index==@res_bb')\n",
    "    back_cc = msm.select(molecular_system_A_D, selection='backbone and group_index==@res_cc')\n",
    "    if len(back_bb)!=len(back_cc):\n",
    "        print(msm.info(molecular_system_C_F, target='atom', indices=back_bb, output='long_string'))\n",
    "        print(msm.info(molecular_system_A_D, target='atom', indices=back_cc, output='long_string'))"
   ]
  },
  {
   "cell_type": "code",
   "execution_count": null,
   "id": "229410d9-bfe4-4261-b3df-ab0fddedb1ae",
   "metadata": {},
   "outputs": [],
   "source": [
    "molecular_system_C_F_over_A_D = msm.structure.align(molecular_system_C_F, reference_molecular_system=molecular_system_A_D)"
   ]
  },
  {
   "cell_type": "code",
   "execution_count": null,
   "id": "968c5aa4-b0b4-49f0-b1f4-69236fefbd99",
   "metadata": {},
   "outputs": [],
   "source": []
  }
 ],
 "metadata": {
  "kernelspec": {
   "display_name": "Python 3 (ipykernel)",
   "language": "python",
   "name": "python3"
  },
  "language_info": {
   "codemirror_mode": {
    "name": "ipython",
    "version": 3
   },
   "file_extension": ".py",
   "mimetype": "text/x-python",
   "name": "python",
   "nbconvert_exporter": "python",
   "pygments_lexer": "ipython3",
   "version": "3.7.10"
  }
 },
 "nbformat": 4,
 "nbformat_minor": 5
}
