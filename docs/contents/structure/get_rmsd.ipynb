{
 "cells": [
  {
   "cell_type": "code",
   "execution_count": 1,
   "metadata": {},
   "outputs": [],
   "source": [
    "%load_ext autoreload\n",
    "%autoreload 2"
   ]
  },
  {
   "cell_type": "code",
   "execution_count": 2,
   "metadata": {},
   "outputs": [
    {
     "name": "stderr",
     "output_type": "stream",
     "text": [
      "Warning: importing 'simtk.openmm' is deprecated.  Import 'openmm' instead.\n"
     ]
    },
    {
     "data": {
      "application/vnd.jupyter.widget-view+json": {
       "model_id": "1446457c449a4311a89b204254262f81",
       "version_major": 2,
       "version_minor": 0
      },
      "text/plain": []
     },
     "metadata": {},
     "output_type": "display_data"
    }
   ],
   "source": [
    "import molsysmt as msm\n",
    "import numpy as np\n",
    "import matplotlib.pyplot as plt"
   ]
  },
  {
   "cell_type": "markdown",
   "metadata": {},
   "source": [
    "# RMSD\n",
    "\n",
    "Lets load a small molecular system with a 5000 frames trajectory to show how MolSysMT gets the RMSD."
   ]
  },
  {
   "cell_type": "code",
   "execution_count": 3,
   "metadata": {},
   "outputs": [
    {
     "name": "stderr",
     "output_type": "stream",
     "text": [
      "/home/diego/MyMachine/locals/miniconda/envs/MolSysMT/lib/python3.7/site-packages/tables/leaf.py:544: VisibleDeprecationWarning: Creating an ndarray from ragged nested sequences (which is a list-or-tuple of lists-or-tuples-or ndarrays with different lengths or shapes) is deprecated. If you meant to do this, you must specify 'dtype=object' when creating the ndarray.\n",
      "  key = numpy.array(key)\n"
     ]
    }
   ],
   "source": [
    "h5_file = msm.demo.files['pentalanine.h5']\n",
    "molecular_system = msm.convert(h5_file)"
   ]
  },
  {
   "cell_type": "code",
   "execution_count": 4,
   "metadata": {},
   "outputs": [
    {
     "data": {
      "text/html": [
       "<style type=\"text/css\">\n",
       "</style>\n",
       "<table id=\"T_d29bb_\">\n",
       "  <thead>\n",
       "    <tr>\n",
       "      <th class=\"col_heading level0 col0\" >form</th>\n",
       "      <th class=\"col_heading level0 col1\" >n_atoms</th>\n",
       "      <th class=\"col_heading level0 col2\" >n_groups</th>\n",
       "      <th class=\"col_heading level0 col3\" >n_components</th>\n",
       "      <th class=\"col_heading level0 col4\" >n_chains</th>\n",
       "      <th class=\"col_heading level0 col5\" >n_molecules</th>\n",
       "      <th class=\"col_heading level0 col6\" >n_entities</th>\n",
       "      <th class=\"col_heading level0 col7\" >n_peptides</th>\n",
       "      <th class=\"col_heading level0 col8\" >n_frames</th>\n",
       "    </tr>\n",
       "  </thead>\n",
       "  <tbody>\n",
       "    <tr>\n",
       "      <td id=\"T_d29bb_row0_col0\" class=\"data row0 col0\" >molsysmt.MolSys</td>\n",
       "      <td id=\"T_d29bb_row0_col1\" class=\"data row0 col1\" >62</td>\n",
       "      <td id=\"T_d29bb_row0_col2\" class=\"data row0 col2\" >7</td>\n",
       "      <td id=\"T_d29bb_row0_col3\" class=\"data row0 col3\" >1</td>\n",
       "      <td id=\"T_d29bb_row0_col4\" class=\"data row0 col4\" >1</td>\n",
       "      <td id=\"T_d29bb_row0_col5\" class=\"data row0 col5\" >1</td>\n",
       "      <td id=\"T_d29bb_row0_col6\" class=\"data row0 col6\" >1</td>\n",
       "      <td id=\"T_d29bb_row0_col7\" class=\"data row0 col7\" >1</td>\n",
       "      <td id=\"T_d29bb_row0_col8\" class=\"data row0 col8\" >5000</td>\n",
       "    </tr>\n",
       "  </tbody>\n",
       "</table>\n"
      ],
      "text/plain": [
       "<pandas.io.formats.style.Styler at 0x7f4076e79310>"
      ]
     },
     "execution_count": 4,
     "metadata": {},
     "output_type": "execute_result"
    }
   ],
   "source": [
    "msm.info(molecular_system)"
   ]
  },
  {
   "cell_type": "code",
   "execution_count": 5,
   "metadata": {},
   "outputs": [],
   "source": [
    "time = msm.get(molecular_system, target='system', time=True)"
   ]
  },
  {
   "cell_type": "markdown",
   "metadata": {},
   "source": [
    "The root mean squared deviation of a set of atom coordinates $\\vec{R}:(\\vec{r_{1}}, \\vec{r_{2}}, ..., \\vec{r_{n}})$, with respect to a reference set of atom coordinates $\\vec{R'}:(\\vec{r'_{1}}, \\vec{r'_{2}}, ..., \\vec{r'_{n}})$, is defined as:\n",
    "\n",
    "\\begin{equation}\n",
    "\\text{RMSD} (\\vec{R'},\\vec{R}) = \\sqrt{ \\frac{1}{n} \\sum_{i=1}^{n} \\Vert \\vec{r'_{i}} - \\vec{r_{i}} \\Vert ^{2}}\n",
    "\\end{equation}\n",
    "\n",
    "\\begin{equation}\n",
    "\\text{RMSD} (\\vec{R'},\\vec{R}) = \n",
    "\\sqrt{ \\frac{1}{n} \\sum_{i=1}^{n} [(x'-x)^2 + (z'-z)^2 + (z'-z)^2]}\n",
    "\\end{equation}\n",
    "\n",
    "These two sets of atom coordinates, with the same number of atoms, could belong to structures of two different molecular systems or could also be structures of the same system. Let see the case where the RMSD is calculated only with the backbone atoms of the structure of our molecular system at frame 100-th taking the frame 0-th as reference:"
   ]
  },
  {
   "cell_type": "code",
   "execution_count": 9,
   "metadata": {},
   "outputs": [],
   "source": [
    "rmsd = msm.structure.get_rmsd(molecular_system, selection='backbone',\n",
    "                              frame_indices=100, reference_frame_index=0)"
   ]
  },
  {
   "cell_type": "markdown",
   "metadata": {},
   "source": [
    "There object returned is a numpy array with a single RMSD value:"
   ]
  },
  {
   "cell_type": "code",
   "execution_count": 10,
   "metadata": {},
   "outputs": [
    {
     "name": "stdout",
     "output_type": "stream",
     "text": [
      "[0.7381704258064243] nanometer\n"
     ]
    }
   ],
   "source": [
    "print(rmsd)"
   ]
  },
  {
   "cell_type": "markdown",
   "metadata": {},
   "source": [
    "Lets get now the RMSD of every single frame in the trajectory with the same structure as reference, the one found in frame 0-th:"
   ]
  },
  {
   "cell_type": "code",
   "execution_count": null,
   "metadata": {},
   "outputs": [],
   "source": [
    "rmsd = msm.rmsd(molecular_system, selection='backbone', frame_indices='all', reference_frame_index=0)"
   ]
  },
  {
   "cell_type": "code",
   "execution_count": null,
   "metadata": {},
   "outputs": [],
   "source": [
    "plt.plot(time, rmsd, label='RMSD')\n",
    "plt.xlabel('time [{}]'.format(puw.get_unit(time)))\n",
    "plt.ylabel('RMSD [{}]'.format(puw.get_unit(rmsd)))\n",
    "plt.title('RMSD with backbone atoms with respect frame 0-th')\n",
    "plt.legend()\n",
    "plt.show()"
   ]
  },
  {
   "cell_type": "markdown",
   "metadata": {},
   "source": [
    "In case of having two different molecular systems, `molsysmt.rmsd()` accepts all necessary input arguments to specify the set of atom coordinates to obtain the rmsd, for a single frame or a set of them: `item`, `selection` and `frame_indices` for the subject molecular system; and `reference_item`, `reference_selection`, and `reference_frame_index` for the reference molecular system."
   ]
  },
  {
   "cell_type": "markdown",
   "metadata": {},
   "source": [
    "Lets, for instance, create two different molecular systems (same topology in this case) to illustrate how these input arguments work:"
   ]
  },
  {
   "cell_type": "code",
   "execution_count": null,
   "metadata": {},
   "outputs": [],
   "source": [
    "molecular_system_1 = msm.extract(molecular_system, frame_indices=range(0,100))\n",
    "molecular_system_2 = msm.extract(molecular_system, frame_indices=range(200,300))"
   ]
  },
  {
   "cell_type": "code",
   "execution_count": null,
   "metadata": {},
   "outputs": [],
   "source": [
    "rmsd = msm.rmsd(molecular_system_1, selection='backbone', frame_indices=80, \n",
    "                reference_molecular_system=molecular_system_2, reference_selection='backbone',\n",
    "                reference_frame_index=20)"
   ]
  },
  {
   "cell_type": "markdown",
   "metadata": {},
   "source": [
    "And we got the rmsd between to structures coming from two different frames from two molecular systems:"
   ]
  },
  {
   "cell_type": "code",
   "execution_count": null,
   "metadata": {},
   "outputs": [],
   "source": [
    "print(rmsd)"
   ]
  },
  {
   "cell_type": "markdown",
   "metadata": {},
   "source": [
    "## Least RMSD\n",
    "\n",
    "The RMSD value is not an observable that depends only on the internal geometry of a molecular system. A molecular system can have a frozen geometry but suffering translations or rotations relative to the reference the RMSD varies. Given this frozen geometry and the reference there exist a unique translation and rotation that, combined, minimizes the RMSD. If we want to use the RMSD as a metric to characterize how far two peptide or protein conformations are, the translation and rotation that makes the rmsd minimal needs to be found. Thereby, MolSysMT implements the algorithm proposed by Coutsias, Evangelos A., Chaok Seok, and Ken A. Dill in their work \"Using quaternions to calculate RMSD\" [[1](#Coutsias2004)] to obtained the least RMSD. The algorithm is implemented behind the method `molsysmt.least_rmsd()` with the same input arguments as `molsysmt.rmsd()`. Let's see the comparison of both methods when the observables are obtained for every frame of a trajectory with respect to the same reference:"
   ]
  },
  {
   "cell_type": "code",
   "execution_count": null,
   "metadata": {},
   "outputs": [],
   "source": [
    "lrmsd = msm.least_rmsd(molecular_system, selection='backbone', frame_indices='all', reference_frame_index=0)\n",
    "rmsd = msm.rmsd(molecular_system, selection='backbone', frame_indices='all', reference_frame_index=0)"
   ]
  },
  {
   "cell_type": "code",
   "execution_count": null,
   "metadata": {},
   "outputs": [],
   "source": [
    "plt.plot(time, rmsd, color='lightblue', label='RMSD')\n",
    "plt.plot(time, lrmsd, color='blue', label='LRMSD')\n",
    "plt.xlabel('time [{}]'.format(puw.get_unit(time)))\n",
    "plt.ylabel('RMSD [{}]'.format(puw.get_unit(rmsd)))\n",
    "plt.title('RMSD with backbone atoms with respect frame 0-th')\n",
    "plt.legend()\n",
    "plt.show()"
   ]
  },
  {
   "cell_type": "markdown",
   "metadata": {},
   "source": [
    "## Least RMSD fit\n",
    "\n",
    "The same method to compute the least RMSD [[1](#Coutsias2004)] implemented in `molsysmt.rmsd()` provides with the translational and rotational operators that makes the RMSD minimal. This two operators, applied to the original structure, results with the best fitted structure over the reference one. MolSysMT includes a specific function to execute this least RMSD fitting: `molsysmt.least_rmsd_fit()`. All input arguments of `molsysmt.rmsd()` can be used with `molsysmt.least_rmsd_fit()`. Lets see a couple of examples:"
   ]
  },
  {
   "cell_type": "code",
   "execution_count": null,
   "metadata": {},
   "outputs": [],
   "source": [
    "fitted_molecular_system = msm.least_rmsd_fit(molecular_system, selection='backbone', frame_indices='all',\n",
    "                                             reference_frame_index=0, to_form='molsysmt.MolSys')"
   ]
  },
  {
   "cell_type": "markdown",
   "metadata": {},
   "source": [
    "Take heed to the input argument `to_form`, the above cell results with a new molecular system with the form specified by the former argument. Lets check the RMSD of the new frames over the frame 0-th. We can compare it with the result of `molsysmt.least_rmsd()`:"
   ]
  },
  {
   "cell_type": "code",
   "execution_count": null,
   "metadata": {},
   "outputs": [],
   "source": [
    "fitted_rmsd = msm.rmsd(fitted_molecular_system, selection='backbone', frame_indices='all', reference_frame_index=0)"
   ]
  },
  {
   "cell_type": "code",
   "execution_count": null,
   "metadata": {},
   "outputs": [],
   "source": [
    "plt.plot(time, lrmsd, color='blue', label='Least RMSD')\n",
    "plt.plot(time, fitted_rmsd, color='red', label='RMSD fitted traj')\n",
    "plt.xlabel('time [{}]'.format(puw.get_unit(time)))\n",
    "plt.ylabel('RMSD [{}]'.format(puw.get_unit(rmsd)))\n",
    "plt.title('RMSD with backbone atoms with respect frame 0-th')\n",
    "plt.legend()\n",
    "plt.show()"
   ]
  },
  {
   "cell_type": "markdown",
   "metadata": {},
   "source": [
    "In case of having the input argument `to_form=None`, the original molecular system is modified in place with the fitted frames. Lets, for instance, fit a segment of trajectory without producing a new molecular system:"
   ]
  },
  {
   "cell_type": "code",
   "execution_count": null,
   "metadata": {},
   "outputs": [],
   "source": [
    "msm.least_rmsd_fit(molecular_system, selection='backbone', frame_indices=range(2000,4000), reference_frame_index=0)"
   ]
  },
  {
   "cell_type": "code",
   "execution_count": null,
   "metadata": {},
   "outputs": [],
   "source": [
    "fitted_rmsd = msm.rmsd(molecular_system, selection='backbone', frame_indices='all', reference_frame_index=0)"
   ]
  },
  {
   "cell_type": "code",
   "execution_count": null,
   "metadata": {},
   "outputs": [],
   "source": [
    "plt.plot(time, lrmsd, color='blue', label='Least RMSD')\n",
    "plt.plot(time, fitted_rmsd, color='red', label='RMSD fitted traj')\n",
    "plt.xlabel('time [{}]'.format(puw.get_unit(time)))\n",
    "plt.ylabel('RMSD [{}]'.format(puw.get_unit(rmsd)))\n",
    "plt.title('RMSD with backbone atoms with respect frame 0-th')\n",
    "plt.legend()\n",
    "plt.show()"
   ]
  },
  {
   "cell_type": "markdown",
   "metadata": {},
   "source": [
    "------------\n",
    "\n",
    "<a id='Coutsias2004'>[1]</a>  [Coutsias, Evangelos A., Chaok Seok, and Ken A. Dill. \"Using quaternions to calculate RMSD.\" Journal of computational chemistry 25, no. 15 (2004): 1849-1857](https://doi.org/10.1002/jcc.20110)"
   ]
  }
 ],
 "metadata": {
  "kernelspec": {
   "display_name": "Python 3 (ipykernel)",
   "language": "python",
   "name": "python3"
  },
  "language_info": {
   "codemirror_mode": {
    "name": "ipython",
    "version": 3
   },
   "file_extension": ".py",
   "mimetype": "text/x-python",
   "name": "python",
   "nbconvert_exporter": "python",
   "pygments_lexer": "ipython3",
   "version": "3.7.10"
  }
 },
 "nbformat": 4,
 "nbformat_minor": 4
}
