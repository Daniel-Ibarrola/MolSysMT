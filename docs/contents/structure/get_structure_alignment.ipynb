{
 "cells": [
  {
   "cell_type": "markdown",
   "id": "f4e24002-74df-4c2f-9a21-b605b94d6736",
   "metadata": {},
   "source": [
    "# Structure alignment"
   ]
  },
  {
   "cell_type": "code",
   "execution_count": 1,
   "id": "a595cfae-45b7-43b2-b838-22dbb747b32f",
   "metadata": {},
   "outputs": [],
   "source": [
    "%load_ext autoreload\n",
    "%autoreload 2"
   ]
  },
  {
   "cell_type": "code",
   "execution_count": 2,
   "id": "2bb709af-0906-40ca-a042-6b8bd6d7cc00",
   "metadata": {},
   "outputs": [
    {
     "name": "stderr",
     "output_type": "stream",
     "text": [
      "Warning: importing 'simtk.openmm' is deprecated.  Import 'openmm' instead.\n"
     ]
    },
    {
     "data": {
      "application/vnd.jupyter.widget-view+json": {
       "model_id": "6bba9578aca3416da8f4104eebf7f969",
       "version_major": 2,
       "version_minor": 0
      },
      "text/plain": []
     },
     "metadata": {},
     "output_type": "display_data"
    }
   ],
   "source": [
    "import molsysmt as msm"
   ]
  },
  {
   "cell_type": "code",
   "execution_count": 15,
   "id": "a750c166-f196-4fa2-b9d7-099edea159ec",
   "metadata": {},
   "outputs": [],
   "source": [
    "molsys_1 = msm.convert('pdbid:181l', to_form='molsysmt.MolSys',\n",
    "                       selection='molecule_type==\"protein\"')\n",
    "molsys_2 = msm.convert('pdbid:1l17', to_form='molsysmt.MolSys',\n",
    "                       selection='molecule_type==\"protein\"')"
   ]
  },
  {
   "cell_type": "code",
   "execution_count": 25,
   "id": "b2bcee81-85fd-4b09-aa84-51c540840364",
   "metadata": {},
   "outputs": [],
   "source": [
    "molsys_2on1 = msm.structure.get_structure_alignment(molsys_2,\n",
    "                                                    reference_molecular_system=molsys_1)"
   ]
  },
  {
   "cell_type": "code",
   "execution_count": 26,
   "id": "5a313104-b5f6-4593-b465-a21320c2f8e3",
   "metadata": {},
   "outputs": [
    {
     "data": {
      "application/vnd.jupyter.widget-view+json": {
       "model_id": "4eedf8cae21443e9a01d6e0758d8680a",
       "version_major": 2,
       "version_minor": 0
      },
      "text/plain": [
       "NGLWidget()"
      ]
     },
     "metadata": {},
     "output_type": "display_data"
    }
   ],
   "source": [
    "msm.view([molsys_1, molsys_2on1])"
   ]
  },
  {
   "cell_type": "code",
   "execution_count": 34,
   "id": "af091f0e-9c3e-4303-997c-5c0e3ef749df",
   "metadata": {},
   "outputs": [],
   "source": [
    "identity, sel1, sel2 = msm.topology.get_sequence_identity(molsys_2,\n",
    "                                                          reference_molecular_system=molsys_1,\n",
    "                                                          target_intersection_set='atom')"
   ]
  },
  {
   "cell_type": "code",
   "execution_count": 35,
   "id": "358d2321-8eb0-4b4d-8c8d-df36e04ac38d",
   "metadata": {},
   "outputs": [
    {
     "data": {
      "text/html": [
       "<table><tbody><tr><th>Magnitude</th><td style='text-align:left;'><pre>[0.0653792023815944]</pre></td></tr><tr><th>Units</th><td style='text-align:left;'>nanometer</td></tr></tbody></table>"
      ],
      "text/latex": [
       "$\\begin{pmatrix}0.0653792023815944\\end{pmatrix}\\ \\mathrm{nanometer}$"
      ],
      "text/plain": [
       "array([0.0653792]) <Unit('nanometer')>"
      ]
     },
     "execution_count": 35,
     "metadata": {},
     "output_type": "execute_result"
    }
   ],
   "source": [
    "msm.structure.get_rmsd(molsys_2on1, selection=sel2,\n",
    "                       reference_molecular_system=molsys_1, reference_selection=sel1)"
   ]
  }
 ],
 "metadata": {
  "kernelspec": {
   "display_name": "Python 3 (ipykernel)",
   "language": "python",
   "name": "python3"
  },
  "language_info": {
   "codemirror_mode": {
    "name": "ipython",
    "version": 3
   },
   "file_extension": ".py",
   "mimetype": "text/x-python",
   "name": "python",
   "nbconvert_exporter": "python",
   "pygments_lexer": "ipython3",
   "version": "3.7.10"
  }
 },
 "nbformat": 4,
 "nbformat_minor": 5
}
