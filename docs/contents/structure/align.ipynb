{
 "cells": [
  {
   "cell_type": "markdown",
   "id": "f4e24002-74df-4c2f-9a21-b605b94d6736",
   "metadata": {},
   "source": [
    "# Structure alignment"
   ]
  },
  {
   "cell_type": "code",
   "execution_count": 1,
   "id": "a595cfae-45b7-43b2-b838-22dbb747b32f",
   "metadata": {},
   "outputs": [],
   "source": [
    "%load_ext autoreload\n",
    "%autoreload 2"
   ]
  },
  {
   "cell_type": "code",
   "execution_count": 2,
   "id": "2bb709af-0906-40ca-a042-6b8bd6d7cc00",
   "metadata": {},
   "outputs": [
    {
     "name": "stderr",
     "output_type": "stream",
     "text": [
      "Warning: importing 'simtk.openmm' is deprecated.  Import 'openmm' instead.\n"
     ]
    },
    {
     "data": {
      "application/vnd.jupyter.widget-view+json": {
       "model_id": "2e797567c3f04c42944dc967144d63a6",
       "version_major": 2,
       "version_minor": 0
      },
      "text/plain": []
     },
     "metadata": {},
     "output_type": "display_data"
    }
   ],
   "source": [
    "import molsysmt as msm"
   ]
  },
  {
   "cell_type": "code",
   "execution_count": 3,
   "id": "a750c166-f196-4fa2-b9d7-099edea159ec",
   "metadata": {},
   "outputs": [
    {
     "name": "stderr",
     "output_type": "stream",
     "text": [
      "/home/diego/projects/molsysmt/molsysmt/native/io/topology/mmtf_MMTFDecoder.py:27: UserWarning: The structure in the PDB has biological assemblies. There are geometrical transformations proposed in the structure. See the following issue in the source code repository: https://github.com/uibcdf/MolSysMT/issues/33\n",
      "  warnings.warn(warning_message)\n"
     ]
    }
   ],
   "source": [
    "molsys_1 = msm.convert('pdb_id:181l', to_form='molsysmt.MolSys',\n",
    "                       selection='molecule_type==\"protein\"')\n",
    "molsys_2 = msm.convert('pdb_id:1l17', to_form='molsysmt.MolSys',\n",
    "                       selection='molecule_type==\"protein\"')"
   ]
  },
  {
   "cell_type": "code",
   "execution_count": 4,
   "id": "b2bcee81-85fd-4b09-aa84-51c540840364",
   "metadata": {},
   "outputs": [],
   "source": [
    "molsys_2on1 = msm.structure.align(molsys_2, reference_molecular_system=molsys_1)"
   ]
  },
  {
   "cell_type": "code",
   "execution_count": 5,
   "id": "5a313104-b5f6-4593-b465-a21320c2f8e3",
   "metadata": {},
   "outputs": [
    {
     "data": {
      "application/vnd.jupyter.widget-view+json": {
       "model_id": "90f2ccaf822047159ef0861e08e664f5",
       "version_major": 2,
       "version_minor": 0
      },
      "text/plain": [
       "NGLWidget()"
      ]
     },
     "metadata": {},
     "output_type": "display_data"
    }
   ],
   "source": [
    "msm.view([molsys_1, molsys_2on1])"
   ]
  },
  {
   "cell_type": "code",
   "execution_count": null,
   "id": "f3ea6f32-a035-45f8-bfde-5cb3e99a0fc1",
   "metadata": {},
   "outputs": [],
   "source": []
  }
 ],
 "metadata": {
  "kernelspec": {
   "display_name": "Python 3 (ipykernel)",
   "language": "python",
   "name": "python3"
  },
  "language_info": {
   "codemirror_mode": {
    "name": "ipython",
    "version": 3
   },
   "file_extension": ".py",
   "mimetype": "text/x-python",
   "name": "python",
   "nbconvert_exporter": "python",
   "pygments_lexer": "ipython3",
   "version": "3.7.10"
  }
 },
 "nbformat": 4,
 "nbformat_minor": 5
}
