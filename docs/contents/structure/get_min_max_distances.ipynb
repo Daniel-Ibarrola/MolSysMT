{
 "cells": [
  {
   "cell_type": "code",
   "execution_count": 1,
   "metadata": {},
   "outputs": [],
   "source": [
    "%load_ext autoreload\n",
    "%autoreload 2"
   ]
  },
  {
   "cell_type": "code",
   "execution_count": 2,
   "metadata": {},
   "outputs": [],
   "source": [
    "import numpy as np\n",
    "np.warnings.filterwarnings('ignore')"
   ]
  },
  {
   "cell_type": "code",
   "execution_count": 3,
   "metadata": {},
   "outputs": [
    {
     "name": "stderr",
     "output_type": "stream",
     "text": [
      "Warning: importing 'simtk.openmm' is deprecated.  Import 'openmm' instead.\n"
     ]
    },
    {
     "data": {
      "application/vnd.jupyter.widget-view+json": {
       "model_id": "a5292bed1b334742898aaf95ad15b4bc",
       "version_major": 2,
       "version_minor": 0
      },
      "text/plain": []
     },
     "metadata": {},
     "output_type": "display_data"
    }
   ],
   "source": [
    "import molsysmt as msm\n",
    "from molsysmt import puw\n",
    "import numpy as np\n",
    "import matplotlib.pyplot as plt"
   ]
  },
  {
   "cell_type": "markdown",
   "metadata": {},
   "source": [
    "# Getting minimum and maximum distances.\n",
    "\n",
    "MolSysMT includes a very versatile method to calculate distances between points in space, atoms and/or groups of atoms. As many other methods of this multitool, the method `molsysmt.distance()` has an input argument to choose the engine in charge of getting the result. For instance, `molsysmt.distance()` currently offers two engines `MolSysMT` and `MDTraj`. At this moment only `MolSysMT` will be reported in this guide.\n",
    "\n",
    "The different options of the method `molsysmt.distance()` will be shown, little by little, along with the following examples."
   ]
  },
  {
   "cell_type": "markdown",
   "metadata": {},
   "source": [
    "## The XYZ molecular system form\n",
    "\n",
    "The first case, and the most simple one, is getting distances from a points distribution in space. MolSysMT accepts a molecular system form where only spatial coordinates are described, with out topological information: the `XYZ` form."
   ]
  },
  {
   "cell_type": "code",
   "execution_count": 4,
   "metadata": {},
   "outputs": [],
   "source": [
    "molecular_system = np.zeros([6,3]) * puw.unit('nm')"
   ]
  },
  {
   "cell_type": "code",
   "execution_count": 5,
   "metadata": {},
   "outputs": [
    {
     "data": {
      "text/plain": [
       "'XYZ'"
      ]
     },
     "execution_count": 5,
     "metadata": {},
     "output_type": "execute_result"
    }
   ],
   "source": [
    "msm.get_form(molecular_system)"
   ]
  },
  {
   "cell_type": "markdown",
   "metadata": {},
   "source": [
    "The `XYZ` form accepts numpy arrays with length units of the shape $[n\\_frames, n\\_atoms, 3]$ or $[n\\_atoms, 3]$. In case of having an array of rank 2, MolSysMT always understands $n\\_frames=1$ and the first rank as the number of atoms:"
   ]
  },
  {
   "cell_type": "code",
   "execution_count": 6,
   "metadata": {},
   "outputs": [
    {
     "data": {
      "text/plain": [
       "[1, 6]"
      ]
     },
     "execution_count": 6,
     "metadata": {},
     "output_type": "execute_result"
    }
   ],
   "source": [
    "msm.get(molecular_system, n_frames=True, n_atoms=True)"
   ]
  },
  {
   "cell_type": "markdown",
   "metadata": {},
   "source": [
    "Lets create a couple of `XYZ` molecular systems with more than a frame. These two systems will help us illustrate the firts distance calculations:"
   ]
  },
  {
   "cell_type": "code",
   "execution_count": 7,
   "metadata": {},
   "outputs": [],
   "source": [
    "# Molecular system with three atoms and three frames.\n",
    "\n",
    "molecular_system = np.zeros([3,4,3], dtype='float64') * puw.unit('nm')\n",
    "\n",
    "## First atom\n",
    "molecular_system[0,0,:] = [0, 2, -1] * puw.unit('nm')\n",
    "molecular_system[1,0,:] = [1, 2, -1] * puw.unit('nm')\n",
    "molecular_system[2,0,:] = [0, 2, -1] * puw.unit('nm')\n",
    "\n",
    "## Second atom\n",
    "molecular_system[0,1,:] = [-1, 1, 1] * puw.unit('nm')\n",
    "molecular_system[1,1,:] = [-1, 0, 1] * puw.unit('nm')\n",
    "molecular_system[2,1,:] = [0, 0, 1] * puw.unit('nm')\n",
    "\n",
    "## Third atom\n",
    "molecular_system[0,2,:] = [-2, 0, 1] * puw.unit('nm')\n",
    "molecular_system[1,2,:] = [-2, 0, 0] * puw.unit('nm')\n",
    "molecular_system[2,2,:] = [-1, 1, 0] * puw.unit('nm')\n",
    "\n",
    "## Fourth atom\n",
    "molecular_system[0,3,:] = [-2, -2, -2] * puw.unit('nm')\n",
    "molecular_system[1,3,:] = [0, 0, 0] * puw.unit('nm')\n",
    "molecular_system[2,3,:] = [2, 2, 2] * puw.unit('nm')"
   ]
  },
  {
   "cell_type": "code",
   "execution_count": 8,
   "metadata": {},
   "outputs": [
    {
     "data": {
      "text/html": [
       "<table><tbody><tr><th>Magnitude</th><td style='text-align:left;'><pre>[[[0.0 2.0 -1.0]<br>  [-1.0 1.0 1.0]<br>  [-2.0 0.0 1.0]<br>  [-2.0 -2.0 -2.0]]<br><br> [[1.0 2.0 -1.0]<br>  [-1.0 0.0 1.0]<br>  [-2.0 0.0 0.0]<br>  [0.0 0.0 0.0]]<br><br> [[0.0 2.0 -1.0]<br>  [0.0 0.0 1.0]<br>  [-1.0 1.0 0.0]<br>  [2.0 2.0 2.0]]]</pre></td></tr><tr><th>Units</th><td style='text-align:left;'>nanometer</td></tr></tbody></table>"
      ],
      "text/latex": [
       "$arr[,0,:,:] = \\begin{pmatrix}0.0 & 2.0 & -1.0\\\\ \n",
       "-1.0 & 1.0 & 1.0\\\\ \n",
       "-2.0 & 0.0 & 1.0\\\\ \n",
       "-2.0 & -2.0 & -2.0\\end{pmatrix}\n",
       "arr[,1,:,:] = \\begin{pmatrix}1.0 & 2.0 & -1.0\\\\ \n",
       "-1.0 & 0.0 & 1.0\\\\ \n",
       "-2.0 & 0.0 & 0.0\\\\ \n",
       "0.0 & 0.0 & 0.0\\end{pmatrix}\n",
       "arr[,2,:,:] = \\begin{pmatrix}0.0 & 2.0 & -1.0\\\\ \n",
       "0.0 & 0.0 & 1.0\\\\ \n",
       "-1.0 & 1.0 & 0.0\\\\ \n",
       "2.0 & 2.0 & 2.0\\end{pmatrix}\\ \\mathrm{nanometer}$"
      ],
      "text/plain": [
       "array([[[ 0.,  2., -1.],\n",
       "        [-1.,  1.,  1.],\n",
       "        [-2.,  0.,  1.],\n",
       "        [-2., -2., -2.]],\n",
       "\n",
       "       [[ 1.,  2., -1.],\n",
       "        [-1.,  0.,  1.],\n",
       "        [-2.,  0.,  0.],\n",
       "        [ 0.,  0.,  0.]],\n",
       "\n",
       "       [[ 0.,  2., -1.],\n",
       "        [ 0.,  0.,  1.],\n",
       "        [-1.,  1.,  0.],\n",
       "        [ 2.,  2.,  2.]]]) <Unit('nanometer')>"
      ]
     },
     "execution_count": 8,
     "metadata": {},
     "output_type": "execute_result"
    }
   ],
   "source": [
    "molecular_system"
   ]
  },
  {
   "cell_type": "code",
   "execution_count": 9,
   "metadata": {},
   "outputs": [
    {
     "data": {
      "text/html": [
       "<style type=\"text/css\">\n",
       "</style>\n",
       "<table id=\"T_4570d_\">\n",
       "  <thead>\n",
       "    <tr>\n",
       "      <th class=\"col_heading level0 col0\" >form</th>\n",
       "      <th class=\"col_heading level0 col1\" >n_atoms</th>\n",
       "      <th class=\"col_heading level0 col2\" >n_groups</th>\n",
       "      <th class=\"col_heading level0 col3\" >n_components</th>\n",
       "      <th class=\"col_heading level0 col4\" >n_chains</th>\n",
       "      <th class=\"col_heading level0 col5\" >n_molecules</th>\n",
       "      <th class=\"col_heading level0 col6\" >n_entities</th>\n",
       "      <th class=\"col_heading level0 col7\" >n_frames</th>\n",
       "    </tr>\n",
       "  </thead>\n",
       "  <tbody>\n",
       "    <tr>\n",
       "      <td id=\"T_4570d_row0_col0\" class=\"data row0 col0\" >XYZ</td>\n",
       "      <td id=\"T_4570d_row0_col1\" class=\"data row0 col1\" >4</td>\n",
       "      <td id=\"T_4570d_row0_col2\" class=\"data row0 col2\" >None</td>\n",
       "      <td id=\"T_4570d_row0_col3\" class=\"data row0 col3\" >None</td>\n",
       "      <td id=\"T_4570d_row0_col4\" class=\"data row0 col4\" >None</td>\n",
       "      <td id=\"T_4570d_row0_col5\" class=\"data row0 col5\" >None</td>\n",
       "      <td id=\"T_4570d_row0_col6\" class=\"data row0 col6\" >None</td>\n",
       "      <td id=\"T_4570d_row0_col7\" class=\"data row0 col7\" >3</td>\n",
       "    </tr>\n",
       "  </tbody>\n",
       "</table>\n"
      ],
      "text/plain": [
       "<pandas.io.formats.style.Styler at 0x7ff08275eed0>"
      ]
     },
     "execution_count": 9,
     "metadata": {},
     "output_type": "execute_result"
    }
   ],
   "source": [
    "msm.info(molecular_system)"
   ]
  },
  {
   "cell_type": "markdown",
   "metadata": {},
   "source": [
    "### Minimum and Maximum distance\n",
    "\n",
    "Sometimes the minimum and maximum distance between two sets of atoms needs to be obtained. Although this step could be done with the method `molsysmt.distance()` and  a little coding, MolSysMT includes two methods to make it even easier: `molsysmt.minimum_distance()` and `molsysmt.maximum_distance()`. Lets see in the following cells how they work.\n",
    "\n",
    "As first example, lets get the minimum distance between two atoms selection:"
   ]
  },
  {
   "cell_type": "code",
   "execution_count": 10,
   "metadata": {},
   "outputs": [],
   "source": [
    "min_pairs, min_distances = msm.structure.get_minimum_distances(molecular_system)"
   ]
  },
  {
   "cell_type": "markdown",
   "metadata": {},
   "source": [
    "The result is offered as two numpy arrays: the list of atoms pairs minimizing the distance for each frame, and the corresponding value of the minimum distance (for each frame also)."
   ]
  },
  {
   "cell_type": "code",
   "execution_count": 11,
   "metadata": {},
   "outputs": [
    {
     "data": {
      "text/plain": [
       "(3, 2)"
      ]
     },
     "execution_count": 11,
     "metadata": {},
     "output_type": "execute_result"
    }
   ],
   "source": [
    "min_pairs.shape"
   ]
  },
  {
   "cell_type": "code",
   "execution_count": 12,
   "metadata": {},
   "outputs": [
    {
     "data": {
      "text/plain": [
       "array([[0, 0],\n",
       "       [0, 0],\n",
       "       [0, 0]])"
      ]
     },
     "execution_count": 12,
     "metadata": {},
     "output_type": "execute_result"
    }
   ],
   "source": [
    "min_pairs"
   ]
  },
  {
   "cell_type": "code",
   "execution_count": 13,
   "metadata": {},
   "outputs": [
    {
     "data": {
      "text/plain": [
       "(3,)"
      ]
     },
     "execution_count": 13,
     "metadata": {},
     "output_type": "execute_result"
    }
   ],
   "source": [
    "min_distances.shape"
   ]
  },
  {
   "cell_type": "code",
   "execution_count": 14,
   "metadata": {},
   "outputs": [
    {
     "data": {
      "text/html": [
       "<table><tbody><tr><th>Magnitude</th><td style='text-align:left;'><pre>[0.0 0.0 0.0]</pre></td></tr><tr><th>Units</th><td style='text-align:left;'>nanometer</td></tr></tbody></table>"
      ],
      "text/latex": [
       "$\\begin{pmatrix}0.0 & 0.0 & 0.0\\end{pmatrix}\\ \\mathrm{nanometer}$"
      ],
      "text/plain": [
       "array([0., 0., 0.]) <Unit('nanometer')>"
      ]
     },
     "execution_count": 14,
     "metadata": {},
     "output_type": "execute_result"
    }
   ],
   "source": [
    "min_distances"
   ]
  },
  {
   "cell_type": "code",
   "execution_count": 15,
   "metadata": {},
   "outputs": [
    {
     "name": "stdout",
     "output_type": "stream",
     "text": [
      "The minimum distance in frame 2-th is given by atom 0-th and atom 0-th: 0.0 nanometer\n"
     ]
    }
   ],
   "source": [
    "print('The minimum distance in frame 2-th is given by atom {}-th and atom {}-th: {}'.format(min_pairs[2,0], min_pairs[2,1], min_distances[2]))"
   ]
  },
  {
   "cell_type": "markdown",
   "metadata": {},
   "source": [
    "All input arguments described in previous subsections can also be used with `molsysmt.minimum_distance()` and `molsysmt.maximum_distance()`. Lets see an example:"
   ]
  },
  {
   "cell_type": "code",
   "execution_count": 16,
   "metadata": {},
   "outputs": [],
   "source": [
    "min_pairs, min_distances = msm.structure.get_minimum_distances(molecular_system, selection=[0,1,2], selection_2=[0,1,2],\n",
    "                                               frame_indices=[0,1], frame_indices_2=[1,2], pairs=True)"
   ]
  },
  {
   "cell_type": "markdown",
   "metadata": {},
   "source": [
    "Remember that with `pairs=True`, the output does not longer refer atoms indices but pairs indices. That is the reason why the shape of min_pairs is now:"
   ]
  },
  {
   "cell_type": "code",
   "execution_count": 17,
   "metadata": {},
   "outputs": [
    {
     "data": {
      "text/plain": [
       "(2,)"
      ]
     },
     "execution_count": 17,
     "metadata": {},
     "output_type": "execute_result"
    }
   ],
   "source": [
    "min_pairs.shape"
   ]
  },
  {
   "cell_type": "markdown",
   "metadata": {},
   "source": [
    "While,"
   ]
  },
  {
   "cell_type": "code",
   "execution_count": 18,
   "metadata": {},
   "outputs": [
    {
     "data": {
      "text/plain": [
       "(2,)"
      ]
     },
     "execution_count": 18,
     "metadata": {},
     "output_type": "execute_result"
    }
   ],
   "source": [
    "min_distances.shape"
   ]
  },
  {
   "cell_type": "markdown",
   "metadata": {},
   "source": [
    "Which means that the minimum displacement between consecutive frames was observed for:"
   ]
  },
  {
   "cell_type": "code",
   "execution_count": 19,
   "metadata": {},
   "outputs": [
    {
     "name": "stdout",
     "output_type": "stream",
     "text": [
      "Atom 0-th had the minimum displacement of A between frames 0-th and 1-th: 1.0 nanometer\n",
      "Atom 0-th had the minimum displacement of A between frames 1-th and 2-th: 1.0 nanometer\n"
     ]
    }
   ],
   "source": [
    "for ii in range(2):\n",
    "    print('Atom {}-th had the minimum displacement of A between frames {}-th and {}-th: {}'.format(min_pairs[ii], ii, ii+1, min_distances[ii]))"
   ]
  },
  {
   "cell_type": "markdown",
   "metadata": {},
   "source": [
    "There are situations in which we have a list of atoms in `selection` and the minimum distance with a second set of atoms `selection_2` needs to be known for every single atom of the first set. In this case the first set has to be considered not as entity (as set) in view of getting a single minimum distance. Lets illustrate this with an example:"
   ]
  },
  {
   "cell_type": "code",
   "execution_count": 22,
   "metadata": {},
   "outputs": [],
   "source": [
    "min_pairs, min_distances = msm.structure.get_minimum_distances(molecular_system, selection=[1,2], frame_indices=[0,1,2],\n",
    "                                                selection_2=[0,1], as_entity=False, as_entity_2=True)"
   ]
  },
  {
   "cell_type": "markdown",
   "metadata": {},
   "source": [
    "The output corresponds to the minimum distance of atom 1-th of A to any atom of B and the minimum distance of atom 2-th of A to any atom of B, at every frame:"
   ]
  },
  {
   "cell_type": "code",
   "execution_count": 23,
   "metadata": {},
   "outputs": [
    {
     "data": {
      "text/plain": [
       "(3, 2)"
      ]
     },
     "execution_count": 23,
     "metadata": {},
     "output_type": "execute_result"
    }
   ],
   "source": [
    "min_pairs.shape"
   ]
  },
  {
   "cell_type": "code",
   "execution_count": 24,
   "metadata": {},
   "outputs": [
    {
     "data": {
      "text/plain": [
       "(3, 2)"
      ]
     },
     "execution_count": 24,
     "metadata": {},
     "output_type": "execute_result"
    }
   ],
   "source": [
    "min_distances.shape"
   ]
  },
  {
   "cell_type": "code",
   "execution_count": 25,
   "metadata": {},
   "outputs": [
    {
     "name": "stdout",
     "output_type": "stream",
     "text": [
      "Atom 1-th of A has the minimum distance to B with its atom 1-th in frame 1-th: 0.0 nanometer\n"
     ]
    }
   ],
   "source": [
    "selection_2=[0,1]\n",
    "print('Atom 1-th of A has the minimum distance to B with its atom {}-th in frame 1-th: {}'.format(selection_2[min_pairs[1,0]], min_distances[1,0]))"
   ]
  },
  {
   "cell_type": "code",
   "execution_count": 26,
   "metadata": {},
   "outputs": [
    {
     "name": "stdout",
     "output_type": "stream",
     "text": [
      "The 1-th is the closest atom of B to atom 1-th of A at frame 0-th with 0.0 nanometer\n",
      "The 1-th is the closest atom of B to atom 1-th of A at frame 1-th with 0.0 nanometer\n",
      "The 1-th is the closest atom of B to atom 1-th of A at frame 2-th with 0.0 nanometer\n"
     ]
    }
   ],
   "source": [
    "for ii in range(3):\n",
    "    print('The {}-th is the closest atom of B to atom 1-th of A at frame {}-th with {}'.format(selection_2[min_pairs[ii,0]],ii, min_distances[ii,0]))"
   ]
  },
  {
   "cell_type": "markdown",
   "metadata": {},
   "source": [
    "### Minimum and Maximum distance of atom groups"
   ]
  },
  {
   "cell_type": "markdown",
   "metadata": {},
   "source": [
    "Sometimes the pair of atom groups with the shortest distance between their geometric centers, or centers of mass, needs to be determined. Lets work to illustrate this case with a dimeric protein complex:"
   ]
  },
  {
   "cell_type": "code",
   "execution_count": 27,
   "metadata": {},
   "outputs": [],
   "source": [
    "molecular_system = msm.convert('1TCD', 'molsysmt.MolSys')"
   ]
  },
  {
   "cell_type": "code",
   "execution_count": 28,
   "metadata": {},
   "outputs": [
    {
     "data": {
      "text/html": [
       "<style type=\"text/css\">\n",
       "</style>\n",
       "<table id=\"T_2d5bb_\">\n",
       "  <thead>\n",
       "    <tr>\n",
       "      <th class=\"col_heading level0 col0\" >index</th>\n",
       "      <th class=\"col_heading level0 col1\" >n atoms</th>\n",
       "      <th class=\"col_heading level0 col2\" >n groups</th>\n",
       "      <th class=\"col_heading level0 col3\" >chain index</th>\n",
       "      <th class=\"col_heading level0 col4\" >molecule index</th>\n",
       "      <th class=\"col_heading level0 col5\" >molecule type</th>\n",
       "      <th class=\"col_heading level0 col6\" >entity index</th>\n",
       "      <th class=\"col_heading level0 col7\" >entity name</th>\n",
       "    </tr>\n",
       "  </thead>\n",
       "  <tbody>\n",
       "    <tr>\n",
       "      <td id=\"T_2d5bb_row0_col0\" class=\"data row0 col0\" >0</td>\n",
       "      <td id=\"T_2d5bb_row0_col1\" class=\"data row0 col1\" >1906</td>\n",
       "      <td id=\"T_2d5bb_row0_col2\" class=\"data row0 col2\" >248</td>\n",
       "      <td id=\"T_2d5bb_row0_col3\" class=\"data row0 col3\" >0</td>\n",
       "      <td id=\"T_2d5bb_row0_col4\" class=\"data row0 col4\" >0</td>\n",
       "      <td id=\"T_2d5bb_row0_col5\" class=\"data row0 col5\" >protein</td>\n",
       "      <td id=\"T_2d5bb_row0_col6\" class=\"data row0 col6\" >0</td>\n",
       "      <td id=\"T_2d5bb_row0_col7\" class=\"data row0 col7\" >TRIOSEPHOSPHATE ISOMERASE</td>\n",
       "    </tr>\n",
       "    <tr>\n",
       "      <td id=\"T_2d5bb_row1_col0\" class=\"data row1 col0\" >1</td>\n",
       "      <td id=\"T_2d5bb_row1_col1\" class=\"data row1 col1\" >1912</td>\n",
       "      <td id=\"T_2d5bb_row1_col2\" class=\"data row1 col2\" >249</td>\n",
       "      <td id=\"T_2d5bb_row1_col3\" class=\"data row1 col3\" >1</td>\n",
       "      <td id=\"T_2d5bb_row1_col4\" class=\"data row1 col4\" >0</td>\n",
       "      <td id=\"T_2d5bb_row1_col5\" class=\"data row1 col5\" >protein</td>\n",
       "      <td id=\"T_2d5bb_row1_col6\" class=\"data row1 col6\" >0</td>\n",
       "      <td id=\"T_2d5bb_row1_col7\" class=\"data row1 col7\" >TRIOSEPHOSPHATE ISOMERASE</td>\n",
       "    </tr>\n",
       "  </tbody>\n",
       "</table>\n"
      ],
      "text/plain": [
       "<pandas.io.formats.style.Styler at 0x7ff08238e150>"
      ]
     },
     "execution_count": 28,
     "metadata": {},
     "output_type": "execute_result"
    }
   ],
   "source": [
    "msm.info(molecular_system, target='component', selection='molecule_type==\"protein\"')"
   ]
  },
  {
   "cell_type": "markdown",
   "metadata": {},
   "source": [
    "Lets find out the closest pairs of distance from different components:"
   ]
  },
  {
   "cell_type": "code",
   "execution_count": 29,
   "metadata": {},
   "outputs": [],
   "source": [
    "atoms_groups_component_0 = msm.get(molecular_system, target='group',\n",
    "                                   selection='component_index==0', atom_index=True)\n",
    "atoms_groups_component_1 = msm.get(molecular_system, target='group',\n",
    "                                   selection='component_index==1', atom_index=True)"
   ]
  },
  {
   "cell_type": "code",
   "execution_count": 30,
   "metadata": {},
   "outputs": [],
   "source": [
    "min_pairs, min_distances = msm.structure.get_minimum_distances(molecular_system,\n",
    "                                                groups_of_atoms=atoms_groups_component_0,\n",
    "                                                group_behavior='geometric_center',\n",
    "                                                groups_of_atoms_2=atoms_groups_component_1,\n",
    "                                                group_behavior_2='geometric_center')"
   ]
  },
  {
   "cell_type": "markdown",
   "metadata": {},
   "source": [
    "There is a single frame in our molecular system, thats why the shape of the numpy array with the pair of groups is the following:"
   ]
  },
  {
   "cell_type": "code",
   "execution_count": 31,
   "metadata": {},
   "outputs": [
    {
     "data": {
      "text/plain": [
       "(1, 2)"
      ]
     },
     "execution_count": 31,
     "metadata": {},
     "output_type": "execute_result"
    }
   ],
   "source": [
    "min_pairs.shape"
   ]
  },
  {
   "cell_type": "markdown",
   "metadata": {},
   "source": [
    "Where the indices found in min_pairs correspond to the n-th and m-th atoms group of the first list and the second list respectively:"
   ]
  },
  {
   "cell_type": "code",
   "execution_count": 32,
   "metadata": {},
   "outputs": [
    {
     "data": {
      "text/plain": [
       "array([69, 12])"
      ]
     },
     "execution_count": 32,
     "metadata": {},
     "output_type": "execute_result"
    }
   ],
   "source": [
    "min_pairs[0]"
   ]
  },
  {
   "cell_type": "code",
   "execution_count": 33,
   "metadata": {},
   "outputs": [],
   "source": [
    "group_index_in_component_0 = msm.get(molecular_system, target='group',\n",
    "                                     selection='component_index==0', index=True)[69]\n",
    "group_index_in_component_1 = msm.get(molecular_system, target='group',\n",
    "                                     selection='component_index==1', index=True)[12]"
   ]
  },
  {
   "cell_type": "code",
   "execution_count": 34,
   "metadata": {},
   "outputs": [
    {
     "data": {
      "text/html": [
       "<style type=\"text/css\">\n",
       "</style>\n",
       "<table id=\"T_0da56_\">\n",
       "  <thead>\n",
       "    <tr>\n",
       "      <th class=\"col_heading level0 col0\" >index</th>\n",
       "      <th class=\"col_heading level0 col1\" >id</th>\n",
       "      <th class=\"col_heading level0 col2\" >name</th>\n",
       "      <th class=\"col_heading level0 col3\" >type</th>\n",
       "      <th class=\"col_heading level0 col4\" >n atoms</th>\n",
       "      <th class=\"col_heading level0 col5\" >component index</th>\n",
       "      <th class=\"col_heading level0 col6\" >chain index</th>\n",
       "      <th class=\"col_heading level0 col7\" >molecule index</th>\n",
       "      <th class=\"col_heading level0 col8\" >molecule type</th>\n",
       "      <th class=\"col_heading level0 col9\" >entity index</th>\n",
       "      <th class=\"col_heading level0 col10\" >entity name</th>\n",
       "    </tr>\n",
       "  </thead>\n",
       "  <tbody>\n",
       "    <tr>\n",
       "      <td id=\"T_0da56_row0_col0\" class=\"data row0 col0\" >69</td>\n",
       "      <td id=\"T_0da56_row0_col1\" class=\"data row0 col1\" >73</td>\n",
       "      <td id=\"T_0da56_row0_col2\" class=\"data row0 col2\" >GLY</td>\n",
       "      <td id=\"T_0da56_row0_col3\" class=\"data row0 col3\" >aminoacid</td>\n",
       "      <td id=\"T_0da56_row0_col4\" class=\"data row0 col4\" >4</td>\n",
       "      <td id=\"T_0da56_row0_col5\" class=\"data row0 col5\" >0</td>\n",
       "      <td id=\"T_0da56_row0_col6\" class=\"data row0 col6\" >0</td>\n",
       "      <td id=\"T_0da56_row0_col7\" class=\"data row0 col7\" >0</td>\n",
       "      <td id=\"T_0da56_row0_col8\" class=\"data row0 col8\" >protein</td>\n",
       "      <td id=\"T_0da56_row0_col9\" class=\"data row0 col9\" >0</td>\n",
       "      <td id=\"T_0da56_row0_col10\" class=\"data row0 col10\" >TRIOSEPHOSPHATE ISOMERASE</td>\n",
       "    </tr>\n",
       "    <tr>\n",
       "      <td id=\"T_0da56_row1_col0\" class=\"data row1 col0\" >260</td>\n",
       "      <td id=\"T_0da56_row1_col1\" class=\"data row1 col1\" >15</td>\n",
       "      <td id=\"T_0da56_row1_col2\" class=\"data row1 col2\" >CYS</td>\n",
       "      <td id=\"T_0da56_row1_col3\" class=\"data row1 col3\" >aminoacid</td>\n",
       "      <td id=\"T_0da56_row1_col4\" class=\"data row1 col4\" >6</td>\n",
       "      <td id=\"T_0da56_row1_col5\" class=\"data row1 col5\" >1</td>\n",
       "      <td id=\"T_0da56_row1_col6\" class=\"data row1 col6\" >1</td>\n",
       "      <td id=\"T_0da56_row1_col7\" class=\"data row1 col7\" >0</td>\n",
       "      <td id=\"T_0da56_row1_col8\" class=\"data row1 col8\" >protein</td>\n",
       "      <td id=\"T_0da56_row1_col9\" class=\"data row1 col9\" >0</td>\n",
       "      <td id=\"T_0da56_row1_col10\" class=\"data row1 col10\" >TRIOSEPHOSPHATE ISOMERASE</td>\n",
       "    </tr>\n",
       "  </tbody>\n",
       "</table>\n"
      ],
      "text/plain": [
       "<pandas.io.formats.style.Styler at 0x7ff08230a450>"
      ]
     },
     "execution_count": 34,
     "metadata": {},
     "output_type": "execute_result"
    }
   ],
   "source": [
    "msm.info(molecular_system, target='group', indices=[group_index_in_component_0,\n",
    "                                                    group_index_in_component_1])"
   ]
  },
  {
   "cell_type": "markdown",
   "metadata": {},
   "source": [
    "And the corresponding minimum distance between both residues from the two components is:"
   ]
  },
  {
   "cell_type": "code",
   "execution_count": 35,
   "metadata": {},
   "outputs": [
    {
     "data": {
      "text/html": [
       "0.38221311908773786 nanometer"
      ],
      "text/latex": [
       "$0.38221311908773786\\ \\mathrm{nanometer}$"
      ],
      "text/plain": [
       "0.38221311908773786 <Unit('nanometer')>"
      ]
     },
     "execution_count": 35,
     "metadata": {},
     "output_type": "execute_result"
    }
   ],
   "source": [
    "min_distances[0]"
   ]
  },
  {
   "cell_type": "markdown",
   "metadata": {},
   "source": [
    "On the other hand, if the maximum distance needs to be obtained, the method to be used is `molsysmt.maximum_distance()`. Lets show how this method works with a short trajectory of the pentalanine peptide."
   ]
  },
  {
   "cell_type": "code",
   "execution_count": 37,
   "metadata": {},
   "outputs": [],
   "source": [
    "molecular_system = msm.demo['pentalanine']['traj.h5']\n",
    "molecular_system = msm.convert(molecular_system, to_form='molsysmt.MolSys')"
   ]
  },
  {
   "cell_type": "code",
   "execution_count": 38,
   "metadata": {},
   "outputs": [
    {
     "data": {
      "text/html": [
       "<style type=\"text/css\">\n",
       "</style>\n",
       "<table id=\"T_70fae_\">\n",
       "  <thead>\n",
       "    <tr>\n",
       "      <th class=\"col_heading level0 col0\" >form</th>\n",
       "      <th class=\"col_heading level0 col1\" >n_atoms</th>\n",
       "      <th class=\"col_heading level0 col2\" >n_groups</th>\n",
       "      <th class=\"col_heading level0 col3\" >n_components</th>\n",
       "      <th class=\"col_heading level0 col4\" >n_chains</th>\n",
       "      <th class=\"col_heading level0 col5\" >n_molecules</th>\n",
       "      <th class=\"col_heading level0 col6\" >n_entities</th>\n",
       "      <th class=\"col_heading level0 col7\" >n_peptides</th>\n",
       "      <th class=\"col_heading level0 col8\" >n_frames</th>\n",
       "    </tr>\n",
       "  </thead>\n",
       "  <tbody>\n",
       "    <tr>\n",
       "      <td id=\"T_70fae_row0_col0\" class=\"data row0 col0\" >molsysmt.MolSys</td>\n",
       "      <td id=\"T_70fae_row0_col1\" class=\"data row0 col1\" >62</td>\n",
       "      <td id=\"T_70fae_row0_col2\" class=\"data row0 col2\" >7</td>\n",
       "      <td id=\"T_70fae_row0_col3\" class=\"data row0 col3\" >1</td>\n",
       "      <td id=\"T_70fae_row0_col4\" class=\"data row0 col4\" >1</td>\n",
       "      <td id=\"T_70fae_row0_col5\" class=\"data row0 col5\" >1</td>\n",
       "      <td id=\"T_70fae_row0_col6\" class=\"data row0 col6\" >1</td>\n",
       "      <td id=\"T_70fae_row0_col7\" class=\"data row0 col7\" >1</td>\n",
       "      <td id=\"T_70fae_row0_col8\" class=\"data row0 col8\" >5000</td>\n",
       "    </tr>\n",
       "  </tbody>\n",
       "</table>\n"
      ],
      "text/plain": [
       "<pandas.io.formats.style.Styler at 0x7ff0823063d0>"
      ]
     },
     "execution_count": 38,
     "metadata": {},
     "output_type": "execute_result"
    }
   ],
   "source": [
    "msm.info(molecular_system)"
   ]
  },
  {
   "cell_type": "markdown",
   "metadata": {},
   "source": [
    "The trajectory has 5000 frames. Lets see, for each frame, whats the pair of residues with the longest distance between their geometric centers:"
   ]
  },
  {
   "cell_type": "code",
   "execution_count": 39,
   "metadata": {},
   "outputs": [],
   "source": [
    "list_atom_groups = msm.get(molecular_system, target='group', selection='all', atom_index=True)\n",
    "max_pairs, max_distances = msm.structure.get_maximum_distances(molecular_system, groups_of_atoms=list_atom_groups,\n",
    "                                                group_behavior='geometric_center')"
   ]
  },
  {
   "cell_type": "markdown",
   "metadata": {},
   "source": [
    "This time we have 5000 pairs of group, one for each frame; and 5000 maximum distances:"
   ]
  },
  {
   "cell_type": "code",
   "execution_count": 40,
   "metadata": {},
   "outputs": [
    {
     "data": {
      "text/plain": [
       "(5000, 2)"
      ]
     },
     "execution_count": 40,
     "metadata": {},
     "output_type": "execute_result"
    }
   ],
   "source": [
    "max_pairs.shape"
   ]
  },
  {
   "cell_type": "code",
   "execution_count": 41,
   "metadata": {},
   "outputs": [
    {
     "data": {
      "text/plain": [
       "array([0, 6])"
      ]
     },
     "execution_count": 41,
     "metadata": {},
     "output_type": "execute_result"
    }
   ],
   "source": [
    "max_pairs[0]"
   ]
  },
  {
   "cell_type": "code",
   "execution_count": 42,
   "metadata": {},
   "outputs": [
    {
     "data": {
      "text/html": [
       "<table><tbody><tr><th>Magnitude</th><td style='text-align:left;'><pre>[1.4298022125781427 1.5060004722702336 1.6863101013212674 ...<br> 1.8300611459902283 1.2458154349050328 1.392606254657962]</pre></td></tr><tr><th>Units</th><td style='text-align:left;'>nanometer</td></tr></tbody></table>"
      ],
      "text/latex": [
       "$\\begin{pmatrix}1.4298022125781427 & 1.5060004722702336 & 1.6863101013212674 & 1.89341918808217 & 1.1024484644691859 & 0.9249814713930863 & 0.8888898926800729 & 1.0229242145029689 & 0.9609540065450781 & 0.8911403223760836 & 0.8291672838663332 & 0.8148359397458627 & 0.8993172850546325 & 0.9244076377178028 & 1.0283987667571515 & 1.0350444792590712 & 1.1986305962234753 & 1.1764120086860177 & 1.1844748989767644 & 1.7794194493329931 & 1.3417264959404327 & 1.3523959275806012 & 1.5276405572105245 & 1.2604908890264386 & 1.2008248636277465 & 1.4387432161801306 & 1.2608331074159607 & 2.0676871586133743 & 2.021377157863496 & 1.9146173931952226 & 1.8299977138706698 & 1.496858172183875 & 1.7748612594810815 & 1.8067589310847672 & 1.2593955023999015 & 1.9581879627730696 & 2.0383139183068613 & 1.7382122133059983 & 2.06877762300261 & 1.5548909940280469 & 1.891539417339944 & 1.9164604865386874 & 1.7995248658296832 & 1.7443537164772414 & 1.6230337539340463 & 1.5633389620281257 & 1.3648248139028551 & 1.5074445452833825 & 1.0205515596449855 & 1.1397443537618999 & 1.6010362718755637 & 1.7688382024716682 & 0.997482229739601 & 1.487679556369231 & 0.8396056048240896 & 1.0617324827338432 & 1.2024649032739632 & 0.8498421199169809 & 0.9098479148117887 & 0.9508158327489693 & 0.9538226243573392 & 0.9018081215878136 & 1.0243051646067907 & 1.1847857642557733 & 1.7511162584427613 & 1.9619428245276334 & 1.8543181274935177 & 2.050412795821831 & 1.6926562716177151 & 1.9582310520358677 & 1.4417354554293436 & 1.680339051007751 & 1.8261491313878482 & 1.3149722259870085 & 1.5983844752467335 & 1.5438767746461106 & 0.9350832369649138 & 1.0061406973461526 & 1.030211675267764 & 0.9489696698467133 & 1.8549885003828182 & 1.9140741217368455 & 2.045154861076695 & 1.565607412927414 & 1.733771965214666 & 1.6922230739702044 & 1.8054625923805037 & 1.862321621303693 & 1.878208782421661 & 1.794286647714689 & 1.4604433020744507 & 1.9426831129267856 & 1.9850620268403862 & 1.928717978478713 & 2.031098999627133 & 1.9880260388142807 & 1.7012034898625796 & 1.932230695232169 & 1.8497206349085433 & 1.9517389802398841 & 1.9998866849668562 & 1.8680153594986393 & 1.8606541938813448 & 2.1081973190373904 & 1.8593183153849377 & 1.4706020267092688 & 1.8576852019379508 & 1.9325181113375136 & 1.0477466509547244 & 1.2383528165110769 & 1.0666774212154828 & 1.0813231239349856 & 1.0725760993671303 & 1.454722696856192 & 1.773091324186941 & 1.8572569991732852 & 1.793845879601145 & 1.9965900604104425 & 1.9740598969758671 & 1.357819584388836 & 1.9804811308585824 & 1.715322081938325 & 1.651893296033066 & 1.8558095280022462 & 1.90447974109736 & 1.7452381847201934 & 1.921440558065663 & 2.023308894299242 & 1.8599038161831305 & 1.8296632209194412 & 1.9053912888230424 & 1.8390028110616632 & 1.709498156788371 & 1.4707409960244988 & 1.837857335826305 & 1.2687488151019242 & 1.5492460393976328 & 1.3188471509468433 & 0.9985866690829475 & 1.7589007983761724 & 1.792183746572853 & 1.5679486118140264 & 1.9402090741337323 & 1.9931379131982634 & 1.9568137931460687 & 1.9739764906635673 & 1.6053168338371004 & 1.9150876241862829 & 1.6552235256438466 & 1.7337149501357068 & 1.2797181478853035 & 1.4454374823829421 & 1.4168616390299793 & 1.0682837897759399 & 1.1664376915179515 & 1.2998444842912962 & 1.8368961686824532 & 1.7887777188849603 & 1.636487229585043 & 1.5124627090022713 & 1.9672988113449261 & 1.7803282864679117 & 1.5769514979335457 & 1.5919783986818368 & 1.4931492461647677 & 1.600275700490925 & 1.2900707147973556 & 1.3990565687232026 & 0.9869705634208192 & 1.611421480794232 & 1.1828727820125708 & 1.5054552300295387 & 1.2322996608160295 & 1.4256434381236365 & 1.4149644973150324 & 1.3504102035932883 & 1.7273179607989666 & 1.6910116227563525 & 1.634336437517111 & 1.8134888164669192 & 1.6772485719393073 & 2.0889392180135626 & 1.8959007089293607 & 1.6210723571285404 & 2.0273478265951037 & 1.8350420714355895 & 1.868878452467363 & 2.036717319406568 & 1.4376057901159025 & 2.0510763011154753 & 2.009407443199036 & 1.9397891132057348 & 1.7584638001115551 & 1.613469560310754 & 1.588182926534966 & 1.4527935895838067 & 1.6597912122955774 & 1.2324296016837262 & 1.0885193422069244 & 1.2276449332014303 & 1.6644668227837727 & 1.573595563550515 & 1.953035313881006 & 1.851690916640088 & 1.4259800214504688 & 1.2382839368848686 & 1.55274795634259 & 1.617908566054678 & 1.8299793005291412 & 1.5522027159753689 & 1.7817734384887371 & 1.570508106594292 & 1.56010146911995 & 1.7183516687033782 & 1.5724364553835986 & 1.4673721154647665 & 1.3886259997532515 & 1.844176393196457 & 1.7047763200223403 & 1.8477485750539362 & 1.7031578551713253 & 1.9425062235093233 & 1.6425822049641228 & 1.7568445530572714 & 1.6643594267218338 & 1.3857968354394419 & 1.6436303877973661 & 1.0943405685732595 & 1.4936396698393852 & 1.647105630599356 & 1.7725837810696747 & 1.6109913637171978 & 1.3726889581664343 & 0.9112943400935088 & 1.108008072935322 & 1.4025355736979448 & 1.2858524885519333 & 1.7159599831339425 & 1.197759537532686 & 1.269682613328773 & 1.3946042549493358 & 1.8892071381324715 & 1.9402618173295714 & 1.4568825657379298 & 1.4939608652799456 & 1.646808053477437 & 1.712499427220713 & 1.4773533206352432 & 1.9602085530539288 & 1.8372962565443058 & 1.8204659576233275 & 1.687411500191045 & 1.4982086507052366 & 1.4673326516939451 & 1.727466537747594 & 1.5136135866612979 & 1.1513442090948518 & 1.248713228696325 & 1.0220861416962534 & 1.0493105504412013 & 1.12257956255951 & 1.1692279557177165 & 1.1545506382901989 & 1.5049065827109214 & 0.930585392819332 & 1.0248088637771342 & 0.7535761586125402 & 0.8221532284549469 & 0.8666352329066026 & 0.8378710949455054 & 0.9825125524244159 & 0.9367299131372713 & 0.9714511611241969 & 1.0544212463634555 & 0.9471498417895613 & 0.9633678954517647 & 0.9924108176998024 & 0.8443560094641928 & 1.0312738011099392 & 1.080948660054879 & 0.8170329644575188 & 0.980466899735718 & 1.1651930689383696 & 0.8924594914005767 & 1.0394926535298996 & 1.1021121803946947 & 0.8031263279405014 & 0.9591907287568119 & 0.9513087926055913 & 0.8345177012770081 & 1.1963859461511543 & 0.8819620092577822 & 0.8372331214368801 & 0.8147559667963933 & 0.9228943732266405 & 0.8894665332686282 & 0.9043889220833948 & 0.8124717903920945 & 0.8350915142920757 & 0.8627344614908451 & 1.1466307689427213 & 1.1167706852398096 & 1.3793549978040007 & 1.8385073140068555 & 1.3239876269006574 & 1.9857927072785724 & 1.9219180256873476 & 1.9233688258484483 & 1.5153992414546709 & 1.6597656268556285 & 1.2899498942080585 & 1.550556295442636 & 1.3691098734974134 & 1.5787857069539322 & 1.9455693213419933 & 1.803012449652147 & 1.8404265016328594 & 2.011147841522808 & 1.896236473128212 & 1.8294394728354564 & 1.768572220355012 & 1.4970081102416954 & 1.4209756572200083 & 1.9733037512190519 & 0.9809299331492657 & 1.1193037925729115 & 1.6142616747818073 & 1.655799708946922 & 1.5013591270001303 & 1.1958914111141055 & 1.3927654349981782 & 1.800472008565995 & 1.9939021852087515 & 1.4981630553377723 & 1.4856760182376454 & 1.4557747343570837 & 1.700116783069706 & 1.362559770035926 & 1.766150755842729 & 1.6791181594189573 & 1.424520068737047 & 1.424197563224497 & 1.6380014571700234 & 1.8641173576580086 & 1.7722690885310366 & 1.7591231666285365 & 1.7115818654326616 & 1.835650187052202 & 1.8385828463026108 & 1.5877609045279093 & 1.7019164796867798 & 1.5469038116430778 & 1.6114657189203592 & 1.7762029484491868 & 1.6677517063345202 & 1.5373936446083847 & 1.6690377385503568 & 1.643150620295897 & 1.542356097073081 & 1.1370718908197242 & 1.5042689481063776 & 1.8295190921903801 & 1.8935495817980879 & 1.9734759503099046 & 1.7551478862370051 & 1.5739648237496342 & 1.8371275285867883 & 1.903977699703824 & 1.57412347858478 & 1.5779541893644806 & 1.6237495205726482 & 1.9984319955276049 & 1.5415316440797397 & 1.116087867396664 & 0.9963476332262423 & 1.0213411981001366 & 0.9742408722609008 & 1.1927889133485376 & 1.8219498381111972 & 1.799341289133761 & 1.8533396330406684 & 1.866006495572513 & 1.4678501105844857 & 1.8029042417711953 & 1.902752484336002 & 1.8845934184382924 & 1.9615738208935285 & 1.698794916428549 & 1.7446125670355224 & 1.4761689704830772 & 1.7369100084903093 & 1.4888847774441762 & 1.251826608659578 & 1.705858338581383 & 1.7231515745748467 & 2.0393926751871088 & 1.5693969929404588 & 1.8882445579175717 & 1.7277097205647316 & 1.5617120036895809 & 1.819121696447359 & 1.7578643109115029 & 1.5453599361179526 & 1.4051405681071767 & 1.4416278415844177 & 1.4267958714653632 & 1.2255132581968762 & 1.589194252057732 & 1.7318716662687434 & 2.0877144933666227 & 1.951098953189986 & 2.111004365375758 & 1.9235432072217293 & 1.3786217676361907 & 1.7921640830498495 & 1.4019104937344922 & 1.0884418257784751 & 1.0722583767095883 & 1.1776669763282765 & 1.1490762998270898 & 1.003377984480056 & 1.1624891283440597 & 1.050397880987464 & 1.1563116285812836 & 1.2005965017242661 & 0.9331345318753668 & 0.8777676649248511 & 1.1451374546119195 & 1.1298694000958929 & 1.058572282995654 & 1.1383985796703986 & 1.2158792856362988 & 1.1047384223940675 & 1.1567107696533685 & 1.0344823629462336 & 0.9022857228421096 & 0.9456329345115476 & 1.644978835237994 & 1.295929199595584 & 1.2802169685717426 & 1.8401048023024114 & 1.525583666001599 & 1.4945976864722195 & 1.5712274534671304 & 1.359523740001155 & 1.2328310574271302 & 1.0823790555459372 & 1.0471603051730223 & 1.3889646635710426 & 0.984127363895031 & 1.0142240063379684 & 0.9288753496962046 & 1.123099873397277 & 1.0025081893700079 & 1.213741856606084 & 1.1609784478977974 & 1.0643080805747933 & 1.344216393453032 & 1.3031050501607255 & 1.890844819589769 & 1.6320533684240106 & 1.7249349672456453 & 1.0183771545109213 & 1.0774913315819952 & 1.4657435991884407 & 1.5943235768256943 & 1.8128837690986275 & 1.5723945260046999 & 1.7799370820998384 & 1.3323233673055797 & 1.9086889503719402 & 1.4634781821663052 & 1.183921402445725 & 1.439291876512236 & 1.2136263129160887 & 0.9576315784344536 & 1.4578388441555834 & 1.541860423974587 & 1.8337942704236216 & 1.5688668155825918 & 1.5190632265764796 & 1.5928373895471046 & 1.633486557722109 & 1.5870037873960463 & 1.7975146553231693 & 1.2172161915585828 & 1.4086492657789955 & 2.008632051578649 & 1.8369522678857917 & 1.9469695699510485 & 1.836966460085683 & 1.714743959234661 & 1.450761748778635 & 1.4740956217149837 & 1.6249602723490961 & 1.21344829633421 & 1.8287868686368964 & 1.4785414945851072 & 2.049734805146944 & 1.7828350100793111 & 2.0379834435857287 & 1.9419221088608576 & 1.4872975329121283 & 2.054699932379859 & 1.701338768819637 & 1.6686729364547956 & 1.49605118377852 & 1.8899238999632573 & 1.8544343103898646 & 1.7037024727561996 & 1.2135976052683937 & 1.0239785966588169 & 1.1354417160380332 & 1.0399629787675124 & 0.9936694035728091 & 0.787668247862776 & 0.822537888322773 & 0.9260055272338591 & 0.8719161922163773 & 1.1490247064955115 & 1.018718044917669 & 0.9741908314527887 & 1.022530403714393 & 0.9722547642681234 & 0.929697900044377 & 1.0909311084165183 & 1.0527429977401441 & 1.0068843429358896 & 0.7853265151298463 & 0.8922434281295487 & 0.852693717235626 & 0.7986658908559996 & 0.8867352295718172 & 0.844604512874397 & 0.9699667986772434 & 1.0076068238038396 & 0.8767643558787025 & 0.9744611865965193 & 0.977632097171643 & 1.239859286000065 & 0.9238025931348196 & 0.9611465395366416 & 0.8959066213560822 & 0.9617705469250292 & 0.8493155721335159 & 0.9611968512585266 & 0.8146154051606217 & 1.0722531764069143 & 0.8655437822505958 & 1.0106152834030737 & 0.9795424935984803 & 1.0585730359654726 & 1.0987869996442172 & 1.1031844224665335 & 0.8733229234770598 & 0.8653742117582338 & 0.8735743754098234 & 0.8911632717257424 & 0.898809189895053 & 0.9516506299402202 & 0.8996627572653976 & 0.8892155358781261 & 0.9252956451656726 & 0.8604801455313761 & 0.8032747441703669 & 0.883800097716612 & 0.8668492656956069 & 0.8738311524528279 & 0.8461399397770385 & 0.9314512223641838 & 0.9372999481954345 & 0.9810408238877111 & 0.9924091884235762 & 1.3138623955709094 & 1.2662396253795587 & 1.6830597209407538 & 1.7543137063981327 & 1.6231019722360567 & 1.4487983433297655 & 1.4596444663185857 & 1.058516560765687 & 1.4092854552296001 & 1.7397610603878457 & 2.0030695380770007 & 1.895378841935069 & 1.5504297260274795 & 1.9348940739930909 & 1.878874677934827 & 1.6637694197731157 & 1.2933456337217835 & 1.4689254544093524 & 1.3962328930641574 & 1.9020034758780517 & 2.0331285768086995 & 2.068094086627026 & 1.928428357118262 & 1.3359229517947757 & 1.1190942787676874 & 1.2556335335452617 & 1.8277862047323965 & 1.4468498914979646 & 1.4038002648278778 & 1.4194487968199583 & 1.7205231250378192 & 0.9747771121454974 & 1.0194707709758406 & 1.131718794675816 & 1.096475177624125 & 1.0257211857881008 & 0.9248685612116864 & 1.3633076223788874 & 1.1818788687597215 & 1.1124228430598164 & 1.2260665553983419 & 1.1920203733926016 & 1.1234840941754467 & 1.0581563231370703 & 1.5058894852422897 & 1.3954704076337792 & 1.4610207389897094 & 1.5943478115504799 & 1.530699433216664 & 1.4651261229105124 & 1.3545769692490568 & 1.5150086250909929 & 1.8032956779163154 & 1.777583733179987 & 1.092819610039235 & 0.9515108444314958 & 1.0571096605528287 & 1.6407629291246089 & 1.6869578238571443 & 0.9195825500373922 & 1.0751309065431307 & 1.0185581173577256 & 1.1550052186094613 & 1.4576892513958557 & 1.119966822828309 & 1.3818213816802136 & 1.9491807847864164 & 1.778533737432763 & 1.9575347184491545 & 1.8766145574373625 & 1.909786318567165 & 1.770611829541378 & 1.8691449322120177 & 1.6250122462837775 & 1.8532804235315934 & 1.5651528528133605 & 1.6836568716444211 & 1.8534010187704133 & 1.7879065262657585 & 1.8221181366967725 & 1.7347885290145422 & 1.3153355855946418 & 1.30529836979887 & 0.9433836799429662 & 1.0792940380122902 & 1.0187953030338117 & 1.1224405092097853 & 1.0590987522626152 & 1.0256958451897793 & 1.0989970680893486 & 1.0559801256537615 & 0.967747274243869 & 1.1447678514358421 & 0.9759438233694999 & 1.015585389263557 & 1.6991686856775872 & 2.0658734345933167 & 1.8785015146650657 & 1.561824906725151 & 1.6492023358996135 & 1.9496012124613868 & 1.94839483458698 & 1.9053741959414827 & 1.7412354577007982 & 1.90711032749822 & 1.6430687755686506 & 1.5915928755871767 & 1.6643629711923902 & 1.76691620279562 & 1.8186346684211074 & 1.7777185988119357 & 1.7825549252256698 & 1.6110468342703057 & 1.6619602358268786 & 1.8716527065215076 & 1.5205461547199963 & 1.756242344480706 & 1.733620478769065 & 1.6544305230592538 & 1.6279086265578675 & 1.7300266299498643 & 1.716606857622427 & 1.576073372917781 & 1.9334926915084443 & 1.675956569552323 & 2.0107498460907167 & 1.3619788072067212 & 1.8646318303233809 & 1.8568650141671346 & 1.9259637614765561 & 1.9527512281139074 & 1.8448223604223406 & 1.9338021355259676 & 1.882417965173119 & 1.6321854457241005 & 1.3764763150965307 & 1.1403463732343082 & 1.0585435901521794 & 1.2024653867304924 & 1.1826226698238995 & 1.3443731968562422 & 1.55579872601069 & 1.148408664659314 & 1.4711450773924624 & 1.1470282880487 & 1.0577114905606348 & 1.2934918315150166 & 1.8974671221206714 & 2.0197535665462483 & 1.753287107214891 & 1.4485584604735078 & 1.4979940713692335 & 1.5110018569017005 & 1.709004549884359 & 1.7032828974284264 & 1.924436073371948 & 1.3320517938366219 & 1.1968628396954455 & 1.2182868270505145 & 1.6703082288287612 & 1.84751828486995 & 1.0436422563156473 & 1.1946697686657728 & 1.096112245061576 & 0.911034397839571 & 1.0657297792132234 & 1.0604501193734266 & 1.222439705872492 & 1.1194119993105087 & 1.122003621335986 & 1.1802204128227487 & 1.1127845788349675 & 0.9385248444335732 & 1.1481133372869177 & 1.0345606722360419 & 1.1165702816796887 & 0.9245873275029792 & 1.0049286631227297 & 1.0083369702170948 & 1.2976287468646321 & 0.9987735446513013 & 1.6315581346963028 & 1.2288131834479523 & 0.8945511222422977 & 1.0084857483499088 & 0.8500043038176508 & 0.9077453066162808 & 0.9318028684459551 & 1.0509104778006717 & 1.7003494897610354 & 1.8099934615370663 & 1.7252024580668992 & 1.6470324078988101 & 1.3892259142046783 & 1.8074107026437782 & 1.708580490146286 & 1.7270633854317823 & 1.6679241148801138 & 0.9298412392721676 & 0.8112478160376785 & 0.9643090870500935 & 0.8090205771956552 & 0.9219204716217798 & 1.1860760212830623 & 1.0941389404268735 & 1.1676846728501904 & 1.1824858402715133 & 1.098587619276681 & 1.1041511341572514 & 1.1566617935919368 & 0.7615367938598864 & 0.801950556813513 & 1.2203498132700736 & 1.5572180252453682 & 1.4090036337664467 & 1.0551321446768445 & 1.2259018274986453 & 0.8954582541972499 & 0.8152477052130733 & 0.7607645741957644 & 0.8266182465966522 & 1.070305198196379 & 0.932350145103017 & 0.8665497400085208 & 0.8084784686613063 & 0.8722336151176412 & 1.2118230358426185 & 1.4309650346054288 & 1.253002296140632 & 1.6094813461380983 & 1.748688165762781 & 1.9241677773179309 & 1.823129596987857 & 1.8863476139276278 & 1.8391284362889564 & 1.520349904424266 & 1.584319778432971 & 1.5328236900397094 & 1.4189046016009805 & 1.6167275496005868 & 1.621281149060068 & 1.1632204421852759 & 1.2713689210659243 & 1.2087544578140765 & 1.4941543828800272 & 1.4977045442175942 & 1.3889548779071388 & 1.4994900588825228 & 1.4102089616022315 & 1.1585347277544475 & 1.6886402832616714 & 1.3515159068448286 & 1.3161767656514083 & 1.4540363665815925 & 1.3159279490742288 & 1.9058685343914763 & 1.3834427903612287 & 1.8029323005102467 & 1.649337197387095 & 1.8852371156492302 & 1.7980741834599672 & 1.6379023638872496 & 1.7284616572355882 & 1.4341481635170432 & 1.0407888163343506 & 1.7965807324191425 & 1.6590379782764462 & 1.5118020872985476 & 1.9459009219575638 & 1.7231408431637807 & 1.4235943525064336 & 1.6151063062237072 & 1.0838039004063325 & 1.3551973944565576 & 1.5374661257227638 & 1.6794374940395584 & 1.5595328717735129 & 1.6151076438393632 & 1.68570890615398 & 1.157603226867496 & 1.4016539388395473 & 1.5433555214275627 & 1.64748266443688 & 2.012802418741972 & 1.9439181470960827 & 1.6981917575488485 & 1.2523712237493918 & 1.4222783714855 & 1.5507691141166124 & 1.639893869303667 & 1.405232372599504 & 1.286504019591955 & 1.2052260321844308 & 1.7412270822560347 & 1.4873658967647132 & 1.7345019182498702 & 1.7758392283213753 & 1.7026510150649234 & 1.914551284274604 & 2.010398470918753 & 1.4979563449771731 & 1.3147384060793088 & 1.698394642372948 & 1.4573288081791431 & 1.391341065149428 & 1.4575167461435012 & 1.778019486101666 & 1.5672243204393126 & 1.280886875353187 & 1.8061449506560567 & 1.935443075658936 & 1.5838590121288714 & 1.4073699008095637 & 1.971506777367459 & 1.8803183931028764 & 1.4227929710579943 & 1.1641676210202363 & 1.5583059801725023 & 1.1722194793806788 & 1.3843665904059415 & 1.64187488022046 & 2.083858088601787 & 1.9392249683244047 & 1.6295258734729026 & 1.8387789579752976 & 1.8906570053222578 & 1.7919724972900015 & 2.059206990824834 & 2.068641278344372 & 1.823802945848322 & 1.9092980991251647 & 1.705692401084155 & 1.8561011590229768 & 1.8561620102710574 & 1.7934250137584702 & 1.8540778350975877 & 1.678052795163839 & 2.021204926907552 & 1.6497036176177493 & 1.9079837074269241 & 1.9270804950928497 & 1.8611060874543945 & 1.8870071324337374 & 2.011842003928564 & 1.7162733468485516 & 1.6184795108673418 & 1.6656080127716004 & 1.3548962858298434 & 1.994792392911353 & 1.8445117835811646 & 1.5313186387402373 & 1.4126871719627005 & 1.7540924912924087 & 1.656217917523898 & 1.7310834413769085 & 1.7586714288918948 & 0.8991401092001675 & 1.7277767935901243 & 1.877070338557825 & 1.462063773901494 & 1.775368775233363 & 1.7635926504955648 & 1.4494387825398447 & 1.9884988836824742 & 1.5706372205764403 & 1.76854033416846 & 1.9354061962107583 & 1.5451201199782536 & 1.8504914751606505 & 1.669058944797718 & 1.7359055169420812 & 2.0355556835822766 & 1.6425451158565862 & 1.749806204976181 & 1.8349633748847878 & 1.7403226040827147 & 1.9522429133528048 & 1.330455970960223 & 1.0653121594572776 & 1.0012028936341704 & 1.2226906043362058 & 1.148337851227743 & 1.0114473336554444 & 1.1713553276569635 & 1.4548714080190315 & 1.4954937114652302 & 1.819235686417609 & 1.0473225769638193 & 1.0128035538875495 & 1.0371671771526896 & 1.0835495110817237 & 1.327372657913676 & 1.0987826635910687 & 1.4286225412432045 & 1.857436769994017 & 1.7225210630116095 & 1.8923299430277845 & 1.7454264564725004 & 1.713980416838624 & 2.004290596701024 & 1.7637927794900803 & 1.8766118586455007 & 2.011162817825732 & 1.7203289899741672 & 1.7833520678291388 & 1.798347182953404 & 1.9213271270872572 & 1.6539522247592162 & 1.9160650799495536 & 1.9005944646274926 & 1.6772270649552776 & 1.7404339918807417 & 1.7869308077260182 & 1.8456397107420053 & 1.3412039307560568 & 1.4287503277957418 & 1.5113262455201366 & 1.365827006950065 & 1.3196693681285714 & 0.9300841946501709 & 1.154457869345651 & 1.2020653147466818 & 1.5440896759447265 & 1.5789777130459384 & 1.6105827982739516 & 1.4822506612807027 & 1.4080742494114749 & 2.0584818846889257 & 1.9212126388145594 & 1.9589875696338934 & 1.9955984789191061 & 1.955868795961039 & 1.8193193080064505 & 2.075566444909459 & 1.8529894626899301 & 1.6886559021379035 & 1.2989913618088975 & 1.3502785646482598 & 1.5948194926611918 & 1.9111542376165076 & 1.893969513603997 & 1.734573320777522 & 1.712764889012448 & 2.001705323997442 & 1.810748818440574 & 1.9048679575818448 & 1.3584987626218206 & 1.3629499380169026 & 1.8935089272391676 & 1.5108357278757174 & 1.452192782487963 & 1.6422302146754375 & 1.8375161282433148 & 1.8899908899816145 & 1.8082630147737555 & 1.5364403198999663 & 1.5595470322709568 & 1.7910297073655297 & 1.931172183408339 & 1.8056869297514486 & 1.911454725191438 & 1.6179967532521973 & 1.8332688920525313 & 1.9331120582540198 & 1.9792904232568587 & 1.909452855171071 & 1.614057212079978 & 1.5430022093336522 & 1.6193485994690606 & 1.107467724808414 & 1.194249631834451 & 1.0484561493904567 & 1.4808911823298265 & 1.492619680302161 & 1.5860256911718507 & 1.4442475338656597 & 1.3038740795942054 & 1.0420032132263521 & 1.394733614184173 & 1.2994272490578342 & 1.4024833830449488 & 2.023863383004262 & 1.2227067419728705 & 1.7765391563308506 & 1.3547980345679178 & 1.3875780406490759 & 1.2952951783256734 & 1.3885296610267994 & 1.5685411618083474 & 2.0174325675781444 & 1.6840782889826336 & 1.6372177722990293 & 1.4894270012194042 & 1.4195133005883496 & 1.571672067545158 & 1.4412376162815663 & 1.4098512034114548 & 1.3853071942488606 & 1.2230500829532838 & 1.9214714108694892 & 1.91117703090631 & 1.9649961450362325 & 1.9243001393179264 & 1.9826113911411176 & 1.9024001726135762 & 1.9621282152154196 & 1.8089898266250057 & 1.854537470874049 & 1.8839285018324856 & 1.7227341220395882 & 1.7562140058202755 & 1.9998300667975182 & 1.7910814029706048 & 1.7357233416726026 & 1.4781332619168681 & 1.522399146060537 & 1.7974319443911995 & 1.8402660955275942 & 1.4361277274221347 & 1.8807629265096693 & 1.5116829441303452 & 1.6720802858110133 & 1.2284243911414843 & 1.3188681374354965 & 1.6842428583498115 & 1.8539249057419138 & 2.0650856317364528 & 1.7959334819379926 & 1.7811712700781446 & 1.373298503136697 & 1.586704031921349 & 1.3389804976632682 & 1.24768684342828 & 1.0761995771734103 & 1.8184608333108434 & 1.9192075799576742 & 1.744046334245718 & 1.7614600970624692 & 2.0354964511811264 & 1.37158824249464 & 1.4272018083147893 & 1.2968064520587752 & 1.14650042795563 & 1.0742010482408264 & 1.5444296917719695 & 1.3709032619916681 & 1.5736080999030064 & 1.9542672414653006 & 1.5722326520710475 & 1.8501450088111622 & 2.005645860810314 & 1.8292953211979686 & 1.6535007195223572 & 1.6963219361456747 & 1.8962593827174592 & 1.8137705883795523 & 1.5623317879424676 & 1.9111112376857542 & 1.9274919366771364 & 1.6167534452626227 & 1.7184774646292849 & 2.0262186024193203 & 1.9446970210342889 & 1.6545099914057033 & 1.6246037933915893 & 1.9424511291824456 & 1.8151166638805698 & 1.8001362849836662 & 1.575335025223257 & 2.0513938732166928 & 1.8403492648148867 & 1.3263395375693903 & 1.5208949982072828 & 1.5256259545122426 & 1.719128233226133 & 2.0881005771070766 & 1.7551326229680277 & 1.8523253266740756 & 1.3875309017269926 & 1.8502507384867855 & 1.5819853770589067 & 1.5456463344874736 & 1.4933442986198155 & 1.669851647066019 & 1.9686263109384448 & 1.6161882772080995 & 2.149492193886413 & 1.4281572844843822 & 1.8788189508562507 & 1.847776707867825 & 1.712641972812931 & 1.4964428832380618 & 1.4353612672187923 & 1.8497008711897984 & 1.6642862631698974 & 1.918953496683568 & 1.6604241844585874 & 0.9938841156489081 & 1.0399682784025903 & 0.9993102986327336 & 1.076007586308226 & 1.2686400112305842 & 1.470856706921687 & 1.3994324816031793 & 1.4263875197959979 & 2.0357998540700084 & 1.8350746011244126 & 1.5081863312292747 & 1.7592336532535113 & 1.7115578539840222 & 1.64382235331859 & 1.9171414152003579 & 1.8237035900965786 & 1.9507108645307871 & 1.9749486970337338 & 1.6550074149445302 & 1.8366385837537584 & 1.8031145669534285 & 1.6472931715290304 & 1.968511173789063 & 1.564385069323703 & 1.5926086779351998 & 1.2139200046026157 & 1.4913019566966839 & 1.0583012038837865 & 1.5248697500712582 & 1.5422015143441552 & 1.7727299380793204 & 1.8635119854207667 & 1.5234410205992757 & 1.675162501036748 & 1.9985672157846854 & 1.8636077490131382 & 2.0758766647285833 & 1.4157538112612078 & 1.9527243727658017 & 1.7004784621800726 & 1.7176893870411363 & 1.480873392641715 & 1.4873885083222824 & 1.9061593851838097 & 2.0301514110342356 & 2.000626792197577 & 1.4834312289010725 & 1.978592688813519 & 1.9182701066475933 & 1.7921512835325368 & 1.7684752012109928 & 1.9698666208291409 & 1.9734710303150451 & 1.8434813110891042 & 1.870379844106812 & 1.935412903483029 & 1.5686636848869433 & 1.9778470075065124 & 1.6892428619344464 & 1.719860478120273 & 1.7663889525430556 & 1.9954676841669952 & 1.9899966834179337 & 1.6998579852159534 & 1.694872133761034 & 1.788377869721173 & 1.8442709413595066 & 1.9864269032325776 & 1.8973693010988264 & 1.9031078793723966 & 1.838136494431517 & 1.609932633453936 & 1.0364473785539554 & 1.080024073970163 & 1.0067520618098438 & 1.2526261005625439 & 1.3782215476473414 & 1.0306214380158027 & 1.0172002623775642 & 1.0600681457151193 & 1.031113940732241 & 1.0020099625757244 & 1.085579735361623 & 1.4798457739802533 & 1.384762795884006 & 1.0660805150598012 & 0.96620592457934 & 1.4928266295209278 & 1.3107221157000244 & 1.868713613113317 & 1.5642071464507874 & 1.5734748359462936 & 1.9273107279656891 & 1.9366062500010208 & 1.8804721564687492 & 1.9045133068731595 & 1.7436032951793916 & 1.7807299405094739 & 1.75082415244665 & 1.8164486306653493 & 1.9963289254493057 & 1.6096218925326276 & 1.792986776645001 & 1.450454593065533 & 1.2903793508221473 & 1.4766049633538574 & 0.9384182434031194 & 1.023191158596137 & 1.1198719609109096 & 0.9016673421508336 & 0.9801121892939109 & 0.9706222511631757 & 0.9948465445487454 & 1.3672581576116052 & 1.099223537166261 & 0.8661259126165752 & 0.8188980171980117 & 0.9552070467422885 & 0.8921316661425776 & 1.1153307471904554 & 1.750819852954364 & 1.758499239972067 & 1.9570961889004554 & 1.3913095748831283 & 1.7664889472467906 & 1.7630784505193486 & 1.5875713730495138 & 1.5517447445393409 & 1.6049901066823324 & 1.4729049247115593 & 1.822066943683085 & 1.617830088103496 & 1.6297255126950203 & 1.5465152077786266 & 1.8811147138434676 & 1.9293409851047052 & 1.7923090943611175 & 1.430466743801093 & 1.341619342573873 & 1.7503253878999812 & 1.6479209870721432 & 1.4937057306577552 & 1.775810101801771 & 1.6257094788611453 & 1.684184778148269 & 1.8889199063214726 & 2.080346556267443 & 1.72169564542363 & 1.83584910692961 & 1.5115915151397326 & 1.8477949028215281 & 1.4880668809639443 & 1.6552878889038105 & 1.5727202462979533 & 1.3606365293794085 & 1.4476508023680539 & 1.4600197271316797 & 1.317528189119925 & 1.3706267952568087 & 1.4079795815069749 & 1.1515024759557575 & 1.4652623395726636 & 1.0581262397102034 & 1.598130279408471 & 1.6176278763925247 & 1.488221112945185 & 1.5795380455363257 & 1.9644289198823217 & 1.4031485114428355 & 2.0448676439636544 & 1.814215580835378 & 1.3198243160365455 & 1.442410911102631 & 1.1631949824398056 & 1.891578477529606 & 1.666466567955905 & 1.665870025234545 & 1.0806507140722013 & 1.1302892429588436 & 1.0328296179671437 & 1.1506901998391617 & 1.487574666051184 & 1.773385131950331 & 1.8549521483707576 & 1.457768940066415 & 1.5459385923401332 & 1.5694989648127744 & 1.8584917254536872 & 1.9272825906580642 & 1.752177176794703 & 1.9079526121994026 & 1.9238668153209566 & 1.7158243394220118 & 1.790389568155609 & 1.998657148391767 & 1.486831439233335 & 1.6827811137334878 & 1.60592840676805 & 1.847002696115104 & 1.9358213410258134 & 2.0403773046188043 & 1.0825442939430918 & 1.7566544721768527 & 1.2628990627065164 & 1.1812167379025518 & 1.467019021687631 & 1.7126751621456375 & 1.825994303868809 & 1.2955014693561961 & 1.1646463616585307 & 1.0299217122768591 & 1.0442855075877107 & 1.7019105133201478 & 1.5829936654926136 & 1.4295005402973573 & 1.3367875109224145 & 0.9494494511156008 & 0.9511062594657138 & 1.390613277026711 & 1.2772536906173666 & 1.3864718020639897 & 1.3181413756029012 & 1.344499387561245 & 1.2459090097389964 & 1.3129143766477758 & 1.7047037187082503 & 1.5476963513799395 & 1.7157450915063654 & 1.4470323215194965 & 1.3933268381277408 & 1.7610822159100417 & 1.1586395572104322 & 1.089233896178091 & 1.8589401552593634 & 1.474956334305363 & 1.6188649879471573 & 1.8626149770930363 & 1.634878658701646 & 1.5394592890904888 & 1.7450163474943186 & 1.7355002385146843 & 1.1037740317575988 & 0.9690160579934703 & 1.4959665119142433 & 0.9134189078207505 & 1.237954723253188 & 1.073683916760154 & 1.1815822864202394 & 1.1785857000618822 & 1.682634658960689 & 1.6846712397724177 & 1.4555036665578098 & 1.946278597309856 & 1.7098981599849639 & 1.6724122222379327 & 1.2298098987091821 & 1.350485126350609 & 0.8883355537783916 & 1.218066143281213 & 1.106728192464215 & 1.0442645198486045 & 1.4526732666045632 & 1.6990653917833747 & 1.9057857266669622 & 1.7141258646302155 & 1.4870585007277302 & 1.4370826071954714 & 0.9854990972741944 & 1.508120677687309 & 1.1169354843715278 & 1.4286709298638167 & 1.3343521288245885 & 1.1416783086333422 & 1.1320946863179702 & 1.171755811015627 & 1.4978092465949997 & 0.943921618016004 & 0.862137120129364 & 0.9315042111598791 & 1.0033853477690233 & 1.6657918894871655 & 2.0188452465771554 & 1.6659714757820174 & 1.383008222211468 & 1.1570121462210516 & 1.3098827894881444 & 1.1704634750560272 & 1.295267995590509 & 1.6787528428146388 & 1.5632918362303956 & 1.5158925023158352 & 1.1637759884647279 & 1.2858756432578198 & 1.7816130749561092 & 1.6274994079424945 & 1.5420931637708912 & 1.96980263294187 & 1.8795602858100091 & 1.4047952051259196 & 1.6879608440167355 & 0.9844789454796259 & 1.3374533382382316 & 2.098630754358573 & 1.42916022561457 & 1.8654676324498438 & 1.974776532001761 & 1.2228425523452178 & 1.4976823564906838 & 1.5713074578413453 & 1.5602345279855139 & 1.5007396326315772 & 1.2553989530815255 & 1.9104346972663027 & 1.762012656030662 & 1.4453015957052937 & 1.8315622204838538 & 1.9093819655545856 & 1.8015377830020989 & 1.703427485042008 & 1.860731218422721 & 1.763566409427134 & 2.068895397617109 & 1.7833176404222686 & 1.6093109819691742 & 1.389206224693012 & 1.4564687753840915 & 1.524033031944888 & 1.1285282535508383 & 1.444674934929409 & 1.0439247549154964 & 1.319799826818243 & 1.4914377171029325 & 1.3704081578310194 & 1.2817554242569422 & 1.795424574448134 & 1.555504948861718 & 1.5510378561989049 & 0.8645491735137871 & 0.898750958335058 & 0.9939167835713598 & 1.0286659674781933 & 0.9492245495711921 & 1.1481910937461977 & 1.25112713232937 & 1.242877137659046 & 1.2472636251869507 & 1.9765331961435784 & 1.9900500517085098 & 1.898654552126638 & 1.5404996532521165 & 1.7755216810244077 & 1.8214137113667224 & 1.8843902298543416 & 1.6920368745272205 & 1.81727877582928 & 1.398070275470432 & 1.6301824601211226 & 1.2905040305986724 & 1.2977154317473223 & 1.3029595683332176 & 1.8081242414225804 & 1.612474169099461 & 1.415177181919477 & 1.5434762815869525 & 1.5243245097728604 & 1.1846842682511063 & 1.4099352090977002 & 1.4289273208714282 & 1.0178132260466521 & 1.399381705722438 & 1.5513925893128098 & 1.4694970006483195 & 1.3735943915523245 & 1.7251808854642314 & 1.8390181409269037 & 1.797059521146718 & 1.081825941035613 & 1.8547920858061366 & 1.7817465655998566 & 1.6586742037271804 & 1.5778244231066083 & 1.1097154341756292 & 0.9314748286282925 & 1.4051282382431611 & 1.8512678393544315 & 1.564825104451018 & 1.6542633218916638 & 1.5687452474209476 & 1.5855419033808247 & 1.9630095889205017 & 1.2250977182291856 & 1.4324024072637827 & 1.3369007487265776 & 1.1804400795126353 & 1.1920848042541405 & 1.7161301285824537 & 1.7375907183514299 & 1.9087468205039695 & 1.8922880597691714 & 1.7627091615082544 & 1.8641906254379703 & 1.8064764486519826 & 1.8879564557518422 & 1.9352139725378814 & 1.9581484035407326 & 1.8989540735490562 & 1.7195711931319948 & 1.7986167651004636 & 1.7758901582860172 & 1.944096942708387 & 1.7734528191499404 & 1.8441107352239374 & 1.1542485548591515 & 1.6271593354020908 & 1.76517847666579 & 1.052085120960208 & 1.4356702486192399 & 1.1657768912009308 & 1.9063834903877939 & 1.2663518935538578 & 1.1990718604856132 & 1.6893835427700525 & 1.3180753333556272 & 1.8644663606072065 & 1.7665468230787231 & 1.199927592502303 & 1.15988710332497 & 1.4556700094036055 & 1.8476225273378437 & 2.0911211161603567 & 1.4244316066699598 & 1.105940301491716 & 1.1469801793802685 & 1.1290692884910438 & 0.9927823979174321 & 1.4598072429188804 & 1.8160117969326892 & 1.5806892899404759 & 1.4654816517203366 & 1.9939328009807207 & 1.3501215156189117 & 1.1573883280788462 & 1.1893261387816745 & 1.197061662388168 & 1.3681922726180464 & 1.6932095617040928 & 1.6085547842804389 & 1.7810875036480798 & 2.1252270030738045 & 1.919399434756753 & 1.8690749394884907 & 1.745324171509996 & 1.9765210608294925 & 1.8160741343872604 & 2.021309772595082 & 1.6007057351226386 & 1.726385260206974 & 1.658583812597849 & 1.3541489099558712 & 0.9352392954724322 & 1.1567436327044218 & 1.055305988059195 & 0.8726973288829 & 0.9132841177760328 & 1.1136092163399758 & 0.9837589344050567 & 1.0130962745402647 & 0.8472143408095812 & 0.835022123240117 & 1.0618239749713492 & 1.0353649302491785 & 1.0120675069196963 & 0.9959540952342671 & 0.8682977888121955 & 1.121454236149312 & 0.9311205537141499 & 1.1487126948782853 & 1.7779519323210484 & 1.874524004411382 & 1.5922843710860788 & 1.5497938154539153 & 1.8627678496765936 & 1.9191006865243774 & 1.6083984213982436 & 1.6469097706838363 & 1.8803933158635173 & 1.4874057409160044 & 1.5743245315568917 & 1.8877727248484444 & 1.9055807467119086 & 1.4101999434718155 & 1.7091453903235458 & 1.733159724389306 & 1.9425488460296108 & 1.8037931772247386 & 1.520101141709326 & 1.2892897048859961 & 1.5470755574749089 & 0.9931394494821981 & 1.1065795176353026 & 1.290558973599481 & 1.1236370571950105 & 1.2122565974347372 & 1.1049478239632688 & 1.0930995667264236 & 1.09623052348313 & 1.2089515167241454 & 1.1868467092195594 & 1.1034074628561503 & 1.1533909845307189 & 1.027572110982904 & 0.9924130158373534 & 1.130962190572376 & 1.1520691740083475 & 1.3235929448876431 & 1.1511995548090208 & 1.064691330944268 & 1.105822219347998 & 1.1295576828932332 & 1.656547812193067 & 1.8900720243034452 & 1.9360176075902888 & 1.899512209507013 & 1.7702024923146638 & 1.6769534903217962 & 1.3369869621175923 & 1.1312817007894211 & 1.4661905478908257 & 0.9833816250700275 & 1.4043293370877932 & 1.9947089279509251 & 1.7283954146783513 & 1.2471537504379246 & 1.7090889083015028 & 1.810782185563295 & 1.7664768257946577 & 1.5690821513106945 & 1.6720799531507275 & 1.999142812303978 & 1.8661490630511226 & 1.542803368067162 & 1.5248476730273222 & 1.6401140368632057 & 1.7413421609477278 & 1.796857664047319 & 1.8763856486341859 & 1.9586157534645765 & 1.8344359805001265 & 1.4702807496705277 & 1.2893222078590891 & 1.5402596140117495 & 1.0491324204731594 & 1.318980973550159 & 1.2298314491497306 & 1.999951525290319 & 1.8855668028399064 & 2.005055752429761 & 1.8651985902037769 & 1.3327124621168265 & 1.033608584973414 & 1.290328854005684 & 0.9673394805650931 & 1.0186221742372168 & 1.0589403624701497 & 1.0283877823594159 & 1.1187297128374587 & 1.1084670023877237 & 0.921910911483368 & 1.100871147443169 & 0.9928071047453295 & 1.0377974527429394 & 1.0077354019302636 & 1.9771525529030234 & 1.524135017319986 & 1.8926882195146704 & 1.9053638905768244 & 1.5224798331661176 & 1.702227374359386 & 1.6197194830664705 & 1.615299530287487 & 1.274319875268217 & 1.0416881702194876 & 1.306312266806378 & 1.3993393489738362 & 1.2990597616118926 & 1.6629035861198733 & 1.1837812288374239 & 1.6198318247590806 & 1.5379181076086816 & 1.23480465106762 & 1.1067714960989643 & 1.1587670563616963 & 1.3937566560243158 & 1.68591071231321 & 1.089471780370213 & 1.036138759713958 & 1.3095372950423327 & 1.4777898804309335 & 1.5994180619662837 & 1.938858420888085 & 1.828085187654006 & 1.27756498387752 & 1.9168174061293441 & 2.014969313761148 & 1.7571734863594353 & 1.468886035092757 & 1.9530922011131053 & 1.8025675652366866 & 1.718999716241051 & 1.9345701560839006 & 1.9093418643641105 & 1.8901864998114737 & 1.881357128526148 & 1.724350846534867 & 1.3753387608540326 & 1.509041120296958 & 1.6720902738752357 & 1.4308697447989935 & 1.9392189490162965 & 1.3631263763127506 & 1.249735846763821 & 1.933667266992434 & 1.810484555652516 & 1.2963024097780251 & 1.6468002945560185 & 1.3565239414111674 & 1.5993782202559839 & 1.5096055017427625 & 1.7931578292208292 & 1.5776567910332988 & 1.4458839842374214 & 1.7086394737008053 & 1.8944125443537412 & 1.336833027182054 & 1.2864512836122894 & 1.3625509070270605 & 1.9127105194317826 & 1.761177179478419 & 1.5868380245639588 & 1.1158605384392408 & 1.4550396439697273 & 1.8819401648710765 & 1.7000706309148026 & 1.4439899888433378 & 1.721395181693709 & 1.8473971193781786 & 1.8024226524679814 & 1.9404291539888916 & 1.9701744242968364 & 1.6390908440292433 & 1.8571104472252542 & 2.0405904739371428 & 1.6312458321182295 & 1.7928753856840813 & 1.6304911736404648 & 1.7260011179957946 & 1.5827672725776565 & 1.2425018955551037 & 1.3742569913104963 & 1.7026332978244816 & 1.7598745356399363 & 1.5279527189091513 & 1.949056949740184 & 1.9374776776854115 & 1.6426291834291782 & 1.917578673917078 & 1.7472518786006916 & 1.6829360895706904 & 1.3013030424951906 & 1.5623910821425633 & 1.7076885340994858 & 1.8358316611882173 & 1.6018503827889434 & 1.8656904359056743 & 2.0202342953686365 & 1.885446110240868 & 2.0754188336366814 & 1.6113593601433551 & 2.0084325327902643 & 1.378410687815099 & 1.2678890663396611 & 1.4412752912683746 & 1.6120585279330517 & 1.8184929739713018 & 1.6562663028458307 & 1.6559178762692988 & 1.2622068323417084 & 1.6397215090259918 & 1.6083734585133194 & 1.6213097515706656 & 1.810756607637286 & 1.7142401731808623 & 1.4555868009518456 & 1.7551006245627805 & 1.7220978189748055 & 1.8157898222100626 & 2.012800872598195 & 1.916187032950183 & 1.647894021486489 & 1.811069279457473 & 1.8349603394121932 & 1.9345421217045422 & 1.455196771230628 & 1.0976872683613528 & 1.6368217945556969 & 1.9022526022889172 & 1.4735327371810831 & 1.7352304786379382 & 1.8005403586726174 & 1.994079586814525 & 1.8034426217822688 & 1.9901869291515615 & 1.5752693579181427 & 1.7793615198634665 & 1.8876968928728612 & 1.5831615469099378 & 1.5053888348044075 & 1.6743210820319958 & 1.9695991444436753 & 2.1160683416979262 & 1.874952006179895 & 1.4001908287889684 & 1.4310957980627594 & 1.3827025022453452 & 0.997794817825486 & 0.9030025829318519 & 0.9046610869330043 & 1.066217894994167 & 1.0256408621729363 & 1.0131252728850144 & 1.122596698745966 & 1.7151477876838082 & 1.8746846521681781 & 1.8309072270510596 & 1.7827896504682297 & 1.9626622793662298 & 1.6732098229585906 & 1.6779236421052797 & 1.476784930852199 & 1.4268267693297099 & 1.7754193231686026 & 1.9825556034233673 & 1.5082747187320455 & 1.2889388344124741 & 1.933970225779247 & 1.5336757200829452 & 1.9462992582986547 & 1.5515514449099803 & 1.2355996306129378 & 0.898377113778132 & 1.3145147123803427 & 1.5809340848598863 & 2.0144153840689083 & 1.8710477161204007 & 1.49690174141751 & 1.7330840636882043 & 1.8066356049223788 & 1.5868863059575642 & 1.4682267236865418 & 1.3123292965315767 & 1.6752196288606407 & 1.2506348377226717 & 1.2702346404769695 & 1.1707081603650809 & 1.5082196574991609 & 1.2670013753178104 & 1.8212471649231639 & 1.471708197795239 & 1.7394070247645164 & 1.6025369222043848 & 1.4826649845695858 & 1.5101551096566814 & 1.1534953087670203 & 1.523296161016375 & 1.76705319010883 & 1.6941166011321434 & 1.918888181736627 & 1.6571774710168687 & 1.690619139523642 & 1.7254821947521115 & 1.5652159876757108 & 1.4500835575423658 & 1.6430121992772815 & 1.3866271189212716 & 1.6272053177753325 & 1.539693212965077 & 1.6109030125167074 & 1.059273635856067 & 1.0993162280680462 & 1.336642152929956 & 1.9582605912861997 & 1.7341135861067443 & 1.6055336832087688 & 1.5423990267012042 & 1.4295718601683634 & 1.4415521408136638 & 1.6341797314815236 & 1.8081292854125897 & 1.5160518155773892 & 1.8106095042414774 & 1.7255012227464115 & 1.341317728207635 & 1.7737329122461887 & 1.8681634275347387 & 1.0443970169153032 & 0.9418196967480658 & 0.8970518496221173 & 1.53704270707958 & 0.9343519969100083 & 0.8453447219969499 & 0.9204694302360827 & 1.1396375866571256 & 1.0993650389978977 & 0.8616735260881413 & 0.7548299919455091 & 1.0244635287759416 & 0.8961891487784592 & 0.8043649679667675 & 0.8384371360771112 & 1.1254072031826425 & 0.8854283644243591 & 0.897747336795452 & 0.8711456894376945 & 0.9330934639582694 & 0.9984994150283214 & 0.8621498650814592 & 0.8919323359379643 & 0.8597911163736861 & 0.8632480732645689 & 0.9488482606311168 & 0.8752110177711645 & 1.0200419230085422 & 0.8928629858770342 & 0.8698084747199678 & 1.2131053978351154 & 1.2307560674471223 & 1.283448376942963 & 0.7962792541753073 & 0.7694516055272961 & 1.0735181688061375 & 1.0546086420429766 & 0.9876213722329983 & 1.452002810749631 & 1.5839122764700957 & 1.9232414800553221 & 1.951931898768176 & 1.6717825067075747 & 1.9423560197515934 & 1.856087925900033 & 1.8147933638038947 & 1.3862586226449962 & 1.948911164730059 & 2.070177564085247 & 1.7885302432088326 & 1.6739836642894945 & 1.9524122704068907 & 2.0150963629732046 & 1.8664800269403403 & 1.76727261383496 & 1.7398197790891627 & 2.050353567987184 & 1.452020027258232 & 1.0949805342910364 & 1.0941914328181344 & 1.56146134897279 & 1.6883592243187726 & 1.413100486837859 & 0.9906737746461791 & 1.5489121757492779 & 1.2575725968977511 & 1.8394627920709514 & 1.895276363022853 & 1.6795498950200742 & 1.680029940060171 & 1.7606473596444074 & 1.34911065268793 & 1.8371955420851032 & 1.5787430573409131 & 1.3248509547304432 & 1.42875660405108 & 1.4312038974791805 & 1.4750325878905304 & 1.6555986358073413 & 1.8254217035348657 & 1.854539831396758 & 1.785905804558182 & 1.637529187725934 & 1.844531710663693 & 2.033365344273602 & 2.1211000592227345 & 1.4998809847427477 & 1.5080736676083693 & 1.6915298521510005 & 1.9916497995087992 & 1.9286243988167675 & 1.5779464922842255 & 1.3348704964292524 & 1.0324481800511525 & 1.3427061587962186 & 1.3493345621381818 & 1.4220873289495592 & 1.6182235075884346 & 1.3269665894580014 & 1.696055071146878 & 1.5733220576808065 & 1.5076873030049036 & 1.4161761966682587 & 1.2649480853978659 & 1.448558073512346 & 1.6283150192491087 & 1.5532270191635253 & 1.1752994840113884 & 1.22531756502953 & 1.5605175541139558 & 1.5710847633125662 & 1.581919449228964 & 1.7884006918504907 & 2.0972902234127413 & 2.1004444573009184 & 1.8628785394932033 & 1.8638346730218556 & 1.9839272701138826 & 1.9057436123277278 & 1.8357891195217693 & 1.584253634097294 & 1.7410487558074326 & 1.2838457389471298 & 1.123459182634913 & 1.7544773463745562 & 1.8708623818566663 & 1.1841604294527588 & 1.0325416033478476 & 0.9935963867561416 & 1.2154899143709506 & 1.5822655738995182 & 1.5831496497255582 & 1.5744013646392327 & 1.2302293973072307 & 0.9750500445907063 & 1.589909777142215 & 1.2452810200056263 & 1.5952704978418797 & 2.028118786636142 & 1.2138424708610684 & 1.889320548425284 & 1.7491695790899675 & 1.7031530369086572 & 1.684739029504393 & 2.1052184978413604 & 1.8302374194266928 & 1.8377570973967627 & 2.0540161841066973 & 1.7139844394153634 & 1.699461859137517 & 1.5650307563594275 & 1.8385455612929995 & 1.7726362949923138 & 1.6805777131815283 & 1.3235953379485674 & 1.9083291386904568 & 1.8095447906008681 & 1.780727309845014 & 1.705508307999603 & 1.6477203721681686 & 1.6634755476286098 & 1.3873713228688596 & 1.0996224801693637 & 1.2318579983621227 & 1.6945301405177 & 1.744919913573655 & 1.6478583992475755 & 1.71688318312878 & 1.9027801522991472 & 1.9836862174841685 & 1.8420742407584803 & 1.9241472041835828 & 1.8310039273149217 & 1.8219544161471004 & 1.4850106918454478 & 1.8549130808949552 & 1.765177688423836 & 1.9477288286882333 & 1.9334074579847316 & 1.9132418716636548 & 1.3948731935166256 & 1.1376637055076215 & 1.1985739494739798 & 1.7107031478314887 & 1.952950549172439 & 1.222502529617116 & 1.6195864090257557 & 1.6965867589088708 & 1.959611648506649 & 1.8859706069605837 & 1.7623540579891521 & 1.773725708891624 & 1.3342614527468242 & 1.2523825820577386 & 1.7392348166249314 & 1.629166608669491 & 1.3826956496005922 & 1.1782918346038165 & 1.7123980720623733 & 1.7822700426662152 & 1.8847960727356712 & 1.8902579925156566 & 1.5230440415328659 & 1.5665785251249476 & 1.378282574223013 & 1.1614919916118849 & 1.062254001574737 & 0.9470903061128557 & 1.6435426946248128 & 1.6311405029720416 & 1.7790595575661559 & 1.8092520711156803 & 1.802037913054936 & 1.8912397544668 & 1.6651517764333512 & 1.5057347931095406 & 1.9106741792085282 & 1.5953128495556412 & 1.889741682636871 & 1.8349868522409993 & 2.0254381521784075 & 1.9325910760345872 & 1.9603009729291834 & 1.705040709260976 & 1.4991255081309331 & 1.6101429074824647 & 1.6722281683843727 & 1.8319362380269204 & 1.783157991944465 & 2.0664591179094254 & 1.937994001140496 & 1.6111147999337234 & 1.4162545529024617 & 1.6482110990357852 & 1.399031216293754 & 1.6136145506886526 & 1.877216041777874 & 1.645634454799858 & 0.9647380246036614 & 1.5078039317503324 & 1.227978858286148 & 0.9773200420206962 & 1.0940320074016305 & 1.0647184599350512 & 1.317441384461279 & 1.4532646661690654 & 0.9883435804265984 & 1.129236905025266 & 1.4251990998547062 & 0.8271318573057265 & 0.9758740079661128 & 0.8377559856415292 & 0.9386756271244964 & 0.9713824884723231 & 1.1922130254969936 & 1.4595068464959227 & 1.0705766943554262 & 1.6420752480669483 & 1.9234073902432898 & 1.6456604174793739 & 1.8397737431598256 & 1.3566577815836953 & 1.5336753676883708 & 1.3083508669906423 & 1.4451674633001306 & 1.2459893099576325 & 1.2105259618884627 & 1.2652223122699124 & 1.6946994988086597 & 2.0854351294384976 & 1.8476965512492833 & 1.7228662180473315 & 1.7068804661506576 & 1.7034241371482035 & 1.780688929251858 & 1.3735382438803678 & 1.1737502855840802 & 1.2114104000491341 & 1.8765826851678826 & 1.5409110401252122 & 1.5214823548262792 & 1.8927476309172049 & 1.8250796219657486 & 1.7442394130422199 & 1.869536261772611 & 1.7500892000602184 & 1.4693610524834153 & 1.4506870146763606 & 1.5413542061328627 & 1.6451154901693645 & 1.9202483490485593 & 1.6545118383390203 & 1.745087652937508 & 1.0472712831361326 & 1.0852595809173322 & 1.0743774564271331 & 1.2800865061823197 & 1.8174515443291481 & 1.8956908475398273 & 2.0882175530282043 & 1.7723799288296345 & 1.9588783693448688 & 2.0194970141506716 & 1.9473072217918868 & 1.9022123531457735 & 1.8906860378589527 & 1.3104046842396333 & 0.9374325484784075 & 0.9173462890630328 & 0.9649362319083458 & 0.8633246240432212 & 0.882760069265704 & 1.1833209546299939 & 0.8574579669600056 & 0.8626678157410979 & 1.0082332729005605 & 1.0214810111318298 & 0.9556435108530105 & 0.8612784425450181 & 1.082912517912314 & 0.8397950938132285 & 0.861430533498755 & 0.7863678572404532 & 0.9881361618359987 & 1.1938167323316824 & 1.0625564706822561 & 1.0319738163447503 & 1.0138662548705022 & 0.8358880033877704 & 1.0533545500947477 & 1.0524668297515922 & 0.9451892454645433 & 0.8560970606445321 & 0.9297586430184284 & 0.9221698586047868 & 0.9739064380473534 & 0.8151869357204378 & 0.8730826456084317 & 0.8323223211624244 & 0.8462103462182228 & 0.9811800998636471 & 0.975153737380829 & 1.082470268049964 & 0.8030656737527697 & 0.6997188118323369 & 0.8412310370469004 & 0.8790657772667162 & 0.9215533992392697 & 1.0690933475944493 & 0.9102474873544072 & 1.391625932973622 & 1.046487894401177 & 0.8065334116634357 & 0.8360268046163588 & 0.848384018247446 & 0.8169091161059729 & 0.7826493283453263 & 0.8456168454680179 & 0.8220009423663159 & 0.9185625363045111 & 1.0966053554733972 & 0.9515624163792836 & 0.9883789437102498 & 0.9729432603175281 & 1.4558370903183575 & 1.4639031932914783 & 1.6642059368598836 & 1.8233757192867406 & 1.8833830297394907 & 1.8299438447290288 & 1.713953993286958 & 2.0528727089270022 & 1.992156565074581 & 1.9623316439574467 & 2.0429988653783027 & 2.023622205139382 & 1.7564850561321468 & 1.330632512791455 & 1.8986594222313415 & 1.8179666838283564 & 1.0942929852480672 & 1.635529483798663 & 1.6296219177068503 & 1.9051879761249282 & 2.0145514991968168 & 1.6141931444420365 & 1.008390657353989 & 1.4855479411158152 & 1.6252066207149016 & 1.577943205276974 & 1.7676604956834352 & 1.92413852392881 & 1.3695295929736417 & 1.5521158808169244 & 1.3314957652508363 & 1.6923668477584812 & 1.2930939650673174 & 1.6728462548851375 & 1.874804716124746 & 1.8845750888515784 & 2.050192910154504 & 1.7668429441070805 & 2.015632888623964 & 1.2375162953456607 & 1.6150944314167066 & 1.7925485617942523 & 1.635217546127757 & 1.6459934237037148 & 1.8168185570885105 & 1.9617872228013944 & 1.9936788730121007 & 2.0615149880977737 & 1.5948678773621479 & 1.8318814205668397 & 1.7462254338870054 & 1.8015264765957935 & 1.63515043021631 & 1.9724342358127045 & 1.8450516279714648 & 2.0603706207290595 & 1.8527607921176608 & 0.9819121385914137 & 0.9022955789554119 & 1.585380421075159 & 1.924456068260779 & 1.6274982040155235 & 0.9067382580960625 & 1.1582654319834131 & 1.308904163135676 & 1.1917165990965541 & 1.764692637965701 & 1.6998116720334098 & 1.6816522631001725 & 1.3014038843576734 & 1.6461677025266455 & 1.6488140878750346 & 1.20753176942195 & 1.284192314292989 & 1.0476845577771952 & 1.1892917647710086 & 1.3852343395476903 & 1.1281579176429266 & 1.7043758757360186 & 1.8170471645889774 & 1.9537021898468943 & 1.472518829340889 & 1.8266458875804397 & 1.446190922037004 & 1.6717894761278318 & 0.9832474384253416 & 1.210100179129703 & 1.2341364151163836 & 1.7881730444928365 & 1.0768563722875548 & 1.1371853009831556 & 1.1170921069513984 & 0.8734074299501866 & 1.580300374847564 & 1.720013671719982 & 1.5640121449610234 & 1.9046944234157823 & 1.694123916779773 & 2.0473049989316583 & 1.941019274429363 & 1.4590740098816766 & 0.9850484012751052 & 1.2358666923907793 & 1.6899461467604304 & 1.6416730555021486 & 1.747078087055919 & 1.5752317671214668 & 1.4362097200816264 & 1.1953120955302947 & 1.223421946100146 & 1.191268572191468 & 1.8500452205013336 & 1.8244405842606581 & 1.815403706581904 & 1.9030238594216187 & 1.6667622322650315 & 2.026393790919713 & 1.7248085504903032 & 1.631688267542896 & 1.9732747517690912 & 1.8696363377268834 & 1.8270854216116599 & 1.596296724408641 & 1.7784615261231662 & 1.8870789166592186 & 1.787442594922092 & 1.448754217570342 & 1.5246916903864627 & 1.3303958357712509 & 1.3057442892438078 & 1.482226583619598 & 1.956180183375247 & 1.9636469815462312 & 1.8055160066148312 & 1.904085190983068 & 1.5860707263554852 & 1.9128979968026543 & 1.6839289463852838 & 1.5178193494211378 & 1.7868239953810665 & 1.3393233292630256 & 1.0657472181912497 & 1.3956863797569803 & 1.644490887275425 & 1.2170758031145161 & 1.8516099930087055 & 1.8936029829699728 & 1.5069019819275218 & 1.2902896566620725 & 1.37733654080577 & 1.6057246804865055 & 1.6823309100496018 & 1.669538578869081 & 1.8933225623458039 & 1.859859631514983 & 1.7783378891459631 & 1.7184222976981234 & 1.8502218238145673 & 2.0396679457483353 & 1.9324366854597228 & 1.264323852982865 & 1.4593612863919772 & 1.6238281592007013 & 1.4530224494014476 & 1.4283377163862108 & 1.828765340546093 & 1.8591165830307552 & 1.8634953208149445 & 1.874603893183841 & 1.7937231009174062 & 1.908155140738264 & 2.0585313711834514 & 1.9717749342072952 & 1.8295740761550672 & 1.9321295808224097 & 2.085131083622585 & 1.7281831803809147 & 1.6600191789216823 & 1.6284458497077436 & 1.8784361698193608 & 1.4963848192177476 & 1.8197538769998547 & 1.639342090779906 & 1.5264666547658088 & 2.0709681586324984 & 1.3369973770793617 & 2.000816459885886 & 1.3609853957659024 & 1.7817313339435972 & 1.932911209963804 & 1.9224694002455116 & 1.9898972538082667 & 1.8851670615547325 & 1.8221505905964286 & 1.4369761107390027 & 1.4451462297265303 & 1.1674558261640258 & 1.1177308979194718 & 1.7832359313051052 & 1.9110866351604103 & 1.586846546384378 & 1.7806093295998389 & 1.95320517325766 & 1.820181335819306 & 1.62824950267868 & 1.9720625763966873 & 1.9107354249020687 & 1.29351739828961 & 1.7325211681236437 & 1.5736698168069587 & 1.5634374153136732 & 1.8417679407543455 & 1.1713265922435274 & 1.0249080252922036 & 1.611244620508643 & 0.9805492147272645 & 1.4974421620044047 & 1.3760770723958473 & 1.2667442708322372 & 1.3059088572195292 & 1.5697975093613348 & 1.392952531599299 & 1.2854604410722161 & 1.8515854487424976 & 1.6037946745381757 & 1.0549793010470891 & 1.404936329290535 & 1.3854605122977914 & 1.4144759219334926 & 1.9119642199887756 & 1.2870469030378118 & 1.576740694554921 & 1.3944272364085326 & 1.8141102449325344 & 1.4840750265200269 & 1.9687584172003632 & 1.7216113918271847 & 1.2295597861245964 & 1.528369647357837 & 1.7421498224173837 & 1.5602065874014468 & 1.4973515489501643 & 1.4360195621264835 & 1.44299903117333 & 1.8568456966923006 & 1.6225080354343344 & 1.8439106497203581 & 1.5361130223800301 & 1.4122465710458072 & 1.4670467284048652 & 1.910926954890174 & 1.8326369701859486 & 1.9140690536801077 & 1.378496444705218 & 1.3762571054298565 & 1.1682098554232636 & 1.4529803283033873 & 1.5965728756102415 & 1.0393226554068082 & 0.8454630435534637 & 0.832977304359907 & 0.9034100452368055 & 0.9192263444713514 & 0.8422330596410186 & 1.0251246108623047 & 0.9367671310153899 & 0.7681970759531883 & 0.8387398620317712 & 1.1041622856088427 & 0.9070273762184309 & 0.9216013122744318 & 1.0548479273361036 & 0.8480083708699376 & 0.8757720140302324 & 0.861006513447656 & 0.7806391788757516 & 0.8500156910576769 & 0.7692931795289082 & 1.1184343333558717 & 1.1606692118855677 & 0.7538466027321884 & 0.9998044243514059 & 0.8767544744399653 & 0.973566628257547 & 0.968612842199578 & 1.0358211015356857 & 0.9549292173957967 & 0.9411547546028143 & 0.8896675363913374 & 0.9708630457933402 & 1.0341336155588563 & 0.907766222536919 & 0.9353128595048816 & 0.9840198209054536 & 0.9635263207628718 & 0.9042504903165968 & 0.9201103073335665 & 0.9056658877797046 & 0.9647373111153325 & 0.9361725911683193 & 0.9574463976412964 & 1.123110981855146 & 1.1550343752878853 & 1.0190196195793824 & 1.0608719228877435 & 0.816429047470647 & 0.9155175893236719 & 0.7597485814019909 & 0.905802870321405 & 0.9066159914424877 & 0.8869764958573484 & 0.8395329089468144 & 0.814231900795151 & 0.9846723904089694 & 1.0337398193810439 & 0.882858814996733 & 0.9053816704423986 & 0.8369874149498056 & 0.9003459927302342 & 0.892980491866191 & 0.9656411759402028 & 1.1637822126466921 & 0.910133049082074 & 0.8511426527758265 & 0.9550721546833743 & 0.845043358937522 & 0.7935573415661907 & 0.8638834924204527 & 1.0669459043996452 & 0.9406102365829844 & 0.854889875325556 & 0.8835509717093922 & 0.9912896102941504 & 0.8344761413245146 & 0.9821919850166926 & 1.177093471418959 & 0.8871049273591864 & 0.821519922903707 & 0.8583026629562915 & 1.1064015014375062 & 0.849313756186016 & 0.9128567272134159 & 0.8825080057484519 & 0.854954282840809 & 1.071342607318004 & 0.9111563182924717 & 0.9219225150476027 & 0.8430832520235405 & 0.8822251119307765 & 1.5807907939198222 & 1.4971879379859494 & 1.86499518392544 & 1.5315083159335492 & 1.902234599498587 & 1.7094633080406618 & 1.731565169205381 & 1.9182531542873764 & 1.9029336373352346 & 1.4752519772370818 & 2.034510106696673 & 1.7695192707244092 & 1.692497688542784 & 1.4628843463634558 & 1.8515646326290005 & 1.86082454691684 & 1.7868830563227047 & 1.8198889841506778 & 1.8023453208404174 & 1.1837361567814295 & 1.4219344114174157 & 1.3287340811753354 & 1.1746315233887723 & 1.5683506788001924 & 1.582605787941534 & 1.5763357767947217 & 1.7489773165026472 & 1.666550659868238 & 1.5363147102987489 & 1.430086042393402 & 1.4015680282026606 & 1.2350582547923545 & 1.3650277079979647 & 1.25211573783319 & 1.6524440806175071 & 1.8058462826877286 & 2.0336904276640393 & 1.864900941935069 & 1.7674930211473838 & 1.421008459684457 & 1.6486498957741502 & 1.340916941392068 & 1.1224901162707066 & 1.4873376168283408 & 1.9839218423284548 & 1.7087450369149693 & 1.8605315011485974 & 1.9162854153764792 & 1.7711714110988392 & 1.6403317936166446 & 1.5214898752272037 & 1.5585585608066732 & 1.8208688664606685 & 1.8049438817430736 & 1.739845801315962 & 1.7941651399845553 & 1.7611996367942355 & 1.6117797778032312 & 1.2942540970258036 & 1.717231461906586 & 1.7791861802343238 & 1.743733895353344 & 1.1999798120950131 & 1.418954072313576 & 1.3201067058724227 & 1.1906590809936504 & 0.9098748002817231 & 0.906318569014063 & 0.8235508767362891 & 0.8009554807878637 & 1.053028846549825 & 0.8305758931069066 & 0.9817486794012714 & 0.8546938180060762 & 0.8988601759176802 & 0.8251705350814117 & 0.9084383139288036 & 1.2000238000603014 & 0.9252244552587134 & 1.0666155134714188 & 0.9481436707837245 & 0.8879853083256133 & 0.8638276819620306 & 0.8496142152227851 & 0.891748683860516 & 0.8302981544532777 & 0.8435702710640108 & 0.8905273408586174 & 0.9574860370934539 & 0.9672203819519926 & 0.8889894360895287 & 0.9680605332005161 & 0.9033890688300663 & 0.8510133373713157 & 0.9033299214474184 & 0.9439825390483029 & 0.9097692551176139 & 0.9641235649071253 & 1.1867439981730714 & 0.9381077235187432 & 1.0962410080014873 & 0.9668199619569041 & 0.8404595038230028 & 0.8824998280117712 & 1.0997823457786196 & 1.1595647554963113 & 1.1510496971719755 & 1.1428607644578748 & 1.0073239486168144 & 1.160391152957147 & 0.7863565358959453 & 0.8071920468235602 & 0.8981367544886744 & 0.9951344363594377 & 0.9972606061546708 & 1.0667377924892296 & 0.8531681503164176 & 0.824749360524274 & 0.8533841000328855 & 0.83619189844057 & 0.845378346509 & 1.0724876106811054 & 0.8654849240428375 & 0.9585900212845455 & 0.9619915906492356 & 1.1789570991390987 & 1.1693442338618494 & 1.274858627898638 & 1.3182180853534449 & 1.4562144991698165 & 1.6594161252769066 & 1.6941765277889909 & 1.905224020814457 & 2.064046373487143 & 1.9191303005723384 & 1.8611486521196074 & 1.9769033664574946 & 1.7270313166473352 & 1.9242116042811843 & 2.006615123754511 & 1.9290174074079445 & 2.052139486471577 & 2.003434744505863 & 1.8838920527323435 & 1.7831098423525364 & 1.7587825236991146 & 1.3814263582676032 & 1.2858744073138322 & 0.994353437678418 & 1.136993887196536 & 1.0098336592913026 & 0.9684437116562029 & 1.2184471737202098 & 1.3829890712220503 & 0.97202583492295 & 1.001569528278517 & 1.047407164588748 & 1.3237149715494005 & 1.0473280585810427 & 1.0985870011553278 & 1.0898446903187202 & 1.4563956464066032 & 1.915442300426523 & 1.6730035916927892 & 1.9950835840417631 & 1.9721955979345447 & 1.8044944171562667 & 1.771189890554655 & 1.498904018580002 & 1.9877828033753222 & 1.7675545653027354 & 1.7813429375089291 & 1.8374893804432144 & 1.5328374805692142 & 1.9075430551647046 & 1.9939269408849325 & 1.8891320722049945 & 1.374916007102303 & 1.526564540113635 & 1.37192156916881 & 1.2968716572817944 & 1.8346083274144678 & 1.7622107184512246 & 1.8586429748236262 & 2.060964688316603 & 1.4653098084825296 & 1.5279693011306585 & 1.562323176102108 & 1.7371183981421727 & 1.830834759306039 & 1.6549719005752421 & 1.6122492207833548 & 1.516136400171397 & 1.7465575968871634 & 1.0315104921841762 & 1.357827712584176 & 0.8629377476973784 & 1.3346811702582804 & 1.4059551806329569 & 1.6991717824739105 & 1.6825849569891658 & 1.827764276506879 & 1.9105613373027852 & 1.7506913115052678 & 1.8562660977752148 & 1.2591952815993612 & 1.198105661772036 & 0.9749667222987871 & 0.9136563380602826 & 1.4190425083958333 & 1.5267904627739957 & 1.5291168964345627 & 2.003362198795966 & 1.7634193182949771 & 1.8564120735744118 & 1.2634604410335062 & 1.1462991993504645 & 1.5405293682438226 & 1.4613208794483865 & 1.8027089574658663 & 1.1648142287339103 & 0.9780958643997688 & 0.9135791286881056 & 0.9885134887706917 & 0.92256832467347 & 0.9301604857871456 & 0.783286193979152 & 0.8264203372778346 & 0.8667191590208898 & 0.9618693681697372 & 0.8613377675204482 & 1.1899819785346697 & 1.0868714656848428 & 1.089772565704438 & 1.1037935118468167 & 1.0160293782966638 & 1.044056644967132 & 0.9849351230599638 & 1.8106849657768473 & 1.5580028718263514 & 1.1343146466038332 & 1.0131602454029291 & 1.082895742098462 & 1.482955543985633 & 1.9388407518744477 & 1.6162198372452097 & 1.882442396856991 & 1.4732286626639879 & 1.782487722515092 & 1.8133882369603658 & 1.6286859997804717 & 1.77154679987098 & 1.9228096350627333 & 1.8663809497572788 & 1.2740387530332296 & 1.9380280574472006 & 1.7319434611709381 & 1.58065056679926 & 1.3272868748834417 & 1.4842087365987344 & 1.492327164489731 & 1.0950398095117178 & 1.2626405254131967 & 1.143913459241655 & 1.3554360693246525 & 1.3749789485669235 & 1.8173133199466132 & 1.8593517853395687 & 1.6157560485555773 & 1.5160961835304603 & 2.070374402139612 & 1.8419744442211734 & 2.072575651035142 & 2.0084511285802895 & 1.8014993653919578 & 2.0238275298179826 & 1.757791199741583 & 1.4315946156111494 & 1.5960775717886575 & 1.3682466079749889 & 1.6747618279067338 & 1.2104786943854997 & 1.8915219466664748 & 1.5235703943787944 & 1.7616991681238605 & 1.535841107338584 & 1.686890555484556 & 1.7834883035627205 & 1.8099286658788152 & 1.8154685209653336 & 1.3091344399266167 & 1.7747365105398671 & 1.3528704445594288 & 1.7697695526231414 & 1.6950761935988867 & 1.3427883308058812 & 1.4469293676399997 & 1.3228681705957508 & 1.0244270510932052 & 0.9758065113341907 & 0.9491172864865455 & 1.43010502051076 & 1.174442149481888 & 1.7725938915228647 & 1.6492324729630983 & 1.33331702492552 & 1.6348009731725093 & 1.5527882701334503 & 1.3585464079625387 & 1.8905591472034333 & 1.559345765924312 & 1.5913851727241701 & 1.6372021600595887 & 1.9700063813818598 & 1.7832740127394848 & 1.558196352913921 & 1.8082914025174166 & 1.96765904409556 & 1.569017168304949 & 1.4174083006420857 & 1.2759307804320021 & 1.6915089076115288 & 1.0958041350027956 & 1.2629308515902 & 1.6826127445557677 & 1.8042384437959893 & 1.8779023173693155 & 1.4453495985042148 & 1.776140871686353 & 1.566834490899554 & 1.8084979573664792 & 1.8598197131303542 & 1.4066706206003567 & 1.359927280496848 & 1.40015214700032 & 1.9465240019766072 & 1.7189527585167235 & 1.4786061239519988 & 1.4852875771318 & 1.5490175901835195 & 1.468871037630216 & 1.1358052510556864 & 1.4167648737060177 & 1.6129902691698754 & 1.3225836746360962 & 1.355974600163086 & 1.4961187908589548 & 1.7747105053687846 & 1.6075525422441057 & 1.8232164463214537 & 1.7194710026341096 & 1.6487877171224563 & 1.8791034225718153 & 1.894426437709986 & 1.6964041313842704 & 1.9639383105967403 & 1.4995981936666547 & 1.5559198903444877 & 1.3968702082024573 & 1.9606318615931582 & 1.9025589241240168 & 1.7653281968823225 & 1.9058802801249533 & 2.027760132257738 & 1.4133068881471849 & 1.5384508859204287 & 1.6204156023406557 & 1.7799262080909937 & 1.9163476553598011 & 1.9395120791272222 & 1.6554262615841686 & 1.697948330641596 & 1.3377363534891822 & 1.4223515319545166 & 1.6445956966296738 & 1.5855436725055265 & 1.3946101722492614 & 1.349431547895725 & 1.3394392332744747 & 1.7480297307294839 & 1.865867909960393 & 1.5804789109170843 & 1.9283792583262294 & 1.9412877693665276 & 1.597795380159447 & 1.7016657571727913 & 1.773298295753961 & 1.9918698444911234 & 1.8076686046679302 & 2.0459941246183107 & 1.8210353777209802 & 2.0032730537805437 & 1.536772507730058 & 1.8528993686260826 & 1.9314238822610676 & 1.411523679581269 & 1.1013732705318084 & 1.1090465782428518 & 1.1452140079450375 & 1.2247046684793164 & 0.9286395712666838 & 0.9425088537289279 & 1.5332551440460642 & 1.6023290995217034 & 1.9989681787020568 & 1.7257895679274744 & 1.4489562215597127 & 1.2298436459683209 & 1.1650820961922619 & 1.736791380278916 & 1.818156449205253 & 1.3781136215563696 & 1.714775306565857 & 1.573926021591049 & 1.7518215977954665 & 1.5329140859764017 & 1.336081895517482 & 1.8402704676378874 & 1.7787088583786195 & 1.4545100989915585 & 1.7020672281273248 & 1.9543293814320832 & 1.6265578016272535 & 1.9379131208903877 & 1.8148597506161237 & 1.6360670901101757 & 1.635924815162834 & 1.6723392248513673 & 1.5250654188420778 & 1.3328267439285362 & 1.0628753021713417 & 0.9375138382177097 & 0.8615473458595425 & 0.984220403451744 & 1.186687314081939 & 1.2291644830830981 & 1.676085140330237 & 1.5652320759438658 & 1.9368419529515644 & 1.7534129407593562 & 1.501607280731886 & 1.6312180576949362 & 1.6507076166098174 & 1.2581623312016088 & 1.775769419706427 & 1.698062420502526 & 1.280571461262226 & 1.3520604792825373 & 1.0134160573502036 & 0.9006937328102307 & 1.030069368552707 & 1.4068019424177174 & 1.954248150064671 & 1.690618245604411 & 1.7229311451030258 & 1.6693012712774662 & 1.621418677773205 & 1.9512300613976226 & 1.663559529374001 & 1.6847122823234149 & 1.5992255411842802 & 1.468240558107322 & 1.9895536277953296 & 1.6877582655638754 & 1.213271028827581 & 1.2594390618180678 & 1.912092351477979 & 1.6670122454777663 & 1.232929916088212 & 1.763921382086893 & 1.9918730051178473 & 1.361415763703257 & 1.0362006454925818 & 1.1500063865629493 & 1.4129022060289407 & 1.8340529330343551 & 1.1697374486646337 & 1.8897274292061832 & 1.1086291342599142 & 1.629643056270951 & 1.5125776199190215 & 1.986955801478664 & 1.6200635512993866 & 1.9746272298731806 & 1.7845867980524597 & 2.1208965581654096 & 1.8908498828150904 & 1.8377325584259427 & 1.9834939645096528 & 1.9525751552224444 & 1.9112023452696092 & 1.9044080058988275 & 1.9948656764395176 & 2.0430031204979073 & 1.9530696791370723 & 1.7532748796144102 & 1.8681877730003837 & 1.7061266623302336 & 1.7101257258558622 & 1.9044999659221544 & 1.8098224279475896 & 1.8050829250590223 & 1.7241508642890686 & 1.3440955791017795 & 1.8390324418406758 & 1.5985217765623565 & 1.6766281141260304 & 1.454824023957076 & 1.5390754514977543 & 1.374744308605684 & 1.3238891889348225 & 1.5982461406576356 & 1.5566697932336726 & 1.2988254630957237 & 1.8936931508784378 & 1.7742371158775267 & 1.76802866931483 & 1.885620367046638 & 1.5074815768064598 & 1.9105523153344426 & 1.8236518041103609 & 1.7872584591108136 & 1.5102615892728148 & 2.0327219020406635 & 1.7228853214799214 & 1.7489407565832973 & 1.977898166987188 & 1.4866055207136004 & 1.7518013693739407 & 1.414539929834727 & 1.1067563067654551 & 1.0858161555909782 & 1.082084401140632 & 0.9735101756590175 & 1.1380364072541487 & 1.7716642427803695 & 1.1398932065380525 & 1.4871131772910504 & 1.5957121986532345 & 1.5769272204099087 & 1.3574835009396218 & 1.5626230249136404 & 1.2551548684906946 & 1.3969327219719017 & 1.1040652172755803 & 1.2072032728520483 & 1.8473906959874173 & 1.839063270444786 & 1.9056907025498429 & 1.9028141813409087 & 2.0182876354142922 & 1.876472785392795 & 1.5825643604944715 & 1.624068537915253 & 1.1408226521309321 & 1.796205018505222 & 1.8918453696300512 & 1.872628782776562 & 1.685796068922056 & 1.446587475486706 & 1.6995438199755593 & 1.3501962206654983 & 0.8867724447404745 & 1.197000526978841 & 1.8196320805618296 & 1.3227152275763645 & 1.1676046909469548 & 1.8056399153405376 & 1.8783037557894402 & 1.8206801467468117 & 1.847264863151023 & 1.8523266342447915 & 1.6759757825724195 & 1.7685813184038826 & 1.93260179432251 & 1.991320633414668 & 1.7426729629219189 & 1.9210243225909869 & 1.9267301493976188 & 1.564375997859592 & 1.4891511398662436 & 1.4465791588081938 & 1.901816298404764 & 1.5920604701849619 & 1.816668603296444 & 1.7028203905037156 & 1.1356183651971197 & 1.2111962354974268 & 1.4998951507808382 & 1.8108736408066268 & 1.9306571540257875 & 1.7582962153208797 & 1.6334451929708431 & 1.6253337519179374 & 1.3159174116276307 & 1.660576419911526 & 1.4547875658704297 & 2.0249459344858893 & 1.6845152485570278 & 1.169964438053257 & 1.845797147064129 & 1.662657711997743 & 1.7551331152362513 & 1.9163965083718915 & 1.6866735786352338 & 1.936933350238 & 2.108525978487246 & 2.0547495427284073 & 1.549851609282529 & 1.5219896974321487 & 1.8061883420038867 & 1.6941595202399802 & 1.5316763808180336 & 1.5710683280687028 & 1.4847877687579525 & 1.6233874082677322 & 1.32452214489833 & 1.7810493526243902 & 1.6332381053318672 & 1.9902683801662093 & 1.769283965526003 & 1.5328164196591152 & 1.194001040632074 & 1.8092047988012068 & 2.018579209322724 & 1.8263431463639663 & 2.025382947071695 & 1.6497987037109898 & 1.9398214779906506 & 1.837977199629645 & 1.4853708347761492 & 1.7633105805442015 & 1.7955835559417799 & 1.9655778611698078 & 1.876075955742308 & 1.4255906064339192 & 1.7419572340489482 & 1.771354690424468 & 2.022722943681085 & 1.3420497004069918 & 1.2486407227357672 & 1.3144396077730514 & 1.1172845605819834 & 1.4450789325442963 & 1.3821026324929482 & 1.3890108403865562 & 1.6446068856342186 & 1.378399708992315 & 1.1989859626574175 & 1.7646084860002413 & 1.6890369246560961 & 1.8231478544544297 & 1.1968159549124044 & 1.9543707402538357 & 1.67398121739334 & 1.5712076495475111 & 1.5707933586551723 & 1.7243552629490233 & 1.9397560851649898 & 1.7738967960099326 & 2.0357592708589123 & 1.6791973817704375 & 1.9564091008945395 & 1.8751282265266889 & 1.5608141428820348 & 1.7007818199719045 & 1.7499296041577495 & 1.5262804983149922 & 1.8966941980476855 & 1.8233678095419974 & 2.0455837773018644 & 1.6218397697763205 & 1.389418125675031 & 1.256897575664063 & 1.781348002513 & 1.606073532605628 & 1.374353843423985 & 1.317864439832992 & 1.5622473382293873 & 1.7339396242984544 & 1.1468386594598734 & 1.4360192057621974 & 1.3309154088718993 & 1.6187128961428834 & 1.7495895769257397 & 1.7893041885565657 & 1.6809485005569653 & 1.8674807365711963 & 1.7328902769488919 & 1.9181588275426054 & 1.4634053033799475 & 1.7586314469384063 & 1.9419566893923634 & 1.74545091236608 & 1.5965192978539064 & 1.5567210945534689 & 1.8871494792651127 & 1.953320011656709 & 1.8907835251516476 & 1.740687698669032 & 1.6296826943104992 & 1.8141997852855731 & 1.821844026420153 & 1.9287090743082762 & 1.974018468843715 & 1.9814615439088388 & 1.9937668824147639 & 1.5543829584158415 & 1.360132309463404 & 1.456896691238589 & 1.163861019712125 & 1.1360698646632719 & 0.9782656313991551 & 0.9059863618976494 & 0.9508839492611894 & 0.9388877052018417 & 0.9041635270298117 & 1.1369576786648423 & 1.9814648004823288 & 1.8486028817288414 & 1.7633766791414327 & 1.8154343223612863 & 1.7634782049336215 & 1.3078069482155144 & 1.2333556710542612 & 1.388823783841163 & 1.3024684756960592 & 1.8020436720524684 & 1.418335548658811 & 1.9694307860416154 & 1.9331556483769123 & 1.6264583748139005 & 1.657004146301872 & 1.734310458090324 & 1.900295421415058 & 1.599331761751036 & 1.7198644908856981 & 1.7736714975643881 & 1.9534786720432513 & 1.9338263830660063 & 1.7977893763989237 & 1.9206559500670108 & 1.9553017241827668 & 1.804847278683832 & 1.656170158197489 & 1.641645553888044 & 1.9681646780415527 & 1.583160425080812 & 1.8671362102925069 & 1.509860564911515 & 1.3798834419448727 & 1.9925584008046502 & 1.727781640674282 & 1.6637316212085067 & 1.8381554820062889 & 1.8102615639433648 & 1.5772412065100208 & 1.8056954166157748 & 1.9565406704018713 & 1.4693483702347376 & 1.3762052157679885 & 1.6913094452246134 & 1.556228483823444 & 1.6032328769793536 & 1.2178127739342968 & 1.9676529672481677 & 1.930743719774087 & 1.7701447340527212 & 2.0417397389880945 & 1.8872119528642217 & 2.035585098489716 & 1.8289082755681 & 1.8445830543840966 & 1.576787881533704 & 1.850305026479793 & 1.2052456341057467 & 1.8542011446731412 & 1.622754387136644 & 1.9227463009200956 & 1.8777356620408767 & 2.0283182587936555 & 1.9907232403948167 & 1.5918401116461196 & 1.5414508956854394 & 1.7002329072194382 & 1.7747241178865898 & 1.5568788359683476 & 1.8705291246987525 & 1.7532513945798467 & 1.824759863971367 & 1.9621181707354287 & 1.7959685709153448 & 1.434994071833273 & 1.6770718037223626 & 1.9571131894502394 & 1.665042857588741 & 1.536440010919065 & 1.9670368921388777 & 1.948883102157122 & 1.5945468766519575 & 1.0604862337125605 & 1.026117241919789 & 0.9519924066924336 & 1.1138932845535536 & 1.0367967588890092 & 1.086516780960465 & 0.9086321844616425 & 1.4349872506019703 & 1.499503993377609 & 1.6251180433604449 & 1.195296366629708 & 1.1051769632344703 & 1.2255917943161247 & 1.2914535614234883 & 1.484688966797977 & 1.8653932528821433 & 1.2102962888358426 & 1.2583401097825868 & 1.4716607852997097 & 1.477110080635974 & 1.6237085146105243 & 1.8020393125815422 & 1.7802932899960924 & 1.8474544421502677 & 1.8711379902569076 & 1.8352420604456505 & 1.7128373303996642 & 1.6520896846223696 & 1.7661558889987437 & 1.5300569866464417 & 1.8796627817807836 & 1.9173081356895325 & 1.3755009998286858 & 1.4724994230947754 & 1.5000616969715945 & 1.3185553014223805 & 1.418473227877601 & 1.7522994736066153 & 1.7299063740808913 & 1.8027586227049843 & 1.847933033956097 & 2.0464238229738667 & 1.7723728884315846 & 1.4900674522917219 & 1.596939837472818 & 1.5724012760848503 & 1.7343114193804186 & 1.8569745201911514 & 1.9158918282777144 & 1.1764782250406456 & 1.704601909962713 & 1.760702614286003 & 1.723599616189003 & 2.06215250682891 & 1.8849340726169106 & 1.5413974715298002 & 1.6636670477041648 & 1.7542740352649726 & 1.9929774234160682 & 1.4244693703098208 & 2.025514010440352 & 1.907193168208751 & 1.7794371468380745 & 1.8221374020127319 & 1.858816099255746 & 1.6633391055570215 & 1.8671229686073942 & 1.4614013975171023 & 2.077624888065509 & 1.736876786511732 & 1.9408390430253954 & 1.936166320163696 & 1.8463230917444047 & 2.104021621345814 & 1.8946952298533548 & 1.820922893182131 & 1.5811541984673192 & 1.0342427898957443 & 1.3820340847116837 & 1.2347299364840125 & 0.9716785023321157 & 1.1794856505767226 & 1.1068430235020037 & 1.247338660366184 & 1.237976583727096 & 1.3609021144015285 & 1.2096358119578008 & 1.7052461484813584 & 1.6294166604690243 & 1.970456764869389 & 1.967986921952512 & 1.8280030804487875 & 1.741631058864414 & 1.807854892714853 & 1.90817697044523 & 1.9630780809522286 & 1.8876871689965598 & 1.2113624033132357 & 1.5486698488552357 & 1.5955443213370422 & 1.1584793864433909 & 1.1862230392860993 & 1.134412055584058 & 1.171556238812226 & 1.0202144864392244 & 1.325815117851496 & 1.1699882756583722 & 1.5158778182189707 & 1.686609362454607 & 1.540281468532036 & 1.73766742757703 & 1.738154601201111 & 1.7549117372423733 & 1.8880709257541581 & 1.66274548851136 & 1.7659592050975337 & 1.7581153120189292 & 1.1397104118926769 & 0.9523155268511087 & 1.4246222519753273 & 1.9800298368708225 & 1.8028887043182795 & 1.7792092499110423 & 1.5791461205424882 & 1.5422656301353124 & 1.3306954636869661 & 1.1789409965054225 & 1.2747043364475275 & 1.0925034983165516 & 1.2836906362324165 & 1.1125661661937758 & 1.622807996399835 & 1.3346685501099569 & 1.6690131357978546 & 2.066345973767571 & 1.8184726345492528 & 1.4651785018587882 & 1.5849657773358352 & 1.7597161240916273 & 1.9337019569219132 & 2.006982743409175 & 1.2719839513437161 & 1.3289987242829016 & 1.3786391308084367 & 1.354653751155413 & 1.2118022135340485 & 1.7302193884760135 & 1.5021637424496157 & 1.4464450041557002 & 1.2116947991186169 & 1.8368315202313072 & 1.918417525739996 & 1.8076414402837326 & 1.8522607769904798 & 1.960662551890447 & 1.8048736419966396 & 1.800429015949475 & 1.7996632003482473 & 1.7307738007064448 & 1.8061857741123861 & 1.4283760914288202 & 1.3319543177523108 & 1.6034372691677923 & 1.8205977449554382 & 1.651787231102947 & 1.8698915142242647 & 1.9241736210151434 & 1.9635846587383619 & 1.612386293005372 & 1.2988738291673263 & 1.687958990531785 & 1.8996684189574877 & 1.5623193693351383 & 2.0003710231754384 & 2.1168956240466072 & 1.772754325439409 & 1.3494915118021085 & 1.7479214437866364 & 1.7098338502288295 & 2.016298097412178 & 1.8155354214972954 & 1.8467194712063646 & 1.9433539013108456 & 1.911324610439847 & 1.4118538108175054 & 1.8315255795854541 & 1.8871834504109122 & 1.6553582057445189 & 2.073382874732994 & 1.7101418010087626 & 1.9445551215762247 & 1.6260238775317288 & 1.8174437631050333 & 1.9125266958294789 & 1.2736473667556432 & 1.2424950178064935 & 1.4358153789602481 & 1.0782237161642516 & 1.0728742275710215 & 1.06585192514482 & 1.007433674699503 & 1.292148179286435 & 1.153270734987705 & 1.1372118716526753 & 1.0663820173584102 & 1.2292790635306707 & 1.1702780389566028 & 1.1694068352677836 & 1.1458527631942104 & 1.1493614544101778 & 1.3928215578747065 & 1.4559185167209798 & 1.2426684007955606 & 1.22222152629832 & 1.2165028532611033 & 1.452165593721753 & 1.5102751597476878 & 1.4165266796576281 & 1.5317492464381721 & 1.5375718018941098 & 1.5479811017858147 & 1.8984715969892203 & 1.669332609648225 & 1.9226747186296622 & 1.869554119160259 & 2.0276553115999536 & 1.8335960253912824 & 1.9287332369794803 & 1.0176401348698556 & 1.06394541724933 & 1.0556125132053236 & 1.2769638524474305 & 1.5260926857778356 & 1.404583186660651 & 1.68915221993914 & 1.6821519059855974 & 1.9567932355007345 & 1.8534698828074527 & 1.680003270112456 & 1.514964450144066 & 1.7746708565665128 & 1.5326132262018037 & 1.5474957079287146 & 1.99751595007709 & 1.8790832229632766 & 1.5079678025312404 & 1.5743508666637427 & 1.4647094846866318 & 1.3261907002527011 & 1.424804528007104 & 1.6190899706306847 & 1.6849590890441595 & 1.1594224135542919 & 2.1165281515019316 & 1.574198360112396 & 1.3298632189451551 & 1.3509607747501724 & 1.4508755241623124 & 1.9272800198114566 & 1.9400360937641652 & 1.9050205153900177 & 1.9830242634143709 & 1.9953891606071896 & 1.6955800666279222 & 1.8144510072495397 & 1.5471714713613192 & 1.5430112306977928 & 1.0485470536348245 & 1.1636227882656984 & 1.3510796137352703 & 1.3544572777813026 & 1.2913852558956096 & 0.9766738305624625 & 0.8488962076858614 & 1.3227486375272637 & 1.0408345330275994 & 1.3437537579320549 & 1.3150297820893713 & 1.2480481640159267 & 1.0054349298074494 & 1.273140205539067 & 1.2488517377254191 & 1.5606534841313147 & 1.5805419555843179 & 1.4433428113035698 & 1.2560219913351123 & 0.8930447347215699 & 1.567726810819499 & 1.2534855388767874 & 1.9941947965702387 & 1.810845673775014 & 1.9096925325701548 & 1.8294885847987228 & 1.6438177093386683 & 1.7575560183829968 & 1.8417021582538209 & 1.7365194064873295 & 1.8165476594025198 & 2.0661166395799087 & 1.863935292194904 & 1.924502063229408 & 1.7971164657251595 & 1.8970168259617322 & 1.6558033833104184 & 1.9013422230504566 & 1.100516980609383 & 1.035585051399692 & 0.951173546355523 & 1.0905207689540193 & 1.1147884767630847 & 1.0930786220681155 & 1.3512277603259693 & 1.2665131275490475 & 1.7906186004934876 & 1.6146104483932537 & 1.977309740749992 & 2.0289186043901903 & 1.6385705764899545 & 1.903360404760087 & 1.60913110619705 & 1.863276390116831 & 1.8219098228523412 & 1.5459150734419373 & 1.968051437330478 & 1.6197472143344605 & 1.8801653390501398 & 1.6015278495073124 & 1.8565440245931468 & 1.687749374783462 & 1.3524436600947325 & 1.313131795716651 & 1.2829761629345544 & 1.65200522986375 & 1.9792261879985533 & 1.8661347500886476 & 1.5795409935092366 & 1.806868141576912 & 1.8679961417433948 & 1.560548957185067 & 1.6121256402635216 & 1.7303127027444702 & 1.9169631569388854 & 1.7070024267980863 & 1.6853328219842059 & 1.6828797620390472 & 1.515170390281876 & 2.099310846890384 & 2.0062070383382467 & 1.821742631142971 & 1.9222146650453884 & 1.852025328836611 & 1.7750412403356277 & 1.6462102766035596 & 1.8650961743240686 & 1.3164684507125428 & 1.5160685167935428 & 1.8674420546987027 & 1.934755602613938 & 1.7059203741838636 & 1.7395173394889214 & 1.193002811258331 & 1.4237200381777984 & 1.4860628366729405 & 1.311700336633181 & 1.4911138939507094 & 2.0544001108646457 & 1.9622285389060565 & 1.02138238744278 & 1.4644723451423733 & 1.637660532946138 & 1.649287792443751 & 1.4840645467825107 & 1.5420017670821329 & 1.5718707803183236 & 1.6667814816565878 & 1.679761448104639 & 1.727326474120865 & 1.7182654970019062 & 1.8591630470433207 & 1.7846294970661458 & 1.9081953479465024 & 1.8700888392038766 & 1.2910372486611872 & 1.1046095744983153 & 1.7956552742028615 & 1.8678935231653853 & 1.7683298900456828 & 2.079197670418612 & 1.8926740404948763 & 1.7023275648530298 & 1.2682872689208797 & 1.3397282972798301 & 1.2386712378991755 & 1.3297596726473657 & 1.059886830470181 & 1.0649275334004422 & 1.144245808174669 & 0.9440567438150461 & 0.8512059724557836 & 1.0367542857697771 & 1.2064186150752378 & 1.2062406980220564 & 1.1674327266149715 & 1.1386725338798438 & 1.292769996854647 & 1.286854413746907 & 1.5483984519354803 & 1.7695010662847852 & 1.4758915813507298 & 1.2290618571641385 & 1.337727810242016 & 1.2039119053537308 & 1.054511617201693 & 1.2414286818708344 & 1.1668400210578418 & 1.1706074948922063 & 1.0247676353122779 & 1.2283507670529694 & 0.9803624715267084 & 1.2007581266916296 & 1.1805998809553429 & 1.1737606138382246 & 1.1419677815401996 & 1.3250656482969088 & 1.250786458364457 & 1.3609106114862917 & 1.1905753522870532 & 1.17893256437182 & 1.0742529264154848 & 1.3021328689247602 & 1.0204178855023844 & 1.6652662316478173 & 1.8495384481381043 & 1.5976222922340177 & 1.4414090763337712 & 1.6793863596848353 & 1.6557624036057095 & 1.4772663604487029 & 1.6520516416140358 & 1.8225389667600274 & 1.3036142538721667 & 1.5411699921032962 & 1.151344223028441 & 1.3224895293263024 & 1.7572007069515083 & 1.3349102082187467 & 1.6416234940955667 & 1.593804293141101 & 1.2851320766106542 & 1.9634661063588155 & 1.570904975070743 & 1.7841735545106137 & 1.6051524502415386 & 1.435909697513672 & 1.5130117870905735 & 1.5599594092685298 & 1.5594037593658912 & 1.3846004945555268 & 1.9330807370753342 & 1.6561111413629532 & 1.4613783903115545 & 1.3530288072684757 & 1.6870103629465545 & 2.027149010559421 & 1.8064970450951012 & 1.8411147751978416 & 1.373534483554387 & 1.6504742581948255 & 1.3949012387239434 & 1.3644483427121765 & 1.1550454635681857 & 1.6220146843464274 & 1.3678019637774246 & 1.4879383294697783 & 1.5539179052918384 & 1.1063151587830113 & 1.1085927362541736 & 1.2024290827412356 & 1.3974462707510273 & 1.3145508569568405 & 1.9904934131187473 & 1.5734788321359607 & 1.6050234806792834 & 1.6276769637476347 & 1.7213814145447262 & 1.5341207317229335 & 1.4573633352791244 & 1.7849107204990833 & 1.7108180363884897 & 1.7770047076869735 & 1.7716575968963593 & 1.5807683223201312 & 1.7266207047786186 & 1.7388695864638544 & 1.5046855998383273 & 2.003045311558052 & 1.86446714802158 & 1.9022660988226923 & 1.914007304425548 & 1.519605294694327 & 1.7696536081506173 & 1.8487405641565784 & 1.59234723093614 & 1.396417244674519 & 1.9493465742442362 & 1.9339048075794216 & 1.5690586987072381 & 1.452133277483059 & 1.5586551580049368 & 1.5834928181966175 & 1.7805312817760182 & 1.593854451280778 & 1.1283241495607699 & 1.2856104627690141 & 1.7336911282320961 & 0.9727967323106818 & 1.3647449219388552 & 1.0784026209348552 & 1.0420039662755654 & 0.9829099366843981 & 1.2041585233079364 & 1.226955491553974 & 1.543707315599419 & 1.4138759574561057 & 1.3673175012805876 & 1.6946373158534604 & 1.5034979787862994 & 1.6770514675099366 & 1.7834418086384247 & 1.4934895097786054 & 1.9637079019153652 & 1.7699715592274596 & 1.611979643013666 & 1.8899306944164918 & 1.8417724291784483 & 1.8447954306493344 & 1.5150849533563062 & 1.4266621142601674 & 1.5132480798810566 & 0.93679629155451 & 0.9501483745667086 & 1.0338106855956113 & 1.2786354290213524 & 1.4142674266697917 & 0.84933591588202 & 0.9505111041498774 & 0.9276391631992783 & 1.4513660496414122 & 1.337294517528309 & 1.3902497102322744 & 1.2117141521563999 & 1.7827847829724548 & 1.2779129692830309 & 1.555320249650598 & 2.042967591642904 & 1.8402057403278886 & 1.920954295254088 & 1.616458467316943 & 1.5632426439440708 & 1.818630689105618 & 1.9087705005606754 & 1.58978668355011 & 1.762423586903623 & 1.9017458729679382 & 1.5412506436845799 & 1.6314668897493445 & 1.5248625555603974 & 1.8478650701994357 & 1.6972290502787257 & 1.7929164239211628 & 1.851848689475065 & 1.0301500118411218 & 1.5196339410505124 & 1.6294854143287247 & 1.8943398834298302 & 1.7154747446621892 & 1.6295379782535306 & 1.9196814985563608 & 1.9760125837791056 & 1.678651520633068 & 1.5364795356793828 & 1.6541668691456197 & 1.752484842731829 & 1.4317973057366815 & 1.055145074352282 & 1.1409681126632387 & 1.1516292662876981 & 0.9270089348030478 & 0.7884724624587747 & 0.8648156006296582 & 0.8227930146813381 & 0.960041535369548 & 1.0949127336735913 & 0.8945426409652638 & 1.1684562401166867 & 1.1565369991851602 & 1.1054665115902964 & 1.602409947930846 & 1.3777754448775181 & 1.9086028392084897 & 1.6199509790030777 & 1.2697018011534997 & 1.3321497825139956 & 1.6842104594532754 & 1.954742766347211 & 1.9809447129280733 & 1.2310667454137563 & 1.6773410326233822 & 1.7359566182578554 & 1.7976892479962738 & 1.096062609971466 & 0.9659916459241109 & 1.120612923250034 & 1.2055026336491015 & 1.5869105201855658 & 1.8484071490514689 & 1.9005609708797548 & 1.8907956417044884 & 1.462780465747208 & 1.1689528220957288 & 1.3544248634183427 & 1.3936673424231465 & 1.587311575032493 & 1.143964056157002 & 1.1772160586804943 & 1.6338903484699403 & 1.568852084034335 & 1.449333944099992 & 1.702203442857166 & 1.445608756490044 & 1.7408967971775664 & 1.3243271150107678 & 1.160208721562938 & 1.1462325627001664 & 1.0972245738927247 & 1.1871093686819096 & 1.146194533973297 & 1.6849330014576018 & 1.5476101928109727 & 1.511246445445519 & 1.36084360924042 & 1.2740528945918865 & 1.614280496937071 & 1.2272328382325057 & 1.6230763822610599 & 1.7746038827612896 & 1.308668874199442 & 1.5227042367124126 & 1.457894383036434 & 1.7155362868633866 & 1.6605208081332903 & 1.355498814014132 & 1.383815432407377 & 1.3565668858613893 & 1.6217397862327372 & 1.732554540408651 & 1.7730185465412718 & 1.5135154550358816 & 1.9140433616871835 & 1.607573659715646 & 1.665304948158358 & 1.2991278577236305 & 1.098044031105731 & 1.608547837104051 & 1.0588744474169092 & 1.4536418438481957 & 0.9940974331312076 & 1.2958890287851048 & 1.7133777781138158 & 1.7712012874965877 & 1.920876788868263 & 1.8723597720452492 & 1.742763482875747 & 1.8960916172186237 & 1.8860423119080207 & 1.7554926266569217 & 1.8111598762696175 & 1.907949849948686 & 1.7113125977777537 & 1.3257781308855459 & 1.4921767663893097 & 1.5792678059797667 & 1.432864789669123 & 0.9991909721798642 & 1.0856446626828629 & 1.1243586903802174 & 1.0536104173476728 & 0.8140339902896682 & 0.8791524830041466 & 1.1896270278306569 & 1.427945578091251 & 1.1227504713748002 & 1.2053156098489362 & 1.9084742132049624 & 1.5880883101110577 & 1.8413321270969811 & 1.821747276366444 & 1.679746860262395 & 1.72965550686073 & 1.7920432652243499 & 1.6596629601791038 & 1.149202422611062 & 1.1689889301973715 & 1.2783308388157846 & 1.1502149205730587 & 0.8178260234661533 & 0.8454232984146818 & 1.0258140483670168 & 0.8765251720051078 & 0.8509485981308542 & 0.8598068712263004 & 0.7477120675559128 & 0.8640814765566 & 0.9121012270900548 & 1.2257121235296204 & 1.1108027995258267 & 1.049706097633804 & 1.2135717991611927 & 1.5380237682787103 & 1.2065637222537353 & 1.4737561397556338 & 1.4673305243286674 & 1.297677301896166 & 1.3269869330006185 & 0.9977523181481169 & 1.433371053863937 & 1.7956911223670007 & 1.4527129886307575 & 1.8814120434008537 & 1.8478337177692428 & 1.537645099152863 & 1.3717683010896207 & 1.6268575522434536 & 1.458982989925253 & 1.811053575270542 & 1.9665408839322716 & 1.9869589146420743 & 1.9661032643985477 & 2.0057239890494643 & 1.803355474712316 & 1.892697247948744 & 1.9374326278475944 & 1.642485325305581 & 1.485696113313494 & 1.4220339828677075 & 1.7094270999933343 & 1.5807433199590015 & 1.3477097687915969 & 1.060483983571825 & 0.9904189335285986 & 1.0512666349513313 & 0.9334212793485266 & 1.0405771593980204 & 1.1350325460130715 & 0.9394754598924346 & 1.0193356548071744 & 0.8616348300564243 & 0.9119515835206953 & 0.9661611715988614 & 1.4538969005307087 & 1.029045332340004 & 1.485029360832436 & 1.7458327310918624 & 1.2430392849866112 & 1.482844516895009 & 1.5289946381972228 & 1.2626519915355725 & 1.3492318276206348 & 1.5446891738622717 & 1.8880244332155331 & 1.5340370997583954 & 1.3143473985587601 & 1.8849415694323808 & 1.7913423297183622 & 1.6182102425833427 & 1.536615026290792 & 1.824671743683079 & 1.9335230549001479 & 1.9680446398529337 & 1.5983268415898901 & 1.694117476314961 & 1.2822017151079366 & 1.4231729669294273 & 1.872475816525378 & 1.9001261780934038 & 1.9755111077490564 & 1.8593568093588184 & 1.6288391956430177 & 1.2012082061524538 & 1.605241449413267 & 1.944813882969481 & 1.9155077930220135 & 1.7690025374686948 & 1.7438808672855006 & 1.7517120127816093 & 1.6905444335530613 & 1.8038614128892458 & 1.369223461297297 & 0.8281277382614022 & 0.8535807019933185 & 0.8955947177952567 & 1.007027634601204 & 1.1761386837396197 & 1.1429368432938638 & 1.15198408403121 & 1.154355907422579 & 0.8660966544603759 & 1.0578807287219898 & 0.99129601057898 & 0.9591971558778499 & 0.7537026962540191 & 0.8746117395215948 & 0.8571799729724234 & 0.8908715397381715 & 0.9962031043027244 & 0.8610431707132359 & 0.8652279854317564 & 0.8880248540398236 & 0.8701774994587265 & 0.8103669300215396 & 1.0062873747378804 & 0.8500349780044495 & 0.7771176904226518 & 1.091903099412656 & 1.0370896536612761 & 0.9335102600676233 & 0.9289131692907425 & 0.9856802257933525 & 0.7824736484534547 & 1.0491792271876246 & 0.9226166230477095 & 1.6727421960328794 & 1.5116227848259047 & 1.6537237490746863 & 1.6089363929391791 & 1.4177092050843882 & 1.6869700580529912 & 1.5871470960782479 & 1.9789261949779566 & 1.9043951149565221 & 1.6614178727423272 & 1.9781873532229572 & 1.8852149676109813 & 1.7033485128649968 & 1.2260427341937623 & 1.1046269690015325 & 1.0971684506480164 & 1.174664720304024 & 1.3530472599966246 & 1.4968286370692017 & 1.3942815714492958 & 1.7515436820271495 & 1.780218205061557 & 1.671529352452731 & 1.9071883676943882 & 1.7538260431885848 & 1.8131673804217365 & 1.8550728645819083 & 2.051192280286822 & 1.8519315857980627 & 1.7883776714336919 & 1.8279615569441305 & 1.592302799040629 & 0.9878580193447759 & 1.0302502530689661 & 1.081241170251874 & 1.3055663058392868 & 1.6368740595179945 & 1.9053981905783826 & 1.5592852534532582 & 1.3699384701971977 & 1.7238020995197831 & 1.6794672402434816 & 1.6192851457826951 & 1.3765832153308448 & 1.7518731539146177 & 1.3003503522864426 & 1.2770121491547788 & 1.4980802559991573 & 1.293369211185847 & 1.3561965682087018 & 1.524813001185031 & 0.971554226976163 & 1.7148444775997544 & 1.700825564908426 & 1.8799605057640159 & 1.9625390197371753 & 1.8983169605702488 & 1.6167785124942853 & 1.135662273630446 & 2.097880304776395 & 1.9063340918464426 & 1.6905471227590518 & 1.8419206230673335 & 1.8646829217716243 & 1.8805729286490704 & 1.7053831878439256 & 1.8226347676483128 & 1.6453953447543819 & 2.0806433199128858 & 1.873313598694589 & 1.5056916670794975 & 1.272298492013934 & 1.421913208815541 & 1.4798758755383834 & 1.455369561196253 & 1.3468874648921645 & 1.2782372420594674 & 1.5053305637791106 & 1.614779746872839 & 2.0288404463683976 & 1.8115661604817221 & 1.7330445388170845 & 1.8739836515314041 & 1.8813328630537745 & 1.8296840772477874 & 1.3461688078711052 & 2.0816502108754302 & 1.9051458050497432 & 1.8769260631351286 & 1.9806280516919597 & 1.9922502417490724 & 1.4069080684317938 & 1.9083458394048198 & 1.487153675002293 & 1.607476160908978 & 1.8694516839253694 & 1.377213562495167 & 1.7230338536093655 & 1.6880087989562578 & 1.3483918437772844 & 1.5683278337913622 & 1.3503987618348452 & 1.0964976050543627 & 1.468911981617584 & 1.1983082608227202 & 1.311326498724879 & 1.8891650137394131 & 1.2893324657865735 & 1.5957121268435472 & 1.8823698013201235 & 1.7109406330486312 & 1.7794896723750941 & 1.391198054747166 & 1.513175365675637 & 2.0335999352934575 & 1.8988393133691888 & 1.097995285731257 & 0.9196487847354635 & 0.9756373372230149 & 1.6715520278482774 & 1.5213072859653811 & 1.9058505892003121 & 2.0082420282635165 & 1.1959099018165544 & 1.2459296257585577 & 1.372535479705297 & 0.9888805925425667 & 0.9678624520795525 & 1.111921734047911 & 1.4001581578182565 & 1.4756903335220266 & 1.5065570828121697 & 1.7007201238998382 & 1.3029990711017942 & 1.9034997074087914 & 1.6822262775155965 & 1.5832774852340303 & 1.7077673977652275 & 1.6549831513158582 & 1.3599717097438824 & 1.5058711765829285 & 1.5393217802002483 & 1.6740204219168089 & 1.8297207268354394 & 1.0501967650584048 & 0.8418219918489506 & 0.9501535344749348 & 0.8068837542431542 & 0.8281423533854404 & 0.8362697545077371 & 1.234316368573719 & 1.0919850506620918 & 1.2151243069537592 & 1.0062011726238496 & 1.062393784954657 & 0.9666234662483629 & 1.0321427666150411 & 1.085639481394655 & 0.9491684358352948 & 1.4629453254749731 & 1.0403030934895716 & 1.4427426914021888 & 1.8238993300973645 & 1.6243919382321355 & 1.6726554726037053 & 1.9093632404029115 & 1.9083393155696022 & 1.8996072033979143 & 1.5703091394159754 & 1.5593741575913476 & 1.7275921291851848 & 1.754013592888587 & 1.4757635732265115 & 1.826032890581498 & 1.6005604147408472 & 1.765414164121507 & 1.9240992902478593 & 1.9225500028338356 & 1.4913156261010554 & 1.8816845911542721 & 1.9535331318424904 & 1.9108076433953516 & 1.45577811800972 & 1.7862610209470855 & 1.9776724315571577 & 1.8160935902100206 & 1.9893793540604512 & 1.6496857571938197 & 2.0445928878266884 & 1.5031461948419897 & 1.634954211131476 & 1.9953430105589618 & 1.9832705317783512 & 2.0965072426784257 & 1.6657831684840614 & 1.7965452073263608 & 1.8550982871602284 & 1.7759881936046964 & 1.5796476117266702 & 1.3358893908874532 & 1.4903412391925848 & 1.365424737322462 & 1.5717421844917907 & 1.8714818983968453 & 1.6652487957236954 & 1.556772101220482 & 1.927547555618061 & 1.7963185916012439 & 2.0300584778398822 & 1.8028621307283919 & 1.8718547206623266 & 1.7980641545583416 & 1.572388237493483 & 1.685657107703112 & 1.7795501172286594 & 1.3476437290707 & 1.78900829702273 & 1.9421294082223743 & 1.628156803329903 & 1.673938237530415 & 1.5968930966398527 & 1.8339073018213212 & 1.8061973818363515 & 1.4883817438410014 & 1.3208438412289794 & 1.1892466616430795 & 0.9679162583742612 & 1.5928172221575019 & 1.5904919724083955 & 1.2232273472705828 & 1.5064552172175527 & 1.278045724988019 & 1.6858318505075318 & 1.8270513351463091 & 1.9377922252103212 & 1.8617669764993283 & 1.9000246855790788 & 1.6319038657151694 & 1.8800787808697437 & 1.8051358818777312 & 1.4361326150485576 & 1.7008005147612326 & 1.4548822855086763 & 1.6307307361542198 & 1.769509627955048 & 1.2846745250050093 & 1.33336942687662 & 1.593349600606447 & 1.1990626375755142 & 1.5521489776901212 & 1.177428606263079 & 1.0237121309462527 & 1.21939214114506 & 1.2525377159627382 & 1.0000566240477478 & 1.106089806647216 & 1.7672470299271872 & 1.8124093622662736 & 1.7331909850068887 & 1.0999541300176112 & 2.0141353354449696 & 1.7111245913745126 & 2.101497527130275 & 1.853332428657509 & 1.6393962798290755 & 1.6394321630407462 & 1.579284622950893 & 1.6633643020897855 & 1.5816067930827462 & 1.536638463856599 & 1.5700353933100077 & 1.695391134069146 & 1.4680153500339435 & 1.7243112234889308 & 1.1212016176956805 & 1.146241838979533 & 1.2512176492705664 & 1.4671192587789978 & 1.0210559673424078 & 1.3894968745378462 & 1.4693502880351037 & 1.7515423650437043 & 1.7933439099422879 & 1.9559782607677605 & 1.9489589426772438 & 1.4572011875348072 & 1.141360087576509 & 1.2150548646642347 & 1.4626287536208311 & 1.6659327878574735 & 2.0357528827255202 & 1.827375726926662 & 1.7705305319556468 & 1.2314783030212988 & 2.018885662204308 & 1.8991116719770569 & 2.0759982380821445 & 1.8313134277123373 & 1.550544107234345 & 1.3445662398612817 & 1.7736772354017152 & 1.7026937812871437 & 1.8994488551174702 & 1.6022981355306574 & 1.629453884510332 & 1.3138509242119984 & 1.7441710471261869 & 1.642113176013192 & 1.7064144217412813 & 1.1312872718329452 & 1.0460734106046359 & 1.071968373569933 & 1.1805773412449252 & 1.1480610935310407 & 1.155947691319058 & 1.5529776542123057 & 1.0458609604909264 & 1.060386614154172 & 1.229114677876708 & 1.763298529329558 & 2.092825053268416 & 1.731462013963953 & 1.9638003292940376 & 1.9325919185173053 & 1.5954138263440703 & 1.8538985892415194 & 1.4580443939876317 & 1.3764557550636771 & 1.641515746696553 & 1.4937076098456594 & 1.6468313715875251 & 1.301615611158819 & 1.1142146924226244 & 1.0888298700411676 & 1.4317686574995308 & 1.2864769181764406 & 1.3770937061652495 & 1.3524485794623964 & 1.5029659130888708 & 2.0007434045529653 & 1.9482317200836492 & 1.3605832854075095 & 1.270986240061585 & 1.1166314500914014 & 1.6985384492535938 & 2.0717843771955953 & 1.809317213936393 & 1.692560469816108 & 1.991314832145461 & 1.8640758616995932 & 1.5876687725946907 & 1.7425376413896514 & 1.826223318272644 & 1.5307319348404351 & 1.4088141527275089 & 1.7108364681034756 & 2.0628456999555684 & 1.8053132643006558 & 2.017484709130143 & 1.4325721851791144 & 1.4817471739883186 & 0.8317398081894991 & 0.8731894401083188 & 0.8964018359765946 & 1.0568822851194903 & 0.9319086584111184 & 0.9841236012500179 & 0.9931601714305374 & 1.2622467160156718 & 1.6193720107767577 & 1.5925749840069392 & 1.3968565906121926 & 1.7593267926637297 & 1.8495728577388317 & 1.910266627493744 & 1.9449223309067025 & 1.558431552115301 & 1.9568902615235748 & 1.6003741334076598 & 1.565095750402845 & 1.405365253590647 & 1.6210172200405055 & 1.5301249475640857 & 1.9106562080112002 & 1.8454313344751365 & 1.7706503279028942 & 1.804949679866232 & 2.037535957085262 & 1.7029369201077509 & 1.6851644897938292 & 1.5889279109335475 & 1.0526412629570239 & 1.6253595307435542 & 1.1111346201644767 & 1.8526551083505194 & 2.115382318618979 & 1.998368454336156 & 1.8551925196768104 & 1.1628209381843864 & 1.5325500852746643 & 1.3482556912345314 & 1.8650891493120019 & 1.9996797140579827 & 1.9284025924644808 & 1.9924229475541126 & 1.8499616595471733 & 1.727687134326699 & 1.9427531246902354 & 1.6996761961100715 & 1.3930927913909115 & 1.5576609291471648 & 1.7520446344523588 & 1.8653303607755263 & 1.8102916546247 & 1.7551339012941394 & 1.0796793208987767 & 1.1011153645052658 & 1.584392938163789 & 1.5293287112546814 & 0.9155713423824761 & 0.9936974275676316 & 0.9663168052070912 & 0.9400915528627216 & 0.8782382139772229 & 0.8752043411549809 & 0.8684027249950164 & 0.8052305354579435 & 0.836280241366981 & 0.9267255134046537 & 0.8746610907406356 & 0.8306508438666093 & 0.820513992037191 & 0.8809416042183065 & 0.8682333746889745 & 1.3281722344120928 & 1.4787393834079168 & 0.9849774242603875 & 1.436915221580178 & 0.9765331324886118 & 1.0322893436401315 & 1.0398985321871541 & 1.066208904470147 & 1.109908335653448 & 1.2005737293808885 & 1.1550638832538451 & 1.400436914974445 & 1.1890354600292519 & 1.0099419515008163 & 0.8782854217486511 & 1.7616639834363714 & 1.6649561794807484 & 1.7205735004682774 & 1.4117343491696024 & 1.2504327222188452 & 1.4913891987281187 & 1.706089365660831 & 1.9598319543709697 & 2.0032587695094506 & 1.7024178898644349 & 1.7530950458783194 & 1.513806543818205 & 1.1667133352548216 & 0.975296417613197 & 1.3050725379535528 & 1.3925365608989815 & 1.139024026695196 & 1.8711870116728246 & 1.997935117915603 & 1.9396744266041237 & 2.014780099568902 & 2.0711496385231203 & 1.8460917520169968 & 1.4663164999910807 & 1.9175944091662178 & 2.0141605262828453 & 1.5061489924127827 & 1.9034072659059595 & 1.7879482424647084 & 2.039676933083709 & 1.6977634144975777 & 1.673274082822702 & 1.7963019985116058 & 1.9913983377207913 & 2.0009589052253944 & 1.7446947341919967 & 1.7988301992090698 & 1.9520225112215148 & 1.6020020622521203 & 1.5310499948501284 & 1.495018836359481 & 1.4009732169296718 & 1.591105102146945 & 1.702970084186555 & 1.8379772951985665 & 1.9470709479191382 & 1.2920086447972632 & 1.855647815683114 & 1.9229844770236244 & 1.6790090134181108 & 1.6101923376007619 & 1.936241967032417 & 1.8890702589382944 & 1.2276193675379483 & 1.8027162634673608 & 1.6302747874707957 & 1.5763267489330512 & 1.3644200308212262 & 1.2306652520523886 & 1.5978371098253645 & 1.3097782398635491 & 1.305440589618291 & 1.407244586961118 & 1.137797455512989 & 1.3151625554295037 & 1.3987249891425804 & 1.8426562457145907 & 1.9361428783984598 & 1.966551739567484 & 1.5436988860069814 & 1.302726686050058 & 1.6632547834875537 & 1.5278586954716762 & 1.7417516539649402 & 1.4320093966207366 & 1.6103532360105113 & 1.1833009502086398 & 1.1198866175000979 & 1.1537597372984099 & 0.9872974836938002 & 1.1620858400655087 & 1.1663636679218028 & 1.2472677187071983 & 1.0230814070099663 & 1.1999942268364816 & 1.1594230399396002 & 1.1491810107137836 & 1.1569066970716657 & 0.9924205014460069 & 1.1680409300550758 & 1.131833552144088 & 1.3873374627659476 & 1.3544663691723509 & 1.3642811240608534 & 1.721309219738271 & 1.3574197697243406 & 0.9816575548424868 & 1.802083545224662 & 1.6970839726798834 & 1.5171182091158688 & 1.9583771592160297 & 1.9208511290990273 & 2.0097023643790584 & 1.6234808938006045 & 1.1831795578239026 & 1.324993757389812 & 1.930749430185958 & 1.3733303860635901 & 1.3113135972961354 & 1.3918727498399441 & 1.6179661333619375 & 1.5199949471945184 & 1.1425991731271286 & 0.8996337395871027 & 1.0991660296720107 & 1.0141406617407094 & 1.6799695791496116 & 1.226442964307859 & 1.2891130075523087 & 1.0431269226193662 & 1.186148083231726 & 2.0365216010401306 & 1.8583674563091517 & 1.6817415399328703 & 2.046657740115802 & 1.9738046751852625 & 1.5333022926522106 & 2.0011946249718067 & 1.678774488010753 & 1.3080240808020303 & 1.9605047763139734 & 1.9000006691018851 & 1.6088657039567684 & 1.9877000457319167 & 1.7520202786349361 & 1.7292941621738451 & 1.447571119269346 & 1.6814232125669826 & 1.8205710414183658 & 1.6639925284886978 & 1.7884945675342043 & 1.5335398061174865 & 1.5743401451274905 & 1.636868499171573 & 1.7547244753093314 & 1.8006386177596243 & 1.2079277037785285 & 1.72652109446928 & 1.4979761712799704 & 1.3902671840978924 & 1.5942158622667644 & 1.840047104116958 & 2.026219849797117 & 1.8577814907080483 & 2.0087163077498444 & 1.8862022317494735 & 1.7748354054446782 & 1.597324674454087 & 1.7020989582548367 & 1.802035604391665 & 1.8618781028842888 & 1.9267142303678682 & 1.4774312151836126 & 1.3503228509218137 & 1.5929100227261066 & 1.1769395743994502 & 1.132801900593574 & 1.1486588743985013 & 1.1244614860029751 & 1.0362377728593584 & 1.004017884751298 & 1.6920188689735671 & 1.6021701619341273 & 1.5702693511142396 & 1.550178861920974 & 1.8542212894039942 & 1.5174819280036602 & 1.3150584816829136 & 1.9182848887824622 & 1.0866004659687547 & 1.732602792900352 & 1.5149413057532781 & 1.1017565776371214 & 1.6435888689120404 & 1.5512383409340071 & 1.5106543171442666 & 1.8733961289501697 & 1.66911276870517 & 1.6941112827999465 & 1.7364545320547546 & 1.854802923076386 & 1.3602989681392543 & 1.401698320467573 & 1.894336642389012 & 1.7672014834875471 & 1.8030876302187437 & 1.0354474441757133 & 0.9928149017055266 & 1.0244833446947834 & 1.068900150261071 & 1.4766019312043746 & 1.4623788219607146 & 1.3903882404968535 & 1.8791593032790743 & 1.6681775915587016 & 1.7281895735769428 & 1.8160668108347293 & 1.9519593944690738 & 2.003945180274381 & 1.2706344920558579 & 1.7200213575858971 & 1.5463453966996439 & 1.5645784113665955 & 1.8297160077910457 & 1.979318159982298 & 1.6844573859339977 & 1.7367319228466842 & 1.1916233682231765 & 1.658680569304638 & 1.3534027158284319 & 1.5999640264849424 & 1.8851458110139312 & 1.4502711202005591 & 1.515052130324513 & 1.7541809741143894 & 1.6169820950573086 & 1.7665199730499936 & 1.8801965545359574 & 1.90059908955944 & 1.491714092393836 & 1.8300611459902283 & 1.2458154349050328 & 1.392606254657962\\end{pmatrix}\\ \\mathrm{nanometer}$"
      ],
      "text/plain": [
       "array([1.42980221, 1.50600047, 1.6863101 , ..., 1.83006115, 1.24581543,\n",
       "       1.39260625]) <Unit('nanometer')>"
      ]
     },
     "execution_count": 42,
     "metadata": {},
     "output_type": "execute_result"
    }
   ],
   "source": [
    "max_distances"
   ]
  },
  {
   "cell_type": "markdown",
   "metadata": {},
   "source": [
    "To give a last example on this methods, lets wonder: what is the residue of the peptide with the largest displacement between each frame and the next one? (at each frame, of course)"
   ]
  },
  {
   "cell_type": "code",
   "execution_count": 43,
   "metadata": {},
   "outputs": [],
   "source": [
    "list_atom_groups = msm.get(molecular_system, target='group', selection='all', atom_index=True)\n",
    "frames=np.arange(msm.get(molecular_system, n_frames=True))\n",
    "max_group, max_distances = msm.structure.get_maximum_distances(molecular_system,\n",
    "                                                groups_of_atoms=list_atom_groups,\n",
    "                                                group_behavior='geometric_center',\n",
    "                                                groups_of_atoms_2=list_atom_groups,\n",
    "                                                group_behavior_2='geometric_center',\n",
    "                                                frame_indices=frames[:-1],\n",
    "                                                frame_indices_2=frames[1:],\n",
    "                                                pairs=True)"
   ]
  },
  {
   "cell_type": "markdown",
   "metadata": {},
   "source": [
    "Since we are using the option `pairs=True`, the output this time corresponds to the index of the pair made by the elements in both `groups_of_atoms_1` and `groups_of_atoms_2` with the maximum distance, or displacement in this case, for each i-th frame with the consecutive (i+1)-th frame:"
   ]
  },
  {
   "cell_type": "code",
   "execution_count": 44,
   "metadata": {},
   "outputs": [
    {
     "data": {
      "text/plain": [
       "(4999,)"
      ]
     },
     "execution_count": 44,
     "metadata": {},
     "output_type": "execute_result"
    }
   ],
   "source": [
    "max_group.shape"
   ]
  },
  {
   "cell_type": "code",
   "execution_count": 45,
   "metadata": {},
   "outputs": [
    {
     "data": {
      "text/plain": [
       "array([2, 0, 6, ..., 6, 6, 6])"
      ]
     },
     "execution_count": 45,
     "metadata": {},
     "output_type": "execute_result"
    }
   ],
   "source": [
    "max_group"
   ]
  },
  {
   "cell_type": "markdown",
   "metadata": {},
   "source": [
    "And the value of this maximum displacements are:"
   ]
  },
  {
   "cell_type": "markdown",
   "metadata": {},
   "source": [
    "This way:"
   ]
  },
  {
   "cell_type": "code",
   "execution_count": 46,
   "metadata": {},
   "outputs": [
    {
     "name": "stdout",
     "output_type": "stream",
     "text": [
      "The 3-th is the group with the maximum displacement between frames 200-th and 201-th: 0.6367210108091421 nanometer\n"
     ]
    }
   ],
   "source": [
    "print('The {}-th is the group with the maximum displacement between frames 200-th and 201-th: {}'.format(max_group[200], max_distances[200]))"
   ]
  },
  {
   "cell_type": "code",
   "execution_count": null,
   "metadata": {},
   "outputs": [],
   "source": []
  }
 ],
 "metadata": {
  "kernelspec": {
   "display_name": "Python 3 (ipykernel)",
   "language": "python",
   "name": "python3"
  },
  "language_info": {
   "codemirror_mode": {
    "name": "ipython",
    "version": 3
   },
   "file_extension": ".py",
   "mimetype": "text/x-python",
   "name": "python",
   "nbconvert_exporter": "python",
   "pygments_lexer": "ipython3",
   "version": "3.7.10"
  }
 },
 "nbformat": 4,
 "nbformat_minor": 4
}
