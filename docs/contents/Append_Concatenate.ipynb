{
 "cells": [
  {
   "cell_type": "code",
   "execution_count": 1,
   "metadata": {},
   "outputs": [],
   "source": [
    "%load_ext autoreload\n",
    "%autoreload 2"
   ]
  },
  {
   "cell_type": "code",
   "execution_count": 2,
   "metadata": {},
   "outputs": [
    {
     "data": {
      "application/vnd.jupyter.widget-view+json": {
       "model_id": "b526bdcaf00e460497e1c91dc9125eb9",
       "version_major": 2,
       "version_minor": 0
      },
      "text/plain": []
     },
     "metadata": {},
     "output_type": "display_data"
    }
   ],
   "source": [
    "import molsysmt as msm\n",
    "from molsysmt import puw\n",
    "import numpy as np"
   ]
  },
  {
   "cell_type": "markdown",
   "metadata": {},
   "source": [
    "# Append and Concatenate"
   ]
  },
  {
   "cell_type": "markdown",
   "metadata": {},
   "source": [
    "## Appending to molecular systems\n",
    "\n",
    "The coordinates of atoms from molecular systems are appended to a given system."
   ]
  },
  {
   "cell_type": "code",
   "execution_count": 3,
   "metadata": {},
   "outputs": [],
   "source": [
    "molecular_system_1 = msm.build_peptide('aminoacids3:AceAlaNme')\n",
    "molecular_system_2 = msm.copy(molecular_system_1)\n",
    "molecular_system_3 = msm.copy(molecular_system_1)\n",
    "molecular_system_4 = msm.copy(molecular_system_1)\n",
    "\n",
    "msm.translate(molecular_system_2, translation=np.array([0.1, 0.1, 0.1])*puw.unit('nanometers'))\n",
    "msm.translate(molecular_system_3, translation=[0.2, 0.2, 0.2]*puw.unit('nm'))\n",
    "msm.translate(molecular_system_4, translation=puw.quantity([0.3, 0.3, 0.3], 'nm'))"
   ]
  },
  {
   "cell_type": "code",
   "execution_count": 4,
   "metadata": {},
   "outputs": [
    {
     "data": {
      "text/html": [
       "<style  type=\"text/css\" >\n",
       "</style><table id=\"T_833b1_\" ><thead>    <tr>        <th class=\"col_heading level0 col0\" >form</th>        <th class=\"col_heading level0 col1\" >n_atoms</th>        <th class=\"col_heading level0 col2\" >n_groups</th>        <th class=\"col_heading level0 col3\" >n_components</th>        <th class=\"col_heading level0 col4\" >n_chains</th>        <th class=\"col_heading level0 col5\" >n_molecules</th>        <th class=\"col_heading level0 col6\" >n_entities</th>        <th class=\"col_heading level0 col7\" >n_peptides</th>        <th class=\"col_heading level0 col8\" >n_frames</th>    </tr></thead><tbody>\n",
       "                <tr>\n",
       "                                <td id=\"T_833b1_row0_col0\" class=\"data row0 col0\" >molsysmt.MolSys</td>\n",
       "                        <td id=\"T_833b1_row0_col1\" class=\"data row0 col1\" >22</td>\n",
       "                        <td id=\"T_833b1_row0_col2\" class=\"data row0 col2\" >3</td>\n",
       "                        <td id=\"T_833b1_row0_col3\" class=\"data row0 col3\" >1</td>\n",
       "                        <td id=\"T_833b1_row0_col4\" class=\"data row0 col4\" >1</td>\n",
       "                        <td id=\"T_833b1_row0_col5\" class=\"data row0 col5\" >1</td>\n",
       "                        <td id=\"T_833b1_row0_col6\" class=\"data row0 col6\" >1</td>\n",
       "                        <td id=\"T_833b1_row0_col7\" class=\"data row0 col7\" >1</td>\n",
       "                        <td id=\"T_833b1_row0_col8\" class=\"data row0 col8\" >1</td>\n",
       "            </tr>\n",
       "    </tbody></table>"
      ],
      "text/plain": [
       "<pandas.io.formats.style.Styler at 0x7f1e854dd050>"
      ]
     },
     "execution_count": 4,
     "metadata": {},
     "output_type": "execute_result"
    }
   ],
   "source": [
    "msm.info(molecular_system_1)"
   ]
  },
  {
   "cell_type": "code",
   "execution_count": 5,
   "metadata": {},
   "outputs": [
    {
     "ename": "NameError",
     "evalue": "name 'is_single_molecular_system' is not defined",
     "output_type": "error",
     "traceback": [
      "\u001b[0;31m---------------------------------------------------------------------------\u001b[0m",
      "\u001b[0;31mNameError\u001b[0m                                 Traceback (most recent call last)",
      "\u001b[0;32m<ipython-input-5-82dbc8e70499>\u001b[0m in \u001b[0;36m<module>\u001b[0;34m\u001b[0m\n\u001b[0;32m----> 1\u001b[0;31m \u001b[0mmsm\u001b[0m\u001b[0;34m.\u001b[0m\u001b[0mappend\u001b[0m\u001b[0;34m(\u001b[0m\u001b[0mmolecular_system_1\u001b[0m\u001b[0;34m,\u001b[0m \u001b[0;34m[\u001b[0m\u001b[0mmolecular_system_2\u001b[0m\u001b[0;34m,\u001b[0m \u001b[0mmolecular_system_3\u001b[0m\u001b[0;34m,\u001b[0m \u001b[0mmolecular_system_4\u001b[0m\u001b[0;34m]\u001b[0m\u001b[0;34m)\u001b[0m\u001b[0;34m\u001b[0m\u001b[0;34m\u001b[0m\u001b[0m\n\u001b[0m",
      "\u001b[0;32m~/Proyectos/MolSysMT/molsysmt/multitool.py\u001b[0m in \u001b[0;36mappend\u001b[0;34m(to_item, from_items, selections, frame_indices, syntaxis)\u001b[0m\n\u001b[1;32m    585\u001b[0m \u001b[0;32mdef\u001b[0m \u001b[0mappend\u001b[0m\u001b[0;34m(\u001b[0m\u001b[0mto_item\u001b[0m\u001b[0;34m,\u001b[0m \u001b[0mfrom_items\u001b[0m\u001b[0;34m=\u001b[0m\u001b[0;32mNone\u001b[0m\u001b[0;34m,\u001b[0m \u001b[0mselections\u001b[0m\u001b[0;34m=\u001b[0m\u001b[0;34m'all'\u001b[0m\u001b[0;34m,\u001b[0m \u001b[0mframe_indices\u001b[0m\u001b[0;34m=\u001b[0m\u001b[0;34m'all'\u001b[0m\u001b[0;34m,\u001b[0m \u001b[0msyntaxis\u001b[0m\u001b[0;34m=\u001b[0m\u001b[0;34m'MolSysMT'\u001b[0m\u001b[0;34m)\u001b[0m\u001b[0;34m:\u001b[0m\u001b[0;34m\u001b[0m\u001b[0;34m\u001b[0m\u001b[0m\n\u001b[1;32m    586\u001b[0m \u001b[0;34m\u001b[0m\u001b[0m\n\u001b[0;32m--> 587\u001b[0;31m     \u001b[0;32mif\u001b[0m \u001b[0;32mnot\u001b[0m \u001b[0mis_single_molecular_system\u001b[0m\u001b[0;34m(\u001b[0m\u001b[0mto_items\u001b[0m\u001b[0;34m)\u001b[0m\u001b[0;34m:\u001b[0m\u001b[0;34m\u001b[0m\u001b[0;34m\u001b[0m\u001b[0m\n\u001b[0m\u001b[1;32m    588\u001b[0m         \u001b[0;32mraise\u001b[0m \u001b[0mNeedsSingleMolecularSystem\u001b[0m\u001b[0;34m(\u001b[0m\u001b[0;34m\"The argument 'to_items' needs to contain a single molecular system.\"\u001b[0m\u001b[0;34m)\u001b[0m\u001b[0;34m\u001b[0m\u001b[0;34m\u001b[0m\u001b[0m\n\u001b[1;32m    589\u001b[0m \u001b[0;34m\u001b[0m\u001b[0m\n",
      "\u001b[0;31mNameError\u001b[0m: name 'is_single_molecular_system' is not defined"
     ]
    }
   ],
   "source": [
    "msm.append(molecular_system_1, [molecular_system_2, molecular_system_3, molecular_system_4])"
   ]
  },
  {
   "cell_type": "code",
   "execution_count": null,
   "metadata": {},
   "outputs": [],
   "source": [
    "msm.info(molecular_system_1)"
   ]
  },
  {
   "cell_type": "code",
   "execution_count": null,
   "metadata": {},
   "outputs": [],
   "source": [
    "msm.view(molecular_system_1)"
   ]
  },
  {
   "cell_type": "markdown",
   "metadata": {},
   "source": [
    "## Concatenating Molecular Systems\n",
    "\n",
    "A list of molecular systems are concatenated in to a new molecular system. They all can have different forms but must have the same topology (they must be the same molecular system, in deed). The resultant object will contain all coordinates (frames) in the same order they were concatenated."
   ]
  },
  {
   "cell_type": "code",
   "execution_count": null,
   "metadata": {},
   "outputs": [],
   "source": [
    "molecular_system_1 = msm.build_peptide('aminoacids3:AceAlaNme')"
   ]
  },
  {
   "cell_type": "code",
   "execution_count": null,
   "metadata": {},
   "outputs": [],
   "source": [
    "molecular_system_1 = msm.build_peptide('aminoacids3:AceAlaNme')\n",
    "molecular_system_2 = msm.copy(molecular_system_1)\n",
    "molecular_system_3 = msm.copy(molecular_system_1)\n",
    "molecular_system_4 = msm.copy(molecular_system_1)\n",
    "\n",
    "msm.translate(molecular_system_2, translation=[0.1, 0.1, 0.1]*unit.nanometers)\n",
    "msm.translate(molecular_system_3, translation=[0.2, 0.2, 0.2]*unit.nanometers)\n",
    "msm.translate(molecular_system_4, translation=[0.3, 0.3, 0.3]*unit.nanometers)"
   ]
  },
  {
   "cell_type": "code",
   "execution_count": null,
   "metadata": {},
   "outputs": [],
   "source": [
    "molecular_system_total = msm.concatenate([molecular_system_1, molecular_system_2, molecular_system_3,\n",
    "                                          molecular_system_4])"
   ]
  },
  {
   "cell_type": "code",
   "execution_count": null,
   "metadata": {},
   "outputs": [],
   "source": [
    "msm.info(molecular_system_total)"
   ]
  },
  {
   "cell_type": "code",
   "execution_count": null,
   "metadata": {},
   "outputs": [],
   "source": [
    "msm.view(molecular_system_total)"
   ]
  },
  {
   "cell_type": "markdown",
   "metadata": {},
   "source": [
    "** Checar**: Tengo que checar lo mismo que para merge y add"
   ]
  }
 ],
 "metadata": {
  "kernelspec": {
   "display_name": "Python 3",
   "language": "python",
   "name": "python3"
  },
  "language_info": {
   "codemirror_mode": {
    "name": "ipython",
    "version": 3
   },
   "file_extension": ".py",
   "mimetype": "text/x-python",
   "name": "python",
   "nbconvert_exporter": "python",
   "pygments_lexer": "ipython3",
   "version": "3.7.9"
  }
 },
 "nbformat": 4,
 "nbformat_minor": 4
}
