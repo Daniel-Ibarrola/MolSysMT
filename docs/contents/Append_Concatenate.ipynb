{
 "cells": [
  {
   "cell_type": "code",
   "execution_count": 1,
   "metadata": {},
   "outputs": [],
   "source": [
    "%load_ext autoreload\n",
    "%autoreload 2"
   ]
  },
  {
   "cell_type": "code",
   "execution_count": 2,
   "metadata": {},
   "outputs": [
    {
     "data": {
      "application/vnd.jupyter.widget-view+json": {
       "model_id": "af9067a2c75846d39d9dcecd768015b2",
       "version_major": 2,
       "version_minor": 0
      },
      "text/plain": []
     },
     "metadata": {},
     "output_type": "display_data"
    }
   ],
   "source": [
    "import molsysmt as msm\n",
    "from molsysmt import puw\n",
    "import numpy as np"
   ]
  },
  {
   "cell_type": "markdown",
   "metadata": {},
   "source": [
    "# Append and Concatenate frames"
   ]
  },
  {
   "cell_type": "markdown",
   "metadata": {},
   "source": [
    "## Appending frames to a molecular system\n",
    "\n",
    "The coordinates of atoms from molecular systems are appended to a given system."
   ]
  },
  {
   "cell_type": "code",
   "execution_count": 8,
   "metadata": {},
   "outputs": [],
   "source": [
    "molecular_system_1 = msm.build_peptide(['AceAlaNME',{'forcefield':'AMBER14', 'implicit_solvent':'OBC1'}])\n",
    "molecular_system_2 = msm.copy(molecular_system_1)\n",
    "molecular_system_3 = msm.copy(molecular_system_1)\n",
    "molecular_system_4 = msm.copy(molecular_system_1)\n",
    "\n",
    "msm.translate(molecular_system_2, translation=np.array([0.1, 0.1, 0.1])*puw.unit('nanometers'))\n",
    "msm.translate(molecular_system_3, translation=[0.2, 0.2, 0.2]*puw.unit('nm'))\n",
    "msm.translate(molecular_system_4, translation=puw.quantity([0.3, 0.3, 0.3], 'nm'))"
   ]
  },
  {
   "cell_type": "code",
   "execution_count": 10,
   "metadata": {},
   "outputs": [
    {
     "name": "stdout",
     "output_type": "stream",
     "text": [
      "3\n"
     ]
    }
   ],
   "source": [
    "msm.append_frames(molecular_system_1, [[molecular_system_2], [molecular_system_3], [molecular_system_4]])"
   ]
  },
  {
   "cell_type": "code",
   "execution_count": 11,
   "metadata": {},
   "outputs": [
    {
     "data": {
      "text/html": [
       "<style  type=\"text/css\" >\n",
       "</style><table id=\"T_af421_\" ><thead>    <tr>        <th class=\"col_heading level0 col0\" >form</th>        <th class=\"col_heading level0 col1\" >n_atoms</th>        <th class=\"col_heading level0 col2\" >n_groups</th>        <th class=\"col_heading level0 col3\" >n_components</th>        <th class=\"col_heading level0 col4\" >n_chains</th>        <th class=\"col_heading level0 col5\" >n_molecules</th>        <th class=\"col_heading level0 col6\" >n_entities</th>        <th class=\"col_heading level0 col7\" >n_peptides</th>        <th class=\"col_heading level0 col8\" >n_frames</th>    </tr></thead><tbody>\n",
       "                <tr>\n",
       "                                <td id=\"T_af421_row0_col0\" class=\"data row0 col0\" >molsysmt.MolSys</td>\n",
       "                        <td id=\"T_af421_row0_col1\" class=\"data row0 col1\" >22</td>\n",
       "                        <td id=\"T_af421_row0_col2\" class=\"data row0 col2\" >3</td>\n",
       "                        <td id=\"T_af421_row0_col3\" class=\"data row0 col3\" >1</td>\n",
       "                        <td id=\"T_af421_row0_col4\" class=\"data row0 col4\" >1</td>\n",
       "                        <td id=\"T_af421_row0_col5\" class=\"data row0 col5\" >1</td>\n",
       "                        <td id=\"T_af421_row0_col6\" class=\"data row0 col6\" >1</td>\n",
       "                        <td id=\"T_af421_row0_col7\" class=\"data row0 col7\" >1</td>\n",
       "                        <td id=\"T_af421_row0_col8\" class=\"data row0 col8\" >5</td>\n",
       "            </tr>\n",
       "    </tbody></table>"
      ],
      "text/plain": [
       "<pandas.io.formats.style.Styler at 0x7f4b2b5a65d0>"
      ]
     },
     "execution_count": 11,
     "metadata": {},
     "output_type": "execute_result"
    }
   ],
   "source": [
    "msm.info(molecular_system_1)"
   ]
  },
  {
   "cell_type": "code",
   "execution_count": 12,
   "metadata": {},
   "outputs": [
    {
     "data": {
      "application/vnd.jupyter.widget-view+json": {
       "model_id": "ed9fac5ce0ab428e8c3f7d3449d7dd4a",
       "version_major": 2,
       "version_minor": 0
      },
      "text/plain": [
       "NGLWidget(max_frame=4)"
      ]
     },
     "metadata": {},
     "output_type": "display_data"
    }
   ],
   "source": [
    "msm.view(molecular_system_1)"
   ]
  },
  {
   "cell_type": "markdown",
   "metadata": {},
   "source": [
    "## Concatenating frames from molecular systems\n",
    "\n",
    "A list of molecular systems are concatenated in to a new molecular system. They all can have different forms but must have the same topology (they must be the same molecular system, in deed). The resultant object will contain all coordinates (frames) in the same order they were concatenated."
   ]
  },
  {
   "cell_type": "code",
   "execution_count": 24,
   "metadata": {},
   "outputs": [],
   "source": [
    "molecular_system_1 = msm.build_peptide(['AceAlaNME',{'forcefield':'AMBER14', 'implicit_solvent':'OBC1'}])\n",
    "molecular_system_2 = msm.copy(molecular_system_1)\n",
    "molecular_system_3 = msm.copy(molecular_system_1)\n",
    "molecular_system_4 = msm.copy(molecular_system_1)\n",
    "\n",
    "msm.translate(molecular_system_2, translation=[0.1, 0.1, 0.1]*puw.unit('nm'))\n",
    "msm.translate(molecular_system_3, translation=[0.2, 0.2, 0.2]*puw.unit('nm'))\n",
    "msm.translate(molecular_system_4, translation=[0.3, 0.3, 0.3]*puw.unit('nm'))"
   ]
  },
  {
   "cell_type": "code",
   "execution_count": 25,
   "metadata": {},
   "outputs": [],
   "source": [
    "molecular_system_total = msm.concatenate_frames([[molecular_system_1], [molecular_system_2],\n",
    "                                                 [molecular_system_3], [molecular_system_4]])"
   ]
  },
  {
   "cell_type": "code",
   "execution_count": 26,
   "metadata": {},
   "outputs": [
    {
     "data": {
      "text/html": [
       "<style  type=\"text/css\" >\n",
       "</style><table id=\"T_eff74_\" ><thead>    <tr>        <th class=\"col_heading level0 col0\" >form</th>        <th class=\"col_heading level0 col1\" >n_atoms</th>        <th class=\"col_heading level0 col2\" >n_groups</th>        <th class=\"col_heading level0 col3\" >n_components</th>        <th class=\"col_heading level0 col4\" >n_chains</th>        <th class=\"col_heading level0 col5\" >n_molecules</th>        <th class=\"col_heading level0 col6\" >n_entities</th>        <th class=\"col_heading level0 col7\" >n_peptides</th>        <th class=\"col_heading level0 col8\" >n_frames</th>    </tr></thead><tbody>\n",
       "                <tr>\n",
       "                                <td id=\"T_eff74_row0_col0\" class=\"data row0 col0\" >molsysmt.MolSys</td>\n",
       "                        <td id=\"T_eff74_row0_col1\" class=\"data row0 col1\" >22</td>\n",
       "                        <td id=\"T_eff74_row0_col2\" class=\"data row0 col2\" >3</td>\n",
       "                        <td id=\"T_eff74_row0_col3\" class=\"data row0 col3\" >1</td>\n",
       "                        <td id=\"T_eff74_row0_col4\" class=\"data row0 col4\" >1</td>\n",
       "                        <td id=\"T_eff74_row0_col5\" class=\"data row0 col5\" >1</td>\n",
       "                        <td id=\"T_eff74_row0_col6\" class=\"data row0 col6\" >1</td>\n",
       "                        <td id=\"T_eff74_row0_col7\" class=\"data row0 col7\" >1</td>\n",
       "                        <td id=\"T_eff74_row0_col8\" class=\"data row0 col8\" >4</td>\n",
       "            </tr>\n",
       "    </tbody></table>"
      ],
      "text/plain": [
       "<pandas.io.formats.style.Styler at 0x7f4b2b5afb90>"
      ]
     },
     "execution_count": 26,
     "metadata": {},
     "output_type": "execute_result"
    }
   ],
   "source": [
    "msm.info(molecular_system_total)"
   ]
  },
  {
   "cell_type": "code",
   "execution_count": 27,
   "metadata": {},
   "outputs": [
    {
     "data": {
      "application/vnd.jupyter.widget-view+json": {
       "model_id": "1bc207172b9e49e2ad6c3e11a502db68",
       "version_major": 2,
       "version_minor": 0
      },
      "text/plain": [
       "NGLWidget(max_frame=3)"
      ]
     },
     "metadata": {},
     "output_type": "display_data"
    }
   ],
   "source": [
    "msm.view(molecular_system_total)"
   ]
  },
  {
   "cell_type": "markdown",
   "metadata": {},
   "source": [
    "** Checar**: Tengo que checar lo mismo que para merge y add"
   ]
  }
 ],
 "metadata": {
  "kernelspec": {
   "display_name": "Python 3",
   "language": "python",
   "name": "python3"
  },
  "language_info": {
   "codemirror_mode": {
    "name": "ipython",
    "version": 3
   },
   "file_extension": ".py",
   "mimetype": "text/x-python",
   "name": "python",
   "nbconvert_exporter": "python",
   "pygments_lexer": "ipython3",
   "version": "3.7.10"
  }
 },
 "nbformat": 4,
 "nbformat_minor": 4
}
