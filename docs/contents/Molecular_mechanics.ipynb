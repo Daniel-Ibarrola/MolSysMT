{
 "cells": [
  {
   "cell_type": "code",
   "execution_count": 1,
   "metadata": {},
   "outputs": [],
   "source": [
    "%load_ext autoreload\n",
    "%autoreload 2"
   ]
  },
  {
   "cell_type": "code",
   "execution_count": 2,
   "metadata": {},
   "outputs": [
    {
     "data": {
      "application/vnd.jupyter.widget-view+json": {
       "model_id": "67a07b43cab64e24acd3fb29aceff6f0",
       "version_major": 2,
       "version_minor": 0
      },
      "text/plain": []
     },
     "metadata": {},
     "output_type": "display_data"
    }
   ],
   "source": [
    "import molsysmt as msm"
   ]
  },
  {
   "cell_type": "markdown",
   "metadata": {},
   "source": [
    "# Molecular Mechanics"
   ]
  },
  {
   "cell_type": "code",
   "execution_count": 3,
   "metadata": {},
   "outputs": [],
   "source": [
    "item = {'forcefield':'patata'}"
   ]
  },
  {
   "cell_type": "code",
   "execution_count": 4,
   "metadata": {},
   "outputs": [
    {
     "data": {
      "text/plain": [
       "'MolecularMechanicsDict'"
      ]
     },
     "execution_count": 4,
     "metadata": {},
     "output_type": "execute_result"
    }
   ],
   "source": [
    "msm.get_form(item)"
   ]
  },
  {
   "cell_type": "code",
   "execution_count": 5,
   "metadata": {},
   "outputs": [],
   "source": [
    "item = msm.convert(item, to_form='molsysmt.MolecularMechanics')"
   ]
  },
  {
   "cell_type": "code",
   "execution_count": 6,
   "metadata": {},
   "outputs": [
    {
     "data": {
      "text/plain": [
       "'molsysmt.MolecularMechanics'"
      ]
     },
     "execution_count": 6,
     "metadata": {},
     "output_type": "execute_result"
    }
   ],
   "source": [
    "msm.get_form(item)"
   ]
  },
  {
   "cell_type": "code",
   "execution_count": 7,
   "metadata": {},
   "outputs": [
    {
     "data": {
      "text/plain": [
       "{'_molecular_system': None,\n",
       " 'forcefield': 'patata',\n",
       " 'non_bonded_method': 'no_cutoff',\n",
       " 'non_bonded_cutoff': None,\n",
       " 'switch_distance': None,\n",
       " 'use_dispersion_correction': False,\n",
       " 'ewald_error_tolerance': 0.0001,\n",
       " 'hydrogen_mass': None,\n",
       " 'constraints': None,\n",
       " 'flexible_constraints': False,\n",
       " 'water_model': None,\n",
       " 'rigid_water': True,\n",
       " 'residue_templates': {},\n",
       " 'ignore_external_bonds': False,\n",
       " 'implicit_solvent': None,\n",
       " 'solute_dielectric': 1.0,\n",
       " 'solvent_dielectric': 78.5,\n",
       " 'implicit_solvent_salt_conc': '0.0 mol/L',\n",
       " 'implicit_solvent_kappa': '0.0 1/nm'}"
      ]
     },
     "execution_count": 7,
     "metadata": {},
     "output_type": "execute_result"
    }
   ],
   "source": [
    "item.__dict__"
   ]
  },
  {
   "cell_type": "code",
   "execution_count": 8,
   "metadata": {},
   "outputs": [],
   "source": [
    "file_path = msm.demo_systems.files['1tcd.pdb']\n",
    "molecular_system_A = msm.convert(file_path)\n",
    "molecular_system_A = msm.remove_solvent(molecular_system_A)\n",
    "molecular_system_A = msm.add_missing_hydrogens(molecular_system_A)"
   ]
  },
  {
   "cell_type": "code",
   "execution_count": 9,
   "metadata": {},
   "outputs": [],
   "source": [
    "from molsysmt.molecular_system import MolecularSystem"
   ]
  },
  {
   "cell_type": "code",
   "execution_count": 10,
   "metadata": {},
   "outputs": [],
   "source": [
    "molecular_system = MolecularSystem(molecular_system_A)"
   ]
  },
  {
   "cell_type": "code",
   "execution_count": 11,
   "metadata": {},
   "outputs": [
    {
     "data": {
      "text/plain": [
       "{'elements_item': <molsysmt.native.molsys.MolSys at 0x7f66df837810>,\n",
       " 'elements_form': 'molsysmt.MolSys',\n",
       " 'bonds_item': <molsysmt.native.molsys.MolSys at 0x7f66df837810>,\n",
       " 'bonds_form': 'molsysmt.MolSys',\n",
       " 'coordinates_item': <molsysmt.native.molsys.MolSys at 0x7f66df837810>,\n",
       " 'coordinates_form': 'molsysmt.MolSys',\n",
       " 'velocities_item': None,\n",
       " 'velocities_form': None,\n",
       " 'box_item': <molsysmt.native.molsys.MolSys at 0x7f66df837810>,\n",
       " 'box_form': 'molsysmt.MolSys',\n",
       " 'ff_parameters_item': None,\n",
       " 'ff_parameters_form': None,\n",
       " 'mm_parameters_item': None,\n",
       " 'mm_parameters_form': None,\n",
       " 'thermo_state_item': None,\n",
       " 'thermo_state_form': None,\n",
       " 'simulation_item': None,\n",
       " 'simulation_form': None}"
      ]
     },
     "execution_count": 11,
     "metadata": {},
     "output_type": "execute_result"
    }
   ],
   "source": [
    "molecular_system.__dict__"
   ]
  },
  {
   "cell_type": "code",
   "execution_count": 12,
   "metadata": {},
   "outputs": [],
   "source": [
    "mm_parameters = {'forcefield':'AMBER14'}"
   ]
  },
  {
   "cell_type": "code",
   "execution_count": 13,
   "metadata": {},
   "outputs": [],
   "source": [
    "molecular_system = MolecularSystem([molecular_system_A, mm_parameters])"
   ]
  },
  {
   "cell_type": "code",
   "execution_count": 14,
   "metadata": {},
   "outputs": [],
   "source": [
    "from molsysmt.tools.molecular_systems import is_a_single_molecular_system"
   ]
  },
  {
   "cell_type": "code",
   "execution_count": 15,
   "metadata": {},
   "outputs": [
    {
     "data": {
      "text/plain": [
       "True"
      ]
     },
     "execution_count": 15,
     "metadata": {},
     "output_type": "execute_result"
    }
   ],
   "source": [
    "is_a_single_molecular_system([molecular_system_A, mm_parameters])"
   ]
  },
  {
   "cell_type": "code",
   "execution_count": 16,
   "metadata": {},
   "outputs": [],
   "source": [
    "aa = msm.convert([molecular_system_A, mm_parameters], to_form='molsysmt.MolecularMechanics')"
   ]
  },
  {
   "cell_type": "code",
   "execution_count": 17,
   "metadata": {},
   "outputs": [],
   "source": [
    "from molsysmt.native.simulation import simulation_to_potential_energy_minimization"
   ]
  },
  {
   "cell_type": "code",
   "execution_count": 18,
   "metadata": {},
   "outputs": [
    {
     "data": {
      "text/plain": [
       "'molsysmt.Simulation'"
      ]
     },
     "execution_count": 18,
     "metadata": {},
     "output_type": "execute_result"
    }
   ],
   "source": [
    "msm.get_form(simulation_to_potential_energy_minimization)"
   ]
  },
  {
   "cell_type": "code",
   "execution_count": 19,
   "metadata": {},
   "outputs": [],
   "source": [
    "top = msm.convert(molecular_system_A, to_form='openmm.Topology')"
   ]
  },
  {
   "cell_type": "code",
   "execution_count": 20,
   "metadata": {},
   "outputs": [],
   "source": [
    "aa = MolecularSystem([top, mm_parameters, simulation_to_potential_energy_minimization])"
   ]
  },
  {
   "cell_type": "code",
   "execution_count": 21,
   "metadata": {},
   "outputs": [
    {
     "data": {
      "text/plain": [
       "{'elements_item': <Topology; 2 chains, 497 residues, 7707 atoms, 7779 bonds>,\n",
       " 'elements_form': 'openmm.Topology',\n",
       " 'bonds_item': <Topology; 2 chains, 497 residues, 7707 atoms, 7779 bonds>,\n",
       " 'bonds_form': 'openmm.Topology',\n",
       " 'coordinates_item': None,\n",
       " 'coordinates_form': None,\n",
       " 'velocities_item': None,\n",
       " 'velocities_form': None,\n",
       " 'box_item': <Topology; 2 chains, 497 residues, 7707 atoms, 7779 bonds>,\n",
       " 'box_form': 'openmm.Topology',\n",
       " 'ff_parameters_item': {'forcefield': 'AMBER14'},\n",
       " 'ff_parameters_form': 'MolecularMechanicsDict',\n",
       " 'mm_parameters_item': {'forcefield': 'AMBER14'},\n",
       " 'mm_parameters_form': 'MolecularMechanicsDict',\n",
       " 'thermo_state_item': <molsysmt.native.simulation.Simulation at 0x7f6703748bd0>,\n",
       " 'thermo_state_form': 'molsysmt.Simulation',\n",
       " 'simulation_item': <molsysmt.native.simulation.Simulation at 0x7f6703748bd0>,\n",
       " 'simulation_form': 'molsysmt.Simulation'}"
      ]
     },
     "execution_count": 21,
     "metadata": {},
     "output_type": "execute_result"
    }
   ],
   "source": [
    "aa.__dict__"
   ]
  },
  {
   "cell_type": "code",
   "execution_count": 22,
   "metadata": {},
   "outputs": [],
   "source": [
    "tmp_item = msm.convert([molecular_system_A, mm_parameters,\n",
    "                        simulation_to_potential_energy_minimization],\n",
    "                       to_form='openmm.Simulation')"
   ]
  },
  {
   "cell_type": "code",
   "execution_count": 23,
   "metadata": {},
   "outputs": [],
   "source": [
    "tmp_item = msm.convert([molecular_system_A, mm_parameters,\n",
    "                        simulation_to_potential_energy_minimization],\n",
    "                       to_form='openmm.Context')"
   ]
  }
 ],
 "metadata": {
  "kernelspec": {
   "display_name": "Python 3",
   "language": "python",
   "name": "python3"
  },
  "language_info": {
   "codemirror_mode": {
    "name": "ipython",
    "version": 3
   },
   "file_extension": ".py",
   "mimetype": "text/x-python",
   "name": "python",
   "nbconvert_exporter": "python",
   "pygments_lexer": "ipython3",
   "version": "3.7.9"
  }
 },
 "nbformat": 4,
 "nbformat_minor": 4
}
