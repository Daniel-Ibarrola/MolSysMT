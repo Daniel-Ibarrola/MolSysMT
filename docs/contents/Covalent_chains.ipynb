{
 "cells": [
  {
   "cell_type": "code",
   "execution_count": 1,
   "metadata": {},
   "outputs": [],
   "source": [
    "%load_ext autoreload\n",
    "%autoreload 2"
   ]
  },
  {
   "cell_type": "code",
   "execution_count": 2,
   "metadata": {},
   "outputs": [
    {
     "data": {
      "application/vnd.jupyter.widget-view+json": {
       "model_id": "7e8c005b1c9f439ca69810074ed4cb22",
       "version_major": 2,
       "version_minor": 0
      },
      "text/plain": [
       "_ColormakerRegistry()"
      ]
     },
     "metadata": {},
     "output_type": "display_data"
    }
   ],
   "source": [
    "import molsysmt as msm"
   ]
  },
  {
   "cell_type": "markdown",
   "metadata": {},
   "source": [
    "# Covalent chains\n",
    "\n",
    "Lets load first of all a molecular system to work with in this section:"
   ]
  },
  {
   "cell_type": "code",
   "execution_count": 3,
   "metadata": {},
   "outputs": [],
   "source": [
    "molecular_system = msm.test_systems.files['1tcd.mmtf']\n",
    "molecular_system = msm.convert(molecular_system)"
   ]
  },
  {
   "cell_type": "code",
   "execution_count": 4,
   "metadata": {},
   "outputs": [
    {
     "data": {
      "text/html": [
       "<style  type=\"text/css\" >\n",
       "</style><table id=\"T_0bc05d4a_b5e5_11ea_9399_f122ba7a7cf9\" ><thead>    <tr>        <th class=\"col_heading level0 col0\" >form</th>        <th class=\"col_heading level0 col1\" >n_atoms</th>        <th class=\"col_heading level0 col2\" >n_groups</th>        <th class=\"col_heading level0 col3\" >n_components</th>        <th class=\"col_heading level0 col4\" >n_chains</th>        <th class=\"col_heading level0 col5\" >n_molecules</th>        <th class=\"col_heading level0 col6\" >n_entities</th>        <th class=\"col_heading level0 col7\" >n_waters</th>        <th class=\"col_heading level0 col8\" >n_proteins</th>        <th class=\"col_heading level0 col9\" >n_frames</th>    </tr></thead><tbody>\n",
       "                <tr>\n",
       "                                <td id=\"T_0bc05d4a_b5e5_11ea_9399_f122ba7a7cf9row0_col0\" class=\"data row0 col0\" >molsysmt.MolSys</td>\n",
       "                        <td id=\"T_0bc05d4a_b5e5_11ea_9399_f122ba7a7cf9row0_col1\" class=\"data row0 col1\" >3983</td>\n",
       "                        <td id=\"T_0bc05d4a_b5e5_11ea_9399_f122ba7a7cf9row0_col2\" class=\"data row0 col2\" >662</td>\n",
       "                        <td id=\"T_0bc05d4a_b5e5_11ea_9399_f122ba7a7cf9row0_col3\" class=\"data row0 col3\" >167</td>\n",
       "                        <td id=\"T_0bc05d4a_b5e5_11ea_9399_f122ba7a7cf9row0_col4\" class=\"data row0 col4\" >4</td>\n",
       "                        <td id=\"T_0bc05d4a_b5e5_11ea_9399_f122ba7a7cf9row0_col5\" class=\"data row0 col5\" >166</td>\n",
       "                        <td id=\"T_0bc05d4a_b5e5_11ea_9399_f122ba7a7cf9row0_col6\" class=\"data row0 col6\" >2</td>\n",
       "                        <td id=\"T_0bc05d4a_b5e5_11ea_9399_f122ba7a7cf9row0_col7\" class=\"data row0 col7\" >165</td>\n",
       "                        <td id=\"T_0bc05d4a_b5e5_11ea_9399_f122ba7a7cf9row0_col8\" class=\"data row0 col8\" >1</td>\n",
       "                        <td id=\"T_0bc05d4a_b5e5_11ea_9399_f122ba7a7cf9row0_col9\" class=\"data row0 col9\" >1</td>\n",
       "            </tr>\n",
       "    </tbody></table>"
      ],
      "text/plain": [
       "<pandas.io.formats.style.Styler at 0x7fcfb952a310>"
      ]
     },
     "execution_count": 4,
     "metadata": {},
     "output_type": "execute_result"
    }
   ],
   "source": [
    "msm.info(molecular_system)"
   ]
  },
  {
   "cell_type": "markdown",
   "metadata": {},
   "source": [
    "MolSysMT includes a method to get all covalent chains found in the molecular system given by a sequence of atom names. To illustrate how the method `molsysmt.covalent_chains` works lets extract all segments of atoms C, N, CA an C covalently bound in this order (C-N-CA-C):"
   ]
  },
  {
   "cell_type": "code",
   "execution_count": 5,
   "metadata": {},
   "outputs": [],
   "source": [
    "covalent_chains =msm.covalent_chains(molecular_system, chain=[\"C\", \"N\", \"CA\", \"C\"],\n",
    "                                     selection=\"component_index==0\")"
   ]
  },
  {
   "cell_type": "code",
   "execution_count": 6,
   "metadata": {},
   "outputs": [
    {
     "data": {
      "text/plain": [
       "(247, 4)"
      ]
     },
     "execution_count": 6,
     "metadata": {},
     "output_type": "execute_result"
    }
   ],
   "source": [
    "covalent_chains.shape"
   ]
  },
  {
   "cell_type": "markdown",
   "metadata": {},
   "source": [
    "The output is a numpy array 2-ranked where the dimension of the first axe or rank is the number of chains found in the system, and the second rank has dimension 4 (since it chain was chosen to have 4 atoms):"
   ]
  },
  {
   "cell_type": "code",
   "execution_count": 7,
   "metadata": {},
   "outputs": [
    {
     "data": {
      "text/plain": [
       "array([[   2,    9,   10,   11],\n",
       "       [  11,   16,   17,   18],\n",
       "       [  18,   25,   26,   27],\n",
       "       ...,\n",
       "       [1877, 1884, 1885, 1886],\n",
       "       [1886, 1889, 1890, 1891],\n",
       "       [1891, 1896, 1897, 1898]])"
      ]
     },
     "execution_count": 7,
     "metadata": {},
     "output_type": "execute_result"
    }
   ],
   "source": [
    "covalent_chains"
   ]
  },
  {
   "cell_type": "markdown",
   "metadata": {},
   "source": [
    "Lets check that the name of the atoms in any of the obtained chains is correct:"
   ]
  },
  {
   "cell_type": "code",
   "execution_count": 8,
   "metadata": {},
   "outputs": [
    {
     "data": {
      "text/plain": [
       "array(['C', 'N', 'CA', 'C'], dtype=object)"
      ]
     },
     "execution_count": 8,
     "metadata": {},
     "output_type": "execute_result"
    }
   ],
   "source": [
    "msm.get(molecular_system, selection=covalent_chains[0], name=True)"
   ]
  },
  {
   "cell_type": "markdown",
   "metadata": {},
   "source": [
    "The atom name specified at each place does not need to be unique, we can introduce variants at any position defining the covalent chain. Lets see for instance how to get all 4 atoms covalent chains where the first three atoms are C-N-CA, in this order, and the fourth atom can either be C or CB:"
   ]
  },
  {
   "cell_type": "code",
   "execution_count": 9,
   "metadata": {},
   "outputs": [],
   "source": [
    "covalent_chains =msm.covalent_chains(molecular_system, chain=[\"C\", \"N\", \"CA\", [\"C\", \"CB\"]],\n",
    "                                                              selection=\"component_index==0\")"
   ]
  },
  {
   "cell_type": "markdown",
   "metadata": {},
   "source": [
    "The covalent chains defining the $\\phi$, $\\psi$, $\\omega$ and , $\\xi_1$ dihedral angles are obtained as follows:"
   ]
  },
  {
   "cell_type": "code",
   "execution_count": 10,
   "metadata": {},
   "outputs": [],
   "source": [
    "# Covalent chains defining all phi dihedral angles in the molecular system\n",
    "phi_chains = msm.covalent_chains(molecular_system, chain=[\"C\", \"N\", \"CA\", \"C\"])"
   ]
  },
  {
   "cell_type": "code",
   "execution_count": 11,
   "metadata": {},
   "outputs": [],
   "source": [
    "# Covalent chains defining all psi dihedral angles in the molecular system\n",
    "psi_chains = msm.covalent_chains(molecular_system, chain=[\"N\", \"CA\", \"C\", \"N\"])"
   ]
  },
  {
   "cell_type": "code",
   "execution_count": 12,
   "metadata": {},
   "outputs": [],
   "source": [
    "# Covalent chains defining all omega dihedral angles in the molecular system\n",
    "omega_chains = msm.covalent_chains(molecular_system, chain=[[\"CA\", \"CH3\"], \"C\", \"N\", [\"CA\", \"CH3\"]])"
   ]
  },
  {
   "cell_type": "code",
   "execution_count": 13,
   "metadata": {},
   "outputs": [],
   "source": [
    "# Covalent chains defining all chi1 dihedral angles in the molecular system\n",
    "chi1_chains = msm.covalent_chains(molecular_system, chain=[\"N\", \"CA\", \"CB\", \"CG\"])"
   ]
  },
  {
   "cell_type": "markdown",
   "metadata": {},
   "source": [
    "Or you can use the special accepted arguments \"phi\", \"psi\", \"omega\" and \"chi1\" to get the same covalent chains: "
   ]
  },
  {
   "cell_type": "code",
   "execution_count": 14,
   "metadata": {},
   "outputs": [],
   "source": [
    "# Covalent chains defining all phi dihedral angles in the molecular system\n",
    "phi_chains = msm.covalent_chains(molecular_system, chain=\"phi\")"
   ]
  }
 ],
 "metadata": {
  "kernelspec": {
   "display_name": "Python 3",
   "language": "python",
   "name": "python3"
  },
  "language_info": {
   "codemirror_mode": {
    "name": "ipython",
    "version": 3
   },
   "file_extension": ".py",
   "mimetype": "text/x-python",
   "name": "python",
   "nbconvert_exporter": "python",
   "pygments_lexer": "ipython3",
   "version": "3.7.7"
  }
 },
 "nbformat": 4,
 "nbformat_minor": 4
}
