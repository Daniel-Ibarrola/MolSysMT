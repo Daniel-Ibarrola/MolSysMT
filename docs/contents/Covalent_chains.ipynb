{
 "cells": [
  {
   "cell_type": "code",
   "execution_count": 1,
   "metadata": {},
   "outputs": [],
   "source": [
    "%load_ext autoreload\n",
    "%autoreload 2"
   ]
  },
  {
   "cell_type": "code",
   "execution_count": 2,
   "metadata": {},
   "outputs": [
    {
     "data": {
      "application/vnd.jupyter.widget-view+json": {
       "model_id": "2ddad6ece3414f52af8c09603e0c6d68",
       "version_major": 2,
       "version_minor": 0
      },
      "text/plain": []
     },
     "metadata": {},
     "output_type": "display_data"
    }
   ],
   "source": [
    "import molsysmt as msm"
   ]
  },
  {
   "cell_type": "markdown",
   "metadata": {},
   "source": [
    "# Covalent chains and blocks\n",
    "\n",
    "##  How to get covalent chains\n",
    "Lets load first of all a molecular system to work with in this section:"
   ]
  },
  {
   "cell_type": "code",
   "execution_count": 3,
   "metadata": {},
   "outputs": [],
   "source": [
    "molecular_system = msm.demo_systems.files['1tcd.mmtf']\n",
    "molecular_system = msm.convert(molecular_system)"
   ]
  },
  {
   "cell_type": "code",
   "execution_count": 4,
   "metadata": {},
   "outputs": [
    {
     "data": {
      "text/html": [
       "<style  type=\"text/css\" >\n",
       "</style><table id=\"T_4ab25320_d13b_11ea_8f41_bb718c6c87ee\" ><thead>    <tr>        <th class=\"col_heading level0 col0\" >form</th>        <th class=\"col_heading level0 col1\" >n_atoms</th>        <th class=\"col_heading level0 col2\" >n_groups</th>        <th class=\"col_heading level0 col3\" >n_components</th>        <th class=\"col_heading level0 col4\" >n_chains</th>        <th class=\"col_heading level0 col5\" >n_molecules</th>        <th class=\"col_heading level0 col6\" >n_entities</th>        <th class=\"col_heading level0 col7\" >n_waters</th>        <th class=\"col_heading level0 col8\" >n_proteins</th>        <th class=\"col_heading level0 col9\" >n_frames</th>    </tr></thead><tbody>\n",
       "                <tr>\n",
       "                                <td id=\"T_4ab25320_d13b_11ea_8f41_bb718c6c87eerow0_col0\" class=\"data row0 col0\" >molsysmt.MolSys</td>\n",
       "                        <td id=\"T_4ab25320_d13b_11ea_8f41_bb718c6c87eerow0_col1\" class=\"data row0 col1\" >3983</td>\n",
       "                        <td id=\"T_4ab25320_d13b_11ea_8f41_bb718c6c87eerow0_col2\" class=\"data row0 col2\" >662</td>\n",
       "                        <td id=\"T_4ab25320_d13b_11ea_8f41_bb718c6c87eerow0_col3\" class=\"data row0 col3\" >167</td>\n",
       "                        <td id=\"T_4ab25320_d13b_11ea_8f41_bb718c6c87eerow0_col4\" class=\"data row0 col4\" >4</td>\n",
       "                        <td id=\"T_4ab25320_d13b_11ea_8f41_bb718c6c87eerow0_col5\" class=\"data row0 col5\" >166</td>\n",
       "                        <td id=\"T_4ab25320_d13b_11ea_8f41_bb718c6c87eerow0_col6\" class=\"data row0 col6\" >2</td>\n",
       "                        <td id=\"T_4ab25320_d13b_11ea_8f41_bb718c6c87eerow0_col7\" class=\"data row0 col7\" >165</td>\n",
       "                        <td id=\"T_4ab25320_d13b_11ea_8f41_bb718c6c87eerow0_col8\" class=\"data row0 col8\" >1</td>\n",
       "                        <td id=\"T_4ab25320_d13b_11ea_8f41_bb718c6c87eerow0_col9\" class=\"data row0 col9\" >1</td>\n",
       "            </tr>\n",
       "    </tbody></table>"
      ],
      "text/plain": [
       "<pandas.io.formats.style.Styler at 0x7fa30daf4fd0>"
      ]
     },
     "execution_count": 4,
     "metadata": {},
     "output_type": "execute_result"
    }
   ],
   "source": [
    "msm.info(molecular_system)"
   ]
  },
  {
   "cell_type": "markdown",
   "metadata": {},
   "source": [
    "MolSysMT includes a method to get all covalent chains found in the molecular system given by a sequence of atom names. To illustrate how the method `molsysmt.covalent_chains` works lets extract all segments of atoms C, N, CA an C covalently bound in this order (C-N-CA-C):"
   ]
  },
  {
   "cell_type": "code",
   "execution_count": 5,
   "metadata": {},
   "outputs": [],
   "source": [
    "covalent_chains =msm.covalent_chains(molecular_system, chain=[\"C\", \"N\", \"CA\", \"C\"],\n",
    "                                     selection=\"component_index==0\")"
   ]
  },
  {
   "cell_type": "code",
   "execution_count": 6,
   "metadata": {},
   "outputs": [
    {
     "data": {
      "text/plain": [
       "(247, 4)"
      ]
     },
     "execution_count": 6,
     "metadata": {},
     "output_type": "execute_result"
    }
   ],
   "source": [
    "covalent_chains.shape"
   ]
  },
  {
   "cell_type": "markdown",
   "metadata": {},
   "source": [
    "The output is a numpy array 2-ranked where the dimension of the first axe or rank is the number of chains found in the system, and the second rank has dimension 4 (since it chain was chosen to have 4 atoms):"
   ]
  },
  {
   "cell_type": "code",
   "execution_count": 7,
   "metadata": {},
   "outputs": [
    {
     "data": {
      "text/plain": [
       "array([[   2,    9,   10,   11],\n",
       "       [  11,   16,   17,   18],\n",
       "       [  18,   25,   26,   27],\n",
       "       ...,\n",
       "       [1877, 1884, 1885, 1886],\n",
       "       [1886, 1889, 1890, 1891],\n",
       "       [1891, 1896, 1897, 1898]])"
      ]
     },
     "execution_count": 7,
     "metadata": {},
     "output_type": "execute_result"
    }
   ],
   "source": [
    "covalent_chains"
   ]
  },
  {
   "cell_type": "markdown",
   "metadata": {},
   "source": [
    "Lets check that the name of the atoms in any of the obtained chains is correct:"
   ]
  },
  {
   "cell_type": "code",
   "execution_count": 8,
   "metadata": {},
   "outputs": [
    {
     "data": {
      "text/plain": [
       "array(['C', 'N', 'CA', 'C'], dtype=object)"
      ]
     },
     "execution_count": 8,
     "metadata": {},
     "output_type": "execute_result"
    }
   ],
   "source": [
    "msm.get(molecular_system, selection=covalent_chains[0], name=True)"
   ]
  },
  {
   "cell_type": "markdown",
   "metadata": {},
   "source": [
    "The atom name specified at each place does not need to be unique, we can introduce variants at any position defining the covalent chain. Lets see for instance how to get all 4 atoms covalent chains where the first three atoms are C-N-CA, in this order, and the fourth atom can either be C or CB:"
   ]
  },
  {
   "cell_type": "code",
   "execution_count": 9,
   "metadata": {},
   "outputs": [],
   "source": [
    "covalent_chains =msm.covalent_chains(molecular_system, chain=[\"C\", \"N\", \"CA\", [\"C\", \"CB\"]],\n",
    "                                                              selection=\"component_index==0\")"
   ]
  },
  {
   "cell_type": "markdown",
   "metadata": {},
   "source": [
    "The covalent chains defining the $\\phi$, $\\psi$, $\\omega$ and , $\\xi_1$ dihedral angles are obtained as follows:"
   ]
  },
  {
   "cell_type": "code",
   "execution_count": 10,
   "metadata": {},
   "outputs": [],
   "source": [
    "# Covalent chains defining all phi dihedral angles in the molecular system\n",
    "phi_chains = msm.covalent_chains(molecular_system, chain=[\"C\", \"N\", \"CA\", \"C\"])"
   ]
  },
  {
   "cell_type": "code",
   "execution_count": 11,
   "metadata": {},
   "outputs": [],
   "source": [
    "# Covalent chains defining all psi dihedral angles in the molecular system\n",
    "psi_chains = msm.covalent_chains(molecular_system, chain=[\"N\", \"CA\", \"C\", \"N\"])"
   ]
  },
  {
   "cell_type": "code",
   "execution_count": 12,
   "metadata": {},
   "outputs": [],
   "source": [
    "# Covalent chains defining all omega dihedral angles in the molecular system\n",
    "omega_chains = msm.covalent_chains(molecular_system, chain=[[\"CA\", \"CH3\"], \"C\", \"N\", [\"CA\", \"CH3\"]])"
   ]
  },
  {
   "cell_type": "code",
   "execution_count": 13,
   "metadata": {},
   "outputs": [],
   "source": [
    "# Covalent chains defining all chi1 dihedral angles in the molecular system\n",
    "chi1_chains = msm.covalent_chains(molecular_system, chain=[\"N\", \"CA\", \"CB\", \"CG\"])"
   ]
  },
  {
   "cell_type": "markdown",
   "metadata": {},
   "source": [
    "##  How to get covalent blocks\n",
    "\n",
    "Lets load first of all a molecular system to work with in this section:"
   ]
  },
  {
   "cell_type": "code",
   "execution_count": 14,
   "metadata": {},
   "outputs": [],
   "source": [
    "molecular_system = msm.demo_systems.metenkephalin()"
   ]
  },
  {
   "cell_type": "code",
   "execution_count": 15,
   "metadata": {},
   "outputs": [
    {
     "data": {
      "text/html": [
       "<style  type=\"text/css\" >\n",
       "</style><table id=\"T_60f07fae_d13b_11ea_8f41_bb718c6c87ee\" ><thead>    <tr>        <th class=\"col_heading level0 col0\" >form</th>        <th class=\"col_heading level0 col1\" >n_atoms</th>        <th class=\"col_heading level0 col2\" >n_groups</th>        <th class=\"col_heading level0 col3\" >n_components</th>        <th class=\"col_heading level0 col4\" >n_chains</th>        <th class=\"col_heading level0 col5\" >n_molecules</th>        <th class=\"col_heading level0 col6\" >n_entities</th>        <th class=\"col_heading level0 col7\" >n_peptides</th>        <th class=\"col_heading level0 col8\" >n_frames</th>    </tr></thead><tbody>\n",
       "                <tr>\n",
       "                                <td id=\"T_60f07fae_d13b_11ea_8f41_bb718c6c87eerow0_col0\" class=\"data row0 col0\" >molsysmt.MolSys</td>\n",
       "                        <td id=\"T_60f07fae_d13b_11ea_8f41_bb718c6c87eerow0_col1\" class=\"data row0 col1\" >72</td>\n",
       "                        <td id=\"T_60f07fae_d13b_11ea_8f41_bb718c6c87eerow0_col2\" class=\"data row0 col2\" >5</td>\n",
       "                        <td id=\"T_60f07fae_d13b_11ea_8f41_bb718c6c87eerow0_col3\" class=\"data row0 col3\" >1</td>\n",
       "                        <td id=\"T_60f07fae_d13b_11ea_8f41_bb718c6c87eerow0_col4\" class=\"data row0 col4\" >1</td>\n",
       "                        <td id=\"T_60f07fae_d13b_11ea_8f41_bb718c6c87eerow0_col5\" class=\"data row0 col5\" >1</td>\n",
       "                        <td id=\"T_60f07fae_d13b_11ea_8f41_bb718c6c87eerow0_col6\" class=\"data row0 col6\" >1</td>\n",
       "                        <td id=\"T_60f07fae_d13b_11ea_8f41_bb718c6c87eerow0_col7\" class=\"data row0 col7\" >1</td>\n",
       "                        <td id=\"T_60f07fae_d13b_11ea_8f41_bb718c6c87eerow0_col8\" class=\"data row0 col8\" >1</td>\n",
       "            </tr>\n",
       "    </tbody></table>"
      ],
      "text/plain": [
       "<pandas.io.formats.style.Styler at 0x7fa3021f81d0>"
      ]
     },
     "execution_count": 15,
     "metadata": {},
     "output_type": "execute_result"
    }
   ],
   "source": [
    "msm.info(molecular_system)"
   ]
  },
  {
   "cell_type": "code",
   "execution_count": 16,
   "metadata": {},
   "outputs": [],
   "source": [
    "blocks = msm.covalent_blocks(molecular_system)"
   ]
  },
  {
   "cell_type": "code",
   "execution_count": 17,
   "metadata": {},
   "outputs": [
    {
     "name": "stdout",
     "output_type": "stream",
     "text": [
      "1\n"
     ]
    }
   ],
   "source": [
    "print(len(blocks))"
   ]
  },
  {
   "cell_type": "code",
   "execution_count": 18,
   "metadata": {},
   "outputs": [
    {
     "name": "stdout",
     "output_type": "stream",
     "text": [
      "[{0, 1, 2, 3, 4, 5, 6, 7, 8, 9, 10, 11, 12, 13, 14, 15, 16, 17, 18, 19, 20, 21, 22, 23, 24, 25, 26, 27, 28, 29, 30, 31, 32, 33, 34, 35, 36, 37, 38, 39, 40, 41, 42, 43, 44, 45, 46, 47, 48, 49, 50, 51, 52, 53, 54, 55, 56, 57, 58, 59, 60, 61, 62, 63, 64, 65, 66, 67, 68, 69, 70, 71}]\n"
     ]
    }
   ],
   "source": [
    "print(blocks)"
   ]
  },
  {
   "cell_type": "code",
   "execution_count": 19,
   "metadata": {},
   "outputs": [
    {
     "data": {
      "text/plain": [
       "array([[19, 21],\n",
       "       [26, 28],\n",
       "       [33, 35],\n",
       "       [53, 55]])"
      ]
     },
     "execution_count": 19,
     "metadata": {},
     "output_type": "execute_result"
    }
   ],
   "source": [
    "msm.get(molecular_system, target='atom', selection='atom_name==[\"C\", \"N\"]', inner_bonded_atoms=True)"
   ]
  },
  {
   "cell_type": "code",
   "execution_count": 20,
   "metadata": {},
   "outputs": [],
   "source": [
    "blocks = msm.covalent_blocks(molecular_system, remove_bonds=[[19,21],[33,35]])"
   ]
  },
  {
   "cell_type": "code",
   "execution_count": 21,
   "metadata": {},
   "outputs": [
    {
     "name": "stdout",
     "output_type": "stream",
     "text": [
      "3\n"
     ]
    }
   ],
   "source": [
    "print(len(blocks))"
   ]
  },
  {
   "cell_type": "code",
   "execution_count": 22,
   "metadata": {},
   "outputs": [
    {
     "name": "stdout",
     "output_type": "stream",
     "text": [
      "[{0, 1, 2, 3, 4, 5, 6, 7, 8, 9, 10, 11, 12, 13, 14, 15, 16, 17, 18, 19, 20}, {32, 33, 34, 21, 22, 23, 24, 25, 26, 27, 28, 29, 30, 31}, {35, 36, 37, 38, 39, 40, 41, 42, 43, 44, 45, 46, 47, 48, 49, 50, 51, 52, 53, 54, 55, 56, 57, 58, 59, 60, 61, 62, 63, 64, 65, 66, 67, 68, 69, 70, 71}]\n"
     ]
    }
   ],
   "source": [
    "print(blocks)"
   ]
  },
  {
   "cell_type": "code",
   "execution_count": 23,
   "metadata": {},
   "outputs": [],
   "source": [
    "blocks = msm.covalent_blocks(molecular_system, remove_bonds=[[19,21],[33,35]], output_form='array')"
   ]
  },
  {
   "cell_type": "code",
   "execution_count": 24,
   "metadata": {},
   "outputs": [
    {
     "data": {
      "text/plain": [
       "array([0, 0, 0, ..., 2, 2, 2])"
      ]
     },
     "execution_count": 24,
     "metadata": {},
     "output_type": "execute_result"
    }
   ],
   "source": [
    "blocks"
   ]
  },
  {
   "cell_type": "markdown",
   "metadata": {},
   "source": [
    "## How to get the atoms quartets defining the dihedral angles"
   ]
  },
  {
   "cell_type": "code",
   "execution_count": 25,
   "metadata": {},
   "outputs": [],
   "source": [
    "molecular_system = msm.demo_systems.files['1tcd.mmtf']\n",
    "molecular_system = msm.convert(molecular_system)"
   ]
  },
  {
   "cell_type": "code",
   "execution_count": 51,
   "metadata": {},
   "outputs": [],
   "source": [
    "phi_chains = msm.covalent_dihedral_quartets(molecular_system, dihedral_angles='phi')"
   ]
  },
  {
   "cell_type": "code",
   "execution_count": 52,
   "metadata": {},
   "outputs": [],
   "source": [
    "chi5_chains = msm.covalent_dihedral_quartets(molecular_system, dihedral_angles='chi5')"
   ]
  },
  {
   "cell_type": "code",
   "execution_count": 54,
   "metadata": {},
   "outputs": [
    {
     "name": "stdout",
     "output_type": "stream",
     "text": [
      "26\n"
     ]
    }
   ],
   "source": [
    "print(chi5_chains.shape[0])"
   ]
  },
  {
   "cell_type": "code",
   "execution_count": 57,
   "metadata": {},
   "outputs": [
    {
     "data": {
      "text/plain": [
       "26"
      ]
     },
     "execution_count": 57,
     "metadata": {},
     "output_type": "execute_result"
    }
   ],
   "source": [
    "msm.get(molecular_system, target='group', selection='group_name==\"ARG\"', n_groups=True)"
   ]
  },
  {
   "cell_type": "markdown",
   "metadata": {},
   "source": [
    "#### Phi\n",
    "\n",
    "| Residue | Atoms | Zero value | Range (degrees)|\n",
    "| :---: | :---: | :---: | :---: |\n",
    "| all but PRO | C-N-CA-C | C cis to C | [-180, 180) |\n",
    "| PRO | C-N-CA-C | C cis to C | ~-90 |\n",
    "\n",
    "#### Psi\n",
    "\n",
    "| Residue | Atoms | Zero value | Range (degrees)|\n",
    "| :---: | :---: | :---: | :---: |\n",
    "| all | N-CA-C-N | N cis to N | [-180, 180) |\n",
    "\n",
    "#### Omega\n",
    "\n",
    "| Residue | Atoms | Zero value | Range (degrees)|\n",
    "| :---: | :---: | :---: | :---: |\n",
    "| all | CA-C-N-CA | CA cis to CA | ~180 |\n",
    "| all | CH3-C-N-CA | CA cis to CA | ~180 |\n",
    "| all | CA-C-N-CH3 | CA cis to CA | ~180 |\n",
    "\n",
    "#### Chi1\n",
    "\n",
    "| Residue | Atoms | Zero value | Range (degrees)|\n",
    "| :---: | :---: | :---: | :---: |\n",
    "| ARG | N-CA-CB-CG | CG cis to N | [-180, 180) |\n",
    "| ASN | N-CA-CB-CG | CG cis to N | [-180, 180) |\n",
    "| ASP | N-CA-CB-CG | CG cis to N | [-180, 180) |\n",
    "| CYS | N-CA-CB-SG | SG cis to N | [-180, 180) |\n",
    "| GLN | N-CA-CB-CG | CG cis to N | [-180, 180) |\n",
    "| GLU | N-CA-CB-CG | CG cis to N | [-180, 180) |\n",
    "| HIS | N-CA-CB-CG | CG cis to N | [-180, 180) |\n",
    "| ILE | N-CA-CB-CG1 | CG1 cis to N | [-180°, 180) |\n",
    "| LEU | N-CA-CB-CG | CG cis to N | [-180, 180) |\n",
    "| LYS | N-CA-CB-CG | CG cis to N | [-180, 180) |\n",
    "| MET | N-CA-CB-CG | CG cis to N | [-180, 180) |\n",
    "| PHE | N-CA-CB-CG | CG cis to N | [-180, 180) |\n",
    "| PRO | N-CA-CB-CG | CG cis to N | CA-CB is part of ring |\n",
    "| SER | N-CA-CB-OG | OG cis to N | [-180, 180) |\n",
    "| THR | N-CA-CB-OG1 | OG1 cis to N | [-180, 180) |\n",
    "| TRP | N-CA-CB-CG | CG cis to N | [-180, 180) |\n",
    "| TYR | N-CA-CB-CG | CG cis to N | [-180, 180) |\n",
    "| VAL | N-CA-CB-CG1 | CG1 cis to N | [-180, 180) |\n",
    "\n",
    "\n",
    "### Chi2\n",
    "\n",
    "| Residue | Atoms | Zero value | Range (degrees)|\n",
    "| :---: | :---: | :---: | :---: |\n",
    "| ARG | CA-CB-CG-CD  | CD cis to CA     | [-180, 180) |\n",
    "| ASN | CA-CB-CG-OD1 | OD1 cis to CA    | [-180, 180) |\n",
    "| ASP | CA-CB-CG-OD  | OD1 cis to CA    | [-180, 180) |\n",
    "| GLN | CA-CB-CG-CD  | CD cis to CA     | [-180, 180) |\n",
    "| GLU | CA-CB-CG-CD  | CD cis to CA     | [-180, 180) |\n",
    "| HIS | CA-CB-CG-ND1 | ND1 cis to CA    | [-180, 180) |\n",
    "| ILE | CA-CB-CG1-CD | CD cis to CA     | [-180, 180) |\n",
    "| LEU | CA-CB-CG-CD1 | CD1 cis to CA    | [-180, 180) |\n",
    "| LYS | CA-CB-CG-CD  | CD cis to CA     | [-180, 180) |\n",
    "| MET | CA-CB-CG-SD  | SD cis to CA     | [-180, 180) |\n",
    "| PHE | CA-CB-CG-CD  | CD1 cis to CA    | [-180, 180) |\n",
    "| PRO | CA-CB-CG-CD  | CD cis to CA     | CB-CG is part of ring |\n",
    "| TRP | CA-CB-CG-CD1 | CD1 cis to CA    | [-180, 180) |\n",
    "| TYR | CA-CB-CG-CD1 | CD1 cis to CA    | [-180, 180) |\n",
    "\n",
    "#### Chi3\n",
    "\n",
    "| Residue | Atoms | Zero value | Range (degrees)|\n",
    "| :---: | :---: | :---: | :---: |\n",
    "| ARG | CB-CG-CD-NE  | NE cis to CB     | [-180, 180) |\n",
    "| GLN | CB-CG-CD-OE1 | OE1 cis to CB    | [-180, 180) |\n",
    "| GLU | CB-CG-CD-OE1 | OE1 cis to CB    | [-180, 180) |\n",
    "| LYS | CB-CG-CD-CE  | CE cis to CB     | [-180, 180) |\n",
    "| MET | CB-CG-SD-CE  | CE cis to CB     | [-180, 180) |\n",
    "\n",
    "#### Chi4\n",
    "\n",
    "| Residue | Atoms | Zero value | Range (degrees)|\n",
    "| :---: | :---: | :---: | :---: |\n",
    "| ARG | CG-CD-NE-CZ | CZ cis to CG      | [-180, 180) |\n",
    "| LYS | CG-CD-CE-NZ | NZ cis to CG      | [-180, 180) |\n",
    "\n",
    "#### Chi5\n",
    "\n",
    "| Residue | Atoms | Zero value | Range (degrees)|\n",
    "| :---: | :---: | :---: | :---: |\n",
    "| ARG | CD-NE-CZ-NH1 | NH1 cis to CD    | [-180, 180) |"
   ]
  },
  {
   "cell_type": "code",
   "execution_count": 68,
   "metadata": {},
   "outputs": [],
   "source": [
    "psi_chains, psi_blocks = msm.covalent_dihedral_quartets(molecular_system, dihedral_angles='psi', with_blocks=True)"
   ]
  }
 ],
 "metadata": {
  "kernelspec": {
   "display_name": "Python 3",
   "language": "python",
   "name": "python3"
  },
  "language_info": {
   "codemirror_mode": {
    "name": "ipython",
    "version": 3
   },
   "file_extension": ".py",
   "mimetype": "text/x-python",
   "name": "python",
   "nbconvert_exporter": "python",
   "pygments_lexer": "ipython3",
   "version": "3.7.7"
  }
 },
 "nbformat": 4,
 "nbformat_minor": 4
}
