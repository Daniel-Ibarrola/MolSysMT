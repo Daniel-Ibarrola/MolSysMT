{
 "cells": [
  {
   "cell_type": "code",
   "execution_count": 1,
   "metadata": {},
   "outputs": [],
   "source": [
    "%load_ext autoreload\n",
    "%autoreload 2"
   ]
  },
  {
   "cell_type": "code",
   "execution_count": 2,
   "metadata": {},
   "outputs": [
    {
     "data": {
      "application/vnd.jupyter.widget-view+json": {
       "model_id": "e4e23b6e8a6c432e853439b8a3c6e66a",
       "version_major": 2,
       "version_minor": 0
      },
      "text/plain": []
     },
     "metadata": {},
     "output_type": "display_data"
    }
   ],
   "source": [
    "import molsysmt as msm"
   ]
  },
  {
   "cell_type": "markdown",
   "metadata": {},
   "source": [
    "# Hydrophobicity"
   ]
  },
  {
   "cell_type": "code",
   "execution_count": 3,
   "metadata": {},
   "outputs": [],
   "source": [
    "file_path = msm.demo_systems.files['1tcd.pdb']\n",
    "molecular_system_A = msm.convert(file_path)\n",
    "molecular_system_A = msm.remove_solvent(molecular_system_A)\n",
    "molecular_system_A = msm.add_missing_hydrogens(molecular_system_A)"
   ]
  },
  {
   "cell_type": "code",
   "execution_count": 4,
   "metadata": {},
   "outputs": [
    {
     "data": {
      "text/html": [
       "<style  type=\"text/css\" >\n",
       "</style><table id=\"T_1ea76_\" ><thead>    <tr>        <th class=\"col_heading level0 col0\" >form</th>        <th class=\"col_heading level0 col1\" >n_atoms</th>        <th class=\"col_heading level0 col2\" >n_groups</th>        <th class=\"col_heading level0 col3\" >n_components</th>        <th class=\"col_heading level0 col4\" >n_chains</th>        <th class=\"col_heading level0 col5\" >n_molecules</th>        <th class=\"col_heading level0 col6\" >n_entities</th>        <th class=\"col_heading level0 col7\" >n_proteins</th>        <th class=\"col_heading level0 col8\" >n_frames</th>    </tr></thead><tbody>\n",
       "                <tr>\n",
       "                                <td id=\"T_1ea76_row0_col0\" class=\"data row0 col0\" >molsysmt.MolSys</td>\n",
       "                        <td id=\"T_1ea76_row0_col1\" class=\"data row0 col1\" >7707</td>\n",
       "                        <td id=\"T_1ea76_row0_col2\" class=\"data row0 col2\" >497</td>\n",
       "                        <td id=\"T_1ea76_row0_col3\" class=\"data row0 col3\" >2</td>\n",
       "                        <td id=\"T_1ea76_row0_col4\" class=\"data row0 col4\" >2</td>\n",
       "                        <td id=\"T_1ea76_row0_col5\" class=\"data row0 col5\" >2</td>\n",
       "                        <td id=\"T_1ea76_row0_col6\" class=\"data row0 col6\" >2</td>\n",
       "                        <td id=\"T_1ea76_row0_col7\" class=\"data row0 col7\" >2</td>\n",
       "                        <td id=\"T_1ea76_row0_col8\" class=\"data row0 col8\" >1</td>\n",
       "            </tr>\n",
       "    </tbody></table>"
      ],
      "text/plain": [
       "<pandas.io.formats.style.Styler at 0x7f3162806710>"
      ]
     },
     "execution_count": 4,
     "metadata": {},
     "output_type": "execute_result"
    }
   ],
   "source": [
    "msm.info(molecular_system_A)"
   ]
  },
  {
   "cell_type": "code",
   "execution_count": 5,
   "metadata": {},
   "outputs": [],
   "source": [
    "molecular_system_B = msm.demo_systems.metenkephalin()\n",
    "molecular_system_B = msm.add_terminal_capping(molecular_system_B)"
   ]
  },
  {
   "cell_type": "code",
   "execution_count": 33,
   "metadata": {},
   "outputs": [],
   "source": [
    "hydrophobicity = msm.physchem.hydrophobicity(molecular_system_B, type='eisenberg')"
   ]
  },
  {
   "cell_type": "code",
   "execution_count": 34,
   "metadata": {},
   "outputs": [
    {
     "data": {
      "text/plain": [
       "array([0.26, 0.48, 0.48, 1.19, 0.64])"
      ]
     },
     "execution_count": 34,
     "metadata": {},
     "output_type": "execute_result"
    }
   ],
   "source": [
    "hydrophobicity"
   ]
  },
  {
   "cell_type": "code",
   "execution_count": null,
   "metadata": {},
   "outputs": [],
   "source": []
  }
 ],
 "metadata": {
  "kernelspec": {
   "display_name": "Python 3 (ipykernel)",
   "language": "python",
   "name": "python3"
  },
  "language_info": {
   "codemirror_mode": {
    "name": "ipython",
    "version": 3
   },
   "file_extension": ".py",
   "mimetype": "text/x-python",
   "name": "python",
   "nbconvert_exporter": "python",
   "pygments_lexer": "ipython3",
   "version": "3.7.10"
  }
 },
 "nbformat": 4,
 "nbformat_minor": 4
}
