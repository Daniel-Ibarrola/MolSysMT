{
 "cells": [
  {
   "cell_type": "code",
   "execution_count": 1,
   "metadata": {},
   "outputs": [],
   "source": [
    "%load_ext autoreload\n",
    "%autoreload 2"
   ]
  },
  {
   "cell_type": "code",
   "execution_count": 2,
   "metadata": {},
   "outputs": [
    {
     "data": {
      "application/vnd.jupyter.widget-view+json": {
       "model_id": "06ce4438197841a0b47107c25d20b5a4",
       "version_major": 2,
       "version_minor": 0
      },
      "text/plain": []
     },
     "metadata": {},
     "output_type": "display_data"
    }
   ],
   "source": [
    "import molsysmt as msm\n",
    "from molsysmt import puw"
   ]
  },
  {
   "cell_type": "markdown",
   "metadata": {},
   "source": [
    "# Adding solvent"
   ]
  },
  {
   "cell_type": "code",
   "execution_count": 3,
   "metadata": {},
   "outputs": [
    {
     "name": "stderr",
     "output_type": "stream",
     "text": [
      "/home/diego/Projects/MolSysMT/molsysmt/native/io/topology/classes/mmtf_MMTFDecoder.py:43: UserWarning: The structure in the PDB has biological assemblies. There are geometrical transformations proposed in the structure. See the following issue in the source code repository: https://github.com/uibcdf/MolSysMT/issues/33\n",
      "  warnings.warn(warning_message)\n"
     ]
    }
   ],
   "source": [
    "molsys = msm.convert('pdbid:181L', to_form='molsysmt.MolSys')\n",
    "molsys = msm.extract(molsys, selection='molecule_type==\"protein\"')\n",
    "molsys = msm.add_terminal_capping(molsys, N_terminal='ACE', C_terminal='NME')\n",
    "molsys = msm.add_missing_hydrogens(molsys)"
   ]
  },
  {
   "cell_type": "code",
   "execution_count": 4,
   "metadata": {},
   "outputs": [
    {
     "data": {
      "text/html": [
       "<style type=\"text/css\">\n",
       "</style>\n",
       "<table id=\"T_b43a9_\">\n",
       "  <thead>\n",
       "    <tr>\n",
       "      <th class=\"col_heading level0 col0\" >form</th>\n",
       "      <th class=\"col_heading level0 col1\" >n_atoms</th>\n",
       "      <th class=\"col_heading level0 col2\" >n_groups</th>\n",
       "      <th class=\"col_heading level0 col3\" >n_components</th>\n",
       "      <th class=\"col_heading level0 col4\" >n_chains</th>\n",
       "      <th class=\"col_heading level0 col5\" >n_molecules</th>\n",
       "      <th class=\"col_heading level0 col6\" >n_entities</th>\n",
       "      <th class=\"col_heading level0 col7\" >n_proteins</th>\n",
       "      <th class=\"col_heading level0 col8\" >n_frames</th>\n",
       "    </tr>\n",
       "  </thead>\n",
       "  <tbody>\n",
       "    <tr>\n",
       "      <td id=\"T_b43a9_row0_col0\" class=\"data row0 col0\" >molsysmt.MolSys</td>\n",
       "      <td id=\"T_b43a9_row0_col1\" class=\"data row0 col1\" >2612</td>\n",
       "      <td id=\"T_b43a9_row0_col2\" class=\"data row0 col2\" >164</td>\n",
       "      <td id=\"T_b43a9_row0_col3\" class=\"data row0 col3\" >1</td>\n",
       "      <td id=\"T_b43a9_row0_col4\" class=\"data row0 col4\" >1</td>\n",
       "      <td id=\"T_b43a9_row0_col5\" class=\"data row0 col5\" >1</td>\n",
       "      <td id=\"T_b43a9_row0_col6\" class=\"data row0 col6\" >1</td>\n",
       "      <td id=\"T_b43a9_row0_col7\" class=\"data row0 col7\" >1</td>\n",
       "      <td id=\"T_b43a9_row0_col8\" class=\"data row0 col8\" >1</td>\n",
       "    </tr>\n",
       "  </tbody>\n",
       "</table>\n"
      ],
      "text/plain": [
       "<pandas.io.formats.style.Styler at 0x7f7bce672390>"
      ]
     },
     "execution_count": 4,
     "metadata": {},
     "output_type": "execute_result"
    }
   ],
   "source": [
    "msm.info(molsys)"
   ]
  },
  {
   "cell_type": "code",
   "execution_count": 5,
   "metadata": {},
   "outputs": [
    {
     "data": {
      "text/html": [
       "8.0 elementary_charge"
      ],
      "text/latex": [
       "$8.0\\ \\mathrm{elementary\\_charge}$"
      ],
      "text/plain": [
       "8.0 <Unit('elementary_charge')>"
      ]
     },
     "execution_count": 5,
     "metadata": {},
     "output_type": "execute_result"
    }
   ],
   "source": [
    "msm.physchem.charge([molsys, {'forcefield':'AMBER14'}], target='system')"
   ]
  },
  {
   "cell_type": "code",
   "execution_count": 6,
   "metadata": {},
   "outputs": [
    {
     "data": {
      "text/plain": [
       "False"
      ]
     },
     "execution_count": 6,
     "metadata": {},
     "output_type": "execute_result"
    }
   ],
   "source": [
    "msm.is_solvated(molsys)"
   ]
  },
  {
   "cell_type": "code",
   "execution_count": 7,
   "metadata": {},
   "outputs": [],
   "source": [
    "molsys_cub = msm.solvate([molsys, {'forcefield':'AMBER14', 'water_model':'TIP3P'}],\n",
    "                          box_geometry='cubic', clearance=14.0*puw.unit('angstroms'),\n",
    "                          to_form='molsysmt.MolSys', engine=\"OpenMM\", verbose=False)"
   ]
  },
  {
   "cell_type": "code",
   "execution_count": 8,
   "metadata": {},
   "outputs": [
    {
     "data": {
      "text/plain": [
       "True"
      ]
     },
     "execution_count": 8,
     "metadata": {},
     "output_type": "execute_result"
    }
   ],
   "source": [
    "msm.is_solvated(molsys_cub)"
   ]
  },
  {
   "cell_type": "code",
   "execution_count": 9,
   "metadata": {},
   "outputs": [
    {
     "data": {
      "text/html": [
       "<style type=\"text/css\">\n",
       "</style>\n",
       "<table id=\"T_a2497_\">\n",
       "  <thead>\n",
       "    <tr>\n",
       "      <th class=\"col_heading level0 col0\" >form</th>\n",
       "      <th class=\"col_heading level0 col1\" >n_atoms</th>\n",
       "      <th class=\"col_heading level0 col2\" >n_groups</th>\n",
       "      <th class=\"col_heading level0 col3\" >n_components</th>\n",
       "      <th class=\"col_heading level0 col4\" >n_chains</th>\n",
       "      <th class=\"col_heading level0 col5\" >n_molecules</th>\n",
       "      <th class=\"col_heading level0 col6\" >n_entities</th>\n",
       "      <th class=\"col_heading level0 col7\" >n_waters</th>\n",
       "      <th class=\"col_heading level0 col8\" >n_ions</th>\n",
       "      <th class=\"col_heading level0 col9\" >n_proteins</th>\n",
       "      <th class=\"col_heading level0 col10\" >n_frames</th>\n",
       "    </tr>\n",
       "  </thead>\n",
       "  <tbody>\n",
       "    <tr>\n",
       "      <td id=\"T_a2497_row0_col0\" class=\"data row0 col0\" >molsysmt.MolSys</td>\n",
       "      <td id=\"T_a2497_row0_col1\" class=\"data row0 col1\" >45184</td>\n",
       "      <td id=\"T_a2497_row0_col2\" class=\"data row0 col2\" >14360</td>\n",
       "      <td id=\"T_a2497_row0_col3\" class=\"data row0 col3\" >14197</td>\n",
       "      <td id=\"T_a2497_row0_col4\" class=\"data row0 col4\" >3</td>\n",
       "      <td id=\"T_a2497_row0_col5\" class=\"data row0 col5\" >14197</td>\n",
       "      <td id=\"T_a2497_row0_col6\" class=\"data row0 col6\" >3</td>\n",
       "      <td id=\"T_a2497_row0_col7\" class=\"data row0 col7\" >14188</td>\n",
       "      <td id=\"T_a2497_row0_col8\" class=\"data row0 col8\" >8</td>\n",
       "      <td id=\"T_a2497_row0_col9\" class=\"data row0 col9\" >1</td>\n",
       "      <td id=\"T_a2497_row0_col10\" class=\"data row0 col10\" >1</td>\n",
       "    </tr>\n",
       "  </tbody>\n",
       "</table>\n"
      ],
      "text/plain": [
       "<pandas.io.formats.style.Styler at 0x7f7bac511910>"
      ]
     },
     "execution_count": 9,
     "metadata": {},
     "output_type": "execute_result"
    }
   ],
   "source": [
    "msm.info(molsys_cub)"
   ]
  },
  {
   "cell_type": "code",
   "execution_count": 10,
   "metadata": {},
   "outputs": [
    {
     "data": {
      "text/html": [
       "<style type=\"text/css\">\n",
       "</style>\n",
       "<table id=\"T_e8b67_\">\n",
       "  <thead>\n",
       "    <tr>\n",
       "      <th class=\"col_heading level0 col0\" >index</th>\n",
       "      <th class=\"col_heading level0 col1\" >name</th>\n",
       "      <th class=\"col_heading level0 col2\" >type</th>\n",
       "      <th class=\"col_heading level0 col3\" >n atoms</th>\n",
       "      <th class=\"col_heading level0 col4\" >n groups</th>\n",
       "      <th class=\"col_heading level0 col5\" >n components</th>\n",
       "      <th class=\"col_heading level0 col6\" >n chains</th>\n",
       "      <th class=\"col_heading level0 col7\" >n molecules</th>\n",
       "    </tr>\n",
       "  </thead>\n",
       "  <tbody>\n",
       "    <tr>\n",
       "      <td id=\"T_e8b67_row0_col0\" class=\"data row0 col0\" >0</td>\n",
       "      <td id=\"T_e8b67_row0_col1\" class=\"data row0 col1\" >Protein_0</td>\n",
       "      <td id=\"T_e8b67_row0_col2\" class=\"data row0 col2\" >protein</td>\n",
       "      <td id=\"T_e8b67_row0_col3\" class=\"data row0 col3\" >2612</td>\n",
       "      <td id=\"T_e8b67_row0_col4\" class=\"data row0 col4\" >164</td>\n",
       "      <td id=\"T_e8b67_row0_col5\" class=\"data row0 col5\" >1</td>\n",
       "      <td id=\"T_e8b67_row0_col6\" class=\"data row0 col6\" >1</td>\n",
       "      <td id=\"T_e8b67_row0_col7\" class=\"data row0 col7\" >1</td>\n",
       "    </tr>\n",
       "    <tr>\n",
       "      <td id=\"T_e8b67_row1_col0\" class=\"data row1 col0\" >1</td>\n",
       "      <td id=\"T_e8b67_row1_col1\" class=\"data row1 col1\" >water</td>\n",
       "      <td id=\"T_e8b67_row1_col2\" class=\"data row1 col2\" >water</td>\n",
       "      <td id=\"T_e8b67_row1_col3\" class=\"data row1 col3\" >42564</td>\n",
       "      <td id=\"T_e8b67_row1_col4\" class=\"data row1 col4\" >14188</td>\n",
       "      <td id=\"T_e8b67_row1_col5\" class=\"data row1 col5\" >14188</td>\n",
       "      <td id=\"T_e8b67_row1_col6\" class=\"data row1 col6\" >1</td>\n",
       "      <td id=\"T_e8b67_row1_col7\" class=\"data row1 col7\" >14188</td>\n",
       "    </tr>\n",
       "    <tr>\n",
       "      <td id=\"T_e8b67_row2_col0\" class=\"data row2 col0\" >2</td>\n",
       "      <td id=\"T_e8b67_row2_col1\" class=\"data row2 col1\" >CL</td>\n",
       "      <td id=\"T_e8b67_row2_col2\" class=\"data row2 col2\" >ion</td>\n",
       "      <td id=\"T_e8b67_row2_col3\" class=\"data row2 col3\" >8</td>\n",
       "      <td id=\"T_e8b67_row2_col4\" class=\"data row2 col4\" >8</td>\n",
       "      <td id=\"T_e8b67_row2_col5\" class=\"data row2 col5\" >8</td>\n",
       "      <td id=\"T_e8b67_row2_col6\" class=\"data row2 col6\" >1</td>\n",
       "      <td id=\"T_e8b67_row2_col7\" class=\"data row2 col7\" >8</td>\n",
       "    </tr>\n",
       "  </tbody>\n",
       "</table>\n"
      ],
      "text/plain": [
       "<pandas.io.formats.style.Styler at 0x7f7bac5205d0>"
      ]
     },
     "execution_count": 10,
     "metadata": {},
     "output_type": "execute_result"
    }
   ],
   "source": [
    "msm.info(molsys_cub, target='entity')"
   ]
  },
  {
   "cell_type": "code",
   "execution_count": 11,
   "metadata": {},
   "outputs": [
    {
     "data": {
      "text/html": [
       "-0.0 elementary_charge"
      ],
      "text/latex": [
       "$-0.0\\ \\mathrm{elementary\\_charge}$"
      ],
      "text/plain": [
       "-0.0 <Unit('elementary_charge')>"
      ]
     },
     "execution_count": 11,
     "metadata": {},
     "output_type": "execute_result"
    }
   ],
   "source": [
    "msm.physchem.charge([molsys_cub, {'forcefield':'AMBER14', 'water_model':'TIP3P'}], target='system')"
   ]
  },
  {
   "cell_type": "code",
   "execution_count": 12,
   "metadata": {},
   "outputs": [],
   "source": [
    "box, box_angles = msm.get(molsys_cub, target='system', box=True, box_angles=True)"
   ]
  },
  {
   "cell_type": "code",
   "execution_count": 13,
   "metadata": {},
   "outputs": [
    {
     "data": {
      "text/html": [
       "<table><tbody><tr><th>Magnitude</th><td style='text-align:left;'><pre>[[[7.783335137367249 0.0 0.0]<br>  [0.0 7.783335137367249 0.0]<br>  [0.0 0.0 7.783335137367249]]]</pre></td></tr><tr><th>Units</th><td style='text-align:left;'>nanometer</td></tr></tbody></table>"
      ],
      "text/latex": [
       "$arr[,0,:,:] = \\begin{pmatrix}7.783335137367249 & 0.0 & 0.0\\\\ \n",
       "0.0 & 7.783335137367249 & 0.0\\\\ \n",
       "0.0 & 0.0 & 7.783335137367249\\end{pmatrix}\\ \\mathrm{nanometer}$"
      ],
      "text/plain": [
       "array([[[7.78333514, 0.        , 0.        ],\n",
       "        [0.        , 7.78333514, 0.        ],\n",
       "        [0.        , 0.        , 7.78333514]]]) <Unit('nanometer')>"
      ]
     },
     "execution_count": 13,
     "metadata": {},
     "output_type": "execute_result"
    }
   ],
   "source": [
    "box"
   ]
  },
  {
   "cell_type": "code",
   "execution_count": 14,
   "metadata": {},
   "outputs": [
    {
     "data": {
      "text/html": [
       "<table><tbody><tr><th>Magnitude</th><td style='text-align:left;'><pre>[[90.000001 90.000001 90.000001]]</pre></td></tr><tr><th>Units</th><td style='text-align:left;'>degree</td></tr></tbody></table>"
      ],
      "text/latex": [
       "$\\begin{pmatrix}90.000001 & 90.000001 & 90.000001\\end{pmatrix}\\ \\mathrm{degree}$"
      ],
      "text/plain": [
       "array([[90.000001, 90.000001, 90.000001]]) <Unit('degree')>"
      ]
     },
     "execution_count": 14,
     "metadata": {},
     "output_type": "execute_result"
    }
   ],
   "source": [
    "box_angles"
   ]
  },
  {
   "cell_type": "code",
   "execution_count": 15,
   "metadata": {},
   "outputs": [],
   "source": [
    "molsys_cub = msm.wrap_to_pbc(molsys_cub, center_of_selection='molecule_type==\"protein\"')"
   ]
  },
  {
   "cell_type": "code",
   "execution_count": 16,
   "metadata": {},
   "outputs": [
    {
     "data": {
      "application/vnd.jupyter.widget-view+json": {
       "model_id": "50a62c5367124214af9e0ec2af1a3bc8",
       "version_major": 2,
       "version_minor": 0
      },
      "text/plain": [
       "NGLWidget()"
      ]
     },
     "metadata": {},
     "output_type": "display_data"
    }
   ],
   "source": [
    "msm.view(molsys_cub, standardize=True, water_as_surface=True)"
   ]
  },
  {
   "cell_type": "markdown",
   "metadata": {},
   "source": [
    "## Adding ions "
   ]
  },
  {
   "cell_type": "markdown",
   "metadata": {},
   "source": [
    "## PBC box geometry\n",
    "\n",
    "All periodic boxes used in molecular dynamics simulations (cubic, triclinic,  hexagonal, dodecahedral or octahedral) are equivalent equivalent. All of them can be transformed into a triclinic box with the proper angles and edge lengths. See: Bekker, H. “Unification of Box Shapes in Molecular Simulations.” Journal of Computational Chemistry 18, no. 15 (1997): 1930–42. https://doi.org/10.1002/(sici)1096-987x(19971130)18:15<1930::aid-jcc8>3.0.co;2-p."
   ]
  },
  {
   "cell_type": "code",
   "execution_count": 17,
   "metadata": {},
   "outputs": [],
   "source": [
    "molsys_oct = msm.solvate(molsys, box_geometry='truncated_octahedral',\n",
    "                         clearance=14.0*puw.unit('angstroms'), engine='PDBFixer')"
   ]
  },
  {
   "cell_type": "code",
   "execution_count": 18,
   "metadata": {},
   "outputs": [
    {
     "data": {
      "text/html": [
       "<style type=\"text/css\">\n",
       "</style>\n",
       "<table id=\"T_d75ec_\">\n",
       "  <thead>\n",
       "    <tr>\n",
       "      <th class=\"col_heading level0 col0\" >form</th>\n",
       "      <th class=\"col_heading level0 col1\" >n_atoms</th>\n",
       "      <th class=\"col_heading level0 col2\" >n_groups</th>\n",
       "      <th class=\"col_heading level0 col3\" >n_components</th>\n",
       "      <th class=\"col_heading level0 col4\" >n_chains</th>\n",
       "      <th class=\"col_heading level0 col5\" >n_molecules</th>\n",
       "      <th class=\"col_heading level0 col6\" >n_entities</th>\n",
       "      <th class=\"col_heading level0 col7\" >n_waters</th>\n",
       "      <th class=\"col_heading level0 col8\" >n_ions</th>\n",
       "      <th class=\"col_heading level0 col9\" >n_proteins</th>\n",
       "      <th class=\"col_heading level0 col10\" >n_frames</th>\n",
       "    </tr>\n",
       "  </thead>\n",
       "  <tbody>\n",
       "    <tr>\n",
       "      <td id=\"T_d75ec_row0_col0\" class=\"data row0 col0\" >molsysmt.MolSys</td>\n",
       "      <td id=\"T_d75ec_row0_col1\" class=\"data row0 col1\" >19507</td>\n",
       "      <td id=\"T_d75ec_row0_col2\" class=\"data row0 col2\" >5801</td>\n",
       "      <td id=\"T_d75ec_row0_col3\" class=\"data row0 col3\" >5638</td>\n",
       "      <td id=\"T_d75ec_row0_col4\" class=\"data row0 col4\" >3</td>\n",
       "      <td id=\"T_d75ec_row0_col5\" class=\"data row0 col5\" >5638</td>\n",
       "      <td id=\"T_d75ec_row0_col6\" class=\"data row0 col6\" >3</td>\n",
       "      <td id=\"T_d75ec_row0_col7\" class=\"data row0 col7\" >5629</td>\n",
       "      <td id=\"T_d75ec_row0_col8\" class=\"data row0 col8\" >8</td>\n",
       "      <td id=\"T_d75ec_row0_col9\" class=\"data row0 col9\" >1</td>\n",
       "      <td id=\"T_d75ec_row0_col10\" class=\"data row0 col10\" >1</td>\n",
       "    </tr>\n",
       "  </tbody>\n",
       "</table>\n"
      ],
      "text/plain": [
       "<pandas.io.formats.style.Styler at 0x7f7b6221de50>"
      ]
     },
     "execution_count": 18,
     "metadata": {},
     "output_type": "execute_result"
    }
   ],
   "source": [
    "msm.info(molsys_oct)"
   ]
  },
  {
   "cell_type": "code",
   "execution_count": 19,
   "metadata": {},
   "outputs": [],
   "source": [
    "molsys_oct = msm.wrap_to_pbc(molsys_oct, center_of_selection='molecule_type==\"protein\"')"
   ]
  },
  {
   "cell_type": "code",
   "execution_count": 20,
   "metadata": {},
   "outputs": [
    {
     "data": {
      "application/vnd.jupyter.widget-view+json": {
       "model_id": "675d92f7d4d54e0d840d45b928c50952",
       "version_major": 2,
       "version_minor": 0
      },
      "text/plain": [
       "NGLWidget()"
      ]
     },
     "metadata": {},
     "output_type": "display_data"
    }
   ],
   "source": [
    "msm.view(molsys_oct, standardize=True, water_as_surface=True)"
   ]
  },
  {
   "cell_type": "markdown",
   "metadata": {},
   "source": [
    "In a triclinic box it is not sure that all elements in the unit cell can be considered first neighbors. Some pairs of atoms minimize their distance when one of them are located in a neighbor unit cell. But ¿Which one? Finding the periodic image that minimizes the distance is not in general as straight forward as it is if the box is cubic. This problem is known as \"the minimum image convention\". Actually, the distance between any two atoms in a periodic box is not computed removing the PBC, or centering a unit cell in any of those atoms. It is solved finding the minimum image convention. Then, let's see what happens when we take only the image of every atom with minimal distance to the center of the protein:"
   ]
  },
  {
   "cell_type": "code",
   "execution_count": 30,
   "metadata": {},
   "outputs": [],
   "source": [
    "molsys_oct = msm.wrap_to_mic(molsys_oct, center_of_selection='molecule_type==\"protein\"')"
   ]
  },
  {
   "cell_type": "code",
   "execution_count": 22,
   "metadata": {},
   "outputs": [
    {
     "data": {
      "application/vnd.jupyter.widget-view+json": {
       "model_id": "1f750a482a074a1b8de0961e4d9a0bd6",
       "version_major": 2,
       "version_minor": 0
      },
      "text/plain": [
       "NGLWidget()"
      ]
     },
     "metadata": {},
     "output_type": "display_data"
    }
   ],
   "source": [
    "msm.view(molsys_oct, standardize=True, water_as_surface=True)"
   ]
  },
  {
   "cell_type": "markdown",
   "metadata": {},
   "source": [
    "The equivalent geometry is now recovered. It is then \"a proof\" of the equivalency between the triclinic box and the truncated octahedral box."
   ]
  },
  {
   "cell_type": "markdown",
   "metadata": {},
   "source": [
    "But why do we need a non cubic periodic box? In general a case, we want to be sure that a molecule is \"solvated\". What does this mean? It means that our molecule is surrounded by a thick enough layer of water molecules. ¿This can be accomplished by a cubic periodic box? Yes of course. But it can also be achieved with other geometries making use of a lower number of water molecules. Which means that running a molecular simulation with these other geometries will be computationally cheaper than with a periodic cube:"
   ]
  },
  {
   "cell_type": "code",
   "execution_count": 23,
   "metadata": {},
   "outputs": [],
   "source": [
    "molsys_cub = msm.solvate(molsys, box_geometry='cubic', clearance=20.0*puw.unit('angstroms'), engine='PDBFixer')\n",
    "molsys_oct = msm.solvate(molsys, box_geometry='truncated_octahedral',  clearance=20.0*puw.unit('angstroms'), engine='PDBFixer')\n",
    "molsys_dod = msm.solvate(molsys, box_geometry='rhombic_dodecahedral', clearance=20.0*puw.unit('angstroms'), engine='PDBFixer')"
   ]
  },
  {
   "cell_type": "code",
   "execution_count": 24,
   "metadata": {},
   "outputs": [],
   "source": [
    "n_waters_cub = msm.get(molsys_cub, target='system', n_waters=True)\n",
    "n_waters_oct = msm.get(molsys_oct, target='system', n_waters=True)\n",
    "n_waters_dod = msm.get(molsys_dod, target='system', n_waters=True)"
   ]
  },
  {
   "cell_type": "code",
   "execution_count": 25,
   "metadata": {},
   "outputs": [
    {
     "name": "stdout",
     "output_type": "stream",
     "text": [
      "Cubic box: 8775 water (100.0% -cubic reference-)\n",
      "Truncated octahedral box: 7686 water (87.58974358974359% -cubic reference-)\n",
      "Rhombic dodecahedron box: 6867 water (78.25641025641026% -cubic reference-)\n"
     ]
    }
   ],
   "source": [
    "print('Cubic box: {} water ({}% -cubic reference-)'.format(n_waters_cub, 100.0* n_waters_cub/n_waters_cub))\n",
    "print('Truncated octahedral box: {} water ({}% -cubic reference-)'.format(n_waters_oct, 100.0* n_waters_oct/n_waters_cub))\n",
    "print('Rhombic dodecahedron box: {} water ({}% -cubic reference-)'.format(n_waters_dod, 100.0* n_waters_dod/n_waters_cub))"
   ]
  },
  {
   "cell_type": "markdown",
   "metadata": {},
   "source": [
    "## Solvation engines"
   ]
  },
  {
   "cell_type": "code",
   "execution_count": 26,
   "metadata": {},
   "outputs": [],
   "source": [
    "molsys_oct_leap = msm.solvate([msm.remove_hydrogens(molsys),\n",
    "                              {'forcefield':'AMBER14', 'water_model':'TIP3P'}],\n",
    "                              box_geometry='truncated_octahedral',\n",
    "                              clearance=14.0*puw.unit('angstroms'),\n",
    "                              to_form='molsysmt.MolSys', engine='LEaP', verbose=False)"
   ]
  },
  {
   "cell_type": "code",
   "execution_count": 27,
   "metadata": {},
   "outputs": [
    {
     "data": {
      "text/html": [
       "<style type=\"text/css\">\n",
       "</style>\n",
       "<table id=\"T_8fc66_\">\n",
       "  <thead>\n",
       "    <tr>\n",
       "      <th class=\"col_heading level0 col0\" >form</th>\n",
       "      <th class=\"col_heading level0 col1\" >n_atoms</th>\n",
       "      <th class=\"col_heading level0 col2\" >n_groups</th>\n",
       "      <th class=\"col_heading level0 col3\" >n_components</th>\n",
       "      <th class=\"col_heading level0 col4\" >n_chains</th>\n",
       "      <th class=\"col_heading level0 col5\" >n_molecules</th>\n",
       "      <th class=\"col_heading level0 col6\" >n_entities</th>\n",
       "      <th class=\"col_heading level0 col7\" >n_waters</th>\n",
       "      <th class=\"col_heading level0 col8\" >n_ions</th>\n",
       "      <th class=\"col_heading level0 col9\" >n_proteins</th>\n",
       "      <th class=\"col_heading level0 col10\" >n_frames</th>\n",
       "    </tr>\n",
       "  </thead>\n",
       "  <tbody>\n",
       "    <tr>\n",
       "      <td id=\"T_8fc66_row0_col0\" class=\"data row0 col0\" >molsysmt.MolSys</td>\n",
       "      <td id=\"T_8fc66_row0_col1\" class=\"data row0 col1\" >36913</td>\n",
       "      <td id=\"T_8fc66_row0_col2\" class=\"data row0 col2\" >11603</td>\n",
       "      <td id=\"T_8fc66_row0_col3\" class=\"data row0 col3\" >11440</td>\n",
       "      <td id=\"T_8fc66_row0_col4\" class=\"data row0 col4\" >1</td>\n",
       "      <td id=\"T_8fc66_row0_col5\" class=\"data row0 col5\" >11440</td>\n",
       "      <td id=\"T_8fc66_row0_col6\" class=\"data row0 col6\" >3</td>\n",
       "      <td id=\"T_8fc66_row0_col7\" class=\"data row0 col7\" >11431</td>\n",
       "      <td id=\"T_8fc66_row0_col8\" class=\"data row0 col8\" >8</td>\n",
       "      <td id=\"T_8fc66_row0_col9\" class=\"data row0 col9\" >1</td>\n",
       "      <td id=\"T_8fc66_row0_col10\" class=\"data row0 col10\" >1</td>\n",
       "    </tr>\n",
       "  </tbody>\n",
       "</table>\n"
      ],
      "text/plain": [
       "<pandas.io.formats.style.Styler at 0x7f7bac2e9ad0>"
      ]
     },
     "execution_count": 27,
     "metadata": {},
     "output_type": "execute_result"
    }
   ],
   "source": [
    "msm.info(molsys_oct_leap)"
   ]
  },
  {
   "cell_type": "code",
   "execution_count": 28,
   "metadata": {},
   "outputs": [],
   "source": [
    "molsys_oct_leap = msm.wrap_to_mic(molsys_oct_leap, center_of_selection='molecule_type==\"protein\"')"
   ]
  },
  {
   "cell_type": "code",
   "execution_count": 29,
   "metadata": {},
   "outputs": [
    {
     "data": {
      "application/vnd.jupyter.widget-view+json": {
       "model_id": "ce18b54f26e447e8ae1af5de296f1bb8",
       "version_major": 2,
       "version_minor": 0
      },
      "text/plain": [
       "NGLWidget()"
      ]
     },
     "metadata": {},
     "output_type": "display_data"
    }
   ],
   "source": [
    "msm.view(molsys_oct_leap, standardize=True, water_as_surface=True)"
   ]
  },
  {
   "cell_type": "code",
   "execution_count": null,
   "metadata": {},
   "outputs": [],
   "source": []
  }
 ],
 "metadata": {
  "kernelspec": {
   "display_name": "Python 3",
   "language": "python",
   "name": "python3"
  },
  "language_info": {
   "codemirror_mode": {
    "name": "ipython",
    "version": 3
   },
   "file_extension": ".py",
   "mimetype": "text/x-python",
   "name": "python",
   "nbconvert_exporter": "python",
   "pygments_lexer": "ipython3",
   "version": "3.7.10"
  }
 },
 "nbformat": 4,
 "nbformat_minor": 4
}
