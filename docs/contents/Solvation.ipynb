{
 "cells": [
  {
   "cell_type": "code",
   "execution_count": 1,
   "metadata": {},
   "outputs": [],
   "source": [
    "%load_ext autoreload\n",
    "%autoreload 2"
   ]
  },
  {
   "cell_type": "code",
   "execution_count": 2,
   "metadata": {},
   "outputs": [
    {
     "data": {
      "application/vnd.jupyter.widget-view+json": {
       "model_id": "86083cd1c78544cbba00272b248b6eeb",
       "version_major": 2,
       "version_minor": 0
      },
      "text/plain": []
     },
     "metadata": {},
     "output_type": "display_data"
    }
   ],
   "source": [
    "import molsysmt as msm\n",
    "from molsysmt import puw"
   ]
  },
  {
   "cell_type": "markdown",
   "metadata": {},
   "source": [
    "# Adding solvent"
   ]
  },
  {
   "cell_type": "code",
   "execution_count": 3,
   "metadata": {},
   "outputs": [],
   "source": [
    "pdbfile = msm.demo_systems.files['metenkephalin.pdb']"
   ]
  },
  {
   "cell_type": "code",
   "execution_count": 4,
   "metadata": {},
   "outputs": [],
   "source": [
    "molecular_system = msm.convert(pdbfile)\n",
    "molecular_system = msm.add_terminal_capping(molecular_system)\n",
    "molecular_system = msm.remove_hydrogens(molecular_system)"
   ]
  },
  {
   "cell_type": "code",
   "execution_count": 5,
   "metadata": {},
   "outputs": [
    {
     "data": {
      "text/plain": [
       "False"
      ]
     },
     "execution_count": 5,
     "metadata": {},
     "output_type": "execute_result"
    }
   ],
   "source": [
    "msm.is_solvated(molecular_system)"
   ]
  },
  {
   "cell_type": "code",
   "execution_count": 10,
   "metadata": {},
   "outputs": [],
   "source": [
    "molecular_system_solvated = msm.solvate(molecular_system, box_geometry='cubic',\n",
    "                                        clearance=14.0*puw.unit('angstroms'), water='TIP3P',\n",
    "                                        verbose=False)"
   ]
  },
  {
   "cell_type": "code",
   "execution_count": 13,
   "metadata": {},
   "outputs": [
    {
     "data": {
      "text/plain": [
       "True"
      ]
     },
     "execution_count": 13,
     "metadata": {},
     "output_type": "execute_result"
    }
   ],
   "source": [
    "msm.is_solvated(molecular_system_solvated)"
   ]
  },
  {
   "cell_type": "code",
   "execution_count": 11,
   "metadata": {},
   "outputs": [
    {
     "data": {
      "text/html": [
       "<style  type=\"text/css\" >\n",
       "</style><table id=\"T_16a83_\" ><thead>    <tr>        <th class=\"col_heading level0 col0\" >form</th>        <th class=\"col_heading level0 col1\" >n_atoms</th>        <th class=\"col_heading level0 col2\" >n_groups</th>        <th class=\"col_heading level0 col3\" >n_components</th>        <th class=\"col_heading level0 col4\" >n_chains</th>        <th class=\"col_heading level0 col5\" >n_molecules</th>        <th class=\"col_heading level0 col6\" >n_entities</th>        <th class=\"col_heading level0 col7\" >n_waters</th>        <th class=\"col_heading level0 col8\" >n_peptides</th>        <th class=\"col_heading level0 col9\" >n_frames</th>    </tr></thead><tbody>\n",
       "                <tr>\n",
       "                                <td id=\"T_16a83_row0_col0\" class=\"data row0 col0\" >molsysmt.MolSys</td>\n",
       "                        <td id=\"T_16a83_row0_col1\" class=\"data row0 col1\" >11646</td>\n",
       "                        <td id=\"T_16a83_row0_col2\" class=\"data row0 col2\" >3862</td>\n",
       "                        <td id=\"T_16a83_row0_col3\" class=\"data row0 col3\" >3858</td>\n",
       "                        <td id=\"T_16a83_row0_col4\" class=\"data row0 col4\" >1</td>\n",
       "                        <td id=\"T_16a83_row0_col5\" class=\"data row0 col5\" >3858</td>\n",
       "                        <td id=\"T_16a83_row0_col6\" class=\"data row0 col6\" >2</td>\n",
       "                        <td id=\"T_16a83_row0_col7\" class=\"data row0 col7\" >3857</td>\n",
       "                        <td id=\"T_16a83_row0_col8\" class=\"data row0 col8\" >1</td>\n",
       "                        <td id=\"T_16a83_row0_col9\" class=\"data row0 col9\" >1</td>\n",
       "            </tr>\n",
       "    </tbody></table>"
      ],
      "text/plain": [
       "<pandas.io.formats.style.Styler at 0x7f3ab596b5d0>"
      ]
     },
     "execution_count": 11,
     "metadata": {},
     "output_type": "execute_result"
    }
   ],
   "source": [
    "msm.info(molecular_system_solvated)"
   ]
  },
  {
   "cell_type": "code",
   "execution_count": 14,
   "metadata": {},
   "outputs": [
    {
     "name": "stdout",
     "output_type": "stream",
     "text": [
      "The molecular system has 3857 waters and 0 ions.\n"
     ]
    }
   ],
   "source": [
    "n_waters, n_ions = msm.get(molecular_system_solvated, target='system',\n",
    "                           n_waters=True, n_ions=True)\n",
    "print('The molecular system has {} waters and {} ions.'.format(n_waters, n_ions))"
   ]
  },
  {
   "cell_type": "markdown",
   "metadata": {},
   "source": [
    "With Openmm:"
   ]
  },
  {
   "cell_type": "code",
   "execution_count": 41,
   "metadata": {},
   "outputs": [],
   "source": [
    "molecular_system_solvated = msm.solvate(msm.add_missing_hydrogens(molecular_system),\n",
    "                                        box_geometry='cubic',\n",
    "                                        clearance=14.0*puw.unit('angstroms'), water='TIP3P',\n",
    "                                        engine='OpenMM', verbose=False)"
   ]
  },
  {
   "cell_type": "code",
   "execution_count": 42,
   "metadata": {},
   "outputs": [
    {
     "data": {
      "text/html": [
       "<style  type=\"text/css\" >\n",
       "</style><table id=\"T_a230f_\" ><thead>    <tr>        <th class=\"col_heading level0 col0\" >form</th>        <th class=\"col_heading level0 col1\" >n_atoms</th>        <th class=\"col_heading level0 col2\" >n_groups</th>        <th class=\"col_heading level0 col3\" >n_components</th>        <th class=\"col_heading level0 col4\" >n_chains</th>        <th class=\"col_heading level0 col5\" >n_molecules</th>        <th class=\"col_heading level0 col6\" >n_entities</th>        <th class=\"col_heading level0 col7\" >n_waters</th>        <th class=\"col_heading level0 col8\" >n_peptides</th>        <th class=\"col_heading level0 col9\" >n_frames</th>    </tr></thead><tbody>\n",
       "                <tr>\n",
       "                                <td id=\"T_a230f_row0_col0\" class=\"data row0 col0\" >molsysmt.MolSys</td>\n",
       "                        <td id=\"T_a230f_row0_col1\" class=\"data row0 col1\" >9150</td>\n",
       "                        <td id=\"T_a230f_row0_col2\" class=\"data row0 col2\" >3030</td>\n",
       "                        <td id=\"T_a230f_row0_col3\" class=\"data row0 col3\" >3026</td>\n",
       "                        <td id=\"T_a230f_row0_col4\" class=\"data row0 col4\" >2</td>\n",
       "                        <td id=\"T_a230f_row0_col5\" class=\"data row0 col5\" >3026</td>\n",
       "                        <td id=\"T_a230f_row0_col6\" class=\"data row0 col6\" >2</td>\n",
       "                        <td id=\"T_a230f_row0_col7\" class=\"data row0 col7\" >3025</td>\n",
       "                        <td id=\"T_a230f_row0_col8\" class=\"data row0 col8\" >1</td>\n",
       "                        <td id=\"T_a230f_row0_col9\" class=\"data row0 col9\" >1</td>\n",
       "            </tr>\n",
       "    </tbody></table>"
      ],
      "text/plain": [
       "<pandas.io.formats.style.Styler at 0x7f3ab310b490>"
      ]
     },
     "execution_count": 42,
     "metadata": {},
     "output_type": "execute_result"
    }
   ],
   "source": [
    "msm.info(molecular_system_solvated)"
   ]
  },
  {
   "cell_type": "code",
   "execution_count": 38,
   "metadata": {},
   "outputs": [],
   "source": [
    "molecular_system_solvated = msm.solvate(molecular_system, box_geometry='cubic',\n",
    "                                        clearance=14.0*puw.unit('angstroms'), water='TIP3P',\n",
    "                                        engine='PDBFixer', verbose=False)"
   ]
  },
  {
   "cell_type": "code",
   "execution_count": 39,
   "metadata": {},
   "outputs": [
    {
     "data": {
      "text/html": [
       "<style  type=\"text/css\" >\n",
       "</style><table id=\"T_adcdf_\" ><thead>    <tr>        <th class=\"col_heading level0 col0\" >form</th>        <th class=\"col_heading level0 col1\" >n_atoms</th>        <th class=\"col_heading level0 col2\" >n_groups</th>        <th class=\"col_heading level0 col3\" >n_components</th>        <th class=\"col_heading level0 col4\" >n_chains</th>        <th class=\"col_heading level0 col5\" >n_molecules</th>        <th class=\"col_heading level0 col6\" >n_entities</th>        <th class=\"col_heading level0 col7\" >n_waters</th>        <th class=\"col_heading level0 col8\" >n_peptides</th>        <th class=\"col_heading level0 col9\" >n_frames</th>    </tr></thead><tbody>\n",
       "                <tr>\n",
       "                                <td id=\"T_adcdf_row0_col0\" class=\"data row0 col0\" >molsysmt.MolSys</td>\n",
       "                        <td id=\"T_adcdf_row0_col1\" class=\"data row0 col1\" >7891</td>\n",
       "                        <td id=\"T_adcdf_row0_col2\" class=\"data row0 col2\" >2622</td>\n",
       "                        <td id=\"T_adcdf_row0_col3\" class=\"data row0 col3\" >2618</td>\n",
       "                        <td id=\"T_adcdf_row0_col4\" class=\"data row0 col4\" >2</td>\n",
       "                        <td id=\"T_adcdf_row0_col5\" class=\"data row0 col5\" >2618</td>\n",
       "                        <td id=\"T_adcdf_row0_col6\" class=\"data row0 col6\" >2</td>\n",
       "                        <td id=\"T_adcdf_row0_col7\" class=\"data row0 col7\" >2617</td>\n",
       "                        <td id=\"T_adcdf_row0_col8\" class=\"data row0 col8\" >1</td>\n",
       "                        <td id=\"T_adcdf_row0_col9\" class=\"data row0 col9\" >1</td>\n",
       "            </tr>\n",
       "    </tbody></table>"
      ],
      "text/plain": [
       "<pandas.io.formats.style.Styler at 0x7f3ab655ca50>"
      ]
     },
     "execution_count": 39,
     "metadata": {},
     "output_type": "execute_result"
    }
   ],
   "source": [
    "msm.info(molecular_system_solvated)"
   ]
  },
  {
   "cell_type": "markdown",
   "metadata": {},
   "source": [
    "Tengo que checar esto porque el número de aguas es muuuy distinto"
   ]
  },
  {
   "cell_type": "code",
   "execution_count": 44,
   "metadata": {},
   "outputs": [],
   "source": [
    "molecular_system_solvated = msm.solvate(msm.add_missing_hydrogens(molecular_system),\n",
    "                                        box_geometry='truncated_octahedral',\n",
    "                                        clearance=14.0*puw.unit('angstroms'), water='TIP3P',\n",
    "                                        engine='OpenMM', verbose=False)"
   ]
  },
  {
   "cell_type": "code",
   "execution_count": 45,
   "metadata": {},
   "outputs": [
    {
     "data": {
      "text/html": [
       "<style  type=\"text/css\" >\n",
       "</style><table id=\"T_a46c3_\" ><thead>    <tr>        <th class=\"col_heading level0 col0\" >form</th>        <th class=\"col_heading level0 col1\" >n_atoms</th>        <th class=\"col_heading level0 col2\" >n_groups</th>        <th class=\"col_heading level0 col3\" >n_components</th>        <th class=\"col_heading level0 col4\" >n_chains</th>        <th class=\"col_heading level0 col5\" >n_molecules</th>        <th class=\"col_heading level0 col6\" >n_entities</th>        <th class=\"col_heading level0 col7\" >n_waters</th>        <th class=\"col_heading level0 col8\" >n_peptides</th>        <th class=\"col_heading level0 col9\" >n_frames</th>    </tr></thead><tbody>\n",
       "                <tr>\n",
       "                                <td id=\"T_a46c3_row0_col0\" class=\"data row0 col0\" >molsysmt.MolSys</td>\n",
       "                        <td id=\"T_a46c3_row0_col1\" class=\"data row0 col1\" >2184</td>\n",
       "                        <td id=\"T_a46c3_row0_col2\" class=\"data row0 col2\" >708</td>\n",
       "                        <td id=\"T_a46c3_row0_col3\" class=\"data row0 col3\" >704</td>\n",
       "                        <td id=\"T_a46c3_row0_col4\" class=\"data row0 col4\" >2</td>\n",
       "                        <td id=\"T_a46c3_row0_col5\" class=\"data row0 col5\" >704</td>\n",
       "                        <td id=\"T_a46c3_row0_col6\" class=\"data row0 col6\" >2</td>\n",
       "                        <td id=\"T_a46c3_row0_col7\" class=\"data row0 col7\" >703</td>\n",
       "                        <td id=\"T_a46c3_row0_col8\" class=\"data row0 col8\" >1</td>\n",
       "                        <td id=\"T_a46c3_row0_col9\" class=\"data row0 col9\" >1</td>\n",
       "            </tr>\n",
       "    </tbody></table>"
      ],
      "text/plain": [
       "<pandas.io.formats.style.Styler at 0x7f3a939439d0>"
      ]
     },
     "execution_count": 45,
     "metadata": {},
     "output_type": "execute_result"
    }
   ],
   "source": [
    "msm.info(molecular_system_solvated)"
   ]
  },
  {
   "cell_type": "code",
   "execution_count": 47,
   "metadata": {},
   "outputs": [],
   "source": [
    "molecular_system_solvated = msm.solvate(msm.add_missing_hydrogens(molecular_system),\n",
    "                                        box_geometry='rhombic_dodecahedron',\n",
    "                                        clearance=14.0*puw.unit('angstroms'), water='TIP3P',\n",
    "                                        engine='OpenMM', verbose=False)"
   ]
  },
  {
   "cell_type": "code",
   "execution_count": 48,
   "metadata": {},
   "outputs": [
    {
     "data": {
      "text/html": [
       "<style  type=\"text/css\" >\n",
       "</style><table id=\"T_33746_\" ><thead>    <tr>        <th class=\"col_heading level0 col0\" >form</th>        <th class=\"col_heading level0 col1\" >n_atoms</th>        <th class=\"col_heading level0 col2\" >n_groups</th>        <th class=\"col_heading level0 col3\" >n_components</th>        <th class=\"col_heading level0 col4\" >n_chains</th>        <th class=\"col_heading level0 col5\" >n_molecules</th>        <th class=\"col_heading level0 col6\" >n_entities</th>        <th class=\"col_heading level0 col7\" >n_waters</th>        <th class=\"col_heading level0 col8\" >n_peptides</th>        <th class=\"col_heading level0 col9\" >n_frames</th>    </tr></thead><tbody>\n",
       "                <tr>\n",
       "                                <td id=\"T_33746_row0_col0\" class=\"data row0 col0\" >molsysmt.MolSys</td>\n",
       "                        <td id=\"T_33746_row0_col1\" class=\"data row0 col1\" >1908</td>\n",
       "                        <td id=\"T_33746_row0_col2\" class=\"data row0 col2\" >616</td>\n",
       "                        <td id=\"T_33746_row0_col3\" class=\"data row0 col3\" >612</td>\n",
       "                        <td id=\"T_33746_row0_col4\" class=\"data row0 col4\" >2</td>\n",
       "                        <td id=\"T_33746_row0_col5\" class=\"data row0 col5\" >612</td>\n",
       "                        <td id=\"T_33746_row0_col6\" class=\"data row0 col6\" >2</td>\n",
       "                        <td id=\"T_33746_row0_col7\" class=\"data row0 col7\" >611</td>\n",
       "                        <td id=\"T_33746_row0_col8\" class=\"data row0 col8\" >1</td>\n",
       "                        <td id=\"T_33746_row0_col9\" class=\"data row0 col9\" >1</td>\n",
       "            </tr>\n",
       "    </tbody></table>"
      ],
      "text/plain": [
       "<pandas.io.formats.style.Styler at 0x7f3ab0772c90>"
      ]
     },
     "execution_count": 48,
     "metadata": {},
     "output_type": "execute_result"
    }
   ],
   "source": [
    "msm.info(molecular_system_solvated)"
   ]
  },
  {
   "cell_type": "code",
   "execution_count": null,
   "metadata": {},
   "outputs": [],
   "source": []
  }
 ],
 "metadata": {
  "kernelspec": {
   "display_name": "Python 3",
   "language": "python",
   "name": "python3"
  },
  "language_info": {
   "codemirror_mode": {
    "name": "ipython",
    "version": 3
   },
   "file_extension": ".py",
   "mimetype": "text/x-python",
   "name": "python",
   "nbconvert_exporter": "python",
   "pygments_lexer": "ipython3",
   "version": "3.7.9"
  }
 },
 "nbformat": 4,
 "nbformat_minor": 4
}
