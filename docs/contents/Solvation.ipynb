{
 "cells": [
  {
   "cell_type": "code",
   "execution_count": 1,
   "metadata": {},
   "outputs": [],
   "source": [
    "%load_ext autoreload\n",
    "%autoreload 2"
   ]
  },
  {
   "cell_type": "code",
   "execution_count": 2,
   "metadata": {},
   "outputs": [
    {
     "data": {
      "application/vnd.jupyter.widget-view+json": {
       "model_id": "ea9ffdc09616442a8c0d08559de2dca2",
       "version_major": 2,
       "version_minor": 0
      },
      "text/plain": []
     },
     "metadata": {},
     "output_type": "display_data"
    }
   ],
   "source": [
    "import molsysmt as msm\n",
    "from molsysmt import puw"
   ]
  },
  {
   "cell_type": "markdown",
   "metadata": {},
   "source": [
    "# Adding solvent"
   ]
  },
  {
   "cell_type": "code",
   "execution_count": 3,
   "metadata": {},
   "outputs": [],
   "source": [
    "molsys = 'GRKFRRKFKK' # Cationic peptide\n",
    "molsys = msm.build_peptide([molsys, {'forcefield':'AMBER14'}], to_form='molsysmt.MolSys')\n",
    "molsys = msm.add_terminal_capping(molsys, N_terminal='ACE', C_terminal='NME')"
   ]
  },
  {
   "cell_type": "code",
   "execution_count": 4,
   "metadata": {},
   "outputs": [
    {
     "data": {
      "text/html": [
       "7.0 elementary_charge"
      ],
      "text/latex": [
       "$7.0\\ \\mathrm{elementary\\_charge}$"
      ],
      "text/plain": [
       "7.0 <Unit('elementary_charge')>"
      ]
     },
     "execution_count": 4,
     "metadata": {},
     "output_type": "execute_result"
    }
   ],
   "source": [
    "msm.physchem.charge([molsys, {'forcefield':'AMBER14'}], target='system')"
   ]
  },
  {
   "cell_type": "code",
   "execution_count": 5,
   "metadata": {},
   "outputs": [
    {
     "data": {
      "text/plain": [
       "False"
      ]
     },
     "execution_count": 5,
     "metadata": {},
     "output_type": "execute_result"
    }
   ],
   "source": [
    "msm.is_solvated(molsys)"
   ]
  },
  {
   "cell_type": "code",
   "execution_count": 6,
   "metadata": {},
   "outputs": [
    {
     "data": {
      "text/html": [
       "<style type=\"text/css\">\n",
       "</style>\n",
       "<table id=\"T_2e00d_\">\n",
       "  <thead>\n",
       "    <tr>\n",
       "      <th class=\"col_heading level0 col0\" >form</th>\n",
       "      <th class=\"col_heading level0 col1\" >n_atoms</th>\n",
       "      <th class=\"col_heading level0 col2\" >n_groups</th>\n",
       "      <th class=\"col_heading level0 col3\" >n_components</th>\n",
       "      <th class=\"col_heading level0 col4\" >n_chains</th>\n",
       "      <th class=\"col_heading level0 col5\" >n_molecules</th>\n",
       "      <th class=\"col_heading level0 col6\" >n_entities</th>\n",
       "      <th class=\"col_heading level0 col7\" >n_peptides</th>\n",
       "      <th class=\"col_heading level0 col8\" >n_frames</th>\n",
       "    </tr>\n",
       "  </thead>\n",
       "  <tbody>\n",
       "    <tr>\n",
       "      <td id=\"T_2e00d_row0_col0\" class=\"data row0 col0\" >molsysmt.MolSys</td>\n",
       "      <td id=\"T_2e00d_row0_col1\" class=\"data row0 col1\" >219</td>\n",
       "      <td id=\"T_2e00d_row0_col2\" class=\"data row0 col2\" >12</td>\n",
       "      <td id=\"T_2e00d_row0_col3\" class=\"data row0 col3\" >1</td>\n",
       "      <td id=\"T_2e00d_row0_col4\" class=\"data row0 col4\" >1</td>\n",
       "      <td id=\"T_2e00d_row0_col5\" class=\"data row0 col5\" >1</td>\n",
       "      <td id=\"T_2e00d_row0_col6\" class=\"data row0 col6\" >1</td>\n",
       "      <td id=\"T_2e00d_row0_col7\" class=\"data row0 col7\" >1</td>\n",
       "      <td id=\"T_2e00d_row0_col8\" class=\"data row0 col8\" >1</td>\n",
       "    </tr>\n",
       "  </tbody>\n",
       "</table>\n"
      ],
      "text/plain": [
       "<pandas.io.formats.style.Styler at 0x7f986eefe510>"
      ]
     },
     "execution_count": 6,
     "metadata": {},
     "output_type": "execute_result"
    }
   ],
   "source": [
    "msm.info(molsys)"
   ]
  },
  {
   "cell_type": "code",
   "execution_count": 7,
   "metadata": {},
   "outputs": [],
   "source": [
    "molsys = msm.solvate([molsys, {'forcefield':'AMBER14', 'water_model':'TIP3P'}],\n",
    "                     box_geometry='cubic', clearance=14.0*puw.unit('angstroms'),\n",
    "                     to_form='molsysmt.MolSys', engine=\"OpenMM\", verbose=False)"
   ]
  },
  {
   "cell_type": "code",
   "execution_count": 8,
   "metadata": {},
   "outputs": [
    {
     "data": {
      "text/plain": [
       "True"
      ]
     },
     "execution_count": 8,
     "metadata": {},
     "output_type": "execute_result"
    }
   ],
   "source": [
    "msm.is_solvated(molsys)"
   ]
  },
  {
   "cell_type": "code",
   "execution_count": 9,
   "metadata": {},
   "outputs": [
    {
     "data": {
      "text/html": [
       "<style type=\"text/css\">\n",
       "</style>\n",
       "<table id=\"T_93a90_\">\n",
       "  <thead>\n",
       "    <tr>\n",
       "      <th class=\"col_heading level0 col0\" >form</th>\n",
       "      <th class=\"col_heading level0 col1\" >n_atoms</th>\n",
       "      <th class=\"col_heading level0 col2\" >n_groups</th>\n",
       "      <th class=\"col_heading level0 col3\" >n_components</th>\n",
       "      <th class=\"col_heading level0 col4\" >n_chains</th>\n",
       "      <th class=\"col_heading level0 col5\" >n_molecules</th>\n",
       "      <th class=\"col_heading level0 col6\" >n_entities</th>\n",
       "      <th class=\"col_heading level0 col7\" >n_waters</th>\n",
       "      <th class=\"col_heading level0 col8\" >n_ions</th>\n",
       "      <th class=\"col_heading level0 col9\" >n_peptides</th>\n",
       "      <th class=\"col_heading level0 col10\" >n_frames</th>\n",
       "    </tr>\n",
       "  </thead>\n",
       "  <tbody>\n",
       "    <tr>\n",
       "      <td id=\"T_93a90_row0_col0\" class=\"data row0 col0\" >molsysmt.MolSys</td>\n",
       "      <td id=\"T_93a90_row0_col1\" class=\"data row0 col1\" >26995</td>\n",
       "      <td id=\"T_93a90_row0_col2\" class=\"data row0 col2\" >8942</td>\n",
       "      <td id=\"T_93a90_row0_col3\" class=\"data row0 col3\" >8931</td>\n",
       "      <td id=\"T_93a90_row0_col4\" class=\"data row0 col4\" >3</td>\n",
       "      <td id=\"T_93a90_row0_col5\" class=\"data row0 col5\" >8931</td>\n",
       "      <td id=\"T_93a90_row0_col6\" class=\"data row0 col6\" >3</td>\n",
       "      <td id=\"T_93a90_row0_col7\" class=\"data row0 col7\" >8923</td>\n",
       "      <td id=\"T_93a90_row0_col8\" class=\"data row0 col8\" >7</td>\n",
       "      <td id=\"T_93a90_row0_col9\" class=\"data row0 col9\" >1</td>\n",
       "      <td id=\"T_93a90_row0_col10\" class=\"data row0 col10\" >1</td>\n",
       "    </tr>\n",
       "  </tbody>\n",
       "</table>\n"
      ],
      "text/plain": [
       "<pandas.io.formats.style.Styler at 0x7f987f8c7bd0>"
      ]
     },
     "execution_count": 9,
     "metadata": {},
     "output_type": "execute_result"
    }
   ],
   "source": [
    "msm.info(molsys)"
   ]
  },
  {
   "cell_type": "code",
   "execution_count": 10,
   "metadata": {},
   "outputs": [
    {
     "data": {
      "text/html": [
       "<style type=\"text/css\">\n",
       "</style>\n",
       "<table id=\"T_1c0c1_\">\n",
       "  <thead>\n",
       "    <tr>\n",
       "      <th class=\"col_heading level0 col0\" >index</th>\n",
       "      <th class=\"col_heading level0 col1\" >name</th>\n",
       "      <th class=\"col_heading level0 col2\" >type</th>\n",
       "      <th class=\"col_heading level0 col3\" >n atoms</th>\n",
       "      <th class=\"col_heading level0 col4\" >n groups</th>\n",
       "      <th class=\"col_heading level0 col5\" >n components</th>\n",
       "      <th class=\"col_heading level0 col6\" >n chains</th>\n",
       "      <th class=\"col_heading level0 col7\" >n molecules</th>\n",
       "    </tr>\n",
       "  </thead>\n",
       "  <tbody>\n",
       "    <tr>\n",
       "      <td id=\"T_1c0c1_row0_col0\" class=\"data row0 col0\" >0</td>\n",
       "      <td id=\"T_1c0c1_row0_col1\" class=\"data row0 col1\" >Peptide_0</td>\n",
       "      <td id=\"T_1c0c1_row0_col2\" class=\"data row0 col2\" >peptide</td>\n",
       "      <td id=\"T_1c0c1_row0_col3\" class=\"data row0 col3\" >219</td>\n",
       "      <td id=\"T_1c0c1_row0_col4\" class=\"data row0 col4\" >12</td>\n",
       "      <td id=\"T_1c0c1_row0_col5\" class=\"data row0 col5\" >1</td>\n",
       "      <td id=\"T_1c0c1_row0_col6\" class=\"data row0 col6\" >1</td>\n",
       "      <td id=\"T_1c0c1_row0_col7\" class=\"data row0 col7\" >1</td>\n",
       "    </tr>\n",
       "    <tr>\n",
       "      <td id=\"T_1c0c1_row1_col0\" class=\"data row1 col0\" >1</td>\n",
       "      <td id=\"T_1c0c1_row1_col1\" class=\"data row1 col1\" >water</td>\n",
       "      <td id=\"T_1c0c1_row1_col2\" class=\"data row1 col2\" >water</td>\n",
       "      <td id=\"T_1c0c1_row1_col3\" class=\"data row1 col3\" >26769</td>\n",
       "      <td id=\"T_1c0c1_row1_col4\" class=\"data row1 col4\" >8923</td>\n",
       "      <td id=\"T_1c0c1_row1_col5\" class=\"data row1 col5\" >8923</td>\n",
       "      <td id=\"T_1c0c1_row1_col6\" class=\"data row1 col6\" >1</td>\n",
       "      <td id=\"T_1c0c1_row1_col7\" class=\"data row1 col7\" >8923</td>\n",
       "    </tr>\n",
       "    <tr>\n",
       "      <td id=\"T_1c0c1_row2_col0\" class=\"data row2 col0\" >2</td>\n",
       "      <td id=\"T_1c0c1_row2_col1\" class=\"data row2 col1\" >CL</td>\n",
       "      <td id=\"T_1c0c1_row2_col2\" class=\"data row2 col2\" >ion</td>\n",
       "      <td id=\"T_1c0c1_row2_col3\" class=\"data row2 col3\" >7</td>\n",
       "      <td id=\"T_1c0c1_row2_col4\" class=\"data row2 col4\" >7</td>\n",
       "      <td id=\"T_1c0c1_row2_col5\" class=\"data row2 col5\" >7</td>\n",
       "      <td id=\"T_1c0c1_row2_col6\" class=\"data row2 col6\" >1</td>\n",
       "      <td id=\"T_1c0c1_row2_col7\" class=\"data row2 col7\" >7</td>\n",
       "    </tr>\n",
       "  </tbody>\n",
       "</table>\n"
      ],
      "text/plain": [
       "<pandas.io.formats.style.Styler at 0x7f986ebce610>"
      ]
     },
     "execution_count": 10,
     "metadata": {},
     "output_type": "execute_result"
    }
   ],
   "source": [
    "msm.info(molsys, target='entity')"
   ]
  },
  {
   "cell_type": "code",
   "execution_count": 12,
   "metadata": {},
   "outputs": [
    {
     "data": {
      "text/html": [
       "-0.0 elementary_charge"
      ],
      "text/latex": [
       "$-0.0\\ \\mathrm{elementary\\_charge}$"
      ],
      "text/plain": [
       "-0.0 <Unit('elementary_charge')>"
      ]
     },
     "execution_count": 12,
     "metadata": {},
     "output_type": "execute_result"
    }
   ],
   "source": [
    "msm.physchem.charge([molsys, {'forcefield':'AMBER14', 'water_model':'TIP3P'}], target='system')"
   ]
  },
  {
   "cell_type": "code",
   "execution_count": 13,
   "metadata": {},
   "outputs": [],
   "source": [
    "box, box_angles = msm.get(molsys, target='system', box=True, box_angles=True)"
   ]
  },
  {
   "cell_type": "code",
   "execution_count": 14,
   "metadata": {},
   "outputs": [
    {
     "data": {
      "text/html": [
       "<table><tbody><tr><th>Magnitude</th><td style='text-align:left;'><pre>[[[6.51691831201315 0.0 0.0]<br>  [0.0 6.51691831201315 0.0]<br>  [0.0 0.0 6.51691831201315]]]</pre></td></tr><tr><th>Units</th><td style='text-align:left;'>nanometer</td></tr></tbody></table>"
      ],
      "text/latex": [
       "$arr[,0,:,:] = \\begin{pmatrix}6.51691831201315 & 0.0 & 0.0\\\\ \n",
       "0.0 & 6.51691831201315 & 0.0\\\\ \n",
       "0.0 & 0.0 & 6.51691831201315\\end{pmatrix}\\ \\mathrm{nanometer}$"
      ],
      "text/plain": [
       "array([[[6.51691831, 0.        , 0.        ],\n",
       "        [0.        , 6.51691831, 0.        ],\n",
       "        [0.        , 0.        , 6.51691831]]]) <Unit('nanometer')>"
      ]
     },
     "execution_count": 14,
     "metadata": {},
     "output_type": "execute_result"
    }
   ],
   "source": [
    "box"
   ]
  },
  {
   "cell_type": "code",
   "execution_count": 15,
   "metadata": {},
   "outputs": [
    {
     "data": {
      "text/html": [
       "<table><tbody><tr><th>Magnitude</th><td style='text-align:left;'><pre>[[90.000001 90.000001 90.000001]]</pre></td></tr><tr><th>Units</th><td style='text-align:left;'>degree</td></tr></tbody></table>"
      ],
      "text/latex": [
       "$\\begin{pmatrix}90.000001 & 90.000001 & 90.000001\\end{pmatrix}\\ \\mathrm{degree}$"
      ],
      "text/plain": [
       "array([[90.000001, 90.000001, 90.000001]]) <Unit('degree')>"
      ]
     },
     "execution_count": 15,
     "metadata": {},
     "output_type": "execute_result"
    }
   ],
   "source": [
    "box_angles"
   ]
  },
  {
   "cell_type": "code",
   "execution_count": 16,
   "metadata": {},
   "outputs": [],
   "source": [
    "molsys = msm.center(molsys, center_of_selection='molecule_type==\"peptide\"')\n",
    "molsys = msm.wrap_to_pbc(molsys)"
   ]
  },
  {
   "cell_type": "code",
   "execution_count": 17,
   "metadata": {},
   "outputs": [
    {
     "data": {
      "application/vnd.jupyter.widget-view+json": {
       "model_id": "79f8a53f923b4bebacb262c2ae345191",
       "version_major": 2,
       "version_minor": 0
      },
      "text/plain": [
       "NGLWidget()"
      ]
     },
     "metadata": {},
     "output_type": "display_data"
    }
   ],
   "source": [
    "msm.view(molsys, standardize=True, water_as_surface=True)"
   ]
  },
  {
   "cell_type": "markdown",
   "metadata": {},
   "source": [
    "## Adding ions "
   ]
  },
  {
   "cell_type": "markdown",
   "metadata": {},
   "source": [
    "## PBC box geometry"
   ]
  },
  {
   "cell_type": "code",
   "execution_count": 29,
   "metadata": {},
   "outputs": [],
   "source": [
    "molsys = 'GRKFRRKFKK' # Cationic peptide\n",
    "molsys = msm.build_peptide([molsys, {'forcefield':'AMBER14'}], to_form='molsysmt.MolSys')\n",
    "molsys = msm.add_terminal_capping(molsys, N_terminal='ACE', C_terminal='NME')"
   ]
  },
  {
   "cell_type": "code",
   "execution_count": 30,
   "metadata": {},
   "outputs": [],
   "source": [
    "molsys = msm.solvate(molsys, box_geometry='truncated_octahedral', clearance=14.0*puw.unit('angstroms'),\n",
    "                     engine='PDBFixer')"
   ]
  },
  {
   "cell_type": "code",
   "execution_count": 31,
   "metadata": {},
   "outputs": [
    {
     "data": {
      "text/html": [
       "<style type=\"text/css\">\n",
       "</style>\n",
       "<table id=\"T_1c342_\">\n",
       "  <thead>\n",
       "    <tr>\n",
       "      <th class=\"col_heading level0 col0\" >form</th>\n",
       "      <th class=\"col_heading level0 col1\" >n_atoms</th>\n",
       "      <th class=\"col_heading level0 col2\" >n_groups</th>\n",
       "      <th class=\"col_heading level0 col3\" >n_components</th>\n",
       "      <th class=\"col_heading level0 col4\" >n_chains</th>\n",
       "      <th class=\"col_heading level0 col5\" >n_molecules</th>\n",
       "      <th class=\"col_heading level0 col6\" >n_entities</th>\n",
       "      <th class=\"col_heading level0 col7\" >n_waters</th>\n",
       "      <th class=\"col_heading level0 col8\" >n_ions</th>\n",
       "      <th class=\"col_heading level0 col9\" >n_peptides</th>\n",
       "      <th class=\"col_heading level0 col10\" >n_frames</th>\n",
       "    </tr>\n",
       "  </thead>\n",
       "  <tbody>\n",
       "    <tr>\n",
       "      <td id=\"T_1c342_row0_col0\" class=\"data row0 col0\" >molsysmt.MolSys</td>\n",
       "      <td id=\"T_1c342_row0_col1\" class=\"data row0 col1\" >10183</td>\n",
       "      <td id=\"T_1c342_row0_col2\" class=\"data row0 col2\" >3338</td>\n",
       "      <td id=\"T_1c342_row0_col3\" class=\"data row0 col3\" >3327</td>\n",
       "      <td id=\"T_1c342_row0_col4\" class=\"data row0 col4\" >3</td>\n",
       "      <td id=\"T_1c342_row0_col5\" class=\"data row0 col5\" >3327</td>\n",
       "      <td id=\"T_1c342_row0_col6\" class=\"data row0 col6\" >3</td>\n",
       "      <td id=\"T_1c342_row0_col7\" class=\"data row0 col7\" >3319</td>\n",
       "      <td id=\"T_1c342_row0_col8\" class=\"data row0 col8\" >7</td>\n",
       "      <td id=\"T_1c342_row0_col9\" class=\"data row0 col9\" >1</td>\n",
       "      <td id=\"T_1c342_row0_col10\" class=\"data row0 col10\" >1</td>\n",
       "    </tr>\n",
       "  </tbody>\n",
       "</table>\n"
      ],
      "text/plain": [
       "<pandas.io.formats.style.Styler at 0x7f986eae7490>"
      ]
     },
     "execution_count": 31,
     "metadata": {},
     "output_type": "execute_result"
    }
   ],
   "source": [
    "msm.info(molsys)"
   ]
  },
  {
   "cell_type": "code",
   "execution_count": 32,
   "metadata": {},
   "outputs": [],
   "source": [
    "molsys = msm.center(molsys, center_of_selection='molecule_type==\"peptide\"')\n",
    "molsys = msm.wrap_to_pbc(molsys)"
   ]
  },
  {
   "cell_type": "code",
   "execution_count": 33,
   "metadata": {},
   "outputs": [
    {
     "data": {
      "application/vnd.jupyter.widget-view+json": {
       "model_id": "17a5aef63fa944dc80f280a0acc92c69",
       "version_major": 2,
       "version_minor": 0
      },
      "text/plain": [
       "NGLWidget()"
      ]
     },
     "metadata": {},
     "output_type": "display_data"
    }
   ],
   "source": [
    "msm.view(molsys, standardize=True, water_as_surface=True)"
   ]
  },
  {
   "cell_type": "code",
   "execution_count": null,
   "metadata": {},
   "outputs": [],
   "source": [
    "molsys = msm.wrap_to_pbc(molsys)"
   ]
  },
  {
   "cell_type": "code",
   "execution_count": null,
   "metadata": {},
   "outputs": [],
   "source": [
    "molecular_system_solvated = msm.solvate([msm.add_missing_hydrogens(molecular_system),\n",
    "                                         {'forcefield':'AMBER14', 'water_model':'TIP3P'}],\n",
    "                                        box_geometry='truncated_octahedral',\n",
    "                                        clearance=14.0*puw.unit('angstroms'),\n",
    "                                        engine='OpenMM', verbose=False)"
   ]
  },
  {
   "cell_type": "code",
   "execution_count": null,
   "metadata": {},
   "outputs": [],
   "source": [
    "msm.info(molecular_system_solvated)"
   ]
  },
  {
   "cell_type": "code",
   "execution_count": null,
   "metadata": {},
   "outputs": [],
   "source": [
    "molecular_system_solvated = msm.solvate([msm.add_missing_hydrogens(molecular_system),\n",
    "                                         {'forcefield':'AMBER14', 'water_model':'TIP3P'}],\n",
    "                                        box_geometry='rhombic_dodecahedron',\n",
    "                                        clearance=14.0*puw.unit('angstroms'),\n",
    "                                        engine='OpenMM', verbose=False)"
   ]
  },
  {
   "cell_type": "code",
   "execution_count": null,
   "metadata": {},
   "outputs": [],
   "source": [
    "msm.info(molecular_system_solvated)"
   ]
  },
  {
   "cell_type": "code",
   "execution_count": null,
   "metadata": {},
   "outputs": [],
   "source": []
  }
 ],
 "metadata": {
  "kernelspec": {
   "display_name": "Python 3",
   "language": "python",
   "name": "python3"
  },
  "language_info": {
   "codemirror_mode": {
    "name": "ipython",
    "version": 3
   },
   "file_extension": ".py",
   "mimetype": "text/x-python",
   "name": "python",
   "nbconvert_exporter": "python",
   "pygments_lexer": "ipython3",
   "version": "3.7.10"
  }
 },
 "nbformat": 4,
 "nbformat_minor": 4
}
