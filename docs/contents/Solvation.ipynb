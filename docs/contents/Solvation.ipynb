{
 "cells": [
  {
   "cell_type": "code",
   "execution_count": 1,
   "metadata": {},
   "outputs": [],
   "source": [
    "%load_ext autoreload\n",
    "%autoreload 2"
   ]
  },
  {
   "cell_type": "code",
   "execution_count": 2,
   "metadata": {},
   "outputs": [
    {
     "data": {
      "application/vnd.jupyter.widget-view+json": {
       "model_id": "2db1984161a34e2db64efd08917e83f1",
       "version_major": 2,
       "version_minor": 0
      },
      "text/plain": [
       "_ColormakerRegistry()"
      ]
     },
     "metadata": {},
     "output_type": "display_data"
    }
   ],
   "source": [
    "import molsysmt as msm\n",
    "from simtk import unit"
   ]
  },
  {
   "cell_type": "markdown",
   "metadata": {},
   "source": [
    "# Adding solvent"
   ]
  },
  {
   "cell_type": "code",
   "execution_count": 3,
   "metadata": {},
   "outputs": [],
   "source": [
    "pdbfile = msm.test_systems.files['metenkephalin.pdb']"
   ]
  },
  {
   "cell_type": "code",
   "execution_count": 4,
   "metadata": {},
   "outputs": [],
   "source": [
    "molecular_system = msm.convert(pdbfile)"
   ]
  },
  {
   "cell_type": "code",
   "execution_count": 5,
   "metadata": {},
   "outputs": [
    {
     "data": {
      "text/html": [
       "<style  type=\"text/css\" >\n",
       "</style><table id=\"T_f6634402_9fe7_11ea_9d96_b54f3cef8a15\" ><thead>    <tr>        <th class=\"col_heading level0 col0\" >form</th>        <th class=\"col_heading level0 col1\" >n atoms</th>        <th class=\"col_heading level0 col2\" >n groups</th>        <th class=\"col_heading level0 col3\" >n components</th>        <th class=\"col_heading level0 col4\" >n chains</th>        <th class=\"col_heading level0 col5\" >n molecules</th>        <th class=\"col_heading level0 col6\" >n entities</th>        <th class=\"col_heading level0 col7\" >n frames</th>    </tr></thead><tbody>\n",
       "                <tr>\n",
       "                                <td id=\"T_f6634402_9fe7_11ea_9d96_b54f3cef8a15row0_col0\" class=\"data row0 col0\" >molsysmt.MolSys</td>\n",
       "                        <td id=\"T_f6634402_9fe7_11ea_9d96_b54f3cef8a15row0_col1\" class=\"data row0 col1\" >72</td>\n",
       "                        <td id=\"T_f6634402_9fe7_11ea_9d96_b54f3cef8a15row0_col2\" class=\"data row0 col2\" >5</td>\n",
       "                        <td id=\"T_f6634402_9fe7_11ea_9d96_b54f3cef8a15row0_col3\" class=\"data row0 col3\" >1</td>\n",
       "                        <td id=\"T_f6634402_9fe7_11ea_9d96_b54f3cef8a15row0_col4\" class=\"data row0 col4\" >1</td>\n",
       "                        <td id=\"T_f6634402_9fe7_11ea_9d96_b54f3cef8a15row0_col5\" class=\"data row0 col5\" >1</td>\n",
       "                        <td id=\"T_f6634402_9fe7_11ea_9d96_b54f3cef8a15row0_col6\" class=\"data row0 col6\" >1</td>\n",
       "                        <td id=\"T_f6634402_9fe7_11ea_9d96_b54f3cef8a15row0_col7\" class=\"data row0 col7\" >1</td>\n",
       "            </tr>\n",
       "    </tbody></table>"
      ],
      "text/plain": [
       "<pandas.io.formats.style.Styler at 0x7fb45bed6090>"
      ]
     },
     "execution_count": 5,
     "metadata": {},
     "output_type": "execute_result"
    }
   ],
   "source": [
    "msm.info(molecular_system)"
   ]
  },
  {
   "cell_type": "code",
   "execution_count": 6,
   "metadata": {},
   "outputs": [
    {
     "name": "stdout",
     "output_type": "stream",
     "text": [
      "The molecular system has 0 waters and 0 ions.\n"
     ]
    }
   ],
   "source": [
    "n_waters, n_ions = msm.get(molecular_system, target='system',\n",
    "                           n_waters=True, n_ions=True)\n",
    "print('The molecular system has {} waters and {} ions.'.format(n_waters, n_ions))"
   ]
  },
  {
   "cell_type": "code",
   "execution_count": 8,
   "metadata": {},
   "outputs": [],
   "source": [
    "molecular_system = msm.remove_hydrogens(molecular_system)"
   ]
  },
  {
   "cell_type": "code",
   "execution_count": 10,
   "metadata": {},
   "outputs": [],
   "source": [
    "molecular_system_solvated = msm.solvate(molecular_system, box_geometry='cubic',\n",
    "                                        clearance=14.0*unit.angstroms, water='TIP3P',\n",
    "                                        verbose=False)"
   ]
  },
  {
   "cell_type": "code",
   "execution_count": 11,
   "metadata": {},
   "outputs": [
    {
     "data": {
      "text/html": [
       "<style  type=\"text/css\" >\n",
       "</style><table id=\"T_1737a32e_9fea_11ea_9d96_b54f3cef8a15\" ><thead>    <tr>        <th class=\"col_heading level0 col0\" >form</th>        <th class=\"col_heading level0 col1\" >n atoms</th>        <th class=\"col_heading level0 col2\" >n groups</th>        <th class=\"col_heading level0 col3\" >n components</th>        <th class=\"col_heading level0 col4\" >n chains</th>        <th class=\"col_heading level0 col5\" >n molecules</th>        <th class=\"col_heading level0 col6\" >n entities</th>        <th class=\"col_heading level0 col7\" >n frames</th>    </tr></thead><tbody>\n",
       "                <tr>\n",
       "                                <td id=\"T_1737a32e_9fea_11ea_9d96_b54f3cef8a15row0_col0\" class=\"data row0 col0\" >molsysmt.MolSys</td>\n",
       "                        <td id=\"T_1737a32e_9fea_11ea_9d96_b54f3cef8a15row0_col1\" class=\"data row0 col1\" >11646</td>\n",
       "                        <td id=\"T_1737a32e_9fea_11ea_9d96_b54f3cef8a15row0_col2\" class=\"data row0 col2\" >3862</td>\n",
       "                        <td id=\"T_1737a32e_9fea_11ea_9d96_b54f3cef8a15row0_col3\" class=\"data row0 col3\" >3858</td>\n",
       "                        <td id=\"T_1737a32e_9fea_11ea_9d96_b54f3cef8a15row0_col4\" class=\"data row0 col4\" >1</td>\n",
       "                        <td id=\"T_1737a32e_9fea_11ea_9d96_b54f3cef8a15row0_col5\" class=\"data row0 col5\" >1</td>\n",
       "                        <td id=\"T_1737a32e_9fea_11ea_9d96_b54f3cef8a15row0_col6\" class=\"data row0 col6\" >1</td>\n",
       "                        <td id=\"T_1737a32e_9fea_11ea_9d96_b54f3cef8a15row0_col7\" class=\"data row0 col7\" >1</td>\n",
       "            </tr>\n",
       "    </tbody></table>"
      ],
      "text/plain": [
       "<pandas.io.formats.style.Styler at 0x7fb4474c9410>"
      ]
     },
     "execution_count": 11,
     "metadata": {},
     "output_type": "execute_result"
    }
   ],
   "source": [
    "msm.info(molecular_system_solvated)"
   ]
  },
  {
   "cell_type": "code",
   "execution_count": 12,
   "metadata": {},
   "outputs": [
    {
     "name": "stdout",
     "output_type": "stream",
     "text": [
      "The molecular system has 0 waters and 0 ions.\n"
     ]
    }
   ],
   "source": [
    "n_waters, n_ions = msm.get(molecular_system_solvated, target='system',\n",
    "                           n_waters=True, n_ions=True)\n",
    "print('The molecular system has {} waters and {} ions.'.format(n_waters, n_ions))"
   ]
  },
  {
   "cell_type": "markdown",
   "metadata": {},
   "source": [
    "## Octahedral"
   ]
  },
  {
   "cell_type": "code",
   "execution_count": 13,
   "metadata": {},
   "outputs": [],
   "source": [
    "pdbfile = msm.test_systems.files['1tcd.pdb']"
   ]
  },
  {
   "cell_type": "code",
   "execution_count": 14,
   "metadata": {},
   "outputs": [],
   "source": [
    "molecular_system = msm.convert(pdbfile)"
   ]
  },
  {
   "cell_type": "code",
   "execution_count": 15,
   "metadata": {},
   "outputs": [
    {
     "data": {
      "text/html": [
       "<style  type=\"text/css\" >\n",
       "</style><table id=\"T_1e590ca6_9fea_11ea_9d96_b54f3cef8a15\" ><thead>    <tr>        <th class=\"col_heading level0 col0\" >form</th>        <th class=\"col_heading level0 col1\" >n atoms</th>        <th class=\"col_heading level0 col2\" >n groups</th>        <th class=\"col_heading level0 col3\" >n components</th>        <th class=\"col_heading level0 col4\" >n chains</th>        <th class=\"col_heading level0 col5\" >n molecules</th>        <th class=\"col_heading level0 col6\" >n entities</th>        <th class=\"col_heading level0 col7\" >n frames</th>    </tr></thead><tbody>\n",
       "                <tr>\n",
       "                                <td id=\"T_1e590ca6_9fea_11ea_9d96_b54f3cef8a15row0_col0\" class=\"data row0 col0\" >molsysmt.MolSys</td>\n",
       "                        <td id=\"T_1e590ca6_9fea_11ea_9d96_b54f3cef8a15row0_col1\" class=\"data row0 col1\" >3983</td>\n",
       "                        <td id=\"T_1e590ca6_9fea_11ea_9d96_b54f3cef8a15row0_col2\" class=\"data row0 col2\" >662</td>\n",
       "                        <td id=\"T_1e590ca6_9fea_11ea_9d96_b54f3cef8a15row0_col3\" class=\"data row0 col3\" >167</td>\n",
       "                        <td id=\"T_1e590ca6_9fea_11ea_9d96_b54f3cef8a15row0_col4\" class=\"data row0 col4\" >4</td>\n",
       "                        <td id=\"T_1e590ca6_9fea_11ea_9d96_b54f3cef8a15row0_col5\" class=\"data row0 col5\" >1</td>\n",
       "                        <td id=\"T_1e590ca6_9fea_11ea_9d96_b54f3cef8a15row0_col6\" class=\"data row0 col6\" >1</td>\n",
       "                        <td id=\"T_1e590ca6_9fea_11ea_9d96_b54f3cef8a15row0_col7\" class=\"data row0 col7\" >1</td>\n",
       "            </tr>\n",
       "    </tbody></table>"
      ],
      "text/plain": [
       "<pandas.io.formats.style.Styler at 0x7fb44732ce50>"
      ]
     },
     "execution_count": 15,
     "metadata": {},
     "output_type": "execute_result"
    }
   ],
   "source": [
    "msm.info(molecular_system)"
   ]
  },
  {
   "cell_type": "code",
   "execution_count": 16,
   "metadata": {},
   "outputs": [
    {
     "name": "stdout",
     "output_type": "stream",
     "text": [
      "The molecular system has 0 waters and 0 ions.\n"
     ]
    }
   ],
   "source": [
    "n_waters, n_ions = msm.get(molecular_system, target='system',\n",
    "                           n_waters=True, n_ions=True)\n",
    "print('The molecular system has {} waters and {} ions.'.format(n_waters, n_ions))"
   ]
  },
  {
   "cell_type": "code",
   "execution_count": 18,
   "metadata": {},
   "outputs": [
    {
     "name": "stdout",
     "output_type": "stream",
     "text": [
      "0\n"
     ]
    }
   ],
   "source": [
    "n_Hs = msm.get(molecular_system, selection='atom.type==\"H\"', n_atoms=True)\n",
    "print(n_Hs)"
   ]
  },
  {
   "cell_type": "code",
   "execution_count": 19,
   "metadata": {},
   "outputs": [],
   "source": [
    "molecular_system_solvated = msm.solvate(molecular_system, box_geometry='cubic',\n",
    "                                        clearance=14.0*unit.angstroms, water='TIP3P',\n",
    "                                        verbose=False)"
   ]
  },
  {
   "cell_type": "code",
   "execution_count": 20,
   "metadata": {},
   "outputs": [
    {
     "data": {
      "text/html": [
       "<style  type=\"text/css\" >\n",
       "</style><table id=\"T_30efb856_9fea_11ea_9d96_b54f3cef8a15\" ><thead>    <tr>        <th class=\"col_heading level0 col0\" >form</th>        <th class=\"col_heading level0 col1\" >n atoms</th>        <th class=\"col_heading level0 col2\" >n groups</th>        <th class=\"col_heading level0 col3\" >n components</th>        <th class=\"col_heading level0 col4\" >n chains</th>        <th class=\"col_heading level0 col5\" >n molecules</th>        <th class=\"col_heading level0 col6\" >n entities</th>        <th class=\"col_heading level0 col7\" >n frames</th>    </tr></thead><tbody>\n",
       "                <tr>\n",
       "                                <td id=\"T_30efb856_9fea_11ea_9d96_b54f3cef8a15row0_col0\" class=\"data row0 col0\" >molsysmt.MolSys</td>\n",
       "                        <td id=\"T_30efb856_9fea_11ea_9d96_b54f3cef8a15row0_col1\" class=\"data row0 col1\" >125964</td>\n",
       "                        <td id=\"T_30efb856_9fea_11ea_9d96_b54f3cef8a15row0_col2\" class=\"data row0 col2\" >39920</td>\n",
       "                        <td id=\"T_30efb856_9fea_11ea_9d96_b54f3cef8a15row0_col3\" class=\"data row0 col3\" >39425</td>\n",
       "                        <td id=\"T_30efb856_9fea_11ea_9d96_b54f3cef8a15row0_col4\" class=\"data row0 col4\" >1</td>\n",
       "                        <td id=\"T_30efb856_9fea_11ea_9d96_b54f3cef8a15row0_col5\" class=\"data row0 col5\" >1</td>\n",
       "                        <td id=\"T_30efb856_9fea_11ea_9d96_b54f3cef8a15row0_col6\" class=\"data row0 col6\" >1</td>\n",
       "                        <td id=\"T_30efb856_9fea_11ea_9d96_b54f3cef8a15row0_col7\" class=\"data row0 col7\" >1</td>\n",
       "            </tr>\n",
       "    </tbody></table>"
      ],
      "text/plain": [
       "<pandas.io.formats.style.Styler at 0x7fb4476403d0>"
      ]
     },
     "execution_count": 20,
     "metadata": {},
     "output_type": "execute_result"
    }
   ],
   "source": [
    "msm.info(molecular_system_solvated)"
   ]
  },
  {
   "cell_type": "code",
   "execution_count": null,
   "metadata": {},
   "outputs": [],
   "source": []
  }
 ],
 "metadata": {
  "kernelspec": {
   "display_name": "Python 3",
   "language": "python",
   "name": "python3"
  },
  "language_info": {
   "codemirror_mode": {
    "name": "ipython",
    "version": 3
   },
   "file_extension": ".py",
   "mimetype": "text/x-python",
   "name": "python",
   "nbconvert_exporter": "python",
   "pygments_lexer": "ipython3",
   "version": "3.7.7"
  }
 },
 "nbformat": 4,
 "nbformat_minor": 4
}
