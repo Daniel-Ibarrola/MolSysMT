{
 "cells": [
  {
   "cell_type": "code",
   "execution_count": 1,
   "metadata": {},
   "outputs": [],
   "source": [
    "%load_ext autoreload\n",
    "%autoreload 2"
   ]
  },
  {
   "cell_type": "code",
   "execution_count": 2,
   "metadata": {},
   "outputs": [
    {
     "data": {
      "application/vnd.jupyter.widget-view+json": {
       "model_id": "c65d3461d1594dfeba25e34c77139325",
       "version_major": 2,
       "version_minor": 0
      },
      "text/plain": []
     },
     "metadata": {},
     "output_type": "display_data"
    }
   ],
   "source": [
    "import molsysmt as msm"
   ]
  },
  {
   "cell_type": "markdown",
   "metadata": {},
   "source": [
    "# Energy minimization"
   ]
  },
  {
   "cell_type": "markdown",
   "metadata": {},
   "source": [
    "## Some examples:"
   ]
  },
  {
   "cell_type": "code",
   "execution_count": 43,
   "metadata": {},
   "outputs": [],
   "source": [
    "molecular_system = msm.demo_systems.metenkephalin()"
   ]
  },
  {
   "cell_type": "code",
   "execution_count": 44,
   "metadata": {},
   "outputs": [
    {
     "data": {
      "text/html": [
       "<style  type=\"text/css\" >\n",
       "</style><table id=\"T_1cafe600_310c_11eb_8684_1c1b0d075c26\" ><thead>    <tr>        <th class=\"col_heading level0 col0\" >index</th>        <th class=\"col_heading level0 col1\" >id</th>        <th class=\"col_heading level0 col2\" >name</th>        <th class=\"col_heading level0 col3\" >type</th>        <th class=\"col_heading level0 col4\" >n atoms</th>        <th class=\"col_heading level0 col5\" >component index</th>        <th class=\"col_heading level0 col6\" >chain index</th>        <th class=\"col_heading level0 col7\" >molecule index</th>        <th class=\"col_heading level0 col8\" >molecule type</th>        <th class=\"col_heading level0 col9\" >entity index</th>        <th class=\"col_heading level0 col10\" >entity name</th>    </tr></thead><tbody>\n",
       "                <tr>\n",
       "                                <td id=\"T_1cafe600_310c_11eb_8684_1c1b0d075c26row0_col0\" class=\"data row0 col0\" >0</td>\n",
       "                        <td id=\"T_1cafe600_310c_11eb_8684_1c1b0d075c26row0_col1\" class=\"data row0 col1\" >1</td>\n",
       "                        <td id=\"T_1cafe600_310c_11eb_8684_1c1b0d075c26row0_col2\" class=\"data row0 col2\" >TYR</td>\n",
       "                        <td id=\"T_1cafe600_310c_11eb_8684_1c1b0d075c26row0_col3\" class=\"data row0 col3\" >aminoacid</td>\n",
       "                        <td id=\"T_1cafe600_310c_11eb_8684_1c1b0d075c26row0_col4\" class=\"data row0 col4\" >21</td>\n",
       "                        <td id=\"T_1cafe600_310c_11eb_8684_1c1b0d075c26row0_col5\" class=\"data row0 col5\" >0</td>\n",
       "                        <td id=\"T_1cafe600_310c_11eb_8684_1c1b0d075c26row0_col6\" class=\"data row0 col6\" >0</td>\n",
       "                        <td id=\"T_1cafe600_310c_11eb_8684_1c1b0d075c26row0_col7\" class=\"data row0 col7\" >0</td>\n",
       "                        <td id=\"T_1cafe600_310c_11eb_8684_1c1b0d075c26row0_col8\" class=\"data row0 col8\" >peptide</td>\n",
       "                        <td id=\"T_1cafe600_310c_11eb_8684_1c1b0d075c26row0_col9\" class=\"data row0 col9\" >0</td>\n",
       "                        <td id=\"T_1cafe600_310c_11eb_8684_1c1b0d075c26row0_col10\" class=\"data row0 col10\" >Peptide_0</td>\n",
       "            </tr>\n",
       "            <tr>\n",
       "                                <td id=\"T_1cafe600_310c_11eb_8684_1c1b0d075c26row1_col0\" class=\"data row1 col0\" >1</td>\n",
       "                        <td id=\"T_1cafe600_310c_11eb_8684_1c1b0d075c26row1_col1\" class=\"data row1 col1\" >2</td>\n",
       "                        <td id=\"T_1cafe600_310c_11eb_8684_1c1b0d075c26row1_col2\" class=\"data row1 col2\" >GLY</td>\n",
       "                        <td id=\"T_1cafe600_310c_11eb_8684_1c1b0d075c26row1_col3\" class=\"data row1 col3\" >aminoacid</td>\n",
       "                        <td id=\"T_1cafe600_310c_11eb_8684_1c1b0d075c26row1_col4\" class=\"data row1 col4\" >7</td>\n",
       "                        <td id=\"T_1cafe600_310c_11eb_8684_1c1b0d075c26row1_col5\" class=\"data row1 col5\" >0</td>\n",
       "                        <td id=\"T_1cafe600_310c_11eb_8684_1c1b0d075c26row1_col6\" class=\"data row1 col6\" >0</td>\n",
       "                        <td id=\"T_1cafe600_310c_11eb_8684_1c1b0d075c26row1_col7\" class=\"data row1 col7\" >0</td>\n",
       "                        <td id=\"T_1cafe600_310c_11eb_8684_1c1b0d075c26row1_col8\" class=\"data row1 col8\" >peptide</td>\n",
       "                        <td id=\"T_1cafe600_310c_11eb_8684_1c1b0d075c26row1_col9\" class=\"data row1 col9\" >0</td>\n",
       "                        <td id=\"T_1cafe600_310c_11eb_8684_1c1b0d075c26row1_col10\" class=\"data row1 col10\" >Peptide_0</td>\n",
       "            </tr>\n",
       "            <tr>\n",
       "                                <td id=\"T_1cafe600_310c_11eb_8684_1c1b0d075c26row2_col0\" class=\"data row2 col0\" >2</td>\n",
       "                        <td id=\"T_1cafe600_310c_11eb_8684_1c1b0d075c26row2_col1\" class=\"data row2 col1\" >3</td>\n",
       "                        <td id=\"T_1cafe600_310c_11eb_8684_1c1b0d075c26row2_col2\" class=\"data row2 col2\" >GLY</td>\n",
       "                        <td id=\"T_1cafe600_310c_11eb_8684_1c1b0d075c26row2_col3\" class=\"data row2 col3\" >aminoacid</td>\n",
       "                        <td id=\"T_1cafe600_310c_11eb_8684_1c1b0d075c26row2_col4\" class=\"data row2 col4\" >7</td>\n",
       "                        <td id=\"T_1cafe600_310c_11eb_8684_1c1b0d075c26row2_col5\" class=\"data row2 col5\" >0</td>\n",
       "                        <td id=\"T_1cafe600_310c_11eb_8684_1c1b0d075c26row2_col6\" class=\"data row2 col6\" >0</td>\n",
       "                        <td id=\"T_1cafe600_310c_11eb_8684_1c1b0d075c26row2_col7\" class=\"data row2 col7\" >0</td>\n",
       "                        <td id=\"T_1cafe600_310c_11eb_8684_1c1b0d075c26row2_col8\" class=\"data row2 col8\" >peptide</td>\n",
       "                        <td id=\"T_1cafe600_310c_11eb_8684_1c1b0d075c26row2_col9\" class=\"data row2 col9\" >0</td>\n",
       "                        <td id=\"T_1cafe600_310c_11eb_8684_1c1b0d075c26row2_col10\" class=\"data row2 col10\" >Peptide_0</td>\n",
       "            </tr>\n",
       "            <tr>\n",
       "                                <td id=\"T_1cafe600_310c_11eb_8684_1c1b0d075c26row3_col0\" class=\"data row3 col0\" >3</td>\n",
       "                        <td id=\"T_1cafe600_310c_11eb_8684_1c1b0d075c26row3_col1\" class=\"data row3 col1\" >4</td>\n",
       "                        <td id=\"T_1cafe600_310c_11eb_8684_1c1b0d075c26row3_col2\" class=\"data row3 col2\" >PHE</td>\n",
       "                        <td id=\"T_1cafe600_310c_11eb_8684_1c1b0d075c26row3_col3\" class=\"data row3 col3\" >aminoacid</td>\n",
       "                        <td id=\"T_1cafe600_310c_11eb_8684_1c1b0d075c26row3_col4\" class=\"data row3 col4\" >20</td>\n",
       "                        <td id=\"T_1cafe600_310c_11eb_8684_1c1b0d075c26row3_col5\" class=\"data row3 col5\" >0</td>\n",
       "                        <td id=\"T_1cafe600_310c_11eb_8684_1c1b0d075c26row3_col6\" class=\"data row3 col6\" >0</td>\n",
       "                        <td id=\"T_1cafe600_310c_11eb_8684_1c1b0d075c26row3_col7\" class=\"data row3 col7\" >0</td>\n",
       "                        <td id=\"T_1cafe600_310c_11eb_8684_1c1b0d075c26row3_col8\" class=\"data row3 col8\" >peptide</td>\n",
       "                        <td id=\"T_1cafe600_310c_11eb_8684_1c1b0d075c26row3_col9\" class=\"data row3 col9\" >0</td>\n",
       "                        <td id=\"T_1cafe600_310c_11eb_8684_1c1b0d075c26row3_col10\" class=\"data row3 col10\" >Peptide_0</td>\n",
       "            </tr>\n",
       "            <tr>\n",
       "                                <td id=\"T_1cafe600_310c_11eb_8684_1c1b0d075c26row4_col0\" class=\"data row4 col0\" >4</td>\n",
       "                        <td id=\"T_1cafe600_310c_11eb_8684_1c1b0d075c26row4_col1\" class=\"data row4 col1\" >5</td>\n",
       "                        <td id=\"T_1cafe600_310c_11eb_8684_1c1b0d075c26row4_col2\" class=\"data row4 col2\" >MET</td>\n",
       "                        <td id=\"T_1cafe600_310c_11eb_8684_1c1b0d075c26row4_col3\" class=\"data row4 col3\" >aminoacid</td>\n",
       "                        <td id=\"T_1cafe600_310c_11eb_8684_1c1b0d075c26row4_col4\" class=\"data row4 col4\" >17</td>\n",
       "                        <td id=\"T_1cafe600_310c_11eb_8684_1c1b0d075c26row4_col5\" class=\"data row4 col5\" >0</td>\n",
       "                        <td id=\"T_1cafe600_310c_11eb_8684_1c1b0d075c26row4_col6\" class=\"data row4 col6\" >0</td>\n",
       "                        <td id=\"T_1cafe600_310c_11eb_8684_1c1b0d075c26row4_col7\" class=\"data row4 col7\" >0</td>\n",
       "                        <td id=\"T_1cafe600_310c_11eb_8684_1c1b0d075c26row4_col8\" class=\"data row4 col8\" >peptide</td>\n",
       "                        <td id=\"T_1cafe600_310c_11eb_8684_1c1b0d075c26row4_col9\" class=\"data row4 col9\" >0</td>\n",
       "                        <td id=\"T_1cafe600_310c_11eb_8684_1c1b0d075c26row4_col10\" class=\"data row4 col10\" >Peptide_0</td>\n",
       "            </tr>\n",
       "    </tbody></table>"
      ],
      "text/plain": [
       "<pandas.io.formats.style.Styler at 0x7febeecd1c50>"
      ]
     },
     "execution_count": 44,
     "metadata": {},
     "output_type": "execute_result"
    }
   ],
   "source": [
    "msm.info(molecular_system, target='group')"
   ]
  },
  {
   "cell_type": "code",
   "execution_count": 45,
   "metadata": {},
   "outputs": [],
   "source": [
    "molecular_system = msm.add_terminal_capping(molecular_system, N_terminal=None, C_terminal=None)"
   ]
  },
  {
   "cell_type": "code",
   "execution_count": 46,
   "metadata": {},
   "outputs": [
    {
     "data": {
      "text/html": [
       "<style  type=\"text/css\" >\n",
       "</style><table id=\"T_2f36e210_310c_11eb_8684_1c1b0d075c26\" ><thead>    <tr>        <th class=\"col_heading level0 col0\" >index</th>        <th class=\"col_heading level0 col1\" >id</th>        <th class=\"col_heading level0 col2\" >name</th>        <th class=\"col_heading level0 col3\" >type</th>        <th class=\"col_heading level0 col4\" >n atoms</th>        <th class=\"col_heading level0 col5\" >component index</th>        <th class=\"col_heading level0 col6\" >chain index</th>        <th class=\"col_heading level0 col7\" >molecule index</th>        <th class=\"col_heading level0 col8\" >molecule type</th>        <th class=\"col_heading level0 col9\" >entity index</th>        <th class=\"col_heading level0 col10\" >entity name</th>    </tr></thead><tbody>\n",
       "                <tr>\n",
       "                                <td id=\"T_2f36e210_310c_11eb_8684_1c1b0d075c26row0_col0\" class=\"data row0 col0\" >0</td>\n",
       "                        <td id=\"T_2f36e210_310c_11eb_8684_1c1b0d075c26row0_col1\" class=\"data row0 col1\" >1</td>\n",
       "                        <td id=\"T_2f36e210_310c_11eb_8684_1c1b0d075c26row0_col2\" class=\"data row0 col2\" >TYR</td>\n",
       "                        <td id=\"T_2f36e210_310c_11eb_8684_1c1b0d075c26row0_col3\" class=\"data row0 col3\" >aminoacid</td>\n",
       "                        <td id=\"T_2f36e210_310c_11eb_8684_1c1b0d075c26row0_col4\" class=\"data row0 col4\" >23</td>\n",
       "                        <td id=\"T_2f36e210_310c_11eb_8684_1c1b0d075c26row0_col5\" class=\"data row0 col5\" >0</td>\n",
       "                        <td id=\"T_2f36e210_310c_11eb_8684_1c1b0d075c26row0_col6\" class=\"data row0 col6\" >0</td>\n",
       "                        <td id=\"T_2f36e210_310c_11eb_8684_1c1b0d075c26row0_col7\" class=\"data row0 col7\" >0</td>\n",
       "                        <td id=\"T_2f36e210_310c_11eb_8684_1c1b0d075c26row0_col8\" class=\"data row0 col8\" >peptide</td>\n",
       "                        <td id=\"T_2f36e210_310c_11eb_8684_1c1b0d075c26row0_col9\" class=\"data row0 col9\" >0</td>\n",
       "                        <td id=\"T_2f36e210_310c_11eb_8684_1c1b0d075c26row0_col10\" class=\"data row0 col10\" >Peptide_0</td>\n",
       "            </tr>\n",
       "            <tr>\n",
       "                                <td id=\"T_2f36e210_310c_11eb_8684_1c1b0d075c26row1_col0\" class=\"data row1 col0\" >1</td>\n",
       "                        <td id=\"T_2f36e210_310c_11eb_8684_1c1b0d075c26row1_col1\" class=\"data row1 col1\" >2</td>\n",
       "                        <td id=\"T_2f36e210_310c_11eb_8684_1c1b0d075c26row1_col2\" class=\"data row1 col2\" >GLY</td>\n",
       "                        <td id=\"T_2f36e210_310c_11eb_8684_1c1b0d075c26row1_col3\" class=\"data row1 col3\" >aminoacid</td>\n",
       "                        <td id=\"T_2f36e210_310c_11eb_8684_1c1b0d075c26row1_col4\" class=\"data row1 col4\" >7</td>\n",
       "                        <td id=\"T_2f36e210_310c_11eb_8684_1c1b0d075c26row1_col5\" class=\"data row1 col5\" >0</td>\n",
       "                        <td id=\"T_2f36e210_310c_11eb_8684_1c1b0d075c26row1_col6\" class=\"data row1 col6\" >0</td>\n",
       "                        <td id=\"T_2f36e210_310c_11eb_8684_1c1b0d075c26row1_col7\" class=\"data row1 col7\" >0</td>\n",
       "                        <td id=\"T_2f36e210_310c_11eb_8684_1c1b0d075c26row1_col8\" class=\"data row1 col8\" >peptide</td>\n",
       "                        <td id=\"T_2f36e210_310c_11eb_8684_1c1b0d075c26row1_col9\" class=\"data row1 col9\" >0</td>\n",
       "                        <td id=\"T_2f36e210_310c_11eb_8684_1c1b0d075c26row1_col10\" class=\"data row1 col10\" >Peptide_0</td>\n",
       "            </tr>\n",
       "            <tr>\n",
       "                                <td id=\"T_2f36e210_310c_11eb_8684_1c1b0d075c26row2_col0\" class=\"data row2 col0\" >2</td>\n",
       "                        <td id=\"T_2f36e210_310c_11eb_8684_1c1b0d075c26row2_col1\" class=\"data row2 col1\" >3</td>\n",
       "                        <td id=\"T_2f36e210_310c_11eb_8684_1c1b0d075c26row2_col2\" class=\"data row2 col2\" >GLY</td>\n",
       "                        <td id=\"T_2f36e210_310c_11eb_8684_1c1b0d075c26row2_col3\" class=\"data row2 col3\" >aminoacid</td>\n",
       "                        <td id=\"T_2f36e210_310c_11eb_8684_1c1b0d075c26row2_col4\" class=\"data row2 col4\" >7</td>\n",
       "                        <td id=\"T_2f36e210_310c_11eb_8684_1c1b0d075c26row2_col5\" class=\"data row2 col5\" >0</td>\n",
       "                        <td id=\"T_2f36e210_310c_11eb_8684_1c1b0d075c26row2_col6\" class=\"data row2 col6\" >0</td>\n",
       "                        <td id=\"T_2f36e210_310c_11eb_8684_1c1b0d075c26row2_col7\" class=\"data row2 col7\" >0</td>\n",
       "                        <td id=\"T_2f36e210_310c_11eb_8684_1c1b0d075c26row2_col8\" class=\"data row2 col8\" >peptide</td>\n",
       "                        <td id=\"T_2f36e210_310c_11eb_8684_1c1b0d075c26row2_col9\" class=\"data row2 col9\" >0</td>\n",
       "                        <td id=\"T_2f36e210_310c_11eb_8684_1c1b0d075c26row2_col10\" class=\"data row2 col10\" >Peptide_0</td>\n",
       "            </tr>\n",
       "            <tr>\n",
       "                                <td id=\"T_2f36e210_310c_11eb_8684_1c1b0d075c26row3_col0\" class=\"data row3 col0\" >3</td>\n",
       "                        <td id=\"T_2f36e210_310c_11eb_8684_1c1b0d075c26row3_col1\" class=\"data row3 col1\" >4</td>\n",
       "                        <td id=\"T_2f36e210_310c_11eb_8684_1c1b0d075c26row3_col2\" class=\"data row3 col2\" >PHE</td>\n",
       "                        <td id=\"T_2f36e210_310c_11eb_8684_1c1b0d075c26row3_col3\" class=\"data row3 col3\" >aminoacid</td>\n",
       "                        <td id=\"T_2f36e210_310c_11eb_8684_1c1b0d075c26row3_col4\" class=\"data row3 col4\" >20</td>\n",
       "                        <td id=\"T_2f36e210_310c_11eb_8684_1c1b0d075c26row3_col5\" class=\"data row3 col5\" >0</td>\n",
       "                        <td id=\"T_2f36e210_310c_11eb_8684_1c1b0d075c26row3_col6\" class=\"data row3 col6\" >0</td>\n",
       "                        <td id=\"T_2f36e210_310c_11eb_8684_1c1b0d075c26row3_col7\" class=\"data row3 col7\" >0</td>\n",
       "                        <td id=\"T_2f36e210_310c_11eb_8684_1c1b0d075c26row3_col8\" class=\"data row3 col8\" >peptide</td>\n",
       "                        <td id=\"T_2f36e210_310c_11eb_8684_1c1b0d075c26row3_col9\" class=\"data row3 col9\" >0</td>\n",
       "                        <td id=\"T_2f36e210_310c_11eb_8684_1c1b0d075c26row3_col10\" class=\"data row3 col10\" >Peptide_0</td>\n",
       "            </tr>\n",
       "            <tr>\n",
       "                                <td id=\"T_2f36e210_310c_11eb_8684_1c1b0d075c26row4_col0\" class=\"data row4 col0\" >4</td>\n",
       "                        <td id=\"T_2f36e210_310c_11eb_8684_1c1b0d075c26row4_col1\" class=\"data row4 col1\" >5</td>\n",
       "                        <td id=\"T_2f36e210_310c_11eb_8684_1c1b0d075c26row4_col2\" class=\"data row4 col2\" >MET</td>\n",
       "                        <td id=\"T_2f36e210_310c_11eb_8684_1c1b0d075c26row4_col3\" class=\"data row4 col3\" >aminoacid</td>\n",
       "                        <td id=\"T_2f36e210_310c_11eb_8684_1c1b0d075c26row4_col4\" class=\"data row4 col4\" >18</td>\n",
       "                        <td id=\"T_2f36e210_310c_11eb_8684_1c1b0d075c26row4_col5\" class=\"data row4 col5\" >0</td>\n",
       "                        <td id=\"T_2f36e210_310c_11eb_8684_1c1b0d075c26row4_col6\" class=\"data row4 col6\" >0</td>\n",
       "                        <td id=\"T_2f36e210_310c_11eb_8684_1c1b0d075c26row4_col7\" class=\"data row4 col7\" >0</td>\n",
       "                        <td id=\"T_2f36e210_310c_11eb_8684_1c1b0d075c26row4_col8\" class=\"data row4 col8\" >peptide</td>\n",
       "                        <td id=\"T_2f36e210_310c_11eb_8684_1c1b0d075c26row4_col9\" class=\"data row4 col9\" >0</td>\n",
       "                        <td id=\"T_2f36e210_310c_11eb_8684_1c1b0d075c26row4_col10\" class=\"data row4 col10\" >Peptide_0</td>\n",
       "            </tr>\n",
       "    </tbody></table>"
      ],
      "text/plain": [
       "<pandas.io.formats.style.Styler at 0x7febeeb34f90>"
      ]
     },
     "execution_count": 46,
     "metadata": {},
     "output_type": "execute_result"
    }
   ],
   "source": [
    "msm.info(molecular_system, target='group')"
   ]
  },
  {
   "cell_type": "code",
   "execution_count": 39,
   "metadata": {},
   "outputs": [
    {
     "data": {
      "text/html": [
       "<style  type=\"text/css\" >\n",
       "</style><table id=\"T_f4a01518_310b_11eb_8684_1c1b0d075c26\" ><thead>    <tr>        <th class=\"col_heading level0 col0\" >form</th>        <th class=\"col_heading level0 col1\" >n_atoms</th>        <th class=\"col_heading level0 col2\" >n_groups</th>        <th class=\"col_heading level0 col3\" >n_components</th>        <th class=\"col_heading level0 col4\" >n_chains</th>        <th class=\"col_heading level0 col5\" >n_molecules</th>        <th class=\"col_heading level0 col6\" >n_entities</th>        <th class=\"col_heading level0 col7\" >n_peptides</th>        <th class=\"col_heading level0 col8\" >n_frames</th>    </tr></thead><tbody>\n",
       "                <tr>\n",
       "                                <td id=\"T_f4a01518_310b_11eb_8684_1c1b0d075c26row0_col0\" class=\"data row0 col0\" >molsysmt.MolSys</td>\n",
       "                        <td id=\"T_f4a01518_310b_11eb_8684_1c1b0d075c26row0_col1\" class=\"data row0 col1\" >84</td>\n",
       "                        <td id=\"T_f4a01518_310b_11eb_8684_1c1b0d075c26row0_col2\" class=\"data row0 col2\" >7</td>\n",
       "                        <td id=\"T_f4a01518_310b_11eb_8684_1c1b0d075c26row0_col3\" class=\"data row0 col3\" >1</td>\n",
       "                        <td id=\"T_f4a01518_310b_11eb_8684_1c1b0d075c26row0_col4\" class=\"data row0 col4\" >1</td>\n",
       "                        <td id=\"T_f4a01518_310b_11eb_8684_1c1b0d075c26row0_col5\" class=\"data row0 col5\" >1</td>\n",
       "                        <td id=\"T_f4a01518_310b_11eb_8684_1c1b0d075c26row0_col6\" class=\"data row0 col6\" >1</td>\n",
       "                        <td id=\"T_f4a01518_310b_11eb_8684_1c1b0d075c26row0_col7\" class=\"data row0 col7\" >1</td>\n",
       "                        <td id=\"T_f4a01518_310b_11eb_8684_1c1b0d075c26row0_col8\" class=\"data row0 col8\" >1</td>\n",
       "            </tr>\n",
       "    </tbody></table>"
      ],
      "text/plain": [
       "<pandas.io.formats.style.Styler at 0x7febefb54450>"
      ]
     },
     "execution_count": 39,
     "metadata": {},
     "output_type": "execute_result"
    }
   ],
   "source": [
    "msm.info(molecular_system)"
   ]
  },
  {
   "cell_type": "code",
   "execution_count": 40,
   "metadata": {},
   "outputs": [
    {
     "ename": "ValueError",
     "evalue": "in method NonbondedForce_setCutoffDistance, argument 2 could not be converted to type double",
     "output_type": "error",
     "traceback": [
      "\u001b[0;31m---------------------------------------------------------------------------\u001b[0m",
      "\u001b[0;31mValueError\u001b[0m                                Traceback (most recent call last)",
      "\u001b[0;32m<ipython-input-40-ac8d1e8736b6>\u001b[0m in \u001b[0;36m<module>\u001b[0;34m\u001b[0m\n\u001b[0;32m----> 1\u001b[0;31m \u001b[0maa\u001b[0m\u001b[0;34m=\u001b[0m\u001b[0mmsm\u001b[0m\u001b[0;34m.\u001b[0m\u001b[0mconvert\u001b[0m\u001b[0;34m(\u001b[0m\u001b[0mmolecular_system\u001b[0m\u001b[0;34m,\u001b[0m \u001b[0mto_form\u001b[0m\u001b[0;34m=\u001b[0m\u001b[0;34m'openmm.System'\u001b[0m\u001b[0;34m,\u001b[0m \u001b[0mforcefield\u001b[0m\u001b[0;34m=\u001b[0m\u001b[0;34m[\u001b[0m\u001b[0;34m'AMBER99SB-ILDN'\u001b[0m\u001b[0;34m]\u001b[0m\u001b[0;34m)\u001b[0m\u001b[0;34m\u001b[0m\u001b[0;34m\u001b[0m\u001b[0m\n\u001b[0m",
      "\u001b[0;32m~/Projects/MolSysMT/molsysmt/multitool.py\u001b[0m in \u001b[0;36mconvert\u001b[0;34m(item, to_form, selection, frame_indices, syntaxis, **kwargs)\u001b[0m\n\u001b[1;32m   1168\u001b[0m                 \u001b[0;32mif\u001b[0m \u001b[0mform_in\u001b[0m\u001b[0;34m!=\u001b[0m\u001b[0mform_out\u001b[0m\u001b[0;34m:\u001b[0m\u001b[0;34m\u001b[0m\u001b[0;34m\u001b[0m\u001b[0m\n\u001b[1;32m   1169\u001b[0m                     tmp_item = dict_converter[form_in][form_out](item, atom_indices=atom_indices,\n\u001b[0;32m-> 1170\u001b[0;31m                                                                   frame_indices=frame_indices, **kwargs)\n\u001b[0m\u001b[1;32m   1171\u001b[0m                 \u001b[0;32melif\u001b[0m \u001b[0msame_system\u001b[0m\u001b[0;34m:\u001b[0m\u001b[0;34m\u001b[0m\u001b[0;34m\u001b[0m\u001b[0m\n\u001b[1;32m   1172\u001b[0m                     \u001b[0mtmp_item\u001b[0m \u001b[0;34m=\u001b[0m \u001b[0mcopy\u001b[0m\u001b[0;34m(\u001b[0m\u001b[0mitem\u001b[0m\u001b[0;34m)\u001b[0m\u001b[0;34m\u001b[0m\u001b[0;34m\u001b[0m\u001b[0m\n",
      "\u001b[0;32m~/Projects/MolSysMT/molsysmt/forms/classes/api_molsysmt_MolSys.py\u001b[0m in \u001b[0;36mto_openmm_System\u001b[0;34m(item, trajectory_item, atom_indices, frame_indices, forcefield, non_bonded_method, non_bonded_cutoff, constraints, rigid_water, remove_cm_motion, hydrogen_mass, switch_distance, flexible_constraints, **kwargs)\u001b[0m\n\u001b[1;32m    106\u001b[0m     \u001b[0mforcefield_generator\u001b[0m \u001b[0;34m=\u001b[0m \u001b[0mForceField\u001b[0m\u001b[0;34m(\u001b[0m\u001b[0;34m*\u001b[0m\u001b[0mforcefield_omm_parameters\u001b[0m\u001b[0;34m)\u001b[0m\u001b[0;34m\u001b[0m\u001b[0;34m\u001b[0m\u001b[0m\n\u001b[1;32m    107\u001b[0m \u001b[0;34m\u001b[0m\u001b[0m\n\u001b[0;32m--> 108\u001b[0;31m     \u001b[0mtmp_item\u001b[0m \u001b[0;34m=\u001b[0m \u001b[0mforcefield_generator\u001b[0m\u001b[0;34m.\u001b[0m\u001b[0mcreateSystem\u001b[0m\u001b[0;34m(\u001b[0m\u001b[0mopenmm_Topology\u001b[0m\u001b[0;34m,\u001b[0m \u001b[0;34m**\u001b[0m\u001b[0msystem_omm_parameters\u001b[0m\u001b[0;34m)\u001b[0m\u001b[0;34m\u001b[0m\u001b[0;34m\u001b[0m\u001b[0m\n\u001b[0m\u001b[1;32m    109\u001b[0m \u001b[0;34m\u001b[0m\u001b[0m\n\u001b[1;32m    110\u001b[0m     \u001b[0;32mreturn\u001b[0m \u001b[0mtmp_item\u001b[0m\u001b[0;34m\u001b[0m\u001b[0;34m\u001b[0m\u001b[0m\n",
      "\u001b[0;32m~/Myopt/miniconda3/envs/UIBCDF_lab_dev/lib/python3.7/site-packages/simtk/openmm/app/forcefield.py\u001b[0m in \u001b[0;36mcreateSystem\u001b[0;34m(self, topology, nonbondedMethod, nonbondedCutoff, constraints, rigidWater, removeCMMotion, hydrogenMass, residueTemplates, ignoreExternalBonds, switchDistance, flexibleConstraints, **args)\u001b[0m\n\u001b[1;32m   1319\u001b[0m \u001b[0;34m\u001b[0m\u001b[0m\n\u001b[1;32m   1320\u001b[0m         \u001b[0;32mfor\u001b[0m \u001b[0mforce\u001b[0m \u001b[0;32min\u001b[0m \u001b[0mself\u001b[0m\u001b[0;34m.\u001b[0m\u001b[0m_forces\u001b[0m\u001b[0;34m:\u001b[0m\u001b[0;34m\u001b[0m\u001b[0;34m\u001b[0m\u001b[0m\n\u001b[0;32m-> 1321\u001b[0;31m             \u001b[0mforce\u001b[0m\u001b[0;34m.\u001b[0m\u001b[0mcreateForce\u001b[0m\u001b[0;34m(\u001b[0m\u001b[0msys\u001b[0m\u001b[0;34m,\u001b[0m \u001b[0mdata\u001b[0m\u001b[0;34m,\u001b[0m \u001b[0mnonbondedMethod\u001b[0m\u001b[0;34m,\u001b[0m \u001b[0mnonbondedCutoff\u001b[0m\u001b[0;34m,\u001b[0m \u001b[0margs\u001b[0m\u001b[0;34m)\u001b[0m\u001b[0;34m\u001b[0m\u001b[0;34m\u001b[0m\u001b[0m\n\u001b[0m\u001b[1;32m   1322\u001b[0m         \u001b[0;32mif\u001b[0m \u001b[0mremoveCMMotion\u001b[0m\u001b[0;34m:\u001b[0m\u001b[0;34m\u001b[0m\u001b[0;34m\u001b[0m\u001b[0m\n\u001b[1;32m   1323\u001b[0m             \u001b[0msys\u001b[0m\u001b[0;34m.\u001b[0m\u001b[0maddForce\u001b[0m\u001b[0;34m(\u001b[0m\u001b[0mmm\u001b[0m\u001b[0;34m.\u001b[0m\u001b[0mCMMotionRemover\u001b[0m\u001b[0;34m(\u001b[0m\u001b[0;34m)\u001b[0m\u001b[0;34m)\u001b[0m\u001b[0;34m\u001b[0m\u001b[0;34m\u001b[0m\u001b[0m\n",
      "\u001b[0;32m~/Myopt/miniconda3/envs/UIBCDF_lab_dev/lib/python3.7/site-packages/simtk/openmm/app/forcefield.py\u001b[0m in \u001b[0;36mcreateForce\u001b[0;34m(self, sys, data, nonbondedMethod, nonbondedCutoff, args)\u001b[0m\n\u001b[1;32m   2374\u001b[0m             \u001b[0mforce\u001b[0m\u001b[0;34m.\u001b[0m\u001b[0maddParticle\u001b[0m\u001b[0;34m(\u001b[0m\u001b[0mvalues\u001b[0m\u001b[0;34m[\u001b[0m\u001b[0;36m0\u001b[0m\u001b[0;34m]\u001b[0m\u001b[0;34m,\u001b[0m \u001b[0mvalues\u001b[0m\u001b[0;34m[\u001b[0m\u001b[0;36m1\u001b[0m\u001b[0;34m]\u001b[0m\u001b[0;34m,\u001b[0m \u001b[0mvalues\u001b[0m\u001b[0;34m[\u001b[0m\u001b[0;36m2\u001b[0m\u001b[0;34m]\u001b[0m\u001b[0;34m)\u001b[0m\u001b[0;34m\u001b[0m\u001b[0;34m\u001b[0m\u001b[0m\n\u001b[1;32m   2375\u001b[0m         \u001b[0mforce\u001b[0m\u001b[0;34m.\u001b[0m\u001b[0msetNonbondedMethod\u001b[0m\u001b[0;34m(\u001b[0m\u001b[0mmethodMap\u001b[0m\u001b[0;34m[\u001b[0m\u001b[0mnonbondedMethod\u001b[0m\u001b[0;34m]\u001b[0m\u001b[0;34m)\u001b[0m\u001b[0;34m\u001b[0m\u001b[0;34m\u001b[0m\u001b[0m\n\u001b[0;32m-> 2376\u001b[0;31m         \u001b[0mforce\u001b[0m\u001b[0;34m.\u001b[0m\u001b[0msetCutoffDistance\u001b[0m\u001b[0;34m(\u001b[0m\u001b[0mnonbondedCutoff\u001b[0m\u001b[0;34m)\u001b[0m\u001b[0;34m\u001b[0m\u001b[0;34m\u001b[0m\u001b[0m\n\u001b[0m\u001b[1;32m   2377\u001b[0m         \u001b[0;32mif\u001b[0m \u001b[0margs\u001b[0m\u001b[0;34m[\u001b[0m\u001b[0;34m'switchDistance'\u001b[0m\u001b[0;34m]\u001b[0m \u001b[0;32mis\u001b[0m \u001b[0;32mnot\u001b[0m \u001b[0;32mNone\u001b[0m\u001b[0;34m:\u001b[0m\u001b[0;34m\u001b[0m\u001b[0;34m\u001b[0m\u001b[0m\n\u001b[1;32m   2378\u001b[0m             \u001b[0mforce\u001b[0m\u001b[0;34m.\u001b[0m\u001b[0msetUseSwitchingFunction\u001b[0m\u001b[0;34m(\u001b[0m\u001b[0;32mTrue\u001b[0m\u001b[0;34m)\u001b[0m\u001b[0;34m\u001b[0m\u001b[0;34m\u001b[0m\u001b[0m\n",
      "\u001b[0;32m~/Myopt/miniconda3/envs/UIBCDF_lab_dev/lib/python3.7/site-packages/simtk/openmm/openmm.py\u001b[0m in \u001b[0;36msetCutoffDistance\u001b[0;34m(self, distance)\u001b[0m\n\u001b[1;32m  19184\u001b[0m             \u001b[0mthe\u001b[0m \u001b[0mcutoff\u001b[0m \u001b[0mdistance\u001b[0m\u001b[0;34m,\u001b[0m \u001b[0mmeasured\u001b[0m \u001b[0;32min\u001b[0m \u001b[0mnm\u001b[0m\u001b[0;34m\u001b[0m\u001b[0;34m\u001b[0m\u001b[0m\n\u001b[1;32m  19185\u001b[0m         \"\"\"\n\u001b[0;32m> 19186\u001b[0;31m         \u001b[0;32mreturn\u001b[0m \u001b[0m_openmm\u001b[0m\u001b[0;34m.\u001b[0m\u001b[0mNonbondedForce_setCutoffDistance\u001b[0m\u001b[0;34m(\u001b[0m\u001b[0mself\u001b[0m\u001b[0;34m,\u001b[0m \u001b[0mdistance\u001b[0m\u001b[0;34m)\u001b[0m\u001b[0;34m\u001b[0m\u001b[0;34m\u001b[0m\u001b[0m\n\u001b[0m\u001b[1;32m  19187\u001b[0m \u001b[0;34m\u001b[0m\u001b[0m\n\u001b[1;32m  19188\u001b[0m \u001b[0;34m\u001b[0m\u001b[0m\n",
      "\u001b[0;31mValueError\u001b[0m: in method NonbondedForce_setCutoffDistance, argument 2 could not be converted to type double"
     ]
    }
   ],
   "source": [
    "aa=msm.convert(molecular_system, to_form='openmm.System', forcefield=['AMBER99SB-ILDN'])"
   ]
  },
  {
   "cell_type": "code",
   "execution_count": null,
   "metadata": {},
   "outputs": [],
   "source": [
    "msm.potential_energy(molecular_system, forcefield=['AMBER99SB-ILDN'])"
   ]
  },
  {
   "cell_type": "code",
   "execution_count": 17,
   "metadata": {},
   "outputs": [],
   "source": [
    "from simtk.openmm import app"
   ]
  },
  {
   "cell_type": "code",
   "execution_count": null,
   "metadata": {},
   "outputs": [],
   "source": [
    "app.LJPME"
   ]
  }
 ],
 "metadata": {
  "kernelspec": {
   "display_name": "Python 3",
   "language": "python",
   "name": "python3"
  },
  "language_info": {
   "codemirror_mode": {
    "name": "ipython",
    "version": 3
   },
   "file_extension": ".py",
   "mimetype": "text/x-python",
   "name": "python",
   "nbconvert_exporter": "python",
   "pygments_lexer": "ipython3",
   "version": "3.7.7"
  }
 },
 "nbformat": 4,
 "nbformat_minor": 4
}
