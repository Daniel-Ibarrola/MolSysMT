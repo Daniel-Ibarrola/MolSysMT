{
 "cells": [
  {
   "cell_type": "code",
   "execution_count": 1,
   "metadata": {},
   "outputs": [],
   "source": [
    "%load_ext autoreload\n",
    "%autoreload 2"
   ]
  },
  {
   "cell_type": "code",
   "execution_count": 2,
   "metadata": {},
   "outputs": [
    {
     "data": {
      "application/vnd.jupyter.widget-view+json": {
       "model_id": "fe223ca101c84386baeb6fa84b91878d",
       "version_major": 2,
       "version_minor": 0
      },
      "text/plain": []
     },
     "metadata": {},
     "output_type": "display_data"
    }
   ],
   "source": [
    "import molsysmt as msm"
   ]
  },
  {
   "cell_type": "markdown",
   "metadata": {},
   "source": [
    "# Potential energy and energy minimization"
   ]
  },
  {
   "cell_type": "markdown",
   "metadata": {},
   "source": [
    "## Some examples:"
   ]
  },
  {
   "cell_type": "code",
   "execution_count": 3,
   "metadata": {},
   "outputs": [],
   "source": [
    "molecular_system = msm.demo_systems.metenkephalin()"
   ]
  },
  {
   "cell_type": "code",
   "execution_count": 4,
   "metadata": {},
   "outputs": [
    {
     "data": {
      "text/html": [
       "<style  type=\"text/css\" >\n",
       "</style><table id=\"T_15326_\" ><thead>    <tr>        <th class=\"col_heading level0 col0\" >index</th>        <th class=\"col_heading level0 col1\" >id</th>        <th class=\"col_heading level0 col2\" >name</th>        <th class=\"col_heading level0 col3\" >type</th>        <th class=\"col_heading level0 col4\" >n atoms</th>        <th class=\"col_heading level0 col5\" >component index</th>        <th class=\"col_heading level0 col6\" >chain index</th>        <th class=\"col_heading level0 col7\" >molecule index</th>        <th class=\"col_heading level0 col8\" >molecule type</th>        <th class=\"col_heading level0 col9\" >entity index</th>        <th class=\"col_heading level0 col10\" >entity name</th>    </tr></thead><tbody>\n",
       "                <tr>\n",
       "                                <td id=\"T_15326_row0_col0\" class=\"data row0 col0\" >0</td>\n",
       "                        <td id=\"T_15326_row0_col1\" class=\"data row0 col1\" >1</td>\n",
       "                        <td id=\"T_15326_row0_col2\" class=\"data row0 col2\" >TYR</td>\n",
       "                        <td id=\"T_15326_row0_col3\" class=\"data row0 col3\" >aminoacid</td>\n",
       "                        <td id=\"T_15326_row0_col4\" class=\"data row0 col4\" >21</td>\n",
       "                        <td id=\"T_15326_row0_col5\" class=\"data row0 col5\" >0</td>\n",
       "                        <td id=\"T_15326_row0_col6\" class=\"data row0 col6\" >0</td>\n",
       "                        <td id=\"T_15326_row0_col7\" class=\"data row0 col7\" >0</td>\n",
       "                        <td id=\"T_15326_row0_col8\" class=\"data row0 col8\" >peptide</td>\n",
       "                        <td id=\"T_15326_row0_col9\" class=\"data row0 col9\" >0</td>\n",
       "                        <td id=\"T_15326_row0_col10\" class=\"data row0 col10\" >Peptide_0</td>\n",
       "            </tr>\n",
       "            <tr>\n",
       "                                <td id=\"T_15326_row1_col0\" class=\"data row1 col0\" >1</td>\n",
       "                        <td id=\"T_15326_row1_col1\" class=\"data row1 col1\" >2</td>\n",
       "                        <td id=\"T_15326_row1_col2\" class=\"data row1 col2\" >GLY</td>\n",
       "                        <td id=\"T_15326_row1_col3\" class=\"data row1 col3\" >aminoacid</td>\n",
       "                        <td id=\"T_15326_row1_col4\" class=\"data row1 col4\" >7</td>\n",
       "                        <td id=\"T_15326_row1_col5\" class=\"data row1 col5\" >0</td>\n",
       "                        <td id=\"T_15326_row1_col6\" class=\"data row1 col6\" >0</td>\n",
       "                        <td id=\"T_15326_row1_col7\" class=\"data row1 col7\" >0</td>\n",
       "                        <td id=\"T_15326_row1_col8\" class=\"data row1 col8\" >peptide</td>\n",
       "                        <td id=\"T_15326_row1_col9\" class=\"data row1 col9\" >0</td>\n",
       "                        <td id=\"T_15326_row1_col10\" class=\"data row1 col10\" >Peptide_0</td>\n",
       "            </tr>\n",
       "            <tr>\n",
       "                                <td id=\"T_15326_row2_col0\" class=\"data row2 col0\" >2</td>\n",
       "                        <td id=\"T_15326_row2_col1\" class=\"data row2 col1\" >3</td>\n",
       "                        <td id=\"T_15326_row2_col2\" class=\"data row2 col2\" >GLY</td>\n",
       "                        <td id=\"T_15326_row2_col3\" class=\"data row2 col3\" >aminoacid</td>\n",
       "                        <td id=\"T_15326_row2_col4\" class=\"data row2 col4\" >7</td>\n",
       "                        <td id=\"T_15326_row2_col5\" class=\"data row2 col5\" >0</td>\n",
       "                        <td id=\"T_15326_row2_col6\" class=\"data row2 col6\" >0</td>\n",
       "                        <td id=\"T_15326_row2_col7\" class=\"data row2 col7\" >0</td>\n",
       "                        <td id=\"T_15326_row2_col8\" class=\"data row2 col8\" >peptide</td>\n",
       "                        <td id=\"T_15326_row2_col9\" class=\"data row2 col9\" >0</td>\n",
       "                        <td id=\"T_15326_row2_col10\" class=\"data row2 col10\" >Peptide_0</td>\n",
       "            </tr>\n",
       "            <tr>\n",
       "                                <td id=\"T_15326_row3_col0\" class=\"data row3 col0\" >3</td>\n",
       "                        <td id=\"T_15326_row3_col1\" class=\"data row3 col1\" >4</td>\n",
       "                        <td id=\"T_15326_row3_col2\" class=\"data row3 col2\" >PHE</td>\n",
       "                        <td id=\"T_15326_row3_col3\" class=\"data row3 col3\" >aminoacid</td>\n",
       "                        <td id=\"T_15326_row3_col4\" class=\"data row3 col4\" >20</td>\n",
       "                        <td id=\"T_15326_row3_col5\" class=\"data row3 col5\" >0</td>\n",
       "                        <td id=\"T_15326_row3_col6\" class=\"data row3 col6\" >0</td>\n",
       "                        <td id=\"T_15326_row3_col7\" class=\"data row3 col7\" >0</td>\n",
       "                        <td id=\"T_15326_row3_col8\" class=\"data row3 col8\" >peptide</td>\n",
       "                        <td id=\"T_15326_row3_col9\" class=\"data row3 col9\" >0</td>\n",
       "                        <td id=\"T_15326_row3_col10\" class=\"data row3 col10\" >Peptide_0</td>\n",
       "            </tr>\n",
       "            <tr>\n",
       "                                <td id=\"T_15326_row4_col0\" class=\"data row4 col0\" >4</td>\n",
       "                        <td id=\"T_15326_row4_col1\" class=\"data row4 col1\" >5</td>\n",
       "                        <td id=\"T_15326_row4_col2\" class=\"data row4 col2\" >MET</td>\n",
       "                        <td id=\"T_15326_row4_col3\" class=\"data row4 col3\" >aminoacid</td>\n",
       "                        <td id=\"T_15326_row4_col4\" class=\"data row4 col4\" >17</td>\n",
       "                        <td id=\"T_15326_row4_col5\" class=\"data row4 col5\" >0</td>\n",
       "                        <td id=\"T_15326_row4_col6\" class=\"data row4 col6\" >0</td>\n",
       "                        <td id=\"T_15326_row4_col7\" class=\"data row4 col7\" >0</td>\n",
       "                        <td id=\"T_15326_row4_col8\" class=\"data row4 col8\" >peptide</td>\n",
       "                        <td id=\"T_15326_row4_col9\" class=\"data row4 col9\" >0</td>\n",
       "                        <td id=\"T_15326_row4_col10\" class=\"data row4 col10\" >Peptide_0</td>\n",
       "            </tr>\n",
       "    </tbody></table>"
      ],
      "text/plain": [
       "<pandas.io.formats.style.Styler at 0x7fa69a1c2310>"
      ]
     },
     "execution_count": 4,
     "metadata": {},
     "output_type": "execute_result"
    }
   ],
   "source": [
    "msm.info(molecular_system, target='group')"
   ]
  },
  {
   "cell_type": "code",
   "execution_count": 5,
   "metadata": {},
   "outputs": [],
   "source": [
    "molecular_system = msm.add_terminal_capping(molecular_system, N_terminal=None, C_terminal=None)"
   ]
  },
  {
   "cell_type": "code",
   "execution_count": 6,
   "metadata": {},
   "outputs": [
    {
     "data": {
      "text/html": [
       "<style  type=\"text/css\" >\n",
       "</style><table id=\"T_e5ead_\" ><thead>    <tr>        <th class=\"col_heading level0 col0\" >form</th>        <th class=\"col_heading level0 col1\" >n_atoms</th>        <th class=\"col_heading level0 col2\" >n_groups</th>        <th class=\"col_heading level0 col3\" >n_components</th>        <th class=\"col_heading level0 col4\" >n_chains</th>        <th class=\"col_heading level0 col5\" >n_molecules</th>        <th class=\"col_heading level0 col6\" >n_entities</th>        <th class=\"col_heading level0 col7\" >n_peptides</th>        <th class=\"col_heading level0 col8\" >n_frames</th>    </tr></thead><tbody>\n",
       "                <tr>\n",
       "                                <td id=\"T_e5ead_row0_col0\" class=\"data row0 col0\" >molsysmt.MolSys</td>\n",
       "                        <td id=\"T_e5ead_row0_col1\" class=\"data row0 col1\" >75</td>\n",
       "                        <td id=\"T_e5ead_row0_col2\" class=\"data row0 col2\" >5</td>\n",
       "                        <td id=\"T_e5ead_row0_col3\" class=\"data row0 col3\" >1</td>\n",
       "                        <td id=\"T_e5ead_row0_col4\" class=\"data row0 col4\" >1</td>\n",
       "                        <td id=\"T_e5ead_row0_col5\" class=\"data row0 col5\" >1</td>\n",
       "                        <td id=\"T_e5ead_row0_col6\" class=\"data row0 col6\" >1</td>\n",
       "                        <td id=\"T_e5ead_row0_col7\" class=\"data row0 col7\" >1</td>\n",
       "                        <td id=\"T_e5ead_row0_col8\" class=\"data row0 col8\" >1</td>\n",
       "            </tr>\n",
       "    </tbody></table>"
      ],
      "text/plain": [
       "<pandas.io.formats.style.Styler at 0x7fa69a2dbf90>"
      ]
     },
     "execution_count": 6,
     "metadata": {},
     "output_type": "execute_result"
    }
   ],
   "source": [
    "msm.info(molecular_system)"
   ]
  },
  {
   "cell_type": "code",
   "execution_count": 13,
   "metadata": {},
   "outputs": [
    {
     "ename": "TypeError",
     "evalue": "to_openmm_Simulation() got an unexpected keyword argument 'implicit_solvent_salt_conc'",
     "output_type": "error",
     "traceback": [
      "\u001b[0;31m---------------------------------------------------------------------------\u001b[0m",
      "\u001b[0;31mTypeError\u001b[0m                                 Traceback (most recent call last)",
      "\u001b[0;32m<ipython-input-13-1642fc07ebb5>\u001b[0m in \u001b[0;36m<module>\u001b[0;34m\u001b[0m\n\u001b[0;32m----> 1\u001b[0;31m \u001b[0mmsm\u001b[0m\u001b[0;34m.\u001b[0m\u001b[0mpotential_energy\u001b[0m\u001b[0;34m(\u001b[0m\u001b[0mmolecular_system\u001b[0m\u001b[0;34m,\u001b[0m \u001b[0mforcefield\u001b[0m\u001b[0;34m=\u001b[0m\u001b[0;34m[\u001b[0m\u001b[0;34m'AMBER99SBILDN'\u001b[0m\u001b[0;34m]\u001b[0m\u001b[0;34m)\u001b[0m\u001b[0;34m\u001b[0m\u001b[0;34m\u001b[0m\u001b[0m\n\u001b[0m",
      "\u001b[0;32m~/Proyectos/MolSysMT/molsysmt/potential_energy.py\u001b[0m in \u001b[0;36mpotential_energy\u001b[0;34m(molecular_system, forcefield, non_bonded_method, non_bonded_cutoff, constraints, rigid_water, switch_distance, flexible_constraints, use_dispersion_correction, ewald_error_tolerance, water_model, implicit_solvent, implicit_solvent_salt_conc, implicit_solvent_kappa, solute_dielectric, solvent_dielectric, platform, selection, frame_indices, syntaxis, engine)\u001b[0m\n\u001b[1;32m     38\u001b[0m             \u001b[0mintegrator\u001b[0m\u001b[0;34m=\u001b[0m\u001b[0;34m'Langevin'\u001b[0m\u001b[0;34m,\u001b[0m \u001b[0mtemperature\u001b[0m\u001b[0;34m=\u001b[0m\u001b[0;34m'0 K'\u001b[0m\u001b[0;34m,\u001b[0m \u001b[0mcollisions_rate\u001b[0m\u001b[0;34m=\u001b[0m\u001b[0;34m'1.0 1/ps'\u001b[0m\u001b[0;34m,\u001b[0m\u001b[0;34m\u001b[0m\u001b[0;34m\u001b[0m\u001b[0m\n\u001b[1;32m     39\u001b[0m             \u001b[0mintegration_timestep\u001b[0m\u001b[0;34m=\u001b[0m\u001b[0;34m'2.0 fs'\u001b[0m\u001b[0;34m,\u001b[0m \u001b[0mplatform\u001b[0m\u001b[0;34m=\u001b[0m\u001b[0mplatform\u001b[0m\u001b[0;34m,\u001b[0m\u001b[0;34m\u001b[0m\u001b[0;34m\u001b[0m\u001b[0m\n\u001b[0;32m---> 40\u001b[0;31m             selection=selection, frame_indices=frame_indices, syntaxis=syntaxis, to_form='openmm.Simulation')\n\u001b[0m\u001b[1;32m     41\u001b[0m \u001b[0;34m\u001b[0m\u001b[0m\n\u001b[1;32m     42\u001b[0m         \u001b[0mstate\u001b[0m \u001b[0;34m=\u001b[0m \u001b[0mtmp_molecular_system\u001b[0m\u001b[0;34m.\u001b[0m\u001b[0mcontext\u001b[0m\u001b[0;34m.\u001b[0m\u001b[0mgetState\u001b[0m\u001b[0;34m(\u001b[0m\u001b[0mgetEnergy\u001b[0m\u001b[0;34m=\u001b[0m\u001b[0;32mTrue\u001b[0m\u001b[0;34m)\u001b[0m\u001b[0;34m\u001b[0m\u001b[0;34m\u001b[0m\u001b[0m\n",
      "\u001b[0;32m~/Proyectos/MolSysMT/molsysmt/multitool.py\u001b[0m in \u001b[0;36mconvert\u001b[0;34m(molecular_system, to_form, selection, frame_indices, syntaxis, **kwargs)\u001b[0m\n\u001b[1;32m   1159\u001b[0m \u001b[0;34m\u001b[0m\u001b[0m\n\u001b[1;32m   1160\u001b[0m         tmp_item = dict_convert[item_form][form_out](item, molecular_system, atom_indices=atom_indices, frame_indices=frame_indices,\n\u001b[0;32m-> 1161\u001b[0;31m                                                      **conversion_arguments, **kwargs)\n\u001b[0m\u001b[1;32m   1162\u001b[0m     \u001b[0;32melse\u001b[0m\u001b[0;34m:\u001b[0m\u001b[0;34m\u001b[0m\u001b[0;34m\u001b[0m\u001b[0m\n\u001b[1;32m   1163\u001b[0m \u001b[0;34m\u001b[0m\u001b[0m\n",
      "\u001b[0;32m~/Proyectos/MolSysMT/molsysmt/forms/classes/api_molsysmt_MolSys.py\u001b[0m in \u001b[0;36mto_openmm_Simulation\u001b[0;34m(item, molecular_system, atom_indices, frame_indices, forcefield, non_bonded_method, non_bonded_cutoff, constraints, rigid_water, remove_cm_motion, hydrogen_mass, switch_distance, flexible_constraints, use_dispersion_correction, ewald_error_tolerance, water_model, implicit_solvent, implicit_solvent_salt_conc, implicit_solvent_kappa, solute_dielectric, solvent_dielectric, integrator, temperature, collisions_rate, integration_timestep, platform)\u001b[0m\n\u001b[1;32m    143\u001b[0m         \u001b[0mimplicit_solvent_kappa\u001b[0m\u001b[0;34m=\u001b[0m\u001b[0mimplicit_solvent_kappa\u001b[0m\u001b[0;34m,\u001b[0m \u001b[0msolute_dielectric\u001b[0m\u001b[0;34m=\u001b[0m\u001b[0msolute_dielectric\u001b[0m\u001b[0;34m,\u001b[0m \u001b[0msolvent_dielectric\u001b[0m\u001b[0;34m=\u001b[0m\u001b[0msolvent_dielectric\u001b[0m\u001b[0;34m,\u001b[0m\u001b[0;34m\u001b[0m\u001b[0;34m\u001b[0m\u001b[0m\n\u001b[1;32m    144\u001b[0m         \u001b[0mintegrator\u001b[0m\u001b[0;34m=\u001b[0m\u001b[0mintegrator\u001b[0m\u001b[0;34m,\u001b[0m \u001b[0mtemperature\u001b[0m\u001b[0;34m=\u001b[0m\u001b[0mtemperature\u001b[0m\u001b[0;34m,\u001b[0m \u001b[0mcollisions_rate\u001b[0m\u001b[0;34m=\u001b[0m\u001b[0mcollisions_rate\u001b[0m\u001b[0;34m,\u001b[0m \u001b[0mintegration_timestep\u001b[0m\u001b[0;34m=\u001b[0m\u001b[0mintegration_timestep\u001b[0m\u001b[0;34m,\u001b[0m\u001b[0;34m\u001b[0m\u001b[0;34m\u001b[0m\u001b[0m\n\u001b[0;32m--> 145\u001b[0;31m         platform=platform)\n\u001b[0m\u001b[1;32m    146\u001b[0m \u001b[0;34m\u001b[0m\u001b[0m\n\u001b[1;32m    147\u001b[0m     \u001b[0;32mreturn\u001b[0m \u001b[0mtmp_item\u001b[0m\u001b[0;34m\u001b[0m\u001b[0;34m\u001b[0m\u001b[0m\n",
      "\u001b[0;32m~/Proyectos/MolSysMT/molsysmt/native/io/molsys/classes/openmm_Simulation.py\u001b[0m in \u001b[0;36mto_openmm_Simulation\u001b[0;34m(item, molecular_system, atom_indices, frame_indices, forcefield, non_bonded_method, non_bonded_cutoff, constraints, rigid_water, remove_cm_motion, hydrogen_mass, switch_distance, flexible_constraints, integrator, temperature, collisions_rate, integration_timestep, platform, **kwargs)\u001b[0m\n\u001b[1;32m     20\u001b[0m         \u001b[0mswitch_distance\u001b[0m\u001b[0;34m=\u001b[0m\u001b[0mswitch_distance\u001b[0m\u001b[0;34m,\u001b[0m \u001b[0mflexible_constraints\u001b[0m\u001b[0;34m=\u001b[0m\u001b[0mflexible_constraints\u001b[0m\u001b[0;34m,\u001b[0m\u001b[0;34m\u001b[0m\u001b[0;34m\u001b[0m\u001b[0m\n\u001b[1;32m     21\u001b[0m         \u001b[0mintegrator\u001b[0m\u001b[0;34m=\u001b[0m\u001b[0mintegrator\u001b[0m\u001b[0;34m,\u001b[0m \u001b[0mtemperature\u001b[0m\u001b[0;34m=\u001b[0m\u001b[0mtemperature\u001b[0m\u001b[0;34m,\u001b[0m \u001b[0mcollisions_rate\u001b[0m\u001b[0;34m=\u001b[0m\u001b[0mcollisions_rate\u001b[0m\u001b[0;34m,\u001b[0m\u001b[0;34m\u001b[0m\u001b[0;34m\u001b[0m\u001b[0m\n\u001b[0;32m---> 22\u001b[0;31m         integration_timestep=integration_timestep, platform=platform, **kwargs)\n\u001b[0m\u001b[1;32m     23\u001b[0m \u001b[0;34m\u001b[0m\u001b[0m\n\u001b[1;32m     24\u001b[0m     \u001b[0;32mreturn\u001b[0m \u001b[0mtmp_item\u001b[0m\u001b[0;34m\u001b[0m\u001b[0;34m\u001b[0m\u001b[0m\n",
      "\u001b[0;31mTypeError\u001b[0m: to_openmm_Simulation() got an unexpected keyword argument 'implicit_solvent_salt_conc'"
     ]
    }
   ],
   "source": [
    "msm.potential_energy(molecular_system, forcefield=['AMBER99SBILDN'])"
   ]
  },
  {
   "cell_type": "code",
   "execution_count": null,
   "metadata": {},
   "outputs": [],
   "source": [
    "msm.potential_energy(molecular_system, forcefield=['AMBER14'], platform='CPU')"
   ]
  },
  {
   "cell_type": "code",
   "execution_count": null,
   "metadata": {},
   "outputs": [],
   "source": [
    "molecular_system_min = msm.energy_minimization(molecular_system, forcefield=['AMBER14'], platform='CPU')"
   ]
  },
  {
   "cell_type": "code",
   "execution_count": null,
   "metadata": {},
   "outputs": [],
   "source": [
    "msm.potential_energy(msm.test_systems.files.alanine_dipeptide['vacuum.pdb'],\n",
    "                     forcefield=['AMBER14'], platform='CPU')"
   ]
  },
  {
   "cell_type": "code",
   "execution_count": null,
   "metadata": {},
   "outputs": [],
   "source": [
    "msm.energy_minimization(msm.test_systems.files.alanine_dipeptide['vacuum.pdb'],\n",
    "                        forcefield=['AMBER14'], platform='CPU', to_form='vacuum_min.pdb')"
   ]
  },
  {
   "cell_type": "code",
   "execution_count": null,
   "metadata": {},
   "outputs": [],
   "source": []
  }
 ],
 "metadata": {
  "kernelspec": {
   "display_name": "Python 3",
   "language": "python",
   "name": "python3"
  },
  "language_info": {
   "codemirror_mode": {
    "name": "ipython",
    "version": 3
   },
   "file_extension": ".py",
   "mimetype": "text/x-python",
   "name": "python",
   "nbconvert_exporter": "python",
   "pygments_lexer": "ipython3",
   "version": "3.7.9"
  }
 },
 "nbformat": 4,
 "nbformat_minor": 4
}
