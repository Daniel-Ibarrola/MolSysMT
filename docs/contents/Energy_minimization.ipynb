{
 "cells": [
  {
   "cell_type": "code",
   "execution_count": 1,
   "metadata": {},
   "outputs": [],
   "source": [
    "%load_ext autoreload\n",
    "%autoreload 2"
   ]
  },
  {
   "cell_type": "code",
   "execution_count": 2,
   "metadata": {},
   "outputs": [
    {
     "data": {
      "application/vnd.jupyter.widget-view+json": {
       "model_id": "6d7b71461c5047e2a21c3078c372a289",
       "version_major": 2,
       "version_minor": 0
      },
      "text/plain": []
     },
     "metadata": {},
     "output_type": "display_data"
    }
   ],
   "source": [
    "import molsysmt as msm"
   ]
  },
  {
   "cell_type": "markdown",
   "metadata": {},
   "source": [
    "# Potential energy and energy minimization"
   ]
  },
  {
   "cell_type": "markdown",
   "metadata": {},
   "source": [
    "## Some examples:"
   ]
  },
  {
   "cell_type": "code",
   "execution_count": 3,
   "metadata": {},
   "outputs": [],
   "source": [
    "molecular_system = msm.demo_systems.metenkephalin()"
   ]
  },
  {
   "cell_type": "code",
   "execution_count": 4,
   "metadata": {},
   "outputs": [
    {
     "data": {
      "text/html": [
       "<style  type=\"text/css\" >\n",
       "</style><table id=\"T_7ab8c_\" ><thead>    <tr>        <th class=\"col_heading level0 col0\" >index</th>        <th class=\"col_heading level0 col1\" >id</th>        <th class=\"col_heading level0 col2\" >name</th>        <th class=\"col_heading level0 col3\" >type</th>        <th class=\"col_heading level0 col4\" >n atoms</th>        <th class=\"col_heading level0 col5\" >component index</th>        <th class=\"col_heading level0 col6\" >chain index</th>        <th class=\"col_heading level0 col7\" >molecule index</th>        <th class=\"col_heading level0 col8\" >molecule type</th>        <th class=\"col_heading level0 col9\" >entity index</th>        <th class=\"col_heading level0 col10\" >entity name</th>    </tr></thead><tbody>\n",
       "                <tr>\n",
       "                                <td id=\"T_7ab8c_row0_col0\" class=\"data row0 col0\" >0</td>\n",
       "                        <td id=\"T_7ab8c_row0_col1\" class=\"data row0 col1\" >1</td>\n",
       "                        <td id=\"T_7ab8c_row0_col2\" class=\"data row0 col2\" >TYR</td>\n",
       "                        <td id=\"T_7ab8c_row0_col3\" class=\"data row0 col3\" >aminoacid</td>\n",
       "                        <td id=\"T_7ab8c_row0_col4\" class=\"data row0 col4\" >21</td>\n",
       "                        <td id=\"T_7ab8c_row0_col5\" class=\"data row0 col5\" >0</td>\n",
       "                        <td id=\"T_7ab8c_row0_col6\" class=\"data row0 col6\" >0</td>\n",
       "                        <td id=\"T_7ab8c_row0_col7\" class=\"data row0 col7\" >0</td>\n",
       "                        <td id=\"T_7ab8c_row0_col8\" class=\"data row0 col8\" >peptide</td>\n",
       "                        <td id=\"T_7ab8c_row0_col9\" class=\"data row0 col9\" >0</td>\n",
       "                        <td id=\"T_7ab8c_row0_col10\" class=\"data row0 col10\" >Peptide_0</td>\n",
       "            </tr>\n",
       "            <tr>\n",
       "                                <td id=\"T_7ab8c_row1_col0\" class=\"data row1 col0\" >1</td>\n",
       "                        <td id=\"T_7ab8c_row1_col1\" class=\"data row1 col1\" >2</td>\n",
       "                        <td id=\"T_7ab8c_row1_col2\" class=\"data row1 col2\" >GLY</td>\n",
       "                        <td id=\"T_7ab8c_row1_col3\" class=\"data row1 col3\" >aminoacid</td>\n",
       "                        <td id=\"T_7ab8c_row1_col4\" class=\"data row1 col4\" >7</td>\n",
       "                        <td id=\"T_7ab8c_row1_col5\" class=\"data row1 col5\" >0</td>\n",
       "                        <td id=\"T_7ab8c_row1_col6\" class=\"data row1 col6\" >0</td>\n",
       "                        <td id=\"T_7ab8c_row1_col7\" class=\"data row1 col7\" >0</td>\n",
       "                        <td id=\"T_7ab8c_row1_col8\" class=\"data row1 col8\" >peptide</td>\n",
       "                        <td id=\"T_7ab8c_row1_col9\" class=\"data row1 col9\" >0</td>\n",
       "                        <td id=\"T_7ab8c_row1_col10\" class=\"data row1 col10\" >Peptide_0</td>\n",
       "            </tr>\n",
       "            <tr>\n",
       "                                <td id=\"T_7ab8c_row2_col0\" class=\"data row2 col0\" >2</td>\n",
       "                        <td id=\"T_7ab8c_row2_col1\" class=\"data row2 col1\" >3</td>\n",
       "                        <td id=\"T_7ab8c_row2_col2\" class=\"data row2 col2\" >GLY</td>\n",
       "                        <td id=\"T_7ab8c_row2_col3\" class=\"data row2 col3\" >aminoacid</td>\n",
       "                        <td id=\"T_7ab8c_row2_col4\" class=\"data row2 col4\" >7</td>\n",
       "                        <td id=\"T_7ab8c_row2_col5\" class=\"data row2 col5\" >0</td>\n",
       "                        <td id=\"T_7ab8c_row2_col6\" class=\"data row2 col6\" >0</td>\n",
       "                        <td id=\"T_7ab8c_row2_col7\" class=\"data row2 col7\" >0</td>\n",
       "                        <td id=\"T_7ab8c_row2_col8\" class=\"data row2 col8\" >peptide</td>\n",
       "                        <td id=\"T_7ab8c_row2_col9\" class=\"data row2 col9\" >0</td>\n",
       "                        <td id=\"T_7ab8c_row2_col10\" class=\"data row2 col10\" >Peptide_0</td>\n",
       "            </tr>\n",
       "            <tr>\n",
       "                                <td id=\"T_7ab8c_row3_col0\" class=\"data row3 col0\" >3</td>\n",
       "                        <td id=\"T_7ab8c_row3_col1\" class=\"data row3 col1\" >4</td>\n",
       "                        <td id=\"T_7ab8c_row3_col2\" class=\"data row3 col2\" >PHE</td>\n",
       "                        <td id=\"T_7ab8c_row3_col3\" class=\"data row3 col3\" >aminoacid</td>\n",
       "                        <td id=\"T_7ab8c_row3_col4\" class=\"data row3 col4\" >20</td>\n",
       "                        <td id=\"T_7ab8c_row3_col5\" class=\"data row3 col5\" >0</td>\n",
       "                        <td id=\"T_7ab8c_row3_col6\" class=\"data row3 col6\" >0</td>\n",
       "                        <td id=\"T_7ab8c_row3_col7\" class=\"data row3 col7\" >0</td>\n",
       "                        <td id=\"T_7ab8c_row3_col8\" class=\"data row3 col8\" >peptide</td>\n",
       "                        <td id=\"T_7ab8c_row3_col9\" class=\"data row3 col9\" >0</td>\n",
       "                        <td id=\"T_7ab8c_row3_col10\" class=\"data row3 col10\" >Peptide_0</td>\n",
       "            </tr>\n",
       "            <tr>\n",
       "                                <td id=\"T_7ab8c_row4_col0\" class=\"data row4 col0\" >4</td>\n",
       "                        <td id=\"T_7ab8c_row4_col1\" class=\"data row4 col1\" >5</td>\n",
       "                        <td id=\"T_7ab8c_row4_col2\" class=\"data row4 col2\" >MET</td>\n",
       "                        <td id=\"T_7ab8c_row4_col3\" class=\"data row4 col3\" >aminoacid</td>\n",
       "                        <td id=\"T_7ab8c_row4_col4\" class=\"data row4 col4\" >17</td>\n",
       "                        <td id=\"T_7ab8c_row4_col5\" class=\"data row4 col5\" >0</td>\n",
       "                        <td id=\"T_7ab8c_row4_col6\" class=\"data row4 col6\" >0</td>\n",
       "                        <td id=\"T_7ab8c_row4_col7\" class=\"data row4 col7\" >0</td>\n",
       "                        <td id=\"T_7ab8c_row4_col8\" class=\"data row4 col8\" >peptide</td>\n",
       "                        <td id=\"T_7ab8c_row4_col9\" class=\"data row4 col9\" >0</td>\n",
       "                        <td id=\"T_7ab8c_row4_col10\" class=\"data row4 col10\" >Peptide_0</td>\n",
       "            </tr>\n",
       "    </tbody></table>"
      ],
      "text/plain": [
       "<pandas.io.formats.style.Styler at 0x7fc9b70d3490>"
      ]
     },
     "execution_count": 4,
     "metadata": {},
     "output_type": "execute_result"
    }
   ],
   "source": [
    "msm.info(molecular_system, target='group')"
   ]
  },
  {
   "cell_type": "code",
   "execution_count": 5,
   "metadata": {},
   "outputs": [],
   "source": [
    "molecular_system = msm.add_terminal_capping(molecular_system, N_terminal=None, C_terminal=None)"
   ]
  },
  {
   "cell_type": "code",
   "execution_count": 6,
   "metadata": {},
   "outputs": [
    {
     "data": {
      "text/html": [
       "<style  type=\"text/css\" >\n",
       "</style><table id=\"T_84c83_\" ><thead>    <tr>        <th class=\"col_heading level0 col0\" >form</th>        <th class=\"col_heading level0 col1\" >n_atoms</th>        <th class=\"col_heading level0 col2\" >n_groups</th>        <th class=\"col_heading level0 col3\" >n_components</th>        <th class=\"col_heading level0 col4\" >n_chains</th>        <th class=\"col_heading level0 col5\" >n_molecules</th>        <th class=\"col_heading level0 col6\" >n_entities</th>        <th class=\"col_heading level0 col7\" >n_peptides</th>        <th class=\"col_heading level0 col8\" >n_frames</th>    </tr></thead><tbody>\n",
       "                <tr>\n",
       "                                <td id=\"T_84c83_row0_col0\" class=\"data row0 col0\" >molsysmt.MolSys</td>\n",
       "                        <td id=\"T_84c83_row0_col1\" class=\"data row0 col1\" >75</td>\n",
       "                        <td id=\"T_84c83_row0_col2\" class=\"data row0 col2\" >5</td>\n",
       "                        <td id=\"T_84c83_row0_col3\" class=\"data row0 col3\" >1</td>\n",
       "                        <td id=\"T_84c83_row0_col4\" class=\"data row0 col4\" >1</td>\n",
       "                        <td id=\"T_84c83_row0_col5\" class=\"data row0 col5\" >1</td>\n",
       "                        <td id=\"T_84c83_row0_col6\" class=\"data row0 col6\" >1</td>\n",
       "                        <td id=\"T_84c83_row0_col7\" class=\"data row0 col7\" >1</td>\n",
       "                        <td id=\"T_84c83_row0_col8\" class=\"data row0 col8\" >1</td>\n",
       "            </tr>\n",
       "    </tbody></table>"
      ],
      "text/plain": [
       "<pandas.io.formats.style.Styler at 0x7fc9b60871d0>"
      ]
     },
     "execution_count": 6,
     "metadata": {},
     "output_type": "execute_result"
    }
   ],
   "source": [
    "msm.info(molecular_system)"
   ]
  },
  {
   "cell_type": "code",
   "execution_count": 7,
   "metadata": {},
   "outputs": [],
   "source": [
    "system2=msm.convert(molecular_system, to_form='openmm.System', forcefield=['AMBER14'])"
   ]
  },
  {
   "cell_type": "code",
   "execution_count": 8,
   "metadata": {},
   "outputs": [
    {
     "data": {
      "text/plain": [
       "'molsysmt.MolSys'"
      ]
     },
     "execution_count": 8,
     "metadata": {},
     "output_type": "execute_result"
    }
   ],
   "source": [
    "msm.get_form(molecular_system)"
   ]
  },
  {
   "cell_type": "code",
   "execution_count": 9,
   "metadata": {},
   "outputs": [
    {
     "data": {
      "text/plain": [
       "Quantity(value=33716.203140578495, unit=kilocalorie/mole)"
      ]
     },
     "execution_count": 9,
     "metadata": {},
     "output_type": "execute_result"
    }
   ],
   "source": [
    "msm.potential_energy(molecular_system, forcefield=['AMBER99SB-ILDN'], platform='CPU')"
   ]
  },
  {
   "cell_type": "code",
   "execution_count": 10,
   "metadata": {},
   "outputs": [
    {
     "data": {
      "text/plain": [
       "Quantity(value=33721.08321471593, unit=kilocalorie/mole)"
      ]
     },
     "execution_count": 10,
     "metadata": {},
     "output_type": "execute_result"
    }
   ],
   "source": [
    "msm.potential_energy(molecular_system, forcefield=['AMBER14'], platform='CPU')"
   ]
  },
  {
   "cell_type": "code",
   "execution_count": 11,
   "metadata": {},
   "outputs": [
    {
     "name": "stdout",
     "output_type": "stream",
     "text": [
      "Potential Energy before minimization: 33721.08321471593 kcal/mol\n",
      "Potential Energy after minimization: -41.57963141194436 kcal/mol\n"
     ]
    }
   ],
   "source": [
    "molecular_system_min = msm.energy_minimization(molecular_system, forcefield=['AMBER14'], platform='CPU')"
   ]
  },
  {
   "cell_type": "code",
   "execution_count": 12,
   "metadata": {},
   "outputs": [
    {
     "data": {
      "text/plain": [
       "Quantity(value=-13.327186546548493, unit=kilocalorie/mole)"
      ]
     },
     "execution_count": 12,
     "metadata": {},
     "output_type": "execute_result"
    }
   ],
   "source": [
    "msm.potential_energy(msm.test_systems.files.alanine_dipeptide['vacuum.pdb'],\n",
    "                     forcefield=['AMBER14'], platform='CPU')"
   ]
  },
  {
   "cell_type": "code",
   "execution_count": 13,
   "metadata": {},
   "outputs": [
    {
     "name": "stdout",
     "output_type": "stream",
     "text": [
      "Potential Energy before minimization: -13.327186546548493 kcal/mol\n",
      "Potential Energy after minimization: -20.736958176058405 kcal/mol\n"
     ]
    }
   ],
   "source": [
    "msm.energy_minimization(msm.test_systems.files.alanine_dipeptide['vacuum.pdb'],\n",
    "                        forcefield=['AMBER14'], platform='CPU', to_form='vacuum_min.pdb')"
   ]
  },
  {
   "cell_type": "code",
   "execution_count": null,
   "metadata": {},
   "outputs": [],
   "source": []
  }
 ],
 "metadata": {
  "kernelspec": {
   "display_name": "Python 3",
   "language": "python",
   "name": "python3"
  },
  "language_info": {
   "codemirror_mode": {
    "name": "ipython",
    "version": 3
   },
   "file_extension": ".py",
   "mimetype": "text/x-python",
   "name": "python",
   "nbconvert_exporter": "python",
   "pygments_lexer": "ipython3",
   "version": "3.7.9"
  }
 },
 "nbformat": 4,
 "nbformat_minor": 4
}
