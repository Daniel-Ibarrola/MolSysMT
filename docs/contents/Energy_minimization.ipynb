{
 "cells": [
  {
   "cell_type": "code",
   "execution_count": 1,
   "metadata": {},
   "outputs": [],
   "source": [
    "%load_ext autoreload\n",
    "%autoreload 2"
   ]
  },
  {
   "cell_type": "code",
   "execution_count": 2,
   "metadata": {},
   "outputs": [
    {
     "data": {
      "application/vnd.jupyter.widget-view+json": {
       "model_id": "50c07f20c2174879bae7a89a806ff760",
       "version_major": 2,
       "version_minor": 0
      },
      "text/plain": []
     },
     "metadata": {},
     "output_type": "display_data"
    }
   ],
   "source": [
    "import molsysmt as msm"
   ]
  },
  {
   "cell_type": "markdown",
   "metadata": {},
   "source": [
    "# Potential energy and energy minimization"
   ]
  },
  {
   "cell_type": "markdown",
   "metadata": {},
   "source": [
    "## Some examples:"
   ]
  },
  {
   "cell_type": "code",
   "execution_count": 3,
   "metadata": {},
   "outputs": [],
   "source": [
    "molecular_system = msm.demo_systems.metenkephalin()"
   ]
  },
  {
   "cell_type": "code",
   "execution_count": 4,
   "metadata": {},
   "outputs": [
    {
     "data": {
      "text/html": [
       "<style  type=\"text/css\" >\n",
       "</style><table id=\"T_68056_\" ><thead>    <tr>        <th class=\"col_heading level0 col0\" >index</th>        <th class=\"col_heading level0 col1\" >id</th>        <th class=\"col_heading level0 col2\" >name</th>        <th class=\"col_heading level0 col3\" >type</th>        <th class=\"col_heading level0 col4\" >n atoms</th>        <th class=\"col_heading level0 col5\" >component index</th>        <th class=\"col_heading level0 col6\" >chain index</th>        <th class=\"col_heading level0 col7\" >molecule index</th>        <th class=\"col_heading level0 col8\" >molecule type</th>        <th class=\"col_heading level0 col9\" >entity index</th>        <th class=\"col_heading level0 col10\" >entity name</th>    </tr></thead><tbody>\n",
       "                <tr>\n",
       "                                <td id=\"T_68056_row0_col0\" class=\"data row0 col0\" >0</td>\n",
       "                        <td id=\"T_68056_row0_col1\" class=\"data row0 col1\" >1</td>\n",
       "                        <td id=\"T_68056_row0_col2\" class=\"data row0 col2\" >TYR</td>\n",
       "                        <td id=\"T_68056_row0_col3\" class=\"data row0 col3\" >aminoacid</td>\n",
       "                        <td id=\"T_68056_row0_col4\" class=\"data row0 col4\" >21</td>\n",
       "                        <td id=\"T_68056_row0_col5\" class=\"data row0 col5\" >0</td>\n",
       "                        <td id=\"T_68056_row0_col6\" class=\"data row0 col6\" >0</td>\n",
       "                        <td id=\"T_68056_row0_col7\" class=\"data row0 col7\" >0</td>\n",
       "                        <td id=\"T_68056_row0_col8\" class=\"data row0 col8\" >peptide</td>\n",
       "                        <td id=\"T_68056_row0_col9\" class=\"data row0 col9\" >0</td>\n",
       "                        <td id=\"T_68056_row0_col10\" class=\"data row0 col10\" >Peptide_0</td>\n",
       "            </tr>\n",
       "            <tr>\n",
       "                                <td id=\"T_68056_row1_col0\" class=\"data row1 col0\" >1</td>\n",
       "                        <td id=\"T_68056_row1_col1\" class=\"data row1 col1\" >2</td>\n",
       "                        <td id=\"T_68056_row1_col2\" class=\"data row1 col2\" >GLY</td>\n",
       "                        <td id=\"T_68056_row1_col3\" class=\"data row1 col3\" >aminoacid</td>\n",
       "                        <td id=\"T_68056_row1_col4\" class=\"data row1 col4\" >7</td>\n",
       "                        <td id=\"T_68056_row1_col5\" class=\"data row1 col5\" >0</td>\n",
       "                        <td id=\"T_68056_row1_col6\" class=\"data row1 col6\" >0</td>\n",
       "                        <td id=\"T_68056_row1_col7\" class=\"data row1 col7\" >0</td>\n",
       "                        <td id=\"T_68056_row1_col8\" class=\"data row1 col8\" >peptide</td>\n",
       "                        <td id=\"T_68056_row1_col9\" class=\"data row1 col9\" >0</td>\n",
       "                        <td id=\"T_68056_row1_col10\" class=\"data row1 col10\" >Peptide_0</td>\n",
       "            </tr>\n",
       "            <tr>\n",
       "                                <td id=\"T_68056_row2_col0\" class=\"data row2 col0\" >2</td>\n",
       "                        <td id=\"T_68056_row2_col1\" class=\"data row2 col1\" >3</td>\n",
       "                        <td id=\"T_68056_row2_col2\" class=\"data row2 col2\" >GLY</td>\n",
       "                        <td id=\"T_68056_row2_col3\" class=\"data row2 col3\" >aminoacid</td>\n",
       "                        <td id=\"T_68056_row2_col4\" class=\"data row2 col4\" >7</td>\n",
       "                        <td id=\"T_68056_row2_col5\" class=\"data row2 col5\" >0</td>\n",
       "                        <td id=\"T_68056_row2_col6\" class=\"data row2 col6\" >0</td>\n",
       "                        <td id=\"T_68056_row2_col7\" class=\"data row2 col7\" >0</td>\n",
       "                        <td id=\"T_68056_row2_col8\" class=\"data row2 col8\" >peptide</td>\n",
       "                        <td id=\"T_68056_row2_col9\" class=\"data row2 col9\" >0</td>\n",
       "                        <td id=\"T_68056_row2_col10\" class=\"data row2 col10\" >Peptide_0</td>\n",
       "            </tr>\n",
       "            <tr>\n",
       "                                <td id=\"T_68056_row3_col0\" class=\"data row3 col0\" >3</td>\n",
       "                        <td id=\"T_68056_row3_col1\" class=\"data row3 col1\" >4</td>\n",
       "                        <td id=\"T_68056_row3_col2\" class=\"data row3 col2\" >PHE</td>\n",
       "                        <td id=\"T_68056_row3_col3\" class=\"data row3 col3\" >aminoacid</td>\n",
       "                        <td id=\"T_68056_row3_col4\" class=\"data row3 col4\" >20</td>\n",
       "                        <td id=\"T_68056_row3_col5\" class=\"data row3 col5\" >0</td>\n",
       "                        <td id=\"T_68056_row3_col6\" class=\"data row3 col6\" >0</td>\n",
       "                        <td id=\"T_68056_row3_col7\" class=\"data row3 col7\" >0</td>\n",
       "                        <td id=\"T_68056_row3_col8\" class=\"data row3 col8\" >peptide</td>\n",
       "                        <td id=\"T_68056_row3_col9\" class=\"data row3 col9\" >0</td>\n",
       "                        <td id=\"T_68056_row3_col10\" class=\"data row3 col10\" >Peptide_0</td>\n",
       "            </tr>\n",
       "            <tr>\n",
       "                                <td id=\"T_68056_row4_col0\" class=\"data row4 col0\" >4</td>\n",
       "                        <td id=\"T_68056_row4_col1\" class=\"data row4 col1\" >5</td>\n",
       "                        <td id=\"T_68056_row4_col2\" class=\"data row4 col2\" >MET</td>\n",
       "                        <td id=\"T_68056_row4_col3\" class=\"data row4 col3\" >aminoacid</td>\n",
       "                        <td id=\"T_68056_row4_col4\" class=\"data row4 col4\" >17</td>\n",
       "                        <td id=\"T_68056_row4_col5\" class=\"data row4 col5\" >0</td>\n",
       "                        <td id=\"T_68056_row4_col6\" class=\"data row4 col6\" >0</td>\n",
       "                        <td id=\"T_68056_row4_col7\" class=\"data row4 col7\" >0</td>\n",
       "                        <td id=\"T_68056_row4_col8\" class=\"data row4 col8\" >peptide</td>\n",
       "                        <td id=\"T_68056_row4_col9\" class=\"data row4 col9\" >0</td>\n",
       "                        <td id=\"T_68056_row4_col10\" class=\"data row4 col10\" >Peptide_0</td>\n",
       "            </tr>\n",
       "    </tbody></table>"
      ],
      "text/plain": [
       "<pandas.io.formats.style.Styler at 0x7f9dfe2bc490>"
      ]
     },
     "execution_count": 4,
     "metadata": {},
     "output_type": "execute_result"
    }
   ],
   "source": [
    "msm.info(molecular_system, target='group')"
   ]
  },
  {
   "cell_type": "code",
   "execution_count": 5,
   "metadata": {},
   "outputs": [],
   "source": [
    "molecular_system = msm.add_terminal_capping(molecular_system, N_terminal=None, C_terminal=None)"
   ]
  },
  {
   "cell_type": "code",
   "execution_count": 6,
   "metadata": {},
   "outputs": [
    {
     "data": {
      "text/html": [
       "<style  type=\"text/css\" >\n",
       "</style><table id=\"T_0c4c6_\" ><thead>    <tr>        <th class=\"col_heading level0 col0\" >form</th>        <th class=\"col_heading level0 col1\" >n_atoms</th>        <th class=\"col_heading level0 col2\" >n_groups</th>        <th class=\"col_heading level0 col3\" >n_components</th>        <th class=\"col_heading level0 col4\" >n_chains</th>        <th class=\"col_heading level0 col5\" >n_molecules</th>        <th class=\"col_heading level0 col6\" >n_entities</th>        <th class=\"col_heading level0 col7\" >n_peptides</th>        <th class=\"col_heading level0 col8\" >n_frames</th>    </tr></thead><tbody>\n",
       "                <tr>\n",
       "                                <td id=\"T_0c4c6_row0_col0\" class=\"data row0 col0\" >molsysmt.MolSys</td>\n",
       "                        <td id=\"T_0c4c6_row0_col1\" class=\"data row0 col1\" >75</td>\n",
       "                        <td id=\"T_0c4c6_row0_col2\" class=\"data row0 col2\" >5</td>\n",
       "                        <td id=\"T_0c4c6_row0_col3\" class=\"data row0 col3\" >1</td>\n",
       "                        <td id=\"T_0c4c6_row0_col4\" class=\"data row0 col4\" >1</td>\n",
       "                        <td id=\"T_0c4c6_row0_col5\" class=\"data row0 col5\" >1</td>\n",
       "                        <td id=\"T_0c4c6_row0_col6\" class=\"data row0 col6\" >1</td>\n",
       "                        <td id=\"T_0c4c6_row0_col7\" class=\"data row0 col7\" >1</td>\n",
       "                        <td id=\"T_0c4c6_row0_col8\" class=\"data row0 col8\" >1</td>\n",
       "            </tr>\n",
       "    </tbody></table>"
      ],
      "text/plain": [
       "<pandas.io.formats.style.Styler at 0x7f9e10341b10>"
      ]
     },
     "execution_count": 6,
     "metadata": {},
     "output_type": "execute_result"
    }
   ],
   "source": [
    "msm.info(molecular_system)"
   ]
  },
  {
   "cell_type": "code",
   "execution_count": 7,
   "metadata": {},
   "outputs": [],
   "source": [
    "system2=msm.convert(molecular_system, to_form='openmm.System', forcefield=['AMBER14'])"
   ]
  },
  {
   "cell_type": "code",
   "execution_count": 8,
   "metadata": {},
   "outputs": [
    {
     "data": {
      "text/plain": [
       "'molsysmt.MolSys'"
      ]
     },
     "execution_count": 8,
     "metadata": {},
     "output_type": "execute_result"
    }
   ],
   "source": [
    "msm.get_form(molecular_system)"
   ]
  },
  {
   "cell_type": "code",
   "execution_count": 9,
   "metadata": {},
   "outputs": [
    {
     "data": {
      "text/plain": [
       "Quantity(value=33716.006535106346, unit=kilocalorie/mole)"
      ]
     },
     "execution_count": 9,
     "metadata": {},
     "output_type": "execute_result"
    }
   ],
   "source": [
    "msm.potential_energy(molecular_system, forcefield=['AMBER99SB-ILDN'], platform='CPU')"
   ]
  },
  {
   "cell_type": "code",
   "execution_count": 10,
   "metadata": {},
   "outputs": [
    {
     "data": {
      "text/plain": [
       "Quantity(value=33720.88660924645, unit=kilocalorie/mole)"
      ]
     },
     "execution_count": 10,
     "metadata": {},
     "output_type": "execute_result"
    }
   ],
   "source": [
    "msm.potential_energy(molecular_system, forcefield=['AMBER14'], platform='CPU')"
   ]
  },
  {
   "cell_type": "code",
   "execution_count": 11,
   "metadata": {},
   "outputs": [
    {
     "name": "stdout",
     "output_type": "stream",
     "text": [
      "Potential Energy before minimization: 33720.88660924645 kcal/mol\n",
      "Potential Energy after minimization: -41.61226396763479 kcal/mol\n"
     ]
    }
   ],
   "source": [
    "molecular_system_min = msm.energy_minimization(molecular_system, forcefield=['AMBER14'], platform='CPU')"
   ]
  },
  {
   "cell_type": "code",
   "execution_count": 15,
   "metadata": {},
   "outputs": [
    {
     "data": {
      "text/plain": [
       "'pdb'"
      ]
     },
     "execution_count": 15,
     "metadata": {},
     "output_type": "execute_result"
    }
   ],
   "source": [
    "msm.get_form(msm.test_systems.files.alanine_dipeptide['vacuum.pdb'])"
   ]
  },
  {
   "cell_type": "code",
   "execution_count": 19,
   "metadata": {},
   "outputs": [
    {
     "data": {
      "text/plain": [
       "Quantity(value=-13.327186546548493, unit=kilocalorie/mole)"
      ]
     },
     "execution_count": 19,
     "metadata": {},
     "output_type": "execute_result"
    }
   ],
   "source": [
    "msm.potential_energy(msm.test_systems.files.alanine_dipeptide['vacuum.pdb'],\n",
    "                     forcefield=['AMBER14'], platform='CPU')"
   ]
  },
  {
   "cell_type": "code",
   "execution_count": 36,
   "metadata": {},
   "outputs": [
    {
     "name": "stdout",
     "output_type": "stream",
     "text": [
      "Potential Energy before minimization: -13.327186546548493 kcal/mol\n",
      "Potential Energy after minimization: -20.749218930881 kcal/mol\n"
     ]
    },
    {
     "ename": "KeyError",
     "evalue": "<Atom 4 (C) of chain 0 residue 0 (ACE)>",
     "output_type": "error",
     "traceback": [
      "\u001b[0;31m---------------------------------------------------------------------------\u001b[0m",
      "\u001b[0;31mKeyError\u001b[0m                                  Traceback (most recent call last)",
      "\u001b[0;32m<ipython-input-36-cba80bd8a358>\u001b[0m in \u001b[0;36m<module>\u001b[0;34m\u001b[0m\n\u001b[1;32m      1\u001b[0m msm.energy_minimization(msm.test_systems.files.alanine_dipeptide['vacuum.pdb'],\n\u001b[0;32m----> 2\u001b[0;31m                         forcefield=['AMBER14'], platform='CPU', to_form='vacuum_min.pdb')\n\u001b[0m",
      "\u001b[0;32m~/Proyectos/MolSysMT/molsysmt/potential_energy.py\u001b[0m in \u001b[0;36menergy_minimization\u001b[0;34m(item, method, forcefield, non_bonded_method, non_bonded_cutoff, constraints, rigid_water, switch_distance, flexible_constraints, platform, to_form, selection, syntaxis, engine, verbose, *kwargs)\u001b[0m\n\u001b[1;32m    118\u001b[0m             \u001b[0mprint\u001b[0m\u001b[0;34m(\u001b[0m\u001b[0;34m\"Potential Energy after minimization: {}\"\u001b[0m\u001b[0;34m.\u001b[0m\u001b[0mformat\u001b[0m\u001b[0;34m(\u001b[0m\u001b[0menergy_post_min\u001b[0m\u001b[0;34m)\u001b[0m\u001b[0;34m)\u001b[0m\u001b[0;34m\u001b[0m\u001b[0;34m\u001b[0m\u001b[0m\n\u001b[1;32m    119\u001b[0m \u001b[0;34m\u001b[0m\u001b[0m\n\u001b[0;32m--> 120\u001b[0;31m         \u001b[0mtmp_item\u001b[0m \u001b[0;34m=\u001b[0m \u001b[0mconvert\u001b[0m\u001b[0;34m(\u001b[0m\u001b[0msimulation\u001b[0m\u001b[0;34m,\u001b[0m \u001b[0mto_form\u001b[0m\u001b[0;34m=\u001b[0m\u001b[0mto_form\u001b[0m\u001b[0;34m)\u001b[0m\u001b[0;34m\u001b[0m\u001b[0;34m\u001b[0m\u001b[0m\n\u001b[0m\u001b[1;32m    121\u001b[0m \u001b[0;34m\u001b[0m\u001b[0m\n\u001b[1;32m    122\u001b[0m         \u001b[0;32mreturn\u001b[0m \u001b[0mtmp_item\u001b[0m\u001b[0;34m\u001b[0m\u001b[0;34m\u001b[0m\u001b[0m\n",
      "\u001b[0;32m~/Proyectos/MolSysMT/molsysmt/multitool.py\u001b[0m in \u001b[0;36mconvert\u001b[0;34m(item, to_form, selection, frame_indices, syntaxis, **kwargs)\u001b[0m\n\u001b[1;32m   1305\u001b[0m                     tmp_item = dict_converter[form_in][form_out](item, output_filepath=out_file,\n\u001b[1;32m   1306\u001b[0m                                                           \u001b[0matom_indices\u001b[0m\u001b[0;34m=\u001b[0m\u001b[0matom_indices\u001b[0m\u001b[0;34m,\u001b[0m \u001b[0mframe_indices\u001b[0m\u001b[0;34m=\u001b[0m\u001b[0mframe_indices\u001b[0m\u001b[0;34m,\u001b[0m\u001b[0;34m\u001b[0m\u001b[0;34m\u001b[0m\u001b[0m\n\u001b[0;32m-> 1307\u001b[0;31m                                                           **kwargs)\n\u001b[0m\u001b[1;32m   1308\u001b[0m                 \u001b[0;32melif\u001b[0m \u001b[0msame_system\u001b[0m\u001b[0;34m:\u001b[0m\u001b[0;34m\u001b[0m\u001b[0;34m\u001b[0m\u001b[0m\n\u001b[1;32m   1309\u001b[0m                     \u001b[0mtmp_item\u001b[0m \u001b[0;34m=\u001b[0m \u001b[0mcopy\u001b[0m\u001b[0;34m(\u001b[0m\u001b[0mitem\u001b[0m\u001b[0;34m,\u001b[0m \u001b[0moutput_filepath\u001b[0m\u001b[0;34m=\u001b[0m\u001b[0mout_file\u001b[0m\u001b[0;34m)\u001b[0m\u001b[0;34m\u001b[0m\u001b[0;34m\u001b[0m\u001b[0m\n",
      "\u001b[0;32m~/Proyectos/MolSysMT/molsysmt/forms/classes/api_openmm_Simulation.py\u001b[0m in \u001b[0;36mto_pdb\u001b[0;34m(item, output_filepath, atom_indices, frame_indices)\u001b[0m\n\u001b[1;32m     70\u001b[0m     \u001b[0mbox\u001b[0m \u001b[0;34m=\u001b[0m \u001b[0mget_box_from_system\u001b[0m\u001b[0;34m(\u001b[0m\u001b[0mitem\u001b[0m\u001b[0;34m,\u001b[0m \u001b[0mframe_indices\u001b[0m\u001b[0;34m=\u001b[0m\u001b[0mframe_indices\u001b[0m\u001b[0;34m)\u001b[0m\u001b[0;34m\u001b[0m\u001b[0;34m\u001b[0m\u001b[0m\n\u001b[1;32m     71\u001b[0m     \u001b[0mtopology\u001b[0m\u001b[0;34m.\u001b[0m\u001b[0msetPeriodicBoxVectors\u001b[0m\u001b[0;34m(\u001b[0m\u001b[0mbox\u001b[0m\u001b[0;34m)\u001b[0m\u001b[0;34m\u001b[0m\u001b[0;34m\u001b[0m\u001b[0m\n\u001b[0;32m---> 72\u001b[0;31m     \u001b[0;32mreturn\u001b[0m \u001b[0mopenmm_Topology_to_pdb\u001b[0m\u001b[0;34m(\u001b[0m\u001b[0mtopology\u001b[0m\u001b[0;34m,\u001b[0m \u001b[0moutput_filepath\u001b[0m\u001b[0;34m=\u001b[0m\u001b[0moutput_filepath\u001b[0m\u001b[0;34m,\u001b[0m \u001b[0mtrajectory_item\u001b[0m\u001b[0;34m=\u001b[0m\u001b[0mcoordinates\u001b[0m\u001b[0;34m)\u001b[0m\u001b[0;34m\u001b[0m\u001b[0;34m\u001b[0m\u001b[0m\n\u001b[0m\u001b[1;32m     73\u001b[0m \u001b[0;34m\u001b[0m\u001b[0m\n\u001b[1;32m     74\u001b[0m \u001b[0;32mdef\u001b[0m \u001b[0mextract\u001b[0m\u001b[0;34m(\u001b[0m\u001b[0mitem\u001b[0m\u001b[0;34m,\u001b[0m \u001b[0matom_indices\u001b[0m\u001b[0;34m=\u001b[0m\u001b[0;34m'all'\u001b[0m\u001b[0;34m,\u001b[0m \u001b[0mframe_indices\u001b[0m\u001b[0;34m=\u001b[0m\u001b[0;34m'all'\u001b[0m\u001b[0;34m)\u001b[0m\u001b[0;34m:\u001b[0m\u001b[0;34m\u001b[0m\u001b[0;34m\u001b[0m\u001b[0m\n",
      "\u001b[0;32m~/Proyectos/MolSysMT/molsysmt/forms/classes/api_openmm_Topology.py\u001b[0m in \u001b[0;36mto_pdb\u001b[0;34m(item, output_filepath, trajectory_item, atom_indices, frame_indices)\u001b[0m\n\u001b[1;32m    124\u001b[0m \u001b[0;34m\u001b[0m\u001b[0m\n\u001b[1;32m    125\u001b[0m     \u001b[0mtmp_io\u001b[0m \u001b[0;34m=\u001b[0m \u001b[0mStringIO\u001b[0m\u001b[0;34m(\u001b[0m\u001b[0;34m)\u001b[0m\u001b[0;34m\u001b[0m\u001b[0;34m\u001b[0m\u001b[0m\n\u001b[0;32m--> 126\u001b[0;31m     \u001b[0mPDBFile\u001b[0m\u001b[0;34m.\u001b[0m\u001b[0mwriteFile\u001b[0m\u001b[0;34m(\u001b[0m\u001b[0mtmp_item\u001b[0m\u001b[0;34m,\u001b[0m \u001b[0mcoordinates\u001b[0m\u001b[0;34m[\u001b[0m\u001b[0;36m0\u001b[0m\u001b[0;34m]\u001b[0m\u001b[0;34m,\u001b[0m \u001b[0mtmp_io\u001b[0m\u001b[0;34m,\u001b[0m \u001b[0mkeepIds\u001b[0m\u001b[0;34m=\u001b[0m\u001b[0;32mTrue\u001b[0m\u001b[0;34m)\u001b[0m\u001b[0;34m\u001b[0m\u001b[0;34m\u001b[0m\u001b[0m\n\u001b[0m\u001b[1;32m    127\u001b[0m     \u001b[0mfiledata\u001b[0m \u001b[0;34m=\u001b[0m \u001b[0mtmp_io\u001b[0m\u001b[0;34m.\u001b[0m\u001b[0mgetvalue\u001b[0m\u001b[0;34m(\u001b[0m\u001b[0;34m)\u001b[0m\u001b[0;34m\u001b[0m\u001b[0;34m\u001b[0m\u001b[0m\n\u001b[1;32m    128\u001b[0m     \u001b[0mfiledata\u001b[0m \u001b[0;34m=\u001b[0m \u001b[0mfiledata\u001b[0m\u001b[0;34m.\u001b[0m\u001b[0mreplace\u001b[0m\u001b[0;34m(\u001b[0m\u001b[0;34m'WITH OPENMM '\u001b[0m\u001b[0;34m+\u001b[0m\u001b[0mshort_version\u001b[0m\u001b[0;34m,\u001b[0m \u001b[0;34m'WITH OPENMM '\u001b[0m\u001b[0;34m+\u001b[0m\u001b[0mshort_version\u001b[0m\u001b[0;34m+\u001b[0m\u001b[0;34m' BY MOLSYSMT'\u001b[0m\u001b[0;34m)\u001b[0m\u001b[0;34m\u001b[0m\u001b[0;34m\u001b[0m\u001b[0m\n",
      "\u001b[0;32m~/Myusr/opt/miniconda3/envs/UIBCDF_lab_dev/lib/python3.7/site-packages/simtk/openmm/app/pdbfile.py\u001b[0m in \u001b[0;36mwriteFile\u001b[0;34m(topology, positions, file, keepIds, extraParticleIdentifier)\u001b[0m\n\u001b[1;32m    282\u001b[0m         \u001b[0mPDBFile\u001b[0m\u001b[0;34m.\u001b[0m\u001b[0mwriteHeader\u001b[0m\u001b[0;34m(\u001b[0m\u001b[0mtopology\u001b[0m\u001b[0;34m,\u001b[0m \u001b[0mfile\u001b[0m\u001b[0;34m)\u001b[0m\u001b[0;34m\u001b[0m\u001b[0;34m\u001b[0m\u001b[0m\n\u001b[1;32m    283\u001b[0m         \u001b[0mPDBFile\u001b[0m\u001b[0;34m.\u001b[0m\u001b[0mwriteModel\u001b[0m\u001b[0;34m(\u001b[0m\u001b[0mtopology\u001b[0m\u001b[0;34m,\u001b[0m \u001b[0mpositions\u001b[0m\u001b[0;34m,\u001b[0m \u001b[0mfile\u001b[0m\u001b[0;34m,\u001b[0m \u001b[0mkeepIds\u001b[0m\u001b[0;34m=\u001b[0m\u001b[0mkeepIds\u001b[0m\u001b[0;34m,\u001b[0m \u001b[0mextraParticleIdentifier\u001b[0m\u001b[0;34m=\u001b[0m\u001b[0mextraParticleIdentifier\u001b[0m\u001b[0;34m)\u001b[0m\u001b[0;34m\u001b[0m\u001b[0;34m\u001b[0m\u001b[0m\n\u001b[0;32m--> 284\u001b[0;31m         \u001b[0mPDBFile\u001b[0m\u001b[0;34m.\u001b[0m\u001b[0mwriteFooter\u001b[0m\u001b[0;34m(\u001b[0m\u001b[0mtopology\u001b[0m\u001b[0;34m,\u001b[0m \u001b[0mfile\u001b[0m\u001b[0;34m)\u001b[0m\u001b[0;34m\u001b[0m\u001b[0;34m\u001b[0m\u001b[0m\n\u001b[0m\u001b[1;32m    285\u001b[0m \u001b[0;34m\u001b[0m\u001b[0m\n\u001b[1;32m    286\u001b[0m     \u001b[0;34m@\u001b[0m\u001b[0mstaticmethod\u001b[0m\u001b[0;34m\u001b[0m\u001b[0;34m\u001b[0m\u001b[0m\n",
      "\u001b[0;32m~/Myusr/opt/miniconda3/envs/UIBCDF_lab_dev/lib/python3.7/site-packages/simtk/openmm/app/pdbfile.py\u001b[0m in \u001b[0;36mwriteFooter\u001b[0;34m(topology, file)\u001b[0m\n\u001b[1;32m    429\u001b[0m             \u001b[0matomBonds\u001b[0m \u001b[0;34m=\u001b[0m \u001b[0;34m{\u001b[0m\u001b[0;34m}\u001b[0m\u001b[0;34m\u001b[0m\u001b[0;34m\u001b[0m\u001b[0m\n\u001b[1;32m    430\u001b[0m             \u001b[0;32mfor\u001b[0m \u001b[0matom1\u001b[0m\u001b[0;34m,\u001b[0m \u001b[0matom2\u001b[0m \u001b[0;32min\u001b[0m \u001b[0mconectBonds\u001b[0m\u001b[0;34m:\u001b[0m\u001b[0;34m\u001b[0m\u001b[0;34m\u001b[0m\u001b[0m\n\u001b[0;32m--> 431\u001b[0;31m                 \u001b[0mindex1\u001b[0m \u001b[0;34m=\u001b[0m \u001b[0matomIndex\u001b[0m\u001b[0;34m[\u001b[0m\u001b[0matom1\u001b[0m\u001b[0;34m]\u001b[0m\u001b[0;34m\u001b[0m\u001b[0;34m\u001b[0m\u001b[0m\n\u001b[0m\u001b[1;32m    432\u001b[0m                 \u001b[0mindex2\u001b[0m \u001b[0;34m=\u001b[0m \u001b[0matomIndex\u001b[0m\u001b[0;34m[\u001b[0m\u001b[0matom2\u001b[0m\u001b[0;34m]\u001b[0m\u001b[0;34m\u001b[0m\u001b[0;34m\u001b[0m\u001b[0m\n\u001b[1;32m    433\u001b[0m                 \u001b[0;32mif\u001b[0m \u001b[0mindex1\u001b[0m \u001b[0;32mnot\u001b[0m \u001b[0;32min\u001b[0m \u001b[0matomBonds\u001b[0m\u001b[0;34m:\u001b[0m\u001b[0;34m\u001b[0m\u001b[0;34m\u001b[0m\u001b[0m\n",
      "\u001b[0;31mKeyError\u001b[0m: <Atom 4 (C) of chain 0 residue 0 (ACE)>"
     ]
    }
   ],
   "source": [
    "msm.energy_minimization(msm.test_systems.files.alanine_dipeptide['vacuum.pdb'],\n",
    "                        forcefield=['AMBER14'], platform='CPU', to_form='vacuum_min.pdb')"
   ]
  },
  {
   "cell_type": "code",
   "execution_count": 43,
   "metadata": {},
   "outputs": [
    {
     "name": "stdout",
     "output_type": "stream",
     "text": [
      "Potential Energy before minimization: -13.327186546548493 kcal/mol\n",
      "Potential Energy after minimization: -20.756651209358427 kcal/mol\n"
     ]
    }
   ],
   "source": [
    "tt = msm.energy_minimization(msm.test_systems.files.alanine_dipeptide['vacuum.pdb'],\n",
    "                        forcefield=['AMBER14'], platform='CPU', to_form='openmm.Topology')"
   ]
  },
  {
   "cell_type": "code",
   "execution_count": 44,
   "metadata": {},
   "outputs": [],
   "source": [
    "position = msm.get(msm.test_systems.files.alanine_dipeptide['vacuum.pdb'], coordinates=True)"
   ]
  },
  {
   "cell_type": "code",
   "execution_count": 45,
   "metadata": {},
   "outputs": [
    {
     "data": {
      "text/plain": [
       "Quantity(value=array([[[ 0.2   ,  0.1   , -0.    ],\n",
       "        [ 0.2   ,  0.209 ,  0.    ],\n",
       "        [ 0.1486,  0.2454,  0.089 ],\n",
       "        ...,\n",
       "        [ 0.4819,  0.8648,  0.    ],\n",
       "        [ 0.636 ,  0.8648,  0.089 ],\n",
       "        [ 0.636 ,  0.8648, -0.089 ]]]), unit=nanometer)"
      ]
     },
     "execution_count": 45,
     "metadata": {},
     "output_type": "execute_result"
    }
   ],
   "source": [
    "position"
   ]
  },
  {
   "cell_type": "code",
   "execution_count": 49,
   "metadata": {},
   "outputs": [],
   "source": [
    "from simtk.openmm.app import PDBFile\n",
    "from io import StringIO"
   ]
  },
  {
   "cell_type": "code",
   "execution_count": 50,
   "metadata": {},
   "outputs": [],
   "source": [
    "tmp_io = StringIO()"
   ]
  },
  {
   "cell_type": "code",
   "execution_count": 57,
   "metadata": {},
   "outputs": [
    {
     "name": "stdout",
     "output_type": "stream",
     "text": [
      "<Atom 0 (H1) of chain 0 residue 0 (ACE)>\n",
      "<Atom 1 (CH3) of chain 0 residue 0 (ACE)>\n",
      "<Atom 2 (H2) of chain 0 residue 0 (ACE)>\n",
      "<Atom 3 (H3) of chain 0 residue 0 (ACE)>\n",
      "<Atom 4 (C) of chain 0 residue 0 (ACE)>\n",
      "<Atom 5 (O) of chain 0 residue 0 (ACE)>\n",
      "<Atom 6 (N) of chain 0 residue 1 (ALA)>\n",
      "<Atom 7 (H) of chain 0 residue 1 (ALA)>\n",
      "<Atom 8 (CA) of chain 0 residue 1 (ALA)>\n",
      "<Atom 9 (HA) of chain 0 residue 1 (ALA)>\n",
      "<Atom 10 (CB) of chain 0 residue 1 (ALA)>\n",
      "<Atom 11 (HB1) of chain 0 residue 1 (ALA)>\n",
      "<Atom 12 (HB2) of chain 0 residue 1 (ALA)>\n",
      "<Atom 13 (HB3) of chain 0 residue 1 (ALA)>\n",
      "<Atom 14 (C) of chain 0 residue 1 (ALA)>\n",
      "<Atom 15 (O) of chain 0 residue 1 (ALA)>\n",
      "<Atom 16 (N) of chain 0 residue 2 (NME)>\n",
      "<Atom 17 (H) of chain 0 residue 2 (NME)>\n",
      "<Atom 18 (C) of chain 0 residue 2 (NME)>\n",
      "<Atom 19 (H1) of chain 0 residue 2 (NME)>\n",
      "<Atom 20 (H2) of chain 0 residue 2 (NME)>\n",
      "<Atom 21 (H3) of chain 0 residue 2 (NME)>\n",
      "<Atom 4 (C) of chain 0 residue 0 (ACE)> <Atom 1 (CH3) of chain 0 residue 0 (ACE)> False\n"
     ]
    },
    {
     "ename": "KeyError",
     "evalue": "<Atom 4 (C) of chain 0 residue 0 (ACE)>",
     "output_type": "error",
     "traceback": [
      "\u001b[0;31m---------------------------------------------------------------------------\u001b[0m",
      "\u001b[0;31mKeyError\u001b[0m                                  Traceback (most recent call last)",
      "\u001b[0;32m<ipython-input-57-cbc0afdaa652>\u001b[0m in \u001b[0;36m<module>\u001b[0;34m\u001b[0m\n\u001b[0;32m----> 1\u001b[0;31m \u001b[0mPDBFile\u001b[0m\u001b[0;34m.\u001b[0m\u001b[0mwriteFile\u001b[0m\u001b[0;34m(\u001b[0m\u001b[0mtt\u001b[0m\u001b[0;34m,\u001b[0m \u001b[0mposition\u001b[0m\u001b[0;34m[\u001b[0m\u001b[0;36m0\u001b[0m\u001b[0;34m]\u001b[0m\u001b[0;34m,\u001b[0m \u001b[0mtmp_io\u001b[0m\u001b[0;34m)\u001b[0m\u001b[0;34m\u001b[0m\u001b[0;34m\u001b[0m\u001b[0m\n\u001b[0m",
      "\u001b[0;32m~/Myusr/opt/miniconda3/envs/UIBCDF_lab_dev/lib/python3.7/site-packages/simtk/openmm/app/pdbfile.py\u001b[0m in \u001b[0;36mwriteFile\u001b[0;34m(topology, positions, file, keepIds, extraParticleIdentifier)\u001b[0m\n\u001b[1;32m    282\u001b[0m         \u001b[0mPDBFile\u001b[0m\u001b[0;34m.\u001b[0m\u001b[0mwriteHeader\u001b[0m\u001b[0;34m(\u001b[0m\u001b[0mtopology\u001b[0m\u001b[0;34m,\u001b[0m \u001b[0mfile\u001b[0m\u001b[0;34m)\u001b[0m\u001b[0;34m\u001b[0m\u001b[0;34m\u001b[0m\u001b[0m\n\u001b[1;32m    283\u001b[0m         \u001b[0mPDBFile\u001b[0m\u001b[0;34m.\u001b[0m\u001b[0mwriteModel\u001b[0m\u001b[0;34m(\u001b[0m\u001b[0mtopology\u001b[0m\u001b[0;34m,\u001b[0m \u001b[0mpositions\u001b[0m\u001b[0;34m,\u001b[0m \u001b[0mfile\u001b[0m\u001b[0;34m,\u001b[0m \u001b[0mkeepIds\u001b[0m\u001b[0;34m=\u001b[0m\u001b[0mkeepIds\u001b[0m\u001b[0;34m,\u001b[0m \u001b[0mextraParticleIdentifier\u001b[0m\u001b[0;34m=\u001b[0m\u001b[0mextraParticleIdentifier\u001b[0m\u001b[0;34m)\u001b[0m\u001b[0;34m\u001b[0m\u001b[0;34m\u001b[0m\u001b[0m\n\u001b[0;32m--> 284\u001b[0;31m         \u001b[0mPDBFile\u001b[0m\u001b[0;34m.\u001b[0m\u001b[0mwriteFooter\u001b[0m\u001b[0;34m(\u001b[0m\u001b[0mtopology\u001b[0m\u001b[0;34m,\u001b[0m \u001b[0mfile\u001b[0m\u001b[0;34m)\u001b[0m\u001b[0;34m\u001b[0m\u001b[0;34m\u001b[0m\u001b[0m\n\u001b[0m\u001b[1;32m    285\u001b[0m \u001b[0;34m\u001b[0m\u001b[0m\n\u001b[1;32m    286\u001b[0m     \u001b[0;34m@\u001b[0m\u001b[0mstaticmethod\u001b[0m\u001b[0;34m\u001b[0m\u001b[0;34m\u001b[0m\u001b[0m\n",
      "\u001b[0;32m~/Myusr/opt/miniconda3/envs/UIBCDF_lab_dev/lib/python3.7/site-packages/simtk/openmm/app/pdbfile.py\u001b[0m in \u001b[0;36mwriteFooter\u001b[0;34m(topology, file)\u001b[0m\n\u001b[1;32m    431\u001b[0m             \u001b[0;32mfor\u001b[0m \u001b[0matom1\u001b[0m\u001b[0;34m,\u001b[0m \u001b[0matom2\u001b[0m \u001b[0;32min\u001b[0m \u001b[0mconectBonds\u001b[0m\u001b[0;34m:\u001b[0m\u001b[0;34m\u001b[0m\u001b[0;34m\u001b[0m\u001b[0m\n\u001b[1;32m    432\u001b[0m                 \u001b[0mprint\u001b[0m\u001b[0;34m(\u001b[0m\u001b[0matom1\u001b[0m\u001b[0;34m,\u001b[0m \u001b[0matom2\u001b[0m\u001b[0;34m,\u001b[0m \u001b[0matom1\u001b[0m \u001b[0;32min\u001b[0m \u001b[0matomIndex\u001b[0m\u001b[0;34m)\u001b[0m\u001b[0;34m\u001b[0m\u001b[0;34m\u001b[0m\u001b[0m\n\u001b[0;32m--> 433\u001b[0;31m                 \u001b[0mindex1\u001b[0m \u001b[0;34m=\u001b[0m \u001b[0matomIndex\u001b[0m\u001b[0;34m[\u001b[0m\u001b[0matom1\u001b[0m\u001b[0;34m]\u001b[0m\u001b[0;34m\u001b[0m\u001b[0;34m\u001b[0m\u001b[0m\n\u001b[0m\u001b[1;32m    434\u001b[0m                 \u001b[0mindex2\u001b[0m \u001b[0;34m=\u001b[0m \u001b[0matomIndex\u001b[0m\u001b[0;34m[\u001b[0m\u001b[0matom2\u001b[0m\u001b[0;34m]\u001b[0m\u001b[0;34m\u001b[0m\u001b[0;34m\u001b[0m\u001b[0m\n\u001b[1;32m    435\u001b[0m                 \u001b[0;32mif\u001b[0m \u001b[0mindex1\u001b[0m \u001b[0;32mnot\u001b[0m \u001b[0;32min\u001b[0m \u001b[0matomBonds\u001b[0m\u001b[0;34m:\u001b[0m\u001b[0;34m\u001b[0m\u001b[0;34m\u001b[0m\u001b[0m\n",
      "\u001b[0;31mKeyError\u001b[0m: <Atom 4 (C) of chain 0 residue 0 (ACE)>"
     ]
    }
   ],
   "source": [
    "\n",
    "PDBFile.writeFile(tt, position[0], tmp_io)"
   ]
  },
  {
   "cell_type": "code",
   "execution_count": 70,
   "metadata": {},
   "outputs": [],
   "source": [
    "test_list = []\n",
    "for chain in topology.chains():\n",
    "    for atom in chain.atoms():\n",
    "        test_list.append(atom)"
   ]
  },
  {
   "cell_type": "code",
   "execution_count": 71,
   "metadata": {},
   "outputs": [
    {
     "name": "stdout",
     "output_type": "stream",
     "text": [
      "False\n",
      "False\n",
      "False\n",
      "False\n",
      "False\n",
      "False\n",
      "False\n",
      "False\n",
      "False\n",
      "False\n",
      "False\n",
      "False\n",
      "False\n",
      "False\n",
      "False\n",
      "False\n",
      "False\n",
      "False\n",
      "False\n",
      "False\n",
      "False\n"
     ]
    }
   ],
   "source": [
    "for atom1, atom2 in topology.bonds():\n",
    "    print(atom1 in test_list)"
   ]
  },
  {
   "cell_type": "code",
   "execution_count": 63,
   "metadata": {},
   "outputs": [
    {
     "name": "stdout",
     "output_type": "stream",
     "text": [
      "A\n",
      "A\n",
      "A\n",
      "A\n",
      "A\n",
      "A\n",
      "A\n",
      "A\n",
      "A\n",
      "A\n",
      "A\n",
      "A\n",
      "A\n",
      "A\n",
      "A\n",
      "A\n",
      "A\n",
      "A\n",
      "A\n",
      "A\n",
      "A\n",
      "A\n"
     ]
    }
   ],
   "source": [
    "for chain in topology.chains():\n",
    "    for atom in chain.atoms():\n",
    "        print(test_dict[atom])"
   ]
  },
  {
   "cell_type": "code",
   "execution_count": 59,
   "metadata": {},
   "outputs": [
    {
     "name": "stdout",
     "output_type": "stream",
     "text": [
      "<Atom 0 (H1) of chain 0 residue 0 (ACE)>\n",
      "<Atom 4 (C) of chain 0 residue 0 (ACE)> <Atom 1 (CH3) of chain 0 residue 0 (ACE)> False\n"
     ]
    },
    {
     "ename": "KeyError",
     "evalue": "<Atom 4 (C) of chain 0 residue 0 (ACE)>",
     "output_type": "error",
     "traceback": [
      "\u001b[0;31m---------------------------------------------------------------------------\u001b[0m",
      "\u001b[0;31mKeyError\u001b[0m                                  Traceback (most recent call last)",
      "\u001b[0;32m<ipython-input-59-8f47b63410f9>\u001b[0m in \u001b[0;36m<module>\u001b[0;34m\u001b[0m\n\u001b[1;32m     21\u001b[0m \u001b[0;32mfor\u001b[0m \u001b[0matom1\u001b[0m\u001b[0;34m,\u001b[0m \u001b[0matom2\u001b[0m \u001b[0;32min\u001b[0m \u001b[0mconectBonds\u001b[0m\u001b[0;34m:\u001b[0m\u001b[0;34m\u001b[0m\u001b[0;34m\u001b[0m\u001b[0m\n\u001b[1;32m     22\u001b[0m     \u001b[0mprint\u001b[0m\u001b[0;34m(\u001b[0m\u001b[0matom1\u001b[0m\u001b[0;34m,\u001b[0m \u001b[0matom2\u001b[0m\u001b[0;34m,\u001b[0m \u001b[0matom1\u001b[0m \u001b[0;32min\u001b[0m \u001b[0matomIndex\u001b[0m\u001b[0;34m)\u001b[0m\u001b[0;34m\u001b[0m\u001b[0;34m\u001b[0m\u001b[0m\n\u001b[0;32m---> 23\u001b[0;31m     \u001b[0mindex1\u001b[0m \u001b[0;34m=\u001b[0m \u001b[0matomIndex\u001b[0m\u001b[0;34m[\u001b[0m\u001b[0matom1\u001b[0m\u001b[0;34m]\u001b[0m\u001b[0;34m\u001b[0m\u001b[0;34m\u001b[0m\u001b[0m\n\u001b[0m\u001b[1;32m     24\u001b[0m     \u001b[0mindex2\u001b[0m \u001b[0;34m=\u001b[0m \u001b[0matomIndex\u001b[0m\u001b[0;34m[\u001b[0m\u001b[0matom2\u001b[0m\u001b[0;34m]\u001b[0m\u001b[0;34m\u001b[0m\u001b[0;34m\u001b[0m\u001b[0m\n\u001b[1;32m     25\u001b[0m     \u001b[0;32mif\u001b[0m \u001b[0mindex1\u001b[0m \u001b[0;32mnot\u001b[0m \u001b[0;32min\u001b[0m \u001b[0matomBonds\u001b[0m\u001b[0;34m:\u001b[0m\u001b[0;34m\u001b[0m\u001b[0;34m\u001b[0m\u001b[0m\n",
      "\u001b[0;31mKeyError\u001b[0m: <Atom 4 (C) of chain 0 residue 0 (ACE)>"
     ]
    }
   ],
   "source": [
    "topology = tt\n",
    "\n",
    "conectBonds = []\n",
    "for atom1, atom2 in topology.bonds():\n",
    "    conectBonds.append((atom1, atom2))\n",
    "\n",
    "atomIndex = {}\n",
    "nextAtomIndex = 0\n",
    "prevChain = None\n",
    "for chain in topology.chains():\n",
    "    for atom in chain.atoms():\n",
    "        if atom.residue.chain != prevChain:\n",
    "            nextAtomIndex += 1\n",
    "            prevChain = atom.residue.chain\n",
    "            atomIndex[atom] = nextAtomIndex\n",
    "            print(atom)\n",
    "            nextAtomIndex += 1\n",
    "\n",
    "atomBonds = {}\n",
    "for atom1, atom2 in conectBonds:\n",
    "    print(atom1, atom2, atom1 in atomIndex)\n",
    "    index1 = atomIndex[atom1]\n",
    "    index2 = atomIndex[atom2]\n",
    "    if index1 not in atomBonds:\n",
    "        atomBonds[index1] = []\n",
    "    if index2 not in atomBonds:\n",
    "        atomBonds[index2] = []\n",
    "    atomBonds[index1].append(index2)\n",
    "    atomBonds[index2].append(index1)\n"
   ]
  },
  {
   "cell_type": "code",
   "execution_count": null,
   "metadata": {},
   "outputs": [],
   "source": []
  }
 ],
 "metadata": {
  "kernelspec": {
   "display_name": "Python 3",
   "language": "python",
   "name": "python3"
  },
  "language_info": {
   "codemirror_mode": {
    "name": "ipython",
    "version": 3
   },
   "file_extension": ".py",
   "mimetype": "text/x-python",
   "name": "python",
   "nbconvert_exporter": "python",
   "pygments_lexer": "ipython3",
   "version": "3.7.9"
  }
 },
 "nbformat": 4,
 "nbformat_minor": 4
}
