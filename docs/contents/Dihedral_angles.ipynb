{
 "cells": [
  {
   "cell_type": "code",
   "execution_count": 3,
   "metadata": {},
   "outputs": [],
   "source": [
    "%load_ext autoreload\n",
    "%autoreload 2"
   ]
  },
  {
   "cell_type": "code",
   "execution_count": 4,
   "metadata": {},
   "outputs": [],
   "source": [
    "import molsysmt as msm"
   ]
  },
  {
   "cell_type": "markdown",
   "metadata": {},
   "source": [
    "# Dihedral angles"
   ]
  },
  {
   "cell_type": "code",
   "execution_count": 6,
   "metadata": {},
   "outputs": [],
   "source": [
    "molecular_system = msm.test_systems.files['1tcd.pdb']"
   ]
  },
  {
   "cell_type": "code",
   "execution_count": 7,
   "metadata": {},
   "outputs": [],
   "source": [
    "molecular_system = msm.convert(molecular_system, 'molsysmt.MolSys')"
   ]
  },
  {
   "cell_type": "code",
   "execution_count": 11,
   "metadata": {},
   "outputs": [],
   "source": [
    "molecular_system = msm.remove_solvent(molecular_system)"
   ]
  },
  {
   "cell_type": "code",
   "execution_count": 12,
   "metadata": {},
   "outputs": [
    {
     "data": {
      "text/html": [
       "<style  type=\"text/css\" >\n",
       "</style><table id=\"T_7b42bfa6_b382_11ea_a851_097453f39733\" ><thead>    <tr>        <th class=\"col_heading level0 col0\" >form</th>        <th class=\"col_heading level0 col1\" >n_atoms</th>        <th class=\"col_heading level0 col2\" >n_groups</th>        <th class=\"col_heading level0 col3\" >n_components</th>        <th class=\"col_heading level0 col4\" >n_chains</th>        <th class=\"col_heading level0 col5\" >n_molecules</th>        <th class=\"col_heading level0 col6\" >n_entities</th>        <th class=\"col_heading level0 col7\" >n_peptides</th>        <th class=\"col_heading level0 col8\" >n_frames</th>    </tr></thead><tbody>\n",
       "                <tr>\n",
       "                                <td id=\"T_7b42bfa6_b382_11ea_a851_097453f39733row0_col0\" class=\"data row0 col0\" >molsysmt.MolSys</td>\n",
       "                        <td id=\"T_7b42bfa6_b382_11ea_a851_097453f39733row0_col1\" class=\"data row0 col1\" >3818</td>\n",
       "                        <td id=\"T_7b42bfa6_b382_11ea_a851_097453f39733row0_col2\" class=\"data row0 col2\" >497</td>\n",
       "                        <td id=\"T_7b42bfa6_b382_11ea_a851_097453f39733row0_col3\" class=\"data row0 col3\" >2</td>\n",
       "                        <td id=\"T_7b42bfa6_b382_11ea_a851_097453f39733row0_col4\" class=\"data row0 col4\" >2</td>\n",
       "                        <td id=\"T_7b42bfa6_b382_11ea_a851_097453f39733row0_col5\" class=\"data row0 col5\" >2</td>\n",
       "                        <td id=\"T_7b42bfa6_b382_11ea_a851_097453f39733row0_col6\" class=\"data row0 col6\" >2</td>\n",
       "                        <td id=\"T_7b42bfa6_b382_11ea_a851_097453f39733row0_col7\" class=\"data row0 col7\" >2</td>\n",
       "                        <td id=\"T_7b42bfa6_b382_11ea_a851_097453f39733row0_col8\" class=\"data row0 col8\" >1</td>\n",
       "            </tr>\n",
       "    </tbody></table>"
      ],
      "text/plain": [
       "<pandas.io.formats.style.Styler at 0x7f1bf2a4d390>"
      ]
     },
     "execution_count": 12,
     "metadata": {},
     "output_type": "execute_result"
    }
   ],
   "source": [
    "msm.info(molecular_system)"
   ]
  },
  {
   "cell_type": "markdown",
   "metadata": {},
   "source": [
    "## Covalent chains"
   ]
  },
  {
   "cell_type": "code",
   "execution_count": 13,
   "metadata": {},
   "outputs": [
    {
     "data": {
      "text/plain": [
       "[array([   2,   11,   18, ..., 1886, 1891, 1898]),\n",
       " array([   0,    9,   16, ..., 1884, 1889, 1896]),\n",
       " array([   1,   10,   17, ..., 1885, 1890, 1897]),\n",
       " array([   2,   11,   18, ..., 1886, 1891, 1898])]"
      ]
     },
     "execution_count": 13,
     "metadata": {},
     "output_type": "execute_result"
    }
   ],
   "source": [
    "msm.covalent_chains(molecular_system, chain=[\"C\", \"N\", \"CA\", \"C\"],\n",
    "                    selection=\"component_index==0\")"
   ]
  },
  {
   "cell_type": "code",
   "execution_count": null,
   "metadata": {},
   "outputs": [],
   "source": [
    "msm.get(molecular_system, selection=\"component_index==0\",)"
   ]
  }
 ],
 "metadata": {
  "kernelspec": {
   "display_name": "Python 3",
   "language": "python",
   "name": "python3"
  },
  "language_info": {
   "codemirror_mode": {
    "name": "ipython",
    "version": 3
   },
   "file_extension": ".py",
   "mimetype": "text/x-python",
   "name": "python",
   "nbconvert_exporter": "python",
   "pygments_lexer": "ipython3",
   "version": "3.7.7"
  }
 },
 "nbformat": 4,
 "nbformat_minor": 4
}
