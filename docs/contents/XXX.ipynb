{
 "cells": [
  {
   "cell_type": "code",
   "execution_count": 1,
   "metadata": {},
   "outputs": [],
   "source": [
    "%load_ext autoreload\n",
    "%autoreload 2"
   ]
  },
  {
   "cell_type": "code",
   "execution_count": 2,
   "metadata": {},
   "outputs": [
    {
     "data": {
      "application/vnd.jupyter.widget-view+json": {
       "model_id": "991086b150654e08af7f535193194ab4",
       "version_major": 2,
       "version_minor": 0
      },
      "text/plain": [
       "_ColormakerRegistry()"
      ]
     },
     "metadata": {},
     "output_type": "display_data"
    }
   ],
   "source": [
    "import molsysmt as msm\n",
    "from matplotlib import pyplot as plt\n",
    "import simtk.unit as unit\n",
    "import seaborn as sns\n",
    "import numpy as np"
   ]
  },
  {
   "cell_type": "code",
   "execution_count": 3,
   "metadata": {},
   "outputs": [],
   "source": [
    "#molecular_system_a = msm.convert('mmtf:2GDL', 'molsysmt.MolSys')\n",
    "#molecular_system_b = msm.convert('pdb:2GDL', 'molsysmt.MolSys')\n",
    "#mmtf = msm.convert('pdb:2GDL', 'mmtf.MMTFDecoder')"
   ]
  },
  {
   "cell_type": "code",
   "execution_count": 4,
   "metadata": {},
   "outputs": [],
   "source": [
    "pdbfile = msm.test_systems.files['trp-cage.pdb']\n",
    "molecular_system = msm.convert(pdbfile)"
   ]
  },
  {
   "cell_type": "code",
   "execution_count": 5,
   "metadata": {},
   "outputs": [
    {
     "data": {
      "text/html": [
       "<style  type=\"text/css\" >\n",
       "</style><table id=\"T_9f8f0a5e_9fa0_11ea_9e95_45b5aa77a0f4\" ><thead>    <tr>        <th class=\"col_heading level0 col0\" >form</th>        <th class=\"col_heading level0 col1\" >n atoms</th>        <th class=\"col_heading level0 col2\" >n groups</th>        <th class=\"col_heading level0 col3\" >n components</th>        <th class=\"col_heading level0 col4\" >n chains</th>        <th class=\"col_heading level0 col5\" >n molecules</th>        <th class=\"col_heading level0 col6\" >n entities</th>        <th class=\"col_heading level0 col7\" >n frames</th>    </tr></thead><tbody>\n",
       "                <tr>\n",
       "                                <td id=\"T_9f8f0a5e_9fa0_11ea_9e95_45b5aa77a0f4row0_col0\" class=\"data row0 col0\" >molsysmt.MolSys</td>\n",
       "                        <td id=\"T_9f8f0a5e_9fa0_11ea_9e95_45b5aa77a0f4row0_col1\" class=\"data row0 col1\" >304</td>\n",
       "                        <td id=\"T_9f8f0a5e_9fa0_11ea_9e95_45b5aa77a0f4row0_col2\" class=\"data row0 col2\" >20</td>\n",
       "                        <td id=\"T_9f8f0a5e_9fa0_11ea_9e95_45b5aa77a0f4row0_col3\" class=\"data row0 col3\" >1</td>\n",
       "                        <td id=\"T_9f8f0a5e_9fa0_11ea_9e95_45b5aa77a0f4row0_col4\" class=\"data row0 col4\" >1</td>\n",
       "                        <td id=\"T_9f8f0a5e_9fa0_11ea_9e95_45b5aa77a0f4row0_col5\" class=\"data row0 col5\" >1</td>\n",
       "                        <td id=\"T_9f8f0a5e_9fa0_11ea_9e95_45b5aa77a0f4row0_col6\" class=\"data row0 col6\" >1</td>\n",
       "                        <td id=\"T_9f8f0a5e_9fa0_11ea_9e95_45b5aa77a0f4row0_col7\" class=\"data row0 col7\" >38</td>\n",
       "            </tr>\n",
       "    </tbody></table>"
      ],
      "text/plain": [
       "<pandas.io.formats.style.Styler at 0x7fdbdd9c20d0>"
      ]
     },
     "execution_count": 5,
     "metadata": {},
     "output_type": "execute_result"
    }
   ],
   "source": [
    "msm.info(molecular_system)"
   ]
  },
  {
   "cell_type": "code",
   "execution_count": 7,
   "metadata": {},
   "outputs": [
    {
     "name": "stdout",
     "output_type": "stream",
     "text": [
      "Working directory: /tmp/tmpsphpi4rd\n",
      "-I: Adding /home/diego/Myusr/opt/miniconda3/envs/UIBCDF_lab_dev/dat/leap/prep to search path.\n",
      "-I: Adding /home/diego/Myusr/opt/miniconda3/envs/UIBCDF_lab_dev/dat/leap/lib to search path.\n",
      "-I: Adding /home/diego/Myusr/opt/miniconda3/envs/UIBCDF_lab_dev/dat/leap/parm to search path.\n",
      "-I: Adding /home/diego/Myusr/opt/miniconda3/envs/UIBCDF_lab_dev/dat/leap/cmd to search path.\n",
      "-f: Source leap.in.\n",
      "\n",
      "Welcome to LEaP!\n",
      "(no leaprc in search path)\n",
      "Sourcing: ./leap.in\n",
      "----- Source: /home/diego/Myusr/opt/miniconda3/envs/UIBCDF_lab_dev/dat/leap/cmd/oldff/leaprc.ff99SBildn\n",
      "----- Source of /home/diego/Myusr/opt/miniconda3/envs/UIBCDF_lab_dev/dat/leap/cmd/oldff/leaprc.ff99SBildn done\n",
      "Log file: ./leap.log\n",
      "Loading parameters: /home/diego/Myusr/opt/miniconda3/envs/UIBCDF_lab_dev/dat/leap/parm/parm99.dat\n",
      "Reading title:\n",
      "PARM99 for DNA,RNA,AA, organic molecules, TIP3P wat. Polariz.& LP incl.02/04/99\n",
      "Loading parameters: /home/diego/Myusr/opt/miniconda3/envs/UIBCDF_lab_dev/dat/leap/parm/frcmod.ff99SBildn\n",
      "Reading force field modification type file (frcmod)\n",
      "Reading title:\n",
      "Modification/update of parm99.dat (Hornak & Simmerling) + ILDN corrections\n",
      "Loading library: /home/diego/Myusr/opt/miniconda3/envs/UIBCDF_lab_dev/dat/leap/lib/all_nucleic94.lib\n",
      "Loading library: /home/diego/Myusr/opt/miniconda3/envs/UIBCDF_lab_dev/dat/leap/lib/all_amino94ildn.lib\n",
      "Loading library: /home/diego/Myusr/opt/miniconda3/envs/UIBCDF_lab_dev/dat/leap/lib/all_aminoct94ildn.lib\n",
      "Loading library: /home/diego/Myusr/opt/miniconda3/envs/UIBCDF_lab_dev/dat/leap/lib/all_aminont94ildn.lib\n",
      "Loading library: /home/diego/Myusr/opt/miniconda3/envs/UIBCDF_lab_dev/dat/leap/lib/ions94.lib\n",
      "Loading library: /home/diego/Myusr/opt/miniconda3/envs/UIBCDF_lab_dev/dat/leap/lib/solvents.lib\n",
      "----- Source: /home/diego/Myusr/opt/miniconda3/envs/UIBCDF_lab_dev/dat/leap/cmd/leaprc.water.tip3p\n",
      "----- Source of /home/diego/Myusr/opt/miniconda3/envs/UIBCDF_lab_dev/dat/leap/cmd/leaprc.water.tip3p done\n",
      "Loading library: /home/diego/Myusr/opt/miniconda3/envs/UIBCDF_lab_dev/dat/leap/lib/atomic_ions.lib\n",
      "Loading library: /home/diego/Myusr/opt/miniconda3/envs/UIBCDF_lab_dev/dat/leap/lib/solvents.lib\n",
      "Loading parameters: /home/diego/Myusr/opt/miniconda3/envs/UIBCDF_lab_dev/dat/leap/parm/frcmod.tip3p\n",
      "Reading force field modification type file (frcmod)\n",
      "Reading title:\n",
      "This is the additional/replacement parameter set for TIP3P water\n",
      "Loading parameters: /home/diego/Myusr/opt/miniconda3/envs/UIBCDF_lab_dev/dat/leap/parm/frcmod.ionsjc_tip3p\n",
      "Reading force field modification type file (frcmod)\n",
      "Reading title:\n",
      "Monovalent ion parameters for Ewald and TIP3P water from Joung & Cheatham JPCB (2008)\n",
      "Loading parameters: /home/diego/Myusr/opt/miniconda3/envs/UIBCDF_lab_dev/dat/leap/parm/frcmod.ions234lm_126_tip3p\n",
      "Reading force field modification type file (frcmod)\n",
      "Reading title:\n",
      "Li/Merz ion parameters of divalent to tetravalent ions for TIP3P water model (12-6 normal usage set)\n",
      "Loading PDB file: ./tmpalqd4fxp.pdb\n",
      "Created a new atom named: H within residue: .R<NASN 1>\n",
      "  total atoms in file: 304\n",
      "  Leap added 1 missing atom according to residue templates:\n",
      "       1 H / lone pairs\n",
      "  The file contained 1 atoms not in residue templates\n",
      "\n",
      "/home/diego/Myusr/opt/miniconda3/envs/UIBCDF_lab_dev/bin/teLeap: Warning!\n",
      "Since the number of added atoms equals the number of missing atoms, it is likely\n",
      "that some atoms had incorrect names; you may want to use addPdbAtomMap to map\n",
      "these names, or change the names in the PDB file.\n",
      "\n",
      "Scaling up box by a factor of 1.229251 to meet diagonal cut criterion\n",
      "  Solute vdw bounding box:              26.059 23.207 16.292\n",
      "  Total bounding box for atom centers:  60.478 60.478 60.478\n",
      "      (box expansion for 'iso' is  25.2%)\n",
      "  Solvent unit box:                     18.774 18.774 18.774\n",
      "  Volume: 116178.318 A^3 (oct)\n",
      "  Mass > 60956.658 amu,  Density > 0.871 g/cc\n",
      "      (type - hence mass - of one or more atoms could not be found)\n",
      "  Added 3263 residues.\n",
      "1 Cl- ion required to neutralize.\n",
      "Adding 1 counter ions to \"MolecularSystem\". 3262 solvent molecules will remain.\n",
      "0: Placed Cl- in MolecularSystem at (-8.73, 5.12, -17.20).\n",
      "\n",
      "/home/diego/Myusr/opt/miniconda3/envs/UIBCDF_lab_dev/bin/teLeap: Warning!\n",
      "addIonsRand: 1st Ion & target unit have charges of the same sign:\n",
      "     unit charge = 4.44089e-15; ion1 charge = 1;\n",
      "     can't neutralize.\n",
      "Writing pdb file: tmps54kdczq.pdb\n",
      "   printing CRYST1 record to PDB file with box info\n",
      "\n",
      "/home/diego/Myusr/opt/miniconda3/envs/UIBCDF_lab_dev/bin/teLeap: Warning!\n",
      " Converting N-terminal residue name to PDB format: NASN -> ASN\n",
      "\n",
      "/home/diego/Myusr/opt/miniconda3/envs/UIBCDF_lab_dev/bin/teLeap: Warning!\n",
      " Converting C-terminal residue name to PDB format: CSER -> SER\n",
      "\tQuit\n",
      "\n",
      "Exiting LEaP: Errors = 0; Warnings = 4; Notes = 0.\n",
      "\n"
     ]
    },
    {
     "ename": "KeyError",
     "evalue": "'pdb'",
     "output_type": "error",
     "traceback": [
      "\u001b[0;31m---------------------------------------------------------------------------\u001b[0m",
      "\u001b[0;31mKeyError\u001b[0m                                  Traceback (most recent call last)",
      "\u001b[0;32m<ipython-input-7-d371214ceb7e>\u001b[0m in \u001b[0;36m<module>\u001b[0;34m\u001b[0m\n\u001b[1;32m      1\u001b[0m msm.solvate(molecular_system, box_geometry=\"truncated_octahedral\", clearance=14.0*unit.angstroms,\n\u001b[0;32m----> 2\u001b[0;31m             to_form= 'trp-cage-solvated.pdb', logfile=True, verbose=True)\n\u001b[0m",
      "\u001b[0;32m~/Proyectos/MolSysMT/molsysmt/solvate_box.py\u001b[0m in \u001b[0;36msolvate\u001b[0;34m(item, box_geometry, clearance, water, anion, num_anions, cation, num_cations, forcefield, engine, to_form, logfile, verbose)\u001b[0m\n\u001b[1;32m    103\u001b[0m             \u001b[0mcopyfile\u001b[0m\u001b[0;34m(\u001b[0m\u001b[0mtmp_logfile\u001b[0m\u001b[0;34m,\u001b[0m \u001b[0mcurrent_directory\u001b[0m\u001b[0;34m+\u001b[0m\u001b[0;34m'/build_peptide.log'\u001b[0m\u001b[0;34m)\u001b[0m\u001b[0;34m\u001b[0m\u001b[0;34m\u001b[0m\u001b[0m\n\u001b[1;32m    104\u001b[0m \u001b[0;34m\u001b[0m\u001b[0m\n\u001b[0;32m--> 105\u001b[0;31m         \u001b[0mtmp_item\u001b[0m \u001b[0;34m=\u001b[0m \u001b[0mconvert\u001b[0m\u001b[0;34m(\u001b[0m\u001b[0mpdbfile_out\u001b[0m\u001b[0;34m,\u001b[0m \u001b[0mto_form\u001b[0m\u001b[0;34m=\u001b[0m\u001b[0mto_form\u001b[0m\u001b[0;34m)\u001b[0m\u001b[0;34m\u001b[0m\u001b[0;34m\u001b[0m\u001b[0m\n\u001b[0m\u001b[1;32m    106\u001b[0m \u001b[0;34m\u001b[0m\u001b[0m\n\u001b[1;32m    107\u001b[0m         \u001b[0mrmtree\u001b[0m\u001b[0;34m(\u001b[0m\u001b[0mworking_directory\u001b[0m\u001b[0;34m)\u001b[0m\u001b[0;34m\u001b[0m\u001b[0;34m\u001b[0m\u001b[0m\n",
      "\u001b[0;32m~/Proyectos/MolSysMT/molsysmt/multitool.py\u001b[0m in \u001b[0;36mconvert\u001b[0;34m(item, to_form, selection, frame_indices, syntaxis, **kwargs)\u001b[0m\n\u001b[1;32m   1140\u001b[0m \u001b[0;34m\u001b[0m\u001b[0m\n\u001b[1;32m   1141\u001b[0m             \u001b[0;32mif\u001b[0m \u001b[0mout_file\u001b[0m \u001b[0;32mis\u001b[0m \u001b[0;32mnot\u001b[0m \u001b[0;32mNone\u001b[0m\u001b[0;34m:\u001b[0m\u001b[0;34m\u001b[0m\u001b[0;34m\u001b[0m\u001b[0m\n\u001b[0;32m-> 1142\u001b[0;31m                 tmp_item = _dict_converter[form_in][form_out](item, output_filepath=out_file,\n\u001b[0m\u001b[1;32m   1143\u001b[0m                                                           \u001b[0matom_indices\u001b[0m\u001b[0;34m=\u001b[0m\u001b[0matom_indices\u001b[0m\u001b[0;34m,\u001b[0m \u001b[0mframe_indices\u001b[0m\u001b[0;34m=\u001b[0m\u001b[0mframe_indices\u001b[0m\u001b[0;34m,\u001b[0m\u001b[0;34m\u001b[0m\u001b[0;34m\u001b[0m\u001b[0m\n\u001b[1;32m   1144\u001b[0m                                                           **kwargs)\n",
      "\u001b[0;31mKeyError\u001b[0m: 'pdb'"
     ]
    }
   ],
   "source": [
    "msm.solvate(molecular_system, box_geometry=\"truncated_octahedral\", clearance=14.0*unit.angstroms,\n",
    "            to_form= 'trp-cage-solvated.pdb', logfile=True, verbose=True)"
   ]
  },
  {
   "cell_type": "code",
   "execution_count": null,
   "metadata": {},
   "outputs": [],
   "source": []
  }
 ],
 "metadata": {
  "kernelspec": {
   "display_name": "Python 3",
   "language": "python",
   "name": "python3"
  },
  "language_info": {
   "codemirror_mode": {
    "name": "ipython",
    "version": 3
   },
   "file_extension": ".py",
   "mimetype": "text/x-python",
   "name": "python",
   "nbconvert_exporter": "python",
   "pygments_lexer": "ipython3",
   "version": "3.7.7"
  }
 },
 "nbformat": 4,
 "nbformat_minor": 4
}
