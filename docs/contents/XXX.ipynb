{
 "cells": [
  {
   "cell_type": "code",
   "execution_count": 1,
   "metadata": {},
   "outputs": [],
   "source": [
    "%load_ext autoreload\n",
    "%autoreload 2"
   ]
  },
  {
   "cell_type": "code",
   "execution_count": 2,
   "metadata": {},
   "outputs": [
    {
     "data": {
      "application/vnd.jupyter.widget-view+json": {
       "model_id": "f5281f13e683405da2eea41ee4bfb15b",
       "version_major": 2,
       "version_minor": 0
      },
      "text/plain": [
       "_ColormakerRegistry()"
      ]
     },
     "metadata": {},
     "output_type": "display_data"
    }
   ],
   "source": [
    "import molsysmt as msm\n",
    "from matplotlib import pyplot as plt\n",
    "import simtk.unit as unit\n",
    "import seaborn as sns\n",
    "import numpy as np"
   ]
  },
  {
   "cell_type": "code",
   "execution_count": 3,
   "metadata": {},
   "outputs": [],
   "source": [
    "#molecular_system_a = msm.convert('mmtf:2GDL', 'molsysmt.MolSys')\n",
    "#molecular_system_b = msm.convert('pdb:2GDL', 'molsysmt.MolSys')\n",
    "#mmtf = msm.convert('pdb:2GDL', 'mmtf.MMTFDecoder')"
   ]
  },
  {
   "cell_type": "code",
   "execution_count": 10,
   "metadata": {},
   "outputs": [],
   "source": [
    "molecular_system = msm.test_systems.files['trp-cage_solvated.pdb']"
   ]
  },
  {
   "cell_type": "code",
   "execution_count": 11,
   "metadata": {},
   "outputs": [],
   "source": [
    "molecular_system = msm.convert(molecular_system, to_form='molsysmt.MolSys')"
   ]
  },
  {
   "cell_type": "code",
   "execution_count": 14,
   "metadata": {},
   "outputs": [
    {
     "data": {
      "text/html": [
       "<style  type=\"text/css\" >\n",
       "</style><table id=\"T_d6a65420_a9fa_11ea_9dd9_25e9c7f1703f\" ><thead>    <tr>        <th class=\"col_heading level0 col0\" >form</th>        <th class=\"col_heading level0 col1\" >n atoms</th>        <th class=\"col_heading level0 col2\" >n groups</th>        <th class=\"col_heading level0 col3\" >n components</th>        <th class=\"col_heading level0 col4\" >n chains</th>        <th class=\"col_heading level0 col5\" >n molecules</th>        <th class=\"col_heading level0 col6\" >n entities</th>        <th class=\"col_heading level0 col7\" >n waters</th>        <th class=\"col_heading level0 col8\" >n ions</th>        <th class=\"col_heading level0 col9\" >n peptides</th>        <th class=\"col_heading level0 col10\" >n frames</th>    </tr></thead><tbody>\n",
       "                <tr>\n",
       "                                <td id=\"T_d6a65420_a9fa_11ea_9dd9_25e9c7f1703frow0_col0\" class=\"data row0 col0\" >molsysmt.MolSys</td>\n",
       "                        <td id=\"T_d6a65420_a9fa_11ea_9dd9_25e9c7f1703frow0_col1\" class=\"data row0 col1\" >10544</td>\n",
       "                        <td id=\"T_d6a65420_a9fa_11ea_9dd9_25e9c7f1703frow0_col2\" class=\"data row0 col2\" >3434</td>\n",
       "                        <td id=\"T_d6a65420_a9fa_11ea_9dd9_25e9c7f1703frow0_col3\" class=\"data row0 col3\" >3415</td>\n",
       "                        <td id=\"T_d6a65420_a9fa_11ea_9dd9_25e9c7f1703frow0_col4\" class=\"data row0 col4\" >1</td>\n",
       "                        <td id=\"T_d6a65420_a9fa_11ea_9dd9_25e9c7f1703frow0_col5\" class=\"data row0 col5\" >3415</td>\n",
       "                        <td id=\"T_d6a65420_a9fa_11ea_9dd9_25e9c7f1703frow0_col6\" class=\"data row0 col6\" >3</td>\n",
       "                        <td id=\"T_d6a65420_a9fa_11ea_9dd9_25e9c7f1703frow0_col7\" class=\"data row0 col7\" >3413</td>\n",
       "                        <td id=\"T_d6a65420_a9fa_11ea_9dd9_25e9c7f1703frow0_col8\" class=\"data row0 col8\" >1</td>\n",
       "                        <td id=\"T_d6a65420_a9fa_11ea_9dd9_25e9c7f1703frow0_col9\" class=\"data row0 col9\" >1</td>\n",
       "                        <td id=\"T_d6a65420_a9fa_11ea_9dd9_25e9c7f1703frow0_col10\" class=\"data row0 col10\" >1</td>\n",
       "            </tr>\n",
       "    </tbody></table>"
      ],
      "text/plain": [
       "<pandas.io.formats.style.Styler at 0x7f7fa7c4bc90>"
      ]
     },
     "execution_count": 14,
     "metadata": {},
     "output_type": "execute_result"
    }
   ],
   "source": [
    "msm.info(molecular_system)"
   ]
  }
 ],
 "metadata": {
  "kernelspec": {
   "display_name": "Python 3",
   "language": "python",
   "name": "python3"
  },
  "language_info": {
   "codemirror_mode": {
    "name": "ipython",
    "version": 3
   },
   "file_extension": ".py",
   "mimetype": "text/x-python",
   "name": "python",
   "nbconvert_exporter": "python",
   "pygments_lexer": "ipython3",
   "version": "3.7.7"
  }
 },
 "nbformat": 4,
 "nbformat_minor": 4
}
