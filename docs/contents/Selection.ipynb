{
 "cells": [
  {
   "cell_type": "code",
   "execution_count": 1,
   "metadata": {},
   "outputs": [],
   "source": [
    "%load_ext autoreload\n",
    "%autoreload 2"
   ]
  },
  {
   "cell_type": "code",
   "execution_count": 2,
   "metadata": {},
   "outputs": [
    {
     "data": {
      "application/vnd.jupyter.widget-view+json": {
       "model_id": "58fc0ac9dd2b4711988d98350c214232",
       "version_major": 2,
       "version_minor": 0
      },
      "text/plain": []
     },
     "metadata": {},
     "output_type": "display_data"
    }
   ],
   "source": [
    "import molsysmt as msm"
   ]
  },
  {
   "cell_type": "markdown",
   "metadata": {},
   "source": [
    "# Select\n",
    "\n",
    "Elements selections is probably the most frequently task when we work with molecular systems. There are many circumstances under which we need to know list of elements acomplishing a certain condition. We probably need, for instance, to calculate de contact map between CA atoms from two chains, or to remove the solvent atoms or to know how many 'HIS' residues there are in a peptide. All these conditions can be expresed as a sentence that the query over elements needs to match. Each library or MD engine or molecular visualization software have each own syntaxis to write this sentence. You can see different examples in MDTraj, PyTraj, Amber, Pymol or VMD.\n",
    "\n",
    "## MolSysMT selection syntaxis\n",
    "\n",
    "MolSysMT has its own selection syntaxis based on the attributes of the elements as atoms, groups, molecules, etc. Lets load a molecular system to explain the logic behind this syntaxis:"
   ]
  },
  {
   "cell_type": "code",
   "execution_count": 3,
   "metadata": {},
   "outputs": [],
   "source": [
    "file_path = msm.demo_systems.files['1tcd.mmtf']"
   ]
  },
  {
   "cell_type": "code",
   "execution_count": 4,
   "metadata": {},
   "outputs": [],
   "source": [
    "molecular_system = msm.convert(file_path, to_form='molsysmt.MolSys')"
   ]
  },
  {
   "cell_type": "markdown",
   "metadata": {},
   "source": [
    "A molecular system encoded as the native form 'MolSys' has a pandas DataFrame with the atoms breakdown:"
   ]
  },
  {
   "cell_type": "code",
   "execution_count": 5,
   "metadata": {},
   "outputs": [
    {
     "data": {
      "text/html": [
       "<div>\n",
       "<style scoped>\n",
       "    .dataframe tbody tr th:only-of-type {\n",
       "        vertical-align: middle;\n",
       "    }\n",
       "\n",
       "    .dataframe tbody tr th {\n",
       "        vertical-align: top;\n",
       "    }\n",
       "\n",
       "    .dataframe thead th {\n",
       "        text-align: right;\n",
       "    }\n",
       "</style>\n",
       "<table border=\"1\" class=\"dataframe\">\n",
       "  <thead>\n",
       "    <tr style=\"text-align: right;\">\n",
       "      <th></th>\n",
       "      <th>atom_index</th>\n",
       "      <th>atom_name</th>\n",
       "      <th>atom_id</th>\n",
       "      <th>atom_type</th>\n",
       "      <th>group_index</th>\n",
       "      <th>group_name</th>\n",
       "      <th>group_id</th>\n",
       "      <th>group_type</th>\n",
       "      <th>component_index</th>\n",
       "      <th>component_name</th>\n",
       "      <th>...</th>\n",
       "      <th>chain_id</th>\n",
       "      <th>chain_type</th>\n",
       "      <th>molecule_index</th>\n",
       "      <th>molecule_name</th>\n",
       "      <th>molecule_id</th>\n",
       "      <th>molecule_type</th>\n",
       "      <th>entity_index</th>\n",
       "      <th>entity_name</th>\n",
       "      <th>entity_id</th>\n",
       "      <th>entity_type</th>\n",
       "    </tr>\n",
       "  </thead>\n",
       "  <tbody>\n",
       "    <tr>\n",
       "      <th>0</th>\n",
       "      <td>0</td>\n",
       "      <td>N</td>\n",
       "      <td>1</td>\n",
       "      <td>N</td>\n",
       "      <td>0</td>\n",
       "      <td>LYS</td>\n",
       "      <td>4</td>\n",
       "      <td>aminoacid</td>\n",
       "      <td>0</td>\n",
       "      <td>None</td>\n",
       "      <td>...</td>\n",
       "      <td>A</td>\n",
       "      <td>NaN</td>\n",
       "      <td>0</td>\n",
       "      <td>TRIOSEPHOSPHATE ISOMERASE</td>\n",
       "      <td>0</td>\n",
       "      <td>protein</td>\n",
       "      <td>0</td>\n",
       "      <td>TRIOSEPHOSPHATE ISOMERASE</td>\n",
       "      <td>0</td>\n",
       "      <td>protein</td>\n",
       "    </tr>\n",
       "    <tr>\n",
       "      <th>1</th>\n",
       "      <td>1</td>\n",
       "      <td>CA</td>\n",
       "      <td>2</td>\n",
       "      <td>C</td>\n",
       "      <td>0</td>\n",
       "      <td>LYS</td>\n",
       "      <td>4</td>\n",
       "      <td>aminoacid</td>\n",
       "      <td>0</td>\n",
       "      <td>None</td>\n",
       "      <td>...</td>\n",
       "      <td>A</td>\n",
       "      <td>NaN</td>\n",
       "      <td>0</td>\n",
       "      <td>TRIOSEPHOSPHATE ISOMERASE</td>\n",
       "      <td>0</td>\n",
       "      <td>protein</td>\n",
       "      <td>0</td>\n",
       "      <td>TRIOSEPHOSPHATE ISOMERASE</td>\n",
       "      <td>0</td>\n",
       "      <td>protein</td>\n",
       "    </tr>\n",
       "    <tr>\n",
       "      <th>2</th>\n",
       "      <td>2</td>\n",
       "      <td>C</td>\n",
       "      <td>3</td>\n",
       "      <td>C</td>\n",
       "      <td>0</td>\n",
       "      <td>LYS</td>\n",
       "      <td>4</td>\n",
       "      <td>aminoacid</td>\n",
       "      <td>0</td>\n",
       "      <td>None</td>\n",
       "      <td>...</td>\n",
       "      <td>A</td>\n",
       "      <td>NaN</td>\n",
       "      <td>0</td>\n",
       "      <td>TRIOSEPHOSPHATE ISOMERASE</td>\n",
       "      <td>0</td>\n",
       "      <td>protein</td>\n",
       "      <td>0</td>\n",
       "      <td>TRIOSEPHOSPHATE ISOMERASE</td>\n",
       "      <td>0</td>\n",
       "      <td>protein</td>\n",
       "    </tr>\n",
       "    <tr>\n",
       "      <th>3</th>\n",
       "      <td>3</td>\n",
       "      <td>O</td>\n",
       "      <td>4</td>\n",
       "      <td>O</td>\n",
       "      <td>0</td>\n",
       "      <td>LYS</td>\n",
       "      <td>4</td>\n",
       "      <td>aminoacid</td>\n",
       "      <td>0</td>\n",
       "      <td>None</td>\n",
       "      <td>...</td>\n",
       "      <td>A</td>\n",
       "      <td>NaN</td>\n",
       "      <td>0</td>\n",
       "      <td>TRIOSEPHOSPHATE ISOMERASE</td>\n",
       "      <td>0</td>\n",
       "      <td>protein</td>\n",
       "      <td>0</td>\n",
       "      <td>TRIOSEPHOSPHATE ISOMERASE</td>\n",
       "      <td>0</td>\n",
       "      <td>protein</td>\n",
       "    </tr>\n",
       "    <tr>\n",
       "      <th>4</th>\n",
       "      <td>4</td>\n",
       "      <td>CB</td>\n",
       "      <td>5</td>\n",
       "      <td>C</td>\n",
       "      <td>0</td>\n",
       "      <td>LYS</td>\n",
       "      <td>4</td>\n",
       "      <td>aminoacid</td>\n",
       "      <td>0</td>\n",
       "      <td>None</td>\n",
       "      <td>...</td>\n",
       "      <td>A</td>\n",
       "      <td>NaN</td>\n",
       "      <td>0</td>\n",
       "      <td>TRIOSEPHOSPHATE ISOMERASE</td>\n",
       "      <td>0</td>\n",
       "      <td>protein</td>\n",
       "      <td>0</td>\n",
       "      <td>TRIOSEPHOSPHATE ISOMERASE</td>\n",
       "      <td>0</td>\n",
       "      <td>protein</td>\n",
       "    </tr>\n",
       "    <tr>\n",
       "      <th>...</th>\n",
       "      <td>...</td>\n",
       "      <td>...</td>\n",
       "      <td>...</td>\n",
       "      <td>...</td>\n",
       "      <td>...</td>\n",
       "      <td>...</td>\n",
       "      <td>...</td>\n",
       "      <td>...</td>\n",
       "      <td>...</td>\n",
       "      <td>...</td>\n",
       "      <td>...</td>\n",
       "      <td>...</td>\n",
       "      <td>...</td>\n",
       "      <td>...</td>\n",
       "      <td>...</td>\n",
       "      <td>...</td>\n",
       "      <td>...</td>\n",
       "      <td>...</td>\n",
       "      <td>...</td>\n",
       "      <td>...</td>\n",
       "      <td>...</td>\n",
       "    </tr>\n",
       "    <tr>\n",
       "      <th>3978</th>\n",
       "      <td>3978</td>\n",
       "      <td>O</td>\n",
       "      <td>3979</td>\n",
       "      <td>O</td>\n",
       "      <td>657</td>\n",
       "      <td>HOH</td>\n",
       "      <td>339</td>\n",
       "      <td>water</td>\n",
       "      <td>162</td>\n",
       "      <td>None</td>\n",
       "      <td>...</td>\n",
       "      <td>D</td>\n",
       "      <td>NaN</td>\n",
       "      <td>161</td>\n",
       "      <td>water</td>\n",
       "      <td>161</td>\n",
       "      <td>water</td>\n",
       "      <td>1</td>\n",
       "      <td>water</td>\n",
       "      <td>1</td>\n",
       "      <td>water</td>\n",
       "    </tr>\n",
       "    <tr>\n",
       "      <th>3979</th>\n",
       "      <td>3979</td>\n",
       "      <td>O</td>\n",
       "      <td>3980</td>\n",
       "      <td>O</td>\n",
       "      <td>658</td>\n",
       "      <td>HOH</td>\n",
       "      <td>340</td>\n",
       "      <td>water</td>\n",
       "      <td>163</td>\n",
       "      <td>None</td>\n",
       "      <td>...</td>\n",
       "      <td>D</td>\n",
       "      <td>NaN</td>\n",
       "      <td>162</td>\n",
       "      <td>water</td>\n",
       "      <td>162</td>\n",
       "      <td>water</td>\n",
       "      <td>1</td>\n",
       "      <td>water</td>\n",
       "      <td>1</td>\n",
       "      <td>water</td>\n",
       "    </tr>\n",
       "    <tr>\n",
       "      <th>3980</th>\n",
       "      <td>3980</td>\n",
       "      <td>O</td>\n",
       "      <td>3981</td>\n",
       "      <td>O</td>\n",
       "      <td>659</td>\n",
       "      <td>HOH</td>\n",
       "      <td>341</td>\n",
       "      <td>water</td>\n",
       "      <td>164</td>\n",
       "      <td>None</td>\n",
       "      <td>...</td>\n",
       "      <td>D</td>\n",
       "      <td>NaN</td>\n",
       "      <td>163</td>\n",
       "      <td>water</td>\n",
       "      <td>163</td>\n",
       "      <td>water</td>\n",
       "      <td>1</td>\n",
       "      <td>water</td>\n",
       "      <td>1</td>\n",
       "      <td>water</td>\n",
       "    </tr>\n",
       "    <tr>\n",
       "      <th>3981</th>\n",
       "      <td>3981</td>\n",
       "      <td>O</td>\n",
       "      <td>3982</td>\n",
       "      <td>O</td>\n",
       "      <td>660</td>\n",
       "      <td>HOH</td>\n",
       "      <td>342</td>\n",
       "      <td>water</td>\n",
       "      <td>165</td>\n",
       "      <td>None</td>\n",
       "      <td>...</td>\n",
       "      <td>D</td>\n",
       "      <td>NaN</td>\n",
       "      <td>164</td>\n",
       "      <td>water</td>\n",
       "      <td>164</td>\n",
       "      <td>water</td>\n",
       "      <td>1</td>\n",
       "      <td>water</td>\n",
       "      <td>1</td>\n",
       "      <td>water</td>\n",
       "    </tr>\n",
       "    <tr>\n",
       "      <th>3982</th>\n",
       "      <td>3982</td>\n",
       "      <td>O</td>\n",
       "      <td>3983</td>\n",
       "      <td>O</td>\n",
       "      <td>661</td>\n",
       "      <td>HOH</td>\n",
       "      <td>343</td>\n",
       "      <td>water</td>\n",
       "      <td>166</td>\n",
       "      <td>None</td>\n",
       "      <td>...</td>\n",
       "      <td>D</td>\n",
       "      <td>NaN</td>\n",
       "      <td>165</td>\n",
       "      <td>water</td>\n",
       "      <td>165</td>\n",
       "      <td>water</td>\n",
       "      <td>1</td>\n",
       "      <td>water</td>\n",
       "      <td>1</td>\n",
       "      <td>water</td>\n",
       "    </tr>\n",
       "  </tbody>\n",
       "</table>\n",
       "<p>3983 rows × 24 columns</p>\n",
       "</div>"
      ],
      "text/plain": [
       "      atom_index atom_name  atom_id atom_type  group_index group_name  \\\n",
       "0              0         N        1         N            0        LYS   \n",
       "1              1        CA        2         C            0        LYS   \n",
       "2              2         C        3         C            0        LYS   \n",
       "3              3         O        4         O            0        LYS   \n",
       "4              4        CB        5         C            0        LYS   \n",
       "...          ...       ...      ...       ...          ...        ...   \n",
       "3978        3978         O     3979         O          657        HOH   \n",
       "3979        3979         O     3980         O          658        HOH   \n",
       "3980        3980         O     3981         O          659        HOH   \n",
       "3981        3981         O     3982         O          660        HOH   \n",
       "3982        3982         O     3983         O          661        HOH   \n",
       "\n",
       "      group_id group_type  component_index component_name  ... chain_id  \\\n",
       "0            4  aminoacid                0           None  ...        A   \n",
       "1            4  aminoacid                0           None  ...        A   \n",
       "2            4  aminoacid                0           None  ...        A   \n",
       "3            4  aminoacid                0           None  ...        A   \n",
       "4            4  aminoacid                0           None  ...        A   \n",
       "...        ...        ...              ...            ...  ...      ...   \n",
       "3978       339      water              162           None  ...        D   \n",
       "3979       340      water              163           None  ...        D   \n",
       "3980       341      water              164           None  ...        D   \n",
       "3981       342      water              165           None  ...        D   \n",
       "3982       343      water              166           None  ...        D   \n",
       "\n",
       "     chain_type  molecule_index              molecule_name molecule_id  \\\n",
       "0           NaN               0  TRIOSEPHOSPHATE ISOMERASE           0   \n",
       "1           NaN               0  TRIOSEPHOSPHATE ISOMERASE           0   \n",
       "2           NaN               0  TRIOSEPHOSPHATE ISOMERASE           0   \n",
       "3           NaN               0  TRIOSEPHOSPHATE ISOMERASE           0   \n",
       "4           NaN               0  TRIOSEPHOSPHATE ISOMERASE           0   \n",
       "...         ...             ...                        ...         ...   \n",
       "3978        NaN             161                      water         161   \n",
       "3979        NaN             162                      water         162   \n",
       "3980        NaN             163                      water         163   \n",
       "3981        NaN             164                      water         164   \n",
       "3982        NaN             165                      water         165   \n",
       "\n",
       "     molecule_type  entity_index                entity_name entity_id  \\\n",
       "0          protein             0  TRIOSEPHOSPHATE ISOMERASE         0   \n",
       "1          protein             0  TRIOSEPHOSPHATE ISOMERASE         0   \n",
       "2          protein             0  TRIOSEPHOSPHATE ISOMERASE         0   \n",
       "3          protein             0  TRIOSEPHOSPHATE ISOMERASE         0   \n",
       "4          protein             0  TRIOSEPHOSPHATE ISOMERASE         0   \n",
       "...            ...           ...                        ...       ...   \n",
       "3978         water             1                      water         1   \n",
       "3979         water             1                      water         1   \n",
       "3980         water             1                      water         1   \n",
       "3981         water             1                      water         1   \n",
       "3982         water             1                      water         1   \n",
       "\n",
       "     entity_type  \n",
       "0        protein  \n",
       "1        protein  \n",
       "2        protein  \n",
       "3        protein  \n",
       "4        protein  \n",
       "...          ...  \n",
       "3978       water  \n",
       "3979       water  \n",
       "3980       water  \n",
       "3981       water  \n",
       "3982       water  \n",
       "\n",
       "[3983 rows x 24 columns]"
      ]
     },
     "execution_count": 5,
     "metadata": {},
     "output_type": "execute_result"
    }
   ],
   "source": [
    "molecular_system.topology.atoms_dataframe"
   ]
  },
  {
   "cell_type": "markdown",
   "metadata": {},
   "source": [
    "As you can see, the column names are the fundamental attributes of the molecular system elements:"
   ]
  },
  {
   "cell_type": "code",
   "execution_count": 6,
   "metadata": {},
   "outputs": [
    {
     "name": "stdout",
     "output_type": "stream",
     "text": [
      "Index(['atom_index', 'atom_name', 'atom_id', 'atom_type', 'group_index',\n",
      "       'group_name', 'group_id', 'group_type', 'component_index',\n",
      "       'component_name', 'component_id', 'component_type', 'chain_index',\n",
      "       'chain_name', 'chain_id', 'chain_type', 'molecule_index',\n",
      "       'molecule_name', 'molecule_id', 'molecule_type', 'entity_index',\n",
      "       'entity_name', 'entity_id', 'entity_type'],\n",
      "      dtype='object')\n"
     ]
    }
   ],
   "source": [
    "print(molecular_system.topology.atoms_dataframe.columns)"
   ]
  },
  {
   "cell_type": "markdown",
   "metadata": {},
   "source": [
    "The syntaxis proposed by Pandas to perform queries in a pandas.DataFrame is the base of the MolSysMT selection procedure. The boolean syntaxis of Pandas includes the following words and symbols:\n",
    "\n",
    "<center>\n",
    "\n",
    "| Word | Symbol | Meaning |\n",
    "|---|---|---|\n",
    "| and | & | and |\n",
    "| or | \\| | or |\n",
    "| not | ~ | not |\n",
    "| in | | in |\n",
    "|  | == | equal |\n",
    "|  | != | not equal |\n",
    "|  | < | less than |\n",
    "|  | <= | less or equal than |\n",
    "|  | > | greater than |\n",
    "|  | >= | greater or equal than |\n",
    "\n",
    "</center>\n",
    "\n",
    "As such, the selection sentence can also include the reference to external lists. Lets see some simple examples."
   ]
  },
  {
   "cell_type": "markdown",
   "metadata": {},
   "source": [
    "### Simple atoms selection by their attributes or properties\n",
    "The following are some examples where a list of atoms is obtained matching some selection criteria:"
   ]
  },
  {
   "cell_type": "code",
   "execution_count": 7,
   "metadata": {},
   "outputs": [
    {
     "data": {
      "text/plain": [
       "array([   2,   11,   18, ..., 3798, 3803, 3810])"
      ]
     },
     "execution_count": 7,
     "metadata": {},
     "output_type": "execute_result"
    }
   ],
   "source": [
    "# Atoms with name C\n",
    "msm.select(molecular_system, 'atom_name == \"C\"')"
   ]
  },
  {
   "cell_type": "code",
   "execution_count": 8,
   "metadata": {},
   "outputs": [
    {
     "data": {
      "text/plain": [
       "array([   1,    4,   10, ..., 3805, 3809, 3812])"
      ]
     },
     "execution_count": 8,
     "metadata": {},
     "output_type": "execute_result"
    }
   ],
   "source": [
    "# Atoms with name CA or CB\n",
    "msm.select(molecular_system, 'atom_name in [\"CA\",\"CB\"]')"
   ]
  },
  {
   "cell_type": "code",
   "execution_count": 9,
   "metadata": {},
   "outputs": [
    {
     "data": {
      "text/plain": [
       "array([   0,    1,    2, ..., 3814, 3815, 3816])"
      ]
     },
     "execution_count": 9,
     "metadata": {},
     "output_type": "execute_result"
    }
   ],
   "source": [
    "# Atoms of type C or N\n",
    "msm.select(molecular_system, 'atom_type==[\"C\",\"N\"]')"
   ]
  },
  {
   "cell_type": "code",
   "execution_count": 10,
   "metadata": {},
   "outputs": [
    {
     "data": {
      "text/plain": [
       "array([   0,    1,    2, ..., 3980, 3981, 3982])"
      ]
     },
     "execution_count": 10,
     "metadata": {},
     "output_type": "execute_result"
    }
   ],
   "source": [
    "# Heavy atoms\n",
    "msm.select(molecular_system, 'not atom_type==\"H\"')"
   ]
  },
  {
   "cell_type": "code",
   "execution_count": 11,
   "metadata": {},
   "outputs": [
    {
     "data": {
      "text/plain": [
       "array([   2,    4,    5, ..., 3813, 3814, 3815])"
      ]
     },
     "execution_count": 11,
     "metadata": {},
     "output_type": "execute_result"
    }
   ],
   "source": [
    "# Atoms of type C not named CA\n",
    "msm.select(molecular_system, 'atom_type==\"C\" and not atom_name==\"CA\"')"
   ]
  },
  {
   "cell_type": "code",
   "execution_count": 12,
   "metadata": {},
   "outputs": [
    {
     "data": {
      "text/plain": [
       "array([   0,    3,    5, ..., 3980, 3981, 3982])"
      ]
     },
     "execution_count": 12,
     "metadata": {},
     "output_type": "execute_result"
    }
   ],
   "source": [
    "# Atoms not named CA, CB or C\n",
    "msm.select(molecular_system, 'atom_name!=[\"CA\",\"CB\",\"C\"]')"
   ]
  },
  {
   "cell_type": "code",
   "execution_count": 13,
   "metadata": {},
   "outputs": [
    {
     "data": {
      "text/plain": [
       "array([0, 1, 2, 3, 4, 5, 6, 7, 8])"
      ]
     },
     "execution_count": 13,
     "metadata": {},
     "output_type": "execute_result"
    }
   ],
   "source": [
    "# Atoms with id number lower than 10\n",
    "msm.select(molecular_system, 'atom_id<10')"
   ]
  },
  {
   "cell_type": "code",
   "execution_count": 14,
   "metadata": {},
   "outputs": [
    {
     "data": {
      "text/plain": [
       "array([2, 3, 4, 5, 6, 7, 8])"
      ]
     },
     "execution_count": 14,
     "metadata": {},
     "output_type": "execute_result"
    }
   ],
   "source": [
    "# Atoms with id number lower than 10 and higher or equal than 3\n",
    "msm.select(molecular_system, 'atom_id<10 and atom_id>=3')"
   ]
  },
  {
   "cell_type": "markdown",
   "metadata": {},
   "source": [
    "### Including other elements attributes\n",
    "\n",
    "Atoms can be selected using attributes of other the other elements in the hierarchical organization of the molecular system: 'group', 'component', 'molecule', 'chain', 'entity' or 'bioassembly'. You can find further information of these elements in XXX. These are some examples of selection sentences including other criteria than atoms attributes:"
   ]
  },
  {
   "cell_type": "code",
   "execution_count": 15,
   "metadata": {},
   "outputs": [
    {
     "data": {
      "text/plain": [
       "array([3818, 3819, 3820, ..., 3980, 3981, 3982])"
      ]
     },
     "execution_count": 15,
     "metadata": {},
     "output_type": "execute_result"
    }
   ],
   "source": [
    "# Atoms belonging to molecules of type water.\n",
    "msm.select(molecular_system, 'molecule_type==\"water\"')"
   ]
  },
  {
   "cell_type": "code",
   "execution_count": 16,
   "metadata": {},
   "outputs": [
    {
     "data": {
      "text/plain": [
       "array([   0,    1,    2, ..., 3815, 3816, 3817])"
      ]
     },
     "execution_count": 16,
     "metadata": {},
     "output_type": "execute_result"
    }
   ],
   "source": [
    "# Heavy atoms belonging to molecules of type protein.\n",
    "msm.select(molecular_system, 'molecule_type==\"protein\" and atom_type!=\"H\"')"
   ]
  },
  {
   "cell_type": "code",
   "execution_count": 17,
   "metadata": {},
   "outputs": [
    {
     "data": {
      "text/plain": [
       "array([  40,   41,   42, ..., 1886, 1887, 1888])"
      ]
     },
     "execution_count": 17,
     "metadata": {},
     "output_type": "execute_result"
    }
   ],
   "source": [
    "# Atoms belonging to residues named GLY, ALA or VAL in chain named A.\n",
    "msm.select(molecular_system, 'group_name==[\"GLY\",\"ALA\",\"VAL\"] and chain_name==\"A\"') "
   ]
  },
  {
   "cell_type": "markdown",
   "metadata": {},
   "source": [
    "### Including external variables\n",
    "\n",
    "Pandas query method allows the use of external variables in the logical sentence. To include them, variables names have to be preceded by the character '@'. Lets illustrate its use with some examples:"
   ]
  },
  {
   "cell_type": "code",
   "execution_count": 18,
   "metadata": {},
   "outputs": [
    {
     "data": {
      "text/plain": [
       "array([77, 78, 79, ..., 97, 98, 99])"
      ]
     },
     "execution_count": 18,
     "metadata": {},
     "output_type": "execute_result"
    }
   ],
   "source": [
    "# Atoms in groups with indices 10, 11 or 12.\n",
    "indices=[10,11,12]\n",
    "msm.select(molecular_system, 'group_index==@indices')"
   ]
  },
  {
   "cell_type": "code",
   "execution_count": 19,
   "metadata": {},
   "outputs": [
    {
     "data": {
      "text/plain": [
       "array([10, 11, 12, ..., 26, 27, 28])"
      ]
     },
     "execution_count": 19,
     "metadata": {},
     "output_type": "execute_result"
    }
   ],
   "source": [
    "# Atoms named CA, C, O or N in groups with indices 10 to 29.\n",
    "indices=list(range(10,30))\n",
    "atoms=[\"CA\", \"C\", \"O\", \"N\"]\n",
    "msm.select(molecular_system, 'atom_name==@atoms & atom_index==@indices') "
   ]
  },
  {
   "cell_type": "markdown",
   "metadata": {},
   "source": [
    "### Including mask filters\n",
    "\n",
    "Although including masks is not really necessary, `molsysmt.select()` has an optional input argument to do so:"
   ]
  },
  {
   "cell_type": "code",
   "execution_count": 20,
   "metadata": {},
   "outputs": [
    {
     "data": {
      "text/plain": [
       "array([11, 18, 27])"
      ]
     },
     "execution_count": 20,
     "metadata": {},
     "output_type": "execute_result"
    }
   ],
   "source": [
    "# Atoms named C with atom index in range 10 to 29\n",
    "indices=list(range(10,30))\n",
    "msm.select(molecular_system, 'atom_name==\"C\"', mask=indices)"
   ]
  },
  {
   "cell_type": "markdown",
   "metadata": {},
   "source": [
    "The use of masks can always be avoid using the logical sentence:"
   ]
  },
  {
   "cell_type": "code",
   "execution_count": 21,
   "metadata": {},
   "outputs": [
    {
     "data": {
      "text/plain": [
       "array([11, 18, 27])"
      ]
     },
     "execution_count": 21,
     "metadata": {},
     "output_type": "execute_result"
    }
   ],
   "source": [
    "# Atoms named C with atom index in range 10 to 29\n",
    "indices=list(range(10,30))\n",
    "msm.select(molecular_system, 'atom_name==\"C\" and atom_index in @indices')"
   ]
  },
  {
   "cell_type": "markdown",
   "metadata": {},
   "source": [
    "### Selection of other elements\n",
    "\n",
    "The selection method of MolSysMT can also return other elements indices than atoms. As many methods in this library, `molsysmt.select()` has an input argument named `target` to select the elements nature of the output list of indices. Lets see some examples:"
   ]
  },
  {
   "cell_type": "code",
   "execution_count": 22,
   "metadata": {},
   "outputs": [
    {
     "data": {
      "text/plain": [
       "array([  0, 100, 200])"
      ]
     },
     "execution_count": 22,
     "metadata": {},
     "output_type": "execute_result"
    }
   ],
   "source": [
    "# Groups with indices equal to 0, 100 or 200\n",
    "indices=[0,100,200]\n",
    "msm.select(molecular_system, 'group_index==@indices', target='group')"
   ]
  },
  {
   "cell_type": "code",
   "execution_count": 23,
   "metadata": {},
   "outputs": [
    {
     "data": {
      "text/plain": [
       "array([  5,   6,   7, ..., 465, 482, 494])"
      ]
     },
     "execution_count": 23,
     "metadata": {},
     "output_type": "execute_result"
    }
   ],
   "source": [
    "# Groups with name \"ALA\"\n",
    "msm.select(molecular_system, 'group_name==\"ALA\"', target='group')"
   ]
  },
  {
   "cell_type": "code",
   "execution_count": 24,
   "metadata": {},
   "outputs": [
    {
     "data": {
      "text/plain": [
       "array([4, 5, 9])"
      ]
     },
     "execution_count": 24,
     "metadata": {},
     "output_type": "execute_result"
    }
   ],
   "source": [
    "# Groups of atoms index 34, 44 or 64\n",
    "msm.select(molecular_system, 'atom_index==[34,44,64]', target='group')"
   ]
  },
  {
   "cell_type": "code",
   "execution_count": 25,
   "metadata": {},
   "outputs": [
    {
     "data": {
      "text/plain": [
       "array([  0,   1,   2, ..., 245, 246, 247])"
      ]
     },
     "execution_count": 25,
     "metadata": {},
     "output_type": "execute_result"
    }
   ],
   "source": [
    "# Groups belonging to chain named A and molecule of type anything but water\n",
    "msm.select(molecular_system, 'chain_name==\"A\" and molecule_type!=\"water\"', target='group')"
   ]
  },
  {
   "cell_type": "code",
   "execution_count": 26,
   "metadata": {},
   "outputs": [
    {
     "data": {
      "text/plain": [
       "array([497, 498, 499, ..., 659, 660, 661])"
      ]
     },
     "execution_count": 26,
     "metadata": {},
     "output_type": "execute_result"
    }
   ],
   "source": [
    "# Groups of molecules of type water\n",
    "msm.select(molecular_system, 'molecule_type==\"water\"', target='group')"
   ]
  },
  {
   "cell_type": "code",
   "execution_count": 27,
   "metadata": {},
   "outputs": [
    {
     "data": {
      "text/plain": [
       "array([  1,   2,   3, ..., 163, 164, 165])"
      ]
     },
     "execution_count": 27,
     "metadata": {},
     "output_type": "execute_result"
    }
   ],
   "source": [
    "# Molecules of type water\n",
    "msm.select(molecular_system, 'molecule_type==\"water\"', target='molecule')"
   ]
  },
  {
   "cell_type": "code",
   "execution_count": 28,
   "metadata": {},
   "outputs": [
    {
     "data": {
      "text/plain": [
       "array([2, 3])"
      ]
     },
     "execution_count": 28,
     "metadata": {},
     "output_type": "execute_result"
    }
   ],
   "source": [
    "# Chains with molecules of type water\n",
    "msm.select(molecular_system, 'molecule_type==\"water\"', target='chain')"
   ]
  },
  {
   "cell_type": "code",
   "execution_count": 29,
   "metadata": {},
   "outputs": [
    {
     "data": {
      "text/plain": [
       "array([37, 38, 39, 40])"
      ]
     },
     "execution_count": 29,
     "metadata": {},
     "output_type": "execute_result"
    }
   ],
   "source": [
    "# Bonds in group index 5\n",
    "msm.select(molecular_system, 'group_index==5', target='bond')"
   ]
  },
  {
   "cell_type": "markdown",
   "metadata": {},
   "source": [
    "Finnally, notice that `mask` is always acting over the targeted elements:"
   ]
  },
  {
   "cell_type": "code",
   "execution_count": 30,
   "metadata": {},
   "outputs": [
    {
     "data": {
      "text/plain": [
       "array([0, 1, 2])"
      ]
     },
     "execution_count": 30,
     "metadata": {},
     "output_type": "execute_result"
    }
   ],
   "source": [
    "# Atoms with index from 0 to 4 and from 0 to 2\n",
    "msm.select(molecular_system, 'atom_index in [0,1,2,3,4]', mask=[0,1,2], target='atom')"
   ]
  },
  {
   "cell_type": "code",
   "execution_count": 31,
   "metadata": {},
   "outputs": [
    {
     "data": {
      "text/plain": [
       "array([0, 1, 2])"
      ]
     },
     "execution_count": 31,
     "metadata": {},
     "output_type": "execute_result"
    }
   ],
   "source": [
    "# Groups with index from 0 to 4 and from 0 to 2\n",
    "msm.select(molecular_system, 'group_index in [0,1,2,3,4]', mask=[0,1,2], target='group')"
   ]
  },
  {
   "cell_type": "code",
   "execution_count": 32,
   "metadata": {},
   "outputs": [
    {
     "data": {
      "text/plain": [
       "array([0, 1, 2])"
      ]
     },
     "execution_count": 32,
     "metadata": {},
     "output_type": "execute_result"
    }
   ],
   "source": [
    "# Molecules with index from 0 to 4 and from 0 to 2\n",
    "msm.select(molecular_system, 'molecule_index in [0,1,2,3,4]', mask=[0,1,2], target='molecule')"
   ]
  },
  {
   "cell_type": "markdown",
   "metadata": {},
   "source": [
    "## Syntaxis translation\n",
    "\n",
    "MolSysMT is prepared to easily interact with other tools. The main goal of this library is providing with a set of pipes and joins to set up your workflows, keeping simple the integration of other tools. But different tools have different selection syntaxis. Learning how to use the selection syntaxis of MDTraj, ParmEd or NGLview is something very useful. Those are tools that we all use frequently in our labs. But it happens that we forget soon the rules of each tool. To keep a unique selection syntaxis in your projects, MolSysMT includes the input argument `to_syntaxis` in the method `molsysmt.select()`. Lets illustrate some examples:"
   ]
  },
  {
   "cell_type": "code",
   "execution_count": 33,
   "metadata": {},
   "outputs": [
    {
     "data": {
      "text/plain": [
       "'@25,26,27,28,29,30,31,32,33,34,35,36,37,38,39,40,41,42,43,44'"
      ]
     },
     "execution_count": 33,
     "metadata": {},
     "output_type": "execute_result"
    }
   ],
   "source": [
    "msm.select(molecular_system, selection='group_index==[3,4,5]', to_syntaxis='NGLView')"
   ]
  },
  {
   "cell_type": "code",
   "execution_count": 34,
   "metadata": {},
   "outputs": [
    {
     "data": {
      "text/plain": [
       "'index 25 26 27 28 29 30 31 32 33 34 35 36 37 38 39 40 41 42 43 44'"
      ]
     },
     "execution_count": 34,
     "metadata": {},
     "output_type": "execute_result"
    }
   ],
   "source": [
    "msm.select(molecular_system, selection='group_index==[3,4,5]', to_syntaxis='MDTraj')"
   ]
  },
  {
   "cell_type": "markdown",
   "metadata": {},
   "source": [
    "The output string can be obtained, if the selection is done over other targetted elements, as a sequence of groups or chains:"
   ]
  },
  {
   "cell_type": "code",
   "execution_count": 35,
   "metadata": {},
   "outputs": [
    {
     "data": {
      "text/plain": [
       "'7:A 8:A 9:A'"
      ]
     },
     "execution_count": 35,
     "metadata": {},
     "output_type": "execute_result"
    }
   ],
   "source": [
    "msm.select(molecular_system, target='group', selection='group_index==[3,4,5]', to_syntaxis='NGLView')"
   ]
  },
  {
   "cell_type": "code",
   "execution_count": 36,
   "metadata": {},
   "outputs": [
    {
     "data": {
      "text/plain": [
       "'resid 3 4 5'"
      ]
     },
     "execution_count": 36,
     "metadata": {},
     "output_type": "execute_result"
    }
   ],
   "source": [
    "msm.select(molecular_system, target='group', selection='group_index==[3,4,5]', to_syntaxis='MDTraj')"
   ]
  },
  {
   "cell_type": "markdown",
   "metadata": {},
   "source": [
    "### Output syntaxis supported\n",
    "\n",
    "MolSysMT translates selection sentences from its own native syntaxis to NGLview, MDTraj, Pytraj, ParmEd and AMBER."
   ]
  },
  {
   "cell_type": "markdown",
   "metadata": {},
   "source": [
    "## Using your favourite selection syntaxis\n",
    "\n",
    "To be implemented."
   ]
  }
 ],
 "metadata": {
  "kernelspec": {
   "display_name": "Python 3",
   "language": "python",
   "name": "python3"
  },
  "language_info": {
   "codemirror_mode": {
    "name": "ipython",
    "version": 3
   },
   "file_extension": ".py",
   "mimetype": "text/x-python",
   "name": "python",
   "nbconvert_exporter": "python",
   "pygments_lexer": "ipython3",
   "version": "3.7.9"
  }
 },
 "nbformat": 4,
 "nbformat_minor": 4
}
