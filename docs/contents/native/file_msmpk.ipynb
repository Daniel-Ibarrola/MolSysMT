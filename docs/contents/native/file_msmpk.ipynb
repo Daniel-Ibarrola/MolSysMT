{
 "cells": [
  {
   "cell_type": "code",
   "execution_count": 1,
   "id": "8058d85d-5ded-417a-b9c0-532d110da4e7",
   "metadata": {},
   "outputs": [
    {
     "name": "stderr",
     "output_type": "stream",
     "text": [
      "Warning: importing 'simtk.openmm' is deprecated.  Import 'openmm' instead.\n"
     ]
    },
    {
     "data": {
      "application/vnd.jupyter.widget-view+json": {
       "model_id": "c501a99e85eb4c3a926b675cc9db1e83",
       "version_major": 2,
       "version_minor": 0
      },
      "text/plain": []
     },
     "metadata": {},
     "output_type": "display_data"
    }
   ],
   "source": [
    "import warnings\n",
    "warnings.filterwarnings('ignore')\n",
    "import molsysmt as msm"
   ]
  },
  {
   "cell_type": "markdown",
   "id": "e6622015-98f6-430b-985f-584d850da366",
   "metadata": {},
   "source": [
    "# File msmpk"
   ]
  },
  {
   "cell_type": "markdown",
   "id": "2f2662eb-40fc-4580-aa95-70fda80bbf97",
   "metadata": {},
   "source": [
    "The 'msmpk' file format is used to store a native molsysmt.MolSys object using pickle.\n",
    "\n",
    "Units of those attributes with quantities, such as trajectory.coordinates, trajectory.box or trajectory.time, are stripped. All these values have to be readed with the following units:"
   ]
  },
  {
   "cell_type": "markdown",
   "id": "c69cc0b0-d774-4d6a-a8ac-3213ffe1783f",
   "metadata": {},
   "source": [
    "| Attribute | Units |\n",
    "| --------- | ----- |\n",
    "| trajectory.coordinates | nanometers|\n",
    "| trajectory.box | nanometers |\n",
    "| trajectory.time | picoseconds |\n",
    "\n"
   ]
  },
  {
   "cell_type": "markdown",
   "id": "6f132a31-9b9e-4432-b5bc-3a84ea55a4d2",
   "metadata": {},
   "source": [
    "We can write and read 'msmpk' files using the method `molsysmt.convert()`. Lets see an example:"
   ]
  },
  {
   "cell_type": "code",
   "execution_count": 2,
   "id": "f8d61ff3-01be-46f1-8c41-5f5a42a95adb",
   "metadata": {},
   "outputs": [
    {
     "data": {
      "text/plain": [
       "'test.msmpk'"
      ]
     },
     "execution_count": 2,
     "metadata": {},
     "output_type": "execute_result"
    }
   ],
   "source": [
    "msm.convert('pdbid:181l', 'test.msmpk')"
   ]
  },
  {
   "cell_type": "code",
   "execution_count": 3,
   "id": "a84866f9-7a65-42cf-a62d-394ed58ef2e2",
   "metadata": {},
   "outputs": [],
   "source": [
    "molecular_system = msm.convert('test.msmpk', to_form='molsysmt.MolSys')"
   ]
  },
  {
   "cell_type": "code",
   "execution_count": 4,
   "id": "1ef78b11-5288-456d-b8f0-5cf316cfd41b",
   "metadata": {},
   "outputs": [
    {
     "data": {
      "text/plain": [
       "'molsysmt.MolSys'"
      ]
     },
     "execution_count": 4,
     "metadata": {},
     "output_type": "execute_result"
    }
   ],
   "source": [
    "msm.get_form(molecular_system)"
   ]
  },
  {
   "cell_type": "markdown",
   "id": "c6ca1c13-3485-4722-9c16-afe9fddf82fc",
   "metadata": {},
   "source": [
    "Many methods work with this molecular system form. For example:"
   ]
  },
  {
   "cell_type": "code",
   "execution_count": 5,
   "id": "202d84f4-bd68-4c81-9d3e-6ba57fa7075b",
   "metadata": {},
   "outputs": [
    {
     "data": {
      "text/html": [
       "<style type=\"text/css\">\n",
       "</style>\n",
       "<table id=\"T_b4e42_\">\n",
       "  <thead>\n",
       "    <tr>\n",
       "      <th class=\"col_heading level0 col0\" >form</th>\n",
       "      <th class=\"col_heading level0 col1\" >n_atoms</th>\n",
       "      <th class=\"col_heading level0 col2\" >n_groups</th>\n",
       "      <th class=\"col_heading level0 col3\" >n_components</th>\n",
       "      <th class=\"col_heading level0 col4\" >n_chains</th>\n",
       "      <th class=\"col_heading level0 col5\" >n_molecules</th>\n",
       "      <th class=\"col_heading level0 col6\" >n_entities</th>\n",
       "      <th class=\"col_heading level0 col7\" >n_waters</th>\n",
       "      <th class=\"col_heading level0 col8\" >n_ions</th>\n",
       "      <th class=\"col_heading level0 col9\" >n_small_molecules</th>\n",
       "      <th class=\"col_heading level0 col10\" >n_proteins</th>\n",
       "      <th class=\"col_heading level0 col11\" >n_frames</th>\n",
       "    </tr>\n",
       "  </thead>\n",
       "  <tbody>\n",
       "    <tr>\n",
       "      <td id=\"T_b4e42_row0_col0\" class=\"data row0 col0\" >file:msmpk</td>\n",
       "      <td id=\"T_b4e42_row0_col1\" class=\"data row0 col1\" >1441</td>\n",
       "      <td id=\"T_b4e42_row0_col2\" class=\"data row0 col2\" >302</td>\n",
       "      <td id=\"T_b4e42_row0_col3\" class=\"data row0 col3\" >141</td>\n",
       "      <td id=\"T_b4e42_row0_col4\" class=\"data row0 col4\" >6</td>\n",
       "      <td id=\"T_b4e42_row0_col5\" class=\"data row0 col5\" >141</td>\n",
       "      <td id=\"T_b4e42_row0_col6\" class=\"data row0 col6\" >5</td>\n",
       "      <td id=\"T_b4e42_row0_col7\" class=\"data row0 col7\" >136</td>\n",
       "      <td id=\"T_b4e42_row0_col8\" class=\"data row0 col8\" >2</td>\n",
       "      <td id=\"T_b4e42_row0_col9\" class=\"data row0 col9\" >2</td>\n",
       "      <td id=\"T_b4e42_row0_col10\" class=\"data row0 col10\" >1</td>\n",
       "      <td id=\"T_b4e42_row0_col11\" class=\"data row0 col11\" >1</td>\n",
       "    </tr>\n",
       "  </tbody>\n",
       "</table>\n"
      ],
      "text/plain": [
       "<pandas.io.formats.style.Styler at 0x7f4a0f42fd10>"
      ]
     },
     "execution_count": 5,
     "metadata": {},
     "output_type": "execute_result"
    }
   ],
   "source": [
    "msm.info('test.msmpk')"
   ]
  },
  {
   "cell_type": "code",
   "execution_count": 6,
   "id": "e66d6fc3-c04d-4885-bbb3-2b900633c635",
   "metadata": {},
   "outputs": [
    {
     "data": {
      "text/plain": [
       "141"
      ]
     },
     "execution_count": 6,
     "metadata": {},
     "output_type": "execute_result"
    }
   ],
   "source": [
    "msm.get('test.msmpk', target='system', n_molecules=True)"
   ]
  },
  {
   "cell_type": "code",
   "execution_count": 8,
   "id": "520a7a25-5476-4d7d-9e1f-70f70f2b01b2",
   "metadata": {},
   "outputs": [
    {
     "data": {
      "text/plain": [
       "array([ 40,  41,  48, ..., 133, 145, 159])"
      ]
     },
     "execution_count": 8,
     "metadata": {},
     "output_type": "execute_result"
    }
   ],
   "source": [
    "msm.select('test.msmpk', target='group', selection='group_name==\"ALA\"')"
   ]
  },
  {
   "cell_type": "code",
   "execution_count": 10,
   "id": "4aa305fb-e74b-4348-94a6-0ce65af70e42",
   "metadata": {},
   "outputs": [],
   "source": [
    "contact_map = msm.structure.get_contacts('test.msmpk', selection='molecule_type==\"protein\" and atom_name==\"CA\"',\n",
    "                                  threshold='12 angstroms')"
   ]
  },
  {
   "cell_type": "code",
   "execution_count": 11,
   "id": "ab25355d-15b2-463a-83b4-0a708cb7ebe6",
   "metadata": {},
   "outputs": [
    {
     "data": {
      "image/png": "[encoded data removed]",
      "text/plain": [
       "<Figure size 432x288 with 1 Axes>"
      ]
     },
     "metadata": {
      "needs_background": "light"
     },
     "output_type": "display_data"
    }
   ],
   "source": [
    "from matplotlib import pyplot as plt\n",
    "plt.imshow(contact_map[0], cmap='Greys', origin='lower')\n",
    "plt.show()"
   ]
  }
 ],
 "metadata": {
  "kernelspec": {
   "display_name": "Python 3 (ipykernel)",
   "language": "python",
   "name": "python3"
  },
  "language_info": {
   "codemirror_mode": {
    "name": "ipython",
    "version": 3
   },
   "file_extension": ".py",
   "mimetype": "text/x-python",
   "name": "python",
   "nbconvert_exporter": "python",
   "pygments_lexer": "ipython3",
   "version": "3.7.10"
  }
 },
 "nbformat": 4,
 "nbformat_minor": 5
}
