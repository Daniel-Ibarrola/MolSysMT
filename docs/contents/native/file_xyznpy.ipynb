{
 "cells": [
  {
   "cell_type": "code",
   "execution_count": 1,
   "id": "806d9888-8280-47ad-a1fa-941893202cb9",
   "metadata": {},
   "outputs": [],
   "source": [
    "import warnings\n",
    "warnings.filterwarnings('ignore')"
   ]
  },
  {
   "cell_type": "code",
   "execution_count": 2,
   "id": "0aea180f-168a-4cc8-a176-6a598c33c38f",
   "metadata": {},
   "outputs": [
    {
     "name": "stderr",
     "output_type": "stream",
     "text": [
      "Warning: importing 'simtk.openmm' is deprecated.  Import 'openmm' instead.\n"
     ]
    },
    {
     "data": {
      "application/vnd.jupyter.widget-view+json": {
       "model_id": "0785c221e1484357b8b647cecf354ee8",
       "version_major": 2,
       "version_minor": 0
      },
      "text/plain": []
     },
     "metadata": {},
     "output_type": "display_data"
    }
   ],
   "source": [
    "import numpy as np\n",
    "import molsysmt as msm\n",
    "from molsysmt import puw"
   ]
  },
  {
   "cell_type": "markdown",
   "id": "e6622015-98f6-430b-985f-584d850da366",
   "metadata": {},
   "source": [
    "# File xyznpy"
   ]
  },
  {
   "cell_type": "markdown",
   "id": "2f2662eb-40fc-4580-aa95-70fda80bbf97",
   "metadata": {},
   "source": [
    "The 'npyxyz' file format is used to store an XYZ object in nanometers with numpy. The file contains two objects in this order: the shape of the XYZ object and the value in nanometers as a rank-3 float numpy array."
   ]
  },
  {
   "cell_type": "code",
   "execution_count": 3,
   "id": "971a1557-d656-4dab-ba36-e537501a18a6",
   "metadata": {},
   "outputs": [],
   "source": [
    "molecular_system = np.random.rand(6,4,3) * puw.unit('nm')"
   ]
  },
  {
   "cell_type": "code",
   "execution_count": 4,
   "id": "85968eb5-93d0-49e9-a57a-5bb4a18c1473",
   "metadata": {},
   "outputs": [
    {
     "data": {
      "text/plain": [
       "'test.xyznpy'"
      ]
     },
     "execution_count": 4,
     "metadata": {},
     "output_type": "execute_result"
    }
   ],
   "source": [
    "msm.convert(molecular_system, to_form='test.xyznpy')"
   ]
  },
  {
   "cell_type": "code",
   "execution_count": 5,
   "id": "787ecd4b-3194-4ca1-866a-101b0f6dfb7d",
   "metadata": {},
   "outputs": [],
   "source": [
    "molecular_system = msm.convert('test.xyznpy', to_form='XYZ')"
   ]
  },
  {
   "cell_type": "code",
   "execution_count": 6,
   "id": "e78cad5a-c731-42b5-82c4-031bc8a85d5b",
   "metadata": {},
   "outputs": [
    {
     "data": {
      "text/plain": [
       "'XYZ'"
      ]
     },
     "execution_count": 6,
     "metadata": {},
     "output_type": "execute_result"
    }
   ],
   "source": [
    "msm.get_form(molecular_system)"
   ]
  },
  {
   "cell_type": "markdown",
   "id": "9c479a26-3b55-48e4-ba29-487bb7e39764",
   "metadata": {},
   "source": [
    "Behind the scenes, the 'xyznpy' was written and read as follows:"
   ]
  },
  {
   "cell_type": "code",
   "execution_count": 7,
   "id": "485b725d-ce09-4504-a12a-9f2772dea376",
   "metadata": {},
   "outputs": [],
   "source": [
    "with open('test.xyznpy', 'wb') as fff:\n",
    "    np.save(fff, molecular_system.shape, allow_pickle=True)\n",
    "    np.save(fff, puw.get_value(molecular_system, to_unit='nm'), allow_pickle=True)"
   ]
  },
  {
   "cell_type": "code",
   "execution_count": 8,
   "id": "2d1a383d-49fd-461e-998e-a1c78412a5eb",
   "metadata": {},
   "outputs": [],
   "source": [
    "with open('test.xyznpy', 'rb') as fff:\n",
    "    shape = np.load(fff)\n",
    "    molecular_system = np.load(fff)*puw.unit('nm')"
   ]
  },
  {
   "cell_type": "code",
   "execution_count": 9,
   "id": "b91817f3-32a6-4959-8884-7d6024b8b6c4",
   "metadata": {},
   "outputs": [
    {
     "data": {
      "text/html": [
       "<table><tbody><tr><th>Magnitude</th><td style='text-align:left;'><pre>[[[0.5022896927985139 0.5469734525571947 0.05324158528104239]<br>  [0.886628673327725 0.8609108448315352 0.25137246695187887]<br>  [0.8652071479135616 0.08910040328989144 0.4062175396126878]<br>  [0.5611632344935878 0.6007661585873174 0.83185214651111]]<br><br> [[0.14568188286305928 0.5437331989907958 0.2019139068941015]<br>  [0.9865657595408973 0.4646217111900339 0.32273758730357405]<br>  [0.5186252510322562 0.3590330976550319 0.6563661066952882]<br>  [0.817723393164883 0.008655911339574995 0.5310396365762193]]<br><br> [[0.9506563123180649 0.3093068497324122 0.8728864677220477]<br>  [0.7831953001366851 0.4789564573491393 0.6858671976060716]<br>  [0.2584331923701071 0.22937560233892362 0.4774966466643058]<br>  [0.8922632859886237 0.3189301942360233 0.18390950861194155]]<br><br> [[0.1468221609031214 0.5451157417450007 0.6221645350363257]<br>  [0.47461908331765135 0.40503814958504447 0.41129503727834316]<br>  [0.7960919416130754 0.4211137266944929 0.6049745732903132]<br>  [0.3250960958700776 0.7991233416083617 0.058571181771066905]]<br><br> [[0.5837734694562082 0.2266487181733875 0.6132953739976668]<br>  [0.24757020759966575 0.10619706062093082 0.8308005585953507]<br>  [0.9009034618123322 0.5194487440347408 0.9507854918804538]<br>  [0.7156629657236797 0.9736906154396237 0.24790999780105694]]<br><br> [[0.7758806132675022 0.4898445626005925 0.48582707100205513]<br>  [0.29010960738107106 0.17000039650174137 0.7467219259688642]<br>  [0.09021858831589735 0.20305381983373172 0.8826027527125215]<br>  [0.9537546045267932 0.887640280653609 0.5212319052475114]]]</pre></td></tr><tr><th>Units</th><td style='text-align:left;'>nanometer</td></tr></tbody></table>"
      ],
      "text/latex": [
       "$arr[,0,:,:] = \\begin{pmatrix}0.5022896927985139 & 0.5469734525571947 & 0.05324158528104239\\\\ \n",
       "0.886628673327725 & 0.8609108448315352 & 0.25137246695187887\\\\ \n",
       "0.8652071479135616 & 0.08910040328989144 & 0.4062175396126878\\\\ \n",
       "0.5611632344935878 & 0.6007661585873174 & 0.83185214651111\\end{pmatrix}\n",
       "arr[,1,:,:] = \\begin{pmatrix}0.14568188286305928 & 0.5437331989907958 & 0.2019139068941015\\\\ \n",
       "0.9865657595408973 & 0.4646217111900339 & 0.32273758730357405\\\\ \n",
       "0.5186252510322562 & 0.3590330976550319 & 0.6563661066952882\\\\ \n",
       "0.817723393164883 & 0.008655911339574995 & 0.5310396365762193\\end{pmatrix}\n",
       "arr[,2,:,:] = \\begin{pmatrix}0.9506563123180649 & 0.3093068497324122 & 0.8728864677220477\\\\ \n",
       "0.7831953001366851 & 0.4789564573491393 & 0.6858671976060716\\\\ \n",
       "0.2584331923701071 & 0.22937560233892362 & 0.4774966466643058\\\\ \n",
       "0.8922632859886237 & 0.3189301942360233 & 0.18390950861194155\\end{pmatrix}\n",
       "arr[,3,:,:] = \\begin{pmatrix}0.1468221609031214 & 0.5451157417450007 & 0.6221645350363257\\\\ \n",
       "0.47461908331765135 & 0.40503814958504447 & 0.41129503727834316\\\\ \n",
       "0.7960919416130754 & 0.4211137266944929 & 0.6049745732903132\\\\ \n",
       "0.3250960958700776 & 0.7991233416083617 & 0.058571181771066905\\end{pmatrix}\n",
       "arr[,4,:,:] = \\begin{pmatrix}0.5837734694562082 & 0.2266487181733875 & 0.6132953739976668\\\\ \n",
       "0.24757020759966575 & 0.10619706062093082 & 0.8308005585953507\\\\ \n",
       "0.9009034618123322 & 0.5194487440347408 & 0.9507854918804538\\\\ \n",
       "0.7156629657236797 & 0.9736906154396237 & 0.24790999780105694\\end{pmatrix}\n",
       "arr[,5,:,:] = \\begin{pmatrix}0.7758806132675022 & 0.4898445626005925 & 0.48582707100205513\\\\ \n",
       "0.29010960738107106 & 0.17000039650174137 & 0.7467219259688642\\\\ \n",
       "0.09021858831589735 & 0.20305381983373172 & 0.8826027527125215\\\\ \n",
       "0.9537546045267932 & 0.887640280653609 & 0.5212319052475114\\end{pmatrix}\\ \\mathrm{nanometer}$"
      ],
      "text/plain": [
       "array([[[0.50228969, 0.54697345, 0.05324159],\n",
       "        [0.88662867, 0.86091084, 0.25137247],\n",
       "        [0.86520715, 0.0891004 , 0.40621754],\n",
       "        [0.56116323, 0.60076616, 0.83185215]],\n",
       "\n",
       "       [[0.14568188, 0.5437332 , 0.20191391],\n",
       "        [0.98656576, 0.46462171, 0.32273759],\n",
       "        [0.51862525, 0.3590331 , 0.65636611],\n",
       "        [0.81772339, 0.00865591, 0.53103964]],\n",
       "\n",
       "       [[0.95065631, 0.30930685, 0.87288647],\n",
       "        [0.7831953 , 0.47895646, 0.6858672 ],\n",
       "        [0.25843319, 0.2293756 , 0.47749665],\n",
       "        [0.89226329, 0.31893019, 0.18390951]],\n",
       "\n",
       "       [[0.14682216, 0.54511574, 0.62216454],\n",
       "        [0.47461908, 0.40503815, 0.41129504],\n",
       "        [0.79609194, 0.42111373, 0.60497457],\n",
       "        [0.3250961 , 0.79912334, 0.05857118]],\n",
       "\n",
       "       [[0.58377347, 0.22664872, 0.61329537],\n",
       "        [0.24757021, 0.10619706, 0.83080056],\n",
       "        [0.90090346, 0.51944874, 0.95078549],\n",
       "        [0.71566297, 0.97369062, 0.24791   ]],\n",
       "\n",
       "       [[0.77588061, 0.48984456, 0.48582707],\n",
       "        [0.29010961, 0.1700004 , 0.74672193],\n",
       "        [0.09021859, 0.20305382, 0.88260275],\n",
       "        [0.9537546 , 0.88764028, 0.52123191]]]) <Unit('nanometer')>"
      ]
     },
     "execution_count": 9,
     "metadata": {},
     "output_type": "execute_result"
    }
   ],
   "source": [
    "molecular_system"
   ]
  },
  {
   "cell_type": "markdown",
   "id": "2d4cd094-dae0-423e-9103-44fc583e670e",
   "metadata": {},
   "source": [
    "Many methods work with this molecular system form. For example:"
   ]
  },
  {
   "cell_type": "code",
   "execution_count": 10,
   "id": "18d54e06-bc72-4308-8ebf-0f7e87be3d5a",
   "metadata": {},
   "outputs": [
    {
     "data": {
      "text/html": [
       "<style type=\"text/css\">\n",
       "</style>\n",
       "<table id=\"T_b7032_\">\n",
       "  <thead>\n",
       "    <tr>\n",
       "      <th class=\"col_heading level0 col0\" >form</th>\n",
       "      <th class=\"col_heading level0 col1\" >n_atoms</th>\n",
       "      <th class=\"col_heading level0 col2\" >n_groups</th>\n",
       "      <th class=\"col_heading level0 col3\" >n_components</th>\n",
       "      <th class=\"col_heading level0 col4\" >n_chains</th>\n",
       "      <th class=\"col_heading level0 col5\" >n_molecules</th>\n",
       "      <th class=\"col_heading level0 col6\" >n_entities</th>\n",
       "      <th class=\"col_heading level0 col7\" >n_frames</th>\n",
       "    </tr>\n",
       "  </thead>\n",
       "  <tbody>\n",
       "    <tr>\n",
       "      <td id=\"T_b7032_row0_col0\" class=\"data row0 col0\" >file:xyznpy</td>\n",
       "      <td id=\"T_b7032_row0_col1\" class=\"data row0 col1\" >4</td>\n",
       "      <td id=\"T_b7032_row0_col2\" class=\"data row0 col2\" >None</td>\n",
       "      <td id=\"T_b7032_row0_col3\" class=\"data row0 col3\" >None</td>\n",
       "      <td id=\"T_b7032_row0_col4\" class=\"data row0 col4\" >None</td>\n",
       "      <td id=\"T_b7032_row0_col5\" class=\"data row0 col5\" >None</td>\n",
       "      <td id=\"T_b7032_row0_col6\" class=\"data row0 col6\" >None</td>\n",
       "      <td id=\"T_b7032_row0_col7\" class=\"data row0 col7\" >6</td>\n",
       "    </tr>\n",
       "  </tbody>\n",
       "</table>\n"
      ],
      "text/plain": [
       "<pandas.io.formats.style.Styler at 0x7f4d4c6afbd0>"
      ]
     },
     "execution_count": 10,
     "metadata": {},
     "output_type": "execute_result"
    }
   ],
   "source": [
    "msm.info('test.xyznpy')"
   ]
  },
  {
   "cell_type": "code",
   "execution_count": 11,
   "id": "a322f5c3-c9c1-42dd-ad59-0342424dcb71",
   "metadata": {},
   "outputs": [
    {
     "data": {
      "text/plain": [
       "6"
      ]
     },
     "execution_count": 11,
     "metadata": {},
     "output_type": "execute_result"
    }
   ],
   "source": [
    "msm.get('test.xyznpy', target='system', n_frames=True)"
   ]
  },
  {
   "cell_type": "code",
   "execution_count": 12,
   "id": "c92142c7-617b-4fed-a013-bb5566755f7b",
   "metadata": {},
   "outputs": [],
   "source": [
    "contact_map = msm.structure.get_contact_map('test.xyznpy', selection='all', threshold='5 angstroms')"
   ]
  },
  {
   "cell_type": "code",
   "execution_count": 13,
   "id": "7b8455c8-ef55-4803-929b-d05b1733c306",
   "metadata": {},
   "outputs": [
    {
     "data": {
      "image/png": "[encoded data removed]",
      "text/plain": [
       "<Figure size 432x288 with 1 Axes>"
      ]
     },
     "metadata": {
      "needs_background": "light"
     },
     "output_type": "display_data"
    }
   ],
   "source": [
    "from matplotlib import pyplot as plt\n",
    "plt.imshow(contact_map[2], cmap='Greys', origin='lower')\n",
    "plt.show()"
   ]
  }
 ],
 "metadata": {
  "kernelspec": {
   "display_name": "Python 3 (ipykernel)",
   "language": "python",
   "name": "python3"
  },
  "language_info": {
   "codemirror_mode": {
    "name": "ipython",
    "version": 3
   },
   "file_extension": ".py",
   "mimetype": "text/x-python",
   "name": "python",
   "nbconvert_exporter": "python",
   "pygments_lexer": "ipython3",
   "version": "3.7.10"
  }
 },
 "nbformat": 4,
 "nbformat_minor": 5
}
