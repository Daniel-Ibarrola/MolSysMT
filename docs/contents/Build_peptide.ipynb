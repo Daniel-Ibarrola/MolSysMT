{
 "cells": [
  {
   "cell_type": "code",
   "execution_count": 1,
   "metadata": {},
   "outputs": [],
   "source": [
    "%load_ext autoreload\n",
    "%autoreload 2"
   ]
  },
  {
   "cell_type": "code",
   "execution_count": 2,
   "metadata": {},
   "outputs": [
    {
     "data": {
      "application/vnd.jupyter.widget-view+json": {
       "model_id": "c9390384a5284a368300d7db33cf6fd6",
       "version_major": 2,
       "version_minor": 0
      },
      "text/plain": [
       "_ColormakerRegistry()"
      ]
     },
     "metadata": {},
     "output_type": "display_data"
    }
   ],
   "source": [
    "import molsysmt as msm"
   ]
  },
  {
   "cell_type": "markdown",
   "metadata": {},
   "source": [
    "# Building a peptide from its sequence"
   ]
  },
  {
   "cell_type": "markdown",
   "metadata": {},
   "source": [
    "## Alanine dipeptide in implicit solvent"
   ]
  },
  {
   "cell_type": "code",
   "execution_count": 5,
   "metadata": {},
   "outputs": [
    {
     "ename": "KeyError",
     "evalue": "'prmtop'",
     "output_type": "error",
     "traceback": [
      "\u001b[0;31m---------------------------------------------------------------------------\u001b[0m",
      "\u001b[0;31mTypeError\u001b[0m                                 Traceback (most recent call last)",
      "\u001b[0;32m~/Proyectos/MolSysMT/molsysmt/multitool.py\u001b[0m in \u001b[0;36mconvert\u001b[0;34m(item, to_form, selection, frame_indices, syntaxis, **kwargs)\u001b[0m\n\u001b[1;32m   1243\u001b[0m                     \u001b[0;32melif\u001b[0m \u001b[0msame_system\u001b[0m\u001b[0;34m:\u001b[0m\u001b[0;34m\u001b[0m\u001b[0;34m\u001b[0m\u001b[0m\n\u001b[0;32m-> 1244\u001b[0;31m                         \u001b[0mtmp_item\u001b[0m \u001b[0;34m=\u001b[0m \u001b[0mcopy\u001b[0m\u001b[0;34m(\u001b[0m\u001b[0mtopology_item\u001b[0m\u001b[0;34m,\u001b[0m \u001b[0moutput_filepath\u001b[0m\u001b[0;34m=\u001b[0m\u001b[0mout_file\u001b[0m\u001b[0;34m)\u001b[0m\u001b[0;34m\u001b[0m\u001b[0;34m\u001b[0m\u001b[0m\n\u001b[0m\u001b[1;32m   1245\u001b[0m \u001b[0;34m\u001b[0m\u001b[0m\n",
      "\u001b[0;32m~/Proyectos/MolSysMT/molsysmt/multitool.py\u001b[0m in \u001b[0;36mcopy\u001b[0;34m(item, output_filepath)\u001b[0m\n\u001b[1;32m   1291\u001b[0m     \u001b[0;32melse\u001b[0m\u001b[0;34m:\u001b[0m\u001b[0;34m\u001b[0m\u001b[0;34m\u001b[0m\u001b[0m\n\u001b[0;32m-> 1292\u001b[0;31m         \u001b[0;32mreturn\u001b[0m \u001b[0m_dict_copier\u001b[0m\u001b[0;34m[\u001b[0m\u001b[0mform_in\u001b[0m\u001b[0;34m]\u001b[0m\u001b[0;34m(\u001b[0m\u001b[0mitem\u001b[0m\u001b[0;34m,\u001b[0m \u001b[0moutput_filepath\u001b[0m\u001b[0;34m=\u001b[0m\u001b[0moutput_filepath\u001b[0m\u001b[0;34m)\u001b[0m\u001b[0;34m\u001b[0m\u001b[0;34m\u001b[0m\u001b[0m\n\u001b[0m\u001b[1;32m   1293\u001b[0m \u001b[0;34m\u001b[0m\u001b[0m\n",
      "\u001b[0;31mTypeError\u001b[0m: copy() got an unexpected keyword argument 'output_filepath'",
      "\nDuring handling of the above exception, another exception occurred:\n",
      "\u001b[0;31mKeyError\u001b[0m                                  Traceback (most recent call last)",
      "\u001b[0;32m<ipython-input-5-7c72ab4ad75f>\u001b[0m in \u001b[0;36m<module>\u001b[0;34m\u001b[0m\n\u001b[1;32m      1\u001b[0m msm.build_peptide('aminoacids3:AceAlaNme', forcefield='AMBER96', implicit_solvent='GBSA OBC',\n\u001b[0;32m----> 2\u001b[0;31m                   to_form=['dialanine_amber96_gbsa.prmtop','dialanine_amber96_gbsa.inpcrd'], verbose=False)\n\u001b[0m",
      "\u001b[0;32m~/Proyectos/MolSysMT/molsysmt/peptides.py\u001b[0m in \u001b[0;36mbuild_peptide\u001b[0;34m(item, forcefield, implicit_solvent, water_model, to_form, box_geometry, clearance, engine, logfile, verbose)\u001b[0m\n\u001b[1;32m     62\u001b[0m             \u001b[0mcopyfile\u001b[0m\u001b[0;34m(\u001b[0m\u001b[0mtmp_logfile\u001b[0m\u001b[0;34m,\u001b[0m \u001b[0mcurrent_directory\u001b[0m\u001b[0;34m+\u001b[0m\u001b[0;34m'/build_peptide.log'\u001b[0m\u001b[0;34m)\u001b[0m\u001b[0;34m\u001b[0m\u001b[0;34m\u001b[0m\u001b[0m\n\u001b[1;32m     63\u001b[0m \u001b[0;34m\u001b[0m\u001b[0m\n\u001b[0;32m---> 64\u001b[0;31m         \u001b[0mtmp_item\u001b[0m \u001b[0;34m=\u001b[0m \u001b[0mconvert\u001b[0m\u001b[0;34m(\u001b[0m\u001b[0;34m[\u001b[0m\u001b[0mtmp_prmtop\u001b[0m\u001b[0;34m,\u001b[0m \u001b[0mtmp_inpcrd\u001b[0m\u001b[0;34m]\u001b[0m\u001b[0;34m,\u001b[0m \u001b[0mto_form\u001b[0m\u001b[0;34m=\u001b[0m\u001b[0mto_form\u001b[0m\u001b[0;34m)\u001b[0m\u001b[0;34m\u001b[0m\u001b[0;34m\u001b[0m\u001b[0m\n\u001b[0m\u001b[1;32m     65\u001b[0m \u001b[0;34m\u001b[0m\u001b[0m\n\u001b[1;32m     66\u001b[0m         \u001b[0mrmtree\u001b[0m\u001b[0;34m(\u001b[0m\u001b[0mworking_directory\u001b[0m\u001b[0;34m)\u001b[0m\u001b[0;34m\u001b[0m\u001b[0;34m\u001b[0m\u001b[0m\n",
      "\u001b[0;32m~/Proyectos/MolSysMT/molsysmt/multitool.py\u001b[0m in \u001b[0;36mconvert\u001b[0;34m(item, to_form, selection, frame_indices, syntaxis, **kwargs)\u001b[0m\n\u001b[1;32m   1134\u001b[0m         \u001b[0;32mfor\u001b[0m \u001b[0mitem_out\u001b[0m \u001b[0;32min\u001b[0m \u001b[0mto_form\u001b[0m\u001b[0;34m:\u001b[0m\u001b[0;34m\u001b[0m\u001b[0;34m\u001b[0m\u001b[0m\n\u001b[1;32m   1135\u001b[0m             tmp_item.append(convert(item, to_form=item_out, selection=selection,\n\u001b[0;32m-> 1136\u001b[0;31m                             frame_indices=frame_indices, syntaxis=syntaxis))\n\u001b[0m\u001b[1;32m   1137\u001b[0m \u001b[0;34m\u001b[0m\u001b[0m\n\u001b[1;32m   1138\u001b[0m         \u001b[0many_not_None\u001b[0m \u001b[0;34m=\u001b[0m \u001b[0;32mFalse\u001b[0m\u001b[0;34m\u001b[0m\u001b[0;34m\u001b[0m\u001b[0m\n",
      "\u001b[0;32m~/Proyectos/MolSysMT/molsysmt/multitool.py\u001b[0m in \u001b[0;36mconvert\u001b[0;34m(item, to_form, selection, frame_indices, syntaxis, **kwargs)\u001b[0m\n\u001b[1;32m   1263\u001b[0m \u001b[0;34m\u001b[0m\u001b[0m\n\u001b[1;32m   1264\u001b[0m                     \u001b[0;32mif\u001b[0m \u001b[0mtrajectory_form\u001b[0m\u001b[0;34m!=\u001b[0m\u001b[0mform_out\u001b[0m\u001b[0;34m:\u001b[0m\u001b[0;34m\u001b[0m\u001b[0;34m\u001b[0m\u001b[0m\n\u001b[0;32m-> 1265\u001b[0;31m                         tmp_item = _dict_converter[trajectory_form][form_out](trajectory_item, output_filepath=out_file,\n\u001b[0m\u001b[1;32m   1266\u001b[0m                                                               \u001b[0matom_indices\u001b[0m\u001b[0;34m=\u001b[0m\u001b[0matom_indices\u001b[0m\u001b[0;34m,\u001b[0m \u001b[0mframe_indices\u001b[0m\u001b[0;34m=\u001b[0m\u001b[0mframe_indices\u001b[0m\u001b[0;34m,\u001b[0m\u001b[0;34m\u001b[0m\u001b[0;34m\u001b[0m\u001b[0m\n\u001b[1;32m   1267\u001b[0m                                                               **kwargs)\n",
      "\u001b[0;31mKeyError\u001b[0m: 'prmtop'"
     ]
    }
   ],
   "source": [
    "msm.build_peptide('aminoacids3:AceAlaNme', forcefield='AMBER96', implicit_solvent='GBSA OBC',\n",
    "                  to_form=['dialanine_amber96_gbsa.prmtop','dialanine_amber96_gbsa.inpcrd'], verbose=False)"
   ]
  },
  {
   "cell_type": "markdown",
   "metadata": {},
   "source": [
    "## Alanine dipeptide in explicit solvent"
   ]
  },
  {
   "cell_type": "code",
   "execution_count": null,
   "metadata": {},
   "outputs": [],
   "source": [
    "msm.build_peptide('aminoacids3:AceAlaNme', forcefield='AMBER96',\n",
    "                  water_model='TIP3P', box_geometry='truncated_octahedral',\n",
    "                  to_form=['dialanine_amber96_tip3p.prmtop','dialanine_amber96_tip3p.inpcrd'], verbose=False)"
   ]
  },
  {
   "cell_type": "markdown",
   "metadata": {},
   "source": [
    "## Alanine pentapeptide in implicit solvent"
   ]
  },
  {
   "cell_type": "code",
   "execution_count": null,
   "metadata": {},
   "outputs": [],
   "source": [
    "msm.build_peptide('aminoacids3:AceAlaAlaAlaAlaAlaNme', forcefield='AMBER96', implicit_solvent='GBSA OBC',\n",
    "                  to_form=['pentalanine_amber96_gbsa.prmtop','pentalanine_amber96_gbsa.inpcrd'], verbose=False)"
   ]
  },
  {
   "cell_type": "markdown",
   "metadata": {},
   "source": [
    "## Alanine pentapeptide in explicit solvent"
   ]
  },
  {
   "cell_type": "code",
   "execution_count": null,
   "metadata": {},
   "outputs": [],
   "source": [
    "msm.build_peptide('aminoacids3:AceAlaAlaAlaAlaAlaNme', forcefield='AMBER96',\n",
    "                  water_model='TIP3P', box_geometry='truncated_octahedral',\n",
    "                  to_form=['pentalanine_amber96_tip3p.prmtop','pentalanine_amber96_tip3p.inpcrd'], verbose=False)"
   ]
  },
  {
   "cell_type": "markdown",
   "metadata": {},
   "source": [
    "## Met-enkephalin in implicit solvent"
   ]
  },
  {
   "cell_type": "code",
   "execution_count": null,
   "metadata": {},
   "outputs": [],
   "source": [
    "msm.build_peptide('aminoacids3:TyrGlyGlyPheMet', forcefield='AMBER96', implicit_solvent='GBSA OBC',\n",
    "                  to_form='metenkephalin.pdb', verbose=False)"
   ]
  },
  {
   "cell_type": "code",
   "execution_count": null,
   "metadata": {},
   "outputs": [],
   "source": []
  }
 ],
 "metadata": {
  "kernelspec": {
   "display_name": "Python 3",
   "language": "python",
   "name": "python3"
  },
  "language_info": {
   "codemirror_mode": {
    "name": "ipython",
    "version": 3
   },
   "file_extension": ".py",
   "mimetype": "text/x-python",
   "name": "python",
   "nbconvert_exporter": "python",
   "pygments_lexer": "ipython3",
   "version": "3.7.7"
  }
 },
 "nbformat": 4,
 "nbformat_minor": 4
}
