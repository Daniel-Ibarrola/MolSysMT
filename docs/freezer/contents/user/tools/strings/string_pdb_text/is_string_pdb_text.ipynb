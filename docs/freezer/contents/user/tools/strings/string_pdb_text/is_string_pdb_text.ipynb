{
 "cells": [
  {
   "cell_type": "markdown",
   "id": "f3360d33-d3b0-4d66-b975-6e9ab15d0b8c",
   "metadata": {},
   "source": [
    "# Is string pdb_text"
   ]
  },
  {
   "cell_type": "code",
   "execution_count": 2,
   "id": "27a389b7-bb64-4547-a1fd-54aa19d126d9",
   "metadata": {},
   "outputs": [],
   "source": [
    "from molsysmt.tools import string_pdb_text"
   ]
  },
  {
   "cell_type": "code",
   "execution_count": 3,
   "id": "39784598-be42-4ba6-925a-fc744501aa65",
   "metadata": {},
   "outputs": [],
   "source": [
    "#string_pdb_text.is_string_pdb_text()"
   ]
  },
  {
   "cell_type": "code",
   "execution_count": null,
   "id": "a95978a2-6a06-4455-a9f1-17f4f16cbbb5",
   "metadata": {},
   "outputs": [],
   "source": []
  }
 ],
 "metadata": {
  "kernelspec": {
   "display_name": "Python 3 (ipykernel)",
   "language": "python",
   "name": "python3"
  },
  "language_info": {
   "codemirror_mode": {
    "name": "ipython",
    "version": 3
   },
   "file_extension": ".py",
   "mimetype": "text/x-python",
   "name": "python",
   "nbconvert_exporter": "python",
   "pygments_lexer": "ipython3",
   "version": "3.7.12"
  }
 },
 "nbformat": 4,
 "nbformat_minor": 5
}
