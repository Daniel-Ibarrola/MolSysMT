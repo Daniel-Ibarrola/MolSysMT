{
 "cells": [
  {
   "cell_type": "code",
   "execution_count": 1,
   "metadata": {},
   "outputs": [],
   "source": [
    "%load_ext autoreload\n",
    "%autoreload 2"
   ]
  },
  {
   "cell_type": "code",
   "execution_count": 2,
   "metadata": {},
   "outputs": [
    {
     "data": {
      "application/vnd.jupyter.widget-view+json": {
       "model_id": "780fef00c43941f199e4111fa87c9352",
       "version_major": 2,
       "version_minor": 0
      },
      "text/plain": []
     },
     "metadata": {},
     "output_type": "display_data"
    }
   ],
   "source": [
    "import molsysmt as msm"
   ]
  },
  {
   "cell_type": "markdown",
   "metadata": {},
   "source": [
    "# Select\n",
    "\n",
    "Elements selections is probably the most frequently task when we work with molecular systems. There are many circumstances under which we need to know list of elements acomplishing a certain condition. We probably need, for instance, to calculate de contact map between CA atoms from two chains, or to remove the solvent atoms or to know how many 'HIS' residues there are in a peptide. All these conditions can be expresed as a sentence that the query over elements needs to match. Each library or MD engine or molecular visualization software have each own syntaxis to write this sentence. You can see different examples in MDTraj, PyTraj, Amber, Pymol or VMD.\n",
    "\n",
    "## MolSysMT selection syntaxis\n",
    "\n",
    "MolSysMT has its own selection syntaxis based on the attributes of the elements as atoms, groups, molecules, etc. Lets load a molecular system to explain the logic behind this syntaxis:"
   ]
  },
  {
   "cell_type": "code",
   "execution_count": 3,
   "metadata": {},
   "outputs": [
    {
     "name": "stderr",
     "output_type": "stream",
     "text": [
      "/home/diego/projects/MolSysMT/molsysmt/item/mmtf_MMTFDecoder/to_molsysmt_Topology.py:34: UserWarning: The structure in the PDB has biological assemblies. There are geometrical transformations proposed in the structure. See the following issue in the source code repository: https://github.com/uibcdf/MolSysMT/issues/33\n",
      "  warnings.warn(warning_message)\n"
     ]
    }
   ],
   "source": [
    "molecular_system = msm.convert('pdb_id:1tcd', to_form='molsysmt.MolSys')"
   ]
  },
  {
   "cell_type": "markdown",
   "metadata": {},
   "source": [
    "A molecular system encoded as the native form 'MolSys' has a pandas DataFrame with the atoms breakdown:"
   ]
  },
  {
   "cell_type": "code",
   "execution_count": null,
   "metadata": {},
   "outputs": [],
   "source": [
    "molecular_system.topology.atoms_dataframe"
   ]
  },
  {
   "cell_type": "markdown",
   "metadata": {},
   "source": [
    "As you can see, the column names are the fundamental attributes of the molecular system elements:"
   ]
  },
  {
   "cell_type": "code",
   "execution_count": null,
   "metadata": {},
   "outputs": [],
   "source": [
    "print(molecular_system.topology.atoms_dataframe.columns)"
   ]
  },
  {
   "cell_type": "markdown",
   "metadata": {},
   "source": [
    "The syntaxis proposed by Pandas to perform queries in a pandas.DataFrame is the base of the MolSysMT selection procedure. The boolean syntaxis of Pandas includes the following words and symbols:\n",
    "\n",
    "<center>\n",
    "\n",
    "| Word | Symbol | Meaning |\n",
    "|---|---|---|\n",
    "| and | & | and |\n",
    "| or | \\| | or |\n",
    "| not | ~ | not |\n",
    "| in | | in |\n",
    "|  | == | equal |\n",
    "|  | != | not equal |\n",
    "|  | < | less than |\n",
    "|  | <= | less or equal than |\n",
    "|  | > | greater than |\n",
    "|  | >= | greater or equal than |\n",
    "\n",
    "</center>\n",
    "\n",
    "As such, the selection sentence can also include the reference to external lists. Lets see some simple examples."
   ]
  },
  {
   "cell_type": "markdown",
   "metadata": {},
   "source": [
    "## element selections with atom indices"
   ]
  },
  {
   "cell_type": "code",
   "execution_count": null,
   "metadata": {},
   "outputs": [],
   "source": [
    "msm.select(molecular_system, selection=[0,1,2])"
   ]
  },
  {
   "cell_type": "code",
   "execution_count": null,
   "metadata": {},
   "outputs": [],
   "source": [
    "msm.select(molecular_system, element='group', selection=[0,1,2,3,4,5,6,7,8,9,10,11])"
   ]
  },
  {
   "cell_type": "code",
   "execution_count": null,
   "metadata": {},
   "outputs": [],
   "source": [
    "msm.select(molecular_system, element='molecule', selection=[3900, 3910, 3920])"
   ]
  },
  {
   "cell_type": "markdown",
   "metadata": {},
   "source": [
    "## Simple atoms selection by their attributes or properties\n",
    "The following are some examples where a list of atoms is obtained matching some selection criteria:"
   ]
  },
  {
   "cell_type": "code",
   "execution_count": null,
   "metadata": {},
   "outputs": [],
   "source": [
    "# Atoms with name C\n",
    "msm.select(molecular_system, 'atom_name == \"C\"')"
   ]
  },
  {
   "cell_type": "code",
   "execution_count": null,
   "metadata": {},
   "outputs": [],
   "source": [
    "# Atoms with name CA or CB\n",
    "msm.select(molecular_system, 'atom_name in [\"CA\",\"CB\"]')"
   ]
  },
  {
   "cell_type": "code",
   "execution_count": null,
   "metadata": {},
   "outputs": [],
   "source": [
    "# Atoms of type C or N\n",
    "msm.select(molecular_system, 'atom_type==[\"C\",\"N\"]')"
   ]
  },
  {
   "cell_type": "code",
   "execution_count": null,
   "metadata": {},
   "outputs": [],
   "source": [
    "# Heavy atoms\n",
    "msm.select(molecular_system, 'not atom_type==\"H\"')"
   ]
  },
  {
   "cell_type": "code",
   "execution_count": null,
   "metadata": {},
   "outputs": [],
   "source": [
    "# Atoms of type C not named CA\n",
    "msm.select(molecular_system, 'atom_type==\"C\" and not atom_name==\"CA\"')"
   ]
  },
  {
   "cell_type": "code",
   "execution_count": null,
   "metadata": {},
   "outputs": [],
   "source": [
    "# Atoms not named CA, CB or C\n",
    "msm.select(molecular_system, 'atom_name!=[\"CA\",\"CB\",\"C\"]')"
   ]
  },
  {
   "cell_type": "code",
   "execution_count": null,
   "metadata": {},
   "outputs": [],
   "source": [
    "# Atoms with id number lower than 10\n",
    "msm.select(molecular_system, 'atom_id<10')"
   ]
  },
  {
   "cell_type": "code",
   "execution_count": null,
   "metadata": {},
   "outputs": [],
   "source": [
    "# Atoms with id number lower than 10 and higher or equal than 3\n",
    "msm.select(molecular_system, 'atom_id<10 and atom_id>=3')"
   ]
  },
  {
   "cell_type": "markdown",
   "metadata": {},
   "source": [
    "## Including other elements attributes\n",
    "\n",
    "Atoms can be selected using attributes of other the other elements in the hierarchical organization of the molecular system: 'group', 'component', 'molecule', 'chain', 'entity' or 'bioassembly'. You can find further information of these elements in XXX. These are some examples of selection sentences including other criteria than atoms attributes:"
   ]
  },
  {
   "cell_type": "code",
   "execution_count": null,
   "metadata": {},
   "outputs": [],
   "source": [
    "# Atoms belonging to molecules of type water.\n",
    "msm.select(molecular_system, 'molecule_type==\"water\"')"
   ]
  },
  {
   "cell_type": "code",
   "execution_count": null,
   "metadata": {},
   "outputs": [],
   "source": [
    "# Heavy atoms belonging to molecules of type protein.\n",
    "msm.select(molecular_system, 'molecule_type==\"protein\" and atom_type!=\"H\" and group_index==3')"
   ]
  },
  {
   "cell_type": "code",
   "execution_count": null,
   "metadata": {},
   "outputs": [],
   "source": [
    "# Atoms belonging to residues named GLY, ALA or VAL in chain id A.\n",
    "msm.select(molecular_system, 'group_name==[\"GLY\",\"ALA\",\"VAL\"] and chain_id==\"A\"') "
   ]
  },
  {
   "cell_type": "markdown",
   "metadata": {},
   "source": [
    "## Including external variables\n",
    "\n",
    "Pandas query method allows the use of external variables in the logical sentence. To include them, variables names have to be preceded by the character '@'. Lets illustrate its use with some examples:"
   ]
  },
  {
   "cell_type": "code",
   "execution_count": 46,
   "metadata": {},
   "outputs": [
    {
     "data": {
      "text/plain": [
       "array([77, 78, 79, 80, 81, 82, 83, 84, 85, 86, 87, 88, 89, 90, 91, 92, 93,\n",
       "       94, 95, 96, 97, 98, 99])"
      ]
     },
     "execution_count": 46,
     "metadata": {},
     "output_type": "execute_result"
    }
   ],
   "source": [
    "# Atoms in groups with indices 10, 11 or 12.\n",
    "indices=[10,11,12]\n",
    "msm.select(molecular_system, 'group_index==@indices')"
   ]
  },
  {
   "cell_type": "code",
   "execution_count": 45,
   "metadata": {},
   "outputs": [
    {
     "data": {
      "text/plain": [
       "array([10, 11, 12, 16, 17, 18, 19, 25, 26, 27, 28])"
      ]
     },
     "execution_count": 45,
     "metadata": {},
     "output_type": "execute_result"
    }
   ],
   "source": [
    "# Atoms named CA, C, O or N in groups with indices 10 to 29.\n",
    "indices=list(range(10,30))\n",
    "atoms=[\"CA\", \"C\", \"O\", \"N\"]\n",
    "msm.select(molecular_system, 'atom_name==@atoms & atom_index==@indices') "
   ]
  },
  {
   "cell_type": "markdown",
   "metadata": {},
   "source": [
    "## Including mask filters\n",
    "\n",
    "Although including masks is not really necessary, `molsysmt.select()` has an optional input argument to do so:"
   ]
  },
  {
   "cell_type": "code",
   "execution_count": null,
   "metadata": {},
   "outputs": [],
   "source": [
    "# Atoms named C with atom index in range 10 to 29\n",
    "indices=list(range(10,30))\n",
    "msm.select(molecular_system, 'atom_name==\"C\"', mask=indices)"
   ]
  },
  {
   "cell_type": "markdown",
   "metadata": {},
   "source": [
    "The use of masks can always be avoid using the logical sentence:"
   ]
  },
  {
   "cell_type": "code",
   "execution_count": null,
   "metadata": {},
   "outputs": [],
   "source": [
    "# Atoms named C with atom index in range 10 to 29\n",
    "indics=list(range(10,30))\n",
    "msm.select(molecular_system, 'atom_name==\"C\" and atom_index in @indics')"
   ]
  },
  {
   "cell_type": "markdown",
   "metadata": {},
   "source": [
    "## Selection of other elements\n",
    "\n",
    "The selection method of MolSysMT can also return other elements indices than atoms. As many methods in this library, `molsysmt.select()` has an input argument named `element` to select the elements nature of the output list of indices. Lets see some examples:"
   ]
  },
  {
   "cell_type": "code",
   "execution_count": 44,
   "metadata": {},
   "outputs": [
    {
     "data": {
      "text/plain": [
       "array([  0, 100, 200])"
      ]
     },
     "execution_count": 44,
     "metadata": {},
     "output_type": "execute_result"
    }
   ],
   "source": [
    "# Groups with indices equal to 0, 100 or 200\n",
    "indices=[0,100,200]\n",
    "msm.select(molecular_system, 'group_index==@indices', element='group')"
   ]
  },
  {
   "cell_type": "code",
   "execution_count": null,
   "metadata": {},
   "outputs": [],
   "source": [
    "# Groups with name \"ALA\"\n",
    "msm.select(molecular_system, 'group_name==\"ALA\"', element='group')"
   ]
  },
  {
   "cell_type": "code",
   "execution_count": null,
   "metadata": {},
   "outputs": [],
   "source": [
    "# Groups of atoms index 34, 44 or 64\n",
    "msm.select(molecular_system, 'atom_index==[34,44,64]', element='group')"
   ]
  },
  {
   "cell_type": "code",
   "execution_count": null,
   "metadata": {},
   "outputs": [],
   "source": [
    "# Groups belonging to chain id A or C and molecule of type anything but water\n",
    "msm.select(molecular_system, 'chain_id==[\"A\",\"C\"] and molecule_type!=\"water\"', element='group')"
   ]
  },
  {
   "cell_type": "code",
   "execution_count": null,
   "metadata": {},
   "outputs": [],
   "source": [
    "# Groups of molecules of type water\n",
    "msm.select(molecular_system, 'molecule_type==\"water\"', element='group')"
   ]
  },
  {
   "cell_type": "code",
   "execution_count": null,
   "metadata": {},
   "outputs": [],
   "source": [
    "# Molecules of type water\n",
    "msm.select(molecular_system, 'molecule_type==\"water\"', element='molecule')"
   ]
  },
  {
   "cell_type": "code",
   "execution_count": null,
   "metadata": {},
   "outputs": [],
   "source": [
    "# Chains with molecules of type water\n",
    "msm.select(molecular_system, 'molecule_type==\"water\"', element='chain')"
   ]
  },
  {
   "cell_type": "code",
   "execution_count": null,
   "metadata": {},
   "outputs": [],
   "source": [
    "# Bonds in group index 5\n",
    "msm.select(molecular_system, 'group_index==5', element='bond')"
   ]
  },
  {
   "cell_type": "markdown",
   "metadata": {},
   "source": [
    "Finnally, notice that `mask` is always acting over the elemented elements:"
   ]
  },
  {
   "cell_type": "code",
   "execution_count": null,
   "metadata": {},
   "outputs": [],
   "source": [
    "# Atoms with index from 0 to 4 and from 0 to 2\n",
    "msm.select(molecular_system, 'atom_index in [0,1,2,3,4]', mask=[0,1,2], element='atom')"
   ]
  },
  {
   "cell_type": "code",
   "execution_count": null,
   "metadata": {},
   "outputs": [],
   "source": [
    "# Groups with index from 0 to 4 and from 0 to 2\n",
    "msm.select(molecular_system, 'group_index in [0,1,2,3,4]', mask=[0,1,2], element='group')"
   ]
  },
  {
   "cell_type": "markdown",
   "metadata": {},
   "source": [
    "## Special selection tools\n",
    "\n",
    "A selection of elements within a certain distance of a set of elements can be obtained using the string `within ... of`:"
   ]
  },
  {
   "cell_type": "code",
   "execution_count": 10,
   "metadata": {},
   "outputs": [
    {
     "data": {
      "text/plain": [
       "array([ 89, 480, 527, 547, 550, 552, 554, 566, 723, 734])"
      ]
     },
     "execution_count": 10,
     "metadata": {},
     "output_type": "execute_result"
    }
   ],
   "source": [
    "msm.select(molecular_system, 'chain_id==\"A\" within 0.3 nm of chain_id==\"B\"')"
   ]
  },
  {
   "cell_type": "code",
   "execution_count": 11,
   "metadata": {},
   "outputs": [
    {
     "data": {
      "text/plain": [
       "array([1521, 1522, 1723, 1724])"
      ]
     },
     "execution_count": 11,
     "metadata": {},
     "output_type": "execute_result"
    }
   ],
   "source": [
    "msm.select(molecular_system, 'chain_id==\"A\" not within 7.8 nanometers of chain_id==\"B\"')"
   ]
  },
  {
   "cell_type": "code",
   "execution_count": 12,
   "metadata": {},
   "outputs": [
    {
     "data": {
      "text/plain": [
       "array([ 89, 480, 527, 547, 550, 552, 554, 566, 723, 734])"
      ]
     },
     "execution_count": 12,
     "metadata": {},
     "output_type": "execute_result"
    }
   ],
   "source": [
    "msm.select(molecular_system, 'chain_id==\"A\" within 0.3 nm without pbc of chain_id==\"B\"')"
   ]
  },
  {
   "cell_type": "code",
   "execution_count": 13,
   "metadata": {},
   "outputs": [
    {
     "data": {
      "text/plain": [
       "array([ 89, 480, 527, 547, 550, 552, 554, 566, 723, 734])"
      ]
     },
     "execution_count": 13,
     "metadata": {},
     "output_type": "execute_result"
    }
   ],
   "source": [
    "msm.select(molecular_system, 'chain_id==\"A\" within 0.3 nm with pbc of chain_id==\"B\"')"
   ]
  },
  {
   "cell_type": "code",
   "execution_count": 14,
   "metadata": {},
   "outputs": [
    {
     "data": {
      "text/plain": [
       "array([ 119,  213,  473,  531,  654,  696,  799, 1049])"
      ]
     },
     "execution_count": 14,
     "metadata": {},
     "output_type": "execute_result"
    }
   ],
   "source": [
    "msm.select(molecular_system, '(atom_name==\"N\" and chain_id==\"A\") within 3 angstroms of (atom_type==\"O\" and molecule_type==\"water\")')"
   ]
  },
  {
   "cell_type": "code",
   "execution_count": 15,
   "metadata": {},
   "outputs": [
    {
     "data": {
      "text/plain": [
       "array([10, 42, 62, 72, 73])"
      ]
     },
     "execution_count": 15,
     "metadata": {},
     "output_type": "execute_result"
    }
   ],
   "source": [
    "msm.select(molecular_system, '(atom_name==\"CA\" and chain_id==\"A\") within 0.5 nm of (atom_name==\"CA\" and chain_id==\"B\")',\n",
    "          element='group')"
   ]
  },
  {
   "cell_type": "markdown",
   "metadata": {},
   "source": [
    "Atoms bonded to specific atoms can also be selected with `bonded to`:"
   ]
  },
  {
   "cell_type": "code",
   "execution_count": 43,
   "metadata": {},
   "outputs": [
    {
     "data": {
      "text/plain": [
       "array([   0,    9,   16,   25,   32,   40,   45,   50,   55,   63,   77,\n",
       "         86,   92,  100,  104,  110,  119,  125,  133,  141,  148,  155,\n",
       "        163,  171,  180,  187,  195,  203,  208,  213,  220,  231,  239,\n",
       "        249,  257,  264,  273,  279,  286,  293,  298,  305,  312,  323,\n",
       "        331,  341,  349,  356,  364,  371,  380,  385,  396,  404,  411,\n",
       "        419,  426,  435,  446,  455,  463,  468,  473,  482,  490,  495,\n",
       "        503,  510,  521,  527,  531,  536,  547,  554,  558,  567,  574,\n",
       "        580,  588,  597,  605,  613,  622,  630,  642,  646,  654,  660,\n",
       "        674,  681,  688,  696,  700,  710,  716,  725,  736,  747,  755,\n",
       "        767,  779,  783,  792,  799,  807,  816,  824,  831,  836,  845,\n",
       "        854,  861,  866,  875,  880,  886,  891,  896,  900,  911,  921,\n",
       "        928,  936,  943,  949,  956,  960,  969,  976,  984,  993, 1002,\n",
       "       1013, 1022, 1027, 1031, 1042, 1049, 1054, 1059, 1066, 1073, 1081,\n",
       "       1088, 1097, 1105, 1110, 1115, 1122, 1127, 1136, 1145, 1153, 1159,\n",
       "       1168, 1177, 1182, 1196, 1202, 1213, 1220, 1227, 1235, 1240, 1252,\n",
       "       1261, 1268, 1275, 1289, 1294, 1302, 1306, 1313, 1317, 1326, 1333,\n",
       "       1338, 1345, 1352, 1361, 1370, 1375, 1384, 1393, 1400, 1410, 1419,\n",
       "       1427, 1435, 1446, 1457, 1471, 1478, 1489, 1495, 1504, 1512, 1516,\n",
       "       1523, 1531, 1539, 1544, 1549, 1558, 1566, 1577, 1585, 1593, 1605,\n",
       "       1609, 1613, 1619, 1626, 1633, 1638, 1647, 1655, 1660, 1671, 1678,\n",
       "       1686, 1698, 1707, 1715, 1726, 1734, 1742, 1750, 1754, 1765, 1773,\n",
       "       1780, 1784, 1788, 1793, 1799, 1807, 1816, 1823, 1832, 1843, 1850,\n",
       "       1859, 1867, 1875, 1884, 1889, 1896, 1906, 1912, 1921, 1928, 1937,\n",
       "       1944, 1952, 1957, 1962, 1967, 1975, 1989, 1998, 2004, 2012, 2016,\n",
       "       2022, 2031, 2037, 2045, 2053, 2060, 2067, 2075, 2083, 2092, 2099,\n",
       "       2107, 2115, 2120, 2125, 2132, 2143, 2151, 2161, 2169, 2176, 2185,\n",
       "       2191, 2198, 2205, 2210, 2217, 2224, 2235, 2243, 2253, 2261, 2268,\n",
       "       2276, 2283, 2292, 2297, 2308, 2316, 2323, 2331, 2338, 2347, 2358,\n",
       "       2367, 2375, 2380, 2385, 2394, 2402, 2407, 2415, 2422, 2433, 2439,\n",
       "       2443, 2448, 2459, 2466, 2470, 2479, 2486, 2492, 2500, 2509, 2517,\n",
       "       2525, 2534, 2542, 2554, 2558, 2566, 2572, 2586, 2593, 2600, 2608,\n",
       "       2612, 2622, 2628, 2637, 2648, 2659, 2667, 2679, 2691, 2695, 2704,\n",
       "       2711, 2719, 2728, 2736, 2743, 2748, 2757, 2766, 2773, 2778, 2787,\n",
       "       2792, 2798, 2803, 2808, 2812, 2823, 2833, 2840, 2848, 2855, 2861,\n",
       "       2868, 2872, 2881, 2888, 2896, 2905, 2914, 2925, 2934, 2939, 2943,\n",
       "       2954, 2961, 2966, 2971, 2978, 2985, 2993, 3000, 3009, 3017, 3022,\n",
       "       3027, 3034, 3039, 3048, 3057, 3065, 3071, 3080, 3089, 3094, 3108,\n",
       "       3114, 3125, 3132, 3139, 3147, 3152, 3164, 3173, 3180, 3187, 3201,\n",
       "       3206, 3214, 3218, 3225, 3229, 3238, 3245, 3250, 3257, 3264, 3273,\n",
       "       3282, 3287, 3296, 3305, 3312, 3322, 3331, 3339, 3347, 3358, 3369,\n",
       "       3383, 3390, 3401, 3407, 3416, 3424, 3428, 3435, 3443, 3451, 3456,\n",
       "       3461, 3470, 3478, 3489, 3497, 3505, 3517, 3521, 3525, 3531, 3538,\n",
       "       3545, 3550, 3559, 3567, 3572, 3583, 3590, 3598, 3610, 3619, 3627,\n",
       "       3638, 3646, 3654, 3662, 3666, 3677, 3685, 3692, 3696, 3700, 3705,\n",
       "       3711, 3719, 3728, 3735, 3744, 3755, 3762, 3771, 3779, 3787, 3796,\n",
       "       3801, 3808])"
      ]
     },
     "execution_count": 43,
     "metadata": {},
     "output_type": "execute_result"
    }
   ],
   "source": [
    "msm.select(molecular_system, 'atom_name==\"N\" bonded to atom_type==\"C\"')"
   ]
  },
  {
   "cell_type": "code",
   "execution_count": 42,
   "metadata": {},
   "outputs": [
    {
     "data": {
      "text/plain": [
       "array([ 363, 1714, 2275, 3626])"
      ]
     },
     "execution_count": 42,
     "metadata": {},
     "output_type": "execute_result"
    }
   ],
   "source": [
    "msm.select(molecular_system, '(all not bonded to atom_type==[\"H\",\"N\",\"C\",\"O\"]) and molecule_type==\"protein\"')"
   ]
  },
  {
   "cell_type": "code",
   "execution_count": 41,
   "metadata": {},
   "outputs": [
    {
     "data": {
      "text/plain": [
       "array([   3,   12,   19,   23,   28,   35,   43,   48,   53,   58,   61,\n",
       "         66,   80,   89,   95,   98,  103,  107,  109,  113,  117,  118,\n",
       "        122,  124,  128,  136,  144,  151,  158,  166,  174,  178,  179,\n",
       "        183,  185,  190,  198,  201,  206,  211,  216,  218,  223,  234,\n",
       "        237,  238,  242,  252,  255,  256,  260,  267,  271,  276,  282,\n",
       "        289,  296,  301,  308,  310,  315,  326,  334,  344,  352,  359,\n",
       "        367,  369,  374,  383,  388,  399,  407,  409,  414,  417,  422,\n",
       "        429,  438,  449,  453,  458,  466,  471,  476,  480,  485,  488,\n",
       "        493,  498,  506,  508,  513,  524,  526,  530,  534,  539,  550,\n",
       "        552,  557,  561,  565,  566,  570,  577,  579,  583,  591,  595,\n",
       "        600,  608,  616,  625,  628,  629,  633,  641,  645,  649,  657,\n",
       "        659,  663,  677,  684,  691,  699,  703,  713,  715,  719,  723,\n",
       "        724,  728,  739,  750,  758,  766,  770,  778,  782,  786,  790,\n",
       "        791,  795,  797,  802,  805,  810,  814,  815,  819,  827,  834,\n",
       "        839,  843,  844,  848,  857,  864,  869,  873,  878,  883,  889,\n",
       "        894,  899,  903,  914,  924,  931,  939,  946,  952,  959,  963,\n",
       "        967,  968,  972,  974,  979,  982,  987,  991,  992,  996, 1000,\n",
       "       1001, 1005, 1016, 1020, 1021, 1025, 1030, 1034, 1045, 1047, 1052,\n",
       "       1057, 1062, 1069, 1076, 1084, 1086, 1091, 1095, 1100, 1108, 1113,\n",
       "       1118, 1125, 1130, 1134, 1139, 1148, 1156, 1158, 1162, 1171, 1175,\n",
       "       1176, 1180, 1185, 1199, 1201, 1205, 1216, 1223, 1230, 1238, 1243,\n",
       "       1251, 1255, 1259, 1260, 1264, 1271, 1278, 1292, 1297, 1305, 1309,\n",
       "       1311, 1316, 1320, 1329, 1336, 1341, 1343, 1348, 1355, 1359, 1364,\n",
       "       1368, 1373, 1378, 1382, 1387, 1391, 1392, 1396, 1403, 1413, 1417,\n",
       "       1418, 1422, 1430, 1438, 1449, 1460, 1474, 1481, 1492, 1494, 1498,\n",
       "       1507, 1515, 1519, 1521, 1526, 1529, 1530, 1534, 1542, 1547, 1552,\n",
       "       1556, 1561, 1569, 1580, 1588, 1596, 1604, 1608, 1612, 1616, 1618,\n",
       "       1622, 1629, 1631, 1636, 1641, 1650, 1653, 1658, 1663, 1674, 1676,\n",
       "       1681, 1689, 1697, 1701, 1705, 1710, 1718, 1729, 1732, 1733, 1737,\n",
       "       1745, 1748, 1753, 1757, 1768, 1776, 1783, 1787, 1791, 1796, 1798,\n",
       "       1802, 1810, 1819, 1826, 1830, 1831, 1835, 1846, 1853, 1857, 1858,\n",
       "       1862, 1870, 1878, 1882, 1883, 1887, 1892, 1894, 1899, 1905])"
      ]
     },
     "execution_count": 41,
     "metadata": {},
     "output_type": "execute_result"
    }
   ],
   "source": [
    "msm.select(molecular_system, '(atom_type==\"O\" and chain_id==\"A\") bonded to (atom_type==\"C\" and chain_id==\"A\")')"
   ]
  },
  {
   "cell_type": "markdown",
   "metadata": {},
   "source": [
    "And both, `within .. of` and `bonded to`, can be mixed in the same selection sentence:"
   ]
  },
  {
   "cell_type": "code",
   "execution_count": 40,
   "metadata": {},
   "outputs": [
    {
     "data": {
      "text/plain": [
       "array([ 119,  213,  473,  531,  654,  696,  799, 1049])"
      ]
     },
     "execution_count": 40,
     "metadata": {},
     "output_type": "execute_result"
    }
   ],
   "source": [
    "msm.select(molecular_system, '((atom_name==\"N\" and chain_id==\"A\") bonded to atom_type==\"C\") within 3 angstroms of (atom_type==\"O\" and molecule_type==\"water\")')"
   ]
  },
  {
   "cell_type": "markdown",
   "metadata": {},
   "source": [
    "## Syntaxis translation\n",
    "\n",
    "MolSysMT is prepared to easily interact with other tools. The main goal of this library is providing with a set of pipes and joins to set up your workflows, keeping simple the integration of other tools. But different tools have different selection syntaxis. Learning how to use the selection syntaxis of MDTraj, ParmEd or NGLview is something very useful. Those are tools that we all use frequently in our labs. But it happens that we forget soon the rules of each tool. To keep a unique selection syntaxis in your projects, MolSysMT includes the input argument `to_syntaxis` in the method `molsysmt.select()`. Lets illustrate some examples:"
   ]
  },
  {
   "cell_type": "code",
   "execution_count": null,
   "metadata": {},
   "outputs": [],
   "source": [
    "msm.select(molecular_system, selection='group_index==[3,4,5]', to_syntaxis='NGLView')"
   ]
  },
  {
   "cell_type": "code",
   "execution_count": null,
   "metadata": {},
   "outputs": [],
   "source": [
    "msm.select(molecular_system, selection='group_index==[3,4,5]', to_syntaxis='MDTraj')"
   ]
  },
  {
   "cell_type": "markdown",
   "metadata": {},
   "source": [
    "The output string can be obtained, if the selection is done over other elementted elements, as a sequence of groups or chains:"
   ]
  },
  {
   "cell_type": "code",
   "execution_count": null,
   "metadata": {},
   "outputs": [],
   "source": [
    "msm.select(molecular_system, element='group', selection='group_index==[3,4,5]', to_syntaxis='NGLView')"
   ]
  },
  {
   "cell_type": "code",
   "execution_count": null,
   "metadata": {},
   "outputs": [],
   "source": [
    "msm.select(molecular_system, element='group', selection='group_index==[3,4,5]', to_syntaxis='MDTraj')"
   ]
  },
  {
   "cell_type": "markdown",
   "metadata": {},
   "source": [
    "### Output syntaxis supported\n",
    "\n",
    "MolSysMT translates selection sentences from its own native syntaxis to NGLview, MDTraj, Pytraj, ParmEd and AMBER."
   ]
  },
  {
   "cell_type": "markdown",
   "metadata": {},
   "source": [
    "## Using your favourite selection syntaxis\n",
    "\n",
    "Already implemented: testing and documenting need it."
   ]
  },
  {
   "cell_type": "code",
   "execution_count": null,
   "metadata": {},
   "outputs": [],
   "source": []
  }
 ],
 "metadata": {
  "kernelspec": {
   "display_name": "Python 3 (ipykernel)",
   "language": "python",
   "name": "python3"
  },
  "language_info": {
   "codemirror_mode": {
    "name": "ipython",
    "version": 3
   },
   "file_extension": ".py",
   "mimetype": "text/x-python",
   "name": "python",
   "nbconvert_exporter": "python",
   "pygments_lexer": "ipython3",
   "version": "3.7.12"
  }
 },
 "nbformat": 4,
 "nbformat_minor": 4
}
