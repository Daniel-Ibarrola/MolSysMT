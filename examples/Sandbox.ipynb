{
 "cells": [
  {
   "cell_type": "code",
   "execution_count": 1,
   "metadata": {},
   "outputs": [],
   "source": [
    "%load_ext autoreload\n",
    "%autoreload 2"
   ]
  },
  {
   "cell_type": "markdown",
   "metadata": {},
   "source": [
    "# Introduction"
   ]
  },
  {
   "cell_type": "markdown",
   "metadata": {},
   "source": [
    "Goals:\n",
    "   * decrease the learning barrier of new lab students\n",
    "   * implement in this central repo daily useful workflows\n",
    "   * A swiss army knife"
   ]
  },
  {
   "cell_type": "code",
   "execution_count": 2,
   "metadata": {},
   "outputs": [],
   "source": [
    "import molmodmt as molmodmt\n",
    "import os"
   ]
  },
  {
   "cell_type": "code",
   "execution_count": 3,
   "metadata": {},
   "outputs": [
    {
     "data": {
      "text/plain": [
       "{'1l2y': '/home/diego/Projects/LabTools/MolModMT/molmodmt/utils/data/pdb/1l2y.pdb',\n",
       " '1li2': '/home/diego/Projects/LabTools/MolModMT/molmodmt/utils/data/pdb/1li2.pdb'}"
      ]
     },
     "execution_count": 3,
     "metadata": {},
     "output_type": "execute_result"
    }
   ],
   "source": [
    "molmodmt.utils.examples.pdb"
   ]
  },
  {
   "cell_type": "code",
   "execution_count": 4,
   "metadata": {},
   "outputs": [
    {
     "data": {
      "text/plain": [
       "{'caffeine': '/home/diego/Projects/LabTools/MolModMT/molmodmt/utils/data/mol2/caffeine.mol2'}"
      ]
     },
     "execution_count": 4,
     "metadata": {},
     "output_type": "execute_result"
    }
   ],
   "source": [
    "molmodmt.utils.examples.mol2"
   ]
  },
  {
   "cell_type": "code",
   "execution_count": 5,
   "metadata": {},
   "outputs": [],
   "source": [
    "PDB_example_file = molmodmt.utils.examples.pdb['1l2y']\n",
    "MOL2_example_file = molmodmt.utils.examples.mol2['caffeine']"
   ]
  },
  {
   "cell_type": "markdown",
   "metadata": {},
   "source": [
    "## Lists of engines, files and classes MolSysMT can work with."
   ]
  },
  {
   "cell_type": "code",
   "execution_count": 6,
   "metadata": {},
   "outputs": [
    {
     "data": {
      "text/plain": [
       "{'engines': ['mdanalysis',\n",
       "  'mdtraj',\n",
       "  'modeller',\n",
       "  'native',\n",
       "  'openmm',\n",
       "  'parmed',\n",
       "  'pdbfixer'],\n",
       " 'classes': ['mdanalysis.Universe',\n",
       "  'mdtraj.Topology',\n",
       "  'mdtraj.Trajectory',\n",
       "  'modeller.Modeller',\n",
       "  'moldyn.Native',\n",
       "  'molsys.Native',\n",
       "  'openmm.Positions',\n",
       "  'openmm.Topology',\n",
       "  'parmed.Structure',\n",
       "  'pdbfixer.PDBFixer',\n",
       "  'yank.Topography'],\n",
       " 'files': ['ddb', 'h5', 'mol2', 'pdb', 'sdf', 'smi', 'xtc'],\n",
       " 'ids': ['pdb:id']}"
      ]
     },
     "execution_count": 6,
     "metadata": {},
     "output_type": "execute_result"
    }
   ],
   "source": [
    "molmodmt.info_forms()"
   ]
  },
  {
   "cell_type": "markdown",
   "metadata": {},
   "source": [
    "## Loading systems"
   ]
  },
  {
   "cell_type": "code",
   "execution_count": 7,
   "metadata": {},
   "outputs": [
    {
     "name": "stdout",
     "output_type": "stream",
     "text": [
      "['mdanalysis.Universe', 'mdtraj.Trajectory', 'mol2', 'molsys.Native', 'parmed', 'pdb:id']\n"
     ]
    }
   ],
   "source": [
    "molmodmt.info_load(to_form='pdb')"
   ]
  },
  {
   "cell_type": "code",
   "execution_count": 8,
   "metadata": {},
   "outputs": [
    {
     "name": "stdout",
     "output_type": "stream",
     "text": [
      "['mdtraj']\n"
     ]
    }
   ],
   "source": [
    "molmodmt.info_load(from_form='pdbfixer')"
   ]
  },
  {
   "cell_type": "code",
   "execution_count": 9,
   "metadata": {},
   "outputs": [
    {
     "data": {
      "text/plain": [
       "'pdbfixer.PDBFixer'"
      ]
     },
     "execution_count": 9,
     "metadata": {},
     "output_type": "execute_result"
    }
   ],
   "source": [
    "system_pdbfixer = molmodmt.load(PDB_example_file,'pdbfixer')\n",
    "molmodmt.get_form(system_pdbfixer)"
   ]
  },
  {
   "cell_type": "markdown",
   "metadata": {},
   "source": [
    "## Fetching molecular systems from the PDB\n",
    "\n",
    "PDB files can be fetched and loaded straight as a PDBFixer (`pdbfixer`), MDTraj (`mdtraj`), OpenMM (`openmm`), ParmED (`parmed`), MDAnalysis (`mdanalysis`) or native (`native`) system. Where the \"native\" term means the main class take as base object by `MolSysSAK` -Includes a ParmED structure, a YANK topography and an MDTraj or OpenMM Topology-.\n",
    "\n",
    "***I have to include msmt.fetch(item) where item is `pdb:id, and any other id...`***"
   ]
  },
  {
   "cell_type": "code",
   "execution_count": 10,
   "metadata": {},
   "outputs": [
    {
     "data": {
      "text/plain": [
       "'parmed.Structure'"
      ]
     },
     "execution_count": 10,
     "metadata": {},
     "output_type": "execute_result"
    }
   ],
   "source": [
    "PDB_id = 'pdb:1sux'\n",
    "system_parmed = molmodmt.fetch(PDB_id,'parmed')\n",
    "molmodmt.get_form(system_parmed)"
   ]
  },
  {
   "cell_type": "code",
   "execution_count": 11,
   "metadata": {},
   "outputs": [],
   "source": [
    "PDB_id = 'pdb:1sux'\n",
    "out_PDB_file = '1sux.pdb'\n",
    "molmodmt.fetch(PDB_id,out_PDB_file)"
   ]
  },
  {
   "cell_type": "code",
   "execution_count": 12,
   "metadata": {},
   "outputs": [
    {
     "data": {
      "text/plain": [
       "['examples_MolSys',\n",
       " '.ipynb_checkpoints',\n",
       " 'examples_MolDyn',\n",
       " 'Introduction.ipynb',\n",
       " '1sux.pdb']"
      ]
     },
     "execution_count": 12,
     "metadata": {},
     "output_type": "execute_result"
    }
   ],
   "source": [
    "os.listdir('.')"
   ]
  },
  {
   "cell_type": "code",
   "execution_count": 13,
   "metadata": {},
   "outputs": [],
   "source": [
    "#less 1sux.pdb"
   ]
  },
  {
   "cell_type": "code",
   "execution_count": 14,
   "metadata": {},
   "outputs": [],
   "source": [
    "os.remove(out_PDB_file)"
   ]
  },
  {
   "cell_type": "code",
   "execution_count": 15,
   "metadata": {},
   "outputs": [
    {
     "data": {
      "text/plain": [
       "['examples_MolSys',\n",
       " '.ipynb_checkpoints',\n",
       " 'examples_MolDyn',\n",
       " 'Introduction.ipynb']"
      ]
     },
     "execution_count": 15,
     "metadata": {},
     "output_type": "execute_result"
    }
   ],
   "source": [
    "os.listdir('.')"
   ]
  },
  {
   "cell_type": "markdown",
   "metadata": {},
   "source": [
    "## Getting the form of an item"
   ]
  },
  {
   "cell_type": "code",
   "execution_count": 16,
   "metadata": {},
   "outputs": [
    {
     "data": {
      "text/plain": [
       "'pdbfixer.PDBFixer'"
      ]
     },
     "execution_count": 16,
     "metadata": {},
     "output_type": "execute_result"
    }
   ],
   "source": [
    "system_unknown_form = molmodmt.load(PDB_example_file,'pdbfixer')\n",
    "molmodmt.get_form(system_unknown_form)"
   ]
  },
  {
   "cell_type": "code",
   "execution_count": 17,
   "metadata": {},
   "outputs": [
    {
     "data": {
      "text/plain": [
       "'pdb:id'"
      ]
     },
     "execution_count": 17,
     "metadata": {},
     "output_type": "execute_result"
    }
   ],
   "source": [
    "molmodmt.get_form(\"PDB:1sux\")"
   ]
  },
  {
   "cell_type": "code",
   "execution_count": 18,
   "metadata": {},
   "outputs": [
    {
     "data": {
      "text/plain": [
       "'mol2'"
      ]
     },
     "execution_count": 18,
     "metadata": {},
     "output_type": "execute_result"
    }
   ],
   "source": [
    "molmodmt.get_form(MOL2_example_file)"
   ]
  },
  {
   "cell_type": "markdown",
   "metadata": {},
   "source": [
    "## Converting items"
   ]
  },
  {
   "cell_type": "markdown",
   "metadata": {},
   "source": [
    "Files can be converted into files:"
   ]
  },
  {
   "cell_type": "code",
   "execution_count": 19,
   "metadata": {},
   "outputs": [],
   "source": [
    "molmodmt.convert(PDB_example_file,'foo.mol2')"
   ]
  },
  {
   "cell_type": "code",
   "execution_count": 20,
   "metadata": {},
   "outputs": [
    {
     "data": {
      "text/plain": [
       "['examples_MolSys',\n",
       " '.ipynb_checkpoints',\n",
       " 'examples_MolDyn',\n",
       " 'Introduction.ipynb',\n",
       " 'foo.mol2']"
      ]
     },
     "execution_count": 20,
     "metadata": {},
     "output_type": "execute_result"
    }
   ],
   "source": [
    "os.listdir('.')"
   ]
  },
  {
   "cell_type": "code",
   "execution_count": 21,
   "metadata": {},
   "outputs": [],
   "source": [
    "#less foo.mol2"
   ]
  },
  {
   "cell_type": "code",
   "execution_count": 22,
   "metadata": {},
   "outputs": [],
   "source": [
    "os.remove('foo.mol2')"
   ]
  },
  {
   "cell_type": "markdown",
   "metadata": {},
   "source": [
    "In general, molecular system's forms can be converted into other forms: "
   ]
  },
  {
   "cell_type": "code",
   "execution_count": 23,
   "metadata": {},
   "outputs": [
    {
     "name": "stdout",
     "output_type": "stream",
     "text": [
      "['mol2', 'pdb']\n"
     ]
    }
   ],
   "source": [
    "molmodmt.info_convert(from_form='parmed')"
   ]
  },
  {
   "cell_type": "code",
   "execution_count": 24,
   "metadata": {},
   "outputs": [
    {
     "name": "stdout",
     "output_type": "stream",
     "text": [
      "['mdanalysis.Universe', 'mdtraj.Trajectory', 'mol2', 'molsys.Native', 'parmed', 'pdb:id']\n"
     ]
    }
   ],
   "source": [
    "molmodmt.info_convert(to_form='pdb')"
   ]
  },
  {
   "cell_type": "code",
   "execution_count": 25,
   "metadata": {},
   "outputs": [
    {
     "name": "stdout",
     "output_type": "stream",
     "text": [
      "From... to...\n",
      "openmm :  ['nglview']\n",
      "native :  []\n",
      "mdtraj :  []\n",
      "parmed :  ['mol2', 'pdb']\n",
      "mdanalysis :  ['nglview']\n",
      "pdbfixer :  ['mdtraj']\n",
      "modeller :  ['mdtraj']\n",
      "mdtraj.Trajectory :  ['mdtraj.Topology', 'native.Native', 'nglview', 'openmm.Topology', 'parmed.Structure', 'pdb', 'yank.Topography']\n",
      "molsys.Native :  ['mdtraj', 'mdtraj.Topology', 'mdtraj.Trajectory', 'nglview', 'openmm.Topology', 'pdb']\n",
      "yank.Topography :  ['openmm.Topology']\n",
      "openmm.Positions :  []\n",
      "modeller.Modeller :  ['mdtraj', 'mdtraj.Topology', 'nglview', 'parmed.Structure']\n",
      "pdbfixer.PDBFixer :  ['mdtraj', 'mdtraj.Topology', 'mdtraj.Trajectory', 'native.Native', 'nglview', 'openmm.Positions', 'openmm.Topology', 'parmed.Structure', 'yank.Topography']\n",
      "parmed.Structure :  ['mdtraj', 'nglview']\n",
      "mdanalysis.Universe :  ['mdtraj', 'nglview', 'pdb']\n",
      "mdtraj.Topology :  ['openmm.Topology', 'parmed.Structure', 'yank.Topography']\n",
      "openmm.Topology :  ['mdtraj.Topology', 'native', 'parmed.Structure', 'yank.Topography']\n",
      "moldyn.Native :  ['mdtraj.Trajectory', 'nglview']\n",
      "smi :  []\n",
      "xtc :  ['mdtraj.Trajectory', 'native.Native']\n",
      "h5 :  ['mdtraj', 'mdtraj.Trajectory', 'native.Native']\n",
      "mol2 :  ['nglview', 'parmed', 'pdb']\n",
      "sdf :  []\n",
      "pdb :  ['mdanalysis', 'mdtraj', 'mdtraj.Topology', 'mdtraj.Trajectory', 'mol2', 'native', 'native.Native', 'nglview', 'openmm.Positions', 'openmm.Topology', 'parmed', 'parmed.Structure', 'pdbfixer', 'pdbfixer.PDBFixer', 'yank.Topography']\n",
      "ddb :  []\n",
      "pdb:id :  ['mdtraj', 'mdtraj.Topology', 'native.Native', 'nglview', 'parmed', 'parmed.Structure', 'pdb', 'pdbfixer', 'pdbfixer.PDBFixer', 'yank.Topography']\n",
      "nglview :  []\n",
      "\n",
      "To... from...\n",
      "nglview :  ['mdanalysis', 'mdanalysis.Universe', 'mdtraj.Trajectory', 'modeller.Modeller', 'mol2', 'moldyn.Native', 'molsys.Native', 'openmm', 'parmed.Structure', 'pdb', 'pdb:id', 'pdbfixer.PDBFixer']\n",
      "mol2 :  ['parmed', 'pdb']\n",
      "pdb :  ['mdanalysis.Universe', 'mdtraj.Trajectory', 'mol2', 'molsys.Native', 'parmed', 'pdb:id']\n",
      "mdtraj :  ['h5', 'mdanalysis.Universe', 'modeller', 'modeller.Modeller', 'molsys.Native', 'parmed.Structure', 'pdb', 'pdb:id', 'pdbfixer', 'pdbfixer.PDBFixer']\n",
      "native.Native :  ['h5', 'mdtraj.Trajectory', 'pdb', 'pdb:id', 'pdbfixer.PDBFixer', 'xtc']\n",
      "mdtraj.Topology :  ['mdtraj.Trajectory', 'modeller.Modeller', 'molsys.Native', 'openmm.Topology', 'pdb', 'pdb:id', 'pdbfixer.PDBFixer']\n",
      "openmm.Topology :  ['mdtraj.Topology', 'mdtraj.Trajectory', 'molsys.Native', 'pdb', 'pdbfixer.PDBFixer', 'yank.Topography']\n",
      "yank.Topography :  ['mdtraj.Topology', 'mdtraj.Trajectory', 'openmm.Topology', 'pdb', 'pdb:id', 'pdbfixer.PDBFixer']\n",
      "parmed.Structure :  ['mdtraj.Topology', 'mdtraj.Trajectory', 'modeller.Modeller', 'openmm.Topology', 'pdb', 'pdb:id', 'pdbfixer.PDBFixer']\n",
      "mdtraj.Trajectory :  ['h5', 'moldyn.Native', 'molsys.Native', 'pdb', 'pdbfixer.PDBFixer', 'xtc']\n",
      "openmm.Positions :  ['pdb', 'pdbfixer.PDBFixer']\n",
      "native :  ['openmm.Topology', 'pdb']\n",
      "parmed :  ['mol2', 'pdb', 'pdb:id']\n",
      "mdanalysis :  ['pdb']\n",
      "pdbfixer :  ['pdb', 'pdb:id']\n",
      "pdbfixer.PDBFixer :  ['pdb', 'pdb:id']\n"
     ]
    }
   ],
   "source": [
    "molmodmt.info_convert()"
   ]
  },
  {
   "cell_type": "markdown",
   "metadata": {},
   "source": [
    "A second example:"
   ]
  },
  {
   "cell_type": "code",
   "execution_count": 26,
   "metadata": {},
   "outputs": [],
   "source": [
    "system_parmed = molmodmt.load(MOL2_example_file,'parmed')"
   ]
  },
  {
   "cell_type": "code",
   "execution_count": 27,
   "metadata": {},
   "outputs": [],
   "source": [
    "system_mdtraj = molmodmt.convert(system_parmed,'mdtraj')"
   ]
  },
  {
   "cell_type": "code",
   "execution_count": 28,
   "metadata": {},
   "outputs": [],
   "source": [
    "molmodmt.convert(system_mdtraj,'caffeine.pdb')"
   ]
  },
  {
   "cell_type": "code",
   "execution_count": 29,
   "metadata": {},
   "outputs": [
    {
     "data": {
      "text/plain": [
       "['examples_MolSys',\n",
       " 'caffeine.pdb',\n",
       " '.ipynb_checkpoints',\n",
       " 'examples_MolDyn',\n",
       " 'Introduction.ipynb']"
      ]
     },
     "execution_count": 29,
     "metadata": {},
     "output_type": "execute_result"
    }
   ],
   "source": [
    "os.listdir('.')"
   ]
  },
  {
   "cell_type": "code",
   "execution_count": 30,
   "metadata": {},
   "outputs": [],
   "source": [
    "#less caffeine.pdb"
   ]
  },
  {
   "cell_type": "code",
   "execution_count": 31,
   "metadata": {},
   "outputs": [],
   "source": [
    "os.remove('caffeine.pdb')"
   ]
  },
  {
   "cell_type": "markdown",
   "metadata": {},
   "source": [
    "## Selection"
   ]
  },
  {
   "cell_type": "code",
   "execution_count": 32,
   "metadata": {},
   "outputs": [
    {
     "name": "stderr",
     "output_type": "stream",
     "text": [
      "/home/diego/Myopt/Miniconda/miniconda3/envs/MolModMT_devel/lib/python3.6/site-packages/mdtraj/formats/pdb/pdbfile.py:196: UserWarning: Unlikely unit cell vectors detected in PDB file likely resulting from a dummy CRYST1 record. Discarding unit cell vectors.\n",
      "  warnings.warn('Unlikely unit cell vectors detected in PDB file likely '\n"
     ]
    }
   ],
   "source": [
    "system_mdtraj     = molmodmt.load(PDB_example_file,'mdtraj')\n",
    "system_pdbfixer   = molmodmt.load(PDB_example_file,'pdbfixer')\n",
    "system_mdanalysis = molmodmt.load(PDB_example_file,'mdanalysis')\n",
    "system_parmed     = molmodmt.load(PDB_example_file,'parmed')"
   ]
  },
  {
   "cell_type": "code",
   "execution_count": 33,
   "metadata": {},
   "outputs": [
    {
     "data": {
      "text/plain": [
       "array([177, 184, 198, 209, 220, 227, 251, 265, 279, 293])"
      ]
     },
     "execution_count": 33,
     "metadata": {},
     "output_type": "execute_result"
    }
   ],
   "source": [
    "molmodmt.select(system_mdtraj,'name CA and resid 10 to 20')"
   ]
  },
  {
   "cell_type": "code",
   "execution_count": 34,
   "metadata": {},
   "outputs": [
    {
     "data": {
      "text/plain": [
       "array([177, 184, 198, 209, 220, 227, 251, 265, 279, 293])"
      ]
     },
     "execution_count": 34,
     "metadata": {},
     "output_type": "execute_result"
    }
   ],
   "source": [
    "molmodmt.select(system_pdbfixer,'name CA and resid 10 to 20')"
   ]
  },
  {
   "cell_type": "code",
   "execution_count": 35,
   "metadata": {},
   "outputs": [
    {
     "name": "stderr",
     "output_type": "stream",
     "text": [
      "/home/diego/Myopt/Miniconda/miniconda3/envs/MolModMT_devel/lib/python3.6/site-packages/mdtraj/utils/unitcell.py:78: UserWarning: All your angles were less than 2*pi. Did you accidentally give me radians?\n",
      "  warnings.warn('All your angles were less than 2*pi. Did you accidentally give me radians?')\n",
      "/home/diego/Myopt/Miniconda/miniconda3/envs/MolModMT_devel/lib/python3.6/site-packages/mdtraj/utils/unitcell.py:87: RuntimeWarning: invalid value encountered in true_divide\n",
      "  cy = c_length*(np.cos(alpha) - np.cos(beta)*np.cos(gamma)) / np.sin(gamma)\n",
      "/home/diego/Myopt/Miniconda/miniconda3/envs/MolModMT_devel/lib/python3.6/site-packages/mdtraj/utils/unitcell.py:99: RuntimeWarning: invalid value encountered in greater\n",
      "  c[np.logical_and(c>-tol, c<tol)] = 0.0\n",
      "/home/diego/Myopt/Miniconda/miniconda3/envs/MolModMT_devel/lib/python3.6/site-packages/mdtraj/utils/unitcell.py:99: RuntimeWarning: invalid value encountered in less\n",
      "  c[np.logical_and(c>-tol, c<tol)] = 0.0\n",
      "/home/diego/Myopt/Miniconda/miniconda3/envs/MolModMT_devel/lib/python3.6/site-packages/numpy/linalg/linalg.py:2022: RuntimeWarning: invalid value encountered in det\n",
      "  r = _umath_linalg.det(a, signature=signature)\n",
      "/home/diego/Myopt/Miniconda/miniconda3/envs/MolModMT_devel/lib/python3.6/site-packages/mdtraj/formats/pdb/pdbfile.py:194: RuntimeWarning: divide by zero encountered in true_divide\n",
      "  particle_density = traj.top.n_atoms / traj.unitcell_volumes[0]\n"
     ]
    },
    {
     "data": {
      "text/plain": [
       "array([177, 184, 198, 209, 220, 227, 251, 265, 279, 293])"
      ]
     },
     "execution_count": 35,
     "metadata": {},
     "output_type": "execute_result"
    }
   ],
   "source": [
    "molmodmt.select(system_mdanalysis,'name CA and resid 10 to 20')"
   ]
  },
  {
   "cell_type": "code",
   "execution_count": 36,
   "metadata": {},
   "outputs": [
    {
     "data": {
      "text/plain": [
       "array([177, 184, 198, 209, 220, 227, 251, 265, 279, 293])"
      ]
     },
     "execution_count": 36,
     "metadata": {},
     "output_type": "execute_result"
    }
   ],
   "source": [
    "molmodmt.select(system_parmed,'name CA and resid 10 to 20')"
   ]
  },
  {
   "cell_type": "code",
   "execution_count": 37,
   "metadata": {},
   "outputs": [
    {
     "data": {
      "text/plain": [
       "array([177, 184, 198, 209, 220, 227, 251, 265, 279, 293])"
      ]
     },
     "execution_count": 37,
     "metadata": {},
     "output_type": "execute_result"
    }
   ],
   "source": [
    "molmodmt.select(PDB_example_file,'name CA and resid 10 to 20')"
   ]
  },
  {
   "cell_type": "code",
   "execution_count": 38,
   "metadata": {},
   "outputs": [
    {
     "data": {
      "text/plain": [
       "array([177, 184, 198, 209, 220, 227, 251, 265, 279, 293])"
      ]
     },
     "execution_count": 38,
     "metadata": {},
     "output_type": "execute_result"
    }
   ],
   "source": [
    "molmodmt.select(\"pdb:1l2y\",'name CA and resid 10 to 20')"
   ]
  },
  {
   "cell_type": "code",
   "execution_count": 39,
   "metadata": {},
   "outputs": [
    {
     "data": {
      "text/plain": [
       "array([171, 178, 185, 199, 210, 221, 228, 252, 266, 280, 294])"
      ]
     },
     "execution_count": 39,
     "metadata": {},
     "output_type": "execute_result"
    }
   ],
   "source": [
    "molmodmt.select(system_mdanalysis,'name CA and (resid 10:20)','mdanalysis')"
   ]
  },
  {
   "cell_type": "code",
   "execution_count": 40,
   "metadata": {},
   "outputs": [
    {
     "data": {
      "text/plain": [
       "[170, 177, 184, 198, 209, 220, 227, 251, 265, 279, 293]"
      ]
     },
     "execution_count": 40,
     "metadata": {},
     "output_type": "execute_result"
    }
   ],
   "source": [
    "molmodmt.select(system_parmed,':10-20@CA','parmed')"
   ]
  },
  {
   "cell_type": "markdown",
   "metadata": {},
   "source": [
    "Geometric selection"
   ]
  },
  {
   "cell_type": "code",
   "execution_count": null,
   "metadata": {},
   "outputs": [],
   "source": []
  },
  {
   "cell_type": "markdown",
   "metadata": {},
   "source": [
    "## Extract part of a molecular system"
   ]
  },
  {
   "cell_type": "code",
   "execution_count": null,
   "metadata": {},
   "outputs": [],
   "source": []
  },
  {
   "cell_type": "code",
   "execution_count": null,
   "metadata": {},
   "outputs": [],
   "source": []
  },
  {
   "cell_type": "markdown",
   "metadata": {},
   "source": [
    "## Viewing molecular systems"
   ]
  },
  {
   "cell_type": "code",
   "execution_count": 41,
   "metadata": {},
   "outputs": [],
   "source": [
    "molmodmt.info_viewers()"
   ]
  },
  {
   "cell_type": "code",
   "execution_count": 42,
   "metadata": {},
   "outputs": [
    {
     "data": {
      "text/plain": [
       "['nglview']"
      ]
     },
     "execution_count": 42,
     "metadata": {},
     "output_type": "execute_result"
    }
   ],
   "source": [
    "molmodmt.info_viewers(for_form='pdb')"
   ]
  },
  {
   "cell_type": "code",
   "execution_count": 43,
   "metadata": {},
   "outputs": [
    {
     "data": {
      "text/plain": [
       "['mdanalysis',\n",
       " 'mdanalysis.Universe',\n",
       " 'mdtraj.Trajectory',\n",
       " 'modeller.Modeller',\n",
       " 'mol2',\n",
       " 'moldyn.Native',\n",
       " 'molsys.Native',\n",
       " 'openmm',\n",
       " 'parmed.Structure',\n",
       " 'pdb',\n",
       " 'pdb:id',\n",
       " 'pdbfixer.PDBFixer']"
      ]
     },
     "execution_count": 43,
     "metadata": {},
     "output_type": "execute_result"
    }
   ],
   "source": [
    "molmodmt.info_viewers(to_viewer='nglview')"
   ]
  },
  {
   "cell_type": "code",
   "execution_count": 44,
   "metadata": {},
   "outputs": [
    {
     "data": {
      "application/vnd.jupyter.widget-view+json": {
       "model_id": "5d5c92f52348455d97dcf4abe805ce37",
       "version_major": 2,
       "version_minor": 0
      },
      "text/plain": [
       "NGLWidget()"
      ]
     },
     "metadata": {},
     "output_type": "display_data"
    }
   ],
   "source": [
    "view=molmodmt.view(MOL2_example_file)\n",
    "view"
   ]
  },
  {
   "cell_type": "code",
   "execution_count": 45,
   "metadata": {},
   "outputs": [
    {
     "data": {
      "application/vnd.jupyter.widget-view+json": {
       "model_id": "c2ca57cc88e449d986117342089809ad",
       "version_major": 2,
       "version_minor": 0
      },
      "text/plain": [
       "NGLWidget()"
      ]
     },
     "metadata": {},
     "output_type": "display_data"
    }
   ],
   "source": [
    "view=molmodmt.view('pdb:1l2y')\n",
    "view"
   ]
  },
  {
   "cell_type": "code",
   "execution_count": 46,
   "metadata": {},
   "outputs": [
    {
     "data": {
      "application/vnd.jupyter.widget-view+json": {
       "model_id": "21f92f7859c34c22b200b4cb7b909e2a",
       "version_major": 2,
       "version_minor": 0
      },
      "text/plain": [
       "NGLWidget()"
      ]
     },
     "metadata": {},
     "output_type": "display_data"
    }
   ],
   "source": [
    "system_pdbfixer = molmodmt.load(PDB_example_file,'pdbfixer')\n",
    "view=molmodmt.view(system_pdbfixer)\n",
    "view"
   ]
  },
  {
   "cell_type": "code",
   "execution_count": null,
   "metadata": {},
   "outputs": [],
   "source": []
  }
 ],
 "metadata": {
  "kernelspec": {
   "display_name": "Python 3",
   "language": "python",
   "name": "python3"
  },
  "language_info": {
   "codemirror_mode": {
    "name": "ipython",
    "version": 3
   },
   "file_extension": ".py",
   "mimetype": "text/x-python",
   "name": "python",
   "nbconvert_exporter": "python",
   "pygments_lexer": "ipython3",
   "version": "3.6.7"
  }
 },
 "nbformat": 4,
 "nbformat_minor": 2
}
