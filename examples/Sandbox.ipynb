{
 "cells": [
  {
   "cell_type": "code",
   "execution_count": null,
   "metadata": {},
   "outputs": [],
   "source": [
    "%load_ext autoreload\n",
    "%autoreload 2"
   ]
  },
  {
   "cell_type": "code",
   "execution_count": null,
   "metadata": {},
   "outputs": [],
   "source": [
    "import molmodmt as m3"
   ]
  },
  {
   "cell_type": "code",
   "execution_count": null,
   "metadata": {},
   "outputs": [],
   "source": [
    "pdbs=['1VHI','1B3T','5T7X','5WMF']"
   ]
  },
  {
   "cell_type": "markdown",
   "metadata": {},
   "source": [
    "### Cargo sistemas como objetos nativos de pdbfixer"
   ]
  },
  {
   "cell_type": "code",
   "execution_count": null,
   "metadata": {},
   "outputs": [],
   "source": [
    "systems_pdbfixer ={}\n",
    "for pdbid in pdbs:\n",
    "     systems_pdbfixer[pdbid] = m3.fetch('pdb:'+pdbid,'pdbfixer')"
   ]
  },
  {
   "cell_type": "code",
   "execution_count": null,
   "metadata": {},
   "outputs": [],
   "source": [
    "m3.view(systems_pdbfixer['1VHI'])"
   ]
  },
  {
   "cell_type": "code",
   "execution_count": null,
   "metadata": {},
   "outputs": [],
   "source": [
    "m3.view(systems_pdbfixer['1B3T'])"
   ]
  },
  {
   "cell_type": "code",
   "execution_count": null,
   "metadata": {},
   "outputs": [],
   "source": [
    "m3.view(systems_pdbfixer['5T7X'])"
   ]
  },
  {
   "cell_type": "code",
   "execution_count": null,
   "metadata": {},
   "outputs": [],
   "source": [
    "m3.view(systems_pdbfixer['5WMF'])"
   ]
  },
  {
   "cell_type": "markdown",
   "metadata": {},
   "source": [
    "### Reparo y completo los sistemas con pdbfixer"
   ]
  },
  {
   "cell_type": "markdown",
   "metadata": {},
   "source": [
    "Únicamente vamos a:\n",
    "\n",
    "    -Quitar los átomos ajenos a la proteína (solvente, iones, heteroátomos...)\n",
    "    -Añadir átomos faltantes a residuos ya presentes.\n",
    "    -Añadir hidrógenos y protonar a pH 7.4\n",
    "\n",
    "Lo que no vamos a hacer todavía, aunque pdbfixer pueda, es:\n",
    "\n",
    "    -Añadir residuos faltantes\n",
    "    \n",
    "#### Quitamos aguas y heteroátomos de los cristales"
   ]
  },
  {
   "cell_type": "code",
   "execution_count": null,
   "metadata": {},
   "outputs": [],
   "source": [
    "for system_name in systems_pdbfixer:\n",
    "    print('> Systema', system_)\n",
    "    system_to_fix.removeHeterogens(keepWater=False)"
   ]
  },
  {
   "cell_type": "markdown",
   "metadata": {},
   "source": [
    "#### Vemos si hay residuos no estandard en los cristales"
   ]
  },
  {
   "cell_type": "code",
   "execution_count": null,
   "metadata": {},
   "outputs": [],
   "source": [
    "for system_to_fix in systems_pdbfixer:\n",
    "    "
   ]
  },
  {
   "cell_type": "code",
   "execution_count": null,
   "metadata": {},
   "outputs": [],
   "source": [
    "system_to_fix.findNonstandardResidues()\n",
    "system_to_fix.findMissingResidues()\n",
    "system_to_fix.findMissingAtoms()\n",
    "\n",
    "print('Non standard Residues:',system_to_fix.nonstandardResidues)\n",
    "print('Missing Residues:',system_to_fix.missingResidues)\n",
    "print('Missing Atoms:',system_to_fix.missingAtoms)\n",
    "\n",
    "m3t.view(system_to_fix)"
   ]
  },
  {
   "cell_type": "code",
   "execution_count": 3,
   "metadata": {},
   "outputs": [
    {
     "data": {
      "text/plain": [
       "'Nada'"
      ]
     },
     "execution_count": 3,
     "metadata": {},
     "output_type": "execute_result"
    }
   ],
   "source": [
    "nada='NADA'\n",
    "nada.capitalize()"
   ]
  },
  {
   "cell_type": "code",
   "execution_count": null,
   "metadata": {},
   "outputs": [],
   "source": []
  }
 ],
 "metadata": {
  "kernelspec": {
   "display_name": "Python 3",
   "language": "python",
   "name": "python3"
  },
  "language_info": {
   "codemirror_mode": {
    "name": "ipython",
    "version": 3
   },
   "file_extension": ".py",
   "mimetype": "text/x-python",
   "name": "python",
   "nbconvert_exporter": "python",
   "pygments_lexer": "ipython3",
   "version": "3.7.4"
  }
 },
 "nbformat": 4,
 "nbformat_minor": 4
}
