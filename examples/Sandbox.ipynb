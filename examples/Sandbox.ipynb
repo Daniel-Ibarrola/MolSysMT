{
 "cells": [
  {
   "cell_type": "code",
   "execution_count": 1,
   "metadata": {},
   "outputs": [],
   "source": [
    "%load_ext autoreload\n",
    "%autoreload 2"
   ]
  },
  {
   "cell_type": "code",
   "execution_count": 2,
   "metadata": {},
   "outputs": [],
   "source": [
    "import molmodmt as molmodmt"
   ]
  },
  {
   "cell_type": "code",
   "execution_count": 3,
   "metadata": {},
   "outputs": [],
   "source": [
    "system_pdbfixer = molmodmt.fetch('pdb:1vhi','pdbfixer')"
   ]
  },
  {
   "cell_type": "code",
   "execution_count": 8,
   "metadata": {},
   "outputs": [
    {
     "data": {
      "application/vnd.jupyter.widget-view+json": {
       "model_id": "a75000ce447945948ffd80b27c7e686f",
       "version_major": 2,
       "version_minor": 0
      },
      "text/plain": [
       "NGLWidget()"
      ]
     },
     "metadata": {},
     "output_type": "display_data"
    }
   ],
   "source": [
    "molmodmt.view(system_pdbfixer)"
   ]
  },
  {
   "cell_type": "code",
   "execution_count": 5,
   "metadata": {},
   "outputs": [],
   "source": [
    "chain_0 = molmodmt.extract(system_pdbfixer,'chainid 0','mdtraj')"
   ]
  },
  {
   "cell_type": "code",
   "execution_count": 6,
   "metadata": {},
   "outputs": [],
   "source": [
    "chain_1 = molmodmt.extract(system_pdbfixer,'chainid 1','mdtraj')"
   ]
  },
  {
   "cell_type": "code",
   "execution_count": 7,
   "metadata": {},
   "outputs": [
    {
     "ename": "ValueError",
     "evalue": "Input arrays must have same number of atoms. found 1230 and 1284.",
     "output_type": "error",
     "traceback": [
      "\u001b[0;31m---------------------------------------------------------------------------\u001b[0m",
      "\u001b[0;31mValueError\u001b[0m                                Traceback (most recent call last)",
      "\u001b[0;32m<ipython-input-7-fde2f56d496c>\u001b[0m in \u001b[0;36m<module>\u001b[0;34m\u001b[0m\n\u001b[0;32m----> 1\u001b[0;31m \u001b[0mchain_0\u001b[0m\u001b[0;34m.\u001b[0m\u001b[0msuperpose\u001b[0m\u001b[0;34m(\u001b[0m\u001b[0mchain_1\u001b[0m\u001b[0;34m)\u001b[0m\u001b[0;34m\u001b[0m\u001b[0;34m\u001b[0m\u001b[0m\n\u001b[0m",
      "\u001b[0;32m~/Myopt/Miniconda/miniconda3/envs/MolModMT_devel/lib/python3.6/site-packages/mdtraj/core/trajectory.py\u001b[0m in \u001b[0;36msuperpose\u001b[0;34m(self, reference, frame, atom_indices, ref_atom_indices, parallel)\u001b[0m\n\u001b[1;32m    976\u001b[0m         _rmsd.superpose_atom_major(\n\u001b[1;32m    977\u001b[0m             \u001b[0mref_align_xyz\u001b[0m\u001b[0;34m,\u001b[0m \u001b[0mself_align_xyz\u001b[0m\u001b[0;34m,\u001b[0m \u001b[0mref_g\u001b[0m\u001b[0;34m,\u001b[0m \u001b[0mself_g\u001b[0m\u001b[0;34m,\u001b[0m \u001b[0mself_displace_xyz\u001b[0m\u001b[0;34m,\u001b[0m\u001b[0;34m\u001b[0m\u001b[0;34m\u001b[0m\u001b[0m\n\u001b[0;32m--> 978\u001b[0;31m             0, parallel=parallel)\n\u001b[0m\u001b[1;32m    979\u001b[0m \u001b[0;34m\u001b[0m\u001b[0m\n\u001b[1;32m    980\u001b[0m         \u001b[0mself_displace_xyz\u001b[0m \u001b[0;34m+=\u001b[0m \u001b[0mref_offset\u001b[0m\u001b[0;34m\u001b[0m\u001b[0;34m\u001b[0m\u001b[0m\n",
      "\u001b[0;32mmdtraj/rmsd/_rmsd.pyx\u001b[0m in \u001b[0;36m_rmsd.superpose_atom_major (mdtraj/rmsd/_rmsd.c:5526)\u001b[0;34m()\u001b[0m\n",
      "\u001b[0;31mValueError\u001b[0m: Input arrays must have same number of atoms. found 1230 and 1284."
     ]
    }
   ],
   "source": []
  },
  {
   "cell_type": "code",
   "execution_count": null,
   "metadata": {},
   "outputs": [],
   "source": []
  }
 ],
 "metadata": {
  "kernelspec": {
   "display_name": "Python 3",
   "language": "python",
   "name": "python3"
  },
  "language_info": {
   "codemirror_mode": {
    "name": "ipython",
    "version": 3
   },
   "file_extension": ".py",
   "mimetype": "text/x-python",
   "name": "python",
   "nbconvert_exporter": "python",
   "pygments_lexer": "ipython3",
   "version": "3.6.7"
  }
 },
 "nbformat": 4,
 "nbformat_minor": 2
}
