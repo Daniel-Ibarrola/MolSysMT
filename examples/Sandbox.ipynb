{
 "cells": [
  {
   "cell_type": "code",
   "execution_count": 1,
   "metadata": {},
   "outputs": [],
   "source": [
    "%load_ext autoreload\n",
    "%autoreload 2"
   ]
  },
  {
   "cell_type": "code",
   "execution_count": 2,
   "metadata": {},
   "outputs": [],
   "source": [
    "import molmodmt as m3"
   ]
  },
  {
   "cell_type": "code",
   "execution_count": 3,
   "metadata": {},
   "outputs": [],
   "source": [
    "pdbs=['1VHI','1B3T','5T7X','5WMF']"
   ]
  },
  {
   "cell_type": "markdown",
   "metadata": {},
   "source": [
    "### Cargo sistemas como objetos nativos de pdbfixer"
   ]
  },
  {
   "cell_type": "code",
   "execution_count": 6,
   "metadata": {},
   "outputs": [],
   "source": [
    "systems_pdbfixer ={}\n",
    "for pdbid in pdbs:\n",
    "     systems_pdbfixer[pdbid] = m3.fetch('pdb:'+pdbid,'pdbfixer')"
   ]
  },
  {
   "cell_type": "code",
   "execution_count": 7,
   "metadata": {},
   "outputs": [
    {
     "data": {
      "application/vnd.jupyter.widget-view+json": {
       "model_id": "91c27a3efd44437abd1f21f0eff98ad2",
       "version_major": 2,
       "version_minor": 0
      },
      "text/plain": [
       "NGLWidget()"
      ]
     },
     "metadata": {},
     "output_type": "display_data"
    }
   ],
   "source": [
    "m3.view(systems_pdbfixer['1VHI'])"
   ]
  },
  {
   "cell_type": "code",
   "execution_count": 8,
   "metadata": {},
   "outputs": [
    {
     "data": {
      "application/vnd.jupyter.widget-view+json": {
       "model_id": "de1c6cd345924b26ac4aa7607ac48b64",
       "version_major": 2,
       "version_minor": 0
      },
      "text/plain": [
       "NGLWidget()"
      ]
     },
     "metadata": {},
     "output_type": "display_data"
    }
   ],
   "source": [
    "m3.view(systems_pdbfixer['1B3T'])"
   ]
  },
  {
   "cell_type": "code",
   "execution_count": 9,
   "metadata": {},
   "outputs": [
    {
     "data": {
      "application/vnd.jupyter.widget-view+json": {
       "model_id": "a8f887b358f0482cbecfc1b0ee14976d",
       "version_major": 2,
       "version_minor": 0
      },
      "text/plain": [
       "NGLWidget()"
      ]
     },
     "metadata": {},
     "output_type": "display_data"
    }
   ],
   "source": [
    "m3.view(systems_pdbfixer['5T7X'])"
   ]
  },
  {
   "cell_type": "code",
   "execution_count": 10,
   "metadata": {},
   "outputs": [
    {
     "data": {
      "application/vnd.jupyter.widget-view+json": {
       "model_id": "b9b3cf2859b64af2a0bdb48157ce2082",
       "version_major": 2,
       "version_minor": 0
      },
      "text/plain": [
       "NGLWidget()"
      ]
     },
     "metadata": {},
     "output_type": "display_data"
    }
   ],
   "source": [
    "m3.view(systems_pdbfixer['5WMF'])"
   ]
  },
  {
   "cell_type": "markdown",
   "metadata": {},
   "source": [
    "### Reparo y completo los sistemas con pdbfixer"
   ]
  },
  {
   "cell_type": "markdown",
   "metadata": {},
   "source": [
    "Únicamente vamos a:\n",
    "\n",
    "    -Quitar los átomos ajenos a la proteína (solvente, iones, heteroátomos...)\n",
    "    -Añadir átomos faltantes a residuos ya presentes.\n",
    "    -Añadir hidrógenos y protonar a pH 7.4\n",
    "\n",
    "Lo que no vamos a hacer todavía, aunque pdbfixer pueda, es:\n",
    "\n",
    "    -Añadir residuos faltantes\n",
    "    \n",
    "#### Quitamos aguas y heteroátomos de los cristales"
   ]
  },
  {
   "cell_type": "code",
   "execution_count": 12,
   "metadata": {},
   "outputs": [
    {
     "ename": "AttributeError",
     "evalue": "'str' object has no attribute 'removeHeterogens'",
     "output_type": "error",
     "traceback": [
      "\u001b[0;31m---------------------------------------------------------------------------\u001b[0m",
      "\u001b[0;31mAttributeError\u001b[0m                            Traceback (most recent call last)",
      "\u001b[0;32m<ipython-input-12-2b346a552d81>\u001b[0m in \u001b[0;36m<module>\u001b[0;34m\u001b[0m\n\u001b[1;32m      1\u001b[0m \u001b[0;32mfor\u001b[0m \u001b[0msystem_to_fix\u001b[0m \u001b[0;32min\u001b[0m \u001b[0msystems_pdbfixer\u001b[0m\u001b[0;34m:\u001b[0m\u001b[0;34m\u001b[0m\u001b[0;34m\u001b[0m\u001b[0m\n\u001b[0;32m----> 2\u001b[0;31m     \u001b[0msystem_to_fix\u001b[0m\u001b[0;34m.\u001b[0m\u001b[0mremoveHeterogens\u001b[0m\u001b[0;34m(\u001b[0m\u001b[0mkeepWater\u001b[0m\u001b[0;34m=\u001b[0m\u001b[0;32mFalse\u001b[0m\u001b[0;34m)\u001b[0m\u001b[0;34m\u001b[0m\u001b[0;34m\u001b[0m\u001b[0m\n\u001b[0m",
      "\u001b[0;31mAttributeError\u001b[0m: 'str' object has no attribute 'removeHeterogens'"
     ]
    }
   ],
   "source": [
    "for system_name in systems_pdbfixer:\n",
    "    print('> Systema', system_)\n",
    "    system_to_fix.removeHeterogens(keepWater=False)"
   ]
  },
  {
   "cell_type": "markdown",
   "metadata": {},
   "source": [
    "#### Vemos si hay residuos no estandard en los cristales"
   ]
  },
  {
   "cell_type": "code",
   "execution_count": null,
   "metadata": {},
   "outputs": [],
   "source": [
    "for system_to_fix in systems_pdbfixer:\n",
    "    "
   ]
  },
  {
   "cell_type": "code",
   "execution_count": null,
   "metadata": {},
   "outputs": [],
   "source": [
    "system_to_fix.findNonstandardResidues()\n",
    "system_to_fix.findMissingResidues()\n",
    "system_to_fix.findMissingAtoms()\n",
    "\n",
    "print('Non standard Residues:',system_to_fix.nonstandardResidues)\n",
    "print('Missing Residues:',system_to_fix.missingResidues)\n",
    "print('Missing Atoms:',system_to_fix.missingAtoms)\n",
    "\n",
    "m3t.view(system_to_fix)"
   ]
  }
 ],
 "metadata": {
  "kernelspec": {
   "display_name": "Python 3",
   "language": "python",
   "name": "python3"
  },
  "language_info": {
   "codemirror_mode": {
    "name": "ipython",
    "version": 3
   },
   "file_extension": ".py",
   "mimetype": "text/x-python",
   "name": "python",
   "nbconvert_exporter": "python",
   "pygments_lexer": "ipython3",
   "version": "3.7.1"
  }
 },
 "nbformat": 4,
 "nbformat_minor": 2
}
