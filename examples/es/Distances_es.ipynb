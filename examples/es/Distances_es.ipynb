{
 "cells": [
  {
   "cell_type": "markdown",
   "metadata": {},
   "source": [
    "## Listas de vecinos"
   ]
  },
  {
   "cell_type": "markdown",
   "metadata": {},
   "source": [
    "En esta sección veremos cómo usar el método `molsysmt.neighbors_lists` para calcular listas de vecinos. Estas listas de vecinos pueden ser definidas de dos maneras según tomen valor uno de los dos argumentos de entrada `num_neighbors` o `threshold`. Veamos en primer lugar el uso de `num_neighbors`, calculemos los dos primeros vecinos de cada uno de los elementos de `set_A`."
   ]
  },
  {
   "cell_type": "code",
   "execution_count": null,
   "metadata": {},
   "outputs": [],
   "source": [
    "neighbors, distances = m3t.neighbors_lists(item_1=set_A, num_neighbors=2)"
   ]
  },
  {
   "cell_type": "code",
   "execution_count": null,
   "metadata": {},
   "outputs": [],
   "source": [
    "distances"
   ]
  },
  {
   "cell_type": "code",
   "execution_count": null,
   "metadata": {},
   "outputs": [],
   "source": [
    "neighbors, distances = m3t.neighbors_lists(item_1=set_A, threshold=2.0*unit.nanometers)"
   ]
  },
  {
   "cell_type": "code",
   "execution_count": null,
   "metadata": {},
   "outputs": [],
   "source": [
    "distances"
   ]
  },
  {
   "cell_type": "markdown",
   "metadata": {},
   "source": [
    "Jugar con las selecciones, etc... el caso  es que tengo que quitar el mismo elemento, por eso sale 0. Y eso sólo cuando es el mismo item, con la misma selección y los mismos frames."
   ]
  },
  {
   "cell_type": "markdown",
   "metadata": {},
   "source": [
    "## Mapas de contactos\n",
    "\n",
    "MolSysMT cuenta con un método para especificamente calcular mapas de contactos. Los argumentos de entrada y la manera de uso de este método es muy similar a las funciones descritas anteriormente. Veamos por ejemplo en primer lugar cómo calcular el mapa de contactos entre los elementos de un modelo molecular dada una distancia umbral. Tomaremos como ejemplo el modelo `set_A` definido desde el comienzo de este notebook y la distancia umbral 2.0 nm."
   ]
  },
  {
   "cell_type": "code",
   "execution_count": 20,
   "metadata": {},
   "outputs": [],
   "source": [
    "contactos = m3t.contact_map(item_1=set_A, threshold=2.0*unit.nanometers)"
   ]
  },
  {
   "cell_type": "markdown",
   "metadata": {},
   "source": [
    "El resultado es un tensor lógico, o booleano, que codifica el mapa de contactos observado para cada uno de los frames. Es decir, el tensor tiene rango 3 donde el primer rango hace referencia al índice de frame y el segundo y tercer rango a los indices de elementos de `set_A` frente a los mismo indices."
   ]
  },
  {
   "cell_type": "code",
   "execution_count": 17,
   "metadata": {},
   "outputs": [
    {
     "data": {
      "text/plain": [
       "(3, 3, 3)"
      ]
     },
     "execution_count": 17,
     "metadata": {},
     "output_type": "execute_result"
    }
   ],
   "source": [
    "contactos.shape"
   ]
  },
  {
   "cell_type": "markdown",
   "metadata": {},
   "source": [
    "De esta manera por ejemplo podemos ver si el elemento 0-ésimo de `set_A` está en contacto con el elemento 2-esimo de `set_A` en el frame 1-ésimo según:"
   ]
  },
  {
   "cell_type": "code",
   "execution_count": 18,
   "metadata": {},
   "outputs": [
    {
     "data": {
      "text/plain": [
       "False"
      ]
     },
     "execution_count": 18,
     "metadata": {},
     "output_type": "execute_result"
    }
   ],
   "source": [
    "contactos[1][0][2]"
   ]
  },
  {
   "cell_type": "markdown",
   "metadata": {},
   "source": [
    "O podemos ver el mapa de contactos del frame 2-ésimo simplemente con:"
   ]
  },
  {
   "cell_type": "code",
   "execution_count": 30,
   "metadata": {},
   "outputs": [
    {
     "data": {
      "text/plain": [
       "array([[ True, False, False],\n",
       "       [False,  True,  True],\n",
       "       [False,  True,  True]])"
      ]
     },
     "execution_count": 30,
     "metadata": {},
     "output_type": "execute_result"
    }
   ],
   "source": [
    "contactos[1]"
   ]
  },
  {
   "cell_type": "code",
   "execution_count": 31,
   "metadata": {},
   "outputs": [],
   "source": [
    "import networkx as nx"
   ]
  },
  {
   "cell_type": "code",
   "execution_count": 32,
   "metadata": {},
   "outputs": [],
   "source": [
    "G = nx.from_numpy_matrix(contactos[1])"
   ]
  },
  {
   "cell_type": "code",
   "execution_count": 33,
   "metadata": {},
   "outputs": [
    {
     "data": {
      "text/plain": [
       "[{0}, {1, 2}]"
      ]
     },
     "execution_count": 33,
     "metadata": {},
     "output_type": "execute_result"
    }
   ],
   "source": [
    "list(nx.connected_components(G))"
   ]
  },
  {
   "cell_type": "markdown",
   "metadata": {},
   "source": [
    "## Distancias entre grupos "
   ]
  },
  {
   "cell_type": "markdown",
   "metadata": {},
   "source": [
    "## Distancias mínimas o máximas entre grupos"
   ]
  },
  {
   "cell_type": "markdown",
   "metadata": {},
   "source": [
    "## Listas de vecinos entre grupos"
   ]
  },
  {
   "cell_type": "markdown",
   "metadata": {},
   "source": [
    "## Mapas de contactos entre grupos"
   ]
  },
  {
   "cell_type": "code",
   "execution_count": null,
   "metadata": {},
   "outputs": [],
   "source": [
    "molsys = m3t.load('/home/diego/1brs.pdb', selection='chainid 0 or chainid 3')"
   ]
  },
  {
   "cell_type": "code",
   "execution_count": null,
   "metadata": {},
   "outputs": [],
   "source": [
    "m3t.view(molsys)"
   ]
  },
  {
   "cell_type": "code",
   "execution_count": null,
   "metadata": {},
   "outputs": [],
   "source": [
    "dists_CAs = m3t.distance(molsys, selection_1=\"chainid 0 and name CA\", selection_2=\"chainid 3 and name CA\")"
   ]
  },
  {
   "cell_type": "code",
   "execution_count": null,
   "metadata": {},
   "outputs": [],
   "source": [
    "chain0_CAs = m3t.select(molsys, \"chainid 0 and name CA\")\n",
    "chain3_CAs = m3t.select(molsys, \"chainid 3 and name CA\")\n",
    "\n",
    "ii=10\n",
    "jj=20\n",
    "frame_index=0\n",
    "\n",
    "print('La distancia entre el átomo {} y el átomo {} es {}'.format(chain0_CAs[ii], chain3_CAs[jj], dists_CAs[frame_index,ii,jj]))"
   ]
  },
  {
   "cell_type": "code",
   "execution_count": null,
   "metadata": {},
   "outputs": [],
   "source": [
    "dists_CAs = m3t.distance(molsys, selection_1=\"chainid 0 and name CA\", selection_2=\"chainid 3 and name CA\", output_form='dict')"
   ]
  },
  {
   "cell_type": "code",
   "execution_count": null,
   "metadata": {},
   "outputs": [],
   "source": [
    "ii=74\n",
    "jj=1022\n",
    "frame_index=0\n",
    "\n",
    "print('La distancia entre el átomo {} y el átomo {} es {}'.format(ii, jj, dists_CAs[ii][jj][frame_index]))"
   ]
  },
  {
   "cell_type": "code",
   "execution_count": null,
   "metadata": {},
   "outputs": [],
   "source": [
    "m3t.get(molsys, target='atom', indices=[74,1022], index=True, id=True, name=True, element=True)"
   ]
  },
  {
   "cell_type": "code",
   "execution_count": null,
   "metadata": {},
   "outputs": [],
   "source": []
  }
 ],
 "metadata": {
  "kernelspec": {
   "display_name": "Python 3",
   "language": "python",
   "name": "python3"
  },
  "language_info": {
   "codemirror_mode": {
    "name": "ipython",
    "version": 3
   },
   "file_extension": ".py",
   "mimetype": "text/x-python",
   "name": "python",
   "nbconvert_exporter": "python",
   "pygments_lexer": "ipython3",
   "version": "3.7.7"
  }
 },
 "nbformat": 4,
 "nbformat_minor": 4
}
