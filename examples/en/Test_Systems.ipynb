{
 "cells": [
  {
   "cell_type": "code",
   "execution_count": null,
   "metadata": {},
   "outputs": [],
   "source": [
    "%load_ext autoreload\n",
    "%autoreload 2"
   ]
  },
  {
   "cell_type": "code",
   "execution_count": null,
   "metadata": {},
   "outputs": [],
   "source": [
    "import molsysmt as m3t"
   ]
  },
  {
   "cell_type": "markdown",
   "metadata": {},
   "source": [
    "# Test Systems\n",
    "\n",
    "### PDB: 1TCD\n",
    "\n",
    "Complejo dimerico con aguas cristalizadas alrededor de cada monomero.\n",
    "\n",
    "### PDB: 1SUX\n",
    "\n",
    "Complejo dimerico con aguas cristalizadas y con tres ligandos. Este sistema tiene la peculiaridad de tener varios aminoacidos en dos conformaciones distintas con número de ocupación distinta.\n",
    "\n",
    "### PDB: 1QG8\n",
    "\n",
    "Tiene cadenas incompletas, fragmentadas.\n",
    "\n",
    "### PDB: 1B3T\n",
    "\n",
    "Dos moléculas de más de una component y cadena: dimero (EBNA1) y dna\n",
    "\n",
    "\n",
    "### PDB: 1GZX\n",
    "\n",
    "Hemoglobina\n"
   ]
  },
  {
   "cell_type": "code",
   "execution_count": null,
   "metadata": {},
   "outputs": [],
   "source": [
    "aa = m3t.load('mmtf:1qg8')"
   ]
  },
  {
   "cell_type": "code",
   "execution_count": null,
   "metadata": {},
   "outputs": [],
   "source": [
    "aa.composition.n_atoms"
   ]
  },
  {
   "cell_type": "code",
   "execution_count": null,
   "metadata": {},
   "outputs": [],
   "source": []
  }
 ],
 "metadata": {
  "kernelspec": {
   "display_name": "Python 3",
   "language": "python",
   "name": "python3"
  },
  "language_info": {
   "codemirror_mode": {
    "name": "ipython",
    "version": 3
   },
   "file_extension": ".py",
   "mimetype": "text/x-python",
   "name": "python",
   "nbconvert_exporter": "python",
   "pygments_lexer": "ipython3",
   "version": "3.7.4"
  }
 },
 "nbformat": 4,
 "nbformat_minor": 4
}
