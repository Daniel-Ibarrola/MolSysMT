{
 "cells": [
  {
   "cell_type": "code",
   "execution_count": 1,
   "metadata": {},
   "outputs": [],
   "source": [
    "%load_ext autoreload\n",
    "%autoreload 2"
   ]
  },
  {
   "cell_type": "code",
   "execution_count": 2,
   "metadata": {},
   "outputs": [
    {
     "data": {
      "application/vnd.jupyter.widget-view+json": {
       "model_id": "e741a91fd2b14b5296f6bc631780a15a",
       "version_major": 2,
       "version_minor": 0
      },
      "text/plain": [
       "_ColormakerRegistry()"
      ]
     },
     "metadata": {},
     "output_type": "display_data"
    }
   ],
   "source": [
    "import molsysmt as msm"
   ]
  },
  {
   "cell_type": "markdown",
   "metadata": {},
   "source": [
    "# How to load a molecular system\n",
    "\n",
    "Probably the first operation to begin to work with a molecular model is loading it. There is a method to do that with MolSysMT no matter the original form or the desired output form: `molsysmt.load()`. Lets see some simple examples."
   ]
  },
  {
   "cell_type": "markdown",
   "metadata": {},
   "source": [
    "## From files\n",
    "\n",
    "MolSysMT is able to load several file formats, see `Formats`. Here are some examples:"
   ]
  },
  {
   "cell_type": "code",
   "execution_count": 7,
   "metadata": {},
   "outputs": [
    {
     "name": "stdout",
     "output_type": "stream",
     "text": [
      "[blue_text](url_here)\n"
     ]
    }
   ],
   "source": [
    "print('[blue_text](url_here)')"
   ]
  },
  {
   "cell_type": "code",
   "execution_count": 8,
   "metadata": {},
   "outputs": [
    {
     "name": "stdout",
     "output_type": "stream",
     "text": [
      "http://google.com\n"
     ]
    }
   ],
   "source": [
    "print('http://google.com')"
   ]
  },
  {
   "cell_type": "code",
   "execution_count": 5,
   "metadata": {},
   "outputs": [
    {
     "name": "stdout",
     "output_type": "stream",
     "text": [
      "From... to...\n",
      "XYZ :  []\n",
      "pdbfixer.PDBFixer :  ['aminoacids1:seq', 'aminoacids3:seq', 'biopython.Seq', 'biopython.SeqRecord', 'mdtraj.Topology', 'mdtraj.Trajectory', 'nglview', 'openmm.Modeller', 'openmm.Topology', 'parmed.Structure', 'pdb', 'yank.Topography']\n",
      "pandas.Frame :  []\n",
      "mdtraj.XTCTrajectoryFile :  []\n",
      "parmed.GromacsTopologyFile :  ['mdtraj.Topology', 'mol2', 'openmm.Topology', 'top']\n",
      "molmodmt.DataFrame :  ['molsysmt.Composition']\n",
      "mdtraj.Topology :  ['aminoacids1:seq', 'aminoacids3:seq', 'molsysmt.DataFrame', 'openmm.Topology', 'pandas.DataFrame', 'parmed.GromacsTopologyFile', 'parmed.Structure', 'top', 'yank.Topography']\n",
      "molmodmt.Composition :  ['molsysmt.DataFrame', 'networkx.Graph']\n",
      "molmodmt.MolMod :  ['aminoacids1:seq', 'aminoacids3:seq', 'biopython.Seq', 'biopython.SeqRecord', 'mdtraj.Topology', 'mdtraj.Trajectory', 'nglview', 'pdb']\n",
      "openmm.PDBFile :  ['mdtraj.Topology', 'mdtraj.Trajectory', 'nglview', 'openmm.Topology']\n",
      "biopython.Seq :  ['biopython.SeqRecord', 'fasta']\n",
      "mdtraj.Trajectory :  ['aminoacids1:seq', 'aminoacids3:seq', 'biopython.Seq', 'biopython.SeqRecord', 'mdtraj.Topology', 'molsysmt.Composition', 'molsysmt.DataFrame', 'molsysmt.MolSys', 'molsysmt.Trajectory', 'nglview', 'openmm.Modeller', 'openmm.Topology', 'parmed.Structure', 'pdb', 'pdbfixer.PDBFixer', 'xtc', 'yank.Topography']\n",
      "molmodmt.Card :  []\n",
      "networkx.Graph :  []\n",
      "mdanalysis.Universe :  ['MDTraj', 'nglview', 'pdb']\n",
      "mmtf.MMTFDecoder :  ['mmtf', 'molsysmt.Composition', 'molsysmt.DataFrame', 'molsysmt.MolSys', 'molsysmt.Trajectory']\n",
      "pytraj.Trajectory :  ['nglview']\n",
      "openmm.Context :  []\n",
      "openmm.System :  []\n",
      "mdtraj.PDBTrajectoryFile :  ['mdtraj.topology']\n",
      "biopython.SeqRecord :  ['fasta', 'pir']\n",
      "pandas.XYZ :  []\n",
      "pandas.Topology :  []\n",
      "molmodmt.TrajectoryFile :  []\n",
      "molmodmt.Trajectory :  ['mdtraj.Trajectory', 'nglview', 'parmed.GromacsTopologyFile', 'top', 'xtc']\n",
      "openmm.Topology :  ['mdtraj.Topology', 'molsysmt.Composition', 'molsysmt.DataFrame', 'molsysmt.MolSys', 'parmed.Structure', 'yank.Topography']\n",
      "openmm.Modeller :  ['mdtraj.Topology', 'mdtraj.Trajectory', 'molsysmt.MolSys', 'nglview', 'openmm.System', 'openmm.Topology', 'pdb', 'pdbfixer.PDBFixer']\n",
      "parmed.Structure :  ['mdtraj.Topology', 'mdtraj.Trajectory', 'mol2', 'nglview', 'openmm.Modeller', 'pdb']\n",
      "openmm.Simulation :  ['openmm.Modeller', 'openmm.Topology', 'pdb', 'pdbfixer.PDBFixer']\n",
      "mdtraj.HDF5TrajectoryFile :  []\n",
      "molmodmt.Topography :  []\n",
      "yank.Topography :  ['openmm.Topology']\n",
      "sdf :  []\n",
      "mmtf :  ['mmtf.MMTFDecoder', 'molsysmt.Composition', 'molsysmt.DataFrame', 'molsysmt.MolSys']\n",
      "mol2 :  ['mdtraj.Trajectory', 'nglview', 'openmm.Modeller', 'parmed.Structure', 'pdb']\n",
      "pir :  []\n",
      "xtc :  ['mdtraj.Trajectory', 'mdtraj.XTCTrajectoryFile', 'molsysmt.MolSys', 'parmed.GromacsTopologyFile', 'parmed.Structure']\n",
      "h5 :  ['mdtraj.HDF5TrajectoryFile', 'mdtraj.Topology', 'mdtraj.Trajectory', 'molsysmt.MolSys']\n",
      "top :  ['mdtraj.Topology', 'molsysmt.Structure', 'openmm.GromacsTopFile', 'openmm.Topology', 'parmed.GromacsTopologyFile', 'parmed.Structure', 'top']\n",
      "pdb :  ['mdanalysis.Universe', 'mdtraj.PDBTrajectoryFile', 'mdtraj.Topology', 'mdtraj.Trajectory', 'mol2', 'molsysmt.MolSys', 'molsysmt.Topology', 'molsysmt.Trajectory', 'nglview', 'openmm.Modeller', 'openmm.PDBFile', 'openmm.Topology', 'parmed.Structure', 'pdbfixer.PDBFixer', 'yank.Topography']\n",
      "smi :  []\n",
      "ddb :  []\n",
      "fasta :  ['biopython.SeqRecord']\n",
      "dcd :  ['mdanalysis.Universe', 'mdtraj.Trajectory']\n",
      "mmtf:id :  ['fasta', 'mdanalysis.Universe', 'mdtraj.Trajectory', 'mmtf', 'mmtf.MMTFDecoder', 'molsysmt.Composition', 'molsysmt.MolSys', 'molsysmt.Trajectory', 'nglview', 'openmm.Modeller', 'parmed.Structure', 'pdb', 'pdbfixer.PDBFixer', 'pytraj.Trajectory']\n",
      "UniProt:id :  ['aminoacids1:seq', 'aminoacids3:seq']\n",
      "ChEMBL:id :  ['UniProt:id']\n",
      "pdb:id :  ['fasta', 'mdanalysis.Universe', 'mdtraj.Topology', 'mdtraj.Trajectory', 'mmtf', 'mmtf.MMTFDecoder', 'molsysmt.MolSys', 'nglview', 'openmm.Modeller', 'parmed.Structure', 'pdb', 'pdbfixer.PDBFixer', 'pytraj.Trajectory', 'yank.Topography']\n",
      "aminoacids3:seq :  ['aminoacids1:seq', 'biopython.Seq', 'biopython.SeqRecord', 'fasta']\n",
      "secondary_structure_dssp:seq :  ['secondary.structure.abc']\n",
      "smile:seq :  []\n",
      "secondary_structure_abc:seq :  []\n",
      "aminoacids1:seq :  ['aminoacids3:seq', 'biopython.Seq', 'biopython.SeqRecord', 'fasta', 'pir']\n",
      "nglview :  []\n",
      "\n",
      "To... from...\n",
      "aminoacids3:seq :  ['UniProt:id', 'aminoacids1:seq', 'mdtraj.Topology', 'mdtraj.Trajectory', 'molmodmt.MolMod', 'pdbfixer.PDBFixer']\n",
      "aminoacids1:seq :  ['UniProt:id', 'aminoacids3:seq', 'mdtraj.Topology', 'mdtraj.Trajectory', 'molmodmt.MolMod', 'pdbfixer.PDBFixer']\n",
      "biopython.Seq :  ['aminoacids1:seq', 'aminoacids3:seq', 'mdtraj.Trajectory', 'molmodmt.MolMod', 'pdbfixer.PDBFixer']\n",
      "biopython.SeqRecord :  ['aminoacids1:seq', 'aminoacids3:seq', 'biopython.Seq', 'fasta', 'mdtraj.Trajectory', 'molmodmt.MolMod', 'pdbfixer.PDBFixer']\n",
      "mdtraj.Topology :  ['h5', 'mdtraj.Trajectory', 'molmodmt.MolMod', 'openmm.Modeller', 'openmm.PDBFile', 'openmm.Topology', 'parmed.GromacsTopologyFile', 'parmed.Structure', 'pdb', 'pdb:id', 'pdbfixer.PDBFixer', 'top']\n",
      "mdtraj.Trajectory :  ['dcd', 'h5', 'mmtf:id', 'mol2', 'molmodmt.MolMod', 'molmodmt.Trajectory', 'openmm.Modeller', 'openmm.PDBFile', 'parmed.Structure', 'pdb', 'pdb:id', 'pdbfixer.PDBFixer', 'xtc']\n",
      "openmm.Modeller :  ['mdtraj.Trajectory', 'mmtf:id', 'mol2', 'openmm.Simulation', 'parmed.Structure', 'pdb', 'pdb:id', 'pdbfixer.PDBFixer']\n",
      "openmm.Topology :  ['mdtraj.Topology', 'mdtraj.Trajectory', 'openmm.Modeller', 'openmm.PDBFile', 'openmm.Simulation', 'parmed.GromacsTopologyFile', 'pdb', 'pdbfixer.PDBFixer', 'top', 'yank.Topography']\n",
      "yank.Topography :  ['mdtraj.Topology', 'mdtraj.Trajectory', 'openmm.Topology', 'pdb', 'pdb:id', 'pdbfixer.PDBFixer']\n",
      "parmed.Structure :  ['mdtraj.Topology', 'mdtraj.Trajectory', 'mmtf:id', 'mol2', 'openmm.Topology', 'pdb', 'pdb:id', 'pdbfixer.PDBFixer', 'top', 'xtc']\n",
      "pdb :  ['mdanalysis.Universe', 'mdtraj.Trajectory', 'mmtf:id', 'mol2', 'molmodmt.MolMod', 'openmm.Modeller', 'openmm.Simulation', 'parmed.Structure', 'pdb:id', 'pdbfixer.PDBFixer']\n",
      "nglview :  ['mdanalysis.Universe', 'mdtraj.Trajectory', 'mmtf:id', 'mol2', 'molmodmt.MolMod', 'molmodmt.Trajectory', 'openmm.Modeller', 'openmm.PDBFile', 'parmed.Structure', 'pdb', 'pdb:id', 'pdbfixer.PDBFixer', 'pytraj.Trajectory']\n",
      "mol2 :  ['parmed.GromacsTopologyFile', 'parmed.Structure', 'pdb']\n",
      "top :  ['mdtraj.Topology', 'molmodmt.Trajectory', 'parmed.GromacsTopologyFile', 'top']\n",
      "molsysmt.Composition :  ['mdtraj.Trajectory', 'mmtf', 'mmtf.MMTFDecoder', 'mmtf:id', 'molmodmt.DataFrame', 'openmm.Topology']\n",
      "molsysmt.DataFrame :  ['mdtraj.Topology', 'mdtraj.Trajectory', 'mmtf', 'mmtf.MMTFDecoder', 'molmodmt.Composition', 'openmm.Topology']\n",
      "parmed.GromacsTopologyFile :  ['mdtraj.Topology', 'molmodmt.Trajectory', 'top', 'xtc']\n",
      "pandas.DataFrame :  ['mdtraj.Topology']\n",
      "networkx.Graph :  ['molmodmt.Composition']\n",
      "fasta :  ['aminoacids1:seq', 'aminoacids3:seq', 'biopython.Seq', 'biopython.SeqRecord', 'mmtf:id', 'pdb:id']\n",
      "molsysmt.MolSys :  ['h5', 'mdtraj.Trajectory', 'mmtf', 'mmtf.MMTFDecoder', 'mmtf:id', 'openmm.Modeller', 'openmm.Topology', 'pdb', 'pdb:id', 'xtc']\n",
      "molsysmt.Trajectory :  ['mdtraj.Trajectory', 'mmtf.MMTFDecoder', 'mmtf:id', 'pdb']\n",
      "pdbfixer.PDBFixer :  ['mdtraj.Trajectory', 'mmtf:id', 'openmm.Modeller', 'openmm.Simulation', 'pdb', 'pdb:id']\n",
      "xtc :  ['mdtraj.Trajectory', 'molmodmt.Trajectory']\n",
      "MDTraj :  ['mdanalysis.Universe']\n",
      "mmtf :  ['mmtf.MMTFDecoder', 'mmtf:id', 'pdb:id']\n",
      "mdtraj.topology :  ['mdtraj.PDBTrajectoryFile']\n",
      "pir :  ['aminoacids1:seq', 'biopython.SeqRecord']\n",
      "openmm.System :  ['openmm.Modeller']\n",
      "mmtf.MMTFDecoder :  ['mmtf', 'mmtf:id', 'pdb:id']\n",
      "mdtraj.XTCTrajectoryFile :  ['xtc']\n",
      "mdtraj.HDF5TrajectoryFile :  ['h5']\n",
      "molsysmt.Structure :  ['top']\n",
      "openmm.GromacsTopFile :  ['top']\n",
      "molsysmt.Topology :  ['pdb']\n",
      "mdanalysis.Universe :  ['dcd', 'mmtf:id', 'pdb', 'pdb:id']\n",
      "mdtraj.PDBTrajectoryFile :  ['pdb']\n",
      "openmm.PDBFile :  ['pdb']\n",
      "pytraj.Trajectory :  ['mmtf:id', 'pdb:id']\n",
      "UniProt:id :  ['ChEMBL:id']\n",
      "secondary.structure.abc :  ['secondary_structure_dssp:seq']\n"
     ]
    }
   ],
   "source": [
    "msm.info_load()"
   ]
  },
  {
   "cell_type": "markdown",
   "metadata": {},
   "source": [
    "<div class=\"alert alert-block alert-info\">\n",
    "<b>Note:</b> As you will see in Basic Manipuations, the method `molsysmt.load` is equivalent to `molsysmt.convert`. The only reason to include `molsysmt.load` in MolSysMT is that 'loading' an initial object is more intuitive for many users than 'converting' a form.\n",
    "</div>"
   ]
  },
  {
   "cell_type": "markdown",
   "metadata": {},
   "source": [
    "## Fetching molecular models from web databases"
   ]
  },
  {
   "cell_type": "markdown",
   "metadata": {},
   "source": [
    "### From the Protein Data Bank\n",
    "\n",
    "The way to tell MolSysMT that a string is a PDB ID code is adding 'pdb:' at the begining of the string as suffix. For instance, the 'pdb:1SUX' item is recognized as a molecular model encoded by its PDB ID, or using the MolSysMT's jargon: as a molecular model in its 'pdb:id' form."
   ]
  },
  {
   "cell_type": "code",
   "execution_count": null,
   "metadata": {},
   "outputs": [],
   "source": [
    "m3t.get_form('pdb:1SUX')"
   ]
  },
  {
   "cell_type": "markdown",
   "metadata": {},
   "source": [
    "Let see how this PDB ID can be used as input as the input item of `molsysmt.load()`"
   ]
  },
  {
   "cell_type": "code",
   "execution_count": null,
   "metadata": {},
   "outputs": [],
   "source": [
    "molecular_model = m3t.load('pdb:1SUX')"
   ]
  },
  {
   "cell_type": "code",
   "execution_count": null,
   "metadata": {},
   "outputs": [],
   "source": []
  },
  {
   "cell_type": "markdown",
   "metadata": {},
   "source": [
    "In its most simple way of calling `molsysmt.load()`, the output is a molecular model in the native form of MolSysMT."
   ]
  },
  {
   "cell_type": "code",
   "execution_count": null,
   "metadata": {},
   "outputs": [],
   "source": []
  },
  {
   "cell_type": "code",
   "execution_count": null,
   "metadata": {},
   "outputs": [],
   "source": []
  },
  {
   "cell_type": "markdown",
   "metadata": {},
   "source": [
    "You probably don’t remember how to fetch a pdb from the protein data bank to be loaded in your script as a parmed, pdbfixer, mdtraj, nglview, pytraj, mdanalysis, or mmtf native object -just to mention some-. One of the MolSysMT main features is the ability"
   ]
  },
  {
   "cell_type": "code",
   "execution_count": null,
   "metadata": {},
   "outputs": [],
   "source": [
    "molecular_model = m3t.load('pdb:1SUX', to_form='mmtf.MMTFDecoder')"
   ]
  },
  {
   "cell_type": "code",
   "execution_count": null,
   "metadata": {},
   "outputs": [],
   "source": [
    "m3t.get_form(molecular_model)"
   ]
  },
  {
   "cell_type": "code",
   "execution_count": null,
   "metadata": {},
   "outputs": [],
   "source": [
    "from mmtf import fetch"
   ]
  },
  {
   "cell_type": "code",
   "execution_count": null,
   "metadata": {},
   "outputs": [],
   "source": [
    "aa = fetch('1sux')"
   ]
  },
  {
   "cell_type": "code",
   "execution_count": null,
   "metadata": {},
   "outputs": [],
   "source": [
    "import mmtf"
   ]
  },
  {
   "cell_type": "code",
   "execution_count": null,
   "metadata": {},
   "outputs": [],
   "source": [
    "help(mmtf.write_mmtf)"
   ]
  },
  {
   "cell_type": "code",
   "execution_count": null,
   "metadata": {},
   "outputs": [],
   "source": [
    "mmtf.write_mmtf('prueba.mmtf',aa)"
   ]
  },
  {
   "cell_type": "code",
   "execution_count": null,
   "metadata": {},
   "outputs": [],
   "source": [
    "mmtf.api.write_mmtf('nada.mmtf',aa,'all')"
   ]
  },
  {
   "cell_type": "markdown",
   "metadata": {},
   "source": [
    "## From MMTF file"
   ]
  },
  {
   "cell_type": "code",
   "execution_count": null,
   "metadata": {},
   "outputs": [],
   "source": [
    "molecular_model = m3t.load('1tcd.mmtf', to_form='molsysmt.DataFrame')"
   ]
  },
  {
   "cell_type": "code",
   "execution_count": null,
   "metadata": {},
   "outputs": [],
   "source": []
  }
 ],
 "metadata": {
  "kernelspec": {
   "display_name": "Python 3",
   "language": "python",
   "name": "python3"
  },
  "language_info": {
   "codemirror_mode": {
    "name": "ipython",
    "version": 3
   },
   "file_extension": ".py",
   "mimetype": "text/x-python",
   "name": "python",
   "nbconvert_exporter": "python",
   "pygments_lexer": "ipython3",
   "version": "3.7.7"
  }
 },
 "nbformat": 4,
 "nbformat_minor": 4
}
