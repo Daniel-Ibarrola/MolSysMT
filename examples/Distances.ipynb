{
 "cells": [
  {
   "cell_type": "code",
   "execution_count": 1,
   "metadata": {},
   "outputs": [],
   "source": [
    "%load_ext autoreload\n",
    "%autoreload 2"
   ]
  },
  {
   "cell_type": "code",
   "execution_count": 2,
   "metadata": {},
   "outputs": [
    {
     "name": "stderr",
     "output_type": "stream",
     "text": [
      "/home/diego/Myusr/opt/miniconda3/envs/UIBCDF_lab_dev/lib/python3.7/site-packages/yank-0.24.2-py3.7-linux-x86_64.egg/yank/experiment.py:1170: YAMLLoadWarning: calling yaml.load() without Loader=... is deprecated, as the default Loader is unsafe. Please read https://msg.pyyaml.org/load for full details.\n",
      "  \"\"\")\n"
     ]
    },
    {
     "data": {
      "application/vnd.jupyter.widget-view+json": {
       "model_id": "044859b71cf4495e8120560708210ffd",
       "version_major": 2,
       "version_minor": 0
      },
      "text/plain": [
       "_ColormakerRegistry()"
      ]
     },
     "metadata": {},
     "output_type": "display_data"
    }
   ],
   "source": [
    "import molmodmt as m3t\n",
    "import nglview as nv\n",
    "from simtk import unit\n",
    "import numpy as np"
   ]
  },
  {
   "cell_type": "markdown",
   "metadata": {},
   "source": [
    "# Cálculo de distancias"
   ]
  },
  {
   "cell_type": "markdown",
   "metadata": {},
   "source": [
    "El cálculo de distancias en MolModMT se puede hacer actualmente recurriendo a dos motores: el propio conjunto de librerías de MolMoMT programadas para tal efecto y las encontradas en la librería MDTraj (en el futuro se añadirán MDAnalysis y Pytraj). La opción por defecto, si no se especifica otra cosa, es usar el código propio de MolModMT. Si por algún motivo se prefiere realizar los cálculos empleando métodos de MDTraj, se puede añadir el argumento de entrada `engine='MDTraj'` a cada uno de los métodos que aparecen a continuación."
   ]
  },
  {
   "cell_type": "markdown",
   "metadata": {},
   "source": [
    "## Distancias simples"
   ]
  },
  {
   "cell_type": "markdown",
   "metadata": {},
   "source": [
    "MolModMT acepta trabajar con matrices de coordenadas espaciales como la forma más simple de codificar las posiciones de un modelo molecular de átomos iguales, sin información topológica. Es lo que MolModMT denomina objeto `XYZ`:"
   ]
  },
  {
   "cell_type": "code",
   "execution_count": 3,
   "metadata": {},
   "outputs": [],
   "source": [
    "model_A = np.zeros([6,3], dtype='float64') * unit.angstroms"
   ]
  },
  {
   "cell_type": "code",
   "execution_count": 4,
   "metadata": {},
   "outputs": [
    {
     "data": {
      "text/plain": [
       "'XYZ'"
      ]
     },
     "execution_count": 4,
     "metadata": {},
     "output_type": "execute_result"
    }
   ],
   "source": [
    "m3t.get_form(model_A)"
   ]
  },
  {
   "cell_type": "code",
   "execution_count": 5,
   "metadata": {},
   "outputs": [
    {
     "data": {
      "text/plain": [
       "[1, 6]"
      ]
     },
     "execution_count": 5,
     "metadata": {},
     "output_type": "execute_result"
    }
   ],
   "source": [
    "m3t.get(model_A, n_frames=True, n_atoms=True)"
   ]
  },
  {
   "cell_type": "markdown",
   "metadata": {},
   "source": [
    "El objeto XYZ debe ser un tensor de tipo array de numpy de rango 3 o 2 según sea: [índice_frame, indice_átomo, coordenada] o [índice_atómo, coordenada], donde coordenada es x, y o z. Es obligatorio que este array de numpy lleve unidades de longitud."
   ]
  },
  {
   "cell_type": "code",
   "execution_count": 6,
   "metadata": {},
   "outputs": [],
   "source": [
    "model_A = np.zeros([2,4,3], dtype='float64') * unit.nanometers"
   ]
  },
  {
   "cell_type": "code",
   "execution_count": 7,
   "metadata": {},
   "outputs": [
    {
     "data": {
      "text/plain": [
       "[2, 4]"
      ]
     },
     "execution_count": 7,
     "metadata": {},
     "output_type": "execute_result"
    }
   ],
   "source": [
    "m3t.get(model_A, n_frames=True, n_atoms=True)"
   ]
  },
  {
   "cell_type": "markdown",
   "metadata": {},
   "source": [
    "### Distancia simple entre puntos"
   ]
  },
  {
   "cell_type": "markdown",
   "metadata": {},
   "source": [
    "El caso más sencillo que podemos resolver en cuanto al cálculo de distancias es el de la distancia entre los puntos de un conjunto, o entre dos conjuntos distintos de puntos en el espacio, sin condiciones de contorno periódicas. "
   ]
  },
  {
   "cell_type": "markdown",
   "metadata": {},
   "source": [
    "#### Caso 1\n",
    "\n",
    "Supongamos un conjunto único conjunto de tres puntos con coordenadas que adjudicaremos arbitrariamente a modo de ejemplo:"
   ]
  },
  {
   "cell_type": "code",
   "execution_count": 8,
   "metadata": {},
   "outputs": [],
   "source": [
    "set_A = np.zeros([1,3,3], dtype='float64') * unit.nanometers\n",
    "\n",
    "set_A[0,0,:] = [0, 2, -1] * unit.nanometers\n",
    "set_A[0,1,:] = [-1, 1, 1] * unit.nanometers\n",
    "set_A[0,2,:] = [-2, 0, 1] * unit.nanometers"
   ]
  },
  {
   "cell_type": "markdown",
   "metadata": {},
   "source": [
    "Podemos calcular la distancia entre los elementos de `set_A` como:"
   ]
  },
  {
   "cell_type": "code",
   "execution_count": 9,
   "metadata": {},
   "outputs": [],
   "source": [
    "distances = m3t.distance(item_1=set_A)"
   ]
  },
  {
   "cell_type": "code",
   "execution_count": 10,
   "metadata": {},
   "outputs": [
    {
     "data": {
      "text/plain": [
       "Quantity(value=array([[[0.        , 2.44948974, 3.46410162],\n",
       "        [2.44948974, 0.        , 1.41421356],\n",
       "        [3.46410162, 1.41421356, 0.        ]]]), unit=nanometer)"
      ]
     },
     "execution_count": 10,
     "metadata": {},
     "output_type": "execute_result"
    }
   ],
   "source": [
    "distances"
   ]
  },
  {
   "cell_type": "markdown",
   "metadata": {},
   "source": [
    "El resultado es un tensor de rango 3 donde el primer rango es el índice de frame, en este caso no hay más que uno, y el segundo y el tercer rango corresponden a los indices de los elementos de `set_A`:"
   ]
  },
  {
   "cell_type": "code",
   "execution_count": 11,
   "metadata": {},
   "outputs": [
    {
     "data": {
      "text/plain": [
       "(1, 3, 3)"
      ]
     },
     "execution_count": 11,
     "metadata": {},
     "output_type": "execute_result"
    }
   ],
   "source": [
    "distances.shape"
   ]
  },
  {
   "cell_type": "markdown",
   "metadata": {},
   "source": [
    "De tal manera que la distancia entre el elemento 0-ésimo y el 2-ésimo en el único frame 0-ésimo es:"
   ]
  },
  {
   "cell_type": "code",
   "execution_count": 12,
   "metadata": {},
   "outputs": [
    {
     "name": "stdout",
     "output_type": "stream",
     "text": [
      "3.4641016151377544 nm\n"
     ]
    }
   ],
   "source": [
    "print(distances[0,0,2])"
   ]
  },
  {
   "cell_type": "markdown",
   "metadata": {},
   "source": [
    "Si quisíeramos haber calculado únicamente la distancia entre esos dos elementos podríamos haber recurrido a:"
   ]
  },
  {
   "cell_type": "code",
   "execution_count": 13,
   "metadata": {},
   "outputs": [],
   "source": [
    "distances = m3t.distance(item_1=set_A, selection_1=0, selection_2=2)"
   ]
  },
  {
   "cell_type": "code",
   "execution_count": 14,
   "metadata": {},
   "outputs": [
    {
     "name": "stdout",
     "output_type": "stream",
     "text": [
      "[[[3.46410162]]] nm\n"
     ]
    }
   ],
   "source": [
    "print(distances)"
   ]
  },
  {
   "cell_type": "markdown",
   "metadata": {},
   "source": [
    "Observa que la forma del array es un tensor de rango 3 donde en este caso todas las dimensiones son iguales a 1:"
   ]
  },
  {
   "cell_type": "code",
   "execution_count": 15,
   "metadata": {},
   "outputs": [
    {
     "data": {
      "text/plain": [
       "(1, 1, 1)"
      ]
     },
     "execution_count": 15,
     "metadata": {},
     "output_type": "execute_result"
    }
   ],
   "source": [
    "distances.shape"
   ]
  },
  {
   "cell_type": "markdown",
   "metadata": {},
   "source": [
    "Esto es porque en este caso sólo tenemos un frame (primer rango) con dos listas de elementos (segundo y tercer rango): `selection_1` y `selection_2`. Y en este caso ambas listas contienen un único elemento, el 0-ésimo en el primer caso y el 2-ésimo en el segundo. Veamos ahora qué pasa si queremos calcular la distancia entre el elemento 0-ésimo y los otros dos:"
   ]
  },
  {
   "cell_type": "code",
   "execution_count": 16,
   "metadata": {},
   "outputs": [],
   "source": [
    "distances = m3t.distance(item_1=set_A, selection_1=0, selection_2=[1,2])"
   ]
  },
  {
   "cell_type": "code",
   "execution_count": 17,
   "metadata": {},
   "outputs": [
    {
     "data": {
      "text/plain": [
       "(1, 1, 2)"
      ]
     },
     "execution_count": 17,
     "metadata": {},
     "output_type": "execute_result"
    }
   ],
   "source": [
    "distances.shape"
   ]
  },
  {
   "cell_type": "markdown",
   "metadata": {},
   "source": [
    "El tensor de distancias tiene ahora dimensión 2 en el último rango. ¿Cómo entonces por ejemplo veríamos cúal es la distancia entre el elemento 0-ésimo y el 2-ésimo en el único frame que tenemos según el actual objeto `distances`? "
   ]
  },
  {
   "cell_type": "code",
   "execution_count": 18,
   "metadata": {},
   "outputs": [
    {
     "name": "stdout",
     "output_type": "stream",
     "text": [
      "3.4641016151377544 nm\n"
     ]
    }
   ],
   "source": [
    "print(distances[0,0,1])"
   ]
  },
  {
   "cell_type": "markdown",
   "metadata": {},
   "source": [
    "Para mayor claridad podemos también obtener el resultado del método `molmodmt.distance` como diccionario, donde ahora sí podemos recurrir al índice de elemento expresado en los argumentos `selection_1` y `selection_2`:"
   ]
  },
  {
   "cell_type": "code",
   "execution_count": 19,
   "metadata": {},
   "outputs": [],
   "source": [
    "distances = m3t.distance(item_1=set_A, selection_1=0, selection_2=[1,2], output_form='dict')"
   ]
  },
  {
   "cell_type": "code",
   "execution_count": 20,
   "metadata": {},
   "outputs": [
    {
     "name": "stdout",
     "output_type": "stream",
     "text": [
      "{0: {1: Quantity(value=array([2.44948974]), unit=nanometer), 2: Quantity(value=array([3.46410162]), unit=nanometer)}}\n"
     ]
    }
   ],
   "source": [
    "print(distances)"
   ]
  },
  {
   "cell_type": "markdown",
   "metadata": {},
   "source": [
    "En realidad el objeto `distances` es ahora un diccionario de diccionarios para poder rápidamente conocer las distancias entre dos elementos en función del índice de frame. Veamos cómo acceder a la lista de distancias para los diferentes frames (aquí sólo uno) entre el elemento 0-ésimo incluido en `selection_1` y el 2-ésimo incluido en `selection_2`:"
   ]
  },
  {
   "cell_type": "code",
   "execution_count": 21,
   "metadata": {},
   "outputs": [
    {
     "name": "stdout",
     "output_type": "stream",
     "text": [
      "[3.46410162] nm\n"
     ]
    }
   ],
   "source": [
    "print(distances[0][2])"
   ]
  },
  {
   "cell_type": "markdown",
   "metadata": {},
   "source": [
    "#### Caso 2\n",
    "\n",
    "Supongamos ahora que tenemos dos conjuntos de puntos en el espacio en tres instantes de tiempo: `set_A` con tres elementos y `set_B` con dos."
   ]
  },
  {
   "cell_type": "code",
   "execution_count": 22,
   "metadata": {},
   "outputs": [],
   "source": [
    "# Set_A inicializado a cero:\n",
    "set_A = np.zeros([3,3,3], dtype='float64') * unit.nanometers\n",
    "\n",
    "## coordenadas del primer elemento de Set_A para los tres frames \n",
    "set_A[0,0,:] = [0, 2, -1] * unit.nanometers\n",
    "set_A[1,0,:] = [1, 2, -1] * unit.nanometers\n",
    "set_A[2,0,:] = [0, 2, -1] * unit.nanometers\n",
    "\n",
    "## coordenadas del segundo elemento de Set_A para los tres frames\n",
    "set_A[0,1,:] = [-1, 1, 1] * unit.nanometers\n",
    "set_A[1,1,:] = [-1, 0, 1] * unit.nanometers\n",
    "set_A[2,1,:] = [0, 0, 1] * unit.nanometers\n",
    "\n",
    "## coordenadas del tercer elemento de Set_A para los tres frames\n",
    "set_A[0,2,:] = [-2, 0, 1] * unit.nanometers\n",
    "set_A[1,2,:] = [-2, 0, 0] * unit.nanometers\n",
    "set_A[2,2,:] = [-1, 1, 0] * unit.nanometers\n",
    "\n",
    "# Set_B inicializado a cero:\n",
    "\n",
    "set_B = np.zeros([3,2,3], dtype='float64') * unit.nanometers\n",
    "\n",
    "## coordenadas del primer elemento de Set_B para los tres frames\n",
    "set_B[0,0,:] = [4, -2, 0] * unit.nanometers\n",
    "set_B[1,0,:] = [5, -2, -1] * unit.nanometers\n",
    "set_B[2,0,:] = [5, -2, 0] * unit.nanometers\n",
    "\n",
    "## coordenadas del segundo elemento de Set_B para los tres frames\n",
    "set_B[0,1,:] = [3, 0, -1] * unit.nanometers\n",
    "set_B[1,1,:] = [3, 1, 0] * unit.nanometers\n",
    "set_B[2,1,:] = [4, 1, 1] * unit.nanometers"
   ]
  },
  {
   "cell_type": "markdown",
   "metadata": {},
   "source": [
    "Podemos ahora invocando una sola vez el método `molmodmt.distance` calcular todas las distancias entre los elementos de ambos conjuntos para todos los frames:"
   ]
  },
  {
   "cell_type": "code",
   "execution_count": 23,
   "metadata": {},
   "outputs": [],
   "source": [
    "distances = m3t.distance(item_1=set_A, item_2=set_B)"
   ]
  },
  {
   "cell_type": "markdown",
   "metadata": {},
   "source": [
    "De esta manera podemos por ejemplo acceder a la distancia entre el elemento 2-ésimo de `set_A` y el elemento 0-ésimo de `set_B` para el segundo frame o frame 1-ésimo."
   ]
  },
  {
   "cell_type": "code",
   "execution_count": 24,
   "metadata": {},
   "outputs": [
    {
     "name": "stdout",
     "output_type": "stream",
     "text": [
      "7.3484692283495345 nm\n"
     ]
    }
   ],
   "source": [
    "print(distances[1,2,0])"
   ]
  },
  {
   "cell_type": "markdown",
   "metadata": {},
   "source": [
    "O imprimir esta distancia en función para todos los frames:"
   ]
  },
  {
   "cell_type": "code",
   "execution_count": 25,
   "metadata": {},
   "outputs": [
    {
     "name": "stdout",
     "output_type": "stream",
     "text": [
      "[6.40312424 7.34846923 6.70820393] nm\n"
     ]
    }
   ],
   "source": [
    "print(distances[:,2,0])"
   ]
  },
  {
   "cell_type": "markdown",
   "metadata": {},
   "source": [
    "Como vimos en el caso anterior, podemos ordenar que la salida del método `molmodmt.distance` sea en forma de diccionario de diccionarios."
   ]
  },
  {
   "cell_type": "code",
   "execution_count": 26,
   "metadata": {},
   "outputs": [],
   "source": [
    "distances = m3t.distance(item_1=set_A, item_2=set_B, output_form='dict')"
   ]
  },
  {
   "cell_type": "markdown",
   "metadata": {},
   "source": [
    "Podemos entonces acceder a las mismas distancias que anteriormente:"
   ]
  },
  {
   "cell_type": "code",
   "execution_count": 27,
   "metadata": {},
   "outputs": [
    {
     "name": "stdout",
     "output_type": "stream",
     "text": [
      "7.3484692283495345 nm\n"
     ]
    }
   ],
   "source": [
    "# distancia entre el elemento 2-ésimo de set_A y 0-ésimo para el segundo frame\n",
    "print(distances[2][0][1])"
   ]
  },
  {
   "cell_type": "code",
   "execution_count": 28,
   "metadata": {},
   "outputs": [
    {
     "name": "stdout",
     "output_type": "stream",
     "text": [
      "[6.40312424 7.34846923 6.70820393] nm\n"
     ]
    }
   ],
   "source": [
    "# distancia entre el elemento 2-ésimo de set_A y 0-ésimo en cada frame\n",
    "print(distances[2][0])"
   ]
  },
  {
   "cell_type": "markdown",
   "metadata": {},
   "source": [
    "Esta manera de sacar los datos puede ser muy conveniente cuando calculamos distancias entre listas de elementos de ambos conjuntos. Supongamos que queremos calcular las distancias entre los elementos 1-ésimo y 2-ésimo de `set_A` y el elemento 1-ésimo de `set_B` para todos los frames. Primero veamos cómo hacerlo con la salida tipo tensor (salida por defecto):"
   ]
  },
  {
   "cell_type": "code",
   "execution_count": 29,
   "metadata": {},
   "outputs": [],
   "source": [
    "distances = m3t.distance(item_1=set_A, selection_1=[1,2], item_2=set_B, selection_2=1)"
   ]
  },
  {
   "cell_type": "markdown",
   "metadata": {},
   "source": [
    "De esta manera las distancias por ejemplo para ambos frames entre el elemento 2-ésimo de `set_A` con el elemento 1-ésimo de `set_B` se situan ahora en la posición 1-ésima (por ser el 1-ésimo elemento de la lista `selection_1`) frente a la 0-ésima (por ser el elemento 0-ésimo elemento, único en este caso, de la lista `selection_2`) en el segundo y tercer rango del tensor correspondientemente:"
   ]
  },
  {
   "cell_type": "code",
   "execution_count": 30,
   "metadata": {},
   "outputs": [
    {
     "name": "stdout",
     "output_type": "stream",
     "text": [
      "[5.38516481 5.09901951 5.09901951] nm\n"
     ]
    }
   ],
   "source": [
    "print(distances[:,1,0])"
   ]
  },
  {
   "cell_type": "markdown",
   "metadata": {},
   "source": [
    "La salida de `molmodmt.distances` tipo diccionario de diccionarios puede hacer más cómodo el trabajo con las distancias resultado, ya que el diccionario recupera los índices iniciales de cada elemento en ambos conjuntos `set_A` y `set_B`."
   ]
  },
  {
   "cell_type": "code",
   "execution_count": 31,
   "metadata": {},
   "outputs": [],
   "source": [
    "distances = m3t.distance(item_1=set_A, selection_1=[1,2], item_2=set_B, selection_2=1, output_form='dict')"
   ]
  },
  {
   "cell_type": "markdown",
   "metadata": {},
   "source": [
    "La lista de distancias para los distintos frames entre el elemento 2-ésimo de `set_A` y el 1-ésimo de `set_B`, las mismas que anteriormente, puede ser encontrada según: "
   ]
  },
  {
   "cell_type": "code",
   "execution_count": 32,
   "metadata": {},
   "outputs": [
    {
     "name": "stdout",
     "output_type": "stream",
     "text": [
      "[5.38516481 5.09901951 5.09901951] nm\n"
     ]
    }
   ],
   "source": [
    "print(distances[2][1])"
   ]
  },
  {
   "cell_type": "markdown",
   "metadata": {},
   "source": [
    "Por último, supongamos que únicamente queremos calcular la distancia entre estas dos últimas selecciones para el frame 0-ésimo y el 2-ésimo. Podemos incluir también como argumento de entrada en `molmodmt.distance` la selección de una lista de frames:"
   ]
  },
  {
   "cell_type": "code",
   "execution_count": 42,
   "metadata": {},
   "outputs": [],
   "source": [
    "distances = m3t.distance(item_1=set_A, selection_1=[1,2], frame_indices_1=[0,2],\n",
    "                         item_2=set_B, selection_2=1, frame_indices_2=[0,2])"
   ]
  },
  {
   "cell_type": "markdown",
   "metadata": {},
   "source": [
    "Esta vez el resultado es un tensor donde ahora ya no tiene dimensión 3 en el primer rango, sino 2 (dos frames):"
   ]
  },
  {
   "cell_type": "code",
   "execution_count": 43,
   "metadata": {},
   "outputs": [
    {
     "data": {
      "text/plain": [
       "(2, 2, 1)"
      ]
     },
     "execution_count": 43,
     "metadata": {},
     "output_type": "execute_result"
    }
   ],
   "source": [
    "distances.shape"
   ]
  },
  {
   "cell_type": "markdown",
   "metadata": {},
   "source": [
    "Supongamos que queremos acceder a la distancia entre el elemento 2-ésimo de `set_A` con el elemento 1-ésimo de `set_B` en el frame 2-ésimo:"
   ]
  },
  {
   "cell_type": "code",
   "execution_count": 45,
   "metadata": {},
   "outputs": [
    {
     "name": "stdout",
     "output_type": "stream",
     "text": [
      "5.0990195135927845 nm\n"
     ]
    }
   ],
   "source": [
    "print(distances[1,1,0])"
   ]
  },
  {
   "cell_type": "markdown",
   "metadata": {},
   "source": [
    "Puedes comprobar que dado que `frame_indices_1` y `frame_indices_2` son iguales, puedes prescindir de `frame_indices_2`. El resultado será el mismo ya que el método sobreentiende que se trata de la misma selección de índices de frame cuando `frame_indices_2=None` y calcula las distancias entre las respectivas selecciones de elementos de ambos items en cada uno de los frames indicados únicamente en `frame_indices_1`:"
   ]
  },
  {
   "cell_type": "code",
   "execution_count": 47,
   "metadata": {},
   "outputs": [],
   "source": [
    "distances = m3t.distance(item_1=set_A, selection_1=[1,2], frame_indices_1=[0,2],\n",
    "                         item_2=set_B, selection_2=1)"
   ]
  },
  {
   "cell_type": "code",
   "execution_count": 48,
   "metadata": {},
   "outputs": [
    {
     "data": {
      "text/plain": [
       "(2, 2, 1)"
      ]
     },
     "execution_count": 48,
     "metadata": {},
     "output_type": "execute_result"
    }
   ],
   "source": [
    "distances.shape"
   ]
  },
  {
   "cell_type": "markdown",
   "metadata": {},
   "source": [
    "En esta situación en la que estamos incluyendo una lista de indices de frames, la salida de `molmodmt.distance` en forma de diccionario de diccionarios tambien respeta los índices originales en el caso de los frames:"
   ]
  },
  {
   "cell_type": "code",
   "execution_count": 49,
   "metadata": {},
   "outputs": [],
   "source": [
    "distances = m3t.distance(item_1=set_A, selection_1=[1,2], frame_indices_1=[0,2],\n",
    "                         item_2=set_B, selection_2=1, output_form='dict')"
   ]
  },
  {
   "cell_type": "markdown",
   "metadata": {},
   "source": [
    "Ahora podemos conocer las distancias entre dos elementos en un frame determinado sin tener que acudir a los indices de dichos elementos y frame que tienen en las listas `selection_1`, `selection_2` y `frame_indices_1`. Basta con los índices absolutos originales que para el caso anterior son 2-ésimo de `set_A` y 1-ésimo de `set_B` en el frame 2-ésimo:"
   ]
  },
  {
   "cell_type": "code",
   "execution_count": 51,
   "metadata": {},
   "outputs": [
    {
     "name": "stdout",
     "output_type": "stream",
     "text": [
      "5.0990195135927845 nm\n"
     ]
    }
   ],
   "source": [
    "print(distances[2][1][2])"
   ]
  },
  {
   "cell_type": "markdown",
   "metadata": {},
   "source": [
    "## Distancias de desplazamiento o distancias entre distintas selecciones de índices de frame\n",
    "\n",
    "La final de la sección anterior vimos cómo podemos hacer una selección de índices de frame cuando calculamos las distancias entre los elementos de dos modelos moleculares (objetos XYZ aquí). Podríamos ahora, por ejemplo, con lo aprendido hasta aquí calcular la distancia entre la selección `selection_1` del `item_1` en un cierto frame, por ejemplo el 0-ésimo, y la selección `selection_2` del `item_2` en otro cierto frame, por ejemplo el 2-ésimo:"
   ]
  },
  {
   "cell_type": "code",
   "execution_count": 53,
   "metadata": {},
   "outputs": [],
   "source": [
    "distances = m3t.distance(item_1=set_A, selection_1=[1,2], frame_indices_1=0,\n",
    "                         item_2=set_B, selection_2=1, frame_indices_2=2)"
   ]
  },
  {
   "cell_type": "code",
   "execution_count": 54,
   "metadata": {},
   "outputs": [
    {
     "data": {
      "text/plain": [
       "(1, 2, 1)"
      ]
     },
     "execution_count": 54,
     "metadata": {},
     "output_type": "execute_result"
    }
   ],
   "source": [
    "distances.shape"
   ]
  },
  {
   "cell_type": "code",
   "execution_count": 64,
   "metadata": {},
   "outputs": [
    {
     "name": "stdout",
     "output_type": "stream",
     "text": [
      "La distancia entre el elemento 2-ésimo del set_A en el frame 0 y el elemento 1-ésimo del set_Ben el frame 2 es 6.082762530298219 nm\n"
     ]
    }
   ],
   "source": [
    "print('La distancia entre el elemento 2-ésimo del set_A en el frame 0 y el elemento 1-ésimo del set_B\\\n",
    " en el frame 2 es {}'.format(distances[0,1,0]))"
   ]
  },
  {
   "cell_type": "markdown",
   "metadata": {},
   "source": [
    "O atendiendo a dos listas de índices de frames que serán enfrentadas secuencialmente: primer elemento de la primera lista frente a primer elemento de la segunda lista, segundo frente a segundo, y así consecutivamente:"
   ]
  },
  {
   "cell_type": "code",
   "execution_count": 65,
   "metadata": {},
   "outputs": [],
   "source": [
    "distances = m3t.distance(item_1=set_A, selection_1=[1,2], frame_indices_1=[0,1],\n",
    "                         item_2=set_B, selection_2=1, frame_indices_2=[1,2])"
   ]
  },
  {
   "cell_type": "code",
   "execution_count": 66,
   "metadata": {},
   "outputs": [
    {
     "data": {
      "text/plain": [
       "(2, 2, 1)"
      ]
     },
     "execution_count": 66,
     "metadata": {},
     "output_type": "execute_result"
    }
   ],
   "source": [
    "distances.shape"
   ]
  },
  {
   "cell_type": "code",
   "execution_count": 68,
   "metadata": {},
   "outputs": [
    {
     "name": "stdout",
     "output_type": "stream",
     "text": [
      "La distancia entre el elemento 2-ésimo del set_A en el frame 0 y el elemento 1-ésimo del set_B en el frame 1 es 5.196152422706632 nm\n",
      "La distancia entre el elemento 2-ésimo del set_A en el frame 1 y el elemento 1-ésimo del set_B en el frame 2 es 6.164414002968976 nm\n"
     ]
    }
   ],
   "source": [
    "print('La distancia entre el elemento 2-ésimo del set_A en el frame 0 y el elemento 1-ésimo del set_B\\\n",
    " en el frame 1 es {}'.format(distances[0,1,0]))\n",
    "print('La distancia entre el elemento 2-ésimo del set_A en el frame 1 y el elemento 1-ésimo del set_B\\\n",
    " en el frame 2 es {}'.format(distances[1,1,0]))"
   ]
  },
  {
   "cell_type": "markdown",
   "metadata": {},
   "source": [
    "O el mismo cálculo con su salida en forma de diccionario:"
   ]
  },
  {
   "cell_type": "code",
   "execution_count": 70,
   "metadata": {},
   "outputs": [],
   "source": [
    "distances = m3t.distance(item_1=set_A, selection_1=[1,2], frame_indices_1=[0,1],\n",
    "                         item_2=set_B, selection_2=1, frame_indices_2=[1,2], output_form='dict')"
   ]
  },
  {
   "cell_type": "markdown",
   "metadata": {},
   "source": [
    "Donde dado que la relación entre índices de frame es uno a uno (el 0-ésimo de `set_A` frente al 1-ésimo de `set_B` y el 1-ésimo de `set_A` frente al 2-ésimo de `set_B`, en este caso), el diccionario resultante apela únicamente al índice original de `frame_indices_1`:"
   ]
  },
  {
   "cell_type": "code",
   "execution_count": 71,
   "metadata": {},
   "outputs": [
    {
     "name": "stdout",
     "output_type": "stream",
     "text": [
      "La distancia entre el elemento 2-ésimo del set_A en el frame 0 y el elemento 1-ésimo del set_B en el frame 1 es 5.196152422706632 nm\n",
      "La distancia entre el elemento 2-ésimo del set_A en el frame 1 y el elemento 1-ésimo del set_B en el frame 2 es 6.164414002968976 nm\n"
     ]
    }
   ],
   "source": [
    "print('La distancia entre el elemento 2-ésimo del set_A en el frame 0 y el elemento 1-ésimo del set_B\\\n",
    " en el frame 1 es {}'.format(distances[2][1][0]))\n",
    "print('La distancia entre el elemento 2-ésimo del set_A en el frame 1 y el elemento 1-ésimo del set_B\\\n",
    " en el frame 2 es {}'.format(distances[2][1][1]))"
   ]
  },
  {
   "cell_type": "markdown",
   "metadata": {},
   "source": [
    "De esta manera podríamos incluso enfrentar ciertos elementos del set_A en todos sus frames contra ciertos elementos de set_B de un mismo frame, por ejemplo frente al 0-ésimo."
   ]
  },
  {
   "cell_type": "code",
   "execution_count": 73,
   "metadata": {},
   "outputs": [],
   "source": [
    "distances = m3t.distance(item_1=set_A, selection_1=[0,1,2], frame_indices_1=[0,1,2],\n",
    "                         item_2=set_B, selection_2=1, frame_indices_2=[0,0,0])"
   ]
  },
  {
   "cell_type": "code",
   "execution_count": 74,
   "metadata": {},
   "outputs": [
    {
     "data": {
      "text/plain": [
       "(3, 3, 1)"
      ]
     },
     "execution_count": 74,
     "metadata": {},
     "output_type": "execute_result"
    }
   ],
   "source": [
    "distances.shape"
   ]
  },
  {
   "cell_type": "code",
   "execution_count": 75,
   "metadata": {},
   "outputs": [
    {
     "name": "stdout",
     "output_type": "stream",
     "text": [
      "La distancia entre el elemento 2-ésimo del set_A en el frame 0 y el elemento 1-ésimo del set_B en el frame 0 es 5.385164807134504 nm\n",
      "La distancia entre el elemento 2-ésimo del set_A en el frame 1 y el elemento 1-ésimo del set_B en el frame 0 es 5.0990195135927845 nm\n",
      "La distancia entre el elemento 2-ésimo del set_A en el frame 2 y el elemento 1-ésimo del set_B en el frame 0 es 4.242640687119285 nm\n"
     ]
    }
   ],
   "source": [
    "print('La distancia entre el elemento 2-ésimo del set_A en el frame 0 y el elemento 1-ésimo del set_B\\\n",
    " en el frame 0 es {}'.format(distances[0,2,0]))\n",
    "print('La distancia entre el elemento 2-ésimo del set_A en el frame 1 y el elemento 1-ésimo del set_B\\\n",
    " en el frame 0 es {}'.format(distances[1,2,0]))\n",
    "print('La distancia entre el elemento 2-ésimo del set_A en el frame 2 y el elemento 1-ésimo del set_B\\\n",
    " en el frame 0 es {}'.format(distances[2,2,0]))"
   ]
  },
  {
   "cell_type": "markdown",
   "metadata": {},
   "source": [
    "O igualmente:"
   ]
  },
  {
   "cell_type": "code",
   "execution_count": 76,
   "metadata": {},
   "outputs": [],
   "source": [
    "distances = m3t.distance(item_1=set_A, selection_1=[0,1,2], frame_indices_1=[0,1,2],\n",
    "                         item_2=set_B, selection_2=1, frame_indices_2=[0,0,0], output_form='dict')"
   ]
  },
  {
   "cell_type": "code",
   "execution_count": 77,
   "metadata": {},
   "outputs": [
    {
     "name": "stdout",
     "output_type": "stream",
     "text": [
      "La distancia entre el elemento 2-ésimo del set_A en el frame 0 y el elemento 1-ésimo del set_B en el frame 0 es 5.385164807134504 nm\n",
      "La distancia entre el elemento 2-ésimo del set_A en el frame 1 y el elemento 1-ésimo del set_B en el frame 0 es 5.0990195135927845 nm\n",
      "La distancia entre el elemento 2-ésimo del set_A en el frame 2 y el elemento 1-ésimo del set_B en el frame 0 es 4.242640687119285 nm\n"
     ]
    }
   ],
   "source": [
    "print('La distancia entre el elemento 2-ésimo del set_A en el frame 0 y el elemento 1-ésimo del set_B\\\n",
    " en el frame 0 es {}'.format(distances[2][1][0]))\n",
    "print('La distancia entre el elemento 2-ésimo del set_A en el frame 1 y el elemento 1-ésimo del set_B\\\n",
    " en el frame 0 es {}'.format(distances[2][1][1]))\n",
    "print('La distancia entre el elemento 2-ésimo del set_A en el frame 2 y el elemento 1-ésimo del set_B\\\n",
    " en el frame 0 es {}'.format(distances[2][1][2]))"
   ]
  },
  {
   "cell_type": "markdown",
   "metadata": {},
   "source": [
    "Ya podemos entonces hacer el ejercicio de calcular distancias de desplazamiento de unos mismos elementos entre frames. Por ejemplo, veamos como podríamos responder la pregunta: ¿Cuanto se desplazan los elementos de `set_A` entre frames consecutivos?"
   ]
  },
  {
   "cell_type": "code",
   "execution_count": 84,
   "metadata": {},
   "outputs": [],
   "source": [
    "distances = m3t.distance(item_1=set_A, frame_indices_1=[0,1], frame_indices_2=[1,2])"
   ]
  },
  {
   "cell_type": "markdown",
   "metadata": {},
   "source": [
    "Podemos ahora ver cuanto se desplazó por ejemplo el elemento 1-ésimo de `set_A` entre los frames 0-ésimo y 1-ésimo, o entre el 1-ésimo y el 2-esimo."
   ]
  },
  {
   "cell_type": "code",
   "execution_count": 86,
   "metadata": {},
   "outputs": [
    {
     "name": "stdout",
     "output_type": "stream",
     "text": [
      "La distancia de desplazamiento del elemento 1-ésimo de set_A entre los frames 0 y 1 es 1.0 nm\n",
      "La distancia de desplazamiento del elemento 1-ésimo de set_A entre los frames 1 y 2 es 1.0 nm\n"
     ]
    }
   ],
   "source": [
    "print('La distancia de desplazamiento del elemento 1-ésimo de set_A entre los frames 0 y 1 es {}'.format(distances[0][1][1]))\n",
    "print('La distancia de desplazamiento del elemento 1-ésimo de set_A entre los frames 1 y 2 es {}'.format(distances[1][1][1]))"
   ]
  },
  {
   "cell_type": "markdown",
   "metadata": {},
   "source": [
    "El inconveniente que puede tener esta aproximación al cálculo de distancias de desplazamientos es que es absurdamente cara computacionalmente ya que también hemos tenido que calcular la distancia entre elementos distintos en frames distintos. O dicho de otra manera, para calcular la distancia de 3 elementos entre dos frames hemos tenido que calcular 9 distancias:"
   ]
  },
  {
   "cell_type": "code",
   "execution_count": 87,
   "metadata": {},
   "outputs": [
    {
     "data": {
      "text/plain": [
       "(2, 3, 3)"
      ]
     },
     "execution_count": 87,
     "metadata": {},
     "output_type": "execute_result"
    }
   ],
   "source": [
    "distances.shape"
   ]
  },
  {
   "cell_type": "markdown",
   "metadata": {},
   "source": [
    "No tienen en este último caso mucho sentido los elementos fuera de la diagonal de la matriz `distances[0,:,:]`. ¿Qué significa la distancia entre la posición del elemento 0-ésimo en el frame 0-ésimo y la posición del elemento 2-ésimo en el frame 1-ésimo, por ejemplo?"
   ]
  },
  {
   "cell_type": "code",
   "execution_count": 89,
   "metadata": {},
   "outputs": [
    {
     "data": {
      "text/plain": [
       "Quantity(value=3.0, unit=nanometer)"
      ]
     },
     "execution_count": 89,
     "metadata": {},
     "output_type": "execute_result"
    }
   ],
   "source": [
    "distances[0,0,2] # En principio no tienen mucho sentido físicamente estos valores cruzados"
   ]
  },
  {
   "cell_type": "markdown",
   "metadata": {},
   "source": [
    "Veamos en la siguiente sección como podríamos haber calculado el desplazamiento de los distintos elementos de `set_A` entre distintos frames sin necesidad de calcular los cruces entre distintos elementos del mismo objeto."
   ]
  },
  {
   "cell_type": "markdown",
   "metadata": {},
   "source": [
    "## Distancias entre pares"
   ]
  },
  {
   "cell_type": "markdown",
   "metadata": {},
   "source": [
    "## Distancias máximas y mínimas"
   ]
  },
  {
   "cell_type": "code",
   "execution_count": null,
   "metadata": {},
   "outputs": [],
   "source": []
  },
  {
   "cell_type": "markdown",
   "metadata": {},
   "source": [
    "## Distancias entre grupos "
   ]
  },
  {
   "cell_type": "markdown",
   "metadata": {},
   "source": [
    "## Listas de vecinos"
   ]
  },
  {
   "cell_type": "markdown",
   "metadata": {},
   "source": [
    "## Mapas de contactos"
   ]
  },
  {
   "cell_type": "code",
   "execution_count": null,
   "metadata": {},
   "outputs": [],
   "source": [
    "molsys = m3t.load('/home/diego/1brs.pdb', selection='chainid 0 or chainid 3')"
   ]
  },
  {
   "cell_type": "code",
   "execution_count": null,
   "metadata": {},
   "outputs": [],
   "source": [
    "m3t.view(molsys)"
   ]
  },
  {
   "cell_type": "code",
   "execution_count": null,
   "metadata": {},
   "outputs": [],
   "source": [
    "dists_CAs = m3t.distance(molsys, selection_1=\"chainid 0 and name CA\", selection_2=\"chainid 3 and name CA\")"
   ]
  },
  {
   "cell_type": "code",
   "execution_count": null,
   "metadata": {},
   "outputs": [],
   "source": [
    "chain0_CAs = m3t.select(molsys, \"chainid 0 and name CA\")\n",
    "chain3_CAs = m3t.select(molsys, \"chainid 3 and name CA\")\n",
    "\n",
    "ii=10\n",
    "jj=20\n",
    "frame_index=0\n",
    "\n",
    "print('La distancia entre el átomo {} y el átomo {} es {}'.format(chain0_CAs[ii], chain3_CAs[jj], dists_CAs[frame_index,ii,jj]))"
   ]
  },
  {
   "cell_type": "code",
   "execution_count": null,
   "metadata": {},
   "outputs": [],
   "source": [
    "dists_CAs = m3t.distance(molsys, selection_1=\"chainid 0 and name CA\", selection_2=\"chainid 3 and name CA\", output_form='dict')"
   ]
  },
  {
   "cell_type": "code",
   "execution_count": null,
   "metadata": {},
   "outputs": [],
   "source": [
    "ii=74\n",
    "jj=1022\n",
    "frame_index=0\n",
    "\n",
    "print('La distancia entre el átomo {} y el átomo {} es {}'.format(ii, jj, dists_CAs[ii][jj][frame_index]))"
   ]
  },
  {
   "cell_type": "code",
   "execution_count": null,
   "metadata": {},
   "outputs": [],
   "source": [
    "m3t.get(molsys, target='atom', indices=[74,1022], index=True, id=True, name=True, element=True)"
   ]
  },
  {
   "cell_type": "code",
   "execution_count": null,
   "metadata": {},
   "outputs": [],
   "source": []
  }
 ],
 "metadata": {
  "kernelspec": {
   "display_name": "Python 3",
   "language": "python",
   "name": "python3"
  },
  "language_info": {
   "codemirror_mode": {
    "name": "ipython",
    "version": 3
   },
   "file_extension": ".py",
   "mimetype": "text/x-python",
   "name": "python",
   "nbconvert_exporter": "python",
   "pygments_lexer": "ipython3",
   "version": "3.7.4"
  }
 },
 "nbformat": 4,
 "nbformat_minor": 4
}
