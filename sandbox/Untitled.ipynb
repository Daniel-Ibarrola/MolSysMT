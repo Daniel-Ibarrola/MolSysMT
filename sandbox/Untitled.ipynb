{
 "cells": [
  {
   "cell_type": "code",
   "execution_count": 1,
   "id": "9833d925-3da5-400a-9899-117e96c4ab09",
   "metadata": {},
   "outputs": [
    {
     "data": {
      "application/vnd.jupyter.widget-view+json": {
       "model_id": "444d68dac3b44ad6ac2ad6e788db478e",
       "version_major": 2,
       "version_minor": 0
      },
      "text/plain": []
     },
     "metadata": {},
     "output_type": "display_data"
    }
   ],
   "source": [
    "import molsysmt as msm\n",
    "import pytraj as pt"
   ]
  },
  {
   "cell_type": "code",
   "execution_count": 2,
   "id": "67e58201-09d7-4414-9f5c-38b2bbb06683",
   "metadata": {},
   "outputs": [],
   "source": [
    "mm_msm = msm.convert('2LAO.pdb')"
   ]
  },
  {
   "cell_type": "code",
   "execution_count": 3,
   "id": "9f6afe7a-7b3f-4d4d-bddb-e5382bd7118c",
   "metadata": {},
   "outputs": [
    {
     "ename": "ModuleNotFoundError",
     "evalue": "No module named 'molsysmt.physico_chemical_properties'",
     "output_type": "error",
     "traceback": [
      "\u001b[0;31m---------------------------------------------------------------------------\u001b[0m",
      "\u001b[0;31mModuleNotFoundError\u001b[0m                       Traceback (most recent call last)",
      "Input \u001b[0;32mIn [3]\u001b[0m, in \u001b[0;36m<cell line: 1>\u001b[0;34m()\u001b[0m\n\u001b[0;32m----> 1\u001b[0m \u001b[43mmsm\u001b[49m\u001b[38;5;241;43m.\u001b[39;49m\u001b[43mconvert\u001b[49m\u001b[43m(\u001b[49m\u001b[43mmm_msm\u001b[49m\u001b[38;5;241;43m.\u001b[39;49m\u001b[43mtopology\u001b[49m\u001b[43m,\u001b[49m\u001b[43m \u001b[49m\u001b[43mto_form\u001b[49m\u001b[38;5;241;43m=\u001b[39;49m\u001b[38;5;124;43m'\u001b[39;49m\u001b[38;5;124;43mpytraj.Topology\u001b[39;49m\u001b[38;5;124;43m'\u001b[39;49m\u001b[43m)\u001b[49m\n",
      "File \u001b[0;32m~/projects@dprada/MolSysMT/molsysmt/_private/digestion/digest.py:113\u001b[0m, in \u001b[0;36mdigest.<locals>.digestor.<locals>.wrapper\u001b[0;34m(*args, **kwargs)\u001b[0m\n\u001b[1;32m    110\u001b[0m final_args \u001b[38;5;241m=\u001b[39m digested_args\n\u001b[1;32m    112\u001b[0m \u001b[38;5;28;01mif\u001b[39;00m output:\n\u001b[0;32m--> 113\u001b[0m     auxiliary_output \u001b[38;5;241m=\u001b[39m \u001b[43mfunc\u001b[49m\u001b[43m(\u001b[49m\u001b[38;5;241;43m*\u001b[39;49m\u001b[38;5;241;43m*\u001b[39;49m\u001b[43mfinal_args\u001b[49m\u001b[43m)\u001b[49m\n\u001b[1;32m    114\u001b[0m     \u001b[38;5;28;01mif\u001b[39;00m \u001b[38;5;28misinstance\u001b[39m(auxiliary_output, (\u001b[38;5;28mlist\u001b[39m, \u001b[38;5;28mtuple\u001b[39m)):\n\u001b[1;32m    115\u001b[0m         \u001b[38;5;28;01mif\u001b[39;00m \u001b[38;5;28mlen\u001b[39m(auxiliary_output) \u001b[38;5;241m==\u001b[39m \u001b[38;5;241m1\u001b[39m:\n",
      "File \u001b[0;32m~/projects@dprada/MolSysMT/molsysmt/basic/convert.py:103\u001b[0m, in \u001b[0;36mconvert\u001b[0;34m(molecular_system, to_form, selection, structure_indices, syntax, **kwargs)\u001b[0m\n\u001b[1;32m    101\u001b[0m     \u001b[38;5;28;01mif\u001b[39;00m from_form \u001b[38;5;129;01min\u001b[39;00m dict_convert:\n\u001b[1;32m    102\u001b[0m         \u001b[38;5;28;01mif\u001b[39;00m to_form \u001b[38;5;129;01min\u001b[39;00m dict_convert[from_form]:\n\u001b[0;32m--> 103\u001b[0m             tmp_item \u001b[38;5;241m=\u001b[39m \u001b[43mdict_convert\u001b[49m\u001b[43m[\u001b[49m\u001b[43mfrom_form\u001b[49m\u001b[43m]\u001b[49m\u001b[43m[\u001b[49m\u001b[43mto_form\u001b[49m\u001b[43m]\u001b[49m\u001b[43m(\u001b[49m\u001b[43mitem\u001b[49m\u001b[43m,\u001b[49m\n\u001b[1;32m    104\u001b[0m \u001b[43m                                                        \u001b[49m\u001b[43mmolecular_system\u001b[49m\u001b[38;5;241;43m=\u001b[39;49m\u001b[43mmolecular_system\u001b[49m\u001b[43m,\u001b[49m\n\u001b[1;32m    105\u001b[0m \u001b[43m                                                        \u001b[49m\u001b[43matom_indices\u001b[49m\u001b[38;5;241;43m=\u001b[39;49m\u001b[43matom_indices\u001b[49m\u001b[43m,\u001b[49m\n\u001b[1;32m    106\u001b[0m \u001b[43m                                                        \u001b[49m\u001b[43mstructure_indices\u001b[49m\u001b[38;5;241;43m=\u001b[39;49m\u001b[43mstructure_indices\u001b[49m\u001b[43m,\u001b[49m\n\u001b[1;32m    107\u001b[0m \u001b[43m                                                        \u001b[49m\u001b[38;5;241;43m*\u001b[39;49m\u001b[38;5;241;43m*\u001b[39;49m\u001b[43mconversion_arguments\u001b[49m\u001b[43m,\u001b[49m\u001b[43m \u001b[49m\u001b[38;5;241;43m*\u001b[39;49m\u001b[38;5;241;43m*\u001b[39;49m\u001b[43mkwargs\u001b[49m\u001b[43m)\u001b[49m\n\u001b[1;32m    108\u001b[0m \u001b[38;5;28;01mif\u001b[39;00m tmp_item \u001b[38;5;129;01mis\u001b[39;00m \u001b[38;5;129;01mnot\u001b[39;00m \u001b[38;5;28;01mNone\u001b[39;00m:\n\u001b[1;32m    109\u001b[0m     \u001b[38;5;28;01mbreak\u001b[39;00m\n",
      "File \u001b[0;32m~/projects@dprada/MolSysMT/molsysmt/api_forms/api_molsysmt_Topology.py:89\u001b[0m, in \u001b[0;36mto_pytraj_Topology\u001b[0;34m(item, molecular_system, atom_indices, structure_indices)\u001b[0m\n\u001b[1;32m     86\u001b[0m \u001b[38;5;28;01mdef\u001b[39;00m \u001b[38;5;21mto_pytraj_Topology\u001b[39m(item, molecular_system, atom_indices\u001b[38;5;241m=\u001b[39m\u001b[38;5;124m'\u001b[39m\u001b[38;5;124mall\u001b[39m\u001b[38;5;124m'\u001b[39m, structure_indices\u001b[38;5;241m=\u001b[39m\u001b[38;5;124m'\u001b[39m\u001b[38;5;124mall\u001b[39m\u001b[38;5;124m'\u001b[39m):\n\u001b[1;32m     87\u001b[0m     \u001b[38;5;28;01mfrom\u001b[39;00m \u001b[38;5;21;01mmolsysmt\u001b[39;00m\u001b[38;5;21;01m.\u001b[39;00m\u001b[38;5;21;01mitem\u001b[39;00m\u001b[38;5;21;01m.\u001b[39;00m\u001b[38;5;21;01mmolsysmt_Topology\u001b[39;00m \u001b[38;5;28;01mimport\u001b[39;00m to_pytraj_Topology \u001b[38;5;28;01mas\u001b[39;00m molsysmt_Topology_to_pytraj_Topology\n\u001b[0;32m---> 89\u001b[0m     \u001b[38;5;28;01mreturn\u001b[39;00m \u001b[43mmolsysmt_Topology_to_pytraj_Topology\u001b[49m\u001b[43m(\u001b[49m\u001b[43mitem\u001b[49m\u001b[43m,\u001b[49m\u001b[43m \u001b[49m\u001b[43matom_indices\u001b[49m\u001b[38;5;241;43m=\u001b[39;49m\u001b[43matom_indices\u001b[49m\u001b[43m)\u001b[49m\n",
      "File \u001b[0;32m~/projects@dprada/MolSysMT/molsysmt/_private/digestion/digest.py:119\u001b[0m, in \u001b[0;36mdigest.<locals>.digestor.<locals>.wrapper\u001b[0;34m(*args, **kwargs)\u001b[0m\n\u001b[1;32m    117\u001b[0m     \u001b[38;5;28;01mreturn\u001b[39;00m auxiliary_output\n\u001b[1;32m    118\u001b[0m \u001b[38;5;28;01melse\u001b[39;00m:\n\u001b[0;32m--> 119\u001b[0m     \u001b[38;5;28;01mreturn\u001b[39;00m \u001b[43mfunc\u001b[49m\u001b[43m(\u001b[49m\u001b[38;5;241;43m*\u001b[39;49m\u001b[38;5;241;43m*\u001b[39;49m\u001b[43mfinal_args\u001b[49m\u001b[43m)\u001b[49m\n",
      "File \u001b[0;32m~/projects@dprada/MolSysMT/molsysmt/item/molsysmt_Topology/to_pytraj_Topology.py:37\u001b[0m, in \u001b[0;36mto_pytraj_Topology\u001b[0;34m(item, atom_indices)\u001b[0m\n\u001b[1;32m     34\u001b[0m bonds_atom1 \u001b[38;5;241m=\u001b[39m item\u001b[38;5;241m.\u001b[39mbonds_dataframe[\u001b[38;5;124m\"\u001b[39m\u001b[38;5;124matom1_index\u001b[39m\u001b[38;5;124m\"\u001b[39m]\u001b[38;5;241m.\u001b[39mto_numpy()\n\u001b[1;32m     35\u001b[0m bonds_atom2 \u001b[38;5;241m=\u001b[39m item\u001b[38;5;241m.\u001b[39mbonds_dataframe[\u001b[38;5;124m\"\u001b[39m\u001b[38;5;124matom2_index\u001b[39m\u001b[38;5;124m\"\u001b[39m]\u001b[38;5;241m.\u001b[39mto_numpy()\n\u001b[0;32m---> 37\u001b[0m mass_atom_array \u001b[38;5;241m=\u001b[39m puw\u001b[38;5;241m.\u001b[39mget_value(\u001b[43mget_mass\u001b[49m\u001b[43m(\u001b[49m\u001b[43mitem\u001b[49m\u001b[43m)\u001b[49m)\n\u001b[1;32m     38\u001b[0m \u001b[38;5;28;01mtry\u001b[39;00m:\n\u001b[1;32m     39\u001b[0m     charge_atom_array \u001b[38;5;241m=\u001b[39m get_charge(molecular_system)\n",
      "File \u001b[0;32m~/projects@dprada/MolSysMT/molsysmt/_private/digestion/digest.py:119\u001b[0m, in \u001b[0;36mdigest.<locals>.digestor.<locals>.wrapper\u001b[0;34m(*args, **kwargs)\u001b[0m\n\u001b[1;32m    117\u001b[0m     \u001b[38;5;28;01mreturn\u001b[39;00m auxiliary_output\n\u001b[1;32m    118\u001b[0m \u001b[38;5;28;01melse\u001b[39;00m:\n\u001b[0;32m--> 119\u001b[0m     \u001b[38;5;28;01mreturn\u001b[39;00m \u001b[43mfunc\u001b[49m\u001b[43m(\u001b[49m\u001b[38;5;241;43m*\u001b[39;49m\u001b[38;5;241;43m*\u001b[39;49m\u001b[43mfinal_args\u001b[49m\u001b[43m)\u001b[49m\n",
      "File \u001b[0;32m~/projects@dprada/MolSysMT/molsysmt/physchem/mass.py:9\u001b[0m, in \u001b[0;36mmass\u001b[0;34m(molecular_system, element, selection, syntax)\u001b[0m\n\u001b[1;32m      5\u001b[0m \u001b[38;5;129m@digest\u001b[39m()\n\u001b[1;32m      6\u001b[0m \u001b[38;5;28;01mdef\u001b[39;00m \u001b[38;5;21mmass\u001b[39m(molecular_system, element \u001b[38;5;241m=\u001b[39m\u001b[38;5;124m'\u001b[39m\u001b[38;5;124matom\u001b[39m\u001b[38;5;124m'\u001b[39m, selection \u001b[38;5;241m=\u001b[39m \u001b[38;5;124m'\u001b[39m\u001b[38;5;124mall\u001b[39m\u001b[38;5;124m'\u001b[39m, syntax \u001b[38;5;241m=\u001b[39m \u001b[38;5;124m'\u001b[39m\u001b[38;5;124mMolSysMT\u001b[39m\u001b[38;5;124m'\u001b[39m):\n\u001b[1;32m      8\u001b[0m     \u001b[38;5;28;01mfrom\u001b[39;00m \u001b[38;5;21;01mmolsysmt\u001b[39;00m\u001b[38;5;21;01m.\u001b[39;00m\u001b[38;5;21;01mbasic\u001b[39;00m \u001b[38;5;28;01mimport\u001b[39;00m get\n\u001b[0;32m----> 9\u001b[0m     \u001b[38;5;28;01mfrom\u001b[39;00m \u001b[38;5;21;01mmolsysmt\u001b[39;00m\u001b[38;5;21;01m.\u001b[39;00m\u001b[38;5;21;01mphysico_chemical_properties\u001b[39;00m\u001b[38;5;21;01m.\u001b[39;00m\u001b[38;5;21;01matoms\u001b[39;00m\u001b[38;5;21;01m.\u001b[39;00m\u001b[38;5;21;01mmass\u001b[39;00m \u001b[38;5;28;01mimport\u001b[39;00m physical, units\n\u001b[1;32m     10\u001b[0m     \u001b[38;5;28;01mfrom\u001b[39;00m \u001b[38;5;21;01mmolsysmt\u001b[39;00m\u001b[38;5;21;01m.\u001b[39;00m\u001b[38;5;21;01m_private\u001b[39;00m\u001b[38;5;21;01m.\u001b[39;00m\u001b[38;5;21;01m_digestion\u001b[39;00m \u001b[38;5;28;01mimport\u001b[39;00m digest_element\n\u001b[1;32m     12\u001b[0m     element \u001b[38;5;241m=\u001b[39m digest_element(element)\n",
      "\u001b[0;31mModuleNotFoundError\u001b[0m: No module named 'molsysmt.physico_chemical_properties'"
     ]
    }
   ],
   "source": [
    "msm.convert(mm_msm.topology, to_form='pytraj.Topology')"
   ]
  },
  {
   "cell_type": "code",
   "execution_count": null,
   "id": "f868702a-7787-4cda-aa60-aa4f8bcf38b1",
   "metadata": {},
   "outputs": [],
   "source": [
    "df = mm_msm.topology.atoms_dataframe"
   ]
  },
  {
   "cell_type": "code",
   "execution_count": null,
   "id": "661ae9af-af2d-4e55-be80-988407a4ac65",
   "metadata": {},
   "outputs": [],
   "source": [
    "df"
   ]
  },
  {
   "cell_type": "code",
   "execution_count": null,
   "id": "04a57801-6562-4e0c-a441-cad350083993",
   "metadata": {},
   "outputs": [],
   "source": [
    "%%timeit -n 10\n",
    "for atom_index, atom_name, atom_id in zip(df['atom_index'], df['atom_name'], df['atom_id']):\n",
    "    aa=0"
   ]
  },
  {
   "cell_type": "code",
   "execution_count": null,
   "id": "edfa3355-ad13-4f90-8419-e04af9114256",
   "metadata": {},
   "outputs": [],
   "source": [
    "topology = pt.Topology()\n",
    "for atom_name, atom_type, group_name, group_index, chain_index in zip(df['atom_name'], df['atom_type'], df['group'])"
   ]
  },
  {
   "cell_type": "code",
   "execution_count": null,
   "id": "585130c8-d407-4b1f-b9cc-9bd1aa603ad3",
   "metadata": {},
   "outputs": [],
   "source": [
    "xx = pt.Atom(name='N', type='N', resid=0, resname='ALA', chain=0)"
   ]
  },
  {
   "cell_type": "code",
   "execution_count": null,
   "id": "b608d912-1695-4115-b4d2-2155d003c5c1",
   "metadata": {},
   "outputs": [],
   "source": []
  },
  {
   "cell_type": "code",
   "execution_count": null,
   "id": "fc825d00-3d4e-4e63-b87a-808a0627ffaf",
   "metadata": {},
   "outputs": [],
   "source": [
    "help(pt.Atom)"
   ]
  },
  {
   "cell_type": "code",
   "execution_count": null,
   "id": "195a3aa9-b1db-4407-bc4a-9334ba5ed235",
   "metadata": {},
   "outputs": [],
   "source": [
    "mm_pt = pt.load('2LAO.pdb')"
   ]
  },
  {
   "cell_type": "code",
   "execution_count": null,
   "id": "d7d65302-c0d0-43c1-b430-449fe96bd78f",
   "metadata": {},
   "outputs": [],
   "source": [
    "aaa = mm_pt.topology.residue(0)"
   ]
  },
  {
   "cell_type": "code",
   "execution_count": null,
   "id": "d48e2bfd-bec2-436f-857a-ef2fabc8a921",
   "metadata": {},
   "outputs": [],
   "source": [
    "aaa.original_resid"
   ]
  },
  {
   "cell_type": "code",
   "execution_count": null,
   "id": "870ac3da-8e91-408e-9c69-0d5ea1133b35",
   "metadata": {},
   "outputs": [],
   "source": [
    "aaa."
   ]
  },
  {
   "cell_type": "code",
   "execution_count": null,
   "id": "e41a57eb-e1fc-4168-8fd1-ebfaecf9c13a",
   "metadata": {},
   "outputs": [],
   "source": [
    "pt.Atom()"
   ]
  },
  {
   "cell_type": "code",
   "execution_count": null,
   "id": "fc19e578-3910-46eb-a742-01cca72d0535",
   "metadata": {},
   "outputs": [],
   "source": [
    "help(pt.Residue)"
   ]
  },
  {
   "cell_type": "code",
   "execution_count": null,
   "id": "cb7964db-ea0d-4b07-866a-8789799f821a",
   "metadata": {},
   "outputs": [],
   "source": [
    "help(pt.Atom)"
   ]
  },
  {
   "cell_type": "code",
   "execution_count": null,
   "id": "cbc5ba2b-617e-4b14-9a28-0d465d571b7e",
   "metadata": {},
   "outputs": [],
   "source": []
  }
 ],
 "metadata": {
  "kernelspec": {
   "display_name": "Python 3 (ipykernel)",
   "language": "python",
   "name": "python3"
  },
  "language_info": {
   "codemirror_mode": {
    "name": "ipython",
    "version": 3
   },
   "file_extension": ".py",
   "mimetype": "text/x-python",
   "name": "python",
   "nbconvert_exporter": "python",
   "pygments_lexer": "ipython3",
   "version": "3.9.13"
  }
 },
 "nbformat": 4,
 "nbformat_minor": 5
}
