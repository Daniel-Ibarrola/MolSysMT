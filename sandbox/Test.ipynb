{
 "cells": [
  {
   "cell_type": "code",
   "execution_count": 1,
   "metadata": {},
   "outputs": [],
   "source": [
    "%load_ext autoreload\n",
    "%autoreload 2"
   ]
  },
  {
   "cell_type": "code",
   "execution_count": 2,
   "metadata": {},
   "outputs": [
    {
     "data": {
      "application/vnd.jupyter.widget-view+json": {
       "model_id": "376e41d252cd42a8b53411fd2f43f53f",
       "version_major": 2,
       "version_minor": 0
      },
      "text/plain": []
     },
     "metadata": {},
     "output_type": "display_data"
    }
   ],
   "source": [
    "import molsysmt as msm"
   ]
  },
  {
   "cell_type": "code",
   "execution_count": 3,
   "metadata": {},
   "outputs": [],
   "source": [
    "pdbs_to_be_tested = [\"1VRT\", \"1HQE\", \"1HHP\", \"1AJX\", \"1J6Z\", \"1ATN\", \"1ANF\",\n",
    "                     \"1OMP\", \"1GGG\", \"1WDN\", \"2LAO\", \"1G0X\", \"1P7Q\", \"1EK9\",\n",
    "                     \"1CRZ\"]"
   ]
  },
  {
   "cell_type": "code",
   "execution_count": 11,
   "metadata": {},
   "outputs": [
    {
     "name": "stdout",
     "output_type": "stream",
     "text": [
      "[2]\n"
     ]
    },
    {
     "name": "stderr",
     "output_type": "stream",
     "text": [
      "/home/diego/projects@dprada/MolSysMT/molsysmt/item/mmtf_MMTFDecoder/to_molsysmt_Topology.py:31: UserWarning: The structure in the PDB has biological assemblies. There are geometrical transformations proposed in the structure. See the following issue in the source code repository: https://github.com/uibcdf/MolSysMT/issues/33\n",
      "  warnings.warn(warning_message)\n"
     ]
    }
   ],
   "source": [
    "molsys = msm.convert('1ATN')"
   ]
  },
  {
   "cell_type": "code",
   "execution_count": 18,
   "metadata": {},
   "outputs": [
    {
     "data": {
      "text/html": [
       "<style type=\"text/css\">\n",
       "</style>\n",
       "<table id=\"T_c2a27\">\n",
       "  <thead>\n",
       "    <tr>\n",
       "      <th id=\"T_c2a27_level0_col0\" class=\"col_heading level0 col0\" >index</th>\n",
       "      <th id=\"T_c2a27_level0_col1\" class=\"col_heading level0 col1\" >name</th>\n",
       "      <th id=\"T_c2a27_level0_col2\" class=\"col_heading level0 col2\" >type</th>\n",
       "      <th id=\"T_c2a27_level0_col3\" class=\"col_heading level0 col3\" >n atoms</th>\n",
       "      <th id=\"T_c2a27_level0_col4\" class=\"col_heading level0 col4\" >n groups</th>\n",
       "      <th id=\"T_c2a27_level0_col5\" class=\"col_heading level0 col5\" >n components</th>\n",
       "      <th id=\"T_c2a27_level0_col6\" class=\"col_heading level0 col6\" >n chains</th>\n",
       "      <th id=\"T_c2a27_level0_col7\" class=\"col_heading level0 col7\" >n molecules</th>\n",
       "    </tr>\n",
       "  </thead>\n",
       "  <tbody>\n",
       "    <tr>\n",
       "      <td id=\"T_c2a27_row0_col0\" class=\"data row0 col0\" >0</td>\n",
       "      <td id=\"T_c2a27_row0_col1\" class=\"data row0 col1\" >Actin</td>\n",
       "      <td id=\"T_c2a27_row0_col2\" class=\"data row0 col2\" >protein</td>\n",
       "      <td id=\"T_c2a27_row0_col3\" class=\"data row0 col3\" >2911</td>\n",
       "      <td id=\"T_c2a27_row0_col4\" class=\"data row0 col4\" >373</td>\n",
       "      <td id=\"T_c2a27_row0_col5\" class=\"data row0 col5\" >1</td>\n",
       "      <td id=\"T_c2a27_row0_col6\" class=\"data row0 col6\" >1</td>\n",
       "      <td id=\"T_c2a27_row0_col7\" class=\"data row0 col7\" >1</td>\n",
       "    </tr>\n",
       "    <tr>\n",
       "      <td id=\"T_c2a27_row1_col0\" class=\"data row1 col0\" >1</td>\n",
       "      <td id=\"T_c2a27_row1_col1\" class=\"data row1 col1\" >Deoxyribonuclease i</td>\n",
       "      <td id=\"T_c2a27_row1_col2\" class=\"data row1 col2\" >protein</td>\n",
       "      <td id=\"T_c2a27_row1_col3\" class=\"data row1 col3\" >2034</td>\n",
       "      <td id=\"T_c2a27_row1_col4\" class=\"data row1 col4\" >258</td>\n",
       "      <td id=\"T_c2a27_row1_col5\" class=\"data row1 col5\" >1</td>\n",
       "      <td id=\"T_c2a27_row1_col6\" class=\"data row1 col6\" >1</td>\n",
       "      <td id=\"T_c2a27_row1_col7\" class=\"data row1 col7\" >1</td>\n",
       "    </tr>\n",
       "    <tr>\n",
       "      <td id=\"T_c2a27_row2_col0\" class=\"data row2 col0\" >2</td>\n",
       "      <td id=\"T_c2a27_row2_col1\" class=\"data row2 col1\" >Beta-d-mannopyranose-(1-4)-2-acetamido-2-deoxy-beta-d-glucopyranose-(1-4)-2-acetamido-2-deoxy-beta-d-glucopyranose</td>\n",
       "      <td id=\"T_c2a27_row2_col2\" class=\"data row2 col2\" >oligosaccharide</td>\n",
       "      <td id=\"T_c2a27_row2_col3\" class=\"data row2 col3\" >39</td>\n",
       "      <td id=\"T_c2a27_row2_col4\" class=\"data row2 col4\" >3</td>\n",
       "      <td id=\"T_c2a27_row2_col5\" class=\"data row2 col5\" >1</td>\n",
       "      <td id=\"T_c2a27_row2_col6\" class=\"data row2 col6\" >1</td>\n",
       "      <td id=\"T_c2a27_row2_col7\" class=\"data row2 col7\" >1</td>\n",
       "    </tr>\n",
       "    <tr>\n",
       "      <td id=\"T_c2a27_row3_col0\" class=\"data row3 col0\" >3</td>\n",
       "      <td id=\"T_c2a27_row3_col1\" class=\"data row3 col1\" >Calcium ion</td>\n",
       "      <td id=\"T_c2a27_row3_col2\" class=\"data row3 col2\" >ion</td>\n",
       "      <td id=\"T_c2a27_row3_col3\" class=\"data row3 col3\" >4</td>\n",
       "      <td id=\"T_c2a27_row3_col4\" class=\"data row3 col4\" >4</td>\n",
       "      <td id=\"T_c2a27_row3_col5\" class=\"data row3 col5\" >4</td>\n",
       "      <td id=\"T_c2a27_row3_col6\" class=\"data row3 col6\" >4</td>\n",
       "      <td id=\"T_c2a27_row3_col7\" class=\"data row3 col7\" >4</td>\n",
       "    </tr>\n",
       "    <tr>\n",
       "      <td id=\"T_c2a27_row4_col0\" class=\"data row4 col0\" >4</td>\n",
       "      <td id=\"T_c2a27_row4_col1\" class=\"data row4 col1\" >Adenosine-5'-triphosphate</td>\n",
       "      <td id=\"T_c2a27_row4_col2\" class=\"data row4 col2\" >small molecule</td>\n",
       "      <td id=\"T_c2a27_row4_col3\" class=\"data row4 col3\" >31</td>\n",
       "      <td id=\"T_c2a27_row4_col4\" class=\"data row4 col4\" >1</td>\n",
       "      <td id=\"T_c2a27_row4_col5\" class=\"data row4 col5\" >1</td>\n",
       "      <td id=\"T_c2a27_row4_col6\" class=\"data row4 col6\" >1</td>\n",
       "      <td id=\"T_c2a27_row4_col7\" class=\"data row4 col7\" >1</td>\n",
       "    </tr>\n",
       "  </tbody>\n",
       "</table>\n"
      ],
      "text/plain": [
       "<pandas.io.formats.style.Styler at 0x7fa3477c30a0>"
      ]
     },
     "execution_count": 18,
     "metadata": {},
     "output_type": "execute_result"
    }
   ],
   "source": [
    "msm.info(molsys, element='entity')"
   ]
  },
  {
   "cell_type": "code",
   "execution_count": 10,
   "metadata": {},
   "outputs": [
    {
     "data": {
      "text/html": [
       "<style type=\"text/css\">\n",
       "</style>\n",
       "<table id=\"T_a04bb\">\n",
       "  <thead>\n",
       "    <tr>\n",
       "      <th id=\"T_a04bb_level0_col0\" class=\"col_heading level0 col0\" >index</th>\n",
       "      <th id=\"T_a04bb_level0_col1\" class=\"col_heading level0 col1\" >name</th>\n",
       "      <th id=\"T_a04bb_level0_col2\" class=\"col_heading level0 col2\" >type</th>\n",
       "      <th id=\"T_a04bb_level0_col3\" class=\"col_heading level0 col3\" >n atoms</th>\n",
       "      <th id=\"T_a04bb_level0_col4\" class=\"col_heading level0 col4\" >n groups</th>\n",
       "      <th id=\"T_a04bb_level0_col5\" class=\"col_heading level0 col5\" >n components</th>\n",
       "      <th id=\"T_a04bb_level0_col6\" class=\"col_heading level0 col6\" >chain index</th>\n",
       "      <th id=\"T_a04bb_level0_col7\" class=\"col_heading level0 col7\" >entity index</th>\n",
       "      <th id=\"T_a04bb_level0_col8\" class=\"col_heading level0 col8\" >entity name</th>\n",
       "    </tr>\n",
       "  </thead>\n",
       "  <tbody>\n",
       "    <tr>\n",
       "      <td id=\"T_a04bb_row0_col0\" class=\"data row0 col0\" >0</td>\n",
       "      <td id=\"T_a04bb_row0_col1\" class=\"data row0 col1\" >Actin</td>\n",
       "      <td id=\"T_a04bb_row0_col2\" class=\"data row0 col2\" >protein</td>\n",
       "      <td id=\"T_a04bb_row0_col3\" class=\"data row0 col3\" >2911</td>\n",
       "      <td id=\"T_a04bb_row0_col4\" class=\"data row0 col4\" >373</td>\n",
       "      <td id=\"T_a04bb_row0_col5\" class=\"data row0 col5\" >1</td>\n",
       "      <td id=\"T_a04bb_row0_col6\" class=\"data row0 col6\" >0</td>\n",
       "      <td id=\"T_a04bb_row0_col7\" class=\"data row0 col7\" >0</td>\n",
       "      <td id=\"T_a04bb_row0_col8\" class=\"data row0 col8\" >Actin</td>\n",
       "    </tr>\n",
       "    <tr>\n",
       "      <td id=\"T_a04bb_row1_col0\" class=\"data row1 col0\" >2</td>\n",
       "      <td id=\"T_a04bb_row1_col1\" class=\"data row1 col1\" >Beta-d-mannopyranose-(1-4)-2-acetamido-2-deoxy-beta-d-glucopyranose-(1-4)-2-acetamido-2-deoxy-beta-d-glucopyranose</td>\n",
       "      <td id=\"T_a04bb_row1_col2\" class=\"data row1 col2\" >oligosaccharide</td>\n",
       "      <td id=\"T_a04bb_row1_col3\" class=\"data row1 col3\" >0</td>\n",
       "      <td id=\"T_a04bb_row1_col4\" class=\"data row1 col4\" >0</td>\n",
       "      <td id=\"T_a04bb_row1_col5\" class=\"data row1 col5\" >0</td>\n",
       "      <td id=\"T_a04bb_row1_col6\" class=\"data row1 col6\" >[]</td>\n",
       "      <td id=\"T_a04bb_row1_col7\" class=\"data row1 col7\" >1</td>\n",
       "      <td id=\"T_a04bb_row1_col8\" class=\"data row1 col8\" >Deoxyribonuclease i</td>\n",
       "    </tr>\n",
       "    <tr>\n",
       "      <td id=\"T_a04bb_row2_col0\" class=\"data row2 col0\" >3</td>\n",
       "      <td id=\"T_a04bb_row2_col1\" class=\"data row2 col1\" >Calcium ion</td>\n",
       "      <td id=\"T_a04bb_row2_col2\" class=\"data row2 col2\" >ion</td>\n",
       "      <td id=\"T_a04bb_row2_col3\" class=\"data row2 col3\" >2073</td>\n",
       "      <td id=\"T_a04bb_row2_col4\" class=\"data row2 col4\" >261</td>\n",
       "      <td id=\"T_a04bb_row2_col5\" class=\"data row2 col5\" >1</td>\n",
       "      <td id=\"T_a04bb_row2_col6\" class=\"data row2 col6\" >[1 2]</td>\n",
       "      <td id=\"T_a04bb_row2_col7\" class=\"data row2 col7\" >3</td>\n",
       "      <td id=\"T_a04bb_row2_col8\" class=\"data row2 col8\" >Calcium ion</td>\n",
       "    </tr>\n",
       "    <tr>\n",
       "      <td id=\"T_a04bb_row3_col0\" class=\"data row3 col0\" >7</td>\n",
       "      <td id=\"T_a04bb_row3_col1\" class=\"data row3 col1\" >Adenosine-5'-triphosphate</td>\n",
       "      <td id=\"T_a04bb_row3_col2\" class=\"data row3 col2\" >small molecule</td>\n",
       "      <td id=\"T_a04bb_row3_col3\" class=\"data row3 col3\" >1</td>\n",
       "      <td id=\"T_a04bb_row3_col4\" class=\"data row3 col4\" >1</td>\n",
       "      <td id=\"T_a04bb_row3_col5\" class=\"data row3 col5\" >1</td>\n",
       "      <td id=\"T_a04bb_row3_col6\" class=\"data row3 col6\" >3</td>\n",
       "      <td id=\"T_a04bb_row3_col7\" class=\"data row3 col7\" >4</td>\n",
       "      <td id=\"T_a04bb_row3_col8\" class=\"data row3 col8\" >Adenosine-5'-triphosphate</td>\n",
       "    </tr>\n",
       "    <tr>\n",
       "      <td id=\"T_a04bb_row4_col0\" class=\"data row4 col0\" >4</td>\n",
       "      <td id=\"T_a04bb_row4_col1\" class=\"data row4 col1\" >Calcium ion</td>\n",
       "      <td id=\"T_a04bb_row4_col2\" class=\"data row4 col2\" >ion</td>\n",
       "      <td id=\"T_a04bb_row4_col3\" class=\"data row4 col3\" >1</td>\n",
       "      <td id=\"T_a04bb_row4_col4\" class=\"data row4 col4\" >1</td>\n",
       "      <td id=\"T_a04bb_row4_col5\" class=\"data row4 col5\" >1</td>\n",
       "      <td id=\"T_a04bb_row4_col6\" class=\"data row4 col6\" >5</td>\n",
       "      <td id=\"T_a04bb_row4_col7\" class=\"data row4 col7\" >3</td>\n",
       "      <td id=\"T_a04bb_row4_col8\" class=\"data row4 col8\" >Calcium ion</td>\n",
       "    </tr>\n",
       "    <tr>\n",
       "      <td id=\"T_a04bb_row5_col0\" class=\"data row5 col0\" >5</td>\n",
       "      <td id=\"T_a04bb_row5_col1\" class=\"data row5 col1\" >Calcium ion</td>\n",
       "      <td id=\"T_a04bb_row5_col2\" class=\"data row5 col2\" >ion</td>\n",
       "      <td id=\"T_a04bb_row5_col3\" class=\"data row5 col3\" >1</td>\n",
       "      <td id=\"T_a04bb_row5_col4\" class=\"data row5 col4\" >1</td>\n",
       "      <td id=\"T_a04bb_row5_col5\" class=\"data row5 col5\" >1</td>\n",
       "      <td id=\"T_a04bb_row5_col6\" class=\"data row5 col6\" >6</td>\n",
       "      <td id=\"T_a04bb_row5_col7\" class=\"data row5 col7\" >3</td>\n",
       "      <td id=\"T_a04bb_row5_col8\" class=\"data row5 col8\" >Calcium ion</td>\n",
       "    </tr>\n",
       "    <tr>\n",
       "      <td id=\"T_a04bb_row6_col0\" class=\"data row6 col0\" >6</td>\n",
       "      <td id=\"T_a04bb_row6_col1\" class=\"data row6 col1\" >Calcium ion</td>\n",
       "      <td id=\"T_a04bb_row6_col2\" class=\"data row6 col2\" >ion</td>\n",
       "      <td id=\"T_a04bb_row6_col3\" class=\"data row6 col3\" >1</td>\n",
       "      <td id=\"T_a04bb_row6_col4\" class=\"data row6 col4\" >1</td>\n",
       "      <td id=\"T_a04bb_row6_col5\" class=\"data row6 col5\" >1</td>\n",
       "      <td id=\"T_a04bb_row6_col6\" class=\"data row6 col6\" >7</td>\n",
       "      <td id=\"T_a04bb_row6_col7\" class=\"data row6 col7\" >3</td>\n",
       "      <td id=\"T_a04bb_row6_col8\" class=\"data row6 col8\" >Calcium ion</td>\n",
       "    </tr>\n",
       "  </tbody>\n",
       "</table>\n"
      ],
      "text/plain": [
       "<pandas.io.formats.style.Styler at 0x7fa345d5e8e0>"
      ]
     },
     "execution_count": 10,
     "metadata": {},
     "output_type": "execute_result"
    }
   ],
   "source": [
    "msm.info(molsys, element='molecule')"
   ]
  },
  {
   "cell_type": "code",
   "execution_count": 6,
   "metadata": {},
   "outputs": [],
   "source": [
    "mmtf = msm.convert('1ATN', to_form='mmtf.MMTFDecoder')"
   ]
  },
  {
   "cell_type": "code",
   "execution_count": 8,
   "metadata": {},
   "outputs": [
    {
     "data": {
      "text/html": [
       "<style type=\"text/css\">\n",
       "</style>\n",
       "<table id=\"T_9f487\">\n",
       "  <thead>\n",
       "    <tr>\n",
       "      <th id=\"T_9f487_level0_col0\" class=\"col_heading level0 col0\" >index</th>\n",
       "      <th id=\"T_9f487_level0_col1\" class=\"col_heading level0 col1\" >name</th>\n",
       "      <th id=\"T_9f487_level0_col2\" class=\"col_heading level0 col2\" >type</th>\n",
       "      <th id=\"T_9f487_level0_col3\" class=\"col_heading level0 col3\" >n atoms</th>\n",
       "      <th id=\"T_9f487_level0_col4\" class=\"col_heading level0 col4\" >n groups</th>\n",
       "      <th id=\"T_9f487_level0_col5\" class=\"col_heading level0 col5\" >n components</th>\n",
       "      <th id=\"T_9f487_level0_col6\" class=\"col_heading level0 col6\" >chain index</th>\n",
       "      <th id=\"T_9f487_level0_col7\" class=\"col_heading level0 col7\" >entity index</th>\n",
       "      <th id=\"T_9f487_level0_col8\" class=\"col_heading level0 col8\" >entity name</th>\n",
       "    </tr>\n",
       "  </thead>\n",
       "  <tbody>\n",
       "    <tr>\n",
       "      <td id=\"T_9f487_row0_col0\" class=\"data row0 col0\" >0</td>\n",
       "      <td id=\"T_9f487_row0_col1\" class=\"data row0 col1\" >Actin</td>\n",
       "      <td id=\"T_9f487_row0_col2\" class=\"data row0 col2\" >protein</td>\n",
       "      <td id=\"T_9f487_row0_col3\" class=\"data row0 col3\" >2911</td>\n",
       "      <td id=\"T_9f487_row0_col4\" class=\"data row0 col4\" >373</td>\n",
       "      <td id=\"T_9f487_row0_col5\" class=\"data row0 col5\" >1</td>\n",
       "      <td id=\"T_9f487_row0_col6\" class=\"data row0 col6\" >0</td>\n",
       "      <td id=\"T_9f487_row0_col7\" class=\"data row0 col7\" >0</td>\n",
       "      <td id=\"T_9f487_row0_col8\" class=\"data row0 col8\" >Actin</td>\n",
       "    </tr>\n",
       "    <tr>\n",
       "      <td id=\"T_9f487_row1_col0\" class=\"data row1 col0\" >2</td>\n",
       "      <td id=\"T_9f487_row1_col1\" class=\"data row1 col1\" >Beta-d-mannopyranose-(1-4)-2-acetamido-2-deoxy-beta-d-glucopyranose-(1-4)-2-acetamido-2-deoxy-beta-d-glucopyranose</td>\n",
       "      <td id=\"T_9f487_row1_col2\" class=\"data row1 col2\" >oligosaccharide</td>\n",
       "      <td id=\"T_9f487_row1_col3\" class=\"data row1 col3\" >0</td>\n",
       "      <td id=\"T_9f487_row1_col4\" class=\"data row1 col4\" >0</td>\n",
       "      <td id=\"T_9f487_row1_col5\" class=\"data row1 col5\" >0</td>\n",
       "      <td id=\"T_9f487_row1_col6\" class=\"data row1 col6\" >[]</td>\n",
       "      <td id=\"T_9f487_row1_col7\" class=\"data row1 col7\" >1</td>\n",
       "      <td id=\"T_9f487_row1_col8\" class=\"data row1 col8\" >Deoxyribonuclease i</td>\n",
       "    </tr>\n",
       "    <tr>\n",
       "      <td id=\"T_9f487_row2_col0\" class=\"data row2 col0\" >3</td>\n",
       "      <td id=\"T_9f487_row2_col1\" class=\"data row2 col1\" >Calcium ion</td>\n",
       "      <td id=\"T_9f487_row2_col2\" class=\"data row2 col2\" >ion</td>\n",
       "      <td id=\"T_9f487_row2_col3\" class=\"data row2 col3\" >2073</td>\n",
       "      <td id=\"T_9f487_row2_col4\" class=\"data row2 col4\" >261</td>\n",
       "      <td id=\"T_9f487_row2_col5\" class=\"data row2 col5\" >1</td>\n",
       "      <td id=\"T_9f487_row2_col6\" class=\"data row2 col6\" >[1 2]</td>\n",
       "      <td id=\"T_9f487_row2_col7\" class=\"data row2 col7\" >3</td>\n",
       "      <td id=\"T_9f487_row2_col8\" class=\"data row2 col8\" >Calcium ion</td>\n",
       "    </tr>\n",
       "    <tr>\n",
       "      <td id=\"T_9f487_row3_col0\" class=\"data row3 col0\" >7</td>\n",
       "      <td id=\"T_9f487_row3_col1\" class=\"data row3 col1\" >Adenosine-5'-triphosphate</td>\n",
       "      <td id=\"T_9f487_row3_col2\" class=\"data row3 col2\" >small molecule</td>\n",
       "      <td id=\"T_9f487_row3_col3\" class=\"data row3 col3\" >1</td>\n",
       "      <td id=\"T_9f487_row3_col4\" class=\"data row3 col4\" >1</td>\n",
       "      <td id=\"T_9f487_row3_col5\" class=\"data row3 col5\" >1</td>\n",
       "      <td id=\"T_9f487_row3_col6\" class=\"data row3 col6\" >3</td>\n",
       "      <td id=\"T_9f487_row3_col7\" class=\"data row3 col7\" >4</td>\n",
       "      <td id=\"T_9f487_row3_col8\" class=\"data row3 col8\" >Adenosine-5'-triphosphate</td>\n",
       "    </tr>\n",
       "    <tr>\n",
       "      <td id=\"T_9f487_row4_col0\" class=\"data row4 col0\" >4</td>\n",
       "      <td id=\"T_9f487_row4_col1\" class=\"data row4 col1\" >Calcium ion</td>\n",
       "      <td id=\"T_9f487_row4_col2\" class=\"data row4 col2\" >ion</td>\n",
       "      <td id=\"T_9f487_row4_col3\" class=\"data row4 col3\" >1</td>\n",
       "      <td id=\"T_9f487_row4_col4\" class=\"data row4 col4\" >1</td>\n",
       "      <td id=\"T_9f487_row4_col5\" class=\"data row4 col5\" >1</td>\n",
       "      <td id=\"T_9f487_row4_col6\" class=\"data row4 col6\" >5</td>\n",
       "      <td id=\"T_9f487_row4_col7\" class=\"data row4 col7\" >3</td>\n",
       "      <td id=\"T_9f487_row4_col8\" class=\"data row4 col8\" >Calcium ion</td>\n",
       "    </tr>\n",
       "    <tr>\n",
       "      <td id=\"T_9f487_row5_col0\" class=\"data row5 col0\" >5</td>\n",
       "      <td id=\"T_9f487_row5_col1\" class=\"data row5 col1\" >Calcium ion</td>\n",
       "      <td id=\"T_9f487_row5_col2\" class=\"data row5 col2\" >ion</td>\n",
       "      <td id=\"T_9f487_row5_col3\" class=\"data row5 col3\" >1</td>\n",
       "      <td id=\"T_9f487_row5_col4\" class=\"data row5 col4\" >1</td>\n",
       "      <td id=\"T_9f487_row5_col5\" class=\"data row5 col5\" >1</td>\n",
       "      <td id=\"T_9f487_row5_col6\" class=\"data row5 col6\" >6</td>\n",
       "      <td id=\"T_9f487_row5_col7\" class=\"data row5 col7\" >3</td>\n",
       "      <td id=\"T_9f487_row5_col8\" class=\"data row5 col8\" >Calcium ion</td>\n",
       "    </tr>\n",
       "    <tr>\n",
       "      <td id=\"T_9f487_row6_col0\" class=\"data row6 col0\" >6</td>\n",
       "      <td id=\"T_9f487_row6_col1\" class=\"data row6 col1\" >Calcium ion</td>\n",
       "      <td id=\"T_9f487_row6_col2\" class=\"data row6 col2\" >ion</td>\n",
       "      <td id=\"T_9f487_row6_col3\" class=\"data row6 col3\" >1</td>\n",
       "      <td id=\"T_9f487_row6_col4\" class=\"data row6 col4\" >1</td>\n",
       "      <td id=\"T_9f487_row6_col5\" class=\"data row6 col5\" >1</td>\n",
       "      <td id=\"T_9f487_row6_col6\" class=\"data row6 col6\" >7</td>\n",
       "      <td id=\"T_9f487_row6_col7\" class=\"data row6 col7\" >3</td>\n",
       "      <td id=\"T_9f487_row6_col8\" class=\"data row6 col8\" >Calcium ion</td>\n",
       "    </tr>\n",
       "  </tbody>\n",
       "</table>\n"
      ],
      "text/plain": [
       "<pandas.io.formats.style.Styler at 0x7fa34789bd00>"
      ]
     },
     "execution_count": 8,
     "metadata": {},
     "output_type": "execute_result"
    }
   ],
   "source": [
    "msm.info(molsys, element='molecule')"
   ]
  },
  {
   "cell_type": "code",
   "execution_count": 9,
   "metadata": {},
   "outputs": [
    {
     "name": "stderr",
     "output_type": "stream",
     "text": [
      "/home/diego/projects@dprada/MolSysMT/molsysmt/item/mmtf_MMTFDecoder/to_molsysmt_Topology.py:31: UserWarning: The structure in the PDB has biological assemblies. There are geometrical transformations proposed in the structure. See the following issue in the source code repository: https://github.com/uibcdf/MolSysMT/issues/33\n",
      "  warnings.warn(warning_message)\n",
      "/home/diego/projects@dprada/MolSysMT/molsysmt/item/mmtf_MMTFDecoder/to_molsysmt_Topology.py:31: UserWarning: The structure in the PDB has biological assemblies. There are geometrical transformations proposed in the structure. See the following issue in the source code repository: https://github.com/uibcdf/MolSysMT/issues/33\n",
      "  warnings.warn(warning_message)\n",
      "/home/diego/projects@dprada/MolSysMT/molsysmt/item/mmtf_MMTFDecoder/to_molsysmt_Topology.py:31: UserWarning: The structure in the PDB has biological assemblies. There are geometrical transformations proposed in the structure. See the following issue in the source code repository: https://github.com/uibcdf/MolSysMT/issues/33\n",
      "  warnings.warn(warning_message)\n",
      "/home/diego/projects@dprada/MolSysMT/molsysmt/item/mmtf_MMTFDecoder/to_molsysmt_Topology.py:31: UserWarning: The structure in the PDB has biological assemblies. There are geometrical transformations proposed in the structure. See the following issue in the source code repository: https://github.com/uibcdf/MolSysMT/issues/33\n",
      "  warnings.warn(warning_message)\n",
      "/home/diego/projects@dprada/MolSysMT/molsysmt/item/mmtf_MMTFDecoder/to_molsysmt_Topology.py:31: UserWarning: The structure in the PDB has biological assemblies. There are geometrical transformations proposed in the structure. See the following issue in the source code repository: https://github.com/uibcdf/MolSysMT/issues/33\n",
      "  warnings.warn(warning_message)\n",
      "/home/diego/projects@dprada/MolSysMT/molsysmt/item/mmtf_MMTFDecoder/to_molsysmt_Topology.py:31: UserWarning: The structure in the PDB has biological assemblies. There are geometrical transformations proposed in the structure. See the following issue in the source code repository: https://github.com/uibcdf/MolSysMT/issues/33\n",
      "  warnings.warn(warning_message)\n",
      "/home/diego/projects@dprada/MolSysMT/molsysmt/item/mmtf_MMTFDecoder/to_molsysmt_Topology.py:31: UserWarning: The structure in the PDB has biological assemblies. There are geometrical transformations proposed in the structure. See the following issue in the source code repository: https://github.com/uibcdf/MolSysMT/issues/33\n",
      "  warnings.warn(warning_message)\n",
      "/home/diego/projects@dprada/MolSysMT/molsysmt/item/mmtf_MMTFDecoder/to_molsysmt_Topology.py:31: UserWarning: The structure in the PDB has biological assemblies. There are geometrical transformations proposed in the structure. See the following issue in the source code repository: https://github.com/uibcdf/MolSysMT/issues/33\n",
      "  warnings.warn(warning_message)\n",
      "/home/diego/projects@dprada/MolSysMT/molsysmt/item/mmtf_MMTFDecoder/to_molsysmt_Topology.py:31: UserWarning: The structure in the PDB has biological assemblies. There are geometrical transformations proposed in the structure. See the following issue in the source code repository: https://github.com/uibcdf/MolSysMT/issues/33\n",
      "  warnings.warn(warning_message)\n",
      "/home/diego/projects@dprada/MolSysMT/molsysmt/item/mmtf_MMTFDecoder/to_molsysmt_Topology.py:31: UserWarning: The structure in the PDB has biological assemblies. There are geometrical transformations proposed in the structure. See the following issue in the source code repository: https://github.com/uibcdf/MolSysMT/issues/33\n",
      "  warnings.warn(warning_message)\n",
      "/home/diego/projects@dprada/MolSysMT/molsysmt/item/mmtf_MMTFDecoder/to_molsysmt_Topology.py:31: UserWarning: The structure in the PDB has biological assemblies. There are geometrical transformations proposed in the structure. See the following issue in the source code repository: https://github.com/uibcdf/MolSysMT/issues/33\n",
      "  warnings.warn(warning_message)\n",
      "/home/diego/projects@dprada/MolSysMT/molsysmt/item/mmtf_MMTFDecoder/to_molsysmt_Topology.py:31: UserWarning: The structure in the PDB has biological assemblies. There are geometrical transformations proposed in the structure. See the following issue in the source code repository: https://github.com/uibcdf/MolSysMT/issues/33\n",
      "  warnings.warn(warning_message)\n",
      "/home/diego/projects@dprada/MolSysMT/molsysmt/item/mmtf_MMTFDecoder/to_molsysmt_Topology.py:31: UserWarning: The structure in the PDB has biological assemblies. There are geometrical transformations proposed in the structure. See the following issue in the source code repository: https://github.com/uibcdf/MolSysMT/issues/33\n",
      "  warnings.warn(warning_message)\n",
      "/home/diego/projects@dprada/MolSysMT/molsysmt/item/mmtf_MMTFDecoder/to_molsysmt_Topology.py:31: UserWarning: The structure in the PDB has biological assemblies. There are geometrical transformations proposed in the structure. See the following issue in the source code repository: https://github.com/uibcdf/MolSysMT/issues/33\n",
      "  warnings.warn(warning_message)\n",
      "/home/diego/projects@dprada/MolSysMT/molsysmt/item/mmtf_MMTFDecoder/to_molsysmt_Topology.py:31: UserWarning: The structure in the PDB has biological assemblies. There are geometrical transformations proposed in the structure. See the following issue in the source code repository: https://github.com/uibcdf/MolSysMT/issues/33\n",
      "  warnings.warn(warning_message)\n",
      "/home/diego/projects@dprada/MolSysMT/molsysmt/item/mmtf_MMTFDecoder/to_molsysmt_Topology.py:31: UserWarning: The structure in the PDB has biological assemblies. There are geometrical transformations proposed in the structure. See the following issue in the source code repository: https://github.com/uibcdf/MolSysMT/issues/33\n",
      "  warnings.warn(warning_message)\n",
      "/home/diego/projects@dprada/MolSysMT/molsysmt/item/mmtf_MMTFDecoder/to_molsysmt_Topology.py:31: UserWarning: The structure in the PDB has biological assemblies. There are geometrical transformations proposed in the structure. See the following issue in the source code repository: https://github.com/uibcdf/MolSysMT/issues/33\n",
      "  warnings.warn(warning_message)\n",
      "/home/diego/projects@dprada/MolSysMT/molsysmt/item/mmtf_MMTFDecoder/to_molsysmt_Topology.py:31: UserWarning: The structure in the PDB has biological assemblies. There are geometrical transformations proposed in the structure. See the following issue in the source code repository: https://github.com/uibcdf/MolSysMT/issues/33\n",
      "  warnings.warn(warning_message)\n",
      "/home/diego/projects@dprada/MolSysMT/molsysmt/item/mmtf_MMTFDecoder/to_molsysmt_Topology.py:31: UserWarning: The structure in the PDB has biological assemblies. There are geometrical transformations proposed in the structure. See the following issue in the source code repository: https://github.com/uibcdf/MolSysMT/issues/33\n",
      "  warnings.warn(warning_message)\n",
      "/home/diego/projects@dprada/MolSysMT/molsysmt/item/mmtf_MMTFDecoder/to_molsysmt_Topology.py:31: UserWarning: The structure in the PDB has biological assemblies. There are geometrical transformations proposed in the structure. See the following issue in the source code repository: https://github.com/uibcdf/MolSysMT/issues/33\n",
      "  warnings.warn(warning_message)\n"
     ]
    },
    {
     "ename": "IndexError",
     "evalue": "index 0 is out of bounds for axis 0 with size 0",
     "output_type": "error",
     "traceback": [
      "\u001b[0;31m---------------------------------------------------------------------------\u001b[0m",
      "\u001b[0;31mIndexError\u001b[0m                                Traceback (most recent call last)",
      "Input \u001b[0;32mIn [9]\u001b[0m, in \u001b[0;36m<cell line: 1>\u001b[0;34m()\u001b[0m\n\u001b[0;32m----> 1\u001b[0m \u001b[43mmsm\u001b[49m\u001b[38;5;241;43m.\u001b[39;49m\u001b[43minfo\u001b[49m\u001b[43m(\u001b[49m\u001b[43mmmtf\u001b[49m\u001b[43m,\u001b[49m\u001b[43m \u001b[49m\u001b[43melement\u001b[49m\u001b[38;5;241;43m=\u001b[39;49m\u001b[38;5;124;43m'\u001b[39;49m\u001b[38;5;124;43mmolecule\u001b[39;49m\u001b[38;5;124;43m'\u001b[39;49m\u001b[43m)\u001b[49m\n",
      "File \u001b[0;32m~/projects@dprada/MolSysMT/molsysmt/_private/digestion/digest.py:119\u001b[0m, in \u001b[0;36mdigest.<locals>.digestor.<locals>.wrapper\u001b[0;34m(*args, **kwargs)\u001b[0m\n\u001b[1;32m    117\u001b[0m     \u001b[38;5;28;01mreturn\u001b[39;00m auxiliary_output\n\u001b[1;32m    118\u001b[0m \u001b[38;5;28;01melse\u001b[39;00m:\n\u001b[0;32m--> 119\u001b[0m     \u001b[38;5;28;01mreturn\u001b[39;00m \u001b[43mfunc\u001b[49m\u001b[43m(\u001b[49m\u001b[38;5;241;43m*\u001b[39;49m\u001b[38;5;241;43m*\u001b[39;49m\u001b[43mfinal_args\u001b[49m\u001b[43m)\u001b[49m\n",
      "File \u001b[0;32m~/projects@dprada/MolSysMT/molsysmt/basic/info.py:174\u001b[0m, in \u001b[0;36minfo\u001b[0;34m(molecular_system, element, indices, selection, syntax, output)\u001b[0m\n\u001b[1;32m    165\u001b[0m     \u001b[38;5;28;01mreturn\u001b[39;00m df({\u001b[38;5;124m'\u001b[39m\u001b[38;5;124mindex\u001b[39m\u001b[38;5;124m'\u001b[39m: chain_index, \u001b[38;5;124m'\u001b[39m\u001b[38;5;124mid\u001b[39m\u001b[38;5;124m'\u001b[39m: chain_id, \u001b[38;5;124m'\u001b[39m\u001b[38;5;124mname\u001b[39m\u001b[38;5;124m'\u001b[39m: chain_name,\n\u001b[1;32m    166\u001b[0m                \u001b[38;5;124m'\u001b[39m\u001b[38;5;124mn atoms\u001b[39m\u001b[38;5;124m'\u001b[39m: n_atoms, \u001b[38;5;124m'\u001b[39m\u001b[38;5;124mn groups\u001b[39m\u001b[38;5;124m'\u001b[39m: n_groups, \u001b[38;5;124m'\u001b[39m\u001b[38;5;124mn components\u001b[39m\u001b[38;5;124m'\u001b[39m: n_components,\n\u001b[1;32m    167\u001b[0m                \u001b[38;5;124m'\u001b[39m\u001b[38;5;124mmolecule index\u001b[39m\u001b[38;5;124m'\u001b[39m: molecule_index, \u001b[38;5;124m'\u001b[39m\u001b[38;5;124mmolecule type\u001b[39m\u001b[38;5;124m'\u001b[39m: molecule_type,\n\u001b[1;32m    168\u001b[0m                \u001b[38;5;124m'\u001b[39m\u001b[38;5;124mentity index\u001b[39m\u001b[38;5;124m'\u001b[39m: entity_index, \u001b[38;5;124m'\u001b[39m\u001b[38;5;124mentity name\u001b[39m\u001b[38;5;124m'\u001b[39m: entity_name})\u001b[38;5;241m.\u001b[39mstyle\u001b[38;5;241m.\u001b[39mhide(axis\u001b[38;5;241m=\u001b[39m\u001b[38;5;124m'\u001b[39m\u001b[38;5;124mindex\u001b[39m\u001b[38;5;124m'\u001b[39m)\n\u001b[1;32m    170\u001b[0m \u001b[38;5;28;01melif\u001b[39;00m element \u001b[38;5;241m==\u001b[39m \u001b[38;5;124m'\u001b[39m\u001b[38;5;124mmolecule\u001b[39m\u001b[38;5;124m'\u001b[39m:\n\u001b[1;32m    172\u001b[0m     molecule_index, molecule_name, molecule_type, \\\n\u001b[1;32m    173\u001b[0m     n_atoms, n_groups, n_components, chain_index, \\\n\u001b[0;32m--> 174\u001b[0m     entity_index, entity_name \u001b[38;5;241m=\u001b[39m \u001b[43mget\u001b[49m\u001b[43m(\u001b[49m\u001b[43mmolecular_system\u001b[49m\u001b[43m,\u001b[49m\u001b[43m \u001b[49m\u001b[43melement\u001b[49m\u001b[38;5;241;43m=\u001b[39;49m\u001b[43melement\u001b[49m\u001b[43m,\u001b[49m\u001b[43m \u001b[49m\u001b[43mindices\u001b[49m\u001b[38;5;241;43m=\u001b[39;49m\u001b[43mindices\u001b[49m\u001b[43m,\u001b[49m\u001b[43m \u001b[49m\u001b[43mselection\u001b[49m\u001b[38;5;241;43m=\u001b[39;49m\u001b[43mselection\u001b[49m\u001b[43m,\u001b[49m\n\u001b[1;32m    175\u001b[0m \u001b[43m                                    \u001b[49m\u001b[43msyntax\u001b[49m\u001b[38;5;241;43m=\u001b[39;49m\u001b[43msyntax\u001b[49m\u001b[43m,\u001b[49m\u001b[43m \u001b[49m\u001b[43mmolecule_index\u001b[49m\u001b[38;5;241;43m=\u001b[39;49m\u001b[38;5;28;43;01mTrue\u001b[39;49;00m\u001b[43m,\u001b[49m\u001b[43m \u001b[49m\u001b[43mmolecule_name\u001b[49m\u001b[38;5;241;43m=\u001b[39;49m\u001b[38;5;28;43;01mTrue\u001b[39;49;00m\u001b[43m,\u001b[49m\n\u001b[1;32m    176\u001b[0m \u001b[43m                                    \u001b[49m\u001b[43mmolecule_type\u001b[49m\u001b[38;5;241;43m=\u001b[39;49m\u001b[38;5;28;43;01mTrue\u001b[39;49;00m\u001b[43m,\u001b[49m\u001b[43m \u001b[49m\u001b[43mn_atoms\u001b[49m\u001b[38;5;241;43m=\u001b[39;49m\u001b[38;5;28;43;01mTrue\u001b[39;49;00m\u001b[43m,\u001b[49m\u001b[43m \u001b[49m\u001b[43mn_groups\u001b[49m\u001b[38;5;241;43m=\u001b[39;49m\u001b[38;5;28;43;01mTrue\u001b[39;49;00m\u001b[43m,\u001b[49m\u001b[43m \u001b[49m\u001b[43mn_components\u001b[49m\u001b[38;5;241;43m=\u001b[39;49m\u001b[38;5;28;43;01mTrue\u001b[39;49;00m\u001b[43m,\u001b[49m\n\u001b[1;32m    177\u001b[0m \u001b[43m                                    \u001b[49m\u001b[43mchain_index\u001b[49m\u001b[38;5;241;43m=\u001b[39;49m\u001b[38;5;28;43;01mTrue\u001b[39;49;00m\u001b[43m,\u001b[49m\u001b[43m \u001b[49m\u001b[43mentity_index\u001b[49m\u001b[38;5;241;43m=\u001b[39;49m\u001b[38;5;28;43;01mTrue\u001b[39;49;00m\u001b[43m,\u001b[49m\u001b[43m \u001b[49m\u001b[43mentity_name\u001b[49m\u001b[38;5;241;43m=\u001b[39;49m\u001b[38;5;28;43;01mTrue\u001b[39;49;00m\u001b[43m)\u001b[49m\n\u001b[1;32m    179\u001b[0m     \u001b[38;5;28;01mif\u001b[39;00m \u001b[38;5;28mlen\u001b[39m(chain_index\u001b[38;5;241m.\u001b[39mshape) \u001b[38;5;241m>\u001b[39m \u001b[38;5;241m1\u001b[39m:\n\u001b[1;32m    180\u001b[0m         n_objects \u001b[38;5;241m=\u001b[39m chain_index\u001b[38;5;241m.\u001b[39mshape[\u001b[38;5;241m0\u001b[39m]\n",
      "File \u001b[0;32m~/projects@dprada/MolSysMT/molsysmt/_private/digestion/digest.py:113\u001b[0m, in \u001b[0;36mdigest.<locals>.digestor.<locals>.wrapper\u001b[0;34m(*args, **kwargs)\u001b[0m\n\u001b[1;32m    110\u001b[0m final_args \u001b[38;5;241m=\u001b[39m digested_args\n\u001b[1;32m    112\u001b[0m \u001b[38;5;28;01mif\u001b[39;00m output:\n\u001b[0;32m--> 113\u001b[0m     auxiliary_output \u001b[38;5;241m=\u001b[39m \u001b[43mfunc\u001b[49m\u001b[43m(\u001b[49m\u001b[38;5;241;43m*\u001b[39;49m\u001b[38;5;241;43m*\u001b[39;49m\u001b[43mfinal_args\u001b[49m\u001b[43m)\u001b[49m\n\u001b[1;32m    114\u001b[0m     \u001b[38;5;28;01mif\u001b[39;00m \u001b[38;5;28misinstance\u001b[39m(auxiliary_output, (\u001b[38;5;28mlist\u001b[39m, \u001b[38;5;28mtuple\u001b[39m)):\n\u001b[1;32m    115\u001b[0m         \u001b[38;5;28;01mif\u001b[39;00m \u001b[38;5;28mlen\u001b[39m(auxiliary_output) \u001b[38;5;241m==\u001b[39m \u001b[38;5;241m1\u001b[39m:\n",
      "File \u001b[0;32m~/projects@dprada/MolSysMT/molsysmt/basic/get.py:98\u001b[0m, in \u001b[0;36mget\u001b[0;34m(molecular_system, element, indices, selection, structure_indices, syntax, **kwargs)\u001b[0m\n\u001b[1;32m     96\u001b[0m         result \u001b[38;5;241m=\u001b[39m \u001b[38;5;28;01mNone\u001b[39;00m\n\u001b[1;32m     97\u001b[0m     \u001b[38;5;28;01melse\u001b[39;00m:\n\u001b[0;32m---> 98\u001b[0m         result \u001b[38;5;241m=\u001b[39m \u001b[43mdict_get\u001b[49m\u001b[43m[\u001b[49m\u001b[43maux_form\u001b[49m\u001b[43m]\u001b[49m\u001b[43m[\u001b[49m\u001b[43melement\u001b[49m\u001b[43m]\u001b[49m\u001b[43m[\u001b[49m\u001b[43margument\u001b[49m\u001b[43m]\u001b[49m\u001b[43m(\u001b[49m\u001b[43maux_item\u001b[49m\u001b[43m,\u001b[49m\u001b[43m \u001b[49m\u001b[38;5;241;43m*\u001b[39;49m\u001b[38;5;241;43m*\u001b[39;49m\u001b[43mdict_indices\u001b[49m\u001b[43m)\u001b[49m\n\u001b[1;32m    100\u001b[0m     attributes\u001b[38;5;241m.\u001b[39mappend(result)\n\u001b[1;32m    102\u001b[0m \u001b[38;5;28;01mreturn\u001b[39;00m attributes\n",
      "File \u001b[0;32m~/projects@dprada/MolSysMT/molsysmt/_private/digestion/digest.py:119\u001b[0m, in \u001b[0;36mdigest.<locals>.digestor.<locals>.wrapper\u001b[0;34m(*args, **kwargs)\u001b[0m\n\u001b[1;32m    117\u001b[0m     \u001b[38;5;28;01mreturn\u001b[39;00m auxiliary_output\n\u001b[1;32m    118\u001b[0m \u001b[38;5;28;01melse\u001b[39;00m:\n\u001b[0;32m--> 119\u001b[0m     \u001b[38;5;28;01mreturn\u001b[39;00m \u001b[43mfunc\u001b[49m\u001b[43m(\u001b[49m\u001b[38;5;241;43m*\u001b[39;49m\u001b[38;5;241;43m*\u001b[39;49m\u001b[43mfinal_args\u001b[49m\u001b[43m)\u001b[49m\n",
      "File \u001b[0;32m~/projects@dprada/MolSysMT/molsysmt/item/mmtf_MMTFDecoder/../../_private/common_get.py:1397\u001b[0m, in \u001b[0;36mget_entity_index_from_molecule\u001b[0;34m(item, indices)\u001b[0m\n\u001b[1;32m   1393\u001b[0m \u001b[38;5;129m@digest\u001b[39m(form\u001b[38;5;241m=\u001b[39mform)\n\u001b[1;32m   1394\u001b[0m \u001b[38;5;28;01mdef\u001b[39;00m \u001b[38;5;21mget_entity_index_from_molecule\u001b[39m(item, indices\u001b[38;5;241m=\u001b[39m\u001b[38;5;124m'\u001b[39m\u001b[38;5;124mall\u001b[39m\u001b[38;5;124m'\u001b[39m):\n\u001b[1;32m   1396\u001b[0m     atom_index_from_target \u001b[38;5;241m=\u001b[39m get_atom_index_from_molecule(item, indices\u001b[38;5;241m=\u001b[39mindices)\n\u001b[0;32m-> 1397\u001b[0m     first_atom_index_from_target \u001b[38;5;241m=\u001b[39m np\u001b[38;5;241m.\u001b[39marray([ii[\u001b[38;5;241m0\u001b[39m] \u001b[38;5;28;01mfor\u001b[39;00m ii \u001b[38;5;129;01min\u001b[39;00m atom_index_from_target])\n\u001b[1;32m   1398\u001b[0m     output \u001b[38;5;241m=\u001b[39m get_entity_index_from_atom(item, indices\u001b[38;5;241m=\u001b[39mfirst_atom_index_from_target)\n\u001b[1;32m   1400\u001b[0m     \u001b[38;5;28;01mdel\u001b[39;00m(atom_index_from_target, first_atom_index_from_target)\n",
      "File \u001b[0;32m~/projects@dprada/MolSysMT/molsysmt/item/mmtf_MMTFDecoder/../../_private/common_get.py:1397\u001b[0m, in \u001b[0;36m<listcomp>\u001b[0;34m(.0)\u001b[0m\n\u001b[1;32m   1393\u001b[0m \u001b[38;5;129m@digest\u001b[39m(form\u001b[38;5;241m=\u001b[39mform)\n\u001b[1;32m   1394\u001b[0m \u001b[38;5;28;01mdef\u001b[39;00m \u001b[38;5;21mget_entity_index_from_molecule\u001b[39m(item, indices\u001b[38;5;241m=\u001b[39m\u001b[38;5;124m'\u001b[39m\u001b[38;5;124mall\u001b[39m\u001b[38;5;124m'\u001b[39m):\n\u001b[1;32m   1396\u001b[0m     atom_index_from_target \u001b[38;5;241m=\u001b[39m get_atom_index_from_molecule(item, indices\u001b[38;5;241m=\u001b[39mindices)\n\u001b[0;32m-> 1397\u001b[0m     first_atom_index_from_target \u001b[38;5;241m=\u001b[39m np\u001b[38;5;241m.\u001b[39marray([\u001b[43mii\u001b[49m\u001b[43m[\u001b[49m\u001b[38;5;241;43m0\u001b[39;49m\u001b[43m]\u001b[49m \u001b[38;5;28;01mfor\u001b[39;00m ii \u001b[38;5;129;01min\u001b[39;00m atom_index_from_target])\n\u001b[1;32m   1398\u001b[0m     output \u001b[38;5;241m=\u001b[39m get_entity_index_from_atom(item, indices\u001b[38;5;241m=\u001b[39mfirst_atom_index_from_target)\n\u001b[1;32m   1400\u001b[0m     \u001b[38;5;28;01mdel\u001b[39;00m(atom_index_from_target, first_atom_index_from_target)\n",
      "\u001b[0;31mIndexError\u001b[0m: index 0 is out of bounds for axis 0 with size 0"
     ]
    }
   ],
   "source": [
    "msm.info(mmtf, element='molecule')"
   ]
  },
  {
   "cell_type": "code",
   "execution_count": null,
   "metadata": {},
   "outputs": [],
   "source": []
  }
 ],
 "metadata": {
  "kernelspec": {
   "display_name": "Python 3 (ipykernel)",
   "language": "python",
   "name": "python3"
  },
  "language_info": {
   "codemirror_mode": {
    "name": "ipython",
    "version": 3
   },
   "file_extension": ".py",
   "mimetype": "text/x-python",
   "name": "python",
   "nbconvert_exporter": "python",
   "pygments_lexer": "ipython3",
   "version": "3.9.13"
  }
 },
 "nbformat": 4,
 "nbformat_minor": 4
}
