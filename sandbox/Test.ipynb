{
 "cells": [
  {
   "cell_type": "code",
   "execution_count": 1,
   "metadata": {},
   "outputs": [],
   "source": [
    "%load_ext autoreload\n",
    "%autoreload 2"
   ]
  },
  {
   "cell_type": "code",
   "execution_count": 2,
   "metadata": {},
   "outputs": [
    {
     "data": {
      "application/vnd.jupyter.widget-view+json": {
       "model_id": "a75c86089a90412aa6db80942b1fb487",
       "version_major": 2,
       "version_minor": 0
      },
      "text/plain": []
     },
     "metadata": {},
     "output_type": "display_data"
    }
   ],
   "source": [
    "import molsysmt as msm"
   ]
  },
  {
   "cell_type": "code",
   "execution_count": 3,
   "metadata": {},
   "outputs": [],
   "source": [
    "pdbs_to_be_tested = [\"1BG3\", \"2PGI\", \"4PFK\", \"4ALD\", \"3YPI\", \"3GPD\",\n",
    "                    \"13PK\", \"1BQ3\", \"7ENL\", \"1A3W\"]"
   ]
  },
  {
   "cell_type": "code",
   "execution_count": 17,
   "metadata": {},
   "outputs": [
    {
     "name": "stdout",
     "output_type": "stream",
     "text": [
      "The structure in the PDB has biological assemblies. There are geometrical transformations proposed in the structure. See the following issue in the source code repository: https://github.com/uibcdf/MolSysMT/issues/33\n"
     ]
    },
    {
     "name": "stderr",
     "output_type": "stream",
     "text": [
      "/home/diego/projects@dprada/MolSysMT/molsysmt/item/mmtf_MMTFDecoder/to_molsysmt_Topology.py:31: UserWarning: The structure in the PDB has biological assemblies. There are geometrical transformations proposed in the structure. See the following issue in the source code repository: https://github.com/uibcdf/MolSysMT/issues/33\n",
      "  warnings.warn(warning_message)\n",
      "/home/diego/projects@dprada/MolSysMT/molsysmt/item/mmtf_MMTFDecoder/to_molsysmt_Topology.py:41: UserWarning: The structure in the PDB has biological assemblies. There are geometrical transformations proposed in the structure. See the following issue in the source code repository: https://github.com/uibcdf/MolSysMT/issues/33\n",
      "  warnings.warn(warning_message)\n"
     ]
    }
   ],
   "source": [
    "molsys = msm.convert('1A3W')"
   ]
  },
  {
   "cell_type": "code",
   "execution_count": 18,
   "metadata": {},
   "outputs": [
    {
     "data": {
      "text/html": [
       "<style type=\"text/css\">\n",
       "</style>\n",
       "<table id=\"T_0eca4\">\n",
       "  <thead>\n",
       "    <tr>\n",
       "      <th id=\"T_0eca4_level0_col0\" class=\"col_heading level0 col0\" >form</th>\n",
       "      <th id=\"T_0eca4_level0_col1\" class=\"col_heading level0 col1\" >n_atoms</th>\n",
       "      <th id=\"T_0eca4_level0_col2\" class=\"col_heading level0 col2\" >n_groups</th>\n",
       "      <th id=\"T_0eca4_level0_col3\" class=\"col_heading level0 col3\" >n_components</th>\n",
       "      <th id=\"T_0eca4_level0_col4\" class=\"col_heading level0 col4\" >n_chains</th>\n",
       "      <th id=\"T_0eca4_level0_col5\" class=\"col_heading level0 col5\" >n_molecules</th>\n",
       "      <th id=\"T_0eca4_level0_col6\" class=\"col_heading level0 col6\" >n_entities</th>\n",
       "      <th id=\"T_0eca4_level0_col7\" class=\"col_heading level0 col7\" >n_ions</th>\n",
       "      <th id=\"T_0eca4_level0_col8\" class=\"col_heading level0 col8\" >n_small_molecules</th>\n",
       "      <th id=\"T_0eca4_level0_col9\" class=\"col_heading level0 col9\" >n_proteins</th>\n",
       "      <th id=\"T_0eca4_level0_col10\" class=\"col_heading level0 col10\" >n_structures</th>\n",
       "    </tr>\n",
       "  </thead>\n",
       "  <tbody>\n",
       "    <tr>\n",
       "      <td id=\"T_0eca4_row0_col0\" class=\"data row0 col0\" >molsysmt.MolSys</td>\n",
       "      <td id=\"T_0eca4_row0_col1\" class=\"data row0 col1\" >7581</td>\n",
       "      <td id=\"T_0eca4_row0_col2\" class=\"data row0 col2\" >989</td>\n",
       "      <td id=\"T_0eca4_row0_col3\" class=\"data row0 col3\" >15</td>\n",
       "      <td id=\"T_0eca4_row0_col4\" class=\"data row0 col4\" >10</td>\n",
       "      <td id=\"T_0eca4_row0_col5\" class=\"data row0 col5\" >10</td>\n",
       "      <td id=\"T_0eca4_row0_col6\" class=\"data row0 col6\" >5</td>\n",
       "      <td id=\"T_0eca4_row0_col7\" class=\"data row0 col7\" >4</td>\n",
       "      <td id=\"T_0eca4_row0_col8\" class=\"data row0 col8\" >4</td>\n",
       "      <td id=\"T_0eca4_row0_col9\" class=\"data row0 col9\" >2</td>\n",
       "      <td id=\"T_0eca4_row0_col10\" class=\"data row0 col10\" >1</td>\n",
       "    </tr>\n",
       "  </tbody>\n",
       "</table>\n"
      ],
      "text/plain": [
       "<pandas.io.formats.style.Styler at 0x7f51b27dba00>"
      ]
     },
     "execution_count": 18,
     "metadata": {},
     "output_type": "execute_result"
    }
   ],
   "source": [
    "msm.info(molsys)"
   ]
  },
  {
   "cell_type": "code",
   "execution_count": 19,
   "metadata": {},
   "outputs": [
    {
     "data": {
      "text/html": [
       "<style type=\"text/css\">\n",
       "</style>\n",
       "<table id=\"T_04f0d\">\n",
       "  <thead>\n",
       "    <tr>\n",
       "      <th id=\"T_04f0d_level0_col0\" class=\"col_heading level0 col0\" >index</th>\n",
       "      <th id=\"T_04f0d_level0_col1\" class=\"col_heading level0 col1\" >name</th>\n",
       "      <th id=\"T_04f0d_level0_col2\" class=\"col_heading level0 col2\" >type</th>\n",
       "      <th id=\"T_04f0d_level0_col3\" class=\"col_heading level0 col3\" >n atoms</th>\n",
       "      <th id=\"T_04f0d_level0_col4\" class=\"col_heading level0 col4\" >n groups</th>\n",
       "      <th id=\"T_04f0d_level0_col5\" class=\"col_heading level0 col5\" >n components</th>\n",
       "      <th id=\"T_04f0d_level0_col6\" class=\"col_heading level0 col6\" >n chains</th>\n",
       "      <th id=\"T_04f0d_level0_col7\" class=\"col_heading level0 col7\" >n molecules</th>\n",
       "    </tr>\n",
       "  </thead>\n",
       "  <tbody>\n",
       "    <tr>\n",
       "      <td id=\"T_04f0d_row0_col0\" class=\"data row0 col0\" >0</td>\n",
       "      <td id=\"T_04f0d_row0_col1\" class=\"data row0 col1\" >Pyruvate kinase</td>\n",
       "      <td id=\"T_04f0d_row0_col2\" class=\"data row0 col2\" >protein</td>\n",
       "      <td id=\"T_04f0d_row0_col3\" class=\"data row0 col3\" >7519</td>\n",
       "      <td id=\"T_04f0d_row0_col4\" class=\"data row0 col4\" >981</td>\n",
       "      <td id=\"T_04f0d_row0_col5\" class=\"data row0 col5\" >7</td>\n",
       "      <td id=\"T_04f0d_row0_col6\" class=\"data row0 col6\" >2</td>\n",
       "      <td id=\"T_04f0d_row0_col7\" class=\"data row0 col7\" >2</td>\n",
       "    </tr>\n",
       "    <tr>\n",
       "      <td id=\"T_04f0d_row1_col0\" class=\"data row1 col0\" >1</td>\n",
       "      <td id=\"T_04f0d_row1_col1\" class=\"data row1 col1\" >2-phosphoglycolic acid</td>\n",
       "      <td id=\"T_04f0d_row1_col2\" class=\"data row1 col2\" >small molecule</td>\n",
       "      <td id=\"T_04f0d_row1_col3\" class=\"data row1 col3\" >18</td>\n",
       "      <td id=\"T_04f0d_row1_col4\" class=\"data row1 col4\" >2</td>\n",
       "      <td id=\"T_04f0d_row1_col5\" class=\"data row1 col5\" >2</td>\n",
       "      <td id=\"T_04f0d_row1_col6\" class=\"data row1 col6\" >2</td>\n",
       "      <td id=\"T_04f0d_row1_col7\" class=\"data row1 col7\" >2</td>\n",
       "    </tr>\n",
       "    <tr>\n",
       "      <td id=\"T_04f0d_row2_col0\" class=\"data row2 col0\" >2</td>\n",
       "      <td id=\"T_04f0d_row2_col1\" class=\"data row2 col1\" >1,6-di-o-phosphono-beta-d-fructofuranose</td>\n",
       "      <td id=\"T_04f0d_row2_col2\" class=\"data row2 col2\" >small molecule</td>\n",
       "      <td id=\"T_04f0d_row2_col3\" class=\"data row2 col3\" >40</td>\n",
       "      <td id=\"T_04f0d_row2_col4\" class=\"data row2 col4\" >2</td>\n",
       "      <td id=\"T_04f0d_row2_col5\" class=\"data row2 col5\" >2</td>\n",
       "      <td id=\"T_04f0d_row2_col6\" class=\"data row2 col6\" >2</td>\n",
       "      <td id=\"T_04f0d_row2_col7\" class=\"data row2 col7\" >2</td>\n",
       "    </tr>\n",
       "    <tr>\n",
       "      <td id=\"T_04f0d_row3_col0\" class=\"data row3 col0\" >3</td>\n",
       "      <td id=\"T_04f0d_row3_col1\" class=\"data row3 col1\" >Manganese (ii) ion</td>\n",
       "      <td id=\"T_04f0d_row3_col2\" class=\"data row3 col2\" >ion</td>\n",
       "      <td id=\"T_04f0d_row3_col3\" class=\"data row3 col3\" >2</td>\n",
       "      <td id=\"T_04f0d_row3_col4\" class=\"data row3 col4\" >2</td>\n",
       "      <td id=\"T_04f0d_row3_col5\" class=\"data row3 col5\" >2</td>\n",
       "      <td id=\"T_04f0d_row3_col6\" class=\"data row3 col6\" >2</td>\n",
       "      <td id=\"T_04f0d_row3_col7\" class=\"data row3 col7\" >2</td>\n",
       "    </tr>\n",
       "    <tr>\n",
       "      <td id=\"T_04f0d_row4_col0\" class=\"data row4 col0\" >4</td>\n",
       "      <td id=\"T_04f0d_row4_col1\" class=\"data row4 col1\" >Potassium ion</td>\n",
       "      <td id=\"T_04f0d_row4_col2\" class=\"data row4 col2\" >ion</td>\n",
       "      <td id=\"T_04f0d_row4_col3\" class=\"data row4 col3\" >2</td>\n",
       "      <td id=\"T_04f0d_row4_col4\" class=\"data row4 col4\" >2</td>\n",
       "      <td id=\"T_04f0d_row4_col5\" class=\"data row4 col5\" >2</td>\n",
       "      <td id=\"T_04f0d_row4_col6\" class=\"data row4 col6\" >2</td>\n",
       "      <td id=\"T_04f0d_row4_col7\" class=\"data row4 col7\" >2</td>\n",
       "    </tr>\n",
       "  </tbody>\n",
       "</table>\n"
      ],
      "text/plain": [
       "<pandas.io.formats.style.Styler at 0x7f50cbcd6a00>"
      ]
     },
     "execution_count": 19,
     "metadata": {},
     "output_type": "execute_result"
    }
   ],
   "source": [
    "msm.info(molsys, element='entity')"
   ]
  },
  {
   "cell_type": "code",
   "execution_count": 20,
   "metadata": {},
   "outputs": [
    {
     "data": {
      "application/vnd.jupyter.widget-view+json": {
       "model_id": "3f4041bbfbdf4febab1e26183f3f13ce",
       "version_major": 2,
       "version_minor": 0
      },
      "text/plain": [
       "NGLWidget()"
      ]
     },
     "metadata": {},
     "output_type": "display_data"
    }
   ],
   "source": [
    "msm.view(molsys)"
   ]
  },
  {
   "cell_type": "code",
   "execution_count": null,
   "metadata": {},
   "outputs": [],
   "source": []
  }
 ],
 "metadata": {
  "kernelspec": {
   "display_name": "Python 3 (ipykernel)",
   "language": "python",
   "name": "python3"
  },
  "language_info": {
   "codemirror_mode": {
    "name": "ipython",
    "version": 3
   },
   "file_extension": ".py",
   "mimetype": "text/x-python",
   "name": "python",
   "nbconvert_exporter": "python",
   "pygments_lexer": "ipython3",
   "version": "3.9.13"
  }
 },
 "nbformat": 4,
 "nbformat_minor": 4
}
