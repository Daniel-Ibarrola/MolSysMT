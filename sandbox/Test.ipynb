{
 "cells": [
  {
   "cell_type": "code",
   "execution_count": 1,
   "metadata": {},
   "outputs": [],
   "source": [
    "%load_ext autoreload\n",
    "%autoreload 2"
   ]
  },
  {
   "cell_type": "code",
   "execution_count": 2,
   "metadata": {},
   "outputs": [
    {
     "data": {
      "application/vnd.jupyter.widget-view+json": {
       "model_id": "d15e0a74bc8947c7aea772365cf84b51",
       "version_major": 2,
       "version_minor": 0
      },
      "text/plain": []
     },
     "metadata": {},
     "output_type": "display_data"
    }
   ],
   "source": [
    "import molsysmt as msm"
   ]
  },
  {
   "cell_type": "code",
   "execution_count": 3,
   "metadata": {},
   "outputs": [],
   "source": [
    "pdbs_to_be_tested = [\"1BG3\", \"2PGI\", \"4PFK\", \"4ALD\", \"3YPI\", \"3GPD\",\n",
    "                    \"13PK\", \"1BQ3\", \"7ENL\", \"1A3W\"]"
   ]
  },
  {
   "cell_type": "code",
   "execution_count": 4,
   "metadata": {},
   "outputs": [
    {
     "name": "stderr",
     "output_type": "stream",
     "text": [
      "/home/diego/projects@dprada/MolSysMT/molsysmt/item/mmtf_MMTFDecoder/to_molsysmt_Topology.py:33: UserWarning: The structure in the PDB has biological assemblies. There are geometrical transformations proposed in the structure. See the following issue in the source code repository: https://github.com/uibcdf/MolSysMT/issues/33\n",
      "  warnings.warn(warning_message)\n"
     ]
    }
   ],
   "source": [
    "molsys = msm.convert('1A6M')"
   ]
  },
  {
   "cell_type": "code",
   "execution_count": 7,
   "metadata": {},
   "outputs": [
    {
     "name": "stderr",
     "output_type": "stream",
     "text": [
      "/home/diego/Myopt/miniconda3/envs/MolSysMT@dprada_3.9/lib/python3.9/site-packages/pint_pandas/pint_array.py:648: UnitStrippedWarning: The unit of the quantity is stripped when downcasting to ndarray.\n",
      "  return np.array(qtys, dtype=\"object\", copy=copy)\n",
      "/home/diego/Myopt/miniconda3/envs/MolSysMT@dprada_3.9/lib/python3.9/site-packages/pint_pandas/pint_array.py:648: UnitStrippedWarning: The unit of the quantity is stripped when downcasting to ndarray.\n",
      "  return np.array(qtys, dtype=\"object\", copy=copy)\n",
      "/home/diego/Myopt/miniconda3/envs/MolSysMT@dprada_3.9/lib/python3.9/site-packages/pint_pandas/pint_array.py:648: UnitStrippedWarning: The unit of the quantity is stripped when downcasting to ndarray.\n",
      "  return np.array(qtys, dtype=\"object\", copy=copy)\n",
      "/home/diego/Myopt/miniconda3/envs/MolSysMT@dprada_3.9/lib/python3.9/site-packages/pint_pandas/pint_array.py:648: UnitStrippedWarning: The unit of the quantity is stripped when downcasting to ndarray.\n",
      "  return np.array(qtys, dtype=\"object\", copy=copy)\n",
      "/home/diego/Myopt/miniconda3/envs/MolSysMT@dprada_3.9/lib/python3.9/site-packages/pint_pandas/pint_array.py:648: UnitStrippedWarning: The unit of the quantity is stripped when downcasting to ndarray.\n",
      "  return np.array(qtys, dtype=\"object\", copy=copy)\n",
      "/home/diego/Myopt/miniconda3/envs/MolSysMT@dprada_3.9/lib/python3.9/site-packages/pint_pandas/pint_array.py:648: UnitStrippedWarning: The unit of the quantity is stripped when downcasting to ndarray.\n",
      "  return np.array(qtys, dtype=\"object\", copy=copy)\n",
      "/home/diego/Myopt/miniconda3/envs/MolSysMT@dprada_3.9/lib/python3.9/site-packages/pint_pandas/pint_array.py:648: UnitStrippedWarning: The unit of the quantity is stripped when downcasting to ndarray.\n",
      "  return np.array(qtys, dtype=\"object\", copy=copy)\n",
      "/home/diego/Myopt/miniconda3/envs/MolSysMT@dprada_3.9/lib/python3.9/site-packages/pint_pandas/pint_array.py:648: UnitStrippedWarning: The unit of the quantity is stripped when downcasting to ndarray.\n",
      "  return np.array(qtys, dtype=\"object\", copy=copy)\n",
      "/home/diego/Myopt/miniconda3/envs/MolSysMT@dprada_3.9/lib/python3.9/site-packages/pint_pandas/pint_array.py:648: UnitStrippedWarning: The unit of the quantity is stripped when downcasting to ndarray.\n",
      "  return np.array(qtys, dtype=\"object\", copy=copy)\n",
      "/home/diego/Myopt/miniconda3/envs/MolSysMT@dprada_3.9/lib/python3.9/site-packages/pint_pandas/pint_array.py:648: UnitStrippedWarning: The unit of the quantity is stripped when downcasting to ndarray.\n",
      "  return np.array(qtys, dtype=\"object\", copy=copy)\n",
      "/home/diego/Myopt/miniconda3/envs/MolSysMT@dprada_3.9/lib/python3.9/site-packages/pint_pandas/pint_array.py:648: UnitStrippedWarning: The unit of the quantity is stripped when downcasting to ndarray.\n",
      "  return np.array(qtys, dtype=\"object\", copy=copy)\n",
      "/home/diego/Myopt/miniconda3/envs/MolSysMT@dprada_3.9/lib/python3.9/site-packages/pint_pandas/pint_array.py:648: UnitStrippedWarning: The unit of the quantity is stripped when downcasting to ndarray.\n",
      "  return np.array(qtys, dtype=\"object\", copy=copy)\n",
      "/home/diego/Myopt/miniconda3/envs/MolSysMT@dprada_3.9/lib/python3.9/site-packages/pint_pandas/pint_array.py:648: UnitStrippedWarning: The unit of the quantity is stripped when downcasting to ndarray.\n",
      "  return np.array(qtys, dtype=\"object\", copy=copy)\n",
      "/home/diego/Myopt/miniconda3/envs/MolSysMT@dprada_3.9/lib/python3.9/site-packages/pint_pandas/pint_array.py:648: UnitStrippedWarning: The unit of the quantity is stripped when downcasting to ndarray.\n",
      "  return np.array(qtys, dtype=\"object\", copy=copy)\n",
      "/home/diego/Myopt/miniconda3/envs/MolSysMT@dprada_3.9/lib/python3.9/site-packages/pint_pandas/pint_array.py:648: UnitStrippedWarning: The unit of the quantity is stripped when downcasting to ndarray.\n",
      "  return np.array(qtys, dtype=\"object\", copy=copy)\n",
      "/home/diego/Myopt/miniconda3/envs/MolSysMT@dprada_3.9/lib/python3.9/site-packages/pint_pandas/pint_array.py:648: UnitStrippedWarning: The unit of the quantity is stripped when downcasting to ndarray.\n",
      "  return np.array(qtys, dtype=\"object\", copy=copy)\n",
      "/home/diego/Myopt/miniconda3/envs/MolSysMT@dprada_3.9/lib/python3.9/site-packages/pint_pandas/pint_array.py:648: UnitStrippedWarning: The unit of the quantity is stripped when downcasting to ndarray.\n",
      "  return np.array(qtys, dtype=\"object\", copy=copy)\n",
      "/home/diego/Myopt/miniconda3/envs/MolSysMT@dprada_3.9/lib/python3.9/site-packages/pint_pandas/pint_array.py:648: UnitStrippedWarning: The unit of the quantity is stripped when downcasting to ndarray.\n",
      "  return np.array(qtys, dtype=\"object\", copy=copy)\n",
      "/home/diego/Myopt/miniconda3/envs/MolSysMT@dprada_3.9/lib/python3.9/site-packages/pint_pandas/pint_array.py:648: UnitStrippedWarning: The unit of the quantity is stripped when downcasting to ndarray.\n",
      "  return np.array(qtys, dtype=\"object\", copy=copy)\n",
      "/home/diego/Myopt/miniconda3/envs/MolSysMT@dprada_3.9/lib/python3.9/site-packages/pint_pandas/pint_array.py:648: UnitStrippedWarning: The unit of the quantity is stripped when downcasting to ndarray.\n",
      "  return np.array(qtys, dtype=\"object\", copy=copy)\n",
      "/home/diego/Myopt/miniconda3/envs/MolSysMT@dprada_3.9/lib/python3.9/site-packages/pint_pandas/pint_array.py:648: UnitStrippedWarning: The unit of the quantity is stripped when downcasting to ndarray.\n",
      "  return np.array(qtys, dtype=\"object\", copy=copy)\n",
      "/home/diego/Myopt/miniconda3/envs/MolSysMT@dprada_3.9/lib/python3.9/site-packages/pint_pandas/pint_array.py:648: UnitStrippedWarning: The unit of the quantity is stripped when downcasting to ndarray.\n",
      "  return np.array(qtys, dtype=\"object\", copy=copy)\n",
      "/home/diego/Myopt/miniconda3/envs/MolSysMT@dprada_3.9/lib/python3.9/site-packages/pint_pandas/pint_array.py:648: UnitStrippedWarning: The unit of the quantity is stripped when downcasting to ndarray.\n",
      "  return np.array(qtys, dtype=\"object\", copy=copy)\n",
      "/home/diego/Myopt/miniconda3/envs/MolSysMT@dprada_3.9/lib/python3.9/site-packages/pint_pandas/pint_array.py:648: UnitStrippedWarning: The unit of the quantity is stripped when downcasting to ndarray.\n",
      "  return np.array(qtys, dtype=\"object\", copy=copy)\n",
      "/home/diego/Myopt/miniconda3/envs/MolSysMT@dprada_3.9/lib/python3.9/site-packages/pint_pandas/pint_array.py:648: UnitStrippedWarning: The unit of the quantity is stripped when downcasting to ndarray.\n",
      "  return np.array(qtys, dtype=\"object\", copy=copy)\n",
      "/home/diego/Myopt/miniconda3/envs/MolSysMT@dprada_3.9/lib/python3.9/site-packages/pint_pandas/pint_array.py:648: UnitStrippedWarning: The unit of the quantity is stripped when downcasting to ndarray.\n",
      "  return np.array(qtys, dtype=\"object\", copy=copy)\n",
      "/home/diego/Myopt/miniconda3/envs/MolSysMT@dprada_3.9/lib/python3.9/site-packages/pint_pandas/pint_array.py:648: UnitStrippedWarning: The unit of the quantity is stripped when downcasting to ndarray.\n",
      "  return np.array(qtys, dtype=\"object\", copy=copy)\n",
      "/home/diego/Myopt/miniconda3/envs/MolSysMT@dprada_3.9/lib/python3.9/site-packages/pint_pandas/pint_array.py:648: UnitStrippedWarning: The unit of the quantity is stripped when downcasting to ndarray.\n",
      "  return np.array(qtys, dtype=\"object\", copy=copy)\n",
      "/home/diego/Myopt/miniconda3/envs/MolSysMT@dprada_3.9/lib/python3.9/site-packages/pint_pandas/pint_array.py:648: UnitStrippedWarning: The unit of the quantity is stripped when downcasting to ndarray.\n",
      "  return np.array(qtys, dtype=\"object\", copy=copy)\n",
      "/home/diego/Myopt/miniconda3/envs/MolSysMT@dprada_3.9/lib/python3.9/site-packages/pint_pandas/pint_array.py:648: UnitStrippedWarning: The unit of the quantity is stripped when downcasting to ndarray.\n",
      "  return np.array(qtys, dtype=\"object\", copy=copy)\n",
      "/home/diego/Myopt/miniconda3/envs/MolSysMT@dprada_3.9/lib/python3.9/site-packages/pint_pandas/pint_array.py:648: UnitStrippedWarning: The unit of the quantity is stripped when downcasting to ndarray.\n",
      "  return np.array(qtys, dtype=\"object\", copy=copy)\n",
      "/home/diego/Myopt/miniconda3/envs/MolSysMT@dprada_3.9/lib/python3.9/site-packages/pint_pandas/pint_array.py:648: UnitStrippedWarning: The unit of the quantity is stripped when downcasting to ndarray.\n",
      "  return np.array(qtys, dtype=\"object\", copy=copy)\n",
      "/home/diego/Myopt/miniconda3/envs/MolSysMT@dprada_3.9/lib/python3.9/site-packages/pint_pandas/pint_array.py:648: UnitStrippedWarning: The unit of the quantity is stripped when downcasting to ndarray.\n",
      "  return np.array(qtys, dtype=\"object\", copy=copy)\n",
      "/home/diego/Myopt/miniconda3/envs/MolSysMT@dprada_3.9/lib/python3.9/site-packages/pint_pandas/pint_array.py:648: UnitStrippedWarning: The unit of the quantity is stripped when downcasting to ndarray.\n",
      "  return np.array(qtys, dtype=\"object\", copy=copy)\n",
      "/home/diego/Myopt/miniconda3/envs/MolSysMT@dprada_3.9/lib/python3.9/site-packages/pint_pandas/pint_array.py:648: UnitStrippedWarning: The unit of the quantity is stripped when downcasting to ndarray.\n",
      "  return np.array(qtys, dtype=\"object\", copy=copy)\n",
      "/home/diego/Myopt/miniconda3/envs/MolSysMT@dprada_3.9/lib/python3.9/site-packages/pint_pandas/pint_array.py:648: UnitStrippedWarning: The unit of the quantity is stripped when downcasting to ndarray.\n",
      "  return np.array(qtys, dtype=\"object\", copy=copy)\n",
      "/home/diego/Myopt/miniconda3/envs/MolSysMT@dprada_3.9/lib/python3.9/site-packages/pint_pandas/pint_array.py:648: UnitStrippedWarning: The unit of the quantity is stripped when downcasting to ndarray.\n",
      "  return np.array(qtys, dtype=\"object\", copy=copy)\n",
      "/home/diego/Myopt/miniconda3/envs/MolSysMT@dprada_3.9/lib/python3.9/site-packages/pint_pandas/pint_array.py:648: UnitStrippedWarning: The unit of the quantity is stripped when downcasting to ndarray.\n",
      "  return np.array(qtys, dtype=\"object\", copy=copy)\n",
      "/home/diego/Myopt/miniconda3/envs/MolSysMT@dprada_3.9/lib/python3.9/site-packages/pint_pandas/pint_array.py:648: UnitStrippedWarning: The unit of the quantity is stripped when downcasting to ndarray.\n",
      "  return np.array(qtys, dtype=\"object\", copy=copy)\n",
      "/home/diego/Myopt/miniconda3/envs/MolSysMT@dprada_3.9/lib/python3.9/site-packages/pint_pandas/pint_array.py:648: UnitStrippedWarning: The unit of the quantity is stripped when downcasting to ndarray.\n",
      "  return np.array(qtys, dtype=\"object\", copy=copy)\n",
      "/home/diego/Myopt/miniconda3/envs/MolSysMT@dprada_3.9/lib/python3.9/site-packages/pint_pandas/pint_array.py:648: UnitStrippedWarning: The unit of the quantity is stripped when downcasting to ndarray.\n",
      "  return np.array(qtys, dtype=\"object\", copy=copy)\n",
      "/home/diego/Myopt/miniconda3/envs/MolSysMT@dprada_3.9/lib/python3.9/site-packages/pint_pandas/pint_array.py:648: UnitStrippedWarning: The unit of the quantity is stripped when downcasting to ndarray.\n",
      "  return np.array(qtys, dtype=\"object\", copy=copy)\n",
      "/home/diego/Myopt/miniconda3/envs/MolSysMT@dprada_3.9/lib/python3.9/site-packages/pint_pandas/pint_array.py:648: UnitStrippedWarning: The unit of the quantity is stripped when downcasting to ndarray.\n",
      "  return np.array(qtys, dtype=\"object\", copy=copy)\n",
      "/home/diego/Myopt/miniconda3/envs/MolSysMT@dprada_3.9/lib/python3.9/site-packages/pint_pandas/pint_array.py:648: UnitStrippedWarning: The unit of the quantity is stripped when downcasting to ndarray.\n",
      "  return np.array(qtys, dtype=\"object\", copy=copy)\n",
      "/home/diego/Myopt/miniconda3/envs/MolSysMT@dprada_3.9/lib/python3.9/site-packages/pint_pandas/pint_array.py:648: UnitStrippedWarning: The unit of the quantity is stripped when downcasting to ndarray.\n",
      "  return np.array(qtys, dtype=\"object\", copy=copy)\n",
      "/home/diego/Myopt/miniconda3/envs/MolSysMT@dprada_3.9/lib/python3.9/site-packages/pint_pandas/pint_array.py:648: UnitStrippedWarning: The unit of the quantity is stripped when downcasting to ndarray.\n",
      "  return np.array(qtys, dtype=\"object\", copy=copy)\n",
      "/home/diego/Myopt/miniconda3/envs/MolSysMT@dprada_3.9/lib/python3.9/site-packages/pint_pandas/pint_array.py:648: UnitStrippedWarning: The unit of the quantity is stripped when downcasting to ndarray.\n",
      "  return np.array(qtys, dtype=\"object\", copy=copy)\n",
      "/home/diego/Myopt/miniconda3/envs/MolSysMT@dprada_3.9/lib/python3.9/site-packages/pint_pandas/pint_array.py:648: UnitStrippedWarning: The unit of the quantity is stripped when downcasting to ndarray.\n",
      "  return np.array(qtys, dtype=\"object\", copy=copy)\n",
      "/home/diego/Myopt/miniconda3/envs/MolSysMT@dprada_3.9/lib/python3.9/site-packages/pint_pandas/pint_array.py:648: UnitStrippedWarning: The unit of the quantity is stripped when downcasting to ndarray.\n",
      "  return np.array(qtys, dtype=\"object\", copy=copy)\n",
      "/home/diego/Myopt/miniconda3/envs/MolSysMT@dprada_3.9/lib/python3.9/site-packages/pint_pandas/pint_array.py:648: UnitStrippedWarning: The unit of the quantity is stripped when downcasting to ndarray.\n",
      "  return np.array(qtys, dtype=\"object\", copy=copy)\n",
      "/home/diego/Myopt/miniconda3/envs/MolSysMT@dprada_3.9/lib/python3.9/site-packages/pint_pandas/pint_array.py:648: UnitStrippedWarning: The unit of the quantity is stripped when downcasting to ndarray.\n",
      "  return np.array(qtys, dtype=\"object\", copy=copy)\n",
      "/home/diego/Myopt/miniconda3/envs/MolSysMT@dprada_3.9/lib/python3.9/site-packages/pint_pandas/pint_array.py:648: UnitStrippedWarning: The unit of the quantity is stripped when downcasting to ndarray.\n",
      "  return np.array(qtys, dtype=\"object\", copy=copy)\n",
      "/home/diego/Myopt/miniconda3/envs/MolSysMT@dprada_3.9/lib/python3.9/site-packages/pint_pandas/pint_array.py:648: UnitStrippedWarning: The unit of the quantity is stripped when downcasting to ndarray.\n",
      "  return np.array(qtys, dtype=\"object\", copy=copy)\n",
      "/home/diego/Myopt/miniconda3/envs/MolSysMT@dprada_3.9/lib/python3.9/site-packages/pint_pandas/pint_array.py:648: UnitStrippedWarning: The unit of the quantity is stripped when downcasting to ndarray.\n",
      "  return np.array(qtys, dtype=\"object\", copy=copy)\n",
      "/home/diego/Myopt/miniconda3/envs/MolSysMT@dprada_3.9/lib/python3.9/site-packages/pint_pandas/pint_array.py:648: UnitStrippedWarning: The unit of the quantity is stripped when downcasting to ndarray.\n",
      "  return np.array(qtys, dtype=\"object\", copy=copy)\n",
      "/home/diego/Myopt/miniconda3/envs/MolSysMT@dprada_3.9/lib/python3.9/site-packages/pint_pandas/pint_array.py:648: UnitStrippedWarning: The unit of the quantity is stripped when downcasting to ndarray.\n",
      "  return np.array(qtys, dtype=\"object\", copy=copy)\n",
      "/home/diego/Myopt/miniconda3/envs/MolSysMT@dprada_3.9/lib/python3.9/site-packages/pint_pandas/pint_array.py:648: UnitStrippedWarning: The unit of the quantity is stripped when downcasting to ndarray.\n",
      "  return np.array(qtys, dtype=\"object\", copy=copy)\n",
      "/home/diego/Myopt/miniconda3/envs/MolSysMT@dprada_3.9/lib/python3.9/site-packages/pint_pandas/pint_array.py:648: UnitStrippedWarning: The unit of the quantity is stripped when downcasting to ndarray.\n",
      "  return np.array(qtys, dtype=\"object\", copy=copy)\n",
      "/home/diego/Myopt/miniconda3/envs/MolSysMT@dprada_3.9/lib/python3.9/site-packages/pint_pandas/pint_array.py:648: UnitStrippedWarning: The unit of the quantity is stripped when downcasting to ndarray.\n",
      "  return np.array(qtys, dtype=\"object\", copy=copy)\n",
      "/home/diego/Myopt/miniconda3/envs/MolSysMT@dprada_3.9/lib/python3.9/site-packages/pint_pandas/pint_array.py:648: UnitStrippedWarning: The unit of the quantity is stripped when downcasting to ndarray.\n",
      "  return np.array(qtys, dtype=\"object\", copy=copy)\n",
      "/home/diego/Myopt/miniconda3/envs/MolSysMT@dprada_3.9/lib/python3.9/site-packages/pint_pandas/pint_array.py:648: UnitStrippedWarning: The unit of the quantity is stripped when downcasting to ndarray.\n",
      "  return np.array(qtys, dtype=\"object\", copy=copy)\n",
      "/home/diego/Myopt/miniconda3/envs/MolSysMT@dprada_3.9/lib/python3.9/site-packages/pint_pandas/pint_array.py:648: UnitStrippedWarning: The unit of the quantity is stripped when downcasting to ndarray.\n",
      "  return np.array(qtys, dtype=\"object\", copy=copy)\n",
      "/home/diego/Myopt/miniconda3/envs/MolSysMT@dprada_3.9/lib/python3.9/site-packages/pint_pandas/pint_array.py:648: UnitStrippedWarning: The unit of the quantity is stripped when downcasting to ndarray.\n",
      "  return np.array(qtys, dtype=\"object\", copy=copy)\n",
      "/home/diego/Myopt/miniconda3/envs/MolSysMT@dprada_3.9/lib/python3.9/site-packages/pint_pandas/pint_array.py:648: UnitStrippedWarning: The unit of the quantity is stripped when downcasting to ndarray.\n",
      "  return np.array(qtys, dtype=\"object\", copy=copy)\n",
      "/home/diego/Myopt/miniconda3/envs/MolSysMT@dprada_3.9/lib/python3.9/site-packages/pint_pandas/pint_array.py:648: UnitStrippedWarning: The unit of the quantity is stripped when downcasting to ndarray.\n",
      "  return np.array(qtys, dtype=\"object\", copy=copy)\n",
      "/home/diego/Myopt/miniconda3/envs/MolSysMT@dprada_3.9/lib/python3.9/site-packages/pint_pandas/pint_array.py:648: UnitStrippedWarning: The unit of the quantity is stripped when downcasting to ndarray.\n",
      "  return np.array(qtys, dtype=\"object\", copy=copy)\n",
      "/home/diego/Myopt/miniconda3/envs/MolSysMT@dprada_3.9/lib/python3.9/site-packages/pint_pandas/pint_array.py:648: UnitStrippedWarning: The unit of the quantity is stripped when downcasting to ndarray.\n",
      "  return np.array(qtys, dtype=\"object\", copy=copy)\n",
      "/home/diego/Myopt/miniconda3/envs/MolSysMT@dprada_3.9/lib/python3.9/site-packages/pint_pandas/pint_array.py:648: UnitStrippedWarning: The unit of the quantity is stripped when downcasting to ndarray.\n",
      "  return np.array(qtys, dtype=\"object\", copy=copy)\n",
      "/home/diego/Myopt/miniconda3/envs/MolSysMT@dprada_3.9/lib/python3.9/site-packages/pint_pandas/pint_array.py:648: UnitStrippedWarning: The unit of the quantity is stripped when downcasting to ndarray.\n",
      "  return np.array(qtys, dtype=\"object\", copy=copy)\n",
      "/home/diego/Myopt/miniconda3/envs/MolSysMT@dprada_3.9/lib/python3.9/site-packages/pint_pandas/pint_array.py:648: UnitStrippedWarning: The unit of the quantity is stripped when downcasting to ndarray.\n",
      "  return np.array(qtys, dtype=\"object\", copy=copy)\n",
      "/home/diego/Myopt/miniconda3/envs/MolSysMT@dprada_3.9/lib/python3.9/site-packages/pint_pandas/pint_array.py:648: UnitStrippedWarning: The unit of the quantity is stripped when downcasting to ndarray.\n",
      "  return np.array(qtys, dtype=\"object\", copy=copy)\n",
      "/home/diego/Myopt/miniconda3/envs/MolSysMT@dprada_3.9/lib/python3.9/site-packages/pint_pandas/pint_array.py:648: UnitStrippedWarning: The unit of the quantity is stripped when downcasting to ndarray.\n",
      "  return np.array(qtys, dtype=\"object\", copy=copy)\n",
      "/home/diego/Myopt/miniconda3/envs/MolSysMT@dprada_3.9/lib/python3.9/site-packages/pint_pandas/pint_array.py:648: UnitStrippedWarning: The unit of the quantity is stripped when downcasting to ndarray.\n",
      "  return np.array(qtys, dtype=\"object\", copy=copy)\n",
      "/home/diego/Myopt/miniconda3/envs/MolSysMT@dprada_3.9/lib/python3.9/site-packages/pint_pandas/pint_array.py:648: UnitStrippedWarning: The unit of the quantity is stripped when downcasting to ndarray.\n",
      "  return np.array(qtys, dtype=\"object\", copy=copy)\n",
      "/home/diego/Myopt/miniconda3/envs/MolSysMT@dprada_3.9/lib/python3.9/site-packages/pint_pandas/pint_array.py:648: UnitStrippedWarning: The unit of the quantity is stripped when downcasting to ndarray.\n",
      "  return np.array(qtys, dtype=\"object\", copy=copy)\n",
      "/home/diego/Myopt/miniconda3/envs/MolSysMT@dprada_3.9/lib/python3.9/site-packages/pint_pandas/pint_array.py:648: UnitStrippedWarning: The unit of the quantity is stripped when downcasting to ndarray.\n",
      "  return np.array(qtys, dtype=\"object\", copy=copy)\n",
      "/home/diego/Myopt/miniconda3/envs/MolSysMT@dprada_3.9/lib/python3.9/site-packages/pint_pandas/pint_array.py:648: UnitStrippedWarning: The unit of the quantity is stripped when downcasting to ndarray.\n",
      "  return np.array(qtys, dtype=\"object\", copy=copy)\n",
      "/home/diego/Myopt/miniconda3/envs/MolSysMT@dprada_3.9/lib/python3.9/site-packages/pint_pandas/pint_array.py:648: UnitStrippedWarning: The unit of the quantity is stripped when downcasting to ndarray.\n",
      "  return np.array(qtys, dtype=\"object\", copy=copy)\n",
      "/home/diego/Myopt/miniconda3/envs/MolSysMT@dprada_3.9/lib/python3.9/site-packages/pint_pandas/pint_array.py:648: UnitStrippedWarning: The unit of the quantity is stripped when downcasting to ndarray.\n",
      "  return np.array(qtys, dtype=\"object\", copy=copy)\n",
      "/home/diego/Myopt/miniconda3/envs/MolSysMT@dprada_3.9/lib/python3.9/site-packages/pint_pandas/pint_array.py:648: UnitStrippedWarning: The unit of the quantity is stripped when downcasting to ndarray.\n",
      "  return np.array(qtys, dtype=\"object\", copy=copy)\n",
      "/home/diego/Myopt/miniconda3/envs/MolSysMT@dprada_3.9/lib/python3.9/site-packages/pint_pandas/pint_array.py:648: UnitStrippedWarning: The unit of the quantity is stripped when downcasting to ndarray.\n",
      "  return np.array(qtys, dtype=\"object\", copy=copy)\n",
      "/home/diego/Myopt/miniconda3/envs/MolSysMT@dprada_3.9/lib/python3.9/site-packages/pint_pandas/pint_array.py:648: UnitStrippedWarning: The unit of the quantity is stripped when downcasting to ndarray.\n",
      "  return np.array(qtys, dtype=\"object\", copy=copy)\n",
      "/home/diego/Myopt/miniconda3/envs/MolSysMT@dprada_3.9/lib/python3.9/site-packages/pint_pandas/pint_array.py:648: UnitStrippedWarning: The unit of the quantity is stripped when downcasting to ndarray.\n",
      "  return np.array(qtys, dtype=\"object\", copy=copy)\n",
      "/home/diego/Myopt/miniconda3/envs/MolSysMT@dprada_3.9/lib/python3.9/site-packages/pint_pandas/pint_array.py:648: UnitStrippedWarning: The unit of the quantity is stripped when downcasting to ndarray.\n",
      "  return np.array(qtys, dtype=\"object\", copy=copy)\n",
      "/home/diego/Myopt/miniconda3/envs/MolSysMT@dprada_3.9/lib/python3.9/site-packages/pint_pandas/pint_array.py:648: UnitStrippedWarning: The unit of the quantity is stripped when downcasting to ndarray.\n",
      "  return np.array(qtys, dtype=\"object\", copy=copy)\n",
      "/home/diego/Myopt/miniconda3/envs/MolSysMT@dprada_3.9/lib/python3.9/site-packages/pint_pandas/pint_array.py:648: UnitStrippedWarning: The unit of the quantity is stripped when downcasting to ndarray.\n",
      "  return np.array(qtys, dtype=\"object\", copy=copy)\n",
      "/home/diego/Myopt/miniconda3/envs/MolSysMT@dprada_3.9/lib/python3.9/site-packages/pint_pandas/pint_array.py:648: UnitStrippedWarning: The unit of the quantity is stripped when downcasting to ndarray.\n",
      "  return np.array(qtys, dtype=\"object\", copy=copy)\n",
      "/home/diego/Myopt/miniconda3/envs/MolSysMT@dprada_3.9/lib/python3.9/site-packages/pint_pandas/pint_array.py:648: UnitStrippedWarning: The unit of the quantity is stripped when downcasting to ndarray.\n",
      "  return np.array(qtys, dtype=\"object\", copy=copy)\n",
      "/home/diego/Myopt/miniconda3/envs/MolSysMT@dprada_3.9/lib/python3.9/site-packages/pint_pandas/pint_array.py:648: UnitStrippedWarning: The unit of the quantity is stripped when downcasting to ndarray.\n",
      "  return np.array(qtys, dtype=\"object\", copy=copy)\n",
      "/home/diego/Myopt/miniconda3/envs/MolSysMT@dprada_3.9/lib/python3.9/site-packages/pint_pandas/pint_array.py:648: UnitStrippedWarning: The unit of the quantity is stripped when downcasting to ndarray.\n",
      "  return np.array(qtys, dtype=\"object\", copy=copy)\n",
      "/home/diego/Myopt/miniconda3/envs/MolSysMT@dprada_3.9/lib/python3.9/site-packages/pint_pandas/pint_array.py:648: UnitStrippedWarning: The unit of the quantity is stripped when downcasting to ndarray.\n",
      "  return np.array(qtys, dtype=\"object\", copy=copy)\n",
      "/home/diego/Myopt/miniconda3/envs/MolSysMT@dprada_3.9/lib/python3.9/site-packages/pint_pandas/pint_array.py:648: UnitStrippedWarning: The unit of the quantity is stripped when downcasting to ndarray.\n",
      "  return np.array(qtys, dtype=\"object\", copy=copy)\n",
      "/home/diego/Myopt/miniconda3/envs/MolSysMT@dprada_3.9/lib/python3.9/site-packages/pint_pandas/pint_array.py:648: UnitStrippedWarning: The unit of the quantity is stripped when downcasting to ndarray.\n",
      "  return np.array(qtys, dtype=\"object\", copy=copy)\n",
      "/home/diego/Myopt/miniconda3/envs/MolSysMT@dprada_3.9/lib/python3.9/site-packages/pint_pandas/pint_array.py:648: UnitStrippedWarning: The unit of the quantity is stripped when downcasting to ndarray.\n",
      "  return np.array(qtys, dtype=\"object\", copy=copy)\n",
      "/home/diego/Myopt/miniconda3/envs/MolSysMT@dprada_3.9/lib/python3.9/site-packages/pint_pandas/pint_array.py:648: UnitStrippedWarning: The unit of the quantity is stripped when downcasting to ndarray.\n",
      "  return np.array(qtys, dtype=\"object\", copy=copy)\n",
      "/home/diego/Myopt/miniconda3/envs/MolSysMT@dprada_3.9/lib/python3.9/site-packages/pint_pandas/pint_array.py:648: UnitStrippedWarning: The unit of the quantity is stripped when downcasting to ndarray.\n",
      "  return np.array(qtys, dtype=\"object\", copy=copy)\n",
      "/home/diego/Myopt/miniconda3/envs/MolSysMT@dprada_3.9/lib/python3.9/site-packages/pint_pandas/pint_array.py:648: UnitStrippedWarning: The unit of the quantity is stripped when downcasting to ndarray.\n",
      "  return np.array(qtys, dtype=\"object\", copy=copy)\n",
      "/home/diego/Myopt/miniconda3/envs/MolSysMT@dprada_3.9/lib/python3.9/site-packages/pint_pandas/pint_array.py:648: UnitStrippedWarning: The unit of the quantity is stripped when downcasting to ndarray.\n",
      "  return np.array(qtys, dtype=\"object\", copy=copy)\n",
      "/home/diego/Myopt/miniconda3/envs/MolSysMT@dprada_3.9/lib/python3.9/site-packages/pint_pandas/pint_array.py:648: UnitStrippedWarning: The unit of the quantity is stripped when downcasting to ndarray.\n",
      "  return np.array(qtys, dtype=\"object\", copy=copy)\n",
      "/home/diego/Myopt/miniconda3/envs/MolSysMT@dprada_3.9/lib/python3.9/site-packages/pint_pandas/pint_array.py:648: UnitStrippedWarning: The unit of the quantity is stripped when downcasting to ndarray.\n",
      "  return np.array(qtys, dtype=\"object\", copy=copy)\n",
      "/home/diego/Myopt/miniconda3/envs/MolSysMT@dprada_3.9/lib/python3.9/site-packages/pint_pandas/pint_array.py:648: UnitStrippedWarning: The unit of the quantity is stripped when downcasting to ndarray.\n",
      "  return np.array(qtys, dtype=\"object\", copy=copy)\n",
      "/home/diego/Myopt/miniconda3/envs/MolSysMT@dprada_3.9/lib/python3.9/site-packages/pint_pandas/pint_array.py:648: UnitStrippedWarning: The unit of the quantity is stripped when downcasting to ndarray.\n",
      "  return np.array(qtys, dtype=\"object\", copy=copy)\n",
      "/home/diego/Myopt/miniconda3/envs/MolSysMT@dprada_3.9/lib/python3.9/site-packages/pint_pandas/pint_array.py:648: UnitStrippedWarning: The unit of the quantity is stripped when downcasting to ndarray.\n",
      "  return np.array(qtys, dtype=\"object\", copy=copy)\n",
      "/home/diego/Myopt/miniconda3/envs/MolSysMT@dprada_3.9/lib/python3.9/site-packages/pint_pandas/pint_array.py:648: UnitStrippedWarning: The unit of the quantity is stripped when downcasting to ndarray.\n",
      "  return np.array(qtys, dtype=\"object\", copy=copy)\n",
      "/home/diego/Myopt/miniconda3/envs/MolSysMT@dprada_3.9/lib/python3.9/site-packages/pint_pandas/pint_array.py:648: UnitStrippedWarning: The unit of the quantity is stripped when downcasting to ndarray.\n",
      "  return np.array(qtys, dtype=\"object\", copy=copy)\n",
      "/home/diego/Myopt/miniconda3/envs/MolSysMT@dprada_3.9/lib/python3.9/site-packages/pint_pandas/pint_array.py:648: UnitStrippedWarning: The unit of the quantity is stripped when downcasting to ndarray.\n",
      "  return np.array(qtys, dtype=\"object\", copy=copy)\n",
      "/home/diego/Myopt/miniconda3/envs/MolSysMT@dprada_3.9/lib/python3.9/site-packages/pint_pandas/pint_array.py:648: UnitStrippedWarning: The unit of the quantity is stripped when downcasting to ndarray.\n",
      "  return np.array(qtys, dtype=\"object\", copy=copy)\n",
      "/home/diego/Myopt/miniconda3/envs/MolSysMT@dprada_3.9/lib/python3.9/site-packages/pint_pandas/pint_array.py:648: UnitStrippedWarning: The unit of the quantity is stripped when downcasting to ndarray.\n",
      "  return np.array(qtys, dtype=\"object\", copy=copy)\n",
      "/home/diego/Myopt/miniconda3/envs/MolSysMT@dprada_3.9/lib/python3.9/site-packages/pint_pandas/pint_array.py:648: UnitStrippedWarning: The unit of the quantity is stripped when downcasting to ndarray.\n",
      "  return np.array(qtys, dtype=\"object\", copy=copy)\n",
      "/home/diego/Myopt/miniconda3/envs/MolSysMT@dprada_3.9/lib/python3.9/site-packages/pint_pandas/pint_array.py:648: UnitStrippedWarning: The unit of the quantity is stripped when downcasting to ndarray.\n",
      "  return np.array(qtys, dtype=\"object\", copy=copy)\n",
      "/home/diego/Myopt/miniconda3/envs/MolSysMT@dprada_3.9/lib/python3.9/site-packages/pint_pandas/pint_array.py:648: UnitStrippedWarning: The unit of the quantity is stripped when downcasting to ndarray.\n",
      "  return np.array(qtys, dtype=\"object\", copy=copy)\n",
      "/home/diego/Myopt/miniconda3/envs/MolSysMT@dprada_3.9/lib/python3.9/site-packages/pint_pandas/pint_array.py:648: UnitStrippedWarning: The unit of the quantity is stripped when downcasting to ndarray.\n",
      "  return np.array(qtys, dtype=\"object\", copy=copy)\n",
      "/home/diego/Myopt/miniconda3/envs/MolSysMT@dprada_3.9/lib/python3.9/site-packages/pint_pandas/pint_array.py:648: UnitStrippedWarning: The unit of the quantity is stripped when downcasting to ndarray.\n",
      "  return np.array(qtys, dtype=\"object\", copy=copy)\n",
      "/home/diego/Myopt/miniconda3/envs/MolSysMT@dprada_3.9/lib/python3.9/site-packages/pint_pandas/pint_array.py:648: UnitStrippedWarning: The unit of the quantity is stripped when downcasting to ndarray.\n",
      "  return np.array(qtys, dtype=\"object\", copy=copy)\n",
      "/home/diego/Myopt/miniconda3/envs/MolSysMT@dprada_3.9/lib/python3.9/site-packages/pint_pandas/pint_array.py:648: UnitStrippedWarning: The unit of the quantity is stripped when downcasting to ndarray.\n",
      "  return np.array(qtys, dtype=\"object\", copy=copy)\n",
      "/home/diego/Myopt/miniconda3/envs/MolSysMT@dprada_3.9/lib/python3.9/site-packages/pint_pandas/pint_array.py:648: UnitStrippedWarning: The unit of the quantity is stripped when downcasting to ndarray.\n",
      "  return np.array(qtys, dtype=\"object\", copy=copy)\n",
      "/home/diego/Myopt/miniconda3/envs/MolSysMT@dprada_3.9/lib/python3.9/site-packages/pint_pandas/pint_array.py:648: UnitStrippedWarning: The unit of the quantity is stripped when downcasting to ndarray.\n",
      "  return np.array(qtys, dtype=\"object\", copy=copy)\n",
      "/home/diego/Myopt/miniconda3/envs/MolSysMT@dprada_3.9/lib/python3.9/site-packages/pint_pandas/pint_array.py:648: UnitStrippedWarning: The unit of the quantity is stripped when downcasting to ndarray.\n",
      "  return np.array(qtys, dtype=\"object\", copy=copy)\n",
      "/home/diego/Myopt/miniconda3/envs/MolSysMT@dprada_3.9/lib/python3.9/site-packages/pint_pandas/pint_array.py:648: UnitStrippedWarning: The unit of the quantity is stripped when downcasting to ndarray.\n",
      "  return np.array(qtys, dtype=\"object\", copy=copy)\n",
      "/home/diego/Myopt/miniconda3/envs/MolSysMT@dprada_3.9/lib/python3.9/site-packages/pint_pandas/pint_array.py:648: UnitStrippedWarning: The unit of the quantity is stripped when downcasting to ndarray.\n",
      "  return np.array(qtys, dtype=\"object\", copy=copy)\n",
      "/home/diego/Myopt/miniconda3/envs/MolSysMT@dprada_3.9/lib/python3.9/site-packages/pint_pandas/pint_array.py:648: UnitStrippedWarning: The unit of the quantity is stripped when downcasting to ndarray.\n",
      "  return np.array(qtys, dtype=\"object\", copy=copy)\n",
      "/home/diego/Myopt/miniconda3/envs/MolSysMT@dprada_3.9/lib/python3.9/site-packages/pint_pandas/pint_array.py:648: UnitStrippedWarning: The unit of the quantity is stripped when downcasting to ndarray.\n",
      "  return np.array(qtys, dtype=\"object\", copy=copy)\n",
      "/home/diego/Myopt/miniconda3/envs/MolSysMT@dprada_3.9/lib/python3.9/site-packages/pint_pandas/pint_array.py:648: UnitStrippedWarning: The unit of the quantity is stripped when downcasting to ndarray.\n",
      "  return np.array(qtys, dtype=\"object\", copy=copy)\n",
      "/home/diego/Myopt/miniconda3/envs/MolSysMT@dprada_3.9/lib/python3.9/site-packages/pint_pandas/pint_array.py:648: UnitStrippedWarning: The unit of the quantity is stripped when downcasting to ndarray.\n",
      "  return np.array(qtys, dtype=\"object\", copy=copy)\n",
      "/home/diego/Myopt/miniconda3/envs/MolSysMT@dprada_3.9/lib/python3.9/site-packages/pint_pandas/pint_array.py:648: UnitStrippedWarning: The unit of the quantity is stripped when downcasting to ndarray.\n",
      "  return np.array(qtys, dtype=\"object\", copy=copy)\n",
      "/home/diego/Myopt/miniconda3/envs/MolSysMT@dprada_3.9/lib/python3.9/site-packages/pint_pandas/pint_array.py:648: UnitStrippedWarning: The unit of the quantity is stripped when downcasting to ndarray.\n",
      "  return np.array(qtys, dtype=\"object\", copy=copy)\n",
      "/home/diego/Myopt/miniconda3/envs/MolSysMT@dprada_3.9/lib/python3.9/site-packages/pint_pandas/pint_array.py:648: UnitStrippedWarning: The unit of the quantity is stripped when downcasting to ndarray.\n",
      "  return np.array(qtys, dtype=\"object\", copy=copy)\n",
      "/home/diego/Myopt/miniconda3/envs/MolSysMT@dprada_3.9/lib/python3.9/site-packages/pint_pandas/pint_array.py:648: UnitStrippedWarning: The unit of the quantity is stripped when downcasting to ndarray.\n",
      "  return np.array(qtys, dtype=\"object\", copy=copy)\n",
      "/home/diego/Myopt/miniconda3/envs/MolSysMT@dprada_3.9/lib/python3.9/site-packages/pint_pandas/pint_array.py:648: UnitStrippedWarning: The unit of the quantity is stripped when downcasting to ndarray.\n",
      "  return np.array(qtys, dtype=\"object\", copy=copy)\n",
      "/home/diego/Myopt/miniconda3/envs/MolSysMT@dprada_3.9/lib/python3.9/site-packages/pint_pandas/pint_array.py:648: UnitStrippedWarning: The unit of the quantity is stripped when downcasting to ndarray.\n",
      "  return np.array(qtys, dtype=\"object\", copy=copy)\n",
      "/home/diego/Myopt/miniconda3/envs/MolSysMT@dprada_3.9/lib/python3.9/site-packages/pint_pandas/pint_array.py:648: UnitStrippedWarning: The unit of the quantity is stripped when downcasting to ndarray.\n",
      "  return np.array(qtys, dtype=\"object\", copy=copy)\n",
      "/home/diego/Myopt/miniconda3/envs/MolSysMT@dprada_3.9/lib/python3.9/site-packages/pint_pandas/pint_array.py:648: UnitStrippedWarning: The unit of the quantity is stripped when downcasting to ndarray.\n",
      "  return np.array(qtys, dtype=\"object\", copy=copy)\n",
      "/home/diego/Myopt/miniconda3/envs/MolSysMT@dprada_3.9/lib/python3.9/site-packages/pint_pandas/pint_array.py:648: UnitStrippedWarning: The unit of the quantity is stripped when downcasting to ndarray.\n",
      "  return np.array(qtys, dtype=\"object\", copy=copy)\n",
      "/home/diego/Myopt/miniconda3/envs/MolSysMT@dprada_3.9/lib/python3.9/site-packages/pint_pandas/pint_array.py:648: UnitStrippedWarning: The unit of the quantity is stripped when downcasting to ndarray.\n",
      "  return np.array(qtys, dtype=\"object\", copy=copy)\n",
      "/home/diego/Myopt/miniconda3/envs/MolSysMT@dprada_3.9/lib/python3.9/site-packages/pint_pandas/pint_array.py:648: UnitStrippedWarning: The unit of the quantity is stripped when downcasting to ndarray.\n",
      "  return np.array(qtys, dtype=\"object\", copy=copy)\n",
      "/home/diego/Myopt/miniconda3/envs/MolSysMT@dprada_3.9/lib/python3.9/site-packages/pint_pandas/pint_array.py:648: UnitStrippedWarning: The unit of the quantity is stripped when downcasting to ndarray.\n",
      "  return np.array(qtys, dtype=\"object\", copy=copy)\n",
      "/home/diego/Myopt/miniconda3/envs/MolSysMT@dprada_3.9/lib/python3.9/site-packages/pint_pandas/pint_array.py:648: UnitStrippedWarning: The unit of the quantity is stripped when downcasting to ndarray.\n",
      "  return np.array(qtys, dtype=\"object\", copy=copy)\n",
      "/home/diego/Myopt/miniconda3/envs/MolSysMT@dprada_3.9/lib/python3.9/site-packages/pint_pandas/pint_array.py:648: UnitStrippedWarning: The unit of the quantity is stripped when downcasting to ndarray.\n",
      "  return np.array(qtys, dtype=\"object\", copy=copy)\n",
      "/home/diego/Myopt/miniconda3/envs/MolSysMT@dprada_3.9/lib/python3.9/site-packages/pint_pandas/pint_array.py:648: UnitStrippedWarning: The unit of the quantity is stripped when downcasting to ndarray.\n",
      "  return np.array(qtys, dtype=\"object\", copy=copy)\n"
     ]
    }
   ],
   "source": [
    "alt = msm.build.get_atoms_with_alternate_locations(molsys)"
   ]
  },
  {
   "cell_type": "code",
   "execution_count": 11,
   "metadata": {},
   "outputs": [
    {
     "data": {
      "text/plain": [
       "[array(['A', 'B'], dtype=object), array([0.57, 0.43])]"
      ]
     },
     "execution_count": 11,
     "metadata": {},
     "output_type": "execute_result"
    }
   ],
   "source": [
    "msm.get(molsys, element='atom', selection=alt[0], alternate_location=True, occupancy=True)"
   ]
  },
  {
   "cell_type": "code",
   "execution_count": null,
   "metadata": {},
   "outputs": [],
   "source": [
    "alternate_location, occupancy = msm.get(molsys, element='atom', alternate_location=True, occupancy=True)"
   ]
  },
  {
   "cell_type": "code",
   "execution_count": null,
   "metadata": {},
   "outputs": [],
   "source": [
    "As = np.where(alternate_location=='A')"
   ]
  },
  {
   "cell_type": "code",
   "execution_count": null,
   "metadata": {},
   "outputs": [],
   "source": [
    "As"
   ]
  },
  {
   "cell_type": "code",
   "execution_count": null,
   "metadata": {},
   "outputs": [],
   "source": [
    "atom_name, group_id, chain_id = msm.get(molsys, element='atom', selection=As[0][0], atom_name=True, group_id=True, chain_id=True)"
   ]
  },
  {
   "cell_type": "code",
   "execution_count": null,
   "metadata": {},
   "outputs": [],
   "source": [
    "chain_id"
   ]
  },
  {
   "cell_type": "code",
   "execution_count": null,
   "metadata": {},
   "outputs": [],
   "source": [
    "msm.select(molsys, selection='atom_name==@atom_name and group_id==@group_id and chain_id==@chain_id')"
   ]
  },
  {
   "cell_type": "code",
   "execution_count": null,
   "metadata": {},
   "outputs": [],
   "source": [
    "As[0][0]"
   ]
  },
  {
   "cell_type": "code",
   "execution_count": null,
   "metadata": {},
   "outputs": [],
   "source": [
    "msm.info(molsys, element='atom', indices=As[0][0], output='short_string')"
   ]
  },
  {
   "cell_type": "code",
   "execution_count": null,
   "metadata": {},
   "outputs": [],
   "source": []
  }
 ],
 "metadata": {
  "kernelspec": {
   "display_name": "Python 3 (ipykernel)",
   "language": "python",
   "name": "python3"
  },
  "language_info": {
   "codemirror_mode": {
    "name": "ipython",
    "version": 3
   },
   "file_extension": ".py",
   "mimetype": "text/x-python",
   "name": "python",
   "nbconvert_exporter": "python",
   "pygments_lexer": "ipython3",
   "version": "3.9.13"
  }
 },
 "nbformat": 4,
 "nbformat_minor": 4
}
