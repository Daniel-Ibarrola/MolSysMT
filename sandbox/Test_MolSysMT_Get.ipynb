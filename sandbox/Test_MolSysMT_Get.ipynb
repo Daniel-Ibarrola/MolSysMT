{
 "cells": [
  {
   "cell_type": "markdown",
   "metadata": {},
   "source": [
    "### Elements selection"
   ]
  },
  {
   "cell_type": "code",
   "execution_count": 2,
   "metadata": {},
   "outputs": [],
   "source": [
    "import molsysmt as msm"
   ]
  },
  {
   "cell_type": "code",
   "execution_count": 3,
   "metadata": {},
   "outputs": [],
   "source": [
    "molecular_system = msm.convert('1tcd.mmtf', to_form='molsysmt.MolSys')"
   ]
  },
  {
   "cell_type": "code",
   "execution_count": 4,
   "metadata": {},
   "outputs": [
    {
     "name": "stdout",
     "output_type": "stream",
     "text": [
      "Atom names: ['N' 'CA' 'C']\n"
     ]
    }
   ],
   "source": [
    "# name of atoms with index 32, 33 or 34\n",
    "names = msm.get(molecular_system, indices=[32,33,34], name=True)\n",
    "print('Atom names:',names)"
   ]
  },
  {
   "cell_type": "code",
   "execution_count": 5,
   "metadata": {},
   "outputs": [
    {
     "name": "stdout",
     "output_type": "stream",
     "text": [
      "Atom names: ['N' 'CA' 'C']\n",
      "Group indices: [4 4 4]\n",
      "Group names: ['ILE' 'ILE' 'ILE']\n"
     ]
    }
   ],
   "source": [
    "# name, group index and group name of atoms with index 32, 33 or 34\n",
    "names, group_indices, group_names = msm.get(molecular_system, target='atom', indices=[32,33,34],\n",
    "                                            name=True, group_index=True, group_name=True)\n",
    "print('Atom names:', names)\n",
    "print('Group indices:', group_indices)\n",
    "print('Group names:', group_names)"
   ]
  },
  {
   "cell_type": "code",
   "execution_count": 6,
   "metadata": {},
   "outputs": [
    {
     "name": "stdout",
     "output_type": "stream",
     "text": [
      "Number of groups: 1\n"
     ]
    }
   ],
   "source": [
    "# number of groups in atoms with index 32, 33 or 34\n",
    "n_groups = msm.get(molecular_system, target='atom', indices=[32,33,34], n_groups=True)\n",
    "print('Number of groups:', n_groups)"
   ]
  },
  {
   "cell_type": "code",
   "execution_count": 7,
   "metadata": {},
   "outputs": [
    {
     "name": "stdout",
     "output_type": "stream",
     "text": [
      "Group names: ['LYS' 'CYS' 'ASN']\n",
      "Atom indices: [array([77, 78, 79, 80, 81, 82, 83, 84, 85])\n",
      " array([86, 87, 88, 89, 90, 91]) array([92, 93, 94, 95, 96, 97, 98, 99])]\n",
      "Atom names: [array(['N', 'CA', 'C', 'O', 'CB', 'CG', 'CD', 'CE', 'NZ'], dtype=object)\n",
      " array(['N', 'CA', 'C', 'O', 'CB', 'SG'], dtype=object)\n",
      " array(['N', 'CA', 'C', 'O', 'CB', 'CG', 'OD1', 'ND2'], dtype=object)]\n"
     ]
    }
   ],
   "source": [
    "# name, atom indices and atom names of groups with index 10, 11 or 12\n",
    "names, atom_indices, atom_names = msm.get(molecular_system, target='group', indices=[10,11,12],\n",
    "                                            name=True, atom_index=True, atom_name=True)\n",
    "print('Group names:', names)\n",
    "print('Atom indices:', atom_indices)\n",
    "print('Atom names:', atom_names)"
   ]
  },
  {
   "cell_type": "code",
   "execution_count": 8,
   "metadata": {},
   "outputs": [
    {
     "name": "stdout",
     "output_type": "stream",
     "text": [
      "Number of atoms: 23\n"
     ]
    }
   ],
   "source": [
    "# number of atoms in groups with index 10, 11 or 12\n",
    "n_atoms = msm.get(molecular_system, target='group', indices=[10,11,12], n_atoms=True)\n",
    "print('Number of atoms:', n_atoms)"
   ]
  },
  {
   "cell_type": "code",
   "execution_count": 9,
   "metadata": {},
   "outputs": [
    {
     "name": "stdout",
     "output_type": "stream",
     "text": [
      "Indices: [550 551 552]\n",
      "Component indices: [55 56 57]\n"
     ]
    }
   ],
   "source": [
    "# index and component index of groups with index 550, 551 or 552\n",
    "indices, component_indices = msm.get(molecular_system, target='group', indices=[550, 551, 552],\n",
    "                                    index=True, component_index=True)\n",
    "print('Indices:', indices)\n",
    "print('Component indices:', component_indices)"
   ]
  },
  {
   "cell_type": "code",
   "execution_count": 10,
   "metadata": {},
   "outputs": [
    {
     "name": "stdout",
     "output_type": "stream",
     "text": [
      "Number of components: 3\n"
     ]
    }
   ],
   "source": [
    "# number of components in groups with index 3900, 3901 or 3902\n",
    "n_components = msm.get(molecular_system, target='group', indices=[550, 551, 552], n_components=True)\n",
    "print('Number of components:', n_components)"
   ]
  },
  {
   "cell_type": "code",
   "execution_count": 11,
   "metadata": {},
   "outputs": [
    {
     "name": "stdout",
     "output_type": "stream",
     "text": [
      "Indices: [55 56 57]\n",
      "Component indices: [[550]\n",
      " [551]\n",
      " [552]]\n"
     ]
    }
   ],
   "source": [
    "# index and group index of components with index 55, 56 or 57\n",
    "indices, component_indices = msm.get(molecular_system, target='component', indices=[55, 56, 57],\n",
    "                                    index=True, group_index=True)\n",
    "print('Indices:', indices)\n",
    "print('Component indices:', component_indices)"
   ]
  },
  {
   "cell_type": "code",
   "execution_count": 12,
   "metadata": {},
   "outputs": [
    {
     "name": "stdout",
     "output_type": "stream",
     "text": [
      "Number of groups: 3\n"
     ]
    }
   ],
   "source": [
    "# number of groups in components with index 55, 56 or 57\n",
    "n_groups = msm.get(molecular_system, target='component', indices=[55, 56, 57], n_groups=True)\n",
    "print('Number of groups:', n_groups)"
   ]
  },
  {
   "cell_type": "code",
   "execution_count": 13,
   "metadata": {},
   "outputs": [
    {
     "name": "stdout",
     "output_type": "stream",
     "text": [
      "3983\n"
     ]
    }
   ],
   "source": [
    "# number of atoms in the molecular system\n",
    "n_atoms = msm.get(molecular_system, target='atom', n_atoms=True)\n",
    "print(n_atoms)"
   ]
  },
  {
   "cell_type": "code",
   "execution_count": 14,
   "metadata": {},
   "outputs": [
    {
     "name": "stdout",
     "output_type": "stream",
     "text": [
      "4\n"
     ]
    }
   ],
   "source": [
    "# number of chains in the molecular system\n",
    "n_chains = msm.get(molecular_system, target='atom', n_chains=True)\n",
    "print(n_chains)"
   ]
  },
  {
   "cell_type": "code",
   "execution_count": 15,
   "metadata": {},
   "outputs": [
    {
     "data": {
      "text/plain": [
       "array([148, 149, 150, 151, 152, 153, 154])"
      ]
     },
     "execution_count": 15,
     "metadata": {},
     "output_type": "execute_result"
    }
   ],
   "source": [
    "# Indices of atoms in group with index 20 (with molsysmt.select()!!!)\n",
    "msm.select(molecular_system, target='atom', selection='group.index==20')"
   ]
  },
  {
   "cell_type": "code",
   "execution_count": 16,
   "metadata": {},
   "outputs": [
    {
     "data": {
      "text/plain": [
       "[array(['N', 'CA', 'C', 'O', 'CB', 'CG', 'CD'], dtype=object),\n",
       " array([148, 149, 150, 151, 152, 153, 154])]"
      ]
     },
     "execution_count": 16,
     "metadata": {},
     "output_type": "execute_result"
    }
   ],
   "source": [
    "# Names and indices of atoms in group with index 20 (with molsysmt.get()!!!)\n",
    "msm.get(molecular_system, target='atom', selection='group.index==20', name=True, index=True)"
   ]
  },
  {
   "cell_type": "code",
   "execution_count": 17,
   "metadata": {},
   "outputs": [
    {
     "data": {
      "text/plain": [
       "3818"
      ]
     },
     "execution_count": 17,
     "metadata": {},
     "output_type": "execute_result"
    }
   ],
   "source": [
    "# number of atoms in molecules of type protein\n",
    "msm.get(molecular_system, target='atom', selection='molecule.type==\"protein\"', n_atoms=True)"
   ]
  },
  {
   "cell_type": "code",
   "execution_count": 18,
   "metadata": {},
   "outputs": [
    {
     "data": {
      "text/plain": [
       "165"
      ]
     },
     "execution_count": 18,
     "metadata": {},
     "output_type": "execute_result"
    }
   ],
   "source": [
    "# number of molecules of type water\n",
    "msm.get(molecular_system, target='atom', selection='molecule.type==\"water\"', n_molecules=True)"
   ]
  },
  {
   "cell_type": "markdown",
   "metadata": {},
   "source": [
    "_______________________________"
   ]
  },
  {
   "cell_type": "markdown",
   "metadata": {},
   "source": [
    "Ejemplos sobre átomos, grupos, componentes, cadenas, moléculas o entidades"
   ]
  },
  {
   "cell_type": "code",
   "execution_count": 19,
   "metadata": {},
   "outputs": [
    {
     "data": {
      "text/plain": [
       "array(['N', 'CA', 'C'], dtype=object)"
      ]
     },
     "execution_count": 19,
     "metadata": {},
     "output_type": "execute_result"
    }
   ],
   "source": [
    "# Name of atoms with index 0, 1 or 2\n",
    "msm.get(molecular_system, target='atom', indices=[0,1,2], name=True)"
   ]
  },
  {
   "cell_type": "code",
   "execution_count": 20,
   "metadata": {},
   "outputs": [
    {
     "data": {
      "text/plain": [
       "array(['N', 'CA', 'C'], dtype=object)"
      ]
     },
     "execution_count": 20,
     "metadata": {},
     "output_type": "execute_result"
    }
   ],
   "source": [
    "# Name of atoms with index 0, 1 or 2\n",
    "msm.get(molecular_system, target='atom', selection='atom.index in [0,1,2]', name=True)"
   ]
  },
  {
   "cell_type": "code",
   "execution_count": 21,
   "metadata": {},
   "outputs": [
    {
     "data": {
      "text/plain": [
       "array([4, 4, 4])"
      ]
     },
     "execution_count": 21,
     "metadata": {},
     "output_type": "execute_result"
    }
   ],
   "source": [
    "# Group id of atoms with index 0, 1 or 2\n",
    "msm.get(molecular_system, target='atom', selection='atom.index in [0,1,2]', group_id=True)"
   ]
  },
  {
   "cell_type": "code",
   "execution_count": 22,
   "metadata": {},
   "outputs": [
    {
     "data": {
      "text/plain": [
       "1"
      ]
     },
     "execution_count": 22,
     "metadata": {},
     "output_type": "execute_result"
    }
   ],
   "source": [
    "# Number of groups in atoms with index 0, 1 or 2\n",
    "msm.get(molecular_system, target='atom', selection='atom.index in [0,1,2]', n_groups=True)"
   ]
  },
  {
   "cell_type": "code",
   "execution_count": 23,
   "metadata": {},
   "outputs": [
    {
     "data": {
      "text/plain": [
       "array([4, 5, 6])"
      ]
     },
     "execution_count": 23,
     "metadata": {},
     "output_type": "execute_result"
    }
   ],
   "source": [
    "# Id of groups with index 0, 1 or 2\n",
    "msm.get(molecular_system, target='group', indices=[0,1,2], id=True)"
   ]
  },
  {
   "cell_type": "code",
   "execution_count": 24,
   "metadata": {},
   "outputs": [
    {
     "data": {
      "text/plain": [
       "array([4, 5, 6])"
      ]
     },
     "execution_count": 24,
     "metadata": {},
     "output_type": "execute_result"
    }
   ],
   "source": [
    "# Id of groups with index 0, 1 or 2\n",
    "msm.get(molecular_system, target='group', selection='group.index in [0,1,2]', id=True)"
   ]
  },
  {
   "cell_type": "code",
   "execution_count": null,
   "metadata": {},
   "outputs": [],
   "source": []
  },
  {
   "cell_type": "code",
   "execution_count": null,
   "metadata": {},
   "outputs": [],
   "source": []
  }
 ],
 "metadata": {
  "kernelspec": {
   "display_name": "Python 3",
   "language": "python",
   "name": "python3"
  },
  "language_info": {
   "codemirror_mode": {
    "name": "ipython",
    "version": 3
   },
   "file_extension": ".py",
   "mimetype": "text/x-python",
   "name": "python",
   "nbconvert_exporter": "python",
   "pygments_lexer": "ipython3",
   "version": "3.7.6"
  }
 },
 "nbformat": 4,
 "nbformat_minor": 4
}
