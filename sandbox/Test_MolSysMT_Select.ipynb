{
 "cells": [
  {
   "cell_type": "markdown",
   "metadata": {},
   "source": [
    "### Elements selection"
   ]
  },
  {
   "cell_type": "code",
   "execution_count": 1,
   "metadata": {},
   "outputs": [
    {
     "data": {
      "application/vnd.jupyter.widget-view+json": {
       "model_id": "ec2cc1eb6e4443bfbb5c35cb8ac5cc82",
       "version_major": 2,
       "version_minor": 0
      },
      "text/plain": [
       "_ColormakerRegistry()"
      ]
     },
     "metadata": {},
     "output_type": "display_data"
    }
   ],
   "source": [
    "import molsysmt as msm"
   ]
  },
  {
   "cell_type": "code",
   "execution_count": 2,
   "metadata": {},
   "outputs": [],
   "source": [
    "molecular_system = msm.convert('1tcd.mmtf', to_form='molsysmt.MolSys')"
   ]
  },
  {
   "cell_type": "code",
   "execution_count": 3,
   "metadata": {},
   "outputs": [
    {
     "data": {
      "text/html": [
       "<div>\n",
       "<style scoped>\n",
       "    .dataframe tbody tr th:only-of-type {\n",
       "        vertical-align: middle;\n",
       "    }\n",
       "\n",
       "    .dataframe tbody tr th {\n",
       "        vertical-align: top;\n",
       "    }\n",
       "\n",
       "    .dataframe thead th {\n",
       "        text-align: right;\n",
       "    }\n",
       "</style>\n",
       "<table border=\"1\" class=\"dataframe\">\n",
       "  <thead>\n",
       "    <tr style=\"text-align: right;\">\n",
       "      <th></th>\n",
       "      <th>atom.index</th>\n",
       "      <th>atom.name</th>\n",
       "      <th>atom.id</th>\n",
       "      <th>atom.type</th>\n",
       "      <th>atom.formal_charge</th>\n",
       "      <th>atom.bonded_atom_indices</th>\n",
       "      <th>group.index</th>\n",
       "      <th>group.name</th>\n",
       "      <th>group.id</th>\n",
       "      <th>group.type</th>\n",
       "      <th>...</th>\n",
       "      <th>chain.id</th>\n",
       "      <th>chain.type</th>\n",
       "      <th>molecule.index</th>\n",
       "      <th>molecule.name</th>\n",
       "      <th>molecule.id</th>\n",
       "      <th>molecule.type</th>\n",
       "      <th>entity.index</th>\n",
       "      <th>entity.name</th>\n",
       "      <th>entity.id</th>\n",
       "      <th>entity.type</th>\n",
       "    </tr>\n",
       "  </thead>\n",
       "  <tbody>\n",
       "    <tr>\n",
       "      <th>0</th>\n",
       "      <td>0</td>\n",
       "      <td>N</td>\n",
       "      <td>1</td>\n",
       "      <td>N</td>\n",
       "      <td>0.0</td>\n",
       "      <td>[1]</td>\n",
       "      <td>0</td>\n",
       "      <td>LYS</td>\n",
       "      <td>4</td>\n",
       "      <td>aminoacid</td>\n",
       "      <td>...</td>\n",
       "      <td>A</td>\n",
       "      <td>NaN</td>\n",
       "      <td>0</td>\n",
       "      <td>TRIOSEPHOSPHATE ISOMERASE</td>\n",
       "      <td>0</td>\n",
       "      <td>protein</td>\n",
       "      <td>0</td>\n",
       "      <td>TRIOSEPHOSPHATE ISOMERASE</td>\n",
       "      <td>0</td>\n",
       "      <td>protein</td>\n",
       "    </tr>\n",
       "    <tr>\n",
       "      <th>1</th>\n",
       "      <td>1</td>\n",
       "      <td>CA</td>\n",
       "      <td>2</td>\n",
       "      <td>C</td>\n",
       "      <td>0.0</td>\n",
       "      <td>[0, 2, 4]</td>\n",
       "      <td>0</td>\n",
       "      <td>LYS</td>\n",
       "      <td>4</td>\n",
       "      <td>aminoacid</td>\n",
       "      <td>...</td>\n",
       "      <td>A</td>\n",
       "      <td>NaN</td>\n",
       "      <td>0</td>\n",
       "      <td>TRIOSEPHOSPHATE ISOMERASE</td>\n",
       "      <td>0</td>\n",
       "      <td>protein</td>\n",
       "      <td>0</td>\n",
       "      <td>TRIOSEPHOSPHATE ISOMERASE</td>\n",
       "      <td>0</td>\n",
       "      <td>protein</td>\n",
       "    </tr>\n",
       "    <tr>\n",
       "      <th>2</th>\n",
       "      <td>2</td>\n",
       "      <td>C</td>\n",
       "      <td>3</td>\n",
       "      <td>C</td>\n",
       "      <td>0.0</td>\n",
       "      <td>[1, 3, 9]</td>\n",
       "      <td>0</td>\n",
       "      <td>LYS</td>\n",
       "      <td>4</td>\n",
       "      <td>aminoacid</td>\n",
       "      <td>...</td>\n",
       "      <td>A</td>\n",
       "      <td>NaN</td>\n",
       "      <td>0</td>\n",
       "      <td>TRIOSEPHOSPHATE ISOMERASE</td>\n",
       "      <td>0</td>\n",
       "      <td>protein</td>\n",
       "      <td>0</td>\n",
       "      <td>TRIOSEPHOSPHATE ISOMERASE</td>\n",
       "      <td>0</td>\n",
       "      <td>protein</td>\n",
       "    </tr>\n",
       "    <tr>\n",
       "      <th>3</th>\n",
       "      <td>3</td>\n",
       "      <td>O</td>\n",
       "      <td>4</td>\n",
       "      <td>O</td>\n",
       "      <td>0.0</td>\n",
       "      <td>[2]</td>\n",
       "      <td>0</td>\n",
       "      <td>LYS</td>\n",
       "      <td>4</td>\n",
       "      <td>aminoacid</td>\n",
       "      <td>...</td>\n",
       "      <td>A</td>\n",
       "      <td>NaN</td>\n",
       "      <td>0</td>\n",
       "      <td>TRIOSEPHOSPHATE ISOMERASE</td>\n",
       "      <td>0</td>\n",
       "      <td>protein</td>\n",
       "      <td>0</td>\n",
       "      <td>TRIOSEPHOSPHATE ISOMERASE</td>\n",
       "      <td>0</td>\n",
       "      <td>protein</td>\n",
       "    </tr>\n",
       "    <tr>\n",
       "      <th>4</th>\n",
       "      <td>4</td>\n",
       "      <td>CB</td>\n",
       "      <td>5</td>\n",
       "      <td>C</td>\n",
       "      <td>0.0</td>\n",
       "      <td>[1, 5]</td>\n",
       "      <td>0</td>\n",
       "      <td>LYS</td>\n",
       "      <td>4</td>\n",
       "      <td>aminoacid</td>\n",
       "      <td>...</td>\n",
       "      <td>A</td>\n",
       "      <td>NaN</td>\n",
       "      <td>0</td>\n",
       "      <td>TRIOSEPHOSPHATE ISOMERASE</td>\n",
       "      <td>0</td>\n",
       "      <td>protein</td>\n",
       "      <td>0</td>\n",
       "      <td>TRIOSEPHOSPHATE ISOMERASE</td>\n",
       "      <td>0</td>\n",
       "      <td>protein</td>\n",
       "    </tr>\n",
       "    <tr>\n",
       "      <th>...</th>\n",
       "      <td>...</td>\n",
       "      <td>...</td>\n",
       "      <td>...</td>\n",
       "      <td>...</td>\n",
       "      <td>...</td>\n",
       "      <td>...</td>\n",
       "      <td>...</td>\n",
       "      <td>...</td>\n",
       "      <td>...</td>\n",
       "      <td>...</td>\n",
       "      <td>...</td>\n",
       "      <td>...</td>\n",
       "      <td>...</td>\n",
       "      <td>...</td>\n",
       "      <td>...</td>\n",
       "      <td>...</td>\n",
       "      <td>...</td>\n",
       "      <td>...</td>\n",
       "      <td>...</td>\n",
       "      <td>...</td>\n",
       "      <td>...</td>\n",
       "    </tr>\n",
       "    <tr>\n",
       "      <th>3978</th>\n",
       "      <td>3978</td>\n",
       "      <td>O</td>\n",
       "      <td>3979</td>\n",
       "      <td>O</td>\n",
       "      <td>0.0</td>\n",
       "      <td>[]</td>\n",
       "      <td>657</td>\n",
       "      <td>HOH</td>\n",
       "      <td>339</td>\n",
       "      <td>water</td>\n",
       "      <td>...</td>\n",
       "      <td>D</td>\n",
       "      <td>NaN</td>\n",
       "      <td>161</td>\n",
       "      <td>water</td>\n",
       "      <td>161</td>\n",
       "      <td>water</td>\n",
       "      <td>1</td>\n",
       "      <td>water</td>\n",
       "      <td>1</td>\n",
       "      <td>water</td>\n",
       "    </tr>\n",
       "    <tr>\n",
       "      <th>3979</th>\n",
       "      <td>3979</td>\n",
       "      <td>O</td>\n",
       "      <td>3980</td>\n",
       "      <td>O</td>\n",
       "      <td>0.0</td>\n",
       "      <td>[]</td>\n",
       "      <td>658</td>\n",
       "      <td>HOH</td>\n",
       "      <td>340</td>\n",
       "      <td>water</td>\n",
       "      <td>...</td>\n",
       "      <td>D</td>\n",
       "      <td>NaN</td>\n",
       "      <td>162</td>\n",
       "      <td>water</td>\n",
       "      <td>162</td>\n",
       "      <td>water</td>\n",
       "      <td>1</td>\n",
       "      <td>water</td>\n",
       "      <td>1</td>\n",
       "      <td>water</td>\n",
       "    </tr>\n",
       "    <tr>\n",
       "      <th>3980</th>\n",
       "      <td>3980</td>\n",
       "      <td>O</td>\n",
       "      <td>3981</td>\n",
       "      <td>O</td>\n",
       "      <td>0.0</td>\n",
       "      <td>[]</td>\n",
       "      <td>659</td>\n",
       "      <td>HOH</td>\n",
       "      <td>341</td>\n",
       "      <td>water</td>\n",
       "      <td>...</td>\n",
       "      <td>D</td>\n",
       "      <td>NaN</td>\n",
       "      <td>163</td>\n",
       "      <td>water</td>\n",
       "      <td>163</td>\n",
       "      <td>water</td>\n",
       "      <td>1</td>\n",
       "      <td>water</td>\n",
       "      <td>1</td>\n",
       "      <td>water</td>\n",
       "    </tr>\n",
       "    <tr>\n",
       "      <th>3981</th>\n",
       "      <td>3981</td>\n",
       "      <td>O</td>\n",
       "      <td>3982</td>\n",
       "      <td>O</td>\n",
       "      <td>0.0</td>\n",
       "      <td>[]</td>\n",
       "      <td>660</td>\n",
       "      <td>HOH</td>\n",
       "      <td>342</td>\n",
       "      <td>water</td>\n",
       "      <td>...</td>\n",
       "      <td>D</td>\n",
       "      <td>NaN</td>\n",
       "      <td>164</td>\n",
       "      <td>water</td>\n",
       "      <td>164</td>\n",
       "      <td>water</td>\n",
       "      <td>1</td>\n",
       "      <td>water</td>\n",
       "      <td>1</td>\n",
       "      <td>water</td>\n",
       "    </tr>\n",
       "    <tr>\n",
       "      <th>3982</th>\n",
       "      <td>3982</td>\n",
       "      <td>O</td>\n",
       "      <td>3983</td>\n",
       "      <td>O</td>\n",
       "      <td>0.0</td>\n",
       "      <td>[]</td>\n",
       "      <td>661</td>\n",
       "      <td>HOH</td>\n",
       "      <td>343</td>\n",
       "      <td>water</td>\n",
       "      <td>...</td>\n",
       "      <td>D</td>\n",
       "      <td>NaN</td>\n",
       "      <td>165</td>\n",
       "      <td>water</td>\n",
       "      <td>165</td>\n",
       "      <td>water</td>\n",
       "      <td>1</td>\n",
       "      <td>water</td>\n",
       "      <td>1</td>\n",
       "      <td>water</td>\n",
       "    </tr>\n",
       "  </tbody>\n",
       "</table>\n",
       "<p>3983 rows × 26 columns</p>\n",
       "</div>"
      ],
      "text/plain": [
       "      atom.index atom.name  atom.id atom.type  atom.formal_charge  \\\n",
       "0              0         N        1         N                 0.0   \n",
       "1              1        CA        2         C                 0.0   \n",
       "2              2         C        3         C                 0.0   \n",
       "3              3         O        4         O                 0.0   \n",
       "4              4        CB        5         C                 0.0   \n",
       "...          ...       ...      ...       ...                 ...   \n",
       "3978        3978         O     3979         O                 0.0   \n",
       "3979        3979         O     3980         O                 0.0   \n",
       "3980        3980         O     3981         O                 0.0   \n",
       "3981        3981         O     3982         O                 0.0   \n",
       "3982        3982         O     3983         O                 0.0   \n",
       "\n",
       "     atom.bonded_atom_indices  group.index group.name  group.id group.type  \\\n",
       "0                         [1]            0        LYS         4  aminoacid   \n",
       "1                   [0, 2, 4]            0        LYS         4  aminoacid   \n",
       "2                   [1, 3, 9]            0        LYS         4  aminoacid   \n",
       "3                         [2]            0        LYS         4  aminoacid   \n",
       "4                      [1, 5]            0        LYS         4  aminoacid   \n",
       "...                       ...          ...        ...       ...        ...   \n",
       "3978                       []          657        HOH       339      water   \n",
       "3979                       []          658        HOH       340      water   \n",
       "3980                       []          659        HOH       341      water   \n",
       "3981                       []          660        HOH       342      water   \n",
       "3982                       []          661        HOH       343      water   \n",
       "\n",
       "      ...  chain.id chain.type molecule.index              molecule.name  \\\n",
       "0     ...         A        NaN              0  TRIOSEPHOSPHATE ISOMERASE   \n",
       "1     ...         A        NaN              0  TRIOSEPHOSPHATE ISOMERASE   \n",
       "2     ...         A        NaN              0  TRIOSEPHOSPHATE ISOMERASE   \n",
       "3     ...         A        NaN              0  TRIOSEPHOSPHATE ISOMERASE   \n",
       "4     ...         A        NaN              0  TRIOSEPHOSPHATE ISOMERASE   \n",
       "...   ...       ...        ...            ...                        ...   \n",
       "3978  ...         D        NaN            161                      water   \n",
       "3979  ...         D        NaN            162                      water   \n",
       "3980  ...         D        NaN            163                      water   \n",
       "3981  ...         D        NaN            164                      water   \n",
       "3982  ...         D        NaN            165                      water   \n",
       "\n",
       "      molecule.id molecule.type entity.index                entity.name  \\\n",
       "0               0       protein            0  TRIOSEPHOSPHATE ISOMERASE   \n",
       "1               0       protein            0  TRIOSEPHOSPHATE ISOMERASE   \n",
       "2               0       protein            0  TRIOSEPHOSPHATE ISOMERASE   \n",
       "3               0       protein            0  TRIOSEPHOSPHATE ISOMERASE   \n",
       "4               0       protein            0  TRIOSEPHOSPHATE ISOMERASE   \n",
       "...           ...           ...          ...                        ...   \n",
       "3978          161         water            1                      water   \n",
       "3979          162         water            1                      water   \n",
       "3980          163         water            1                      water   \n",
       "3981          164         water            1                      water   \n",
       "3982          165         water            1                      water   \n",
       "\n",
       "      entity.id entity.type  \n",
       "0             0     protein  \n",
       "1             0     protein  \n",
       "2             0     protein  \n",
       "3             0     protein  \n",
       "4             0     protein  \n",
       "...         ...         ...  \n",
       "3978          1       water  \n",
       "3979          1       water  \n",
       "3980          1       water  \n",
       "3981          1       water  \n",
       "3982          1       water  \n",
       "\n",
       "[3983 rows x 26 columns]"
      ]
     },
     "execution_count": 3,
     "metadata": {},
     "output_type": "execute_result"
    }
   ],
   "source": [
    "molecular_system.composition.dataframe"
   ]
  },
  {
   "cell_type": "code",
   "execution_count": 4,
   "metadata": {},
   "outputs": [
    {
     "name": "stdout",
     "output_type": "stream",
     "text": [
      "Index(['atom.index', 'atom.name', 'atom.id', 'atom.type', 'atom.formal_charge',\n",
      "       'atom.bonded_atom_indices', 'group.index', 'group.name', 'group.id',\n",
      "       'group.type', 'component.index', 'component.name', 'component.id',\n",
      "       'component.type', 'chain.index', 'chain.name', 'chain.id', 'chain.type',\n",
      "       'molecule.index', 'molecule.name', 'molecule.id', 'molecule.type',\n",
      "       'entity.index', 'entity.name', 'entity.id', 'entity.type'],\n",
      "      dtype='object')\n"
     ]
    }
   ],
   "source": [
    "print(molecular_system.composition.dataframe.columns)"
   ]
  },
  {
   "cell_type": "code",
   "execution_count": 5,
   "metadata": {},
   "outputs": [
    {
     "data": {
      "text/plain": [
       "array([   2,   11,   18, ..., 3798, 3803, 3810])"
      ]
     },
     "execution_count": 5,
     "metadata": {},
     "output_type": "execute_result"
    }
   ],
   "source": [
    "# Atoms with name C\n",
    "msm.select(molecular_system, 'atom.name == \"C\"')"
   ]
  },
  {
   "cell_type": "code",
   "execution_count": 6,
   "metadata": {},
   "outputs": [
    {
     "data": {
      "text/plain": [
       "array([   1,    4,   10, ..., 3805, 3809, 3812])"
      ]
     },
     "execution_count": 6,
     "metadata": {},
     "output_type": "execute_result"
    }
   ],
   "source": [
    "# Atoms with name CA or CB\n",
    "msm.select(molecular_system, 'atom.name in [\"CA\",\"CB\"]')"
   ]
  },
  {
   "cell_type": "code",
   "execution_count": 7,
   "metadata": {},
   "outputs": [
    {
     "data": {
      "text/plain": [
       "array([   0,    1,    2, ..., 3814, 3815, 3816])"
      ]
     },
     "execution_count": 7,
     "metadata": {},
     "output_type": "execute_result"
    }
   ],
   "source": [
    "# Atoms of type C or N\n",
    "msm.select(molecular_system, 'atom.type==[\"C\",\"N\"]')"
   ]
  },
  {
   "cell_type": "code",
   "execution_count": 8,
   "metadata": {},
   "outputs": [
    {
     "data": {
      "text/plain": [
       "array([   0,    1,    2, ..., 3814, 3815, 3816])"
      ]
     },
     "execution_count": 8,
     "metadata": {},
     "output_type": "execute_result"
    }
   ],
   "source": [
    "msm.select(molecular_system, 'atom.type == \"C\" | atom.type == \"N\"')"
   ]
  },
  {
   "cell_type": "code",
   "execution_count": 9,
   "metadata": {},
   "outputs": [
    {
     "data": {
      "text/plain": [
       "array([   0,    1,    2, ..., 3980, 3981, 3982])"
      ]
     },
     "execution_count": 9,
     "metadata": {},
     "output_type": "execute_result"
    }
   ],
   "source": [
    "# Heavy atoms\n",
    "msm.select(molecular_system, 'not atom.type==\"H\"')"
   ]
  },
  {
   "cell_type": "code",
   "execution_count": 10,
   "metadata": {},
   "outputs": [
    {
     "data": {
      "text/plain": [
       "array([   2,    4,    5, ..., 3813, 3814, 3815])"
      ]
     },
     "execution_count": 10,
     "metadata": {},
     "output_type": "execute_result"
    }
   ],
   "source": [
    "# Atoms of type C not named CA\n",
    "msm.select(molecular_system, 'atom.type==\"C\" and not atom.name==\"CA\"')"
   ]
  },
  {
   "cell_type": "code",
   "execution_count": 11,
   "metadata": {},
   "outputs": [
    {
     "data": {
      "text/plain": [
       "array([   0,    3,    5, ..., 3980, 3981, 3982])"
      ]
     },
     "execution_count": 11,
     "metadata": {},
     "output_type": "execute_result"
    }
   ],
   "source": [
    "# Atoms not named CA, CB or C\n",
    "msm.select(molecular_system, 'atom.name!=[\"CA\",\"CB\",\"C\"]')"
   ]
  },
  {
   "cell_type": "code",
   "execution_count": 12,
   "metadata": {},
   "outputs": [
    {
     "data": {
      "text/plain": [
       "array([0, 1, 2, 3, 4, 5, 6, 7, 8])"
      ]
     },
     "execution_count": 12,
     "metadata": {},
     "output_type": "execute_result"
    }
   ],
   "source": [
    "# Atoms with id number lower than 10\n",
    "msm.select(molecular_system, 'atom.id<10')"
   ]
  },
  {
   "cell_type": "code",
   "execution_count": 13,
   "metadata": {},
   "outputs": [
    {
     "data": {
      "text/plain": [
       "array([2, 3, 4, 5, 6, 7, 8])"
      ]
     },
     "execution_count": 13,
     "metadata": {},
     "output_type": "execute_result"
    }
   ],
   "source": [
    "# Atoms with id number lower than 10 and higher or equal than 3\n",
    "msm.select(molecular_system, 'atom.id<10 and atom.id>=3')"
   ]
  },
  {
   "cell_type": "markdown",
   "metadata": {},
   "source": [
    "_________________________"
   ]
  },
  {
   "cell_type": "code",
   "execution_count": null,
   "metadata": {},
   "outputs": [],
   "source": [
    "# Atoms belonging to molecules of type water.\n",
    "msm.select(molecular_system, 'molecule.type==\"water\"')"
   ]
  },
  {
   "cell_type": "code",
   "execution_count": null,
   "metadata": {},
   "outputs": [],
   "source": [
    "# Heavy atoms belonging to molecules of type protein.\n",
    "msm.select(molecular_system, 'molecule.type==\"protein\" and atom.type!=\"H\"')"
   ]
  },
  {
   "cell_type": "code",
   "execution_count": null,
   "metadata": {},
   "outputs": [],
   "source": [
    "# Atoms belonging to residues named GLY, ALA or VAL in chain named A.\n",
    "msm.select(molecular_system, 'group.name==[\"GLY\",\"ALA\",\"VAL\"] and chain.name==\"A\"')"
   ]
  },
  {
   "cell_type": "code",
   "execution_count": null,
   "metadata": {},
   "outputs": [],
   "source": [
    "# Atoms in groups with indices 10, 11 or 12.\n",
    "indices=[10,11,12]\n",
    "msm.select(molecular_system, 'group.index==@indices')"
   ]
  },
  {
   "cell_type": "code",
   "execution_count": null,
   "metadata": {},
   "outputs": [],
   "source": [
    "# Atoms named CA, C, O or N in groups with indices 10 to 29.\n",
    "indices=list(range(10,30))\n",
    "atoms=[\"CA\", \"C\", \"O\", \"N\"]\n",
    "msm.select(molecular_system, 'atom.name==@atoms & atom.index==@indices')"
   ]
  },
  {
   "cell_type": "markdown",
   "metadata": {},
   "source": [
    "_________________________"
   ]
  },
  {
   "cell_type": "code",
   "execution_count": null,
   "metadata": {},
   "outputs": [],
   "source": [
    "# Atoms named C with atom index in range 10 to 29\n",
    "indices=list(range(10,30))\n",
    "msm.select(molecular_system, 'atom.name==\"C\"', mask=indices)"
   ]
  },
  {
   "cell_type": "code",
   "execution_count": null,
   "metadata": {},
   "outputs": [],
   "source": [
    "# Atoms named C with atom index in range 10 to 29\n",
    "indices=list(range(10,30))\n",
    "msm.select(molecular_system, 'atom.name==\"C\" and atom.index in @indices')"
   ]
  },
  {
   "cell_type": "markdown",
   "metadata": {},
   "source": [
    "__________________"
   ]
  },
  {
   "cell_type": "code",
   "execution_count": null,
   "metadata": {},
   "outputs": [],
   "source": [
    "# Groups with indices equal to 0, 100 or 200\n",
    "indices=[0,100,200]\n",
    "msm.select(molecular_system, 'group.index==@indices', target='group')"
   ]
  },
  {
   "cell_type": "code",
   "execution_count": null,
   "metadata": {},
   "outputs": [],
   "source": [
    "# Groups with name \"ALA\"\n",
    "msm.select(molecular_system, 'group.name==\"ALA\"', target='group')"
   ]
  },
  {
   "cell_type": "code",
   "execution_count": null,
   "metadata": {},
   "outputs": [],
   "source": [
    "# Groups of atoms index 34, 44 or 64\n",
    "msm.select(molecular_system, 'atom.index==[34,44,64]', target='group')"
   ]
  },
  {
   "cell_type": "code",
   "execution_count": null,
   "metadata": {},
   "outputs": [],
   "source": [
    "# Groups belonging to chain named A and molecule of type anything but water\n",
    "msm.select(molecular_system, 'chain.name==\"A\" and molecule.type!=\"water\"', target='group')"
   ]
  },
  {
   "cell_type": "code",
   "execution_count": null,
   "metadata": {},
   "outputs": [],
   "source": [
    "# Groups of molecules of type water\n",
    "msm.select(molecular_system, 'molecule.type==\"water\"', target='group')"
   ]
  },
  {
   "cell_type": "code",
   "execution_count": null,
   "metadata": {},
   "outputs": [],
   "source": [
    "# Molecules of type water\n",
    "msm.select(molecular_system, 'molecule.type==\"water\"', target='molecule')"
   ]
  },
  {
   "cell_type": "code",
   "execution_count": null,
   "metadata": {},
   "outputs": [],
   "source": [
    "# Chains with molecules of type water\n",
    "msm.select(molecular_system, 'molecule.type==\"water\"', target='chain')"
   ]
  },
  {
   "cell_type": "markdown",
   "metadata": {},
   "source": [
    "___________________"
   ]
  },
  {
   "cell_type": "code",
   "execution_count": null,
   "metadata": {},
   "outputs": [],
   "source": [
    "# Atoms with index from 0 to 4 and from 0 to 2\n",
    "msm.select(molecular_system, 'atom.index in [0,1,2,3,4]', mask=[0,1,2], target='atom')"
   ]
  },
  {
   "cell_type": "code",
   "execution_count": null,
   "metadata": {},
   "outputs": [],
   "source": [
    "# Groups with index from 0 to 4 and from 0 to 2\n",
    "msm.select(molecular_system, 'group.index in [0,1,2,3,4]', mask=[0,1,2], target='group')"
   ]
  },
  {
   "cell_type": "code",
   "execution_count": null,
   "metadata": {},
   "outputs": [],
   "source": [
    "# Molecules with index from 0 to 4 and from 0 to 2\n",
    "msm.select(molecular_system, 'molecule.index in [0,1,2,3,4]', mask=[0,1,2], target='molecule')"
   ]
  },
  {
   "cell_type": "markdown",
   "metadata": {},
   "source": [
    "____________________"
   ]
  },
  {
   "cell_type": "code",
   "execution_count": null,
   "metadata": {},
   "outputs": [],
   "source": []
  },
  {
   "cell_type": "code",
   "execution_count": null,
   "metadata": {},
   "outputs": [],
   "source": []
  },
  {
   "cell_type": "code",
   "execution_count": null,
   "metadata": {},
   "outputs": [],
   "source": []
  },
  {
   "cell_type": "code",
   "execution_count": null,
   "metadata": {},
   "outputs": [],
   "source": []
  }
 ],
 "metadata": {
  "kernelspec": {
   "display_name": "Python 3",
   "language": "python",
   "name": "python3"
  },
  "language_info": {
   "codemirror_mode": {
    "name": "ipython",
    "version": 3
   },
   "file_extension": ".py",
   "mimetype": "text/x-python",
   "name": "python",
   "nbconvert_exporter": "python",
   "pygments_lexer": "ipython3",
   "version": "3.7.6"
  }
 },
 "nbformat": 4,
 "nbformat_minor": 4
}
