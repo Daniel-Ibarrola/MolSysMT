{
 "cells": [
  {
   "cell_type": "code",
   "execution_count": 2,
   "metadata": {},
   "outputs": [],
   "source": [
    "import molsysmt as msm"
   ]
  },
  {
   "cell_type": "code",
   "execution_count": 3,
   "metadata": {},
   "outputs": [],
   "source": [
    "molecular_system = msm.convert('1tcd.mmtf')"
   ]
  },
  {
   "cell_type": "code",
   "execution_count": 5,
   "metadata": {},
   "outputs": [
    {
     "data": {
      "text/html": [
       "<style  type=\"text/css\" >\n",
       "</style><table id=\"T_8c618266_8a99_11ea_817b_e4b318d1ebdd\" ><thead>    <tr>        <th class=\"col_heading level0 col0\" >index</th>        <th class=\"col_heading level0 col1\" >id</th>        <th class=\"col_heading level0 col2\" >name</th>        <th class=\"col_heading level0 col3\" >type</th>        <th class=\"col_heading level0 col4\" >group index</th>        <th class=\"col_heading level0 col5\" >group id</th>        <th class=\"col_heading level0 col6\" >group name</th>        <th class=\"col_heading level0 col7\" >group type</th>        <th class=\"col_heading level0 col8\" >component index</th>        <th class=\"col_heading level0 col9\" >chain index</th>        <th class=\"col_heading level0 col10\" >molecule index</th>        <th class=\"col_heading level0 col11\" >molecule type</th>        <th class=\"col_heading level0 col12\" >entity index</th>        <th class=\"col_heading level0 col13\" >entity name</th>    </tr></thead><tbody>\n",
       "                <tr>\n",
       "                                <td id=\"T_8c618266_8a99_11ea_817b_e4b318d1ebddrow0_col0\" class=\"data row0 col0\" >7</td>\n",
       "                        <td id=\"T_8c618266_8a99_11ea_817b_e4b318d1ebddrow0_col1\" class=\"data row0 col1\" >8</td>\n",
       "                        <td id=\"T_8c618266_8a99_11ea_817b_e4b318d1ebddrow0_col2\" class=\"data row0 col2\" >CE</td>\n",
       "                        <td id=\"T_8c618266_8a99_11ea_817b_e4b318d1ebddrow0_col3\" class=\"data row0 col3\" >C</td>\n",
       "                        <td id=\"T_8c618266_8a99_11ea_817b_e4b318d1ebddrow0_col4\" class=\"data row0 col4\" >0</td>\n",
       "                        <td id=\"T_8c618266_8a99_11ea_817b_e4b318d1ebddrow0_col5\" class=\"data row0 col5\" >4</td>\n",
       "                        <td id=\"T_8c618266_8a99_11ea_817b_e4b318d1ebddrow0_col6\" class=\"data row0 col6\" >LYS</td>\n",
       "                        <td id=\"T_8c618266_8a99_11ea_817b_e4b318d1ebddrow0_col7\" class=\"data row0 col7\" >aminoacid</td>\n",
       "                        <td id=\"T_8c618266_8a99_11ea_817b_e4b318d1ebddrow0_col8\" class=\"data row0 col8\" >0</td>\n",
       "                        <td id=\"T_8c618266_8a99_11ea_817b_e4b318d1ebddrow0_col9\" class=\"data row0 col9\" >0</td>\n",
       "                        <td id=\"T_8c618266_8a99_11ea_817b_e4b318d1ebddrow0_col10\" class=\"data row0 col10\" >0</td>\n",
       "                        <td id=\"T_8c618266_8a99_11ea_817b_e4b318d1ebddrow0_col11\" class=\"data row0 col11\" >protein</td>\n",
       "                        <td id=\"T_8c618266_8a99_11ea_817b_e4b318d1ebddrow0_col12\" class=\"data row0 col12\" >0</td>\n",
       "                        <td id=\"T_8c618266_8a99_11ea_817b_e4b318d1ebddrow0_col13\" class=\"data row0 col13\" >TRIOSEPHOSPHATE ISOMERASE</td>\n",
       "            </tr>\n",
       "            <tr>\n",
       "                                <td id=\"T_8c618266_8a99_11ea_817b_e4b318d1ebddrow1_col0\" class=\"data row1 col0\" >8</td>\n",
       "                        <td id=\"T_8c618266_8a99_11ea_817b_e4b318d1ebddrow1_col1\" class=\"data row1 col1\" >9</td>\n",
       "                        <td id=\"T_8c618266_8a99_11ea_817b_e4b318d1ebddrow1_col2\" class=\"data row1 col2\" >NZ</td>\n",
       "                        <td id=\"T_8c618266_8a99_11ea_817b_e4b318d1ebddrow1_col3\" class=\"data row1 col3\" >N</td>\n",
       "                        <td id=\"T_8c618266_8a99_11ea_817b_e4b318d1ebddrow1_col4\" class=\"data row1 col4\" >0</td>\n",
       "                        <td id=\"T_8c618266_8a99_11ea_817b_e4b318d1ebddrow1_col5\" class=\"data row1 col5\" >4</td>\n",
       "                        <td id=\"T_8c618266_8a99_11ea_817b_e4b318d1ebddrow1_col6\" class=\"data row1 col6\" >LYS</td>\n",
       "                        <td id=\"T_8c618266_8a99_11ea_817b_e4b318d1ebddrow1_col7\" class=\"data row1 col7\" >aminoacid</td>\n",
       "                        <td id=\"T_8c618266_8a99_11ea_817b_e4b318d1ebddrow1_col8\" class=\"data row1 col8\" >0</td>\n",
       "                        <td id=\"T_8c618266_8a99_11ea_817b_e4b318d1ebddrow1_col9\" class=\"data row1 col9\" >0</td>\n",
       "                        <td id=\"T_8c618266_8a99_11ea_817b_e4b318d1ebddrow1_col10\" class=\"data row1 col10\" >0</td>\n",
       "                        <td id=\"T_8c618266_8a99_11ea_817b_e4b318d1ebddrow1_col11\" class=\"data row1 col11\" >protein</td>\n",
       "                        <td id=\"T_8c618266_8a99_11ea_817b_e4b318d1ebddrow1_col12\" class=\"data row1 col12\" >0</td>\n",
       "                        <td id=\"T_8c618266_8a99_11ea_817b_e4b318d1ebddrow1_col13\" class=\"data row1 col13\" >TRIOSEPHOSPHATE ISOMERASE</td>\n",
       "            </tr>\n",
       "            <tr>\n",
       "                                <td id=\"T_8c618266_8a99_11ea_817b_e4b318d1ebddrow2_col0\" class=\"data row2 col0\" >9</td>\n",
       "                        <td id=\"T_8c618266_8a99_11ea_817b_e4b318d1ebddrow2_col1\" class=\"data row2 col1\" >10</td>\n",
       "                        <td id=\"T_8c618266_8a99_11ea_817b_e4b318d1ebddrow2_col2\" class=\"data row2 col2\" >N</td>\n",
       "                        <td id=\"T_8c618266_8a99_11ea_817b_e4b318d1ebddrow2_col3\" class=\"data row2 col3\" >N</td>\n",
       "                        <td id=\"T_8c618266_8a99_11ea_817b_e4b318d1ebddrow2_col4\" class=\"data row2 col4\" >1</td>\n",
       "                        <td id=\"T_8c618266_8a99_11ea_817b_e4b318d1ebddrow2_col5\" class=\"data row2 col5\" >5</td>\n",
       "                        <td id=\"T_8c618266_8a99_11ea_817b_e4b318d1ebddrow2_col6\" class=\"data row2 col6\" >PRO</td>\n",
       "                        <td id=\"T_8c618266_8a99_11ea_817b_e4b318d1ebddrow2_col7\" class=\"data row2 col7\" >aminoacid</td>\n",
       "                        <td id=\"T_8c618266_8a99_11ea_817b_e4b318d1ebddrow2_col8\" class=\"data row2 col8\" >0</td>\n",
       "                        <td id=\"T_8c618266_8a99_11ea_817b_e4b318d1ebddrow2_col9\" class=\"data row2 col9\" >0</td>\n",
       "                        <td id=\"T_8c618266_8a99_11ea_817b_e4b318d1ebddrow2_col10\" class=\"data row2 col10\" >0</td>\n",
       "                        <td id=\"T_8c618266_8a99_11ea_817b_e4b318d1ebddrow2_col11\" class=\"data row2 col11\" >protein</td>\n",
       "                        <td id=\"T_8c618266_8a99_11ea_817b_e4b318d1ebddrow2_col12\" class=\"data row2 col12\" >0</td>\n",
       "                        <td id=\"T_8c618266_8a99_11ea_817b_e4b318d1ebddrow2_col13\" class=\"data row2 col13\" >TRIOSEPHOSPHATE ISOMERASE</td>\n",
       "            </tr>\n",
       "            <tr>\n",
       "                                <td id=\"T_8c618266_8a99_11ea_817b_e4b318d1ebddrow3_col0\" class=\"data row3 col0\" >10</td>\n",
       "                        <td id=\"T_8c618266_8a99_11ea_817b_e4b318d1ebddrow3_col1\" class=\"data row3 col1\" >11</td>\n",
       "                        <td id=\"T_8c618266_8a99_11ea_817b_e4b318d1ebddrow3_col2\" class=\"data row3 col2\" >CA</td>\n",
       "                        <td id=\"T_8c618266_8a99_11ea_817b_e4b318d1ebddrow3_col3\" class=\"data row3 col3\" >C</td>\n",
       "                        <td id=\"T_8c618266_8a99_11ea_817b_e4b318d1ebddrow3_col4\" class=\"data row3 col4\" >1</td>\n",
       "                        <td id=\"T_8c618266_8a99_11ea_817b_e4b318d1ebddrow3_col5\" class=\"data row3 col5\" >5</td>\n",
       "                        <td id=\"T_8c618266_8a99_11ea_817b_e4b318d1ebddrow3_col6\" class=\"data row3 col6\" >PRO</td>\n",
       "                        <td id=\"T_8c618266_8a99_11ea_817b_e4b318d1ebddrow3_col7\" class=\"data row3 col7\" >aminoacid</td>\n",
       "                        <td id=\"T_8c618266_8a99_11ea_817b_e4b318d1ebddrow3_col8\" class=\"data row3 col8\" >0</td>\n",
       "                        <td id=\"T_8c618266_8a99_11ea_817b_e4b318d1ebddrow3_col9\" class=\"data row3 col9\" >0</td>\n",
       "                        <td id=\"T_8c618266_8a99_11ea_817b_e4b318d1ebddrow3_col10\" class=\"data row3 col10\" >0</td>\n",
       "                        <td id=\"T_8c618266_8a99_11ea_817b_e4b318d1ebddrow3_col11\" class=\"data row3 col11\" >protein</td>\n",
       "                        <td id=\"T_8c618266_8a99_11ea_817b_e4b318d1ebddrow3_col12\" class=\"data row3 col12\" >0</td>\n",
       "                        <td id=\"T_8c618266_8a99_11ea_817b_e4b318d1ebddrow3_col13\" class=\"data row3 col13\" >TRIOSEPHOSPHATE ISOMERASE</td>\n",
       "            </tr>\n",
       "            <tr>\n",
       "                                <td id=\"T_8c618266_8a99_11ea_817b_e4b318d1ebddrow4_col0\" class=\"data row4 col0\" >11</td>\n",
       "                        <td id=\"T_8c618266_8a99_11ea_817b_e4b318d1ebddrow4_col1\" class=\"data row4 col1\" >12</td>\n",
       "                        <td id=\"T_8c618266_8a99_11ea_817b_e4b318d1ebddrow4_col2\" class=\"data row4 col2\" >C</td>\n",
       "                        <td id=\"T_8c618266_8a99_11ea_817b_e4b318d1ebddrow4_col3\" class=\"data row4 col3\" >C</td>\n",
       "                        <td id=\"T_8c618266_8a99_11ea_817b_e4b318d1ebddrow4_col4\" class=\"data row4 col4\" >1</td>\n",
       "                        <td id=\"T_8c618266_8a99_11ea_817b_e4b318d1ebddrow4_col5\" class=\"data row4 col5\" >5</td>\n",
       "                        <td id=\"T_8c618266_8a99_11ea_817b_e4b318d1ebddrow4_col6\" class=\"data row4 col6\" >PRO</td>\n",
       "                        <td id=\"T_8c618266_8a99_11ea_817b_e4b318d1ebddrow4_col7\" class=\"data row4 col7\" >aminoacid</td>\n",
       "                        <td id=\"T_8c618266_8a99_11ea_817b_e4b318d1ebddrow4_col8\" class=\"data row4 col8\" >0</td>\n",
       "                        <td id=\"T_8c618266_8a99_11ea_817b_e4b318d1ebddrow4_col9\" class=\"data row4 col9\" >0</td>\n",
       "                        <td id=\"T_8c618266_8a99_11ea_817b_e4b318d1ebddrow4_col10\" class=\"data row4 col10\" >0</td>\n",
       "                        <td id=\"T_8c618266_8a99_11ea_817b_e4b318d1ebddrow4_col11\" class=\"data row4 col11\" >protein</td>\n",
       "                        <td id=\"T_8c618266_8a99_11ea_817b_e4b318d1ebddrow4_col12\" class=\"data row4 col12\" >0</td>\n",
       "                        <td id=\"T_8c618266_8a99_11ea_817b_e4b318d1ebddrow4_col13\" class=\"data row4 col13\" >TRIOSEPHOSPHATE ISOMERASE</td>\n",
       "            </tr>\n",
       "            <tr>\n",
       "                                <td id=\"T_8c618266_8a99_11ea_817b_e4b318d1ebddrow5_col0\" class=\"data row5 col0\" >12</td>\n",
       "                        <td id=\"T_8c618266_8a99_11ea_817b_e4b318d1ebddrow5_col1\" class=\"data row5 col1\" >13</td>\n",
       "                        <td id=\"T_8c618266_8a99_11ea_817b_e4b318d1ebddrow5_col2\" class=\"data row5 col2\" >O</td>\n",
       "                        <td id=\"T_8c618266_8a99_11ea_817b_e4b318d1ebddrow5_col3\" class=\"data row5 col3\" >O</td>\n",
       "                        <td id=\"T_8c618266_8a99_11ea_817b_e4b318d1ebddrow5_col4\" class=\"data row5 col4\" >1</td>\n",
       "                        <td id=\"T_8c618266_8a99_11ea_817b_e4b318d1ebddrow5_col5\" class=\"data row5 col5\" >5</td>\n",
       "                        <td id=\"T_8c618266_8a99_11ea_817b_e4b318d1ebddrow5_col6\" class=\"data row5 col6\" >PRO</td>\n",
       "                        <td id=\"T_8c618266_8a99_11ea_817b_e4b318d1ebddrow5_col7\" class=\"data row5 col7\" >aminoacid</td>\n",
       "                        <td id=\"T_8c618266_8a99_11ea_817b_e4b318d1ebddrow5_col8\" class=\"data row5 col8\" >0</td>\n",
       "                        <td id=\"T_8c618266_8a99_11ea_817b_e4b318d1ebddrow5_col9\" class=\"data row5 col9\" >0</td>\n",
       "                        <td id=\"T_8c618266_8a99_11ea_817b_e4b318d1ebddrow5_col10\" class=\"data row5 col10\" >0</td>\n",
       "                        <td id=\"T_8c618266_8a99_11ea_817b_e4b318d1ebddrow5_col11\" class=\"data row5 col11\" >protein</td>\n",
       "                        <td id=\"T_8c618266_8a99_11ea_817b_e4b318d1ebddrow5_col12\" class=\"data row5 col12\" >0</td>\n",
       "                        <td id=\"T_8c618266_8a99_11ea_817b_e4b318d1ebddrow5_col13\" class=\"data row5 col13\" >TRIOSEPHOSPHATE ISOMERASE</td>\n",
       "            </tr>\n",
       "    </tbody></table>"
      ],
      "text/plain": [
       "<pandas.io.formats.style.Styler at 0x7f17c2bdcb10>"
      ]
     },
     "execution_count": 5,
     "metadata": {},
     "output_type": "execute_result"
    }
   ],
   "source": [
    "msm.info(molecular_system, target='atom', indices=[7,8,9,10,11,12])"
   ]
  },
  {
   "cell_type": "code",
   "execution_count": 10,
   "metadata": {},
   "outputs": [
    {
     "data": {
      "text/html": [
       "<style  type=\"text/css\" >\n",
       "</style><table id=\"T_0e61fd80_8a9b_11ea_817b_e4b318d1ebdd\" ><thead>    <tr>        <th class=\"col_heading level0 col0\" >index</th>        <th class=\"col_heading level0 col1\" >id</th>        <th class=\"col_heading level0 col2\" >name</th>        <th class=\"col_heading level0 col3\" >type</th>        <th class=\"col_heading level0 col4\" >group index</th>        <th class=\"col_heading level0 col5\" >group id</th>        <th class=\"col_heading level0 col6\" >group name</th>        <th class=\"col_heading level0 col7\" >group type</th>        <th class=\"col_heading level0 col8\" >component index</th>        <th class=\"col_heading level0 col9\" >chain index</th>        <th class=\"col_heading level0 col10\" >molecule index</th>        <th class=\"col_heading level0 col11\" >molecule type</th>        <th class=\"col_heading level0 col12\" >entity index</th>        <th class=\"col_heading level0 col13\" >entity name</th>    </tr></thead><tbody>\n",
       "                <tr>\n",
       "                                <td id=\"T_0e61fd80_8a9b_11ea_817b_e4b318d1ebddrow0_col0\" class=\"data row0 col0\" >45</td>\n",
       "                        <td id=\"T_0e61fd80_8a9b_11ea_817b_e4b318d1ebddrow0_col1\" class=\"data row0 col1\" >46</td>\n",
       "                        <td id=\"T_0e61fd80_8a9b_11ea_817b_e4b318d1ebddrow0_col2\" class=\"data row0 col2\" >N</td>\n",
       "                        <td id=\"T_0e61fd80_8a9b_11ea_817b_e4b318d1ebddrow0_col3\" class=\"data row0 col3\" >N</td>\n",
       "                        <td id=\"T_0e61fd80_8a9b_11ea_817b_e4b318d1ebddrow0_col4\" class=\"data row0 col4\" >6</td>\n",
       "                        <td id=\"T_0e61fd80_8a9b_11ea_817b_e4b318d1ebddrow0_col5\" class=\"data row0 col5\" >10</td>\n",
       "                        <td id=\"T_0e61fd80_8a9b_11ea_817b_e4b318d1ebddrow0_col6\" class=\"data row0 col6\" >ALA</td>\n",
       "                        <td id=\"T_0e61fd80_8a9b_11ea_817b_e4b318d1ebddrow0_col7\" class=\"data row0 col7\" >aminoacid</td>\n",
       "                        <td id=\"T_0e61fd80_8a9b_11ea_817b_e4b318d1ebddrow0_col8\" class=\"data row0 col8\" >0</td>\n",
       "                        <td id=\"T_0e61fd80_8a9b_11ea_817b_e4b318d1ebddrow0_col9\" class=\"data row0 col9\" >0</td>\n",
       "                        <td id=\"T_0e61fd80_8a9b_11ea_817b_e4b318d1ebddrow0_col10\" class=\"data row0 col10\" >0</td>\n",
       "                        <td id=\"T_0e61fd80_8a9b_11ea_817b_e4b318d1ebddrow0_col11\" class=\"data row0 col11\" >protein</td>\n",
       "                        <td id=\"T_0e61fd80_8a9b_11ea_817b_e4b318d1ebddrow0_col12\" class=\"data row0 col12\" >0</td>\n",
       "                        <td id=\"T_0e61fd80_8a9b_11ea_817b_e4b318d1ebddrow0_col13\" class=\"data row0 col13\" >TRIOSEPHOSPHATE ISOMERASE</td>\n",
       "            </tr>\n",
       "            <tr>\n",
       "                                <td id=\"T_0e61fd80_8a9b_11ea_817b_e4b318d1ebddrow1_col0\" class=\"data row1 col0\" >46</td>\n",
       "                        <td id=\"T_0e61fd80_8a9b_11ea_817b_e4b318d1ebddrow1_col1\" class=\"data row1 col1\" >47</td>\n",
       "                        <td id=\"T_0e61fd80_8a9b_11ea_817b_e4b318d1ebddrow1_col2\" class=\"data row1 col2\" >CA</td>\n",
       "                        <td id=\"T_0e61fd80_8a9b_11ea_817b_e4b318d1ebddrow1_col3\" class=\"data row1 col3\" >C</td>\n",
       "                        <td id=\"T_0e61fd80_8a9b_11ea_817b_e4b318d1ebddrow1_col4\" class=\"data row1 col4\" >6</td>\n",
       "                        <td id=\"T_0e61fd80_8a9b_11ea_817b_e4b318d1ebddrow1_col5\" class=\"data row1 col5\" >10</td>\n",
       "                        <td id=\"T_0e61fd80_8a9b_11ea_817b_e4b318d1ebddrow1_col6\" class=\"data row1 col6\" >ALA</td>\n",
       "                        <td id=\"T_0e61fd80_8a9b_11ea_817b_e4b318d1ebddrow1_col7\" class=\"data row1 col7\" >aminoacid</td>\n",
       "                        <td id=\"T_0e61fd80_8a9b_11ea_817b_e4b318d1ebddrow1_col8\" class=\"data row1 col8\" >0</td>\n",
       "                        <td id=\"T_0e61fd80_8a9b_11ea_817b_e4b318d1ebddrow1_col9\" class=\"data row1 col9\" >0</td>\n",
       "                        <td id=\"T_0e61fd80_8a9b_11ea_817b_e4b318d1ebddrow1_col10\" class=\"data row1 col10\" >0</td>\n",
       "                        <td id=\"T_0e61fd80_8a9b_11ea_817b_e4b318d1ebddrow1_col11\" class=\"data row1 col11\" >protein</td>\n",
       "                        <td id=\"T_0e61fd80_8a9b_11ea_817b_e4b318d1ebddrow1_col12\" class=\"data row1 col12\" >0</td>\n",
       "                        <td id=\"T_0e61fd80_8a9b_11ea_817b_e4b318d1ebddrow1_col13\" class=\"data row1 col13\" >TRIOSEPHOSPHATE ISOMERASE</td>\n",
       "            </tr>\n",
       "            <tr>\n",
       "                                <td id=\"T_0e61fd80_8a9b_11ea_817b_e4b318d1ebddrow2_col0\" class=\"data row2 col0\" >47</td>\n",
       "                        <td id=\"T_0e61fd80_8a9b_11ea_817b_e4b318d1ebddrow2_col1\" class=\"data row2 col1\" >48</td>\n",
       "                        <td id=\"T_0e61fd80_8a9b_11ea_817b_e4b318d1ebddrow2_col2\" class=\"data row2 col2\" >C</td>\n",
       "                        <td id=\"T_0e61fd80_8a9b_11ea_817b_e4b318d1ebddrow2_col3\" class=\"data row2 col3\" >C</td>\n",
       "                        <td id=\"T_0e61fd80_8a9b_11ea_817b_e4b318d1ebddrow2_col4\" class=\"data row2 col4\" >6</td>\n",
       "                        <td id=\"T_0e61fd80_8a9b_11ea_817b_e4b318d1ebddrow2_col5\" class=\"data row2 col5\" >10</td>\n",
       "                        <td id=\"T_0e61fd80_8a9b_11ea_817b_e4b318d1ebddrow2_col6\" class=\"data row2 col6\" >ALA</td>\n",
       "                        <td id=\"T_0e61fd80_8a9b_11ea_817b_e4b318d1ebddrow2_col7\" class=\"data row2 col7\" >aminoacid</td>\n",
       "                        <td id=\"T_0e61fd80_8a9b_11ea_817b_e4b318d1ebddrow2_col8\" class=\"data row2 col8\" >0</td>\n",
       "                        <td id=\"T_0e61fd80_8a9b_11ea_817b_e4b318d1ebddrow2_col9\" class=\"data row2 col9\" >0</td>\n",
       "                        <td id=\"T_0e61fd80_8a9b_11ea_817b_e4b318d1ebddrow2_col10\" class=\"data row2 col10\" >0</td>\n",
       "                        <td id=\"T_0e61fd80_8a9b_11ea_817b_e4b318d1ebddrow2_col11\" class=\"data row2 col11\" >protein</td>\n",
       "                        <td id=\"T_0e61fd80_8a9b_11ea_817b_e4b318d1ebddrow2_col12\" class=\"data row2 col12\" >0</td>\n",
       "                        <td id=\"T_0e61fd80_8a9b_11ea_817b_e4b318d1ebddrow2_col13\" class=\"data row2 col13\" >TRIOSEPHOSPHATE ISOMERASE</td>\n",
       "            </tr>\n",
       "            <tr>\n",
       "                                <td id=\"T_0e61fd80_8a9b_11ea_817b_e4b318d1ebddrow3_col0\" class=\"data row3 col0\" >48</td>\n",
       "                        <td id=\"T_0e61fd80_8a9b_11ea_817b_e4b318d1ebddrow3_col1\" class=\"data row3 col1\" >49</td>\n",
       "                        <td id=\"T_0e61fd80_8a9b_11ea_817b_e4b318d1ebddrow3_col2\" class=\"data row3 col2\" >O</td>\n",
       "                        <td id=\"T_0e61fd80_8a9b_11ea_817b_e4b318d1ebddrow3_col3\" class=\"data row3 col3\" >O</td>\n",
       "                        <td id=\"T_0e61fd80_8a9b_11ea_817b_e4b318d1ebddrow3_col4\" class=\"data row3 col4\" >6</td>\n",
       "                        <td id=\"T_0e61fd80_8a9b_11ea_817b_e4b318d1ebddrow3_col5\" class=\"data row3 col5\" >10</td>\n",
       "                        <td id=\"T_0e61fd80_8a9b_11ea_817b_e4b318d1ebddrow3_col6\" class=\"data row3 col6\" >ALA</td>\n",
       "                        <td id=\"T_0e61fd80_8a9b_11ea_817b_e4b318d1ebddrow3_col7\" class=\"data row3 col7\" >aminoacid</td>\n",
       "                        <td id=\"T_0e61fd80_8a9b_11ea_817b_e4b318d1ebddrow3_col8\" class=\"data row3 col8\" >0</td>\n",
       "                        <td id=\"T_0e61fd80_8a9b_11ea_817b_e4b318d1ebddrow3_col9\" class=\"data row3 col9\" >0</td>\n",
       "                        <td id=\"T_0e61fd80_8a9b_11ea_817b_e4b318d1ebddrow3_col10\" class=\"data row3 col10\" >0</td>\n",
       "                        <td id=\"T_0e61fd80_8a9b_11ea_817b_e4b318d1ebddrow3_col11\" class=\"data row3 col11\" >protein</td>\n",
       "                        <td id=\"T_0e61fd80_8a9b_11ea_817b_e4b318d1ebddrow3_col12\" class=\"data row3 col12\" >0</td>\n",
       "                        <td id=\"T_0e61fd80_8a9b_11ea_817b_e4b318d1ebddrow3_col13\" class=\"data row3 col13\" >TRIOSEPHOSPHATE ISOMERASE</td>\n",
       "            </tr>\n",
       "            <tr>\n",
       "                                <td id=\"T_0e61fd80_8a9b_11ea_817b_e4b318d1ebddrow4_col0\" class=\"data row4 col0\" >49</td>\n",
       "                        <td id=\"T_0e61fd80_8a9b_11ea_817b_e4b318d1ebddrow4_col1\" class=\"data row4 col1\" >50</td>\n",
       "                        <td id=\"T_0e61fd80_8a9b_11ea_817b_e4b318d1ebddrow4_col2\" class=\"data row4 col2\" >CB</td>\n",
       "                        <td id=\"T_0e61fd80_8a9b_11ea_817b_e4b318d1ebddrow4_col3\" class=\"data row4 col3\" >C</td>\n",
       "                        <td id=\"T_0e61fd80_8a9b_11ea_817b_e4b318d1ebddrow4_col4\" class=\"data row4 col4\" >6</td>\n",
       "                        <td id=\"T_0e61fd80_8a9b_11ea_817b_e4b318d1ebddrow4_col5\" class=\"data row4 col5\" >10</td>\n",
       "                        <td id=\"T_0e61fd80_8a9b_11ea_817b_e4b318d1ebddrow4_col6\" class=\"data row4 col6\" >ALA</td>\n",
       "                        <td id=\"T_0e61fd80_8a9b_11ea_817b_e4b318d1ebddrow4_col7\" class=\"data row4 col7\" >aminoacid</td>\n",
       "                        <td id=\"T_0e61fd80_8a9b_11ea_817b_e4b318d1ebddrow4_col8\" class=\"data row4 col8\" >0</td>\n",
       "                        <td id=\"T_0e61fd80_8a9b_11ea_817b_e4b318d1ebddrow4_col9\" class=\"data row4 col9\" >0</td>\n",
       "                        <td id=\"T_0e61fd80_8a9b_11ea_817b_e4b318d1ebddrow4_col10\" class=\"data row4 col10\" >0</td>\n",
       "                        <td id=\"T_0e61fd80_8a9b_11ea_817b_e4b318d1ebddrow4_col11\" class=\"data row4 col11\" >protein</td>\n",
       "                        <td id=\"T_0e61fd80_8a9b_11ea_817b_e4b318d1ebddrow4_col12\" class=\"data row4 col12\" >0</td>\n",
       "                        <td id=\"T_0e61fd80_8a9b_11ea_817b_e4b318d1ebddrow4_col13\" class=\"data row4 col13\" >TRIOSEPHOSPHATE ISOMERASE</td>\n",
       "            </tr>\n",
       "    </tbody></table>"
      ],
      "text/plain": [
       "<pandas.io.formats.style.Styler at 0x7f17c2dc64d0>"
      ]
     },
     "execution_count": 10,
     "metadata": {},
     "output_type": "execute_result"
    }
   ],
   "source": [
    "msm.info(molecular_system, target='atom', selection='group.index==6')"
   ]
  },
  {
   "cell_type": "code",
   "execution_count": 15,
   "metadata": {},
   "outputs": [
    {
     "data": {
      "text/html": [
       "<style  type=\"text/css\" >\n",
       "</style><table id=\"T_e56a2b0e_8a9b_11ea_817b_e4b318d1ebdd\" ><thead>    <tr>        <th class=\"col_heading level0 col0\" >index</th>        <th class=\"col_heading level0 col1\" >id</th>        <th class=\"col_heading level0 col2\" >name</th>        <th class=\"col_heading level0 col3\" >type</th>        <th class=\"col_heading level0 col4\" >n atoms</th>        <th class=\"col_heading level0 col5\" >component index</th>        <th class=\"col_heading level0 col6\" >chain index</th>        <th class=\"col_heading level0 col7\" >molecule index</th>        <th class=\"col_heading level0 col8\" >molecule type</th>        <th class=\"col_heading level0 col9\" >entity index</th>        <th class=\"col_heading level0 col10\" >entity name</th>    </tr></thead><tbody>\n",
       "                <tr>\n",
       "                                <td id=\"T_e56a2b0e_8a9b_11ea_817b_e4b318d1ebddrow0_col0\" class=\"data row0 col0\" >20</td>\n",
       "                        <td id=\"T_e56a2b0e_8a9b_11ea_817b_e4b318d1ebddrow0_col1\" class=\"data row0 col1\" >24</td>\n",
       "                        <td id=\"T_e56a2b0e_8a9b_11ea_817b_e4b318d1ebddrow0_col2\" class=\"data row0 col2\" >PRO</td>\n",
       "                        <td id=\"T_e56a2b0e_8a9b_11ea_817b_e4b318d1ebddrow0_col3\" class=\"data row0 col3\" >aminoacid</td>\n",
       "                        <td id=\"T_e56a2b0e_8a9b_11ea_817b_e4b318d1ebddrow0_col4\" class=\"data row0 col4\" >7</td>\n",
       "                        <td id=\"T_e56a2b0e_8a9b_11ea_817b_e4b318d1ebddrow0_col5\" class=\"data row0 col5\" >0</td>\n",
       "                        <td id=\"T_e56a2b0e_8a9b_11ea_817b_e4b318d1ebddrow0_col6\" class=\"data row0 col6\" >0</td>\n",
       "                        <td id=\"T_e56a2b0e_8a9b_11ea_817b_e4b318d1ebddrow0_col7\" class=\"data row0 col7\" >0</td>\n",
       "                        <td id=\"T_e56a2b0e_8a9b_11ea_817b_e4b318d1ebddrow0_col8\" class=\"data row0 col8\" >protein</td>\n",
       "                        <td id=\"T_e56a2b0e_8a9b_11ea_817b_e4b318d1ebddrow0_col9\" class=\"data row0 col9\" >0</td>\n",
       "                        <td id=\"T_e56a2b0e_8a9b_11ea_817b_e4b318d1ebddrow0_col10\" class=\"data row0 col10\" >TRIOSEPHOSPHATE ISOMERASE</td>\n",
       "            </tr>\n",
       "            <tr>\n",
       "                                <td id=\"T_e56a2b0e_8a9b_11ea_817b_e4b318d1ebddrow1_col0\" class=\"data row1 col0\" >21</td>\n",
       "                        <td id=\"T_e56a2b0e_8a9b_11ea_817b_e4b318d1ebddrow1_col1\" class=\"data row1 col1\" >25</td>\n",
       "                        <td id=\"T_e56a2b0e_8a9b_11ea_817b_e4b318d1ebddrow1_col2\" class=\"data row1 col2\" >LEU</td>\n",
       "                        <td id=\"T_e56a2b0e_8a9b_11ea_817b_e4b318d1ebddrow1_col3\" class=\"data row1 col3\" >aminoacid</td>\n",
       "                        <td id=\"T_e56a2b0e_8a9b_11ea_817b_e4b318d1ebddrow1_col4\" class=\"data row1 col4\" >8</td>\n",
       "                        <td id=\"T_e56a2b0e_8a9b_11ea_817b_e4b318d1ebddrow1_col5\" class=\"data row1 col5\" >0</td>\n",
       "                        <td id=\"T_e56a2b0e_8a9b_11ea_817b_e4b318d1ebddrow1_col6\" class=\"data row1 col6\" >0</td>\n",
       "                        <td id=\"T_e56a2b0e_8a9b_11ea_817b_e4b318d1ebddrow1_col7\" class=\"data row1 col7\" >0</td>\n",
       "                        <td id=\"T_e56a2b0e_8a9b_11ea_817b_e4b318d1ebddrow1_col8\" class=\"data row1 col8\" >protein</td>\n",
       "                        <td id=\"T_e56a2b0e_8a9b_11ea_817b_e4b318d1ebddrow1_col9\" class=\"data row1 col9\" >0</td>\n",
       "                        <td id=\"T_e56a2b0e_8a9b_11ea_817b_e4b318d1ebddrow1_col10\" class=\"data row1 col10\" >TRIOSEPHOSPHATE ISOMERASE</td>\n",
       "            </tr>\n",
       "            <tr>\n",
       "                                <td id=\"T_e56a2b0e_8a9b_11ea_817b_e4b318d1ebddrow2_col0\" class=\"data row2 col0\" >22</td>\n",
       "                        <td id=\"T_e56a2b0e_8a9b_11ea_817b_e4b318d1ebddrow2_col1\" class=\"data row2 col1\" >26</td>\n",
       "                        <td id=\"T_e56a2b0e_8a9b_11ea_817b_e4b318d1ebddrow2_col2\" class=\"data row2 col2\" >ILE</td>\n",
       "                        <td id=\"T_e56a2b0e_8a9b_11ea_817b_e4b318d1ebddrow2_col3\" class=\"data row2 col3\" >aminoacid</td>\n",
       "                        <td id=\"T_e56a2b0e_8a9b_11ea_817b_e4b318d1ebddrow2_col4\" class=\"data row2 col4\" >8</td>\n",
       "                        <td id=\"T_e56a2b0e_8a9b_11ea_817b_e4b318d1ebddrow2_col5\" class=\"data row2 col5\" >0</td>\n",
       "                        <td id=\"T_e56a2b0e_8a9b_11ea_817b_e4b318d1ebddrow2_col6\" class=\"data row2 col6\" >0</td>\n",
       "                        <td id=\"T_e56a2b0e_8a9b_11ea_817b_e4b318d1ebddrow2_col7\" class=\"data row2 col7\" >0</td>\n",
       "                        <td id=\"T_e56a2b0e_8a9b_11ea_817b_e4b318d1ebddrow2_col8\" class=\"data row2 col8\" >protein</td>\n",
       "                        <td id=\"T_e56a2b0e_8a9b_11ea_817b_e4b318d1ebddrow2_col9\" class=\"data row2 col9\" >0</td>\n",
       "                        <td id=\"T_e56a2b0e_8a9b_11ea_817b_e4b318d1ebddrow2_col10\" class=\"data row2 col10\" >TRIOSEPHOSPHATE ISOMERASE</td>\n",
       "            </tr>\n",
       "            <tr>\n",
       "                                <td id=\"T_e56a2b0e_8a9b_11ea_817b_e4b318d1ebddrow3_col0\" class=\"data row3 col0\" >23</td>\n",
       "                        <td id=\"T_e56a2b0e_8a9b_11ea_817b_e4b318d1ebddrow3_col1\" class=\"data row3 col1\" >27</td>\n",
       "                        <td id=\"T_e56a2b0e_8a9b_11ea_817b_e4b318d1ebddrow3_col2\" class=\"data row3 col2\" >GLU</td>\n",
       "                        <td id=\"T_e56a2b0e_8a9b_11ea_817b_e4b318d1ebddrow3_col3\" class=\"data row3 col3\" >aminoacid</td>\n",
       "                        <td id=\"T_e56a2b0e_8a9b_11ea_817b_e4b318d1ebddrow3_col4\" class=\"data row3 col4\" >9</td>\n",
       "                        <td id=\"T_e56a2b0e_8a9b_11ea_817b_e4b318d1ebddrow3_col5\" class=\"data row3 col5\" >0</td>\n",
       "                        <td id=\"T_e56a2b0e_8a9b_11ea_817b_e4b318d1ebddrow3_col6\" class=\"data row3 col6\" >0</td>\n",
       "                        <td id=\"T_e56a2b0e_8a9b_11ea_817b_e4b318d1ebddrow3_col7\" class=\"data row3 col7\" >0</td>\n",
       "                        <td id=\"T_e56a2b0e_8a9b_11ea_817b_e4b318d1ebddrow3_col8\" class=\"data row3 col8\" >protein</td>\n",
       "                        <td id=\"T_e56a2b0e_8a9b_11ea_817b_e4b318d1ebddrow3_col9\" class=\"data row3 col9\" >0</td>\n",
       "                        <td id=\"T_e56a2b0e_8a9b_11ea_817b_e4b318d1ebddrow3_col10\" class=\"data row3 col10\" >TRIOSEPHOSPHATE ISOMERASE</td>\n",
       "            </tr>\n",
       "    </tbody></table>"
      ],
      "text/plain": [
       "<pandas.io.formats.style.Styler at 0x7f17c43b63d0>"
      ]
     },
     "execution_count": 15,
     "metadata": {},
     "output_type": "execute_result"
    }
   ],
   "source": [
    "msm.info(molecular_system, target='group', indices=[20,21,22,23])"
   ]
  },
  {
   "cell_type": "code",
   "execution_count": 18,
   "metadata": {},
   "outputs": [
    {
     "data": {
      "text/html": [
       "<style  type=\"text/css\" >\n",
       "</style><table id=\"T_217a8a20_8a9d_11ea_817b_e4b318d1ebdd\" ><thead>    <tr>        <th class=\"col_heading level0 col0\" >index</th>        <th class=\"col_heading level0 col1\" >n atoms</th>        <th class=\"col_heading level0 col2\" >n groups</th>        <th class=\"col_heading level0 col3\" >chain index</th>        <th class=\"col_heading level0 col4\" >molecule index</th>        <th class=\"col_heading level0 col5\" >molecule type</th>        <th class=\"col_heading level0 col6\" >entity index</th>        <th class=\"col_heading level0 col7\" >entity name</th>    </tr></thead><tbody>\n",
       "                <tr>\n",
       "                                <td id=\"T_217a8a20_8a9d_11ea_817b_e4b318d1ebddrow0_col0\" class=\"data row0 col0\" >0</td>\n",
       "                        <td id=\"T_217a8a20_8a9d_11ea_817b_e4b318d1ebddrow0_col1\" class=\"data row0 col1\" >1906</td>\n",
       "                        <td id=\"T_217a8a20_8a9d_11ea_817b_e4b318d1ebddrow0_col2\" class=\"data row0 col2\" >248</td>\n",
       "                        <td id=\"T_217a8a20_8a9d_11ea_817b_e4b318d1ebddrow0_col3\" class=\"data row0 col3\" >0</td>\n",
       "                        <td id=\"T_217a8a20_8a9d_11ea_817b_e4b318d1ebddrow0_col4\" class=\"data row0 col4\" >0</td>\n",
       "                        <td id=\"T_217a8a20_8a9d_11ea_817b_e4b318d1ebddrow0_col5\" class=\"data row0 col5\" >protein</td>\n",
       "                        <td id=\"T_217a8a20_8a9d_11ea_817b_e4b318d1ebddrow0_col6\" class=\"data row0 col6\" >0</td>\n",
       "                        <td id=\"T_217a8a20_8a9d_11ea_817b_e4b318d1ebddrow0_col7\" class=\"data row0 col7\" >TRIOSEPHOSPHATE ISOMERASE</td>\n",
       "            </tr>\n",
       "            <tr>\n",
       "                                <td id=\"T_217a8a20_8a9d_11ea_817b_e4b318d1ebddrow1_col0\" class=\"data row1 col0\" >1</td>\n",
       "                        <td id=\"T_217a8a20_8a9d_11ea_817b_e4b318d1ebddrow1_col1\" class=\"data row1 col1\" >1912</td>\n",
       "                        <td id=\"T_217a8a20_8a9d_11ea_817b_e4b318d1ebddrow1_col2\" class=\"data row1 col2\" >249</td>\n",
       "                        <td id=\"T_217a8a20_8a9d_11ea_817b_e4b318d1ebddrow1_col3\" class=\"data row1 col3\" >1</td>\n",
       "                        <td id=\"T_217a8a20_8a9d_11ea_817b_e4b318d1ebddrow1_col4\" class=\"data row1 col4\" >0</td>\n",
       "                        <td id=\"T_217a8a20_8a9d_11ea_817b_e4b318d1ebddrow1_col5\" class=\"data row1 col5\" >protein</td>\n",
       "                        <td id=\"T_217a8a20_8a9d_11ea_817b_e4b318d1ebddrow1_col6\" class=\"data row1 col6\" >0</td>\n",
       "                        <td id=\"T_217a8a20_8a9d_11ea_817b_e4b318d1ebddrow1_col7\" class=\"data row1 col7\" >TRIOSEPHOSPHATE ISOMERASE</td>\n",
       "            </tr>\n",
       "    </tbody></table>"
      ],
      "text/plain": [
       "<pandas.io.formats.style.Styler at 0x7f17c2b47850>"
      ]
     },
     "execution_count": 18,
     "metadata": {},
     "output_type": "execute_result"
    }
   ],
   "source": [
    "msm.info(molecular_system, target='component', selection='molecule.type!=\"water\"')"
   ]
  },
  {
   "cell_type": "code",
   "execution_count": 21,
   "metadata": {},
   "outputs": [
    {
     "data": {
      "text/html": [
       "<style  type=\"text/css\" >\n",
       "</style><table id=\"T_5c842fd8_8aa0_11ea_817b_e4b318d1ebdd\" ><thead>    <tr>        <th class=\"col_heading level0 col0\" >index</th>        <th class=\"col_heading level0 col1\" >id</th>        <th class=\"col_heading level0 col2\" >name</th>        <th class=\"col_heading level0 col3\" >n atoms</th>        <th class=\"col_heading level0 col4\" >n groups</th>        <th class=\"col_heading level0 col5\" >n components</th>        <th class=\"col_heading level0 col6\" >molecule index</th>        <th class=\"col_heading level0 col7\" >molecule type</th>        <th class=\"col_heading level0 col8\" >entity index</th>        <th class=\"col_heading level0 col9\" >entity name</th>    </tr></thead><tbody>\n",
       "                <tr>\n",
       "                                <td id=\"T_5c842fd8_8aa0_11ea_817b_e4b318d1ebddrow0_col0\" class=\"data row0 col0\" >0</td>\n",
       "                        <td id=\"T_5c842fd8_8aa0_11ea_817b_e4b318d1ebddrow0_col1\" class=\"data row0 col1\" >A</td>\n",
       "                        <td id=\"T_5c842fd8_8aa0_11ea_817b_e4b318d1ebddrow0_col2\" class=\"data row0 col2\" >A</td>\n",
       "                        <td id=\"T_5c842fd8_8aa0_11ea_817b_e4b318d1ebddrow0_col3\" class=\"data row0 col3\" >1906</td>\n",
       "                        <td id=\"T_5c842fd8_8aa0_11ea_817b_e4b318d1ebddrow0_col4\" class=\"data row0 col4\" >248</td>\n",
       "                        <td id=\"T_5c842fd8_8aa0_11ea_817b_e4b318d1ebddrow0_col5\" class=\"data row0 col5\" >1</td>\n",
       "                        <td id=\"T_5c842fd8_8aa0_11ea_817b_e4b318d1ebddrow0_col6\" class=\"data row0 col6\" >0</td>\n",
       "                        <td id=\"T_5c842fd8_8aa0_11ea_817b_e4b318d1ebddrow0_col7\" class=\"data row0 col7\" >protein</td>\n",
       "                        <td id=\"T_5c842fd8_8aa0_11ea_817b_e4b318d1ebddrow0_col8\" class=\"data row0 col8\" >0</td>\n",
       "                        <td id=\"T_5c842fd8_8aa0_11ea_817b_e4b318d1ebddrow0_col9\" class=\"data row0 col9\" >TRIOSEPHOSPHATE ISOMERASE</td>\n",
       "            </tr>\n",
       "            <tr>\n",
       "                                <td id=\"T_5c842fd8_8aa0_11ea_817b_e4b318d1ebddrow1_col0\" class=\"data row1 col0\" >1</td>\n",
       "                        <td id=\"T_5c842fd8_8aa0_11ea_817b_e4b318d1ebddrow1_col1\" class=\"data row1 col1\" >B</td>\n",
       "                        <td id=\"T_5c842fd8_8aa0_11ea_817b_e4b318d1ebddrow1_col2\" class=\"data row1 col2\" >B</td>\n",
       "                        <td id=\"T_5c842fd8_8aa0_11ea_817b_e4b318d1ebddrow1_col3\" class=\"data row1 col3\" >1912</td>\n",
       "                        <td id=\"T_5c842fd8_8aa0_11ea_817b_e4b318d1ebddrow1_col4\" class=\"data row1 col4\" >249</td>\n",
       "                        <td id=\"T_5c842fd8_8aa0_11ea_817b_e4b318d1ebddrow1_col5\" class=\"data row1 col5\" >1</td>\n",
       "                        <td id=\"T_5c842fd8_8aa0_11ea_817b_e4b318d1ebddrow1_col6\" class=\"data row1 col6\" >0</td>\n",
       "                        <td id=\"T_5c842fd8_8aa0_11ea_817b_e4b318d1ebddrow1_col7\" class=\"data row1 col7\" >protein</td>\n",
       "                        <td id=\"T_5c842fd8_8aa0_11ea_817b_e4b318d1ebddrow1_col8\" class=\"data row1 col8\" >0</td>\n",
       "                        <td id=\"T_5c842fd8_8aa0_11ea_817b_e4b318d1ebddrow1_col9\" class=\"data row1 col9\" >TRIOSEPHOSPHATE ISOMERASE</td>\n",
       "            </tr>\n",
       "            <tr>\n",
       "                                <td id=\"T_5c842fd8_8aa0_11ea_817b_e4b318d1ebddrow2_col0\" class=\"data row2 col0\" >2</td>\n",
       "                        <td id=\"T_5c842fd8_8aa0_11ea_817b_e4b318d1ebddrow2_col1\" class=\"data row2 col1\" >C</td>\n",
       "                        <td id=\"T_5c842fd8_8aa0_11ea_817b_e4b318d1ebddrow2_col2\" class=\"data row2 col2\" >A</td>\n",
       "                        <td id=\"T_5c842fd8_8aa0_11ea_817b_e4b318d1ebddrow2_col3\" class=\"data row2 col3\" >73</td>\n",
       "                        <td id=\"T_5c842fd8_8aa0_11ea_817b_e4b318d1ebddrow2_col4\" class=\"data row2 col4\" >73</td>\n",
       "                        <td id=\"T_5c842fd8_8aa0_11ea_817b_e4b318d1ebddrow2_col5\" class=\"data row2 col5\" >73</td>\n",
       "                        <td id=\"T_5c842fd8_8aa0_11ea_817b_e4b318d1ebddrow2_col6\" class=\"data row2 col6\" >[ 1  2  3 ... 71 72 73]</td>\n",
       "                        <td id=\"T_5c842fd8_8aa0_11ea_817b_e4b318d1ebddrow2_col7\" class=\"data row2 col7\" >['water' 'water' 'water' ... 'water' 'water' 'water']</td>\n",
       "                        <td id=\"T_5c842fd8_8aa0_11ea_817b_e4b318d1ebddrow2_col8\" class=\"data row2 col8\" >1</td>\n",
       "                        <td id=\"T_5c842fd8_8aa0_11ea_817b_e4b318d1ebddrow2_col9\" class=\"data row2 col9\" >water</td>\n",
       "            </tr>\n",
       "            <tr>\n",
       "                                <td id=\"T_5c842fd8_8aa0_11ea_817b_e4b318d1ebddrow3_col0\" class=\"data row3 col0\" >3</td>\n",
       "                        <td id=\"T_5c842fd8_8aa0_11ea_817b_e4b318d1ebddrow3_col1\" class=\"data row3 col1\" >D</td>\n",
       "                        <td id=\"T_5c842fd8_8aa0_11ea_817b_e4b318d1ebddrow3_col2\" class=\"data row3 col2\" >B</td>\n",
       "                        <td id=\"T_5c842fd8_8aa0_11ea_817b_e4b318d1ebddrow3_col3\" class=\"data row3 col3\" >92</td>\n",
       "                        <td id=\"T_5c842fd8_8aa0_11ea_817b_e4b318d1ebddrow3_col4\" class=\"data row3 col4\" >92</td>\n",
       "                        <td id=\"T_5c842fd8_8aa0_11ea_817b_e4b318d1ebddrow3_col5\" class=\"data row3 col5\" >92</td>\n",
       "                        <td id=\"T_5c842fd8_8aa0_11ea_817b_e4b318d1ebddrow3_col6\" class=\"data row3 col6\" >[ 74  75  76 ... 163 164 165]</td>\n",
       "                        <td id=\"T_5c842fd8_8aa0_11ea_817b_e4b318d1ebddrow3_col7\" class=\"data row3 col7\" >['water' 'water' 'water' ... 'water' 'water' 'water']</td>\n",
       "                        <td id=\"T_5c842fd8_8aa0_11ea_817b_e4b318d1ebddrow3_col8\" class=\"data row3 col8\" >1</td>\n",
       "                        <td id=\"T_5c842fd8_8aa0_11ea_817b_e4b318d1ebddrow3_col9\" class=\"data row3 col9\" >water</td>\n",
       "            </tr>\n",
       "    </tbody></table>"
      ],
      "text/plain": [
       "<pandas.io.formats.style.Styler at 0x7f17c2ad32d0>"
      ]
     },
     "execution_count": 21,
     "metadata": {},
     "output_type": "execute_result"
    }
   ],
   "source": [
    "msm.info(molecular_system, target='chain')"
   ]
  },
  {
   "cell_type": "code",
   "execution_count": 23,
   "metadata": {},
   "outputs": [
    {
     "data": {
      "text/html": [
       "<style  type=\"text/css\" >\n",
       "</style><table id=\"T_e6e04482_8aa0_11ea_817b_e4b318d1ebdd\" ><thead>    <tr>        <th class=\"col_heading level0 col0\" >index</th>        <th class=\"col_heading level0 col1\" >n atoms</th>        <th class=\"col_heading level0 col2\" >n groups</th>        <th class=\"col_heading level0 col3\" >chain index</th>        <th class=\"col_heading level0 col4\" >molecule index</th>        <th class=\"col_heading level0 col5\" >molecule type</th>        <th class=\"col_heading level0 col6\" >entity index</th>        <th class=\"col_heading level0 col7\" >entity name</th>    </tr></thead><tbody>\n",
       "                <tr>\n",
       "                                <td id=\"T_e6e04482_8aa0_11ea_817b_e4b318d1ebddrow0_col0\" class=\"data row0 col0\" >0</td>\n",
       "                        <td id=\"T_e6e04482_8aa0_11ea_817b_e4b318d1ebddrow0_col1\" class=\"data row0 col1\" >1906</td>\n",
       "                        <td id=\"T_e6e04482_8aa0_11ea_817b_e4b318d1ebddrow0_col2\" class=\"data row0 col2\" >248</td>\n",
       "                        <td id=\"T_e6e04482_8aa0_11ea_817b_e4b318d1ebddrow0_col3\" class=\"data row0 col3\" >0</td>\n",
       "                        <td id=\"T_e6e04482_8aa0_11ea_817b_e4b318d1ebddrow0_col4\" class=\"data row0 col4\" >0</td>\n",
       "                        <td id=\"T_e6e04482_8aa0_11ea_817b_e4b318d1ebddrow0_col5\" class=\"data row0 col5\" >protein</td>\n",
       "                        <td id=\"T_e6e04482_8aa0_11ea_817b_e4b318d1ebddrow0_col6\" class=\"data row0 col6\" >0</td>\n",
       "                        <td id=\"T_e6e04482_8aa0_11ea_817b_e4b318d1ebddrow0_col7\" class=\"data row0 col7\" >TRIOSEPHOSPHATE ISOMERASE</td>\n",
       "            </tr>\n",
       "            <tr>\n",
       "                                <td id=\"T_e6e04482_8aa0_11ea_817b_e4b318d1ebddrow1_col0\" class=\"data row1 col0\" >1</td>\n",
       "                        <td id=\"T_e6e04482_8aa0_11ea_817b_e4b318d1ebddrow1_col1\" class=\"data row1 col1\" >1912</td>\n",
       "                        <td id=\"T_e6e04482_8aa0_11ea_817b_e4b318d1ebddrow1_col2\" class=\"data row1 col2\" >249</td>\n",
       "                        <td id=\"T_e6e04482_8aa0_11ea_817b_e4b318d1ebddrow1_col3\" class=\"data row1 col3\" >1</td>\n",
       "                        <td id=\"T_e6e04482_8aa0_11ea_817b_e4b318d1ebddrow1_col4\" class=\"data row1 col4\" >0</td>\n",
       "                        <td id=\"T_e6e04482_8aa0_11ea_817b_e4b318d1ebddrow1_col5\" class=\"data row1 col5\" >protein</td>\n",
       "                        <td id=\"T_e6e04482_8aa0_11ea_817b_e4b318d1ebddrow1_col6\" class=\"data row1 col6\" >0</td>\n",
       "                        <td id=\"T_e6e04482_8aa0_11ea_817b_e4b318d1ebddrow1_col7\" class=\"data row1 col7\" >TRIOSEPHOSPHATE ISOMERASE</td>\n",
       "            </tr>\n",
       "    </tbody></table>"
      ],
      "text/plain": [
       "<pandas.io.formats.style.Styler at 0x7f17c29b2d50>"
      ]
     },
     "execution_count": 23,
     "metadata": {},
     "output_type": "execute_result"
    }
   ],
   "source": [
    "msm.info(molecular_system, target='component', selection='molecule.type!=\"water\"')"
   ]
  },
  {
   "cell_type": "code",
   "execution_count": 24,
   "metadata": {},
   "outputs": [
    {
     "data": {
      "text/html": [
       "<style  type=\"text/css\" >\n",
       "</style><table id=\"T_ea757450_8aa0_11ea_817b_e4b318d1ebdd\" ><thead>    <tr>        <th class=\"col_heading level0 col0\" >index</th>        <th class=\"col_heading level0 col1\" >name</th>        <th class=\"col_heading level0 col2\" >type</th>        <th class=\"col_heading level0 col3\" >n atoms</th>        <th class=\"col_heading level0 col4\" >n groups</th>        <th class=\"col_heading level0 col5\" >n components</th>        <th class=\"col_heading level0 col6\" >chain index</th>        <th class=\"col_heading level0 col7\" >entity index</th>        <th class=\"col_heading level0 col8\" >entity name</th>    </tr></thead><tbody>\n",
       "                <tr>\n",
       "                                <td id=\"T_ea757450_8aa0_11ea_817b_e4b318d1ebddrow0_col0\" class=\"data row0 col0\" >0</td>\n",
       "                        <td id=\"T_ea757450_8aa0_11ea_817b_e4b318d1ebddrow0_col1\" class=\"data row0 col1\" >TRIOSEPHOSPHATE ISOMERASE</td>\n",
       "                        <td id=\"T_ea757450_8aa0_11ea_817b_e4b318d1ebddrow0_col2\" class=\"data row0 col2\" >protein</td>\n",
       "                        <td id=\"T_ea757450_8aa0_11ea_817b_e4b318d1ebddrow0_col3\" class=\"data row0 col3\" >3818</td>\n",
       "                        <td id=\"T_ea757450_8aa0_11ea_817b_e4b318d1ebddrow0_col4\" class=\"data row0 col4\" >497</td>\n",
       "                        <td id=\"T_ea757450_8aa0_11ea_817b_e4b318d1ebddrow0_col5\" class=\"data row0 col5\" >2</td>\n",
       "                        <td id=\"T_ea757450_8aa0_11ea_817b_e4b318d1ebddrow0_col6\" class=\"data row0 col6\" >[0 1]</td>\n",
       "                        <td id=\"T_ea757450_8aa0_11ea_817b_e4b318d1ebddrow0_col7\" class=\"data row0 col7\" >0</td>\n",
       "                        <td id=\"T_ea757450_8aa0_11ea_817b_e4b318d1ebddrow0_col8\" class=\"data row0 col8\" >TRIOSEPHOSPHATE ISOMERASE</td>\n",
       "            </tr>\n",
       "    </tbody></table>"
      ],
      "text/plain": [
       "<pandas.io.formats.style.Styler at 0x7f17c43bce50>"
      ]
     },
     "execution_count": 24,
     "metadata": {},
     "output_type": "execute_result"
    }
   ],
   "source": [
    "msm.info(molecular_system, target='molecule', selection='molecule.type!=\"water\"')"
   ]
  },
  {
   "cell_type": "code",
   "execution_count": 25,
   "metadata": {},
   "outputs": [
    {
     "data": {
      "text/html": [
       "<style  type=\"text/css\" >\n",
       "</style><table id=\"T_3d385e1e_8aa1_11ea_817b_e4b318d1ebdd\" ><thead>    <tr>        <th class=\"col_heading level0 col0\" >index</th>        <th class=\"col_heading level0 col1\" >name</th>        <th class=\"col_heading level0 col2\" >type</th>        <th class=\"col_heading level0 col3\" >n atoms</th>        <th class=\"col_heading level0 col4\" >n groups</th>        <th class=\"col_heading level0 col5\" >n components</th>        <th class=\"col_heading level0 col6\" >n chains</th>        <th class=\"col_heading level0 col7\" >n molecules</th>    </tr></thead><tbody>\n",
       "                <tr>\n",
       "                                <td id=\"T_3d385e1e_8aa1_11ea_817b_e4b318d1ebddrow0_col0\" class=\"data row0 col0\" >0</td>\n",
       "                        <td id=\"T_3d385e1e_8aa1_11ea_817b_e4b318d1ebddrow0_col1\" class=\"data row0 col1\" >TRIOSEPHOSPHATE ISOMERASE</td>\n",
       "                        <td id=\"T_3d385e1e_8aa1_11ea_817b_e4b318d1ebddrow0_col2\" class=\"data row0 col2\" >protein</td>\n",
       "                        <td id=\"T_3d385e1e_8aa1_11ea_817b_e4b318d1ebddrow0_col3\" class=\"data row0 col3\" >3818</td>\n",
       "                        <td id=\"T_3d385e1e_8aa1_11ea_817b_e4b318d1ebddrow0_col4\" class=\"data row0 col4\" >497</td>\n",
       "                        <td id=\"T_3d385e1e_8aa1_11ea_817b_e4b318d1ebddrow0_col5\" class=\"data row0 col5\" >2</td>\n",
       "                        <td id=\"T_3d385e1e_8aa1_11ea_817b_e4b318d1ebddrow0_col6\" class=\"data row0 col6\" >2</td>\n",
       "                        <td id=\"T_3d385e1e_8aa1_11ea_817b_e4b318d1ebddrow0_col7\" class=\"data row0 col7\" >1</td>\n",
       "            </tr>\n",
       "            <tr>\n",
       "                                <td id=\"T_3d385e1e_8aa1_11ea_817b_e4b318d1ebddrow1_col0\" class=\"data row1 col0\" >1</td>\n",
       "                        <td id=\"T_3d385e1e_8aa1_11ea_817b_e4b318d1ebddrow1_col1\" class=\"data row1 col1\" >water</td>\n",
       "                        <td id=\"T_3d385e1e_8aa1_11ea_817b_e4b318d1ebddrow1_col2\" class=\"data row1 col2\" >water</td>\n",
       "                        <td id=\"T_3d385e1e_8aa1_11ea_817b_e4b318d1ebddrow1_col3\" class=\"data row1 col3\" >165</td>\n",
       "                        <td id=\"T_3d385e1e_8aa1_11ea_817b_e4b318d1ebddrow1_col4\" class=\"data row1 col4\" >165</td>\n",
       "                        <td id=\"T_3d385e1e_8aa1_11ea_817b_e4b318d1ebddrow1_col5\" class=\"data row1 col5\" >165</td>\n",
       "                        <td id=\"T_3d385e1e_8aa1_11ea_817b_e4b318d1ebddrow1_col6\" class=\"data row1 col6\" >2</td>\n",
       "                        <td id=\"T_3d385e1e_8aa1_11ea_817b_e4b318d1ebddrow1_col7\" class=\"data row1 col7\" >165</td>\n",
       "            </tr>\n",
       "    </tbody></table>"
      ],
      "text/plain": [
       "<pandas.io.formats.style.Styler at 0x7f17c29b2110>"
      ]
     },
     "execution_count": 25,
     "metadata": {},
     "output_type": "execute_result"
    }
   ],
   "source": [
    "msm.info(molecular_system, target='entity')"
   ]
  },
  {
   "cell_type": "code",
   "execution_count": 26,
   "metadata": {},
   "outputs": [
    {
     "data": {
      "text/html": [
       "<style  type=\"text/css\" >\n",
       "</style><table id=\"T_a56ce4e6_8aa1_11ea_817b_e4b318d1ebdd\" ><thead>    <tr>        <th class=\"col_heading level0 col0\" >form</th>        <th class=\"col_heading level0 col1\" >n atoms</th>        <th class=\"col_heading level0 col2\" >n groups</th>        <th class=\"col_heading level0 col3\" >n components</th>        <th class=\"col_heading level0 col4\" >n chains</th>        <th class=\"col_heading level0 col5\" >n molecules</th>        <th class=\"col_heading level0 col6\" >n entities</th>        <th class=\"col_heading level0 col7\" >n waters</th>        <th class=\"col_heading level0 col8\" >n proteins</th>        <th class=\"col_heading level0 col9\" >n frames</th>    </tr></thead><tbody>\n",
       "                <tr>\n",
       "                                <td id=\"T_a56ce4e6_8aa1_11ea_817b_e4b318d1ebddrow0_col0\" class=\"data row0 col0\" >molsysmt.MolSys</td>\n",
       "                        <td id=\"T_a56ce4e6_8aa1_11ea_817b_e4b318d1ebddrow0_col1\" class=\"data row0 col1\" >3983</td>\n",
       "                        <td id=\"T_a56ce4e6_8aa1_11ea_817b_e4b318d1ebddrow0_col2\" class=\"data row0 col2\" >662</td>\n",
       "                        <td id=\"T_a56ce4e6_8aa1_11ea_817b_e4b318d1ebddrow0_col3\" class=\"data row0 col3\" >167</td>\n",
       "                        <td id=\"T_a56ce4e6_8aa1_11ea_817b_e4b318d1ebddrow0_col4\" class=\"data row0 col4\" >4</td>\n",
       "                        <td id=\"T_a56ce4e6_8aa1_11ea_817b_e4b318d1ebddrow0_col5\" class=\"data row0 col5\" >166</td>\n",
       "                        <td id=\"T_a56ce4e6_8aa1_11ea_817b_e4b318d1ebddrow0_col6\" class=\"data row0 col6\" >2</td>\n",
       "                        <td id=\"T_a56ce4e6_8aa1_11ea_817b_e4b318d1ebddrow0_col7\" class=\"data row0 col7\" >165</td>\n",
       "                        <td id=\"T_a56ce4e6_8aa1_11ea_817b_e4b318d1ebddrow0_col8\" class=\"data row0 col8\" >1</td>\n",
       "                        <td id=\"T_a56ce4e6_8aa1_11ea_817b_e4b318d1ebddrow0_col9\" class=\"data row0 col9\" >1</td>\n",
       "            </tr>\n",
       "    </tbody></table>"
      ],
      "text/plain": [
       "<pandas.io.formats.style.Styler at 0x7f17c35452d0>"
      ]
     },
     "execution_count": 26,
     "metadata": {},
     "output_type": "execute_result"
    }
   ],
   "source": [
    "msm.info(molecular_system)"
   ]
  },
  {
   "cell_type": "code",
   "execution_count": null,
   "metadata": {},
   "outputs": [],
   "source": []
  }
 ],
 "metadata": {
  "kernelspec": {
   "display_name": "Python 3",
   "language": "python",
   "name": "python3"
  },
  "language_info": {
   "codemirror_mode": {
    "name": "ipython",
    "version": 3
   },
   "file_extension": ".py",
   "mimetype": "text/x-python",
   "name": "python",
   "nbconvert_exporter": "python",
   "pygments_lexer": "ipython3",
   "version": "3.7.6"
  }
 },
 "nbformat": 4,
 "nbformat_minor": 4
}
