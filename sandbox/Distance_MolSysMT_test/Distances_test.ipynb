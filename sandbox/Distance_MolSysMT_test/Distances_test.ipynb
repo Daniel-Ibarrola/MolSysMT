{
 "cells": [
  {
   "cell_type": "code",
   "execution_count": 1,
   "metadata": {},
   "outputs": [],
   "source": [
    "%load_ext autoreload\n",
    "%autoreload 2"
   ]
  },
  {
   "cell_type": "code",
   "execution_count": 2,
   "metadata": {},
   "outputs": [
    {
     "data": {
      "application/vnd.jupyter.widget-view+json": {
       "model_id": "5a1f31cd27724a81ac872bbd49aeb299",
       "version_major": 2,
       "version_minor": 0
      },
      "text/plain": [
       "_ColormakerRegistry()"
      ]
     },
     "metadata": {},
     "output_type": "display_data"
    }
   ],
   "source": [
    "import molsysmt as msm\n",
    "import numpy as np\n",
    "from simtk import unit\n",
    "import matplotlib.pyplot as plt"
   ]
  },
  {
   "cell_type": "code",
   "execution_count": 3,
   "metadata": {},
   "outputs": [],
   "source": [
    "molecular_system = np.zeros([6,3], dtype='float64') * unit.nanometers"
   ]
  },
  {
   "cell_type": "code",
   "execution_count": 4,
   "metadata": {},
   "outputs": [
    {
     "data": {
      "text/plain": [
       "'XYZ'"
      ]
     },
     "execution_count": 4,
     "metadata": {},
     "output_type": "execute_result"
    }
   ],
   "source": [
    "msm.get(molecular_system, target='system', form=True)"
   ]
  },
  {
   "cell_type": "code",
   "execution_count": 5,
   "metadata": {},
   "outputs": [
    {
     "data": {
      "text/plain": [
       "[1, 6]"
      ]
     },
     "execution_count": 5,
     "metadata": {},
     "output_type": "execute_result"
    }
   ],
   "source": [
    "msm.get(molecular_system, n_frames=True, n_atoms=True)"
   ]
  },
  {
   "cell_type": "code",
   "execution_count": 6,
   "metadata": {},
   "outputs": [],
   "source": [
    "# Molecular system A with three atoms and three frames.\n",
    "\n",
    "molecular_system_A = np.zeros([3,3,3], dtype='float64') * unit.nanometers\n",
    "\n",
    "## First atom\n",
    "molecular_system_A[0,0,:] = [0, 2, -1] * unit.nanometers\n",
    "molecular_system_A[1,0,:] = [1, 2, -1] * unit.nanometers\n",
    "molecular_system_A[2,0,:] = [0, 2, -1] * unit.nanometers\n",
    "\n",
    "## Second atom\n",
    "molecular_system_A[0,1,:] = [-1, 1, 1] * unit.nanometers\n",
    "molecular_system_A[1,1,:] = [-1, 0, 1] * unit.nanometers\n",
    "molecular_system_A[2,1,:] = [0, 0, 1] * unit.nanometers\n",
    "\n",
    "## Third atom\n",
    "molecular_system_A[0,2,:] = [-2, 0, 1] * unit.nanometers\n",
    "molecular_system_A[1,2,:] = [-2, 0, 0] * unit.nanometers\n",
    "molecular_system_A[2,2,:] = [-1, 1, 0] * unit.nanometers\n",
    "\n",
    "\n",
    "\n",
    "# Molecular system B with two atoms and three frames.\n",
    "\n",
    "molecular_system_B = np.zeros([3,2,3], dtype='float64') * unit.nanometers\n",
    "\n",
    "## First atom of B\n",
    "molecular_system_B[0,0,:] = [4, -2, 0] * unit.nanometers\n",
    "molecular_system_B[1,0,:] = [5, -2, -1] * unit.nanometers\n",
    "molecular_system_B[2,0,:] = [5, -2, 0] * unit.nanometers\n",
    "\n",
    "## Second atom of B\n",
    "molecular_system_B[0,1,:] = [3, 0, -1] * unit.nanometers\n",
    "molecular_system_B[1,1,:] = [3, 1, 0] * unit.nanometers\n",
    "molecular_system_B[2,1,:] = [4, 1, 1] * unit.nanometers"
   ]
  },
  {
   "cell_type": "markdown",
   "metadata": {},
   "source": [
    "- Obtener la distancia entre todos los puntos de un sistema en cada cuadro:"
   ]
  },
  {
   "cell_type": "code",
   "execution_count": 7,
   "metadata": {},
   "outputs": [],
   "source": [
    "distances = msm.distance(molecular_system_A)"
   ]
  },
  {
   "cell_type": "code",
   "execution_count": 8,
   "metadata": {},
   "outputs": [
    {
     "data": {
      "text/plain": [
       "(3, 3, 3)"
      ]
     },
     "execution_count": 8,
     "metadata": {},
     "output_type": "execute_result"
    }
   ],
   "source": [
    "distances.shape"
   ]
  },
  {
   "cell_type": "markdown",
   "metadata": {},
   "source": [
    "Imprimir la distancia entre el 0º y el 2º átomo en el cuadro 1º:"
   ]
  },
  {
   "cell_type": "code",
   "execution_count": 9,
   "metadata": {},
   "outputs": [
    {
     "name": "stdout",
     "output_type": "stream",
     "text": [
      "Distance at frame 1-th between atoms 0-th and 2-th: 3.7416573867739413 nm\n"
     ]
    }
   ],
   "source": [
    "print('Distance at frame 1-th between atoms 0-th and 2-th: {}'.format(distances[1,0,2]))"
   ]
  },
  {
   "cell_type": "markdown",
   "metadata": {},
   "source": [
    "Distancia entre los átomos 0 y 2 en cada cuadro:"
   ]
  },
  {
   "cell_type": "code",
   "execution_count": 10,
   "metadata": {},
   "outputs": [],
   "source": [
    "distances = msm.distance(molecular_system_A, selection_1=0, selection_2=2)"
   ]
  },
  {
   "cell_type": "code",
   "execution_count": 11,
   "metadata": {},
   "outputs": [
    {
     "data": {
      "text/plain": [
       "(3, 1, 1)"
      ]
     },
     "execution_count": 11,
     "metadata": {},
     "output_type": "execute_result"
    }
   ],
   "source": [
    "distances.shape"
   ]
  },
  {
   "cell_type": "code",
   "execution_count": 12,
   "metadata": {},
   "outputs": [
    {
     "name": "stdout",
     "output_type": "stream",
     "text": [
      "Distance at frame 0-th between atoms 0-th and 2-th: 3.4641016151377544 nm\n",
      "Distance at frame 1-th between atoms 0-th and 2-th: 3.7416573867739413 nm\n",
      "Distance at frame 2-th between atoms 0-th and 2-th: 1.7320508075688772 nm\n"
     ]
    }
   ],
   "source": [
    "for ii in range(3):\n",
    "    print('Distance at frame {}-th between atoms 0-th and 2-th: {}'.format(ii,distances[ii,0,0]))"
   ]
  },
  {
   "cell_type": "markdown",
   "metadata": {},
   "source": [
    "Obtener la distancia entre el átomo 1º y los átomos 0º y 2º en cada cuadro:"
   ]
  },
  {
   "cell_type": "code",
   "execution_count": 13,
   "metadata": {},
   "outputs": [],
   "source": [
    "distances = msm.distance(molecular_system_A, selection_1=1, selection_2=[0,2])"
   ]
  },
  {
   "cell_type": "code",
   "execution_count": 14,
   "metadata": {},
   "outputs": [
    {
     "data": {
      "text/plain": [
       "(3, 1, 2)"
      ]
     },
     "execution_count": 14,
     "metadata": {},
     "output_type": "execute_result"
    }
   ],
   "source": [
    "distances.shape"
   ]
  },
  {
   "cell_type": "markdown",
   "metadata": {},
   "source": [
    "Imprimir la distancia entre los átomos 1º y 2º para el cuadro 0º:"
   ]
  },
  {
   "cell_type": "code",
   "execution_count": 15,
   "metadata": {},
   "outputs": [
    {
     "name": "stdout",
     "output_type": "stream",
     "text": [
      "Distance at frame 0-th between atoms 1-th and 2-th: 1.4142135623730951 nm\n"
     ]
    }
   ],
   "source": [
    "print('Distance at frame 0-th between atoms 1-th and 2-th: {}'.format(distances[0,0,1]))"
   ]
  },
  {
   "cell_type": "markdown",
   "metadata": {},
   "source": [
    "Utilizar los índices atómicos originales para localizar una distancia:"
   ]
  },
  {
   "cell_type": "code",
   "execution_count": 16,
   "metadata": {},
   "outputs": [],
   "source": [
    "distances = msm.distance(molecular_system_A, selection_1=1, selection_2=[0,2], output_form='dict')"
   ]
  },
  {
   "cell_type": "code",
   "execution_count": 17,
   "metadata": {},
   "outputs": [
    {
     "data": {
      "text/plain": [
       "dict_keys([1])"
      ]
     },
     "execution_count": 17,
     "metadata": {},
     "output_type": "execute_result"
    }
   ],
   "source": [
    "distances.keys()"
   ]
  },
  {
   "cell_type": "code",
   "execution_count": 18,
   "metadata": {},
   "outputs": [
    {
     "data": {
      "text/plain": [
       "dict_keys([0, 2])"
      ]
     },
     "execution_count": 18,
     "metadata": {},
     "output_type": "execute_result"
    }
   ],
   "source": [
    "distances[1].keys()"
   ]
  },
  {
   "cell_type": "markdown",
   "metadata": {},
   "source": [
    "...la distancia ahora entre los átomos 0 y 2 en el marco 1 es:"
   ]
  },
  {
   "cell_type": "code",
   "execution_count": 19,
   "metadata": {},
   "outputs": [
    {
     "name": "stdout",
     "output_type": "stream",
     "text": [
      "Distance at frame 0-th between atoms 1-th and 2-th: 1.4142135623730951 nm\n"
     ]
    }
   ],
   "source": [
    "print('Distance at frame 0-th between atoms 1-th and 2-th: {}'.format(distances[1][2][0]))"
   ]
  },
  {
   "cell_type": "code",
   "execution_count": 20,
   "metadata": {},
   "outputs": [],
   "source": [
    "distances = msm.distance(molecular_system_A, selection_1=1, selection_2=[0,2], frame_indices_1=[1,2])"
   ]
  },
  {
   "cell_type": "code",
   "execution_count": 21,
   "metadata": {},
   "outputs": [
    {
     "name": "stdout",
     "output_type": "stream",
     "text": [
      "Distance at frame 2-th between atoms 1-th and 2-th: 1.7320508075688772 nm\n"
     ]
    }
   ],
   "source": [
    "print('Distance at frame 2-th between atoms 1-th and 2-th: {}'.format(distances[1,0,1]))"
   ]
  },
  {
   "cell_type": "code",
   "execution_count": 22,
   "metadata": {},
   "outputs": [],
   "source": [
    "distances = msm.distance(molecular_system_A, selection_1=1, selection_2=[0,2], frame_indices_1=[1,2], output_form='dict')"
   ]
  },
  {
   "cell_type": "code",
   "execution_count": 23,
   "metadata": {},
   "outputs": [
    {
     "name": "stdout",
     "output_type": "stream",
     "text": [
      "Distance at frame 2-th between atoms 1-th and 2-th: 1.7320508075688772 nm\n"
     ]
    }
   ],
   "source": [
    "print('Distance at frame 2-th between atoms 1-th and 2-th: {}'.format(distances[1][2][2]))"
   ]
  },
  {
   "cell_type": "markdown",
   "metadata": {},
   "source": [
    "- Distancia entre átomos de dos sistemas"
   ]
  },
  {
   "cell_type": "code",
   "execution_count": 24,
   "metadata": {},
   "outputs": [],
   "source": [
    "distances = msm.distance(item_1=molecular_system_A, item_2=molecular_system_B)"
   ]
  },
  {
   "cell_type": "code",
   "execution_count": 25,
   "metadata": {},
   "outputs": [
    {
     "data": {
      "text/plain": [
       "(3, 3, 2)"
      ]
     },
     "execution_count": 25,
     "metadata": {},
     "output_type": "execute_result"
    }
   ],
   "source": [
    "distances.shape"
   ]
  },
  {
   "cell_type": "code",
   "execution_count": 26,
   "metadata": {},
   "outputs": [
    {
     "name": "stdout",
     "output_type": "stream",
     "text": [
      "Distance at frame 0-th between atom 1-th of A and atom 0-th of B: 5.916079783099616 nm\n",
      "Distance at frame 1-th between atom 1-th of A and atom 0-th of B: 6.6332495807108 nm\n",
      "Distance at frame 2-th between atom 1-th of A and atom 0-th of B: 5.477225575051661 nm\n"
     ]
    }
   ],
   "source": [
    "for ii in range(3):\n",
    "    print('Distance at frame {}-th between atom 1-th of A and atom 0-th of B: {}'.format(ii,distances[ii,1,0]))"
   ]
  },
  {
   "cell_type": "markdown",
   "metadata": {},
   "source": [
    "Obtener la distancia solo entre el átomo 1-th de molecular_system_A y el átomo 0-th de molecular_system_B para cada cuadro:"
   ]
  },
  {
   "cell_type": "code",
   "execution_count": 27,
   "metadata": {},
   "outputs": [],
   "source": [
    "distances = msm.distance(item_1=molecular_system_A, selection_1=1, item_2=molecular_system_B, selection_2=0)"
   ]
  },
  {
   "cell_type": "code",
   "execution_count": 28,
   "metadata": {},
   "outputs": [
    {
     "data": {
      "text/plain": [
       "(3, 1, 1)"
      ]
     },
     "execution_count": 28,
     "metadata": {},
     "output_type": "execute_result"
    }
   ],
   "source": [
    "distances.shape"
   ]
  },
  {
   "cell_type": "code",
   "execution_count": 29,
   "metadata": {},
   "outputs": [
    {
     "name": "stdout",
     "output_type": "stream",
     "text": [
      "Distance at frame 0-th between atom 1-th of A and atom 0-th of B: 5.916079783099616 nm\n",
      "Distance at frame 1-th between atom 1-th of A and atom 0-th of B: 6.6332495807108 nm\n",
      "Distance at frame 2-th between atom 1-th of A and atom 0-th of B: 5.477225575051661 nm\n"
     ]
    }
   ],
   "source": [
    "for ii in range(3):\n",
    "    print('Distance at frame {}-th between atom 1-th of A and atom 0-th of B: {}'.format(ii,distances[ii,0,0]))"
   ]
  },
  {
   "cell_type": "code",
   "execution_count": 30,
   "metadata": {},
   "outputs": [],
   "source": [
    "distances = msm.distance(item_1=molecular_system_A, selection_1=1, frame_indices_1=1,\n",
    "                         item_2=molecular_system_B, selection_2=0, output_form='dict')"
   ]
  },
  {
   "cell_type": "code",
   "execution_count": 31,
   "metadata": {},
   "outputs": [
    {
     "name": "stdout",
     "output_type": "stream",
     "text": [
      "Distance at frame 1-th between atom 1-th of A and atom 0-th of B: 6.6332495807108 nm\n"
     ]
    }
   ],
   "source": [
    "print('Distance at frame 1-th between atom 1-th of A and atom 0-th of B: {}'.format(distances[1][0][1]))"
   ]
  },
  {
   "cell_type": "code",
   "execution_count": 32,
   "metadata": {},
   "outputs": [],
   "source": [
    "distances_1 = msm.distance(item_1=molecular_system_A, selection_1=[1,2], frame_indices_1=[0,2],\n",
    "                           item_2=molecular_system_B, selection_2=[0,1])"
   ]
  },
  {
   "cell_type": "code",
   "execution_count": 34,
   "metadata": {},
   "outputs": [],
   "source": [
    "distances_2 = msm.distance(item_1=molecular_system_A, selection_1=[1,2], frame_indices_1=[0,2],\n",
    "                           item_2=molecular_system_B, selection_2=[0,1], frame_indices_2=[0,2])"
   ]
  },
  {
   "cell_type": "code",
   "execution_count": 35,
   "metadata": {},
   "outputs": [
    {
     "data": {
      "text/plain": [
       "array([[[ True,  True],\n",
       "        [ True,  True]],\n",
       "\n",
       "       [[ True,  True],\n",
       "        [ True,  True]]])"
      ]
     },
     "execution_count": 35,
     "metadata": {},
     "output_type": "execute_result"
    }
   ],
   "source": [
    "distances_1 == distances_2"
   ]
  },
  {
   "cell_type": "code",
   "execution_count": 36,
   "metadata": {},
   "outputs": [
    {
     "name": "stdout",
     "output_type": "stream",
     "text": [
      "Distance at frame 2-th between atom 2-th of A and atom 1-th of B: 5.0990195135927845 nm\n"
     ]
    }
   ],
   "source": [
    "print('Distance at frame 2-th between atom 2-th of A and atom 1-th of B: {}'.format(distances_1[1,1,1]))"
   ]
  },
  {
   "cell_type": "code",
   "execution_count": null,
   "metadata": {},
   "outputs": [],
   "source": []
  }
 ],
 "metadata": {
  "kernelspec": {
   "display_name": "Python 3",
   "language": "python",
   "name": "python3"
  },
  "language_info": {
   "codemirror_mode": {
    "name": "ipython",
    "version": 3
   },
   "file_extension": ".py",
   "mimetype": "text/x-python",
   "name": "python",
   "nbconvert_exporter": "python",
   "pygments_lexer": "ipython3",
   "version": "3.7.7"
  }
 },
 "nbformat": 4,
 "nbformat_minor": 4
}
